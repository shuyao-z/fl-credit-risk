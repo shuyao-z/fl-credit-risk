{
 "cells": [
  {
   "cell_type": "code",
   "execution_count": 1,
   "metadata": {
    "collapsed": true,
    "ExecuteTime": {
     "end_time": "2023-08-30T22:14:24.368882Z",
     "start_time": "2023-08-30T22:13:15.636427600Z"
    }
   },
   "outputs": [
    {
     "name": "stderr",
     "output_type": "stream",
     "text": [
      "D:\\FD\\venv\\lib\\site-packages\\torchvision\\io\\image.py:13: UserWarning: Failed to load image Python extension: '[WinError 127] 找不到指定的程序。'If you don't plan on using image functionality from `torchvision.io`, you can ignore this warning. Otherwise, there might be something wrong with your environment. Did you have `libjpeg` or `libpng` installed before building `torchvision` from source?\n",
      "  warn(\n"
     ]
    }
   ],
   "source": [
    "import torch\n",
    "import datetime\n",
    "import os\n",
    "from sklearn.metrics import mean_squared_error, roc_auc_score, f1_score\n",
    "from fl_simu import lstm_simulation2"
   ]
  },
  {
   "cell_type": "code",
   "execution_count": 2,
   "outputs": [
    {
     "name": "stdout",
     "output_type": "stream",
     "text": [
      "main2_lstm_federated\n"
     ]
    }
   ],
   "source": [
    "print('main2_lstm_federated')"
   ],
   "metadata": {
    "collapsed": false,
    "ExecuteTime": {
     "end_time": "2023-08-30T22:16:09.701637700Z",
     "start_time": "2023-08-30T22:16:09.525425200Z"
    }
   }
  },
  {
   "cell_type": "code",
   "execution_count": 3,
   "outputs": [],
   "source": [
    "# Load data\n",
    "nts = torch.load('./dataset2/nts.pt')\n",
    "y = torch.load('./dataset2/y.pt')\n",
    "ts1 = torch.load('./dataset2/ts1.pt')\n",
    "ts2 = torch.load('./dataset2/ts2.pt')\n",
    "ts3 = torch.load('./dataset2/ts3.pt')\n",
    "ts4 = torch.load('./dataset2/ts4.pt')"
   ],
   "metadata": {
    "collapsed": false,
    "ExecuteTime": {
     "end_time": "2023-08-30T22:16:26.102004500Z",
     "start_time": "2023-08-30T22:16:11.452406300Z"
    }
   }
  },
  {
   "cell_type": "code",
   "execution_count": 4,
   "outputs": [],
   "source": [
    "def test(net, x_test, y_test):\n",
    "  with torch.no_grad():\n",
    "    y_pred = net(x_test)\n",
    "    y_pred = y_pred.detach().numpy()\n",
    "    y_test = y_test.detach().numpy()\n",
    "\n",
    "    mse = mean_squared_error(y_test, y_pred)\n",
    "    auc = roc_auc_score(y_test, y_pred)\n",
    "    return mse, auc"
   ],
   "metadata": {
    "collapsed": false,
    "ExecuteTime": {
     "end_time": "2023-08-30T22:16:28.962841700Z",
     "start_time": "2023-08-30T22:16:28.856123300Z"
    }
   }
  },
  {
   "cell_type": "code",
   "execution_count": 5,
   "outputs": [],
   "source": [
    "# Define LSTM FL simulation wrapper\n",
    "def run_lstm_simulation(split, nts_train, ts1_train, ts2_train, ts3_train, ts4_train, y_train, nts_test, ts1_test, ts2_test, ts3_test, ts4_test, y_test,dir='default', num_epoch=4, batch_size=128, num_rounds=5, dropout_rate=False):\n",
    "    return lstm_simulation2(split, nts_train, ts1_train, ts2_train, ts3_train, ts4_train, y_train, nts_test, ts1_test, ts2_test, ts3_test, ts4_test, y_test, dir, num_epoch, batch_size, num_rounds, dropout_rate)"
   ],
   "metadata": {
    "collapsed": false,
    "ExecuteTime": {
     "end_time": "2023-08-30T22:16:29.948242200Z",
     "start_time": "2023-08-30T22:16:29.792657100Z"
    }
   }
  },
  {
   "cell_type": "code",
   "execution_count": 6,
   "outputs": [],
   "source": [
    "from sklearn.model_selection import StratifiedKFold\n",
    "\n",
    "batch_size = 128\n",
    "\n",
    "def do_fl(splitting, nts=nts, y=y, ts1=ts1, ts2=ts2, ts3=ts3, ts4=ts4,num_rounds=10,num_epoch = 20):\n",
    "    mses = []\n",
    "    aucs = []\n",
    "\n",
    "    test_name = 'Dataset 2 LSTM'\n",
    "\n",
    "    directory_path = 'lstm_model_checkpoints2/' + test_name\n",
    "\n",
    "    if not os.path.exists(directory_path):\n",
    "        os.makedirs(directory_path)\n",
    "\n",
    "    start = datetime.datetime.now()\n",
    "\n",
    "    skf = StratifiedKFold(n_splits=5)\n",
    "    for fold_idx, (train_idx, test_idx) in enumerate(skf.split(nts, y)):\n",
    "        print(f\"Fold {fold_idx + 1}:\")\n",
    "\n",
    "        nts_train, nts_test = nts[train_idx], nts[test_idx]\n",
    "        y_train, y_test = y[train_idx], y[test_idx]\n",
    "        ts1_train = ts1[train_idx]\n",
    "        ts2_train = ts2[train_idx]\n",
    "        ts3_train = ts3[train_idx]\n",
    "        ts4_train = ts4[train_idx]\n",
    "        ts1_test = ts1[test_idx]\n",
    "        ts2_test = ts2[test_idx]\n",
    "        ts3_test = ts3[test_idx]\n",
    "        ts4_test = ts4[test_idx]\n",
    "\n",
    "        model_fl = run_lstm_simulation(splitting, nts_train, ts1_train, ts2_train, ts3_train, ts4_train, y_train, nts_test, ts1_test, ts2_test, ts3_test, ts4_test, y_test,test_name, num_epoch=num_epoch, num_rounds=num_rounds, batch_size=batch_size)\n",
    "\n",
    "        mse, auc = test(model_fl, (nts_test, ts1_test, ts2_test, ts3_test, ts4_test), y_test)\n",
    "        mses.append(mse)\n",
    "        aucs.append(auc)\n",
    "\n",
    "    end = datetime.datetime.now()\n",
    "    time = end - start\n",
    "\n",
    "    print('splitting:', splitting)\n",
    "    print('num_epochs', num_epoch)\n",
    "    print('num_rounds', num_rounds)\n",
    "    print('mse:', mse)\n",
    "    print('auc: ', auc)\n",
    "    print('Training time: ', time)"
   ],
   "metadata": {
    "collapsed": false,
    "ExecuteTime": {
     "end_time": "2023-08-30T22:16:31.032587Z",
     "start_time": "2023-08-30T22:16:30.788241400Z"
    }
   }
  },
  {
   "cell_type": "code",
   "execution_count": null,
   "outputs": [
    {
     "name": "stdout",
     "output_type": "stream",
     "text": [
      "Fold 1:\n"
     ]
    },
    {
     "name": "stderr",
     "output_type": "stream",
     "text": [
      "INFO flwr 2023-08-30 23:17:08,793 | app.py:145 | Starting Flower simulation, config: ServerConfig(num_rounds=1, round_timeout=None)\n"
     ]
    }
   ],
   "source": [
    "splitting = [0.5, 0.5]\n",
    "do_fl(splitting, num_rounds = 1)"
   ],
   "metadata": {
    "collapsed": false,
    "ExecuteTime": {
     "start_time": "2023-08-30T22:16:34.465308600Z"
    }
   }
  },
  {
   "cell_type": "code",
   "execution_count": null,
   "outputs": [],
   "source": [
    "# splitting = [0.6, 0.4]\n",
    "# do_fl(splitting,num_rounds = 10)"
   ],
   "metadata": {
    "collapsed": false
   }
  },
  {
   "cell_type": "code",
   "execution_count": null,
   "outputs": [],
   "source": [
    "# splitting = [0.9, 0.1]\n",
    "# do_fl(splitting,num_rounds = 10)"
   ],
   "metadata": {
    "collapsed": false
   }
  },
  {
   "cell_type": "code",
   "execution_count": null,
   "outputs": [],
   "source": [
    "# splitting = [0.2, 0.2, 0.2, 0.2, 0.2]\n",
    "# do_fl(splitting, num_rounds = 20)"
   ],
   "metadata": {
    "collapsed": false
   }
  },
  {
   "cell_type": "code",
   "execution_count": null,
   "outputs": [],
   "source": [
    "# splitting = [0.6, 0.1, 0.1, 0.1, 0.1]\n",
    "# do_fl(splitting, num_rounds = 20)"
   ],
   "metadata": {
    "collapsed": false
   }
  },
  {
   "cell_type": "code",
   "execution_count": null,
   "outputs": [],
   "source": [
    "# splitting = [0.8, 0.05, 0.05, 0.05, 0.05]\n",
    "# do_fl(splitting, num_rounds = 20)"
   ],
   "metadata": {
    "collapsed": false
   }
  },
  {
   "cell_type": "code",
   "execution_count": null,
   "outputs": [],
   "source": [
    "# splitting = [0.1, 0.1, 0.1, 0.1, 0.1, 0.1, 0.1, 0.1, 0.1, 0.1]\n",
    "# do_fl(splitting,num_rounds = 20)"
   ],
   "metadata": {
    "collapsed": false
   }
  },
  {
   "cell_type": "code",
   "execution_count": null,
   "outputs": [],
   "source": [
    "# split = [0.6, 0.05, 0.05, 0.05, 0.05, 0.04, 0.04, 0.04, 0.04, 0.04]\n",
    "# do_fl(splitting,num_rounds = 20)"
   ],
   "metadata": {
    "collapsed": false
   }
  },
  {
   "cell_type": "code",
   "execution_count": null,
   "outputs": [],
   "source": [
    "# splitting = [0.8, 0.03, 0.03, 0.02, 0.02, 0.02, 0.02, 0.02, 0.02, 0.02]\n",
    "# do_fl(splitting,num_rounds = 20)"
   ],
   "metadata": {
    "collapsed": false
   }
  }
 ],
 "metadata": {
  "kernelspec": {
   "display_name": "Python 3",
   "language": "python",
   "name": "python3"
  },
  "language_info": {
   "codemirror_mode": {
    "name": "ipython",
    "version": 2
   },
   "file_extension": ".py",
   "mimetype": "text/x-python",
   "name": "python",
   "nbconvert_exporter": "python",
   "pygments_lexer": "ipython2",
   "version": "2.7.6"
  }
 },
 "nbformat": 4,
 "nbformat_minor": 0
}
