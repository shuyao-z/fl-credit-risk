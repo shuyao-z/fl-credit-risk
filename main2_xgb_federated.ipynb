{
 "cells": [
  {
   "cell_type": "code",
   "execution_count": 1,
   "metadata": {
    "collapsed": true,
    "ExecuteTime": {
     "end_time": "2023-09-01T00:11:16.980972800Z",
     "start_time": "2023-09-01T00:11:09.582690Z"
    }
   },
   "outputs": [
    {
     "name": "stderr",
     "output_type": "stream",
     "text": [
      "D:\\FD\\venv\\lib\\site-packages\\torchvision\\io\\image.py:13: UserWarning: Failed to load image Python extension: '[WinError 127] 找不到指定的程序。'If you don't plan on using image functionality from `torchvision.io`, you can ignore this warning. Otherwise, there might be something wrong with your environment. Did you have `libjpeg` or `libpng` installed before building `torchvision` from source?\n",
      "  warn(\n"
     ]
    }
   ],
   "source": [
    "import numpy as np\n",
    "import torch\n",
    "import datetime\n",
    "from fl_simu import start_experiment\n",
    "from trees import TreeDataset"
   ]
  },
  {
   "cell_type": "code",
   "execution_count": 2,
   "outputs": [
    {
     "name": "stdout",
     "output_type": "stream",
     "text": [
      "main2_xgb_federated\n"
     ]
    }
   ],
   "source": [
    "print('main2_xgb_federated')\n",
    "# Load data\n",
    "X = torch.load('./dataset2/X_mlp.pt')\n",
    "y = torch.load('./dataset2/y_mlp.pt')"
   ],
   "metadata": {
    "collapsed": false,
    "ExecuteTime": {
     "end_time": "2023-09-01T00:11:19.216614700Z",
     "start_time": "2023-09-01T00:11:17.091576Z"
    }
   }
  },
  {
   "cell_type": "code",
   "execution_count": 3,
   "outputs": [],
   "source": [
    "from sklearn.model_selection import StratifiedKFold\n",
    "\n",
    "def do_fl (split, X=X, y=y):\n",
    "    start = datetime.datetime.now()\n",
    "\n",
    "    kf = StratifiedKFold(n_splits=5, shuffle=True, random_state=42)\n",
    "    X = X.to_numpy()\n",
    "    y = y.to_numpy()\n",
    "    for fold_idx, (train_idx, test_idx) in enumerate(kf.split(X, y)):\n",
    "        print(f\"Fold {fold_idx + 1}:\")\n",
    "        X_train, X_test = X[train_idx], X[test_idx]\n",
    "        y_train, y_test = y[train_idx], y[test_idx]\n",
    "\n",
    "        X_train = torch.tensor(X_train)\n",
    "        X_test = torch.tensor(X_test)\n",
    "        y_train = torch.reshape(torch.tensor(y_train), (-1, 1))\n",
    "        y_test = torch.reshape(torch.tensor(y_test), (-1, 1))\n",
    "\n",
    "        y_train = y_train.numpy().flatten().copy()\n",
    "        y_test = y_test.numpy().flatten().copy()\n",
    "\n",
    "\n",
    "        trainset = TreeDataset(np.array(X_train, copy=True), np.array(y_train, copy=True))\n",
    "        testset = TreeDataset(np.array(X_test, copy=True), np.array(y_test, copy=True))\n",
    "\n",
    "        start_experiment(\n",
    "            split=split,\n",
    "            trainset=trainset,\n",
    "            testset=testset,\n",
    "            num_rounds=8,\n",
    "            client_tree_num=100,\n",
    "            client_pool_size=len(split),\n",
    "            num_iterations=1, # was 1\n",
    "            batch_size=64,\n",
    "            fraction_fit=0.5,\n",
    "            min_fit_clients=2,\n",
    "            val_ratio=0.0,\n",
    "            client_num=len(split),\n",
    "            lr=0.005, # was 0.05\n",
    "            colsample_bytree=1,\n",
    "            subsample=0.8,\n",
    "            max_depth=5,\n",
    "            min_child_weight=3\n",
    "        )\n",
    "\n",
    "    end = datetime.datetime.now()\n",
    "    time = end - start\n",
    "    print(split)\n",
    "    print('Training time', time)"
   ],
   "metadata": {
    "collapsed": false,
    "ExecuteTime": {
     "end_time": "2023-09-01T00:11:25.873008100Z",
     "start_time": "2023-09-01T00:11:25.844734700Z"
    }
   }
  },
  {
   "cell_type": "code",
   "execution_count": null,
   "outputs": [
    {
     "name": "stdout",
     "output_type": "stream",
     "text": [
      "Fold 1:\n",
      "torch.Size([123008, 120])\n",
      "torch.Size([226146, 120])\n",
      "torch.Size([226146, 120])\n",
      "torch.Size([226150, 120])\n",
      "Data partitioned across 2 clients and 0.0 of local dataset reserved for validation.\n",
      "FL experiment configured for 8 rounds with 2 client in the pool.\n",
      "FL round will proceed with 50.0% of clients sampled, at least 2.\n"
     ]
    },
    {
     "name": "stderr",
     "output_type": "stream",
     "text": [
      "WARNING flwr 2023-09-01 01:12:39,394 | app.py:210 | Both server and strategy were provided, ignoring strategy\n",
      "INFO flwr 2023-09-01 01:12:39,485 | app.py:145 | Starting Flower simulation, config: ServerConfig(num_rounds=8, round_timeout=None)\n",
      "2023-09-01 01:12:48,215\tINFO worker.py:1636 -- Started a local Ray instance.\n",
      "INFO flwr 2023-09-01 01:12:58,611 | app.py:179 | Flower VCE: Ray initialized with resources: {'object_store_memory': 481252147.0, 'node:127.0.0.1': 1.0, 'memory': 962504295.0, 'GPU': 1.0, 'CPU': 8.0}\n",
      "INFO flwr 2023-09-01 01:12:58,613 | fl_server.py:78 | fit num_rounds 8\n",
      "INFO flwr 2023-09-01 01:12:58,615 | fl_server.py:81 | Initializing global parameters\n",
      "INFO flwr 2023-09-01 01:12:58,617 | fl_server.py:287 | Requesting initial parameters from one random client\n",
      "\u001B[2m\u001B[33m(raylet)\u001B[0m --- Logging error ---\n",
      "\u001B[2m\u001B[33m(raylet)\u001B[0m Traceback (most recent call last):\n",
      "\u001B[2m\u001B[33m(raylet)\u001B[0m   File \"D:\\FD\\venv\\lib\\site-packages\\ray\\dashboard\\agent.py\", line 299, in run\n",
      "\u001B[2m\u001B[33m(raylet)\u001B[0m     self.http_server = await self._configure_http_server(modules)\n",
      "\u001B[2m\u001B[33m(raylet)\u001B[0m   File \"D:\\FD\\venv\\lib\\site-packages\\ray\\dashboard\\agent.py\", line 162, in _configure_http_server\n",
      "\u001B[2m\u001B[33m(raylet)\u001B[0m     await http_server.start(modules)\n",
      "\u001B[2m\u001B[33m(raylet)\u001B[0m   File \"D:\\FD\\venv\\lib\\site-packages\\ray\\dashboard\\http_server_agent.py\", line 69, in start\n",
      "\u001B[2m\u001B[33m(raylet)\u001B[0m     raise e\n",
      "\u001B[2m\u001B[33m(raylet)\u001B[0m   File \"D:\\FD\\venv\\lib\\site-packages\\ray\\dashboard\\http_server_agent.py\", line 62, in start\n",
      "\u001B[2m\u001B[33m(raylet)\u001B[0m     await site.start()\n",
      "\u001B[2m\u001B[33m(raylet)\u001B[0m   File \"D:\\FD\\venv\\lib\\site-packages\\aiohttp\\web_runner.py\", line 121, in start\n",
      "\u001B[2m\u001B[33m(raylet)\u001B[0m     self._server = await loop.create_server(\n",
      "\u001B[2m\u001B[33m(raylet)\u001B[0m   File \"C:\\Program Files\\WindowsApps\\PythonSoftwareFoundation.Python.3.10_3.10.3056.0_x64__qbz5n2kfra8p0\\lib\\asyncio\\base_events.py\", line 1519, in create_server\n",
      "\u001B[2m\u001B[33m(raylet)\u001B[0m     raise OSError(err.errno, 'error while attempting '\n",
      "\u001B[2m\u001B[33m(raylet)\u001B[0m OSError: [Errno 10048] error while attempting to bind on address ('127.0.0.1', 52365): \\u901a\\u5e38\\u6bcf\\u4e2a\\u5957\\u63a5\\u5b57\\u5730\\u5740(\\u534f\\u8bae/\\u7f51\\u7edc\\u5730\\u5740/\\u7aef\\u53e3)\\u53ea\\u5141\\u8bb8\\u4f7f\\u7528\\u4e00\\u6b21\\u3002\n",
      "\u001B[2m\u001B[33m(raylet)\u001B[0m \n",
      "\u001B[2m\u001B[33m(raylet)\u001B[0m During handling of the above exception, another exception occurred:\n",
      "\u001B[2m\u001B[33m(raylet)\u001B[0m \n",
      "\u001B[2m\u001B[33m(raylet)\u001B[0m Traceback (most recent call last):\n",
      "\u001B[2m\u001B[33m(raylet)\u001B[0m   File \"C:\\Program Files\\WindowsApps\\PythonSoftwareFoundation.Python.3.10_3.10.3056.0_x64__qbz5n2kfra8p0\\lib\\logging\\__init__.py\", line 1103, in emit\n",
      "\u001B[2m\u001B[33m(raylet)\u001B[0m     stream.write(msg + self.terminator)\n",
      "\u001B[2m\u001B[33m(raylet)\u001B[0m   File \"C:\\Program Files\\WindowsApps\\PythonSoftwareFoundation.Python.3.10_3.10.3056.0_x64__qbz5n2kfra8p0\\lib\\encodings\\cp1252.py\", line 19, in encode\n",
      "\u001B[2m\u001B[33m(raylet)\u001B[0m     return codecs.charmap_encode(input,self.errors,encoding_table)[0]\n",
      "\u001B[2m\u001B[33m(raylet)\u001B[0m UnicodeEncodeError: 'charmap' codec can't encode characters in position 1104-1112: character maps to <undefined>\n",
      "\u001B[2m\u001B[33m(raylet)\u001B[0m Call stack:\n",
      "\u001B[2m\u001B[33m(raylet)\u001B[0m   File \"D:\\FD\\venv\\lib\\site-packages\\ray\\dashboard\\agent.py\", line 544, in <module>\n",
      "\u001B[2m\u001B[33m(raylet)\u001B[0m     loop.run_until_complete(agent.run())\n",
      "\u001B[2m\u001B[33m(raylet)\u001B[0m   File \"C:\\Program Files\\WindowsApps\\PythonSoftwareFoundation.Python.3.10_3.10.3056.0_x64__qbz5n2kfra8p0\\lib\\asyncio\\base_events.py\", line 636, in run_until_complete\n",
      "\u001B[2m\u001B[33m(raylet)\u001B[0m     self.run_forever()\n",
      "\u001B[2m\u001B[33m(raylet)\u001B[0m   File \"C:\\Program Files\\WindowsApps\\PythonSoftwareFoundation.Python.3.10_3.10.3056.0_x64__qbz5n2kfra8p0\\lib\\asyncio\\windows_events.py\", line 321, in run_forever\n",
      "\u001B[2m\u001B[33m(raylet)\u001B[0m     super().run_forever()\n",
      "\u001B[2m\u001B[33m(raylet)\u001B[0m   File \"C:\\Program Files\\WindowsApps\\PythonSoftwareFoundation.Python.3.10_3.10.3056.0_x64__qbz5n2kfra8p0\\lib\\asyncio\\base_events.py\", line 603, in run_forever\n",
      "\u001B[2m\u001B[33m(raylet)\u001B[0m     self._run_once()\n",
      "\u001B[2m\u001B[33m(raylet)\u001B[0m   File \"C:\\Program Files\\WindowsApps\\PythonSoftwareFoundation.Python.3.10_3.10.3056.0_x64__qbz5n2kfra8p0\\lib\\asyncio\\base_events.py\", line 1909, in _run_once\n",
      "\u001B[2m\u001B[33m(raylet)\u001B[0m     handle._run()\n",
      "\u001B[2m\u001B[33m(raylet)\u001B[0m   File \"C:\\Program Files\\WindowsApps\\PythonSoftwareFoundation.Python.3.10_3.10.3056.0_x64__qbz5n2kfra8p0\\lib\\asyncio\\events.py\", line 80, in _run\n",
      "\u001B[2m\u001B[33m(raylet)\u001B[0m     self._context.run(self._callback, *self._args)\n",
      "\u001B[2m\u001B[33m(raylet)\u001B[0m   File \"D:\\FD\\venv\\lib\\site-packages\\ray\\dashboard\\agent.py\", line 304, in run\n",
      "\u001B[2m\u001B[33m(raylet)\u001B[0m     logger.exception(\n",
      "\u001B[2m\u001B[33m(raylet)\u001B[0m Message: 'Failed to start http server. Agent will stay alive but disable the http service.'\n",
      "\u001B[2m\u001B[33m(raylet)\u001B[0m Arguments: ()\n",
      "\u001B[2m\u001B[36m(launch_and_get_parameters pid=26960)\u001B[0m Windows fatal exception: code 0xc0000139\n",
      "\u001B[2m\u001B[36m(launch_and_get_parameters pid=26960)\u001B[0m \n",
      "\u001B[2m\u001B[36m(launch_and_get_parameters pid=26960)\u001B[0m Stack (most recent call first):\n",
      "\u001B[2m\u001B[36m(launch_and_get_parameters pid=26960)\u001B[0m   File \"C:\\Program Files\\WindowsApps\\PythonSoftwareFoundation.Python.3.10_3.10.3056.0_x64__qbz5n2kfra8p0\\lib\\ctypes\\__init__.py\", line 374 in __init__\n",
      "\u001B[2m\u001B[36m(launch_and_get_parameters pid=26960)\u001B[0m   File \"D:\\FD\\venv\\lib\\site-packages\\torch\\_ops.py\", line 573 in load_library\n",
      "\u001B[2m\u001B[36m(launch_and_get_parameters pid=26960)\u001B[0m   File \"D:\\FD\\venv\\lib\\site-packages\\torchvision\\extension.py\", line 36 in <module>\n",
      "\u001B[2m\u001B[36m(launch_and_get_parameters pid=26960)\u001B[0m   File \"<frozen importlib._bootstrap>\", line 241 in _call_with_frames_removed\n",
      "\u001B[2m\u001B[36m(launch_and_get_parameters pid=26960)\u001B[0m   File \"<frozen importlib._bootstrap_external>\", line 883 in exec_module\n",
      "\u001B[2m\u001B[36m(launch_and_get_parameters pid=26960)\u001B[0m   File \"<frozen importlib._bootstrap>\", line 688 in _load_unlocked\n",
      "\u001B[2m\u001B[36m(launch_and_get_parameters pid=26960)\u001B[0m   File \"<frozen importlib._bootstrap>\", line 1006 in _find_and_load_unlocked\n",
      "\u001B[2m\u001B[36m(launch_and_get_parameters pid=26960)\u001B[0m   File \"<frozen importlib._bootstrap>\", line 1027 in _find_and_load\n",
      "\u001B[2m\u001B[36m(launch_and_get_parameters pid=26960)\u001B[0m   File \"D:\\FD\\venv\\lib\\site-packages\\torchvision\\io\\_load_gpu_decoder.py\", line 1 in <module>\n",
      "\u001B[2m\u001B[36m(launch_and_get_parameters pid=26960)\u001B[0m   File \"<frozen importlib._bootstrap>\", line 241 in _call_with_frames_removed\n",
      "\u001B[2m\u001B[36m(launch_and_get_parameters pid=26960)\u001B[0m   File \"<frozen importlib._bootstrap_external>\", line 883 in exec_module\n",
      "\u001B[2m\u001B[36m(launch_and_get_parameters pid=26960)\u001B[0m   File \"<frozen importlib._bootstrap>\", line 688 in _load_unlocked\n",
      "\u001B[2m\u001B[36m(launch_and_get_parameters pid=26960)\u001B[0m   File \"<frozen importlib._bootstrap>\", line 1006 in _find_and_load_unlocked\n",
      "\u001B[2m\u001B[36m(launch_and_get_parameters pid=26960)\u001B[0m   File \"<frozen importlib._bootstrap>\", line 1027 in _find_and_load\n",
      "\u001B[2m\u001B[36m(launch_and_get_parameters pid=26960)\u001B[0m   File \"D:\\FD\\venv\\lib\\site-packages\\torchvision\\io\\__init__.py\", line 8 in <module>\n",
      "\u001B[2m\u001B[36m(launch_and_get_parameters pid=26960)\u001B[0m   File \"<frozen importlib._bootstrap>\", line 241 in _call_with_frames_removed\n",
      "\u001B[2m\u001B[36m(launch_and_get_parameters pid=26960)\u001B[0m   File \"<frozen importlib._bootstrap_external>\", line 883 in exec_module\n",
      "\u001B[2m\u001B[36m(launch_and_get_parameters pid=26960)\u001B[0m   File \"<frozen importlib._bootstrap>\", line 688 in _load_unlocked\n",
      "\u001B[2m\u001B[36m(launch_and_get_parameters pid=26960)\u001B[0m   File \"<frozen importlib._bootstrap>\", line 1006 in _find_and_load_unlocked\n",
      "\u001B[2m\u001B[36m(launch_and_get_parameters pid=26960)\u001B[0m   File \"<frozen importlib._bootstrap>\", line 1027 in _find_and_load\n",
      "\u001B[2m\u001B[36m(launch_and_get_parameters pid=26960)\u001B[0m   File \"<frozen importlib._bootstrap>\", line 241 in _call_with_frames_removed\n",
      "\u001B[2m\u001B[36m(launch_and_get_parameters pid=26960)\u001B[0m   File \"<frozen importlib._bootstrap>\", line 992 in _find_and_load_unlocked\n",
      "\u001B[2m\u001B[36m(launch_and_get_parameters pid=26960)\u001B[0m   File \"<frozen importlib._bootstrap>\", line 1027 in _find_and_load\n",
      "\u001B[2m\u001B[36m(launch_and_get_parameters pid=26960)\u001B[0m   File \"D:\\FD\\venv\\lib\\site-packages\\torchvision\\datasets\\_optical_flow.py\", line 12 in <module>\n",
      "\u001B[2m\u001B[36m(launch_and_get_parameters pid=26960)\u001B[0m   File \"<frozen importlib._bootstrap>\", line 241 in _call_with_frames_removed\n",
      "\u001B[2m\u001B[36m(launch_and_get_parameters pid=26960)\u001B[0m   File \"<frozen importlib._bootstrap_external>\", line 883 in exec_module\n",
      "\u001B[2m\u001B[36m(launch_and_get_parameters pid=26960)\u001B[0m   File \"<frozen importlib._bootstrap>\", line 688 in _load_unlocked\n",
      "\u001B[2m\u001B[36m(launch_and_get_parameters pid=26960)\u001B[0m   File \"<frozen importlib._bootstrap>\", line 1006 in _find_and_load_unlocked\n",
      "\u001B[2m\u001B[36m(launch_and_get_parameters pid=26960)\u001B[0m   File \"<frozen importlib._bootstrap>\", line 1027 in _find_and_load\n",
      "\u001B[2m\u001B[36m(launch_and_get_parameters pid=26960)\u001B[0m   File \"D:\\FD\\venv\\lib\\site-packages\\torchvision\\datasets\\__init__.py\", line 1 in <module>\n",
      "\u001B[2m\u001B[36m(launch_and_get_parameters pid=26960)\u001B[0m   File \"<frozen importlib._bootstrap>\", line 241 in _call_with_frames_removed\n",
      "\u001B[2m\u001B[36m(launch_and_get_parameters pid=26960)\u001B[0m   File \"<frozen importlib._bootstrap_external>\", line 883 in exec_module\n",
      "\u001B[2m\u001B[36m(launch_and_get_parameters pid=26960)\u001B[0m   File \"<frozen importlib._bootstrap>\", line 688 in _load_unlocked\n",
      "\u001B[2m\u001B[36m(launch_and_get_parameters pid=26960)\u001B[0m   File \"<frozen importlib._bootstrap>\", line 1006 in _find_and_load_unlocked\n",
      "\u001B[2m\u001B[36m(launch_and_get_parameters pid=26960)\u001B[0m   File \"<frozen importlib._bootstrap>\", line 1027 in _find_and_load\n",
      "\u001B[2m\u001B[36m(launch_and_get_parameters pid=26960)\u001B[0m   File \"<frozen importlib._bootstrap>\", line 241 in _call_with_frames_removed\n",
      "\u001B[2m\u001B[36m(launch_and_get_parameters pid=26960)\u001B[0m   File \"<frozen importlib._bootstrap>\", line 1078 in _handle_fromlist\n",
      "\u001B[2m\u001B[36m(launch_and_get_parameters pid=26960)\u001B[0m   File \"D:\\FD\\venv\\lib\\site-packages\\torchvision\\__init__.py\", line 6 in <module>\n",
      "\u001B[2m\u001B[36m(launch_and_get_parameters pid=26960)\u001B[0m   File \"<frozen importlib._bootstrap>\", line 241 in _call_with_frames_removed\n",
      "\u001B[2m\u001B[36m(launch_and_get_parameters pid=26960)\u001B[0m   File \"<frozen importlib._bootstrap_external>\", line 883 in exec_module\n",
      "\u001B[2m\u001B[36m(launch_and_get_parameters pid=26960)\u001B[0m   File \"<frozen importlib._bootstrap>\", line 688 in _load_unlocked\n",
      "\u001B[2m\u001B[36m(launch_and_get_parameters pid=26960)\u001B[0m   File \"<frozen importlib._bootstrap>\", line 1006 in _find_and_load_unlocked\n",
      "\u001B[2m\u001B[36m(launch_and_get_parameters pid=26960)\u001B[0m   File \"<frozen importlib._bootstrap>\", line 1027 in _find_and_load\n",
      "\u001B[2m\u001B[36m(launch_and_get_parameters pid=26960)\u001B[0m   File \"<frozen importlib._bootstrap>\", line 1050 in _gcd_import\n",
      "\u001B[2m\u001B[36m(launch_and_get_parameters pid=26960)\u001B[0m   File \"C:\\Program Files\\WindowsApps\\PythonSoftwareFoundation.Python.3.10_3.10.3056.0_x64__qbz5n2kfra8p0\\lib\\importlib\\__init__.py\", line 126 in import_module\n",
      "\u001B[2m\u001B[36m(launch_and_get_parameters pid=26960)\u001B[0m   File \"D:\\FD\\venv\\lib\\site-packages\\lightning_utilities\\core\\imports.py\", line 73 in compare_version\n",
      "\u001B[2m\u001B[36m(launch_and_get_parameters pid=26960)\u001B[0m   File \"D:\\FD\\venv\\lib\\site-packages\\torchmetrics\\utilities\\imports.py\", line 41 in <module>\n",
      "\u001B[2m\u001B[36m(launch_and_get_parameters pid=26960)\u001B[0m   File \"<frozen importlib._bootstrap>\", line 241 in _call_with_frames_removed\n",
      "\u001B[2m\u001B[36m(launch_and_get_parameters pid=26960)\u001B[0m   File \"<frozen importlib._bootstrap_external>\", line 883 in exec_module\n",
      "\u001B[2m\u001B[36m(launch_and_get_parameters pid=26960)\u001B[0m   File \"<frozen importlib._bootstrap>\", line 688 in _load_unlocked\n",
      "\u001B[2m\u001B[36m(launch_and_get_parameters pid=26960)\u001B[0m   File \"<frozen importlib._bootstrap>\", line 1006 in _find_and_load_unlocked\n",
      "\u001B[2m\u001B[36m(launch_and_get_parameters pid=26960)\u001B[0m   File \"<frozen importlib._bootstrap>\", line 1027 in _find_and_load\n",
      "\u001B[2m\u001B[36m(launch_and_get_parameters pid=26960)\u001B[0m   File \"D:\\FD\\venv\\lib\\site-packages\\torchmetrics\\utilities\\data.py\", line 22 in <module>\n",
      "\u001B[2m\u001B[36m(launch_and_get_parameters pid=26960)\u001B[0m   File \"<frozen importlib._bootstrap>\", line 241 in _call_with_frames_removed\n",
      "\u001B[2m\u001B[36m(launch_and_get_parameters pid=26960)\u001B[0m   File \"<frozen importlib._bootstrap_external>\", line 883 in exec_module\n",
      "\u001B[2m\u001B[36m(launch_and_get_parameters pid=26960)\u001B[0m   File \"<frozen importlib._bootstrap>\", line 688 in _load_unlocked\n",
      "\u001B[2m\u001B[36m(launch_and_get_parameters pid=26960)\u001B[0m   File \"<frozen importlib._bootstrap>\", line 1006 in _find_and_load_unlocked\n",
      "\u001B[2m\u001B[36m(launch_and_get_parameters pid=26960)\u001B[0m   File \"<frozen importlib._bootstrap>\", line 1027 in _find_and_load\n",
      "\u001B[2m\u001B[36m(launch_and_get_parameters pid=26960)\u001B[0m   File \"D:\\FD\\venv\\lib\\site-packages\\torchmetrics\\metric.py\", line 30 in <module>\n",
      "\u001B[2m\u001B[36m(launch_and_get_parameters pid=26960)\u001B[0m   File \"<frozen importlib._bootstrap>\", line 241 in _call_with_frames_removed\n",
      "\u001B[2m\u001B[36m(launch_and_get_parameters pid=26960)\u001B[0m   File \"<frozen importlib._bootstrap_external>\", line 883 in exec_module\n",
      "\u001B[2m\u001B[36m(launch_and_get_parameters pid=26960)\u001B[0m   File \"<frozen importlib._bootstrap>\", line 688 in _load_unlocked\n",
      "\u001B[2m\u001B[36m(launch_and_get_parameters pid=26960)\u001B[0m   File \"<frozen importlib._bootstrap>\", line 1006 in _find_and_load_unlocked\n",
      "\u001B[2m\u001B[36m(launch_and_get_parameters pid=26960)\u001B[0m   File \"<frozen importlib._bootstrap>\", line 1027 in _find_and_load\n",
      "\u001B[2m\u001B[36m(launch_and_get_parameters pid=26960)\u001B[0m   File \"D:\\FD\\venv\\lib\\site-packages\\torchmetrics\\utilities\\checks.py\", line 25 in <module>\n",
      "\u001B[2m\u001B[36m(launch_and_get_parameters pid=26960)\u001B[0m   File \"<frozen importlib._bootstrap>\", line 241 in _call_with_frames_removed\n",
      "\u001B[2m\u001B[36m(launch_and_get_parameters pid=26960)\u001B[0m   File \"<frozen importlib._bootstrap_external>\", line 883 in exec_module\n",
      "\u001B[2m\u001B[36m(launch_and_get_parameters pid=26960)\u001B[0m   File \"<frozen importlib._bootstrap>\", line 688 in _load_unlocked\n",
      "\u001B[2m\u001B[36m(launch_and_get_parameters pid=26960)\u001B[0m   File \"<frozen importlib._bootstrap>\", line 1006 in _find_and_load_unlocked\n",
      "\u001B[2m\u001B[36m(launch_and_get_parameters pid=26960)\u001B[0m   File \"<frozen importlib._bootstrap>\", line 1027 in _find_and_load\n",
      "\u001B[2m\u001B[36m(launch_and_get_parameters pid=26960)\u001B[0m   File \"D:\\FD\\venv\\lib\\site-packages\\torchmetrics\\utilities\\__init__.py\", line 14 in <module>\n",
      "\u001B[2m\u001B[36m(launch_and_get_parameters pid=26960)\u001B[0m   File \"<frozen importlib._bootstrap>\", line 241 in _call_with_frames_removed\n",
      "\u001B[2m\u001B[36m(launch_and_get_parameters pid=26960)\u001B[0m   File \"<frozen importlib._bootstrap_external>\", line 883 in exec_module\n",
      "\u001B[2m\u001B[36m(launch_and_get_parameters pid=26960)\u001B[0m   File \"<frozen importlib._bootstrap>\", line 688 in _load_unlocked\n",
      "\u001B[2m\u001B[36m(launch_and_get_parameters pid=26960)\u001B[0m   File \"<frozen importlib._bootstrap>\", line 1006 in _find_and_load_unlocked\n",
      "\u001B[2m\u001B[36m(launch_and_get_parameters pid=26960)\u001B[0m   File \"<frozen importlib._bootstrap>\", line 1027 in _find_and_load\n",
      "\u001B[2m\u001B[36m(launch_and_get_parameters pid=26960)\u001B[0m   File \"D:\\FD\\venv\\lib\\site-packages\\torchmetrics\\functional\\audio\\pit.py\", line 23 in <module>\n",
      "\u001B[2m\u001B[36m(launch_and_get_parameters pid=26960)\u001B[0m   File \"<frozen importlib._bootstrap>\", line 241 in _call_with_frames_removed\n",
      "\u001B[2m\u001B[36m(launch_and_get_parameters pid=26960)\u001B[0m   File \"<frozen importlib._bootstrap_external>\", line 883 in exec_module\n",
      "\u001B[2m\u001B[36m(launch_and_get_parameters pid=26960)\u001B[0m   File \"<frozen importlib._bootstrap>\", line 688 in _load_unlocked\n",
      "\u001B[2m\u001B[36m(launch_and_get_parameters pid=26960)\u001B[0m   File \"<frozen importlib._bootstrap>\", line 1006 in _find_and_load_unlocked\n",
      "\u001B[2m\u001B[36m(launch_and_get_parameters pid=26960)\u001B[0m   File \"<frozen importlib._bootstrap>\", line 1027 in _find_and_load\n",
      "\u001B[2m\u001B[36m(launch_and_get_parameters pid=26960)\u001B[0m   File \"D:\\FD\\venv\\lib\\site-packages\\torchmetrics\\functional\\audio\\__init__.py\", line 14 in <module>\n",
      "\u001B[2m\u001B[36m(launch_and_get_parameters pid=26960)\u001B[0m   File \"<frozen importlib._bootstrap>\", line 241 in _call_with_frames_removed\n",
      "\u001B[2m\u001B[36m(launch_and_get_parameters pid=26960)\u001B[0m   File \"<frozen importlib._bootstrap_external>\", line 883 in exec_module\n",
      "\u001B[2m\u001B[36m(launch_and_get_parameters pid=26960)\u001B[0m   File \"<frozen importlib._bootstrap>\", line 688 in _load_unlocked\n",
      "\u001B[2m\u001B[36m(launch_and_get_parameters pid=26960)\u001B[0m   File \"<frozen importlib._bootstrap>\", line 1006 in _find_and_load_unlocked\n",
      "\u001B[2m\u001B[36m(launch_and_get_parameters pid=26960)\u001B[0m   File \"<frozen importlib._bootstrap>\", line 1027 in _find_and_load\n",
      "\u001B[2m\u001B[36m(launch_and_get_parameters pid=26960)\u001B[0m   File \"<frozen importlib._bootstrap>\", line 241 in _call_with_frames_removed\n",
      "\u001B[2m\u001B[36m(launch_and_get_parameters pid=26960)\u001B[0m   File \"<frozen importlib._bootstrap>\", line 992 in _find_and_load_unlocked\n",
      "\u001B[2m\u001B[36m(launch_and_get_parameters pid=26960)\u001B[0m   File \"<frozen importlib._bootstrap>\", line 1027 in _find_and_load\n",
      "\u001B[2m\u001B[36m(launch_and_get_parameters pid=26960)\u001B[0m   File \"D:\\FD\\venv\\lib\\site-packages\\torchmetrics\\functional\\__init__.py\", line 14 in <module>\n",
      "\u001B[2m\u001B[36m(launch_and_get_parameters pid=26960)\u001B[0m   File \"<frozen importlib._bootstrap>\", line 241 in _call_with_frames_removed\n",
      "\u001B[2m\u001B[36m(launch_and_get_parameters pid=26960)\u001B[0m   File \"<frozen importlib._bootstrap_external>\", line 883 in exec_module\n",
      "\u001B[2m\u001B[36m(launch_and_get_parameters pid=26960)\u001B[0m   File \"<frozen importlib._bootstrap>\", line 688 in _load_unlocked\n",
      "\u001B[2m\u001B[36m(launch_and_get_parameters pid=26960)\u001B[0m   File \"<frozen importlib._bootstrap>\", line 1006 in _find_and_load_unlocked\n",
      "\u001B[2m\u001B[36m(launch_and_get_parameters pid=26960)\u001B[0m   File \"<frozen importlib._bootstrap>\", line 1027 in _find_and_load\n",
      "\u001B[2m\u001B[36m(launch_and_get_parameters pid=26960)\u001B[0m   File \"<frozen importlib._bootstrap>\", line 241 in _call_with_frames_removed\n",
      "\u001B[2m\u001B[36m(launch_and_get_parameters pid=26960)\u001B[0m   File \"<frozen importlib._bootstrap>\", line 1078 in _handle_fromlist\n",
      "\u001B[2m\u001B[36m(launch_and_get_parameters pid=26960)\u001B[0m   File \"D:\\FD\\venv\\lib\\site-packages\\torchmetrics\\__init__.py\", line 14 in <module>\n",
      "\u001B[2m\u001B[36m(launch_and_get_parameters pid=26960)\u001B[0m   ...\n",
      "\u001B[2m\u001B[36m(launch_and_get_parameters pid=26960)\u001B[0m Windows fatal exception: code 0xc0000139\n",
      "\u001B[2m\u001B[36m(launch_and_get_parameters pid=26960)\u001B[0m \n",
      "\u001B[2m\u001B[36m(launch_and_get_parameters pid=26960)\u001B[0m D:\\FD\\venv\\lib\\site-packages\\torchvision\\io\\image.py:13: UserWarning: Failed to load image Python extension: '[WinError 127] 找不到指定的程序。'If you don't plan on using image functionality from `torchvision.io`, you can ignore this warning. Otherwise, there might be something wrong with your environment. Did you have `libjpeg` or `libpng` installed before building `torchvision` from source?\n",
      "\u001B[2m\u001B[36m(launch_and_get_parameters pid=26960)\u001B[0m   warn(\n"
     ]
    },
    {
     "name": "stdout",
     "output_type": "stream",
     "text": [
      "\u001B[2m\u001B[36m(launch_and_get_parameters pid=26960)\u001B[0m binary client\n"
     ]
    },
    {
     "name": "stderr",
     "output_type": "stream",
     "text": [
      "INFO flwr 2023-09-01 01:19:13,201 | fl_server.py:292 | Received initial parameters from one random client\n",
      "INFO flwr 2023-09-01 01:19:13,214 | fl_server.py:84 | Evaluating initial parameters\n"
     ]
    },
    {
     "name": "stdout",
     "output_type": "stream",
     "text": [
      "serverside task_type binary\n"
     ]
    },
    {
     "name": "stderr",
     "output_type": "stream",
     "text": [
      "INFO flwr 2023-09-01 01:22:22,439 | fl_server.py:87 | initial parameters (loss, other metrics): 0.25293142, {'auc': 0.6165607820308683}\n",
      "INFO flwr 2023-09-01 01:22:22,443 | fl_server.py:97 | FL starting\n",
      "DEBUG flwr 2023-09-01 01:22:22,448 | fl_server.py:226 | fit_round 1: strategy sampled 2 clients (out of 2)\n"
     ]
    },
    {
     "name": "stdout",
     "output_type": "stream",
     "text": [
      "testset mse 0.2529314160346985 and auc 0.6165607820308683\n",
      "Evaluation on the server: test_mse=0.2529, test_auc=0.6166\n",
      "Configuring round 1\n",
      "\u001B[2m\u001B[36m(launch_and_fit pid=26960)\u001B[0m binary client\n",
      "\u001B[2m\u001B[36m(launch_and_fit pid=26960)\u001B[0m Client 0 aggregated_trees length 2\n",
      "\u001B[2m\u001B[36m(launch_and_fit pid=26960)\u001B[0m Client 0: only had its own tree\n"
     ]
    }
   ],
   "source": [
    "# split = [0.5, 0.5]\n",
    "# do_fl(split)"
   ],
   "metadata": {
    "collapsed": false,
    "ExecuteTime": {
     "start_time": "2023-09-01T00:12:33.674220600Z"
    }
   }
  },
  {
   "cell_type": "code",
   "execution_count": null,
   "outputs": [],
   "source": [
    "# split = [0.6, 0.4]\n",
    "# do_fl(split)"
   ],
   "metadata": {
    "collapsed": false
   }
  },
  {
   "cell_type": "code",
   "execution_count": null,
   "outputs": [],
   "source": [
    "# split = [0.8, 0.2]\n",
    "# do_fl(split)"
   ],
   "metadata": {
    "collapsed": false
   }
  },
  {
   "cell_type": "code",
   "execution_count": null,
   "outputs": [],
   "source": [
    "split = [0.34, 0.33, 0.33]\n",
    "do_fl(split)"
   ],
   "metadata": {
    "collapsed": false
   }
  },
  {
   "cell_type": "code",
   "execution_count": null,
   "outputs": [],
   "source": [
    "# split = [0.6, 0.2, 0.2]\n",
    "# do_fl(split)\n",
    "#\n",
    "# split = [0.8, 0.1, 0.1]\n",
    "# do_fl(split)"
   ],
   "metadata": {
    "collapsed": false
   }
  },
  {
   "cell_type": "code",
   "execution_count": 11,
   "outputs": [
    {
     "name": "stdout",
     "output_type": "stream",
     "text": [
      "Fold 1:\n",
      "(61503,)\n",
      "torch.Size([452296, 120])\n"
     ]
    },
    {
     "ename": "KeyboardInterrupt",
     "evalue": "",
     "output_type": "error",
     "traceback": [
      "\u001B[1;31m---------------------------------------------------------------------------\u001B[0m",
      "\u001B[1;31mKeyboardInterrupt\u001B[0m                         Traceback (most recent call last)",
      "Cell \u001B[1;32mIn[11], line 2\u001B[0m\n\u001B[0;32m      1\u001B[0m split \u001B[38;5;241m=\u001B[39m [\u001B[38;5;241m0.2\u001B[39m, \u001B[38;5;241m0.2\u001B[39m, \u001B[38;5;241m0.2\u001B[39m, \u001B[38;5;241m0.2\u001B[39m, \u001B[38;5;241m0.2\u001B[39m]\n\u001B[1;32m----> 2\u001B[0m \u001B[43mdo_fl\u001B[49m\u001B[43m(\u001B[49m\u001B[43msplit\u001B[49m\u001B[43m)\u001B[49m\n\u001B[0;32m      4\u001B[0m split \u001B[38;5;241m=\u001B[39m [\u001B[38;5;241m0.6\u001B[39m, \u001B[38;5;241m0.1\u001B[39m, \u001B[38;5;241m0.1\u001B[39m, \u001B[38;5;241m0.1\u001B[39m, \u001B[38;5;241m0.1\u001B[39m]\n\u001B[0;32m      5\u001B[0m do_fl(split)\n",
      "Cell \u001B[1;32mIn[9], line 32\u001B[0m, in \u001B[0;36mdo_fl\u001B[1;34m(split, X, y)\u001B[0m\n\u001B[0;32m     29\u001B[0m     trainset \u001B[38;5;241m=\u001B[39m TreeDataset(np\u001B[38;5;241m.\u001B[39marray(X_train, copy\u001B[38;5;241m=\u001B[39m\u001B[38;5;28;01mTrue\u001B[39;00m), np\u001B[38;5;241m.\u001B[39marray(y_train, copy\u001B[38;5;241m=\u001B[39m\u001B[38;5;28;01mTrue\u001B[39;00m))\n\u001B[0;32m     30\u001B[0m     testset \u001B[38;5;241m=\u001B[39m TreeDataset(np\u001B[38;5;241m.\u001B[39marray(X_test, copy\u001B[38;5;241m=\u001B[39m\u001B[38;5;28;01mTrue\u001B[39;00m), np\u001B[38;5;241m.\u001B[39marray(y_test, copy\u001B[38;5;241m=\u001B[39m\u001B[38;5;28;01mTrue\u001B[39;00m))\n\u001B[1;32m---> 32\u001B[0m     \u001B[43mstart_experiment\u001B[49m\u001B[43m(\u001B[49m\n\u001B[0;32m     33\u001B[0m \u001B[43m        \u001B[49m\u001B[43msplit\u001B[49m\u001B[38;5;241;43m=\u001B[39;49m\u001B[43msplit\u001B[49m\u001B[43m,\u001B[49m\n\u001B[0;32m     34\u001B[0m \u001B[43m        \u001B[49m\u001B[43mtrainset\u001B[49m\u001B[38;5;241;43m=\u001B[39;49m\u001B[43mtrainset\u001B[49m\u001B[43m,\u001B[49m\n\u001B[0;32m     35\u001B[0m \u001B[43m        \u001B[49m\u001B[43mtestset\u001B[49m\u001B[38;5;241;43m=\u001B[39;49m\u001B[43mtestset\u001B[49m\u001B[43m,\u001B[49m\n\u001B[0;32m     36\u001B[0m \u001B[43m        \u001B[49m\u001B[43mnum_rounds\u001B[49m\u001B[38;5;241;43m=\u001B[39;49m\u001B[38;5;241;43m8\u001B[39;49m\u001B[43m,\u001B[49m\n\u001B[0;32m     37\u001B[0m \u001B[43m        \u001B[49m\u001B[43mclient_tree_num\u001B[49m\u001B[38;5;241;43m=\u001B[39;49m\u001B[38;5;241;43m100\u001B[39;49m\u001B[43m,\u001B[49m\n\u001B[0;32m     38\u001B[0m \u001B[43m        \u001B[49m\u001B[43mclient_pool_size\u001B[49m\u001B[38;5;241;43m=\u001B[39;49m\u001B[38;5;28;43mlen\u001B[39;49m\u001B[43m(\u001B[49m\u001B[43msplit\u001B[49m\u001B[43m)\u001B[49m\u001B[43m,\u001B[49m\n\u001B[0;32m     39\u001B[0m \u001B[43m        \u001B[49m\u001B[43mnum_iterations\u001B[49m\u001B[38;5;241;43m=\u001B[39;49m\u001B[38;5;241;43m2\u001B[39;49m\u001B[43m,\u001B[49m\n\u001B[0;32m     40\u001B[0m \u001B[43m        \u001B[49m\u001B[43mbatch_size\u001B[49m\u001B[38;5;241;43m=\u001B[39;49m\u001B[38;5;241;43m64\u001B[39;49m\u001B[43m,\u001B[49m\n\u001B[0;32m     41\u001B[0m \u001B[43m        \u001B[49m\u001B[43mfraction_fit\u001B[49m\u001B[38;5;241;43m=\u001B[39;49m\u001B[38;5;241;43m0.5\u001B[39;49m\u001B[43m,\u001B[49m\n\u001B[0;32m     42\u001B[0m \u001B[43m        \u001B[49m\u001B[43mmin_fit_clients\u001B[49m\u001B[38;5;241;43m=\u001B[39;49m\u001B[38;5;241;43m2\u001B[39;49m\u001B[43m,\u001B[49m\n\u001B[0;32m     43\u001B[0m \u001B[43m        \u001B[49m\u001B[43mval_ratio\u001B[49m\u001B[38;5;241;43m=\u001B[39;49m\u001B[38;5;241;43m0.0\u001B[39;49m\u001B[43m,\u001B[49m\n\u001B[0;32m     44\u001B[0m \u001B[43m        \u001B[49m\u001B[43mclient_num\u001B[49m\u001B[38;5;241;43m=\u001B[39;49m\u001B[38;5;28;43mlen\u001B[39;49m\u001B[43m(\u001B[49m\u001B[43msplit\u001B[49m\u001B[43m)\u001B[49m\u001B[43m,\u001B[49m\n\u001B[0;32m     45\u001B[0m \u001B[43m        \u001B[49m\u001B[43mlr\u001B[49m\u001B[38;5;241;43m=\u001B[39;49m\u001B[38;5;241;43m0.05\u001B[39;49m\u001B[43m,\u001B[49m\n\u001B[0;32m     46\u001B[0m \u001B[43m        \u001B[49m\u001B[43mcolsample_bytree\u001B[49m\u001B[38;5;241;43m=\u001B[39;49m\u001B[38;5;241;43m1\u001B[39;49m\u001B[43m,\u001B[49m\n\u001B[0;32m     47\u001B[0m \u001B[43m        \u001B[49m\u001B[43msubsample\u001B[49m\u001B[38;5;241;43m=\u001B[39;49m\u001B[38;5;241;43m0.8\u001B[39;49m\u001B[43m,\u001B[49m\n\u001B[0;32m     48\u001B[0m \u001B[43m        \u001B[49m\u001B[43mmax_depth\u001B[49m\u001B[38;5;241;43m=\u001B[39;49m\u001B[38;5;241;43m5\u001B[39;49m\u001B[43m,\u001B[49m\n\u001B[0;32m     49\u001B[0m \u001B[43m        \u001B[49m\u001B[43mmin_child_weight\u001B[49m\u001B[38;5;241;43m=\u001B[39;49m\u001B[38;5;241;43m3\u001B[39;49m\n\u001B[0;32m     50\u001B[0m \u001B[43m    \u001B[49m\u001B[43m)\u001B[49m\n\u001B[0;32m     52\u001B[0m end \u001B[38;5;241m=\u001B[39m datetime\u001B[38;5;241m.\u001B[39mdatetime\u001B[38;5;241m.\u001B[39mnow()\n\u001B[0;32m     53\u001B[0m time \u001B[38;5;241m=\u001B[39m end \u001B[38;5;241m-\u001B[39m start\n",
      "File \u001B[1;32mD:\\FD\\fl_simu.py:567\u001B[0m, in \u001B[0;36mstart_experiment\u001B[1;34m(split, trainset, testset, max_depth, min_child_weight, subsample, num_rounds, client_tree_num, client_pool_size, num_iterations, fraction_fit, min_fit_clients, batch_size, val_ratio, client_num, task_type, lr, colsample_bytree)\u001B[0m\n\u001B[0;32m    562\u001B[0m client_resources \u001B[38;5;241m=\u001B[39m {\u001B[38;5;124m\"\u001B[39m\u001B[38;5;124mnum_cpus\u001B[39m\u001B[38;5;124m\"\u001B[39m: \u001B[38;5;241m1\u001B[39m}  \u001B[38;5;66;03m# 2 clients per CPU\u001B[39;00m\n\u001B[0;32m    564\u001B[0m \u001B[38;5;66;03m# Partition the dataset into subsets reserved for each client.\u001B[39;00m\n\u001B[0;32m    565\u001B[0m \u001B[38;5;66;03m# - 'val_ratio' controls the proportion of the (local) client reserved as a local test set\u001B[39;00m\n\u001B[0;32m    566\u001B[0m \u001B[38;5;66;03m# (good for testing how the final model performs on the client's local unseen data)\u001B[39;00m\n\u001B[1;32m--> 567\u001B[0m trainloaders, valloaders, testloader \u001B[38;5;241m=\u001B[39m \u001B[43mdo_fl_partitioning\u001B[49m\u001B[43m(\u001B[49m\n\u001B[0;32m    568\u001B[0m \u001B[43m    \u001B[49m\u001B[43msplit\u001B[49m\u001B[43m,\u001B[49m\n\u001B[0;32m    569\u001B[0m \u001B[43m    \u001B[49m\u001B[43mtrainset\u001B[49m\u001B[43m,\u001B[49m\n\u001B[0;32m    570\u001B[0m \u001B[43m    \u001B[49m\u001B[43mtestset\u001B[49m\u001B[43m,\u001B[49m\n\u001B[0;32m    571\u001B[0m \u001B[43m    \u001B[49m\u001B[43mbatch_size\u001B[49m\u001B[38;5;241;43m=\u001B[39;49m\u001B[38;5;124;43m\"\u001B[39;49m\u001B[38;5;124;43mwhole\u001B[39;49m\u001B[38;5;124;43m\"\u001B[39;49m\u001B[43m,\u001B[49m\n\u001B[0;32m    572\u001B[0m \u001B[43m    \u001B[49m\u001B[43mpool_size\u001B[49m\u001B[38;5;241;43m=\u001B[39;49m\u001B[43mclient_pool_size\u001B[49m\u001B[43m,\u001B[49m\n\u001B[0;32m    573\u001B[0m \u001B[43m    \u001B[49m\u001B[43mval_ratio\u001B[49m\u001B[38;5;241;43m=\u001B[39;49m\u001B[43mval_ratio\u001B[49m\u001B[43m,\u001B[49m\n\u001B[0;32m    574\u001B[0m \u001B[43m\u001B[49m\u001B[43m)\u001B[49m\n\u001B[0;32m    575\u001B[0m \u001B[38;5;28mprint\u001B[39m(\n\u001B[0;32m    576\u001B[0m     \u001B[38;5;124mf\u001B[39m\u001B[38;5;124m\"\u001B[39m\u001B[38;5;124mData partitioned across \u001B[39m\u001B[38;5;132;01m{\u001B[39;00mclient_pool_size\u001B[38;5;132;01m}\u001B[39;00m\u001B[38;5;124m clients\u001B[39m\u001B[38;5;124m\"\u001B[39m\n\u001B[0;32m    577\u001B[0m     \u001B[38;5;124mf\u001B[39m\u001B[38;5;124m\"\u001B[39m\u001B[38;5;124m and \u001B[39m\u001B[38;5;132;01m{\u001B[39;00mval_ratio\u001B[38;5;132;01m}\u001B[39;00m\u001B[38;5;124m of local dataset reserved for validation.\u001B[39m\u001B[38;5;124m\"\u001B[39m\n\u001B[0;32m    578\u001B[0m )\n\u001B[0;32m    580\u001B[0m \u001B[38;5;66;03m# Configure the strategy\u001B[39;00m\n",
      "File \u001B[1;32mD:\\FD\\trees.py:165\u001B[0m, in \u001B[0;36mdo_fl_partitioning\u001B[1;34m(split, trainset, testset, pool_size, batch_size, val_ratio)\u001B[0m\n\u001B[0;32m    162\u001B[0m skf\u001B[38;5;241m.\u001B[39mget_n_splits(x_train, y_train)\n\u001B[0;32m    164\u001B[0m \u001B[38;5;28;01mfor\u001B[39;00m i, (_, test_index) \u001B[38;5;129;01min\u001B[39;00m \u001B[38;5;28menumerate\u001B[39m(skf\u001B[38;5;241m.\u001B[39msplit(x_train, y_train)):\n\u001B[1;32m--> 165\u001B[0m     \u001B[43mx_eq\u001B[49m\u001B[38;5;241;43m.\u001B[39;49m\u001B[43mappend\u001B[49m\u001B[43m(\u001B[49m\u001B[43mx_train\u001B[49m\u001B[43m[\u001B[49m\u001B[43mtest_index\u001B[49m\u001B[43m]\u001B[49m\u001B[43m)\u001B[49m\n\u001B[0;32m    166\u001B[0m     y_eq\u001B[38;5;241m.\u001B[39mappend(y_train[test_index])\n\u001B[0;32m    168\u001B[0m x_split \u001B[38;5;241m=\u001B[39m []\n",
      "\u001B[1;31mKeyboardInterrupt\u001B[0m: "
     ]
    }
   ],
   "source": [
    "# split = [0.2, 0.2, 0.2, 0.2, 0.2]\n",
    "# do_fl(split)\n",
    "#\n",
    "# split = [0.6, 0.1, 0.1, 0.1, 0.1]\n",
    "# do_fl(split)\n",
    "#\n",
    "# split = [0.8, 0.05, 0.05, 0.05, 0.05]\n",
    "# do_fl(split)"
   ],
   "metadata": {
    "collapsed": false,
    "ExecuteTime": {
     "end_time": "2023-08-28T11:48:14.916237600Z",
     "start_time": "2023-08-28T11:48:10.513249300Z"
    }
   }
  },
  {
   "cell_type": "code",
   "execution_count": 14,
   "outputs": [
    {
     "name": "stdout",
     "output_type": "stream",
     "text": [
      "Fold 1:\n"
     ]
    },
    {
     "name": "stderr",
     "output_type": "stream",
     "text": [
      "WARNING flwr 2023-08-28 17:48:34,517 | app.py:210 | Both server and strategy were provided, ignoring strategy\n",
      "INFO flwr 2023-08-28 17:48:34,540 | app.py:145 | Starting Flower simulation, config: ServerConfig(num_rounds=8, round_timeout=None)\n"
     ]
    },
    {
     "name": "stdout",
     "output_type": "stream",
     "text": [
      "torch.Size([45230, 120])\n",
      "torch.Size([45230, 120])\n",
      "torch.Size([45230, 120])\n",
      "torch.Size([45230, 120])\n",
      "torch.Size([45230, 120])\n",
      "torch.Size([45230, 120])\n",
      "torch.Size([45230, 120])\n",
      "torch.Size([45230, 120])\n",
      "torch.Size([45230, 120])\n",
      "torch.Size([45226, 120])\n",
      "Data partitioned across 10 clients and 0.0 of local dataset reserved for validation.\n",
      "FL experiment configured for 8 rounds with 10 client in the pool.\n",
      "FL round will proceed with 50.0% of clients sampled, at least 2.\n"
     ]
    },
    {
     "name": "stderr",
     "output_type": "stream",
     "text": [
      "2023-08-28 17:48:43,863\tINFO worker.py:1636 -- Started a local Ray instance.\n",
      "INFO flwr 2023-08-28 17:48:48,609 | app.py:179 | Flower VCE: Ray initialized with resources: {'GPU': 1.0, 'node:127.0.0.1': 1.0, 'object_store_memory': 596242022.0, 'memory': 1192484046.0, 'CPU': 8.0}\n",
      "INFO flwr 2023-08-28 17:48:48,611 | fl_server.py:78 | fit num_rounds 8\n",
      "INFO flwr 2023-08-28 17:48:48,613 | fl_server.py:81 | Initializing global parameters\n",
      "INFO flwr 2023-08-28 17:48:48,615 | fl_server.py:287 | Requesting initial parameters from one random client\n",
      "\u001B[2m\u001B[33m(raylet)\u001B[0m --- Logging error ---\n",
      "\u001B[2m\u001B[33m(raylet)\u001B[0m Traceback (most recent call last):\n",
      "\u001B[2m\u001B[33m(raylet)\u001B[0m   File \"D:\\FD\\venv\\lib\\site-packages\\ray\\dashboard\\agent.py\", line 299, in run\n",
      "\u001B[2m\u001B[33m(raylet)\u001B[0m     self.http_server = await self._configure_http_server(modules)\n",
      "\u001B[2m\u001B[33m(raylet)\u001B[0m   File \"D:\\FD\\venv\\lib\\site-packages\\ray\\dashboard\\agent.py\", line 162, in _configure_http_server\n",
      "\u001B[2m\u001B[33m(raylet)\u001B[0m     await http_server.start(modules)\n",
      "\u001B[2m\u001B[33m(raylet)\u001B[0m   File \"D:\\FD\\venv\\lib\\site-packages\\ray\\dashboard\\http_server_agent.py\", line 69, in start\n",
      "\u001B[2m\u001B[33m(raylet)\u001B[0m     raise e\n",
      "\u001B[2m\u001B[33m(raylet)\u001B[0m   File \"D:\\FD\\venv\\lib\\site-packages\\ray\\dashboard\\http_server_agent.py\", line 62, in start\n",
      "\u001B[2m\u001B[33m(raylet)\u001B[0m     await site.start()\n",
      "\u001B[2m\u001B[33m(raylet)\u001B[0m   File \"D:\\FD\\venv\\lib\\site-packages\\aiohttp\\web_runner.py\", line 121, in start\n",
      "\u001B[2m\u001B[33m(raylet)\u001B[0m     self._server = await loop.create_server(\n",
      "\u001B[2m\u001B[33m(raylet)\u001B[0m   File \"C:\\Program Files\\WindowsApps\\PythonSoftwareFoundation.Python.3.10_3.10.3056.0_x64__qbz5n2kfra8p0\\lib\\asyncio\\base_events.py\", line 1519, in create_server\n",
      "\u001B[2m\u001B[33m(raylet)\u001B[0m     raise OSError(err.errno, 'error while attempting '\n",
      "\u001B[2m\u001B[33m(raylet)\u001B[0m OSError: [Errno 10048] error while attempting to bind on address ('127.0.0.1', 52365): \\u901a\\u5e38\\u6bcf\\u4e2a\\u5957\\u63a5\\u5b57\\u5730\\u5740(\\u534f\\u8bae/\\u7f51\\u7edc\\u5730\\u5740/\\u7aef\\u53e3)\\u53ea\\u5141\\u8bb8\\u4f7f\\u7528\\u4e00\\u6b21\\u3002\n",
      "\u001B[2m\u001B[33m(raylet)\u001B[0m \n",
      "\u001B[2m\u001B[33m(raylet)\u001B[0m During handling of the above exception, another exception occurred:\n",
      "\u001B[2m\u001B[33m(raylet)\u001B[0m \n",
      "\u001B[2m\u001B[33m(raylet)\u001B[0m Traceback (most recent call last):\n",
      "\u001B[2m\u001B[33m(raylet)\u001B[0m   File \"C:\\Program Files\\WindowsApps\\PythonSoftwareFoundation.Python.3.10_3.10.3056.0_x64__qbz5n2kfra8p0\\lib\\logging\\__init__.py\", line 1103, in emit\n",
      "\u001B[2m\u001B[33m(raylet)\u001B[0m     stream.write(msg + self.terminator)\n",
      "\u001B[2m\u001B[33m(raylet)\u001B[0m   File \"C:\\Program Files\\WindowsApps\\PythonSoftwareFoundation.Python.3.10_3.10.3056.0_x64__qbz5n2kfra8p0\\lib\\encodings\\cp1252.py\", line 19, in encode\n",
      "\u001B[2m\u001B[33m(raylet)\u001B[0m     return codecs.charmap_encode(input,self.errors,encoding_table)[0]\n",
      "\u001B[2m\u001B[33m(raylet)\u001B[0m UnicodeEncodeError: 'charmap' codec can't encode characters in position 1104-1112: character maps to <undefined>\n",
      "\u001B[2m\u001B[33m(raylet)\u001B[0m Call stack:\n",
      "\u001B[2m\u001B[33m(raylet)\u001B[0m   File \"D:\\FD\\venv\\lib\\site-packages\\ray\\dashboard\\agent.py\", line 544, in <module>\n",
      "\u001B[2m\u001B[33m(raylet)\u001B[0m     loop.run_until_complete(agent.run())\n",
      "\u001B[2m\u001B[33m(raylet)\u001B[0m   File \"C:\\Program Files\\WindowsApps\\PythonSoftwareFoundation.Python.3.10_3.10.3056.0_x64__qbz5n2kfra8p0\\lib\\asyncio\\base_events.py\", line 636, in run_until_complete\n",
      "\u001B[2m\u001B[33m(raylet)\u001B[0m     self.run_forever()\n",
      "\u001B[2m\u001B[33m(raylet)\u001B[0m   File \"C:\\Program Files\\WindowsApps\\PythonSoftwareFoundation.Python.3.10_3.10.3056.0_x64__qbz5n2kfra8p0\\lib\\asyncio\\windows_events.py\", line 321, in run_forever\n",
      "\u001B[2m\u001B[33m(raylet)\u001B[0m     super().run_forever()\n",
      "\u001B[2m\u001B[33m(raylet)\u001B[0m   File \"C:\\Program Files\\WindowsApps\\PythonSoftwareFoundation.Python.3.10_3.10.3056.0_x64__qbz5n2kfra8p0\\lib\\asyncio\\base_events.py\", line 603, in run_forever\n",
      "\u001B[2m\u001B[33m(raylet)\u001B[0m     self._run_once()\n",
      "\u001B[2m\u001B[33m(raylet)\u001B[0m   File \"C:\\Program Files\\WindowsApps\\PythonSoftwareFoundation.Python.3.10_3.10.3056.0_x64__qbz5n2kfra8p0\\lib\\asyncio\\base_events.py\", line 1909, in _run_once\n",
      "\u001B[2m\u001B[33m(raylet)\u001B[0m     handle._run()\n",
      "\u001B[2m\u001B[33m(raylet)\u001B[0m   File \"C:\\Program Files\\WindowsApps\\PythonSoftwareFoundation.Python.3.10_3.10.3056.0_x64__qbz5n2kfra8p0\\lib\\asyncio\\events.py\", line 80, in _run\n",
      "\u001B[2m\u001B[33m(raylet)\u001B[0m     self._context.run(self._callback, *self._args)\n",
      "\u001B[2m\u001B[33m(raylet)\u001B[0m   File \"D:\\FD\\venv\\lib\\site-packages\\ray\\dashboard\\agent.py\", line 304, in run\n",
      "\u001B[2m\u001B[33m(raylet)\u001B[0m     logger.exception(\n",
      "\u001B[2m\u001B[33m(raylet)\u001B[0m Message: 'Failed to start http server. Agent will stay alive but disable the http service.'\n",
      "\u001B[2m\u001B[33m(raylet)\u001B[0m Arguments: ()\n",
      "\u001B[2m\u001B[36m(launch_and_get_parameters pid=14388)\u001B[0m Windows fatal exception: code 0xc0000139\n",
      "\u001B[2m\u001B[36m(launch_and_get_parameters pid=14388)\u001B[0m \n",
      "\u001B[2m\u001B[36m(launch_and_get_parameters pid=14388)\u001B[0m Stack (most recent call first):\n",
      "\u001B[2m\u001B[36m(launch_and_get_parameters pid=14388)\u001B[0m   File \"C:\\Program Files\\WindowsApps\\PythonSoftwareFoundation.Python.3.10_3.10.3056.0_x64__qbz5n2kfra8p0\\lib\\ctypes\\__init__.py\", line 374 in __init__\n",
      "\u001B[2m\u001B[36m(launch_and_get_parameters pid=14388)\u001B[0m   File \"D:\\FD\\venv\\lib\\site-packages\\torch\\_ops.py\", line 573 in load_library\n",
      "\u001B[2m\u001B[36m(launch_and_get_parameters pid=14388)\u001B[0m   File \"D:\\FD\\venv\\lib\\site-packages\\torchvision\\extension.py\", line 36 in <module>\n",
      "\u001B[2m\u001B[36m(launch_and_get_parameters pid=14388)\u001B[0m   File \"<frozen importlib._bootstrap>\", line 241 in _call_with_frames_removed\n",
      "\u001B[2m\u001B[36m(launch_and_get_parameters pid=14388)\u001B[0m   File \"<frozen importlib._bootstrap_external>\", line 883 in exec_module\n",
      "\u001B[2m\u001B[36m(launch_and_get_parameters pid=14388)\u001B[0m   File \"<frozen importlib._bootstrap>\", line 688 in _load_unlocked\n",
      "\u001B[2m\u001B[36m(launch_and_get_parameters pid=14388)\u001B[0m   File \"<frozen importlib._bootstrap>\", line 1006 in _find_and_load_unlocked\n",
      "\u001B[2m\u001B[36m(launch_and_get_parameters pid=14388)\u001B[0m   File \"<frozen importlib._bootstrap>\", line 1027 in _find_and_load\n",
      "\u001B[2m\u001B[36m(launch_and_get_parameters pid=14388)\u001B[0m   File \"D:\\FD\\venv\\lib\\site-packages\\torchvision\\io\\_load_gpu_decoder.py\", line 1 in <module>\n",
      "\u001B[2m\u001B[36m(launch_and_get_parameters pid=14388)\u001B[0m   File \"<frozen importlib._bootstrap>\", line 241 in _call_with_frames_removed\n",
      "\u001B[2m\u001B[36m(launch_and_get_parameters pid=14388)\u001B[0m   File \"<frozen importlib._bootstrap_external>\", line 883 in exec_module\n",
      "\u001B[2m\u001B[36m(launch_and_get_parameters pid=14388)\u001B[0m   File \"<frozen importlib._bootstrap>\", line 688 in _load_unlocked\n",
      "\u001B[2m\u001B[36m(launch_and_get_parameters pid=14388)\u001B[0m   File \"<frozen importlib._bootstrap>\", line 1006 in _find_and_load_unlocked\n",
      "\u001B[2m\u001B[36m(launch_and_get_parameters pid=14388)\u001B[0m   File \"<frozen importlib._bootstrap>\", line 1027 in _find_and_load\n",
      "\u001B[2m\u001B[36m(launch_and_get_parameters pid=14388)\u001B[0m   File \"D:\\FD\\venv\\lib\\site-packages\\torchvision\\io\\__init__.py\", line 8 in <module>\n",
      "\u001B[2m\u001B[36m(launch_and_get_parameters pid=14388)\u001B[0m   File \"<frozen importlib._bootstrap>\", line 241 in _call_with_frames_removed\n",
      "\u001B[2m\u001B[36m(launch_and_get_parameters pid=14388)\u001B[0m   File \"<frozen importlib._bootstrap_external>\", line 883 in exec_module\n",
      "\u001B[2m\u001B[36m(launch_and_get_parameters pid=14388)\u001B[0m   File \"<frozen importlib._bootstrap>\", line 688 in _load_unlocked\n",
      "\u001B[2m\u001B[36m(launch_and_get_parameters pid=14388)\u001B[0m   File \"<frozen importlib._bootstrap>\", line 1006 in _find_and_load_unlocked\n",
      "\u001B[2m\u001B[36m(launch_and_get_parameters pid=14388)\u001B[0m   File \"<frozen importlib._bootstrap>\", line 1027 in _find_and_load\n",
      "\u001B[2m\u001B[36m(launch_and_get_parameters pid=14388)\u001B[0m   File \"<frozen importlib._bootstrap>\", line 241 in _call_with_frames_removed\n",
      "\u001B[2m\u001B[36m(launch_and_get_parameters pid=14388)\u001B[0m   File \"<frozen importlib._bootstrap>\", line 992 in _find_and_load_unlocked\n",
      "\u001B[2m\u001B[36m(launch_and_get_parameters pid=14388)\u001B[0m   File \"<frozen importlib._bootstrap>\", line 1027 in _find_and_load\n",
      "\u001B[2m\u001B[36m(launch_and_get_parameters pid=14388)\u001B[0m   File \"D:\\FD\\venv\\lib\\site-packages\\torchvision\\datasets\\_optical_flow.py\", line 12 in <module>\n",
      "\u001B[2m\u001B[36m(launch_and_get_parameters pid=14388)\u001B[0m   File \"<frozen importlib._bootstrap>\", line 241 in _call_with_frames_removed\n",
      "\u001B[2m\u001B[36m(launch_and_get_parameters pid=14388)\u001B[0m   File \"<frozen importlib._bootstrap_external>\", line 883 in exec_module\n",
      "\u001B[2m\u001B[36m(launch_and_get_parameters pid=14388)\u001B[0m   File \"<frozen importlib._bootstrap>\", line 688 in _load_unlocked\n",
      "\u001B[2m\u001B[36m(launch_and_get_parameters pid=14388)\u001B[0m   File \"<frozen importlib._bootstrap>\", line 1006 in _find_and_load_unlocked\n",
      "\u001B[2m\u001B[36m(launch_and_get_parameters pid=14388)\u001B[0m   File \"<frozen importlib._bootstrap>\", line 1027 in _find_and_load\n",
      "\u001B[2m\u001B[36m(launch_and_get_parameters pid=14388)\u001B[0m   File \"D:\\FD\\venv\\lib\\site-packages\\torchvision\\datasets\\__init__.py\", line 1 in <module>\n",
      "\u001B[2m\u001B[36m(launch_and_get_parameters pid=14388)\u001B[0m   File \"<frozen importlib._bootstrap>\", line 241 in _call_with_frames_removed\n",
      "\u001B[2m\u001B[36m(launch_and_get_parameters pid=14388)\u001B[0m   File \"<frozen importlib._bootstrap_external>\", line 883 in exec_module\n",
      "\u001B[2m\u001B[36m(launch_and_get_parameters pid=14388)\u001B[0m   File \"<frozen importlib._bootstrap>\", line 688 in _load_unlocked\n",
      "\u001B[2m\u001B[36m(launch_and_get_parameters pid=14388)\u001B[0m   File \"<frozen importlib._bootstrap>\", line 1006 in _find_and_load_unlocked\n",
      "\u001B[2m\u001B[36m(launch_and_get_parameters pid=14388)\u001B[0m   File \"<frozen importlib._bootstrap>\", line 1027 in _find_and_load\n",
      "\u001B[2m\u001B[36m(launch_and_get_parameters pid=14388)\u001B[0m   File \"<frozen importlib._bootstrap>\", line 241 in _call_with_frames_removed\n",
      "\u001B[2m\u001B[36m(launch_and_get_parameters pid=14388)\u001B[0m   File \"<frozen importlib._bootstrap>\", line 1078 in _handle_fromlist\n",
      "\u001B[2m\u001B[36m(launch_and_get_parameters pid=14388)\u001B[0m   File \"D:\\FD\\venv\\lib\\site-packages\\torchvision\\__init__.py\", line 6 in <module>\n",
      "\u001B[2m\u001B[36m(launch_and_get_parameters pid=14388)\u001B[0m   File \"<frozen importlib._bootstrap>\", line 241 in _call_with_frames_removed\n",
      "\u001B[2m\u001B[36m(launch_and_get_parameters pid=14388)\u001B[0m   File \"<frozen importlib._bootstrap_external>\", line 883 in exec_module\n",
      "\u001B[2m\u001B[36m(launch_and_get_parameters pid=14388)\u001B[0m   File \"<frozen importlib._bootstrap>\", line 688 in _load_unlocked\n",
      "\u001B[2m\u001B[36m(launch_and_get_parameters pid=14388)\u001B[0m   File \"<frozen importlib._bootstrap>\", line 1006 in _find_and_load_unlocked\n",
      "\u001B[2m\u001B[36m(launch_and_get_parameters pid=14388)\u001B[0m   File \"<frozen importlib._bootstrap>\", line 1027 in _find_and_load\n",
      "\u001B[2m\u001B[36m(launch_and_get_parameters pid=14388)\u001B[0m   File \"<frozen importlib._bootstrap>\", line 1050 in _gcd_import\n",
      "\u001B[2m\u001B[36m(launch_and_get_parameters pid=14388)\u001B[0m   File \"C:\\Program Files\\WindowsApps\\PythonSoftwareFoundation.Python.3.10_3.10.3056.0_x64__qbz5n2kfra8p0\\lib\\importlib\\__init__.py\", line 126 in import_module\n",
      "\u001B[2m\u001B[36m(launch_and_get_parameters pid=14388)\u001B[0m   File \"D:\\FD\\venv\\lib\\site-packages\\lightning_utilities\\core\\imports.py\", line 73 in compare_version\n",
      "\u001B[2m\u001B[36m(launch_and_get_parameters pid=14388)\u001B[0m   File \"D:\\FD\\venv\\lib\\site-packages\\torchmetrics\\utilities\\imports.py\", line 41 in <module>\n",
      "\u001B[2m\u001B[36m(launch_and_get_parameters pid=14388)\u001B[0m   File \"<frozen importlib._bootstrap>\", line 241 in _call_with_frames_removed\n",
      "\u001B[2m\u001B[36m(launch_and_get_parameters pid=14388)\u001B[0m   File \"<frozen importlib._bootstrap_external>\", line 883 in exec_module\n",
      "\u001B[2m\u001B[36m(launch_and_get_parameters pid=14388)\u001B[0m   File \"<frozen importlib._bootstrap>\", line 688 in _load_unlocked\n",
      "\u001B[2m\u001B[36m(launch_and_get_parameters pid=14388)\u001B[0m   File \"<frozen importlib._bootstrap>\", line 1006 in _find_and_load_unlocked\n",
      "\u001B[2m\u001B[36m(launch_and_get_parameters pid=14388)\u001B[0m   File \"<frozen importlib._bootstrap>\", line 1027 in _find_and_load\n",
      "\u001B[2m\u001B[36m(launch_and_get_parameters pid=14388)\u001B[0m   File \"D:\\FD\\venv\\lib\\site-packages\\torchmetrics\\utilities\\data.py\", line 22 in <module>\n",
      "\u001B[2m\u001B[36m(launch_and_get_parameters pid=14388)\u001B[0m   File \"<frozen importlib._bootstrap>\", line 241 in _call_with_frames_removed\n",
      "\u001B[2m\u001B[36m(launch_and_get_parameters pid=14388)\u001B[0m   File \"<frozen importlib._bootstrap_external>\", line 883 in exec_module\n",
      "\u001B[2m\u001B[36m(launch_and_get_parameters pid=14388)\u001B[0m   File \"<frozen importlib._bootstrap>\", line 688 in _load_unlocked\n",
      "\u001B[2m\u001B[36m(launch_and_get_parameters pid=14388)\u001B[0m   File \"<frozen importlib._bootstrap>\", line 1006 in _find_and_load_unlocked\n",
      "\u001B[2m\u001B[36m(launch_and_get_parameters pid=14388)\u001B[0m   File \"<frozen importlib._bootstrap>\", line 1027 in _find_and_load\n",
      "\u001B[2m\u001B[36m(launch_and_get_parameters pid=14388)\u001B[0m   File \"D:\\FD\\venv\\lib\\site-packages\\torchmetrics\\metric.py\", line 30 in <module>\n",
      "\u001B[2m\u001B[36m(launch_and_get_parameters pid=14388)\u001B[0m   File \"<frozen importlib._bootstrap>\", line 241 in _call_with_frames_removed\n",
      "\u001B[2m\u001B[36m(launch_and_get_parameters pid=14388)\u001B[0m   File \"<frozen importlib._bootstrap_external>\", line 883 in exec_module\n",
      "\u001B[2m\u001B[36m(launch_and_get_parameters pid=14388)\u001B[0m   File \"<frozen importlib._bootstrap>\", line 688 in _load_unlocked\n",
      "\u001B[2m\u001B[36m(launch_and_get_parameters pid=14388)\u001B[0m   File \"<frozen importlib._bootstrap>\", line 1006 in _find_and_load_unlocked\n",
      "\u001B[2m\u001B[36m(launch_and_get_parameters pid=14388)\u001B[0m   File \"<frozen importlib._bootstrap>\", line 1027 in _find_and_load\n",
      "\u001B[2m\u001B[36m(launch_and_get_parameters pid=14388)\u001B[0m   File \"D:\\FD\\venv\\lib\\site-packages\\torchmetrics\\utilities\\checks.py\", line 25 in <module>\n",
      "\u001B[2m\u001B[36m(launch_and_get_parameters pid=14388)\u001B[0m   File \"<frozen importlib._bootstrap>\", line 241 in _call_with_frames_removed\n",
      "\u001B[2m\u001B[36m(launch_and_get_parameters pid=14388)\u001B[0m   File \"<frozen importlib._bootstrap_external>\", line 883 in exec_module\n",
      "\u001B[2m\u001B[36m(launch_and_get_parameters pid=14388)\u001B[0m   File \"<frozen importlib._bootstrap>\", line 688 in _load_unlocked\n",
      "\u001B[2m\u001B[36m(launch_and_get_parameters pid=14388)\u001B[0m   File \"<frozen importlib._bootstrap>\", line 1006 in _find_and_load_unlocked\n",
      "\u001B[2m\u001B[36m(launch_and_get_parameters pid=14388)\u001B[0m   File \"<frozen importlib._bootstrap>\", line 1027 in _find_and_load\n",
      "\u001B[2m\u001B[36m(launch_and_get_parameters pid=14388)\u001B[0m   File \"D:\\FD\\venv\\lib\\site-packages\\torchmetrics\\utilities\\__init__.py\", line 14 in <module>\n",
      "\u001B[2m\u001B[36m(launch_and_get_parameters pid=14388)\u001B[0m   File \"<frozen importlib._bootstrap>\", line 241 in _call_with_frames_removed\n",
      "\u001B[2m\u001B[36m(launch_and_get_parameters pid=14388)\u001B[0m   File \"<frozen importlib._bootstrap_external>\", line 883 in exec_module\n",
      "\u001B[2m\u001B[36m(launch_and_get_parameters pid=14388)\u001B[0m   File \"<frozen importlib._bootstrap>\", line 688 in _load_unlocked\n",
      "\u001B[2m\u001B[36m(launch_and_get_parameters pid=14388)\u001B[0m   File \"<frozen importlib._bootstrap>\", line 1006 in _find_and_load_unlocked\n",
      "\u001B[2m\u001B[36m(launch_and_get_parameters pid=14388)\u001B[0m   File \"<frozen importlib._bootstrap>\", line 1027 in _find_and_load\n",
      "\u001B[2m\u001B[36m(launch_and_get_parameters pid=14388)\u001B[0m   File \"D:\\FD\\venv\\lib\\site-packages\\torchmetrics\\functional\\audio\\pit.py\", line 23 in <module>\n",
      "\u001B[2m\u001B[36m(launch_and_get_parameters pid=14388)\u001B[0m   File \"<frozen importlib._bootstrap>\", line 241 in _call_with_frames_removed\n",
      "\u001B[2m\u001B[36m(launch_and_get_parameters pid=14388)\u001B[0m   File \"<frozen importlib._bootstrap_external>\", line 883 in exec_module\n",
      "\u001B[2m\u001B[36m(launch_and_get_parameters pid=14388)\u001B[0m   File \"<frozen importlib._bootstrap>\", line 688 in _load_unlocked\n",
      "\u001B[2m\u001B[36m(launch_and_get_parameters pid=14388)\u001B[0m   File \"<frozen importlib._bootstrap>\", line 1006 in _find_and_load_unlocked\n",
      "\u001B[2m\u001B[36m(launch_and_get_parameters pid=14388)\u001B[0m   File \"<frozen importlib._bootstrap>\", line 1027 in _find_and_load\n",
      "\u001B[2m\u001B[36m(launch_and_get_parameters pid=14388)\u001B[0m   File \"D:\\FD\\venv\\lib\\site-packages\\torchmetrics\\functional\\audio\\__init__.py\", line 14 in <module>\n",
      "\u001B[2m\u001B[36m(launch_and_get_parameters pid=14388)\u001B[0m   File \"<frozen importlib._bootstrap>\", line 241 in _call_with_frames_removed\n",
      "\u001B[2m\u001B[36m(launch_and_get_parameters pid=14388)\u001B[0m   File \"<frozen importlib._bootstrap_external>\", line 883 in exec_module\n",
      "\u001B[2m\u001B[36m(launch_and_get_parameters pid=14388)\u001B[0m   File \"<frozen importlib._bootstrap>\", line 688 in _load_unlocked\n",
      "\u001B[2m\u001B[36m(launch_and_get_parameters pid=14388)\u001B[0m   File \"<frozen importlib._bootstrap>\", line 1006 in _find_and_load_unlocked\n",
      "\u001B[2m\u001B[36m(launch_and_get_parameters pid=14388)\u001B[0m   File \"<frozen importlib._bootstrap>\", line 1027 in _find_and_load\n",
      "\u001B[2m\u001B[36m(launch_and_get_parameters pid=14388)\u001B[0m   File \"<frozen importlib._bootstrap>\", line 241 in _call_with_frames_removed\n",
      "\u001B[2m\u001B[36m(launch_and_get_parameters pid=14388)\u001B[0m   File \"<frozen importlib._bootstrap>\", line 992 in _find_and_load_unlocked\n",
      "\u001B[2m\u001B[36m(launch_and_get_parameters pid=14388)\u001B[0m   File \"<frozen importlib._bootstrap>\", line 1027 in _find_and_load\n",
      "\u001B[2m\u001B[36m(launch_and_get_parameters pid=14388)\u001B[0m   File \"D:\\FD\\venv\\lib\\site-packages\\torchmetrics\\functional\\__init__.py\", line 14 in <module>\n",
      "\u001B[2m\u001B[36m(launch_and_get_parameters pid=14388)\u001B[0m   File \"<frozen importlib._bootstrap>\", line 241 in _call_with_frames_removed\n",
      "\u001B[2m\u001B[36m(launch_and_get_parameters pid=14388)\u001B[0m   File \"<frozen importlib._bootstrap_external>\", line 883 in exec_module\n",
      "\u001B[2m\u001B[36m(launch_and_get_parameters pid=14388)\u001B[0m   File \"<frozen importlib._bootstrap>\", line 688 in _load_unlocked\n",
      "\u001B[2m\u001B[36m(launch_and_get_parameters pid=14388)\u001B[0m   File \"<frozen importlib._bootstrap>\", line 1006 in _find_and_load_unlocked\n",
      "\u001B[2m\u001B[36m(launch_and_get_parameters pid=14388)\u001B[0m   File \"<frozen importlib._bootstrap>\", line 1027 in _find_and_load\n",
      "\u001B[2m\u001B[36m(launch_and_get_parameters pid=14388)\u001B[0m   File \"<frozen importlib._bootstrap>\", line 241 in _call_with_frames_removed\n",
      "\u001B[2m\u001B[36m(launch_and_get_parameters pid=14388)\u001B[0m   File \"<frozen importlib._bootstrap>\", line 1078 in _handle_fromlist\n",
      "\u001B[2m\u001B[36m(launch_and_get_parameters pid=14388)\u001B[0m   File \"D:\\FD\\venv\\lib\\site-packages\\torchmetrics\\__init__.py\", line 14 in <module>\n",
      "\u001B[2m\u001B[36m(launch_and_get_parameters pid=14388)\u001B[0m   ...\n",
      "\u001B[2m\u001B[36m(launch_and_get_parameters pid=14388)\u001B[0m Windows fatal exception: code 0xc0000139\n",
      "\u001B[2m\u001B[36m(launch_and_get_parameters pid=14388)\u001B[0m \n",
      "\u001B[2m\u001B[36m(launch_and_get_parameters pid=14388)\u001B[0m D:\\FD\\venv\\lib\\site-packages\\torchvision\\io\\image.py:13: UserWarning: Failed to load image Python extension: '[WinError 127] 找不到指定的程序。'If you don't plan on using image functionality from `torchvision.io`, you can ignore this warning. Otherwise, there might be something wrong with your environment. Did you have `libjpeg` or `libpng` installed before building `torchvision` from source?\n",
      "\u001B[2m\u001B[36m(launch_and_get_parameters pid=14388)\u001B[0m   warn(\n",
      "INFO flwr 2023-08-28 17:49:30,457 | fl_server.py:292 | Received initial parameters from one random client\n",
      "INFO flwr 2023-08-28 17:49:30,459 | fl_server.py:84 | Evaluating initial parameters\n"
     ]
    },
    {
     "name": "stdout",
     "output_type": "stream",
     "text": [
      "serverside task_type binary\n",
      "test  binary\n"
     ]
    },
    {
     "ename": "RuntimeError",
     "evalue": "shape '[-1, 20000]' is invalid for input of size 1000",
     "output_type": "error",
     "traceback": [
      "\u001B[1;31m---------------------------------------------------------------------------\u001B[0m",
      "\u001B[1;31mRuntimeError\u001B[0m                              Traceback (most recent call last)",
      "Cell \u001B[1;32mIn[14], line 2\u001B[0m\n\u001B[0;32m      1\u001B[0m split \u001B[38;5;241m=\u001B[39m [\u001B[38;5;241m0.1\u001B[39m, \u001B[38;5;241m0.1\u001B[39m, \u001B[38;5;241m0.1\u001B[39m, \u001B[38;5;241m0.1\u001B[39m, \u001B[38;5;241m0.1\u001B[39m, \u001B[38;5;241m0.1\u001B[39m, \u001B[38;5;241m0.1\u001B[39m, \u001B[38;5;241m0.1\u001B[39m, \u001B[38;5;241m0.1\u001B[39m, \u001B[38;5;241m0.1\u001B[39m]\n\u001B[1;32m----> 2\u001B[0m \u001B[43mdo_fl\u001B[49m\u001B[43m(\u001B[49m\u001B[43msplit\u001B[49m\u001B[43m)\u001B[49m\n\u001B[0;32m      4\u001B[0m split \u001B[38;5;241m=\u001B[39m [\u001B[38;5;241m0.6\u001B[39m, \u001B[38;5;241m0.05\u001B[39m, \u001B[38;5;241m0.05\u001B[39m, \u001B[38;5;241m0.05\u001B[39m, \u001B[38;5;241m0.05\u001B[39m, \u001B[38;5;241m0.04\u001B[39m, \u001B[38;5;241m0.04\u001B[39m, \u001B[38;5;241m0.04\u001B[39m, \u001B[38;5;241m0.04\u001B[39m, \u001B[38;5;241m0.04\u001B[39m]\n\u001B[0;32m      5\u001B[0m do_fl(split)\n",
      "Cell \u001B[1;32mIn[12], line 31\u001B[0m, in \u001B[0;36mdo_fl\u001B[1;34m(split, X, y)\u001B[0m\n\u001B[0;32m     28\u001B[0m     trainset \u001B[38;5;241m=\u001B[39m TreeDataset(np\u001B[38;5;241m.\u001B[39marray(X_train, copy\u001B[38;5;241m=\u001B[39m\u001B[38;5;28;01mTrue\u001B[39;00m), np\u001B[38;5;241m.\u001B[39marray(y_train, copy\u001B[38;5;241m=\u001B[39m\u001B[38;5;28;01mTrue\u001B[39;00m))\n\u001B[0;32m     29\u001B[0m     testset \u001B[38;5;241m=\u001B[39m TreeDataset(np\u001B[38;5;241m.\u001B[39marray(X_test, copy\u001B[38;5;241m=\u001B[39m\u001B[38;5;28;01mTrue\u001B[39;00m), np\u001B[38;5;241m.\u001B[39marray(y_test, copy\u001B[38;5;241m=\u001B[39m\u001B[38;5;28;01mTrue\u001B[39;00m))\n\u001B[1;32m---> 31\u001B[0m     \u001B[43mstart_experiment\u001B[49m\u001B[43m(\u001B[49m\n\u001B[0;32m     32\u001B[0m \u001B[43m        \u001B[49m\u001B[43msplit\u001B[49m\u001B[38;5;241;43m=\u001B[39;49m\u001B[43msplit\u001B[49m\u001B[43m,\u001B[49m\n\u001B[0;32m     33\u001B[0m \u001B[43m        \u001B[49m\u001B[43mtrainset\u001B[49m\u001B[38;5;241;43m=\u001B[39;49m\u001B[43mtrainset\u001B[49m\u001B[43m,\u001B[49m\n\u001B[0;32m     34\u001B[0m \u001B[43m        \u001B[49m\u001B[43mtestset\u001B[49m\u001B[38;5;241;43m=\u001B[39;49m\u001B[43mtestset\u001B[49m\u001B[43m,\u001B[49m\n\u001B[0;32m     35\u001B[0m \u001B[43m        \u001B[49m\u001B[43mnum_rounds\u001B[49m\u001B[38;5;241;43m=\u001B[39;49m\u001B[38;5;241;43m8\u001B[39;49m\u001B[43m,\u001B[49m\n\u001B[0;32m     36\u001B[0m \u001B[43m        \u001B[49m\u001B[43mclient_tree_num\u001B[49m\u001B[38;5;241;43m=\u001B[39;49m\u001B[38;5;241;43m100\u001B[39;49m\u001B[43m,\u001B[49m\n\u001B[0;32m     37\u001B[0m \u001B[43m        \u001B[49m\u001B[43mclient_pool_size\u001B[49m\u001B[38;5;241;43m=\u001B[39;49m\u001B[38;5;28;43mlen\u001B[39;49m\u001B[43m(\u001B[49m\u001B[43msplit\u001B[49m\u001B[43m)\u001B[49m\u001B[43m,\u001B[49m\n\u001B[0;32m     38\u001B[0m \u001B[43m        \u001B[49m\u001B[43mnum_iterations\u001B[49m\u001B[38;5;241;43m=\u001B[39;49m\u001B[38;5;241;43m2\u001B[39;49m\u001B[43m,\u001B[49m\n\u001B[0;32m     39\u001B[0m \u001B[43m        \u001B[49m\u001B[43mbatch_size\u001B[49m\u001B[38;5;241;43m=\u001B[39;49m\u001B[38;5;241;43m64\u001B[39;49m\u001B[43m,\u001B[49m\n\u001B[0;32m     40\u001B[0m \u001B[43m        \u001B[49m\u001B[43mfraction_fit\u001B[49m\u001B[38;5;241;43m=\u001B[39;49m\u001B[38;5;241;43m0.5\u001B[39;49m\u001B[43m,\u001B[49m\n\u001B[0;32m     41\u001B[0m \u001B[43m        \u001B[49m\u001B[43mmin_fit_clients\u001B[49m\u001B[38;5;241;43m=\u001B[39;49m\u001B[38;5;241;43m2\u001B[39;49m\u001B[43m,\u001B[49m\n\u001B[0;32m     42\u001B[0m \u001B[43m        \u001B[49m\u001B[43mval_ratio\u001B[49m\u001B[38;5;241;43m=\u001B[39;49m\u001B[38;5;241;43m0.0\u001B[39;49m\u001B[43m,\u001B[49m\n\u001B[0;32m     43\u001B[0m \u001B[43m        \u001B[49m\u001B[43mclient_num\u001B[49m\u001B[38;5;241;43m=\u001B[39;49m\u001B[38;5;28;43mlen\u001B[39;49m\u001B[43m(\u001B[49m\u001B[43msplit\u001B[49m\u001B[43m)\u001B[49m\u001B[43m,\u001B[49m\n\u001B[0;32m     44\u001B[0m \u001B[43m        \u001B[49m\u001B[43mlr\u001B[49m\u001B[38;5;241;43m=\u001B[39;49m\u001B[38;5;241;43m0.05\u001B[39;49m\u001B[43m,\u001B[49m\n\u001B[0;32m     45\u001B[0m \u001B[43m        \u001B[49m\u001B[43mcolsample_bytree\u001B[49m\u001B[38;5;241;43m=\u001B[39;49m\u001B[38;5;241;43m1\u001B[39;49m\u001B[43m,\u001B[49m\n\u001B[0;32m     46\u001B[0m \u001B[43m        \u001B[49m\u001B[43msubsample\u001B[49m\u001B[38;5;241;43m=\u001B[39;49m\u001B[38;5;241;43m0.8\u001B[39;49m\u001B[43m,\u001B[49m\n\u001B[0;32m     47\u001B[0m \u001B[43m        \u001B[49m\u001B[43mmax_depth\u001B[49m\u001B[38;5;241;43m=\u001B[39;49m\u001B[38;5;241;43m5\u001B[39;49m\u001B[43m,\u001B[49m\n\u001B[0;32m     48\u001B[0m \u001B[43m        \u001B[49m\u001B[43mmin_child_weight\u001B[49m\u001B[38;5;241;43m=\u001B[39;49m\u001B[38;5;241;43m3\u001B[39;49m\n\u001B[0;32m     49\u001B[0m \u001B[43m    \u001B[49m\u001B[43m)\u001B[49m\n\u001B[0;32m     51\u001B[0m end \u001B[38;5;241m=\u001B[39m datetime\u001B[38;5;241m.\u001B[39mdatetime\u001B[38;5;241m.\u001B[39mnow()\n\u001B[0;32m     52\u001B[0m time \u001B[38;5;241m=\u001B[39m end \u001B[38;5;241m-\u001B[39m start\n",
      "File \u001B[1;32mD:\\FD\\fl_simu.py:682\u001B[0m, in \u001B[0;36mstart_experiment\u001B[1;34m(split, trainset, testset, max_depth, min_child_weight, subsample, num_rounds, client_tree_num, client_pool_size, num_iterations, fraction_fit, min_fit_clients, batch_size, val_ratio, client_num, task_type, lr, colsample_bytree)\u001B[0m\n\u001B[0;32m    666\u001B[0m             \u001B[38;5;28;01mreturn\u001B[39;00m xgb_multi_client(\n\u001B[0;32m    667\u001B[0m                 trainloaders[\u001B[38;5;28mint\u001B[39m(cid)],\n\u001B[0;32m    668\u001B[0m                 \u001B[38;5;28;01mNone\u001B[39;00m,\n\u001B[1;32m   (...)\u001B[0m\n\u001B[0;32m    678\u001B[0m                 colsample_bytree\u001B[38;5;241m=\u001B[39mcolsample_bytree,\n\u001B[0;32m    679\u001B[0m             )\n\u001B[0;32m    681\u001B[0m \u001B[38;5;66;03m# Start the simulation\u001B[39;00m\n\u001B[1;32m--> 682\u001B[0m history \u001B[38;5;241m=\u001B[39m \u001B[43mfl\u001B[49m\u001B[38;5;241;43m.\u001B[39;49m\u001B[43msimulation\u001B[49m\u001B[38;5;241;43m.\u001B[39;49m\u001B[43mstart_simulation\u001B[49m\u001B[43m(\u001B[49m\n\u001B[0;32m    683\u001B[0m \u001B[43m    \u001B[49m\u001B[43mclient_fn\u001B[49m\u001B[38;5;241;43m=\u001B[39;49m\u001B[43mclient_fn\u001B[49m\u001B[43m,\u001B[49m\n\u001B[0;32m    684\u001B[0m \u001B[43m    \u001B[49m\u001B[43mserver\u001B[49m\u001B[38;5;241;43m=\u001B[39;49m\u001B[43mFL_Server\u001B[49m\u001B[43m(\u001B[49m\u001B[43mclient_manager\u001B[49m\u001B[38;5;241;43m=\u001B[39;49m\u001B[43mSimpleClientManager\u001B[49m\u001B[43m(\u001B[49m\u001B[43m)\u001B[49m\u001B[43m,\u001B[49m\u001B[43m \u001B[49m\u001B[43mstrategy\u001B[49m\u001B[38;5;241;43m=\u001B[39;49m\u001B[43mstrategy\u001B[49m\u001B[43m)\u001B[49m\u001B[43m,\u001B[49m\n\u001B[0;32m    685\u001B[0m \u001B[43m    \u001B[49m\u001B[43mnum_clients\u001B[49m\u001B[38;5;241;43m=\u001B[39;49m\u001B[43mclient_pool_size\u001B[49m\u001B[43m,\u001B[49m\n\u001B[0;32m    686\u001B[0m \u001B[43m    \u001B[49m\u001B[43mclient_resources\u001B[49m\u001B[38;5;241;43m=\u001B[39;49m\u001B[43mclient_resources\u001B[49m\u001B[43m,\u001B[49m\n\u001B[0;32m    687\u001B[0m \u001B[43m    \u001B[49m\u001B[43mconfig\u001B[49m\u001B[38;5;241;43m=\u001B[39;49m\u001B[43mServerConfig\u001B[49m\u001B[43m(\u001B[49m\u001B[43mnum_rounds\u001B[49m\u001B[38;5;241;43m=\u001B[39;49m\u001B[43mnum_rounds\u001B[49m\u001B[43m)\u001B[49m\u001B[43m,\u001B[49m\n\u001B[0;32m    688\u001B[0m \u001B[43m    \u001B[49m\u001B[43mstrategy\u001B[49m\u001B[38;5;241;43m=\u001B[39;49m\u001B[43mstrategy\u001B[49m\u001B[43m,\u001B[49m\n\u001B[0;32m    689\u001B[0m \u001B[43m\u001B[49m\u001B[43m)\u001B[49m\n\u001B[0;32m    691\u001B[0m \u001B[38;5;28mprint\u001B[39m(history)\n\u001B[0;32m    692\u001B[0m \u001B[38;5;28mprint\u001B[39m(history\u001B[38;5;241m.\u001B[39mlosses_centralized)\n",
      "File \u001B[1;32mD:\\FD\\venv\\lib\\site-packages\\flwr\\simulation\\app.py:196\u001B[0m, in \u001B[0;36mstart_simulation\u001B[1;34m(client_fn, num_clients, clients_ids, client_resources, server, config, strategy, client_manager, ray_init_args, keep_initialised)\u001B[0m\n\u001B[0;32m    193\u001B[0m     initialized_server\u001B[38;5;241m.\u001B[39mclient_manager()\u001B[38;5;241m.\u001B[39mregister(client\u001B[38;5;241m=\u001B[39mclient_proxy)\n\u001B[0;32m    195\u001B[0m \u001B[38;5;66;03m# Start training\u001B[39;00m\n\u001B[1;32m--> 196\u001B[0m hist \u001B[38;5;241m=\u001B[39m \u001B[43mrun_fl\u001B[49m\u001B[43m(\u001B[49m\n\u001B[0;32m    197\u001B[0m \u001B[43m    \u001B[49m\u001B[43mserver\u001B[49m\u001B[38;5;241;43m=\u001B[39;49m\u001B[43minitialized_server\u001B[49m\u001B[43m,\u001B[49m\n\u001B[0;32m    198\u001B[0m \u001B[43m    \u001B[49m\u001B[43mconfig\u001B[49m\u001B[38;5;241;43m=\u001B[39;49m\u001B[43minitialized_config\u001B[49m\u001B[43m,\u001B[49m\n\u001B[0;32m    199\u001B[0m \u001B[43m\u001B[49m\u001B[43m)\u001B[49m\n\u001B[0;32m    201\u001B[0m event(EventType\u001B[38;5;241m.\u001B[39mSTART_SIMULATION_LEAVE)\n\u001B[0;32m    203\u001B[0m \u001B[38;5;28;01mreturn\u001B[39;00m hist\n",
      "File \u001B[1;32mD:\\FD\\venv\\lib\\site-packages\\flwr\\server\\app.py:224\u001B[0m, in \u001B[0;36mrun_fl\u001B[1;34m(server, config)\u001B[0m\n\u001B[0;32m    219\u001B[0m \u001B[38;5;28;01mdef\u001B[39;00m \u001B[38;5;21mrun_fl\u001B[39m(\n\u001B[0;32m    220\u001B[0m     server: Server,\n\u001B[0;32m    221\u001B[0m     config: ServerConfig,\n\u001B[0;32m    222\u001B[0m ) \u001B[38;5;241m-\u001B[39m\u001B[38;5;241m>\u001B[39m History:\n\u001B[0;32m    223\u001B[0m \u001B[38;5;250m    \u001B[39m\u001B[38;5;124;03m\"\"\"Train a model on the given server and return the History object.\"\"\"\u001B[39;00m\n\u001B[1;32m--> 224\u001B[0m     hist \u001B[38;5;241m=\u001B[39m \u001B[43mserver\u001B[49m\u001B[38;5;241;43m.\u001B[39;49m\u001B[43mfit\u001B[49m\u001B[43m(\u001B[49m\u001B[43mnum_rounds\u001B[49m\u001B[38;5;241;43m=\u001B[39;49m\u001B[43mconfig\u001B[49m\u001B[38;5;241;43m.\u001B[39;49m\u001B[43mnum_rounds\u001B[49m\u001B[43m,\u001B[49m\u001B[43m \u001B[49m\u001B[43mtimeout\u001B[49m\u001B[38;5;241;43m=\u001B[39;49m\u001B[43mconfig\u001B[49m\u001B[38;5;241;43m.\u001B[39;49m\u001B[43mround_timeout\u001B[49m\u001B[43m)\u001B[49m\n\u001B[0;32m    225\u001B[0m     log(INFO, \u001B[38;5;124m\"\u001B[39m\u001B[38;5;124mapp_fit: losses_distributed \u001B[39m\u001B[38;5;132;01m%s\u001B[39;00m\u001B[38;5;124m\"\u001B[39m, \u001B[38;5;28mstr\u001B[39m(hist\u001B[38;5;241m.\u001B[39mlosses_distributed))\n\u001B[0;32m    226\u001B[0m     log(INFO, \u001B[38;5;124m\"\u001B[39m\u001B[38;5;124mapp_fit: metrics_distributed_fit \u001B[39m\u001B[38;5;132;01m%s\u001B[39;00m\u001B[38;5;124m\"\u001B[39m, \u001B[38;5;28mstr\u001B[39m(hist\u001B[38;5;241m.\u001B[39mmetrics_distributed_fit))\n",
      "File \u001B[1;32mD:\\FD\\fl_server.py:85\u001B[0m, in \u001B[0;36mFL_Server.fit\u001B[1;34m(self, num_rounds, timeout)\u001B[0m\n\u001B[0;32m     82\u001B[0m \u001B[38;5;28mself\u001B[39m\u001B[38;5;241m.\u001B[39mparameters \u001B[38;5;241m=\u001B[39m \u001B[38;5;28mself\u001B[39m\u001B[38;5;241m.\u001B[39m_get_initial_parameters(timeout\u001B[38;5;241m=\u001B[39mtimeout)\n\u001B[0;32m     84\u001B[0m log(INFO, \u001B[38;5;124m\"\u001B[39m\u001B[38;5;124mEvaluating initial parameters\u001B[39m\u001B[38;5;124m\"\u001B[39m)\n\u001B[1;32m---> 85\u001B[0m res \u001B[38;5;241m=\u001B[39m \u001B[38;5;28;43mself\u001B[39;49m\u001B[38;5;241;43m.\u001B[39;49m\u001B[43mstrategy\u001B[49m\u001B[38;5;241;43m.\u001B[39;49m\u001B[43mevaluate\u001B[49m\u001B[43m(\u001B[49m\u001B[38;5;241;43m0\u001B[39;49m\u001B[43m,\u001B[49m\u001B[43m \u001B[49m\u001B[43mparameters\u001B[49m\u001B[38;5;241;43m=\u001B[39;49m\u001B[38;5;28;43mself\u001B[39;49m\u001B[38;5;241;43m.\u001B[39;49m\u001B[43mparameters\u001B[49m\u001B[43m)\u001B[49m\n\u001B[0;32m     86\u001B[0m \u001B[38;5;28;01mif\u001B[39;00m res \u001B[38;5;129;01mis\u001B[39;00m \u001B[38;5;129;01mnot\u001B[39;00m \u001B[38;5;28;01mNone\u001B[39;00m:\n\u001B[0;32m     87\u001B[0m     log(\n\u001B[0;32m     88\u001B[0m         INFO,\n\u001B[0;32m     89\u001B[0m         \u001B[38;5;124m\"\u001B[39m\u001B[38;5;124minitial parameters (loss, other metrics): \u001B[39m\u001B[38;5;132;01m%s\u001B[39;00m\u001B[38;5;124m, \u001B[39m\u001B[38;5;132;01m%s\u001B[39;00m\u001B[38;5;124m\"\u001B[39m,\n\u001B[0;32m     90\u001B[0m         res[\u001B[38;5;241m0\u001B[39m],\n\u001B[0;32m     91\u001B[0m         res[\u001B[38;5;241m1\u001B[39m],\n\u001B[0;32m     92\u001B[0m     )\n",
      "File \u001B[1;32mD:\\FD\\venv\\lib\\site-packages\\flwr\\server\\strategy\\fedxgb_nn_avg.py:50\u001B[0m, in \u001B[0;36mFedXgbNnAvg.evaluate\u001B[1;34m(self, server_round, parameters)\u001B[0m\n\u001B[0;32m     47\u001B[0m \u001B[38;5;28;01mif\u001B[39;00m \u001B[38;5;28mself\u001B[39m\u001B[38;5;241m.\u001B[39mevaluate_fn \u001B[38;5;129;01mis\u001B[39;00m \u001B[38;5;28;01mNone\u001B[39;00m:\n\u001B[0;32m     48\u001B[0m     \u001B[38;5;66;03m# No evaluation function provided\u001B[39;00m\n\u001B[0;32m     49\u001B[0m     \u001B[38;5;28;01mreturn\u001B[39;00m \u001B[38;5;28;01mNone\u001B[39;00m\n\u001B[1;32m---> 50\u001B[0m eval_res \u001B[38;5;241m=\u001B[39m \u001B[38;5;28;43mself\u001B[39;49m\u001B[38;5;241;43m.\u001B[39;49m\u001B[43mevaluate_fn\u001B[49m\u001B[43m(\u001B[49m\u001B[43mserver_round\u001B[49m\u001B[43m,\u001B[49m\u001B[43m \u001B[49m\u001B[43mparameters\u001B[49m\u001B[43m,\u001B[49m\u001B[43m \u001B[49m\u001B[43m{\u001B[49m\u001B[43m}\u001B[49m\u001B[43m)\u001B[49m\n\u001B[0;32m     51\u001B[0m \u001B[38;5;28;01mif\u001B[39;00m eval_res \u001B[38;5;129;01mis\u001B[39;00m \u001B[38;5;28;01mNone\u001B[39;00m:\n\u001B[0;32m     52\u001B[0m     \u001B[38;5;28;01mreturn\u001B[39;00m \u001B[38;5;28;01mNone\u001B[39;00m\n",
      "File \u001B[1;32mD:\\FD\\fl_simu.py:530\u001B[0m, in \u001B[0;36mserverside_eval\u001B[1;34m(server_round, parameters, config, testloader, batch_size, client_tree_num, client_num, task_type)\u001B[0m\n\u001B[0;32m    524\u001B[0m trees_aggregated \u001B[38;5;241m=\u001B[39m parameters[\u001B[38;5;241m1\u001B[39m]\n\u001B[0;32m    526\u001B[0m testloader \u001B[38;5;241m=\u001B[39m tree_encoding_loader(\n\u001B[0;32m    527\u001B[0m     testloader, batch_size, trees_aggregated, client_tree_num, client_num, task_type\u001B[38;5;241m=\u001B[39mtask_type\n\u001B[0;32m    528\u001B[0m )\n\u001B[1;32m--> 530\u001B[0m mse, result, _ \u001B[38;5;241m=\u001B[39m \u001B[43mtest\u001B[49m\u001B[43m(\u001B[49m\n\u001B[0;32m    531\u001B[0m \u001B[43m     \u001B[49m\u001B[43mmodel\u001B[49m\u001B[43m,\u001B[49m\u001B[43m \u001B[49m\u001B[43mclient_tree_num\u001B[49m\u001B[43m,\u001B[49m\u001B[43m \u001B[49m\u001B[43mclient_num\u001B[49m\u001B[43m,\u001B[49m\u001B[43mtestloader\u001B[49m\u001B[43m,\u001B[49m\u001B[43m \u001B[49m\u001B[43mdevice\u001B[49m\u001B[38;5;241;43m=\u001B[39;49m\u001B[43mdevice\u001B[49m\u001B[43m,\u001B[49m\u001B[43m \u001B[49m\u001B[43mlog_progress\u001B[49m\u001B[38;5;241;43m=\u001B[39;49m\u001B[38;5;28;43;01mFalse\u001B[39;49;00m\u001B[43m,\u001B[49m\u001B[43m \u001B[49m\u001B[43mtask_type\u001B[49m\u001B[38;5;241;43m=\u001B[39;49m\u001B[43mtask_type\u001B[49m\n\u001B[0;32m    532\u001B[0m \u001B[43m\u001B[49m\u001B[43m)\u001B[49m\n\u001B[0;32m    534\u001B[0m torch\u001B[38;5;241m.\u001B[39msave(trees_aggregated, \u001B[38;5;124m'\u001B[39m\u001B[38;5;124m./trees.pt\u001B[39m\u001B[38;5;124m'\u001B[39m)\n\u001B[0;32m    535\u001B[0m torch\u001B[38;5;241m.\u001B[39msave(model, \u001B[38;5;124m'\u001B[39m\u001B[38;5;124m./model.pt\u001B[39m\u001B[38;5;124m'\u001B[39m)\n",
      "File \u001B[1;32mD:\\FD\\clients\\xgb_multi_client.py:291\u001B[0m, in \u001B[0;36mtest\u001B[1;34m(net, client_tree_num, client_num, testloader, device, log_progress, task_type)\u001B[0m\n\u001B[0;32m    289\u001B[0m         \u001B[38;5;28;01mfor\u001B[39;00m row \u001B[38;5;129;01min\u001B[39;00m tree_outputs:\n\u001B[0;32m    290\u001B[0m             new_row \u001B[38;5;241m=\u001B[39m torch\u001B[38;5;241m.\u001B[39mtranspose(row\u001B[38;5;241m.\u001B[39mview(\u001B[38;5;241m-\u001B[39m\u001B[38;5;241m1\u001B[39m, \u001B[38;5;241m20\u001B[39m), \u001B[38;5;241m0\u001B[39m, \u001B[38;5;241m1\u001B[39m)\n\u001B[1;32m--> 291\u001B[0m             new \u001B[38;5;241m=\u001B[39m \u001B[43mnew_row\u001B[49m\u001B[38;5;241;43m.\u001B[39;49m\u001B[43mreshape\u001B[49m\u001B[43m(\u001B[49m\u001B[38;5;241;43m-\u001B[39;49m\u001B[38;5;241;43m1\u001B[39;49m\u001B[43m,\u001B[49m\u001B[43m \u001B[49m\u001B[38;5;241;43m20\u001B[39;49m\u001B[38;5;241;43m*\u001B[39;49m\u001B[43mclient_num\u001B[49m\u001B[38;5;241;43m*\u001B[39;49m\u001B[43mclient_tree_num\u001B[49m\u001B[43m)\u001B[49m\u001B[38;5;241m.\u001B[39munsqueeze(\u001B[38;5;241m0\u001B[39m)\n\u001B[0;32m    292\u001B[0m             X_test \u001B[38;5;241m=\u001B[39m torch\u001B[38;5;241m.\u001B[39mcat((X_test, new), dim\u001B[38;5;241m=\u001B[39m\u001B[38;5;241m0\u001B[39m)\n\u001B[0;32m    295\u001B[0m y_pred \u001B[38;5;241m=\u001B[39m net(X_test)\n",
      "\u001B[1;31mRuntimeError\u001B[0m: shape '[-1, 20000]' is invalid for input of size 1000"
     ]
    }
   ],
   "source": [
    "# split = [0.1, 0.1, 0.1, 0.1, 0.1, 0.1, 0.1, 0.1, 0.1, 0.1]\n",
    "# do_fl(split)\n",
    "#\n",
    "# split = [0.6, 0.05, 0.05, 0.05, 0.05, 0.04, 0.04, 0.04, 0.04, 0.04]\n",
    "# do_fl(split)\n",
    "#\n",
    "# split = [0.8, 0.03, 0.03, 0.02, 0.02, 0.02, 0.02, 0.02, 0.02, 0.02]\n",
    "# do_fl(split)"
   ],
   "metadata": {
    "collapsed": false,
    "ExecuteTime": {
     "end_time": "2023-08-28T16:57:17.401365800Z",
     "start_time": "2023-08-28T16:48:31.319953500Z"
    }
   }
  },
  {
   "cell_type": "code",
   "execution_count": null,
   "outputs": [],
   "source": [],
   "metadata": {
    "collapsed": false
   }
  }
 ],
 "metadata": {
  "kernelspec": {
   "display_name": "Python 3",
   "language": "python",
   "name": "python3"
  },
  "language_info": {
   "codemirror_mode": {
    "name": "ipython",
    "version": 2
   },
   "file_extension": ".py",
   "mimetype": "text/x-python",
   "name": "python",
   "nbconvert_exporter": "python",
   "pygments_lexer": "ipython2",
   "version": "2.7.6"
  }
 },
 "nbformat": 4,
 "nbformat_minor": 0
}
