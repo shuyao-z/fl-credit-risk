{
 "cells": [
  {
   "cell_type": "code",
   "execution_count": null,
   "metadata": {
    "collapsed": true
   },
   "outputs": [],
   "source": [
    "import pandas as pd\n",
    "import torch\n",
    "import torch.nn as nn\n",
    "import numpy as np\n",
    "import datetime\n",
    "import itertools\n",
    "import statistics"
   ]
  },
  {
   "cell_type": "code",
   "execution_count": null,
   "outputs": [],
   "source": [
    "df = pd.read_csv('./dataset/data.csv').astype('float32')\n",
    "df['label'] = df['label'].replace(21, 19)\n",
    "print(df.head(4))"
   ],
   "metadata": {
    "collapsed": false
   }
  },
  {
   "cell_type": "code",
   "execution_count": null,
   "outputs": [],
   "source": [
    "import torch\n",
    "\n",
    "X = df.drop('label', axis=1)\n",
    "y = df['label']\n",
    "\n",
    "X = torch.tensor(X.values, dtype=torch.float32)\n",
    "y = torch.tensor(y.values, dtype=torch.int).reshape(-1,1)"
   ],
   "metadata": {
    "collapsed": false
   }
  },
  {
   "cell_type": "code",
   "execution_count": null,
   "outputs": [],
   "source": [
    "# Define ordinal criterion\n",
    "from net_archs import MLP\n",
    "\n",
    "def ordinal_criterion(predictions, targets):\n",
    "  # Ordinal regression with encoding as in https://arxiv.org/pdf/0704.1028.pdf\n",
    "\n",
    "  # Create out modified target with [batch_size, num_labels] shape\n",
    "  modified_target = torch.zeros_like(predictions)\n",
    "\n",
    "  # Fill in ordinal target function, i.e. 0 -> [1,0,0,...]\n",
    "  for i, target in enumerate(targets):\n",
    "    modified_target[i, 0:int(target)+1] = 1\n",
    "\n",
    "  return nn.MSELoss(reduction='none')(predictions, modified_target).sum(axis=1)\n"
   ],
   "metadata": {
    "collapsed": false
   }
  },
  {
   "cell_type": "code",
   "execution_count": null,
   "outputs": [],
   "source": [
    "from sklearn.model_selection import KFold\n",
    "\n",
    "def fl_split(split, x_train, y_train):\n",
    "    x_eq = []\n",
    "    y_eq = []\n",
    "\n",
    "    n_splits = 50\n",
    "    skf = KFold(n_splits=n_splits)\n",
    "    skf.get_n_splits(x_train, y_train)\n",
    "\n",
    "    for i, (_, test_index) in enumerate(skf.split(x_train, y_train)):\n",
    "        x_eq.append(x_train[test_index])\n",
    "        y_eq.append(y_train[test_index])\n",
    "\n",
    "    x_split = []\n",
    "    y_split = []\n",
    "\n",
    "    acc = 0\n",
    "    for s in split:\n",
    "        x_split.append(torch.cat(x_eq[acc:acc+int(s*n_splits)], 0))\n",
    "        y_split.append(torch.cat(y_eq[acc:acc+int(s*n_splits)], 0))\n",
    "        acc += int(s*n_splits)\n",
    "\n",
    "    for i in range(len(x_split)):\n",
    "        ros = RandomOverSampler(random_state=42)\n",
    "\n",
    "        X_train_testing, y_train_testing = ros.fit_resample(x_split[i], y_split[i])\n",
    "        y_train_testing = torch.reshape(torch.tensor(y_train_testing), (-1, 1))\n",
    "\n",
    "        x_split[i] = torch.from_numpy(X_train_testing)\n",
    "        y_split[i] = y_train_testing\n",
    "\n",
    "    return x_split, y_split"
   ],
   "metadata": {
    "collapsed": false
   }
  },
  {
   "cell_type": "code",
   "execution_count": null,
   "outputs": [],
   "source": [
    "# Define train and test function\n",
    "from sklearn.metrics import mean_squared_error, roc_auc_score, f1_score\n",
    "\n",
    "def train(net, optimizer, x, y, x_test, y_test, num_epoch=20, batch_size=8, criterion=ordinal_criterion):\n",
    "  print_every = 10\n",
    "\n",
    "  for n in range(num_epoch):\n",
    "    # Mini batch sgd\n",
    "    permutation = torch.randperm(x.size()[0])\n",
    "    for i in range(0, x.size()[0], batch_size):\n",
    "      indices = permutation[i:i+batch_size]\n",
    "      x_mini, y_mini = x[indices], y[indices]\n",
    "      y_pred = net(x_mini)\n",
    "      loss = criterion(y_pred.float(), y_mini.float())\n",
    "      optimizer.zero_grad()\n",
    "      loss.mean().backward()\n",
    "      optimizer.step()\n",
    "    if (n + 1) % print_every == 0:\n",
    "      print(f'Epoch: {n + 1}, Loss: {loss.sum()}')\n",
    "\n",
    "      mse,_, auc, _ = test(net, x_test, y_test)\n",
    "      print(f'AUC: {auc} mse {mse}')\n",
    "\n",
    "\n",
    "def prediction2label(pred: np.ndarray):\n",
    "  \"\"\"Convert ordinal predictions to class labels, e.g.\n",
    "\n",
    "  [0.9, 0.1, 0.1, 0.1] -> 0\n",
    "  [0.9, 0.9, 0.1, 0.1] -> 1\n",
    "  [0.9, 0.9, 0.9, 0.1] -> 2\n",
    "  etc.\n",
    "  \"\"\"\n",
    "  return (pred > 0.5).cumprod(axis=1).sum(axis=1) - 1\n",
    "\n",
    "def test(net, x_test, y_test):\n",
    "  y_pred = net(x_test)\n",
    "  if y_pred.shape[1] == 20:\n",
    "    y_pred = prediction2label(net(x_test))\n",
    "  else:\n",
    "    y_pred = torch.clip(y_pred.round(), min=0, max=20)\n",
    "\n",
    "  y_default_test = np.where(y_test.detach().numpy() > 9, 1, 0)\n",
    "  y_default_pred = np.where(y_pred.detach().numpy() > 9, 1, 0)\n",
    "\n",
    "  mse = mean_squared_error(y_test.detach().numpy(), y_pred.detach().numpy())\n",
    "  mse_norm = mean_squared_error(y_test.detach().numpy() / 20, y_pred.detach().numpy() / 20)\n",
    "  auc = roc_auc_score(y_default_test, y_default_pred)\n",
    "  f1 = f1_score(y_default_test, y_default_pred)\n",
    "  return mse, mse_norm, auc, f1\n"
   ],
   "metadata": {
    "collapsed": false
   }
  },
  {
   "cell_type": "code",
   "execution_count": null,
   "outputs": [],
   "source": [
    "from sklearn.model_selection import train_test_split, StratifiedKFold\n",
    "from imblearn.over_sampling import RandomOverSampler\n",
    "\n",
    "\n",
    "def run_local(split, X=X, y=y):\n",
    "\n",
    "    mses = []\n",
    "    aucs = []\n",
    "\n",
    "    kf = StratifiedKFold(n_splits=5, shuffle=True, random_state=42)\n",
    "\n",
    "    print(type(X))\n",
    "    print(type(y))\n",
    "    for fold_idx, (train_idx, test_idx) in enumerate(kf.split(X, y)):\n",
    "        print(f\"Fold {fold_idx + 1}:\")\n",
    "\n",
    "        X_train, X_test = X[train_idx], X[test_idx]\n",
    "        y_train, y_test = y[train_idx], y[test_idx]\n",
    "        x_split, y_split = fl_split(split, X_train, y_train)\n",
    "\n",
    "        for X_train, y_train in zip(x_split, y_split):\n",
    "            model = MLP(22, 20, layer_size=64, num_of_layers=5, dropout=False)\n",
    "            optimizer = torch.optim.Adam(model.parameters(), lr=0.001,weight_decay=0.00005)\n",
    "            train(model, optimizer, X_train, y_train, X_test, y_test, num_epoch=256, batch_size=8)\n",
    "            mse, mse_norm, auc, f1 = test(model.cpu(), X_test, y_test)\n",
    "            mses.append(mse)\n",
    "            aucs.append(auc)\n",
    "\n",
    "    print('split',split)\n",
    "    print('mse',mses)\n",
    "    print('auc',aucs)\n"
   ],
   "metadata": {
    "collapsed": false
   }
  },
  {
   "cell_type": "code",
   "execution_count": null,
   "outputs": [],
   "source": [
    "split =[1]\n",
    "run_local(split)"
   ],
   "metadata": {
    "collapsed": false
   }
  },
  {
   "cell_type": "code",
   "execution_count": null,
   "outputs": [],
   "source": [
    "split =[0.5, 0.5]\n",
    "run_local(split)"
   ],
   "metadata": {
    "collapsed": false
   }
  },
  {
   "cell_type": "code",
   "execution_count": null,
   "outputs": [],
   "source": [
    "split =[0.6, 0.4]\n",
    "run_local(split)"
   ],
   "metadata": {
    "collapsed": false
   }
  },
  {
   "cell_type": "code",
   "execution_count": null,
   "outputs": [],
   "source": [
    "split =[0.8, 0.2]\n",
    "run_local(split)"
   ],
   "metadata": {
    "collapsed": false
   }
  },
  {
   "cell_type": "code",
   "execution_count": null,
   "outputs": [],
   "source": [
    "split = [0.34, 0.33, 0.33]\n",
    "run_local(split)"
   ],
   "metadata": {
    "collapsed": false
   }
  },
  {
   "cell_type": "code",
   "execution_count": null,
   "outputs": [],
   "source": [
    "split = [0.6, 0.2, 0.2]\n",
    "run_local(split)"
   ],
   "metadata": {
    "collapsed": false
   }
  },
  {
   "cell_type": "code",
   "execution_count": null,
   "outputs": [],
   "source": [
    "split = [0.8, 0.1, 0.1]\n",
    "run_local(split)"
   ],
   "metadata": {
    "collapsed": false
   }
  },
  {
   "cell_type": "code",
   "execution_count": null,
   "outputs": [],
   "source": [
    "split = [0.2, 0.2, 0.2, 0.2, 0.2]\n",
    "run_local(split)"
   ],
   "metadata": {
    "collapsed": false,
    "is_executing": true
   }
  },
  {
   "cell_type": "code",
   "execution_count": null,
   "outputs": [],
   "source": [
    "split = [0.6, 0.1, 0.1, 0.1, 0.1]\n",
    "run_local(split)"
   ],
   "metadata": {
    "collapsed": false,
    "is_executing": true
   }
  },
  {
   "cell_type": "code",
   "execution_count": null,
   "outputs": [],
   "source": [
    "split = [0.8, 0.05, 0.05, 0.05, 0.05]\n",
    "run_local(split)"
   ],
   "metadata": {
    "collapsed": false,
    "is_executing": true
   }
  },
  {
   "cell_type": "code",
   "execution_count": null,
   "outputs": [],
   "source": [
    "split = [0.1, 0.1, 0.1, 0.1, 0.1, 0.1, 0.1, 0.1, 0.1, 0.1]\n",
    "run_local(split)"
   ],
   "metadata": {
    "collapsed": false,
    "is_executing": true
   }
  },
  {
   "cell_type": "code",
   "execution_count": null,
   "outputs": [],
   "source": [
    "split = [0.6, 0.05, 0.05, 0.05, 0.05, 0.04, 0.04, 0.04, 0.04, 0.04]\n",
    "run_local(split)"
   ],
   "metadata": {
    "collapsed": false,
    "is_executing": true
   }
  },
  {
   "cell_type": "code",
   "execution_count": null,
   "outputs": [],
   "source": [
    "split = [0.8, 0.03, 0.03, 0.02, 0.02, 0.02, 0.02, 0.02, 0.02, 0.02]\n",
    "run_local(split)"
   ],
   "metadata": {
    "collapsed": false,
    "is_executing": true
   }
  },
  {
   "cell_type": "code",
   "execution_count": null,
   "outputs": [],
   "source": [],
   "metadata": {
    "collapsed": false
   }
  }
 ],
 "metadata": {
  "kernelspec": {
   "display_name": "Python 3",
   "language": "python",
   "name": "python3"
  },
  "language_info": {
   "codemirror_mode": {
    "name": "ipython",
    "version": 2
   },
   "file_extension": ".py",
   "mimetype": "text/x-python",
   "name": "python",
   "nbconvert_exporter": "python",
   "pygments_lexer": "ipython2",
   "version": "2.7.6"
  }
 },
 "nbformat": 4,
 "nbformat_minor": 0
}
