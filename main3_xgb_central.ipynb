{
 "cells": [
  {
   "cell_type": "code",
   "execution_count": 1,
   "metadata": {
    "collapsed": true,
    "ExecuteTime": {
     "end_time": "2023-08-30T17:10:25.978321800Z",
     "start_time": "2023-08-30T17:10:10.016305600Z"
    }
   },
   "outputs": [],
   "source": [
    "from sklearn.metrics import mean_squared_error, roc_auc_score\n",
    "import numpy as np\n",
    "import torch\n",
    "from trees import construct_tree, TreeDataset, do_fl_partitioning"
   ]
  },
  {
   "cell_type": "code",
   "execution_count": 2,
   "outputs": [],
   "source": [
    "from sklearn.model_selection import StratifiedKFold\n",
    "random_state = np.random.randint(1000)\n",
    "def fl_split(split, x_train, y_train):\n",
    "\n",
    "    x_eq = []\n",
    "    y_eq = []\n",
    "\n",
    "    n_splits = 50\n",
    "    skf = StratifiedKFold(n_splits=n_splits, shuffle=True, random_state=random_state)\n",
    "    skf.get_n_splits(x_train, y_train)\n",
    "\n",
    "    for i, (_, test_index) in enumerate(skf.split(x_train, y_train)):\n",
    "        x_eq.append(x_train[test_index])\n",
    "        y_eq.append(y_train[test_index])\n",
    "\n",
    "    x_split = []\n",
    "    y_split = []\n",
    "\n",
    "    acc = 0\n",
    "    for s in split:\n",
    "        x_split.append(torch.cat(x_eq[acc:acc+int(s*n_splits)], 0))\n",
    "        y_split.append(torch.cat(y_eq[acc:acc+int(s*n_splits)], 0))\n",
    "        acc += int(s*n_splits)\n",
    "\n",
    "    return x_split, y_split"
   ],
   "metadata": {
    "collapsed": false,
    "ExecuteTime": {
     "end_time": "2023-08-30T17:10:26.024202300Z",
     "start_time": "2023-08-30T17:10:25.951394700Z"
    }
   }
  },
  {
   "cell_type": "code",
   "execution_count": 3,
   "outputs": [
    {
     "name": "stdout",
     "output_type": "stream",
     "text": [
      "torch.Size([150000, 1])\n"
     ]
    },
    {
     "name": "stderr",
     "output_type": "stream",
     "text": [
      "C:\\Users\\Shuyao\\AppData\\Local\\Temp\\ipykernel_33712\\2612116312.py:4: UserWarning: To copy construct from a tensor, it is recommended to use sourceTensor.clone().detach() or sourceTensor.clone().detach().requires_grad_(True), rather than torch.tensor(sourceTensor).\n",
      "  X_tensor = torch.tensor(X)\n",
      "C:\\Users\\Shuyao\\AppData\\Local\\Temp\\ipykernel_33712\\2612116312.py:5: UserWarning: To copy construct from a tensor, it is recommended to use sourceTensor.clone().detach() or sourceTensor.clone().detach().requires_grad_(True), rather than torch.tensor(sourceTensor).\n",
      "  y_tensor = torch.reshape(torch.tensor(y), (-1, 1))\n"
     ]
    }
   ],
   "source": [
    "# Local models\n",
    "X = torch.load('./dataset3/X.pt')\n",
    "y = torch.load('./dataset3/y.pt')\n",
    "X_tensor = torch.tensor(X)\n",
    "y_tensor = torch.reshape(torch.tensor(y), (-1, 1))\n",
    "print(y_tensor.shape)"
   ],
   "metadata": {
    "collapsed": false,
    "ExecuteTime": {
     "end_time": "2023-08-30T17:10:26.137896700Z",
     "start_time": "2023-08-30T17:10:25.996274600Z"
    }
   }
  },
  {
   "cell_type": "code",
   "execution_count": 4,
   "outputs": [],
   "source": [
    "from imblearn.over_sampling import RandomOverSampler\n",
    "\n",
    "\n",
    "def run_local(split, X=X, y=y):\n",
    "    mses = []\n",
    "    aucs = []\n",
    "    kf = StratifiedKFold(n_splits=5, shuffle=True, random_state=42)\n",
    "\n",
    "    for fold_idx, (train_idx, test_idx) in enumerate(kf.split(X, y)):\n",
    "        print(f\"Fold {fold_idx + 1}:\")\n",
    "\n",
    "        X_train, X_test = X[train_idx], X[test_idx]\n",
    "        y_train, y_test = y[train_idx], y[test_idx]\n",
    "\n",
    "        X_train = torch.tensor(X_train)\n",
    "        X_test = torch.tensor(X_test)\n",
    "        y_train = torch.reshape(torch.tensor(y_train), (-1, 1))\n",
    "        y_test = torch.reshape(torch.tensor(y_test), (-1, 1))\n",
    "\n",
    "\n",
    "        x_split, y_split = fl_split(split, X_train, y_train)\n",
    "\n",
    "        for X_train, y_train in zip(x_split, y_split):\n",
    "\n",
    "            ros = RandomOverSampler(random_state=random_state)\n",
    "            X_train, y_train = ros.fit_resample(X_train, y_train)\n",
    "            X_train = torch.from_numpy(X_train)\n",
    "\n",
    "            y_train = torch.reshape(torch.from_numpy(y_train), (-1, 1))\n",
    "            y_test = torch.reshape(y_test, (-1, 1))\n",
    "\n",
    "            global_tree = construct_tree(X_train, y_train, learning_rate=0.1, max_depth=5, n_estimators=80,\n",
    "               min_child_weight=3, subsample=0.8,colsample_bytree=1, gamma=0)\n",
    "\n",
    "            print(X_test.shape)\n",
    "\n",
    "            preds_test = global_tree.predict_proba(X_test)\n",
    "            pred = preds_test[:, 1]\n",
    "            auc = roc_auc_score(y_test, pred)\n",
    "            mse = mean_squared_error(y_test, pred)\n",
    "\n",
    "            aucs.append(auc)\n",
    "            mses.append(mse)\n",
    "    print('split',split)\n",
    "    print('mse',mses)\n",
    "    print('auc',aucs)"
   ],
   "metadata": {
    "collapsed": false,
    "ExecuteTime": {
     "end_time": "2023-08-30T17:10:26.180781Z",
     "start_time": "2023-08-30T17:10:26.071074400Z"
    }
   }
  },
  {
   "cell_type": "code",
   "execution_count": 5,
   "outputs": [
    {
     "name": "stdout",
     "output_type": "stream",
     "text": [
      "Fold 1:\n"
     ]
    },
    {
     "name": "stderr",
     "output_type": "stream",
     "text": [
      "C:\\Users\\Shuyao\\AppData\\Local\\Temp\\ipykernel_33712\\1826658617.py:19: UserWarning: To copy construct from a tensor, it is recommended to use sourceTensor.clone().detach() or sourceTensor.clone().detach().requires_grad_(True), rather than torch.tensor(sourceTensor).\n",
      "  X_train = torch.tensor(X_train)\n",
      "C:\\Users\\Shuyao\\AppData\\Local\\Temp\\ipykernel_33712\\1826658617.py:20: UserWarning: To copy construct from a tensor, it is recommended to use sourceTensor.clone().detach() or sourceTensor.clone().detach().requires_grad_(True), rather than torch.tensor(sourceTensor).\n",
      "  X_test = torch.tensor(X_test)\n",
      "C:\\Users\\Shuyao\\AppData\\Local\\Temp\\ipykernel_33712\\1826658617.py:21: UserWarning: To copy construct from a tensor, it is recommended to use sourceTensor.clone().detach() or sourceTensor.clone().detach().requires_grad_(True), rather than torch.tensor(sourceTensor).\n",
      "  y_train = torch.reshape(torch.tensor(y_train), (-1, 1))\n",
      "C:\\Users\\Shuyao\\AppData\\Local\\Temp\\ipykernel_33712\\1826658617.py:22: UserWarning: To copy construct from a tensor, it is recommended to use sourceTensor.clone().detach() or sourceTensor.clone().detach().requires_grad_(True), rather than torch.tensor(sourceTensor).\n",
      "  y_test = torch.reshape(torch.tensor(y_test), (-1, 1))\n"
     ]
    },
    {
     "name": "stdout",
     "output_type": "stream",
     "text": [
      "torch.Size([30000, 10])\n",
      "Fold 2:\n"
     ]
    },
    {
     "name": "stderr",
     "output_type": "stream",
     "text": [
      "C:\\Users\\Shuyao\\AppData\\Local\\Temp\\ipykernel_33712\\1826658617.py:19: UserWarning: To copy construct from a tensor, it is recommended to use sourceTensor.clone().detach() or sourceTensor.clone().detach().requires_grad_(True), rather than torch.tensor(sourceTensor).\n",
      "  X_train = torch.tensor(X_train)\n",
      "C:\\Users\\Shuyao\\AppData\\Local\\Temp\\ipykernel_33712\\1826658617.py:20: UserWarning: To copy construct from a tensor, it is recommended to use sourceTensor.clone().detach() or sourceTensor.clone().detach().requires_grad_(True), rather than torch.tensor(sourceTensor).\n",
      "  X_test = torch.tensor(X_test)\n",
      "C:\\Users\\Shuyao\\AppData\\Local\\Temp\\ipykernel_33712\\1826658617.py:21: UserWarning: To copy construct from a tensor, it is recommended to use sourceTensor.clone().detach() or sourceTensor.clone().detach().requires_grad_(True), rather than torch.tensor(sourceTensor).\n",
      "  y_train = torch.reshape(torch.tensor(y_train), (-1, 1))\n",
      "C:\\Users\\Shuyao\\AppData\\Local\\Temp\\ipykernel_33712\\1826658617.py:22: UserWarning: To copy construct from a tensor, it is recommended to use sourceTensor.clone().detach() or sourceTensor.clone().detach().requires_grad_(True), rather than torch.tensor(sourceTensor).\n",
      "  y_test = torch.reshape(torch.tensor(y_test), (-1, 1))\n"
     ]
    },
    {
     "name": "stdout",
     "output_type": "stream",
     "text": [
      "torch.Size([30000, 10])\n",
      "Fold 3:\n"
     ]
    },
    {
     "name": "stderr",
     "output_type": "stream",
     "text": [
      "C:\\Users\\Shuyao\\AppData\\Local\\Temp\\ipykernel_33712\\1826658617.py:19: UserWarning: To copy construct from a tensor, it is recommended to use sourceTensor.clone().detach() or sourceTensor.clone().detach().requires_grad_(True), rather than torch.tensor(sourceTensor).\n",
      "  X_train = torch.tensor(X_train)\n",
      "C:\\Users\\Shuyao\\AppData\\Local\\Temp\\ipykernel_33712\\1826658617.py:20: UserWarning: To copy construct from a tensor, it is recommended to use sourceTensor.clone().detach() or sourceTensor.clone().detach().requires_grad_(True), rather than torch.tensor(sourceTensor).\n",
      "  X_test = torch.tensor(X_test)\n",
      "C:\\Users\\Shuyao\\AppData\\Local\\Temp\\ipykernel_33712\\1826658617.py:21: UserWarning: To copy construct from a tensor, it is recommended to use sourceTensor.clone().detach() or sourceTensor.clone().detach().requires_grad_(True), rather than torch.tensor(sourceTensor).\n",
      "  y_train = torch.reshape(torch.tensor(y_train), (-1, 1))\n",
      "C:\\Users\\Shuyao\\AppData\\Local\\Temp\\ipykernel_33712\\1826658617.py:22: UserWarning: To copy construct from a tensor, it is recommended to use sourceTensor.clone().detach() or sourceTensor.clone().detach().requires_grad_(True), rather than torch.tensor(sourceTensor).\n",
      "  y_test = torch.reshape(torch.tensor(y_test), (-1, 1))\n"
     ]
    },
    {
     "name": "stdout",
     "output_type": "stream",
     "text": [
      "torch.Size([30000, 10])\n",
      "Fold 4:\n"
     ]
    },
    {
     "name": "stderr",
     "output_type": "stream",
     "text": [
      "C:\\Users\\Shuyao\\AppData\\Local\\Temp\\ipykernel_33712\\1826658617.py:19: UserWarning: To copy construct from a tensor, it is recommended to use sourceTensor.clone().detach() or sourceTensor.clone().detach().requires_grad_(True), rather than torch.tensor(sourceTensor).\n",
      "  X_train = torch.tensor(X_train)\n",
      "C:\\Users\\Shuyao\\AppData\\Local\\Temp\\ipykernel_33712\\1826658617.py:20: UserWarning: To copy construct from a tensor, it is recommended to use sourceTensor.clone().detach() or sourceTensor.clone().detach().requires_grad_(True), rather than torch.tensor(sourceTensor).\n",
      "  X_test = torch.tensor(X_test)\n",
      "C:\\Users\\Shuyao\\AppData\\Local\\Temp\\ipykernel_33712\\1826658617.py:21: UserWarning: To copy construct from a tensor, it is recommended to use sourceTensor.clone().detach() or sourceTensor.clone().detach().requires_grad_(True), rather than torch.tensor(sourceTensor).\n",
      "  y_train = torch.reshape(torch.tensor(y_train), (-1, 1))\n",
      "C:\\Users\\Shuyao\\AppData\\Local\\Temp\\ipykernel_33712\\1826658617.py:22: UserWarning: To copy construct from a tensor, it is recommended to use sourceTensor.clone().detach() or sourceTensor.clone().detach().requires_grad_(True), rather than torch.tensor(sourceTensor).\n",
      "  y_test = torch.reshape(torch.tensor(y_test), (-1, 1))\n"
     ]
    },
    {
     "name": "stdout",
     "output_type": "stream",
     "text": [
      "torch.Size([30000, 10])\n",
      "Fold 5:\n"
     ]
    },
    {
     "name": "stderr",
     "output_type": "stream",
     "text": [
      "C:\\Users\\Shuyao\\AppData\\Local\\Temp\\ipykernel_33712\\1826658617.py:19: UserWarning: To copy construct from a tensor, it is recommended to use sourceTensor.clone().detach() or sourceTensor.clone().detach().requires_grad_(True), rather than torch.tensor(sourceTensor).\n",
      "  X_train = torch.tensor(X_train)\n",
      "C:\\Users\\Shuyao\\AppData\\Local\\Temp\\ipykernel_33712\\1826658617.py:20: UserWarning: To copy construct from a tensor, it is recommended to use sourceTensor.clone().detach() or sourceTensor.clone().detach().requires_grad_(True), rather than torch.tensor(sourceTensor).\n",
      "  X_test = torch.tensor(X_test)\n",
      "C:\\Users\\Shuyao\\AppData\\Local\\Temp\\ipykernel_33712\\1826658617.py:21: UserWarning: To copy construct from a tensor, it is recommended to use sourceTensor.clone().detach() or sourceTensor.clone().detach().requires_grad_(True), rather than torch.tensor(sourceTensor).\n",
      "  y_train = torch.reshape(torch.tensor(y_train), (-1, 1))\n",
      "C:\\Users\\Shuyao\\AppData\\Local\\Temp\\ipykernel_33712\\1826658617.py:22: UserWarning: To copy construct from a tensor, it is recommended to use sourceTensor.clone().detach() or sourceTensor.clone().detach().requires_grad_(True), rather than torch.tensor(sourceTensor).\n",
      "  y_test = torch.reshape(torch.tensor(y_test), (-1, 1))\n"
     ]
    },
    {
     "name": "stdout",
     "output_type": "stream",
     "text": [
      "torch.Size([30000, 10])\n",
      "split [1]\n",
      "mse [0.13814794, 0.14080842, 0.13772589, 0.13901256, 0.14117733]\n",
      "auc [0.8644127095743561, 0.864220445492805, 0.8706514121910797, 0.8593546140008079, 0.8675686564977091]\n"
     ]
    }
   ],
   "source": [
    "split = [1]\n",
    "run_local(split)"
   ],
   "metadata": {
    "collapsed": false,
    "ExecuteTime": {
     "end_time": "2023-08-30T17:12:59.798858900Z",
     "start_time": "2023-08-30T17:10:26.133906Z"
    }
   }
  },
  {
   "cell_type": "code",
   "execution_count": 15,
   "outputs": [
    {
     "name": "stdout",
     "output_type": "stream",
     "text": [
      "Fold 1:\n"
     ]
    },
    {
     "name": "stderr",
     "output_type": "stream",
     "text": [
      "C:\\Users\\Shuyao\\AppData\\Local\\Temp\\ipykernel_26868\\1736011833.py:20: UserWarning: To copy construct from a tensor, it is recommended to use sourceTensor.clone().detach() or sourceTensor.clone().detach().requires_grad_(True), rather than torch.tensor(sourceTensor).\n",
      "  X_train = torch.tensor(X_train)\n",
      "C:\\Users\\Shuyao\\AppData\\Local\\Temp\\ipykernel_26868\\1736011833.py:21: UserWarning: To copy construct from a tensor, it is recommended to use sourceTensor.clone().detach() or sourceTensor.clone().detach().requires_grad_(True), rather than torch.tensor(sourceTensor).\n",
      "  X_test = torch.tensor(X_test)\n",
      "C:\\Users\\Shuyao\\AppData\\Local\\Temp\\ipykernel_26868\\1736011833.py:22: UserWarning: To copy construct from a tensor, it is recommended to use sourceTensor.clone().detach() or sourceTensor.clone().detach().requires_grad_(True), rather than torch.tensor(sourceTensor).\n",
      "  y_train = torch.reshape(torch.tensor(y_train), (-1, 1))\n",
      "C:\\Users\\Shuyao\\AppData\\Local\\Temp\\ipykernel_26868\\1736011833.py:23: UserWarning: To copy construct from a tensor, it is recommended to use sourceTensor.clone().detach() or sourceTensor.clone().detach().requires_grad_(True), rather than torch.tensor(sourceTensor).\n",
      "  y_test = torch.reshape(torch.tensor(y_test), (-1, 1))\n"
     ]
    },
    {
     "name": "stdout",
     "output_type": "stream",
     "text": [
      "Fold 2:\n"
     ]
    },
    {
     "name": "stderr",
     "output_type": "stream",
     "text": [
      "C:\\Users\\Shuyao\\AppData\\Local\\Temp\\ipykernel_26868\\1736011833.py:20: UserWarning: To copy construct from a tensor, it is recommended to use sourceTensor.clone().detach() or sourceTensor.clone().detach().requires_grad_(True), rather than torch.tensor(sourceTensor).\n",
      "  X_train = torch.tensor(X_train)\n",
      "C:\\Users\\Shuyao\\AppData\\Local\\Temp\\ipykernel_26868\\1736011833.py:21: UserWarning: To copy construct from a tensor, it is recommended to use sourceTensor.clone().detach() or sourceTensor.clone().detach().requires_grad_(True), rather than torch.tensor(sourceTensor).\n",
      "  X_test = torch.tensor(X_test)\n",
      "C:\\Users\\Shuyao\\AppData\\Local\\Temp\\ipykernel_26868\\1736011833.py:22: UserWarning: To copy construct from a tensor, it is recommended to use sourceTensor.clone().detach() or sourceTensor.clone().detach().requires_grad_(True), rather than torch.tensor(sourceTensor).\n",
      "  y_train = torch.reshape(torch.tensor(y_train), (-1, 1))\n",
      "C:\\Users\\Shuyao\\AppData\\Local\\Temp\\ipykernel_26868\\1736011833.py:23: UserWarning: To copy construct from a tensor, it is recommended to use sourceTensor.clone().detach() or sourceTensor.clone().detach().requires_grad_(True), rather than torch.tensor(sourceTensor).\n",
      "  y_test = torch.reshape(torch.tensor(y_test), (-1, 1))\n"
     ]
    },
    {
     "name": "stdout",
     "output_type": "stream",
     "text": [
      "Fold 3:\n"
     ]
    },
    {
     "name": "stderr",
     "output_type": "stream",
     "text": [
      "C:\\Users\\Shuyao\\AppData\\Local\\Temp\\ipykernel_26868\\1736011833.py:20: UserWarning: To copy construct from a tensor, it is recommended to use sourceTensor.clone().detach() or sourceTensor.clone().detach().requires_grad_(True), rather than torch.tensor(sourceTensor).\n",
      "  X_train = torch.tensor(X_train)\n",
      "C:\\Users\\Shuyao\\AppData\\Local\\Temp\\ipykernel_26868\\1736011833.py:21: UserWarning: To copy construct from a tensor, it is recommended to use sourceTensor.clone().detach() or sourceTensor.clone().detach().requires_grad_(True), rather than torch.tensor(sourceTensor).\n",
      "  X_test = torch.tensor(X_test)\n",
      "C:\\Users\\Shuyao\\AppData\\Local\\Temp\\ipykernel_26868\\1736011833.py:22: UserWarning: To copy construct from a tensor, it is recommended to use sourceTensor.clone().detach() or sourceTensor.clone().detach().requires_grad_(True), rather than torch.tensor(sourceTensor).\n",
      "  y_train = torch.reshape(torch.tensor(y_train), (-1, 1))\n",
      "C:\\Users\\Shuyao\\AppData\\Local\\Temp\\ipykernel_26868\\1736011833.py:23: UserWarning: To copy construct from a tensor, it is recommended to use sourceTensor.clone().detach() or sourceTensor.clone().detach().requires_grad_(True), rather than torch.tensor(sourceTensor).\n",
      "  y_test = torch.reshape(torch.tensor(y_test), (-1, 1))\n"
     ]
    },
    {
     "name": "stdout",
     "output_type": "stream",
     "text": [
      "Fold 4:\n"
     ]
    },
    {
     "name": "stderr",
     "output_type": "stream",
     "text": [
      "C:\\Users\\Shuyao\\AppData\\Local\\Temp\\ipykernel_26868\\1736011833.py:20: UserWarning: To copy construct from a tensor, it is recommended to use sourceTensor.clone().detach() or sourceTensor.clone().detach().requires_grad_(True), rather than torch.tensor(sourceTensor).\n",
      "  X_train = torch.tensor(X_train)\n",
      "C:\\Users\\Shuyao\\AppData\\Local\\Temp\\ipykernel_26868\\1736011833.py:21: UserWarning: To copy construct from a tensor, it is recommended to use sourceTensor.clone().detach() or sourceTensor.clone().detach().requires_grad_(True), rather than torch.tensor(sourceTensor).\n",
      "  X_test = torch.tensor(X_test)\n",
      "C:\\Users\\Shuyao\\AppData\\Local\\Temp\\ipykernel_26868\\1736011833.py:22: UserWarning: To copy construct from a tensor, it is recommended to use sourceTensor.clone().detach() or sourceTensor.clone().detach().requires_grad_(True), rather than torch.tensor(sourceTensor).\n",
      "  y_train = torch.reshape(torch.tensor(y_train), (-1, 1))\n",
      "C:\\Users\\Shuyao\\AppData\\Local\\Temp\\ipykernel_26868\\1736011833.py:23: UserWarning: To copy construct from a tensor, it is recommended to use sourceTensor.clone().detach() or sourceTensor.clone().detach().requires_grad_(True), rather than torch.tensor(sourceTensor).\n",
      "  y_test = torch.reshape(torch.tensor(y_test), (-1, 1))\n"
     ]
    },
    {
     "name": "stdout",
     "output_type": "stream",
     "text": [
      "Fold 5:\n"
     ]
    },
    {
     "name": "stderr",
     "output_type": "stream",
     "text": [
      "C:\\Users\\Shuyao\\AppData\\Local\\Temp\\ipykernel_26868\\1736011833.py:20: UserWarning: To copy construct from a tensor, it is recommended to use sourceTensor.clone().detach() or sourceTensor.clone().detach().requires_grad_(True), rather than torch.tensor(sourceTensor).\n",
      "  X_train = torch.tensor(X_train)\n",
      "C:\\Users\\Shuyao\\AppData\\Local\\Temp\\ipykernel_26868\\1736011833.py:21: UserWarning: To copy construct from a tensor, it is recommended to use sourceTensor.clone().detach() or sourceTensor.clone().detach().requires_grad_(True), rather than torch.tensor(sourceTensor).\n",
      "  X_test = torch.tensor(X_test)\n",
      "C:\\Users\\Shuyao\\AppData\\Local\\Temp\\ipykernel_26868\\1736011833.py:22: UserWarning: To copy construct from a tensor, it is recommended to use sourceTensor.clone().detach() or sourceTensor.clone().detach().requires_grad_(True), rather than torch.tensor(sourceTensor).\n",
      "  y_train = torch.reshape(torch.tensor(y_train), (-1, 1))\n",
      "C:\\Users\\Shuyao\\AppData\\Local\\Temp\\ipykernel_26868\\1736011833.py:23: UserWarning: To copy construct from a tensor, it is recommended to use sourceTensor.clone().detach() or sourceTensor.clone().detach().requires_grad_(True), rather than torch.tensor(sourceTensor).\n",
      "  y_test = torch.reshape(torch.tensor(y_test), (-1, 1))\n"
     ]
    },
    {
     "name": "stdout",
     "output_type": "stream",
     "text": [
      "split [0.5, 0.5]\n",
      "mse [0.13554646, 0.13511342, 0.13707313, 0.13913219, 0.13543665, 0.13344623, 0.13649379, 0.1351098, 0.1379548, 0.13914117]\n",
      "auc [0.8596437325873348, 0.8592651708374199, 0.861936576668705, 0.8617064857057214, 0.8682442046339767, 0.8683663675246605, 0.8571170573298847, 0.8550013784969617, 0.8650506347098854, 0.8652671500388162]\n"
     ]
    }
   ],
   "source": [
    "split = [0.5, 0.5]\n",
    "run_local(split)"
   ],
   "metadata": {
    "collapsed": false,
    "ExecuteTime": {
     "end_time": "2023-08-28T14:43:21.807495Z",
     "start_time": "2023-08-28T14:37:02.969137300Z"
    }
   }
  },
  {
   "cell_type": "code",
   "execution_count": 16,
   "outputs": [
    {
     "name": "stdout",
     "output_type": "stream",
     "text": [
      "Fold 1:\n"
     ]
    },
    {
     "name": "stderr",
     "output_type": "stream",
     "text": [
      "C:\\Users\\Shuyao\\AppData\\Local\\Temp\\ipykernel_26868\\1736011833.py:20: UserWarning: To copy construct from a tensor, it is recommended to use sourceTensor.clone().detach() or sourceTensor.clone().detach().requires_grad_(True), rather than torch.tensor(sourceTensor).\n",
      "  X_train = torch.tensor(X_train)\n",
      "C:\\Users\\Shuyao\\AppData\\Local\\Temp\\ipykernel_26868\\1736011833.py:21: UserWarning: To copy construct from a tensor, it is recommended to use sourceTensor.clone().detach() or sourceTensor.clone().detach().requires_grad_(True), rather than torch.tensor(sourceTensor).\n",
      "  X_test = torch.tensor(X_test)\n",
      "C:\\Users\\Shuyao\\AppData\\Local\\Temp\\ipykernel_26868\\1736011833.py:22: UserWarning: To copy construct from a tensor, it is recommended to use sourceTensor.clone().detach() or sourceTensor.clone().detach().requires_grad_(True), rather than torch.tensor(sourceTensor).\n",
      "  y_train = torch.reshape(torch.tensor(y_train), (-1, 1))\n",
      "C:\\Users\\Shuyao\\AppData\\Local\\Temp\\ipykernel_26868\\1736011833.py:23: UserWarning: To copy construct from a tensor, it is recommended to use sourceTensor.clone().detach() or sourceTensor.clone().detach().requires_grad_(True), rather than torch.tensor(sourceTensor).\n",
      "  y_test = torch.reshape(torch.tensor(y_test), (-1, 1))\n"
     ]
    },
    {
     "name": "stdout",
     "output_type": "stream",
     "text": [
      "Fold 2:\n"
     ]
    },
    {
     "name": "stderr",
     "output_type": "stream",
     "text": [
      "C:\\Users\\Shuyao\\AppData\\Local\\Temp\\ipykernel_26868\\1736011833.py:20: UserWarning: To copy construct from a tensor, it is recommended to use sourceTensor.clone().detach() or sourceTensor.clone().detach().requires_grad_(True), rather than torch.tensor(sourceTensor).\n",
      "  X_train = torch.tensor(X_train)\n",
      "C:\\Users\\Shuyao\\AppData\\Local\\Temp\\ipykernel_26868\\1736011833.py:21: UserWarning: To copy construct from a tensor, it is recommended to use sourceTensor.clone().detach() or sourceTensor.clone().detach().requires_grad_(True), rather than torch.tensor(sourceTensor).\n",
      "  X_test = torch.tensor(X_test)\n",
      "C:\\Users\\Shuyao\\AppData\\Local\\Temp\\ipykernel_26868\\1736011833.py:22: UserWarning: To copy construct from a tensor, it is recommended to use sourceTensor.clone().detach() or sourceTensor.clone().detach().requires_grad_(True), rather than torch.tensor(sourceTensor).\n",
      "  y_train = torch.reshape(torch.tensor(y_train), (-1, 1))\n",
      "C:\\Users\\Shuyao\\AppData\\Local\\Temp\\ipykernel_26868\\1736011833.py:23: UserWarning: To copy construct from a tensor, it is recommended to use sourceTensor.clone().detach() or sourceTensor.clone().detach().requires_grad_(True), rather than torch.tensor(sourceTensor).\n",
      "  y_test = torch.reshape(torch.tensor(y_test), (-1, 1))\n"
     ]
    },
    {
     "name": "stdout",
     "output_type": "stream",
     "text": [
      "Fold 3:\n"
     ]
    },
    {
     "name": "stderr",
     "output_type": "stream",
     "text": [
      "C:\\Users\\Shuyao\\AppData\\Local\\Temp\\ipykernel_26868\\1736011833.py:20: UserWarning: To copy construct from a tensor, it is recommended to use sourceTensor.clone().detach() or sourceTensor.clone().detach().requires_grad_(True), rather than torch.tensor(sourceTensor).\n",
      "  X_train = torch.tensor(X_train)\n",
      "C:\\Users\\Shuyao\\AppData\\Local\\Temp\\ipykernel_26868\\1736011833.py:21: UserWarning: To copy construct from a tensor, it is recommended to use sourceTensor.clone().detach() or sourceTensor.clone().detach().requires_grad_(True), rather than torch.tensor(sourceTensor).\n",
      "  X_test = torch.tensor(X_test)\n",
      "C:\\Users\\Shuyao\\AppData\\Local\\Temp\\ipykernel_26868\\1736011833.py:22: UserWarning: To copy construct from a tensor, it is recommended to use sourceTensor.clone().detach() or sourceTensor.clone().detach().requires_grad_(True), rather than torch.tensor(sourceTensor).\n",
      "  y_train = torch.reshape(torch.tensor(y_train), (-1, 1))\n",
      "C:\\Users\\Shuyao\\AppData\\Local\\Temp\\ipykernel_26868\\1736011833.py:23: UserWarning: To copy construct from a tensor, it is recommended to use sourceTensor.clone().detach() or sourceTensor.clone().detach().requires_grad_(True), rather than torch.tensor(sourceTensor).\n",
      "  y_test = torch.reshape(torch.tensor(y_test), (-1, 1))\n"
     ]
    },
    {
     "name": "stdout",
     "output_type": "stream",
     "text": [
      "Fold 4:\n"
     ]
    },
    {
     "name": "stderr",
     "output_type": "stream",
     "text": [
      "C:\\Users\\Shuyao\\AppData\\Local\\Temp\\ipykernel_26868\\1736011833.py:20: UserWarning: To copy construct from a tensor, it is recommended to use sourceTensor.clone().detach() or sourceTensor.clone().detach().requires_grad_(True), rather than torch.tensor(sourceTensor).\n",
      "  X_train = torch.tensor(X_train)\n",
      "C:\\Users\\Shuyao\\AppData\\Local\\Temp\\ipykernel_26868\\1736011833.py:21: UserWarning: To copy construct from a tensor, it is recommended to use sourceTensor.clone().detach() or sourceTensor.clone().detach().requires_grad_(True), rather than torch.tensor(sourceTensor).\n",
      "  X_test = torch.tensor(X_test)\n",
      "C:\\Users\\Shuyao\\AppData\\Local\\Temp\\ipykernel_26868\\1736011833.py:22: UserWarning: To copy construct from a tensor, it is recommended to use sourceTensor.clone().detach() or sourceTensor.clone().detach().requires_grad_(True), rather than torch.tensor(sourceTensor).\n",
      "  y_train = torch.reshape(torch.tensor(y_train), (-1, 1))\n",
      "C:\\Users\\Shuyao\\AppData\\Local\\Temp\\ipykernel_26868\\1736011833.py:23: UserWarning: To copy construct from a tensor, it is recommended to use sourceTensor.clone().detach() or sourceTensor.clone().detach().requires_grad_(True), rather than torch.tensor(sourceTensor).\n",
      "  y_test = torch.reshape(torch.tensor(y_test), (-1, 1))\n"
     ]
    },
    {
     "name": "stdout",
     "output_type": "stream",
     "text": [
      "Fold 5:\n"
     ]
    },
    {
     "name": "stderr",
     "output_type": "stream",
     "text": [
      "C:\\Users\\Shuyao\\AppData\\Local\\Temp\\ipykernel_26868\\1736011833.py:20: UserWarning: To copy construct from a tensor, it is recommended to use sourceTensor.clone().detach() or sourceTensor.clone().detach().requires_grad_(True), rather than torch.tensor(sourceTensor).\n",
      "  X_train = torch.tensor(X_train)\n",
      "C:\\Users\\Shuyao\\AppData\\Local\\Temp\\ipykernel_26868\\1736011833.py:21: UserWarning: To copy construct from a tensor, it is recommended to use sourceTensor.clone().detach() or sourceTensor.clone().detach().requires_grad_(True), rather than torch.tensor(sourceTensor).\n",
      "  X_test = torch.tensor(X_test)\n",
      "C:\\Users\\Shuyao\\AppData\\Local\\Temp\\ipykernel_26868\\1736011833.py:22: UserWarning: To copy construct from a tensor, it is recommended to use sourceTensor.clone().detach() or sourceTensor.clone().detach().requires_grad_(True), rather than torch.tensor(sourceTensor).\n",
      "  y_train = torch.reshape(torch.tensor(y_train), (-1, 1))\n",
      "C:\\Users\\Shuyao\\AppData\\Local\\Temp\\ipykernel_26868\\1736011833.py:23: UserWarning: To copy construct from a tensor, it is recommended to use sourceTensor.clone().detach() or sourceTensor.clone().detach().requires_grad_(True), rather than torch.tensor(sourceTensor).\n",
      "  y_test = torch.reshape(torch.tensor(y_test), (-1, 1))\n"
     ]
    },
    {
     "name": "stdout",
     "output_type": "stream",
     "text": [
      "split [0.6, 0.4]\n",
      "mse [0.1362956, 0.13350506, 0.1392099, 0.13676855, 0.13545832, 0.13352124, 0.13739894, 0.13408263, 0.13946009, 0.13640673]\n",
      "auc [0.8607128799356022, 0.8582053546440767, 0.8635925367862716, 0.8612915291695747, 0.8691700023026911, 0.8683821790406998, 0.8568885074329715, 0.8535055734480552, 0.8654039664190123, 0.8613872890554467]\n"
     ]
    }
   ],
   "source": [
    "split = [0.6, 0.4]\n",
    "run_local(split)"
   ],
   "metadata": {
    "collapsed": false,
    "ExecuteTime": {
     "end_time": "2023-08-28T14:45:31.939919600Z",
     "start_time": "2023-08-28T14:43:21.814476200Z"
    }
   }
  },
  {
   "cell_type": "code",
   "execution_count": 17,
   "outputs": [
    {
     "name": "stdout",
     "output_type": "stream",
     "text": [
      "Fold 1:\n"
     ]
    },
    {
     "name": "stderr",
     "output_type": "stream",
     "text": [
      "C:\\Users\\Shuyao\\AppData\\Local\\Temp\\ipykernel_26868\\1736011833.py:20: UserWarning: To copy construct from a tensor, it is recommended to use sourceTensor.clone().detach() or sourceTensor.clone().detach().requires_grad_(True), rather than torch.tensor(sourceTensor).\n",
      "  X_train = torch.tensor(X_train)\n",
      "C:\\Users\\Shuyao\\AppData\\Local\\Temp\\ipykernel_26868\\1736011833.py:21: UserWarning: To copy construct from a tensor, it is recommended to use sourceTensor.clone().detach() or sourceTensor.clone().detach().requires_grad_(True), rather than torch.tensor(sourceTensor).\n",
      "  X_test = torch.tensor(X_test)\n",
      "C:\\Users\\Shuyao\\AppData\\Local\\Temp\\ipykernel_26868\\1736011833.py:22: UserWarning: To copy construct from a tensor, it is recommended to use sourceTensor.clone().detach() or sourceTensor.clone().detach().requires_grad_(True), rather than torch.tensor(sourceTensor).\n",
      "  y_train = torch.reshape(torch.tensor(y_train), (-1, 1))\n",
      "C:\\Users\\Shuyao\\AppData\\Local\\Temp\\ipykernel_26868\\1736011833.py:23: UserWarning: To copy construct from a tensor, it is recommended to use sourceTensor.clone().detach() or sourceTensor.clone().detach().requires_grad_(True), rather than torch.tensor(sourceTensor).\n",
      "  y_test = torch.reshape(torch.tensor(y_test), (-1, 1))\n"
     ]
    },
    {
     "name": "stdout",
     "output_type": "stream",
     "text": [
      "Fold 2:\n"
     ]
    },
    {
     "name": "stderr",
     "output_type": "stream",
     "text": [
      "C:\\Users\\Shuyao\\AppData\\Local\\Temp\\ipykernel_26868\\1736011833.py:20: UserWarning: To copy construct from a tensor, it is recommended to use sourceTensor.clone().detach() or sourceTensor.clone().detach().requires_grad_(True), rather than torch.tensor(sourceTensor).\n",
      "  X_train = torch.tensor(X_train)\n",
      "C:\\Users\\Shuyao\\AppData\\Local\\Temp\\ipykernel_26868\\1736011833.py:21: UserWarning: To copy construct from a tensor, it is recommended to use sourceTensor.clone().detach() or sourceTensor.clone().detach().requires_grad_(True), rather than torch.tensor(sourceTensor).\n",
      "  X_test = torch.tensor(X_test)\n",
      "C:\\Users\\Shuyao\\AppData\\Local\\Temp\\ipykernel_26868\\1736011833.py:22: UserWarning: To copy construct from a tensor, it is recommended to use sourceTensor.clone().detach() or sourceTensor.clone().detach().requires_grad_(True), rather than torch.tensor(sourceTensor).\n",
      "  y_train = torch.reshape(torch.tensor(y_train), (-1, 1))\n",
      "C:\\Users\\Shuyao\\AppData\\Local\\Temp\\ipykernel_26868\\1736011833.py:23: UserWarning: To copy construct from a tensor, it is recommended to use sourceTensor.clone().detach() or sourceTensor.clone().detach().requires_grad_(True), rather than torch.tensor(sourceTensor).\n",
      "  y_test = torch.reshape(torch.tensor(y_test), (-1, 1))\n"
     ]
    },
    {
     "name": "stdout",
     "output_type": "stream",
     "text": [
      "Fold 3:\n"
     ]
    },
    {
     "name": "stderr",
     "output_type": "stream",
     "text": [
      "C:\\Users\\Shuyao\\AppData\\Local\\Temp\\ipykernel_26868\\1736011833.py:20: UserWarning: To copy construct from a tensor, it is recommended to use sourceTensor.clone().detach() or sourceTensor.clone().detach().requires_grad_(True), rather than torch.tensor(sourceTensor).\n",
      "  X_train = torch.tensor(X_train)\n",
      "C:\\Users\\Shuyao\\AppData\\Local\\Temp\\ipykernel_26868\\1736011833.py:21: UserWarning: To copy construct from a tensor, it is recommended to use sourceTensor.clone().detach() or sourceTensor.clone().detach().requires_grad_(True), rather than torch.tensor(sourceTensor).\n",
      "  X_test = torch.tensor(X_test)\n",
      "C:\\Users\\Shuyao\\AppData\\Local\\Temp\\ipykernel_26868\\1736011833.py:22: UserWarning: To copy construct from a tensor, it is recommended to use sourceTensor.clone().detach() or sourceTensor.clone().detach().requires_grad_(True), rather than torch.tensor(sourceTensor).\n",
      "  y_train = torch.reshape(torch.tensor(y_train), (-1, 1))\n",
      "C:\\Users\\Shuyao\\AppData\\Local\\Temp\\ipykernel_26868\\1736011833.py:23: UserWarning: To copy construct from a tensor, it is recommended to use sourceTensor.clone().detach() or sourceTensor.clone().detach().requires_grad_(True), rather than torch.tensor(sourceTensor).\n",
      "  y_test = torch.reshape(torch.tensor(y_test), (-1, 1))\n"
     ]
    },
    {
     "name": "stdout",
     "output_type": "stream",
     "text": [
      "Fold 4:\n"
     ]
    },
    {
     "name": "stderr",
     "output_type": "stream",
     "text": [
      "C:\\Users\\Shuyao\\AppData\\Local\\Temp\\ipykernel_26868\\1736011833.py:20: UserWarning: To copy construct from a tensor, it is recommended to use sourceTensor.clone().detach() or sourceTensor.clone().detach().requires_grad_(True), rather than torch.tensor(sourceTensor).\n",
      "  X_train = torch.tensor(X_train)\n",
      "C:\\Users\\Shuyao\\AppData\\Local\\Temp\\ipykernel_26868\\1736011833.py:21: UserWarning: To copy construct from a tensor, it is recommended to use sourceTensor.clone().detach() or sourceTensor.clone().detach().requires_grad_(True), rather than torch.tensor(sourceTensor).\n",
      "  X_test = torch.tensor(X_test)\n",
      "C:\\Users\\Shuyao\\AppData\\Local\\Temp\\ipykernel_26868\\1736011833.py:22: UserWarning: To copy construct from a tensor, it is recommended to use sourceTensor.clone().detach() or sourceTensor.clone().detach().requires_grad_(True), rather than torch.tensor(sourceTensor).\n",
      "  y_train = torch.reshape(torch.tensor(y_train), (-1, 1))\n",
      "C:\\Users\\Shuyao\\AppData\\Local\\Temp\\ipykernel_26868\\1736011833.py:23: UserWarning: To copy construct from a tensor, it is recommended to use sourceTensor.clone().detach() or sourceTensor.clone().detach().requires_grad_(True), rather than torch.tensor(sourceTensor).\n",
      "  y_test = torch.reshape(torch.tensor(y_test), (-1, 1))\n"
     ]
    },
    {
     "name": "stdout",
     "output_type": "stream",
     "text": [
      "Fold 5:\n"
     ]
    },
    {
     "name": "stderr",
     "output_type": "stream",
     "text": [
      "C:\\Users\\Shuyao\\AppData\\Local\\Temp\\ipykernel_26868\\1736011833.py:20: UserWarning: To copy construct from a tensor, it is recommended to use sourceTensor.clone().detach() or sourceTensor.clone().detach().requires_grad_(True), rather than torch.tensor(sourceTensor).\n",
      "  X_train = torch.tensor(X_train)\n",
      "C:\\Users\\Shuyao\\AppData\\Local\\Temp\\ipykernel_26868\\1736011833.py:21: UserWarning: To copy construct from a tensor, it is recommended to use sourceTensor.clone().detach() or sourceTensor.clone().detach().requires_grad_(True), rather than torch.tensor(sourceTensor).\n",
      "  X_test = torch.tensor(X_test)\n",
      "C:\\Users\\Shuyao\\AppData\\Local\\Temp\\ipykernel_26868\\1736011833.py:22: UserWarning: To copy construct from a tensor, it is recommended to use sourceTensor.clone().detach() or sourceTensor.clone().detach().requires_grad_(True), rather than torch.tensor(sourceTensor).\n",
      "  y_train = torch.reshape(torch.tensor(y_train), (-1, 1))\n",
      "C:\\Users\\Shuyao\\AppData\\Local\\Temp\\ipykernel_26868\\1736011833.py:23: UserWarning: To copy construct from a tensor, it is recommended to use sourceTensor.clone().detach() or sourceTensor.clone().detach().requires_grad_(True), rather than torch.tensor(sourceTensor).\n",
      "  y_test = torch.reshape(torch.tensor(y_test), (-1, 1))\n"
     ]
    },
    {
     "name": "stdout",
     "output_type": "stream",
     "text": [
      "split [0.8, 0.2]\n",
      "mse [0.1383434, 0.123614565, 0.14051673, 0.12829821, 0.13706769, 0.12562163, 0.13847578, 0.12800004, 0.14078689, 0.13084194]\n",
      "auc [0.8624255831491023, 0.8522075411259968, 0.8636973025553636, 0.8568017445224232, 0.8702995146532668, 0.8610974528315753, 0.857843763514949, 0.8483456299419339, 0.8664693419157945, 0.8580124345325293]\n"
     ]
    }
   ],
   "source": [
    "split = [0.8, 0.2]\n",
    "run_local(split)"
   ],
   "metadata": {
    "collapsed": false,
    "ExecuteTime": {
     "end_time": "2023-08-28T14:47:33.177460700Z",
     "start_time": "2023-08-28T14:45:31.947898800Z"
    }
   }
  },
  {
   "cell_type": "code",
   "execution_count": 18,
   "outputs": [
    {
     "name": "stdout",
     "output_type": "stream",
     "text": [
      "Fold 1:\n"
     ]
    },
    {
     "name": "stderr",
     "output_type": "stream",
     "text": [
      "C:\\Users\\Shuyao\\AppData\\Local\\Temp\\ipykernel_26868\\1736011833.py:20: UserWarning: To copy construct from a tensor, it is recommended to use sourceTensor.clone().detach() or sourceTensor.clone().detach().requires_grad_(True), rather than torch.tensor(sourceTensor).\n",
      "  X_train = torch.tensor(X_train)\n",
      "C:\\Users\\Shuyao\\AppData\\Local\\Temp\\ipykernel_26868\\1736011833.py:21: UserWarning: To copy construct from a tensor, it is recommended to use sourceTensor.clone().detach() or sourceTensor.clone().detach().requires_grad_(True), rather than torch.tensor(sourceTensor).\n",
      "  X_test = torch.tensor(X_test)\n",
      "C:\\Users\\Shuyao\\AppData\\Local\\Temp\\ipykernel_26868\\1736011833.py:22: UserWarning: To copy construct from a tensor, it is recommended to use sourceTensor.clone().detach() or sourceTensor.clone().detach().requires_grad_(True), rather than torch.tensor(sourceTensor).\n",
      "  y_train = torch.reshape(torch.tensor(y_train), (-1, 1))\n",
      "C:\\Users\\Shuyao\\AppData\\Local\\Temp\\ipykernel_26868\\1736011833.py:23: UserWarning: To copy construct from a tensor, it is recommended to use sourceTensor.clone().detach() or sourceTensor.clone().detach().requires_grad_(True), rather than torch.tensor(sourceTensor).\n",
      "  y_test = torch.reshape(torch.tensor(y_test), (-1, 1))\n"
     ]
    },
    {
     "name": "stdout",
     "output_type": "stream",
     "text": [
      "Fold 2:\n"
     ]
    },
    {
     "name": "stderr",
     "output_type": "stream",
     "text": [
      "C:\\Users\\Shuyao\\AppData\\Local\\Temp\\ipykernel_26868\\1736011833.py:20: UserWarning: To copy construct from a tensor, it is recommended to use sourceTensor.clone().detach() or sourceTensor.clone().detach().requires_grad_(True), rather than torch.tensor(sourceTensor).\n",
      "  X_train = torch.tensor(X_train)\n",
      "C:\\Users\\Shuyao\\AppData\\Local\\Temp\\ipykernel_26868\\1736011833.py:21: UserWarning: To copy construct from a tensor, it is recommended to use sourceTensor.clone().detach() or sourceTensor.clone().detach().requires_grad_(True), rather than torch.tensor(sourceTensor).\n",
      "  X_test = torch.tensor(X_test)\n",
      "C:\\Users\\Shuyao\\AppData\\Local\\Temp\\ipykernel_26868\\1736011833.py:22: UserWarning: To copy construct from a tensor, it is recommended to use sourceTensor.clone().detach() or sourceTensor.clone().detach().requires_grad_(True), rather than torch.tensor(sourceTensor).\n",
      "  y_train = torch.reshape(torch.tensor(y_train), (-1, 1))\n",
      "C:\\Users\\Shuyao\\AppData\\Local\\Temp\\ipykernel_26868\\1736011833.py:23: UserWarning: To copy construct from a tensor, it is recommended to use sourceTensor.clone().detach() or sourceTensor.clone().detach().requires_grad_(True), rather than torch.tensor(sourceTensor).\n",
      "  y_test = torch.reshape(torch.tensor(y_test), (-1, 1))\n"
     ]
    },
    {
     "name": "stdout",
     "output_type": "stream",
     "text": [
      "Fold 3:\n"
     ]
    },
    {
     "name": "stderr",
     "output_type": "stream",
     "text": [
      "C:\\Users\\Shuyao\\AppData\\Local\\Temp\\ipykernel_26868\\1736011833.py:20: UserWarning: To copy construct from a tensor, it is recommended to use sourceTensor.clone().detach() or sourceTensor.clone().detach().requires_grad_(True), rather than torch.tensor(sourceTensor).\n",
      "  X_train = torch.tensor(X_train)\n",
      "C:\\Users\\Shuyao\\AppData\\Local\\Temp\\ipykernel_26868\\1736011833.py:21: UserWarning: To copy construct from a tensor, it is recommended to use sourceTensor.clone().detach() or sourceTensor.clone().detach().requires_grad_(True), rather than torch.tensor(sourceTensor).\n",
      "  X_test = torch.tensor(X_test)\n",
      "C:\\Users\\Shuyao\\AppData\\Local\\Temp\\ipykernel_26868\\1736011833.py:22: UserWarning: To copy construct from a tensor, it is recommended to use sourceTensor.clone().detach() or sourceTensor.clone().detach().requires_grad_(True), rather than torch.tensor(sourceTensor).\n",
      "  y_train = torch.reshape(torch.tensor(y_train), (-1, 1))\n",
      "C:\\Users\\Shuyao\\AppData\\Local\\Temp\\ipykernel_26868\\1736011833.py:23: UserWarning: To copy construct from a tensor, it is recommended to use sourceTensor.clone().detach() or sourceTensor.clone().detach().requires_grad_(True), rather than torch.tensor(sourceTensor).\n",
      "  y_test = torch.reshape(torch.tensor(y_test), (-1, 1))\n"
     ]
    },
    {
     "name": "stdout",
     "output_type": "stream",
     "text": [
      "Fold 4:\n"
     ]
    },
    {
     "name": "stderr",
     "output_type": "stream",
     "text": [
      "C:\\Users\\Shuyao\\AppData\\Local\\Temp\\ipykernel_26868\\1736011833.py:20: UserWarning: To copy construct from a tensor, it is recommended to use sourceTensor.clone().detach() or sourceTensor.clone().detach().requires_grad_(True), rather than torch.tensor(sourceTensor).\n",
      "  X_train = torch.tensor(X_train)\n",
      "C:\\Users\\Shuyao\\AppData\\Local\\Temp\\ipykernel_26868\\1736011833.py:21: UserWarning: To copy construct from a tensor, it is recommended to use sourceTensor.clone().detach() or sourceTensor.clone().detach().requires_grad_(True), rather than torch.tensor(sourceTensor).\n",
      "  X_test = torch.tensor(X_test)\n",
      "C:\\Users\\Shuyao\\AppData\\Local\\Temp\\ipykernel_26868\\1736011833.py:22: UserWarning: To copy construct from a tensor, it is recommended to use sourceTensor.clone().detach() or sourceTensor.clone().detach().requires_grad_(True), rather than torch.tensor(sourceTensor).\n",
      "  y_train = torch.reshape(torch.tensor(y_train), (-1, 1))\n",
      "C:\\Users\\Shuyao\\AppData\\Local\\Temp\\ipykernel_26868\\1736011833.py:23: UserWarning: To copy construct from a tensor, it is recommended to use sourceTensor.clone().detach() or sourceTensor.clone().detach().requires_grad_(True), rather than torch.tensor(sourceTensor).\n",
      "  y_test = torch.reshape(torch.tensor(y_test), (-1, 1))\n"
     ]
    },
    {
     "name": "stdout",
     "output_type": "stream",
     "text": [
      "Fold 5:\n"
     ]
    },
    {
     "name": "stderr",
     "output_type": "stream",
     "text": [
      "C:\\Users\\Shuyao\\AppData\\Local\\Temp\\ipykernel_26868\\1736011833.py:20: UserWarning: To copy construct from a tensor, it is recommended to use sourceTensor.clone().detach() or sourceTensor.clone().detach().requires_grad_(True), rather than torch.tensor(sourceTensor).\n",
      "  X_train = torch.tensor(X_train)\n",
      "C:\\Users\\Shuyao\\AppData\\Local\\Temp\\ipykernel_26868\\1736011833.py:21: UserWarning: To copy construct from a tensor, it is recommended to use sourceTensor.clone().detach() or sourceTensor.clone().detach().requires_grad_(True), rather than torch.tensor(sourceTensor).\n",
      "  X_test = torch.tensor(X_test)\n",
      "C:\\Users\\Shuyao\\AppData\\Local\\Temp\\ipykernel_26868\\1736011833.py:22: UserWarning: To copy construct from a tensor, it is recommended to use sourceTensor.clone().detach() or sourceTensor.clone().detach().requires_grad_(True), rather than torch.tensor(sourceTensor).\n",
      "  y_train = torch.reshape(torch.tensor(y_train), (-1, 1))\n",
      "C:\\Users\\Shuyao\\AppData\\Local\\Temp\\ipykernel_26868\\1736011833.py:23: UserWarning: To copy construct from a tensor, it is recommended to use sourceTensor.clone().detach() or sourceTensor.clone().detach().requires_grad_(True), rather than torch.tensor(sourceTensor).\n",
      "  y_test = torch.reshape(torch.tensor(y_test), (-1, 1))\n"
     ]
    },
    {
     "name": "stdout",
     "output_type": "stream",
     "text": [
      "split [0.34, 0.33, 0.33]\n",
      "mse [0.13359588, 0.1313033, 0.13137814, 0.13509676, 0.13398218, 0.1361204, 0.1322857, 0.12886557, 0.13207601, 0.13356654, 0.13204132, 0.13176116, 0.13472474, 0.13650002, 0.13574335]\n",
      "auc [0.8569554339767009, 0.8557920490867186, 0.8570971464402249, 0.8591220555505326, 0.8578288516964421, 0.8597690182473803, 0.8663454330774243, 0.8644611279445608, 0.8651528260969296, 0.8537597513627968, 0.8535743245921632, 0.8512975375456696, 0.8620305638832014, 0.859744672966628, 0.8604378765534814]\n",
      "Fold 1:\n"
     ]
    },
    {
     "name": "stderr",
     "output_type": "stream",
     "text": [
      "C:\\Users\\Shuyao\\AppData\\Local\\Temp\\ipykernel_26868\\1736011833.py:20: UserWarning: To copy construct from a tensor, it is recommended to use sourceTensor.clone().detach() or sourceTensor.clone().detach().requires_grad_(True), rather than torch.tensor(sourceTensor).\n",
      "  X_train = torch.tensor(X_train)\n",
      "C:\\Users\\Shuyao\\AppData\\Local\\Temp\\ipykernel_26868\\1736011833.py:21: UserWarning: To copy construct from a tensor, it is recommended to use sourceTensor.clone().detach() or sourceTensor.clone().detach().requires_grad_(True), rather than torch.tensor(sourceTensor).\n",
      "  X_test = torch.tensor(X_test)\n",
      "C:\\Users\\Shuyao\\AppData\\Local\\Temp\\ipykernel_26868\\1736011833.py:22: UserWarning: To copy construct from a tensor, it is recommended to use sourceTensor.clone().detach() or sourceTensor.clone().detach().requires_grad_(True), rather than torch.tensor(sourceTensor).\n",
      "  y_train = torch.reshape(torch.tensor(y_train), (-1, 1))\n",
      "C:\\Users\\Shuyao\\AppData\\Local\\Temp\\ipykernel_26868\\1736011833.py:23: UserWarning: To copy construct from a tensor, it is recommended to use sourceTensor.clone().detach() or sourceTensor.clone().detach().requires_grad_(True), rather than torch.tensor(sourceTensor).\n",
      "  y_test = torch.reshape(torch.tensor(y_test), (-1, 1))\n"
     ]
    },
    {
     "name": "stdout",
     "output_type": "stream",
     "text": [
      "Fold 2:\n"
     ]
    },
    {
     "name": "stderr",
     "output_type": "stream",
     "text": [
      "C:\\Users\\Shuyao\\AppData\\Local\\Temp\\ipykernel_26868\\1736011833.py:20: UserWarning: To copy construct from a tensor, it is recommended to use sourceTensor.clone().detach() or sourceTensor.clone().detach().requires_grad_(True), rather than torch.tensor(sourceTensor).\n",
      "  X_train = torch.tensor(X_train)\n",
      "C:\\Users\\Shuyao\\AppData\\Local\\Temp\\ipykernel_26868\\1736011833.py:21: UserWarning: To copy construct from a tensor, it is recommended to use sourceTensor.clone().detach() or sourceTensor.clone().detach().requires_grad_(True), rather than torch.tensor(sourceTensor).\n",
      "  X_test = torch.tensor(X_test)\n",
      "C:\\Users\\Shuyao\\AppData\\Local\\Temp\\ipykernel_26868\\1736011833.py:22: UserWarning: To copy construct from a tensor, it is recommended to use sourceTensor.clone().detach() or sourceTensor.clone().detach().requires_grad_(True), rather than torch.tensor(sourceTensor).\n",
      "  y_train = torch.reshape(torch.tensor(y_train), (-1, 1))\n",
      "C:\\Users\\Shuyao\\AppData\\Local\\Temp\\ipykernel_26868\\1736011833.py:23: UserWarning: To copy construct from a tensor, it is recommended to use sourceTensor.clone().detach() or sourceTensor.clone().detach().requires_grad_(True), rather than torch.tensor(sourceTensor).\n",
      "  y_test = torch.reshape(torch.tensor(y_test), (-1, 1))\n"
     ]
    },
    {
     "name": "stdout",
     "output_type": "stream",
     "text": [
      "Fold 3:\n"
     ]
    },
    {
     "name": "stderr",
     "output_type": "stream",
     "text": [
      "C:\\Users\\Shuyao\\AppData\\Local\\Temp\\ipykernel_26868\\1736011833.py:20: UserWarning: To copy construct from a tensor, it is recommended to use sourceTensor.clone().detach() or sourceTensor.clone().detach().requires_grad_(True), rather than torch.tensor(sourceTensor).\n",
      "  X_train = torch.tensor(X_train)\n",
      "C:\\Users\\Shuyao\\AppData\\Local\\Temp\\ipykernel_26868\\1736011833.py:21: UserWarning: To copy construct from a tensor, it is recommended to use sourceTensor.clone().detach() or sourceTensor.clone().detach().requires_grad_(True), rather than torch.tensor(sourceTensor).\n",
      "  X_test = torch.tensor(X_test)\n",
      "C:\\Users\\Shuyao\\AppData\\Local\\Temp\\ipykernel_26868\\1736011833.py:22: UserWarning: To copy construct from a tensor, it is recommended to use sourceTensor.clone().detach() or sourceTensor.clone().detach().requires_grad_(True), rather than torch.tensor(sourceTensor).\n",
      "  y_train = torch.reshape(torch.tensor(y_train), (-1, 1))\n",
      "C:\\Users\\Shuyao\\AppData\\Local\\Temp\\ipykernel_26868\\1736011833.py:23: UserWarning: To copy construct from a tensor, it is recommended to use sourceTensor.clone().detach() or sourceTensor.clone().detach().requires_grad_(True), rather than torch.tensor(sourceTensor).\n",
      "  y_test = torch.reshape(torch.tensor(y_test), (-1, 1))\n"
     ]
    },
    {
     "name": "stdout",
     "output_type": "stream",
     "text": [
      "Fold 4:\n"
     ]
    },
    {
     "name": "stderr",
     "output_type": "stream",
     "text": [
      "C:\\Users\\Shuyao\\AppData\\Local\\Temp\\ipykernel_26868\\1736011833.py:20: UserWarning: To copy construct from a tensor, it is recommended to use sourceTensor.clone().detach() or sourceTensor.clone().detach().requires_grad_(True), rather than torch.tensor(sourceTensor).\n",
      "  X_train = torch.tensor(X_train)\n",
      "C:\\Users\\Shuyao\\AppData\\Local\\Temp\\ipykernel_26868\\1736011833.py:21: UserWarning: To copy construct from a tensor, it is recommended to use sourceTensor.clone().detach() or sourceTensor.clone().detach().requires_grad_(True), rather than torch.tensor(sourceTensor).\n",
      "  X_test = torch.tensor(X_test)\n",
      "C:\\Users\\Shuyao\\AppData\\Local\\Temp\\ipykernel_26868\\1736011833.py:22: UserWarning: To copy construct from a tensor, it is recommended to use sourceTensor.clone().detach() or sourceTensor.clone().detach().requires_grad_(True), rather than torch.tensor(sourceTensor).\n",
      "  y_train = torch.reshape(torch.tensor(y_train), (-1, 1))\n",
      "C:\\Users\\Shuyao\\AppData\\Local\\Temp\\ipykernel_26868\\1736011833.py:23: UserWarning: To copy construct from a tensor, it is recommended to use sourceTensor.clone().detach() or sourceTensor.clone().detach().requires_grad_(True), rather than torch.tensor(sourceTensor).\n",
      "  y_test = torch.reshape(torch.tensor(y_test), (-1, 1))\n"
     ]
    },
    {
     "name": "stdout",
     "output_type": "stream",
     "text": [
      "Fold 5:\n"
     ]
    },
    {
     "name": "stderr",
     "output_type": "stream",
     "text": [
      "C:\\Users\\Shuyao\\AppData\\Local\\Temp\\ipykernel_26868\\1736011833.py:20: UserWarning: To copy construct from a tensor, it is recommended to use sourceTensor.clone().detach() or sourceTensor.clone().detach().requires_grad_(True), rather than torch.tensor(sourceTensor).\n",
      "  X_train = torch.tensor(X_train)\n",
      "C:\\Users\\Shuyao\\AppData\\Local\\Temp\\ipykernel_26868\\1736011833.py:21: UserWarning: To copy construct from a tensor, it is recommended to use sourceTensor.clone().detach() or sourceTensor.clone().detach().requires_grad_(True), rather than torch.tensor(sourceTensor).\n",
      "  X_test = torch.tensor(X_test)\n",
      "C:\\Users\\Shuyao\\AppData\\Local\\Temp\\ipykernel_26868\\1736011833.py:22: UserWarning: To copy construct from a tensor, it is recommended to use sourceTensor.clone().detach() or sourceTensor.clone().detach().requires_grad_(True), rather than torch.tensor(sourceTensor).\n",
      "  y_train = torch.reshape(torch.tensor(y_train), (-1, 1))\n",
      "C:\\Users\\Shuyao\\AppData\\Local\\Temp\\ipykernel_26868\\1736011833.py:23: UserWarning: To copy construct from a tensor, it is recommended to use sourceTensor.clone().detach() or sourceTensor.clone().detach().requires_grad_(True), rather than torch.tensor(sourceTensor).\n",
      "  y_test = torch.reshape(torch.tensor(y_test), (-1, 1))\n"
     ]
    },
    {
     "name": "stdout",
     "output_type": "stream",
     "text": [
      "split [0.6, 0.2, 0.2]\n",
      "mse [0.1362956, 0.12961169, 0.123614565, 0.1392099, 0.13297398, 0.12829821, 0.13545832, 0.12784356, 0.12562163, 0.13739894, 0.1265431, 0.12800004, 0.13946009, 0.12929873, 0.13084194]\n",
      "auc [0.8607128799356022, 0.8513783950000396, 0.8522075411259968, 0.8635925367862716, 0.8536022419393559, 0.8568017445224232, 0.8691700023026911, 0.8608870305037549, 0.8610974528315753, 0.8568885074329715, 0.8492718017422953, 0.8483456299419339, 0.8654039664190123, 0.8521442509104984, 0.8580124345325293]\n",
      "Fold 1:\n"
     ]
    },
    {
     "name": "stderr",
     "output_type": "stream",
     "text": [
      "C:\\Users\\Shuyao\\AppData\\Local\\Temp\\ipykernel_26868\\1736011833.py:20: UserWarning: To copy construct from a tensor, it is recommended to use sourceTensor.clone().detach() or sourceTensor.clone().detach().requires_grad_(True), rather than torch.tensor(sourceTensor).\n",
      "  X_train = torch.tensor(X_train)\n",
      "C:\\Users\\Shuyao\\AppData\\Local\\Temp\\ipykernel_26868\\1736011833.py:21: UserWarning: To copy construct from a tensor, it is recommended to use sourceTensor.clone().detach() or sourceTensor.clone().detach().requires_grad_(True), rather than torch.tensor(sourceTensor).\n",
      "  X_test = torch.tensor(X_test)\n",
      "C:\\Users\\Shuyao\\AppData\\Local\\Temp\\ipykernel_26868\\1736011833.py:22: UserWarning: To copy construct from a tensor, it is recommended to use sourceTensor.clone().detach() or sourceTensor.clone().detach().requires_grad_(True), rather than torch.tensor(sourceTensor).\n",
      "  y_train = torch.reshape(torch.tensor(y_train), (-1, 1))\n",
      "C:\\Users\\Shuyao\\AppData\\Local\\Temp\\ipykernel_26868\\1736011833.py:23: UserWarning: To copy construct from a tensor, it is recommended to use sourceTensor.clone().detach() or sourceTensor.clone().detach().requires_grad_(True), rather than torch.tensor(sourceTensor).\n",
      "  y_test = torch.reshape(torch.tensor(y_test), (-1, 1))\n"
     ]
    },
    {
     "name": "stdout",
     "output_type": "stream",
     "text": [
      "Fold 2:\n"
     ]
    },
    {
     "name": "stderr",
     "output_type": "stream",
     "text": [
      "C:\\Users\\Shuyao\\AppData\\Local\\Temp\\ipykernel_26868\\1736011833.py:20: UserWarning: To copy construct from a tensor, it is recommended to use sourceTensor.clone().detach() or sourceTensor.clone().detach().requires_grad_(True), rather than torch.tensor(sourceTensor).\n",
      "  X_train = torch.tensor(X_train)\n",
      "C:\\Users\\Shuyao\\AppData\\Local\\Temp\\ipykernel_26868\\1736011833.py:21: UserWarning: To copy construct from a tensor, it is recommended to use sourceTensor.clone().detach() or sourceTensor.clone().detach().requires_grad_(True), rather than torch.tensor(sourceTensor).\n",
      "  X_test = torch.tensor(X_test)\n",
      "C:\\Users\\Shuyao\\AppData\\Local\\Temp\\ipykernel_26868\\1736011833.py:22: UserWarning: To copy construct from a tensor, it is recommended to use sourceTensor.clone().detach() or sourceTensor.clone().detach().requires_grad_(True), rather than torch.tensor(sourceTensor).\n",
      "  y_train = torch.reshape(torch.tensor(y_train), (-1, 1))\n",
      "C:\\Users\\Shuyao\\AppData\\Local\\Temp\\ipykernel_26868\\1736011833.py:23: UserWarning: To copy construct from a tensor, it is recommended to use sourceTensor.clone().detach() or sourceTensor.clone().detach().requires_grad_(True), rather than torch.tensor(sourceTensor).\n",
      "  y_test = torch.reshape(torch.tensor(y_test), (-1, 1))\n"
     ]
    },
    {
     "name": "stdout",
     "output_type": "stream",
     "text": [
      "Fold 3:\n"
     ]
    },
    {
     "name": "stderr",
     "output_type": "stream",
     "text": [
      "C:\\Users\\Shuyao\\AppData\\Local\\Temp\\ipykernel_26868\\1736011833.py:20: UserWarning: To copy construct from a tensor, it is recommended to use sourceTensor.clone().detach() or sourceTensor.clone().detach().requires_grad_(True), rather than torch.tensor(sourceTensor).\n",
      "  X_train = torch.tensor(X_train)\n",
      "C:\\Users\\Shuyao\\AppData\\Local\\Temp\\ipykernel_26868\\1736011833.py:21: UserWarning: To copy construct from a tensor, it is recommended to use sourceTensor.clone().detach() or sourceTensor.clone().detach().requires_grad_(True), rather than torch.tensor(sourceTensor).\n",
      "  X_test = torch.tensor(X_test)\n",
      "C:\\Users\\Shuyao\\AppData\\Local\\Temp\\ipykernel_26868\\1736011833.py:22: UserWarning: To copy construct from a tensor, it is recommended to use sourceTensor.clone().detach() or sourceTensor.clone().detach().requires_grad_(True), rather than torch.tensor(sourceTensor).\n",
      "  y_train = torch.reshape(torch.tensor(y_train), (-1, 1))\n",
      "C:\\Users\\Shuyao\\AppData\\Local\\Temp\\ipykernel_26868\\1736011833.py:23: UserWarning: To copy construct from a tensor, it is recommended to use sourceTensor.clone().detach() or sourceTensor.clone().detach().requires_grad_(True), rather than torch.tensor(sourceTensor).\n",
      "  y_test = torch.reshape(torch.tensor(y_test), (-1, 1))\n"
     ]
    },
    {
     "name": "stdout",
     "output_type": "stream",
     "text": [
      "Fold 4:\n"
     ]
    },
    {
     "name": "stderr",
     "output_type": "stream",
     "text": [
      "C:\\Users\\Shuyao\\AppData\\Local\\Temp\\ipykernel_26868\\1736011833.py:20: UserWarning: To copy construct from a tensor, it is recommended to use sourceTensor.clone().detach() or sourceTensor.clone().detach().requires_grad_(True), rather than torch.tensor(sourceTensor).\n",
      "  X_train = torch.tensor(X_train)\n",
      "C:\\Users\\Shuyao\\AppData\\Local\\Temp\\ipykernel_26868\\1736011833.py:21: UserWarning: To copy construct from a tensor, it is recommended to use sourceTensor.clone().detach() or sourceTensor.clone().detach().requires_grad_(True), rather than torch.tensor(sourceTensor).\n",
      "  X_test = torch.tensor(X_test)\n",
      "C:\\Users\\Shuyao\\AppData\\Local\\Temp\\ipykernel_26868\\1736011833.py:22: UserWarning: To copy construct from a tensor, it is recommended to use sourceTensor.clone().detach() or sourceTensor.clone().detach().requires_grad_(True), rather than torch.tensor(sourceTensor).\n",
      "  y_train = torch.reshape(torch.tensor(y_train), (-1, 1))\n",
      "C:\\Users\\Shuyao\\AppData\\Local\\Temp\\ipykernel_26868\\1736011833.py:23: UserWarning: To copy construct from a tensor, it is recommended to use sourceTensor.clone().detach() or sourceTensor.clone().detach().requires_grad_(True), rather than torch.tensor(sourceTensor).\n",
      "  y_test = torch.reshape(torch.tensor(y_test), (-1, 1))\n"
     ]
    },
    {
     "name": "stdout",
     "output_type": "stream",
     "text": [
      "Fold 5:\n"
     ]
    },
    {
     "name": "stderr",
     "output_type": "stream",
     "text": [
      "C:\\Users\\Shuyao\\AppData\\Local\\Temp\\ipykernel_26868\\1736011833.py:20: UserWarning: To copy construct from a tensor, it is recommended to use sourceTensor.clone().detach() or sourceTensor.clone().detach().requires_grad_(True), rather than torch.tensor(sourceTensor).\n",
      "  X_train = torch.tensor(X_train)\n",
      "C:\\Users\\Shuyao\\AppData\\Local\\Temp\\ipykernel_26868\\1736011833.py:21: UserWarning: To copy construct from a tensor, it is recommended to use sourceTensor.clone().detach() or sourceTensor.clone().detach().requires_grad_(True), rather than torch.tensor(sourceTensor).\n",
      "  X_test = torch.tensor(X_test)\n",
      "C:\\Users\\Shuyao\\AppData\\Local\\Temp\\ipykernel_26868\\1736011833.py:22: UserWarning: To copy construct from a tensor, it is recommended to use sourceTensor.clone().detach() or sourceTensor.clone().detach().requires_grad_(True), rather than torch.tensor(sourceTensor).\n",
      "  y_train = torch.reshape(torch.tensor(y_train), (-1, 1))\n",
      "C:\\Users\\Shuyao\\AppData\\Local\\Temp\\ipykernel_26868\\1736011833.py:23: UserWarning: To copy construct from a tensor, it is recommended to use sourceTensor.clone().detach() or sourceTensor.clone().detach().requires_grad_(True), rather than torch.tensor(sourceTensor).\n",
      "  y_test = torch.reshape(torch.tensor(y_test), (-1, 1))\n"
     ]
    },
    {
     "name": "stdout",
     "output_type": "stream",
     "text": [
      "split [0.8, 0.1, 0.1]\n",
      "mse [0.1383434, 0.11920269, 0.11671416, 0.14051673, 0.117068715, 0.11799401, 0.13706769, 0.11487291, 0.118996225, 0.13847578, 0.11802307, 0.118222006, 0.14078689, 0.11995363, 0.12274225]\n",
      "auc [0.8624255831491023, 0.8417254844026897, 0.8382552296671464, 0.8636973025553636, 0.8463194220200525, 0.8517110420947096, 0.8702995146532668, 0.8546852817946204, 0.8540449732963536, 0.857843763514949, 0.8380507563026707, 0.8433698126535776, 0.8664693419157945, 0.8482339516452662, 0.8475992551217064]\n"
     ]
    }
   ],
   "source": [
    "split = [0.34, 0.33, 0.33]\n",
    "run_local(split)\n",
    "\n",
    "split = [0.6, 0.2, 0.2]\n",
    "run_local(split)\n",
    "\n",
    "split = [0.8, 0.1, 0.1]\n",
    "run_local(split)"
   ],
   "metadata": {
    "collapsed": false,
    "ExecuteTime": {
     "end_time": "2023-08-28T14:53:09.385275900Z",
     "start_time": "2023-08-28T14:47:33.185438900Z"
    }
   }
  },
  {
   "cell_type": "code",
   "execution_count": 19,
   "outputs": [
    {
     "name": "stdout",
     "output_type": "stream",
     "text": [
      "Fold 1:\n"
     ]
    },
    {
     "name": "stderr",
     "output_type": "stream",
     "text": [
      "C:\\Users\\Shuyao\\AppData\\Local\\Temp\\ipykernel_26868\\1736011833.py:20: UserWarning: To copy construct from a tensor, it is recommended to use sourceTensor.clone().detach() or sourceTensor.clone().detach().requires_grad_(True), rather than torch.tensor(sourceTensor).\n",
      "  X_train = torch.tensor(X_train)\n",
      "C:\\Users\\Shuyao\\AppData\\Local\\Temp\\ipykernel_26868\\1736011833.py:21: UserWarning: To copy construct from a tensor, it is recommended to use sourceTensor.clone().detach() or sourceTensor.clone().detach().requires_grad_(True), rather than torch.tensor(sourceTensor).\n",
      "  X_test = torch.tensor(X_test)\n",
      "C:\\Users\\Shuyao\\AppData\\Local\\Temp\\ipykernel_26868\\1736011833.py:22: UserWarning: To copy construct from a tensor, it is recommended to use sourceTensor.clone().detach() or sourceTensor.clone().detach().requires_grad_(True), rather than torch.tensor(sourceTensor).\n",
      "  y_train = torch.reshape(torch.tensor(y_train), (-1, 1))\n",
      "C:\\Users\\Shuyao\\AppData\\Local\\Temp\\ipykernel_26868\\1736011833.py:23: UserWarning: To copy construct from a tensor, it is recommended to use sourceTensor.clone().detach() or sourceTensor.clone().detach().requires_grad_(True), rather than torch.tensor(sourceTensor).\n",
      "  y_test = torch.reshape(torch.tensor(y_test), (-1, 1))\n"
     ]
    },
    {
     "name": "stdout",
     "output_type": "stream",
     "text": [
      "Fold 2:\n"
     ]
    },
    {
     "name": "stderr",
     "output_type": "stream",
     "text": [
      "C:\\Users\\Shuyao\\AppData\\Local\\Temp\\ipykernel_26868\\1736011833.py:20: UserWarning: To copy construct from a tensor, it is recommended to use sourceTensor.clone().detach() or sourceTensor.clone().detach().requires_grad_(True), rather than torch.tensor(sourceTensor).\n",
      "  X_train = torch.tensor(X_train)\n",
      "C:\\Users\\Shuyao\\AppData\\Local\\Temp\\ipykernel_26868\\1736011833.py:21: UserWarning: To copy construct from a tensor, it is recommended to use sourceTensor.clone().detach() or sourceTensor.clone().detach().requires_grad_(True), rather than torch.tensor(sourceTensor).\n",
      "  X_test = torch.tensor(X_test)\n",
      "C:\\Users\\Shuyao\\AppData\\Local\\Temp\\ipykernel_26868\\1736011833.py:22: UserWarning: To copy construct from a tensor, it is recommended to use sourceTensor.clone().detach() or sourceTensor.clone().detach().requires_grad_(True), rather than torch.tensor(sourceTensor).\n",
      "  y_train = torch.reshape(torch.tensor(y_train), (-1, 1))\n",
      "C:\\Users\\Shuyao\\AppData\\Local\\Temp\\ipykernel_26868\\1736011833.py:23: UserWarning: To copy construct from a tensor, it is recommended to use sourceTensor.clone().detach() or sourceTensor.clone().detach().requires_grad_(True), rather than torch.tensor(sourceTensor).\n",
      "  y_test = torch.reshape(torch.tensor(y_test), (-1, 1))\n"
     ]
    },
    {
     "name": "stdout",
     "output_type": "stream",
     "text": [
      "Fold 3:\n"
     ]
    },
    {
     "name": "stderr",
     "output_type": "stream",
     "text": [
      "C:\\Users\\Shuyao\\AppData\\Local\\Temp\\ipykernel_26868\\1736011833.py:20: UserWarning: To copy construct from a tensor, it is recommended to use sourceTensor.clone().detach() or sourceTensor.clone().detach().requires_grad_(True), rather than torch.tensor(sourceTensor).\n",
      "  X_train = torch.tensor(X_train)\n",
      "C:\\Users\\Shuyao\\AppData\\Local\\Temp\\ipykernel_26868\\1736011833.py:21: UserWarning: To copy construct from a tensor, it is recommended to use sourceTensor.clone().detach() or sourceTensor.clone().detach().requires_grad_(True), rather than torch.tensor(sourceTensor).\n",
      "  X_test = torch.tensor(X_test)\n",
      "C:\\Users\\Shuyao\\AppData\\Local\\Temp\\ipykernel_26868\\1736011833.py:22: UserWarning: To copy construct from a tensor, it is recommended to use sourceTensor.clone().detach() or sourceTensor.clone().detach().requires_grad_(True), rather than torch.tensor(sourceTensor).\n",
      "  y_train = torch.reshape(torch.tensor(y_train), (-1, 1))\n",
      "C:\\Users\\Shuyao\\AppData\\Local\\Temp\\ipykernel_26868\\1736011833.py:23: UserWarning: To copy construct from a tensor, it is recommended to use sourceTensor.clone().detach() or sourceTensor.clone().detach().requires_grad_(True), rather than torch.tensor(sourceTensor).\n",
      "  y_test = torch.reshape(torch.tensor(y_test), (-1, 1))\n"
     ]
    },
    {
     "name": "stdout",
     "output_type": "stream",
     "text": [
      "Fold 4:\n"
     ]
    },
    {
     "name": "stderr",
     "output_type": "stream",
     "text": [
      "C:\\Users\\Shuyao\\AppData\\Local\\Temp\\ipykernel_26868\\1736011833.py:20: UserWarning: To copy construct from a tensor, it is recommended to use sourceTensor.clone().detach() or sourceTensor.clone().detach().requires_grad_(True), rather than torch.tensor(sourceTensor).\n",
      "  X_train = torch.tensor(X_train)\n",
      "C:\\Users\\Shuyao\\AppData\\Local\\Temp\\ipykernel_26868\\1736011833.py:21: UserWarning: To copy construct from a tensor, it is recommended to use sourceTensor.clone().detach() or sourceTensor.clone().detach().requires_grad_(True), rather than torch.tensor(sourceTensor).\n",
      "  X_test = torch.tensor(X_test)\n",
      "C:\\Users\\Shuyao\\AppData\\Local\\Temp\\ipykernel_26868\\1736011833.py:22: UserWarning: To copy construct from a tensor, it is recommended to use sourceTensor.clone().detach() or sourceTensor.clone().detach().requires_grad_(True), rather than torch.tensor(sourceTensor).\n",
      "  y_train = torch.reshape(torch.tensor(y_train), (-1, 1))\n",
      "C:\\Users\\Shuyao\\AppData\\Local\\Temp\\ipykernel_26868\\1736011833.py:23: UserWarning: To copy construct from a tensor, it is recommended to use sourceTensor.clone().detach() or sourceTensor.clone().detach().requires_grad_(True), rather than torch.tensor(sourceTensor).\n",
      "  y_test = torch.reshape(torch.tensor(y_test), (-1, 1))\n"
     ]
    },
    {
     "name": "stdout",
     "output_type": "stream",
     "text": [
      "Fold 5:\n"
     ]
    },
    {
     "name": "stderr",
     "output_type": "stream",
     "text": [
      "C:\\Users\\Shuyao\\AppData\\Local\\Temp\\ipykernel_26868\\1736011833.py:20: UserWarning: To copy construct from a tensor, it is recommended to use sourceTensor.clone().detach() or sourceTensor.clone().detach().requires_grad_(True), rather than torch.tensor(sourceTensor).\n",
      "  X_train = torch.tensor(X_train)\n",
      "C:\\Users\\Shuyao\\AppData\\Local\\Temp\\ipykernel_26868\\1736011833.py:21: UserWarning: To copy construct from a tensor, it is recommended to use sourceTensor.clone().detach() or sourceTensor.clone().detach().requires_grad_(True), rather than torch.tensor(sourceTensor).\n",
      "  X_test = torch.tensor(X_test)\n",
      "C:\\Users\\Shuyao\\AppData\\Local\\Temp\\ipykernel_26868\\1736011833.py:22: UserWarning: To copy construct from a tensor, it is recommended to use sourceTensor.clone().detach() or sourceTensor.clone().detach().requires_grad_(True), rather than torch.tensor(sourceTensor).\n",
      "  y_train = torch.reshape(torch.tensor(y_train), (-1, 1))\n",
      "C:\\Users\\Shuyao\\AppData\\Local\\Temp\\ipykernel_26868\\1736011833.py:23: UserWarning: To copy construct from a tensor, it is recommended to use sourceTensor.clone().detach() or sourceTensor.clone().detach().requires_grad_(True), rather than torch.tensor(sourceTensor).\n",
      "  y_test = torch.reshape(torch.tensor(y_test), (-1, 1))\n"
     ]
    },
    {
     "name": "stdout",
     "output_type": "stream",
     "text": [
      "split [0.2, 0.2, 0.2, 0.2, 0.2]\n",
      "mse [0.12842344, 0.12788504, 0.1276116, 0.12961169, 0.123614565, 0.1278343, 0.13182019, 0.12911019, 0.13297398, 0.12829821, 0.12609702, 0.12987289, 0.12436068, 0.12784356, 0.12562163, 0.12714255, 0.13002393, 0.12857279, 0.1265431, 0.12800004, 0.1299009, 0.12838525, 0.1323288, 0.12929873, 0.13084194]\n",
      "auc [0.8536076328419898, 0.8563396489818962, 0.8523466180724811, 0.8513783950000396, 0.8522075411259968, 0.8550589145995523, 0.8561551826809115, 0.8530724269875412, 0.8536022419393559, 0.8568017445224232, 0.8635422517113183, 0.8608741764093073, 0.8607835385638423, 0.8608870305037549, 0.8610974528315753, 0.8491461380483423, 0.8474536288320099, 0.8496582084706077, 0.8492718017422953, 0.8483456299419339, 0.8558912684354483, 0.8601143328497829, 0.8580970506400546, 0.8521442509104984, 0.8580124345325293]\n",
      "Fold 1:\n"
     ]
    },
    {
     "name": "stderr",
     "output_type": "stream",
     "text": [
      "C:\\Users\\Shuyao\\AppData\\Local\\Temp\\ipykernel_26868\\1736011833.py:20: UserWarning: To copy construct from a tensor, it is recommended to use sourceTensor.clone().detach() or sourceTensor.clone().detach().requires_grad_(True), rather than torch.tensor(sourceTensor).\n",
      "  X_train = torch.tensor(X_train)\n",
      "C:\\Users\\Shuyao\\AppData\\Local\\Temp\\ipykernel_26868\\1736011833.py:21: UserWarning: To copy construct from a tensor, it is recommended to use sourceTensor.clone().detach() or sourceTensor.clone().detach().requires_grad_(True), rather than torch.tensor(sourceTensor).\n",
      "  X_test = torch.tensor(X_test)\n",
      "C:\\Users\\Shuyao\\AppData\\Local\\Temp\\ipykernel_26868\\1736011833.py:22: UserWarning: To copy construct from a tensor, it is recommended to use sourceTensor.clone().detach() or sourceTensor.clone().detach().requires_grad_(True), rather than torch.tensor(sourceTensor).\n",
      "  y_train = torch.reshape(torch.tensor(y_train), (-1, 1))\n",
      "C:\\Users\\Shuyao\\AppData\\Local\\Temp\\ipykernel_26868\\1736011833.py:23: UserWarning: To copy construct from a tensor, it is recommended to use sourceTensor.clone().detach() or sourceTensor.clone().detach().requires_grad_(True), rather than torch.tensor(sourceTensor).\n",
      "  y_test = torch.reshape(torch.tensor(y_test), (-1, 1))\n"
     ]
    },
    {
     "name": "stdout",
     "output_type": "stream",
     "text": [
      "Fold 2:\n"
     ]
    },
    {
     "name": "stderr",
     "output_type": "stream",
     "text": [
      "C:\\Users\\Shuyao\\AppData\\Local\\Temp\\ipykernel_26868\\1736011833.py:20: UserWarning: To copy construct from a tensor, it is recommended to use sourceTensor.clone().detach() or sourceTensor.clone().detach().requires_grad_(True), rather than torch.tensor(sourceTensor).\n",
      "  X_train = torch.tensor(X_train)\n",
      "C:\\Users\\Shuyao\\AppData\\Local\\Temp\\ipykernel_26868\\1736011833.py:21: UserWarning: To copy construct from a tensor, it is recommended to use sourceTensor.clone().detach() or sourceTensor.clone().detach().requires_grad_(True), rather than torch.tensor(sourceTensor).\n",
      "  X_test = torch.tensor(X_test)\n",
      "C:\\Users\\Shuyao\\AppData\\Local\\Temp\\ipykernel_26868\\1736011833.py:22: UserWarning: To copy construct from a tensor, it is recommended to use sourceTensor.clone().detach() or sourceTensor.clone().detach().requires_grad_(True), rather than torch.tensor(sourceTensor).\n",
      "  y_train = torch.reshape(torch.tensor(y_train), (-1, 1))\n",
      "C:\\Users\\Shuyao\\AppData\\Local\\Temp\\ipykernel_26868\\1736011833.py:23: UserWarning: To copy construct from a tensor, it is recommended to use sourceTensor.clone().detach() or sourceTensor.clone().detach().requires_grad_(True), rather than torch.tensor(sourceTensor).\n",
      "  y_test = torch.reshape(torch.tensor(y_test), (-1, 1))\n"
     ]
    },
    {
     "name": "stdout",
     "output_type": "stream",
     "text": [
      "Fold 3:\n"
     ]
    },
    {
     "name": "stderr",
     "output_type": "stream",
     "text": [
      "C:\\Users\\Shuyao\\AppData\\Local\\Temp\\ipykernel_26868\\1736011833.py:20: UserWarning: To copy construct from a tensor, it is recommended to use sourceTensor.clone().detach() or sourceTensor.clone().detach().requires_grad_(True), rather than torch.tensor(sourceTensor).\n",
      "  X_train = torch.tensor(X_train)\n",
      "C:\\Users\\Shuyao\\AppData\\Local\\Temp\\ipykernel_26868\\1736011833.py:21: UserWarning: To copy construct from a tensor, it is recommended to use sourceTensor.clone().detach() or sourceTensor.clone().detach().requires_grad_(True), rather than torch.tensor(sourceTensor).\n",
      "  X_test = torch.tensor(X_test)\n",
      "C:\\Users\\Shuyao\\AppData\\Local\\Temp\\ipykernel_26868\\1736011833.py:22: UserWarning: To copy construct from a tensor, it is recommended to use sourceTensor.clone().detach() or sourceTensor.clone().detach().requires_grad_(True), rather than torch.tensor(sourceTensor).\n",
      "  y_train = torch.reshape(torch.tensor(y_train), (-1, 1))\n",
      "C:\\Users\\Shuyao\\AppData\\Local\\Temp\\ipykernel_26868\\1736011833.py:23: UserWarning: To copy construct from a tensor, it is recommended to use sourceTensor.clone().detach() or sourceTensor.clone().detach().requires_grad_(True), rather than torch.tensor(sourceTensor).\n",
      "  y_test = torch.reshape(torch.tensor(y_test), (-1, 1))\n"
     ]
    },
    {
     "name": "stdout",
     "output_type": "stream",
     "text": [
      "Fold 4:\n"
     ]
    },
    {
     "name": "stderr",
     "output_type": "stream",
     "text": [
      "C:\\Users\\Shuyao\\AppData\\Local\\Temp\\ipykernel_26868\\1736011833.py:20: UserWarning: To copy construct from a tensor, it is recommended to use sourceTensor.clone().detach() or sourceTensor.clone().detach().requires_grad_(True), rather than torch.tensor(sourceTensor).\n",
      "  X_train = torch.tensor(X_train)\n",
      "C:\\Users\\Shuyao\\AppData\\Local\\Temp\\ipykernel_26868\\1736011833.py:21: UserWarning: To copy construct from a tensor, it is recommended to use sourceTensor.clone().detach() or sourceTensor.clone().detach().requires_grad_(True), rather than torch.tensor(sourceTensor).\n",
      "  X_test = torch.tensor(X_test)\n",
      "C:\\Users\\Shuyao\\AppData\\Local\\Temp\\ipykernel_26868\\1736011833.py:22: UserWarning: To copy construct from a tensor, it is recommended to use sourceTensor.clone().detach() or sourceTensor.clone().detach().requires_grad_(True), rather than torch.tensor(sourceTensor).\n",
      "  y_train = torch.reshape(torch.tensor(y_train), (-1, 1))\n",
      "C:\\Users\\Shuyao\\AppData\\Local\\Temp\\ipykernel_26868\\1736011833.py:23: UserWarning: To copy construct from a tensor, it is recommended to use sourceTensor.clone().detach() or sourceTensor.clone().detach().requires_grad_(True), rather than torch.tensor(sourceTensor).\n",
      "  y_test = torch.reshape(torch.tensor(y_test), (-1, 1))\n"
     ]
    },
    {
     "name": "stdout",
     "output_type": "stream",
     "text": [
      "Fold 5:\n"
     ]
    },
    {
     "name": "stderr",
     "output_type": "stream",
     "text": [
      "C:\\Users\\Shuyao\\AppData\\Local\\Temp\\ipykernel_26868\\1736011833.py:20: UserWarning: To copy construct from a tensor, it is recommended to use sourceTensor.clone().detach() or sourceTensor.clone().detach().requires_grad_(True), rather than torch.tensor(sourceTensor).\n",
      "  X_train = torch.tensor(X_train)\n",
      "C:\\Users\\Shuyao\\AppData\\Local\\Temp\\ipykernel_26868\\1736011833.py:21: UserWarning: To copy construct from a tensor, it is recommended to use sourceTensor.clone().detach() or sourceTensor.clone().detach().requires_grad_(True), rather than torch.tensor(sourceTensor).\n",
      "  X_test = torch.tensor(X_test)\n",
      "C:\\Users\\Shuyao\\AppData\\Local\\Temp\\ipykernel_26868\\1736011833.py:22: UserWarning: To copy construct from a tensor, it is recommended to use sourceTensor.clone().detach() or sourceTensor.clone().detach().requires_grad_(True), rather than torch.tensor(sourceTensor).\n",
      "  y_train = torch.reshape(torch.tensor(y_train), (-1, 1))\n",
      "C:\\Users\\Shuyao\\AppData\\Local\\Temp\\ipykernel_26868\\1736011833.py:23: UserWarning: To copy construct from a tensor, it is recommended to use sourceTensor.clone().detach() or sourceTensor.clone().detach().requires_grad_(True), rather than torch.tensor(sourceTensor).\n",
      "  y_test = torch.reshape(torch.tensor(y_test), (-1, 1))\n"
     ]
    },
    {
     "name": "stdout",
     "output_type": "stream",
     "text": [
      "split [0.6, 0.1, 0.1, 0.1, 0.1]\n",
      "mse [0.1362956, 0.12340555, 0.119984604, 0.11920269, 0.11671416, 0.1392099, 0.12001645, 0.12573688, 0.117068715, 0.11799401, 0.13545832, 0.11516599, 0.11976686, 0.11487291, 0.118996225, 0.13739894, 0.1182458, 0.120992206, 0.11802307, 0.118222006, 0.13946009, 0.12070212, 0.121659584, 0.11995363, 0.12274225]\n",
      "auc [0.8607128799356022, 0.8414456833115713, 0.8412881043231668, 0.8417254844026897, 0.8382552296671464, 0.8635925367862716, 0.8486133567670393, 0.8456700363753948, 0.8463194220200525, 0.8517110420947096, 0.8691700023026911, 0.8524136346043268, 0.8544302309060354, 0.8546852817946204, 0.8540449732963536, 0.8568885074329715, 0.8398171297956217, 0.8406799219133805, 0.8380507563026707, 0.8433698126535776, 0.8654039664190123, 0.8426288449264409, 0.8449925195940315, 0.8482339516452662, 0.8475992551217064]\n",
      "Fold 1:\n"
     ]
    },
    {
     "name": "stderr",
     "output_type": "stream",
     "text": [
      "C:\\Users\\Shuyao\\AppData\\Local\\Temp\\ipykernel_26868\\1736011833.py:20: UserWarning: To copy construct from a tensor, it is recommended to use sourceTensor.clone().detach() or sourceTensor.clone().detach().requires_grad_(True), rather than torch.tensor(sourceTensor).\n",
      "  X_train = torch.tensor(X_train)\n",
      "C:\\Users\\Shuyao\\AppData\\Local\\Temp\\ipykernel_26868\\1736011833.py:21: UserWarning: To copy construct from a tensor, it is recommended to use sourceTensor.clone().detach() or sourceTensor.clone().detach().requires_grad_(True), rather than torch.tensor(sourceTensor).\n",
      "  X_test = torch.tensor(X_test)\n",
      "C:\\Users\\Shuyao\\AppData\\Local\\Temp\\ipykernel_26868\\1736011833.py:22: UserWarning: To copy construct from a tensor, it is recommended to use sourceTensor.clone().detach() or sourceTensor.clone().detach().requires_grad_(True), rather than torch.tensor(sourceTensor).\n",
      "  y_train = torch.reshape(torch.tensor(y_train), (-1, 1))\n",
      "C:\\Users\\Shuyao\\AppData\\Local\\Temp\\ipykernel_26868\\1736011833.py:23: UserWarning: To copy construct from a tensor, it is recommended to use sourceTensor.clone().detach() or sourceTensor.clone().detach().requires_grad_(True), rather than torch.tensor(sourceTensor).\n",
      "  y_test = torch.reshape(torch.tensor(y_test), (-1, 1))\n"
     ]
    },
    {
     "name": "stdout",
     "output_type": "stream",
     "text": [
      "Fold 2:\n"
     ]
    },
    {
     "name": "stderr",
     "output_type": "stream",
     "text": [
      "C:\\Users\\Shuyao\\AppData\\Local\\Temp\\ipykernel_26868\\1736011833.py:20: UserWarning: To copy construct from a tensor, it is recommended to use sourceTensor.clone().detach() or sourceTensor.clone().detach().requires_grad_(True), rather than torch.tensor(sourceTensor).\n",
      "  X_train = torch.tensor(X_train)\n",
      "C:\\Users\\Shuyao\\AppData\\Local\\Temp\\ipykernel_26868\\1736011833.py:21: UserWarning: To copy construct from a tensor, it is recommended to use sourceTensor.clone().detach() or sourceTensor.clone().detach().requires_grad_(True), rather than torch.tensor(sourceTensor).\n",
      "  X_test = torch.tensor(X_test)\n",
      "C:\\Users\\Shuyao\\AppData\\Local\\Temp\\ipykernel_26868\\1736011833.py:22: UserWarning: To copy construct from a tensor, it is recommended to use sourceTensor.clone().detach() or sourceTensor.clone().detach().requires_grad_(True), rather than torch.tensor(sourceTensor).\n",
      "  y_train = torch.reshape(torch.tensor(y_train), (-1, 1))\n",
      "C:\\Users\\Shuyao\\AppData\\Local\\Temp\\ipykernel_26868\\1736011833.py:23: UserWarning: To copy construct from a tensor, it is recommended to use sourceTensor.clone().detach() or sourceTensor.clone().detach().requires_grad_(True), rather than torch.tensor(sourceTensor).\n",
      "  y_test = torch.reshape(torch.tensor(y_test), (-1, 1))\n"
     ]
    },
    {
     "name": "stdout",
     "output_type": "stream",
     "text": [
      "Fold 3:\n"
     ]
    },
    {
     "name": "stderr",
     "output_type": "stream",
     "text": [
      "C:\\Users\\Shuyao\\AppData\\Local\\Temp\\ipykernel_26868\\1736011833.py:20: UserWarning: To copy construct from a tensor, it is recommended to use sourceTensor.clone().detach() or sourceTensor.clone().detach().requires_grad_(True), rather than torch.tensor(sourceTensor).\n",
      "  X_train = torch.tensor(X_train)\n",
      "C:\\Users\\Shuyao\\AppData\\Local\\Temp\\ipykernel_26868\\1736011833.py:21: UserWarning: To copy construct from a tensor, it is recommended to use sourceTensor.clone().detach() or sourceTensor.clone().detach().requires_grad_(True), rather than torch.tensor(sourceTensor).\n",
      "  X_test = torch.tensor(X_test)\n",
      "C:\\Users\\Shuyao\\AppData\\Local\\Temp\\ipykernel_26868\\1736011833.py:22: UserWarning: To copy construct from a tensor, it is recommended to use sourceTensor.clone().detach() or sourceTensor.clone().detach().requires_grad_(True), rather than torch.tensor(sourceTensor).\n",
      "  y_train = torch.reshape(torch.tensor(y_train), (-1, 1))\n",
      "C:\\Users\\Shuyao\\AppData\\Local\\Temp\\ipykernel_26868\\1736011833.py:23: UserWarning: To copy construct from a tensor, it is recommended to use sourceTensor.clone().detach() or sourceTensor.clone().detach().requires_grad_(True), rather than torch.tensor(sourceTensor).\n",
      "  y_test = torch.reshape(torch.tensor(y_test), (-1, 1))\n"
     ]
    },
    {
     "name": "stdout",
     "output_type": "stream",
     "text": [
      "Fold 4:\n"
     ]
    },
    {
     "name": "stderr",
     "output_type": "stream",
     "text": [
      "C:\\Users\\Shuyao\\AppData\\Local\\Temp\\ipykernel_26868\\1736011833.py:20: UserWarning: To copy construct from a tensor, it is recommended to use sourceTensor.clone().detach() or sourceTensor.clone().detach().requires_grad_(True), rather than torch.tensor(sourceTensor).\n",
      "  X_train = torch.tensor(X_train)\n",
      "C:\\Users\\Shuyao\\AppData\\Local\\Temp\\ipykernel_26868\\1736011833.py:21: UserWarning: To copy construct from a tensor, it is recommended to use sourceTensor.clone().detach() or sourceTensor.clone().detach().requires_grad_(True), rather than torch.tensor(sourceTensor).\n",
      "  X_test = torch.tensor(X_test)\n",
      "C:\\Users\\Shuyao\\AppData\\Local\\Temp\\ipykernel_26868\\1736011833.py:22: UserWarning: To copy construct from a tensor, it is recommended to use sourceTensor.clone().detach() or sourceTensor.clone().detach().requires_grad_(True), rather than torch.tensor(sourceTensor).\n",
      "  y_train = torch.reshape(torch.tensor(y_train), (-1, 1))\n",
      "C:\\Users\\Shuyao\\AppData\\Local\\Temp\\ipykernel_26868\\1736011833.py:23: UserWarning: To copy construct from a tensor, it is recommended to use sourceTensor.clone().detach() or sourceTensor.clone().detach().requires_grad_(True), rather than torch.tensor(sourceTensor).\n",
      "  y_test = torch.reshape(torch.tensor(y_test), (-1, 1))\n"
     ]
    },
    {
     "name": "stdout",
     "output_type": "stream",
     "text": [
      "Fold 5:\n"
     ]
    },
    {
     "name": "stderr",
     "output_type": "stream",
     "text": [
      "C:\\Users\\Shuyao\\AppData\\Local\\Temp\\ipykernel_26868\\1736011833.py:20: UserWarning: To copy construct from a tensor, it is recommended to use sourceTensor.clone().detach() or sourceTensor.clone().detach().requires_grad_(True), rather than torch.tensor(sourceTensor).\n",
      "  X_train = torch.tensor(X_train)\n",
      "C:\\Users\\Shuyao\\AppData\\Local\\Temp\\ipykernel_26868\\1736011833.py:21: UserWarning: To copy construct from a tensor, it is recommended to use sourceTensor.clone().detach() or sourceTensor.clone().detach().requires_grad_(True), rather than torch.tensor(sourceTensor).\n",
      "  X_test = torch.tensor(X_test)\n",
      "C:\\Users\\Shuyao\\AppData\\Local\\Temp\\ipykernel_26868\\1736011833.py:22: UserWarning: To copy construct from a tensor, it is recommended to use sourceTensor.clone().detach() or sourceTensor.clone().detach().requires_grad_(True), rather than torch.tensor(sourceTensor).\n",
      "  y_train = torch.reshape(torch.tensor(y_train), (-1, 1))\n",
      "C:\\Users\\Shuyao\\AppData\\Local\\Temp\\ipykernel_26868\\1736011833.py:23: UserWarning: To copy construct from a tensor, it is recommended to use sourceTensor.clone().detach() or sourceTensor.clone().detach().requires_grad_(True), rather than torch.tensor(sourceTensor).\n",
      "  y_test = torch.reshape(torch.tensor(y_test), (-1, 1))\n"
     ]
    },
    {
     "name": "stdout",
     "output_type": "stream",
     "text": [
      "split [0.8, 0.05, 0.05, 0.05, 0.05]\n",
      "mse [0.1383434, 0.09970835, 0.10221057, 0.100774094, 0.09895958, 0.14051673, 0.10190161, 0.1008584, 0.09798835, 0.100531645, 0.13706769, 0.09742572, 0.104023255, 0.094115585, 0.101980075, 0.13847578, 0.09980843, 0.09763886, 0.10400569, 0.09919609, 0.14078689, 0.10760928, 0.09483427, 0.10495425, 0.101850815]\n",
      "auc [0.8624255831491023, 0.8285668642425941, 0.8287916845306049, 0.8186949920403823, 0.8207497248199676, 0.8636973025553636, 0.8335141072127682, 0.8326409373957497, 0.8376590315602315, 0.8403735080943828, 0.8702995146532668, 0.8371505866517847, 0.8394286386195612, 0.8295511355563583, 0.834412014257979, 0.857843763514949, 0.8268755776214047, 0.8186614905850216, 0.8209417695268882, 0.8138772376078913, 0.8664693419157945, 0.8280293016342871, 0.8318898770220368, 0.835291998615713, 0.8181453937936014]\n"
     ]
    }
   ],
   "source": [
    "split = [0.2, 0.2, 0.2, 0.2, 0.2]\n",
    "run_local(split)\n",
    "\n",
    "split = [0.6, 0.1, 0.1, 0.1, 0.1]\n",
    "run_local(split)\n",
    "\n",
    "split = [0.8, 0.05, 0.05, 0.05, 0.05]\n",
    "run_local(split)"
   ],
   "metadata": {
    "collapsed": false,
    "ExecuteTime": {
     "end_time": "2023-08-28T14:58:43.890743800Z",
     "start_time": "2023-08-28T14:53:09.392258100Z"
    }
   }
  },
  {
   "cell_type": "code",
   "execution_count": 20,
   "outputs": [
    {
     "name": "stdout",
     "output_type": "stream",
     "text": [
      "Fold 1:\n"
     ]
    },
    {
     "name": "stderr",
     "output_type": "stream",
     "text": [
      "C:\\Users\\Shuyao\\AppData\\Local\\Temp\\ipykernel_26868\\1736011833.py:20: UserWarning: To copy construct from a tensor, it is recommended to use sourceTensor.clone().detach() or sourceTensor.clone().detach().requires_grad_(True), rather than torch.tensor(sourceTensor).\n",
      "  X_train = torch.tensor(X_train)\n",
      "C:\\Users\\Shuyao\\AppData\\Local\\Temp\\ipykernel_26868\\1736011833.py:21: UserWarning: To copy construct from a tensor, it is recommended to use sourceTensor.clone().detach() or sourceTensor.clone().detach().requires_grad_(True), rather than torch.tensor(sourceTensor).\n",
      "  X_test = torch.tensor(X_test)\n",
      "C:\\Users\\Shuyao\\AppData\\Local\\Temp\\ipykernel_26868\\1736011833.py:22: UserWarning: To copy construct from a tensor, it is recommended to use sourceTensor.clone().detach() or sourceTensor.clone().detach().requires_grad_(True), rather than torch.tensor(sourceTensor).\n",
      "  y_train = torch.reshape(torch.tensor(y_train), (-1, 1))\n",
      "C:\\Users\\Shuyao\\AppData\\Local\\Temp\\ipykernel_26868\\1736011833.py:23: UserWarning: To copy construct from a tensor, it is recommended to use sourceTensor.clone().detach() or sourceTensor.clone().detach().requires_grad_(True), rather than torch.tensor(sourceTensor).\n",
      "  y_test = torch.reshape(torch.tensor(y_test), (-1, 1))\n"
     ]
    },
    {
     "name": "stdout",
     "output_type": "stream",
     "text": [
      "Fold 2:\n"
     ]
    },
    {
     "name": "stderr",
     "output_type": "stream",
     "text": [
      "C:\\Users\\Shuyao\\AppData\\Local\\Temp\\ipykernel_26868\\1736011833.py:20: UserWarning: To copy construct from a tensor, it is recommended to use sourceTensor.clone().detach() or sourceTensor.clone().detach().requires_grad_(True), rather than torch.tensor(sourceTensor).\n",
      "  X_train = torch.tensor(X_train)\n",
      "C:\\Users\\Shuyao\\AppData\\Local\\Temp\\ipykernel_26868\\1736011833.py:21: UserWarning: To copy construct from a tensor, it is recommended to use sourceTensor.clone().detach() or sourceTensor.clone().detach().requires_grad_(True), rather than torch.tensor(sourceTensor).\n",
      "  X_test = torch.tensor(X_test)\n",
      "C:\\Users\\Shuyao\\AppData\\Local\\Temp\\ipykernel_26868\\1736011833.py:22: UserWarning: To copy construct from a tensor, it is recommended to use sourceTensor.clone().detach() or sourceTensor.clone().detach().requires_grad_(True), rather than torch.tensor(sourceTensor).\n",
      "  y_train = torch.reshape(torch.tensor(y_train), (-1, 1))\n",
      "C:\\Users\\Shuyao\\AppData\\Local\\Temp\\ipykernel_26868\\1736011833.py:23: UserWarning: To copy construct from a tensor, it is recommended to use sourceTensor.clone().detach() or sourceTensor.clone().detach().requires_grad_(True), rather than torch.tensor(sourceTensor).\n",
      "  y_test = torch.reshape(torch.tensor(y_test), (-1, 1))\n"
     ]
    },
    {
     "name": "stdout",
     "output_type": "stream",
     "text": [
      "Fold 3:\n"
     ]
    },
    {
     "name": "stderr",
     "output_type": "stream",
     "text": [
      "C:\\Users\\Shuyao\\AppData\\Local\\Temp\\ipykernel_26868\\1736011833.py:20: UserWarning: To copy construct from a tensor, it is recommended to use sourceTensor.clone().detach() or sourceTensor.clone().detach().requires_grad_(True), rather than torch.tensor(sourceTensor).\n",
      "  X_train = torch.tensor(X_train)\n",
      "C:\\Users\\Shuyao\\AppData\\Local\\Temp\\ipykernel_26868\\1736011833.py:21: UserWarning: To copy construct from a tensor, it is recommended to use sourceTensor.clone().detach() or sourceTensor.clone().detach().requires_grad_(True), rather than torch.tensor(sourceTensor).\n",
      "  X_test = torch.tensor(X_test)\n",
      "C:\\Users\\Shuyao\\AppData\\Local\\Temp\\ipykernel_26868\\1736011833.py:22: UserWarning: To copy construct from a tensor, it is recommended to use sourceTensor.clone().detach() or sourceTensor.clone().detach().requires_grad_(True), rather than torch.tensor(sourceTensor).\n",
      "  y_train = torch.reshape(torch.tensor(y_train), (-1, 1))\n",
      "C:\\Users\\Shuyao\\AppData\\Local\\Temp\\ipykernel_26868\\1736011833.py:23: UserWarning: To copy construct from a tensor, it is recommended to use sourceTensor.clone().detach() or sourceTensor.clone().detach().requires_grad_(True), rather than torch.tensor(sourceTensor).\n",
      "  y_test = torch.reshape(torch.tensor(y_test), (-1, 1))\n"
     ]
    },
    {
     "name": "stdout",
     "output_type": "stream",
     "text": [
      "Fold 4:\n"
     ]
    },
    {
     "name": "stderr",
     "output_type": "stream",
     "text": [
      "C:\\Users\\Shuyao\\AppData\\Local\\Temp\\ipykernel_26868\\1736011833.py:20: UserWarning: To copy construct from a tensor, it is recommended to use sourceTensor.clone().detach() or sourceTensor.clone().detach().requires_grad_(True), rather than torch.tensor(sourceTensor).\n",
      "  X_train = torch.tensor(X_train)\n",
      "C:\\Users\\Shuyao\\AppData\\Local\\Temp\\ipykernel_26868\\1736011833.py:21: UserWarning: To copy construct from a tensor, it is recommended to use sourceTensor.clone().detach() or sourceTensor.clone().detach().requires_grad_(True), rather than torch.tensor(sourceTensor).\n",
      "  X_test = torch.tensor(X_test)\n",
      "C:\\Users\\Shuyao\\AppData\\Local\\Temp\\ipykernel_26868\\1736011833.py:22: UserWarning: To copy construct from a tensor, it is recommended to use sourceTensor.clone().detach() or sourceTensor.clone().detach().requires_grad_(True), rather than torch.tensor(sourceTensor).\n",
      "  y_train = torch.reshape(torch.tensor(y_train), (-1, 1))\n",
      "C:\\Users\\Shuyao\\AppData\\Local\\Temp\\ipykernel_26868\\1736011833.py:23: UserWarning: To copy construct from a tensor, it is recommended to use sourceTensor.clone().detach() or sourceTensor.clone().detach().requires_grad_(True), rather than torch.tensor(sourceTensor).\n",
      "  y_test = torch.reshape(torch.tensor(y_test), (-1, 1))\n"
     ]
    },
    {
     "name": "stdout",
     "output_type": "stream",
     "text": [
      "Fold 5:\n"
     ]
    },
    {
     "name": "stderr",
     "output_type": "stream",
     "text": [
      "C:\\Users\\Shuyao\\AppData\\Local\\Temp\\ipykernel_26868\\1736011833.py:20: UserWarning: To copy construct from a tensor, it is recommended to use sourceTensor.clone().detach() or sourceTensor.clone().detach().requires_grad_(True), rather than torch.tensor(sourceTensor).\n",
      "  X_train = torch.tensor(X_train)\n",
      "C:\\Users\\Shuyao\\AppData\\Local\\Temp\\ipykernel_26868\\1736011833.py:21: UserWarning: To copy construct from a tensor, it is recommended to use sourceTensor.clone().detach() or sourceTensor.clone().detach().requires_grad_(True), rather than torch.tensor(sourceTensor).\n",
      "  X_test = torch.tensor(X_test)\n",
      "C:\\Users\\Shuyao\\AppData\\Local\\Temp\\ipykernel_26868\\1736011833.py:22: UserWarning: To copy construct from a tensor, it is recommended to use sourceTensor.clone().detach() or sourceTensor.clone().detach().requires_grad_(True), rather than torch.tensor(sourceTensor).\n",
      "  y_train = torch.reshape(torch.tensor(y_train), (-1, 1))\n",
      "C:\\Users\\Shuyao\\AppData\\Local\\Temp\\ipykernel_26868\\1736011833.py:23: UserWarning: To copy construct from a tensor, it is recommended to use sourceTensor.clone().detach() or sourceTensor.clone().detach().requires_grad_(True), rather than torch.tensor(sourceTensor).\n",
      "  y_test = torch.reshape(torch.tensor(y_test), (-1, 1))\n"
     ]
    },
    {
     "name": "stdout",
     "output_type": "stream",
     "text": [
      "split [0.6, 0.1, 0.1, 0.1, 0.1]\n",
      "mse [0.1362956, 0.12340555, 0.119984604, 0.11920269, 0.11671416, 0.1392099, 0.12001645, 0.12573688, 0.117068715, 0.11799401, 0.13545832, 0.11516599, 0.11976686, 0.11487291, 0.118996225, 0.13739894, 0.1182458, 0.120992206, 0.11802307, 0.118222006, 0.13946009, 0.12070212, 0.121659584, 0.11995363, 0.12274225]\n",
      "auc [0.8607128799356022, 0.8414456833115713, 0.8412881043231668, 0.8417254844026897, 0.8382552296671464, 0.8635925367862716, 0.8486133567670393, 0.8456700363753948, 0.8463194220200525, 0.8517110420947096, 0.8691700023026911, 0.8524136346043268, 0.8544302309060354, 0.8546852817946204, 0.8540449732963536, 0.8568885074329715, 0.8398171297956217, 0.8406799219133805, 0.8380507563026707, 0.8433698126535776, 0.8654039664190123, 0.8426288449264409, 0.8449925195940315, 0.8482339516452662, 0.8475992551217064]\n"
     ]
    }
   ],
   "source": [
    "split = [0.6, 0.1, 0.1, 0.1, 0.1]\n",
    "run_local(split)"
   ],
   "metadata": {
    "collapsed": false,
    "ExecuteTime": {
     "end_time": "2023-08-28T15:00:38.040465Z",
     "start_time": "2023-08-28T14:58:43.892739400Z"
    }
   }
  },
  {
   "cell_type": "code",
   "execution_count": 21,
   "outputs": [
    {
     "name": "stdout",
     "output_type": "stream",
     "text": [
      "Fold 1:\n"
     ]
    },
    {
     "name": "stderr",
     "output_type": "stream",
     "text": [
      "C:\\Users\\Shuyao\\AppData\\Local\\Temp\\ipykernel_26868\\1736011833.py:20: UserWarning: To copy construct from a tensor, it is recommended to use sourceTensor.clone().detach() or sourceTensor.clone().detach().requires_grad_(True), rather than torch.tensor(sourceTensor).\n",
      "  X_train = torch.tensor(X_train)\n",
      "C:\\Users\\Shuyao\\AppData\\Local\\Temp\\ipykernel_26868\\1736011833.py:21: UserWarning: To copy construct from a tensor, it is recommended to use sourceTensor.clone().detach() or sourceTensor.clone().detach().requires_grad_(True), rather than torch.tensor(sourceTensor).\n",
      "  X_test = torch.tensor(X_test)\n",
      "C:\\Users\\Shuyao\\AppData\\Local\\Temp\\ipykernel_26868\\1736011833.py:22: UserWarning: To copy construct from a tensor, it is recommended to use sourceTensor.clone().detach() or sourceTensor.clone().detach().requires_grad_(True), rather than torch.tensor(sourceTensor).\n",
      "  y_train = torch.reshape(torch.tensor(y_train), (-1, 1))\n",
      "C:\\Users\\Shuyao\\AppData\\Local\\Temp\\ipykernel_26868\\1736011833.py:23: UserWarning: To copy construct from a tensor, it is recommended to use sourceTensor.clone().detach() or sourceTensor.clone().detach().requires_grad_(True), rather than torch.tensor(sourceTensor).\n",
      "  y_test = torch.reshape(torch.tensor(y_test), (-1, 1))\n"
     ]
    },
    {
     "name": "stdout",
     "output_type": "stream",
     "text": [
      "Fold 2:\n"
     ]
    },
    {
     "name": "stderr",
     "output_type": "stream",
     "text": [
      "C:\\Users\\Shuyao\\AppData\\Local\\Temp\\ipykernel_26868\\1736011833.py:20: UserWarning: To copy construct from a tensor, it is recommended to use sourceTensor.clone().detach() or sourceTensor.clone().detach().requires_grad_(True), rather than torch.tensor(sourceTensor).\n",
      "  X_train = torch.tensor(X_train)\n",
      "C:\\Users\\Shuyao\\AppData\\Local\\Temp\\ipykernel_26868\\1736011833.py:21: UserWarning: To copy construct from a tensor, it is recommended to use sourceTensor.clone().detach() or sourceTensor.clone().detach().requires_grad_(True), rather than torch.tensor(sourceTensor).\n",
      "  X_test = torch.tensor(X_test)\n",
      "C:\\Users\\Shuyao\\AppData\\Local\\Temp\\ipykernel_26868\\1736011833.py:22: UserWarning: To copy construct from a tensor, it is recommended to use sourceTensor.clone().detach() or sourceTensor.clone().detach().requires_grad_(True), rather than torch.tensor(sourceTensor).\n",
      "  y_train = torch.reshape(torch.tensor(y_train), (-1, 1))\n",
      "C:\\Users\\Shuyao\\AppData\\Local\\Temp\\ipykernel_26868\\1736011833.py:23: UserWarning: To copy construct from a tensor, it is recommended to use sourceTensor.clone().detach() or sourceTensor.clone().detach().requires_grad_(True), rather than torch.tensor(sourceTensor).\n",
      "  y_test = torch.reshape(torch.tensor(y_test), (-1, 1))\n"
     ]
    },
    {
     "name": "stdout",
     "output_type": "stream",
     "text": [
      "Fold 3:\n"
     ]
    },
    {
     "name": "stderr",
     "output_type": "stream",
     "text": [
      "C:\\Users\\Shuyao\\AppData\\Local\\Temp\\ipykernel_26868\\1736011833.py:20: UserWarning: To copy construct from a tensor, it is recommended to use sourceTensor.clone().detach() or sourceTensor.clone().detach().requires_grad_(True), rather than torch.tensor(sourceTensor).\n",
      "  X_train = torch.tensor(X_train)\n",
      "C:\\Users\\Shuyao\\AppData\\Local\\Temp\\ipykernel_26868\\1736011833.py:21: UserWarning: To copy construct from a tensor, it is recommended to use sourceTensor.clone().detach() or sourceTensor.clone().detach().requires_grad_(True), rather than torch.tensor(sourceTensor).\n",
      "  X_test = torch.tensor(X_test)\n",
      "C:\\Users\\Shuyao\\AppData\\Local\\Temp\\ipykernel_26868\\1736011833.py:22: UserWarning: To copy construct from a tensor, it is recommended to use sourceTensor.clone().detach() or sourceTensor.clone().detach().requires_grad_(True), rather than torch.tensor(sourceTensor).\n",
      "  y_train = torch.reshape(torch.tensor(y_train), (-1, 1))\n",
      "C:\\Users\\Shuyao\\AppData\\Local\\Temp\\ipykernel_26868\\1736011833.py:23: UserWarning: To copy construct from a tensor, it is recommended to use sourceTensor.clone().detach() or sourceTensor.clone().detach().requires_grad_(True), rather than torch.tensor(sourceTensor).\n",
      "  y_test = torch.reshape(torch.tensor(y_test), (-1, 1))\n"
     ]
    },
    {
     "name": "stdout",
     "output_type": "stream",
     "text": [
      "Fold 4:\n"
     ]
    },
    {
     "name": "stderr",
     "output_type": "stream",
     "text": [
      "C:\\Users\\Shuyao\\AppData\\Local\\Temp\\ipykernel_26868\\1736011833.py:20: UserWarning: To copy construct from a tensor, it is recommended to use sourceTensor.clone().detach() or sourceTensor.clone().detach().requires_grad_(True), rather than torch.tensor(sourceTensor).\n",
      "  X_train = torch.tensor(X_train)\n",
      "C:\\Users\\Shuyao\\AppData\\Local\\Temp\\ipykernel_26868\\1736011833.py:21: UserWarning: To copy construct from a tensor, it is recommended to use sourceTensor.clone().detach() or sourceTensor.clone().detach().requires_grad_(True), rather than torch.tensor(sourceTensor).\n",
      "  X_test = torch.tensor(X_test)\n",
      "C:\\Users\\Shuyao\\AppData\\Local\\Temp\\ipykernel_26868\\1736011833.py:22: UserWarning: To copy construct from a tensor, it is recommended to use sourceTensor.clone().detach() or sourceTensor.clone().detach().requires_grad_(True), rather than torch.tensor(sourceTensor).\n",
      "  y_train = torch.reshape(torch.tensor(y_train), (-1, 1))\n",
      "C:\\Users\\Shuyao\\AppData\\Local\\Temp\\ipykernel_26868\\1736011833.py:23: UserWarning: To copy construct from a tensor, it is recommended to use sourceTensor.clone().detach() or sourceTensor.clone().detach().requires_grad_(True), rather than torch.tensor(sourceTensor).\n",
      "  y_test = torch.reshape(torch.tensor(y_test), (-1, 1))\n"
     ]
    },
    {
     "name": "stdout",
     "output_type": "stream",
     "text": [
      "Fold 5:\n"
     ]
    },
    {
     "name": "stderr",
     "output_type": "stream",
     "text": [
      "C:\\Users\\Shuyao\\AppData\\Local\\Temp\\ipykernel_26868\\1736011833.py:20: UserWarning: To copy construct from a tensor, it is recommended to use sourceTensor.clone().detach() or sourceTensor.clone().detach().requires_grad_(True), rather than torch.tensor(sourceTensor).\n",
      "  X_train = torch.tensor(X_train)\n",
      "C:\\Users\\Shuyao\\AppData\\Local\\Temp\\ipykernel_26868\\1736011833.py:21: UserWarning: To copy construct from a tensor, it is recommended to use sourceTensor.clone().detach() or sourceTensor.clone().detach().requires_grad_(True), rather than torch.tensor(sourceTensor).\n",
      "  X_test = torch.tensor(X_test)\n",
      "C:\\Users\\Shuyao\\AppData\\Local\\Temp\\ipykernel_26868\\1736011833.py:22: UserWarning: To copy construct from a tensor, it is recommended to use sourceTensor.clone().detach() or sourceTensor.clone().detach().requires_grad_(True), rather than torch.tensor(sourceTensor).\n",
      "  y_train = torch.reshape(torch.tensor(y_train), (-1, 1))\n",
      "C:\\Users\\Shuyao\\AppData\\Local\\Temp\\ipykernel_26868\\1736011833.py:23: UserWarning: To copy construct from a tensor, it is recommended to use sourceTensor.clone().detach() or sourceTensor.clone().detach().requires_grad_(True), rather than torch.tensor(sourceTensor).\n",
      "  y_test = torch.reshape(torch.tensor(y_test), (-1, 1))\n"
     ]
    },
    {
     "name": "stdout",
     "output_type": "stream",
     "text": [
      "split [0.1, 0.1, 0.1, 0.1, 0.1, 0.1, 0.1, 0.1, 0.1, 0.1]\n",
      "mse [0.11716657, 0.11849374, 0.12171871, 0.11591146, 0.117737584, 0.11939775, 0.12340555, 0.119984604, 0.11920269, 0.11671416, 0.118295915, 0.1186676, 0.12932354, 0.11991461, 0.1163183, 0.1244088, 0.12001645, 0.12573688, 0.117068715, 0.11799401, 0.115395054, 0.11810924, 0.11838953, 0.11965571, 0.12159849, 0.11144612, 0.11516599, 0.11976686, 0.11487291, 0.118996225, 0.11970679, 0.11644799, 0.12187697, 0.12092047, 0.11984751, 0.11761282, 0.1182458, 0.120992206, 0.11802307, 0.118222006, 0.121661976, 0.12049867, 0.117855504, 0.12015608, 0.12189518, 0.12475236, 0.12070212, 0.121659584, 0.11995363, 0.12274225]\n",
      "auc [0.8452433654241962, 0.8401270166068202, 0.8375615455555174, 0.8470091618407619, 0.8411190038514876, 0.838427054693603, 0.8414456833115713, 0.8412881043231668, 0.8417254844026897, 0.8382552296671464, 0.845202772671821, 0.8448608341621389, 0.846360362711724, 0.8420971415005976, 0.8486227902292848, 0.8473886190043733, 0.8486133567670393, 0.8456700363753948, 0.8463194220200525, 0.8517110420947096, 0.8565794657845475, 0.8531930131805688, 0.8529208858546614, 0.8542534804264567, 0.8496860723704224, 0.8546786275960393, 0.8524136346043268, 0.8544302309060354, 0.8546852817946204, 0.8540449732963536, 0.8406006594515675, 0.8388764737557785, 0.8393062975709502, 0.8426164540426038, 0.8436304666089732, 0.8369591114195222, 0.8398171297956217, 0.8406799219133805, 0.8380507563026707, 0.8433698126535776, 0.847278659931703, 0.8471243662588483, 0.8497063734662272, 0.8442224230457969, 0.8485011439965899, 0.844939606689652, 0.8426288449264409, 0.8449925195940315, 0.8482339516452662, 0.8475992551217064]\n"
     ]
    }
   ],
   "source": [
    "split = [0.1, 0.1, 0.1, 0.1, 0.1,\n",
    "        0.1, 0.1, 0.1, 0.1, 0.1]\n",
    "run_local(split)"
   ],
   "metadata": {
    "collapsed": false,
    "ExecuteTime": {
     "end_time": "2023-08-28T15:02:39.270606700Z",
     "start_time": "2023-08-28T15:00:38.042460400Z"
    }
   }
  },
  {
   "cell_type": "code",
   "execution_count": 22,
   "outputs": [
    {
     "name": "stdout",
     "output_type": "stream",
     "text": [
      "Fold 1:\n"
     ]
    },
    {
     "name": "stderr",
     "output_type": "stream",
     "text": [
      "C:\\Users\\Shuyao\\AppData\\Local\\Temp\\ipykernel_26868\\1736011833.py:20: UserWarning: To copy construct from a tensor, it is recommended to use sourceTensor.clone().detach() or sourceTensor.clone().detach().requires_grad_(True), rather than torch.tensor(sourceTensor).\n",
      "  X_train = torch.tensor(X_train)\n",
      "C:\\Users\\Shuyao\\AppData\\Local\\Temp\\ipykernel_26868\\1736011833.py:21: UserWarning: To copy construct from a tensor, it is recommended to use sourceTensor.clone().detach() or sourceTensor.clone().detach().requires_grad_(True), rather than torch.tensor(sourceTensor).\n",
      "  X_test = torch.tensor(X_test)\n",
      "C:\\Users\\Shuyao\\AppData\\Local\\Temp\\ipykernel_26868\\1736011833.py:22: UserWarning: To copy construct from a tensor, it is recommended to use sourceTensor.clone().detach() or sourceTensor.clone().detach().requires_grad_(True), rather than torch.tensor(sourceTensor).\n",
      "  y_train = torch.reshape(torch.tensor(y_train), (-1, 1))\n",
      "C:\\Users\\Shuyao\\AppData\\Local\\Temp\\ipykernel_26868\\1736011833.py:23: UserWarning: To copy construct from a tensor, it is recommended to use sourceTensor.clone().detach() or sourceTensor.clone().detach().requires_grad_(True), rather than torch.tensor(sourceTensor).\n",
      "  y_test = torch.reshape(torch.tensor(y_test), (-1, 1))\n"
     ]
    },
    {
     "name": "stdout",
     "output_type": "stream",
     "text": [
      "Fold 2:\n"
     ]
    },
    {
     "name": "stderr",
     "output_type": "stream",
     "text": [
      "C:\\Users\\Shuyao\\AppData\\Local\\Temp\\ipykernel_26868\\1736011833.py:20: UserWarning: To copy construct from a tensor, it is recommended to use sourceTensor.clone().detach() or sourceTensor.clone().detach().requires_grad_(True), rather than torch.tensor(sourceTensor).\n",
      "  X_train = torch.tensor(X_train)\n",
      "C:\\Users\\Shuyao\\AppData\\Local\\Temp\\ipykernel_26868\\1736011833.py:21: UserWarning: To copy construct from a tensor, it is recommended to use sourceTensor.clone().detach() or sourceTensor.clone().detach().requires_grad_(True), rather than torch.tensor(sourceTensor).\n",
      "  X_test = torch.tensor(X_test)\n",
      "C:\\Users\\Shuyao\\AppData\\Local\\Temp\\ipykernel_26868\\1736011833.py:22: UserWarning: To copy construct from a tensor, it is recommended to use sourceTensor.clone().detach() or sourceTensor.clone().detach().requires_grad_(True), rather than torch.tensor(sourceTensor).\n",
      "  y_train = torch.reshape(torch.tensor(y_train), (-1, 1))\n",
      "C:\\Users\\Shuyao\\AppData\\Local\\Temp\\ipykernel_26868\\1736011833.py:23: UserWarning: To copy construct from a tensor, it is recommended to use sourceTensor.clone().detach() or sourceTensor.clone().detach().requires_grad_(True), rather than torch.tensor(sourceTensor).\n",
      "  y_test = torch.reshape(torch.tensor(y_test), (-1, 1))\n"
     ]
    },
    {
     "name": "stdout",
     "output_type": "stream",
     "text": [
      "Fold 3:\n"
     ]
    },
    {
     "name": "stderr",
     "output_type": "stream",
     "text": [
      "C:\\Users\\Shuyao\\AppData\\Local\\Temp\\ipykernel_26868\\1736011833.py:20: UserWarning: To copy construct from a tensor, it is recommended to use sourceTensor.clone().detach() or sourceTensor.clone().detach().requires_grad_(True), rather than torch.tensor(sourceTensor).\n",
      "  X_train = torch.tensor(X_train)\n",
      "C:\\Users\\Shuyao\\AppData\\Local\\Temp\\ipykernel_26868\\1736011833.py:21: UserWarning: To copy construct from a tensor, it is recommended to use sourceTensor.clone().detach() or sourceTensor.clone().detach().requires_grad_(True), rather than torch.tensor(sourceTensor).\n",
      "  X_test = torch.tensor(X_test)\n",
      "C:\\Users\\Shuyao\\AppData\\Local\\Temp\\ipykernel_26868\\1736011833.py:22: UserWarning: To copy construct from a tensor, it is recommended to use sourceTensor.clone().detach() or sourceTensor.clone().detach().requires_grad_(True), rather than torch.tensor(sourceTensor).\n",
      "  y_train = torch.reshape(torch.tensor(y_train), (-1, 1))\n",
      "C:\\Users\\Shuyao\\AppData\\Local\\Temp\\ipykernel_26868\\1736011833.py:23: UserWarning: To copy construct from a tensor, it is recommended to use sourceTensor.clone().detach() or sourceTensor.clone().detach().requires_grad_(True), rather than torch.tensor(sourceTensor).\n",
      "  y_test = torch.reshape(torch.tensor(y_test), (-1, 1))\n"
     ]
    },
    {
     "name": "stdout",
     "output_type": "stream",
     "text": [
      "Fold 4:\n"
     ]
    },
    {
     "name": "stderr",
     "output_type": "stream",
     "text": [
      "C:\\Users\\Shuyao\\AppData\\Local\\Temp\\ipykernel_26868\\1736011833.py:20: UserWarning: To copy construct from a tensor, it is recommended to use sourceTensor.clone().detach() or sourceTensor.clone().detach().requires_grad_(True), rather than torch.tensor(sourceTensor).\n",
      "  X_train = torch.tensor(X_train)\n",
      "C:\\Users\\Shuyao\\AppData\\Local\\Temp\\ipykernel_26868\\1736011833.py:21: UserWarning: To copy construct from a tensor, it is recommended to use sourceTensor.clone().detach() or sourceTensor.clone().detach().requires_grad_(True), rather than torch.tensor(sourceTensor).\n",
      "  X_test = torch.tensor(X_test)\n",
      "C:\\Users\\Shuyao\\AppData\\Local\\Temp\\ipykernel_26868\\1736011833.py:22: UserWarning: To copy construct from a tensor, it is recommended to use sourceTensor.clone().detach() or sourceTensor.clone().detach().requires_grad_(True), rather than torch.tensor(sourceTensor).\n",
      "  y_train = torch.reshape(torch.tensor(y_train), (-1, 1))\n",
      "C:\\Users\\Shuyao\\AppData\\Local\\Temp\\ipykernel_26868\\1736011833.py:23: UserWarning: To copy construct from a tensor, it is recommended to use sourceTensor.clone().detach() or sourceTensor.clone().detach().requires_grad_(True), rather than torch.tensor(sourceTensor).\n",
      "  y_test = torch.reshape(torch.tensor(y_test), (-1, 1))\n"
     ]
    },
    {
     "name": "stdout",
     "output_type": "stream",
     "text": [
      "Fold 5:\n"
     ]
    },
    {
     "name": "stderr",
     "output_type": "stream",
     "text": [
      "C:\\Users\\Shuyao\\AppData\\Local\\Temp\\ipykernel_26868\\1736011833.py:20: UserWarning: To copy construct from a tensor, it is recommended to use sourceTensor.clone().detach() or sourceTensor.clone().detach().requires_grad_(True), rather than torch.tensor(sourceTensor).\n",
      "  X_train = torch.tensor(X_train)\n",
      "C:\\Users\\Shuyao\\AppData\\Local\\Temp\\ipykernel_26868\\1736011833.py:21: UserWarning: To copy construct from a tensor, it is recommended to use sourceTensor.clone().detach() or sourceTensor.clone().detach().requires_grad_(True), rather than torch.tensor(sourceTensor).\n",
      "  X_test = torch.tensor(X_test)\n",
      "C:\\Users\\Shuyao\\AppData\\Local\\Temp\\ipykernel_26868\\1736011833.py:22: UserWarning: To copy construct from a tensor, it is recommended to use sourceTensor.clone().detach() or sourceTensor.clone().detach().requires_grad_(True), rather than torch.tensor(sourceTensor).\n",
      "  y_train = torch.reshape(torch.tensor(y_train), (-1, 1))\n",
      "C:\\Users\\Shuyao\\AppData\\Local\\Temp\\ipykernel_26868\\1736011833.py:23: UserWarning: To copy construct from a tensor, it is recommended to use sourceTensor.clone().detach() or sourceTensor.clone().detach().requires_grad_(True), rather than torch.tensor(sourceTensor).\n",
      "  y_test = torch.reshape(torch.tensor(y_test), (-1, 1))\n"
     ]
    },
    {
     "name": "stdout",
     "output_type": "stream",
     "text": [
      "split [0.6, 0.05, 0.05, 0.05, 0.05, 0.04, 0.04, 0.04, 0.04, 0.04]\n",
      "mse [0.1362956, 0.1068783, 0.10500127, 0.10529941, 0.10581757, 0.0974041, 0.09970835, 0.10221057, 0.100774094, 0.09895958, 0.1392099, 0.10069682, 0.10447811, 0.103195444, 0.11192394, 0.106811956, 0.10190161, 0.1008584, 0.09798835, 0.100531645, 0.13545832, 0.10005179, 0.09445961, 0.096184894, 0.10498802, 0.10624178, 0.09742572, 0.104023255, 0.094115585, 0.101980075, 0.13739894, 0.09980704, 0.098227054, 0.10387419, 0.10287014, 0.106215395, 0.09980843, 0.09763886, 0.10400569, 0.09919609, 0.13946009, 0.10271255, 0.10328829, 0.10438525, 0.1106437, 0.103606135, 0.10760928, 0.09483427, 0.10495425, 0.101850815]\n",
      "auc [0.8607128799356022, 0.8256285298565973, 0.82859201740353, 0.8338038057720815, 0.8283014783612298, 0.8259942434609439, 0.8285668642425941, 0.8287916845306049, 0.8186949920403823, 0.8207497248199676, 0.8635925367862716, 0.8269992370386767, 0.8299613976311231, 0.8364861110306926, 0.8221661420658035, 0.8311283498701006, 0.8335141072127682, 0.8326409373957497, 0.8376590315602315, 0.8403735080943828, 0.8691700023026911, 0.8318493282778052, 0.8363709408386517, 0.8386588627555954, 0.8300888429043483, 0.8345106068548935, 0.8371505866517847, 0.8394286386195612, 0.8295511355563583, 0.834412014257979, 0.8568885074329715, 0.8248470981859514, 0.8177483955765168, 0.8174657658408009, 0.8212267954867253, 0.8213113759626651, 0.8268755776214047, 0.8186614905850216, 0.8209417695268882, 0.8138772376078913, 0.8654039664190123, 0.8221483262730831, 0.8355747619698743, 0.8300940540237189, 0.8150795631033151, 0.8270633917082629, 0.8280293016342871, 0.8318898770220368, 0.835291998615713, 0.8181453937936014]\n"
     ]
    }
   ],
   "source": [
    "split = [0.6, 0.05, 0.05, 0.05, 0.05, 0.04, 0.04, 0.04, 0.04, 0.04]\n",
    "run_local(split)"
   ],
   "metadata": {
    "collapsed": false,
    "ExecuteTime": {
     "end_time": "2023-08-28T15:04:20.363782100Z",
     "start_time": "2023-08-28T15:02:39.271601500Z"
    }
   }
  },
  {
   "cell_type": "code",
   "execution_count": 23,
   "outputs": [
    {
     "name": "stdout",
     "output_type": "stream",
     "text": [
      "Fold 1:\n"
     ]
    },
    {
     "name": "stderr",
     "output_type": "stream",
     "text": [
      "C:\\Users\\Shuyao\\AppData\\Local\\Temp\\ipykernel_26868\\1736011833.py:20: UserWarning: To copy construct from a tensor, it is recommended to use sourceTensor.clone().detach() or sourceTensor.clone().detach().requires_grad_(True), rather than torch.tensor(sourceTensor).\n",
      "  X_train = torch.tensor(X_train)\n",
      "C:\\Users\\Shuyao\\AppData\\Local\\Temp\\ipykernel_26868\\1736011833.py:21: UserWarning: To copy construct from a tensor, it is recommended to use sourceTensor.clone().detach() or sourceTensor.clone().detach().requires_grad_(True), rather than torch.tensor(sourceTensor).\n",
      "  X_test = torch.tensor(X_test)\n",
      "C:\\Users\\Shuyao\\AppData\\Local\\Temp\\ipykernel_26868\\1736011833.py:22: UserWarning: To copy construct from a tensor, it is recommended to use sourceTensor.clone().detach() or sourceTensor.clone().detach().requires_grad_(True), rather than torch.tensor(sourceTensor).\n",
      "  y_train = torch.reshape(torch.tensor(y_train), (-1, 1))\n",
      "C:\\Users\\Shuyao\\AppData\\Local\\Temp\\ipykernel_26868\\1736011833.py:23: UserWarning: To copy construct from a tensor, it is recommended to use sourceTensor.clone().detach() or sourceTensor.clone().detach().requires_grad_(True), rather than torch.tensor(sourceTensor).\n",
      "  y_test = torch.reshape(torch.tensor(y_test), (-1, 1))\n"
     ]
    },
    {
     "name": "stdout",
     "output_type": "stream",
     "text": [
      "Fold 2:\n"
     ]
    },
    {
     "name": "stderr",
     "output_type": "stream",
     "text": [
      "C:\\Users\\Shuyao\\AppData\\Local\\Temp\\ipykernel_26868\\1736011833.py:20: UserWarning: To copy construct from a tensor, it is recommended to use sourceTensor.clone().detach() or sourceTensor.clone().detach().requires_grad_(True), rather than torch.tensor(sourceTensor).\n",
      "  X_train = torch.tensor(X_train)\n",
      "C:\\Users\\Shuyao\\AppData\\Local\\Temp\\ipykernel_26868\\1736011833.py:21: UserWarning: To copy construct from a tensor, it is recommended to use sourceTensor.clone().detach() or sourceTensor.clone().detach().requires_grad_(True), rather than torch.tensor(sourceTensor).\n",
      "  X_test = torch.tensor(X_test)\n",
      "C:\\Users\\Shuyao\\AppData\\Local\\Temp\\ipykernel_26868\\1736011833.py:22: UserWarning: To copy construct from a tensor, it is recommended to use sourceTensor.clone().detach() or sourceTensor.clone().detach().requires_grad_(True), rather than torch.tensor(sourceTensor).\n",
      "  y_train = torch.reshape(torch.tensor(y_train), (-1, 1))\n",
      "C:\\Users\\Shuyao\\AppData\\Local\\Temp\\ipykernel_26868\\1736011833.py:23: UserWarning: To copy construct from a tensor, it is recommended to use sourceTensor.clone().detach() or sourceTensor.clone().detach().requires_grad_(True), rather than torch.tensor(sourceTensor).\n",
      "  y_test = torch.reshape(torch.tensor(y_test), (-1, 1))\n"
     ]
    },
    {
     "name": "stdout",
     "output_type": "stream",
     "text": [
      "Fold 3:\n"
     ]
    },
    {
     "name": "stderr",
     "output_type": "stream",
     "text": [
      "C:\\Users\\Shuyao\\AppData\\Local\\Temp\\ipykernel_26868\\1736011833.py:20: UserWarning: To copy construct from a tensor, it is recommended to use sourceTensor.clone().detach() or sourceTensor.clone().detach().requires_grad_(True), rather than torch.tensor(sourceTensor).\n",
      "  X_train = torch.tensor(X_train)\n",
      "C:\\Users\\Shuyao\\AppData\\Local\\Temp\\ipykernel_26868\\1736011833.py:21: UserWarning: To copy construct from a tensor, it is recommended to use sourceTensor.clone().detach() or sourceTensor.clone().detach().requires_grad_(True), rather than torch.tensor(sourceTensor).\n",
      "  X_test = torch.tensor(X_test)\n",
      "C:\\Users\\Shuyao\\AppData\\Local\\Temp\\ipykernel_26868\\1736011833.py:22: UserWarning: To copy construct from a tensor, it is recommended to use sourceTensor.clone().detach() or sourceTensor.clone().detach().requires_grad_(True), rather than torch.tensor(sourceTensor).\n",
      "  y_train = torch.reshape(torch.tensor(y_train), (-1, 1))\n",
      "C:\\Users\\Shuyao\\AppData\\Local\\Temp\\ipykernel_26868\\1736011833.py:23: UserWarning: To copy construct from a tensor, it is recommended to use sourceTensor.clone().detach() or sourceTensor.clone().detach().requires_grad_(True), rather than torch.tensor(sourceTensor).\n",
      "  y_test = torch.reshape(torch.tensor(y_test), (-1, 1))\n"
     ]
    },
    {
     "name": "stdout",
     "output_type": "stream",
     "text": [
      "Fold 4:\n"
     ]
    },
    {
     "name": "stderr",
     "output_type": "stream",
     "text": [
      "C:\\Users\\Shuyao\\AppData\\Local\\Temp\\ipykernel_26868\\1736011833.py:20: UserWarning: To copy construct from a tensor, it is recommended to use sourceTensor.clone().detach() or sourceTensor.clone().detach().requires_grad_(True), rather than torch.tensor(sourceTensor).\n",
      "  X_train = torch.tensor(X_train)\n",
      "C:\\Users\\Shuyao\\AppData\\Local\\Temp\\ipykernel_26868\\1736011833.py:21: UserWarning: To copy construct from a tensor, it is recommended to use sourceTensor.clone().detach() or sourceTensor.clone().detach().requires_grad_(True), rather than torch.tensor(sourceTensor).\n",
      "  X_test = torch.tensor(X_test)\n",
      "C:\\Users\\Shuyao\\AppData\\Local\\Temp\\ipykernel_26868\\1736011833.py:22: UserWarning: To copy construct from a tensor, it is recommended to use sourceTensor.clone().detach() or sourceTensor.clone().detach().requires_grad_(True), rather than torch.tensor(sourceTensor).\n",
      "  y_train = torch.reshape(torch.tensor(y_train), (-1, 1))\n",
      "C:\\Users\\Shuyao\\AppData\\Local\\Temp\\ipykernel_26868\\1736011833.py:23: UserWarning: To copy construct from a tensor, it is recommended to use sourceTensor.clone().detach() or sourceTensor.clone().detach().requires_grad_(True), rather than torch.tensor(sourceTensor).\n",
      "  y_test = torch.reshape(torch.tensor(y_test), (-1, 1))\n"
     ]
    },
    {
     "name": "stdout",
     "output_type": "stream",
     "text": [
      "Fold 5:\n"
     ]
    },
    {
     "name": "stderr",
     "output_type": "stream",
     "text": [
      "C:\\Users\\Shuyao\\AppData\\Local\\Temp\\ipykernel_26868\\1736011833.py:20: UserWarning: To copy construct from a tensor, it is recommended to use sourceTensor.clone().detach() or sourceTensor.clone().detach().requires_grad_(True), rather than torch.tensor(sourceTensor).\n",
      "  X_train = torch.tensor(X_train)\n",
      "C:\\Users\\Shuyao\\AppData\\Local\\Temp\\ipykernel_26868\\1736011833.py:21: UserWarning: To copy construct from a tensor, it is recommended to use sourceTensor.clone().detach() or sourceTensor.clone().detach().requires_grad_(True), rather than torch.tensor(sourceTensor).\n",
      "  X_test = torch.tensor(X_test)\n",
      "C:\\Users\\Shuyao\\AppData\\Local\\Temp\\ipykernel_26868\\1736011833.py:22: UserWarning: To copy construct from a tensor, it is recommended to use sourceTensor.clone().detach() or sourceTensor.clone().detach().requires_grad_(True), rather than torch.tensor(sourceTensor).\n",
      "  y_train = torch.reshape(torch.tensor(y_train), (-1, 1))\n",
      "C:\\Users\\Shuyao\\AppData\\Local\\Temp\\ipykernel_26868\\1736011833.py:23: UserWarning: To copy construct from a tensor, it is recommended to use sourceTensor.clone().detach() or sourceTensor.clone().detach().requires_grad_(True), rather than torch.tensor(sourceTensor).\n",
      "  y_test = torch.reshape(torch.tensor(y_test), (-1, 1))\n"
     ]
    },
    {
     "name": "stdout",
     "output_type": "stream",
     "text": [
      "split [0.8, 0.03, 0.03, 0.02, 0.02, 0.02, 0.02, 0.02, 0.02, 0.02]\n",
      "mse [0.1383434, 0.08589134, 0.08536178, 0.08539521, 0.089931004, 0.089007616, 0.08644354, 0.08536266, 0.084270865, 0.08526722, 0.14051673, 0.09406823, 0.085136175, 0.089886636, 0.086324245, 0.080077, 0.08948174, 0.08275824, 0.08992946, 0.09379348, 0.13706769, 0.086065225, 0.081671745, 0.08967126, 0.0946081, 0.08600734, 0.08188916, 0.08497879, 0.08709027, 0.08548024, 0.13847578, 0.085814185, 0.088723436, 0.09033298, 0.07927249, 0.09086723, 0.088725306, 0.08496987, 0.091522634, 0.0863883, 0.14078689, 0.09151107, 0.09282598, 0.08686911, 0.08241353, 0.0926735, 0.08988996, 0.084276386, 0.0878917, 0.089749075]\n",
      "auc [0.8624255831491023, 0.8209568265981508, 0.8166163259168695, 0.8267283952244147, 0.8234653402085663, 0.8060150832777084, 0.7942951081740847, 0.8016523320657447, 0.8125519846832296, 0.8194289835359252, 0.8636973025553636, 0.8121536665569511, 0.8319318599375825, 0.8234972222952174, 0.8012486376486004, 0.8201715749917935, 0.8261824452977219, 0.8219296552332332, 0.8300804605738733, 0.8028433381628977, 0.8702995146532668, 0.8219474175785755, 0.8213562183129424, 0.8328281012061737, 0.8252773673959413, 0.8205661324452754, 0.81338490708396, 0.8181327000412881, 0.8177459726287069, 0.8213118837127578, 0.857843763514949, 0.817316398234633, 0.8118364207359792, 0.8050440072349935, 0.806698907312893, 0.7987191781218503, 0.8176119711437605, 0.8062047684860008, 0.8040781062168654, 0.8153773986181181, 0.8664693419157945, 0.815227799406645, 0.8118378192757079, 0.8153782804998577, 0.8240098895465391, 0.8162484928952844, 0.8227728410711033, 0.8180042214520851, 0.8108093848251313, 0.8078885925033817]\n"
     ]
    }
   ],
   "source": [
    "split = [0.8, 0.03, 0.03, 0.02, 0.02, 0.02, 0.02, 0.02, 0.02, 0.02]\n",
    "run_local(split)"
   ],
   "metadata": {
    "collapsed": false,
    "ExecuteTime": {
     "end_time": "2023-08-28T15:06:03.660191Z",
     "start_time": "2023-08-28T15:04:20.364779400Z"
    }
   }
  },
  {
   "cell_type": "code",
   "execution_count": null,
   "outputs": [],
   "source": [],
   "metadata": {
    "collapsed": false
   }
  }
 ],
 "metadata": {
  "kernelspec": {
   "display_name": "Python 3",
   "language": "python",
   "name": "python3"
  },
  "language_info": {
   "codemirror_mode": {
    "name": "ipython",
    "version": 2
   },
   "file_extension": ".py",
   "mimetype": "text/x-python",
   "name": "python",
   "nbconvert_exporter": "python",
   "pygments_lexer": "ipython2",
   "version": "2.7.6"
  }
 },
 "nbformat": 4,
 "nbformat_minor": 0
}
