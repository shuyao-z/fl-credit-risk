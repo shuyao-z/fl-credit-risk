{
 "cells": [
  {
   "cell_type": "code",
   "execution_count": 1,
   "metadata": {
    "collapsed": true,
    "ExecuteTime": {
     "end_time": "2023-08-31T00:59:16.805547100Z",
     "start_time": "2023-08-31T00:59:09.565066100Z"
    }
   },
   "outputs": [],
   "source": [
    "import pandas as pd\n",
    "import numpy as np\n",
    "import torch\n",
    "import datetime\n",
    "from resample import random_oversample\n",
    "import itertools\n",
    "import os"
   ]
  },
  {
   "cell_type": "code",
   "execution_count": 2,
   "outputs": [
    {
     "name": "stdout",
     "output_type": "stream",
     "text": [
      "Training on cpu using PyTorch 1.13.1+cpu\n",
      "main1_mlp_federated\n"
     ]
    }
   ],
   "source": [
    "if torch.cuda.is_available():\n",
    "    DEVICE = torch.device(\"cuda\")\n",
    "else:\n",
    "    DEVICE = torch.device(\"cpu\")\n",
    "\n",
    "print(f\"Training on {DEVICE} using PyTorch {torch.__version__}\")\n",
    "print('main1_mlp_federated')"
   ],
   "metadata": {
    "collapsed": false,
    "ExecuteTime": {
     "end_time": "2023-08-31T00:59:16.909375100Z",
     "start_time": "2023-08-31T00:59:16.809537800Z"
    }
   }
  },
  {
   "cell_type": "code",
   "execution_count": 3,
   "outputs": [],
   "source": [
    "from sklearn.model_selection import train_test_split\n",
    "\n",
    "df = pd.read_csv('./dataset/data.csv').astype('float32')\n",
    "X = df.drop('label', axis=1)\n",
    "df['label'] = df['label'].replace(21, 19)\n",
    "y = df['label']\n",
    "\n",
    "X = torch.tensor(X.values, dtype=torch.float32)\n",
    "y = torch.tensor(y.values, dtype=torch.int).reshape(-1,1)"
   ],
   "metadata": {
    "collapsed": false,
    "ExecuteTime": {
     "end_time": "2023-08-31T00:59:16.944280400Z",
     "start_time": "2023-08-31T00:59:16.840561100Z"
    }
   }
  },
  {
   "cell_type": "code",
   "execution_count": 4,
   "outputs": [],
   "source": [
    "# Define train and test function\n",
    "from sklearn.metrics import mean_squared_error, roc_auc_score, f1_score\n",
    "\n",
    "def prediction2label(pred: np.ndarray):\n",
    "    \"\"\"Convert ordinal predictions to class labels, e.g.\n",
    "\n",
    "    [0.9, 0.1, 0.1, 0.1] -> 0\n",
    "    [0.9, 0.9, 0.1, 0.1] -> 1\n",
    "    [0.9, 0.9, 0.9, 0.1] -> 2\n",
    "    etc.\n",
    "    \"\"\"\n",
    "    return (pred > 0.5).cumprod(axis=1).sum(axis=1) - 1\n",
    "\n",
    "def test(net, x_test, y_test):\n",
    "    y_pred = net(x_test)\n",
    "    if y_pred.shape[1] == 20:\n",
    "        y_pred = prediction2label(net(x_test))\n",
    "    else:\n",
    "        y_pred = torch.clip(y_pred.round(), min=0, max=20)\n",
    "\n",
    "    y_default_test = np.where(y_test.detach().numpy() > 9, 1, 0)\n",
    "    y_default_pred = np.where(y_pred.detach().numpy() > 9, 1, 0)\n",
    "    mse = mean_squared_error(y_test.detach().numpy(), y_pred.detach().numpy())\n",
    "    mse_norm = mean_squared_error(y_test.detach().numpy() / 21, y_pred.detach().numpy() / 21)\n",
    "    auc = roc_auc_score(y_default_test, y_default_pred)\n",
    "    f1 = f1_score(y_default_test, y_default_pred)\n",
    "    return mse, mse_norm, auc, f1\n"
   ],
   "metadata": {
    "collapsed": false,
    "ExecuteTime": {
     "end_time": "2023-08-31T00:59:16.991154600Z",
     "start_time": "2023-08-31T00:59:16.925332700Z"
    }
   }
  },
  {
   "cell_type": "code",
   "execution_count": 5,
   "outputs": [
    {
     "name": "stderr",
     "output_type": "stream",
     "text": [
      "D:\\FD\\venv\\lib\\site-packages\\torchvision\\io\\image.py:13: UserWarning: Failed to load image Python extension: '[WinError 127] 找不到指定的程序。'If you don't plan on using image functionality from `torchvision.io`, you can ignore this warning. Otherwise, there might be something wrong with your environment. Did you have `libjpeg` or `libpng` installed before building `torchvision` from source?\n",
      "  warn(\n"
     ]
    }
   ],
   "source": [
    "# Define MLP FL simulation wrapper\n",
    "from fl_simu import mlp_simulation\n",
    "\n",
    "def run_simulation(split, X_train, X_test, y_train, y_test, dir='default', num_epoch=256, batch_size=16, num_rounds=15, history_dir='./history/example.txt'):\n",
    "    return mlp_simulation(split, X_train, y_train, X_test, y_test, dir, num_epoch, batch_size, num_rounds, history_dir=history_dir)\n"
   ],
   "metadata": {
    "collapsed": false,
    "ExecuteTime": {
     "end_time": "2023-08-31T00:59:19.077464300Z",
     "start_time": "2023-08-31T00:59:16.952259100Z"
    }
   }
  },
  {
   "cell_type": "code",
   "execution_count": 6,
   "outputs": [],
   "source": [
    "random_state = np.random.randint(1000)\n",
    "\n",
    "from sklearn.model_selection import StratifiedKFold\n",
    "\n",
    "batch_size_list = [8]\n",
    "num_epochs_list = [4]\n",
    "num_rounds_list = [60] # 40\n",
    "\n",
    "def do_fl(splitting, X=X, y=y):\n",
    "\n",
    "    start = datetime.datetime.now()\n",
    "    mses = []\n",
    "    aucs = []\n",
    "\n",
    "    test_name = 'Dataset 1 MLP'\n",
    "    directory_path = 'model_checkpoints/' + test_name\n",
    "\n",
    "    if not os.path.exists(directory_path):\n",
    "        os.makedirs(directory_path)\n",
    "\n",
    "    kf = StratifiedKFold(n_splits=5, shuffle=True, random_state=42)\n",
    "\n",
    "    print(type(X))\n",
    "    print(type(y))\n",
    "\n",
    "    flag = 1\n",
    "\n",
    "    for fold_idx, (train_idx, test_idx) in enumerate(kf.split(X, y)):\n",
    "        print(f\"Fold {fold_idx + 1}:\")\n",
    "\n",
    "        if flag == 2:\n",
    "            break\n",
    "\n",
    "        X_train, X_test = X[train_idx], X[test_idx]\n",
    "        y_train, y_test = y[train_idx], y[test_idx]\n",
    "\n",
    "        for batch_size, num_epoch, num_rounds in itertools.product(batch_size_list, num_epochs_list, num_rounds_list):\n",
    "            X_test = X_test.to(DEVICE)\n",
    "            y_test = y_test.to(DEVICE)\n",
    "\n",
    "            filename = 'mlp_batch_'+ str(batch_size) + '_epochs_' + str(num_epoch) + '_rounds_' + str(num_rounds) + '_loss.csv'\n",
    "            history_dir = './history/dataset1/' + filename\n",
    "\n",
    "            model_fl = run_simulation(splitting, X_train, X_test, y_train, y_test, test_name, batch_size=batch_size, num_epoch=num_epoch, num_rounds=num_rounds, history_dir=history_dir)\n",
    "\n",
    "            model_fl.cpu()\n",
    "\n",
    "            X_test = X_test.cpu()\n",
    "            y_test = y_test.cpu()\n",
    "\n",
    "            mse, mse_norm, auc, f1 = test(model_fl, X_test, y_test)\n",
    "            mses.append(mse)\n",
    "            aucs.append(auc)\n",
    "\n",
    "            flag += 1\n",
    "\n",
    "    end = datetime.datetime.now()\n",
    "    time = end - start\n",
    "\n",
    "    print('split', splitting)\n",
    "    print('time', time)\n",
    "    print('mse', mses)\n",
    "    print('auc', aucs)\n"
   ],
   "metadata": {
    "collapsed": false,
    "ExecuteTime": {
     "end_time": "2023-08-31T00:59:19.140354200Z",
     "start_time": "2023-08-31T00:59:19.092423800Z"
    }
   }
  },
  {
   "cell_type": "code",
   "execution_count": 7,
   "outputs": [
    {
     "name": "stderr",
     "output_type": "stream",
     "text": [
      "INFO flwr 2023-08-31 01:59:19,158 | app.py:145 | Starting Flower simulation, config: ServerConfig(num_rounds=60, round_timeout=None)\n"
     ]
    },
    {
     "name": "stdout",
     "output_type": "stream",
     "text": [
      "<class 'torch.Tensor'>\n",
      "<class 'torch.Tensor'>\n",
      "Fold 1:\n",
      "Client 0 trainset shape torch.Size([2800, 22])\n",
      "Client 1 trainset shape torch.Size([2820, 22])\n",
      "FL started training on cpu\n",
      "Number of available GPUs: 0\n"
     ]
    },
    {
     "name": "stderr",
     "output_type": "stream",
     "text": [
      "2023-08-31 01:59:26,675\tINFO worker.py:1627 -- Started a local Ray instance. View the dashboard at \u001B[1m\u001B[32m127.0.0.1:8267 \u001B[39m\u001B[22m\n",
      "INFO flwr 2023-08-31 01:59:34,950 | app.py:179 | Flower VCE: Ray initialized with resources: {'node:127.0.0.1': 1.0, 'memory': 524294555.0, 'object_store_memory': 262147276.0, 'GPU': 1.0, 'CPU': 8.0}\n",
      "INFO flwr 2023-08-31 01:59:34,953 | server.py:89 | Initializing global parameters\n",
      "INFO flwr 2023-08-31 01:59:34,955 | server.py:276 | Requesting initial parameters from one random client\n",
      "INFO flwr 2023-08-31 01:59:39,870 | server.py:280 | Received initial parameters from one random client\n",
      "INFO flwr 2023-08-31 01:59:39,871 | server.py:91 | Evaluating initial parameters\n",
      "INFO flwr 2023-08-31 01:59:39,872 | server.py:104 | FL starting\n",
      "DEBUG flwr 2023-08-31 01:59:39,873 | server.py:222 | fit_round 1: strategy sampled 2 clients (out of 2)\n",
      "DEBUG flwr 2023-08-31 01:59:49,856 | server.py:236 | fit_round 1 received 2 results and 0 failures\n",
      "WARNING flwr 2023-08-31 01:59:49,864 | fedavg.py:242 | No fit_metrics_aggregation_fn provided\n",
      "DEBUG flwr 2023-08-31 01:59:49,889 | server.py:173 | evaluate_round 1: strategy sampled 2 clients (out of 2)\n",
      "DEBUG flwr 2023-08-31 01:59:49,947 | server.py:187 | evaluate_round 1 received 2 results and 0 failures\n",
      "DEBUG flwr 2023-08-31 01:59:49,950 | server.py:222 | fit_round 2: strategy sampled 2 clients (out of 2)\n"
     ]
    },
    {
     "name": "stdout",
     "output_type": "stream",
     "text": [
      "agrregate_fit results list length is  2\n",
      "Saving round 1 aggregated_parameters...\n",
      "agrregate_evaluate results list length is  2\n",
      "server round is  1\n",
      "loss is  3.0406654343807764\n"
     ]
    },
    {
     "name": "stderr",
     "output_type": "stream",
     "text": [
      "DEBUG flwr 2023-08-31 01:59:56,393 | server.py:236 | fit_round 2 received 2 results and 0 failures\n",
      "DEBUG flwr 2023-08-31 01:59:56,415 | server.py:173 | evaluate_round 2: strategy sampled 2 clients (out of 2)\n",
      "DEBUG flwr 2023-08-31 01:59:56,456 | server.py:187 | evaluate_round 2 received 2 results and 0 failures\n",
      "DEBUG flwr 2023-08-31 01:59:56,458 | server.py:222 | fit_round 3: strategy sampled 2 clients (out of 2)\n"
     ]
    },
    {
     "name": "stdout",
     "output_type": "stream",
     "text": [
      "agrregate_fit results list length is  2\n",
      "Saving round 2 aggregated_parameters...\n",
      "agrregate_evaluate results list length is  2\n",
      "server round is  2\n",
      "loss is  3.142329020332717\n"
     ]
    },
    {
     "name": "stderr",
     "output_type": "stream",
     "text": [
      "DEBUG flwr 2023-08-31 02:00:03,318 | server.py:236 | fit_round 3 received 2 results and 0 failures\n",
      "DEBUG flwr 2023-08-31 02:00:03,339 | server.py:173 | evaluate_round 3: strategy sampled 2 clients (out of 2)\n",
      "DEBUG flwr 2023-08-31 02:00:03,391 | server.py:187 | evaluate_round 3 received 2 results and 0 failures\n",
      "DEBUG flwr 2023-08-31 02:00:03,393 | server.py:222 | fit_round 4: strategy sampled 2 clients (out of 2)\n"
     ]
    },
    {
     "name": "stdout",
     "output_type": "stream",
     "text": [
      "agrregate_fit results list length is  2\n",
      "Saving round 3 aggregated_parameters...\n",
      "agrregate_evaluate results list length is  2\n",
      "server round is  3\n",
      "loss is  2.765249537892791\n"
     ]
    },
    {
     "name": "stderr",
     "output_type": "stream",
     "text": [
      "DEBUG flwr 2023-08-31 02:00:10,020 | server.py:236 | fit_round 4 received 2 results and 0 failures\n",
      "DEBUG flwr 2023-08-31 02:00:10,045 | server.py:173 | evaluate_round 4: strategy sampled 2 clients (out of 2)\n",
      "DEBUG flwr 2023-08-31 02:00:10,085 | server.py:187 | evaluate_round 4 received 2 results and 0 failures\n",
      "DEBUG flwr 2023-08-31 02:00:10,086 | server.py:222 | fit_round 5: strategy sampled 2 clients (out of 2)\n"
     ]
    },
    {
     "name": "stdout",
     "output_type": "stream",
     "text": [
      "agrregate_fit results list length is  2\n",
      "Saving round 4 aggregated_parameters...\n",
      "agrregate_evaluate results list length is  2\n",
      "server round is  4\n",
      "loss is  2.467652495378928\n"
     ]
    },
    {
     "name": "stderr",
     "output_type": "stream",
     "text": [
      "DEBUG flwr 2023-08-31 02:00:16,615 | server.py:236 | fit_round 5 received 2 results and 0 failures\n",
      "DEBUG flwr 2023-08-31 02:00:16,634 | server.py:173 | evaluate_round 5: strategy sampled 2 clients (out of 2)\n",
      "DEBUG flwr 2023-08-31 02:00:16,671 | server.py:187 | evaluate_round 5 received 2 results and 0 failures\n",
      "DEBUG flwr 2023-08-31 02:00:16,672 | server.py:222 | fit_round 6: strategy sampled 2 clients (out of 2)\n"
     ]
    },
    {
     "name": "stdout",
     "output_type": "stream",
     "text": [
      "agrregate_fit results list length is  2\n",
      "Saving round 5 aggregated_parameters...\n",
      "agrregate_evaluate results list length is  2\n",
      "server round is  5\n",
      "loss is  2.401109057301294\n"
     ]
    },
    {
     "name": "stderr",
     "output_type": "stream",
     "text": [
      "DEBUG flwr 2023-08-31 02:00:23,591 | server.py:236 | fit_round 6 received 2 results and 0 failures\n",
      "DEBUG flwr 2023-08-31 02:00:23,613 | server.py:173 | evaluate_round 6: strategy sampled 2 clients (out of 2)\n",
      "DEBUG flwr 2023-08-31 02:00:23,651 | server.py:187 | evaluate_round 6 received 2 results and 0 failures\n",
      "DEBUG flwr 2023-08-31 02:00:23,653 | server.py:222 | fit_round 7: strategy sampled 2 clients (out of 2)\n"
     ]
    },
    {
     "name": "stdout",
     "output_type": "stream",
     "text": [
      "agrregate_fit results list length is  2\n",
      "Saving round 6 aggregated_parameters...\n",
      "agrregate_evaluate results list length is  2\n",
      "server round is  6\n",
      "loss is  2.3622920517560075\n"
     ]
    },
    {
     "name": "stderr",
     "output_type": "stream",
     "text": [
      "DEBUG flwr 2023-08-31 02:00:30,134 | server.py:236 | fit_round 7 received 2 results and 0 failures\n",
      "DEBUG flwr 2023-08-31 02:00:30,159 | server.py:173 | evaluate_round 7: strategy sampled 2 clients (out of 2)\n",
      "DEBUG flwr 2023-08-31 02:00:30,194 | server.py:187 | evaluate_round 7 received 2 results and 0 failures\n",
      "DEBUG flwr 2023-08-31 02:00:30,195 | server.py:222 | fit_round 8: strategy sampled 2 clients (out of 2)\n"
     ]
    },
    {
     "name": "stdout",
     "output_type": "stream",
     "text": [
      "agrregate_fit results list length is  2\n",
      "Saving round 7 aggregated_parameters...\n",
      "agrregate_evaluate results list length is  2\n",
      "server round is  7\n",
      "loss is  2.700554528650647\n"
     ]
    },
    {
     "name": "stderr",
     "output_type": "stream",
     "text": [
      "DEBUG flwr 2023-08-31 02:00:36,729 | server.py:236 | fit_round 8 received 2 results and 0 failures\n",
      "DEBUG flwr 2023-08-31 02:00:36,750 | server.py:173 | evaluate_round 8: strategy sampled 2 clients (out of 2)\n",
      "DEBUG flwr 2023-08-31 02:00:36,798 | server.py:187 | evaluate_round 8 received 2 results and 0 failures\n",
      "DEBUG flwr 2023-08-31 02:00:36,801 | server.py:222 | fit_round 9: strategy sampled 2 clients (out of 2)\n"
     ]
    },
    {
     "name": "stdout",
     "output_type": "stream",
     "text": [
      "agrregate_fit results list length is  2\n",
      "Saving round 8 aggregated_parameters...\n",
      "agrregate_evaluate results list length is  2\n",
      "server round is  8\n",
      "loss is  2.5397412199630316\n"
     ]
    },
    {
     "name": "stderr",
     "output_type": "stream",
     "text": [
      "DEBUG flwr 2023-08-31 02:00:44,051 | server.py:236 | fit_round 9 received 2 results and 0 failures\n",
      "DEBUG flwr 2023-08-31 02:00:44,070 | server.py:173 | evaluate_round 9: strategy sampled 2 clients (out of 2)\n",
      "DEBUG flwr 2023-08-31 02:00:44,107 | server.py:187 | evaluate_round 9 received 2 results and 0 failures\n",
      "DEBUG flwr 2023-08-31 02:00:44,108 | server.py:222 | fit_round 10: strategy sampled 2 clients (out of 2)\n"
     ]
    },
    {
     "name": "stdout",
     "output_type": "stream",
     "text": [
      "agrregate_fit results list length is  2\n",
      "Saving round 9 aggregated_parameters...\n",
      "agrregate_evaluate results list length is  2\n",
      "server round is  9\n",
      "loss is  2.5841035120147873\n"
     ]
    },
    {
     "name": "stderr",
     "output_type": "stream",
     "text": [
      "DEBUG flwr 2023-08-31 02:00:50,939 | server.py:236 | fit_round 10 received 2 results and 0 failures\n",
      "DEBUG flwr 2023-08-31 02:00:50,969 | server.py:173 | evaluate_round 10: strategy sampled 2 clients (out of 2)\n",
      "DEBUG flwr 2023-08-31 02:00:51,016 | server.py:187 | evaluate_round 10 received 2 results and 0 failures\n",
      "DEBUG flwr 2023-08-31 02:00:51,017 | server.py:222 | fit_round 11: strategy sampled 2 clients (out of 2)\n"
     ]
    },
    {
     "name": "stdout",
     "output_type": "stream",
     "text": [
      "agrregate_fit results list length is  2\n",
      "Saving round 10 aggregated_parameters...\n",
      "agrregate_evaluate results list length is  2\n",
      "server round is  10\n",
      "loss is  2.7153419593345656\n"
     ]
    },
    {
     "name": "stderr",
     "output_type": "stream",
     "text": [
      "DEBUG flwr 2023-08-31 02:00:57,806 | server.py:236 | fit_round 11 received 2 results and 0 failures\n",
      "DEBUG flwr 2023-08-31 02:00:57,834 | server.py:173 | evaluate_round 11: strategy sampled 2 clients (out of 2)\n",
      "DEBUG flwr 2023-08-31 02:00:57,885 | server.py:187 | evaluate_round 11 received 2 results and 0 failures\n",
      "DEBUG flwr 2023-08-31 02:00:57,886 | server.py:222 | fit_round 12: strategy sampled 2 clients (out of 2)\n"
     ]
    },
    {
     "name": "stdout",
     "output_type": "stream",
     "text": [
      "agrregate_fit results list length is  2\n",
      "Saving round 11 aggregated_parameters...\n",
      "agrregate_evaluate results list length is  2\n",
      "server round is  11\n",
      "loss is  2.4861367837338264\n"
     ]
    },
    {
     "name": "stderr",
     "output_type": "stream",
     "text": [
      "DEBUG flwr 2023-08-31 02:01:05,882 | server.py:236 | fit_round 12 received 2 results and 0 failures\n",
      "DEBUG flwr 2023-08-31 02:01:05,903 | server.py:173 | evaluate_round 12: strategy sampled 2 clients (out of 2)\n",
      "DEBUG flwr 2023-08-31 02:01:05,941 | server.py:187 | evaluate_round 12 received 2 results and 0 failures\n",
      "DEBUG flwr 2023-08-31 02:01:05,942 | server.py:222 | fit_round 13: strategy sampled 2 clients (out of 2)\n"
     ]
    },
    {
     "name": "stdout",
     "output_type": "stream",
     "text": [
      "agrregate_fit results list length is  2\n",
      "Saving round 12 aggregated_parameters...\n",
      "agrregate_evaluate results list length is  2\n",
      "server round is  12\n",
      "loss is  2.6432532347504623\n"
     ]
    },
    {
     "name": "stderr",
     "output_type": "stream",
     "text": [
      "DEBUG flwr 2023-08-31 02:01:13,168 | server.py:236 | fit_round 13 received 2 results and 0 failures\n",
      "DEBUG flwr 2023-08-31 02:01:13,190 | server.py:173 | evaluate_round 13: strategy sampled 2 clients (out of 2)\n",
      "DEBUG flwr 2023-08-31 02:01:13,227 | server.py:187 | evaluate_round 13 received 2 results and 0 failures\n",
      "DEBUG flwr 2023-08-31 02:01:13,229 | server.py:222 | fit_round 14: strategy sampled 2 clients (out of 2)\n"
     ]
    },
    {
     "name": "stdout",
     "output_type": "stream",
     "text": [
      "agrregate_fit results list length is  2\n",
      "Saving round 13 aggregated_parameters...\n",
      "agrregate_evaluate results list length is  2\n",
      "server round is  13\n",
      "loss is  2.1460258780036967\n"
     ]
    },
    {
     "name": "stderr",
     "output_type": "stream",
     "text": [
      "DEBUG flwr 2023-08-31 02:01:19,709 | server.py:236 | fit_round 14 received 2 results and 0 failures\n",
      "DEBUG flwr 2023-08-31 02:01:19,734 | server.py:173 | evaluate_round 14: strategy sampled 2 clients (out of 2)\n",
      "DEBUG flwr 2023-08-31 02:01:19,767 | server.py:187 | evaluate_round 14 received 2 results and 0 failures\n",
      "DEBUG flwr 2023-08-31 02:01:19,768 | server.py:222 | fit_round 15: strategy sampled 2 clients (out of 2)\n"
     ]
    },
    {
     "name": "stdout",
     "output_type": "stream",
     "text": [
      "agrregate_fit results list length is  2\n",
      "Saving round 14 aggregated_parameters...\n",
      "agrregate_evaluate results list length is  2\n",
      "server round is  14\n",
      "loss is  2.4417744916820703\n"
     ]
    },
    {
     "name": "stderr",
     "output_type": "stream",
     "text": [
      "DEBUG flwr 2023-08-31 02:01:26,651 | server.py:236 | fit_round 15 received 2 results and 0 failures\n",
      "DEBUG flwr 2023-08-31 02:01:26,672 | server.py:173 | evaluate_round 15: strategy sampled 2 clients (out of 2)\n",
      "DEBUG flwr 2023-08-31 02:01:26,713 | server.py:187 | evaluate_round 15 received 2 results and 0 failures\n",
      "DEBUG flwr 2023-08-31 02:01:26,714 | server.py:222 | fit_round 16: strategy sampled 2 clients (out of 2)\n"
     ]
    },
    {
     "name": "stdout",
     "output_type": "stream",
     "text": [
      "agrregate_fit results list length is  2\n",
      "Saving round 15 aggregated_parameters...\n",
      "agrregate_evaluate results list length is  2\n",
      "server round is  15\n",
      "loss is  2.410351201478743\n"
     ]
    },
    {
     "name": "stderr",
     "output_type": "stream",
     "text": [
      "DEBUG flwr 2023-08-31 02:01:33,461 | server.py:236 | fit_round 16 received 2 results and 0 failures\n",
      "DEBUG flwr 2023-08-31 02:01:33,481 | server.py:173 | evaluate_round 16: strategy sampled 2 clients (out of 2)\n",
      "DEBUG flwr 2023-08-31 02:01:33,520 | server.py:187 | evaluate_round 16 received 2 results and 0 failures\n",
      "DEBUG flwr 2023-08-31 02:01:33,523 | server.py:222 | fit_round 17: strategy sampled 2 clients (out of 2)\n"
     ]
    },
    {
     "name": "stdout",
     "output_type": "stream",
     "text": [
      "agrregate_fit results list length is  2\n",
      "Saving round 16 aggregated_parameters...\n",
      "agrregate_evaluate results list length is  2\n",
      "server round is  16\n",
      "loss is  2.048059149722736\n"
     ]
    },
    {
     "name": "stderr",
     "output_type": "stream",
     "text": [
      "DEBUG flwr 2023-08-31 02:01:40,130 | server.py:236 | fit_round 17 received 2 results and 0 failures\n",
      "DEBUG flwr 2023-08-31 02:01:40,151 | server.py:173 | evaluate_round 17: strategy sampled 2 clients (out of 2)\n",
      "DEBUG flwr 2023-08-31 02:01:40,188 | server.py:187 | evaluate_round 17 received 2 results and 0 failures\n",
      "DEBUG flwr 2023-08-31 02:01:40,190 | server.py:222 | fit_round 18: strategy sampled 2 clients (out of 2)\n"
     ]
    },
    {
     "name": "stdout",
     "output_type": "stream",
     "text": [
      "agrregate_fit results list length is  2\n",
      "Saving round 17 aggregated_parameters...\n",
      "agrregate_evaluate results list length is  2\n",
      "server round is  17\n",
      "loss is  2.33456561922366\n"
     ]
    },
    {
     "name": "stderr",
     "output_type": "stream",
     "text": [
      "DEBUG flwr 2023-08-31 02:01:47,439 | server.py:236 | fit_round 18 received 2 results and 0 failures\n",
      "DEBUG flwr 2023-08-31 02:01:47,473 | server.py:173 | evaluate_round 18: strategy sampled 2 clients (out of 2)\n",
      "DEBUG flwr 2023-08-31 02:01:47,508 | server.py:187 | evaluate_round 18 received 2 results and 0 failures\n",
      "DEBUG flwr 2023-08-31 02:01:47,509 | server.py:222 | fit_round 19: strategy sampled 2 clients (out of 2)\n"
     ]
    },
    {
     "name": "stdout",
     "output_type": "stream",
     "text": [
      "agrregate_fit results list length is  2\n",
      "Saving round 18 aggregated_parameters...\n",
      "agrregate_evaluate results list length is  2\n",
      "server round is  18\n",
      "loss is  2.3937153419593344\n"
     ]
    },
    {
     "name": "stderr",
     "output_type": "stream",
     "text": [
      "DEBUG flwr 2023-08-31 02:01:54,101 | server.py:236 | fit_round 19 received 2 results and 0 failures\n",
      "DEBUG flwr 2023-08-31 02:01:54,119 | server.py:173 | evaluate_round 19: strategy sampled 2 clients (out of 2)\n",
      "DEBUG flwr 2023-08-31 02:01:54,153 | server.py:187 | evaluate_round 19 received 2 results and 0 failures\n",
      "DEBUG flwr 2023-08-31 02:01:54,154 | server.py:222 | fit_round 20: strategy sampled 2 clients (out of 2)\n"
     ]
    },
    {
     "name": "stdout",
     "output_type": "stream",
     "text": [
      "agrregate_fit results list length is  2\n",
      "Saving round 19 aggregated_parameters...\n",
      "agrregate_evaluate results list length is  2\n",
      "server round is  19\n",
      "loss is  2.325323475046211\n"
     ]
    },
    {
     "name": "stderr",
     "output_type": "stream",
     "text": [
      "DEBUG flwr 2023-08-31 02:02:00,905 | server.py:236 | fit_round 20 received 2 results and 0 failures\n",
      "DEBUG flwr 2023-08-31 02:02:00,927 | server.py:173 | evaluate_round 20: strategy sampled 2 clients (out of 2)\n",
      "DEBUG flwr 2023-08-31 02:02:00,973 | server.py:187 | evaluate_round 20 received 2 results and 0 failures\n",
      "DEBUG flwr 2023-08-31 02:02:00,975 | server.py:222 | fit_round 21: strategy sampled 2 clients (out of 2)\n"
     ]
    },
    {
     "name": "stdout",
     "output_type": "stream",
     "text": [
      "agrregate_fit results list length is  2\n",
      "Saving round 20 aggregated_parameters...\n",
      "agrregate_evaluate results list length is  2\n",
      "server round is  20\n",
      "loss is  2.412199630314233\n"
     ]
    },
    {
     "name": "stderr",
     "output_type": "stream",
     "text": [
      "DEBUG flwr 2023-08-31 02:02:07,481 | server.py:236 | fit_round 21 received 2 results and 0 failures\n",
      "DEBUG flwr 2023-08-31 02:02:07,506 | server.py:173 | evaluate_round 21: strategy sampled 2 clients (out of 2)\n",
      "DEBUG flwr 2023-08-31 02:02:07,562 | server.py:187 | evaluate_round 21 received 2 results and 0 failures\n",
      "DEBUG flwr 2023-08-31 02:02:07,564 | server.py:222 | fit_round 22: strategy sampled 2 clients (out of 2)\n"
     ]
    },
    {
     "name": "stdout",
     "output_type": "stream",
     "text": [
      "agrregate_fit results list length is  2\n",
      "Saving round 21 aggregated_parameters...\n",
      "agrregate_evaluate results list length is  2\n",
      "server round is  21\n",
      "loss is  2.086876155268022\n"
     ]
    },
    {
     "name": "stderr",
     "output_type": "stream",
     "text": [
      "DEBUG flwr 2023-08-31 02:02:14,214 | server.py:236 | fit_round 22 received 2 results and 0 failures\n",
      "DEBUG flwr 2023-08-31 02:02:14,233 | server.py:173 | evaluate_round 22: strategy sampled 2 clients (out of 2)\n",
      "DEBUG flwr 2023-08-31 02:02:14,267 | server.py:187 | evaluate_round 22 received 2 results and 0 failures\n",
      "DEBUG flwr 2023-08-31 02:02:14,269 | server.py:222 | fit_round 23: strategy sampled 2 clients (out of 2)\n"
     ]
    },
    {
     "name": "stdout",
     "output_type": "stream",
     "text": [
      "agrregate_fit results list length is  2\n",
      "Saving round 22 aggregated_parameters...\n",
      "agrregate_evaluate results list length is  2\n",
      "server round is  22\n",
      "loss is  1.8428835489833642\n"
     ]
    },
    {
     "name": "stderr",
     "output_type": "stream",
     "text": [
      "DEBUG flwr 2023-08-31 02:02:20,995 | server.py:236 | fit_round 23 received 2 results and 0 failures\n",
      "DEBUG flwr 2023-08-31 02:02:21,018 | server.py:173 | evaluate_round 23: strategy sampled 2 clients (out of 2)\n",
      "DEBUG flwr 2023-08-31 02:02:21,064 | server.py:187 | evaluate_round 23 received 2 results and 0 failures\n",
      "DEBUG flwr 2023-08-31 02:02:21,065 | server.py:222 | fit_round 24: strategy sampled 2 clients (out of 2)\n"
     ]
    },
    {
     "name": "stdout",
     "output_type": "stream",
     "text": [
      "agrregate_fit results list length is  2\n",
      "Saving round 23 aggregated_parameters...\n",
      "agrregate_evaluate results list length is  2\n",
      "server round is  23\n",
      "loss is  2.2513863216266174\n"
     ]
    },
    {
     "name": "stderr",
     "output_type": "stream",
     "text": [
      "DEBUG flwr 2023-08-31 02:02:27,658 | server.py:236 | fit_round 24 received 2 results and 0 failures\n",
      "DEBUG flwr 2023-08-31 02:02:27,679 | server.py:173 | evaluate_round 24: strategy sampled 2 clients (out of 2)\n",
      "DEBUG flwr 2023-08-31 02:02:27,717 | server.py:187 | evaluate_round 24 received 2 results and 0 failures\n",
      "DEBUG flwr 2023-08-31 02:02:27,718 | server.py:222 | fit_round 25: strategy sampled 2 clients (out of 2)\n"
     ]
    },
    {
     "name": "stdout",
     "output_type": "stream",
     "text": [
      "agrregate_fit results list length is  2\n",
      "Saving round 24 aggregated_parameters...\n",
      "agrregate_evaluate results list length is  2\n",
      "server round is  24\n",
      "loss is  1.9057301293900184\n"
     ]
    },
    {
     "name": "stderr",
     "output_type": "stream",
     "text": [
      "DEBUG flwr 2023-08-31 02:02:34,650 | server.py:236 | fit_round 25 received 2 results and 0 failures\n",
      "DEBUG flwr 2023-08-31 02:02:34,670 | server.py:173 | evaluate_round 25: strategy sampled 2 clients (out of 2)\n",
      "DEBUG flwr 2023-08-31 02:02:34,712 | server.py:187 | evaluate_round 25 received 2 results and 0 failures\n",
      "DEBUG flwr 2023-08-31 02:02:34,715 | server.py:222 | fit_round 26: strategy sampled 2 clients (out of 2)\n"
     ]
    },
    {
     "name": "stdout",
     "output_type": "stream",
     "text": [
      "agrregate_fit results list length is  2\n",
      "Saving round 25 aggregated_parameters...\n",
      "agrregate_evaluate results list length is  2\n",
      "server round is  25\n",
      "loss is  2.0646950092421443\n"
     ]
    },
    {
     "name": "stderr",
     "output_type": "stream",
     "text": [
      "DEBUG flwr 2023-08-31 02:02:42,101 | server.py:236 | fit_round 26 received 2 results and 0 failures\n",
      "DEBUG flwr 2023-08-31 02:02:42,132 | server.py:173 | evaluate_round 26: strategy sampled 2 clients (out of 2)\n",
      "DEBUG flwr 2023-08-31 02:02:42,175 | server.py:187 | evaluate_round 26 received 2 results and 0 failures\n",
      "DEBUG flwr 2023-08-31 02:02:42,176 | server.py:222 | fit_round 27: strategy sampled 2 clients (out of 2)\n"
     ]
    },
    {
     "name": "stdout",
     "output_type": "stream",
     "text": [
      "agrregate_fit results list length is  2\n",
      "Saving round 26 aggregated_parameters...\n",
      "agrregate_evaluate results list length is  2\n",
      "server round is  26\n",
      "loss is  1.9630314232902033\n"
     ]
    },
    {
     "name": "stderr",
     "output_type": "stream",
     "text": [
      "DEBUG flwr 2023-08-31 02:02:49,046 | server.py:236 | fit_round 27 received 2 results and 0 failures\n",
      "DEBUG flwr 2023-08-31 02:02:49,065 | server.py:173 | evaluate_round 27: strategy sampled 2 clients (out of 2)\n",
      "DEBUG flwr 2023-08-31 02:02:49,102 | server.py:187 | evaluate_round 27 received 2 results and 0 failures\n",
      "DEBUG flwr 2023-08-31 02:02:49,104 | server.py:222 | fit_round 28: strategy sampled 2 clients (out of 2)\n"
     ]
    },
    {
     "name": "stdout",
     "output_type": "stream",
     "text": [
      "agrregate_fit results list length is  2\n",
      "Saving round 27 aggregated_parameters...\n",
      "agrregate_evaluate results list length is  2\n",
      "server round is  27\n",
      "loss is  2.081330868761553\n"
     ]
    },
    {
     "name": "stderr",
     "output_type": "stream",
     "text": [
      "DEBUG flwr 2023-08-31 02:02:55,708 | server.py:236 | fit_round 28 received 2 results and 0 failures\n",
      "DEBUG flwr 2023-08-31 02:02:55,727 | server.py:173 | evaluate_round 28: strategy sampled 2 clients (out of 2)\n",
      "DEBUG flwr 2023-08-31 02:02:55,765 | server.py:187 | evaluate_round 28 received 2 results and 0 failures\n",
      "DEBUG flwr 2023-08-31 02:02:55,768 | server.py:222 | fit_round 29: strategy sampled 2 clients (out of 2)\n"
     ]
    },
    {
     "name": "stdout",
     "output_type": "stream",
     "text": [
      "agrregate_fit results list length is  2\n",
      "Saving round 28 aggregated_parameters...\n",
      "agrregate_evaluate results list length is  2\n",
      "server round is  28\n",
      "loss is  2.3364140480591495\n"
     ]
    },
    {
     "name": "stderr",
     "output_type": "stream",
     "text": [
      "DEBUG flwr 2023-08-31 02:03:03,741 | server.py:236 | fit_round 29 received 2 results and 0 failures\n",
      "DEBUG flwr 2023-08-31 02:03:03,772 | server.py:173 | evaluate_round 29: strategy sampled 2 clients (out of 2)\n",
      "DEBUG flwr 2023-08-31 02:03:03,810 | server.py:187 | evaluate_round 29 received 2 results and 0 failures\n",
      "DEBUG flwr 2023-08-31 02:03:03,811 | server.py:222 | fit_round 30: strategy sampled 2 clients (out of 2)\n"
     ]
    },
    {
     "name": "stdout",
     "output_type": "stream",
     "text": [
      "agrregate_fit results list length is  2\n",
      "Saving round 29 aggregated_parameters...\n",
      "agrregate_evaluate results list length is  2\n",
      "server round is  29\n",
      "loss is  2.0591497227356745\n"
     ]
    },
    {
     "name": "stderr",
     "output_type": "stream",
     "text": [
      "DEBUG flwr 2023-08-31 02:03:10,930 | server.py:236 | fit_round 30 received 2 results and 0 failures\n",
      "DEBUG flwr 2023-08-31 02:03:10,970 | server.py:173 | evaluate_round 30: strategy sampled 2 clients (out of 2)\n",
      "DEBUG flwr 2023-08-31 02:03:11,021 | server.py:187 | evaluate_round 30 received 2 results and 0 failures\n",
      "DEBUG flwr 2023-08-31 02:03:11,023 | server.py:222 | fit_round 31: strategy sampled 2 clients (out of 2)\n"
     ]
    },
    {
     "name": "stdout",
     "output_type": "stream",
     "text": [
      "agrregate_fit results list length is  2\n",
      "Saving round 30 aggregated_parameters...\n",
      "agrregate_evaluate results list length is  2\n",
      "server round is  30\n",
      "loss is  1.9131238447319778\n"
     ]
    },
    {
     "name": "stderr",
     "output_type": "stream",
     "text": [
      "DEBUG flwr 2023-08-31 02:03:18,813 | server.py:236 | fit_round 31 received 2 results and 0 failures\n",
      "DEBUG flwr 2023-08-31 02:03:18,833 | server.py:173 | evaluate_round 31: strategy sampled 2 clients (out of 2)\n",
      "DEBUG flwr 2023-08-31 02:03:18,870 | server.py:187 | evaluate_round 31 received 2 results and 0 failures\n",
      "DEBUG flwr 2023-08-31 02:03:18,871 | server.py:222 | fit_round 32: strategy sampled 2 clients (out of 2)\n"
     ]
    },
    {
     "name": "stdout",
     "output_type": "stream",
     "text": [
      "agrregate_fit results list length is  2\n",
      "Saving round 31 aggregated_parameters...\n",
      "agrregate_evaluate results list length is  2\n",
      "server round is  31\n",
      "loss is  1.8576709796672828\n"
     ]
    },
    {
     "name": "stderr",
     "output_type": "stream",
     "text": [
      "DEBUG flwr 2023-08-31 02:03:25,945 | server.py:236 | fit_round 32 received 2 results and 0 failures\n",
      "DEBUG flwr 2023-08-31 02:03:25,967 | server.py:173 | evaluate_round 32: strategy sampled 2 clients (out of 2)\n",
      "DEBUG flwr 2023-08-31 02:03:26,021 | server.py:187 | evaluate_round 32 received 2 results and 0 failures\n",
      "DEBUG flwr 2023-08-31 02:03:26,024 | server.py:222 | fit_round 33: strategy sampled 2 clients (out of 2)\n"
     ]
    },
    {
     "name": "stdout",
     "output_type": "stream",
     "text": [
      "agrregate_fit results list length is  2\n",
      "Saving round 32 aggregated_parameters...\n",
      "agrregate_evaluate results list length is  2\n",
      "server round is  32\n",
      "loss is  2.11090573012939\n"
     ]
    },
    {
     "name": "stderr",
     "output_type": "stream",
     "text": [
      "DEBUG flwr 2023-08-31 02:03:32,929 | server.py:236 | fit_round 33 received 2 results and 0 failures\n",
      "DEBUG flwr 2023-08-31 02:03:32,948 | server.py:173 | evaluate_round 33: strategy sampled 2 clients (out of 2)\n",
      "DEBUG flwr 2023-08-31 02:03:32,986 | server.py:187 | evaluate_round 33 received 2 results and 0 failures\n",
      "DEBUG flwr 2023-08-31 02:03:32,988 | server.py:222 | fit_round 34: strategy sampled 2 clients (out of 2)\n"
     ]
    },
    {
     "name": "stdout",
     "output_type": "stream",
     "text": [
      "agrregate_fit results list length is  2\n",
      "Saving round 33 aggregated_parameters...\n",
      "agrregate_evaluate results list length is  2\n",
      "server round is  33\n",
      "loss is  2.129390018484288\n"
     ]
    },
    {
     "name": "stderr",
     "output_type": "stream",
     "text": [
      "DEBUG flwr 2023-08-31 02:03:39,754 | server.py:236 | fit_round 34 received 2 results and 0 failures\n",
      "DEBUG flwr 2023-08-31 02:03:39,785 | server.py:173 | evaluate_round 34: strategy sampled 2 clients (out of 2)\n",
      "DEBUG flwr 2023-08-31 02:03:39,839 | server.py:187 | evaluate_round 34 received 2 results and 0 failures\n",
      "DEBUG flwr 2023-08-31 02:03:39,841 | server.py:222 | fit_round 35: strategy sampled 2 clients (out of 2)\n"
     ]
    },
    {
     "name": "stdout",
     "output_type": "stream",
     "text": [
      "agrregate_fit results list length is  2\n",
      "Saving round 34 aggregated_parameters...\n",
      "agrregate_evaluate results list length is  2\n",
      "server round is  34\n",
      "loss is  2.033271719038817\n"
     ]
    },
    {
     "name": "stderr",
     "output_type": "stream",
     "text": [
      "DEBUG flwr 2023-08-31 02:03:46,669 | server.py:236 | fit_round 35 received 2 results and 0 failures\n",
      "DEBUG flwr 2023-08-31 02:03:46,691 | server.py:173 | evaluate_round 35: strategy sampled 2 clients (out of 2)\n",
      "DEBUG flwr 2023-08-31 02:03:46,733 | server.py:187 | evaluate_round 35 received 2 results and 0 failures\n",
      "DEBUG flwr 2023-08-31 02:03:46,735 | server.py:222 | fit_round 36: strategy sampled 2 clients (out of 2)\n"
     ]
    },
    {
     "name": "stdout",
     "output_type": "stream",
     "text": [
      "agrregate_fit results list length is  2\n",
      "Saving round 35 aggregated_parameters...\n",
      "agrregate_evaluate results list length is  2\n",
      "server round is  35\n",
      "loss is  2.312384473197782\n"
     ]
    },
    {
     "name": "stderr",
     "output_type": "stream",
     "text": [
      "DEBUG flwr 2023-08-31 02:03:53,495 | server.py:236 | fit_round 36 received 2 results and 0 failures\n",
      "DEBUG flwr 2023-08-31 02:03:53,514 | server.py:173 | evaluate_round 36: strategy sampled 2 clients (out of 2)\n",
      "DEBUG flwr 2023-08-31 02:03:53,547 | server.py:187 | evaluate_round 36 received 2 results and 0 failures\n",
      "DEBUG flwr 2023-08-31 02:03:53,548 | server.py:222 | fit_round 37: strategy sampled 2 clients (out of 2)\n"
     ]
    },
    {
     "name": "stdout",
     "output_type": "stream",
     "text": [
      "agrregate_fit results list length is  2\n",
      "Saving round 36 aggregated_parameters...\n",
      "agrregate_evaluate results list length is  2\n",
      "server round is  36\n",
      "loss is  1.7153419593345656\n"
     ]
    },
    {
     "name": "stderr",
     "output_type": "stream",
     "text": [
      "DEBUG flwr 2023-08-31 02:04:00,305 | server.py:236 | fit_round 37 received 2 results and 0 failures\n",
      "DEBUG flwr 2023-08-31 02:04:00,326 | server.py:173 | evaluate_round 37: strategy sampled 2 clients (out of 2)\n",
      "DEBUG flwr 2023-08-31 02:04:00,364 | server.py:187 | evaluate_round 37 received 2 results and 0 failures\n",
      "DEBUG flwr 2023-08-31 02:04:00,365 | server.py:222 | fit_round 38: strategy sampled 2 clients (out of 2)\n"
     ]
    },
    {
     "name": "stdout",
     "output_type": "stream",
     "text": [
      "agrregate_fit results list length is  2\n",
      "Saving round 37 aggregated_parameters...\n",
      "agrregate_evaluate results list length is  2\n",
      "server round is  37\n",
      "loss is  1.8391866913123844\n"
     ]
    },
    {
     "name": "stderr",
     "output_type": "stream",
     "text": [
      "DEBUG flwr 2023-08-31 02:04:07,151 | server.py:236 | fit_round 38 received 2 results and 0 failures\n",
      "DEBUG flwr 2023-08-31 02:04:07,181 | server.py:173 | evaluate_round 38: strategy sampled 2 clients (out of 2)\n",
      "DEBUG flwr 2023-08-31 02:04:07,221 | server.py:187 | evaluate_round 38 received 2 results and 0 failures\n",
      "DEBUG flwr 2023-08-31 02:04:07,223 | server.py:222 | fit_round 39: strategy sampled 2 clients (out of 2)\n"
     ]
    },
    {
     "name": "stdout",
     "output_type": "stream",
     "text": [
      "agrregate_fit results list length is  2\n",
      "Saving round 38 aggregated_parameters...\n",
      "agrregate_evaluate results list length is  2\n",
      "server round is  38\n",
      "loss is  1.8798521256931608\n"
     ]
    },
    {
     "name": "stderr",
     "output_type": "stream",
     "text": [
      "DEBUG flwr 2023-08-31 02:04:14,104 | server.py:236 | fit_round 39 received 2 results and 0 failures\n",
      "DEBUG flwr 2023-08-31 02:04:14,125 | server.py:173 | evaluate_round 39: strategy sampled 2 clients (out of 2)\n",
      "DEBUG flwr 2023-08-31 02:04:14,161 | server.py:187 | evaluate_round 39 received 2 results and 0 failures\n",
      "DEBUG flwr 2023-08-31 02:04:14,164 | server.py:222 | fit_round 40: strategy sampled 2 clients (out of 2)\n"
     ]
    },
    {
     "name": "stdout",
     "output_type": "stream",
     "text": [
      "agrregate_fit results list length is  2\n",
      "Saving round 39 aggregated_parameters...\n",
      "agrregate_evaluate results list length is  2\n",
      "server round is  39\n",
      "loss is  1.8299445471349354\n"
     ]
    },
    {
     "name": "stderr",
     "output_type": "stream",
     "text": [
      "DEBUG flwr 2023-08-31 02:04:21,055 | server.py:236 | fit_round 40 received 2 results and 0 failures\n",
      "DEBUG flwr 2023-08-31 02:04:21,075 | server.py:173 | evaluate_round 40: strategy sampled 2 clients (out of 2)\n",
      "DEBUG flwr 2023-08-31 02:04:21,115 | server.py:187 | evaluate_round 40 received 2 results and 0 failures\n",
      "DEBUG flwr 2023-08-31 02:04:21,117 | server.py:222 | fit_round 41: strategy sampled 2 clients (out of 2)\n"
     ]
    },
    {
     "name": "stdout",
     "output_type": "stream",
     "text": [
      "agrregate_fit results list length is  2\n",
      "Saving round 40 aggregated_parameters...\n",
      "agrregate_evaluate results list length is  2\n",
      "server round is  40\n",
      "loss is  1.935304990757856\n"
     ]
    },
    {
     "name": "stderr",
     "output_type": "stream",
     "text": [
      "DEBUG flwr 2023-08-31 02:04:28,035 | server.py:236 | fit_round 41 received 2 results and 0 failures\n",
      "DEBUG flwr 2023-08-31 02:04:28,055 | server.py:173 | evaluate_round 41: strategy sampled 2 clients (out of 2)\n",
      "DEBUG flwr 2023-08-31 02:04:28,096 | server.py:187 | evaluate_round 41 received 2 results and 0 failures\n",
      "DEBUG flwr 2023-08-31 02:04:28,098 | server.py:222 | fit_round 42: strategy sampled 2 clients (out of 2)\n"
     ]
    },
    {
     "name": "stdout",
     "output_type": "stream",
     "text": [
      "agrregate_fit results list length is  2\n",
      "Saving round 41 aggregated_parameters...\n",
      "agrregate_evaluate results list length is  2\n",
      "server round is  41\n",
      "loss is  1.8243992606284658\n"
     ]
    },
    {
     "name": "stderr",
     "output_type": "stream",
     "text": [
      "DEBUG flwr 2023-08-31 02:04:34,936 | server.py:236 | fit_round 42 received 2 results and 0 failures\n",
      "DEBUG flwr 2023-08-31 02:04:34,957 | server.py:173 | evaluate_round 42: strategy sampled 2 clients (out of 2)\n",
      "DEBUG flwr 2023-08-31 02:04:34,993 | server.py:187 | evaluate_round 42 received 2 results and 0 failures\n",
      "DEBUG flwr 2023-08-31 02:04:34,994 | server.py:222 | fit_round 43: strategy sampled 2 clients (out of 2)\n"
     ]
    },
    {
     "name": "stdout",
     "output_type": "stream",
     "text": [
      "agrregate_fit results list length is  2\n",
      "Saving round 42 aggregated_parameters...\n",
      "agrregate_evaluate results list length is  2\n",
      "server round is  42\n",
      "loss is  1.7393715341959335\n"
     ]
    },
    {
     "name": "stderr",
     "output_type": "stream",
     "text": [
      "DEBUG flwr 2023-08-31 02:04:41,923 | server.py:236 | fit_round 43 received 2 results and 0 failures\n",
      "DEBUG flwr 2023-08-31 02:04:41,953 | server.py:173 | evaluate_round 43: strategy sampled 2 clients (out of 2)\n",
      "DEBUG flwr 2023-08-31 02:04:41,987 | server.py:187 | evaluate_round 43 received 2 results and 0 failures\n",
      "DEBUG flwr 2023-08-31 02:04:41,988 | server.py:222 | fit_round 44: strategy sampled 2 clients (out of 2)\n"
     ]
    },
    {
     "name": "stdout",
     "output_type": "stream",
     "text": [
      "agrregate_fit results list length is  2\n",
      "Saving round 43 aggregated_parameters...\n",
      "agrregate_evaluate results list length is  2\n",
      "server round is  43\n",
      "loss is  1.756007393715342\n"
     ]
    },
    {
     "name": "stderr",
     "output_type": "stream",
     "text": [
      "DEBUG flwr 2023-08-31 02:04:48,854 | server.py:236 | fit_round 44 received 2 results and 0 failures\n",
      "DEBUG flwr 2023-08-31 02:04:48,885 | server.py:173 | evaluate_round 44: strategy sampled 2 clients (out of 2)\n",
      "DEBUG flwr 2023-08-31 02:04:48,929 | server.py:187 | evaluate_round 44 received 2 results and 0 failures\n",
      "DEBUG flwr 2023-08-31 02:04:48,930 | server.py:222 | fit_round 45: strategy sampled 2 clients (out of 2)\n"
     ]
    },
    {
     "name": "stdout",
     "output_type": "stream",
     "text": [
      "agrregate_fit results list length is  2\n",
      "Saving round 44 aggregated_parameters...\n",
      "agrregate_evaluate results list length is  2\n",
      "server round is  44\n",
      "loss is  1.7837338262476894\n"
     ]
    },
    {
     "name": "stderr",
     "output_type": "stream",
     "text": [
      "DEBUG flwr 2023-08-31 02:04:55,700 | server.py:236 | fit_round 45 received 2 results and 0 failures\n",
      "DEBUG flwr 2023-08-31 02:04:55,722 | server.py:173 | evaluate_round 45: strategy sampled 2 clients (out of 2)\n",
      "DEBUG flwr 2023-08-31 02:04:55,767 | server.py:187 | evaluate_round 45 received 2 results and 0 failures\n",
      "DEBUG flwr 2023-08-31 02:04:55,770 | server.py:222 | fit_round 46: strategy sampled 2 clients (out of 2)\n"
     ]
    },
    {
     "name": "stdout",
     "output_type": "stream",
     "text": [
      "agrregate_fit results list length is  2\n",
      "Saving round 45 aggregated_parameters...\n",
      "agrregate_evaluate results list length is  2\n",
      "server round is  45\n",
      "loss is  1.9205175600739373\n"
     ]
    },
    {
     "name": "stderr",
     "output_type": "stream",
     "text": [
      "DEBUG flwr 2023-08-31 02:05:02,703 | server.py:236 | fit_round 46 received 2 results and 0 failures\n",
      "DEBUG flwr 2023-08-31 02:05:02,724 | server.py:173 | evaluate_round 46: strategy sampled 2 clients (out of 2)\n",
      "DEBUG flwr 2023-08-31 02:05:02,759 | server.py:187 | evaluate_round 46 received 2 results and 0 failures\n",
      "DEBUG flwr 2023-08-31 02:05:02,760 | server.py:222 | fit_round 47: strategy sampled 2 clients (out of 2)\n"
     ]
    },
    {
     "name": "stdout",
     "output_type": "stream",
     "text": [
      "agrregate_fit results list length is  2\n",
      "Saving round 46 aggregated_parameters...\n",
      "agrregate_evaluate results list length is  2\n",
      "server round is  46\n",
      "loss is  1.6876155268022182\n"
     ]
    },
    {
     "name": "stderr",
     "output_type": "stream",
     "text": [
      "DEBUG flwr 2023-08-31 02:05:09,450 | server.py:236 | fit_round 47 received 2 results and 0 failures\n",
      "DEBUG flwr 2023-08-31 02:05:09,471 | server.py:173 | evaluate_round 47: strategy sampled 2 clients (out of 2)\n",
      "DEBUG flwr 2023-08-31 02:05:09,506 | server.py:187 | evaluate_round 47 received 2 results and 0 failures\n",
      "DEBUG flwr 2023-08-31 02:05:09,507 | server.py:222 | fit_round 48: strategy sampled 2 clients (out of 2)\n"
     ]
    },
    {
     "name": "stdout",
     "output_type": "stream",
     "text": [
      "agrregate_fit results list length is  2\n",
      "Saving round 47 aggregated_parameters...\n",
      "agrregate_evaluate results list length is  2\n",
      "server round is  47\n",
      "loss is  2.086876155268022\n"
     ]
    },
    {
     "name": "stderr",
     "output_type": "stream",
     "text": [
      "DEBUG flwr 2023-08-31 02:05:16,337 | server.py:236 | fit_round 48 received 2 results and 0 failures\n",
      "DEBUG flwr 2023-08-31 02:05:16,368 | server.py:173 | evaluate_round 48: strategy sampled 2 clients (out of 2)\n",
      "DEBUG flwr 2023-08-31 02:05:16,416 | server.py:187 | evaluate_round 48 received 2 results and 0 failures\n",
      "DEBUG flwr 2023-08-31 02:05:16,418 | server.py:222 | fit_round 49: strategy sampled 2 clients (out of 2)\n"
     ]
    },
    {
     "name": "stdout",
     "output_type": "stream",
     "text": [
      "agrregate_fit results list length is  2\n",
      "Saving round 48 aggregated_parameters...\n",
      "agrregate_evaluate results list length is  2\n",
      "server round is  48\n",
      "loss is  1.8983364140480592\n"
     ]
    },
    {
     "name": "stderr",
     "output_type": "stream",
     "text": [
      "DEBUG flwr 2023-08-31 02:05:23,419 | server.py:236 | fit_round 49 received 2 results and 0 failures\n",
      "DEBUG flwr 2023-08-31 02:05:23,440 | server.py:173 | evaluate_round 49: strategy sampled 2 clients (out of 2)\n",
      "DEBUG flwr 2023-08-31 02:05:23,484 | server.py:187 | evaluate_round 49 received 2 results and 0 failures\n",
      "DEBUG flwr 2023-08-31 02:05:23,485 | server.py:222 | fit_round 50: strategy sampled 2 clients (out of 2)\n"
     ]
    },
    {
     "name": "stdout",
     "output_type": "stream",
     "text": [
      "agrregate_fit results list length is  2\n",
      "Saving round 49 aggregated_parameters...\n",
      "agrregate_evaluate results list length is  2\n",
      "server round is  49\n",
      "loss is  1.6395563770794825\n"
     ]
    },
    {
     "name": "stderr",
     "output_type": "stream",
     "text": [
      "DEBUG flwr 2023-08-31 02:05:32,131 | server.py:236 | fit_round 50 received 2 results and 0 failures\n",
      "DEBUG flwr 2023-08-31 02:05:32,152 | server.py:173 | evaluate_round 50: strategy sampled 2 clients (out of 2)\n",
      "DEBUG flwr 2023-08-31 02:05:32,195 | server.py:187 | evaluate_round 50 received 2 results and 0 failures\n",
      "DEBUG flwr 2023-08-31 02:05:32,197 | server.py:222 | fit_round 51: strategy sampled 2 clients (out of 2)\n"
     ]
    },
    {
     "name": "stdout",
     "output_type": "stream",
     "text": [
      "agrregate_fit results list length is  2\n",
      "Saving round 50 aggregated_parameters...\n",
      "agrregate_evaluate results list length is  2\n",
      "server round is  50\n",
      "loss is  1.7079482439926064\n"
     ]
    },
    {
     "name": "stderr",
     "output_type": "stream",
     "text": [
      "DEBUG flwr 2023-08-31 02:05:39,604 | server.py:236 | fit_round 51 received 2 results and 0 failures\n",
      "DEBUG flwr 2023-08-31 02:05:39,626 | server.py:173 | evaluate_round 51: strategy sampled 2 clients (out of 2)\n",
      "DEBUG flwr 2023-08-31 02:05:39,665 | server.py:187 | evaluate_round 51 received 2 results and 0 failures\n",
      "DEBUG flwr 2023-08-31 02:05:39,668 | server.py:222 | fit_round 52: strategy sampled 2 clients (out of 2)\n"
     ]
    },
    {
     "name": "stdout",
     "output_type": "stream",
     "text": [
      "agrregate_fit results list length is  2\n",
      "Saving round 51 aggregated_parameters...\n",
      "agrregate_evaluate results list length is  2\n",
      "server round is  51\n",
      "loss is  1.698706099815157\n"
     ]
    },
    {
     "name": "stderr",
     "output_type": "stream",
     "text": [
      "DEBUG flwr 2023-08-31 02:05:47,438 | server.py:236 | fit_round 52 received 2 results and 0 failures\n",
      "DEBUG flwr 2023-08-31 02:05:47,461 | server.py:173 | evaluate_round 52: strategy sampled 2 clients (out of 2)\n",
      "DEBUG flwr 2023-08-31 02:05:47,504 | server.py:187 | evaluate_round 52 received 2 results and 0 failures\n",
      "DEBUG flwr 2023-08-31 02:05:47,508 | server.py:222 | fit_round 53: strategy sampled 2 clients (out of 2)\n"
     ]
    },
    {
     "name": "stdout",
     "output_type": "stream",
     "text": [
      "agrregate_fit results list length is  2\n",
      "Saving round 52 aggregated_parameters...\n",
      "agrregate_evaluate results list length is  2\n",
      "server round is  52\n",
      "loss is  1.8964879852125693\n"
     ]
    },
    {
     "name": "stderr",
     "output_type": "stream",
     "text": [
      "DEBUG flwr 2023-08-31 02:05:54,987 | server.py:236 | fit_round 53 received 2 results and 0 failures\n",
      "DEBUG flwr 2023-08-31 02:05:55,007 | server.py:173 | evaluate_round 53: strategy sampled 2 clients (out of 2)\n",
      "DEBUG flwr 2023-08-31 02:05:55,047 | server.py:187 | evaluate_round 53 received 2 results and 0 failures\n",
      "DEBUG flwr 2023-08-31 02:05:55,049 | server.py:222 | fit_round 54: strategy sampled 2 clients (out of 2)\n"
     ]
    },
    {
     "name": "stdout",
     "output_type": "stream",
     "text": [
      "agrregate_fit results list length is  2\n",
      "Saving round 53 aggregated_parameters...\n",
      "agrregate_evaluate results list length is  2\n",
      "server round is  53\n",
      "loss is  1.6598890942698705\n"
     ]
    },
    {
     "name": "stderr",
     "output_type": "stream",
     "text": [
      "DEBUG flwr 2023-08-31 02:06:03,117 | server.py:236 | fit_round 54 received 2 results and 0 failures\n",
      "DEBUG flwr 2023-08-31 02:06:03,151 | server.py:173 | evaluate_round 54: strategy sampled 2 clients (out of 2)\n",
      "DEBUG flwr 2023-08-31 02:06:03,215 | server.py:187 | evaluate_round 54 received 2 results and 0 failures\n",
      "DEBUG flwr 2023-08-31 02:06:03,218 | server.py:222 | fit_round 55: strategy sampled 2 clients (out of 2)\n"
     ]
    },
    {
     "name": "stdout",
     "output_type": "stream",
     "text": [
      "agrregate_fit results list length is  2\n",
      "Saving round 54 aggregated_parameters...\n",
      "agrregate_evaluate results list length is  2\n",
      "server round is  54\n",
      "loss is  1.7116451016635859\n"
     ]
    },
    {
     "name": "stderr",
     "output_type": "stream",
     "text": [
      "DEBUG flwr 2023-08-31 02:06:10,288 | server.py:236 | fit_round 55 received 2 results and 0 failures\n",
      "DEBUG flwr 2023-08-31 02:06:10,307 | server.py:173 | evaluate_round 55: strategy sampled 2 clients (out of 2)\n",
      "DEBUG flwr 2023-08-31 02:06:10,342 | server.py:187 | evaluate_round 55 received 2 results and 0 failures\n",
      "DEBUG flwr 2023-08-31 02:06:10,343 | server.py:222 | fit_round 56: strategy sampled 2 clients (out of 2)\n"
     ]
    },
    {
     "name": "stdout",
     "output_type": "stream",
     "text": [
      "agrregate_fit results list length is  2\n",
      "Saving round 55 aggregated_parameters...\n",
      "agrregate_evaluate results list length is  2\n",
      "server round is  55\n",
      "loss is  1.6709796672828097\n"
     ]
    },
    {
     "name": "stderr",
     "output_type": "stream",
     "text": [
      "DEBUG flwr 2023-08-31 02:06:17,172 | server.py:236 | fit_round 56 received 2 results and 0 failures\n",
      "DEBUG flwr 2023-08-31 02:06:17,193 | server.py:173 | evaluate_round 56: strategy sampled 2 clients (out of 2)\n",
      "DEBUG flwr 2023-08-31 02:06:17,237 | server.py:187 | evaluate_round 56 received 2 results and 0 failures\n",
      "DEBUG flwr 2023-08-31 02:06:17,239 | server.py:222 | fit_round 57: strategy sampled 2 clients (out of 2)\n"
     ]
    },
    {
     "name": "stdout",
     "output_type": "stream",
     "text": [
      "agrregate_fit results list length is  2\n",
      "Saving round 56 aggregated_parameters...\n",
      "agrregate_evaluate results list length is  2\n",
      "server round is  56\n",
      "loss is  1.811460258780037\n"
     ]
    },
    {
     "name": "stderr",
     "output_type": "stream",
     "text": [
      "DEBUG flwr 2023-08-31 02:06:24,339 | server.py:236 | fit_round 57 received 2 results and 0 failures\n",
      "DEBUG flwr 2023-08-31 02:06:24,358 | server.py:173 | evaluate_round 57: strategy sampled 2 clients (out of 2)\n",
      "DEBUG flwr 2023-08-31 02:06:24,392 | server.py:187 | evaluate_round 57 received 2 results and 0 failures\n",
      "DEBUG flwr 2023-08-31 02:06:24,394 | server.py:222 | fit_round 58: strategy sampled 2 clients (out of 2)\n"
     ]
    },
    {
     "name": "stdout",
     "output_type": "stream",
     "text": [
      "agrregate_fit results list length is  2\n",
      "Saving round 57 aggregated_parameters...\n",
      "agrregate_evaluate results list length is  2\n",
      "server round is  57\n",
      "loss is  1.6728280961182995\n"
     ]
    },
    {
     "name": "stderr",
     "output_type": "stream",
     "text": [
      "DEBUG flwr 2023-08-31 02:06:31,146 | server.py:236 | fit_round 58 received 2 results and 0 failures\n",
      "DEBUG flwr 2023-08-31 02:06:31,172 | server.py:173 | evaluate_round 58: strategy sampled 2 clients (out of 2)\n",
      "DEBUG flwr 2023-08-31 02:06:31,213 | server.py:187 | evaluate_round 58 received 2 results and 0 failures\n",
      "DEBUG flwr 2023-08-31 02:06:31,214 | server.py:222 | fit_round 59: strategy sampled 2 clients (out of 2)\n"
     ]
    },
    {
     "name": "stdout",
     "output_type": "stream",
     "text": [
      "agrregate_fit results list length is  2\n",
      "Saving round 58 aggregated_parameters...\n",
      "agrregate_evaluate results list length is  2\n",
      "server round is  58\n",
      "loss is  1.7634011090573012\n"
     ]
    },
    {
     "name": "stderr",
     "output_type": "stream",
     "text": [
      "DEBUG flwr 2023-08-31 02:06:38,188 | server.py:236 | fit_round 59 received 2 results and 0 failures\n",
      "DEBUG flwr 2023-08-31 02:06:38,230 | server.py:173 | evaluate_round 59: strategy sampled 2 clients (out of 2)\n",
      "DEBUG flwr 2023-08-31 02:06:38,275 | server.py:187 | evaluate_round 59 received 2 results and 0 failures\n",
      "DEBUG flwr 2023-08-31 02:06:38,278 | server.py:222 | fit_round 60: strategy sampled 2 clients (out of 2)\n"
     ]
    },
    {
     "name": "stdout",
     "output_type": "stream",
     "text": [
      "agrregate_fit results list length is  2\n",
      "Saving round 59 aggregated_parameters...\n",
      "agrregate_evaluate results list length is  2\n",
      "server round is  59\n",
      "loss is  1.8077634011090573\n"
     ]
    },
    {
     "name": "stderr",
     "output_type": "stream",
     "text": [
      "DEBUG flwr 2023-08-31 02:06:45,134 | server.py:236 | fit_round 60 received 2 results and 0 failures\n",
      "DEBUG flwr 2023-08-31 02:06:45,152 | server.py:173 | evaluate_round 60: strategy sampled 2 clients (out of 2)\n",
      "DEBUG flwr 2023-08-31 02:06:45,195 | server.py:187 | evaluate_round 60 received 2 results and 0 failures\n",
      "INFO flwr 2023-08-31 02:06:45,196 | server.py:153 | FL finished in 425.3230099999928\n",
      "INFO flwr 2023-08-31 02:06:45,197 | app.py:225 | app_fit: losses_distributed [(1, 3.0406654343807764), (2, 3.142329020332717), (3, 2.765249537892791), (4, 2.467652495378928), (5, 2.401109057301294), (6, 2.3622920517560075), (7, 2.700554528650647), (8, 2.5397412199630316), (9, 2.5841035120147873), (10, 2.7153419593345656), (11, 2.4861367837338264), (12, 2.6432532347504623), (13, 2.1460258780036967), (14, 2.4417744916820703), (15, 2.410351201478743), (16, 2.048059149722736), (17, 2.33456561922366), (18, 2.3937153419593344), (19, 2.325323475046211), (20, 2.412199630314233), (21, 2.086876155268022), (22, 1.8428835489833642), (23, 2.2513863216266174), (24, 1.9057301293900184), (25, 2.0646950092421443), (26, 1.9630314232902033), (27, 2.081330868761553), (28, 2.3364140480591495), (29, 2.0591497227356745), (30, 1.9131238447319778), (31, 1.8576709796672828), (32, 2.11090573012939), (33, 2.129390018484288), (34, 2.033271719038817), (35, 2.312384473197782), (36, 1.7153419593345656), (37, 1.8391866913123844), (38, 1.8798521256931608), (39, 1.8299445471349354), (40, 1.935304990757856), (41, 1.8243992606284658), (42, 1.7393715341959335), (43, 1.756007393715342), (44, 1.7837338262476894), (45, 1.9205175600739373), (46, 1.6876155268022182), (47, 2.086876155268022), (48, 1.8983364140480592), (49, 1.6395563770794825), (50, 1.7079482439926064), (51, 1.698706099815157), (52, 1.8964879852125693), (53, 1.6598890942698705), (54, 1.7116451016635859), (55, 1.6709796672828097), (56, 1.811460258780037), (57, 1.6728280961182995), (58, 1.7634011090573012), (59, 1.8077634011090573), (60, 1.7264325323475047)]\n",
      "INFO flwr 2023-08-31 02:06:45,198 | app.py:226 | app_fit: metrics_distributed_fit {}\n",
      "INFO flwr 2023-08-31 02:06:45,199 | app.py:227 | app_fit: metrics_distributed {'mse': [(1, 6.081330868761553), (2, 6.284658040665434), (3, 5.530499075785582), (4, 4.935304990757856), (5, 4.802218114602588), (6, 4.724584103512015), (7, 5.401109057301294), (8, 5.079482439926063), (9, 5.1682070240295745), (10, 5.430683918669131), (11, 4.972273567467653), (12, 5.2865064695009245), (13, 4.292051756007393), (14, 4.883548983364141), (15, 4.820702402957486), (16, 4.096118299445472), (17, 4.66913123844732), (18, 4.787430683918669), (19, 4.650646950092422), (20, 4.824399260628466), (21, 4.173752310536044), (22, 3.6857670979667283), (23, 4.502772643253235), (24, 3.811460258780037), (25, 4.129390018484289), (26, 3.9260628465804066), (27, 4.162661737523106), (28, 4.672828096118299), (29, 4.118299445471349), (30, 3.8262476894639557), (31, 3.7153419593345656), (32, 4.22181146025878), (33, 4.258780036968576), (34, 4.066543438077634), (35, 4.624768946395564), (36, 3.430683918669131), (37, 3.678373382624769), (38, 3.7597042513863217), (39, 3.6598890942698707), (40, 3.870609981515712), (41, 3.6487985212569316), (42, 3.478743068391867), (43, 3.512014787430684), (44, 3.567467652495379), (45, 3.8410351201478745), (46, 3.3752310536044363), (47, 4.173752310536044), (48, 3.7966728280961184), (49, 3.279112754158965), (50, 3.4158964879852127), (51, 3.397412199630314), (52, 3.7929759704251387), (53, 3.319778188539741), (54, 3.4232902033271717), (55, 3.3419593345656193), (56, 3.622920517560074), (57, 3.345656192236599), (58, 3.5268022181146024), (59, 3.6155268022181146), (60, 3.4528650646950094)]}\n",
      "INFO flwr 2023-08-31 02:06:45,199 | app.py:228 | app_fit: losses_centralized []\n",
      "INFO flwr 2023-08-31 02:06:45,200 | app.py:229 | app_fit: metrics_centralized {}\n"
     ]
    },
    {
     "name": "stdout",
     "output_type": "stream",
     "text": [
      "agrregate_fit results list length is  2\n",
      "Saving round 60 aggregated_parameters...\n",
      "agrregate_evaluate results list length is  2\n",
      "server round is  60\n",
      "loss is  1.7264325323475047\n",
      "History (loss, distributed):\n",
      "\tround 1: 3.0406654343807764\n",
      "\tround 2: 3.142329020332717\n",
      "\tround 3: 2.765249537892791\n",
      "\tround 4: 2.467652495378928\n",
      "\tround 5: 2.401109057301294\n",
      "\tround 6: 2.3622920517560075\n",
      "\tround 7: 2.700554528650647\n",
      "\tround 8: 2.5397412199630316\n",
      "\tround 9: 2.5841035120147873\n",
      "\tround 10: 2.7153419593345656\n",
      "\tround 11: 2.4861367837338264\n",
      "\tround 12: 2.6432532347504623\n",
      "\tround 13: 2.1460258780036967\n",
      "\tround 14: 2.4417744916820703\n",
      "\tround 15: 2.410351201478743\n",
      "\tround 16: 2.048059149722736\n",
      "\tround 17: 2.33456561922366\n",
      "\tround 18: 2.3937153419593344\n",
      "\tround 19: 2.325323475046211\n",
      "\tround 20: 2.412199630314233\n",
      "\tround 21: 2.086876155268022\n",
      "\tround 22: 1.8428835489833642\n",
      "\tround 23: 2.2513863216266174\n",
      "\tround 24: 1.9057301293900184\n",
      "\tround 25: 2.0646950092421443\n",
      "\tround 26: 1.9630314232902033\n",
      "\tround 27: 2.081330868761553\n",
      "\tround 28: 2.3364140480591495\n",
      "\tround 29: 2.0591497227356745\n",
      "\tround 30: 1.9131238447319778\n",
      "\tround 31: 1.8576709796672828\n",
      "\tround 32: 2.11090573012939\n",
      "\tround 33: 2.129390018484288\n",
      "\tround 34: 2.033271719038817\n",
      "\tround 35: 2.312384473197782\n",
      "\tround 36: 1.7153419593345656\n",
      "\tround 37: 1.8391866913123844\n",
      "\tround 38: 1.8798521256931608\n",
      "\tround 39: 1.8299445471349354\n",
      "\tround 40: 1.935304990757856\n",
      "\tround 41: 1.8243992606284658\n",
      "\tround 42: 1.7393715341959335\n",
      "\tround 43: 1.756007393715342\n",
      "\tround 44: 1.7837338262476894\n",
      "\tround 45: 1.9205175600739373\n",
      "\tround 46: 1.6876155268022182\n",
      "\tround 47: 2.086876155268022\n",
      "\tround 48: 1.8983364140480592\n",
      "\tround 49: 1.6395563770794825\n",
      "\tround 50: 1.7079482439926064\n",
      "\tround 51: 1.698706099815157\n",
      "\tround 52: 1.8964879852125693\n",
      "\tround 53: 1.6598890942698705\n",
      "\tround 54: 1.7116451016635859\n",
      "\tround 55: 1.6709796672828097\n",
      "\tround 56: 1.811460258780037\n",
      "\tround 57: 1.6728280961182995\n",
      "\tround 58: 1.7634011090573012\n",
      "\tround 59: 1.8077634011090573\n",
      "\tround 60: 1.7264325323475047\n",
      "History (metrics, distributed, evaluate):\n",
      "{'mse': [(1, 6.081330868761553), (2, 6.284658040665434), (3, 5.530499075785582), (4, 4.935304990757856), (5, 4.802218114602588), (6, 4.724584103512015), (7, 5.401109057301294), (8, 5.079482439926063), (9, 5.1682070240295745), (10, 5.430683918669131), (11, 4.972273567467653), (12, 5.2865064695009245), (13, 4.292051756007393), (14, 4.883548983364141), (15, 4.820702402957486), (16, 4.096118299445472), (17, 4.66913123844732), (18, 4.787430683918669), (19, 4.650646950092422), (20, 4.824399260628466), (21, 4.173752310536044), (22, 3.6857670979667283), (23, 4.502772643253235), (24, 3.811460258780037), (25, 4.129390018484289), (26, 3.9260628465804066), (27, 4.162661737523106), (28, 4.672828096118299), (29, 4.118299445471349), (30, 3.8262476894639557), (31, 3.7153419593345656), (32, 4.22181146025878), (33, 4.258780036968576), (34, 4.066543438077634), (35, 4.624768946395564), (36, 3.430683918669131), (37, 3.678373382624769), (38, 3.7597042513863217), (39, 3.6598890942698707), (40, 3.870609981515712), (41, 3.6487985212569316), (42, 3.478743068391867), (43, 3.512014787430684), (44, 3.567467652495379), (45, 3.8410351201478745), (46, 3.3752310536044363), (47, 4.173752310536044), (48, 3.7966728280961184), (49, 3.279112754158965), (50, 3.4158964879852127), (51, 3.397412199630314), (52, 3.7929759704251387), (53, 3.319778188539741), (54, 3.4232902033271717), (55, 3.3419593345656193), (56, 3.622920517560074), (57, 3.345656192236599), (58, 3.5268022181146024), (59, 3.6155268022181146), (60, 3.4528650646950094)]}\n",
      "[(1, 3.0406654343807764), (2, 3.142329020332717), (3, 2.765249537892791), (4, 2.467652495378928), (5, 2.401109057301294), (6, 2.3622920517560075), (7, 2.700554528650647), (8, 2.5397412199630316), (9, 2.5841035120147873), (10, 2.7153419593345656), (11, 2.4861367837338264), (12, 2.6432532347504623), (13, 2.1460258780036967), (14, 2.4417744916820703), (15, 2.410351201478743), (16, 2.048059149722736), (17, 2.33456561922366), (18, 2.3937153419593344), (19, 2.325323475046211), (20, 2.412199630314233), (21, 2.086876155268022), (22, 1.8428835489833642), (23, 2.2513863216266174), (24, 1.9057301293900184), (25, 2.0646950092421443), (26, 1.9630314232902033), (27, 2.081330868761553), (28, 2.3364140480591495), (29, 2.0591497227356745), (30, 1.9131238447319778), (31, 1.8576709796672828), (32, 2.11090573012939), (33, 2.129390018484288), (34, 2.033271719038817), (35, 2.312384473197782), (36, 1.7153419593345656), (37, 1.8391866913123844), (38, 1.8798521256931608), (39, 1.8299445471349354), (40, 1.935304990757856), (41, 1.8243992606284658), (42, 1.7393715341959335), (43, 1.756007393715342), (44, 1.7837338262476894), (45, 1.9205175600739373), (46, 1.6876155268022182), (47, 2.086876155268022), (48, 1.8983364140480592), (49, 1.6395563770794825), (50, 1.7079482439926064), (51, 1.698706099815157), (52, 1.8964879852125693), (53, 1.6598890942698705), (54, 1.7116451016635859), (55, 1.6709796672828097), (56, 1.811460258780037), (57, 1.6728280961182995), (58, 1.7634011090573012), (59, 1.8077634011090573), (60, 1.7264325323475047)]\n",
      "Fold 2:\n",
      "split [0.5, 0.5]\n",
      "time 0:07:26.153898\n",
      "mse [1.7264325323475047]\n",
      "auc [0.9072453861927546]\n"
     ]
    }
   ],
   "source": [
    "split = [0.5, 0.5]\n",
    "do_fl(split)"
   ],
   "metadata": {
    "collapsed": false,
    "ExecuteTime": {
     "end_time": "2023-08-31T01:06:45.300237900Z",
     "start_time": "2023-08-31T00:59:19.110436400Z"
    }
   }
  },
  {
   "cell_type": "code",
   "execution_count": 8,
   "outputs": [
    {
     "name": "stderr",
     "output_type": "stream",
     "text": [
      "INFO flwr 2023-08-31 02:06:45,321 | app.py:145 | Starting Flower simulation, config: ServerConfig(num_rounds=60, round_timeout=None)\n"
     ]
    },
    {
     "name": "stdout",
     "output_type": "stream",
     "text": [
      "<class 'torch.Tensor'>\n",
      "<class 'torch.Tensor'>\n",
      "Fold 1:\n",
      "Client 0 trainset shape torch.Size([3460, 22])\n",
      "Client 1 trainset shape torch.Size([1944, 22])\n",
      "FL started training on cpu\n",
      "Number of available GPUs: 0\n"
     ]
    },
    {
     "name": "stderr",
     "output_type": "stream",
     "text": [
      "2023-08-31 02:06:54,147\tINFO worker.py:1627 -- Started a local Ray instance. View the dashboard at \u001B[1m\u001B[32m127.0.0.1:8267 \u001B[39m\u001B[22m\n",
      "INFO flwr 2023-08-31 02:07:01,736 | app.py:179 | Flower VCE: Ray initialized with resources: {'node:127.0.0.1': 1.0, 'object_store_memory': 905564160.0, 'memory': 1811128320.0, 'GPU': 1.0, 'CPU': 8.0}\n",
      "INFO flwr 2023-08-31 02:07:01,738 | server.py:89 | Initializing global parameters\n",
      "INFO flwr 2023-08-31 02:07:01,741 | server.py:276 | Requesting initial parameters from one random client\n",
      "INFO flwr 2023-08-31 02:07:05,218 | server.py:280 | Received initial parameters from one random client\n",
      "INFO flwr 2023-08-31 02:07:05,219 | server.py:91 | Evaluating initial parameters\n",
      "INFO flwr 2023-08-31 02:07:05,221 | server.py:104 | FL starting\n",
      "DEBUG flwr 2023-08-31 02:07:05,221 | server.py:222 | fit_round 1: strategy sampled 2 clients (out of 2)\n",
      "DEBUG flwr 2023-08-31 02:07:14,916 | server.py:236 | fit_round 1 received 2 results and 0 failures\n",
      "WARNING flwr 2023-08-31 02:07:14,924 | fedavg.py:242 | No fit_metrics_aggregation_fn provided\n",
      "DEBUG flwr 2023-08-31 02:07:14,935 | server.py:173 | evaluate_round 1: strategy sampled 2 clients (out of 2)\n",
      "DEBUG flwr 2023-08-31 02:07:14,977 | server.py:187 | evaluate_round 1 received 2 results and 0 failures\n",
      "DEBUG flwr 2023-08-31 02:07:14,979 | server.py:222 | fit_round 2: strategy sampled 2 clients (out of 2)\n"
     ]
    },
    {
     "name": "stdout",
     "output_type": "stream",
     "text": [
      "agrregate_fit results list length is  2\n",
      "Saving round 1 aggregated_parameters...\n",
      "agrregate_evaluate results list length is  2\n",
      "server round is  1\n",
      "loss is  4.844731977818854\n"
     ]
    },
    {
     "name": "stderr",
     "output_type": "stream",
     "text": [
      "DEBUG flwr 2023-08-31 02:07:22,042 | server.py:236 | fit_round 2 received 2 results and 0 failures\n",
      "DEBUG flwr 2023-08-31 02:07:22,065 | server.py:173 | evaluate_round 2: strategy sampled 2 clients (out of 2)\n",
      "DEBUG flwr 2023-08-31 02:07:22,147 | server.py:187 | evaluate_round 2 received 2 results and 0 failures\n",
      "DEBUG flwr 2023-08-31 02:07:22,148 | server.py:222 | fit_round 3: strategy sampled 2 clients (out of 2)\n"
     ]
    },
    {
     "name": "stdout",
     "output_type": "stream",
     "text": [
      "agrregate_fit results list length is  2\n",
      "Saving round 2 aggregated_parameters...\n",
      "agrregate_evaluate results list length is  2\n",
      "server round is  2\n",
      "loss is  2.7634011090573014\n"
     ]
    },
    {
     "name": "stderr",
     "output_type": "stream",
     "text": [
      "DEBUG flwr 2023-08-31 02:07:29,524 | server.py:236 | fit_round 3 received 2 results and 0 failures\n",
      "DEBUG flwr 2023-08-31 02:07:29,542 | server.py:173 | evaluate_round 3: strategy sampled 2 clients (out of 2)\n",
      "DEBUG flwr 2023-08-31 02:07:29,579 | server.py:187 | evaluate_round 3 received 2 results and 0 failures\n",
      "DEBUG flwr 2023-08-31 02:07:29,581 | server.py:222 | fit_round 4: strategy sampled 2 clients (out of 2)\n"
     ]
    },
    {
     "name": "stdout",
     "output_type": "stream",
     "text": [
      "agrregate_fit results list length is  2\n",
      "Saving round 3 aggregated_parameters...\n",
      "agrregate_evaluate results list length is  2\n",
      "server round is  3\n",
      "loss is  2.6303142329020335\n"
     ]
    },
    {
     "name": "stderr",
     "output_type": "stream",
     "text": [
      "DEBUG flwr 2023-08-31 02:07:38,458 | server.py:236 | fit_round 4 received 2 results and 0 failures\n",
      "DEBUG flwr 2023-08-31 02:07:38,490 | server.py:173 | evaluate_round 4: strategy sampled 2 clients (out of 2)\n",
      "DEBUG flwr 2023-08-31 02:07:38,545 | server.py:187 | evaluate_round 4 received 2 results and 0 failures\n",
      "DEBUG flwr 2023-08-31 02:07:38,548 | server.py:222 | fit_round 5: strategy sampled 2 clients (out of 2)\n"
     ]
    },
    {
     "name": "stdout",
     "output_type": "stream",
     "text": [
      "agrregate_fit results list length is  2\n",
      "Saving round 4 aggregated_parameters...\n",
      "agrregate_evaluate results list length is  2\n",
      "server round is  4\n",
      "loss is  2.866913123844732\n"
     ]
    },
    {
     "name": "stderr",
     "output_type": "stream",
     "text": [
      "DEBUG flwr 2023-08-31 02:07:48,428 | server.py:236 | fit_round 5 received 2 results and 0 failures\n",
      "DEBUG flwr 2023-08-31 02:07:48,455 | server.py:173 | evaluate_round 5: strategy sampled 2 clients (out of 2)\n",
      "DEBUG flwr 2023-08-31 02:07:48,511 | server.py:187 | evaluate_round 5 received 2 results and 0 failures\n",
      "DEBUG flwr 2023-08-31 02:07:48,514 | server.py:222 | fit_round 6: strategy sampled 2 clients (out of 2)\n"
     ]
    },
    {
     "name": "stdout",
     "output_type": "stream",
     "text": [
      "agrregate_fit results list length is  2\n",
      "Saving round 5 aggregated_parameters...\n",
      "agrregate_evaluate results list length is  2\n",
      "server round is  5\n",
      "loss is  2.536044362292052\n"
     ]
    },
    {
     "name": "stderr",
     "output_type": "stream",
     "text": [
      "DEBUG flwr 2023-08-31 02:07:56,899 | server.py:236 | fit_round 6 received 2 results and 0 failures\n",
      "DEBUG flwr 2023-08-31 02:07:56,918 | server.py:173 | evaluate_round 6: strategy sampled 2 clients (out of 2)\n",
      "DEBUG flwr 2023-08-31 02:07:56,953 | server.py:187 | evaluate_round 6 received 2 results and 0 failures\n",
      "DEBUG flwr 2023-08-31 02:07:56,956 | server.py:222 | fit_round 7: strategy sampled 2 clients (out of 2)\n"
     ]
    },
    {
     "name": "stdout",
     "output_type": "stream",
     "text": [
      "agrregate_fit results list length is  2\n",
      "Saving round 6 aggregated_parameters...\n",
      "agrregate_evaluate results list length is  2\n",
      "server round is  6\n",
      "loss is  2.7837338262476896\n"
     ]
    },
    {
     "name": "stderr",
     "output_type": "stream",
     "text": [
      "DEBUG flwr 2023-08-31 02:08:05,191 | server.py:236 | fit_round 7 received 2 results and 0 failures\n",
      "DEBUG flwr 2023-08-31 02:08:05,212 | server.py:173 | evaluate_round 7: strategy sampled 2 clients (out of 2)\n",
      "DEBUG flwr 2023-08-31 02:08:05,255 | server.py:187 | evaluate_round 7 received 2 results and 0 failures\n",
      "DEBUG flwr 2023-08-31 02:08:05,257 | server.py:222 | fit_round 8: strategy sampled 2 clients (out of 2)\n"
     ]
    },
    {
     "name": "stdout",
     "output_type": "stream",
     "text": [
      "agrregate_fit results list length is  2\n",
      "Saving round 7 aggregated_parameters...\n",
      "agrregate_evaluate results list length is  2\n",
      "server round is  7\n",
      "loss is  2.4842883548983363\n"
     ]
    },
    {
     "name": "stderr",
     "output_type": "stream",
     "text": [
      "DEBUG flwr 2023-08-31 02:08:13,609 | server.py:236 | fit_round 8 received 2 results and 0 failures\n",
      "DEBUG flwr 2023-08-31 02:08:13,627 | server.py:173 | evaluate_round 8: strategy sampled 2 clients (out of 2)\n",
      "DEBUG flwr 2023-08-31 02:08:13,664 | server.py:187 | evaluate_round 8 received 2 results and 0 failures\n",
      "DEBUG flwr 2023-08-31 02:08:13,666 | server.py:222 | fit_round 9: strategy sampled 2 clients (out of 2)\n"
     ]
    },
    {
     "name": "stdout",
     "output_type": "stream",
     "text": [
      "agrregate_fit results list length is  2\n",
      "Saving round 8 aggregated_parameters...\n",
      "agrregate_evaluate results list length is  2\n",
      "server round is  8\n",
      "loss is  2.3992606284658042\n"
     ]
    },
    {
     "name": "stderr",
     "output_type": "stream",
     "text": [
      "DEBUG flwr 2023-08-31 02:08:21,965 | server.py:236 | fit_round 9 received 2 results and 0 failures\n",
      "DEBUG flwr 2023-08-31 02:08:21,984 | server.py:173 | evaluate_round 9: strategy sampled 2 clients (out of 2)\n",
      "DEBUG flwr 2023-08-31 02:08:22,025 | server.py:187 | evaluate_round 9 received 2 results and 0 failures\n",
      "DEBUG flwr 2023-08-31 02:08:22,027 | server.py:222 | fit_round 10: strategy sampled 2 clients (out of 2)\n"
     ]
    },
    {
     "name": "stdout",
     "output_type": "stream",
     "text": [
      "agrregate_fit results list length is  2\n",
      "Saving round 9 aggregated_parameters...\n",
      "agrregate_evaluate results list length is  2\n",
      "server round is  9\n",
      "loss is  2.2051756007393717\n"
     ]
    },
    {
     "name": "stderr",
     "output_type": "stream",
     "text": [
      "DEBUG flwr 2023-08-31 02:08:30,362 | server.py:236 | fit_round 10 received 2 results and 0 failures\n",
      "DEBUG flwr 2023-08-31 02:08:30,384 | server.py:173 | evaluate_round 10: strategy sampled 2 clients (out of 2)\n",
      "DEBUG flwr 2023-08-31 02:08:30,422 | server.py:187 | evaluate_round 10 received 2 results and 0 failures\n",
      "DEBUG flwr 2023-08-31 02:08:30,424 | server.py:222 | fit_round 11: strategy sampled 2 clients (out of 2)\n"
     ]
    },
    {
     "name": "stdout",
     "output_type": "stream",
     "text": [
      "agrregate_fit results list length is  2\n",
      "Saving round 10 aggregated_parameters...\n",
      "agrregate_evaluate results list length is  2\n",
      "server round is  10\n",
      "loss is  2.4805914972273566\n"
     ]
    },
    {
     "name": "stderr",
     "output_type": "stream",
     "text": [
      "DEBUG flwr 2023-08-31 02:08:38,733 | server.py:236 | fit_round 11 received 2 results and 0 failures\n",
      "DEBUG flwr 2023-08-31 02:08:38,755 | server.py:173 | evaluate_round 11: strategy sampled 2 clients (out of 2)\n",
      "DEBUG flwr 2023-08-31 02:08:38,797 | server.py:187 | evaluate_round 11 received 2 results and 0 failures\n",
      "DEBUG flwr 2023-08-31 02:08:38,798 | server.py:222 | fit_round 12: strategy sampled 2 clients (out of 2)\n"
     ]
    },
    {
     "name": "stdout",
     "output_type": "stream",
     "text": [
      "agrregate_fit results list length is  2\n",
      "Saving round 11 aggregated_parameters...\n",
      "agrregate_evaluate results list length is  2\n",
      "server round is  11\n",
      "loss is  2.3475046210720887\n"
     ]
    },
    {
     "name": "stderr",
     "output_type": "stream",
     "text": [
      "DEBUG flwr 2023-08-31 02:08:46,991 | server.py:236 | fit_round 12 received 2 results and 0 failures\n",
      "DEBUG flwr 2023-08-31 02:08:47,009 | server.py:173 | evaluate_round 12: strategy sampled 2 clients (out of 2)\n",
      "DEBUG flwr 2023-08-31 02:08:47,050 | server.py:187 | evaluate_round 12 received 2 results and 0 failures\n",
      "DEBUG flwr 2023-08-31 02:08:47,051 | server.py:222 | fit_round 13: strategy sampled 2 clients (out of 2)\n"
     ]
    },
    {
     "name": "stdout",
     "output_type": "stream",
     "text": [
      "agrregate_fit results list length is  2\n",
      "Saving round 12 aggregated_parameters...\n",
      "agrregate_evaluate results list length is  2\n",
      "server round is  12\n",
      "loss is  2.412199630314233\n"
     ]
    },
    {
     "name": "stderr",
     "output_type": "stream",
     "text": [
      "DEBUG flwr 2023-08-31 02:08:55,280 | server.py:236 | fit_round 13 received 2 results and 0 failures\n",
      "DEBUG flwr 2023-08-31 02:08:55,297 | server.py:173 | evaluate_round 13: strategy sampled 2 clients (out of 2)\n",
      "DEBUG flwr 2023-08-31 02:08:55,340 | server.py:187 | evaluate_round 13 received 2 results and 0 failures\n",
      "DEBUG flwr 2023-08-31 02:08:55,343 | server.py:222 | fit_round 14: strategy sampled 2 clients (out of 2)\n"
     ]
    },
    {
     "name": "stdout",
     "output_type": "stream",
     "text": [
      "agrregate_fit results list length is  2\n",
      "Saving round 13 aggregated_parameters...\n",
      "agrregate_evaluate results list length is  2\n",
      "server round is  13\n",
      "loss is  2.765249537892791\n"
     ]
    },
    {
     "name": "stderr",
     "output_type": "stream",
     "text": [
      "DEBUG flwr 2023-08-31 02:09:03,681 | server.py:236 | fit_round 14 received 2 results and 0 failures\n",
      "DEBUG flwr 2023-08-31 02:09:03,701 | server.py:173 | evaluate_round 14: strategy sampled 2 clients (out of 2)\n",
      "DEBUG flwr 2023-08-31 02:09:03,742 | server.py:187 | evaluate_round 14 received 2 results and 0 failures\n",
      "DEBUG flwr 2023-08-31 02:09:03,743 | server.py:222 | fit_round 15: strategy sampled 2 clients (out of 2)\n"
     ]
    },
    {
     "name": "stdout",
     "output_type": "stream",
     "text": [
      "agrregate_fit results list length is  2\n",
      "Saving round 14 aggregated_parameters...\n",
      "agrregate_evaluate results list length is  2\n",
      "server round is  14\n",
      "loss is  2.5175600739371533\n"
     ]
    },
    {
     "name": "stderr",
     "output_type": "stream",
     "text": [
      "DEBUG flwr 2023-08-31 02:09:12,396 | server.py:236 | fit_round 15 received 2 results and 0 failures\n",
      "DEBUG flwr 2023-08-31 02:09:12,414 | server.py:173 | evaluate_round 15: strategy sampled 2 clients (out of 2)\n",
      "DEBUG flwr 2023-08-31 02:09:12,446 | server.py:187 | evaluate_round 15 received 2 results and 0 failures\n",
      "DEBUG flwr 2023-08-31 02:09:12,448 | server.py:222 | fit_round 16: strategy sampled 2 clients (out of 2)\n"
     ]
    },
    {
     "name": "stdout",
     "output_type": "stream",
     "text": [
      "agrregate_fit results list length is  2\n",
      "Saving round 15 aggregated_parameters...\n",
      "agrregate_evaluate results list length is  2\n",
      "server round is  15\n",
      "loss is  2.1072088724584104\n"
     ]
    },
    {
     "name": "stderr",
     "output_type": "stream",
     "text": [
      "DEBUG flwr 2023-08-31 02:09:20,788 | server.py:236 | fit_round 16 received 2 results and 0 failures\n",
      "DEBUG flwr 2023-08-31 02:09:20,812 | server.py:173 | evaluate_round 16: strategy sampled 2 clients (out of 2)\n",
      "DEBUG flwr 2023-08-31 02:09:20,848 | server.py:187 | evaluate_round 16 received 2 results and 0 failures\n",
      "DEBUG flwr 2023-08-31 02:09:20,850 | server.py:222 | fit_round 17: strategy sampled 2 clients (out of 2)\n"
     ]
    },
    {
     "name": "stdout",
     "output_type": "stream",
     "text": [
      "agrregate_fit results list length is  2\n",
      "Saving round 16 aggregated_parameters...\n",
      "agrregate_evaluate results list length is  2\n",
      "server round is  16\n",
      "loss is  2.1275415896487986\n"
     ]
    },
    {
     "name": "stderr",
     "output_type": "stream",
     "text": [
      "DEBUG flwr 2023-08-31 02:09:29,323 | server.py:236 | fit_round 17 received 2 results and 0 failures\n",
      "DEBUG flwr 2023-08-31 02:09:29,340 | server.py:173 | evaluate_round 17: strategy sampled 2 clients (out of 2)\n",
      "DEBUG flwr 2023-08-31 02:09:29,377 | server.py:187 | evaluate_round 17 received 2 results and 0 failures\n",
      "DEBUG flwr 2023-08-31 02:09:29,379 | server.py:222 | fit_round 18: strategy sampled 2 clients (out of 2)\n"
     ]
    },
    {
     "name": "stdout",
     "output_type": "stream",
     "text": [
      "agrregate_fit results list length is  2\n",
      "Saving round 17 aggregated_parameters...\n",
      "agrregate_evaluate results list length is  2\n",
      "server round is  17\n",
      "loss is  2.2033271719038816\n"
     ]
    },
    {
     "name": "stderr",
     "output_type": "stream",
     "text": [
      "DEBUG flwr 2023-08-31 02:09:38,154 | server.py:236 | fit_round 18 received 2 results and 0 failures\n",
      "DEBUG flwr 2023-08-31 02:09:38,172 | server.py:173 | evaluate_round 18: strategy sampled 2 clients (out of 2)\n",
      "DEBUG flwr 2023-08-31 02:09:38,214 | server.py:187 | evaluate_round 18 received 2 results and 0 failures\n",
      "DEBUG flwr 2023-08-31 02:09:38,216 | server.py:222 | fit_round 19: strategy sampled 2 clients (out of 2)\n"
     ]
    },
    {
     "name": "stdout",
     "output_type": "stream",
     "text": [
      "agrregate_fit results list length is  2\n",
      "Saving round 18 aggregated_parameters...\n",
      "agrregate_evaluate results list length is  2\n",
      "server round is  18\n",
      "loss is  2.011090573012939\n"
     ]
    },
    {
     "name": "stderr",
     "output_type": "stream",
     "text": [
      "DEBUG flwr 2023-08-31 02:09:46,834 | server.py:236 | fit_round 19 received 2 results and 0 failures\n",
      "DEBUG flwr 2023-08-31 02:09:46,851 | server.py:173 | evaluate_round 19: strategy sampled 2 clients (out of 2)\n",
      "DEBUG flwr 2023-08-31 02:09:46,895 | server.py:187 | evaluate_round 19 received 2 results and 0 failures\n",
      "DEBUG flwr 2023-08-31 02:09:46,897 | server.py:222 | fit_round 20: strategy sampled 2 clients (out of 2)\n"
     ]
    },
    {
     "name": "stdout",
     "output_type": "stream",
     "text": [
      "agrregate_fit results list length is  2\n",
      "Saving round 19 aggregated_parameters...\n",
      "agrregate_evaluate results list length is  2\n",
      "server round is  19\n",
      "loss is  2.290203327171904\n"
     ]
    },
    {
     "name": "stderr",
     "output_type": "stream",
     "text": [
      "DEBUG flwr 2023-08-31 02:09:55,396 | server.py:236 | fit_round 20 received 2 results and 0 failures\n",
      "DEBUG flwr 2023-08-31 02:09:55,416 | server.py:173 | evaluate_round 20: strategy sampled 2 clients (out of 2)\n",
      "DEBUG flwr 2023-08-31 02:09:55,456 | server.py:187 | evaluate_round 20 received 2 results and 0 failures\n",
      "DEBUG flwr 2023-08-31 02:09:55,458 | server.py:222 | fit_round 21: strategy sampled 2 clients (out of 2)\n"
     ]
    },
    {
     "name": "stdout",
     "output_type": "stream",
     "text": [
      "agrregate_fit results list length is  2\n",
      "Saving round 20 aggregated_parameters...\n",
      "agrregate_evaluate results list length is  2\n",
      "server round is  20\n",
      "loss is  2.166358595194085\n"
     ]
    },
    {
     "name": "stderr",
     "output_type": "stream",
     "text": [
      "DEBUG flwr 2023-08-31 02:10:04,117 | server.py:236 | fit_round 21 received 2 results and 0 failures\n",
      "DEBUG flwr 2023-08-31 02:10:04,137 | server.py:173 | evaluate_round 21: strategy sampled 2 clients (out of 2)\n",
      "DEBUG flwr 2023-08-31 02:10:04,178 | server.py:187 | evaluate_round 21 received 2 results and 0 failures\n",
      "DEBUG flwr 2023-08-31 02:10:04,179 | server.py:222 | fit_round 22: strategy sampled 2 clients (out of 2)\n"
     ]
    },
    {
     "name": "stdout",
     "output_type": "stream",
     "text": [
      "agrregate_fit results list length is  2\n",
      "Saving round 21 aggregated_parameters...\n",
      "agrregate_evaluate results list length is  2\n",
      "server round is  21\n",
      "loss is  2.463955637707948\n"
     ]
    },
    {
     "name": "stderr",
     "output_type": "stream",
     "text": [
      "DEBUG flwr 2023-08-31 02:10:12,575 | server.py:236 | fit_round 22 received 2 results and 0 failures\n",
      "DEBUG flwr 2023-08-31 02:10:12,595 | server.py:173 | evaluate_round 22: strategy sampled 2 clients (out of 2)\n",
      "DEBUG flwr 2023-08-31 02:10:12,642 | server.py:187 | evaluate_round 22 received 2 results and 0 failures\n",
      "DEBUG flwr 2023-08-31 02:10:12,643 | server.py:222 | fit_round 23: strategy sampled 2 clients (out of 2)\n"
     ]
    },
    {
     "name": "stdout",
     "output_type": "stream",
     "text": [
      "agrregate_fit results list length is  2\n",
      "Saving round 22 aggregated_parameters...\n",
      "agrregate_evaluate results list length is  2\n",
      "server round is  22\n",
      "loss is  2.2144177449168208\n"
     ]
    },
    {
     "name": "stderr",
     "output_type": "stream",
     "text": [
      "DEBUG flwr 2023-08-31 02:10:21,034 | server.py:236 | fit_round 23 received 2 results and 0 failures\n",
      "DEBUG flwr 2023-08-31 02:10:21,057 | server.py:173 | evaluate_round 23: strategy sampled 2 clients (out of 2)\n",
      "DEBUG flwr 2023-08-31 02:10:21,096 | server.py:187 | evaluate_round 23 received 2 results and 0 failures\n",
      "DEBUG flwr 2023-08-31 02:10:21,099 | server.py:222 | fit_round 24: strategy sampled 2 clients (out of 2)\n"
     ]
    },
    {
     "name": "stdout",
     "output_type": "stream",
     "text": [
      "agrregate_fit results list length is  2\n",
      "Saving round 23 aggregated_parameters...\n",
      "agrregate_evaluate results list length is  2\n",
      "server round is  23\n",
      "loss is  2.1090573012939\n"
     ]
    },
    {
     "name": "stderr",
     "output_type": "stream",
     "text": [
      "DEBUG flwr 2023-08-31 02:10:30,480 | server.py:236 | fit_round 24 received 2 results and 0 failures\n",
      "DEBUG flwr 2023-08-31 02:10:30,498 | server.py:173 | evaluate_round 24: strategy sampled 2 clients (out of 2)\n",
      "DEBUG flwr 2023-08-31 02:10:30,538 | server.py:187 | evaluate_round 24 received 2 results and 0 failures\n",
      "DEBUG flwr 2023-08-31 02:10:30,540 | server.py:222 | fit_round 25: strategy sampled 2 clients (out of 2)\n"
     ]
    },
    {
     "name": "stdout",
     "output_type": "stream",
     "text": [
      "agrregate_fit results list length is  2\n",
      "Saving round 24 aggregated_parameters...\n",
      "agrregate_evaluate results list length is  2\n",
      "server round is  24\n",
      "loss is  2.0036968576709797\n"
     ]
    },
    {
     "name": "stderr",
     "output_type": "stream",
     "text": [
      "DEBUG flwr 2023-08-31 02:10:38,926 | server.py:236 | fit_round 25 received 2 results and 0 failures\n",
      "DEBUG flwr 2023-08-31 02:10:38,949 | server.py:173 | evaluate_round 25: strategy sampled 2 clients (out of 2)\n",
      "DEBUG flwr 2023-08-31 02:10:38,985 | server.py:187 | evaluate_round 25 received 2 results and 0 failures\n",
      "DEBUG flwr 2023-08-31 02:10:38,987 | server.py:222 | fit_round 26: strategy sampled 2 clients (out of 2)\n"
     ]
    },
    {
     "name": "stdout",
     "output_type": "stream",
     "text": [
      "agrregate_fit results list length is  2\n",
      "Saving round 25 aggregated_parameters...\n",
      "agrregate_evaluate results list length is  2\n",
      "server round is  25\n",
      "loss is  2.44362292051756\n"
     ]
    },
    {
     "name": "stderr",
     "output_type": "stream",
     "text": [
      "DEBUG flwr 2023-08-31 02:10:47,349 | server.py:236 | fit_round 26 received 2 results and 0 failures\n",
      "DEBUG flwr 2023-08-31 02:10:47,372 | server.py:173 | evaluate_round 26: strategy sampled 2 clients (out of 2)\n",
      "DEBUG flwr 2023-08-31 02:10:47,416 | server.py:187 | evaluate_round 26 received 2 results and 0 failures\n",
      "DEBUG flwr 2023-08-31 02:10:47,416 | server.py:222 | fit_round 27: strategy sampled 2 clients (out of 2)\n"
     ]
    },
    {
     "name": "stdout",
     "output_type": "stream",
     "text": [
      "agrregate_fit results list length is  2\n",
      "Saving round 26 aggregated_parameters...\n",
      "agrregate_evaluate results list length is  2\n",
      "server round is  26\n",
      "loss is  2.3401109057301293\n"
     ]
    },
    {
     "name": "stderr",
     "output_type": "stream",
     "text": [
      "DEBUG flwr 2023-08-31 02:10:55,697 | server.py:236 | fit_round 27 received 2 results and 0 failures\n",
      "DEBUG flwr 2023-08-31 02:10:55,717 | server.py:173 | evaluate_round 27: strategy sampled 2 clients (out of 2)\n",
      "DEBUG flwr 2023-08-31 02:10:55,762 | server.py:187 | evaluate_round 27 received 2 results and 0 failures\n",
      "DEBUG flwr 2023-08-31 02:10:55,765 | server.py:222 | fit_round 28: strategy sampled 2 clients (out of 2)\n"
     ]
    },
    {
     "name": "stdout",
     "output_type": "stream",
     "text": [
      "agrregate_fit results list length is  2\n",
      "Saving round 27 aggregated_parameters...\n",
      "agrregate_evaluate results list length is  2\n",
      "server round is  27\n",
      "loss is  2.229205175600739\n"
     ]
    },
    {
     "name": "stderr",
     "output_type": "stream",
     "text": [
      "DEBUG flwr 2023-08-31 02:11:04,830 | server.py:236 | fit_round 28 received 2 results and 0 failures\n",
      "DEBUG flwr 2023-08-31 02:11:04,851 | server.py:173 | evaluate_round 28: strategy sampled 2 clients (out of 2)\n",
      "DEBUG flwr 2023-08-31 02:11:04,889 | server.py:187 | evaluate_round 28 received 2 results and 0 failures\n",
      "DEBUG flwr 2023-08-31 02:11:04,891 | server.py:222 | fit_round 29: strategy sampled 2 clients (out of 2)\n"
     ]
    },
    {
     "name": "stdout",
     "output_type": "stream",
     "text": [
      "agrregate_fit results list length is  2\n",
      "Saving round 28 aggregated_parameters...\n",
      "agrregate_evaluate results list length is  2\n",
      "server round is  28\n",
      "loss is  2.134935304990758\n"
     ]
    },
    {
     "name": "stderr",
     "output_type": "stream",
     "text": [
      "DEBUG flwr 2023-08-31 02:11:13,800 | server.py:236 | fit_round 29 received 2 results and 0 failures\n",
      "DEBUG flwr 2023-08-31 02:11:13,823 | server.py:173 | evaluate_round 29: strategy sampled 2 clients (out of 2)\n",
      "DEBUG flwr 2023-08-31 02:11:13,863 | server.py:187 | evaluate_round 29 received 2 results and 0 failures\n",
      "DEBUG flwr 2023-08-31 02:11:13,864 | server.py:222 | fit_round 30: strategy sampled 2 clients (out of 2)\n"
     ]
    },
    {
     "name": "stdout",
     "output_type": "stream",
     "text": [
      "agrregate_fit results list length is  2\n",
      "Saving round 29 aggregated_parameters...\n",
      "agrregate_evaluate results list length is  2\n",
      "server round is  29\n",
      "loss is  2.0\n"
     ]
    },
    {
     "name": "stderr",
     "output_type": "stream",
     "text": [
      "DEBUG flwr 2023-08-31 02:11:23,028 | server.py:236 | fit_round 30 received 2 results and 0 failures\n",
      "DEBUG flwr 2023-08-31 02:11:23,048 | server.py:173 | evaluate_round 30: strategy sampled 2 clients (out of 2)\n",
      "DEBUG flwr 2023-08-31 02:11:23,092 | server.py:187 | evaluate_round 30 received 2 results and 0 failures\n",
      "DEBUG flwr 2023-08-31 02:11:23,095 | server.py:222 | fit_round 31: strategy sampled 2 clients (out of 2)\n"
     ]
    },
    {
     "name": "stdout",
     "output_type": "stream",
     "text": [
      "agrregate_fit results list length is  2\n",
      "Saving round 30 aggregated_parameters...\n",
      "agrregate_evaluate results list length is  2\n",
      "server round is  30\n",
      "loss is  2.0055452865064693\n"
     ]
    },
    {
     "name": "stderr",
     "output_type": "stream",
     "text": [
      "DEBUG flwr 2023-08-31 02:11:32,109 | server.py:236 | fit_round 31 received 2 results and 0 failures\n",
      "DEBUG flwr 2023-08-31 02:11:32,129 | server.py:173 | evaluate_round 31: strategy sampled 2 clients (out of 2)\n",
      "DEBUG flwr 2023-08-31 02:11:32,165 | server.py:187 | evaluate_round 31 received 2 results and 0 failures\n",
      "DEBUG flwr 2023-08-31 02:11:32,167 | server.py:222 | fit_round 32: strategy sampled 2 clients (out of 2)\n"
     ]
    },
    {
     "name": "stdout",
     "output_type": "stream",
     "text": [
      "agrregate_fit results list length is  2\n",
      "Saving round 31 aggregated_parameters...\n",
      "agrregate_evaluate results list length is  2\n",
      "server round is  31\n",
      "loss is  2.018484288354898\n"
     ]
    },
    {
     "name": "stderr",
     "output_type": "stream",
     "text": [
      "DEBUG flwr 2023-08-31 02:11:40,577 | server.py:236 | fit_round 32 received 2 results and 0 failures\n",
      "DEBUG flwr 2023-08-31 02:11:40,595 | server.py:173 | evaluate_round 32: strategy sampled 2 clients (out of 2)\n",
      "DEBUG flwr 2023-08-31 02:11:40,636 | server.py:187 | evaluate_round 32 received 2 results and 0 failures\n",
      "DEBUG flwr 2023-08-31 02:11:40,637 | server.py:222 | fit_round 33: strategy sampled 2 clients (out of 2)\n"
     ]
    },
    {
     "name": "stdout",
     "output_type": "stream",
     "text": [
      "agrregate_fit results list length is  2\n",
      "Saving round 32 aggregated_parameters...\n",
      "agrregate_evaluate results list length is  2\n",
      "server round is  32\n",
      "loss is  2.192236598890943\n"
     ]
    },
    {
     "name": "stderr",
     "output_type": "stream",
     "text": [
      "DEBUG flwr 2023-08-31 02:11:48,546 | server.py:236 | fit_round 33 received 2 results and 0 failures\n",
      "DEBUG flwr 2023-08-31 02:11:48,569 | server.py:173 | evaluate_round 33: strategy sampled 2 clients (out of 2)\n",
      "DEBUG flwr 2023-08-31 02:11:48,604 | server.py:187 | evaluate_round 33 received 2 results and 0 failures\n",
      "DEBUG flwr 2023-08-31 02:11:48,605 | server.py:222 | fit_round 34: strategy sampled 2 clients (out of 2)\n"
     ]
    },
    {
     "name": "stdout",
     "output_type": "stream",
     "text": [
      "agrregate_fit results list length is  2\n",
      "Saving round 33 aggregated_parameters...\n",
      "agrregate_evaluate results list length is  2\n",
      "server round is  33\n",
      "loss is  2.2606284658040665\n"
     ]
    },
    {
     "name": "stderr",
     "output_type": "stream",
     "text": [
      "DEBUG flwr 2023-08-31 02:11:57,459 | server.py:236 | fit_round 34 received 2 results and 0 failures\n",
      "DEBUG flwr 2023-08-31 02:11:57,483 | server.py:173 | evaluate_round 34: strategy sampled 2 clients (out of 2)\n",
      "DEBUG flwr 2023-08-31 02:11:57,532 | server.py:187 | evaluate_round 34 received 2 results and 0 failures\n",
      "DEBUG flwr 2023-08-31 02:11:57,535 | server.py:222 | fit_round 35: strategy sampled 2 clients (out of 2)\n"
     ]
    },
    {
     "name": "stdout",
     "output_type": "stream",
     "text": [
      "agrregate_fit results list length is  2\n",
      "Saving round 34 aggregated_parameters...\n",
      "agrregate_evaluate results list length is  2\n",
      "server round is  34\n",
      "loss is  2.3271719038817005\n"
     ]
    },
    {
     "name": "stderr",
     "output_type": "stream",
     "text": [
      "DEBUG flwr 2023-08-31 02:12:06,736 | server.py:236 | fit_round 35 received 2 results and 0 failures\n",
      "DEBUG flwr 2023-08-31 02:12:06,760 | server.py:173 | evaluate_round 35: strategy sampled 2 clients (out of 2)\n",
      "DEBUG flwr 2023-08-31 02:12:06,805 | server.py:187 | evaluate_round 35 received 2 results and 0 failures\n",
      "DEBUG flwr 2023-08-31 02:12:06,807 | server.py:222 | fit_round 36: strategy sampled 2 clients (out of 2)\n"
     ]
    },
    {
     "name": "stdout",
     "output_type": "stream",
     "text": [
      "agrregate_fit results list length is  2\n",
      "Saving round 35 aggregated_parameters...\n",
      "agrregate_evaluate results list length is  2\n",
      "server round is  35\n",
      "loss is  2.2495378927911274\n"
     ]
    },
    {
     "name": "stderr",
     "output_type": "stream",
     "text": [
      "DEBUG flwr 2023-08-31 02:12:15,241 | server.py:236 | fit_round 36 received 2 results and 0 failures\n",
      "DEBUG flwr 2023-08-31 02:12:15,261 | server.py:173 | evaluate_round 36: strategy sampled 2 clients (out of 2)\n",
      "DEBUG flwr 2023-08-31 02:12:15,302 | server.py:187 | evaluate_round 36 received 2 results and 0 failures\n",
      "DEBUG flwr 2023-08-31 02:12:15,304 | server.py:222 | fit_round 37: strategy sampled 2 clients (out of 2)\n"
     ]
    },
    {
     "name": "stdout",
     "output_type": "stream",
     "text": [
      "agrregate_fit results list length is  2\n",
      "Saving round 36 aggregated_parameters...\n",
      "agrregate_evaluate results list length is  2\n",
      "server round is  36\n",
      "loss is  2.0314232902033273\n"
     ]
    },
    {
     "name": "stderr",
     "output_type": "stream",
     "text": [
      "DEBUG flwr 2023-08-31 02:12:23,493 | server.py:236 | fit_round 37 received 2 results and 0 failures\n",
      "DEBUG flwr 2023-08-31 02:12:23,513 | server.py:173 | evaluate_round 37: strategy sampled 2 clients (out of 2)\n",
      "DEBUG flwr 2023-08-31 02:12:23,561 | server.py:187 | evaluate_round 37 received 2 results and 0 failures\n",
      "DEBUG flwr 2023-08-31 02:12:23,563 | server.py:222 | fit_round 38: strategy sampled 2 clients (out of 2)\n"
     ]
    },
    {
     "name": "stdout",
     "output_type": "stream",
     "text": [
      "agrregate_fit results list length is  2\n",
      "Saving round 37 aggregated_parameters...\n",
      "agrregate_evaluate results list length is  2\n",
      "server round is  37\n",
      "loss is  2.2033271719038816\n"
     ]
    },
    {
     "name": "stderr",
     "output_type": "stream",
     "text": [
      "DEBUG flwr 2023-08-31 02:12:32,020 | server.py:236 | fit_round 38 received 2 results and 0 failures\n",
      "DEBUG flwr 2023-08-31 02:12:32,039 | server.py:173 | evaluate_round 38: strategy sampled 2 clients (out of 2)\n",
      "DEBUG flwr 2023-08-31 02:12:32,078 | server.py:187 | evaluate_round 38 received 2 results and 0 failures\n",
      "DEBUG flwr 2023-08-31 02:12:32,079 | server.py:222 | fit_round 39: strategy sampled 2 clients (out of 2)\n"
     ]
    },
    {
     "name": "stdout",
     "output_type": "stream",
     "text": [
      "agrregate_fit results list length is  2\n",
      "Saving round 38 aggregated_parameters...\n",
      "agrregate_evaluate results list length is  2\n",
      "server round is  38\n",
      "loss is  2.1312384473197783\n"
     ]
    },
    {
     "name": "stderr",
     "output_type": "stream",
     "text": [
      "DEBUG flwr 2023-08-31 02:12:41,593 | server.py:236 | fit_round 39 received 2 results and 0 failures\n",
      "DEBUG flwr 2023-08-31 02:12:41,616 | server.py:173 | evaluate_round 39: strategy sampled 2 clients (out of 2)\n",
      "DEBUG flwr 2023-08-31 02:12:41,656 | server.py:187 | evaluate_round 39 received 2 results and 0 failures\n",
      "DEBUG flwr 2023-08-31 02:12:41,658 | server.py:222 | fit_round 40: strategy sampled 2 clients (out of 2)\n"
     ]
    },
    {
     "name": "stdout",
     "output_type": "stream",
     "text": [
      "agrregate_fit results list length is  2\n",
      "Saving round 39 aggregated_parameters...\n",
      "agrregate_evaluate results list length is  2\n",
      "server round is  39\n",
      "loss is  2.0628465804066543\n"
     ]
    },
    {
     "name": "stderr",
     "output_type": "stream",
     "text": [
      "DEBUG flwr 2023-08-31 02:12:50,752 | server.py:236 | fit_round 40 received 2 results and 0 failures\n",
      "DEBUG flwr 2023-08-31 02:12:50,774 | server.py:173 | evaluate_round 40: strategy sampled 2 clients (out of 2)\n",
      "DEBUG flwr 2023-08-31 02:12:50,826 | server.py:187 | evaluate_round 40 received 2 results and 0 failures\n",
      "DEBUG flwr 2023-08-31 02:12:50,827 | server.py:222 | fit_round 41: strategy sampled 2 clients (out of 2)\n"
     ]
    },
    {
     "name": "stdout",
     "output_type": "stream",
     "text": [
      "agrregate_fit results list length is  2\n",
      "Saving round 40 aggregated_parameters...\n",
      "agrregate_evaluate results list length is  2\n",
      "server round is  40\n",
      "loss is  1.878003696857671\n"
     ]
    },
    {
     "name": "stderr",
     "output_type": "stream",
     "text": [
      "DEBUG flwr 2023-08-31 02:12:59,330 | server.py:236 | fit_round 41 received 2 results and 0 failures\n",
      "DEBUG flwr 2023-08-31 02:12:59,354 | server.py:173 | evaluate_round 41: strategy sampled 2 clients (out of 2)\n",
      "DEBUG flwr 2023-08-31 02:12:59,397 | server.py:187 | evaluate_round 41 received 2 results and 0 failures\n",
      "DEBUG flwr 2023-08-31 02:12:59,399 | server.py:222 | fit_round 42: strategy sampled 2 clients (out of 2)\n"
     ]
    },
    {
     "name": "stdout",
     "output_type": "stream",
     "text": [
      "agrregate_fit results list length is  2\n",
      "Saving round 41 aggregated_parameters...\n",
      "agrregate_evaluate results list length is  2\n",
      "server round is  41\n",
      "loss is  2.1275415896487986\n"
     ]
    },
    {
     "name": "stderr",
     "output_type": "stream",
     "text": [
      "DEBUG flwr 2023-08-31 02:13:08,526 | server.py:236 | fit_round 42 received 2 results and 0 failures\n",
      "DEBUG flwr 2023-08-31 02:13:08,547 | server.py:173 | evaluate_round 42: strategy sampled 2 clients (out of 2)\n",
      "DEBUG flwr 2023-08-31 02:13:08,585 | server.py:187 | evaluate_round 42 received 2 results and 0 failures\n",
      "DEBUG flwr 2023-08-31 02:13:08,587 | server.py:222 | fit_round 43: strategy sampled 2 clients (out of 2)\n"
     ]
    },
    {
     "name": "stdout",
     "output_type": "stream",
     "text": [
      "agrregate_fit results list length is  2\n",
      "Saving round 42 aggregated_parameters...\n",
      "agrregate_evaluate results list length is  2\n",
      "server round is  42\n",
      "loss is  1.9519408502772644\n"
     ]
    },
    {
     "name": "stderr",
     "output_type": "stream",
     "text": [
      "DEBUG flwr 2023-08-31 02:13:17,576 | server.py:236 | fit_round 43 received 2 results and 0 failures\n",
      "DEBUG flwr 2023-08-31 02:13:17,595 | server.py:173 | evaluate_round 43: strategy sampled 2 clients (out of 2)\n",
      "DEBUG flwr 2023-08-31 02:13:17,639 | server.py:187 | evaluate_round 43 received 2 results and 0 failures\n",
      "DEBUG flwr 2023-08-31 02:13:17,640 | server.py:222 | fit_round 44: strategy sampled 2 clients (out of 2)\n"
     ]
    },
    {
     "name": "stdout",
     "output_type": "stream",
     "text": [
      "agrregate_fit results list length is  2\n",
      "Saving round 43 aggregated_parameters...\n",
      "agrregate_evaluate results list length is  2\n",
      "server round is  43\n",
      "loss is  2.068391866913124\n"
     ]
    },
    {
     "name": "stderr",
     "output_type": "stream",
     "text": [
      "DEBUG flwr 2023-08-31 02:13:26,981 | server.py:236 | fit_round 44 received 2 results and 0 failures\n",
      "DEBUG flwr 2023-08-31 02:13:27,006 | server.py:173 | evaluate_round 44: strategy sampled 2 clients (out of 2)\n",
      "DEBUG flwr 2023-08-31 02:13:27,052 | server.py:187 | evaluate_round 44 received 2 results and 0 failures\n",
      "DEBUG flwr 2023-08-31 02:13:27,054 | server.py:222 | fit_round 45: strategy sampled 2 clients (out of 2)\n"
     ]
    },
    {
     "name": "stdout",
     "output_type": "stream",
     "text": [
      "agrregate_fit results list length is  2\n",
      "Saving round 44 aggregated_parameters...\n",
      "agrregate_evaluate results list length is  2\n",
      "server round is  44\n",
      "loss is  1.9981515711645101\n"
     ]
    },
    {
     "name": "stderr",
     "output_type": "stream",
     "text": [
      "DEBUG flwr 2023-08-31 02:13:36,129 | server.py:236 | fit_round 45 received 2 results and 0 failures\n",
      "DEBUG flwr 2023-08-31 02:13:36,159 | server.py:173 | evaluate_round 45: strategy sampled 2 clients (out of 2)\n",
      "DEBUG flwr 2023-08-31 02:13:36,202 | server.py:187 | evaluate_round 45 received 2 results and 0 failures\n",
      "DEBUG flwr 2023-08-31 02:13:36,204 | server.py:222 | fit_round 46: strategy sampled 2 clients (out of 2)\n"
     ]
    },
    {
     "name": "stdout",
     "output_type": "stream",
     "text": [
      "agrregate_fit results list length is  2\n",
      "Saving round 45 aggregated_parameters...\n",
      "agrregate_evaluate results list length is  2\n",
      "server round is  45\n",
      "loss is  1.990757855822551\n"
     ]
    },
    {
     "name": "stderr",
     "output_type": "stream",
     "text": [
      "DEBUG flwr 2023-08-31 02:13:45,674 | server.py:236 | fit_round 46 received 2 results and 0 failures\n",
      "DEBUG flwr 2023-08-31 02:13:45,694 | server.py:173 | evaluate_round 46: strategy sampled 2 clients (out of 2)\n",
      "DEBUG flwr 2023-08-31 02:13:45,736 | server.py:187 | evaluate_round 46 received 2 results and 0 failures\n",
      "DEBUG flwr 2023-08-31 02:13:45,738 | server.py:222 | fit_round 47: strategy sampled 2 clients (out of 2)\n"
     ]
    },
    {
     "name": "stdout",
     "output_type": "stream",
     "text": [
      "agrregate_fit results list length is  2\n",
      "Saving round 46 aggregated_parameters...\n",
      "agrregate_evaluate results list length is  2\n",
      "server round is  46\n",
      "loss is  2.253234750462107\n"
     ]
    },
    {
     "name": "stderr",
     "output_type": "stream",
     "text": [
      "DEBUG flwr 2023-08-31 02:13:54,990 | server.py:236 | fit_round 47 received 2 results and 0 failures\n",
      "DEBUG flwr 2023-08-31 02:13:55,009 | server.py:173 | evaluate_round 47: strategy sampled 2 clients (out of 2)\n",
      "DEBUG flwr 2023-08-31 02:13:55,065 | server.py:187 | evaluate_round 47 received 2 results and 0 failures\n",
      "DEBUG flwr 2023-08-31 02:13:55,067 | server.py:222 | fit_round 48: strategy sampled 2 clients (out of 2)\n"
     ]
    },
    {
     "name": "stdout",
     "output_type": "stream",
     "text": [
      "agrregate_fit results list length is  2\n",
      "Saving round 47 aggregated_parameters...\n",
      "agrregate_evaluate results list length is  2\n",
      "server round is  47\n",
      "loss is  1.8909426987060998\n"
     ]
    },
    {
     "name": "stderr",
     "output_type": "stream",
     "text": [
      "DEBUG flwr 2023-08-31 02:14:02,776 | server.py:236 | fit_round 48 received 2 results and 0 failures\n",
      "DEBUG flwr 2023-08-31 02:14:02,792 | server.py:173 | evaluate_round 48: strategy sampled 2 clients (out of 2)\n",
      "DEBUG flwr 2023-08-31 02:14:02,823 | server.py:187 | evaluate_round 48 received 2 results and 0 failures\n",
      "DEBUG flwr 2023-08-31 02:14:02,824 | server.py:222 | fit_round 49: strategy sampled 2 clients (out of 2)\n"
     ]
    },
    {
     "name": "stdout",
     "output_type": "stream",
     "text": [
      "agrregate_fit results list length is  2\n",
      "Saving round 48 aggregated_parameters...\n",
      "agrregate_evaluate results list length is  2\n",
      "server round is  48\n",
      "loss is  2.1182994454713495\n"
     ]
    },
    {
     "name": "stderr",
     "output_type": "stream",
     "text": [
      "DEBUG flwr 2023-08-31 02:14:10,418 | server.py:236 | fit_round 49 received 2 results and 0 failures\n",
      "DEBUG flwr 2023-08-31 02:14:10,437 | server.py:173 | evaluate_round 49: strategy sampled 2 clients (out of 2)\n",
      "DEBUG flwr 2023-08-31 02:14:10,473 | server.py:187 | evaluate_round 49 received 2 results and 0 failures\n",
      "DEBUG flwr 2023-08-31 02:14:10,474 | server.py:222 | fit_round 50: strategy sampled 2 clients (out of 2)\n"
     ]
    },
    {
     "name": "stdout",
     "output_type": "stream",
     "text": [
      "agrregate_fit results list length is  2\n",
      "Saving round 49 aggregated_parameters...\n",
      "agrregate_evaluate results list length is  2\n",
      "server round is  49\n",
      "loss is  1.9926062846580406\n"
     ]
    },
    {
     "name": "stderr",
     "output_type": "stream",
     "text": [
      "DEBUG flwr 2023-08-31 02:14:18,292 | server.py:236 | fit_round 50 received 2 results and 0 failures\n",
      "DEBUG flwr 2023-08-31 02:14:18,311 | server.py:173 | evaluate_round 50: strategy sampled 2 clients (out of 2)\n",
      "DEBUG flwr 2023-08-31 02:14:18,344 | server.py:187 | evaluate_round 50 received 2 results and 0 failures\n",
      "DEBUG flwr 2023-08-31 02:14:18,346 | server.py:222 | fit_round 51: strategy sampled 2 clients (out of 2)\n"
     ]
    },
    {
     "name": "stdout",
     "output_type": "stream",
     "text": [
      "agrregate_fit results list length is  2\n",
      "Saving round 50 aggregated_parameters...\n",
      "agrregate_evaluate results list length is  2\n",
      "server round is  50\n",
      "loss is  1.9741219963031422\n"
     ]
    },
    {
     "name": "stderr",
     "output_type": "stream",
     "text": [
      "DEBUG flwr 2023-08-31 02:14:25,959 | server.py:236 | fit_round 51 received 2 results and 0 failures\n",
      "DEBUG flwr 2023-08-31 02:14:25,974 | server.py:173 | evaluate_round 51: strategy sampled 2 clients (out of 2)\n",
      "DEBUG flwr 2023-08-31 02:14:26,012 | server.py:187 | evaluate_round 51 received 2 results and 0 failures\n",
      "DEBUG flwr 2023-08-31 02:14:26,014 | server.py:222 | fit_round 52: strategy sampled 2 clients (out of 2)\n"
     ]
    },
    {
     "name": "stdout",
     "output_type": "stream",
     "text": [
      "agrregate_fit results list length is  2\n",
      "Saving round 51 aggregated_parameters...\n",
      "agrregate_evaluate results list length is  2\n",
      "server round is  51\n",
      "loss is  2.175600739371534\n"
     ]
    },
    {
     "name": "stderr",
     "output_type": "stream",
     "text": [
      "DEBUG flwr 2023-08-31 02:14:33,296 | server.py:236 | fit_round 52 received 2 results and 0 failures\n",
      "DEBUG flwr 2023-08-31 02:14:33,321 | server.py:173 | evaluate_round 52: strategy sampled 2 clients (out of 2)\n",
      "DEBUG flwr 2023-08-31 02:14:33,361 | server.py:187 | evaluate_round 52 received 2 results and 0 failures\n",
      "DEBUG flwr 2023-08-31 02:14:33,363 | server.py:222 | fit_round 53: strategy sampled 2 clients (out of 2)\n"
     ]
    },
    {
     "name": "stdout",
     "output_type": "stream",
     "text": [
      "agrregate_fit results list length is  2\n",
      "Saving round 52 aggregated_parameters...\n",
      "agrregate_evaluate results list length is  2\n",
      "server round is  52\n",
      "loss is  2.088724584103512\n"
     ]
    },
    {
     "name": "stderr",
     "output_type": "stream",
     "text": [
      "DEBUG flwr 2023-08-31 02:14:40,645 | server.py:236 | fit_round 53 received 2 results and 0 failures\n",
      "DEBUG flwr 2023-08-31 02:14:40,660 | server.py:173 | evaluate_round 53: strategy sampled 2 clients (out of 2)\n",
      "DEBUG flwr 2023-08-31 02:14:40,695 | server.py:187 | evaluate_round 53 received 2 results and 0 failures\n",
      "DEBUG flwr 2023-08-31 02:14:40,696 | server.py:222 | fit_round 54: strategy sampled 2 clients (out of 2)\n"
     ]
    },
    {
     "name": "stdout",
     "output_type": "stream",
     "text": [
      "agrregate_fit results list length is  2\n",
      "Saving round 53 aggregated_parameters...\n",
      "agrregate_evaluate results list length is  2\n",
      "server round is  53\n",
      "loss is  2.0\n"
     ]
    },
    {
     "name": "stderr",
     "output_type": "stream",
     "text": [
      "DEBUG flwr 2023-08-31 02:14:48,140 | server.py:236 | fit_round 54 received 2 results and 0 failures\n",
      "DEBUG flwr 2023-08-31 02:14:48,159 | server.py:173 | evaluate_round 54: strategy sampled 2 clients (out of 2)\n",
      "DEBUG flwr 2023-08-31 02:14:48,191 | server.py:187 | evaluate_round 54 received 2 results and 0 failures\n",
      "DEBUG flwr 2023-08-31 02:14:48,192 | server.py:222 | fit_round 55: strategy sampled 2 clients (out of 2)\n"
     ]
    },
    {
     "name": "stdout",
     "output_type": "stream",
     "text": [
      "agrregate_fit results list length is  2\n",
      "Saving round 54 aggregated_parameters...\n",
      "agrregate_evaluate results list length is  2\n",
      "server round is  54\n",
      "loss is  2.0406654343807764\n"
     ]
    },
    {
     "name": "stderr",
     "output_type": "stream",
     "text": [
      "DEBUG flwr 2023-08-31 02:14:55,419 | server.py:236 | fit_round 55 received 2 results and 0 failures\n",
      "DEBUG flwr 2023-08-31 02:14:55,434 | server.py:173 | evaluate_round 55: strategy sampled 2 clients (out of 2)\n",
      "DEBUG flwr 2023-08-31 02:14:55,463 | server.py:187 | evaluate_round 55 received 2 results and 0 failures\n",
      "DEBUG flwr 2023-08-31 02:14:55,464 | server.py:222 | fit_round 56: strategy sampled 2 clients (out of 2)\n"
     ]
    },
    {
     "name": "stdout",
     "output_type": "stream",
     "text": [
      "agrregate_fit results list length is  2\n",
      "Saving round 55 aggregated_parameters...\n",
      "agrregate_evaluate results list length is  2\n",
      "server round is  55\n",
      "loss is  1.9390018484288354\n"
     ]
    },
    {
     "name": "stderr",
     "output_type": "stream",
     "text": [
      "DEBUG flwr 2023-08-31 02:15:02,892 | server.py:236 | fit_round 56 received 2 results and 0 failures\n",
      "DEBUG flwr 2023-08-31 02:15:02,908 | server.py:173 | evaluate_round 56: strategy sampled 2 clients (out of 2)\n",
      "DEBUG flwr 2023-08-31 02:15:02,940 | server.py:187 | evaluate_round 56 received 2 results and 0 failures\n",
      "DEBUG flwr 2023-08-31 02:15:02,942 | server.py:222 | fit_round 57: strategy sampled 2 clients (out of 2)\n"
     ]
    },
    {
     "name": "stdout",
     "output_type": "stream",
     "text": [
      "agrregate_fit results list length is  2\n",
      "Saving round 56 aggregated_parameters...\n",
      "agrregate_evaluate results list length is  2\n",
      "server round is  56\n",
      "loss is  1.9038817005545285\n"
     ]
    },
    {
     "name": "stderr",
     "output_type": "stream",
     "text": [
      "DEBUG flwr 2023-08-31 02:15:10,267 | server.py:236 | fit_round 57 received 2 results and 0 failures\n",
      "DEBUG flwr 2023-08-31 02:15:10,284 | server.py:173 | evaluate_round 57: strategy sampled 2 clients (out of 2)\n",
      "DEBUG flwr 2023-08-31 02:15:10,316 | server.py:187 | evaluate_round 57 received 2 results and 0 failures\n",
      "DEBUG flwr 2023-08-31 02:15:10,318 | server.py:222 | fit_round 58: strategy sampled 2 clients (out of 2)\n"
     ]
    },
    {
     "name": "stdout",
     "output_type": "stream",
     "text": [
      "agrregate_fit results list length is  2\n",
      "Saving round 57 aggregated_parameters...\n",
      "agrregate_evaluate results list length is  2\n",
      "server round is  57\n",
      "loss is  1.975970425138632\n"
     ]
    },
    {
     "name": "stderr",
     "output_type": "stream",
     "text": [
      "DEBUG flwr 2023-08-31 02:15:17,788 | server.py:236 | fit_round 58 received 2 results and 0 failures\n",
      "DEBUG flwr 2023-08-31 02:15:17,804 | server.py:173 | evaluate_round 58: strategy sampled 2 clients (out of 2)\n",
      "DEBUG flwr 2023-08-31 02:15:17,835 | server.py:187 | evaluate_round 58 received 2 results and 0 failures\n",
      "DEBUG flwr 2023-08-31 02:15:17,836 | server.py:222 | fit_round 59: strategy sampled 2 clients (out of 2)\n"
     ]
    },
    {
     "name": "stdout",
     "output_type": "stream",
     "text": [
      "agrregate_fit results list length is  2\n",
      "Saving round 58 aggregated_parameters...\n",
      "agrregate_evaluate results list length is  2\n",
      "server round is  58\n",
      "loss is  1.866913123844732\n"
     ]
    },
    {
     "name": "stderr",
     "output_type": "stream",
     "text": [
      "DEBUG flwr 2023-08-31 02:15:25,071 | server.py:236 | fit_round 59 received 2 results and 0 failures\n",
      "DEBUG flwr 2023-08-31 02:15:25,087 | server.py:173 | evaluate_round 59: strategy sampled 2 clients (out of 2)\n",
      "DEBUG flwr 2023-08-31 02:15:25,118 | server.py:187 | evaluate_round 59 received 2 results and 0 failures\n",
      "DEBUG flwr 2023-08-31 02:15:25,119 | server.py:222 | fit_round 60: strategy sampled 2 clients (out of 2)\n"
     ]
    },
    {
     "name": "stdout",
     "output_type": "stream",
     "text": [
      "agrregate_fit results list length is  2\n",
      "Saving round 59 aggregated_parameters...\n",
      "agrregate_evaluate results list length is  2\n",
      "server round is  59\n",
      "loss is  2.0979667282809613\n"
     ]
    },
    {
     "name": "stderr",
     "output_type": "stream",
     "text": [
      "DEBUG flwr 2023-08-31 02:15:32,514 | server.py:236 | fit_round 60 received 2 results and 0 failures\n",
      "DEBUG flwr 2023-08-31 02:15:32,534 | server.py:173 | evaluate_round 60: strategy sampled 2 clients (out of 2)\n",
      "DEBUG flwr 2023-08-31 02:15:32,566 | server.py:187 | evaluate_round 60 received 2 results and 0 failures\n",
      "INFO flwr 2023-08-31 02:15:32,567 | server.py:153 | FL finished in 507.34610580001026\n",
      "INFO flwr 2023-08-31 02:15:32,568 | app.py:225 | app_fit: losses_distributed [(1, 4.844731977818854), (2, 2.7634011090573014), (3, 2.6303142329020335), (4, 2.866913123844732), (5, 2.536044362292052), (6, 2.7837338262476896), (7, 2.4842883548983363), (8, 2.3992606284658042), (9, 2.2051756007393717), (10, 2.4805914972273566), (11, 2.3475046210720887), (12, 2.412199630314233), (13, 2.765249537892791), (14, 2.5175600739371533), (15, 2.1072088724584104), (16, 2.1275415896487986), (17, 2.2033271719038816), (18, 2.011090573012939), (19, 2.290203327171904), (20, 2.166358595194085), (21, 2.463955637707948), (22, 2.2144177449168208), (23, 2.1090573012939), (24, 2.0036968576709797), (25, 2.44362292051756), (26, 2.3401109057301293), (27, 2.229205175600739), (28, 2.134935304990758), (29, 2.0), (30, 2.0055452865064693), (31, 2.018484288354898), (32, 2.192236598890943), (33, 2.2606284658040665), (34, 2.3271719038817005), (35, 2.2495378927911274), (36, 2.0314232902033273), (37, 2.2033271719038816), (38, 2.1312384473197783), (39, 2.0628465804066543), (40, 1.878003696857671), (41, 2.1275415896487986), (42, 1.9519408502772644), (43, 2.068391866913124), (44, 1.9981515711645101), (45, 1.990757855822551), (46, 2.253234750462107), (47, 1.8909426987060998), (48, 2.1182994454713495), (49, 1.9926062846580406), (50, 1.9741219963031422), (51, 2.175600739371534), (52, 2.088724584103512), (53, 2.0), (54, 2.0406654343807764), (55, 1.9390018484288354), (56, 1.9038817005545285), (57, 1.975970425138632), (58, 1.866913123844732), (59, 2.0979667282809613), (60, 1.9630314232902033)]\n",
      "INFO flwr 2023-08-31 02:15:32,569 | app.py:226 | app_fit: metrics_distributed_fit {}\n",
      "INFO flwr 2023-08-31 02:15:32,569 | app.py:227 | app_fit: metrics_distributed {'mse': [(1, 9.689463955637708), (2, 5.526802218114603), (3, 5.260628465804067), (4, 5.733826247689464), (5, 5.072088724584104), (6, 5.567467652495379), (7, 4.968576709796673), (8, 4.7985212569316085), (9, 4.410351201478743), (10, 4.961182994454713), (11, 4.695009242144177), (12, 4.824399260628466), (13, 5.530499075785582), (14, 5.035120147874307), (15, 4.214417744916821), (16, 4.255083179297597), (17, 4.406654343807763), (18, 4.022181146025878), (19, 4.580406654343808), (20, 4.33271719038817), (21, 4.927911275415896), (22, 4.4288354898336415), (23, 4.2181146025878), (24, 4.007393715341959), (25, 4.88724584103512), (26, 4.6802218114602585), (27, 4.458410351201478), (28, 4.269870609981516), (29, 4.0), (30, 4.011090573012939), (31, 4.036968576709796), (32, 4.384473197781886), (33, 4.521256931608133), (34, 4.654343807763401), (35, 4.499075785582255), (36, 4.062846580406655), (37, 4.406654343807763), (38, 4.262476894639557), (39, 4.1256931608133085), (40, 3.756007393715342), (41, 4.255083179297597), (42, 3.9038817005545288), (43, 4.136783733826248), (44, 3.9963031423290203), (45, 3.981515711645102), (46, 4.506469500924214), (47, 3.7818853974121995), (48, 4.236598890942699), (49, 3.985212569316081), (50, 3.9482439926062844), (51, 4.351201478743068), (52, 4.177449168207024), (53, 4.0), (54, 4.081330868761553), (55, 3.8780036968576708), (56, 3.807763401109057), (57, 3.951940850277264), (58, 3.733826247689464), (59, 4.195933456561923), (60, 3.9260628465804066)]}\n",
      "INFO flwr 2023-08-31 02:15:32,570 | app.py:228 | app_fit: losses_centralized []\n",
      "INFO flwr 2023-08-31 02:15:32,572 | app.py:229 | app_fit: metrics_centralized {}\n"
     ]
    },
    {
     "name": "stdout",
     "output_type": "stream",
     "text": [
      "agrregate_fit results list length is  2\n",
      "Saving round 60 aggregated_parameters...\n",
      "agrregate_evaluate results list length is  2\n",
      "server round is  60\n",
      "loss is  1.9630314232902033\n",
      "History (loss, distributed):\n",
      "\tround 1: 4.844731977818854\n",
      "\tround 2: 2.7634011090573014\n",
      "\tround 3: 2.6303142329020335\n",
      "\tround 4: 2.866913123844732\n",
      "\tround 5: 2.536044362292052\n",
      "\tround 6: 2.7837338262476896\n",
      "\tround 7: 2.4842883548983363\n",
      "\tround 8: 2.3992606284658042\n",
      "\tround 9: 2.2051756007393717\n",
      "\tround 10: 2.4805914972273566\n",
      "\tround 11: 2.3475046210720887\n",
      "\tround 12: 2.412199630314233\n",
      "\tround 13: 2.765249537892791\n",
      "\tround 14: 2.5175600739371533\n",
      "\tround 15: 2.1072088724584104\n",
      "\tround 16: 2.1275415896487986\n",
      "\tround 17: 2.2033271719038816\n",
      "\tround 18: 2.011090573012939\n",
      "\tround 19: 2.290203327171904\n",
      "\tround 20: 2.166358595194085\n",
      "\tround 21: 2.463955637707948\n",
      "\tround 22: 2.2144177449168208\n",
      "\tround 23: 2.1090573012939\n",
      "\tround 24: 2.0036968576709797\n",
      "\tround 25: 2.44362292051756\n",
      "\tround 26: 2.3401109057301293\n",
      "\tround 27: 2.229205175600739\n",
      "\tround 28: 2.134935304990758\n",
      "\tround 29: 2.0\n",
      "\tround 30: 2.0055452865064693\n",
      "\tround 31: 2.018484288354898\n",
      "\tround 32: 2.192236598890943\n",
      "\tround 33: 2.2606284658040665\n",
      "\tround 34: 2.3271719038817005\n",
      "\tround 35: 2.2495378927911274\n",
      "\tround 36: 2.0314232902033273\n",
      "\tround 37: 2.2033271719038816\n",
      "\tround 38: 2.1312384473197783\n",
      "\tround 39: 2.0628465804066543\n",
      "\tround 40: 1.878003696857671\n",
      "\tround 41: 2.1275415896487986\n",
      "\tround 42: 1.9519408502772644\n",
      "\tround 43: 2.068391866913124\n",
      "\tround 44: 1.9981515711645101\n",
      "\tround 45: 1.990757855822551\n",
      "\tround 46: 2.253234750462107\n",
      "\tround 47: 1.8909426987060998\n",
      "\tround 48: 2.1182994454713495\n",
      "\tround 49: 1.9926062846580406\n",
      "\tround 50: 1.9741219963031422\n",
      "\tround 51: 2.175600739371534\n",
      "\tround 52: 2.088724584103512\n",
      "\tround 53: 2.0\n",
      "\tround 54: 2.0406654343807764\n",
      "\tround 55: 1.9390018484288354\n",
      "\tround 56: 1.9038817005545285\n",
      "\tround 57: 1.975970425138632\n",
      "\tround 58: 1.866913123844732\n",
      "\tround 59: 2.0979667282809613\n",
      "\tround 60: 1.9630314232902033\n",
      "History (metrics, distributed, evaluate):\n",
      "{'mse': [(1, 9.689463955637708), (2, 5.526802218114603), (3, 5.260628465804067), (4, 5.733826247689464), (5, 5.072088724584104), (6, 5.567467652495379), (7, 4.968576709796673), (8, 4.7985212569316085), (9, 4.410351201478743), (10, 4.961182994454713), (11, 4.695009242144177), (12, 4.824399260628466), (13, 5.530499075785582), (14, 5.035120147874307), (15, 4.214417744916821), (16, 4.255083179297597), (17, 4.406654343807763), (18, 4.022181146025878), (19, 4.580406654343808), (20, 4.33271719038817), (21, 4.927911275415896), (22, 4.4288354898336415), (23, 4.2181146025878), (24, 4.007393715341959), (25, 4.88724584103512), (26, 4.6802218114602585), (27, 4.458410351201478), (28, 4.269870609981516), (29, 4.0), (30, 4.011090573012939), (31, 4.036968576709796), (32, 4.384473197781886), (33, 4.521256931608133), (34, 4.654343807763401), (35, 4.499075785582255), (36, 4.062846580406655), (37, 4.406654343807763), (38, 4.262476894639557), (39, 4.1256931608133085), (40, 3.756007393715342), (41, 4.255083179297597), (42, 3.9038817005545288), (43, 4.136783733826248), (44, 3.9963031423290203), (45, 3.981515711645102), (46, 4.506469500924214), (47, 3.7818853974121995), (48, 4.236598890942699), (49, 3.985212569316081), (50, 3.9482439926062844), (51, 4.351201478743068), (52, 4.177449168207024), (53, 4.0), (54, 4.081330868761553), (55, 3.8780036968576708), (56, 3.807763401109057), (57, 3.951940850277264), (58, 3.733826247689464), (59, 4.195933456561923), (60, 3.9260628465804066)]}\n",
      "[(1, 4.844731977818854), (2, 2.7634011090573014), (3, 2.6303142329020335), (4, 2.866913123844732), (5, 2.536044362292052), (6, 2.7837338262476896), (7, 2.4842883548983363), (8, 2.3992606284658042), (9, 2.2051756007393717), (10, 2.4805914972273566), (11, 2.3475046210720887), (12, 2.412199630314233), (13, 2.765249537892791), (14, 2.5175600739371533), (15, 2.1072088724584104), (16, 2.1275415896487986), (17, 2.2033271719038816), (18, 2.011090573012939), (19, 2.290203327171904), (20, 2.166358595194085), (21, 2.463955637707948), (22, 2.2144177449168208), (23, 2.1090573012939), (24, 2.0036968576709797), (25, 2.44362292051756), (26, 2.3401109057301293), (27, 2.229205175600739), (28, 2.134935304990758), (29, 2.0), (30, 2.0055452865064693), (31, 2.018484288354898), (32, 2.192236598890943), (33, 2.2606284658040665), (34, 2.3271719038817005), (35, 2.2495378927911274), (36, 2.0314232902033273), (37, 2.2033271719038816), (38, 2.1312384473197783), (39, 2.0628465804066543), (40, 1.878003696857671), (41, 2.1275415896487986), (42, 1.9519408502772644), (43, 2.068391866913124), (44, 1.9981515711645101), (45, 1.990757855822551), (46, 2.253234750462107), (47, 1.8909426987060998), (48, 2.1182994454713495), (49, 1.9926062846580406), (50, 1.9741219963031422), (51, 2.175600739371534), (52, 2.088724584103512), (53, 2.0), (54, 2.0406654343807764), (55, 1.9390018484288354), (56, 1.9038817005545285), (57, 1.975970425138632), (58, 1.866913123844732), (59, 2.0979667282809613), (60, 1.9630314232902033)]\n",
      "Fold 2:\n",
      "split [0.6, 0.4]\n",
      "time 0:08:47.333026\n",
      "mse [1.9630314232902033]\n",
      "auc [0.8776008202323992]\n"
     ]
    }
   ],
   "source": [
    "split = [0.6, 0.4]\n",
    "do_fl(split)"
   ],
   "metadata": {
    "collapsed": false,
    "ExecuteTime": {
     "end_time": "2023-08-31T01:15:32.658727800Z",
     "start_time": "2023-08-31T01:06:45.292257200Z"
    }
   }
  },
  {
   "cell_type": "code",
   "execution_count": 9,
   "outputs": [
    {
     "name": "stderr",
     "output_type": "stream",
     "text": [
      "INFO flwr 2023-08-31 02:15:32,674 | app.py:145 | Starting Flower simulation, config: ServerConfig(num_rounds=60, round_timeout=None)\n"
     ]
    },
    {
     "name": "stdout",
     "output_type": "stream",
     "text": [
      "<class 'torch.Tensor'>\n",
      "<class 'torch.Tensor'>\n",
      "Fold 1:\n",
      "Client 0 trainset shape torch.Size([4580, 22])\n",
      "Client 1 trainset shape torch.Size([988, 22])\n",
      "FL started training on cpu\n",
      "Number of available GPUs: 0\n"
     ]
    },
    {
     "name": "stderr",
     "output_type": "stream",
     "text": [
      "2023-08-31 02:15:42,093\tINFO worker.py:1627 -- Started a local Ray instance. View the dashboard at \u001B[1m\u001B[32m127.0.0.1:8267 \u001B[39m\u001B[22m\n",
      "INFO flwr 2023-08-31 02:15:49,727 | app.py:179 | Flower VCE: Ray initialized with resources: {'node:127.0.0.1': 1.0, 'object_store_memory': 787821772.0, 'memory': 1575643547.0, 'GPU': 1.0, 'CPU': 8.0}\n",
      "INFO flwr 2023-08-31 02:15:49,730 | server.py:89 | Initializing global parameters\n",
      "INFO flwr 2023-08-31 02:15:49,732 | server.py:276 | Requesting initial parameters from one random client\n",
      "INFO flwr 2023-08-31 02:15:53,451 | server.py:280 | Received initial parameters from one random client\n",
      "INFO flwr 2023-08-31 02:15:53,452 | server.py:91 | Evaluating initial parameters\n",
      "INFO flwr 2023-08-31 02:15:53,453 | server.py:104 | FL starting\n",
      "DEBUG flwr 2023-08-31 02:15:53,453 | server.py:222 | fit_round 1: strategy sampled 2 clients (out of 2)\n",
      "DEBUG flwr 2023-08-31 02:16:03,391 | server.py:236 | fit_round 1 received 2 results and 0 failures\n",
      "WARNING flwr 2023-08-31 02:16:03,400 | fedavg.py:242 | No fit_metrics_aggregation_fn provided\n",
      "DEBUG flwr 2023-08-31 02:16:03,410 | server.py:173 | evaluate_round 1: strategy sampled 2 clients (out of 2)\n",
      "DEBUG flwr 2023-08-31 02:16:03,442 | server.py:187 | evaluate_round 1 received 2 results and 0 failures\n",
      "DEBUG flwr 2023-08-31 02:16:03,443 | server.py:222 | fit_round 2: strategy sampled 2 clients (out of 2)\n"
     ]
    },
    {
     "name": "stdout",
     "output_type": "stream",
     "text": [
      "agrregate_fit results list length is  2\n",
      "Saving round 1 aggregated_parameters...\n",
      "agrregate_evaluate results list length is  2\n",
      "server round is  1\n",
      "loss is  2.5138632162661736\n"
     ]
    },
    {
     "name": "stderr",
     "output_type": "stream",
     "text": [
      "DEBUG flwr 2023-08-31 02:16:12,894 | server.py:236 | fit_round 2 received 2 results and 0 failures\n",
      "DEBUG flwr 2023-08-31 02:16:12,914 | server.py:173 | evaluate_round 2: strategy sampled 2 clients (out of 2)\n",
      "DEBUG flwr 2023-08-31 02:16:12,955 | server.py:187 | evaluate_round 2 received 2 results and 0 failures\n",
      "DEBUG flwr 2023-08-31 02:16:12,956 | server.py:222 | fit_round 3: strategy sampled 2 clients (out of 2)\n"
     ]
    },
    {
     "name": "stdout",
     "output_type": "stream",
     "text": [
      "agrregate_fit results list length is  2\n",
      "Saving round 2 aggregated_parameters...\n",
      "agrregate_evaluate results list length is  2\n",
      "server round is  2\n",
      "loss is  2.622920517560074\n"
     ]
    },
    {
     "name": "stderr",
     "output_type": "stream",
     "text": [
      "DEBUG flwr 2023-08-31 02:16:22,377 | server.py:236 | fit_round 3 received 2 results and 0 failures\n",
      "DEBUG flwr 2023-08-31 02:16:22,404 | server.py:173 | evaluate_round 3: strategy sampled 2 clients (out of 2)\n",
      "DEBUG flwr 2023-08-31 02:16:22,440 | server.py:187 | evaluate_round 3 received 2 results and 0 failures\n",
      "DEBUG flwr 2023-08-31 02:16:22,442 | server.py:222 | fit_round 4: strategy sampled 2 clients (out of 2)\n"
     ]
    },
    {
     "name": "stdout",
     "output_type": "stream",
     "text": [
      "agrregate_fit results list length is  2\n",
      "Saving round 3 aggregated_parameters...\n",
      "agrregate_evaluate results list length is  2\n",
      "server round is  3\n",
      "loss is  2.532347504621072\n"
     ]
    },
    {
     "name": "stderr",
     "output_type": "stream",
     "text": [
      "DEBUG flwr 2023-08-31 02:16:33,217 | server.py:236 | fit_round 4 received 2 results and 0 failures\n",
      "DEBUG flwr 2023-08-31 02:16:33,235 | server.py:173 | evaluate_round 4: strategy sampled 2 clients (out of 2)\n",
      "DEBUG flwr 2023-08-31 02:16:33,278 | server.py:187 | evaluate_round 4 received 2 results and 0 failures\n",
      "DEBUG flwr 2023-08-31 02:16:33,279 | server.py:222 | fit_round 5: strategy sampled 2 clients (out of 2)\n"
     ]
    },
    {
     "name": "stdout",
     "output_type": "stream",
     "text": [
      "agrregate_fit results list length is  2\n",
      "Saving round 4 aggregated_parameters...\n",
      "agrregate_evaluate results list length is  2\n",
      "server round is  4\n",
      "loss is  2.9020332717190387\n"
     ]
    },
    {
     "name": "stderr",
     "output_type": "stream",
     "text": [
      "DEBUG flwr 2023-08-31 02:16:44,036 | server.py:236 | fit_round 5 received 2 results and 0 failures\n",
      "DEBUG flwr 2023-08-31 02:16:44,055 | server.py:173 | evaluate_round 5: strategy sampled 2 clients (out of 2)\n",
      "DEBUG flwr 2023-08-31 02:16:44,103 | server.py:187 | evaluate_round 5 received 2 results and 0 failures\n",
      "DEBUG flwr 2023-08-31 02:16:44,105 | server.py:222 | fit_round 6: strategy sampled 2 clients (out of 2)\n"
     ]
    },
    {
     "name": "stdout",
     "output_type": "stream",
     "text": [
      "agrregate_fit results list length is  2\n",
      "Saving round 5 aggregated_parameters...\n",
      "agrregate_evaluate results list length is  2\n",
      "server round is  5\n",
      "loss is  2.377079482439926\n"
     ]
    },
    {
     "name": "stderr",
     "output_type": "stream",
     "text": [
      "DEBUG flwr 2023-08-31 02:16:54,286 | server.py:236 | fit_round 6 received 2 results and 0 failures\n",
      "DEBUG flwr 2023-08-31 02:16:54,304 | server.py:173 | evaluate_round 6: strategy sampled 2 clients (out of 2)\n",
      "DEBUG flwr 2023-08-31 02:16:54,340 | server.py:187 | evaluate_round 6 received 2 results and 0 failures\n",
      "DEBUG flwr 2023-08-31 02:16:54,343 | server.py:222 | fit_round 7: strategy sampled 2 clients (out of 2)\n"
     ]
    },
    {
     "name": "stdout",
     "output_type": "stream",
     "text": [
      "agrregate_fit results list length is  2\n",
      "Saving round 6 aggregated_parameters...\n",
      "agrregate_evaluate results list length is  2\n",
      "server round is  6\n",
      "loss is  2.467652495378928\n"
     ]
    },
    {
     "name": "stderr",
     "output_type": "stream",
     "text": [
      "DEBUG flwr 2023-08-31 02:17:04,599 | server.py:236 | fit_round 7 received 2 results and 0 failures\n",
      "DEBUG flwr 2023-08-31 02:17:04,616 | server.py:173 | evaluate_round 7: strategy sampled 2 clients (out of 2)\n",
      "DEBUG flwr 2023-08-31 02:17:04,654 | server.py:187 | evaluate_round 7 received 2 results and 0 failures\n",
      "DEBUG flwr 2023-08-31 02:17:04,655 | server.py:222 | fit_round 8: strategy sampled 2 clients (out of 2)\n"
     ]
    },
    {
     "name": "stdout",
     "output_type": "stream",
     "text": [
      "agrregate_fit results list length is  2\n",
      "Saving round 7 aggregated_parameters...\n",
      "agrregate_evaluate results list length is  2\n",
      "server round is  7\n",
      "loss is  2.744916820702403\n"
     ]
    },
    {
     "name": "stderr",
     "output_type": "stream",
     "text": [
      "DEBUG flwr 2023-08-31 02:17:14,417 | server.py:236 | fit_round 8 received 2 results and 0 failures\n",
      "DEBUG flwr 2023-08-31 02:17:14,434 | server.py:173 | evaluate_round 8: strategy sampled 2 clients (out of 2)\n",
      "DEBUG flwr 2023-08-31 02:17:14,472 | server.py:187 | evaluate_round 8 received 2 results and 0 failures\n",
      "DEBUG flwr 2023-08-31 02:17:14,473 | server.py:222 | fit_round 9: strategy sampled 2 clients (out of 2)\n"
     ]
    },
    {
     "name": "stdout",
     "output_type": "stream",
     "text": [
      "agrregate_fit results list length is  2\n",
      "Saving round 8 aggregated_parameters...\n",
      "agrregate_evaluate results list length is  2\n",
      "server round is  8\n",
      "loss is  2.5083179297597042\n"
     ]
    },
    {
     "name": "stderr",
     "output_type": "stream",
     "text": [
      "DEBUG flwr 2023-08-31 02:17:24,057 | server.py:236 | fit_round 9 received 2 results and 0 failures\n",
      "DEBUG flwr 2023-08-31 02:17:24,084 | server.py:173 | evaluate_round 9: strategy sampled 2 clients (out of 2)\n",
      "DEBUG flwr 2023-08-31 02:17:24,128 | server.py:187 | evaluate_round 9 received 2 results and 0 failures\n",
      "DEBUG flwr 2023-08-31 02:17:24,129 | server.py:222 | fit_round 10: strategy sampled 2 clients (out of 2)\n"
     ]
    },
    {
     "name": "stdout",
     "output_type": "stream",
     "text": [
      "agrregate_fit results list length is  2\n",
      "Saving round 9 aggregated_parameters...\n",
      "agrregate_evaluate results list length is  2\n",
      "server round is  9\n",
      "loss is  2.190388170055453\n"
     ]
    },
    {
     "name": "stderr",
     "output_type": "stream",
     "text": [
      "DEBUG flwr 2023-08-31 02:17:34,441 | server.py:236 | fit_round 10 received 2 results and 0 failures\n",
      "DEBUG flwr 2023-08-31 02:17:34,460 | server.py:173 | evaluate_round 10: strategy sampled 2 clients (out of 2)\n",
      "DEBUG flwr 2023-08-31 02:17:34,492 | server.py:187 | evaluate_round 10 received 2 results and 0 failures\n",
      "DEBUG flwr 2023-08-31 02:17:34,493 | server.py:222 | fit_round 11: strategy sampled 2 clients (out of 2)\n"
     ]
    },
    {
     "name": "stdout",
     "output_type": "stream",
     "text": [
      "agrregate_fit results list length is  2\n",
      "Saving round 10 aggregated_parameters...\n",
      "agrregate_evaluate results list length is  2\n",
      "server round is  10\n",
      "loss is  2.024029574861368\n"
     ]
    },
    {
     "name": "stderr",
     "output_type": "stream",
     "text": [
      "DEBUG flwr 2023-08-31 02:17:43,872 | server.py:236 | fit_round 11 received 2 results and 0 failures\n",
      "DEBUG flwr 2023-08-31 02:17:43,890 | server.py:173 | evaluate_round 11: strategy sampled 2 clients (out of 2)\n",
      "DEBUG flwr 2023-08-31 02:17:43,933 | server.py:187 | evaluate_round 11 received 2 results and 0 failures\n",
      "DEBUG flwr 2023-08-31 02:17:43,935 | server.py:222 | fit_round 12: strategy sampled 2 clients (out of 2)\n"
     ]
    },
    {
     "name": "stdout",
     "output_type": "stream",
     "text": [
      "agrregate_fit results list length is  2\n",
      "Saving round 11 aggregated_parameters...\n",
      "agrregate_evaluate results list length is  2\n",
      "server round is  11\n",
      "loss is  2.099815157116451\n"
     ]
    },
    {
     "name": "stderr",
     "output_type": "stream",
     "text": [
      "DEBUG flwr 2023-08-31 02:17:53,512 | server.py:236 | fit_round 12 received 2 results and 0 failures\n",
      "DEBUG flwr 2023-08-31 02:17:53,530 | server.py:173 | evaluate_round 12: strategy sampled 2 clients (out of 2)\n",
      "DEBUG flwr 2023-08-31 02:17:53,563 | server.py:187 | evaluate_round 12 received 2 results and 0 failures\n",
      "DEBUG flwr 2023-08-31 02:17:53,565 | server.py:222 | fit_round 13: strategy sampled 2 clients (out of 2)\n"
     ]
    },
    {
     "name": "stdout",
     "output_type": "stream",
     "text": [
      "agrregate_fit results list length is  2\n",
      "Saving round 12 aggregated_parameters...\n",
      "agrregate_evaluate results list length is  2\n",
      "server round is  12\n",
      "loss is  2.290203327171904\n"
     ]
    },
    {
     "name": "stderr",
     "output_type": "stream",
     "text": [
      "DEBUG flwr 2023-08-31 02:18:03,269 | server.py:236 | fit_round 13 received 2 results and 0 failures\n",
      "DEBUG flwr 2023-08-31 02:18:03,286 | server.py:173 | evaluate_round 13: strategy sampled 2 clients (out of 2)\n",
      "DEBUG flwr 2023-08-31 02:18:03,321 | server.py:187 | evaluate_round 13 received 2 results and 0 failures\n",
      "DEBUG flwr 2023-08-31 02:18:03,323 | server.py:222 | fit_round 14: strategy sampled 2 clients (out of 2)\n"
     ]
    },
    {
     "name": "stdout",
     "output_type": "stream",
     "text": [
      "agrregate_fit results list length is  2\n",
      "Saving round 13 aggregated_parameters...\n",
      "agrregate_evaluate results list length is  2\n",
      "server round is  13\n",
      "loss is  2.5397412199630316\n"
     ]
    },
    {
     "name": "stderr",
     "output_type": "stream",
     "text": [
      "DEBUG flwr 2023-08-31 02:18:12,824 | server.py:236 | fit_round 14 received 2 results and 0 failures\n",
      "DEBUG flwr 2023-08-31 02:18:12,841 | server.py:173 | evaluate_round 14: strategy sampled 2 clients (out of 2)\n",
      "DEBUG flwr 2023-08-31 02:18:12,878 | server.py:187 | evaluate_round 14 received 2 results and 0 failures\n",
      "DEBUG flwr 2023-08-31 02:18:12,880 | server.py:222 | fit_round 15: strategy sampled 2 clients (out of 2)\n"
     ]
    },
    {
     "name": "stdout",
     "output_type": "stream",
     "text": [
      "agrregate_fit results list length is  2\n",
      "Saving round 14 aggregated_parameters...\n",
      "agrregate_evaluate results list length is  2\n",
      "server round is  14\n",
      "loss is  2.1645101663585953\n"
     ]
    },
    {
     "name": "stderr",
     "output_type": "stream",
     "text": [
      "DEBUG flwr 2023-08-31 02:18:23,641 | server.py:236 | fit_round 15 received 2 results and 0 failures\n",
      "DEBUG flwr 2023-08-31 02:18:23,663 | server.py:173 | evaluate_round 15: strategy sampled 2 clients (out of 2)\n",
      "DEBUG flwr 2023-08-31 02:18:23,704 | server.py:187 | evaluate_round 15 received 2 results and 0 failures\n",
      "DEBUG flwr 2023-08-31 02:18:23,706 | server.py:222 | fit_round 16: strategy sampled 2 clients (out of 2)\n"
     ]
    },
    {
     "name": "stdout",
     "output_type": "stream",
     "text": [
      "agrregate_fit results list length is  2\n",
      "Saving round 15 aggregated_parameters...\n",
      "agrregate_evaluate results list length is  2\n",
      "server round is  15\n",
      "loss is  2.0369685767097967\n"
     ]
    },
    {
     "name": "stderr",
     "output_type": "stream",
     "text": [
      "DEBUG flwr 2023-08-31 02:18:33,361 | server.py:236 | fit_round 16 received 2 results and 0 failures\n",
      "DEBUG flwr 2023-08-31 02:18:33,378 | server.py:173 | evaluate_round 16: strategy sampled 2 clients (out of 2)\n",
      "DEBUG flwr 2023-08-31 02:18:33,413 | server.py:187 | evaluate_round 16 received 2 results and 0 failures\n",
      "DEBUG flwr 2023-08-31 02:18:33,414 | server.py:222 | fit_round 17: strategy sampled 2 clients (out of 2)\n"
     ]
    },
    {
     "name": "stdout",
     "output_type": "stream",
     "text": [
      "agrregate_fit results list length is  2\n",
      "Saving round 16 aggregated_parameters...\n",
      "agrregate_evaluate results list length is  2\n",
      "server round is  16\n",
      "loss is  2.319778188539741\n"
     ]
    },
    {
     "name": "stderr",
     "output_type": "stream",
     "text": [
      "DEBUG flwr 2023-08-31 02:18:42,993 | server.py:236 | fit_round 17 received 2 results and 0 failures\n",
      "DEBUG flwr 2023-08-31 02:18:43,011 | server.py:173 | evaluate_round 17: strategy sampled 2 clients (out of 2)\n",
      "DEBUG flwr 2023-08-31 02:18:43,039 | server.py:187 | evaluate_round 17 received 2 results and 0 failures\n",
      "DEBUG flwr 2023-08-31 02:18:43,041 | server.py:222 | fit_round 18: strategy sampled 2 clients (out of 2)\n"
     ]
    },
    {
     "name": "stdout",
     "output_type": "stream",
     "text": [
      "agrregate_fit results list length is  2\n",
      "Saving round 17 aggregated_parameters...\n",
      "agrregate_evaluate results list length is  2\n",
      "server round is  17\n",
      "loss is  2.157116451016636\n"
     ]
    },
    {
     "name": "stderr",
     "output_type": "stream",
     "text": [
      "DEBUG flwr 2023-08-31 02:18:52,811 | server.py:236 | fit_round 18 received 2 results and 0 failures\n",
      "DEBUG flwr 2023-08-31 02:18:52,831 | server.py:173 | evaluate_round 18: strategy sampled 2 clients (out of 2)\n",
      "DEBUG flwr 2023-08-31 02:18:52,872 | server.py:187 | evaluate_round 18 received 2 results and 0 failures\n",
      "DEBUG flwr 2023-08-31 02:18:52,874 | server.py:222 | fit_round 19: strategy sampled 2 clients (out of 2)\n"
     ]
    },
    {
     "name": "stdout",
     "output_type": "stream",
     "text": [
      "agrregate_fit results list length is  2\n",
      "Saving round 18 aggregated_parameters...\n",
      "agrregate_evaluate results list length is  2\n",
      "server round is  18\n",
      "loss is  2.1367837338262476\n"
     ]
    },
    {
     "name": "stderr",
     "output_type": "stream",
     "text": [
      "DEBUG flwr 2023-08-31 02:19:02,647 | server.py:236 | fit_round 19 received 2 results and 0 failures\n",
      "DEBUG flwr 2023-08-31 02:19:02,663 | server.py:173 | evaluate_round 19: strategy sampled 2 clients (out of 2)\n",
      "DEBUG flwr 2023-08-31 02:19:02,697 | server.py:187 | evaluate_round 19 received 2 results and 0 failures\n",
      "DEBUG flwr 2023-08-31 02:19:02,698 | server.py:222 | fit_round 20: strategy sampled 2 clients (out of 2)\n"
     ]
    },
    {
     "name": "stdout",
     "output_type": "stream",
     "text": [
      "agrregate_fit results list length is  2\n",
      "Saving round 19 aggregated_parameters...\n",
      "agrregate_evaluate results list length is  2\n",
      "server round is  19\n",
      "loss is  1.944547134935305\n"
     ]
    },
    {
     "name": "stderr",
     "output_type": "stream",
     "text": [
      "DEBUG flwr 2023-08-31 02:19:12,144 | server.py:236 | fit_round 20 received 2 results and 0 failures\n",
      "DEBUG flwr 2023-08-31 02:19:12,161 | server.py:173 | evaluate_round 20: strategy sampled 2 clients (out of 2)\n",
      "DEBUG flwr 2023-08-31 02:19:12,192 | server.py:187 | evaluate_round 20 received 2 results and 0 failures\n",
      "DEBUG flwr 2023-08-31 02:19:12,194 | server.py:222 | fit_round 21: strategy sampled 2 clients (out of 2)\n"
     ]
    },
    {
     "name": "stdout",
     "output_type": "stream",
     "text": [
      "agrregate_fit results list length is  2\n",
      "Saving round 20 aggregated_parameters...\n",
      "agrregate_evaluate results list length is  2\n",
      "server round is  20\n",
      "loss is  1.8817005545286507\n"
     ]
    },
    {
     "name": "stderr",
     "output_type": "stream",
     "text": [
      "DEBUG flwr 2023-08-31 02:19:21,728 | server.py:236 | fit_round 21 received 2 results and 0 failures\n",
      "DEBUG flwr 2023-08-31 02:19:21,747 | server.py:173 | evaluate_round 21: strategy sampled 2 clients (out of 2)\n",
      "DEBUG flwr 2023-08-31 02:19:21,791 | server.py:187 | evaluate_round 21 received 2 results and 0 failures\n",
      "DEBUG flwr 2023-08-31 02:19:21,794 | server.py:222 | fit_round 22: strategy sampled 2 clients (out of 2)\n"
     ]
    },
    {
     "name": "stdout",
     "output_type": "stream",
     "text": [
      "agrregate_fit results list length is  2\n",
      "Saving round 21 aggregated_parameters...\n",
      "agrregate_evaluate results list length is  2\n",
      "server round is  21\n",
      "loss is  2.057301293900185\n"
     ]
    },
    {
     "name": "stderr",
     "output_type": "stream",
     "text": [
      "DEBUG flwr 2023-08-31 02:19:31,396 | server.py:236 | fit_round 22 received 2 results and 0 failures\n",
      "DEBUG flwr 2023-08-31 02:19:31,413 | server.py:173 | evaluate_round 22: strategy sampled 2 clients (out of 2)\n",
      "DEBUG flwr 2023-08-31 02:19:31,446 | server.py:187 | evaluate_round 22 received 2 results and 0 failures\n",
      "DEBUG flwr 2023-08-31 02:19:31,447 | server.py:222 | fit_round 23: strategy sampled 2 clients (out of 2)\n"
     ]
    },
    {
     "name": "stdout",
     "output_type": "stream",
     "text": [
      "agrregate_fit results list length is  2\n",
      "Saving round 22 aggregated_parameters...\n",
      "agrregate_evaluate results list length is  2\n",
      "server round is  22\n",
      "loss is  2.053604436229205\n"
     ]
    },
    {
     "name": "stderr",
     "output_type": "stream",
     "text": [
      "DEBUG flwr 2023-08-31 02:19:41,257 | server.py:236 | fit_round 23 received 2 results and 0 failures\n",
      "DEBUG flwr 2023-08-31 02:19:41,279 | server.py:173 | evaluate_round 23: strategy sampled 2 clients (out of 2)\n",
      "DEBUG flwr 2023-08-31 02:19:41,318 | server.py:187 | evaluate_round 23 received 2 results and 0 failures\n",
      "DEBUG flwr 2023-08-31 02:19:41,319 | server.py:222 | fit_round 24: strategy sampled 2 clients (out of 2)\n"
     ]
    },
    {
     "name": "stdout",
     "output_type": "stream",
     "text": [
      "agrregate_fit results list length is  2\n",
      "Saving round 23 aggregated_parameters...\n",
      "agrregate_evaluate results list length is  2\n",
      "server round is  23\n",
      "loss is  1.8595194085027726\n"
     ]
    },
    {
     "name": "stderr",
     "output_type": "stream",
     "text": [
      "DEBUG flwr 2023-08-31 02:19:50,647 | server.py:236 | fit_round 24 received 2 results and 0 failures\n",
      "DEBUG flwr 2023-08-31 02:19:50,668 | server.py:173 | evaluate_round 24: strategy sampled 2 clients (out of 2)\n",
      "DEBUG flwr 2023-08-31 02:19:50,705 | server.py:187 | evaluate_round 24 received 2 results and 0 failures\n",
      "DEBUG flwr 2023-08-31 02:19:50,706 | server.py:222 | fit_round 25: strategy sampled 2 clients (out of 2)\n"
     ]
    },
    {
     "name": "stdout",
     "output_type": "stream",
     "text": [
      "agrregate_fit results list length is  2\n",
      "Saving round 24 aggregated_parameters...\n",
      "agrregate_evaluate results list length is  2\n",
      "server round is  24\n",
      "loss is  2.0295748613678373\n"
     ]
    },
    {
     "name": "stderr",
     "output_type": "stream",
     "text": [
      "DEBUG flwr 2023-08-31 02:20:00,207 | server.py:236 | fit_round 25 received 2 results and 0 failures\n",
      "DEBUG flwr 2023-08-31 02:20:00,223 | server.py:173 | evaluate_round 25: strategy sampled 2 clients (out of 2)\n",
      "DEBUG flwr 2023-08-31 02:20:00,256 | server.py:187 | evaluate_round 25 received 2 results and 0 failures\n",
      "DEBUG flwr 2023-08-31 02:20:00,260 | server.py:222 | fit_round 26: strategy sampled 2 clients (out of 2)\n"
     ]
    },
    {
     "name": "stdout",
     "output_type": "stream",
     "text": [
      "agrregate_fit results list length is  2\n",
      "Saving round 25 aggregated_parameters...\n",
      "agrregate_evaluate results list length is  2\n",
      "server round is  25\n",
      "loss is  1.9704251386321627\n"
     ]
    },
    {
     "name": "stderr",
     "output_type": "stream",
     "text": [
      "DEBUG flwr 2023-08-31 02:20:09,695 | server.py:236 | fit_round 26 received 2 results and 0 failures\n",
      "DEBUG flwr 2023-08-31 02:20:09,712 | server.py:173 | evaluate_round 26: strategy sampled 2 clients (out of 2)\n",
      "DEBUG flwr 2023-08-31 02:20:09,751 | server.py:187 | evaluate_round 26 received 2 results and 0 failures\n",
      "DEBUG flwr 2023-08-31 02:20:09,753 | server.py:222 | fit_round 27: strategy sampled 2 clients (out of 2)\n"
     ]
    },
    {
     "name": "stdout",
     "output_type": "stream",
     "text": [
      "agrregate_fit results list length is  2\n",
      "Saving round 26 aggregated_parameters...\n",
      "agrregate_evaluate results list length is  2\n",
      "server round is  26\n",
      "loss is  2.0961182994454712\n"
     ]
    },
    {
     "name": "stderr",
     "output_type": "stream",
     "text": [
      "DEBUG flwr 2023-08-31 02:20:19,709 | server.py:236 | fit_round 27 received 2 results and 0 failures\n",
      "DEBUG flwr 2023-08-31 02:20:19,727 | server.py:173 | evaluate_round 27: strategy sampled 2 clients (out of 2)\n",
      "DEBUG flwr 2023-08-31 02:20:19,757 | server.py:187 | evaluate_round 27 received 2 results and 0 failures\n",
      "DEBUG flwr 2023-08-31 02:20:19,758 | server.py:222 | fit_round 28: strategy sampled 2 clients (out of 2)\n"
     ]
    },
    {
     "name": "stdout",
     "output_type": "stream",
     "text": [
      "agrregate_fit results list length is  2\n",
      "Saving round 27 aggregated_parameters...\n",
      "agrregate_evaluate results list length is  2\n",
      "server round is  27\n",
      "loss is  2.0517560073937156\n"
     ]
    },
    {
     "name": "stderr",
     "output_type": "stream",
     "text": [
      "DEBUG flwr 2023-08-31 02:20:30,667 | server.py:236 | fit_round 28 received 2 results and 0 failures\n",
      "DEBUG flwr 2023-08-31 02:20:30,686 | server.py:173 | evaluate_round 28: strategy sampled 2 clients (out of 2)\n",
      "DEBUG flwr 2023-08-31 02:20:30,723 | server.py:187 | evaluate_round 28 received 2 results and 0 failures\n",
      "DEBUG flwr 2023-08-31 02:20:30,724 | server.py:222 | fit_round 29: strategy sampled 2 clients (out of 2)\n"
     ]
    },
    {
     "name": "stdout",
     "output_type": "stream",
     "text": [
      "agrregate_fit results list length is  2\n",
      "Saving round 28 aggregated_parameters...\n",
      "agrregate_evaluate results list length is  2\n",
      "server round is  28\n",
      "loss is  1.9038817005545285\n"
     ]
    },
    {
     "name": "stderr",
     "output_type": "stream",
     "text": [
      "DEBUG flwr 2023-08-31 02:20:40,698 | server.py:236 | fit_round 29 received 2 results and 0 failures\n",
      "DEBUG flwr 2023-08-31 02:20:40,714 | server.py:173 | evaluate_round 29: strategy sampled 2 clients (out of 2)\n",
      "DEBUG flwr 2023-08-31 02:20:40,755 | server.py:187 | evaluate_round 29 received 2 results and 0 failures\n",
      "DEBUG flwr 2023-08-31 02:20:40,756 | server.py:222 | fit_round 30: strategy sampled 2 clients (out of 2)\n"
     ]
    },
    {
     "name": "stdout",
     "output_type": "stream",
     "text": [
      "agrregate_fit results list length is  2\n",
      "Saving round 29 aggregated_parameters...\n",
      "agrregate_evaluate results list length is  2\n",
      "server round is  29\n",
      "loss is  1.8743068391866913\n"
     ]
    },
    {
     "name": "stderr",
     "output_type": "stream",
     "text": [
      "DEBUG flwr 2023-08-31 02:20:50,498 | server.py:236 | fit_round 30 received 2 results and 0 failures\n",
      "DEBUG flwr 2023-08-31 02:20:50,517 | server.py:173 | evaluate_round 30: strategy sampled 2 clients (out of 2)\n",
      "DEBUG flwr 2023-08-31 02:20:50,554 | server.py:187 | evaluate_round 30 received 2 results and 0 failures\n",
      "DEBUG flwr 2023-08-31 02:20:50,556 | server.py:222 | fit_round 31: strategy sampled 2 clients (out of 2)\n"
     ]
    },
    {
     "name": "stdout",
     "output_type": "stream",
     "text": [
      "agrregate_fit results list length is  2\n",
      "Saving round 30 aggregated_parameters...\n",
      "agrregate_evaluate results list length is  2\n",
      "server round is  30\n",
      "loss is  1.8632162661737524\n"
     ]
    },
    {
     "name": "stderr",
     "output_type": "stream",
     "text": [
      "DEBUG flwr 2023-08-31 02:21:00,464 | server.py:236 | fit_round 31 received 2 results and 0 failures\n",
      "DEBUG flwr 2023-08-31 02:21:00,482 | server.py:173 | evaluate_round 31: strategy sampled 2 clients (out of 2)\n",
      "DEBUG flwr 2023-08-31 02:21:00,520 | server.py:187 | evaluate_round 31 received 2 results and 0 failures\n",
      "DEBUG flwr 2023-08-31 02:21:00,522 | server.py:222 | fit_round 32: strategy sampled 2 clients (out of 2)\n"
     ]
    },
    {
     "name": "stdout",
     "output_type": "stream",
     "text": [
      "agrregate_fit results list length is  2\n",
      "Saving round 31 aggregated_parameters...\n",
      "agrregate_evaluate results list length is  2\n",
      "server round is  31\n",
      "loss is  1.6876155268022182\n"
     ]
    },
    {
     "name": "stderr",
     "output_type": "stream",
     "text": [
      "DEBUG flwr 2023-08-31 02:21:10,421 | server.py:236 | fit_round 32 received 2 results and 0 failures\n",
      "DEBUG flwr 2023-08-31 02:21:10,437 | server.py:173 | evaluate_round 32: strategy sampled 2 clients (out of 2)\n",
      "DEBUG flwr 2023-08-31 02:21:10,470 | server.py:187 | evaluate_round 32 received 2 results and 0 failures\n",
      "DEBUG flwr 2023-08-31 02:21:10,471 | server.py:222 | fit_round 33: strategy sampled 2 clients (out of 2)\n"
     ]
    },
    {
     "name": "stdout",
     "output_type": "stream",
     "text": [
      "agrregate_fit results list length is  2\n",
      "Saving round 32 aggregated_parameters...\n",
      "agrregate_evaluate results list length is  2\n",
      "server round is  32\n",
      "loss is  1.811460258780037\n"
     ]
    },
    {
     "name": "stderr",
     "output_type": "stream",
     "text": [
      "DEBUG flwr 2023-08-31 02:21:20,444 | server.py:236 | fit_round 33 received 2 results and 0 failures\n",
      "DEBUG flwr 2023-08-31 02:21:20,465 | server.py:173 | evaluate_round 33: strategy sampled 2 clients (out of 2)\n",
      "DEBUG flwr 2023-08-31 02:21:20,500 | server.py:187 | evaluate_round 33 received 2 results and 0 failures\n",
      "DEBUG flwr 2023-08-31 02:21:20,501 | server.py:222 | fit_round 34: strategy sampled 2 clients (out of 2)\n"
     ]
    },
    {
     "name": "stdout",
     "output_type": "stream",
     "text": [
      "agrregate_fit results list length is  2\n",
      "Saving round 33 aggregated_parameters...\n",
      "agrregate_evaluate results list length is  2\n",
      "server round is  33\n",
      "loss is  1.9205175600739373\n"
     ]
    },
    {
     "name": "stderr",
     "output_type": "stream",
     "text": [
      "DEBUG flwr 2023-08-31 02:21:30,369 | server.py:236 | fit_round 34 received 2 results and 0 failures\n",
      "DEBUG flwr 2023-08-31 02:21:30,386 | server.py:173 | evaluate_round 34: strategy sampled 2 clients (out of 2)\n",
      "DEBUG flwr 2023-08-31 02:21:30,422 | server.py:187 | evaluate_round 34 received 2 results and 0 failures\n",
      "DEBUG flwr 2023-08-31 02:21:30,423 | server.py:222 | fit_round 35: strategy sampled 2 clients (out of 2)\n"
     ]
    },
    {
     "name": "stdout",
     "output_type": "stream",
     "text": [
      "agrregate_fit results list length is  2\n",
      "Saving round 34 aggregated_parameters...\n",
      "agrregate_evaluate results list length is  2\n",
      "server round is  34\n",
      "loss is  1.8410351201478743\n"
     ]
    },
    {
     "name": "stderr",
     "output_type": "stream",
     "text": [
      "DEBUG flwr 2023-08-31 02:21:40,192 | server.py:236 | fit_round 35 received 2 results and 0 failures\n",
      "DEBUG flwr 2023-08-31 02:21:40,210 | server.py:173 | evaluate_round 35: strategy sampled 2 clients (out of 2)\n",
      "DEBUG flwr 2023-08-31 02:21:40,247 | server.py:187 | evaluate_round 35 received 2 results and 0 failures\n",
      "DEBUG flwr 2023-08-31 02:21:40,248 | server.py:222 | fit_round 36: strategy sampled 2 clients (out of 2)\n"
     ]
    },
    {
     "name": "stdout",
     "output_type": "stream",
     "text": [
      "agrregate_fit results list length is  2\n",
      "Saving round 35 aggregated_parameters...\n",
      "agrregate_evaluate results list length is  2\n",
      "server round is  35\n",
      "loss is  1.7726432532347505\n"
     ]
    },
    {
     "name": "stderr",
     "output_type": "stream",
     "text": [
      "DEBUG flwr 2023-08-31 02:21:50,181 | server.py:236 | fit_round 36 received 2 results and 0 failures\n",
      "DEBUG flwr 2023-08-31 02:21:50,198 | server.py:173 | evaluate_round 36: strategy sampled 2 clients (out of 2)\n",
      "DEBUG flwr 2023-08-31 02:21:50,231 | server.py:187 | evaluate_round 36 received 2 results and 0 failures\n",
      "DEBUG flwr 2023-08-31 02:21:50,232 | server.py:222 | fit_round 37: strategy sampled 2 clients (out of 2)\n"
     ]
    },
    {
     "name": "stdout",
     "output_type": "stream",
     "text": [
      "agrregate_fit results list length is  2\n",
      "Saving round 36 aggregated_parameters...\n",
      "agrregate_evaluate results list length is  2\n",
      "server round is  36\n",
      "loss is  1.9537892791127542\n"
     ]
    },
    {
     "name": "stderr",
     "output_type": "stream",
     "text": [
      "DEBUG flwr 2023-08-31 02:22:00,146 | server.py:236 | fit_round 37 received 2 results and 0 failures\n",
      "DEBUG flwr 2023-08-31 02:22:00,163 | server.py:173 | evaluate_round 37: strategy sampled 2 clients (out of 2)\n",
      "DEBUG flwr 2023-08-31 02:22:00,196 | server.py:187 | evaluate_round 37 received 2 results and 0 failures\n",
      "DEBUG flwr 2023-08-31 02:22:00,197 | server.py:222 | fit_round 38: strategy sampled 2 clients (out of 2)\n"
     ]
    },
    {
     "name": "stdout",
     "output_type": "stream",
     "text": [
      "agrregate_fit results list length is  2\n",
      "Saving round 37 aggregated_parameters...\n",
      "agrregate_evaluate results list length is  2\n",
      "server round is  37\n",
      "loss is  1.8133086876155269\n"
     ]
    },
    {
     "name": "stderr",
     "output_type": "stream",
     "text": [
      "DEBUG flwr 2023-08-31 02:22:09,683 | server.py:236 | fit_round 38 received 2 results and 0 failures\n",
      "DEBUG flwr 2023-08-31 02:22:09,703 | server.py:173 | evaluate_round 38: strategy sampled 2 clients (out of 2)\n",
      "DEBUG flwr 2023-08-31 02:22:09,735 | server.py:187 | evaluate_round 38 received 2 results and 0 failures\n",
      "DEBUG flwr 2023-08-31 02:22:09,737 | server.py:222 | fit_round 39: strategy sampled 2 clients (out of 2)\n"
     ]
    },
    {
     "name": "stdout",
     "output_type": "stream",
     "text": [
      "agrregate_fit results list length is  2\n",
      "Saving round 38 aggregated_parameters...\n",
      "agrregate_evaluate results list length is  2\n",
      "server round is  38\n",
      "loss is  1.855822550831793\n"
     ]
    },
    {
     "name": "stderr",
     "output_type": "stream",
     "text": [
      "DEBUG flwr 2023-08-31 02:22:19,232 | server.py:236 | fit_round 39 received 2 results and 0 failures\n",
      "DEBUG flwr 2023-08-31 02:22:19,250 | server.py:173 | evaluate_round 39: strategy sampled 2 clients (out of 2)\n",
      "DEBUG flwr 2023-08-31 02:22:19,284 | server.py:187 | evaluate_round 39 received 2 results and 0 failures\n",
      "DEBUG flwr 2023-08-31 02:22:19,285 | server.py:222 | fit_round 40: strategy sampled 2 clients (out of 2)\n"
     ]
    },
    {
     "name": "stdout",
     "output_type": "stream",
     "text": [
      "agrregate_fit results list length is  2\n",
      "Saving round 39 aggregated_parameters...\n",
      "agrregate_evaluate results list length is  2\n",
      "server round is  39\n",
      "loss is  1.7116451016635859\n"
     ]
    },
    {
     "name": "stderr",
     "output_type": "stream",
     "text": [
      "DEBUG flwr 2023-08-31 02:22:29,107 | server.py:236 | fit_round 40 received 2 results and 0 failures\n",
      "DEBUG flwr 2023-08-31 02:22:29,127 | server.py:173 | evaluate_round 40: strategy sampled 2 clients (out of 2)\n",
      "DEBUG flwr 2023-08-31 02:22:29,168 | server.py:187 | evaluate_round 40 received 2 results and 0 failures\n",
      "DEBUG flwr 2023-08-31 02:22:29,171 | server.py:222 | fit_round 41: strategy sampled 2 clients (out of 2)\n"
     ]
    },
    {
     "name": "stdout",
     "output_type": "stream",
     "text": [
      "agrregate_fit results list length is  2\n",
      "Saving round 40 aggregated_parameters...\n",
      "agrregate_evaluate results list length is  2\n",
      "server round is  40\n",
      "loss is  1.8798521256931608\n"
     ]
    },
    {
     "name": "stderr",
     "output_type": "stream",
     "text": [
      "DEBUG flwr 2023-08-31 02:22:39,612 | server.py:236 | fit_round 41 received 2 results and 0 failures\n",
      "DEBUG flwr 2023-08-31 02:22:39,628 | server.py:173 | evaluate_round 41: strategy sampled 2 clients (out of 2)\n",
      "DEBUG flwr 2023-08-31 02:22:39,664 | server.py:187 | evaluate_round 41 received 2 results and 0 failures\n",
      "DEBUG flwr 2023-08-31 02:22:39,665 | server.py:222 | fit_round 42: strategy sampled 2 clients (out of 2)\n"
     ]
    },
    {
     "name": "stdout",
     "output_type": "stream",
     "text": [
      "agrregate_fit results list length is  2\n",
      "Saving round 41 aggregated_parameters...\n",
      "agrregate_evaluate results list length is  2\n",
      "server round is  41\n",
      "loss is  1.9371534195933457\n"
     ]
    },
    {
     "name": "stderr",
     "output_type": "stream",
     "text": [
      "DEBUG flwr 2023-08-31 02:22:49,512 | server.py:236 | fit_round 42 received 2 results and 0 failures\n",
      "DEBUG flwr 2023-08-31 02:22:49,535 | server.py:173 | evaluate_round 42: strategy sampled 2 clients (out of 2)\n",
      "DEBUG flwr 2023-08-31 02:22:49,572 | server.py:187 | evaluate_round 42 received 2 results and 0 failures\n",
      "DEBUG flwr 2023-08-31 02:22:49,573 | server.py:222 | fit_round 43: strategy sampled 2 clients (out of 2)\n"
     ]
    },
    {
     "name": "stdout",
     "output_type": "stream",
     "text": [
      "agrregate_fit results list length is  2\n",
      "Saving round 42 aggregated_parameters...\n",
      "agrregate_evaluate results list length is  2\n",
      "server round is  42\n",
      "loss is  1.8613678373382625\n"
     ]
    },
    {
     "name": "stderr",
     "output_type": "stream",
     "text": [
      "DEBUG flwr 2023-08-31 02:22:59,030 | server.py:236 | fit_round 43 received 2 results and 0 failures\n",
      "DEBUG flwr 2023-08-31 02:22:59,047 | server.py:173 | evaluate_round 43: strategy sampled 2 clients (out of 2)\n",
      "DEBUG flwr 2023-08-31 02:22:59,081 | server.py:187 | evaluate_round 43 received 2 results and 0 failures\n",
      "DEBUG flwr 2023-08-31 02:22:59,083 | server.py:222 | fit_round 44: strategy sampled 2 clients (out of 2)\n"
     ]
    },
    {
     "name": "stdout",
     "output_type": "stream",
     "text": [
      "agrregate_fit results list length is  2\n",
      "Saving round 43 aggregated_parameters...\n",
      "agrregate_evaluate results list length is  2\n",
      "server round is  43\n",
      "loss is  1.8927911275415896\n"
     ]
    },
    {
     "name": "stderr",
     "output_type": "stream",
     "text": [
      "DEBUG flwr 2023-08-31 02:23:10,544 | server.py:236 | fit_round 44 received 2 results and 0 failures\n",
      "DEBUG flwr 2023-08-31 02:23:10,562 | server.py:173 | evaluate_round 44: strategy sampled 2 clients (out of 2)\n",
      "DEBUG flwr 2023-08-31 02:23:10,599 | server.py:187 | evaluate_round 44 received 2 results and 0 failures\n",
      "DEBUG flwr 2023-08-31 02:23:10,600 | server.py:222 | fit_round 45: strategy sampled 2 clients (out of 2)\n"
     ]
    },
    {
     "name": "stdout",
     "output_type": "stream",
     "text": [
      "agrregate_fit results list length is  2\n",
      "Saving round 44 aggregated_parameters...\n",
      "agrregate_evaluate results list length is  2\n",
      "server round is  44\n",
      "loss is  1.8465804066543439\n"
     ]
    },
    {
     "name": "stderr",
     "output_type": "stream",
     "text": [
      "DEBUG flwr 2023-08-31 02:23:20,287 | server.py:236 | fit_round 45 received 2 results and 0 failures\n",
      "DEBUG flwr 2023-08-31 02:23:20,303 | server.py:173 | evaluate_round 45: strategy sampled 2 clients (out of 2)\n",
      "DEBUG flwr 2023-08-31 02:23:20,338 | server.py:187 | evaluate_round 45 received 2 results and 0 failures\n",
      "DEBUG flwr 2023-08-31 02:23:20,340 | server.py:222 | fit_round 46: strategy sampled 2 clients (out of 2)\n"
     ]
    },
    {
     "name": "stdout",
     "output_type": "stream",
     "text": [
      "agrregate_fit results list length is  2\n",
      "Saving round 45 aggregated_parameters...\n",
      "agrregate_evaluate results list length is  2\n",
      "server round is  45\n",
      "loss is  1.8262476894639557\n"
     ]
    },
    {
     "name": "stderr",
     "output_type": "stream",
     "text": [
      "DEBUG flwr 2023-08-31 02:23:30,232 | server.py:236 | fit_round 46 received 2 results and 0 failures\n",
      "DEBUG flwr 2023-08-31 02:23:30,253 | server.py:173 | evaluate_round 46: strategy sampled 2 clients (out of 2)\n",
      "DEBUG flwr 2023-08-31 02:23:30,297 | server.py:187 | evaluate_round 46 received 2 results and 0 failures\n",
      "DEBUG flwr 2023-08-31 02:23:30,298 | server.py:222 | fit_round 47: strategy sampled 2 clients (out of 2)\n"
     ]
    },
    {
     "name": "stdout",
     "output_type": "stream",
     "text": [
      "agrregate_fit results list length is  2\n",
      "Saving round 46 aggregated_parameters...\n",
      "agrregate_evaluate results list length is  2\n",
      "server round is  46\n",
      "loss is  1.643253234750462\n"
     ]
    },
    {
     "name": "stderr",
     "output_type": "stream",
     "text": [
      "DEBUG flwr 2023-08-31 02:23:40,227 | server.py:236 | fit_round 47 received 2 results and 0 failures\n",
      "DEBUG flwr 2023-08-31 02:23:40,248 | server.py:173 | evaluate_round 47: strategy sampled 2 clients (out of 2)\n",
      "DEBUG flwr 2023-08-31 02:23:40,284 | server.py:187 | evaluate_round 47 received 2 results and 0 failures\n",
      "DEBUG flwr 2023-08-31 02:23:40,285 | server.py:222 | fit_round 48: strategy sampled 2 clients (out of 2)\n"
     ]
    },
    {
     "name": "stdout",
     "output_type": "stream",
     "text": [
      "agrregate_fit results list length is  2\n",
      "Saving round 47 aggregated_parameters...\n",
      "agrregate_evaluate results list length is  2\n",
      "server round is  47\n",
      "loss is  1.844731977818854\n"
     ]
    },
    {
     "name": "stderr",
     "output_type": "stream",
     "text": [
      "DEBUG flwr 2023-08-31 02:23:50,118 | server.py:236 | fit_round 48 received 2 results and 0 failures\n",
      "DEBUG flwr 2023-08-31 02:23:50,136 | server.py:173 | evaluate_round 48: strategy sampled 2 clients (out of 2)\n",
      "DEBUG flwr 2023-08-31 02:23:50,174 | server.py:187 | evaluate_round 48 received 2 results and 0 failures\n",
      "DEBUG flwr 2023-08-31 02:23:50,176 | server.py:222 | fit_round 49: strategy sampled 2 clients (out of 2)\n"
     ]
    },
    {
     "name": "stdout",
     "output_type": "stream",
     "text": [
      "agrregate_fit results list length is  2\n",
      "Saving round 48 aggregated_parameters...\n",
      "agrregate_evaluate results list length is  2\n",
      "server round is  48\n",
      "loss is  1.7597042513863217\n"
     ]
    },
    {
     "name": "stderr",
     "output_type": "stream",
     "text": [
      "DEBUG flwr 2023-08-31 02:23:59,933 | server.py:236 | fit_round 49 received 2 results and 0 failures\n",
      "DEBUG flwr 2023-08-31 02:23:59,950 | server.py:173 | evaluate_round 49: strategy sampled 2 clients (out of 2)\n",
      "DEBUG flwr 2023-08-31 02:23:59,988 | server.py:187 | evaluate_round 49 received 2 results and 0 failures\n",
      "DEBUG flwr 2023-08-31 02:23:59,989 | server.py:222 | fit_round 50: strategy sampled 2 clients (out of 2)\n"
     ]
    },
    {
     "name": "stdout",
     "output_type": "stream",
     "text": [
      "agrregate_fit results list length is  2\n",
      "Saving round 49 aggregated_parameters...\n",
      "agrregate_evaluate results list length is  2\n",
      "server round is  49\n",
      "loss is  1.9205175600739373\n"
     ]
    },
    {
     "name": "stderr",
     "output_type": "stream",
     "text": [
      "DEBUG flwr 2023-08-31 02:24:09,591 | server.py:236 | fit_round 50 received 2 results and 0 failures\n",
      "DEBUG flwr 2023-08-31 02:24:09,610 | server.py:173 | evaluate_round 50: strategy sampled 2 clients (out of 2)\n",
      "DEBUG flwr 2023-08-31 02:24:09,649 | server.py:187 | evaluate_round 50 received 2 results and 0 failures\n",
      "DEBUG flwr 2023-08-31 02:24:09,650 | server.py:222 | fit_round 51: strategy sampled 2 clients (out of 2)\n"
     ]
    },
    {
     "name": "stdout",
     "output_type": "stream",
     "text": [
      "agrregate_fit results list length is  2\n",
      "Saving round 50 aggregated_parameters...\n",
      "agrregate_evaluate results list length is  2\n",
      "server round is  50\n",
      "loss is  1.88909426987061\n"
     ]
    },
    {
     "name": "stderr",
     "output_type": "stream",
     "text": [
      "DEBUG flwr 2023-08-31 02:24:19,577 | server.py:236 | fit_round 51 received 2 results and 0 failures\n",
      "DEBUG flwr 2023-08-31 02:24:19,598 | server.py:173 | evaluate_round 51: strategy sampled 2 clients (out of 2)\n",
      "DEBUG flwr 2023-08-31 02:24:19,643 | server.py:187 | evaluate_round 51 received 2 results and 0 failures\n",
      "DEBUG flwr 2023-08-31 02:24:19,644 | server.py:222 | fit_round 52: strategy sampled 2 clients (out of 2)\n"
     ]
    },
    {
     "name": "stdout",
     "output_type": "stream",
     "text": [
      "agrregate_fit results list length is  2\n",
      "Saving round 51 aggregated_parameters...\n",
      "agrregate_evaluate results list length is  2\n",
      "server round is  51\n",
      "loss is  1.8927911275415896\n"
     ]
    },
    {
     "name": "stderr",
     "output_type": "stream",
     "text": [
      "DEBUG flwr 2023-08-31 02:24:30,116 | server.py:236 | fit_round 52 received 2 results and 0 failures\n",
      "DEBUG flwr 2023-08-31 02:24:30,133 | server.py:173 | evaluate_round 52: strategy sampled 2 clients (out of 2)\n",
      "DEBUG flwr 2023-08-31 02:24:30,173 | server.py:187 | evaluate_round 52 received 2 results and 0 failures\n",
      "DEBUG flwr 2023-08-31 02:24:30,175 | server.py:222 | fit_round 53: strategy sampled 2 clients (out of 2)\n"
     ]
    },
    {
     "name": "stdout",
     "output_type": "stream",
     "text": [
      "agrregate_fit results list length is  2\n",
      "Saving round 52 aggregated_parameters...\n",
      "agrregate_evaluate results list length is  2\n",
      "server round is  52\n",
      "loss is  1.8059149722735675\n"
     ]
    },
    {
     "name": "stderr",
     "output_type": "stream",
     "text": [
      "DEBUG flwr 2023-08-31 02:24:40,233 | server.py:236 | fit_round 53 received 2 results and 0 failures\n",
      "DEBUG flwr 2023-08-31 02:24:40,254 | server.py:173 | evaluate_round 53: strategy sampled 2 clients (out of 2)\n",
      "DEBUG flwr 2023-08-31 02:24:40,289 | server.py:187 | evaluate_round 53 received 2 results and 0 failures\n",
      "DEBUG flwr 2023-08-31 02:24:40,290 | server.py:222 | fit_round 54: strategy sampled 2 clients (out of 2)\n"
     ]
    },
    {
     "name": "stdout",
     "output_type": "stream",
     "text": [
      "agrregate_fit results list length is  2\n",
      "Saving round 53 aggregated_parameters...\n",
      "agrregate_evaluate results list length is  2\n",
      "server round is  53\n",
      "loss is  1.8946395563770795\n"
     ]
    },
    {
     "name": "stderr",
     "output_type": "stream",
     "text": [
      "DEBUG flwr 2023-08-31 02:24:49,999 | server.py:236 | fit_round 54 received 2 results and 0 failures\n",
      "DEBUG flwr 2023-08-31 02:24:50,016 | server.py:173 | evaluate_round 54: strategy sampled 2 clients (out of 2)\n",
      "DEBUG flwr 2023-08-31 02:24:50,052 | server.py:187 | evaluate_round 54 received 2 results and 0 failures\n",
      "DEBUG flwr 2023-08-31 02:24:50,053 | server.py:222 | fit_round 55: strategy sampled 2 clients (out of 2)\n"
     ]
    },
    {
     "name": "stdout",
     "output_type": "stream",
     "text": [
      "agrregate_fit results list length is  2\n",
      "Saving round 54 aggregated_parameters...\n",
      "agrregate_evaluate results list length is  2\n",
      "server round is  54\n",
      "loss is  1.9186691312384474\n"
     ]
    },
    {
     "name": "stderr",
     "output_type": "stream",
     "text": [
      "DEBUG flwr 2023-08-31 02:25:00,027 | server.py:236 | fit_round 55 received 2 results and 0 failures\n",
      "DEBUG flwr 2023-08-31 02:25:00,048 | server.py:173 | evaluate_round 55: strategy sampled 2 clients (out of 2)\n",
      "DEBUG flwr 2023-08-31 02:25:00,087 | server.py:187 | evaluate_round 55 received 2 results and 0 failures\n",
      "DEBUG flwr 2023-08-31 02:25:00,088 | server.py:222 | fit_round 56: strategy sampled 2 clients (out of 2)\n"
     ]
    },
    {
     "name": "stdout",
     "output_type": "stream",
     "text": [
      "agrregate_fit results list length is  2\n",
      "Saving round 55 aggregated_parameters...\n",
      "agrregate_evaluate results list length is  2\n",
      "server round is  55\n",
      "loss is  1.7689463955637708\n"
     ]
    },
    {
     "name": "stderr",
     "output_type": "stream",
     "text": [
      "DEBUG flwr 2023-08-31 02:25:09,980 | server.py:236 | fit_round 56 received 2 results and 0 failures\n",
      "DEBUG flwr 2023-08-31 02:25:09,997 | server.py:173 | evaluate_round 56: strategy sampled 2 clients (out of 2)\n",
      "DEBUG flwr 2023-08-31 02:25:10,036 | server.py:187 | evaluate_round 56 received 2 results and 0 failures\n",
      "DEBUG flwr 2023-08-31 02:25:10,037 | server.py:222 | fit_round 57: strategy sampled 2 clients (out of 2)\n"
     ]
    },
    {
     "name": "stdout",
     "output_type": "stream",
     "text": [
      "agrregate_fit results list length is  2\n",
      "Saving round 56 aggregated_parameters...\n",
      "agrregate_evaluate results list length is  2\n",
      "server round is  56\n",
      "loss is  1.7578558225508318\n"
     ]
    },
    {
     "name": "stderr",
     "output_type": "stream",
     "text": [
      "DEBUG flwr 2023-08-31 02:25:19,717 | server.py:236 | fit_round 57 received 2 results and 0 failures\n",
      "DEBUG flwr 2023-08-31 02:25:19,737 | server.py:173 | evaluate_round 57: strategy sampled 2 clients (out of 2)\n",
      "DEBUG flwr 2023-08-31 02:25:19,782 | server.py:187 | evaluate_round 57 received 2 results and 0 failures\n",
      "DEBUG flwr 2023-08-31 02:25:19,783 | server.py:222 | fit_round 58: strategy sampled 2 clients (out of 2)\n"
     ]
    },
    {
     "name": "stdout",
     "output_type": "stream",
     "text": [
      "agrregate_fit results list length is  2\n",
      "Saving round 57 aggregated_parameters...\n",
      "agrregate_evaluate results list length is  2\n",
      "server round is  57\n",
      "loss is  1.8761552680221811\n"
     ]
    },
    {
     "name": "stderr",
     "output_type": "stream",
     "text": [
      "DEBUG flwr 2023-08-31 02:25:29,321 | server.py:236 | fit_round 58 received 2 results and 0 failures\n",
      "DEBUG flwr 2023-08-31 02:25:29,337 | server.py:173 | evaluate_round 58: strategy sampled 2 clients (out of 2)\n",
      "DEBUG flwr 2023-08-31 02:25:29,373 | server.py:187 | evaluate_round 58 received 2 results and 0 failures\n",
      "DEBUG flwr 2023-08-31 02:25:29,375 | server.py:222 | fit_round 59: strategy sampled 2 clients (out of 2)\n"
     ]
    },
    {
     "name": "stdout",
     "output_type": "stream",
     "text": [
      "agrregate_fit results list length is  2\n",
      "Saving round 58 aggregated_parameters...\n",
      "agrregate_evaluate results list length is  2\n",
      "server round is  58\n",
      "loss is  1.8817005545286507\n"
     ]
    },
    {
     "name": "stderr",
     "output_type": "stream",
     "text": [
      "DEBUG flwr 2023-08-31 02:25:39,697 | server.py:236 | fit_round 59 received 2 results and 0 failures\n",
      "DEBUG flwr 2023-08-31 02:25:39,725 | server.py:173 | evaluate_round 59: strategy sampled 2 clients (out of 2)\n",
      "DEBUG flwr 2023-08-31 02:25:39,761 | server.py:187 | evaluate_round 59 received 2 results and 0 failures\n",
      "DEBUG flwr 2023-08-31 02:25:39,762 | server.py:222 | fit_round 60: strategy sampled 2 clients (out of 2)\n"
     ]
    },
    {
     "name": "stdout",
     "output_type": "stream",
     "text": [
      "agrregate_fit results list length is  2\n",
      "Saving round 59 aggregated_parameters...\n",
      "agrregate_evaluate results list length is  2\n",
      "server round is  59\n",
      "loss is  1.878003696857671\n"
     ]
    },
    {
     "name": "stderr",
     "output_type": "stream",
     "text": [
      "DEBUG flwr 2023-08-31 02:25:49,493 | server.py:236 | fit_round 60 received 2 results and 0 failures\n",
      "DEBUG flwr 2023-08-31 02:25:49,509 | server.py:173 | evaluate_round 60: strategy sampled 2 clients (out of 2)\n",
      "DEBUG flwr 2023-08-31 02:25:49,541 | server.py:187 | evaluate_round 60 received 2 results and 0 failures\n",
      "INFO flwr 2023-08-31 02:25:49,542 | server.py:153 | FL finished in 596.0880122000235\n",
      "INFO flwr 2023-08-31 02:25:49,543 | app.py:225 | app_fit: losses_distributed [(1, 2.5138632162661736), (2, 2.622920517560074), (3, 2.532347504621072), (4, 2.9020332717190387), (5, 2.377079482439926), (6, 2.467652495378928), (7, 2.744916820702403), (8, 2.5083179297597042), (9, 2.190388170055453), (10, 2.024029574861368), (11, 2.099815157116451), (12, 2.290203327171904), (13, 2.5397412199630316), (14, 2.1645101663585953), (15, 2.0369685767097967), (16, 2.319778188539741), (17, 2.157116451016636), (18, 2.1367837338262476), (19, 1.944547134935305), (20, 1.8817005545286507), (21, 2.057301293900185), (22, 2.053604436229205), (23, 1.8595194085027726), (24, 2.0295748613678373), (25, 1.9704251386321627), (26, 2.0961182994454712), (27, 2.0517560073937156), (28, 1.9038817005545285), (29, 1.8743068391866913), (30, 1.8632162661737524), (31, 1.6876155268022182), (32, 1.811460258780037), (33, 1.9205175600739373), (34, 1.8410351201478743), (35, 1.7726432532347505), (36, 1.9537892791127542), (37, 1.8133086876155269), (38, 1.855822550831793), (39, 1.7116451016635859), (40, 1.8798521256931608), (41, 1.9371534195933457), (42, 1.8613678373382625), (43, 1.8927911275415896), (44, 1.8465804066543439), (45, 1.8262476894639557), (46, 1.643253234750462), (47, 1.844731977818854), (48, 1.7597042513863217), (49, 1.9205175600739373), (50, 1.88909426987061), (51, 1.8927911275415896), (52, 1.8059149722735675), (53, 1.8946395563770795), (54, 1.9186691312384474), (55, 1.7689463955637708), (56, 1.7578558225508318), (57, 1.8761552680221811), (58, 1.8817005545286507), (59, 1.878003696857671), (60, 1.798521256931608)]\n",
      "INFO flwr 2023-08-31 02:25:49,545 | app.py:226 | app_fit: metrics_distributed_fit {}\n",
      "INFO flwr 2023-08-31 02:25:49,546 | app.py:227 | app_fit: metrics_distributed {'mse': [(1, 5.027726432532347), (2, 5.245841035120148), (3, 5.064695009242144), (4, 5.804066543438077), (5, 4.754158964879852), (6, 4.935304990757856), (7, 5.489833641404806), (8, 5.0166358595194085), (9, 4.380776340110906), (10, 4.048059149722736), (11, 4.199630314232902), (12, 4.580406654343808), (13, 5.079482439926063), (14, 4.3290203327171906), (15, 4.073937153419593), (16, 4.639556377079482), (17, 4.314232902033272), (18, 4.273567467652495), (19, 3.88909426987061), (20, 3.7634011090573014), (21, 4.11460258780037), (22, 4.10720887245841), (23, 3.7190388170055453), (24, 4.0591497227356745), (25, 3.9408502772643255), (26, 4.1922365988909425), (27, 4.103512014787431), (28, 3.807763401109057), (29, 3.7486136783733826), (30, 3.7264325323475047), (31, 3.3752310536044363), (32, 3.622920517560074), (33, 3.8410351201478745), (34, 3.6820702402957486), (35, 3.545286506469501), (36, 3.9075785582255085), (37, 3.6266173752310538), (38, 3.711645101663586), (39, 3.4232902033271717), (40, 3.7597042513863217), (41, 3.8743068391866915), (42, 3.722735674676525), (43, 3.7855822550831792), (44, 3.6931608133086877), (45, 3.6524953789279113), (46, 3.286506469500924), (47, 3.689463955637708), (48, 3.5194085027726434), (49, 3.8410351201478745), (50, 3.77818853974122), (51, 3.7855822550831792), (52, 3.611829944547135), (53, 3.789279112754159), (54, 3.837338262476895), (55, 3.5378927911275415), (56, 3.5157116451016637), (57, 3.7523105360443623), (58, 3.7634011090573014), (59, 3.756007393715342), (60, 3.597042513863216)]}\n",
      "INFO flwr 2023-08-31 02:25:49,547 | app.py:228 | app_fit: losses_centralized []\n",
      "INFO flwr 2023-08-31 02:25:49,548 | app.py:229 | app_fit: metrics_centralized {}\n"
     ]
    },
    {
     "name": "stdout",
     "output_type": "stream",
     "text": [
      "agrregate_fit results list length is  2\n",
      "Saving round 60 aggregated_parameters...\n",
      "agrregate_evaluate results list length is  2\n",
      "server round is  60\n",
      "loss is  1.798521256931608\n",
      "History (loss, distributed):\n",
      "\tround 1: 2.5138632162661736\n",
      "\tround 2: 2.622920517560074\n",
      "\tround 3: 2.532347504621072\n",
      "\tround 4: 2.9020332717190387\n",
      "\tround 5: 2.377079482439926\n",
      "\tround 6: 2.467652495378928\n",
      "\tround 7: 2.744916820702403\n",
      "\tround 8: 2.5083179297597042\n",
      "\tround 9: 2.190388170055453\n",
      "\tround 10: 2.024029574861368\n",
      "\tround 11: 2.099815157116451\n",
      "\tround 12: 2.290203327171904\n",
      "\tround 13: 2.5397412199630316\n",
      "\tround 14: 2.1645101663585953\n",
      "\tround 15: 2.0369685767097967\n",
      "\tround 16: 2.319778188539741\n",
      "\tround 17: 2.157116451016636\n",
      "\tround 18: 2.1367837338262476\n",
      "\tround 19: 1.944547134935305\n",
      "\tround 20: 1.8817005545286507\n",
      "\tround 21: 2.057301293900185\n",
      "\tround 22: 2.053604436229205\n",
      "\tround 23: 1.8595194085027726\n",
      "\tround 24: 2.0295748613678373\n",
      "\tround 25: 1.9704251386321627\n",
      "\tround 26: 2.0961182994454712\n",
      "\tround 27: 2.0517560073937156\n",
      "\tround 28: 1.9038817005545285\n",
      "\tround 29: 1.8743068391866913\n",
      "\tround 30: 1.8632162661737524\n",
      "\tround 31: 1.6876155268022182\n",
      "\tround 32: 1.811460258780037\n",
      "\tround 33: 1.9205175600739373\n",
      "\tround 34: 1.8410351201478743\n",
      "\tround 35: 1.7726432532347505\n",
      "\tround 36: 1.9537892791127542\n",
      "\tround 37: 1.8133086876155269\n",
      "\tround 38: 1.855822550831793\n",
      "\tround 39: 1.7116451016635859\n",
      "\tround 40: 1.8798521256931608\n",
      "\tround 41: 1.9371534195933457\n",
      "\tround 42: 1.8613678373382625\n",
      "\tround 43: 1.8927911275415896\n",
      "\tround 44: 1.8465804066543439\n",
      "\tround 45: 1.8262476894639557\n",
      "\tround 46: 1.643253234750462\n",
      "\tround 47: 1.844731977818854\n",
      "\tround 48: 1.7597042513863217\n",
      "\tround 49: 1.9205175600739373\n",
      "\tround 50: 1.88909426987061\n",
      "\tround 51: 1.8927911275415896\n",
      "\tround 52: 1.8059149722735675\n",
      "\tround 53: 1.8946395563770795\n",
      "\tround 54: 1.9186691312384474\n",
      "\tround 55: 1.7689463955637708\n",
      "\tround 56: 1.7578558225508318\n",
      "\tround 57: 1.8761552680221811\n",
      "\tround 58: 1.8817005545286507\n",
      "\tround 59: 1.878003696857671\n",
      "\tround 60: 1.798521256931608\n",
      "History (metrics, distributed, evaluate):\n",
      "{'mse': [(1, 5.027726432532347), (2, 5.245841035120148), (3, 5.064695009242144), (4, 5.804066543438077), (5, 4.754158964879852), (6, 4.935304990757856), (7, 5.489833641404806), (8, 5.0166358595194085), (9, 4.380776340110906), (10, 4.048059149722736), (11, 4.199630314232902), (12, 4.580406654343808), (13, 5.079482439926063), (14, 4.3290203327171906), (15, 4.073937153419593), (16, 4.639556377079482), (17, 4.314232902033272), (18, 4.273567467652495), (19, 3.88909426987061), (20, 3.7634011090573014), (21, 4.11460258780037), (22, 4.10720887245841), (23, 3.7190388170055453), (24, 4.0591497227356745), (25, 3.9408502772643255), (26, 4.1922365988909425), (27, 4.103512014787431), (28, 3.807763401109057), (29, 3.7486136783733826), (30, 3.7264325323475047), (31, 3.3752310536044363), (32, 3.622920517560074), (33, 3.8410351201478745), (34, 3.6820702402957486), (35, 3.545286506469501), (36, 3.9075785582255085), (37, 3.6266173752310538), (38, 3.711645101663586), (39, 3.4232902033271717), (40, 3.7597042513863217), (41, 3.8743068391866915), (42, 3.722735674676525), (43, 3.7855822550831792), (44, 3.6931608133086877), (45, 3.6524953789279113), (46, 3.286506469500924), (47, 3.689463955637708), (48, 3.5194085027726434), (49, 3.8410351201478745), (50, 3.77818853974122), (51, 3.7855822550831792), (52, 3.611829944547135), (53, 3.789279112754159), (54, 3.837338262476895), (55, 3.5378927911275415), (56, 3.5157116451016637), (57, 3.7523105360443623), (58, 3.7634011090573014), (59, 3.756007393715342), (60, 3.597042513863216)]}\n",
      "[(1, 2.5138632162661736), (2, 2.622920517560074), (3, 2.532347504621072), (4, 2.9020332717190387), (5, 2.377079482439926), (6, 2.467652495378928), (7, 2.744916820702403), (8, 2.5083179297597042), (9, 2.190388170055453), (10, 2.024029574861368), (11, 2.099815157116451), (12, 2.290203327171904), (13, 2.5397412199630316), (14, 2.1645101663585953), (15, 2.0369685767097967), (16, 2.319778188539741), (17, 2.157116451016636), (18, 2.1367837338262476), (19, 1.944547134935305), (20, 1.8817005545286507), (21, 2.057301293900185), (22, 2.053604436229205), (23, 1.8595194085027726), (24, 2.0295748613678373), (25, 1.9704251386321627), (26, 2.0961182994454712), (27, 2.0517560073937156), (28, 1.9038817005545285), (29, 1.8743068391866913), (30, 1.8632162661737524), (31, 1.6876155268022182), (32, 1.811460258780037), (33, 1.9205175600739373), (34, 1.8410351201478743), (35, 1.7726432532347505), (36, 1.9537892791127542), (37, 1.8133086876155269), (38, 1.855822550831793), (39, 1.7116451016635859), (40, 1.8798521256931608), (41, 1.9371534195933457), (42, 1.8613678373382625), (43, 1.8927911275415896), (44, 1.8465804066543439), (45, 1.8262476894639557), (46, 1.643253234750462), (47, 1.844731977818854), (48, 1.7597042513863217), (49, 1.9205175600739373), (50, 1.88909426987061), (51, 1.8927911275415896), (52, 1.8059149722735675), (53, 1.8946395563770795), (54, 1.9186691312384474), (55, 1.7689463955637708), (56, 1.7578558225508318), (57, 1.8761552680221811), (58, 1.8817005545286507), (59, 1.878003696857671), (60, 1.798521256931608)]\n",
      "Fold 2:\n",
      "split [0.8, 0.2]\n",
      "time 0:10:16.969021\n",
      "mse [1.798521256931608]\n",
      "auc [0.8928844839371155]\n"
     ]
    }
   ],
   "source": [
    "split = [0.8, 0.2]\n",
    "do_fl(split)"
   ],
   "metadata": {
    "collapsed": false,
    "ExecuteTime": {
     "end_time": "2023-08-31T01:25:49.638649900Z",
     "start_time": "2023-08-31T01:15:32.645226100Z"
    }
   }
  },
  {
   "cell_type": "code",
   "execution_count": 10,
   "outputs": [
    {
     "name": "stderr",
     "output_type": "stream",
     "text": [
      "INFO flwr 2023-08-31 02:25:49,667 | app.py:145 | Starting Flower simulation, config: ServerConfig(num_rounds=60, round_timeout=None)\n"
     ]
    },
    {
     "name": "stdout",
     "output_type": "stream",
     "text": [
      "<class 'torch.Tensor'>\n",
      "<class 'torch.Tensor'>\n",
      "Fold 1:\n",
      "Client 0 trainset shape torch.Size([1860, 22])\n",
      "Client 1 trainset shape torch.Size([1710, 22])\n",
      "Client 2 trainset shape torch.Size([1729, 22])\n",
      "FL started training on cpu\n",
      "Number of available GPUs: 0\n"
     ]
    },
    {
     "name": "stderr",
     "output_type": "stream",
     "text": [
      "2023-08-31 02:25:58,401\tINFO worker.py:1627 -- Started a local Ray instance. View the dashboard at \u001B[1m\u001B[32m127.0.0.1:8267 \u001B[39m\u001B[22m\n",
      "INFO flwr 2023-08-31 02:26:06,265 | app.py:179 | Flower VCE: Ray initialized with resources: {'node:127.0.0.1': 1.0, 'object_store_memory': 734660198.0, 'memory': 1469320398.0, 'GPU': 1.0, 'CPU': 8.0}\n",
      "INFO flwr 2023-08-31 02:26:06,268 | server.py:89 | Initializing global parameters\n",
      "INFO flwr 2023-08-31 02:26:06,269 | server.py:276 | Requesting initial parameters from one random client\n",
      "INFO flwr 2023-08-31 02:26:10,272 | server.py:280 | Received initial parameters from one random client\n",
      "INFO flwr 2023-08-31 02:26:10,274 | server.py:91 | Evaluating initial parameters\n",
      "INFO flwr 2023-08-31 02:26:10,275 | server.py:104 | FL starting\n",
      "DEBUG flwr 2023-08-31 02:26:10,277 | server.py:222 | fit_round 1: strategy sampled 2 clients (out of 3)\n",
      "DEBUG flwr 2023-08-31 02:26:17,268 | server.py:236 | fit_round 1 received 2 results and 0 failures\n",
      "WARNING flwr 2023-08-31 02:26:17,277 | fedavg.py:242 | No fit_metrics_aggregation_fn provided\n",
      "DEBUG flwr 2023-08-31 02:26:17,287 | server.py:173 | evaluate_round 1: strategy sampled 2 clients (out of 3)\n",
      "DEBUG flwr 2023-08-31 02:26:17,331 | server.py:187 | evaluate_round 1 received 2 results and 0 failures\n",
      "DEBUG flwr 2023-08-31 02:26:17,333 | server.py:222 | fit_round 2: strategy sampled 2 clients (out of 3)\n"
     ]
    },
    {
     "name": "stdout",
     "output_type": "stream",
     "text": [
      "agrregate_fit results list length is  2\n",
      "Saving round 1 aggregated_parameters...\n",
      "agrregate_evaluate results list length is  2\n",
      "server round is  1\n",
      "loss is  2.988909426987061\n"
     ]
    },
    {
     "name": "stderr",
     "output_type": "stream",
     "text": [
      "DEBUG flwr 2023-08-31 02:26:21,325 | server.py:236 | fit_round 2 received 2 results and 0 failures\n",
      "DEBUG flwr 2023-08-31 02:26:21,348 | server.py:173 | evaluate_round 2: strategy sampled 2 clients (out of 3)\n",
      "DEBUG flwr 2023-08-31 02:26:21,391 | server.py:187 | evaluate_round 2 received 2 results and 0 failures\n",
      "DEBUG flwr 2023-08-31 02:26:21,393 | server.py:222 | fit_round 3: strategy sampled 2 clients (out of 3)\n"
     ]
    },
    {
     "name": "stdout",
     "output_type": "stream",
     "text": [
      "agrregate_fit results list length is  2\n",
      "Saving round 2 aggregated_parameters...\n",
      "agrregate_evaluate results list length is  2\n",
      "server round is  2\n",
      "loss is  4.018484288354898\n"
     ]
    },
    {
     "name": "stderr",
     "output_type": "stream",
     "text": [
      "DEBUG flwr 2023-08-31 02:26:26,108 | server.py:236 | fit_round 3 received 2 results and 0 failures\n",
      "DEBUG flwr 2023-08-31 02:26:26,127 | server.py:173 | evaluate_round 3: strategy sampled 2 clients (out of 3)\n",
      "DEBUG flwr 2023-08-31 02:26:26,167 | server.py:187 | evaluate_round 3 received 2 results and 0 failures\n",
      "DEBUG flwr 2023-08-31 02:26:26,168 | server.py:222 | fit_round 4: strategy sampled 2 clients (out of 3)\n"
     ]
    },
    {
     "name": "stdout",
     "output_type": "stream",
     "text": [
      "agrregate_fit results list length is  2\n",
      "Saving round 3 aggregated_parameters...\n",
      "agrregate_evaluate results list length is  2\n",
      "server round is  3\n",
      "loss is  2.866913123844732\n"
     ]
    },
    {
     "name": "stderr",
     "output_type": "stream",
     "text": [
      "DEBUG flwr 2023-08-31 02:26:30,429 | server.py:236 | fit_round 4 received 2 results and 0 failures\n",
      "DEBUG flwr 2023-08-31 02:26:30,447 | server.py:173 | evaluate_round 4: strategy sampled 2 clients (out of 3)\n",
      "DEBUG flwr 2023-08-31 02:26:30,488 | server.py:187 | evaluate_round 4 received 2 results and 0 failures\n",
      "DEBUG flwr 2023-08-31 02:26:30,490 | server.py:222 | fit_round 5: strategy sampled 2 clients (out of 3)\n"
     ]
    },
    {
     "name": "stdout",
     "output_type": "stream",
     "text": [
      "agrregate_fit results list length is  2\n",
      "Saving round 4 aggregated_parameters...\n",
      "agrregate_evaluate results list length is  2\n",
      "server round is  4\n",
      "loss is  2.8022181146025877\n"
     ]
    },
    {
     "name": "stderr",
     "output_type": "stream",
     "text": [
      "DEBUG flwr 2023-08-31 02:26:34,864 | server.py:236 | fit_round 5 received 2 results and 0 failures\n",
      "DEBUG flwr 2023-08-31 02:26:34,884 | server.py:173 | evaluate_round 5: strategy sampled 2 clients (out of 3)\n",
      "DEBUG flwr 2023-08-31 02:26:34,928 | server.py:187 | evaluate_round 5 received 2 results and 0 failures\n",
      "DEBUG flwr 2023-08-31 02:26:34,930 | server.py:222 | fit_round 6: strategy sampled 2 clients (out of 3)\n"
     ]
    },
    {
     "name": "stdout",
     "output_type": "stream",
     "text": [
      "agrregate_fit results list length is  2\n",
      "Saving round 5 aggregated_parameters...\n",
      "agrregate_evaluate results list length is  2\n",
      "server round is  5\n",
      "loss is  2.687615526802218\n"
     ]
    },
    {
     "name": "stderr",
     "output_type": "stream",
     "text": [
      "DEBUG flwr 2023-08-31 02:26:39,459 | server.py:236 | fit_round 6 received 2 results and 0 failures\n",
      "DEBUG flwr 2023-08-31 02:26:39,478 | server.py:173 | evaluate_round 6: strategy sampled 2 clients (out of 3)\n",
      "DEBUG flwr 2023-08-31 02:26:39,521 | server.py:187 | evaluate_round 6 received 2 results and 0 failures\n",
      "DEBUG flwr 2023-08-31 02:26:39,522 | server.py:222 | fit_round 7: strategy sampled 2 clients (out of 3)\n"
     ]
    },
    {
     "name": "stdout",
     "output_type": "stream",
     "text": [
      "agrregate_fit results list length is  2\n",
      "Saving round 6 aggregated_parameters...\n",
      "agrregate_evaluate results list length is  2\n",
      "server round is  6\n",
      "loss is  2.3715341959334566\n"
     ]
    },
    {
     "name": "stderr",
     "output_type": "stream",
     "text": [
      "DEBUG flwr 2023-08-31 02:26:43,964 | server.py:236 | fit_round 7 received 2 results and 0 failures\n",
      "DEBUG flwr 2023-08-31 02:26:43,984 | server.py:173 | evaluate_round 7: strategy sampled 2 clients (out of 3)\n",
      "DEBUG flwr 2023-08-31 02:26:44,022 | server.py:187 | evaluate_round 7 received 2 results and 0 failures\n",
      "DEBUG flwr 2023-08-31 02:26:44,023 | server.py:222 | fit_round 8: strategy sampled 2 clients (out of 3)\n"
     ]
    },
    {
     "name": "stdout",
     "output_type": "stream",
     "text": [
      "agrregate_fit results list length is  2\n",
      "Saving round 7 aggregated_parameters...\n",
      "agrregate_evaluate results list length is  2\n",
      "server round is  7\n",
      "loss is  2.1053604436229203\n"
     ]
    },
    {
     "name": "stderr",
     "output_type": "stream",
     "text": [
      "DEBUG flwr 2023-08-31 02:26:48,430 | server.py:236 | fit_round 8 received 2 results and 0 failures\n",
      "DEBUG flwr 2023-08-31 02:26:48,456 | server.py:173 | evaluate_round 8: strategy sampled 2 clients (out of 3)\n",
      "DEBUG flwr 2023-08-31 02:26:48,497 | server.py:187 | evaluate_round 8 received 2 results and 0 failures\n",
      "DEBUG flwr 2023-08-31 02:26:48,498 | server.py:222 | fit_round 9: strategy sampled 2 clients (out of 3)\n"
     ]
    },
    {
     "name": "stdout",
     "output_type": "stream",
     "text": [
      "agrregate_fit results list length is  2\n",
      "Saving round 8 aggregated_parameters...\n",
      "agrregate_evaluate results list length is  2\n",
      "server round is  8\n",
      "loss is  2.0702402957486137\n"
     ]
    },
    {
     "name": "stderr",
     "output_type": "stream",
     "text": [
      "DEBUG flwr 2023-08-31 02:26:52,850 | server.py:236 | fit_round 9 received 2 results and 0 failures\n",
      "DEBUG flwr 2023-08-31 02:26:52,869 | server.py:173 | evaluate_round 9: strategy sampled 2 clients (out of 3)\n",
      "DEBUG flwr 2023-08-31 02:26:52,908 | server.py:187 | evaluate_round 9 received 2 results and 0 failures\n",
      "DEBUG flwr 2023-08-31 02:26:52,910 | server.py:222 | fit_round 10: strategy sampled 2 clients (out of 3)\n"
     ]
    },
    {
     "name": "stdout",
     "output_type": "stream",
     "text": [
      "agrregate_fit results list length is  2\n",
      "Saving round 9 aggregated_parameters...\n",
      "agrregate_evaluate results list length is  2\n",
      "server round is  9\n",
      "loss is  2.33086876155268\n"
     ]
    },
    {
     "name": "stderr",
     "output_type": "stream",
     "text": [
      "DEBUG flwr 2023-08-31 02:26:57,366 | server.py:236 | fit_round 10 received 2 results and 0 failures\n",
      "DEBUG flwr 2023-08-31 02:26:57,386 | server.py:173 | evaluate_round 10: strategy sampled 2 clients (out of 3)\n",
      "DEBUG flwr 2023-08-31 02:26:57,434 | server.py:187 | evaluate_round 10 received 2 results and 0 failures\n",
      "DEBUG flwr 2023-08-31 02:26:57,435 | server.py:222 | fit_round 11: strategy sampled 2 clients (out of 3)\n"
     ]
    },
    {
     "name": "stdout",
     "output_type": "stream",
     "text": [
      "agrregate_fit results list length is  2\n",
      "Saving round 10 aggregated_parameters...\n",
      "agrregate_evaluate results list length is  2\n",
      "server round is  10\n",
      "loss is  2.22181146025878\n"
     ]
    },
    {
     "name": "stderr",
     "output_type": "stream",
     "text": [
      "DEBUG flwr 2023-08-31 02:27:01,877 | server.py:236 | fit_round 11 received 2 results and 0 failures\n",
      "DEBUG flwr 2023-08-31 02:27:01,895 | server.py:173 | evaluate_round 11: strategy sampled 2 clients (out of 3)\n",
      "DEBUG flwr 2023-08-31 02:27:01,929 | server.py:187 | evaluate_round 11 received 2 results and 0 failures\n",
      "DEBUG flwr 2023-08-31 02:27:01,930 | server.py:222 | fit_round 12: strategy sampled 2 clients (out of 3)\n"
     ]
    },
    {
     "name": "stdout",
     "output_type": "stream",
     "text": [
      "agrregate_fit results list length is  2\n",
      "Saving round 11 aggregated_parameters...\n",
      "agrregate_evaluate results list length is  2\n",
      "server round is  11\n",
      "loss is  2.299445471349353\n"
     ]
    },
    {
     "name": "stderr",
     "output_type": "stream",
     "text": [
      "DEBUG flwr 2023-08-31 02:27:06,520 | server.py:236 | fit_round 12 received 2 results and 0 failures\n",
      "DEBUG flwr 2023-08-31 02:27:06,544 | server.py:173 | evaluate_round 12: strategy sampled 2 clients (out of 3)\n",
      "DEBUG flwr 2023-08-31 02:27:06,583 | server.py:187 | evaluate_round 12 received 2 results and 0 failures\n",
      "DEBUG flwr 2023-08-31 02:27:06,584 | server.py:222 | fit_round 13: strategy sampled 2 clients (out of 3)\n"
     ]
    },
    {
     "name": "stdout",
     "output_type": "stream",
     "text": [
      "agrregate_fit results list length is  2\n",
      "Saving round 12 aggregated_parameters...\n",
      "agrregate_evaluate results list length is  2\n",
      "server round is  12\n",
      "loss is  2.3382624768946396\n"
     ]
    },
    {
     "name": "stderr",
     "output_type": "stream",
     "text": [
      "DEBUG flwr 2023-08-31 02:27:10,795 | server.py:236 | fit_round 13 received 2 results and 0 failures\n",
      "DEBUG flwr 2023-08-31 02:27:10,815 | server.py:173 | evaluate_round 13: strategy sampled 2 clients (out of 3)\n",
      "DEBUG flwr 2023-08-31 02:27:10,855 | server.py:187 | evaluate_round 13 received 2 results and 0 failures\n",
      "DEBUG flwr 2023-08-31 02:27:10,856 | server.py:222 | fit_round 14: strategy sampled 2 clients (out of 3)\n"
     ]
    },
    {
     "name": "stdout",
     "output_type": "stream",
     "text": [
      "agrregate_fit results list length is  2\n",
      "Saving round 13 aggregated_parameters...\n",
      "agrregate_evaluate results list length is  2\n",
      "server round is  13\n",
      "loss is  2.4861367837338264\n"
     ]
    },
    {
     "name": "stderr",
     "output_type": "stream",
     "text": [
      "DEBUG flwr 2023-08-31 02:27:15,471 | server.py:236 | fit_round 14 received 2 results and 0 failures\n",
      "DEBUG flwr 2023-08-31 02:27:15,490 | server.py:173 | evaluate_round 14: strategy sampled 2 clients (out of 3)\n",
      "DEBUG flwr 2023-08-31 02:27:15,533 | server.py:187 | evaluate_round 14 received 2 results and 0 failures\n",
      "DEBUG flwr 2023-08-31 02:27:15,534 | server.py:222 | fit_round 15: strategy sampled 2 clients (out of 3)\n"
     ]
    },
    {
     "name": "stdout",
     "output_type": "stream",
     "text": [
      "agrregate_fit results list length is  2\n",
      "Saving round 14 aggregated_parameters...\n",
      "agrregate_evaluate results list length is  2\n",
      "server round is  14\n",
      "loss is  1.9944547134935304\n"
     ]
    },
    {
     "name": "stderr",
     "output_type": "stream",
     "text": [
      "DEBUG flwr 2023-08-31 02:27:20,033 | server.py:236 | fit_round 15 received 2 results and 0 failures\n",
      "DEBUG flwr 2023-08-31 02:27:20,060 | server.py:173 | evaluate_round 15: strategy sampled 2 clients (out of 3)\n",
      "DEBUG flwr 2023-08-31 02:27:20,120 | server.py:187 | evaluate_round 15 received 2 results and 0 failures\n",
      "DEBUG flwr 2023-08-31 02:27:20,122 | server.py:222 | fit_round 16: strategy sampled 2 clients (out of 3)\n"
     ]
    },
    {
     "name": "stdout",
     "output_type": "stream",
     "text": [
      "agrregate_fit results list length is  2\n",
      "Saving round 15 aggregated_parameters...\n",
      "agrregate_evaluate results list length is  2\n",
      "server round is  15\n",
      "loss is  1.9463955637707948\n"
     ]
    },
    {
     "name": "stderr",
     "output_type": "stream",
     "text": [
      "DEBUG flwr 2023-08-31 02:27:25,076 | server.py:236 | fit_round 16 received 2 results and 0 failures\n",
      "DEBUG flwr 2023-08-31 02:27:25,101 | server.py:173 | evaluate_round 16: strategy sampled 2 clients (out of 3)\n",
      "DEBUG flwr 2023-08-31 02:27:25,145 | server.py:187 | evaluate_round 16 received 2 results and 0 failures\n",
      "DEBUG flwr 2023-08-31 02:27:25,147 | server.py:222 | fit_round 17: strategy sampled 2 clients (out of 3)\n"
     ]
    },
    {
     "name": "stdout",
     "output_type": "stream",
     "text": [
      "agrregate_fit results list length is  2\n",
      "Saving round 16 aggregated_parameters...\n",
      "agrregate_evaluate results list length is  2\n",
      "server round is  16\n",
      "loss is  2.3807763401109057\n"
     ]
    },
    {
     "name": "stderr",
     "output_type": "stream",
     "text": [
      "DEBUG flwr 2023-08-31 02:27:30,135 | server.py:236 | fit_round 17 received 2 results and 0 failures\n",
      "DEBUG flwr 2023-08-31 02:27:30,161 | server.py:173 | evaluate_round 17: strategy sampled 2 clients (out of 3)\n",
      "DEBUG flwr 2023-08-31 02:27:30,208 | server.py:187 | evaluate_round 17 received 2 results and 0 failures\n",
      "DEBUG flwr 2023-08-31 02:27:30,209 | server.py:222 | fit_round 18: strategy sampled 2 clients (out of 3)\n"
     ]
    },
    {
     "name": "stdout",
     "output_type": "stream",
     "text": [
      "agrregate_fit results list length is  2\n",
      "Saving round 17 aggregated_parameters...\n",
      "agrregate_evaluate results list length is  2\n",
      "server round is  17\n",
      "loss is  2.229205175600739\n"
     ]
    },
    {
     "name": "stderr",
     "output_type": "stream",
     "text": [
      "DEBUG flwr 2023-08-31 02:27:35,265 | server.py:236 | fit_round 18 received 2 results and 0 failures\n",
      "DEBUG flwr 2023-08-31 02:27:35,292 | server.py:173 | evaluate_round 18: strategy sampled 2 clients (out of 3)\n",
      "DEBUG flwr 2023-08-31 02:27:35,336 | server.py:187 | evaluate_round 18 received 2 results and 0 failures\n",
      "DEBUG flwr 2023-08-31 02:27:35,338 | server.py:222 | fit_round 19: strategy sampled 2 clients (out of 3)\n"
     ]
    },
    {
     "name": "stdout",
     "output_type": "stream",
     "text": [
      "agrregate_fit results list length is  2\n",
      "Saving round 18 aggregated_parameters...\n",
      "agrregate_evaluate results list length is  2\n",
      "server round is  18\n",
      "loss is  2.4861367837338264\n"
     ]
    },
    {
     "name": "stderr",
     "output_type": "stream",
     "text": [
      "DEBUG flwr 2023-08-31 02:27:40,275 | server.py:236 | fit_round 19 received 2 results and 0 failures\n",
      "DEBUG flwr 2023-08-31 02:27:40,298 | server.py:173 | evaluate_round 19: strategy sampled 2 clients (out of 3)\n",
      "DEBUG flwr 2023-08-31 02:27:40,342 | server.py:187 | evaluate_round 19 received 2 results and 0 failures\n",
      "DEBUG flwr 2023-08-31 02:27:40,344 | server.py:222 | fit_round 20: strategy sampled 2 clients (out of 3)\n"
     ]
    },
    {
     "name": "stdout",
     "output_type": "stream",
     "text": [
      "agrregate_fit results list length is  2\n",
      "Saving round 19 aggregated_parameters...\n",
      "agrregate_evaluate results list length is  2\n",
      "server round is  19\n",
      "loss is  2.210720887245841\n"
     ]
    },
    {
     "name": "stderr",
     "output_type": "stream",
     "text": [
      "DEBUG flwr 2023-08-31 02:27:46,111 | server.py:236 | fit_round 20 received 2 results and 0 failures\n",
      "DEBUG flwr 2023-08-31 02:27:46,143 | server.py:173 | evaluate_round 20: strategy sampled 2 clients (out of 3)\n",
      "DEBUG flwr 2023-08-31 02:27:46,205 | server.py:187 | evaluate_round 20 received 2 results and 0 failures\n",
      "DEBUG flwr 2023-08-31 02:27:46,208 | server.py:222 | fit_round 21: strategy sampled 2 clients (out of 3)\n"
     ]
    },
    {
     "name": "stdout",
     "output_type": "stream",
     "text": [
      "agrregate_fit results list length is  2\n",
      "Saving round 20 aggregated_parameters...\n",
      "agrregate_evaluate results list length is  2\n",
      "server round is  20\n",
      "loss is  2.0942698706099816\n"
     ]
    },
    {
     "name": "stderr",
     "output_type": "stream",
     "text": [
      "DEBUG flwr 2023-08-31 02:27:51,359 | server.py:236 | fit_round 21 received 2 results and 0 failures\n",
      "DEBUG flwr 2023-08-31 02:27:51,379 | server.py:173 | evaluate_round 21: strategy sampled 2 clients (out of 3)\n",
      "DEBUG flwr 2023-08-31 02:27:51,422 | server.py:187 | evaluate_round 21 received 2 results and 0 failures\n",
      "DEBUG flwr 2023-08-31 02:27:51,423 | server.py:222 | fit_round 22: strategy sampled 2 clients (out of 3)\n"
     ]
    },
    {
     "name": "stdout",
     "output_type": "stream",
     "text": [
      "agrregate_fit results list length is  2\n",
      "Saving round 21 aggregated_parameters...\n",
      "agrregate_evaluate results list length is  2\n",
      "server round is  21\n",
      "loss is  1.9685767097966729\n"
     ]
    },
    {
     "name": "stderr",
     "output_type": "stream",
     "text": [
      "DEBUG flwr 2023-08-31 02:27:56,382 | server.py:236 | fit_round 22 received 2 results and 0 failures\n",
      "DEBUG flwr 2023-08-31 02:27:56,405 | server.py:173 | evaluate_round 22: strategy sampled 2 clients (out of 3)\n",
      "DEBUG flwr 2023-08-31 02:27:56,452 | server.py:187 | evaluate_round 22 received 2 results and 0 failures\n",
      "DEBUG flwr 2023-08-31 02:27:56,455 | server.py:222 | fit_round 23: strategy sampled 2 clients (out of 3)\n"
     ]
    },
    {
     "name": "stdout",
     "output_type": "stream",
     "text": [
      "agrregate_fit results list length is  2\n",
      "Saving round 22 aggregated_parameters...\n",
      "agrregate_evaluate results list length is  2\n",
      "server round is  22\n",
      "loss is  2.0591497227356745\n"
     ]
    },
    {
     "name": "stderr",
     "output_type": "stream",
     "text": [
      "DEBUG flwr 2023-08-31 02:28:00,981 | server.py:236 | fit_round 23 received 2 results and 0 failures\n",
      "DEBUG flwr 2023-08-31 02:28:01,006 | server.py:173 | evaluate_round 23: strategy sampled 2 clients (out of 3)\n",
      "DEBUG flwr 2023-08-31 02:28:01,049 | server.py:187 | evaluate_round 23 received 2 results and 0 failures\n",
      "DEBUG flwr 2023-08-31 02:28:01,050 | server.py:222 | fit_round 24: strategy sampled 2 clients (out of 3)\n"
     ]
    },
    {
     "name": "stdout",
     "output_type": "stream",
     "text": [
      "agrregate_fit results list length is  2\n",
      "Saving round 23 aggregated_parameters...\n",
      "agrregate_evaluate results list length is  2\n",
      "server round is  23\n",
      "loss is  2.009242144177449\n"
     ]
    },
    {
     "name": "stderr",
     "output_type": "stream",
     "text": [
      "DEBUG flwr 2023-08-31 02:28:05,615 | server.py:236 | fit_round 24 received 2 results and 0 failures\n",
      "DEBUG flwr 2023-08-31 02:28:05,637 | server.py:173 | evaluate_round 24: strategy sampled 2 clients (out of 3)\n",
      "DEBUG flwr 2023-08-31 02:28:05,678 | server.py:187 | evaluate_round 24 received 2 results and 0 failures\n",
      "DEBUG flwr 2023-08-31 02:28:05,680 | server.py:222 | fit_round 25: strategy sampled 2 clients (out of 3)\n"
     ]
    },
    {
     "name": "stdout",
     "output_type": "stream",
     "text": [
      "agrregate_fit results list length is  2\n",
      "Saving round 24 aggregated_parameters...\n",
      "agrregate_evaluate results list length is  2\n",
      "server round is  24\n",
      "loss is  2.1182994454713495\n"
     ]
    },
    {
     "name": "stderr",
     "output_type": "stream",
     "text": [
      "DEBUG flwr 2023-08-31 02:28:10,200 | server.py:236 | fit_round 25 received 2 results and 0 failures\n",
      "DEBUG flwr 2023-08-31 02:28:10,220 | server.py:173 | evaluate_round 25: strategy sampled 2 clients (out of 3)\n",
      "DEBUG flwr 2023-08-31 02:28:10,266 | server.py:187 | evaluate_round 25 received 2 results and 0 failures\n",
      "DEBUG flwr 2023-08-31 02:28:10,268 | server.py:222 | fit_round 26: strategy sampled 2 clients (out of 3)\n"
     ]
    },
    {
     "name": "stdout",
     "output_type": "stream",
     "text": [
      "agrregate_fit results list length is  2\n",
      "Saving round 25 aggregated_parameters...\n",
      "agrregate_evaluate results list length is  2\n",
      "server round is  25\n",
      "loss is  2.134935304990758\n"
     ]
    },
    {
     "name": "stderr",
     "output_type": "stream",
     "text": [
      "DEBUG flwr 2023-08-31 02:28:14,975 | server.py:236 | fit_round 26 received 2 results and 0 failures\n",
      "DEBUG flwr 2023-08-31 02:28:14,993 | server.py:173 | evaluate_round 26: strategy sampled 2 clients (out of 3)\n",
      "DEBUG flwr 2023-08-31 02:28:15,027 | server.py:187 | evaluate_round 26 received 2 results and 0 failures\n",
      "DEBUG flwr 2023-08-31 02:28:15,028 | server.py:222 | fit_round 27: strategy sampled 2 clients (out of 3)\n"
     ]
    },
    {
     "name": "stdout",
     "output_type": "stream",
     "text": [
      "agrregate_fit results list length is  2\n",
      "Saving round 26 aggregated_parameters...\n",
      "agrregate_evaluate results list length is  2\n",
      "server round is  26\n",
      "loss is  1.9944547134935304\n"
     ]
    },
    {
     "name": "stderr",
     "output_type": "stream",
     "text": [
      "DEBUG flwr 2023-08-31 02:28:19,603 | server.py:236 | fit_round 27 received 2 results and 0 failures\n",
      "DEBUG flwr 2023-08-31 02:28:19,623 | server.py:173 | evaluate_round 27: strategy sampled 2 clients (out of 3)\n",
      "DEBUG flwr 2023-08-31 02:28:19,666 | server.py:187 | evaluate_round 27 received 2 results and 0 failures\n",
      "DEBUG flwr 2023-08-31 02:28:19,669 | server.py:222 | fit_round 28: strategy sampled 2 clients (out of 3)\n"
     ]
    },
    {
     "name": "stdout",
     "output_type": "stream",
     "text": [
      "agrregate_fit results list length is  2\n",
      "Saving round 27 aggregated_parameters...\n",
      "agrregate_evaluate results list length is  2\n",
      "server round is  27\n",
      "loss is  2.1737523105360443\n"
     ]
    },
    {
     "name": "stderr",
     "output_type": "stream",
     "text": [
      "DEBUG flwr 2023-08-31 02:28:24,284 | server.py:236 | fit_round 28 received 2 results and 0 failures\n",
      "DEBUG flwr 2023-08-31 02:28:24,309 | server.py:173 | evaluate_round 28: strategy sampled 2 clients (out of 3)\n",
      "DEBUG flwr 2023-08-31 02:28:24,358 | server.py:187 | evaluate_round 28 received 2 results and 0 failures\n",
      "DEBUG flwr 2023-08-31 02:28:24,360 | server.py:222 | fit_round 29: strategy sampled 2 clients (out of 3)\n"
     ]
    },
    {
     "name": "stdout",
     "output_type": "stream",
     "text": [
      "agrregate_fit results list length is  2\n",
      "Saving round 28 aggregated_parameters...\n",
      "agrregate_evaluate results list length is  2\n",
      "server round is  28\n",
      "loss is  2.042513863216266\n"
     ]
    },
    {
     "name": "stderr",
     "output_type": "stream",
     "text": [
      "DEBUG flwr 2023-08-31 02:28:29,051 | server.py:236 | fit_round 29 received 2 results and 0 failures\n",
      "DEBUG flwr 2023-08-31 02:28:29,069 | server.py:173 | evaluate_round 29: strategy sampled 2 clients (out of 3)\n",
      "DEBUG flwr 2023-08-31 02:28:29,112 | server.py:187 | evaluate_round 29 received 2 results and 0 failures\n",
      "DEBUG flwr 2023-08-31 02:28:29,115 | server.py:222 | fit_round 30: strategy sampled 2 clients (out of 3)\n"
     ]
    },
    {
     "name": "stdout",
     "output_type": "stream",
     "text": [
      "agrregate_fit results list length is  2\n",
      "Saving round 29 aggregated_parameters...\n",
      "agrregate_evaluate results list length is  2\n",
      "server round is  29\n",
      "loss is  2.2846580406654344\n"
     ]
    },
    {
     "name": "stderr",
     "output_type": "stream",
     "text": [
      "DEBUG flwr 2023-08-31 02:28:33,644 | server.py:236 | fit_round 30 received 2 results and 0 failures\n",
      "DEBUG flwr 2023-08-31 02:28:33,668 | server.py:173 | evaluate_round 30: strategy sampled 2 clients (out of 3)\n",
      "DEBUG flwr 2023-08-31 02:28:33,710 | server.py:187 | evaluate_round 30 received 2 results and 0 failures\n",
      "DEBUG flwr 2023-08-31 02:28:33,711 | server.py:222 | fit_round 31: strategy sampled 2 clients (out of 3)\n"
     ]
    },
    {
     "name": "stdout",
     "output_type": "stream",
     "text": [
      "agrregate_fit results list length is  2\n",
      "Saving round 30 aggregated_parameters...\n",
      "agrregate_evaluate results list length is  2\n",
      "server round is  30\n",
      "loss is  2.1404805914972274\n"
     ]
    },
    {
     "name": "stderr",
     "output_type": "stream",
     "text": [
      "DEBUG flwr 2023-08-31 02:28:38,254 | server.py:236 | fit_round 31 received 2 results and 0 failures\n",
      "DEBUG flwr 2023-08-31 02:28:38,273 | server.py:173 | evaluate_round 31: strategy sampled 2 clients (out of 3)\n",
      "DEBUG flwr 2023-08-31 02:28:38,314 | server.py:187 | evaluate_round 31 received 2 results and 0 failures\n",
      "DEBUG flwr 2023-08-31 02:28:38,315 | server.py:222 | fit_round 32: strategy sampled 2 clients (out of 3)\n"
     ]
    },
    {
     "name": "stdout",
     "output_type": "stream",
     "text": [
      "agrregate_fit results list length is  2\n",
      "Saving round 31 aggregated_parameters...\n",
      "agrregate_evaluate results list length is  2\n",
      "server round is  31\n",
      "loss is  1.944547134935305\n"
     ]
    },
    {
     "name": "stderr",
     "output_type": "stream",
     "text": [
      "DEBUG flwr 2023-08-31 02:28:42,885 | server.py:236 | fit_round 32 received 2 results and 0 failures\n",
      "DEBUG flwr 2023-08-31 02:28:42,905 | server.py:173 | evaluate_round 32: strategy sampled 2 clients (out of 3)\n",
      "DEBUG flwr 2023-08-31 02:28:42,951 | server.py:187 | evaluate_round 32 received 2 results and 0 failures\n",
      "DEBUG flwr 2023-08-31 02:28:42,952 | server.py:222 | fit_round 33: strategy sampled 2 clients (out of 3)\n"
     ]
    },
    {
     "name": "stdout",
     "output_type": "stream",
     "text": [
      "agrregate_fit results list length is  2\n",
      "Saving round 32 aggregated_parameters...\n",
      "agrregate_evaluate results list length is  2\n",
      "server round is  32\n",
      "loss is  1.988909426987061\n"
     ]
    },
    {
     "name": "stderr",
     "output_type": "stream",
     "text": [
      "DEBUG flwr 2023-08-31 02:28:47,222 | server.py:236 | fit_round 33 received 2 results and 0 failures\n",
      "DEBUG flwr 2023-08-31 02:28:47,242 | server.py:173 | evaluate_round 33: strategy sampled 2 clients (out of 3)\n",
      "DEBUG flwr 2023-08-31 02:28:47,281 | server.py:187 | evaluate_round 33 received 2 results and 0 failures\n",
      "DEBUG flwr 2023-08-31 02:28:47,283 | server.py:222 | fit_round 34: strategy sampled 2 clients (out of 3)\n"
     ]
    },
    {
     "name": "stdout",
     "output_type": "stream",
     "text": [
      "agrregate_fit results list length is  2\n",
      "Saving round 33 aggregated_parameters...\n",
      "agrregate_evaluate results list length is  2\n",
      "server round is  33\n",
      "loss is  2.147874306839187\n"
     ]
    },
    {
     "name": "stderr",
     "output_type": "stream",
     "text": [
      "DEBUG flwr 2023-08-31 02:28:51,886 | server.py:236 | fit_round 34 received 2 results and 0 failures\n",
      "DEBUG flwr 2023-08-31 02:28:51,909 | server.py:173 | evaluate_round 34: strategy sampled 2 clients (out of 3)\n",
      "DEBUG flwr 2023-08-31 02:28:51,945 | server.py:187 | evaluate_round 34 received 2 results and 0 failures\n",
      "DEBUG flwr 2023-08-31 02:28:51,947 | server.py:222 | fit_round 35: strategy sampled 2 clients (out of 3)\n"
     ]
    },
    {
     "name": "stdout",
     "output_type": "stream",
     "text": [
      "agrregate_fit results list length is  2\n",
      "Saving round 34 aggregated_parameters...\n",
      "agrregate_evaluate results list length is  2\n",
      "server round is  34\n",
      "loss is  2.1404805914972274\n"
     ]
    },
    {
     "name": "stderr",
     "output_type": "stream",
     "text": [
      "DEBUG flwr 2023-08-31 02:28:56,125 | server.py:236 | fit_round 35 received 2 results and 0 failures\n",
      "DEBUG flwr 2023-08-31 02:28:56,144 | server.py:173 | evaluate_round 35: strategy sampled 2 clients (out of 3)\n",
      "DEBUG flwr 2023-08-31 02:28:56,184 | server.py:187 | evaluate_round 35 received 2 results and 0 failures\n",
      "DEBUG flwr 2023-08-31 02:28:56,185 | server.py:222 | fit_round 36: strategy sampled 2 clients (out of 3)\n"
     ]
    },
    {
     "name": "stdout",
     "output_type": "stream",
     "text": [
      "agrregate_fit results list length is  2\n",
      "Saving round 35 aggregated_parameters...\n",
      "agrregate_evaluate results list length is  2\n",
      "server round is  35\n",
      "loss is  2.21996303142329\n"
     ]
    },
    {
     "name": "stderr",
     "output_type": "stream",
     "text": [
      "DEBUG flwr 2023-08-31 02:29:00,624 | server.py:236 | fit_round 36 received 2 results and 0 failures\n",
      "DEBUG flwr 2023-08-31 02:29:00,652 | server.py:173 | evaluate_round 36: strategy sampled 2 clients (out of 3)\n",
      "DEBUG flwr 2023-08-31 02:29:00,693 | server.py:187 | evaluate_round 36 received 2 results and 0 failures\n",
      "DEBUG flwr 2023-08-31 02:29:00,694 | server.py:222 | fit_round 37: strategy sampled 2 clients (out of 3)\n"
     ]
    },
    {
     "name": "stdout",
     "output_type": "stream",
     "text": [
      "agrregate_fit results list length is  2\n",
      "Saving round 36 aggregated_parameters...\n",
      "agrregate_evaluate results list length is  2\n",
      "server round is  36\n",
      "loss is  1.8909426987060998\n"
     ]
    },
    {
     "name": "stderr",
     "output_type": "stream",
     "text": [
      "DEBUG flwr 2023-08-31 02:29:05,247 | server.py:236 | fit_round 37 received 2 results and 0 failures\n",
      "DEBUG flwr 2023-08-31 02:29:05,268 | server.py:173 | evaluate_round 37: strategy sampled 2 clients (out of 3)\n",
      "DEBUG flwr 2023-08-31 02:29:05,317 | server.py:187 | evaluate_round 37 received 2 results and 0 failures\n",
      "DEBUG flwr 2023-08-31 02:29:05,319 | server.py:222 | fit_round 38: strategy sampled 2 clients (out of 3)\n"
     ]
    },
    {
     "name": "stdout",
     "output_type": "stream",
     "text": [
      "agrregate_fit results list length is  2\n",
      "Saving round 37 aggregated_parameters...\n",
      "agrregate_evaluate results list length is  2\n",
      "server round is  37\n",
      "loss is  2.0831792975970425\n"
     ]
    },
    {
     "name": "stderr",
     "output_type": "stream",
     "text": [
      "DEBUG flwr 2023-08-31 02:29:10,069 | server.py:236 | fit_round 38 received 2 results and 0 failures\n",
      "DEBUG flwr 2023-08-31 02:29:10,088 | server.py:173 | evaluate_round 38: strategy sampled 2 clients (out of 3)\n",
      "DEBUG flwr 2023-08-31 02:29:10,124 | server.py:187 | evaluate_round 38 received 2 results and 0 failures\n",
      "DEBUG flwr 2023-08-31 02:29:10,128 | server.py:222 | fit_round 39: strategy sampled 2 clients (out of 3)\n"
     ]
    },
    {
     "name": "stdout",
     "output_type": "stream",
     "text": [
      "agrregate_fit results list length is  2\n",
      "Saving round 38 aggregated_parameters...\n",
      "agrregate_evaluate results list length is  2\n",
      "server round is  38\n",
      "loss is  1.9630314232902033\n"
     ]
    },
    {
     "name": "stderr",
     "output_type": "stream",
     "text": [
      "DEBUG flwr 2023-08-31 02:29:14,432 | server.py:236 | fit_round 39 received 2 results and 0 failures\n",
      "DEBUG flwr 2023-08-31 02:29:14,454 | server.py:173 | evaluate_round 39: strategy sampled 2 clients (out of 3)\n",
      "DEBUG flwr 2023-08-31 02:29:14,497 | server.py:187 | evaluate_round 39 received 2 results and 0 failures\n",
      "DEBUG flwr 2023-08-31 02:29:14,499 | server.py:222 | fit_round 40: strategy sampled 2 clients (out of 3)\n"
     ]
    },
    {
     "name": "stdout",
     "output_type": "stream",
     "text": [
      "agrregate_fit results list length is  2\n",
      "Saving round 39 aggregated_parameters...\n",
      "agrregate_evaluate results list length is  2\n",
      "server round is  39\n",
      "loss is  2.354898336414048\n"
     ]
    },
    {
     "name": "stderr",
     "output_type": "stream",
     "text": [
      "DEBUG flwr 2023-08-31 02:29:18,722 | server.py:236 | fit_round 40 received 2 results and 0 failures\n",
      "DEBUG flwr 2023-08-31 02:29:18,743 | server.py:173 | evaluate_round 40: strategy sampled 2 clients (out of 3)\n",
      "DEBUG flwr 2023-08-31 02:29:18,783 | server.py:187 | evaluate_round 40 received 2 results and 0 failures\n",
      "DEBUG flwr 2023-08-31 02:29:18,785 | server.py:222 | fit_round 41: strategy sampled 2 clients (out of 3)\n"
     ]
    },
    {
     "name": "stdout",
     "output_type": "stream",
     "text": [
      "agrregate_fit results list length is  2\n",
      "Saving round 40 aggregated_parameters...\n",
      "agrregate_evaluate results list length is  2\n",
      "server round is  40\n",
      "loss is  2.081330868761553\n"
     ]
    },
    {
     "name": "stderr",
     "output_type": "stream",
     "text": [
      "DEBUG flwr 2023-08-31 02:29:23,065 | server.py:236 | fit_round 41 received 2 results and 0 failures\n",
      "DEBUG flwr 2023-08-31 02:29:23,088 | server.py:173 | evaluate_round 41: strategy sampled 2 clients (out of 3)\n",
      "DEBUG flwr 2023-08-31 02:29:23,135 | server.py:187 | evaluate_round 41 received 2 results and 0 failures\n",
      "DEBUG flwr 2023-08-31 02:29:23,136 | server.py:222 | fit_round 42: strategy sampled 2 clients (out of 3)\n"
     ]
    },
    {
     "name": "stdout",
     "output_type": "stream",
     "text": [
      "agrregate_fit results list length is  2\n",
      "Saving round 41 aggregated_parameters...\n",
      "agrregate_evaluate results list length is  2\n",
      "server round is  41\n",
      "loss is  2.1072088724584104\n"
     ]
    },
    {
     "name": "stderr",
     "output_type": "stream",
     "text": [
      "DEBUG flwr 2023-08-31 02:29:27,877 | server.py:236 | fit_round 42 received 2 results and 0 failures\n",
      "DEBUG flwr 2023-08-31 02:29:27,896 | server.py:173 | evaluate_round 42: strategy sampled 2 clients (out of 3)\n",
      "DEBUG flwr 2023-08-31 02:29:27,936 | server.py:187 | evaluate_round 42 received 2 results and 0 failures\n",
      "DEBUG flwr 2023-08-31 02:29:27,937 | server.py:222 | fit_round 43: strategy sampled 2 clients (out of 3)\n"
     ]
    },
    {
     "name": "stdout",
     "output_type": "stream",
     "text": [
      "agrregate_fit results list length is  2\n",
      "Saving round 42 aggregated_parameters...\n",
      "agrregate_evaluate results list length is  2\n",
      "server round is  42\n",
      "loss is  2.088724584103512\n"
     ]
    },
    {
     "name": "stderr",
     "output_type": "stream",
     "text": [
      "DEBUG flwr 2023-08-31 02:29:32,610 | server.py:236 | fit_round 43 received 2 results and 0 failures\n",
      "DEBUG flwr 2023-08-31 02:29:32,633 | server.py:173 | evaluate_round 43: strategy sampled 2 clients (out of 3)\n",
      "DEBUG flwr 2023-08-31 02:29:32,672 | server.py:187 | evaluate_round 43 received 2 results and 0 failures\n",
      "DEBUG flwr 2023-08-31 02:29:32,673 | server.py:222 | fit_round 44: strategy sampled 2 clients (out of 3)\n"
     ]
    },
    {
     "name": "stdout",
     "output_type": "stream",
     "text": [
      "agrregate_fit results list length is  2\n",
      "Saving round 43 aggregated_parameters...\n",
      "agrregate_evaluate results list length is  2\n",
      "server round is  43\n",
      "loss is  2.0258780036968576\n"
     ]
    },
    {
     "name": "stderr",
     "output_type": "stream",
     "text": [
      "DEBUG flwr 2023-08-31 02:29:37,201 | server.py:236 | fit_round 44 received 2 results and 0 failures\n",
      "DEBUG flwr 2023-08-31 02:29:37,220 | server.py:173 | evaluate_round 44: strategy sampled 2 clients (out of 3)\n",
      "DEBUG flwr 2023-08-31 02:29:37,259 | server.py:187 | evaluate_round 44 received 2 results and 0 failures\n",
      "DEBUG flwr 2023-08-31 02:29:37,260 | server.py:222 | fit_round 45: strategy sampled 2 clients (out of 3)\n"
     ]
    },
    {
     "name": "stdout",
     "output_type": "stream",
     "text": [
      "agrregate_fit results list length is  2\n",
      "Saving round 44 aggregated_parameters...\n",
      "agrregate_evaluate results list length is  2\n",
      "server round is  44\n",
      "loss is  1.9833641404805915\n"
     ]
    },
    {
     "name": "stderr",
     "output_type": "stream",
     "text": [
      "DEBUG flwr 2023-08-31 02:29:42,841 | server.py:236 | fit_round 45 received 2 results and 0 failures\n",
      "DEBUG flwr 2023-08-31 02:29:42,859 | server.py:173 | evaluate_round 45: strategy sampled 2 clients (out of 3)\n",
      "DEBUG flwr 2023-08-31 02:29:42,895 | server.py:187 | evaluate_round 45 received 2 results and 0 failures\n",
      "DEBUG flwr 2023-08-31 02:29:42,897 | server.py:222 | fit_round 46: strategy sampled 2 clients (out of 3)\n"
     ]
    },
    {
     "name": "stdout",
     "output_type": "stream",
     "text": [
      "agrregate_fit results list length is  2\n",
      "Saving round 45 aggregated_parameters...\n",
      "agrregate_evaluate results list length is  2\n",
      "server round is  45\n",
      "loss is  1.8170055452865064\n"
     ]
    },
    {
     "name": "stderr",
     "output_type": "stream",
     "text": [
      "DEBUG flwr 2023-08-31 02:29:47,432 | server.py:236 | fit_round 46 received 2 results and 0 failures\n",
      "DEBUG flwr 2023-08-31 02:29:47,452 | server.py:173 | evaluate_round 46: strategy sampled 2 clients (out of 3)\n",
      "DEBUG flwr 2023-08-31 02:29:47,496 | server.py:187 | evaluate_round 46 received 2 results and 0 failures\n",
      "DEBUG flwr 2023-08-31 02:29:47,497 | server.py:222 | fit_round 47: strategy sampled 2 clients (out of 3)\n"
     ]
    },
    {
     "name": "stdout",
     "output_type": "stream",
     "text": [
      "agrregate_fit results list length is  2\n",
      "Saving round 46 aggregated_parameters...\n",
      "agrregate_evaluate results list length is  2\n",
      "server round is  46\n",
      "loss is  2.0517560073937156\n"
     ]
    },
    {
     "name": "stderr",
     "output_type": "stream",
     "text": [
      "DEBUG flwr 2023-08-31 02:29:51,915 | server.py:236 | fit_round 47 received 2 results and 0 failures\n",
      "DEBUG flwr 2023-08-31 02:29:51,934 | server.py:173 | evaluate_round 47: strategy sampled 2 clients (out of 3)\n",
      "DEBUG flwr 2023-08-31 02:29:51,973 | server.py:187 | evaluate_round 47 received 2 results and 0 failures\n",
      "DEBUG flwr 2023-08-31 02:29:51,974 | server.py:222 | fit_round 48: strategy sampled 2 clients (out of 3)\n"
     ]
    },
    {
     "name": "stdout",
     "output_type": "stream",
     "text": [
      "agrregate_fit results list length is  2\n",
      "Saving round 47 aggregated_parameters...\n",
      "agrregate_evaluate results list length is  2\n",
      "server round is  47\n",
      "loss is  1.7929759704251387\n"
     ]
    },
    {
     "name": "stderr",
     "output_type": "stream",
     "text": [
      "DEBUG flwr 2023-08-31 02:29:56,540 | server.py:236 | fit_round 48 received 2 results and 0 failures\n",
      "DEBUG flwr 2023-08-31 02:29:56,563 | server.py:173 | evaluate_round 48: strategy sampled 2 clients (out of 3)\n",
      "DEBUG flwr 2023-08-31 02:29:56,609 | server.py:187 | evaluate_round 48 received 2 results and 0 failures\n",
      "DEBUG flwr 2023-08-31 02:29:56,611 | server.py:222 | fit_round 49: strategy sampled 2 clients (out of 3)\n"
     ]
    },
    {
     "name": "stdout",
     "output_type": "stream",
     "text": [
      "agrregate_fit results list length is  2\n",
      "Saving round 48 aggregated_parameters...\n",
      "agrregate_evaluate results list length is  2\n",
      "server round is  48\n",
      "loss is  1.8743068391866913\n"
     ]
    },
    {
     "name": "stderr",
     "output_type": "stream",
     "text": [
      "DEBUG flwr 2023-08-31 02:30:01,320 | server.py:236 | fit_round 49 received 2 results and 0 failures\n",
      "DEBUG flwr 2023-08-31 02:30:01,341 | server.py:173 | evaluate_round 49: strategy sampled 2 clients (out of 3)\n",
      "DEBUG flwr 2023-08-31 02:30:01,384 | server.py:187 | evaluate_round 49 received 2 results and 0 failures\n",
      "DEBUG flwr 2023-08-31 02:30:01,386 | server.py:222 | fit_round 50: strategy sampled 2 clients (out of 3)\n"
     ]
    },
    {
     "name": "stdout",
     "output_type": "stream",
     "text": [
      "agrregate_fit results list length is  2\n",
      "Saving round 49 aggregated_parameters...\n",
      "agrregate_evaluate results list length is  2\n",
      "server round is  49\n",
      "loss is  2.018484288354898\n"
     ]
    },
    {
     "name": "stderr",
     "output_type": "stream",
     "text": [
      "DEBUG flwr 2023-08-31 02:30:05,946 | server.py:236 | fit_round 50 received 2 results and 0 failures\n",
      "DEBUG flwr 2023-08-31 02:30:05,965 | server.py:173 | evaluate_round 50: strategy sampled 2 clients (out of 3)\n",
      "DEBUG flwr 2023-08-31 02:30:06,022 | server.py:187 | evaluate_round 50 received 2 results and 0 failures\n",
      "DEBUG flwr 2023-08-31 02:30:06,024 | server.py:222 | fit_round 51: strategy sampled 2 clients (out of 3)\n"
     ]
    },
    {
     "name": "stdout",
     "output_type": "stream",
     "text": [
      "agrregate_fit results list length is  2\n",
      "Saving round 50 aggregated_parameters...\n",
      "agrregate_evaluate results list length is  2\n",
      "server round is  50\n",
      "loss is  1.88909426987061\n"
     ]
    },
    {
     "name": "stderr",
     "output_type": "stream",
     "text": [
      "DEBUG flwr 2023-08-31 02:30:10,401 | server.py:236 | fit_round 51 received 2 results and 0 failures\n",
      "DEBUG flwr 2023-08-31 02:30:10,426 | server.py:173 | evaluate_round 51: strategy sampled 2 clients (out of 3)\n",
      "DEBUG flwr 2023-08-31 02:30:10,471 | server.py:187 | evaluate_round 51 received 2 results and 0 failures\n",
      "DEBUG flwr 2023-08-31 02:30:10,473 | server.py:222 | fit_round 52: strategy sampled 2 clients (out of 3)\n"
     ]
    },
    {
     "name": "stdout",
     "output_type": "stream",
     "text": [
      "agrregate_fit results list length is  2\n",
      "Saving round 51 aggregated_parameters...\n",
      "agrregate_evaluate results list length is  2\n",
      "server round is  51\n",
      "loss is  2.1256931608133085\n"
     ]
    },
    {
     "name": "stderr",
     "output_type": "stream",
     "text": [
      "DEBUG flwr 2023-08-31 02:30:14,969 | server.py:236 | fit_round 52 received 2 results and 0 failures\n",
      "DEBUG flwr 2023-08-31 02:30:14,987 | server.py:173 | evaluate_round 52: strategy sampled 2 clients (out of 3)\n",
      "DEBUG flwr 2023-08-31 02:30:15,025 | server.py:187 | evaluate_round 52 received 2 results and 0 failures\n",
      "DEBUG flwr 2023-08-31 02:30:15,027 | server.py:222 | fit_round 53: strategy sampled 2 clients (out of 3)\n"
     ]
    },
    {
     "name": "stdout",
     "output_type": "stream",
     "text": [
      "agrregate_fit results list length is  2\n",
      "Saving round 52 aggregated_parameters...\n",
      "agrregate_evaluate results list length is  2\n",
      "server round is  52\n",
      "loss is  1.9611829944547134\n"
     ]
    },
    {
     "name": "stderr",
     "output_type": "stream",
     "text": [
      "DEBUG flwr 2023-08-31 02:30:19,648 | server.py:236 | fit_round 53 received 2 results and 0 failures\n",
      "DEBUG flwr 2023-08-31 02:30:19,668 | server.py:173 | evaluate_round 53: strategy sampled 2 clients (out of 3)\n",
      "DEBUG flwr 2023-08-31 02:30:19,705 | server.py:187 | evaluate_round 53 received 2 results and 0 failures\n",
      "DEBUG flwr 2023-08-31 02:30:19,706 | server.py:222 | fit_round 54: strategy sampled 2 clients (out of 3)\n"
     ]
    },
    {
     "name": "stdout",
     "output_type": "stream",
     "text": [
      "agrregate_fit results list length is  2\n",
      "Saving round 53 aggregated_parameters...\n",
      "agrregate_evaluate results list length is  2\n",
      "server round is  53\n",
      "loss is  1.933456561922366\n"
     ]
    },
    {
     "name": "stderr",
     "output_type": "stream",
     "text": [
      "DEBUG flwr 2023-08-31 02:30:24,080 | server.py:236 | fit_round 54 received 2 results and 0 failures\n",
      "DEBUG flwr 2023-08-31 02:30:24,102 | server.py:173 | evaluate_round 54: strategy sampled 2 clients (out of 3)\n",
      "DEBUG flwr 2023-08-31 02:30:24,149 | server.py:187 | evaluate_round 54 received 2 results and 0 failures\n",
      "DEBUG flwr 2023-08-31 02:30:24,151 | server.py:222 | fit_round 55: strategy sampled 2 clients (out of 3)\n"
     ]
    },
    {
     "name": "stdout",
     "output_type": "stream",
     "text": [
      "agrregate_fit results list length is  2\n",
      "Saving round 54 aggregated_parameters...\n",
      "agrregate_evaluate results list length is  2\n",
      "server round is  54\n",
      "loss is  1.9038817005545285\n"
     ]
    },
    {
     "name": "stderr",
     "output_type": "stream",
     "text": [
      "DEBUG flwr 2023-08-31 02:30:28,816 | server.py:236 | fit_round 55 received 2 results and 0 failures\n",
      "DEBUG flwr 2023-08-31 02:30:28,835 | server.py:173 | evaluate_round 55: strategy sampled 2 clients (out of 3)\n",
      "DEBUG flwr 2023-08-31 02:30:28,871 | server.py:187 | evaluate_round 55 received 2 results and 0 failures\n",
      "DEBUG flwr 2023-08-31 02:30:28,873 | server.py:222 | fit_round 56: strategy sampled 2 clients (out of 3)\n"
     ]
    },
    {
     "name": "stdout",
     "output_type": "stream",
     "text": [
      "agrregate_fit results list length is  2\n",
      "Saving round 55 aggregated_parameters...\n",
      "agrregate_evaluate results list length is  2\n",
      "server round is  55\n",
      "loss is  1.9057301293900184\n"
     ]
    },
    {
     "name": "stderr",
     "output_type": "stream",
     "text": [
      "DEBUG flwr 2023-08-31 02:30:33,146 | server.py:236 | fit_round 56 received 2 results and 0 failures\n",
      "DEBUG flwr 2023-08-31 02:30:33,166 | server.py:173 | evaluate_round 56: strategy sampled 2 clients (out of 3)\n",
      "DEBUG flwr 2023-08-31 02:30:33,201 | server.py:187 | evaluate_round 56 received 2 results and 0 failures\n",
      "DEBUG flwr 2023-08-31 02:30:33,203 | server.py:222 | fit_round 57: strategy sampled 2 clients (out of 3)\n"
     ]
    },
    {
     "name": "stdout",
     "output_type": "stream",
     "text": [
      "agrregate_fit results list length is  2\n",
      "Saving round 56 aggregated_parameters...\n",
      "agrregate_evaluate results list length is  2\n",
      "server round is  56\n",
      "loss is  1.8964879852125693\n"
     ]
    },
    {
     "name": "stderr",
     "output_type": "stream",
     "text": [
      "DEBUG flwr 2023-08-31 02:30:37,531 | server.py:236 | fit_round 57 received 2 results and 0 failures\n",
      "DEBUG flwr 2023-08-31 02:30:37,551 | server.py:173 | evaluate_round 57: strategy sampled 2 clients (out of 3)\n",
      "DEBUG flwr 2023-08-31 02:30:37,596 | server.py:187 | evaluate_round 57 received 2 results and 0 failures\n",
      "DEBUG flwr 2023-08-31 02:30:37,598 | server.py:222 | fit_round 58: strategy sampled 2 clients (out of 3)\n"
     ]
    },
    {
     "name": "stdout",
     "output_type": "stream",
     "text": [
      "agrregate_fit results list length is  2\n",
      "Saving round 57 aggregated_parameters...\n",
      "agrregate_evaluate results list length is  2\n",
      "server round is  57\n",
      "loss is  1.8317929759704252\n"
     ]
    },
    {
     "name": "stderr",
     "output_type": "stream",
     "text": [
      "DEBUG flwr 2023-08-31 02:30:42,230 | server.py:236 | fit_round 58 received 2 results and 0 failures\n",
      "DEBUG flwr 2023-08-31 02:30:42,251 | server.py:173 | evaluate_round 58: strategy sampled 2 clients (out of 3)\n",
      "DEBUG flwr 2023-08-31 02:30:42,292 | server.py:187 | evaluate_round 58 received 2 results and 0 failures\n",
      "DEBUG flwr 2023-08-31 02:30:42,294 | server.py:222 | fit_round 59: strategy sampled 2 clients (out of 3)\n"
     ]
    },
    {
     "name": "stdout",
     "output_type": "stream",
     "text": [
      "agrregate_fit results list length is  2\n",
      "Saving round 58 aggregated_parameters...\n",
      "agrregate_evaluate results list length is  2\n",
      "server round is  58\n",
      "loss is  1.8835489833641406\n"
     ]
    },
    {
     "name": "stderr",
     "output_type": "stream",
     "text": [
      "DEBUG flwr 2023-08-31 02:30:46,590 | server.py:236 | fit_round 59 received 2 results and 0 failures\n",
      "DEBUG flwr 2023-08-31 02:30:46,612 | server.py:173 | evaluate_round 59: strategy sampled 2 clients (out of 3)\n",
      "DEBUG flwr 2023-08-31 02:30:46,652 | server.py:187 | evaluate_round 59 received 2 results and 0 failures\n",
      "DEBUG flwr 2023-08-31 02:30:46,654 | server.py:222 | fit_round 60: strategy sampled 2 clients (out of 3)\n"
     ]
    },
    {
     "name": "stdout",
     "output_type": "stream",
     "text": [
      "agrregate_fit results list length is  2\n",
      "Saving round 59 aggregated_parameters...\n",
      "agrregate_evaluate results list length is  2\n",
      "server round is  59\n",
      "loss is  1.9131238447319778\n"
     ]
    },
    {
     "name": "stderr",
     "output_type": "stream",
     "text": [
      "DEBUG flwr 2023-08-31 02:30:51,084 | server.py:236 | fit_round 60 received 2 results and 0 failures\n",
      "DEBUG flwr 2023-08-31 02:30:51,110 | server.py:173 | evaluate_round 60: strategy sampled 2 clients (out of 3)\n",
      "DEBUG flwr 2023-08-31 02:30:51,175 | server.py:187 | evaluate_round 60 received 2 results and 0 failures\n",
      "INFO flwr 2023-08-31 02:30:51,177 | server.py:153 | FL finished in 280.8997773999872\n",
      "INFO flwr 2023-08-31 02:30:51,178 | app.py:225 | app_fit: losses_distributed [(1, 2.988909426987061), (2, 4.018484288354898), (3, 2.866913123844732), (4, 2.8022181146025877), (5, 2.687615526802218), (6, 2.3715341959334566), (7, 2.1053604436229203), (8, 2.0702402957486137), (9, 2.33086876155268), (10, 2.22181146025878), (11, 2.299445471349353), (12, 2.3382624768946396), (13, 2.4861367837338264), (14, 1.9944547134935304), (15, 1.9463955637707948), (16, 2.3807763401109057), (17, 2.229205175600739), (18, 2.4861367837338264), (19, 2.210720887245841), (20, 2.0942698706099816), (21, 1.9685767097966729), (22, 2.0591497227356745), (23, 2.009242144177449), (24, 2.1182994454713495), (25, 2.134935304990758), (26, 1.9944547134935304), (27, 2.1737523105360443), (28, 2.042513863216266), (29, 2.2846580406654344), (30, 2.1404805914972274), (31, 1.944547134935305), (32, 1.988909426987061), (33, 2.147874306839187), (34, 2.1404805914972274), (35, 2.21996303142329), (36, 1.8909426987060998), (37, 2.0831792975970425), (38, 1.9630314232902033), (39, 2.354898336414048), (40, 2.081330868761553), (41, 2.1072088724584104), (42, 2.088724584103512), (43, 2.0258780036968576), (44, 1.9833641404805915), (45, 1.8170055452865064), (46, 2.0517560073937156), (47, 1.7929759704251387), (48, 1.8743068391866913), (49, 2.018484288354898), (50, 1.88909426987061), (51, 2.1256931608133085), (52, 1.9611829944547134), (53, 1.933456561922366), (54, 1.9038817005545285), (55, 1.9057301293900184), (56, 1.8964879852125693), (57, 1.8317929759704252), (58, 1.8835489833641406), (59, 1.9131238447319778), (60, 1.8151571164510167)]\n",
      "INFO flwr 2023-08-31 02:30:51,179 | app.py:226 | app_fit: metrics_distributed_fit {}\n",
      "INFO flwr 2023-08-31 02:30:51,180 | app.py:227 | app_fit: metrics_distributed {'mse': [(1, 5.977818853974122), (2, 8.036968576709796), (3, 5.733826247689464), (4, 5.6044362292051755), (5, 5.375231053604436), (6, 4.743068391866913), (7, 4.210720887245841), (8, 4.140480591497227), (9, 4.66173752310536), (10, 4.44362292051756), (11, 4.598890942698706), (12, 4.676524953789279), (13, 4.972273567467653), (14, 3.988909426987061), (15, 3.8927911275415896), (16, 4.761552680221811), (17, 4.458410351201478), (18, 4.972273567467653), (19, 4.421441774491682), (20, 4.188539741219963), (21, 3.9371534195933457), (22, 4.118299445471349), (23, 4.018484288354898), (24, 4.236598890942699), (25, 4.269870609981516), (26, 3.988909426987061), (27, 4.347504621072089), (28, 4.085027726432532), (29, 4.569316081330869), (30, 4.280961182994455), (31, 3.88909426987061), (32, 3.977818853974122), (33, 4.295748613678374), (34, 4.280961182994455), (35, 4.43992606284658), (36, 3.7818853974121995), (37, 4.166358595194085), (38, 3.9260628465804066), (39, 4.709796672828096), (40, 4.162661737523106), (41, 4.214417744916821), (42, 4.177449168207024), (43, 4.051756007393715), (44, 3.966728280961183), (45, 3.6340110905730127), (46, 4.103512014787431), (47, 3.5859519408502774), (48, 3.7486136783733826), (49, 4.036968576709796), (50, 3.77818853974122), (51, 4.251386321626617), (52, 3.922365988909427), (53, 3.866913123844732), (54, 3.807763401109057), (55, 3.811460258780037), (56, 3.7929759704251387), (57, 3.6635859519408505), (58, 3.767097966728281), (59, 3.8262476894639557), (60, 3.6303142329020335)]}\n",
      "INFO flwr 2023-08-31 02:30:51,181 | app.py:228 | app_fit: losses_centralized []\n",
      "INFO flwr 2023-08-31 02:30:51,182 | app.py:229 | app_fit: metrics_centralized {}\n"
     ]
    },
    {
     "name": "stdout",
     "output_type": "stream",
     "text": [
      "agrregate_fit results list length is  2\n",
      "Saving round 60 aggregated_parameters...\n",
      "agrregate_evaluate results list length is  2\n",
      "server round is  60\n",
      "loss is  1.8151571164510167\n",
      "History (loss, distributed):\n",
      "\tround 1: 2.988909426987061\n",
      "\tround 2: 4.018484288354898\n",
      "\tround 3: 2.866913123844732\n",
      "\tround 4: 2.8022181146025877\n",
      "\tround 5: 2.687615526802218\n",
      "\tround 6: 2.3715341959334566\n",
      "\tround 7: 2.1053604436229203\n",
      "\tround 8: 2.0702402957486137\n",
      "\tround 9: 2.33086876155268\n",
      "\tround 10: 2.22181146025878\n",
      "\tround 11: 2.299445471349353\n",
      "\tround 12: 2.3382624768946396\n",
      "\tround 13: 2.4861367837338264\n",
      "\tround 14: 1.9944547134935304\n",
      "\tround 15: 1.9463955637707948\n",
      "\tround 16: 2.3807763401109057\n",
      "\tround 17: 2.229205175600739\n",
      "\tround 18: 2.4861367837338264\n",
      "\tround 19: 2.210720887245841\n",
      "\tround 20: 2.0942698706099816\n",
      "\tround 21: 1.9685767097966729\n",
      "\tround 22: 2.0591497227356745\n",
      "\tround 23: 2.009242144177449\n",
      "\tround 24: 2.1182994454713495\n",
      "\tround 25: 2.134935304990758\n",
      "\tround 26: 1.9944547134935304\n",
      "\tround 27: 2.1737523105360443\n",
      "\tround 28: 2.042513863216266\n",
      "\tround 29: 2.2846580406654344\n",
      "\tround 30: 2.1404805914972274\n",
      "\tround 31: 1.944547134935305\n",
      "\tround 32: 1.988909426987061\n",
      "\tround 33: 2.147874306839187\n",
      "\tround 34: 2.1404805914972274\n",
      "\tround 35: 2.21996303142329\n",
      "\tround 36: 1.8909426987060998\n",
      "\tround 37: 2.0831792975970425\n",
      "\tround 38: 1.9630314232902033\n",
      "\tround 39: 2.354898336414048\n",
      "\tround 40: 2.081330868761553\n",
      "\tround 41: 2.1072088724584104\n",
      "\tround 42: 2.088724584103512\n",
      "\tround 43: 2.0258780036968576\n",
      "\tround 44: 1.9833641404805915\n",
      "\tround 45: 1.8170055452865064\n",
      "\tround 46: 2.0517560073937156\n",
      "\tround 47: 1.7929759704251387\n",
      "\tround 48: 1.8743068391866913\n",
      "\tround 49: 2.018484288354898\n",
      "\tround 50: 1.88909426987061\n",
      "\tround 51: 2.1256931608133085\n",
      "\tround 52: 1.9611829944547134\n",
      "\tround 53: 1.933456561922366\n",
      "\tround 54: 1.9038817005545285\n",
      "\tround 55: 1.9057301293900184\n",
      "\tround 56: 1.8964879852125693\n",
      "\tround 57: 1.8317929759704252\n",
      "\tround 58: 1.8835489833641406\n",
      "\tround 59: 1.9131238447319778\n",
      "\tround 60: 1.8151571164510167\n",
      "History (metrics, distributed, evaluate):\n",
      "{'mse': [(1, 5.977818853974122), (2, 8.036968576709796), (3, 5.733826247689464), (4, 5.6044362292051755), (5, 5.375231053604436), (6, 4.743068391866913), (7, 4.210720887245841), (8, 4.140480591497227), (9, 4.66173752310536), (10, 4.44362292051756), (11, 4.598890942698706), (12, 4.676524953789279), (13, 4.972273567467653), (14, 3.988909426987061), (15, 3.8927911275415896), (16, 4.761552680221811), (17, 4.458410351201478), (18, 4.972273567467653), (19, 4.421441774491682), (20, 4.188539741219963), (21, 3.9371534195933457), (22, 4.118299445471349), (23, 4.018484288354898), (24, 4.236598890942699), (25, 4.269870609981516), (26, 3.988909426987061), (27, 4.347504621072089), (28, 4.085027726432532), (29, 4.569316081330869), (30, 4.280961182994455), (31, 3.88909426987061), (32, 3.977818853974122), (33, 4.295748613678374), (34, 4.280961182994455), (35, 4.43992606284658), (36, 3.7818853974121995), (37, 4.166358595194085), (38, 3.9260628465804066), (39, 4.709796672828096), (40, 4.162661737523106), (41, 4.214417744916821), (42, 4.177449168207024), (43, 4.051756007393715), (44, 3.966728280961183), (45, 3.6340110905730127), (46, 4.103512014787431), (47, 3.5859519408502774), (48, 3.7486136783733826), (49, 4.036968576709796), (50, 3.77818853974122), (51, 4.251386321626617), (52, 3.922365988909427), (53, 3.866913123844732), (54, 3.807763401109057), (55, 3.811460258780037), (56, 3.7929759704251387), (57, 3.6635859519408505), (58, 3.767097966728281), (59, 3.8262476894639557), (60, 3.6303142329020335)]}\n",
      "[(1, 2.988909426987061), (2, 4.018484288354898), (3, 2.866913123844732), (4, 2.8022181146025877), (5, 2.687615526802218), (6, 2.3715341959334566), (7, 2.1053604436229203), (8, 2.0702402957486137), (9, 2.33086876155268), (10, 2.22181146025878), (11, 2.299445471349353), (12, 2.3382624768946396), (13, 2.4861367837338264), (14, 1.9944547134935304), (15, 1.9463955637707948), (16, 2.3807763401109057), (17, 2.229205175600739), (18, 2.4861367837338264), (19, 2.210720887245841), (20, 2.0942698706099816), (21, 1.9685767097966729), (22, 2.0591497227356745), (23, 2.009242144177449), (24, 2.1182994454713495), (25, 2.134935304990758), (26, 1.9944547134935304), (27, 2.1737523105360443), (28, 2.042513863216266), (29, 2.2846580406654344), (30, 2.1404805914972274), (31, 1.944547134935305), (32, 1.988909426987061), (33, 2.147874306839187), (34, 2.1404805914972274), (35, 2.21996303142329), (36, 1.8909426987060998), (37, 2.0831792975970425), (38, 1.9630314232902033), (39, 2.354898336414048), (40, 2.081330868761553), (41, 2.1072088724584104), (42, 2.088724584103512), (43, 2.0258780036968576), (44, 1.9833641404805915), (45, 1.8170055452865064), (46, 2.0517560073937156), (47, 1.7929759704251387), (48, 1.8743068391866913), (49, 2.018484288354898), (50, 1.88909426987061), (51, 2.1256931608133085), (52, 1.9611829944547134), (53, 1.933456561922366), (54, 1.9038817005545285), (55, 1.9057301293900184), (56, 1.8964879852125693), (57, 1.8317929759704252), (58, 1.8835489833641406), (59, 1.9131238447319778), (60, 1.8151571164510167)]\n",
      "Fold 2:\n",
      "split [0.34, 0.33, 0.33]\n",
      "time 0:05:01.616649\n",
      "mse [1.8151571164510167]\n",
      "auc [0.8980314422419686]\n"
     ]
    }
   ],
   "source": [
    "split = [0.34, 0.33, 0.33]\n",
    "do_fl(split)"
   ],
   "metadata": {
    "collapsed": false,
    "ExecuteTime": {
     "end_time": "2023-08-31T01:30:51.387056100Z",
     "start_time": "2023-08-31T01:25:49.639179700Z"
    }
   }
  },
  {
   "cell_type": "code",
   "execution_count": 11,
   "outputs": [
    {
     "name": "stdout",
     "output_type": "stream",
     "text": [
      "<class 'torch.Tensor'>"
     ]
    },
    {
     "name": "stderr",
     "output_type": "stream",
     "text": [
      "INFO flwr 2023-08-31 02:30:51,303 | app.py:145 | Starting Flower simulation, config: ServerConfig(num_rounds=60, round_timeout=None)\n"
     ]
    },
    {
     "name": "stdout",
     "output_type": "stream",
     "text": [
      "\n",
      "<class 'torch.Tensor'>\n",
      "Fold 1:\n",
      "Client 0 trainset shape torch.Size([3300, 22])\n",
      "Client 1 trainset shape torch.Size([1026, 22])\n",
      "Client 2 trainset shape torch.Size([1062, 22])\n",
      "FL started training on cpu\n",
      "Number of available GPUs: 0\n"
     ]
    },
    {
     "name": "stderr",
     "output_type": "stream",
     "text": [
      "2023-08-31 02:30:59,799\tINFO worker.py:1627 -- Started a local Ray instance. View the dashboard at \u001B[1m\u001B[32m127.0.0.1:8267 \u001B[39m\u001B[22m\n",
      "INFO flwr 2023-08-31 02:31:08,085 | app.py:179 | Flower VCE: Ray initialized with resources: {'node:127.0.0.1': 1.0, 'memory': 1443655680.0, 'object_store_memory': 721827840.0, 'GPU': 1.0, 'CPU': 8.0}\n",
      "INFO flwr 2023-08-31 02:31:08,087 | server.py:89 | Initializing global parameters\n",
      "INFO flwr 2023-08-31 02:31:08,088 | server.py:276 | Requesting initial parameters from one random client\n",
      "INFO flwr 2023-08-31 02:31:11,871 | server.py:280 | Received initial parameters from one random client\n",
      "INFO flwr 2023-08-31 02:31:11,872 | server.py:91 | Evaluating initial parameters\n",
      "INFO flwr 2023-08-31 02:31:11,873 | server.py:104 | FL starting\n",
      "DEBUG flwr 2023-08-31 02:31:11,874 | server.py:222 | fit_round 1: strategy sampled 2 clients (out of 3)\n",
      "DEBUG flwr 2023-08-31 02:31:17,434 | server.py:236 | fit_round 1 received 2 results and 0 failures\n",
      "WARNING flwr 2023-08-31 02:31:17,442 | fedavg.py:242 | No fit_metrics_aggregation_fn provided\n",
      "DEBUG flwr 2023-08-31 02:31:17,453 | server.py:173 | evaluate_round 1: strategy sampled 2 clients (out of 3)\n",
      "DEBUG flwr 2023-08-31 02:31:17,497 | server.py:187 | evaluate_round 1 received 2 results and 0 failures\n",
      "DEBUG flwr 2023-08-31 02:31:17,498 | server.py:222 | fit_round 2: strategy sampled 2 clients (out of 3)\n"
     ]
    },
    {
     "name": "stdout",
     "output_type": "stream",
     "text": [
      "agrregate_fit results list length is  2\n",
      "Saving round 1 aggregated_parameters...\n",
      "agrregate_evaluate results list length is  2\n",
      "server round is  1\n",
      "loss is  3.944547134935305\n"
     ]
    },
    {
     "name": "stderr",
     "output_type": "stream",
     "text": [
      "DEBUG flwr 2023-08-31 02:31:20,039 | server.py:236 | fit_round 2 received 2 results and 0 failures\n",
      "DEBUG flwr 2023-08-31 02:31:20,061 | server.py:173 | evaluate_round 2: strategy sampled 2 clients (out of 3)\n",
      "DEBUG flwr 2023-08-31 02:31:20,104 | server.py:187 | evaluate_round 2 received 2 results and 0 failures\n",
      "DEBUG flwr 2023-08-31 02:31:20,106 | server.py:222 | fit_round 3: strategy sampled 2 clients (out of 3)\n"
     ]
    },
    {
     "name": "stdout",
     "output_type": "stream",
     "text": [
      "agrregate_fit results list length is  2\n",
      "Saving round 2 aggregated_parameters...\n",
      "agrregate_evaluate results list length is  2\n",
      "server round is  2\n",
      "loss is  3.2125693160813307\n"
     ]
    },
    {
     "name": "stderr",
     "output_type": "stream",
     "text": [
      "DEBUG flwr 2023-08-31 02:31:28,208 | server.py:236 | fit_round 3 received 2 results and 0 failures\n",
      "DEBUG flwr 2023-08-31 02:31:28,225 | server.py:173 | evaluate_round 3: strategy sampled 2 clients (out of 3)\n",
      "DEBUG flwr 2023-08-31 02:31:28,264 | server.py:187 | evaluate_round 3 received 2 results and 0 failures\n",
      "DEBUG flwr 2023-08-31 02:31:28,266 | server.py:222 | fit_round 4: strategy sampled 2 clients (out of 3)\n"
     ]
    },
    {
     "name": "stdout",
     "output_type": "stream",
     "text": [
      "agrregate_fit results list length is  2\n",
      "Saving round 3 aggregated_parameters...\n",
      "agrregate_evaluate results list length is  2\n",
      "server round is  3\n",
      "loss is  4.99815157116451\n"
     ]
    },
    {
     "name": "stderr",
     "output_type": "stream",
     "text": [
      "DEBUG flwr 2023-08-31 02:31:30,876 | server.py:236 | fit_round 4 received 2 results and 0 failures\n",
      "DEBUG flwr 2023-08-31 02:31:30,897 | server.py:173 | evaluate_round 4: strategy sampled 2 clients (out of 3)\n",
      "DEBUG flwr 2023-08-31 02:31:30,941 | server.py:187 | evaluate_round 4 received 2 results and 0 failures\n",
      "DEBUG flwr 2023-08-31 02:31:30,943 | server.py:222 | fit_round 5: strategy sampled 2 clients (out of 3)\n"
     ]
    },
    {
     "name": "stdout",
     "output_type": "stream",
     "text": [
      "agrregate_fit results list length is  2\n",
      "Saving round 4 aggregated_parameters...\n",
      "agrregate_evaluate results list length is  2\n",
      "server round is  4\n",
      "loss is  2.5268022181146024\n"
     ]
    },
    {
     "name": "stderr",
     "output_type": "stream",
     "text": [
      "DEBUG flwr 2023-08-31 02:31:33,690 | server.py:236 | fit_round 5 received 2 results and 0 failures\n",
      "DEBUG flwr 2023-08-31 02:31:33,712 | server.py:173 | evaluate_round 5: strategy sampled 2 clients (out of 3)\n",
      "DEBUG flwr 2023-08-31 02:31:33,759 | server.py:187 | evaluate_round 5 received 2 results and 0 failures\n",
      "DEBUG flwr 2023-08-31 02:31:33,761 | server.py:222 | fit_round 6: strategy sampled 2 clients (out of 3)\n"
     ]
    },
    {
     "name": "stdout",
     "output_type": "stream",
     "text": [
      "agrregate_fit results list length is  2\n",
      "Saving round 5 aggregated_parameters...\n",
      "agrregate_evaluate results list length is  2\n",
      "server round is  5\n",
      "loss is  2.6950092421441774\n"
     ]
    },
    {
     "name": "stderr",
     "output_type": "stream",
     "text": [
      "DEBUG flwr 2023-08-31 02:31:36,463 | server.py:236 | fit_round 6 received 2 results and 0 failures\n",
      "DEBUG flwr 2023-08-31 02:31:36,486 | server.py:173 | evaluate_round 6: strategy sampled 2 clients (out of 3)\n",
      "DEBUG flwr 2023-08-31 02:31:36,527 | server.py:187 | evaluate_round 6 received 2 results and 0 failures\n",
      "DEBUG flwr 2023-08-31 02:31:36,528 | server.py:222 | fit_round 7: strategy sampled 2 clients (out of 3)\n"
     ]
    },
    {
     "name": "stdout",
     "output_type": "stream",
     "text": [
      "agrregate_fit results list length is  2\n",
      "Saving round 6 aggregated_parameters...\n",
      "agrregate_evaluate results list length is  2\n",
      "server round is  6\n",
      "loss is  2.4602587800369684\n"
     ]
    },
    {
     "name": "stderr",
     "output_type": "stream",
     "text": [
      "DEBUG flwr 2023-08-31 02:31:39,868 | server.py:236 | fit_round 7 received 2 results and 0 failures\n",
      "DEBUG flwr 2023-08-31 02:31:39,895 | server.py:173 | evaluate_round 7: strategy sampled 2 clients (out of 3)\n",
      "DEBUG flwr 2023-08-31 02:31:39,958 | server.py:187 | evaluate_round 7 received 2 results and 0 failures\n",
      "DEBUG flwr 2023-08-31 02:31:39,960 | server.py:222 | fit_round 8: strategy sampled 2 clients (out of 3)\n"
     ]
    },
    {
     "name": "stdout",
     "output_type": "stream",
     "text": [
      "agrregate_fit results list length is  2\n",
      "Saving round 7 aggregated_parameters...\n",
      "agrregate_evaluate results list length is  2\n",
      "server round is  7\n",
      "loss is  2.622920517560074\n"
     ]
    },
    {
     "name": "stderr",
     "output_type": "stream",
     "text": [
      "DEBUG flwr 2023-08-31 02:31:47,528 | server.py:236 | fit_round 8 received 2 results and 0 failures\n",
      "DEBUG flwr 2023-08-31 02:31:47,549 | server.py:173 | evaluate_round 8: strategy sampled 2 clients (out of 3)\n",
      "DEBUG flwr 2023-08-31 02:31:47,589 | server.py:187 | evaluate_round 8 received 2 results and 0 failures\n",
      "DEBUG flwr 2023-08-31 02:31:47,590 | server.py:222 | fit_round 9: strategy sampled 2 clients (out of 3)\n"
     ]
    },
    {
     "name": "stdout",
     "output_type": "stream",
     "text": [
      "agrregate_fit results list length is  2\n",
      "Saving round 8 aggregated_parameters...\n",
      "agrregate_evaluate results list length is  2\n",
      "server round is  8\n",
      "loss is  2.7171903881700556\n"
     ]
    },
    {
     "name": "stderr",
     "output_type": "stream",
     "text": [
      "DEBUG flwr 2023-08-31 02:31:54,701 | server.py:236 | fit_round 9 received 2 results and 0 failures\n",
      "DEBUG flwr 2023-08-31 02:31:54,718 | server.py:173 | evaluate_round 9: strategy sampled 2 clients (out of 3)\n",
      "DEBUG flwr 2023-08-31 02:31:54,757 | server.py:187 | evaluate_round 9 received 2 results and 0 failures\n",
      "DEBUG flwr 2023-08-31 02:31:54,758 | server.py:222 | fit_round 10: strategy sampled 2 clients (out of 3)\n"
     ]
    },
    {
     "name": "stdout",
     "output_type": "stream",
     "text": [
      "agrregate_fit results list length is  2\n",
      "Saving round 9 aggregated_parameters...\n",
      "agrregate_evaluate results list length is  2\n",
      "server round is  9\n",
      "loss is  2.4232902033271717\n"
     ]
    },
    {
     "name": "stderr",
     "output_type": "stream",
     "text": [
      "DEBUG flwr 2023-08-31 02:32:02,040 | server.py:236 | fit_round 10 received 2 results and 0 failures\n",
      "DEBUG flwr 2023-08-31 02:32:02,059 | server.py:173 | evaluate_round 10: strategy sampled 2 clients (out of 3)\n",
      "DEBUG flwr 2023-08-31 02:32:02,103 | server.py:187 | evaluate_round 10 received 2 results and 0 failures\n",
      "DEBUG flwr 2023-08-31 02:32:02,106 | server.py:222 | fit_round 11: strategy sampled 2 clients (out of 3)\n"
     ]
    },
    {
     "name": "stdout",
     "output_type": "stream",
     "text": [
      "agrregate_fit results list length is  2\n",
      "Saving round 10 aggregated_parameters...\n",
      "agrregate_evaluate results list length is  2\n",
      "server round is  10\n",
      "loss is  2.421441774491682\n"
     ]
    },
    {
     "name": "stderr",
     "output_type": "stream",
     "text": [
      "DEBUG flwr 2023-08-31 02:32:09,223 | server.py:236 | fit_round 11 received 2 results and 0 failures\n",
      "DEBUG flwr 2023-08-31 02:32:09,240 | server.py:173 | evaluate_round 11: strategy sampled 2 clients (out of 3)\n",
      "DEBUG flwr 2023-08-31 02:32:09,275 | server.py:187 | evaluate_round 11 received 2 results and 0 failures\n",
      "DEBUG flwr 2023-08-31 02:32:09,276 | server.py:222 | fit_round 12: strategy sampled 2 clients (out of 3)\n"
     ]
    },
    {
     "name": "stdout",
     "output_type": "stream",
     "text": [
      "agrregate_fit results list length is  2\n",
      "Saving round 11 aggregated_parameters...\n",
      "agrregate_evaluate results list length is  2\n",
      "server round is  11\n",
      "loss is  2.4177449168207024\n"
     ]
    },
    {
     "name": "stderr",
     "output_type": "stream",
     "text": [
      "DEBUG flwr 2023-08-31 02:32:12,021 | server.py:236 | fit_round 12 received 2 results and 0 failures\n",
      "DEBUG flwr 2023-08-31 02:32:12,041 | server.py:173 | evaluate_round 12: strategy sampled 2 clients (out of 3)\n",
      "DEBUG flwr 2023-08-31 02:32:12,085 | server.py:187 | evaluate_round 12 received 2 results and 0 failures\n",
      "DEBUG flwr 2023-08-31 02:32:12,086 | server.py:222 | fit_round 13: strategy sampled 2 clients (out of 3)\n"
     ]
    },
    {
     "name": "stdout",
     "output_type": "stream",
     "text": [
      "agrregate_fit results list length is  2\n",
      "Saving round 12 aggregated_parameters...\n",
      "agrregate_evaluate results list length is  2\n",
      "server round is  12\n",
      "loss is  2.933456561922366\n"
     ]
    },
    {
     "name": "stderr",
     "output_type": "stream",
     "text": [
      "DEBUG flwr 2023-08-31 02:32:14,828 | server.py:236 | fit_round 13 received 2 results and 0 failures\n",
      "DEBUG flwr 2023-08-31 02:32:14,849 | server.py:173 | evaluate_round 13: strategy sampled 2 clients (out of 3)\n",
      "DEBUG flwr 2023-08-31 02:32:14,891 | server.py:187 | evaluate_round 13 received 2 results and 0 failures\n",
      "DEBUG flwr 2023-08-31 02:32:14,892 | server.py:222 | fit_round 14: strategy sampled 2 clients (out of 3)\n"
     ]
    },
    {
     "name": "stdout",
     "output_type": "stream",
     "text": [
      "agrregate_fit results list length is  2\n",
      "Saving round 13 aggregated_parameters...\n",
      "agrregate_evaluate results list length is  2\n",
      "server round is  13\n",
      "loss is  2.1515711645101665\n"
     ]
    },
    {
     "name": "stderr",
     "output_type": "stream",
     "text": [
      "DEBUG flwr 2023-08-31 02:32:22,099 | server.py:236 | fit_round 14 received 2 results and 0 failures\n",
      "DEBUG flwr 2023-08-31 02:32:22,122 | server.py:173 | evaluate_round 14: strategy sampled 2 clients (out of 3)\n",
      "DEBUG flwr 2023-08-31 02:32:22,165 | server.py:187 | evaluate_round 14 received 2 results and 0 failures\n",
      "DEBUG flwr 2023-08-31 02:32:22,167 | server.py:222 | fit_round 15: strategy sampled 2 clients (out of 3)\n"
     ]
    },
    {
     "name": "stdout",
     "output_type": "stream",
     "text": [
      "agrregate_fit results list length is  2\n",
      "Saving round 14 aggregated_parameters...\n",
      "agrregate_evaluate results list length is  2\n",
      "server round is  14\n",
      "loss is  2.155268022181146\n"
     ]
    },
    {
     "name": "stderr",
     "output_type": "stream",
     "text": [
      "DEBUG flwr 2023-08-31 02:32:24,880 | server.py:236 | fit_round 15 received 2 results and 0 failures\n",
      "DEBUG flwr 2023-08-31 02:32:24,903 | server.py:173 | evaluate_round 15: strategy sampled 2 clients (out of 3)\n",
      "DEBUG flwr 2023-08-31 02:32:24,949 | server.py:187 | evaluate_round 15 received 2 results and 0 failures\n",
      "DEBUG flwr 2023-08-31 02:32:24,951 | server.py:222 | fit_round 16: strategy sampled 2 clients (out of 3)\n"
     ]
    },
    {
     "name": "stdout",
     "output_type": "stream",
     "text": [
      "agrregate_fit results list length is  2\n",
      "Saving round 15 aggregated_parameters...\n",
      "agrregate_evaluate results list length is  2\n",
      "server round is  15\n",
      "loss is  2.199630314232902\n"
     ]
    },
    {
     "name": "stderr",
     "output_type": "stream",
     "text": [
      "DEBUG flwr 2023-08-31 02:32:27,675 | server.py:236 | fit_round 16 received 2 results and 0 failures\n",
      "DEBUG flwr 2023-08-31 02:32:27,696 | server.py:173 | evaluate_round 16: strategy sampled 2 clients (out of 3)\n",
      "DEBUG flwr 2023-08-31 02:32:27,736 | server.py:187 | evaluate_round 16 received 2 results and 0 failures\n",
      "DEBUG flwr 2023-08-31 02:32:27,738 | server.py:222 | fit_round 17: strategy sampled 2 clients (out of 3)\n"
     ]
    },
    {
     "name": "stdout",
     "output_type": "stream",
     "text": [
      "agrregate_fit results list length is  2\n",
      "Saving round 16 aggregated_parameters...\n",
      "agrregate_evaluate results list length is  2\n",
      "server round is  16\n",
      "loss is  2.232902033271719\n"
     ]
    },
    {
     "name": "stderr",
     "output_type": "stream",
     "text": [
      "DEBUG flwr 2023-08-31 02:32:35,237 | server.py:236 | fit_round 17 received 2 results and 0 failures\n",
      "DEBUG flwr 2023-08-31 02:32:35,254 | server.py:173 | evaluate_round 17: strategy sampled 2 clients (out of 3)\n",
      "DEBUG flwr 2023-08-31 02:32:35,290 | server.py:187 | evaluate_round 17 received 2 results and 0 failures\n",
      "DEBUG flwr 2023-08-31 02:32:35,291 | server.py:222 | fit_round 18: strategy sampled 2 clients (out of 3)\n"
     ]
    },
    {
     "name": "stdout",
     "output_type": "stream",
     "text": [
      "agrregate_fit results list length is  2\n",
      "Saving round 17 aggregated_parameters...\n",
      "agrregate_evaluate results list length is  2\n",
      "server round is  17\n",
      "loss is  2.744916820702403\n"
     ]
    },
    {
     "name": "stderr",
     "output_type": "stream",
     "text": [
      "DEBUG flwr 2023-08-31 02:32:42,679 | server.py:236 | fit_round 18 received 2 results and 0 failures\n",
      "DEBUG flwr 2023-08-31 02:32:42,696 | server.py:173 | evaluate_round 18: strategy sampled 2 clients (out of 3)\n",
      "DEBUG flwr 2023-08-31 02:32:42,737 | server.py:187 | evaluate_round 18 received 2 results and 0 failures\n",
      "DEBUG flwr 2023-08-31 02:32:42,738 | server.py:222 | fit_round 19: strategy sampled 2 clients (out of 3)\n"
     ]
    },
    {
     "name": "stdout",
     "output_type": "stream",
     "text": [
      "agrregate_fit results list length is  2\n",
      "Saving round 18 aggregated_parameters...\n",
      "agrregate_evaluate results list length is  2\n",
      "server round is  18\n",
      "loss is  2.6950092421441774\n"
     ]
    },
    {
     "name": "stderr",
     "output_type": "stream",
     "text": [
      "DEBUG flwr 2023-08-31 02:32:45,333 | server.py:236 | fit_round 19 received 2 results and 0 failures\n",
      "DEBUG flwr 2023-08-31 02:32:45,356 | server.py:173 | evaluate_round 19: strategy sampled 2 clients (out of 3)\n",
      "DEBUG flwr 2023-08-31 02:32:45,404 | server.py:187 | evaluate_round 19 received 2 results and 0 failures\n",
      "DEBUG flwr 2023-08-31 02:32:45,405 | server.py:222 | fit_round 20: strategy sampled 2 clients (out of 3)\n"
     ]
    },
    {
     "name": "stdout",
     "output_type": "stream",
     "text": [
      "agrregate_fit results list length is  2\n",
      "Saving round 19 aggregated_parameters...\n",
      "agrregate_evaluate results list length is  2\n",
      "server round is  19\n",
      "loss is  2.175600739371534\n"
     ]
    },
    {
     "name": "stderr",
     "output_type": "stream",
     "text": [
      "DEBUG flwr 2023-08-31 02:32:52,646 | server.py:236 | fit_round 20 received 2 results and 0 failures\n",
      "DEBUG flwr 2023-08-31 02:32:52,661 | server.py:173 | evaluate_round 20: strategy sampled 2 clients (out of 3)\n",
      "DEBUG flwr 2023-08-31 02:32:52,694 | server.py:187 | evaluate_round 20 received 2 results and 0 failures\n",
      "DEBUG flwr 2023-08-31 02:32:52,695 | server.py:222 | fit_round 21: strategy sampled 2 clients (out of 3)\n"
     ]
    },
    {
     "name": "stdout",
     "output_type": "stream",
     "text": [
      "agrregate_fit results list length is  2\n",
      "Saving round 20 aggregated_parameters...\n",
      "agrregate_evaluate results list length is  2\n",
      "server round is  20\n",
      "loss is  2.5711645101663585\n"
     ]
    },
    {
     "name": "stderr",
     "output_type": "stream",
     "text": [
      "DEBUG flwr 2023-08-31 02:32:55,331 | server.py:236 | fit_round 21 received 2 results and 0 failures\n",
      "DEBUG flwr 2023-08-31 02:32:55,352 | server.py:173 | evaluate_round 21: strategy sampled 2 clients (out of 3)\n",
      "DEBUG flwr 2023-08-31 02:32:55,388 | server.py:187 | evaluate_round 21 received 2 results and 0 failures\n",
      "DEBUG flwr 2023-08-31 02:32:55,389 | server.py:222 | fit_round 22: strategy sampled 2 clients (out of 3)\n"
     ]
    },
    {
     "name": "stdout",
     "output_type": "stream",
     "text": [
      "agrregate_fit results list length is  2\n",
      "Saving round 21 aggregated_parameters...\n",
      "agrregate_evaluate results list length is  2\n",
      "server round is  21\n",
      "loss is  2.1312384473197783\n"
     ]
    },
    {
     "name": "stderr",
     "output_type": "stream",
     "text": [
      "DEBUG flwr 2023-08-31 02:33:03,415 | server.py:236 | fit_round 22 received 2 results and 0 failures\n",
      "DEBUG flwr 2023-08-31 02:33:03,432 | server.py:173 | evaluate_round 22: strategy sampled 2 clients (out of 3)\n",
      "DEBUG flwr 2023-08-31 02:33:03,464 | server.py:187 | evaluate_round 22 received 2 results and 0 failures\n",
      "DEBUG flwr 2023-08-31 02:33:03,465 | server.py:222 | fit_round 23: strategy sampled 2 clients (out of 3)\n"
     ]
    },
    {
     "name": "stdout",
     "output_type": "stream",
     "text": [
      "agrregate_fit results list length is  2\n",
      "Saving round 22 aggregated_parameters...\n",
      "agrregate_evaluate results list length is  2\n",
      "server round is  22\n",
      "loss is  2.7911275415896486\n"
     ]
    },
    {
     "name": "stderr",
     "output_type": "stream",
     "text": [
      "DEBUG flwr 2023-08-31 02:33:10,754 | server.py:236 | fit_round 23 received 2 results and 0 failures\n",
      "DEBUG flwr 2023-08-31 02:33:10,773 | server.py:173 | evaluate_round 23: strategy sampled 2 clients (out of 3)\n",
      "DEBUG flwr 2023-08-31 02:33:10,815 | server.py:187 | evaluate_round 23 received 2 results and 0 failures\n",
      "DEBUG flwr 2023-08-31 02:33:10,816 | server.py:222 | fit_round 24: strategy sampled 2 clients (out of 3)\n"
     ]
    },
    {
     "name": "stdout",
     "output_type": "stream",
     "text": [
      "agrregate_fit results list length is  2\n",
      "Saving round 23 aggregated_parameters...\n",
      "agrregate_evaluate results list length is  2\n",
      "server round is  23\n",
      "loss is  2.2735674676524953\n"
     ]
    },
    {
     "name": "stderr",
     "output_type": "stream",
     "text": [
      "DEBUG flwr 2023-08-31 02:33:17,992 | server.py:236 | fit_round 24 received 2 results and 0 failures\n",
      "DEBUG flwr 2023-08-31 02:33:18,012 | server.py:173 | evaluate_round 24: strategy sampled 2 clients (out of 3)\n",
      "DEBUG flwr 2023-08-31 02:33:18,044 | server.py:187 | evaluate_round 24 received 2 results and 0 failures\n",
      "DEBUG flwr 2023-08-31 02:33:18,045 | server.py:222 | fit_round 25: strategy sampled 2 clients (out of 3)\n"
     ]
    },
    {
     "name": "stdout",
     "output_type": "stream",
     "text": [
      "agrregate_fit results list length is  2\n",
      "Saving round 24 aggregated_parameters...\n",
      "agrregate_evaluate results list length is  2\n",
      "server round is  24\n",
      "loss is  2.1275415896487986\n"
     ]
    },
    {
     "name": "stderr",
     "output_type": "stream",
     "text": [
      "DEBUG flwr 2023-08-31 02:33:26,374 | server.py:236 | fit_round 25 received 2 results and 0 failures\n",
      "DEBUG flwr 2023-08-31 02:33:26,398 | server.py:173 | evaluate_round 25: strategy sampled 2 clients (out of 3)\n",
      "DEBUG flwr 2023-08-31 02:33:26,435 | server.py:187 | evaluate_round 25 received 2 results and 0 failures\n",
      "DEBUG flwr 2023-08-31 02:33:26,436 | server.py:222 | fit_round 26: strategy sampled 2 clients (out of 3)\n"
     ]
    },
    {
     "name": "stdout",
     "output_type": "stream",
     "text": [
      "agrregate_fit results list length is  2\n",
      "Saving round 25 aggregated_parameters...\n",
      "agrregate_evaluate results list length is  2\n",
      "server round is  25\n",
      "loss is  2.2957486136783736\n"
     ]
    },
    {
     "name": "stderr",
     "output_type": "stream",
     "text": [
      "DEBUG flwr 2023-08-31 02:33:33,501 | server.py:236 | fit_round 26 received 2 results and 0 failures\n",
      "DEBUG flwr 2023-08-31 02:33:33,517 | server.py:173 | evaluate_round 26: strategy sampled 2 clients (out of 3)\n",
      "DEBUG flwr 2023-08-31 02:33:33,551 | server.py:187 | evaluate_round 26 received 2 results and 0 failures\n",
      "DEBUG flwr 2023-08-31 02:33:33,553 | server.py:222 | fit_round 27: strategy sampled 2 clients (out of 3)\n"
     ]
    },
    {
     "name": "stdout",
     "output_type": "stream",
     "text": [
      "agrregate_fit results list length is  2\n",
      "Saving round 26 aggregated_parameters...\n",
      "agrregate_evaluate results list length is  2\n",
      "server round is  26\n",
      "loss is  2.7060998151571165\n"
     ]
    },
    {
     "name": "stderr",
     "output_type": "stream",
     "text": [
      "DEBUG flwr 2023-08-31 02:33:40,653 | server.py:236 | fit_round 27 received 2 results and 0 failures\n",
      "DEBUG flwr 2023-08-31 02:33:40,671 | server.py:173 | evaluate_round 27: strategy sampled 2 clients (out of 3)\n",
      "DEBUG flwr 2023-08-31 02:33:40,712 | server.py:187 | evaluate_round 27 received 2 results and 0 failures\n",
      "DEBUG flwr 2023-08-31 02:33:40,714 | server.py:222 | fit_round 28: strategy sampled 2 clients (out of 3)\n"
     ]
    },
    {
     "name": "stdout",
     "output_type": "stream",
     "text": [
      "agrregate_fit results list length is  2\n",
      "Saving round 27 aggregated_parameters...\n",
      "agrregate_evaluate results list length is  2\n",
      "server round is  27\n",
      "loss is  2.465804066543438\n"
     ]
    },
    {
     "name": "stderr",
     "output_type": "stream",
     "text": [
      "DEBUG flwr 2023-08-31 02:33:47,706 | server.py:236 | fit_round 28 received 2 results and 0 failures\n",
      "DEBUG flwr 2023-08-31 02:33:47,725 | server.py:173 | evaluate_round 28: strategy sampled 2 clients (out of 3)\n",
      "DEBUG flwr 2023-08-31 02:33:47,757 | server.py:187 | evaluate_round 28 received 2 results and 0 failures\n",
      "DEBUG flwr 2023-08-31 02:33:47,758 | server.py:222 | fit_round 29: strategy sampled 2 clients (out of 3)\n"
     ]
    },
    {
     "name": "stdout",
     "output_type": "stream",
     "text": [
      "agrregate_fit results list length is  2\n",
      "Saving round 28 aggregated_parameters...\n",
      "agrregate_evaluate results list length is  2\n",
      "server round is  28\n",
      "loss is  2.195933456561922\n"
     ]
    },
    {
     "name": "stderr",
     "output_type": "stream",
     "text": [
      "DEBUG flwr 2023-08-31 02:33:54,936 | server.py:236 | fit_round 29 received 2 results and 0 failures\n",
      "DEBUG flwr 2023-08-31 02:33:54,956 | server.py:173 | evaluate_round 29: strategy sampled 2 clients (out of 3)\n",
      "DEBUG flwr 2023-08-31 02:33:54,992 | server.py:187 | evaluate_round 29 received 2 results and 0 failures\n",
      "DEBUG flwr 2023-08-31 02:33:54,994 | server.py:222 | fit_round 30: strategy sampled 2 clients (out of 3)\n"
     ]
    },
    {
     "name": "stdout",
     "output_type": "stream",
     "text": [
      "agrregate_fit results list length is  2\n",
      "Saving round 29 aggregated_parameters...\n",
      "agrregate_evaluate results list length is  2\n",
      "server round is  29\n",
      "loss is  2.831792975970425\n"
     ]
    },
    {
     "name": "stderr",
     "output_type": "stream",
     "text": [
      "DEBUG flwr 2023-08-31 02:34:02,313 | server.py:236 | fit_round 30 received 2 results and 0 failures\n",
      "DEBUG flwr 2023-08-31 02:34:02,332 | server.py:173 | evaluate_round 30: strategy sampled 2 clients (out of 3)\n",
      "DEBUG flwr 2023-08-31 02:34:02,370 | server.py:187 | evaluate_round 30 received 2 results and 0 failures\n",
      "DEBUG flwr 2023-08-31 02:34:02,371 | server.py:222 | fit_round 31: strategy sampled 2 clients (out of 3)\n"
     ]
    },
    {
     "name": "stdout",
     "output_type": "stream",
     "text": [
      "agrregate_fit results list length is  2\n",
      "Saving round 30 aggregated_parameters...\n",
      "agrregate_evaluate results list length is  2\n",
      "server round is  30\n",
      "loss is  2.2033271719038816\n"
     ]
    },
    {
     "name": "stderr",
     "output_type": "stream",
     "text": [
      "DEBUG flwr 2023-08-31 02:34:09,432 | server.py:236 | fit_round 31 received 2 results and 0 failures\n",
      "DEBUG flwr 2023-08-31 02:34:09,454 | server.py:173 | evaluate_round 31: strategy sampled 2 clients (out of 3)\n",
      "DEBUG flwr 2023-08-31 02:34:09,493 | server.py:187 | evaluate_round 31 received 2 results and 0 failures\n",
      "DEBUG flwr 2023-08-31 02:34:09,494 | server.py:222 | fit_round 32: strategy sampled 2 clients (out of 3)\n"
     ]
    },
    {
     "name": "stdout",
     "output_type": "stream",
     "text": [
      "agrregate_fit results list length is  2\n",
      "Saving round 31 aggregated_parameters...\n",
      "agrregate_evaluate results list length is  2\n",
      "server round is  31\n",
      "loss is  2.2070240295748613\n"
     ]
    },
    {
     "name": "stderr",
     "output_type": "stream",
     "text": [
      "DEBUG flwr 2023-08-31 02:34:16,710 | server.py:236 | fit_round 32 received 2 results and 0 failures\n",
      "DEBUG flwr 2023-08-31 02:34:16,726 | server.py:173 | evaluate_round 32: strategy sampled 2 clients (out of 3)\n",
      "DEBUG flwr 2023-08-31 02:34:16,759 | server.py:187 | evaluate_round 32 received 2 results and 0 failures\n",
      "DEBUG flwr 2023-08-31 02:34:16,761 | server.py:222 | fit_round 33: strategy sampled 2 clients (out of 3)\n"
     ]
    },
    {
     "name": "stdout",
     "output_type": "stream",
     "text": [
      "agrregate_fit results list length is  2\n",
      "Saving round 32 aggregated_parameters...\n",
      "agrregate_evaluate results list length is  2\n",
      "server round is  32\n",
      "loss is  2.569316081330869\n"
     ]
    },
    {
     "name": "stderr",
     "output_type": "stream",
     "text": [
      "DEBUG flwr 2023-08-31 02:34:23,807 | server.py:236 | fit_round 33 received 2 results and 0 failures\n",
      "DEBUG flwr 2023-08-31 02:34:23,824 | server.py:173 | evaluate_round 33: strategy sampled 2 clients (out of 3)\n",
      "DEBUG flwr 2023-08-31 02:34:23,859 | server.py:187 | evaluate_round 33 received 2 results and 0 failures\n",
      "DEBUG flwr 2023-08-31 02:34:23,861 | server.py:222 | fit_round 34: strategy sampled 2 clients (out of 3)\n"
     ]
    },
    {
     "name": "stdout",
     "output_type": "stream",
     "text": [
      "agrregate_fit results list length is  2\n",
      "Saving round 33 aggregated_parameters...\n",
      "agrregate_evaluate results list length is  2\n",
      "server round is  33\n",
      "loss is  2.3031423290203326\n"
     ]
    },
    {
     "name": "stderr",
     "output_type": "stream",
     "text": [
      "DEBUG flwr 2023-08-31 02:34:31,837 | server.py:236 | fit_round 34 received 2 results and 0 failures\n",
      "DEBUG flwr 2023-08-31 02:34:31,853 | server.py:173 | evaluate_round 34: strategy sampled 2 clients (out of 3)\n",
      "DEBUG flwr 2023-08-31 02:34:31,892 | server.py:187 | evaluate_round 34 received 2 results and 0 failures\n",
      "DEBUG flwr 2023-08-31 02:34:31,893 | server.py:222 | fit_round 35: strategy sampled 2 clients (out of 3)\n"
     ]
    },
    {
     "name": "stdout",
     "output_type": "stream",
     "text": [
      "agrregate_fit results list length is  2\n",
      "Saving round 34 aggregated_parameters...\n",
      "agrregate_evaluate results list length is  2\n",
      "server round is  34\n",
      "loss is  2.1164510166358594\n"
     ]
    },
    {
     "name": "stderr",
     "output_type": "stream",
     "text": [
      "DEBUG flwr 2023-08-31 02:34:39,000 | server.py:236 | fit_round 35 received 2 results and 0 failures\n",
      "DEBUG flwr 2023-08-31 02:34:39,018 | server.py:173 | evaluate_round 35: strategy sampled 2 clients (out of 3)\n",
      "DEBUG flwr 2023-08-31 02:34:39,053 | server.py:187 | evaluate_round 35 received 2 results and 0 failures\n",
      "DEBUG flwr 2023-08-31 02:34:39,055 | server.py:222 | fit_round 36: strategy sampled 2 clients (out of 3)\n"
     ]
    },
    {
     "name": "stdout",
     "output_type": "stream",
     "text": [
      "agrregate_fit results list length is  2\n",
      "Saving round 35 aggregated_parameters...\n",
      "agrregate_evaluate results list length is  2\n",
      "server round is  35\n",
      "loss is  2.397412199630314\n"
     ]
    },
    {
     "name": "stderr",
     "output_type": "stream",
     "text": [
      "DEBUG flwr 2023-08-31 02:34:41,613 | server.py:236 | fit_round 36 received 2 results and 0 failures\n",
      "DEBUG flwr 2023-08-31 02:34:41,636 | server.py:173 | evaluate_round 36: strategy sampled 2 clients (out of 3)\n",
      "DEBUG flwr 2023-08-31 02:34:41,678 | server.py:187 | evaluate_round 36 received 2 results and 0 failures\n",
      "DEBUG flwr 2023-08-31 02:34:41,680 | server.py:222 | fit_round 37: strategy sampled 2 clients (out of 3)\n"
     ]
    },
    {
     "name": "stdout",
     "output_type": "stream",
     "text": [
      "agrregate_fit results list length is  2\n",
      "Saving round 36 aggregated_parameters...\n",
      "agrregate_evaluate results list length is  2\n",
      "server round is  36\n",
      "loss is  2.0739371534195934\n"
     ]
    },
    {
     "name": "stderr",
     "output_type": "stream",
     "text": [
      "DEBUG flwr 2023-08-31 02:34:48,898 | server.py:236 | fit_round 37 received 2 results and 0 failures\n",
      "DEBUG flwr 2023-08-31 02:34:48,917 | server.py:173 | evaluate_round 37: strategy sampled 2 clients (out of 3)\n",
      "DEBUG flwr 2023-08-31 02:34:48,952 | server.py:187 | evaluate_round 37 received 2 results and 0 failures\n",
      "DEBUG flwr 2023-08-31 02:34:48,953 | server.py:222 | fit_round 38: strategy sampled 2 clients (out of 3)\n"
     ]
    },
    {
     "name": "stdout",
     "output_type": "stream",
     "text": [
      "agrregate_fit results list length is  2\n",
      "Saving round 37 aggregated_parameters...\n",
      "agrregate_evaluate results list length is  2\n",
      "server round is  37\n",
      "loss is  2.0979667282809613\n"
     ]
    },
    {
     "name": "stderr",
     "output_type": "stream",
     "text": [
      "DEBUG flwr 2023-08-31 02:34:56,043 | server.py:236 | fit_round 38 received 2 results and 0 failures\n",
      "DEBUG flwr 2023-08-31 02:34:56,062 | server.py:173 | evaluate_round 38: strategy sampled 2 clients (out of 3)\n",
      "DEBUG flwr 2023-08-31 02:34:56,101 | server.py:187 | evaluate_round 38 received 2 results and 0 failures\n",
      "DEBUG flwr 2023-08-31 02:34:56,104 | server.py:222 | fit_round 39: strategy sampled 2 clients (out of 3)\n"
     ]
    },
    {
     "name": "stdout",
     "output_type": "stream",
     "text": [
      "agrregate_fit results list length is  2\n",
      "Saving round 38 aggregated_parameters...\n",
      "agrregate_evaluate results list length is  2\n",
      "server round is  38\n",
      "loss is  2.0702402957486137\n"
     ]
    },
    {
     "name": "stderr",
     "output_type": "stream",
     "text": [
      "DEBUG flwr 2023-08-31 02:35:03,382 | server.py:236 | fit_round 39 received 2 results and 0 failures\n",
      "DEBUG flwr 2023-08-31 02:35:03,402 | server.py:173 | evaluate_round 39: strategy sampled 2 clients (out of 3)\n",
      "DEBUG flwr 2023-08-31 02:35:03,438 | server.py:187 | evaluate_round 39 received 2 results and 0 failures\n",
      "DEBUG flwr 2023-08-31 02:35:03,439 | server.py:222 | fit_round 40: strategy sampled 2 clients (out of 3)\n"
     ]
    },
    {
     "name": "stdout",
     "output_type": "stream",
     "text": [
      "agrregate_fit results list length is  2\n",
      "Saving round 39 aggregated_parameters...\n",
      "agrregate_evaluate results list length is  2\n",
      "server round is  39\n",
      "loss is  2.22365988909427\n"
     ]
    },
    {
     "name": "stderr",
     "output_type": "stream",
     "text": [
      "DEBUG flwr 2023-08-31 02:35:10,658 | server.py:236 | fit_round 40 received 2 results and 0 failures\n",
      "DEBUG flwr 2023-08-31 02:35:10,675 | server.py:173 | evaluate_round 40: strategy sampled 2 clients (out of 3)\n",
      "DEBUG flwr 2023-08-31 02:35:10,712 | server.py:187 | evaluate_round 40 received 2 results and 0 failures\n",
      "DEBUG flwr 2023-08-31 02:35:10,714 | server.py:222 | fit_round 41: strategy sampled 2 clients (out of 3)\n"
     ]
    },
    {
     "name": "stdout",
     "output_type": "stream",
     "text": [
      "agrregate_fit results list length is  2\n",
      "Saving round 40 aggregated_parameters...\n",
      "agrregate_evaluate results list length is  2\n",
      "server round is  40\n",
      "loss is  2.258780036968577\n"
     ]
    },
    {
     "name": "stderr",
     "output_type": "stream",
     "text": [
      "DEBUG flwr 2023-08-31 02:35:17,788 | server.py:236 | fit_round 41 received 2 results and 0 failures\n",
      "DEBUG flwr 2023-08-31 02:35:17,805 | server.py:173 | evaluate_round 41: strategy sampled 2 clients (out of 3)\n",
      "DEBUG flwr 2023-08-31 02:35:17,836 | server.py:187 | evaluate_round 41 received 2 results and 0 failures\n",
      "DEBUG flwr 2023-08-31 02:35:17,838 | server.py:222 | fit_round 42: strategy sampled 2 clients (out of 3)\n"
     ]
    },
    {
     "name": "stdout",
     "output_type": "stream",
     "text": [
      "agrregate_fit results list length is  2\n",
      "Saving round 41 aggregated_parameters...\n",
      "agrregate_evaluate results list length is  2\n",
      "server round is  41\n",
      "loss is  2.166358595194085\n"
     ]
    },
    {
     "name": "stderr",
     "output_type": "stream",
     "text": [
      "DEBUG flwr 2023-08-31 02:35:20,392 | server.py:236 | fit_round 42 received 2 results and 0 failures\n",
      "DEBUG flwr 2023-08-31 02:35:20,414 | server.py:173 | evaluate_round 42: strategy sampled 2 clients (out of 3)\n",
      "DEBUG flwr 2023-08-31 02:35:20,459 | server.py:187 | evaluate_round 42 received 2 results and 0 failures\n",
      "DEBUG flwr 2023-08-31 02:35:20,460 | server.py:222 | fit_round 43: strategy sampled 2 clients (out of 3)\n"
     ]
    },
    {
     "name": "stdout",
     "output_type": "stream",
     "text": [
      "agrregate_fit results list length is  2\n",
      "Saving round 42 aggregated_parameters...\n",
      "agrregate_evaluate results list length is  2\n",
      "server round is  42\n",
      "loss is  2.142329020332717\n"
     ]
    },
    {
     "name": "stderr",
     "output_type": "stream",
     "text": [
      "DEBUG flwr 2023-08-31 02:35:27,740 | server.py:236 | fit_round 43 received 2 results and 0 failures\n",
      "DEBUG flwr 2023-08-31 02:35:27,757 | server.py:173 | evaluate_round 43: strategy sampled 2 clients (out of 3)\n",
      "DEBUG flwr 2023-08-31 02:35:27,796 | server.py:187 | evaluate_round 43 received 2 results and 0 failures\n",
      "DEBUG flwr 2023-08-31 02:35:27,797 | server.py:222 | fit_round 44: strategy sampled 2 clients (out of 3)\n"
     ]
    },
    {
     "name": "stdout",
     "output_type": "stream",
     "text": [
      "agrregate_fit results list length is  2\n",
      "Saving round 43 aggregated_parameters...\n",
      "agrregate_evaluate results list length is  2\n",
      "server round is  43\n",
      "loss is  2.33456561922366\n"
     ]
    },
    {
     "name": "stderr",
     "output_type": "stream",
     "text": [
      "DEBUG flwr 2023-08-31 02:35:30,368 | server.py:236 | fit_round 44 received 2 results and 0 failures\n",
      "DEBUG flwr 2023-08-31 02:35:30,388 | server.py:173 | evaluate_round 44: strategy sampled 2 clients (out of 3)\n",
      "DEBUG flwr 2023-08-31 02:35:30,431 | server.py:187 | evaluate_round 44 received 2 results and 0 failures\n",
      "DEBUG flwr 2023-08-31 02:35:30,432 | server.py:222 | fit_round 45: strategy sampled 2 clients (out of 3)\n"
     ]
    },
    {
     "name": "stdout",
     "output_type": "stream",
     "text": [
      "agrregate_fit results list length is  2\n",
      "Saving round 44 aggregated_parameters...\n",
      "agrregate_evaluate results list length is  2\n",
      "server round is  44\n",
      "loss is  2.099815157116451\n"
     ]
    },
    {
     "name": "stderr",
     "output_type": "stream",
     "text": [
      "DEBUG flwr 2023-08-31 02:35:37,685 | server.py:236 | fit_round 45 received 2 results and 0 failures\n",
      "DEBUG flwr 2023-08-31 02:35:37,704 | server.py:173 | evaluate_round 45: strategy sampled 2 clients (out of 3)\n",
      "DEBUG flwr 2023-08-31 02:35:37,745 | server.py:187 | evaluate_round 45 received 2 results and 0 failures\n",
      "DEBUG flwr 2023-08-31 02:35:37,746 | server.py:222 | fit_round 46: strategy sampled 2 clients (out of 3)\n"
     ]
    },
    {
     "name": "stdout",
     "output_type": "stream",
     "text": [
      "agrregate_fit results list length is  2\n",
      "Saving round 45 aggregated_parameters...\n",
      "agrregate_evaluate results list length is  2\n",
      "server round is  45\n",
      "loss is  2.534195933456562\n"
     ]
    },
    {
     "name": "stderr",
     "output_type": "stream",
     "text": [
      "DEBUG flwr 2023-08-31 02:35:44,588 | server.py:236 | fit_round 46 received 2 results and 0 failures\n",
      "DEBUG flwr 2023-08-31 02:35:44,605 | server.py:173 | evaluate_round 46: strategy sampled 2 clients (out of 3)\n",
      "DEBUG flwr 2023-08-31 02:35:44,646 | server.py:187 | evaluate_round 46 received 2 results and 0 failures\n",
      "DEBUG flwr 2023-08-31 02:35:44,647 | server.py:222 | fit_round 47: strategy sampled 2 clients (out of 3)\n"
     ]
    },
    {
     "name": "stdout",
     "output_type": "stream",
     "text": [
      "agrregate_fit results list length is  2\n",
      "Saving round 46 aggregated_parameters...\n",
      "agrregate_evaluate results list length is  2\n",
      "server round is  46\n",
      "loss is  2.053604436229205\n"
     ]
    },
    {
     "name": "stderr",
     "output_type": "stream",
     "text": [
      "DEBUG flwr 2023-08-31 02:35:51,760 | server.py:236 | fit_round 47 received 2 results and 0 failures\n",
      "DEBUG flwr 2023-08-31 02:35:51,779 | server.py:173 | evaluate_round 47: strategy sampled 2 clients (out of 3)\n",
      "DEBUG flwr 2023-08-31 02:35:51,820 | server.py:187 | evaluate_round 47 received 2 results and 0 failures\n",
      "DEBUG flwr 2023-08-31 02:35:51,821 | server.py:222 | fit_round 48: strategy sampled 2 clients (out of 3)\n"
     ]
    },
    {
     "name": "stdout",
     "output_type": "stream",
     "text": [
      "agrregate_fit results list length is  2\n",
      "Saving round 47 aggregated_parameters...\n",
      "agrregate_evaluate results list length is  2\n",
      "server round is  47\n",
      "loss is  2.1737523105360443\n"
     ]
    },
    {
     "name": "stderr",
     "output_type": "stream",
     "text": [
      "DEBUG flwr 2023-08-31 02:35:59,714 | server.py:236 | fit_round 48 received 2 results and 0 failures\n",
      "DEBUG flwr 2023-08-31 02:35:59,730 | server.py:173 | evaluate_round 48: strategy sampled 2 clients (out of 3)\n",
      "DEBUG flwr 2023-08-31 02:35:59,767 | server.py:187 | evaluate_round 48 received 2 results and 0 failures\n",
      "DEBUG flwr 2023-08-31 02:35:59,769 | server.py:222 | fit_round 49: strategy sampled 2 clients (out of 3)\n"
     ]
    },
    {
     "name": "stdout",
     "output_type": "stream",
     "text": [
      "agrregate_fit results list length is  2\n",
      "Saving round 48 aggregated_parameters...\n",
      "agrregate_evaluate results list length is  2\n",
      "server round is  48\n",
      "loss is  2.201478743068392\n"
     ]
    },
    {
     "name": "stderr",
     "output_type": "stream",
     "text": [
      "DEBUG flwr 2023-08-31 02:36:02,521 | server.py:236 | fit_round 49 received 2 results and 0 failures\n",
      "DEBUG flwr 2023-08-31 02:36:02,542 | server.py:173 | evaluate_round 49: strategy sampled 2 clients (out of 3)\n",
      "DEBUG flwr 2023-08-31 02:36:02,578 | server.py:187 | evaluate_round 49 received 2 results and 0 failures\n",
      "DEBUG flwr 2023-08-31 02:36:02,580 | server.py:222 | fit_round 50: strategy sampled 2 clients (out of 3)\n"
     ]
    },
    {
     "name": "stdout",
     "output_type": "stream",
     "text": [
      "agrregate_fit results list length is  2\n",
      "Saving round 49 aggregated_parameters...\n",
      "agrregate_evaluate results list length is  2\n",
      "server round is  49\n",
      "loss is  2.166358595194085\n"
     ]
    },
    {
     "name": "stderr",
     "output_type": "stream",
     "text": [
      "DEBUG flwr 2023-08-31 02:36:09,780 | server.py:236 | fit_round 50 received 2 results and 0 failures\n",
      "DEBUG flwr 2023-08-31 02:36:09,799 | server.py:173 | evaluate_round 50: strategy sampled 2 clients (out of 3)\n",
      "DEBUG flwr 2023-08-31 02:36:09,833 | server.py:187 | evaluate_round 50 received 2 results and 0 failures\n",
      "DEBUG flwr 2023-08-31 02:36:09,834 | server.py:222 | fit_round 51: strategy sampled 2 clients (out of 3)\n"
     ]
    },
    {
     "name": "stdout",
     "output_type": "stream",
     "text": [
      "agrregate_fit results list length is  2\n",
      "Saving round 50 aggregated_parameters...\n",
      "agrregate_evaluate results list length is  2\n",
      "server round is  50\n",
      "loss is  2.1219963031423292\n"
     ]
    },
    {
     "name": "stderr",
     "output_type": "stream",
     "text": [
      "DEBUG flwr 2023-08-31 02:36:16,774 | server.py:236 | fit_round 51 received 2 results and 0 failures\n",
      "DEBUG flwr 2023-08-31 02:36:16,790 | server.py:173 | evaluate_round 51: strategy sampled 2 clients (out of 3)\n",
      "DEBUG flwr 2023-08-31 02:36:16,828 | server.py:187 | evaluate_round 51 received 2 results and 0 failures\n",
      "DEBUG flwr 2023-08-31 02:36:16,830 | server.py:222 | fit_round 52: strategy sampled 2 clients (out of 3)\n"
     ]
    },
    {
     "name": "stdout",
     "output_type": "stream",
     "text": [
      "agrregate_fit results list length is  2\n",
      "Saving round 51 aggregated_parameters...\n",
      "agrregate_evaluate results list length is  2\n",
      "server round is  51\n",
      "loss is  2.144177449168207\n"
     ]
    },
    {
     "name": "stderr",
     "output_type": "stream",
     "text": [
      "DEBUG flwr 2023-08-31 02:36:24,207 | server.py:236 | fit_round 52 received 2 results and 0 failures\n",
      "DEBUG flwr 2023-08-31 02:36:24,226 | server.py:173 | evaluate_round 52: strategy sampled 2 clients (out of 3)\n",
      "DEBUG flwr 2023-08-31 02:36:24,263 | server.py:187 | evaluate_round 52 received 2 results and 0 failures\n",
      "DEBUG flwr 2023-08-31 02:36:24,265 | server.py:222 | fit_round 53: strategy sampled 2 clients (out of 3)\n"
     ]
    },
    {
     "name": "stdout",
     "output_type": "stream",
     "text": [
      "agrregate_fit results list length is  2\n",
      "Saving round 52 aggregated_parameters...\n",
      "agrregate_evaluate results list length is  2\n",
      "server round is  52\n",
      "loss is  2.133086876155268\n"
     ]
    },
    {
     "name": "stderr",
     "output_type": "stream",
     "text": [
      "DEBUG flwr 2023-08-31 02:36:31,443 | server.py:236 | fit_round 53 received 2 results and 0 failures\n",
      "DEBUG flwr 2023-08-31 02:36:31,461 | server.py:173 | evaluate_round 53: strategy sampled 2 clients (out of 3)\n",
      "DEBUG flwr 2023-08-31 02:36:31,496 | server.py:187 | evaluate_round 53 received 2 results and 0 failures\n",
      "DEBUG flwr 2023-08-31 02:36:31,498 | server.py:222 | fit_round 54: strategy sampled 2 clients (out of 3)\n"
     ]
    },
    {
     "name": "stdout",
     "output_type": "stream",
     "text": [
      "agrregate_fit results list length is  2\n",
      "Saving round 53 aggregated_parameters...\n",
      "agrregate_evaluate results list length is  2\n",
      "server round is  53\n",
      "loss is  2.162661737523105\n"
     ]
    },
    {
     "name": "stderr",
     "output_type": "stream",
     "text": [
      "DEBUG flwr 2023-08-31 02:36:38,873 | server.py:236 | fit_round 54 received 2 results and 0 failures\n",
      "DEBUG flwr 2023-08-31 02:36:38,891 | server.py:173 | evaluate_round 54: strategy sampled 2 clients (out of 3)\n",
      "DEBUG flwr 2023-08-31 02:36:38,930 | server.py:187 | evaluate_round 54 received 2 results and 0 failures\n",
      "DEBUG flwr 2023-08-31 02:36:38,933 | server.py:222 | fit_round 55: strategy sampled 2 clients (out of 3)\n"
     ]
    },
    {
     "name": "stdout",
     "output_type": "stream",
     "text": [
      "agrregate_fit results list length is  2\n",
      "Saving round 54 aggregated_parameters...\n",
      "agrregate_evaluate results list length is  2\n",
      "server round is  54\n",
      "loss is  2.088724584103512\n"
     ]
    },
    {
     "name": "stderr",
     "output_type": "stream",
     "text": [
      "DEBUG flwr 2023-08-31 02:36:46,062 | server.py:236 | fit_round 55 received 2 results and 0 failures\n",
      "DEBUG flwr 2023-08-31 02:36:46,079 | server.py:173 | evaluate_round 55: strategy sampled 2 clients (out of 3)\n",
      "DEBUG flwr 2023-08-31 02:36:46,119 | server.py:187 | evaluate_round 55 received 2 results and 0 failures\n",
      "DEBUG flwr 2023-08-31 02:36:46,120 | server.py:222 | fit_round 56: strategy sampled 2 clients (out of 3)\n"
     ]
    },
    {
     "name": "stdout",
     "output_type": "stream",
     "text": [
      "agrregate_fit results list length is  2\n",
      "Saving round 55 aggregated_parameters...\n",
      "agrregate_evaluate results list length is  2\n",
      "server round is  55\n",
      "loss is  2.391866913123845\n"
     ]
    },
    {
     "name": "stderr",
     "output_type": "stream",
     "text": [
      "DEBUG flwr 2023-08-31 02:36:48,699 | server.py:236 | fit_round 56 received 2 results and 0 failures\n",
      "DEBUG flwr 2023-08-31 02:36:48,725 | server.py:173 | evaluate_round 56: strategy sampled 2 clients (out of 3)\n",
      "DEBUG flwr 2023-08-31 02:36:48,761 | server.py:187 | evaluate_round 56 received 2 results and 0 failures\n",
      "DEBUG flwr 2023-08-31 02:36:48,763 | server.py:222 | fit_round 57: strategy sampled 2 clients (out of 3)\n"
     ]
    },
    {
     "name": "stdout",
     "output_type": "stream",
     "text": [
      "agrregate_fit results list length is  2\n",
      "Saving round 56 aggregated_parameters...\n",
      "agrregate_evaluate results list length is  2\n",
      "server round is  56\n",
      "loss is  2.177449168207024\n"
     ]
    },
    {
     "name": "stderr",
     "output_type": "stream",
     "text": [
      "DEBUG flwr 2023-08-31 02:36:55,775 | server.py:236 | fit_round 57 received 2 results and 0 failures\n",
      "DEBUG flwr 2023-08-31 02:36:55,793 | server.py:173 | evaluate_round 57: strategy sampled 2 clients (out of 3)\n",
      "DEBUG flwr 2023-08-31 02:36:55,836 | server.py:187 | evaluate_round 57 received 2 results and 0 failures\n",
      "DEBUG flwr 2023-08-31 02:36:55,837 | server.py:222 | fit_round 58: strategy sampled 2 clients (out of 3)\n"
     ]
    },
    {
     "name": "stdout",
     "output_type": "stream",
     "text": [
      "agrregate_fit results list length is  2\n",
      "Saving round 57 aggregated_parameters...\n",
      "agrregate_evaluate results list length is  2\n",
      "server round is  57\n",
      "loss is  2.133086876155268\n"
     ]
    },
    {
     "name": "stderr",
     "output_type": "stream",
     "text": [
      "DEBUG flwr 2023-08-31 02:37:03,001 | server.py:236 | fit_round 58 received 2 results and 0 failures\n",
      "DEBUG flwr 2023-08-31 02:37:03,020 | server.py:173 | evaluate_round 58: strategy sampled 2 clients (out of 3)\n",
      "DEBUG flwr 2023-08-31 02:37:03,056 | server.py:187 | evaluate_round 58 received 2 results and 0 failures\n",
      "DEBUG flwr 2023-08-31 02:37:03,058 | server.py:222 | fit_round 59: strategy sampled 2 clients (out of 3)\n"
     ]
    },
    {
     "name": "stdout",
     "output_type": "stream",
     "text": [
      "agrregate_fit results list length is  2\n",
      "Saving round 58 aggregated_parameters...\n",
      "agrregate_evaluate results list length is  2\n",
      "server round is  58\n",
      "loss is  2.199630314232902\n"
     ]
    },
    {
     "name": "stderr",
     "output_type": "stream",
     "text": [
      "DEBUG flwr 2023-08-31 02:37:10,077 | server.py:236 | fit_round 59 received 2 results and 0 failures\n",
      "DEBUG flwr 2023-08-31 02:37:10,093 | server.py:173 | evaluate_round 59: strategy sampled 2 clients (out of 3)\n",
      "DEBUG flwr 2023-08-31 02:37:10,131 | server.py:187 | evaluate_round 59 received 2 results and 0 failures\n",
      "DEBUG flwr 2023-08-31 02:37:10,132 | server.py:222 | fit_round 60: strategy sampled 2 clients (out of 3)\n"
     ]
    },
    {
     "name": "stdout",
     "output_type": "stream",
     "text": [
      "agrregate_fit results list length is  2\n",
      "Saving round 59 aggregated_parameters...\n",
      "agrregate_evaluate results list length is  2\n",
      "server round is  59\n",
      "loss is  2.2402957486136783\n"
     ]
    },
    {
     "name": "stderr",
     "output_type": "stream",
     "text": [
      "DEBUG flwr 2023-08-31 02:37:12,811 | server.py:236 | fit_round 60 received 2 results and 0 failures\n",
      "DEBUG flwr 2023-08-31 02:37:12,836 | server.py:173 | evaluate_round 60: strategy sampled 2 clients (out of 3)\n",
      "DEBUG flwr 2023-08-31 02:37:12,877 | server.py:187 | evaluate_round 60 received 2 results and 0 failures\n",
      "INFO flwr 2023-08-31 02:37:12,878 | server.py:153 | FL finished in 361.0044227000035\n",
      "INFO flwr 2023-08-31 02:37:12,879 | app.py:225 | app_fit: losses_distributed [(1, 3.944547134935305), (2, 3.2125693160813307), (3, 4.99815157116451), (4, 2.5268022181146024), (5, 2.6950092421441774), (6, 2.4602587800369684), (7, 2.622920517560074), (8, 2.7171903881700556), (9, 2.4232902033271717), (10, 2.421441774491682), (11, 2.4177449168207024), (12, 2.933456561922366), (13, 2.1515711645101665), (14, 2.155268022181146), (15, 2.199630314232902), (16, 2.232902033271719), (17, 2.744916820702403), (18, 2.6950092421441774), (19, 2.175600739371534), (20, 2.5711645101663585), (21, 2.1312384473197783), (22, 2.7911275415896486), (23, 2.2735674676524953), (24, 2.1275415896487986), (25, 2.2957486136783736), (26, 2.7060998151571165), (27, 2.465804066543438), (28, 2.195933456561922), (29, 2.831792975970425), (30, 2.2033271719038816), (31, 2.2070240295748613), (32, 2.569316081330869), (33, 2.3031423290203326), (34, 2.1164510166358594), (35, 2.397412199630314), (36, 2.0739371534195934), (37, 2.0979667282809613), (38, 2.0702402957486137), (39, 2.22365988909427), (40, 2.258780036968577), (41, 2.166358595194085), (42, 2.142329020332717), (43, 2.33456561922366), (44, 2.099815157116451), (45, 2.534195933456562), (46, 2.053604436229205), (47, 2.1737523105360443), (48, 2.201478743068392), (49, 2.166358595194085), (50, 2.1219963031423292), (51, 2.144177449168207), (52, 2.133086876155268), (53, 2.162661737523105), (54, 2.088724584103512), (55, 2.391866913123845), (56, 2.177449168207024), (57, 2.133086876155268), (58, 2.199630314232902), (59, 2.2402957486136783), (60, 1.9371534195933457)]\n",
      "INFO flwr 2023-08-31 02:37:12,880 | app.py:226 | app_fit: metrics_distributed_fit {}\n",
      "INFO flwr 2023-08-31 02:37:12,881 | app.py:227 | app_fit: metrics_distributed {'mse': [(1, 7.88909426987061), (2, 6.425138632162661), (3, 9.99630314232902), (4, 5.053604436229205), (5, 5.390018484288355), (6, 4.920517560073937), (7, 5.245841035120148), (8, 5.434380776340111), (9, 4.846580406654343), (10, 4.842883548983364), (11, 4.835489833641405), (12, 5.866913123844732), (13, 4.303142329020333), (14, 4.310536044362292), (15, 4.399260628465804), (16, 4.465804066543438), (17, 5.489833641404806), (18, 5.390018484288355), (19, 4.351201478743068), (20, 5.142329020332717), (21, 4.262476894639557), (22, 5.582255083179297), (23, 4.547134935304991), (24, 4.255083179297597), (25, 4.591497227356747), (26, 5.412199630314233), (27, 4.931608133086876), (28, 4.391866913123844), (29, 5.66358595194085), (30, 4.406654343807763), (31, 4.414048059149723), (32, 5.138632162661738), (33, 4.606284658040665), (34, 4.232902033271719), (35, 4.794824399260628), (36, 4.147874306839187), (37, 4.195933456561923), (38, 4.140480591497227), (39, 4.44731977818854), (40, 4.517560073937154), (41, 4.33271719038817), (42, 4.284658040665434), (43, 4.66913123844732), (44, 4.199630314232902), (45, 5.068391866913124), (46, 4.10720887245841), (47, 4.347504621072089), (48, 4.402957486136784), (49, 4.33271719038817), (50, 4.2439926062846585), (51, 4.288354898336414), (52, 4.266173752310536), (53, 4.32532347504621), (54, 4.177449168207024), (55, 4.78373382624769), (56, 4.354898336414048), (57, 4.266173752310536), (58, 4.399260628465804), (59, 4.480591497227357), (60, 3.8743068391866915)]}\n",
      "INFO flwr 2023-08-31 02:37:12,881 | app.py:228 | app_fit: losses_centralized []\n",
      "INFO flwr 2023-08-31 02:37:12,882 | app.py:229 | app_fit: metrics_centralized {}\n"
     ]
    },
    {
     "name": "stdout",
     "output_type": "stream",
     "text": [
      "agrregate_fit results list length is  2\n",
      "Saving round 60 aggregated_parameters...\n",
      "agrregate_evaluate results list length is  2\n",
      "server round is  60\n",
      "loss is  1.9371534195933457\n",
      "History (loss, distributed):\n",
      "\tround 1: 3.944547134935305\n",
      "\tround 2: 3.2125693160813307\n",
      "\tround 3: 4.99815157116451\n",
      "\tround 4: 2.5268022181146024\n",
      "\tround 5: 2.6950092421441774\n",
      "\tround 6: 2.4602587800369684\n",
      "\tround 7: 2.622920517560074\n",
      "\tround 8: 2.7171903881700556\n",
      "\tround 9: 2.4232902033271717\n",
      "\tround 10: 2.421441774491682\n",
      "\tround 11: 2.4177449168207024\n",
      "\tround 12: 2.933456561922366\n",
      "\tround 13: 2.1515711645101665\n",
      "\tround 14: 2.155268022181146\n",
      "\tround 15: 2.199630314232902\n",
      "\tround 16: 2.232902033271719\n",
      "\tround 17: 2.744916820702403\n",
      "\tround 18: 2.6950092421441774\n",
      "\tround 19: 2.175600739371534\n",
      "\tround 20: 2.5711645101663585\n",
      "\tround 21: 2.1312384473197783\n",
      "\tround 22: 2.7911275415896486\n",
      "\tround 23: 2.2735674676524953\n",
      "\tround 24: 2.1275415896487986\n",
      "\tround 25: 2.2957486136783736\n",
      "\tround 26: 2.7060998151571165\n",
      "\tround 27: 2.465804066543438\n",
      "\tround 28: 2.195933456561922\n",
      "\tround 29: 2.831792975970425\n",
      "\tround 30: 2.2033271719038816\n",
      "\tround 31: 2.2070240295748613\n",
      "\tround 32: 2.569316081330869\n",
      "\tround 33: 2.3031423290203326\n",
      "\tround 34: 2.1164510166358594\n",
      "\tround 35: 2.397412199630314\n",
      "\tround 36: 2.0739371534195934\n",
      "\tround 37: 2.0979667282809613\n",
      "\tround 38: 2.0702402957486137\n",
      "\tround 39: 2.22365988909427\n",
      "\tround 40: 2.258780036968577\n",
      "\tround 41: 2.166358595194085\n",
      "\tround 42: 2.142329020332717\n",
      "\tround 43: 2.33456561922366\n",
      "\tround 44: 2.099815157116451\n",
      "\tround 45: 2.534195933456562\n",
      "\tround 46: 2.053604436229205\n",
      "\tround 47: 2.1737523105360443\n",
      "\tround 48: 2.201478743068392\n",
      "\tround 49: 2.166358595194085\n",
      "\tround 50: 2.1219963031423292\n",
      "\tround 51: 2.144177449168207\n",
      "\tround 52: 2.133086876155268\n",
      "\tround 53: 2.162661737523105\n",
      "\tround 54: 2.088724584103512\n",
      "\tround 55: 2.391866913123845\n",
      "\tround 56: 2.177449168207024\n",
      "\tround 57: 2.133086876155268\n",
      "\tround 58: 2.199630314232902\n",
      "\tround 59: 2.2402957486136783\n",
      "\tround 60: 1.9371534195933457\n",
      "History (metrics, distributed, evaluate):\n",
      "{'mse': [(1, 7.88909426987061), (2, 6.425138632162661), (3, 9.99630314232902), (4, 5.053604436229205), (5, 5.390018484288355), (6, 4.920517560073937), (7, 5.245841035120148), (8, 5.434380776340111), (9, 4.846580406654343), (10, 4.842883548983364), (11, 4.835489833641405), (12, 5.866913123844732), (13, 4.303142329020333), (14, 4.310536044362292), (15, 4.399260628465804), (16, 4.465804066543438), (17, 5.489833641404806), (18, 5.390018484288355), (19, 4.351201478743068), (20, 5.142329020332717), (21, 4.262476894639557), (22, 5.582255083179297), (23, 4.547134935304991), (24, 4.255083179297597), (25, 4.591497227356747), (26, 5.412199630314233), (27, 4.931608133086876), (28, 4.391866913123844), (29, 5.66358595194085), (30, 4.406654343807763), (31, 4.414048059149723), (32, 5.138632162661738), (33, 4.606284658040665), (34, 4.232902033271719), (35, 4.794824399260628), (36, 4.147874306839187), (37, 4.195933456561923), (38, 4.140480591497227), (39, 4.44731977818854), (40, 4.517560073937154), (41, 4.33271719038817), (42, 4.284658040665434), (43, 4.66913123844732), (44, 4.199630314232902), (45, 5.068391866913124), (46, 4.10720887245841), (47, 4.347504621072089), (48, 4.402957486136784), (49, 4.33271719038817), (50, 4.2439926062846585), (51, 4.288354898336414), (52, 4.266173752310536), (53, 4.32532347504621), (54, 4.177449168207024), (55, 4.78373382624769), (56, 4.354898336414048), (57, 4.266173752310536), (58, 4.399260628465804), (59, 4.480591497227357), (60, 3.8743068391866915)]}\n",
      "[(1, 3.944547134935305), (2, 3.2125693160813307), (3, 4.99815157116451), (4, 2.5268022181146024), (5, 2.6950092421441774), (6, 2.4602587800369684), (7, 2.622920517560074), (8, 2.7171903881700556), (9, 2.4232902033271717), (10, 2.421441774491682), (11, 2.4177449168207024), (12, 2.933456561922366), (13, 2.1515711645101665), (14, 2.155268022181146), (15, 2.199630314232902), (16, 2.232902033271719), (17, 2.744916820702403), (18, 2.6950092421441774), (19, 2.175600739371534), (20, 2.5711645101663585), (21, 2.1312384473197783), (22, 2.7911275415896486), (23, 2.2735674676524953), (24, 2.1275415896487986), (25, 2.2957486136783736), (26, 2.7060998151571165), (27, 2.465804066543438), (28, 2.195933456561922), (29, 2.831792975970425), (30, 2.2033271719038816), (31, 2.2070240295748613), (32, 2.569316081330869), (33, 2.3031423290203326), (34, 2.1164510166358594), (35, 2.397412199630314), (36, 2.0739371534195934), (37, 2.0979667282809613), (38, 2.0702402957486137), (39, 2.22365988909427), (40, 2.258780036968577), (41, 2.166358595194085), (42, 2.142329020332717), (43, 2.33456561922366), (44, 2.099815157116451), (45, 2.534195933456562), (46, 2.053604436229205), (47, 2.1737523105360443), (48, 2.201478743068392), (49, 2.166358595194085), (50, 2.1219963031423292), (51, 2.144177449168207), (52, 2.133086876155268), (53, 2.162661737523105), (54, 2.088724584103512), (55, 2.391866913123845), (56, 2.177449168207024), (57, 2.133086876155268), (58, 2.199630314232902), (59, 2.2402957486136783), (60, 1.9371534195933457)]\n",
      "Fold 2:\n",
      "split [0.6, 0.2, 0.2]\n",
      "time 0:06:21.673839\n",
      "mse [1.9371534195933457]\n",
      "auc [0.894395078605605]\n"
     ]
    }
   ],
   "source": [
    "split = [0.6, 0.2, 0.2]\n",
    "do_fl(split)"
   ],
   "metadata": {
    "collapsed": false,
    "ExecuteTime": {
     "end_time": "2023-08-31T01:37:13.050362400Z",
     "start_time": "2023-08-31T01:30:51.278765700Z"
    }
   }
  },
  {
   "cell_type": "code",
   "execution_count": 12,
   "outputs": [
    {
     "name": "stderr",
     "output_type": "stream",
     "text": [
      "INFO flwr 2023-08-31 02:37:13,000 | app.py:145 | Starting Flower simulation, config: ServerConfig(num_rounds=60, round_timeout=None)\n"
     ]
    },
    {
     "name": "stdout",
     "output_type": "stream",
     "text": [
      "<class 'torch.Tensor'>\n",
      "<class 'torch.Tensor'>\n",
      "Fold 1:\n",
      "Client 0 trainset shape torch.Size([4660, 22])\n",
      "Client 1 trainset shape torch.Size([464, 22])\n",
      "Client 2 trainset shape torch.Size([450, 22])\n",
      "FL started training on cpu\n",
      "Number of available GPUs: 0\n"
     ]
    },
    {
     "name": "stderr",
     "output_type": "stream",
     "text": [
      "2023-08-31 02:37:21,940\tINFO worker.py:1627 -- Started a local Ray instance. View the dashboard at \u001B[1m\u001B[32m127.0.0.1:8267 \u001B[39m\u001B[22m\n",
      "INFO flwr 2023-08-31 02:37:30,753 | app.py:179 | Flower VCE: Ray initialized with resources: {'node:127.0.0.1': 1.0, 'object_store_memory': 728667340.0, 'memory': 1457334683.0, 'GPU': 1.0, 'CPU': 8.0}\n",
      "INFO flwr 2023-08-31 02:37:30,755 | server.py:89 | Initializing global parameters\n",
      "INFO flwr 2023-08-31 02:37:30,756 | server.py:276 | Requesting initial parameters from one random client\n",
      "INFO flwr 2023-08-31 02:37:34,430 | server.py:280 | Received initial parameters from one random client\n",
      "INFO flwr 2023-08-31 02:37:34,430 | server.py:91 | Evaluating initial parameters\n",
      "INFO flwr 2023-08-31 02:37:34,431 | server.py:104 | FL starting\n",
      "DEBUG flwr 2023-08-31 02:37:34,431 | server.py:222 | fit_round 1: strategy sampled 2 clients (out of 3)\n",
      "DEBUG flwr 2023-08-31 02:37:45,122 | server.py:236 | fit_round 1 received 2 results and 0 failures\n",
      "WARNING flwr 2023-08-31 02:37:45,130 | fedavg.py:242 | No fit_metrics_aggregation_fn provided\n",
      "DEBUG flwr 2023-08-31 02:37:45,141 | server.py:173 | evaluate_round 1: strategy sampled 2 clients (out of 3)\n",
      "DEBUG flwr 2023-08-31 02:37:45,189 | server.py:187 | evaluate_round 1 received 2 results and 0 failures\n",
      "DEBUG flwr 2023-08-31 02:37:45,190 | server.py:222 | fit_round 2: strategy sampled 2 clients (out of 3)\n"
     ]
    },
    {
     "name": "stdout",
     "output_type": "stream",
     "text": [
      "agrregate_fit results list length is  2\n",
      "Saving round 1 aggregated_parameters...\n",
      "agrregate_evaluate results list length is  2\n",
      "server round is  1\n",
      "loss is  2.866913123844732\n"
     ]
    },
    {
     "name": "stderr",
     "output_type": "stream",
     "text": [
      "DEBUG flwr 2023-08-31 02:37:46,301 | server.py:236 | fit_round 2 received 2 results and 0 failures\n",
      "DEBUG flwr 2023-08-31 02:37:46,326 | server.py:173 | evaluate_round 2: strategy sampled 2 clients (out of 3)\n",
      "DEBUG flwr 2023-08-31 02:37:46,364 | server.py:187 | evaluate_round 2 received 2 results and 0 failures\n",
      "DEBUG flwr 2023-08-31 02:37:46,366 | server.py:222 | fit_round 3: strategy sampled 2 clients (out of 3)\n"
     ]
    },
    {
     "name": "stdout",
     "output_type": "stream",
     "text": [
      "agrregate_fit results list length is  2\n",
      "Saving round 2 aggregated_parameters...\n",
      "agrregate_evaluate results list length is  2\n",
      "server round is  2\n",
      "loss is  2.9630314232902033\n"
     ]
    },
    {
     "name": "stderr",
     "output_type": "stream",
     "text": [
      "DEBUG flwr 2023-08-31 02:37:47,767 | server.py:236 | fit_round 3 received 2 results and 0 failures\n",
      "DEBUG flwr 2023-08-31 02:37:47,791 | server.py:173 | evaluate_round 3: strategy sampled 2 clients (out of 3)\n",
      "DEBUG flwr 2023-08-31 02:37:47,845 | server.py:187 | evaluate_round 3 received 2 results and 0 failures\n",
      "DEBUG flwr 2023-08-31 02:37:47,847 | server.py:222 | fit_round 4: strategy sampled 2 clients (out of 3)\n"
     ]
    },
    {
     "name": "stdout",
     "output_type": "stream",
     "text": [
      "agrregate_fit results list length is  2\n",
      "Saving round 3 aggregated_parameters...\n",
      "agrregate_evaluate results list length is  2\n",
      "server round is  3\n",
      "loss is  2.6340110905730127\n"
     ]
    },
    {
     "name": "stderr",
     "output_type": "stream",
     "text": [
      "DEBUG flwr 2023-08-31 02:37:49,264 | server.py:236 | fit_round 4 received 2 results and 0 failures\n",
      "DEBUG flwr 2023-08-31 02:37:49,285 | server.py:173 | evaluate_round 4: strategy sampled 2 clients (out of 3)\n",
      "DEBUG flwr 2023-08-31 02:37:49,334 | server.py:187 | evaluate_round 4 received 2 results and 0 failures\n",
      "DEBUG flwr 2023-08-31 02:37:49,336 | server.py:222 | fit_round 5: strategy sampled 2 clients (out of 3)\n"
     ]
    },
    {
     "name": "stdout",
     "output_type": "stream",
     "text": [
      "agrregate_fit results list length is  2\n",
      "Saving round 4 aggregated_parameters...\n",
      "agrregate_evaluate results list length is  2\n",
      "server round is  4\n",
      "loss is  2.6857670979667283\n"
     ]
    },
    {
     "name": "stderr",
     "output_type": "stream",
     "text": [
      "DEBUG flwr 2023-08-31 02:37:50,704 | server.py:236 | fit_round 5 received 2 results and 0 failures\n",
      "DEBUG flwr 2023-08-31 02:37:50,733 | server.py:173 | evaluate_round 5: strategy sampled 2 clients (out of 3)\n",
      "DEBUG flwr 2023-08-31 02:37:50,777 | server.py:187 | evaluate_round 5 received 2 results and 0 failures\n",
      "DEBUG flwr 2023-08-31 02:37:50,778 | server.py:222 | fit_round 6: strategy sampled 2 clients (out of 3)\n"
     ]
    },
    {
     "name": "stdout",
     "output_type": "stream",
     "text": [
      "agrregate_fit results list length is  2\n",
      "Saving round 5 aggregated_parameters...\n",
      "agrregate_evaluate results list length is  2\n",
      "server round is  5\n",
      "loss is  2.66543438077634\n"
     ]
    },
    {
     "name": "stderr",
     "output_type": "stream",
     "text": [
      "DEBUG flwr 2023-08-31 02:37:52,063 | server.py:236 | fit_round 6 received 2 results and 0 failures\n",
      "DEBUG flwr 2023-08-31 02:37:52,085 | server.py:173 | evaluate_round 6: strategy sampled 2 clients (out of 3)\n",
      "DEBUG flwr 2023-08-31 02:37:52,126 | server.py:187 | evaluate_round 6 received 2 results and 0 failures\n",
      "DEBUG flwr 2023-08-31 02:37:52,127 | server.py:222 | fit_round 7: strategy sampled 2 clients (out of 3)\n"
     ]
    },
    {
     "name": "stdout",
     "output_type": "stream",
     "text": [
      "agrregate_fit results list length is  2\n",
      "Saving round 6 aggregated_parameters...\n",
      "agrregate_evaluate results list length is  2\n",
      "server round is  6\n",
      "loss is  2.900184842883549\n"
     ]
    },
    {
     "name": "stderr",
     "output_type": "stream",
     "text": [
      "DEBUG flwr 2023-08-31 02:38:03,921 | server.py:236 | fit_round 7 received 2 results and 0 failures\n",
      "DEBUG flwr 2023-08-31 02:38:03,945 | server.py:173 | evaluate_round 7: strategy sampled 2 clients (out of 3)\n",
      "DEBUG flwr 2023-08-31 02:38:03,996 | server.py:187 | evaluate_round 7 received 2 results and 0 failures\n",
      "DEBUG flwr 2023-08-31 02:38:03,998 | server.py:222 | fit_round 8: strategy sampled 2 clients (out of 3)\n"
     ]
    },
    {
     "name": "stdout",
     "output_type": "stream",
     "text": [
      "agrregate_fit results list length is  2\n",
      "Saving round 7 aggregated_parameters...\n",
      "agrregate_evaluate results list length is  2\n",
      "server round is  7\n",
      "loss is  2.6580406654343807\n"
     ]
    },
    {
     "name": "stderr",
     "output_type": "stream",
     "text": [
      "DEBUG flwr 2023-08-31 02:38:05,642 | server.py:236 | fit_round 8 received 2 results and 0 failures\n",
      "DEBUG flwr 2023-08-31 02:38:05,666 | server.py:173 | evaluate_round 8: strategy sampled 2 clients (out of 3)\n",
      "DEBUG flwr 2023-08-31 02:38:05,723 | server.py:187 | evaluate_round 8 received 2 results and 0 failures\n",
      "DEBUG flwr 2023-08-31 02:38:05,725 | server.py:222 | fit_round 9: strategy sampled 2 clients (out of 3)\n"
     ]
    },
    {
     "name": "stdout",
     "output_type": "stream",
     "text": [
      "agrregate_fit results list length is  2\n",
      "Saving round 8 aggregated_parameters...\n",
      "agrregate_evaluate results list length is  2\n",
      "server round is  8\n",
      "loss is  2.8743068391866915\n"
     ]
    },
    {
     "name": "stderr",
     "output_type": "stream",
     "text": [
      "DEBUG flwr 2023-08-31 02:38:18,512 | server.py:236 | fit_round 9 received 2 results and 0 failures\n",
      "DEBUG flwr 2023-08-31 02:38:18,534 | server.py:173 | evaluate_round 9: strategy sampled 2 clients (out of 3)\n",
      "DEBUG flwr 2023-08-31 02:38:18,579 | server.py:187 | evaluate_round 9 received 2 results and 0 failures\n",
      "DEBUG flwr 2023-08-31 02:38:18,581 | server.py:222 | fit_round 10: strategy sampled 2 clients (out of 3)\n"
     ]
    },
    {
     "name": "stdout",
     "output_type": "stream",
     "text": [
      "agrregate_fit results list length is  2\n",
      "Saving round 9 aggregated_parameters...\n",
      "agrregate_evaluate results list length is  2\n",
      "server round is  9\n",
      "loss is  2.7634011090573014\n"
     ]
    },
    {
     "name": "stderr",
     "output_type": "stream",
     "text": [
      "DEBUG flwr 2023-08-31 02:38:32,354 | server.py:236 | fit_round 10 received 2 results and 0 failures\n",
      "DEBUG flwr 2023-08-31 02:38:32,379 | server.py:173 | evaluate_round 10: strategy sampled 2 clients (out of 3)\n",
      "DEBUG flwr 2023-08-31 02:38:32,414 | server.py:187 | evaluate_round 10 received 2 results and 0 failures\n",
      "DEBUG flwr 2023-08-31 02:38:32,416 | server.py:222 | fit_round 11: strategy sampled 2 clients (out of 3)\n"
     ]
    },
    {
     "name": "stdout",
     "output_type": "stream",
     "text": [
      "agrregate_fit results list length is  2\n",
      "Saving round 10 aggregated_parameters...\n",
      "agrregate_evaluate results list length is  2\n",
      "server round is  10\n",
      "loss is  2.312384473197782\n"
     ]
    },
    {
     "name": "stderr",
     "output_type": "stream",
     "text": [
      "DEBUG flwr 2023-08-31 02:38:44,237 | server.py:236 | fit_round 11 received 2 results and 0 failures\n",
      "DEBUG flwr 2023-08-31 02:38:44,260 | server.py:173 | evaluate_round 11: strategy sampled 2 clients (out of 3)\n",
      "DEBUG flwr 2023-08-31 02:38:44,300 | server.py:187 | evaluate_round 11 received 2 results and 0 failures\n",
      "DEBUG flwr 2023-08-31 02:38:44,302 | server.py:222 | fit_round 12: strategy sampled 2 clients (out of 3)\n"
     ]
    },
    {
     "name": "stdout",
     "output_type": "stream",
     "text": [
      "agrregate_fit results list length is  2\n",
      "Saving round 11 aggregated_parameters...\n",
      "agrregate_evaluate results list length is  2\n",
      "server round is  11\n",
      "loss is  2.243992606284658\n"
     ]
    },
    {
     "name": "stderr",
     "output_type": "stream",
     "text": [
      "DEBUG flwr 2023-08-31 02:38:55,240 | server.py:236 | fit_round 12 received 2 results and 0 failures\n",
      "DEBUG flwr 2023-08-31 02:38:55,263 | server.py:173 | evaluate_round 12: strategy sampled 2 clients (out of 3)\n",
      "DEBUG flwr 2023-08-31 02:38:55,304 | server.py:187 | evaluate_round 12 received 2 results and 0 failures\n",
      "DEBUG flwr 2023-08-31 02:38:55,305 | server.py:222 | fit_round 13: strategy sampled 2 clients (out of 3)\n"
     ]
    },
    {
     "name": "stdout",
     "output_type": "stream",
     "text": [
      "agrregate_fit results list length is  2\n",
      "Saving round 12 aggregated_parameters...\n",
      "agrregate_evaluate results list length is  2\n",
      "server round is  12\n",
      "loss is  2.011090573012939\n"
     ]
    },
    {
     "name": "stderr",
     "output_type": "stream",
     "text": [
      "DEBUG flwr 2023-08-31 02:39:05,858 | server.py:236 | fit_round 13 received 2 results and 0 failures\n",
      "DEBUG flwr 2023-08-31 02:39:05,878 | server.py:173 | evaluate_round 13: strategy sampled 2 clients (out of 3)\n",
      "DEBUG flwr 2023-08-31 02:39:05,941 | server.py:187 | evaluate_round 13 received 2 results and 0 failures\n",
      "DEBUG flwr 2023-08-31 02:39:05,944 | server.py:222 | fit_round 14: strategy sampled 2 clients (out of 3)\n"
     ]
    },
    {
     "name": "stdout",
     "output_type": "stream",
     "text": [
      "agrregate_fit results list length is  2\n",
      "Saving round 13 aggregated_parameters...\n",
      "agrregate_evaluate results list length is  2\n",
      "server round is  13\n",
      "loss is  2.500924214417745\n"
     ]
    },
    {
     "name": "stderr",
     "output_type": "stream",
     "text": [
      "DEBUG flwr 2023-08-31 02:39:15,862 | server.py:236 | fit_round 14 received 2 results and 0 failures\n",
      "DEBUG flwr 2023-08-31 02:39:15,881 | server.py:173 | evaluate_round 14: strategy sampled 2 clients (out of 3)\n",
      "DEBUG flwr 2023-08-31 02:39:15,922 | server.py:187 | evaluate_round 14 received 2 results and 0 failures\n",
      "DEBUG flwr 2023-08-31 02:39:15,923 | server.py:222 | fit_round 15: strategy sampled 2 clients (out of 3)\n"
     ]
    },
    {
     "name": "stdout",
     "output_type": "stream",
     "text": [
      "agrregate_fit results list length is  2\n",
      "Saving round 14 aggregated_parameters...\n",
      "agrregate_evaluate results list length is  2\n",
      "server round is  14\n",
      "loss is  2.3419593345656193\n"
     ]
    },
    {
     "name": "stderr",
     "output_type": "stream",
     "text": [
      "DEBUG flwr 2023-08-31 02:39:25,664 | server.py:236 | fit_round 15 received 2 results and 0 failures\n",
      "DEBUG flwr 2023-08-31 02:39:25,681 | server.py:173 | evaluate_round 15: strategy sampled 2 clients (out of 3)\n",
      "DEBUG flwr 2023-08-31 02:39:25,718 | server.py:187 | evaluate_round 15 received 2 results and 0 failures\n",
      "DEBUG flwr 2023-08-31 02:39:25,719 | server.py:222 | fit_round 16: strategy sampled 2 clients (out of 3)\n"
     ]
    },
    {
     "name": "stdout",
     "output_type": "stream",
     "text": [
      "agrregate_fit results list length is  2\n",
      "Saving round 15 aggregated_parameters...\n",
      "agrregate_evaluate results list length is  2\n",
      "server round is  15\n",
      "loss is  2.5083179297597042\n"
     ]
    },
    {
     "name": "stderr",
     "output_type": "stream",
     "text": [
      "DEBUG flwr 2023-08-31 02:39:35,504 | server.py:236 | fit_round 16 received 2 results and 0 failures\n",
      "DEBUG flwr 2023-08-31 02:39:35,524 | server.py:173 | evaluate_round 16: strategy sampled 2 clients (out of 3)\n",
      "DEBUG flwr 2023-08-31 02:39:35,565 | server.py:187 | evaluate_round 16 received 2 results and 0 failures\n",
      "DEBUG flwr 2023-08-31 02:39:35,567 | server.py:222 | fit_round 17: strategy sampled 2 clients (out of 3)\n"
     ]
    },
    {
     "name": "stdout",
     "output_type": "stream",
     "text": [
      "agrregate_fit results list length is  2\n",
      "Saving round 16 aggregated_parameters...\n",
      "agrregate_evaluate results list length is  2\n",
      "server round is  16\n",
      "loss is  2.1035120147874307\n"
     ]
    },
    {
     "name": "stderr",
     "output_type": "stream",
     "text": [
      "DEBUG flwr 2023-08-31 02:39:46,060 | server.py:236 | fit_round 17 received 2 results and 0 failures\n",
      "DEBUG flwr 2023-08-31 02:39:46,078 | server.py:173 | evaluate_round 17: strategy sampled 2 clients (out of 3)\n",
      "DEBUG flwr 2023-08-31 02:39:46,123 | server.py:187 | evaluate_round 17 received 2 results and 0 failures\n",
      "DEBUG flwr 2023-08-31 02:39:46,125 | server.py:222 | fit_round 18: strategy sampled 2 clients (out of 3)\n"
     ]
    },
    {
     "name": "stdout",
     "output_type": "stream",
     "text": [
      "agrregate_fit results list length is  2\n",
      "Saving round 17 aggregated_parameters...\n",
      "agrregate_evaluate results list length is  2\n",
      "server round is  17\n",
      "loss is  2.0129390018484288\n"
     ]
    },
    {
     "name": "stderr",
     "output_type": "stream",
     "text": [
      "DEBUG flwr 2023-08-31 02:39:47,362 | server.py:236 | fit_round 18 received 2 results and 0 failures\n",
      "DEBUG flwr 2023-08-31 02:39:47,396 | server.py:173 | evaluate_round 18: strategy sampled 2 clients (out of 3)\n",
      "DEBUG flwr 2023-08-31 02:39:47,436 | server.py:187 | evaluate_round 18 received 2 results and 0 failures\n",
      "DEBUG flwr 2023-08-31 02:39:47,438 | server.py:222 | fit_round 19: strategy sampled 2 clients (out of 3)\n"
     ]
    },
    {
     "name": "stdout",
     "output_type": "stream",
     "text": [
      "agrregate_fit results list length is  2\n",
      "Saving round 18 aggregated_parameters...\n",
      "agrregate_evaluate results list length is  2\n",
      "server round is  18\n",
      "loss is  2.277264325323475\n"
     ]
    },
    {
     "name": "stderr",
     "output_type": "stream",
     "text": [
      "DEBUG flwr 2023-08-31 02:39:58,773 | server.py:236 | fit_round 19 received 2 results and 0 failures\n",
      "DEBUG flwr 2023-08-31 02:39:58,791 | server.py:173 | evaluate_round 19: strategy sampled 2 clients (out of 3)\n",
      "DEBUG flwr 2023-08-31 02:39:58,846 | server.py:187 | evaluate_round 19 received 2 results and 0 failures\n",
      "DEBUG flwr 2023-08-31 02:39:58,848 | server.py:222 | fit_round 20: strategy sampled 2 clients (out of 3)\n"
     ]
    },
    {
     "name": "stdout",
     "output_type": "stream",
     "text": [
      "agrregate_fit results list length is  2\n",
      "Saving round 19 aggregated_parameters...\n",
      "agrregate_evaluate results list length is  2\n",
      "server round is  19\n",
      "loss is  2.0462107208872458\n"
     ]
    },
    {
     "name": "stderr",
     "output_type": "stream",
     "text": [
      "DEBUG flwr 2023-08-31 02:40:09,958 | server.py:236 | fit_round 20 received 2 results and 0 failures\n",
      "DEBUG flwr 2023-08-31 02:40:09,978 | server.py:173 | evaluate_round 20: strategy sampled 2 clients (out of 3)\n",
      "DEBUG flwr 2023-08-31 02:40:10,017 | server.py:187 | evaluate_round 20 received 2 results and 0 failures\n",
      "DEBUG flwr 2023-08-31 02:40:10,018 | server.py:222 | fit_round 21: strategy sampled 2 clients (out of 3)\n"
     ]
    },
    {
     "name": "stdout",
     "output_type": "stream",
     "text": [
      "agrregate_fit results list length is  2\n",
      "Saving round 20 aggregated_parameters...\n",
      "agrregate_evaluate results list length is  2\n",
      "server round is  20\n",
      "loss is  2.7948243992606283\n"
     ]
    },
    {
     "name": "stderr",
     "output_type": "stream",
     "text": [
      "DEBUG flwr 2023-08-31 02:40:20,258 | server.py:236 | fit_round 21 received 2 results and 0 failures\n",
      "DEBUG flwr 2023-08-31 02:40:20,274 | server.py:173 | evaluate_round 21: strategy sampled 2 clients (out of 3)\n",
      "DEBUG flwr 2023-08-31 02:40:20,305 | server.py:187 | evaluate_round 21 received 2 results and 0 failures\n",
      "DEBUG flwr 2023-08-31 02:40:20,308 | server.py:222 | fit_round 22: strategy sampled 2 clients (out of 3)\n"
     ]
    },
    {
     "name": "stdout",
     "output_type": "stream",
     "text": [
      "agrregate_fit results list length is  2\n",
      "Saving round 21 aggregated_parameters...\n",
      "agrregate_evaluate results list length is  2\n",
      "server round is  21\n",
      "loss is  2.345656192236599\n"
     ]
    },
    {
     "name": "stderr",
     "output_type": "stream",
     "text": [
      "DEBUG flwr 2023-08-31 02:40:30,254 | server.py:236 | fit_round 22 received 2 results and 0 failures\n",
      "DEBUG flwr 2023-08-31 02:40:30,272 | server.py:173 | evaluate_round 22: strategy sampled 2 clients (out of 3)\n",
      "DEBUG flwr 2023-08-31 02:40:30,312 | server.py:187 | evaluate_round 22 received 2 results and 0 failures\n",
      "DEBUG flwr 2023-08-31 02:40:30,313 | server.py:222 | fit_round 23: strategy sampled 2 clients (out of 3)\n"
     ]
    },
    {
     "name": "stdout",
     "output_type": "stream",
     "text": [
      "agrregate_fit results list length is  2\n",
      "Saving round 22 aggregated_parameters...\n",
      "agrregate_evaluate results list length is  2\n",
      "server round is  22\n",
      "loss is  2.1589648798521255\n"
     ]
    },
    {
     "name": "stderr",
     "output_type": "stream",
     "text": [
      "DEBUG flwr 2023-08-31 02:40:31,595 | server.py:236 | fit_round 23 received 2 results and 0 failures\n",
      "DEBUG flwr 2023-08-31 02:40:31,617 | server.py:173 | evaluate_round 23: strategy sampled 2 clients (out of 3)\n",
      "DEBUG flwr 2023-08-31 02:40:31,656 | server.py:187 | evaluate_round 23 received 2 results and 0 failures\n",
      "DEBUG flwr 2023-08-31 02:40:31,658 | server.py:222 | fit_round 24: strategy sampled 2 clients (out of 3)\n"
     ]
    },
    {
     "name": "stdout",
     "output_type": "stream",
     "text": [
      "agrregate_fit results list length is  2\n",
      "Saving round 23 aggregated_parameters...\n",
      "agrregate_evaluate results list length is  2\n",
      "server round is  23\n",
      "loss is  2.3512014787430684\n"
     ]
    },
    {
     "name": "stderr",
     "output_type": "stream",
     "text": [
      "DEBUG flwr 2023-08-31 02:40:41,791 | server.py:236 | fit_round 24 received 2 results and 0 failures\n",
      "DEBUG flwr 2023-08-31 02:40:41,809 | server.py:173 | evaluate_round 24: strategy sampled 2 clients (out of 3)\n",
      "DEBUG flwr 2023-08-31 02:40:41,849 | server.py:187 | evaluate_round 24 received 2 results and 0 failures\n",
      "DEBUG flwr 2023-08-31 02:40:41,850 | server.py:222 | fit_round 25: strategy sampled 2 clients (out of 3)\n"
     ]
    },
    {
     "name": "stdout",
     "output_type": "stream",
     "text": [
      "agrregate_fit results list length is  2\n",
      "Saving round 24 aggregated_parameters...\n",
      "agrregate_evaluate results list length is  2\n",
      "server round is  24\n",
      "loss is  2.11460258780037\n"
     ]
    },
    {
     "name": "stderr",
     "output_type": "stream",
     "text": [
      "DEBUG flwr 2023-08-31 02:40:43,075 | server.py:236 | fit_round 25 received 2 results and 0 failures\n",
      "DEBUG flwr 2023-08-31 02:40:43,097 | server.py:173 | evaluate_round 25: strategy sampled 2 clients (out of 3)\n",
      "DEBUG flwr 2023-08-31 02:40:43,139 | server.py:187 | evaluate_round 25 received 2 results and 0 failures\n",
      "DEBUG flwr 2023-08-31 02:40:43,140 | server.py:222 | fit_round 26: strategy sampled 2 clients (out of 3)\n"
     ]
    },
    {
     "name": "stdout",
     "output_type": "stream",
     "text": [
      "agrregate_fit results list length is  2\n",
      "Saving round 25 aggregated_parameters...\n",
      "agrregate_evaluate results list length is  2\n",
      "server round is  25\n",
      "loss is  2.1367837338262476\n"
     ]
    },
    {
     "name": "stderr",
     "output_type": "stream",
     "text": [
      "DEBUG flwr 2023-08-31 02:40:44,353 | server.py:236 | fit_round 26 received 2 results and 0 failures\n",
      "DEBUG flwr 2023-08-31 02:40:44,375 | server.py:173 | evaluate_round 26: strategy sampled 2 clients (out of 3)\n",
      "DEBUG flwr 2023-08-31 02:40:44,427 | server.py:187 | evaluate_round 26 received 2 results and 0 failures\n",
      "DEBUG flwr 2023-08-31 02:40:44,430 | server.py:222 | fit_round 27: strategy sampled 2 clients (out of 3)\n"
     ]
    },
    {
     "name": "stdout",
     "output_type": "stream",
     "text": [
      "agrregate_fit results list length is  2\n",
      "Saving round 26 aggregated_parameters...\n",
      "agrregate_evaluate results list length is  2\n",
      "server round is  26\n",
      "loss is  2.3900184842883547\n"
     ]
    },
    {
     "name": "stderr",
     "output_type": "stream",
     "text": [
      "DEBUG flwr 2023-08-31 02:40:54,589 | server.py:236 | fit_round 27 received 2 results and 0 failures\n",
      "DEBUG flwr 2023-08-31 02:40:54,608 | server.py:173 | evaluate_round 27: strategy sampled 2 clients (out of 3)\n",
      "DEBUG flwr 2023-08-31 02:40:54,644 | server.py:187 | evaluate_round 27 received 2 results and 0 failures\n",
      "DEBUG flwr 2023-08-31 02:40:54,646 | server.py:222 | fit_round 28: strategy sampled 2 clients (out of 3)\n"
     ]
    },
    {
     "name": "stdout",
     "output_type": "stream",
     "text": [
      "agrregate_fit results list length is  2\n",
      "Saving round 27 aggregated_parameters...\n",
      "agrregate_evaluate results list length is  2\n",
      "server round is  27\n",
      "loss is  1.9815157116451017\n"
     ]
    },
    {
     "name": "stderr",
     "output_type": "stream",
     "text": [
      "DEBUG flwr 2023-08-31 02:41:04,832 | server.py:236 | fit_round 28 received 2 results and 0 failures\n",
      "DEBUG flwr 2023-08-31 02:41:04,851 | server.py:173 | evaluate_round 28: strategy sampled 2 clients (out of 3)\n",
      "DEBUG flwr 2023-08-31 02:41:04,893 | server.py:187 | evaluate_round 28 received 2 results and 0 failures\n",
      "DEBUG flwr 2023-08-31 02:41:04,895 | server.py:222 | fit_round 29: strategy sampled 2 clients (out of 3)\n"
     ]
    },
    {
     "name": "stdout",
     "output_type": "stream",
     "text": [
      "agrregate_fit results list length is  2\n",
      "Saving round 28 aggregated_parameters...\n",
      "agrregate_evaluate results list length is  2\n",
      "server round is  28\n",
      "loss is  1.78003696857671\n"
     ]
    },
    {
     "name": "stderr",
     "output_type": "stream",
     "text": [
      "DEBUG flwr 2023-08-31 02:41:15,745 | server.py:236 | fit_round 29 received 2 results and 0 failures\n",
      "DEBUG flwr 2023-08-31 02:41:15,762 | server.py:173 | evaluate_round 29: strategy sampled 2 clients (out of 3)\n",
      "DEBUG flwr 2023-08-31 02:41:15,794 | server.py:187 | evaluate_round 29 received 2 results and 0 failures\n",
      "DEBUG flwr 2023-08-31 02:41:15,795 | server.py:222 | fit_round 30: strategy sampled 2 clients (out of 3)\n"
     ]
    },
    {
     "name": "stdout",
     "output_type": "stream",
     "text": [
      "agrregate_fit results list length is  2\n",
      "Saving round 29 aggregated_parameters...\n",
      "agrregate_evaluate results list length is  2\n",
      "server round is  29\n",
      "loss is  2.846580406654344\n"
     ]
    },
    {
     "name": "stderr",
     "output_type": "stream",
     "text": [
      "DEBUG flwr 2023-08-31 02:41:17,032 | server.py:236 | fit_round 30 received 2 results and 0 failures\n",
      "DEBUG flwr 2023-08-31 02:41:17,069 | server.py:173 | evaluate_round 30: strategy sampled 2 clients (out of 3)\n",
      "DEBUG flwr 2023-08-31 02:41:17,119 | server.py:187 | evaluate_round 30 received 2 results and 0 failures\n",
      "DEBUG flwr 2023-08-31 02:41:17,121 | server.py:222 | fit_round 31: strategy sampled 2 clients (out of 3)\n"
     ]
    },
    {
     "name": "stdout",
     "output_type": "stream",
     "text": [
      "agrregate_fit results list length is  2\n",
      "Saving round 30 aggregated_parameters...\n",
      "agrregate_evaluate results list length is  2\n",
      "server round is  30\n",
      "loss is  2.024029574861368\n"
     ]
    },
    {
     "name": "stderr",
     "output_type": "stream",
     "text": [
      "DEBUG flwr 2023-08-31 02:41:27,253 | server.py:236 | fit_round 31 received 2 results and 0 failures\n",
      "DEBUG flwr 2023-08-31 02:41:27,270 | server.py:173 | evaluate_round 31: strategy sampled 2 clients (out of 3)\n",
      "DEBUG flwr 2023-08-31 02:41:27,308 | server.py:187 | evaluate_round 31 received 2 results and 0 failures\n",
      "DEBUG flwr 2023-08-31 02:41:27,309 | server.py:222 | fit_round 32: strategy sampled 2 clients (out of 3)\n"
     ]
    },
    {
     "name": "stdout",
     "output_type": "stream",
     "text": [
      "agrregate_fit results list length is  2\n",
      "Saving round 31 aggregated_parameters...\n",
      "agrregate_evaluate results list length is  2\n",
      "server round is  31\n",
      "loss is  2.2181146025878005\n"
     ]
    },
    {
     "name": "stderr",
     "output_type": "stream",
     "text": [
      "DEBUG flwr 2023-08-31 02:41:28,588 | server.py:236 | fit_round 32 received 2 results and 0 failures\n",
      "DEBUG flwr 2023-08-31 02:41:28,616 | server.py:173 | evaluate_round 32: strategy sampled 2 clients (out of 3)\n",
      "DEBUG flwr 2023-08-31 02:41:28,662 | server.py:187 | evaluate_round 32 received 2 results and 0 failures\n",
      "DEBUG flwr 2023-08-31 02:41:28,664 | server.py:222 | fit_round 33: strategy sampled 2 clients (out of 3)\n"
     ]
    },
    {
     "name": "stdout",
     "output_type": "stream",
     "text": [
      "agrregate_fit results list length is  2\n",
      "Saving round 32 aggregated_parameters...\n",
      "agrregate_evaluate results list length is  2\n",
      "server round is  32\n",
      "loss is  2.268022181146026\n"
     ]
    },
    {
     "name": "stderr",
     "output_type": "stream",
     "text": [
      "DEBUG flwr 2023-08-31 02:41:29,929 | server.py:236 | fit_round 33 received 2 results and 0 failures\n",
      "DEBUG flwr 2023-08-31 02:41:29,949 | server.py:173 | evaluate_round 33: strategy sampled 2 clients (out of 3)\n",
      "DEBUG flwr 2023-08-31 02:41:29,988 | server.py:187 | evaluate_round 33 received 2 results and 0 failures\n",
      "DEBUG flwr 2023-08-31 02:41:29,990 | server.py:222 | fit_round 34: strategy sampled 2 clients (out of 3)\n"
     ]
    },
    {
     "name": "stdout",
     "output_type": "stream",
     "text": [
      "agrregate_fit results list length is  2\n",
      "Saving round 33 aggregated_parameters...\n",
      "agrregate_evaluate results list length is  2\n",
      "server round is  33\n",
      "loss is  2.410351201478743\n"
     ]
    },
    {
     "name": "stderr",
     "output_type": "stream",
     "text": [
      "DEBUG flwr 2023-08-31 02:41:31,306 | server.py:236 | fit_round 34 received 2 results and 0 failures\n",
      "DEBUG flwr 2023-08-31 02:41:31,330 | server.py:173 | evaluate_round 34: strategy sampled 2 clients (out of 3)\n",
      "DEBUG flwr 2023-08-31 02:41:31,374 | server.py:187 | evaluate_round 34 received 2 results and 0 failures\n",
      "DEBUG flwr 2023-08-31 02:41:31,376 | server.py:222 | fit_round 35: strategy sampled 2 clients (out of 3)\n"
     ]
    },
    {
     "name": "stdout",
     "output_type": "stream",
     "text": [
      "agrregate_fit results list length is  2\n",
      "Saving round 34 aggregated_parameters...\n",
      "agrregate_evaluate results list length is  2\n",
      "server round is  34\n",
      "loss is  2.2513863216266174\n"
     ]
    },
    {
     "name": "stderr",
     "output_type": "stream",
     "text": [
      "DEBUG flwr 2023-08-31 02:41:41,347 | server.py:236 | fit_round 35 received 2 results and 0 failures\n",
      "DEBUG flwr 2023-08-31 02:41:41,364 | server.py:173 | evaluate_round 35: strategy sampled 2 clients (out of 3)\n",
      "DEBUG flwr 2023-08-31 02:41:41,404 | server.py:187 | evaluate_round 35 received 2 results and 0 failures\n",
      "DEBUG flwr 2023-08-31 02:41:41,405 | server.py:222 | fit_round 36: strategy sampled 2 clients (out of 3)\n"
     ]
    },
    {
     "name": "stdout",
     "output_type": "stream",
     "text": [
      "agrregate_fit results list length is  2\n",
      "Saving round 35 aggregated_parameters...\n",
      "agrregate_evaluate results list length is  2\n",
      "server round is  35\n",
      "loss is  1.866913123844732\n"
     ]
    },
    {
     "name": "stderr",
     "output_type": "stream",
     "text": [
      "DEBUG flwr 2023-08-31 02:41:51,438 | server.py:236 | fit_round 36 received 2 results and 0 failures\n",
      "DEBUG flwr 2023-08-31 02:41:51,456 | server.py:173 | evaluate_round 36: strategy sampled 2 clients (out of 3)\n",
      "DEBUG flwr 2023-08-31 02:41:51,500 | server.py:187 | evaluate_round 36 received 2 results and 0 failures\n",
      "DEBUG flwr 2023-08-31 02:41:51,502 | server.py:222 | fit_round 37: strategy sampled 2 clients (out of 3)\n"
     ]
    },
    {
     "name": "stdout",
     "output_type": "stream",
     "text": [
      "agrregate_fit results list length is  2\n",
      "Saving round 36 aggregated_parameters...\n",
      "agrregate_evaluate results list length is  2\n",
      "server round is  36\n",
      "loss is  1.9741219963031422\n"
     ]
    },
    {
     "name": "stderr",
     "output_type": "stream",
     "text": [
      "DEBUG flwr 2023-08-31 02:41:52,824 | server.py:236 | fit_round 37 received 2 results and 0 failures\n",
      "DEBUG flwr 2023-08-31 02:41:52,846 | server.py:173 | evaluate_round 37: strategy sampled 2 clients (out of 3)\n",
      "DEBUG flwr 2023-08-31 02:41:52,891 | server.py:187 | evaluate_round 37 received 2 results and 0 failures\n",
      "DEBUG flwr 2023-08-31 02:41:52,893 | server.py:222 | fit_round 38: strategy sampled 2 clients (out of 3)\n"
     ]
    },
    {
     "name": "stdout",
     "output_type": "stream",
     "text": [
      "agrregate_fit results list length is  2\n",
      "Saving round 37 aggregated_parameters...\n",
      "agrregate_evaluate results list length is  2\n",
      "server round is  37\n",
      "loss is  1.9519408502772644\n"
     ]
    },
    {
     "name": "stderr",
     "output_type": "stream",
     "text": [
      "DEBUG flwr 2023-08-31 02:42:02,813 | server.py:236 | fit_round 38 received 2 results and 0 failures\n",
      "DEBUG flwr 2023-08-31 02:42:02,831 | server.py:173 | evaluate_round 38: strategy sampled 2 clients (out of 3)\n",
      "DEBUG flwr 2023-08-31 02:42:02,871 | server.py:187 | evaluate_round 38 received 2 results and 0 failures\n",
      "DEBUG flwr 2023-08-31 02:42:02,872 | server.py:222 | fit_round 39: strategy sampled 2 clients (out of 3)\n"
     ]
    },
    {
     "name": "stdout",
     "output_type": "stream",
     "text": [
      "agrregate_fit results list length is  2\n",
      "Saving round 38 aggregated_parameters...\n",
      "agrregate_evaluate results list length is  2\n",
      "server round is  38\n",
      "loss is  1.9796672828096118\n"
     ]
    },
    {
     "name": "stderr",
     "output_type": "stream",
     "text": [
      "DEBUG flwr 2023-08-31 02:42:12,987 | server.py:236 | fit_round 39 received 2 results and 0 failures\n",
      "DEBUG flwr 2023-08-31 02:42:13,008 | server.py:173 | evaluate_round 39: strategy sampled 2 clients (out of 3)\n",
      "DEBUG flwr 2023-08-31 02:42:13,044 | server.py:187 | evaluate_round 39 received 2 results and 0 failures\n",
      "DEBUG flwr 2023-08-31 02:42:13,046 | server.py:222 | fit_round 40: strategy sampled 2 clients (out of 3)\n"
     ]
    },
    {
     "name": "stdout",
     "output_type": "stream",
     "text": [
      "agrregate_fit results list length is  2\n",
      "Saving round 39 aggregated_parameters...\n",
      "agrregate_evaluate results list length is  2\n",
      "server round is  39\n",
      "loss is  2.2846580406654344\n"
     ]
    },
    {
     "name": "stderr",
     "output_type": "stream",
     "text": [
      "DEBUG flwr 2023-08-31 02:42:23,994 | server.py:236 | fit_round 40 received 2 results and 0 failures\n",
      "DEBUG flwr 2023-08-31 02:42:24,013 | server.py:173 | evaluate_round 40: strategy sampled 2 clients (out of 3)\n",
      "DEBUG flwr 2023-08-31 02:42:24,052 | server.py:187 | evaluate_round 40 received 2 results and 0 failures\n",
      "DEBUG flwr 2023-08-31 02:42:24,053 | server.py:222 | fit_round 41: strategy sampled 2 clients (out of 3)\n"
     ]
    },
    {
     "name": "stdout",
     "output_type": "stream",
     "text": [
      "agrregate_fit results list length is  2\n",
      "Saving round 40 aggregated_parameters...\n",
      "agrregate_evaluate results list length is  2\n",
      "server round is  40\n",
      "loss is  1.9057301293900184\n"
     ]
    },
    {
     "name": "stderr",
     "output_type": "stream",
     "text": [
      "DEBUG flwr 2023-08-31 02:42:25,170 | server.py:236 | fit_round 41 received 2 results and 0 failures\n",
      "DEBUG flwr 2023-08-31 02:42:25,191 | server.py:173 | evaluate_round 41: strategy sampled 2 clients (out of 3)\n",
      "DEBUG flwr 2023-08-31 02:42:25,229 | server.py:187 | evaluate_round 41 received 2 results and 0 failures\n",
      "DEBUG flwr 2023-08-31 02:42:25,232 | server.py:222 | fit_round 42: strategy sampled 2 clients (out of 3)\n"
     ]
    },
    {
     "name": "stdout",
     "output_type": "stream",
     "text": [
      "agrregate_fit results list length is  2\n",
      "Saving round 41 aggregated_parameters...\n",
      "agrregate_evaluate results list length is  2\n",
      "server round is  41\n",
      "loss is  1.9205175600739373\n"
     ]
    },
    {
     "name": "stderr",
     "output_type": "stream",
     "text": [
      "DEBUG flwr 2023-08-31 02:42:26,652 | server.py:236 | fit_round 42 received 2 results and 0 failures\n",
      "DEBUG flwr 2023-08-31 02:42:26,675 | server.py:173 | evaluate_round 42: strategy sampled 2 clients (out of 3)\n",
      "DEBUG flwr 2023-08-31 02:42:26,722 | server.py:187 | evaluate_round 42 received 2 results and 0 failures\n",
      "DEBUG flwr 2023-08-31 02:42:26,724 | server.py:222 | fit_round 43: strategy sampled 2 clients (out of 3)\n"
     ]
    },
    {
     "name": "stdout",
     "output_type": "stream",
     "text": [
      "agrregate_fit results list length is  2\n",
      "Saving round 42 aggregated_parameters...\n",
      "agrregate_evaluate results list length is  2\n",
      "server round is  42\n",
      "loss is  2.018484288354898\n"
     ]
    },
    {
     "name": "stderr",
     "output_type": "stream",
     "text": [
      "DEBUG flwr 2023-08-31 02:42:36,472 | server.py:236 | fit_round 43 received 2 results and 0 failures\n",
      "DEBUG flwr 2023-08-31 02:42:36,490 | server.py:173 | evaluate_round 43: strategy sampled 2 clients (out of 3)\n",
      "DEBUG flwr 2023-08-31 02:42:36,524 | server.py:187 | evaluate_round 43 received 2 results and 0 failures\n",
      "DEBUG flwr 2023-08-31 02:42:36,525 | server.py:222 | fit_round 44: strategy sampled 2 clients (out of 3)\n"
     ]
    },
    {
     "name": "stdout",
     "output_type": "stream",
     "text": [
      "agrregate_fit results list length is  2\n",
      "Saving round 43 aggregated_parameters...\n",
      "agrregate_evaluate results list length is  2\n",
      "server round is  43\n",
      "loss is  1.9242144177449167\n"
     ]
    },
    {
     "name": "stderr",
     "output_type": "stream",
     "text": [
      "DEBUG flwr 2023-08-31 02:42:46,612 | server.py:236 | fit_round 44 received 2 results and 0 failures\n",
      "DEBUG flwr 2023-08-31 02:42:46,631 | server.py:173 | evaluate_round 44: strategy sampled 2 clients (out of 3)\n",
      "DEBUG flwr 2023-08-31 02:42:46,668 | server.py:187 | evaluate_round 44 received 2 results and 0 failures\n",
      "DEBUG flwr 2023-08-31 02:42:46,669 | server.py:222 | fit_round 45: strategy sampled 2 clients (out of 3)\n"
     ]
    },
    {
     "name": "stdout",
     "output_type": "stream",
     "text": [
      "agrregate_fit results list length is  2\n",
      "Saving round 44 aggregated_parameters...\n",
      "agrregate_evaluate results list length is  2\n",
      "server round is  44\n",
      "loss is  1.7245841035120149\n"
     ]
    },
    {
     "name": "stderr",
     "output_type": "stream",
     "text": [
      "DEBUG flwr 2023-08-31 02:42:56,425 | server.py:236 | fit_round 45 received 2 results and 0 failures\n",
      "DEBUG flwr 2023-08-31 02:42:56,443 | server.py:173 | evaluate_round 45: strategy sampled 2 clients (out of 3)\n",
      "DEBUG flwr 2023-08-31 02:42:56,476 | server.py:187 | evaluate_round 45 received 2 results and 0 failures\n",
      "DEBUG flwr 2023-08-31 02:42:56,477 | server.py:222 | fit_round 46: strategy sampled 2 clients (out of 3)\n"
     ]
    },
    {
     "name": "stdout",
     "output_type": "stream",
     "text": [
      "agrregate_fit results list length is  2\n",
      "Saving round 45 aggregated_parameters...\n",
      "agrregate_evaluate results list length is  2\n",
      "server round is  45\n",
      "loss is  1.756007393715342\n"
     ]
    },
    {
     "name": "stderr",
     "output_type": "stream",
     "text": [
      "DEBUG flwr 2023-08-31 02:42:57,638 | server.py:236 | fit_round 46 received 2 results and 0 failures\n",
      "DEBUG flwr 2023-08-31 02:42:57,659 | server.py:173 | evaluate_round 46: strategy sampled 2 clients (out of 3)\n",
      "DEBUG flwr 2023-08-31 02:42:57,701 | server.py:187 | evaluate_round 46 received 2 results and 0 failures\n",
      "DEBUG flwr 2023-08-31 02:42:57,702 | server.py:222 | fit_round 47: strategy sampled 2 clients (out of 3)\n"
     ]
    },
    {
     "name": "stdout",
     "output_type": "stream",
     "text": [
      "agrregate_fit results list length is  2\n",
      "Saving round 46 aggregated_parameters...\n",
      "agrregate_evaluate results list length is  2\n",
      "server round is  46\n",
      "loss is  1.9815157116451017\n"
     ]
    },
    {
     "name": "stderr",
     "output_type": "stream",
     "text": [
      "DEBUG flwr 2023-08-31 02:42:59,242 | server.py:236 | fit_round 47 received 2 results and 0 failures\n",
      "DEBUG flwr 2023-08-31 02:42:59,263 | server.py:173 | evaluate_round 47: strategy sampled 2 clients (out of 3)\n",
      "DEBUG flwr 2023-08-31 02:42:59,303 | server.py:187 | evaluate_round 47 received 2 results and 0 failures\n",
      "DEBUG flwr 2023-08-31 02:42:59,305 | server.py:222 | fit_round 48: strategy sampled 2 clients (out of 3)\n"
     ]
    },
    {
     "name": "stdout",
     "output_type": "stream",
     "text": [
      "agrregate_fit results list length is  2\n",
      "Saving round 47 aggregated_parameters...\n",
      "agrregate_evaluate results list length is  2\n",
      "server round is  47\n",
      "loss is  1.9981515711645101\n"
     ]
    },
    {
     "name": "stderr",
     "output_type": "stream",
     "text": [
      "DEBUG flwr 2023-08-31 02:43:09,484 | server.py:236 | fit_round 48 received 2 results and 0 failures\n",
      "DEBUG flwr 2023-08-31 02:43:09,513 | server.py:173 | evaluate_round 48: strategy sampled 2 clients (out of 3)\n",
      "DEBUG flwr 2023-08-31 02:43:09,565 | server.py:187 | evaluate_round 48 received 2 results and 0 failures\n",
      "DEBUG flwr 2023-08-31 02:43:09,567 | server.py:222 | fit_round 49: strategy sampled 2 clients (out of 3)\n"
     ]
    },
    {
     "name": "stdout",
     "output_type": "stream",
     "text": [
      "agrregate_fit results list length is  2\n",
      "Saving round 48 aggregated_parameters...\n",
      "agrregate_evaluate results list length is  2\n",
      "server round is  48\n",
      "loss is  1.8706099815157116\n"
     ]
    },
    {
     "name": "stderr",
     "output_type": "stream",
     "text": [
      "DEBUG flwr 2023-08-31 02:43:11,083 | server.py:236 | fit_round 49 received 2 results and 0 failures\n",
      "DEBUG flwr 2023-08-31 02:43:11,107 | server.py:173 | evaluate_round 49: strategy sampled 2 clients (out of 3)\n",
      "DEBUG flwr 2023-08-31 02:43:11,160 | server.py:187 | evaluate_round 49 received 2 results and 0 failures\n",
      "DEBUG flwr 2023-08-31 02:43:11,162 | server.py:222 | fit_round 50: strategy sampled 2 clients (out of 3)\n"
     ]
    },
    {
     "name": "stdout",
     "output_type": "stream",
     "text": [
      "agrregate_fit results list length is  2\n",
      "Saving round 49 aggregated_parameters...\n",
      "agrregate_evaluate results list length is  2\n",
      "server round is  49\n",
      "loss is  1.9519408502772644\n"
     ]
    },
    {
     "name": "stderr",
     "output_type": "stream",
     "text": [
      "DEBUG flwr 2023-08-31 02:43:21,038 | server.py:236 | fit_round 50 received 2 results and 0 failures\n",
      "DEBUG flwr 2023-08-31 02:43:21,055 | server.py:173 | evaluate_round 50: strategy sampled 2 clients (out of 3)\n",
      "DEBUG flwr 2023-08-31 02:43:21,092 | server.py:187 | evaluate_round 50 received 2 results and 0 failures\n",
      "DEBUG flwr 2023-08-31 02:43:21,094 | server.py:222 | fit_round 51: strategy sampled 2 clients (out of 3)\n"
     ]
    },
    {
     "name": "stdout",
     "output_type": "stream",
     "text": [
      "agrregate_fit results list length is  2\n",
      "Saving round 50 aggregated_parameters...\n",
      "agrregate_evaluate results list length is  2\n",
      "server round is  50\n",
      "loss is  2.2033271719038816\n"
     ]
    },
    {
     "name": "stderr",
     "output_type": "stream",
     "text": [
      "DEBUG flwr 2023-08-31 02:43:22,399 | server.py:236 | fit_round 51 received 2 results and 0 failures\n",
      "DEBUG flwr 2023-08-31 02:43:22,427 | server.py:173 | evaluate_round 51: strategy sampled 2 clients (out of 3)\n",
      "DEBUG flwr 2023-08-31 02:43:22,477 | server.py:187 | evaluate_round 51 received 2 results and 0 failures\n",
      "DEBUG flwr 2023-08-31 02:43:22,478 | server.py:222 | fit_round 52: strategy sampled 2 clients (out of 3)\n"
     ]
    },
    {
     "name": "stdout",
     "output_type": "stream",
     "text": [
      "agrregate_fit results list length is  2\n",
      "Saving round 51 aggregated_parameters...\n",
      "agrregate_evaluate results list length is  2\n",
      "server round is  51\n",
      "loss is  1.88724584103512\n"
     ]
    },
    {
     "name": "stderr",
     "output_type": "stream",
     "text": [
      "DEBUG flwr 2023-08-31 02:43:33,258 | server.py:236 | fit_round 52 received 2 results and 0 failures\n",
      "DEBUG flwr 2023-08-31 02:43:33,289 | server.py:173 | evaluate_round 52: strategy sampled 2 clients (out of 3)\n",
      "DEBUG flwr 2023-08-31 02:43:33,366 | server.py:187 | evaluate_round 52 received 2 results and 0 failures\n",
      "DEBUG flwr 2023-08-31 02:43:33,367 | server.py:222 | fit_round 53: strategy sampled 2 clients (out of 3)\n"
     ]
    },
    {
     "name": "stdout",
     "output_type": "stream",
     "text": [
      "agrregate_fit results list length is  2\n",
      "Saving round 52 aggregated_parameters...\n",
      "agrregate_evaluate results list length is  2\n",
      "server round is  52\n",
      "loss is  1.8632162661737524\n"
     ]
    },
    {
     "name": "stderr",
     "output_type": "stream",
     "text": [
      "DEBUG flwr 2023-08-31 02:43:43,776 | server.py:236 | fit_round 53 received 2 results and 0 failures\n",
      "DEBUG flwr 2023-08-31 02:43:43,793 | server.py:173 | evaluate_round 53: strategy sampled 2 clients (out of 3)\n",
      "DEBUG flwr 2023-08-31 02:43:43,833 | server.py:187 | evaluate_round 53 received 2 results and 0 failures\n",
      "DEBUG flwr 2023-08-31 02:43:43,835 | server.py:222 | fit_round 54: strategy sampled 2 clients (out of 3)\n"
     ]
    },
    {
     "name": "stdout",
     "output_type": "stream",
     "text": [
      "agrregate_fit results list length is  2\n",
      "Saving round 53 aggregated_parameters...\n",
      "agrregate_evaluate results list length is  2\n",
      "server round is  53\n",
      "loss is  2.1940850277264325\n"
     ]
    },
    {
     "name": "stderr",
     "output_type": "stream",
     "text": [
      "DEBUG flwr 2023-08-31 02:43:44,926 | server.py:236 | fit_round 54 received 2 results and 0 failures\n",
      "DEBUG flwr 2023-08-31 02:43:44,949 | server.py:173 | evaluate_round 54: strategy sampled 2 clients (out of 3)\n",
      "DEBUG flwr 2023-08-31 02:43:45,011 | server.py:187 | evaluate_round 54 received 2 results and 0 failures\n",
      "DEBUG flwr 2023-08-31 02:43:45,013 | server.py:222 | fit_round 55: strategy sampled 2 clients (out of 3)\n"
     ]
    },
    {
     "name": "stdout",
     "output_type": "stream",
     "text": [
      "agrregate_fit results list length is  2\n",
      "Saving round 54 aggregated_parameters...\n",
      "agrregate_evaluate results list length is  2\n",
      "server round is  54\n",
      "loss is  1.853974121996303\n"
     ]
    },
    {
     "name": "stderr",
     "output_type": "stream",
     "text": [
      "DEBUG flwr 2023-08-31 02:43:55,094 | server.py:236 | fit_round 55 received 2 results and 0 failures\n",
      "DEBUG flwr 2023-08-31 02:43:55,112 | server.py:173 | evaluate_round 55: strategy sampled 2 clients (out of 3)\n",
      "DEBUG flwr 2023-08-31 02:43:55,150 | server.py:187 | evaluate_round 55 received 2 results and 0 failures\n",
      "DEBUG flwr 2023-08-31 02:43:55,151 | server.py:222 | fit_round 56: strategy sampled 2 clients (out of 3)\n"
     ]
    },
    {
     "name": "stdout",
     "output_type": "stream",
     "text": [
      "agrregate_fit results list length is  2\n",
      "Saving round 55 aggregated_parameters...\n",
      "agrregate_evaluate results list length is  2\n",
      "server round is  55\n",
      "loss is  1.88724584103512\n"
     ]
    },
    {
     "name": "stderr",
     "output_type": "stream",
     "text": [
      "DEBUG flwr 2023-08-31 02:44:05,150 | server.py:236 | fit_round 56 received 2 results and 0 failures\n",
      "DEBUG flwr 2023-08-31 02:44:05,170 | server.py:173 | evaluate_round 56: strategy sampled 2 clients (out of 3)\n",
      "DEBUG flwr 2023-08-31 02:44:05,209 | server.py:187 | evaluate_round 56 received 2 results and 0 failures\n",
      "DEBUG flwr 2023-08-31 02:44:05,210 | server.py:222 | fit_round 57: strategy sampled 2 clients (out of 3)\n"
     ]
    },
    {
     "name": "stdout",
     "output_type": "stream",
     "text": [
      "agrregate_fit results list length is  2\n",
      "Saving round 56 aggregated_parameters...\n",
      "agrregate_evaluate results list length is  2\n",
      "server round is  56\n",
      "loss is  1.6857670979667283\n"
     ]
    },
    {
     "name": "stderr",
     "output_type": "stream",
     "text": [
      "DEBUG flwr 2023-08-31 02:44:06,492 | server.py:236 | fit_round 57 received 2 results and 0 failures\n",
      "DEBUG flwr 2023-08-31 02:44:06,512 | server.py:173 | evaluate_round 57: strategy sampled 2 clients (out of 3)\n",
      "DEBUG flwr 2023-08-31 02:44:06,553 | server.py:187 | evaluate_round 57 received 2 results and 0 failures\n",
      "DEBUG flwr 2023-08-31 02:44:06,555 | server.py:222 | fit_round 58: strategy sampled 2 clients (out of 3)\n"
     ]
    },
    {
     "name": "stdout",
     "output_type": "stream",
     "text": [
      "agrregate_fit results list length is  2\n",
      "Saving round 57 aggregated_parameters...\n",
      "agrregate_evaluate results list length is  2\n",
      "server round is  57\n",
      "loss is  2.066543438077634\n"
     ]
    },
    {
     "name": "stderr",
     "output_type": "stream",
     "text": [
      "DEBUG flwr 2023-08-31 02:44:16,400 | server.py:236 | fit_round 58 received 2 results and 0 failures\n",
      "DEBUG flwr 2023-08-31 02:44:16,416 | server.py:173 | evaluate_round 58: strategy sampled 2 clients (out of 3)\n",
      "DEBUG flwr 2023-08-31 02:44:16,449 | server.py:187 | evaluate_round 58 received 2 results and 0 failures\n",
      "DEBUG flwr 2023-08-31 02:44:16,450 | server.py:222 | fit_round 59: strategy sampled 2 clients (out of 3)\n"
     ]
    },
    {
     "name": "stdout",
     "output_type": "stream",
     "text": [
      "agrregate_fit results list length is  2\n",
      "Saving round 58 aggregated_parameters...\n",
      "agrregate_evaluate results list length is  2\n",
      "server round is  58\n",
      "loss is  2.255083179297597\n"
     ]
    },
    {
     "name": "stderr",
     "output_type": "stream",
     "text": [
      "DEBUG flwr 2023-08-31 02:44:17,703 | server.py:236 | fit_round 59 received 2 results and 0 failures\n",
      "DEBUG flwr 2023-08-31 02:44:17,725 | server.py:173 | evaluate_round 59: strategy sampled 2 clients (out of 3)\n",
      "DEBUG flwr 2023-08-31 02:44:17,769 | server.py:187 | evaluate_round 59 received 2 results and 0 failures\n",
      "DEBUG flwr 2023-08-31 02:44:17,771 | server.py:222 | fit_round 60: strategy sampled 2 clients (out of 3)\n"
     ]
    },
    {
     "name": "stdout",
     "output_type": "stream",
     "text": [
      "agrregate_fit results list length is  2\n",
      "Saving round 59 aggregated_parameters...\n",
      "agrregate_evaluate results list length is  2\n",
      "server round is  59\n",
      "loss is  2.048059149722736\n"
     ]
    },
    {
     "name": "stderr",
     "output_type": "stream",
     "text": [
      "DEBUG flwr 2023-08-31 02:44:19,009 | server.py:236 | fit_round 60 received 2 results and 0 failures\n",
      "DEBUG flwr 2023-08-31 02:44:19,034 | server.py:173 | evaluate_round 60: strategy sampled 2 clients (out of 3)\n",
      "DEBUG flwr 2023-08-31 02:44:19,081 | server.py:187 | evaluate_round 60 received 2 results and 0 failures\n",
      "INFO flwr 2023-08-31 02:44:19,082 | server.py:153 | FL finished in 404.65107530000387\n",
      "INFO flwr 2023-08-31 02:44:19,083 | app.py:225 | app_fit: losses_distributed [(1, 2.866913123844732), (2, 2.9630314232902033), (3, 2.6340110905730127), (4, 2.6857670979667283), (5, 2.66543438077634), (6, 2.900184842883549), (7, 2.6580406654343807), (8, 2.8743068391866915), (9, 2.7634011090573014), (10, 2.312384473197782), (11, 2.243992606284658), (12, 2.011090573012939), (13, 2.500924214417745), (14, 2.3419593345656193), (15, 2.5083179297597042), (16, 2.1035120147874307), (17, 2.0129390018484288), (18, 2.277264325323475), (19, 2.0462107208872458), (20, 2.7948243992606283), (21, 2.345656192236599), (22, 2.1589648798521255), (23, 2.3512014787430684), (24, 2.11460258780037), (25, 2.1367837338262476), (26, 2.3900184842883547), (27, 1.9815157116451017), (28, 1.78003696857671), (29, 2.846580406654344), (30, 2.024029574861368), (31, 2.2181146025878005), (32, 2.268022181146026), (33, 2.410351201478743), (34, 2.2513863216266174), (35, 1.866913123844732), (36, 1.9741219963031422), (37, 1.9519408502772644), (38, 1.9796672828096118), (39, 2.2846580406654344), (40, 1.9057301293900184), (41, 1.9205175600739373), (42, 2.018484288354898), (43, 1.9242144177449167), (44, 1.7245841035120149), (45, 1.756007393715342), (46, 1.9815157116451017), (47, 1.9981515711645101), (48, 1.8706099815157116), (49, 1.9519408502772644), (50, 2.2033271719038816), (51, 1.88724584103512), (52, 1.8632162661737524), (53, 2.1940850277264325), (54, 1.853974121996303), (55, 1.88724584103512), (56, 1.6857670979667283), (57, 2.066543438077634), (58, 2.255083179297597), (59, 2.048059149722736), (60, 2.0609981515711646)]\n",
      "INFO flwr 2023-08-31 02:44:19,084 | app.py:226 | app_fit: metrics_distributed_fit {}\n",
      "INFO flwr 2023-08-31 02:44:19,085 | app.py:227 | app_fit: metrics_distributed {'mse': [(1, 5.733826247689464), (2, 5.926062846580407), (3, 5.2680221811460255), (4, 5.371534195933457), (5, 5.33086876155268), (6, 5.800369685767098), (7, 5.316081330868761), (8, 5.748613678373383), (9, 5.526802218114603), (10, 4.624768946395564), (11, 4.487985212569316), (12, 4.022181146025878), (13, 5.00184842883549), (14, 4.683918669131239), (15, 5.0166358595194085), (16, 4.207024029574861), (17, 4.0258780036968576), (18, 4.55452865064695), (19, 4.0924214417744915), (20, 5.589648798521257), (21, 4.691312384473198), (22, 4.317929759704251), (23, 4.702402957486137), (24, 4.22920517560074), (25, 4.273567467652495), (26, 4.7800369685767095), (27, 3.9630314232902033), (28, 3.56007393715342), (29, 5.693160813308688), (30, 4.048059149722736), (31, 4.436229205175601), (32, 4.536044362292052), (33, 4.820702402957486), (34, 4.502772643253235), (35, 3.733826247689464), (36, 3.9482439926062844), (37, 3.9038817005545288), (38, 3.9593345656192236), (39, 4.569316081330869), (40, 3.811460258780037), (41, 3.8410351201478745), (42, 4.036968576709796), (43, 3.8484288354898335), (44, 3.4491682070240297), (45, 3.512014787430684), (46, 3.9630314232902033), (47, 3.9963031423290203), (48, 3.741219963031423), (49, 3.9038817005545288), (50, 4.406654343807763), (51, 3.77449168207024), (52, 3.7264325323475047), (53, 4.388170055452865), (54, 3.707948243992606), (55, 3.77449168207024), (56, 3.3715341959334566), (57, 4.133086876155268), (58, 4.510166358595194), (59, 4.096118299445472), (60, 4.121996303142329)]}\n",
      "INFO flwr 2023-08-31 02:44:19,086 | app.py:228 | app_fit: losses_centralized []\n",
      "INFO flwr 2023-08-31 02:44:19,087 | app.py:229 | app_fit: metrics_centralized {}\n"
     ]
    },
    {
     "name": "stdout",
     "output_type": "stream",
     "text": [
      "agrregate_fit results list length is  2\n",
      "Saving round 60 aggregated_parameters...\n",
      "agrregate_evaluate results list length is  2\n",
      "server round is  60\n",
      "loss is  2.0609981515711646\n",
      "History (loss, distributed):\n",
      "\tround 1: 2.866913123844732\n",
      "\tround 2: 2.9630314232902033\n",
      "\tround 3: 2.6340110905730127\n",
      "\tround 4: 2.6857670979667283\n",
      "\tround 5: 2.66543438077634\n",
      "\tround 6: 2.900184842883549\n",
      "\tround 7: 2.6580406654343807\n",
      "\tround 8: 2.8743068391866915\n",
      "\tround 9: 2.7634011090573014\n",
      "\tround 10: 2.312384473197782\n",
      "\tround 11: 2.243992606284658\n",
      "\tround 12: 2.011090573012939\n",
      "\tround 13: 2.500924214417745\n",
      "\tround 14: 2.3419593345656193\n",
      "\tround 15: 2.5083179297597042\n",
      "\tround 16: 2.1035120147874307\n",
      "\tround 17: 2.0129390018484288\n",
      "\tround 18: 2.277264325323475\n",
      "\tround 19: 2.0462107208872458\n",
      "\tround 20: 2.7948243992606283\n",
      "\tround 21: 2.345656192236599\n",
      "\tround 22: 2.1589648798521255\n",
      "\tround 23: 2.3512014787430684\n",
      "\tround 24: 2.11460258780037\n",
      "\tround 25: 2.1367837338262476\n",
      "\tround 26: 2.3900184842883547\n",
      "\tround 27: 1.9815157116451017\n",
      "\tround 28: 1.78003696857671\n",
      "\tround 29: 2.846580406654344\n",
      "\tround 30: 2.024029574861368\n",
      "\tround 31: 2.2181146025878005\n",
      "\tround 32: 2.268022181146026\n",
      "\tround 33: 2.410351201478743\n",
      "\tround 34: 2.2513863216266174\n",
      "\tround 35: 1.866913123844732\n",
      "\tround 36: 1.9741219963031422\n",
      "\tround 37: 1.9519408502772644\n",
      "\tround 38: 1.9796672828096118\n",
      "\tround 39: 2.2846580406654344\n",
      "\tround 40: 1.9057301293900184\n",
      "\tround 41: 1.9205175600739373\n",
      "\tround 42: 2.018484288354898\n",
      "\tround 43: 1.9242144177449167\n",
      "\tround 44: 1.7245841035120149\n",
      "\tround 45: 1.756007393715342\n",
      "\tround 46: 1.9815157116451017\n",
      "\tround 47: 1.9981515711645101\n",
      "\tround 48: 1.8706099815157116\n",
      "\tround 49: 1.9519408502772644\n",
      "\tround 50: 2.2033271719038816\n",
      "\tround 51: 1.88724584103512\n",
      "\tround 52: 1.8632162661737524\n",
      "\tround 53: 2.1940850277264325\n",
      "\tround 54: 1.853974121996303\n",
      "\tround 55: 1.88724584103512\n",
      "\tround 56: 1.6857670979667283\n",
      "\tround 57: 2.066543438077634\n",
      "\tround 58: 2.255083179297597\n",
      "\tround 59: 2.048059149722736\n",
      "\tround 60: 2.0609981515711646\n",
      "History (metrics, distributed, evaluate):\n",
      "{'mse': [(1, 5.733826247689464), (2, 5.926062846580407), (3, 5.2680221811460255), (4, 5.371534195933457), (5, 5.33086876155268), (6, 5.800369685767098), (7, 5.316081330868761), (8, 5.748613678373383), (9, 5.526802218114603), (10, 4.624768946395564), (11, 4.487985212569316), (12, 4.022181146025878), (13, 5.00184842883549), (14, 4.683918669131239), (15, 5.0166358595194085), (16, 4.207024029574861), (17, 4.0258780036968576), (18, 4.55452865064695), (19, 4.0924214417744915), (20, 5.589648798521257), (21, 4.691312384473198), (22, 4.317929759704251), (23, 4.702402957486137), (24, 4.22920517560074), (25, 4.273567467652495), (26, 4.7800369685767095), (27, 3.9630314232902033), (28, 3.56007393715342), (29, 5.693160813308688), (30, 4.048059149722736), (31, 4.436229205175601), (32, 4.536044362292052), (33, 4.820702402957486), (34, 4.502772643253235), (35, 3.733826247689464), (36, 3.9482439926062844), (37, 3.9038817005545288), (38, 3.9593345656192236), (39, 4.569316081330869), (40, 3.811460258780037), (41, 3.8410351201478745), (42, 4.036968576709796), (43, 3.8484288354898335), (44, 3.4491682070240297), (45, 3.512014787430684), (46, 3.9630314232902033), (47, 3.9963031423290203), (48, 3.741219963031423), (49, 3.9038817005545288), (50, 4.406654343807763), (51, 3.77449168207024), (52, 3.7264325323475047), (53, 4.388170055452865), (54, 3.707948243992606), (55, 3.77449168207024), (56, 3.3715341959334566), (57, 4.133086876155268), (58, 4.510166358595194), (59, 4.096118299445472), (60, 4.121996303142329)]}\n",
      "[(1, 2.866913123844732), (2, 2.9630314232902033), (3, 2.6340110905730127), (4, 2.6857670979667283), (5, 2.66543438077634), (6, 2.900184842883549), (7, 2.6580406654343807), (8, 2.8743068391866915), (9, 2.7634011090573014), (10, 2.312384473197782), (11, 2.243992606284658), (12, 2.011090573012939), (13, 2.500924214417745), (14, 2.3419593345656193), (15, 2.5083179297597042), (16, 2.1035120147874307), (17, 2.0129390018484288), (18, 2.277264325323475), (19, 2.0462107208872458), (20, 2.7948243992606283), (21, 2.345656192236599), (22, 2.1589648798521255), (23, 2.3512014787430684), (24, 2.11460258780037), (25, 2.1367837338262476), (26, 2.3900184842883547), (27, 1.9815157116451017), (28, 1.78003696857671), (29, 2.846580406654344), (30, 2.024029574861368), (31, 2.2181146025878005), (32, 2.268022181146026), (33, 2.410351201478743), (34, 2.2513863216266174), (35, 1.866913123844732), (36, 1.9741219963031422), (37, 1.9519408502772644), (38, 1.9796672828096118), (39, 2.2846580406654344), (40, 1.9057301293900184), (41, 1.9205175600739373), (42, 2.018484288354898), (43, 1.9242144177449167), (44, 1.7245841035120149), (45, 1.756007393715342), (46, 1.9815157116451017), (47, 1.9981515711645101), (48, 1.8706099815157116), (49, 1.9519408502772644), (50, 2.2033271719038816), (51, 1.88724584103512), (52, 1.8632162661737524), (53, 2.1940850277264325), (54, 1.853974121996303), (55, 1.88724584103512), (56, 1.6857670979667283), (57, 2.066543438077634), (58, 2.255083179297597), (59, 2.048059149722736), (60, 2.0609981515711646)]\n",
      "Fold 2:\n",
      "split [0.8, 0.1, 0.1]\n",
      "time 0:07:06.174571\n",
      "mse [2.0609981515711646]\n",
      "auc [0.8998496240601503]\n"
     ]
    }
   ],
   "source": [
    "split = [0.8, 0.1, 0.1]\n",
    "do_fl(split)"
   ],
   "metadata": {
    "collapsed": false,
    "ExecuteTime": {
     "end_time": "2023-08-31T01:44:19.225451400Z",
     "start_time": "2023-08-31T01:37:12.966569200Z"
    }
   }
  },
  {
   "cell_type": "code",
   "execution_count": 13,
   "outputs": [
    {
     "name": "stderr",
     "output_type": "stream",
     "text": [
      "INFO flwr 2023-08-31 02:44:19,206 | app.py:145 | Starting Flower simulation, config: ServerConfig(num_rounds=60, round_timeout=None)\n"
     ]
    },
    {
     "name": "stdout",
     "output_type": "stream",
     "text": [
      "<class 'torch.Tensor'>\n",
      "<class 'torch.Tensor'>\n",
      "Fold 1:\n",
      "Client 0 trainset shape torch.Size([1044, 22])\n",
      "Client 1 trainset shape torch.Size([884, 22])\n",
      "Client 2 trainset shape torch.Size([1080, 22])\n",
      "Client 3 trainset shape torch.Size([1062, 22])\n",
      "Client 4 trainset shape torch.Size([1140, 22])\n",
      "FL started training on cpu\n",
      "Number of available GPUs: 0\n"
     ]
    },
    {
     "name": "stderr",
     "output_type": "stream",
     "text": [
      "2023-08-31 02:44:28,078\tINFO worker.py:1627 -- Started a local Ray instance. View the dashboard at \u001B[1m\u001B[32m127.0.0.1:8267 \u001B[39m\u001B[22m\n",
      "INFO flwr 2023-08-31 02:44:36,841 | app.py:179 | Flower VCE: Ray initialized with resources: {'node:127.0.0.1': 1.0, 'object_store_memory': 749187072.0, 'memory': 1498374144.0, 'GPU': 1.0, 'CPU': 8.0}\n",
      "INFO flwr 2023-08-31 02:44:36,845 | server.py:89 | Initializing global parameters\n",
      "INFO flwr 2023-08-31 02:44:36,847 | server.py:276 | Requesting initial parameters from one random client\n",
      "INFO flwr 2023-08-31 02:44:41,455 | server.py:280 | Received initial parameters from one random client\n",
      "INFO flwr 2023-08-31 02:44:41,456 | server.py:91 | Evaluating initial parameters\n",
      "INFO flwr 2023-08-31 02:44:41,456 | server.py:104 | FL starting\n",
      "DEBUG flwr 2023-08-31 02:44:41,457 | server.py:222 | fit_round 1: strategy sampled 2 clients (out of 5)\n",
      "DEBUG flwr 2023-08-31 02:44:47,340 | server.py:236 | fit_round 1 received 2 results and 0 failures\n",
      "WARNING flwr 2023-08-31 02:44:47,348 | fedavg.py:242 | No fit_metrics_aggregation_fn provided\n",
      "DEBUG flwr 2023-08-31 02:44:47,360 | server.py:173 | evaluate_round 1: strategy sampled 2 clients (out of 5)\n",
      "DEBUG flwr 2023-08-31 02:44:47,402 | server.py:187 | evaluate_round 1 received 2 results and 0 failures\n",
      "DEBUG flwr 2023-08-31 02:44:47,404 | server.py:222 | fit_round 2: strategy sampled 2 clients (out of 5)\n"
     ]
    },
    {
     "name": "stdout",
     "output_type": "stream",
     "text": [
      "agrregate_fit results list length is  2\n",
      "Saving round 1 aggregated_parameters...\n",
      "agrregate_evaluate results list length is  2\n",
      "server round is  1\n",
      "loss is  3.5286506469500925\n"
     ]
    },
    {
     "name": "stderr",
     "output_type": "stream",
     "text": [
      "DEBUG flwr 2023-08-31 02:44:50,161 | server.py:236 | fit_round 2 received 2 results and 0 failures\n",
      "DEBUG flwr 2023-08-31 02:44:50,181 | server.py:173 | evaluate_round 2: strategy sampled 2 clients (out of 5)\n",
      "DEBUG flwr 2023-08-31 02:44:50,223 | server.py:187 | evaluate_round 2 received 2 results and 0 failures\n",
      "DEBUG flwr 2023-08-31 02:44:50,225 | server.py:222 | fit_round 3: strategy sampled 2 clients (out of 5)\n"
     ]
    },
    {
     "name": "stdout",
     "output_type": "stream",
     "text": [
      "agrregate_fit results list length is  2\n",
      "Saving round 2 aggregated_parameters...\n",
      "agrregate_evaluate results list length is  2\n",
      "server round is  2\n",
      "loss is  3.1053604436229203\n"
     ]
    },
    {
     "name": "stderr",
     "output_type": "stream",
     "text": [
      "DEBUG flwr 2023-08-31 02:44:53,005 | server.py:236 | fit_round 3 received 2 results and 0 failures\n",
      "DEBUG flwr 2023-08-31 02:44:53,035 | server.py:173 | evaluate_round 3: strategy sampled 2 clients (out of 5)\n",
      "DEBUG flwr 2023-08-31 02:44:53,076 | server.py:187 | evaluate_round 3 received 2 results and 0 failures\n",
      "DEBUG flwr 2023-08-31 02:44:53,078 | server.py:222 | fit_round 4: strategy sampled 2 clients (out of 5)\n"
     ]
    },
    {
     "name": "stdout",
     "output_type": "stream",
     "text": [
      "agrregate_fit results list length is  2\n",
      "Saving round 3 aggregated_parameters...\n",
      "agrregate_evaluate results list length is  2\n",
      "server round is  3\n",
      "loss is  2.9685767097966727\n"
     ]
    },
    {
     "name": "stderr",
     "output_type": "stream",
     "text": [
      "DEBUG flwr 2023-08-31 02:44:55,971 | server.py:236 | fit_round 4 received 2 results and 0 failures\n",
      "DEBUG flwr 2023-08-31 02:44:55,992 | server.py:173 | evaluate_round 4: strategy sampled 2 clients (out of 5)\n",
      "DEBUG flwr 2023-08-31 02:44:56,039 | server.py:187 | evaluate_round 4 received 2 results and 0 failures\n",
      "DEBUG flwr 2023-08-31 02:44:56,041 | server.py:222 | fit_round 5: strategy sampled 2 clients (out of 5)\n"
     ]
    },
    {
     "name": "stdout",
     "output_type": "stream",
     "text": [
      "agrregate_fit results list length is  2\n",
      "Saving round 4 aggregated_parameters...\n",
      "agrregate_evaluate results list length is  2\n",
      "server round is  4\n",
      "loss is  2.741219963031423\n"
     ]
    },
    {
     "name": "stderr",
     "output_type": "stream",
     "text": [
      "DEBUG flwr 2023-08-31 02:44:58,951 | server.py:236 | fit_round 5 received 2 results and 0 failures\n",
      "DEBUG flwr 2023-08-31 02:44:58,971 | server.py:173 | evaluate_round 5: strategy sampled 2 clients (out of 5)\n",
      "DEBUG flwr 2023-08-31 02:44:59,011 | server.py:187 | evaluate_round 5 received 2 results and 0 failures\n",
      "DEBUG flwr 2023-08-31 02:44:59,013 | server.py:222 | fit_round 6: strategy sampled 2 clients (out of 5)\n"
     ]
    },
    {
     "name": "stdout",
     "output_type": "stream",
     "text": [
      "agrregate_fit results list length is  2\n",
      "Saving round 5 aggregated_parameters...\n",
      "agrregate_evaluate results list length is  2\n",
      "server round is  5\n",
      "loss is  2.9537892791127542\n"
     ]
    },
    {
     "name": "stderr",
     "output_type": "stream",
     "text": [
      "DEBUG flwr 2023-08-31 02:45:02,034 | server.py:236 | fit_round 6 received 2 results and 0 failures\n",
      "DEBUG flwr 2023-08-31 02:45:02,053 | server.py:173 | evaluate_round 6: strategy sampled 2 clients (out of 5)\n",
      "DEBUG flwr 2023-08-31 02:45:02,097 | server.py:187 | evaluate_round 6 received 2 results and 0 failures\n",
      "DEBUG flwr 2023-08-31 02:45:02,098 | server.py:222 | fit_round 7: strategy sampled 2 clients (out of 5)\n"
     ]
    },
    {
     "name": "stdout",
     "output_type": "stream",
     "text": [
      "agrregate_fit results list length is  2\n",
      "Saving round 6 aggregated_parameters...\n",
      "agrregate_evaluate results list length is  2\n",
      "server round is  6\n",
      "loss is  2.646950092421442\n"
     ]
    },
    {
     "name": "stderr",
     "output_type": "stream",
     "text": [
      "DEBUG flwr 2023-08-31 02:45:05,162 | server.py:236 | fit_round 7 received 2 results and 0 failures\n",
      "DEBUG flwr 2023-08-31 02:45:05,184 | server.py:173 | evaluate_round 7: strategy sampled 2 clients (out of 5)\n",
      "DEBUG flwr 2023-08-31 02:45:05,224 | server.py:187 | evaluate_round 7 received 2 results and 0 failures\n",
      "DEBUG flwr 2023-08-31 02:45:05,227 | server.py:222 | fit_round 8: strategy sampled 2 clients (out of 5)\n"
     ]
    },
    {
     "name": "stdout",
     "output_type": "stream",
     "text": [
      "agrregate_fit results list length is  2\n",
      "Saving round 7 aggregated_parameters...\n",
      "agrregate_evaluate results list length is  2\n",
      "server round is  7\n",
      "loss is  2.656192236598891\n"
     ]
    },
    {
     "name": "stderr",
     "output_type": "stream",
     "text": [
      "DEBUG flwr 2023-08-31 02:45:08,164 | server.py:236 | fit_round 8 received 2 results and 0 failures\n",
      "DEBUG flwr 2023-08-31 02:45:08,186 | server.py:173 | evaluate_round 8: strategy sampled 2 clients (out of 5)\n",
      "DEBUG flwr 2023-08-31 02:45:08,231 | server.py:187 | evaluate_round 8 received 2 results and 0 failures\n",
      "DEBUG flwr 2023-08-31 02:45:08,233 | server.py:222 | fit_round 9: strategy sampled 2 clients (out of 5)\n"
     ]
    },
    {
     "name": "stdout",
     "output_type": "stream",
     "text": [
      "agrregate_fit results list length is  2\n",
      "Saving round 8 aggregated_parameters...\n",
      "agrregate_evaluate results list length is  2\n",
      "server round is  8\n",
      "loss is  2.487985212569316\n"
     ]
    },
    {
     "name": "stderr",
     "output_type": "stream",
     "text": [
      "DEBUG flwr 2023-08-31 02:45:11,362 | server.py:236 | fit_round 9 received 2 results and 0 failures\n",
      "DEBUG flwr 2023-08-31 02:45:11,383 | server.py:173 | evaluate_round 9: strategy sampled 2 clients (out of 5)\n",
      "DEBUG flwr 2023-08-31 02:45:11,444 | server.py:187 | evaluate_round 9 received 2 results and 0 failures\n",
      "DEBUG flwr 2023-08-31 02:45:11,446 | server.py:222 | fit_round 10: strategy sampled 2 clients (out of 5)\n"
     ]
    },
    {
     "name": "stdout",
     "output_type": "stream",
     "text": [
      "agrregate_fit results list length is  2\n",
      "Saving round 9 aggregated_parameters...\n",
      "agrregate_evaluate results list length is  2\n",
      "server round is  9\n",
      "loss is  2.5378927911275415\n"
     ]
    },
    {
     "name": "stderr",
     "output_type": "stream",
     "text": [
      "DEBUG flwr 2023-08-31 02:45:14,275 | server.py:236 | fit_round 10 received 2 results and 0 failures\n",
      "DEBUG flwr 2023-08-31 02:45:14,297 | server.py:173 | evaluate_round 10: strategy sampled 2 clients (out of 5)\n",
      "DEBUG flwr 2023-08-31 02:45:14,337 | server.py:187 | evaluate_round 10 received 2 results and 0 failures\n",
      "DEBUG flwr 2023-08-31 02:45:14,338 | server.py:222 | fit_round 11: strategy sampled 2 clients (out of 5)\n"
     ]
    },
    {
     "name": "stdout",
     "output_type": "stream",
     "text": [
      "agrregate_fit results list length is  2\n",
      "Saving round 10 aggregated_parameters...\n",
      "agrregate_evaluate results list length is  2\n",
      "server round is  10\n",
      "loss is  2.3160813308687613\n"
     ]
    },
    {
     "name": "stderr",
     "output_type": "stream",
     "text": [
      "DEBUG flwr 2023-08-31 02:45:17,375 | server.py:236 | fit_round 11 received 2 results and 0 failures\n",
      "DEBUG flwr 2023-08-31 02:45:17,407 | server.py:173 | evaluate_round 11: strategy sampled 2 clients (out of 5)\n",
      "DEBUG flwr 2023-08-31 02:45:17,450 | server.py:187 | evaluate_round 11 received 2 results and 0 failures\n",
      "DEBUG flwr 2023-08-31 02:45:17,452 | server.py:222 | fit_round 12: strategy sampled 2 clients (out of 5)\n"
     ]
    },
    {
     "name": "stdout",
     "output_type": "stream",
     "text": [
      "agrregate_fit results list length is  2\n",
      "Saving round 11 aggregated_parameters...\n",
      "agrregate_evaluate results list length is  2\n",
      "server round is  11\n",
      "loss is  2.5434380776340113\n"
     ]
    },
    {
     "name": "stderr",
     "output_type": "stream",
     "text": [
      "DEBUG flwr 2023-08-31 02:45:20,164 | server.py:236 | fit_round 12 received 2 results and 0 failures\n",
      "DEBUG flwr 2023-08-31 02:45:20,184 | server.py:173 | evaluate_round 12: strategy sampled 2 clients (out of 5)\n",
      "DEBUG flwr 2023-08-31 02:45:20,232 | server.py:187 | evaluate_round 12 received 2 results and 0 failures\n",
      "DEBUG flwr 2023-08-31 02:45:20,233 | server.py:222 | fit_round 13: strategy sampled 2 clients (out of 5)\n"
     ]
    },
    {
     "name": "stdout",
     "output_type": "stream",
     "text": [
      "agrregate_fit results list length is  2\n",
      "Saving round 12 aggregated_parameters...\n",
      "agrregate_evaluate results list length is  2\n",
      "server round is  12\n",
      "loss is  2.8391866913123844\n"
     ]
    },
    {
     "name": "stderr",
     "output_type": "stream",
     "text": [
      "DEBUG flwr 2023-08-31 02:45:23,336 | server.py:236 | fit_round 13 received 2 results and 0 failures\n",
      "DEBUG flwr 2023-08-31 02:45:23,371 | server.py:173 | evaluate_round 13: strategy sampled 2 clients (out of 5)\n",
      "DEBUG flwr 2023-08-31 02:45:23,434 | server.py:187 | evaluate_round 13 received 2 results and 0 failures\n",
      "DEBUG flwr 2023-08-31 02:45:23,436 | server.py:222 | fit_round 14: strategy sampled 2 clients (out of 5)\n"
     ]
    },
    {
     "name": "stdout",
     "output_type": "stream",
     "text": [
      "agrregate_fit results list length is  2\n",
      "Saving round 13 aggregated_parameters...\n",
      "agrregate_evaluate results list length is  2\n",
      "server round is  13\n",
      "loss is  2.6173752310536043\n"
     ]
    },
    {
     "name": "stderr",
     "output_type": "stream",
     "text": [
      "DEBUG flwr 2023-08-31 02:45:26,220 | server.py:236 | fit_round 14 received 2 results and 0 failures\n",
      "DEBUG flwr 2023-08-31 02:45:26,239 | server.py:173 | evaluate_round 14: strategy sampled 2 clients (out of 5)\n",
      "DEBUG flwr 2023-08-31 02:45:26,294 | server.py:187 | evaluate_round 14 received 2 results and 0 failures\n",
      "DEBUG flwr 2023-08-31 02:45:26,297 | server.py:222 | fit_round 15: strategy sampled 2 clients (out of 5)\n"
     ]
    },
    {
     "name": "stdout",
     "output_type": "stream",
     "text": [
      "agrregate_fit results list length is  2\n",
      "Saving round 14 aggregated_parameters...\n",
      "agrregate_evaluate results list length is  2\n",
      "server round is  14\n",
      "loss is  2.5951940850277264\n"
     ]
    },
    {
     "name": "stderr",
     "output_type": "stream",
     "text": [
      "DEBUG flwr 2023-08-31 02:45:29,334 | server.py:236 | fit_round 15 received 2 results and 0 failures\n",
      "DEBUG flwr 2023-08-31 02:45:29,361 | server.py:173 | evaluate_round 15: strategy sampled 2 clients (out of 5)\n",
      "DEBUG flwr 2023-08-31 02:45:29,410 | server.py:187 | evaluate_round 15 received 2 results and 0 failures\n",
      "DEBUG flwr 2023-08-31 02:45:29,411 | server.py:222 | fit_round 16: strategy sampled 2 clients (out of 5)\n"
     ]
    },
    {
     "name": "stdout",
     "output_type": "stream",
     "text": [
      "agrregate_fit results list length is  2\n",
      "Saving round 15 aggregated_parameters...\n",
      "agrregate_evaluate results list length is  2\n",
      "server round is  15\n",
      "loss is  2.5489833641404807\n"
     ]
    },
    {
     "name": "stderr",
     "output_type": "stream",
     "text": [
      "DEBUG flwr 2023-08-31 02:45:32,481 | server.py:236 | fit_round 16 received 2 results and 0 failures\n",
      "DEBUG flwr 2023-08-31 02:45:32,503 | server.py:173 | evaluate_round 16: strategy sampled 2 clients (out of 5)\n",
      "DEBUG flwr 2023-08-31 02:45:32,552 | server.py:187 | evaluate_round 16 received 2 results and 0 failures\n",
      "DEBUG flwr 2023-08-31 02:45:32,554 | server.py:222 | fit_round 17: strategy sampled 2 clients (out of 5)\n"
     ]
    },
    {
     "name": "stdout",
     "output_type": "stream",
     "text": [
      "agrregate_fit results list length is  2\n",
      "Saving round 16 aggregated_parameters...\n",
      "agrregate_evaluate results list length is  2\n",
      "server round is  16\n",
      "loss is  2.4565619223659887\n"
     ]
    },
    {
     "name": "stderr",
     "output_type": "stream",
     "text": [
      "DEBUG flwr 2023-08-31 02:45:35,692 | server.py:236 | fit_round 17 received 2 results and 0 failures\n",
      "DEBUG flwr 2023-08-31 02:45:35,715 | server.py:173 | evaluate_round 17: strategy sampled 2 clients (out of 5)\n",
      "DEBUG flwr 2023-08-31 02:45:35,765 | server.py:187 | evaluate_round 17 received 2 results and 0 failures\n",
      "DEBUG flwr 2023-08-31 02:45:35,767 | server.py:222 | fit_round 18: strategy sampled 2 clients (out of 5)\n"
     ]
    },
    {
     "name": "stdout",
     "output_type": "stream",
     "text": [
      "agrregate_fit results list length is  2\n",
      "Saving round 17 aggregated_parameters...\n",
      "agrregate_evaluate results list length is  2\n",
      "server round is  17\n",
      "loss is  2.7060998151571165\n"
     ]
    },
    {
     "name": "stderr",
     "output_type": "stream",
     "text": [
      "DEBUG flwr 2023-08-31 02:45:39,099 | server.py:236 | fit_round 18 received 2 results and 0 failures\n",
      "DEBUG flwr 2023-08-31 02:45:39,137 | server.py:173 | evaluate_round 18: strategy sampled 2 clients (out of 5)\n",
      "DEBUG flwr 2023-08-31 02:45:39,195 | server.py:187 | evaluate_round 18 received 2 results and 0 failures\n",
      "DEBUG flwr 2023-08-31 02:45:39,198 | server.py:222 | fit_round 19: strategy sampled 2 clients (out of 5)\n"
     ]
    },
    {
     "name": "stdout",
     "output_type": "stream",
     "text": [
      "agrregate_fit results list length is  2\n",
      "Saving round 18 aggregated_parameters...\n",
      "agrregate_evaluate results list length is  2\n",
      "server round is  18\n",
      "loss is  2.425138632162662\n"
     ]
    },
    {
     "name": "stderr",
     "output_type": "stream",
     "text": [
      "DEBUG flwr 2023-08-31 02:45:42,678 | server.py:236 | fit_round 19 received 2 results and 0 failures\n",
      "DEBUG flwr 2023-08-31 02:45:42,698 | server.py:173 | evaluate_round 19: strategy sampled 2 clients (out of 5)\n",
      "DEBUG flwr 2023-08-31 02:45:42,739 | server.py:187 | evaluate_round 19 received 2 results and 0 failures\n",
      "DEBUG flwr 2023-08-31 02:45:42,741 | server.py:222 | fit_round 20: strategy sampled 2 clients (out of 5)\n"
     ]
    },
    {
     "name": "stdout",
     "output_type": "stream",
     "text": [
      "agrregate_fit results list length is  2\n",
      "Saving round 19 aggregated_parameters...\n",
      "agrregate_evaluate results list length is  2\n",
      "server round is  19\n",
      "loss is  2.9279112754158967\n"
     ]
    },
    {
     "name": "stderr",
     "output_type": "stream",
     "text": [
      "DEBUG flwr 2023-08-31 02:45:45,658 | server.py:236 | fit_round 20 received 2 results and 0 failures\n",
      "DEBUG flwr 2023-08-31 02:45:45,686 | server.py:173 | evaluate_round 20: strategy sampled 2 clients (out of 5)\n",
      "DEBUG flwr 2023-08-31 02:45:45,736 | server.py:187 | evaluate_round 20 received 2 results and 0 failures\n",
      "DEBUG flwr 2023-08-31 02:45:45,737 | server.py:222 | fit_round 21: strategy sampled 2 clients (out of 5)\n"
     ]
    },
    {
     "name": "stdout",
     "output_type": "stream",
     "text": [
      "agrregate_fit results list length is  2\n",
      "Saving round 20 aggregated_parameters...\n",
      "agrregate_evaluate results list length is  2\n",
      "server round is  20\n",
      "loss is  2.4861367837338264\n"
     ]
    },
    {
     "name": "stderr",
     "output_type": "stream",
     "text": [
      "DEBUG flwr 2023-08-31 02:45:48,644 | server.py:236 | fit_round 21 received 2 results and 0 failures\n",
      "DEBUG flwr 2023-08-31 02:45:48,664 | server.py:173 | evaluate_round 21: strategy sampled 2 clients (out of 5)\n",
      "DEBUG flwr 2023-08-31 02:45:48,709 | server.py:187 | evaluate_round 21 received 2 results and 0 failures\n",
      "DEBUG flwr 2023-08-31 02:45:48,711 | server.py:222 | fit_round 22: strategy sampled 2 clients (out of 5)\n"
     ]
    },
    {
     "name": "stdout",
     "output_type": "stream",
     "text": [
      "agrregate_fit results list length is  2\n",
      "Saving round 21 aggregated_parameters...\n",
      "agrregate_evaluate results list length is  2\n",
      "server round is  21\n",
      "loss is  2.4510166358595193\n"
     ]
    },
    {
     "name": "stderr",
     "output_type": "stream",
     "text": [
      "DEBUG flwr 2023-08-31 02:45:51,701 | server.py:236 | fit_round 22 received 2 results and 0 failures\n",
      "DEBUG flwr 2023-08-31 02:45:51,724 | server.py:173 | evaluate_round 22: strategy sampled 2 clients (out of 5)\n",
      "DEBUG flwr 2023-08-31 02:45:51,762 | server.py:187 | evaluate_round 22 received 2 results and 0 failures\n",
      "DEBUG flwr 2023-08-31 02:45:51,763 | server.py:222 | fit_round 23: strategy sampled 2 clients (out of 5)\n"
     ]
    },
    {
     "name": "stdout",
     "output_type": "stream",
     "text": [
      "agrregate_fit results list length is  2\n",
      "Saving round 22 aggregated_parameters...\n",
      "agrregate_evaluate results list length is  2\n",
      "server round is  22\n",
      "loss is  2.4232902033271717\n"
     ]
    },
    {
     "name": "stderr",
     "output_type": "stream",
     "text": [
      "DEBUG flwr 2023-08-31 02:45:55,053 | server.py:236 | fit_round 23 received 2 results and 0 failures\n",
      "DEBUG flwr 2023-08-31 02:45:55,078 | server.py:173 | evaluate_round 23: strategy sampled 2 clients (out of 5)\n",
      "DEBUG flwr 2023-08-31 02:45:55,118 | server.py:187 | evaluate_round 23 received 2 results and 0 failures\n",
      "DEBUG flwr 2023-08-31 02:45:55,120 | server.py:222 | fit_round 24: strategy sampled 2 clients (out of 5)\n"
     ]
    },
    {
     "name": "stdout",
     "output_type": "stream",
     "text": [
      "agrregate_fit results list length is  2\n",
      "Saving round 23 aggregated_parameters...\n",
      "agrregate_evaluate results list length is  2\n",
      "server round is  23\n",
      "loss is  2.2051756007393717\n"
     ]
    },
    {
     "name": "stderr",
     "output_type": "stream",
     "text": [
      "DEBUG flwr 2023-08-31 02:45:58,230 | server.py:236 | fit_round 24 received 2 results and 0 failures\n",
      "DEBUG flwr 2023-08-31 02:45:58,255 | server.py:173 | evaluate_round 24: strategy sampled 2 clients (out of 5)\n",
      "DEBUG flwr 2023-08-31 02:45:58,298 | server.py:187 | evaluate_round 24 received 2 results and 0 failures\n",
      "DEBUG flwr 2023-08-31 02:45:58,299 | server.py:222 | fit_round 25: strategy sampled 2 clients (out of 5)\n"
     ]
    },
    {
     "name": "stdout",
     "output_type": "stream",
     "text": [
      "agrregate_fit results list length is  2\n",
      "Saving round 24 aggregated_parameters...\n",
      "agrregate_evaluate results list length is  2\n",
      "server round is  24\n",
      "loss is  2.3419593345656193\n"
     ]
    },
    {
     "name": "stderr",
     "output_type": "stream",
     "text": [
      "DEBUG flwr 2023-08-31 02:46:01,601 | server.py:236 | fit_round 25 received 2 results and 0 failures\n",
      "DEBUG flwr 2023-08-31 02:46:01,626 | server.py:173 | evaluate_round 25: strategy sampled 2 clients (out of 5)\n",
      "DEBUG flwr 2023-08-31 02:46:01,669 | server.py:187 | evaluate_round 25 received 2 results and 0 failures\n",
      "DEBUG flwr 2023-08-31 02:46:01,671 | server.py:222 | fit_round 26: strategy sampled 2 clients (out of 5)\n"
     ]
    },
    {
     "name": "stdout",
     "output_type": "stream",
     "text": [
      "agrregate_fit results list length is  2\n",
      "Saving round 25 aggregated_parameters...\n",
      "agrregate_evaluate results list length is  2\n",
      "server round is  25\n",
      "loss is  2.565619223659889\n"
     ]
    },
    {
     "name": "stderr",
     "output_type": "stream",
     "text": [
      "DEBUG flwr 2023-08-31 02:46:04,740 | server.py:236 | fit_round 26 received 2 results and 0 failures\n",
      "DEBUG flwr 2023-08-31 02:46:04,759 | server.py:173 | evaluate_round 26: strategy sampled 2 clients (out of 5)\n",
      "DEBUG flwr 2023-08-31 02:46:04,799 | server.py:187 | evaluate_round 26 received 2 results and 0 failures\n",
      "DEBUG flwr 2023-08-31 02:46:04,801 | server.py:222 | fit_round 27: strategy sampled 2 clients (out of 5)\n"
     ]
    },
    {
     "name": "stdout",
     "output_type": "stream",
     "text": [
      "agrregate_fit results list length is  2\n",
      "Saving round 26 aggregated_parameters...\n",
      "agrregate_evaluate results list length is  2\n",
      "server round is  26\n",
      "loss is  2.0720887245841033\n"
     ]
    },
    {
     "name": "stderr",
     "output_type": "stream",
     "text": [
      "DEBUG flwr 2023-08-31 02:46:07,891 | server.py:236 | fit_round 27 received 2 results and 0 failures\n",
      "DEBUG flwr 2023-08-31 02:46:07,912 | server.py:173 | evaluate_round 27: strategy sampled 2 clients (out of 5)\n",
      "DEBUG flwr 2023-08-31 02:46:07,960 | server.py:187 | evaluate_round 27 received 2 results and 0 failures\n",
      "DEBUG flwr 2023-08-31 02:46:07,962 | server.py:222 | fit_round 28: strategy sampled 2 clients (out of 5)\n"
     ]
    },
    {
     "name": "stdout",
     "output_type": "stream",
     "text": [
      "agrregate_fit results list length is  2\n",
      "Saving round 27 aggregated_parameters...\n",
      "agrregate_evaluate results list length is  2\n",
      "server round is  27\n",
      "loss is  2.0961182994454712\n"
     ]
    },
    {
     "name": "stderr",
     "output_type": "stream",
     "text": [
      "DEBUG flwr 2023-08-31 02:46:11,140 | server.py:236 | fit_round 28 received 2 results and 0 failures\n",
      "DEBUG flwr 2023-08-31 02:46:11,165 | server.py:173 | evaluate_round 28: strategy sampled 2 clients (out of 5)\n",
      "DEBUG flwr 2023-08-31 02:46:11,207 | server.py:187 | evaluate_round 28 received 2 results and 0 failures\n",
      "DEBUG flwr 2023-08-31 02:46:11,209 | server.py:222 | fit_round 29: strategy sampled 2 clients (out of 5)\n"
     ]
    },
    {
     "name": "stdout",
     "output_type": "stream",
     "text": [
      "agrregate_fit results list length is  2\n",
      "Saving round 28 aggregated_parameters...\n",
      "agrregate_evaluate results list length is  2\n",
      "server round is  28\n",
      "loss is  2.5249537892791127\n"
     ]
    },
    {
     "name": "stderr",
     "output_type": "stream",
     "text": [
      "DEBUG flwr 2023-08-31 02:46:14,128 | server.py:236 | fit_round 29 received 2 results and 0 failures\n",
      "DEBUG flwr 2023-08-31 02:46:14,150 | server.py:173 | evaluate_round 29: strategy sampled 2 clients (out of 5)\n",
      "DEBUG flwr 2023-08-31 02:46:14,194 | server.py:187 | evaluate_round 29 received 2 results and 0 failures\n",
      "DEBUG flwr 2023-08-31 02:46:14,196 | server.py:222 | fit_round 30: strategy sampled 2 clients (out of 5)\n"
     ]
    },
    {
     "name": "stdout",
     "output_type": "stream",
     "text": [
      "agrregate_fit results list length is  2\n",
      "Saving round 29 aggregated_parameters...\n",
      "agrregate_evaluate results list length is  2\n",
      "server round is  29\n",
      "loss is  2.2051756007393717\n"
     ]
    },
    {
     "name": "stderr",
     "output_type": "stream",
     "text": [
      "DEBUG flwr 2023-08-31 02:46:17,168 | server.py:236 | fit_round 30 received 2 results and 0 failures\n",
      "DEBUG flwr 2023-08-31 02:46:17,192 | server.py:173 | evaluate_round 30: strategy sampled 2 clients (out of 5)\n",
      "DEBUG flwr 2023-08-31 02:46:17,237 | server.py:187 | evaluate_round 30 received 2 results and 0 failures\n",
      "DEBUG flwr 2023-08-31 02:46:17,238 | server.py:222 | fit_round 31: strategy sampled 2 clients (out of 5)\n"
     ]
    },
    {
     "name": "stdout",
     "output_type": "stream",
     "text": [
      "agrregate_fit results list length is  2\n",
      "Saving round 30 aggregated_parameters...\n",
      "agrregate_evaluate results list length is  2\n",
      "server round is  30\n",
      "loss is  2.6820702402957486\n"
     ]
    },
    {
     "name": "stderr",
     "output_type": "stream",
     "text": [
      "DEBUG flwr 2023-08-31 02:46:20,021 | server.py:236 | fit_round 31 received 2 results and 0 failures\n",
      "DEBUG flwr 2023-08-31 02:46:20,047 | server.py:173 | evaluate_round 31: strategy sampled 2 clients (out of 5)\n",
      "DEBUG flwr 2023-08-31 02:46:20,100 | server.py:187 | evaluate_round 31 received 2 results and 0 failures\n",
      "DEBUG flwr 2023-08-31 02:46:20,102 | server.py:222 | fit_round 32: strategy sampled 2 clients (out of 5)\n"
     ]
    },
    {
     "name": "stdout",
     "output_type": "stream",
     "text": [
      "agrregate_fit results list length is  2\n",
      "Saving round 31 aggregated_parameters...\n",
      "agrregate_evaluate results list length is  2\n",
      "server round is  31\n",
      "loss is  2.0055452865064693\n"
     ]
    },
    {
     "name": "stderr",
     "output_type": "stream",
     "text": [
      "DEBUG flwr 2023-08-31 02:46:23,266 | server.py:236 | fit_round 32 received 2 results and 0 failures\n",
      "DEBUG flwr 2023-08-31 02:46:23,302 | server.py:173 | evaluate_round 32: strategy sampled 2 clients (out of 5)\n",
      "DEBUG flwr 2023-08-31 02:46:23,354 | server.py:187 | evaluate_round 32 received 2 results and 0 failures\n",
      "DEBUG flwr 2023-08-31 02:46:23,355 | server.py:222 | fit_round 33: strategy sampled 2 clients (out of 5)\n"
     ]
    },
    {
     "name": "stdout",
     "output_type": "stream",
     "text": [
      "agrregate_fit results list length is  2\n",
      "Saving round 32 aggregated_parameters...\n",
      "agrregate_evaluate results list length is  2\n",
      "server round is  32\n",
      "loss is  2.5286506469500925\n"
     ]
    },
    {
     "name": "stderr",
     "output_type": "stream",
     "text": [
      "DEBUG flwr 2023-08-31 02:46:26,214 | server.py:236 | fit_round 33 received 2 results and 0 failures\n",
      "DEBUG flwr 2023-08-31 02:46:26,235 | server.py:173 | evaluate_round 33: strategy sampled 2 clients (out of 5)\n",
      "DEBUG flwr 2023-08-31 02:46:26,281 | server.py:187 | evaluate_round 33 received 2 results and 0 failures\n",
      "DEBUG flwr 2023-08-31 02:46:26,282 | server.py:222 | fit_round 34: strategy sampled 2 clients (out of 5)\n"
     ]
    },
    {
     "name": "stdout",
     "output_type": "stream",
     "text": [
      "agrregate_fit results list length is  2\n",
      "Saving round 33 aggregated_parameters...\n",
      "agrregate_evaluate results list length is  2\n",
      "server round is  33\n",
      "loss is  2.232902033271719\n"
     ]
    },
    {
     "name": "stderr",
     "output_type": "stream",
     "text": [
      "DEBUG flwr 2023-08-31 02:46:29,076 | server.py:236 | fit_round 34 received 2 results and 0 failures\n",
      "DEBUG flwr 2023-08-31 02:46:29,100 | server.py:173 | evaluate_round 34: strategy sampled 2 clients (out of 5)\n",
      "DEBUG flwr 2023-08-31 02:46:29,147 | server.py:187 | evaluate_round 34 received 2 results and 0 failures\n",
      "DEBUG flwr 2023-08-31 02:46:29,149 | server.py:222 | fit_round 35: strategy sampled 2 clients (out of 5)\n"
     ]
    },
    {
     "name": "stdout",
     "output_type": "stream",
     "text": [
      "agrregate_fit results list length is  2\n",
      "Saving round 34 aggregated_parameters...\n",
      "agrregate_evaluate results list length is  2\n",
      "server round is  34\n",
      "loss is  2.0702402957486137\n"
     ]
    },
    {
     "name": "stderr",
     "output_type": "stream",
     "text": [
      "DEBUG flwr 2023-08-31 02:46:32,090 | server.py:236 | fit_round 35 received 2 results and 0 failures\n",
      "DEBUG flwr 2023-08-31 02:46:32,120 | server.py:173 | evaluate_round 35: strategy sampled 2 clients (out of 5)\n",
      "DEBUG flwr 2023-08-31 02:46:32,167 | server.py:187 | evaluate_round 35 received 2 results and 0 failures\n",
      "DEBUG flwr 2023-08-31 02:46:32,168 | server.py:222 | fit_round 36: strategy sampled 2 clients (out of 5)\n"
     ]
    },
    {
     "name": "stdout",
     "output_type": "stream",
     "text": [
      "agrregate_fit results list length is  2\n",
      "Saving round 35 aggregated_parameters...\n",
      "agrregate_evaluate results list length is  2\n",
      "server round is  35\n",
      "loss is  2.1386321626617377\n"
     ]
    },
    {
     "name": "stderr",
     "output_type": "stream",
     "text": [
      "DEBUG flwr 2023-08-31 02:46:35,036 | server.py:236 | fit_round 36 received 2 results and 0 failures\n",
      "DEBUG flwr 2023-08-31 02:46:35,060 | server.py:173 | evaluate_round 36: strategy sampled 2 clients (out of 5)\n",
      "DEBUG flwr 2023-08-31 02:46:35,108 | server.py:187 | evaluate_round 36 received 2 results and 0 failures\n",
      "DEBUG flwr 2023-08-31 02:46:35,110 | server.py:222 | fit_round 37: strategy sampled 2 clients (out of 5)\n"
     ]
    },
    {
     "name": "stdout",
     "output_type": "stream",
     "text": [
      "agrregate_fit results list length is  2\n",
      "Saving round 36 aggregated_parameters...\n",
      "agrregate_evaluate results list length is  2\n",
      "server round is  36\n",
      "loss is  2.0351201478743066\n"
     ]
    },
    {
     "name": "stderr",
     "output_type": "stream",
     "text": [
      "DEBUG flwr 2023-08-31 02:46:38,665 | server.py:236 | fit_round 37 received 2 results and 0 failures\n",
      "DEBUG flwr 2023-08-31 02:46:38,706 | server.py:173 | evaluate_round 37: strategy sampled 2 clients (out of 5)\n",
      "DEBUG flwr 2023-08-31 02:46:38,766 | server.py:187 | evaluate_round 37 received 2 results and 0 failures\n",
      "DEBUG flwr 2023-08-31 02:46:38,768 | server.py:222 | fit_round 38: strategy sampled 2 clients (out of 5)\n"
     ]
    },
    {
     "name": "stdout",
     "output_type": "stream",
     "text": [
      "agrregate_fit results list length is  2\n",
      "Saving round 37 aggregated_parameters...\n",
      "agrregate_evaluate results list length is  2\n",
      "server round is  37\n",
      "loss is  2.1367837338262476\n"
     ]
    },
    {
     "name": "stderr",
     "output_type": "stream",
     "text": [
      "DEBUG flwr 2023-08-31 02:46:42,092 | server.py:236 | fit_round 38 received 2 results and 0 failures\n",
      "DEBUG flwr 2023-08-31 02:46:42,116 | server.py:173 | evaluate_round 38: strategy sampled 2 clients (out of 5)\n",
      "DEBUG flwr 2023-08-31 02:46:42,163 | server.py:187 | evaluate_round 38 received 2 results and 0 failures\n",
      "DEBUG flwr 2023-08-31 02:46:42,164 | server.py:222 | fit_round 39: strategy sampled 2 clients (out of 5)\n"
     ]
    },
    {
     "name": "stdout",
     "output_type": "stream",
     "text": [
      "agrregate_fit results list length is  2\n",
      "Saving round 38 aggregated_parameters...\n",
      "agrregate_evaluate results list length is  2\n",
      "server round is  38\n",
      "loss is  2.210720887245841\n"
     ]
    },
    {
     "name": "stderr",
     "output_type": "stream",
     "text": [
      "DEBUG flwr 2023-08-31 02:46:45,232 | server.py:236 | fit_round 39 received 2 results and 0 failures\n",
      "DEBUG flwr 2023-08-31 02:46:45,265 | server.py:173 | evaluate_round 39: strategy sampled 2 clients (out of 5)\n",
      "DEBUG flwr 2023-08-31 02:46:45,309 | server.py:187 | evaluate_round 39 received 2 results and 0 failures\n",
      "DEBUG flwr 2023-08-31 02:46:45,310 | server.py:222 | fit_round 40: strategy sampled 2 clients (out of 5)\n"
     ]
    },
    {
     "name": "stdout",
     "output_type": "stream",
     "text": [
      "agrregate_fit results list length is  2\n",
      "Saving round 39 aggregated_parameters...\n",
      "agrregate_evaluate results list length is  2\n",
      "server round is  39\n",
      "loss is  2.0720887245841033\n"
     ]
    },
    {
     "name": "stderr",
     "output_type": "stream",
     "text": [
      "DEBUG flwr 2023-08-31 02:46:48,608 | server.py:236 | fit_round 40 received 2 results and 0 failures\n",
      "DEBUG flwr 2023-08-31 02:46:48,632 | server.py:173 | evaluate_round 40: strategy sampled 2 clients (out of 5)\n",
      "DEBUG flwr 2023-08-31 02:46:48,684 | server.py:187 | evaluate_round 40 received 2 results and 0 failures\n",
      "DEBUG flwr 2023-08-31 02:46:48,686 | server.py:222 | fit_round 41: strategy sampled 2 clients (out of 5)\n"
     ]
    },
    {
     "name": "stdout",
     "output_type": "stream",
     "text": [
      "agrregate_fit results list length is  2\n",
      "Saving round 40 aggregated_parameters...\n",
      "agrregate_evaluate results list length is  2\n",
      "server round is  40\n",
      "loss is  2.297597042513863\n"
     ]
    },
    {
     "name": "stderr",
     "output_type": "stream",
     "text": [
      "DEBUG flwr 2023-08-31 02:46:51,682 | server.py:236 | fit_round 41 received 2 results and 0 failures\n",
      "DEBUG flwr 2023-08-31 02:46:51,703 | server.py:173 | evaluate_round 41: strategy sampled 2 clients (out of 5)\n",
      "DEBUG flwr 2023-08-31 02:46:51,748 | server.py:187 | evaluate_round 41 received 2 results and 0 failures\n",
      "DEBUG flwr 2023-08-31 02:46:51,749 | server.py:222 | fit_round 42: strategy sampled 2 clients (out of 5)\n"
     ]
    },
    {
     "name": "stdout",
     "output_type": "stream",
     "text": [
      "agrregate_fit results list length is  2\n",
      "Saving round 41 aggregated_parameters...\n",
      "agrregate_evaluate results list length is  2\n",
      "server round is  41\n",
      "loss is  2.297597042513863\n"
     ]
    },
    {
     "name": "stderr",
     "output_type": "stream",
     "text": [
      "DEBUG flwr 2023-08-31 02:46:54,800 | server.py:236 | fit_round 42 received 2 results and 0 failures\n",
      "DEBUG flwr 2023-08-31 02:46:54,820 | server.py:173 | evaluate_round 42: strategy sampled 2 clients (out of 5)\n",
      "DEBUG flwr 2023-08-31 02:46:54,860 | server.py:187 | evaluate_round 42 received 2 results and 0 failures\n",
      "DEBUG flwr 2023-08-31 02:46:54,861 | server.py:222 | fit_round 43: strategy sampled 2 clients (out of 5)\n"
     ]
    },
    {
     "name": "stdout",
     "output_type": "stream",
     "text": [
      "agrregate_fit results list length is  2\n",
      "Saving round 42 aggregated_parameters...\n",
      "agrregate_evaluate results list length is  2\n",
      "server round is  42\n",
      "loss is  1.9833641404805915\n"
     ]
    },
    {
     "name": "stderr",
     "output_type": "stream",
     "text": [
      "DEBUG flwr 2023-08-31 02:46:57,959 | server.py:236 | fit_round 43 received 2 results and 0 failures\n",
      "DEBUG flwr 2023-08-31 02:46:57,979 | server.py:173 | evaluate_round 43: strategy sampled 2 clients (out of 5)\n",
      "DEBUG flwr 2023-08-31 02:46:58,023 | server.py:187 | evaluate_round 43 received 2 results and 0 failures\n",
      "DEBUG flwr 2023-08-31 02:46:58,024 | server.py:222 | fit_round 44: strategy sampled 2 clients (out of 5)\n"
     ]
    },
    {
     "name": "stdout",
     "output_type": "stream",
     "text": [
      "agrregate_fit results list length is  2\n",
      "Saving round 43 aggregated_parameters...\n",
      "agrregate_evaluate results list length is  2\n",
      "server round is  43\n",
      "loss is  2.487985212569316\n"
     ]
    },
    {
     "name": "stderr",
     "output_type": "stream",
     "text": [
      "DEBUG flwr 2023-08-31 02:47:01,068 | server.py:236 | fit_round 44 received 2 results and 0 failures\n",
      "DEBUG flwr 2023-08-31 02:47:01,087 | server.py:173 | evaluate_round 44: strategy sampled 2 clients (out of 5)\n",
      "DEBUG flwr 2023-08-31 02:47:01,134 | server.py:187 | evaluate_round 44 received 2 results and 0 failures\n",
      "DEBUG flwr 2023-08-31 02:47:01,136 | server.py:222 | fit_round 45: strategy sampled 2 clients (out of 5)\n"
     ]
    },
    {
     "name": "stdout",
     "output_type": "stream",
     "text": [
      "agrregate_fit results list length is  2\n",
      "Saving round 44 aggregated_parameters...\n",
      "agrregate_evaluate results list length is  2\n",
      "server round is  44\n",
      "loss is  2.0720887245841033\n"
     ]
    },
    {
     "name": "stderr",
     "output_type": "stream",
     "text": [
      "DEBUG flwr 2023-08-31 02:47:04,272 | server.py:236 | fit_round 45 received 2 results and 0 failures\n",
      "DEBUG flwr 2023-08-31 02:47:04,294 | server.py:173 | evaluate_round 45: strategy sampled 2 clients (out of 5)\n",
      "DEBUG flwr 2023-08-31 02:47:04,340 | server.py:187 | evaluate_round 45 received 2 results and 0 failures\n",
      "DEBUG flwr 2023-08-31 02:47:04,341 | server.py:222 | fit_round 46: strategy sampled 2 clients (out of 5)\n"
     ]
    },
    {
     "name": "stdout",
     "output_type": "stream",
     "text": [
      "agrregate_fit results list length is  2\n",
      "Saving round 45 aggregated_parameters...\n",
      "agrregate_evaluate results list length is  2\n",
      "server round is  45\n",
      "loss is  1.9316081330868762\n"
     ]
    },
    {
     "name": "stderr",
     "output_type": "stream",
     "text": [
      "DEBUG flwr 2023-08-31 02:47:07,252 | server.py:236 | fit_round 46 received 2 results and 0 failures\n",
      "DEBUG flwr 2023-08-31 02:47:07,277 | server.py:173 | evaluate_round 46: strategy sampled 2 clients (out of 5)\n",
      "DEBUG flwr 2023-08-31 02:47:07,317 | server.py:187 | evaluate_round 46 received 2 results and 0 failures\n",
      "DEBUG flwr 2023-08-31 02:47:07,318 | server.py:222 | fit_round 47: strategy sampled 2 clients (out of 5)\n"
     ]
    },
    {
     "name": "stdout",
     "output_type": "stream",
     "text": [
      "agrregate_fit results list length is  2\n",
      "Saving round 46 aggregated_parameters...\n",
      "agrregate_evaluate results list length is  2\n",
      "server round is  46\n",
      "loss is  2.3142329020332717\n"
     ]
    },
    {
     "name": "stderr",
     "output_type": "stream",
     "text": [
      "DEBUG flwr 2023-08-31 02:47:10,469 | server.py:236 | fit_round 47 received 2 results and 0 failures\n",
      "DEBUG flwr 2023-08-31 02:47:10,502 | server.py:173 | evaluate_round 47: strategy sampled 2 clients (out of 5)\n",
      "DEBUG flwr 2023-08-31 02:47:10,551 | server.py:187 | evaluate_round 47 received 2 results and 0 failures\n",
      "DEBUG flwr 2023-08-31 02:47:10,552 | server.py:222 | fit_round 48: strategy sampled 2 clients (out of 5)\n"
     ]
    },
    {
     "name": "stdout",
     "output_type": "stream",
     "text": [
      "agrregate_fit results list length is  2\n",
      "Saving round 47 aggregated_parameters...\n",
      "agrregate_evaluate results list length is  2\n",
      "server round is  47\n",
      "loss is  1.955637707948244\n"
     ]
    },
    {
     "name": "stderr",
     "output_type": "stream",
     "text": [
      "DEBUG flwr 2023-08-31 02:47:13,642 | server.py:236 | fit_round 48 received 2 results and 0 failures\n",
      "DEBUG flwr 2023-08-31 02:47:13,676 | server.py:173 | evaluate_round 48: strategy sampled 2 clients (out of 5)\n",
      "DEBUG flwr 2023-08-31 02:47:13,727 | server.py:187 | evaluate_round 48 received 2 results and 0 failures\n",
      "DEBUG flwr 2023-08-31 02:47:13,728 | server.py:222 | fit_round 49: strategy sampled 2 clients (out of 5)\n"
     ]
    },
    {
     "name": "stdout",
     "output_type": "stream",
     "text": [
      "agrregate_fit results list length is  2\n",
      "Saving round 48 aggregated_parameters...\n",
      "agrregate_evaluate results list length is  2\n",
      "server round is  48\n",
      "loss is  2.0314232902033273\n"
     ]
    },
    {
     "name": "stderr",
     "output_type": "stream",
     "text": [
      "DEBUG flwr 2023-08-31 02:47:16,704 | server.py:236 | fit_round 49 received 2 results and 0 failures\n",
      "DEBUG flwr 2023-08-31 02:47:16,735 | server.py:173 | evaluate_round 49: strategy sampled 2 clients (out of 5)\n",
      "DEBUG flwr 2023-08-31 02:47:16,788 | server.py:187 | evaluate_round 49 received 2 results and 0 failures\n",
      "DEBUG flwr 2023-08-31 02:47:16,789 | server.py:222 | fit_round 50: strategy sampled 2 clients (out of 5)\n"
     ]
    },
    {
     "name": "stdout",
     "output_type": "stream",
     "text": [
      "agrregate_fit results list length is  2\n",
      "Saving round 49 aggregated_parameters...\n",
      "agrregate_evaluate results list length is  2\n",
      "server round is  49\n",
      "loss is  1.9390018484288354\n"
     ]
    },
    {
     "name": "stderr",
     "output_type": "stream",
     "text": [
      "DEBUG flwr 2023-08-31 02:47:19,733 | server.py:236 | fit_round 50 received 2 results and 0 failures\n",
      "DEBUG flwr 2023-08-31 02:47:19,754 | server.py:173 | evaluate_round 50: strategy sampled 2 clients (out of 5)\n",
      "DEBUG flwr 2023-08-31 02:47:19,801 | server.py:187 | evaluate_round 50 received 2 results and 0 failures\n",
      "DEBUG flwr 2023-08-31 02:47:19,802 | server.py:222 | fit_round 51: strategy sampled 2 clients (out of 5)\n"
     ]
    },
    {
     "name": "stdout",
     "output_type": "stream",
     "text": [
      "agrregate_fit results list length is  2\n",
      "Saving round 50 aggregated_parameters...\n",
      "agrregate_evaluate results list length is  2\n",
      "server round is  50\n",
      "loss is  1.8317929759704252\n"
     ]
    },
    {
     "name": "stderr",
     "output_type": "stream",
     "text": [
      "DEBUG flwr 2023-08-31 02:47:23,749 | server.py:236 | fit_round 51 received 2 results and 0 failures\n",
      "DEBUG flwr 2023-08-31 02:47:23,786 | server.py:173 | evaluate_round 51: strategy sampled 2 clients (out of 5)\n",
      "DEBUG flwr 2023-08-31 02:47:23,852 | server.py:187 | evaluate_round 51 received 2 results and 0 failures\n",
      "DEBUG flwr 2023-08-31 02:47:23,855 | server.py:222 | fit_round 52: strategy sampled 2 clients (out of 5)\n"
     ]
    },
    {
     "name": "stdout",
     "output_type": "stream",
     "text": [
      "agrregate_fit results list length is  2\n",
      "Saving round 51 aggregated_parameters...\n",
      "agrregate_evaluate results list length is  2\n",
      "server round is  51\n",
      "loss is  1.9408502772643252\n"
     ]
    },
    {
     "name": "stderr",
     "output_type": "stream",
     "text": [
      "DEBUG flwr 2023-08-31 02:47:27,285 | server.py:236 | fit_round 52 received 2 results and 0 failures\n",
      "DEBUG flwr 2023-08-31 02:47:27,314 | server.py:173 | evaluate_round 52: strategy sampled 2 clients (out of 5)\n",
      "DEBUG flwr 2023-08-31 02:47:27,353 | server.py:187 | evaluate_round 52 received 2 results and 0 failures\n",
      "DEBUG flwr 2023-08-31 02:47:27,355 | server.py:222 | fit_round 53: strategy sampled 2 clients (out of 5)\n"
     ]
    },
    {
     "name": "stdout",
     "output_type": "stream",
     "text": [
      "agrregate_fit results list length is  2\n",
      "Saving round 52 aggregated_parameters...\n",
      "agrregate_evaluate results list length is  2\n",
      "server round is  52\n",
      "loss is  1.902033271719039\n"
     ]
    },
    {
     "name": "stderr",
     "output_type": "stream",
     "text": [
      "DEBUG flwr 2023-08-31 02:47:30,435 | server.py:236 | fit_round 53 received 2 results and 0 failures\n",
      "DEBUG flwr 2023-08-31 02:47:30,455 | server.py:173 | evaluate_round 53: strategy sampled 2 clients (out of 5)\n",
      "DEBUG flwr 2023-08-31 02:47:30,498 | server.py:187 | evaluate_round 53 received 2 results and 0 failures\n",
      "DEBUG flwr 2023-08-31 02:47:30,499 | server.py:222 | fit_round 54: strategy sampled 2 clients (out of 5)\n"
     ]
    },
    {
     "name": "stdout",
     "output_type": "stream",
     "text": [
      "agrregate_fit results list length is  2\n",
      "Saving round 53 aggregated_parameters...\n",
      "agrregate_evaluate results list length is  2\n",
      "server round is  53\n",
      "loss is  2.0720887245841033\n"
     ]
    },
    {
     "name": "stderr",
     "output_type": "stream",
     "text": [
      "DEBUG flwr 2023-08-31 02:47:33,654 | server.py:236 | fit_round 54 received 2 results and 0 failures\n",
      "DEBUG flwr 2023-08-31 02:47:33,678 | server.py:173 | evaluate_round 54: strategy sampled 2 clients (out of 5)\n",
      "DEBUG flwr 2023-08-31 02:47:33,727 | server.py:187 | evaluate_round 54 received 2 results and 0 failures\n",
      "DEBUG flwr 2023-08-31 02:47:33,729 | server.py:222 | fit_round 55: strategy sampled 2 clients (out of 5)\n"
     ]
    },
    {
     "name": "stdout",
     "output_type": "stream",
     "text": [
      "agrregate_fit results list length is  2\n",
      "Saving round 54 aggregated_parameters...\n",
      "agrregate_evaluate results list length is  2\n",
      "server round is  54\n",
      "loss is  2.1589648798521255\n"
     ]
    },
    {
     "name": "stderr",
     "output_type": "stream",
     "text": [
      "DEBUG flwr 2023-08-31 02:47:37,516 | server.py:236 | fit_round 55 received 2 results and 0 failures\n",
      "DEBUG flwr 2023-08-31 02:47:37,543 | server.py:173 | evaluate_round 55: strategy sampled 2 clients (out of 5)\n",
      "DEBUG flwr 2023-08-31 02:47:37,598 | server.py:187 | evaluate_round 55 received 2 results and 0 failures\n",
      "DEBUG flwr 2023-08-31 02:47:37,600 | server.py:222 | fit_round 56: strategy sampled 2 clients (out of 5)\n"
     ]
    },
    {
     "name": "stdout",
     "output_type": "stream",
     "text": [
      "agrregate_fit results list length is  2\n",
      "Saving round 55 aggregated_parameters...\n",
      "agrregate_evaluate results list length is  2\n",
      "server round is  55\n",
      "loss is  2.0499075785582255\n"
     ]
    },
    {
     "name": "stderr",
     "output_type": "stream",
     "text": [
      "DEBUG flwr 2023-08-31 02:47:40,586 | server.py:236 | fit_round 56 received 2 results and 0 failures\n",
      "DEBUG flwr 2023-08-31 02:47:40,610 | server.py:173 | evaluate_round 56: strategy sampled 2 clients (out of 5)\n",
      "DEBUG flwr 2023-08-31 02:47:40,670 | server.py:187 | evaluate_round 56 received 2 results and 0 failures\n",
      "DEBUG flwr 2023-08-31 02:47:40,672 | server.py:222 | fit_round 57: strategy sampled 2 clients (out of 5)\n"
     ]
    },
    {
     "name": "stdout",
     "output_type": "stream",
     "text": [
      "agrregate_fit results list length is  2\n",
      "Saving round 56 aggregated_parameters...\n",
      "agrregate_evaluate results list length is  2\n",
      "server round is  56\n",
      "loss is  1.9611829944547134\n"
     ]
    },
    {
     "name": "stderr",
     "output_type": "stream",
     "text": [
      "DEBUG flwr 2023-08-31 02:47:43,830 | server.py:236 | fit_round 57 received 2 results and 0 failures\n",
      "DEBUG flwr 2023-08-31 02:47:43,853 | server.py:173 | evaluate_round 57: strategy sampled 2 clients (out of 5)\n",
      "DEBUG flwr 2023-08-31 02:47:43,907 | server.py:187 | evaluate_round 57 received 2 results and 0 failures\n",
      "DEBUG flwr 2023-08-31 02:47:43,909 | server.py:222 | fit_round 58: strategy sampled 2 clients (out of 5)\n"
     ]
    },
    {
     "name": "stdout",
     "output_type": "stream",
     "text": [
      "agrregate_fit results list length is  2\n",
      "Saving round 57 aggregated_parameters...\n",
      "agrregate_evaluate results list length is  2\n",
      "server round is  57\n",
      "loss is  1.8983364140480592\n"
     ]
    },
    {
     "name": "stderr",
     "output_type": "stream",
     "text": [
      "DEBUG flwr 2023-08-31 02:47:47,069 | server.py:236 | fit_round 58 received 2 results and 0 failures\n",
      "DEBUG flwr 2023-08-31 02:47:47,101 | server.py:173 | evaluate_round 58: strategy sampled 2 clients (out of 5)\n",
      "DEBUG flwr 2023-08-31 02:47:47,178 | server.py:187 | evaluate_round 58 received 2 results and 0 failures\n",
      "DEBUG flwr 2023-08-31 02:47:47,180 | server.py:222 | fit_round 59: strategy sampled 2 clients (out of 5)\n"
     ]
    },
    {
     "name": "stdout",
     "output_type": "stream",
     "text": [
      "agrregate_fit results list length is  2\n",
      "Saving round 58 aggregated_parameters...\n",
      "agrregate_evaluate results list length is  2\n",
      "server round is  58\n",
      "loss is  2.188539741219963\n"
     ]
    },
    {
     "name": "stderr",
     "output_type": "stream",
     "text": [
      "DEBUG flwr 2023-08-31 02:47:50,601 | server.py:236 | fit_round 59 received 2 results and 0 failures\n",
      "DEBUG flwr 2023-08-31 02:47:50,628 | server.py:173 | evaluate_round 59: strategy sampled 2 clients (out of 5)\n",
      "DEBUG flwr 2023-08-31 02:47:50,667 | server.py:187 | evaluate_round 59 received 2 results and 0 failures\n",
      "DEBUG flwr 2023-08-31 02:47:50,668 | server.py:222 | fit_round 60: strategy sampled 2 clients (out of 5)\n"
     ]
    },
    {
     "name": "stdout",
     "output_type": "stream",
     "text": [
      "agrregate_fit results list length is  2\n",
      "Saving round 59 aggregated_parameters...\n",
      "agrregate_evaluate results list length is  2\n",
      "server round is  59\n",
      "loss is  1.8188539741219962\n"
     ]
    },
    {
     "name": "stderr",
     "output_type": "stream",
     "text": [
      "DEBUG flwr 2023-08-31 02:47:53,690 | server.py:236 | fit_round 60 received 2 results and 0 failures\n",
      "DEBUG flwr 2023-08-31 02:47:53,714 | server.py:173 | evaluate_round 60: strategy sampled 2 clients (out of 5)\n",
      "DEBUG flwr 2023-08-31 02:47:53,758 | server.py:187 | evaluate_round 60 received 2 results and 0 failures\n",
      "INFO flwr 2023-08-31 02:47:53,759 | server.py:153 | FL finished in 192.30223239999032\n",
      "INFO flwr 2023-08-31 02:47:53,760 | app.py:225 | app_fit: losses_distributed [(1, 3.5286506469500925), (2, 3.1053604436229203), (3, 2.9685767097966727), (4, 2.741219963031423), (5, 2.9537892791127542), (6, 2.646950092421442), (7, 2.656192236598891), (8, 2.487985212569316), (9, 2.5378927911275415), (10, 2.3160813308687613), (11, 2.5434380776340113), (12, 2.8391866913123844), (13, 2.6173752310536043), (14, 2.5951940850277264), (15, 2.5489833641404807), (16, 2.4565619223659887), (17, 2.7060998151571165), (18, 2.425138632162662), (19, 2.9279112754158967), (20, 2.4861367837338264), (21, 2.4510166358595193), (22, 2.4232902033271717), (23, 2.2051756007393717), (24, 2.3419593345656193), (25, 2.565619223659889), (26, 2.0720887245841033), (27, 2.0961182994454712), (28, 2.5249537892791127), (29, 2.2051756007393717), (30, 2.6820702402957486), (31, 2.0055452865064693), (32, 2.5286506469500925), (33, 2.232902033271719), (34, 2.0702402957486137), (35, 2.1386321626617377), (36, 2.0351201478743066), (37, 2.1367837338262476), (38, 2.210720887245841), (39, 2.0720887245841033), (40, 2.297597042513863), (41, 2.297597042513863), (42, 1.9833641404805915), (43, 2.487985212569316), (44, 2.0720887245841033), (45, 1.9316081330868762), (46, 2.3142329020332717), (47, 1.955637707948244), (48, 2.0314232902033273), (49, 1.9390018484288354), (50, 1.8317929759704252), (51, 1.9408502772643252), (52, 1.902033271719039), (53, 2.0720887245841033), (54, 2.1589648798521255), (55, 2.0499075785582255), (56, 1.9611829944547134), (57, 1.8983364140480592), (58, 2.188539741219963), (59, 1.8188539741219962), (60, 2.022181146025878)]\n",
      "INFO flwr 2023-08-31 02:47:53,760 | app.py:226 | app_fit: metrics_distributed_fit {}\n",
      "INFO flwr 2023-08-31 02:47:53,761 | app.py:227 | app_fit: metrics_distributed {'mse': [(1, 7.057301293900185), (2, 6.210720887245841), (3, 5.937153419593345), (4, 5.482439926062846), (5, 5.9075785582255085), (6, 5.293900184842884), (7, 5.312384473197782), (8, 4.975970425138632), (9, 5.075785582255083), (10, 4.632162661737523), (11, 5.086876155268023), (12, 5.678373382624769), (13, 5.2347504621072085), (14, 5.190388170055453), (15, 5.097966728280961), (16, 4.913123844731977), (17, 5.412199630314233), (18, 4.850277264325324), (19, 5.855822550831793), (20, 4.972273567467653), (21, 4.902033271719039), (22, 4.846580406654343), (23, 4.410351201478743), (24, 4.683918669131239), (25, 5.131238447319778), (26, 4.144177449168207), (27, 4.1922365988909425), (28, 5.0499075785582255), (29, 4.410351201478743), (30, 5.364140480591497), (31, 4.011090573012939), (32, 5.057301293900185), (33, 4.465804066543438), (34, 4.140480591497227), (35, 4.2772643253234754), (36, 4.070240295748613), (37, 4.273567467652495), (38, 4.421441774491682), (39, 4.144177449168207), (40, 4.595194085027726), (41, 4.595194085027726), (42, 3.966728280961183), (43, 4.975970425138632), (44, 4.144177449168207), (45, 3.8632162661737524), (46, 4.628465804066543), (47, 3.911275415896488), (48, 4.062846580406655), (49, 3.8780036968576708), (50, 3.6635859519408505), (51, 3.8817005545286505), (52, 3.804066543438078), (53, 4.144177449168207), (54, 4.317929759704251), (55, 4.099815157116451), (56, 3.922365988909427), (57, 3.7966728280961184), (58, 4.377079482439926), (59, 3.6377079482439925), (60, 4.044362292051756)]}\n",
      "INFO flwr 2023-08-31 02:47:53,763 | app.py:228 | app_fit: losses_centralized []\n",
      "INFO flwr 2023-08-31 02:47:53,764 | app.py:229 | app_fit: metrics_centralized {}\n"
     ]
    },
    {
     "name": "stdout",
     "output_type": "stream",
     "text": [
      "agrregate_fit results list length is  2\n",
      "Saving round 60 aggregated_parameters...\n",
      "agrregate_evaluate results list length is  2\n",
      "server round is  60\n",
      "loss is  2.022181146025878\n",
      "History (loss, distributed):\n",
      "\tround 1: 3.5286506469500925\n",
      "\tround 2: 3.1053604436229203\n",
      "\tround 3: 2.9685767097966727\n",
      "\tround 4: 2.741219963031423\n",
      "\tround 5: 2.9537892791127542\n",
      "\tround 6: 2.646950092421442\n",
      "\tround 7: 2.656192236598891\n",
      "\tround 8: 2.487985212569316\n",
      "\tround 9: 2.5378927911275415\n",
      "\tround 10: 2.3160813308687613\n",
      "\tround 11: 2.5434380776340113\n",
      "\tround 12: 2.8391866913123844\n",
      "\tround 13: 2.6173752310536043\n",
      "\tround 14: 2.5951940850277264\n",
      "\tround 15: 2.5489833641404807\n",
      "\tround 16: 2.4565619223659887\n",
      "\tround 17: 2.7060998151571165\n",
      "\tround 18: 2.425138632162662\n",
      "\tround 19: 2.9279112754158967\n",
      "\tround 20: 2.4861367837338264\n",
      "\tround 21: 2.4510166358595193\n",
      "\tround 22: 2.4232902033271717\n",
      "\tround 23: 2.2051756007393717\n",
      "\tround 24: 2.3419593345656193\n",
      "\tround 25: 2.565619223659889\n",
      "\tround 26: 2.0720887245841033\n",
      "\tround 27: 2.0961182994454712\n",
      "\tround 28: 2.5249537892791127\n",
      "\tround 29: 2.2051756007393717\n",
      "\tround 30: 2.6820702402957486\n",
      "\tround 31: 2.0055452865064693\n",
      "\tround 32: 2.5286506469500925\n",
      "\tround 33: 2.232902033271719\n",
      "\tround 34: 2.0702402957486137\n",
      "\tround 35: 2.1386321626617377\n",
      "\tround 36: 2.0351201478743066\n",
      "\tround 37: 2.1367837338262476\n",
      "\tround 38: 2.210720887245841\n",
      "\tround 39: 2.0720887245841033\n",
      "\tround 40: 2.297597042513863\n",
      "\tround 41: 2.297597042513863\n",
      "\tround 42: 1.9833641404805915\n",
      "\tround 43: 2.487985212569316\n",
      "\tround 44: 2.0720887245841033\n",
      "\tround 45: 1.9316081330868762\n",
      "\tround 46: 2.3142329020332717\n",
      "\tround 47: 1.955637707948244\n",
      "\tround 48: 2.0314232902033273\n",
      "\tround 49: 1.9390018484288354\n",
      "\tround 50: 1.8317929759704252\n",
      "\tround 51: 1.9408502772643252\n",
      "\tround 52: 1.902033271719039\n",
      "\tround 53: 2.0720887245841033\n",
      "\tround 54: 2.1589648798521255\n",
      "\tround 55: 2.0499075785582255\n",
      "\tround 56: 1.9611829944547134\n",
      "\tround 57: 1.8983364140480592\n",
      "\tround 58: 2.188539741219963\n",
      "\tround 59: 1.8188539741219962\n",
      "\tround 60: 2.022181146025878\n",
      "History (metrics, distributed, evaluate):\n",
      "{'mse': [(1, 7.057301293900185), (2, 6.210720887245841), (3, 5.937153419593345), (4, 5.482439926062846), (5, 5.9075785582255085), (6, 5.293900184842884), (7, 5.312384473197782), (8, 4.975970425138632), (9, 5.075785582255083), (10, 4.632162661737523), (11, 5.086876155268023), (12, 5.678373382624769), (13, 5.2347504621072085), (14, 5.190388170055453), (15, 5.097966728280961), (16, 4.913123844731977), (17, 5.412199630314233), (18, 4.850277264325324), (19, 5.855822550831793), (20, 4.972273567467653), (21, 4.902033271719039), (22, 4.846580406654343), (23, 4.410351201478743), (24, 4.683918669131239), (25, 5.131238447319778), (26, 4.144177449168207), (27, 4.1922365988909425), (28, 5.0499075785582255), (29, 4.410351201478743), (30, 5.364140480591497), (31, 4.011090573012939), (32, 5.057301293900185), (33, 4.465804066543438), (34, 4.140480591497227), (35, 4.2772643253234754), (36, 4.070240295748613), (37, 4.273567467652495), (38, 4.421441774491682), (39, 4.144177449168207), (40, 4.595194085027726), (41, 4.595194085027726), (42, 3.966728280961183), (43, 4.975970425138632), (44, 4.144177449168207), (45, 3.8632162661737524), (46, 4.628465804066543), (47, 3.911275415896488), (48, 4.062846580406655), (49, 3.8780036968576708), (50, 3.6635859519408505), (51, 3.8817005545286505), (52, 3.804066543438078), (53, 4.144177449168207), (54, 4.317929759704251), (55, 4.099815157116451), (56, 3.922365988909427), (57, 3.7966728280961184), (58, 4.377079482439926), (59, 3.6377079482439925), (60, 4.044362292051756)]}\n",
      "[(1, 3.5286506469500925), (2, 3.1053604436229203), (3, 2.9685767097966727), (4, 2.741219963031423), (5, 2.9537892791127542), (6, 2.646950092421442), (7, 2.656192236598891), (8, 2.487985212569316), (9, 2.5378927911275415), (10, 2.3160813308687613), (11, 2.5434380776340113), (12, 2.8391866913123844), (13, 2.6173752310536043), (14, 2.5951940850277264), (15, 2.5489833641404807), (16, 2.4565619223659887), (17, 2.7060998151571165), (18, 2.425138632162662), (19, 2.9279112754158967), (20, 2.4861367837338264), (21, 2.4510166358595193), (22, 2.4232902033271717), (23, 2.2051756007393717), (24, 2.3419593345656193), (25, 2.565619223659889), (26, 2.0720887245841033), (27, 2.0961182994454712), (28, 2.5249537892791127), (29, 2.2051756007393717), (30, 2.6820702402957486), (31, 2.0055452865064693), (32, 2.5286506469500925), (33, 2.232902033271719), (34, 2.0702402957486137), (35, 2.1386321626617377), (36, 2.0351201478743066), (37, 2.1367837338262476), (38, 2.210720887245841), (39, 2.0720887245841033), (40, 2.297597042513863), (41, 2.297597042513863), (42, 1.9833641404805915), (43, 2.487985212569316), (44, 2.0720887245841033), (45, 1.9316081330868762), (46, 2.3142329020332717), (47, 1.955637707948244), (48, 2.0314232902033273), (49, 1.9390018484288354), (50, 1.8317929759704252), (51, 1.9408502772643252), (52, 1.902033271719039), (53, 2.0720887245841033), (54, 2.1589648798521255), (55, 2.0499075785582255), (56, 1.9611829944547134), (57, 1.8983364140480592), (58, 2.188539741219963), (59, 1.8188539741219962), (60, 2.022181146025878)]\n",
      "Fold 2:\n",
      "split [0.2, 0.2, 0.2, 0.2, 0.2]\n",
      "time 0:03:34.659483\n",
      "mse [2.022181146025878]\n",
      "auc [0.8893096377306904]\n"
     ]
    }
   ],
   "source": [
    "split = [0.2, 0.2, 0.2, 0.2, 0.2]\n",
    "do_fl(split)"
   ],
   "metadata": {
    "collapsed": false,
    "ExecuteTime": {
     "end_time": "2023-08-31T01:47:54.122416400Z",
     "start_time": "2023-08-31T01:44:19.167040500Z"
    }
   }
  },
  {
   "cell_type": "code",
   "execution_count": 14,
   "outputs": [
    {
     "name": "stderr",
     "output_type": "stream",
     "text": [
      "INFO flwr 2023-08-31 02:47:53,879 | app.py:145 | Starting Flower simulation, config: ServerConfig(num_rounds=60, round_timeout=None)\n"
     ]
    },
    {
     "name": "stdout",
     "output_type": "stream",
     "text": [
      "<class 'torch.Tensor'>\n",
      "<class 'torch.Tensor'>\n",
      "Fold 1:\n",
      "Client 0 trainset shape torch.Size([3154, 22])\n",
      "Client 1 trainset shape torch.Size([551, 22])\n",
      "Client 2 trainset shape torch.Size([576, 22])\n",
      "Client 3 trainset shape torch.Size([480, 22])\n",
      "Client 4 trainset shape torch.Size([646, 22])\n",
      "FL started training on cpu\n",
      "Number of available GPUs: 0\n"
     ]
    },
    {
     "name": "stderr",
     "output_type": "stream",
     "text": [
      "2023-08-31 02:48:02,740\tINFO worker.py:1627 -- Started a local Ray instance. View the dashboard at \u001B[1m\u001B[32m127.0.0.1:8267 \u001B[39m\u001B[22m\n",
      "INFO flwr 2023-08-31 02:48:11,030 | app.py:179 | Flower VCE: Ray initialized with resources: {'node:127.0.0.1': 1.0, 'memory': 1465855182.0, 'object_store_memory': 732927590.0, 'GPU': 1.0, 'CPU': 8.0}\n",
      "INFO flwr 2023-08-31 02:48:11,032 | server.py:89 | Initializing global parameters\n",
      "INFO flwr 2023-08-31 02:48:11,034 | server.py:276 | Requesting initial parameters from one random client\n",
      "INFO flwr 2023-08-31 02:48:15,274 | server.py:280 | Received initial parameters from one random client\n",
      "INFO flwr 2023-08-31 02:48:15,275 | server.py:91 | Evaluating initial parameters\n",
      "INFO flwr 2023-08-31 02:48:15,275 | server.py:104 | FL starting\n",
      "DEBUG flwr 2023-08-31 02:48:15,276 | server.py:222 | fit_round 1: strategy sampled 2 clients (out of 5)\n",
      "DEBUG flwr 2023-08-31 02:48:20,369 | server.py:236 | fit_round 1 received 2 results and 0 failures\n",
      "WARNING flwr 2023-08-31 02:48:20,379 | fedavg.py:242 | No fit_metrics_aggregation_fn provided\n",
      "DEBUG flwr 2023-08-31 02:48:20,390 | server.py:173 | evaluate_round 1: strategy sampled 2 clients (out of 5)\n",
      "DEBUG flwr 2023-08-31 02:48:20,437 | server.py:187 | evaluate_round 1 received 2 results and 0 failures\n",
      "DEBUG flwr 2023-08-31 02:48:20,438 | server.py:222 | fit_round 2: strategy sampled 2 clients (out of 5)\n"
     ]
    },
    {
     "name": "stdout",
     "output_type": "stream",
     "text": [
      "agrregate_fit results list length is  2\n",
      "Saving round 1 aggregated_parameters...\n",
      "agrregate_evaluate results list length is  2\n",
      "server round is  1\n",
      "loss is  3.9593345656192236\n"
     ]
    },
    {
     "name": "stderr",
     "output_type": "stream",
     "text": [
      "DEBUG flwr 2023-08-31 02:48:28,501 | server.py:236 | fit_round 2 received 2 results and 0 failures\n",
      "DEBUG flwr 2023-08-31 02:48:28,528 | server.py:173 | evaluate_round 2: strategy sampled 2 clients (out of 5)\n",
      "DEBUG flwr 2023-08-31 02:48:28,582 | server.py:187 | evaluate_round 2 received 2 results and 0 failures\n",
      "DEBUG flwr 2023-08-31 02:48:28,583 | server.py:222 | fit_round 3: strategy sampled 2 clients (out of 5)\n"
     ]
    },
    {
     "name": "stdout",
     "output_type": "stream",
     "text": [
      "agrregate_fit results list length is  2\n",
      "Saving round 2 aggregated_parameters...\n",
      "agrregate_evaluate results list length is  2\n",
      "server round is  2\n",
      "loss is  3.053604436229205\n"
     ]
    },
    {
     "name": "stderr",
     "output_type": "stream",
     "text": [
      "DEBUG flwr 2023-08-31 02:48:30,550 | server.py:236 | fit_round 3 received 2 results and 0 failures\n",
      "DEBUG flwr 2023-08-31 02:48:30,578 | server.py:173 | evaluate_round 3: strategy sampled 2 clients (out of 5)\n",
      "DEBUG flwr 2023-08-31 02:48:30,641 | server.py:187 | evaluate_round 3 received 2 results and 0 failures\n",
      "DEBUG flwr 2023-08-31 02:48:30,642 | server.py:222 | fit_round 4: strategy sampled 2 clients (out of 5)\n"
     ]
    },
    {
     "name": "stdout",
     "output_type": "stream",
     "text": [
      "agrregate_fit results list length is  2\n",
      "Saving round 3 aggregated_parameters...\n",
      "agrregate_evaluate results list length is  2\n",
      "server round is  3\n",
      "loss is  2.866913123844732\n"
     ]
    },
    {
     "name": "stderr",
     "output_type": "stream",
     "text": [
      "DEBUG flwr 2023-08-31 02:48:33,327 | server.py:236 | fit_round 4 received 2 results and 0 failures\n",
      "DEBUG flwr 2023-08-31 02:48:33,355 | server.py:173 | evaluate_round 4: strategy sampled 2 clients (out of 5)\n",
      "DEBUG flwr 2023-08-31 02:48:33,413 | server.py:187 | evaluate_round 4 received 2 results and 0 failures\n",
      "DEBUG flwr 2023-08-31 02:48:33,415 | server.py:222 | fit_round 5: strategy sampled 2 clients (out of 5)\n"
     ]
    },
    {
     "name": "stdout",
     "output_type": "stream",
     "text": [
      "agrregate_fit results list length is  2\n",
      "Saving round 4 aggregated_parameters...\n",
      "agrregate_evaluate results list length is  2\n",
      "server round is  4\n",
      "loss is  3.234750462107209\n"
     ]
    },
    {
     "name": "stderr",
     "output_type": "stream",
     "text": [
      "DEBUG flwr 2023-08-31 02:48:40,835 | server.py:236 | fit_round 5 received 2 results and 0 failures\n",
      "DEBUG flwr 2023-08-31 02:48:40,856 | server.py:173 | evaluate_round 5: strategy sampled 2 clients (out of 5)\n",
      "DEBUG flwr 2023-08-31 02:48:40,904 | server.py:187 | evaluate_round 5 received 2 results and 0 failures\n",
      "DEBUG flwr 2023-08-31 02:48:40,907 | server.py:222 | fit_round 6: strategy sampled 2 clients (out of 5)\n"
     ]
    },
    {
     "name": "stdout",
     "output_type": "stream",
     "text": [
      "agrregate_fit results list length is  2\n",
      "Saving round 5 aggregated_parameters...\n",
      "agrregate_evaluate results list length is  2\n",
      "server round is  5\n",
      "loss is  2.6173752310536043\n"
     ]
    },
    {
     "name": "stderr",
     "output_type": "stream",
     "text": [
      "DEBUG flwr 2023-08-31 02:48:48,353 | server.py:236 | fit_round 6 received 2 results and 0 failures\n",
      "DEBUG flwr 2023-08-31 02:48:48,374 | server.py:173 | evaluate_round 6: strategy sampled 2 clients (out of 5)\n"
     ]
    },
    {
     "name": "stdout",
     "output_type": "stream",
     "text": [
      "agrregate_fit results list length is  2\n",
      "Saving round 6 aggregated_parameters...\n"
     ]
    },
    {
     "name": "stderr",
     "output_type": "stream",
     "text": [
      "DEBUG flwr 2023-08-31 02:48:48,714 | server.py:187 | evaluate_round 6 received 2 results and 0 failures\n",
      "DEBUG flwr 2023-08-31 02:48:48,717 | server.py:222 | fit_round 7: strategy sampled 2 clients (out of 5)\n"
     ]
    },
    {
     "name": "stdout",
     "output_type": "stream",
     "text": [
      "agrregate_evaluate results list length is  2\n",
      "server round is  6\n",
      "loss is  2.4232902033271717\n"
     ]
    },
    {
     "name": "stderr",
     "output_type": "stream",
     "text": [
      "DEBUG flwr 2023-08-31 02:48:50,245 | server.py:236 | fit_round 7 received 2 results and 0 failures\n",
      "DEBUG flwr 2023-08-31 02:48:50,268 | server.py:173 | evaluate_round 7: strategy sampled 2 clients (out of 5)\n",
      "DEBUG flwr 2023-08-31 02:48:50,304 | server.py:187 | evaluate_round 7 received 2 results and 0 failures\n",
      "DEBUG flwr 2023-08-31 02:48:50,305 | server.py:222 | fit_round 8: strategy sampled 2 clients (out of 5)\n"
     ]
    },
    {
     "name": "stdout",
     "output_type": "stream",
     "text": [
      "agrregate_fit results list length is  2\n",
      "Saving round 7 aggregated_parameters...\n",
      "agrregate_evaluate results list length is  2\n",
      "server round is  7\n",
      "loss is  3.353049907578558\n"
     ]
    },
    {
     "name": "stderr",
     "output_type": "stream",
     "text": [
      "DEBUG flwr 2023-08-31 02:48:52,055 | server.py:236 | fit_round 8 received 2 results and 0 failures\n",
      "DEBUG flwr 2023-08-31 02:48:52,081 | server.py:173 | evaluate_round 8: strategy sampled 2 clients (out of 5)\n",
      "DEBUG flwr 2023-08-31 02:48:52,133 | server.py:187 | evaluate_round 8 received 2 results and 0 failures\n",
      "DEBUG flwr 2023-08-31 02:48:52,136 | server.py:222 | fit_round 9: strategy sampled 2 clients (out of 5)\n"
     ]
    },
    {
     "name": "stdout",
     "output_type": "stream",
     "text": [
      "agrregate_fit results list length is  2\n",
      "Saving round 8 aggregated_parameters...\n",
      "agrregate_evaluate results list length is  2\n",
      "server round is  8\n",
      "loss is  2.6155268022181146\n"
     ]
    },
    {
     "name": "stderr",
     "output_type": "stream",
     "text": [
      "DEBUG flwr 2023-08-31 02:48:59,506 | server.py:236 | fit_round 9 received 2 results and 0 failures\n",
      "DEBUG flwr 2023-08-31 02:48:59,523 | server.py:173 | evaluate_round 9: strategy sampled 2 clients (out of 5)\n",
      "DEBUG flwr 2023-08-31 02:48:59,562 | server.py:187 | evaluate_round 9 received 2 results and 0 failures\n",
      "DEBUG flwr 2023-08-31 02:48:59,564 | server.py:222 | fit_round 10: strategy sampled 2 clients (out of 5)\n"
     ]
    },
    {
     "name": "stdout",
     "output_type": "stream",
     "text": [
      "agrregate_fit results list length is  2\n",
      "Saving round 9 aggregated_parameters...\n",
      "agrregate_evaluate results list length is  2\n",
      "server round is  9\n",
      "loss is  2.6284658040665434\n"
     ]
    },
    {
     "name": "stderr",
     "output_type": "stream",
     "text": [
      "DEBUG flwr 2023-08-31 02:49:07,023 | server.py:236 | fit_round 10 received 2 results and 0 failures\n",
      "DEBUG flwr 2023-08-31 02:49:07,042 | server.py:173 | evaluate_round 10: strategy sampled 2 clients (out of 5)\n",
      "DEBUG flwr 2023-08-31 02:49:07,085 | server.py:187 | evaluate_round 10 received 2 results and 0 failures\n",
      "DEBUG flwr 2023-08-31 02:49:07,087 | server.py:222 | fit_round 11: strategy sampled 2 clients (out of 5)\n"
     ]
    },
    {
     "name": "stdout",
     "output_type": "stream",
     "text": [
      "agrregate_fit results list length is  2\n",
      "Saving round 10 aggregated_parameters...\n",
      "agrregate_evaluate results list length is  2\n",
      "server round is  10\n",
      "loss is  2.377079482439926\n"
     ]
    },
    {
     "name": "stderr",
     "output_type": "stream",
     "text": [
      "DEBUG flwr 2023-08-31 02:49:14,178 | server.py:236 | fit_round 11 received 2 results and 0 failures\n",
      "DEBUG flwr 2023-08-31 02:49:14,197 | server.py:173 | evaluate_round 11: strategy sampled 2 clients (out of 5)\n",
      "DEBUG flwr 2023-08-31 02:49:14,248 | server.py:187 | evaluate_round 11 received 2 results and 0 failures\n",
      "DEBUG flwr 2023-08-31 02:49:14,249 | server.py:222 | fit_round 12: strategy sampled 2 clients (out of 5)\n"
     ]
    },
    {
     "name": "stdout",
     "output_type": "stream",
     "text": [
      "agrregate_fit results list length is  2\n",
      "Saving round 11 aggregated_parameters...\n",
      "agrregate_evaluate results list length is  2\n",
      "server round is  11\n",
      "loss is  2.33456561922366\n"
     ]
    },
    {
     "name": "stderr",
     "output_type": "stream",
     "text": [
      "DEBUG flwr 2023-08-31 02:49:21,351 | server.py:236 | fit_round 12 received 2 results and 0 failures\n",
      "DEBUG flwr 2023-08-31 02:49:21,372 | server.py:173 | evaluate_round 12: strategy sampled 2 clients (out of 5)\n",
      "DEBUG flwr 2023-08-31 02:49:21,416 | server.py:187 | evaluate_round 12 received 2 results and 0 failures\n",
      "DEBUG flwr 2023-08-31 02:49:21,419 | server.py:222 | fit_round 13: strategy sampled 2 clients (out of 5)\n"
     ]
    },
    {
     "name": "stdout",
     "output_type": "stream",
     "text": [
      "agrregate_fit results list length is  2\n",
      "Saving round 12 aggregated_parameters...\n",
      "agrregate_evaluate results list length is  2\n",
      "server round is  12\n",
      "loss is  2.1219963031423292\n"
     ]
    },
    {
     "name": "stderr",
     "output_type": "stream",
     "text": [
      "DEBUG flwr 2023-08-31 02:49:23,088 | server.py:236 | fit_round 13 received 2 results and 0 failures\n",
      "DEBUG flwr 2023-08-31 02:49:23,116 | server.py:173 | evaluate_round 13: strategy sampled 2 clients (out of 5)\n",
      "DEBUG flwr 2023-08-31 02:49:23,170 | server.py:187 | evaluate_round 13 received 2 results and 0 failures\n",
      "DEBUG flwr 2023-08-31 02:49:23,172 | server.py:222 | fit_round 14: strategy sampled 2 clients (out of 5)\n"
     ]
    },
    {
     "name": "stdout",
     "output_type": "stream",
     "text": [
      "agrregate_fit results list length is  2\n",
      "Saving round 13 aggregated_parameters...\n",
      "agrregate_evaluate results list length is  2\n",
      "server round is  13\n",
      "loss is  2.4565619223659887\n"
     ]
    },
    {
     "name": "stderr",
     "output_type": "stream",
     "text": [
      "DEBUG flwr 2023-08-31 02:49:31,457 | server.py:236 | fit_round 14 received 2 results and 0 failures\n",
      "DEBUG flwr 2023-08-31 02:49:31,476 | server.py:173 | evaluate_round 14: strategy sampled 2 clients (out of 5)\n",
      "DEBUG flwr 2023-08-31 02:49:31,517 | server.py:187 | evaluate_round 14 received 2 results and 0 failures\n",
      "DEBUG flwr 2023-08-31 02:49:31,519 | server.py:222 | fit_round 15: strategy sampled 2 clients (out of 5)\n"
     ]
    },
    {
     "name": "stdout",
     "output_type": "stream",
     "text": [
      "agrregate_fit results list length is  2\n",
      "Saving round 14 aggregated_parameters...\n",
      "agrregate_evaluate results list length is  2\n",
      "server round is  14\n",
      "loss is  2.0628465804066543\n"
     ]
    },
    {
     "name": "stderr",
     "output_type": "stream",
     "text": [
      "DEBUG flwr 2023-08-31 02:49:32,990 | server.py:236 | fit_round 15 received 2 results and 0 failures\n",
      "DEBUG flwr 2023-08-31 02:49:33,017 | server.py:173 | evaluate_round 15: strategy sampled 2 clients (out of 5)\n",
      "DEBUG flwr 2023-08-31 02:49:33,081 | server.py:187 | evaluate_round 15 received 2 results and 0 failures\n",
      "DEBUG flwr 2023-08-31 02:49:33,084 | server.py:222 | fit_round 16: strategy sampled 2 clients (out of 5)\n"
     ]
    },
    {
     "name": "stdout",
     "output_type": "stream",
     "text": [
      "agrregate_fit results list length is  2\n",
      "Saving round 15 aggregated_parameters...\n",
      "agrregate_evaluate results list length is  2\n",
      "server round is  15\n",
      "loss is  2.454713493530499\n"
     ]
    },
    {
     "name": "stderr",
     "output_type": "stream",
     "text": [
      "DEBUG flwr 2023-08-31 02:49:40,825 | server.py:236 | fit_round 16 received 2 results and 0 failures\n",
      "DEBUG flwr 2023-08-31 02:49:40,843 | server.py:173 | evaluate_round 16: strategy sampled 2 clients (out of 5)\n",
      "DEBUG flwr 2023-08-31 02:49:40,883 | server.py:187 | evaluate_round 16 received 2 results and 0 failures\n",
      "DEBUG flwr 2023-08-31 02:49:40,885 | server.py:222 | fit_round 17: strategy sampled 2 clients (out of 5)\n"
     ]
    },
    {
     "name": "stdout",
     "output_type": "stream",
     "text": [
      "agrregate_fit results list length is  2\n",
      "Saving round 16 aggregated_parameters...\n",
      "agrregate_evaluate results list length is  2\n",
      "server round is  16\n",
      "loss is  2.3826247689463957\n"
     ]
    },
    {
     "name": "stderr",
     "output_type": "stream",
     "text": [
      "DEBUG flwr 2023-08-31 02:49:42,707 | server.py:236 | fit_round 17 received 2 results and 0 failures\n",
      "DEBUG flwr 2023-08-31 02:49:42,733 | server.py:173 | evaluate_round 17: strategy sampled 2 clients (out of 5)\n",
      "DEBUG flwr 2023-08-31 02:49:42,778 | server.py:187 | evaluate_round 17 received 2 results and 0 failures\n",
      "DEBUG flwr 2023-08-31 02:49:42,780 | server.py:222 | fit_round 18: strategy sampled 2 clients (out of 5)\n"
     ]
    },
    {
     "name": "stdout",
     "output_type": "stream",
     "text": [
      "agrregate_fit results list length is  2\n",
      "Saving round 17 aggregated_parameters...\n",
      "agrregate_evaluate results list length is  2\n",
      "server round is  17\n",
      "loss is  2.4269870609981514\n"
     ]
    },
    {
     "name": "stderr",
     "output_type": "stream",
     "text": [
      "DEBUG flwr 2023-08-31 02:49:44,573 | server.py:236 | fit_round 18 received 2 results and 0 failures\n",
      "DEBUG flwr 2023-08-31 02:49:44,597 | server.py:173 | evaluate_round 18: strategy sampled 2 clients (out of 5)\n",
      "DEBUG flwr 2023-08-31 02:49:44,650 | server.py:187 | evaluate_round 18 received 2 results and 0 failures\n",
      "DEBUG flwr 2023-08-31 02:49:44,653 | server.py:222 | fit_round 19: strategy sampled 2 clients (out of 5)\n"
     ]
    },
    {
     "name": "stdout",
     "output_type": "stream",
     "text": [
      "agrregate_fit results list length is  2\n",
      "Saving round 18 aggregated_parameters...\n",
      "agrregate_evaluate results list length is  2\n",
      "server round is  18\n",
      "loss is  2.1811460258780038\n"
     ]
    },
    {
     "name": "stderr",
     "output_type": "stream",
     "text": [
      "DEBUG flwr 2023-08-31 02:49:51,936 | server.py:236 | fit_round 19 received 2 results and 0 failures\n",
      "DEBUG flwr 2023-08-31 02:49:51,960 | server.py:173 | evaluate_round 19: strategy sampled 2 clients (out of 5)\n",
      "DEBUG flwr 2023-08-31 02:49:51,998 | server.py:187 | evaluate_round 19 received 2 results and 0 failures\n",
      "DEBUG flwr 2023-08-31 02:49:52,000 | server.py:222 | fit_round 20: strategy sampled 2 clients (out of 5)\n"
     ]
    },
    {
     "name": "stdout",
     "output_type": "stream",
     "text": [
      "agrregate_fit results list length is  2\n",
      "Saving round 19 aggregated_parameters...\n",
      "agrregate_evaluate results list length is  2\n",
      "server round is  19\n",
      "loss is  2.1497227356746764\n"
     ]
    },
    {
     "name": "stderr",
     "output_type": "stream",
     "text": [
      "DEBUG flwr 2023-08-31 02:49:53,560 | server.py:236 | fit_round 20 received 2 results and 0 failures\n",
      "DEBUG flwr 2023-08-31 02:49:53,588 | server.py:173 | evaluate_round 20: strategy sampled 2 clients (out of 5)\n",
      "DEBUG flwr 2023-08-31 02:49:53,638 | server.py:187 | evaluate_round 20 received 2 results and 0 failures\n",
      "DEBUG flwr 2023-08-31 02:49:53,640 | server.py:222 | fit_round 21: strategy sampled 2 clients (out of 5)\n"
     ]
    },
    {
     "name": "stdout",
     "output_type": "stream",
     "text": [
      "agrregate_fit results list length is  2\n",
      "Saving round 20 aggregated_parameters...\n",
      "agrregate_evaluate results list length is  2\n",
      "server round is  20\n",
      "loss is  2.5083179297597042\n"
     ]
    },
    {
     "name": "stderr",
     "output_type": "stream",
     "text": [
      "DEBUG flwr 2023-08-31 02:49:55,482 | server.py:236 | fit_round 21 received 2 results and 0 failures\n",
      "DEBUG flwr 2023-08-31 02:49:55,503 | server.py:173 | evaluate_round 21: strategy sampled 2 clients (out of 5)\n",
      "DEBUG flwr 2023-08-31 02:49:55,547 | server.py:187 | evaluate_round 21 received 2 results and 0 failures\n",
      "DEBUG flwr 2023-08-31 02:49:55,549 | server.py:222 | fit_round 22: strategy sampled 2 clients (out of 5)\n"
     ]
    },
    {
     "name": "stdout",
     "output_type": "stream",
     "text": [
      "agrregate_fit results list length is  2\n",
      "Saving round 21 aggregated_parameters...\n",
      "agrregate_evaluate results list length is  2\n",
      "server round is  21\n",
      "loss is  2.578558225508318\n"
     ]
    },
    {
     "name": "stderr",
     "output_type": "stream",
     "text": [
      "DEBUG flwr 2023-08-31 02:49:57,524 | server.py:236 | fit_round 22 received 2 results and 0 failures\n",
      "DEBUG flwr 2023-08-31 02:49:57,554 | server.py:173 | evaluate_round 22: strategy sampled 2 clients (out of 5)\n",
      "DEBUG flwr 2023-08-31 02:49:57,597 | server.py:187 | evaluate_round 22 received 2 results and 0 failures\n",
      "DEBUG flwr 2023-08-31 02:49:57,598 | server.py:222 | fit_round 23: strategy sampled 2 clients (out of 5)\n"
     ]
    },
    {
     "name": "stdout",
     "output_type": "stream",
     "text": [
      "agrregate_fit results list length is  2\n",
      "Saving round 22 aggregated_parameters...\n",
      "agrregate_evaluate results list length is  2\n",
      "server round is  22\n",
      "loss is  2.6931608133086877\n"
     ]
    },
    {
     "name": "stderr",
     "output_type": "stream",
     "text": [
      "DEBUG flwr 2023-08-31 02:50:05,005 | server.py:236 | fit_round 23 received 2 results and 0 failures\n",
      "DEBUG flwr 2023-08-31 02:50:05,023 | server.py:173 | evaluate_round 23: strategy sampled 2 clients (out of 5)\n",
      "DEBUG flwr 2023-08-31 02:50:05,063 | server.py:187 | evaluate_round 23 received 2 results and 0 failures\n",
      "DEBUG flwr 2023-08-31 02:50:05,065 | server.py:222 | fit_round 24: strategy sampled 2 clients (out of 5)\n"
     ]
    },
    {
     "name": "stdout",
     "output_type": "stream",
     "text": [
      "agrregate_fit results list length is  2\n",
      "Saving round 23 aggregated_parameters...\n",
      "agrregate_evaluate results list length is  2\n",
      "server round is  23\n",
      "loss is  1.9741219963031422\n"
     ]
    },
    {
     "name": "stderr",
     "output_type": "stream",
     "text": [
      "DEBUG flwr 2023-08-31 02:50:12,466 | server.py:236 | fit_round 24 received 2 results and 0 failures\n",
      "DEBUG flwr 2023-08-31 02:50:12,487 | server.py:173 | evaluate_round 24: strategy sampled 2 clients (out of 5)\n",
      "DEBUG flwr 2023-08-31 02:50:12,525 | server.py:187 | evaluate_round 24 received 2 results and 0 failures\n",
      "DEBUG flwr 2023-08-31 02:50:12,526 | server.py:222 | fit_round 25: strategy sampled 2 clients (out of 5)\n"
     ]
    },
    {
     "name": "stdout",
     "output_type": "stream",
     "text": [
      "agrregate_fit results list length is  2\n",
      "Saving round 24 aggregated_parameters...\n",
      "agrregate_evaluate results list length is  2\n",
      "server round is  24\n",
      "loss is  2.0406654343807764\n"
     ]
    },
    {
     "name": "stderr",
     "output_type": "stream",
     "text": [
      "DEBUG flwr 2023-08-31 02:50:21,048 | server.py:236 | fit_round 25 received 2 results and 0 failures\n",
      "DEBUG flwr 2023-08-31 02:50:21,072 | server.py:173 | evaluate_round 25: strategy sampled 2 clients (out of 5)\n",
      "DEBUG flwr 2023-08-31 02:50:21,116 | server.py:187 | evaluate_round 25 received 2 results and 0 failures\n",
      "DEBUG flwr 2023-08-31 02:50:21,117 | server.py:222 | fit_round 26: strategy sampled 2 clients (out of 5)\n"
     ]
    },
    {
     "name": "stdout",
     "output_type": "stream",
     "text": [
      "agrregate_fit results list length is  2\n",
      "Saving round 25 aggregated_parameters...\n",
      "agrregate_evaluate results list length is  2\n",
      "server round is  25\n",
      "loss is  2.0831792975970425\n"
     ]
    },
    {
     "name": "stderr",
     "output_type": "stream",
     "text": [
      "DEBUG flwr 2023-08-31 02:50:22,992 | server.py:236 | fit_round 26 received 2 results and 0 failures\n",
      "DEBUG flwr 2023-08-31 02:50:23,024 | server.py:173 | evaluate_round 26: strategy sampled 2 clients (out of 5)\n",
      "DEBUG flwr 2023-08-31 02:50:23,075 | server.py:187 | evaluate_round 26 received 2 results and 0 failures\n",
      "DEBUG flwr 2023-08-31 02:50:23,077 | server.py:222 | fit_round 27: strategy sampled 2 clients (out of 5)\n"
     ]
    },
    {
     "name": "stdout",
     "output_type": "stream",
     "text": [
      "agrregate_fit results list length is  2\n",
      "Saving round 26 aggregated_parameters...\n",
      "agrregate_evaluate results list length is  2\n",
      "server round is  26\n",
      "loss is  2.1811460258780038\n"
     ]
    },
    {
     "name": "stderr",
     "output_type": "stream",
     "text": [
      "DEBUG flwr 2023-08-31 02:50:30,406 | server.py:236 | fit_round 27 received 2 results and 0 failures\n",
      "DEBUG flwr 2023-08-31 02:50:30,425 | server.py:173 | evaluate_round 27: strategy sampled 2 clients (out of 5)\n",
      "DEBUG flwr 2023-08-31 02:50:30,462 | server.py:187 | evaluate_round 27 received 2 results and 0 failures\n",
      "DEBUG flwr 2023-08-31 02:50:30,464 | server.py:222 | fit_round 28: strategy sampled 2 clients (out of 5)\n"
     ]
    },
    {
     "name": "stdout",
     "output_type": "stream",
     "text": [
      "agrregate_fit results list length is  2\n",
      "Saving round 27 aggregated_parameters...\n",
      "agrregate_evaluate results list length is  2\n",
      "server round is  27\n",
      "loss is  2.123844731977819\n"
     ]
    },
    {
     "name": "stderr",
     "output_type": "stream",
     "text": [
      "DEBUG flwr 2023-08-31 02:50:32,093 | server.py:236 | fit_round 28 received 2 results and 0 failures\n",
      "DEBUG flwr 2023-08-31 02:50:32,117 | server.py:173 | evaluate_round 28: strategy sampled 2 clients (out of 5)\n",
      "DEBUG flwr 2023-08-31 02:50:32,170 | server.py:187 | evaluate_round 28 received 2 results and 0 failures\n",
      "DEBUG flwr 2023-08-31 02:50:32,173 | server.py:222 | fit_round 29: strategy sampled 2 clients (out of 5)\n"
     ]
    },
    {
     "name": "stdout",
     "output_type": "stream",
     "text": [
      "agrregate_fit results list length is  2\n",
      "Saving round 28 aggregated_parameters...\n",
      "agrregate_evaluate results list length is  2\n",
      "server round is  28\n",
      "loss is  2.0924214417744915\n"
     ]
    },
    {
     "name": "stderr",
     "output_type": "stream",
     "text": [
      "DEBUG flwr 2023-08-31 02:50:33,788 | server.py:236 | fit_round 29 received 2 results and 0 failures\n",
      "DEBUG flwr 2023-08-31 02:50:33,810 | server.py:173 | evaluate_round 29: strategy sampled 2 clients (out of 5)\n",
      "DEBUG flwr 2023-08-31 02:50:33,852 | server.py:187 | evaluate_round 29 received 2 results and 0 failures\n",
      "DEBUG flwr 2023-08-31 02:50:33,853 | server.py:222 | fit_round 30: strategy sampled 2 clients (out of 5)\n"
     ]
    },
    {
     "name": "stdout",
     "output_type": "stream",
     "text": [
      "agrregate_fit results list length is  2\n",
      "Saving round 29 aggregated_parameters...\n",
      "agrregate_evaluate results list length is  2\n",
      "server round is  29\n",
      "loss is  2.487985212569316\n"
     ]
    },
    {
     "name": "stderr",
     "output_type": "stream",
     "text": [
      "DEBUG flwr 2023-08-31 02:50:35,712 | server.py:236 | fit_round 30 received 2 results and 0 failures\n",
      "DEBUG flwr 2023-08-31 02:50:35,733 | server.py:173 | evaluate_round 30: strategy sampled 2 clients (out of 5)\n",
      "DEBUG flwr 2023-08-31 02:50:35,779 | server.py:187 | evaluate_round 30 received 2 results and 0 failures\n",
      "DEBUG flwr 2023-08-31 02:50:35,780 | server.py:222 | fit_round 31: strategy sampled 2 clients (out of 5)\n"
     ]
    },
    {
     "name": "stdout",
     "output_type": "stream",
     "text": [
      "agrregate_fit results list length is  2\n",
      "Saving round 30 aggregated_parameters...\n",
      "agrregate_evaluate results list length is  2\n",
      "server round is  30\n",
      "loss is  2.33456561922366\n"
     ]
    },
    {
     "name": "stderr",
     "output_type": "stream",
     "text": [
      "DEBUG flwr 2023-08-31 02:50:43,116 | server.py:236 | fit_round 31 received 2 results and 0 failures\n",
      "DEBUG flwr 2023-08-31 02:50:43,135 | server.py:173 | evaluate_round 31: strategy sampled 2 clients (out of 5)\n",
      "DEBUG flwr 2023-08-31 02:50:43,169 | server.py:187 | evaluate_round 31 received 2 results and 0 failures\n",
      "DEBUG flwr 2023-08-31 02:50:43,170 | server.py:222 | fit_round 32: strategy sampled 2 clients (out of 5)\n"
     ]
    },
    {
     "name": "stdout",
     "output_type": "stream",
     "text": [
      "agrregate_fit results list length is  2\n",
      "Saving round 31 aggregated_parameters...\n",
      "agrregate_evaluate results list length is  2\n",
      "server round is  31\n",
      "loss is  2.1090573012939\n"
     ]
    },
    {
     "name": "stderr",
     "output_type": "stream",
     "text": [
      "DEBUG flwr 2023-08-31 02:50:44,863 | server.py:236 | fit_round 32 received 2 results and 0 failures\n",
      "DEBUG flwr 2023-08-31 02:50:44,887 | server.py:173 | evaluate_round 32: strategy sampled 2 clients (out of 5)\n",
      "DEBUG flwr 2023-08-31 02:50:44,925 | server.py:187 | evaluate_round 32 received 2 results and 0 failures\n",
      "DEBUG flwr 2023-08-31 02:50:44,926 | server.py:222 | fit_round 33: strategy sampled 2 clients (out of 5)\n"
     ]
    },
    {
     "name": "stdout",
     "output_type": "stream",
     "text": [
      "agrregate_fit results list length is  2\n",
      "Saving round 32 aggregated_parameters...\n",
      "agrregate_evaluate results list length is  2\n",
      "server round is  32\n",
      "loss is  2.3364140480591495\n"
     ]
    },
    {
     "name": "stderr",
     "output_type": "stream",
     "text": [
      "DEBUG flwr 2023-08-31 02:50:52,010 | server.py:236 | fit_round 33 received 2 results and 0 failures\n",
      "DEBUG flwr 2023-08-31 02:50:52,033 | server.py:173 | evaluate_round 33: strategy sampled 2 clients (out of 5)\n",
      "DEBUG flwr 2023-08-31 02:50:52,070 | server.py:187 | evaluate_round 33 received 2 results and 0 failures\n",
      "DEBUG flwr 2023-08-31 02:50:52,072 | server.py:222 | fit_round 34: strategy sampled 2 clients (out of 5)\n"
     ]
    },
    {
     "name": "stdout",
     "output_type": "stream",
     "text": [
      "agrregate_fit results list length is  2\n",
      "Saving round 33 aggregated_parameters...\n",
      "agrregate_evaluate results list length is  2\n",
      "server round is  33\n",
      "loss is  2.1090573012939\n"
     ]
    },
    {
     "name": "stderr",
     "output_type": "stream",
     "text": [
      "DEBUG flwr 2023-08-31 02:50:53,656 | server.py:236 | fit_round 34 received 2 results and 0 failures\n",
      "DEBUG flwr 2023-08-31 02:50:53,678 | server.py:173 | evaluate_round 34: strategy sampled 2 clients (out of 5)\n",
      "DEBUG flwr 2023-08-31 02:50:53,727 | server.py:187 | evaluate_round 34 received 2 results and 0 failures\n",
      "DEBUG flwr 2023-08-31 02:50:53,729 | server.py:222 | fit_round 35: strategy sampled 2 clients (out of 5)\n"
     ]
    },
    {
     "name": "stdout",
     "output_type": "stream",
     "text": [
      "agrregate_fit results list length is  2\n",
      "Saving round 34 aggregated_parameters...\n",
      "agrregate_evaluate results list length is  2\n",
      "server round is  34\n",
      "loss is  2.436229205175601\n"
     ]
    },
    {
     "name": "stderr",
     "output_type": "stream",
     "text": [
      "DEBUG flwr 2023-08-31 02:50:55,256 | server.py:236 | fit_round 35 received 2 results and 0 failures\n",
      "DEBUG flwr 2023-08-31 02:50:55,280 | server.py:173 | evaluate_round 35: strategy sampled 2 clients (out of 5)\n",
      "DEBUG flwr 2023-08-31 02:50:55,330 | server.py:187 | evaluate_round 35 received 2 results and 0 failures\n",
      "DEBUG flwr 2023-08-31 02:50:55,333 | server.py:222 | fit_round 36: strategy sampled 2 clients (out of 5)\n"
     ]
    },
    {
     "name": "stdout",
     "output_type": "stream",
     "text": [
      "agrregate_fit results list length is  2\n",
      "Saving round 35 aggregated_parameters...\n",
      "agrregate_evaluate results list length is  2\n",
      "server round is  35\n",
      "loss is  2.3364140480591495\n"
     ]
    },
    {
     "name": "stderr",
     "output_type": "stream",
     "text": [
      "DEBUG flwr 2023-08-31 02:50:57,014 | server.py:236 | fit_round 36 received 2 results and 0 failures\n",
      "DEBUG flwr 2023-08-31 02:50:57,043 | server.py:173 | evaluate_round 36: strategy sampled 2 clients (out of 5)\n",
      "DEBUG flwr 2023-08-31 02:50:57,085 | server.py:187 | evaluate_round 36 received 2 results and 0 failures\n",
      "DEBUG flwr 2023-08-31 02:50:57,087 | server.py:222 | fit_round 37: strategy sampled 2 clients (out of 5)\n"
     ]
    },
    {
     "name": "stdout",
     "output_type": "stream",
     "text": [
      "agrregate_fit results list length is  2\n",
      "Saving round 36 aggregated_parameters...\n",
      "agrregate_evaluate results list length is  2\n",
      "server round is  36\n",
      "loss is  2.253234750462107\n"
     ]
    },
    {
     "name": "stderr",
     "output_type": "stream",
     "text": [
      "DEBUG flwr 2023-08-31 02:50:59,027 | server.py:236 | fit_round 37 received 2 results and 0 failures\n",
      "DEBUG flwr 2023-08-31 02:50:59,051 | server.py:173 | evaluate_round 37: strategy sampled 2 clients (out of 5)\n",
      "DEBUG flwr 2023-08-31 02:50:59,096 | server.py:187 | evaluate_round 37 received 2 results and 0 failures\n",
      "DEBUG flwr 2023-08-31 02:50:59,098 | server.py:222 | fit_round 38: strategy sampled 2 clients (out of 5)\n"
     ]
    },
    {
     "name": "stdout",
     "output_type": "stream",
     "text": [
      "agrregate_fit results list length is  2\n",
      "Saving round 37 aggregated_parameters...\n",
      "agrregate_evaluate results list length is  2\n",
      "server round is  37\n",
      "loss is  2.499075785582255\n"
     ]
    },
    {
     "name": "stderr",
     "output_type": "stream",
     "text": [
      "DEBUG flwr 2023-08-31 02:51:00,905 | server.py:236 | fit_round 38 received 2 results and 0 failures\n",
      "DEBUG flwr 2023-08-31 02:51:00,928 | server.py:173 | evaluate_round 38: strategy sampled 2 clients (out of 5)\n",
      "DEBUG flwr 2023-08-31 02:51:00,978 | server.py:187 | evaluate_round 38 received 2 results and 0 failures\n",
      "DEBUG flwr 2023-08-31 02:51:00,980 | server.py:222 | fit_round 39: strategy sampled 2 clients (out of 5)\n"
     ]
    },
    {
     "name": "stdout",
     "output_type": "stream",
     "text": [
      "agrregate_fit results list length is  2\n",
      "Saving round 38 aggregated_parameters...\n",
      "agrregate_evaluate results list length is  2\n",
      "server round is  38\n",
      "loss is  2.9260628465804066\n"
     ]
    },
    {
     "name": "stderr",
     "output_type": "stream",
     "text": [
      "DEBUG flwr 2023-08-31 02:51:02,931 | server.py:236 | fit_round 39 received 2 results and 0 failures\n",
      "DEBUG flwr 2023-08-31 02:51:02,953 | server.py:173 | evaluate_round 39: strategy sampled 2 clients (out of 5)\n",
      "DEBUG flwr 2023-08-31 02:51:02,994 | server.py:187 | evaluate_round 39 received 2 results and 0 failures\n",
      "DEBUG flwr 2023-08-31 02:51:02,995 | server.py:222 | fit_round 40: strategy sampled 2 clients (out of 5)\n"
     ]
    },
    {
     "name": "stdout",
     "output_type": "stream",
     "text": [
      "agrregate_fit results list length is  2\n",
      "Saving round 39 aggregated_parameters...\n",
      "agrregate_evaluate results list length is  2\n",
      "server round is  39\n",
      "loss is  2.301293900184843\n"
     ]
    },
    {
     "name": "stderr",
     "output_type": "stream",
     "text": [
      "DEBUG flwr 2023-08-31 02:51:05,022 | server.py:236 | fit_round 40 received 2 results and 0 failures\n",
      "DEBUG flwr 2023-08-31 02:51:05,059 | server.py:173 | evaluate_round 40: strategy sampled 2 clients (out of 5)\n",
      "DEBUG flwr 2023-08-31 02:51:05,117 | server.py:187 | evaluate_round 40 received 2 results and 0 failures\n",
      "DEBUG flwr 2023-08-31 02:51:05,119 | server.py:222 | fit_round 41: strategy sampled 2 clients (out of 5)\n"
     ]
    },
    {
     "name": "stdout",
     "output_type": "stream",
     "text": [
      "agrregate_fit results list length is  2\n",
      "Saving round 40 aggregated_parameters...\n",
      "agrregate_evaluate results list length is  2\n",
      "server round is  40\n",
      "loss is  2.177449168207024\n"
     ]
    },
    {
     "name": "stderr",
     "output_type": "stream",
     "text": [
      "DEBUG flwr 2023-08-31 02:51:07,311 | server.py:236 | fit_round 41 received 2 results and 0 failures\n",
      "DEBUG flwr 2023-08-31 02:51:07,337 | server.py:173 | evaluate_round 41: strategy sampled 2 clients (out of 5)\n",
      "DEBUG flwr 2023-08-31 02:51:07,393 | server.py:187 | evaluate_round 41 received 2 results and 0 failures\n",
      "DEBUG flwr 2023-08-31 02:51:07,395 | server.py:222 | fit_round 42: strategy sampled 2 clients (out of 5)\n"
     ]
    },
    {
     "name": "stdout",
     "output_type": "stream",
     "text": [
      "agrregate_fit results list length is  2\n",
      "Saving round 41 aggregated_parameters...\n",
      "agrregate_evaluate results list length is  2\n",
      "server round is  41\n",
      "loss is  2.319778188539741\n"
     ]
    },
    {
     "name": "stderr",
     "output_type": "stream",
     "text": [
      "DEBUG flwr 2023-08-31 02:51:09,133 | server.py:236 | fit_round 42 received 2 results and 0 failures\n",
      "DEBUG flwr 2023-08-31 02:51:09,159 | server.py:173 | evaluate_round 42: strategy sampled 2 clients (out of 5)\n",
      "DEBUG flwr 2023-08-31 02:51:09,206 | server.py:187 | evaluate_round 42 received 2 results and 0 failures\n",
      "DEBUG flwr 2023-08-31 02:51:09,207 | server.py:222 | fit_round 43: strategy sampled 2 clients (out of 5)\n"
     ]
    },
    {
     "name": "stdout",
     "output_type": "stream",
     "text": [
      "agrregate_fit results list length is  2\n",
      "Saving round 42 aggregated_parameters...\n",
      "agrregate_evaluate results list length is  2\n",
      "server round is  42\n",
      "loss is  2.201478743068392\n"
     ]
    },
    {
     "name": "stderr",
     "output_type": "stream",
     "text": [
      "DEBUG flwr 2023-08-31 02:51:16,708 | server.py:236 | fit_round 43 received 2 results and 0 failures\n",
      "DEBUG flwr 2023-08-31 02:51:16,730 | server.py:173 | evaluate_round 43: strategy sampled 2 clients (out of 5)\n",
      "DEBUG flwr 2023-08-31 02:51:16,769 | server.py:187 | evaluate_round 43 received 2 results and 0 failures\n",
      "DEBUG flwr 2023-08-31 02:51:16,770 | server.py:222 | fit_round 44: strategy sampled 2 clients (out of 5)\n"
     ]
    },
    {
     "name": "stdout",
     "output_type": "stream",
     "text": [
      "agrregate_fit results list length is  2\n",
      "Saving round 43 aggregated_parameters...\n",
      "agrregate_evaluate results list length is  2\n",
      "server round is  43\n",
      "loss is  2.024029574861368\n"
     ]
    },
    {
     "name": "stderr",
     "output_type": "stream",
     "text": [
      "DEBUG flwr 2023-08-31 02:51:24,087 | server.py:236 | fit_round 44 received 2 results and 0 failures\n",
      "DEBUG flwr 2023-08-31 02:51:24,109 | server.py:173 | evaluate_round 44: strategy sampled 2 clients (out of 5)\n",
      "DEBUG flwr 2023-08-31 02:51:24,153 | server.py:187 | evaluate_round 44 received 2 results and 0 failures\n",
      "DEBUG flwr 2023-08-31 02:51:24,154 | server.py:222 | fit_round 45: strategy sampled 2 clients (out of 5)\n"
     ]
    },
    {
     "name": "stdout",
     "output_type": "stream",
     "text": [
      "agrregate_fit results list length is  2\n",
      "Saving round 44 aggregated_parameters...\n",
      "agrregate_evaluate results list length is  2\n",
      "server round is  44\n",
      "loss is  1.9981515711645101\n"
     ]
    },
    {
     "name": "stderr",
     "output_type": "stream",
     "text": [
      "DEBUG flwr 2023-08-31 02:51:25,877 | server.py:236 | fit_round 45 received 2 results and 0 failures\n",
      "DEBUG flwr 2023-08-31 02:51:25,899 | server.py:173 | evaluate_round 45: strategy sampled 2 clients (out of 5)\n",
      "DEBUG flwr 2023-08-31 02:51:25,943 | server.py:187 | evaluate_round 45 received 2 results and 0 failures\n",
      "DEBUG flwr 2023-08-31 02:51:25,945 | server.py:222 | fit_round 46: strategy sampled 2 clients (out of 5)\n"
     ]
    },
    {
     "name": "stdout",
     "output_type": "stream",
     "text": [
      "agrregate_fit results list length is  2\n",
      "Saving round 45 aggregated_parameters...\n",
      "agrregate_evaluate results list length is  2\n",
      "server round is  45\n",
      "loss is  2.1072088724584104\n"
     ]
    },
    {
     "name": "stderr",
     "output_type": "stream",
     "text": [
      "DEBUG flwr 2023-08-31 02:51:33,089 | server.py:236 | fit_round 46 received 2 results and 0 failures\n",
      "DEBUG flwr 2023-08-31 02:51:33,108 | server.py:173 | evaluate_round 46: strategy sampled 2 clients (out of 5)\n",
      "DEBUG flwr 2023-08-31 02:51:33,145 | server.py:187 | evaluate_round 46 received 2 results and 0 failures\n",
      "DEBUG flwr 2023-08-31 02:51:33,146 | server.py:222 | fit_round 47: strategy sampled 2 clients (out of 5)\n"
     ]
    },
    {
     "name": "stdout",
     "output_type": "stream",
     "text": [
      "agrregate_fit results list length is  2\n",
      "Saving round 46 aggregated_parameters...\n",
      "agrregate_evaluate results list length is  2\n",
      "server round is  46\n",
      "loss is  2.290203327171904\n"
     ]
    },
    {
     "name": "stderr",
     "output_type": "stream",
     "text": [
      "DEBUG flwr 2023-08-31 02:51:40,539 | server.py:236 | fit_round 47 received 2 results and 0 failures\n",
      "DEBUG flwr 2023-08-31 02:51:40,557 | server.py:173 | evaluate_round 47: strategy sampled 2 clients (out of 5)\n",
      "DEBUG flwr 2023-08-31 02:51:40,594 | server.py:187 | evaluate_round 47 received 2 results and 0 failures\n",
      "DEBUG flwr 2023-08-31 02:51:40,596 | server.py:222 | fit_round 48: strategy sampled 2 clients (out of 5)\n"
     ]
    },
    {
     "name": "stdout",
     "output_type": "stream",
     "text": [
      "agrregate_fit results list length is  2\n",
      "Saving round 47 aggregated_parameters...\n",
      "agrregate_evaluate results list length is  2\n",
      "server round is  47\n",
      "loss is  2.2125693160813307\n"
     ]
    },
    {
     "name": "stderr",
     "output_type": "stream",
     "text": [
      "DEBUG flwr 2023-08-31 02:51:47,762 | server.py:236 | fit_round 48 received 2 results and 0 failures\n",
      "DEBUG flwr 2023-08-31 02:51:47,785 | server.py:173 | evaluate_round 48: strategy sampled 2 clients (out of 5)\n",
      "DEBUG flwr 2023-08-31 02:51:47,822 | server.py:187 | evaluate_round 48 received 2 results and 0 failures\n",
      "DEBUG flwr 2023-08-31 02:51:47,824 | server.py:222 | fit_round 49: strategy sampled 2 clients (out of 5)\n"
     ]
    },
    {
     "name": "stdout",
     "output_type": "stream",
     "text": [
      "agrregate_fit results list length is  2\n",
      "Saving round 48 aggregated_parameters...\n",
      "agrregate_evaluate results list length is  2\n",
      "server round is  48\n",
      "loss is  2.1737523105360443\n"
     ]
    },
    {
     "name": "stderr",
     "output_type": "stream",
     "text": [
      "DEBUG flwr 2023-08-31 02:51:55,767 | server.py:236 | fit_round 49 received 2 results and 0 failures\n",
      "DEBUG flwr 2023-08-31 02:51:55,789 | server.py:173 | evaluate_round 49: strategy sampled 2 clients (out of 5)\n",
      "DEBUG flwr 2023-08-31 02:51:55,831 | server.py:187 | evaluate_round 49 received 2 results and 0 failures\n",
      "DEBUG flwr 2023-08-31 02:51:55,833 | server.py:222 | fit_round 50: strategy sampled 2 clients (out of 5)\n"
     ]
    },
    {
     "name": "stdout",
     "output_type": "stream",
     "text": [
      "agrregate_fit results list length is  2\n",
      "Saving round 49 aggregated_parameters...\n",
      "agrregate_evaluate results list length is  2\n",
      "server round is  49\n",
      "loss is  2.0166358595194085\n"
     ]
    },
    {
     "name": "stderr",
     "output_type": "stream",
     "text": [
      "DEBUG flwr 2023-08-31 02:51:57,784 | server.py:236 | fit_round 50 received 2 results and 0 failures\n",
      "DEBUG flwr 2023-08-31 02:51:57,806 | server.py:173 | evaluate_round 50: strategy sampled 2 clients (out of 5)\n",
      "DEBUG flwr 2023-08-31 02:51:57,854 | server.py:187 | evaluate_round 50 received 2 results and 0 failures\n",
      "DEBUG flwr 2023-08-31 02:51:57,855 | server.py:222 | fit_round 51: strategy sampled 2 clients (out of 5)\n"
     ]
    },
    {
     "name": "stdout",
     "output_type": "stream",
     "text": [
      "agrregate_fit results list length is  2\n",
      "Saving round 50 aggregated_parameters...\n",
      "agrregate_evaluate results list length is  2\n",
      "server round is  50\n",
      "loss is  2.0277264325323476\n"
     ]
    },
    {
     "name": "stderr",
     "output_type": "stream",
     "text": [
      "DEBUG flwr 2023-08-31 02:51:59,313 | server.py:236 | fit_round 51 received 2 results and 0 failures\n",
      "DEBUG flwr 2023-08-31 02:51:59,334 | server.py:173 | evaluate_round 51: strategy sampled 2 clients (out of 5)\n",
      "DEBUG flwr 2023-08-31 02:51:59,377 | server.py:187 | evaluate_round 51 received 2 results and 0 failures\n",
      "DEBUG flwr 2023-08-31 02:51:59,380 | server.py:222 | fit_round 52: strategy sampled 2 clients (out of 5)\n"
     ]
    },
    {
     "name": "stdout",
     "output_type": "stream",
     "text": [
      "agrregate_fit results list length is  2\n",
      "Saving round 51 aggregated_parameters...\n",
      "agrregate_evaluate results list length is  2\n",
      "server round is  51\n",
      "loss is  2.053604436229205\n"
     ]
    },
    {
     "name": "stderr",
     "output_type": "stream",
     "text": [
      "DEBUG flwr 2023-08-31 02:52:01,300 | server.py:236 | fit_round 52 received 2 results and 0 failures\n",
      "DEBUG flwr 2023-08-31 02:52:01,324 | server.py:173 | evaluate_round 52: strategy sampled 2 clients (out of 5)\n",
      "DEBUG flwr 2023-08-31 02:52:01,370 | server.py:187 | evaluate_round 52 received 2 results and 0 failures\n",
      "DEBUG flwr 2023-08-31 02:52:01,371 | server.py:222 | fit_round 53: strategy sampled 2 clients (out of 5)\n"
     ]
    },
    {
     "name": "stdout",
     "output_type": "stream",
     "text": [
      "agrregate_fit results list length is  2\n",
      "Saving round 52 aggregated_parameters...\n",
      "agrregate_evaluate results list length is  2\n",
      "server round is  52\n",
      "loss is  1.9944547134935304\n"
     ]
    },
    {
     "name": "stderr",
     "output_type": "stream",
     "text": [
      "DEBUG flwr 2023-08-31 02:52:08,963 | server.py:236 | fit_round 53 received 2 results and 0 failures\n",
      "DEBUG flwr 2023-08-31 02:52:08,988 | server.py:173 | evaluate_round 53: strategy sampled 2 clients (out of 5)\n",
      "DEBUG flwr 2023-08-31 02:52:09,031 | server.py:187 | evaluate_round 53 received 2 results and 0 failures\n",
      "DEBUG flwr 2023-08-31 02:52:09,033 | server.py:222 | fit_round 54: strategy sampled 2 clients (out of 5)\n"
     ]
    },
    {
     "name": "stdout",
     "output_type": "stream",
     "text": [
      "agrregate_fit results list length is  2\n",
      "Saving round 53 aggregated_parameters...\n",
      "agrregate_evaluate results list length is  2\n",
      "server round is  53\n",
      "loss is  2.1256931608133085\n"
     ]
    },
    {
     "name": "stderr",
     "output_type": "stream",
     "text": [
      "DEBUG flwr 2023-08-31 02:52:10,672 | server.py:236 | fit_round 54 received 2 results and 0 failures\n",
      "DEBUG flwr 2023-08-31 02:52:10,692 | server.py:173 | evaluate_round 54: strategy sampled 2 clients (out of 5)\n",
      "DEBUG flwr 2023-08-31 02:52:10,858 | server.py:187 | evaluate_round 54 received 2 results and 0 failures\n",
      "DEBUG flwr 2023-08-31 02:52:10,860 | server.py:222 | fit_round 55: strategy sampled 2 clients (out of 5)\n"
     ]
    },
    {
     "name": "stdout",
     "output_type": "stream",
     "text": [
      "agrregate_fit results list length is  2\n",
      "Saving round 54 aggregated_parameters...\n",
      "agrregate_evaluate results list length is  2\n",
      "server round is  54\n",
      "loss is  2.192236598890943\n"
     ]
    },
    {
     "name": "stderr",
     "output_type": "stream",
     "text": [
      "DEBUG flwr 2023-08-31 02:52:18,032 | server.py:236 | fit_round 55 received 2 results and 0 failures\n",
      "DEBUG flwr 2023-08-31 02:52:18,053 | server.py:173 | evaluate_round 55: strategy sampled 2 clients (out of 5)\n",
      "DEBUG flwr 2023-08-31 02:52:18,095 | server.py:187 | evaluate_round 55 received 2 results and 0 failures\n",
      "DEBUG flwr 2023-08-31 02:52:18,097 | server.py:222 | fit_round 56: strategy sampled 2 clients (out of 5)\n"
     ]
    },
    {
     "name": "stdout",
     "output_type": "stream",
     "text": [
      "agrregate_fit results list length is  2\n",
      "Saving round 55 aggregated_parameters...\n",
      "agrregate_evaluate results list length is  2\n",
      "server round is  55\n",
      "loss is  1.8299445471349354\n"
     ]
    },
    {
     "name": "stderr",
     "output_type": "stream",
     "text": [
      "DEBUG flwr 2023-08-31 02:52:25,408 | server.py:236 | fit_round 56 received 2 results and 0 failures\n",
      "DEBUG flwr 2023-08-31 02:52:25,426 | server.py:173 | evaluate_round 56: strategy sampled 2 clients (out of 5)\n",
      "DEBUG flwr 2023-08-31 02:52:25,464 | server.py:187 | evaluate_round 56 received 2 results and 0 failures\n",
      "DEBUG flwr 2023-08-31 02:52:25,465 | server.py:222 | fit_round 57: strategy sampled 2 clients (out of 5)\n"
     ]
    },
    {
     "name": "stdout",
     "output_type": "stream",
     "text": [
      "agrregate_fit results list length is  2\n",
      "Saving round 56 aggregated_parameters...\n",
      "agrregate_evaluate results list length is  2\n",
      "server round is  56\n",
      "loss is  1.8798521256931608\n"
     ]
    },
    {
     "name": "stderr",
     "output_type": "stream",
     "text": [
      "DEBUG flwr 2023-08-31 02:52:27,061 | server.py:236 | fit_round 57 received 2 results and 0 failures\n",
      "DEBUG flwr 2023-08-31 02:52:27,083 | server.py:173 | evaluate_round 57: strategy sampled 2 clients (out of 5)\n",
      "DEBUG flwr 2023-08-31 02:52:27,126 | server.py:187 | evaluate_round 57 received 2 results and 0 failures\n",
      "DEBUG flwr 2023-08-31 02:52:27,128 | server.py:222 | fit_round 58: strategy sampled 2 clients (out of 5)\n"
     ]
    },
    {
     "name": "stdout",
     "output_type": "stream",
     "text": [
      "agrregate_fit results list length is  2\n",
      "Saving round 57 aggregated_parameters...\n",
      "agrregate_evaluate results list length is  2\n",
      "server round is  57\n",
      "loss is  1.933456561922366\n"
     ]
    },
    {
     "name": "stderr",
     "output_type": "stream",
     "text": [
      "DEBUG flwr 2023-08-31 02:52:28,791 | server.py:236 | fit_round 58 received 2 results and 0 failures\n",
      "DEBUG flwr 2023-08-31 02:52:28,812 | server.py:173 | evaluate_round 58: strategy sampled 2 clients (out of 5)\n",
      "DEBUG flwr 2023-08-31 02:52:28,860 | server.py:187 | evaluate_round 58 received 2 results and 0 failures\n",
      "DEBUG flwr 2023-08-31 02:52:28,863 | server.py:222 | fit_round 59: strategy sampled 2 clients (out of 5)\n"
     ]
    },
    {
     "name": "stdout",
     "output_type": "stream",
     "text": [
      "agrregate_fit results list length is  2\n",
      "Saving round 58 aggregated_parameters...\n",
      "agrregate_evaluate results list length is  2\n",
      "server round is  58\n",
      "loss is  2.057301293900185\n"
     ]
    },
    {
     "name": "stderr",
     "output_type": "stream",
     "text": [
      "DEBUG flwr 2023-08-31 02:52:30,577 | server.py:236 | fit_round 59 received 2 results and 0 failures\n",
      "DEBUG flwr 2023-08-31 02:52:30,599 | server.py:173 | evaluate_round 59: strategy sampled 2 clients (out of 5)\n",
      "DEBUG flwr 2023-08-31 02:52:30,644 | server.py:187 | evaluate_round 59 received 2 results and 0 failures\n",
      "DEBUG flwr 2023-08-31 02:52:30,645 | server.py:222 | fit_round 60: strategy sampled 2 clients (out of 5)\n"
     ]
    },
    {
     "name": "stdout",
     "output_type": "stream",
     "text": [
      "agrregate_fit results list length is  2\n",
      "Saving round 59 aggregated_parameters...\n",
      "agrregate_evaluate results list length is  2\n",
      "server round is  59\n",
      "loss is  2.1719038817005547\n"
     ]
    },
    {
     "name": "stderr",
     "output_type": "stream",
     "text": [
      "DEBUG flwr 2023-08-31 02:52:38,162 | server.py:236 | fit_round 60 received 2 results and 0 failures\n",
      "DEBUG flwr 2023-08-31 02:52:38,190 | server.py:173 | evaluate_round 60: strategy sampled 2 clients (out of 5)\n",
      "DEBUG flwr 2023-08-31 02:52:38,235 | server.py:187 | evaluate_round 60 received 2 results and 0 failures\n",
      "INFO flwr 2023-08-31 02:52:38,237 | server.py:153 | FL finished in 262.96001629999955\n",
      "INFO flwr 2023-08-31 02:52:38,238 | app.py:225 | app_fit: losses_distributed [(1, 3.9593345656192236), (2, 3.053604436229205), (3, 2.866913123844732), (4, 3.234750462107209), (5, 2.6173752310536043), (6, 2.4232902033271717), (7, 3.353049907578558), (8, 2.6155268022181146), (9, 2.6284658040665434), (10, 2.377079482439926), (11, 2.33456561922366), (12, 2.1219963031423292), (13, 2.4565619223659887), (14, 2.0628465804066543), (15, 2.454713493530499), (16, 2.3826247689463957), (17, 2.4269870609981514), (18, 2.1811460258780038), (19, 2.1497227356746764), (20, 2.5083179297597042), (21, 2.578558225508318), (22, 2.6931608133086877), (23, 1.9741219963031422), (24, 2.0406654343807764), (25, 2.0831792975970425), (26, 2.1811460258780038), (27, 2.123844731977819), (28, 2.0924214417744915), (29, 2.487985212569316), (30, 2.33456561922366), (31, 2.1090573012939), (32, 2.3364140480591495), (33, 2.1090573012939), (34, 2.436229205175601), (35, 2.3364140480591495), (36, 2.253234750462107), (37, 2.499075785582255), (38, 2.9260628465804066), (39, 2.301293900184843), (40, 2.177449168207024), (41, 2.319778188539741), (42, 2.201478743068392), (43, 2.024029574861368), (44, 1.9981515711645101), (45, 2.1072088724584104), (46, 2.290203327171904), (47, 2.2125693160813307), (48, 2.1737523105360443), (49, 2.0166358595194085), (50, 2.0277264325323476), (51, 2.053604436229205), (52, 1.9944547134935304), (53, 2.1256931608133085), (54, 2.192236598890943), (55, 1.8299445471349354), (56, 1.8798521256931608), (57, 1.933456561922366), (58, 2.057301293900185), (59, 2.1719038817005547), (60, 2.410351201478743)]\n",
      "INFO flwr 2023-08-31 02:52:38,239 | app.py:226 | app_fit: metrics_distributed_fit {}\n",
      "INFO flwr 2023-08-31 02:52:38,240 | app.py:227 | app_fit: metrics_distributed {'mse': [(1, 7.918669131238447), (2, 6.10720887245841), (3, 5.733826247689464), (4, 6.469500924214418), (5, 5.2347504621072085), (6, 4.846580406654343), (7, 6.706099815157116), (8, 5.231053604436229), (9, 5.256931608133087), (10, 4.754158964879852), (11, 4.66913123844732), (12, 4.2439926062846585), (13, 4.913123844731977), (14, 4.1256931608133085), (15, 4.909426987060998), (16, 4.7652495378927915), (17, 4.853974121996303), (18, 4.3622920517560075), (19, 4.299445471349353), (20, 5.0166358595194085), (21, 5.157116451016636), (22, 5.3863216266173755), (23, 3.9482439926062844), (24, 4.081330868761553), (25, 4.166358595194085), (26, 4.3622920517560075), (27, 4.247689463955638), (28, 4.184842883548983), (29, 4.975970425138632), (30, 4.66913123844732), (31, 4.2181146025878), (32, 4.672828096118299), (33, 4.2181146025878), (34, 4.872458410351202), (35, 4.672828096118299), (36, 4.506469500924214), (37, 4.99815157116451), (38, 5.852125693160813), (39, 4.602587800369686), (40, 4.354898336414048), (41, 4.639556377079482), (42, 4.402957486136784), (43, 4.048059149722736), (44, 3.9963031423290203), (45, 4.214417744916821), (46, 4.580406654343808), (47, 4.425138632162661), (48, 4.347504621072089), (49, 4.033271719038817), (50, 4.055452865064695), (51, 4.10720887245841), (52, 3.988909426987061), (53, 4.251386321626617), (54, 4.384473197781886), (55, 3.6598890942698707), (56, 3.7597042513863217), (57, 3.866913123844732), (58, 4.11460258780037), (59, 4.343807763401109), (60, 4.820702402957486)]}\n",
      "INFO flwr 2023-08-31 02:52:38,242 | app.py:228 | app_fit: losses_centralized []\n",
      "INFO flwr 2023-08-31 02:52:38,243 | app.py:229 | app_fit: metrics_centralized {}\n"
     ]
    },
    {
     "name": "stdout",
     "output_type": "stream",
     "text": [
      "agrregate_fit results list length is  2\n",
      "Saving round 60 aggregated_parameters...\n",
      "agrregate_evaluate results list length is  2\n",
      "server round is  60\n",
      "loss is  2.410351201478743\n",
      "History (loss, distributed):\n",
      "\tround 1: 3.9593345656192236\n",
      "\tround 2: 3.053604436229205\n",
      "\tround 3: 2.866913123844732\n",
      "\tround 4: 3.234750462107209\n",
      "\tround 5: 2.6173752310536043\n",
      "\tround 6: 2.4232902033271717\n",
      "\tround 7: 3.353049907578558\n",
      "\tround 8: 2.6155268022181146\n",
      "\tround 9: 2.6284658040665434\n",
      "\tround 10: 2.377079482439926\n",
      "\tround 11: 2.33456561922366\n",
      "\tround 12: 2.1219963031423292\n",
      "\tround 13: 2.4565619223659887\n",
      "\tround 14: 2.0628465804066543\n",
      "\tround 15: 2.454713493530499\n",
      "\tround 16: 2.3826247689463957\n",
      "\tround 17: 2.4269870609981514\n",
      "\tround 18: 2.1811460258780038\n",
      "\tround 19: 2.1497227356746764\n",
      "\tround 20: 2.5083179297597042\n",
      "\tround 21: 2.578558225508318\n",
      "\tround 22: 2.6931608133086877\n",
      "\tround 23: 1.9741219963031422\n",
      "\tround 24: 2.0406654343807764\n",
      "\tround 25: 2.0831792975970425\n",
      "\tround 26: 2.1811460258780038\n",
      "\tround 27: 2.123844731977819\n",
      "\tround 28: 2.0924214417744915\n",
      "\tround 29: 2.487985212569316\n",
      "\tround 30: 2.33456561922366\n",
      "\tround 31: 2.1090573012939\n",
      "\tround 32: 2.3364140480591495\n",
      "\tround 33: 2.1090573012939\n",
      "\tround 34: 2.436229205175601\n",
      "\tround 35: 2.3364140480591495\n",
      "\tround 36: 2.253234750462107\n",
      "\tround 37: 2.499075785582255\n",
      "\tround 38: 2.9260628465804066\n",
      "\tround 39: 2.301293900184843\n",
      "\tround 40: 2.177449168207024\n",
      "\tround 41: 2.319778188539741\n",
      "\tround 42: 2.201478743068392\n",
      "\tround 43: 2.024029574861368\n",
      "\tround 44: 1.9981515711645101\n",
      "\tround 45: 2.1072088724584104\n",
      "\tround 46: 2.290203327171904\n",
      "\tround 47: 2.2125693160813307\n",
      "\tround 48: 2.1737523105360443\n",
      "\tround 49: 2.0166358595194085\n",
      "\tround 50: 2.0277264325323476\n",
      "\tround 51: 2.053604436229205\n",
      "\tround 52: 1.9944547134935304\n",
      "\tround 53: 2.1256931608133085\n",
      "\tround 54: 2.192236598890943\n",
      "\tround 55: 1.8299445471349354\n",
      "\tround 56: 1.8798521256931608\n",
      "\tround 57: 1.933456561922366\n",
      "\tround 58: 2.057301293900185\n",
      "\tround 59: 2.1719038817005547\n",
      "\tround 60: 2.410351201478743\n",
      "History (metrics, distributed, evaluate):\n",
      "{'mse': [(1, 7.918669131238447), (2, 6.10720887245841), (3, 5.733826247689464), (4, 6.469500924214418), (5, 5.2347504621072085), (6, 4.846580406654343), (7, 6.706099815157116), (8, 5.231053604436229), (9, 5.256931608133087), (10, 4.754158964879852), (11, 4.66913123844732), (12, 4.2439926062846585), (13, 4.913123844731977), (14, 4.1256931608133085), (15, 4.909426987060998), (16, 4.7652495378927915), (17, 4.853974121996303), (18, 4.3622920517560075), (19, 4.299445471349353), (20, 5.0166358595194085), (21, 5.157116451016636), (22, 5.3863216266173755), (23, 3.9482439926062844), (24, 4.081330868761553), (25, 4.166358595194085), (26, 4.3622920517560075), (27, 4.247689463955638), (28, 4.184842883548983), (29, 4.975970425138632), (30, 4.66913123844732), (31, 4.2181146025878), (32, 4.672828096118299), (33, 4.2181146025878), (34, 4.872458410351202), (35, 4.672828096118299), (36, 4.506469500924214), (37, 4.99815157116451), (38, 5.852125693160813), (39, 4.602587800369686), (40, 4.354898336414048), (41, 4.639556377079482), (42, 4.402957486136784), (43, 4.048059149722736), (44, 3.9963031423290203), (45, 4.214417744916821), (46, 4.580406654343808), (47, 4.425138632162661), (48, 4.347504621072089), (49, 4.033271719038817), (50, 4.055452865064695), (51, 4.10720887245841), (52, 3.988909426987061), (53, 4.251386321626617), (54, 4.384473197781886), (55, 3.6598890942698707), (56, 3.7597042513863217), (57, 3.866913123844732), (58, 4.11460258780037), (59, 4.343807763401109), (60, 4.820702402957486)]}\n",
      "[(1, 3.9593345656192236), (2, 3.053604436229205), (3, 2.866913123844732), (4, 3.234750462107209), (5, 2.6173752310536043), (6, 2.4232902033271717), (7, 3.353049907578558), (8, 2.6155268022181146), (9, 2.6284658040665434), (10, 2.377079482439926), (11, 2.33456561922366), (12, 2.1219963031423292), (13, 2.4565619223659887), (14, 2.0628465804066543), (15, 2.454713493530499), (16, 2.3826247689463957), (17, 2.4269870609981514), (18, 2.1811460258780038), (19, 2.1497227356746764), (20, 2.5083179297597042), (21, 2.578558225508318), (22, 2.6931608133086877), (23, 1.9741219963031422), (24, 2.0406654343807764), (25, 2.0831792975970425), (26, 2.1811460258780038), (27, 2.123844731977819), (28, 2.0924214417744915), (29, 2.487985212569316), (30, 2.33456561922366), (31, 2.1090573012939), (32, 2.3364140480591495), (33, 2.1090573012939), (34, 2.436229205175601), (35, 2.3364140480591495), (36, 2.253234750462107), (37, 2.499075785582255), (38, 2.9260628465804066), (39, 2.301293900184843), (40, 2.177449168207024), (41, 2.319778188539741), (42, 2.201478743068392), (43, 2.024029574861368), (44, 1.9981515711645101), (45, 2.1072088724584104), (46, 2.290203327171904), (47, 2.2125693160813307), (48, 2.1737523105360443), (49, 2.0166358595194085), (50, 2.0277264325323476), (51, 2.053604436229205), (52, 1.9944547134935304), (53, 2.1256931608133085), (54, 2.192236598890943), (55, 1.8299445471349354), (56, 1.8798521256931608), (57, 1.933456561922366), (58, 2.057301293900185), (59, 2.1719038817005547), (60, 2.410351201478743)]\n",
      "Fold 2:\n",
      "split [0.6, 0.1, 0.1, 0.1, 0.1]\n",
      "time 0:04:44.478597\n",
      "mse [2.410351201478743]\n",
      "auc [0.8836705399863294]\n"
     ]
    }
   ],
   "source": [
    "split = [0.6, 0.1, 0.1, 0.1, 0.1]\n",
    "do_fl(split)"
   ],
   "metadata": {
    "collapsed": false,
    "ExecuteTime": {
     "end_time": "2023-08-31T01:52:38.340031900Z",
     "start_time": "2023-08-31T01:47:53.841536100Z"
    }
   }
  },
  {
   "cell_type": "code",
   "execution_count": 15,
   "outputs": [
    {
     "name": "stdout",
     "output_type": "stream",
     "text": [
      "<class 'torch.Tensor'>\n",
      "<class 'torch.Tensor'>\n",
      "Fold 1:\n",
      "Client 0 trainset shape torch.Size([4640, 22])\n",
      "Client 1 trainset shape torch.Size([234, 22])\n",
      "Client 2 trainset shape torch.Size([156, 22])\n",
      "Client 3 trainset shape torch.Size([224, 22])\n"
     ]
    },
    {
     "name": "stderr",
     "output_type": "stream",
     "text": [
      "INFO flwr 2023-08-31 02:52:38,388 | app.py:145 | Starting Flower simulation, config: ServerConfig(num_rounds=60, round_timeout=None)\n"
     ]
    },
    {
     "name": "stdout",
     "output_type": "stream",
     "text": [
      "Client 4 trainset shape torch.Size([156, 22])\n",
      "FL started training on cpu\n",
      "Number of available GPUs: 0\n"
     ]
    },
    {
     "name": "stderr",
     "output_type": "stream",
     "text": [
      "2023-08-31 02:52:48,827\tINFO worker.py:1627 -- Started a local Ray instance. View the dashboard at \u001B[1m\u001B[32m127.0.0.1:8267 \u001B[39m\u001B[22m\n",
      "INFO flwr 2023-08-31 02:52:57,311 | app.py:179 | Flower VCE: Ray initialized with resources: {'node:127.0.0.1': 1.0, 'object_store_memory': 735049728.0, 'memory': 1470099456.0, 'GPU': 1.0, 'CPU': 8.0}\n",
      "INFO flwr 2023-08-31 02:52:57,313 | server.py:89 | Initializing global parameters\n",
      "INFO flwr 2023-08-31 02:52:57,315 | server.py:276 | Requesting initial parameters from one random client\n",
      "INFO flwr 2023-08-31 02:53:01,446 | server.py:280 | Received initial parameters from one random client\n",
      "INFO flwr 2023-08-31 02:53:01,447 | server.py:91 | Evaluating initial parameters\n",
      "INFO flwr 2023-08-31 02:53:01,447 | server.py:104 | FL starting\n",
      "DEBUG flwr 2023-08-31 02:53:01,448 | server.py:222 | fit_round 1: strategy sampled 2 clients (out of 5)\n",
      "DEBUG flwr 2023-08-31 02:53:15,734 | server.py:236 | fit_round 1 received 2 results and 0 failures\n",
      "WARNING flwr 2023-08-31 02:53:15,748 | fedavg.py:242 | No fit_metrics_aggregation_fn provided\n",
      "DEBUG flwr 2023-08-31 02:53:15,759 | server.py:173 | evaluate_round 1: strategy sampled 2 clients (out of 5)\n",
      "DEBUG flwr 2023-08-31 02:53:15,802 | server.py:187 | evaluate_round 1 received 2 results and 0 failures\n",
      "DEBUG flwr 2023-08-31 02:53:15,803 | server.py:222 | fit_round 2: strategy sampled 2 clients (out of 5)\n"
     ]
    },
    {
     "name": "stdout",
     "output_type": "stream",
     "text": [
      "agrregate_fit results list length is  2\n",
      "Saving round 1 aggregated_parameters...\n",
      "agrregate_evaluate results list length is  2\n",
      "server round is  1\n",
      "loss is  2.6598890942698707\n"
     ]
    },
    {
     "name": "stderr",
     "output_type": "stream",
     "text": [
      "DEBUG flwr 2023-08-31 02:53:27,864 | server.py:236 | fit_round 2 received 2 results and 0 failures\n",
      "DEBUG flwr 2023-08-31 02:53:27,885 | server.py:173 | evaluate_round 2: strategy sampled 2 clients (out of 5)\n",
      "DEBUG flwr 2023-08-31 02:53:27,922 | server.py:187 | evaluate_round 2 received 2 results and 0 failures\n",
      "DEBUG flwr 2023-08-31 02:53:27,923 | server.py:222 | fit_round 3: strategy sampled 2 clients (out of 5)\n"
     ]
    },
    {
     "name": "stdout",
     "output_type": "stream",
     "text": [
      "agrregate_fit results list length is  2\n",
      "Saving round 2 aggregated_parameters...\n",
      "agrregate_evaluate results list length is  2\n",
      "server round is  2\n",
      "loss is  2.9611829944547137\n"
     ]
    },
    {
     "name": "stderr",
     "output_type": "stream",
     "text": [
      "DEBUG flwr 2023-08-31 02:53:39,569 | server.py:236 | fit_round 3 received 2 results and 0 failures\n",
      "DEBUG flwr 2023-08-31 02:53:39,592 | server.py:173 | evaluate_round 3: strategy sampled 2 clients (out of 5)\n",
      "DEBUG flwr 2023-08-31 02:53:39,635 | server.py:187 | evaluate_round 3 received 2 results and 0 failures\n",
      "DEBUG flwr 2023-08-31 02:53:39,637 | server.py:222 | fit_round 4: strategy sampled 2 clients (out of 5)\n"
     ]
    },
    {
     "name": "stdout",
     "output_type": "stream",
     "text": [
      "agrregate_fit results list length is  2\n",
      "Saving round 3 aggregated_parameters...\n",
      "agrregate_evaluate results list length is  2\n",
      "server round is  3\n",
      "loss is  2.8595194085027726\n"
     ]
    },
    {
     "name": "stderr",
     "output_type": "stream",
     "text": [
      "DEBUG flwr 2023-08-31 02:53:40,112 | server.py:236 | fit_round 4 received 2 results and 0 failures\n",
      "DEBUG flwr 2023-08-31 02:53:40,140 | server.py:173 | evaluate_round 4: strategy sampled 2 clients (out of 5)\n",
      "DEBUG flwr 2023-08-31 02:53:40,183 | server.py:187 | evaluate_round 4 received 2 results and 0 failures\n",
      "DEBUG flwr 2023-08-31 02:53:40,185 | server.py:222 | fit_round 5: strategy sampled 2 clients (out of 5)\n"
     ]
    },
    {
     "name": "stdout",
     "output_type": "stream",
     "text": [
      "agrregate_fit results list length is  2\n",
      "Saving round 4 aggregated_parameters...\n",
      "agrregate_evaluate results list length is  2\n",
      "server round is  4\n",
      "loss is  2.4158964879852127\n"
     ]
    },
    {
     "name": "stderr",
     "output_type": "stream",
     "text": [
      "DEBUG flwr 2023-08-31 02:53:51,093 | server.py:236 | fit_round 5 received 2 results and 0 failures\n",
      "DEBUG flwr 2023-08-31 02:53:51,113 | server.py:173 | evaluate_round 5: strategy sampled 2 clients (out of 5)\n",
      "DEBUG flwr 2023-08-31 02:53:51,159 | server.py:187 | evaluate_round 5 received 2 results and 0 failures\n",
      "DEBUG flwr 2023-08-31 02:53:51,161 | server.py:222 | fit_round 6: strategy sampled 2 clients (out of 5)\n"
     ]
    },
    {
     "name": "stdout",
     "output_type": "stream",
     "text": [
      "agrregate_fit results list length is  2\n",
      "Saving round 5 aggregated_parameters...\n",
      "agrregate_evaluate results list length is  2\n",
      "server round is  5\n",
      "loss is  2.8780036968576708\n"
     ]
    },
    {
     "name": "stderr",
     "output_type": "stream",
     "text": [
      "DEBUG flwr 2023-08-31 02:53:51,667 | server.py:236 | fit_round 6 received 2 results and 0 failures\n",
      "DEBUG flwr 2023-08-31 02:53:51,692 | server.py:173 | evaluate_round 6: strategy sampled 2 clients (out of 5)\n",
      "DEBUG flwr 2023-08-31 02:53:51,739 | server.py:187 | evaluate_round 6 received 2 results and 0 failures\n",
      "DEBUG flwr 2023-08-31 02:53:51,741 | server.py:222 | fit_round 7: strategy sampled 2 clients (out of 5)\n"
     ]
    },
    {
     "name": "stdout",
     "output_type": "stream",
     "text": [
      "agrregate_fit results list length is  2\n",
      "Saving round 6 aggregated_parameters...\n",
      "agrregate_evaluate results list length is  2\n",
      "server round is  6\n",
      "loss is  2.255083179297597\n"
     ]
    },
    {
     "name": "stderr",
     "output_type": "stream",
     "text": [
      "DEBUG flwr 2023-08-31 02:53:52,400 | server.py:236 | fit_round 7 received 2 results and 0 failures\n",
      "DEBUG flwr 2023-08-31 02:53:52,423 | server.py:173 | evaluate_round 7: strategy sampled 2 clients (out of 5)\n",
      "DEBUG flwr 2023-08-31 02:53:52,476 | server.py:187 | evaluate_round 7 received 2 results and 0 failures\n",
      "DEBUG flwr 2023-08-31 02:53:52,477 | server.py:222 | fit_round 8: strategy sampled 2 clients (out of 5)\n"
     ]
    },
    {
     "name": "stdout",
     "output_type": "stream",
     "text": [
      "agrregate_fit results list length is  2\n",
      "Saving round 7 aggregated_parameters...\n",
      "agrregate_evaluate results list length is  2\n",
      "server round is  7\n",
      "loss is  2.4916820702402958\n"
     ]
    },
    {
     "name": "stderr",
     "output_type": "stream",
     "text": [
      "DEBUG flwr 2023-08-31 02:54:03,493 | server.py:236 | fit_round 8 received 2 results and 0 failures\n",
      "DEBUG flwr 2023-08-31 02:54:03,515 | server.py:173 | evaluate_round 8: strategy sampled 2 clients (out of 5)\n",
      "DEBUG flwr 2023-08-31 02:54:03,549 | server.py:187 | evaluate_round 8 received 2 results and 0 failures\n",
      "DEBUG flwr 2023-08-31 02:54:03,550 | server.py:222 | fit_round 9: strategy sampled 2 clients (out of 5)\n"
     ]
    },
    {
     "name": "stdout",
     "output_type": "stream",
     "text": [
      "agrregate_fit results list length is  2\n",
      "Saving round 8 aggregated_parameters...\n",
      "agrregate_evaluate results list length is  2\n",
      "server round is  8\n",
      "loss is  2.123844731977819\n"
     ]
    },
    {
     "name": "stderr",
     "output_type": "stream",
     "text": [
      "DEBUG flwr 2023-08-31 02:54:04,145 | server.py:236 | fit_round 9 received 2 results and 0 failures\n",
      "DEBUG flwr 2023-08-31 02:54:04,172 | server.py:173 | evaluate_round 9: strategy sampled 2 clients (out of 5)\n",
      "DEBUG flwr 2023-08-31 02:54:04,221 | server.py:187 | evaluate_round 9 received 2 results and 0 failures\n",
      "DEBUG flwr 2023-08-31 02:54:04,223 | server.py:222 | fit_round 10: strategy sampled 2 clients (out of 5)\n"
     ]
    },
    {
     "name": "stdout",
     "output_type": "stream",
     "text": [
      "agrregate_fit results list length is  2\n",
      "Saving round 9 aggregated_parameters...\n",
      "agrregate_evaluate results list length is  2\n",
      "server round is  9\n",
      "loss is  2.6857670979667283\n"
     ]
    },
    {
     "name": "stderr",
     "output_type": "stream",
     "text": [
      "DEBUG flwr 2023-08-31 02:54:15,407 | server.py:236 | fit_round 10 received 2 results and 0 failures\n",
      "DEBUG flwr 2023-08-31 02:54:15,424 | server.py:173 | evaluate_round 10: strategy sampled 2 clients (out of 5)\n",
      "DEBUG flwr 2023-08-31 02:54:15,461 | server.py:187 | evaluate_round 10 received 2 results and 0 failures\n",
      "DEBUG flwr 2023-08-31 02:54:15,462 | server.py:222 | fit_round 11: strategy sampled 2 clients (out of 5)\n"
     ]
    },
    {
     "name": "stdout",
     "output_type": "stream",
     "text": [
      "agrregate_fit results list length is  2\n",
      "Saving round 10 aggregated_parameters...\n",
      "agrregate_evaluate results list length is  2\n",
      "server round is  10\n",
      "loss is  2.6247689463955637\n"
     ]
    },
    {
     "name": "stderr",
     "output_type": "stream",
     "text": [
      "DEBUG flwr 2023-08-31 02:54:27,365 | server.py:236 | fit_round 11 received 2 results and 0 failures\n",
      "DEBUG flwr 2023-08-31 02:54:27,383 | server.py:173 | evaluate_round 11: strategy sampled 2 clients (out of 5)\n",
      "DEBUG flwr 2023-08-31 02:54:27,418 | server.py:187 | evaluate_round 11 received 2 results and 0 failures\n",
      "DEBUG flwr 2023-08-31 02:54:27,418 | server.py:222 | fit_round 12: strategy sampled 2 clients (out of 5)\n"
     ]
    },
    {
     "name": "stdout",
     "output_type": "stream",
     "text": [
      "agrregate_fit results list length is  2\n",
      "Saving round 11 aggregated_parameters...\n",
      "agrregate_evaluate results list length is  2\n",
      "server round is  11\n",
      "loss is  2.4713493530499075\n"
     ]
    },
    {
     "name": "stderr",
     "output_type": "stream",
     "text": [
      "DEBUG flwr 2023-08-31 02:54:38,474 | server.py:236 | fit_round 12 received 2 results and 0 failures\n",
      "DEBUG flwr 2023-08-31 02:54:38,501 | server.py:173 | evaluate_round 12: strategy sampled 2 clients (out of 5)\n",
      "DEBUG flwr 2023-08-31 02:54:38,542 | server.py:187 | evaluate_round 12 received 2 results and 0 failures\n",
      "DEBUG flwr 2023-08-31 02:54:38,544 | server.py:222 | fit_round 13: strategy sampled 2 clients (out of 5)\n"
     ]
    },
    {
     "name": "stdout",
     "output_type": "stream",
     "text": [
      "agrregate_fit results list length is  2\n",
      "Saving round 12 aggregated_parameters...\n",
      "agrregate_evaluate results list length is  2\n",
      "server round is  12\n",
      "loss is  2.454713493530499\n"
     ]
    },
    {
     "name": "stderr",
     "output_type": "stream",
     "text": [
      "DEBUG flwr 2023-08-31 02:54:39,184 | server.py:236 | fit_round 13 received 2 results and 0 failures\n",
      "DEBUG flwr 2023-08-31 02:54:39,206 | server.py:173 | evaluate_round 13: strategy sampled 2 clients (out of 5)\n",
      "DEBUG flwr 2023-08-31 02:54:39,247 | server.py:187 | evaluate_round 13 received 2 results and 0 failures\n",
      "DEBUG flwr 2023-08-31 02:54:39,249 | server.py:222 | fit_round 14: strategy sampled 2 clients (out of 5)\n"
     ]
    },
    {
     "name": "stdout",
     "output_type": "stream",
     "text": [
      "agrregate_fit results list length is  2\n",
      "Saving round 13 aggregated_parameters...\n",
      "agrregate_evaluate results list length is  2\n",
      "server round is  13\n",
      "loss is  2.2402957486136783\n"
     ]
    },
    {
     "name": "stderr",
     "output_type": "stream",
     "text": [
      "DEBUG flwr 2023-08-31 02:54:50,432 | server.py:236 | fit_round 14 received 2 results and 0 failures\n",
      "DEBUG flwr 2023-08-31 02:54:50,451 | server.py:173 | evaluate_round 14: strategy sampled 2 clients (out of 5)\n",
      "DEBUG flwr 2023-08-31 02:54:50,487 | server.py:187 | evaluate_round 14 received 2 results and 0 failures\n",
      "DEBUG flwr 2023-08-31 02:54:50,488 | server.py:222 | fit_round 15: strategy sampled 2 clients (out of 5)\n"
     ]
    },
    {
     "name": "stdout",
     "output_type": "stream",
     "text": [
      "agrregate_fit results list length is  2\n",
      "Saving round 14 aggregated_parameters...\n",
      "agrregate_evaluate results list length is  2\n",
      "server round is  14\n",
      "loss is  2.9944547134935307\n"
     ]
    },
    {
     "name": "stderr",
     "output_type": "stream",
     "text": [
      "DEBUG flwr 2023-08-31 02:54:51,114 | server.py:236 | fit_round 15 received 2 results and 0 failures\n",
      "DEBUG flwr 2023-08-31 02:54:51,140 | server.py:173 | evaluate_round 15: strategy sampled 2 clients (out of 5)\n",
      "DEBUG flwr 2023-08-31 02:54:51,184 | server.py:187 | evaluate_round 15 received 2 results and 0 failures\n",
      "DEBUG flwr 2023-08-31 02:54:51,185 | server.py:222 | fit_round 16: strategy sampled 2 clients (out of 5)\n"
     ]
    },
    {
     "name": "stdout",
     "output_type": "stream",
     "text": [
      "agrregate_fit results list length is  2\n",
      "Saving round 15 aggregated_parameters...\n",
      "agrregate_evaluate results list length is  2\n",
      "server round is  15\n",
      "loss is  2.1645101663585953\n"
     ]
    },
    {
     "name": "stderr",
     "output_type": "stream",
     "text": [
      "DEBUG flwr 2023-08-31 02:55:03,196 | server.py:236 | fit_round 16 received 2 results and 0 failures\n",
      "DEBUG flwr 2023-08-31 02:55:03,225 | server.py:173 | evaluate_round 16: strategy sampled 2 clients (out of 5)\n",
      "DEBUG flwr 2023-08-31 02:55:03,281 | server.py:187 | evaluate_round 16 received 2 results and 0 failures\n",
      "DEBUG flwr 2023-08-31 02:55:03,282 | server.py:222 | fit_round 17: strategy sampled 2 clients (out of 5)\n"
     ]
    },
    {
     "name": "stdout",
     "output_type": "stream",
     "text": [
      "agrregate_fit results list length is  2\n",
      "Saving round 16 aggregated_parameters...\n",
      "agrregate_evaluate results list length is  2\n",
      "server round is  16\n",
      "loss is  2.578558225508318\n"
     ]
    },
    {
     "name": "stderr",
     "output_type": "stream",
     "text": [
      "DEBUG flwr 2023-08-31 02:55:04,196 | server.py:236 | fit_round 17 received 2 results and 0 failures\n",
      "DEBUG flwr 2023-08-31 02:55:04,229 | server.py:173 | evaluate_round 17: strategy sampled 2 clients (out of 5)\n",
      "DEBUG flwr 2023-08-31 02:55:04,291 | server.py:187 | evaluate_round 17 received 2 results and 0 failures\n",
      "DEBUG flwr 2023-08-31 02:55:04,294 | server.py:222 | fit_round 18: strategy sampled 2 clients (out of 5)\n"
     ]
    },
    {
     "name": "stdout",
     "output_type": "stream",
     "text": [
      "agrregate_fit results list length is  2\n",
      "Saving round 17 aggregated_parameters...\n",
      "agrregate_evaluate results list length is  2\n",
      "server round is  17\n",
      "loss is  2.1386321626617377\n"
     ]
    },
    {
     "name": "stderr",
     "output_type": "stream",
     "text": [
      "DEBUG flwr 2023-08-31 02:55:05,048 | server.py:236 | fit_round 18 received 2 results and 0 failures\n",
      "DEBUG flwr 2023-08-31 02:55:05,073 | server.py:173 | evaluate_round 18: strategy sampled 2 clients (out of 5)\n",
      "DEBUG flwr 2023-08-31 02:55:05,127 | server.py:187 | evaluate_round 18 received 2 results and 0 failures\n",
      "DEBUG flwr 2023-08-31 02:55:05,129 | server.py:222 | fit_round 19: strategy sampled 2 clients (out of 5)\n"
     ]
    },
    {
     "name": "stdout",
     "output_type": "stream",
     "text": [
      "agrregate_fit results list length is  2\n",
      "Saving round 18 aggregated_parameters...\n",
      "agrregate_evaluate results list length is  2\n",
      "server round is  18\n",
      "loss is  2.286506469500924\n"
     ]
    },
    {
     "name": "stderr",
     "output_type": "stream",
     "text": [
      "DEBUG flwr 2023-08-31 02:55:05,737 | server.py:236 | fit_round 19 received 2 results and 0 failures\n",
      "DEBUG flwr 2023-08-31 02:55:05,782 | server.py:173 | evaluate_round 19: strategy sampled 2 clients (out of 5)\n",
      "DEBUG flwr 2023-08-31 02:55:05,843 | server.py:187 | evaluate_round 19 received 2 results and 0 failures\n",
      "DEBUG flwr 2023-08-31 02:55:05,845 | server.py:222 | fit_round 20: strategy sampled 2 clients (out of 5)\n"
     ]
    },
    {
     "name": "stdout",
     "output_type": "stream",
     "text": [
      "agrregate_fit results list length is  2\n",
      "Saving round 19 aggregated_parameters...\n",
      "agrregate_evaluate results list length is  2\n",
      "server round is  19\n",
      "loss is  2.0258780036968576\n"
     ]
    },
    {
     "name": "stderr",
     "output_type": "stream",
     "text": [
      "DEBUG flwr 2023-08-31 02:55:06,864 | server.py:236 | fit_round 20 received 2 results and 0 failures\n",
      "DEBUG flwr 2023-08-31 02:55:06,905 | server.py:173 | evaluate_round 20: strategy sampled 2 clients (out of 5)\n",
      "DEBUG flwr 2023-08-31 02:55:06,974 | server.py:187 | evaluate_round 20 received 2 results and 0 failures\n",
      "DEBUG flwr 2023-08-31 02:55:06,976 | server.py:222 | fit_round 21: strategy sampled 2 clients (out of 5)\n"
     ]
    },
    {
     "name": "stdout",
     "output_type": "stream",
     "text": [
      "agrregate_fit results list length is  2\n",
      "Saving round 20 aggregated_parameters...\n",
      "agrregate_evaluate results list length is  2\n",
      "server round is  20\n",
      "loss is  2.0462107208872458\n"
     ]
    },
    {
     "name": "stderr",
     "output_type": "stream",
     "text": [
      "DEBUG flwr 2023-08-31 02:55:21,811 | server.py:236 | fit_round 21 received 2 results and 0 failures\n",
      "DEBUG flwr 2023-08-31 02:55:21,835 | server.py:173 | evaluate_round 21: strategy sampled 2 clients (out of 5)\n",
      "DEBUG flwr 2023-08-31 02:55:21,877 | server.py:187 | evaluate_round 21 received 2 results and 0 failures\n",
      "DEBUG flwr 2023-08-31 02:55:21,879 | server.py:222 | fit_round 22: strategy sampled 2 clients (out of 5)\n"
     ]
    },
    {
     "name": "stdout",
     "output_type": "stream",
     "text": [
      "agrregate_fit results list length is  2\n",
      "Saving round 21 aggregated_parameters...\n",
      "agrregate_evaluate results list length is  2\n",
      "server round is  21\n",
      "loss is  2.1127541589648797\n"
     ]
    },
    {
     "name": "stderr",
     "output_type": "stream",
     "text": [
      "DEBUG flwr 2023-08-31 02:55:34,106 | server.py:236 | fit_round 22 received 2 results and 0 failures\n",
      "DEBUG flwr 2023-08-31 02:55:34,132 | server.py:173 | evaluate_round 22: strategy sampled 2 clients (out of 5)\n",
      "DEBUG flwr 2023-08-31 02:55:34,174 | server.py:187 | evaluate_round 22 received 2 results and 0 failures\n",
      "DEBUG flwr 2023-08-31 02:55:34,175 | server.py:222 | fit_round 23: strategy sampled 2 clients (out of 5)\n"
     ]
    },
    {
     "name": "stdout",
     "output_type": "stream",
     "text": [
      "agrregate_fit results list length is  2\n",
      "Saving round 22 aggregated_parameters...\n",
      "agrregate_evaluate results list length is  2\n",
      "server round is  22\n",
      "loss is  1.9944547134935304\n"
     ]
    },
    {
     "name": "stderr",
     "output_type": "stream",
     "text": [
      "DEBUG flwr 2023-08-31 02:55:34,607 | server.py:236 | fit_round 23 received 2 results and 0 failures\n",
      "DEBUG flwr 2023-08-31 02:55:34,630 | server.py:173 | evaluate_round 23: strategy sampled 2 clients (out of 5)\n",
      "DEBUG flwr 2023-08-31 02:55:34,697 | server.py:187 | evaluate_round 23 received 2 results and 0 failures\n",
      "DEBUG flwr 2023-08-31 02:55:34,698 | server.py:222 | fit_round 24: strategy sampled 2 clients (out of 5)\n"
     ]
    },
    {
     "name": "stdout",
     "output_type": "stream",
     "text": [
      "agrregate_fit results list length is  2\n",
      "Saving round 23 aggregated_parameters...\n",
      "agrregate_evaluate results list length is  2\n",
      "server round is  23\n",
      "loss is  1.9149722735674677\n"
     ]
    },
    {
     "name": "stderr",
     "output_type": "stream",
     "text": [
      "DEBUG flwr 2023-08-31 02:55:47,474 | server.py:236 | fit_round 24 received 2 results and 0 failures\n",
      "DEBUG flwr 2023-08-31 02:55:47,510 | server.py:173 | evaluate_round 24: strategy sampled 2 clients (out of 5)\n",
      "DEBUG flwr 2023-08-31 02:55:47,566 | server.py:187 | evaluate_round 24 received 2 results and 0 failures\n",
      "DEBUG flwr 2023-08-31 02:55:47,569 | server.py:222 | fit_round 25: strategy sampled 2 clients (out of 5)\n"
     ]
    },
    {
     "name": "stdout",
     "output_type": "stream",
     "text": [
      "agrregate_fit results list length is  2\n",
      "Saving round 24 aggregated_parameters...\n",
      "agrregate_evaluate results list length is  2\n",
      "server round is  24\n",
      "loss is  2.066543438077634\n"
     ]
    },
    {
     "name": "stderr",
     "output_type": "stream",
     "text": [
      "DEBUG flwr 2023-08-31 02:55:59,611 | server.py:236 | fit_round 25 received 2 results and 0 failures\n",
      "DEBUG flwr 2023-08-31 02:55:59,638 | server.py:173 | evaluate_round 25: strategy sampled 2 clients (out of 5)\n",
      "DEBUG flwr 2023-08-31 02:55:59,698 | server.py:187 | evaluate_round 25 received 2 results and 0 failures\n",
      "DEBUG flwr 2023-08-31 02:55:59,700 | server.py:222 | fit_round 26: strategy sampled 2 clients (out of 5)\n"
     ]
    },
    {
     "name": "stdout",
     "output_type": "stream",
     "text": [
      "agrregate_fit results list length is  2\n",
      "Saving round 25 aggregated_parameters...\n",
      "agrregate_evaluate results list length is  2\n",
      "server round is  25\n",
      "loss is  2.229205175600739\n"
     ]
    },
    {
     "name": "stderr",
     "output_type": "stream",
     "text": [
      "DEBUG flwr 2023-08-31 02:56:10,932 | server.py:236 | fit_round 26 received 2 results and 0 failures\n",
      "DEBUG flwr 2023-08-31 02:56:10,956 | server.py:173 | evaluate_round 26: strategy sampled 2 clients (out of 5)\n",
      "DEBUG flwr 2023-08-31 02:56:10,995 | server.py:187 | evaluate_round 26 received 2 results and 0 failures\n",
      "DEBUG flwr 2023-08-31 02:56:10,997 | server.py:222 | fit_round 27: strategy sampled 2 clients (out of 5)\n"
     ]
    },
    {
     "name": "stdout",
     "output_type": "stream",
     "text": [
      "agrregate_fit results list length is  2\n",
      "Saving round 26 aggregated_parameters...\n",
      "agrregate_evaluate results list length is  2\n",
      "server round is  26\n",
      "loss is  2.123844731977819\n"
     ]
    },
    {
     "name": "stderr",
     "output_type": "stream",
     "text": [
      "DEBUG flwr 2023-08-31 02:56:21,867 | server.py:236 | fit_round 27 received 2 results and 0 failures\n",
      "DEBUG flwr 2023-08-31 02:56:21,886 | server.py:173 | evaluate_round 27: strategy sampled 2 clients (out of 5)\n",
      "DEBUG flwr 2023-08-31 02:56:21,927 | server.py:187 | evaluate_round 27 received 2 results and 0 failures\n",
      "DEBUG flwr 2023-08-31 02:56:21,928 | server.py:222 | fit_round 28: strategy sampled 2 clients (out of 5)\n"
     ]
    },
    {
     "name": "stdout",
     "output_type": "stream",
     "text": [
      "agrregate_fit results list length is  2\n",
      "Saving round 27 aggregated_parameters...\n",
      "agrregate_evaluate results list length is  2\n",
      "server round is  27\n",
      "loss is  2.421441774491682\n"
     ]
    },
    {
     "name": "stderr",
     "output_type": "stream",
     "text": [
      "DEBUG flwr 2023-08-31 02:56:33,945 | server.py:236 | fit_round 28 received 2 results and 0 failures\n",
      "DEBUG flwr 2023-08-31 02:56:33,965 | server.py:173 | evaluate_round 28: strategy sampled 2 clients (out of 5)\n",
      "DEBUG flwr 2023-08-31 02:56:34,034 | server.py:187 | evaluate_round 28 received 2 results and 0 failures\n",
      "DEBUG flwr 2023-08-31 02:56:34,036 | server.py:222 | fit_round 29: strategy sampled 2 clients (out of 5)\n"
     ]
    },
    {
     "name": "stdout",
     "output_type": "stream",
     "text": [
      "agrregate_fit results list length is  2\n",
      "Saving round 28 aggregated_parameters...\n",
      "agrregate_evaluate results list length is  2\n",
      "server round is  28\n",
      "loss is  2.2735674676524953\n"
     ]
    },
    {
     "name": "stderr",
     "output_type": "stream",
     "text": [
      "DEBUG flwr 2023-08-31 02:56:34,820 | server.py:236 | fit_round 29 received 2 results and 0 failures\n",
      "DEBUG flwr 2023-08-31 02:56:34,845 | server.py:173 | evaluate_round 29: strategy sampled 2 clients (out of 5)\n",
      "DEBUG flwr 2023-08-31 02:56:34,893 | server.py:187 | evaluate_round 29 received 2 results and 0 failures\n",
      "DEBUG flwr 2023-08-31 02:56:34,895 | server.py:222 | fit_round 30: strategy sampled 2 clients (out of 5)\n"
     ]
    },
    {
     "name": "stdout",
     "output_type": "stream",
     "text": [
      "agrregate_fit results list length is  2\n",
      "Saving round 29 aggregated_parameters...\n",
      "agrregate_evaluate results list length is  2\n",
      "server round is  29\n",
      "loss is  2.0\n"
     ]
    },
    {
     "name": "stderr",
     "output_type": "stream",
     "text": [
      "DEBUG flwr 2023-08-31 02:56:35,552 | server.py:236 | fit_round 30 received 2 results and 0 failures\n",
      "DEBUG flwr 2023-08-31 02:56:35,574 | server.py:173 | evaluate_round 30: strategy sampled 2 clients (out of 5)\n",
      "DEBUG flwr 2023-08-31 02:56:35,619 | server.py:187 | evaluate_round 30 received 2 results and 0 failures\n",
      "DEBUG flwr 2023-08-31 02:56:35,620 | server.py:222 | fit_round 31: strategy sampled 2 clients (out of 5)\n"
     ]
    },
    {
     "name": "stdout",
     "output_type": "stream",
     "text": [
      "agrregate_fit results list length is  2\n",
      "Saving round 30 aggregated_parameters...\n",
      "agrregate_evaluate results list length is  2\n",
      "server round is  30\n",
      "loss is  2.0702402957486137\n"
     ]
    },
    {
     "name": "stderr",
     "output_type": "stream",
     "text": [
      "DEBUG flwr 2023-08-31 02:56:46,560 | server.py:236 | fit_round 31 received 2 results and 0 failures\n",
      "DEBUG flwr 2023-08-31 02:56:46,586 | server.py:173 | evaluate_round 31: strategy sampled 2 clients (out of 5)\n",
      "DEBUG flwr 2023-08-31 02:56:46,627 | server.py:187 | evaluate_round 31 received 2 results and 0 failures\n",
      "DEBUG flwr 2023-08-31 02:56:46,628 | server.py:222 | fit_round 32: strategy sampled 2 clients (out of 5)\n"
     ]
    },
    {
     "name": "stdout",
     "output_type": "stream",
     "text": [
      "agrregate_fit results list length is  2\n",
      "Saving round 31 aggregated_parameters...\n",
      "agrregate_evaluate results list length is  2\n",
      "server round is  31\n",
      "loss is  2.033271719038817\n"
     ]
    },
    {
     "name": "stderr",
     "output_type": "stream",
     "text": [
      "DEBUG flwr 2023-08-31 02:56:47,241 | server.py:236 | fit_round 32 received 2 results and 0 failures\n",
      "DEBUG flwr 2023-08-31 02:56:47,264 | server.py:173 | evaluate_round 32: strategy sampled 2 clients (out of 5)\n",
      "DEBUG flwr 2023-08-31 02:56:47,310 | server.py:187 | evaluate_round 32 received 2 results and 0 failures\n",
      "DEBUG flwr 2023-08-31 02:56:47,311 | server.py:222 | fit_round 33: strategy sampled 2 clients (out of 5)\n"
     ]
    },
    {
     "name": "stdout",
     "output_type": "stream",
     "text": [
      "agrregate_fit results list length is  2\n",
      "Saving round 32 aggregated_parameters...\n",
      "agrregate_evaluate results list length is  2\n",
      "server round is  32\n",
      "loss is  1.9796672828096118\n"
     ]
    },
    {
     "name": "stderr",
     "output_type": "stream",
     "text": [
      "DEBUG flwr 2023-08-31 02:56:59,230 | server.py:236 | fit_round 33 received 2 results and 0 failures\n",
      "DEBUG flwr 2023-08-31 02:56:59,250 | server.py:173 | evaluate_round 33: strategy sampled 2 clients (out of 5)\n",
      "DEBUG flwr 2023-08-31 02:56:59,291 | server.py:187 | evaluate_round 33 received 2 results and 0 failures\n",
      "DEBUG flwr 2023-08-31 02:56:59,292 | server.py:222 | fit_round 34: strategy sampled 2 clients (out of 5)\n"
     ]
    },
    {
     "name": "stdout",
     "output_type": "stream",
     "text": [
      "agrregate_fit results list length is  2\n",
      "Saving round 33 aggregated_parameters...\n",
      "agrregate_evaluate results list length is  2\n",
      "server round is  33\n",
      "loss is  2.144177449168207\n"
     ]
    },
    {
     "name": "stderr",
     "output_type": "stream",
     "text": [
      "DEBUG flwr 2023-08-31 02:56:59,936 | server.py:236 | fit_round 34 received 2 results and 0 failures\n",
      "DEBUG flwr 2023-08-31 02:56:59,960 | server.py:173 | evaluate_round 34: strategy sampled 2 clients (out of 5)\n",
      "DEBUG flwr 2023-08-31 02:57:00,006 | server.py:187 | evaluate_round 34 received 2 results and 0 failures\n",
      "DEBUG flwr 2023-08-31 02:57:00,008 | server.py:222 | fit_round 35: strategy sampled 2 clients (out of 5)\n"
     ]
    },
    {
     "name": "stdout",
     "output_type": "stream",
     "text": [
      "agrregate_fit results list length is  2\n",
      "Saving round 34 aggregated_parameters...\n",
      "agrregate_evaluate results list length is  2\n",
      "server round is  34\n",
      "loss is  2.133086876155268\n"
     ]
    },
    {
     "name": "stderr",
     "output_type": "stream",
     "text": [
      "DEBUG flwr 2023-08-31 02:57:00,526 | server.py:236 | fit_round 35 received 2 results and 0 failures\n",
      "DEBUG flwr 2023-08-31 02:57:00,551 | server.py:173 | evaluate_round 35: strategy sampled 2 clients (out of 5)\n",
      "DEBUG flwr 2023-08-31 02:57:00,598 | server.py:187 | evaluate_round 35 received 2 results and 0 failures\n",
      "DEBUG flwr 2023-08-31 02:57:00,599 | server.py:222 | fit_round 36: strategy sampled 2 clients (out of 5)\n"
     ]
    },
    {
     "name": "stdout",
     "output_type": "stream",
     "text": [
      "agrregate_fit results list length is  2\n",
      "Saving round 35 aggregated_parameters...\n",
      "agrregate_evaluate results list length is  2\n",
      "server round is  35\n",
      "loss is  1.8613678373382625\n"
     ]
    },
    {
     "name": "stderr",
     "output_type": "stream",
     "text": [
      "DEBUG flwr 2023-08-31 02:57:16,094 | server.py:236 | fit_round 36 received 2 results and 0 failures\n",
      "DEBUG flwr 2023-08-31 02:57:16,126 | server.py:173 | evaluate_round 36: strategy sampled 2 clients (out of 5)\n",
      "DEBUG flwr 2023-08-31 02:57:16,174 | server.py:187 | evaluate_round 36 received 2 results and 0 failures\n",
      "DEBUG flwr 2023-08-31 02:57:16,176 | server.py:222 | fit_round 37: strategy sampled 2 clients (out of 5)\n"
     ]
    },
    {
     "name": "stdout",
     "output_type": "stream",
     "text": [
      "agrregate_fit results list length is  2\n",
      "Saving round 36 aggregated_parameters...\n",
      "agrregate_evaluate results list length is  2\n",
      "server round is  36\n",
      "loss is  2.4935304990757854\n"
     ]
    },
    {
     "name": "stderr",
     "output_type": "stream",
     "text": [
      "DEBUG flwr 2023-08-31 02:57:30,794 | server.py:236 | fit_round 37 received 2 results and 0 failures\n",
      "DEBUG flwr 2023-08-31 02:57:30,815 | server.py:173 | evaluate_round 37: strategy sampled 2 clients (out of 5)\n"
     ]
    },
    {
     "name": "stdout",
     "output_type": "stream",
     "text": [
      "agrregate_fit results list length is  2\n",
      "Saving round 37 aggregated_parameters...\n"
     ]
    },
    {
     "name": "stderr",
     "output_type": "stream",
     "text": [
      "DEBUG flwr 2023-08-31 02:57:31,162 | server.py:187 | evaluate_round 37 received 2 results and 0 failures\n",
      "DEBUG flwr 2023-08-31 02:57:31,163 | server.py:222 | fit_round 38: strategy sampled 2 clients (out of 5)\n"
     ]
    },
    {
     "name": "stdout",
     "output_type": "stream",
     "text": [
      "agrregate_evaluate results list length is  2\n",
      "server round is  37\n",
      "loss is  2.081330868761553\n"
     ]
    },
    {
     "name": "stderr",
     "output_type": "stream",
     "text": [
      "DEBUG flwr 2023-08-31 02:57:31,602 | server.py:236 | fit_round 38 received 2 results and 0 failures\n",
      "DEBUG flwr 2023-08-31 02:57:31,631 | server.py:173 | evaluate_round 38: strategy sampled 2 clients (out of 5)\n",
      "DEBUG flwr 2023-08-31 02:57:31,674 | server.py:187 | evaluate_round 38 received 2 results and 0 failures\n",
      "DEBUG flwr 2023-08-31 02:57:31,675 | server.py:222 | fit_round 39: strategy sampled 2 clients (out of 5)\n"
     ]
    },
    {
     "name": "stdout",
     "output_type": "stream",
     "text": [
      "agrregate_fit results list length is  2\n",
      "Saving round 38 aggregated_parameters...\n",
      "agrregate_evaluate results list length is  2\n",
      "server round is  38\n",
      "loss is  1.9371534195933457\n"
     ]
    },
    {
     "name": "stderr",
     "output_type": "stream",
     "text": [
      "DEBUG flwr 2023-08-31 02:57:42,722 | server.py:236 | fit_round 39 received 2 results and 0 failures\n",
      "DEBUG flwr 2023-08-31 02:57:42,744 | server.py:173 | evaluate_round 39: strategy sampled 2 clients (out of 5)\n",
      "DEBUG flwr 2023-08-31 02:57:42,787 | server.py:187 | evaluate_round 39 received 2 results and 0 failures\n",
      "DEBUG flwr 2023-08-31 02:57:42,788 | server.py:222 | fit_round 40: strategy sampled 2 clients (out of 5)\n"
     ]
    },
    {
     "name": "stdout",
     "output_type": "stream",
     "text": [
      "agrregate_fit results list length is  2\n",
      "Saving round 39 aggregated_parameters...\n",
      "agrregate_evaluate results list length is  2\n",
      "server round is  39\n",
      "loss is  2.081330868761553\n"
     ]
    },
    {
     "name": "stderr",
     "output_type": "stream",
     "text": [
      "DEBUG flwr 2023-08-31 02:57:53,665 | server.py:236 | fit_round 40 received 2 results and 0 failures\n",
      "DEBUG flwr 2023-08-31 02:57:53,683 | server.py:173 | evaluate_round 40: strategy sampled 2 clients (out of 5)\n",
      "DEBUG flwr 2023-08-31 02:57:53,722 | server.py:187 | evaluate_round 40 received 2 results and 0 failures\n",
      "DEBUG flwr 2023-08-31 02:57:53,724 | server.py:222 | fit_round 41: strategy sampled 2 clients (out of 5)\n"
     ]
    },
    {
     "name": "stdout",
     "output_type": "stream",
     "text": [
      "agrregate_fit results list length is  2\n",
      "Saving round 40 aggregated_parameters...\n",
      "agrregate_evaluate results list length is  2\n",
      "server round is  40\n",
      "loss is  2.944547134935305\n"
     ]
    },
    {
     "name": "stderr",
     "output_type": "stream",
     "text": [
      "DEBUG flwr 2023-08-31 02:57:54,422 | server.py:236 | fit_round 41 received 2 results and 0 failures\n",
      "DEBUG flwr 2023-08-31 02:57:54,449 | server.py:173 | evaluate_round 41: strategy sampled 2 clients (out of 5)\n",
      "DEBUG flwr 2023-08-31 02:57:54,495 | server.py:187 | evaluate_round 41 received 2 results and 0 failures\n",
      "DEBUG flwr 2023-08-31 02:57:54,496 | server.py:222 | fit_round 42: strategy sampled 2 clients (out of 5)\n"
     ]
    },
    {
     "name": "stdout",
     "output_type": "stream",
     "text": [
      "agrregate_fit results list length is  2\n",
      "Saving round 41 aggregated_parameters...\n",
      "agrregate_evaluate results list length is  2\n",
      "server round is  41\n",
      "loss is  1.9038817005545285\n"
     ]
    },
    {
     "name": "stderr",
     "output_type": "stream",
     "text": [
      "DEBUG flwr 2023-08-31 02:57:55,123 | server.py:236 | fit_round 42 received 2 results and 0 failures\n",
      "DEBUG flwr 2023-08-31 02:57:55,159 | server.py:173 | evaluate_round 42: strategy sampled 2 clients (out of 5)\n",
      "DEBUG flwr 2023-08-31 02:57:55,214 | server.py:187 | evaluate_round 42 received 2 results and 0 failures\n",
      "DEBUG flwr 2023-08-31 02:57:55,216 | server.py:222 | fit_round 43: strategy sampled 2 clients (out of 5)\n"
     ]
    },
    {
     "name": "stdout",
     "output_type": "stream",
     "text": [
      "agrregate_fit results list length is  2\n",
      "Saving round 42 aggregated_parameters...\n",
      "agrregate_evaluate results list length is  2\n",
      "server round is  42\n",
      "loss is  2.2495378927911274\n"
     ]
    },
    {
     "name": "stderr",
     "output_type": "stream",
     "text": [
      "DEBUG flwr 2023-08-31 02:57:55,976 | server.py:236 | fit_round 43 received 2 results and 0 failures\n",
      "DEBUG flwr 2023-08-31 02:57:56,011 | server.py:173 | evaluate_round 43: strategy sampled 2 clients (out of 5)\n",
      "DEBUG flwr 2023-08-31 02:57:56,069 | server.py:187 | evaluate_round 43 received 2 results and 0 failures\n",
      "DEBUG flwr 2023-08-31 02:57:56,072 | server.py:222 | fit_round 44: strategy sampled 2 clients (out of 5)\n"
     ]
    },
    {
     "name": "stdout",
     "output_type": "stream",
     "text": [
      "agrregate_fit results list length is  2\n",
      "Saving round 43 aggregated_parameters...\n",
      "agrregate_evaluate results list length is  2\n",
      "server round is  43\n",
      "loss is  2.1035120147874307\n"
     ]
    },
    {
     "name": "stderr",
     "output_type": "stream",
     "text": [
      "DEBUG flwr 2023-08-31 02:58:07,609 | server.py:236 | fit_round 44 received 2 results and 0 failures\n",
      "DEBUG flwr 2023-08-31 02:58:07,628 | server.py:173 | evaluate_round 44: strategy sampled 2 clients (out of 5)\n",
      "DEBUG flwr 2023-08-31 02:58:07,666 | server.py:187 | evaluate_round 44 received 2 results and 0 failures\n",
      "DEBUG flwr 2023-08-31 02:58:07,667 | server.py:222 | fit_round 45: strategy sampled 2 clients (out of 5)\n"
     ]
    },
    {
     "name": "stdout",
     "output_type": "stream",
     "text": [
      "agrregate_fit results list length is  2\n",
      "Saving round 44 aggregated_parameters...\n",
      "agrregate_evaluate results list length is  2\n",
      "server round is  44\n",
      "loss is  2.133086876155268\n"
     ]
    },
    {
     "name": "stderr",
     "output_type": "stream",
     "text": [
      "DEBUG flwr 2023-08-31 02:58:18,604 | server.py:236 | fit_round 45 received 2 results and 0 failures\n",
      "DEBUG flwr 2023-08-31 02:58:18,624 | server.py:173 | evaluate_round 45: strategy sampled 2 clients (out of 5)\n",
      "DEBUG flwr 2023-08-31 02:58:18,659 | server.py:187 | evaluate_round 45 received 2 results and 0 failures\n",
      "DEBUG flwr 2023-08-31 02:58:18,660 | server.py:222 | fit_round 46: strategy sampled 2 clients (out of 5)\n"
     ]
    },
    {
     "name": "stdout",
     "output_type": "stream",
     "text": [
      "agrregate_fit results list length is  2\n",
      "Saving round 45 aggregated_parameters...\n",
      "agrregate_evaluate results list length is  2\n",
      "server round is  45\n",
      "loss is  1.8336414048059149\n"
     ]
    },
    {
     "name": "stderr",
     "output_type": "stream",
     "text": [
      "DEBUG flwr 2023-08-31 02:58:29,405 | server.py:236 | fit_round 46 received 2 results and 0 failures\n",
      "DEBUG flwr 2023-08-31 02:58:29,424 | server.py:173 | evaluate_round 46: strategy sampled 2 clients (out of 5)\n",
      "DEBUG flwr 2023-08-31 02:58:29,472 | server.py:187 | evaluate_round 46 received 2 results and 0 failures\n",
      "DEBUG flwr 2023-08-31 02:58:29,473 | server.py:222 | fit_round 47: strategy sampled 2 clients (out of 5)\n"
     ]
    },
    {
     "name": "stdout",
     "output_type": "stream",
     "text": [
      "agrregate_fit results list length is  2\n",
      "Saving round 46 aggregated_parameters...\n",
      "agrregate_evaluate results list length is  2\n",
      "server round is  46\n",
      "loss is  2.1386321626617377\n"
     ]
    },
    {
     "name": "stderr",
     "output_type": "stream",
     "text": [
      "DEBUG flwr 2023-08-31 02:58:30,141 | server.py:236 | fit_round 47 received 2 results and 0 failures\n",
      "DEBUG flwr 2023-08-31 02:58:30,164 | server.py:173 | evaluate_round 47: strategy sampled 2 clients (out of 5)\n",
      "DEBUG flwr 2023-08-31 02:58:30,209 | server.py:187 | evaluate_round 47 received 2 results and 0 failures\n",
      "DEBUG flwr 2023-08-31 02:58:30,211 | server.py:222 | fit_round 48: strategy sampled 2 clients (out of 5)\n"
     ]
    },
    {
     "name": "stdout",
     "output_type": "stream",
     "text": [
      "agrregate_fit results list length is  2\n",
      "Saving round 47 aggregated_parameters...\n",
      "agrregate_evaluate results list length is  2\n",
      "server round is  47\n",
      "loss is  2.0517560073937156\n"
     ]
    },
    {
     "name": "stderr",
     "output_type": "stream",
     "text": [
      "DEBUG flwr 2023-08-31 02:58:42,398 | server.py:236 | fit_round 48 received 2 results and 0 failures\n",
      "DEBUG flwr 2023-08-31 02:58:42,418 | server.py:173 | evaluate_round 48: strategy sampled 2 clients (out of 5)\n",
      "DEBUG flwr 2023-08-31 02:58:42,458 | server.py:187 | evaluate_round 48 received 2 results and 0 failures\n",
      "DEBUG flwr 2023-08-31 02:58:42,459 | server.py:222 | fit_round 49: strategy sampled 2 clients (out of 5)\n"
     ]
    },
    {
     "name": "stdout",
     "output_type": "stream",
     "text": [
      "agrregate_fit results list length is  2\n",
      "Saving round 48 aggregated_parameters...\n",
      "agrregate_evaluate results list length is  2\n",
      "server round is  48\n",
      "loss is  2.2717190388170057\n"
     ]
    },
    {
     "name": "stderr",
     "output_type": "stream",
     "text": [
      "DEBUG flwr 2023-08-31 02:58:43,096 | server.py:236 | fit_round 49 received 2 results and 0 failures\n",
      "DEBUG flwr 2023-08-31 02:58:43,119 | server.py:173 | evaluate_round 49: strategy sampled 2 clients (out of 5)\n",
      "DEBUG flwr 2023-08-31 02:58:43,165 | server.py:187 | evaluate_round 49 received 2 results and 0 failures\n",
      "DEBUG flwr 2023-08-31 02:58:43,167 | server.py:222 | fit_round 50: strategy sampled 2 clients (out of 5)\n"
     ]
    },
    {
     "name": "stdout",
     "output_type": "stream",
     "text": [
      "agrregate_fit results list length is  2\n",
      "Saving round 49 aggregated_parameters...\n",
      "agrregate_evaluate results list length is  2\n",
      "server round is  49\n",
      "loss is  1.9463955637707948\n"
     ]
    },
    {
     "name": "stderr",
     "output_type": "stream",
     "text": [
      "DEBUG flwr 2023-08-31 02:58:43,834 | server.py:236 | fit_round 50 received 2 results and 0 failures\n",
      "DEBUG flwr 2023-08-31 02:58:43,859 | server.py:173 | evaluate_round 50: strategy sampled 2 clients (out of 5)\n",
      "DEBUG flwr 2023-08-31 02:58:43,899 | server.py:187 | evaluate_round 50 received 2 results and 0 failures\n",
      "DEBUG flwr 2023-08-31 02:58:43,900 | server.py:222 | fit_round 51: strategy sampled 2 clients (out of 5)\n"
     ]
    },
    {
     "name": "stdout",
     "output_type": "stream",
     "text": [
      "agrregate_fit results list length is  2\n",
      "Saving round 50 aggregated_parameters...\n",
      "agrregate_evaluate results list length is  2\n",
      "server round is  50\n",
      "loss is  2.195933456561922\n"
     ]
    },
    {
     "name": "stderr",
     "output_type": "stream",
     "text": [
      "DEBUG flwr 2023-08-31 02:58:44,690 | server.py:236 | fit_round 51 received 2 results and 0 failures\n",
      "DEBUG flwr 2023-08-31 02:58:44,717 | server.py:173 | evaluate_round 51: strategy sampled 2 clients (out of 5)\n",
      "DEBUG flwr 2023-08-31 02:58:44,764 | server.py:187 | evaluate_round 51 received 2 results and 0 failures\n",
      "DEBUG flwr 2023-08-31 02:58:44,766 | server.py:222 | fit_round 52: strategy sampled 2 clients (out of 5)\n"
     ]
    },
    {
     "name": "stdout",
     "output_type": "stream",
     "text": [
      "agrregate_fit results list length is  2\n",
      "Saving round 51 aggregated_parameters...\n",
      "agrregate_evaluate results list length is  2\n",
      "server round is  51\n",
      "loss is  2.487985212569316\n"
     ]
    },
    {
     "name": "stderr",
     "output_type": "stream",
     "text": [
      "DEBUG flwr 2023-08-31 02:58:55,710 | server.py:236 | fit_round 52 received 2 results and 0 failures\n",
      "DEBUG flwr 2023-08-31 02:58:55,737 | server.py:173 | evaluate_round 52: strategy sampled 2 clients (out of 5)\n",
      "DEBUG flwr 2023-08-31 02:58:55,788 | server.py:187 | evaluate_round 52 received 2 results and 0 failures\n",
      "DEBUG flwr 2023-08-31 02:58:55,790 | server.py:222 | fit_round 53: strategy sampled 2 clients (out of 5)\n"
     ]
    },
    {
     "name": "stdout",
     "output_type": "stream",
     "text": [
      "agrregate_fit results list length is  2\n",
      "Saving round 52 aggregated_parameters...\n",
      "agrregate_evaluate results list length is  2\n",
      "server round is  52\n",
      "loss is  1.88724584103512\n"
     ]
    },
    {
     "name": "stderr",
     "output_type": "stream",
     "text": [
      "DEBUG flwr 2023-08-31 02:59:06,862 | server.py:236 | fit_round 53 received 2 results and 0 failures\n",
      "DEBUG flwr 2023-08-31 02:59:06,880 | server.py:173 | evaluate_round 53: strategy sampled 2 clients (out of 5)\n",
      "DEBUG flwr 2023-08-31 02:59:06,916 | server.py:187 | evaluate_round 53 received 2 results and 0 failures\n",
      "DEBUG flwr 2023-08-31 02:59:06,918 | server.py:222 | fit_round 54: strategy sampled 2 clients (out of 5)\n"
     ]
    },
    {
     "name": "stdout",
     "output_type": "stream",
     "text": [
      "agrregate_fit results list length is  2\n",
      "Saving round 53 aggregated_parameters...\n",
      "agrregate_evaluate results list length is  2\n",
      "server round is  53\n",
      "loss is  2.258780036968577\n"
     ]
    },
    {
     "name": "stderr",
     "output_type": "stream",
     "text": [
      "DEBUG flwr 2023-08-31 02:59:07,508 | server.py:236 | fit_round 54 received 2 results and 0 failures\n",
      "DEBUG flwr 2023-08-31 02:59:07,537 | server.py:173 | evaluate_round 54: strategy sampled 2 clients (out of 5)\n",
      "DEBUG flwr 2023-08-31 02:59:07,590 | server.py:187 | evaluate_round 54 received 2 results and 0 failures\n",
      "DEBUG flwr 2023-08-31 02:59:07,591 | server.py:222 | fit_round 55: strategy sampled 2 clients (out of 5)\n"
     ]
    },
    {
     "name": "stdout",
     "output_type": "stream",
     "text": [
      "agrregate_fit results list length is  2\n",
      "Saving round 54 aggregated_parameters...\n",
      "agrregate_evaluate results list length is  2\n",
      "server round is  54\n",
      "loss is  2.123844731977819\n"
     ]
    },
    {
     "name": "stderr",
     "output_type": "stream",
     "text": [
      "DEBUG flwr 2023-08-31 02:59:08,337 | server.py:236 | fit_round 55 received 2 results and 0 failures\n",
      "DEBUG flwr 2023-08-31 02:59:08,361 | server.py:173 | evaluate_round 55: strategy sampled 2 clients (out of 5)\n",
      "DEBUG flwr 2023-08-31 02:59:08,402 | server.py:187 | evaluate_round 55 received 2 results and 0 failures\n",
      "DEBUG flwr 2023-08-31 02:59:08,403 | server.py:222 | fit_round 56: strategy sampled 2 clients (out of 5)\n"
     ]
    },
    {
     "name": "stdout",
     "output_type": "stream",
     "text": [
      "agrregate_fit results list length is  2\n",
      "Saving round 55 aggregated_parameters...\n",
      "agrregate_evaluate results list length is  2\n",
      "server round is  55\n",
      "loss is  2.1053604436229203\n"
     ]
    },
    {
     "name": "stderr",
     "output_type": "stream",
     "text": [
      "DEBUG flwr 2023-08-31 02:59:08,894 | server.py:236 | fit_round 56 received 2 results and 0 failures\n",
      "DEBUG flwr 2023-08-31 02:59:08,921 | server.py:173 | evaluate_round 56: strategy sampled 2 clients (out of 5)\n",
      "DEBUG flwr 2023-08-31 02:59:08,964 | server.py:187 | evaluate_round 56 received 2 results and 0 failures\n",
      "DEBUG flwr 2023-08-31 02:59:08,966 | server.py:222 | fit_round 57: strategy sampled 2 clients (out of 5)\n"
     ]
    },
    {
     "name": "stdout",
     "output_type": "stream",
     "text": [
      "agrregate_fit results list length is  2\n",
      "Saving round 56 aggregated_parameters...\n",
      "agrregate_evaluate results list length is  2\n",
      "server round is  56\n",
      "loss is  2.0517560073937156\n"
     ]
    },
    {
     "name": "stderr",
     "output_type": "stream",
     "text": [
      "DEBUG flwr 2023-08-31 02:59:09,638 | server.py:236 | fit_round 57 received 2 results and 0 failures\n",
      "DEBUG flwr 2023-08-31 02:59:09,663 | server.py:173 | evaluate_round 57: strategy sampled 2 clients (out of 5)\n",
      "DEBUG flwr 2023-08-31 02:59:09,709 | server.py:187 | evaluate_round 57 received 2 results and 0 failures\n",
      "DEBUG flwr 2023-08-31 02:59:09,711 | server.py:222 | fit_round 58: strategy sampled 2 clients (out of 5)\n"
     ]
    },
    {
     "name": "stdout",
     "output_type": "stream",
     "text": [
      "agrregate_fit results list length is  2\n",
      "Saving round 57 aggregated_parameters...\n",
      "agrregate_evaluate results list length is  2\n",
      "server round is  57\n",
      "loss is  2.1035120147874307\n"
     ]
    },
    {
     "name": "stderr",
     "output_type": "stream",
     "text": [
      "DEBUG flwr 2023-08-31 02:59:10,366 | server.py:236 | fit_round 58 received 2 results and 0 failures\n",
      "DEBUG flwr 2023-08-31 02:59:10,390 | server.py:173 | evaluate_round 58: strategy sampled 2 clients (out of 5)\n",
      "DEBUG flwr 2023-08-31 02:59:10,451 | server.py:187 | evaluate_round 58 received 2 results and 0 failures\n",
      "DEBUG flwr 2023-08-31 02:59:10,454 | server.py:222 | fit_round 59: strategy sampled 2 clients (out of 5)\n"
     ]
    },
    {
     "name": "stdout",
     "output_type": "stream",
     "text": [
      "agrregate_fit results list length is  2\n",
      "Saving round 58 aggregated_parameters...\n",
      "agrregate_evaluate results list length is  2\n",
      "server round is  58\n",
      "loss is  2.0702402957486137\n"
     ]
    },
    {
     "name": "stderr",
     "output_type": "stream",
     "text": [
      "DEBUG flwr 2023-08-31 02:59:11,239 | server.py:236 | fit_round 59 received 2 results and 0 failures\n",
      "DEBUG flwr 2023-08-31 02:59:11,265 | server.py:173 | evaluate_round 59: strategy sampled 2 clients (out of 5)\n",
      "DEBUG flwr 2023-08-31 02:59:11,308 | server.py:187 | evaluate_round 59 received 2 results and 0 failures\n",
      "DEBUG flwr 2023-08-31 02:59:11,309 | server.py:222 | fit_round 60: strategy sampled 2 clients (out of 5)\n"
     ]
    },
    {
     "name": "stdout",
     "output_type": "stream",
     "text": [
      "agrregate_fit results list length is  2\n",
      "Saving round 59 aggregated_parameters...\n",
      "agrregate_evaluate results list length is  2\n",
      "server round is  59\n",
      "loss is  2.232902033271719\n"
     ]
    },
    {
     "name": "stderr",
     "output_type": "stream",
     "text": [
      "DEBUG flwr 2023-08-31 02:59:11,986 | server.py:236 | fit_round 60 received 2 results and 0 failures\n",
      "DEBUG flwr 2023-08-31 02:59:12,014 | server.py:173 | evaluate_round 60: strategy sampled 2 clients (out of 5)\n",
      "DEBUG flwr 2023-08-31 02:59:12,064 | server.py:187 | evaluate_round 60 received 2 results and 0 failures\n",
      "INFO flwr 2023-08-31 02:59:12,066 | server.py:153 | FL finished in 370.61730250000255\n",
      "INFO flwr 2023-08-31 02:59:12,068 | app.py:225 | app_fit: losses_distributed [(1, 2.6598890942698707), (2, 2.9611829944547137), (3, 2.8595194085027726), (4, 2.4158964879852127), (5, 2.8780036968576708), (6, 2.255083179297597), (7, 2.4916820702402958), (8, 2.123844731977819), (9, 2.6857670979667283), (10, 2.6247689463955637), (11, 2.4713493530499075), (12, 2.454713493530499), (13, 2.2402957486136783), (14, 2.9944547134935307), (15, 2.1645101663585953), (16, 2.578558225508318), (17, 2.1386321626617377), (18, 2.286506469500924), (19, 2.0258780036968576), (20, 2.0462107208872458), (21, 2.1127541589648797), (22, 1.9944547134935304), (23, 1.9149722735674677), (24, 2.066543438077634), (25, 2.229205175600739), (26, 2.123844731977819), (27, 2.421441774491682), (28, 2.2735674676524953), (29, 2.0), (30, 2.0702402957486137), (31, 2.033271719038817), (32, 1.9796672828096118), (33, 2.144177449168207), (34, 2.133086876155268), (35, 1.8613678373382625), (36, 2.4935304990757854), (37, 2.081330868761553), (38, 1.9371534195933457), (39, 2.081330868761553), (40, 2.944547134935305), (41, 1.9038817005545285), (42, 2.2495378927911274), (43, 2.1035120147874307), (44, 2.133086876155268), (45, 1.8336414048059149), (46, 2.1386321626617377), (47, 2.0517560073937156), (48, 2.2717190388170057), (49, 1.9463955637707948), (50, 2.195933456561922), (51, 2.487985212569316), (52, 1.88724584103512), (53, 2.258780036968577), (54, 2.123844731977819), (55, 2.1053604436229203), (56, 2.0517560073937156), (57, 2.1035120147874307), (58, 2.0702402957486137), (59, 2.232902033271719), (60, 2.0702402957486137)]\n",
      "INFO flwr 2023-08-31 02:59:12,069 | app.py:226 | app_fit: metrics_distributed_fit {}\n",
      "INFO flwr 2023-08-31 02:59:12,071 | app.py:227 | app_fit: metrics_distributed {'mse': [(1, 5.3197781885397415), (2, 5.922365988909427), (3, 5.719038817005545), (4, 4.8317929759704255), (5, 5.7560073937153415), (6, 4.510166358595194), (7, 4.9833641404805915), (8, 4.247689463955638), (9, 5.371534195933457), (10, 5.249537892791127), (11, 4.942698706099815), (12, 4.909426987060998), (13, 4.480591497227357), (14, 5.988909426987061), (15, 4.3290203327171906), (16, 5.157116451016636), (17, 4.2772643253234754), (18, 4.573012939001848), (19, 4.051756007393715), (20, 4.0924214417744915), (21, 4.2255083179297594), (22, 3.988909426987061), (23, 3.8299445471349354), (24, 4.133086876155268), (25, 4.458410351201478), (26, 4.247689463955638), (27, 4.842883548983364), (28, 4.547134935304991), (29, 4.0), (30, 4.140480591497227), (31, 4.066543438077634), (32, 3.9593345656192236), (33, 4.288354898336414), (34, 4.266173752310536), (35, 3.722735674676525), (36, 4.987060998151571), (37, 4.162661737523106), (38, 3.8743068391866915), (39, 4.162661737523106), (40, 5.88909426987061), (41, 3.807763401109057), (42, 4.499075785582255), (43, 4.207024029574861), (44, 4.266173752310536), (45, 3.6672828096118297), (46, 4.2772643253234754), (47, 4.103512014787431), (48, 4.543438077634011), (49, 3.8927911275415896), (50, 4.391866913123844), (51, 4.975970425138632), (52, 3.77449168207024), (53, 4.517560073937154), (54, 4.247689463955638), (55, 4.210720887245841), (56, 4.103512014787431), (57, 4.207024029574861), (58, 4.140480591497227), (59, 4.465804066543438), (60, 4.140480591497227)]}\n",
      "INFO flwr 2023-08-31 02:59:12,072 | app.py:228 | app_fit: losses_centralized []\n",
      "INFO flwr 2023-08-31 02:59:12,074 | app.py:229 | app_fit: metrics_centralized {}\n"
     ]
    },
    {
     "name": "stdout",
     "output_type": "stream",
     "text": [
      "agrregate_fit results list length is  2\n",
      "Saving round 60 aggregated_parameters...\n",
      "agrregate_evaluate results list length is  2\n",
      "server round is  60\n",
      "loss is  2.0702402957486137\n",
      "History (loss, distributed):\n",
      "\tround 1: 2.6598890942698707\n",
      "\tround 2: 2.9611829944547137\n",
      "\tround 3: 2.8595194085027726\n",
      "\tround 4: 2.4158964879852127\n",
      "\tround 5: 2.8780036968576708\n",
      "\tround 6: 2.255083179297597\n",
      "\tround 7: 2.4916820702402958\n",
      "\tround 8: 2.123844731977819\n",
      "\tround 9: 2.6857670979667283\n",
      "\tround 10: 2.6247689463955637\n",
      "\tround 11: 2.4713493530499075\n",
      "\tround 12: 2.454713493530499\n",
      "\tround 13: 2.2402957486136783\n",
      "\tround 14: 2.9944547134935307\n",
      "\tround 15: 2.1645101663585953\n",
      "\tround 16: 2.578558225508318\n",
      "\tround 17: 2.1386321626617377\n",
      "\tround 18: 2.286506469500924\n",
      "\tround 19: 2.0258780036968576\n",
      "\tround 20: 2.0462107208872458\n",
      "\tround 21: 2.1127541589648797\n",
      "\tround 22: 1.9944547134935304\n",
      "\tround 23: 1.9149722735674677\n",
      "\tround 24: 2.066543438077634\n",
      "\tround 25: 2.229205175600739\n",
      "\tround 26: 2.123844731977819\n",
      "\tround 27: 2.421441774491682\n",
      "\tround 28: 2.2735674676524953\n",
      "\tround 29: 2.0\n",
      "\tround 30: 2.0702402957486137\n",
      "\tround 31: 2.033271719038817\n",
      "\tround 32: 1.9796672828096118\n",
      "\tround 33: 2.144177449168207\n",
      "\tround 34: 2.133086876155268\n",
      "\tround 35: 1.8613678373382625\n",
      "\tround 36: 2.4935304990757854\n",
      "\tround 37: 2.081330868761553\n",
      "\tround 38: 1.9371534195933457\n",
      "\tround 39: 2.081330868761553\n",
      "\tround 40: 2.944547134935305\n",
      "\tround 41: 1.9038817005545285\n",
      "\tround 42: 2.2495378927911274\n",
      "\tround 43: 2.1035120147874307\n",
      "\tround 44: 2.133086876155268\n",
      "\tround 45: 1.8336414048059149\n",
      "\tround 46: 2.1386321626617377\n",
      "\tround 47: 2.0517560073937156\n",
      "\tround 48: 2.2717190388170057\n",
      "\tround 49: 1.9463955637707948\n",
      "\tround 50: 2.195933456561922\n",
      "\tround 51: 2.487985212569316\n",
      "\tround 52: 1.88724584103512\n",
      "\tround 53: 2.258780036968577\n",
      "\tround 54: 2.123844731977819\n",
      "\tround 55: 2.1053604436229203\n",
      "\tround 56: 2.0517560073937156\n",
      "\tround 57: 2.1035120147874307\n",
      "\tround 58: 2.0702402957486137\n",
      "\tround 59: 2.232902033271719\n",
      "\tround 60: 2.0702402957486137\n",
      "History (metrics, distributed, evaluate):\n",
      "{'mse': [(1, 5.3197781885397415), (2, 5.922365988909427), (3, 5.719038817005545), (4, 4.8317929759704255), (5, 5.7560073937153415), (6, 4.510166358595194), (7, 4.9833641404805915), (8, 4.247689463955638), (9, 5.371534195933457), (10, 5.249537892791127), (11, 4.942698706099815), (12, 4.909426987060998), (13, 4.480591497227357), (14, 5.988909426987061), (15, 4.3290203327171906), (16, 5.157116451016636), (17, 4.2772643253234754), (18, 4.573012939001848), (19, 4.051756007393715), (20, 4.0924214417744915), (21, 4.2255083179297594), (22, 3.988909426987061), (23, 3.8299445471349354), (24, 4.133086876155268), (25, 4.458410351201478), (26, 4.247689463955638), (27, 4.842883548983364), (28, 4.547134935304991), (29, 4.0), (30, 4.140480591497227), (31, 4.066543438077634), (32, 3.9593345656192236), (33, 4.288354898336414), (34, 4.266173752310536), (35, 3.722735674676525), (36, 4.987060998151571), (37, 4.162661737523106), (38, 3.8743068391866915), (39, 4.162661737523106), (40, 5.88909426987061), (41, 3.807763401109057), (42, 4.499075785582255), (43, 4.207024029574861), (44, 4.266173752310536), (45, 3.6672828096118297), (46, 4.2772643253234754), (47, 4.103512014787431), (48, 4.543438077634011), (49, 3.8927911275415896), (50, 4.391866913123844), (51, 4.975970425138632), (52, 3.77449168207024), (53, 4.517560073937154), (54, 4.247689463955638), (55, 4.210720887245841), (56, 4.103512014787431), (57, 4.207024029574861), (58, 4.140480591497227), (59, 4.465804066543438), (60, 4.140480591497227)]}\n",
      "[(1, 2.6598890942698707), (2, 2.9611829944547137), (3, 2.8595194085027726), (4, 2.4158964879852127), (5, 2.8780036968576708), (6, 2.255083179297597), (7, 2.4916820702402958), (8, 2.123844731977819), (9, 2.6857670979667283), (10, 2.6247689463955637), (11, 2.4713493530499075), (12, 2.454713493530499), (13, 2.2402957486136783), (14, 2.9944547134935307), (15, 2.1645101663585953), (16, 2.578558225508318), (17, 2.1386321626617377), (18, 2.286506469500924), (19, 2.0258780036968576), (20, 2.0462107208872458), (21, 2.1127541589648797), (22, 1.9944547134935304), (23, 1.9149722735674677), (24, 2.066543438077634), (25, 2.229205175600739), (26, 2.123844731977819), (27, 2.421441774491682), (28, 2.2735674676524953), (29, 2.0), (30, 2.0702402957486137), (31, 2.033271719038817), (32, 1.9796672828096118), (33, 2.144177449168207), (34, 2.133086876155268), (35, 1.8613678373382625), (36, 2.4935304990757854), (37, 2.081330868761553), (38, 1.9371534195933457), (39, 2.081330868761553), (40, 2.944547134935305), (41, 1.9038817005545285), (42, 2.2495378927911274), (43, 2.1035120147874307), (44, 2.133086876155268), (45, 1.8336414048059149), (46, 2.1386321626617377), (47, 2.0517560073937156), (48, 2.2717190388170057), (49, 1.9463955637707948), (50, 2.195933456561922), (51, 2.487985212569316), (52, 1.88724584103512), (53, 2.258780036968577), (54, 2.123844731977819), (55, 2.1053604436229203), (56, 2.0517560073937156), (57, 2.1035120147874307), (58, 2.0702402957486137), (59, 2.232902033271719), (60, 2.0702402957486137)]\n",
      "Fold 2:\n",
      "split [0.8, 0.05, 0.05, 0.05, 0.05]\n",
      "time 0:06:33.793924\n",
      "mse [2.0702402957486137]\n",
      "auc [0.8849965823650034]\n"
     ]
    }
   ],
   "source": [
    "split = [0.8, 0.05, 0.05, 0.05, 0.05]\n",
    "do_fl(split)"
   ],
   "metadata": {
    "collapsed": false,
    "ExecuteTime": {
     "end_time": "2023-08-31T01:59:12.285546Z",
     "start_time": "2023-08-31T01:52:38.344017700Z"
    }
   }
  },
  {
   "cell_type": "code",
   "execution_count": 16,
   "outputs": [
    {
     "name": "stdout",
     "output_type": "stream",
     "text": [
      "<class 'torch.Tensor'>\n",
      "<class 'torch.Tensor'>\n",
      "Fold 1:\n",
      "Client 0 trainset shape torch.Size([510, 22])\n",
      "Client 1 trainset shape torch.Size([442, 22])\n",
      "Client 2 trainset shape torch.Size([595, 22])\n",
      "Client 3 trainset shape torch.Size([540, 22])\n",
      "Client 4 trainset shape torch.Size([527, 22])\n"
     ]
    },
    {
     "name": "stderr",
     "output_type": "stream",
     "text": [
      "INFO flwr 2023-08-31 02:59:12,210 | app.py:145 | Starting Flower simulation, config: ServerConfig(num_rounds=60, round_timeout=None)\n"
     ]
    },
    {
     "name": "stdout",
     "output_type": "stream",
     "text": [
      "Client 5 trainset shape torch.Size([459, 22])\n",
      "Client 6 trainset shape torch.Size([468, 22])\n",
      "Client 7 trainset shape torch.Size([486, 22])\n",
      "Client 8 trainset shape torch.Size([496, 22])\n",
      "Client 9 trainset shape torch.Size([527, 22])\n",
      "FL started training on cpu\n",
      "Number of available GPUs: 0\n"
     ]
    },
    {
     "name": "stderr",
     "output_type": "stream",
     "text": [
      "2023-08-31 02:59:22,164\tINFO worker.py:1627 -- Started a local Ray instance. View the dashboard at \u001B[1m\u001B[32m127.0.0.1:8267 \u001B[39m\u001B[22m\n",
      "INFO flwr 2023-08-31 02:59:30,874 | app.py:179 | Flower VCE: Ray initialized with resources: {'node:127.0.0.1': 1.0, 'object_store_memory': 715800576.0, 'memory': 1431601152.0, 'GPU': 1.0, 'CPU': 8.0}\n",
      "INFO flwr 2023-08-31 02:59:30,878 | server.py:89 | Initializing global parameters\n",
      "INFO flwr 2023-08-31 02:59:30,879 | server.py:276 | Requesting initial parameters from one random client\n",
      "INFO flwr 2023-08-31 02:59:35,161 | server.py:280 | Received initial parameters from one random client\n",
      "INFO flwr 2023-08-31 02:59:35,162 | server.py:91 | Evaluating initial parameters\n",
      "INFO flwr 2023-08-31 02:59:35,163 | server.py:104 | FL starting\n",
      "DEBUG flwr 2023-08-31 02:59:35,164 | server.py:222 | fit_round 1: strategy sampled 5 clients (out of 10)\n",
      "DEBUG flwr 2023-08-31 02:59:44,309 | server.py:236 | fit_round 1 received 5 results and 0 failures\n",
      "WARNING flwr 2023-08-31 02:59:44,338 | fedavg.py:242 | No fit_metrics_aggregation_fn provided\n",
      "DEBUG flwr 2023-08-31 02:59:44,355 | server.py:173 | evaluate_round 1: strategy sampled 5 clients (out of 10)\n",
      "DEBUG flwr 2023-08-31 02:59:44,479 | server.py:187 | evaluate_round 1 received 5 results and 0 failures\n",
      "DEBUG flwr 2023-08-31 02:59:44,482 | server.py:222 | fit_round 2: strategy sampled 5 clients (out of 10)\n"
     ]
    },
    {
     "name": "stdout",
     "output_type": "stream",
     "text": [
      "agrregate_fit results list length is  5\n",
      "Saving round 1 aggregated_parameters...\n",
      "agrregate_evaluate results list length is  5\n",
      "server round is  1\n",
      "loss is  4.175600739371534\n"
     ]
    },
    {
     "name": "stderr",
     "output_type": "stream",
     "text": [
      "DEBUG flwr 2023-08-31 02:59:47,086 | server.py:236 | fit_round 2 received 5 results and 0 failures\n",
      "DEBUG flwr 2023-08-31 02:59:47,124 | server.py:173 | evaluate_round 2: strategy sampled 5 clients (out of 10)\n",
      "DEBUG flwr 2023-08-31 02:59:47,234 | server.py:187 | evaluate_round 2 received 5 results and 0 failures\n",
      "DEBUG flwr 2023-08-31 02:59:47,236 | server.py:222 | fit_round 3: strategy sampled 5 clients (out of 10)\n"
     ]
    },
    {
     "name": "stdout",
     "output_type": "stream",
     "text": [
      "agrregate_fit results list length is  5\n",
      "Saving round 2 aggregated_parameters...\n",
      "agrregate_evaluate results list length is  5\n",
      "server round is  2\n",
      "loss is  3.6931608133086877\n"
     ]
    },
    {
     "name": "stderr",
     "output_type": "stream",
     "text": [
      "DEBUG flwr 2023-08-31 02:59:49,861 | server.py:236 | fit_round 3 received 5 results and 0 failures\n",
      "DEBUG flwr 2023-08-31 02:59:49,905 | server.py:173 | evaluate_round 3: strategy sampled 5 clients (out of 10)\n",
      "DEBUG flwr 2023-08-31 02:59:50,028 | server.py:187 | evaluate_round 3 received 5 results and 0 failures\n",
      "DEBUG flwr 2023-08-31 02:59:50,030 | server.py:222 | fit_round 4: strategy sampled 5 clients (out of 10)\n"
     ]
    },
    {
     "name": "stdout",
     "output_type": "stream",
     "text": [
      "agrregate_fit results list length is  5\n",
      "Saving round 3 aggregated_parameters...\n",
      "agrregate_evaluate results list length is  5\n",
      "server round is  3\n",
      "loss is  3.1848428835489835\n"
     ]
    },
    {
     "name": "stderr",
     "output_type": "stream",
     "text": [
      "DEBUG flwr 2023-08-31 02:59:52,830 | server.py:236 | fit_round 4 received 5 results and 0 failures\n",
      "DEBUG flwr 2023-08-31 02:59:52,875 | server.py:173 | evaluate_round 4: strategy sampled 5 clients (out of 10)\n",
      "DEBUG flwr 2023-08-31 02:59:52,980 | server.py:187 | evaluate_round 4 received 5 results and 0 failures\n",
      "DEBUG flwr 2023-08-31 02:59:52,983 | server.py:222 | fit_round 5: strategy sampled 5 clients (out of 10)\n"
     ]
    },
    {
     "name": "stdout",
     "output_type": "stream",
     "text": [
      "agrregate_fit results list length is  5\n",
      "Saving round 4 aggregated_parameters...\n",
      "agrregate_evaluate results list length is  5\n",
      "server round is  4\n",
      "loss is  3.258780036968577\n"
     ]
    },
    {
     "name": "stderr",
     "output_type": "stream",
     "text": [
      "DEBUG flwr 2023-08-31 02:59:55,502 | server.py:236 | fit_round 5 received 5 results and 0 failures\n",
      "DEBUG flwr 2023-08-31 02:59:55,553 | server.py:173 | evaluate_round 5: strategy sampled 5 clients (out of 10)\n",
      "DEBUG flwr 2023-08-31 02:59:55,676 | server.py:187 | evaluate_round 5 received 5 results and 0 failures\n",
      "DEBUG flwr 2023-08-31 02:59:55,679 | server.py:222 | fit_round 6: strategy sampled 5 clients (out of 10)\n"
     ]
    },
    {
     "name": "stdout",
     "output_type": "stream",
     "text": [
      "agrregate_fit results list length is  5\n",
      "Saving round 5 aggregated_parameters...\n",
      "agrregate_evaluate results list length is  5\n",
      "server round is  5\n",
      "loss is  2.7597042513863217\n"
     ]
    },
    {
     "name": "stderr",
     "output_type": "stream",
     "text": [
      "DEBUG flwr 2023-08-31 02:59:58,586 | server.py:236 | fit_round 6 received 5 results and 0 failures\n",
      "DEBUG flwr 2023-08-31 02:59:58,624 | server.py:173 | evaluate_round 6: strategy sampled 5 clients (out of 10)\n",
      "DEBUG flwr 2023-08-31 02:59:58,728 | server.py:187 | evaluate_round 6 received 5 results and 0 failures\n",
      "DEBUG flwr 2023-08-31 02:59:58,729 | server.py:222 | fit_round 7: strategy sampled 5 clients (out of 10)\n"
     ]
    },
    {
     "name": "stdout",
     "output_type": "stream",
     "text": [
      "agrregate_fit results list length is  5\n",
      "Saving round 6 aggregated_parameters...\n",
      "agrregate_evaluate results list length is  5\n",
      "server round is  6\n",
      "loss is  2.6044362292051755\n"
     ]
    },
    {
     "name": "stderr",
     "output_type": "stream",
     "text": [
      "DEBUG flwr 2023-08-31 03:00:01,274 | server.py:236 | fit_round 7 received 5 results and 0 failures\n",
      "DEBUG flwr 2023-08-31 03:00:01,358 | server.py:173 | evaluate_round 7: strategy sampled 5 clients (out of 10)\n",
      "DEBUG flwr 2023-08-31 03:00:01,491 | server.py:187 | evaluate_round 7 received 5 results and 0 failures\n"
     ]
    },
    {
     "name": "stdout",
     "output_type": "stream",
     "text": [
      "agrregate_fit results list length is  5\n",
      "Saving round 7 aggregated_parameters...\n"
     ]
    },
    {
     "name": "stderr",
     "output_type": "stream",
     "text": [
      "DEBUG flwr 2023-08-31 03:00:01,495 | server.py:222 | fit_round 8: strategy sampled 5 clients (out of 10)\n"
     ]
    },
    {
     "name": "stdout",
     "output_type": "stream",
     "text": [
      "agrregate_evaluate results list length is  5\n",
      "server round is  7\n",
      "loss is  2.563770794824399\n"
     ]
    },
    {
     "name": "stderr",
     "output_type": "stream",
     "text": [
      "DEBUG flwr 2023-08-31 03:00:04,319 | server.py:236 | fit_round 8 received 5 results and 0 failures\n",
      "DEBUG flwr 2023-08-31 03:00:04,376 | server.py:173 | evaluate_round 8: strategy sampled 5 clients (out of 10)\n",
      "DEBUG flwr 2023-08-31 03:00:04,483 | server.py:187 | evaluate_round 8 received 5 results and 0 failures\n",
      "DEBUG flwr 2023-08-31 03:00:04,486 | server.py:222 | fit_round 9: strategy sampled 5 clients (out of 10)\n"
     ]
    },
    {
     "name": "stdout",
     "output_type": "stream",
     "text": [
      "agrregate_fit results list length is  5\n",
      "Saving round 8 aggregated_parameters...\n",
      "agrregate_evaluate results list length is  5\n",
      "server round is  8\n",
      "loss is  2.8059149722735675\n"
     ]
    },
    {
     "name": "stderr",
     "output_type": "stream",
     "text": [
      "DEBUG flwr 2023-08-31 03:00:07,246 | server.py:236 | fit_round 9 received 5 results and 0 failures\n",
      "DEBUG flwr 2023-08-31 03:00:07,307 | server.py:173 | evaluate_round 9: strategy sampled 5 clients (out of 10)\n",
      "DEBUG flwr 2023-08-31 03:00:07,435 | server.py:187 | evaluate_round 9 received 5 results and 0 failures\n"
     ]
    },
    {
     "name": "stdout",
     "output_type": "stream",
     "text": [
      "agrregate_fit results list length is  5\n",
      "Saving round 9 aggregated_parameters...\n"
     ]
    },
    {
     "name": "stderr",
     "output_type": "stream",
     "text": [
      "DEBUG flwr 2023-08-31 03:00:07,438 | server.py:222 | fit_round 10: strategy sampled 5 clients (out of 10)\n"
     ]
    },
    {
     "name": "stdout",
     "output_type": "stream",
     "text": [
      "agrregate_evaluate results list length is  5\n",
      "server round is  9\n",
      "loss is  2.402957486136784\n"
     ]
    },
    {
     "name": "stderr",
     "output_type": "stream",
     "text": [
      "DEBUG flwr 2023-08-31 03:00:10,209 | server.py:236 | fit_round 10 received 5 results and 0 failures\n",
      "DEBUG flwr 2023-08-31 03:00:10,273 | server.py:173 | evaluate_round 10: strategy sampled 5 clients (out of 10)\n",
      "DEBUG flwr 2023-08-31 03:00:10,405 | server.py:187 | evaluate_round 10 received 5 results and 0 failures\n",
      "DEBUG flwr 2023-08-31 03:00:10,406 | server.py:222 | fit_round 11: strategy sampled 5 clients (out of 10)\n"
     ]
    },
    {
     "name": "stdout",
     "output_type": "stream",
     "text": [
      "agrregate_fit results list length is  5\n",
      "Saving round 10 aggregated_parameters...\n",
      "agrregate_evaluate results list length is  5\n",
      "server round is  10\n",
      "loss is  2.312384473197782\n"
     ]
    },
    {
     "name": "stderr",
     "output_type": "stream",
     "text": [
      "DEBUG flwr 2023-08-31 03:00:12,921 | server.py:236 | fit_round 11 received 5 results and 0 failures\n",
      "DEBUG flwr 2023-08-31 03:00:12,969 | server.py:173 | evaluate_round 11: strategy sampled 5 clients (out of 10)\n",
      "DEBUG flwr 2023-08-31 03:00:13,088 | server.py:187 | evaluate_round 11 received 5 results and 0 failures\n",
      "DEBUG flwr 2023-08-31 03:00:13,090 | server.py:222 | fit_round 12: strategy sampled 5 clients (out of 10)\n"
     ]
    },
    {
     "name": "stdout",
     "output_type": "stream",
     "text": [
      "agrregate_fit results list length is  5\n",
      "Saving round 11 aggregated_parameters...\n",
      "agrregate_evaluate results list length is  5\n",
      "server round is  11\n",
      "loss is  2.6377079482439925\n"
     ]
    },
    {
     "name": "stderr",
     "output_type": "stream",
     "text": [
      "DEBUG flwr 2023-08-31 03:00:15,677 | server.py:236 | fit_round 12 received 5 results and 0 failures\n",
      "DEBUG flwr 2023-08-31 03:00:15,722 | server.py:173 | evaluate_round 12: strategy sampled 5 clients (out of 10)\n",
      "DEBUG flwr 2023-08-31 03:00:15,825 | server.py:187 | evaluate_round 12 received 5 results and 0 failures\n",
      "DEBUG flwr 2023-08-31 03:00:15,827 | server.py:222 | fit_round 13: strategy sampled 5 clients (out of 10)\n"
     ]
    },
    {
     "name": "stdout",
     "output_type": "stream",
     "text": [
      "agrregate_fit results list length is  5\n",
      "Saving round 12 aggregated_parameters...\n",
      "agrregate_evaluate results list length is  5\n",
      "server round is  12\n",
      "loss is  2.290203327171904\n"
     ]
    },
    {
     "name": "stderr",
     "output_type": "stream",
     "text": [
      "DEBUG flwr 2023-08-31 03:00:18,548 | server.py:236 | fit_round 13 received 5 results and 0 failures\n",
      "DEBUG flwr 2023-08-31 03:00:18,594 | server.py:173 | evaluate_round 13: strategy sampled 5 clients (out of 10)\n",
      "DEBUG flwr 2023-08-31 03:00:18,722 | server.py:187 | evaluate_round 13 received 5 results and 0 failures\n"
     ]
    },
    {
     "name": "stdout",
     "output_type": "stream",
     "text": [
      "agrregate_fit results list length is  5\n",
      "Saving round 13 aggregated_parameters...\n"
     ]
    },
    {
     "name": "stderr",
     "output_type": "stream",
     "text": [
      "DEBUG flwr 2023-08-31 03:00:18,725 | server.py:222 | fit_round 14: strategy sampled 5 clients (out of 10)\n"
     ]
    },
    {
     "name": "stdout",
     "output_type": "stream",
     "text": [
      "agrregate_evaluate results list length is  5\n",
      "server round is  13\n",
      "loss is  2.2717190388170057\n"
     ]
    },
    {
     "name": "stderr",
     "output_type": "stream",
     "text": [
      "DEBUG flwr 2023-08-31 03:00:22,423 | server.py:236 | fit_round 14 received 5 results and 0 failures\n",
      "DEBUG flwr 2023-08-31 03:00:22,464 | server.py:173 | evaluate_round 14: strategy sampled 5 clients (out of 10)\n",
      "DEBUG flwr 2023-08-31 03:00:22,594 | server.py:187 | evaluate_round 14 received 5 results and 0 failures\n",
      "DEBUG flwr 2023-08-31 03:00:22,596 | server.py:222 | fit_round 15: strategy sampled 5 clients (out of 10)\n"
     ]
    },
    {
     "name": "stdout",
     "output_type": "stream",
     "text": [
      "agrregate_fit results list length is  5\n",
      "Saving round 14 aggregated_parameters...\n",
      "agrregate_evaluate results list length is  5\n",
      "server round is  14\n",
      "loss is  2.4842883548983363\n"
     ]
    },
    {
     "name": "stderr",
     "output_type": "stream",
     "text": [
      "DEBUG flwr 2023-08-31 03:00:25,206 | server.py:236 | fit_round 15 received 5 results and 0 failures\n",
      "DEBUG flwr 2023-08-31 03:00:25,254 | server.py:173 | evaluate_round 15: strategy sampled 5 clients (out of 10)\n"
     ]
    },
    {
     "name": "stdout",
     "output_type": "stream",
     "text": [
      "agrregate_fit results list length is  5\n",
      "Saving round 15 aggregated_parameters...\n"
     ]
    },
    {
     "name": "stderr",
     "output_type": "stream",
     "text": [
      "DEBUG flwr 2023-08-31 03:00:25,413 | server.py:187 | evaluate_round 15 received 5 results and 0 failures\n",
      "DEBUG flwr 2023-08-31 03:00:25,416 | server.py:222 | fit_round 16: strategy sampled 5 clients (out of 10)\n"
     ]
    },
    {
     "name": "stdout",
     "output_type": "stream",
     "text": [
      "agrregate_evaluate results list length is  5\n",
      "server round is  15\n",
      "loss is  2.2144177449168208\n"
     ]
    },
    {
     "name": "stderr",
     "output_type": "stream",
     "text": [
      "DEBUG flwr 2023-08-31 03:00:27,992 | server.py:236 | fit_round 16 received 5 results and 0 failures\n",
      "DEBUG flwr 2023-08-31 03:00:28,035 | server.py:173 | evaluate_round 16: strategy sampled 5 clients (out of 10)\n",
      "DEBUG flwr 2023-08-31 03:00:28,161 | server.py:187 | evaluate_round 16 received 5 results and 0 failures\n",
      "DEBUG flwr 2023-08-31 03:00:28,163 | server.py:222 | fit_round 17: strategy sampled 5 clients (out of 10)\n"
     ]
    },
    {
     "name": "stdout",
     "output_type": "stream",
     "text": [
      "agrregate_fit results list length is  5\n",
      "Saving round 16 aggregated_parameters...\n",
      "agrregate_evaluate results list length is  5\n",
      "server round is  16\n",
      "loss is  2.4085027726432533\n"
     ]
    },
    {
     "name": "stderr",
     "output_type": "stream",
     "text": [
      "DEBUG flwr 2023-08-31 03:00:30,965 | server.py:236 | fit_round 17 received 5 results and 0 failures\n",
      "DEBUG flwr 2023-08-31 03:00:31,016 | server.py:173 | evaluate_round 17: strategy sampled 5 clients (out of 10)\n",
      "DEBUG flwr 2023-08-31 03:00:31,122 | server.py:187 | evaluate_round 17 received 5 results and 0 failures\n",
      "DEBUG flwr 2023-08-31 03:00:31,125 | server.py:222 | fit_round 18: strategy sampled 5 clients (out of 10)\n"
     ]
    },
    {
     "name": "stdout",
     "output_type": "stream",
     "text": [
      "agrregate_fit results list length is  5\n",
      "Saving round 17 aggregated_parameters...\n",
      "agrregate_evaluate results list length is  5\n",
      "server round is  17\n",
      "loss is  2.589648798521257\n"
     ]
    },
    {
     "name": "stderr",
     "output_type": "stream",
     "text": [
      "DEBUG flwr 2023-08-31 03:00:33,758 | server.py:236 | fit_round 18 received 5 results and 0 failures\n",
      "DEBUG flwr 2023-08-31 03:00:33,807 | server.py:173 | evaluate_round 18: strategy sampled 5 clients (out of 10)\n",
      "DEBUG flwr 2023-08-31 03:00:33,910 | server.py:187 | evaluate_round 18 received 5 results and 0 failures\n",
      "DEBUG flwr 2023-08-31 03:00:33,912 | server.py:222 | fit_round 19: strategy sampled 5 clients (out of 10)\n"
     ]
    },
    {
     "name": "stdout",
     "output_type": "stream",
     "text": [
      "agrregate_fit results list length is  5\n",
      "Saving round 18 aggregated_parameters...\n",
      "agrregate_evaluate results list length is  5\n",
      "server round is  18\n",
      "loss is  2.3031423290203326\n"
     ]
    },
    {
     "name": "stderr",
     "output_type": "stream",
     "text": [
      "DEBUG flwr 2023-08-31 03:00:36,778 | server.py:236 | fit_round 19 received 5 results and 0 failures\n",
      "DEBUG flwr 2023-08-31 03:00:36,819 | server.py:173 | evaluate_round 19: strategy sampled 5 clients (out of 10)\n",
      "DEBUG flwr 2023-08-31 03:00:36,935 | server.py:187 | evaluate_round 19 received 5 results and 0 failures\n",
      "DEBUG flwr 2023-08-31 03:00:36,937 | server.py:222 | fit_round 20: strategy sampled 5 clients (out of 10)\n"
     ]
    },
    {
     "name": "stdout",
     "output_type": "stream",
     "text": [
      "agrregate_fit results list length is  5\n",
      "Saving round 19 aggregated_parameters...\n",
      "agrregate_evaluate results list length is  5\n",
      "server round is  19\n",
      "loss is  2.188539741219963\n"
     ]
    },
    {
     "name": "stderr",
     "output_type": "stream",
     "text": [
      "DEBUG flwr 2023-08-31 03:00:39,827 | server.py:236 | fit_round 20 received 5 results and 0 failures\n",
      "DEBUG flwr 2023-08-31 03:00:39,868 | server.py:173 | evaluate_round 20: strategy sampled 5 clients (out of 10)\n",
      "DEBUG flwr 2023-08-31 03:00:39,969 | server.py:187 | evaluate_round 20 received 5 results and 0 failures\n",
      "DEBUG flwr 2023-08-31 03:00:39,971 | server.py:222 | fit_round 21: strategy sampled 5 clients (out of 10)\n"
     ]
    },
    {
     "name": "stdout",
     "output_type": "stream",
     "text": [
      "agrregate_fit results list length is  5\n",
      "Saving round 20 aggregated_parameters...\n",
      "agrregate_evaluate results list length is  5\n",
      "server round is  20\n",
      "loss is  2.2181146025878005\n"
     ]
    },
    {
     "name": "stderr",
     "output_type": "stream",
     "text": [
      "DEBUG flwr 2023-08-31 03:00:42,623 | server.py:236 | fit_round 21 received 5 results and 0 failures\n",
      "DEBUG flwr 2023-08-31 03:00:42,668 | server.py:173 | evaluate_round 21: strategy sampled 5 clients (out of 10)\n",
      "DEBUG flwr 2023-08-31 03:00:42,802 | server.py:187 | evaluate_round 21 received 5 results and 0 failures\n"
     ]
    },
    {
     "name": "stdout",
     "output_type": "stream",
     "text": [
      "agrregate_fit results list length is  5\n",
      "Saving round 21 aggregated_parameters...\n"
     ]
    },
    {
     "name": "stderr",
     "output_type": "stream",
     "text": [
      "DEBUG flwr 2023-08-31 03:00:42,805 | server.py:222 | fit_round 22: strategy sampled 5 clients (out of 10)\n"
     ]
    },
    {
     "name": "stdout",
     "output_type": "stream",
     "text": [
      "agrregate_evaluate results list length is  5\n",
      "server round is  21\n",
      "loss is  2.166358595194085\n"
     ]
    },
    {
     "name": "stderr",
     "output_type": "stream",
     "text": [
      "DEBUG flwr 2023-08-31 03:00:45,324 | server.py:236 | fit_round 22 received 5 results and 0 failures\n",
      "DEBUG flwr 2023-08-31 03:00:45,376 | server.py:173 | evaluate_round 22: strategy sampled 5 clients (out of 10)\n",
      "DEBUG flwr 2023-08-31 03:00:45,519 | server.py:187 | evaluate_round 22 received 5 results and 0 failures\n"
     ]
    },
    {
     "name": "stdout",
     "output_type": "stream",
     "text": [
      "agrregate_fit results list length is  5\n",
      "Saving round 22 aggregated_parameters...\n"
     ]
    },
    {
     "name": "stderr",
     "output_type": "stream",
     "text": [
      "DEBUG flwr 2023-08-31 03:00:45,522 | server.py:222 | fit_round 23: strategy sampled 5 clients (out of 10)\n"
     ]
    },
    {
     "name": "stdout",
     "output_type": "stream",
     "text": [
      "agrregate_evaluate results list length is  5\n",
      "server round is  22\n",
      "loss is  2.3622920517560075\n"
     ]
    },
    {
     "name": "stderr",
     "output_type": "stream",
     "text": [
      "DEBUG flwr 2023-08-31 03:00:48,312 | server.py:236 | fit_round 23 received 5 results and 0 failures\n",
      "DEBUG flwr 2023-08-31 03:00:48,361 | server.py:173 | evaluate_round 23: strategy sampled 5 clients (out of 10)\n",
      "DEBUG flwr 2023-08-31 03:00:48,471 | server.py:187 | evaluate_round 23 received 5 results and 0 failures\n",
      "DEBUG flwr 2023-08-31 03:00:48,473 | server.py:222 | fit_round 24: strategy sampled 5 clients (out of 10)\n"
     ]
    },
    {
     "name": "stdout",
     "output_type": "stream",
     "text": [
      "agrregate_fit results list length is  5\n",
      "Saving round 23 aggregated_parameters...\n",
      "agrregate_evaluate results list length is  5\n",
      "server round is  23\n",
      "loss is  2.210720887245841\n"
     ]
    },
    {
     "name": "stderr",
     "output_type": "stream",
     "text": [
      "DEBUG flwr 2023-08-31 03:00:50,985 | server.py:236 | fit_round 24 received 5 results and 0 failures\n",
      "DEBUG flwr 2023-08-31 03:00:51,050 | server.py:173 | evaluate_round 24: strategy sampled 5 clients (out of 10)\n",
      "DEBUG flwr 2023-08-31 03:00:51,168 | server.py:187 | evaluate_round 24 received 5 results and 0 failures\n"
     ]
    },
    {
     "name": "stdout",
     "output_type": "stream",
     "text": [
      "agrregate_fit results list length is  5\n",
      "Saving round 24 aggregated_parameters...\n"
     ]
    },
    {
     "name": "stderr",
     "output_type": "stream",
     "text": [
      "DEBUG flwr 2023-08-31 03:00:51,170 | server.py:222 | fit_round 25: strategy sampled 5 clients (out of 10)\n"
     ]
    },
    {
     "name": "stdout",
     "output_type": "stream",
     "text": [
      "agrregate_evaluate results list length is  5\n",
      "server round is  24\n",
      "loss is  2.2162661737523104\n"
     ]
    },
    {
     "name": "stderr",
     "output_type": "stream",
     "text": [
      "DEBUG flwr 2023-08-31 03:00:53,838 | server.py:236 | fit_round 25 received 5 results and 0 failures\n",
      "DEBUG flwr 2023-08-31 03:00:53,898 | server.py:173 | evaluate_round 25: strategy sampled 5 clients (out of 10)\n",
      "DEBUG flwr 2023-08-31 03:00:54,020 | server.py:187 | evaluate_round 25 received 5 results and 0 failures\n"
     ]
    },
    {
     "name": "stdout",
     "output_type": "stream",
     "text": [
      "agrregate_fit results list length is  5\n",
      "Saving round 25 aggregated_parameters...\n"
     ]
    },
    {
     "name": "stderr",
     "output_type": "stream",
     "text": [
      "DEBUG flwr 2023-08-31 03:00:54,023 | server.py:222 | fit_round 26: strategy sampled 5 clients (out of 10)\n"
     ]
    },
    {
     "name": "stdout",
     "output_type": "stream",
     "text": [
      "agrregate_evaluate results list length is  5\n",
      "server round is  25\n",
      "loss is  2.319778188539741\n"
     ]
    },
    {
     "name": "stderr",
     "output_type": "stream",
     "text": [
      "DEBUG flwr 2023-08-31 03:00:56,813 | server.py:236 | fit_round 26 received 5 results and 0 failures\n",
      "DEBUG flwr 2023-08-31 03:00:56,862 | server.py:173 | evaluate_round 26: strategy sampled 5 clients (out of 10)\n",
      "DEBUG flwr 2023-08-31 03:00:56,984 | server.py:187 | evaluate_round 26 received 5 results and 0 failures\n",
      "DEBUG flwr 2023-08-31 03:00:56,986 | server.py:222 | fit_round 27: strategy sampled 5 clients (out of 10)\n"
     ]
    },
    {
     "name": "stdout",
     "output_type": "stream",
     "text": [
      "agrregate_fit results list length is  5\n",
      "Saving round 26 aggregated_parameters...\n",
      "agrregate_evaluate results list length is  5\n",
      "server round is  26\n",
      "loss is  2.3290203327171906\n"
     ]
    },
    {
     "name": "stderr",
     "output_type": "stream",
     "text": [
      "DEBUG flwr 2023-08-31 03:00:59,482 | server.py:236 | fit_round 27 received 5 results and 0 failures\n",
      "DEBUG flwr 2023-08-31 03:00:59,527 | server.py:173 | evaluate_round 27: strategy sampled 5 clients (out of 10)\n"
     ]
    },
    {
     "name": "stdout",
     "output_type": "stream",
     "text": [
      "agrregate_fit results list length is  5\n",
      "Saving round 27 aggregated_parameters...\n"
     ]
    },
    {
     "name": "stderr",
     "output_type": "stream",
     "text": [
      "DEBUG flwr 2023-08-31 03:00:59,780 | server.py:187 | evaluate_round 27 received 5 results and 0 failures\n",
      "DEBUG flwr 2023-08-31 03:00:59,782 | server.py:222 | fit_round 28: strategy sampled 5 clients (out of 10)\n"
     ]
    },
    {
     "name": "stdout",
     "output_type": "stream",
     "text": [
      "agrregate_evaluate results list length is  5\n",
      "server round is  27\n",
      "loss is  2.3142329020332717\n"
     ]
    },
    {
     "name": "stderr",
     "output_type": "stream",
     "text": [
      "DEBUG flwr 2023-08-31 03:01:02,794 | server.py:236 | fit_round 28 received 5 results and 0 failures\n",
      "DEBUG flwr 2023-08-31 03:01:02,834 | server.py:173 | evaluate_round 28: strategy sampled 5 clients (out of 10)\n"
     ]
    },
    {
     "name": "stdout",
     "output_type": "stream",
     "text": [
      "agrregate_fit results list length is  5\n",
      "Saving round 28 aggregated_parameters...\n"
     ]
    },
    {
     "name": "stderr",
     "output_type": "stream",
     "text": [
      "DEBUG flwr 2023-08-31 03:01:03,023 | server.py:187 | evaluate_round 28 received 5 results and 0 failures\n",
      "DEBUG flwr 2023-08-31 03:01:03,025 | server.py:222 | fit_round 29: strategy sampled 5 clients (out of 10)\n"
     ]
    },
    {
     "name": "stdout",
     "output_type": "stream",
     "text": [
      "agrregate_evaluate results list length is  5\n",
      "server round is  28\n",
      "loss is  2.277264325323475\n"
     ]
    },
    {
     "name": "stderr",
     "output_type": "stream",
     "text": [
      "DEBUG flwr 2023-08-31 03:01:05,436 | server.py:236 | fit_round 29 received 5 results and 0 failures\n",
      "DEBUG flwr 2023-08-31 03:01:05,481 | server.py:173 | evaluate_round 29: strategy sampled 5 clients (out of 10)\n"
     ]
    },
    {
     "name": "stdout",
     "output_type": "stream",
     "text": [
      "agrregate_fit results list length is  5\n",
      "Saving round 29 aggregated_parameters...\n"
     ]
    },
    {
     "name": "stderr",
     "output_type": "stream",
     "text": [
      "DEBUG flwr 2023-08-31 03:01:05,675 | server.py:187 | evaluate_round 29 received 5 results and 0 failures\n",
      "DEBUG flwr 2023-08-31 03:01:05,678 | server.py:222 | fit_round 30: strategy sampled 5 clients (out of 10)\n"
     ]
    },
    {
     "name": "stdout",
     "output_type": "stream",
     "text": [
      "agrregate_evaluate results list length is  5\n",
      "server round is  29\n",
      "loss is  2.255083179297597\n"
     ]
    },
    {
     "name": "stderr",
     "output_type": "stream",
     "text": [
      "DEBUG flwr 2023-08-31 03:01:08,400 | server.py:236 | fit_round 30 received 5 results and 0 failures\n",
      "DEBUG flwr 2023-08-31 03:01:08,440 | server.py:173 | evaluate_round 30: strategy sampled 5 clients (out of 10)\n",
      "DEBUG flwr 2023-08-31 03:01:08,557 | server.py:187 | evaluate_round 30 received 5 results and 0 failures\n",
      "DEBUG flwr 2023-08-31 03:01:08,559 | server.py:222 | fit_round 31: strategy sampled 5 clients (out of 10)\n"
     ]
    },
    {
     "name": "stdout",
     "output_type": "stream",
     "text": [
      "agrregate_fit results list length is  5\n",
      "Saving round 30 aggregated_parameters...\n",
      "agrregate_evaluate results list length is  5\n",
      "server round is  30\n",
      "loss is  2.077634011090573\n"
     ]
    },
    {
     "name": "stderr",
     "output_type": "stream",
     "text": [
      "DEBUG flwr 2023-08-31 03:01:11,364 | server.py:236 | fit_round 31 received 5 results and 0 failures\n",
      "DEBUG flwr 2023-08-31 03:01:11,402 | server.py:173 | evaluate_round 31: strategy sampled 5 clients (out of 10)\n"
     ]
    },
    {
     "name": "stdout",
     "output_type": "stream",
     "text": [
      "agrregate_fit results list length is  5\n",
      "Saving round 31 aggregated_parameters...\n"
     ]
    },
    {
     "name": "stderr",
     "output_type": "stream",
     "text": [
      "DEBUG flwr 2023-08-31 03:01:11,610 | server.py:187 | evaluate_round 31 received 5 results and 0 failures\n",
      "DEBUG flwr 2023-08-31 03:01:11,613 | server.py:222 | fit_round 32: strategy sampled 5 clients (out of 10)\n"
     ]
    },
    {
     "name": "stdout",
     "output_type": "stream",
     "text": [
      "agrregate_evaluate results list length is  5\n",
      "server round is  31\n",
      "loss is  2.147874306839187\n"
     ]
    },
    {
     "name": "stderr",
     "output_type": "stream",
     "text": [
      "DEBUG flwr 2023-08-31 03:01:14,131 | server.py:236 | fit_round 32 received 5 results and 0 failures\n",
      "DEBUG flwr 2023-08-31 03:01:14,190 | server.py:173 | evaluate_round 32: strategy sampled 5 clients (out of 10)\n",
      "DEBUG flwr 2023-08-31 03:01:14,302 | server.py:187 | evaluate_round 32 received 5 results and 0 failures\n",
      "DEBUG flwr 2023-08-31 03:01:14,305 | server.py:222 | fit_round 33: strategy sampled 5 clients (out of 10)\n"
     ]
    },
    {
     "name": "stdout",
     "output_type": "stream",
     "text": [
      "agrregate_fit results list length is  5\n",
      "Saving round 32 aggregated_parameters...\n",
      "agrregate_evaluate results list length is  5\n",
      "server round is  32\n",
      "loss is  2.210720887245841\n"
     ]
    },
    {
     "name": "stderr",
     "output_type": "stream",
     "text": [
      "DEBUG flwr 2023-08-31 03:01:16,987 | server.py:236 | fit_round 33 received 5 results and 0 failures\n",
      "DEBUG flwr 2023-08-31 03:01:17,029 | server.py:173 | evaluate_round 33: strategy sampled 5 clients (out of 10)\n",
      "DEBUG flwr 2023-08-31 03:01:17,131 | server.py:187 | evaluate_round 33 received 5 results and 0 failures\n",
      "DEBUG flwr 2023-08-31 03:01:17,133 | server.py:222 | fit_round 34: strategy sampled 5 clients (out of 10)\n"
     ]
    },
    {
     "name": "stdout",
     "output_type": "stream",
     "text": [
      "agrregate_fit results list length is  5\n",
      "Saving round 33 aggregated_parameters...\n",
      "agrregate_evaluate results list length is  5\n",
      "server round is  33\n",
      "loss is  2.053604436229205\n"
     ]
    },
    {
     "name": "stderr",
     "output_type": "stream",
     "text": [
      "DEBUG flwr 2023-08-31 03:01:19,918 | server.py:236 | fit_round 34 received 5 results and 0 failures\n",
      "DEBUG flwr 2023-08-31 03:01:19,967 | server.py:173 | evaluate_round 34: strategy sampled 5 clients (out of 10)\n",
      "DEBUG flwr 2023-08-31 03:01:20,070 | server.py:187 | evaluate_round 34 received 5 results and 0 failures\n",
      "DEBUG flwr 2023-08-31 03:01:20,071 | server.py:222 | fit_round 35: strategy sampled 5 clients (out of 10)\n"
     ]
    },
    {
     "name": "stdout",
     "output_type": "stream",
     "text": [
      "agrregate_fit results list length is  5\n",
      "Saving round 34 aggregated_parameters...\n",
      "agrregate_evaluate results list length is  5\n",
      "server round is  34\n",
      "loss is  2.297597042513863\n"
     ]
    },
    {
     "name": "stderr",
     "output_type": "stream",
     "text": [
      "DEBUG flwr 2023-08-31 03:01:23,661 | server.py:236 | fit_round 35 received 5 results and 0 failures\n",
      "DEBUG flwr 2023-08-31 03:01:23,725 | server.py:173 | evaluate_round 35: strategy sampled 5 clients (out of 10)\n",
      "DEBUG flwr 2023-08-31 03:01:23,848 | server.py:187 | evaluate_round 35 received 5 results and 0 failures\n"
     ]
    },
    {
     "name": "stdout",
     "output_type": "stream",
     "text": [
      "agrregate_fit results list length is  5\n",
      "Saving round 35 aggregated_parameters...\n"
     ]
    },
    {
     "name": "stderr",
     "output_type": "stream",
     "text": [
      "DEBUG flwr 2023-08-31 03:01:23,851 | server.py:222 | fit_round 36: strategy sampled 5 clients (out of 10)\n"
     ]
    },
    {
     "name": "stdout",
     "output_type": "stream",
     "text": [
      "agrregate_evaluate results list length is  5\n",
      "server round is  35\n",
      "loss is  2.1090573012939\n"
     ]
    },
    {
     "name": "stderr",
     "output_type": "stream",
     "text": [
      "DEBUG flwr 2023-08-31 03:01:26,459 | server.py:236 | fit_round 36 received 5 results and 0 failures\n",
      "DEBUG flwr 2023-08-31 03:01:26,504 | server.py:173 | evaluate_round 36: strategy sampled 5 clients (out of 10)\n",
      "DEBUG flwr 2023-08-31 03:01:26,618 | server.py:187 | evaluate_round 36 received 5 results and 0 failures\n",
      "DEBUG flwr 2023-08-31 03:01:26,620 | server.py:222 | fit_round 37: strategy sampled 5 clients (out of 10)\n"
     ]
    },
    {
     "name": "stdout",
     "output_type": "stream",
     "text": [
      "agrregate_fit results list length is  5\n",
      "Saving round 36 aggregated_parameters...\n",
      "agrregate_evaluate results list length is  5\n",
      "server round is  36\n",
      "loss is  2.2624768946395566\n"
     ]
    },
    {
     "name": "stderr",
     "output_type": "stream",
     "text": [
      "DEBUG flwr 2023-08-31 03:01:29,415 | server.py:236 | fit_round 37 received 5 results and 0 failures\n",
      "DEBUG flwr 2023-08-31 03:01:29,454 | server.py:173 | evaluate_round 37: strategy sampled 5 clients (out of 10)\n",
      "DEBUG flwr 2023-08-31 03:01:29,559 | server.py:187 | evaluate_round 37 received 5 results and 0 failures\n",
      "DEBUG flwr 2023-08-31 03:01:29,561 | server.py:222 | fit_round 38: strategy sampled 5 clients (out of 10)\n"
     ]
    },
    {
     "name": "stdout",
     "output_type": "stream",
     "text": [
      "agrregate_fit results list length is  5\n",
      "Saving round 37 aggregated_parameters...\n",
      "agrregate_evaluate results list length is  5\n",
      "server round is  37\n",
      "loss is  2.1792975970425137\n"
     ]
    },
    {
     "name": "stderr",
     "output_type": "stream",
     "text": [
      "DEBUG flwr 2023-08-31 03:01:32,267 | server.py:236 | fit_round 38 received 5 results and 0 failures\n",
      "DEBUG flwr 2023-08-31 03:01:32,317 | server.py:173 | evaluate_round 38: strategy sampled 5 clients (out of 10)\n",
      "DEBUG flwr 2023-08-31 03:01:32,447 | server.py:187 | evaluate_round 38 received 5 results and 0 failures\n",
      "DEBUG flwr 2023-08-31 03:01:32,449 | server.py:222 | fit_round 39: strategy sampled 5 clients (out of 10)\n"
     ]
    },
    {
     "name": "stdout",
     "output_type": "stream",
     "text": [
      "agrregate_fit results list length is  5\n",
      "Saving round 38 aggregated_parameters...\n",
      "agrregate_evaluate results list length is  5\n",
      "server round is  38\n",
      "loss is  2.2698706099815156\n"
     ]
    },
    {
     "name": "stderr",
     "output_type": "stream",
     "text": [
      "DEBUG flwr 2023-08-31 03:01:35,264 | server.py:236 | fit_round 39 received 5 results and 0 failures\n",
      "DEBUG flwr 2023-08-31 03:01:35,310 | server.py:173 | evaluate_round 39: strategy sampled 5 clients (out of 10)\n",
      "DEBUG flwr 2023-08-31 03:01:35,415 | server.py:187 | evaluate_round 39 received 5 results and 0 failures\n",
      "DEBUG flwr 2023-08-31 03:01:35,417 | server.py:222 | fit_round 40: strategy sampled 5 clients (out of 10)\n"
     ]
    },
    {
     "name": "stdout",
     "output_type": "stream",
     "text": [
      "agrregate_fit results list length is  5\n",
      "Saving round 39 aggregated_parameters...\n",
      "agrregate_evaluate results list length is  5\n",
      "server round is  39\n",
      "loss is  2.3604436229205175\n"
     ]
    },
    {
     "name": "stderr",
     "output_type": "stream",
     "text": [
      "DEBUG flwr 2023-08-31 03:01:38,092 | server.py:236 | fit_round 40 received 5 results and 0 failures\n",
      "DEBUG flwr 2023-08-31 03:01:38,134 | server.py:173 | evaluate_round 40: strategy sampled 5 clients (out of 10)\n",
      "DEBUG flwr 2023-08-31 03:01:38,245 | server.py:187 | evaluate_round 40 received 5 results and 0 failures\n",
      "DEBUG flwr 2023-08-31 03:01:38,247 | server.py:222 | fit_round 41: strategy sampled 5 clients (out of 10)\n"
     ]
    },
    {
     "name": "stdout",
     "output_type": "stream",
     "text": [
      "agrregate_fit results list length is  5\n",
      "Saving round 40 aggregated_parameters...\n",
      "agrregate_evaluate results list length is  5\n",
      "server round is  40\n",
      "loss is  2.088724584103512\n"
     ]
    },
    {
     "name": "stderr",
     "output_type": "stream",
     "text": [
      "DEBUG flwr 2023-08-31 03:01:40,849 | server.py:236 | fit_round 41 received 5 results and 0 failures\n",
      "DEBUG flwr 2023-08-31 03:01:40,902 | server.py:173 | evaluate_round 41: strategy sampled 5 clients (out of 10)\n",
      "DEBUG flwr 2023-08-31 03:01:41,002 | server.py:187 | evaluate_round 41 received 5 results and 0 failures\n",
      "DEBUG flwr 2023-08-31 03:01:41,003 | server.py:222 | fit_round 42: strategy sampled 5 clients (out of 10)\n"
     ]
    },
    {
     "name": "stdout",
     "output_type": "stream",
     "text": [
      "agrregate_fit results list length is  5\n",
      "Saving round 41 aggregated_parameters...\n",
      "agrregate_evaluate results list length is  5\n",
      "server round is  41\n",
      "loss is  2.168207024029575\n"
     ]
    },
    {
     "name": "stderr",
     "output_type": "stream",
     "text": [
      "DEBUG flwr 2023-08-31 03:01:43,658 | server.py:236 | fit_round 42 received 5 results and 0 failures\n",
      "DEBUG flwr 2023-08-31 03:01:43,706 | server.py:173 | evaluate_round 42: strategy sampled 5 clients (out of 10)\n",
      "DEBUG flwr 2023-08-31 03:01:43,837 | server.py:187 | evaluate_round 42 received 5 results and 0 failures\n"
     ]
    },
    {
     "name": "stdout",
     "output_type": "stream",
     "text": [
      "agrregate_fit results list length is  5\n",
      "Saving round 42 aggregated_parameters...\n"
     ]
    },
    {
     "name": "stderr",
     "output_type": "stream",
     "text": [
      "DEBUG flwr 2023-08-31 03:01:43,839 | server.py:222 | fit_round 43: strategy sampled 5 clients (out of 10)\n"
     ]
    },
    {
     "name": "stdout",
     "output_type": "stream",
     "text": [
      "agrregate_evaluate results list length is  5\n",
      "server round is  42\n",
      "loss is  2.255083179297597\n"
     ]
    },
    {
     "name": "stderr",
     "output_type": "stream",
     "text": [
      "DEBUG flwr 2023-08-31 03:01:46,665 | server.py:236 | fit_round 43 received 5 results and 0 failures\n",
      "DEBUG flwr 2023-08-31 03:01:46,704 | server.py:173 | evaluate_round 43: strategy sampled 5 clients (out of 10)\n",
      "DEBUG flwr 2023-08-31 03:01:46,810 | server.py:187 | evaluate_round 43 received 5 results and 0 failures\n",
      "DEBUG flwr 2023-08-31 03:01:46,812 | server.py:222 | fit_round 44: strategy sampled 5 clients (out of 10)\n"
     ]
    },
    {
     "name": "stdout",
     "output_type": "stream",
     "text": [
      "agrregate_fit results list length is  5\n",
      "Saving round 43 aggregated_parameters...\n",
      "agrregate_evaluate results list length is  5\n",
      "server round is  43\n",
      "loss is  2.2088724584103514\n"
     ]
    },
    {
     "name": "stderr",
     "output_type": "stream",
     "text": [
      "DEBUG flwr 2023-08-31 03:01:49,249 | server.py:236 | fit_round 44 received 5 results and 0 failures\n",
      "DEBUG flwr 2023-08-31 03:01:49,294 | server.py:173 | evaluate_round 44: strategy sampled 5 clients (out of 10)\n",
      "DEBUG flwr 2023-08-31 03:01:49,412 | server.py:187 | evaluate_round 44 received 5 results and 0 failures\n",
      "DEBUG flwr 2023-08-31 03:01:49,414 | server.py:222 | fit_round 45: strategy sampled 5 clients (out of 10)\n"
     ]
    },
    {
     "name": "stdout",
     "output_type": "stream",
     "text": [
      "agrregate_fit results list length is  5\n",
      "Saving round 44 aggregated_parameters...\n",
      "agrregate_evaluate results list length is  5\n",
      "server round is  44\n",
      "loss is  2.134935304990758\n"
     ]
    },
    {
     "name": "stderr",
     "output_type": "stream",
     "text": [
      "DEBUG flwr 2023-08-31 03:01:51,802 | server.py:236 | fit_round 45 received 5 results and 0 failures\n",
      "DEBUG flwr 2023-08-31 03:01:51,862 | server.py:173 | evaluate_round 45: strategy sampled 5 clients (out of 10)\n",
      "DEBUG flwr 2023-08-31 03:01:51,964 | server.py:187 | evaluate_round 45 received 5 results and 0 failures\n",
      "DEBUG flwr 2023-08-31 03:01:51,967 | server.py:222 | fit_round 46: strategy sampled 5 clients (out of 10)\n"
     ]
    },
    {
     "name": "stdout",
     "output_type": "stream",
     "text": [
      "agrregate_fit results list length is  5\n",
      "Saving round 45 aggregated_parameters...\n",
      "agrregate_evaluate results list length is  5\n",
      "server round is  45\n",
      "loss is  1.9685767097966729\n"
     ]
    },
    {
     "name": "stderr",
     "output_type": "stream",
     "text": [
      "DEBUG flwr 2023-08-31 03:01:54,600 | server.py:236 | fit_round 46 received 5 results and 0 failures\n",
      "DEBUG flwr 2023-08-31 03:01:54,642 | server.py:173 | evaluate_round 46: strategy sampled 5 clients (out of 10)\n",
      "DEBUG flwr 2023-08-31 03:01:54,744 | server.py:187 | evaluate_round 46 received 5 results and 0 failures\n",
      "DEBUG flwr 2023-08-31 03:01:54,746 | server.py:222 | fit_round 47: strategy sampled 5 clients (out of 10)\n"
     ]
    },
    {
     "name": "stdout",
     "output_type": "stream",
     "text": [
      "agrregate_fit results list length is  5\n",
      "Saving round 46 aggregated_parameters...\n",
      "agrregate_evaluate results list length is  5\n",
      "server round is  46\n",
      "loss is  2.301293900184843\n"
     ]
    },
    {
     "name": "stderr",
     "output_type": "stream",
     "text": [
      "DEBUG flwr 2023-08-31 03:01:57,305 | server.py:236 | fit_round 47 received 5 results and 0 failures\n",
      "DEBUG flwr 2023-08-31 03:01:57,353 | server.py:173 | evaluate_round 47: strategy sampled 5 clients (out of 10)\n",
      "DEBUG flwr 2023-08-31 03:01:57,456 | server.py:187 | evaluate_round 47 received 5 results and 0 failures\n",
      "DEBUG flwr 2023-08-31 03:01:57,458 | server.py:222 | fit_round 48: strategy sampled 5 clients (out of 10)\n"
     ]
    },
    {
     "name": "stdout",
     "output_type": "stream",
     "text": [
      "agrregate_fit results list length is  5\n",
      "Saving round 47 aggregated_parameters...\n",
      "agrregate_evaluate results list length is  5\n",
      "server round is  47\n",
      "loss is  2.1367837338262476\n"
     ]
    },
    {
     "name": "stderr",
     "output_type": "stream",
     "text": [
      "DEBUG flwr 2023-08-31 03:01:59,986 | server.py:236 | fit_round 48 received 5 results and 0 failures\n",
      "DEBUG flwr 2023-08-31 03:02:00,040 | server.py:173 | evaluate_round 48: strategy sampled 5 clients (out of 10)\n",
      "DEBUG flwr 2023-08-31 03:02:00,161 | server.py:187 | evaluate_round 48 received 5 results and 0 failures\n"
     ]
    },
    {
     "name": "stdout",
     "output_type": "stream",
     "text": [
      "agrregate_fit results list length is  5\n",
      "Saving round 48 aggregated_parameters...\n"
     ]
    },
    {
     "name": "stderr",
     "output_type": "stream",
     "text": [
      "DEBUG flwr 2023-08-31 03:02:00,163 | server.py:222 | fit_round 49: strategy sampled 5 clients (out of 10)\n"
     ]
    },
    {
     "name": "stdout",
     "output_type": "stream",
     "text": [
      "agrregate_evaluate results list length is  5\n",
      "server round is  48\n",
      "loss is  2.3031423290203326\n"
     ]
    },
    {
     "name": "stderr",
     "output_type": "stream",
     "text": [
      "DEBUG flwr 2023-08-31 03:02:02,938 | server.py:236 | fit_round 49 received 5 results and 0 failures\n",
      "DEBUG flwr 2023-08-31 03:02:02,975 | server.py:173 | evaluate_round 49: strategy sampled 5 clients (out of 10)\n",
      "DEBUG flwr 2023-08-31 03:02:03,076 | server.py:187 | evaluate_round 49 received 5 results and 0 failures\n",
      "DEBUG flwr 2023-08-31 03:02:03,078 | server.py:222 | fit_round 50: strategy sampled 5 clients (out of 10)\n"
     ]
    },
    {
     "name": "stdout",
     "output_type": "stream",
     "text": [
      "agrregate_fit results list length is  5\n",
      "Saving round 49 aggregated_parameters...\n",
      "agrregate_evaluate results list length is  5\n",
      "server round is  49\n",
      "loss is  2.120147874306839\n"
     ]
    },
    {
     "name": "stderr",
     "output_type": "stream",
     "text": [
      "DEBUG flwr 2023-08-31 03:02:05,663 | server.py:236 | fit_round 50 received 5 results and 0 failures\n",
      "DEBUG flwr 2023-08-31 03:02:05,707 | server.py:173 | evaluate_round 50: strategy sampled 5 clients (out of 10)\n",
      "DEBUG flwr 2023-08-31 03:02:05,828 | server.py:187 | evaluate_round 50 received 5 results and 0 failures\n",
      "DEBUG flwr 2023-08-31 03:02:05,831 | server.py:222 | fit_round 51: strategy sampled 5 clients (out of 10)\n"
     ]
    },
    {
     "name": "stdout",
     "output_type": "stream",
     "text": [
      "agrregate_fit results list length is  5\n",
      "Saving round 50 aggregated_parameters...\n",
      "agrregate_evaluate results list length is  5\n",
      "server round is  50\n",
      "loss is  2.053604436229205\n"
     ]
    },
    {
     "name": "stderr",
     "output_type": "stream",
     "text": [
      "DEBUG flwr 2023-08-31 03:02:08,657 | server.py:236 | fit_round 51 received 5 results and 0 failures\n",
      "DEBUG flwr 2023-08-31 03:02:08,699 | server.py:173 | evaluate_round 51: strategy sampled 5 clients (out of 10)\n",
      "DEBUG flwr 2023-08-31 03:02:08,813 | server.py:187 | evaluate_round 51 received 5 results and 0 failures\n",
      "DEBUG flwr 2023-08-31 03:02:08,814 | server.py:222 | fit_round 52: strategy sampled 5 clients (out of 10)\n"
     ]
    },
    {
     "name": "stdout",
     "output_type": "stream",
     "text": [
      "agrregate_fit results list length is  5\n",
      "Saving round 51 aggregated_parameters...\n",
      "agrregate_evaluate results list length is  5\n",
      "server round is  51\n",
      "loss is  2.377079482439926\n"
     ]
    },
    {
     "name": "stderr",
     "output_type": "stream",
     "text": [
      "DEBUG flwr 2023-08-31 03:02:11,514 | server.py:236 | fit_round 52 received 5 results and 0 failures\n",
      "DEBUG flwr 2023-08-31 03:02:11,566 | server.py:173 | evaluate_round 52: strategy sampled 5 clients (out of 10)\n",
      "DEBUG flwr 2023-08-31 03:02:11,683 | server.py:187 | evaluate_round 52 received 5 results and 0 failures\n",
      "DEBUG flwr 2023-08-31 03:02:11,684 | server.py:222 | fit_round 53: strategy sampled 5 clients (out of 10)\n"
     ]
    },
    {
     "name": "stdout",
     "output_type": "stream",
     "text": [
      "agrregate_fit results list length is  5\n",
      "Saving round 52 aggregated_parameters...\n",
      "agrregate_evaluate results list length is  5\n",
      "server round is  52\n",
      "loss is  2.144177449168207\n"
     ]
    },
    {
     "name": "stderr",
     "output_type": "stream",
     "text": [
      "DEBUG flwr 2023-08-31 03:02:14,264 | server.py:236 | fit_round 53 received 5 results and 0 failures\n",
      "DEBUG flwr 2023-08-31 03:02:14,305 | server.py:173 | evaluate_round 53: strategy sampled 5 clients (out of 10)\n",
      "DEBUG flwr 2023-08-31 03:02:14,420 | server.py:187 | evaluate_round 53 received 5 results and 0 failures\n",
      "DEBUG flwr 2023-08-31 03:02:14,423 | server.py:222 | fit_round 54: strategy sampled 5 clients (out of 10)\n"
     ]
    },
    {
     "name": "stdout",
     "output_type": "stream",
     "text": [
      "agrregate_fit results list length is  5\n",
      "Saving round 53 aggregated_parameters...\n",
      "agrregate_evaluate results list length is  5\n",
      "server round is  53\n",
      "loss is  2.1404805914972274\n"
     ]
    },
    {
     "name": "stderr",
     "output_type": "stream",
     "text": [
      "DEBUG flwr 2023-08-31 03:02:17,077 | server.py:236 | fit_round 54 received 5 results and 0 failures\n",
      "DEBUG flwr 2023-08-31 03:02:17,141 | server.py:173 | evaluate_round 54: strategy sampled 5 clients (out of 10)\n",
      "DEBUG flwr 2023-08-31 03:02:17,276 | server.py:187 | evaluate_round 54 received 5 results and 0 failures\n",
      "DEBUG flwr 2023-08-31 03:02:17,278 | server.py:222 | fit_round 55: strategy sampled 5 clients (out of 10)\n"
     ]
    },
    {
     "name": "stdout",
     "output_type": "stream",
     "text": [
      "agrregate_fit results list length is  5\n",
      "Saving round 54 aggregated_parameters...\n",
      "agrregate_evaluate results list length is  5\n",
      "server round is  54\n",
      "loss is  2.1700554528650646\n"
     ]
    },
    {
     "name": "stderr",
     "output_type": "stream",
     "text": [
      "DEBUG flwr 2023-08-31 03:02:19,680 | server.py:236 | fit_round 55 received 5 results and 0 failures\n",
      "DEBUG flwr 2023-08-31 03:02:19,735 | server.py:173 | evaluate_round 55: strategy sampled 5 clients (out of 10)\n"
     ]
    },
    {
     "name": "stdout",
     "output_type": "stream",
     "text": [
      "agrregate_fit results list length is  5\n",
      "Saving round 55 aggregated_parameters...\n"
     ]
    },
    {
     "name": "stderr",
     "output_type": "stream",
     "text": [
      "DEBUG flwr 2023-08-31 03:02:19,906 | server.py:187 | evaluate_round 55 received 5 results and 0 failures\n",
      "DEBUG flwr 2023-08-31 03:02:19,909 | server.py:222 | fit_round 56: strategy sampled 5 clients (out of 10)\n"
     ]
    },
    {
     "name": "stdout",
     "output_type": "stream",
     "text": [
      "agrregate_evaluate results list length is  5\n",
      "server round is  55\n",
      "loss is  2.33456561922366\n"
     ]
    },
    {
     "name": "stderr",
     "output_type": "stream",
     "text": [
      "DEBUG flwr 2023-08-31 03:02:23,567 | server.py:236 | fit_round 56 received 5 results and 0 failures\n",
      "DEBUG flwr 2023-08-31 03:02:23,612 | server.py:173 | evaluate_round 56: strategy sampled 5 clients (out of 10)\n",
      "DEBUG flwr 2023-08-31 03:02:23,744 | server.py:187 | evaluate_round 56 received 5 results and 0 failures\n",
      "DEBUG flwr 2023-08-31 03:02:23,746 | server.py:222 | fit_round 57: strategy sampled 5 clients (out of 10)\n"
     ]
    },
    {
     "name": "stdout",
     "output_type": "stream",
     "text": [
      "agrregate_fit results list length is  5\n",
      "Saving round 56 aggregated_parameters...\n",
      "agrregate_evaluate results list length is  5\n",
      "server round is  56\n",
      "loss is  2.1460258780036967\n"
     ]
    },
    {
     "name": "stderr",
     "output_type": "stream",
     "text": [
      "DEBUG flwr 2023-08-31 03:02:26,087 | server.py:236 | fit_round 57 received 5 results and 0 failures\n",
      "DEBUG flwr 2023-08-31 03:02:26,145 | server.py:173 | evaluate_round 57: strategy sampled 5 clients (out of 10)\n",
      "DEBUG flwr 2023-08-31 03:02:26,256 | server.py:187 | evaluate_round 57 received 5 results and 0 failures\n",
      "DEBUG flwr 2023-08-31 03:02:26,258 | server.py:222 | fit_round 58: strategy sampled 5 clients (out of 10)\n"
     ]
    },
    {
     "name": "stdout",
     "output_type": "stream",
     "text": [
      "agrregate_fit results list length is  5\n",
      "Saving round 57 aggregated_parameters...\n",
      "agrregate_evaluate results list length is  5\n",
      "server round is  57\n",
      "loss is  2.412199630314233\n"
     ]
    },
    {
     "name": "stderr",
     "output_type": "stream",
     "text": [
      "DEBUG flwr 2023-08-31 03:02:28,790 | server.py:236 | fit_round 58 received 5 results and 0 failures\n",
      "DEBUG flwr 2023-08-31 03:02:28,830 | server.py:173 | evaluate_round 58: strategy sampled 5 clients (out of 10)\n",
      "DEBUG flwr 2023-08-31 03:02:28,938 | server.py:187 | evaluate_round 58 received 5 results and 0 failures\n",
      "DEBUG flwr 2023-08-31 03:02:28,939 | server.py:222 | fit_round 59: strategy sampled 5 clients (out of 10)\n"
     ]
    },
    {
     "name": "stdout",
     "output_type": "stream",
     "text": [
      "agrregate_fit results list length is  5\n",
      "Saving round 58 aggregated_parameters...\n",
      "agrregate_evaluate results list length is  5\n",
      "server round is  58\n",
      "loss is  2.290203327171904\n"
     ]
    },
    {
     "name": "stderr",
     "output_type": "stream",
     "text": [
      "DEBUG flwr 2023-08-31 03:02:31,877 | server.py:236 | fit_round 59 received 5 results and 0 failures\n",
      "DEBUG flwr 2023-08-31 03:02:31,923 | server.py:173 | evaluate_round 59: strategy sampled 5 clients (out of 10)\n",
      "DEBUG flwr 2023-08-31 03:02:32,029 | server.py:187 | evaluate_round 59 received 5 results and 0 failures\n",
      "DEBUG flwr 2023-08-31 03:02:32,031 | server.py:222 | fit_round 60: strategy sampled 5 clients (out of 10)\n"
     ]
    },
    {
     "name": "stdout",
     "output_type": "stream",
     "text": [
      "agrregate_fit results list length is  5\n",
      "Saving round 59 aggregated_parameters...\n",
      "agrregate_evaluate results list length is  5\n",
      "server round is  59\n",
      "loss is  2.2754158964879854\n"
     ]
    },
    {
     "name": "stderr",
     "output_type": "stream",
     "text": [
      "DEBUG flwr 2023-08-31 03:02:34,607 | server.py:236 | fit_round 60 received 5 results and 0 failures\n",
      "DEBUG flwr 2023-08-31 03:02:34,658 | server.py:173 | evaluate_round 60: strategy sampled 5 clients (out of 10)\n",
      "DEBUG flwr 2023-08-31 03:02:34,757 | server.py:187 | evaluate_round 60 received 5 results and 0 failures\n",
      "INFO flwr 2023-08-31 03:02:34,759 | server.py:153 | FL finished in 179.59548700001324\n",
      "INFO flwr 2023-08-31 03:02:34,761 | app.py:225 | app_fit: losses_distributed [(1, 4.175600739371534), (2, 3.6931608133086877), (3, 3.1848428835489835), (4, 3.258780036968577), (5, 2.7597042513863217), (6, 2.6044362292051755), (7, 2.563770794824399), (8, 2.8059149722735675), (9, 2.402957486136784), (10, 2.312384473197782), (11, 2.6377079482439925), (12, 2.290203327171904), (13, 2.2717190388170057), (14, 2.4842883548983363), (15, 2.2144177449168208), (16, 2.4085027726432533), (17, 2.589648798521257), (18, 2.3031423290203326), (19, 2.188539741219963), (20, 2.2181146025878005), (21, 2.166358595194085), (22, 2.3622920517560075), (23, 2.210720887245841), (24, 2.2162661737523104), (25, 2.319778188539741), (26, 2.3290203327171906), (27, 2.3142329020332717), (28, 2.277264325323475), (29, 2.255083179297597), (30, 2.077634011090573), (31, 2.147874306839187), (32, 2.210720887245841), (33, 2.053604436229205), (34, 2.297597042513863), (35, 2.1090573012939), (36, 2.2624768946395566), (37, 2.1792975970425137), (38, 2.2698706099815156), (39, 2.3604436229205175), (40, 2.088724584103512), (41, 2.168207024029575), (42, 2.255083179297597), (43, 2.2088724584103514), (44, 2.134935304990758), (45, 1.9685767097966729), (46, 2.301293900184843), (47, 2.1367837338262476), (48, 2.3031423290203326), (49, 2.120147874306839), (50, 2.053604436229205), (51, 2.377079482439926), (52, 2.144177449168207), (53, 2.1404805914972274), (54, 2.1700554528650646), (55, 2.33456561922366), (56, 2.1460258780036967), (57, 2.412199630314233), (58, 2.290203327171904), (59, 2.2754158964879854), (60, 2.162661737523105)]\n",
      "INFO flwr 2023-08-31 03:02:34,761 | app.py:226 | app_fit: metrics_distributed_fit {}\n",
      "INFO flwr 2023-08-31 03:02:34,762 | app.py:227 | app_fit: metrics_distributed {'mse': [(1, 20.878003696857668), (2, 18.465804066543438), (3, 15.924214417744917), (4, 16.293900184842883), (5, 13.798521256931608), (6, 13.022181146025877), (7, 12.818853974121996), (8, 14.029574861367838), (9, 12.01478743068392), (10, 11.56192236598891), (11, 13.188539741219962), (12, 11.451016635859519), (13, 11.358595194085028), (14, 12.421441774491681), (15, 11.072088724584104), (16, 12.042513863216266), (17, 12.948243992606285), (18, 11.515711645101662), (19, 10.942698706099815), (20, 11.090573012939002), (21, 10.831792975970425), (22, 11.811460258780038), (23, 11.053604436229206), (24, 11.081330868761551), (25, 11.598890942698706), (26, 11.645101663585953), (27, 11.571164510166358), (28, 11.386321626617375), (29, 11.275415896487985), (30, 10.388170055452866), (31, 10.739371534195934), (32, 11.053604436229206), (33, 10.268022181146026), (34, 11.487985212569317), (35, 10.5452865064695), (36, 11.312384473197783), (37, 10.896487985212568), (38, 11.349353049907577), (39, 11.802218114602587), (40, 10.443622920517559), (41, 10.841035120147875), (42, 11.275415896487985), (43, 11.044362292051757), (44, 10.67467652495379), (45, 9.842883548983364), (46, 11.506469500924215), (47, 10.683918669131238), (48, 11.515711645101662), (49, 10.600739371534196), (50, 10.268022181146026), (51, 11.88539741219963), (52, 10.720887245841036), (53, 10.702402957486136), (54, 10.850277264325323), (55, 11.6728280961183), (56, 10.730129390018483), (57, 12.060998151571166), (58, 11.451016635859519), (59, 11.377079482439926), (60, 10.813308687615526)]}\n",
      "INFO flwr 2023-08-31 03:02:34,764 | app.py:228 | app_fit: losses_centralized []\n",
      "INFO flwr 2023-08-31 03:02:34,764 | app.py:229 | app_fit: metrics_centralized {}\n"
     ]
    },
    {
     "name": "stdout",
     "output_type": "stream",
     "text": [
      "agrregate_fit results list length is  5\n",
      "Saving round 60 aggregated_parameters...\n",
      "agrregate_evaluate results list length is  5\n",
      "server round is  60\n",
      "loss is  2.162661737523105\n",
      "History (loss, distributed):\n",
      "\tround 1: 4.175600739371534\n",
      "\tround 2: 3.6931608133086877\n",
      "\tround 3: 3.1848428835489835\n",
      "\tround 4: 3.258780036968577\n",
      "\tround 5: 2.7597042513863217\n",
      "\tround 6: 2.6044362292051755\n",
      "\tround 7: 2.563770794824399\n",
      "\tround 8: 2.8059149722735675\n",
      "\tround 9: 2.402957486136784\n",
      "\tround 10: 2.312384473197782\n",
      "\tround 11: 2.6377079482439925\n",
      "\tround 12: 2.290203327171904\n",
      "\tround 13: 2.2717190388170057\n",
      "\tround 14: 2.4842883548983363\n",
      "\tround 15: 2.2144177449168208\n",
      "\tround 16: 2.4085027726432533\n",
      "\tround 17: 2.589648798521257\n",
      "\tround 18: 2.3031423290203326\n",
      "\tround 19: 2.188539741219963\n",
      "\tround 20: 2.2181146025878005\n",
      "\tround 21: 2.166358595194085\n",
      "\tround 22: 2.3622920517560075\n",
      "\tround 23: 2.210720887245841\n",
      "\tround 24: 2.2162661737523104\n",
      "\tround 25: 2.319778188539741\n",
      "\tround 26: 2.3290203327171906\n",
      "\tround 27: 2.3142329020332717\n",
      "\tround 28: 2.277264325323475\n",
      "\tround 29: 2.255083179297597\n",
      "\tround 30: 2.077634011090573\n",
      "\tround 31: 2.147874306839187\n",
      "\tround 32: 2.210720887245841\n",
      "\tround 33: 2.053604436229205\n",
      "\tround 34: 2.297597042513863\n",
      "\tround 35: 2.1090573012939\n",
      "\tround 36: 2.2624768946395566\n",
      "\tround 37: 2.1792975970425137\n",
      "\tround 38: 2.2698706099815156\n",
      "\tround 39: 2.3604436229205175\n",
      "\tround 40: 2.088724584103512\n",
      "\tround 41: 2.168207024029575\n",
      "\tround 42: 2.255083179297597\n",
      "\tround 43: 2.2088724584103514\n",
      "\tround 44: 2.134935304990758\n",
      "\tround 45: 1.9685767097966729\n",
      "\tround 46: 2.301293900184843\n",
      "\tround 47: 2.1367837338262476\n",
      "\tround 48: 2.3031423290203326\n",
      "\tround 49: 2.120147874306839\n",
      "\tround 50: 2.053604436229205\n",
      "\tround 51: 2.377079482439926\n",
      "\tround 52: 2.144177449168207\n",
      "\tround 53: 2.1404805914972274\n",
      "\tround 54: 2.1700554528650646\n",
      "\tround 55: 2.33456561922366\n",
      "\tround 56: 2.1460258780036967\n",
      "\tround 57: 2.412199630314233\n",
      "\tround 58: 2.290203327171904\n",
      "\tround 59: 2.2754158964879854\n",
      "\tround 60: 2.162661737523105\n",
      "History (metrics, distributed, evaluate):\n",
      "{'mse': [(1, 20.878003696857668), (2, 18.465804066543438), (3, 15.924214417744917), (4, 16.293900184842883), (5, 13.798521256931608), (6, 13.022181146025877), (7, 12.818853974121996), (8, 14.029574861367838), (9, 12.01478743068392), (10, 11.56192236598891), (11, 13.188539741219962), (12, 11.451016635859519), (13, 11.358595194085028), (14, 12.421441774491681), (15, 11.072088724584104), (16, 12.042513863216266), (17, 12.948243992606285), (18, 11.515711645101662), (19, 10.942698706099815), (20, 11.090573012939002), (21, 10.831792975970425), (22, 11.811460258780038), (23, 11.053604436229206), (24, 11.081330868761551), (25, 11.598890942698706), (26, 11.645101663585953), (27, 11.571164510166358), (28, 11.386321626617375), (29, 11.275415896487985), (30, 10.388170055452866), (31, 10.739371534195934), (32, 11.053604436229206), (33, 10.268022181146026), (34, 11.487985212569317), (35, 10.5452865064695), (36, 11.312384473197783), (37, 10.896487985212568), (38, 11.349353049907577), (39, 11.802218114602587), (40, 10.443622920517559), (41, 10.841035120147875), (42, 11.275415896487985), (43, 11.044362292051757), (44, 10.67467652495379), (45, 9.842883548983364), (46, 11.506469500924215), (47, 10.683918669131238), (48, 11.515711645101662), (49, 10.600739371534196), (50, 10.268022181146026), (51, 11.88539741219963), (52, 10.720887245841036), (53, 10.702402957486136), (54, 10.850277264325323), (55, 11.6728280961183), (56, 10.730129390018483), (57, 12.060998151571166), (58, 11.451016635859519), (59, 11.377079482439926), (60, 10.813308687615526)]}\n",
      "[(1, 4.175600739371534), (2, 3.6931608133086877), (3, 3.1848428835489835), (4, 3.258780036968577), (5, 2.7597042513863217), (6, 2.6044362292051755), (7, 2.563770794824399), (8, 2.8059149722735675), (9, 2.402957486136784), (10, 2.312384473197782), (11, 2.6377079482439925), (12, 2.290203327171904), (13, 2.2717190388170057), (14, 2.4842883548983363), (15, 2.2144177449168208), (16, 2.4085027726432533), (17, 2.589648798521257), (18, 2.3031423290203326), (19, 2.188539741219963), (20, 2.2181146025878005), (21, 2.166358595194085), (22, 2.3622920517560075), (23, 2.210720887245841), (24, 2.2162661737523104), (25, 2.319778188539741), (26, 2.3290203327171906), (27, 2.3142329020332717), (28, 2.277264325323475), (29, 2.255083179297597), (30, 2.077634011090573), (31, 2.147874306839187), (32, 2.210720887245841), (33, 2.053604436229205), (34, 2.297597042513863), (35, 2.1090573012939), (36, 2.2624768946395566), (37, 2.1792975970425137), (38, 2.2698706099815156), (39, 2.3604436229205175), (40, 2.088724584103512), (41, 2.168207024029575), (42, 2.255083179297597), (43, 2.2088724584103514), (44, 2.134935304990758), (45, 1.9685767097966729), (46, 2.301293900184843), (47, 2.1367837338262476), (48, 2.3031423290203326), (49, 2.120147874306839), (50, 2.053604436229205), (51, 2.377079482439926), (52, 2.144177449168207), (53, 2.1404805914972274), (54, 2.1700554528650646), (55, 2.33456561922366), (56, 2.1460258780036967), (57, 2.412199630314233), (58, 2.290203327171904), (59, 2.2754158964879854), (60, 2.162661737523105)]\n",
      "Fold 2:\n",
      "split [0.1, 0.1, 0.1, 0.1, 0.1, 0.1, 0.1, 0.1, 0.1, 0.1]\n",
      "time 0:03:22.689638\n",
      "mse [2.162661737523105]\n",
      "auc [0.8800341763499658]\n"
     ]
    }
   ],
   "source": [
    "split = [0.1, 0.1, 0.1, 0.1, 0.1, 0.1, 0.1, 0.1, 0.1, 0.1]\n",
    "do_fl(split)"
   ],
   "metadata": {
    "collapsed": false,
    "ExecuteTime": {
     "end_time": "2023-08-31T02:02:35.382990600Z",
     "start_time": "2023-08-31T01:59:12.162874900Z"
    }
   }
  },
  {
   "cell_type": "code",
   "execution_count": 17,
   "outputs": [
    {
     "name": "stderr",
     "output_type": "stream",
     "text": [
      "INFO flwr 2023-08-31 03:02:34,909 | app.py:145 | Starting Flower simulation, config: ServerConfig(num_rounds=60, round_timeout=None)\n"
     ]
    },
    {
     "name": "stdout",
     "output_type": "stream",
     "text": [
      "<class 'torch.Tensor'>\n",
      "<class 'torch.Tensor'>\n",
      "Fold 1:\n",
      "Client 0 trainset shape torch.Size([3300, 22])\n",
      "Client 1 trainset shape torch.Size([208, 22])\n",
      "Client 2 trainset shape torch.Size([224, 22])\n",
      "Client 3 trainset shape torch.Size([238, 22])\n",
      "Client 4 trainset shape torch.Size([240, 22])\n",
      "Client 5 trainset shape torch.Size([176, 22])\n",
      "Client 6 trainset shape torch.Size([225, 22])\n",
      "Client 7 trainset shape torch.Size([169, 22])\n",
      "Client 8 trainset shape torch.Size([192, 22])\n",
      "Client 9 trainset shape torch.Size([182, 22])\n",
      "FL started training on cpu\n",
      "Number of available GPUs: 0\n"
     ]
    },
    {
     "name": "stderr",
     "output_type": "stream",
     "text": [
      "2023-08-31 03:02:44,303\tINFO worker.py:1627 -- Started a local Ray instance. View the dashboard at \u001B[1m\u001B[32m127.0.0.1:8267 \u001B[39m\u001B[22m\n",
      "INFO flwr 2023-08-31 03:02:53,061 | app.py:179 | Flower VCE: Ray initialized with resources: {'node:127.0.0.1': 1.0, 'object_store_memory': 717877248.0, 'memory': 1435754496.0, 'GPU': 1.0, 'CPU': 8.0}\n",
      "INFO flwr 2023-08-31 03:02:53,065 | server.py:89 | Initializing global parameters\n",
      "INFO flwr 2023-08-31 03:02:53,067 | server.py:276 | Requesting initial parameters from one random client\n",
      "INFO flwr 2023-08-31 03:02:57,267 | server.py:280 | Received initial parameters from one random client\n",
      "INFO flwr 2023-08-31 03:02:57,269 | server.py:91 | Evaluating initial parameters\n",
      "INFO flwr 2023-08-31 03:02:57,270 | server.py:104 | FL starting\n",
      "DEBUG flwr 2023-08-31 03:02:57,271 | server.py:222 | fit_round 1: strategy sampled 5 clients (out of 10)\n",
      "DEBUG flwr 2023-08-31 03:03:05,409 | server.py:236 | fit_round 1 received 5 results and 0 failures\n",
      "WARNING flwr 2023-08-31 03:03:05,435 | fedavg.py:242 | No fit_metrics_aggregation_fn provided\n",
      "DEBUG flwr 2023-08-31 03:03:05,450 | server.py:173 | evaluate_round 1: strategy sampled 5 clients (out of 10)\n",
      "DEBUG flwr 2023-08-31 03:03:05,557 | server.py:187 | evaluate_round 1 received 5 results and 0 failures\n",
      "DEBUG flwr 2023-08-31 03:03:05,559 | server.py:222 | fit_round 2: strategy sampled 5 clients (out of 10)\n"
     ]
    },
    {
     "name": "stdout",
     "output_type": "stream",
     "text": [
      "agrregate_fit results list length is  5\n",
      "Saving round 1 aggregated_parameters...\n",
      "agrregate_evaluate results list length is  5\n",
      "server round is  1\n",
      "loss is  7.075785582255083\n"
     ]
    },
    {
     "name": "stderr",
     "output_type": "stream",
     "text": [
      "DEBUG flwr 2023-08-31 03:03:14,720 | server.py:236 | fit_round 2 received 5 results and 0 failures\n",
      "DEBUG flwr 2023-08-31 03:03:14,757 | server.py:173 | evaluate_round 2: strategy sampled 5 clients (out of 10)\n",
      "DEBUG flwr 2023-08-31 03:03:14,847 | server.py:187 | evaluate_round 2 received 5 results and 0 failures\n",
      "DEBUG flwr 2023-08-31 03:03:14,849 | server.py:222 | fit_round 3: strategy sampled 5 clients (out of 10)\n"
     ]
    },
    {
     "name": "stdout",
     "output_type": "stream",
     "text": [
      "agrregate_fit results list length is  5\n",
      "Saving round 2 aggregated_parameters...\n",
      "agrregate_evaluate results list length is  5\n",
      "server round is  2\n",
      "loss is  2.9482439926062844\n"
     ]
    },
    {
     "name": "stderr",
     "output_type": "stream",
     "text": [
      "DEBUG flwr 2023-08-31 03:03:15,980 | server.py:236 | fit_round 3 received 5 results and 0 failures\n",
      "DEBUG flwr 2023-08-31 03:03:16,024 | server.py:173 | evaluate_round 3: strategy sampled 5 clients (out of 10)\n",
      "DEBUG flwr 2023-08-31 03:03:16,133 | server.py:187 | evaluate_round 3 received 5 results and 0 failures\n",
      "DEBUG flwr 2023-08-31 03:03:16,136 | server.py:222 | fit_round 4: strategy sampled 5 clients (out of 10)\n"
     ]
    },
    {
     "name": "stdout",
     "output_type": "stream",
     "text": [
      "agrregate_fit results list length is  5\n",
      "Saving round 3 aggregated_parameters...\n",
      "agrregate_evaluate results list length is  5\n",
      "server round is  3\n",
      "loss is  2.6857670979667283\n"
     ]
    },
    {
     "name": "stderr",
     "output_type": "stream",
     "text": [
      "DEBUG flwr 2023-08-31 03:03:24,502 | server.py:236 | fit_round 4 received 5 results and 0 failures\n",
      "DEBUG flwr 2023-08-31 03:03:24,535 | server.py:173 | evaluate_round 4: strategy sampled 5 clients (out of 10)\n",
      "DEBUG flwr 2023-08-31 03:03:24,637 | server.py:187 | evaluate_round 4 received 5 results and 0 failures\n",
      "DEBUG flwr 2023-08-31 03:03:24,639 | server.py:222 | fit_round 5: strategy sampled 5 clients (out of 10)\n"
     ]
    },
    {
     "name": "stdout",
     "output_type": "stream",
     "text": [
      "agrregate_fit results list length is  5\n",
      "Saving round 4 aggregated_parameters...\n",
      "agrregate_evaluate results list length is  5\n",
      "server round is  4\n",
      "loss is  2.5268022181146024\n"
     ]
    },
    {
     "name": "stderr",
     "output_type": "stream",
     "text": [
      "DEBUG flwr 2023-08-31 03:03:25,699 | server.py:236 | fit_round 5 received 5 results and 0 failures\n",
      "DEBUG flwr 2023-08-31 03:03:25,742 | server.py:173 | evaluate_round 5: strategy sampled 5 clients (out of 10)\n",
      "DEBUG flwr 2023-08-31 03:03:25,844 | server.py:187 | evaluate_round 5 received 5 results and 0 failures\n",
      "DEBUG flwr 2023-08-31 03:03:25,846 | server.py:222 | fit_round 6: strategy sampled 5 clients (out of 10)\n"
     ]
    },
    {
     "name": "stdout",
     "output_type": "stream",
     "text": [
      "agrregate_fit results list length is  5\n",
      "Saving round 5 aggregated_parameters...\n",
      "agrregate_evaluate results list length is  5\n",
      "server round is  5\n",
      "loss is  2.4473197781885396\n"
     ]
    },
    {
     "name": "stderr",
     "output_type": "stream",
     "text": [
      "DEBUG flwr 2023-08-31 03:03:34,929 | server.py:236 | fit_round 6 received 5 results and 0 failures\n",
      "DEBUG flwr 2023-08-31 03:03:34,975 | server.py:173 | evaluate_round 6: strategy sampled 5 clients (out of 10)\n",
      "DEBUG flwr 2023-08-31 03:03:35,070 | server.py:187 | evaluate_round 6 received 5 results and 0 failures\n",
      "DEBUG flwr 2023-08-31 03:03:35,073 | server.py:222 | fit_round 7: strategy sampled 5 clients (out of 10)\n"
     ]
    },
    {
     "name": "stdout",
     "output_type": "stream",
     "text": [
      "agrregate_fit results list length is  5\n",
      "Saving round 6 aggregated_parameters...\n",
      "agrregate_evaluate results list length is  5\n",
      "server round is  6\n",
      "loss is  2.497227356746765\n"
     ]
    },
    {
     "name": "stderr",
     "output_type": "stream",
     "text": [
      "DEBUG flwr 2023-08-31 03:03:44,146 | server.py:236 | fit_round 7 received 5 results and 0 failures\n",
      "DEBUG flwr 2023-08-31 03:03:44,181 | server.py:173 | evaluate_round 7: strategy sampled 5 clients (out of 10)\n",
      "DEBUG flwr 2023-08-31 03:03:44,277 | server.py:187 | evaluate_round 7 received 5 results and 0 failures\n",
      "DEBUG flwr 2023-08-31 03:03:44,279 | server.py:222 | fit_round 8: strategy sampled 5 clients (out of 10)\n"
     ]
    },
    {
     "name": "stdout",
     "output_type": "stream",
     "text": [
      "agrregate_fit results list length is  5\n",
      "Saving round 7 aggregated_parameters...\n",
      "agrregate_evaluate results list length is  5\n",
      "server round is  7\n",
      "loss is  2.43992606284658\n"
     ]
    },
    {
     "name": "stderr",
     "output_type": "stream",
     "text": [
      "DEBUG flwr 2023-08-31 03:03:45,375 | server.py:236 | fit_round 8 received 5 results and 0 failures\n",
      "DEBUG flwr 2023-08-31 03:03:45,428 | server.py:173 | evaluate_round 8: strategy sampled 5 clients (out of 10)\n",
      "DEBUG flwr 2023-08-31 03:03:45,545 | server.py:187 | evaluate_round 8 received 5 results and 0 failures\n",
      "DEBUG flwr 2023-08-31 03:03:45,547 | server.py:222 | fit_round 9: strategy sampled 5 clients (out of 10)\n"
     ]
    },
    {
     "name": "stdout",
     "output_type": "stream",
     "text": [
      "agrregate_fit results list length is  5\n",
      "Saving round 8 aggregated_parameters...\n",
      "agrregate_evaluate results list length is  5\n",
      "server round is  8\n",
      "loss is  2.1460258780036967\n"
     ]
    },
    {
     "name": "stderr",
     "output_type": "stream",
     "text": [
      "DEBUG flwr 2023-08-31 03:03:46,683 | server.py:236 | fit_round 9 received 5 results and 0 failures\n",
      "DEBUG flwr 2023-08-31 03:03:46,738 | server.py:173 | evaluate_round 9: strategy sampled 5 clients (out of 10)\n",
      "DEBUG flwr 2023-08-31 03:03:46,878 | server.py:187 | evaluate_round 9 received 5 results and 0 failures\n"
     ]
    },
    {
     "name": "stdout",
     "output_type": "stream",
     "text": [
      "agrregate_fit results list length is  5\n",
      "Saving round 9 aggregated_parameters...\n"
     ]
    },
    {
     "name": "stderr",
     "output_type": "stream",
     "text": [
      "DEBUG flwr 2023-08-31 03:03:46,882 | server.py:222 | fit_round 10: strategy sampled 5 clients (out of 10)\n"
     ]
    },
    {
     "name": "stdout",
     "output_type": "stream",
     "text": [
      "agrregate_evaluate results list length is  5\n",
      "server round is  9\n",
      "loss is  2.1589648798521255\n"
     ]
    },
    {
     "name": "stderr",
     "output_type": "stream",
     "text": [
      "DEBUG flwr 2023-08-31 03:03:55,981 | server.py:236 | fit_round 10 received 5 results and 0 failures\n",
      "DEBUG flwr 2023-08-31 03:03:56,013 | server.py:173 | evaluate_round 10: strategy sampled 5 clients (out of 10)\n",
      "DEBUG flwr 2023-08-31 03:03:56,104 | server.py:187 | evaluate_round 10 received 5 results and 0 failures\n",
      "DEBUG flwr 2023-08-31 03:03:56,105 | server.py:222 | fit_round 11: strategy sampled 5 clients (out of 10)\n"
     ]
    },
    {
     "name": "stdout",
     "output_type": "stream",
     "text": [
      "agrregate_fit results list length is  5\n",
      "Saving round 10 aggregated_parameters...\n",
      "agrregate_evaluate results list length is  5\n",
      "server round is  10\n",
      "loss is  2.402957486136784\n"
     ]
    },
    {
     "name": "stderr",
     "output_type": "stream",
     "text": [
      "DEBUG flwr 2023-08-31 03:03:57,183 | server.py:236 | fit_round 11 received 5 results and 0 failures\n",
      "DEBUG flwr 2023-08-31 03:03:57,236 | server.py:173 | evaluate_round 11: strategy sampled 5 clients (out of 10)\n",
      "DEBUG flwr 2023-08-31 03:03:57,385 | server.py:187 | evaluate_round 11 received 5 results and 0 failures\n",
      "DEBUG flwr 2023-08-31 03:03:57,388 | server.py:222 | fit_round 12: strategy sampled 5 clients (out of 10)\n"
     ]
    },
    {
     "name": "stdout",
     "output_type": "stream",
     "text": [
      "agrregate_fit results list length is  5\n",
      "Saving round 11 aggregated_parameters...\n",
      "agrregate_evaluate results list length is  5\n",
      "server round is  11\n",
      "loss is  2.081330868761553\n"
     ]
    },
    {
     "name": "stderr",
     "output_type": "stream",
     "text": [
      "DEBUG flwr 2023-08-31 03:03:58,596 | server.py:236 | fit_round 12 received 5 results and 0 failures\n",
      "DEBUG flwr 2023-08-31 03:03:58,645 | server.py:173 | evaluate_round 12: strategy sampled 5 clients (out of 10)\n",
      "DEBUG flwr 2023-08-31 03:03:58,749 | server.py:187 | evaluate_round 12 received 5 results and 0 failures\n",
      "DEBUG flwr 2023-08-31 03:03:58,752 | server.py:222 | fit_round 13: strategy sampled 5 clients (out of 10)\n"
     ]
    },
    {
     "name": "stdout",
     "output_type": "stream",
     "text": [
      "agrregate_fit results list length is  5\n",
      "Saving round 12 aggregated_parameters...\n",
      "agrregate_evaluate results list length is  5\n",
      "server round is  12\n",
      "loss is  2.1164510166358594\n"
     ]
    },
    {
     "name": "stderr",
     "output_type": "stream",
     "text": [
      "DEBUG flwr 2023-08-31 03:04:06,976 | server.py:236 | fit_round 13 received 5 results and 0 failures\n",
      "DEBUG flwr 2023-08-31 03:04:07,014 | server.py:173 | evaluate_round 13: strategy sampled 5 clients (out of 10)\n",
      "DEBUG flwr 2023-08-31 03:04:07,097 | server.py:187 | evaluate_round 13 received 5 results and 0 failures\n",
      "DEBUG flwr 2023-08-31 03:04:07,098 | server.py:222 | fit_round 14: strategy sampled 5 clients (out of 10)\n"
     ]
    },
    {
     "name": "stdout",
     "output_type": "stream",
     "text": [
      "agrregate_fit results list length is  5\n",
      "Saving round 13 aggregated_parameters...\n",
      "agrregate_evaluate results list length is  5\n",
      "server round is  13\n",
      "loss is  2.4621072088724585\n"
     ]
    },
    {
     "name": "stderr",
     "output_type": "stream",
     "text": [
      "DEBUG flwr 2023-08-31 03:04:08,050 | server.py:236 | fit_round 14 received 5 results and 0 failures\n",
      "DEBUG flwr 2023-08-31 03:04:08,094 | server.py:173 | evaluate_round 14: strategy sampled 5 clients (out of 10)\n",
      "DEBUG flwr 2023-08-31 03:04:08,206 | server.py:187 | evaluate_round 14 received 5 results and 0 failures\n",
      "DEBUG flwr 2023-08-31 03:04:08,208 | server.py:222 | fit_round 15: strategy sampled 5 clients (out of 10)\n"
     ]
    },
    {
     "name": "stdout",
     "output_type": "stream",
     "text": [
      "agrregate_fit results list length is  5\n",
      "Saving round 14 aggregated_parameters...\n",
      "agrregate_evaluate results list length is  5\n",
      "server round is  14\n",
      "loss is  2.1053604436229203\n"
     ]
    },
    {
     "name": "stderr",
     "output_type": "stream",
     "text": [
      "DEBUG flwr 2023-08-31 03:04:09,403 | server.py:236 | fit_round 15 received 5 results and 0 failures\n",
      "DEBUG flwr 2023-08-31 03:04:09,446 | server.py:173 | evaluate_round 15: strategy sampled 5 clients (out of 10)\n",
      "DEBUG flwr 2023-08-31 03:04:09,565 | server.py:187 | evaluate_round 15 received 5 results and 0 failures\n",
      "DEBUG flwr 2023-08-31 03:04:09,568 | server.py:222 | fit_round 16: strategy sampled 5 clients (out of 10)\n"
     ]
    },
    {
     "name": "stdout",
     "output_type": "stream",
     "text": [
      "agrregate_fit results list length is  5\n",
      "Saving round 15 aggregated_parameters...\n",
      "agrregate_evaluate results list length is  5\n",
      "server round is  15\n",
      "loss is  2.075785582255083\n"
     ]
    },
    {
     "name": "stderr",
     "output_type": "stream",
     "text": [
      "DEBUG flwr 2023-08-31 03:04:10,814 | server.py:236 | fit_round 16 received 5 results and 0 failures\n",
      "DEBUG flwr 2023-08-31 03:04:10,859 | server.py:173 | evaluate_round 16: strategy sampled 5 clients (out of 10)\n",
      "DEBUG flwr 2023-08-31 03:04:10,975 | server.py:187 | evaluate_round 16 received 5 results and 0 failures\n",
      "DEBUG flwr 2023-08-31 03:04:10,978 | server.py:222 | fit_round 17: strategy sampled 5 clients (out of 10)\n"
     ]
    },
    {
     "name": "stdout",
     "output_type": "stream",
     "text": [
      "agrregate_fit results list length is  5\n",
      "Saving round 16 aggregated_parameters...\n",
      "agrregate_evaluate results list length is  5\n",
      "server round is  16\n",
      "loss is  2.0961182994454712\n"
     ]
    },
    {
     "name": "stderr",
     "output_type": "stream",
     "text": [
      "DEBUG flwr 2023-08-31 03:04:12,103 | server.py:236 | fit_round 17 received 5 results and 0 failures\n",
      "DEBUG flwr 2023-08-31 03:04:12,146 | server.py:173 | evaluate_round 17: strategy sampled 5 clients (out of 10)\n",
      "DEBUG flwr 2023-08-31 03:04:12,253 | server.py:187 | evaluate_round 17 received 5 results and 0 failures\n",
      "DEBUG flwr 2023-08-31 03:04:12,254 | server.py:222 | fit_round 18: strategy sampled 5 clients (out of 10)\n"
     ]
    },
    {
     "name": "stdout",
     "output_type": "stream",
     "text": [
      "agrregate_fit results list length is  5\n",
      "Saving round 17 aggregated_parameters...\n",
      "agrregate_evaluate results list length is  5\n",
      "server round is  17\n",
      "loss is  2.157116451016636\n"
     ]
    },
    {
     "name": "stderr",
     "output_type": "stream",
     "text": [
      "DEBUG flwr 2023-08-31 03:04:13,468 | server.py:236 | fit_round 18 received 5 results and 0 failures\n",
      "DEBUG flwr 2023-08-31 03:04:13,514 | server.py:173 | evaluate_round 18: strategy sampled 5 clients (out of 10)\n",
      "DEBUG flwr 2023-08-31 03:04:13,615 | server.py:187 | evaluate_round 18 received 5 results and 0 failures\n",
      "DEBUG flwr 2023-08-31 03:04:13,617 | server.py:222 | fit_round 19: strategy sampled 5 clients (out of 10)\n"
     ]
    },
    {
     "name": "stdout",
     "output_type": "stream",
     "text": [
      "agrregate_fit results list length is  5\n",
      "Saving round 18 aggregated_parameters...\n",
      "agrregate_evaluate results list length is  5\n",
      "server round is  18\n",
      "loss is  2.081330868761553\n"
     ]
    },
    {
     "name": "stderr",
     "output_type": "stream",
     "text": [
      "DEBUG flwr 2023-08-31 03:04:21,842 | server.py:236 | fit_round 19 received 5 results and 0 failures\n",
      "DEBUG flwr 2023-08-31 03:04:21,875 | server.py:173 | evaluate_round 19: strategy sampled 5 clients (out of 10)\n",
      "DEBUG flwr 2023-08-31 03:04:21,955 | server.py:187 | evaluate_round 19 received 5 results and 0 failures\n",
      "DEBUG flwr 2023-08-31 03:04:21,957 | server.py:222 | fit_round 20: strategy sampled 5 clients (out of 10)\n"
     ]
    },
    {
     "name": "stdout",
     "output_type": "stream",
     "text": [
      "agrregate_fit results list length is  5\n",
      "Saving round 19 aggregated_parameters...\n",
      "agrregate_evaluate results list length is  5\n",
      "server round is  19\n",
      "loss is  2.6487985212569316\n"
     ]
    },
    {
     "name": "stderr",
     "output_type": "stream",
     "text": [
      "DEBUG flwr 2023-08-31 03:04:30,895 | server.py:236 | fit_round 20 received 5 results and 0 failures\n",
      "DEBUG flwr 2023-08-31 03:04:30,933 | server.py:173 | evaluate_round 20: strategy sampled 5 clients (out of 10)\n",
      "DEBUG flwr 2023-08-31 03:04:31,034 | server.py:187 | evaluate_round 20 received 5 results and 0 failures\n",
      "DEBUG flwr 2023-08-31 03:04:31,035 | server.py:222 | fit_round 21: strategy sampled 5 clients (out of 10)\n"
     ]
    },
    {
     "name": "stdout",
     "output_type": "stream",
     "text": [
      "agrregate_fit results list length is  5\n",
      "Saving round 20 aggregated_parameters...\n",
      "agrregate_evaluate results list length is  5\n",
      "server round is  20\n",
      "loss is  2.3086876155268024\n"
     ]
    },
    {
     "name": "stderr",
     "output_type": "stream",
     "text": [
      "DEBUG flwr 2023-08-31 03:04:39,396 | server.py:236 | fit_round 21 received 5 results and 0 failures\n",
      "DEBUG flwr 2023-08-31 03:04:39,433 | server.py:173 | evaluate_round 21: strategy sampled 5 clients (out of 10)\n",
      "DEBUG flwr 2023-08-31 03:04:39,522 | server.py:187 | evaluate_round 21 received 5 results and 0 failures\n",
      "DEBUG flwr 2023-08-31 03:04:39,523 | server.py:222 | fit_round 22: strategy sampled 5 clients (out of 10)\n"
     ]
    },
    {
     "name": "stdout",
     "output_type": "stream",
     "text": [
      "agrregate_fit results list length is  5\n",
      "Saving round 21 aggregated_parameters...\n",
      "agrregate_evaluate results list length is  5\n",
      "server round is  21\n",
      "loss is  2.4140480591497226\n"
     ]
    },
    {
     "name": "stderr",
     "output_type": "stream",
     "text": [
      "DEBUG flwr 2023-08-31 03:04:47,545 | server.py:236 | fit_round 22 received 5 results and 0 failures\n",
      "DEBUG flwr 2023-08-31 03:04:47,577 | server.py:173 | evaluate_round 22: strategy sampled 5 clients (out of 10)\n",
      "DEBUG flwr 2023-08-31 03:04:47,669 | server.py:187 | evaluate_round 22 received 5 results and 0 failures\n",
      "DEBUG flwr 2023-08-31 03:04:47,671 | server.py:222 | fit_round 23: strategy sampled 5 clients (out of 10)\n"
     ]
    },
    {
     "name": "stdout",
     "output_type": "stream",
     "text": [
      "agrregate_fit results list length is  5\n",
      "Saving round 22 aggregated_parameters...\n",
      "agrregate_evaluate results list length is  5\n",
      "server round is  22\n",
      "loss is  2.6765249537892792\n"
     ]
    },
    {
     "name": "stderr",
     "output_type": "stream",
     "text": [
      "DEBUG flwr 2023-08-31 03:04:55,826 | server.py:236 | fit_round 23 received 5 results and 0 failures\n",
      "DEBUG flwr 2023-08-31 03:04:55,857 | server.py:173 | evaluate_round 23: strategy sampled 5 clients (out of 10)\n",
      "DEBUG flwr 2023-08-31 03:04:55,938 | server.py:187 | evaluate_round 23 received 5 results and 0 failures\n",
      "DEBUG flwr 2023-08-31 03:04:55,940 | server.py:222 | fit_round 24: strategy sampled 5 clients (out of 10)\n"
     ]
    },
    {
     "name": "stdout",
     "output_type": "stream",
     "text": [
      "agrregate_fit results list length is  5\n",
      "Saving round 23 aggregated_parameters...\n",
      "agrregate_evaluate results list length is  5\n",
      "server round is  23\n",
      "loss is  2.698706099815157\n"
     ]
    },
    {
     "name": "stderr",
     "output_type": "stream",
     "text": [
      "DEBUG flwr 2023-08-31 03:05:04,977 | server.py:236 | fit_round 24 received 5 results and 0 failures\n",
      "DEBUG flwr 2023-08-31 03:05:05,008 | server.py:173 | evaluate_round 24: strategy sampled 5 clients (out of 10)\n",
      "DEBUG flwr 2023-08-31 03:05:05,088 | server.py:187 | evaluate_round 24 received 5 results and 0 failures\n",
      "DEBUG flwr 2023-08-31 03:05:05,089 | server.py:222 | fit_round 25: strategy sampled 5 clients (out of 10)\n"
     ]
    },
    {
     "name": "stdout",
     "output_type": "stream",
     "text": [
      "agrregate_fit results list length is  5\n",
      "Saving round 24 aggregated_parameters...\n",
      "agrregate_evaluate results list length is  5\n",
      "server round is  24\n",
      "loss is  2.4473197781885396\n"
     ]
    },
    {
     "name": "stderr",
     "output_type": "stream",
     "text": [
      "DEBUG flwr 2023-08-31 03:05:06,166 | server.py:236 | fit_round 25 received 5 results and 0 failures\n",
      "DEBUG flwr 2023-08-31 03:05:06,218 | server.py:173 | evaluate_round 25: strategy sampled 5 clients (out of 10)\n",
      "DEBUG flwr 2023-08-31 03:05:06,332 | server.py:187 | evaluate_round 25 received 5 results and 0 failures\n",
      "DEBUG flwr 2023-08-31 03:05:06,334 | server.py:222 | fit_round 26: strategy sampled 5 clients (out of 10)\n"
     ]
    },
    {
     "name": "stdout",
     "output_type": "stream",
     "text": [
      "agrregate_fit results list length is  5\n",
      "Saving round 25 aggregated_parameters...\n",
      "agrregate_evaluate results list length is  5\n",
      "server round is  25\n",
      "loss is  2.155268022181146\n"
     ]
    },
    {
     "name": "stderr",
     "output_type": "stream",
     "text": [
      "DEBUG flwr 2023-08-31 03:05:14,613 | server.py:236 | fit_round 26 received 5 results and 0 failures\n",
      "DEBUG flwr 2023-08-31 03:05:14,651 | server.py:173 | evaluate_round 26: strategy sampled 5 clients (out of 10)\n",
      "DEBUG flwr 2023-08-31 03:05:14,742 | server.py:187 | evaluate_round 26 received 5 results and 0 failures\n",
      "DEBUG flwr 2023-08-31 03:05:14,745 | server.py:222 | fit_round 27: strategy sampled 5 clients (out of 10)\n"
     ]
    },
    {
     "name": "stdout",
     "output_type": "stream",
     "text": [
      "agrregate_fit results list length is  5\n",
      "Saving round 26 aggregated_parameters...\n",
      "agrregate_evaluate results list length is  5\n",
      "server round is  26\n",
      "loss is  2.3049907578558226\n"
     ]
    },
    {
     "name": "stderr",
     "output_type": "stream",
     "text": [
      "DEBUG flwr 2023-08-31 03:05:15,738 | server.py:236 | fit_round 27 received 5 results and 0 failures\n",
      "DEBUG flwr 2023-08-31 03:05:15,783 | server.py:173 | evaluate_round 27: strategy sampled 5 clients (out of 10)\n",
      "DEBUG flwr 2023-08-31 03:05:15,892 | server.py:187 | evaluate_round 27 received 5 results and 0 failures\n",
      "DEBUG flwr 2023-08-31 03:05:15,894 | server.py:222 | fit_round 28: strategy sampled 5 clients (out of 10)\n"
     ]
    },
    {
     "name": "stdout",
     "output_type": "stream",
     "text": [
      "agrregate_fit results list length is  5\n",
      "Saving round 27 aggregated_parameters...\n",
      "agrregate_evaluate results list length is  5\n",
      "server round is  27\n",
      "loss is  2.153419593345656\n"
     ]
    },
    {
     "name": "stderr",
     "output_type": "stream",
     "text": [
      "DEBUG flwr 2023-08-31 03:05:24,378 | server.py:236 | fit_round 28 received 5 results and 0 failures\n",
      "DEBUG flwr 2023-08-31 03:05:24,410 | server.py:173 | evaluate_round 28: strategy sampled 5 clients (out of 10)\n",
      "DEBUG flwr 2023-08-31 03:05:24,500 | server.py:187 | evaluate_round 28 received 5 results and 0 failures\n",
      "DEBUG flwr 2023-08-31 03:05:24,502 | server.py:222 | fit_round 29: strategy sampled 5 clients (out of 10)\n"
     ]
    },
    {
     "name": "stdout",
     "output_type": "stream",
     "text": [
      "agrregate_fit results list length is  5\n",
      "Saving round 28 aggregated_parameters...\n",
      "agrregate_evaluate results list length is  5\n",
      "server round is  28\n",
      "loss is  2.56007393715342\n"
     ]
    },
    {
     "name": "stderr",
     "output_type": "stream",
     "text": [
      "DEBUG flwr 2023-08-31 03:05:32,812 | server.py:236 | fit_round 29 received 5 results and 0 failures\n",
      "DEBUG flwr 2023-08-31 03:05:32,845 | server.py:173 | evaluate_round 29: strategy sampled 5 clients (out of 10)\n",
      "DEBUG flwr 2023-08-31 03:05:32,997 | server.py:187 | evaluate_round 29 received 5 results and 0 failures\n",
      "DEBUG flwr 2023-08-31 03:05:32,999 | server.py:222 | fit_round 30: strategy sampled 5 clients (out of 10)\n"
     ]
    },
    {
     "name": "stdout",
     "output_type": "stream",
     "text": [
      "agrregate_fit results list length is  5\n",
      "Saving round 29 aggregated_parameters...\n",
      "agrregate_evaluate results list length is  5\n",
      "server round is  29\n",
      "loss is  2.6377079482439925\n"
     ]
    },
    {
     "name": "stderr",
     "output_type": "stream",
     "text": [
      "DEBUG flwr 2023-08-31 03:05:33,951 | server.py:236 | fit_round 30 received 5 results and 0 failures\n",
      "DEBUG flwr 2023-08-31 03:05:33,994 | server.py:173 | evaluate_round 30: strategy sampled 5 clients (out of 10)\n",
      "DEBUG flwr 2023-08-31 03:05:34,111 | server.py:187 | evaluate_round 30 received 5 results and 0 failures\n",
      "DEBUG flwr 2023-08-31 03:05:34,113 | server.py:222 | fit_round 31: strategy sampled 5 clients (out of 10)\n"
     ]
    },
    {
     "name": "stdout",
     "output_type": "stream",
     "text": [
      "agrregate_fit results list length is  5\n",
      "Saving round 30 aggregated_parameters...\n",
      "agrregate_evaluate results list length is  5\n",
      "server round is  30\n",
      "loss is  2.186691312384473\n"
     ]
    },
    {
     "name": "stderr",
     "output_type": "stream",
     "text": [
      "DEBUG flwr 2023-08-31 03:05:43,234 | server.py:236 | fit_round 31 received 5 results and 0 failures\n",
      "DEBUG flwr 2023-08-31 03:05:43,264 | server.py:173 | evaluate_round 31: strategy sampled 5 clients (out of 10)\n",
      "DEBUG flwr 2023-08-31 03:05:43,344 | server.py:187 | evaluate_round 31 received 5 results and 0 failures\n",
      "DEBUG flwr 2023-08-31 03:05:43,346 | server.py:222 | fit_round 32: strategy sampled 5 clients (out of 10)\n"
     ]
    },
    {
     "name": "stdout",
     "output_type": "stream",
     "text": [
      "agrregate_fit results list length is  5\n",
      "Saving round 31 aggregated_parameters...\n",
      "agrregate_evaluate results list length is  5\n",
      "server round is  31\n",
      "loss is  2.4491682070240297\n"
     ]
    },
    {
     "name": "stderr",
     "output_type": "stream",
     "text": [
      "DEBUG flwr 2023-08-31 03:05:44,490 | server.py:236 | fit_round 32 received 5 results and 0 failures\n",
      "DEBUG flwr 2023-08-31 03:05:44,530 | server.py:173 | evaluate_round 32: strategy sampled 5 clients (out of 10)\n",
      "DEBUG flwr 2023-08-31 03:05:44,645 | server.py:187 | evaluate_round 32 received 5 results and 0 failures\n",
      "DEBUG flwr 2023-08-31 03:05:44,647 | server.py:222 | fit_round 33: strategy sampled 5 clients (out of 10)\n"
     ]
    },
    {
     "name": "stdout",
     "output_type": "stream",
     "text": [
      "agrregate_fit results list length is  5\n",
      "Saving round 32 aggregated_parameters...\n",
      "agrregate_evaluate results list length is  5\n",
      "server round is  32\n",
      "loss is  2.3475046210720887\n"
     ]
    },
    {
     "name": "stderr",
     "output_type": "stream",
     "text": [
      "DEBUG flwr 2023-08-31 03:05:52,977 | server.py:236 | fit_round 33 received 5 results and 0 failures\n",
      "DEBUG flwr 2023-08-31 03:05:53,008 | server.py:173 | evaluate_round 33: strategy sampled 5 clients (out of 10)\n",
      "DEBUG flwr 2023-08-31 03:05:53,106 | server.py:187 | evaluate_round 33 received 5 results and 0 failures\n",
      "DEBUG flwr 2023-08-31 03:05:53,108 | server.py:222 | fit_round 34: strategy sampled 5 clients (out of 10)\n"
     ]
    },
    {
     "name": "stdout",
     "output_type": "stream",
     "text": [
      "agrregate_fit results list length is  5\n",
      "Saving round 33 aggregated_parameters...\n",
      "agrregate_evaluate results list length is  5\n",
      "server round is  33\n",
      "loss is  2.378927911275416\n"
     ]
    },
    {
     "name": "stderr",
     "output_type": "stream",
     "text": [
      "DEBUG flwr 2023-08-31 03:06:01,480 | server.py:236 | fit_round 34 received 5 results and 0 failures\n",
      "DEBUG flwr 2023-08-31 03:06:01,514 | server.py:173 | evaluate_round 34: strategy sampled 5 clients (out of 10)\n",
      "DEBUG flwr 2023-08-31 03:06:01,613 | server.py:187 | evaluate_round 34 received 5 results and 0 failures\n",
      "DEBUG flwr 2023-08-31 03:06:01,616 | server.py:222 | fit_round 35: strategy sampled 5 clients (out of 10)\n"
     ]
    },
    {
     "name": "stdout",
     "output_type": "stream",
     "text": [
      "agrregate_fit results list length is  5\n",
      "Saving round 34 aggregated_parameters...\n",
      "agrregate_evaluate results list length is  5\n",
      "server round is  34\n",
      "loss is  2.5489833641404807\n"
     ]
    },
    {
     "name": "stderr",
     "output_type": "stream",
     "text": [
      "DEBUG flwr 2023-08-31 03:06:02,752 | server.py:236 | fit_round 35 received 5 results and 0 failures\n",
      "DEBUG flwr 2023-08-31 03:06:02,792 | server.py:173 | evaluate_round 35: strategy sampled 5 clients (out of 10)\n",
      "DEBUG flwr 2023-08-31 03:06:02,898 | server.py:187 | evaluate_round 35 received 5 results and 0 failures\n",
      "DEBUG flwr 2023-08-31 03:06:02,899 | server.py:222 | fit_round 36: strategy sampled 5 clients (out of 10)\n"
     ]
    },
    {
     "name": "stdout",
     "output_type": "stream",
     "text": [
      "agrregate_fit results list length is  5\n",
      "Saving round 35 aggregated_parameters...\n",
      "agrregate_evaluate results list length is  5\n",
      "server round is  35\n",
      "loss is  2.1645101663585953\n"
     ]
    },
    {
     "name": "stderr",
     "output_type": "stream",
     "text": [
      "DEBUG flwr 2023-08-31 03:06:03,954 | server.py:236 | fit_round 36 received 5 results and 0 failures\n",
      "DEBUG flwr 2023-08-31 03:06:04,007 | server.py:173 | evaluate_round 36: strategy sampled 5 clients (out of 10)\n",
      "DEBUG flwr 2023-08-31 03:06:04,130 | server.py:187 | evaluate_round 36 received 5 results and 0 failures\n"
     ]
    },
    {
     "name": "stdout",
     "output_type": "stream",
     "text": [
      "agrregate_fit results list length is  5\n",
      "Saving round 36 aggregated_parameters...\n"
     ]
    },
    {
     "name": "stderr",
     "output_type": "stream",
     "text": [
      "DEBUG flwr 2023-08-31 03:06:04,132 | server.py:222 | fit_round 37: strategy sampled 5 clients (out of 10)\n"
     ]
    },
    {
     "name": "stdout",
     "output_type": "stream",
     "text": [
      "agrregate_evaluate results list length is  5\n",
      "server round is  36\n",
      "loss is  2.3493530499075788\n"
     ]
    },
    {
     "name": "stderr",
     "output_type": "stream",
     "text": [
      "DEBUG flwr 2023-08-31 03:06:12,658 | server.py:236 | fit_round 37 received 5 results and 0 failures\n",
      "DEBUG flwr 2023-08-31 03:06:12,703 | server.py:173 | evaluate_round 37: strategy sampled 5 clients (out of 10)\n",
      "DEBUG flwr 2023-08-31 03:06:12,850 | server.py:187 | evaluate_round 37 received 5 results and 0 failures\n"
     ]
    },
    {
     "name": "stdout",
     "output_type": "stream",
     "text": [
      "agrregate_fit results list length is  5\n",
      "Saving round 37 aggregated_parameters...\n"
     ]
    },
    {
     "name": "stderr",
     "output_type": "stream",
     "text": [
      "DEBUG flwr 2023-08-31 03:06:12,853 | server.py:222 | fit_round 38: strategy sampled 5 clients (out of 10)\n"
     ]
    },
    {
     "name": "stdout",
     "output_type": "stream",
     "text": [
      "agrregate_evaluate results list length is  5\n",
      "server round is  37\n",
      "loss is  2.325323475046211\n"
     ]
    },
    {
     "name": "stderr",
     "output_type": "stream",
     "text": [
      "DEBUG flwr 2023-08-31 03:06:14,190 | server.py:236 | fit_round 38 received 5 results and 0 failures\n",
      "DEBUG flwr 2023-08-31 03:06:14,239 | server.py:173 | evaluate_round 38: strategy sampled 5 clients (out of 10)\n",
      "DEBUG flwr 2023-08-31 03:06:14,371 | server.py:187 | evaluate_round 38 received 5 results and 0 failures\n",
      "DEBUG flwr 2023-08-31 03:06:14,374 | server.py:222 | fit_round 39: strategy sampled 5 clients (out of 10)\n"
     ]
    },
    {
     "name": "stdout",
     "output_type": "stream",
     "text": [
      "agrregate_fit results list length is  5\n",
      "Saving round 38 aggregated_parameters...\n",
      "agrregate_evaluate results list length is  5\n",
      "server round is  38\n",
      "loss is  2.123844731977819\n"
     ]
    },
    {
     "name": "stderr",
     "output_type": "stream",
     "text": [
      "DEBUG flwr 2023-08-31 03:06:22,483 | server.py:236 | fit_round 39 received 5 results and 0 failures\n",
      "DEBUG flwr 2023-08-31 03:06:22,522 | server.py:173 | evaluate_round 39: strategy sampled 5 clients (out of 10)\n",
      "DEBUG flwr 2023-08-31 03:06:22,655 | server.py:187 | evaluate_round 39 received 5 results and 0 failures\n",
      "DEBUG flwr 2023-08-31 03:06:22,658 | server.py:222 | fit_round 40: strategy sampled 5 clients (out of 10)\n"
     ]
    },
    {
     "name": "stdout",
     "output_type": "stream",
     "text": [
      "agrregate_fit results list length is  5\n",
      "Saving round 39 aggregated_parameters...\n",
      "agrregate_evaluate results list length is  5\n",
      "server round is  39\n",
      "loss is  3.042513863216266\n"
     ]
    },
    {
     "name": "stderr",
     "output_type": "stream",
     "text": [
      "DEBUG flwr 2023-08-31 03:06:23,954 | server.py:236 | fit_round 40 received 5 results and 0 failures\n",
      "DEBUG flwr 2023-08-31 03:06:24,001 | server.py:173 | evaluate_round 40: strategy sampled 5 clients (out of 10)\n",
      "DEBUG flwr 2023-08-31 03:06:24,117 | server.py:187 | evaluate_round 40 received 5 results and 0 failures\n",
      "DEBUG flwr 2023-08-31 03:06:24,119 | server.py:222 | fit_round 41: strategy sampled 5 clients (out of 10)\n"
     ]
    },
    {
     "name": "stdout",
     "output_type": "stream",
     "text": [
      "agrregate_fit results list length is  5\n",
      "Saving round 40 aggregated_parameters...\n",
      "agrregate_evaluate results list length is  5\n",
      "server round is  40\n",
      "loss is  2.358595194085028\n"
     ]
    },
    {
     "name": "stderr",
     "output_type": "stream",
     "text": [
      "DEBUG flwr 2023-08-31 03:06:33,321 | server.py:236 | fit_round 41 received 5 results and 0 failures\n",
      "DEBUG flwr 2023-08-31 03:06:33,363 | server.py:173 | evaluate_round 41: strategy sampled 5 clients (out of 10)\n",
      "DEBUG flwr 2023-08-31 03:06:33,446 | server.py:187 | evaluate_round 41 received 5 results and 0 failures\n",
      "DEBUG flwr 2023-08-31 03:06:33,448 | server.py:222 | fit_round 42: strategy sampled 5 clients (out of 10)\n"
     ]
    },
    {
     "name": "stdout",
     "output_type": "stream",
     "text": [
      "agrregate_fit results list length is  5\n",
      "Saving round 41 aggregated_parameters...\n",
      "agrregate_evaluate results list length is  5\n",
      "server round is  41\n",
      "loss is  2.255083179297597\n"
     ]
    },
    {
     "name": "stderr",
     "output_type": "stream",
     "text": [
      "DEBUG flwr 2023-08-31 03:06:34,476 | server.py:236 | fit_round 42 received 5 results and 0 failures\n",
      "DEBUG flwr 2023-08-31 03:06:34,546 | server.py:173 | evaluate_round 42: strategy sampled 5 clients (out of 10)\n",
      "DEBUG flwr 2023-08-31 03:06:34,672 | server.py:187 | evaluate_round 42 received 5 results and 0 failures\n"
     ]
    },
    {
     "name": "stdout",
     "output_type": "stream",
     "text": [
      "agrregate_fit results list length is  5\n",
      "Saving round 42 aggregated_parameters...\n"
     ]
    },
    {
     "name": "stderr",
     "output_type": "stream",
     "text": [
      "DEBUG flwr 2023-08-31 03:06:34,675 | server.py:222 | fit_round 43: strategy sampled 5 clients (out of 10)\n"
     ]
    },
    {
     "name": "stdout",
     "output_type": "stream",
     "text": [
      "agrregate_evaluate results list length is  5\n",
      "server round is  42\n",
      "loss is  2.1127541589648797\n"
     ]
    },
    {
     "name": "stderr",
     "output_type": "stream",
     "text": [
      "DEBUG flwr 2023-08-31 03:06:44,474 | server.py:236 | fit_round 43 received 5 results and 0 failures\n",
      "DEBUG flwr 2023-08-31 03:06:44,519 | server.py:173 | evaluate_round 43: strategy sampled 5 clients (out of 10)\n",
      "DEBUG flwr 2023-08-31 03:06:44,618 | server.py:187 | evaluate_round 43 received 5 results and 0 failures\n",
      "DEBUG flwr 2023-08-31 03:06:44,622 | server.py:222 | fit_round 44: strategy sampled 5 clients (out of 10)\n"
     ]
    },
    {
     "name": "stdout",
     "output_type": "stream",
     "text": [
      "agrregate_fit results list length is  5\n",
      "Saving round 43 aggregated_parameters...\n",
      "agrregate_evaluate results list length is  5\n",
      "server round is  43\n",
      "loss is  2.476894639556377\n"
     ]
    },
    {
     "name": "stderr",
     "output_type": "stream",
     "text": [
      "DEBUG flwr 2023-08-31 03:06:45,762 | server.py:236 | fit_round 44 received 5 results and 0 failures\n",
      "DEBUG flwr 2023-08-31 03:06:45,810 | server.py:173 | evaluate_round 44: strategy sampled 5 clients (out of 10)\n",
      "DEBUG flwr 2023-08-31 03:06:45,921 | server.py:187 | evaluate_round 44 received 5 results and 0 failures\n",
      "DEBUG flwr 2023-08-31 03:06:45,922 | server.py:222 | fit_round 45: strategy sampled 5 clients (out of 10)\n"
     ]
    },
    {
     "name": "stdout",
     "output_type": "stream",
     "text": [
      "agrregate_fit results list length is  5\n",
      "Saving round 44 aggregated_parameters...\n",
      "agrregate_evaluate results list length is  5\n",
      "server round is  44\n",
      "loss is  2.2643253234750462\n"
     ]
    },
    {
     "name": "stderr",
     "output_type": "stream",
     "text": [
      "DEBUG flwr 2023-08-31 03:06:47,206 | server.py:236 | fit_round 45 received 5 results and 0 failures\n",
      "DEBUG flwr 2023-08-31 03:06:47,268 | server.py:173 | evaluate_round 45: strategy sampled 5 clients (out of 10)\n",
      "DEBUG flwr 2023-08-31 03:06:47,384 | server.py:187 | evaluate_round 45 received 5 results and 0 failures\n",
      "DEBUG flwr 2023-08-31 03:06:47,386 | server.py:222 | fit_round 46: strategy sampled 5 clients (out of 10)\n"
     ]
    },
    {
     "name": "stdout",
     "output_type": "stream",
     "text": [
      "agrregate_fit results list length is  5\n",
      "Saving round 45 aggregated_parameters...\n",
      "agrregate_evaluate results list length is  5\n",
      "server round is  45\n",
      "loss is  2.188539741219963\n"
     ]
    },
    {
     "name": "stderr",
     "output_type": "stream",
     "text": [
      "DEBUG flwr 2023-08-31 03:06:57,079 | server.py:236 | fit_round 46 received 5 results and 0 failures\n",
      "DEBUG flwr 2023-08-31 03:06:57,119 | server.py:173 | evaluate_round 46: strategy sampled 5 clients (out of 10)\n",
      "DEBUG flwr 2023-08-31 03:06:57,202 | server.py:187 | evaluate_round 46 received 5 results and 0 failures\n",
      "DEBUG flwr 2023-08-31 03:06:57,204 | server.py:222 | fit_round 47: strategy sampled 5 clients (out of 10)\n"
     ]
    },
    {
     "name": "stdout",
     "output_type": "stream",
     "text": [
      "agrregate_fit results list length is  5\n",
      "Saving round 46 aggregated_parameters...\n",
      "agrregate_evaluate results list length is  5\n",
      "server round is  46\n",
      "loss is  2.6395563770794825\n"
     ]
    },
    {
     "name": "stderr",
     "output_type": "stream",
     "text": [
      "DEBUG flwr 2023-08-31 03:06:58,139 | server.py:236 | fit_round 47 received 5 results and 0 failures\n",
      "DEBUG flwr 2023-08-31 03:06:58,184 | server.py:173 | evaluate_round 47: strategy sampled 5 clients (out of 10)\n",
      "DEBUG flwr 2023-08-31 03:06:58,297 | server.py:187 | evaluate_round 47 received 5 results and 0 failures\n",
      "DEBUG flwr 2023-08-31 03:06:58,299 | server.py:222 | fit_round 48: strategy sampled 5 clients (out of 10)\n"
     ]
    },
    {
     "name": "stdout",
     "output_type": "stream",
     "text": [
      "agrregate_fit results list length is  5\n",
      "Saving round 47 aggregated_parameters...\n",
      "agrregate_evaluate results list length is  5\n",
      "server round is  47\n",
      "loss is  2.1182994454713495\n"
     ]
    },
    {
     "name": "stderr",
     "output_type": "stream",
     "text": [
      "DEBUG flwr 2023-08-31 03:07:06,810 | server.py:236 | fit_round 48 received 5 results and 0 failures\n",
      "DEBUG flwr 2023-08-31 03:07:06,846 | server.py:173 | evaluate_round 48: strategy sampled 5 clients (out of 10)\n",
      "DEBUG flwr 2023-08-31 03:07:06,929 | server.py:187 | evaluate_round 48 received 5 results and 0 failures\n",
      "DEBUG flwr 2023-08-31 03:07:06,931 | server.py:222 | fit_round 49: strategy sampled 5 clients (out of 10)\n"
     ]
    },
    {
     "name": "stdout",
     "output_type": "stream",
     "text": [
      "agrregate_fit results list length is  5\n",
      "Saving round 48 aggregated_parameters...\n",
      "agrregate_evaluate results list length is  5\n",
      "server round is  48\n",
      "loss is  2.1940850277264325\n"
     ]
    },
    {
     "name": "stderr",
     "output_type": "stream",
     "text": [
      "DEBUG flwr 2023-08-31 03:07:07,967 | server.py:236 | fit_round 49 received 5 results and 0 failures\n",
      "DEBUG flwr 2023-08-31 03:07:08,030 | server.py:173 | evaluate_round 49: strategy sampled 5 clients (out of 10)\n"
     ]
    },
    {
     "name": "stdout",
     "output_type": "stream",
     "text": [
      "agrregate_fit results list length is  5\n",
      "Saving round 49 aggregated_parameters...\n"
     ]
    },
    {
     "name": "stderr",
     "output_type": "stream",
     "text": [
      "DEBUG flwr 2023-08-31 03:07:08,179 | server.py:187 | evaluate_round 49 received 5 results and 0 failures\n",
      "DEBUG flwr 2023-08-31 03:07:08,181 | server.py:222 | fit_round 50: strategy sampled 5 clients (out of 10)\n"
     ]
    },
    {
     "name": "stdout",
     "output_type": "stream",
     "text": [
      "agrregate_evaluate results list length is  5\n",
      "server round is  49\n",
      "loss is  2.0609981515711646\n"
     ]
    },
    {
     "name": "stderr",
     "output_type": "stream",
     "text": [
      "DEBUG flwr 2023-08-31 03:07:16,648 | server.py:236 | fit_round 50 received 5 results and 0 failures\n",
      "DEBUG flwr 2023-08-31 03:07:16,685 | server.py:173 | evaluate_round 50: strategy sampled 5 clients (out of 10)\n",
      "DEBUG flwr 2023-08-31 03:07:16,813 | server.py:187 | evaluate_round 50 received 5 results and 0 failures\n",
      "DEBUG flwr 2023-08-31 03:07:16,815 | server.py:222 | fit_round 51: strategy sampled 5 clients (out of 10)\n"
     ]
    },
    {
     "name": "stdout",
     "output_type": "stream",
     "text": [
      "agrregate_fit results list length is  5\n",
      "Saving round 50 aggregated_parameters...\n",
      "agrregate_evaluate results list length is  5\n",
      "server round is  50\n",
      "loss is  2.1460258780036967\n"
     ]
    },
    {
     "name": "stderr",
     "output_type": "stream",
     "text": [
      "DEBUG flwr 2023-08-31 03:07:25,524 | server.py:236 | fit_round 51 received 5 results and 0 failures\n",
      "DEBUG flwr 2023-08-31 03:07:25,611 | server.py:173 | evaluate_round 51: strategy sampled 5 clients (out of 10)\n"
     ]
    },
    {
     "name": "stdout",
     "output_type": "stream",
     "text": [
      "agrregate_fit results list length is  5\n",
      "Saving round 51 aggregated_parameters...\n"
     ]
    },
    {
     "name": "stderr",
     "output_type": "stream",
     "text": [
      "DEBUG flwr 2023-08-31 03:07:25,848 | server.py:187 | evaluate_round 51 received 5 results and 0 failures\n",
      "DEBUG flwr 2023-08-31 03:07:25,851 | server.py:222 | fit_round 52: strategy sampled 5 clients (out of 10)\n"
     ]
    },
    {
     "name": "stdout",
     "output_type": "stream",
     "text": [
      "agrregate_evaluate results list length is  5\n",
      "server round is  51\n",
      "loss is  2.831792975970425\n"
     ]
    },
    {
     "name": "stderr",
     "output_type": "stream",
     "text": [
      "DEBUG flwr 2023-08-31 03:07:27,034 | server.py:236 | fit_round 52 received 5 results and 0 failures\n",
      "DEBUG flwr 2023-08-31 03:07:27,080 | server.py:173 | evaluate_round 52: strategy sampled 5 clients (out of 10)\n",
      "DEBUG flwr 2023-08-31 03:07:27,193 | server.py:187 | evaluate_round 52 received 5 results and 0 failures\n",
      "DEBUG flwr 2023-08-31 03:07:27,196 | server.py:222 | fit_round 53: strategy sampled 5 clients (out of 10)\n"
     ]
    },
    {
     "name": "stdout",
     "output_type": "stream",
     "text": [
      "agrregate_fit results list length is  5\n",
      "Saving round 52 aggregated_parameters...\n",
      "agrregate_evaluate results list length is  5\n",
      "server round is  52\n",
      "loss is  2.1460258780036967\n"
     ]
    },
    {
     "name": "stderr",
     "output_type": "stream",
     "text": [
      "DEBUG flwr 2023-08-31 03:07:28,288 | server.py:236 | fit_round 53 received 5 results and 0 failures\n",
      "DEBUG flwr 2023-08-31 03:07:28,349 | server.py:173 | evaluate_round 53: strategy sampled 5 clients (out of 10)\n",
      "DEBUG flwr 2023-08-31 03:07:28,462 | server.py:187 | evaluate_round 53 received 5 results and 0 failures\n",
      "DEBUG flwr 2023-08-31 03:07:28,463 | server.py:222 | fit_round 54: strategy sampled 5 clients (out of 10)\n"
     ]
    },
    {
     "name": "stdout",
     "output_type": "stream",
     "text": [
      "agrregate_fit results list length is  5\n",
      "Saving round 53 aggregated_parameters...\n",
      "agrregate_evaluate results list length is  5\n",
      "server round is  53\n",
      "loss is  1.988909426987061\n"
     ]
    },
    {
     "name": "stderr",
     "output_type": "stream",
     "text": [
      "DEBUG flwr 2023-08-31 03:07:29,654 | server.py:236 | fit_round 54 received 5 results and 0 failures\n",
      "DEBUG flwr 2023-08-31 03:07:29,706 | server.py:173 | evaluate_round 54: strategy sampled 5 clients (out of 10)\n",
      "DEBUG flwr 2023-08-31 03:07:29,815 | server.py:187 | evaluate_round 54 received 5 results and 0 failures\n",
      "DEBUG flwr 2023-08-31 03:07:29,817 | server.py:222 | fit_round 55: strategy sampled 5 clients (out of 10)\n"
     ]
    },
    {
     "name": "stdout",
     "output_type": "stream",
     "text": [
      "agrregate_fit results list length is  5\n",
      "Saving round 54 aggregated_parameters...\n",
      "agrregate_evaluate results list length is  5\n",
      "server round is  54\n",
      "loss is  2.0258780036968576\n"
     ]
    },
    {
     "name": "stderr",
     "output_type": "stream",
     "text": [
      "DEBUG flwr 2023-08-31 03:07:30,900 | server.py:236 | fit_round 55 received 5 results and 0 failures\n",
      "DEBUG flwr 2023-08-31 03:07:30,949 | server.py:173 | evaluate_round 55: strategy sampled 5 clients (out of 10)\n",
      "DEBUG flwr 2023-08-31 03:07:31,066 | server.py:187 | evaluate_round 55 received 5 results and 0 failures\n",
      "DEBUG flwr 2023-08-31 03:07:31,068 | server.py:222 | fit_round 56: strategy sampled 5 clients (out of 10)\n"
     ]
    },
    {
     "name": "stdout",
     "output_type": "stream",
     "text": [
      "agrregate_fit results list length is  5\n",
      "Saving round 55 aggregated_parameters...\n",
      "agrregate_evaluate results list length is  5\n",
      "server round is  55\n",
      "loss is  2.1367837338262476\n"
     ]
    },
    {
     "name": "stderr",
     "output_type": "stream",
     "text": [
      "DEBUG flwr 2023-08-31 03:07:32,355 | server.py:236 | fit_round 56 received 5 results and 0 failures\n",
      "DEBUG flwr 2023-08-31 03:07:32,410 | server.py:173 | evaluate_round 56: strategy sampled 5 clients (out of 10)\n",
      "DEBUG flwr 2023-08-31 03:07:32,525 | server.py:187 | evaluate_round 56 received 5 results and 0 failures\n",
      "DEBUG flwr 2023-08-31 03:07:32,527 | server.py:222 | fit_round 57: strategy sampled 5 clients (out of 10)\n"
     ]
    },
    {
     "name": "stdout",
     "output_type": "stream",
     "text": [
      "agrregate_fit results list length is  5\n",
      "Saving round 56 aggregated_parameters...\n",
      "agrregate_evaluate results list length is  5\n",
      "server round is  56\n",
      "loss is  2.0924214417744915\n"
     ]
    },
    {
     "name": "stderr",
     "output_type": "stream",
     "text": [
      "DEBUG flwr 2023-08-31 03:07:41,041 | server.py:236 | fit_round 57 received 5 results and 0 failures\n",
      "DEBUG flwr 2023-08-31 03:07:41,085 | server.py:173 | evaluate_round 57: strategy sampled 5 clients (out of 10)\n",
      "DEBUG flwr 2023-08-31 03:07:41,180 | server.py:187 | evaluate_round 57 received 5 results and 0 failures\n",
      "DEBUG flwr 2023-08-31 03:07:41,182 | server.py:222 | fit_round 58: strategy sampled 5 clients (out of 10)\n"
     ]
    },
    {
     "name": "stdout",
     "output_type": "stream",
     "text": [
      "agrregate_fit results list length is  5\n",
      "Saving round 57 aggregated_parameters...\n",
      "agrregate_evaluate results list length is  5\n",
      "server round is  57\n",
      "loss is  2.487985212569316\n"
     ]
    },
    {
     "name": "stderr",
     "output_type": "stream",
     "text": [
      "DEBUG flwr 2023-08-31 03:07:41,997 | server.py:236 | fit_round 58 received 5 results and 0 failures\n",
      "DEBUG flwr 2023-08-31 03:07:42,044 | server.py:173 | evaluate_round 58: strategy sampled 5 clients (out of 10)\n",
      "DEBUG flwr 2023-08-31 03:07:42,158 | server.py:187 | evaluate_round 58 received 5 results and 0 failures\n",
      "DEBUG flwr 2023-08-31 03:07:42,160 | server.py:222 | fit_round 59: strategy sampled 5 clients (out of 10)\n"
     ]
    },
    {
     "name": "stdout",
     "output_type": "stream",
     "text": [
      "agrregate_fit results list length is  5\n",
      "Saving round 58 aggregated_parameters...\n",
      "agrregate_evaluate results list length is  5\n",
      "server round is  58\n",
      "loss is  2.142329020332717\n"
     ]
    },
    {
     "name": "stderr",
     "output_type": "stream",
     "text": [
      "DEBUG flwr 2023-08-31 03:07:50,484 | server.py:236 | fit_round 59 received 5 results and 0 failures\n",
      "DEBUG flwr 2023-08-31 03:07:50,526 | server.py:173 | evaluate_round 59: strategy sampled 5 clients (out of 10)\n",
      "DEBUG flwr 2023-08-31 03:07:50,605 | server.py:187 | evaluate_round 59 received 5 results and 0 failures\n",
      "DEBUG flwr 2023-08-31 03:07:50,606 | server.py:222 | fit_round 60: strategy sampled 5 clients (out of 10)\n"
     ]
    },
    {
     "name": "stdout",
     "output_type": "stream",
     "text": [
      "agrregate_fit results list length is  5\n",
      "Saving round 59 aggregated_parameters...\n",
      "agrregate_evaluate results list length is  5\n",
      "server round is  59\n",
      "loss is  2.090573012939002\n"
     ]
    },
    {
     "name": "stderr",
     "output_type": "stream",
     "text": [
      "DEBUG flwr 2023-08-31 03:07:51,510 | server.py:236 | fit_round 60 received 5 results and 0 failures\n",
      "DEBUG flwr 2023-08-31 03:07:51,550 | server.py:173 | evaluate_round 60: strategy sampled 5 clients (out of 10)\n",
      "DEBUG flwr 2023-08-31 03:07:51,649 | server.py:187 | evaluate_round 60 received 5 results and 0 failures\n",
      "INFO flwr 2023-08-31 03:07:51,651 | server.py:153 | FL finished in 294.37982329999795\n",
      "INFO flwr 2023-08-31 03:07:51,653 | app.py:225 | app_fit: losses_distributed [(1, 7.075785582255083), (2, 2.9482439926062844), (3, 2.6857670979667283), (4, 2.5268022181146024), (5, 2.4473197781885396), (6, 2.497227356746765), (7, 2.43992606284658), (8, 2.1460258780036967), (9, 2.1589648798521255), (10, 2.402957486136784), (11, 2.081330868761553), (12, 2.1164510166358594), (13, 2.4621072088724585), (14, 2.1053604436229203), (15, 2.075785582255083), (16, 2.0961182994454712), (17, 2.157116451016636), (18, 2.081330868761553), (19, 2.6487985212569316), (20, 2.3086876155268024), (21, 2.4140480591497226), (22, 2.6765249537892792), (23, 2.698706099815157), (24, 2.4473197781885396), (25, 2.155268022181146), (26, 2.3049907578558226), (27, 2.153419593345656), (28, 2.56007393715342), (29, 2.6377079482439925), (30, 2.186691312384473), (31, 2.4491682070240297), (32, 2.3475046210720887), (33, 2.378927911275416), (34, 2.5489833641404807), (35, 2.1645101663585953), (36, 2.3493530499075788), (37, 2.325323475046211), (38, 2.123844731977819), (39, 3.042513863216266), (40, 2.358595194085028), (41, 2.255083179297597), (42, 2.1127541589648797), (43, 2.476894639556377), (44, 2.2643253234750462), (45, 2.188539741219963), (46, 2.6395563770794825), (47, 2.1182994454713495), (48, 2.1940850277264325), (49, 2.0609981515711646), (50, 2.1460258780036967), (51, 2.831792975970425), (52, 2.1460258780036967), (53, 1.988909426987061), (54, 2.0258780036968576), (55, 2.1367837338262476), (56, 2.0924214417744915), (57, 2.487985212569316), (58, 2.142329020332717), (59, 2.090573012939002), (60, 1.990757855822551)]\n",
      "INFO flwr 2023-08-31 03:07:51,654 | app.py:226 | app_fit: metrics_distributed_fit {}\n",
      "INFO flwr 2023-08-31 03:07:51,656 | app.py:227 | app_fit: metrics_distributed {'mse': [(1, 35.37892791127541), (2, 14.741219963031423), (3, 13.428835489833642), (4, 12.634011090573011), (5, 12.236598890942698), (6, 12.486136783733826), (7, 12.199630314232902), (8, 10.730129390018483), (9, 10.794824399260627), (10, 12.01478743068392), (11, 10.406654343807764), (12, 10.582255083179298), (13, 12.310536044362292), (14, 10.526802218114602), (15, 10.378927911275415), (16, 10.480591497227357), (17, 10.78558225508318), (18, 10.406654343807764), (19, 13.243992606284658), (20, 11.543438077634011), (21, 12.070240295748613), (22, 13.382624768946396), (23, 13.493530499075785), (24, 12.236598890942698), (25, 10.776340110905732), (26, 11.524953789279113), (27, 10.767097966728281), (28, 12.800369685767098), (29, 13.188539741219962), (30, 10.933456561922366), (31, 12.245841035120149), (32, 11.737523105360443), (33, 11.89463955637708), (34, 12.744916820702404), (35, 10.822550831792977), (36, 11.746765249537894), (37, 11.626617375231055), (38, 10.619223659889094), (39, 15.21256931608133), (40, 11.79297597042514), (41, 11.275415896487985), (42, 10.563770794824398), (43, 12.384473197781885), (44, 11.32162661737523), (45, 10.942698706099815), (46, 13.197781885397413), (47, 10.591497227356747), (48, 10.970425138632162), (49, 10.304990757855823), (50, 10.730129390018483), (51, 14.158964879852125), (52, 10.730129390018483), (53, 9.944547134935306), (54, 10.129390018484287), (55, 10.683918669131238), (56, 10.462107208872457), (57, 12.439926062846581), (58, 10.711645101663585), (59, 10.45286506469501), (60, 9.953789279112755)]}\n",
      "INFO flwr 2023-08-31 03:07:51,657 | app.py:228 | app_fit: losses_centralized []\n",
      "INFO flwr 2023-08-31 03:07:51,658 | app.py:229 | app_fit: metrics_centralized {}\n"
     ]
    },
    {
     "name": "stdout",
     "output_type": "stream",
     "text": [
      "agrregate_fit results list length is  5\n",
      "Saving round 60 aggregated_parameters...\n",
      "agrregate_evaluate results list length is  5\n",
      "server round is  60\n",
      "loss is  1.990757855822551\n",
      "History (loss, distributed):\n",
      "\tround 1: 7.075785582255083\n",
      "\tround 2: 2.9482439926062844\n",
      "\tround 3: 2.6857670979667283\n",
      "\tround 4: 2.5268022181146024\n",
      "\tround 5: 2.4473197781885396\n",
      "\tround 6: 2.497227356746765\n",
      "\tround 7: 2.43992606284658\n",
      "\tround 8: 2.1460258780036967\n",
      "\tround 9: 2.1589648798521255\n",
      "\tround 10: 2.402957486136784\n",
      "\tround 11: 2.081330868761553\n",
      "\tround 12: 2.1164510166358594\n",
      "\tround 13: 2.4621072088724585\n",
      "\tround 14: 2.1053604436229203\n",
      "\tround 15: 2.075785582255083\n",
      "\tround 16: 2.0961182994454712\n",
      "\tround 17: 2.157116451016636\n",
      "\tround 18: 2.081330868761553\n",
      "\tround 19: 2.6487985212569316\n",
      "\tround 20: 2.3086876155268024\n",
      "\tround 21: 2.4140480591497226\n",
      "\tround 22: 2.6765249537892792\n",
      "\tround 23: 2.698706099815157\n",
      "\tround 24: 2.4473197781885396\n",
      "\tround 25: 2.155268022181146\n",
      "\tround 26: 2.3049907578558226\n",
      "\tround 27: 2.153419593345656\n",
      "\tround 28: 2.56007393715342\n",
      "\tround 29: 2.6377079482439925\n",
      "\tround 30: 2.186691312384473\n",
      "\tround 31: 2.4491682070240297\n",
      "\tround 32: 2.3475046210720887\n",
      "\tround 33: 2.378927911275416\n",
      "\tround 34: 2.5489833641404807\n",
      "\tround 35: 2.1645101663585953\n",
      "\tround 36: 2.3493530499075788\n",
      "\tround 37: 2.325323475046211\n",
      "\tround 38: 2.123844731977819\n",
      "\tround 39: 3.042513863216266\n",
      "\tround 40: 2.358595194085028\n",
      "\tround 41: 2.255083179297597\n",
      "\tround 42: 2.1127541589648797\n",
      "\tround 43: 2.476894639556377\n",
      "\tround 44: 2.2643253234750462\n",
      "\tround 45: 2.188539741219963\n",
      "\tround 46: 2.6395563770794825\n",
      "\tround 47: 2.1182994454713495\n",
      "\tround 48: 2.1940850277264325\n",
      "\tround 49: 2.0609981515711646\n",
      "\tround 50: 2.1460258780036967\n",
      "\tround 51: 2.831792975970425\n",
      "\tround 52: 2.1460258780036967\n",
      "\tround 53: 1.988909426987061\n",
      "\tround 54: 2.0258780036968576\n",
      "\tround 55: 2.1367837338262476\n",
      "\tround 56: 2.0924214417744915\n",
      "\tround 57: 2.487985212569316\n",
      "\tround 58: 2.142329020332717\n",
      "\tround 59: 2.090573012939002\n",
      "\tround 60: 1.990757855822551\n",
      "History (metrics, distributed, evaluate):\n",
      "{'mse': [(1, 35.37892791127541), (2, 14.741219963031423), (3, 13.428835489833642), (4, 12.634011090573011), (5, 12.236598890942698), (6, 12.486136783733826), (7, 12.199630314232902), (8, 10.730129390018483), (9, 10.794824399260627), (10, 12.01478743068392), (11, 10.406654343807764), (12, 10.582255083179298), (13, 12.310536044362292), (14, 10.526802218114602), (15, 10.378927911275415), (16, 10.480591497227357), (17, 10.78558225508318), (18, 10.406654343807764), (19, 13.243992606284658), (20, 11.543438077634011), (21, 12.070240295748613), (22, 13.382624768946396), (23, 13.493530499075785), (24, 12.236598890942698), (25, 10.776340110905732), (26, 11.524953789279113), (27, 10.767097966728281), (28, 12.800369685767098), (29, 13.188539741219962), (30, 10.933456561922366), (31, 12.245841035120149), (32, 11.737523105360443), (33, 11.89463955637708), (34, 12.744916820702404), (35, 10.822550831792977), (36, 11.746765249537894), (37, 11.626617375231055), (38, 10.619223659889094), (39, 15.21256931608133), (40, 11.79297597042514), (41, 11.275415896487985), (42, 10.563770794824398), (43, 12.384473197781885), (44, 11.32162661737523), (45, 10.942698706099815), (46, 13.197781885397413), (47, 10.591497227356747), (48, 10.970425138632162), (49, 10.304990757855823), (50, 10.730129390018483), (51, 14.158964879852125), (52, 10.730129390018483), (53, 9.944547134935306), (54, 10.129390018484287), (55, 10.683918669131238), (56, 10.462107208872457), (57, 12.439926062846581), (58, 10.711645101663585), (59, 10.45286506469501), (60, 9.953789279112755)]}\n",
      "[(1, 7.075785582255083), (2, 2.9482439926062844), (3, 2.6857670979667283), (4, 2.5268022181146024), (5, 2.4473197781885396), (6, 2.497227356746765), (7, 2.43992606284658), (8, 2.1460258780036967), (9, 2.1589648798521255), (10, 2.402957486136784), (11, 2.081330868761553), (12, 2.1164510166358594), (13, 2.4621072088724585), (14, 2.1053604436229203), (15, 2.075785582255083), (16, 2.0961182994454712), (17, 2.157116451016636), (18, 2.081330868761553), (19, 2.6487985212569316), (20, 2.3086876155268024), (21, 2.4140480591497226), (22, 2.6765249537892792), (23, 2.698706099815157), (24, 2.4473197781885396), (25, 2.155268022181146), (26, 2.3049907578558226), (27, 2.153419593345656), (28, 2.56007393715342), (29, 2.6377079482439925), (30, 2.186691312384473), (31, 2.4491682070240297), (32, 2.3475046210720887), (33, 2.378927911275416), (34, 2.5489833641404807), (35, 2.1645101663585953), (36, 2.3493530499075788), (37, 2.325323475046211), (38, 2.123844731977819), (39, 3.042513863216266), (40, 2.358595194085028), (41, 2.255083179297597), (42, 2.1127541589648797), (43, 2.476894639556377), (44, 2.2643253234750462), (45, 2.188539741219963), (46, 2.6395563770794825), (47, 2.1182994454713495), (48, 2.1940850277264325), (49, 2.0609981515711646), (50, 2.1460258780036967), (51, 2.831792975970425), (52, 2.1460258780036967), (53, 1.988909426987061), (54, 2.0258780036968576), (55, 2.1367837338262476), (56, 2.0924214417744915), (57, 2.487985212569316), (58, 2.142329020332717), (59, 2.090573012939002), (60, 1.990757855822551)]\n",
      "Fold 2:\n",
      "split [0.6, 0.05, 0.05, 0.05, 0.05, 0.04, 0.04, 0.04, 0.04, 0.04]\n",
      "time 0:05:16.887509\n",
      "mse [1.990757855822551]\n",
      "auc [0.9039166097060833]\n"
     ]
    }
   ],
   "source": [
    "split = [0.6, 0.05, 0.05, 0.05, 0.05, 0.04, 0.04, 0.04, 0.04, 0.04]\n",
    "do_fl(split)"
   ],
   "metadata": {
    "collapsed": false,
    "ExecuteTime": {
     "end_time": "2023-08-31T02:07:51.812862900Z",
     "start_time": "2023-08-31T02:02:34.864484100Z"
    }
   }
  },
  {
   "cell_type": "code",
   "execution_count": 18,
   "outputs": [
    {
     "name": "stderr",
     "output_type": "stream",
     "text": [
      "INFO flwr 2023-08-31 03:07:51,826 | app.py:145 | Starting Flower simulation, config: ServerConfig(num_rounds=60, round_timeout=None)\n"
     ]
    },
    {
     "name": "stdout",
     "output_type": "stream",
     "text": [
      "<class 'torch.Tensor'>\n",
      "<class 'torch.Tensor'>\n",
      "Fold 1:\n",
      "Client 0 trainset shape torch.Size([4200, 22])\n",
      "Client 1 trainset shape torch.Size([105, 22])\n",
      "Client 2 trainset shape torch.Size([168, 22])\n",
      "Client 3 trainset shape torch.Size([88, 22])\n",
      "Client 4 trainset shape torch.Size([88, 22])\n",
      "Client 5 trainset shape torch.Size([70, 22])\n",
      "Client 6 trainset shape torch.Size([104, 22])\n",
      "Client 7 trainset shape torch.Size([84, 22])\n",
      "Client 8 trainset shape torch.Size([84, 22])\n",
      "Client 9 trainset shape torch.Size([78, 22])\n",
      "FL started training on cpu\n",
      "Number of available GPUs: 0\n"
     ]
    },
    {
     "name": "stderr",
     "output_type": "stream",
     "text": [
      "2023-08-31 03:08:02,109\tINFO worker.py:1627 -- Started a local Ray instance. View the dashboard at \u001B[1m\u001B[32m127.0.0.1:8267 \u001B[39m\u001B[22m\n",
      "INFO flwr 2023-08-31 03:08:10,396 | app.py:179 | Flower VCE: Ray initialized with resources: {'node:127.0.0.1': 1.0, 'object_store_memory': 739758489.0, 'memory': 1479516980.0, 'GPU': 1.0, 'CPU': 8.0}\n",
      "INFO flwr 2023-08-31 03:08:10,399 | server.py:89 | Initializing global parameters\n",
      "INFO flwr 2023-08-31 03:08:10,400 | server.py:276 | Requesting initial parameters from one random client\n",
      "INFO flwr 2023-08-31 03:08:14,757 | server.py:280 | Received initial parameters from one random client\n",
      "INFO flwr 2023-08-31 03:08:14,758 | server.py:91 | Evaluating initial parameters\n",
      "INFO flwr 2023-08-31 03:08:14,759 | server.py:104 | FL starting\n",
      "DEBUG flwr 2023-08-31 03:08:14,760 | server.py:222 | fit_round 1: strategy sampled 5 clients (out of 10)\n",
      "DEBUG flwr 2023-08-31 03:08:22,050 | server.py:236 | fit_round 1 received 5 results and 0 failures\n",
      "WARNING flwr 2023-08-31 03:08:22,078 | fedavg.py:242 | No fit_metrics_aggregation_fn provided\n",
      "DEBUG flwr 2023-08-31 03:08:22,094 | server.py:173 | evaluate_round 1: strategy sampled 5 clients (out of 10)\n",
      "DEBUG flwr 2023-08-31 03:08:22,232 | server.py:187 | evaluate_round 1 received 5 results and 0 failures\n",
      "DEBUG flwr 2023-08-31 03:08:22,234 | server.py:222 | fit_round 2: strategy sampled 5 clients (out of 10)\n"
     ]
    },
    {
     "name": "stdout",
     "output_type": "stream",
     "text": [
      "agrregate_fit results list length is  5\n",
      "Saving round 1 aggregated_parameters...\n",
      "agrregate_evaluate results list length is  5\n",
      "server round is  1\n",
      "loss is  10.277264325323475\n"
     ]
    },
    {
     "name": "stderr",
     "output_type": "stream",
     "text": [
      "DEBUG flwr 2023-08-31 03:08:22,953 | server.py:236 | fit_round 2 received 5 results and 0 failures\n",
      "DEBUG flwr 2023-08-31 03:08:23,011 | server.py:173 | evaluate_round 2: strategy sampled 5 clients (out of 10)\n",
      "DEBUG flwr 2023-08-31 03:08:23,131 | server.py:187 | evaluate_round 2 received 5 results and 0 failures\n"
     ]
    },
    {
     "name": "stdout",
     "output_type": "stream",
     "text": [
      "agrregate_fit results list length is  5\n",
      "Saving round 2 aggregated_parameters...\n"
     ]
    },
    {
     "name": "stderr",
     "output_type": "stream",
     "text": [
      "DEBUG flwr 2023-08-31 03:08:23,134 | server.py:222 | fit_round 3: strategy sampled 5 clients (out of 10)\n"
     ]
    },
    {
     "name": "stdout",
     "output_type": "stream",
     "text": [
      "agrregate_evaluate results list length is  5\n",
      "server round is  2\n",
      "loss is  9.042513863216266\n"
     ]
    },
    {
     "name": "stderr",
     "output_type": "stream",
     "text": [
      "DEBUG flwr 2023-08-31 03:08:33,999 | server.py:236 | fit_round 3 received 5 results and 0 failures\n",
      "DEBUG flwr 2023-08-31 03:08:34,036 | server.py:173 | evaluate_round 3: strategy sampled 5 clients (out of 10)\n",
      "DEBUG flwr 2023-08-31 03:08:34,125 | server.py:187 | evaluate_round 3 received 5 results and 0 failures\n",
      "DEBUG flwr 2023-08-31 03:08:34,126 | server.py:222 | fit_round 4: strategy sampled 5 clients (out of 10)\n"
     ]
    },
    {
     "name": "stdout",
     "output_type": "stream",
     "text": [
      "agrregate_fit results list length is  5\n",
      "Saving round 3 aggregated_parameters...\n",
      "agrregate_evaluate results list length is  5\n",
      "server round is  3\n",
      "loss is  2.9630314232902033\n"
     ]
    },
    {
     "name": "stderr",
     "output_type": "stream",
     "text": [
      "DEBUG flwr 2023-08-31 03:08:34,547 | server.py:236 | fit_round 4 received 5 results and 0 failures\n",
      "DEBUG flwr 2023-08-31 03:08:34,602 | server.py:173 | evaluate_round 4: strategy sampled 5 clients (out of 10)\n",
      "DEBUG flwr 2023-08-31 03:08:34,708 | server.py:187 | evaluate_round 4 received 5 results and 0 failures\n",
      "DEBUG flwr 2023-08-31 03:08:34,709 | server.py:222 | fit_round 5: strategy sampled 5 clients (out of 10)\n"
     ]
    },
    {
     "name": "stdout",
     "output_type": "stream",
     "text": [
      "agrregate_fit results list length is  5\n",
      "Saving round 4 aggregated_parameters...\n",
      "agrregate_evaluate results list length is  5\n",
      "server round is  4\n",
      "loss is  2.589648798521257\n"
     ]
    },
    {
     "name": "stderr",
     "output_type": "stream",
     "text": [
      "DEBUG flwr 2023-08-31 03:08:45,882 | server.py:236 | fit_round 5 received 5 results and 0 failures\n",
      "DEBUG flwr 2023-08-31 03:08:45,914 | server.py:173 | evaluate_round 5: strategy sampled 5 clients (out of 10)\n",
      "DEBUG flwr 2023-08-31 03:08:46,011 | server.py:187 | evaluate_round 5 received 5 results and 0 failures\n",
      "DEBUG flwr 2023-08-31 03:08:46,013 | server.py:222 | fit_round 6: strategy sampled 5 clients (out of 10)\n"
     ]
    },
    {
     "name": "stdout",
     "output_type": "stream",
     "text": [
      "agrregate_fit results list length is  5\n",
      "Saving round 5 aggregated_parameters...\n",
      "agrregate_evaluate results list length is  5\n",
      "server round is  5\n",
      "loss is  2.290203327171904\n"
     ]
    },
    {
     "name": "stderr",
     "output_type": "stream",
     "text": [
      "DEBUG flwr 2023-08-31 03:08:56,251 | server.py:236 | fit_round 6 received 5 results and 0 failures\n",
      "DEBUG flwr 2023-08-31 03:08:56,286 | server.py:173 | evaluate_round 6: strategy sampled 5 clients (out of 10)\n"
     ]
    },
    {
     "name": "stdout",
     "output_type": "stream",
     "text": [
      "agrregate_fit results list length is  5\n",
      "Saving round 6 aggregated_parameters...\n"
     ]
    },
    {
     "name": "stderr",
     "output_type": "stream",
     "text": [
      "DEBUG flwr 2023-08-31 03:08:56,657 | server.py:187 | evaluate_round 6 received 5 results and 0 failures\n",
      "DEBUG flwr 2023-08-31 03:08:56,659 | server.py:222 | fit_round 7: strategy sampled 5 clients (out of 10)\n"
     ]
    },
    {
     "name": "stdout",
     "output_type": "stream",
     "text": [
      "agrregate_evaluate results list length is  5\n",
      "server round is  6\n",
      "loss is  3.0258780036968576\n"
     ]
    },
    {
     "name": "stderr",
     "output_type": "stream",
     "text": [
      "DEBUG flwr 2023-08-31 03:08:57,122 | server.py:236 | fit_round 7 received 5 results and 0 failures\n",
      "DEBUG flwr 2023-08-31 03:08:57,165 | server.py:173 | evaluate_round 7: strategy sampled 5 clients (out of 10)\n",
      "DEBUG flwr 2023-08-31 03:08:57,249 | server.py:187 | evaluate_round 7 received 5 results and 0 failures\n",
      "DEBUG flwr 2023-08-31 03:08:57,250 | server.py:222 | fit_round 8: strategy sampled 5 clients (out of 10)\n"
     ]
    },
    {
     "name": "stdout",
     "output_type": "stream",
     "text": [
      "agrregate_fit results list length is  5\n",
      "Saving round 7 aggregated_parameters...\n",
      "agrregate_evaluate results list length is  5\n",
      "server round is  7\n",
      "loss is  2.2809611829944547\n"
     ]
    },
    {
     "name": "stderr",
     "output_type": "stream",
     "text": [
      "DEBUG flwr 2023-08-31 03:08:57,801 | server.py:236 | fit_round 8 received 5 results and 0 failures\n",
      "DEBUG flwr 2023-08-31 03:08:57,847 | server.py:173 | evaluate_round 8: strategy sampled 5 clients (out of 10)\n",
      "DEBUG flwr 2023-08-31 03:08:57,953 | server.py:187 | evaluate_round 8 received 5 results and 0 failures\n",
      "DEBUG flwr 2023-08-31 03:08:57,954 | server.py:222 | fit_round 9: strategy sampled 5 clients (out of 10)\n"
     ]
    },
    {
     "name": "stdout",
     "output_type": "stream",
     "text": [
      "agrregate_fit results list length is  5\n",
      "Saving round 8 aggregated_parameters...\n",
      "agrregate_evaluate results list length is  5\n",
      "server round is  8\n",
      "loss is  2.288354898336414\n"
     ]
    },
    {
     "name": "stderr",
     "output_type": "stream",
     "text": [
      "DEBUG flwr 2023-08-31 03:08:58,635 | server.py:236 | fit_round 9 received 5 results and 0 failures\n",
      "DEBUG flwr 2023-08-31 03:08:58,683 | server.py:173 | evaluate_round 9: strategy sampled 5 clients (out of 10)\n",
      "DEBUG flwr 2023-08-31 03:08:58,839 | server.py:187 | evaluate_round 9 received 5 results and 0 failures\n",
      "DEBUG flwr 2023-08-31 03:08:58,842 | server.py:222 | fit_round 10: strategy sampled 5 clients (out of 10)\n"
     ]
    },
    {
     "name": "stdout",
     "output_type": "stream",
     "text": [
      "agrregate_fit results list length is  5\n",
      "Saving round 9 aggregated_parameters...\n",
      "agrregate_evaluate results list length is  5\n",
      "server round is  9\n",
      "loss is  2.1589648798521255\n"
     ]
    },
    {
     "name": "stderr",
     "output_type": "stream",
     "text": [
      "DEBUG flwr 2023-08-31 03:09:09,265 | server.py:236 | fit_round 10 received 5 results and 0 failures\n",
      "DEBUG flwr 2023-08-31 03:09:09,301 | server.py:173 | evaluate_round 10: strategy sampled 5 clients (out of 10)\n",
      "DEBUG flwr 2023-08-31 03:09:09,384 | server.py:187 | evaluate_round 10 received 5 results and 0 failures\n",
      "DEBUG flwr 2023-08-31 03:09:09,385 | server.py:222 | fit_round 11: strategy sampled 5 clients (out of 10)\n"
     ]
    },
    {
     "name": "stdout",
     "output_type": "stream",
     "text": [
      "agrregate_fit results list length is  5\n",
      "Saving round 10 aggregated_parameters...\n",
      "agrregate_evaluate results list length is  5\n",
      "server round is  10\n",
      "loss is  3.10536044362292\n"
     ]
    },
    {
     "name": "stderr",
     "output_type": "stream",
     "text": [
      "DEBUG flwr 2023-08-31 03:09:09,829 | server.py:236 | fit_round 11 received 5 results and 0 failures\n",
      "DEBUG flwr 2023-08-31 03:09:09,866 | server.py:173 | evaluate_round 11: strategy sampled 5 clients (out of 10)\n",
      "DEBUG flwr 2023-08-31 03:09:09,959 | server.py:187 | evaluate_round 11 received 5 results and 0 failures\n",
      "DEBUG flwr 2023-08-31 03:09:09,961 | server.py:222 | fit_round 12: strategy sampled 5 clients (out of 10)\n"
     ]
    },
    {
     "name": "stdout",
     "output_type": "stream",
     "text": [
      "agrregate_fit results list length is  5\n",
      "Saving round 11 aggregated_parameters...\n",
      "agrregate_evaluate results list length is  5\n",
      "server round is  11\n",
      "loss is  2.1829944547134934\n"
     ]
    },
    {
     "name": "stderr",
     "output_type": "stream",
     "text": [
      "DEBUG flwr 2023-08-31 03:09:21,182 | server.py:236 | fit_round 12 received 5 results and 0 failures\n",
      "DEBUG flwr 2023-08-31 03:09:21,214 | server.py:173 | evaluate_round 12: strategy sampled 5 clients (out of 10)\n",
      "DEBUG flwr 2023-08-31 03:09:21,313 | server.py:187 | evaluate_round 12 received 5 results and 0 failures\n",
      "DEBUG flwr 2023-08-31 03:09:21,314 | server.py:222 | fit_round 13: strategy sampled 5 clients (out of 10)\n"
     ]
    },
    {
     "name": "stdout",
     "output_type": "stream",
     "text": [
      "agrregate_fit results list length is  5\n",
      "Saving round 12 aggregated_parameters...\n",
      "agrregate_evaluate results list length is  5\n",
      "server round is  12\n",
      "loss is  2.3512014787430684\n"
     ]
    },
    {
     "name": "stderr",
     "output_type": "stream",
     "text": [
      "DEBUG flwr 2023-08-31 03:09:21,774 | server.py:236 | fit_round 13 received 5 results and 0 failures\n",
      "DEBUG flwr 2023-08-31 03:09:21,817 | server.py:173 | evaluate_round 13: strategy sampled 5 clients (out of 10)\n",
      "DEBUG flwr 2023-08-31 03:09:21,906 | server.py:187 | evaluate_round 13 received 5 results and 0 failures\n",
      "DEBUG flwr 2023-08-31 03:09:21,908 | server.py:222 | fit_round 14: strategy sampled 5 clients (out of 10)\n"
     ]
    },
    {
     "name": "stdout",
     "output_type": "stream",
     "text": [
      "agrregate_fit results list length is  5\n",
      "Saving round 13 aggregated_parameters...\n",
      "agrregate_evaluate results list length is  5\n",
      "server round is  13\n",
      "loss is  2.077634011090573\n"
     ]
    },
    {
     "name": "stderr",
     "output_type": "stream",
     "text": [
      "DEBUG flwr 2023-08-31 03:09:32,492 | server.py:236 | fit_round 14 received 5 results and 0 failures\n",
      "DEBUG flwr 2023-08-31 03:09:32,536 | server.py:173 | evaluate_round 14: strategy sampled 5 clients (out of 10)\n",
      "DEBUG flwr 2023-08-31 03:09:32,624 | server.py:187 | evaluate_round 14 received 5 results and 0 failures\n",
      "DEBUG flwr 2023-08-31 03:09:32,625 | server.py:222 | fit_round 15: strategy sampled 5 clients (out of 10)\n"
     ]
    },
    {
     "name": "stdout",
     "output_type": "stream",
     "text": [
      "agrregate_fit results list length is  5\n",
      "Saving round 14 aggregated_parameters...\n",
      "agrregate_evaluate results list length is  5\n",
      "server round is  14\n",
      "loss is  2.5083179297597042\n"
     ]
    },
    {
     "name": "stderr",
     "output_type": "stream",
     "text": [
      "DEBUG flwr 2023-08-31 03:09:43,153 | server.py:236 | fit_round 15 received 5 results and 0 failures\n",
      "DEBUG flwr 2023-08-31 03:09:43,193 | server.py:173 | evaluate_round 15: strategy sampled 5 clients (out of 10)\n",
      "DEBUG flwr 2023-08-31 03:09:43,322 | server.py:187 | evaluate_round 15 received 5 results and 0 failures\n",
      "DEBUG flwr 2023-08-31 03:09:43,324 | server.py:222 | fit_round 16: strategy sampled 5 clients (out of 10)\n"
     ]
    },
    {
     "name": "stdout",
     "output_type": "stream",
     "text": [
      "agrregate_fit results list length is  5\n",
      "Saving round 15 aggregated_parameters...\n",
      "agrregate_evaluate results list length is  5\n",
      "server round is  15\n",
      "loss is  2.358595194085028\n"
     ]
    },
    {
     "name": "stderr",
     "output_type": "stream",
     "text": [
      "DEBUG flwr 2023-08-31 03:09:43,985 | server.py:236 | fit_round 16 received 5 results and 0 failures\n",
      "DEBUG flwr 2023-08-31 03:09:44,036 | server.py:173 | evaluate_round 16: strategy sampled 5 clients (out of 10)\n",
      "DEBUG flwr 2023-08-31 03:09:44,162 | server.py:187 | evaluate_round 16 received 5 results and 0 failures\n"
     ]
    },
    {
     "name": "stdout",
     "output_type": "stream",
     "text": [
      "agrregate_fit results list length is  5\n",
      "Saving round 16 aggregated_parameters...\n"
     ]
    },
    {
     "name": "stderr",
     "output_type": "stream",
     "text": [
      "DEBUG flwr 2023-08-31 03:09:44,164 | server.py:222 | fit_round 17: strategy sampled 5 clients (out of 10)\n"
     ]
    },
    {
     "name": "stdout",
     "output_type": "stream",
     "text": [
      "agrregate_evaluate results list length is  5\n",
      "server round is  16\n",
      "loss is  2.0499075785582255\n"
     ]
    },
    {
     "name": "stderr",
     "output_type": "stream",
     "text": [
      "DEBUG flwr 2023-08-31 03:09:55,230 | server.py:236 | fit_round 17 received 5 results and 0 failures\n",
      "DEBUG flwr 2023-08-31 03:09:55,268 | server.py:173 | evaluate_round 17: strategy sampled 5 clients (out of 10)\n",
      "DEBUG flwr 2023-08-31 03:09:55,364 | server.py:187 | evaluate_round 17 received 5 results and 0 failures\n",
      "DEBUG flwr 2023-08-31 03:09:55,365 | server.py:222 | fit_round 18: strategy sampled 5 clients (out of 10)\n"
     ]
    },
    {
     "name": "stdout",
     "output_type": "stream",
     "text": [
      "agrregate_fit results list length is  5\n",
      "Saving round 17 aggregated_parameters...\n",
      "agrregate_evaluate results list length is  5\n",
      "server round is  17\n",
      "loss is  2.7523105360443623\n"
     ]
    },
    {
     "name": "stderr",
     "output_type": "stream",
     "text": [
      "DEBUG flwr 2023-08-31 03:09:55,997 | server.py:236 | fit_round 18 received 5 results and 0 failures\n",
      "DEBUG flwr 2023-08-31 03:09:56,037 | server.py:173 | evaluate_round 18: strategy sampled 5 clients (out of 10)\n",
      "DEBUG flwr 2023-08-31 03:09:56,139 | server.py:187 | evaluate_round 18 received 5 results and 0 failures\n",
      "DEBUG flwr 2023-08-31 03:09:56,141 | server.py:222 | fit_round 19: strategy sampled 5 clients (out of 10)\n"
     ]
    },
    {
     "name": "stdout",
     "output_type": "stream",
     "text": [
      "agrregate_fit results list length is  5\n",
      "Saving round 18 aggregated_parameters...\n",
      "agrregate_evaluate results list length is  5\n",
      "server round is  18\n",
      "loss is  2.123844731977819\n"
     ]
    },
    {
     "name": "stderr",
     "output_type": "stream",
     "text": [
      "DEBUG flwr 2023-08-31 03:09:56,798 | server.py:236 | fit_round 19 received 5 results and 0 failures\n",
      "DEBUG flwr 2023-08-31 03:09:56,846 | server.py:173 | evaluate_round 19: strategy sampled 5 clients (out of 10)\n",
      "DEBUG flwr 2023-08-31 03:09:56,951 | server.py:187 | evaluate_round 19 received 5 results and 0 failures\n",
      "DEBUG flwr 2023-08-31 03:09:56,953 | server.py:222 | fit_round 20: strategy sampled 5 clients (out of 10)\n"
     ]
    },
    {
     "name": "stdout",
     "output_type": "stream",
     "text": [
      "agrregate_fit results list length is  5\n",
      "Saving round 19 aggregated_parameters...\n",
      "agrregate_evaluate results list length is  5\n",
      "server round is  19\n",
      "loss is  2.142329020332717\n"
     ]
    },
    {
     "name": "stderr",
     "output_type": "stream",
     "text": [
      "DEBUG flwr 2023-08-31 03:09:57,486 | server.py:236 | fit_round 20 received 5 results and 0 failures\n",
      "DEBUG flwr 2023-08-31 03:09:57,529 | server.py:173 | evaluate_round 20: strategy sampled 5 clients (out of 10)\n",
      "DEBUG flwr 2023-08-31 03:09:57,645 | server.py:187 | evaluate_round 20 received 5 results and 0 failures\n",
      "DEBUG flwr 2023-08-31 03:09:57,647 | server.py:222 | fit_round 21: strategy sampled 5 clients (out of 10)\n"
     ]
    },
    {
     "name": "stdout",
     "output_type": "stream",
     "text": [
      "agrregate_fit results list length is  5\n",
      "Saving round 20 aggregated_parameters...\n",
      "agrregate_evaluate results list length is  5\n",
      "server round is  20\n",
      "loss is  2.0979667282809613\n"
     ]
    },
    {
     "name": "stderr",
     "output_type": "stream",
     "text": [
      "DEBUG flwr 2023-08-31 03:09:58,489 | server.py:236 | fit_round 21 received 5 results and 0 failures\n",
      "DEBUG flwr 2023-08-31 03:09:58,545 | server.py:173 | evaluate_round 21: strategy sampled 5 clients (out of 10)\n",
      "DEBUG flwr 2023-08-31 03:09:58,656 | server.py:187 | evaluate_round 21 received 5 results and 0 failures\n",
      "DEBUG flwr 2023-08-31 03:09:58,657 | server.py:222 | fit_round 22: strategy sampled 5 clients (out of 10)\n"
     ]
    },
    {
     "name": "stdout",
     "output_type": "stream",
     "text": [
      "agrregate_fit results list length is  5\n",
      "Saving round 21 aggregated_parameters...\n",
      "agrregate_evaluate results list length is  5\n",
      "server round is  21\n",
      "loss is  2.0591497227356745\n"
     ]
    },
    {
     "name": "stderr",
     "output_type": "stream",
     "text": [
      "DEBUG flwr 2023-08-31 03:09:59,249 | server.py:236 | fit_round 22 received 5 results and 0 failures\n",
      "DEBUG flwr 2023-08-31 03:09:59,296 | server.py:173 | evaluate_round 22: strategy sampled 5 clients (out of 10)\n",
      "DEBUG flwr 2023-08-31 03:09:59,390 | server.py:187 | evaluate_round 22 received 5 results and 0 failures\n",
      "DEBUG flwr 2023-08-31 03:09:59,392 | server.py:222 | fit_round 23: strategy sampled 5 clients (out of 10)\n"
     ]
    },
    {
     "name": "stdout",
     "output_type": "stream",
     "text": [
      "agrregate_fit results list length is  5\n",
      "Saving round 22 aggregated_parameters...\n",
      "agrregate_evaluate results list length is  5\n",
      "server round is  22\n",
      "loss is  2.0609981515711646\n"
     ]
    },
    {
     "name": "stderr",
     "output_type": "stream",
     "text": [
      "DEBUG flwr 2023-08-31 03:10:00,080 | server.py:236 | fit_round 23 received 5 results and 0 failures\n",
      "DEBUG flwr 2023-08-31 03:10:00,125 | server.py:173 | evaluate_round 23: strategy sampled 5 clients (out of 10)\n",
      "DEBUG flwr 2023-08-31 03:10:00,229 | server.py:187 | evaluate_round 23 received 5 results and 0 failures\n",
      "DEBUG flwr 2023-08-31 03:10:00,232 | server.py:222 | fit_round 24: strategy sampled 5 clients (out of 10)\n"
     ]
    },
    {
     "name": "stdout",
     "output_type": "stream",
     "text": [
      "agrregate_fit results list length is  5\n",
      "Saving round 23 aggregated_parameters...\n",
      "agrregate_evaluate results list length is  5\n",
      "server round is  23\n",
      "loss is  2.101663585951941\n"
     ]
    },
    {
     "name": "stderr",
     "output_type": "stream",
     "text": [
      "DEBUG flwr 2023-08-31 03:10:10,666 | server.py:236 | fit_round 24 received 5 results and 0 failures\n",
      "DEBUG flwr 2023-08-31 03:10:10,699 | server.py:173 | evaluate_round 24: strategy sampled 5 clients (out of 10)\n",
      "DEBUG flwr 2023-08-31 03:10:10,794 | server.py:187 | evaluate_round 24 received 5 results and 0 failures\n",
      "DEBUG flwr 2023-08-31 03:10:10,796 | server.py:222 | fit_round 25: strategy sampled 5 clients (out of 10)\n"
     ]
    },
    {
     "name": "stdout",
     "output_type": "stream",
     "text": [
      "agrregate_fit results list length is  5\n",
      "Saving round 24 aggregated_parameters...\n",
      "agrregate_evaluate results list length is  5\n",
      "server round is  24\n",
      "loss is  2.5841035120147873\n"
     ]
    },
    {
     "name": "stderr",
     "output_type": "stream",
     "text": [
      "DEBUG flwr 2023-08-31 03:10:21,783 | server.py:236 | fit_round 25 received 5 results and 0 failures\n",
      "DEBUG flwr 2023-08-31 03:10:21,816 | server.py:173 | evaluate_round 25: strategy sampled 5 clients (out of 10)\n"
     ]
    },
    {
     "name": "stdout",
     "output_type": "stream",
     "text": [
      "agrregate_fit results list length is  5\n",
      "Saving round 25 aggregated_parameters...\n"
     ]
    },
    {
     "name": "stderr",
     "output_type": "stream",
     "text": [
      "DEBUG flwr 2023-08-31 03:10:21,994 | server.py:187 | evaluate_round 25 received 5 results and 0 failures\n",
      "DEBUG flwr 2023-08-31 03:10:21,995 | server.py:222 | fit_round 26: strategy sampled 5 clients (out of 10)\n"
     ]
    },
    {
     "name": "stdout",
     "output_type": "stream",
     "text": [
      "agrregate_evaluate results list length is  5\n",
      "server round is  25\n",
      "loss is  2.3364140480591495\n"
     ]
    },
    {
     "name": "stderr",
     "output_type": "stream",
     "text": [
      "DEBUG flwr 2023-08-31 03:10:32,398 | server.py:236 | fit_round 26 received 5 results and 0 failures\n",
      "DEBUG flwr 2023-08-31 03:10:32,436 | server.py:173 | evaluate_round 26: strategy sampled 5 clients (out of 10)\n",
      "DEBUG flwr 2023-08-31 03:10:32,516 | server.py:187 | evaluate_round 26 received 5 results and 0 failures\n",
      "DEBUG flwr 2023-08-31 03:10:32,518 | server.py:222 | fit_round 27: strategy sampled 5 clients (out of 10)\n"
     ]
    },
    {
     "name": "stdout",
     "output_type": "stream",
     "text": [
      "agrregate_fit results list length is  5\n",
      "Saving round 26 aggregated_parameters...\n",
      "agrregate_evaluate results list length is  5\n",
      "server round is  26\n",
      "loss is  2.1940850277264325\n"
     ]
    },
    {
     "name": "stderr",
     "output_type": "stream",
     "text": [
      "DEBUG flwr 2023-08-31 03:10:33,136 | server.py:236 | fit_round 27 received 5 results and 0 failures\n",
      "DEBUG flwr 2023-08-31 03:10:33,190 | server.py:173 | evaluate_round 27: strategy sampled 5 clients (out of 10)\n",
      "DEBUG flwr 2023-08-31 03:10:33,282 | server.py:187 | evaluate_round 27 received 5 results and 0 failures\n",
      "DEBUG flwr 2023-08-31 03:10:33,284 | server.py:222 | fit_round 28: strategy sampled 5 clients (out of 10)\n"
     ]
    },
    {
     "name": "stdout",
     "output_type": "stream",
     "text": [
      "agrregate_fit results list length is  5\n",
      "Saving round 27 aggregated_parameters...\n",
      "agrregate_evaluate results list length is  5\n",
      "server round is  27\n",
      "loss is  1.9371534195933457\n"
     ]
    },
    {
     "name": "stderr",
     "output_type": "stream",
     "text": [
      "DEBUG flwr 2023-08-31 03:10:33,952 | server.py:236 | fit_round 28 received 5 results and 0 failures\n",
      "DEBUG flwr 2023-08-31 03:10:33,998 | server.py:173 | evaluate_round 28: strategy sampled 5 clients (out of 10)\n",
      "DEBUG flwr 2023-08-31 03:10:34,114 | server.py:187 | evaluate_round 28 received 5 results and 0 failures\n",
      "DEBUG flwr 2023-08-31 03:10:34,116 | server.py:222 | fit_round 29: strategy sampled 5 clients (out of 10)\n"
     ]
    },
    {
     "name": "stdout",
     "output_type": "stream",
     "text": [
      "agrregate_fit results list length is  5\n",
      "Saving round 28 aggregated_parameters...\n",
      "agrregate_evaluate results list length is  5\n",
      "server round is  28\n",
      "loss is  2.024029574861368\n"
     ]
    },
    {
     "name": "stderr",
     "output_type": "stream",
     "text": [
      "DEBUG flwr 2023-08-31 03:10:44,714 | server.py:236 | fit_round 29 received 5 results and 0 failures\n",
      "DEBUG flwr 2023-08-31 03:10:44,744 | server.py:173 | evaluate_round 29: strategy sampled 5 clients (out of 10)\n",
      "DEBUG flwr 2023-08-31 03:10:44,833 | server.py:187 | evaluate_round 29 received 5 results and 0 failures\n",
      "DEBUG flwr 2023-08-31 03:10:44,834 | server.py:222 | fit_round 30: strategy sampled 5 clients (out of 10)\n"
     ]
    },
    {
     "name": "stdout",
     "output_type": "stream",
     "text": [
      "agrregate_fit results list length is  5\n",
      "Saving round 29 aggregated_parameters...\n",
      "agrregate_evaluate results list length is  5\n",
      "server round is  29\n",
      "loss is  2.310536044362292\n"
     ]
    },
    {
     "name": "stderr",
     "output_type": "stream",
     "text": [
      "DEBUG flwr 2023-08-31 03:10:55,789 | server.py:236 | fit_round 30 received 5 results and 0 failures\n",
      "DEBUG flwr 2023-08-31 03:10:55,826 | server.py:173 | evaluate_round 30: strategy sampled 5 clients (out of 10)\n",
      "DEBUG flwr 2023-08-31 03:10:55,964 | server.py:187 | evaluate_round 30 received 5 results and 0 failures\n",
      "DEBUG flwr 2023-08-31 03:10:55,966 | server.py:222 | fit_round 31: strategy sampled 5 clients (out of 10)\n"
     ]
    },
    {
     "name": "stdout",
     "output_type": "stream",
     "text": [
      "agrregate_fit results list length is  5\n",
      "Saving round 30 aggregated_parameters...\n",
      "agrregate_evaluate results list length is  5\n",
      "server round is  30\n",
      "loss is  3.1922365988909434\n"
     ]
    },
    {
     "name": "stderr",
     "output_type": "stream",
     "text": [
      "DEBUG flwr 2023-08-31 03:11:06,614 | server.py:236 | fit_round 31 received 5 results and 0 failures\n",
      "DEBUG flwr 2023-08-31 03:11:06,652 | server.py:173 | evaluate_round 31: strategy sampled 5 clients (out of 10)\n",
      "DEBUG flwr 2023-08-31 03:11:06,801 | server.py:187 | evaluate_round 31 received 5 results and 0 failures\n"
     ]
    },
    {
     "name": "stdout",
     "output_type": "stream",
     "text": [
      "agrregate_fit results list length is  5\n",
      "Saving round 31 aggregated_parameters...\n"
     ]
    },
    {
     "name": "stderr",
     "output_type": "stream",
     "text": [
      "DEBUG flwr 2023-08-31 03:11:06,803 | server.py:222 | fit_round 32: strategy sampled 5 clients (out of 10)\n"
     ]
    },
    {
     "name": "stdout",
     "output_type": "stream",
     "text": [
      "agrregate_evaluate results list length is  5\n",
      "server round is  31\n",
      "loss is  2.033271719038817\n"
     ]
    },
    {
     "name": "stderr",
     "output_type": "stream",
     "text": [
      "DEBUG flwr 2023-08-31 03:11:17,631 | server.py:236 | fit_round 32 received 5 results and 0 failures\n",
      "DEBUG flwr 2023-08-31 03:11:17,678 | server.py:173 | evaluate_round 32: strategy sampled 5 clients (out of 10)\n",
      "DEBUG flwr 2023-08-31 03:11:17,802 | server.py:187 | evaluate_round 32 received 5 results and 0 failures\n",
      "DEBUG flwr 2023-08-31 03:11:17,805 | server.py:222 | fit_round 33: strategy sampled 5 clients (out of 10)\n"
     ]
    },
    {
     "name": "stdout",
     "output_type": "stream",
     "text": [
      "agrregate_fit results list length is  5\n",
      "Saving round 32 aggregated_parameters...\n",
      "agrregate_evaluate results list length is  5\n",
      "server round is  32\n",
      "loss is  2.175600739371534\n"
     ]
    },
    {
     "name": "stderr",
     "output_type": "stream",
     "text": [
      "DEBUG flwr 2023-08-31 03:11:28,435 | server.py:236 | fit_round 33 received 5 results and 0 failures\n",
      "DEBUG flwr 2023-08-31 03:11:28,467 | server.py:173 | evaluate_round 33: strategy sampled 5 clients (out of 10)\n",
      "DEBUG flwr 2023-08-31 03:11:28,553 | server.py:187 | evaluate_round 33 received 5 results and 0 failures\n",
      "DEBUG flwr 2023-08-31 03:11:28,555 | server.py:222 | fit_round 34: strategy sampled 5 clients (out of 10)\n"
     ]
    },
    {
     "name": "stdout",
     "output_type": "stream",
     "text": [
      "agrregate_fit results list length is  5\n",
      "Saving round 33 aggregated_parameters...\n",
      "agrregate_evaluate results list length is  5\n",
      "server round is  33\n",
      "loss is  1.9833641404805915\n"
     ]
    },
    {
     "name": "stderr",
     "output_type": "stream",
     "text": [
      "DEBUG flwr 2023-08-31 03:11:39,068 | server.py:236 | fit_round 34 received 5 results and 0 failures\n",
      "DEBUG flwr 2023-08-31 03:11:39,107 | server.py:173 | evaluate_round 34: strategy sampled 5 clients (out of 10)\n",
      "DEBUG flwr 2023-08-31 03:11:39,200 | server.py:187 | evaluate_round 34 received 5 results and 0 failures\n",
      "DEBUG flwr 2023-08-31 03:11:39,201 | server.py:222 | fit_round 35: strategy sampled 5 clients (out of 10)\n"
     ]
    },
    {
     "name": "stdout",
     "output_type": "stream",
     "text": [
      "agrregate_fit results list length is  5\n",
      "Saving round 34 aggregated_parameters...\n",
      "agrregate_evaluate results list length is  5\n",
      "server round is  34\n",
      "loss is  2.1035120147874307\n"
     ]
    },
    {
     "name": "stderr",
     "output_type": "stream",
     "text": [
      "DEBUG flwr 2023-08-31 03:11:39,762 | server.py:236 | fit_round 35 received 5 results and 0 failures\n",
      "DEBUG flwr 2023-08-31 03:11:39,807 | server.py:173 | evaluate_round 35: strategy sampled 5 clients (out of 10)\n",
      "DEBUG flwr 2023-08-31 03:11:39,898 | server.py:187 | evaluate_round 35 received 5 results and 0 failures\n",
      "DEBUG flwr 2023-08-31 03:11:39,900 | server.py:222 | fit_round 36: strategy sampled 5 clients (out of 10)\n"
     ]
    },
    {
     "name": "stdout",
     "output_type": "stream",
     "text": [
      "agrregate_fit results list length is  5\n",
      "Saving round 35 aggregated_parameters...\n",
      "agrregate_evaluate results list length is  5\n",
      "server round is  35\n",
      "loss is  1.8964879852125693\n"
     ]
    },
    {
     "name": "stderr",
     "output_type": "stream",
     "text": [
      "DEBUG flwr 2023-08-31 03:11:50,887 | server.py:236 | fit_round 36 received 5 results and 0 failures\n",
      "DEBUG flwr 2023-08-31 03:11:50,920 | server.py:173 | evaluate_round 36: strategy sampled 5 clients (out of 10)\n",
      "DEBUG flwr 2023-08-31 03:11:51,013 | server.py:187 | evaluate_round 36 received 5 results and 0 failures\n",
      "DEBUG flwr 2023-08-31 03:11:51,015 | server.py:222 | fit_round 37: strategy sampled 5 clients (out of 10)\n"
     ]
    },
    {
     "name": "stdout",
     "output_type": "stream",
     "text": [
      "agrregate_fit results list length is  5\n",
      "Saving round 36 aggregated_parameters...\n",
      "agrregate_evaluate results list length is  5\n",
      "server round is  36\n",
      "loss is  2.1497227356746764\n"
     ]
    },
    {
     "name": "stderr",
     "output_type": "stream",
     "text": [
      "DEBUG flwr 2023-08-31 03:12:01,149 | server.py:236 | fit_round 37 received 5 results and 0 failures\n",
      "DEBUG flwr 2023-08-31 03:12:01,181 | server.py:173 | evaluate_round 37: strategy sampled 5 clients (out of 10)\n",
      "DEBUG flwr 2023-08-31 03:12:01,263 | server.py:187 | evaluate_round 37 received 5 results and 0 failures\n",
      "DEBUG flwr 2023-08-31 03:12:01,265 | server.py:222 | fit_round 38: strategy sampled 5 clients (out of 10)\n"
     ]
    },
    {
     "name": "stdout",
     "output_type": "stream",
     "text": [
      "agrregate_fit results list length is  5\n",
      "Saving round 37 aggregated_parameters...\n",
      "agrregate_evaluate results list length is  5\n",
      "server round is  37\n",
      "loss is  2.301293900184843\n"
     ]
    },
    {
     "name": "stderr",
     "output_type": "stream",
     "text": [
      "DEBUG flwr 2023-08-31 03:12:11,738 | server.py:236 | fit_round 38 received 5 results and 0 failures\n",
      "DEBUG flwr 2023-08-31 03:12:11,772 | server.py:173 | evaluate_round 38: strategy sampled 5 clients (out of 10)\n",
      "DEBUG flwr 2023-08-31 03:12:11,862 | server.py:187 | evaluate_round 38 received 5 results and 0 failures\n",
      "DEBUG flwr 2023-08-31 03:12:11,863 | server.py:222 | fit_round 39: strategy sampled 5 clients (out of 10)\n"
     ]
    },
    {
     "name": "stdout",
     "output_type": "stream",
     "text": [
      "agrregate_fit results list length is  5\n",
      "Saving round 38 aggregated_parameters...\n",
      "agrregate_evaluate results list length is  5\n",
      "server round is  38\n",
      "loss is  2.090573012939002\n"
     ]
    },
    {
     "name": "stderr",
     "output_type": "stream",
     "text": [
      "DEBUG flwr 2023-08-31 03:12:22,980 | server.py:236 | fit_round 39 received 5 results and 0 failures\n",
      "DEBUG flwr 2023-08-31 03:12:23,024 | server.py:173 | evaluate_round 39: strategy sampled 5 clients (out of 10)\n",
      "DEBUG flwr 2023-08-31 03:12:23,134 | server.py:187 | evaluate_round 39 received 5 results and 0 failures\n",
      "DEBUG flwr 2023-08-31 03:12:23,136 | server.py:222 | fit_round 40: strategy sampled 5 clients (out of 10)\n"
     ]
    },
    {
     "name": "stdout",
     "output_type": "stream",
     "text": [
      "agrregate_fit results list length is  5\n",
      "Saving round 39 aggregated_parameters...\n",
      "agrregate_evaluate results list length is  5\n",
      "server round is  39\n",
      "loss is  2.134935304990758\n"
     ]
    },
    {
     "name": "stderr",
     "output_type": "stream",
     "text": [
      "DEBUG flwr 2023-08-31 03:12:33,403 | server.py:236 | fit_round 40 received 5 results and 0 failures\n",
      "DEBUG flwr 2023-08-31 03:12:33,440 | server.py:173 | evaluate_round 40: strategy sampled 5 clients (out of 10)\n",
      "DEBUG flwr 2023-08-31 03:12:33,521 | server.py:187 | evaluate_round 40 received 5 results and 0 failures\n",
      "DEBUG flwr 2023-08-31 03:12:33,522 | server.py:222 | fit_round 41: strategy sampled 5 clients (out of 10)\n"
     ]
    },
    {
     "name": "stdout",
     "output_type": "stream",
     "text": [
      "agrregate_fit results list length is  5\n",
      "Saving round 40 aggregated_parameters...\n",
      "agrregate_evaluate results list length is  5\n",
      "server round is  40\n",
      "loss is  2.11460258780037\n"
     ]
    },
    {
     "name": "stderr",
     "output_type": "stream",
     "text": [
      "DEBUG flwr 2023-08-31 03:12:34,105 | server.py:236 | fit_round 41 received 5 results and 0 failures\n",
      "DEBUG flwr 2023-08-31 03:12:34,155 | server.py:173 | evaluate_round 41: strategy sampled 5 clients (out of 10)\n",
      "DEBUG flwr 2023-08-31 03:12:34,246 | server.py:187 | evaluate_round 41 received 5 results and 0 failures\n",
      "DEBUG flwr 2023-08-31 03:12:34,248 | server.py:222 | fit_round 42: strategy sampled 5 clients (out of 10)\n"
     ]
    },
    {
     "name": "stdout",
     "output_type": "stream",
     "text": [
      "agrregate_fit results list length is  5\n",
      "Saving round 41 aggregated_parameters...\n",
      "agrregate_evaluate results list length is  5\n",
      "server round is  41\n",
      "loss is  1.9482439926062847\n"
     ]
    },
    {
     "name": "stderr",
     "output_type": "stream",
     "text": [
      "DEBUG flwr 2023-08-31 03:12:35,116 | server.py:236 | fit_round 42 received 5 results and 0 failures\n",
      "DEBUG flwr 2023-08-31 03:12:35,155 | server.py:173 | evaluate_round 42: strategy sampled 5 clients (out of 10)\n",
      "DEBUG flwr 2023-08-31 03:12:35,257 | server.py:187 | evaluate_round 42 received 5 results and 0 failures\n",
      "DEBUG flwr 2023-08-31 03:12:35,258 | server.py:222 | fit_round 43: strategy sampled 5 clients (out of 10)\n"
     ]
    },
    {
     "name": "stdout",
     "output_type": "stream",
     "text": [
      "agrregate_fit results list length is  5\n",
      "Saving round 42 aggregated_parameters...\n",
      "agrregate_evaluate results list length is  5\n",
      "server round is  42\n",
      "loss is  2.0314232902033273\n"
     ]
    },
    {
     "name": "stderr",
     "output_type": "stream",
     "text": [
      "DEBUG flwr 2023-08-31 03:12:35,745 | server.py:236 | fit_round 43 received 5 results and 0 failures\n",
      "DEBUG flwr 2023-08-31 03:12:35,798 | server.py:173 | evaluate_round 43: strategy sampled 5 clients (out of 10)\n",
      "DEBUG flwr 2023-08-31 03:12:35,905 | server.py:187 | evaluate_round 43 received 5 results and 0 failures\n",
      "DEBUG flwr 2023-08-31 03:12:35,908 | server.py:222 | fit_round 44: strategy sampled 5 clients (out of 10)\n"
     ]
    },
    {
     "name": "stdout",
     "output_type": "stream",
     "text": [
      "agrregate_fit results list length is  5\n",
      "Saving round 43 aggregated_parameters...\n",
      "agrregate_evaluate results list length is  5\n",
      "server round is  43\n",
      "loss is  2.0924214417744915\n"
     ]
    },
    {
     "name": "stderr",
     "output_type": "stream",
     "text": [
      "DEBUG flwr 2023-08-31 03:12:47,378 | server.py:236 | fit_round 44 received 5 results and 0 failures\n",
      "DEBUG flwr 2023-08-31 03:12:47,417 | server.py:173 | evaluate_round 44: strategy sampled 5 clients (out of 10)\n",
      "DEBUG flwr 2023-08-31 03:12:47,513 | server.py:187 | evaluate_round 44 received 5 results and 0 failures\n",
      "DEBUG flwr 2023-08-31 03:12:47,515 | server.py:222 | fit_round 45: strategy sampled 5 clients (out of 10)\n"
     ]
    },
    {
     "name": "stdout",
     "output_type": "stream",
     "text": [
      "agrregate_fit results list length is  5\n",
      "Saving round 44 aggregated_parameters...\n",
      "agrregate_evaluate results list length is  5\n",
      "server round is  44\n",
      "loss is  2.0499075785582255\n"
     ]
    },
    {
     "name": "stderr",
     "output_type": "stream",
     "text": [
      "DEBUG flwr 2023-08-31 03:12:48,178 | server.py:236 | fit_round 45 received 5 results and 0 failures\n",
      "DEBUG flwr 2023-08-31 03:12:48,216 | server.py:173 | evaluate_round 45: strategy sampled 5 clients (out of 10)\n",
      "DEBUG flwr 2023-08-31 03:12:48,305 | server.py:187 | evaluate_round 45 received 5 results and 0 failures\n",
      "DEBUG flwr 2023-08-31 03:12:48,308 | server.py:222 | fit_round 46: strategy sampled 5 clients (out of 10)\n"
     ]
    },
    {
     "name": "stdout",
     "output_type": "stream",
     "text": [
      "agrregate_fit results list length is  5\n",
      "Saving round 45 aggregated_parameters...\n",
      "agrregate_evaluate results list length is  5\n",
      "server round is  45\n",
      "loss is  1.966728280961183\n"
     ]
    },
    {
     "name": "stderr",
     "output_type": "stream",
     "text": [
      "DEBUG flwr 2023-08-31 03:12:48,951 | server.py:236 | fit_round 46 received 5 results and 0 failures\n",
      "DEBUG flwr 2023-08-31 03:12:48,993 | server.py:173 | evaluate_round 46: strategy sampled 5 clients (out of 10)\n",
      "DEBUG flwr 2023-08-31 03:12:49,123 | server.py:187 | evaluate_round 46 received 5 results and 0 failures\n",
      "DEBUG flwr 2023-08-31 03:12:49,126 | server.py:222 | fit_round 47: strategy sampled 5 clients (out of 10)\n"
     ]
    },
    {
     "name": "stdout",
     "output_type": "stream",
     "text": [
      "agrregate_fit results list length is  5\n",
      "Saving round 46 aggregated_parameters...\n",
      "agrregate_evaluate results list length is  5\n",
      "server round is  46\n",
      "loss is  2.0406654343807764\n"
     ]
    },
    {
     "name": "stderr",
     "output_type": "stream",
     "text": [
      "DEBUG flwr 2023-08-31 03:12:49,896 | server.py:236 | fit_round 47 received 5 results and 0 failures\n",
      "DEBUG flwr 2023-08-31 03:12:49,943 | server.py:173 | evaluate_round 47: strategy sampled 5 clients (out of 10)\n",
      "DEBUG flwr 2023-08-31 03:12:50,043 | server.py:187 | evaluate_round 47 received 5 results and 0 failures\n",
      "DEBUG flwr 2023-08-31 03:12:50,044 | server.py:222 | fit_round 48: strategy sampled 5 clients (out of 10)\n"
     ]
    },
    {
     "name": "stdout",
     "output_type": "stream",
     "text": [
      "agrregate_fit results list length is  5\n",
      "Saving round 47 aggregated_parameters...\n",
      "agrregate_evaluate results list length is  5\n",
      "server round is  47\n",
      "loss is  2.099815157116451\n"
     ]
    },
    {
     "name": "stderr",
     "output_type": "stream",
     "text": [
      "DEBUG flwr 2023-08-31 03:13:00,526 | server.py:236 | fit_round 48 received 5 results and 0 failures\n",
      "DEBUG flwr 2023-08-31 03:13:00,558 | server.py:173 | evaluate_round 48: strategy sampled 5 clients (out of 10)\n",
      "DEBUG flwr 2023-08-31 03:13:00,652 | server.py:187 | evaluate_round 48 received 5 results and 0 failures\n",
      "DEBUG flwr 2023-08-31 03:13:00,654 | server.py:222 | fit_round 49: strategy sampled 5 clients (out of 10)\n"
     ]
    },
    {
     "name": "stdout",
     "output_type": "stream",
     "text": [
      "agrregate_fit results list length is  5\n",
      "Saving round 48 aggregated_parameters...\n",
      "agrregate_evaluate results list length is  5\n",
      "server round is  48\n",
      "loss is  2.4195933456561924\n"
     ]
    },
    {
     "name": "stderr",
     "output_type": "stream",
     "text": [
      "DEBUG flwr 2023-08-31 03:13:11,032 | server.py:236 | fit_round 49 received 5 results and 0 failures\n",
      "DEBUG flwr 2023-08-31 03:13:11,065 | server.py:173 | evaluate_round 49: strategy sampled 5 clients (out of 10)\n",
      "DEBUG flwr 2023-08-31 03:13:11,153 | server.py:187 | evaluate_round 49 received 5 results and 0 failures\n",
      "DEBUG flwr 2023-08-31 03:13:11,154 | server.py:222 | fit_round 50: strategy sampled 5 clients (out of 10)\n"
     ]
    },
    {
     "name": "stdout",
     "output_type": "stream",
     "text": [
      "agrregate_fit results list length is  5\n",
      "Saving round 49 aggregated_parameters...\n",
      "agrregate_evaluate results list length is  5\n",
      "server round is  49\n",
      "loss is  2.2458410351201477\n"
     ]
    },
    {
     "name": "stderr",
     "output_type": "stream",
     "text": [
      "DEBUG flwr 2023-08-31 03:13:22,328 | server.py:236 | fit_round 50 received 5 results and 0 failures\n",
      "DEBUG flwr 2023-08-31 03:13:22,369 | server.py:173 | evaluate_round 50: strategy sampled 5 clients (out of 10)\n",
      "DEBUG flwr 2023-08-31 03:13:22,470 | server.py:187 | evaluate_round 50 received 5 results and 0 failures\n",
      "DEBUG flwr 2023-08-31 03:13:22,472 | server.py:222 | fit_round 51: strategy sampled 5 clients (out of 10)\n"
     ]
    },
    {
     "name": "stdout",
     "output_type": "stream",
     "text": [
      "agrregate_fit results list length is  5\n",
      "Saving round 50 aggregated_parameters...\n",
      "agrregate_evaluate results list length is  5\n",
      "server round is  50\n",
      "loss is  1.9186691312384474\n"
     ]
    },
    {
     "name": "stderr",
     "output_type": "stream",
     "text": [
      "DEBUG flwr 2023-08-31 03:13:32,863 | server.py:236 | fit_round 51 received 5 results and 0 failures\n",
      "DEBUG flwr 2023-08-31 03:13:32,898 | server.py:173 | evaluate_round 51: strategy sampled 5 clients (out of 10)\n",
      "DEBUG flwr 2023-08-31 03:13:32,992 | server.py:187 | evaluate_round 51 received 5 results and 0 failures\n",
      "DEBUG flwr 2023-08-31 03:13:32,994 | server.py:222 | fit_round 52: strategy sampled 5 clients (out of 10)\n"
     ]
    },
    {
     "name": "stdout",
     "output_type": "stream",
     "text": [
      "agrregate_fit results list length is  5\n",
      "Saving round 51 aggregated_parameters...\n",
      "agrregate_evaluate results list length is  5\n",
      "server round is  51\n",
      "loss is  1.878003696857671\n"
     ]
    },
    {
     "name": "stderr",
     "output_type": "stream",
     "text": [
      "DEBUG flwr 2023-08-31 03:13:43,390 | server.py:236 | fit_round 52 received 5 results and 0 failures\n",
      "DEBUG flwr 2023-08-31 03:13:43,429 | server.py:173 | evaluate_round 52: strategy sampled 5 clients (out of 10)\n",
      "DEBUG flwr 2023-08-31 03:13:43,509 | server.py:187 | evaluate_round 52 received 5 results and 0 failures\n",
      "DEBUG flwr 2023-08-31 03:13:43,510 | server.py:222 | fit_round 53: strategy sampled 5 clients (out of 10)\n"
     ]
    },
    {
     "name": "stdout",
     "output_type": "stream",
     "text": [
      "agrregate_fit results list length is  5\n",
      "Saving round 52 aggregated_parameters...\n",
      "agrregate_evaluate results list length is  5\n",
      "server round is  52\n",
      "loss is  2.0628465804066543\n"
     ]
    },
    {
     "name": "stderr",
     "output_type": "stream",
     "text": [
      "DEBUG flwr 2023-08-31 03:13:44,104 | server.py:236 | fit_round 53 received 5 results and 0 failures\n",
      "DEBUG flwr 2023-08-31 03:13:44,139 | server.py:173 | evaluate_round 53: strategy sampled 5 clients (out of 10)\n",
      "DEBUG flwr 2023-08-31 03:13:44,233 | server.py:187 | evaluate_round 53 received 5 results and 0 failures\n",
      "DEBUG flwr 2023-08-31 03:13:44,234 | server.py:222 | fit_round 54: strategy sampled 5 clients (out of 10)\n"
     ]
    },
    {
     "name": "stdout",
     "output_type": "stream",
     "text": [
      "agrregate_fit results list length is  5\n",
      "Saving round 53 aggregated_parameters...\n",
      "agrregate_evaluate results list length is  5\n",
      "server round is  53\n",
      "loss is  1.7855822550831792\n"
     ]
    },
    {
     "name": "stderr",
     "output_type": "stream",
     "text": [
      "DEBUG flwr 2023-08-31 03:13:44,710 | server.py:236 | fit_round 54 received 5 results and 0 failures\n",
      "DEBUG flwr 2023-08-31 03:13:44,765 | server.py:173 | evaluate_round 54: strategy sampled 5 clients (out of 10)\n",
      "DEBUG flwr 2023-08-31 03:13:44,885 | server.py:187 | evaluate_round 54 received 5 results and 0 failures\n",
      "DEBUG flwr 2023-08-31 03:13:44,887 | server.py:222 | fit_round 55: strategy sampled 5 clients (out of 10)\n"
     ]
    },
    {
     "name": "stdout",
     "output_type": "stream",
     "text": [
      "agrregate_fit results list length is  5\n",
      "Saving round 54 aggregated_parameters...\n",
      "agrregate_evaluate results list length is  5\n",
      "server round is  54\n",
      "loss is  1.733826247689464\n"
     ]
    },
    {
     "name": "stderr",
     "output_type": "stream",
     "text": [
      "DEBUG flwr 2023-08-31 03:13:45,941 | server.py:236 | fit_round 55 received 5 results and 0 failures\n",
      "DEBUG flwr 2023-08-31 03:13:46,009 | server.py:173 | evaluate_round 55: strategy sampled 5 clients (out of 10)\n"
     ]
    },
    {
     "name": "stdout",
     "output_type": "stream",
     "text": [
      "agrregate_fit results list length is  5\n",
      "Saving round 55 aggregated_parameters...\n"
     ]
    },
    {
     "name": "stderr",
     "output_type": "stream",
     "text": [
      "DEBUG flwr 2023-08-31 03:13:46,171 | server.py:187 | evaluate_round 55 received 5 results and 0 failures\n",
      "DEBUG flwr 2023-08-31 03:13:46,174 | server.py:222 | fit_round 56: strategy sampled 5 clients (out of 10)\n"
     ]
    },
    {
     "name": "stdout",
     "output_type": "stream",
     "text": [
      "agrregate_evaluate results list length is  5\n",
      "server round is  55\n",
      "loss is  1.9722735674676526\n"
     ]
    },
    {
     "name": "stderr",
     "output_type": "stream",
     "text": [
      "DEBUG flwr 2023-08-31 03:13:47,152 | server.py:236 | fit_round 56 received 5 results and 0 failures\n",
      "DEBUG flwr 2023-08-31 03:13:47,217 | server.py:173 | evaluate_round 56: strategy sampled 5 clients (out of 10)\n",
      "DEBUG flwr 2023-08-31 03:13:47,353 | server.py:187 | evaluate_round 56 received 5 results and 0 failures\n"
     ]
    },
    {
     "name": "stdout",
     "output_type": "stream",
     "text": [
      "agrregate_fit results list length is  5\n",
      "Saving round 56 aggregated_parameters...\n"
     ]
    },
    {
     "name": "stderr",
     "output_type": "stream",
     "text": [
      "DEBUG flwr 2023-08-31 03:13:47,355 | server.py:222 | fit_round 57: strategy sampled 5 clients (out of 10)\n"
     ]
    },
    {
     "name": "stdout",
     "output_type": "stream",
     "text": [
      "agrregate_evaluate results list length is  5\n",
      "server round is  56\n",
      "loss is  2.2144177449168208\n"
     ]
    },
    {
     "name": "stderr",
     "output_type": "stream",
     "text": [
      "DEBUG flwr 2023-08-31 03:13:47,872 | server.py:236 | fit_round 57 received 5 results and 0 failures\n",
      "DEBUG flwr 2023-08-31 03:13:47,921 | server.py:173 | evaluate_round 57: strategy sampled 5 clients (out of 10)\n",
      "DEBUG flwr 2023-08-31 03:13:48,026 | server.py:187 | evaluate_round 57 received 5 results and 0 failures\n",
      "DEBUG flwr 2023-08-31 03:13:48,028 | server.py:222 | fit_round 58: strategy sampled 5 clients (out of 10)\n"
     ]
    },
    {
     "name": "stdout",
     "output_type": "stream",
     "text": [
      "agrregate_fit results list length is  5\n",
      "Saving round 57 aggregated_parameters...\n",
      "agrregate_evaluate results list length is  5\n",
      "server round is  57\n",
      "loss is  2.3622920517560075\n"
     ]
    },
    {
     "name": "stderr",
     "output_type": "stream",
     "text": [
      "DEBUG flwr 2023-08-31 03:13:58,403 | server.py:236 | fit_round 58 received 5 results and 0 failures\n",
      "DEBUG flwr 2023-08-31 03:13:58,442 | server.py:173 | evaluate_round 58: strategy sampled 5 clients (out of 10)\n",
      "DEBUG flwr 2023-08-31 03:13:58,521 | server.py:187 | evaluate_round 58 received 5 results and 0 failures\n",
      "DEBUG flwr 2023-08-31 03:13:58,523 | server.py:222 | fit_round 59: strategy sampled 5 clients (out of 10)\n"
     ]
    },
    {
     "name": "stdout",
     "output_type": "stream",
     "text": [
      "agrregate_fit results list length is  5\n",
      "Saving round 58 aggregated_parameters...\n",
      "agrregate_evaluate results list length is  5\n",
      "server round is  58\n",
      "loss is  1.9722735674676526\n"
     ]
    },
    {
     "name": "stderr",
     "output_type": "stream",
     "text": [
      "DEBUG flwr 2023-08-31 03:13:59,093 | server.py:236 | fit_round 59 received 5 results and 0 failures\n",
      "DEBUG flwr 2023-08-31 03:13:59,135 | server.py:173 | evaluate_round 59: strategy sampled 5 clients (out of 10)\n",
      "DEBUG flwr 2023-08-31 03:13:59,222 | server.py:187 | evaluate_round 59 received 5 results and 0 failures\n",
      "DEBUG flwr 2023-08-31 03:13:59,224 | server.py:222 | fit_round 60: strategy sampled 5 clients (out of 10)\n"
     ]
    },
    {
     "name": "stdout",
     "output_type": "stream",
     "text": [
      "agrregate_fit results list length is  5\n",
      "Saving round 59 aggregated_parameters...\n",
      "agrregate_evaluate results list length is  5\n",
      "server round is  59\n",
      "loss is  1.9242144177449167\n"
     ]
    },
    {
     "name": "stderr",
     "output_type": "stream",
     "text": [
      "DEBUG flwr 2023-08-31 03:14:09,442 | server.py:236 | fit_round 60 received 5 results and 0 failures\n",
      "DEBUG flwr 2023-08-31 03:14:09,503 | server.py:173 | evaluate_round 60: strategy sampled 5 clients (out of 10)\n",
      "DEBUG flwr 2023-08-31 03:14:09,592 | server.py:187 | evaluate_round 60 received 5 results and 0 failures\n",
      "INFO flwr 2023-08-31 03:14:09,593 | server.py:153 | FL finished in 354.83305129999644\n",
      "INFO flwr 2023-08-31 03:14:09,594 | app.py:225 | app_fit: losses_distributed [(1, 10.277264325323475), (2, 9.042513863216266), (3, 2.9630314232902033), (4, 2.589648798521257), (5, 2.290203327171904), (6, 3.0258780036968576), (7, 2.2809611829944547), (8, 2.288354898336414), (9, 2.1589648798521255), (10, 3.10536044362292), (11, 2.1829944547134934), (12, 2.3512014787430684), (13, 2.077634011090573), (14, 2.5083179297597042), (15, 2.358595194085028), (16, 2.0499075785582255), (17, 2.7523105360443623), (18, 2.123844731977819), (19, 2.142329020332717), (20, 2.0979667282809613), (21, 2.0591497227356745), (22, 2.0609981515711646), (23, 2.101663585951941), (24, 2.5841035120147873), (25, 2.3364140480591495), (26, 2.1940850277264325), (27, 1.9371534195933457), (28, 2.024029574861368), (29, 2.310536044362292), (30, 3.1922365988909434), (31, 2.033271719038817), (32, 2.175600739371534), (33, 1.9833641404805915), (34, 2.1035120147874307), (35, 1.8964879852125693), (36, 2.1497227356746764), (37, 2.301293900184843), (38, 2.090573012939002), (39, 2.134935304990758), (40, 2.11460258780037), (41, 1.9482439926062847), (42, 2.0314232902033273), (43, 2.0924214417744915), (44, 2.0499075785582255), (45, 1.966728280961183), (46, 2.0406654343807764), (47, 2.099815157116451), (48, 2.4195933456561924), (49, 2.2458410351201477), (50, 1.9186691312384474), (51, 1.878003696857671), (52, 2.0628465804066543), (53, 1.7855822550831792), (54, 1.733826247689464), (55, 1.9722735674676526), (56, 2.2144177449168208), (57, 2.3622920517560075), (58, 1.9722735674676526), (59, 1.9242144177449167), (60, 1.88909426987061)]\n",
      "INFO flwr 2023-08-31 03:14:09,595 | app.py:226 | app_fit: metrics_distributed_fit {}\n",
      "INFO flwr 2023-08-31 03:14:09,596 | app.py:227 | app_fit: metrics_distributed {'mse': [(1, 51.386321626617374), (2, 45.21256931608133), (3, 14.815157116451017), (4, 12.948243992606285), (5, 11.451016635859519), (6, 15.129390018484287), (7, 11.404805914972274), (8, 11.441774491682072), (9, 10.794824399260627), (10, 15.526802218114602), (11, 10.914972273567468), (12, 11.756007393715342), (13, 10.388170055452866), (14, 12.54158964879852), (15, 11.79297597042514), (16, 10.249537892791128), (17, 13.761552680221811), (18, 10.619223659889094), (19, 10.711645101663585), (20, 10.489833641404807), (21, 10.295748613678374), (22, 10.304990757855823), (23, 10.508317929759706), (24, 12.920517560073936), (25, 11.682070240295747), (26, 10.970425138632162), (27, 9.685767097966728), (28, 10.12014787430684), (29, 11.55268022181146), (30, 15.961182994454715), (31, 10.166358595194085), (32, 10.87800369685767), (33, 9.916820702402958), (34, 10.517560073937153), (35, 9.482439926062847), (36, 10.748613678373381), (37, 11.506469500924215), (38, 10.45286506469501), (39, 10.67467652495379), (40, 10.573012939001849), (41, 9.741219963031423), (42, 10.157116451016638), (43, 10.462107208872457), (44, 10.249537892791128), (45, 9.833641404805915), (46, 10.203327171903883), (47, 10.499075785582255), (48, 12.097966728280962), (49, 11.229205175600738), (50, 9.593345656192238), (51, 9.390018484288355), (52, 10.314232902033272), (53, 8.927911275415896), (54, 8.669131238447319), (55, 9.861367837338262), (56, 11.072088724584104), (57, 11.811460258780038), (58, 9.861367837338262), (59, 9.621072088724583), (60, 9.445471349353049)]}\n",
      "INFO flwr 2023-08-31 03:14:09,597 | app.py:228 | app_fit: losses_centralized []\n",
      "INFO flwr 2023-08-31 03:14:09,598 | app.py:229 | app_fit: metrics_centralized {}\n"
     ]
    },
    {
     "name": "stdout",
     "output_type": "stream",
     "text": [
      "agrregate_fit results list length is  5\n",
      "Saving round 60 aggregated_parameters...\n",
      "agrregate_evaluate results list length is  5\n",
      "server round is  60\n",
      "loss is  1.88909426987061\n",
      "History (loss, distributed):\n",
      "\tround 1: 10.277264325323475\n",
      "\tround 2: 9.042513863216266\n",
      "\tround 3: 2.9630314232902033\n",
      "\tround 4: 2.589648798521257\n",
      "\tround 5: 2.290203327171904\n",
      "\tround 6: 3.0258780036968576\n",
      "\tround 7: 2.2809611829944547\n",
      "\tround 8: 2.288354898336414\n",
      "\tround 9: 2.1589648798521255\n",
      "\tround 10: 3.10536044362292\n",
      "\tround 11: 2.1829944547134934\n",
      "\tround 12: 2.3512014787430684\n",
      "\tround 13: 2.077634011090573\n",
      "\tround 14: 2.5083179297597042\n",
      "\tround 15: 2.358595194085028\n",
      "\tround 16: 2.0499075785582255\n",
      "\tround 17: 2.7523105360443623\n",
      "\tround 18: 2.123844731977819\n",
      "\tround 19: 2.142329020332717\n",
      "\tround 20: 2.0979667282809613\n",
      "\tround 21: 2.0591497227356745\n",
      "\tround 22: 2.0609981515711646\n",
      "\tround 23: 2.101663585951941\n",
      "\tround 24: 2.5841035120147873\n",
      "\tround 25: 2.3364140480591495\n",
      "\tround 26: 2.1940850277264325\n",
      "\tround 27: 1.9371534195933457\n",
      "\tround 28: 2.024029574861368\n",
      "\tround 29: 2.310536044362292\n",
      "\tround 30: 3.1922365988909434\n",
      "\tround 31: 2.033271719038817\n",
      "\tround 32: 2.175600739371534\n",
      "\tround 33: 1.9833641404805915\n",
      "\tround 34: 2.1035120147874307\n",
      "\tround 35: 1.8964879852125693\n",
      "\tround 36: 2.1497227356746764\n",
      "\tround 37: 2.301293900184843\n",
      "\tround 38: 2.090573012939002\n",
      "\tround 39: 2.134935304990758\n",
      "\tround 40: 2.11460258780037\n",
      "\tround 41: 1.9482439926062847\n",
      "\tround 42: 2.0314232902033273\n",
      "\tround 43: 2.0924214417744915\n",
      "\tround 44: 2.0499075785582255\n",
      "\tround 45: 1.966728280961183\n",
      "\tround 46: 2.0406654343807764\n",
      "\tround 47: 2.099815157116451\n",
      "\tround 48: 2.4195933456561924\n",
      "\tround 49: 2.2458410351201477\n",
      "\tround 50: 1.9186691312384474\n",
      "\tround 51: 1.878003696857671\n",
      "\tround 52: 2.0628465804066543\n",
      "\tround 53: 1.7855822550831792\n",
      "\tround 54: 1.733826247689464\n",
      "\tround 55: 1.9722735674676526\n",
      "\tround 56: 2.2144177449168208\n",
      "\tround 57: 2.3622920517560075\n",
      "\tround 58: 1.9722735674676526\n",
      "\tround 59: 1.9242144177449167\n",
      "\tround 60: 1.88909426987061\n",
      "History (metrics, distributed, evaluate):\n",
      "{'mse': [(1, 51.386321626617374), (2, 45.21256931608133), (3, 14.815157116451017), (4, 12.948243992606285), (5, 11.451016635859519), (6, 15.129390018484287), (7, 11.404805914972274), (8, 11.441774491682072), (9, 10.794824399260627), (10, 15.526802218114602), (11, 10.914972273567468), (12, 11.756007393715342), (13, 10.388170055452866), (14, 12.54158964879852), (15, 11.79297597042514), (16, 10.249537892791128), (17, 13.761552680221811), (18, 10.619223659889094), (19, 10.711645101663585), (20, 10.489833641404807), (21, 10.295748613678374), (22, 10.304990757855823), (23, 10.508317929759706), (24, 12.920517560073936), (25, 11.682070240295747), (26, 10.970425138632162), (27, 9.685767097966728), (28, 10.12014787430684), (29, 11.55268022181146), (30, 15.961182994454715), (31, 10.166358595194085), (32, 10.87800369685767), (33, 9.916820702402958), (34, 10.517560073937153), (35, 9.482439926062847), (36, 10.748613678373381), (37, 11.506469500924215), (38, 10.45286506469501), (39, 10.67467652495379), (40, 10.573012939001849), (41, 9.741219963031423), (42, 10.157116451016638), (43, 10.462107208872457), (44, 10.249537892791128), (45, 9.833641404805915), (46, 10.203327171903883), (47, 10.499075785582255), (48, 12.097966728280962), (49, 11.229205175600738), (50, 9.593345656192238), (51, 9.390018484288355), (52, 10.314232902033272), (53, 8.927911275415896), (54, 8.669131238447319), (55, 9.861367837338262), (56, 11.072088724584104), (57, 11.811460258780038), (58, 9.861367837338262), (59, 9.621072088724583), (60, 9.445471349353049)]}\n",
      "[(1, 10.277264325323475), (2, 9.042513863216266), (3, 2.9630314232902033), (4, 2.589648798521257), (5, 2.290203327171904), (6, 3.0258780036968576), (7, 2.2809611829944547), (8, 2.288354898336414), (9, 2.1589648798521255), (10, 3.10536044362292), (11, 2.1829944547134934), (12, 2.3512014787430684), (13, 2.077634011090573), (14, 2.5083179297597042), (15, 2.358595194085028), (16, 2.0499075785582255), (17, 2.7523105360443623), (18, 2.123844731977819), (19, 2.142329020332717), (20, 2.0979667282809613), (21, 2.0591497227356745), (22, 2.0609981515711646), (23, 2.101663585951941), (24, 2.5841035120147873), (25, 2.3364140480591495), (26, 2.1940850277264325), (27, 1.9371534195933457), (28, 2.024029574861368), (29, 2.310536044362292), (30, 3.1922365988909434), (31, 2.033271719038817), (32, 2.175600739371534), (33, 1.9833641404805915), (34, 2.1035120147874307), (35, 1.8964879852125693), (36, 2.1497227356746764), (37, 2.301293900184843), (38, 2.090573012939002), (39, 2.134935304990758), (40, 2.11460258780037), (41, 1.9482439926062847), (42, 2.0314232902033273), (43, 2.0924214417744915), (44, 2.0499075785582255), (45, 1.966728280961183), (46, 2.0406654343807764), (47, 2.099815157116451), (48, 2.4195933456561924), (49, 2.2458410351201477), (50, 1.9186691312384474), (51, 1.878003696857671), (52, 2.0628465804066543), (53, 1.7855822550831792), (54, 1.733826247689464), (55, 1.9722735674676526), (56, 2.2144177449168208), (57, 2.3622920517560075), (58, 1.9722735674676526), (59, 1.9242144177449167), (60, 1.88909426987061)]\n",
      "Fold 2:\n",
      "split [0.8, 0.03, 0.03, 0.02, 0.02, 0.02, 0.02, 0.02, 0.02, 0.02]\n",
      "time 0:06:17.896818\n",
      "mse [1.88909426987061]\n",
      "auc [0.8923308270676691]\n"
     ]
    }
   ],
   "source": [
    "split = [0.8, 0.03, 0.03, 0.02, 0.02, 0.02, 0.02, 0.02, 0.02, 0.02]\n",
    "do_fl(split)"
   ],
   "metadata": {
    "collapsed": false,
    "ExecuteTime": {
     "end_time": "2023-08-31T02:14:09.967903300Z",
     "start_time": "2023-08-31T02:07:51.764959900Z"
    }
   }
  },
  {
   "cell_type": "code",
   "execution_count": 19,
   "outputs": [
    {
     "name": "stdout",
     "output_type": "stream",
     "text": [
      "<class 'torch.Tensor'>\n",
      "<class 'torch.Tensor'>\n",
      "Fold 1:\n",
      "Client 0 trainset shape torch.Size([208, 22])\n",
      "Client 1 trainset shape torch.Size([208, 22])\n",
      "Client 2 trainset shape torch.Size([143, 22])\n",
      "Client 3 trainset shape torch.Size([240, 22])\n",
      "Client 4 trainset shape torch.Size([180, 22])\n",
      "Client 5 trainset shape torch.Size([195, 22])\n",
      "Client 6 trainset shape torch.Size([204, 22])\n",
      "Client 7 trainset shape torch.Size([169, 22])\n"
     ]
    },
    {
     "name": "stderr",
     "output_type": "stream",
     "text": [
      "INFO flwr 2023-09-01 01:41:43,500 | app.py:145 | Starting Flower simulation, config: ServerConfig(num_rounds=60, round_timeout=None)\n"
     ]
    },
    {
     "name": "stdout",
     "output_type": "stream",
     "text": [
      "Client 8 trainset shape torch.Size([168, 22])\n",
      "Client 9 trainset shape torch.Size([208, 22])\n",
      "Client 10 trainset shape torch.Size([182, 22])\n",
      "Client 11 trainset shape torch.Size([195, 22])\n",
      "Client 12 trainset shape torch.Size([204, 22])\n",
      "Client 13 trainset shape torch.Size([195, 22])\n",
      "Client 14 trainset shape torch.Size([168, 22])\n",
      "Client 15 trainset shape torch.Size([160, 22])\n",
      "Client 16 trainset shape torch.Size([182, 22])\n",
      "Client 17 trainset shape torch.Size([208, 22])\n",
      "Client 18 trainset shape torch.Size([182, 22])\n",
      "Client 19 trainset shape torch.Size([180, 22])\n",
      "FL started training on cpu\n",
      "Number of available GPUs: 0\n"
     ]
    },
    {
     "name": "stderr",
     "output_type": "stream",
     "text": [
      "2023-09-01 01:41:54,843\tINFO worker.py:1627 -- Started a local Ray instance. View the dashboard at \u001B[1m\u001B[32m127.0.0.1:8267 \u001B[39m\u001B[22m\n",
      "INFO flwr 2023-09-01 01:42:04,338 | app.py:179 | Flower VCE: Ray initialized with resources: {'node:127.0.0.1': 1.0, 'object_store_memory': 709797888.0, 'memory': 1419595776.0, 'GPU': 1.0, 'CPU': 8.0}\n",
      "INFO flwr 2023-09-01 01:42:04,342 | server.py:89 | Initializing global parameters\n",
      "INFO flwr 2023-09-01 01:42:04,345 | server.py:276 | Requesting initial parameters from one random client\n",
      "INFO flwr 2023-09-01 01:42:11,926 | server.py:280 | Received initial parameters from one random client\n",
      "INFO flwr 2023-09-01 01:42:11,926 | server.py:91 | Evaluating initial parameters\n",
      "INFO flwr 2023-09-01 01:42:11,928 | server.py:104 | FL starting\n",
      "DEBUG flwr 2023-09-01 01:42:11,928 | server.py:222 | fit_round 1: strategy sampled 10 clients (out of 20)\n",
      "DEBUG flwr 2023-09-01 01:42:26,525 | server.py:236 | fit_round 1 received 10 results and 0 failures\n"
     ]
    },
    {
     "name": "stdout",
     "output_type": "stream",
     "text": [
      "agrregate_fit results list length is  10\n"
     ]
    },
    {
     "name": "stderr",
     "output_type": "stream",
     "text": [
      "WARNING flwr 2023-09-01 01:42:26,805 | fedavg.py:242 | No fit_metrics_aggregation_fn provided\n",
      "DEBUG flwr 2023-09-01 01:42:26,842 | server.py:173 | evaluate_round 1: strategy sampled 10 clients (out of 20)\n"
     ]
    },
    {
     "name": "stdout",
     "output_type": "stream",
     "text": [
      "Saving round 1 aggregated_parameters...\n"
     ]
    },
    {
     "name": "stderr",
     "output_type": "stream",
     "text": [
      "DEBUG flwr 2023-09-01 01:42:27,170 | server.py:187 | evaluate_round 1 received 10 results and 0 failures\n",
      "DEBUG flwr 2023-09-01 01:42:27,174 | server.py:222 | fit_round 2: strategy sampled 10 clients (out of 20)\n"
     ]
    },
    {
     "name": "stdout",
     "output_type": "stream",
     "text": [
      "agrregate_evaluate results list length is  10\n",
      "server round is  1\n",
      "loss is  8.519408502772643\n"
     ]
    },
    {
     "name": "stderr",
     "output_type": "stream",
     "text": [
      "DEBUG flwr 2023-09-01 01:42:30,266 | server.py:236 | fit_round 2 received 10 results and 0 failures\n",
      "DEBUG flwr 2023-09-01 01:42:30,372 | server.py:173 | evaluate_round 2: strategy sampled 10 clients (out of 20)\n"
     ]
    },
    {
     "name": "stdout",
     "output_type": "stream",
     "text": [
      "agrregate_fit results list length is  10\n",
      "Saving round 2 aggregated_parameters...\n"
     ]
    },
    {
     "name": "stderr",
     "output_type": "stream",
     "text": [
      "DEBUG flwr 2023-09-01 01:42:30,668 | server.py:187 | evaluate_round 2 received 10 results and 0 failures\n",
      "DEBUG flwr 2023-09-01 01:42:30,673 | server.py:222 | fit_round 3: strategy sampled 10 clients (out of 20)\n"
     ]
    },
    {
     "name": "stdout",
     "output_type": "stream",
     "text": [
      "agrregate_evaluate results list length is  10\n",
      "server round is  2\n",
      "loss is  4.43992606284658\n"
     ]
    },
    {
     "name": "stderr",
     "output_type": "stream",
     "text": [
      "DEBUG flwr 2023-09-01 01:42:33,540 | server.py:236 | fit_round 3 received 10 results and 0 failures\n",
      "DEBUG flwr 2023-09-01 01:42:33,646 | server.py:173 | evaluate_round 3: strategy sampled 10 clients (out of 20)\n"
     ]
    },
    {
     "name": "stdout",
     "output_type": "stream",
     "text": [
      "agrregate_fit results list length is  10\n",
      "Saving round 3 aggregated_parameters...\n"
     ]
    },
    {
     "name": "stderr",
     "output_type": "stream",
     "text": [
      "DEBUG flwr 2023-09-01 01:42:33,940 | server.py:187 | evaluate_round 3 received 10 results and 0 failures\n",
      "DEBUG flwr 2023-09-01 01:42:33,944 | server.py:222 | fit_round 4: strategy sampled 10 clients (out of 20)\n"
     ]
    },
    {
     "name": "stdout",
     "output_type": "stream",
     "text": [
      "agrregate_evaluate results list length is  10\n",
      "server round is  3\n",
      "loss is  3.5951940850277264\n"
     ]
    },
    {
     "name": "stderr",
     "output_type": "stream",
     "text": [
      "DEBUG flwr 2023-09-01 01:42:36,375 | server.py:236 | fit_round 4 received 10 results and 0 failures\n",
      "DEBUG flwr 2023-09-01 01:42:36,460 | server.py:173 | evaluate_round 4: strategy sampled 10 clients (out of 20)\n"
     ]
    },
    {
     "name": "stdout",
     "output_type": "stream",
     "text": [
      "agrregate_fit results list length is  10\n",
      "Saving round 4 aggregated_parameters...\n"
     ]
    },
    {
     "name": "stderr",
     "output_type": "stream",
     "text": [
      "DEBUG flwr 2023-09-01 01:42:36,709 | server.py:187 | evaluate_round 4 received 10 results and 0 failures\n",
      "DEBUG flwr 2023-09-01 01:42:36,713 | server.py:222 | fit_round 5: strategy sampled 10 clients (out of 20)\n"
     ]
    },
    {
     "name": "stdout",
     "output_type": "stream",
     "text": [
      "agrregate_evaluate results list length is  10\n",
      "server round is  4\n",
      "loss is  3.343807763401109\n"
     ]
    },
    {
     "name": "stderr",
     "output_type": "stream",
     "text": [
      "DEBUG flwr 2023-09-01 01:42:39,084 | server.py:236 | fit_round 5 received 10 results and 0 failures\n",
      "DEBUG flwr 2023-09-01 01:42:39,166 | server.py:173 | evaluate_round 5: strategy sampled 10 clients (out of 20)\n"
     ]
    },
    {
     "name": "stdout",
     "output_type": "stream",
     "text": [
      "agrregate_fit results list length is  10\n",
      "Saving round 5 aggregated_parameters...\n"
     ]
    },
    {
     "name": "stderr",
     "output_type": "stream",
     "text": [
      "DEBUG flwr 2023-09-01 01:42:39,405 | server.py:187 | evaluate_round 5 received 10 results and 0 failures\n",
      "DEBUG flwr 2023-09-01 01:42:39,407 | server.py:222 | fit_round 6: strategy sampled 10 clients (out of 20)\n"
     ]
    },
    {
     "name": "stdout",
     "output_type": "stream",
     "text": [
      "agrregate_evaluate results list length is  10\n",
      "server round is  5\n",
      "loss is  3.43992606284658\n"
     ]
    },
    {
     "name": "stderr",
     "output_type": "stream",
     "text": [
      "DEBUG flwr 2023-09-01 01:42:41,474 | server.py:236 | fit_round 6 received 10 results and 0 failures\n",
      "DEBUG flwr 2023-09-01 01:42:41,570 | server.py:173 | evaluate_round 6: strategy sampled 10 clients (out of 20)\n"
     ]
    },
    {
     "name": "stdout",
     "output_type": "stream",
     "text": [
      "agrregate_fit results list length is  10\n",
      "Saving round 6 aggregated_parameters...\n"
     ]
    },
    {
     "name": "stderr",
     "output_type": "stream",
     "text": [
      "DEBUG flwr 2023-09-01 01:42:41,841 | server.py:187 | evaluate_round 6 received 10 results and 0 failures\n",
      "DEBUG flwr 2023-09-01 01:42:41,844 | server.py:222 | fit_round 7: strategy sampled 10 clients (out of 20)\n"
     ]
    },
    {
     "name": "stdout",
     "output_type": "stream",
     "text": [
      "agrregate_evaluate results list length is  10\n",
      "server round is  6\n",
      "loss is  3.1386321626617377\n"
     ]
    },
    {
     "name": "stderr",
     "output_type": "stream",
     "text": [
      "DEBUG flwr 2023-09-01 01:42:44,150 | server.py:236 | fit_round 7 received 10 results and 0 failures\n",
      "DEBUG flwr 2023-09-01 01:42:44,219 | server.py:173 | evaluate_round 7: strategy sampled 10 clients (out of 20)\n"
     ]
    },
    {
     "name": "stdout",
     "output_type": "stream",
     "text": [
      "agrregate_fit results list length is  10\n",
      "Saving round 7 aggregated_parameters...\n"
     ]
    },
    {
     "name": "stderr",
     "output_type": "stream",
     "text": [
      "DEBUG flwr 2023-09-01 01:42:44,573 | server.py:187 | evaluate_round 7 received 10 results and 0 failures\n",
      "DEBUG flwr 2023-09-01 01:42:44,576 | server.py:222 | fit_round 8: strategy sampled 10 clients (out of 20)\n"
     ]
    },
    {
     "name": "stdout",
     "output_type": "stream",
     "text": [
      "agrregate_evaluate results list length is  10\n",
      "server round is  7\n",
      "loss is  2.9833641404805915\n"
     ]
    },
    {
     "name": "stderr",
     "output_type": "stream",
     "text": [
      "DEBUG flwr 2023-09-01 01:42:47,546 | server.py:236 | fit_round 8 received 10 results and 0 failures\n"
     ]
    },
    {
     "name": "stdout",
     "output_type": "stream",
     "text": [
      "agrregate_fit results list length is  10\n"
     ]
    },
    {
     "name": "stderr",
     "output_type": "stream",
     "text": [
      "DEBUG flwr 2023-09-01 01:42:47,829 | server.py:173 | evaluate_round 8: strategy sampled 10 clients (out of 20)\n"
     ]
    },
    {
     "name": "stdout",
     "output_type": "stream",
     "text": [
      "Saving round 8 aggregated_parameters...\n"
     ]
    },
    {
     "name": "stderr",
     "output_type": "stream",
     "text": [
      "DEBUG flwr 2023-09-01 01:42:48,459 | server.py:187 | evaluate_round 8 received 10 results and 0 failures\n",
      "DEBUG flwr 2023-09-01 01:42:48,463 | server.py:222 | fit_round 9: strategy sampled 10 clients (out of 20)\n"
     ]
    },
    {
     "name": "stdout",
     "output_type": "stream",
     "text": [
      "agrregate_evaluate results list length is  10\n",
      "server round is  8\n",
      "loss is  2.9038817005545288\n"
     ]
    },
    {
     "name": "stderr",
     "output_type": "stream",
     "text": [
      "DEBUG flwr 2023-09-01 01:42:51,681 | server.py:236 | fit_round 9 received 10 results and 0 failures\n",
      "DEBUG flwr 2023-09-01 01:42:51,772 | server.py:173 | evaluate_round 9: strategy sampled 10 clients (out of 20)\n"
     ]
    },
    {
     "name": "stdout",
     "output_type": "stream",
     "text": [
      "agrregate_fit results list length is  10\n",
      "Saving round 9 aggregated_parameters...\n"
     ]
    },
    {
     "name": "stderr",
     "output_type": "stream",
     "text": [
      "DEBUG flwr 2023-09-01 01:42:52,049 | server.py:187 | evaluate_round 9 received 10 results and 0 failures\n",
      "DEBUG flwr 2023-09-01 01:42:52,052 | server.py:222 | fit_round 10: strategy sampled 10 clients (out of 20)\n"
     ]
    },
    {
     "name": "stdout",
     "output_type": "stream",
     "text": [
      "agrregate_evaluate results list length is  10\n",
      "server round is  9\n",
      "loss is  2.922365988909427\n"
     ]
    },
    {
     "name": "stderr",
     "output_type": "stream",
     "text": [
      "DEBUG flwr 2023-09-01 01:42:54,889 | server.py:236 | fit_round 10 received 10 results and 0 failures\n",
      "DEBUG flwr 2023-09-01 01:42:54,969 | server.py:173 | evaluate_round 10: strategy sampled 10 clients (out of 20)\n"
     ]
    },
    {
     "name": "stdout",
     "output_type": "stream",
     "text": [
      "agrregate_fit results list length is  10\n",
      "Saving round 10 aggregated_parameters...\n"
     ]
    },
    {
     "name": "stderr",
     "output_type": "stream",
     "text": [
      "DEBUG flwr 2023-09-01 01:42:55,257 | server.py:187 | evaluate_round 10 received 10 results and 0 failures\n",
      "DEBUG flwr 2023-09-01 01:42:55,260 | server.py:222 | fit_round 11: strategy sampled 10 clients (out of 20)\n"
     ]
    },
    {
     "name": "stdout",
     "output_type": "stream",
     "text": [
      "agrregate_evaluate results list length is  10\n",
      "server round is  10\n",
      "loss is  2.966728280961183\n"
     ]
    },
    {
     "name": "stderr",
     "output_type": "stream",
     "text": [
      "DEBUG flwr 2023-09-01 01:42:57,687 | server.py:236 | fit_round 11 received 10 results and 0 failures\n",
      "DEBUG flwr 2023-09-01 01:42:57,759 | server.py:173 | evaluate_round 11: strategy sampled 10 clients (out of 20)\n"
     ]
    },
    {
     "name": "stdout",
     "output_type": "stream",
     "text": [
      "agrregate_fit results list length is  10\n",
      "Saving round 11 aggregated_parameters...\n"
     ]
    },
    {
     "name": "stderr",
     "output_type": "stream",
     "text": [
      "DEBUG flwr 2023-09-01 01:42:58,037 | server.py:187 | evaluate_round 11 received 10 results and 0 failures\n",
      "DEBUG flwr 2023-09-01 01:42:58,039 | server.py:222 | fit_round 12: strategy sampled 10 clients (out of 20)\n"
     ]
    },
    {
     "name": "stdout",
     "output_type": "stream",
     "text": [
      "agrregate_evaluate results list length is  10\n",
      "server round is  11\n",
      "loss is  2.7264325323475047\n"
     ]
    },
    {
     "name": "stderr",
     "output_type": "stream",
     "text": [
      "DEBUG flwr 2023-09-01 01:43:00,383 | server.py:236 | fit_round 12 received 10 results and 0 failures\n",
      "DEBUG flwr 2023-09-01 01:43:00,456 | server.py:173 | evaluate_round 12: strategy sampled 10 clients (out of 20)\n"
     ]
    },
    {
     "name": "stdout",
     "output_type": "stream",
     "text": [
      "agrregate_fit results list length is  10\n",
      "Saving round 12 aggregated_parameters...\n"
     ]
    },
    {
     "name": "stderr",
     "output_type": "stream",
     "text": [
      "DEBUG flwr 2023-09-01 01:43:00,792 | server.py:187 | evaluate_round 12 received 10 results and 0 failures\n",
      "DEBUG flwr 2023-09-01 01:43:00,795 | server.py:222 | fit_round 13: strategy sampled 10 clients (out of 20)\n"
     ]
    },
    {
     "name": "stdout",
     "output_type": "stream",
     "text": [
      "agrregate_evaluate results list length is  10\n",
      "server round is  12\n",
      "loss is  2.6580406654343807\n"
     ]
    },
    {
     "name": "stderr",
     "output_type": "stream",
     "text": [
      "DEBUG flwr 2023-09-01 01:43:04,975 | server.py:236 | fit_round 13 received 10 results and 0 failures\n",
      "DEBUG flwr 2023-09-01 01:43:05,111 | server.py:173 | evaluate_round 13: strategy sampled 10 clients (out of 20)\n"
     ]
    },
    {
     "name": "stdout",
     "output_type": "stream",
     "text": [
      "agrregate_fit results list length is  10\n",
      "Saving round 13 aggregated_parameters...\n"
     ]
    },
    {
     "name": "stderr",
     "output_type": "stream",
     "text": [
      "DEBUG flwr 2023-09-01 01:43:05,502 | server.py:187 | evaluate_round 13 received 10 results and 0 failures\n",
      "DEBUG flwr 2023-09-01 01:43:05,505 | server.py:222 | fit_round 14: strategy sampled 10 clients (out of 20)\n"
     ]
    },
    {
     "name": "stdout",
     "output_type": "stream",
     "text": [
      "agrregate_evaluate results list length is  10\n",
      "server round is  13\n",
      "loss is  2.654343807763401\n"
     ]
    },
    {
     "name": "stderr",
     "output_type": "stream",
     "text": [
      "DEBUG flwr 2023-09-01 01:43:09,121 | server.py:236 | fit_round 14 received 10 results and 0 failures\n",
      "DEBUG flwr 2023-09-01 01:43:09,205 | server.py:173 | evaluate_round 14: strategy sampled 10 clients (out of 20)\n"
     ]
    },
    {
     "name": "stdout",
     "output_type": "stream",
     "text": [
      "agrregate_fit results list length is  10\n",
      "Saving round 14 aggregated_parameters...\n"
     ]
    },
    {
     "name": "stderr",
     "output_type": "stream",
     "text": [
      "DEBUG flwr 2023-09-01 01:43:09,464 | server.py:187 | evaluate_round 14 received 10 results and 0 failures\n",
      "DEBUG flwr 2023-09-01 01:43:09,465 | server.py:222 | fit_round 15: strategy sampled 10 clients (out of 20)\n"
     ]
    },
    {
     "name": "stdout",
     "output_type": "stream",
     "text": [
      "agrregate_evaluate results list length is  10\n",
      "server round is  14\n",
      "loss is  2.7615526802218113\n"
     ]
    },
    {
     "name": "stderr",
     "output_type": "stream",
     "text": [
      "DEBUG flwr 2023-09-01 01:43:12,749 | server.py:236 | fit_round 15 received 10 results and 0 failures\n",
      "DEBUG flwr 2023-09-01 01:43:12,850 | server.py:173 | evaluate_round 15: strategy sampled 10 clients (out of 20)\n"
     ]
    },
    {
     "name": "stdout",
     "output_type": "stream",
     "text": [
      "agrregate_fit results list length is  10\n",
      "Saving round 15 aggregated_parameters...\n"
     ]
    },
    {
     "name": "stderr",
     "output_type": "stream",
     "text": [
      "DEBUG flwr 2023-09-01 01:43:13,187 | server.py:187 | evaluate_round 15 received 10 results and 0 failures\n",
      "DEBUG flwr 2023-09-01 01:43:13,191 | server.py:222 | fit_round 16: strategy sampled 10 clients (out of 20)\n"
     ]
    },
    {
     "name": "stdout",
     "output_type": "stream",
     "text": [
      "agrregate_evaluate results list length is  10\n",
      "server round is  15\n",
      "loss is  2.5711645101663585\n"
     ]
    },
    {
     "name": "stderr",
     "output_type": "stream",
     "text": [
      "DEBUG flwr 2023-09-01 01:43:16,491 | server.py:236 | fit_round 16 received 10 results and 0 failures\n",
      "DEBUG flwr 2023-09-01 01:43:16,572 | server.py:173 | evaluate_round 16: strategy sampled 10 clients (out of 20)\n"
     ]
    },
    {
     "name": "stdout",
     "output_type": "stream",
     "text": [
      "agrregate_fit results list length is  10\n",
      "Saving round 16 aggregated_parameters...\n"
     ]
    },
    {
     "name": "stderr",
     "output_type": "stream",
     "text": [
      "DEBUG flwr 2023-09-01 01:43:16,851 | server.py:187 | evaluate_round 16 received 10 results and 0 failures\n",
      "DEBUG flwr 2023-09-01 01:43:16,855 | server.py:222 | fit_round 17: strategy sampled 10 clients (out of 20)\n"
     ]
    },
    {
     "name": "stdout",
     "output_type": "stream",
     "text": [
      "agrregate_evaluate results list length is  10\n",
      "server round is  16\n",
      "loss is  2.5064695009242146\n"
     ]
    },
    {
     "name": "stderr",
     "output_type": "stream",
     "text": [
      "DEBUG flwr 2023-09-01 01:43:19,587 | server.py:236 | fit_round 17 received 10 results and 0 failures\n",
      "DEBUG flwr 2023-09-01 01:43:19,687 | server.py:173 | evaluate_round 17: strategy sampled 10 clients (out of 20)\n"
     ]
    },
    {
     "name": "stdout",
     "output_type": "stream",
     "text": [
      "agrregate_fit results list length is  10\n",
      "Saving round 17 aggregated_parameters...\n"
     ]
    },
    {
     "name": "stderr",
     "output_type": "stream",
     "text": [
      "DEBUG flwr 2023-09-01 01:43:19,935 | server.py:187 | evaluate_round 17 received 10 results and 0 failures\n",
      "DEBUG flwr 2023-09-01 01:43:19,937 | server.py:222 | fit_round 18: strategy sampled 10 clients (out of 20)\n"
     ]
    },
    {
     "name": "stdout",
     "output_type": "stream",
     "text": [
      "agrregate_evaluate results list length is  10\n",
      "server round is  17\n",
      "loss is  2.598890942698706\n"
     ]
    },
    {
     "name": "stderr",
     "output_type": "stream",
     "text": [
      "DEBUG flwr 2023-09-01 01:43:23,551 | server.py:236 | fit_round 18 received 10 results and 0 failures\n",
      "DEBUG flwr 2023-09-01 01:43:23,735 | server.py:173 | evaluate_round 18: strategy sampled 10 clients (out of 20)\n"
     ]
    },
    {
     "name": "stdout",
     "output_type": "stream",
     "text": [
      "agrregate_fit results list length is  10\n",
      "Saving round 18 aggregated_parameters...\n"
     ]
    },
    {
     "name": "stderr",
     "output_type": "stream",
     "text": [
      "DEBUG flwr 2023-09-01 01:43:24,254 | server.py:187 | evaluate_round 18 received 10 results and 0 failures\n",
      "DEBUG flwr 2023-09-01 01:43:24,270 | server.py:222 | fit_round 19: strategy sampled 10 clients (out of 20)\n"
     ]
    },
    {
     "name": "stdout",
     "output_type": "stream",
     "text": [
      "agrregate_evaluate results list length is  10\n",
      "server round is  18\n",
      "loss is  2.6044362292051755\n"
     ]
    },
    {
     "name": "stderr",
     "output_type": "stream",
     "text": [
      "DEBUG flwr 2023-09-01 01:43:30,249 | server.py:236 | fit_round 19 received 10 results and 0 failures\n",
      "DEBUG flwr 2023-09-01 01:43:30,354 | server.py:173 | evaluate_round 19: strategy sampled 10 clients (out of 20)\n"
     ]
    },
    {
     "name": "stdout",
     "output_type": "stream",
     "text": [
      "agrregate_fit results list length is  10\n",
      "Saving round 19 aggregated_parameters...\n"
     ]
    },
    {
     "name": "stderr",
     "output_type": "stream",
     "text": [
      "DEBUG flwr 2023-09-01 01:43:30,682 | server.py:187 | evaluate_round 19 received 10 results and 0 failures\n",
      "DEBUG flwr 2023-09-01 01:43:30,685 | server.py:222 | fit_round 20: strategy sampled 10 clients (out of 20)\n"
     ]
    },
    {
     "name": "stdout",
     "output_type": "stream",
     "text": [
      "agrregate_evaluate results list length is  10\n",
      "server round is  19\n",
      "loss is  2.5822550831792976\n"
     ]
    },
    {
     "name": "stderr",
     "output_type": "stream",
     "text": [
      "DEBUG flwr 2023-09-01 01:43:33,772 | server.py:236 | fit_round 20 received 10 results and 0 failures\n",
      "DEBUG flwr 2023-09-01 01:43:33,852 | server.py:173 | evaluate_round 20: strategy sampled 10 clients (out of 20)\n"
     ]
    },
    {
     "name": "stdout",
     "output_type": "stream",
     "text": [
      "agrregate_fit results list length is  10\n",
      "Saving round 20 aggregated_parameters...\n"
     ]
    },
    {
     "name": "stderr",
     "output_type": "stream",
     "text": [
      "DEBUG flwr 2023-09-01 01:43:34,320 | server.py:187 | evaluate_round 20 received 10 results and 0 failures\n",
      "DEBUG flwr 2023-09-01 01:43:34,324 | server.py:222 | fit_round 21: strategy sampled 10 clients (out of 20)\n"
     ]
    },
    {
     "name": "stdout",
     "output_type": "stream",
     "text": [
      "agrregate_evaluate results list length is  10\n",
      "server round is  20\n",
      "loss is  2.5286506469500925\n"
     ]
    },
    {
     "name": "stderr",
     "output_type": "stream",
     "text": [
      "DEBUG flwr 2023-09-01 01:43:37,546 | server.py:236 | fit_round 21 received 10 results and 0 failures\n",
      "DEBUG flwr 2023-09-01 01:43:37,646 | server.py:173 | evaluate_round 21: strategy sampled 10 clients (out of 20)\n"
     ]
    },
    {
     "name": "stdout",
     "output_type": "stream",
     "text": [
      "agrregate_fit results list length is  10\n",
      "Saving round 21 aggregated_parameters...\n"
     ]
    },
    {
     "name": "stderr",
     "output_type": "stream",
     "text": [
      "DEBUG flwr 2023-09-01 01:43:38,000 | server.py:187 | evaluate_round 21 received 10 results and 0 failures\n",
      "DEBUG flwr 2023-09-01 01:43:38,004 | server.py:222 | fit_round 22: strategy sampled 10 clients (out of 20)\n"
     ]
    },
    {
     "name": "stdout",
     "output_type": "stream",
     "text": [
      "agrregate_evaluate results list length is  10\n",
      "server round is  21\n",
      "loss is  2.5268022181146024\n"
     ]
    },
    {
     "name": "stderr",
     "output_type": "stream",
     "text": [
      "DEBUG flwr 2023-09-01 01:43:41,296 | server.py:236 | fit_round 22 received 10 results and 0 failures\n",
      "DEBUG flwr 2023-09-01 01:43:41,405 | server.py:173 | evaluate_round 22: strategy sampled 10 clients (out of 20)\n"
     ]
    },
    {
     "name": "stdout",
     "output_type": "stream",
     "text": [
      "agrregate_fit results list length is  10\n",
      "Saving round 22 aggregated_parameters...\n"
     ]
    },
    {
     "name": "stderr",
     "output_type": "stream",
     "text": [
      "DEBUG flwr 2023-09-01 01:43:41,756 | server.py:187 | evaluate_round 22 received 10 results and 0 failures\n",
      "DEBUG flwr 2023-09-01 01:43:41,761 | server.py:222 | fit_round 23: strategy sampled 10 clients (out of 20)\n"
     ]
    },
    {
     "name": "stdout",
     "output_type": "stream",
     "text": [
      "agrregate_evaluate results list length is  10\n",
      "server round is  22\n",
      "loss is  2.6099815157116453\n"
     ]
    },
    {
     "name": "stderr",
     "output_type": "stream",
     "text": [
      "DEBUG flwr 2023-09-01 01:43:47,381 | server.py:236 | fit_round 23 received 10 results and 0 failures\n",
      "DEBUG flwr 2023-09-01 01:43:47,494 | server.py:173 | evaluate_round 23: strategy sampled 10 clients (out of 20)\n"
     ]
    },
    {
     "name": "stdout",
     "output_type": "stream",
     "text": [
      "agrregate_fit results list length is  10\n",
      "Saving round 23 aggregated_parameters...\n"
     ]
    },
    {
     "name": "stderr",
     "output_type": "stream",
     "text": [
      "DEBUG flwr 2023-09-01 01:43:47,895 | server.py:187 | evaluate_round 23 received 10 results and 0 failures\n",
      "DEBUG flwr 2023-09-01 01:43:47,899 | server.py:222 | fit_round 24: strategy sampled 10 clients (out of 20)\n"
     ]
    },
    {
     "name": "stdout",
     "output_type": "stream",
     "text": [
      "agrregate_evaluate results list length is  10\n",
      "server round is  23\n",
      "loss is  2.3512014787430684\n"
     ]
    },
    {
     "name": "stderr",
     "output_type": "stream",
     "text": [
      "DEBUG flwr 2023-09-01 01:43:51,846 | server.py:236 | fit_round 24 received 10 results and 0 failures\n",
      "DEBUG flwr 2023-09-01 01:43:52,003 | server.py:173 | evaluate_round 24: strategy sampled 10 clients (out of 20)\n"
     ]
    },
    {
     "name": "stdout",
     "output_type": "stream",
     "text": [
      "agrregate_fit results list length is  10\n",
      "Saving round 24 aggregated_parameters...\n"
     ]
    },
    {
     "name": "stderr",
     "output_type": "stream",
     "text": [
      "DEBUG flwr 2023-09-01 01:43:52,688 | server.py:187 | evaluate_round 24 received 10 results and 0 failures\n",
      "DEBUG flwr 2023-09-01 01:43:52,691 | server.py:222 | fit_round 25: strategy sampled 10 clients (out of 20)\n"
     ]
    },
    {
     "name": "stdout",
     "output_type": "stream",
     "text": [
      "agrregate_evaluate results list length is  10\n",
      "server round is  24\n",
      "loss is  2.345656192236599\n"
     ]
    },
    {
     "name": "stderr",
     "output_type": "stream",
     "text": [
      "DEBUG flwr 2023-09-01 01:43:55,747 | server.py:236 | fit_round 25 received 10 results and 0 failures\n",
      "DEBUG flwr 2023-09-01 01:43:55,868 | server.py:173 | evaluate_round 25: strategy sampled 10 clients (out of 20)\n"
     ]
    },
    {
     "name": "stdout",
     "output_type": "stream",
     "text": [
      "agrregate_fit results list length is  10\n",
      "Saving round 25 aggregated_parameters...\n"
     ]
    },
    {
     "name": "stderr",
     "output_type": "stream",
     "text": [
      "DEBUG flwr 2023-09-01 01:43:56,227 | server.py:187 | evaluate_round 25 received 10 results and 0 failures\n",
      "DEBUG flwr 2023-09-01 01:43:56,232 | server.py:222 | fit_round 26: strategy sampled 10 clients (out of 20)\n"
     ]
    },
    {
     "name": "stdout",
     "output_type": "stream",
     "text": [
      "agrregate_evaluate results list length is  10\n",
      "server round is  25\n",
      "loss is  2.43992606284658\n"
     ]
    },
    {
     "name": "stderr",
     "output_type": "stream",
     "text": [
      "DEBUG flwr 2023-09-01 01:43:59,021 | server.py:236 | fit_round 26 received 10 results and 0 failures\n",
      "DEBUG flwr 2023-09-01 01:43:59,125 | server.py:173 | evaluate_round 26: strategy sampled 10 clients (out of 20)\n"
     ]
    },
    {
     "name": "stdout",
     "output_type": "stream",
     "text": [
      "agrregate_fit results list length is  10\n",
      "Saving round 26 aggregated_parameters...\n"
     ]
    },
    {
     "name": "stderr",
     "output_type": "stream",
     "text": [
      "DEBUG flwr 2023-09-01 01:43:59,392 | server.py:187 | evaluate_round 26 received 10 results and 0 failures\n",
      "DEBUG flwr 2023-09-01 01:43:59,394 | server.py:222 | fit_round 27: strategy sampled 10 clients (out of 20)\n"
     ]
    },
    {
     "name": "stdout",
     "output_type": "stream",
     "text": [
      "agrregate_evaluate results list length is  10\n",
      "server round is  26\n",
      "loss is  2.44547134935305\n"
     ]
    },
    {
     "name": "stderr",
     "output_type": "stream",
     "text": [
      "DEBUG flwr 2023-09-01 01:44:01,963 | server.py:236 | fit_round 27 received 10 results and 0 failures\n",
      "DEBUG flwr 2023-09-01 01:44:02,048 | server.py:173 | evaluate_round 27: strategy sampled 10 clients (out of 20)\n"
     ]
    },
    {
     "name": "stdout",
     "output_type": "stream",
     "text": [
      "agrregate_fit results list length is  10\n",
      "Saving round 27 aggregated_parameters...\n"
     ]
    },
    {
     "name": "stderr",
     "output_type": "stream",
     "text": [
      "DEBUG flwr 2023-09-01 01:44:02,372 | server.py:187 | evaluate_round 27 received 10 results and 0 failures\n",
      "DEBUG flwr 2023-09-01 01:44:02,375 | server.py:222 | fit_round 28: strategy sampled 10 clients (out of 20)\n"
     ]
    },
    {
     "name": "stdout",
     "output_type": "stream",
     "text": [
      "agrregate_evaluate results list length is  10\n",
      "server round is  27\n",
      "loss is  2.4417744916820703\n"
     ]
    },
    {
     "name": "stderr",
     "output_type": "stream",
     "text": [
      "DEBUG flwr 2023-09-01 01:44:09,543 | server.py:236 | fit_round 28 received 10 results and 0 failures\n",
      "DEBUG flwr 2023-09-01 01:44:09,682 | server.py:173 | evaluate_round 28: strategy sampled 10 clients (out of 20)\n"
     ]
    },
    {
     "name": "stdout",
     "output_type": "stream",
     "text": [
      "agrregate_fit results list length is  10\n",
      "Saving round 28 aggregated_parameters...\n"
     ]
    },
    {
     "name": "stderr",
     "output_type": "stream",
     "text": [
      "DEBUG flwr 2023-09-01 01:44:10,256 | server.py:187 | evaluate_round 28 received 10 results and 0 failures\n",
      "DEBUG flwr 2023-09-01 01:44:10,260 | server.py:222 | fit_round 29: strategy sampled 10 clients (out of 20)\n"
     ]
    },
    {
     "name": "stdout",
     "output_type": "stream",
     "text": [
      "agrregate_evaluate results list length is  10\n",
      "server round is  28\n",
      "loss is  2.4380776340110906\n"
     ]
    },
    {
     "name": "stderr",
     "output_type": "stream",
     "text": [
      "DEBUG flwr 2023-09-01 01:44:13,734 | server.py:236 | fit_round 29 received 10 results and 0 failures\n",
      "DEBUG flwr 2023-09-01 01:44:13,873 | server.py:173 | evaluate_round 29: strategy sampled 10 clients (out of 20)\n"
     ]
    },
    {
     "name": "stdout",
     "output_type": "stream",
     "text": [
      "agrregate_fit results list length is  10\n",
      "Saving round 29 aggregated_parameters...\n"
     ]
    },
    {
     "name": "stderr",
     "output_type": "stream",
     "text": [
      "DEBUG flwr 2023-09-01 01:44:14,272 | server.py:187 | evaluate_round 29 received 10 results and 0 failures\n",
      "DEBUG flwr 2023-09-01 01:44:14,275 | server.py:222 | fit_round 30: strategy sampled 10 clients (out of 20)\n"
     ]
    },
    {
     "name": "stdout",
     "output_type": "stream",
     "text": [
      "agrregate_evaluate results list length is  10\n",
      "server round is  29\n",
      "loss is  2.3086876155268024\n"
     ]
    },
    {
     "name": "stderr",
     "output_type": "stream",
     "text": [
      "DEBUG flwr 2023-09-01 01:44:17,520 | server.py:236 | fit_round 30 received 10 results and 0 failures\n",
      "DEBUG flwr 2023-09-01 01:44:17,617 | server.py:173 | evaluate_round 30: strategy sampled 10 clients (out of 20)\n"
     ]
    },
    {
     "name": "stdout",
     "output_type": "stream",
     "text": [
      "agrregate_fit results list length is  10\n",
      "Saving round 30 aggregated_parameters...\n"
     ]
    },
    {
     "name": "stderr",
     "output_type": "stream",
     "text": [
      "DEBUG flwr 2023-09-01 01:44:17,890 | server.py:187 | evaluate_round 30 received 10 results and 0 failures\n",
      "DEBUG flwr 2023-09-01 01:44:17,894 | server.py:222 | fit_round 31: strategy sampled 10 clients (out of 20)\n"
     ]
    },
    {
     "name": "stdout",
     "output_type": "stream",
     "text": [
      "agrregate_evaluate results list length is  10\n",
      "server round is  30\n",
      "loss is  2.367837338262477\n"
     ]
    },
    {
     "name": "stderr",
     "output_type": "stream",
     "text": [
      "DEBUG flwr 2023-09-01 01:44:20,788 | server.py:236 | fit_round 31 received 10 results and 0 failures\n",
      "DEBUG flwr 2023-09-01 01:44:20,860 | server.py:173 | evaluate_round 31: strategy sampled 10 clients (out of 20)\n"
     ]
    },
    {
     "name": "stdout",
     "output_type": "stream",
     "text": [
      "agrregate_fit results list length is  10\n",
      "Saving round 31 aggregated_parameters...\n"
     ]
    },
    {
     "name": "stderr",
     "output_type": "stream",
     "text": [
      "DEBUG flwr 2023-09-01 01:44:21,138 | server.py:187 | evaluate_round 31 received 10 results and 0 failures\n",
      "DEBUG flwr 2023-09-01 01:44:21,141 | server.py:222 | fit_round 32: strategy sampled 10 clients (out of 20)\n"
     ]
    },
    {
     "name": "stdout",
     "output_type": "stream",
     "text": [
      "agrregate_evaluate results list length is  10\n",
      "server round is  31\n",
      "loss is  2.3364140480591495\n"
     ]
    },
    {
     "name": "stderr",
     "output_type": "stream",
     "text": [
      "DEBUG flwr 2023-09-01 01:44:24,045 | server.py:236 | fit_round 32 received 10 results and 0 failures\n",
      "DEBUG flwr 2023-09-01 01:44:24,144 | server.py:173 | evaluate_round 32: strategy sampled 10 clients (out of 20)\n"
     ]
    },
    {
     "name": "stdout",
     "output_type": "stream",
     "text": [
      "agrregate_fit results list length is  10\n",
      "Saving round 32 aggregated_parameters...\n"
     ]
    },
    {
     "name": "stderr",
     "output_type": "stream",
     "text": [
      "DEBUG flwr 2023-09-01 01:44:24,445 | server.py:187 | evaluate_round 32 received 10 results and 0 failures\n",
      "DEBUG flwr 2023-09-01 01:44:24,446 | server.py:222 | fit_round 33: strategy sampled 10 clients (out of 20)\n"
     ]
    },
    {
     "name": "stdout",
     "output_type": "stream",
     "text": [
      "agrregate_evaluate results list length is  10\n",
      "server round is  32\n",
      "loss is  2.277264325323475\n"
     ]
    },
    {
     "name": "stderr",
     "output_type": "stream",
     "text": [
      "DEBUG flwr 2023-09-01 01:44:26,919 | server.py:236 | fit_round 33 received 10 results and 0 failures\n",
      "DEBUG flwr 2023-09-01 01:44:27,031 | server.py:173 | evaluate_round 33: strategy sampled 10 clients (out of 20)\n"
     ]
    },
    {
     "name": "stdout",
     "output_type": "stream",
     "text": [
      "agrregate_fit results list length is  10\n",
      "Saving round 33 aggregated_parameters...\n"
     ]
    },
    {
     "name": "stderr",
     "output_type": "stream",
     "text": [
      "DEBUG flwr 2023-09-01 01:44:27,316 | server.py:187 | evaluate_round 33 received 10 results and 0 failures\n",
      "DEBUG flwr 2023-09-01 01:44:27,318 | server.py:222 | fit_round 34: strategy sampled 10 clients (out of 20)\n"
     ]
    },
    {
     "name": "stdout",
     "output_type": "stream",
     "text": [
      "agrregate_evaluate results list length is  10\n",
      "server round is  33\n",
      "loss is  2.288354898336414\n"
     ]
    },
    {
     "name": "stderr",
     "output_type": "stream",
     "text": [
      "DEBUG flwr 2023-09-01 01:44:30,079 | server.py:236 | fit_round 34 received 10 results and 0 failures\n",
      "DEBUG flwr 2023-09-01 01:44:30,207 | server.py:173 | evaluate_round 34: strategy sampled 10 clients (out of 20)\n"
     ]
    },
    {
     "name": "stdout",
     "output_type": "stream",
     "text": [
      "agrregate_fit results list length is  10\n",
      "Saving round 34 aggregated_parameters...\n"
     ]
    },
    {
     "name": "stderr",
     "output_type": "stream",
     "text": [
      "DEBUG flwr 2023-09-01 01:44:30,565 | server.py:187 | evaluate_round 34 received 10 results and 0 failures\n",
      "DEBUG flwr 2023-09-01 01:44:30,568 | server.py:222 | fit_round 35: strategy sampled 10 clients (out of 20)\n"
     ]
    },
    {
     "name": "stdout",
     "output_type": "stream",
     "text": [
      "agrregate_evaluate results list length is  10\n",
      "server round is  34\n",
      "loss is  2.2624768946395566\n"
     ]
    },
    {
     "name": "stderr",
     "output_type": "stream",
     "text": [
      "DEBUG flwr 2023-09-01 01:44:33,407 | server.py:236 | fit_round 35 received 10 results and 0 failures\n",
      "DEBUG flwr 2023-09-01 01:44:33,502 | server.py:173 | evaluate_round 35: strategy sampled 10 clients (out of 20)\n"
     ]
    },
    {
     "name": "stdout",
     "output_type": "stream",
     "text": [
      "agrregate_fit results list length is  10\n",
      "Saving round 35 aggregated_parameters...\n"
     ]
    },
    {
     "name": "stderr",
     "output_type": "stream",
     "text": [
      "DEBUG flwr 2023-09-01 01:44:33,806 | server.py:187 | evaluate_round 35 received 10 results and 0 failures\n",
      "DEBUG flwr 2023-09-01 01:44:33,810 | server.py:222 | fit_round 36: strategy sampled 10 clients (out of 20)\n"
     ]
    },
    {
     "name": "stdout",
     "output_type": "stream",
     "text": [
      "agrregate_evaluate results list length is  10\n",
      "server round is  35\n",
      "loss is  2.2495378927911274\n"
     ]
    },
    {
     "name": "stderr",
     "output_type": "stream",
     "text": [
      "DEBUG flwr 2023-09-01 01:44:36,736 | server.py:236 | fit_round 36 received 10 results and 0 failures\n",
      "DEBUG flwr 2023-09-01 01:44:36,886 | server.py:173 | evaluate_round 36: strategy sampled 10 clients (out of 20)\n"
     ]
    },
    {
     "name": "stdout",
     "output_type": "stream",
     "text": [
      "agrregate_fit results list length is  10\n",
      "Saving round 36 aggregated_parameters...\n"
     ]
    },
    {
     "name": "stderr",
     "output_type": "stream",
     "text": [
      "DEBUG flwr 2023-09-01 01:44:37,249 | server.py:187 | evaluate_round 36 received 10 results and 0 failures\n",
      "DEBUG flwr 2023-09-01 01:44:37,253 | server.py:222 | fit_round 37: strategy sampled 10 clients (out of 20)\n"
     ]
    },
    {
     "name": "stdout",
     "output_type": "stream",
     "text": [
      "agrregate_evaluate results list length is  10\n",
      "server round is  36\n",
      "loss is  2.288354898336414\n"
     ]
    },
    {
     "name": "stderr",
     "output_type": "stream",
     "text": [
      "DEBUG flwr 2023-09-01 01:44:41,378 | server.py:236 | fit_round 37 received 10 results and 0 failures\n",
      "DEBUG flwr 2023-09-01 01:44:41,540 | server.py:173 | evaluate_round 37: strategy sampled 10 clients (out of 20)\n"
     ]
    },
    {
     "name": "stdout",
     "output_type": "stream",
     "text": [
      "agrregate_fit results list length is  10\n",
      "Saving round 37 aggregated_parameters...\n"
     ]
    },
    {
     "name": "stderr",
     "output_type": "stream",
     "text": [
      "DEBUG flwr 2023-09-01 01:44:42,046 | server.py:187 | evaluate_round 37 received 10 results and 0 failures\n",
      "DEBUG flwr 2023-09-01 01:44:42,050 | server.py:222 | fit_round 38: strategy sampled 10 clients (out of 20)\n"
     ]
    },
    {
     "name": "stdout",
     "output_type": "stream",
     "text": [
      "agrregate_evaluate results list length is  10\n",
      "server round is  37\n",
      "loss is  2.3364140480591495\n"
     ]
    },
    {
     "name": "stderr",
     "output_type": "stream",
     "text": [
      "DEBUG flwr 2023-09-01 01:44:45,967 | server.py:236 | fit_round 38 received 10 results and 0 failures\n",
      "DEBUG flwr 2023-09-01 01:44:46,045 | server.py:173 | evaluate_round 38: strategy sampled 10 clients (out of 20)\n"
     ]
    },
    {
     "name": "stdout",
     "output_type": "stream",
     "text": [
      "agrregate_fit results list length is  10\n",
      "Saving round 38 aggregated_parameters...\n"
     ]
    },
    {
     "name": "stderr",
     "output_type": "stream",
     "text": [
      "DEBUG flwr 2023-09-01 01:44:46,308 | server.py:187 | evaluate_round 38 received 10 results and 0 failures\n",
      "DEBUG flwr 2023-09-01 01:44:46,311 | server.py:222 | fit_round 39: strategy sampled 10 clients (out of 20)\n"
     ]
    },
    {
     "name": "stdout",
     "output_type": "stream",
     "text": [
      "agrregate_evaluate results list length is  10\n",
      "server round is  38\n",
      "loss is  2.22365988909427\n"
     ]
    },
    {
     "name": "stderr",
     "output_type": "stream",
     "text": [
      "DEBUG flwr 2023-09-01 01:44:49,093 | server.py:236 | fit_round 39 received 10 results and 0 failures\n",
      "DEBUG flwr 2023-09-01 01:44:49,167 | server.py:173 | evaluate_round 39: strategy sampled 10 clients (out of 20)\n"
     ]
    },
    {
     "name": "stdout",
     "output_type": "stream",
     "text": [
      "agrregate_fit results list length is  10\n",
      "Saving round 39 aggregated_parameters...\n"
     ]
    },
    {
     "name": "stderr",
     "output_type": "stream",
     "text": [
      "DEBUG flwr 2023-09-01 01:44:49,439 | server.py:187 | evaluate_round 39 received 10 results and 0 failures\n",
      "DEBUG flwr 2023-09-01 01:44:49,442 | server.py:222 | fit_round 40: strategy sampled 10 clients (out of 20)\n"
     ]
    },
    {
     "name": "stdout",
     "output_type": "stream",
     "text": [
      "agrregate_evaluate results list length is  10\n",
      "server round is  39\n",
      "loss is  2.3475046210720887\n"
     ]
    },
    {
     "name": "stderr",
     "output_type": "stream",
     "text": [
      "DEBUG flwr 2023-09-01 01:44:52,179 | server.py:236 | fit_round 40 received 10 results and 0 failures\n",
      "DEBUG flwr 2023-09-01 01:44:52,245 | server.py:173 | evaluate_round 40: strategy sampled 10 clients (out of 20)\n"
     ]
    },
    {
     "name": "stdout",
     "output_type": "stream",
     "text": [
      "agrregate_fit results list length is  10\n",
      "Saving round 40 aggregated_parameters...\n"
     ]
    },
    {
     "name": "stderr",
     "output_type": "stream",
     "text": [
      "DEBUG flwr 2023-09-01 01:44:52,475 | server.py:187 | evaluate_round 40 received 10 results and 0 failures\n",
      "DEBUG flwr 2023-09-01 01:44:52,477 | server.py:222 | fit_round 41: strategy sampled 10 clients (out of 20)\n"
     ]
    },
    {
     "name": "stdout",
     "output_type": "stream",
     "text": [
      "agrregate_evaluate results list length is  10\n",
      "server round is  40\n",
      "loss is  2.3401109057301293\n"
     ]
    },
    {
     "name": "stderr",
     "output_type": "stream",
     "text": [
      "DEBUG flwr 2023-09-01 01:44:54,927 | server.py:236 | fit_round 41 received 10 results and 0 failures\n",
      "DEBUG flwr 2023-09-01 01:44:55,015 | server.py:173 | evaluate_round 41: strategy sampled 10 clients (out of 20)\n"
     ]
    },
    {
     "name": "stdout",
     "output_type": "stream",
     "text": [
      "agrregate_fit results list length is  10\n",
      "Saving round 41 aggregated_parameters...\n"
     ]
    },
    {
     "name": "stderr",
     "output_type": "stream",
     "text": [
      "DEBUG flwr 2023-09-01 01:44:55,254 | server.py:187 | evaluate_round 41 received 10 results and 0 failures\n",
      "DEBUG flwr 2023-09-01 01:44:55,258 | server.py:222 | fit_round 42: strategy sampled 10 clients (out of 20)\n"
     ]
    },
    {
     "name": "stdout",
     "output_type": "stream",
     "text": [
      "agrregate_evaluate results list length is  10\n",
      "server round is  41\n",
      "loss is  2.3068391866913123\n"
     ]
    },
    {
     "name": "stderr",
     "output_type": "stream",
     "text": [
      "DEBUG flwr 2023-09-01 01:44:57,860 | server.py:236 | fit_round 42 received 10 results and 0 failures\n",
      "DEBUG flwr 2023-09-01 01:44:57,967 | server.py:173 | evaluate_round 42: strategy sampled 10 clients (out of 20)\n"
     ]
    },
    {
     "name": "stdout",
     "output_type": "stream",
     "text": [
      "agrregate_fit results list length is  10\n",
      "Saving round 42 aggregated_parameters...\n"
     ]
    },
    {
     "name": "stderr",
     "output_type": "stream",
     "text": [
      "DEBUG flwr 2023-09-01 01:44:58,275 | server.py:187 | evaluate_round 42 received 10 results and 0 failures\n",
      "DEBUG flwr 2023-09-01 01:44:58,280 | server.py:222 | fit_round 43: strategy sampled 10 clients (out of 20)\n"
     ]
    },
    {
     "name": "stdout",
     "output_type": "stream",
     "text": [
      "agrregate_evaluate results list length is  10\n",
      "server round is  42\n",
      "loss is  2.3659889094269873\n"
     ]
    },
    {
     "name": "stderr",
     "output_type": "stream",
     "text": [
      "DEBUG flwr 2023-09-01 01:45:02,209 | server.py:236 | fit_round 43 received 10 results and 0 failures\n",
      "DEBUG flwr 2023-09-01 01:45:02,292 | server.py:173 | evaluate_round 43: strategy sampled 10 clients (out of 20)\n"
     ]
    },
    {
     "name": "stdout",
     "output_type": "stream",
     "text": [
      "agrregate_fit results list length is  10\n",
      "Saving round 43 aggregated_parameters...\n"
     ]
    },
    {
     "name": "stderr",
     "output_type": "stream",
     "text": [
      "DEBUG flwr 2023-09-01 01:45:02,515 | server.py:187 | evaluate_round 43 received 10 results and 0 failures\n",
      "DEBUG flwr 2023-09-01 01:45:02,518 | server.py:222 | fit_round 44: strategy sampled 10 clients (out of 20)\n"
     ]
    },
    {
     "name": "stdout",
     "output_type": "stream",
     "text": [
      "agrregate_evaluate results list length is  10\n",
      "server round is  43\n",
      "loss is  2.210720887245841\n"
     ]
    },
    {
     "name": "stderr",
     "output_type": "stream",
     "text": [
      "DEBUG flwr 2023-09-01 01:45:05,111 | server.py:236 | fit_round 44 received 10 results and 0 failures\n",
      "DEBUG flwr 2023-09-01 01:45:05,194 | server.py:173 | evaluate_round 44: strategy sampled 10 clients (out of 20)\n"
     ]
    },
    {
     "name": "stdout",
     "output_type": "stream",
     "text": [
      "agrregate_fit results list length is  10\n",
      "Saving round 44 aggregated_parameters...\n"
     ]
    },
    {
     "name": "stderr",
     "output_type": "stream",
     "text": [
      "DEBUG flwr 2023-09-01 01:45:05,444 | server.py:187 | evaluate_round 44 received 10 results and 0 failures\n",
      "DEBUG flwr 2023-09-01 01:45:05,448 | server.py:222 | fit_round 45: strategy sampled 10 clients (out of 20)\n"
     ]
    },
    {
     "name": "stdout",
     "output_type": "stream",
     "text": [
      "agrregate_evaluate results list length is  10\n",
      "server round is  44\n",
      "loss is  2.2957486136783736\n"
     ]
    },
    {
     "name": "stderr",
     "output_type": "stream",
     "text": [
      "DEBUG flwr 2023-09-01 01:45:08,055 | server.py:236 | fit_round 45 received 10 results and 0 failures\n",
      "DEBUG flwr 2023-09-01 01:45:08,142 | server.py:173 | evaluate_round 45: strategy sampled 10 clients (out of 20)\n"
     ]
    },
    {
     "name": "stdout",
     "output_type": "stream",
     "text": [
      "agrregate_fit results list length is  10\n",
      "Saving round 45 aggregated_parameters...\n"
     ]
    },
    {
     "name": "stderr",
     "output_type": "stream",
     "text": [
      "DEBUG flwr 2023-09-01 01:45:08,398 | server.py:187 | evaluate_round 45 received 10 results and 0 failures\n",
      "DEBUG flwr 2023-09-01 01:45:08,400 | server.py:222 | fit_round 46: strategy sampled 10 clients (out of 20)\n"
     ]
    },
    {
     "name": "stdout",
     "output_type": "stream",
     "text": [
      "agrregate_evaluate results list length is  10\n",
      "server round is  45\n",
      "loss is  2.192236598890943\n"
     ]
    },
    {
     "name": "stderr",
     "output_type": "stream",
     "text": [
      "DEBUG flwr 2023-09-01 01:45:10,807 | server.py:236 | fit_round 46 received 10 results and 0 failures\n",
      "DEBUG flwr 2023-09-01 01:45:10,890 | server.py:173 | evaluate_round 46: strategy sampled 10 clients (out of 20)\n"
     ]
    },
    {
     "name": "stdout",
     "output_type": "stream",
     "text": [
      "agrregate_fit results list length is  10\n",
      "Saving round 46 aggregated_parameters...\n"
     ]
    },
    {
     "name": "stderr",
     "output_type": "stream",
     "text": [
      "DEBUG flwr 2023-09-01 01:45:11,161 | server.py:187 | evaluate_round 46 received 10 results and 0 failures\n",
      "DEBUG flwr 2023-09-01 01:45:11,164 | server.py:222 | fit_round 47: strategy sampled 10 clients (out of 20)\n"
     ]
    },
    {
     "name": "stdout",
     "output_type": "stream",
     "text": [
      "agrregate_evaluate results list length is  10\n",
      "server round is  46\n",
      "loss is  2.297597042513863\n"
     ]
    },
    {
     "name": "stderr",
     "output_type": "stream",
     "text": [
      "DEBUG flwr 2023-09-01 01:45:13,437 | server.py:236 | fit_round 47 received 10 results and 0 failures\n",
      "DEBUG flwr 2023-09-01 01:45:13,527 | server.py:173 | evaluate_round 47: strategy sampled 10 clients (out of 20)\n"
     ]
    },
    {
     "name": "stdout",
     "output_type": "stream",
     "text": [
      "agrregate_fit results list length is  10\n",
      "Saving round 47 aggregated_parameters...\n"
     ]
    },
    {
     "name": "stderr",
     "output_type": "stream",
     "text": [
      "DEBUG flwr 2023-09-01 01:45:13,871 | server.py:187 | evaluate_round 47 received 10 results and 0 failures\n",
      "DEBUG flwr 2023-09-01 01:45:13,873 | server.py:222 | fit_round 48: strategy sampled 10 clients (out of 20)\n"
     ]
    },
    {
     "name": "stdout",
     "output_type": "stream",
     "text": [
      "agrregate_evaluate results list length is  10\n",
      "server round is  47\n",
      "loss is  2.1848428835489835\n"
     ]
    },
    {
     "name": "stderr",
     "output_type": "stream",
     "text": [
      "DEBUG flwr 2023-09-01 01:45:16,113 | server.py:236 | fit_round 48 received 10 results and 0 failures\n",
      "DEBUG flwr 2023-09-01 01:45:16,204 | server.py:173 | evaluate_round 48: strategy sampled 10 clients (out of 20)\n"
     ]
    },
    {
     "name": "stdout",
     "output_type": "stream",
     "text": [
      "agrregate_fit results list length is  10\n",
      "Saving round 48 aggregated_parameters...\n"
     ]
    },
    {
     "name": "stderr",
     "output_type": "stream",
     "text": [
      "DEBUG flwr 2023-09-01 01:45:16,525 | server.py:187 | evaluate_round 48 received 10 results and 0 failures\n",
      "DEBUG flwr 2023-09-01 01:45:16,529 | server.py:222 | fit_round 49: strategy sampled 10 clients (out of 20)\n"
     ]
    },
    {
     "name": "stdout",
     "output_type": "stream",
     "text": [
      "agrregate_evaluate results list length is  10\n",
      "server round is  48\n",
      "loss is  2.3826247689463957\n"
     ]
    },
    {
     "name": "stderr",
     "output_type": "stream",
     "text": [
      "DEBUG flwr 2023-09-01 01:45:19,464 | server.py:236 | fit_round 49 received 10 results and 0 failures\n",
      "DEBUG flwr 2023-09-01 01:45:19,534 | server.py:173 | evaluate_round 49: strategy sampled 10 clients (out of 20)\n"
     ]
    },
    {
     "name": "stdout",
     "output_type": "stream",
     "text": [
      "agrregate_fit results list length is  10\n",
      "Saving round 49 aggregated_parameters...\n"
     ]
    },
    {
     "name": "stderr",
     "output_type": "stream",
     "text": [
      "DEBUG flwr 2023-09-01 01:45:19,859 | server.py:187 | evaluate_round 49 received 10 results and 0 failures\n",
      "DEBUG flwr 2023-09-01 01:45:19,862 | server.py:222 | fit_round 50: strategy sampled 10 clients (out of 20)\n"
     ]
    },
    {
     "name": "stdout",
     "output_type": "stream",
     "text": [
      "agrregate_evaluate results list length is  10\n",
      "server round is  49\n",
      "loss is  2.2273567467652495\n"
     ]
    },
    {
     "name": "stderr",
     "output_type": "stream",
     "text": [
      "DEBUG flwr 2023-09-01 01:45:22,578 | server.py:236 | fit_round 50 received 10 results and 0 failures\n",
      "DEBUG flwr 2023-09-01 01:45:22,645 | server.py:173 | evaluate_round 50: strategy sampled 10 clients (out of 20)\n"
     ]
    },
    {
     "name": "stdout",
     "output_type": "stream",
     "text": [
      "agrregate_fit results list length is  10\n",
      "Saving round 50 aggregated_parameters...\n"
     ]
    },
    {
     "name": "stderr",
     "output_type": "stream",
     "text": [
      "DEBUG flwr 2023-09-01 01:45:22,913 | server.py:187 | evaluate_round 50 received 10 results and 0 failures\n",
      "DEBUG flwr 2023-09-01 01:45:22,916 | server.py:222 | fit_round 51: strategy sampled 10 clients (out of 20)\n"
     ]
    },
    {
     "name": "stdout",
     "output_type": "stream",
     "text": [
      "agrregate_evaluate results list length is  10\n",
      "server round is  50\n",
      "loss is  2.1940850277264325\n"
     ]
    },
    {
     "name": "stderr",
     "output_type": "stream",
     "text": [
      "DEBUG flwr 2023-09-01 01:45:25,328 | server.py:236 | fit_round 51 received 10 results and 0 failures\n",
      "DEBUG flwr 2023-09-01 01:45:25,421 | server.py:173 | evaluate_round 51: strategy sampled 10 clients (out of 20)\n"
     ]
    },
    {
     "name": "stdout",
     "output_type": "stream",
     "text": [
      "agrregate_fit results list length is  10\n",
      "Saving round 51 aggregated_parameters...\n"
     ]
    },
    {
     "name": "stderr",
     "output_type": "stream",
     "text": [
      "DEBUG flwr 2023-09-01 01:45:25,733 | server.py:187 | evaluate_round 51 received 10 results and 0 failures\n",
      "DEBUG flwr 2023-09-01 01:45:25,735 | server.py:222 | fit_round 52: strategy sampled 10 clients (out of 20)\n"
     ]
    },
    {
     "name": "stdout",
     "output_type": "stream",
     "text": [
      "agrregate_evaluate results list length is  10\n",
      "server round is  51\n",
      "loss is  2.155268022181146\n"
     ]
    },
    {
     "name": "stderr",
     "output_type": "stream",
     "text": [
      "DEBUG flwr 2023-09-01 01:45:30,243 | server.py:236 | fit_round 52 received 10 results and 0 failures\n",
      "DEBUG flwr 2023-09-01 01:45:30,402 | server.py:173 | evaluate_round 52: strategy sampled 10 clients (out of 20)\n"
     ]
    },
    {
     "name": "stdout",
     "output_type": "stream",
     "text": [
      "agrregate_fit results list length is  10\n",
      "Saving round 52 aggregated_parameters...\n"
     ]
    },
    {
     "name": "stderr",
     "output_type": "stream",
     "text": [
      "DEBUG flwr 2023-09-01 01:45:30,750 | server.py:187 | evaluate_round 52 received 10 results and 0 failures\n",
      "DEBUG flwr 2023-09-01 01:45:30,753 | server.py:222 | fit_round 53: strategy sampled 10 clients (out of 20)\n"
     ]
    },
    {
     "name": "stdout",
     "output_type": "stream",
     "text": [
      "agrregate_evaluate results list length is  10\n",
      "server round is  52\n",
      "loss is  2.277264325323475\n"
     ]
    },
    {
     "name": "stderr",
     "output_type": "stream",
     "text": [
      "DEBUG flwr 2023-09-01 01:45:33,405 | server.py:236 | fit_round 53 received 10 results and 0 failures\n",
      "DEBUG flwr 2023-09-01 01:45:33,516 | server.py:173 | evaluate_round 53: strategy sampled 10 clients (out of 20)\n"
     ]
    },
    {
     "name": "stdout",
     "output_type": "stream",
     "text": [
      "agrregate_fit results list length is  10\n",
      "Saving round 53 aggregated_parameters...\n"
     ]
    },
    {
     "name": "stderr",
     "output_type": "stream",
     "text": [
      "DEBUG flwr 2023-09-01 01:45:33,801 | server.py:187 | evaluate_round 53 received 10 results and 0 failures\n",
      "DEBUG flwr 2023-09-01 01:45:33,804 | server.py:222 | fit_round 54: strategy sampled 10 clients (out of 20)\n"
     ]
    },
    {
     "name": "stdout",
     "output_type": "stream",
     "text": [
      "agrregate_evaluate results list length is  10\n",
      "server round is  53\n",
      "loss is  2.22181146025878\n"
     ]
    },
    {
     "name": "stderr",
     "output_type": "stream",
     "text": [
      "DEBUG flwr 2023-09-01 01:45:35,986 | server.py:236 | fit_round 54 received 10 results and 0 failures\n",
      "DEBUG flwr 2023-09-01 01:45:36,081 | server.py:173 | evaluate_round 54: strategy sampled 10 clients (out of 20)\n"
     ]
    },
    {
     "name": "stdout",
     "output_type": "stream",
     "text": [
      "agrregate_fit results list length is  10\n",
      "Saving round 54 aggregated_parameters...\n"
     ]
    },
    {
     "name": "stderr",
     "output_type": "stream",
     "text": [
      "DEBUG flwr 2023-09-01 01:45:36,352 | server.py:187 | evaluate_round 54 received 10 results and 0 failures\n",
      "DEBUG flwr 2023-09-01 01:45:36,356 | server.py:222 | fit_round 55: strategy sampled 10 clients (out of 20)\n"
     ]
    },
    {
     "name": "stdout",
     "output_type": "stream",
     "text": [
      "agrregate_evaluate results list length is  10\n",
      "server round is  54\n",
      "loss is  2.2051756007393717\n"
     ]
    },
    {
     "name": "stderr",
     "output_type": "stream",
     "text": [
      "DEBUG flwr 2023-09-01 01:45:38,651 | server.py:236 | fit_round 55 received 10 results and 0 failures\n",
      "DEBUG flwr 2023-09-01 01:45:38,717 | server.py:173 | evaluate_round 55: strategy sampled 10 clients (out of 20)\n"
     ]
    },
    {
     "name": "stdout",
     "output_type": "stream",
     "text": [
      "agrregate_fit results list length is  10\n",
      "Saving round 55 aggregated_parameters...\n"
     ]
    },
    {
     "name": "stderr",
     "output_type": "stream",
     "text": [
      "DEBUG flwr 2023-09-01 01:45:38,986 | server.py:187 | evaluate_round 55 received 10 results and 0 failures\n",
      "DEBUG flwr 2023-09-01 01:45:38,989 | server.py:222 | fit_round 56: strategy sampled 10 clients (out of 20)\n"
     ]
    },
    {
     "name": "stdout",
     "output_type": "stream",
     "text": [
      "agrregate_evaluate results list length is  10\n",
      "server round is  55\n",
      "loss is  2.2624768946395566\n"
     ]
    },
    {
     "name": "stderr",
     "output_type": "stream",
     "text": [
      "DEBUG flwr 2023-09-01 01:45:41,660 | server.py:236 | fit_round 56 received 10 results and 0 failures\n",
      "DEBUG flwr 2023-09-01 01:45:41,763 | server.py:173 | evaluate_round 56: strategy sampled 10 clients (out of 20)\n"
     ]
    },
    {
     "name": "stdout",
     "output_type": "stream",
     "text": [
      "agrregate_fit results list length is  10\n",
      "Saving round 56 aggregated_parameters...\n"
     ]
    },
    {
     "name": "stderr",
     "output_type": "stream",
     "text": [
      "DEBUG flwr 2023-09-01 01:45:42,011 | server.py:187 | evaluate_round 56 received 10 results and 0 failures\n",
      "DEBUG flwr 2023-09-01 01:45:42,015 | server.py:222 | fit_round 57: strategy sampled 10 clients (out of 20)\n"
     ]
    },
    {
     "name": "stdout",
     "output_type": "stream",
     "text": [
      "agrregate_evaluate results list length is  10\n",
      "server round is  56\n",
      "loss is  2.301293900184843\n"
     ]
    },
    {
     "name": "stderr",
     "output_type": "stream",
     "text": [
      "DEBUG flwr 2023-09-01 01:45:44,639 | server.py:236 | fit_round 57 received 10 results and 0 failures\n",
      "DEBUG flwr 2023-09-01 01:45:44,721 | server.py:173 | evaluate_round 57: strategy sampled 10 clients (out of 20)\n"
     ]
    },
    {
     "name": "stdout",
     "output_type": "stream",
     "text": [
      "agrregate_fit results list length is  10\n",
      "Saving round 57 aggregated_parameters...\n"
     ]
    },
    {
     "name": "stderr",
     "output_type": "stream",
     "text": [
      "DEBUG flwr 2023-09-01 01:45:44,967 | server.py:187 | evaluate_round 57 received 10 results and 0 failures\n",
      "DEBUG flwr 2023-09-01 01:45:44,970 | server.py:222 | fit_round 58: strategy sampled 10 clients (out of 20)\n"
     ]
    },
    {
     "name": "stdout",
     "output_type": "stream",
     "text": [
      "agrregate_evaluate results list length is  10\n",
      "server round is  57\n",
      "loss is  2.2162661737523104\n"
     ]
    },
    {
     "name": "stderr",
     "output_type": "stream",
     "text": [
      "DEBUG flwr 2023-09-01 01:45:47,502 | server.py:236 | fit_round 58 received 10 results and 0 failures\n",
      "DEBUG flwr 2023-09-01 01:45:47,581 | server.py:173 | evaluate_round 58: strategy sampled 10 clients (out of 20)\n"
     ]
    },
    {
     "name": "stdout",
     "output_type": "stream",
     "text": [
      "agrregate_fit results list length is  10\n",
      "Saving round 58 aggregated_parameters...\n"
     ]
    },
    {
     "name": "stderr",
     "output_type": "stream",
     "text": [
      "DEBUG flwr 2023-09-01 01:45:47,813 | server.py:187 | evaluate_round 58 received 10 results and 0 failures\n",
      "DEBUG flwr 2023-09-01 01:45:47,816 | server.py:222 | fit_round 59: strategy sampled 10 clients (out of 20)\n"
     ]
    },
    {
     "name": "stdout",
     "output_type": "stream",
     "text": [
      "agrregate_evaluate results list length is  10\n",
      "server round is  58\n",
      "loss is  2.2476894639556377\n"
     ]
    },
    {
     "name": "stderr",
     "output_type": "stream",
     "text": [
      "DEBUG flwr 2023-09-01 01:45:50,182 | server.py:236 | fit_round 59 received 10 results and 0 failures\n",
      "DEBUG flwr 2023-09-01 01:45:50,270 | server.py:173 | evaluate_round 59: strategy sampled 10 clients (out of 20)\n"
     ]
    },
    {
     "name": "stdout",
     "output_type": "stream",
     "text": [
      "agrregate_fit results list length is  10\n",
      "Saving round 59 aggregated_parameters...\n"
     ]
    },
    {
     "name": "stderr",
     "output_type": "stream",
     "text": [
      "DEBUG flwr 2023-09-01 01:45:50,500 | server.py:187 | evaluate_round 59 received 10 results and 0 failures\n",
      "DEBUG flwr 2023-09-01 01:45:50,503 | server.py:222 | fit_round 60: strategy sampled 10 clients (out of 20)\n"
     ]
    },
    {
     "name": "stdout",
     "output_type": "stream",
     "text": [
      "agrregate_evaluate results list length is  10\n",
      "server round is  59\n",
      "loss is  2.192236598890943\n"
     ]
    },
    {
     "name": "stderr",
     "output_type": "stream",
     "text": [
      "DEBUG flwr 2023-09-01 01:45:52,859 | server.py:236 | fit_round 60 received 10 results and 0 failures\n",
      "DEBUG flwr 2023-09-01 01:45:52,934 | server.py:173 | evaluate_round 60: strategy sampled 10 clients (out of 20)\n"
     ]
    },
    {
     "name": "stdout",
     "output_type": "stream",
     "text": [
      "agrregate_fit results list length is  10\n",
      "Saving round 60 aggregated_parameters...\n"
     ]
    },
    {
     "name": "stderr",
     "output_type": "stream",
     "text": [
      "DEBUG flwr 2023-09-01 01:45:53,178 | server.py:187 | evaluate_round 60 received 10 results and 0 failures\n",
      "INFO flwr 2023-09-01 01:45:53,180 | server.py:153 | FL finished in 221.2520050999883\n",
      "INFO flwr 2023-09-01 01:45:53,182 | app.py:225 | app_fit: losses_distributed [(1, 8.519408502772643), (2, 4.43992606284658), (3, 3.5951940850277264), (4, 3.343807763401109), (5, 3.43992606284658), (6, 3.1386321626617377), (7, 2.9833641404805915), (8, 2.9038817005545288), (9, 2.922365988909427), (10, 2.966728280961183), (11, 2.7264325323475047), (12, 2.6580406654343807), (13, 2.654343807763401), (14, 2.7615526802218113), (15, 2.5711645101663585), (16, 2.5064695009242146), (17, 2.598890942698706), (18, 2.6044362292051755), (19, 2.5822550831792976), (20, 2.5286506469500925), (21, 2.5268022181146024), (22, 2.6099815157116453), (23, 2.3512014787430684), (24, 2.345656192236599), (25, 2.43992606284658), (26, 2.44547134935305), (27, 2.4417744916820703), (28, 2.4380776340110906), (29, 2.3086876155268024), (30, 2.367837338262477), (31, 2.3364140480591495), (32, 2.277264325323475), (33, 2.288354898336414), (34, 2.2624768946395566), (35, 2.2495378927911274), (36, 2.288354898336414), (37, 2.3364140480591495), (38, 2.22365988909427), (39, 2.3475046210720887), (40, 2.3401109057301293), (41, 2.3068391866913123), (42, 2.3659889094269873), (43, 2.210720887245841), (44, 2.2957486136783736), (45, 2.192236598890943), (46, 2.297597042513863), (47, 2.1848428835489835), (48, 2.3826247689463957), (49, 2.2273567467652495), (50, 2.1940850277264325), (51, 2.155268022181146), (52, 2.277264325323475), (53, 2.22181146025878), (54, 2.2051756007393717), (55, 2.2624768946395566), (56, 2.301293900184843), (57, 2.2162661737523104), (58, 2.2476894639556377), (59, 2.192236598890943), (60, 2.2365988909426986)]\n",
      "INFO flwr 2023-09-01 01:45:53,183 | app.py:226 | app_fit: metrics_distributed_fit {}\n",
      "INFO flwr 2023-09-01 01:45:53,185 | app.py:227 | app_fit: metrics_distributed {'mse': [(1, 85.19408502772644), (2, 44.399260628465804), (3, 35.951940850277275), (4, 33.43807763401109), (5, 34.399260628465804), (6, 31.386321626617374), (7, 29.83364140480592), (8, 29.038817005545287), (9, 29.223659889094268), (10, 29.667282809611834), (11, 27.264325323475052), (12, 26.580406654343808), (13, 26.543438077634004), (14, 27.615526802218113), (15, 25.711645101663585), (16, 25.064695009242147), (17, 25.98890942698706), (18, 26.04436229205176), (19, 25.822550831792977), (20, 25.28650646950092), (21, 25.268022181146026), (22, 26.099815157116453), (23, 23.512014787430683), (24, 23.456561922365996), (25, 24.399260628465807), (26, 24.454713493530495), (27, 24.417744916820705), (28, 24.380776340110906), (29, 23.086876155268026), (30, 23.678373382624766), (31, 23.364140480591498), (32, 22.77264325323475), (33, 22.883548983364147), (34, 22.624768946395562), (35, 22.49537892791128), (36, 22.883548983364147), (37, 23.364140480591498), (38, 22.2365988909427), (39, 23.47504621072089), (40, 23.401109057301287), (41, 23.068391866913128), (42, 23.659889094269875), (43, 22.10720887245841), (44, 22.957486136783736), (45, 21.92236598890943), (46, 22.975970425138637), (47, 21.848428835489837), (48, 23.82624768946396), (49, 22.273567467652494), (50, 21.940850277264328), (51, 21.552680221811467), (52, 22.77264325323475), (53, 22.218114602587807), (54, 22.05175600739372), (55, 22.624768946395562), (56, 23.012939001848427), (57, 22.1626617375231), (58, 22.476894639556377), (59, 21.92236598890943), (60, 22.365988909426985)]}\n",
      "INFO flwr 2023-09-01 01:45:53,186 | app.py:228 | app_fit: losses_centralized []\n",
      "INFO flwr 2023-09-01 01:45:53,188 | app.py:229 | app_fit: metrics_centralized {}\n"
     ]
    },
    {
     "name": "stdout",
     "output_type": "stream",
     "text": [
      "agrregate_evaluate results list length is  10\n",
      "server round is  60\n",
      "loss is  2.2365988909426986\n",
      "History (loss, distributed):\n",
      "\tround 1: 8.519408502772643\n",
      "\tround 2: 4.43992606284658\n",
      "\tround 3: 3.5951940850277264\n",
      "\tround 4: 3.343807763401109\n",
      "\tround 5: 3.43992606284658\n",
      "\tround 6: 3.1386321626617377\n",
      "\tround 7: 2.9833641404805915\n",
      "\tround 8: 2.9038817005545288\n",
      "\tround 9: 2.922365988909427\n",
      "\tround 10: 2.966728280961183\n",
      "\tround 11: 2.7264325323475047\n",
      "\tround 12: 2.6580406654343807\n",
      "\tround 13: 2.654343807763401\n",
      "\tround 14: 2.7615526802218113\n",
      "\tround 15: 2.5711645101663585\n",
      "\tround 16: 2.5064695009242146\n",
      "\tround 17: 2.598890942698706\n",
      "\tround 18: 2.6044362292051755\n",
      "\tround 19: 2.5822550831792976\n",
      "\tround 20: 2.5286506469500925\n",
      "\tround 21: 2.5268022181146024\n",
      "\tround 22: 2.6099815157116453\n",
      "\tround 23: 2.3512014787430684\n",
      "\tround 24: 2.345656192236599\n",
      "\tround 25: 2.43992606284658\n",
      "\tround 26: 2.44547134935305\n",
      "\tround 27: 2.4417744916820703\n",
      "\tround 28: 2.4380776340110906\n",
      "\tround 29: 2.3086876155268024\n",
      "\tround 30: 2.367837338262477\n",
      "\tround 31: 2.3364140480591495\n",
      "\tround 32: 2.277264325323475\n",
      "\tround 33: 2.288354898336414\n",
      "\tround 34: 2.2624768946395566\n",
      "\tround 35: 2.2495378927911274\n",
      "\tround 36: 2.288354898336414\n",
      "\tround 37: 2.3364140480591495\n",
      "\tround 38: 2.22365988909427\n",
      "\tround 39: 2.3475046210720887\n",
      "\tround 40: 2.3401109057301293\n",
      "\tround 41: 2.3068391866913123\n",
      "\tround 42: 2.3659889094269873\n",
      "\tround 43: 2.210720887245841\n",
      "\tround 44: 2.2957486136783736\n",
      "\tround 45: 2.192236598890943\n",
      "\tround 46: 2.297597042513863\n",
      "\tround 47: 2.1848428835489835\n",
      "\tround 48: 2.3826247689463957\n",
      "\tround 49: 2.2273567467652495\n",
      "\tround 50: 2.1940850277264325\n",
      "\tround 51: 2.155268022181146\n",
      "\tround 52: 2.277264325323475\n",
      "\tround 53: 2.22181146025878\n",
      "\tround 54: 2.2051756007393717\n",
      "\tround 55: 2.2624768946395566\n",
      "\tround 56: 2.301293900184843\n",
      "\tround 57: 2.2162661737523104\n",
      "\tround 58: 2.2476894639556377\n",
      "\tround 59: 2.192236598890943\n",
      "\tround 60: 2.2365988909426986\n",
      "History (metrics, distributed, evaluate):\n",
      "{'mse': [(1, 85.19408502772644), (2, 44.399260628465804), (3, 35.951940850277275), (4, 33.43807763401109), (5, 34.399260628465804), (6, 31.386321626617374), (7, 29.83364140480592), (8, 29.038817005545287), (9, 29.223659889094268), (10, 29.667282809611834), (11, 27.264325323475052), (12, 26.580406654343808), (13, 26.543438077634004), (14, 27.615526802218113), (15, 25.711645101663585), (16, 25.064695009242147), (17, 25.98890942698706), (18, 26.04436229205176), (19, 25.822550831792977), (20, 25.28650646950092), (21, 25.268022181146026), (22, 26.099815157116453), (23, 23.512014787430683), (24, 23.456561922365996), (25, 24.399260628465807), (26, 24.454713493530495), (27, 24.417744916820705), (28, 24.380776340110906), (29, 23.086876155268026), (30, 23.678373382624766), (31, 23.364140480591498), (32, 22.77264325323475), (33, 22.883548983364147), (34, 22.624768946395562), (35, 22.49537892791128), (36, 22.883548983364147), (37, 23.364140480591498), (38, 22.2365988909427), (39, 23.47504621072089), (40, 23.401109057301287), (41, 23.068391866913128), (42, 23.659889094269875), (43, 22.10720887245841), (44, 22.957486136783736), (45, 21.92236598890943), (46, 22.975970425138637), (47, 21.848428835489837), (48, 23.82624768946396), (49, 22.273567467652494), (50, 21.940850277264328), (51, 21.552680221811467), (52, 22.77264325323475), (53, 22.218114602587807), (54, 22.05175600739372), (55, 22.624768946395562), (56, 23.012939001848427), (57, 22.1626617375231), (58, 22.476894639556377), (59, 21.92236598890943), (60, 22.365988909426985)]}\n",
      "[(1, 8.519408502772643), (2, 4.43992606284658), (3, 3.5951940850277264), (4, 3.343807763401109), (5, 3.43992606284658), (6, 3.1386321626617377), (7, 2.9833641404805915), (8, 2.9038817005545288), (9, 2.922365988909427), (10, 2.966728280961183), (11, 2.7264325323475047), (12, 2.6580406654343807), (13, 2.654343807763401), (14, 2.7615526802218113), (15, 2.5711645101663585), (16, 2.5064695009242146), (17, 2.598890942698706), (18, 2.6044362292051755), (19, 2.5822550831792976), (20, 2.5286506469500925), (21, 2.5268022181146024), (22, 2.6099815157116453), (23, 2.3512014787430684), (24, 2.345656192236599), (25, 2.43992606284658), (26, 2.44547134935305), (27, 2.4417744916820703), (28, 2.4380776340110906), (29, 2.3086876155268024), (30, 2.367837338262477), (31, 2.3364140480591495), (32, 2.277264325323475), (33, 2.288354898336414), (34, 2.2624768946395566), (35, 2.2495378927911274), (36, 2.288354898336414), (37, 2.3364140480591495), (38, 2.22365988909427), (39, 2.3475046210720887), (40, 2.3401109057301293), (41, 2.3068391866913123), (42, 2.3659889094269873), (43, 2.210720887245841), (44, 2.2957486136783736), (45, 2.192236598890943), (46, 2.297597042513863), (47, 2.1848428835489835), (48, 2.3826247689463957), (49, 2.2273567467652495), (50, 2.1940850277264325), (51, 2.155268022181146), (52, 2.277264325323475), (53, 2.22181146025878), (54, 2.2051756007393717), (55, 2.2624768946395566), (56, 2.301293900184843), (57, 2.2162661737523104), (58, 2.2476894639556377), (59, 2.192236598890943), (60, 2.2365988909426986)]\n",
      "Fold 2:\n",
      "split [0.05, 0.05, 0.05, 0.05, 0.05, 0.05, 0.05, 0.05, 0.05, 0.05, 0.05, 0.05, 0.05, 0.05, 0.05, 0.05, 0.05, 0.05, 0.05, 0.05]\n",
      "time 0:04:10.095290\n",
      "mse [2.2365988909426986]\n",
      "auc [0.8719002050580998]\n"
     ]
    }
   ],
   "source": [
    "split = [0.05, 0.05, 0.05, 0.05, 0.05, 0.05, 0.05, 0.05, 0.05, 0.05,\n",
    "         0.05, 0.05, 0.05, 0.05, 0.05, 0.05, 0.05, 0.05, 0.05, 0.05]\n",
    "do_fl(split)"
   ],
   "metadata": {
    "collapsed": false,
    "ExecuteTime": {
     "end_time": "2023-09-01T00:45:53.345140400Z",
     "start_time": "2023-09-01T00:41:43.200984400Z"
    }
   }
  },
  {
   "cell_type": "code",
   "execution_count": 20,
   "outputs": [
    {
     "name": "stdout",
     "output_type": "stream",
     "text": [
      "<class 'torch.Tensor'>\n",
      "<class 'torch.Tensor'>\n",
      "Fold 1:\n",
      "Client 0 trainset shape torch.Size([3540, 22])\n",
      "Client 1 trainset shape torch.Size([77, 22])\n",
      "Client 2 trainset shape torch.Size([78, 22])\n",
      "Client 3 trainset shape torch.Size([78, 22])\n",
      "Client 4 trainset shape torch.Size([84, 22])\n"
     ]
    },
    {
     "name": "stderr",
     "output_type": "stream",
     "text": [
      "INFO flwr 2023-09-01 01:45:53,444 | app.py:145 | Starting Flower simulation, config: ServerConfig(num_rounds=60, round_timeout=None)\n"
     ]
    },
    {
     "name": "stdout",
     "output_type": "stream",
     "text": [
      "Client 5 trainset shape torch.Size([105, 22])\n",
      "Client 6 trainset shape torch.Size([104, 22])\n",
      "Client 7 trainset shape torch.Size([108, 22])\n",
      "Client 8 trainset shape torch.Size([70, 22])\n",
      "Client 9 trainset shape torch.Size([77, 22])\n",
      "Client 10 trainset shape torch.Size([78, 22])\n",
      "Client 11 trainset shape torch.Size([84, 22])\n",
      "Client 12 trainset shape torch.Size([108, 22])\n",
      "Client 13 trainset shape torch.Size([112, 22])\n",
      "Client 14 trainset shape torch.Size([70, 22])\n",
      "Client 15 trainset shape torch.Size([72, 22])\n",
      "Client 16 trainset shape torch.Size([77, 22])\n",
      "Client 17 trainset shape torch.Size([65, 22])\n",
      "Client 18 trainset shape torch.Size([96, 22])\n",
      "Client 19 trainset shape torch.Size([126, 22])\n",
      "FL started training on cpu\n",
      "Number of available GPUs: 0\n"
     ]
    },
    {
     "name": "stderr",
     "output_type": "stream",
     "text": [
      "2023-09-01 01:46:04,112\tINFO worker.py:1627 -- Started a local Ray instance. View the dashboard at \u001B[1m\u001B[32m127.0.0.1:8267 \u001B[39m\u001B[22m\n",
      "INFO flwr 2023-09-01 01:46:14,288 | app.py:179 | Flower VCE: Ray initialized with resources: {'node:127.0.0.1': 1.0, 'memory': 1716456654.0, 'object_store_memory': 858228326.0, 'GPU': 1.0, 'CPU': 8.0}\n",
      "INFO flwr 2023-09-01 01:46:14,292 | server.py:89 | Initializing global parameters\n",
      "INFO flwr 2023-09-01 01:46:14,294 | server.py:276 | Requesting initial parameters from one random client\n",
      "INFO flwr 2023-09-01 01:46:18,840 | server.py:280 | Received initial parameters from one random client\n",
      "INFO flwr 2023-09-01 01:46:18,841 | server.py:91 | Evaluating initial parameters\n",
      "INFO flwr 2023-09-01 01:46:18,843 | server.py:104 | FL starting\n",
      "DEBUG flwr 2023-09-01 01:46:18,844 | server.py:222 | fit_round 1: strategy sampled 10 clients (out of 20)\n",
      "DEBUG flwr 2023-09-01 01:46:33,468 | server.py:236 | fit_round 1 received 10 results and 0 failures\n",
      "WARNING flwr 2023-09-01 01:46:33,551 | fedavg.py:242 | No fit_metrics_aggregation_fn provided\n",
      "DEBUG flwr 2023-09-01 01:46:33,576 | server.py:173 | evaluate_round 1: strategy sampled 10 clients (out of 20)\n"
     ]
    },
    {
     "name": "stdout",
     "output_type": "stream",
     "text": [
      "agrregate_fit results list length is  10\n",
      "Saving round 1 aggregated_parameters...\n"
     ]
    },
    {
     "name": "stderr",
     "output_type": "stream",
     "text": [
      "DEBUG flwr 2023-09-01 01:46:33,888 | server.py:187 | evaluate_round 1 received 10 results and 0 failures\n",
      "DEBUG flwr 2023-09-01 01:46:33,891 | server.py:222 | fit_round 2: strategy sampled 10 clients (out of 20)\n"
     ]
    },
    {
     "name": "stdout",
     "output_type": "stream",
     "text": [
      "agrregate_evaluate results list length is  10\n",
      "server round is  1\n",
      "loss is  10.687615526802219\n"
     ]
    },
    {
     "name": "stderr",
     "output_type": "stream",
     "text": [
      "DEBUG flwr 2023-09-01 01:46:35,252 | server.py:236 | fit_round 2 received 10 results and 0 failures\n",
      "DEBUG flwr 2023-09-01 01:46:35,341 | server.py:173 | evaluate_round 2: strategy sampled 10 clients (out of 20)\n"
     ]
    },
    {
     "name": "stdout",
     "output_type": "stream",
     "text": [
      "agrregate_fit results list length is  10\n",
      "Saving round 2 aggregated_parameters...\n"
     ]
    },
    {
     "name": "stderr",
     "output_type": "stream",
     "text": [
      "DEBUG flwr 2023-09-01 01:46:35,624 | server.py:187 | evaluate_round 2 received 10 results and 0 failures\n",
      "DEBUG flwr 2023-09-01 01:46:35,626 | server.py:222 | fit_round 3: strategy sampled 10 clients (out of 20)\n"
     ]
    },
    {
     "name": "stdout",
     "output_type": "stream",
     "text": [
      "agrregate_evaluate results list length is  10\n",
      "server round is  2\n",
      "loss is  10.341959334565619\n"
     ]
    },
    {
     "name": "stderr",
     "output_type": "stream",
     "text": [
      "DEBUG flwr 2023-09-01 01:46:44,610 | server.py:236 | fit_round 3 received 10 results and 0 failures\n",
      "DEBUG flwr 2023-09-01 01:46:44,675 | server.py:173 | evaluate_round 3: strategy sampled 10 clients (out of 20)\n"
     ]
    },
    {
     "name": "stdout",
     "output_type": "stream",
     "text": [
      "agrregate_fit results list length is  10\n",
      "Saving round 3 aggregated_parameters...\n"
     ]
    },
    {
     "name": "stderr",
     "output_type": "stream",
     "text": [
      "DEBUG flwr 2023-09-01 01:46:44,930 | server.py:187 | evaluate_round 3 received 10 results and 0 failures\n",
      "DEBUG flwr 2023-09-01 01:46:44,932 | server.py:222 | fit_round 4: strategy sampled 10 clients (out of 20)\n"
     ]
    },
    {
     "name": "stdout",
     "output_type": "stream",
     "text": [
      "agrregate_evaluate results list length is  10\n",
      "server round is  3\n",
      "loss is  5.007393715341959\n"
     ]
    },
    {
     "name": "stderr",
     "output_type": "stream",
     "text": [
      "DEBUG flwr 2023-09-01 01:46:46,234 | server.py:236 | fit_round 4 received 10 results and 0 failures\n",
      "DEBUG flwr 2023-09-01 01:46:46,338 | server.py:173 | evaluate_round 4: strategy sampled 10 clients (out of 20)\n"
     ]
    },
    {
     "name": "stdout",
     "output_type": "stream",
     "text": [
      "agrregate_fit results list length is  10\n",
      "Saving round 4 aggregated_parameters...\n"
     ]
    },
    {
     "name": "stderr",
     "output_type": "stream",
     "text": [
      "DEBUG flwr 2023-09-01 01:46:46,685 | server.py:187 | evaluate_round 4 received 10 results and 0 failures\n",
      "DEBUG flwr 2023-09-01 01:46:46,688 | server.py:222 | fit_round 5: strategy sampled 10 clients (out of 20)\n"
     ]
    },
    {
     "name": "stdout",
     "output_type": "stream",
     "text": [
      "agrregate_evaluate results list length is  10\n",
      "server round is  4\n",
      "loss is  2.741219963031423\n"
     ]
    },
    {
     "name": "stderr",
     "output_type": "stream",
     "text": [
      "DEBUG flwr 2023-09-01 01:46:48,200 | server.py:236 | fit_round 5 received 10 results and 0 failures\n",
      "DEBUG flwr 2023-09-01 01:46:48,314 | server.py:173 | evaluate_round 5: strategy sampled 10 clients (out of 20)\n"
     ]
    },
    {
     "name": "stdout",
     "output_type": "stream",
     "text": [
      "agrregate_fit results list length is  10\n",
      "Saving round 5 aggregated_parameters...\n"
     ]
    },
    {
     "name": "stderr",
     "output_type": "stream",
     "text": [
      "DEBUG flwr 2023-09-01 01:46:48,676 | server.py:187 | evaluate_round 5 received 10 results and 0 failures\n",
      "DEBUG flwr 2023-09-01 01:46:48,680 | server.py:222 | fit_round 6: strategy sampled 10 clients (out of 20)\n"
     ]
    },
    {
     "name": "stdout",
     "output_type": "stream",
     "text": [
      "agrregate_evaluate results list length is  10\n",
      "server round is  5\n",
      "loss is  2.6266173752310538\n"
     ]
    },
    {
     "name": "stderr",
     "output_type": "stream",
     "text": [
      "DEBUG flwr 2023-09-01 01:46:50,259 | server.py:236 | fit_round 6 received 10 results and 0 failures\n",
      "DEBUG flwr 2023-09-01 01:46:50,351 | server.py:173 | evaluate_round 6: strategy sampled 10 clients (out of 20)\n"
     ]
    },
    {
     "name": "stdout",
     "output_type": "stream",
     "text": [
      "agrregate_fit results list length is  10\n",
      "Saving round 6 aggregated_parameters...\n"
     ]
    },
    {
     "name": "stderr",
     "output_type": "stream",
     "text": [
      "DEBUG flwr 2023-09-01 01:46:50,634 | server.py:187 | evaluate_round 6 received 10 results and 0 failures\n",
      "DEBUG flwr 2023-09-01 01:46:50,636 | server.py:222 | fit_round 7: strategy sampled 10 clients (out of 20)\n"
     ]
    },
    {
     "name": "stdout",
     "output_type": "stream",
     "text": [
      "agrregate_evaluate results list length is  10\n",
      "server round is  6\n",
      "loss is  2.532347504621072\n"
     ]
    },
    {
     "name": "stderr",
     "output_type": "stream",
     "text": [
      "DEBUG flwr 2023-09-01 01:46:51,895 | server.py:236 | fit_round 7 received 10 results and 0 failures\n",
      "DEBUG flwr 2023-09-01 01:46:51,981 | server.py:173 | evaluate_round 7: strategy sampled 10 clients (out of 20)\n"
     ]
    },
    {
     "name": "stdout",
     "output_type": "stream",
     "text": [
      "agrregate_fit results list length is  10\n",
      "Saving round 7 aggregated_parameters...\n"
     ]
    },
    {
     "name": "stderr",
     "output_type": "stream",
     "text": [
      "DEBUG flwr 2023-09-01 01:46:52,241 | server.py:187 | evaluate_round 7 received 10 results and 0 failures\n",
      "DEBUG flwr 2023-09-01 01:46:52,245 | server.py:222 | fit_round 8: strategy sampled 10 clients (out of 20)\n"
     ]
    },
    {
     "name": "stdout",
     "output_type": "stream",
     "text": [
      "agrregate_evaluate results list length is  10\n",
      "server round is  7\n",
      "loss is  2.532347504621072\n"
     ]
    },
    {
     "name": "stderr",
     "output_type": "stream",
     "text": [
      "DEBUG flwr 2023-09-01 01:47:03,071 | server.py:236 | fit_round 8 received 10 results and 0 failures\n",
      "DEBUG flwr 2023-09-01 01:47:03,121 | server.py:173 | evaluate_round 8: strategy sampled 10 clients (out of 20)\n"
     ]
    },
    {
     "name": "stdout",
     "output_type": "stream",
     "text": [
      "agrregate_fit results list length is  10\n",
      "Saving round 8 aggregated_parameters...\n"
     ]
    },
    {
     "name": "stderr",
     "output_type": "stream",
     "text": [
      "DEBUG flwr 2023-09-01 01:47:03,354 | server.py:187 | evaluate_round 8 received 10 results and 0 failures\n",
      "DEBUG flwr 2023-09-01 01:47:03,357 | server.py:222 | fit_round 9: strategy sampled 10 clients (out of 20)\n"
     ]
    },
    {
     "name": "stdout",
     "output_type": "stream",
     "text": [
      "agrregate_evaluate results list length is  10\n",
      "server round is  8\n",
      "loss is  2.5175600739371533\n"
     ]
    },
    {
     "name": "stderr",
     "output_type": "stream",
     "text": [
      "DEBUG flwr 2023-09-01 01:47:13,677 | server.py:236 | fit_round 9 received 10 results and 0 failures\n",
      "DEBUG flwr 2023-09-01 01:47:13,784 | server.py:173 | evaluate_round 9: strategy sampled 10 clients (out of 20)\n"
     ]
    },
    {
     "name": "stdout",
     "output_type": "stream",
     "text": [
      "agrregate_fit results list length is  10\n",
      "Saving round 9 aggregated_parameters...\n"
     ]
    },
    {
     "name": "stderr",
     "output_type": "stream",
     "text": [
      "DEBUG flwr 2023-09-01 01:47:14,141 | server.py:187 | evaluate_round 9 received 10 results and 0 failures\n",
      "DEBUG flwr 2023-09-01 01:47:14,146 | server.py:222 | fit_round 10: strategy sampled 10 clients (out of 20)\n"
     ]
    },
    {
     "name": "stdout",
     "output_type": "stream",
     "text": [
      "agrregate_evaluate results list length is  10\n",
      "server round is  9\n",
      "loss is  2.8059149722735675\n"
     ]
    },
    {
     "name": "stderr",
     "output_type": "stream",
     "text": [
      "DEBUG flwr 2023-09-01 01:47:15,610 | server.py:236 | fit_round 10 received 10 results and 0 failures\n",
      "DEBUG flwr 2023-09-01 01:47:15,755 | server.py:173 | evaluate_round 10: strategy sampled 10 clients (out of 20)\n"
     ]
    },
    {
     "name": "stdout",
     "output_type": "stream",
     "text": [
      "agrregate_fit results list length is  10\n",
      "Saving round 10 aggregated_parameters...\n"
     ]
    },
    {
     "name": "stderr",
     "output_type": "stream",
     "text": [
      "DEBUG flwr 2023-09-01 01:47:16,159 | server.py:187 | evaluate_round 10 received 10 results and 0 failures\n",
      "DEBUG flwr 2023-09-01 01:47:16,162 | server.py:222 | fit_round 11: strategy sampled 10 clients (out of 20)\n"
     ]
    },
    {
     "name": "stdout",
     "output_type": "stream",
     "text": [
      "agrregate_evaluate results list length is  10\n",
      "server round is  10\n",
      "loss is  2.210720887245841\n"
     ]
    },
    {
     "name": "stderr",
     "output_type": "stream",
     "text": [
      "DEBUG flwr 2023-09-01 01:47:17,643 | server.py:236 | fit_round 11 received 10 results and 0 failures\n",
      "DEBUG flwr 2023-09-01 01:47:17,740 | server.py:173 | evaluate_round 11: strategy sampled 10 clients (out of 20)\n"
     ]
    },
    {
     "name": "stdout",
     "output_type": "stream",
     "text": [
      "agrregate_fit results list length is  10\n",
      "Saving round 11 aggregated_parameters...\n"
     ]
    },
    {
     "name": "stderr",
     "output_type": "stream",
     "text": [
      "DEBUG flwr 2023-09-01 01:47:18,053 | server.py:187 | evaluate_round 11 received 10 results and 0 failures\n",
      "DEBUG flwr 2023-09-01 01:47:18,056 | server.py:222 | fit_round 12: strategy sampled 10 clients (out of 20)\n"
     ]
    },
    {
     "name": "stdout",
     "output_type": "stream",
     "text": [
      "agrregate_evaluate results list length is  10\n",
      "server round is  11\n",
      "loss is  2.2365988909426986\n"
     ]
    },
    {
     "name": "stderr",
     "output_type": "stream",
     "text": [
      "DEBUG flwr 2023-09-01 01:47:19,520 | server.py:236 | fit_round 12 received 10 results and 0 failures\n",
      "DEBUG flwr 2023-09-01 01:47:19,642 | server.py:173 | evaluate_round 12: strategy sampled 10 clients (out of 20)\n"
     ]
    },
    {
     "name": "stdout",
     "output_type": "stream",
     "text": [
      "agrregate_fit results list length is  10\n",
      "Saving round 12 aggregated_parameters...\n"
     ]
    },
    {
     "name": "stderr",
     "output_type": "stream",
     "text": [
      "DEBUG flwr 2023-09-01 01:47:20,064 | server.py:187 | evaluate_round 12 received 10 results and 0 failures\n",
      "DEBUG flwr 2023-09-01 01:47:20,067 | server.py:222 | fit_round 13: strategy sampled 10 clients (out of 20)\n"
     ]
    },
    {
     "name": "stdout",
     "output_type": "stream",
     "text": [
      "agrregate_evaluate results list length is  10\n",
      "server round is  12\n",
      "loss is  2.1940850277264325\n"
     ]
    },
    {
     "name": "stderr",
     "output_type": "stream",
     "text": [
      "DEBUG flwr 2023-09-01 01:47:21,619 | server.py:236 | fit_round 13 received 10 results and 0 failures\n",
      "DEBUG flwr 2023-09-01 01:47:21,736 | server.py:173 | evaluate_round 13: strategy sampled 10 clients (out of 20)\n"
     ]
    },
    {
     "name": "stdout",
     "output_type": "stream",
     "text": [
      "agrregate_fit results list length is  10\n",
      "Saving round 13 aggregated_parameters...\n"
     ]
    },
    {
     "name": "stderr",
     "output_type": "stream",
     "text": [
      "DEBUG flwr 2023-09-01 01:47:22,055 | server.py:187 | evaluate_round 13 received 10 results and 0 failures\n",
      "DEBUG flwr 2023-09-01 01:47:22,057 | server.py:222 | fit_round 14: strategy sampled 10 clients (out of 20)\n"
     ]
    },
    {
     "name": "stdout",
     "output_type": "stream",
     "text": [
      "agrregate_evaluate results list length is  10\n",
      "server round is  13\n",
      "loss is  2.297597042513863\n"
     ]
    },
    {
     "name": "stderr",
     "output_type": "stream",
     "text": [
      "DEBUG flwr 2023-09-01 01:47:23,323 | server.py:236 | fit_round 14 received 10 results and 0 failures\n",
      "DEBUG flwr 2023-09-01 01:47:23,409 | server.py:173 | evaluate_round 14: strategy sampled 10 clients (out of 20)\n"
     ]
    },
    {
     "name": "stdout",
     "output_type": "stream",
     "text": [
      "agrregate_fit results list length is  10\n",
      "Saving round 14 aggregated_parameters...\n"
     ]
    },
    {
     "name": "stderr",
     "output_type": "stream",
     "text": [
      "DEBUG flwr 2023-09-01 01:47:23,743 | server.py:187 | evaluate_round 14 received 10 results and 0 failures\n",
      "DEBUG flwr 2023-09-01 01:47:23,747 | server.py:222 | fit_round 15: strategy sampled 10 clients (out of 20)\n"
     ]
    },
    {
     "name": "stdout",
     "output_type": "stream",
     "text": [
      "agrregate_evaluate results list length is  10\n",
      "server round is  14\n",
      "loss is  2.201478743068392\n"
     ]
    },
    {
     "name": "stderr",
     "output_type": "stream",
     "text": [
      "DEBUG flwr 2023-09-01 01:47:25,100 | server.py:236 | fit_round 15 received 10 results and 0 failures\n",
      "DEBUG flwr 2023-09-01 01:47:25,207 | server.py:173 | evaluate_round 15: strategy sampled 10 clients (out of 20)\n"
     ]
    },
    {
     "name": "stdout",
     "output_type": "stream",
     "text": [
      "agrregate_fit results list length is  10\n",
      "Saving round 15 aggregated_parameters...\n"
     ]
    },
    {
     "name": "stderr",
     "output_type": "stream",
     "text": [
      "DEBUG flwr 2023-09-01 01:47:25,517 | server.py:187 | evaluate_round 15 received 10 results and 0 failures\n",
      "DEBUG flwr 2023-09-01 01:47:25,520 | server.py:222 | fit_round 16: strategy sampled 10 clients (out of 20)\n"
     ]
    },
    {
     "name": "stdout",
     "output_type": "stream",
     "text": [
      "agrregate_evaluate results list length is  10\n",
      "server round is  15\n",
      "loss is  2.3068391866913123\n"
     ]
    },
    {
     "name": "stderr",
     "output_type": "stream",
     "text": [
      "DEBUG flwr 2023-09-01 01:47:36,923 | server.py:236 | fit_round 16 received 10 results and 0 failures\n",
      "DEBUG flwr 2023-09-01 01:47:37,011 | server.py:173 | evaluate_round 16: strategy sampled 10 clients (out of 20)\n"
     ]
    },
    {
     "name": "stdout",
     "output_type": "stream",
     "text": [
      "agrregate_fit results list length is  10\n",
      "Saving round 16 aggregated_parameters...\n"
     ]
    },
    {
     "name": "stderr",
     "output_type": "stream",
     "text": [
      "DEBUG flwr 2023-09-01 01:47:37,283 | server.py:187 | evaluate_round 16 received 10 results and 0 failures\n",
      "DEBUG flwr 2023-09-01 01:47:37,286 | server.py:222 | fit_round 17: strategy sampled 10 clients (out of 20)\n"
     ]
    },
    {
     "name": "stdout",
     "output_type": "stream",
     "text": [
      "agrregate_evaluate results list length is  10\n",
      "server round is  16\n",
      "loss is  2.3382624768946396\n"
     ]
    },
    {
     "name": "stderr",
     "output_type": "stream",
     "text": [
      "DEBUG flwr 2023-09-01 01:47:38,571 | server.py:236 | fit_round 17 received 10 results and 0 failures\n",
      "DEBUG flwr 2023-09-01 01:47:38,665 | server.py:173 | evaluate_round 17: strategy sampled 10 clients (out of 20)\n"
     ]
    },
    {
     "name": "stdout",
     "output_type": "stream",
     "text": [
      "agrregate_fit results list length is  10\n",
      "Saving round 17 aggregated_parameters...\n"
     ]
    },
    {
     "name": "stderr",
     "output_type": "stream",
     "text": [
      "DEBUG flwr 2023-09-01 01:47:38,963 | server.py:187 | evaluate_round 17 received 10 results and 0 failures\n",
      "DEBUG flwr 2023-09-01 01:47:38,965 | server.py:222 | fit_round 18: strategy sampled 10 clients (out of 20)\n"
     ]
    },
    {
     "name": "stdout",
     "output_type": "stream",
     "text": [
      "agrregate_evaluate results list length is  10\n",
      "server round is  17\n",
      "loss is  2.1719038817005547\n"
     ]
    },
    {
     "name": "stderr",
     "output_type": "stream",
     "text": [
      "DEBUG flwr 2023-09-01 01:47:48,263 | server.py:236 | fit_round 18 received 10 results and 0 failures\n",
      "DEBUG flwr 2023-09-01 01:47:48,324 | server.py:173 | evaluate_round 18: strategy sampled 10 clients (out of 20)\n"
     ]
    },
    {
     "name": "stdout",
     "output_type": "stream",
     "text": [
      "agrregate_fit results list length is  10\n",
      "Saving round 18 aggregated_parameters...\n"
     ]
    },
    {
     "name": "stderr",
     "output_type": "stream",
     "text": [
      "DEBUG flwr 2023-09-01 01:47:48,507 | server.py:187 | evaluate_round 18 received 10 results and 0 failures\n",
      "DEBUG flwr 2023-09-01 01:47:48,509 | server.py:222 | fit_round 19: strategy sampled 10 clients (out of 20)\n"
     ]
    },
    {
     "name": "stdout",
     "output_type": "stream",
     "text": [
      "agrregate_evaluate results list length is  10\n",
      "server round is  18\n",
      "loss is  2.654343807763401\n"
     ]
    },
    {
     "name": "stderr",
     "output_type": "stream",
     "text": [
      "DEBUG flwr 2023-09-01 01:47:58,478 | server.py:236 | fit_round 19 received 10 results and 0 failures\n",
      "DEBUG flwr 2023-09-01 01:47:58,543 | server.py:173 | evaluate_round 19: strategy sampled 10 clients (out of 20)\n"
     ]
    },
    {
     "name": "stdout",
     "output_type": "stream",
     "text": [
      "agrregate_fit results list length is  10\n",
      "Saving round 19 aggregated_parameters...\n"
     ]
    },
    {
     "name": "stderr",
     "output_type": "stream",
     "text": [
      "DEBUG flwr 2023-09-01 01:47:58,817 | server.py:187 | evaluate_round 19 received 10 results and 0 failures\n",
      "DEBUG flwr 2023-09-01 01:47:58,819 | server.py:222 | fit_round 20: strategy sampled 10 clients (out of 20)\n"
     ]
    },
    {
     "name": "stdout",
     "output_type": "stream",
     "text": [
      "agrregate_evaluate results list length is  10\n",
      "server round is  19\n",
      "loss is  2.7597042513863217\n"
     ]
    },
    {
     "name": "stderr",
     "output_type": "stream",
     "text": [
      "DEBUG flwr 2023-09-01 01:48:00,112 | server.py:236 | fit_round 20 received 10 results and 0 failures\n",
      "DEBUG flwr 2023-09-01 01:48:00,199 | server.py:173 | evaluate_round 20: strategy sampled 10 clients (out of 20)\n"
     ]
    },
    {
     "name": "stdout",
     "output_type": "stream",
     "text": [
      "agrregate_fit results list length is  10\n",
      "Saving round 20 aggregated_parameters...\n"
     ]
    },
    {
     "name": "stderr",
     "output_type": "stream",
     "text": [
      "DEBUG flwr 2023-09-01 01:48:00,459 | server.py:187 | evaluate_round 20 received 10 results and 0 failures\n",
      "DEBUG flwr 2023-09-01 01:48:00,461 | server.py:222 | fit_round 21: strategy sampled 10 clients (out of 20)\n"
     ]
    },
    {
     "name": "stdout",
     "output_type": "stream",
     "text": [
      "agrregate_evaluate results list length is  10\n",
      "server round is  20\n",
      "loss is  2.430683918669131\n"
     ]
    },
    {
     "name": "stderr",
     "output_type": "stream",
     "text": [
      "DEBUG flwr 2023-09-01 01:48:01,887 | server.py:236 | fit_round 21 received 10 results and 0 failures\n",
      "DEBUG flwr 2023-09-01 01:48:01,969 | server.py:173 | evaluate_round 21: strategy sampled 10 clients (out of 20)\n"
     ]
    },
    {
     "name": "stdout",
     "output_type": "stream",
     "text": [
      "agrregate_fit results list length is  10\n",
      "Saving round 21 aggregated_parameters...\n"
     ]
    },
    {
     "name": "stderr",
     "output_type": "stream",
     "text": [
      "DEBUG flwr 2023-09-01 01:48:02,246 | server.py:187 | evaluate_round 21 received 10 results and 0 failures\n",
      "DEBUG flwr 2023-09-01 01:48:02,249 | server.py:222 | fit_round 22: strategy sampled 10 clients (out of 20)\n"
     ]
    },
    {
     "name": "stdout",
     "output_type": "stream",
     "text": [
      "agrregate_evaluate results list length is  10\n",
      "server round is  21\n",
      "loss is  2.3364140480591495\n"
     ]
    },
    {
     "name": "stderr",
     "output_type": "stream",
     "text": [
      "DEBUG flwr 2023-09-01 01:48:11,193 | server.py:236 | fit_round 22 received 10 results and 0 failures\n",
      "DEBUG flwr 2023-09-01 01:48:11,247 | server.py:173 | evaluate_round 22: strategy sampled 10 clients (out of 20)\n"
     ]
    },
    {
     "name": "stdout",
     "output_type": "stream",
     "text": [
      "agrregate_fit results list length is  10\n",
      "Saving round 22 aggregated_parameters...\n"
     ]
    },
    {
     "name": "stderr",
     "output_type": "stream",
     "text": [
      "DEBUG flwr 2023-09-01 01:48:11,476 | server.py:187 | evaluate_round 22 received 10 results and 0 failures\n",
      "DEBUG flwr 2023-09-01 01:48:11,479 | server.py:222 | fit_round 23: strategy sampled 10 clients (out of 20)\n"
     ]
    },
    {
     "name": "stdout",
     "output_type": "stream",
     "text": [
      "agrregate_evaluate results list length is  10\n",
      "server round is  22\n",
      "loss is  2.2828096118299444\n"
     ]
    },
    {
     "name": "stderr",
     "output_type": "stream",
     "text": [
      "DEBUG flwr 2023-09-01 01:48:12,718 | server.py:236 | fit_round 23 received 10 results and 0 failures\n",
      "DEBUG flwr 2023-09-01 01:48:12,797 | server.py:173 | evaluate_round 23: strategy sampled 10 clients (out of 20)\n"
     ]
    },
    {
     "name": "stdout",
     "output_type": "stream",
     "text": [
      "agrregate_fit results list length is  10\n",
      "Saving round 23 aggregated_parameters...\n"
     ]
    },
    {
     "name": "stderr",
     "output_type": "stream",
     "text": [
      "DEBUG flwr 2023-09-01 01:48:13,189 | server.py:187 | evaluate_round 23 received 10 results and 0 failures\n",
      "DEBUG flwr 2023-09-01 01:48:13,191 | server.py:222 | fit_round 24: strategy sampled 10 clients (out of 20)\n"
     ]
    },
    {
     "name": "stdout",
     "output_type": "stream",
     "text": [
      "agrregate_evaluate results list length is  10\n",
      "server round is  23\n",
      "loss is  2.256931608133087\n"
     ]
    },
    {
     "name": "stderr",
     "output_type": "stream",
     "text": [
      "DEBUG flwr 2023-09-01 01:48:22,364 | server.py:236 | fit_round 24 received 10 results and 0 failures\n",
      "DEBUG flwr 2023-09-01 01:48:22,440 | server.py:173 | evaluate_round 24: strategy sampled 10 clients (out of 20)\n"
     ]
    },
    {
     "name": "stdout",
     "output_type": "stream",
     "text": [
      "agrregate_fit results list length is  10\n",
      "Saving round 24 aggregated_parameters...\n"
     ]
    },
    {
     "name": "stderr",
     "output_type": "stream",
     "text": [
      "DEBUG flwr 2023-09-01 01:48:22,796 | server.py:187 | evaluate_round 24 received 10 results and 0 failures\n",
      "DEBUG flwr 2023-09-01 01:48:22,800 | server.py:222 | fit_round 25: strategy sampled 10 clients (out of 20)\n"
     ]
    },
    {
     "name": "stdout",
     "output_type": "stream",
     "text": [
      "agrregate_evaluate results list length is  10\n",
      "server round is  24\n",
      "loss is  2.4232902033271717\n"
     ]
    },
    {
     "name": "stderr",
     "output_type": "stream",
     "text": [
      "DEBUG flwr 2023-09-01 01:48:32,667 | server.py:236 | fit_round 25 received 10 results and 0 failures\n",
      "DEBUG flwr 2023-09-01 01:48:32,713 | server.py:173 | evaluate_round 25: strategy sampled 10 clients (out of 20)\n"
     ]
    },
    {
     "name": "stdout",
     "output_type": "stream",
     "text": [
      "agrregate_fit results list length is  10\n",
      "Saving round 25 aggregated_parameters...\n"
     ]
    },
    {
     "name": "stderr",
     "output_type": "stream",
     "text": [
      "DEBUG flwr 2023-09-01 01:48:32,990 | server.py:187 | evaluate_round 25 received 10 results and 0 failures\n",
      "DEBUG flwr 2023-09-01 01:48:32,994 | server.py:222 | fit_round 26: strategy sampled 10 clients (out of 20)\n"
     ]
    },
    {
     "name": "stdout",
     "output_type": "stream",
     "text": [
      "agrregate_evaluate results list length is  10\n",
      "server round is  25\n",
      "loss is  2.4824399260628467\n"
     ]
    },
    {
     "name": "stderr",
     "output_type": "stream",
     "text": [
      "DEBUG flwr 2023-09-01 01:48:41,930 | server.py:236 | fit_round 26 received 10 results and 0 failures\n",
      "DEBUG flwr 2023-09-01 01:48:41,978 | server.py:173 | evaluate_round 26: strategy sampled 10 clients (out of 20)\n"
     ]
    },
    {
     "name": "stdout",
     "output_type": "stream",
     "text": [
      "agrregate_fit results list length is  10\n",
      "Saving round 26 aggregated_parameters...\n"
     ]
    },
    {
     "name": "stderr",
     "output_type": "stream",
     "text": [
      "DEBUG flwr 2023-09-01 01:48:42,263 | server.py:187 | evaluate_round 26 received 10 results and 0 failures\n",
      "DEBUG flwr 2023-09-01 01:48:42,266 | server.py:222 | fit_round 27: strategy sampled 10 clients (out of 20)\n"
     ]
    },
    {
     "name": "stdout",
     "output_type": "stream",
     "text": [
      "agrregate_evaluate results list length is  10\n",
      "server round is  26\n",
      "loss is  2.7911275415896486\n"
     ]
    },
    {
     "name": "stderr",
     "output_type": "stream",
     "text": [
      "DEBUG flwr 2023-09-01 01:48:43,516 | server.py:236 | fit_round 27 received 10 results and 0 failures\n",
      "DEBUG flwr 2023-09-01 01:48:43,638 | server.py:173 | evaluate_round 27: strategy sampled 10 clients (out of 20)\n"
     ]
    },
    {
     "name": "stdout",
     "output_type": "stream",
     "text": [
      "agrregate_fit results list length is  10\n",
      "Saving round 27 aggregated_parameters...\n"
     ]
    },
    {
     "name": "stderr",
     "output_type": "stream",
     "text": [
      "DEBUG flwr 2023-09-01 01:48:43,963 | server.py:187 | evaluate_round 27 received 10 results and 0 failures\n",
      "DEBUG flwr 2023-09-01 01:48:43,967 | server.py:222 | fit_round 28: strategy sampled 10 clients (out of 20)\n"
     ]
    },
    {
     "name": "stdout",
     "output_type": "stream",
     "text": [
      "agrregate_evaluate results list length is  10\n",
      "server round is  27\n",
      "loss is  2.101663585951941\n"
     ]
    },
    {
     "name": "stderr",
     "output_type": "stream",
     "text": [
      "DEBUG flwr 2023-09-01 01:48:45,446 | server.py:236 | fit_round 28 received 10 results and 0 failures\n",
      "DEBUG flwr 2023-09-01 01:48:45,603 | server.py:173 | evaluate_round 28: strategy sampled 10 clients (out of 20)\n"
     ]
    },
    {
     "name": "stdout",
     "output_type": "stream",
     "text": [
      "agrregate_fit results list length is  10\n",
      "Saving round 28 aggregated_parameters...\n"
     ]
    },
    {
     "name": "stderr",
     "output_type": "stream",
     "text": [
      "DEBUG flwr 2023-09-01 01:48:46,026 | server.py:187 | evaluate_round 28 received 10 results and 0 failures\n",
      "DEBUG flwr 2023-09-01 01:48:46,030 | server.py:222 | fit_round 29: strategy sampled 10 clients (out of 20)\n"
     ]
    },
    {
     "name": "stdout",
     "output_type": "stream",
     "text": [
      "agrregate_evaluate results list length is  10\n",
      "server round is  28\n",
      "loss is  2.066543438077634\n"
     ]
    },
    {
     "name": "stderr",
     "output_type": "stream",
     "text": [
      "DEBUG flwr 2023-09-01 01:48:47,387 | server.py:236 | fit_round 29 received 10 results and 0 failures\n",
      "DEBUG flwr 2023-09-01 01:48:47,477 | server.py:173 | evaluate_round 29: strategy sampled 10 clients (out of 20)\n"
     ]
    },
    {
     "name": "stdout",
     "output_type": "stream",
     "text": [
      "agrregate_fit results list length is  10\n",
      "Saving round 29 aggregated_parameters...\n"
     ]
    },
    {
     "name": "stderr",
     "output_type": "stream",
     "text": [
      "DEBUG flwr 2023-09-01 01:48:47,797 | server.py:187 | evaluate_round 29 received 10 results and 0 failures\n",
      "DEBUG flwr 2023-09-01 01:48:47,801 | server.py:222 | fit_round 30: strategy sampled 10 clients (out of 20)\n"
     ]
    },
    {
     "name": "stdout",
     "output_type": "stream",
     "text": [
      "agrregate_evaluate results list length is  10\n",
      "server round is  29\n",
      "loss is  2.0850277264325325\n"
     ]
    },
    {
     "name": "stderr",
     "output_type": "stream",
     "text": [
      "DEBUG flwr 2023-09-01 01:48:49,388 | server.py:236 | fit_round 30 received 10 results and 0 failures\n",
      "DEBUG flwr 2023-09-01 01:48:49,499 | server.py:173 | evaluate_round 30: strategy sampled 10 clients (out of 20)\n"
     ]
    },
    {
     "name": "stdout",
     "output_type": "stream",
     "text": [
      "agrregate_fit results list length is  10\n",
      "Saving round 30 aggregated_parameters...\n"
     ]
    },
    {
     "name": "stderr",
     "output_type": "stream",
     "text": [
      "DEBUG flwr 2023-09-01 01:48:49,890 | server.py:187 | evaluate_round 30 received 10 results and 0 failures\n",
      "DEBUG flwr 2023-09-01 01:48:49,894 | server.py:222 | fit_round 31: strategy sampled 10 clients (out of 20)\n"
     ]
    },
    {
     "name": "stdout",
     "output_type": "stream",
     "text": [
      "agrregate_evaluate results list length is  10\n",
      "server round is  30\n",
      "loss is  2.22365988909427\n"
     ]
    },
    {
     "name": "stderr",
     "output_type": "stream",
     "text": [
      "DEBUG flwr 2023-09-01 01:49:05,588 | server.py:236 | fit_round 31 received 10 results and 0 failures\n",
      "DEBUG flwr 2023-09-01 01:49:05,722 | server.py:173 | evaluate_round 31: strategy sampled 10 clients (out of 20)\n"
     ]
    },
    {
     "name": "stdout",
     "output_type": "stream",
     "text": [
      "agrregate_fit results list length is  10\n",
      "Saving round 31 aggregated_parameters...\n"
     ]
    },
    {
     "name": "stderr",
     "output_type": "stream",
     "text": [
      "DEBUG flwr 2023-09-01 01:49:06,123 | server.py:187 | evaluate_round 31 received 10 results and 0 failures\n",
      "DEBUG flwr 2023-09-01 01:49:06,126 | server.py:222 | fit_round 32: strategy sampled 10 clients (out of 20)\n"
     ]
    },
    {
     "name": "stdout",
     "output_type": "stream",
     "text": [
      "agrregate_evaluate results list length is  10\n",
      "server round is  31\n",
      "loss is  2.3807763401109057\n"
     ]
    },
    {
     "name": "stderr",
     "output_type": "stream",
     "text": [
      "DEBUG flwr 2023-09-01 01:49:22,047 | server.py:236 | fit_round 32 received 10 results and 0 failures\n",
      "DEBUG flwr 2023-09-01 01:49:22,139 | server.py:173 | evaluate_round 32: strategy sampled 10 clients (out of 20)\n"
     ]
    },
    {
     "name": "stdout",
     "output_type": "stream",
     "text": [
      "agrregate_fit results list length is  10\n",
      "Saving round 32 aggregated_parameters...\n"
     ]
    },
    {
     "name": "stderr",
     "output_type": "stream",
     "text": [
      "DEBUG flwr 2023-09-01 01:49:22,441 | server.py:187 | evaluate_round 32 received 10 results and 0 failures\n",
      "DEBUG flwr 2023-09-01 01:49:22,442 | server.py:222 | fit_round 33: strategy sampled 10 clients (out of 20)\n"
     ]
    },
    {
     "name": "stdout",
     "output_type": "stream",
     "text": [
      "agrregate_evaluate results list length is  10\n",
      "server round is  32\n",
      "loss is  2.377079482439926\n"
     ]
    },
    {
     "name": "stderr",
     "output_type": "stream",
     "text": [
      "DEBUG flwr 2023-09-01 01:49:34,932 | server.py:236 | fit_round 33 received 10 results and 0 failures\n",
      "DEBUG flwr 2023-09-01 01:49:35,007 | server.py:173 | evaluate_round 33: strategy sampled 10 clients (out of 20)\n"
     ]
    },
    {
     "name": "stdout",
     "output_type": "stream",
     "text": [
      "agrregate_fit results list length is  10\n",
      "Saving round 33 aggregated_parameters...\n"
     ]
    },
    {
     "name": "stderr",
     "output_type": "stream",
     "text": [
      "DEBUG flwr 2023-09-01 01:49:35,228 | server.py:187 | evaluate_round 33 received 10 results and 0 failures\n",
      "DEBUG flwr 2023-09-01 01:49:35,230 | server.py:222 | fit_round 34: strategy sampled 10 clients (out of 20)\n"
     ]
    },
    {
     "name": "stdout",
     "output_type": "stream",
     "text": [
      "agrregate_evaluate results list length is  10\n",
      "server round is  33\n",
      "loss is  2.4288354898336415\n"
     ]
    },
    {
     "name": "stderr",
     "output_type": "stream",
     "text": [
      "DEBUG flwr 2023-09-01 01:49:36,623 | server.py:236 | fit_round 34 received 10 results and 0 failures\n",
      "DEBUG flwr 2023-09-01 01:49:36,726 | server.py:173 | evaluate_round 34: strategy sampled 10 clients (out of 20)\n"
     ]
    },
    {
     "name": "stdout",
     "output_type": "stream",
     "text": [
      "agrregate_fit results list length is  10\n",
      "Saving round 34 aggregated_parameters...\n"
     ]
    },
    {
     "name": "stderr",
     "output_type": "stream",
     "text": [
      "DEBUG flwr 2023-09-01 01:49:36,979 | server.py:187 | evaluate_round 34 received 10 results and 0 failures\n",
      "DEBUG flwr 2023-09-01 01:49:36,981 | server.py:222 | fit_round 35: strategy sampled 10 clients (out of 20)\n"
     ]
    },
    {
     "name": "stdout",
     "output_type": "stream",
     "text": [
      "agrregate_evaluate results list length is  10\n",
      "server round is  34\n",
      "loss is  2.0831792975970425\n"
     ]
    },
    {
     "name": "stderr",
     "output_type": "stream",
     "text": [
      "DEBUG flwr 2023-09-01 01:49:50,571 | server.py:236 | fit_round 35 received 10 results and 0 failures\n",
      "DEBUG flwr 2023-09-01 01:49:50,657 | server.py:173 | evaluate_round 35: strategy sampled 10 clients (out of 20)\n"
     ]
    },
    {
     "name": "stdout",
     "output_type": "stream",
     "text": [
      "agrregate_fit results list length is  10\n",
      "Saving round 35 aggregated_parameters...\n"
     ]
    },
    {
     "name": "stderr",
     "output_type": "stream",
     "text": [
      "DEBUG flwr 2023-09-01 01:49:50,933 | server.py:187 | evaluate_round 35 received 10 results and 0 failures\n",
      "DEBUG flwr 2023-09-01 01:49:50,936 | server.py:222 | fit_round 36: strategy sampled 10 clients (out of 20)\n"
     ]
    },
    {
     "name": "stdout",
     "output_type": "stream",
     "text": [
      "agrregate_evaluate results list length is  10\n",
      "server round is  35\n",
      "loss is  2.210720887245841\n"
     ]
    },
    {
     "name": "stderr",
     "output_type": "stream",
     "text": [
      "DEBUG flwr 2023-09-01 01:49:52,487 | server.py:236 | fit_round 36 received 10 results and 0 failures\n",
      "DEBUG flwr 2023-09-01 01:49:52,593 | server.py:173 | evaluate_round 36: strategy sampled 10 clients (out of 20)\n"
     ]
    },
    {
     "name": "stdout",
     "output_type": "stream",
     "text": [
      "agrregate_fit results list length is  10\n",
      "Saving round 36 aggregated_parameters...\n"
     ]
    },
    {
     "name": "stderr",
     "output_type": "stream",
     "text": [
      "DEBUG flwr 2023-09-01 01:49:52,837 | server.py:187 | evaluate_round 36 received 10 results and 0 failures\n",
      "DEBUG flwr 2023-09-01 01:49:52,840 | server.py:222 | fit_round 37: strategy sampled 10 clients (out of 20)\n"
     ]
    },
    {
     "name": "stdout",
     "output_type": "stream",
     "text": [
      "agrregate_evaluate results list length is  10\n",
      "server round is  36\n",
      "loss is  2.044362292051756\n"
     ]
    },
    {
     "name": "stderr",
     "output_type": "stream",
     "text": [
      "DEBUG flwr 2023-09-01 01:49:54,018 | server.py:236 | fit_round 37 received 10 results and 0 failures\n",
      "DEBUG flwr 2023-09-01 01:49:54,140 | server.py:173 | evaluate_round 37: strategy sampled 10 clients (out of 20)\n"
     ]
    },
    {
     "name": "stdout",
     "output_type": "stream",
     "text": [
      "agrregate_fit results list length is  10\n",
      "Saving round 37 aggregated_parameters...\n"
     ]
    },
    {
     "name": "stderr",
     "output_type": "stream",
     "text": [
      "DEBUG flwr 2023-09-01 01:49:54,428 | server.py:187 | evaluate_round 37 received 10 results and 0 failures\n",
      "DEBUG flwr 2023-09-01 01:49:54,430 | server.py:222 | fit_round 38: strategy sampled 10 clients (out of 20)\n"
     ]
    },
    {
     "name": "stdout",
     "output_type": "stream",
     "text": [
      "agrregate_evaluate results list length is  10\n",
      "server round is  37\n",
      "loss is  2.033271719038817\n"
     ]
    },
    {
     "name": "stderr",
     "output_type": "stream",
     "text": [
      "DEBUG flwr 2023-09-01 01:50:05,223 | server.py:236 | fit_round 38 received 10 results and 0 failures\n",
      "DEBUG flwr 2023-09-01 01:50:05,288 | server.py:173 | evaluate_round 38: strategy sampled 10 clients (out of 20)\n"
     ]
    },
    {
     "name": "stdout",
     "output_type": "stream",
     "text": [
      "agrregate_fit results list length is  10\n",
      "Saving round 38 aggregated_parameters...\n"
     ]
    },
    {
     "name": "stderr",
     "output_type": "stream",
     "text": [
      "DEBUG flwr 2023-09-01 01:50:05,515 | server.py:187 | evaluate_round 38 received 10 results and 0 failures\n",
      "DEBUG flwr 2023-09-01 01:50:05,516 | server.py:222 | fit_round 39: strategy sampled 10 clients (out of 20)\n"
     ]
    },
    {
     "name": "stdout",
     "output_type": "stream",
     "text": [
      "agrregate_evaluate results list length is  10\n",
      "server round is  38\n",
      "loss is  2.162661737523105\n"
     ]
    },
    {
     "name": "stderr",
     "output_type": "stream",
     "text": [
      "DEBUG flwr 2023-09-01 01:50:06,698 | server.py:236 | fit_round 39 received 10 results and 0 failures\n",
      "DEBUG flwr 2023-09-01 01:50:06,792 | server.py:173 | evaluate_round 39: strategy sampled 10 clients (out of 20)\n"
     ]
    },
    {
     "name": "stdout",
     "output_type": "stream",
     "text": [
      "agrregate_fit results list length is  10\n",
      "Saving round 39 aggregated_parameters...\n"
     ]
    },
    {
     "name": "stderr",
     "output_type": "stream",
     "text": [
      "DEBUG flwr 2023-09-01 01:50:07,246 | server.py:187 | evaluate_round 39 received 10 results and 0 failures\n",
      "DEBUG flwr 2023-09-01 01:50:07,249 | server.py:222 | fit_round 40: strategy sampled 10 clients (out of 20)\n"
     ]
    },
    {
     "name": "stdout",
     "output_type": "stream",
     "text": [
      "agrregate_evaluate results list length is  10\n",
      "server round is  39\n",
      "loss is  2.1404805914972274\n"
     ]
    },
    {
     "name": "stderr",
     "output_type": "stream",
     "text": [
      "DEBUG flwr 2023-09-01 01:50:08,707 | server.py:236 | fit_round 40 received 10 results and 0 failures\n",
      "DEBUG flwr 2023-09-01 01:50:08,813 | server.py:173 | evaluate_round 40: strategy sampled 10 clients (out of 20)\n"
     ]
    },
    {
     "name": "stdout",
     "output_type": "stream",
     "text": [
      "agrregate_fit results list length is  10\n",
      "Saving round 40 aggregated_parameters...\n"
     ]
    },
    {
     "name": "stderr",
     "output_type": "stream",
     "text": [
      "DEBUG flwr 2023-09-01 01:50:09,105 | server.py:187 | evaluate_round 40 received 10 results and 0 failures\n",
      "DEBUG flwr 2023-09-01 01:50:09,107 | server.py:222 | fit_round 41: strategy sampled 10 clients (out of 20)\n"
     ]
    },
    {
     "name": "stdout",
     "output_type": "stream",
     "text": [
      "agrregate_evaluate results list length is  10\n",
      "server round is  40\n",
      "loss is  2.168207024029575\n"
     ]
    },
    {
     "name": "stderr",
     "output_type": "stream",
     "text": [
      "DEBUG flwr 2023-09-01 01:50:23,719 | server.py:236 | fit_round 41 received 10 results and 0 failures\n",
      "DEBUG flwr 2023-09-01 01:50:23,797 | server.py:173 | evaluate_round 41: strategy sampled 10 clients (out of 20)\n"
     ]
    },
    {
     "name": "stdout",
     "output_type": "stream",
     "text": [
      "agrregate_fit results list length is  10\n",
      "Saving round 41 aggregated_parameters...\n"
     ]
    },
    {
     "name": "stderr",
     "output_type": "stream",
     "text": [
      "DEBUG flwr 2023-09-01 01:50:24,068 | server.py:187 | evaluate_round 41 received 10 results and 0 failures\n",
      "DEBUG flwr 2023-09-01 01:50:24,071 | server.py:222 | fit_round 42: strategy sampled 10 clients (out of 20)\n"
     ]
    },
    {
     "name": "stdout",
     "output_type": "stream",
     "text": [
      "agrregate_evaluate results list length is  10\n",
      "server round is  41\n",
      "loss is  2.11460258780037\n"
     ]
    },
    {
     "name": "stderr",
     "output_type": "stream",
     "text": [
      "DEBUG flwr 2023-09-01 01:50:25,435 | server.py:236 | fit_round 42 received 10 results and 0 failures\n",
      "DEBUG flwr 2023-09-01 01:50:25,529 | server.py:173 | evaluate_round 42: strategy sampled 10 clients (out of 20)\n"
     ]
    },
    {
     "name": "stdout",
     "output_type": "stream",
     "text": [
      "agrregate_fit results list length is  10\n",
      "Saving round 42 aggregated_parameters...\n"
     ]
    },
    {
     "name": "stderr",
     "output_type": "stream",
     "text": [
      "DEBUG flwr 2023-09-01 01:50:25,899 | server.py:187 | evaluate_round 42 received 10 results and 0 failures\n",
      "DEBUG flwr 2023-09-01 01:50:25,902 | server.py:222 | fit_round 43: strategy sampled 10 clients (out of 20)\n"
     ]
    },
    {
     "name": "stdout",
     "output_type": "stream",
     "text": [
      "agrregate_evaluate results list length is  10\n",
      "server round is  42\n",
      "loss is  2.075785582255083\n"
     ]
    },
    {
     "name": "stderr",
     "output_type": "stream",
     "text": [
      "DEBUG flwr 2023-09-01 01:50:27,409 | server.py:236 | fit_round 43 received 10 results and 0 failures\n",
      "DEBUG flwr 2023-09-01 01:50:27,511 | server.py:173 | evaluate_round 43: strategy sampled 10 clients (out of 20)\n"
     ]
    },
    {
     "name": "stdout",
     "output_type": "stream",
     "text": [
      "agrregate_fit results list length is  10\n",
      "Saving round 43 aggregated_parameters...\n"
     ]
    },
    {
     "name": "stderr",
     "output_type": "stream",
     "text": [
      "DEBUG flwr 2023-09-01 01:50:27,818 | server.py:187 | evaluate_round 43 received 10 results and 0 failures\n",
      "DEBUG flwr 2023-09-01 01:50:27,821 | server.py:222 | fit_round 44: strategy sampled 10 clients (out of 20)\n"
     ]
    },
    {
     "name": "stdout",
     "output_type": "stream",
     "text": [
      "agrregate_evaluate results list length is  10\n",
      "server round is  43\n",
      "loss is  2.0794824399260627\n"
     ]
    },
    {
     "name": "stderr",
     "output_type": "stream",
     "text": [
      "DEBUG flwr 2023-09-01 01:50:44,723 | server.py:236 | fit_round 44 received 10 results and 0 failures\n",
      "DEBUG flwr 2023-09-01 01:50:44,847 | server.py:173 | evaluate_round 44: strategy sampled 10 clients (out of 20)\n"
     ]
    },
    {
     "name": "stdout",
     "output_type": "stream",
     "text": [
      "agrregate_fit results list length is  10\n",
      "Saving round 44 aggregated_parameters...\n"
     ]
    },
    {
     "name": "stderr",
     "output_type": "stream",
     "text": [
      "DEBUG flwr 2023-09-01 01:50:45,190 | server.py:187 | evaluate_round 44 received 10 results and 0 failures\n",
      "DEBUG flwr 2023-09-01 01:50:45,193 | server.py:222 | fit_round 45: strategy sampled 10 clients (out of 20)\n"
     ]
    },
    {
     "name": "stdout",
     "output_type": "stream",
     "text": [
      "agrregate_evaluate results list length is  10\n",
      "server round is  44\n",
      "loss is  2.153419593345656\n"
     ]
    },
    {
     "name": "stderr",
     "output_type": "stream",
     "text": [
      "DEBUG flwr 2023-09-01 01:50:57,088 | server.py:236 | fit_round 45 received 10 results and 0 failures\n",
      "DEBUG flwr 2023-09-01 01:50:57,139 | server.py:173 | evaluate_round 45: strategy sampled 10 clients (out of 20)\n"
     ]
    },
    {
     "name": "stdout",
     "output_type": "stream",
     "text": [
      "agrregate_fit results list length is  10\n",
      "Saving round 45 aggregated_parameters...\n"
     ]
    },
    {
     "name": "stderr",
     "output_type": "stream",
     "text": [
      "DEBUG flwr 2023-09-01 01:50:57,590 | server.py:187 | evaluate_round 45 received 10 results and 0 failures\n",
      "DEBUG flwr 2023-09-01 01:50:57,592 | server.py:222 | fit_round 46: strategy sampled 10 clients (out of 20)\n"
     ]
    },
    {
     "name": "stdout",
     "output_type": "stream",
     "text": [
      "agrregate_evaluate results list length is  10\n",
      "server round is  45\n",
      "loss is  2.621072088724584\n"
     ]
    },
    {
     "name": "stderr",
     "output_type": "stream",
     "text": [
      "DEBUG flwr 2023-09-01 01:50:58,759 | server.py:236 | fit_round 46 received 10 results and 0 failures\n",
      "DEBUG flwr 2023-09-01 01:50:58,845 | server.py:173 | evaluate_round 46: strategy sampled 10 clients (out of 20)\n"
     ]
    },
    {
     "name": "stdout",
     "output_type": "stream",
     "text": [
      "agrregate_fit results list length is  10\n",
      "Saving round 46 aggregated_parameters...\n"
     ]
    },
    {
     "name": "stderr",
     "output_type": "stream",
     "text": [
      "DEBUG flwr 2023-09-01 01:50:59,096 | server.py:187 | evaluate_round 46 received 10 results and 0 failures\n",
      "DEBUG flwr 2023-09-01 01:50:59,099 | server.py:222 | fit_round 47: strategy sampled 10 clients (out of 20)\n"
     ]
    },
    {
     "name": "stdout",
     "output_type": "stream",
     "text": [
      "agrregate_evaluate results list length is  10\n",
      "server round is  46\n",
      "loss is  2.0720887245841033\n"
     ]
    },
    {
     "name": "stderr",
     "output_type": "stream",
     "text": [
      "DEBUG flwr 2023-09-01 01:51:08,712 | server.py:236 | fit_round 47 received 10 results and 0 failures\n",
      "DEBUG flwr 2023-09-01 01:51:08,776 | server.py:173 | evaluate_round 47: strategy sampled 10 clients (out of 20)\n"
     ]
    },
    {
     "name": "stdout",
     "output_type": "stream",
     "text": [
      "agrregate_fit results list length is  10\n",
      "Saving round 47 aggregated_parameters...\n"
     ]
    },
    {
     "name": "stderr",
     "output_type": "stream",
     "text": [
      "DEBUG flwr 2023-09-01 01:51:08,970 | server.py:187 | evaluate_round 47 received 10 results and 0 failures\n",
      "DEBUG flwr 2023-09-01 01:51:08,973 | server.py:222 | fit_round 48: strategy sampled 10 clients (out of 20)\n"
     ]
    },
    {
     "name": "stdout",
     "output_type": "stream",
     "text": [
      "agrregate_evaluate results list length is  10\n",
      "server round is  47\n",
      "loss is  2.388170055452865\n"
     ]
    },
    {
     "name": "stderr",
     "output_type": "stream",
     "text": [
      "DEBUG flwr 2023-09-01 01:51:10,057 | server.py:236 | fit_round 48 received 10 results and 0 failures\n",
      "DEBUG flwr 2023-09-01 01:51:10,181 | server.py:173 | evaluate_round 48: strategy sampled 10 clients (out of 20)\n"
     ]
    },
    {
     "name": "stdout",
     "output_type": "stream",
     "text": [
      "agrregate_fit results list length is  10\n",
      "Saving round 48 aggregated_parameters...\n"
     ]
    },
    {
     "name": "stderr",
     "output_type": "stream",
     "text": [
      "DEBUG flwr 2023-09-01 01:51:10,486 | server.py:187 | evaluate_round 48 received 10 results and 0 failures\n",
      "DEBUG flwr 2023-09-01 01:51:10,490 | server.py:222 | fit_round 49: strategy sampled 10 clients (out of 20)\n"
     ]
    },
    {
     "name": "stdout",
     "output_type": "stream",
     "text": [
      "agrregate_evaluate results list length is  10\n",
      "server round is  48\n",
      "loss is  2.1053604436229203\n"
     ]
    },
    {
     "name": "stderr",
     "output_type": "stream",
     "text": [
      "DEBUG flwr 2023-09-01 01:51:11,848 | server.py:236 | fit_round 49 received 10 results and 0 failures\n",
      "DEBUG flwr 2023-09-01 01:51:11,945 | server.py:173 | evaluate_round 49: strategy sampled 10 clients (out of 20)\n"
     ]
    },
    {
     "name": "stdout",
     "output_type": "stream",
     "text": [
      "agrregate_fit results list length is  10\n",
      "Saving round 49 aggregated_parameters...\n"
     ]
    },
    {
     "name": "stderr",
     "output_type": "stream",
     "text": [
      "DEBUG flwr 2023-09-01 01:51:13,677 | server.py:187 | evaluate_round 49 received 10 results and 0 failures\n",
      "DEBUG flwr 2023-09-01 01:51:13,681 | server.py:222 | fit_round 50: strategy sampled 10 clients (out of 20)\n"
     ]
    },
    {
     "name": "stdout",
     "output_type": "stream",
     "text": [
      "agrregate_evaluate results list length is  10\n",
      "server round is  49\n",
      "loss is  2.134935304990758\n"
     ]
    },
    {
     "name": "stderr",
     "output_type": "stream",
     "text": [
      "DEBUG flwr 2023-09-01 01:51:18,806 | server.py:236 | fit_round 50 received 10 results and 0 failures\n"
     ]
    },
    {
     "name": "stdout",
     "output_type": "stream",
     "text": [
      "agrregate_fit results list length is  10\n"
     ]
    },
    {
     "name": "stderr",
     "output_type": "stream",
     "text": [
      "DEBUG flwr 2023-09-01 01:51:19,145 | server.py:173 | evaluate_round 50: strategy sampled 10 clients (out of 20)\n"
     ]
    },
    {
     "name": "stdout",
     "output_type": "stream",
     "text": [
      "Saving round 50 aggregated_parameters...\n"
     ]
    },
    {
     "name": "stderr",
     "output_type": "stream",
     "text": [
      "DEBUG flwr 2023-09-01 01:51:20,009 | server.py:187 | evaluate_round 50 received 10 results and 0 failures\n",
      "DEBUG flwr 2023-09-01 01:51:20,013 | server.py:222 | fit_round 51: strategy sampled 10 clients (out of 20)\n"
     ]
    },
    {
     "name": "stdout",
     "output_type": "stream",
     "text": [
      "agrregate_evaluate results list length is  10\n",
      "server round is  50\n",
      "loss is  2.057301293900185\n"
     ]
    },
    {
     "name": "stderr",
     "output_type": "stream",
     "text": [
      "DEBUG flwr 2023-09-01 01:51:21,817 | server.py:236 | fit_round 51 received 10 results and 0 failures\n",
      "DEBUG flwr 2023-09-01 01:51:21,977 | server.py:173 | evaluate_round 51: strategy sampled 10 clients (out of 20)\n"
     ]
    },
    {
     "name": "stdout",
     "output_type": "stream",
     "text": [
      "agrregate_fit results list length is  10\n",
      "Saving round 51 aggregated_parameters...\n"
     ]
    },
    {
     "name": "stderr",
     "output_type": "stream",
     "text": [
      "DEBUG flwr 2023-09-01 01:51:22,514 | server.py:187 | evaluate_round 51 received 10 results and 0 failures\n",
      "DEBUG flwr 2023-09-01 01:51:22,518 | server.py:222 | fit_round 52: strategy sampled 10 clients (out of 20)\n"
     ]
    },
    {
     "name": "stdout",
     "output_type": "stream",
     "text": [
      "agrregate_evaluate results list length is  10\n",
      "server round is  51\n",
      "loss is  2.0055452865064693\n"
     ]
    },
    {
     "name": "stderr",
     "output_type": "stream",
     "text": [
      "DEBUG flwr 2023-09-01 01:51:24,676 | server.py:236 | fit_round 52 received 10 results and 0 failures\n",
      "DEBUG flwr 2023-09-01 01:51:24,819 | server.py:173 | evaluate_round 52: strategy sampled 10 clients (out of 20)\n"
     ]
    },
    {
     "name": "stdout",
     "output_type": "stream",
     "text": [
      "agrregate_fit results list length is  10\n",
      "Saving round 52 aggregated_parameters...\n"
     ]
    },
    {
     "name": "stderr",
     "output_type": "stream",
     "text": [
      "DEBUG flwr 2023-09-01 01:51:25,276 | server.py:187 | evaluate_round 52 received 10 results and 0 failures\n",
      "DEBUG flwr 2023-09-01 01:51:25,280 | server.py:222 | fit_round 53: strategy sampled 10 clients (out of 20)\n"
     ]
    },
    {
     "name": "stdout",
     "output_type": "stream",
     "text": [
      "agrregate_evaluate results list length is  10\n",
      "server round is  52\n",
      "loss is  2.0369685767097967\n"
     ]
    },
    {
     "name": "stderr",
     "output_type": "stream",
     "text": [
      "DEBUG flwr 2023-09-01 01:51:37,717 | server.py:236 | fit_round 53 received 10 results and 0 failures\n",
      "DEBUG flwr 2023-09-01 01:51:37,787 | server.py:173 | evaluate_round 53: strategy sampled 10 clients (out of 20)\n"
     ]
    },
    {
     "name": "stdout",
     "output_type": "stream",
     "text": [
      "agrregate_fit results list length is  10\n",
      "Saving round 53 aggregated_parameters...\n"
     ]
    },
    {
     "name": "stderr",
     "output_type": "stream",
     "text": [
      "DEBUG flwr 2023-09-01 01:51:38,185 | server.py:187 | evaluate_round 53 received 10 results and 0 failures\n",
      "DEBUG flwr 2023-09-01 01:51:38,189 | server.py:222 | fit_round 54: strategy sampled 10 clients (out of 20)\n"
     ]
    },
    {
     "name": "stdout",
     "output_type": "stream",
     "text": [
      "agrregate_evaluate results list length is  10\n",
      "server round is  53\n",
      "loss is  2.3659889094269873\n"
     ]
    },
    {
     "name": "stderr",
     "output_type": "stream",
     "text": [
      "DEBUG flwr 2023-09-01 01:51:48,907 | server.py:236 | fit_round 54 received 10 results and 0 failures\n",
      "DEBUG flwr 2023-09-01 01:51:48,960 | server.py:173 | evaluate_round 54: strategy sampled 10 clients (out of 20)\n"
     ]
    },
    {
     "name": "stdout",
     "output_type": "stream",
     "text": [
      "agrregate_fit results list length is  10\n",
      "Saving round 54 aggregated_parameters...\n"
     ]
    },
    {
     "name": "stderr",
     "output_type": "stream",
     "text": [
      "DEBUG flwr 2023-09-01 01:51:49,167 | server.py:187 | evaluate_round 54 received 10 results and 0 failures\n",
      "DEBUG flwr 2023-09-01 01:51:49,170 | server.py:222 | fit_round 55: strategy sampled 10 clients (out of 20)\n"
     ]
    },
    {
     "name": "stdout",
     "output_type": "stream",
     "text": [
      "agrregate_evaluate results list length is  10\n",
      "server round is  54\n",
      "loss is  3.0961182994454712\n"
     ]
    },
    {
     "name": "stderr",
     "output_type": "stream",
     "text": [
      "DEBUG flwr 2023-09-01 01:52:03,548 | server.py:236 | fit_round 55 received 10 results and 0 failures\n",
      "DEBUG flwr 2023-09-01 01:52:03,609 | server.py:173 | evaluate_round 55: strategy sampled 10 clients (out of 20)\n"
     ]
    },
    {
     "name": "stdout",
     "output_type": "stream",
     "text": [
      "agrregate_fit results list length is  10\n",
      "Saving round 55 aggregated_parameters...\n"
     ]
    },
    {
     "name": "stderr",
     "output_type": "stream",
     "text": [
      "DEBUG flwr 2023-09-01 01:52:03,839 | server.py:187 | evaluate_round 55 received 10 results and 0 failures\n",
      "DEBUG flwr 2023-09-01 01:52:03,842 | server.py:222 | fit_round 56: strategy sampled 10 clients (out of 20)\n"
     ]
    },
    {
     "name": "stdout",
     "output_type": "stream",
     "text": [
      "agrregate_evaluate results list length is  10\n",
      "server round is  55\n",
      "loss is  2.3937153419593344\n"
     ]
    },
    {
     "name": "stderr",
     "output_type": "stream",
     "text": [
      "DEBUG flwr 2023-09-01 01:52:17,393 | server.py:236 | fit_round 56 received 10 results and 0 failures\n",
      "DEBUG flwr 2023-09-01 01:52:17,501 | server.py:173 | evaluate_round 56: strategy sampled 10 clients (out of 20)\n"
     ]
    },
    {
     "name": "stdout",
     "output_type": "stream",
     "text": [
      "agrregate_fit results list length is  10\n",
      "Saving round 56 aggregated_parameters...\n"
     ]
    },
    {
     "name": "stderr",
     "output_type": "stream",
     "text": [
      "DEBUG flwr 2023-09-01 01:52:17,793 | server.py:187 | evaluate_round 56 received 10 results and 0 failures\n",
      "DEBUG flwr 2023-09-01 01:52:17,796 | server.py:222 | fit_round 57: strategy sampled 10 clients (out of 20)\n"
     ]
    },
    {
     "name": "stdout",
     "output_type": "stream",
     "text": [
      "agrregate_evaluate results list length is  10\n",
      "server round is  56\n",
      "loss is  2.192236598890943\n"
     ]
    },
    {
     "name": "stderr",
     "output_type": "stream",
     "text": [
      "DEBUG flwr 2023-09-01 01:52:28,936 | server.py:236 | fit_round 57 received 10 results and 0 failures\n",
      "DEBUG flwr 2023-09-01 01:52:29,007 | server.py:173 | evaluate_round 57: strategy sampled 10 clients (out of 20)\n"
     ]
    },
    {
     "name": "stdout",
     "output_type": "stream",
     "text": [
      "agrregate_fit results list length is  10\n",
      "Saving round 57 aggregated_parameters...\n"
     ]
    },
    {
     "name": "stderr",
     "output_type": "stream",
     "text": [
      "DEBUG flwr 2023-09-01 01:52:29,289 | server.py:187 | evaluate_round 57 received 10 results and 0 failures\n",
      "DEBUG flwr 2023-09-01 01:52:29,291 | server.py:222 | fit_round 58: strategy sampled 10 clients (out of 20)\n"
     ]
    },
    {
     "name": "stdout",
     "output_type": "stream",
     "text": [
      "agrregate_evaluate results list length is  10\n",
      "server round is  57\n",
      "loss is  2.0739371534195934\n"
     ]
    },
    {
     "name": "stderr",
     "output_type": "stream",
     "text": [
      "DEBUG flwr 2023-09-01 01:52:30,546 | server.py:236 | fit_round 58 received 10 results and 0 failures\n",
      "DEBUG flwr 2023-09-01 01:52:30,649 | server.py:173 | evaluate_round 58: strategy sampled 10 clients (out of 20)\n"
     ]
    },
    {
     "name": "stdout",
     "output_type": "stream",
     "text": [
      "agrregate_fit results list length is  10\n",
      "Saving round 58 aggregated_parameters...\n"
     ]
    },
    {
     "name": "stderr",
     "output_type": "stream",
     "text": [
      "DEBUG flwr 2023-09-01 01:52:30,975 | server.py:187 | evaluate_round 58 received 10 results and 0 failures\n",
      "DEBUG flwr 2023-09-01 01:52:30,978 | server.py:222 | fit_round 59: strategy sampled 10 clients (out of 20)\n"
     ]
    },
    {
     "name": "stdout",
     "output_type": "stream",
     "text": [
      "agrregate_evaluate results list length is  10\n",
      "server round is  58\n",
      "loss is  2.0351201478743066\n"
     ]
    },
    {
     "name": "stderr",
     "output_type": "stream",
     "text": [
      "DEBUG flwr 2023-09-01 01:52:32,330 | server.py:236 | fit_round 59 received 10 results and 0 failures\n",
      "DEBUG flwr 2023-09-01 01:52:32,424 | server.py:173 | evaluate_round 59: strategy sampled 10 clients (out of 20)\n"
     ]
    },
    {
     "name": "stdout",
     "output_type": "stream",
     "text": [
      "agrregate_fit results list length is  10\n",
      "Saving round 59 aggregated_parameters...\n"
     ]
    },
    {
     "name": "stderr",
     "output_type": "stream",
     "text": [
      "DEBUG flwr 2023-09-01 01:52:32,907 | server.py:187 | evaluate_round 59 received 10 results and 0 failures\n",
      "DEBUG flwr 2023-09-01 01:52:32,911 | server.py:222 | fit_round 60: strategy sampled 10 clients (out of 20)\n"
     ]
    },
    {
     "name": "stdout",
     "output_type": "stream",
     "text": [
      "agrregate_evaluate results list length is  10\n",
      "server round is  59\n",
      "loss is  2.0924214417744915\n"
     ]
    },
    {
     "name": "stderr",
     "output_type": "stream",
     "text": [
      "DEBUG flwr 2023-09-01 01:52:44,254 | server.py:236 | fit_round 60 received 10 results and 0 failures\n",
      "DEBUG flwr 2023-09-01 01:52:44,309 | server.py:173 | evaluate_round 60: strategy sampled 10 clients (out of 20)\n"
     ]
    },
    {
     "name": "stdout",
     "output_type": "stream",
     "text": [
      "agrregate_fit results list length is  10\n",
      "Saving round 60 aggregated_parameters...\n"
     ]
    },
    {
     "name": "stderr",
     "output_type": "stream",
     "text": [
      "DEBUG flwr 2023-09-01 01:52:44,549 | server.py:187 | evaluate_round 60 received 10 results and 0 failures\n",
      "INFO flwr 2023-09-01 01:52:44,550 | server.py:153 | FL finished in 385.70710329999565\n",
      "INFO flwr 2023-09-01 01:52:44,552 | app.py:225 | app_fit: losses_distributed [(1, 10.687615526802219), (2, 10.341959334565619), (3, 5.007393715341959), (4, 2.741219963031423), (5, 2.6266173752310538), (6, 2.532347504621072), (7, 2.532347504621072), (8, 2.5175600739371533), (9, 2.8059149722735675), (10, 2.210720887245841), (11, 2.2365988909426986), (12, 2.1940850277264325), (13, 2.297597042513863), (14, 2.201478743068392), (15, 2.3068391866913123), (16, 2.3382624768946396), (17, 2.1719038817005547), (18, 2.654343807763401), (19, 2.7597042513863217), (20, 2.430683918669131), (21, 2.3364140480591495), (22, 2.2828096118299444), (23, 2.256931608133087), (24, 2.4232902033271717), (25, 2.4824399260628467), (26, 2.7911275415896486), (27, 2.101663585951941), (28, 2.066543438077634), (29, 2.0850277264325325), (30, 2.22365988909427), (31, 2.3807763401109057), (32, 2.377079482439926), (33, 2.4288354898336415), (34, 2.0831792975970425), (35, 2.210720887245841), (36, 2.044362292051756), (37, 2.033271719038817), (38, 2.162661737523105), (39, 2.1404805914972274), (40, 2.168207024029575), (41, 2.11460258780037), (42, 2.075785582255083), (43, 2.0794824399260627), (44, 2.153419593345656), (45, 2.621072088724584), (46, 2.0720887245841033), (47, 2.388170055452865), (48, 2.1053604436229203), (49, 2.134935304990758), (50, 2.057301293900185), (51, 2.0055452865064693), (52, 2.0369685767097967), (53, 2.3659889094269873), (54, 3.0961182994454712), (55, 2.3937153419593344), (56, 2.192236598890943), (57, 2.0739371534195934), (58, 2.0351201478743066), (59, 2.0924214417744915), (60, 2.186691312384473)]\n",
      "INFO flwr 2023-09-01 01:52:44,555 | app.py:226 | app_fit: metrics_distributed_fit {}\n",
      "INFO flwr 2023-09-01 01:52:44,557 | app.py:227 | app_fit: metrics_distributed {'mse': [(1, 106.87615526802219), (2, 103.41959334565617), (3, 50.0739371534196), (4, 27.41219963031423), (5, 26.266173752310532), (6, 25.32347504621072), (7, 25.32347504621072), (8, 25.175600739371536), (9, 28.05914972273567), (10, 22.10720887245841), (11, 22.365988909426985), (12, 21.940850277264328), (13, 22.975970425138637), (14, 22.01478743068392), (15, 23.068391866913128), (16, 23.3826247689464), (17, 21.719038817005547), (18, 26.543438077634004), (19, 27.59704251386321), (20, 24.306839186691317), (21, 23.364140480591498), (22, 22.828096118299438), (23, 22.569316081330868), (24, 24.232902033271714), (25, 24.824399260628464), (26, 27.911275415896487), (27, 21.016635859519408), (28, 20.66543438077634), (29, 20.850277264325324), (30, 22.2365988909427), (31, 23.807763401109057), (32, 23.770794824399257), (33, 24.288354898336415), (34, 20.83179297597042), (35, 22.10720887245841), (36, 20.44362292051756), (37, 20.332717190388166), (38, 21.626617375231053), (39, 21.40480591497227), (40, 21.682070240295747), (41, 21.146025878003698), (42, 20.75785582255083), (43, 20.79482439926063), (44, 21.534195933456562), (45, 26.210720887245845), (46, 20.72088724584103), (47, 23.881700554528646), (48, 21.053604436229204), (49, 21.34935304990758), (50, 20.57301293900185), (51, 20.05545286506469), (52, 20.369685767097966), (53, 23.659889094269875), (54, 30.961182994454713), (55, 23.937153419593347), (56, 21.92236598890943), (57, 20.73937153419593), (58, 20.35120147874306), (59, 20.92421441774491), (60, 21.86691312384473)]}\n",
      "INFO flwr 2023-09-01 01:52:44,558 | app.py:228 | app_fit: losses_centralized []\n",
      "INFO flwr 2023-09-01 01:52:44,559 | app.py:229 | app_fit: metrics_centralized {}\n"
     ]
    },
    {
     "name": "stdout",
     "output_type": "stream",
     "text": [
      "agrregate_evaluate results list length is  10\n",
      "server round is  60\n",
      "loss is  2.186691312384473\n",
      "History (loss, distributed):\n",
      "\tround 1: 10.687615526802219\n",
      "\tround 2: 10.341959334565619\n",
      "\tround 3: 5.007393715341959\n",
      "\tround 4: 2.741219963031423\n",
      "\tround 5: 2.6266173752310538\n",
      "\tround 6: 2.532347504621072\n",
      "\tround 7: 2.532347504621072\n",
      "\tround 8: 2.5175600739371533\n",
      "\tround 9: 2.8059149722735675\n",
      "\tround 10: 2.210720887245841\n",
      "\tround 11: 2.2365988909426986\n",
      "\tround 12: 2.1940850277264325\n",
      "\tround 13: 2.297597042513863\n",
      "\tround 14: 2.201478743068392\n",
      "\tround 15: 2.3068391866913123\n",
      "\tround 16: 2.3382624768946396\n",
      "\tround 17: 2.1719038817005547\n",
      "\tround 18: 2.654343807763401\n",
      "\tround 19: 2.7597042513863217\n",
      "\tround 20: 2.430683918669131\n",
      "\tround 21: 2.3364140480591495\n",
      "\tround 22: 2.2828096118299444\n",
      "\tround 23: 2.256931608133087\n",
      "\tround 24: 2.4232902033271717\n",
      "\tround 25: 2.4824399260628467\n",
      "\tround 26: 2.7911275415896486\n",
      "\tround 27: 2.101663585951941\n",
      "\tround 28: 2.066543438077634\n",
      "\tround 29: 2.0850277264325325\n",
      "\tround 30: 2.22365988909427\n",
      "\tround 31: 2.3807763401109057\n",
      "\tround 32: 2.377079482439926\n",
      "\tround 33: 2.4288354898336415\n",
      "\tround 34: 2.0831792975970425\n",
      "\tround 35: 2.210720887245841\n",
      "\tround 36: 2.044362292051756\n",
      "\tround 37: 2.033271719038817\n",
      "\tround 38: 2.162661737523105\n",
      "\tround 39: 2.1404805914972274\n",
      "\tround 40: 2.168207024029575\n",
      "\tround 41: 2.11460258780037\n",
      "\tround 42: 2.075785582255083\n",
      "\tround 43: 2.0794824399260627\n",
      "\tround 44: 2.153419593345656\n",
      "\tround 45: 2.621072088724584\n",
      "\tround 46: 2.0720887245841033\n",
      "\tround 47: 2.388170055452865\n",
      "\tround 48: 2.1053604436229203\n",
      "\tround 49: 2.134935304990758\n",
      "\tround 50: 2.057301293900185\n",
      "\tround 51: 2.0055452865064693\n",
      "\tround 52: 2.0369685767097967\n",
      "\tround 53: 2.3659889094269873\n",
      "\tround 54: 3.0961182994454712\n",
      "\tround 55: 2.3937153419593344\n",
      "\tround 56: 2.192236598890943\n",
      "\tround 57: 2.0739371534195934\n",
      "\tround 58: 2.0351201478743066\n",
      "\tround 59: 2.0924214417744915\n",
      "\tround 60: 2.186691312384473\n",
      "History (metrics, distributed, evaluate):\n",
      "{'mse': [(1, 106.87615526802219), (2, 103.41959334565617), (3, 50.0739371534196), (4, 27.41219963031423), (5, 26.266173752310532), (6, 25.32347504621072), (7, 25.32347504621072), (8, 25.175600739371536), (9, 28.05914972273567), (10, 22.10720887245841), (11, 22.365988909426985), (12, 21.940850277264328), (13, 22.975970425138637), (14, 22.01478743068392), (15, 23.068391866913128), (16, 23.3826247689464), (17, 21.719038817005547), (18, 26.543438077634004), (19, 27.59704251386321), (20, 24.306839186691317), (21, 23.364140480591498), (22, 22.828096118299438), (23, 22.569316081330868), (24, 24.232902033271714), (25, 24.824399260628464), (26, 27.911275415896487), (27, 21.016635859519408), (28, 20.66543438077634), (29, 20.850277264325324), (30, 22.2365988909427), (31, 23.807763401109057), (32, 23.770794824399257), (33, 24.288354898336415), (34, 20.83179297597042), (35, 22.10720887245841), (36, 20.44362292051756), (37, 20.332717190388166), (38, 21.626617375231053), (39, 21.40480591497227), (40, 21.682070240295747), (41, 21.146025878003698), (42, 20.75785582255083), (43, 20.79482439926063), (44, 21.534195933456562), (45, 26.210720887245845), (46, 20.72088724584103), (47, 23.881700554528646), (48, 21.053604436229204), (49, 21.34935304990758), (50, 20.57301293900185), (51, 20.05545286506469), (52, 20.369685767097966), (53, 23.659889094269875), (54, 30.961182994454713), (55, 23.937153419593347), (56, 21.92236598890943), (57, 20.73937153419593), (58, 20.35120147874306), (59, 20.92421441774491), (60, 21.86691312384473)]}\n",
      "[(1, 10.687615526802219), (2, 10.341959334565619), (3, 5.007393715341959), (4, 2.741219963031423), (5, 2.6266173752310538), (6, 2.532347504621072), (7, 2.532347504621072), (8, 2.5175600739371533), (9, 2.8059149722735675), (10, 2.210720887245841), (11, 2.2365988909426986), (12, 2.1940850277264325), (13, 2.297597042513863), (14, 2.201478743068392), (15, 2.3068391866913123), (16, 2.3382624768946396), (17, 2.1719038817005547), (18, 2.654343807763401), (19, 2.7597042513863217), (20, 2.430683918669131), (21, 2.3364140480591495), (22, 2.2828096118299444), (23, 2.256931608133087), (24, 2.4232902033271717), (25, 2.4824399260628467), (26, 2.7911275415896486), (27, 2.101663585951941), (28, 2.066543438077634), (29, 2.0850277264325325), (30, 2.22365988909427), (31, 2.3807763401109057), (32, 2.377079482439926), (33, 2.4288354898336415), (34, 2.0831792975970425), (35, 2.210720887245841), (36, 2.044362292051756), (37, 2.033271719038817), (38, 2.162661737523105), (39, 2.1404805914972274), (40, 2.168207024029575), (41, 2.11460258780037), (42, 2.075785582255083), (43, 2.0794824399260627), (44, 2.153419593345656), (45, 2.621072088724584), (46, 2.0720887245841033), (47, 2.388170055452865), (48, 2.1053604436229203), (49, 2.134935304990758), (50, 2.057301293900185), (51, 2.0055452865064693), (52, 2.0369685767097967), (53, 2.3659889094269873), (54, 3.0961182994454712), (55, 2.3937153419593344), (56, 2.192236598890943), (57, 2.0739371534195934), (58, 2.0351201478743066), (59, 2.0924214417744915), (60, 2.186691312384473)]\n",
      "Fold 2:\n",
      "split [0.6, 0.03, 0.03, 0.02, 0.02, 0.02, 0.02, 0.02, 0.02, 0.02, 0.02, 0.02, 0.02, 0.02, 0.02, 0.02, 0.02, 0.02, 0.02, 0.02]\n",
      "time 0:06:51.308378\n",
      "mse [2.186691312384473]\n",
      "auc [0.8760902255639097]\n"
     ]
    }
   ],
   "source": [
    "split = [0.60, 0.03, 0.03, 0.02, 0.02, 0.02, 0.02, 0.02, 0.02, 0.02,\n",
    "         0.02, 0.02, 0.02, 0.02, 0.02, 0.02, 0.02, 0.02, 0.02, 0.02]\n",
    "do_fl(split)"
   ],
   "metadata": {
    "collapsed": false,
    "ExecuteTime": {
     "end_time": "2023-09-01T00:52:44.723327900Z",
     "start_time": "2023-09-01T00:45:53.332171600Z"
    }
   }
  },
  {
   "cell_type": "code",
   "execution_count": null,
   "outputs": [],
   "source": [],
   "metadata": {
    "collapsed": false
   }
  }
 ],
 "metadata": {
  "kernelspec": {
   "display_name": "Python 3",
   "language": "python",
   "name": "python3"
  },
  "language_info": {
   "codemirror_mode": {
    "name": "ipython",
    "version": 2
   },
   "file_extension": ".py",
   "mimetype": "text/x-python",
   "name": "python",
   "nbconvert_exporter": "python",
   "pygments_lexer": "ipython2",
   "version": "2.7.6"
  }
 },
 "nbformat": 4,
 "nbformat_minor": 0
}
