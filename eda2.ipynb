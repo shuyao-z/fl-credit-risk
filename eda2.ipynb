{
 "cells": [
  {
   "cell_type": "code",
   "execution_count": 1,
   "metadata": {
    "ExecuteTime": {
     "end_time": "2023-08-16T11:59:53.321510200Z",
     "start_time": "2023-08-16T11:59:49.804105200Z"
    }
   },
   "outputs": [],
   "source": [
    "# This file is from Jordan\n",
    "import pandas as pd\n",
    "import torch\n",
    "import torch.nn as nn\n",
    "import torch.nn.functional as F\n",
    "from torch.utils.data import DataLoader, random_split\n",
    "import numpy as np\n",
    "import matplotlib.pyplot as plt\n",
    "\n",
    "from collections import OrderedDict"
   ]
  },
  {
   "cell_type": "code",
   "execution_count": 3,
   "metadata": {
    "ExecuteTime": {
     "end_time": "2023-08-16T11:37:16.926492200Z",
     "start_time": "2023-08-16T11:36:36.952607800Z"
    }
   },
   "outputs": [],
   "source": [
    "df = pd.read_csv('./dataset2/train.csv')\n",
    "df = pd.get_dummies(df).astype('float32')\n",
    "df = df.fillna(df.mean())"
   ]
  },
  {
   "cell_type": "code",
   "execution_count": 4,
   "metadata": {
    "ExecuteTime": {
     "end_time": "2023-08-16T11:50:47.591910900Z",
     "start_time": "2023-08-16T11:50:07.164266100Z"
    }
   },
   "outputs": [
    {
     "data": {
      "text/plain": "            DAYS_CREDIT  CREDIT_DAY_OVERDUE  DAYS_CREDIT_ENDDATE  \\\nSK_ID_CURR                                                         \n100001      -735.000000                 0.0            82.428571   \n100002      -874.000000                 0.0          -261.750000   \n100003     -1400.750000                 0.0          -544.500000   \n100004      -867.000000                 0.0          -488.500000   \n100005      -190.666667                 0.0           439.333333   \n\n            DAYS_ENDDATE_FACT  AMT_CREDIT_MAX_OVERDUE  CNT_CREDIT_PROLONG  \\\nSK_ID_CURR                                                                  \n100001            -471.714286                0.000000                 0.0   \n100002            -523.125000             1050.643125                 0.0   \n100003            -823.000000                0.000000                 0.0   \n100004            -532.500000                0.000000                 0.0   \n100005             -41.000000                0.000000                 0.0   \n\n            AMT_CREDIT_SUM  AMT_CREDIT_SUM_DEBT  AMT_CREDIT_SUM_LIMIT  \\\nSK_ID_CURR                                                              \n100001       207623.571429         85240.928571              0.000000   \n100002       108131.945625         30722.625000           3998.570625   \n100003       254350.125000             0.000000         202500.000000   \n100004        94518.900000             0.000000              0.000000   \n100005       219042.000000        189469.500000              0.000000   \n\n            AMT_CREDIT_SUM_OVERDUE  ...  \\\nSK_ID_CURR                          ...   \n100001                         0.0  ...   \n100002                         0.0  ...   \n100003                         0.0  ...   \n100004                         0.0  ...   \n100005                         0.0  ...   \n\n            CREDIT_TYPE_Loan for business development  \\\nSK_ID_CURR                                              \n100001                                            0.0   \n100002                                            0.0   \n100003                                            0.0   \n100004                                            0.0   \n100005                                            0.0   \n\n            CREDIT_TYPE_Loan for purchase of shares (margin lending)  \\\nSK_ID_CURR                                                             \n100001                                                    0.0          \n100002                                                    0.0          \n100003                                                    0.0          \n100004                                                    0.0          \n100005                                                    0.0          \n\n            CREDIT_TYPE_Loan for the purchase of equipment  \\\nSK_ID_CURR                                                   \n100001                                                 0.0   \n100002                                                 0.0   \n100003                                                 0.0   \n100004                                                 0.0   \n100005                                                 0.0   \n\n            CREDIT_TYPE_Loan for working capital replenishment  \\\nSK_ID_CURR                                                       \n100001                                                    0.0    \n100002                                                    0.0    \n100003                                                    0.0    \n100004                                                    0.0    \n100005                                                    0.0    \n\n            CREDIT_TYPE_Microloan  CREDIT_TYPE_Mobile operator loan  \\\nSK_ID_CURR                                                            \n100001                        0.0                               0.0   \n100002                        0.0                               0.0   \n100003                        0.0                               0.0   \n100004                        0.0                               0.0   \n100005                        0.0                               0.0   \n\n            CREDIT_TYPE_Mortgage  CREDIT_TYPE_Real estate loan  \\\nSK_ID_CURR                                                       \n100001                       0.0                           0.0   \n100002                       0.0                           0.0   \n100003                       0.0                           0.0   \n100004                       0.0                           0.0   \n100005                       0.0                           0.0   \n\n            CREDIT_TYPE_Unknown type of loan    STATUS  \nSK_ID_CURR                                              \n100001                                   0.0  0.007519  \n100002                                   0.0  0.255682  \n100003                                   0.0  0.000000  \n100004                                   0.0  0.000000  \n100005                                   0.0  0.000000  \n\n[5 rows x 36 columns]",
      "text/html": "<div>\n<style scoped>\n    .dataframe tbody tr th:only-of-type {\n        vertical-align: middle;\n    }\n\n    .dataframe tbody tr th {\n        vertical-align: top;\n    }\n\n    .dataframe thead th {\n        text-align: right;\n    }\n</style>\n<table border=\"1\" class=\"dataframe\">\n  <thead>\n    <tr style=\"text-align: right;\">\n      <th></th>\n      <th>DAYS_CREDIT</th>\n      <th>CREDIT_DAY_OVERDUE</th>\n      <th>DAYS_CREDIT_ENDDATE</th>\n      <th>DAYS_ENDDATE_FACT</th>\n      <th>AMT_CREDIT_MAX_OVERDUE</th>\n      <th>CNT_CREDIT_PROLONG</th>\n      <th>AMT_CREDIT_SUM</th>\n      <th>AMT_CREDIT_SUM_DEBT</th>\n      <th>AMT_CREDIT_SUM_LIMIT</th>\n      <th>AMT_CREDIT_SUM_OVERDUE</th>\n      <th>...</th>\n      <th>CREDIT_TYPE_Loan for business development</th>\n      <th>CREDIT_TYPE_Loan for purchase of shares (margin lending)</th>\n      <th>CREDIT_TYPE_Loan for the purchase of equipment</th>\n      <th>CREDIT_TYPE_Loan for working capital replenishment</th>\n      <th>CREDIT_TYPE_Microloan</th>\n      <th>CREDIT_TYPE_Mobile operator loan</th>\n      <th>CREDIT_TYPE_Mortgage</th>\n      <th>CREDIT_TYPE_Real estate loan</th>\n      <th>CREDIT_TYPE_Unknown type of loan</th>\n      <th>STATUS</th>\n    </tr>\n    <tr>\n      <th>SK_ID_CURR</th>\n      <th></th>\n      <th></th>\n      <th></th>\n      <th></th>\n      <th></th>\n      <th></th>\n      <th></th>\n      <th></th>\n      <th></th>\n      <th></th>\n      <th></th>\n      <th></th>\n      <th></th>\n      <th></th>\n      <th></th>\n      <th></th>\n      <th></th>\n      <th></th>\n      <th></th>\n      <th></th>\n      <th></th>\n    </tr>\n  </thead>\n  <tbody>\n    <tr>\n      <th>100001</th>\n      <td>-735.000000</td>\n      <td>0.0</td>\n      <td>82.428571</td>\n      <td>-471.714286</td>\n      <td>0.000000</td>\n      <td>0.0</td>\n      <td>207623.571429</td>\n      <td>85240.928571</td>\n      <td>0.000000</td>\n      <td>0.0</td>\n      <td>...</td>\n      <td>0.0</td>\n      <td>0.0</td>\n      <td>0.0</td>\n      <td>0.0</td>\n      <td>0.0</td>\n      <td>0.0</td>\n      <td>0.0</td>\n      <td>0.0</td>\n      <td>0.0</td>\n      <td>0.007519</td>\n    </tr>\n    <tr>\n      <th>100002</th>\n      <td>-874.000000</td>\n      <td>0.0</td>\n      <td>-261.750000</td>\n      <td>-523.125000</td>\n      <td>1050.643125</td>\n      <td>0.0</td>\n      <td>108131.945625</td>\n      <td>30722.625000</td>\n      <td>3998.570625</td>\n      <td>0.0</td>\n      <td>...</td>\n      <td>0.0</td>\n      <td>0.0</td>\n      <td>0.0</td>\n      <td>0.0</td>\n      <td>0.0</td>\n      <td>0.0</td>\n      <td>0.0</td>\n      <td>0.0</td>\n      <td>0.0</td>\n      <td>0.255682</td>\n    </tr>\n    <tr>\n      <th>100003</th>\n      <td>-1400.750000</td>\n      <td>0.0</td>\n      <td>-544.500000</td>\n      <td>-823.000000</td>\n      <td>0.000000</td>\n      <td>0.0</td>\n      <td>254350.125000</td>\n      <td>0.000000</td>\n      <td>202500.000000</td>\n      <td>0.0</td>\n      <td>...</td>\n      <td>0.0</td>\n      <td>0.0</td>\n      <td>0.0</td>\n      <td>0.0</td>\n      <td>0.0</td>\n      <td>0.0</td>\n      <td>0.0</td>\n      <td>0.0</td>\n      <td>0.0</td>\n      <td>0.000000</td>\n    </tr>\n    <tr>\n      <th>100004</th>\n      <td>-867.000000</td>\n      <td>0.0</td>\n      <td>-488.500000</td>\n      <td>-532.500000</td>\n      <td>0.000000</td>\n      <td>0.0</td>\n      <td>94518.900000</td>\n      <td>0.000000</td>\n      <td>0.000000</td>\n      <td>0.0</td>\n      <td>...</td>\n      <td>0.0</td>\n      <td>0.0</td>\n      <td>0.0</td>\n      <td>0.0</td>\n      <td>0.0</td>\n      <td>0.0</td>\n      <td>0.0</td>\n      <td>0.0</td>\n      <td>0.0</td>\n      <td>0.000000</td>\n    </tr>\n    <tr>\n      <th>100005</th>\n      <td>-190.666667</td>\n      <td>0.0</td>\n      <td>439.333333</td>\n      <td>-41.000000</td>\n      <td>0.000000</td>\n      <td>0.0</td>\n      <td>219042.000000</td>\n      <td>189469.500000</td>\n      <td>0.000000</td>\n      <td>0.0</td>\n      <td>...</td>\n      <td>0.0</td>\n      <td>0.0</td>\n      <td>0.0</td>\n      <td>0.0</td>\n      <td>0.0</td>\n      <td>0.0</td>\n      <td>0.0</td>\n      <td>0.0</td>\n      <td>0.0</td>\n      <td>0.000000</td>\n    </tr>\n  </tbody>\n</table>\n<p>5 rows × 36 columns</p>\n</div>"
     },
     "execution_count": 4,
     "metadata": {},
     "output_type": "execute_result"
    }
   ],
   "source": [
    "df_bureau = pd.read_csv('./dataset2/bureau.csv')\n",
    "df_bureau = pd.get_dummies(df_bureau)\n",
    "df_bureau_balance = pd.read_csv('./dataset2/bureau_balance.csv')\n",
    "df_bureau_balance['STATUS'] = df_bureau_balance['STATUS'].apply(lambda s: 0 if s == 'C' or s == 'X' else int(s))\n",
    "df_bureau_balance = df_bureau_balance.drop(columns=['MONTHS_BALANCE'])\n",
    "df_bureau_balance = df_bureau_balance.groupby(['SK_ID_BUREAU'])['STATUS'].mean().reset_index()\n",
    "df_bureau = df_bureau.merge(df_bureau_balance, on='SK_ID_BUREAU', how='left').fillna(0)\n",
    "df_bureau = df_bureau.drop(columns=['SK_ID_BUREAU'])\n",
    "df_bureau = df_bureau.groupby(['SK_ID_CURR']).mean()\n",
    "df_bureau.head()"
   ]
  },
  {
   "cell_type": "code",
   "execution_count": 5,
   "metadata": {
    "ExecuteTime": {
     "end_time": "2023-08-16T11:51:02.932155300Z",
     "start_time": "2023-08-16T11:50:47.590913100Z"
    }
   },
   "outputs": [
    {
     "ename": "ParserError",
     "evalue": "Error tokenizing data. C error: Calling read(nbytes) on source failed. Try engine='python'.",
     "output_type": "error",
     "traceback": [
      "\u001B[1;31m---------------------------------------------------------------------------\u001B[0m",
      "\u001B[1;31mParserError\u001B[0m                               Traceback (most recent call last)",
      "Cell \u001B[1;32mIn[5], line 1\u001B[0m\n\u001B[1;32m----> 1\u001B[0m df_installments \u001B[38;5;241m=\u001B[39m \u001B[43mpd\u001B[49m\u001B[38;5;241;43m.\u001B[39;49m\u001B[43mread_csv\u001B[49m\u001B[43m(\u001B[49m\u001B[38;5;124;43m'\u001B[39;49m\u001B[38;5;124;43m./dataset2/installments_payments.csv\u001B[39;49m\u001B[38;5;124;43m'\u001B[39;49m\u001B[43m)\u001B[49m \\\n\u001B[0;32m      2\u001B[0m   \u001B[38;5;241m.\u001B[39mdrop(columns\u001B[38;5;241m=\u001B[39m[\u001B[38;5;124m'\u001B[39m\u001B[38;5;124mNUM_INSTALMENT_NUMBER\u001B[39m\u001B[38;5;124m'\u001B[39m]) \\\n\u001B[0;32m      3\u001B[0m   \u001B[38;5;241m.\u001B[39mgroupby([\u001B[38;5;124m'\u001B[39m\u001B[38;5;124mSK_ID_CURR\u001B[39m\u001B[38;5;124m'\u001B[39m, \u001B[38;5;124m'\u001B[39m\u001B[38;5;124mSK_ID_PREV\u001B[39m\u001B[38;5;124m'\u001B[39m])\u001B[38;5;241m.\u001B[39mmean()\u001B[38;5;241m.\u001B[39mreset_index() \\\n\u001B[0;32m      4\u001B[0m   \u001B[38;5;66;03m# .drop(columns=['SK_ID_PREV']) \\\u001B[39;00m\n\u001B[0;32m      5\u001B[0m   \u001B[38;5;66;03m# .groupby(['SK_ID_CURR']).mean().reset_index()\u001B[39;00m\n\u001B[0;32m      6\u001B[0m df_installments\u001B[38;5;241m.\u001B[39mhead()\n",
      "File \u001B[1;32mD:\\FD\\venv\\lib\\site-packages\\pandas\\util\\_decorators.py:211\u001B[0m, in \u001B[0;36mdeprecate_kwarg.<locals>._deprecate_kwarg.<locals>.wrapper\u001B[1;34m(*args, **kwargs)\u001B[0m\n\u001B[0;32m    209\u001B[0m     \u001B[38;5;28;01melse\u001B[39;00m:\n\u001B[0;32m    210\u001B[0m         kwargs[new_arg_name] \u001B[38;5;241m=\u001B[39m new_arg_value\n\u001B[1;32m--> 211\u001B[0m \u001B[38;5;28;01mreturn\u001B[39;00m func(\u001B[38;5;241m*\u001B[39margs, \u001B[38;5;241m*\u001B[39m\u001B[38;5;241m*\u001B[39mkwargs)\n",
      "File \u001B[1;32mD:\\FD\\venv\\lib\\site-packages\\pandas\\util\\_decorators.py:331\u001B[0m, in \u001B[0;36mdeprecate_nonkeyword_arguments.<locals>.decorate.<locals>.wrapper\u001B[1;34m(*args, **kwargs)\u001B[0m\n\u001B[0;32m    325\u001B[0m \u001B[38;5;28;01mif\u001B[39;00m \u001B[38;5;28mlen\u001B[39m(args) \u001B[38;5;241m>\u001B[39m num_allow_args:\n\u001B[0;32m    326\u001B[0m     warnings\u001B[38;5;241m.\u001B[39mwarn(\n\u001B[0;32m    327\u001B[0m         msg\u001B[38;5;241m.\u001B[39mformat(arguments\u001B[38;5;241m=\u001B[39m_format_argument_list(allow_args)),\n\u001B[0;32m    328\u001B[0m         \u001B[38;5;167;01mFutureWarning\u001B[39;00m,\n\u001B[0;32m    329\u001B[0m         stacklevel\u001B[38;5;241m=\u001B[39mfind_stack_level(),\n\u001B[0;32m    330\u001B[0m     )\n\u001B[1;32m--> 331\u001B[0m \u001B[38;5;28;01mreturn\u001B[39;00m func(\u001B[38;5;241m*\u001B[39margs, \u001B[38;5;241m*\u001B[39m\u001B[38;5;241m*\u001B[39mkwargs)\n",
      "File \u001B[1;32mD:\\FD\\venv\\lib\\site-packages\\pandas\\io\\parsers\\readers.py:950\u001B[0m, in \u001B[0;36mread_csv\u001B[1;34m(filepath_or_buffer, sep, delimiter, header, names, index_col, usecols, squeeze, prefix, mangle_dupe_cols, dtype, engine, converters, true_values, false_values, skipinitialspace, skiprows, skipfooter, nrows, na_values, keep_default_na, na_filter, verbose, skip_blank_lines, parse_dates, infer_datetime_format, keep_date_col, date_parser, dayfirst, cache_dates, iterator, chunksize, compression, thousands, decimal, lineterminator, quotechar, quoting, doublequote, escapechar, comment, encoding, encoding_errors, dialect, error_bad_lines, warn_bad_lines, on_bad_lines, delim_whitespace, low_memory, memory_map, float_precision, storage_options)\u001B[0m\n\u001B[0;32m    935\u001B[0m kwds_defaults \u001B[38;5;241m=\u001B[39m _refine_defaults_read(\n\u001B[0;32m    936\u001B[0m     dialect,\n\u001B[0;32m    937\u001B[0m     delimiter,\n\u001B[1;32m   (...)\u001B[0m\n\u001B[0;32m    946\u001B[0m     defaults\u001B[38;5;241m=\u001B[39m{\u001B[38;5;124m\"\u001B[39m\u001B[38;5;124mdelimiter\u001B[39m\u001B[38;5;124m\"\u001B[39m: \u001B[38;5;124m\"\u001B[39m\u001B[38;5;124m,\u001B[39m\u001B[38;5;124m\"\u001B[39m},\n\u001B[0;32m    947\u001B[0m )\n\u001B[0;32m    948\u001B[0m kwds\u001B[38;5;241m.\u001B[39mupdate(kwds_defaults)\n\u001B[1;32m--> 950\u001B[0m \u001B[38;5;28;01mreturn\u001B[39;00m \u001B[43m_read\u001B[49m\u001B[43m(\u001B[49m\u001B[43mfilepath_or_buffer\u001B[49m\u001B[43m,\u001B[49m\u001B[43m \u001B[49m\u001B[43mkwds\u001B[49m\u001B[43m)\u001B[49m\n",
      "File \u001B[1;32mD:\\FD\\venv\\lib\\site-packages\\pandas\\io\\parsers\\readers.py:611\u001B[0m, in \u001B[0;36m_read\u001B[1;34m(filepath_or_buffer, kwds)\u001B[0m\n\u001B[0;32m    608\u001B[0m     \u001B[38;5;28;01mreturn\u001B[39;00m parser\n\u001B[0;32m    610\u001B[0m \u001B[38;5;28;01mwith\u001B[39;00m parser:\n\u001B[1;32m--> 611\u001B[0m     \u001B[38;5;28;01mreturn\u001B[39;00m \u001B[43mparser\u001B[49m\u001B[38;5;241;43m.\u001B[39;49m\u001B[43mread\u001B[49m\u001B[43m(\u001B[49m\u001B[43mnrows\u001B[49m\u001B[43m)\u001B[49m\n",
      "File \u001B[1;32mD:\\FD\\venv\\lib\\site-packages\\pandas\\io\\parsers\\readers.py:1778\u001B[0m, in \u001B[0;36mTextFileReader.read\u001B[1;34m(self, nrows)\u001B[0m\n\u001B[0;32m   1771\u001B[0m nrows \u001B[38;5;241m=\u001B[39m validate_integer(\u001B[38;5;124m\"\u001B[39m\u001B[38;5;124mnrows\u001B[39m\u001B[38;5;124m\"\u001B[39m, nrows)\n\u001B[0;32m   1772\u001B[0m \u001B[38;5;28;01mtry\u001B[39;00m:\n\u001B[0;32m   1773\u001B[0m     \u001B[38;5;66;03m# error: \"ParserBase\" has no attribute \"read\"\u001B[39;00m\n\u001B[0;32m   1774\u001B[0m     (\n\u001B[0;32m   1775\u001B[0m         index,\n\u001B[0;32m   1776\u001B[0m         columns,\n\u001B[0;32m   1777\u001B[0m         col_dict,\n\u001B[1;32m-> 1778\u001B[0m     ) \u001B[38;5;241m=\u001B[39m \u001B[38;5;28;43mself\u001B[39;49m\u001B[38;5;241;43m.\u001B[39;49m\u001B[43m_engine\u001B[49m\u001B[38;5;241;43m.\u001B[39;49m\u001B[43mread\u001B[49m\u001B[43m(\u001B[49m\u001B[43m  \u001B[49m\u001B[38;5;66;43;03m# type: ignore[attr-defined]\u001B[39;49;00m\n\u001B[0;32m   1779\u001B[0m \u001B[43m        \u001B[49m\u001B[43mnrows\u001B[49m\n\u001B[0;32m   1780\u001B[0m \u001B[43m    \u001B[49m\u001B[43m)\u001B[49m\n\u001B[0;32m   1781\u001B[0m \u001B[38;5;28;01mexcept\u001B[39;00m \u001B[38;5;167;01mException\u001B[39;00m:\n\u001B[0;32m   1782\u001B[0m     \u001B[38;5;28mself\u001B[39m\u001B[38;5;241m.\u001B[39mclose()\n",
      "File \u001B[1;32mD:\\FD\\venv\\lib\\site-packages\\pandas\\io\\parsers\\c_parser_wrapper.py:230\u001B[0m, in \u001B[0;36mCParserWrapper.read\u001B[1;34m(self, nrows)\u001B[0m\n\u001B[0;32m    228\u001B[0m \u001B[38;5;28;01mtry\u001B[39;00m:\n\u001B[0;32m    229\u001B[0m     \u001B[38;5;28;01mif\u001B[39;00m \u001B[38;5;28mself\u001B[39m\u001B[38;5;241m.\u001B[39mlow_memory:\n\u001B[1;32m--> 230\u001B[0m         chunks \u001B[38;5;241m=\u001B[39m \u001B[38;5;28;43mself\u001B[39;49m\u001B[38;5;241;43m.\u001B[39;49m\u001B[43m_reader\u001B[49m\u001B[38;5;241;43m.\u001B[39;49m\u001B[43mread_low_memory\u001B[49m\u001B[43m(\u001B[49m\u001B[43mnrows\u001B[49m\u001B[43m)\u001B[49m\n\u001B[0;32m    231\u001B[0m         \u001B[38;5;66;03m# destructive to chunks\u001B[39;00m\n\u001B[0;32m    232\u001B[0m         data \u001B[38;5;241m=\u001B[39m _concatenate_chunks(chunks)\n",
      "File \u001B[1;32mD:\\FD\\venv\\lib\\site-packages\\pandas\\_libs\\parsers.pyx:808\u001B[0m, in \u001B[0;36mpandas._libs.parsers.TextReader.read_low_memory\u001B[1;34m()\u001B[0m\n",
      "File \u001B[1;32mD:\\FD\\venv\\lib\\site-packages\\pandas\\_libs\\parsers.pyx:866\u001B[0m, in \u001B[0;36mpandas._libs.parsers.TextReader._read_rows\u001B[1;34m()\u001B[0m\n",
      "File \u001B[1;32mD:\\FD\\venv\\lib\\site-packages\\pandas\\_libs\\parsers.pyx:852\u001B[0m, in \u001B[0;36mpandas._libs.parsers.TextReader._tokenize_rows\u001B[1;34m()\u001B[0m\n",
      "File \u001B[1;32mD:\\FD\\venv\\lib\\site-packages\\pandas\\_libs\\parsers.pyx:1973\u001B[0m, in \u001B[0;36mpandas._libs.parsers.raise_parser_error\u001B[1;34m()\u001B[0m\n",
      "\u001B[1;31mParserError\u001B[0m: Error tokenizing data. C error: Calling read(nbytes) on source failed. Try engine='python'."
     ]
    }
   ],
   "source": [
    "df_installments = pd.read_csv('./dataset2/installments_payments.csv') \\\n",
    "  .drop(columns=['NUM_INSTALMENT_NUMBER']) \\\n",
    "  .groupby(['SK_ID_CURR', 'SK_ID_PREV']).mean().reset_index() \\\n",
    "  # .drop(columns=['SK_ID_PREV']) \\\n",
    "  # .groupby(['SK_ID_CURR']).mean().reset_index()\n",
    "df_installments.head()"
   ]
  },
  {
   "cell_type": "code",
   "execution_count": null,
   "metadata": {},
   "outputs": [],
   "source": [
    "df_pos_cash_balance = pd.read_csv('./dataset2/POS_CASH_balance.csv')\n",
    "df_pos_cash_balance = pd.get_dummies(df_pos_cash_balance) \\\n",
    "  .drop(columns=['MONTHS_BALANCE']) \\\n",
    "  .groupby(['SK_ID_CURR', 'SK_ID_PREV']).mean().reset_index() \\\n",
    "  # .drop(columns=['SK_ID_PREV']) \\\n",
    "  # .groupby(['SK_ID_CURR']).mean().reset_index()\n",
    "df_pos_cash_balance.head()"
   ]
  },
  {
   "cell_type": "code",
   "execution_count": null,
   "metadata": {},
   "outputs": [],
   "source": [
    "df_credit_card_balance = pd.read_csv('./dataset2/credit_card_balance.csv')\n",
    "df_credit_card_balance = pd.get_dummies(df_credit_card_balance) \\\n",
    "  .drop(columns=['MONTHS_BALANCE']) \\\n",
    "  .groupby(['SK_ID_CURR', 'SK_ID_PREV']).mean().reset_index() \\\n",
    "  .fillna(0)\n",
    "  # .drop(columns=['SK_ID_PREV']) \\\n",
    "  # .groupby(['SK_ID_CURR']).mean().reset_index() \\\n",
    "df_credit_card_balance.head()"
   ]
  },
  {
   "cell_type": "code",
   "execution_count": null,
   "metadata": {},
   "outputs": [],
   "source": [
    "df_prev = pd.read_csv('./dataset2/previous_application.csv')\n",
    "df_prev = pd.get_dummies(df_prev) \\\n",
    "  .merge(df_pos_cash_balance, on=['SK_ID_CURR', 'SK_ID_PREV'], how='left') \\\n",
    "  .merge(df_installments, on=['SK_ID_CURR', 'SK_ID_PREV'], how='left') \\\n",
    "  .merge(df_credit_card_balance, on=['SK_ID_CURR', 'SK_ID_PREV'], how='left') \\\n",
    "  .fillna(0) \\\n",
    "  .drop(columns=['SK_ID_PREV']) \\\n",
    "  .groupby(['SK_ID_CURR']).mean().reset_index()\n",
    "df_prev.head()"
   ]
  },
  {
   "cell_type": "code",
   "execution_count": null,
   "metadata": {},
   "outputs": [],
   "source": [
    "df = df.merge(df_prev, on='SK_ID_CURR', how='left').fillna(0)\n",
    "df.head()"
   ]
  },
  {
   "cell_type": "code",
   "execution_count": null,
   "metadata": {},
   "outputs": [],
   "source": [
    "X = df.drop('TARGET', axis=1)\n",
    "y = df[['TARGET']]\n",
    "print(X.shape)"
   ]
  },
  {
   "cell_type": "code",
   "execution_count": 10,
   "metadata": {
    "ExecuteTime": {
     "end_time": "2023-08-16T10:01:41.716661700Z",
     "start_time": "2023-08-16T10:01:26.798255800Z"
    }
   },
   "outputs": [
    {
     "name": "stderr",
     "output_type": "stream",
     "text": [
      "D:\\FD\\venv\\lib\\site-packages\\sklearn\\feature_selection\\_univariate_selection.py:112: UserWarning: Features [344] are constant.\n",
      "  warnings.warn(\"Features %s are constant.\" % constant_features_idx, UserWarning)\n",
      "D:\\FD\\venv\\lib\\site-packages\\sklearn\\feature_selection\\_univariate_selection.py:113: RuntimeWarning: invalid value encountered in divide\n",
      "  f = msb / msw\n"
     ]
    },
    {
     "name": "stdout",
     "output_type": "stream",
     "text": [
      "                              features  ANOVA_f_values\n",
      "29                        EXT_SOURCE_2     8110.506247\n",
      "30                        EXT_SOURCE_3     7811.655210\n",
      "28                        EXT_SOURCE_1     3053.204477\n",
      "7                           DAYS_BIRTH     1893.976087\n",
      "304     NAME_CONTRACT_STATUS_Refused_x     1877.185302\n",
      "..                                 ...             ...\n",
      "319         NAME_TYPE_SUITE_Children_y       70.108946\n",
      "162     OCCUPATION_TYPE_Security staff       65.998029\n",
      "303    NAME_CONTRACT_STATUS_Canceled_x       65.882893\n",
      "365           NAME_PRODUCT_TYPE_x-sell       60.465545\n",
      "377  NAME_SELLER_INDUSTRY_Construction       60.366780\n",
      "\n",
      "[160 rows x 2 columns]\n"
     ]
    },
    {
     "name": "stderr",
     "output_type": "stream",
     "text": [
      "C:\\Users\\Shuyao\\AppData\\Local\\Temp\\ipykernel_22372\\2411249508.py:11: UserWarning: FixedFormatter should only be used together with FixedLocator\n",
      "  bar.set_xticklabels(bar.get_xticklabels(), rotation=90);\n"
     ]
    },
    {
     "data": {
      "text/plain": "<Figure size 1000x600 with 1 Axes>",
      "image/png": "[encoded data removed]"
     },
     "metadata": {},
     "output_type": "display_data"
    }
   ],
   "source": [
    "from sklearn.feature_selection import f_classif\n",
    "import seaborn as sns\n",
    "\n",
    "scores = f_classif(X, y['TARGET'])   #performing ANOVA for the features against the target\n",
    "\n",
    "df_scores = pd.DataFrame({'features': X.columns.to_list(), 'ANOVA_f_values': scores[0]}).sort_values(by=['ANOVA_f_values'], ascending=False)\n",
    "df_scores = df_scores.head(160)\n",
    "print(df_scores)\n",
    "plt.figure(figsize=(10,6))\n",
    "bar = sns.barplot(y='features', x='ANOVA_f_values', data=df_scores, color='steelblue')\n",
    "bar.set_xticklabels(bar.get_xticklabels(), rotation=90);\n",
    "bar.set_yticks([])\n",
    "bar.set_yticklabels([])\n",
    "bar.set_xlabel('f values');\n",
    "bar.set_title('ANOVA f values for each feature against label');"
   ]
  },
  {
   "cell_type": "code",
   "execution_count": 11,
   "metadata": {
    "ExecuteTime": {
     "end_time": "2023-08-16T10:01:42.077029500Z",
     "start_time": "2023-08-16T10:01:41.721343900Z"
    }
   },
   "outputs": [
    {
     "data": {
      "text/plain": "   EXT_SOURCE_2  EXT_SOURCE_3  EXT_SOURCE_1  DAYS_BIRTH  \\\n0      0.262949      0.139376      0.083037     -9461.0   \n1      0.622246      0.510853      0.311267    -16765.0   \n2      0.555912      0.729567      0.502130    -19046.0   \n3      0.650442      0.510853      0.502130    -19005.0   \n4      0.322738      0.510853      0.502130    -19932.0   \n\n   NAME_CONTRACT_STATUS_Refused_x  REGION_RATING_CLIENT_W_CITY  \\\n0                        0.000000                          2.0   \n1                        0.000000                          1.0   \n2                        0.000000                          2.0   \n3                        0.111111                          2.0   \n4                        0.000000                          2.0   \n\n   REGION_RATING_CLIENT  NAME_PRODUCT_TYPE_walk-in  NAME_INCOME_TYPE_Working  \\\n0                   2.0                   0.000000                       1.0   \n1                   1.0                   0.000000                       0.0   \n2                   2.0                   0.000000                       1.0   \n3                   2.0                   0.000000                       1.0   \n4                   2.0                   0.166667                       1.0   \n\n   NAME_EDUCATION_TYPE_Higher education  ...  CNT_INSTALMENT  AMT_APPLICATION  \\\n0                                   0.0  ...       24.000000        179055.00   \n1                                   1.0  ...        9.791667        435436.50   \n2                                   0.0  ...        3.750000         24282.00   \n3                                   0.0  ...        4.296296        272203.26   \n4                                   0.0  ...       12.555556        150530.25   \n\n   AMT_GOODS_PRICE_y  DAYS_LAST_DUE_1ST_VERSION  \\\n0          179055.00                 125.000000   \n1          435436.50               -1004.333333   \n2           24282.00                -694.000000   \n3          272203.26               40704.000000   \n4          150530.25                -697.666667   \n\n   NAME_CONTRACT_STATUS_Active_y  NAME_TYPE_SUITE_Children_y  \\\n0                       0.000000                         0.0   \n1                       0.000000                         0.0   \n2                       0.000000                         0.0   \n3                       0.111111                         0.0   \n4                       0.000000                         0.0   \n\n   OCCUPATION_TYPE_Security staff  NAME_CONTRACT_STATUS_Canceled_x  \\\n0                             0.0                         0.000000   \n1                             0.0                         0.000000   \n2                             0.0                         0.000000   \n3                             0.0                         0.333333   \n4                             0.0                         0.000000   \n\n   NAME_PRODUCT_TYPE_x-sell  NAME_SELLER_INDUSTRY_Construction  \n0                  0.000000                           0.000000  \n1                  0.333333                           0.000000  \n2                  0.000000                           0.000000  \n3                  0.444444                           0.111111  \n4                  0.500000                           0.000000  \n\n[5 rows x 160 columns]",
      "text/html": "<div>\n<style scoped>\n    .dataframe tbody tr th:only-of-type {\n        vertical-align: middle;\n    }\n\n    .dataframe tbody tr th {\n        vertical-align: top;\n    }\n\n    .dataframe thead th {\n        text-align: right;\n    }\n</style>\n<table border=\"1\" class=\"dataframe\">\n  <thead>\n    <tr style=\"text-align: right;\">\n      <th></th>\n      <th>EXT_SOURCE_2</th>\n      <th>EXT_SOURCE_3</th>\n      <th>EXT_SOURCE_1</th>\n      <th>DAYS_BIRTH</th>\n      <th>NAME_CONTRACT_STATUS_Refused_x</th>\n      <th>REGION_RATING_CLIENT_W_CITY</th>\n      <th>REGION_RATING_CLIENT</th>\n      <th>NAME_PRODUCT_TYPE_walk-in</th>\n      <th>NAME_INCOME_TYPE_Working</th>\n      <th>NAME_EDUCATION_TYPE_Higher education</th>\n      <th>...</th>\n      <th>CNT_INSTALMENT</th>\n      <th>AMT_APPLICATION</th>\n      <th>AMT_GOODS_PRICE_y</th>\n      <th>DAYS_LAST_DUE_1ST_VERSION</th>\n      <th>NAME_CONTRACT_STATUS_Active_y</th>\n      <th>NAME_TYPE_SUITE_Children_y</th>\n      <th>OCCUPATION_TYPE_Security staff</th>\n      <th>NAME_CONTRACT_STATUS_Canceled_x</th>\n      <th>NAME_PRODUCT_TYPE_x-sell</th>\n      <th>NAME_SELLER_INDUSTRY_Construction</th>\n    </tr>\n  </thead>\n  <tbody>\n    <tr>\n      <th>0</th>\n      <td>0.262949</td>\n      <td>0.139376</td>\n      <td>0.083037</td>\n      <td>-9461.0</td>\n      <td>0.000000</td>\n      <td>2.0</td>\n      <td>2.0</td>\n      <td>0.000000</td>\n      <td>1.0</td>\n      <td>0.0</td>\n      <td>...</td>\n      <td>24.000000</td>\n      <td>179055.00</td>\n      <td>179055.00</td>\n      <td>125.000000</td>\n      <td>0.000000</td>\n      <td>0.0</td>\n      <td>0.0</td>\n      <td>0.000000</td>\n      <td>0.000000</td>\n      <td>0.000000</td>\n    </tr>\n    <tr>\n      <th>1</th>\n      <td>0.622246</td>\n      <td>0.510853</td>\n      <td>0.311267</td>\n      <td>-16765.0</td>\n      <td>0.000000</td>\n      <td>1.0</td>\n      <td>1.0</td>\n      <td>0.000000</td>\n      <td>0.0</td>\n      <td>1.0</td>\n      <td>...</td>\n      <td>9.791667</td>\n      <td>435436.50</td>\n      <td>435436.50</td>\n      <td>-1004.333333</td>\n      <td>0.000000</td>\n      <td>0.0</td>\n      <td>0.0</td>\n      <td>0.000000</td>\n      <td>0.333333</td>\n      <td>0.000000</td>\n    </tr>\n    <tr>\n      <th>2</th>\n      <td>0.555912</td>\n      <td>0.729567</td>\n      <td>0.502130</td>\n      <td>-19046.0</td>\n      <td>0.000000</td>\n      <td>2.0</td>\n      <td>2.0</td>\n      <td>0.000000</td>\n      <td>1.0</td>\n      <td>0.0</td>\n      <td>...</td>\n      <td>3.750000</td>\n      <td>24282.00</td>\n      <td>24282.00</td>\n      <td>-694.000000</td>\n      <td>0.000000</td>\n      <td>0.0</td>\n      <td>0.0</td>\n      <td>0.000000</td>\n      <td>0.000000</td>\n      <td>0.000000</td>\n    </tr>\n    <tr>\n      <th>3</th>\n      <td>0.650442</td>\n      <td>0.510853</td>\n      <td>0.502130</td>\n      <td>-19005.0</td>\n      <td>0.111111</td>\n      <td>2.0</td>\n      <td>2.0</td>\n      <td>0.000000</td>\n      <td>1.0</td>\n      <td>0.0</td>\n      <td>...</td>\n      <td>4.296296</td>\n      <td>272203.26</td>\n      <td>272203.26</td>\n      <td>40704.000000</td>\n      <td>0.111111</td>\n      <td>0.0</td>\n      <td>0.0</td>\n      <td>0.333333</td>\n      <td>0.444444</td>\n      <td>0.111111</td>\n    </tr>\n    <tr>\n      <th>4</th>\n      <td>0.322738</td>\n      <td>0.510853</td>\n      <td>0.502130</td>\n      <td>-19932.0</td>\n      <td>0.000000</td>\n      <td>2.0</td>\n      <td>2.0</td>\n      <td>0.166667</td>\n      <td>1.0</td>\n      <td>0.0</td>\n      <td>...</td>\n      <td>12.555556</td>\n      <td>150530.25</td>\n      <td>150530.25</td>\n      <td>-697.666667</td>\n      <td>0.000000</td>\n      <td>0.0</td>\n      <td>0.0</td>\n      <td>0.000000</td>\n      <td>0.500000</td>\n      <td>0.000000</td>\n    </tr>\n  </tbody>\n</table>\n<p>5 rows × 160 columns</p>\n</div>"
     },
     "execution_count": 11,
     "metadata": {},
     "output_type": "execute_result"
    }
   ],
   "source": [
    "df[df_scores.features].head()"
   ]
  },
  {
   "cell_type": "code",
   "execution_count": 12,
   "metadata": {
    "ExecuteTime": {
     "end_time": "2023-08-16T10:06:57.996944700Z",
     "start_time": "2023-08-16T10:02:44.060566600Z"
    }
   },
   "outputs": [
    {
     "data": {
      "text/plain": "Text(0.5, 1.03, 'Highest correlation features')"
     },
     "execution_count": 12,
     "metadata": {},
     "output_type": "execute_result"
    },
    {
     "name": "stdout",
     "output_type": "stream",
     "text": [
      "Error in callback <function flush_figures at 0x000002335F0D1A20> (for post_execute):\n"
     ]
    },
    {
     "ename": "KeyboardInterrupt",
     "evalue": "",
     "output_type": "error",
     "traceback": [
      "\u001B[1;31m---------------------------------------------------------------------------\u001B[0m",
      "\u001B[1;31mKeyboardInterrupt\u001B[0m                         Traceback (most recent call last)",
      "File \u001B[1;32mD:\\FD\\venv\\lib\\site-packages\\matplotlib_inline\\backend_inline.py:126\u001B[0m, in \u001B[0;36mflush_figures\u001B[1;34m()\u001B[0m\n\u001B[0;32m    123\u001B[0m \u001B[38;5;28;01mif\u001B[39;00m InlineBackend\u001B[38;5;241m.\u001B[39minstance()\u001B[38;5;241m.\u001B[39mclose_figures:\n\u001B[0;32m    124\u001B[0m     \u001B[38;5;66;03m# ignore the tracking, just draw and close all figures\u001B[39;00m\n\u001B[0;32m    125\u001B[0m     \u001B[38;5;28;01mtry\u001B[39;00m:\n\u001B[1;32m--> 126\u001B[0m         \u001B[38;5;28;01mreturn\u001B[39;00m \u001B[43mshow\u001B[49m\u001B[43m(\u001B[49m\u001B[38;5;28;43;01mTrue\u001B[39;49;00m\u001B[43m)\u001B[49m\n\u001B[0;32m    127\u001B[0m     \u001B[38;5;28;01mexcept\u001B[39;00m \u001B[38;5;167;01mException\u001B[39;00m \u001B[38;5;28;01mas\u001B[39;00m e:\n\u001B[0;32m    128\u001B[0m         \u001B[38;5;66;03m# safely show traceback if in IPython, else raise\u001B[39;00m\n\u001B[0;32m    129\u001B[0m         ip \u001B[38;5;241m=\u001B[39m get_ipython()\n",
      "File \u001B[1;32mD:\\FD\\venv\\lib\\site-packages\\matplotlib_inline\\backend_inline.py:90\u001B[0m, in \u001B[0;36mshow\u001B[1;34m(close, block)\u001B[0m\n\u001B[0;32m     88\u001B[0m \u001B[38;5;28;01mtry\u001B[39;00m:\n\u001B[0;32m     89\u001B[0m     \u001B[38;5;28;01mfor\u001B[39;00m figure_manager \u001B[38;5;129;01min\u001B[39;00m Gcf\u001B[38;5;241m.\u001B[39mget_all_fig_managers():\n\u001B[1;32m---> 90\u001B[0m         \u001B[43mdisplay\u001B[49m\u001B[43m(\u001B[49m\n\u001B[0;32m     91\u001B[0m \u001B[43m            \u001B[49m\u001B[43mfigure_manager\u001B[49m\u001B[38;5;241;43m.\u001B[39;49m\u001B[43mcanvas\u001B[49m\u001B[38;5;241;43m.\u001B[39;49m\u001B[43mfigure\u001B[49m\u001B[43m,\u001B[49m\n\u001B[0;32m     92\u001B[0m \u001B[43m            \u001B[49m\u001B[43mmetadata\u001B[49m\u001B[38;5;241;43m=\u001B[39;49m\u001B[43m_fetch_figure_metadata\u001B[49m\u001B[43m(\u001B[49m\u001B[43mfigure_manager\u001B[49m\u001B[38;5;241;43m.\u001B[39;49m\u001B[43mcanvas\u001B[49m\u001B[38;5;241;43m.\u001B[39;49m\u001B[43mfigure\u001B[49m\u001B[43m)\u001B[49m\n\u001B[0;32m     93\u001B[0m \u001B[43m        \u001B[49m\u001B[43m)\u001B[49m\n\u001B[0;32m     94\u001B[0m \u001B[38;5;28;01mfinally\u001B[39;00m:\n\u001B[0;32m     95\u001B[0m     show\u001B[38;5;241m.\u001B[39m_to_draw \u001B[38;5;241m=\u001B[39m []\n",
      "File \u001B[1;32mD:\\FD\\venv\\lib\\site-packages\\IPython\\core\\display_functions.py:298\u001B[0m, in \u001B[0;36mdisplay\u001B[1;34m(include, exclude, metadata, transient, display_id, raw, clear, *objs, **kwargs)\u001B[0m\n\u001B[0;32m    296\u001B[0m     publish_display_data(data\u001B[38;5;241m=\u001B[39mobj, metadata\u001B[38;5;241m=\u001B[39mmetadata, \u001B[38;5;241m*\u001B[39m\u001B[38;5;241m*\u001B[39mkwargs)\n\u001B[0;32m    297\u001B[0m \u001B[38;5;28;01melse\u001B[39;00m:\n\u001B[1;32m--> 298\u001B[0m     format_dict, md_dict \u001B[38;5;241m=\u001B[39m \u001B[38;5;28;43mformat\u001B[39;49m\u001B[43m(\u001B[49m\u001B[43mobj\u001B[49m\u001B[43m,\u001B[49m\u001B[43m \u001B[49m\u001B[43minclude\u001B[49m\u001B[38;5;241;43m=\u001B[39;49m\u001B[43minclude\u001B[49m\u001B[43m,\u001B[49m\u001B[43m \u001B[49m\u001B[43mexclude\u001B[49m\u001B[38;5;241;43m=\u001B[39;49m\u001B[43mexclude\u001B[49m\u001B[43m)\u001B[49m\n\u001B[0;32m    299\u001B[0m     \u001B[38;5;28;01mif\u001B[39;00m \u001B[38;5;129;01mnot\u001B[39;00m format_dict:\n\u001B[0;32m    300\u001B[0m         \u001B[38;5;66;03m# nothing to display (e.g. _ipython_display_ took over)\u001B[39;00m\n\u001B[0;32m    301\u001B[0m         \u001B[38;5;28;01mcontinue\u001B[39;00m\n",
      "File \u001B[1;32mD:\\FD\\venv\\lib\\site-packages\\IPython\\core\\formatters.py:179\u001B[0m, in \u001B[0;36mDisplayFormatter.format\u001B[1;34m(self, obj, include, exclude)\u001B[0m\n\u001B[0;32m    177\u001B[0m md \u001B[38;5;241m=\u001B[39m \u001B[38;5;28;01mNone\u001B[39;00m\n\u001B[0;32m    178\u001B[0m \u001B[38;5;28;01mtry\u001B[39;00m:\n\u001B[1;32m--> 179\u001B[0m     data \u001B[38;5;241m=\u001B[39m \u001B[43mformatter\u001B[49m\u001B[43m(\u001B[49m\u001B[43mobj\u001B[49m\u001B[43m)\u001B[49m\n\u001B[0;32m    180\u001B[0m \u001B[38;5;28;01mexcept\u001B[39;00m:\n\u001B[0;32m    181\u001B[0m     \u001B[38;5;66;03m# FIXME: log the exception\u001B[39;00m\n\u001B[0;32m    182\u001B[0m     \u001B[38;5;28;01mraise\u001B[39;00m\n",
      "File \u001B[1;32mD:\\FD\\venv\\lib\\site-packages\\decorator.py:232\u001B[0m, in \u001B[0;36mdecorate.<locals>.fun\u001B[1;34m(*args, **kw)\u001B[0m\n\u001B[0;32m    230\u001B[0m \u001B[38;5;28;01mif\u001B[39;00m \u001B[38;5;129;01mnot\u001B[39;00m kwsyntax:\n\u001B[0;32m    231\u001B[0m     args, kw \u001B[38;5;241m=\u001B[39m fix(args, kw, sig)\n\u001B[1;32m--> 232\u001B[0m \u001B[38;5;28;01mreturn\u001B[39;00m caller(func, \u001B[38;5;241m*\u001B[39m(extras \u001B[38;5;241m+\u001B[39m args), \u001B[38;5;241m*\u001B[39m\u001B[38;5;241m*\u001B[39mkw)\n",
      "File \u001B[1;32mD:\\FD\\venv\\lib\\site-packages\\IPython\\core\\formatters.py:223\u001B[0m, in \u001B[0;36mcatch_format_error\u001B[1;34m(method, self, *args, **kwargs)\u001B[0m\n\u001B[0;32m    221\u001B[0m \u001B[38;5;250m\u001B[39m\u001B[38;5;124;03m\"\"\"show traceback on failed format call\"\"\"\u001B[39;00m\n\u001B[0;32m    222\u001B[0m \u001B[38;5;28;01mtry\u001B[39;00m:\n\u001B[1;32m--> 223\u001B[0m     r \u001B[38;5;241m=\u001B[39m method(\u001B[38;5;28mself\u001B[39m, \u001B[38;5;241m*\u001B[39margs, \u001B[38;5;241m*\u001B[39m\u001B[38;5;241m*\u001B[39mkwargs)\n\u001B[0;32m    224\u001B[0m \u001B[38;5;28;01mexcept\u001B[39;00m \u001B[38;5;167;01mNotImplementedError\u001B[39;00m:\n\u001B[0;32m    225\u001B[0m     \u001B[38;5;66;03m# don't warn on NotImplementedErrors\u001B[39;00m\n\u001B[0;32m    226\u001B[0m     \u001B[38;5;28;01mreturn\u001B[39;00m \u001B[38;5;28mself\u001B[39m\u001B[38;5;241m.\u001B[39m_check_return(\u001B[38;5;28;01mNone\u001B[39;00m, args[\u001B[38;5;241m0\u001B[39m])\n",
      "File \u001B[1;32mD:\\FD\\venv\\lib\\site-packages\\IPython\\core\\formatters.py:340\u001B[0m, in \u001B[0;36mBaseFormatter.__call__\u001B[1;34m(self, obj)\u001B[0m\n\u001B[0;32m    338\u001B[0m     \u001B[38;5;28;01mpass\u001B[39;00m\n\u001B[0;32m    339\u001B[0m \u001B[38;5;28;01melse\u001B[39;00m:\n\u001B[1;32m--> 340\u001B[0m     \u001B[38;5;28;01mreturn\u001B[39;00m \u001B[43mprinter\u001B[49m\u001B[43m(\u001B[49m\u001B[43mobj\u001B[49m\u001B[43m)\u001B[49m\n\u001B[0;32m    341\u001B[0m \u001B[38;5;66;03m# Finally look for special method names\u001B[39;00m\n\u001B[0;32m    342\u001B[0m method \u001B[38;5;241m=\u001B[39m get_real_method(obj, \u001B[38;5;28mself\u001B[39m\u001B[38;5;241m.\u001B[39mprint_method)\n",
      "File \u001B[1;32mD:\\FD\\venv\\lib\\site-packages\\IPython\\core\\pylabtools.py:152\u001B[0m, in \u001B[0;36mprint_figure\u001B[1;34m(fig, fmt, bbox_inches, base64, **kwargs)\u001B[0m\n\u001B[0;32m    149\u001B[0m     \u001B[38;5;28;01mfrom\u001B[39;00m \u001B[38;5;21;01mmatplotlib\u001B[39;00m\u001B[38;5;21;01m.\u001B[39;00m\u001B[38;5;21;01mbackend_bases\u001B[39;00m \u001B[38;5;28;01mimport\u001B[39;00m FigureCanvasBase\n\u001B[0;32m    150\u001B[0m     FigureCanvasBase(fig)\n\u001B[1;32m--> 152\u001B[0m fig\u001B[38;5;241m.\u001B[39mcanvas\u001B[38;5;241m.\u001B[39mprint_figure(bytes_io, \u001B[38;5;241m*\u001B[39m\u001B[38;5;241m*\u001B[39mkw)\n\u001B[0;32m    153\u001B[0m data \u001B[38;5;241m=\u001B[39m bytes_io\u001B[38;5;241m.\u001B[39mgetvalue()\n\u001B[0;32m    154\u001B[0m \u001B[38;5;28;01mif\u001B[39;00m fmt \u001B[38;5;241m==\u001B[39m \u001B[38;5;124m'\u001B[39m\u001B[38;5;124msvg\u001B[39m\u001B[38;5;124m'\u001B[39m:\n",
      "File \u001B[1;32mD:\\FD\\venv\\lib\\site-packages\\matplotlib\\backend_bases.py:2362\u001B[0m, in \u001B[0;36mFigureCanvasBase.print_figure\u001B[1;34m(self, filename, dpi, facecolor, edgecolor, orientation, format, bbox_inches, pad_inches, bbox_extra_artists, backend, **kwargs)\u001B[0m\n\u001B[0;32m   2358\u001B[0m \u001B[38;5;28;01mtry\u001B[39;00m:\n\u001B[0;32m   2359\u001B[0m     \u001B[38;5;66;03m# _get_renderer may change the figure dpi (as vector formats\u001B[39;00m\n\u001B[0;32m   2360\u001B[0m     \u001B[38;5;66;03m# force the figure dpi to 72), so we need to set it again here.\u001B[39;00m\n\u001B[0;32m   2361\u001B[0m     \u001B[38;5;28;01mwith\u001B[39;00m cbook\u001B[38;5;241m.\u001B[39m_setattr_cm(\u001B[38;5;28mself\u001B[39m\u001B[38;5;241m.\u001B[39mfigure, dpi\u001B[38;5;241m=\u001B[39mdpi):\n\u001B[1;32m-> 2362\u001B[0m         result \u001B[38;5;241m=\u001B[39m print_method(\n\u001B[0;32m   2363\u001B[0m             filename,\n\u001B[0;32m   2364\u001B[0m             facecolor\u001B[38;5;241m=\u001B[39mfacecolor,\n\u001B[0;32m   2365\u001B[0m             edgecolor\u001B[38;5;241m=\u001B[39medgecolor,\n\u001B[0;32m   2366\u001B[0m             orientation\u001B[38;5;241m=\u001B[39morientation,\n\u001B[0;32m   2367\u001B[0m             bbox_inches_restore\u001B[38;5;241m=\u001B[39m_bbox_inches_restore,\n\u001B[0;32m   2368\u001B[0m             \u001B[38;5;241m*\u001B[39m\u001B[38;5;241m*\u001B[39mkwargs)\n\u001B[0;32m   2369\u001B[0m \u001B[38;5;28;01mfinally\u001B[39;00m:\n\u001B[0;32m   2370\u001B[0m     \u001B[38;5;28;01mif\u001B[39;00m bbox_inches \u001B[38;5;129;01mand\u001B[39;00m restore_bbox:\n",
      "File \u001B[1;32mD:\\FD\\venv\\lib\\site-packages\\matplotlib\\backend_bases.py:2228\u001B[0m, in \u001B[0;36mFigureCanvasBase._switch_canvas_and_return_print_method.<locals>.<lambda>\u001B[1;34m(*args, **kwargs)\u001B[0m\n\u001B[0;32m   2224\u001B[0m     optional_kws \u001B[38;5;241m=\u001B[39m {  \u001B[38;5;66;03m# Passed by print_figure for other renderers.\u001B[39;00m\n\u001B[0;32m   2225\u001B[0m         \u001B[38;5;124m\"\u001B[39m\u001B[38;5;124mdpi\u001B[39m\u001B[38;5;124m\"\u001B[39m, \u001B[38;5;124m\"\u001B[39m\u001B[38;5;124mfacecolor\u001B[39m\u001B[38;5;124m\"\u001B[39m, \u001B[38;5;124m\"\u001B[39m\u001B[38;5;124medgecolor\u001B[39m\u001B[38;5;124m\"\u001B[39m, \u001B[38;5;124m\"\u001B[39m\u001B[38;5;124morientation\u001B[39m\u001B[38;5;124m\"\u001B[39m,\n\u001B[0;32m   2226\u001B[0m         \u001B[38;5;124m\"\u001B[39m\u001B[38;5;124mbbox_inches_restore\u001B[39m\u001B[38;5;124m\"\u001B[39m}\n\u001B[0;32m   2227\u001B[0m     skip \u001B[38;5;241m=\u001B[39m optional_kws \u001B[38;5;241m-\u001B[39m {\u001B[38;5;241m*\u001B[39minspect\u001B[38;5;241m.\u001B[39msignature(meth)\u001B[38;5;241m.\u001B[39mparameters}\n\u001B[1;32m-> 2228\u001B[0m     print_method \u001B[38;5;241m=\u001B[39m functools\u001B[38;5;241m.\u001B[39mwraps(meth)(\u001B[38;5;28;01mlambda\u001B[39;00m \u001B[38;5;241m*\u001B[39margs, \u001B[38;5;241m*\u001B[39m\u001B[38;5;241m*\u001B[39mkwargs: meth(\n\u001B[0;32m   2229\u001B[0m         \u001B[38;5;241m*\u001B[39margs, \u001B[38;5;241m*\u001B[39m\u001B[38;5;241m*\u001B[39m{k: v \u001B[38;5;28;01mfor\u001B[39;00m k, v \u001B[38;5;129;01min\u001B[39;00m kwargs\u001B[38;5;241m.\u001B[39mitems() \u001B[38;5;28;01mif\u001B[39;00m k \u001B[38;5;129;01mnot\u001B[39;00m \u001B[38;5;129;01min\u001B[39;00m skip}))\n\u001B[0;32m   2230\u001B[0m \u001B[38;5;28;01melse\u001B[39;00m:  \u001B[38;5;66;03m# Let third-parties do as they see fit.\u001B[39;00m\n\u001B[0;32m   2231\u001B[0m     print_method \u001B[38;5;241m=\u001B[39m meth\n",
      "File \u001B[1;32mD:\\FD\\venv\\lib\\site-packages\\matplotlib\\backends\\backend_agg.py:509\u001B[0m, in \u001B[0;36mFigureCanvasAgg.print_png\u001B[1;34m(self, filename_or_obj, metadata, pil_kwargs)\u001B[0m\n\u001B[0;32m    462\u001B[0m \u001B[38;5;28;01mdef\u001B[39;00m \u001B[38;5;21mprint_png\u001B[39m(\u001B[38;5;28mself\u001B[39m, filename_or_obj, \u001B[38;5;241m*\u001B[39m, metadata\u001B[38;5;241m=\u001B[39m\u001B[38;5;28;01mNone\u001B[39;00m, pil_kwargs\u001B[38;5;241m=\u001B[39m\u001B[38;5;28;01mNone\u001B[39;00m):\n\u001B[0;32m    463\u001B[0m \u001B[38;5;250m    \u001B[39m\u001B[38;5;124;03m\"\"\"\u001B[39;00m\n\u001B[0;32m    464\u001B[0m \u001B[38;5;124;03m    Write the figure to a PNG file.\u001B[39;00m\n\u001B[0;32m    465\u001B[0m \n\u001B[1;32m   (...)\u001B[0m\n\u001B[0;32m    507\u001B[0m \u001B[38;5;124;03m        *metadata*, including the default 'Software' key.\u001B[39;00m\n\u001B[0;32m    508\u001B[0m \u001B[38;5;124;03m    \"\"\"\u001B[39;00m\n\u001B[1;32m--> 509\u001B[0m     \u001B[38;5;28;43mself\u001B[39;49m\u001B[38;5;241;43m.\u001B[39;49m\u001B[43m_print_pil\u001B[49m\u001B[43m(\u001B[49m\u001B[43mfilename_or_obj\u001B[49m\u001B[43m,\u001B[49m\u001B[43m \u001B[49m\u001B[38;5;124;43m\"\u001B[39;49m\u001B[38;5;124;43mpng\u001B[39;49m\u001B[38;5;124;43m\"\u001B[39;49m\u001B[43m,\u001B[49m\u001B[43m \u001B[49m\u001B[43mpil_kwargs\u001B[49m\u001B[43m,\u001B[49m\u001B[43m \u001B[49m\u001B[43mmetadata\u001B[49m\u001B[43m)\u001B[49m\n",
      "File \u001B[1;32mD:\\FD\\venv\\lib\\site-packages\\matplotlib\\backends\\backend_agg.py:457\u001B[0m, in \u001B[0;36mFigureCanvasAgg._print_pil\u001B[1;34m(self, filename_or_obj, fmt, pil_kwargs, metadata)\u001B[0m\n\u001B[0;32m    452\u001B[0m \u001B[38;5;28;01mdef\u001B[39;00m \u001B[38;5;21m_print_pil\u001B[39m(\u001B[38;5;28mself\u001B[39m, filename_or_obj, fmt, pil_kwargs, metadata\u001B[38;5;241m=\u001B[39m\u001B[38;5;28;01mNone\u001B[39;00m):\n\u001B[0;32m    453\u001B[0m \u001B[38;5;250m    \u001B[39m\u001B[38;5;124;03m\"\"\"\u001B[39;00m\n\u001B[0;32m    454\u001B[0m \u001B[38;5;124;03m    Draw the canvas, then save it using `.image.imsave` (to which\u001B[39;00m\n\u001B[0;32m    455\u001B[0m \u001B[38;5;124;03m    *pil_kwargs* and *metadata* are forwarded).\u001B[39;00m\n\u001B[0;32m    456\u001B[0m \u001B[38;5;124;03m    \"\"\"\u001B[39;00m\n\u001B[1;32m--> 457\u001B[0m     \u001B[43mFigureCanvasAgg\u001B[49m\u001B[38;5;241;43m.\u001B[39;49m\u001B[43mdraw\u001B[49m\u001B[43m(\u001B[49m\u001B[38;5;28;43mself\u001B[39;49m\u001B[43m)\u001B[49m\n\u001B[0;32m    458\u001B[0m     mpl\u001B[38;5;241m.\u001B[39mimage\u001B[38;5;241m.\u001B[39mimsave(\n\u001B[0;32m    459\u001B[0m         filename_or_obj, \u001B[38;5;28mself\u001B[39m\u001B[38;5;241m.\u001B[39mbuffer_rgba(), \u001B[38;5;28mformat\u001B[39m\u001B[38;5;241m=\u001B[39mfmt, origin\u001B[38;5;241m=\u001B[39m\u001B[38;5;124m\"\u001B[39m\u001B[38;5;124mupper\u001B[39m\u001B[38;5;124m\"\u001B[39m,\n\u001B[0;32m    460\u001B[0m         dpi\u001B[38;5;241m=\u001B[39m\u001B[38;5;28mself\u001B[39m\u001B[38;5;241m.\u001B[39mfigure\u001B[38;5;241m.\u001B[39mdpi, metadata\u001B[38;5;241m=\u001B[39mmetadata, pil_kwargs\u001B[38;5;241m=\u001B[39mpil_kwargs)\n",
      "File \u001B[1;32mD:\\FD\\venv\\lib\\site-packages\\matplotlib\\backends\\backend_agg.py:400\u001B[0m, in \u001B[0;36mFigureCanvasAgg.draw\u001B[1;34m(self)\u001B[0m\n\u001B[0;32m    396\u001B[0m \u001B[38;5;66;03m# Acquire a lock on the shared font cache.\u001B[39;00m\n\u001B[0;32m    397\u001B[0m \u001B[38;5;28;01mwith\u001B[39;00m RendererAgg\u001B[38;5;241m.\u001B[39mlock, \\\n\u001B[0;32m    398\u001B[0m      (\u001B[38;5;28mself\u001B[39m\u001B[38;5;241m.\u001B[39mtoolbar\u001B[38;5;241m.\u001B[39m_wait_cursor_for_draw_cm() \u001B[38;5;28;01mif\u001B[39;00m \u001B[38;5;28mself\u001B[39m\u001B[38;5;241m.\u001B[39mtoolbar\n\u001B[0;32m    399\u001B[0m       \u001B[38;5;28;01melse\u001B[39;00m nullcontext()):\n\u001B[1;32m--> 400\u001B[0m     \u001B[38;5;28;43mself\u001B[39;49m\u001B[38;5;241;43m.\u001B[39;49m\u001B[43mfigure\u001B[49m\u001B[38;5;241;43m.\u001B[39;49m\u001B[43mdraw\u001B[49m\u001B[43m(\u001B[49m\u001B[38;5;28;43mself\u001B[39;49m\u001B[38;5;241;43m.\u001B[39;49m\u001B[43mrenderer\u001B[49m\u001B[43m)\u001B[49m\n\u001B[0;32m    401\u001B[0m     \u001B[38;5;66;03m# A GUI class may be need to update a window using this draw, so\u001B[39;00m\n\u001B[0;32m    402\u001B[0m     \u001B[38;5;66;03m# don't forget to call the superclass.\u001B[39;00m\n\u001B[0;32m    403\u001B[0m     \u001B[38;5;28msuper\u001B[39m()\u001B[38;5;241m.\u001B[39mdraw()\n",
      "File \u001B[1;32mD:\\FD\\venv\\lib\\site-packages\\matplotlib\\artist.py:95\u001B[0m, in \u001B[0;36m_finalize_rasterization.<locals>.draw_wrapper\u001B[1;34m(artist, renderer, *args, **kwargs)\u001B[0m\n\u001B[0;32m     93\u001B[0m \u001B[38;5;129m@wraps\u001B[39m(draw)\n\u001B[0;32m     94\u001B[0m \u001B[38;5;28;01mdef\u001B[39;00m \u001B[38;5;21mdraw_wrapper\u001B[39m(artist, renderer, \u001B[38;5;241m*\u001B[39margs, \u001B[38;5;241m*\u001B[39m\u001B[38;5;241m*\u001B[39mkwargs):\n\u001B[1;32m---> 95\u001B[0m     result \u001B[38;5;241m=\u001B[39m draw(artist, renderer, \u001B[38;5;241m*\u001B[39margs, \u001B[38;5;241m*\u001B[39m\u001B[38;5;241m*\u001B[39mkwargs)\n\u001B[0;32m     96\u001B[0m     \u001B[38;5;28;01mif\u001B[39;00m renderer\u001B[38;5;241m.\u001B[39m_rasterizing:\n\u001B[0;32m     97\u001B[0m         renderer\u001B[38;5;241m.\u001B[39mstop_rasterizing()\n",
      "File \u001B[1;32mD:\\FD\\venv\\lib\\site-packages\\matplotlib\\artist.py:72\u001B[0m, in \u001B[0;36mallow_rasterization.<locals>.draw_wrapper\u001B[1;34m(artist, renderer)\u001B[0m\n\u001B[0;32m     69\u001B[0m     \u001B[38;5;28;01mif\u001B[39;00m artist\u001B[38;5;241m.\u001B[39mget_agg_filter() \u001B[38;5;129;01mis\u001B[39;00m \u001B[38;5;129;01mnot\u001B[39;00m \u001B[38;5;28;01mNone\u001B[39;00m:\n\u001B[0;32m     70\u001B[0m         renderer\u001B[38;5;241m.\u001B[39mstart_filter()\n\u001B[1;32m---> 72\u001B[0m     \u001B[38;5;28;01mreturn\u001B[39;00m \u001B[43mdraw\u001B[49m\u001B[43m(\u001B[49m\u001B[43martist\u001B[49m\u001B[43m,\u001B[49m\u001B[43m \u001B[49m\u001B[43mrenderer\u001B[49m\u001B[43m)\u001B[49m\n\u001B[0;32m     73\u001B[0m \u001B[38;5;28;01mfinally\u001B[39;00m:\n\u001B[0;32m     74\u001B[0m     \u001B[38;5;28;01mif\u001B[39;00m artist\u001B[38;5;241m.\u001B[39mget_agg_filter() \u001B[38;5;129;01mis\u001B[39;00m \u001B[38;5;129;01mnot\u001B[39;00m \u001B[38;5;28;01mNone\u001B[39;00m:\n",
      "File \u001B[1;32mD:\\FD\\venv\\lib\\site-packages\\matplotlib\\figure.py:3125\u001B[0m, in \u001B[0;36mFigure.draw\u001B[1;34m(self, renderer)\u001B[0m\n\u001B[0;32m   3122\u001B[0m         \u001B[38;5;66;03m# ValueError can occur when resizing a window.\u001B[39;00m\n\u001B[0;32m   3124\u001B[0m \u001B[38;5;28mself\u001B[39m\u001B[38;5;241m.\u001B[39mpatch\u001B[38;5;241m.\u001B[39mdraw(renderer)\n\u001B[1;32m-> 3125\u001B[0m \u001B[43mmimage\u001B[49m\u001B[38;5;241;43m.\u001B[39;49m\u001B[43m_draw_list_compositing_images\u001B[49m\u001B[43m(\u001B[49m\n\u001B[0;32m   3126\u001B[0m \u001B[43m    \u001B[49m\u001B[43mrenderer\u001B[49m\u001B[43m,\u001B[49m\u001B[43m \u001B[49m\u001B[38;5;28;43mself\u001B[39;49m\u001B[43m,\u001B[49m\u001B[43m \u001B[49m\u001B[43martists\u001B[49m\u001B[43m,\u001B[49m\u001B[43m \u001B[49m\u001B[38;5;28;43mself\u001B[39;49m\u001B[38;5;241;43m.\u001B[39;49m\u001B[43msuppressComposite\u001B[49m\u001B[43m)\u001B[49m\n\u001B[0;32m   3128\u001B[0m \u001B[38;5;28;01mfor\u001B[39;00m sfig \u001B[38;5;129;01min\u001B[39;00m \u001B[38;5;28mself\u001B[39m\u001B[38;5;241m.\u001B[39msubfigs:\n\u001B[0;32m   3129\u001B[0m     sfig\u001B[38;5;241m.\u001B[39mdraw(renderer)\n",
      "File \u001B[1;32mD:\\FD\\venv\\lib\\site-packages\\matplotlib\\image.py:131\u001B[0m, in \u001B[0;36m_draw_list_compositing_images\u001B[1;34m(renderer, parent, artists, suppress_composite)\u001B[0m\n\u001B[0;32m    129\u001B[0m \u001B[38;5;28;01mif\u001B[39;00m not_composite \u001B[38;5;129;01mor\u001B[39;00m \u001B[38;5;129;01mnot\u001B[39;00m has_images:\n\u001B[0;32m    130\u001B[0m     \u001B[38;5;28;01mfor\u001B[39;00m a \u001B[38;5;129;01min\u001B[39;00m artists:\n\u001B[1;32m--> 131\u001B[0m         \u001B[43ma\u001B[49m\u001B[38;5;241;43m.\u001B[39;49m\u001B[43mdraw\u001B[49m\u001B[43m(\u001B[49m\u001B[43mrenderer\u001B[49m\u001B[43m)\u001B[49m\n\u001B[0;32m    132\u001B[0m \u001B[38;5;28;01melse\u001B[39;00m:\n\u001B[0;32m    133\u001B[0m     \u001B[38;5;66;03m# Composite any adjacent images together\u001B[39;00m\n\u001B[0;32m    134\u001B[0m     image_group \u001B[38;5;241m=\u001B[39m []\n",
      "File \u001B[1;32mD:\\FD\\venv\\lib\\site-packages\\matplotlib\\artist.py:72\u001B[0m, in \u001B[0;36mallow_rasterization.<locals>.draw_wrapper\u001B[1;34m(artist, renderer)\u001B[0m\n\u001B[0;32m     69\u001B[0m     \u001B[38;5;28;01mif\u001B[39;00m artist\u001B[38;5;241m.\u001B[39mget_agg_filter() \u001B[38;5;129;01mis\u001B[39;00m \u001B[38;5;129;01mnot\u001B[39;00m \u001B[38;5;28;01mNone\u001B[39;00m:\n\u001B[0;32m     70\u001B[0m         renderer\u001B[38;5;241m.\u001B[39mstart_filter()\n\u001B[1;32m---> 72\u001B[0m     \u001B[38;5;28;01mreturn\u001B[39;00m \u001B[43mdraw\u001B[49m\u001B[43m(\u001B[49m\u001B[43martist\u001B[49m\u001B[43m,\u001B[49m\u001B[43m \u001B[49m\u001B[43mrenderer\u001B[49m\u001B[43m)\u001B[49m\n\u001B[0;32m     73\u001B[0m \u001B[38;5;28;01mfinally\u001B[39;00m:\n\u001B[0;32m     74\u001B[0m     \u001B[38;5;28;01mif\u001B[39;00m artist\u001B[38;5;241m.\u001B[39mget_agg_filter() \u001B[38;5;129;01mis\u001B[39;00m \u001B[38;5;129;01mnot\u001B[39;00m \u001B[38;5;28;01mNone\u001B[39;00m:\n",
      "File \u001B[1;32mD:\\FD\\venv\\lib\\site-packages\\matplotlib\\axes\\_base.py:3066\u001B[0m, in \u001B[0;36m_AxesBase.draw\u001B[1;34m(self, renderer)\u001B[0m\n\u001B[0;32m   3063\u001B[0m \u001B[38;5;28;01mif\u001B[39;00m artists_rasterized:\n\u001B[0;32m   3064\u001B[0m     _draw_rasterized(\u001B[38;5;28mself\u001B[39m\u001B[38;5;241m.\u001B[39mfigure, artists_rasterized, renderer)\n\u001B[1;32m-> 3066\u001B[0m \u001B[43mmimage\u001B[49m\u001B[38;5;241;43m.\u001B[39;49m\u001B[43m_draw_list_compositing_images\u001B[49m\u001B[43m(\u001B[49m\n\u001B[0;32m   3067\u001B[0m \u001B[43m    \u001B[49m\u001B[43mrenderer\u001B[49m\u001B[43m,\u001B[49m\u001B[43m \u001B[49m\u001B[38;5;28;43mself\u001B[39;49m\u001B[43m,\u001B[49m\u001B[43m \u001B[49m\u001B[43martists\u001B[49m\u001B[43m,\u001B[49m\u001B[43m \u001B[49m\u001B[38;5;28;43mself\u001B[39;49m\u001B[38;5;241;43m.\u001B[39;49m\u001B[43mfigure\u001B[49m\u001B[38;5;241;43m.\u001B[39;49m\u001B[43msuppressComposite\u001B[49m\u001B[43m)\u001B[49m\n\u001B[0;32m   3069\u001B[0m renderer\u001B[38;5;241m.\u001B[39mclose_group(\u001B[38;5;124m'\u001B[39m\u001B[38;5;124maxes\u001B[39m\u001B[38;5;124m'\u001B[39m)\n\u001B[0;32m   3070\u001B[0m \u001B[38;5;28mself\u001B[39m\u001B[38;5;241m.\u001B[39mstale \u001B[38;5;241m=\u001B[39m \u001B[38;5;28;01mFalse\u001B[39;00m\n",
      "File \u001B[1;32mD:\\FD\\venv\\lib\\site-packages\\matplotlib\\image.py:131\u001B[0m, in \u001B[0;36m_draw_list_compositing_images\u001B[1;34m(renderer, parent, artists, suppress_composite)\u001B[0m\n\u001B[0;32m    129\u001B[0m \u001B[38;5;28;01mif\u001B[39;00m not_composite \u001B[38;5;129;01mor\u001B[39;00m \u001B[38;5;129;01mnot\u001B[39;00m has_images:\n\u001B[0;32m    130\u001B[0m     \u001B[38;5;28;01mfor\u001B[39;00m a \u001B[38;5;129;01min\u001B[39;00m artists:\n\u001B[1;32m--> 131\u001B[0m         \u001B[43ma\u001B[49m\u001B[38;5;241;43m.\u001B[39;49m\u001B[43mdraw\u001B[49m\u001B[43m(\u001B[49m\u001B[43mrenderer\u001B[49m\u001B[43m)\u001B[49m\n\u001B[0;32m    132\u001B[0m \u001B[38;5;28;01melse\u001B[39;00m:\n\u001B[0;32m    133\u001B[0m     \u001B[38;5;66;03m# Composite any adjacent images together\u001B[39;00m\n\u001B[0;32m    134\u001B[0m     image_group \u001B[38;5;241m=\u001B[39m []\n",
      "File \u001B[1;32mD:\\FD\\venv\\lib\\site-packages\\matplotlib\\artist.py:72\u001B[0m, in \u001B[0;36mallow_rasterization.<locals>.draw_wrapper\u001B[1;34m(artist, renderer)\u001B[0m\n\u001B[0;32m     69\u001B[0m     \u001B[38;5;28;01mif\u001B[39;00m artist\u001B[38;5;241m.\u001B[39mget_agg_filter() \u001B[38;5;129;01mis\u001B[39;00m \u001B[38;5;129;01mnot\u001B[39;00m \u001B[38;5;28;01mNone\u001B[39;00m:\n\u001B[0;32m     70\u001B[0m         renderer\u001B[38;5;241m.\u001B[39mstart_filter()\n\u001B[1;32m---> 72\u001B[0m     \u001B[38;5;28;01mreturn\u001B[39;00m \u001B[43mdraw\u001B[49m\u001B[43m(\u001B[49m\u001B[43martist\u001B[49m\u001B[43m,\u001B[49m\u001B[43m \u001B[49m\u001B[43mrenderer\u001B[49m\u001B[43m)\u001B[49m\n\u001B[0;32m     73\u001B[0m \u001B[38;5;28;01mfinally\u001B[39;00m:\n\u001B[0;32m     74\u001B[0m     \u001B[38;5;28;01mif\u001B[39;00m artist\u001B[38;5;241m.\u001B[39mget_agg_filter() \u001B[38;5;129;01mis\u001B[39;00m \u001B[38;5;129;01mnot\u001B[39;00m \u001B[38;5;28;01mNone\u001B[39;00m:\n",
      "File \u001B[1;32mD:\\FD\\venv\\lib\\site-packages\\matplotlib\\collections.py:972\u001B[0m, in \u001B[0;36m_CollectionWithSizes.draw\u001B[1;34m(self, renderer)\u001B[0m\n\u001B[0;32m    969\u001B[0m \u001B[38;5;129m@artist\u001B[39m\u001B[38;5;241m.\u001B[39mallow_rasterization\n\u001B[0;32m    970\u001B[0m \u001B[38;5;28;01mdef\u001B[39;00m \u001B[38;5;21mdraw\u001B[39m(\u001B[38;5;28mself\u001B[39m, renderer):\n\u001B[0;32m    971\u001B[0m     \u001B[38;5;28mself\u001B[39m\u001B[38;5;241m.\u001B[39mset_sizes(\u001B[38;5;28mself\u001B[39m\u001B[38;5;241m.\u001B[39m_sizes, \u001B[38;5;28mself\u001B[39m\u001B[38;5;241m.\u001B[39mfigure\u001B[38;5;241m.\u001B[39mdpi)\n\u001B[1;32m--> 972\u001B[0m     \u001B[38;5;28;43msuper\u001B[39;49m\u001B[43m(\u001B[49m\u001B[43m)\u001B[49m\u001B[38;5;241;43m.\u001B[39;49m\u001B[43mdraw\u001B[49m\u001B[43m(\u001B[49m\u001B[43mrenderer\u001B[49m\u001B[43m)\u001B[49m\n",
      "File \u001B[1;32mD:\\FD\\venv\\lib\\site-packages\\matplotlib\\artist.py:72\u001B[0m, in \u001B[0;36mallow_rasterization.<locals>.draw_wrapper\u001B[1;34m(artist, renderer)\u001B[0m\n\u001B[0;32m     69\u001B[0m     \u001B[38;5;28;01mif\u001B[39;00m artist\u001B[38;5;241m.\u001B[39mget_agg_filter() \u001B[38;5;129;01mis\u001B[39;00m \u001B[38;5;129;01mnot\u001B[39;00m \u001B[38;5;28;01mNone\u001B[39;00m:\n\u001B[0;32m     70\u001B[0m         renderer\u001B[38;5;241m.\u001B[39mstart_filter()\n\u001B[1;32m---> 72\u001B[0m     \u001B[38;5;28;01mreturn\u001B[39;00m \u001B[43mdraw\u001B[49m\u001B[43m(\u001B[49m\u001B[43martist\u001B[49m\u001B[43m,\u001B[49m\u001B[43m \u001B[49m\u001B[43mrenderer\u001B[49m\u001B[43m)\u001B[49m\n\u001B[0;32m     73\u001B[0m \u001B[38;5;28;01mfinally\u001B[39;00m:\n\u001B[0;32m     74\u001B[0m     \u001B[38;5;28;01mif\u001B[39;00m artist\u001B[38;5;241m.\u001B[39mget_agg_filter() \u001B[38;5;129;01mis\u001B[39;00m \u001B[38;5;129;01mnot\u001B[39;00m \u001B[38;5;28;01mNone\u001B[39;00m:\n",
      "File \u001B[1;32mD:\\FD\\venv\\lib\\site-packages\\matplotlib\\collections.py:409\u001B[0m, in \u001B[0;36mCollection.draw\u001B[1;34m(self, renderer)\u001B[0m\n\u001B[0;32m    405\u001B[0m     renderer\u001B[38;5;241m.\u001B[39mdraw_markers(\n\u001B[0;32m    406\u001B[0m         gc, paths[\u001B[38;5;241m0\u001B[39m], combined_transform\u001B[38;5;241m.\u001B[39mfrozen(),\n\u001B[0;32m    407\u001B[0m         mpath\u001B[38;5;241m.\u001B[39mPath(offsets), offset_trf, \u001B[38;5;28mtuple\u001B[39m(facecolors[\u001B[38;5;241m0\u001B[39m]))\n\u001B[0;32m    408\u001B[0m \u001B[38;5;28;01melse\u001B[39;00m:\n\u001B[1;32m--> 409\u001B[0m     \u001B[43mrenderer\u001B[49m\u001B[38;5;241;43m.\u001B[39;49m\u001B[43mdraw_path_collection\u001B[49m\u001B[43m(\u001B[49m\n\u001B[0;32m    410\u001B[0m \u001B[43m        \u001B[49m\u001B[43mgc\u001B[49m\u001B[43m,\u001B[49m\u001B[43m \u001B[49m\u001B[43mtransform\u001B[49m\u001B[38;5;241;43m.\u001B[39;49m\u001B[43mfrozen\u001B[49m\u001B[43m(\u001B[49m\u001B[43m)\u001B[49m\u001B[43m,\u001B[49m\u001B[43m \u001B[49m\u001B[43mpaths\u001B[49m\u001B[43m,\u001B[49m\n\u001B[0;32m    411\u001B[0m \u001B[43m        \u001B[49m\u001B[38;5;28;43mself\u001B[39;49m\u001B[38;5;241;43m.\u001B[39;49m\u001B[43mget_transforms\u001B[49m\u001B[43m(\u001B[49m\u001B[43m)\u001B[49m\u001B[43m,\u001B[49m\u001B[43m \u001B[49m\u001B[43moffsets\u001B[49m\u001B[43m,\u001B[49m\u001B[43m \u001B[49m\u001B[43moffset_trf\u001B[49m\u001B[43m,\u001B[49m\n\u001B[0;32m    412\u001B[0m \u001B[43m        \u001B[49m\u001B[38;5;28;43mself\u001B[39;49m\u001B[38;5;241;43m.\u001B[39;49m\u001B[43mget_facecolor\u001B[49m\u001B[43m(\u001B[49m\u001B[43m)\u001B[49m\u001B[43m,\u001B[49m\u001B[43m \u001B[49m\u001B[38;5;28;43mself\u001B[39;49m\u001B[38;5;241;43m.\u001B[39;49m\u001B[43mget_edgecolor\u001B[49m\u001B[43m(\u001B[49m\u001B[43m)\u001B[49m\u001B[43m,\u001B[49m\n\u001B[0;32m    413\u001B[0m \u001B[43m        \u001B[49m\u001B[38;5;28;43mself\u001B[39;49m\u001B[38;5;241;43m.\u001B[39;49m\u001B[43m_linewidths\u001B[49m\u001B[43m,\u001B[49m\u001B[43m \u001B[49m\u001B[38;5;28;43mself\u001B[39;49m\u001B[38;5;241;43m.\u001B[39;49m\u001B[43m_linestyles\u001B[49m\u001B[43m,\u001B[49m\n\u001B[0;32m    414\u001B[0m \u001B[43m        \u001B[49m\u001B[38;5;28;43mself\u001B[39;49m\u001B[38;5;241;43m.\u001B[39;49m\u001B[43m_antialiaseds\u001B[49m\u001B[43m,\u001B[49m\u001B[43m \u001B[49m\u001B[38;5;28;43mself\u001B[39;49m\u001B[38;5;241;43m.\u001B[39;49m\u001B[43m_urls\u001B[49m\u001B[43m,\u001B[49m\n\u001B[0;32m    415\u001B[0m \u001B[43m        \u001B[49m\u001B[38;5;124;43m\"\u001B[39;49m\u001B[38;5;124;43mscreen\u001B[39;49m\u001B[38;5;124;43m\"\u001B[39;49m\u001B[43m)\u001B[49m  \u001B[38;5;66;03m# offset_position, kept for backcompat.\u001B[39;00m\n\u001B[0;32m    417\u001B[0m gc\u001B[38;5;241m.\u001B[39mrestore()\n\u001B[0;32m    418\u001B[0m renderer\u001B[38;5;241m.\u001B[39mclose_group(\u001B[38;5;28mself\u001B[39m\u001B[38;5;241m.\u001B[39m\u001B[38;5;18m__class__\u001B[39m\u001B[38;5;241m.\u001B[39m\u001B[38;5;18m__name__\u001B[39m)\n",
      "File \u001B[1;32mD:\\FD\\venv\\lib\\site-packages\\matplotlib\\path.py:211\u001B[0m, in \u001B[0;36mPath.vertices\u001B[1;34m(self)\u001B[0m\n\u001B[0;32m    203\u001B[0m     \u001B[38;5;28mself\u001B[39m\u001B[38;5;241m.\u001B[39m_simplify_threshold \u001B[38;5;241m=\u001B[39m mpl\u001B[38;5;241m.\u001B[39mrcParams[\u001B[38;5;124m'\u001B[39m\u001B[38;5;124mpath.simplify_threshold\u001B[39m\u001B[38;5;124m'\u001B[39m]\n\u001B[0;32m    204\u001B[0m     \u001B[38;5;28mself\u001B[39m\u001B[38;5;241m.\u001B[39m_should_simplify \u001B[38;5;241m=\u001B[39m (\n\u001B[0;32m    205\u001B[0m         \u001B[38;5;28mself\u001B[39m\u001B[38;5;241m.\u001B[39m_simplify_threshold \u001B[38;5;241m>\u001B[39m \u001B[38;5;241m0\u001B[39m \u001B[38;5;129;01mand\u001B[39;00m\n\u001B[0;32m    206\u001B[0m         mpl\u001B[38;5;241m.\u001B[39mrcParams[\u001B[38;5;124m'\u001B[39m\u001B[38;5;124mpath.simplify\u001B[39m\u001B[38;5;124m'\u001B[39m] \u001B[38;5;129;01mand\u001B[39;00m\n\u001B[0;32m    207\u001B[0m         \u001B[38;5;28mlen\u001B[39m(\u001B[38;5;28mself\u001B[39m\u001B[38;5;241m.\u001B[39m_vertices) \u001B[38;5;241m>\u001B[39m\u001B[38;5;241m=\u001B[39m \u001B[38;5;241m128\u001B[39m \u001B[38;5;129;01mand\u001B[39;00m\n\u001B[0;32m    208\u001B[0m         (\u001B[38;5;28mself\u001B[39m\u001B[38;5;241m.\u001B[39m_codes \u001B[38;5;129;01mis\u001B[39;00m \u001B[38;5;28;01mNone\u001B[39;00m \u001B[38;5;129;01mor\u001B[39;00m np\u001B[38;5;241m.\u001B[39mall(\u001B[38;5;28mself\u001B[39m\u001B[38;5;241m.\u001B[39m_codes \u001B[38;5;241m<\u001B[39m\u001B[38;5;241m=\u001B[39m Path\u001B[38;5;241m.\u001B[39mLINETO))\n\u001B[0;32m    209\u001B[0m     )\n\u001B[1;32m--> 211\u001B[0m \u001B[38;5;129m@property\u001B[39m\n\u001B[0;32m    212\u001B[0m \u001B[38;5;28;01mdef\u001B[39;00m \u001B[38;5;21mvertices\u001B[39m(\u001B[38;5;28mself\u001B[39m):\n\u001B[0;32m    213\u001B[0m \u001B[38;5;250m    \u001B[39m\u001B[38;5;124;03m\"\"\"\u001B[39;00m\n\u001B[0;32m    214\u001B[0m \u001B[38;5;124;03m    The list of vertices in the `Path` as an Nx2 numpy array.\u001B[39;00m\n\u001B[0;32m    215\u001B[0m \u001B[38;5;124;03m    \"\"\"\u001B[39;00m\n\u001B[0;32m    216\u001B[0m     \u001B[38;5;28;01mreturn\u001B[39;00m \u001B[38;5;28mself\u001B[39m\u001B[38;5;241m.\u001B[39m_vertices\n",
      "\u001B[1;31mKeyboardInterrupt\u001B[0m: "
     ]
    }
   ],
   "source": [
    "low_f = df[['EXT_SOURCE_2', 'EXT_SOURCE_3', 'EXT_SOURCE_1', 'TARGET']]\n",
    "# for col in low_f.columns.to_list()[:-1]:\n",
    "#     low_f = low_f[\n",
    "#         (low_f[col] < np.quantile(low_f[col], 0.975)) &\n",
    "#         (low_f[col] > np.quantile(low_f[col], .025))]\n",
    "\n",
    "g = sns.pairplot(low_f, hue='TARGET')\n",
    "g.fig.suptitle('Highest correlation features', y=1.03)\n"
   ]
  },
  {
   "cell_type": "code",
   "execution_count": 13,
   "metadata": {
    "ExecuteTime": {
     "end_time": "2023-08-16T10:07:06.604746900Z",
     "start_time": "2023-08-16T10:06:57.994465100Z"
    }
   },
   "outputs": [
    {
     "ename": "KeyboardInterrupt",
     "evalue": "",
     "output_type": "error",
     "traceback": [
      "\u001B[1;31m---------------------------------------------------------------------------\u001B[0m",
      "\u001B[1;31mKeyboardInterrupt\u001B[0m                         Traceback (most recent call last)",
      "Cell \u001B[1;32mIn[13], line 7\u001B[0m\n\u001B[0;32m      1\u001B[0m low_f \u001B[38;5;241m=\u001B[39m df[[\u001B[38;5;124m'\u001B[39m\u001B[38;5;124mFLAG_MOBIL\u001B[39m\u001B[38;5;124m'\u001B[39m, \u001B[38;5;124m'\u001B[39m\u001B[38;5;124mYEARS_BEGINEXPLUATATION_MEDI\u001B[39m\u001B[38;5;124m'\u001B[39m, \u001B[38;5;124m'\u001B[39m\u001B[38;5;124mYEARS_BEGINEXPLUATATION_MODE\u001B[39m\u001B[38;5;124m'\u001B[39m, \u001B[38;5;124m'\u001B[39m\u001B[38;5;124mYEARS_BEGINEXPLUATATION_AVG\u001B[39m\u001B[38;5;124m'\u001B[39m, \u001B[38;5;124m'\u001B[39m\u001B[38;5;124mTARGET\u001B[39m\u001B[38;5;124m'\u001B[39m]]\n\u001B[0;32m      2\u001B[0m \u001B[38;5;66;03m# for col in low_f.columns.to_list()[:-1]:\u001B[39;00m\n\u001B[0;32m      3\u001B[0m \u001B[38;5;66;03m#     low_f = low_f[\u001B[39;00m\n\u001B[0;32m      4\u001B[0m \u001B[38;5;66;03m#         (low_f[col] < np.quantile(low_f[col], 0.975)) &\u001B[39;00m\n\u001B[0;32m      5\u001B[0m \u001B[38;5;66;03m#         (low_f[col] > np.quantile(low_f[col], .025))]\u001B[39;00m\n\u001B[1;32m----> 7\u001B[0m g \u001B[38;5;241m=\u001B[39m \u001B[43msns\u001B[49m\u001B[38;5;241;43m.\u001B[39;49m\u001B[43mpairplot\u001B[49m\u001B[43m(\u001B[49m\u001B[43mlow_f\u001B[49m\u001B[43m,\u001B[49m\u001B[43m \u001B[49m\u001B[43mhue\u001B[49m\u001B[38;5;241;43m=\u001B[39;49m\u001B[38;5;124;43m'\u001B[39;49m\u001B[38;5;124;43mTARGET\u001B[39;49m\u001B[38;5;124;43m'\u001B[39;49m\u001B[43m)\u001B[49m\n\u001B[0;32m      8\u001B[0m g\u001B[38;5;241m.\u001B[39mfig\u001B[38;5;241m.\u001B[39msuptitle(\u001B[38;5;124m'\u001B[39m\u001B[38;5;124mHighest correlation features\u001B[39m\u001B[38;5;124m'\u001B[39m, y\u001B[38;5;241m=\u001B[39m\u001B[38;5;241m1.03\u001B[39m)\n",
      "File \u001B[1;32mD:\\FD\\venv\\lib\\site-packages\\seaborn\\axisgrid.py:2148\u001B[0m, in \u001B[0;36mpairplot\u001B[1;34m(data, hue, hue_order, palette, vars, x_vars, y_vars, kind, diag_kind, markers, height, aspect, corner, dropna, plot_kws, diag_kws, grid_kws, size)\u001B[0m\n\u001B[0;32m   2146\u001B[0m     diag_kws\u001B[38;5;241m.\u001B[39msetdefault(\u001B[38;5;124m\"\u001B[39m\u001B[38;5;124mfill\u001B[39m\u001B[38;5;124m\"\u001B[39m, \u001B[38;5;28;01mTrue\u001B[39;00m)\n\u001B[0;32m   2147\u001B[0m     diag_kws\u001B[38;5;241m.\u001B[39msetdefault(\u001B[38;5;124m\"\u001B[39m\u001B[38;5;124mwarn_singular\u001B[39m\u001B[38;5;124m\"\u001B[39m, \u001B[38;5;28;01mFalse\u001B[39;00m)\n\u001B[1;32m-> 2148\u001B[0m     grid\u001B[38;5;241m.\u001B[39mmap_diag(kdeplot, \u001B[38;5;241m*\u001B[39m\u001B[38;5;241m*\u001B[39mdiag_kws)\n\u001B[0;32m   2150\u001B[0m \u001B[38;5;66;03m# Maybe plot on the off-diagonals\u001B[39;00m\n\u001B[0;32m   2151\u001B[0m \u001B[38;5;28;01mif\u001B[39;00m diag_kind \u001B[38;5;129;01mis\u001B[39;00m \u001B[38;5;129;01mnot\u001B[39;00m \u001B[38;5;28;01mNone\u001B[39;00m:\n",
      "File \u001B[1;32mD:\\FD\\venv\\lib\\site-packages\\seaborn\\axisgrid.py:1507\u001B[0m, in \u001B[0;36mPairGrid.map_diag\u001B[1;34m(self, func, **kwargs)\u001B[0m\n\u001B[0;32m   1505\u001B[0m     plot_kwargs\u001B[38;5;241m.\u001B[39msetdefault(\u001B[38;5;124m\"\u001B[39m\u001B[38;5;124mhue_order\u001B[39m\u001B[38;5;124m\"\u001B[39m, \u001B[38;5;28mself\u001B[39m\u001B[38;5;241m.\u001B[39m_hue_order)\n\u001B[0;32m   1506\u001B[0m     plot_kwargs\u001B[38;5;241m.\u001B[39msetdefault(\u001B[38;5;124m\"\u001B[39m\u001B[38;5;124mpalette\u001B[39m\u001B[38;5;124m\"\u001B[39m, \u001B[38;5;28mself\u001B[39m\u001B[38;5;241m.\u001B[39m_orig_palette)\n\u001B[1;32m-> 1507\u001B[0m     func(x\u001B[38;5;241m=\u001B[39mvector, \u001B[38;5;241m*\u001B[39m\u001B[38;5;241m*\u001B[39mplot_kwargs)\n\u001B[0;32m   1508\u001B[0m     ax\u001B[38;5;241m.\u001B[39mlegend_ \u001B[38;5;241m=\u001B[39m \u001B[38;5;28;01mNone\u001B[39;00m\n\u001B[0;32m   1510\u001B[0m \u001B[38;5;28mself\u001B[39m\u001B[38;5;241m.\u001B[39m_add_axis_labels()\n",
      "File \u001B[1;32mD:\\FD\\venv\\lib\\site-packages\\seaborn\\distributions.py:1717\u001B[0m, in \u001B[0;36mkdeplot\u001B[1;34m(data, x, y, hue, weights, palette, hue_order, hue_norm, color, fill, multiple, common_norm, common_grid, cumulative, bw_method, bw_adjust, warn_singular, log_scale, levels, thresh, gridsize, cut, clip, legend, cbar, cbar_ax, cbar_kws, ax, **kwargs)\u001B[0m\n\u001B[0;32m   1713\u001B[0m \u001B[38;5;28;01mif\u001B[39;00m p\u001B[38;5;241m.\u001B[39munivariate:\n\u001B[0;32m   1715\u001B[0m     plot_kws \u001B[38;5;241m=\u001B[39m kwargs\u001B[38;5;241m.\u001B[39mcopy()\n\u001B[1;32m-> 1717\u001B[0m     p\u001B[38;5;241m.\u001B[39mplot_univariate_density(\n\u001B[0;32m   1718\u001B[0m         multiple\u001B[38;5;241m=\u001B[39mmultiple,\n\u001B[0;32m   1719\u001B[0m         common_norm\u001B[38;5;241m=\u001B[39mcommon_norm,\n\u001B[0;32m   1720\u001B[0m         common_grid\u001B[38;5;241m=\u001B[39mcommon_grid,\n\u001B[0;32m   1721\u001B[0m         fill\u001B[38;5;241m=\u001B[39mfill,\n\u001B[0;32m   1722\u001B[0m         color\u001B[38;5;241m=\u001B[39mcolor,\n\u001B[0;32m   1723\u001B[0m         legend\u001B[38;5;241m=\u001B[39mlegend,\n\u001B[0;32m   1724\u001B[0m         warn_singular\u001B[38;5;241m=\u001B[39mwarn_singular,\n\u001B[0;32m   1725\u001B[0m         estimate_kws\u001B[38;5;241m=\u001B[39mestimate_kws,\n\u001B[0;32m   1726\u001B[0m         \u001B[38;5;241m*\u001B[39m\u001B[38;5;241m*\u001B[39mplot_kws,\n\u001B[0;32m   1727\u001B[0m     )\n\u001B[0;32m   1729\u001B[0m \u001B[38;5;28;01melse\u001B[39;00m:\n\u001B[0;32m   1731\u001B[0m     p\u001B[38;5;241m.\u001B[39mplot_bivariate_density(\n\u001B[0;32m   1732\u001B[0m         common_norm\u001B[38;5;241m=\u001B[39mcommon_norm,\n\u001B[0;32m   1733\u001B[0m         fill\u001B[38;5;241m=\u001B[39mfill,\n\u001B[1;32m   (...)\u001B[0m\n\u001B[0;32m   1743\u001B[0m         \u001B[38;5;241m*\u001B[39m\u001B[38;5;241m*\u001B[39mkwargs,\n\u001B[0;32m   1744\u001B[0m     )\n",
      "File \u001B[1;32mD:\\FD\\venv\\lib\\site-packages\\seaborn\\distributions.py:937\u001B[0m, in \u001B[0;36m_DistributionPlotter.plot_univariate_density\u001B[1;34m(self, multiple, common_norm, common_grid, warn_singular, fill, color, legend, estimate_kws, **plot_kws)\u001B[0m\n\u001B[0;32m    934\u001B[0m log_scale \u001B[38;5;241m=\u001B[39m \u001B[38;5;28mself\u001B[39m\u001B[38;5;241m.\u001B[39m_log_scaled(\u001B[38;5;28mself\u001B[39m\u001B[38;5;241m.\u001B[39mdata_variable)\n\u001B[0;32m    936\u001B[0m \u001B[38;5;66;03m# Do the computation\u001B[39;00m\n\u001B[1;32m--> 937\u001B[0m densities \u001B[38;5;241m=\u001B[39m \u001B[38;5;28;43mself\u001B[39;49m\u001B[38;5;241;43m.\u001B[39;49m\u001B[43m_compute_univariate_density\u001B[49m\u001B[43m(\u001B[49m\n\u001B[0;32m    938\u001B[0m \u001B[43m    \u001B[49m\u001B[38;5;28;43mself\u001B[39;49m\u001B[38;5;241;43m.\u001B[39;49m\u001B[43mdata_variable\u001B[49m\u001B[43m,\u001B[49m\n\u001B[0;32m    939\u001B[0m \u001B[43m    \u001B[49m\u001B[43mcommon_norm\u001B[49m\u001B[43m,\u001B[49m\n\u001B[0;32m    940\u001B[0m \u001B[43m    \u001B[49m\u001B[43mcommon_grid\u001B[49m\u001B[43m,\u001B[49m\n\u001B[0;32m    941\u001B[0m \u001B[43m    \u001B[49m\u001B[43mestimate_kws\u001B[49m\u001B[43m,\u001B[49m\n\u001B[0;32m    942\u001B[0m \u001B[43m    \u001B[49m\u001B[43mlog_scale\u001B[49m\u001B[43m,\u001B[49m\n\u001B[0;32m    943\u001B[0m \u001B[43m    \u001B[49m\u001B[43mwarn_singular\u001B[49m\u001B[43m,\u001B[49m\n\u001B[0;32m    944\u001B[0m \u001B[43m\u001B[49m\u001B[43m)\u001B[49m\n\u001B[0;32m    946\u001B[0m \u001B[38;5;66;03m# Adjust densities based on the `multiple` rule\u001B[39;00m\n\u001B[0;32m    947\u001B[0m densities, baselines \u001B[38;5;241m=\u001B[39m \u001B[38;5;28mself\u001B[39m\u001B[38;5;241m.\u001B[39m_resolve_multiple(densities, multiple)\n",
      "File \u001B[1;32mD:\\FD\\venv\\lib\\site-packages\\seaborn\\distributions.py:349\u001B[0m, in \u001B[0;36m_DistributionPlotter._compute_univariate_density\u001B[1;34m(self, data_variable, common_norm, common_grid, estimate_kws, log_scale, warn_singular)\u001B[0m\n\u001B[0;32m    345\u001B[0m \u001B[38;5;28;01mtry\u001B[39;00m:\n\u001B[0;32m    346\u001B[0m     \u001B[38;5;28;01mif\u001B[39;00m \u001B[38;5;129;01mnot\u001B[39;00m singular:\n\u001B[0;32m    347\u001B[0m         \u001B[38;5;66;03m# Convoluted approach needed because numerical failures\u001B[39;00m\n\u001B[0;32m    348\u001B[0m         \u001B[38;5;66;03m# can manifest in a few different ways.\u001B[39;00m\n\u001B[1;32m--> 349\u001B[0m         density, support \u001B[38;5;241m=\u001B[39m \u001B[43mestimator\u001B[49m\u001B[43m(\u001B[49m\u001B[43mobservations\u001B[49m\u001B[43m,\u001B[49m\u001B[43m \u001B[49m\u001B[43mweights\u001B[49m\u001B[38;5;241;43m=\u001B[39;49m\u001B[43mweights\u001B[49m\u001B[43m)\u001B[49m\n\u001B[0;32m    350\u001B[0m \u001B[38;5;28;01mexcept\u001B[39;00m np\u001B[38;5;241m.\u001B[39mlinalg\u001B[38;5;241m.\u001B[39mLinAlgError:\n\u001B[0;32m    351\u001B[0m     singular \u001B[38;5;241m=\u001B[39m \u001B[38;5;28;01mTrue\u001B[39;00m\n",
      "File \u001B[1;32mD:\\FD\\venv\\lib\\site-packages\\seaborn\\_statistics.py:192\u001B[0m, in \u001B[0;36mKDE.__call__\u001B[1;34m(self, x1, x2, weights)\u001B[0m\n\u001B[0;32m    190\u001B[0m \u001B[38;5;250m\u001B[39m\u001B[38;5;124;03m\"\"\"Fit and evaluate on univariate or bivariate data.\"\"\"\u001B[39;00m\n\u001B[0;32m    191\u001B[0m \u001B[38;5;28;01mif\u001B[39;00m x2 \u001B[38;5;129;01mis\u001B[39;00m \u001B[38;5;28;01mNone\u001B[39;00m:\n\u001B[1;32m--> 192\u001B[0m     \u001B[38;5;28;01mreturn\u001B[39;00m \u001B[38;5;28;43mself\u001B[39;49m\u001B[38;5;241;43m.\u001B[39;49m\u001B[43m_eval_univariate\u001B[49m\u001B[43m(\u001B[49m\u001B[43mx1\u001B[49m\u001B[43m,\u001B[49m\u001B[43m \u001B[49m\u001B[43mweights\u001B[49m\u001B[43m)\u001B[49m\n\u001B[0;32m    193\u001B[0m \u001B[38;5;28;01melse\u001B[39;00m:\n\u001B[0;32m    194\u001B[0m     \u001B[38;5;28;01mreturn\u001B[39;00m \u001B[38;5;28mself\u001B[39m\u001B[38;5;241m.\u001B[39m_eval_bivariate(x1, x2, weights)\n",
      "File \u001B[1;32mD:\\FD\\venv\\lib\\site-packages\\seaborn\\_statistics.py:161\u001B[0m, in \u001B[0;36mKDE._eval_univariate\u001B[1;34m(self, x, weights)\u001B[0m\n\u001B[0;32m    157\u001B[0m     density \u001B[38;5;241m=\u001B[39m np\u001B[38;5;241m.\u001B[39marray([\n\u001B[0;32m    158\u001B[0m         kde\u001B[38;5;241m.\u001B[39mintegrate_box_1d(s_0, s_i) \u001B[38;5;28;01mfor\u001B[39;00m s_i \u001B[38;5;129;01min\u001B[39;00m support\n\u001B[0;32m    159\u001B[0m     ])\n\u001B[0;32m    160\u001B[0m \u001B[38;5;28;01melse\u001B[39;00m:\n\u001B[1;32m--> 161\u001B[0m     density \u001B[38;5;241m=\u001B[39m \u001B[43mkde\u001B[49m\u001B[43m(\u001B[49m\u001B[43msupport\u001B[49m\u001B[43m)\u001B[49m\n\u001B[0;32m    163\u001B[0m \u001B[38;5;28;01mreturn\u001B[39;00m density, support\n",
      "File \u001B[1;32mD:\\FD\\venv\\lib\\site-packages\\scipy\\stats\\_kde.py:268\u001B[0m, in \u001B[0;36mgaussian_kde.evaluate\u001B[1;34m(self, points)\u001B[0m\n\u001B[0;32m    265\u001B[0m         \u001B[38;5;28;01mraise\u001B[39;00m \u001B[38;5;167;01mValueError\u001B[39;00m(msg)\n\u001B[0;32m    267\u001B[0m output_dtype, spec \u001B[38;5;241m=\u001B[39m _get_output_dtype(\u001B[38;5;28mself\u001B[39m\u001B[38;5;241m.\u001B[39mcovariance, points)\n\u001B[1;32m--> 268\u001B[0m result \u001B[38;5;241m=\u001B[39m \u001B[43mgaussian_kernel_estimate\u001B[49m\u001B[43m[\u001B[49m\u001B[43mspec\u001B[49m\u001B[43m]\u001B[49m\u001B[43m(\u001B[49m\n\u001B[0;32m    269\u001B[0m \u001B[43m    \u001B[49m\u001B[38;5;28;43mself\u001B[39;49m\u001B[38;5;241;43m.\u001B[39;49m\u001B[43mdataset\u001B[49m\u001B[38;5;241;43m.\u001B[39;49m\u001B[43mT\u001B[49m\u001B[43m,\u001B[49m\u001B[43m \u001B[49m\u001B[38;5;28;43mself\u001B[39;49m\u001B[38;5;241;43m.\u001B[39;49m\u001B[43mweights\u001B[49m\u001B[43m[\u001B[49m\u001B[43m:\u001B[49m\u001B[43m,\u001B[49m\u001B[43m \u001B[49m\u001B[38;5;28;43;01mNone\u001B[39;49;00m\u001B[43m]\u001B[49m\u001B[43m,\u001B[49m\n\u001B[0;32m    270\u001B[0m \u001B[43m    \u001B[49m\u001B[43mpoints\u001B[49m\u001B[38;5;241;43m.\u001B[39;49m\u001B[43mT\u001B[49m\u001B[43m,\u001B[49m\u001B[43m \u001B[49m\u001B[38;5;28;43mself\u001B[39;49m\u001B[38;5;241;43m.\u001B[39;49m\u001B[43mcho_cov\u001B[49m\u001B[43m,\u001B[49m\u001B[43m \u001B[49m\u001B[43moutput_dtype\u001B[49m\u001B[43m)\u001B[49m\n\u001B[0;32m    272\u001B[0m \u001B[38;5;28;01mreturn\u001B[39;00m result[:, \u001B[38;5;241m0\u001B[39m]\n",
      "\u001B[1;31mKeyboardInterrupt\u001B[0m: "
     ]
    },
    {
     "name": "stdout",
     "output_type": "stream",
     "text": [
      "Error in callback <function flush_figures at 0x000002335F0D1A20> (for post_execute):\n"
     ]
    },
    {
     "ename": "KeyboardInterrupt",
     "evalue": "",
     "output_type": "error",
     "traceback": [
      "\u001B[1;31m---------------------------------------------------------------------------\u001B[0m",
      "\u001B[1;31mKeyboardInterrupt\u001B[0m                         Traceback (most recent call last)",
      "File \u001B[1;32mD:\\FD\\venv\\lib\\site-packages\\matplotlib_inline\\backend_inline.py:126\u001B[0m, in \u001B[0;36mflush_figures\u001B[1;34m()\u001B[0m\n\u001B[0;32m    123\u001B[0m \u001B[38;5;28;01mif\u001B[39;00m InlineBackend\u001B[38;5;241m.\u001B[39minstance()\u001B[38;5;241m.\u001B[39mclose_figures:\n\u001B[0;32m    124\u001B[0m     \u001B[38;5;66;03m# ignore the tracking, just draw and close all figures\u001B[39;00m\n\u001B[0;32m    125\u001B[0m     \u001B[38;5;28;01mtry\u001B[39;00m:\n\u001B[1;32m--> 126\u001B[0m         \u001B[38;5;28;01mreturn\u001B[39;00m \u001B[43mshow\u001B[49m\u001B[43m(\u001B[49m\u001B[38;5;28;43;01mTrue\u001B[39;49;00m\u001B[43m)\u001B[49m\n\u001B[0;32m    127\u001B[0m     \u001B[38;5;28;01mexcept\u001B[39;00m \u001B[38;5;167;01mException\u001B[39;00m \u001B[38;5;28;01mas\u001B[39;00m e:\n\u001B[0;32m    128\u001B[0m         \u001B[38;5;66;03m# safely show traceback if in IPython, else raise\u001B[39;00m\n\u001B[0;32m    129\u001B[0m         ip \u001B[38;5;241m=\u001B[39m get_ipython()\n",
      "File \u001B[1;32mD:\\FD\\venv\\lib\\site-packages\\matplotlib_inline\\backend_inline.py:90\u001B[0m, in \u001B[0;36mshow\u001B[1;34m(close, block)\u001B[0m\n\u001B[0;32m     88\u001B[0m \u001B[38;5;28;01mtry\u001B[39;00m:\n\u001B[0;32m     89\u001B[0m     \u001B[38;5;28;01mfor\u001B[39;00m figure_manager \u001B[38;5;129;01min\u001B[39;00m Gcf\u001B[38;5;241m.\u001B[39mget_all_fig_managers():\n\u001B[1;32m---> 90\u001B[0m         \u001B[43mdisplay\u001B[49m\u001B[43m(\u001B[49m\n\u001B[0;32m     91\u001B[0m \u001B[43m            \u001B[49m\u001B[43mfigure_manager\u001B[49m\u001B[38;5;241;43m.\u001B[39;49m\u001B[43mcanvas\u001B[49m\u001B[38;5;241;43m.\u001B[39;49m\u001B[43mfigure\u001B[49m\u001B[43m,\u001B[49m\n\u001B[0;32m     92\u001B[0m \u001B[43m            \u001B[49m\u001B[43mmetadata\u001B[49m\u001B[38;5;241;43m=\u001B[39;49m\u001B[43m_fetch_figure_metadata\u001B[49m\u001B[43m(\u001B[49m\u001B[43mfigure_manager\u001B[49m\u001B[38;5;241;43m.\u001B[39;49m\u001B[43mcanvas\u001B[49m\u001B[38;5;241;43m.\u001B[39;49m\u001B[43mfigure\u001B[49m\u001B[43m)\u001B[49m\n\u001B[0;32m     93\u001B[0m \u001B[43m        \u001B[49m\u001B[43m)\u001B[49m\n\u001B[0;32m     94\u001B[0m \u001B[38;5;28;01mfinally\u001B[39;00m:\n\u001B[0;32m     95\u001B[0m     show\u001B[38;5;241m.\u001B[39m_to_draw \u001B[38;5;241m=\u001B[39m []\n",
      "File \u001B[1;32mD:\\FD\\venv\\lib\\site-packages\\IPython\\core\\display_functions.py:298\u001B[0m, in \u001B[0;36mdisplay\u001B[1;34m(include, exclude, metadata, transient, display_id, raw, clear, *objs, **kwargs)\u001B[0m\n\u001B[0;32m    296\u001B[0m     publish_display_data(data\u001B[38;5;241m=\u001B[39mobj, metadata\u001B[38;5;241m=\u001B[39mmetadata, \u001B[38;5;241m*\u001B[39m\u001B[38;5;241m*\u001B[39mkwargs)\n\u001B[0;32m    297\u001B[0m \u001B[38;5;28;01melse\u001B[39;00m:\n\u001B[1;32m--> 298\u001B[0m     format_dict, md_dict \u001B[38;5;241m=\u001B[39m \u001B[38;5;28;43mformat\u001B[39;49m\u001B[43m(\u001B[49m\u001B[43mobj\u001B[49m\u001B[43m,\u001B[49m\u001B[43m \u001B[49m\u001B[43minclude\u001B[49m\u001B[38;5;241;43m=\u001B[39;49m\u001B[43minclude\u001B[49m\u001B[43m,\u001B[49m\u001B[43m \u001B[49m\u001B[43mexclude\u001B[49m\u001B[38;5;241;43m=\u001B[39;49m\u001B[43mexclude\u001B[49m\u001B[43m)\u001B[49m\n\u001B[0;32m    299\u001B[0m     \u001B[38;5;28;01mif\u001B[39;00m \u001B[38;5;129;01mnot\u001B[39;00m format_dict:\n\u001B[0;32m    300\u001B[0m         \u001B[38;5;66;03m# nothing to display (e.g. _ipython_display_ took over)\u001B[39;00m\n\u001B[0;32m    301\u001B[0m         \u001B[38;5;28;01mcontinue\u001B[39;00m\n",
      "File \u001B[1;32mD:\\FD\\venv\\lib\\site-packages\\IPython\\core\\formatters.py:179\u001B[0m, in \u001B[0;36mDisplayFormatter.format\u001B[1;34m(self, obj, include, exclude)\u001B[0m\n\u001B[0;32m    177\u001B[0m md \u001B[38;5;241m=\u001B[39m \u001B[38;5;28;01mNone\u001B[39;00m\n\u001B[0;32m    178\u001B[0m \u001B[38;5;28;01mtry\u001B[39;00m:\n\u001B[1;32m--> 179\u001B[0m     data \u001B[38;5;241m=\u001B[39m \u001B[43mformatter\u001B[49m\u001B[43m(\u001B[49m\u001B[43mobj\u001B[49m\u001B[43m)\u001B[49m\n\u001B[0;32m    180\u001B[0m \u001B[38;5;28;01mexcept\u001B[39;00m:\n\u001B[0;32m    181\u001B[0m     \u001B[38;5;66;03m# FIXME: log the exception\u001B[39;00m\n\u001B[0;32m    182\u001B[0m     \u001B[38;5;28;01mraise\u001B[39;00m\n",
      "File \u001B[1;32mD:\\FD\\venv\\lib\\site-packages\\decorator.py:232\u001B[0m, in \u001B[0;36mdecorate.<locals>.fun\u001B[1;34m(*args, **kw)\u001B[0m\n\u001B[0;32m    230\u001B[0m \u001B[38;5;28;01mif\u001B[39;00m \u001B[38;5;129;01mnot\u001B[39;00m kwsyntax:\n\u001B[0;32m    231\u001B[0m     args, kw \u001B[38;5;241m=\u001B[39m fix(args, kw, sig)\n\u001B[1;32m--> 232\u001B[0m \u001B[38;5;28;01mreturn\u001B[39;00m caller(func, \u001B[38;5;241m*\u001B[39m(extras \u001B[38;5;241m+\u001B[39m args), \u001B[38;5;241m*\u001B[39m\u001B[38;5;241m*\u001B[39mkw)\n",
      "File \u001B[1;32mD:\\FD\\venv\\lib\\site-packages\\IPython\\core\\formatters.py:223\u001B[0m, in \u001B[0;36mcatch_format_error\u001B[1;34m(method, self, *args, **kwargs)\u001B[0m\n\u001B[0;32m    221\u001B[0m \u001B[38;5;250m\u001B[39m\u001B[38;5;124;03m\"\"\"show traceback on failed format call\"\"\"\u001B[39;00m\n\u001B[0;32m    222\u001B[0m \u001B[38;5;28;01mtry\u001B[39;00m:\n\u001B[1;32m--> 223\u001B[0m     r \u001B[38;5;241m=\u001B[39m method(\u001B[38;5;28mself\u001B[39m, \u001B[38;5;241m*\u001B[39margs, \u001B[38;5;241m*\u001B[39m\u001B[38;5;241m*\u001B[39mkwargs)\n\u001B[0;32m    224\u001B[0m \u001B[38;5;28;01mexcept\u001B[39;00m \u001B[38;5;167;01mNotImplementedError\u001B[39;00m:\n\u001B[0;32m    225\u001B[0m     \u001B[38;5;66;03m# don't warn on NotImplementedErrors\u001B[39;00m\n\u001B[0;32m    226\u001B[0m     \u001B[38;5;28;01mreturn\u001B[39;00m \u001B[38;5;28mself\u001B[39m\u001B[38;5;241m.\u001B[39m_check_return(\u001B[38;5;28;01mNone\u001B[39;00m, args[\u001B[38;5;241m0\u001B[39m])\n",
      "File \u001B[1;32mD:\\FD\\venv\\lib\\site-packages\\IPython\\core\\formatters.py:340\u001B[0m, in \u001B[0;36mBaseFormatter.__call__\u001B[1;34m(self, obj)\u001B[0m\n\u001B[0;32m    338\u001B[0m     \u001B[38;5;28;01mpass\u001B[39;00m\n\u001B[0;32m    339\u001B[0m \u001B[38;5;28;01melse\u001B[39;00m:\n\u001B[1;32m--> 340\u001B[0m     \u001B[38;5;28;01mreturn\u001B[39;00m \u001B[43mprinter\u001B[49m\u001B[43m(\u001B[49m\u001B[43mobj\u001B[49m\u001B[43m)\u001B[49m\n\u001B[0;32m    341\u001B[0m \u001B[38;5;66;03m# Finally look for special method names\u001B[39;00m\n\u001B[0;32m    342\u001B[0m method \u001B[38;5;241m=\u001B[39m get_real_method(obj, \u001B[38;5;28mself\u001B[39m\u001B[38;5;241m.\u001B[39mprint_method)\n",
      "File \u001B[1;32mD:\\FD\\venv\\lib\\site-packages\\IPython\\core\\pylabtools.py:152\u001B[0m, in \u001B[0;36mprint_figure\u001B[1;34m(fig, fmt, bbox_inches, base64, **kwargs)\u001B[0m\n\u001B[0;32m    149\u001B[0m     \u001B[38;5;28;01mfrom\u001B[39;00m \u001B[38;5;21;01mmatplotlib\u001B[39;00m\u001B[38;5;21;01m.\u001B[39;00m\u001B[38;5;21;01mbackend_bases\u001B[39;00m \u001B[38;5;28;01mimport\u001B[39;00m FigureCanvasBase\n\u001B[0;32m    150\u001B[0m     FigureCanvasBase(fig)\n\u001B[1;32m--> 152\u001B[0m fig\u001B[38;5;241m.\u001B[39mcanvas\u001B[38;5;241m.\u001B[39mprint_figure(bytes_io, \u001B[38;5;241m*\u001B[39m\u001B[38;5;241m*\u001B[39mkw)\n\u001B[0;32m    153\u001B[0m data \u001B[38;5;241m=\u001B[39m bytes_io\u001B[38;5;241m.\u001B[39mgetvalue()\n\u001B[0;32m    154\u001B[0m \u001B[38;5;28;01mif\u001B[39;00m fmt \u001B[38;5;241m==\u001B[39m \u001B[38;5;124m'\u001B[39m\u001B[38;5;124msvg\u001B[39m\u001B[38;5;124m'\u001B[39m:\n",
      "File \u001B[1;32mD:\\FD\\venv\\lib\\site-packages\\matplotlib\\backend_bases.py:2342\u001B[0m, in \u001B[0;36mFigureCanvasBase.print_figure\u001B[1;34m(self, filename, dpi, facecolor, edgecolor, orientation, format, bbox_inches, pad_inches, bbox_extra_artists, backend, **kwargs)\u001B[0m\n\u001B[0;32m   2340\u001B[0m \u001B[38;5;28;01mif\u001B[39;00m bbox_inches:\n\u001B[0;32m   2341\u001B[0m     \u001B[38;5;28;01mif\u001B[39;00m bbox_inches \u001B[38;5;241m==\u001B[39m \u001B[38;5;124m\"\u001B[39m\u001B[38;5;124mtight\u001B[39m\u001B[38;5;124m\"\u001B[39m:\n\u001B[1;32m-> 2342\u001B[0m         bbox_inches \u001B[38;5;241m=\u001B[39m \u001B[38;5;28;43mself\u001B[39;49m\u001B[38;5;241;43m.\u001B[39;49m\u001B[43mfigure\u001B[49m\u001B[38;5;241;43m.\u001B[39;49m\u001B[43mget_tightbbox\u001B[49m\u001B[43m(\u001B[49m\n\u001B[0;32m   2343\u001B[0m \u001B[43m            \u001B[49m\u001B[43mrenderer\u001B[49m\u001B[43m,\u001B[49m\u001B[43m \u001B[49m\u001B[43mbbox_extra_artists\u001B[49m\u001B[38;5;241;43m=\u001B[39;49m\u001B[43mbbox_extra_artists\u001B[49m\u001B[43m)\u001B[49m\n\u001B[0;32m   2344\u001B[0m         \u001B[38;5;28;01mif\u001B[39;00m pad_inches \u001B[38;5;129;01mis\u001B[39;00m \u001B[38;5;28;01mNone\u001B[39;00m:\n\u001B[0;32m   2345\u001B[0m             pad_inches \u001B[38;5;241m=\u001B[39m rcParams[\u001B[38;5;124m'\u001B[39m\u001B[38;5;124msavefig.pad_inches\u001B[39m\u001B[38;5;124m'\u001B[39m]\n",
      "File \u001B[1;32mD:\\FD\\venv\\lib\\site-packages\\matplotlib\\figure.py:1740\u001B[0m, in \u001B[0;36mFigureBase.get_tightbbox\u001B[1;34m(self, renderer, bbox_extra_artists)\u001B[0m\n\u001B[0;32m   1736\u001B[0m \u001B[38;5;28;01mif\u001B[39;00m ax\u001B[38;5;241m.\u001B[39mget_visible():\n\u001B[0;32m   1737\u001B[0m     \u001B[38;5;66;03m# some axes don't take the bbox_extra_artists kwarg so we\u001B[39;00m\n\u001B[0;32m   1738\u001B[0m     \u001B[38;5;66;03m# need this conditional....\u001B[39;00m\n\u001B[0;32m   1739\u001B[0m     \u001B[38;5;28;01mtry\u001B[39;00m:\n\u001B[1;32m-> 1740\u001B[0m         bbox \u001B[38;5;241m=\u001B[39m \u001B[43max\u001B[49m\u001B[38;5;241;43m.\u001B[39;49m\u001B[43mget_tightbbox\u001B[49m\u001B[43m(\u001B[49m\n\u001B[0;32m   1741\u001B[0m \u001B[43m            \u001B[49m\u001B[43mrenderer\u001B[49m\u001B[43m,\u001B[49m\u001B[43m \u001B[49m\u001B[43mbbox_extra_artists\u001B[49m\u001B[38;5;241;43m=\u001B[39;49m\u001B[43mbbox_extra_artists\u001B[49m\u001B[43m)\u001B[49m\n\u001B[0;32m   1742\u001B[0m     \u001B[38;5;28;01mexcept\u001B[39;00m \u001B[38;5;167;01mTypeError\u001B[39;00m:\n\u001B[0;32m   1743\u001B[0m         bbox \u001B[38;5;241m=\u001B[39m ax\u001B[38;5;241m.\u001B[39mget_tightbbox(renderer)\n",
      "File \u001B[1;32mD:\\FD\\venv\\lib\\site-packages\\matplotlib\\axes\\_base.py:4390\u001B[0m, in \u001B[0;36m_AxesBase.get_tightbbox\u001B[1;34m(self, renderer, call_axes_locator, bbox_extra_artists, for_layout_only)\u001B[0m\n\u001B[0;32m   4388\u001B[0m         \u001B[38;5;28;01mif\u001B[39;00m ba:\n\u001B[0;32m   4389\u001B[0m             bb\u001B[38;5;241m.\u001B[39mappend(ba)\n\u001B[1;32m-> 4390\u001B[0m \u001B[38;5;28;43mself\u001B[39;49m\u001B[38;5;241;43m.\u001B[39;49m\u001B[43m_update_title_position\u001B[49m\u001B[43m(\u001B[49m\u001B[43mrenderer\u001B[49m\u001B[43m)\u001B[49m\n\u001B[0;32m   4391\u001B[0m axbbox \u001B[38;5;241m=\u001B[39m \u001B[38;5;28mself\u001B[39m\u001B[38;5;241m.\u001B[39mget_window_extent(renderer)\n\u001B[0;32m   4392\u001B[0m bb\u001B[38;5;241m.\u001B[39mappend(axbbox)\n",
      "File \u001B[1;32mD:\\FD\\venv\\lib\\site-packages\\matplotlib\\axes\\_base.py:2965\u001B[0m, in \u001B[0;36m_AxesBase._update_title_position\u001B[1;34m(self, renderer)\u001B[0m\n\u001B[0;32m   2962\u001B[0m bb \u001B[38;5;241m=\u001B[39m \u001B[38;5;28;01mNone\u001B[39;00m\n\u001B[0;32m   2963\u001B[0m \u001B[38;5;28;01mif\u001B[39;00m (ax\u001B[38;5;241m.\u001B[39mxaxis\u001B[38;5;241m.\u001B[39mget_ticks_position() \u001B[38;5;129;01min\u001B[39;00m [\u001B[38;5;124m'\u001B[39m\u001B[38;5;124mtop\u001B[39m\u001B[38;5;124m'\u001B[39m, \u001B[38;5;124m'\u001B[39m\u001B[38;5;124munknown\u001B[39m\u001B[38;5;124m'\u001B[39m]\n\u001B[0;32m   2964\u001B[0m         \u001B[38;5;129;01mor\u001B[39;00m ax\u001B[38;5;241m.\u001B[39mxaxis\u001B[38;5;241m.\u001B[39mget_label_position() \u001B[38;5;241m==\u001B[39m \u001B[38;5;124m'\u001B[39m\u001B[38;5;124mtop\u001B[39m\u001B[38;5;124m'\u001B[39m):\n\u001B[1;32m-> 2965\u001B[0m     bb \u001B[38;5;241m=\u001B[39m \u001B[43max\u001B[49m\u001B[38;5;241;43m.\u001B[39;49m\u001B[43mxaxis\u001B[49m\u001B[38;5;241;43m.\u001B[39;49m\u001B[43mget_tightbbox\u001B[49m\u001B[43m(\u001B[49m\u001B[43mrenderer\u001B[49m\u001B[43m)\u001B[49m\n\u001B[0;32m   2966\u001B[0m \u001B[38;5;28;01mif\u001B[39;00m bb \u001B[38;5;129;01mis\u001B[39;00m \u001B[38;5;28;01mNone\u001B[39;00m:\n\u001B[0;32m   2967\u001B[0m     \u001B[38;5;28;01mif\u001B[39;00m \u001B[38;5;124m'\u001B[39m\u001B[38;5;124moutline\u001B[39m\u001B[38;5;124m'\u001B[39m \u001B[38;5;129;01min\u001B[39;00m ax\u001B[38;5;241m.\u001B[39mspines:\n\u001B[0;32m   2968\u001B[0m         \u001B[38;5;66;03m# Special case for colorbars:\u001B[39;00m\n",
      "File \u001B[1;32mD:\\FD\\venv\\lib\\site-packages\\matplotlib\\axis.py:1320\u001B[0m, in \u001B[0;36mAxis.get_tightbbox\u001B[1;34m(self, renderer, for_layout_only)\u001B[0m\n\u001B[0;32m   1317\u001B[0m     renderer \u001B[38;5;241m=\u001B[39m \u001B[38;5;28mself\u001B[39m\u001B[38;5;241m.\u001B[39mfigure\u001B[38;5;241m.\u001B[39m_get_renderer()\n\u001B[0;32m   1318\u001B[0m ticks_to_draw \u001B[38;5;241m=\u001B[39m \u001B[38;5;28mself\u001B[39m\u001B[38;5;241m.\u001B[39m_update_ticks()\n\u001B[1;32m-> 1320\u001B[0m \u001B[38;5;28;43mself\u001B[39;49m\u001B[38;5;241;43m.\u001B[39;49m\u001B[43m_update_label_position\u001B[49m\u001B[43m(\u001B[49m\u001B[43mrenderer\u001B[49m\u001B[43m)\u001B[49m\n\u001B[0;32m   1322\u001B[0m \u001B[38;5;66;03m# go back to just this axis's tick labels\u001B[39;00m\n\u001B[0;32m   1323\u001B[0m tlb1, tlb2 \u001B[38;5;241m=\u001B[39m \u001B[38;5;28mself\u001B[39m\u001B[38;5;241m.\u001B[39m_get_ticklabel_bboxes(ticks_to_draw, renderer)\n",
      "File \u001B[1;32mD:\\FD\\venv\\lib\\site-packages\\matplotlib\\axis.py:2308\u001B[0m, in \u001B[0;36mXAxis._update_label_position\u001B[1;34m(self, renderer)\u001B[0m\n\u001B[0;32m   2304\u001B[0m     \u001B[38;5;28;01mreturn\u001B[39;00m\n\u001B[0;32m   2306\u001B[0m \u001B[38;5;66;03m# get bounding boxes for this axis and any siblings\u001B[39;00m\n\u001B[0;32m   2307\u001B[0m \u001B[38;5;66;03m# that have been set by `fig.align_xlabels()`\u001B[39;00m\n\u001B[1;32m-> 2308\u001B[0m bboxes, bboxes2 \u001B[38;5;241m=\u001B[39m \u001B[38;5;28;43mself\u001B[39;49m\u001B[38;5;241;43m.\u001B[39;49m\u001B[43m_get_tick_boxes_siblings\u001B[49m\u001B[43m(\u001B[49m\u001B[43mrenderer\u001B[49m\u001B[38;5;241;43m=\u001B[39;49m\u001B[43mrenderer\u001B[49m\u001B[43m)\u001B[49m\n\u001B[0;32m   2310\u001B[0m x, y \u001B[38;5;241m=\u001B[39m \u001B[38;5;28mself\u001B[39m\u001B[38;5;241m.\u001B[39mlabel\u001B[38;5;241m.\u001B[39mget_position()\n\u001B[0;32m   2311\u001B[0m \u001B[38;5;28;01mif\u001B[39;00m \u001B[38;5;28mself\u001B[39m\u001B[38;5;241m.\u001B[39mlabel_position \u001B[38;5;241m==\u001B[39m \u001B[38;5;124m'\u001B[39m\u001B[38;5;124mbottom\u001B[39m\u001B[38;5;124m'\u001B[39m:\n",
      "File \u001B[1;32mD:\\FD\\venv\\lib\\site-packages\\matplotlib\\axis.py:2104\u001B[0m, in \u001B[0;36mAxis._get_tick_boxes_siblings\u001B[1;34m(self, renderer)\u001B[0m\n\u001B[0;32m   2102\u001B[0m axis \u001B[38;5;241m=\u001B[39m \u001B[38;5;28mgetattr\u001B[39m(ax, \u001B[38;5;124mf\u001B[39m\u001B[38;5;124m\"\u001B[39m\u001B[38;5;132;01m{\u001B[39;00maxis_name\u001B[38;5;132;01m}\u001B[39;00m\u001B[38;5;124maxis\u001B[39m\u001B[38;5;124m\"\u001B[39m)\n\u001B[0;32m   2103\u001B[0m ticks_to_draw \u001B[38;5;241m=\u001B[39m axis\u001B[38;5;241m.\u001B[39m_update_ticks()\n\u001B[1;32m-> 2104\u001B[0m tlb, tlb2 \u001B[38;5;241m=\u001B[39m \u001B[43maxis\u001B[49m\u001B[38;5;241;43m.\u001B[39;49m\u001B[43m_get_ticklabel_bboxes\u001B[49m\u001B[43m(\u001B[49m\u001B[43mticks_to_draw\u001B[49m\u001B[43m,\u001B[49m\u001B[43m \u001B[49m\u001B[43mrenderer\u001B[49m\u001B[43m)\u001B[49m\n\u001B[0;32m   2105\u001B[0m bboxes\u001B[38;5;241m.\u001B[39mextend(tlb)\n\u001B[0;32m   2106\u001B[0m bboxes2\u001B[38;5;241m.\u001B[39mextend(tlb2)\n",
      "File \u001B[1;32mD:\\FD\\venv\\lib\\site-packages\\matplotlib\\axis.py:1299\u001B[0m, in \u001B[0;36mAxis._get_ticklabel_bboxes\u001B[1;34m(self, ticks, renderer)\u001B[0m\n\u001B[0;32m   1297\u001B[0m \u001B[38;5;28;01mif\u001B[39;00m renderer \u001B[38;5;129;01mis\u001B[39;00m \u001B[38;5;28;01mNone\u001B[39;00m:\n\u001B[0;32m   1298\u001B[0m     renderer \u001B[38;5;241m=\u001B[39m \u001B[38;5;28mself\u001B[39m\u001B[38;5;241m.\u001B[39mfigure\u001B[38;5;241m.\u001B[39m_get_renderer()\n\u001B[1;32m-> 1299\u001B[0m \u001B[38;5;28;01mreturn\u001B[39;00m ([tick\u001B[38;5;241m.\u001B[39mlabel1\u001B[38;5;241m.\u001B[39mget_window_extent(renderer)\n\u001B[0;32m   1300\u001B[0m          \u001B[38;5;28;01mfor\u001B[39;00m tick \u001B[38;5;129;01min\u001B[39;00m ticks \u001B[38;5;28;01mif\u001B[39;00m tick\u001B[38;5;241m.\u001B[39mlabel1\u001B[38;5;241m.\u001B[39mget_visible()],\n\u001B[0;32m   1301\u001B[0m         [tick\u001B[38;5;241m.\u001B[39mlabel2\u001B[38;5;241m.\u001B[39mget_window_extent(renderer)\n\u001B[0;32m   1302\u001B[0m          \u001B[38;5;28;01mfor\u001B[39;00m tick \u001B[38;5;129;01min\u001B[39;00m ticks \u001B[38;5;28;01mif\u001B[39;00m tick\u001B[38;5;241m.\u001B[39mlabel2\u001B[38;5;241m.\u001B[39mget_visible()])\n",
      "File \u001B[1;32mD:\\FD\\venv\\lib\\site-packages\\matplotlib\\axis.py:1299\u001B[0m, in \u001B[0;36m<listcomp>\u001B[1;34m(.0)\u001B[0m\n\u001B[0;32m   1297\u001B[0m \u001B[38;5;28;01mif\u001B[39;00m renderer \u001B[38;5;129;01mis\u001B[39;00m \u001B[38;5;28;01mNone\u001B[39;00m:\n\u001B[0;32m   1298\u001B[0m     renderer \u001B[38;5;241m=\u001B[39m \u001B[38;5;28mself\u001B[39m\u001B[38;5;241m.\u001B[39mfigure\u001B[38;5;241m.\u001B[39m_get_renderer()\n\u001B[1;32m-> 1299\u001B[0m \u001B[38;5;28;01mreturn\u001B[39;00m ([\u001B[43mtick\u001B[49m\u001B[38;5;241;43m.\u001B[39;49m\u001B[43mlabel1\u001B[49m\u001B[38;5;241;43m.\u001B[39;49m\u001B[43mget_window_extent\u001B[49m\u001B[43m(\u001B[49m\u001B[43mrenderer\u001B[49m\u001B[43m)\u001B[49m\n\u001B[0;32m   1300\u001B[0m          \u001B[38;5;28;01mfor\u001B[39;00m tick \u001B[38;5;129;01min\u001B[39;00m ticks \u001B[38;5;28;01mif\u001B[39;00m tick\u001B[38;5;241m.\u001B[39mlabel1\u001B[38;5;241m.\u001B[39mget_visible()],\n\u001B[0;32m   1301\u001B[0m         [tick\u001B[38;5;241m.\u001B[39mlabel2\u001B[38;5;241m.\u001B[39mget_window_extent(renderer)\n\u001B[0;32m   1302\u001B[0m          \u001B[38;5;28;01mfor\u001B[39;00m tick \u001B[38;5;129;01min\u001B[39;00m ticks \u001B[38;5;28;01mif\u001B[39;00m tick\u001B[38;5;241m.\u001B[39mlabel2\u001B[38;5;241m.\u001B[39mget_visible()])\n",
      "File \u001B[1;32mD:\\FD\\venv\\lib\\site-packages\\matplotlib\\text.py:961\u001B[0m, in \u001B[0;36mText.get_window_extent\u001B[1;34m(self, renderer, dpi)\u001B[0m\n\u001B[0;32m    959\u001B[0m bbox, info, descent \u001B[38;5;241m=\u001B[39m \u001B[38;5;28mself\u001B[39m\u001B[38;5;241m.\u001B[39m_get_layout(\u001B[38;5;28mself\u001B[39m\u001B[38;5;241m.\u001B[39m_renderer)\n\u001B[0;32m    960\u001B[0m x, y \u001B[38;5;241m=\u001B[39m \u001B[38;5;28mself\u001B[39m\u001B[38;5;241m.\u001B[39mget_unitless_position()\n\u001B[1;32m--> 961\u001B[0m x, y \u001B[38;5;241m=\u001B[39m \u001B[38;5;28;43mself\u001B[39;49m\u001B[38;5;241;43m.\u001B[39;49m\u001B[43mget_transform\u001B[49m\u001B[43m(\u001B[49m\u001B[43m)\u001B[49m\u001B[38;5;241;43m.\u001B[39;49m\u001B[43mtransform\u001B[49m\u001B[43m(\u001B[49m\u001B[43m(\u001B[49m\u001B[43mx\u001B[49m\u001B[43m,\u001B[49m\u001B[43m \u001B[49m\u001B[43my\u001B[49m\u001B[43m)\u001B[49m\u001B[43m)\u001B[49m\n\u001B[0;32m    962\u001B[0m bbox \u001B[38;5;241m=\u001B[39m bbox\u001B[38;5;241m.\u001B[39mtranslated(x, y)\n\u001B[0;32m    963\u001B[0m \u001B[38;5;28;01mreturn\u001B[39;00m bbox\n",
      "File \u001B[1;32mD:\\FD\\venv\\lib\\site-packages\\matplotlib\\transforms.py:1490\u001B[0m, in \u001B[0;36mTransform.transform\u001B[1;34m(self, values)\u001B[0m\n\u001B[0;32m   1487\u001B[0m values \u001B[38;5;241m=\u001B[39m values\u001B[38;5;241m.\u001B[39mreshape((\u001B[38;5;241m-\u001B[39m\u001B[38;5;241m1\u001B[39m, \u001B[38;5;28mself\u001B[39m\u001B[38;5;241m.\u001B[39minput_dims))\n\u001B[0;32m   1489\u001B[0m \u001B[38;5;66;03m# Transform the values\u001B[39;00m\n\u001B[1;32m-> 1490\u001B[0m res \u001B[38;5;241m=\u001B[39m \u001B[38;5;28;43mself\u001B[39;49m\u001B[38;5;241;43m.\u001B[39;49m\u001B[43mtransform_affine\u001B[49m\u001B[43m(\u001B[49m\u001B[38;5;28;43mself\u001B[39;49m\u001B[38;5;241;43m.\u001B[39;49m\u001B[43mtransform_non_affine\u001B[49m\u001B[43m(\u001B[49m\u001B[43mvalues\u001B[49m\u001B[43m)\u001B[49m\u001B[43m)\u001B[49m\n\u001B[0;32m   1492\u001B[0m \u001B[38;5;66;03m# Convert the result back to the shape of the input values.\u001B[39;00m\n\u001B[0;32m   1493\u001B[0m \u001B[38;5;28;01mif\u001B[39;00m ndim \u001B[38;5;241m==\u001B[39m \u001B[38;5;241m0\u001B[39m:\n",
      "File \u001B[1;32mD:\\FD\\venv\\lib\\site-packages\\matplotlib\\transforms.py:2415\u001B[0m, in \u001B[0;36mCompositeGenericTransform.transform_affine\u001B[1;34m(self, points)\u001B[0m\n\u001B[0;32m   2413\u001B[0m \u001B[38;5;28;01mdef\u001B[39;00m \u001B[38;5;21mtransform_affine\u001B[39m(\u001B[38;5;28mself\u001B[39m, points):\n\u001B[0;32m   2414\u001B[0m     \u001B[38;5;66;03m# docstring inherited\u001B[39;00m\n\u001B[1;32m-> 2415\u001B[0m     \u001B[38;5;28;01mreturn\u001B[39;00m \u001B[38;5;28;43mself\u001B[39;49m\u001B[38;5;241;43m.\u001B[39;49m\u001B[43mget_affine\u001B[49m\u001B[43m(\u001B[49m\u001B[43m)\u001B[49m\u001B[38;5;241m.\u001B[39mtransform(points)\n",
      "File \u001B[1;32mD:\\FD\\venv\\lib\\site-packages\\matplotlib\\transforms.py:2441\u001B[0m, in \u001B[0;36mCompositeGenericTransform.get_affine\u001B[1;34m(self)\u001B[0m\n\u001B[0;32m   2439\u001B[0m     \u001B[38;5;28;01mreturn\u001B[39;00m \u001B[38;5;28mself\u001B[39m\u001B[38;5;241m.\u001B[39m_b\u001B[38;5;241m.\u001B[39mget_affine()\n\u001B[0;32m   2440\u001B[0m \u001B[38;5;28;01melse\u001B[39;00m:\n\u001B[1;32m-> 2441\u001B[0m     \u001B[38;5;28;01mreturn\u001B[39;00m Affine2D(\u001B[43mnp\u001B[49m\u001B[38;5;241;43m.\u001B[39;49m\u001B[43mdot\u001B[49m\u001B[43m(\u001B[49m\u001B[38;5;28;43mself\u001B[39;49m\u001B[38;5;241;43m.\u001B[39;49m\u001B[43m_b\u001B[49m\u001B[38;5;241;43m.\u001B[39;49m\u001B[43mget_affine\u001B[49m\u001B[43m(\u001B[49m\u001B[43m)\u001B[49m\u001B[38;5;241;43m.\u001B[39;49m\u001B[43mget_matrix\u001B[49m\u001B[43m(\u001B[49m\u001B[43m)\u001B[49m\u001B[43m,\u001B[49m\n\u001B[0;32m   2442\u001B[0m \u001B[43m                           \u001B[49m\u001B[38;5;28;43mself\u001B[39;49m\u001B[38;5;241;43m.\u001B[39;49m\u001B[43m_a\u001B[49m\u001B[38;5;241;43m.\u001B[39;49m\u001B[43mget_affine\u001B[49m\u001B[43m(\u001B[49m\u001B[43m)\u001B[49m\u001B[38;5;241;43m.\u001B[39;49m\u001B[43mget_matrix\u001B[49m\u001B[43m(\u001B[49m\u001B[43m)\u001B[49m\u001B[43m)\u001B[49m)\n",
      "File \u001B[1;32m<__array_function__ internals>:200\u001B[0m, in \u001B[0;36mdot\u001B[1;34m(*args, **kwargs)\u001B[0m\n",
      "\u001B[1;31mKeyboardInterrupt\u001B[0m: "
     ]
    }
   ],
   "source": [
    "low_f = df[['FLAG_MOBIL', 'YEARS_BEGINEXPLUATATION_MEDI', 'YEARS_BEGINEXPLUATATION_MODE', 'YEARS_BEGINEXPLUATATION_AVG', 'TARGET']]\n",
    "# for col in low_f.columns.to_list()[:-1]:\n",
    "#     low_f = low_f[\n",
    "#         (low_f[col] < np.quantile(low_f[col], 0.975)) &\n",
    "#         (low_f[col] > np.quantile(low_f[col], .025))]\n",
    "\n",
    "g = sns.pairplot(low_f, hue='TARGET')\n",
    "g.fig.suptitle('Highest correlation features', y=1.03)\n"
   ]
  },
  {
   "cell_type": "code",
   "execution_count": null,
   "outputs": [],
   "source": [],
   "metadata": {
    "collapsed": false
   }
  },
  {
   "cell_type": "code",
   "execution_count": 2,
   "metadata": {
    "ExecuteTime": {
     "end_time": "2023-08-16T12:00:39.379715900Z",
     "start_time": "2023-08-16T11:59:58.254843900Z"
    }
   },
   "outputs": [],
   "source": [
    "df = pd.read_csv('./dataset2/train.csv')\n",
    "df = pd.get_dummies(df).astype('float32')\n",
    "df = df.fillna(df.mean())"
   ]
  },
  {
   "cell_type": "code",
   "execution_count": 3,
   "metadata": {
    "ExecuteTime": {
     "end_time": "2023-08-16T12:01:16.096155400Z",
     "start_time": "2023-08-16T12:01:06.936802600Z"
    }
   },
   "outputs": [],
   "source": [
    "df_bureau = pd.read_csv('./dataset2/bureau.csv')\n",
    "df_bureau = pd.get_dummies(df_bureau)"
   ]
  },
  {
   "cell_type": "code",
   "execution_count": 4,
   "outputs": [
    {
     "data": {
      "text/plain": "        SK_ID_BUREAU                             STATUS_TS\n0            5001709  [0, 0, 0, 0, 0, 0, 0, 0, 0, 0, 0, 0]\n1            5001710  [0, 0, 0, 0, 0, 0, 0, 0, 0, 0, 0, 0]\n2            5001711                          [0, 0, 0, 0]\n3            5001712  [0, 0, 0, 0, 0, 0, 0, 0, 0, 0, 0, 0]\n4            5001713  [0, 0, 0, 0, 0, 0, 0, 0, 0, 0, 0, 0]\n...              ...                                   ...\n817390       6842884  [0, 0, 0, 0, 0, 0, 0, 0, 0, 0, 0, 0]\n817391       6842885  [5, 5, 5, 5, 5, 5, 5, 5, 5, 5, 5, 5]\n817392       6842886  [0, 0, 0, 0, 0, 0, 0, 0, 0, 0, 0, 0]\n817393       6842887  [0, 0, 0, 0, 0, 0, 0, 0, 0, 0, 0, 0]\n817394       6842888  [0, 0, 0, 0, 0, 0, 0, 0, 0, 0, 0, 0]\n\n[817395 rows x 2 columns]",
      "text/html": "<div>\n<style scoped>\n    .dataframe tbody tr th:only-of-type {\n        vertical-align: middle;\n    }\n\n    .dataframe tbody tr th {\n        vertical-align: top;\n    }\n\n    .dataframe thead th {\n        text-align: right;\n    }\n</style>\n<table border=\"1\" class=\"dataframe\">\n  <thead>\n    <tr style=\"text-align: right;\">\n      <th></th>\n      <th>SK_ID_BUREAU</th>\n      <th>STATUS_TS</th>\n    </tr>\n  </thead>\n  <tbody>\n    <tr>\n      <th>0</th>\n      <td>5001709</td>\n      <td>[0, 0, 0, 0, 0, 0, 0, 0, 0, 0, 0, 0]</td>\n    </tr>\n    <tr>\n      <th>1</th>\n      <td>5001710</td>\n      <td>[0, 0, 0, 0, 0, 0, 0, 0, 0, 0, 0, 0]</td>\n    </tr>\n    <tr>\n      <th>2</th>\n      <td>5001711</td>\n      <td>[0, 0, 0, 0]</td>\n    </tr>\n    <tr>\n      <th>3</th>\n      <td>5001712</td>\n      <td>[0, 0, 0, 0, 0, 0, 0, 0, 0, 0, 0, 0]</td>\n    </tr>\n    <tr>\n      <th>4</th>\n      <td>5001713</td>\n      <td>[0, 0, 0, 0, 0, 0, 0, 0, 0, 0, 0, 0]</td>\n    </tr>\n    <tr>\n      <th>...</th>\n      <td>...</td>\n      <td>...</td>\n    </tr>\n    <tr>\n      <th>817390</th>\n      <td>6842884</td>\n      <td>[0, 0, 0, 0, 0, 0, 0, 0, 0, 0, 0, 0]</td>\n    </tr>\n    <tr>\n      <th>817391</th>\n      <td>6842885</td>\n      <td>[5, 5, 5, 5, 5, 5, 5, 5, 5, 5, 5, 5]</td>\n    </tr>\n    <tr>\n      <th>817392</th>\n      <td>6842886</td>\n      <td>[0, 0, 0, 0, 0, 0, 0, 0, 0, 0, 0, 0]</td>\n    </tr>\n    <tr>\n      <th>817393</th>\n      <td>6842887</td>\n      <td>[0, 0, 0, 0, 0, 0, 0, 0, 0, 0, 0, 0]</td>\n    </tr>\n    <tr>\n      <th>817394</th>\n      <td>6842888</td>\n      <td>[0, 0, 0, 0, 0, 0, 0, 0, 0, 0, 0, 0]</td>\n    </tr>\n  </tbody>\n</table>\n<p>817395 rows × 2 columns</p>\n</div>"
     },
     "execution_count": 4,
     "metadata": {},
     "output_type": "execute_result"
    }
   ],
   "source": [
    "df_bureau_balance = pd.read_csv('./dataset2/bureau_balance.csv')\n",
    "df_bureau_balance['STATUS'] = df_bureau_balance['STATUS'].apply(lambda s: 0 if s == 'C' or s == 'X' else int(s))\n",
    "df_bureau_balance = df_bureau_balance.groupby(['SK_ID_BUREAU']).apply(lambda x: list(x.nlargest(12, ['MONTHS_BALANCE'])['STATUS'])).reset_index(name='STATUS_TS')\n",
    "df_bureau_balance"
   ],
   "metadata": {
    "collapsed": false,
    "ExecuteTime": {
     "end_time": "2023-08-16T12:27:00.361599900Z",
     "start_time": "2023-08-16T12:01:22.904099900Z"
    }
   }
  },
  {
   "cell_type": "code",
   "execution_count": 5,
   "metadata": {
    "ExecuteTime": {
     "end_time": "2023-08-16T12:39:04.325126500Z",
     "start_time": "2023-08-16T12:39:01.434898800Z"
    }
   },
   "outputs": [
    {
     "data": {
      "text/plain": "        SK_ID_BUREAU                                     STATUS_TS\n0            5001709          [0, 0, 0, 0, 0, 0, 0, 0, 0, 0, 0, 0]\n1            5001710          [0, 0, 0, 0, 0, 0, 0, 0, 0, 0, 0, 0]\n2            5001711  [-1, -1, -1, -1, -1, -1, -1, -1, 0, 0, 0, 0]\n3            5001712          [0, 0, 0, 0, 0, 0, 0, 0, 0, 0, 0, 0]\n4            5001713          [0, 0, 0, 0, 0, 0, 0, 0, 0, 0, 0, 0]\n...              ...                                           ...\n817390       6842884          [0, 0, 0, 0, 0, 0, 0, 0, 0, 0, 0, 0]\n817391       6842885          [5, 5, 5, 5, 5, 5, 5, 5, 5, 5, 5, 5]\n817392       6842886          [0, 0, 0, 0, 0, 0, 0, 0, 0, 0, 0, 0]\n817393       6842887          [0, 0, 0, 0, 0, 0, 0, 0, 0, 0, 0, 0]\n817394       6842888          [0, 0, 0, 0, 0, 0, 0, 0, 0, 0, 0, 0]\n\n[817395 rows x 2 columns]",
      "text/html": "<div>\n<style scoped>\n    .dataframe tbody tr th:only-of-type {\n        vertical-align: middle;\n    }\n\n    .dataframe tbody tr th {\n        vertical-align: top;\n    }\n\n    .dataframe thead th {\n        text-align: right;\n    }\n</style>\n<table border=\"1\" class=\"dataframe\">\n  <thead>\n    <tr style=\"text-align: right;\">\n      <th></th>\n      <th>SK_ID_BUREAU</th>\n      <th>STATUS_TS</th>\n    </tr>\n  </thead>\n  <tbody>\n    <tr>\n      <th>0</th>\n      <td>5001709</td>\n      <td>[0, 0, 0, 0, 0, 0, 0, 0, 0, 0, 0, 0]</td>\n    </tr>\n    <tr>\n      <th>1</th>\n      <td>5001710</td>\n      <td>[0, 0, 0, 0, 0, 0, 0, 0, 0, 0, 0, 0]</td>\n    </tr>\n    <tr>\n      <th>2</th>\n      <td>5001711</td>\n      <td>[-1, -1, -1, -1, -1, -1, -1, -1, 0, 0, 0, 0]</td>\n    </tr>\n    <tr>\n      <th>3</th>\n      <td>5001712</td>\n      <td>[0, 0, 0, 0, 0, 0, 0, 0, 0, 0, 0, 0]</td>\n    </tr>\n    <tr>\n      <th>4</th>\n      <td>5001713</td>\n      <td>[0, 0, 0, 0, 0, 0, 0, 0, 0, 0, 0, 0]</td>\n    </tr>\n    <tr>\n      <th>...</th>\n      <td>...</td>\n      <td>...</td>\n    </tr>\n    <tr>\n      <th>817390</th>\n      <td>6842884</td>\n      <td>[0, 0, 0, 0, 0, 0, 0, 0, 0, 0, 0, 0]</td>\n    </tr>\n    <tr>\n      <th>817391</th>\n      <td>6842885</td>\n      <td>[5, 5, 5, 5, 5, 5, 5, 5, 5, 5, 5, 5]</td>\n    </tr>\n    <tr>\n      <th>817392</th>\n      <td>6842886</td>\n      <td>[0, 0, 0, 0, 0, 0, 0, 0, 0, 0, 0, 0]</td>\n    </tr>\n    <tr>\n      <th>817393</th>\n      <td>6842887</td>\n      <td>[0, 0, 0, 0, 0, 0, 0, 0, 0, 0, 0, 0]</td>\n    </tr>\n    <tr>\n      <th>817394</th>\n      <td>6842888</td>\n      <td>[0, 0, 0, 0, 0, 0, 0, 0, 0, 0, 0, 0]</td>\n    </tr>\n  </tbody>\n</table>\n<p>817395 rows × 2 columns</p>\n</div>"
     },
     "execution_count": 5,
     "metadata": {},
     "output_type": "execute_result"
    }
   ],
   "source": [
    "def pad_and_reverse(ls, n=12, p=-1):\n",
    "  return np.array(list(reversed((ls + [p] * (n - len(ls))))))\n",
    "\n",
    "df_bureau_balance['STATUS_TS'] = df_bureau_balance['STATUS_TS'].apply(pad_and_reverse)\n",
    "df_bureau_balance"
   ]
  },
  {
   "cell_type": "code",
   "execution_count": 6,
   "metadata": {
    "ExecuteTime": {
     "end_time": "2023-08-16T12:39:11.432259Z",
     "start_time": "2023-08-16T12:39:10.460621500Z"
    }
   },
   "outputs": [
    {
     "data": {
      "text/plain": "   SK_ID_CURR  SK_ID_BUREAU  DAYS_CREDIT  CREDIT_DAY_OVERDUE  \\\n0      215354       5714462         -497                   0   \n1      215354       5714463         -208                   0   \n2      215354       5714464         -203                   0   \n3      215354       5714465         -203                   0   \n4      215354       5714466         -629                   0   \n\n   DAYS_CREDIT_ENDDATE  DAYS_ENDDATE_FACT  AMT_CREDIT_MAX_OVERDUE  \\\n0               -153.0             -153.0                     NaN   \n1               1075.0                NaN                     NaN   \n2                528.0                NaN                     NaN   \n3                  NaN                NaN                     NaN   \n4               1197.0                NaN                 77674.5   \n\n   CNT_CREDIT_PROLONG  AMT_CREDIT_SUM  AMT_CREDIT_SUM_DEBT  ...  \\\n0                   0         91323.0                  0.0  ...   \n1                   0        225000.0             171342.0  ...   \n2                   0        464323.5                  NaN  ...   \n3                   0         90000.0                  NaN  ...   \n4                   0       2700000.0                  NaN  ...   \n\n   CREDIT_TYPE_Loan for business development  \\\n0                                          0   \n1                                          0   \n2                                          0   \n3                                          0   \n4                                          0   \n\n   CREDIT_TYPE_Loan for purchase of shares (margin lending)  \\\n0                                                  0          \n1                                                  0          \n2                                                  0          \n3                                                  0          \n4                                                  0          \n\n   CREDIT_TYPE_Loan for the purchase of equipment  \\\n0                                               0   \n1                                               0   \n2                                               0   \n3                                               0   \n4                                               0   \n\n   CREDIT_TYPE_Loan for working capital replenishment  CREDIT_TYPE_Microloan  \\\n0                                                  0                       0   \n1                                                  0                       0   \n2                                                  0                       0   \n3                                                  0                       0   \n4                                                  0                       0   \n\n   CREDIT_TYPE_Mobile operator loan  CREDIT_TYPE_Mortgage  \\\n0                                 0                     0   \n1                                 0                     0   \n2                                 0                     0   \n3                                 0                     0   \n4                                 0                     0   \n\n   CREDIT_TYPE_Real estate loan  CREDIT_TYPE_Unknown type of loan  STATUS_TS  \n0                             0                                 0        NaN  \n1                             0                                 0        NaN  \n2                             0                                 0        NaN  \n3                             0                                 0        NaN  \n4                             0                                 0        NaN  \n\n[5 rows x 38 columns]",
      "text/html": "<div>\n<style scoped>\n    .dataframe tbody tr th:only-of-type {\n        vertical-align: middle;\n    }\n\n    .dataframe tbody tr th {\n        vertical-align: top;\n    }\n\n    .dataframe thead th {\n        text-align: right;\n    }\n</style>\n<table border=\"1\" class=\"dataframe\">\n  <thead>\n    <tr style=\"text-align: right;\">\n      <th></th>\n      <th>SK_ID_CURR</th>\n      <th>SK_ID_BUREAU</th>\n      <th>DAYS_CREDIT</th>\n      <th>CREDIT_DAY_OVERDUE</th>\n      <th>DAYS_CREDIT_ENDDATE</th>\n      <th>DAYS_ENDDATE_FACT</th>\n      <th>AMT_CREDIT_MAX_OVERDUE</th>\n      <th>CNT_CREDIT_PROLONG</th>\n      <th>AMT_CREDIT_SUM</th>\n      <th>AMT_CREDIT_SUM_DEBT</th>\n      <th>...</th>\n      <th>CREDIT_TYPE_Loan for business development</th>\n      <th>CREDIT_TYPE_Loan for purchase of shares (margin lending)</th>\n      <th>CREDIT_TYPE_Loan for the purchase of equipment</th>\n      <th>CREDIT_TYPE_Loan for working capital replenishment</th>\n      <th>CREDIT_TYPE_Microloan</th>\n      <th>CREDIT_TYPE_Mobile operator loan</th>\n      <th>CREDIT_TYPE_Mortgage</th>\n      <th>CREDIT_TYPE_Real estate loan</th>\n      <th>CREDIT_TYPE_Unknown type of loan</th>\n      <th>STATUS_TS</th>\n    </tr>\n  </thead>\n  <tbody>\n    <tr>\n      <th>0</th>\n      <td>215354</td>\n      <td>5714462</td>\n      <td>-497</td>\n      <td>0</td>\n      <td>-153.0</td>\n      <td>-153.0</td>\n      <td>NaN</td>\n      <td>0</td>\n      <td>91323.0</td>\n      <td>0.0</td>\n      <td>...</td>\n      <td>0</td>\n      <td>0</td>\n      <td>0</td>\n      <td>0</td>\n      <td>0</td>\n      <td>0</td>\n      <td>0</td>\n      <td>0</td>\n      <td>0</td>\n      <td>NaN</td>\n    </tr>\n    <tr>\n      <th>1</th>\n      <td>215354</td>\n      <td>5714463</td>\n      <td>-208</td>\n      <td>0</td>\n      <td>1075.0</td>\n      <td>NaN</td>\n      <td>NaN</td>\n      <td>0</td>\n      <td>225000.0</td>\n      <td>171342.0</td>\n      <td>...</td>\n      <td>0</td>\n      <td>0</td>\n      <td>0</td>\n      <td>0</td>\n      <td>0</td>\n      <td>0</td>\n      <td>0</td>\n      <td>0</td>\n      <td>0</td>\n      <td>NaN</td>\n    </tr>\n    <tr>\n      <th>2</th>\n      <td>215354</td>\n      <td>5714464</td>\n      <td>-203</td>\n      <td>0</td>\n      <td>528.0</td>\n      <td>NaN</td>\n      <td>NaN</td>\n      <td>0</td>\n      <td>464323.5</td>\n      <td>NaN</td>\n      <td>...</td>\n      <td>0</td>\n      <td>0</td>\n      <td>0</td>\n      <td>0</td>\n      <td>0</td>\n      <td>0</td>\n      <td>0</td>\n      <td>0</td>\n      <td>0</td>\n      <td>NaN</td>\n    </tr>\n    <tr>\n      <th>3</th>\n      <td>215354</td>\n      <td>5714465</td>\n      <td>-203</td>\n      <td>0</td>\n      <td>NaN</td>\n      <td>NaN</td>\n      <td>NaN</td>\n      <td>0</td>\n      <td>90000.0</td>\n      <td>NaN</td>\n      <td>...</td>\n      <td>0</td>\n      <td>0</td>\n      <td>0</td>\n      <td>0</td>\n      <td>0</td>\n      <td>0</td>\n      <td>0</td>\n      <td>0</td>\n      <td>0</td>\n      <td>NaN</td>\n    </tr>\n    <tr>\n      <th>4</th>\n      <td>215354</td>\n      <td>5714466</td>\n      <td>-629</td>\n      <td>0</td>\n      <td>1197.0</td>\n      <td>NaN</td>\n      <td>77674.5</td>\n      <td>0</td>\n      <td>2700000.0</td>\n      <td>NaN</td>\n      <td>...</td>\n      <td>0</td>\n      <td>0</td>\n      <td>0</td>\n      <td>0</td>\n      <td>0</td>\n      <td>0</td>\n      <td>0</td>\n      <td>0</td>\n      <td>0</td>\n      <td>NaN</td>\n    </tr>\n  </tbody>\n</table>\n<p>5 rows × 38 columns</p>\n</div>"
     },
     "execution_count": 6,
     "metadata": {},
     "output_type": "execute_result"
    }
   ],
   "source": [
    "df_bureau = df_bureau.merge(df_bureau_balance, on='SK_ID_BUREAU', how='left')\n",
    "df_bureau.head()"
   ]
  },
  {
   "cell_type": "code",
   "execution_count": 7,
   "metadata": {
    "ExecuteTime": {
     "end_time": "2023-08-16T12:39:13.563607Z",
     "start_time": "2023-08-16T12:39:12.580076100Z"
    }
   },
   "outputs": [
    {
     "name": "stdout",
     "output_type": "stream",
     "text": [
      "column 0: SK_ID_CURR\n",
      "column 1: SK_ID_BUREAU\n",
      "column 2: DAYS_CREDIT\n",
      "column 3: CREDIT_DAY_OVERDUE\n",
      "column 4: DAYS_CREDIT_ENDDATE\n",
      "column 5: DAYS_ENDDATE_FACT\n",
      "column 6: AMT_CREDIT_MAX_OVERDUE\n",
      "column 7: CNT_CREDIT_PROLONG\n",
      "column 8: AMT_CREDIT_SUM\n",
      "column 9: AMT_CREDIT_SUM_DEBT\n",
      "column 10: AMT_CREDIT_SUM_LIMIT\n",
      "column 11: AMT_CREDIT_SUM_OVERDUE\n",
      "column 12: DAYS_CREDIT_UPDATE\n",
      "column 13: AMT_ANNUITY\n",
      "column 14: CREDIT_ACTIVE_Active\n",
      "column 15: CREDIT_ACTIVE_Bad debt\n",
      "column 16: CREDIT_ACTIVE_Closed\n",
      "column 17: CREDIT_ACTIVE_Sold\n",
      "column 18: CREDIT_CURRENCY_currency 1\n",
      "column 19: CREDIT_CURRENCY_currency 2\n",
      "column 20: CREDIT_CURRENCY_currency 3\n",
      "column 21: CREDIT_CURRENCY_currency 4\n",
      "column 22: CREDIT_TYPE_Another type of loan\n",
      "column 23: CREDIT_TYPE_Car loan\n",
      "column 24: CREDIT_TYPE_Cash loan (non-earmarked)\n",
      "column 25: CREDIT_TYPE_Consumer credit\n",
      "column 26: CREDIT_TYPE_Credit card\n",
      "column 27: CREDIT_TYPE_Interbank credit\n",
      "column 28: CREDIT_TYPE_Loan for business development\n",
      "column 29: CREDIT_TYPE_Loan for purchase of shares (margin lending)\n",
      "column 30: CREDIT_TYPE_Loan for the purchase of equipment\n",
      "column 31: CREDIT_TYPE_Loan for working capital replenishment\n",
      "column 32: CREDIT_TYPE_Microloan\n",
      "column 33: CREDIT_TYPE_Mobile operator loan\n",
      "column 34: CREDIT_TYPE_Mortgage\n",
      "column 35: CREDIT_TYPE_Real estate loan\n",
      "column 36: CREDIT_TYPE_Unknown type of loan\n"
     ]
    }
   ],
   "source": [
    "# df_bureau = df_bureau.fillna(0)\n",
    "for i, column in enumerate(df_bureau.columns):\n",
    "  if column != 'STATUS_TS':\n",
    "    print(f'column {i}: {column}')\n",
    "    df_bureau[column] = df_bureau[column].fillna(0)\n",
    "\n",
    "df_bureau = df_bureau.drop(columns=['SK_ID_BUREAU'])\n",
    "df_bureau = df_bureau.groupby(['SK_ID_CURR'])"
   ]
  },
  {
   "cell_type": "code",
   "execution_count": 8,
   "metadata": {
    "ExecuteTime": {
     "end_time": "2023-08-16T12:39:31.293804900Z",
     "start_time": "2023-08-16T12:39:17.732577400Z"
    }
   },
   "outputs": [
    {
     "name": "stderr",
     "output_type": "stream",
     "text": [
      "C:\\Users\\Shuyao\\AppData\\Local\\Temp\\ipykernel_32100\\539565423.py:14: FutureWarning: The default value of numeric_only in DataFrameGroupBy.mean is deprecated. In a future version, numeric_only will default to False. Either specify numeric_only or select only columns which should be valid for the function.\n",
      "  df_bureau = df_bureau.mean()\n"
     ]
    },
    {
     "data": {
      "text/plain": "            DAYS_CREDIT  CREDIT_DAY_OVERDUE  DAYS_CREDIT_ENDDATE  \\\nSK_ID_CURR                                                         \n100001      -735.000000                 0.0            82.428571   \n100002      -874.000000                 0.0          -261.750000   \n100003     -1400.750000                 0.0          -544.500000   \n100004      -867.000000                 0.0          -488.500000   \n100005      -190.666667                 0.0           439.333333   \n\n            DAYS_ENDDATE_FACT  AMT_CREDIT_MAX_OVERDUE  CNT_CREDIT_PROLONG  \\\nSK_ID_CURR                                                                  \n100001            -471.714286                0.000000                 0.0   \n100002            -523.125000             1050.643125                 0.0   \n100003            -823.000000                0.000000                 0.0   \n100004            -532.500000                0.000000                 0.0   \n100005             -41.000000                0.000000                 0.0   \n\n            AMT_CREDIT_SUM  AMT_CREDIT_SUM_DEBT  AMT_CREDIT_SUM_LIMIT  \\\nSK_ID_CURR                                                              \n100001       207623.571429         85240.928571              0.000000   \n100002       108131.945625         30722.625000           3998.570625   \n100003       254350.125000             0.000000         202500.000000   \n100004        94518.900000             0.000000              0.000000   \n100005       219042.000000        189469.500000              0.000000   \n\n            AMT_CREDIT_SUM_OVERDUE  ...  \\\nSK_ID_CURR                          ...   \n100001                         0.0  ...   \n100002                         0.0  ...   \n100003                         0.0  ...   \n100004                         0.0  ...   \n100005                         0.0  ...   \n\n            CREDIT_TYPE_Loan for business development  \\\nSK_ID_CURR                                              \n100001                                            0.0   \n100002                                            0.0   \n100003                                            0.0   \n100004                                            0.0   \n100005                                            0.0   \n\n            CREDIT_TYPE_Loan for purchase of shares (margin lending)  \\\nSK_ID_CURR                                                             \n100001                                                    0.0          \n100002                                                    0.0          \n100003                                                    0.0          \n100004                                                    0.0          \n100005                                                    0.0          \n\n            CREDIT_TYPE_Loan for the purchase of equipment  \\\nSK_ID_CURR                                                   \n100001                                                 0.0   \n100002                                                 0.0   \n100003                                                 0.0   \n100004                                                 0.0   \n100005                                                 0.0   \n\n            CREDIT_TYPE_Loan for working capital replenishment  \\\nSK_ID_CURR                                                       \n100001                                                    0.0    \n100002                                                    0.0    \n100003                                                    0.0    \n100004                                                    0.0    \n100005                                                    0.0    \n\n            CREDIT_TYPE_Microloan  CREDIT_TYPE_Mobile operator loan  \\\nSK_ID_CURR                                                            \n100001                        0.0                               0.0   \n100002                        0.0                               0.0   \n100003                        0.0                               0.0   \n100004                        0.0                               0.0   \n100005                        0.0                               0.0   \n\n            CREDIT_TYPE_Mortgage  CREDIT_TYPE_Real estate loan  \\\nSK_ID_CURR                                                       \n100001                       0.0                           0.0   \n100002                       0.0                           0.0   \n100003                       0.0                           0.0   \n100004                       0.0                           0.0   \n100005                       0.0                           0.0   \n\n            CREDIT_TYPE_Unknown type of loan  \\\nSK_ID_CURR                                     \n100001                                   0.0   \n100002                                   0.0   \n100003                                   0.0   \n100004                                   0.0   \n100005                                   0.0   \n\n                                                   STATUS_TSS  \nSK_ID_CURR                                                     \n100001      [[0, 0, 0, 0, 0, 0, 0, 0, 0, 0, 0, 0], [0, 0, ...  \n100002      [[0, 0, 0, 0, 0, 0, 1, 0, 0, 0, 0, 0], [0, 0, ...  \n100003      [[-1, -1, -1, -1, -1, -1, -1, -1, -1, -1, -1, ...  \n100004      [[-1, -1, -1, -1, -1, -1, -1, -1, -1, -1, -1, ...  \n100005      [[0, 0, 0, 0, 0, 0, 0, 0, 0, 0, 0, 0], [-1, -1...  \n\n[5 rows x 36 columns]",
      "text/html": "<div>\n<style scoped>\n    .dataframe tbody tr th:only-of-type {\n        vertical-align: middle;\n    }\n\n    .dataframe tbody tr th {\n        vertical-align: top;\n    }\n\n    .dataframe thead th {\n        text-align: right;\n    }\n</style>\n<table border=\"1\" class=\"dataframe\">\n  <thead>\n    <tr style=\"text-align: right;\">\n      <th></th>\n      <th>DAYS_CREDIT</th>\n      <th>CREDIT_DAY_OVERDUE</th>\n      <th>DAYS_CREDIT_ENDDATE</th>\n      <th>DAYS_ENDDATE_FACT</th>\n      <th>AMT_CREDIT_MAX_OVERDUE</th>\n      <th>CNT_CREDIT_PROLONG</th>\n      <th>AMT_CREDIT_SUM</th>\n      <th>AMT_CREDIT_SUM_DEBT</th>\n      <th>AMT_CREDIT_SUM_LIMIT</th>\n      <th>AMT_CREDIT_SUM_OVERDUE</th>\n      <th>...</th>\n      <th>CREDIT_TYPE_Loan for business development</th>\n      <th>CREDIT_TYPE_Loan for purchase of shares (margin lending)</th>\n      <th>CREDIT_TYPE_Loan for the purchase of equipment</th>\n      <th>CREDIT_TYPE_Loan for working capital replenishment</th>\n      <th>CREDIT_TYPE_Microloan</th>\n      <th>CREDIT_TYPE_Mobile operator loan</th>\n      <th>CREDIT_TYPE_Mortgage</th>\n      <th>CREDIT_TYPE_Real estate loan</th>\n      <th>CREDIT_TYPE_Unknown type of loan</th>\n      <th>STATUS_TSS</th>\n    </tr>\n    <tr>\n      <th>SK_ID_CURR</th>\n      <th></th>\n      <th></th>\n      <th></th>\n      <th></th>\n      <th></th>\n      <th></th>\n      <th></th>\n      <th></th>\n      <th></th>\n      <th></th>\n      <th></th>\n      <th></th>\n      <th></th>\n      <th></th>\n      <th></th>\n      <th></th>\n      <th></th>\n      <th></th>\n      <th></th>\n      <th></th>\n      <th></th>\n    </tr>\n  </thead>\n  <tbody>\n    <tr>\n      <th>100001</th>\n      <td>-735.000000</td>\n      <td>0.0</td>\n      <td>82.428571</td>\n      <td>-471.714286</td>\n      <td>0.000000</td>\n      <td>0.0</td>\n      <td>207623.571429</td>\n      <td>85240.928571</td>\n      <td>0.000000</td>\n      <td>0.0</td>\n      <td>...</td>\n      <td>0.0</td>\n      <td>0.0</td>\n      <td>0.0</td>\n      <td>0.0</td>\n      <td>0.0</td>\n      <td>0.0</td>\n      <td>0.0</td>\n      <td>0.0</td>\n      <td>0.0</td>\n      <td>[[0, 0, 0, 0, 0, 0, 0, 0, 0, 0, 0, 0], [0, 0, ...</td>\n    </tr>\n    <tr>\n      <th>100002</th>\n      <td>-874.000000</td>\n      <td>0.0</td>\n      <td>-261.750000</td>\n      <td>-523.125000</td>\n      <td>1050.643125</td>\n      <td>0.0</td>\n      <td>108131.945625</td>\n      <td>30722.625000</td>\n      <td>3998.570625</td>\n      <td>0.0</td>\n      <td>...</td>\n      <td>0.0</td>\n      <td>0.0</td>\n      <td>0.0</td>\n      <td>0.0</td>\n      <td>0.0</td>\n      <td>0.0</td>\n      <td>0.0</td>\n      <td>0.0</td>\n      <td>0.0</td>\n      <td>[[0, 0, 0, 0, 0, 0, 1, 0, 0, 0, 0, 0], [0, 0, ...</td>\n    </tr>\n    <tr>\n      <th>100003</th>\n      <td>-1400.750000</td>\n      <td>0.0</td>\n      <td>-544.500000</td>\n      <td>-823.000000</td>\n      <td>0.000000</td>\n      <td>0.0</td>\n      <td>254350.125000</td>\n      <td>0.000000</td>\n      <td>202500.000000</td>\n      <td>0.0</td>\n      <td>...</td>\n      <td>0.0</td>\n      <td>0.0</td>\n      <td>0.0</td>\n      <td>0.0</td>\n      <td>0.0</td>\n      <td>0.0</td>\n      <td>0.0</td>\n      <td>0.0</td>\n      <td>0.0</td>\n      <td>[[-1, -1, -1, -1, -1, -1, -1, -1, -1, -1, -1, ...</td>\n    </tr>\n    <tr>\n      <th>100004</th>\n      <td>-867.000000</td>\n      <td>0.0</td>\n      <td>-488.500000</td>\n      <td>-532.500000</td>\n      <td>0.000000</td>\n      <td>0.0</td>\n      <td>94518.900000</td>\n      <td>0.000000</td>\n      <td>0.000000</td>\n      <td>0.0</td>\n      <td>...</td>\n      <td>0.0</td>\n      <td>0.0</td>\n      <td>0.0</td>\n      <td>0.0</td>\n      <td>0.0</td>\n      <td>0.0</td>\n      <td>0.0</td>\n      <td>0.0</td>\n      <td>0.0</td>\n      <td>[[-1, -1, -1, -1, -1, -1, -1, -1, -1, -1, -1, ...</td>\n    </tr>\n    <tr>\n      <th>100005</th>\n      <td>-190.666667</td>\n      <td>0.0</td>\n      <td>439.333333</td>\n      <td>-41.000000</td>\n      <td>0.000000</td>\n      <td>0.0</td>\n      <td>219042.000000</td>\n      <td>189469.500000</td>\n      <td>0.000000</td>\n      <td>0.0</td>\n      <td>...</td>\n      <td>0.0</td>\n      <td>0.0</td>\n      <td>0.0</td>\n      <td>0.0</td>\n      <td>0.0</td>\n      <td>0.0</td>\n      <td>0.0</td>\n      <td>0.0</td>\n      <td>0.0</td>\n      <td>[[0, 0, 0, 0, 0, 0, 0, 0, 0, 0, 0, 0], [-1, -1...</td>\n    </tr>\n  </tbody>\n</table>\n<p>5 rows × 36 columns</p>\n</div>"
     },
     "execution_count": 8,
     "metadata": {},
     "output_type": "execute_result"
    }
   ],
   "source": [
    "def remove_none_and_stack(shape, fill):\n",
    "  def helper(arr):\n",
    "    _arr = [a for a in arr if isinstance(a, np.ndarray)]\n",
    "    if _arr:\n",
    "      if len(_arr) > 4:\n",
    "        return np.stack(_arr[:4])\n",
    "      else:\n",
    "        return np.concatenate((_arr, np.full((4 - len(_arr), *shape), fill)))\n",
    "    else:\n",
    "      return np.full((4, *shape), fill)\n",
    "  return helper\n",
    "\n",
    "tss = df_bureau['STATUS_TS'].agg(remove_none_and_stack((12,), -1))\n",
    "df_bureau = df_bureau.mean()\n",
    "df_bureau['STATUS_TSS'] = tss\n",
    "df_bureau.head()"
   ]
  },
  {
   "cell_type": "code",
   "execution_count": 9,
   "metadata": {
    "ExecuteTime": {
     "end_time": "2023-08-16T13:08:44.370219500Z",
     "start_time": "2023-08-16T12:40:32.403836200Z"
    }
   },
   "outputs": [
    {
     "data": {
      "text/plain": "   SK_ID_CURR  SK_ID_PREV                                     INSTALLMENT_TS\n0      100001     1369693  [[0.0, 0.0, 0.0, 0.0, 0.0, 0.0, 0.0, 0.0], [0....\n1      100001     1851984  [[0.0, 0.0, 0.0, 0.0, 0.0, 0.0, 0.0, 0.0], [0....\n2      100002     1038818  [[0.0, 0.0, 0.0, 0.0, 0.0, 0.0, 0.0, 0.0], [0....\n3      100003     1810518  [[0.0, 0.0, 0.0, 0.0, 0.0, 0.0, 0.0, 0.0], [0....\n4      100003     2396755  [[0.0, 0.0, 0.0, 0.0, 0.0, 0.0, 0.0, 0.0], [0....",
      "text/html": "<div>\n<style scoped>\n    .dataframe tbody tr th:only-of-type {\n        vertical-align: middle;\n    }\n\n    .dataframe tbody tr th {\n        vertical-align: top;\n    }\n\n    .dataframe thead th {\n        text-align: right;\n    }\n</style>\n<table border=\"1\" class=\"dataframe\">\n  <thead>\n    <tr style=\"text-align: right;\">\n      <th></th>\n      <th>SK_ID_CURR</th>\n      <th>SK_ID_PREV</th>\n      <th>INSTALLMENT_TS</th>\n    </tr>\n  </thead>\n  <tbody>\n    <tr>\n      <th>0</th>\n      <td>100001</td>\n      <td>1369693</td>\n      <td>[[0.0, 0.0, 0.0, 0.0, 0.0, 0.0, 0.0, 0.0], [0....</td>\n    </tr>\n    <tr>\n      <th>1</th>\n      <td>100001</td>\n      <td>1851984</td>\n      <td>[[0.0, 0.0, 0.0, 0.0, 0.0, 0.0, 0.0, 0.0], [0....</td>\n    </tr>\n    <tr>\n      <th>2</th>\n      <td>100002</td>\n      <td>1038818</td>\n      <td>[[0.0, 0.0, 0.0, 0.0, 0.0, 0.0, 0.0, 0.0], [0....</td>\n    </tr>\n    <tr>\n      <th>3</th>\n      <td>100003</td>\n      <td>1810518</td>\n      <td>[[0.0, 0.0, 0.0, 0.0, 0.0, 0.0, 0.0, 0.0], [0....</td>\n    </tr>\n    <tr>\n      <th>4</th>\n      <td>100003</td>\n      <td>2396755</td>\n      <td>[[0.0, 0.0, 0.0, 0.0, 0.0, 0.0, 0.0, 0.0], [0....</td>\n    </tr>\n  </tbody>\n</table>\n</div>"
     },
     "execution_count": 9,
     "metadata": {},
     "output_type": "execute_result"
    }
   ],
   "source": [
    "# df_installments = pd.read_csv('./dataset2/installments_payments.csv')\n",
    "def pad2d_and_reverse(arr, n=4, p=0):\n",
    "  return np.flip(np.concatenate((arr, np.full((n - arr.shape[0], arr.shape[1]), p)), 0), 0)\n",
    "\n",
    "df_installments = pd.read_csv('./dataset2/installments_payments.csv') \\\n",
    "  .fillna(0) \\\n",
    "  .groupby(['SK_ID_CURR', 'SK_ID_PREV']) \\\n",
    "  .apply(lambda x: pad2d_and_reverse(x.nlargest(4, ['NUM_INSTALMENT_NUMBER'])[2:].to_numpy())) \\\n",
    "  .reset_index(name='INSTALLMENT_TS')\n",
    "df_installments.head()"
   ]
  },
  {
   "cell_type": "code",
   "execution_count": 10,
   "metadata": {
    "ExecuteTime": {
     "end_time": "2023-08-16T13:34:27.201061800Z",
     "start_time": "2023-08-16T13:09:16.649369700Z"
    }
   },
   "outputs": [
    {
     "data": {
      "text/plain": "   SK_ID_CURR  SK_ID_PREV                                        POS_CASH_TS\n0      100001     1369693  [[0.0, 0.0, 0.0, 0.0, 0.0, 0.0, 0.0, 0.0, 0.0,...\n1      100001     1851984  [[0.0, 0.0, 0.0, 0.0, 0.0, 0.0, 0.0, 0.0, 0.0,...\n2      100002     1038818  [[0.0, 0.0, 0.0, 0.0, 0.0, 0.0, 0.0, 0.0, 0.0,...\n3      100003     1810518  [[0.0, 0.0, 0.0, 0.0, 0.0, 0.0, 0.0, 0.0, 0.0,...\n4      100003     2396755  [[0.0, 0.0, 0.0, 0.0, 0.0, 0.0, 0.0, 0.0, 0.0,...",
      "text/html": "<div>\n<style scoped>\n    .dataframe tbody tr th:only-of-type {\n        vertical-align: middle;\n    }\n\n    .dataframe tbody tr th {\n        vertical-align: top;\n    }\n\n    .dataframe thead th {\n        text-align: right;\n    }\n</style>\n<table border=\"1\" class=\"dataframe\">\n  <thead>\n    <tr style=\"text-align: right;\">\n      <th></th>\n      <th>SK_ID_CURR</th>\n      <th>SK_ID_PREV</th>\n      <th>POS_CASH_TS</th>\n    </tr>\n  </thead>\n  <tbody>\n    <tr>\n      <th>0</th>\n      <td>100001</td>\n      <td>1369693</td>\n      <td>[[0.0, 0.0, 0.0, 0.0, 0.0, 0.0, 0.0, 0.0, 0.0,...</td>\n    </tr>\n    <tr>\n      <th>1</th>\n      <td>100001</td>\n      <td>1851984</td>\n      <td>[[0.0, 0.0, 0.0, 0.0, 0.0, 0.0, 0.0, 0.0, 0.0,...</td>\n    </tr>\n    <tr>\n      <th>2</th>\n      <td>100002</td>\n      <td>1038818</td>\n      <td>[[0.0, 0.0, 0.0, 0.0, 0.0, 0.0, 0.0, 0.0, 0.0,...</td>\n    </tr>\n    <tr>\n      <th>3</th>\n      <td>100003</td>\n      <td>1810518</td>\n      <td>[[0.0, 0.0, 0.0, 0.0, 0.0, 0.0, 0.0, 0.0, 0.0,...</td>\n    </tr>\n    <tr>\n      <th>4</th>\n      <td>100003</td>\n      <td>2396755</td>\n      <td>[[0.0, 0.0, 0.0, 0.0, 0.0, 0.0, 0.0, 0.0, 0.0,...</td>\n    </tr>\n  </tbody>\n</table>\n</div>"
     },
     "execution_count": 10,
     "metadata": {},
     "output_type": "execute_result"
    }
   ],
   "source": [
    "df_pos_cash_balance = pd.read_csv('./dataset2/POS_CASH_balance.csv')\n",
    "df_pos_cash_balance = pd.get_dummies(df_pos_cash_balance) \\\n",
    "  .fillna(0) \\\n",
    "  .groupby(['SK_ID_CURR', 'SK_ID_PREV']) \\\n",
    "  .apply(lambda x: pad2d_and_reverse(x.nlargest(4, ['MONTHS_BALANCE'])[2:].to_numpy())) \\\n",
    "  .reset_index(name='POS_CASH_TS')\n",
    "df_pos_cash_balance.head()"
   ]
  },
  {
   "cell_type": "code",
   "execution_count": 11,
   "metadata": {
    "ExecuteTime": {
     "end_time": "2023-08-16T13:34:27.298799900Z",
     "start_time": "2023-08-16T13:34:27.214026100Z"
    }
   },
   "outputs": [
    {
     "data": {
      "text/plain": "(4, 16)"
     },
     "execution_count": 11,
     "metadata": {},
     "output_type": "execute_result"
    }
   ],
   "source": [
    "df_pos_cash_balance['POS_CASH_TS'][0].shape"
   ]
  },
  {
   "cell_type": "code",
   "execution_count": 12,
   "metadata": {
    "ExecuteTime": {
     "end_time": "2023-08-16T13:46:35.934274800Z",
     "start_time": "2023-08-16T13:44:03.258546Z"
    }
   },
   "outputs": [
    {
     "data": {
      "text/plain": "   SK_ID_CURR  SK_ID_PREV                             CREDIT_CARD_BALANCE_TS\n0      100006     1489396  [[0.0, 0.0, 0.0, 0.0, 0.0, 0.0, 0.0, 0.0, 0.0,...\n1      100011     1843384  [[0.0, 0.0, 0.0, 0.0, 0.0, 0.0, 0.0, 0.0, 0.0,...\n2      100013     2038692  [[0.0, 0.0, 0.0, 0.0, 0.0, 0.0, 0.0, 0.0, 0.0,...\n3      100021     2594025  [[0.0, 0.0, 0.0, 0.0, 0.0, 0.0, 0.0, 0.0, 0.0,...\n4      100023     1499902  [[0.0, 0.0, 0.0, 0.0, 0.0, 0.0, 0.0, 0.0, 0.0,...",
      "text/html": "<div>\n<style scoped>\n    .dataframe tbody tr th:only-of-type {\n        vertical-align: middle;\n    }\n\n    .dataframe tbody tr th {\n        vertical-align: top;\n    }\n\n    .dataframe thead th {\n        text-align: right;\n    }\n</style>\n<table border=\"1\" class=\"dataframe\">\n  <thead>\n    <tr style=\"text-align: right;\">\n      <th></th>\n      <th>SK_ID_CURR</th>\n      <th>SK_ID_PREV</th>\n      <th>CREDIT_CARD_BALANCE_TS</th>\n    </tr>\n  </thead>\n  <tbody>\n    <tr>\n      <th>0</th>\n      <td>100006</td>\n      <td>1489396</td>\n      <td>[[0.0, 0.0, 0.0, 0.0, 0.0, 0.0, 0.0, 0.0, 0.0,...</td>\n    </tr>\n    <tr>\n      <th>1</th>\n      <td>100011</td>\n      <td>1843384</td>\n      <td>[[0.0, 0.0, 0.0, 0.0, 0.0, 0.0, 0.0, 0.0, 0.0,...</td>\n    </tr>\n    <tr>\n      <th>2</th>\n      <td>100013</td>\n      <td>2038692</td>\n      <td>[[0.0, 0.0, 0.0, 0.0, 0.0, 0.0, 0.0, 0.0, 0.0,...</td>\n    </tr>\n    <tr>\n      <th>3</th>\n      <td>100021</td>\n      <td>2594025</td>\n      <td>[[0.0, 0.0, 0.0, 0.0, 0.0, 0.0, 0.0, 0.0, 0.0,...</td>\n    </tr>\n    <tr>\n      <th>4</th>\n      <td>100023</td>\n      <td>1499902</td>\n      <td>[[0.0, 0.0, 0.0, 0.0, 0.0, 0.0, 0.0, 0.0, 0.0,...</td>\n    </tr>\n  </tbody>\n</table>\n</div>"
     },
     "execution_count": 12,
     "metadata": {},
     "output_type": "execute_result"
    }
   ],
   "source": [
    "df_credit_card_balance = pd.read_csv('./dataset2/credit_card_balance.csv')\n",
    "df_credit_card_balance = pd.get_dummies(df_credit_card_balance) \\\n",
    "  .fillna(0) \\\n",
    "  .groupby(['SK_ID_CURR', 'SK_ID_PREV']) \\\n",
    "  .apply(lambda x: pad2d_and_reverse(x.nlargest(4, ['MONTHS_BALANCE'])[2:].to_numpy())) \\\n",
    "  .reset_index(name='CREDIT_CARD_BALANCE_TS')\n",
    "df_credit_card_balance.head()"
   ]
  },
  {
   "cell_type": "code",
   "execution_count": 13,
   "metadata": {
    "ExecuteTime": {
     "end_time": "2023-08-16T13:51:05.091449500Z",
     "start_time": "2023-08-16T13:50:40.173074Z"
    }
   },
   "outputs": [
    {
     "name": "stdout",
     "output_type": "stream",
     "text": [
      "column 0: SK_ID_PREV\n",
      "column 1: SK_ID_CURR\n",
      "column 2: AMT_ANNUITY\n",
      "column 3: AMT_APPLICATION\n",
      "column 4: AMT_CREDIT\n",
      "column 5: AMT_DOWN_PAYMENT\n",
      "column 6: AMT_GOODS_PRICE\n",
      "column 7: HOUR_APPR_PROCESS_START\n",
      "column 8: NFLAG_LAST_APPL_IN_DAY\n",
      "column 9: RATE_DOWN_PAYMENT\n",
      "column 10: RATE_INTEREST_PRIMARY\n",
      "column 11: RATE_INTEREST_PRIVILEGED\n",
      "column 12: DAYS_DECISION\n",
      "column 13: SELLERPLACE_AREA\n",
      "column 14: CNT_PAYMENT\n",
      "column 15: DAYS_FIRST_DRAWING\n",
      "column 16: DAYS_FIRST_DUE\n",
      "column 17: DAYS_LAST_DUE_1ST_VERSION\n",
      "column 18: DAYS_LAST_DUE\n",
      "column 19: DAYS_TERMINATION\n",
      "column 20: NFLAG_INSURED_ON_APPROVAL\n",
      "column 21: NAME_CONTRACT_TYPE_Cash loans\n",
      "column 22: NAME_CONTRACT_TYPE_Consumer loans\n",
      "column 23: NAME_CONTRACT_TYPE_Revolving loans\n",
      "column 24: NAME_CONTRACT_TYPE_XNA\n",
      "column 25: WEEKDAY_APPR_PROCESS_START_FRIDAY\n",
      "column 26: WEEKDAY_APPR_PROCESS_START_MONDAY\n",
      "column 27: WEEKDAY_APPR_PROCESS_START_SATURDAY\n",
      "column 28: WEEKDAY_APPR_PROCESS_START_SUNDAY\n",
      "column 29: WEEKDAY_APPR_PROCESS_START_THURSDAY\n",
      "column 30: WEEKDAY_APPR_PROCESS_START_TUESDAY\n",
      "column 31: WEEKDAY_APPR_PROCESS_START_WEDNESDAY\n",
      "column 32: FLAG_LAST_APPL_PER_CONTRACT_N\n",
      "column 33: FLAG_LAST_APPL_PER_CONTRACT_Y\n",
      "column 34: NAME_CASH_LOAN_PURPOSE_Building a house or an annex\n",
      "column 35: NAME_CASH_LOAN_PURPOSE_Business development\n",
      "column 36: NAME_CASH_LOAN_PURPOSE_Buying a garage\n",
      "column 37: NAME_CASH_LOAN_PURPOSE_Buying a holiday home / land\n",
      "column 38: NAME_CASH_LOAN_PURPOSE_Buying a home\n",
      "column 39: NAME_CASH_LOAN_PURPOSE_Buying a new car\n",
      "column 40: NAME_CASH_LOAN_PURPOSE_Buying a used car\n",
      "column 41: NAME_CASH_LOAN_PURPOSE_Car repairs\n",
      "column 42: NAME_CASH_LOAN_PURPOSE_Education\n",
      "column 43: NAME_CASH_LOAN_PURPOSE_Everyday expenses\n",
      "column 44: NAME_CASH_LOAN_PURPOSE_Furniture\n",
      "column 45: NAME_CASH_LOAN_PURPOSE_Gasification / water supply\n",
      "column 46: NAME_CASH_LOAN_PURPOSE_Hobby\n",
      "column 47: NAME_CASH_LOAN_PURPOSE_Journey\n",
      "column 48: NAME_CASH_LOAN_PURPOSE_Medicine\n",
      "column 49: NAME_CASH_LOAN_PURPOSE_Money for a third person\n",
      "column 50: NAME_CASH_LOAN_PURPOSE_Other\n",
      "column 51: NAME_CASH_LOAN_PURPOSE_Payments on other loans\n",
      "column 52: NAME_CASH_LOAN_PURPOSE_Purchase of electronic equipment\n",
      "column 53: NAME_CASH_LOAN_PURPOSE_Refusal to name the goal\n",
      "column 54: NAME_CASH_LOAN_PURPOSE_Repairs\n",
      "column 55: NAME_CASH_LOAN_PURPOSE_Urgent needs\n",
      "column 56: NAME_CASH_LOAN_PURPOSE_Wedding / gift / holiday\n",
      "column 57: NAME_CASH_LOAN_PURPOSE_XAP\n",
      "column 58: NAME_CASH_LOAN_PURPOSE_XNA\n",
      "column 59: NAME_CONTRACT_STATUS_Approved\n",
      "column 60: NAME_CONTRACT_STATUS_Canceled\n",
      "column 61: NAME_CONTRACT_STATUS_Refused\n",
      "column 62: NAME_CONTRACT_STATUS_Unused offer\n",
      "column 63: NAME_PAYMENT_TYPE_Cash through the bank\n",
      "column 64: NAME_PAYMENT_TYPE_Cashless from the account of the employer\n",
      "column 65: NAME_PAYMENT_TYPE_Non-cash from your account\n",
      "column 66: NAME_PAYMENT_TYPE_XNA\n",
      "column 67: CODE_REJECT_REASON_CLIENT\n",
      "column 68: CODE_REJECT_REASON_HC\n",
      "column 69: CODE_REJECT_REASON_LIMIT\n",
      "column 70: CODE_REJECT_REASON_SCO\n",
      "column 71: CODE_REJECT_REASON_SCOFR\n",
      "column 72: CODE_REJECT_REASON_SYSTEM\n",
      "column 73: CODE_REJECT_REASON_VERIF\n",
      "column 74: CODE_REJECT_REASON_XAP\n",
      "column 75: CODE_REJECT_REASON_XNA\n",
      "column 76: NAME_TYPE_SUITE_Children\n",
      "column 77: NAME_TYPE_SUITE_Family\n",
      "column 78: NAME_TYPE_SUITE_Group of people\n",
      "column 79: NAME_TYPE_SUITE_Other_A\n",
      "column 80: NAME_TYPE_SUITE_Other_B\n",
      "column 81: NAME_TYPE_SUITE_Spouse, partner\n",
      "column 82: NAME_TYPE_SUITE_Unaccompanied\n",
      "column 83: NAME_CLIENT_TYPE_New\n",
      "column 84: NAME_CLIENT_TYPE_Refreshed\n",
      "column 85: NAME_CLIENT_TYPE_Repeater\n",
      "column 86: NAME_CLIENT_TYPE_XNA\n",
      "column 87: NAME_GOODS_CATEGORY_Additional Service\n",
      "column 88: NAME_GOODS_CATEGORY_Animals\n",
      "column 89: NAME_GOODS_CATEGORY_Audio/Video\n",
      "column 90: NAME_GOODS_CATEGORY_Auto Accessories\n",
      "column 91: NAME_GOODS_CATEGORY_Clothing and Accessories\n",
      "column 92: NAME_GOODS_CATEGORY_Computers\n",
      "column 93: NAME_GOODS_CATEGORY_Construction Materials\n",
      "column 94: NAME_GOODS_CATEGORY_Consumer Electronics\n",
      "column 95: NAME_GOODS_CATEGORY_Direct Sales\n",
      "column 96: NAME_GOODS_CATEGORY_Education\n",
      "column 97: NAME_GOODS_CATEGORY_Fitness\n",
      "column 98: NAME_GOODS_CATEGORY_Furniture\n",
      "column 99: NAME_GOODS_CATEGORY_Gardening\n",
      "column 100: NAME_GOODS_CATEGORY_Homewares\n",
      "column 101: NAME_GOODS_CATEGORY_House Construction\n",
      "column 102: NAME_GOODS_CATEGORY_Insurance\n",
      "column 103: NAME_GOODS_CATEGORY_Jewelry\n",
      "column 104: NAME_GOODS_CATEGORY_Medical Supplies\n",
      "column 105: NAME_GOODS_CATEGORY_Medicine\n",
      "column 106: NAME_GOODS_CATEGORY_Mobile\n",
      "column 107: NAME_GOODS_CATEGORY_Office Appliances\n",
      "column 108: NAME_GOODS_CATEGORY_Other\n",
      "column 109: NAME_GOODS_CATEGORY_Photo / Cinema Equipment\n",
      "column 110: NAME_GOODS_CATEGORY_Sport and Leisure\n",
      "column 111: NAME_GOODS_CATEGORY_Tourism\n",
      "column 112: NAME_GOODS_CATEGORY_Vehicles\n",
      "column 113: NAME_GOODS_CATEGORY_Weapon\n",
      "column 114: NAME_GOODS_CATEGORY_XNA\n",
      "column 115: NAME_PORTFOLIO_Cards\n",
      "column 116: NAME_PORTFOLIO_Cars\n",
      "column 117: NAME_PORTFOLIO_Cash\n",
      "column 118: NAME_PORTFOLIO_POS\n",
      "column 119: NAME_PORTFOLIO_XNA\n",
      "column 120: NAME_PRODUCT_TYPE_XNA\n",
      "column 121: NAME_PRODUCT_TYPE_walk-in\n",
      "column 122: NAME_PRODUCT_TYPE_x-sell\n",
      "column 123: CHANNEL_TYPE_AP+ (Cash loan)\n",
      "column 124: CHANNEL_TYPE_Car dealer\n",
      "column 125: CHANNEL_TYPE_Channel of corporate sales\n",
      "column 126: CHANNEL_TYPE_Contact center\n",
      "column 127: CHANNEL_TYPE_Country-wide\n",
      "column 128: CHANNEL_TYPE_Credit and cash offices\n",
      "column 129: CHANNEL_TYPE_Regional / Local\n",
      "column 130: CHANNEL_TYPE_Stone\n",
      "column 131: NAME_SELLER_INDUSTRY_Auto technology\n",
      "column 132: NAME_SELLER_INDUSTRY_Clothing\n",
      "column 133: NAME_SELLER_INDUSTRY_Connectivity\n",
      "column 134: NAME_SELLER_INDUSTRY_Construction\n",
      "column 135: NAME_SELLER_INDUSTRY_Consumer electronics\n",
      "column 136: NAME_SELLER_INDUSTRY_Furniture\n",
      "column 137: NAME_SELLER_INDUSTRY_Industry\n",
      "column 138: NAME_SELLER_INDUSTRY_Jewelry\n",
      "column 139: NAME_SELLER_INDUSTRY_MLM partners\n",
      "column 140: NAME_SELLER_INDUSTRY_Tourism\n",
      "column 141: NAME_SELLER_INDUSTRY_XNA\n",
      "column 142: NAME_YIELD_GROUP_XNA\n",
      "column 143: NAME_YIELD_GROUP_high\n",
      "column 144: NAME_YIELD_GROUP_low_action\n",
      "column 145: NAME_YIELD_GROUP_low_normal\n",
      "column 146: NAME_YIELD_GROUP_middle\n",
      "column 147: PRODUCT_COMBINATION_Card Street\n",
      "column 148: PRODUCT_COMBINATION_Card X-Sell\n",
      "column 149: PRODUCT_COMBINATION_Cash\n",
      "column 150: PRODUCT_COMBINATION_Cash Street: high\n",
      "column 151: PRODUCT_COMBINATION_Cash Street: low\n",
      "column 152: PRODUCT_COMBINATION_Cash Street: middle\n",
      "column 153: PRODUCT_COMBINATION_Cash X-Sell: high\n",
      "column 154: PRODUCT_COMBINATION_Cash X-Sell: low\n",
      "column 155: PRODUCT_COMBINATION_Cash X-Sell: middle\n",
      "column 156: PRODUCT_COMBINATION_POS household with interest\n",
      "column 157: PRODUCT_COMBINATION_POS household without interest\n",
      "column 158: PRODUCT_COMBINATION_POS industry with interest\n",
      "column 159: PRODUCT_COMBINATION_POS industry without interest\n",
      "column 160: PRODUCT_COMBINATION_POS mobile with interest\n",
      "column 161: PRODUCT_COMBINATION_POS mobile without interest\n",
      "column 162: PRODUCT_COMBINATION_POS other with interest\n",
      "column 163: PRODUCT_COMBINATION_POS others without interest\n"
     ]
    },
    {
     "data": {
      "text/plain": "   SK_ID_PREV  SK_ID_CURR  AMT_ANNUITY  AMT_APPLICATION  AMT_CREDIT  \\\n0     2030495      271877     1730.430          17145.0     17145.0   \n1     2802425      108129    25188.615         607500.0    679671.0   \n2     2523466      122040    15060.735         112500.0    136444.5   \n3     2819243      176158    47041.335         450000.0    470790.0   \n4     1784265      202054    31924.395         337500.0    404055.0   \n\n   AMT_DOWN_PAYMENT  AMT_GOODS_PRICE  HOUR_APPR_PROCESS_START  \\\n0               0.0          17145.0                       15   \n1               0.0         607500.0                       11   \n2               0.0         112500.0                       11   \n3               0.0         450000.0                        7   \n4               0.0         337500.0                        9   \n\n   NFLAG_LAST_APPL_IN_DAY  RATE_DOWN_PAYMENT  ...  \\\n0                       1                0.0  ...   \n1                       1                0.0  ...   \n2                       1                0.0  ...   \n3                       1                0.0  ...   \n4                       1                0.0  ...   \n\n   PRODUCT_COMBINATION_POS household without interest  \\\n0                                                  0    \n1                                                  0    \n2                                                  0    \n3                                                  0    \n4                                                  0    \n\n   PRODUCT_COMBINATION_POS industry with interest  \\\n0                                               0   \n1                                               0   \n2                                               0   \n3                                               0   \n4                                               0   \n\n   PRODUCT_COMBINATION_POS industry without interest  \\\n0                                                  0   \n1                                                  0   \n2                                                  0   \n3                                                  0   \n4                                                  0   \n\n   PRODUCT_COMBINATION_POS mobile with interest  \\\n0                                             1   \n1                                             0   \n2                                             0   \n3                                             0   \n4                                             0   \n\n   PRODUCT_COMBINATION_POS mobile without interest  \\\n0                                                0   \n1                                                0   \n2                                                0   \n3                                                0   \n4                                                0   \n\n   PRODUCT_COMBINATION_POS other with interest  \\\n0                                            0   \n1                                            0   \n2                                            0   \n3                                            0   \n4                                            0   \n\n   PRODUCT_COMBINATION_POS others without interest  \\\n0                                                0   \n1                                                0   \n2                                                0   \n3                                                0   \n4                                                0   \n\n                                         POS_CASH_TS  \\\n0  [[0.0, 0.0, 0.0, 0.0, 0.0, 0.0, 0.0, 0.0, 0.0,...   \n1  [[0.0, 0.0, 0.0, 0.0, 0.0, 0.0, 0.0, 0.0, 0.0,...   \n2  [[0.0, 0.0, 0.0, 0.0, 0.0, 0.0, 0.0, 0.0, 0.0,...   \n3  [[0.0, 0.0, 0.0, 0.0, 0.0, 0.0, 0.0, 0.0, 0.0,...   \n4                                                NaN   \n\n                                      INSTALLMENT_TS  CREDIT_CARD_BALANCE_TS  \n0  [[0.0, 0.0, 0.0, 0.0, 0.0, 0.0, 0.0, 0.0], [0....                     NaN  \n1  [[0.0, 0.0, 0.0, 0.0, 0.0, 0.0, 0.0, 0.0], [0....                     NaN  \n2  [[0.0, 0.0, 0.0, 0.0, 0.0, 0.0, 0.0, 0.0], [0....                     NaN  \n3  [[0.0, 0.0, 0.0, 0.0, 0.0, 0.0, 0.0, 0.0], [0....                     NaN  \n4                                                NaN                     NaN  \n\n[5 rows x 167 columns]",
      "text/html": "<div>\n<style scoped>\n    .dataframe tbody tr th:only-of-type {\n        vertical-align: middle;\n    }\n\n    .dataframe tbody tr th {\n        vertical-align: top;\n    }\n\n    .dataframe thead th {\n        text-align: right;\n    }\n</style>\n<table border=\"1\" class=\"dataframe\">\n  <thead>\n    <tr style=\"text-align: right;\">\n      <th></th>\n      <th>SK_ID_PREV</th>\n      <th>SK_ID_CURR</th>\n      <th>AMT_ANNUITY</th>\n      <th>AMT_APPLICATION</th>\n      <th>AMT_CREDIT</th>\n      <th>AMT_DOWN_PAYMENT</th>\n      <th>AMT_GOODS_PRICE</th>\n      <th>HOUR_APPR_PROCESS_START</th>\n      <th>NFLAG_LAST_APPL_IN_DAY</th>\n      <th>RATE_DOWN_PAYMENT</th>\n      <th>...</th>\n      <th>PRODUCT_COMBINATION_POS household without interest</th>\n      <th>PRODUCT_COMBINATION_POS industry with interest</th>\n      <th>PRODUCT_COMBINATION_POS industry without interest</th>\n      <th>PRODUCT_COMBINATION_POS mobile with interest</th>\n      <th>PRODUCT_COMBINATION_POS mobile without interest</th>\n      <th>PRODUCT_COMBINATION_POS other with interest</th>\n      <th>PRODUCT_COMBINATION_POS others without interest</th>\n      <th>POS_CASH_TS</th>\n      <th>INSTALLMENT_TS</th>\n      <th>CREDIT_CARD_BALANCE_TS</th>\n    </tr>\n  </thead>\n  <tbody>\n    <tr>\n      <th>0</th>\n      <td>2030495</td>\n      <td>271877</td>\n      <td>1730.430</td>\n      <td>17145.0</td>\n      <td>17145.0</td>\n      <td>0.0</td>\n      <td>17145.0</td>\n      <td>15</td>\n      <td>1</td>\n      <td>0.0</td>\n      <td>...</td>\n      <td>0</td>\n      <td>0</td>\n      <td>0</td>\n      <td>1</td>\n      <td>0</td>\n      <td>0</td>\n      <td>0</td>\n      <td>[[0.0, 0.0, 0.0, 0.0, 0.0, 0.0, 0.0, 0.0, 0.0,...</td>\n      <td>[[0.0, 0.0, 0.0, 0.0, 0.0, 0.0, 0.0, 0.0], [0....</td>\n      <td>NaN</td>\n    </tr>\n    <tr>\n      <th>1</th>\n      <td>2802425</td>\n      <td>108129</td>\n      <td>25188.615</td>\n      <td>607500.0</td>\n      <td>679671.0</td>\n      <td>0.0</td>\n      <td>607500.0</td>\n      <td>11</td>\n      <td>1</td>\n      <td>0.0</td>\n      <td>...</td>\n      <td>0</td>\n      <td>0</td>\n      <td>0</td>\n      <td>0</td>\n      <td>0</td>\n      <td>0</td>\n      <td>0</td>\n      <td>[[0.0, 0.0, 0.0, 0.0, 0.0, 0.0, 0.0, 0.0, 0.0,...</td>\n      <td>[[0.0, 0.0, 0.0, 0.0, 0.0, 0.0, 0.0, 0.0], [0....</td>\n      <td>NaN</td>\n    </tr>\n    <tr>\n      <th>2</th>\n      <td>2523466</td>\n      <td>122040</td>\n      <td>15060.735</td>\n      <td>112500.0</td>\n      <td>136444.5</td>\n      <td>0.0</td>\n      <td>112500.0</td>\n      <td>11</td>\n      <td>1</td>\n      <td>0.0</td>\n      <td>...</td>\n      <td>0</td>\n      <td>0</td>\n      <td>0</td>\n      <td>0</td>\n      <td>0</td>\n      <td>0</td>\n      <td>0</td>\n      <td>[[0.0, 0.0, 0.0, 0.0, 0.0, 0.0, 0.0, 0.0, 0.0,...</td>\n      <td>[[0.0, 0.0, 0.0, 0.0, 0.0, 0.0, 0.0, 0.0], [0....</td>\n      <td>NaN</td>\n    </tr>\n    <tr>\n      <th>3</th>\n      <td>2819243</td>\n      <td>176158</td>\n      <td>47041.335</td>\n      <td>450000.0</td>\n      <td>470790.0</td>\n      <td>0.0</td>\n      <td>450000.0</td>\n      <td>7</td>\n      <td>1</td>\n      <td>0.0</td>\n      <td>...</td>\n      <td>0</td>\n      <td>0</td>\n      <td>0</td>\n      <td>0</td>\n      <td>0</td>\n      <td>0</td>\n      <td>0</td>\n      <td>[[0.0, 0.0, 0.0, 0.0, 0.0, 0.0, 0.0, 0.0, 0.0,...</td>\n      <td>[[0.0, 0.0, 0.0, 0.0, 0.0, 0.0, 0.0, 0.0], [0....</td>\n      <td>NaN</td>\n    </tr>\n    <tr>\n      <th>4</th>\n      <td>1784265</td>\n      <td>202054</td>\n      <td>31924.395</td>\n      <td>337500.0</td>\n      <td>404055.0</td>\n      <td>0.0</td>\n      <td>337500.0</td>\n      <td>9</td>\n      <td>1</td>\n      <td>0.0</td>\n      <td>...</td>\n      <td>0</td>\n      <td>0</td>\n      <td>0</td>\n      <td>0</td>\n      <td>0</td>\n      <td>0</td>\n      <td>0</td>\n      <td>NaN</td>\n      <td>NaN</td>\n      <td>NaN</td>\n    </tr>\n  </tbody>\n</table>\n<p>5 rows × 167 columns</p>\n</div>"
     },
     "execution_count": 13,
     "metadata": {},
     "output_type": "execute_result"
    }
   ],
   "source": [
    "df_prev = pd.read_csv('./dataset2/previous_application.csv')\n",
    "df_prev = pd.get_dummies(df_prev) \\\n",
    "  .merge(df_pos_cash_balance, on=['SK_ID_CURR', 'SK_ID_PREV'], how='left') \\\n",
    "  .merge(df_installments, on=['SK_ID_CURR', 'SK_ID_PREV'], how='left') \\\n",
    "  .merge(df_credit_card_balance, on=['SK_ID_CURR', 'SK_ID_PREV'], how='left') \\\n",
    "\n",
    "for i, column in enumerate(df_prev.columns):\n",
    "  if column not in {'INSTALLMENT_TS', 'POS_CASH_TS', 'CREDIT_CARD_BALANCE_TS'}:\n",
    "    print(f'column {i}: {column}')\n",
    "    df_prev[column] = df_prev[column].fillna(0)\n",
    "\n",
    "# df_prev = df_prev.fillna(0)\n",
    "df_prev.head()"
   ]
  },
  {
   "cell_type": "code",
   "execution_count": 14,
   "metadata": {
    "ExecuteTime": {
     "end_time": "2023-08-16T13:52:15.356799500Z",
     "start_time": "2023-08-16T13:51:05.100426900Z"
    }
   },
   "outputs": [
    {
     "name": "stderr",
     "output_type": "stream",
     "text": [
      "C:\\Users\\Shuyao\\AppData\\Local\\Temp\\ipykernel_32100\\4152810211.py:5: FutureWarning: The default value of numeric_only in DataFrameGroupBy.mean is deprecated. In a future version, numeric_only will default to False. Either specify numeric_only or select only columns which should be valid for the function.\n",
      "  df_prev = df_prev.mean()\n",
      "C:\\Users\\Shuyao\\AppData\\Local\\Temp\\ipykernel_32100\\4152810211.py:6: PerformanceWarning: DataFrame is highly fragmented.  This is usually the result of calling `frame.insert` many times, which has poor performance.  Consider joining all columns at once using pd.concat(axis=1) instead. To get a de-fragmented frame, use `newframe = frame.copy()`\n",
      "  df_prev['INSTALLMENT_TSS'] = ts1\n",
      "C:\\Users\\Shuyao\\AppData\\Local\\Temp\\ipykernel_32100\\4152810211.py:7: PerformanceWarning: DataFrame is highly fragmented.  This is usually the result of calling `frame.insert` many times, which has poor performance.  Consider joining all columns at once using pd.concat(axis=1) instead. To get a de-fragmented frame, use `newframe = frame.copy()`\n",
      "  df_prev['POS_CASH_TSS'] = ts2\n",
      "C:\\Users\\Shuyao\\AppData\\Local\\Temp\\ipykernel_32100\\4152810211.py:8: PerformanceWarning: DataFrame is highly fragmented.  This is usually the result of calling `frame.insert` many times, which has poor performance.  Consider joining all columns at once using pd.concat(axis=1) instead. To get a de-fragmented frame, use `newframe = frame.copy()`\n",
      "  df_prev['CREDIT_CARD_BALANCE_TSS'] = ts3\n"
     ]
    },
    {
     "data": {
      "text/plain": "              SK_ID_PREV  AMT_ANNUITY  AMT_APPLICATION  AMT_CREDIT  \\\nSK_ID_CURR                                                           \n100001      1.369693e+06     3951.000         24835.50    23787.00   \n100002      1.038818e+06     9251.775        179055.00   179055.00   \n100003      2.281150e+06    56553.990        435436.50   484191.00   \n100004      1.564014e+06     5357.250         24282.00    20106.00   \n100005      2.176837e+06     2406.600         22308.75    20076.75   \n\n            AMT_DOWN_PAYMENT  AMT_GOODS_PRICE  HOUR_APPR_PROCESS_START  \\\nSK_ID_CURR                                                               \n100001                2520.0         24835.50                13.000000   \n100002                   0.0        179055.00                 9.000000   \n100003                2295.0        435436.50                14.666667   \n100004                4860.0         24282.00                 5.000000   \n100005                2232.0         22308.75                10.500000   \n\n            NFLAG_LAST_APPL_IN_DAY  RATE_DOWN_PAYMENT  RATE_INTEREST_PRIMARY  \\\nSK_ID_CURR                                                                     \n100001                         1.0           0.104326                    0.0   \n100002                         1.0           0.000000                    0.0   \n100003                         1.0           0.033354                    0.0   \n100004                         1.0           0.212008                    0.0   \n100005                         1.0           0.054482                    0.0   \n\n            ...  PRODUCT_COMBINATION_POS household without interest  \\\nSK_ID_CURR  ...                                                       \n100001      ...                                                0.0    \n100002      ...                                                0.0    \n100003      ...                                                0.0    \n100004      ...                                                0.0    \n100005      ...                                                0.0    \n\n            PRODUCT_COMBINATION_POS industry with interest  \\\nSK_ID_CURR                                                   \n100001                                            0.000000   \n100002                                            0.000000   \n100003                                            0.333333   \n100004                                            0.000000   \n100005                                            0.000000   \n\n            PRODUCT_COMBINATION_POS industry without interest  \\\nSK_ID_CURR                                                      \n100001                                                    0.0   \n100002                                                    0.0   \n100003                                                    0.0   \n100004                                                    0.0   \n100005                                                    0.0   \n\n            PRODUCT_COMBINATION_POS mobile with interest  \\\nSK_ID_CURR                                                 \n100001                                               1.0   \n100002                                               0.0   \n100003                                               0.0   \n100004                                               0.0   \n100005                                               0.5   \n\n            PRODUCT_COMBINATION_POS mobile without interest  \\\nSK_ID_CURR                                                    \n100001                                                  0.0   \n100002                                                  0.0   \n100003                                                  0.0   \n100004                                                  1.0   \n100005                                                  0.0   \n\n            PRODUCT_COMBINATION_POS other with interest  \\\nSK_ID_CURR                                                \n100001                                              0.0   \n100002                                              1.0   \n100003                                              0.0   \n100004                                              0.0   \n100005                                              0.0   \n\n            PRODUCT_COMBINATION_POS others without interest  \\\nSK_ID_CURR                                                    \n100001                                                  0.0   \n100002                                                  0.0   \n100003                                                  0.0   \n100004                                                  0.0   \n100005                                                  0.0   \n\n                                              INSTALLMENT_TSS  \\\nSK_ID_CURR                                                      \n100001      [[[0.0, 0.0, 0.0, 0.0, 0.0, 0.0, 0.0, 0.0], [0...   \n100002      [[[0.0, 0.0, 0.0, 0.0, 0.0, 0.0, 0.0, 0.0], [0...   \n100003      [[[0.0, 0.0, 0.0, 0.0, 0.0, 0.0, 0.0, 0.0], [0...   \n100004      [[[0.0, 0.0, 0.0, 0.0, 0.0, 0.0, 0.0, 0.0], [0...   \n100005      [[[0.0, 0.0, 0.0, 0.0, 0.0, 0.0, 0.0, 0.0], [0...   \n\n                                                 POS_CASH_TSS  \\\nSK_ID_CURR                                                      \n100001      [[[0.0, 0.0, 0.0, 0.0, 0.0, 0.0, 0.0, 0.0, 0.0...   \n100002      [[[0.0, 0.0, 0.0, 0.0, 0.0, 0.0, 0.0, 0.0, 0.0...   \n100003      [[[0.0, 0.0, 0.0, 0.0, 0.0, 0.0, 0.0, 0.0, 0.0...   \n100004      [[[0.0, 0.0, 0.0, 0.0, 0.0, 0.0, 0.0, 0.0, 0.0...   \n100005      [[[0.0, 0.0, 0.0, 0.0, 0.0, 0.0, 0.0, 0.0, 0.0...   \n\n                                      CREDIT_CARD_BALANCE_TSS  \nSK_ID_CURR                                                     \n100001      [[[0, 0, 0, 0, 0, 0, 0, 0, 0, 0, 0, 0, 0, 0, 0...  \n100002      [[[0, 0, 0, 0, 0, 0, 0, 0, 0, 0, 0, 0, 0, 0, 0...  \n100003      [[[0, 0, 0, 0, 0, 0, 0, 0, 0, 0, 0, 0, 0, 0, 0...  \n100004      [[[0, 0, 0, 0, 0, 0, 0, 0, 0, 0, 0, 0, 0, 0, 0...  \n100005      [[[0, 0, 0, 0, 0, 0, 0, 0, 0, 0, 0, 0, 0, 0, 0...  \n\n[5 rows x 166 columns]",
      "text/html": "<div>\n<style scoped>\n    .dataframe tbody tr th:only-of-type {\n        vertical-align: middle;\n    }\n\n    .dataframe tbody tr th {\n        vertical-align: top;\n    }\n\n    .dataframe thead th {\n        text-align: right;\n    }\n</style>\n<table border=\"1\" class=\"dataframe\">\n  <thead>\n    <tr style=\"text-align: right;\">\n      <th></th>\n      <th>SK_ID_PREV</th>\n      <th>AMT_ANNUITY</th>\n      <th>AMT_APPLICATION</th>\n      <th>AMT_CREDIT</th>\n      <th>AMT_DOWN_PAYMENT</th>\n      <th>AMT_GOODS_PRICE</th>\n      <th>HOUR_APPR_PROCESS_START</th>\n      <th>NFLAG_LAST_APPL_IN_DAY</th>\n      <th>RATE_DOWN_PAYMENT</th>\n      <th>RATE_INTEREST_PRIMARY</th>\n      <th>...</th>\n      <th>PRODUCT_COMBINATION_POS household without interest</th>\n      <th>PRODUCT_COMBINATION_POS industry with interest</th>\n      <th>PRODUCT_COMBINATION_POS industry without interest</th>\n      <th>PRODUCT_COMBINATION_POS mobile with interest</th>\n      <th>PRODUCT_COMBINATION_POS mobile without interest</th>\n      <th>PRODUCT_COMBINATION_POS other with interest</th>\n      <th>PRODUCT_COMBINATION_POS others without interest</th>\n      <th>INSTALLMENT_TSS</th>\n      <th>POS_CASH_TSS</th>\n      <th>CREDIT_CARD_BALANCE_TSS</th>\n    </tr>\n    <tr>\n      <th>SK_ID_CURR</th>\n      <th></th>\n      <th></th>\n      <th></th>\n      <th></th>\n      <th></th>\n      <th></th>\n      <th></th>\n      <th></th>\n      <th></th>\n      <th></th>\n      <th></th>\n      <th></th>\n      <th></th>\n      <th></th>\n      <th></th>\n      <th></th>\n      <th></th>\n      <th></th>\n      <th></th>\n      <th></th>\n      <th></th>\n    </tr>\n  </thead>\n  <tbody>\n    <tr>\n      <th>100001</th>\n      <td>1.369693e+06</td>\n      <td>3951.000</td>\n      <td>24835.50</td>\n      <td>23787.00</td>\n      <td>2520.0</td>\n      <td>24835.50</td>\n      <td>13.000000</td>\n      <td>1.0</td>\n      <td>0.104326</td>\n      <td>0.0</td>\n      <td>...</td>\n      <td>0.0</td>\n      <td>0.000000</td>\n      <td>0.0</td>\n      <td>1.0</td>\n      <td>0.0</td>\n      <td>0.0</td>\n      <td>0.0</td>\n      <td>[[[0.0, 0.0, 0.0, 0.0, 0.0, 0.0, 0.0, 0.0], [0...</td>\n      <td>[[[0.0, 0.0, 0.0, 0.0, 0.0, 0.0, 0.0, 0.0, 0.0...</td>\n      <td>[[[0, 0, 0, 0, 0, 0, 0, 0, 0, 0, 0, 0, 0, 0, 0...</td>\n    </tr>\n    <tr>\n      <th>100002</th>\n      <td>1.038818e+06</td>\n      <td>9251.775</td>\n      <td>179055.00</td>\n      <td>179055.00</td>\n      <td>0.0</td>\n      <td>179055.00</td>\n      <td>9.000000</td>\n      <td>1.0</td>\n      <td>0.000000</td>\n      <td>0.0</td>\n      <td>...</td>\n      <td>0.0</td>\n      <td>0.000000</td>\n      <td>0.0</td>\n      <td>0.0</td>\n      <td>0.0</td>\n      <td>1.0</td>\n      <td>0.0</td>\n      <td>[[[0.0, 0.0, 0.0, 0.0, 0.0, 0.0, 0.0, 0.0], [0...</td>\n      <td>[[[0.0, 0.0, 0.0, 0.0, 0.0, 0.0, 0.0, 0.0, 0.0...</td>\n      <td>[[[0, 0, 0, 0, 0, 0, 0, 0, 0, 0, 0, 0, 0, 0, 0...</td>\n    </tr>\n    <tr>\n      <th>100003</th>\n      <td>2.281150e+06</td>\n      <td>56553.990</td>\n      <td>435436.50</td>\n      <td>484191.00</td>\n      <td>2295.0</td>\n      <td>435436.50</td>\n      <td>14.666667</td>\n      <td>1.0</td>\n      <td>0.033354</td>\n      <td>0.0</td>\n      <td>...</td>\n      <td>0.0</td>\n      <td>0.333333</td>\n      <td>0.0</td>\n      <td>0.0</td>\n      <td>0.0</td>\n      <td>0.0</td>\n      <td>0.0</td>\n      <td>[[[0.0, 0.0, 0.0, 0.0, 0.0, 0.0, 0.0, 0.0], [0...</td>\n      <td>[[[0.0, 0.0, 0.0, 0.0, 0.0, 0.0, 0.0, 0.0, 0.0...</td>\n      <td>[[[0, 0, 0, 0, 0, 0, 0, 0, 0, 0, 0, 0, 0, 0, 0...</td>\n    </tr>\n    <tr>\n      <th>100004</th>\n      <td>1.564014e+06</td>\n      <td>5357.250</td>\n      <td>24282.00</td>\n      <td>20106.00</td>\n      <td>4860.0</td>\n      <td>24282.00</td>\n      <td>5.000000</td>\n      <td>1.0</td>\n      <td>0.212008</td>\n      <td>0.0</td>\n      <td>...</td>\n      <td>0.0</td>\n      <td>0.000000</td>\n      <td>0.0</td>\n      <td>0.0</td>\n      <td>1.0</td>\n      <td>0.0</td>\n      <td>0.0</td>\n      <td>[[[0.0, 0.0, 0.0, 0.0, 0.0, 0.0, 0.0, 0.0], [0...</td>\n      <td>[[[0.0, 0.0, 0.0, 0.0, 0.0, 0.0, 0.0, 0.0, 0.0...</td>\n      <td>[[[0, 0, 0, 0, 0, 0, 0, 0, 0, 0, 0, 0, 0, 0, 0...</td>\n    </tr>\n    <tr>\n      <th>100005</th>\n      <td>2.176837e+06</td>\n      <td>2406.600</td>\n      <td>22308.75</td>\n      <td>20076.75</td>\n      <td>2232.0</td>\n      <td>22308.75</td>\n      <td>10.500000</td>\n      <td>1.0</td>\n      <td>0.054482</td>\n      <td>0.0</td>\n      <td>...</td>\n      <td>0.0</td>\n      <td>0.000000</td>\n      <td>0.0</td>\n      <td>0.5</td>\n      <td>0.0</td>\n      <td>0.0</td>\n      <td>0.0</td>\n      <td>[[[0.0, 0.0, 0.0, 0.0, 0.0, 0.0, 0.0, 0.0], [0...</td>\n      <td>[[[0.0, 0.0, 0.0, 0.0, 0.0, 0.0, 0.0, 0.0, 0.0...</td>\n      <td>[[[0, 0, 0, 0, 0, 0, 0, 0, 0, 0, 0, 0, 0, 0, 0...</td>\n    </tr>\n  </tbody>\n</table>\n<p>5 rows × 166 columns</p>\n</div>"
     },
     "execution_count": 14,
     "metadata": {},
     "output_type": "execute_result"
    }
   ],
   "source": [
    "df_prev = df_prev.groupby(['SK_ID_CURR'])\n",
    "ts1 = df_prev['INSTALLMENT_TS'].agg(remove_none_and_stack((4, 8), 0))\n",
    "ts2 = df_prev['POS_CASH_TS'].agg(remove_none_and_stack((4, 16), 0))\n",
    "ts3 = df_prev['CREDIT_CARD_BALANCE_TS'].agg(remove_none_and_stack((4, 29), 0))\n",
    "df_prev = df_prev.mean()\n",
    "df_prev['INSTALLMENT_TSS'] = ts1\n",
    "df_prev['POS_CASH_TSS'] = ts2\n",
    "df_prev['CREDIT_CARD_BALANCE_TSS'] = ts3\n",
    "df_prev.reset_index()\n",
    "df_prev.head()"
   ]
  },
  {
   "cell_type": "code",
   "execution_count": 15,
   "metadata": {
    "ExecuteTime": {
     "end_time": "2023-08-16T13:52:41.867690100Z",
     "start_time": "2023-08-16T13:52:37.006204Z"
    }
   },
   "outputs": [],
   "source": [
    "df = df \\\n",
    "  .merge(df_prev, on='SK_ID_CURR', how='left') \\\n",
    "  .merge(df_bureau, on='SK_ID_CURR', how='left')"
   ]
  },
  {
   "cell_type": "code",
   "execution_count": 16,
   "metadata": {
    "ExecuteTime": {
     "end_time": "2023-08-16T13:52:45.448066200Z",
     "start_time": "2023-08-16T13:52:42.828147400Z"
    }
   },
   "outputs": [
    {
     "data": {
      "text/plain": "   SK_ID_CURR  TARGET  CNT_CHILDREN  AMT_INCOME_TOTAL  AMT_CREDIT_x  \\\n0    100002.0     1.0           0.0          202500.0      406597.5   \n1    100003.0     0.0           0.0          270000.0     1293502.5   \n2    100004.0     0.0           0.0           67500.0      135000.0   \n3    100006.0     0.0           0.0          135000.0      312682.5   \n4    100007.0     0.0           0.0          121500.0      513000.0   \n\n   AMT_ANNUITY_x  AMT_GOODS_PRICE_x  REGION_POPULATION_RELATIVE  DAYS_BIRTH  \\\n0        24700.5           351000.0                    0.018801     -9461.0   \n1        35698.5          1129500.0                    0.003541    -16765.0   \n2         6750.0           135000.0                    0.010032    -19046.0   \n3        29686.5           297000.0                    0.008019    -19005.0   \n4        21865.5           513000.0                    0.028663    -19932.0   \n\n   DAYS_EMPLOYED  ...  CREDIT_TYPE_Loan for business development  \\\n0         -637.0  ...                                        0.0   \n1        -1188.0  ...                                        0.0   \n2         -225.0  ...                                        0.0   \n3        -3039.0  ...                                        0.0   \n4        -3038.0  ...                                        0.0   \n\n   CREDIT_TYPE_Loan for purchase of shares (margin lending)  \\\n0                                                0.0          \n1                                                0.0          \n2                                                0.0          \n3                                                0.0          \n4                                                0.0          \n\n   CREDIT_TYPE_Loan for the purchase of equipment  \\\n0                                             0.0   \n1                                             0.0   \n2                                             0.0   \n3                                             0.0   \n4                                             0.0   \n\n   CREDIT_TYPE_Loan for working capital replenishment  CREDIT_TYPE_Microloan  \\\n0                                                0.0                     0.0   \n1                                                0.0                     0.0   \n2                                                0.0                     0.0   \n3                                                0.0                     0.0   \n4                                                0.0                     0.0   \n\n   CREDIT_TYPE_Mobile operator loan  CREDIT_TYPE_Mortgage  \\\n0                               0.0                   0.0   \n1                               0.0                   0.0   \n2                               0.0                   0.0   \n3                               0.0                   0.0   \n4                               0.0                   0.0   \n\n   CREDIT_TYPE_Real estate loan  CREDIT_TYPE_Unknown type of loan  \\\n0                           0.0                               0.0   \n1                           0.0                               0.0   \n2                           0.0                               0.0   \n3                           0.0                               0.0   \n4                           0.0                               0.0   \n\n                                          STATUS_TSS  \n0  [[0, 0, 0, 0, 0, 0, 1, 0, 0, 0, 0, 0], [0, 0, ...  \n1  [[-1, -1, -1, -1, -1, -1, -1, -1, -1, -1, -1, ...  \n2  [[-1, -1, -1, -1, -1, -1, -1, -1, -1, -1, -1, ...  \n3  [[-1, -1, -1, -1, -1, -1, -1, -1, -1, -1, -1, ...  \n4  [[-1, -1, -1, -1, -1, -1, -1, -1, -1, -1, -1, ...  \n\n[5 rows x 448 columns]",
      "text/html": "<div>\n<style scoped>\n    .dataframe tbody tr th:only-of-type {\n        vertical-align: middle;\n    }\n\n    .dataframe tbody tr th {\n        vertical-align: top;\n    }\n\n    .dataframe thead th {\n        text-align: right;\n    }\n</style>\n<table border=\"1\" class=\"dataframe\">\n  <thead>\n    <tr style=\"text-align: right;\">\n      <th></th>\n      <th>SK_ID_CURR</th>\n      <th>TARGET</th>\n      <th>CNT_CHILDREN</th>\n      <th>AMT_INCOME_TOTAL</th>\n      <th>AMT_CREDIT_x</th>\n      <th>AMT_ANNUITY_x</th>\n      <th>AMT_GOODS_PRICE_x</th>\n      <th>REGION_POPULATION_RELATIVE</th>\n      <th>DAYS_BIRTH</th>\n      <th>DAYS_EMPLOYED</th>\n      <th>...</th>\n      <th>CREDIT_TYPE_Loan for business development</th>\n      <th>CREDIT_TYPE_Loan for purchase of shares (margin lending)</th>\n      <th>CREDIT_TYPE_Loan for the purchase of equipment</th>\n      <th>CREDIT_TYPE_Loan for working capital replenishment</th>\n      <th>CREDIT_TYPE_Microloan</th>\n      <th>CREDIT_TYPE_Mobile operator loan</th>\n      <th>CREDIT_TYPE_Mortgage</th>\n      <th>CREDIT_TYPE_Real estate loan</th>\n      <th>CREDIT_TYPE_Unknown type of loan</th>\n      <th>STATUS_TSS</th>\n    </tr>\n  </thead>\n  <tbody>\n    <tr>\n      <th>0</th>\n      <td>100002.0</td>\n      <td>1.0</td>\n      <td>0.0</td>\n      <td>202500.0</td>\n      <td>406597.5</td>\n      <td>24700.5</td>\n      <td>351000.0</td>\n      <td>0.018801</td>\n      <td>-9461.0</td>\n      <td>-637.0</td>\n      <td>...</td>\n      <td>0.0</td>\n      <td>0.0</td>\n      <td>0.0</td>\n      <td>0.0</td>\n      <td>0.0</td>\n      <td>0.0</td>\n      <td>0.0</td>\n      <td>0.0</td>\n      <td>0.0</td>\n      <td>[[0, 0, 0, 0, 0, 0, 1, 0, 0, 0, 0, 0], [0, 0, ...</td>\n    </tr>\n    <tr>\n      <th>1</th>\n      <td>100003.0</td>\n      <td>0.0</td>\n      <td>0.0</td>\n      <td>270000.0</td>\n      <td>1293502.5</td>\n      <td>35698.5</td>\n      <td>1129500.0</td>\n      <td>0.003541</td>\n      <td>-16765.0</td>\n      <td>-1188.0</td>\n      <td>...</td>\n      <td>0.0</td>\n      <td>0.0</td>\n      <td>0.0</td>\n      <td>0.0</td>\n      <td>0.0</td>\n      <td>0.0</td>\n      <td>0.0</td>\n      <td>0.0</td>\n      <td>0.0</td>\n      <td>[[-1, -1, -1, -1, -1, -1, -1, -1, -1, -1, -1, ...</td>\n    </tr>\n    <tr>\n      <th>2</th>\n      <td>100004.0</td>\n      <td>0.0</td>\n      <td>0.0</td>\n      <td>67500.0</td>\n      <td>135000.0</td>\n      <td>6750.0</td>\n      <td>135000.0</td>\n      <td>0.010032</td>\n      <td>-19046.0</td>\n      <td>-225.0</td>\n      <td>...</td>\n      <td>0.0</td>\n      <td>0.0</td>\n      <td>0.0</td>\n      <td>0.0</td>\n      <td>0.0</td>\n      <td>0.0</td>\n      <td>0.0</td>\n      <td>0.0</td>\n      <td>0.0</td>\n      <td>[[-1, -1, -1, -1, -1, -1, -1, -1, -1, -1, -1, ...</td>\n    </tr>\n    <tr>\n      <th>3</th>\n      <td>100006.0</td>\n      <td>0.0</td>\n      <td>0.0</td>\n      <td>135000.0</td>\n      <td>312682.5</td>\n      <td>29686.5</td>\n      <td>297000.0</td>\n      <td>0.008019</td>\n      <td>-19005.0</td>\n      <td>-3039.0</td>\n      <td>...</td>\n      <td>0.0</td>\n      <td>0.0</td>\n      <td>0.0</td>\n      <td>0.0</td>\n      <td>0.0</td>\n      <td>0.0</td>\n      <td>0.0</td>\n      <td>0.0</td>\n      <td>0.0</td>\n      <td>[[-1, -1, -1, -1, -1, -1, -1, -1, -1, -1, -1, ...</td>\n    </tr>\n    <tr>\n      <th>4</th>\n      <td>100007.0</td>\n      <td>0.0</td>\n      <td>0.0</td>\n      <td>121500.0</td>\n      <td>513000.0</td>\n      <td>21865.5</td>\n      <td>513000.0</td>\n      <td>0.028663</td>\n      <td>-19932.0</td>\n      <td>-3038.0</td>\n      <td>...</td>\n      <td>0.0</td>\n      <td>0.0</td>\n      <td>0.0</td>\n      <td>0.0</td>\n      <td>0.0</td>\n      <td>0.0</td>\n      <td>0.0</td>\n      <td>0.0</td>\n      <td>0.0</td>\n      <td>[[-1, -1, -1, -1, -1, -1, -1, -1, -1, -1, -1, ...</td>\n    </tr>\n  </tbody>\n</table>\n<p>5 rows × 448 columns</p>\n</div>"
     },
     "execution_count": 16,
     "metadata": {},
     "output_type": "execute_result"
    }
   ],
   "source": [
    "def fill_empty(shape, fill):\n",
    "  def helper(x):\n",
    "    return x if isinstance(x, np.ndarray) else np.full(shape, fill)\n",
    "  return helper\n",
    "\n",
    "df['STATUS_TSS'] = df['STATUS_TSS'].apply(fill_empty((4, 12), -1))\n",
    "df['INSTALLMENT_TSS'] = df['INSTALLMENT_TSS'].apply(fill_empty((4, 4, 8), 0))\n",
    "df['POS_CASH_TSS'] = df['POS_CASH_TSS'].apply(fill_empty((4, 4, 16), 0))\n",
    "df['CREDIT_CARD_BALANCE_TSS'] = df['CREDIT_CARD_BALANCE_TSS'].apply(fill_empty((4, 4, 29), 0))\n",
    "df = df.fillna(0)\n",
    "df.head()"
   ]
  },
  {
   "cell_type": "code",
   "execution_count": 17,
   "metadata": {
    "ExecuteTime": {
     "end_time": "2023-08-16T13:52:49.423224200Z",
     "start_time": "2023-08-16T13:52:49.082133700Z"
    }
   },
   "outputs": [],
   "source": [
    "ts1 = df['STATUS_TSS']\n",
    "ts2 = df['INSTALLMENT_TSS']\n",
    "ts3 = df['POS_CASH_TSS']\n",
    "ts4 = df['CREDIT_CARD_BALANCE_TSS']\n",
    "df = df.drop(columns=['STATUS_TSS', 'INSTALLMENT_TSS', 'POS_CASH_TSS', 'CREDIT_CARD_BALANCE_TSS'])"
   ]
  },
  {
   "cell_type": "code",
   "execution_count": 18,
   "metadata": {
    "ExecuteTime": {
     "end_time": "2023-08-16T13:52:53.991325Z",
     "start_time": "2023-08-16T13:52:53.941956500Z"
    }
   },
   "outputs": [
    {
     "data": {
      "text/plain": "   SK_ID_CURR  TARGET  CNT_CHILDREN  AMT_INCOME_TOTAL  AMT_CREDIT_x  \\\n0    100002.0     1.0           0.0          202500.0      406597.5   \n1    100003.0     0.0           0.0          270000.0     1293502.5   \n2    100004.0     0.0           0.0           67500.0      135000.0   \n3    100006.0     0.0           0.0          135000.0      312682.5   \n4    100007.0     0.0           0.0          121500.0      513000.0   \n\n   AMT_ANNUITY_x  AMT_GOODS_PRICE_x  REGION_POPULATION_RELATIVE  DAYS_BIRTH  \\\n0        24700.5           351000.0                    0.018801     -9461.0   \n1        35698.5          1129500.0                    0.003541    -16765.0   \n2         6750.0           135000.0                    0.010032    -19046.0   \n3        29686.5           297000.0                    0.008019    -19005.0   \n4        21865.5           513000.0                    0.028663    -19932.0   \n\n   DAYS_EMPLOYED  ...  CREDIT_TYPE_Interbank credit  \\\n0         -637.0  ...                           0.0   \n1        -1188.0  ...                           0.0   \n2         -225.0  ...                           0.0   \n3        -3039.0  ...                           0.0   \n4        -3038.0  ...                           0.0   \n\n   CREDIT_TYPE_Loan for business development  \\\n0                                        0.0   \n1                                        0.0   \n2                                        0.0   \n3                                        0.0   \n4                                        0.0   \n\n   CREDIT_TYPE_Loan for purchase of shares (margin lending)  \\\n0                                                0.0          \n1                                                0.0          \n2                                                0.0          \n3                                                0.0          \n4                                                0.0          \n\n   CREDIT_TYPE_Loan for the purchase of equipment  \\\n0                                             0.0   \n1                                             0.0   \n2                                             0.0   \n3                                             0.0   \n4                                             0.0   \n\n   CREDIT_TYPE_Loan for working capital replenishment  CREDIT_TYPE_Microloan  \\\n0                                                0.0                     0.0   \n1                                                0.0                     0.0   \n2                                                0.0                     0.0   \n3                                                0.0                     0.0   \n4                                                0.0                     0.0   \n\n   CREDIT_TYPE_Mobile operator loan  CREDIT_TYPE_Mortgage  \\\n0                               0.0                   0.0   \n1                               0.0                   0.0   \n2                               0.0                   0.0   \n3                               0.0                   0.0   \n4                               0.0                   0.0   \n\n   CREDIT_TYPE_Real estate loan  CREDIT_TYPE_Unknown type of loan  \n0                           0.0                               0.0  \n1                           0.0                               0.0  \n2                           0.0                               0.0  \n3                           0.0                               0.0  \n4                           0.0                               0.0  \n\n[5 rows x 444 columns]",
      "text/html": "<div>\n<style scoped>\n    .dataframe tbody tr th:only-of-type {\n        vertical-align: middle;\n    }\n\n    .dataframe tbody tr th {\n        vertical-align: top;\n    }\n\n    .dataframe thead th {\n        text-align: right;\n    }\n</style>\n<table border=\"1\" class=\"dataframe\">\n  <thead>\n    <tr style=\"text-align: right;\">\n      <th></th>\n      <th>SK_ID_CURR</th>\n      <th>TARGET</th>\n      <th>CNT_CHILDREN</th>\n      <th>AMT_INCOME_TOTAL</th>\n      <th>AMT_CREDIT_x</th>\n      <th>AMT_ANNUITY_x</th>\n      <th>AMT_GOODS_PRICE_x</th>\n      <th>REGION_POPULATION_RELATIVE</th>\n      <th>DAYS_BIRTH</th>\n      <th>DAYS_EMPLOYED</th>\n      <th>...</th>\n      <th>CREDIT_TYPE_Interbank credit</th>\n      <th>CREDIT_TYPE_Loan for business development</th>\n      <th>CREDIT_TYPE_Loan for purchase of shares (margin lending)</th>\n      <th>CREDIT_TYPE_Loan for the purchase of equipment</th>\n      <th>CREDIT_TYPE_Loan for working capital replenishment</th>\n      <th>CREDIT_TYPE_Microloan</th>\n      <th>CREDIT_TYPE_Mobile operator loan</th>\n      <th>CREDIT_TYPE_Mortgage</th>\n      <th>CREDIT_TYPE_Real estate loan</th>\n      <th>CREDIT_TYPE_Unknown type of loan</th>\n    </tr>\n  </thead>\n  <tbody>\n    <tr>\n      <th>0</th>\n      <td>100002.0</td>\n      <td>1.0</td>\n      <td>0.0</td>\n      <td>202500.0</td>\n      <td>406597.5</td>\n      <td>24700.5</td>\n      <td>351000.0</td>\n      <td>0.018801</td>\n      <td>-9461.0</td>\n      <td>-637.0</td>\n      <td>...</td>\n      <td>0.0</td>\n      <td>0.0</td>\n      <td>0.0</td>\n      <td>0.0</td>\n      <td>0.0</td>\n      <td>0.0</td>\n      <td>0.0</td>\n      <td>0.0</td>\n      <td>0.0</td>\n      <td>0.0</td>\n    </tr>\n    <tr>\n      <th>1</th>\n      <td>100003.0</td>\n      <td>0.0</td>\n      <td>0.0</td>\n      <td>270000.0</td>\n      <td>1293502.5</td>\n      <td>35698.5</td>\n      <td>1129500.0</td>\n      <td>0.003541</td>\n      <td>-16765.0</td>\n      <td>-1188.0</td>\n      <td>...</td>\n      <td>0.0</td>\n      <td>0.0</td>\n      <td>0.0</td>\n      <td>0.0</td>\n      <td>0.0</td>\n      <td>0.0</td>\n      <td>0.0</td>\n      <td>0.0</td>\n      <td>0.0</td>\n      <td>0.0</td>\n    </tr>\n    <tr>\n      <th>2</th>\n      <td>100004.0</td>\n      <td>0.0</td>\n      <td>0.0</td>\n      <td>67500.0</td>\n      <td>135000.0</td>\n      <td>6750.0</td>\n      <td>135000.0</td>\n      <td>0.010032</td>\n      <td>-19046.0</td>\n      <td>-225.0</td>\n      <td>...</td>\n      <td>0.0</td>\n      <td>0.0</td>\n      <td>0.0</td>\n      <td>0.0</td>\n      <td>0.0</td>\n      <td>0.0</td>\n      <td>0.0</td>\n      <td>0.0</td>\n      <td>0.0</td>\n      <td>0.0</td>\n    </tr>\n    <tr>\n      <th>3</th>\n      <td>100006.0</td>\n      <td>0.0</td>\n      <td>0.0</td>\n      <td>135000.0</td>\n      <td>312682.5</td>\n      <td>29686.5</td>\n      <td>297000.0</td>\n      <td>0.008019</td>\n      <td>-19005.0</td>\n      <td>-3039.0</td>\n      <td>...</td>\n      <td>0.0</td>\n      <td>0.0</td>\n      <td>0.0</td>\n      <td>0.0</td>\n      <td>0.0</td>\n      <td>0.0</td>\n      <td>0.0</td>\n      <td>0.0</td>\n      <td>0.0</td>\n      <td>0.0</td>\n    </tr>\n    <tr>\n      <th>4</th>\n      <td>100007.0</td>\n      <td>0.0</td>\n      <td>0.0</td>\n      <td>121500.0</td>\n      <td>513000.0</td>\n      <td>21865.5</td>\n      <td>513000.0</td>\n      <td>0.028663</td>\n      <td>-19932.0</td>\n      <td>-3038.0</td>\n      <td>...</td>\n      <td>0.0</td>\n      <td>0.0</td>\n      <td>0.0</td>\n      <td>0.0</td>\n      <td>0.0</td>\n      <td>0.0</td>\n      <td>0.0</td>\n      <td>0.0</td>\n      <td>0.0</td>\n      <td>0.0</td>\n    </tr>\n  </tbody>\n</table>\n<p>5 rows × 444 columns</p>\n</div>"
     },
     "execution_count": 18,
     "metadata": {},
     "output_type": "execute_result"
    }
   ],
   "source": [
    "df.head()"
   ]
  },
  {
   "cell_type": "code",
   "execution_count": 19,
   "metadata": {
    "ExecuteTime": {
     "end_time": "2023-08-16T13:53:14.314150300Z",
     "start_time": "2023-08-16T13:52:57.687743100Z"
    }
   },
   "outputs": [
    {
     "name": "stderr",
     "output_type": "stream",
     "text": [
      "D:\\FD\\venv\\lib\\site-packages\\sklearn\\feature_selection\\_univariate_selection.py:112: UserWarning: Features [344] are constant.\n",
      "  warnings.warn(\"Features %s are constant.\" % constant_features_idx, UserWarning)\n",
      "D:\\FD\\venv\\lib\\site-packages\\sklearn\\feature_selection\\_univariate_selection.py:113: RuntimeWarning: invalid value encountered in divide\n",
      "  f = msb / msw\n"
     ]
    },
    {
     "data": {
      "text/plain": "   EXT_SOURCE_2  EXT_SOURCE_3  EXT_SOURCE_1  DAYS_CREDIT  DAYS_BIRTH  \\\n0     -1.317461 -2.129246e+00     -3.006513     0.083760    1.506877   \n1      0.565105 -3.416440e-07     -1.369221    -0.733140   -0.166821   \n2      0.217545  1.253631e+00      0.000000     0.094616   -0.689508   \n3      0.712840 -3.416440e-07      0.000000     1.439185   -0.680113   \n4     -1.004188 -3.416440e-07      0.000000    -0.342719   -0.892533   \n\n   NAME_CONTRACT_STATUS_Refused  DAYS_ENDDATE_FACT  CREDIT_ACTIVE_Closed  \\\n0                     -0.579686          -0.048392              0.712846   \n1                     -0.579686          -0.658313              0.712846   \n2                     -0.579686          -0.067460              1.424668   \n3                      0.033928           1.015601             -1.422618   \n4                     -0.579686          -0.576957              1.424668   \n\n   DAYS_CREDIT_UPDATE  REGION_RATING_CLIENT_W_CITY  ...  FLAG_PHONE  \\\n0           -0.068226                    -0.062698  ...    1.599334   \n1           -0.753087                    -2.051810  ...    1.599334   \n2           -0.137823                    -0.062698  ...    1.599334   \n3            1.014715                    -0.062698  ...   -0.625258   \n4           -0.681595                    -0.062698  ...   -0.625258   \n\n   PRODUCT_COMBINATION_POS mobile with interest  \\\n0                                     -0.593357   \n1                                     -0.593357   \n2                                     -0.593357   \n3                                     -0.593357   \n4                                      0.026050   \n\n   NAME_INCOME_TYPE_State servant  NAME_CASH_LOAN_PURPOSE_Repairs  \\\n0                       -0.275564                       -0.159575   \n1                        3.628913                       -0.159575   \n2                       -0.275564                       -0.159575   \n3                       -0.275564                       -0.159575   \n4                       -0.275564                       -0.159575   \n\n   NAME_CONTRACT_TYPE_Consumer loans  AMT_CREDIT_SUM  \\\n0                           1.222381       -0.258182   \n1                           0.310406       -0.083266   \n2                           1.222381       -0.274466   \n3                          -0.905562       -0.387536   \n4                          -0.601570       -0.212582   \n\n   FONDKAPREMONT_MODE_reg oper account  NAME_FAMILY_STATUS_Civil marriage  \\\n0                             1.779076                          -0.327423   \n1                             1.779076                          -0.327423   \n2                            -0.562088                          -0.327423   \n3                            -0.562088                           3.054144   \n4                            -0.562088                          -0.327423   \n\n   TOTALAREA_MODE  FLAG_OWN_CAR_N  \n0   -1.133972e+00        0.717912  \n1   -4.029754e-01        0.717912  \n2   -1.927911e-07       -1.392923  \n3   -1.927911e-07        0.717912  \n4   -1.927911e-07        0.717912  \n\n[5 rows x 100 columns]",
      "text/html": "<div>\n<style scoped>\n    .dataframe tbody tr th:only-of-type {\n        vertical-align: middle;\n    }\n\n    .dataframe tbody tr th {\n        vertical-align: top;\n    }\n\n    .dataframe thead th {\n        text-align: right;\n    }\n</style>\n<table border=\"1\" class=\"dataframe\">\n  <thead>\n    <tr style=\"text-align: right;\">\n      <th></th>\n      <th>EXT_SOURCE_2</th>\n      <th>EXT_SOURCE_3</th>\n      <th>EXT_SOURCE_1</th>\n      <th>DAYS_CREDIT</th>\n      <th>DAYS_BIRTH</th>\n      <th>NAME_CONTRACT_STATUS_Refused</th>\n      <th>DAYS_ENDDATE_FACT</th>\n      <th>CREDIT_ACTIVE_Closed</th>\n      <th>DAYS_CREDIT_UPDATE</th>\n      <th>REGION_RATING_CLIENT_W_CITY</th>\n      <th>...</th>\n      <th>FLAG_PHONE</th>\n      <th>PRODUCT_COMBINATION_POS mobile with interest</th>\n      <th>NAME_INCOME_TYPE_State servant</th>\n      <th>NAME_CASH_LOAN_PURPOSE_Repairs</th>\n      <th>NAME_CONTRACT_TYPE_Consumer loans</th>\n      <th>AMT_CREDIT_SUM</th>\n      <th>FONDKAPREMONT_MODE_reg oper account</th>\n      <th>NAME_FAMILY_STATUS_Civil marriage</th>\n      <th>TOTALAREA_MODE</th>\n      <th>FLAG_OWN_CAR_N</th>\n    </tr>\n  </thead>\n  <tbody>\n    <tr>\n      <th>0</th>\n      <td>-1.317461</td>\n      <td>-2.129246e+00</td>\n      <td>-3.006513</td>\n      <td>0.083760</td>\n      <td>1.506877</td>\n      <td>-0.579686</td>\n      <td>-0.048392</td>\n      <td>0.712846</td>\n      <td>-0.068226</td>\n      <td>-0.062698</td>\n      <td>...</td>\n      <td>1.599334</td>\n      <td>-0.593357</td>\n      <td>-0.275564</td>\n      <td>-0.159575</td>\n      <td>1.222381</td>\n      <td>-0.258182</td>\n      <td>1.779076</td>\n      <td>-0.327423</td>\n      <td>-1.133972e+00</td>\n      <td>0.717912</td>\n    </tr>\n    <tr>\n      <th>1</th>\n      <td>0.565105</td>\n      <td>-3.416440e-07</td>\n      <td>-1.369221</td>\n      <td>-0.733140</td>\n      <td>-0.166821</td>\n      <td>-0.579686</td>\n      <td>-0.658313</td>\n      <td>0.712846</td>\n      <td>-0.753087</td>\n      <td>-2.051810</td>\n      <td>...</td>\n      <td>1.599334</td>\n      <td>-0.593357</td>\n      <td>3.628913</td>\n      <td>-0.159575</td>\n      <td>0.310406</td>\n      <td>-0.083266</td>\n      <td>1.779076</td>\n      <td>-0.327423</td>\n      <td>-4.029754e-01</td>\n      <td>0.717912</td>\n    </tr>\n    <tr>\n      <th>2</th>\n      <td>0.217545</td>\n      <td>1.253631e+00</td>\n      <td>0.000000</td>\n      <td>0.094616</td>\n      <td>-0.689508</td>\n      <td>-0.579686</td>\n      <td>-0.067460</td>\n      <td>1.424668</td>\n      <td>-0.137823</td>\n      <td>-0.062698</td>\n      <td>...</td>\n      <td>1.599334</td>\n      <td>-0.593357</td>\n      <td>-0.275564</td>\n      <td>-0.159575</td>\n      <td>1.222381</td>\n      <td>-0.274466</td>\n      <td>-0.562088</td>\n      <td>-0.327423</td>\n      <td>-1.927911e-07</td>\n      <td>-1.392923</td>\n    </tr>\n    <tr>\n      <th>3</th>\n      <td>0.712840</td>\n      <td>-3.416440e-07</td>\n      <td>0.000000</td>\n      <td>1.439185</td>\n      <td>-0.680113</td>\n      <td>0.033928</td>\n      <td>1.015601</td>\n      <td>-1.422618</td>\n      <td>1.014715</td>\n      <td>-0.062698</td>\n      <td>...</td>\n      <td>-0.625258</td>\n      <td>-0.593357</td>\n      <td>-0.275564</td>\n      <td>-0.159575</td>\n      <td>-0.905562</td>\n      <td>-0.387536</td>\n      <td>-0.562088</td>\n      <td>3.054144</td>\n      <td>-1.927911e-07</td>\n      <td>0.717912</td>\n    </tr>\n    <tr>\n      <th>4</th>\n      <td>-1.004188</td>\n      <td>-3.416440e-07</td>\n      <td>0.000000</td>\n      <td>-0.342719</td>\n      <td>-0.892533</td>\n      <td>-0.579686</td>\n      <td>-0.576957</td>\n      <td>1.424668</td>\n      <td>-0.681595</td>\n      <td>-0.062698</td>\n      <td>...</td>\n      <td>-0.625258</td>\n      <td>0.026050</td>\n      <td>-0.275564</td>\n      <td>-0.159575</td>\n      <td>-0.601570</td>\n      <td>-0.212582</td>\n      <td>-0.562088</td>\n      <td>-0.327423</td>\n      <td>-1.927911e-07</td>\n      <td>0.717912</td>\n    </tr>\n  </tbody>\n</table>\n<p>5 rows × 100 columns</p>\n</div>"
     },
     "execution_count": 19,
     "metadata": {},
     "output_type": "execute_result"
    }
   ],
   "source": [
    "from sklearn.feature_selection import f_classif\n",
    "\n",
    "X = df.drop(columns=['SK_ID_CURR', 'TARGET'])\n",
    "y = df[['TARGET']]\n",
    "\n",
    "scores = f_classif(X, y['TARGET'])\n",
    "\n",
    "df_scores = pd.DataFrame({'features': X.columns.to_list(), 'ANOVA_f_values': scores[0]}).sort_values(by=['ANOVA_f_values'], ascending=False)\n",
    "df_scores = df_scores.head(100)\n",
    "df_imp = df[df_scores.features]\n",
    "\n",
    "X = df_imp.astype('float32')\n",
    "X = (X - X.mean()) / X.std()\n",
    "X.head()"
   ]
  },
  {
   "cell_type": "code",
   "execution_count": 20,
   "metadata": {
    "ExecuteTime": {
     "end_time": "2023-08-16T13:54:09.106164400Z",
     "start_time": "2023-08-16T13:53:14.337089600Z"
    }
   },
   "outputs": [
    {
     "name": "stderr",
     "output_type": "stream",
     "text": [
      "C:\\Users\\Shuyao\\AppData\\Local\\Temp\\ipykernel_32100\\1758450018.py:6: UserWarning: Creating a tensor from a list of numpy.ndarrays is extremely slow. Please consider converting the list to a single numpy.ndarray with numpy.array() before converting to a tensor. (Triggered internally at ..\\torch\\csrc\\utils\\tensor_new.cpp:233.)\n",
      "  ts1_tensor = torch.tensor(ts1.to_list())[:, :, :, None].float()\n"
     ]
    }
   ],
   "source": [
    "# ts1_norm = (ts1 - ts1.mean())\n",
    "# ts1_norm = (ts1 - ts1.mean()) / ts1.std()\n",
    "# ts1_norm\n",
    "X = torch.tensor(X.values).float()\n",
    "y = torch.tensor(y.values).float()\n",
    "ts1_tensor = torch.tensor(ts1.to_list())[:, :, :, None].float()\n",
    "ts2_tensor = torch.tensor(ts2.to_list()).float()\n",
    "ts3_tensor = torch.tensor(ts3.to_list()).float()\n",
    "ts4_tensor = torch.tensor(ts4.to_list()).float()"
   ]
  },
  {
   "cell_type": "code",
   "execution_count": 24,
   "outputs": [
    {
     "name": "stdout",
     "output_type": "stream",
     "text": [
      "torch.Size([307511, 4, 12, 1])\n"
     ]
    }
   ],
   "source": [
    "print(ts1_tensor.shape)"
   ],
   "metadata": {
    "collapsed": false,
    "ExecuteTime": {
     "end_time": "2023-08-16T13:56:50.477811600Z",
     "start_time": "2023-08-16T13:56:50.396001600Z"
    }
   }
  },
  {
   "cell_type": "code",
   "execution_count": 21,
   "metadata": {
    "ExecuteTime": {
     "end_time": "2023-08-16T13:54:11.215159600Z",
     "start_time": "2023-08-16T13:54:09.115139700Z"
    }
   },
   "outputs": [],
   "source": [
    "torch.save(X, './dataset2/nts.pt')\n",
    "torch.save(y, './dataset2/y.pt')\n",
    "torch.save(ts1_tensor, './dataset2/ts1.pt')\n",
    "torch.save(ts2_tensor, './dataset2/ts2.pt')\n",
    "torch.save(ts3_tensor, './dataset2/ts3.pt')\n",
    "torch.save(ts4_tensor, './dataset2/ts4.pt')"
   ]
  },
  {
   "cell_type": "code",
   "execution_count": 22,
   "metadata": {
    "ExecuteTime": {
     "end_time": "2023-08-16T13:54:30.380746800Z",
     "start_time": "2023-08-16T13:54:30.190347200Z"
    }
   },
   "outputs": [],
   "source": [
    "from sklearn.model_selection import StratifiedKFold, KFold\n",
    "\n",
    "skf = StratifiedKFold(n_splits=10)\n",
    "skf.get_n_splits(X, y)\n",
    "g = skf.split(X, y)\n",
    "_, train_index = next(g)\n",
    "_, test_index = next(g)\n",
    "X_train = X[train_index]\n",
    "y_train = y[train_index]\n",
    "ts1_train = ts1_tensor[train_index]\n",
    "ts2_train = ts2_tensor[train_index]\n",
    "ts3_train = ts3_tensor[train_index]\n",
    "ts4_train = ts4_tensor[train_index]\n",
    "X_test = X[test_index]\n",
    "y_test = y[test_index]\n",
    "ts1_test = ts1_tensor[test_index]\n",
    "ts2_test = ts2_tensor[test_index]\n",
    "ts3_test = ts3_tensor[test_index]\n",
    "ts4_test = ts4_tensor[test_index]"
   ]
  },
  {
   "cell_type": "code",
   "execution_count": 23,
   "metadata": {
    "ExecuteTime": {
     "end_time": "2023-08-16T13:54:32.770325200Z",
     "start_time": "2023-08-16T13:54:32.638691900Z"
    }
   },
   "outputs": [
    {
     "name": "stdout",
     "output_type": "stream",
     "text": [
      "torch.Size([30752, 4, 12, 1])\n",
      "torch.Size([30752, 4, 4, 8])\n",
      "torch.Size([30752, 4, 4, 16])\n",
      "torch.Size([30752, 4, 4, 29])\n",
      "torch.float32\n",
      "torch.float32\n",
      "tensor(False)\n",
      "tensor(False)\n",
      "tensor(False)\n",
      "tensor(False)\n"
     ]
    }
   ],
   "source": [
    "print(ts1_train.shape)\n",
    "print(ts2_train.shape)\n",
    "print(ts3_train.shape)\n",
    "print(ts4_train.shape)\n",
    "print(ts1_train.dtype)\n",
    "print(y_train.dtype)\n",
    "print(torch.isnan(ts1_train).any())\n",
    "print(torch.isnan(ts2_train).any())\n",
    "print(torch.isnan(ts3_train).any())\n",
    "print(torch.isnan(ts4_train).any())"
   ]
  },
  {
   "cell_type": "code",
   "execution_count": 34,
   "metadata": {
    "ExecuteTime": {
     "end_time": "2023-07-26T13:38:36.948211Z",
     "start_time": "2023-07-26T13:38:36.915298600Z"
    }
   },
   "outputs": [],
   "source": []
  }
 ],
 "metadata": {
  "kernelspec": {
   "display_name": "Python 3",
   "language": "python",
   "name": "python3"
  },
  "language_info": {
   "codemirror_mode": {
    "name": "ipython",
    "version": 3
   },
   "file_extension": ".py",
   "mimetype": "text/x-python",
   "name": "python",
   "nbconvert_exporter": "python",
   "pygments_lexer": "ipython3",
   "version": "3.10.9"
  },
  "orig_nbformat": 4
 },
 "nbformat": 4,
 "nbformat_minor": 2
}
