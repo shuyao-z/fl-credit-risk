{
 "cells": [
  {
   "cell_type": "code",
   "execution_count": 1,
   "metadata": {
    "collapsed": true,
    "ExecuteTime": {
     "end_time": "2023-08-31T21:03:42.627194200Z",
     "start_time": "2023-08-31T21:03:34.505201600Z"
    }
   },
   "outputs": [],
   "source": [
    "import torch\n",
    "import datetime\n",
    "import itertools\n",
    "import os\n",
    "from sklearn.metrics import mean_squared_error, roc_auc_score, f1_score"
   ]
  },
  {
   "cell_type": "code",
   "execution_count": 2,
   "outputs": [
    {
     "name": "stdout",
     "output_type": "stream",
     "text": [
      "Training on cpu using PyTorch 1.13.1+cpu\n",
      "main3_mlp_federated\n"
     ]
    }
   ],
   "source": [
    "if torch.cuda.is_available():\n",
    "    DEVICE = torch.device(\"cuda\")\n",
    "else:\n",
    "    DEVICE = torch.device(\"cpu\")\n",
    "\n",
    "print(f\"Training on {DEVICE} using PyTorch {torch.__version__}\")\n",
    "print('main3_mlp_federated')"
   ],
   "metadata": {
    "collapsed": false,
    "ExecuteTime": {
     "end_time": "2023-08-31T21:03:42.732911400Z",
     "start_time": "2023-08-31T21:03:42.634172500Z"
    }
   }
  },
  {
   "cell_type": "code",
   "execution_count": 3,
   "outputs": [],
   "source": [
    "def test(net, x_test, y_test):\n",
    "  with torch.no_grad():\n",
    "    y_pred = net(x_test)\n",
    "    y_pred = y_pred.detach().numpy()\n",
    "    y_test = y_test.detach().numpy()\n",
    "\n",
    "    mse = mean_squared_error(y_test, y_pred)\n",
    "    auc = roc_auc_score(y_test, y_pred)\n",
    "\n",
    "    print(auc)\n",
    "    return mse, auc"
   ],
   "metadata": {
    "collapsed": false,
    "ExecuteTime": {
     "end_time": "2023-08-31T21:03:42.770811700Z",
     "start_time": "2023-08-31T21:03:42.667084400Z"
    }
   }
  },
  {
   "cell_type": "code",
   "execution_count": 4,
   "outputs": [],
   "source": [
    "#from sklearn.model_selection import train_test_split\n",
    "\n",
    "X = torch.load('./dataset3/X.pt')\n",
    "y = torch.load('./dataset3/y.pt')\n"
   ],
   "metadata": {
    "collapsed": false,
    "ExecuteTime": {
     "end_time": "2023-08-31T21:03:42.771808200Z",
     "start_time": "2023-08-31T21:03:42.678064Z"
    }
   }
  },
  {
   "cell_type": "code",
   "execution_count": 5,
   "outputs": [
    {
     "name": "stderr",
     "output_type": "stream",
     "text": [
      "D:\\FD\\venv\\lib\\site-packages\\torchvision\\io\\image.py:13: UserWarning: Failed to load image Python extension: '[WinError 127] 找不到指定的程序。'If you don't plan on using image functionality from `torchvision.io`, you can ignore this warning. Otherwise, there might be something wrong with your environment. Did you have `libjpeg` or `libpng` installed before building `torchvision` from source?\n",
      "  warn(\n"
     ]
    }
   ],
   "source": [
    "# Define MLP FL simulation wrapper\n",
    "from fl_simu import mlp_simulation3\n",
    "\n",
    "def run_simulation(split, X_train, X_test, y_train, y_test,dir='default', num_epoch=4, batch_size=32, num_rounds=1,\n",
    "                   layer_size=64, num_of_layers=2, dropout=False):\n",
    "    return mlp_simulation3(split, X_train, y_train, X_test, y_test, dir, num_epoch=num_epoch, batch_size=batch_size, num_rounds=num_rounds,\n",
    "                           layer_size=layer_size, num_of_layers=num_of_layers,dropout=dropout)"
   ],
   "metadata": {
    "collapsed": false,
    "ExecuteTime": {
     "end_time": "2023-08-31T21:03:46.364099Z",
     "start_time": "2023-08-31T21:03:42.714957200Z"
    }
   }
  },
  {
   "cell_type": "code",
   "execution_count": 6,
   "outputs": [],
   "source": [
    "from sklearn.model_selection import StratifiedKFold\n",
    "\n",
    "def do_fl(splitting, num_rounds_list, num_epochs_list = [1], batch_size_list = [32], dropout_list = [False],X=X, y=y):\n",
    "  start = datetime.datetime.now()\n",
    "  mses = []\n",
    "  aucs = []\n",
    "\n",
    "  kf = StratifiedKFold(n_splits=5, shuffle=True, random_state=42)\n",
    "\n",
    "  test_name = 'Dataset 3 MLP'\n",
    "  directory_path = 'model_checkpoints3/' + test_name\n",
    "\n",
    "  if not os.path.exists(directory_path):\n",
    "    os.makedirs(directory_path)\n",
    "\n",
    "\n",
    "  flag = 1\n",
    "\n",
    "  for fold_idx, (train_idx, test_idx) in enumerate(kf.split(X, y)):\n",
    "    print(f\"Fold {fold_idx + 1}:\")\n",
    "\n",
    "    if flag == 2:\n",
    "      break\n",
    "\n",
    "    X_train, X_test = X[train_idx], X[test_idx]\n",
    "    y_train, y_test = y[train_idx], y[test_idx]\n",
    "\n",
    "    X_train = torch.tensor(X_train)\n",
    "    X_test = torch.tensor(X_test)\n",
    "    y_train = torch.reshape(torch.tensor(y_train), (-1, 1))\n",
    "    y_test = torch.reshape(torch.tensor(y_test), (-1, 1))\n",
    "\n",
    "    X_test = X_test.to(DEVICE)\n",
    "    y_test = y_test.to(DEVICE)\n",
    "\n",
    "    print(f'x_test: {X_test.device}')\n",
    "    print(f'y_test: {y_test.device}')\n",
    "\n",
    "    for batch_size, num_epoch, num_rounds, dropout in itertools.product(\n",
    "            batch_size_list,\n",
    "            num_epochs_list,\n",
    "            num_rounds_list,\n",
    "            dropout_list):\n",
    "\n",
    "      print(num_rounds)\n",
    "\n",
    "      model_fl = run_simulation(splitting,X_train, X_test, y_train, y_test, test_name, batch_size=batch_size, num_epoch=num_epoch, num_rounds=num_rounds,dropout=dropout)\n",
    "\n",
    "      model_fl.cpu()\n",
    "\n",
    "      X_test = X_test.cpu()\n",
    "      y_test = y_test.cpu()\n",
    "\n",
    "      mse, auc= test(model_fl, X_test, y_test)\n",
    "      mses.append(mse)\n",
    "      aucs.append(auc)\n",
    "\n",
    "      flag += 1\n",
    "\n",
    "  end = datetime.datetime.now()\n",
    "  time = end - start\n",
    "\n",
    "  print('splitting', splitting)\n",
    "  print('time', time)\n",
    "  print('mse', mses)\n",
    "  print('auc', aucs)\n"
   ],
   "metadata": {
    "collapsed": false,
    "ExecuteTime": {
     "end_time": "2023-08-31T21:03:46.403157700Z",
     "start_time": "2023-08-31T21:03:46.375072300Z"
    }
   }
  },
  {
   "cell_type": "code",
   "execution_count": 7,
   "outputs": [
    {
     "name": "stderr",
     "output_type": "stream",
     "text": [
      "C:\\Users\\Shuyao\\AppData\\Local\\Temp\\ipykernel_23376\\475339861.py:29: UserWarning: To copy construct from a tensor, it is recommended to use sourceTensor.clone().detach() or sourceTensor.clone().detach().requires_grad_(True), rather than torch.tensor(sourceTensor).\n",
      "  X_train = torch.tensor(X_train)\n",
      "C:\\Users\\Shuyao\\AppData\\Local\\Temp\\ipykernel_23376\\475339861.py:30: UserWarning: To copy construct from a tensor, it is recommended to use sourceTensor.clone().detach() or sourceTensor.clone().detach().requires_grad_(True), rather than torch.tensor(sourceTensor).\n",
      "  X_test = torch.tensor(X_test)\n",
      "C:\\Users\\Shuyao\\AppData\\Local\\Temp\\ipykernel_23376\\475339861.py:31: UserWarning: To copy construct from a tensor, it is recommended to use sourceTensor.clone().detach() or sourceTensor.clone().detach().requires_grad_(True), rather than torch.tensor(sourceTensor).\n",
      "  y_train = torch.reshape(torch.tensor(y_train), (-1, 1))\n",
      "C:\\Users\\Shuyao\\AppData\\Local\\Temp\\ipykernel_23376\\475339861.py:32: UserWarning: To copy construct from a tensor, it is recommended to use sourceTensor.clone().detach() or sourceTensor.clone().detach().requires_grad_(True), rather than torch.tensor(sourceTensor).\n",
      "  y_test = torch.reshape(torch.tensor(y_test), (-1, 1))\n",
      "INFO flwr 2023-08-31 22:03:47,355 | app.py:145 | Starting Flower simulation, config: ServerConfig(num_rounds=30, round_timeout=None)\n"
     ]
    },
    {
     "name": "stdout",
     "output_type": "stream",
     "text": [
      "Fold 1:\n",
      "x_test: cpu\n",
      "y_test: cpu\n",
      "30\n",
      "Client 0 trainset shape torch.Size([111896, 10])\n",
      "Client 1 trainset shape torch.Size([112064, 10])\n",
      "FL started training on cpu\n",
      "Number of available GPUs: 0\n"
     ]
    },
    {
     "name": "stderr",
     "output_type": "stream",
     "text": [
      "2023-08-31 22:03:54,844\tINFO worker.py:1627 -- Started a local Ray instance. View the dashboard at \u001B[1m\u001B[32m127.0.0.1:8269 \u001B[39m\u001B[22m\n",
      "INFO flwr 2023-08-31 22:04:03,244 | app.py:179 | Flower VCE: Ray initialized with resources: {'node:127.0.0.1': 1.0, 'memory': 830396007.0, 'object_store_memory': 415198003.0, 'GPU': 1.0, 'CPU': 8.0}\n",
      "INFO flwr 2023-08-31 22:04:03,246 | server.py:89 | Initializing global parameters\n",
      "INFO flwr 2023-08-31 22:04:03,247 | server.py:276 | Requesting initial parameters from one random client\n",
      "INFO flwr 2023-08-31 22:04:12,392 | server.py:280 | Received initial parameters from one random client\n",
      "INFO flwr 2023-08-31 22:04:12,394 | server.py:91 | Evaluating initial parameters\n",
      "INFO flwr 2023-08-31 22:04:12,396 | server.py:104 | FL starting\n",
      "DEBUG flwr 2023-08-31 22:04:12,397 | server.py:222 | fit_round 1: strategy sampled 2 clients (out of 2)\n",
      "DEBUG flwr 2023-08-31 22:04:27,301 | server.py:236 | fit_round 1 received 2 results and 0 failures\n",
      "WARNING flwr 2023-08-31 22:04:27,308 | fedavg.py:242 | No fit_metrics_aggregation_fn provided\n",
      "DEBUG flwr 2023-08-31 22:04:27,319 | server.py:173 | evaluate_round 1: strategy sampled 2 clients (out of 2)\n",
      "DEBUG flwr 2023-08-31 22:04:27,508 | server.py:187 | evaluate_round 1 received 2 results and 0 failures\n"
     ]
    },
    {
     "name": "stdout",
     "output_type": "stream",
     "text": [
      "agrregate_fit results list length is  2\n",
      "Saving round 1 aggregated_parameters...\n"
     ]
    },
    {
     "name": "stderr",
     "output_type": "stream",
     "text": [
      "DEBUG flwr 2023-08-31 22:04:27,511 | server.py:222 | fit_round 2: strategy sampled 2 clients (out of 2)\n"
     ]
    },
    {
     "name": "stdout",
     "output_type": "stream",
     "text": [
      "agrregate_evaluate results list length is  2\n",
      "server round is  1\n",
      "loss is  0.25696372985839844\n"
     ]
    },
    {
     "name": "stderr",
     "output_type": "stream",
     "text": [
      "DEBUG flwr 2023-08-31 22:04:43,885 | server.py:236 | fit_round 2 received 2 results and 0 failures\n",
      "DEBUG flwr 2023-08-31 22:04:43,930 | server.py:173 | evaluate_round 2: strategy sampled 2 clients (out of 2)\n"
     ]
    },
    {
     "name": "stdout",
     "output_type": "stream",
     "text": [
      "agrregate_fit results list length is  2\n",
      "Saving round 2 aggregated_parameters...\n"
     ]
    },
    {
     "name": "stderr",
     "output_type": "stream",
     "text": [
      "DEBUG flwr 2023-08-31 22:04:44,305 | server.py:187 | evaluate_round 2 received 2 results and 0 failures\n",
      "DEBUG flwr 2023-08-31 22:04:44,309 | server.py:222 | fit_round 3: strategy sampled 2 clients (out of 2)\n"
     ]
    },
    {
     "name": "stdout",
     "output_type": "stream",
     "text": [
      "agrregate_evaluate results list length is  2\n",
      "server round is  2\n",
      "loss is  0.2175365388393402\n"
     ]
    },
    {
     "name": "stderr",
     "output_type": "stream",
     "text": [
      "DEBUG flwr 2023-08-31 22:04:59,813 | server.py:236 | fit_round 3 received 2 results and 0 failures\n",
      "DEBUG flwr 2023-08-31 22:04:59,856 | server.py:173 | evaluate_round 3: strategy sampled 2 clients (out of 2)\n"
     ]
    },
    {
     "name": "stdout",
     "output_type": "stream",
     "text": [
      "agrregate_fit results list length is  2\n",
      "Saving round 3 aggregated_parameters...\n"
     ]
    },
    {
     "name": "stderr",
     "output_type": "stream",
     "text": [
      "DEBUG flwr 2023-08-31 22:05:00,223 | server.py:187 | evaluate_round 3 received 2 results and 0 failures\n",
      "DEBUG flwr 2023-08-31 22:05:00,226 | server.py:222 | fit_round 4: strategy sampled 2 clients (out of 2)\n"
     ]
    },
    {
     "name": "stdout",
     "output_type": "stream",
     "text": [
      "agrregate_evaluate results list length is  2\n",
      "server round is  3\n",
      "loss is  0.18803240358829498\n"
     ]
    },
    {
     "name": "stderr",
     "output_type": "stream",
     "text": [
      "DEBUG flwr 2023-08-31 22:05:13,322 | server.py:236 | fit_round 4 received 2 results and 0 failures\n",
      "DEBUG flwr 2023-08-31 22:05:13,354 | server.py:173 | evaluate_round 4: strategy sampled 2 clients (out of 2)\n"
     ]
    },
    {
     "name": "stdout",
     "output_type": "stream",
     "text": [
      "agrregate_fit results list length is  2\n",
      "Saving round 4 aggregated_parameters...\n"
     ]
    },
    {
     "name": "stderr",
     "output_type": "stream",
     "text": [
      "DEBUG flwr 2023-08-31 22:05:13,609 | server.py:187 | evaluate_round 4 received 2 results and 0 failures\n",
      "DEBUG flwr 2023-08-31 22:05:13,612 | server.py:222 | fit_round 5: strategy sampled 2 clients (out of 2)\n"
     ]
    },
    {
     "name": "stdout",
     "output_type": "stream",
     "text": [
      "agrregate_evaluate results list length is  2\n",
      "server round is  4\n",
      "loss is  0.16692674160003662\n"
     ]
    },
    {
     "name": "stderr",
     "output_type": "stream",
     "text": [
      "DEBUG flwr 2023-08-31 22:05:28,243 | server.py:236 | fit_round 5 received 2 results and 0 failures\n",
      "DEBUG flwr 2023-08-31 22:05:28,271 | server.py:173 | evaluate_round 5: strategy sampled 2 clients (out of 2)\n"
     ]
    },
    {
     "name": "stdout",
     "output_type": "stream",
     "text": [
      "agrregate_fit results list length is  2\n",
      "Saving round 5 aggregated_parameters...\n"
     ]
    },
    {
     "name": "stderr",
     "output_type": "stream",
     "text": [
      "DEBUG flwr 2023-08-31 22:05:28,520 | server.py:187 | evaluate_round 5 received 2 results and 0 failures\n",
      "DEBUG flwr 2023-08-31 22:05:28,524 | server.py:222 | fit_round 6: strategy sampled 2 clients (out of 2)\n"
     ]
    },
    {
     "name": "stdout",
     "output_type": "stream",
     "text": [
      "agrregate_evaluate results list length is  2\n",
      "server round is  5\n",
      "loss is  0.16508275270462036\n"
     ]
    },
    {
     "name": "stderr",
     "output_type": "stream",
     "text": [
      "DEBUG flwr 2023-08-31 22:05:41,818 | server.py:236 | fit_round 6 received 2 results and 0 failures\n",
      "DEBUG flwr 2023-08-31 22:05:41,835 | server.py:173 | evaluate_round 6: strategy sampled 2 clients (out of 2)\n",
      "DEBUG flwr 2023-08-31 22:05:42,026 | server.py:187 | evaluate_round 6 received 2 results and 0 failures\n"
     ]
    },
    {
     "name": "stdout",
     "output_type": "stream",
     "text": [
      "agrregate_fit results list length is  2\n",
      "Saving round 6 aggregated_parameters...\n"
     ]
    },
    {
     "name": "stderr",
     "output_type": "stream",
     "text": [
      "DEBUG flwr 2023-08-31 22:05:42,028 | server.py:222 | fit_round 7: strategy sampled 2 clients (out of 2)\n"
     ]
    },
    {
     "name": "stdout",
     "output_type": "stream",
     "text": [
      "agrregate_evaluate results list length is  2\n",
      "server round is  6\n",
      "loss is  0.16275936365127563\n"
     ]
    },
    {
     "name": "stderr",
     "output_type": "stream",
     "text": [
      "DEBUG flwr 2023-08-31 22:05:56,450 | server.py:236 | fit_round 7 received 2 results and 0 failures\n",
      "DEBUG flwr 2023-08-31 22:05:56,466 | server.py:173 | evaluate_round 7: strategy sampled 2 clients (out of 2)\n"
     ]
    },
    {
     "name": "stdout",
     "output_type": "stream",
     "text": [
      "agrregate_fit results list length is  2\n",
      "Saving round 7 aggregated_parameters...\n"
     ]
    },
    {
     "name": "stderr",
     "output_type": "stream",
     "text": [
      "DEBUG flwr 2023-08-31 22:05:56,682 | server.py:187 | evaluate_round 7 received 2 results and 0 failures\n",
      "DEBUG flwr 2023-08-31 22:05:56,683 | server.py:222 | fit_round 8: strategy sampled 2 clients (out of 2)\n"
     ]
    },
    {
     "name": "stdout",
     "output_type": "stream",
     "text": [
      "agrregate_evaluate results list length is  2\n",
      "server round is  7\n",
      "loss is  0.15826311707496643\n"
     ]
    },
    {
     "name": "stderr",
     "output_type": "stream",
     "text": [
      "DEBUG flwr 2023-08-31 22:06:12,290 | server.py:236 | fit_round 8 received 2 results and 0 failures\n",
      "DEBUG flwr 2023-08-31 22:06:12,306 | server.py:173 | evaluate_round 8: strategy sampled 2 clients (out of 2)\n",
      "DEBUG flwr 2023-08-31 22:06:12,477 | server.py:187 | evaluate_round 8 received 2 results and 0 failures\n"
     ]
    },
    {
     "name": "stdout",
     "output_type": "stream",
     "text": [
      "agrregate_fit results list length is  2\n",
      "Saving round 8 aggregated_parameters...\n"
     ]
    },
    {
     "name": "stderr",
     "output_type": "stream",
     "text": [
      "DEBUG flwr 2023-08-31 22:06:12,478 | server.py:222 | fit_round 9: strategy sampled 2 clients (out of 2)\n"
     ]
    },
    {
     "name": "stdout",
     "output_type": "stream",
     "text": [
      "agrregate_evaluate results list length is  2\n",
      "server round is  8\n",
      "loss is  0.15889957547187805\n"
     ]
    },
    {
     "name": "stderr",
     "output_type": "stream",
     "text": [
      "DEBUG flwr 2023-08-31 22:06:28,670 | server.py:236 | fit_round 9 received 2 results and 0 failures\n",
      "DEBUG flwr 2023-08-31 22:06:28,700 | server.py:173 | evaluate_round 9: strategy sampled 2 clients (out of 2)\n"
     ]
    },
    {
     "name": "stdout",
     "output_type": "stream",
     "text": [
      "agrregate_fit results list length is  2\n",
      "Saving round 9 aggregated_parameters...\n"
     ]
    },
    {
     "name": "stderr",
     "output_type": "stream",
     "text": [
      "DEBUG flwr 2023-08-31 22:06:29,046 | server.py:187 | evaluate_round 9 received 2 results and 0 failures\n",
      "DEBUG flwr 2023-08-31 22:06:29,049 | server.py:222 | fit_round 10: strategy sampled 2 clients (out of 2)\n"
     ]
    },
    {
     "name": "stdout",
     "output_type": "stream",
     "text": [
      "agrregate_evaluate results list length is  2\n",
      "server round is  9\n",
      "loss is  0.1585818976163864\n"
     ]
    },
    {
     "name": "stderr",
     "output_type": "stream",
     "text": [
      "DEBUG flwr 2023-08-31 22:06:41,631 | server.py:236 | fit_round 10 received 2 results and 0 failures\n",
      "DEBUG flwr 2023-08-31 22:06:41,645 | server.py:173 | evaluate_round 10: strategy sampled 2 clients (out of 2)\n",
      "DEBUG flwr 2023-08-31 22:06:41,803 | server.py:187 | evaluate_round 10 received 2 results and 0 failures\n",
      "DEBUG flwr 2023-08-31 22:06:41,804 | server.py:222 | fit_round 11: strategy sampled 2 clients (out of 2)\n"
     ]
    },
    {
     "name": "stdout",
     "output_type": "stream",
     "text": [
      "agrregate_fit results list length is  2\n",
      "Saving round 10 aggregated_parameters...\n",
      "agrregate_evaluate results list length is  2\n",
      "server round is  10\n",
      "loss is  0.15910056233406067\n"
     ]
    },
    {
     "name": "stderr",
     "output_type": "stream",
     "text": [
      "DEBUG flwr 2023-08-31 22:06:51,801 | server.py:236 | fit_round 11 received 2 results and 0 failures\n",
      "DEBUG flwr 2023-08-31 22:06:51,817 | server.py:173 | evaluate_round 11: strategy sampled 2 clients (out of 2)\n",
      "DEBUG flwr 2023-08-31 22:06:51,990 | server.py:187 | evaluate_round 11 received 2 results and 0 failures\n"
     ]
    },
    {
     "name": "stdout",
     "output_type": "stream",
     "text": [
      "agrregate_fit results list length is  2\n",
      "Saving round 11 aggregated_parameters...\n"
     ]
    },
    {
     "name": "stderr",
     "output_type": "stream",
     "text": [
      "DEBUG flwr 2023-08-31 22:06:51,992 | server.py:222 | fit_round 12: strategy sampled 2 clients (out of 2)\n"
     ]
    },
    {
     "name": "stdout",
     "output_type": "stream",
     "text": [
      "agrregate_evaluate results list length is  2\n",
      "server round is  11\n",
      "loss is  0.1567535102367401\n"
     ]
    },
    {
     "name": "stderr",
     "output_type": "stream",
     "text": [
      "DEBUG flwr 2023-08-31 22:07:04,466 | server.py:236 | fit_round 12 received 2 results and 0 failures\n",
      "DEBUG flwr 2023-08-31 22:07:04,486 | server.py:173 | evaluate_round 12: strategy sampled 2 clients (out of 2)\n",
      "DEBUG flwr 2023-08-31 22:07:04,684 | server.py:187 | evaluate_round 12 received 2 results and 0 failures\n"
     ]
    },
    {
     "name": "stdout",
     "output_type": "stream",
     "text": [
      "agrregate_fit results list length is  2\n",
      "Saving round 12 aggregated_parameters...\n"
     ]
    },
    {
     "name": "stderr",
     "output_type": "stream",
     "text": [
      "DEBUG flwr 2023-08-31 22:07:04,688 | server.py:222 | fit_round 13: strategy sampled 2 clients (out of 2)\n"
     ]
    },
    {
     "name": "stdout",
     "output_type": "stream",
     "text": [
      "agrregate_evaluate results list length is  2\n",
      "server round is  12\n",
      "loss is  0.1584070324897766\n"
     ]
    },
    {
     "name": "stderr",
     "output_type": "stream",
     "text": [
      "DEBUG flwr 2023-08-31 22:07:17,931 | server.py:236 | fit_round 13 received 2 results and 0 failures\n",
      "DEBUG flwr 2023-08-31 22:07:17,960 | server.py:173 | evaluate_round 13: strategy sampled 2 clients (out of 2)\n"
     ]
    },
    {
     "name": "stdout",
     "output_type": "stream",
     "text": [
      "agrregate_fit results list length is  2\n",
      "Saving round 13 aggregated_parameters...\n"
     ]
    },
    {
     "name": "stderr",
     "output_type": "stream",
     "text": [
      "DEBUG flwr 2023-08-31 22:07:18,147 | server.py:187 | evaluate_round 13 received 2 results and 0 failures\n",
      "DEBUG flwr 2023-08-31 22:07:18,149 | server.py:222 | fit_round 14: strategy sampled 2 clients (out of 2)\n"
     ]
    },
    {
     "name": "stdout",
     "output_type": "stream",
     "text": [
      "agrregate_evaluate results list length is  2\n",
      "server round is  13\n",
      "loss is  0.15833550691604614\n"
     ]
    },
    {
     "name": "stderr",
     "output_type": "stream",
     "text": [
      "DEBUG flwr 2023-08-31 22:07:33,611 | server.py:236 | fit_round 14 received 2 results and 0 failures\n",
      "DEBUG flwr 2023-08-31 22:07:33,627 | server.py:173 | evaluate_round 14: strategy sampled 2 clients (out of 2)\n",
      "DEBUG flwr 2023-08-31 22:07:33,794 | server.py:187 | evaluate_round 14 received 2 results and 0 failures\n",
      "DEBUG flwr 2023-08-31 22:07:33,795 | server.py:222 | fit_round 15: strategy sampled 2 clients (out of 2)\n"
     ]
    },
    {
     "name": "stdout",
     "output_type": "stream",
     "text": [
      "agrregate_fit results list length is  2\n",
      "Saving round 14 aggregated_parameters...\n",
      "agrregate_evaluate results list length is  2\n",
      "server round is  14\n",
      "loss is  0.15850940346717834\n"
     ]
    },
    {
     "name": "stderr",
     "output_type": "stream",
     "text": [
      "DEBUG flwr 2023-08-31 22:07:44,838 | server.py:236 | fit_round 15 received 2 results and 0 failures\n",
      "DEBUG flwr 2023-08-31 22:07:44,854 | server.py:173 | evaluate_round 15: strategy sampled 2 clients (out of 2)\n",
      "DEBUG flwr 2023-08-31 22:07:45,025 | server.py:187 | evaluate_round 15 received 2 results and 0 failures\n"
     ]
    },
    {
     "name": "stdout",
     "output_type": "stream",
     "text": [
      "agrregate_fit results list length is  2\n",
      "Saving round 15 aggregated_parameters...\n"
     ]
    },
    {
     "name": "stderr",
     "output_type": "stream",
     "text": [
      "DEBUG flwr 2023-08-31 22:07:45,026 | server.py:222 | fit_round 16: strategy sampled 2 clients (out of 2)\n"
     ]
    },
    {
     "name": "stdout",
     "output_type": "stream",
     "text": [
      "agrregate_evaluate results list length is  2\n",
      "server round is  15\n",
      "loss is  0.15732905268669128\n"
     ]
    },
    {
     "name": "stderr",
     "output_type": "stream",
     "text": [
      "DEBUG flwr 2023-08-31 22:07:55,854 | server.py:236 | fit_round 16 received 2 results and 0 failures\n",
      "DEBUG flwr 2023-08-31 22:07:55,870 | server.py:173 | evaluate_round 16: strategy sampled 2 clients (out of 2)\n",
      "DEBUG flwr 2023-08-31 22:07:56,041 | server.py:187 | evaluate_round 16 received 2 results and 0 failures\n"
     ]
    },
    {
     "name": "stdout",
     "output_type": "stream",
     "text": [
      "agrregate_fit results list length is  2\n",
      "Saving round 16 aggregated_parameters...\n"
     ]
    },
    {
     "name": "stderr",
     "output_type": "stream",
     "text": [
      "DEBUG flwr 2023-08-31 22:07:56,043 | server.py:222 | fit_round 17: strategy sampled 2 clients (out of 2)\n"
     ]
    },
    {
     "name": "stdout",
     "output_type": "stream",
     "text": [
      "agrregate_evaluate results list length is  2\n",
      "server round is  16\n",
      "loss is  0.15875300765037537\n"
     ]
    },
    {
     "name": "stderr",
     "output_type": "stream",
     "text": [
      "DEBUG flwr 2023-08-31 22:08:09,870 | server.py:236 | fit_round 17 received 2 results and 0 failures\n",
      "DEBUG flwr 2023-08-31 22:08:09,890 | server.py:173 | evaluate_round 17: strategy sampled 2 clients (out of 2)\n"
     ]
    },
    {
     "name": "stdout",
     "output_type": "stream",
     "text": [
      "agrregate_fit results list length is  2\n",
      "Saving round 17 aggregated_parameters...\n"
     ]
    },
    {
     "name": "stderr",
     "output_type": "stream",
     "text": [
      "DEBUG flwr 2023-08-31 22:08:10,102 | server.py:187 | evaluate_round 17 received 2 results and 0 failures\n",
      "DEBUG flwr 2023-08-31 22:08:10,104 | server.py:222 | fit_round 18: strategy sampled 2 clients (out of 2)\n"
     ]
    },
    {
     "name": "stdout",
     "output_type": "stream",
     "text": [
      "agrregate_evaluate results list length is  2\n",
      "server round is  17\n",
      "loss is  0.15590941905975342\n"
     ]
    },
    {
     "name": "stderr",
     "output_type": "stream",
     "text": [
      "DEBUG flwr 2023-08-31 22:08:26,796 | server.py:236 | fit_round 18 received 2 results and 0 failures\n",
      "DEBUG flwr 2023-08-31 22:08:26,815 | server.py:173 | evaluate_round 18: strategy sampled 2 clients (out of 2)\n"
     ]
    },
    {
     "name": "stdout",
     "output_type": "stream",
     "text": [
      "agrregate_fit results list length is  2\n",
      "Saving round 18 aggregated_parameters...\n"
     ]
    },
    {
     "name": "stderr",
     "output_type": "stream",
     "text": [
      "DEBUG flwr 2023-08-31 22:08:26,992 | server.py:187 | evaluate_round 18 received 2 results and 0 failures\n",
      "DEBUG flwr 2023-08-31 22:08:26,995 | server.py:222 | fit_round 19: strategy sampled 2 clients (out of 2)\n"
     ]
    },
    {
     "name": "stdout",
     "output_type": "stream",
     "text": [
      "agrregate_evaluate results list length is  2\n",
      "server round is  18\n",
      "loss is  0.15605592727661133\n"
     ]
    },
    {
     "name": "stderr",
     "output_type": "stream",
     "text": [
      "DEBUG flwr 2023-08-31 22:08:38,823 | server.py:236 | fit_round 19 received 2 results and 0 failures\n",
      "DEBUG flwr 2023-08-31 22:08:38,844 | server.py:173 | evaluate_round 19: strategy sampled 2 clients (out of 2)\n"
     ]
    },
    {
     "name": "stdout",
     "output_type": "stream",
     "text": [
      "agrregate_fit results list length is  2\n",
      "Saving round 19 aggregated_parameters...\n"
     ]
    },
    {
     "name": "stderr",
     "output_type": "stream",
     "text": [
      "DEBUG flwr 2023-08-31 22:08:39,161 | server.py:187 | evaluate_round 19 received 2 results and 0 failures\n",
      "DEBUG flwr 2023-08-31 22:08:39,164 | server.py:222 | fit_round 20: strategy sampled 2 clients (out of 2)\n"
     ]
    },
    {
     "name": "stdout",
     "output_type": "stream",
     "text": [
      "agrregate_evaluate results list length is  2\n",
      "server round is  19\n",
      "loss is  0.15696276724338531\n"
     ]
    },
    {
     "name": "stderr",
     "output_type": "stream",
     "text": [
      "DEBUG flwr 2023-08-31 22:08:52,491 | server.py:236 | fit_round 20 received 2 results and 0 failures\n",
      "DEBUG flwr 2023-08-31 22:08:52,508 | server.py:173 | evaluate_round 20: strategy sampled 2 clients (out of 2)\n",
      "DEBUG flwr 2023-08-31 22:08:52,694 | server.py:187 | evaluate_round 20 received 2 results and 0 failures\n"
     ]
    },
    {
     "name": "stdout",
     "output_type": "stream",
     "text": [
      "agrregate_fit results list length is  2\n",
      "Saving round 20 aggregated_parameters...\n"
     ]
    },
    {
     "name": "stderr",
     "output_type": "stream",
     "text": [
      "DEBUG flwr 2023-08-31 22:08:52,697 | server.py:222 | fit_round 21: strategy sampled 2 clients (out of 2)\n"
     ]
    },
    {
     "name": "stdout",
     "output_type": "stream",
     "text": [
      "agrregate_evaluate results list length is  2\n",
      "server round is  20\n",
      "loss is  0.15618161857128143\n"
     ]
    },
    {
     "name": "stderr",
     "output_type": "stream",
     "text": [
      "DEBUG flwr 2023-08-31 22:09:04,921 | server.py:236 | fit_round 21 received 2 results and 0 failures\n",
      "DEBUG flwr 2023-08-31 22:09:04,935 | server.py:173 | evaluate_round 21: strategy sampled 2 clients (out of 2)\n",
      "DEBUG flwr 2023-08-31 22:09:05,085 | server.py:187 | evaluate_round 21 received 2 results and 0 failures\n",
      "DEBUG flwr 2023-08-31 22:09:05,087 | server.py:222 | fit_round 22: strategy sampled 2 clients (out of 2)\n"
     ]
    },
    {
     "name": "stdout",
     "output_type": "stream",
     "text": [
      "agrregate_fit results list length is  2\n",
      "Saving round 21 aggregated_parameters...\n",
      "agrregate_evaluate results list length is  2\n",
      "server round is  21\n",
      "loss is  0.15905636548995972\n"
     ]
    },
    {
     "name": "stderr",
     "output_type": "stream",
     "text": [
      "DEBUG flwr 2023-08-31 22:09:17,455 | server.py:236 | fit_round 22 received 2 results and 0 failures\n",
      "DEBUG flwr 2023-08-31 22:09:17,472 | server.py:173 | evaluate_round 22: strategy sampled 2 clients (out of 2)\n"
     ]
    },
    {
     "name": "stdout",
     "output_type": "stream",
     "text": [
      "agrregate_fit results list length is  2\n",
      "Saving round 22 aggregated_parameters...\n"
     ]
    },
    {
     "name": "stderr",
     "output_type": "stream",
     "text": [
      "DEBUG flwr 2023-08-31 22:09:17,658 | server.py:187 | evaluate_round 22 received 2 results and 0 failures\n",
      "DEBUG flwr 2023-08-31 22:09:17,660 | server.py:222 | fit_round 23: strategy sampled 2 clients (out of 2)\n"
     ]
    },
    {
     "name": "stdout",
     "output_type": "stream",
     "text": [
      "agrregate_evaluate results list length is  2\n",
      "server round is  22\n",
      "loss is  0.1574641913175583\n"
     ]
    },
    {
     "name": "stderr",
     "output_type": "stream",
     "text": [
      "DEBUG flwr 2023-08-31 22:09:29,981 | server.py:236 | fit_round 23 received 2 results and 0 failures\n",
      "DEBUG flwr 2023-08-31 22:09:29,999 | server.py:173 | evaluate_round 23: strategy sampled 2 clients (out of 2)\n",
      "DEBUG flwr 2023-08-31 22:09:30,164 | server.py:187 | evaluate_round 23 received 2 results and 0 failures\n"
     ]
    },
    {
     "name": "stdout",
     "output_type": "stream",
     "text": [
      "agrregate_fit results list length is  2\n",
      "Saving round 23 aggregated_parameters...\n"
     ]
    },
    {
     "name": "stderr",
     "output_type": "stream",
     "text": [
      "DEBUG flwr 2023-08-31 22:09:30,166 | server.py:222 | fit_round 24: strategy sampled 2 clients (out of 2)\n"
     ]
    },
    {
     "name": "stdout",
     "output_type": "stream",
     "text": [
      "agrregate_evaluate results list length is  2\n",
      "server round is  23\n",
      "loss is  0.15434671938419342\n"
     ]
    },
    {
     "name": "stderr",
     "output_type": "stream",
     "text": [
      "DEBUG flwr 2023-08-31 22:09:41,552 | server.py:236 | fit_round 24 received 2 results and 0 failures\n",
      "DEBUG flwr 2023-08-31 22:09:41,569 | server.py:173 | evaluate_round 24: strategy sampled 2 clients (out of 2)\n",
      "DEBUG flwr 2023-08-31 22:09:41,724 | server.py:187 | evaluate_round 24 received 2 results and 0 failures\n",
      "DEBUG flwr 2023-08-31 22:09:41,726 | server.py:222 | fit_round 25: strategy sampled 2 clients (out of 2)\n"
     ]
    },
    {
     "name": "stdout",
     "output_type": "stream",
     "text": [
      "agrregate_fit results list length is  2\n",
      "Saving round 24 aggregated_parameters...\n",
      "agrregate_evaluate results list length is  2\n",
      "server round is  24\n",
      "loss is  0.1547364741563797\n"
     ]
    },
    {
     "name": "stderr",
     "output_type": "stream",
     "text": [
      "DEBUG flwr 2023-08-31 22:09:56,877 | server.py:236 | fit_round 25 received 2 results and 0 failures\n",
      "DEBUG flwr 2023-08-31 22:09:56,907 | server.py:173 | evaluate_round 25: strategy sampled 2 clients (out of 2)\n"
     ]
    },
    {
     "name": "stdout",
     "output_type": "stream",
     "text": [
      "agrregate_fit results list length is  2\n",
      "Saving round 25 aggregated_parameters...\n"
     ]
    },
    {
     "name": "stderr",
     "output_type": "stream",
     "text": [
      "DEBUG flwr 2023-08-31 22:09:57,114 | server.py:187 | evaluate_round 25 received 2 results and 0 failures\n",
      "DEBUG flwr 2023-08-31 22:09:57,117 | server.py:222 | fit_round 26: strategy sampled 2 clients (out of 2)\n"
     ]
    },
    {
     "name": "stdout",
     "output_type": "stream",
     "text": [
      "agrregate_evaluate results list length is  2\n",
      "server round is  25\n",
      "loss is  0.15609672665596008\n"
     ]
    },
    {
     "name": "stderr",
     "output_type": "stream",
     "text": [
      "DEBUG flwr 2023-08-31 22:10:18,010 | server.py:236 | fit_round 26 received 2 results and 0 failures\n",
      "DEBUG flwr 2023-08-31 22:10:18,049 | server.py:173 | evaluate_round 26: strategy sampled 2 clients (out of 2)\n"
     ]
    },
    {
     "name": "stdout",
     "output_type": "stream",
     "text": [
      "agrregate_fit results list length is  2\n",
      "Saving round 26 aggregated_parameters...\n"
     ]
    },
    {
     "name": "stderr",
     "output_type": "stream",
     "text": [
      "DEBUG flwr 2023-08-31 22:10:18,412 | server.py:187 | evaluate_round 26 received 2 results and 0 failures\n",
      "DEBUG flwr 2023-08-31 22:10:18,415 | server.py:222 | fit_round 27: strategy sampled 2 clients (out of 2)\n"
     ]
    },
    {
     "name": "stdout",
     "output_type": "stream",
     "text": [
      "agrregate_evaluate results list length is  2\n",
      "server round is  26\n",
      "loss is  0.15796834230422974\n"
     ]
    },
    {
     "name": "stderr",
     "output_type": "stream",
     "text": [
      "DEBUG flwr 2023-08-31 22:10:43,461 | server.py:236 | fit_round 27 received 2 results and 0 failures\n",
      "DEBUG flwr 2023-08-31 22:10:43,488 | server.py:173 | evaluate_round 27: strategy sampled 2 clients (out of 2)\n"
     ]
    },
    {
     "name": "stdout",
     "output_type": "stream",
     "text": [
      "agrregate_fit results list length is  2\n",
      "Saving round 27 aggregated_parameters...\n"
     ]
    },
    {
     "name": "stderr",
     "output_type": "stream",
     "text": [
      "DEBUG flwr 2023-08-31 22:10:43,758 | server.py:187 | evaluate_round 27 received 2 results and 0 failures\n",
      "DEBUG flwr 2023-08-31 22:10:43,761 | server.py:222 | fit_round 28: strategy sampled 2 clients (out of 2)\n"
     ]
    },
    {
     "name": "stdout",
     "output_type": "stream",
     "text": [
      "agrregate_evaluate results list length is  2\n",
      "server round is  27\n",
      "loss is  0.153464674949646\n"
     ]
    },
    {
     "name": "stderr",
     "output_type": "stream",
     "text": [
      "DEBUG flwr 2023-08-31 22:11:04,297 | server.py:236 | fit_round 28 received 2 results and 0 failures\n",
      "DEBUG flwr 2023-08-31 22:11:04,337 | server.py:173 | evaluate_round 28: strategy sampled 2 clients (out of 2)\n"
     ]
    },
    {
     "name": "stdout",
     "output_type": "stream",
     "text": [
      "agrregate_fit results list length is  2\n",
      "Saving round 28 aggregated_parameters...\n"
     ]
    },
    {
     "name": "stderr",
     "output_type": "stream",
     "text": [
      "DEBUG flwr 2023-08-31 22:11:04,665 | server.py:187 | evaluate_round 28 received 2 results and 0 failures\n",
      "DEBUG flwr 2023-08-31 22:11:04,669 | server.py:222 | fit_round 29: strategy sampled 2 clients (out of 2)\n"
     ]
    },
    {
     "name": "stdout",
     "output_type": "stream",
     "text": [
      "agrregate_evaluate results list length is  2\n",
      "server round is  28\n",
      "loss is  0.15157468616962433\n"
     ]
    },
    {
     "name": "stderr",
     "output_type": "stream",
     "text": [
      "DEBUG flwr 2023-08-31 22:11:24,379 | server.py:236 | fit_round 29 received 2 results and 0 failures\n",
      "DEBUG flwr 2023-08-31 22:11:24,422 | server.py:173 | evaluate_round 29: strategy sampled 2 clients (out of 2)\n"
     ]
    },
    {
     "name": "stdout",
     "output_type": "stream",
     "text": [
      "agrregate_fit results list length is  2\n",
      "Saving round 29 aggregated_parameters...\n"
     ]
    },
    {
     "name": "stderr",
     "output_type": "stream",
     "text": [
      "DEBUG flwr 2023-08-31 22:11:24,854 | server.py:187 | evaluate_round 29 received 2 results and 0 failures\n",
      "DEBUG flwr 2023-08-31 22:11:24,859 | server.py:222 | fit_round 30: strategy sampled 2 clients (out of 2)\n"
     ]
    },
    {
     "name": "stdout",
     "output_type": "stream",
     "text": [
      "agrregate_evaluate results list length is  2\n",
      "server round is  29\n",
      "loss is  0.1534539759159088\n"
     ]
    },
    {
     "name": "stderr",
     "output_type": "stream",
     "text": [
      "DEBUG flwr 2023-08-31 22:11:53,555 | server.py:236 | fit_round 30 received 2 results and 0 failures\n",
      "DEBUG flwr 2023-08-31 22:11:53,579 | server.py:173 | evaluate_round 30: strategy sampled 2 clients (out of 2)\n"
     ]
    },
    {
     "name": "stdout",
     "output_type": "stream",
     "text": [
      "agrregate_fit results list length is  2\n",
      "Saving round 30 aggregated_parameters...\n"
     ]
    },
    {
     "name": "stderr",
     "output_type": "stream",
     "text": [
      "DEBUG flwr 2023-08-31 22:11:53,782 | server.py:187 | evaluate_round 30 received 2 results and 0 failures\n",
      "INFO flwr 2023-08-31 22:11:53,784 | server.py:153 | FL finished in 461.3873453999986\n",
      "INFO flwr 2023-08-31 22:11:53,803 | app.py:225 | app_fit: losses_distributed [(1, 0.25696372985839844), (2, 0.2175365388393402), (3, 0.18803240358829498), (4, 0.16692674160003662), (5, 0.16508275270462036), (6, 0.16275936365127563), (7, 0.15826311707496643), (8, 0.15889957547187805), (9, 0.1585818976163864), (10, 0.15910056233406067), (11, 0.1567535102367401), (12, 0.1584070324897766), (13, 0.15833550691604614), (14, 0.15850940346717834), (15, 0.15732905268669128), (16, 0.15875300765037537), (17, 0.15590941905975342), (18, 0.15605592727661133), (19, 0.15696276724338531), (20, 0.15618161857128143), (21, 0.15905636548995972), (22, 0.1574641913175583), (23, 0.15434671938419342), (24, 0.1547364741563797), (25, 0.15609672665596008), (26, 0.15796834230422974), (27, 0.153464674949646), (28, 0.15157468616962433), (29, 0.1534539759159088), (30, 0.15249015390872955)]\n",
      "INFO flwr 2023-08-31 22:11:53,805 | app.py:226 | app_fit: metrics_distributed_fit {}\n",
      "INFO flwr 2023-08-31 22:11:53,807 | app.py:227 | app_fit: metrics_distributed {'mse': [(1, 0.5139274597167969), (2, 0.4350730776786804), (3, 0.37606480717658997), (4, 0.33385348320007324), (5, 0.3301655054092407), (6, 0.32551872730255127), (7, 0.31652623414993286), (8, 0.3177991509437561), (9, 0.3171637952327728), (10, 0.31820112466812134), (11, 0.3135070204734802), (12, 0.3168140649795532), (13, 0.3166710138320923), (14, 0.3170188069343567), (15, 0.31465810537338257), (16, 0.31750601530075073), (17, 0.31181883811950684), (18, 0.31211185455322266), (19, 0.31392553448677063), (20, 0.31236323714256287), (21, 0.31811273097991943), (22, 0.3149283826351166), (23, 0.30869343876838684), (24, 0.3094729483127594), (25, 0.31219345331192017), (26, 0.3159366846084595), (27, 0.306929349899292), (28, 0.30314937233924866), (29, 0.3069079518318176), (30, 0.3049803078174591)]}\n",
      "INFO flwr 2023-08-31 22:11:53,809 | app.py:228 | app_fit: losses_centralized []\n",
      "INFO flwr 2023-08-31 22:11:53,810 | app.py:229 | app_fit: metrics_centralized {}\n"
     ]
    },
    {
     "name": "stdout",
     "output_type": "stream",
     "text": [
      "agrregate_evaluate results list length is  2\n",
      "server round is  30\n",
      "loss is  0.15249015390872955\n",
      "History (loss, distributed):\n",
      "\tround 1: 0.25696372985839844\n",
      "\tround 2: 0.2175365388393402\n",
      "\tround 3: 0.18803240358829498\n",
      "\tround 4: 0.16692674160003662\n",
      "\tround 5: 0.16508275270462036\n",
      "\tround 6: 0.16275936365127563\n",
      "\tround 7: 0.15826311707496643\n",
      "\tround 8: 0.15889957547187805\n",
      "\tround 9: 0.1585818976163864\n",
      "\tround 10: 0.15910056233406067\n",
      "\tround 11: 0.1567535102367401\n",
      "\tround 12: 0.1584070324897766\n",
      "\tround 13: 0.15833550691604614\n",
      "\tround 14: 0.15850940346717834\n",
      "\tround 15: 0.15732905268669128\n",
      "\tround 16: 0.15875300765037537\n",
      "\tround 17: 0.15590941905975342\n",
      "\tround 18: 0.15605592727661133\n",
      "\tround 19: 0.15696276724338531\n",
      "\tround 20: 0.15618161857128143\n",
      "\tround 21: 0.15905636548995972\n",
      "\tround 22: 0.1574641913175583\n",
      "\tround 23: 0.15434671938419342\n",
      "\tround 24: 0.1547364741563797\n",
      "\tround 25: 0.15609672665596008\n",
      "\tround 26: 0.15796834230422974\n",
      "\tround 27: 0.153464674949646\n",
      "\tround 28: 0.15157468616962433\n",
      "\tround 29: 0.1534539759159088\n",
      "\tround 30: 0.15249015390872955\n",
      "History (metrics, distributed, evaluate):\n",
      "{'mse': [(1, 0.5139274597167969), (2, 0.4350730776786804), (3, 0.37606480717658997), (4, 0.33385348320007324), (5, 0.3301655054092407), (6, 0.32551872730255127), (7, 0.31652623414993286), (8, 0.3177991509437561), (9, 0.3171637952327728), (10, 0.31820112466812134), (11, 0.3135070204734802), (12, 0.3168140649795532), (13, 0.3166710138320923), (14, 0.3170188069343567), (15, 0.31465810537338257), (16, 0.31750601530075073), (17, 0.31181883811950684), (18, 0.31211185455322266), (19, 0.31392553448677063), (20, 0.31236323714256287), (21, 0.31811273097991943), (22, 0.3149283826351166), (23, 0.30869343876838684), (24, 0.3094729483127594), (25, 0.31219345331192017), (26, 0.3159366846084595), (27, 0.306929349899292), (28, 0.30314937233924866), (29, 0.3069079518318176), (30, 0.3049803078174591)]}\n",
      "[(1, 0.25696372985839844), (2, 0.2175365388393402), (3, 0.18803240358829498), (4, 0.16692674160003662), (5, 0.16508275270462036), (6, 0.16275936365127563), (7, 0.15826311707496643), (8, 0.15889957547187805), (9, 0.1585818976163864), (10, 0.15910056233406067), (11, 0.1567535102367401), (12, 0.1584070324897766), (13, 0.15833550691604614), (14, 0.15850940346717834), (15, 0.15732905268669128), (16, 0.15875300765037537), (17, 0.15590941905975342), (18, 0.15605592727661133), (19, 0.15696276724338531), (20, 0.15618161857128143), (21, 0.15905636548995972), (22, 0.1574641913175583), (23, 0.15434671938419342), (24, 0.1547364741563797), (25, 0.15609672665596008), (26, 0.15796834230422974), (27, 0.153464674949646), (28, 0.15157468616962433), (29, 0.1534539759159088), (30, 0.15249015390872955)]\n",
      "0.830111989529732\n",
      "Fold 2:\n",
      "splitting [0.5, 0.5]\n",
      "time 0:08:06.815847\n",
      "mse [0.15249015]\n",
      "auc [0.830111989529732]\n"
     ]
    }
   ],
   "source": [
    "num_rounds = [30] # 10\n",
    "\n",
    "splitting = [0.5, 0.5]\n",
    "do_fl(splitting, num_rounds)"
   ],
   "metadata": {
    "collapsed": false,
    "ExecuteTime": {
     "end_time": "2023-08-31T21:11:54.099146600Z",
     "start_time": "2023-08-31T21:03:47.197527700Z"
    }
   }
  },
  {
   "cell_type": "code",
   "execution_count": 9,
   "outputs": [
    {
     "name": "stderr",
     "output_type": "stream",
     "text": [
      "C:\\Users\\Shuyao\\AppData\\Local\\Temp\\ipykernel_23376\\475339861.py:29: UserWarning: To copy construct from a tensor, it is recommended to use sourceTensor.clone().detach() or sourceTensor.clone().detach().requires_grad_(True), rather than torch.tensor(sourceTensor).\n",
      "  X_train = torch.tensor(X_train)\n",
      "C:\\Users\\Shuyao\\AppData\\Local\\Temp\\ipykernel_23376\\475339861.py:30: UserWarning: To copy construct from a tensor, it is recommended to use sourceTensor.clone().detach() or sourceTensor.clone().detach().requires_grad_(True), rather than torch.tensor(sourceTensor).\n",
      "  X_test = torch.tensor(X_test)\n",
      "C:\\Users\\Shuyao\\AppData\\Local\\Temp\\ipykernel_23376\\475339861.py:31: UserWarning: To copy construct from a tensor, it is recommended to use sourceTensor.clone().detach() or sourceTensor.clone().detach().requires_grad_(True), rather than torch.tensor(sourceTensor).\n",
      "  y_train = torch.reshape(torch.tensor(y_train), (-1, 1))\n",
      "C:\\Users\\Shuyao\\AppData\\Local\\Temp\\ipykernel_23376\\475339861.py:32: UserWarning: To copy construct from a tensor, it is recommended to use sourceTensor.clone().detach() or sourceTensor.clone().detach().requires_grad_(True), rather than torch.tensor(sourceTensor).\n",
      "  y_test = torch.reshape(torch.tensor(y_test), (-1, 1))\n",
      "INFO flwr 2023-08-31 22:14:18,913 | app.py:145 | Starting Flower simulation, config: ServerConfig(num_rounds=30, round_timeout=None)\n"
     ]
    },
    {
     "name": "stdout",
     "output_type": "stream",
     "text": [
      "Fold 1:\n",
      "x_test: cpu\n",
      "y_test: cpu\n",
      "30\n",
      "Client 0 trainset shape torch.Size([134296, 10])\n",
      "Client 1 trainset shape torch.Size([89664, 10])\n",
      "FL started training on cpu\n",
      "Number of available GPUs: 0\n"
     ]
    },
    {
     "name": "stderr",
     "output_type": "stream",
     "text": [
      "2023-08-31 22:14:37,828\tINFO worker.py:1627 -- Started a local Ray instance. View the dashboard at \u001B[1m\u001B[32m127.0.0.1:8270 \u001B[39m\u001B[22m\n",
      "INFO flwr 2023-08-31 22:14:58,192 | app.py:179 | Flower VCE: Ray initialized with resources: {'node:127.0.0.1': 1.0, 'memory': 621057639.0, 'object_store_memory': 310528819.0, 'GPU': 1.0, 'CPU': 8.0}\n",
      "INFO flwr 2023-08-31 22:14:58,195 | server.py:89 | Initializing global parameters\n",
      "INFO flwr 2023-08-31 22:14:58,198 | server.py:276 | Requesting initial parameters from one random client\n",
      "INFO flwr 2023-08-31 22:15:11,590 | server.py:280 | Received initial parameters from one random client\n",
      "INFO flwr 2023-08-31 22:15:11,594 | server.py:91 | Evaluating initial parameters\n",
      "INFO flwr 2023-08-31 22:15:11,596 | server.py:104 | FL starting\n",
      "DEBUG flwr 2023-08-31 22:15:11,598 | server.py:222 | fit_round 1: strategy sampled 2 clients (out of 2)\n",
      "DEBUG flwr 2023-08-31 22:15:48,677 | server.py:236 | fit_round 1 received 2 results and 0 failures\n",
      "WARNING flwr 2023-08-31 22:15:48,687 | fedavg.py:242 | No fit_metrics_aggregation_fn provided\n",
      "DEBUG flwr 2023-08-31 22:15:48,699 | server.py:173 | evaluate_round 1: strategy sampled 2 clients (out of 2)\n"
     ]
    },
    {
     "name": "stdout",
     "output_type": "stream",
     "text": [
      "agrregate_fit results list length is  2\n",
      "Saving round 1 aggregated_parameters...\n"
     ]
    },
    {
     "name": "stderr",
     "output_type": "stream",
     "text": [
      "DEBUG flwr 2023-08-31 22:15:48,927 | server.py:187 | evaluate_round 1 received 2 results and 0 failures\n",
      "DEBUG flwr 2023-08-31 22:15:48,929 | server.py:222 | fit_round 2: strategy sampled 2 clients (out of 2)\n"
     ]
    },
    {
     "name": "stdout",
     "output_type": "stream",
     "text": [
      "agrregate_evaluate results list length is  2\n",
      "server round is  1\n",
      "loss is  0.23020093142986298\n"
     ]
    },
    {
     "name": "stderr",
     "output_type": "stream",
     "text": [
      "DEBUG flwr 2023-08-31 22:16:04,868 | server.py:236 | fit_round 2 received 2 results and 0 failures\n",
      "DEBUG flwr 2023-08-31 22:16:04,883 | server.py:173 | evaluate_round 2: strategy sampled 2 clients (out of 2)\n",
      "DEBUG flwr 2023-08-31 22:16:05,042 | server.py:187 | evaluate_round 2 received 2 results and 0 failures\n",
      "DEBUG flwr 2023-08-31 22:16:05,043 | server.py:222 | fit_round 3: strategy sampled 2 clients (out of 2)\n"
     ]
    },
    {
     "name": "stdout",
     "output_type": "stream",
     "text": [
      "agrregate_fit results list length is  2\n",
      "Saving round 2 aggregated_parameters...\n",
      "agrregate_evaluate results list length is  2\n",
      "server round is  2\n",
      "loss is  0.2097826451063156\n"
     ]
    },
    {
     "name": "stderr",
     "output_type": "stream",
     "text": [
      "DEBUG flwr 2023-08-31 22:16:19,000 | server.py:236 | fit_round 3 received 2 results and 0 failures\n",
      "DEBUG flwr 2023-08-31 22:16:19,016 | server.py:173 | evaluate_round 3: strategy sampled 2 clients (out of 2)\n",
      "DEBUG flwr 2023-08-31 22:16:19,180 | server.py:187 | evaluate_round 3 received 2 results and 0 failures\n",
      "DEBUG flwr 2023-08-31 22:16:19,182 | server.py:222 | fit_round 4: strategy sampled 2 clients (out of 2)\n"
     ]
    },
    {
     "name": "stdout",
     "output_type": "stream",
     "text": [
      "agrregate_fit results list length is  2\n",
      "Saving round 3 aggregated_parameters...\n",
      "agrregate_evaluate results list length is  2\n",
      "server round is  3\n",
      "loss is  0.18446379899978638\n"
     ]
    },
    {
     "name": "stderr",
     "output_type": "stream",
     "text": [
      "DEBUG flwr 2023-08-31 22:16:36,802 | server.py:236 | fit_round 4 received 2 results and 0 failures\n",
      "DEBUG flwr 2023-08-31 22:16:36,821 | server.py:173 | evaluate_round 4: strategy sampled 2 clients (out of 2)\n"
     ]
    },
    {
     "name": "stdout",
     "output_type": "stream",
     "text": [
      "agrregate_fit results list length is  2\n",
      "Saving round 4 aggregated_parameters...\n"
     ]
    },
    {
     "name": "stderr",
     "output_type": "stream",
     "text": [
      "DEBUG flwr 2023-08-31 22:16:37,046 | server.py:187 | evaluate_round 4 received 2 results and 0 failures\n",
      "DEBUG flwr 2023-08-31 22:16:37,048 | server.py:222 | fit_round 5: strategy sampled 2 clients (out of 2)\n"
     ]
    },
    {
     "name": "stdout",
     "output_type": "stream",
     "text": [
      "agrregate_evaluate results list length is  2\n",
      "server round is  4\n",
      "loss is  0.16906185448169708\n"
     ]
    },
    {
     "name": "stderr",
     "output_type": "stream",
     "text": [
      "DEBUG flwr 2023-08-31 22:16:58,726 | server.py:236 | fit_round 5 received 2 results and 0 failures\n",
      "DEBUG flwr 2023-08-31 22:16:58,749 | server.py:173 | evaluate_round 5: strategy sampled 2 clients (out of 2)\n"
     ]
    },
    {
     "name": "stdout",
     "output_type": "stream",
     "text": [
      "agrregate_fit results list length is  2\n",
      "Saving round 5 aggregated_parameters...\n"
     ]
    },
    {
     "name": "stderr",
     "output_type": "stream",
     "text": [
      "DEBUG flwr 2023-08-31 22:16:58,963 | server.py:187 | evaluate_round 5 received 2 results and 0 failures\n",
      "DEBUG flwr 2023-08-31 22:16:58,964 | server.py:222 | fit_round 6: strategy sampled 2 clients (out of 2)\n"
     ]
    },
    {
     "name": "stdout",
     "output_type": "stream",
     "text": [
      "agrregate_evaluate results list length is  2\n",
      "server round is  5\n",
      "loss is  0.16247044503688812\n"
     ]
    },
    {
     "name": "stderr",
     "output_type": "stream",
     "text": [
      "DEBUG flwr 2023-08-31 22:17:17,172 | server.py:236 | fit_round 6 received 2 results and 0 failures\n",
      "DEBUG flwr 2023-08-31 22:17:17,197 | server.py:173 | evaluate_round 6: strategy sampled 2 clients (out of 2)\n"
     ]
    },
    {
     "name": "stdout",
     "output_type": "stream",
     "text": [
      "agrregate_fit results list length is  2\n",
      "Saving round 6 aggregated_parameters...\n"
     ]
    },
    {
     "name": "stderr",
     "output_type": "stream",
     "text": [
      "DEBUG flwr 2023-08-31 22:17:17,376 | server.py:187 | evaluate_round 6 received 2 results and 0 failures\n",
      "DEBUG flwr 2023-08-31 22:17:17,377 | server.py:222 | fit_round 7: strategy sampled 2 clients (out of 2)\n"
     ]
    },
    {
     "name": "stdout",
     "output_type": "stream",
     "text": [
      "agrregate_evaluate results list length is  2\n",
      "server round is  6\n",
      "loss is  0.16115622222423553\n"
     ]
    },
    {
     "name": "stderr",
     "output_type": "stream",
     "text": [
      "DEBUG flwr 2023-08-31 22:17:34,886 | server.py:236 | fit_round 7 received 2 results and 0 failures\n",
      "DEBUG flwr 2023-08-31 22:17:34,901 | server.py:173 | evaluate_round 7: strategy sampled 2 clients (out of 2)\n",
      "DEBUG flwr 2023-08-31 22:17:35,086 | server.py:187 | evaluate_round 7 received 2 results and 0 failures\n"
     ]
    },
    {
     "name": "stdout",
     "output_type": "stream",
     "text": [
      "agrregate_fit results list length is  2\n",
      "Saving round 7 aggregated_parameters...\n"
     ]
    },
    {
     "name": "stderr",
     "output_type": "stream",
     "text": [
      "DEBUG flwr 2023-08-31 22:17:35,088 | server.py:222 | fit_round 8: strategy sampled 2 clients (out of 2)\n"
     ]
    },
    {
     "name": "stdout",
     "output_type": "stream",
     "text": [
      "agrregate_evaluate results list length is  2\n",
      "server round is  7\n",
      "loss is  0.16090771555900574\n"
     ]
    },
    {
     "name": "stderr",
     "output_type": "stream",
     "text": [
      "DEBUG flwr 2023-08-31 22:17:51,173 | server.py:236 | fit_round 8 received 2 results and 0 failures\n",
      "DEBUG flwr 2023-08-31 22:17:51,192 | server.py:173 | evaluate_round 8: strategy sampled 2 clients (out of 2)\n"
     ]
    },
    {
     "name": "stdout",
     "output_type": "stream",
     "text": [
      "agrregate_fit results list length is  2\n",
      "Saving round 8 aggregated_parameters...\n"
     ]
    },
    {
     "name": "stderr",
     "output_type": "stream",
     "text": [
      "DEBUG flwr 2023-08-31 22:17:51,412 | server.py:187 | evaluate_round 8 received 2 results and 0 failures\n",
      "DEBUG flwr 2023-08-31 22:17:51,414 | server.py:222 | fit_round 9: strategy sampled 2 clients (out of 2)\n"
     ]
    },
    {
     "name": "stdout",
     "output_type": "stream",
     "text": [
      "agrregate_evaluate results list length is  2\n",
      "server round is  8\n",
      "loss is  0.15916725993156433\n"
     ]
    },
    {
     "name": "stderr",
     "output_type": "stream",
     "text": [
      "DEBUG flwr 2023-08-31 22:18:07,374 | server.py:236 | fit_round 9 received 2 results and 0 failures\n",
      "DEBUG flwr 2023-08-31 22:18:07,390 | server.py:173 | evaluate_round 9: strategy sampled 2 clients (out of 2)\n"
     ]
    },
    {
     "name": "stdout",
     "output_type": "stream",
     "text": [
      "agrregate_fit results list length is  2\n",
      "Saving round 9 aggregated_parameters...\n"
     ]
    },
    {
     "name": "stderr",
     "output_type": "stream",
     "text": [
      "DEBUG flwr 2023-08-31 22:18:07,603 | server.py:187 | evaluate_round 9 received 2 results and 0 failures\n",
      "DEBUG flwr 2023-08-31 22:18:07,606 | server.py:222 | fit_round 10: strategy sampled 2 clients (out of 2)\n"
     ]
    },
    {
     "name": "stdout",
     "output_type": "stream",
     "text": [
      "agrregate_evaluate results list length is  2\n",
      "server round is  9\n",
      "loss is  0.1540849357843399\n"
     ]
    },
    {
     "name": "stderr",
     "output_type": "stream",
     "text": [
      "DEBUG flwr 2023-08-31 22:18:20,700 | server.py:236 | fit_round 10 received 2 results and 0 failures\n",
      "DEBUG flwr 2023-08-31 22:18:20,718 | server.py:173 | evaluate_round 10: strategy sampled 2 clients (out of 2)\n"
     ]
    },
    {
     "name": "stdout",
     "output_type": "stream",
     "text": [
      "agrregate_fit results list length is  2\n",
      "Saving round 10 aggregated_parameters...\n"
     ]
    },
    {
     "name": "stderr",
     "output_type": "stream",
     "text": [
      "DEBUG flwr 2023-08-31 22:18:20,993 | server.py:187 | evaluate_round 10 received 2 results and 0 failures\n",
      "DEBUG flwr 2023-08-31 22:18:20,995 | server.py:222 | fit_round 11: strategy sampled 2 clients (out of 2)\n"
     ]
    },
    {
     "name": "stdout",
     "output_type": "stream",
     "text": [
      "agrregate_evaluate results list length is  2\n",
      "server round is  10\n",
      "loss is  0.15354406833648682\n"
     ]
    },
    {
     "name": "stderr",
     "output_type": "stream",
     "text": [
      "DEBUG flwr 2023-08-31 22:18:35,807 | server.py:236 | fit_round 11 received 2 results and 0 failures\n",
      "DEBUG flwr 2023-08-31 22:18:35,821 | server.py:173 | evaluate_round 11: strategy sampled 2 clients (out of 2)\n",
      "DEBUG flwr 2023-08-31 22:18:35,964 | server.py:187 | evaluate_round 11 received 2 results and 0 failures\n",
      "DEBUG flwr 2023-08-31 22:18:35,965 | server.py:222 | fit_round 12: strategy sampled 2 clients (out of 2)\n"
     ]
    },
    {
     "name": "stdout",
     "output_type": "stream",
     "text": [
      "agrregate_fit results list length is  2\n",
      "Saving round 11 aggregated_parameters...\n",
      "agrregate_evaluate results list length is  2\n",
      "server round is  11\n",
      "loss is  0.15608319640159607\n"
     ]
    },
    {
     "name": "stderr",
     "output_type": "stream",
     "text": [
      "DEBUG flwr 2023-08-31 22:18:51,004 | server.py:236 | fit_round 12 received 2 results and 0 failures\n",
      "DEBUG flwr 2023-08-31 22:18:51,017 | server.py:173 | evaluate_round 12: strategy sampled 2 clients (out of 2)\n",
      "DEBUG flwr 2023-08-31 22:18:51,172 | server.py:187 | evaluate_round 12 received 2 results and 0 failures\n",
      "DEBUG flwr 2023-08-31 22:18:51,173 | server.py:222 | fit_round 13: strategy sampled 2 clients (out of 2)\n"
     ]
    },
    {
     "name": "stdout",
     "output_type": "stream",
     "text": [
      "agrregate_fit results list length is  2\n",
      "Saving round 12 aggregated_parameters...\n",
      "agrregate_evaluate results list length is  2\n",
      "server round is  12\n",
      "loss is  0.15983593463897705\n"
     ]
    },
    {
     "name": "stderr",
     "output_type": "stream",
     "text": [
      "DEBUG flwr 2023-08-31 22:19:05,147 | server.py:236 | fit_round 13 received 2 results and 0 failures\n",
      "DEBUG flwr 2023-08-31 22:19:05,164 | server.py:173 | evaluate_round 13: strategy sampled 2 clients (out of 2)\n",
      "DEBUG flwr 2023-08-31 22:19:05,341 | server.py:187 | evaluate_round 13 received 2 results and 0 failures\n"
     ]
    },
    {
     "name": "stdout",
     "output_type": "stream",
     "text": [
      "agrregate_fit results list length is  2\n",
      "Saving round 13 aggregated_parameters...\n"
     ]
    },
    {
     "name": "stderr",
     "output_type": "stream",
     "text": [
      "DEBUG flwr 2023-08-31 22:19:05,343 | server.py:222 | fit_round 14: strategy sampled 2 clients (out of 2)\n"
     ]
    },
    {
     "name": "stdout",
     "output_type": "stream",
     "text": [
      "agrregate_evaluate results list length is  2\n",
      "server round is  13\n",
      "loss is  0.1546599566936493\n"
     ]
    },
    {
     "name": "stderr",
     "output_type": "stream",
     "text": [
      "DEBUG flwr 2023-08-31 22:19:27,777 | server.py:236 | fit_round 14 received 2 results and 0 failures\n",
      "DEBUG flwr 2023-08-31 22:19:27,797 | server.py:173 | evaluate_round 14: strategy sampled 2 clients (out of 2)\n"
     ]
    },
    {
     "name": "stdout",
     "output_type": "stream",
     "text": [
      "agrregate_fit results list length is  2\n",
      "Saving round 14 aggregated_parameters...\n"
     ]
    },
    {
     "name": "stderr",
     "output_type": "stream",
     "text": [
      "DEBUG flwr 2023-08-31 22:19:27,992 | server.py:187 | evaluate_round 14 received 2 results and 0 failures\n",
      "DEBUG flwr 2023-08-31 22:19:27,996 | server.py:222 | fit_round 15: strategy sampled 2 clients (out of 2)\n"
     ]
    },
    {
     "name": "stdout",
     "output_type": "stream",
     "text": [
      "agrregate_evaluate results list length is  2\n",
      "server round is  14\n",
      "loss is  0.15447261929512024\n"
     ]
    },
    {
     "name": "stderr",
     "output_type": "stream",
     "text": [
      "DEBUG flwr 2023-08-31 22:19:47,467 | server.py:236 | fit_round 15 received 2 results and 0 failures\n",
      "DEBUG flwr 2023-08-31 22:19:47,481 | server.py:173 | evaluate_round 15: strategy sampled 2 clients (out of 2)\n",
      "DEBUG flwr 2023-08-31 22:19:47,628 | server.py:187 | evaluate_round 15 received 2 results and 0 failures\n",
      "DEBUG flwr 2023-08-31 22:19:47,629 | server.py:222 | fit_round 16: strategy sampled 2 clients (out of 2)\n"
     ]
    },
    {
     "name": "stdout",
     "output_type": "stream",
     "text": [
      "agrregate_fit results list length is  2\n",
      "Saving round 15 aggregated_parameters...\n",
      "agrregate_evaluate results list length is  2\n",
      "server round is  15\n",
      "loss is  0.1539773792028427\n"
     ]
    },
    {
     "name": "stderr",
     "output_type": "stream",
     "text": [
      "DEBUG flwr 2023-08-31 22:20:01,520 | server.py:236 | fit_round 16 received 2 results and 0 failures\n",
      "DEBUG flwr 2023-08-31 22:20:01,536 | server.py:173 | evaluate_round 16: strategy sampled 2 clients (out of 2)\n"
     ]
    },
    {
     "name": "stdout",
     "output_type": "stream",
     "text": [
      "agrregate_fit results list length is  2\n",
      "Saving round 16 aggregated_parameters...\n"
     ]
    },
    {
     "name": "stderr",
     "output_type": "stream",
     "text": [
      "DEBUG flwr 2023-08-31 22:20:01,743 | server.py:187 | evaluate_round 16 received 2 results and 0 failures\n",
      "DEBUG flwr 2023-08-31 22:20:01,744 | server.py:222 | fit_round 17: strategy sampled 2 clients (out of 2)\n"
     ]
    },
    {
     "name": "stdout",
     "output_type": "stream",
     "text": [
      "agrregate_evaluate results list length is  2\n",
      "server round is  16\n",
      "loss is  0.15554751455783844\n"
     ]
    },
    {
     "name": "stderr",
     "output_type": "stream",
     "text": [
      "DEBUG flwr 2023-08-31 22:20:20,851 | server.py:236 | fit_round 17 received 2 results and 0 failures\n",
      "DEBUG flwr 2023-08-31 22:20:20,866 | server.py:173 | evaluate_round 17: strategy sampled 2 clients (out of 2)\n",
      "DEBUG flwr 2023-08-31 22:20:21,026 | server.py:187 | evaluate_round 17 received 2 results and 0 failures\n",
      "DEBUG flwr 2023-08-31 22:20:21,026 | server.py:222 | fit_round 18: strategy sampled 2 clients (out of 2)\n"
     ]
    },
    {
     "name": "stdout",
     "output_type": "stream",
     "text": [
      "agrregate_fit results list length is  2\n",
      "Saving round 17 aggregated_parameters...\n",
      "agrregate_evaluate results list length is  2\n",
      "server round is  17\n",
      "loss is  0.1544819325208664\n"
     ]
    },
    {
     "name": "stderr",
     "output_type": "stream",
     "text": [
      "DEBUG flwr 2023-08-31 22:20:34,013 | server.py:236 | fit_round 18 received 2 results and 0 failures\n",
      "DEBUG flwr 2023-08-31 22:20:34,027 | server.py:173 | evaluate_round 18: strategy sampled 2 clients (out of 2)\n"
     ]
    },
    {
     "name": "stdout",
     "output_type": "stream",
     "text": [
      "agrregate_fit results list length is  2\n",
      "Saving round 18 aggregated_parameters...\n"
     ]
    },
    {
     "name": "stderr",
     "output_type": "stream",
     "text": [
      "DEBUG flwr 2023-08-31 22:20:34,223 | server.py:187 | evaluate_round 18 received 2 results and 0 failures\n",
      "DEBUG flwr 2023-08-31 22:20:34,224 | server.py:222 | fit_round 19: strategy sampled 2 clients (out of 2)\n"
     ]
    },
    {
     "name": "stdout",
     "output_type": "stream",
     "text": [
      "agrregate_evaluate results list length is  2\n",
      "server round is  18\n",
      "loss is  0.15586881339550018\n"
     ]
    },
    {
     "name": "stderr",
     "output_type": "stream",
     "text": [
      "DEBUG flwr 2023-08-31 22:20:48,310 | server.py:236 | fit_round 19 received 2 results and 0 failures\n",
      "DEBUG flwr 2023-08-31 22:20:48,337 | server.py:173 | evaluate_round 19: strategy sampled 2 clients (out of 2)\n"
     ]
    },
    {
     "name": "stdout",
     "output_type": "stream",
     "text": [
      "agrregate_fit results list length is  2\n",
      "Saving round 19 aggregated_parameters...\n"
     ]
    },
    {
     "name": "stderr",
     "output_type": "stream",
     "text": [
      "DEBUG flwr 2023-08-31 22:20:48,539 | server.py:187 | evaluate_round 19 received 2 results and 0 failures\n",
      "DEBUG flwr 2023-08-31 22:20:48,541 | server.py:222 | fit_round 20: strategy sampled 2 clients (out of 2)\n"
     ]
    },
    {
     "name": "stdout",
     "output_type": "stream",
     "text": [
      "agrregate_evaluate results list length is  2\n",
      "server round is  19\n",
      "loss is  0.15286920964717865\n"
     ]
    },
    {
     "name": "stderr",
     "output_type": "stream",
     "text": [
      "DEBUG flwr 2023-08-31 22:21:04,771 | server.py:236 | fit_round 20 received 2 results and 0 failures\n",
      "DEBUG flwr 2023-08-31 22:21:04,798 | server.py:173 | evaluate_round 20: strategy sampled 2 clients (out of 2)\n"
     ]
    },
    {
     "name": "stdout",
     "output_type": "stream",
     "text": [
      "agrregate_fit results list length is  2\n",
      "Saving round 20 aggregated_parameters...\n"
     ]
    },
    {
     "name": "stderr",
     "output_type": "stream",
     "text": [
      "DEBUG flwr 2023-08-31 22:21:05,125 | server.py:187 | evaluate_round 20 received 2 results and 0 failures\n",
      "DEBUG flwr 2023-08-31 22:21:05,127 | server.py:222 | fit_round 21: strategy sampled 2 clients (out of 2)\n"
     ]
    },
    {
     "name": "stdout",
     "output_type": "stream",
     "text": [
      "agrregate_evaluate results list length is  2\n",
      "server round is  20\n",
      "loss is  0.15345190465450287\n"
     ]
    },
    {
     "name": "stderr",
     "output_type": "stream",
     "text": [
      "DEBUG flwr 2023-08-31 22:21:22,011 | server.py:236 | fit_round 21 received 2 results and 0 failures\n",
      "DEBUG flwr 2023-08-31 22:21:22,033 | server.py:173 | evaluate_round 21: strategy sampled 2 clients (out of 2)\n"
     ]
    },
    {
     "name": "stdout",
     "output_type": "stream",
     "text": [
      "agrregate_fit results list length is  2\n",
      "Saving round 21 aggregated_parameters...\n"
     ]
    },
    {
     "name": "stderr",
     "output_type": "stream",
     "text": [
      "DEBUG flwr 2023-08-31 22:21:22,240 | server.py:187 | evaluate_round 21 received 2 results and 0 failures\n",
      "DEBUG flwr 2023-08-31 22:21:22,243 | server.py:222 | fit_round 22: strategy sampled 2 clients (out of 2)\n"
     ]
    },
    {
     "name": "stdout",
     "output_type": "stream",
     "text": [
      "agrregate_evaluate results list length is  2\n",
      "server round is  21\n",
      "loss is  0.15510699152946472\n"
     ]
    },
    {
     "name": "stderr",
     "output_type": "stream",
     "text": [
      "DEBUG flwr 2023-08-31 22:21:40,613 | server.py:236 | fit_round 22 received 2 results and 0 failures\n",
      "DEBUG flwr 2023-08-31 22:21:40,632 | server.py:173 | evaluate_round 22: strategy sampled 2 clients (out of 2)\n",
      "DEBUG flwr 2023-08-31 22:21:40,804 | server.py:187 | evaluate_round 22 received 2 results and 0 failures\n"
     ]
    },
    {
     "name": "stdout",
     "output_type": "stream",
     "text": [
      "agrregate_fit results list length is  2\n",
      "Saving round 22 aggregated_parameters...\n"
     ]
    },
    {
     "name": "stderr",
     "output_type": "stream",
     "text": [
      "DEBUG flwr 2023-08-31 22:21:40,807 | server.py:222 | fit_round 23: strategy sampled 2 clients (out of 2)\n"
     ]
    },
    {
     "name": "stdout",
     "output_type": "stream",
     "text": [
      "agrregate_evaluate results list length is  2\n",
      "server round is  22\n",
      "loss is  0.15209248661994934\n"
     ]
    },
    {
     "name": "stderr",
     "output_type": "stream",
     "text": [
      "DEBUG flwr 2023-08-31 22:21:58,302 | server.py:236 | fit_round 23 received 2 results and 0 failures\n",
      "DEBUG flwr 2023-08-31 22:21:58,327 | server.py:173 | evaluate_round 23: strategy sampled 2 clients (out of 2)\n"
     ]
    },
    {
     "name": "stdout",
     "output_type": "stream",
     "text": [
      "agrregate_fit results list length is  2\n",
      "Saving round 23 aggregated_parameters...\n"
     ]
    },
    {
     "name": "stderr",
     "output_type": "stream",
     "text": [
      "DEBUG flwr 2023-08-31 22:21:58,561 | server.py:187 | evaluate_round 23 received 2 results and 0 failures\n",
      "DEBUG flwr 2023-08-31 22:21:58,563 | server.py:222 | fit_round 24: strategy sampled 2 clients (out of 2)\n"
     ]
    },
    {
     "name": "stdout",
     "output_type": "stream",
     "text": [
      "agrregate_evaluate results list length is  2\n",
      "server round is  23\n",
      "loss is  0.15184147655963898\n"
     ]
    },
    {
     "name": "stderr",
     "output_type": "stream",
     "text": [
      "DEBUG flwr 2023-08-31 22:22:18,084 | server.py:236 | fit_round 24 received 2 results and 0 failures\n",
      "DEBUG flwr 2023-08-31 22:22:18,107 | server.py:173 | evaluate_round 24: strategy sampled 2 clients (out of 2)\n",
      "DEBUG flwr 2023-08-31 22:22:18,262 | server.py:187 | evaluate_round 24 received 2 results and 0 failures\n",
      "DEBUG flwr 2023-08-31 22:22:18,263 | server.py:222 | fit_round 25: strategy sampled 2 clients (out of 2)\n"
     ]
    },
    {
     "name": "stdout",
     "output_type": "stream",
     "text": [
      "agrregate_fit results list length is  2\n",
      "Saving round 24 aggregated_parameters...\n",
      "agrregate_evaluate results list length is  2\n",
      "server round is  24\n",
      "loss is  0.15157103538513184\n"
     ]
    },
    {
     "name": "stderr",
     "output_type": "stream",
     "text": [
      "DEBUG flwr 2023-08-31 22:22:37,696 | server.py:236 | fit_round 25 received 2 results and 0 failures\n",
      "DEBUG flwr 2023-08-31 22:22:37,711 | server.py:173 | evaluate_round 25: strategy sampled 2 clients (out of 2)\n",
      "DEBUG flwr 2023-08-31 22:22:37,879 | server.py:187 | evaluate_round 25 received 2 results and 0 failures\n"
     ]
    },
    {
     "name": "stdout",
     "output_type": "stream",
     "text": [
      "agrregate_fit results list length is  2\n",
      "Saving round 25 aggregated_parameters...\n"
     ]
    },
    {
     "name": "stderr",
     "output_type": "stream",
     "text": [
      "DEBUG flwr 2023-08-31 22:22:37,881 | server.py:222 | fit_round 26: strategy sampled 2 clients (out of 2)\n"
     ]
    },
    {
     "name": "stdout",
     "output_type": "stream",
     "text": [
      "agrregate_evaluate results list length is  2\n",
      "server round is  25\n",
      "loss is  0.1547592729330063\n"
     ]
    },
    {
     "name": "stderr",
     "output_type": "stream",
     "text": [
      "DEBUG flwr 2023-08-31 22:22:51,488 | server.py:236 | fit_round 26 received 2 results and 0 failures\n",
      "DEBUG flwr 2023-08-31 22:22:51,512 | server.py:173 | evaluate_round 26: strategy sampled 2 clients (out of 2)\n",
      "DEBUG flwr 2023-08-31 22:22:51,680 | server.py:187 | evaluate_round 26 received 2 results and 0 failures\n"
     ]
    },
    {
     "name": "stdout",
     "output_type": "stream",
     "text": [
      "agrregate_fit results list length is  2\n",
      "Saving round 26 aggregated_parameters...\n"
     ]
    },
    {
     "name": "stderr",
     "output_type": "stream",
     "text": [
      "DEBUG flwr 2023-08-31 22:22:51,681 | server.py:222 | fit_round 27: strategy sampled 2 clients (out of 2)\n"
     ]
    },
    {
     "name": "stdout",
     "output_type": "stream",
     "text": [
      "agrregate_evaluate results list length is  2\n",
      "server round is  26\n",
      "loss is  0.15431201457977295\n"
     ]
    },
    {
     "name": "stderr",
     "output_type": "stream",
     "text": [
      "DEBUG flwr 2023-08-31 22:23:05,679 | server.py:236 | fit_round 27 received 2 results and 0 failures\n",
      "DEBUG flwr 2023-08-31 22:23:05,691 | server.py:173 | evaluate_round 27: strategy sampled 2 clients (out of 2)\n",
      "DEBUG flwr 2023-08-31 22:23:05,853 | server.py:187 | evaluate_round 27 received 2 results and 0 failures\n",
      "DEBUG flwr 2023-08-31 22:23:05,855 | server.py:222 | fit_round 28: strategy sampled 2 clients (out of 2)\n"
     ]
    },
    {
     "name": "stdout",
     "output_type": "stream",
     "text": [
      "agrregate_fit results list length is  2\n",
      "Saving round 27 aggregated_parameters...\n",
      "agrregate_evaluate results list length is  2\n",
      "server round is  27\n",
      "loss is  0.15063786506652832\n"
     ]
    },
    {
     "name": "stderr",
     "output_type": "stream",
     "text": [
      "DEBUG flwr 2023-08-31 22:23:23,044 | server.py:236 | fit_round 28 received 2 results and 0 failures\n",
      "DEBUG flwr 2023-08-31 22:23:23,062 | server.py:173 | evaluate_round 28: strategy sampled 2 clients (out of 2)\n",
      "DEBUG flwr 2023-08-31 22:23:23,242 | server.py:187 | evaluate_round 28 received 2 results and 0 failures\n"
     ]
    },
    {
     "name": "stdout",
     "output_type": "stream",
     "text": [
      "agrregate_fit results list length is  2\n",
      "Saving round 28 aggregated_parameters...\n"
     ]
    },
    {
     "name": "stderr",
     "output_type": "stream",
     "text": [
      "DEBUG flwr 2023-08-31 22:23:23,244 | server.py:222 | fit_round 29: strategy sampled 2 clients (out of 2)\n"
     ]
    },
    {
     "name": "stdout",
     "output_type": "stream",
     "text": [
      "agrregate_evaluate results list length is  2\n",
      "server round is  28\n",
      "loss is  0.15074554085731506\n"
     ]
    },
    {
     "name": "stderr",
     "output_type": "stream",
     "text": [
      "DEBUG flwr 2023-08-31 22:23:40,181 | server.py:236 | fit_round 29 received 2 results and 0 failures\n",
      "DEBUG flwr 2023-08-31 22:23:40,196 | server.py:173 | evaluate_round 29: strategy sampled 2 clients (out of 2)\n",
      "DEBUG flwr 2023-08-31 22:23:40,370 | server.py:187 | evaluate_round 29 received 2 results and 0 failures\n"
     ]
    },
    {
     "name": "stdout",
     "output_type": "stream",
     "text": [
      "agrregate_fit results list length is  2\n",
      "Saving round 29 aggregated_parameters...\n"
     ]
    },
    {
     "name": "stderr",
     "output_type": "stream",
     "text": [
      "DEBUG flwr 2023-08-31 22:23:40,372 | server.py:222 | fit_round 30: strategy sampled 2 clients (out of 2)\n"
     ]
    },
    {
     "name": "stdout",
     "output_type": "stream",
     "text": [
      "agrregate_evaluate results list length is  2\n",
      "server round is  29\n",
      "loss is  0.15093988180160522\n"
     ]
    },
    {
     "name": "stderr",
     "output_type": "stream",
     "text": [
      "DEBUG flwr 2023-08-31 22:23:54,088 | server.py:236 | fit_round 30 received 2 results and 0 failures\n",
      "DEBUG flwr 2023-08-31 22:23:54,101 | server.py:173 | evaluate_round 30: strategy sampled 2 clients (out of 2)\n",
      "DEBUG flwr 2023-08-31 22:23:54,263 | server.py:187 | evaluate_round 30 received 2 results and 0 failures\n",
      "INFO flwr 2023-08-31 22:23:54,265 | server.py:153 | FL finished in 522.6665451000154\n",
      "INFO flwr 2023-08-31 22:23:54,266 | app.py:225 | app_fit: losses_distributed [(1, 0.23020093142986298), (2, 0.2097826451063156), (3, 0.18446379899978638), (4, 0.16906185448169708), (5, 0.16247044503688812), (6, 0.16115622222423553), (7, 0.16090771555900574), (8, 0.15916725993156433), (9, 0.1540849357843399), (10, 0.15354406833648682), (11, 0.15608319640159607), (12, 0.15983593463897705), (13, 0.1546599566936493), (14, 0.15447261929512024), (15, 0.1539773792028427), (16, 0.15554751455783844), (17, 0.1544819325208664), (18, 0.15586881339550018), (19, 0.15286920964717865), (20, 0.15345190465450287), (21, 0.15510699152946472), (22, 0.15209248661994934), (23, 0.15184147655963898), (24, 0.15157103538513184), (25, 0.1547592729330063), (26, 0.15431201457977295), (27, 0.15063786506652832), (28, 0.15074554085731506), (29, 0.15093988180160522), (30, 0.1539747416973114)]\n",
      "INFO flwr 2023-08-31 22:23:54,267 | app.py:226 | app_fit: metrics_distributed_fit {}\n",
      "INFO flwr 2023-08-31 22:23:54,267 | app.py:227 | app_fit: metrics_distributed {'mse': [(1, 0.46040186285972595), (2, 0.4195652902126312), (3, 0.36892759799957275), (4, 0.33812370896339417), (5, 0.32494089007377625), (6, 0.32231244444847107), (7, 0.3218154311180115), (8, 0.31833451986312866), (9, 0.3081698715686798), (10, 0.30708813667297363), (11, 0.31216639280319214), (12, 0.3196718692779541), (13, 0.3093199133872986), (14, 0.3089452385902405), (15, 0.3079547584056854), (16, 0.3110950291156769), (17, 0.3089638650417328), (18, 0.31173762679100037), (19, 0.3057384192943573), (20, 0.30690380930900574), (21, 0.31021398305892944), (22, 0.3041849732398987), (23, 0.30368295311927795), (24, 0.30314207077026367), (25, 0.3095185458660126), (26, 0.3086240291595459), (27, 0.30127573013305664), (28, 0.3014910817146301), (29, 0.30187976360321045), (30, 0.3079494833946228)]}\n",
      "INFO flwr 2023-08-31 22:23:54,268 | app.py:228 | app_fit: losses_centralized []\n",
      "INFO flwr 2023-08-31 22:23:54,270 | app.py:229 | app_fit: metrics_centralized {}\n"
     ]
    },
    {
     "name": "stdout",
     "output_type": "stream",
     "text": [
      "agrregate_fit results list length is  2\n",
      "Saving round 30 aggregated_parameters...\n",
      "agrregate_evaluate results list length is  2\n",
      "server round is  30\n",
      "loss is  0.1539747416973114\n",
      "History (loss, distributed):\n",
      "\tround 1: 0.23020093142986298\n",
      "\tround 2: 0.2097826451063156\n",
      "\tround 3: 0.18446379899978638\n",
      "\tround 4: 0.16906185448169708\n",
      "\tround 5: 0.16247044503688812\n",
      "\tround 6: 0.16115622222423553\n",
      "\tround 7: 0.16090771555900574\n",
      "\tround 8: 0.15916725993156433\n",
      "\tround 9: 0.1540849357843399\n",
      "\tround 10: 0.15354406833648682\n",
      "\tround 11: 0.15608319640159607\n",
      "\tround 12: 0.15983593463897705\n",
      "\tround 13: 0.1546599566936493\n",
      "\tround 14: 0.15447261929512024\n",
      "\tround 15: 0.1539773792028427\n",
      "\tround 16: 0.15554751455783844\n",
      "\tround 17: 0.1544819325208664\n",
      "\tround 18: 0.15586881339550018\n",
      "\tround 19: 0.15286920964717865\n",
      "\tround 20: 0.15345190465450287\n",
      "\tround 21: 0.15510699152946472\n",
      "\tround 22: 0.15209248661994934\n",
      "\tround 23: 0.15184147655963898\n",
      "\tround 24: 0.15157103538513184\n",
      "\tround 25: 0.1547592729330063\n",
      "\tround 26: 0.15431201457977295\n",
      "\tround 27: 0.15063786506652832\n",
      "\tround 28: 0.15074554085731506\n",
      "\tround 29: 0.15093988180160522\n",
      "\tround 30: 0.1539747416973114\n",
      "History (metrics, distributed, evaluate):\n",
      "{'mse': [(1, 0.46040186285972595), (2, 0.4195652902126312), (3, 0.36892759799957275), (4, 0.33812370896339417), (5, 0.32494089007377625), (6, 0.32231244444847107), (7, 0.3218154311180115), (8, 0.31833451986312866), (9, 0.3081698715686798), (10, 0.30708813667297363), (11, 0.31216639280319214), (12, 0.3196718692779541), (13, 0.3093199133872986), (14, 0.3089452385902405), (15, 0.3079547584056854), (16, 0.3110950291156769), (17, 0.3089638650417328), (18, 0.31173762679100037), (19, 0.3057384192943573), (20, 0.30690380930900574), (21, 0.31021398305892944), (22, 0.3041849732398987), (23, 0.30368295311927795), (24, 0.30314207077026367), (25, 0.3095185458660126), (26, 0.3086240291595459), (27, 0.30127573013305664), (28, 0.3014910817146301), (29, 0.30187976360321045), (30, 0.3079494833946228)]}\n",
      "[(1, 0.23020093142986298), (2, 0.2097826451063156), (3, 0.18446379899978638), (4, 0.16906185448169708), (5, 0.16247044503688812), (6, 0.16115622222423553), (7, 0.16090771555900574), (8, 0.15916725993156433), (9, 0.1540849357843399), (10, 0.15354406833648682), (11, 0.15608319640159607), (12, 0.15983593463897705), (13, 0.1546599566936493), (14, 0.15447261929512024), (15, 0.1539773792028427), (16, 0.15554751455783844), (17, 0.1544819325208664), (18, 0.15586881339550018), (19, 0.15286920964717865), (20, 0.15345190465450287), (21, 0.15510699152946472), (22, 0.15209248661994934), (23, 0.15184147655963898), (24, 0.15157103538513184), (25, 0.1547592729330063), (26, 0.15431201457977295), (27, 0.15063786506652832), (28, 0.15074554085731506), (29, 0.15093988180160522), (30, 0.1539747416973114)]\n",
      "0.8303042665245671\n",
      "Fold 2:\n",
      "splitting [0.6, 0.4]\n",
      "time 0:09:35.670949\n",
      "mse [0.15397474]\n",
      "auc [0.8303042665245671]\n"
     ]
    }
   ],
   "source": [
    "\n",
    "splitting = [0.6, 0.4]\n",
    "do_fl(splitting, num_rounds)"
   ],
   "metadata": {
    "collapsed": false,
    "ExecuteTime": {
     "end_time": "2023-08-31T21:23:54.465117300Z",
     "start_time": "2023-08-31T21:14:18.750283800Z"
    }
   }
  },
  {
   "cell_type": "code",
   "execution_count": 10,
   "outputs": [
    {
     "name": "stderr",
     "output_type": "stream",
     "text": [
      "C:\\Users\\Shuyao\\AppData\\Local\\Temp\\ipykernel_23376\\475339861.py:29: UserWarning: To copy construct from a tensor, it is recommended to use sourceTensor.clone().detach() or sourceTensor.clone().detach().requires_grad_(True), rather than torch.tensor(sourceTensor).\n",
      "  X_train = torch.tensor(X_train)\n",
      "C:\\Users\\Shuyao\\AppData\\Local\\Temp\\ipykernel_23376\\475339861.py:30: UserWarning: To copy construct from a tensor, it is recommended to use sourceTensor.clone().detach() or sourceTensor.clone().detach().requires_grad_(True), rather than torch.tensor(sourceTensor).\n",
      "  X_test = torch.tensor(X_test)\n",
      "C:\\Users\\Shuyao\\AppData\\Local\\Temp\\ipykernel_23376\\475339861.py:31: UserWarning: To copy construct from a tensor, it is recommended to use sourceTensor.clone().detach() or sourceTensor.clone().detach().requires_grad_(True), rather than torch.tensor(sourceTensor).\n",
      "  y_train = torch.reshape(torch.tensor(y_train), (-1, 1))\n",
      "C:\\Users\\Shuyao\\AppData\\Local\\Temp\\ipykernel_23376\\475339861.py:32: UserWarning: To copy construct from a tensor, it is recommended to use sourceTensor.clone().detach() or sourceTensor.clone().detach().requires_grad_(True), rather than torch.tensor(sourceTensor).\n",
      "  y_test = torch.reshape(torch.tensor(y_test), (-1, 1))\n",
      "INFO flwr 2023-08-31 22:30:16,049 | app.py:145 | Starting Flower simulation, config: ServerConfig(num_rounds=30, round_timeout=None)\n"
     ]
    },
    {
     "name": "stdout",
     "output_type": "stream",
     "text": [
      "Fold 1:\n",
      "x_test: cpu\n",
      "y_test: cpu\n",
      "30\n",
      "Client 0 trainset shape torch.Size([179214, 10])\n",
      "Client 1 trainset shape torch.Size([44746, 10])\n",
      "FL started training on cpu\n",
      "Number of available GPUs: 0\n"
     ]
    },
    {
     "name": "stderr",
     "output_type": "stream",
     "text": [
      "2023-08-31 22:30:29,791\tINFO worker.py:1627 -- Started a local Ray instance. View the dashboard at \u001B[1m\u001B[32m127.0.0.1:8270 \u001B[39m\u001B[22m\n",
      "INFO flwr 2023-08-31 22:30:40,233 | app.py:179 | Flower VCE: Ray initialized with resources: {'node:127.0.0.1': 1.0, 'memory': 1167701607.0, 'object_store_memory': 583850803.0, 'GPU': 1.0, 'CPU': 8.0}\n",
      "INFO flwr 2023-08-31 22:30:40,236 | server.py:89 | Initializing global parameters\n",
      "INFO flwr 2023-08-31 22:30:40,237 | server.py:276 | Requesting initial parameters from one random client\n",
      "INFO flwr 2023-08-31 22:30:48,916 | server.py:280 | Received initial parameters from one random client\n",
      "INFO flwr 2023-08-31 22:30:48,918 | server.py:91 | Evaluating initial parameters\n",
      "INFO flwr 2023-08-31 22:30:48,919 | server.py:104 | FL starting\n",
      "DEBUG flwr 2023-08-31 22:30:48,920 | server.py:222 | fit_round 1: strategy sampled 2 clients (out of 2)\n",
      "DEBUG flwr 2023-08-31 22:31:08,890 | server.py:236 | fit_round 1 received 2 results and 0 failures\n",
      "WARNING flwr 2023-08-31 22:31:08,897 | fedavg.py:242 | No fit_metrics_aggregation_fn provided\n",
      "DEBUG flwr 2023-08-31 22:31:08,904 | server.py:173 | evaluate_round 1: strategy sampled 2 clients (out of 2)\n",
      "DEBUG flwr 2023-08-31 22:31:09,042 | server.py:187 | evaluate_round 1 received 2 results and 0 failures\n",
      "DEBUG flwr 2023-08-31 22:31:09,044 | server.py:222 | fit_round 2: strategy sampled 2 clients (out of 2)\n"
     ]
    },
    {
     "name": "stdout",
     "output_type": "stream",
     "text": [
      "agrregate_fit results list length is  2\n",
      "Saving round 1 aggregated_parameters...\n",
      "agrregate_evaluate results list length is  2\n",
      "server round is  1\n",
      "loss is  0.2322271764278412\n"
     ]
    },
    {
     "name": "stderr",
     "output_type": "stream",
     "text": [
      "DEBUG flwr 2023-08-31 22:31:23,924 | server.py:236 | fit_round 2 received 2 results and 0 failures\n",
      "DEBUG flwr 2023-08-31 22:31:23,938 | server.py:173 | evaluate_round 2: strategy sampled 2 clients (out of 2)\n",
      "DEBUG flwr 2023-08-31 22:31:24,078 | server.py:187 | evaluate_round 2 received 2 results and 0 failures\n",
      "DEBUG flwr 2023-08-31 22:31:24,079 | server.py:222 | fit_round 3: strategy sampled 2 clients (out of 2)\n"
     ]
    },
    {
     "name": "stdout",
     "output_type": "stream",
     "text": [
      "agrregate_fit results list length is  2\n",
      "Saving round 2 aggregated_parameters...\n",
      "agrregate_evaluate results list length is  2\n",
      "server round is  2\n",
      "loss is  0.20108048617839813\n"
     ]
    },
    {
     "name": "stderr",
     "output_type": "stream",
     "text": [
      "DEBUG flwr 2023-08-31 22:31:38,014 | server.py:236 | fit_round 3 received 2 results and 0 failures\n",
      "DEBUG flwr 2023-08-31 22:31:38,028 | server.py:173 | evaluate_round 3: strategy sampled 2 clients (out of 2)\n",
      "DEBUG flwr 2023-08-31 22:31:38,169 | server.py:187 | evaluate_round 3 received 2 results and 0 failures\n",
      "DEBUG flwr 2023-08-31 22:31:38,170 | server.py:222 | fit_round 4: strategy sampled 2 clients (out of 2)\n"
     ]
    },
    {
     "name": "stdout",
     "output_type": "stream",
     "text": [
      "agrregate_fit results list length is  2\n",
      "Saving round 3 aggregated_parameters...\n",
      "agrregate_evaluate results list length is  2\n",
      "server round is  3\n",
      "loss is  0.1751890927553177\n"
     ]
    },
    {
     "name": "stderr",
     "output_type": "stream",
     "text": [
      "DEBUG flwr 2023-08-31 22:31:56,045 | server.py:236 | fit_round 4 received 2 results and 0 failures\n",
      "DEBUG flwr 2023-08-31 22:31:56,056 | server.py:173 | evaluate_round 4: strategy sampled 2 clients (out of 2)\n",
      "DEBUG flwr 2023-08-31 22:31:56,187 | server.py:187 | evaluate_round 4 received 2 results and 0 failures\n",
      "DEBUG flwr 2023-08-31 22:31:56,188 | server.py:222 | fit_round 5: strategy sampled 2 clients (out of 2)\n"
     ]
    },
    {
     "name": "stdout",
     "output_type": "stream",
     "text": [
      "agrregate_fit results list length is  2\n",
      "Saving round 4 aggregated_parameters...\n",
      "agrregate_evaluate results list length is  2\n",
      "server round is  4\n",
      "loss is  0.15939538180828094\n"
     ]
    },
    {
     "name": "stderr",
     "output_type": "stream",
     "text": [
      "DEBUG flwr 2023-08-31 22:32:10,138 | server.py:236 | fit_round 5 received 2 results and 0 failures\n",
      "DEBUG flwr 2023-08-31 22:32:10,150 | server.py:173 | evaluate_round 5: strategy sampled 2 clients (out of 2)\n",
      "DEBUG flwr 2023-08-31 22:32:10,292 | server.py:187 | evaluate_round 5 received 2 results and 0 failures\n",
      "DEBUG flwr 2023-08-31 22:32:10,294 | server.py:222 | fit_round 6: strategy sampled 2 clients (out of 2)\n"
     ]
    },
    {
     "name": "stdout",
     "output_type": "stream",
     "text": [
      "agrregate_fit results list length is  2\n",
      "Saving round 5 aggregated_parameters...\n",
      "agrregate_evaluate results list length is  2\n",
      "server round is  5\n",
      "loss is  0.1560927927494049\n"
     ]
    },
    {
     "name": "stderr",
     "output_type": "stream",
     "text": [
      "DEBUG flwr 2023-08-31 22:32:30,419 | server.py:236 | fit_round 6 received 2 results and 0 failures\n",
      "DEBUG flwr 2023-08-31 22:32:30,435 | server.py:173 | evaluate_round 6: strategy sampled 2 clients (out of 2)\n",
      "DEBUG flwr 2023-08-31 22:32:30,612 | server.py:187 | evaluate_round 6 received 2 results and 0 failures\n"
     ]
    },
    {
     "name": "stdout",
     "output_type": "stream",
     "text": [
      "agrregate_fit results list length is  2\n",
      "Saving round 6 aggregated_parameters...\n"
     ]
    },
    {
     "name": "stderr",
     "output_type": "stream",
     "text": [
      "DEBUG flwr 2023-08-31 22:32:30,613 | server.py:222 | fit_round 7: strategy sampled 2 clients (out of 2)\n"
     ]
    },
    {
     "name": "stdout",
     "output_type": "stream",
     "text": [
      "agrregate_evaluate results list length is  2\n",
      "server round is  6\n",
      "loss is  0.15553855895996094\n"
     ]
    },
    {
     "name": "stderr",
     "output_type": "stream",
     "text": [
      "DEBUG flwr 2023-08-31 22:33:06,844 | server.py:236 | fit_round 7 received 2 results and 0 failures\n",
      "DEBUG flwr 2023-08-31 22:33:06,871 | server.py:173 | evaluate_round 7: strategy sampled 2 clients (out of 2)\n"
     ]
    },
    {
     "name": "stdout",
     "output_type": "stream",
     "text": [
      "agrregate_fit results list length is  2\n",
      "Saving round 7 aggregated_parameters...\n"
     ]
    },
    {
     "name": "stderr",
     "output_type": "stream",
     "text": [
      "DEBUG flwr 2023-08-31 22:33:07,164 | server.py:187 | evaluate_round 7 received 2 results and 0 failures\n",
      "DEBUG flwr 2023-08-31 22:33:07,167 | server.py:222 | fit_round 8: strategy sampled 2 clients (out of 2)\n"
     ]
    },
    {
     "name": "stdout",
     "output_type": "stream",
     "text": [
      "agrregate_evaluate results list length is  2\n",
      "server round is  7\n",
      "loss is  0.15609849989414215\n"
     ]
    },
    {
     "name": "stderr",
     "output_type": "stream",
     "text": [
      "DEBUG flwr 2023-08-31 22:34:01,650 | server.py:236 | fit_round 8 received 2 results and 0 failures\n",
      "DEBUG flwr 2023-08-31 22:34:01,675 | server.py:173 | evaluate_round 8: strategy sampled 2 clients (out of 2)\n"
     ]
    },
    {
     "name": "stdout",
     "output_type": "stream",
     "text": [
      "agrregate_fit results list length is  2\n",
      "Saving round 8 aggregated_parameters...\n"
     ]
    },
    {
     "name": "stderr",
     "output_type": "stream",
     "text": [
      "DEBUG flwr 2023-08-31 22:34:01,869 | server.py:187 | evaluate_round 8 received 2 results and 0 failures\n",
      "DEBUG flwr 2023-08-31 22:34:01,870 | server.py:222 | fit_round 9: strategy sampled 2 clients (out of 2)\n"
     ]
    },
    {
     "name": "stdout",
     "output_type": "stream",
     "text": [
      "agrregate_evaluate results list length is  2\n",
      "server round is  8\n",
      "loss is  0.15707167983055115\n"
     ]
    },
    {
     "name": "stderr",
     "output_type": "stream",
     "text": [
      "DEBUG flwr 2023-08-31 22:34:20,208 | server.py:236 | fit_round 9 received 2 results and 0 failures\n",
      "DEBUG flwr 2023-08-31 22:34:20,228 | server.py:173 | evaluate_round 9: strategy sampled 2 clients (out of 2)\n"
     ]
    },
    {
     "name": "stdout",
     "output_type": "stream",
     "text": [
      "agrregate_fit results list length is  2\n",
      "Saving round 9 aggregated_parameters...\n"
     ]
    },
    {
     "name": "stderr",
     "output_type": "stream",
     "text": [
      "DEBUG flwr 2023-08-31 22:34:20,416 | server.py:187 | evaluate_round 9 received 2 results and 0 failures\n",
      "DEBUG flwr 2023-08-31 22:34:20,418 | server.py:222 | fit_round 10: strategy sampled 2 clients (out of 2)\n"
     ]
    },
    {
     "name": "stdout",
     "output_type": "stream",
     "text": [
      "agrregate_evaluate results list length is  2\n",
      "server round is  9\n",
      "loss is  0.15703584253787994\n"
     ]
    },
    {
     "name": "stderr",
     "output_type": "stream",
     "text": [
      "DEBUG flwr 2023-08-31 22:34:38,379 | server.py:236 | fit_round 10 received 2 results and 0 failures\n",
      "DEBUG flwr 2023-08-31 22:34:38,392 | server.py:173 | evaluate_round 10: strategy sampled 2 clients (out of 2)\n",
      "DEBUG flwr 2023-08-31 22:34:38,536 | server.py:187 | evaluate_round 10 received 2 results and 0 failures\n",
      "DEBUG flwr 2023-08-31 22:34:38,538 | server.py:222 | fit_round 11: strategy sampled 2 clients (out of 2)\n"
     ]
    },
    {
     "name": "stdout",
     "output_type": "stream",
     "text": [
      "agrregate_fit results list length is  2\n",
      "Saving round 10 aggregated_parameters...\n",
      "agrregate_evaluate results list length is  2\n",
      "server round is  10\n",
      "loss is  0.15635228157043457\n"
     ]
    },
    {
     "name": "stderr",
     "output_type": "stream",
     "text": [
      "DEBUG flwr 2023-08-31 22:34:59,019 | server.py:236 | fit_round 11 received 2 results and 0 failures\n",
      "DEBUG flwr 2023-08-31 22:34:59,034 | server.py:173 | evaluate_round 11: strategy sampled 2 clients (out of 2)\n",
      "DEBUG flwr 2023-08-31 22:34:59,201 | server.py:187 | evaluate_round 11 received 2 results and 0 failures\n",
      "DEBUG flwr 2023-08-31 22:34:59,202 | server.py:222 | fit_round 12: strategy sampled 2 clients (out of 2)\n"
     ]
    },
    {
     "name": "stdout",
     "output_type": "stream",
     "text": [
      "agrregate_fit results list length is  2\n",
      "Saving round 11 aggregated_parameters...\n",
      "agrregate_evaluate results list length is  2\n",
      "server round is  11\n",
      "loss is  0.151996910572052\n"
     ]
    },
    {
     "name": "stderr",
     "output_type": "stream",
     "text": [
      "DEBUG flwr 2023-08-31 22:35:31,570 | server.py:236 | fit_round 12 received 2 results and 0 failures\n",
      "DEBUG flwr 2023-08-31 22:35:31,608 | server.py:173 | evaluate_round 12: strategy sampled 2 clients (out of 2)\n"
     ]
    },
    {
     "name": "stdout",
     "output_type": "stream",
     "text": [
      "agrregate_fit results list length is  2\n",
      "Saving round 12 aggregated_parameters...\n"
     ]
    },
    {
     "name": "stderr",
     "output_type": "stream",
     "text": [
      "DEBUG flwr 2023-08-31 22:35:31,985 | server.py:187 | evaluate_round 12 received 2 results and 0 failures\n",
      "DEBUG flwr 2023-08-31 22:35:31,990 | server.py:222 | fit_round 13: strategy sampled 2 clients (out of 2)\n"
     ]
    },
    {
     "name": "stdout",
     "output_type": "stream",
     "text": [
      "agrregate_evaluate results list length is  2\n",
      "server round is  12\n",
      "loss is  0.1577184796333313\n"
     ]
    },
    {
     "name": "stderr",
     "output_type": "stream",
     "text": [
      "DEBUG flwr 2023-08-31 22:36:16,328 | server.py:236 | fit_round 13 received 2 results and 0 failures\n",
      "DEBUG flwr 2023-08-31 22:36:16,346 | server.py:173 | evaluate_round 13: strategy sampled 2 clients (out of 2)\n",
      "DEBUG flwr 2023-08-31 22:36:16,483 | server.py:187 | evaluate_round 13 received 2 results and 0 failures\n",
      "DEBUG flwr 2023-08-31 22:36:16,484 | server.py:222 | fit_round 14: strategy sampled 2 clients (out of 2)\n"
     ]
    },
    {
     "name": "stdout",
     "output_type": "stream",
     "text": [
      "agrregate_fit results list length is  2\n",
      "Saving round 13 aggregated_parameters...\n",
      "agrregate_evaluate results list length is  2\n",
      "server round is  13\n",
      "loss is  0.15171150863170624\n"
     ]
    },
    {
     "name": "stderr",
     "output_type": "stream",
     "text": [
      "DEBUG flwr 2023-08-31 22:36:34,232 | server.py:236 | fit_round 14 received 2 results and 0 failures\n",
      "DEBUG flwr 2023-08-31 22:36:34,254 | server.py:173 | evaluate_round 14: strategy sampled 2 clients (out of 2)\n"
     ]
    },
    {
     "name": "stdout",
     "output_type": "stream",
     "text": [
      "agrregate_fit results list length is  2\n",
      "Saving round 14 aggregated_parameters...\n"
     ]
    },
    {
     "name": "stderr",
     "output_type": "stream",
     "text": [
      "DEBUG flwr 2023-08-31 22:36:34,445 | server.py:187 | evaluate_round 14 received 2 results and 0 failures\n",
      "DEBUG flwr 2023-08-31 22:36:34,447 | server.py:222 | fit_round 15: strategy sampled 2 clients (out of 2)\n"
     ]
    },
    {
     "name": "stdout",
     "output_type": "stream",
     "text": [
      "agrregate_evaluate results list length is  2\n",
      "server round is  14\n",
      "loss is  0.1509125828742981\n"
     ]
    },
    {
     "name": "stderr",
     "output_type": "stream",
     "text": [
      "DEBUG flwr 2023-08-31 22:37:09,446 | server.py:236 | fit_round 15 received 2 results and 0 failures\n",
      "DEBUG flwr 2023-08-31 22:37:09,466 | server.py:173 | evaluate_round 15: strategy sampled 2 clients (out of 2)\n"
     ]
    },
    {
     "name": "stdout",
     "output_type": "stream",
     "text": [
      "agrregate_fit results list length is  2\n",
      "Saving round 15 aggregated_parameters...\n"
     ]
    },
    {
     "name": "stderr",
     "output_type": "stream",
     "text": [
      "DEBUG flwr 2023-08-31 22:37:09,666 | server.py:187 | evaluate_round 15 received 2 results and 0 failures\n",
      "DEBUG flwr 2023-08-31 22:37:09,667 | server.py:222 | fit_round 16: strategy sampled 2 clients (out of 2)\n"
     ]
    },
    {
     "name": "stdout",
     "output_type": "stream",
     "text": [
      "agrregate_evaluate results list length is  2\n",
      "server round is  15\n",
      "loss is  0.15385355055332184\n"
     ]
    },
    {
     "name": "stderr",
     "output_type": "stream",
     "text": [
      "DEBUG flwr 2023-08-31 22:37:40,487 | server.py:236 | fit_round 16 received 2 results and 0 failures\n",
      "DEBUG flwr 2023-08-31 22:37:40,512 | server.py:173 | evaluate_round 16: strategy sampled 2 clients (out of 2)\n"
     ]
    },
    {
     "name": "stdout",
     "output_type": "stream",
     "text": [
      "agrregate_fit results list length is  2\n",
      "Saving round 16 aggregated_parameters...\n"
     ]
    },
    {
     "name": "stderr",
     "output_type": "stream",
     "text": [
      "DEBUG flwr 2023-08-31 22:37:40,731 | server.py:187 | evaluate_round 16 received 2 results and 0 failures\n",
      "DEBUG flwr 2023-08-31 22:37:40,734 | server.py:222 | fit_round 17: strategy sampled 2 clients (out of 2)\n"
     ]
    },
    {
     "name": "stdout",
     "output_type": "stream",
     "text": [
      "agrregate_evaluate results list length is  2\n",
      "server round is  16\n",
      "loss is  0.15512649714946747\n"
     ]
    },
    {
     "name": "stderr",
     "output_type": "stream",
     "text": [
      "DEBUG flwr 2023-08-31 22:37:58,408 | server.py:236 | fit_round 17 received 2 results and 0 failures\n",
      "DEBUG flwr 2023-08-31 22:37:58,435 | server.py:173 | evaluate_round 17: strategy sampled 2 clients (out of 2)\n"
     ]
    },
    {
     "name": "stdout",
     "output_type": "stream",
     "text": [
      "agrregate_fit results list length is  2\n",
      "Saving round 17 aggregated_parameters...\n"
     ]
    },
    {
     "name": "stderr",
     "output_type": "stream",
     "text": [
      "DEBUG flwr 2023-08-31 22:37:58,637 | server.py:187 | evaluate_round 17 received 2 results and 0 failures\n",
      "DEBUG flwr 2023-08-31 22:37:58,640 | server.py:222 | fit_round 18: strategy sampled 2 clients (out of 2)\n"
     ]
    },
    {
     "name": "stdout",
     "output_type": "stream",
     "text": [
      "agrregate_evaluate results list length is  2\n",
      "server round is  17\n",
      "loss is  0.154957115650177\n"
     ]
    },
    {
     "name": "stderr",
     "output_type": "stream",
     "text": [
      "DEBUG flwr 2023-08-31 22:38:30,299 | server.py:236 | fit_round 18 received 2 results and 0 failures\n",
      "DEBUG flwr 2023-08-31 22:38:30,339 | server.py:173 | evaluate_round 18: strategy sampled 2 clients (out of 2)\n"
     ]
    },
    {
     "name": "stdout",
     "output_type": "stream",
     "text": [
      "agrregate_fit results list length is  2\n",
      "Saving round 18 aggregated_parameters...\n"
     ]
    },
    {
     "name": "stderr",
     "output_type": "stream",
     "text": [
      "DEBUG flwr 2023-08-31 22:38:30,733 | server.py:187 | evaluate_round 18 received 2 results and 0 failures\n",
      "DEBUG flwr 2023-08-31 22:38:30,738 | server.py:222 | fit_round 19: strategy sampled 2 clients (out of 2)\n"
     ]
    },
    {
     "name": "stdout",
     "output_type": "stream",
     "text": [
      "agrregate_evaluate results list length is  2\n",
      "server round is  18\n",
      "loss is  0.15225331485271454\n"
     ]
    },
    {
     "name": "stderr",
     "output_type": "stream",
     "text": [
      "DEBUG flwr 2023-08-31 22:39:02,318 | server.py:236 | fit_round 19 received 2 results and 0 failures\n",
      "DEBUG flwr 2023-08-31 22:39:02,347 | server.py:173 | evaluate_round 19: strategy sampled 2 clients (out of 2)\n"
     ]
    },
    {
     "name": "stdout",
     "output_type": "stream",
     "text": [
      "agrregate_fit results list length is  2\n",
      "Saving round 19 aggregated_parameters...\n"
     ]
    },
    {
     "name": "stderr",
     "output_type": "stream",
     "text": [
      "DEBUG flwr 2023-08-31 22:39:02,609 | server.py:187 | evaluate_round 19 received 2 results and 0 failures\n",
      "DEBUG flwr 2023-08-31 22:39:02,612 | server.py:222 | fit_round 20: strategy sampled 2 clients (out of 2)\n"
     ]
    },
    {
     "name": "stdout",
     "output_type": "stream",
     "text": [
      "agrregate_evaluate results list length is  2\n",
      "server round is  19\n",
      "loss is  0.1553984433412552\n"
     ]
    },
    {
     "name": "stderr",
     "output_type": "stream",
     "text": [
      "DEBUG flwr 2023-08-31 22:39:22,868 | server.py:236 | fit_round 20 received 2 results and 0 failures\n",
      "DEBUG flwr 2023-08-31 22:39:22,885 | server.py:173 | evaluate_round 20: strategy sampled 2 clients (out of 2)\n",
      "DEBUG flwr 2023-08-31 22:39:23,060 | server.py:187 | evaluate_round 20 received 2 results and 0 failures\n"
     ]
    },
    {
     "name": "stdout",
     "output_type": "stream",
     "text": [
      "agrregate_fit results list length is  2\n",
      "Saving round 20 aggregated_parameters...\n"
     ]
    },
    {
     "name": "stderr",
     "output_type": "stream",
     "text": [
      "DEBUG flwr 2023-08-31 22:39:23,062 | server.py:222 | fit_round 21: strategy sampled 2 clients (out of 2)\n"
     ]
    },
    {
     "name": "stdout",
     "output_type": "stream",
     "text": [
      "agrregate_evaluate results list length is  2\n",
      "server round is  20\n",
      "loss is  0.15398746728897095\n"
     ]
    },
    {
     "name": "stderr",
     "output_type": "stream",
     "text": [
      "DEBUG flwr 2023-08-31 22:39:47,307 | server.py:236 | fit_round 21 received 2 results and 0 failures\n",
      "DEBUG flwr 2023-08-31 22:39:47,339 | server.py:173 | evaluate_round 21: strategy sampled 2 clients (out of 2)\n"
     ]
    },
    {
     "name": "stdout",
     "output_type": "stream",
     "text": [
      "agrregate_fit results list length is  2\n",
      "Saving round 21 aggregated_parameters...\n"
     ]
    },
    {
     "name": "stderr",
     "output_type": "stream",
     "text": [
      "DEBUG flwr 2023-08-31 22:39:47,598 | server.py:187 | evaluate_round 21 received 2 results and 0 failures\n",
      "DEBUG flwr 2023-08-31 22:39:47,599 | server.py:222 | fit_round 22: strategy sampled 2 clients (out of 2)\n"
     ]
    },
    {
     "name": "stdout",
     "output_type": "stream",
     "text": [
      "agrregate_evaluate results list length is  2\n",
      "server round is  21\n",
      "loss is  0.15264040231704712\n"
     ]
    },
    {
     "name": "stderr",
     "output_type": "stream",
     "text": [
      "DEBUG flwr 2023-08-31 22:40:15,441 | server.py:236 | fit_round 22 received 2 results and 0 failures\n",
      "DEBUG flwr 2023-08-31 22:40:15,466 | server.py:173 | evaluate_round 22: strategy sampled 2 clients (out of 2)\n"
     ]
    },
    {
     "name": "stdout",
     "output_type": "stream",
     "text": [
      "agrregate_fit results list length is  2\n",
      "Saving round 22 aggregated_parameters...\n"
     ]
    },
    {
     "name": "stderr",
     "output_type": "stream",
     "text": [
      "DEBUG flwr 2023-08-31 22:40:15,717 | server.py:187 | evaluate_round 22 received 2 results and 0 failures\n",
      "DEBUG flwr 2023-08-31 22:40:15,721 | server.py:222 | fit_round 23: strategy sampled 2 clients (out of 2)\n"
     ]
    },
    {
     "name": "stdout",
     "output_type": "stream",
     "text": [
      "agrregate_evaluate results list length is  2\n",
      "server round is  22\n",
      "loss is  0.1533135026693344\n"
     ]
    },
    {
     "name": "stderr",
     "output_type": "stream",
     "text": [
      "DEBUG flwr 2023-08-31 22:41:03,551 | server.py:236 | fit_round 23 received 2 results and 0 failures\n",
      "DEBUG flwr 2023-08-31 22:41:03,579 | server.py:173 | evaluate_round 23: strategy sampled 2 clients (out of 2)\n"
     ]
    },
    {
     "name": "stdout",
     "output_type": "stream",
     "text": [
      "agrregate_fit results list length is  2\n",
      "Saving round 23 aggregated_parameters...\n"
     ]
    },
    {
     "name": "stderr",
     "output_type": "stream",
     "text": [
      "DEBUG flwr 2023-08-31 22:41:03,864 | server.py:187 | evaluate_round 23 received 2 results and 0 failures\n",
      "DEBUG flwr 2023-08-31 22:41:03,866 | server.py:222 | fit_round 24: strategy sampled 2 clients (out of 2)\n"
     ]
    },
    {
     "name": "stdout",
     "output_type": "stream",
     "text": [
      "agrregate_evaluate results list length is  2\n",
      "server round is  23\n",
      "loss is  0.15576104819774628\n"
     ]
    },
    {
     "name": "stderr",
     "output_type": "stream",
     "text": [
      "DEBUG flwr 2023-08-31 22:41:28,878 | server.py:236 | fit_round 24 received 2 results and 0 failures\n",
      "DEBUG flwr 2023-08-31 22:41:28,897 | server.py:173 | evaluate_round 24: strategy sampled 2 clients (out of 2)\n"
     ]
    },
    {
     "name": "stdout",
     "output_type": "stream",
     "text": [
      "agrregate_fit results list length is  2\n",
      "Saving round 24 aggregated_parameters...\n"
     ]
    },
    {
     "name": "stderr",
     "output_type": "stream",
     "text": [
      "DEBUG flwr 2023-08-31 22:41:29,089 | server.py:187 | evaluate_round 24 received 2 results and 0 failures\n",
      "DEBUG flwr 2023-08-31 22:41:29,092 | server.py:222 | fit_round 25: strategy sampled 2 clients (out of 2)\n"
     ]
    },
    {
     "name": "stdout",
     "output_type": "stream",
     "text": [
      "agrregate_evaluate results list length is  2\n",
      "server round is  24\n",
      "loss is  0.15550389885902405\n"
     ]
    },
    {
     "name": "stderr",
     "output_type": "stream",
     "text": [
      "DEBUG flwr 2023-08-31 22:41:58,320 | server.py:236 | fit_round 25 received 2 results and 0 failures\n",
      "DEBUG flwr 2023-08-31 22:41:58,352 | server.py:173 | evaluate_round 25: strategy sampled 2 clients (out of 2)\n",
      "DEBUG flwr 2023-08-31 22:41:58,532 | server.py:187 | evaluate_round 25 received 2 results and 0 failures\n"
     ]
    },
    {
     "name": "stdout",
     "output_type": "stream",
     "text": [
      "agrregate_fit results list length is  2\n",
      "Saving round 25 aggregated_parameters...\n"
     ]
    },
    {
     "name": "stderr",
     "output_type": "stream",
     "text": [
      "DEBUG flwr 2023-08-31 22:41:58,533 | server.py:222 | fit_round 26: strategy sampled 2 clients (out of 2)\n"
     ]
    },
    {
     "name": "stdout",
     "output_type": "stream",
     "text": [
      "agrregate_evaluate results list length is  2\n",
      "server round is  25\n",
      "loss is  0.14904753863811493\n"
     ]
    },
    {
     "name": "stderr",
     "output_type": "stream",
     "text": [
      "DEBUG flwr 2023-08-31 22:42:19,435 | server.py:236 | fit_round 26 received 2 results and 0 failures\n",
      "DEBUG flwr 2023-08-31 22:42:19,464 | server.py:173 | evaluate_round 26: strategy sampled 2 clients (out of 2)\n"
     ]
    },
    {
     "name": "stdout",
     "output_type": "stream",
     "text": [
      "agrregate_fit results list length is  2\n",
      "Saving round 26 aggregated_parameters...\n"
     ]
    },
    {
     "name": "stderr",
     "output_type": "stream",
     "text": [
      "DEBUG flwr 2023-08-31 22:42:19,650 | server.py:187 | evaluate_round 26 received 2 results and 0 failures\n",
      "DEBUG flwr 2023-08-31 22:42:19,653 | server.py:222 | fit_round 27: strategy sampled 2 clients (out of 2)\n"
     ]
    },
    {
     "name": "stdout",
     "output_type": "stream",
     "text": [
      "agrregate_evaluate results list length is  2\n",
      "server round is  26\n",
      "loss is  0.15310132503509521\n"
     ]
    },
    {
     "name": "stderr",
     "output_type": "stream",
     "text": [
      "DEBUG flwr 2023-08-31 22:42:47,064 | server.py:236 | fit_round 27 received 2 results and 0 failures\n",
      "DEBUG flwr 2023-08-31 22:42:47,088 | server.py:173 | evaluate_round 27: strategy sampled 2 clients (out of 2)\n"
     ]
    },
    {
     "name": "stdout",
     "output_type": "stream",
     "text": [
      "agrregate_fit results list length is  2\n",
      "Saving round 27 aggregated_parameters...\n"
     ]
    },
    {
     "name": "stderr",
     "output_type": "stream",
     "text": [
      "DEBUG flwr 2023-08-31 22:42:47,272 | server.py:187 | evaluate_round 27 received 2 results and 0 failures\n",
      "DEBUG flwr 2023-08-31 22:42:47,274 | server.py:222 | fit_round 28: strategy sampled 2 clients (out of 2)\n"
     ]
    },
    {
     "name": "stdout",
     "output_type": "stream",
     "text": [
      "agrregate_evaluate results list length is  2\n",
      "server round is  27\n",
      "loss is  0.15067802369594574\n"
     ]
    },
    {
     "name": "stderr",
     "output_type": "stream",
     "text": [
      "DEBUG flwr 2023-08-31 22:43:14,902 | server.py:236 | fit_round 28 received 2 results and 0 failures\n",
      "DEBUG flwr 2023-08-31 22:43:14,938 | server.py:173 | evaluate_round 28: strategy sampled 2 clients (out of 2)\n"
     ]
    },
    {
     "name": "stdout",
     "output_type": "stream",
     "text": [
      "agrregate_fit results list length is  2\n",
      "Saving round 28 aggregated_parameters...\n"
     ]
    },
    {
     "name": "stderr",
     "output_type": "stream",
     "text": [
      "DEBUG flwr 2023-08-31 22:43:15,233 | server.py:187 | evaluate_round 28 received 2 results and 0 failures\n",
      "DEBUG flwr 2023-08-31 22:43:15,236 | server.py:222 | fit_round 29: strategy sampled 2 clients (out of 2)\n"
     ]
    },
    {
     "name": "stdout",
     "output_type": "stream",
     "text": [
      "agrregate_evaluate results list length is  2\n",
      "server round is  28\n",
      "loss is  0.1500249058008194\n"
     ]
    },
    {
     "name": "stderr",
     "output_type": "stream",
     "text": [
      "DEBUG flwr 2023-08-31 22:43:42,181 | server.py:236 | fit_round 29 received 2 results and 0 failures\n",
      "DEBUG flwr 2023-08-31 22:43:42,205 | server.py:173 | evaluate_round 29: strategy sampled 2 clients (out of 2)\n"
     ]
    },
    {
     "name": "stdout",
     "output_type": "stream",
     "text": [
      "agrregate_fit results list length is  2\n",
      "Saving round 29 aggregated_parameters...\n"
     ]
    },
    {
     "name": "stderr",
     "output_type": "stream",
     "text": [
      "DEBUG flwr 2023-08-31 22:43:42,444 | server.py:187 | evaluate_round 29 received 2 results and 0 failures\n",
      "DEBUG flwr 2023-08-31 22:43:42,447 | server.py:222 | fit_round 30: strategy sampled 2 clients (out of 2)\n"
     ]
    },
    {
     "name": "stdout",
     "output_type": "stream",
     "text": [
      "agrregate_evaluate results list length is  2\n",
      "server round is  29\n",
      "loss is  0.15247687697410583\n"
     ]
    },
    {
     "name": "stderr",
     "output_type": "stream",
     "text": [
      "DEBUG flwr 2023-08-31 22:44:07,074 | server.py:236 | fit_round 30 received 2 results and 0 failures\n",
      "DEBUG flwr 2023-08-31 22:44:07,101 | server.py:173 | evaluate_round 30: strategy sampled 2 clients (out of 2)\n"
     ]
    },
    {
     "name": "stdout",
     "output_type": "stream",
     "text": [
      "agrregate_fit results list length is  2\n",
      "Saving round 30 aggregated_parameters...\n"
     ]
    },
    {
     "name": "stderr",
     "output_type": "stream",
     "text": [
      "DEBUG flwr 2023-08-31 22:44:07,288 | server.py:187 | evaluate_round 30 received 2 results and 0 failures\n",
      "INFO flwr 2023-08-31 22:44:07,290 | server.py:153 | FL finished in 798.3699418999895\n",
      "INFO flwr 2023-08-31 22:44:07,291 | app.py:225 | app_fit: losses_distributed [(1, 0.2322271764278412), (2, 0.20108048617839813), (3, 0.1751890927553177), (4, 0.15939538180828094), (5, 0.1560927927494049), (6, 0.15553855895996094), (7, 0.15609849989414215), (8, 0.15707167983055115), (9, 0.15703584253787994), (10, 0.15635228157043457), (11, 0.151996910572052), (12, 0.1577184796333313), (13, 0.15171150863170624), (14, 0.1509125828742981), (15, 0.15385355055332184), (16, 0.15512649714946747), (17, 0.154957115650177), (18, 0.15225331485271454), (19, 0.1553984433412552), (20, 0.15398746728897095), (21, 0.15264040231704712), (22, 0.1533135026693344), (23, 0.15576104819774628), (24, 0.15550389885902405), (25, 0.14904753863811493), (26, 0.15310132503509521), (27, 0.15067802369594574), (28, 0.1500249058008194), (29, 0.15247687697410583), (30, 0.15011975169181824)]\n",
      "INFO flwr 2023-08-31 22:44:07,292 | app.py:226 | app_fit: metrics_distributed_fit {}\n",
      "INFO flwr 2023-08-31 22:44:07,293 | app.py:227 | app_fit: metrics_distributed {'mse': [(1, 0.4644543528556824), (2, 0.40216097235679626), (3, 0.3503781855106354), (4, 0.3187907636165619), (5, 0.3121855854988098), (6, 0.3110771179199219), (7, 0.3121969997882843), (8, 0.3141433596611023), (9, 0.3140716850757599), (10, 0.31270456314086914), (11, 0.303993821144104), (12, 0.3154369592666626), (13, 0.3034230172634125), (14, 0.3018251657485962), (15, 0.3077071011066437), (16, 0.31025299429893494), (17, 0.309914231300354), (18, 0.3045066297054291), (19, 0.3107968866825104), (20, 0.3079749345779419), (21, 0.30528080463409424), (22, 0.3066270053386688), (23, 0.31152209639549255), (24, 0.3110077977180481), (25, 0.29809507727622986), (26, 0.30620265007019043), (27, 0.3013560473918915), (28, 0.3000498116016388), (29, 0.30495375394821167), (30, 0.3002395033836365)]}\n",
      "INFO flwr 2023-08-31 22:44:07,294 | app.py:228 | app_fit: losses_centralized []\n",
      "INFO flwr 2023-08-31 22:44:07,295 | app.py:229 | app_fit: metrics_centralized {}\n"
     ]
    },
    {
     "name": "stdout",
     "output_type": "stream",
     "text": [
      "agrregate_evaluate results list length is  2\n",
      "server round is  30\n",
      "loss is  0.15011975169181824\n",
      "History (loss, distributed):\n",
      "\tround 1: 0.2322271764278412\n",
      "\tround 2: 0.20108048617839813\n",
      "\tround 3: 0.1751890927553177\n",
      "\tround 4: 0.15939538180828094\n",
      "\tround 5: 0.1560927927494049\n",
      "\tround 6: 0.15553855895996094\n",
      "\tround 7: 0.15609849989414215\n",
      "\tround 8: 0.15707167983055115\n",
      "\tround 9: 0.15703584253787994\n",
      "\tround 10: 0.15635228157043457\n",
      "\tround 11: 0.151996910572052\n",
      "\tround 12: 0.1577184796333313\n",
      "\tround 13: 0.15171150863170624\n",
      "\tround 14: 0.1509125828742981\n",
      "\tround 15: 0.15385355055332184\n",
      "\tround 16: 0.15512649714946747\n",
      "\tround 17: 0.154957115650177\n",
      "\tround 18: 0.15225331485271454\n",
      "\tround 19: 0.1553984433412552\n",
      "\tround 20: 0.15398746728897095\n",
      "\tround 21: 0.15264040231704712\n",
      "\tround 22: 0.1533135026693344\n",
      "\tround 23: 0.15576104819774628\n",
      "\tround 24: 0.15550389885902405\n",
      "\tround 25: 0.14904753863811493\n",
      "\tround 26: 0.15310132503509521\n",
      "\tround 27: 0.15067802369594574\n",
      "\tround 28: 0.1500249058008194\n",
      "\tround 29: 0.15247687697410583\n",
      "\tround 30: 0.15011975169181824\n",
      "History (metrics, distributed, evaluate):\n",
      "{'mse': [(1, 0.4644543528556824), (2, 0.40216097235679626), (3, 0.3503781855106354), (4, 0.3187907636165619), (5, 0.3121855854988098), (6, 0.3110771179199219), (7, 0.3121969997882843), (8, 0.3141433596611023), (9, 0.3140716850757599), (10, 0.31270456314086914), (11, 0.303993821144104), (12, 0.3154369592666626), (13, 0.3034230172634125), (14, 0.3018251657485962), (15, 0.3077071011066437), (16, 0.31025299429893494), (17, 0.309914231300354), (18, 0.3045066297054291), (19, 0.3107968866825104), (20, 0.3079749345779419), (21, 0.30528080463409424), (22, 0.3066270053386688), (23, 0.31152209639549255), (24, 0.3110077977180481), (25, 0.29809507727622986), (26, 0.30620265007019043), (27, 0.3013560473918915), (28, 0.3000498116016388), (29, 0.30495375394821167), (30, 0.3002395033836365)]}\n",
      "[(1, 0.2322271764278412), (2, 0.20108048617839813), (3, 0.1751890927553177), (4, 0.15939538180828094), (5, 0.1560927927494049), (6, 0.15553855895996094), (7, 0.15609849989414215), (8, 0.15707167983055115), (9, 0.15703584253787994), (10, 0.15635228157043457), (11, 0.151996910572052), (12, 0.1577184796333313), (13, 0.15171150863170624), (14, 0.1509125828742981), (15, 0.15385355055332184), (16, 0.15512649714946747), (17, 0.154957115650177), (18, 0.15225331485271454), (19, 0.1553984433412552), (20, 0.15398746728897095), (21, 0.15264040231704712), (22, 0.1533135026693344), (23, 0.15576104819774628), (24, 0.15550389885902405), (25, 0.14904753863811493), (26, 0.15310132503509521), (27, 0.15067802369594574), (28, 0.1500249058008194), (29, 0.15247687697410583), (30, 0.15011975169181824)]\n",
      "0.8318790235708535\n",
      "Fold 2:\n",
      "splitting [0.8, 0.2]\n",
      "time 0:13:51.625839\n",
      "mse [0.15011975]\n",
      "auc [0.8318790235708535]\n"
     ]
    }
   ],
   "source": [
    "\n",
    "splitting = [0.8, 0.2]\n",
    "do_fl(splitting, num_rounds)"
   ],
   "metadata": {
    "collapsed": false,
    "ExecuteTime": {
     "end_time": "2023-08-31T21:44:07.474812400Z",
     "start_time": "2023-08-31T21:30:15.820050400Z"
    }
   }
  },
  {
   "cell_type": "code",
   "execution_count": 11,
   "outputs": [
    {
     "name": "stderr",
     "output_type": "stream",
     "text": [
      "C:\\Users\\Shuyao\\AppData\\Local\\Temp\\ipykernel_23376\\475339861.py:29: UserWarning: To copy construct from a tensor, it is recommended to use sourceTensor.clone().detach() or sourceTensor.clone().detach().requires_grad_(True), rather than torch.tensor(sourceTensor).\n",
      "  X_train = torch.tensor(X_train)\n",
      "C:\\Users\\Shuyao\\AppData\\Local\\Temp\\ipykernel_23376\\475339861.py:30: UserWarning: To copy construct from a tensor, it is recommended to use sourceTensor.clone().detach() or sourceTensor.clone().detach().requires_grad_(True), rather than torch.tensor(sourceTensor).\n",
      "  X_test = torch.tensor(X_test)\n",
      "C:\\Users\\Shuyao\\AppData\\Local\\Temp\\ipykernel_23376\\475339861.py:31: UserWarning: To copy construct from a tensor, it is recommended to use sourceTensor.clone().detach() or sourceTensor.clone().detach().requires_grad_(True), rather than torch.tensor(sourceTensor).\n",
      "  y_train = torch.reshape(torch.tensor(y_train), (-1, 1))\n",
      "C:\\Users\\Shuyao\\AppData\\Local\\Temp\\ipykernel_23376\\475339861.py:32: UserWarning: To copy construct from a tensor, it is recommended to use sourceTensor.clone().detach() or sourceTensor.clone().detach().requires_grad_(True), rather than torch.tensor(sourceTensor).\n",
      "  y_test = torch.reshape(torch.tensor(y_test), (-1, 1))\n",
      "INFO flwr 2023-08-31 22:44:07,698 | app.py:145 | Starting Flower simulation, config: ServerConfig(num_rounds=30, round_timeout=None)\n"
     ]
    },
    {
     "name": "stdout",
     "output_type": "stream",
     "text": [
      "Fold 1:\n",
      "x_test: cpu\n",
      "y_test: cpu\n",
      "30\n",
      "Client 0 trainset shape torch.Size([76102, 10])\n",
      "Client 1 trainset shape torch.Size([71590, 10])\n",
      "Client 2 trainset shape torch.Size([71764, 10])\n",
      "FL started training on cpu\n",
      "Number of available GPUs: 0\n"
     ]
    },
    {
     "name": "stderr",
     "output_type": "stream",
     "text": [
      "2023-08-31 22:44:20,367\tINFO worker.py:1627 -- Started a local Ray instance. View the dashboard at \u001B[1m\u001B[32m127.0.0.1:8270 \u001B[39m\u001B[22m\n",
      "INFO flwr 2023-08-31 22:44:31,441 | app.py:179 | Flower VCE: Ray initialized with resources: {'node:127.0.0.1': 1.0, 'memory': 1210195968.0, 'object_store_memory': 605097984.0, 'GPU': 1.0, 'CPU': 8.0}\n",
      "INFO flwr 2023-08-31 22:44:31,445 | server.py:89 | Initializing global parameters\n",
      "INFO flwr 2023-08-31 22:44:31,447 | server.py:276 | Requesting initial parameters from one random client\n",
      "INFO flwr 2023-08-31 22:44:37,042 | server.py:280 | Received initial parameters from one random client\n",
      "INFO flwr 2023-08-31 22:44:37,043 | server.py:91 | Evaluating initial parameters\n",
      "INFO flwr 2023-08-31 22:44:37,044 | server.py:104 | FL starting\n",
      "DEBUG flwr 2023-08-31 22:44:37,045 | server.py:222 | fit_round 1: strategy sampled 2 clients (out of 3)\n",
      "DEBUG flwr 2023-08-31 22:44:53,151 | server.py:236 | fit_round 1 received 2 results and 0 failures\n",
      "WARNING flwr 2023-08-31 22:44:53,161 | fedavg.py:242 | No fit_metrics_aggregation_fn provided\n",
      "DEBUG flwr 2023-08-31 22:44:53,175 | server.py:173 | evaluate_round 1: strategy sampled 2 clients (out of 3)\n"
     ]
    },
    {
     "name": "stdout",
     "output_type": "stream",
     "text": [
      "agrregate_fit results list length is  2\n",
      "Saving round 1 aggregated_parameters...\n"
     ]
    },
    {
     "name": "stderr",
     "output_type": "stream",
     "text": [
      "DEBUG flwr 2023-08-31 22:44:53,383 | server.py:187 | evaluate_round 1 received 2 results and 0 failures\n",
      "DEBUG flwr 2023-08-31 22:44:53,385 | server.py:222 | fit_round 2: strategy sampled 2 clients (out of 3)\n"
     ]
    },
    {
     "name": "stdout",
     "output_type": "stream",
     "text": [
      "agrregate_evaluate results list length is  2\n",
      "server round is  1\n",
      "loss is  0.2588854730129242\n"
     ]
    },
    {
     "name": "stderr",
     "output_type": "stream",
     "text": [
      "DEBUG flwr 2023-08-31 22:45:06,914 | server.py:236 | fit_round 2 received 2 results and 0 failures\n",
      "DEBUG flwr 2023-08-31 22:45:06,930 | server.py:173 | evaluate_round 2: strategy sampled 2 clients (out of 3)\n"
     ]
    },
    {
     "name": "stdout",
     "output_type": "stream",
     "text": [
      "agrregate_fit results list length is  2\n",
      "Saving round 2 aggregated_parameters...\n"
     ]
    },
    {
     "name": "stderr",
     "output_type": "stream",
     "text": [
      "DEBUG flwr 2023-08-31 22:45:07,129 | server.py:187 | evaluate_round 2 received 2 results and 0 failures\n",
      "DEBUG flwr 2023-08-31 22:45:07,130 | server.py:222 | fit_round 3: strategy sampled 2 clients (out of 3)\n"
     ]
    },
    {
     "name": "stdout",
     "output_type": "stream",
     "text": [
      "agrregate_evaluate results list length is  2\n",
      "server round is  2\n",
      "loss is  0.2384224683046341\n"
     ]
    },
    {
     "name": "stderr",
     "output_type": "stream",
     "text": [
      "DEBUG flwr 2023-08-31 22:45:17,038 | server.py:236 | fit_round 3 received 2 results and 0 failures\n",
      "DEBUG flwr 2023-08-31 22:45:17,064 | server.py:173 | evaluate_round 3: strategy sampled 2 clients (out of 3)\n"
     ]
    },
    {
     "name": "stdout",
     "output_type": "stream",
     "text": [
      "agrregate_fit results list length is  2\n",
      "Saving round 3 aggregated_parameters...\n"
     ]
    },
    {
     "name": "stderr",
     "output_type": "stream",
     "text": [
      "DEBUG flwr 2023-08-31 22:45:17,310 | server.py:187 | evaluate_round 3 received 2 results and 0 failures\n",
      "DEBUG flwr 2023-08-31 22:45:17,312 | server.py:222 | fit_round 4: strategy sampled 2 clients (out of 3)\n"
     ]
    },
    {
     "name": "stdout",
     "output_type": "stream",
     "text": [
      "agrregate_evaluate results list length is  2\n",
      "server round is  3\n",
      "loss is  0.22131051123142242\n"
     ]
    },
    {
     "name": "stderr",
     "output_type": "stream",
     "text": [
      "DEBUG flwr 2023-08-31 22:45:31,000 | server.py:236 | fit_round 4 received 2 results and 0 failures\n",
      "DEBUG flwr 2023-08-31 22:45:31,027 | server.py:173 | evaluate_round 4: strategy sampled 2 clients (out of 3)\n"
     ]
    },
    {
     "name": "stdout",
     "output_type": "stream",
     "text": [
      "agrregate_fit results list length is  2\n",
      "Saving round 4 aggregated_parameters...\n"
     ]
    },
    {
     "name": "stderr",
     "output_type": "stream",
     "text": [
      "DEBUG flwr 2023-08-31 22:45:31,331 | server.py:187 | evaluate_round 4 received 2 results and 0 failures\n",
      "DEBUG flwr 2023-08-31 22:45:31,335 | server.py:222 | fit_round 5: strategy sampled 2 clients (out of 3)\n"
     ]
    },
    {
     "name": "stdout",
     "output_type": "stream",
     "text": [
      "agrregate_evaluate results list length is  2\n",
      "server round is  4\n",
      "loss is  0.20510053634643555\n"
     ]
    },
    {
     "name": "stderr",
     "output_type": "stream",
     "text": [
      "DEBUG flwr 2023-08-31 22:45:40,977 | server.py:236 | fit_round 5 received 2 results and 0 failures\n",
      "DEBUG flwr 2023-08-31 22:45:40,995 | server.py:173 | evaluate_round 5: strategy sampled 2 clients (out of 3)\n"
     ]
    },
    {
     "name": "stdout",
     "output_type": "stream",
     "text": [
      "agrregate_fit results list length is  2\n",
      "Saving round 5 aggregated_parameters...\n"
     ]
    },
    {
     "name": "stderr",
     "output_type": "stream",
     "text": [
      "DEBUG flwr 2023-08-31 22:45:41,222 | server.py:187 | evaluate_round 5 received 2 results and 0 failures\n",
      "DEBUG flwr 2023-08-31 22:45:41,225 | server.py:222 | fit_round 6: strategy sampled 2 clients (out of 3)\n"
     ]
    },
    {
     "name": "stdout",
     "output_type": "stream",
     "text": [
      "agrregate_evaluate results list length is  2\n",
      "server round is  5\n",
      "loss is  0.1867547631263733\n"
     ]
    },
    {
     "name": "stderr",
     "output_type": "stream",
     "text": [
      "DEBUG flwr 2023-08-31 22:45:54,004 | server.py:236 | fit_round 6 received 2 results and 0 failures\n",
      "DEBUG flwr 2023-08-31 22:45:54,029 | server.py:173 | evaluate_round 6: strategy sampled 2 clients (out of 3)\n"
     ]
    },
    {
     "name": "stdout",
     "output_type": "stream",
     "text": [
      "agrregate_fit results list length is  2\n",
      "Saving round 6 aggregated_parameters...\n"
     ]
    },
    {
     "name": "stderr",
     "output_type": "stream",
     "text": [
      "DEBUG flwr 2023-08-31 22:45:54,287 | server.py:187 | evaluate_round 6 received 2 results and 0 failures\n",
      "DEBUG flwr 2023-08-31 22:45:54,290 | server.py:222 | fit_round 7: strategy sampled 2 clients (out of 3)\n"
     ]
    },
    {
     "name": "stdout",
     "output_type": "stream",
     "text": [
      "agrregate_evaluate results list length is  2\n",
      "server round is  6\n",
      "loss is  0.17268085479736328\n"
     ]
    },
    {
     "name": "stderr",
     "output_type": "stream",
     "text": [
      "DEBUG flwr 2023-08-31 22:46:11,277 | server.py:236 | fit_round 7 received 2 results and 0 failures\n",
      "DEBUG flwr 2023-08-31 22:46:11,307 | server.py:173 | evaluate_round 7: strategy sampled 2 clients (out of 3)\n"
     ]
    },
    {
     "name": "stdout",
     "output_type": "stream",
     "text": [
      "agrregate_fit results list length is  2\n",
      "Saving round 7 aggregated_parameters...\n"
     ]
    },
    {
     "name": "stderr",
     "output_type": "stream",
     "text": [
      "DEBUG flwr 2023-08-31 22:46:11,575 | server.py:187 | evaluate_round 7 received 2 results and 0 failures\n",
      "DEBUG flwr 2023-08-31 22:46:11,578 | server.py:222 | fit_round 8: strategy sampled 2 clients (out of 3)\n"
     ]
    },
    {
     "name": "stdout",
     "output_type": "stream",
     "text": [
      "agrregate_evaluate results list length is  2\n",
      "server round is  7\n",
      "loss is  0.1675434410572052\n"
     ]
    },
    {
     "name": "stderr",
     "output_type": "stream",
     "text": [
      "DEBUG flwr 2023-08-31 22:46:24,730 | server.py:236 | fit_round 8 received 2 results and 0 failures\n",
      "DEBUG flwr 2023-08-31 22:46:24,754 | server.py:173 | evaluate_round 8: strategy sampled 2 clients (out of 3)\n"
     ]
    },
    {
     "name": "stdout",
     "output_type": "stream",
     "text": [
      "agrregate_fit results list length is  2\n",
      "Saving round 8 aggregated_parameters...\n"
     ]
    },
    {
     "name": "stderr",
     "output_type": "stream",
     "text": [
      "DEBUG flwr 2023-08-31 22:46:25,018 | server.py:187 | evaluate_round 8 received 2 results and 0 failures\n",
      "DEBUG flwr 2023-08-31 22:46:25,021 | server.py:222 | fit_round 9: strategy sampled 2 clients (out of 3)\n"
     ]
    },
    {
     "name": "stdout",
     "output_type": "stream",
     "text": [
      "agrregate_evaluate results list length is  2\n",
      "server round is  8\n",
      "loss is  0.1594303846359253\n"
     ]
    },
    {
     "name": "stderr",
     "output_type": "stream",
     "text": [
      "DEBUG flwr 2023-08-31 22:46:36,330 | server.py:236 | fit_round 9 received 2 results and 0 failures\n",
      "DEBUG flwr 2023-08-31 22:46:36,349 | server.py:173 | evaluate_round 9: strategy sampled 2 clients (out of 3)\n"
     ]
    },
    {
     "name": "stdout",
     "output_type": "stream",
     "text": [
      "agrregate_fit results list length is  2\n",
      "Saving round 9 aggregated_parameters...\n"
     ]
    },
    {
     "name": "stderr",
     "output_type": "stream",
     "text": [
      "DEBUG flwr 2023-08-31 22:46:36,541 | server.py:187 | evaluate_round 9 received 2 results and 0 failures\n",
      "DEBUG flwr 2023-08-31 22:46:36,542 | server.py:222 | fit_round 10: strategy sampled 2 clients (out of 3)\n"
     ]
    },
    {
     "name": "stdout",
     "output_type": "stream",
     "text": [
      "agrregate_evaluate results list length is  2\n",
      "server round is  9\n",
      "loss is  0.16640695929527283\n"
     ]
    },
    {
     "name": "stderr",
     "output_type": "stream",
     "text": [
      "DEBUG flwr 2023-08-31 22:46:49,212 | server.py:236 | fit_round 10 received 2 results and 0 failures\n",
      "DEBUG flwr 2023-08-31 22:46:49,231 | server.py:173 | evaluate_round 10: strategy sampled 2 clients (out of 3)\n",
      "DEBUG flwr 2023-08-31 22:46:49,406 | server.py:187 | evaluate_round 10 received 2 results and 0 failures\n"
     ]
    },
    {
     "name": "stdout",
     "output_type": "stream",
     "text": [
      "agrregate_fit results list length is  2\n",
      "Saving round 10 aggregated_parameters...\n"
     ]
    },
    {
     "name": "stderr",
     "output_type": "stream",
     "text": [
      "DEBUG flwr 2023-08-31 22:46:49,409 | server.py:222 | fit_round 11: strategy sampled 2 clients (out of 3)\n"
     ]
    },
    {
     "name": "stdout",
     "output_type": "stream",
     "text": [
      "agrregate_evaluate results list length is  2\n",
      "server round is  10\n",
      "loss is  0.1612403690814972\n"
     ]
    },
    {
     "name": "stderr",
     "output_type": "stream",
     "text": [
      "DEBUG flwr 2023-08-31 22:47:01,205 | server.py:236 | fit_round 11 received 2 results and 0 failures\n",
      "DEBUG flwr 2023-08-31 22:47:01,228 | server.py:173 | evaluate_round 11: strategy sampled 2 clients (out of 3)\n"
     ]
    },
    {
     "name": "stdout",
     "output_type": "stream",
     "text": [
      "agrregate_fit results list length is  2\n",
      "Saving round 11 aggregated_parameters...\n"
     ]
    },
    {
     "name": "stderr",
     "output_type": "stream",
     "text": [
      "DEBUG flwr 2023-08-31 22:47:01,462 | server.py:187 | evaluate_round 11 received 2 results and 0 failures\n",
      "DEBUG flwr 2023-08-31 22:47:01,466 | server.py:222 | fit_round 12: strategy sampled 2 clients (out of 3)\n"
     ]
    },
    {
     "name": "stdout",
     "output_type": "stream",
     "text": [
      "agrregate_evaluate results list length is  2\n",
      "server round is  11\n",
      "loss is  0.15690937638282776\n"
     ]
    },
    {
     "name": "stderr",
     "output_type": "stream",
     "text": [
      "DEBUG flwr 2023-08-31 22:47:20,120 | server.py:236 | fit_round 12 received 2 results and 0 failures\n",
      "DEBUG flwr 2023-08-31 22:47:20,156 | server.py:173 | evaluate_round 12: strategy sampled 2 clients (out of 3)\n"
     ]
    },
    {
     "name": "stdout",
     "output_type": "stream",
     "text": [
      "agrregate_fit results list length is  2\n",
      "Saving round 12 aggregated_parameters...\n"
     ]
    },
    {
     "name": "stderr",
     "output_type": "stream",
     "text": [
      "DEBUG flwr 2023-08-31 22:47:20,534 | server.py:187 | evaluate_round 12 received 2 results and 0 failures\n",
      "DEBUG flwr 2023-08-31 22:47:20,538 | server.py:222 | fit_round 13: strategy sampled 2 clients (out of 3)\n"
     ]
    },
    {
     "name": "stdout",
     "output_type": "stream",
     "text": [
      "agrregate_evaluate results list length is  2\n",
      "server round is  12\n",
      "loss is  0.15295280516147614\n"
     ]
    },
    {
     "name": "stderr",
     "output_type": "stream",
     "text": [
      "DEBUG flwr 2023-08-31 22:47:40,622 | server.py:236 | fit_round 13 received 2 results and 0 failures\n",
      "DEBUG flwr 2023-08-31 22:47:40,648 | server.py:173 | evaluate_round 13: strategy sampled 2 clients (out of 3)\n"
     ]
    },
    {
     "name": "stdout",
     "output_type": "stream",
     "text": [
      "agrregate_fit results list length is  2\n",
      "Saving round 13 aggregated_parameters...\n"
     ]
    },
    {
     "name": "stderr",
     "output_type": "stream",
     "text": [
      "DEBUG flwr 2023-08-31 22:47:40,964 | server.py:187 | evaluate_round 13 received 2 results and 0 failures\n",
      "DEBUG flwr 2023-08-31 22:47:40,968 | server.py:222 | fit_round 14: strategy sampled 2 clients (out of 3)\n"
     ]
    },
    {
     "name": "stdout",
     "output_type": "stream",
     "text": [
      "agrregate_evaluate results list length is  2\n",
      "server round is  13\n",
      "loss is  0.1547263115644455\n"
     ]
    },
    {
     "name": "stderr",
     "output_type": "stream",
     "text": [
      "DEBUG flwr 2023-08-31 22:47:54,142 | server.py:236 | fit_round 14 received 2 results and 0 failures\n",
      "DEBUG flwr 2023-08-31 22:47:54,171 | server.py:173 | evaluate_round 14: strategy sampled 2 clients (out of 3)\n"
     ]
    },
    {
     "name": "stdout",
     "output_type": "stream",
     "text": [
      "agrregate_fit results list length is  2\n",
      "Saving round 14 aggregated_parameters...\n"
     ]
    },
    {
     "name": "stderr",
     "output_type": "stream",
     "text": [
      "DEBUG flwr 2023-08-31 22:47:54,475 | server.py:187 | evaluate_round 14 received 2 results and 0 failures\n",
      "DEBUG flwr 2023-08-31 22:47:54,478 | server.py:222 | fit_round 15: strategy sampled 2 clients (out of 3)\n"
     ]
    },
    {
     "name": "stdout",
     "output_type": "stream",
     "text": [
      "agrregate_evaluate results list length is  2\n",
      "server round is  14\n",
      "loss is  0.15328307449817657\n"
     ]
    },
    {
     "name": "stderr",
     "output_type": "stream",
     "text": [
      "DEBUG flwr 2023-08-31 22:48:07,065 | server.py:236 | fit_round 15 received 2 results and 0 failures\n",
      "DEBUG flwr 2023-08-31 22:48:07,086 | server.py:173 | evaluate_round 15: strategy sampled 2 clients (out of 3)\n"
     ]
    },
    {
     "name": "stdout",
     "output_type": "stream",
     "text": [
      "agrregate_fit results list length is  2\n",
      "Saving round 15 aggregated_parameters...\n"
     ]
    },
    {
     "name": "stderr",
     "output_type": "stream",
     "text": [
      "DEBUG flwr 2023-08-31 22:48:07,304 | server.py:187 | evaluate_round 15 received 2 results and 0 failures\n",
      "DEBUG flwr 2023-08-31 22:48:07,308 | server.py:222 | fit_round 16: strategy sampled 2 clients (out of 3)\n"
     ]
    },
    {
     "name": "stdout",
     "output_type": "stream",
     "text": [
      "agrregate_evaluate results list length is  2\n",
      "server round is  15\n",
      "loss is  0.1597450077533722\n"
     ]
    },
    {
     "name": "stderr",
     "output_type": "stream",
     "text": [
      "DEBUG flwr 2023-08-31 22:48:20,353 | server.py:236 | fit_round 16 received 2 results and 0 failures\n",
      "DEBUG flwr 2023-08-31 22:48:20,373 | server.py:173 | evaluate_round 16: strategy sampled 2 clients (out of 3)\n"
     ]
    },
    {
     "name": "stdout",
     "output_type": "stream",
     "text": [
      "agrregate_fit results list length is  2\n",
      "Saving round 16 aggregated_parameters...\n"
     ]
    },
    {
     "name": "stderr",
     "output_type": "stream",
     "text": [
      "DEBUG flwr 2023-08-31 22:48:20,617 | server.py:187 | evaluate_round 16 received 2 results and 0 failures\n",
      "DEBUG flwr 2023-08-31 22:48:20,620 | server.py:222 | fit_round 17: strategy sampled 2 clients (out of 3)\n"
     ]
    },
    {
     "name": "stdout",
     "output_type": "stream",
     "text": [
      "agrregate_evaluate results list length is  2\n",
      "server round is  16\n",
      "loss is  0.15594923496246338\n"
     ]
    },
    {
     "name": "stderr",
     "output_type": "stream",
     "text": [
      "DEBUG flwr 2023-08-31 22:48:32,863 | server.py:236 | fit_round 17 received 2 results and 0 failures\n",
      "DEBUG flwr 2023-08-31 22:48:32,897 | server.py:173 | evaluate_round 17: strategy sampled 2 clients (out of 3)\n"
     ]
    },
    {
     "name": "stdout",
     "output_type": "stream",
     "text": [
      "agrregate_fit results list length is  2\n",
      "Saving round 17 aggregated_parameters...\n"
     ]
    },
    {
     "name": "stderr",
     "output_type": "stream",
     "text": [
      "DEBUG flwr 2023-08-31 22:48:33,193 | server.py:187 | evaluate_round 17 received 2 results and 0 failures\n",
      "DEBUG flwr 2023-08-31 22:48:33,197 | server.py:222 | fit_round 18: strategy sampled 2 clients (out of 3)\n"
     ]
    },
    {
     "name": "stdout",
     "output_type": "stream",
     "text": [
      "agrregate_evaluate results list length is  2\n",
      "server round is  17\n",
      "loss is  0.15787489712238312\n"
     ]
    },
    {
     "name": "stderr",
     "output_type": "stream",
     "text": [
      "DEBUG flwr 2023-08-31 22:48:46,142 | server.py:236 | fit_round 18 received 2 results and 0 failures\n",
      "DEBUG flwr 2023-08-31 22:48:46,162 | server.py:173 | evaluate_round 18: strategy sampled 2 clients (out of 3)\n"
     ]
    },
    {
     "name": "stdout",
     "output_type": "stream",
     "text": [
      "agrregate_fit results list length is  2\n",
      "Saving round 18 aggregated_parameters...\n"
     ]
    },
    {
     "name": "stderr",
     "output_type": "stream",
     "text": [
      "DEBUG flwr 2023-08-31 22:48:46,466 | server.py:187 | evaluate_round 18 received 2 results and 0 failures\n",
      "DEBUG flwr 2023-08-31 22:48:46,469 | server.py:222 | fit_round 19: strategy sampled 2 clients (out of 3)\n"
     ]
    },
    {
     "name": "stdout",
     "output_type": "stream",
     "text": [
      "agrregate_evaluate results list length is  2\n",
      "server round is  18\n",
      "loss is  0.15765559673309326\n"
     ]
    },
    {
     "name": "stderr",
     "output_type": "stream",
     "text": [
      "DEBUG flwr 2023-08-31 22:48:57,521 | server.py:236 | fit_round 19 received 2 results and 0 failures\n",
      "DEBUG flwr 2023-08-31 22:48:57,543 | server.py:173 | evaluate_round 19: strategy sampled 2 clients (out of 3)\n"
     ]
    },
    {
     "name": "stdout",
     "output_type": "stream",
     "text": [
      "agrregate_fit results list length is  2\n",
      "Saving round 19 aggregated_parameters...\n"
     ]
    },
    {
     "name": "stderr",
     "output_type": "stream",
     "text": [
      "DEBUG flwr 2023-08-31 22:48:57,764 | server.py:187 | evaluate_round 19 received 2 results and 0 failures\n",
      "DEBUG flwr 2023-08-31 22:48:57,765 | server.py:222 | fit_round 20: strategy sampled 2 clients (out of 3)\n"
     ]
    },
    {
     "name": "stdout",
     "output_type": "stream",
     "text": [
      "agrregate_evaluate results list length is  2\n",
      "server round is  19\n",
      "loss is  0.16034583747386932\n"
     ]
    },
    {
     "name": "stderr",
     "output_type": "stream",
     "text": [
      "DEBUG flwr 2023-08-31 22:49:10,145 | server.py:236 | fit_round 20 received 2 results and 0 failures\n",
      "DEBUG flwr 2023-08-31 22:49:10,168 | server.py:173 | evaluate_round 20: strategy sampled 2 clients (out of 3)\n"
     ]
    },
    {
     "name": "stdout",
     "output_type": "stream",
     "text": [
      "agrregate_fit results list length is  2\n",
      "Saving round 20 aggregated_parameters...\n"
     ]
    },
    {
     "name": "stderr",
     "output_type": "stream",
     "text": [
      "DEBUG flwr 2023-08-31 22:49:10,400 | server.py:187 | evaluate_round 20 received 2 results and 0 failures\n",
      "DEBUG flwr 2023-08-31 22:49:10,403 | server.py:222 | fit_round 21: strategy sampled 2 clients (out of 3)\n"
     ]
    },
    {
     "name": "stdout",
     "output_type": "stream",
     "text": [
      "agrregate_evaluate results list length is  2\n",
      "server round is  20\n",
      "loss is  0.15215139091014862\n"
     ]
    },
    {
     "name": "stderr",
     "output_type": "stream",
     "text": [
      "DEBUG flwr 2023-08-31 22:49:20,473 | server.py:236 | fit_round 21 received 2 results and 0 failures\n",
      "DEBUG flwr 2023-08-31 22:49:20,492 | server.py:173 | evaluate_round 21: strategy sampled 2 clients (out of 3)\n",
      "DEBUG flwr 2023-08-31 22:49:20,684 | server.py:187 | evaluate_round 21 received 2 results and 0 failures\n"
     ]
    },
    {
     "name": "stdout",
     "output_type": "stream",
     "text": [
      "agrregate_fit results list length is  2\n",
      "Saving round 21 aggregated_parameters...\n"
     ]
    },
    {
     "name": "stderr",
     "output_type": "stream",
     "text": [
      "DEBUG flwr 2023-08-31 22:49:20,686 | server.py:222 | fit_round 22: strategy sampled 2 clients (out of 3)\n"
     ]
    },
    {
     "name": "stdout",
     "output_type": "stream",
     "text": [
      "agrregate_evaluate results list length is  2\n",
      "server round is  21\n",
      "loss is  0.15781041979789734\n"
     ]
    },
    {
     "name": "stderr",
     "output_type": "stream",
     "text": [
      "DEBUG flwr 2023-08-31 22:49:30,787 | server.py:236 | fit_round 22 received 2 results and 0 failures\n",
      "DEBUG flwr 2023-08-31 22:49:30,815 | server.py:173 | evaluate_round 22: strategy sampled 2 clients (out of 3)\n"
     ]
    },
    {
     "name": "stdout",
     "output_type": "stream",
     "text": [
      "agrregate_fit results list length is  2\n",
      "Saving round 22 aggregated_parameters...\n"
     ]
    },
    {
     "name": "stderr",
     "output_type": "stream",
     "text": [
      "DEBUG flwr 2023-08-31 22:49:31,311 | server.py:187 | evaluate_round 22 received 2 results and 0 failures\n",
      "DEBUG flwr 2023-08-31 22:49:31,314 | server.py:222 | fit_round 23: strategy sampled 2 clients (out of 3)\n"
     ]
    },
    {
     "name": "stdout",
     "output_type": "stream",
     "text": [
      "agrregate_evaluate results list length is  2\n",
      "server round is  22\n",
      "loss is  0.15326842665672302\n"
     ]
    },
    {
     "name": "stderr",
     "output_type": "stream",
     "text": [
      "DEBUG flwr 2023-08-31 22:49:43,957 | server.py:236 | fit_round 23 received 2 results and 0 failures\n",
      "DEBUG flwr 2023-08-31 22:49:43,999 | server.py:173 | evaluate_round 23: strategy sampled 2 clients (out of 3)\n"
     ]
    },
    {
     "name": "stdout",
     "output_type": "stream",
     "text": [
      "agrregate_fit results list length is  2\n",
      "Saving round 23 aggregated_parameters...\n"
     ]
    },
    {
     "name": "stderr",
     "output_type": "stream",
     "text": [
      "DEBUG flwr 2023-08-31 22:49:44,353 | server.py:187 | evaluate_round 23 received 2 results and 0 failures\n",
      "DEBUG flwr 2023-08-31 22:49:44,357 | server.py:222 | fit_round 24: strategy sampled 2 clients (out of 3)\n"
     ]
    },
    {
     "name": "stdout",
     "output_type": "stream",
     "text": [
      "agrregate_evaluate results list length is  2\n",
      "server round is  23\n",
      "loss is  0.1556898057460785\n"
     ]
    },
    {
     "name": "stderr",
     "output_type": "stream",
     "text": [
      "DEBUG flwr 2023-08-31 22:49:56,090 | server.py:236 | fit_round 24 received 2 results and 0 failures\n",
      "DEBUG flwr 2023-08-31 22:49:56,109 | server.py:173 | evaluate_round 24: strategy sampled 2 clients (out of 3)\n"
     ]
    },
    {
     "name": "stdout",
     "output_type": "stream",
     "text": [
      "agrregate_fit results list length is  2\n",
      "Saving round 24 aggregated_parameters...\n"
     ]
    },
    {
     "name": "stderr",
     "output_type": "stream",
     "text": [
      "DEBUG flwr 2023-08-31 22:49:56,313 | server.py:187 | evaluate_round 24 received 2 results and 0 failures\n",
      "DEBUG flwr 2023-08-31 22:49:56,316 | server.py:222 | fit_round 25: strategy sampled 2 clients (out of 3)\n"
     ]
    },
    {
     "name": "stdout",
     "output_type": "stream",
     "text": [
      "agrregate_evaluate results list length is  2\n",
      "server round is  24\n",
      "loss is  0.153313547372818\n"
     ]
    },
    {
     "name": "stderr",
     "output_type": "stream",
     "text": [
      "DEBUG flwr 2023-08-31 22:50:05,785 | server.py:236 | fit_round 25 received 2 results and 0 failures\n",
      "DEBUG flwr 2023-08-31 22:50:05,808 | server.py:173 | evaluate_round 25: strategy sampled 2 clients (out of 3)\n"
     ]
    },
    {
     "name": "stdout",
     "output_type": "stream",
     "text": [
      "agrregate_fit results list length is  2\n",
      "Saving round 25 aggregated_parameters...\n"
     ]
    },
    {
     "name": "stderr",
     "output_type": "stream",
     "text": [
      "DEBUG flwr 2023-08-31 22:50:06,074 | server.py:187 | evaluate_round 25 received 2 results and 0 failures\n",
      "DEBUG flwr 2023-08-31 22:50:06,077 | server.py:222 | fit_round 26: strategy sampled 2 clients (out of 3)\n"
     ]
    },
    {
     "name": "stdout",
     "output_type": "stream",
     "text": [
      "agrregate_evaluate results list length is  2\n",
      "server round is  25\n",
      "loss is  0.1541467010974884\n"
     ]
    },
    {
     "name": "stderr",
     "output_type": "stream",
     "text": [
      "DEBUG flwr 2023-08-31 22:50:17,421 | server.py:236 | fit_round 26 received 2 results and 0 failures\n",
      "DEBUG flwr 2023-08-31 22:50:17,443 | server.py:173 | evaluate_round 26: strategy sampled 2 clients (out of 3)\n"
     ]
    },
    {
     "name": "stdout",
     "output_type": "stream",
     "text": [
      "agrregate_fit results list length is  2\n",
      "Saving round 26 aggregated_parameters...\n"
     ]
    },
    {
     "name": "stderr",
     "output_type": "stream",
     "text": [
      "DEBUG flwr 2023-08-31 22:50:17,737 | server.py:187 | evaluate_round 26 received 2 results and 0 failures\n",
      "DEBUG flwr 2023-08-31 22:50:17,740 | server.py:222 | fit_round 27: strategy sampled 2 clients (out of 3)\n"
     ]
    },
    {
     "name": "stdout",
     "output_type": "stream",
     "text": [
      "agrregate_evaluate results list length is  2\n",
      "server round is  26\n",
      "loss is  0.15714582800865173\n"
     ]
    },
    {
     "name": "stderr",
     "output_type": "stream",
     "text": [
      "DEBUG flwr 2023-08-31 22:50:28,860 | server.py:236 | fit_round 27 received 2 results and 0 failures\n",
      "DEBUG flwr 2023-08-31 22:50:28,887 | server.py:173 | evaluate_round 27: strategy sampled 2 clients (out of 3)\n"
     ]
    },
    {
     "name": "stdout",
     "output_type": "stream",
     "text": [
      "agrregate_fit results list length is  2\n",
      "Saving round 27 aggregated_parameters...\n"
     ]
    },
    {
     "name": "stderr",
     "output_type": "stream",
     "text": [
      "DEBUG flwr 2023-08-31 22:50:29,142 | server.py:187 | evaluate_round 27 received 2 results and 0 failures\n",
      "DEBUG flwr 2023-08-31 22:50:29,144 | server.py:222 | fit_round 28: strategy sampled 2 clients (out of 3)\n"
     ]
    },
    {
     "name": "stdout",
     "output_type": "stream",
     "text": [
      "agrregate_evaluate results list length is  2\n",
      "server round is  27\n",
      "loss is  0.15353839099407196\n"
     ]
    },
    {
     "name": "stderr",
     "output_type": "stream",
     "text": [
      "DEBUG flwr 2023-08-31 22:50:41,257 | server.py:236 | fit_round 28 received 2 results and 0 failures\n",
      "DEBUG flwr 2023-08-31 22:50:41,278 | server.py:173 | evaluate_round 28: strategy sampled 2 clients (out of 3)\n"
     ]
    },
    {
     "name": "stdout",
     "output_type": "stream",
     "text": [
      "agrregate_fit results list length is  2\n",
      "Saving round 28 aggregated_parameters...\n"
     ]
    },
    {
     "name": "stderr",
     "output_type": "stream",
     "text": [
      "DEBUG flwr 2023-08-31 22:50:41,533 | server.py:187 | evaluate_round 28 received 2 results and 0 failures\n",
      "DEBUG flwr 2023-08-31 22:50:41,536 | server.py:222 | fit_round 29: strategy sampled 2 clients (out of 3)\n"
     ]
    },
    {
     "name": "stdout",
     "output_type": "stream",
     "text": [
      "agrregate_evaluate results list length is  2\n",
      "server round is  28\n",
      "loss is  0.15333425998687744\n"
     ]
    },
    {
     "name": "stderr",
     "output_type": "stream",
     "text": [
      "DEBUG flwr 2023-08-31 22:50:56,084 | server.py:236 | fit_round 29 received 2 results and 0 failures\n",
      "DEBUG flwr 2023-08-31 22:50:56,122 | server.py:173 | evaluate_round 29: strategy sampled 2 clients (out of 3)\n"
     ]
    },
    {
     "name": "stdout",
     "output_type": "stream",
     "text": [
      "agrregate_fit results list length is  2\n",
      "Saving round 29 aggregated_parameters...\n"
     ]
    },
    {
     "name": "stderr",
     "output_type": "stream",
     "text": [
      "DEBUG flwr 2023-08-31 22:50:56,677 | server.py:187 | evaluate_round 29 received 2 results and 0 failures\n",
      "DEBUG flwr 2023-08-31 22:50:56,681 | server.py:222 | fit_round 30: strategy sampled 2 clients (out of 3)\n"
     ]
    },
    {
     "name": "stdout",
     "output_type": "stream",
     "text": [
      "agrregate_evaluate results list length is  2\n",
      "server round is  29\n",
      "loss is  0.15783073008060455\n"
     ]
    },
    {
     "name": "stderr",
     "output_type": "stream",
     "text": [
      "DEBUG flwr 2023-08-31 22:51:20,400 | server.py:236 | fit_round 30 received 2 results and 0 failures\n",
      "DEBUG flwr 2023-08-31 22:51:20,426 | server.py:173 | evaluate_round 30: strategy sampled 2 clients (out of 3)\n"
     ]
    },
    {
     "name": "stdout",
     "output_type": "stream",
     "text": [
      "agrregate_fit results list length is  2\n",
      "Saving round 30 aggregated_parameters...\n"
     ]
    },
    {
     "name": "stderr",
     "output_type": "stream",
     "text": [
      "DEBUG flwr 2023-08-31 22:51:20,705 | server.py:187 | evaluate_round 30 received 2 results and 0 failures\n",
      "INFO flwr 2023-08-31 22:51:20,707 | server.py:153 | FL finished in 403.66309550000005\n",
      "INFO flwr 2023-08-31 22:51:20,708 | app.py:225 | app_fit: losses_distributed [(1, 0.2588854730129242), (2, 0.2384224683046341), (3, 0.22131051123142242), (4, 0.20510053634643555), (5, 0.1867547631263733), (6, 0.17268085479736328), (7, 0.1675434410572052), (8, 0.1594303846359253), (9, 0.16640695929527283), (10, 0.1612403690814972), (11, 0.15690937638282776), (12, 0.15295280516147614), (13, 0.1547263115644455), (14, 0.15328307449817657), (15, 0.1597450077533722), (16, 0.15594923496246338), (17, 0.15787489712238312), (18, 0.15765559673309326), (19, 0.16034583747386932), (20, 0.15215139091014862), (21, 0.15781041979789734), (22, 0.15326842665672302), (23, 0.1556898057460785), (24, 0.153313547372818), (25, 0.1541467010974884), (26, 0.15714582800865173), (27, 0.15353839099407196), (28, 0.15333425998687744), (29, 0.15783073008060455), (30, 0.15758877992630005)]\n",
      "INFO flwr 2023-08-31 22:51:20,711 | app.py:226 | app_fit: metrics_distributed_fit {}\n",
      "INFO flwr 2023-08-31 22:51:20,715 | app.py:227 | app_fit: metrics_distributed {'mse': [(1, 0.5177709460258484), (2, 0.4768449366092682), (3, 0.44262102246284485), (4, 0.4102010726928711), (5, 0.3735095262527466), (6, 0.34536170959472656), (7, 0.3350868821144104), (8, 0.3188607692718506), (9, 0.33281391859054565), (10, 0.3224807381629944), (11, 0.3138187527656555), (12, 0.30590561032295227), (13, 0.309452623128891), (14, 0.30656614899635315), (15, 0.3194900155067444), (16, 0.31189846992492676), (17, 0.31574979424476624), (18, 0.3153111934661865), (19, 0.32069167494773865), (20, 0.30430278182029724), (21, 0.3156208395957947), (22, 0.30653685331344604), (23, 0.311379611492157), (24, 0.306627094745636), (25, 0.3082934021949768), (26, 0.31429165601730347), (27, 0.3070767819881439), (28, 0.3066685199737549), (29, 0.3156614601612091), (30, 0.3151775598526001)]}\n",
      "INFO flwr 2023-08-31 22:51:20,718 | app.py:228 | app_fit: losses_centralized []\n",
      "INFO flwr 2023-08-31 22:51:20,719 | app.py:229 | app_fit: metrics_centralized {}\n"
     ]
    },
    {
     "name": "stdout",
     "output_type": "stream",
     "text": [
      "agrregate_evaluate results list length is  2\n",
      "server round is  30\n",
      "loss is  0.15758877992630005\n",
      "History (loss, distributed):\n",
      "\tround 1: 0.2588854730129242\n",
      "\tround 2: 0.2384224683046341\n",
      "\tround 3: 0.22131051123142242\n",
      "\tround 4: 0.20510053634643555\n",
      "\tround 5: 0.1867547631263733\n",
      "\tround 6: 0.17268085479736328\n",
      "\tround 7: 0.1675434410572052\n",
      "\tround 8: 0.1594303846359253\n",
      "\tround 9: 0.16640695929527283\n",
      "\tround 10: 0.1612403690814972\n",
      "\tround 11: 0.15690937638282776\n",
      "\tround 12: 0.15295280516147614\n",
      "\tround 13: 0.1547263115644455\n",
      "\tround 14: 0.15328307449817657\n",
      "\tround 15: 0.1597450077533722\n",
      "\tround 16: 0.15594923496246338\n",
      "\tround 17: 0.15787489712238312\n",
      "\tround 18: 0.15765559673309326\n",
      "\tround 19: 0.16034583747386932\n",
      "\tround 20: 0.15215139091014862\n",
      "\tround 21: 0.15781041979789734\n",
      "\tround 22: 0.15326842665672302\n",
      "\tround 23: 0.1556898057460785\n",
      "\tround 24: 0.153313547372818\n",
      "\tround 25: 0.1541467010974884\n",
      "\tround 26: 0.15714582800865173\n",
      "\tround 27: 0.15353839099407196\n",
      "\tround 28: 0.15333425998687744\n",
      "\tround 29: 0.15783073008060455\n",
      "\tround 30: 0.15758877992630005\n",
      "History (metrics, distributed, evaluate):\n",
      "{'mse': [(1, 0.5177709460258484), (2, 0.4768449366092682), (3, 0.44262102246284485), (4, 0.4102010726928711), (5, 0.3735095262527466), (6, 0.34536170959472656), (7, 0.3350868821144104), (8, 0.3188607692718506), (9, 0.33281391859054565), (10, 0.3224807381629944), (11, 0.3138187527656555), (12, 0.30590561032295227), (13, 0.309452623128891), (14, 0.30656614899635315), (15, 0.3194900155067444), (16, 0.31189846992492676), (17, 0.31574979424476624), (18, 0.3153111934661865), (19, 0.32069167494773865), (20, 0.30430278182029724), (21, 0.3156208395957947), (22, 0.30653685331344604), (23, 0.311379611492157), (24, 0.306627094745636), (25, 0.3082934021949768), (26, 0.31429165601730347), (27, 0.3070767819881439), (28, 0.3066685199737549), (29, 0.3156614601612091), (30, 0.3151775598526001)]}\n",
      "[(1, 0.2588854730129242), (2, 0.2384224683046341), (3, 0.22131051123142242), (4, 0.20510053634643555), (5, 0.1867547631263733), (6, 0.17268085479736328), (7, 0.1675434410572052), (8, 0.1594303846359253), (9, 0.16640695929527283), (10, 0.1612403690814972), (11, 0.15690937638282776), (12, 0.15295280516147614), (13, 0.1547263115644455), (14, 0.15328307449817657), (15, 0.1597450077533722), (16, 0.15594923496246338), (17, 0.15787489712238312), (18, 0.15765559673309326), (19, 0.16034583747386932), (20, 0.15215139091014862), (21, 0.15781041979789734), (22, 0.15326842665672302), (23, 0.1556898057460785), (24, 0.153313547372818), (25, 0.1541467010974884), (26, 0.15714582800865173), (27, 0.15353839099407196), (28, 0.15333425998687744), (29, 0.15783073008060455), (30, 0.15758877992630005)]\n",
      "0.8305143243556463\n",
      "Fold 2:\n",
      "splitting [0.34, 0.33, 0.33]\n",
      "time 0:07:13.406703\n",
      "mse [0.15758878]\n",
      "auc [0.8305143243556463]\n"
     ]
    }
   ],
   "source": [
    "# num_rounds = [15]\n",
    "#\n",
    "splitting = [0.34, 0.33, 0.33]\n",
    "do_fl(splitting, num_rounds)"
   ],
   "metadata": {
    "collapsed": false,
    "ExecuteTime": {
     "end_time": "2023-08-31T21:51:20.916424400Z",
     "start_time": "2023-08-31T21:44:07.478801800Z"
    }
   }
  },
  {
   "cell_type": "code",
   "execution_count": 12,
   "outputs": [
    {
     "name": "stderr",
     "output_type": "stream",
     "text": [
      "C:\\Users\\Shuyao\\AppData\\Local\\Temp\\ipykernel_23376\\475339861.py:29: UserWarning: To copy construct from a tensor, it is recommended to use sourceTensor.clone().detach() or sourceTensor.clone().detach().requires_grad_(True), rather than torch.tensor(sourceTensor).\n",
      "  X_train = torch.tensor(X_train)\n",
      "C:\\Users\\Shuyao\\AppData\\Local\\Temp\\ipykernel_23376\\475339861.py:30: UserWarning: To copy construct from a tensor, it is recommended to use sourceTensor.clone().detach() or sourceTensor.clone().detach().requires_grad_(True), rather than torch.tensor(sourceTensor).\n",
      "  X_test = torch.tensor(X_test)\n",
      "C:\\Users\\Shuyao\\AppData\\Local\\Temp\\ipykernel_23376\\475339861.py:31: UserWarning: To copy construct from a tensor, it is recommended to use sourceTensor.clone().detach() or sourceTensor.clone().detach().requires_grad_(True), rather than torch.tensor(sourceTensor).\n",
      "  y_train = torch.reshape(torch.tensor(y_train), (-1, 1))\n",
      "C:\\Users\\Shuyao\\AppData\\Local\\Temp\\ipykernel_23376\\475339861.py:32: UserWarning: To copy construct from a tensor, it is recommended to use sourceTensor.clone().detach() or sourceTensor.clone().detach().requires_grad_(True), rather than torch.tensor(sourceTensor).\n",
      "  y_test = torch.reshape(torch.tensor(y_test), (-1, 1))\n",
      "INFO flwr 2023-08-31 23:06:16,189 | app.py:145 | Starting Flower simulation, config: ServerConfig(num_rounds=30, round_timeout=None)\n"
     ]
    },
    {
     "name": "stdout",
     "output_type": "stream",
     "text": [
      "Fold 1:\n",
      "x_test: cpu\n",
      "y_test: cpu\n",
      "30\n",
      "Client 0 trainset shape torch.Size([134560, 10])\n",
      "Client 1 trainset shape torch.Size([44706, 10])\n",
      "Client 2 trainset shape torch.Size([44694, 10])\n",
      "FL started training on cpu\n",
      "Number of available GPUs: 0\n"
     ]
    },
    {
     "name": "stderr",
     "output_type": "stream",
     "text": [
      "2023-08-31 23:06:30,204\tINFO worker.py:1627 -- Started a local Ray instance. View the dashboard at \u001B[1m\u001B[32m127.0.0.1:8270 \u001B[39m\u001B[22m\n",
      "INFO flwr 2023-08-31 23:06:42,446 | app.py:179 | Flower VCE: Ray initialized with resources: {'node:127.0.0.1': 1.0, 'memory': 1236450510.0, 'object_store_memory': 618225254.0, 'GPU': 1.0, 'CPU': 8.0}\n",
      "INFO flwr 2023-08-31 23:06:42,450 | server.py:89 | Initializing global parameters\n",
      "INFO flwr 2023-08-31 23:06:42,453 | server.py:276 | Requesting initial parameters from one random client\n",
      "INFO flwr 2023-08-31 23:06:47,890 | server.py:280 | Received initial parameters from one random client\n",
      "INFO flwr 2023-08-31 23:06:47,892 | server.py:91 | Evaluating initial parameters\n",
      "INFO flwr 2023-08-31 23:06:47,894 | server.py:104 | FL starting\n",
      "DEBUG flwr 2023-08-31 23:06:47,896 | server.py:222 | fit_round 1: strategy sampled 2 clients (out of 3)\n",
      "DEBUG flwr 2023-08-31 23:07:00,014 | server.py:236 | fit_round 1 received 2 results and 0 failures\n",
      "WARNING flwr 2023-08-31 23:07:00,025 | fedavg.py:242 | No fit_metrics_aggregation_fn provided\n",
      "DEBUG flwr 2023-08-31 23:07:00,037 | server.py:173 | evaluate_round 1: strategy sampled 2 clients (out of 3)\n"
     ]
    },
    {
     "name": "stdout",
     "output_type": "stream",
     "text": [
      "agrregate_fit results list length is  2\n",
      "Saving round 1 aggregated_parameters...\n"
     ]
    },
    {
     "name": "stderr",
     "output_type": "stream",
     "text": [
      "DEBUG flwr 2023-08-31 23:07:00,636 | server.py:187 | evaluate_round 1 received 2 results and 0 failures\n",
      "DEBUG flwr 2023-08-31 23:07:00,639 | server.py:222 | fit_round 2: strategy sampled 2 clients (out of 3)\n"
     ]
    },
    {
     "name": "stdout",
     "output_type": "stream",
     "text": [
      "agrregate_evaluate results list length is  2\n",
      "server round is  1\n",
      "loss is  0.22972756624221802\n"
     ]
    },
    {
     "name": "stderr",
     "output_type": "stream",
     "text": [
      "DEBUG flwr 2023-08-31 23:07:26,798 | server.py:236 | fit_round 2 received 2 results and 0 failures\n",
      "DEBUG flwr 2023-08-31 23:07:26,825 | server.py:173 | evaluate_round 2: strategy sampled 2 clients (out of 3)\n"
     ]
    },
    {
     "name": "stdout",
     "output_type": "stream",
     "text": [
      "agrregate_fit results list length is  2\n",
      "Saving round 2 aggregated_parameters...\n"
     ]
    },
    {
     "name": "stderr",
     "output_type": "stream",
     "text": [
      "DEBUG flwr 2023-08-31 23:07:27,161 | server.py:187 | evaluate_round 2 received 2 results and 0 failures\n",
      "DEBUG flwr 2023-08-31 23:07:27,162 | server.py:222 | fit_round 3: strategy sampled 2 clients (out of 3)\n"
     ]
    },
    {
     "name": "stdout",
     "output_type": "stream",
     "text": [
      "agrregate_evaluate results list length is  2\n",
      "server round is  2\n",
      "loss is  0.21736463904380798\n"
     ]
    },
    {
     "name": "stderr",
     "output_type": "stream",
     "text": [
      "DEBUG flwr 2023-08-31 23:07:40,124 | server.py:236 | fit_round 3 received 2 results and 0 failures\n",
      "DEBUG flwr 2023-08-31 23:07:40,137 | server.py:173 | evaluate_round 3: strategy sampled 2 clients (out of 3)\n",
      "DEBUG flwr 2023-08-31 23:07:40,290 | server.py:187 | evaluate_round 3 received 2 results and 0 failures\n",
      "DEBUG flwr 2023-08-31 23:07:40,291 | server.py:222 | fit_round 4: strategy sampled 2 clients (out of 3)\n"
     ]
    },
    {
     "name": "stdout",
     "output_type": "stream",
     "text": [
      "agrregate_fit results list length is  2\n",
      "Saving round 3 aggregated_parameters...\n",
      "agrregate_evaluate results list length is  2\n",
      "server round is  3\n",
      "loss is  0.1894512176513672\n"
     ]
    },
    {
     "name": "stderr",
     "output_type": "stream",
     "text": [
      "DEBUG flwr 2023-08-31 23:07:53,907 | server.py:236 | fit_round 4 received 2 results and 0 failures\n",
      "DEBUG flwr 2023-08-31 23:07:53,920 | server.py:173 | evaluate_round 4: strategy sampled 2 clients (out of 3)\n",
      "DEBUG flwr 2023-08-31 23:07:54,093 | server.py:187 | evaluate_round 4 received 2 results and 0 failures\n",
      "DEBUG flwr 2023-08-31 23:07:54,094 | server.py:222 | fit_round 5: strategy sampled 2 clients (out of 3)\n"
     ]
    },
    {
     "name": "stdout",
     "output_type": "stream",
     "text": [
      "agrregate_fit results list length is  2\n",
      "Saving round 4 aggregated_parameters...\n",
      "agrregate_evaluate results list length is  2\n",
      "server round is  4\n",
      "loss is  0.17257700860500336\n"
     ]
    },
    {
     "name": "stderr",
     "output_type": "stream",
     "text": [
      "DEBUG flwr 2023-08-31 23:08:06,675 | server.py:236 | fit_round 5 received 2 results and 0 failures\n",
      "DEBUG flwr 2023-08-31 23:08:06,694 | server.py:173 | evaluate_round 5: strategy sampled 2 clients (out of 3)\n",
      "DEBUG flwr 2023-08-31 23:08:06,852 | server.py:187 | evaluate_round 5 received 2 results and 0 failures\n",
      "DEBUG flwr 2023-08-31 23:08:06,853 | server.py:222 | fit_round 6: strategy sampled 2 clients (out of 3)\n"
     ]
    },
    {
     "name": "stdout",
     "output_type": "stream",
     "text": [
      "agrregate_fit results list length is  2\n",
      "Saving round 5 aggregated_parameters...\n",
      "agrregate_evaluate results list length is  2\n",
      "server round is  5\n",
      "loss is  0.16185404360294342\n"
     ]
    },
    {
     "name": "stderr",
     "output_type": "stream",
     "text": [
      "DEBUG flwr 2023-08-31 23:08:19,602 | server.py:236 | fit_round 6 received 2 results and 0 failures\n",
      "DEBUG flwr 2023-08-31 23:08:19,645 | server.py:173 | evaluate_round 6: strategy sampled 2 clients (out of 3)\n"
     ]
    },
    {
     "name": "stdout",
     "output_type": "stream",
     "text": [
      "agrregate_fit results list length is  2\n",
      "Saving round 6 aggregated_parameters...\n"
     ]
    },
    {
     "name": "stderr",
     "output_type": "stream",
     "text": [
      "DEBUG flwr 2023-08-31 23:08:20,045 | server.py:187 | evaluate_round 6 received 2 results and 0 failures\n",
      "DEBUG flwr 2023-08-31 23:08:20,051 | server.py:222 | fit_round 7: strategy sampled 2 clients (out of 3)\n"
     ]
    },
    {
     "name": "stdout",
     "output_type": "stream",
     "text": [
      "agrregate_evaluate results list length is  2\n",
      "server round is  6\n",
      "loss is  0.1616530418395996\n"
     ]
    },
    {
     "name": "stderr",
     "output_type": "stream",
     "text": [
      "DEBUG flwr 2023-08-31 23:08:26,621 | server.py:236 | fit_round 7 received 2 results and 0 failures\n",
      "DEBUG flwr 2023-08-31 23:08:26,634 | server.py:173 | evaluate_round 7: strategy sampled 2 clients (out of 3)\n",
      "DEBUG flwr 2023-08-31 23:08:26,787 | server.py:187 | evaluate_round 7 received 2 results and 0 failures\n",
      "DEBUG flwr 2023-08-31 23:08:26,789 | server.py:222 | fit_round 8: strategy sampled 2 clients (out of 3)\n"
     ]
    },
    {
     "name": "stdout",
     "output_type": "stream",
     "text": [
      "agrregate_fit results list length is  2\n",
      "Saving round 7 aggregated_parameters...\n",
      "agrregate_evaluate results list length is  2\n",
      "server round is  7\n",
      "loss is  0.1617799699306488\n"
     ]
    },
    {
     "name": "stderr",
     "output_type": "stream",
     "text": [
      "DEBUG flwr 2023-08-31 23:08:38,610 | server.py:236 | fit_round 8 received 2 results and 0 failures\n",
      "DEBUG flwr 2023-08-31 23:08:38,623 | server.py:173 | evaluate_round 8: strategy sampled 2 clients (out of 3)\n",
      "DEBUG flwr 2023-08-31 23:08:38,763 | server.py:187 | evaluate_round 8 received 2 results and 0 failures\n",
      "DEBUG flwr 2023-08-31 23:08:38,764 | server.py:222 | fit_round 9: strategy sampled 2 clients (out of 3)\n"
     ]
    },
    {
     "name": "stdout",
     "output_type": "stream",
     "text": [
      "agrregate_fit results list length is  2\n",
      "Saving round 8 aggregated_parameters...\n",
      "agrregate_evaluate results list length is  2\n",
      "server round is  8\n",
      "loss is  0.15744265913963318\n"
     ]
    },
    {
     "name": "stderr",
     "output_type": "stream",
     "text": [
      "DEBUG flwr 2023-08-31 23:08:43,177 | server.py:236 | fit_round 9 received 2 results and 0 failures\n",
      "DEBUG flwr 2023-08-31 23:08:43,210 | server.py:173 | evaluate_round 9: strategy sampled 2 clients (out of 3)\n"
     ]
    },
    {
     "name": "stdout",
     "output_type": "stream",
     "text": [
      "agrregate_fit results list length is  2\n",
      "Saving round 9 aggregated_parameters...\n"
     ]
    },
    {
     "name": "stderr",
     "output_type": "stream",
     "text": [
      "DEBUG flwr 2023-08-31 23:08:43,618 | server.py:187 | evaluate_round 9 received 2 results and 0 failures\n",
      "DEBUG flwr 2023-08-31 23:08:43,621 | server.py:222 | fit_round 10: strategy sampled 2 clients (out of 3)\n"
     ]
    },
    {
     "name": "stdout",
     "output_type": "stream",
     "text": [
      "agrregate_evaluate results list length is  2\n",
      "server round is  9\n",
      "loss is  0.16115237772464752\n"
     ]
    },
    {
     "name": "stderr",
     "output_type": "stream",
     "text": [
      "DEBUG flwr 2023-08-31 23:08:58,197 | server.py:236 | fit_round 10 received 2 results and 0 failures\n",
      "DEBUG flwr 2023-08-31 23:08:58,226 | server.py:173 | evaluate_round 10: strategy sampled 2 clients (out of 3)\n",
      "DEBUG flwr 2023-08-31 23:08:58,398 | server.py:187 | evaluate_round 10 received 2 results and 0 failures\n"
     ]
    },
    {
     "name": "stdout",
     "output_type": "stream",
     "text": [
      "agrregate_fit results list length is  2\n",
      "Saving round 10 aggregated_parameters...\n"
     ]
    },
    {
     "name": "stderr",
     "output_type": "stream",
     "text": [
      "DEBUG flwr 2023-08-31 23:08:58,399 | server.py:222 | fit_round 11: strategy sampled 2 clients (out of 3)\n"
     ]
    },
    {
     "name": "stdout",
     "output_type": "stream",
     "text": [
      "agrregate_evaluate results list length is  2\n",
      "server round is  10\n",
      "loss is  0.15916600823402405\n"
     ]
    },
    {
     "name": "stderr",
     "output_type": "stream",
     "text": [
      "DEBUG flwr 2023-08-31 23:09:10,634 | server.py:236 | fit_round 11 received 2 results and 0 failures\n",
      "DEBUG flwr 2023-08-31 23:09:10,646 | server.py:173 | evaluate_round 11: strategy sampled 2 clients (out of 3)\n",
      "DEBUG flwr 2023-08-31 23:09:10,790 | server.py:187 | evaluate_round 11 received 2 results and 0 failures\n",
      "DEBUG flwr 2023-08-31 23:09:10,791 | server.py:222 | fit_round 12: strategy sampled 2 clients (out of 3)\n"
     ]
    },
    {
     "name": "stdout",
     "output_type": "stream",
     "text": [
      "agrregate_fit results list length is  2\n",
      "Saving round 11 aggregated_parameters...\n",
      "agrregate_evaluate results list length is  2\n",
      "server round is  11\n",
      "loss is  0.15671899914741516\n"
     ]
    },
    {
     "name": "stderr",
     "output_type": "stream",
     "text": [
      "DEBUG flwr 2023-08-31 23:09:14,777 | server.py:236 | fit_round 12 received 2 results and 0 failures\n",
      "DEBUG flwr 2023-08-31 23:09:14,790 | server.py:173 | evaluate_round 12: strategy sampled 2 clients (out of 3)\n",
      "DEBUG flwr 2023-08-31 23:09:14,940 | server.py:187 | evaluate_round 12 received 2 results and 0 failures\n",
      "DEBUG flwr 2023-08-31 23:09:14,941 | server.py:222 | fit_round 13: strategy sampled 2 clients (out of 3)\n"
     ]
    },
    {
     "name": "stdout",
     "output_type": "stream",
     "text": [
      "agrregate_fit results list length is  2\n",
      "Saving round 12 aggregated_parameters...\n",
      "agrregate_evaluate results list length is  2\n",
      "server round is  12\n",
      "loss is  0.15876513719558716\n"
     ]
    },
    {
     "name": "stderr",
     "output_type": "stream",
     "text": [
      "DEBUG flwr 2023-08-31 23:09:26,120 | server.py:236 | fit_round 13 received 2 results and 0 failures\n",
      "DEBUG flwr 2023-08-31 23:09:26,135 | server.py:173 | evaluate_round 13: strategy sampled 2 clients (out of 3)\n",
      "DEBUG flwr 2023-08-31 23:09:26,300 | server.py:187 | evaluate_round 13 received 2 results and 0 failures\n",
      "DEBUG flwr 2023-08-31 23:09:26,302 | server.py:222 | fit_round 14: strategy sampled 2 clients (out of 3)\n"
     ]
    },
    {
     "name": "stdout",
     "output_type": "stream",
     "text": [
      "agrregate_fit results list length is  2\n",
      "Saving round 13 aggregated_parameters...\n",
      "agrregate_evaluate results list length is  2\n",
      "server round is  13\n",
      "loss is  0.1522688865661621\n"
     ]
    },
    {
     "name": "stderr",
     "output_type": "stream",
     "text": [
      "DEBUG flwr 2023-08-31 23:09:39,855 | server.py:236 | fit_round 14 received 2 results and 0 failures\n",
      "DEBUG flwr 2023-08-31 23:09:39,872 | server.py:173 | evaluate_round 14: strategy sampled 2 clients (out of 3)\n",
      "DEBUG flwr 2023-08-31 23:09:40,038 | server.py:187 | evaluate_round 14 received 2 results and 0 failures\n"
     ]
    },
    {
     "name": "stdout",
     "output_type": "stream",
     "text": [
      "agrregate_fit results list length is  2\n",
      "Saving round 14 aggregated_parameters...\n"
     ]
    },
    {
     "name": "stderr",
     "output_type": "stream",
     "text": [
      "DEBUG flwr 2023-08-31 23:09:40,039 | server.py:222 | fit_round 15: strategy sampled 2 clients (out of 3)\n"
     ]
    },
    {
     "name": "stdout",
     "output_type": "stream",
     "text": [
      "agrregate_evaluate results list length is  2\n",
      "server round is  14\n",
      "loss is  0.15219153463840485\n"
     ]
    },
    {
     "name": "stderr",
     "output_type": "stream",
     "text": [
      "DEBUG flwr 2023-08-31 23:09:51,916 | server.py:236 | fit_round 15 received 2 results and 0 failures\n",
      "DEBUG flwr 2023-08-31 23:09:51,930 | server.py:173 | evaluate_round 15: strategy sampled 2 clients (out of 3)\n",
      "DEBUG flwr 2023-08-31 23:09:52,096 | server.py:187 | evaluate_round 15 received 2 results and 0 failures\n",
      "DEBUG flwr 2023-08-31 23:09:52,097 | server.py:222 | fit_round 16: strategy sampled 2 clients (out of 3)\n"
     ]
    },
    {
     "name": "stdout",
     "output_type": "stream",
     "text": [
      "agrregate_fit results list length is  2\n",
      "Saving round 15 aggregated_parameters...\n",
      "agrregate_evaluate results list length is  2\n",
      "server round is  15\n",
      "loss is  0.1548018902540207\n"
     ]
    },
    {
     "name": "stderr",
     "output_type": "stream",
     "text": [
      "DEBUG flwr 2023-08-31 23:10:03,547 | server.py:236 | fit_round 16 received 2 results and 0 failures\n",
      "DEBUG flwr 2023-08-31 23:10:03,566 | server.py:173 | evaluate_round 16: strategy sampled 2 clients (out of 3)\n"
     ]
    },
    {
     "name": "stdout",
     "output_type": "stream",
     "text": [
      "agrregate_fit results list length is  2\n",
      "Saving round 16 aggregated_parameters...\n"
     ]
    },
    {
     "name": "stderr",
     "output_type": "stream",
     "text": [
      "DEBUG flwr 2023-08-31 23:10:03,782 | server.py:187 | evaluate_round 16 received 2 results and 0 failures\n",
      "DEBUG flwr 2023-08-31 23:10:03,784 | server.py:222 | fit_round 17: strategy sampled 2 clients (out of 3)\n"
     ]
    },
    {
     "name": "stdout",
     "output_type": "stream",
     "text": [
      "agrregate_evaluate results list length is  2\n",
      "server round is  16\n",
      "loss is  0.15936413407325745\n"
     ]
    },
    {
     "name": "stderr",
     "output_type": "stream",
     "text": [
      "DEBUG flwr 2023-08-31 23:10:16,095 | server.py:236 | fit_round 17 received 2 results and 0 failures\n",
      "DEBUG flwr 2023-08-31 23:10:16,109 | server.py:173 | evaluate_round 17: strategy sampled 2 clients (out of 3)\n",
      "DEBUG flwr 2023-08-31 23:10:16,257 | server.py:187 | evaluate_round 17 received 2 results and 0 failures\n",
      "DEBUG flwr 2023-08-31 23:10:16,258 | server.py:222 | fit_round 18: strategy sampled 2 clients (out of 3)\n"
     ]
    },
    {
     "name": "stdout",
     "output_type": "stream",
     "text": [
      "agrregate_fit results list length is  2\n",
      "Saving round 17 aggregated_parameters...\n",
      "agrregate_evaluate results list length is  2\n",
      "server round is  17\n",
      "loss is  0.1522296518087387\n"
     ]
    },
    {
     "name": "stderr",
     "output_type": "stream",
     "text": [
      "DEBUG flwr 2023-08-31 23:10:20,977 | server.py:236 | fit_round 18 received 2 results and 0 failures\n",
      "DEBUG flwr 2023-08-31 23:10:21,012 | server.py:173 | evaluate_round 18: strategy sampled 2 clients (out of 3)\n"
     ]
    },
    {
     "name": "stdout",
     "output_type": "stream",
     "text": [
      "agrregate_fit results list length is  2\n",
      "Saving round 18 aggregated_parameters...\n"
     ]
    },
    {
     "name": "stderr",
     "output_type": "stream",
     "text": [
      "DEBUG flwr 2023-08-31 23:10:21,262 | server.py:187 | evaluate_round 18 received 2 results and 0 failures\n",
      "DEBUG flwr 2023-08-31 23:10:21,265 | server.py:222 | fit_round 19: strategy sampled 2 clients (out of 3)\n"
     ]
    },
    {
     "name": "stdout",
     "output_type": "stream",
     "text": [
      "agrregate_evaluate results list length is  2\n",
      "server round is  18\n",
      "loss is  0.15975983440876007\n"
     ]
    },
    {
     "name": "stderr",
     "output_type": "stream",
     "text": [
      "DEBUG flwr 2023-08-31 23:10:34,192 | server.py:236 | fit_round 19 received 2 results and 0 failures\n",
      "DEBUG flwr 2023-08-31 23:10:34,205 | server.py:173 | evaluate_round 19: strategy sampled 2 clients (out of 3)\n",
      "DEBUG flwr 2023-08-31 23:10:34,349 | server.py:187 | evaluate_round 19 received 2 results and 0 failures\n",
      "DEBUG flwr 2023-08-31 23:10:34,350 | server.py:222 | fit_round 20: strategy sampled 2 clients (out of 3)\n"
     ]
    },
    {
     "name": "stdout",
     "output_type": "stream",
     "text": [
      "agrregate_fit results list length is  2\n",
      "Saving round 19 aggregated_parameters...\n",
      "agrregate_evaluate results list length is  2\n",
      "server round is  19\n",
      "loss is  0.15077784657478333\n"
     ]
    },
    {
     "name": "stderr",
     "output_type": "stream",
     "text": [
      "DEBUG flwr 2023-08-31 23:10:49,460 | server.py:236 | fit_round 20 received 2 results and 0 failures\n",
      "DEBUG flwr 2023-08-31 23:10:49,472 | server.py:173 | evaluate_round 20: strategy sampled 2 clients (out of 3)\n",
      "DEBUG flwr 2023-08-31 23:10:49,624 | server.py:187 | evaluate_round 20 received 2 results and 0 failures\n",
      "DEBUG flwr 2023-08-31 23:10:49,625 | server.py:222 | fit_round 21: strategy sampled 2 clients (out of 3)\n"
     ]
    },
    {
     "name": "stdout",
     "output_type": "stream",
     "text": [
      "agrregate_fit results list length is  2\n",
      "Saving round 20 aggregated_parameters...\n",
      "agrregate_evaluate results list length is  2\n",
      "server round is  20\n",
      "loss is  0.1554877907037735\n"
     ]
    },
    {
     "name": "stderr",
     "output_type": "stream",
     "text": [
      "DEBUG flwr 2023-08-31 23:11:02,019 | server.py:236 | fit_round 21 received 2 results and 0 failures\n",
      "DEBUG flwr 2023-08-31 23:11:02,033 | server.py:173 | evaluate_round 21: strategy sampled 2 clients (out of 3)\n"
     ]
    },
    {
     "name": "stdout",
     "output_type": "stream",
     "text": [
      "agrregate_fit results list length is  2\n",
      "Saving round 21 aggregated_parameters...\n"
     ]
    },
    {
     "name": "stderr",
     "output_type": "stream",
     "text": [
      "DEBUG flwr 2023-08-31 23:11:02,261 | server.py:187 | evaluate_round 21 received 2 results and 0 failures\n",
      "DEBUG flwr 2023-08-31 23:11:02,263 | server.py:222 | fit_round 22: strategy sampled 2 clients (out of 3)\n"
     ]
    },
    {
     "name": "stdout",
     "output_type": "stream",
     "text": [
      "agrregate_evaluate results list length is  2\n",
      "server round is  21\n",
      "loss is  0.15580305457115173\n"
     ]
    },
    {
     "name": "stderr",
     "output_type": "stream",
     "text": [
      "DEBUG flwr 2023-08-31 23:11:14,413 | server.py:236 | fit_round 22 received 2 results and 0 failures\n",
      "DEBUG flwr 2023-08-31 23:11:14,429 | server.py:173 | evaluate_round 22: strategy sampled 2 clients (out of 3)\n",
      "DEBUG flwr 2023-08-31 23:11:14,582 | server.py:187 | evaluate_round 22 received 2 results and 0 failures\n",
      "DEBUG flwr 2023-08-31 23:11:14,583 | server.py:222 | fit_round 23: strategy sampled 2 clients (out of 3)\n"
     ]
    },
    {
     "name": "stdout",
     "output_type": "stream",
     "text": [
      "agrregate_fit results list length is  2\n",
      "Saving round 22 aggregated_parameters...\n",
      "agrregate_evaluate results list length is  2\n",
      "server round is  22\n",
      "loss is  0.1514086276292801\n"
     ]
    },
    {
     "name": "stderr",
     "output_type": "stream",
     "text": [
      "DEBUG flwr 2023-08-31 23:11:27,689 | server.py:236 | fit_round 23 received 2 results and 0 failures\n",
      "DEBUG flwr 2023-08-31 23:11:27,701 | server.py:173 | evaluate_round 23: strategy sampled 2 clients (out of 3)\n",
      "DEBUG flwr 2023-08-31 23:11:27,867 | server.py:187 | evaluate_round 23 received 2 results and 0 failures\n"
     ]
    },
    {
     "name": "stdout",
     "output_type": "stream",
     "text": [
      "agrregate_fit results list length is  2\n",
      "Saving round 23 aggregated_parameters...\n"
     ]
    },
    {
     "name": "stderr",
     "output_type": "stream",
     "text": [
      "DEBUG flwr 2023-08-31 23:11:27,868 | server.py:222 | fit_round 24: strategy sampled 2 clients (out of 3)\n"
     ]
    },
    {
     "name": "stdout",
     "output_type": "stream",
     "text": [
      "agrregate_evaluate results list length is  2\n",
      "server round is  23\n",
      "loss is  0.15479691326618195\n"
     ]
    },
    {
     "name": "stderr",
     "output_type": "stream",
     "text": [
      "DEBUG flwr 2023-08-31 23:11:38,998 | server.py:236 | fit_round 24 received 2 results and 0 failures\n",
      "DEBUG flwr 2023-08-31 23:11:39,009 | server.py:173 | evaluate_round 24: strategy sampled 2 clients (out of 3)\n",
      "DEBUG flwr 2023-08-31 23:11:39,154 | server.py:187 | evaluate_round 24 received 2 results and 0 failures\n",
      "DEBUG flwr 2023-08-31 23:11:39,155 | server.py:222 | fit_round 25: strategy sampled 2 clients (out of 3)\n"
     ]
    },
    {
     "name": "stdout",
     "output_type": "stream",
     "text": [
      "agrregate_fit results list length is  2\n",
      "Saving round 24 aggregated_parameters...\n",
      "agrregate_evaluate results list length is  2\n",
      "server round is  24\n",
      "loss is  0.15527936816215515\n"
     ]
    },
    {
     "name": "stderr",
     "output_type": "stream",
     "text": [
      "DEBUG flwr 2023-08-31 23:11:43,348 | server.py:236 | fit_round 25 received 2 results and 0 failures\n",
      "DEBUG flwr 2023-08-31 23:11:43,364 | server.py:173 | evaluate_round 25: strategy sampled 2 clients (out of 3)\n",
      "DEBUG flwr 2023-08-31 23:11:43,537 | server.py:187 | evaluate_round 25 received 2 results and 0 failures\n"
     ]
    },
    {
     "name": "stdout",
     "output_type": "stream",
     "text": [
      "agrregate_fit results list length is  2\n",
      "Saving round 25 aggregated_parameters...\n"
     ]
    },
    {
     "name": "stderr",
     "output_type": "stream",
     "text": [
      "DEBUG flwr 2023-08-31 23:11:43,539 | server.py:222 | fit_round 26: strategy sampled 2 clients (out of 3)\n"
     ]
    },
    {
     "name": "stdout",
     "output_type": "stream",
     "text": [
      "agrregate_evaluate results list length is  2\n",
      "server round is  25\n",
      "loss is  0.15731364488601685\n"
     ]
    },
    {
     "name": "stderr",
     "output_type": "stream",
     "text": [
      "DEBUG flwr 2023-08-31 23:11:55,048 | server.py:236 | fit_round 26 received 2 results and 0 failures\n",
      "DEBUG flwr 2023-08-31 23:11:55,064 | server.py:173 | evaluate_round 26: strategy sampled 2 clients (out of 3)\n"
     ]
    },
    {
     "name": "stdout",
     "output_type": "stream",
     "text": [
      "agrregate_fit results list length is  2\n",
      "Saving round 26 aggregated_parameters...\n"
     ]
    },
    {
     "name": "stderr",
     "output_type": "stream",
     "text": [
      "DEBUG flwr 2023-08-31 23:11:55,290 | server.py:187 | evaluate_round 26 received 2 results and 0 failures\n",
      "DEBUG flwr 2023-08-31 23:11:55,291 | server.py:222 | fit_round 27: strategy sampled 2 clients (out of 3)\n"
     ]
    },
    {
     "name": "stdout",
     "output_type": "stream",
     "text": [
      "agrregate_evaluate results list length is  2\n",
      "server round is  26\n",
      "loss is  0.15348026156425476\n"
     ]
    },
    {
     "name": "stderr",
     "output_type": "stream",
     "text": [
      "DEBUG flwr 2023-08-31 23:11:59,942 | server.py:236 | fit_round 27 received 2 results and 0 failures\n",
      "DEBUG flwr 2023-08-31 23:11:59,961 | server.py:173 | evaluate_round 27: strategy sampled 2 clients (out of 3)\n"
     ]
    },
    {
     "name": "stdout",
     "output_type": "stream",
     "text": [
      "agrregate_fit results list length is  2\n",
      "Saving round 27 aggregated_parameters...\n"
     ]
    },
    {
     "name": "stderr",
     "output_type": "stream",
     "text": [
      "DEBUG flwr 2023-08-31 23:12:00,178 | server.py:187 | evaluate_round 27 received 2 results and 0 failures\n",
      "DEBUG flwr 2023-08-31 23:12:00,180 | server.py:222 | fit_round 28: strategy sampled 2 clients (out of 3)\n"
     ]
    },
    {
     "name": "stdout",
     "output_type": "stream",
     "text": [
      "agrregate_evaluate results list length is  2\n",
      "server round is  27\n",
      "loss is  0.1556573510169983\n"
     ]
    },
    {
     "name": "stderr",
     "output_type": "stream",
     "text": [
      "DEBUG flwr 2023-08-31 23:12:04,990 | server.py:236 | fit_round 28 received 2 results and 0 failures\n",
      "DEBUG flwr 2023-08-31 23:12:05,008 | server.py:173 | evaluate_round 28: strategy sampled 2 clients (out of 3)\n",
      "DEBUG flwr 2023-08-31 23:12:05,177 | server.py:187 | evaluate_round 28 received 2 results and 0 failures\n"
     ]
    },
    {
     "name": "stdout",
     "output_type": "stream",
     "text": [
      "agrregate_fit results list length is  2\n",
      "Saving round 28 aggregated_parameters...\n"
     ]
    },
    {
     "name": "stderr",
     "output_type": "stream",
     "text": [
      "DEBUG flwr 2023-08-31 23:12:05,179 | server.py:222 | fit_round 29: strategy sampled 2 clients (out of 3)\n"
     ]
    },
    {
     "name": "stdout",
     "output_type": "stream",
     "text": [
      "agrregate_evaluate results list length is  2\n",
      "server round is  28\n",
      "loss is  0.1523573398590088\n"
     ]
    },
    {
     "name": "stderr",
     "output_type": "stream",
     "text": [
      "DEBUG flwr 2023-08-31 23:12:16,878 | server.py:236 | fit_round 29 received 2 results and 0 failures\n",
      "DEBUG flwr 2023-08-31 23:12:16,893 | server.py:173 | evaluate_round 29: strategy sampled 2 clients (out of 3)\n",
      "DEBUG flwr 2023-08-31 23:12:17,053 | server.py:187 | evaluate_round 29 received 2 results and 0 failures\n",
      "DEBUG flwr 2023-08-31 23:12:17,054 | server.py:222 | fit_round 30: strategy sampled 2 clients (out of 3)\n"
     ]
    },
    {
     "name": "stdout",
     "output_type": "stream",
     "text": [
      "agrregate_fit results list length is  2\n",
      "Saving round 29 aggregated_parameters...\n",
      "agrregate_evaluate results list length is  2\n",
      "server round is  29\n",
      "loss is  0.15473905205726624\n"
     ]
    },
    {
     "name": "stderr",
     "output_type": "stream",
     "text": [
      "DEBUG flwr 2023-08-31 23:12:29,359 | server.py:236 | fit_round 30 received 2 results and 0 failures\n",
      "DEBUG flwr 2023-08-31 23:12:29,371 | server.py:173 | evaluate_round 30: strategy sampled 2 clients (out of 3)\n",
      "DEBUG flwr 2023-08-31 23:12:29,524 | server.py:187 | evaluate_round 30 received 2 results and 0 failures\n",
      "INFO flwr 2023-08-31 23:12:29,525 | server.py:153 | FL finished in 341.6292247999809\n",
      "INFO flwr 2023-08-31 23:12:29,526 | app.py:225 | app_fit: losses_distributed [(1, 0.22972756624221802), (2, 0.21736463904380798), (3, 0.1894512176513672), (4, 0.17257700860500336), (5, 0.16185404360294342), (6, 0.1616530418395996), (7, 0.1617799699306488), (8, 0.15744265913963318), (9, 0.16115237772464752), (10, 0.15916600823402405), (11, 0.15671899914741516), (12, 0.15876513719558716), (13, 0.1522688865661621), (14, 0.15219153463840485), (15, 0.1548018902540207), (16, 0.15936413407325745), (17, 0.1522296518087387), (18, 0.15975983440876007), (19, 0.15077784657478333), (20, 0.1554877907037735), (21, 0.15580305457115173), (22, 0.1514086276292801), (23, 0.15479691326618195), (24, 0.15527936816215515), (25, 0.15731364488601685), (26, 0.15348026156425476), (27, 0.1556573510169983), (28, 0.1523573398590088), (29, 0.15473905205726624), (30, 0.1506582349538803)]\n",
      "INFO flwr 2023-08-31 23:12:29,527 | app.py:226 | app_fit: metrics_distributed_fit {}\n",
      "INFO flwr 2023-08-31 23:12:29,528 | app.py:227 | app_fit: metrics_distributed {'mse': [(1, 0.45945513248443604), (2, 0.43472927808761597), (3, 0.3789024353027344), (4, 0.3451540172100067), (5, 0.32370808720588684), (6, 0.3233060836791992), (7, 0.3235599398612976), (8, 0.31488531827926636), (9, 0.32230475544929504), (10, 0.3183320164680481), (11, 0.3134379982948303), (12, 0.3175302743911743), (13, 0.3045377731323242), (14, 0.3043830692768097), (15, 0.3096037805080414), (16, 0.3187282681465149), (17, 0.3044593036174774), (18, 0.31951966881752014), (19, 0.30155569314956665), (20, 0.310975581407547), (21, 0.31160610914230347), (22, 0.3028172552585602), (23, 0.3095938265323639), (24, 0.3105587363243103), (25, 0.3146272897720337), (26, 0.3069605231285095), (27, 0.3113147020339966), (28, 0.3047146797180176), (29, 0.30947810411453247), (30, 0.3013164699077606)]}\n",
      "INFO flwr 2023-08-31 23:12:29,529 | app.py:228 | app_fit: losses_centralized []\n",
      "INFO flwr 2023-08-31 23:12:29,529 | app.py:229 | app_fit: metrics_centralized {}\n"
     ]
    },
    {
     "name": "stdout",
     "output_type": "stream",
     "text": [
      "agrregate_fit results list length is  2\n",
      "Saving round 30 aggregated_parameters...\n",
      "agrregate_evaluate results list length is  2\n",
      "server round is  30\n",
      "loss is  0.1506582349538803\n",
      "History (loss, distributed):\n",
      "\tround 1: 0.22972756624221802\n",
      "\tround 2: 0.21736463904380798\n",
      "\tround 3: 0.1894512176513672\n",
      "\tround 4: 0.17257700860500336\n",
      "\tround 5: 0.16185404360294342\n",
      "\tround 6: 0.1616530418395996\n",
      "\tround 7: 0.1617799699306488\n",
      "\tround 8: 0.15744265913963318\n",
      "\tround 9: 0.16115237772464752\n",
      "\tround 10: 0.15916600823402405\n",
      "\tround 11: 0.15671899914741516\n",
      "\tround 12: 0.15876513719558716\n",
      "\tround 13: 0.1522688865661621\n",
      "\tround 14: 0.15219153463840485\n",
      "\tround 15: 0.1548018902540207\n",
      "\tround 16: 0.15936413407325745\n",
      "\tround 17: 0.1522296518087387\n",
      "\tround 18: 0.15975983440876007\n",
      "\tround 19: 0.15077784657478333\n",
      "\tround 20: 0.1554877907037735\n",
      "\tround 21: 0.15580305457115173\n",
      "\tround 22: 0.1514086276292801\n",
      "\tround 23: 0.15479691326618195\n",
      "\tround 24: 0.15527936816215515\n",
      "\tround 25: 0.15731364488601685\n",
      "\tround 26: 0.15348026156425476\n",
      "\tround 27: 0.1556573510169983\n",
      "\tround 28: 0.1523573398590088\n",
      "\tround 29: 0.15473905205726624\n",
      "\tround 30: 0.1506582349538803\n",
      "History (metrics, distributed, evaluate):\n",
      "{'mse': [(1, 0.45945513248443604), (2, 0.43472927808761597), (3, 0.3789024353027344), (4, 0.3451540172100067), (5, 0.32370808720588684), (6, 0.3233060836791992), (7, 0.3235599398612976), (8, 0.31488531827926636), (9, 0.32230475544929504), (10, 0.3183320164680481), (11, 0.3134379982948303), (12, 0.3175302743911743), (13, 0.3045377731323242), (14, 0.3043830692768097), (15, 0.3096037805080414), (16, 0.3187282681465149), (17, 0.3044593036174774), (18, 0.31951966881752014), (19, 0.30155569314956665), (20, 0.310975581407547), (21, 0.31160610914230347), (22, 0.3028172552585602), (23, 0.3095938265323639), (24, 0.3105587363243103), (25, 0.3146272897720337), (26, 0.3069605231285095), (27, 0.3113147020339966), (28, 0.3047146797180176), (29, 0.30947810411453247), (30, 0.3013164699077606)]}\n",
      "[(1, 0.22972756624221802), (2, 0.21736463904380798), (3, 0.1894512176513672), (4, 0.17257700860500336), (5, 0.16185404360294342), (6, 0.1616530418395996), (7, 0.1617799699306488), (8, 0.15744265913963318), (9, 0.16115237772464752), (10, 0.15916600823402405), (11, 0.15671899914741516), (12, 0.15876513719558716), (13, 0.1522688865661621), (14, 0.15219153463840485), (15, 0.1548018902540207), (16, 0.15936413407325745), (17, 0.1522296518087387), (18, 0.15975983440876007), (19, 0.15077784657478333), (20, 0.1554877907037735), (21, 0.15580305457115173), (22, 0.1514086276292801), (23, 0.15479691326618195), (24, 0.15527936816215515), (25, 0.15731364488601685), (26, 0.15348026156425476), (27, 0.1556573510169983), (28, 0.1523573398590088), (29, 0.15473905205726624), (30, 0.1506582349538803)]\n",
      "0.8318013737596955\n",
      "Fold 2:\n",
      "splitting [0.6, 0.2, 0.2]\n",
      "time 0:06:13.584808\n",
      "mse [0.15065823]\n",
      "auc [0.8318013737596955]\n"
     ]
    }
   ],
   "source": [
    "splitting = [0.6, 0.2, 0.2]\n",
    "do_fl(splitting, num_rounds)"
   ],
   "metadata": {
    "collapsed": false,
    "ExecuteTime": {
     "end_time": "2023-08-31T22:12:29.664781400Z",
     "start_time": "2023-08-31T22:06:16.048077400Z"
    }
   }
  },
  {
   "cell_type": "code",
   "execution_count": 13,
   "outputs": [
    {
     "name": "stderr",
     "output_type": "stream",
     "text": [
      "C:\\Users\\Shuyao\\AppData\\Local\\Temp\\ipykernel_23376\\475339861.py:29: UserWarning: To copy construct from a tensor, it is recommended to use sourceTensor.clone().detach() or sourceTensor.clone().detach().requires_grad_(True), rather than torch.tensor(sourceTensor).\n",
      "  X_train = torch.tensor(X_train)\n",
      "C:\\Users\\Shuyao\\AppData\\Local\\Temp\\ipykernel_23376\\475339861.py:30: UserWarning: To copy construct from a tensor, it is recommended to use sourceTensor.clone().detach() or sourceTensor.clone().detach().requires_grad_(True), rather than torch.tensor(sourceTensor).\n",
      "  X_test = torch.tensor(X_test)\n",
      "C:\\Users\\Shuyao\\AppData\\Local\\Temp\\ipykernel_23376\\475339861.py:31: UserWarning: To copy construct from a tensor, it is recommended to use sourceTensor.clone().detach() or sourceTensor.clone().detach().requires_grad_(True), rather than torch.tensor(sourceTensor).\n",
      "  y_train = torch.reshape(torch.tensor(y_train), (-1, 1))\n",
      "C:\\Users\\Shuyao\\AppData\\Local\\Temp\\ipykernel_23376\\475339861.py:32: UserWarning: To copy construct from a tensor, it is recommended to use sourceTensor.clone().detach() or sourceTensor.clone().detach().requires_grad_(True), rather than torch.tensor(sourceTensor).\n",
      "  y_test = torch.reshape(torch.tensor(y_test), (-1, 1))\n",
      "INFO flwr 2023-08-31 23:12:29,815 | app.py:145 | Starting Flower simulation, config: ServerConfig(num_rounds=30, round_timeout=None)\n"
     ]
    },
    {
     "name": "stdout",
     "output_type": "stream",
     "text": [
      "Fold 1:\n",
      "x_test: cpu\n",
      "y_test: cpu\n",
      "30\n",
      "Client 0 trainset shape torch.Size([179090, 10])\n",
      "Client 1 trainset shape torch.Size([22416, 10])\n",
      "Client 2 trainset shape torch.Size([22454, 10])\n",
      "FL started training on cpu\n",
      "Number of available GPUs: 0\n"
     ]
    },
    {
     "name": "stderr",
     "output_type": "stream",
     "text": [
      "2023-08-31 23:12:39,444\tINFO worker.py:1627 -- Started a local Ray instance. View the dashboard at \u001B[1m\u001B[32m127.0.0.1:8270 \u001B[39m\u001B[22m\n",
      "INFO flwr 2023-08-31 23:12:47,900 | app.py:179 | Flower VCE: Ray initialized with resources: {'node:127.0.0.1': 1.0, 'memory': 1540534272.0, 'object_store_memory': 770267136.0, 'GPU': 1.0, 'CPU': 8.0}\n",
      "INFO flwr 2023-08-31 23:12:47,902 | server.py:89 | Initializing global parameters\n",
      "INFO flwr 2023-08-31 23:12:47,903 | server.py:276 | Requesting initial parameters from one random client\n",
      "INFO flwr 2023-08-31 23:12:51,985 | server.py:280 | Received initial parameters from one random client\n",
      "INFO flwr 2023-08-31 23:12:51,986 | server.py:91 | Evaluating initial parameters\n",
      "INFO flwr 2023-08-31 23:12:51,987 | server.py:104 | FL starting\n",
      "DEBUG flwr 2023-08-31 23:12:51,988 | server.py:222 | fit_round 1: strategy sampled 2 clients (out of 3)\n",
      "DEBUG flwr 2023-08-31 23:13:08,521 | server.py:236 | fit_round 1 received 2 results and 0 failures\n",
      "WARNING flwr 2023-08-31 23:13:08,527 | fedavg.py:242 | No fit_metrics_aggregation_fn provided\n",
      "DEBUG flwr 2023-08-31 23:13:08,535 | server.py:173 | evaluate_round 1: strategy sampled 2 clients (out of 3)\n"
     ]
    },
    {
     "name": "stdout",
     "output_type": "stream",
     "text": [
      "agrregate_fit results list length is  2\n",
      "Saving round 1 aggregated_parameters...\n"
     ]
    },
    {
     "name": "stderr",
     "output_type": "stream",
     "text": [
      "DEBUG flwr 2023-08-31 23:13:08,749 | server.py:187 | evaluate_round 1 received 2 results and 0 failures\n",
      "DEBUG flwr 2023-08-31 23:13:08,750 | server.py:222 | fit_round 2: strategy sampled 2 clients (out of 3)\n"
     ]
    },
    {
     "name": "stdout",
     "output_type": "stream",
     "text": [
      "agrregate_evaluate results list length is  2\n",
      "server round is  1\n",
      "loss is  0.22937068343162537\n"
     ]
    },
    {
     "name": "stderr",
     "output_type": "stream",
     "text": [
      "DEBUG flwr 2023-08-31 23:13:22,989 | server.py:236 | fit_round 2 received 2 results and 0 failures\n",
      "DEBUG flwr 2023-08-31 23:13:23,002 | server.py:173 | evaluate_round 2: strategy sampled 2 clients (out of 3)\n",
      "DEBUG flwr 2023-08-31 23:13:23,164 | server.py:187 | evaluate_round 2 received 2 results and 0 failures\n",
      "DEBUG flwr 2023-08-31 23:13:23,166 | server.py:222 | fit_round 3: strategy sampled 2 clients (out of 3)\n"
     ]
    },
    {
     "name": "stdout",
     "output_type": "stream",
     "text": [
      "agrregate_fit results list length is  2\n",
      "Saving round 2 aggregated_parameters...\n",
      "agrregate_evaluate results list length is  2\n",
      "server round is  2\n",
      "loss is  0.19122201204299927\n"
     ]
    },
    {
     "name": "stderr",
     "output_type": "stream",
     "text": [
      "DEBUG flwr 2023-08-31 23:13:38,254 | server.py:236 | fit_round 3 received 2 results and 0 failures\n",
      "DEBUG flwr 2023-08-31 23:13:38,265 | server.py:173 | evaluate_round 3: strategy sampled 2 clients (out of 3)\n",
      "DEBUG flwr 2023-08-31 23:13:38,411 | server.py:187 | evaluate_round 3 received 2 results and 0 failures\n",
      "DEBUG flwr 2023-08-31 23:13:38,413 | server.py:222 | fit_round 4: strategy sampled 2 clients (out of 3)\n"
     ]
    },
    {
     "name": "stdout",
     "output_type": "stream",
     "text": [
      "agrregate_fit results list length is  2\n",
      "Saving round 3 aggregated_parameters...\n",
      "agrregate_evaluate results list length is  2\n",
      "server round is  3\n",
      "loss is  0.16792094707489014\n"
     ]
    },
    {
     "name": "stderr",
     "output_type": "stream",
     "text": [
      "DEBUG flwr 2023-08-31 23:13:53,814 | server.py:236 | fit_round 4 received 2 results and 0 failures\n",
      "DEBUG flwr 2023-08-31 23:13:53,837 | server.py:173 | evaluate_round 4: strategy sampled 2 clients (out of 3)\n"
     ]
    },
    {
     "name": "stdout",
     "output_type": "stream",
     "text": [
      "agrregate_fit results list length is  2\n",
      "Saving round 4 aggregated_parameters...\n"
     ]
    },
    {
     "name": "stderr",
     "output_type": "stream",
     "text": [
      "DEBUG flwr 2023-08-31 23:13:54,050 | server.py:187 | evaluate_round 4 received 2 results and 0 failures\n",
      "DEBUG flwr 2023-08-31 23:13:54,053 | server.py:222 | fit_round 5: strategy sampled 2 clients (out of 3)\n"
     ]
    },
    {
     "name": "stdout",
     "output_type": "stream",
     "text": [
      "agrregate_evaluate results list length is  2\n",
      "server round is  4\n",
      "loss is  0.15782392024993896\n"
     ]
    },
    {
     "name": "stderr",
     "output_type": "stream",
     "text": [
      "DEBUG flwr 2023-08-31 23:14:09,664 | server.py:236 | fit_round 5 received 2 results and 0 failures\n",
      "DEBUG flwr 2023-08-31 23:14:09,677 | server.py:173 | evaluate_round 5: strategy sampled 2 clients (out of 3)\n",
      "DEBUG flwr 2023-08-31 23:14:09,819 | server.py:187 | evaluate_round 5 received 2 results and 0 failures\n",
      "DEBUG flwr 2023-08-31 23:14:09,820 | server.py:222 | fit_round 6: strategy sampled 2 clients (out of 3)\n"
     ]
    },
    {
     "name": "stdout",
     "output_type": "stream",
     "text": [
      "agrregate_fit results list length is  2\n",
      "Saving round 5 aggregated_parameters...\n",
      "agrregate_evaluate results list length is  2\n",
      "server round is  5\n",
      "loss is  0.1586078703403473\n"
     ]
    },
    {
     "name": "stderr",
     "output_type": "stream",
     "text": [
      "DEBUG flwr 2023-08-31 23:14:24,086 | server.py:236 | fit_round 6 received 2 results and 0 failures\n",
      "DEBUG flwr 2023-08-31 23:14:24,102 | server.py:173 | evaluate_round 6: strategy sampled 2 clients (out of 3)\n",
      "DEBUG flwr 2023-08-31 23:14:24,249 | server.py:187 | evaluate_round 6 received 2 results and 0 failures\n",
      "DEBUG flwr 2023-08-31 23:14:24,251 | server.py:222 | fit_round 7: strategy sampled 2 clients (out of 3)\n"
     ]
    },
    {
     "name": "stdout",
     "output_type": "stream",
     "text": [
      "agrregate_fit results list length is  2\n",
      "Saving round 6 aggregated_parameters...\n",
      "agrregate_evaluate results list length is  2\n",
      "server round is  6\n",
      "loss is  0.15270578861236572\n"
     ]
    },
    {
     "name": "stderr",
     "output_type": "stream",
     "text": [
      "DEBUG flwr 2023-08-31 23:14:39,508 | server.py:236 | fit_round 7 received 2 results and 0 failures\n",
      "DEBUG flwr 2023-08-31 23:14:39,522 | server.py:173 | evaluate_round 7: strategy sampled 2 clients (out of 3)\n",
      "DEBUG flwr 2023-08-31 23:14:39,667 | server.py:187 | evaluate_round 7 received 2 results and 0 failures\n",
      "DEBUG flwr 2023-08-31 23:14:39,668 | server.py:222 | fit_round 8: strategy sampled 2 clients (out of 3)\n"
     ]
    },
    {
     "name": "stdout",
     "output_type": "stream",
     "text": [
      "agrregate_fit results list length is  2\n",
      "Saving round 7 aggregated_parameters...\n",
      "agrregate_evaluate results list length is  2\n",
      "server round is  7\n",
      "loss is  0.15479448437690735\n"
     ]
    },
    {
     "name": "stderr",
     "output_type": "stream",
     "text": [
      "DEBUG flwr 2023-08-31 23:14:53,779 | server.py:236 | fit_round 8 received 2 results and 0 failures\n",
      "DEBUG flwr 2023-08-31 23:14:53,792 | server.py:173 | evaluate_round 8: strategy sampled 2 clients (out of 3)\n",
      "DEBUG flwr 2023-08-31 23:14:53,926 | server.py:187 | evaluate_round 8 received 2 results and 0 failures\n",
      "DEBUG flwr 2023-08-31 23:14:53,927 | server.py:222 | fit_round 9: strategy sampled 2 clients (out of 3)\n"
     ]
    },
    {
     "name": "stdout",
     "output_type": "stream",
     "text": [
      "agrregate_fit results list length is  2\n",
      "Saving round 8 aggregated_parameters...\n",
      "agrregate_evaluate results list length is  2\n",
      "server round is  8\n",
      "loss is  0.1515873372554779\n"
     ]
    },
    {
     "name": "stderr",
     "output_type": "stream",
     "text": [
      "DEBUG flwr 2023-08-31 23:15:09,294 | server.py:236 | fit_round 9 received 2 results and 0 failures\n",
      "DEBUG flwr 2023-08-31 23:15:09,306 | server.py:173 | evaluate_round 9: strategy sampled 2 clients (out of 3)\n"
     ]
    },
    {
     "name": "stdout",
     "output_type": "stream",
     "text": [
      "agrregate_fit results list length is  2\n",
      "Saving round 9 aggregated_parameters...\n"
     ]
    },
    {
     "name": "stderr",
     "output_type": "stream",
     "text": [
      "DEBUG flwr 2023-08-31 23:15:09,505 | server.py:187 | evaluate_round 9 received 2 results and 0 failures\n",
      "DEBUG flwr 2023-08-31 23:15:09,507 | server.py:222 | fit_round 10: strategy sampled 2 clients (out of 3)\n"
     ]
    },
    {
     "name": "stdout",
     "output_type": "stream",
     "text": [
      "agrregate_evaluate results list length is  2\n",
      "server round is  9\n",
      "loss is  0.14987459778785706\n"
     ]
    },
    {
     "name": "stderr",
     "output_type": "stream",
     "text": [
      "DEBUG flwr 2023-08-31 23:15:23,598 | server.py:236 | fit_round 10 received 2 results and 0 failures\n",
      "DEBUG flwr 2023-08-31 23:15:23,620 | server.py:173 | evaluate_round 10: strategy sampled 2 clients (out of 3)\n",
      "DEBUG flwr 2023-08-31 23:15:23,815 | server.py:187 | evaluate_round 10 received 2 results and 0 failures\n"
     ]
    },
    {
     "name": "stdout",
     "output_type": "stream",
     "text": [
      "agrregate_fit results list length is  2\n",
      "Saving round 10 aggregated_parameters...\n"
     ]
    },
    {
     "name": "stderr",
     "output_type": "stream",
     "text": [
      "DEBUG flwr 2023-08-31 23:15:23,817 | server.py:222 | fit_round 11: strategy sampled 2 clients (out of 3)\n"
     ]
    },
    {
     "name": "stdout",
     "output_type": "stream",
     "text": [
      "agrregate_evaluate results list length is  2\n",
      "server round is  10\n",
      "loss is  0.15579670667648315\n"
     ]
    },
    {
     "name": "stderr",
     "output_type": "stream",
     "text": [
      "DEBUG flwr 2023-08-31 23:15:39,499 | server.py:236 | fit_round 11 received 2 results and 0 failures\n",
      "DEBUG flwr 2023-08-31 23:15:39,516 | server.py:173 | evaluate_round 11: strategy sampled 2 clients (out of 3)\n"
     ]
    },
    {
     "name": "stdout",
     "output_type": "stream",
     "text": [
      "agrregate_fit results list length is  2\n",
      "Saving round 11 aggregated_parameters...\n"
     ]
    },
    {
     "name": "stderr",
     "output_type": "stream",
     "text": [
      "DEBUG flwr 2023-08-31 23:15:39,751 | server.py:187 | evaluate_round 11 received 2 results and 0 failures\n",
      "DEBUG flwr 2023-08-31 23:15:39,753 | server.py:222 | fit_round 12: strategy sampled 2 clients (out of 3)\n"
     ]
    },
    {
     "name": "stdout",
     "output_type": "stream",
     "text": [
      "agrregate_evaluate results list length is  2\n",
      "server round is  11\n",
      "loss is  0.1537591516971588\n"
     ]
    },
    {
     "name": "stderr",
     "output_type": "stream",
     "text": [
      "DEBUG flwr 2023-08-31 23:15:52,882 | server.py:236 | fit_round 12 received 2 results and 0 failures\n",
      "DEBUG flwr 2023-08-31 23:15:52,893 | server.py:173 | evaluate_round 12: strategy sampled 2 clients (out of 3)\n",
      "DEBUG flwr 2023-08-31 23:15:53,026 | server.py:187 | evaluate_round 12 received 2 results and 0 failures\n",
      "DEBUG flwr 2023-08-31 23:15:53,027 | server.py:222 | fit_round 13: strategy sampled 2 clients (out of 3)\n"
     ]
    },
    {
     "name": "stdout",
     "output_type": "stream",
     "text": [
      "agrregate_fit results list length is  2\n",
      "Saving round 12 aggregated_parameters...\n",
      "agrregate_evaluate results list length is  2\n",
      "server round is  12\n",
      "loss is  0.1515982747077942\n"
     ]
    },
    {
     "name": "stderr",
     "output_type": "stream",
     "text": [
      "DEBUG flwr 2023-08-31 23:15:55,119 | server.py:236 | fit_round 13 received 2 results and 0 failures\n",
      "DEBUG flwr 2023-08-31 23:15:55,132 | server.py:173 | evaluate_round 13: strategy sampled 2 clients (out of 3)\n",
      "DEBUG flwr 2023-08-31 23:15:55,278 | server.py:187 | evaluate_round 13 received 2 results and 0 failures\n",
      "DEBUG flwr 2023-08-31 23:15:55,279 | server.py:222 | fit_round 14: strategy sampled 2 clients (out of 3)\n"
     ]
    },
    {
     "name": "stdout",
     "output_type": "stream",
     "text": [
      "agrregate_fit results list length is  2\n",
      "Saving round 13 aggregated_parameters...\n",
      "agrregate_evaluate results list length is  2\n",
      "server round is  13\n",
      "loss is  0.15848490595817566\n"
     ]
    },
    {
     "name": "stderr",
     "output_type": "stream",
     "text": [
      "DEBUG flwr 2023-08-31 23:15:57,455 | server.py:236 | fit_round 14 received 2 results and 0 failures\n",
      "DEBUG flwr 2023-08-31 23:15:57,469 | server.py:173 | evaluate_round 14: strategy sampled 2 clients (out of 3)\n",
      "DEBUG flwr 2023-08-31 23:15:57,639 | server.py:187 | evaluate_round 14 received 2 results and 0 failures\n",
      "DEBUG flwr 2023-08-31 23:15:57,641 | server.py:222 | fit_round 15: strategy sampled 2 clients (out of 3)\n"
     ]
    },
    {
     "name": "stdout",
     "output_type": "stream",
     "text": [
      "agrregate_fit results list length is  2\n",
      "Saving round 14 aggregated_parameters...\n",
      "agrregate_evaluate results list length is  2\n",
      "server round is  14\n",
      "loss is  0.16070306301116943\n"
     ]
    },
    {
     "name": "stderr",
     "output_type": "stream",
     "text": [
      "DEBUG flwr 2023-08-31 23:16:10,784 | server.py:236 | fit_round 15 received 2 results and 0 failures\n",
      "DEBUG flwr 2023-08-31 23:16:10,796 | server.py:173 | evaluate_round 15: strategy sampled 2 clients (out of 3)\n",
      "DEBUG flwr 2023-08-31 23:16:10,925 | server.py:187 | evaluate_round 15 received 2 results and 0 failures\n",
      "DEBUG flwr 2023-08-31 23:16:10,927 | server.py:222 | fit_round 16: strategy sampled 2 clients (out of 3)\n"
     ]
    },
    {
     "name": "stdout",
     "output_type": "stream",
     "text": [
      "agrregate_fit results list length is  2\n",
      "Saving round 15 aggregated_parameters...\n",
      "agrregate_evaluate results list length is  2\n",
      "server round is  15\n",
      "loss is  0.15628786385059357\n"
     ]
    },
    {
     "name": "stderr",
     "output_type": "stream",
     "text": [
      "DEBUG flwr 2023-08-31 23:16:24,398 | server.py:236 | fit_round 16 received 2 results and 0 failures\n",
      "DEBUG flwr 2023-08-31 23:16:24,412 | server.py:173 | evaluate_round 16: strategy sampled 2 clients (out of 3)\n",
      "DEBUG flwr 2023-08-31 23:16:24,559 | server.py:187 | evaluate_round 16 received 2 results and 0 failures\n",
      "DEBUG flwr 2023-08-31 23:16:24,560 | server.py:222 | fit_round 17: strategy sampled 2 clients (out of 3)\n"
     ]
    },
    {
     "name": "stdout",
     "output_type": "stream",
     "text": [
      "agrregate_fit results list length is  2\n",
      "Saving round 16 aggregated_parameters...\n",
      "agrregate_evaluate results list length is  2\n",
      "server round is  16\n",
      "loss is  0.15616920590400696\n"
     ]
    },
    {
     "name": "stderr",
     "output_type": "stream",
     "text": [
      "DEBUG flwr 2023-08-31 23:16:26,993 | server.py:236 | fit_round 17 received 2 results and 0 failures\n",
      "DEBUG flwr 2023-08-31 23:16:27,007 | server.py:173 | evaluate_round 17: strategy sampled 2 clients (out of 3)\n",
      "DEBUG flwr 2023-08-31 23:16:27,175 | server.py:187 | evaluate_round 17 received 2 results and 0 failures\n"
     ]
    },
    {
     "name": "stdout",
     "output_type": "stream",
     "text": [
      "agrregate_fit results list length is  2\n",
      "Saving round 17 aggregated_parameters...\n"
     ]
    },
    {
     "name": "stderr",
     "output_type": "stream",
     "text": [
      "DEBUG flwr 2023-08-31 23:16:27,177 | server.py:222 | fit_round 18: strategy sampled 2 clients (out of 3)\n"
     ]
    },
    {
     "name": "stdout",
     "output_type": "stream",
     "text": [
      "agrregate_evaluate results list length is  2\n",
      "server round is  17\n",
      "loss is  0.1561053842306137\n"
     ]
    },
    {
     "name": "stderr",
     "output_type": "stream",
     "text": [
      "DEBUG flwr 2023-08-31 23:16:42,263 | server.py:236 | fit_round 18 received 2 results and 0 failures\n",
      "DEBUG flwr 2023-08-31 23:16:42,275 | server.py:173 | evaluate_round 18: strategy sampled 2 clients (out of 3)\n",
      "DEBUG flwr 2023-08-31 23:16:42,410 | server.py:187 | evaluate_round 18 received 2 results and 0 failures\n",
      "DEBUG flwr 2023-08-31 23:16:42,411 | server.py:222 | fit_round 19: strategy sampled 2 clients (out of 3)\n"
     ]
    },
    {
     "name": "stdout",
     "output_type": "stream",
     "text": [
      "agrregate_fit results list length is  2\n",
      "Saving round 18 aggregated_parameters...\n",
      "agrregate_evaluate results list length is  2\n",
      "server round is  18\n",
      "loss is  0.1538374125957489\n"
     ]
    },
    {
     "name": "stderr",
     "output_type": "stream",
     "text": [
      "DEBUG flwr 2023-08-31 23:16:57,035 | server.py:236 | fit_round 19 received 2 results and 0 failures\n",
      "DEBUG flwr 2023-08-31 23:16:57,047 | server.py:173 | evaluate_round 19: strategy sampled 2 clients (out of 3)\n",
      "DEBUG flwr 2023-08-31 23:16:57,192 | server.py:187 | evaluate_round 19 received 2 results and 0 failures\n",
      "DEBUG flwr 2023-08-31 23:16:57,193 | server.py:222 | fit_round 20: strategy sampled 2 clients (out of 3)\n"
     ]
    },
    {
     "name": "stdout",
     "output_type": "stream",
     "text": [
      "agrregate_fit results list length is  2\n",
      "Saving round 19 aggregated_parameters...\n",
      "agrregate_evaluate results list length is  2\n",
      "server round is  19\n",
      "loss is  0.1573977768421173\n"
     ]
    },
    {
     "name": "stderr",
     "output_type": "stream",
     "text": [
      "DEBUG flwr 2023-08-31 23:16:59,370 | server.py:236 | fit_round 20 received 2 results and 0 failures\n",
      "DEBUG flwr 2023-08-31 23:16:59,383 | server.py:173 | evaluate_round 20: strategy sampled 2 clients (out of 3)\n",
      "DEBUG flwr 2023-08-31 23:16:59,543 | server.py:187 | evaluate_round 20 received 2 results and 0 failures\n",
      "DEBUG flwr 2023-08-31 23:16:59,544 | server.py:222 | fit_round 21: strategy sampled 2 clients (out of 3)\n"
     ]
    },
    {
     "name": "stdout",
     "output_type": "stream",
     "text": [
      "agrregate_fit results list length is  2\n",
      "Saving round 20 aggregated_parameters...\n",
      "agrregate_evaluate results list length is  2\n",
      "server round is  20\n",
      "loss is  0.15895946323871613\n"
     ]
    },
    {
     "name": "stderr",
     "output_type": "stream",
     "text": [
      "DEBUG flwr 2023-08-31 23:17:12,850 | server.py:236 | fit_round 21 received 2 results and 0 failures\n",
      "DEBUG flwr 2023-08-31 23:17:12,864 | server.py:173 | evaluate_round 21: strategy sampled 2 clients (out of 3)\n",
      "DEBUG flwr 2023-08-31 23:17:13,003 | server.py:187 | evaluate_round 21 received 2 results and 0 failures\n",
      "DEBUG flwr 2023-08-31 23:17:13,004 | server.py:222 | fit_round 22: strategy sampled 2 clients (out of 3)\n"
     ]
    },
    {
     "name": "stdout",
     "output_type": "stream",
     "text": [
      "agrregate_fit results list length is  2\n",
      "Saving round 21 aggregated_parameters...\n",
      "agrregate_evaluate results list length is  2\n",
      "server round is  21\n",
      "loss is  0.15492312610149384\n"
     ]
    },
    {
     "name": "stderr",
     "output_type": "stream",
     "text": [
      "DEBUG flwr 2023-08-31 23:17:27,479 | server.py:236 | fit_round 22 received 2 results and 0 failures\n",
      "DEBUG flwr 2023-08-31 23:17:27,496 | server.py:173 | evaluate_round 22: strategy sampled 2 clients (out of 3)\n",
      "DEBUG flwr 2023-08-31 23:17:27,659 | server.py:187 | evaluate_round 22 received 2 results and 0 failures\n",
      "DEBUG flwr 2023-08-31 23:17:27,661 | server.py:222 | fit_round 23: strategy sampled 2 clients (out of 3)\n"
     ]
    },
    {
     "name": "stdout",
     "output_type": "stream",
     "text": [
      "agrregate_fit results list length is  2\n",
      "Saving round 22 aggregated_parameters...\n",
      "agrregate_evaluate results list length is  2\n",
      "server round is  22\n",
      "loss is  0.15423624217510223\n"
     ]
    },
    {
     "name": "stderr",
     "output_type": "stream",
     "text": [
      "DEBUG flwr 2023-08-31 23:17:30,446 | server.py:236 | fit_round 23 received 2 results and 0 failures\n",
      "DEBUG flwr 2023-08-31 23:17:30,463 | server.py:173 | evaluate_round 23: strategy sampled 2 clients (out of 3)\n",
      "DEBUG flwr 2023-08-31 23:17:30,647 | server.py:187 | evaluate_round 23 received 2 results and 0 failures\n"
     ]
    },
    {
     "name": "stdout",
     "output_type": "stream",
     "text": [
      "agrregate_fit results list length is  2\n",
      "Saving round 23 aggregated_parameters...\n"
     ]
    },
    {
     "name": "stderr",
     "output_type": "stream",
     "text": [
      "DEBUG flwr 2023-08-31 23:17:30,649 | server.py:222 | fit_round 24: strategy sampled 2 clients (out of 3)\n"
     ]
    },
    {
     "name": "stdout",
     "output_type": "stream",
     "text": [
      "agrregate_evaluate results list length is  2\n",
      "server round is  23\n",
      "loss is  0.15715311467647552\n"
     ]
    },
    {
     "name": "stderr",
     "output_type": "stream",
     "text": [
      "DEBUG flwr 2023-08-31 23:17:46,689 | server.py:236 | fit_round 24 received 2 results and 0 failures\n",
      "DEBUG flwr 2023-08-31 23:17:46,703 | server.py:173 | evaluate_round 24: strategy sampled 2 clients (out of 3)\n",
      "DEBUG flwr 2023-08-31 23:17:46,861 | server.py:187 | evaluate_round 24 received 2 results and 0 failures\n",
      "DEBUG flwr 2023-08-31 23:17:46,862 | server.py:222 | fit_round 25: strategy sampled 2 clients (out of 3)\n"
     ]
    },
    {
     "name": "stdout",
     "output_type": "stream",
     "text": [
      "agrregate_fit results list length is  2\n",
      "Saving round 24 aggregated_parameters...\n",
      "agrregate_evaluate results list length is  2\n",
      "server round is  24\n",
      "loss is  0.15360049903392792\n"
     ]
    },
    {
     "name": "stderr",
     "output_type": "stream",
     "text": [
      "DEBUG flwr 2023-08-31 23:17:50,405 | server.py:236 | fit_round 25 received 2 results and 0 failures\n",
      "DEBUG flwr 2023-08-31 23:17:50,431 | server.py:173 | evaluate_round 25: strategy sampled 2 clients (out of 3)\n"
     ]
    },
    {
     "name": "stdout",
     "output_type": "stream",
     "text": [
      "agrregate_fit results list length is  2\n",
      "Saving round 25 aggregated_parameters...\n"
     ]
    },
    {
     "name": "stderr",
     "output_type": "stream",
     "text": [
      "DEBUG flwr 2023-08-31 23:17:50,699 | server.py:187 | evaluate_round 25 received 2 results and 0 failures\n",
      "DEBUG flwr 2023-08-31 23:17:50,702 | server.py:222 | fit_round 26: strategy sampled 2 clients (out of 3)\n"
     ]
    },
    {
     "name": "stdout",
     "output_type": "stream",
     "text": [
      "agrregate_evaluate results list length is  2\n",
      "server round is  25\n",
      "loss is  0.15567931532859802\n"
     ]
    },
    {
     "name": "stderr",
     "output_type": "stream",
     "text": [
      "DEBUG flwr 2023-08-31 23:18:06,942 | server.py:236 | fit_round 26 received 2 results and 0 failures\n",
      "DEBUG flwr 2023-08-31 23:18:06,954 | server.py:173 | evaluate_round 26: strategy sampled 2 clients (out of 3)\n",
      "DEBUG flwr 2023-08-31 23:18:07,095 | server.py:187 | evaluate_round 26 received 2 results and 0 failures\n",
      "DEBUG flwr 2023-08-31 23:18:07,096 | server.py:222 | fit_round 27: strategy sampled 2 clients (out of 3)\n"
     ]
    },
    {
     "name": "stdout",
     "output_type": "stream",
     "text": [
      "agrregate_fit results list length is  2\n",
      "Saving round 26 aggregated_parameters...\n",
      "agrregate_evaluate results list length is  2\n",
      "server round is  26\n",
      "loss is  0.15116584300994873\n"
     ]
    },
    {
     "name": "stderr",
     "output_type": "stream",
     "text": [
      "DEBUG flwr 2023-08-31 23:18:09,428 | server.py:236 | fit_round 27 received 2 results and 0 failures\n",
      "DEBUG flwr 2023-08-31 23:18:09,448 | server.py:173 | evaluate_round 27: strategy sampled 2 clients (out of 3)\n",
      "DEBUG flwr 2023-08-31 23:18:09,607 | server.py:187 | evaluate_round 27 received 2 results and 0 failures\n",
      "DEBUG flwr 2023-08-31 23:18:09,609 | server.py:222 | fit_round 28: strategy sampled 2 clients (out of 3)\n"
     ]
    },
    {
     "name": "stdout",
     "output_type": "stream",
     "text": [
      "agrregate_fit results list length is  2\n",
      "Saving round 27 aggregated_parameters...\n",
      "agrregate_evaluate results list length is  2\n",
      "server round is  27\n",
      "loss is  0.1579568088054657\n"
     ]
    },
    {
     "name": "stderr",
     "output_type": "stream",
     "text": [
      "DEBUG flwr 2023-08-31 23:18:25,643 | server.py:236 | fit_round 28 received 2 results and 0 failures\n",
      "DEBUG flwr 2023-08-31 23:18:25,655 | server.py:173 | evaluate_round 28: strategy sampled 2 clients (out of 3)\n",
      "DEBUG flwr 2023-08-31 23:18:25,827 | server.py:187 | evaluate_round 28 received 2 results and 0 failures\n",
      "DEBUG flwr 2023-08-31 23:18:25,828 | server.py:222 | fit_round 29: strategy sampled 2 clients (out of 3)\n"
     ]
    },
    {
     "name": "stdout",
     "output_type": "stream",
     "text": [
      "agrregate_fit results list length is  2\n",
      "Saving round 28 aggregated_parameters...\n",
      "agrregate_evaluate results list length is  2\n",
      "server round is  28\n",
      "loss is  0.15347011387348175\n"
     ]
    },
    {
     "name": "stderr",
     "output_type": "stream",
     "text": [
      "DEBUG flwr 2023-08-31 23:18:28,257 | server.py:236 | fit_round 29 received 2 results and 0 failures\n",
      "DEBUG flwr 2023-08-31 23:18:28,275 | server.py:173 | evaluate_round 29: strategy sampled 2 clients (out of 3)\n",
      "DEBUG flwr 2023-08-31 23:18:28,450 | server.py:187 | evaluate_round 29 received 2 results and 0 failures\n"
     ]
    },
    {
     "name": "stdout",
     "output_type": "stream",
     "text": [
      "agrregate_fit results list length is  2\n",
      "Saving round 29 aggregated_parameters...\n"
     ]
    },
    {
     "name": "stderr",
     "output_type": "stream",
     "text": [
      "DEBUG flwr 2023-08-31 23:18:28,451 | server.py:222 | fit_round 30: strategy sampled 2 clients (out of 3)\n"
     ]
    },
    {
     "name": "stdout",
     "output_type": "stream",
     "text": [
      "agrregate_evaluate results list length is  2\n",
      "server round is  29\n",
      "loss is  0.15941846370697021\n"
     ]
    },
    {
     "name": "stderr",
     "output_type": "stream",
     "text": [
      "DEBUG flwr 2023-08-31 23:18:43,485 | server.py:236 | fit_round 30 received 2 results and 0 failures\n",
      "DEBUG flwr 2023-08-31 23:18:43,507 | server.py:173 | evaluate_round 30: strategy sampled 2 clients (out of 3)\n"
     ]
    },
    {
     "name": "stdout",
     "output_type": "stream",
     "text": [
      "agrregate_fit results list length is  2\n",
      "Saving round 30 aggregated_parameters...\n"
     ]
    },
    {
     "name": "stderr",
     "output_type": "stream",
     "text": [
      "DEBUG flwr 2023-08-31 23:18:43,784 | server.py:187 | evaluate_round 30 received 2 results and 0 failures\n",
      "INFO flwr 2023-08-31 23:18:43,786 | server.py:153 | FL finished in 351.7991303000017\n",
      "INFO flwr 2023-08-31 23:18:43,787 | app.py:225 | app_fit: losses_distributed [(1, 0.22937068343162537), (2, 0.19122201204299927), (3, 0.16792094707489014), (4, 0.15782392024993896), (5, 0.1586078703403473), (6, 0.15270578861236572), (7, 0.15479448437690735), (8, 0.1515873372554779), (9, 0.14987459778785706), (10, 0.15579670667648315), (11, 0.1537591516971588), (12, 0.1515982747077942), (13, 0.15848490595817566), (14, 0.16070306301116943), (15, 0.15628786385059357), (16, 0.15616920590400696), (17, 0.1561053842306137), (18, 0.1538374125957489), (19, 0.1573977768421173), (20, 0.15895946323871613), (21, 0.15492312610149384), (22, 0.15423624217510223), (23, 0.15715311467647552), (24, 0.15360049903392792), (25, 0.15567931532859802), (26, 0.15116584300994873), (27, 0.1579568088054657), (28, 0.15347011387348175), (29, 0.15941846370697021), (30, 0.15358026325702667)]\n",
      "INFO flwr 2023-08-31 23:18:43,788 | app.py:226 | app_fit: metrics_distributed_fit {}\n",
      "INFO flwr 2023-08-31 23:18:43,793 | app.py:227 | app_fit: metrics_distributed {'mse': [(1, 0.45874136686325073), (2, 0.38244402408599854), (3, 0.3358418941497803), (4, 0.31564784049987793), (5, 0.3172157406806946), (6, 0.30541157722473145), (7, 0.3095889687538147), (8, 0.3031746745109558), (9, 0.2997491955757141), (10, 0.3115934133529663), (11, 0.3075183033943176), (12, 0.3031965494155884), (13, 0.3169698119163513), (14, 0.32140612602233887), (15, 0.31257572770118713), (16, 0.3123384118080139), (17, 0.3122107684612274), (18, 0.3076748251914978), (19, 0.3147955536842346), (20, 0.31791892647743225), (21, 0.30984625220298767), (22, 0.30847248435020447), (23, 0.31430622935295105), (24, 0.30720099806785583), (25, 0.31135863065719604), (26, 0.30233168601989746), (27, 0.3159136176109314), (28, 0.3069402277469635), (29, 0.31883692741394043), (30, 0.30716052651405334)]}\n",
      "INFO flwr 2023-08-31 23:18:43,795 | app.py:228 | app_fit: losses_centralized []\n",
      "INFO flwr 2023-08-31 23:18:43,797 | app.py:229 | app_fit: metrics_centralized {}\n"
     ]
    },
    {
     "name": "stdout",
     "output_type": "stream",
     "text": [
      "agrregate_evaluate results list length is  2\n",
      "server round is  30\n",
      "loss is  0.15358026325702667\n",
      "History (loss, distributed):\n",
      "\tround 1: 0.22937068343162537\n",
      "\tround 2: 0.19122201204299927\n",
      "\tround 3: 0.16792094707489014\n",
      "\tround 4: 0.15782392024993896\n",
      "\tround 5: 0.1586078703403473\n",
      "\tround 6: 0.15270578861236572\n",
      "\tround 7: 0.15479448437690735\n",
      "\tround 8: 0.1515873372554779\n",
      "\tround 9: 0.14987459778785706\n",
      "\tround 10: 0.15579670667648315\n",
      "\tround 11: 0.1537591516971588\n",
      "\tround 12: 0.1515982747077942\n",
      "\tround 13: 0.15848490595817566\n",
      "\tround 14: 0.16070306301116943\n",
      "\tround 15: 0.15628786385059357\n",
      "\tround 16: 0.15616920590400696\n",
      "\tround 17: 0.1561053842306137\n",
      "\tround 18: 0.1538374125957489\n",
      "\tround 19: 0.1573977768421173\n",
      "\tround 20: 0.15895946323871613\n",
      "\tround 21: 0.15492312610149384\n",
      "\tround 22: 0.15423624217510223\n",
      "\tround 23: 0.15715311467647552\n",
      "\tround 24: 0.15360049903392792\n",
      "\tround 25: 0.15567931532859802\n",
      "\tround 26: 0.15116584300994873\n",
      "\tround 27: 0.1579568088054657\n",
      "\tround 28: 0.15347011387348175\n",
      "\tround 29: 0.15941846370697021\n",
      "\tround 30: 0.15358026325702667\n",
      "History (metrics, distributed, evaluate):\n",
      "{'mse': [(1, 0.45874136686325073), (2, 0.38244402408599854), (3, 0.3358418941497803), (4, 0.31564784049987793), (5, 0.3172157406806946), (6, 0.30541157722473145), (7, 0.3095889687538147), (8, 0.3031746745109558), (9, 0.2997491955757141), (10, 0.3115934133529663), (11, 0.3075183033943176), (12, 0.3031965494155884), (13, 0.3169698119163513), (14, 0.32140612602233887), (15, 0.31257572770118713), (16, 0.3123384118080139), (17, 0.3122107684612274), (18, 0.3076748251914978), (19, 0.3147955536842346), (20, 0.31791892647743225), (21, 0.30984625220298767), (22, 0.30847248435020447), (23, 0.31430622935295105), (24, 0.30720099806785583), (25, 0.31135863065719604), (26, 0.30233168601989746), (27, 0.3159136176109314), (28, 0.3069402277469635), (29, 0.31883692741394043), (30, 0.30716052651405334)]}\n",
      "[(1, 0.22937068343162537), (2, 0.19122201204299927), (3, 0.16792094707489014), (4, 0.15782392024993896), (5, 0.1586078703403473), (6, 0.15270578861236572), (7, 0.15479448437690735), (8, 0.1515873372554779), (9, 0.14987459778785706), (10, 0.15579670667648315), (11, 0.1537591516971588), (12, 0.1515982747077942), (13, 0.15848490595817566), (14, 0.16070306301116943), (15, 0.15628786385059357), (16, 0.15616920590400696), (17, 0.1561053842306137), (18, 0.1538374125957489), (19, 0.1573977768421173), (20, 0.15895946323871613), (21, 0.15492312610149384), (22, 0.15423624217510223), (23, 0.15715311467647552), (24, 0.15360049903392792), (25, 0.15567931532859802), (26, 0.15116584300994873), (27, 0.1579568088054657), (28, 0.15347011387348175), (29, 0.15941846370697021), (30, 0.15358026325702667)]\n",
      "0.8327950260100602\n",
      "Fold 2:\n",
      "splitting [0.8, 0.1, 0.1]\n",
      "time 0:06:14.299655\n",
      "mse [0.15358026]\n",
      "auc [0.8327950260100602]\n"
     ]
    }
   ],
   "source": [
    "splitting = [0.8, 0.1, 0.1]\n",
    "do_fl(splitting, num_rounds)"
   ],
   "metadata": {
    "collapsed": false,
    "ExecuteTime": {
     "end_time": "2023-08-31T22:18:43.971416300Z",
     "start_time": "2023-08-31T22:12:29.648822200Z"
    }
   }
  },
  {
   "cell_type": "code",
   "execution_count": 14,
   "outputs": [
    {
     "name": "stdout",
     "output_type": "stream",
     "text": [
      "Fold 1:\n",
      "x_test: cpu\n",
      "y_test: cpu\n",
      "30\n"
     ]
    },
    {
     "name": "stderr",
     "output_type": "stream",
     "text": [
      "C:\\Users\\Shuyao\\AppData\\Local\\Temp\\ipykernel_23376\\475339861.py:29: UserWarning: To copy construct from a tensor, it is recommended to use sourceTensor.clone().detach() or sourceTensor.clone().detach().requires_grad_(True), rather than torch.tensor(sourceTensor).\n",
      "  X_train = torch.tensor(X_train)\n",
      "C:\\Users\\Shuyao\\AppData\\Local\\Temp\\ipykernel_23376\\475339861.py:30: UserWarning: To copy construct from a tensor, it is recommended to use sourceTensor.clone().detach() or sourceTensor.clone().detach().requires_grad_(True), rather than torch.tensor(sourceTensor).\n",
      "  X_test = torch.tensor(X_test)\n",
      "C:\\Users\\Shuyao\\AppData\\Local\\Temp\\ipykernel_23376\\475339861.py:31: UserWarning: To copy construct from a tensor, it is recommended to use sourceTensor.clone().detach() or sourceTensor.clone().detach().requires_grad_(True), rather than torch.tensor(sourceTensor).\n",
      "  y_train = torch.reshape(torch.tensor(y_train), (-1, 1))\n",
      "C:\\Users\\Shuyao\\AppData\\Local\\Temp\\ipykernel_23376\\475339861.py:32: UserWarning: To copy construct from a tensor, it is recommended to use sourceTensor.clone().detach() or sourceTensor.clone().detach().requires_grad_(True), rather than torch.tensor(sourceTensor).\n",
      "  y_test = torch.reshape(torch.tensor(y_test), (-1, 1))\n",
      "INFO flwr 2023-08-31 23:18:44,519 | app.py:145 | Starting Flower simulation, config: ServerConfig(num_rounds=30, round_timeout=None)\n"
     ]
    },
    {
     "name": "stdout",
     "output_type": "stream",
     "text": [
      "Client 0 trainset shape torch.Size([44824, 10])\n",
      "Client 1 trainset shape torch.Size([44744, 10])\n",
      "Client 2 trainset shape torch.Size([44706, 10])\n",
      "Client 3 trainset shape torch.Size([44880, 10])\n",
      "Client 4 trainset shape torch.Size([44806, 10])\n",
      "FL started training on cpu\n",
      "Number of available GPUs: 0\n"
     ]
    },
    {
     "name": "stderr",
     "output_type": "stream",
     "text": [
      "2023-08-31 23:18:54,546\tINFO worker.py:1627 -- Started a local Ray instance. View the dashboard at \u001B[1m\u001B[32m127.0.0.1:8270 \u001B[39m\u001B[22m\n",
      "INFO flwr 2023-08-31 23:19:03,432 | app.py:179 | Flower VCE: Ray initialized with resources: {'node:127.0.0.1': 1.0, 'memory': 1427627214.0, 'object_store_memory': 713813606.0, 'GPU': 1.0, 'CPU': 8.0}\n",
      "INFO flwr 2023-08-31 23:19:03,436 | server.py:89 | Initializing global parameters\n",
      "INFO flwr 2023-08-31 23:19:03,437 | server.py:276 | Requesting initial parameters from one random client\n",
      "INFO flwr 2023-08-31 23:19:08,997 | server.py:280 | Received initial parameters from one random client\n",
      "INFO flwr 2023-08-31 23:19:08,999 | server.py:91 | Evaluating initial parameters\n",
      "INFO flwr 2023-08-31 23:19:09,000 | server.py:104 | FL starting\n",
      "DEBUG flwr 2023-08-31 23:19:09,000 | server.py:222 | fit_round 1: strategy sampled 2 clients (out of 5)\n",
      "DEBUG flwr 2023-08-31 23:19:17,777 | server.py:236 | fit_round 1 received 2 results and 0 failures\n",
      "WARNING flwr 2023-08-31 23:19:17,783 | fedavg.py:242 | No fit_metrics_aggregation_fn provided\n",
      "DEBUG flwr 2023-08-31 23:19:17,791 | server.py:173 | evaluate_round 1: strategy sampled 2 clients (out of 5)\n",
      "DEBUG flwr 2023-08-31 23:19:17,944 | server.py:187 | evaluate_round 1 received 2 results and 0 failures\n",
      "DEBUG flwr 2023-08-31 23:19:17,945 | server.py:222 | fit_round 2: strategy sampled 2 clients (out of 5)\n"
     ]
    },
    {
     "name": "stdout",
     "output_type": "stream",
     "text": [
      "agrregate_fit results list length is  2\n",
      "Saving round 1 aggregated_parameters...\n",
      "agrregate_evaluate results list length is  2\n",
      "server round is  1\n",
      "loss is  0.23610715568065643\n"
     ]
    },
    {
     "name": "stderr",
     "output_type": "stream",
     "text": [
      "DEBUG flwr 2023-08-31 23:19:22,649 | server.py:236 | fit_round 2 received 2 results and 0 failures\n",
      "DEBUG flwr 2023-08-31 23:19:22,666 | server.py:173 | evaluate_round 2: strategy sampled 2 clients (out of 5)\n"
     ]
    },
    {
     "name": "stdout",
     "output_type": "stream",
     "text": [
      "agrregate_fit results list length is  2\n",
      "Saving round 2 aggregated_parameters...\n"
     ]
    },
    {
     "name": "stderr",
     "output_type": "stream",
     "text": [
      "DEBUG flwr 2023-08-31 23:19:22,857 | server.py:187 | evaluate_round 2 received 2 results and 0 failures\n",
      "DEBUG flwr 2023-08-31 23:19:22,859 | server.py:222 | fit_round 3: strategy sampled 2 clients (out of 5)\n"
     ]
    },
    {
     "name": "stdout",
     "output_type": "stream",
     "text": [
      "agrregate_evaluate results list length is  2\n",
      "server round is  2\n",
      "loss is  0.23938621580600739\n"
     ]
    },
    {
     "name": "stderr",
     "output_type": "stream",
     "text": [
      "DEBUG flwr 2023-08-31 23:19:27,586 | server.py:236 | fit_round 3 received 2 results and 0 failures\n",
      "DEBUG flwr 2023-08-31 23:19:27,604 | server.py:173 | evaluate_round 3: strategy sampled 2 clients (out of 5)\n"
     ]
    },
    {
     "name": "stdout",
     "output_type": "stream",
     "text": [
      "agrregate_fit results list length is  2\n",
      "Saving round 3 aggregated_parameters...\n"
     ]
    },
    {
     "name": "stderr",
     "output_type": "stream",
     "text": [
      "DEBUG flwr 2023-08-31 23:19:27,807 | server.py:187 | evaluate_round 3 received 2 results and 0 failures\n",
      "DEBUG flwr 2023-08-31 23:19:27,809 | server.py:222 | fit_round 4: strategy sampled 2 clients (out of 5)\n"
     ]
    },
    {
     "name": "stdout",
     "output_type": "stream",
     "text": [
      "agrregate_evaluate results list length is  2\n",
      "server round is  3\n",
      "loss is  0.23435063660144806\n"
     ]
    },
    {
     "name": "stderr",
     "output_type": "stream",
     "text": [
      "DEBUG flwr 2023-08-31 23:19:32,517 | server.py:236 | fit_round 4 received 2 results and 0 failures\n",
      "DEBUG flwr 2023-08-31 23:19:32,534 | server.py:173 | evaluate_round 4: strategy sampled 2 clients (out of 5)\n"
     ]
    },
    {
     "name": "stdout",
     "output_type": "stream",
     "text": [
      "agrregate_fit results list length is  2\n",
      "Saving round 4 aggregated_parameters...\n"
     ]
    },
    {
     "name": "stderr",
     "output_type": "stream",
     "text": [
      "DEBUG flwr 2023-08-31 23:19:32,734 | server.py:187 | evaluate_round 4 received 2 results and 0 failures\n",
      "DEBUG flwr 2023-08-31 23:19:32,736 | server.py:222 | fit_round 5: strategy sampled 2 clients (out of 5)\n"
     ]
    },
    {
     "name": "stdout",
     "output_type": "stream",
     "text": [
      "agrregate_evaluate results list length is  2\n",
      "server round is  4\n",
      "loss is  0.22675293684005737\n"
     ]
    },
    {
     "name": "stderr",
     "output_type": "stream",
     "text": [
      "DEBUG flwr 2023-08-31 23:19:37,331 | server.py:236 | fit_round 5 received 2 results and 0 failures\n",
      "DEBUG flwr 2023-08-31 23:19:37,351 | server.py:173 | evaluate_round 5: strategy sampled 2 clients (out of 5)\n"
     ]
    },
    {
     "name": "stdout",
     "output_type": "stream",
     "text": [
      "agrregate_fit results list length is  2\n",
      "Saving round 5 aggregated_parameters...\n"
     ]
    },
    {
     "name": "stderr",
     "output_type": "stream",
     "text": [
      "DEBUG flwr 2023-08-31 23:19:37,564 | server.py:187 | evaluate_round 5 received 2 results and 0 failures\n",
      "DEBUG flwr 2023-08-31 23:19:37,567 | server.py:222 | fit_round 6: strategy sampled 2 clients (out of 5)\n"
     ]
    },
    {
     "name": "stdout",
     "output_type": "stream",
     "text": [
      "agrregate_evaluate results list length is  2\n",
      "server round is  5\n",
      "loss is  0.2157822549343109\n"
     ]
    },
    {
     "name": "stderr",
     "output_type": "stream",
     "text": [
      "DEBUG flwr 2023-08-31 23:19:42,547 | server.py:236 | fit_round 6 received 2 results and 0 failures\n",
      "DEBUG flwr 2023-08-31 23:19:42,564 | server.py:173 | evaluate_round 6: strategy sampled 2 clients (out of 5)\n",
      "DEBUG flwr 2023-08-31 23:19:42,752 | server.py:187 | evaluate_round 6 received 2 results and 0 failures\n"
     ]
    },
    {
     "name": "stdout",
     "output_type": "stream",
     "text": [
      "agrregate_fit results list length is  2\n",
      "Saving round 6 aggregated_parameters...\n"
     ]
    },
    {
     "name": "stderr",
     "output_type": "stream",
     "text": [
      "DEBUG flwr 2023-08-31 23:19:42,753 | server.py:222 | fit_round 7: strategy sampled 2 clients (out of 5)\n"
     ]
    },
    {
     "name": "stdout",
     "output_type": "stream",
     "text": [
      "agrregate_evaluate results list length is  2\n",
      "server round is  6\n",
      "loss is  0.20567916333675385\n"
     ]
    },
    {
     "name": "stderr",
     "output_type": "stream",
     "text": [
      "DEBUG flwr 2023-08-31 23:19:48,519 | server.py:236 | fit_round 7 received 2 results and 0 failures\n",
      "DEBUG flwr 2023-08-31 23:19:48,537 | server.py:173 | evaluate_round 7: strategy sampled 2 clients (out of 5)\n"
     ]
    },
    {
     "name": "stdout",
     "output_type": "stream",
     "text": [
      "agrregate_fit results list length is  2\n",
      "Saving round 7 aggregated_parameters...\n"
     ]
    },
    {
     "name": "stderr",
     "output_type": "stream",
     "text": [
      "DEBUG flwr 2023-08-31 23:19:48,763 | server.py:187 | evaluate_round 7 received 2 results and 0 failures\n",
      "DEBUG flwr 2023-08-31 23:19:48,765 | server.py:222 | fit_round 8: strategy sampled 2 clients (out of 5)\n"
     ]
    },
    {
     "name": "stdout",
     "output_type": "stream",
     "text": [
      "agrregate_evaluate results list length is  2\n",
      "server round is  7\n",
      "loss is  0.19309915602207184\n"
     ]
    },
    {
     "name": "stderr",
     "output_type": "stream",
     "text": [
      "DEBUG flwr 2023-08-31 23:19:54,052 | server.py:236 | fit_round 8 received 2 results and 0 failures\n",
      "DEBUG flwr 2023-08-31 23:19:54,069 | server.py:173 | evaluate_round 8: strategy sampled 2 clients (out of 5)\n"
     ]
    },
    {
     "name": "stdout",
     "output_type": "stream",
     "text": [
      "agrregate_fit results list length is  2\n",
      "Saving round 8 aggregated_parameters...\n"
     ]
    },
    {
     "name": "stderr",
     "output_type": "stream",
     "text": [
      "DEBUG flwr 2023-08-31 23:19:54,338 | server.py:187 | evaluate_round 8 received 2 results and 0 failures\n",
      "DEBUG flwr 2023-08-31 23:19:54,340 | server.py:222 | fit_round 9: strategy sampled 2 clients (out of 5)\n"
     ]
    },
    {
     "name": "stdout",
     "output_type": "stream",
     "text": [
      "agrregate_evaluate results list length is  2\n",
      "server round is  8\n",
      "loss is  0.18488037586212158\n"
     ]
    },
    {
     "name": "stderr",
     "output_type": "stream",
     "text": [
      "DEBUG flwr 2023-08-31 23:19:59,499 | server.py:236 | fit_round 9 received 2 results and 0 failures\n",
      "DEBUG flwr 2023-08-31 23:19:59,519 | server.py:173 | evaluate_round 9: strategy sampled 2 clients (out of 5)\n"
     ]
    },
    {
     "name": "stdout",
     "output_type": "stream",
     "text": [
      "agrregate_fit results list length is  2\n",
      "Saving round 9 aggregated_parameters...\n"
     ]
    },
    {
     "name": "stderr",
     "output_type": "stream",
     "text": [
      "DEBUG flwr 2023-08-31 23:19:59,755 | server.py:187 | evaluate_round 9 received 2 results and 0 failures\n",
      "DEBUG flwr 2023-08-31 23:19:59,759 | server.py:222 | fit_round 10: strategy sampled 2 clients (out of 5)\n"
     ]
    },
    {
     "name": "stdout",
     "output_type": "stream",
     "text": [
      "agrregate_evaluate results list length is  2\n",
      "server round is  9\n",
      "loss is  0.17953220009803772\n"
     ]
    },
    {
     "name": "stderr",
     "output_type": "stream",
     "text": [
      "DEBUG flwr 2023-08-31 23:20:07,169 | server.py:236 | fit_round 10 received 2 results and 0 failures\n",
      "DEBUG flwr 2023-08-31 23:20:07,202 | server.py:173 | evaluate_round 10: strategy sampled 2 clients (out of 5)\n"
     ]
    },
    {
     "name": "stdout",
     "output_type": "stream",
     "text": [
      "agrregate_fit results list length is  2\n",
      "Saving round 10 aggregated_parameters...\n"
     ]
    },
    {
     "name": "stderr",
     "output_type": "stream",
     "text": [
      "DEBUG flwr 2023-08-31 23:20:07,586 | server.py:187 | evaluate_round 10 received 2 results and 0 failures\n",
      "DEBUG flwr 2023-08-31 23:20:07,589 | server.py:222 | fit_round 11: strategy sampled 2 clients (out of 5)\n"
     ]
    },
    {
     "name": "stdout",
     "output_type": "stream",
     "text": [
      "agrregate_evaluate results list length is  2\n",
      "server round is  10\n",
      "loss is  0.17318302392959595\n"
     ]
    },
    {
     "name": "stderr",
     "output_type": "stream",
     "text": [
      "DEBUG flwr 2023-08-31 23:20:13,051 | server.py:236 | fit_round 11 received 2 results and 0 failures\n",
      "DEBUG flwr 2023-08-31 23:20:13,087 | server.py:173 | evaluate_round 11: strategy sampled 2 clients (out of 5)\n"
     ]
    },
    {
     "name": "stdout",
     "output_type": "stream",
     "text": [
      "agrregate_fit results list length is  2\n",
      "Saving round 11 aggregated_parameters...\n"
     ]
    },
    {
     "name": "stderr",
     "output_type": "stream",
     "text": [
      "DEBUG flwr 2023-08-31 23:20:13,452 | server.py:187 | evaluate_round 11 received 2 results and 0 failures\n",
      "DEBUG flwr 2023-08-31 23:20:13,454 | server.py:222 | fit_round 12: strategy sampled 2 clients (out of 5)\n"
     ]
    },
    {
     "name": "stdout",
     "output_type": "stream",
     "text": [
      "agrregate_evaluate results list length is  2\n",
      "server round is  11\n",
      "loss is  0.16954785585403442\n"
     ]
    },
    {
     "name": "stderr",
     "output_type": "stream",
     "text": [
      "DEBUG flwr 2023-08-31 23:20:18,251 | server.py:236 | fit_round 12 received 2 results and 0 failures\n",
      "DEBUG flwr 2023-08-31 23:20:18,268 | server.py:173 | evaluate_round 12: strategy sampled 2 clients (out of 5)\n",
      "DEBUG flwr 2023-08-31 23:20:18,457 | server.py:187 | evaluate_round 12 received 2 results and 0 failures\n"
     ]
    },
    {
     "name": "stdout",
     "output_type": "stream",
     "text": [
      "agrregate_fit results list length is  2\n",
      "Saving round 12 aggregated_parameters...\n"
     ]
    },
    {
     "name": "stderr",
     "output_type": "stream",
     "text": [
      "DEBUG flwr 2023-08-31 23:20:18,458 | server.py:222 | fit_round 13: strategy sampled 2 clients (out of 5)\n"
     ]
    },
    {
     "name": "stdout",
     "output_type": "stream",
     "text": [
      "agrregate_evaluate results list length is  2\n",
      "server round is  12\n",
      "loss is  0.1691139042377472\n"
     ]
    },
    {
     "name": "stderr",
     "output_type": "stream",
     "text": [
      "DEBUG flwr 2023-08-31 23:20:23,274 | server.py:236 | fit_round 13 received 2 results and 0 failures\n",
      "DEBUG flwr 2023-08-31 23:20:23,288 | server.py:173 | evaluate_round 13: strategy sampled 2 clients (out of 5)\n",
      "DEBUG flwr 2023-08-31 23:20:23,464 | server.py:187 | evaluate_round 13 received 2 results and 0 failures\n"
     ]
    },
    {
     "name": "stdout",
     "output_type": "stream",
     "text": [
      "agrregate_fit results list length is  2\n",
      "Saving round 13 aggregated_parameters...\n"
     ]
    },
    {
     "name": "stderr",
     "output_type": "stream",
     "text": [
      "DEBUG flwr 2023-08-31 23:20:23,465 | server.py:222 | fit_round 14: strategy sampled 2 clients (out of 5)\n"
     ]
    },
    {
     "name": "stdout",
     "output_type": "stream",
     "text": [
      "agrregate_evaluate results list length is  2\n",
      "server round is  13\n",
      "loss is  0.16016386449337006\n"
     ]
    },
    {
     "name": "stderr",
     "output_type": "stream",
     "text": [
      "DEBUG flwr 2023-08-31 23:20:28,518 | server.py:236 | fit_round 14 received 2 results and 0 failures\n",
      "DEBUG flwr 2023-08-31 23:20:28,537 | server.py:173 | evaluate_round 14: strategy sampled 2 clients (out of 5)\n"
     ]
    },
    {
     "name": "stdout",
     "output_type": "stream",
     "text": [
      "agrregate_fit results list length is  2\n",
      "Saving round 14 aggregated_parameters...\n"
     ]
    },
    {
     "name": "stderr",
     "output_type": "stream",
     "text": [
      "DEBUG flwr 2023-08-31 23:20:28,732 | server.py:187 | evaluate_round 14 received 2 results and 0 failures\n",
      "DEBUG flwr 2023-08-31 23:20:28,734 | server.py:222 | fit_round 15: strategy sampled 2 clients (out of 5)\n"
     ]
    },
    {
     "name": "stdout",
     "output_type": "stream",
     "text": [
      "agrregate_evaluate results list length is  2\n",
      "server round is  14\n",
      "loss is  0.1627955138683319\n"
     ]
    },
    {
     "name": "stderr",
     "output_type": "stream",
     "text": [
      "DEBUG flwr 2023-08-31 23:20:33,162 | server.py:236 | fit_round 15 received 2 results and 0 failures\n",
      "DEBUG flwr 2023-08-31 23:20:33,181 | server.py:173 | evaluate_round 15: strategy sampled 2 clients (out of 5)\n",
      "DEBUG flwr 2023-08-31 23:20:33,357 | server.py:187 | evaluate_round 15 received 2 results and 0 failures\n"
     ]
    },
    {
     "name": "stdout",
     "output_type": "stream",
     "text": [
      "agrregate_fit results list length is  2\n",
      "Saving round 15 aggregated_parameters...\n"
     ]
    },
    {
     "name": "stderr",
     "output_type": "stream",
     "text": [
      "DEBUG flwr 2023-08-31 23:20:33,359 | server.py:222 | fit_round 16: strategy sampled 2 clients (out of 5)\n"
     ]
    },
    {
     "name": "stdout",
     "output_type": "stream",
     "text": [
      "agrregate_evaluate results list length is  2\n",
      "server round is  15\n",
      "loss is  0.1598539501428604\n"
     ]
    },
    {
     "name": "stderr",
     "output_type": "stream",
     "text": [
      "DEBUG flwr 2023-08-31 23:20:38,295 | server.py:236 | fit_round 16 received 2 results and 0 failures\n",
      "DEBUG flwr 2023-08-31 23:20:38,309 | server.py:173 | evaluate_round 16: strategy sampled 2 clients (out of 5)\n",
      "DEBUG flwr 2023-08-31 23:20:38,476 | server.py:187 | evaluate_round 16 received 2 results and 0 failures\n",
      "DEBUG flwr 2023-08-31 23:20:38,477 | server.py:222 | fit_round 17: strategy sampled 2 clients (out of 5)\n"
     ]
    },
    {
     "name": "stdout",
     "output_type": "stream",
     "text": [
      "agrregate_fit results list length is  2\n",
      "Saving round 16 aggregated_parameters...\n",
      "agrregate_evaluate results list length is  2\n",
      "server round is  16\n",
      "loss is  0.16292668879032135\n"
     ]
    },
    {
     "name": "stderr",
     "output_type": "stream",
     "text": [
      "DEBUG flwr 2023-08-31 23:20:43,739 | server.py:236 | fit_round 17 received 2 results and 0 failures\n",
      "DEBUG flwr 2023-08-31 23:20:43,755 | server.py:173 | evaluate_round 17: strategy sampled 2 clients (out of 5)\n",
      "DEBUG flwr 2023-08-31 23:20:43,923 | server.py:187 | evaluate_round 17 received 2 results and 0 failures\n",
      "DEBUG flwr 2023-08-31 23:20:43,924 | server.py:222 | fit_round 18: strategy sampled 2 clients (out of 5)\n"
     ]
    },
    {
     "name": "stdout",
     "output_type": "stream",
     "text": [
      "agrregate_fit results list length is  2\n",
      "Saving round 17 aggregated_parameters...\n",
      "agrregate_evaluate results list length is  2\n",
      "server round is  17\n",
      "loss is  0.16295260190963745\n"
     ]
    },
    {
     "name": "stderr",
     "output_type": "stream",
     "text": [
      "DEBUG flwr 2023-08-31 23:20:48,765 | server.py:236 | fit_round 18 received 2 results and 0 failures\n",
      "DEBUG flwr 2023-08-31 23:20:48,781 | server.py:173 | evaluate_round 18: strategy sampled 2 clients (out of 5)\n",
      "DEBUG flwr 2023-08-31 23:20:48,953 | server.py:187 | evaluate_round 18 received 2 results and 0 failures\n",
      "DEBUG flwr 2023-08-31 23:20:48,954 | server.py:222 | fit_round 19: strategy sampled 2 clients (out of 5)\n"
     ]
    },
    {
     "name": "stdout",
     "output_type": "stream",
     "text": [
      "agrregate_fit results list length is  2\n",
      "Saving round 18 aggregated_parameters...\n",
      "agrregate_evaluate results list length is  2\n",
      "server round is  18\n",
      "loss is  0.15779587626457214\n"
     ]
    },
    {
     "name": "stderr",
     "output_type": "stream",
     "text": [
      "DEBUG flwr 2023-08-31 23:20:55,458 | server.py:236 | fit_round 19 received 2 results and 0 failures\n",
      "DEBUG flwr 2023-08-31 23:20:55,475 | server.py:173 | evaluate_round 19: strategy sampled 2 clients (out of 5)\n"
     ]
    },
    {
     "name": "stdout",
     "output_type": "stream",
     "text": [
      "agrregate_fit results list length is  2\n",
      "Saving round 19 aggregated_parameters...\n"
     ]
    },
    {
     "name": "stderr",
     "output_type": "stream",
     "text": [
      "DEBUG flwr 2023-08-31 23:20:55,672 | server.py:187 | evaluate_round 19 received 2 results and 0 failures\n",
      "DEBUG flwr 2023-08-31 23:20:55,675 | server.py:222 | fit_round 20: strategy sampled 2 clients (out of 5)\n"
     ]
    },
    {
     "name": "stdout",
     "output_type": "stream",
     "text": [
      "agrregate_evaluate results list length is  2\n",
      "server round is  19\n",
      "loss is  0.1556301712989807\n"
     ]
    },
    {
     "name": "stderr",
     "output_type": "stream",
     "text": [
      "DEBUG flwr 2023-08-31 23:21:00,393 | server.py:236 | fit_round 20 received 2 results and 0 failures\n",
      "DEBUG flwr 2023-08-31 23:21:00,409 | server.py:173 | evaluate_round 20: strategy sampled 2 clients (out of 5)\n"
     ]
    },
    {
     "name": "stdout",
     "output_type": "stream",
     "text": [
      "agrregate_fit results list length is  2\n",
      "Saving round 20 aggregated_parameters...\n"
     ]
    },
    {
     "name": "stderr",
     "output_type": "stream",
     "text": [
      "DEBUG flwr 2023-08-31 23:21:00,608 | server.py:187 | evaluate_round 20 received 2 results and 0 failures\n",
      "DEBUG flwr 2023-08-31 23:21:00,609 | server.py:222 | fit_round 21: strategy sampled 2 clients (out of 5)\n"
     ]
    },
    {
     "name": "stdout",
     "output_type": "stream",
     "text": [
      "agrregate_evaluate results list length is  2\n",
      "server round is  20\n",
      "loss is  0.15430064499378204\n"
     ]
    },
    {
     "name": "stderr",
     "output_type": "stream",
     "text": [
      "DEBUG flwr 2023-08-31 23:21:05,878 | server.py:236 | fit_round 21 received 2 results and 0 failures\n",
      "DEBUG flwr 2023-08-31 23:21:05,906 | server.py:173 | evaluate_round 21: strategy sampled 2 clients (out of 5)\n"
     ]
    },
    {
     "name": "stdout",
     "output_type": "stream",
     "text": [
      "agrregate_fit results list length is  2\n",
      "Saving round 21 aggregated_parameters...\n"
     ]
    },
    {
     "name": "stderr",
     "output_type": "stream",
     "text": [
      "DEBUG flwr 2023-08-31 23:21:06,125 | server.py:187 | evaluate_round 21 received 2 results and 0 failures\n",
      "DEBUG flwr 2023-08-31 23:21:06,127 | server.py:222 | fit_round 22: strategy sampled 2 clients (out of 5)\n"
     ]
    },
    {
     "name": "stdout",
     "output_type": "stream",
     "text": [
      "agrregate_evaluate results list length is  2\n",
      "server round is  21\n",
      "loss is  0.15792390704154968\n"
     ]
    },
    {
     "name": "stderr",
     "output_type": "stream",
     "text": [
      "DEBUG flwr 2023-08-31 23:21:11,227 | server.py:236 | fit_round 22 received 2 results and 0 failures\n",
      "DEBUG flwr 2023-08-31 23:21:11,242 | server.py:173 | evaluate_round 22: strategy sampled 2 clients (out of 5)\n",
      "DEBUG flwr 2023-08-31 23:21:11,431 | server.py:187 | evaluate_round 22 received 2 results and 0 failures\n"
     ]
    },
    {
     "name": "stdout",
     "output_type": "stream",
     "text": [
      "agrregate_fit results list length is  2\n",
      "Saving round 22 aggregated_parameters...\n"
     ]
    },
    {
     "name": "stderr",
     "output_type": "stream",
     "text": [
      "DEBUG flwr 2023-08-31 23:21:11,434 | server.py:222 | fit_round 23: strategy sampled 2 clients (out of 5)\n"
     ]
    },
    {
     "name": "stdout",
     "output_type": "stream",
     "text": [
      "agrregate_evaluate results list length is  2\n",
      "server round is  22\n",
      "loss is  0.15663598477840424\n"
     ]
    },
    {
     "name": "stderr",
     "output_type": "stream",
     "text": [
      "DEBUG flwr 2023-08-31 23:21:16,453 | server.py:236 | fit_round 23 received 2 results and 0 failures\n",
      "DEBUG flwr 2023-08-31 23:21:16,471 | server.py:173 | evaluate_round 23: strategy sampled 2 clients (out of 5)\n",
      "DEBUG flwr 2023-08-31 23:21:16,649 | server.py:187 | evaluate_round 23 received 2 results and 0 failures\n"
     ]
    },
    {
     "name": "stdout",
     "output_type": "stream",
     "text": [
      "agrregate_fit results list length is  2\n",
      "Saving round 23 aggregated_parameters...\n"
     ]
    },
    {
     "name": "stderr",
     "output_type": "stream",
     "text": [
      "DEBUG flwr 2023-08-31 23:21:16,651 | server.py:222 | fit_round 24: strategy sampled 2 clients (out of 5)\n"
     ]
    },
    {
     "name": "stdout",
     "output_type": "stream",
     "text": [
      "agrregate_evaluate results list length is  2\n",
      "server round is  23\n",
      "loss is  0.15691666305065155\n"
     ]
    },
    {
     "name": "stderr",
     "output_type": "stream",
     "text": [
      "DEBUG flwr 2023-08-31 23:21:21,799 | server.py:236 | fit_round 24 received 2 results and 0 failures\n",
      "DEBUG flwr 2023-08-31 23:21:21,816 | server.py:173 | evaluate_round 24: strategy sampled 2 clients (out of 5)\n"
     ]
    },
    {
     "name": "stdout",
     "output_type": "stream",
     "text": [
      "agrregate_fit results list length is  2\n",
      "Saving round 24 aggregated_parameters...\n"
     ]
    },
    {
     "name": "stderr",
     "output_type": "stream",
     "text": [
      "DEBUG flwr 2023-08-31 23:21:21,992 | server.py:187 | evaluate_round 24 received 2 results and 0 failures\n",
      "DEBUG flwr 2023-08-31 23:21:21,994 | server.py:222 | fit_round 25: strategy sampled 2 clients (out of 5)\n"
     ]
    },
    {
     "name": "stdout",
     "output_type": "stream",
     "text": [
      "agrregate_evaluate results list length is  2\n",
      "server round is  24\n",
      "loss is  0.15466119349002838\n"
     ]
    },
    {
     "name": "stderr",
     "output_type": "stream",
     "text": [
      "DEBUG flwr 2023-08-31 23:21:26,705 | server.py:236 | fit_round 25 received 2 results and 0 failures\n",
      "DEBUG flwr 2023-08-31 23:21:26,723 | server.py:173 | evaluate_round 25: strategy sampled 2 clients (out of 5)\n",
      "DEBUG flwr 2023-08-31 23:21:26,894 | server.py:187 | evaluate_round 25 received 2 results and 0 failures\n"
     ]
    },
    {
     "name": "stdout",
     "output_type": "stream",
     "text": [
      "agrregate_fit results list length is  2\n",
      "Saving round 25 aggregated_parameters...\n",
      "agrregate_evaluate results list length is  2\n",
      "server round is  25\n",
      "loss is  0.15625829994678497\n"
     ]
    },
    {
     "name": "stderr",
     "output_type": "stream",
     "text": [
      "DEBUG flwr 2023-08-31 23:21:26,896 | server.py:222 | fit_round 26: strategy sampled 2 clients (out of 5)\n",
      "DEBUG flwr 2023-08-31 23:21:32,023 | server.py:236 | fit_round 26 received 2 results and 0 failures\n",
      "DEBUG flwr 2023-08-31 23:21:32,040 | server.py:173 | evaluate_round 26: strategy sampled 2 clients (out of 5)\n"
     ]
    },
    {
     "name": "stdout",
     "output_type": "stream",
     "text": [
      "agrregate_fit results list length is  2\n",
      "Saving round 26 aggregated_parameters...\n"
     ]
    },
    {
     "name": "stderr",
     "output_type": "stream",
     "text": [
      "DEBUG flwr 2023-08-31 23:21:32,244 | server.py:187 | evaluate_round 26 received 2 results and 0 failures\n",
      "DEBUG flwr 2023-08-31 23:21:32,247 | server.py:222 | fit_round 27: strategy sampled 2 clients (out of 5)\n"
     ]
    },
    {
     "name": "stdout",
     "output_type": "stream",
     "text": [
      "agrregate_evaluate results list length is  2\n",
      "server round is  26\n",
      "loss is  0.15677234530448914\n"
     ]
    },
    {
     "name": "stderr",
     "output_type": "stream",
     "text": [
      "DEBUG flwr 2023-08-31 23:21:36,933 | server.py:236 | fit_round 27 received 2 results and 0 failures\n",
      "DEBUG flwr 2023-08-31 23:21:36,953 | server.py:173 | evaluate_round 27: strategy sampled 2 clients (out of 5)\n",
      "DEBUG flwr 2023-08-31 23:21:37,113 | server.py:187 | evaluate_round 27 received 2 results and 0 failures\n",
      "DEBUG flwr 2023-08-31 23:21:37,115 | server.py:222 | fit_round 28: strategy sampled 2 clients (out of 5)\n"
     ]
    },
    {
     "name": "stdout",
     "output_type": "stream",
     "text": [
      "agrregate_fit results list length is  2\n",
      "Saving round 27 aggregated_parameters...\n",
      "agrregate_evaluate results list length is  2\n",
      "server round is  27\n",
      "loss is  0.1560976356267929\n"
     ]
    },
    {
     "name": "stderr",
     "output_type": "stream",
     "text": [
      "DEBUG flwr 2023-08-31 23:21:41,503 | server.py:236 | fit_round 28 received 2 results and 0 failures\n",
      "DEBUG flwr 2023-08-31 23:21:41,517 | server.py:173 | evaluate_round 28: strategy sampled 2 clients (out of 5)\n",
      "DEBUG flwr 2023-08-31 23:21:41,694 | server.py:187 | evaluate_round 28 received 2 results and 0 failures\n"
     ]
    },
    {
     "name": "stdout",
     "output_type": "stream",
     "text": [
      "agrregate_fit results list length is  2\n",
      "Saving round 28 aggregated_parameters...\n"
     ]
    },
    {
     "name": "stderr",
     "output_type": "stream",
     "text": [
      "DEBUG flwr 2023-08-31 23:21:41,696 | server.py:222 | fit_round 29: strategy sampled 2 clients (out of 5)\n"
     ]
    },
    {
     "name": "stdout",
     "output_type": "stream",
     "text": [
      "agrregate_evaluate results list length is  2\n",
      "server round is  28\n",
      "loss is  0.15392620861530304\n"
     ]
    },
    {
     "name": "stderr",
     "output_type": "stream",
     "text": [
      "DEBUG flwr 2023-08-31 23:21:46,010 | server.py:236 | fit_round 29 received 2 results and 0 failures\n",
      "DEBUG flwr 2023-08-31 23:21:46,025 | server.py:173 | evaluate_round 29: strategy sampled 2 clients (out of 5)\n",
      "DEBUG flwr 2023-08-31 23:21:46,193 | server.py:187 | evaluate_round 29 received 2 results and 0 failures\n"
     ]
    },
    {
     "name": "stdout",
     "output_type": "stream",
     "text": [
      "agrregate_fit results list length is  2\n",
      "Saving round 29 aggregated_parameters...\n"
     ]
    },
    {
     "name": "stderr",
     "output_type": "stream",
     "text": [
      "DEBUG flwr 2023-08-31 23:21:46,194 | server.py:222 | fit_round 30: strategy sampled 2 clients (out of 5)\n"
     ]
    },
    {
     "name": "stdout",
     "output_type": "stream",
     "text": [
      "agrregate_evaluate results list length is  2\n",
      "server round is  29\n",
      "loss is  0.15505851805210114\n"
     ]
    },
    {
     "name": "stderr",
     "output_type": "stream",
     "text": [
      "DEBUG flwr 2023-08-31 23:21:50,494 | server.py:236 | fit_round 30 received 2 results and 0 failures\n",
      "DEBUG flwr 2023-08-31 23:21:50,514 | server.py:173 | evaluate_round 30: strategy sampled 2 clients (out of 5)\n",
      "DEBUG flwr 2023-08-31 23:21:50,684 | server.py:187 | evaluate_round 30 received 2 results and 0 failures\n"
     ]
    },
    {
     "name": "stdout",
     "output_type": "stream",
     "text": [
      "agrregate_fit results list length is  2\n",
      "Saving round 30 aggregated_parameters...\n"
     ]
    },
    {
     "name": "stderr",
     "output_type": "stream",
     "text": [
      "INFO flwr 2023-08-31 23:21:50,687 | server.py:153 | FL finished in 161.68621109999367\n",
      "INFO flwr 2023-08-31 23:21:50,688 | app.py:225 | app_fit: losses_distributed [(1, 0.23610715568065643), (2, 0.23938621580600739), (3, 0.23435063660144806), (4, 0.22675293684005737), (5, 0.2157822549343109), (6, 0.20567916333675385), (7, 0.19309915602207184), (8, 0.18488037586212158), (9, 0.17953220009803772), (10, 0.17318302392959595), (11, 0.16954785585403442), (12, 0.1691139042377472), (13, 0.16016386449337006), (14, 0.1627955138683319), (15, 0.1598539501428604), (16, 0.16292668879032135), (17, 0.16295260190963745), (18, 0.15779587626457214), (19, 0.1556301712989807), (20, 0.15430064499378204), (21, 0.15792390704154968), (22, 0.15663598477840424), (23, 0.15691666305065155), (24, 0.15466119349002838), (25, 0.15625829994678497), (26, 0.15677234530448914), (27, 0.1560976356267929), (28, 0.15392620861530304), (29, 0.15505851805210114), (30, 0.15901128947734833)]\n",
      "INFO flwr 2023-08-31 23:21:50,689 | app.py:226 | app_fit: metrics_distributed_fit {}\n",
      "INFO flwr 2023-08-31 23:21:50,690 | app.py:227 | app_fit: metrics_distributed {'mse': [(1, 0.47221431136131287), (2, 0.47877243161201477), (3, 0.4687012732028961), (4, 0.45350587368011475), (5, 0.4315645098686218), (6, 0.4113583266735077), (7, 0.3861983120441437), (8, 0.36976075172424316), (9, 0.35906440019607544), (10, 0.3463660478591919), (11, 0.33909571170806885), (12, 0.3382278084754944), (13, 0.3203277289867401), (14, 0.3255910277366638), (15, 0.3197079002857208), (16, 0.3258533775806427), (17, 0.3259052038192749), (18, 0.3155917525291443), (19, 0.3112603425979614), (20, 0.3086012899875641), (21, 0.31584781408309937), (22, 0.31327196955680847), (23, 0.3138333261013031), (24, 0.30932238698005676), (25, 0.31251659989356995), (26, 0.31354469060897827), (27, 0.3121952712535858), (28, 0.3078524172306061), (29, 0.31011703610420227), (30, 0.31802257895469666)]}\n",
      "INFO flwr 2023-08-31 23:21:50,691 | app.py:228 | app_fit: losses_centralized []\n",
      "INFO flwr 2023-08-31 23:21:50,692 | app.py:229 | app_fit: metrics_centralized {}\n"
     ]
    },
    {
     "name": "stdout",
     "output_type": "stream",
     "text": [
      "agrregate_evaluate results list length is  2\n",
      "server round is  30\n",
      "loss is  0.15901128947734833\n",
      "History (loss, distributed):\n",
      "\tround 1: 0.23610715568065643\n",
      "\tround 2: 0.23938621580600739\n",
      "\tround 3: 0.23435063660144806\n",
      "\tround 4: 0.22675293684005737\n",
      "\tround 5: 0.2157822549343109\n",
      "\tround 6: 0.20567916333675385\n",
      "\tround 7: 0.19309915602207184\n",
      "\tround 8: 0.18488037586212158\n",
      "\tround 9: 0.17953220009803772\n",
      "\tround 10: 0.17318302392959595\n",
      "\tround 11: 0.16954785585403442\n",
      "\tround 12: 0.1691139042377472\n",
      "\tround 13: 0.16016386449337006\n",
      "\tround 14: 0.1627955138683319\n",
      "\tround 15: 0.1598539501428604\n",
      "\tround 16: 0.16292668879032135\n",
      "\tround 17: 0.16295260190963745\n",
      "\tround 18: 0.15779587626457214\n",
      "\tround 19: 0.1556301712989807\n",
      "\tround 20: 0.15430064499378204\n",
      "\tround 21: 0.15792390704154968\n",
      "\tround 22: 0.15663598477840424\n",
      "\tround 23: 0.15691666305065155\n",
      "\tround 24: 0.15466119349002838\n",
      "\tround 25: 0.15625829994678497\n",
      "\tround 26: 0.15677234530448914\n",
      "\tround 27: 0.1560976356267929\n",
      "\tround 28: 0.15392620861530304\n",
      "\tround 29: 0.15505851805210114\n",
      "\tround 30: 0.15901128947734833\n",
      "History (metrics, distributed, evaluate):\n",
      "{'mse': [(1, 0.47221431136131287), (2, 0.47877243161201477), (3, 0.4687012732028961), (4, 0.45350587368011475), (5, 0.4315645098686218), (6, 0.4113583266735077), (7, 0.3861983120441437), (8, 0.36976075172424316), (9, 0.35906440019607544), (10, 0.3463660478591919), (11, 0.33909571170806885), (12, 0.3382278084754944), (13, 0.3203277289867401), (14, 0.3255910277366638), (15, 0.3197079002857208), (16, 0.3258533775806427), (17, 0.3259052038192749), (18, 0.3155917525291443), (19, 0.3112603425979614), (20, 0.3086012899875641), (21, 0.31584781408309937), (22, 0.31327196955680847), (23, 0.3138333261013031), (24, 0.30932238698005676), (25, 0.31251659989356995), (26, 0.31354469060897827), (27, 0.3121952712535858), (28, 0.3078524172306061), (29, 0.31011703610420227), (30, 0.31802257895469666)]}\n",
      "[(1, 0.23610715568065643), (2, 0.23938621580600739), (3, 0.23435063660144806), (4, 0.22675293684005737), (5, 0.2157822549343109), (6, 0.20567916333675385), (7, 0.19309915602207184), (8, 0.18488037586212158), (9, 0.17953220009803772), (10, 0.17318302392959595), (11, 0.16954785585403442), (12, 0.1691139042377472), (13, 0.16016386449337006), (14, 0.1627955138683319), (15, 0.1598539501428604), (16, 0.16292668879032135), (17, 0.16295260190963745), (18, 0.15779587626457214), (19, 0.1556301712989807), (20, 0.15430064499378204), (21, 0.15792390704154968), (22, 0.15663598477840424), (23, 0.15691666305065155), (24, 0.15466119349002838), (25, 0.15625829994678497), (26, 0.15677234530448914), (27, 0.1560976356267929), (28, 0.15392620861530304), (29, 0.15505851805210114), (30, 0.15901128947734833)]\n",
      "0.8259113849421229\n",
      "Fold 2:\n",
      "splitting [0.2, 0.2, 0.2, 0.2, 0.2]\n",
      "time 0:03:06.825795\n",
      "mse [0.15901129]\n",
      "auc [0.8259113849421229]\n"
     ]
    }
   ],
   "source": [
    "#num_rounds = [20]\n",
    "\n",
    "splitting = [0.2, 0.2, 0.2, 0.2, 0.2]\n",
    "do_fl(splitting, num_rounds)"
   ],
   "metadata": {
    "collapsed": false,
    "ExecuteTime": {
     "end_time": "2023-08-31T22:21:50.827131300Z",
     "start_time": "2023-08-31T22:18:43.981392100Z"
    }
   }
  },
  {
   "cell_type": "code",
   "execution_count": 15,
   "outputs": [
    {
     "name": "stderr",
     "output_type": "stream",
     "text": [
      "C:\\Users\\Shuyao\\AppData\\Local\\Temp\\ipykernel_23376\\475339861.py:29: UserWarning: To copy construct from a tensor, it is recommended to use sourceTensor.clone().detach() or sourceTensor.clone().detach().requires_grad_(True), rather than torch.tensor(sourceTensor).\n",
      "  X_train = torch.tensor(X_train)\n",
      "C:\\Users\\Shuyao\\AppData\\Local\\Temp\\ipykernel_23376\\475339861.py:30: UserWarning: To copy construct from a tensor, it is recommended to use sourceTensor.clone().detach() or sourceTensor.clone().detach().requires_grad_(True), rather than torch.tensor(sourceTensor).\n",
      "  X_test = torch.tensor(X_test)\n",
      "C:\\Users\\Shuyao\\AppData\\Local\\Temp\\ipykernel_23376\\475339861.py:31: UserWarning: To copy construct from a tensor, it is recommended to use sourceTensor.clone().detach() or sourceTensor.clone().detach().requires_grad_(True), rather than torch.tensor(sourceTensor).\n",
      "  y_train = torch.reshape(torch.tensor(y_train), (-1, 1))\n",
      "C:\\Users\\Shuyao\\AppData\\Local\\Temp\\ipykernel_23376\\475339861.py:32: UserWarning: To copy construct from a tensor, it is recommended to use sourceTensor.clone().detach() or sourceTensor.clone().detach().requires_grad_(True), rather than torch.tensor(sourceTensor).\n",
      "  y_test = torch.reshape(torch.tensor(y_test), (-1, 1))\n",
      "INFO flwr 2023-08-31 23:34:27,721 | app.py:145 | Starting Flower simulation, config: ServerConfig(num_rounds=30, round_timeout=None)\n"
     ]
    },
    {
     "name": "stdout",
     "output_type": "stream",
     "text": [
      "Fold 1:\n",
      "x_test: cpu\n",
      "y_test: cpu\n",
      "30\n",
      "Client 0 trainset shape torch.Size([134384, 10])\n",
      "Client 1 trainset shape torch.Size([22368, 10])\n",
      "Client 2 trainset shape torch.Size([22380, 10])\n",
      "Client 3 trainset shape torch.Size([22344, 10])\n",
      "Client 4 trainset shape torch.Size([22484, 10])\n",
      "FL started training on cpu\n",
      "Number of available GPUs: 0\n"
     ]
    },
    {
     "name": "stderr",
     "output_type": "stream",
     "text": [
      "2023-08-31 23:34:39,831\tINFO worker.py:1627 -- Started a local Ray instance. View the dashboard at \u001B[1m\u001B[32m127.0.0.1:8270 \u001B[39m\u001B[22m\n",
      "INFO flwr 2023-08-31 23:34:54,621 | app.py:179 | Flower VCE: Ray initialized with resources: {'node:127.0.0.1': 1.0, 'memory': 1617567744.0, 'object_store_memory': 808783872.0, 'GPU': 1.0, 'CPU': 8.0}\n",
      "INFO flwr 2023-08-31 23:34:54,625 | server.py:89 | Initializing global parameters\n",
      "INFO flwr 2023-08-31 23:34:54,626 | server.py:276 | Requesting initial parameters from one random client\n",
      "INFO flwr 2023-08-31 23:35:02,413 | server.py:280 | Received initial parameters from one random client\n",
      "INFO flwr 2023-08-31 23:35:02,414 | server.py:91 | Evaluating initial parameters\n",
      "INFO flwr 2023-08-31 23:35:02,415 | server.py:104 | FL starting\n",
      "DEBUG flwr 2023-08-31 23:35:02,416 | server.py:222 | fit_round 1: strategy sampled 2 clients (out of 5)\n",
      "DEBUG flwr 2023-08-31 23:35:34,732 | server.py:236 | fit_round 1 received 2 results and 0 failures\n",
      "WARNING flwr 2023-08-31 23:35:34,751 | fedavg.py:242 | No fit_metrics_aggregation_fn provided\n",
      "DEBUG flwr 2023-08-31 23:35:34,773 | server.py:173 | evaluate_round 1: strategy sampled 2 clients (out of 5)\n"
     ]
    },
    {
     "name": "stdout",
     "output_type": "stream",
     "text": [
      "agrregate_fit results list length is  2\n",
      "Saving round 1 aggregated_parameters...\n"
     ]
    },
    {
     "name": "stderr",
     "output_type": "stream",
     "text": [
      "DEBUG flwr 2023-08-31 23:35:35,156 | server.py:187 | evaluate_round 1 received 2 results and 0 failures\n",
      "DEBUG flwr 2023-08-31 23:35:35,159 | server.py:222 | fit_round 2: strategy sampled 2 clients (out of 5)\n"
     ]
    },
    {
     "name": "stdout",
     "output_type": "stream",
     "text": [
      "agrregate_evaluate results list length is  2\n",
      "server round is  1\n",
      "loss is  0.2376198023557663\n"
     ]
    },
    {
     "name": "stderr",
     "output_type": "stream",
     "text": [
      "DEBUG flwr 2023-08-31 23:35:39,703 | server.py:236 | fit_round 2 received 2 results and 0 failures\n",
      "DEBUG flwr 2023-08-31 23:35:39,724 | server.py:173 | evaluate_round 2: strategy sampled 2 clients (out of 5)\n"
     ]
    },
    {
     "name": "stdout",
     "output_type": "stream",
     "text": [
      "agrregate_fit results list length is  2\n",
      "Saving round 2 aggregated_parameters...\n"
     ]
    },
    {
     "name": "stderr",
     "output_type": "stream",
     "text": [
      "DEBUG flwr 2023-08-31 23:35:40,039 | server.py:187 | evaluate_round 2 received 2 results and 0 failures\n",
      "DEBUG flwr 2023-08-31 23:35:40,041 | server.py:222 | fit_round 3: strategy sampled 2 clients (out of 5)\n"
     ]
    },
    {
     "name": "stdout",
     "output_type": "stream",
     "text": [
      "agrregate_evaluate results list length is  2\n",
      "server round is  2\n",
      "loss is  0.23401542007923126\n"
     ]
    },
    {
     "name": "stderr",
     "output_type": "stream",
     "text": [
      "DEBUG flwr 2023-08-31 23:35:46,215 | server.py:236 | fit_round 3 received 2 results and 0 failures\n",
      "DEBUG flwr 2023-08-31 23:35:46,244 | server.py:173 | evaluate_round 3: strategy sampled 2 clients (out of 5)\n"
     ]
    },
    {
     "name": "stdout",
     "output_type": "stream",
     "text": [
      "agrregate_fit results list length is  2\n",
      "Saving round 3 aggregated_parameters...\n"
     ]
    },
    {
     "name": "stderr",
     "output_type": "stream",
     "text": [
      "DEBUG flwr 2023-08-31 23:35:46,571 | server.py:187 | evaluate_round 3 received 2 results and 0 failures\n",
      "DEBUG flwr 2023-08-31 23:35:46,574 | server.py:222 | fit_round 4: strategy sampled 2 clients (out of 5)\n"
     ]
    },
    {
     "name": "stdout",
     "output_type": "stream",
     "text": [
      "agrregate_evaluate results list length is  2\n",
      "server round is  3\n",
      "loss is  0.22991377115249634\n"
     ]
    },
    {
     "name": "stderr",
     "output_type": "stream",
     "text": [
      "DEBUG flwr 2023-08-31 23:35:51,911 | server.py:236 | fit_round 4 received 2 results and 0 failures\n",
      "DEBUG flwr 2023-08-31 23:35:51,940 | server.py:173 | evaluate_round 4: strategy sampled 2 clients (out of 5)\n"
     ]
    },
    {
     "name": "stdout",
     "output_type": "stream",
     "text": [
      "agrregate_fit results list length is  2\n",
      "Saving round 4 aggregated_parameters...\n"
     ]
    },
    {
     "name": "stderr",
     "output_type": "stream",
     "text": [
      "DEBUG flwr 2023-08-31 23:35:52,308 | server.py:187 | evaluate_round 4 received 2 results and 0 failures\n",
      "DEBUG flwr 2023-08-31 23:35:52,311 | server.py:222 | fit_round 5: strategy sampled 2 clients (out of 5)\n"
     ]
    },
    {
     "name": "stdout",
     "output_type": "stream",
     "text": [
      "agrregate_evaluate results list length is  2\n",
      "server round is  4\n",
      "loss is  0.22439375519752502\n"
     ]
    },
    {
     "name": "stderr",
     "output_type": "stream",
     "text": [
      "DEBUG flwr 2023-08-31 23:36:18,593 | server.py:236 | fit_round 5 received 2 results and 0 failures\n",
      "DEBUG flwr 2023-08-31 23:36:18,642 | server.py:173 | evaluate_round 5: strategy sampled 2 clients (out of 5)\n"
     ]
    },
    {
     "name": "stdout",
     "output_type": "stream",
     "text": [
      "agrregate_fit results list length is  2\n",
      "Saving round 5 aggregated_parameters...\n"
     ]
    },
    {
     "name": "stderr",
     "output_type": "stream",
     "text": [
      "DEBUG flwr 2023-08-31 23:36:19,157 | server.py:187 | evaluate_round 5 received 2 results and 0 failures\n",
      "DEBUG flwr 2023-08-31 23:36:19,160 | server.py:222 | fit_round 6: strategy sampled 2 clients (out of 5)\n"
     ]
    },
    {
     "name": "stdout",
     "output_type": "stream",
     "text": [
      "agrregate_evaluate results list length is  2\n",
      "server round is  5\n",
      "loss is  0.19765974581241608\n"
     ]
    },
    {
     "name": "stderr",
     "output_type": "stream",
     "text": [
      "DEBUG flwr 2023-08-31 23:36:42,365 | server.py:236 | fit_round 6 received 2 results and 0 failures\n",
      "DEBUG flwr 2023-08-31 23:36:42,382 | server.py:173 | evaluate_round 6: strategy sampled 2 clients (out of 5)\n"
     ]
    },
    {
     "name": "stdout",
     "output_type": "stream",
     "text": [
      "agrregate_fit results list length is  2\n",
      "Saving round 6 aggregated_parameters...\n"
     ]
    },
    {
     "name": "stderr",
     "output_type": "stream",
     "text": [
      "DEBUG flwr 2023-08-31 23:36:42,597 | server.py:187 | evaluate_round 6 received 2 results and 0 failures\n",
      "DEBUG flwr 2023-08-31 23:36:42,598 | server.py:222 | fit_round 7: strategy sampled 2 clients (out of 5)\n"
     ]
    },
    {
     "name": "stdout",
     "output_type": "stream",
     "text": [
      "agrregate_evaluate results list length is  2\n",
      "server round is  6\n",
      "loss is  0.17478539049625397\n"
     ]
    },
    {
     "name": "stderr",
     "output_type": "stream",
     "text": [
      "DEBUG flwr 2023-08-31 23:36:46,111 | server.py:236 | fit_round 7 received 2 results and 0 failures\n",
      "DEBUG flwr 2023-08-31 23:36:46,130 | server.py:173 | evaluate_round 7: strategy sampled 2 clients (out of 5)\n"
     ]
    },
    {
     "name": "stdout",
     "output_type": "stream",
     "text": [
      "agrregate_fit results list length is  2\n",
      "Saving round 7 aggregated_parameters...\n"
     ]
    },
    {
     "name": "stderr",
     "output_type": "stream",
     "text": [
      "DEBUG flwr 2023-08-31 23:36:46,359 | server.py:187 | evaluate_round 7 received 2 results and 0 failures\n",
      "DEBUG flwr 2023-08-31 23:36:46,361 | server.py:222 | fit_round 8: strategy sampled 2 clients (out of 5)\n"
     ]
    },
    {
     "name": "stdout",
     "output_type": "stream",
     "text": [
      "agrregate_evaluate results list length is  2\n",
      "server round is  7\n",
      "loss is  0.16519959270954132\n"
     ]
    },
    {
     "name": "stderr",
     "output_type": "stream",
     "text": [
      "DEBUG flwr 2023-08-31 23:36:49,919 | server.py:236 | fit_round 8 received 2 results and 0 failures\n",
      "DEBUG flwr 2023-08-31 23:36:49,944 | server.py:173 | evaluate_round 8: strategy sampled 2 clients (out of 5)\n"
     ]
    },
    {
     "name": "stdout",
     "output_type": "stream",
     "text": [
      "agrregate_fit results list length is  2\n",
      "Saving round 8 aggregated_parameters...\n"
     ]
    },
    {
     "name": "stderr",
     "output_type": "stream",
     "text": [
      "DEBUG flwr 2023-08-31 23:36:50,162 | server.py:187 | evaluate_round 8 received 2 results and 0 failures\n",
      "DEBUG flwr 2023-08-31 23:36:50,166 | server.py:222 | fit_round 9: strategy sampled 2 clients (out of 5)\n"
     ]
    },
    {
     "name": "stdout",
     "output_type": "stream",
     "text": [
      "agrregate_evaluate results list length is  2\n",
      "server round is  8\n",
      "loss is  0.16638022661209106\n"
     ]
    },
    {
     "name": "stderr",
     "output_type": "stream",
     "text": [
      "DEBUG flwr 2023-08-31 23:36:53,658 | server.py:236 | fit_round 9 received 2 results and 0 failures\n",
      "DEBUG flwr 2023-08-31 23:36:53,682 | server.py:173 | evaluate_round 9: strategy sampled 2 clients (out of 5)\n"
     ]
    },
    {
     "name": "stdout",
     "output_type": "stream",
     "text": [
      "agrregate_fit results list length is  2\n",
      "Saving round 9 aggregated_parameters...\n"
     ]
    },
    {
     "name": "stderr",
     "output_type": "stream",
     "text": [
      "DEBUG flwr 2023-08-31 23:36:53,948 | server.py:187 | evaluate_round 9 received 2 results and 0 failures\n",
      "DEBUG flwr 2023-08-31 23:36:53,950 | server.py:222 | fit_round 10: strategy sampled 2 clients (out of 5)\n"
     ]
    },
    {
     "name": "stdout",
     "output_type": "stream",
     "text": [
      "agrregate_evaluate results list length is  2\n",
      "server round is  9\n",
      "loss is  0.1701480746269226\n"
     ]
    },
    {
     "name": "stderr",
     "output_type": "stream",
     "text": [
      "DEBUG flwr 2023-08-31 23:37:12,806 | server.py:236 | fit_round 10 received 2 results and 0 failures\n",
      "DEBUG flwr 2023-08-31 23:37:12,835 | server.py:173 | evaluate_round 10: strategy sampled 2 clients (out of 5)\n"
     ]
    },
    {
     "name": "stdout",
     "output_type": "stream",
     "text": [
      "agrregate_fit results list length is  2\n",
      "Saving round 10 aggregated_parameters...\n"
     ]
    },
    {
     "name": "stderr",
     "output_type": "stream",
     "text": [
      "DEBUG flwr 2023-08-31 23:37:13,166 | server.py:187 | evaluate_round 10 received 2 results and 0 failures\n",
      "DEBUG flwr 2023-08-31 23:37:13,170 | server.py:222 | fit_round 11: strategy sampled 2 clients (out of 5)\n"
     ]
    },
    {
     "name": "stdout",
     "output_type": "stream",
     "text": [
      "agrregate_evaluate results list length is  2\n",
      "server round is  10\n",
      "loss is  0.16052773594856262\n"
     ]
    },
    {
     "name": "stderr",
     "output_type": "stream",
     "text": [
      "DEBUG flwr 2023-08-31 23:37:34,545 | server.py:236 | fit_round 11 received 2 results and 0 failures\n",
      "DEBUG flwr 2023-08-31 23:37:34,556 | server.py:173 | evaluate_round 11: strategy sampled 2 clients (out of 5)\n",
      "DEBUG flwr 2023-08-31 23:37:34,693 | server.py:187 | evaluate_round 11 received 2 results and 0 failures\n",
      "DEBUG flwr 2023-08-31 23:37:34,694 | server.py:222 | fit_round 12: strategy sampled 2 clients (out of 5)\n"
     ]
    },
    {
     "name": "stdout",
     "output_type": "stream",
     "text": [
      "agrregate_fit results list length is  2\n",
      "Saving round 11 aggregated_parameters...\n",
      "agrregate_evaluate results list length is  2\n",
      "server round is  11\n",
      "loss is  0.158692866563797\n"
     ]
    },
    {
     "name": "stderr",
     "output_type": "stream",
     "text": [
      "DEBUG flwr 2023-08-31 23:37:36,674 | server.py:236 | fit_round 12 received 2 results and 0 failures\n",
      "DEBUG flwr 2023-08-31 23:37:36,687 | server.py:173 | evaluate_round 12: strategy sampled 2 clients (out of 5)\n",
      "DEBUG flwr 2023-08-31 23:37:36,843 | server.py:187 | evaluate_round 12 received 2 results and 0 failures\n",
      "DEBUG flwr 2023-08-31 23:37:36,846 | server.py:222 | fit_round 13: strategy sampled 2 clients (out of 5)\n"
     ]
    },
    {
     "name": "stdout",
     "output_type": "stream",
     "text": [
      "agrregate_fit results list length is  2\n",
      "Saving round 12 aggregated_parameters...\n",
      "agrregate_evaluate results list length is  2\n",
      "server round is  12\n",
      "loss is  0.15615199506282806\n"
     ]
    },
    {
     "name": "stderr",
     "output_type": "stream",
     "text": [
      "DEBUG flwr 2023-08-31 23:37:38,924 | server.py:236 | fit_round 13 received 2 results and 0 failures\n",
      "DEBUG flwr 2023-08-31 23:37:38,940 | server.py:173 | evaluate_round 13: strategy sampled 2 clients (out of 5)\n",
      "DEBUG flwr 2023-08-31 23:37:39,109 | server.py:187 | evaluate_round 13 received 2 results and 0 failures\n",
      "DEBUG flwr 2023-08-31 23:37:39,110 | server.py:222 | fit_round 14: strategy sampled 2 clients (out of 5)\n"
     ]
    },
    {
     "name": "stdout",
     "output_type": "stream",
     "text": [
      "agrregate_fit results list length is  2\n",
      "Saving round 13 aggregated_parameters...\n",
      "agrregate_evaluate results list length is  2\n",
      "server round is  13\n",
      "loss is  0.15814515948295593\n"
     ]
    },
    {
     "name": "stderr",
     "output_type": "stream",
     "text": [
      "DEBUG flwr 2023-08-31 23:37:53,436 | server.py:236 | fit_round 14 received 2 results and 0 failures\n",
      "DEBUG flwr 2023-08-31 23:37:53,454 | server.py:173 | evaluate_round 14: strategy sampled 2 clients (out of 5)\n",
      "DEBUG flwr 2023-08-31 23:37:53,632 | server.py:187 | evaluate_round 14 received 2 results and 0 failures\n"
     ]
    },
    {
     "name": "stdout",
     "output_type": "stream",
     "text": [
      "agrregate_fit results list length is  2\n",
      "Saving round 14 aggregated_parameters...\n"
     ]
    },
    {
     "name": "stderr",
     "output_type": "stream",
     "text": [
      "DEBUG flwr 2023-08-31 23:37:53,634 | server.py:222 | fit_round 15: strategy sampled 2 clients (out of 5)\n"
     ]
    },
    {
     "name": "stdout",
     "output_type": "stream",
     "text": [
      "agrregate_evaluate results list length is  2\n",
      "server round is  14\n",
      "loss is  0.15874122083187103\n"
     ]
    },
    {
     "name": "stderr",
     "output_type": "stream",
     "text": [
      "DEBUG flwr 2023-08-31 23:37:56,809 | server.py:236 | fit_round 15 received 2 results and 0 failures\n",
      "DEBUG flwr 2023-08-31 23:37:56,836 | server.py:173 | evaluate_round 15: strategy sampled 2 clients (out of 5)\n"
     ]
    },
    {
     "name": "stdout",
     "output_type": "stream",
     "text": [
      "agrregate_fit results list length is  2\n",
      "Saving round 15 aggregated_parameters...\n"
     ]
    },
    {
     "name": "stderr",
     "output_type": "stream",
     "text": [
      "DEBUG flwr 2023-08-31 23:37:57,064 | server.py:187 | evaluate_round 15 received 2 results and 0 failures\n",
      "DEBUG flwr 2023-08-31 23:37:57,066 | server.py:222 | fit_round 16: strategy sampled 2 clients (out of 5)\n"
     ]
    },
    {
     "name": "stdout",
     "output_type": "stream",
     "text": [
      "agrregate_evaluate results list length is  2\n",
      "server round is  15\n",
      "loss is  0.15466447174549103\n"
     ]
    },
    {
     "name": "stderr",
     "output_type": "stream",
     "text": [
      "DEBUG flwr 2023-08-31 23:38:00,443 | server.py:236 | fit_round 16 received 2 results and 0 failures\n",
      "DEBUG flwr 2023-08-31 23:38:00,480 | server.py:173 | evaluate_round 16: strategy sampled 2 clients (out of 5)\n"
     ]
    },
    {
     "name": "stdout",
     "output_type": "stream",
     "text": [
      "agrregate_fit results list length is  2\n",
      "Saving round 16 aggregated_parameters...\n"
     ]
    },
    {
     "name": "stderr",
     "output_type": "stream",
     "text": [
      "DEBUG flwr 2023-08-31 23:38:00,950 | server.py:187 | evaluate_round 16 received 2 results and 0 failures\n",
      "DEBUG flwr 2023-08-31 23:38:00,953 | server.py:222 | fit_round 17: strategy sampled 2 clients (out of 5)\n"
     ]
    },
    {
     "name": "stdout",
     "output_type": "stream",
     "text": [
      "agrregate_evaluate results list length is  2\n",
      "server round is  16\n",
      "loss is  0.15985693037509918\n"
     ]
    },
    {
     "name": "stderr",
     "output_type": "stream",
     "text": [
      "DEBUG flwr 2023-08-31 23:38:23,622 | server.py:236 | fit_round 17 received 2 results and 0 failures\n",
      "DEBUG flwr 2023-08-31 23:38:23,643 | server.py:173 | evaluate_round 17: strategy sampled 2 clients (out of 5)\n"
     ]
    },
    {
     "name": "stdout",
     "output_type": "stream",
     "text": [
      "agrregate_fit results list length is  2\n",
      "Saving round 17 aggregated_parameters...\n"
     ]
    },
    {
     "name": "stderr",
     "output_type": "stream",
     "text": [
      "DEBUG flwr 2023-08-31 23:38:23,881 | server.py:187 | evaluate_round 17 received 2 results and 0 failures\n",
      "DEBUG flwr 2023-08-31 23:38:23,882 | server.py:222 | fit_round 18: strategy sampled 2 clients (out of 5)\n"
     ]
    },
    {
     "name": "stdout",
     "output_type": "stream",
     "text": [
      "agrregate_evaluate results list length is  2\n",
      "server round is  17\n",
      "loss is  0.15523909032344818\n"
     ]
    },
    {
     "name": "stderr",
     "output_type": "stream",
     "text": [
      "DEBUG flwr 2023-08-31 23:38:40,203 | server.py:236 | fit_round 18 received 2 results and 0 failures\n",
      "DEBUG flwr 2023-08-31 23:38:40,215 | server.py:173 | evaluate_round 18: strategy sampled 2 clients (out of 5)\n",
      "DEBUG flwr 2023-08-31 23:38:40,380 | server.py:187 | evaluate_round 18 received 2 results and 0 failures\n",
      "DEBUG flwr 2023-08-31 23:38:40,382 | server.py:222 | fit_round 19: strategy sampled 2 clients (out of 5)\n"
     ]
    },
    {
     "name": "stdout",
     "output_type": "stream",
     "text": [
      "agrregate_fit results list length is  2\n",
      "Saving round 18 aggregated_parameters...\n",
      "agrregate_evaluate results list length is  2\n",
      "server round is  18\n",
      "loss is  0.1531909555196762\n"
     ]
    },
    {
     "name": "stderr",
     "output_type": "stream",
     "text": [
      "DEBUG flwr 2023-08-31 23:38:50,905 | server.py:236 | fit_round 19 received 2 results and 0 failures\n",
      "DEBUG flwr 2023-08-31 23:38:50,924 | server.py:173 | evaluate_round 19: strategy sampled 2 clients (out of 5)\n"
     ]
    },
    {
     "name": "stdout",
     "output_type": "stream",
     "text": [
      "agrregate_fit results list length is  2\n",
      "Saving round 19 aggregated_parameters...\n"
     ]
    },
    {
     "name": "stderr",
     "output_type": "stream",
     "text": [
      "DEBUG flwr 2023-08-31 23:38:51,146 | server.py:187 | evaluate_round 19 received 2 results and 0 failures\n",
      "DEBUG flwr 2023-08-31 23:38:51,149 | server.py:222 | fit_round 20: strategy sampled 2 clients (out of 5)\n"
     ]
    },
    {
     "name": "stdout",
     "output_type": "stream",
     "text": [
      "agrregate_evaluate results list length is  2\n",
      "server round is  19\n",
      "loss is  0.15972329676151276\n"
     ]
    },
    {
     "name": "stderr",
     "output_type": "stream",
     "text": [
      "DEBUG flwr 2023-08-31 23:38:53,419 | server.py:236 | fit_round 20 received 2 results and 0 failures\n",
      "DEBUG flwr 2023-08-31 23:38:53,432 | server.py:173 | evaluate_round 20: strategy sampled 2 clients (out of 5)\n"
     ]
    },
    {
     "name": "stdout",
     "output_type": "stream",
     "text": [
      "agrregate_fit results list length is  2\n",
      "Saving round 20 aggregated_parameters...\n"
     ]
    },
    {
     "name": "stderr",
     "output_type": "stream",
     "text": [
      "DEBUG flwr 2023-08-31 23:38:53,663 | server.py:187 | evaluate_round 20 received 2 results and 0 failures\n",
      "DEBUG flwr 2023-08-31 23:38:53,665 | server.py:222 | fit_round 21: strategy sampled 2 clients (out of 5)\n"
     ]
    },
    {
     "name": "stdout",
     "output_type": "stream",
     "text": [
      "agrregate_evaluate results list length is  2\n",
      "server round is  20\n",
      "loss is  0.15589378774166107\n"
     ]
    },
    {
     "name": "stderr",
     "output_type": "stream",
     "text": [
      "DEBUG flwr 2023-08-31 23:39:09,335 | server.py:236 | fit_round 21 received 2 results and 0 failures\n",
      "DEBUG flwr 2023-08-31 23:39:09,354 | server.py:173 | evaluate_round 21: strategy sampled 2 clients (out of 5)\n",
      "DEBUG flwr 2023-08-31 23:39:09,544 | server.py:187 | evaluate_round 21 received 2 results and 0 failures\n"
     ]
    },
    {
     "name": "stdout",
     "output_type": "stream",
     "text": [
      "agrregate_fit results list length is  2\n",
      "Saving round 21 aggregated_parameters...\n"
     ]
    },
    {
     "name": "stderr",
     "output_type": "stream",
     "text": [
      "DEBUG flwr 2023-08-31 23:39:09,546 | server.py:222 | fit_round 22: strategy sampled 2 clients (out of 5)\n"
     ]
    },
    {
     "name": "stdout",
     "output_type": "stream",
     "text": [
      "agrregate_evaluate results list length is  2\n",
      "server round is  21\n",
      "loss is  0.15331345796585083\n"
     ]
    },
    {
     "name": "stderr",
     "output_type": "stream",
     "text": [
      "DEBUG flwr 2023-08-31 23:39:22,234 | server.py:236 | fit_round 22 received 2 results and 0 failures\n",
      "DEBUG flwr 2023-08-31 23:39:22,248 | server.py:173 | evaluate_round 22: strategy sampled 2 clients (out of 5)\n"
     ]
    },
    {
     "name": "stdout",
     "output_type": "stream",
     "text": [
      "agrregate_fit results list length is  2\n",
      "Saving round 22 aggregated_parameters...\n"
     ]
    },
    {
     "name": "stderr",
     "output_type": "stream",
     "text": [
      "DEBUG flwr 2023-08-31 23:39:22,442 | server.py:187 | evaluate_round 22 received 2 results and 0 failures\n",
      "DEBUG flwr 2023-08-31 23:39:22,446 | server.py:222 | fit_round 23: strategy sampled 2 clients (out of 5)\n"
     ]
    },
    {
     "name": "stdout",
     "output_type": "stream",
     "text": [
      "agrregate_evaluate results list length is  2\n",
      "server round is  22\n",
      "loss is  0.15735302865505219\n"
     ]
    },
    {
     "name": "stderr",
     "output_type": "stream",
     "text": [
      "DEBUG flwr 2023-08-31 23:39:36,544 | server.py:236 | fit_round 23 received 2 results and 0 failures\n",
      "DEBUG flwr 2023-08-31 23:39:36,563 | server.py:173 | evaluate_round 23: strategy sampled 2 clients (out of 5)\n"
     ]
    },
    {
     "name": "stdout",
     "output_type": "stream",
     "text": [
      "agrregate_fit results list length is  2\n",
      "Saving round 23 aggregated_parameters...\n"
     ]
    },
    {
     "name": "stderr",
     "output_type": "stream",
     "text": [
      "DEBUG flwr 2023-08-31 23:39:36,764 | server.py:187 | evaluate_round 23 received 2 results and 0 failures\n",
      "DEBUG flwr 2023-08-31 23:39:36,766 | server.py:222 | fit_round 24: strategy sampled 2 clients (out of 5)\n"
     ]
    },
    {
     "name": "stdout",
     "output_type": "stream",
     "text": [
      "agrregate_evaluate results list length is  2\n",
      "server round is  23\n",
      "loss is  0.1540968269109726\n"
     ]
    },
    {
     "name": "stderr",
     "output_type": "stream",
     "text": [
      "DEBUG flwr 2023-08-31 23:39:39,575 | server.py:236 | fit_round 24 received 2 results and 0 failures\n",
      "DEBUG flwr 2023-08-31 23:39:39,591 | server.py:173 | evaluate_round 24: strategy sampled 2 clients (out of 5)\n"
     ]
    },
    {
     "name": "stdout",
     "output_type": "stream",
     "text": [
      "agrregate_fit results list length is  2\n",
      "Saving round 24 aggregated_parameters...\n"
     ]
    },
    {
     "name": "stderr",
     "output_type": "stream",
     "text": [
      "DEBUG flwr 2023-08-31 23:39:39,797 | server.py:187 | evaluate_round 24 received 2 results and 0 failures\n",
      "DEBUG flwr 2023-08-31 23:39:39,800 | server.py:222 | fit_round 25: strategy sampled 2 clients (out of 5)\n"
     ]
    },
    {
     "name": "stdout",
     "output_type": "stream",
     "text": [
      "agrregate_evaluate results list length is  2\n",
      "server round is  24\n",
      "loss is  0.14838550984859467\n"
     ]
    },
    {
     "name": "stderr",
     "output_type": "stream",
     "text": [
      "DEBUG flwr 2023-08-31 23:39:42,795 | server.py:236 | fit_round 25 received 2 results and 0 failures\n",
      "DEBUG flwr 2023-08-31 23:39:42,814 | server.py:173 | evaluate_round 25: strategy sampled 2 clients (out of 5)\n",
      "DEBUG flwr 2023-08-31 23:39:42,998 | server.py:187 | evaluate_round 25 received 2 results and 0 failures\n"
     ]
    },
    {
     "name": "stdout",
     "output_type": "stream",
     "text": [
      "agrregate_fit results list length is  2\n",
      "Saving round 25 aggregated_parameters...\n"
     ]
    },
    {
     "name": "stderr",
     "output_type": "stream",
     "text": [
      "DEBUG flwr 2023-08-31 23:39:42,999 | server.py:222 | fit_round 26: strategy sampled 2 clients (out of 5)\n"
     ]
    },
    {
     "name": "stdout",
     "output_type": "stream",
     "text": [
      "agrregate_evaluate results list length is  2\n",
      "server round is  25\n",
      "loss is  0.15201100707054138\n"
     ]
    },
    {
     "name": "stderr",
     "output_type": "stream",
     "text": [
      "DEBUG flwr 2023-08-31 23:39:45,769 | server.py:236 | fit_round 26 received 2 results and 0 failures\n",
      "DEBUG flwr 2023-08-31 23:39:45,794 | server.py:173 | evaluate_round 26: strategy sampled 2 clients (out of 5)\n"
     ]
    },
    {
     "name": "stdout",
     "output_type": "stream",
     "text": [
      "agrregate_fit results list length is  2\n",
      "Saving round 26 aggregated_parameters...\n"
     ]
    },
    {
     "name": "stderr",
     "output_type": "stream",
     "text": [
      "DEBUG flwr 2023-08-31 23:39:46,011 | server.py:187 | evaluate_round 26 received 2 results and 0 failures\n",
      "DEBUG flwr 2023-08-31 23:39:46,024 | server.py:222 | fit_round 27: strategy sampled 2 clients (out of 5)\n"
     ]
    },
    {
     "name": "stdout",
     "output_type": "stream",
     "text": [
      "agrregate_evaluate results list length is  2\n",
      "server round is  26\n",
      "loss is  0.15629072487354279\n"
     ]
    },
    {
     "name": "stderr",
     "output_type": "stream",
     "text": [
      "DEBUG flwr 2023-08-31 23:39:49,021 | server.py:236 | fit_round 27 received 2 results and 0 failures\n",
      "DEBUG flwr 2023-08-31 23:39:49,039 | server.py:173 | evaluate_round 27: strategy sampled 2 clients (out of 5)\n"
     ]
    },
    {
     "name": "stdout",
     "output_type": "stream",
     "text": [
      "agrregate_fit results list length is  2\n",
      "Saving round 27 aggregated_parameters...\n"
     ]
    },
    {
     "name": "stderr",
     "output_type": "stream",
     "text": [
      "DEBUG flwr 2023-08-31 23:39:49,243 | server.py:187 | evaluate_round 27 received 2 results and 0 failures\n",
      "DEBUG flwr 2023-08-31 23:39:49,246 | server.py:222 | fit_round 28: strategy sampled 2 clients (out of 5)\n"
     ]
    },
    {
     "name": "stdout",
     "output_type": "stream",
     "text": [
      "agrregate_evaluate results list length is  2\n",
      "server round is  27\n",
      "loss is  0.15152877569198608\n"
     ]
    },
    {
     "name": "stderr",
     "output_type": "stream",
     "text": [
      "DEBUG flwr 2023-08-31 23:39:52,901 | server.py:236 | fit_round 28 received 2 results and 0 failures\n",
      "DEBUG flwr 2023-08-31 23:39:52,920 | server.py:173 | evaluate_round 28: strategy sampled 2 clients (out of 5)\n"
     ]
    },
    {
     "name": "stdout",
     "output_type": "stream",
     "text": [
      "agrregate_fit results list length is  2\n",
      "Saving round 28 aggregated_parameters...\n"
     ]
    },
    {
     "name": "stderr",
     "output_type": "stream",
     "text": [
      "DEBUG flwr 2023-08-31 23:39:53,139 | server.py:187 | evaluate_round 28 received 2 results and 0 failures\n",
      "DEBUG flwr 2023-08-31 23:39:53,141 | server.py:222 | fit_round 29: strategy sampled 2 clients (out of 5)\n"
     ]
    },
    {
     "name": "stdout",
     "output_type": "stream",
     "text": [
      "agrregate_evaluate results list length is  2\n",
      "server round is  28\n",
      "loss is  0.15735697746276855\n"
     ]
    },
    {
     "name": "stderr",
     "output_type": "stream",
     "text": [
      "DEBUG flwr 2023-08-31 23:39:56,568 | server.py:236 | fit_round 29 received 2 results and 0 failures\n",
      "DEBUG flwr 2023-08-31 23:39:56,597 | server.py:173 | evaluate_round 29: strategy sampled 2 clients (out of 5)\n"
     ]
    },
    {
     "name": "stdout",
     "output_type": "stream",
     "text": [
      "agrregate_fit results list length is  2\n",
      "Saving round 29 aggregated_parameters...\n"
     ]
    },
    {
     "name": "stderr",
     "output_type": "stream",
     "text": [
      "DEBUG flwr 2023-08-31 23:39:56,921 | server.py:187 | evaluate_round 29 received 2 results and 0 failures\n",
      "DEBUG flwr 2023-08-31 23:39:56,924 | server.py:222 | fit_round 30: strategy sampled 2 clients (out of 5)\n"
     ]
    },
    {
     "name": "stdout",
     "output_type": "stream",
     "text": [
      "agrregate_evaluate results list length is  2\n",
      "server round is  29\n",
      "loss is  0.1549636423587799\n"
     ]
    },
    {
     "name": "stderr",
     "output_type": "stream",
     "text": [
      "DEBUG flwr 2023-08-31 23:40:11,144 | server.py:236 | fit_round 30 received 2 results and 0 failures\n",
      "DEBUG flwr 2023-08-31 23:40:11,158 | server.py:173 | evaluate_round 30: strategy sampled 2 clients (out of 5)\n"
     ]
    },
    {
     "name": "stdout",
     "output_type": "stream",
     "text": [
      "agrregate_fit results list length is  2\n",
      "Saving round 30 aggregated_parameters...\n"
     ]
    },
    {
     "name": "stderr",
     "output_type": "stream",
     "text": [
      "DEBUG flwr 2023-08-31 23:40:11,357 | server.py:187 | evaluate_round 30 received 2 results and 0 failures\n",
      "INFO flwr 2023-08-31 23:40:11,358 | server.py:153 | FL finished in 308.9421450999798\n",
      "INFO flwr 2023-08-31 23:40:11,359 | app.py:225 | app_fit: losses_distributed [(1, 0.2376198023557663), (2, 0.23401542007923126), (3, 0.22991377115249634), (4, 0.22439375519752502), (5, 0.19765974581241608), (6, 0.17478539049625397), (7, 0.16519959270954132), (8, 0.16638022661209106), (9, 0.1701480746269226), (10, 0.16052773594856262), (11, 0.158692866563797), (12, 0.15615199506282806), (13, 0.15814515948295593), (14, 0.15874122083187103), (15, 0.15466447174549103), (16, 0.15985693037509918), (17, 0.15523909032344818), (18, 0.1531909555196762), (19, 0.15972329676151276), (20, 0.15589378774166107), (21, 0.15331345796585083), (22, 0.15735302865505219), (23, 0.1540968269109726), (24, 0.14838550984859467), (25, 0.15201100707054138), (26, 0.15629072487354279), (27, 0.15152877569198608), (28, 0.15735697746276855), (29, 0.1549636423587799), (30, 0.15353956818580627)]\n",
      "INFO flwr 2023-08-31 23:40:11,360 | app.py:226 | app_fit: metrics_distributed_fit {}\n",
      "INFO flwr 2023-08-31 23:40:11,362 | app.py:227 | app_fit: metrics_distributed {'mse': [(1, 0.4752396047115326), (2, 0.4680308401584625), (3, 0.4598275423049927), (4, 0.44878751039505005), (5, 0.39531949162483215), (6, 0.34957078099250793), (7, 0.33039918541908264), (8, 0.33276045322418213), (9, 0.3402961492538452), (10, 0.32105547189712524), (11, 0.317385733127594), (12, 0.31230399012565613), (13, 0.31629031896591187), (14, 0.31748244166374207), (15, 0.30932894349098206), (16, 0.31971386075019836), (17, 0.31047818064689636), (18, 0.3063819110393524), (19, 0.3194465935230255), (20, 0.31178757548332214), (21, 0.30662691593170166), (22, 0.31470605731010437), (23, 0.3081936538219452), (24, 0.29677101969718933), (25, 0.30402201414108276), (26, 0.31258144974708557), (27, 0.30305755138397217), (28, 0.3147139549255371), (29, 0.3099272847175598), (30, 0.30707913637161255)]}\n",
      "INFO flwr 2023-08-31 23:40:11,362 | app.py:228 | app_fit: losses_centralized []\n",
      "INFO flwr 2023-08-31 23:40:11,363 | app.py:229 | app_fit: metrics_centralized {}\n"
     ]
    },
    {
     "name": "stdout",
     "output_type": "stream",
     "text": [
      "agrregate_evaluate results list length is  2\n",
      "server round is  30\n",
      "loss is  0.15353956818580627\n",
      "History (loss, distributed):\n",
      "\tround 1: 0.2376198023557663\n",
      "\tround 2: 0.23401542007923126\n",
      "\tround 3: 0.22991377115249634\n",
      "\tround 4: 0.22439375519752502\n",
      "\tround 5: 0.19765974581241608\n",
      "\tround 6: 0.17478539049625397\n",
      "\tround 7: 0.16519959270954132\n",
      "\tround 8: 0.16638022661209106\n",
      "\tround 9: 0.1701480746269226\n",
      "\tround 10: 0.16052773594856262\n",
      "\tround 11: 0.158692866563797\n",
      "\tround 12: 0.15615199506282806\n",
      "\tround 13: 0.15814515948295593\n",
      "\tround 14: 0.15874122083187103\n",
      "\tround 15: 0.15466447174549103\n",
      "\tround 16: 0.15985693037509918\n",
      "\tround 17: 0.15523909032344818\n",
      "\tround 18: 0.1531909555196762\n",
      "\tround 19: 0.15972329676151276\n",
      "\tround 20: 0.15589378774166107\n",
      "\tround 21: 0.15331345796585083\n",
      "\tround 22: 0.15735302865505219\n",
      "\tround 23: 0.1540968269109726\n",
      "\tround 24: 0.14838550984859467\n",
      "\tround 25: 0.15201100707054138\n",
      "\tround 26: 0.15629072487354279\n",
      "\tround 27: 0.15152877569198608\n",
      "\tround 28: 0.15735697746276855\n",
      "\tround 29: 0.1549636423587799\n",
      "\tround 30: 0.15353956818580627\n",
      "History (metrics, distributed, evaluate):\n",
      "{'mse': [(1, 0.4752396047115326), (2, 0.4680308401584625), (3, 0.4598275423049927), (4, 0.44878751039505005), (5, 0.39531949162483215), (6, 0.34957078099250793), (7, 0.33039918541908264), (8, 0.33276045322418213), (9, 0.3402961492538452), (10, 0.32105547189712524), (11, 0.317385733127594), (12, 0.31230399012565613), (13, 0.31629031896591187), (14, 0.31748244166374207), (15, 0.30932894349098206), (16, 0.31971386075019836), (17, 0.31047818064689636), (18, 0.3063819110393524), (19, 0.3194465935230255), (20, 0.31178757548332214), (21, 0.30662691593170166), (22, 0.31470605731010437), (23, 0.3081936538219452), (24, 0.29677101969718933), (25, 0.30402201414108276), (26, 0.31258144974708557), (27, 0.30305755138397217), (28, 0.3147139549255371), (29, 0.3099272847175598), (30, 0.30707913637161255)]}\n",
      "[(1, 0.2376198023557663), (2, 0.23401542007923126), (3, 0.22991377115249634), (4, 0.22439375519752502), (5, 0.19765974581241608), (6, 0.17478539049625397), (7, 0.16519959270954132), (8, 0.16638022661209106), (9, 0.1701480746269226), (10, 0.16052773594856262), (11, 0.158692866563797), (12, 0.15615199506282806), (13, 0.15814515948295593), (14, 0.15874122083187103), (15, 0.15466447174549103), (16, 0.15985693037509918), (17, 0.15523909032344818), (18, 0.1531909555196762), (19, 0.15972329676151276), (20, 0.15589378774166107), (21, 0.15331345796585083), (22, 0.15735302865505219), (23, 0.1540968269109726), (24, 0.14838550984859467), (25, 0.15201100707054138), (26, 0.15629072487354279), (27, 0.15152877569198608), (28, 0.15735697746276855), (29, 0.1549636423587799), (30, 0.15353956818580627)]\n",
      "0.8305803102231492\n",
      "Fold 2:\n",
      "splitting [0.6, 0.1, 0.1, 0.1, 0.1]\n",
      "time 0:05:43.920251\n",
      "mse [0.15353957]\n",
      "auc [0.8305803102231492]\n"
     ]
    }
   ],
   "source": [
    "splitting = [0.6, 0.1, 0.1, 0.1, 0.1]\n",
    "do_fl(splitting, num_rounds)\n"
   ],
   "metadata": {
    "collapsed": false,
    "ExecuteTime": {
     "end_time": "2023-08-31T22:40:11.544234800Z",
     "start_time": "2023-08-31T22:34:27.574110600Z"
    }
   }
  },
  {
   "cell_type": "code",
   "execution_count": 16,
   "outputs": [
    {
     "name": "stdout",
     "output_type": "stream",
     "text": [
      "Fold 1:\n",
      "x_test: cpu\n",
      "y_test: cpu\n",
      "30\n",
      "Client 0 trainset shape torch.Size([179088, 10])\n",
      "Client 1 trainset shape torch.Size([8964, 10])\n",
      "Client 2 trainset shape torch.Size([9004, 10])\n",
      "Client 3 trainset shape torch.Size([8958, 10])\n"
     ]
    },
    {
     "name": "stderr",
     "output_type": "stream",
     "text": [
      "C:\\Users\\Shuyao\\AppData\\Local\\Temp\\ipykernel_23376\\475339861.py:29: UserWarning: To copy construct from a tensor, it is recommended to use sourceTensor.clone().detach() or sourceTensor.clone().detach().requires_grad_(True), rather than torch.tensor(sourceTensor).\n",
      "  X_train = torch.tensor(X_train)\n",
      "C:\\Users\\Shuyao\\AppData\\Local\\Temp\\ipykernel_23376\\475339861.py:30: UserWarning: To copy construct from a tensor, it is recommended to use sourceTensor.clone().detach() or sourceTensor.clone().detach().requires_grad_(True), rather than torch.tensor(sourceTensor).\n",
      "  X_test = torch.tensor(X_test)\n",
      "C:\\Users\\Shuyao\\AppData\\Local\\Temp\\ipykernel_23376\\475339861.py:31: UserWarning: To copy construct from a tensor, it is recommended to use sourceTensor.clone().detach() or sourceTensor.clone().detach().requires_grad_(True), rather than torch.tensor(sourceTensor).\n",
      "  y_train = torch.reshape(torch.tensor(y_train), (-1, 1))\n",
      "C:\\Users\\Shuyao\\AppData\\Local\\Temp\\ipykernel_23376\\475339861.py:32: UserWarning: To copy construct from a tensor, it is recommended to use sourceTensor.clone().detach() or sourceTensor.clone().detach().requires_grad_(True), rather than torch.tensor(sourceTensor).\n",
      "  y_test = torch.reshape(torch.tensor(y_test), (-1, 1))\n",
      "INFO flwr 2023-08-31 23:40:11,765 | app.py:145 | Starting Flower simulation, config: ServerConfig(num_rounds=30, round_timeout=None)\n"
     ]
    },
    {
     "name": "stdout",
     "output_type": "stream",
     "text": [
      "Client 4 trainset shape torch.Size([8978, 10])\n",
      "FL started training on cpu\n",
      "Number of available GPUs: 0\n"
     ]
    },
    {
     "name": "stderr",
     "output_type": "stream",
     "text": [
      "2023-08-31 23:40:22,156\tINFO worker.py:1627 -- Started a local Ray instance. View the dashboard at \u001B[1m\u001B[32m127.0.0.1:8270 \u001B[39m\u001B[22m\n",
      "INFO flwr 2023-08-31 23:40:32,429 | app.py:179 | Flower VCE: Ray initialized with resources: {'node:127.0.0.1': 1.0, 'memory': 1160390247.0, 'object_store_memory': 580195123.0, 'GPU': 1.0, 'CPU': 8.0}\n",
      "INFO flwr 2023-08-31 23:40:32,431 | server.py:89 | Initializing global parameters\n",
      "INFO flwr 2023-08-31 23:40:32,433 | server.py:276 | Requesting initial parameters from one random client\n",
      "INFO flwr 2023-08-31 23:40:38,721 | server.py:280 | Received initial parameters from one random client\n",
      "INFO flwr 2023-08-31 23:40:38,721 | server.py:91 | Evaluating initial parameters\n",
      "INFO flwr 2023-08-31 23:40:38,722 | server.py:104 | FL starting\n",
      "DEBUG flwr 2023-08-31 23:40:38,723 | server.py:222 | fit_round 1: strategy sampled 2 clients (out of 5)\n",
      "DEBUG flwr 2023-08-31 23:40:43,203 | server.py:236 | fit_round 1 received 2 results and 0 failures\n",
      "WARNING flwr 2023-08-31 23:40:43,209 | fedavg.py:242 | No fit_metrics_aggregation_fn provided\n",
      "DEBUG flwr 2023-08-31 23:40:43,220 | server.py:173 | evaluate_round 1: strategy sampled 2 clients (out of 5)\n",
      "DEBUG flwr 2023-08-31 23:40:43,377 | server.py:187 | evaluate_round 1 received 2 results and 0 failures\n",
      "DEBUG flwr 2023-08-31 23:40:43,379 | server.py:222 | fit_round 2: strategy sampled 2 clients (out of 5)\n"
     ]
    },
    {
     "name": "stdout",
     "output_type": "stream",
     "text": [
      "agrregate_fit results list length is  2\n",
      "Saving round 1 aggregated_parameters...\n",
      "agrregate_evaluate results list length is  2\n",
      "server round is  1\n",
      "loss is  0.22440436482429504\n"
     ]
    },
    {
     "name": "stderr",
     "output_type": "stream",
     "text": [
      "DEBUG flwr 2023-08-31 23:41:04,361 | server.py:236 | fit_round 2 received 2 results and 0 failures\n",
      "DEBUG flwr 2023-08-31 23:41:04,374 | server.py:173 | evaluate_round 2: strategy sampled 2 clients (out of 5)\n",
      "DEBUG flwr 2023-08-31 23:41:04,525 | server.py:187 | evaluate_round 2 received 2 results and 0 failures\n",
      "DEBUG flwr 2023-08-31 23:41:04,528 | server.py:222 | fit_round 3: strategy sampled 2 clients (out of 5)\n"
     ]
    },
    {
     "name": "stdout",
     "output_type": "stream",
     "text": [
      "agrregate_fit results list length is  2\n",
      "Saving round 2 aggregated_parameters...\n",
      "agrregate_evaluate results list length is  2\n",
      "server round is  2\n",
      "loss is  0.213456928730011\n"
     ]
    },
    {
     "name": "stderr",
     "output_type": "stream",
     "text": [
      "DEBUG flwr 2023-08-31 23:41:25,416 | server.py:236 | fit_round 3 received 2 results and 0 failures\n",
      "DEBUG flwr 2023-08-31 23:41:25,435 | server.py:173 | evaluate_round 3: strategy sampled 2 clients (out of 5)\n"
     ]
    },
    {
     "name": "stdout",
     "output_type": "stream",
     "text": [
      "agrregate_fit results list length is  2\n",
      "Saving round 3 aggregated_parameters...\n"
     ]
    },
    {
     "name": "stderr",
     "output_type": "stream",
     "text": [
      "DEBUG flwr 2023-08-31 23:41:25,634 | server.py:187 | evaluate_round 3 received 2 results and 0 failures\n",
      "DEBUG flwr 2023-08-31 23:41:25,636 | server.py:222 | fit_round 4: strategy sampled 2 clients (out of 5)\n"
     ]
    },
    {
     "name": "stdout",
     "output_type": "stream",
     "text": [
      "agrregate_evaluate results list length is  2\n",
      "server round is  3\n",
      "loss is  0.18206356465816498\n"
     ]
    },
    {
     "name": "stderr",
     "output_type": "stream",
     "text": [
      "DEBUG flwr 2023-08-31 23:41:27,303 | server.py:236 | fit_round 4 received 2 results and 0 failures\n",
      "DEBUG flwr 2023-08-31 23:41:27,334 | server.py:173 | evaluate_round 4: strategy sampled 2 clients (out of 5)\n"
     ]
    },
    {
     "name": "stdout",
     "output_type": "stream",
     "text": [
      "agrregate_fit results list length is  2\n",
      "Saving round 4 aggregated_parameters...\n"
     ]
    },
    {
     "name": "stderr",
     "output_type": "stream",
     "text": [
      "DEBUG flwr 2023-08-31 23:41:27,552 | server.py:187 | evaluate_round 4 received 2 results and 0 failures\n",
      "DEBUG flwr 2023-08-31 23:41:27,554 | server.py:222 | fit_round 5: strategy sampled 2 clients (out of 5)\n"
     ]
    },
    {
     "name": "stdout",
     "output_type": "stream",
     "text": [
      "agrregate_evaluate results list length is  2\n",
      "server round is  4\n",
      "loss is  0.18429973721504211\n"
     ]
    },
    {
     "name": "stderr",
     "output_type": "stream",
     "text": [
      "DEBUG flwr 2023-08-31 23:41:28,763 | server.py:236 | fit_round 5 received 2 results and 0 failures\n",
      "DEBUG flwr 2023-08-31 23:41:28,777 | server.py:173 | evaluate_round 5: strategy sampled 2 clients (out of 5)\n",
      "DEBUG flwr 2023-08-31 23:41:28,956 | server.py:187 | evaluate_round 5 received 2 results and 0 failures\n"
     ]
    },
    {
     "name": "stdout",
     "output_type": "stream",
     "text": [
      "agrregate_fit results list length is  2\n",
      "Saving round 5 aggregated_parameters...\n",
      "agrregate_evaluate results list length is  2\n",
      "server round is  5\n",
      "loss is  0.18271611630916595\n"
     ]
    },
    {
     "name": "stderr",
     "output_type": "stream",
     "text": [
      "DEBUG flwr 2023-08-31 23:41:28,958 | server.py:222 | fit_round 6: strategy sampled 2 clients (out of 5)\n",
      "DEBUG flwr 2023-08-31 23:41:30,165 | server.py:236 | fit_round 6 received 2 results and 0 failures\n",
      "DEBUG flwr 2023-08-31 23:41:30,186 | server.py:173 | evaluate_round 6: strategy sampled 2 clients (out of 5)\n",
      "DEBUG flwr 2023-08-31 23:41:30,357 | server.py:187 | evaluate_round 6 received 2 results and 0 failures\n"
     ]
    },
    {
     "name": "stdout",
     "output_type": "stream",
     "text": [
      "agrregate_fit results list length is  2\n",
      "Saving round 6 aggregated_parameters...\n"
     ]
    },
    {
     "name": "stderr",
     "output_type": "stream",
     "text": [
      "DEBUG flwr 2023-08-31 23:41:30,358 | server.py:222 | fit_round 7: strategy sampled 2 clients (out of 5)\n"
     ]
    },
    {
     "name": "stdout",
     "output_type": "stream",
     "text": [
      "agrregate_evaluate results list length is  2\n",
      "server round is  6\n",
      "loss is  0.18283545970916748\n"
     ]
    },
    {
     "name": "stderr",
     "output_type": "stream",
     "text": [
      "DEBUG flwr 2023-08-31 23:41:31,477 | server.py:236 | fit_round 7 received 2 results and 0 failures\n",
      "DEBUG flwr 2023-08-31 23:41:31,494 | server.py:173 | evaluate_round 7: strategy sampled 2 clients (out of 5)\n",
      "DEBUG flwr 2023-08-31 23:41:31,674 | server.py:187 | evaluate_round 7 received 2 results and 0 failures\n"
     ]
    },
    {
     "name": "stdout",
     "output_type": "stream",
     "text": [
      "agrregate_fit results list length is  2\n",
      "Saving round 7 aggregated_parameters...\n"
     ]
    },
    {
     "name": "stderr",
     "output_type": "stream",
     "text": [
      "DEBUG flwr 2023-08-31 23:41:31,675 | server.py:222 | fit_round 8: strategy sampled 2 clients (out of 5)\n"
     ]
    },
    {
     "name": "stdout",
     "output_type": "stream",
     "text": [
      "agrregate_evaluate results list length is  2\n",
      "server round is  7\n",
      "loss is  0.17752499878406525\n"
     ]
    },
    {
     "name": "stderr",
     "output_type": "stream",
     "text": [
      "DEBUG flwr 2023-08-31 23:41:33,160 | server.py:236 | fit_round 8 received 2 results and 0 failures\n",
      "DEBUG flwr 2023-08-31 23:41:33,180 | server.py:173 | evaluate_round 8: strategy sampled 2 clients (out of 5)\n",
      "DEBUG flwr 2023-08-31 23:41:33,363 | server.py:187 | evaluate_round 8 received 2 results and 0 failures\n"
     ]
    },
    {
     "name": "stdout",
     "output_type": "stream",
     "text": [
      "agrregate_fit results list length is  2\n",
      "Saving round 8 aggregated_parameters...\n"
     ]
    },
    {
     "name": "stderr",
     "output_type": "stream",
     "text": [
      "DEBUG flwr 2023-08-31 23:41:33,365 | server.py:222 | fit_round 9: strategy sampled 2 clients (out of 5)\n"
     ]
    },
    {
     "name": "stdout",
     "output_type": "stream",
     "text": [
      "agrregate_evaluate results list length is  2\n",
      "server round is  8\n",
      "loss is  0.1817624568939209\n"
     ]
    },
    {
     "name": "stderr",
     "output_type": "stream",
     "text": [
      "DEBUG flwr 2023-08-31 23:41:49,037 | server.py:236 | fit_round 9 received 2 results and 0 failures\n",
      "DEBUG flwr 2023-08-31 23:41:49,049 | server.py:173 | evaluate_round 9: strategy sampled 2 clients (out of 5)\n",
      "DEBUG flwr 2023-08-31 23:41:49,195 | server.py:187 | evaluate_round 9 received 2 results and 0 failures\n",
      "DEBUG flwr 2023-08-31 23:41:49,196 | server.py:222 | fit_round 10: strategy sampled 2 clients (out of 5)\n"
     ]
    },
    {
     "name": "stdout",
     "output_type": "stream",
     "text": [
      "agrregate_fit results list length is  2\n",
      "Saving round 9 aggregated_parameters...\n",
      "agrregate_evaluate results list length is  2\n",
      "server round is  9\n",
      "loss is  0.16586193442344666\n"
     ]
    },
    {
     "name": "stderr",
     "output_type": "stream",
     "text": [
      "DEBUG flwr 2023-08-31 23:42:07,869 | server.py:236 | fit_round 10 received 2 results and 0 failures\n",
      "DEBUG flwr 2023-08-31 23:42:07,879 | server.py:173 | evaluate_round 10: strategy sampled 2 clients (out of 5)\n",
      "DEBUG flwr 2023-08-31 23:42:08,007 | server.py:187 | evaluate_round 10 received 2 results and 0 failures\n",
      "DEBUG flwr 2023-08-31 23:42:08,008 | server.py:222 | fit_round 11: strategy sampled 2 clients (out of 5)\n"
     ]
    },
    {
     "name": "stdout",
     "output_type": "stream",
     "text": [
      "agrregate_fit results list length is  2\n",
      "Saving round 10 aggregated_parameters...\n",
      "agrregate_evaluate results list length is  2\n",
      "server round is  10\n",
      "loss is  0.16186222434043884\n"
     ]
    },
    {
     "name": "stderr",
     "output_type": "stream",
     "text": [
      "DEBUG flwr 2023-08-31 23:42:21,922 | server.py:236 | fit_round 11 received 2 results and 0 failures\n",
      "DEBUG flwr 2023-08-31 23:42:21,934 | server.py:173 | evaluate_round 11: strategy sampled 2 clients (out of 5)\n",
      "DEBUG flwr 2023-08-31 23:42:22,084 | server.py:187 | evaluate_round 11 received 2 results and 0 failures\n",
      "DEBUG flwr 2023-08-31 23:42:22,085 | server.py:222 | fit_round 12: strategy sampled 2 clients (out of 5)\n"
     ]
    },
    {
     "name": "stdout",
     "output_type": "stream",
     "text": [
      "agrregate_fit results list length is  2\n",
      "Saving round 11 aggregated_parameters...\n",
      "agrregate_evaluate results list length is  2\n",
      "server round is  11\n",
      "loss is  0.15976673364639282\n"
     ]
    },
    {
     "name": "stderr",
     "output_type": "stream",
     "text": [
      "DEBUG flwr 2023-08-31 23:42:45,341 | server.py:236 | fit_round 12 received 2 results and 0 failures\n",
      "DEBUG flwr 2023-08-31 23:42:45,374 | server.py:173 | evaluate_round 12: strategy sampled 2 clients (out of 5)\n"
     ]
    },
    {
     "name": "stdout",
     "output_type": "stream",
     "text": [
      "agrregate_fit results list length is  2\n",
      "Saving round 12 aggregated_parameters...\n"
     ]
    },
    {
     "name": "stderr",
     "output_type": "stream",
     "text": [
      "DEBUG flwr 2023-08-31 23:42:45,681 | server.py:187 | evaluate_round 12 received 2 results and 0 failures\n",
      "DEBUG flwr 2023-08-31 23:42:45,684 | server.py:222 | fit_round 13: strategy sampled 2 clients (out of 5)\n"
     ]
    },
    {
     "name": "stdout",
     "output_type": "stream",
     "text": [
      "agrregate_evaluate results list length is  2\n",
      "server round is  12\n",
      "loss is  0.15597034990787506\n"
     ]
    },
    {
     "name": "stderr",
     "output_type": "stream",
     "text": [
      "DEBUG flwr 2023-08-31 23:42:47,490 | server.py:236 | fit_round 13 received 2 results and 0 failures\n",
      "DEBUG flwr 2023-08-31 23:42:47,518 | server.py:173 | evaluate_round 13: strategy sampled 2 clients (out of 5)\n"
     ]
    },
    {
     "name": "stdout",
     "output_type": "stream",
     "text": [
      "agrregate_fit results list length is  2\n",
      "Saving round 13 aggregated_parameters...\n"
     ]
    },
    {
     "name": "stderr",
     "output_type": "stream",
     "text": [
      "DEBUG flwr 2023-08-31 23:42:47,804 | server.py:187 | evaluate_round 13 received 2 results and 0 failures\n",
      "DEBUG flwr 2023-08-31 23:42:47,806 | server.py:222 | fit_round 14: strategy sampled 2 clients (out of 5)\n"
     ]
    },
    {
     "name": "stdout",
     "output_type": "stream",
     "text": [
      "agrregate_evaluate results list length is  2\n",
      "server round is  13\n",
      "loss is  0.15509769320487976\n"
     ]
    },
    {
     "name": "stderr",
     "output_type": "stream",
     "text": [
      "DEBUG flwr 2023-08-31 23:42:49,834 | server.py:236 | fit_round 14 received 2 results and 0 failures\n",
      "DEBUG flwr 2023-08-31 23:42:49,866 | server.py:173 | evaluate_round 14: strategy sampled 2 clients (out of 5)\n"
     ]
    },
    {
     "name": "stdout",
     "output_type": "stream",
     "text": [
      "agrregate_fit results list length is  2\n",
      "Saving round 14 aggregated_parameters...\n"
     ]
    },
    {
     "name": "stderr",
     "output_type": "stream",
     "text": [
      "DEBUG flwr 2023-08-31 23:42:50,169 | server.py:187 | evaluate_round 14 received 2 results and 0 failures\n",
      "DEBUG flwr 2023-08-31 23:42:50,172 | server.py:222 | fit_round 15: strategy sampled 2 clients (out of 5)\n"
     ]
    },
    {
     "name": "stdout",
     "output_type": "stream",
     "text": [
      "agrregate_evaluate results list length is  2\n",
      "server round is  14\n",
      "loss is  0.15846426784992218\n"
     ]
    },
    {
     "name": "stderr",
     "output_type": "stream",
     "text": [
      "DEBUG flwr 2023-08-31 23:43:07,911 | server.py:236 | fit_round 15 received 2 results and 0 failures\n",
      "DEBUG flwr 2023-08-31 23:43:07,959 | server.py:173 | evaluate_round 15: strategy sampled 2 clients (out of 5)\n"
     ]
    },
    {
     "name": "stdout",
     "output_type": "stream",
     "text": [
      "agrregate_fit results list length is  2\n",
      "Saving round 15 aggregated_parameters...\n"
     ]
    },
    {
     "name": "stderr",
     "output_type": "stream",
     "text": [
      "DEBUG flwr 2023-08-31 23:43:08,445 | server.py:187 | evaluate_round 15 received 2 results and 0 failures\n",
      "DEBUG flwr 2023-08-31 23:43:08,449 | server.py:222 | fit_round 16: strategy sampled 2 clients (out of 5)\n"
     ]
    },
    {
     "name": "stdout",
     "output_type": "stream",
     "text": [
      "agrregate_evaluate results list length is  2\n",
      "server round is  15\n",
      "loss is  0.15833762288093567\n"
     ]
    },
    {
     "name": "stderr",
     "output_type": "stream",
     "text": [
      "DEBUG flwr 2023-08-31 23:43:27,925 | server.py:236 | fit_round 16 received 2 results and 0 failures\n",
      "DEBUG flwr 2023-08-31 23:43:27,938 | server.py:173 | evaluate_round 16: strategy sampled 2 clients (out of 5)\n",
      "DEBUG flwr 2023-08-31 23:43:28,107 | server.py:187 | evaluate_round 16 received 2 results and 0 failures\n",
      "DEBUG flwr 2023-08-31 23:43:28,108 | server.py:222 | fit_round 17: strategy sampled 2 clients (out of 5)\n"
     ]
    },
    {
     "name": "stdout",
     "output_type": "stream",
     "text": [
      "agrregate_fit results list length is  2\n",
      "Saving round 16 aggregated_parameters...\n",
      "agrregate_evaluate results list length is  2\n",
      "server round is  16\n",
      "loss is  0.15692438185214996\n"
     ]
    },
    {
     "name": "stderr",
     "output_type": "stream",
     "text": [
      "DEBUG flwr 2023-08-31 23:43:43,356 | server.py:236 | fit_round 17 received 2 results and 0 failures\n",
      "DEBUG flwr 2023-08-31 23:43:43,372 | server.py:173 | evaluate_round 17: strategy sampled 2 clients (out of 5)\n"
     ]
    },
    {
     "name": "stdout",
     "output_type": "stream",
     "text": [
      "agrregate_fit results list length is  2\n",
      "Saving round 17 aggregated_parameters...\n"
     ]
    },
    {
     "name": "stderr",
     "output_type": "stream",
     "text": [
      "DEBUG flwr 2023-08-31 23:43:43,568 | server.py:187 | evaluate_round 17 received 2 results and 0 failures\n",
      "DEBUG flwr 2023-08-31 23:43:43,570 | server.py:222 | fit_round 18: strategy sampled 2 clients (out of 5)\n"
     ]
    },
    {
     "name": "stdout",
     "output_type": "stream",
     "text": [
      "agrregate_evaluate results list length is  2\n",
      "server round is  17\n",
      "loss is  0.15419702231884003\n"
     ]
    },
    {
     "name": "stderr",
     "output_type": "stream",
     "text": [
      "DEBUG flwr 2023-08-31 23:43:44,614 | server.py:236 | fit_round 18 received 2 results and 0 failures\n",
      "DEBUG flwr 2023-08-31 23:43:44,629 | server.py:173 | evaluate_round 18: strategy sampled 2 clients (out of 5)\n",
      "DEBUG flwr 2023-08-31 23:43:44,785 | server.py:187 | evaluate_round 18 received 2 results and 0 failures\n",
      "DEBUG flwr 2023-08-31 23:43:44,786 | server.py:222 | fit_round 19: strategy sampled 2 clients (out of 5)\n"
     ]
    },
    {
     "name": "stdout",
     "output_type": "stream",
     "text": [
      "agrregate_fit results list length is  2\n",
      "Saving round 18 aggregated_parameters...\n",
      "agrregate_evaluate results list length is  2\n",
      "server round is  18\n",
      "loss is  0.16111810505390167\n"
     ]
    },
    {
     "name": "stderr",
     "output_type": "stream",
     "text": [
      "DEBUG flwr 2023-08-31 23:43:46,089 | server.py:236 | fit_round 19 received 2 results and 0 failures\n",
      "DEBUG flwr 2023-08-31 23:43:46,108 | server.py:173 | evaluate_round 19: strategy sampled 2 clients (out of 5)\n"
     ]
    },
    {
     "name": "stdout",
     "output_type": "stream",
     "text": [
      "agrregate_fit results list length is  2\n",
      "Saving round 19 aggregated_parameters...\n"
     ]
    },
    {
     "name": "stderr",
     "output_type": "stream",
     "text": [
      "DEBUG flwr 2023-08-31 23:43:46,326 | server.py:187 | evaluate_round 19 received 2 results and 0 failures\n",
      "DEBUG flwr 2023-08-31 23:43:46,328 | server.py:222 | fit_round 20: strategy sampled 2 clients (out of 5)\n"
     ]
    },
    {
     "name": "stdout",
     "output_type": "stream",
     "text": [
      "agrregate_evaluate results list length is  2\n",
      "server round is  19\n",
      "loss is  0.1562335342168808\n"
     ]
    },
    {
     "name": "stderr",
     "output_type": "stream",
     "text": [
      "DEBUG flwr 2023-08-31 23:43:47,386 | server.py:236 | fit_round 20 received 2 results and 0 failures\n",
      "DEBUG flwr 2023-08-31 23:43:47,401 | server.py:173 | evaluate_round 20: strategy sampled 2 clients (out of 5)\n",
      "DEBUG flwr 2023-08-31 23:43:47,579 | server.py:187 | evaluate_round 20 received 2 results and 0 failures\n"
     ]
    },
    {
     "name": "stdout",
     "output_type": "stream",
     "text": [
      "agrregate_fit results list length is  2\n",
      "Saving round 20 aggregated_parameters...\n"
     ]
    },
    {
     "name": "stderr",
     "output_type": "stream",
     "text": [
      "DEBUG flwr 2023-08-31 23:43:47,581 | server.py:222 | fit_round 21: strategy sampled 2 clients (out of 5)\n"
     ]
    },
    {
     "name": "stdout",
     "output_type": "stream",
     "text": [
      "agrregate_evaluate results list length is  2\n",
      "server round is  20\n",
      "loss is  0.16069044172763824\n"
     ]
    },
    {
     "name": "stderr",
     "output_type": "stream",
     "text": [
      "DEBUG flwr 2023-08-31 23:43:48,930 | server.py:236 | fit_round 21 received 2 results and 0 failures\n",
      "DEBUG flwr 2023-08-31 23:43:48,947 | server.py:173 | evaluate_round 21: strategy sampled 2 clients (out of 5)\n"
     ]
    },
    {
     "name": "stdout",
     "output_type": "stream",
     "text": [
      "agrregate_fit results list length is  2\n",
      "Saving round 21 aggregated_parameters...\n"
     ]
    },
    {
     "name": "stderr",
     "output_type": "stream",
     "text": [
      "DEBUG flwr 2023-08-31 23:43:49,160 | server.py:187 | evaluate_round 21 received 2 results and 0 failures\n",
      "DEBUG flwr 2023-08-31 23:43:49,163 | server.py:222 | fit_round 22: strategy sampled 2 clients (out of 5)\n"
     ]
    },
    {
     "name": "stdout",
     "output_type": "stream",
     "text": [
      "agrregate_evaluate results list length is  2\n",
      "server round is  21\n",
      "loss is  0.15420077741146088\n"
     ]
    },
    {
     "name": "stderr",
     "output_type": "stream",
     "text": [
      "DEBUG flwr 2023-08-31 23:44:04,232 | server.py:236 | fit_round 22 received 2 results and 0 failures\n",
      "DEBUG flwr 2023-08-31 23:44:04,249 | server.py:173 | evaluate_round 22: strategy sampled 2 clients (out of 5)\n",
      "DEBUG flwr 2023-08-31 23:44:04,441 | server.py:187 | evaluate_round 22 received 2 results and 0 failures\n"
     ]
    },
    {
     "name": "stdout",
     "output_type": "stream",
     "text": [
      "agrregate_fit results list length is  2\n",
      "Saving round 22 aggregated_parameters...\n"
     ]
    },
    {
     "name": "stderr",
     "output_type": "stream",
     "text": [
      "DEBUG flwr 2023-08-31 23:44:04,445 | server.py:222 | fit_round 23: strategy sampled 2 clients (out of 5)\n"
     ]
    },
    {
     "name": "stdout",
     "output_type": "stream",
     "text": [
      "agrregate_evaluate results list length is  2\n",
      "server round is  22\n",
      "loss is  0.15637534856796265\n"
     ]
    },
    {
     "name": "stderr",
     "output_type": "stream",
     "text": [
      "DEBUG flwr 2023-08-31 23:44:05,604 | server.py:236 | fit_round 23 received 2 results and 0 failures\n",
      "DEBUG flwr 2023-08-31 23:44:05,633 | server.py:173 | evaluate_round 23: strategy sampled 2 clients (out of 5)\n"
     ]
    },
    {
     "name": "stdout",
     "output_type": "stream",
     "text": [
      "agrregate_fit results list length is  2\n",
      "Saving round 23 aggregated_parameters...\n"
     ]
    },
    {
     "name": "stderr",
     "output_type": "stream",
     "text": [
      "DEBUG flwr 2023-08-31 23:44:05,909 | server.py:187 | evaluate_round 23 received 2 results and 0 failures\n",
      "DEBUG flwr 2023-08-31 23:44:05,912 | server.py:222 | fit_round 24: strategy sampled 2 clients (out of 5)\n"
     ]
    },
    {
     "name": "stdout",
     "output_type": "stream",
     "text": [
      "agrregate_evaluate results list length is  2\n",
      "server round is  23\n",
      "loss is  0.1502046436071396\n"
     ]
    },
    {
     "name": "stderr",
     "output_type": "stream",
     "text": [
      "DEBUG flwr 2023-08-31 23:44:22,032 | server.py:236 | fit_round 24 received 2 results and 0 failures\n",
      "DEBUG flwr 2023-08-31 23:44:22,051 | server.py:173 | evaluate_round 24: strategy sampled 2 clients (out of 5)\n",
      "DEBUG flwr 2023-08-31 23:44:22,208 | server.py:187 | evaluate_round 24 received 2 results and 0 failures\n",
      "DEBUG flwr 2023-08-31 23:44:22,209 | server.py:222 | fit_round 25: strategy sampled 2 clients (out of 5)\n"
     ]
    },
    {
     "name": "stdout",
     "output_type": "stream",
     "text": [
      "agrregate_fit results list length is  2\n",
      "Saving round 24 aggregated_parameters...\n",
      "agrregate_evaluate results list length is  2\n",
      "server round is  24\n",
      "loss is  0.15543627738952637\n"
     ]
    },
    {
     "name": "stderr",
     "output_type": "stream",
     "text": [
      "DEBUG flwr 2023-08-31 23:44:23,318 | server.py:236 | fit_round 25 received 2 results and 0 failures\n",
      "DEBUG flwr 2023-08-31 23:44:23,339 | server.py:173 | evaluate_round 25: strategy sampled 2 clients (out of 5)\n"
     ]
    },
    {
     "name": "stdout",
     "output_type": "stream",
     "text": [
      "agrregate_fit results list length is  2\n",
      "Saving round 25 aggregated_parameters...\n"
     ]
    },
    {
     "name": "stderr",
     "output_type": "stream",
     "text": [
      "DEBUG flwr 2023-08-31 23:44:23,551 | server.py:187 | evaluate_round 25 received 2 results and 0 failures\n",
      "DEBUG flwr 2023-08-31 23:44:23,553 | server.py:222 | fit_round 26: strategy sampled 2 clients (out of 5)\n"
     ]
    },
    {
     "name": "stdout",
     "output_type": "stream",
     "text": [
      "agrregate_evaluate results list length is  2\n",
      "server round is  25\n",
      "loss is  0.1527136266231537\n"
     ]
    },
    {
     "name": "stderr",
     "output_type": "stream",
     "text": [
      "DEBUG flwr 2023-08-31 23:44:24,691 | server.py:236 | fit_round 26 received 2 results and 0 failures\n",
      "DEBUG flwr 2023-08-31 23:44:24,705 | server.py:173 | evaluate_round 26: strategy sampled 2 clients (out of 5)\n",
      "DEBUG flwr 2023-08-31 23:44:24,861 | server.py:187 | evaluate_round 26 received 2 results and 0 failures\n",
      "DEBUG flwr 2023-08-31 23:44:24,863 | server.py:222 | fit_round 27: strategy sampled 2 clients (out of 5)\n"
     ]
    },
    {
     "name": "stdout",
     "output_type": "stream",
     "text": [
      "agrregate_fit results list length is  2\n",
      "Saving round 26 aggregated_parameters...\n",
      "agrregate_evaluate results list length is  2\n",
      "server round is  26\n",
      "loss is  0.14998316764831543\n"
     ]
    },
    {
     "name": "stderr",
     "output_type": "stream",
     "text": [
      "DEBUG flwr 2023-08-31 23:44:40,582 | server.py:236 | fit_round 27 received 2 results and 0 failures\n",
      "DEBUG flwr 2023-08-31 23:44:40,596 | server.py:173 | evaluate_round 27: strategy sampled 2 clients (out of 5)\n",
      "DEBUG flwr 2023-08-31 23:44:40,736 | server.py:187 | evaluate_round 27 received 2 results and 0 failures\n",
      "DEBUG flwr 2023-08-31 23:44:40,738 | server.py:222 | fit_round 28: strategy sampled 2 clients (out of 5)\n"
     ]
    },
    {
     "name": "stdout",
     "output_type": "stream",
     "text": [
      "agrregate_fit results list length is  2\n",
      "Saving round 27 aggregated_parameters...\n",
      "agrregate_evaluate results list length is  2\n",
      "server round is  27\n",
      "loss is  0.15798552334308624\n"
     ]
    },
    {
     "name": "stderr",
     "output_type": "stream",
     "text": [
      "DEBUG flwr 2023-08-31 23:44:56,782 | server.py:236 | fit_round 28 received 2 results and 0 failures\n",
      "DEBUG flwr 2023-08-31 23:44:56,797 | server.py:173 | evaluate_round 28: strategy sampled 2 clients (out of 5)\n",
      "DEBUG flwr 2023-08-31 23:44:56,954 | server.py:187 | evaluate_round 28 received 2 results and 0 failures\n",
      "DEBUG flwr 2023-08-31 23:44:56,956 | server.py:222 | fit_round 29: strategy sampled 2 clients (out of 5)\n"
     ]
    },
    {
     "name": "stdout",
     "output_type": "stream",
     "text": [
      "agrregate_fit results list length is  2\n",
      "Saving round 28 aggregated_parameters...\n",
      "agrregate_evaluate results list length is  2\n",
      "server round is  28\n",
      "loss is  0.1514599621295929\n"
     ]
    },
    {
     "name": "stderr",
     "output_type": "stream",
     "text": [
      "DEBUG flwr 2023-08-31 23:44:57,931 | server.py:236 | fit_round 29 received 2 results and 0 failures\n",
      "DEBUG flwr 2023-08-31 23:44:57,951 | server.py:173 | evaluate_round 29: strategy sampled 2 clients (out of 5)\n",
      "DEBUG flwr 2023-08-31 23:44:58,128 | server.py:187 | evaluate_round 29 received 2 results and 0 failures\n"
     ]
    },
    {
     "name": "stdout",
     "output_type": "stream",
     "text": [
      "agrregate_fit results list length is  2\n",
      "Saving round 29 aggregated_parameters...\n"
     ]
    },
    {
     "name": "stderr",
     "output_type": "stream",
     "text": [
      "DEBUG flwr 2023-08-31 23:44:58,130 | server.py:222 | fit_round 30: strategy sampled 2 clients (out of 5)\n"
     ]
    },
    {
     "name": "stdout",
     "output_type": "stream",
     "text": [
      "agrregate_evaluate results list length is  2\n",
      "server round is  29\n",
      "loss is  0.1520221084356308\n"
     ]
    },
    {
     "name": "stderr",
     "output_type": "stream",
     "text": [
      "DEBUG flwr 2023-08-31 23:44:59,392 | server.py:236 | fit_round 30 received 2 results and 0 failures\n",
      "DEBUG flwr 2023-08-31 23:44:59,427 | server.py:173 | evaluate_round 30: strategy sampled 2 clients (out of 5)\n"
     ]
    },
    {
     "name": "stdout",
     "output_type": "stream",
     "text": [
      "agrregate_fit results list length is  2\n",
      "Saving round 30 aggregated_parameters...\n"
     ]
    },
    {
     "name": "stderr",
     "output_type": "stream",
     "text": [
      "DEBUG flwr 2023-08-31 23:44:59,647 | server.py:187 | evaluate_round 30 received 2 results and 0 failures\n",
      "INFO flwr 2023-08-31 23:44:59,649 | server.py:153 | FL finished in 260.9259936999879\n",
      "INFO flwr 2023-08-31 23:44:59,651 | app.py:225 | app_fit: losses_distributed [(1, 0.22440436482429504), (2, 0.213456928730011), (3, 0.18206356465816498), (4, 0.18429973721504211), (5, 0.18271611630916595), (6, 0.18283545970916748), (7, 0.17752499878406525), (8, 0.1817624568939209), (9, 0.16586193442344666), (10, 0.16186222434043884), (11, 0.15976673364639282), (12, 0.15597034990787506), (13, 0.15509769320487976), (14, 0.15846426784992218), (15, 0.15833762288093567), (16, 0.15692438185214996), (17, 0.15419702231884003), (18, 0.16111810505390167), (19, 0.1562335342168808), (20, 0.16069044172763824), (21, 0.15420077741146088), (22, 0.15637534856796265), (23, 0.1502046436071396), (24, 0.15543627738952637), (25, 0.1527136266231537), (26, 0.14998316764831543), (27, 0.15798552334308624), (28, 0.1514599621295929), (29, 0.1520221084356308), (30, 0.15270750224590302)]\n",
      "INFO flwr 2023-08-31 23:44:59,653 | app.py:226 | app_fit: metrics_distributed_fit {}\n",
      "INFO flwr 2023-08-31 23:44:59,654 | app.py:227 | app_fit: metrics_distributed {'mse': [(1, 0.4488087296485901), (2, 0.426913857460022), (3, 0.36412712931632996), (4, 0.36859947443008423), (5, 0.3654322326183319), (6, 0.36567091941833496), (7, 0.3550499975681305), (8, 0.3635249137878418), (9, 0.3317238688468933), (10, 0.3237244486808777), (11, 0.31953346729278564), (12, 0.3119406998157501), (13, 0.3101953864097595), (14, 0.31692853569984436), (15, 0.31667524576187134), (16, 0.3138487637042999), (17, 0.30839404463768005), (18, 0.32223621010780334), (19, 0.3124670684337616), (20, 0.3213808834552765), (21, 0.30840155482292175), (22, 0.3127506971359253), (23, 0.3004092872142792), (24, 0.31087255477905273), (25, 0.3054272532463074), (26, 0.29996633529663086), (27, 0.3159710466861725), (28, 0.3029199242591858), (29, 0.3040442168712616), (30, 0.30541500449180603)]}\n",
      "INFO flwr 2023-08-31 23:44:59,656 | app.py:228 | app_fit: losses_centralized []\n",
      "INFO flwr 2023-08-31 23:44:59,657 | app.py:229 | app_fit: metrics_centralized {}\n"
     ]
    },
    {
     "name": "stdout",
     "output_type": "stream",
     "text": [
      "agrregate_evaluate results list length is  2\n",
      "server round is  30\n",
      "loss is  0.15270750224590302\n",
      "History (loss, distributed):\n",
      "\tround 1: 0.22440436482429504\n",
      "\tround 2: 0.213456928730011\n",
      "\tround 3: 0.18206356465816498\n",
      "\tround 4: 0.18429973721504211\n",
      "\tround 5: 0.18271611630916595\n",
      "\tround 6: 0.18283545970916748\n",
      "\tround 7: 0.17752499878406525\n",
      "\tround 8: 0.1817624568939209\n",
      "\tround 9: 0.16586193442344666\n",
      "\tround 10: 0.16186222434043884\n",
      "\tround 11: 0.15976673364639282\n",
      "\tround 12: 0.15597034990787506\n",
      "\tround 13: 0.15509769320487976\n",
      "\tround 14: 0.15846426784992218\n",
      "\tround 15: 0.15833762288093567\n",
      "\tround 16: 0.15692438185214996\n",
      "\tround 17: 0.15419702231884003\n",
      "\tround 18: 0.16111810505390167\n",
      "\tround 19: 0.1562335342168808\n",
      "\tround 20: 0.16069044172763824\n",
      "\tround 21: 0.15420077741146088\n",
      "\tround 22: 0.15637534856796265\n",
      "\tround 23: 0.1502046436071396\n",
      "\tround 24: 0.15543627738952637\n",
      "\tround 25: 0.1527136266231537\n",
      "\tround 26: 0.14998316764831543\n",
      "\tround 27: 0.15798552334308624\n",
      "\tround 28: 0.1514599621295929\n",
      "\tround 29: 0.1520221084356308\n",
      "\tround 30: 0.15270750224590302\n",
      "History (metrics, distributed, evaluate):\n",
      "{'mse': [(1, 0.4488087296485901), (2, 0.426913857460022), (3, 0.36412712931632996), (4, 0.36859947443008423), (5, 0.3654322326183319), (6, 0.36567091941833496), (7, 0.3550499975681305), (8, 0.3635249137878418), (9, 0.3317238688468933), (10, 0.3237244486808777), (11, 0.31953346729278564), (12, 0.3119406998157501), (13, 0.3101953864097595), (14, 0.31692853569984436), (15, 0.31667524576187134), (16, 0.3138487637042999), (17, 0.30839404463768005), (18, 0.32223621010780334), (19, 0.3124670684337616), (20, 0.3213808834552765), (21, 0.30840155482292175), (22, 0.3127506971359253), (23, 0.3004092872142792), (24, 0.31087255477905273), (25, 0.3054272532463074), (26, 0.29996633529663086), (27, 0.3159710466861725), (28, 0.3029199242591858), (29, 0.3040442168712616), (30, 0.30541500449180603)]}\n",
      "[(1, 0.22440436482429504), (2, 0.213456928730011), (3, 0.18206356465816498), (4, 0.18429973721504211), (5, 0.18271611630916595), (6, 0.18283545970916748), (7, 0.17752499878406525), (8, 0.1817624568939209), (9, 0.16586193442344666), (10, 0.16186222434043884), (11, 0.15976673364639282), (12, 0.15597034990787506), (13, 0.15509769320487976), (14, 0.15846426784992218), (15, 0.15833762288093567), (16, 0.15692438185214996), (17, 0.15419702231884003), (18, 0.16111810505390167), (19, 0.1562335342168808), (20, 0.16069044172763824), (21, 0.15420077741146088), (22, 0.15637534856796265), (23, 0.1502046436071396), (24, 0.15543627738952637), (25, 0.1527136266231537), (26, 0.14998316764831543), (27, 0.15798552334308624), (28, 0.1514599621295929), (29, 0.1520221084356308), (30, 0.15270750224590302)]\n",
      "0.8293309326859744\n",
      "Fold 2:\n",
      "splitting [0.8, 0.05, 0.05, 0.05, 0.05]\n",
      "time 0:04:48.273983\n",
      "mse [0.1527075]\n",
      "auc [0.8293309326859744]\n"
     ]
    }
   ],
   "source": [
    "\n",
    "splitting = [0.8, 0.05, 0.05, 0.05, 0.05]\n",
    "do_fl(splitting, num_rounds)"
   ],
   "metadata": {
    "collapsed": false,
    "ExecuteTime": {
     "end_time": "2023-08-31T22:45:00.641042700Z",
     "start_time": "2023-08-31T22:40:11.517302300Z"
    }
   }
  },
  {
   "cell_type": "code",
   "execution_count": 18,
   "outputs": [
    {
     "name": "stderr",
     "output_type": "stream",
     "text": [
      "C:\\Users\\Shuyao\\AppData\\Local\\Temp\\ipykernel_23376\\475339861.py:29: UserWarning: To copy construct from a tensor, it is recommended to use sourceTensor.clone().detach() or sourceTensor.clone().detach().requires_grad_(True), rather than torch.tensor(sourceTensor).\n",
      "  X_train = torch.tensor(X_train)\n",
      "C:\\Users\\Shuyao\\AppData\\Local\\Temp\\ipykernel_23376\\475339861.py:30: UserWarning: To copy construct from a tensor, it is recommended to use sourceTensor.clone().detach() or sourceTensor.clone().detach().requires_grad_(True), rather than torch.tensor(sourceTensor).\n",
      "  X_test = torch.tensor(X_test)\n",
      "C:\\Users\\Shuyao\\AppData\\Local\\Temp\\ipykernel_23376\\475339861.py:31: UserWarning: To copy construct from a tensor, it is recommended to use sourceTensor.clone().detach() or sourceTensor.clone().detach().requires_grad_(True), rather than torch.tensor(sourceTensor).\n",
      "  y_train = torch.reshape(torch.tensor(y_train), (-1, 1))\n",
      "C:\\Users\\Shuyao\\AppData\\Local\\Temp\\ipykernel_23376\\475339861.py:32: UserWarning: To copy construct from a tensor, it is recommended to use sourceTensor.clone().detach() or sourceTensor.clone().detach().requires_grad_(True), rather than torch.tensor(sourceTensor).\n",
      "  y_test = torch.reshape(torch.tensor(y_test), (-1, 1))\n",
      "INFO flwr 2023-09-01 00:01:59,601 | app.py:145 | Starting Flower simulation, config: ServerConfig(num_rounds=30, round_timeout=None)\n"
     ]
    },
    {
     "name": "stdout",
     "output_type": "stream",
     "text": [
      "Fold 1:\n",
      "x_test: cpu\n",
      "y_test: cpu\n",
      "30\n",
      "Client 0 trainset shape torch.Size([22394, 10])\n",
      "Client 1 trainset shape torch.Size([22412, 10])\n",
      "Client 2 trainset shape torch.Size([22340, 10])\n",
      "Client 3 trainset shape torch.Size([22350, 10])\n",
      "Client 4 trainset shape torch.Size([22356, 10])\n",
      "Client 5 trainset shape torch.Size([22428, 10])\n",
      "Client 6 trainset shape torch.Size([22422, 10])\n",
      "Client 7 trainset shape torch.Size([22396, 10])\n",
      "Client 8 trainset shape torch.Size([22466, 10])\n",
      "Client 9 trainset shape torch.Size([22396, 10])\n",
      "FL started training on cpu\n",
      "Number of available GPUs: 0\n"
     ]
    },
    {
     "name": "stderr",
     "output_type": "stream",
     "text": [
      "2023-09-01 00:02:16,526\tINFO worker.py:1627 -- Started a local Ray instance. View the dashboard at \u001B[1m\u001B[32m127.0.0.1:8271 \u001B[39m\u001B[22m\n",
      "INFO flwr 2023-09-01 00:02:27,033 | app.py:179 | Flower VCE: Ray initialized with resources: {'node:127.0.0.1': 1.0, 'memory': 1282378139.0, 'object_store_memory': 641189068.0, 'GPU': 1.0, 'CPU': 8.0}\n",
      "INFO flwr 2023-09-01 00:02:27,036 | server.py:89 | Initializing global parameters\n",
      "INFO flwr 2023-09-01 00:02:27,038 | server.py:276 | Requesting initial parameters from one random client\n",
      "INFO flwr 2023-09-01 00:02:36,502 | server.py:280 | Received initial parameters from one random client\n",
      "INFO flwr 2023-09-01 00:02:36,503 | server.py:91 | Evaluating initial parameters\n",
      "INFO flwr 2023-09-01 00:02:36,504 | server.py:104 | FL starting\n",
      "DEBUG flwr 2023-09-01 00:02:36,505 | server.py:222 | fit_round 1: strategy sampled 5 clients (out of 10)\n",
      "DEBUG flwr 2023-09-01 00:02:50,096 | server.py:236 | fit_round 1 received 5 results and 0 failures\n",
      "WARNING flwr 2023-09-01 00:02:50,129 | fedavg.py:242 | No fit_metrics_aggregation_fn provided\n",
      "DEBUG flwr 2023-09-01 00:02:50,146 | server.py:173 | evaluate_round 1: strategy sampled 5 clients (out of 10)\n"
     ]
    },
    {
     "name": "stdout",
     "output_type": "stream",
     "text": [
      "agrregate_fit results list length is  5\n",
      "Saving round 1 aggregated_parameters...\n"
     ]
    },
    {
     "name": "stderr",
     "output_type": "stream",
     "text": [
      "DEBUG flwr 2023-09-01 00:02:50,589 | server.py:187 | evaluate_round 1 received 5 results and 0 failures\n",
      "DEBUG flwr 2023-09-01 00:02:50,590 | server.py:222 | fit_round 2: strategy sampled 5 clients (out of 10)\n"
     ]
    },
    {
     "name": "stdout",
     "output_type": "stream",
     "text": [
      "agrregate_evaluate results list length is  5\n",
      "server round is  1\n",
      "loss is  0.25283083319664\n"
     ]
    },
    {
     "name": "stderr",
     "output_type": "stream",
     "text": [
      "DEBUG flwr 2023-09-01 00:02:54,405 | server.py:236 | fit_round 2 received 5 results and 0 failures\n",
      "DEBUG flwr 2023-09-01 00:02:54,432 | server.py:173 | evaluate_round 2: strategy sampled 5 clients (out of 10)\n"
     ]
    },
    {
     "name": "stdout",
     "output_type": "stream",
     "text": [
      "agrregate_fit results list length is  5\n",
      "Saving round 2 aggregated_parameters...\n"
     ]
    },
    {
     "name": "stderr",
     "output_type": "stream",
     "text": [
      "DEBUG flwr 2023-09-01 00:02:54,832 | server.py:187 | evaluate_round 2 received 5 results and 0 failures\n",
      "DEBUG flwr 2023-09-01 00:02:54,834 | server.py:222 | fit_round 3: strategy sampled 5 clients (out of 10)\n"
     ]
    },
    {
     "name": "stdout",
     "output_type": "stream",
     "text": [
      "agrregate_evaluate results list length is  5\n",
      "server round is  2\n",
      "loss is  0.2535133957862854\n"
     ]
    },
    {
     "name": "stderr",
     "output_type": "stream",
     "text": [
      "DEBUG flwr 2023-09-01 00:02:59,238 | server.py:236 | fit_round 3 received 5 results and 0 failures\n",
      "DEBUG flwr 2023-09-01 00:02:59,285 | server.py:173 | evaluate_round 3: strategy sampled 5 clients (out of 10)\n"
     ]
    },
    {
     "name": "stdout",
     "output_type": "stream",
     "text": [
      "agrregate_fit results list length is  5\n",
      "Saving round 3 aggregated_parameters...\n"
     ]
    },
    {
     "name": "stderr",
     "output_type": "stream",
     "text": [
      "DEBUG flwr 2023-09-01 00:02:59,906 | server.py:187 | evaluate_round 3 received 5 results and 0 failures\n",
      "DEBUG flwr 2023-09-01 00:02:59,909 | server.py:222 | fit_round 4: strategy sampled 5 clients (out of 10)\n"
     ]
    },
    {
     "name": "stdout",
     "output_type": "stream",
     "text": [
      "agrregate_evaluate results list length is  5\n",
      "server round is  3\n",
      "loss is  0.25394898653030396\n"
     ]
    },
    {
     "name": "stderr",
     "output_type": "stream",
     "text": [
      "DEBUG flwr 2023-09-01 00:03:04,598 | server.py:236 | fit_round 4 received 5 results and 0 failures\n",
      "DEBUG flwr 2023-09-01 00:03:04,624 | server.py:173 | evaluate_round 4: strategy sampled 5 clients (out of 10)\n"
     ]
    },
    {
     "name": "stdout",
     "output_type": "stream",
     "text": [
      "agrregate_fit results list length is  5\n",
      "Saving round 4 aggregated_parameters...\n"
     ]
    },
    {
     "name": "stderr",
     "output_type": "stream",
     "text": [
      "DEBUG flwr 2023-09-01 00:03:04,996 | server.py:187 | evaluate_round 4 received 5 results and 0 failures\n",
      "DEBUG flwr 2023-09-01 00:03:04,998 | server.py:222 | fit_round 5: strategy sampled 5 clients (out of 10)\n"
     ]
    },
    {
     "name": "stdout",
     "output_type": "stream",
     "text": [
      "agrregate_evaluate results list length is  5\n",
      "server round is  4\n",
      "loss is  0.25337880849838257\n"
     ]
    },
    {
     "name": "stderr",
     "output_type": "stream",
     "text": [
      "DEBUG flwr 2023-09-01 00:03:09,251 | server.py:236 | fit_round 5 received 5 results and 0 failures\n",
      "DEBUG flwr 2023-09-01 00:03:09,294 | server.py:173 | evaluate_round 5: strategy sampled 5 clients (out of 10)\n"
     ]
    },
    {
     "name": "stdout",
     "output_type": "stream",
     "text": [
      "agrregate_fit results list length is  5\n",
      "Saving round 5 aggregated_parameters...\n"
     ]
    },
    {
     "name": "stderr",
     "output_type": "stream",
     "text": [
      "DEBUG flwr 2023-09-01 00:03:09,694 | server.py:187 | evaluate_round 5 received 5 results and 0 failures\n",
      "DEBUG flwr 2023-09-01 00:03:09,697 | server.py:222 | fit_round 6: strategy sampled 5 clients (out of 10)\n"
     ]
    },
    {
     "name": "stdout",
     "output_type": "stream",
     "text": [
      "agrregate_evaluate results list length is  5\n",
      "server round is  5\n",
      "loss is  0.2516672909259796\n"
     ]
    },
    {
     "name": "stderr",
     "output_type": "stream",
     "text": [
      "DEBUG flwr 2023-09-01 00:03:13,469 | server.py:236 | fit_round 6 received 5 results and 0 failures\n",
      "DEBUG flwr 2023-09-01 00:03:13,497 | server.py:173 | evaluate_round 6: strategy sampled 5 clients (out of 10)\n"
     ]
    },
    {
     "name": "stdout",
     "output_type": "stream",
     "text": [
      "agrregate_fit results list length is  5\n",
      "Saving round 6 aggregated_parameters...\n"
     ]
    },
    {
     "name": "stderr",
     "output_type": "stream",
     "text": [
      "DEBUG flwr 2023-09-01 00:03:13,934 | server.py:187 | evaluate_round 6 received 5 results and 0 failures\n",
      "DEBUG flwr 2023-09-01 00:03:13,936 | server.py:222 | fit_round 7: strategy sampled 5 clients (out of 10)\n"
     ]
    },
    {
     "name": "stdout",
     "output_type": "stream",
     "text": [
      "agrregate_evaluate results list length is  5\n",
      "server round is  6\n",
      "loss is  0.24831843376159668\n"
     ]
    },
    {
     "name": "stderr",
     "output_type": "stream",
     "text": [
      "DEBUG flwr 2023-09-01 00:03:19,277 | server.py:236 | fit_round 7 received 5 results and 0 failures\n",
      "DEBUG flwr 2023-09-01 00:03:19,308 | server.py:173 | evaluate_round 7: strategy sampled 5 clients (out of 10)\n"
     ]
    },
    {
     "name": "stdout",
     "output_type": "stream",
     "text": [
      "agrregate_fit results list length is  5\n",
      "Saving round 7 aggregated_parameters...\n"
     ]
    },
    {
     "name": "stderr",
     "output_type": "stream",
     "text": [
      "DEBUG flwr 2023-09-01 00:03:19,797 | server.py:187 | evaluate_round 7 received 5 results and 0 failures\n",
      "DEBUG flwr 2023-09-01 00:03:19,799 | server.py:222 | fit_round 8: strategy sampled 5 clients (out of 10)\n"
     ]
    },
    {
     "name": "stdout",
     "output_type": "stream",
     "text": [
      "agrregate_evaluate results list length is  5\n",
      "server round is  7\n",
      "loss is  0.2444283813238144\n"
     ]
    },
    {
     "name": "stderr",
     "output_type": "stream",
     "text": [
      "DEBUG flwr 2023-09-01 00:03:24,372 | server.py:236 | fit_round 8 received 5 results and 0 failures\n",
      "DEBUG flwr 2023-09-01 00:03:24,396 | server.py:173 | evaluate_round 8: strategy sampled 5 clients (out of 10)\n"
     ]
    },
    {
     "name": "stdout",
     "output_type": "stream",
     "text": [
      "agrregate_fit results list length is  5\n",
      "Saving round 8 aggregated_parameters...\n"
     ]
    },
    {
     "name": "stderr",
     "output_type": "stream",
     "text": [
      "DEBUG flwr 2023-09-01 00:03:24,783 | server.py:187 | evaluate_round 8 received 5 results and 0 failures\n",
      "DEBUG flwr 2023-09-01 00:03:24,785 | server.py:222 | fit_round 9: strategy sampled 5 clients (out of 10)\n"
     ]
    },
    {
     "name": "stdout",
     "output_type": "stream",
     "text": [
      "agrregate_evaluate results list length is  5\n",
      "server round is  8\n",
      "loss is  0.23920822143554688\n"
     ]
    },
    {
     "name": "stderr",
     "output_type": "stream",
     "text": [
      "DEBUG flwr 2023-09-01 00:03:28,595 | server.py:236 | fit_round 9 received 5 results and 0 failures\n",
      "DEBUG flwr 2023-09-01 00:03:28,629 | server.py:173 | evaluate_round 9: strategy sampled 5 clients (out of 10)\n"
     ]
    },
    {
     "name": "stdout",
     "output_type": "stream",
     "text": [
      "agrregate_fit results list length is  5\n",
      "Saving round 9 aggregated_parameters...\n"
     ]
    },
    {
     "name": "stderr",
     "output_type": "stream",
     "text": [
      "DEBUG flwr 2023-09-01 00:03:29,198 | server.py:187 | evaluate_round 9 received 5 results and 0 failures\n",
      "DEBUG flwr 2023-09-01 00:03:29,200 | server.py:222 | fit_round 10: strategy sampled 5 clients (out of 10)\n"
     ]
    },
    {
     "name": "stdout",
     "output_type": "stream",
     "text": [
      "agrregate_evaluate results list length is  5\n",
      "server round is  9\n",
      "loss is  0.23329900205135345\n"
     ]
    },
    {
     "name": "stderr",
     "output_type": "stream",
     "text": [
      "DEBUG flwr 2023-09-01 00:03:33,556 | server.py:236 | fit_round 10 received 5 results and 0 failures\n",
      "DEBUG flwr 2023-09-01 00:03:33,592 | server.py:173 | evaluate_round 10: strategy sampled 5 clients (out of 10)\n"
     ]
    },
    {
     "name": "stdout",
     "output_type": "stream",
     "text": [
      "agrregate_fit results list length is  5\n",
      "Saving round 10 aggregated_parameters...\n"
     ]
    },
    {
     "name": "stderr",
     "output_type": "stream",
     "text": [
      "DEBUG flwr 2023-09-01 00:03:34,267 | server.py:187 | evaluate_round 10 received 5 results and 0 failures\n",
      "DEBUG flwr 2023-09-01 00:03:34,270 | server.py:222 | fit_round 11: strategy sampled 5 clients (out of 10)\n"
     ]
    },
    {
     "name": "stdout",
     "output_type": "stream",
     "text": [
      "agrregate_evaluate results list length is  5\n",
      "server round is  10\n",
      "loss is  0.2277498096227646\n"
     ]
    },
    {
     "name": "stderr",
     "output_type": "stream",
     "text": [
      "DEBUG flwr 2023-09-01 00:03:39,083 | server.py:236 | fit_round 11 received 5 results and 0 failures\n",
      "DEBUG flwr 2023-09-01 00:03:39,117 | server.py:173 | evaluate_round 11: strategy sampled 5 clients (out of 10)\n"
     ]
    },
    {
     "name": "stdout",
     "output_type": "stream",
     "text": [
      "agrregate_fit results list length is  5\n",
      "Saving round 11 aggregated_parameters...\n"
     ]
    },
    {
     "name": "stderr",
     "output_type": "stream",
     "text": [
      "DEBUG flwr 2023-09-01 00:03:39,636 | server.py:187 | evaluate_round 11 received 5 results and 0 failures\n",
      "DEBUG flwr 2023-09-01 00:03:39,639 | server.py:222 | fit_round 12: strategy sampled 5 clients (out of 10)\n"
     ]
    },
    {
     "name": "stdout",
     "output_type": "stream",
     "text": [
      "agrregate_evaluate results list length is  5\n",
      "server round is  11\n",
      "loss is  0.22238850593566895\n"
     ]
    },
    {
     "name": "stderr",
     "output_type": "stream",
     "text": [
      "DEBUG flwr 2023-09-01 00:03:44,231 | server.py:236 | fit_round 12 received 5 results and 0 failures\n",
      "DEBUG flwr 2023-09-01 00:03:44,260 | server.py:173 | evaluate_round 12: strategy sampled 5 clients (out of 10)\n"
     ]
    },
    {
     "name": "stdout",
     "output_type": "stream",
     "text": [
      "agrregate_fit results list length is  5\n",
      "Saving round 12 aggregated_parameters...\n"
     ]
    },
    {
     "name": "stderr",
     "output_type": "stream",
     "text": [
      "DEBUG flwr 2023-09-01 00:03:45,001 | server.py:187 | evaluate_round 12 received 5 results and 0 failures\n",
      "DEBUG flwr 2023-09-01 00:03:45,004 | server.py:222 | fit_round 13: strategy sampled 5 clients (out of 10)\n"
     ]
    },
    {
     "name": "stdout",
     "output_type": "stream",
     "text": [
      "agrregate_evaluate results list length is  5\n",
      "server round is  12\n",
      "loss is  0.21630100905895233\n"
     ]
    },
    {
     "name": "stderr",
     "output_type": "stream",
     "text": [
      "DEBUG flwr 2023-09-01 00:03:50,408 | server.py:236 | fit_round 13 received 5 results and 0 failures\n",
      "DEBUG flwr 2023-09-01 00:03:50,436 | server.py:173 | evaluate_round 13: strategy sampled 5 clients (out of 10)\n"
     ]
    },
    {
     "name": "stdout",
     "output_type": "stream",
     "text": [
      "agrregate_fit results list length is  5\n",
      "Saving round 13 aggregated_parameters...\n"
     ]
    },
    {
     "name": "stderr",
     "output_type": "stream",
     "text": [
      "DEBUG flwr 2023-09-01 00:03:50,862 | server.py:187 | evaluate_round 13 received 5 results and 0 failures\n",
      "DEBUG flwr 2023-09-01 00:03:50,865 | server.py:222 | fit_round 14: strategy sampled 5 clients (out of 10)\n"
     ]
    },
    {
     "name": "stdout",
     "output_type": "stream",
     "text": [
      "agrregate_evaluate results list length is  5\n",
      "server round is  13\n",
      "loss is  0.20941436290740967\n"
     ]
    },
    {
     "name": "stderr",
     "output_type": "stream",
     "text": [
      "DEBUG flwr 2023-09-01 00:03:54,548 | server.py:236 | fit_round 14 received 5 results and 0 failures\n",
      "DEBUG flwr 2023-09-01 00:03:54,572 | server.py:173 | evaluate_round 14: strategy sampled 5 clients (out of 10)\n"
     ]
    },
    {
     "name": "stdout",
     "output_type": "stream",
     "text": [
      "agrregate_fit results list length is  5\n",
      "Saving round 14 aggregated_parameters...\n"
     ]
    },
    {
     "name": "stderr",
     "output_type": "stream",
     "text": [
      "DEBUG flwr 2023-09-01 00:03:55,034 | server.py:187 | evaluate_round 14 received 5 results and 0 failures\n",
      "DEBUG flwr 2023-09-01 00:03:55,037 | server.py:222 | fit_round 15: strategy sampled 5 clients (out of 10)\n"
     ]
    },
    {
     "name": "stdout",
     "output_type": "stream",
     "text": [
      "agrregate_evaluate results list length is  5\n",
      "server round is  14\n",
      "loss is  0.2051079124212265\n"
     ]
    },
    {
     "name": "stderr",
     "output_type": "stream",
     "text": [
      "DEBUG flwr 2023-09-01 00:03:58,967 | server.py:236 | fit_round 15 received 5 results and 0 failures\n",
      "DEBUG flwr 2023-09-01 00:03:58,993 | server.py:173 | evaluate_round 15: strategy sampled 5 clients (out of 10)\n"
     ]
    },
    {
     "name": "stdout",
     "output_type": "stream",
     "text": [
      "agrregate_fit results list length is  5\n",
      "Saving round 15 aggregated_parameters...\n"
     ]
    },
    {
     "name": "stderr",
     "output_type": "stream",
     "text": [
      "DEBUG flwr 2023-09-01 00:03:59,358 | server.py:187 | evaluate_round 15 received 5 results and 0 failures\n",
      "DEBUG flwr 2023-09-01 00:03:59,361 | server.py:222 | fit_round 16: strategy sampled 5 clients (out of 10)\n"
     ]
    },
    {
     "name": "stdout",
     "output_type": "stream",
     "text": [
      "agrregate_evaluate results list length is  5\n",
      "server round is  15\n",
      "loss is  0.19963374733924866\n"
     ]
    },
    {
     "name": "stderr",
     "output_type": "stream",
     "text": [
      "DEBUG flwr 2023-09-01 00:04:03,078 | server.py:236 | fit_round 16 received 5 results and 0 failures\n",
      "DEBUG flwr 2023-09-01 00:04:03,103 | server.py:173 | evaluate_round 16: strategy sampled 5 clients (out of 10)\n"
     ]
    },
    {
     "name": "stdout",
     "output_type": "stream",
     "text": [
      "agrregate_fit results list length is  5\n",
      "Saving round 16 aggregated_parameters...\n"
     ]
    },
    {
     "name": "stderr",
     "output_type": "stream",
     "text": [
      "DEBUG flwr 2023-09-01 00:04:03,514 | server.py:187 | evaluate_round 16 received 5 results and 0 failures\n",
      "DEBUG flwr 2023-09-01 00:04:03,516 | server.py:222 | fit_round 17: strategy sampled 5 clients (out of 10)\n"
     ]
    },
    {
     "name": "stdout",
     "output_type": "stream",
     "text": [
      "agrregate_evaluate results list length is  5\n",
      "server round is  16\n",
      "loss is  0.19395531713962555\n"
     ]
    },
    {
     "name": "stderr",
     "output_type": "stream",
     "text": [
      "DEBUG flwr 2023-09-01 00:04:07,473 | server.py:236 | fit_round 17 received 5 results and 0 failures\n",
      "DEBUG flwr 2023-09-01 00:04:07,501 | server.py:173 | evaluate_round 17: strategy sampled 5 clients (out of 10)\n"
     ]
    },
    {
     "name": "stdout",
     "output_type": "stream",
     "text": [
      "agrregate_fit results list length is  5\n",
      "Saving round 17 aggregated_parameters...\n"
     ]
    },
    {
     "name": "stderr",
     "output_type": "stream",
     "text": [
      "DEBUG flwr 2023-09-01 00:04:08,003 | server.py:187 | evaluate_round 17 received 5 results and 0 failures\n",
      "DEBUG flwr 2023-09-01 00:04:08,005 | server.py:222 | fit_round 18: strategy sampled 5 clients (out of 10)\n"
     ]
    },
    {
     "name": "stdout",
     "output_type": "stream",
     "text": [
      "agrregate_evaluate results list length is  5\n",
      "server round is  17\n",
      "loss is  0.19024166464805603\n"
     ]
    },
    {
     "name": "stderr",
     "output_type": "stream",
     "text": [
      "DEBUG flwr 2023-09-01 00:04:12,222 | server.py:236 | fit_round 18 received 5 results and 0 failures\n",
      "DEBUG flwr 2023-09-01 00:04:12,259 | server.py:173 | evaluate_round 18: strategy sampled 5 clients (out of 10)\n"
     ]
    },
    {
     "name": "stdout",
     "output_type": "stream",
     "text": [
      "agrregate_fit results list length is  5\n",
      "Saving round 18 aggregated_parameters...\n"
     ]
    },
    {
     "name": "stderr",
     "output_type": "stream",
     "text": [
      "DEBUG flwr 2023-09-01 00:04:12,680 | server.py:187 | evaluate_round 18 received 5 results and 0 failures\n",
      "DEBUG flwr 2023-09-01 00:04:12,682 | server.py:222 | fit_round 19: strategy sampled 5 clients (out of 10)\n"
     ]
    },
    {
     "name": "stdout",
     "output_type": "stream",
     "text": [
      "agrregate_evaluate results list length is  5\n",
      "server round is  18\n",
      "loss is  0.18459147214889526\n"
     ]
    },
    {
     "name": "stderr",
     "output_type": "stream",
     "text": [
      "DEBUG flwr 2023-09-01 00:04:16,370 | server.py:236 | fit_round 19 received 5 results and 0 failures\n",
      "DEBUG flwr 2023-09-01 00:04:16,395 | server.py:173 | evaluate_round 19: strategy sampled 5 clients (out of 10)\n"
     ]
    },
    {
     "name": "stdout",
     "output_type": "stream",
     "text": [
      "agrregate_fit results list length is  5\n",
      "Saving round 19 aggregated_parameters...\n"
     ]
    },
    {
     "name": "stderr",
     "output_type": "stream",
     "text": [
      "DEBUG flwr 2023-09-01 00:04:16,810 | server.py:187 | evaluate_round 19 received 5 results and 0 failures\n",
      "DEBUG flwr 2023-09-01 00:04:16,812 | server.py:222 | fit_round 20: strategy sampled 5 clients (out of 10)\n"
     ]
    },
    {
     "name": "stdout",
     "output_type": "stream",
     "text": [
      "agrregate_evaluate results list length is  5\n",
      "server round is  19\n",
      "loss is  0.1814517378807068\n"
     ]
    },
    {
     "name": "stderr",
     "output_type": "stream",
     "text": [
      "DEBUG flwr 2023-09-01 00:04:20,753 | server.py:236 | fit_round 20 received 5 results and 0 failures\n",
      "DEBUG flwr 2023-09-01 00:04:20,777 | server.py:173 | evaluate_round 20: strategy sampled 5 clients (out of 10)\n"
     ]
    },
    {
     "name": "stdout",
     "output_type": "stream",
     "text": [
      "agrregate_fit results list length is  5\n",
      "Saving round 20 aggregated_parameters...\n"
     ]
    },
    {
     "name": "stderr",
     "output_type": "stream",
     "text": [
      "DEBUG flwr 2023-09-01 00:04:21,138 | server.py:187 | evaluate_round 20 received 5 results and 0 failures\n",
      "DEBUG flwr 2023-09-01 00:04:21,140 | server.py:222 | fit_round 21: strategy sampled 5 clients (out of 10)\n"
     ]
    },
    {
     "name": "stdout",
     "output_type": "stream",
     "text": [
      "agrregate_evaluate results list length is  5\n",
      "server round is  20\n",
      "loss is  0.17778655886650085\n"
     ]
    },
    {
     "name": "stderr",
     "output_type": "stream",
     "text": [
      "DEBUG flwr 2023-09-01 00:04:25,086 | server.py:236 | fit_round 21 received 5 results and 0 failures\n",
      "DEBUG flwr 2023-09-01 00:04:25,112 | server.py:173 | evaluate_round 21: strategy sampled 5 clients (out of 10)\n"
     ]
    },
    {
     "name": "stdout",
     "output_type": "stream",
     "text": [
      "agrregate_fit results list length is  5\n",
      "Saving round 21 aggregated_parameters...\n"
     ]
    },
    {
     "name": "stderr",
     "output_type": "stream",
     "text": [
      "DEBUG flwr 2023-09-01 00:04:25,518 | server.py:187 | evaluate_round 21 received 5 results and 0 failures\n",
      "DEBUG flwr 2023-09-01 00:04:25,520 | server.py:222 | fit_round 22: strategy sampled 5 clients (out of 10)\n"
     ]
    },
    {
     "name": "stdout",
     "output_type": "stream",
     "text": [
      "agrregate_evaluate results list length is  5\n",
      "server round is  21\n",
      "loss is  0.17626971006393433\n"
     ]
    },
    {
     "name": "stderr",
     "output_type": "stream",
     "text": [
      "DEBUG flwr 2023-09-01 00:04:31,034 | server.py:236 | fit_round 22 received 5 results and 0 failures\n",
      "DEBUG flwr 2023-09-01 00:04:31,090 | server.py:173 | evaluate_round 22: strategy sampled 5 clients (out of 10)\n"
     ]
    },
    {
     "name": "stdout",
     "output_type": "stream",
     "text": [
      "agrregate_fit results list length is  5\n",
      "Saving round 22 aggregated_parameters...\n"
     ]
    },
    {
     "name": "stderr",
     "output_type": "stream",
     "text": [
      "DEBUG flwr 2023-09-01 00:04:31,668 | server.py:187 | evaluate_round 22 received 5 results and 0 failures\n",
      "DEBUG flwr 2023-09-01 00:04:31,671 | server.py:222 | fit_round 23: strategy sampled 5 clients (out of 10)\n"
     ]
    },
    {
     "name": "stdout",
     "output_type": "stream",
     "text": [
      "agrregate_evaluate results list length is  5\n",
      "server round is  22\n",
      "loss is  0.1725986748933792\n"
     ]
    },
    {
     "name": "stderr",
     "output_type": "stream",
     "text": [
      "DEBUG flwr 2023-09-01 00:04:36,519 | server.py:236 | fit_round 23 received 5 results and 0 failures\n",
      "DEBUG flwr 2023-09-01 00:04:36,555 | server.py:173 | evaluate_round 23: strategy sampled 5 clients (out of 10)\n"
     ]
    },
    {
     "name": "stdout",
     "output_type": "stream",
     "text": [
      "agrregate_fit results list length is  5\n",
      "Saving round 23 aggregated_parameters...\n"
     ]
    },
    {
     "name": "stderr",
     "output_type": "stream",
     "text": [
      "DEBUG flwr 2023-09-01 00:04:37,141 | server.py:187 | evaluate_round 23 received 5 results and 0 failures\n",
      "DEBUG flwr 2023-09-01 00:04:37,144 | server.py:222 | fit_round 24: strategy sampled 5 clients (out of 10)\n"
     ]
    },
    {
     "name": "stdout",
     "output_type": "stream",
     "text": [
      "agrregate_evaluate results list length is  5\n",
      "server round is  23\n",
      "loss is  0.16973111033439636\n"
     ]
    },
    {
     "name": "stderr",
     "output_type": "stream",
     "text": [
      "DEBUG flwr 2023-09-01 00:04:43,401 | server.py:236 | fit_round 24 received 5 results and 0 failures\n",
      "DEBUG flwr 2023-09-01 00:04:43,441 | server.py:173 | evaluate_round 24: strategy sampled 5 clients (out of 10)\n"
     ]
    },
    {
     "name": "stdout",
     "output_type": "stream",
     "text": [
      "agrregate_fit results list length is  5\n",
      "Saving round 24 aggregated_parameters...\n"
     ]
    },
    {
     "name": "stderr",
     "output_type": "stream",
     "text": [
      "DEBUG flwr 2023-09-01 00:04:44,020 | server.py:187 | evaluate_round 24 received 5 results and 0 failures\n",
      "DEBUG flwr 2023-09-01 00:04:44,023 | server.py:222 | fit_round 25: strategy sampled 5 clients (out of 10)\n"
     ]
    },
    {
     "name": "stdout",
     "output_type": "stream",
     "text": [
      "agrregate_evaluate results list length is  5\n",
      "server round is  24\n",
      "loss is  0.17027659714221954\n"
     ]
    },
    {
     "name": "stderr",
     "output_type": "stream",
     "text": [
      "DEBUG flwr 2023-09-01 00:04:49,575 | server.py:236 | fit_round 25 received 5 results and 0 failures\n",
      "DEBUG flwr 2023-09-01 00:04:49,621 | server.py:173 | evaluate_round 25: strategy sampled 5 clients (out of 10)\n"
     ]
    },
    {
     "name": "stdout",
     "output_type": "stream",
     "text": [
      "agrregate_fit results list length is  5\n",
      "Saving round 25 aggregated_parameters...\n"
     ]
    },
    {
     "name": "stderr",
     "output_type": "stream",
     "text": [
      "DEBUG flwr 2023-09-01 00:04:50,208 | server.py:187 | evaluate_round 25 received 5 results and 0 failures\n",
      "DEBUG flwr 2023-09-01 00:04:50,211 | server.py:222 | fit_round 26: strategy sampled 5 clients (out of 10)\n"
     ]
    },
    {
     "name": "stdout",
     "output_type": "stream",
     "text": [
      "agrregate_evaluate results list length is  5\n",
      "server round is  25\n",
      "loss is  0.16522088646888733\n"
     ]
    },
    {
     "name": "stderr",
     "output_type": "stream",
     "text": [
      "DEBUG flwr 2023-09-01 00:04:55,351 | server.py:236 | fit_round 26 received 5 results and 0 failures\n",
      "DEBUG flwr 2023-09-01 00:04:55,379 | server.py:173 | evaluate_round 26: strategy sampled 5 clients (out of 10)\n"
     ]
    },
    {
     "name": "stdout",
     "output_type": "stream",
     "text": [
      "agrregate_fit results list length is  5\n",
      "Saving round 26 aggregated_parameters...\n"
     ]
    },
    {
     "name": "stderr",
     "output_type": "stream",
     "text": [
      "DEBUG flwr 2023-09-01 00:04:55,921 | server.py:187 | evaluate_round 26 received 5 results and 0 failures\n",
      "DEBUG flwr 2023-09-01 00:04:55,923 | server.py:222 | fit_round 27: strategy sampled 5 clients (out of 10)\n"
     ]
    },
    {
     "name": "stdout",
     "output_type": "stream",
     "text": [
      "agrregate_evaluate results list length is  5\n",
      "server round is  26\n",
      "loss is  0.16657601296901703\n"
     ]
    },
    {
     "name": "stderr",
     "output_type": "stream",
     "text": [
      "DEBUG flwr 2023-09-01 00:05:00,607 | server.py:236 | fit_round 27 received 5 results and 0 failures\n",
      "DEBUG flwr 2023-09-01 00:05:00,639 | server.py:173 | evaluate_round 27: strategy sampled 5 clients (out of 10)\n"
     ]
    },
    {
     "name": "stdout",
     "output_type": "stream",
     "text": [
      "agrregate_fit results list length is  5\n",
      "Saving round 27 aggregated_parameters...\n"
     ]
    },
    {
     "name": "stderr",
     "output_type": "stream",
     "text": [
      "DEBUG flwr 2023-09-01 00:05:01,024 | server.py:187 | evaluate_round 27 received 5 results and 0 failures\n",
      "DEBUG flwr 2023-09-01 00:05:01,026 | server.py:222 | fit_round 28: strategy sampled 5 clients (out of 10)\n"
     ]
    },
    {
     "name": "stdout",
     "output_type": "stream",
     "text": [
      "agrregate_evaluate results list length is  5\n",
      "server round is  27\n",
      "loss is  0.1643616259098053\n"
     ]
    },
    {
     "name": "stderr",
     "output_type": "stream",
     "text": [
      "DEBUG flwr 2023-09-01 00:05:05,336 | server.py:236 | fit_round 28 received 5 results and 0 failures\n",
      "DEBUG flwr 2023-09-01 00:05:05,364 | server.py:173 | evaluate_round 28: strategy sampled 5 clients (out of 10)\n"
     ]
    },
    {
     "name": "stdout",
     "output_type": "stream",
     "text": [
      "agrregate_fit results list length is  5\n",
      "Saving round 28 aggregated_parameters...\n"
     ]
    },
    {
     "name": "stderr",
     "output_type": "stream",
     "text": [
      "DEBUG flwr 2023-09-01 00:05:05,986 | server.py:187 | evaluate_round 28 received 5 results and 0 failures\n",
      "DEBUG flwr 2023-09-01 00:05:05,989 | server.py:222 | fit_round 29: strategy sampled 5 clients (out of 10)\n"
     ]
    },
    {
     "name": "stdout",
     "output_type": "stream",
     "text": [
      "agrregate_evaluate results list length is  5\n",
      "server round is  28\n",
      "loss is  0.16335149109363556\n"
     ]
    },
    {
     "name": "stderr",
     "output_type": "stream",
     "text": [
      "DEBUG flwr 2023-09-01 00:05:12,364 | server.py:236 | fit_round 29 received 5 results and 0 failures\n",
      "DEBUG flwr 2023-09-01 00:05:12,397 | server.py:173 | evaluate_round 29: strategy sampled 5 clients (out of 10)\n"
     ]
    },
    {
     "name": "stdout",
     "output_type": "stream",
     "text": [
      "agrregate_fit results list length is  5\n",
      "Saving round 29 aggregated_parameters...\n"
     ]
    },
    {
     "name": "stderr",
     "output_type": "stream",
     "text": [
      "DEBUG flwr 2023-09-01 00:05:13,691 | server.py:187 | evaluate_round 29 received 5 results and 0 failures\n",
      "DEBUG flwr 2023-09-01 00:05:13,696 | server.py:222 | fit_round 30: strategy sampled 5 clients (out of 10)\n"
     ]
    },
    {
     "name": "stdout",
     "output_type": "stream",
     "text": [
      "agrregate_evaluate results list length is  5\n",
      "server round is  29\n",
      "loss is  0.1628877967596054\n"
     ]
    },
    {
     "name": "stderr",
     "output_type": "stream",
     "text": [
      "DEBUG flwr 2023-09-01 00:05:20,864 | server.py:236 | fit_round 30 received 5 results and 0 failures\n",
      "DEBUG flwr 2023-09-01 00:05:20,916 | server.py:173 | evaluate_round 30: strategy sampled 5 clients (out of 10)\n"
     ]
    },
    {
     "name": "stdout",
     "output_type": "stream",
     "text": [
      "agrregate_fit results list length is  5\n",
      "Saving round 30 aggregated_parameters...\n"
     ]
    },
    {
     "name": "stderr",
     "output_type": "stream",
     "text": [
      "DEBUG flwr 2023-09-01 00:05:21,710 | server.py:187 | evaluate_round 30 received 5 results and 0 failures\n",
      "INFO flwr 2023-09-01 00:05:21,713 | server.py:153 | FL finished in 165.2082664000045\n",
      "INFO flwr 2023-09-01 00:05:21,715 | app.py:225 | app_fit: losses_distributed [(1, 0.25283083319664), (2, 0.2535133957862854), (3, 0.25394898653030396), (4, 0.25337880849838257), (5, 0.2516672909259796), (6, 0.24831843376159668), (7, 0.2444283813238144), (8, 0.23920822143554688), (9, 0.23329900205135345), (10, 0.2277498096227646), (11, 0.22238850593566895), (12, 0.21630100905895233), (13, 0.20941436290740967), (14, 0.2051079124212265), (15, 0.19963374733924866), (16, 0.19395531713962555), (17, 0.19024166464805603), (18, 0.18459147214889526), (19, 0.1814517378807068), (20, 0.17778655886650085), (21, 0.17626971006393433), (22, 0.1725986748933792), (23, 0.16973111033439636), (24, 0.17027659714221954), (25, 0.16522088646888733), (26, 0.16657601296901703), (27, 0.1643616259098053), (28, 0.16335149109363556), (29, 0.1628877967596054), (30, 0.16398300230503082)]\n",
      "INFO flwr 2023-09-01 00:05:21,717 | app.py:226 | app_fit: metrics_distributed_fit {}\n",
      "INFO flwr 2023-09-01 00:05:21,719 | app.py:227 | app_fit: metrics_distributed {'mse': [(1, 1.2641541659832), (2, 1.267566978931427), (3, 1.2697449326515198), (4, 1.2668940424919128), (5, 1.258336454629898), (6, 1.2415921688079834), (7, 1.222141906619072), (8, 1.1960411071777344), (9, 1.1664950102567673), (10, 1.138749048113823), (11, 1.1119425296783447), (12, 1.0815050452947617), (13, 1.0470718145370483), (14, 1.0255395621061325), (15, 0.9981687366962433), (16, 0.9697765856981277), (17, 0.9512083232402802), (18, 0.9229573607444763), (19, 0.9072586894035339), (20, 0.8889327943325043), (21, 0.8813485503196716), (22, 0.8629933744668961), (23, 0.8486555516719818), (24, 0.8513829857110977), (25, 0.8261044323444366), (26, 0.8328800648450851), (27, 0.8218081295490265), (28, 0.8167574554681778), (29, 0.814438983798027), (30, 0.8199150115251541)]}\n",
      "INFO flwr 2023-09-01 00:05:21,720 | app.py:228 | app_fit: losses_centralized []\n",
      "INFO flwr 2023-09-01 00:05:21,724 | app.py:229 | app_fit: metrics_centralized {}\n"
     ]
    },
    {
     "name": "stdout",
     "output_type": "stream",
     "text": [
      "agrregate_evaluate results list length is  5\n",
      "server round is  30\n",
      "loss is  0.16398300230503082\n",
      "History (loss, distributed):\n",
      "\tround 1: 0.25283083319664\n",
      "\tround 2: 0.2535133957862854\n",
      "\tround 3: 0.25394898653030396\n",
      "\tround 4: 0.25337880849838257\n",
      "\tround 5: 0.2516672909259796\n",
      "\tround 6: 0.24831843376159668\n",
      "\tround 7: 0.2444283813238144\n",
      "\tround 8: 0.23920822143554688\n",
      "\tround 9: 0.23329900205135345\n",
      "\tround 10: 0.2277498096227646\n",
      "\tround 11: 0.22238850593566895\n",
      "\tround 12: 0.21630100905895233\n",
      "\tround 13: 0.20941436290740967\n",
      "\tround 14: 0.2051079124212265\n",
      "\tround 15: 0.19963374733924866\n",
      "\tround 16: 0.19395531713962555\n",
      "\tround 17: 0.19024166464805603\n",
      "\tround 18: 0.18459147214889526\n",
      "\tround 19: 0.1814517378807068\n",
      "\tround 20: 0.17778655886650085\n",
      "\tround 21: 0.17626971006393433\n",
      "\tround 22: 0.1725986748933792\n",
      "\tround 23: 0.16973111033439636\n",
      "\tround 24: 0.17027659714221954\n",
      "\tround 25: 0.16522088646888733\n",
      "\tround 26: 0.16657601296901703\n",
      "\tround 27: 0.1643616259098053\n",
      "\tround 28: 0.16335149109363556\n",
      "\tround 29: 0.1628877967596054\n",
      "\tround 30: 0.16398300230503082\n",
      "History (metrics, distributed, evaluate):\n",
      "{'mse': [(1, 1.2641541659832), (2, 1.267566978931427), (3, 1.2697449326515198), (4, 1.2668940424919128), (5, 1.258336454629898), (6, 1.2415921688079834), (7, 1.222141906619072), (8, 1.1960411071777344), (9, 1.1664950102567673), (10, 1.138749048113823), (11, 1.1119425296783447), (12, 1.0815050452947617), (13, 1.0470718145370483), (14, 1.0255395621061325), (15, 0.9981687366962433), (16, 0.9697765856981277), (17, 0.9512083232402802), (18, 0.9229573607444763), (19, 0.9072586894035339), (20, 0.8889327943325043), (21, 0.8813485503196716), (22, 0.8629933744668961), (23, 0.8486555516719818), (24, 0.8513829857110977), (25, 0.8261044323444366), (26, 0.8328800648450851), (27, 0.8218081295490265), (28, 0.8167574554681778), (29, 0.814438983798027), (30, 0.8199150115251541)]}\n",
      "[(1, 0.25283083319664), (2, 0.2535133957862854), (3, 0.25394898653030396), (4, 0.25337880849838257), (5, 0.2516672909259796), (6, 0.24831843376159668), (7, 0.2444283813238144), (8, 0.23920822143554688), (9, 0.23329900205135345), (10, 0.2277498096227646), (11, 0.22238850593566895), (12, 0.21630100905895233), (13, 0.20941436290740967), (14, 0.2051079124212265), (15, 0.19963374733924866), (16, 0.19395531713962555), (17, 0.19024166464805603), (18, 0.18459147214889526), (19, 0.1814517378807068), (20, 0.17778655886650085), (21, 0.17626971006393433), (22, 0.1725986748933792), (23, 0.16973111033439636), (24, 0.17027659714221954), (25, 0.16522088646888733), (26, 0.16657601296901703), (27, 0.1643616259098053), (28, 0.16335149109363556), (29, 0.1628877967596054), (30, 0.16398300230503082)]\n",
      "0.8142819434103205\n",
      "Fold 2:\n",
      "splitting [0.1, 0.1, 0.1, 0.1, 0.1, 0.1, 0.1, 0.1, 0.1, 0.1]\n",
      "time 0:03:22.553670\n",
      "mse [0.163983]\n",
      "auc [0.8142819434103205]\n"
     ]
    }
   ],
   "source": [
    "#num_rounds = [30]\n",
    "\n",
    "splitting = [0.1, 0.1, 0.1, 0.1, 0.1, 0.1, 0.1, 0.1, 0.1, 0.1]\n",
    "do_fl(splitting, num_rounds)"
   ],
   "metadata": {
    "collapsed": false,
    "ExecuteTime": {
     "end_time": "2023-08-31T23:05:22.007414200Z",
     "start_time": "2023-08-31T23:01:59.399883700Z"
    }
   }
  },
  {
   "cell_type": "code",
   "execution_count": 19,
   "outputs": [
    {
     "name": "stdout",
     "output_type": "stream",
     "text": [
      "Fold 1:\n",
      "x_test: cpu\n",
      "y_test: cpu\n",
      "30\n"
     ]
    },
    {
     "name": "stderr",
     "output_type": "stream",
     "text": [
      "C:\\Users\\Shuyao\\AppData\\Local\\Temp\\ipykernel_23376\\475339861.py:29: UserWarning: To copy construct from a tensor, it is recommended to use sourceTensor.clone().detach() or sourceTensor.clone().detach().requires_grad_(True), rather than torch.tensor(sourceTensor).\n",
      "  X_train = torch.tensor(X_train)\n",
      "C:\\Users\\Shuyao\\AppData\\Local\\Temp\\ipykernel_23376\\475339861.py:30: UserWarning: To copy construct from a tensor, it is recommended to use sourceTensor.clone().detach() or sourceTensor.clone().detach().requires_grad_(True), rather than torch.tensor(sourceTensor).\n",
      "  X_test = torch.tensor(X_test)\n",
      "C:\\Users\\Shuyao\\AppData\\Local\\Temp\\ipykernel_23376\\475339861.py:31: UserWarning: To copy construct from a tensor, it is recommended to use sourceTensor.clone().detach() or sourceTensor.clone().detach().requires_grad_(True), rather than torch.tensor(sourceTensor).\n",
      "  y_train = torch.reshape(torch.tensor(y_train), (-1, 1))\n",
      "C:\\Users\\Shuyao\\AppData\\Local\\Temp\\ipykernel_23376\\475339861.py:32: UserWarning: To copy construct from a tensor, it is recommended to use sourceTensor.clone().detach() or sourceTensor.clone().detach().requires_grad_(True), rather than torch.tensor(sourceTensor).\n",
      "  y_test = torch.reshape(torch.tensor(y_test), (-1, 1))\n",
      "INFO flwr 2023-09-01 00:05:22,339 | app.py:145 | Starting Flower simulation, config: ServerConfig(num_rounds=30, round_timeout=None)\n"
     ]
    },
    {
     "name": "stdout",
     "output_type": "stream",
     "text": [
      "Client 0 trainset shape torch.Size([134444, 10])\n",
      "Client 1 trainset shape torch.Size([8908, 10])\n",
      "Client 2 trainset shape torch.Size([8976, 10])\n",
      "Client 3 trainset shape torch.Size([8900, 10])\n",
      "Client 4 trainset shape torch.Size([9052, 10])\n",
      "Client 5 trainset shape torch.Size([8910, 10])\n",
      "Client 6 trainset shape torch.Size([8952, 10])\n",
      "Client 7 trainset shape torch.Size([8938, 10])\n",
      "Client 8 trainset shape torch.Size([8982, 10])\n",
      "Client 9 trainset shape torch.Size([8950, 10])\n",
      "FL started training on cpu\n",
      "Number of available GPUs: 0\n"
     ]
    },
    {
     "name": "stderr",
     "output_type": "stream",
     "text": [
      "2023-09-01 00:05:39,101\tINFO worker.py:1627 -- Started a local Ray instance. View the dashboard at \u001B[1m\u001B[32m127.0.0.1:8271 \u001B[39m\u001B[22m\n",
      "INFO flwr 2023-09-01 00:05:55,153 | app.py:179 | Flower VCE: Ray initialized with resources: {'node:127.0.0.1': 1.0, 'memory': 1351100007.0, 'object_store_memory': 675550003.0, 'GPU': 1.0, 'CPU': 8.0}\n",
      "INFO flwr 2023-09-01 00:05:55,158 | server.py:89 | Initializing global parameters\n",
      "INFO flwr 2023-09-01 00:05:55,160 | server.py:276 | Requesting initial parameters from one random client\n",
      "INFO flwr 2023-09-01 00:06:12,455 | server.py:280 | Received initial parameters from one random client\n",
      "INFO flwr 2023-09-01 00:06:12,459 | server.py:91 | Evaluating initial parameters\n",
      "INFO flwr 2023-09-01 00:06:12,461 | server.py:104 | FL starting\n",
      "DEBUG flwr 2023-09-01 00:06:12,463 | server.py:222 | fit_round 1: strategy sampled 5 clients (out of 10)\n",
      "DEBUG flwr 2023-09-01 00:06:55,219 | server.py:236 | fit_round 1 received 5 results and 0 failures\n",
      "WARNING flwr 2023-09-01 00:06:55,253 | fedavg.py:242 | No fit_metrics_aggregation_fn provided\n",
      "DEBUG flwr 2023-09-01 00:06:55,267 | server.py:173 | evaluate_round 1: strategy sampled 5 clients (out of 10)\n"
     ]
    },
    {
     "name": "stdout",
     "output_type": "stream",
     "text": [
      "agrregate_fit results list length is  5\n",
      "Saving round 1 aggregated_parameters...\n"
     ]
    },
    {
     "name": "stderr",
     "output_type": "stream",
     "text": [
      "DEBUG flwr 2023-09-01 00:06:55,820 | server.py:187 | evaluate_round 1 received 5 results and 0 failures\n",
      "DEBUG flwr 2023-09-01 00:06:55,823 | server.py:222 | fit_round 2: strategy sampled 5 clients (out of 10)\n"
     ]
    },
    {
     "name": "stdout",
     "output_type": "stream",
     "text": [
      "agrregate_evaluate results list length is  5\n",
      "server round is  1\n",
      "loss is  0.265170693397522\n"
     ]
    },
    {
     "name": "stderr",
     "output_type": "stream",
     "text": [
      "DEBUG flwr 2023-09-01 00:07:00,199 | server.py:236 | fit_round 2 received 5 results and 0 failures\n",
      "DEBUG flwr 2023-09-01 00:07:00,252 | server.py:173 | evaluate_round 2: strategy sampled 5 clients (out of 10)\n"
     ]
    },
    {
     "name": "stdout",
     "output_type": "stream",
     "text": [
      "agrregate_fit results list length is  5\n",
      "Saving round 2 aggregated_parameters...\n"
     ]
    },
    {
     "name": "stderr",
     "output_type": "stream",
     "text": [
      "DEBUG flwr 2023-09-01 00:07:01,448 | server.py:187 | evaluate_round 2 received 5 results and 0 failures\n",
      "DEBUG flwr 2023-09-01 00:07:01,451 | server.py:222 | fit_round 3: strategy sampled 5 clients (out of 10)\n"
     ]
    },
    {
     "name": "stdout",
     "output_type": "stream",
     "text": [
      "agrregate_evaluate results list length is  5\n",
      "server round is  2\n",
      "loss is  0.2644081115722656\n"
     ]
    },
    {
     "name": "stderr",
     "output_type": "stream",
     "text": [
      "DEBUG flwr 2023-09-01 00:07:05,624 | server.py:236 | fit_round 3 received 5 results and 0 failures\n",
      "DEBUG flwr 2023-09-01 00:07:05,663 | server.py:173 | evaluate_round 3: strategy sampled 5 clients (out of 10)\n"
     ]
    },
    {
     "name": "stdout",
     "output_type": "stream",
     "text": [
      "agrregate_fit results list length is  5\n",
      "Saving round 3 aggregated_parameters...\n"
     ]
    },
    {
     "name": "stderr",
     "output_type": "stream",
     "text": [
      "DEBUG flwr 2023-09-01 00:07:06,126 | server.py:187 | evaluate_round 3 received 5 results and 0 failures\n",
      "DEBUG flwr 2023-09-01 00:07:06,128 | server.py:222 | fit_round 4: strategy sampled 5 clients (out of 10)\n"
     ]
    },
    {
     "name": "stdout",
     "output_type": "stream",
     "text": [
      "agrregate_evaluate results list length is  5\n",
      "server round is  3\n",
      "loss is  0.2623937427997589\n"
     ]
    },
    {
     "name": "stderr",
     "output_type": "stream",
     "text": [
      "DEBUG flwr 2023-09-01 00:07:10,164 | server.py:236 | fit_round 4 received 5 results and 0 failures\n",
      "DEBUG flwr 2023-09-01 00:07:10,211 | server.py:173 | evaluate_round 4: strategy sampled 5 clients (out of 10)\n"
     ]
    },
    {
     "name": "stdout",
     "output_type": "stream",
     "text": [
      "agrregate_fit results list length is  5\n",
      "Saving round 4 aggregated_parameters...\n"
     ]
    },
    {
     "name": "stderr",
     "output_type": "stream",
     "text": [
      "DEBUG flwr 2023-09-01 00:07:10,703 | server.py:187 | evaluate_round 4 received 5 results and 0 failures\n",
      "DEBUG flwr 2023-09-01 00:07:10,705 | server.py:222 | fit_round 5: strategy sampled 5 clients (out of 10)\n"
     ]
    },
    {
     "name": "stdout",
     "output_type": "stream",
     "text": [
      "agrregate_evaluate results list length is  5\n",
      "server round is  4\n",
      "loss is  0.2597842216491699\n"
     ]
    },
    {
     "name": "stderr",
     "output_type": "stream",
     "text": [
      "DEBUG flwr 2023-09-01 00:07:12,962 | server.py:236 | fit_round 5 received 5 results and 0 failures\n",
      "DEBUG flwr 2023-09-01 00:07:12,995 | server.py:173 | evaluate_round 5: strategy sampled 5 clients (out of 10)\n"
     ]
    },
    {
     "name": "stdout",
     "output_type": "stream",
     "text": [
      "agrregate_fit results list length is  5\n",
      "Saving round 5 aggregated_parameters...\n"
     ]
    },
    {
     "name": "stderr",
     "output_type": "stream",
     "text": [
      "DEBUG flwr 2023-09-01 00:07:13,448 | server.py:187 | evaluate_round 5 received 5 results and 0 failures\n",
      "DEBUG flwr 2023-09-01 00:07:13,451 | server.py:222 | fit_round 6: strategy sampled 5 clients (out of 10)\n"
     ]
    },
    {
     "name": "stdout",
     "output_type": "stream",
     "text": [
      "agrregate_evaluate results list length is  5\n",
      "server round is  5\n",
      "loss is  0.25811341404914856\n"
     ]
    },
    {
     "name": "stderr",
     "output_type": "stream",
     "text": [
      "DEBUG flwr 2023-09-01 00:07:16,707 | server.py:236 | fit_round 6 received 5 results and 0 failures\n",
      "DEBUG flwr 2023-09-01 00:07:16,738 | server.py:173 | evaluate_round 6: strategy sampled 5 clients (out of 10)\n"
     ]
    },
    {
     "name": "stdout",
     "output_type": "stream",
     "text": [
      "agrregate_fit results list length is  5\n",
      "Saving round 6 aggregated_parameters...\n"
     ]
    },
    {
     "name": "stderr",
     "output_type": "stream",
     "text": [
      "DEBUG flwr 2023-09-01 00:07:17,174 | server.py:187 | evaluate_round 6 received 5 results and 0 failures\n",
      "DEBUG flwr 2023-09-01 00:07:17,177 | server.py:222 | fit_round 7: strategy sampled 5 clients (out of 10)\n"
     ]
    },
    {
     "name": "stdout",
     "output_type": "stream",
     "text": [
      "agrregate_evaluate results list length is  5\n",
      "server round is  6\n",
      "loss is  0.2562730610370636\n"
     ]
    },
    {
     "name": "stderr",
     "output_type": "stream",
     "text": [
      "DEBUG flwr 2023-09-01 00:07:35,176 | server.py:236 | fit_round 7 received 5 results and 0 failures\n",
      "DEBUG flwr 2023-09-01 00:07:35,201 | server.py:173 | evaluate_round 7: strategy sampled 5 clients (out of 10)\n"
     ]
    },
    {
     "name": "stdout",
     "output_type": "stream",
     "text": [
      "agrregate_fit results list length is  5\n",
      "Saving round 7 aggregated_parameters...\n"
     ]
    },
    {
     "name": "stderr",
     "output_type": "stream",
     "text": [
      "DEBUG flwr 2023-09-01 00:07:35,601 | server.py:187 | evaluate_round 7 received 5 results and 0 failures\n",
      "DEBUG flwr 2023-09-01 00:07:35,603 | server.py:222 | fit_round 8: strategy sampled 5 clients (out of 10)\n"
     ]
    },
    {
     "name": "stdout",
     "output_type": "stream",
     "text": [
      "agrregate_evaluate results list length is  5\n",
      "server round is  7\n",
      "loss is  0.21803508698940277\n"
     ]
    },
    {
     "name": "stderr",
     "output_type": "stream",
     "text": [
      "DEBUG flwr 2023-09-01 00:07:38,552 | server.py:236 | fit_round 8 received 5 results and 0 failures\n",
      "DEBUG flwr 2023-09-01 00:07:38,578 | server.py:173 | evaluate_round 8: strategy sampled 5 clients (out of 10)\n"
     ]
    },
    {
     "name": "stdout",
     "output_type": "stream",
     "text": [
      "agrregate_fit results list length is  5\n",
      "Saving round 8 aggregated_parameters...\n"
     ]
    },
    {
     "name": "stderr",
     "output_type": "stream",
     "text": [
      "DEBUG flwr 2023-09-01 00:07:39,031 | server.py:187 | evaluate_round 8 received 5 results and 0 failures\n",
      "DEBUG flwr 2023-09-01 00:07:39,034 | server.py:222 | fit_round 9: strategy sampled 5 clients (out of 10)\n"
     ]
    },
    {
     "name": "stdout",
     "output_type": "stream",
     "text": [
      "agrregate_evaluate results list length is  5\n",
      "server round is  8\n",
      "loss is  0.21398404240608215\n"
     ]
    },
    {
     "name": "stderr",
     "output_type": "stream",
     "text": [
      "DEBUG flwr 2023-09-01 00:07:54,392 | server.py:236 | fit_round 9 received 5 results and 0 failures\n",
      "DEBUG flwr 2023-09-01 00:07:54,415 | server.py:173 | evaluate_round 9: strategy sampled 5 clients (out of 10)\n"
     ]
    },
    {
     "name": "stdout",
     "output_type": "stream",
     "text": [
      "agrregate_fit results list length is  5\n",
      "Saving round 9 aggregated_parameters...\n"
     ]
    },
    {
     "name": "stderr",
     "output_type": "stream",
     "text": [
      "DEBUG flwr 2023-09-01 00:07:54,801 | server.py:187 | evaluate_round 9 received 5 results and 0 failures\n",
      "DEBUG flwr 2023-09-01 00:07:54,804 | server.py:222 | fit_round 10: strategy sampled 5 clients (out of 10)\n"
     ]
    },
    {
     "name": "stdout",
     "output_type": "stream",
     "text": [
      "agrregate_evaluate results list length is  5\n",
      "server round is  9\n",
      "loss is  0.1872166246175766\n"
     ]
    },
    {
     "name": "stderr",
     "output_type": "stream",
     "text": [
      "DEBUG flwr 2023-09-01 00:08:13,746 | server.py:236 | fit_round 10 received 5 results and 0 failures\n",
      "DEBUG flwr 2023-09-01 00:08:13,765 | server.py:173 | evaluate_round 10: strategy sampled 5 clients (out of 10)\n"
     ]
    },
    {
     "name": "stdout",
     "output_type": "stream",
     "text": [
      "agrregate_fit results list length is  5\n",
      "Saving round 10 aggregated_parameters...\n"
     ]
    },
    {
     "name": "stderr",
     "output_type": "stream",
     "text": [
      "DEBUG flwr 2023-09-01 00:08:14,147 | server.py:187 | evaluate_round 10 received 5 results and 0 failures\n",
      "DEBUG flwr 2023-09-01 00:08:14,149 | server.py:222 | fit_round 11: strategy sampled 5 clients (out of 10)\n"
     ]
    },
    {
     "name": "stdout",
     "output_type": "stream",
     "text": [
      "agrregate_evaluate results list length is  5\n",
      "server round is  10\n",
      "loss is  0.17134477198123932\n"
     ]
    },
    {
     "name": "stderr",
     "output_type": "stream",
     "text": [
      "DEBUG flwr 2023-09-01 00:08:32,303 | server.py:236 | fit_round 11 received 5 results and 0 failures\n",
      "DEBUG flwr 2023-09-01 00:08:32,339 | server.py:173 | evaluate_round 11: strategy sampled 5 clients (out of 10)\n"
     ]
    },
    {
     "name": "stdout",
     "output_type": "stream",
     "text": [
      "agrregate_fit results list length is  5\n",
      "Saving round 11 aggregated_parameters...\n"
     ]
    },
    {
     "name": "stderr",
     "output_type": "stream",
     "text": [
      "DEBUG flwr 2023-09-01 00:08:32,728 | server.py:187 | evaluate_round 11 received 5 results and 0 failures\n",
      "DEBUG flwr 2023-09-01 00:08:32,730 | server.py:222 | fit_round 12: strategy sampled 5 clients (out of 10)\n"
     ]
    },
    {
     "name": "stdout",
     "output_type": "stream",
     "text": [
      "agrregate_evaluate results list length is  5\n",
      "server round is  11\n",
      "loss is  0.1655968576669693\n"
     ]
    },
    {
     "name": "stderr",
     "output_type": "stream",
     "text": [
      "DEBUG flwr 2023-09-01 00:08:35,964 | server.py:236 | fit_round 12 received 5 results and 0 failures\n",
      "DEBUG flwr 2023-09-01 00:08:36,008 | server.py:173 | evaluate_round 12: strategy sampled 5 clients (out of 10)\n"
     ]
    },
    {
     "name": "stdout",
     "output_type": "stream",
     "text": [
      "agrregate_fit results list length is  5\n",
      "Saving round 12 aggregated_parameters...\n"
     ]
    },
    {
     "name": "stderr",
     "output_type": "stream",
     "text": [
      "DEBUG flwr 2023-09-01 00:08:36,453 | server.py:187 | evaluate_round 12 received 5 results and 0 failures\n",
      "DEBUG flwr 2023-09-01 00:08:36,457 | server.py:222 | fit_round 13: strategy sampled 5 clients (out of 10)\n"
     ]
    },
    {
     "name": "stdout",
     "output_type": "stream",
     "text": [
      "agrregate_evaluate results list length is  5\n",
      "server round is  12\n",
      "loss is  0.16567108035087585\n"
     ]
    },
    {
     "name": "stderr",
     "output_type": "stream",
     "text": [
      "DEBUG flwr 2023-09-01 00:09:06,777 | server.py:236 | fit_round 13 received 5 results and 0 failures\n",
      "DEBUG flwr 2023-09-01 00:09:06,797 | server.py:173 | evaluate_round 13: strategy sampled 5 clients (out of 10)\n"
     ]
    },
    {
     "name": "stdout",
     "output_type": "stream",
     "text": [
      "agrregate_fit results list length is  5\n",
      "Saving round 13 aggregated_parameters...\n"
     ]
    },
    {
     "name": "stderr",
     "output_type": "stream",
     "text": [
      "DEBUG flwr 2023-09-01 00:09:07,121 | server.py:187 | evaluate_round 13 received 5 results and 0 failures\n",
      "DEBUG flwr 2023-09-01 00:09:07,123 | server.py:222 | fit_round 14: strategy sampled 5 clients (out of 10)\n"
     ]
    },
    {
     "name": "stdout",
     "output_type": "stream",
     "text": [
      "agrregate_evaluate results list length is  5\n",
      "server round is  13\n",
      "loss is  0.15888701379299164\n"
     ]
    },
    {
     "name": "stderr",
     "output_type": "stream",
     "text": [
      "DEBUG flwr 2023-09-01 00:09:09,049 | server.py:236 | fit_round 14 received 5 results and 0 failures\n",
      "DEBUG flwr 2023-09-01 00:09:09,098 | server.py:173 | evaluate_round 14: strategy sampled 5 clients (out of 10)\n"
     ]
    },
    {
     "name": "stdout",
     "output_type": "stream",
     "text": [
      "agrregate_fit results list length is  5\n",
      "Saving round 14 aggregated_parameters...\n"
     ]
    },
    {
     "name": "stderr",
     "output_type": "stream",
     "text": [
      "DEBUG flwr 2023-09-01 00:09:09,625 | server.py:187 | evaluate_round 14 received 5 results and 0 failures\n",
      "DEBUG flwr 2023-09-01 00:09:09,628 | server.py:222 | fit_round 15: strategy sampled 5 clients (out of 10)\n"
     ]
    },
    {
     "name": "stdout",
     "output_type": "stream",
     "text": [
      "agrregate_evaluate results list length is  5\n",
      "server round is  14\n",
      "loss is  0.1639409363269806\n"
     ]
    },
    {
     "name": "stderr",
     "output_type": "stream",
     "text": [
      "DEBUG flwr 2023-09-01 00:09:14,026 | server.py:236 | fit_round 15 received 5 results and 0 failures\n",
      "DEBUG flwr 2023-09-01 00:09:14,089 | server.py:173 | evaluate_round 15: strategy sampled 5 clients (out of 10)\n"
     ]
    },
    {
     "name": "stdout",
     "output_type": "stream",
     "text": [
      "agrregate_fit results list length is  5\n",
      "Saving round 15 aggregated_parameters...\n"
     ]
    },
    {
     "name": "stderr",
     "output_type": "stream",
     "text": [
      "DEBUG flwr 2023-09-01 00:09:15,241 | server.py:187 | evaluate_round 15 received 5 results and 0 failures\n",
      "DEBUG flwr 2023-09-01 00:09:15,252 | server.py:222 | fit_round 16: strategy sampled 5 clients (out of 10)\n"
     ]
    },
    {
     "name": "stdout",
     "output_type": "stream",
     "text": [
      "agrregate_evaluate results list length is  5\n",
      "server round is  15\n",
      "loss is  0.1600913107395172\n"
     ]
    },
    {
     "name": "stderr",
     "output_type": "stream",
     "text": [
      "DEBUG flwr 2023-09-01 00:09:30,685 | server.py:236 | fit_round 16 received 5 results and 0 failures\n",
      "DEBUG flwr 2023-09-01 00:09:30,710 | server.py:173 | evaluate_round 16: strategy sampled 5 clients (out of 10)\n"
     ]
    },
    {
     "name": "stdout",
     "output_type": "stream",
     "text": [
      "agrregate_fit results list length is  5\n",
      "Saving round 16 aggregated_parameters...\n"
     ]
    },
    {
     "name": "stderr",
     "output_type": "stream",
     "text": [
      "DEBUG flwr 2023-09-01 00:09:31,067 | server.py:187 | evaluate_round 16 received 5 results and 0 failures\n",
      "DEBUG flwr 2023-09-01 00:09:31,070 | server.py:222 | fit_round 17: strategy sampled 5 clients (out of 10)\n"
     ]
    },
    {
     "name": "stdout",
     "output_type": "stream",
     "text": [
      "agrregate_evaluate results list length is  5\n",
      "server round is  16\n",
      "loss is  0.15779340267181396\n"
     ]
    },
    {
     "name": "stderr",
     "output_type": "stream",
     "text": [
      "DEBUG flwr 2023-09-01 00:09:52,784 | server.py:236 | fit_round 17 received 5 results and 0 failures\n",
      "DEBUG flwr 2023-09-01 00:09:52,806 | server.py:173 | evaluate_round 17: strategy sampled 5 clients (out of 10)\n"
     ]
    },
    {
     "name": "stdout",
     "output_type": "stream",
     "text": [
      "agrregate_fit results list length is  5\n",
      "Saving round 17 aggregated_parameters...\n"
     ]
    },
    {
     "name": "stderr",
     "output_type": "stream",
     "text": [
      "DEBUG flwr 2023-09-01 00:09:53,111 | server.py:187 | evaluate_round 17 received 5 results and 0 failures\n",
      "DEBUG flwr 2023-09-01 00:09:53,113 | server.py:222 | fit_round 18: strategy sampled 5 clients (out of 10)\n"
     ]
    },
    {
     "name": "stdout",
     "output_type": "stream",
     "text": [
      "agrregate_evaluate results list length is  5\n",
      "server round is  17\n",
      "loss is  0.15928326547145844\n"
     ]
    },
    {
     "name": "stderr",
     "output_type": "stream",
     "text": [
      "DEBUG flwr 2023-09-01 00:09:55,307 | server.py:236 | fit_round 18 received 5 results and 0 failures\n",
      "DEBUG flwr 2023-09-01 00:09:55,341 | server.py:173 | evaluate_round 18: strategy sampled 5 clients (out of 10)\n"
     ]
    },
    {
     "name": "stdout",
     "output_type": "stream",
     "text": [
      "agrregate_fit results list length is  5\n",
      "Saving round 18 aggregated_parameters...\n"
     ]
    },
    {
     "name": "stderr",
     "output_type": "stream",
     "text": [
      "DEBUG flwr 2023-09-01 00:09:55,759 | server.py:187 | evaluate_round 18 received 5 results and 0 failures\n",
      "DEBUG flwr 2023-09-01 00:09:55,763 | server.py:222 | fit_round 19: strategy sampled 5 clients (out of 10)\n"
     ]
    },
    {
     "name": "stdout",
     "output_type": "stream",
     "text": [
      "agrregate_evaluate results list length is  5\n",
      "server round is  18\n",
      "loss is  0.15971487760543823\n"
     ]
    },
    {
     "name": "stderr",
     "output_type": "stream",
     "text": [
      "DEBUG flwr 2023-09-01 00:10:19,614 | server.py:236 | fit_round 19 received 5 results and 0 failures\n",
      "DEBUG flwr 2023-09-01 00:10:19,697 | server.py:173 | evaluate_round 19: strategy sampled 5 clients (out of 10)\n"
     ]
    },
    {
     "name": "stdout",
     "output_type": "stream",
     "text": [
      "agrregate_fit results list length is  5\n",
      "Saving round 19 aggregated_parameters...\n"
     ]
    },
    {
     "name": "stderr",
     "output_type": "stream",
     "text": [
      "DEBUG flwr 2023-09-01 00:10:20,735 | server.py:187 | evaluate_round 19 received 5 results and 0 failures\n",
      "DEBUG flwr 2023-09-01 00:10:20,739 | server.py:222 | fit_round 20: strategy sampled 5 clients (out of 10)\n"
     ]
    },
    {
     "name": "stdout",
     "output_type": "stream",
     "text": [
      "agrregate_evaluate results list length is  5\n",
      "server round is  19\n",
      "loss is  0.16135862469673157\n"
     ]
    },
    {
     "name": "stderr",
     "output_type": "stream",
     "text": [
      "DEBUG flwr 2023-09-01 00:10:38,313 | server.py:236 | fit_round 20 received 5 results and 0 failures\n",
      "DEBUG flwr 2023-09-01 00:10:38,340 | server.py:173 | evaluate_round 20: strategy sampled 5 clients (out of 10)\n"
     ]
    },
    {
     "name": "stdout",
     "output_type": "stream",
     "text": [
      "agrregate_fit results list length is  5\n",
      "Saving round 20 aggregated_parameters...\n"
     ]
    },
    {
     "name": "stderr",
     "output_type": "stream",
     "text": [
      "DEBUG flwr 2023-09-01 00:10:38,742 | server.py:187 | evaluate_round 20 received 5 results and 0 failures\n",
      "DEBUG flwr 2023-09-01 00:10:38,744 | server.py:222 | fit_round 21: strategy sampled 5 clients (out of 10)\n"
     ]
    },
    {
     "name": "stdout",
     "output_type": "stream",
     "text": [
      "agrregate_evaluate results list length is  5\n",
      "server round is  20\n",
      "loss is  0.15543100237846375\n"
     ]
    },
    {
     "name": "stderr",
     "output_type": "stream",
     "text": [
      "DEBUG flwr 2023-09-01 00:10:41,130 | server.py:236 | fit_round 21 received 5 results and 0 failures\n",
      "DEBUG flwr 2023-09-01 00:10:41,155 | server.py:173 | evaluate_round 21: strategy sampled 5 clients (out of 10)\n"
     ]
    },
    {
     "name": "stdout",
     "output_type": "stream",
     "text": [
      "agrregate_fit results list length is  5\n",
      "Saving round 21 aggregated_parameters...\n"
     ]
    },
    {
     "name": "stderr",
     "output_type": "stream",
     "text": [
      "DEBUG flwr 2023-09-01 00:10:41,669 | server.py:187 | evaluate_round 21 received 5 results and 0 failures\n",
      "DEBUG flwr 2023-09-01 00:10:41,673 | server.py:222 | fit_round 22: strategy sampled 5 clients (out of 10)\n"
     ]
    },
    {
     "name": "stdout",
     "output_type": "stream",
     "text": [
      "agrregate_evaluate results list length is  5\n",
      "server round is  21\n",
      "loss is  0.15311220288276672\n"
     ]
    },
    {
     "name": "stderr",
     "output_type": "stream",
     "text": [
      "DEBUG flwr 2023-09-01 00:10:57,107 | server.py:236 | fit_round 22 received 5 results and 0 failures\n",
      "DEBUG flwr 2023-09-01 00:10:57,138 | server.py:173 | evaluate_round 22: strategy sampled 5 clients (out of 10)\n"
     ]
    },
    {
     "name": "stdout",
     "output_type": "stream",
     "text": [
      "agrregate_fit results list length is  5\n",
      "Saving round 22 aggregated_parameters...\n"
     ]
    },
    {
     "name": "stderr",
     "output_type": "stream",
     "text": [
      "DEBUG flwr 2023-09-01 00:10:57,923 | server.py:187 | evaluate_round 22 received 5 results and 0 failures\n",
      "DEBUG flwr 2023-09-01 00:10:57,928 | server.py:222 | fit_round 23: strategy sampled 5 clients (out of 10)\n"
     ]
    },
    {
     "name": "stdout",
     "output_type": "stream",
     "text": [
      "agrregate_evaluate results list length is  5\n",
      "server round is  22\n",
      "loss is  0.15635330975055695\n"
     ]
    },
    {
     "name": "stderr",
     "output_type": "stream",
     "text": [
      "DEBUG flwr 2023-09-01 00:11:00,684 | server.py:236 | fit_round 23 received 5 results and 0 failures\n",
      "DEBUG flwr 2023-09-01 00:11:00,765 | server.py:173 | evaluate_round 23: strategy sampled 5 clients (out of 10)\n"
     ]
    },
    {
     "name": "stdout",
     "output_type": "stream",
     "text": [
      "agrregate_fit results list length is  5\n",
      "Saving round 23 aggregated_parameters...\n"
     ]
    },
    {
     "name": "stderr",
     "output_type": "stream",
     "text": [
      "DEBUG flwr 2023-09-01 00:11:01,271 | server.py:187 | evaluate_round 23 received 5 results and 0 failures\n",
      "DEBUG flwr 2023-09-01 00:11:01,274 | server.py:222 | fit_round 24: strategy sampled 5 clients (out of 10)\n"
     ]
    },
    {
     "name": "stdout",
     "output_type": "stream",
     "text": [
      "agrregate_evaluate results list length is  5\n",
      "server round is  23\n",
      "loss is  0.15805166959762573\n"
     ]
    },
    {
     "name": "stderr",
     "output_type": "stream",
     "text": [
      "DEBUG flwr 2023-09-01 00:11:04,064 | server.py:236 | fit_round 24 received 5 results and 0 failures\n",
      "DEBUG flwr 2023-09-01 00:11:04,160 | server.py:173 | evaluate_round 24: strategy sampled 5 clients (out of 10)\n"
     ]
    },
    {
     "name": "stdout",
     "output_type": "stream",
     "text": [
      "agrregate_fit results list length is  5\n",
      "Saving round 24 aggregated_parameters...\n"
     ]
    },
    {
     "name": "stderr",
     "output_type": "stream",
     "text": [
      "DEBUG flwr 2023-09-01 00:11:04,823 | server.py:187 | evaluate_round 24 received 5 results and 0 failures\n",
      "DEBUG flwr 2023-09-01 00:11:04,826 | server.py:222 | fit_round 25: strategy sampled 5 clients (out of 10)\n"
     ]
    },
    {
     "name": "stdout",
     "output_type": "stream",
     "text": [
      "agrregate_evaluate results list length is  5\n",
      "server round is  24\n",
      "loss is  0.1596413403749466\n"
     ]
    },
    {
     "name": "stderr",
     "output_type": "stream",
     "text": [
      "DEBUG flwr 2023-09-01 00:11:19,706 | server.py:236 | fit_round 25 received 5 results and 0 failures\n",
      "DEBUG flwr 2023-09-01 00:11:19,737 | server.py:173 | evaluate_round 25: strategy sampled 5 clients (out of 10)\n"
     ]
    },
    {
     "name": "stdout",
     "output_type": "stream",
     "text": [
      "agrregate_fit results list length is  5\n",
      "Saving round 25 aggregated_parameters...\n"
     ]
    },
    {
     "name": "stderr",
     "output_type": "stream",
     "text": [
      "DEBUG flwr 2023-09-01 00:11:20,086 | server.py:187 | evaluate_round 25 received 5 results and 0 failures\n",
      "DEBUG flwr 2023-09-01 00:11:20,089 | server.py:222 | fit_round 26: strategy sampled 5 clients (out of 10)\n"
     ]
    },
    {
     "name": "stdout",
     "output_type": "stream",
     "text": [
      "agrregate_evaluate results list length is  5\n",
      "server round is  25\n",
      "loss is  0.16171088814735413\n"
     ]
    },
    {
     "name": "stderr",
     "output_type": "stream",
     "text": [
      "DEBUG flwr 2023-09-01 00:11:33,148 | server.py:236 | fit_round 26 received 5 results and 0 failures\n",
      "DEBUG flwr 2023-09-01 00:11:33,171 | server.py:173 | evaluate_round 26: strategy sampled 5 clients (out of 10)\n"
     ]
    },
    {
     "name": "stdout",
     "output_type": "stream",
     "text": [
      "agrregate_fit results list length is  5\n",
      "Saving round 26 aggregated_parameters...\n"
     ]
    },
    {
     "name": "stderr",
     "output_type": "stream",
     "text": [
      "DEBUG flwr 2023-09-01 00:11:33,449 | server.py:187 | evaluate_round 26 received 5 results and 0 failures\n",
      "DEBUG flwr 2023-09-01 00:11:33,450 | server.py:222 | fit_round 27: strategy sampled 5 clients (out of 10)\n"
     ]
    },
    {
     "name": "stdout",
     "output_type": "stream",
     "text": [
      "agrregate_evaluate results list length is  5\n",
      "server round is  26\n",
      "loss is  0.15769506990909576\n"
     ]
    },
    {
     "name": "stderr",
     "output_type": "stream",
     "text": [
      "DEBUG flwr 2023-09-01 00:11:35,430 | server.py:236 | fit_round 27 received 5 results and 0 failures\n",
      "DEBUG flwr 2023-09-01 00:11:35,462 | server.py:173 | evaluate_round 27: strategy sampled 5 clients (out of 10)\n"
     ]
    },
    {
     "name": "stdout",
     "output_type": "stream",
     "text": [
      "agrregate_fit results list length is  5\n",
      "Saving round 27 aggregated_parameters...\n"
     ]
    },
    {
     "name": "stderr",
     "output_type": "stream",
     "text": [
      "DEBUG flwr 2023-09-01 00:11:35,878 | server.py:187 | evaluate_round 27 received 5 results and 0 failures\n",
      "DEBUG flwr 2023-09-01 00:11:35,881 | server.py:222 | fit_round 28: strategy sampled 5 clients (out of 10)\n"
     ]
    },
    {
     "name": "stdout",
     "output_type": "stream",
     "text": [
      "agrregate_evaluate results list length is  5\n",
      "server round is  27\n",
      "loss is  0.15657919645309448\n"
     ]
    },
    {
     "name": "stderr",
     "output_type": "stream",
     "text": [
      "DEBUG flwr 2023-09-01 00:11:38,046 | server.py:236 | fit_round 28 received 5 results and 0 failures\n",
      "DEBUG flwr 2023-09-01 00:11:38,083 | server.py:173 | evaluate_round 28: strategy sampled 5 clients (out of 10)\n"
     ]
    },
    {
     "name": "stdout",
     "output_type": "stream",
     "text": [
      "agrregate_fit results list length is  5\n",
      "Saving round 28 aggregated_parameters...\n"
     ]
    },
    {
     "name": "stderr",
     "output_type": "stream",
     "text": [
      "DEBUG flwr 2023-09-01 00:11:38,499 | server.py:187 | evaluate_round 28 received 5 results and 0 failures\n",
      "DEBUG flwr 2023-09-01 00:11:38,500 | server.py:222 | fit_round 29: strategy sampled 5 clients (out of 10)\n"
     ]
    },
    {
     "name": "stdout",
     "output_type": "stream",
     "text": [
      "agrregate_evaluate results list length is  5\n",
      "server round is  28\n",
      "loss is  0.15471334755420685\n"
     ]
    },
    {
     "name": "stderr",
     "output_type": "stream",
     "text": [
      "DEBUG flwr 2023-09-01 00:11:40,284 | server.py:236 | fit_round 29 received 5 results and 0 failures\n",
      "DEBUG flwr 2023-09-01 00:11:40,321 | server.py:173 | evaluate_round 29: strategy sampled 5 clients (out of 10)\n"
     ]
    },
    {
     "name": "stdout",
     "output_type": "stream",
     "text": [
      "agrregate_fit results list length is  5\n",
      "Saving round 29 aggregated_parameters...\n"
     ]
    },
    {
     "name": "stderr",
     "output_type": "stream",
     "text": [
      "DEBUG flwr 2023-09-01 00:11:40,990 | server.py:187 | evaluate_round 29 received 5 results and 0 failures\n",
      "DEBUG flwr 2023-09-01 00:11:40,993 | server.py:222 | fit_round 30: strategy sampled 5 clients (out of 10)\n"
     ]
    },
    {
     "name": "stdout",
     "output_type": "stream",
     "text": [
      "agrregate_evaluate results list length is  5\n",
      "server round is  29\n",
      "loss is  0.15587234497070312\n"
     ]
    },
    {
     "name": "stderr",
     "output_type": "stream",
     "text": [
      "DEBUG flwr 2023-09-01 00:11:42,921 | server.py:236 | fit_round 30 received 5 results and 0 failures\n",
      "DEBUG flwr 2023-09-01 00:11:42,948 | server.py:173 | evaluate_round 30: strategy sampled 5 clients (out of 10)\n"
     ]
    },
    {
     "name": "stdout",
     "output_type": "stream",
     "text": [
      "agrregate_fit results list length is  5\n",
      "Saving round 30 aggregated_parameters...\n"
     ]
    },
    {
     "name": "stderr",
     "output_type": "stream",
     "text": [
      "DEBUG flwr 2023-09-01 00:11:43,316 | server.py:187 | evaluate_round 30 received 5 results and 0 failures\n",
      "INFO flwr 2023-09-01 00:11:43,318 | server.py:153 | FL finished in 330.8548007000063\n",
      "INFO flwr 2023-09-01 00:11:43,320 | app.py:225 | app_fit: losses_distributed [(1, 0.265170693397522), (2, 0.2644081115722656), (3, 0.2623937427997589), (4, 0.2597842216491699), (5, 0.25811341404914856), (6, 0.2562730610370636), (7, 0.21803508698940277), (8, 0.21398404240608215), (9, 0.1872166246175766), (10, 0.17134477198123932), (11, 0.1655968576669693), (12, 0.16567108035087585), (13, 0.15888701379299164), (14, 0.1639409363269806), (15, 0.1600913107395172), (16, 0.15779340267181396), (17, 0.15928326547145844), (18, 0.15971487760543823), (19, 0.16135862469673157), (20, 0.15543100237846375), (21, 0.15311220288276672), (22, 0.15635330975055695), (23, 0.15805166959762573), (24, 0.1596413403749466), (25, 0.16171088814735413), (26, 0.15769506990909576), (27, 0.15657919645309448), (28, 0.15471334755420685), (29, 0.15587234497070312), (30, 0.15863412618637085)]\n",
      "INFO flwr 2023-09-01 00:11:43,321 | app.py:226 | app_fit: metrics_distributed_fit {}\n",
      "INFO flwr 2023-09-01 00:11:43,323 | app.py:227 | app_fit: metrics_distributed {'mse': [(1, 1.3258534669876099), (2, 1.3220405578613281), (3, 1.3119687139987946), (4, 1.2989211082458496), (5, 1.2905670702457428), (6, 1.281365305185318), (7, 1.0901754349470139), (8, 1.0699202120304108), (9, 0.936083123087883), (10, 0.8567238599061966), (11, 0.8279842883348465), (12, 0.8283554017543793), (13, 0.7944350689649582), (14, 0.819704681634903), (15, 0.8004565536975861), (16, 0.7889670133590698), (17, 0.7964163273572922), (18, 0.7985743880271912), (19, 0.8067931234836578), (20, 0.7771550118923187), (21, 0.7655610144138336), (22, 0.7817665487527847), (23, 0.7902583479881287), (24, 0.798206701874733), (25, 0.8085544407367706), (26, 0.7884753495454788), (27, 0.7828959822654724), (28, 0.7735667377710342), (29, 0.7793617248535156), (30, 0.7931706309318542)]}\n",
      "INFO flwr 2023-09-01 00:11:43,324 | app.py:228 | app_fit: losses_centralized []\n",
      "INFO flwr 2023-09-01 00:11:43,325 | app.py:229 | app_fit: metrics_centralized {}\n"
     ]
    },
    {
     "name": "stdout",
     "output_type": "stream",
     "text": [
      "agrregate_evaluate results list length is  5\n",
      "server round is  30\n",
      "loss is  0.15863412618637085\n",
      "History (loss, distributed):\n",
      "\tround 1: 0.265170693397522\n",
      "\tround 2: 0.2644081115722656\n",
      "\tround 3: 0.2623937427997589\n",
      "\tround 4: 0.2597842216491699\n",
      "\tround 5: 0.25811341404914856\n",
      "\tround 6: 0.2562730610370636\n",
      "\tround 7: 0.21803508698940277\n",
      "\tround 8: 0.21398404240608215\n",
      "\tround 9: 0.1872166246175766\n",
      "\tround 10: 0.17134477198123932\n",
      "\tround 11: 0.1655968576669693\n",
      "\tround 12: 0.16567108035087585\n",
      "\tround 13: 0.15888701379299164\n",
      "\tround 14: 0.1639409363269806\n",
      "\tround 15: 0.1600913107395172\n",
      "\tround 16: 0.15779340267181396\n",
      "\tround 17: 0.15928326547145844\n",
      "\tround 18: 0.15971487760543823\n",
      "\tround 19: 0.16135862469673157\n",
      "\tround 20: 0.15543100237846375\n",
      "\tround 21: 0.15311220288276672\n",
      "\tround 22: 0.15635330975055695\n",
      "\tround 23: 0.15805166959762573\n",
      "\tround 24: 0.1596413403749466\n",
      "\tround 25: 0.16171088814735413\n",
      "\tround 26: 0.15769506990909576\n",
      "\tround 27: 0.15657919645309448\n",
      "\tround 28: 0.15471334755420685\n",
      "\tround 29: 0.15587234497070312\n",
      "\tround 30: 0.15863412618637085\n",
      "History (metrics, distributed, evaluate):\n",
      "{'mse': [(1, 1.3258534669876099), (2, 1.3220405578613281), (3, 1.3119687139987946), (4, 1.2989211082458496), (5, 1.2905670702457428), (6, 1.281365305185318), (7, 1.0901754349470139), (8, 1.0699202120304108), (9, 0.936083123087883), (10, 0.8567238599061966), (11, 0.8279842883348465), (12, 0.8283554017543793), (13, 0.7944350689649582), (14, 0.819704681634903), (15, 0.8004565536975861), (16, 0.7889670133590698), (17, 0.7964163273572922), (18, 0.7985743880271912), (19, 0.8067931234836578), (20, 0.7771550118923187), (21, 0.7655610144138336), (22, 0.7817665487527847), (23, 0.7902583479881287), (24, 0.798206701874733), (25, 0.8085544407367706), (26, 0.7884753495454788), (27, 0.7828959822654724), (28, 0.7735667377710342), (29, 0.7793617248535156), (30, 0.7931706309318542)]}\n",
      "[(1, 0.265170693397522), (2, 0.2644081115722656), (3, 0.2623937427997589), (4, 0.2597842216491699), (5, 0.25811341404914856), (6, 0.2562730610370636), (7, 0.21803508698940277), (8, 0.21398404240608215), (9, 0.1872166246175766), (10, 0.17134477198123932), (11, 0.1655968576669693), (12, 0.16567108035087585), (13, 0.15888701379299164), (14, 0.1639409363269806), (15, 0.1600913107395172), (16, 0.15779340267181396), (17, 0.15928326547145844), (18, 0.15971487760543823), (19, 0.16135862469673157), (20, 0.15543100237846375), (21, 0.15311220288276672), (22, 0.15635330975055695), (23, 0.15805166959762573), (24, 0.1596413403749466), (25, 0.16171088814735413), (26, 0.15769506990909576), (27, 0.15657919645309448), (28, 0.15471334755420685), (29, 0.15587234497070312), (30, 0.15863412618637085)]\n",
      "0.8273204783734102\n",
      "Fold 2:\n",
      "splitting [0.6, 0.05, 0.05, 0.05, 0.05, 0.04, 0.04, 0.04, 0.04, 0.04]\n",
      "time 0:06:21.457376\n",
      "mse [0.15863413]\n",
      "auc [0.8273204783734102]\n"
     ]
    }
   ],
   "source": [
    "splitting = [0.6, 0.05, 0.05, 0.05, 0.05, 0.04, 0.04, 0.04, 0.04, 0.04]\n",
    "do_fl(splitting, num_rounds)"
   ],
   "metadata": {
    "collapsed": false,
    "ExecuteTime": {
     "end_time": "2023-08-31T23:11:43.469777200Z",
     "start_time": "2023-08-31T23:05:21.995446Z"
    }
   }
  },
  {
   "cell_type": "code",
   "execution_count": 20,
   "outputs": [
    {
     "name": "stdout",
     "output_type": "stream",
     "text": [
      "Fold 1:\n",
      "x_test: cpu\n",
      "y_test: cpu\n",
      "30\n"
     ]
    },
    {
     "name": "stderr",
     "output_type": "stream",
     "text": [
      "C:\\Users\\Shuyao\\AppData\\Local\\Temp\\ipykernel_23376\\475339861.py:29: UserWarning: To copy construct from a tensor, it is recommended to use sourceTensor.clone().detach() or sourceTensor.clone().detach().requires_grad_(True), rather than torch.tensor(sourceTensor).\n",
      "  X_train = torch.tensor(X_train)\n",
      "C:\\Users\\Shuyao\\AppData\\Local\\Temp\\ipykernel_23376\\475339861.py:30: UserWarning: To copy construct from a tensor, it is recommended to use sourceTensor.clone().detach() or sourceTensor.clone().detach().requires_grad_(True), rather than torch.tensor(sourceTensor).\n",
      "  X_test = torch.tensor(X_test)\n",
      "C:\\Users\\Shuyao\\AppData\\Local\\Temp\\ipykernel_23376\\475339861.py:31: UserWarning: To copy construct from a tensor, it is recommended to use sourceTensor.clone().detach() or sourceTensor.clone().detach().requires_grad_(True), rather than torch.tensor(sourceTensor).\n",
      "  y_train = torch.reshape(torch.tensor(y_train), (-1, 1))\n",
      "C:\\Users\\Shuyao\\AppData\\Local\\Temp\\ipykernel_23376\\475339861.py:32: UserWarning: To copy construct from a tensor, it is recommended to use sourceTensor.clone().detach() or sourceTensor.clone().detach().requires_grad_(True), rather than torch.tensor(sourceTensor).\n",
      "  y_test = torch.reshape(torch.tensor(y_test), (-1, 1))\n",
      "INFO flwr 2023-09-01 00:11:43,825 | app.py:145 | Starting Flower simulation, config: ServerConfig(num_rounds=30, round_timeout=None)\n"
     ]
    },
    {
     "name": "stdout",
     "output_type": "stream",
     "text": [
      "Client 0 trainset shape torch.Size([179330, 10])\n",
      "Client 1 trainset shape torch.Size([4432, 10])\n",
      "Client 2 trainset shape torch.Size([4500, 10])\n",
      "Client 3 trainset shape torch.Size([4472, 10])\n",
      "Client 4 trainset shape torch.Size([4480, 10])\n",
      "Client 5 trainset shape torch.Size([4468, 10])\n",
      "Client 6 trainset shape torch.Size([4470, 10])\n",
      "Client 7 trainset shape torch.Size([4478, 10])\n",
      "Client 8 trainset shape torch.Size([4476, 10])\n",
      "Client 9 trainset shape torch.Size([4430, 10])\n",
      "FL started training on cpu\n",
      "Number of available GPUs: 0\n"
     ]
    },
    {
     "name": "stderr",
     "output_type": "stream",
     "text": [
      "2023-09-01 00:11:52,976\tINFO worker.py:1627 -- Started a local Ray instance. View the dashboard at \u001B[1m\u001B[32m127.0.0.1:8271 \u001B[39m\u001B[22m\n",
      "INFO flwr 2023-09-01 00:12:01,742 | app.py:179 | Flower VCE: Ray initialized with resources: {'node:127.0.0.1': 1.0, 'memory': 1629895067.0, 'object_store_memory': 814947532.0, 'GPU': 1.0, 'CPU': 8.0}\n",
      "INFO flwr 2023-09-01 00:12:01,745 | server.py:89 | Initializing global parameters\n",
      "INFO flwr 2023-09-01 00:12:01,747 | server.py:276 | Requesting initial parameters from one random client\n",
      "INFO flwr 2023-09-01 00:12:06,451 | server.py:280 | Received initial parameters from one random client\n",
      "INFO flwr 2023-09-01 00:12:06,452 | server.py:91 | Evaluating initial parameters\n",
      "INFO flwr 2023-09-01 00:12:06,453 | server.py:104 | FL starting\n",
      "DEBUG flwr 2023-09-01 00:12:06,454 | server.py:222 | fit_round 1: strategy sampled 5 clients (out of 10)\n",
      "DEBUG flwr 2023-09-01 00:12:37,855 | server.py:236 | fit_round 1 received 5 results and 0 failures\n",
      "WARNING flwr 2023-09-01 00:12:37,886 | fedavg.py:242 | No fit_metrics_aggregation_fn provided\n",
      "DEBUG flwr 2023-09-01 00:12:37,911 | server.py:173 | evaluate_round 1: strategy sampled 5 clients (out of 10)\n"
     ]
    },
    {
     "name": "stdout",
     "output_type": "stream",
     "text": [
      "agrregate_fit results list length is  5\n",
      "Saving round 1 aggregated_parameters...\n"
     ]
    },
    {
     "name": "stderr",
     "output_type": "stream",
     "text": [
      "DEBUG flwr 2023-09-01 00:12:38,519 | server.py:187 | evaluate_round 1 received 5 results and 0 failures\n",
      "DEBUG flwr 2023-09-01 00:12:38,522 | server.py:222 | fit_round 2: strategy sampled 5 clients (out of 10)\n"
     ]
    },
    {
     "name": "stdout",
     "output_type": "stream",
     "text": [
      "agrregate_evaluate results list length is  5\n",
      "server round is  1\n",
      "loss is  0.22483320534229279\n"
     ]
    },
    {
     "name": "stderr",
     "output_type": "stream",
     "text": [
      "DEBUG flwr 2023-09-01 00:12:58,953 | server.py:236 | fit_round 2 received 5 results and 0 failures\n",
      "DEBUG flwr 2023-09-01 00:12:58,987 | server.py:173 | evaluate_round 2: strategy sampled 5 clients (out of 10)\n"
     ]
    },
    {
     "name": "stdout",
     "output_type": "stream",
     "text": [
      "agrregate_fit results list length is  5\n",
      "Saving round 2 aggregated_parameters...\n"
     ]
    },
    {
     "name": "stderr",
     "output_type": "stream",
     "text": [
      "DEBUG flwr 2023-09-01 00:12:59,491 | server.py:187 | evaluate_round 2 received 5 results and 0 failures\n",
      "DEBUG flwr 2023-09-01 00:12:59,495 | server.py:222 | fit_round 3: strategy sampled 5 clients (out of 10)\n"
     ]
    },
    {
     "name": "stdout",
     "output_type": "stream",
     "text": [
      "agrregate_evaluate results list length is  5\n",
      "server round is  2\n",
      "loss is  0.19219356775283813\n"
     ]
    },
    {
     "name": "stderr",
     "output_type": "stream",
     "text": [
      "DEBUG flwr 2023-09-01 00:13:18,047 | server.py:236 | fit_round 3 received 5 results and 0 failures\n",
      "DEBUG flwr 2023-09-01 00:13:18,072 | server.py:173 | evaluate_round 3: strategy sampled 5 clients (out of 10)\n"
     ]
    },
    {
     "name": "stdout",
     "output_type": "stream",
     "text": [
      "agrregate_fit results list length is  5\n",
      "Saving round 3 aggregated_parameters...\n"
     ]
    },
    {
     "name": "stderr",
     "output_type": "stream",
     "text": [
      "DEBUG flwr 2023-09-01 00:13:18,397 | server.py:187 | evaluate_round 3 received 5 results and 0 failures\n",
      "DEBUG flwr 2023-09-01 00:13:18,399 | server.py:222 | fit_round 4: strategy sampled 5 clients (out of 10)\n"
     ]
    },
    {
     "name": "stdout",
     "output_type": "stream",
     "text": [
      "agrregate_evaluate results list length is  5\n",
      "server round is  3\n",
      "loss is  0.16778017580509186\n"
     ]
    },
    {
     "name": "stderr",
     "output_type": "stream",
     "text": [
      "DEBUG flwr 2023-09-01 00:13:19,424 | server.py:236 | fit_round 4 received 5 results and 0 failures\n",
      "DEBUG flwr 2023-09-01 00:13:19,459 | server.py:173 | evaluate_round 4: strategy sampled 5 clients (out of 10)\n"
     ]
    },
    {
     "name": "stdout",
     "output_type": "stream",
     "text": [
      "agrregate_fit results list length is  5\n",
      "Saving round 4 aggregated_parameters...\n"
     ]
    },
    {
     "name": "stderr",
     "output_type": "stream",
     "text": [
      "DEBUG flwr 2023-09-01 00:13:19,931 | server.py:187 | evaluate_round 4 received 5 results and 0 failures\n",
      "DEBUG flwr 2023-09-01 00:13:19,934 | server.py:222 | fit_round 5: strategy sampled 5 clients (out of 10)\n"
     ]
    },
    {
     "name": "stdout",
     "output_type": "stream",
     "text": [
      "agrregate_evaluate results list length is  5\n",
      "server round is  4\n",
      "loss is  0.16737869381904602\n"
     ]
    },
    {
     "name": "stderr",
     "output_type": "stream",
     "text": [
      "DEBUG flwr 2023-09-01 00:13:21,529 | server.py:236 | fit_round 5 received 5 results and 0 failures\n",
      "DEBUG flwr 2023-09-01 00:13:21,570 | server.py:173 | evaluate_round 5: strategy sampled 5 clients (out of 10)\n"
     ]
    },
    {
     "name": "stdout",
     "output_type": "stream",
     "text": [
      "agrregate_fit results list length is  5\n",
      "Saving round 5 aggregated_parameters...\n"
     ]
    },
    {
     "name": "stderr",
     "output_type": "stream",
     "text": [
      "DEBUG flwr 2023-09-01 00:13:22,096 | server.py:187 | evaluate_round 5 received 5 results and 0 failures\n",
      "DEBUG flwr 2023-09-01 00:13:22,097 | server.py:222 | fit_round 6: strategy sampled 5 clients (out of 10)\n"
     ]
    },
    {
     "name": "stdout",
     "output_type": "stream",
     "text": [
      "agrregate_evaluate results list length is  5\n",
      "server round is  5\n",
      "loss is  0.1641659289598465\n"
     ]
    },
    {
     "name": "stderr",
     "output_type": "stream",
     "text": [
      "DEBUG flwr 2023-09-01 00:13:43,438 | server.py:236 | fit_round 6 received 5 results and 0 failures\n",
      "DEBUG flwr 2023-09-01 00:13:43,473 | server.py:173 | evaluate_round 6: strategy sampled 5 clients (out of 10)\n"
     ]
    },
    {
     "name": "stdout",
     "output_type": "stream",
     "text": [
      "agrregate_fit results list length is  5\n",
      "Saving round 6 aggregated_parameters...\n"
     ]
    },
    {
     "name": "stderr",
     "output_type": "stream",
     "text": [
      "DEBUG flwr 2023-09-01 00:13:44,072 | server.py:187 | evaluate_round 6 received 5 results and 0 failures\n",
      "DEBUG flwr 2023-09-01 00:13:44,076 | server.py:222 | fit_round 7: strategy sampled 5 clients (out of 10)\n"
     ]
    },
    {
     "name": "stdout",
     "output_type": "stream",
     "text": [
      "agrregate_evaluate results list length is  5\n",
      "server round is  6\n",
      "loss is  0.1614505499601364\n"
     ]
    },
    {
     "name": "stderr",
     "output_type": "stream",
     "text": [
      "DEBUG flwr 2023-09-01 00:13:45,957 | server.py:236 | fit_round 7 received 5 results and 0 failures\n",
      "DEBUG flwr 2023-09-01 00:13:46,001 | server.py:173 | evaluate_round 7: strategy sampled 5 clients (out of 10)\n"
     ]
    },
    {
     "name": "stdout",
     "output_type": "stream",
     "text": [
      "agrregate_fit results list length is  5\n",
      "Saving round 7 aggregated_parameters...\n"
     ]
    },
    {
     "name": "stderr",
     "output_type": "stream",
     "text": [
      "DEBUG flwr 2023-09-01 00:13:46,689 | server.py:187 | evaluate_round 7 received 5 results and 0 failures\n",
      "DEBUG flwr 2023-09-01 00:13:46,694 | server.py:222 | fit_round 8: strategy sampled 5 clients (out of 10)\n"
     ]
    },
    {
     "name": "stdout",
     "output_type": "stream",
     "text": [
      "agrregate_evaluate results list length is  5\n",
      "server round is  7\n",
      "loss is  0.15898959338665009\n"
     ]
    },
    {
     "name": "stderr",
     "output_type": "stream",
     "text": [
      "DEBUG flwr 2023-09-01 00:13:48,443 | server.py:236 | fit_round 8 received 5 results and 0 failures\n",
      "DEBUG flwr 2023-09-01 00:13:48,492 | server.py:173 | evaluate_round 8: strategy sampled 5 clients (out of 10)\n"
     ]
    },
    {
     "name": "stdout",
     "output_type": "stream",
     "text": [
      "agrregate_fit results list length is  5\n",
      "Saving round 8 aggregated_parameters...\n"
     ]
    },
    {
     "name": "stderr",
     "output_type": "stream",
     "text": [
      "DEBUG flwr 2023-09-01 00:13:49,357 | server.py:187 | evaluate_round 8 received 5 results and 0 failures\n",
      "DEBUG flwr 2023-09-01 00:13:49,361 | server.py:222 | fit_round 9: strategy sampled 5 clients (out of 10)\n"
     ]
    },
    {
     "name": "stdout",
     "output_type": "stream",
     "text": [
      "agrregate_evaluate results list length is  5\n",
      "server round is  8\n",
      "loss is  0.1568654477596283\n"
     ]
    },
    {
     "name": "stderr",
     "output_type": "stream",
     "text": [
      "DEBUG flwr 2023-09-01 00:14:05,786 | server.py:236 | fit_round 9 received 5 results and 0 failures\n",
      "DEBUG flwr 2023-09-01 00:14:05,811 | server.py:173 | evaluate_round 9: strategy sampled 5 clients (out of 10)\n"
     ]
    },
    {
     "name": "stdout",
     "output_type": "stream",
     "text": [
      "agrregate_fit results list length is  5\n",
      "Saving round 9 aggregated_parameters...\n"
     ]
    },
    {
     "name": "stderr",
     "output_type": "stream",
     "text": [
      "DEBUG flwr 2023-09-01 00:14:06,137 | server.py:187 | evaluate_round 9 received 5 results and 0 failures\n",
      "DEBUG flwr 2023-09-01 00:14:06,140 | server.py:222 | fit_round 10: strategy sampled 5 clients (out of 10)\n"
     ]
    },
    {
     "name": "stdout",
     "output_type": "stream",
     "text": [
      "agrregate_evaluate results list length is  5\n",
      "server round is  9\n",
      "loss is  0.15794648230075836\n"
     ]
    },
    {
     "name": "stderr",
     "output_type": "stream",
     "text": [
      "DEBUG flwr 2023-09-01 00:14:07,235 | server.py:236 | fit_round 10 received 5 results and 0 failures\n",
      "DEBUG flwr 2023-09-01 00:14:07,266 | server.py:173 | evaluate_round 10: strategy sampled 5 clients (out of 10)\n"
     ]
    },
    {
     "name": "stdout",
     "output_type": "stream",
     "text": [
      "agrregate_fit results list length is  5\n",
      "Saving round 10 aggregated_parameters...\n"
     ]
    },
    {
     "name": "stderr",
     "output_type": "stream",
     "text": [
      "DEBUG flwr 2023-09-01 00:14:07,671 | server.py:187 | evaluate_round 10 received 5 results and 0 failures\n",
      "DEBUG flwr 2023-09-01 00:14:07,673 | server.py:222 | fit_round 11: strategy sampled 5 clients (out of 10)\n"
     ]
    },
    {
     "name": "stdout",
     "output_type": "stream",
     "text": [
      "agrregate_evaluate results list length is  5\n",
      "server round is  10\n",
      "loss is  0.1523032784461975\n"
     ]
    },
    {
     "name": "stderr",
     "output_type": "stream",
     "text": [
      "DEBUG flwr 2023-09-01 00:14:09,236 | server.py:236 | fit_round 11 received 5 results and 0 failures\n",
      "DEBUG flwr 2023-09-01 00:14:09,286 | server.py:173 | evaluate_round 11: strategy sampled 5 clients (out of 10)\n"
     ]
    },
    {
     "name": "stdout",
     "output_type": "stream",
     "text": [
      "agrregate_fit results list length is  5\n",
      "Saving round 11 aggregated_parameters...\n"
     ]
    },
    {
     "name": "stderr",
     "output_type": "stream",
     "text": [
      "DEBUG flwr 2023-09-01 00:14:10,108 | server.py:187 | evaluate_round 11 received 5 results and 0 failures\n",
      "DEBUG flwr 2023-09-01 00:14:10,112 | server.py:222 | fit_round 12: strategy sampled 5 clients (out of 10)\n"
     ]
    },
    {
     "name": "stdout",
     "output_type": "stream",
     "text": [
      "agrregate_evaluate results list length is  5\n",
      "server round is  11\n",
      "loss is  0.15239271521568298\n"
     ]
    },
    {
     "name": "stderr",
     "output_type": "stream",
     "text": [
      "DEBUG flwr 2023-09-01 00:14:12,090 | server.py:236 | fit_round 12 received 5 results and 0 failures\n",
      "DEBUG flwr 2023-09-01 00:14:12,251 | server.py:173 | evaluate_round 12: strategy sampled 5 clients (out of 10)\n"
     ]
    },
    {
     "name": "stdout",
     "output_type": "stream",
     "text": [
      "agrregate_fit results list length is  5\n",
      "Saving round 12 aggregated_parameters...\n"
     ]
    },
    {
     "name": "stderr",
     "output_type": "stream",
     "text": [
      "DEBUG flwr 2023-09-01 00:14:13,297 | server.py:187 | evaluate_round 12 received 5 results and 0 failures\n",
      "DEBUG flwr 2023-09-01 00:14:13,300 | server.py:222 | fit_round 13: strategy sampled 5 clients (out of 10)\n"
     ]
    },
    {
     "name": "stdout",
     "output_type": "stream",
     "text": [
      "agrregate_evaluate results list length is  5\n",
      "server round is  12\n",
      "loss is  0.15139484405517578\n"
     ]
    },
    {
     "name": "stderr",
     "output_type": "stream",
     "text": [
      "DEBUG flwr 2023-09-01 00:14:33,607 | server.py:236 | fit_round 13 received 5 results and 0 failures\n",
      "DEBUG flwr 2023-09-01 00:14:33,629 | server.py:173 | evaluate_round 13: strategy sampled 5 clients (out of 10)\n"
     ]
    },
    {
     "name": "stdout",
     "output_type": "stream",
     "text": [
      "agrregate_fit results list length is  5\n",
      "Saving round 13 aggregated_parameters...\n"
     ]
    },
    {
     "name": "stderr",
     "output_type": "stream",
     "text": [
      "DEBUG flwr 2023-09-01 00:14:33,995 | server.py:187 | evaluate_round 13 received 5 results and 0 failures\n",
      "DEBUG flwr 2023-09-01 00:14:33,998 | server.py:222 | fit_round 14: strategy sampled 5 clients (out of 10)\n"
     ]
    },
    {
     "name": "stdout",
     "output_type": "stream",
     "text": [
      "agrregate_evaluate results list length is  5\n",
      "server round is  13\n",
      "loss is  0.1596277952194214\n"
     ]
    },
    {
     "name": "stderr",
     "output_type": "stream",
     "text": [
      "DEBUG flwr 2023-09-01 00:14:35,256 | server.py:236 | fit_round 14 received 5 results and 0 failures\n",
      "DEBUG flwr 2023-09-01 00:14:35,291 | server.py:173 | evaluate_round 14: strategy sampled 5 clients (out of 10)\n"
     ]
    },
    {
     "name": "stdout",
     "output_type": "stream",
     "text": [
      "agrregate_fit results list length is  5\n",
      "Saving round 14 aggregated_parameters...\n"
     ]
    },
    {
     "name": "stderr",
     "output_type": "stream",
     "text": [
      "DEBUG flwr 2023-09-01 00:14:35,731 | server.py:187 | evaluate_round 14 received 5 results and 0 failures\n",
      "DEBUG flwr 2023-09-01 00:14:35,734 | server.py:222 | fit_round 15: strategy sampled 5 clients (out of 10)\n"
     ]
    },
    {
     "name": "stdout",
     "output_type": "stream",
     "text": [
      "agrregate_evaluate results list length is  5\n",
      "server round is  14\n",
      "loss is  0.15414217114448547\n"
     ]
    },
    {
     "name": "stderr",
     "output_type": "stream",
     "text": [
      "DEBUG flwr 2023-09-01 00:14:56,093 | server.py:236 | fit_round 15 received 5 results and 0 failures\n",
      "DEBUG flwr 2023-09-01 00:14:56,134 | server.py:173 | evaluate_round 15: strategy sampled 5 clients (out of 10)\n"
     ]
    },
    {
     "name": "stdout",
     "output_type": "stream",
     "text": [
      "agrregate_fit results list length is  5\n",
      "Saving round 15 aggregated_parameters...\n"
     ]
    },
    {
     "name": "stderr",
     "output_type": "stream",
     "text": [
      "DEBUG flwr 2023-09-01 00:14:56,553 | server.py:187 | evaluate_round 15 received 5 results and 0 failures\n",
      "DEBUG flwr 2023-09-01 00:14:56,556 | server.py:222 | fit_round 16: strategy sampled 5 clients (out of 10)\n"
     ]
    },
    {
     "name": "stdout",
     "output_type": "stream",
     "text": [
      "agrregate_evaluate results list length is  5\n",
      "server round is  15\n",
      "loss is  0.15313319861888885\n"
     ]
    },
    {
     "name": "stderr",
     "output_type": "stream",
     "text": [
      "DEBUG flwr 2023-09-01 00:14:58,543 | server.py:236 | fit_round 16 received 5 results and 0 failures\n",
      "DEBUG flwr 2023-09-01 00:14:58,659 | server.py:173 | evaluate_round 16: strategy sampled 5 clients (out of 10)\n"
     ]
    },
    {
     "name": "stdout",
     "output_type": "stream",
     "text": [
      "agrregate_fit results list length is  5\n",
      "Saving round 16 aggregated_parameters...\n"
     ]
    },
    {
     "name": "stderr",
     "output_type": "stream",
     "text": [
      "DEBUG flwr 2023-09-01 00:14:59,582 | server.py:187 | evaluate_round 16 received 5 results and 0 failures\n",
      "DEBUG flwr 2023-09-01 00:14:59,586 | server.py:222 | fit_round 17: strategy sampled 5 clients (out of 10)\n"
     ]
    },
    {
     "name": "stdout",
     "output_type": "stream",
     "text": [
      "agrregate_evaluate results list length is  5\n",
      "server round is  16\n",
      "loss is  0.15172013640403748\n"
     ]
    },
    {
     "name": "stderr",
     "output_type": "stream",
     "text": [
      "DEBUG flwr 2023-09-01 00:15:18,407 | server.py:236 | fit_round 17 received 5 results and 0 failures\n",
      "DEBUG flwr 2023-09-01 00:15:18,438 | server.py:173 | evaluate_round 17: strategy sampled 5 clients (out of 10)\n"
     ]
    },
    {
     "name": "stdout",
     "output_type": "stream",
     "text": [
      "agrregate_fit results list length is  5\n",
      "Saving round 17 aggregated_parameters...\n"
     ]
    },
    {
     "name": "stderr",
     "output_type": "stream",
     "text": [
      "DEBUG flwr 2023-09-01 00:15:18,820 | server.py:187 | evaluate_round 17 received 5 results and 0 failures\n",
      "DEBUG flwr 2023-09-01 00:15:18,822 | server.py:222 | fit_round 18: strategy sampled 5 clients (out of 10)\n"
     ]
    },
    {
     "name": "stdout",
     "output_type": "stream",
     "text": [
      "agrregate_evaluate results list length is  5\n",
      "server round is  17\n",
      "loss is  0.15503646433353424\n"
     ]
    },
    {
     "name": "stderr",
     "output_type": "stream",
     "text": [
      "DEBUG flwr 2023-09-01 00:15:42,514 | server.py:236 | fit_round 18 received 5 results and 0 failures\n",
      "DEBUG flwr 2023-09-01 00:15:42,544 | server.py:173 | evaluate_round 18: strategy sampled 5 clients (out of 10)\n"
     ]
    },
    {
     "name": "stdout",
     "output_type": "stream",
     "text": [
      "agrregate_fit results list length is  5\n",
      "Saving round 18 aggregated_parameters...\n"
     ]
    },
    {
     "name": "stderr",
     "output_type": "stream",
     "text": [
      "DEBUG flwr 2023-09-01 00:15:43,473 | server.py:187 | evaluate_round 18 received 5 results and 0 failures\n",
      "DEBUG flwr 2023-09-01 00:15:43,478 | server.py:222 | fit_round 19: strategy sampled 5 clients (out of 10)\n"
     ]
    },
    {
     "name": "stdout",
     "output_type": "stream",
     "text": [
      "agrregate_evaluate results list length is  5\n",
      "server round is  18\n",
      "loss is  0.15554293990135193\n"
     ]
    },
    {
     "name": "stderr",
     "output_type": "stream",
     "text": [
      "DEBUG flwr 2023-09-01 00:16:12,960 | server.py:236 | fit_round 19 received 5 results and 0 failures\n",
      "DEBUG flwr 2023-09-01 00:16:12,998 | server.py:173 | evaluate_round 19: strategy sampled 5 clients (out of 10)\n"
     ]
    },
    {
     "name": "stdout",
     "output_type": "stream",
     "text": [
      "agrregate_fit results list length is  5\n",
      "Saving round 19 aggregated_parameters...\n"
     ]
    },
    {
     "name": "stderr",
     "output_type": "stream",
     "text": [
      "DEBUG flwr 2023-09-01 00:16:13,540 | server.py:187 | evaluate_round 19 received 5 results and 0 failures\n",
      "DEBUG flwr 2023-09-01 00:16:13,543 | server.py:222 | fit_round 20: strategy sampled 5 clients (out of 10)\n"
     ]
    },
    {
     "name": "stdout",
     "output_type": "stream",
     "text": [
      "agrregate_evaluate results list length is  5\n",
      "server round is  19\n",
      "loss is  0.1572270542383194\n"
     ]
    },
    {
     "name": "stderr",
     "output_type": "stream",
     "text": [
      "DEBUG flwr 2023-09-01 00:16:59,892 | server.py:236 | fit_round 20 received 5 results and 0 failures\n",
      "DEBUG flwr 2023-09-01 00:16:59,923 | server.py:173 | evaluate_round 20: strategy sampled 5 clients (out of 10)\n"
     ]
    },
    {
     "name": "stdout",
     "output_type": "stream",
     "text": [
      "agrregate_fit results list length is  5\n",
      "Saving round 20 aggregated_parameters...\n"
     ]
    },
    {
     "name": "stderr",
     "output_type": "stream",
     "text": [
      "DEBUG flwr 2023-09-01 00:17:00,462 | server.py:187 | evaluate_round 20 received 5 results and 0 failures\n",
      "DEBUG flwr 2023-09-01 00:17:00,464 | server.py:222 | fit_round 21: strategy sampled 5 clients (out of 10)\n"
     ]
    },
    {
     "name": "stdout",
     "output_type": "stream",
     "text": [
      "agrregate_evaluate results list length is  5\n",
      "server round is  20\n",
      "loss is  0.15729308128356934\n"
     ]
    },
    {
     "name": "stderr",
     "output_type": "stream",
     "text": [
      "DEBUG flwr 2023-09-01 00:17:19,908 | server.py:236 | fit_round 21 received 5 results and 0 failures\n",
      "DEBUG flwr 2023-09-01 00:17:19,930 | server.py:173 | evaluate_round 21: strategy sampled 5 clients (out of 10)\n"
     ]
    },
    {
     "name": "stdout",
     "output_type": "stream",
     "text": [
      "agrregate_fit results list length is  5\n",
      "Saving round 21 aggregated_parameters...\n"
     ]
    },
    {
     "name": "stderr",
     "output_type": "stream",
     "text": [
      "DEBUG flwr 2023-09-01 00:17:20,267 | server.py:187 | evaluate_round 21 received 5 results and 0 failures\n",
      "DEBUG flwr 2023-09-01 00:17:20,270 | server.py:222 | fit_round 22: strategy sampled 5 clients (out of 10)\n"
     ]
    },
    {
     "name": "stdout",
     "output_type": "stream",
     "text": [
      "agrregate_evaluate results list length is  5\n",
      "server round is  21\n",
      "loss is  0.15393811464309692\n"
     ]
    },
    {
     "name": "stderr",
     "output_type": "stream",
     "text": [
      "DEBUG flwr 2023-09-01 00:17:44,987 | server.py:236 | fit_round 22 received 5 results and 0 failures\n",
      "DEBUG flwr 2023-09-01 00:17:45,032 | server.py:173 | evaluate_round 22: strategy sampled 5 clients (out of 10)\n"
     ]
    },
    {
     "name": "stdout",
     "output_type": "stream",
     "text": [
      "agrregate_fit results list length is  5\n",
      "Saving round 22 aggregated_parameters...\n"
     ]
    },
    {
     "name": "stderr",
     "output_type": "stream",
     "text": [
      "DEBUG flwr 2023-09-01 00:17:45,629 | server.py:187 | evaluate_round 22 received 5 results and 0 failures\n",
      "DEBUG flwr 2023-09-01 00:17:45,632 | server.py:222 | fit_round 23: strategy sampled 5 clients (out of 10)\n"
     ]
    },
    {
     "name": "stdout",
     "output_type": "stream",
     "text": [
      "agrregate_evaluate results list length is  5\n",
      "server round is  22\n",
      "loss is  0.15680156648159027\n"
     ]
    },
    {
     "name": "stderr",
     "output_type": "stream",
     "text": [
      "DEBUG flwr 2023-09-01 00:17:47,035 | server.py:236 | fit_round 23 received 5 results and 0 failures\n",
      "DEBUG flwr 2023-09-01 00:17:47,082 | server.py:173 | evaluate_round 23: strategy sampled 5 clients (out of 10)\n"
     ]
    },
    {
     "name": "stdout",
     "output_type": "stream",
     "text": [
      "agrregate_fit results list length is  5\n",
      "Saving round 23 aggregated_parameters...\n"
     ]
    },
    {
     "name": "stderr",
     "output_type": "stream",
     "text": [
      "DEBUG flwr 2023-09-01 00:17:47,802 | server.py:187 | evaluate_round 23 received 5 results and 0 failures\n",
      "DEBUG flwr 2023-09-01 00:17:47,806 | server.py:222 | fit_round 24: strategy sampled 5 clients (out of 10)\n"
     ]
    },
    {
     "name": "stdout",
     "output_type": "stream",
     "text": [
      "agrregate_evaluate results list length is  5\n",
      "server round is  23\n",
      "loss is  0.1517280638217926\n"
     ]
    },
    {
     "name": "stderr",
     "output_type": "stream",
     "text": [
      "DEBUG flwr 2023-09-01 00:18:06,133 | server.py:236 | fit_round 24 received 5 results and 0 failures\n",
      "DEBUG flwr 2023-09-01 00:18:06,153 | server.py:173 | evaluate_round 24: strategy sampled 5 clients (out of 10)\n"
     ]
    },
    {
     "name": "stdout",
     "output_type": "stream",
     "text": [
      "agrregate_fit results list length is  5\n",
      "Saving round 24 aggregated_parameters...\n"
     ]
    },
    {
     "name": "stderr",
     "output_type": "stream",
     "text": [
      "DEBUG flwr 2023-09-01 00:18:06,498 | server.py:187 | evaluate_round 24 received 5 results and 0 failures\n",
      "DEBUG flwr 2023-09-01 00:18:06,501 | server.py:222 | fit_round 25: strategy sampled 5 clients (out of 10)\n"
     ]
    },
    {
     "name": "stdout",
     "output_type": "stream",
     "text": [
      "agrregate_evaluate results list length is  5\n",
      "server round is  24\n",
      "loss is  0.14946094155311584\n"
     ]
    },
    {
     "name": "stderr",
     "output_type": "stream",
     "text": [
      "DEBUG flwr 2023-09-01 00:18:07,680 | server.py:236 | fit_round 25 received 5 results and 0 failures\n",
      "DEBUG flwr 2023-09-01 00:18:07,725 | server.py:173 | evaluate_round 25: strategy sampled 5 clients (out of 10)\n"
     ]
    },
    {
     "name": "stdout",
     "output_type": "stream",
     "text": [
      "agrregate_fit results list length is  5\n",
      "Saving round 25 aggregated_parameters...\n"
     ]
    },
    {
     "name": "stderr",
     "output_type": "stream",
     "text": [
      "DEBUG flwr 2023-09-01 00:18:08,349 | server.py:187 | evaluate_round 25 received 5 results and 0 failures\n",
      "DEBUG flwr 2023-09-01 00:18:08,352 | server.py:222 | fit_round 26: strategy sampled 5 clients (out of 10)\n"
     ]
    },
    {
     "name": "stdout",
     "output_type": "stream",
     "text": [
      "agrregate_evaluate results list length is  5\n",
      "server round is  25\n",
      "loss is  0.14624756574630737\n"
     ]
    },
    {
     "name": "stderr",
     "output_type": "stream",
     "text": [
      "DEBUG flwr 2023-09-01 00:18:09,750 | server.py:236 | fit_round 26 received 5 results and 0 failures\n",
      "DEBUG flwr 2023-09-01 00:18:09,781 | server.py:173 | evaluate_round 26: strategy sampled 5 clients (out of 10)\n"
     ]
    },
    {
     "name": "stdout",
     "output_type": "stream",
     "text": [
      "agrregate_fit results list length is  5\n",
      "Saving round 26 aggregated_parameters...\n"
     ]
    },
    {
     "name": "stderr",
     "output_type": "stream",
     "text": [
      "DEBUG flwr 2023-09-01 00:18:10,198 | server.py:187 | evaluate_round 26 received 5 results and 0 failures\n",
      "DEBUG flwr 2023-09-01 00:18:10,202 | server.py:222 | fit_round 27: strategy sampled 5 clients (out of 10)\n"
     ]
    },
    {
     "name": "stdout",
     "output_type": "stream",
     "text": [
      "agrregate_evaluate results list length is  5\n",
      "server round is  26\n",
      "loss is  0.14640794694423676\n"
     ]
    },
    {
     "name": "stderr",
     "output_type": "stream",
     "text": [
      "DEBUG flwr 2023-09-01 00:18:36,123 | server.py:236 | fit_round 27 received 5 results and 0 failures\n",
      "DEBUG flwr 2023-09-01 00:18:36,148 | server.py:173 | evaluate_round 27: strategy sampled 5 clients (out of 10)\n"
     ]
    },
    {
     "name": "stdout",
     "output_type": "stream",
     "text": [
      "agrregate_fit results list length is  5\n",
      "Saving round 27 aggregated_parameters...\n"
     ]
    },
    {
     "name": "stderr",
     "output_type": "stream",
     "text": [
      "DEBUG flwr 2023-09-01 00:18:36,520 | server.py:187 | evaluate_round 27 received 5 results and 0 failures\n",
      "DEBUG flwr 2023-09-01 00:18:36,523 | server.py:222 | fit_round 28: strategy sampled 5 clients (out of 10)\n"
     ]
    },
    {
     "name": "stdout",
     "output_type": "stream",
     "text": [
      "agrregate_evaluate results list length is  5\n",
      "server round is  27\n",
      "loss is  0.15209032595157623\n"
     ]
    },
    {
     "name": "stderr",
     "output_type": "stream",
     "text": [
      "DEBUG flwr 2023-09-01 00:18:38,336 | server.py:236 | fit_round 28 received 5 results and 0 failures\n",
      "DEBUG flwr 2023-09-01 00:18:38,381 | server.py:173 | evaluate_round 28: strategy sampled 5 clients (out of 10)\n"
     ]
    },
    {
     "name": "stdout",
     "output_type": "stream",
     "text": [
      "agrregate_fit results list length is  5\n",
      "Saving round 28 aggregated_parameters...\n"
     ]
    },
    {
     "name": "stderr",
     "output_type": "stream",
     "text": [
      "DEBUG flwr 2023-09-01 00:18:38,873 | server.py:187 | evaluate_round 28 received 5 results and 0 failures\n",
      "DEBUG flwr 2023-09-01 00:18:38,876 | server.py:222 | fit_round 29: strategy sampled 5 clients (out of 10)\n"
     ]
    },
    {
     "name": "stdout",
     "output_type": "stream",
     "text": [
      "agrregate_evaluate results list length is  5\n",
      "server round is  28\n",
      "loss is  0.14953333139419556\n"
     ]
    },
    {
     "name": "stderr",
     "output_type": "stream",
     "text": [
      "DEBUG flwr 2023-09-01 00:18:40,589 | server.py:236 | fit_round 29 received 5 results and 0 failures\n",
      "DEBUG flwr 2023-09-01 00:18:40,640 | server.py:173 | evaluate_round 29: strategy sampled 5 clients (out of 10)\n"
     ]
    },
    {
     "name": "stdout",
     "output_type": "stream",
     "text": [
      "agrregate_fit results list length is  5\n",
      "Saving round 29 aggregated_parameters...\n"
     ]
    },
    {
     "name": "stderr",
     "output_type": "stream",
     "text": [
      "DEBUG flwr 2023-09-01 00:18:41,125 | server.py:187 | evaluate_round 29 received 5 results and 0 failures\n",
      "DEBUG flwr 2023-09-01 00:18:41,128 | server.py:222 | fit_round 30: strategy sampled 5 clients (out of 10)\n"
     ]
    },
    {
     "name": "stdout",
     "output_type": "stream",
     "text": [
      "agrregate_evaluate results list length is  5\n",
      "server round is  29\n",
      "loss is  0.15027034282684326\n"
     ]
    },
    {
     "name": "stderr",
     "output_type": "stream",
     "text": [
      "DEBUG flwr 2023-09-01 00:19:05,456 | server.py:236 | fit_round 30 received 5 results and 0 failures\n",
      "DEBUG flwr 2023-09-01 00:19:05,517 | server.py:173 | evaluate_round 30: strategy sampled 5 clients (out of 10)\n"
     ]
    },
    {
     "name": "stdout",
     "output_type": "stream",
     "text": [
      "agrregate_fit results list length is  5\n",
      "Saving round 30 aggregated_parameters...\n"
     ]
    },
    {
     "name": "stderr",
     "output_type": "stream",
     "text": [
      "DEBUG flwr 2023-09-01 00:19:06,746 | server.py:187 | evaluate_round 30 received 5 results and 0 failures\n",
      "INFO flwr 2023-09-01 00:19:06,750 | server.py:153 | FL finished in 420.29644460001145\n",
      "INFO flwr 2023-09-01 00:19:06,754 | app.py:225 | app_fit: losses_distributed [(1, 0.22483320534229279), (2, 0.19219356775283813), (3, 0.16778017580509186), (4, 0.16737869381904602), (5, 0.1641659289598465), (6, 0.1614505499601364), (7, 0.15898959338665009), (8, 0.1568654477596283), (9, 0.15794648230075836), (10, 0.1523032784461975), (11, 0.15239271521568298), (12, 0.15139484405517578), (13, 0.1596277952194214), (14, 0.15414217114448547), (15, 0.15313319861888885), (16, 0.15172013640403748), (17, 0.15503646433353424), (18, 0.15554293990135193), (19, 0.1572270542383194), (20, 0.15729308128356934), (21, 0.15393811464309692), (22, 0.15680156648159027), (23, 0.1517280638217926), (24, 0.14946094155311584), (25, 0.14624756574630737), (26, 0.14640794694423676), (27, 0.15209032595157623), (28, 0.14953333139419556), (29, 0.15027034282684326), (30, 0.16273850202560425)]\n",
      "INFO flwr 2023-09-01 00:19:06,759 | app.py:226 | app_fit: metrics_distributed_fit {}\n",
      "INFO flwr 2023-09-01 00:19:06,762 | app.py:227 | app_fit: metrics_distributed {'mse': [(1, 1.124166026711464), (2, 0.9609678387641907), (3, 0.8389008790254593), (4, 0.8368934690952301), (5, 0.8208296447992325), (6, 0.8072527498006821), (7, 0.7949479669332504), (8, 0.7843272387981415), (9, 0.7897324115037918), (10, 0.7615163922309875), (11, 0.7619635760784149), (12, 0.7569742202758789), (13, 0.7981389760971069), (14, 0.7707108557224274), (15, 0.7656659930944443), (16, 0.7586006820201874), (17, 0.7751823216676712), (18, 0.7777146995067596), (19, 0.786135271191597), (20, 0.7864654064178467), (21, 0.7696905732154846), (22, 0.7840078324079514), (23, 0.758640319108963), (24, 0.7473047077655792), (25, 0.7312378287315369), (26, 0.7320397347211838), (27, 0.7604516297578812), (28, 0.7476666569709778), (29, 0.7513517141342163), (30, 0.8136925101280212)]}\n",
      "INFO flwr 2023-09-01 00:19:06,765 | app.py:228 | app_fit: losses_centralized []\n",
      "INFO flwr 2023-09-01 00:19:06,767 | app.py:229 | app_fit: metrics_centralized {}\n"
     ]
    },
    {
     "name": "stdout",
     "output_type": "stream",
     "text": [
      "agrregate_evaluate results list length is  5\n",
      "server round is  30\n",
      "loss is  0.16273850202560425\n",
      "History (loss, distributed):\n",
      "\tround 1: 0.22483320534229279\n",
      "\tround 2: 0.19219356775283813\n",
      "\tround 3: 0.16778017580509186\n",
      "\tround 4: 0.16737869381904602\n",
      "\tround 5: 0.1641659289598465\n",
      "\tround 6: 0.1614505499601364\n",
      "\tround 7: 0.15898959338665009\n",
      "\tround 8: 0.1568654477596283\n",
      "\tround 9: 0.15794648230075836\n",
      "\tround 10: 0.1523032784461975\n",
      "\tround 11: 0.15239271521568298\n",
      "\tround 12: 0.15139484405517578\n",
      "\tround 13: 0.1596277952194214\n",
      "\tround 14: 0.15414217114448547\n",
      "\tround 15: 0.15313319861888885\n",
      "\tround 16: 0.15172013640403748\n",
      "\tround 17: 0.15503646433353424\n",
      "\tround 18: 0.15554293990135193\n",
      "\tround 19: 0.1572270542383194\n",
      "\tround 20: 0.15729308128356934\n",
      "\tround 21: 0.15393811464309692\n",
      "\tround 22: 0.15680156648159027\n",
      "\tround 23: 0.1517280638217926\n",
      "\tround 24: 0.14946094155311584\n",
      "\tround 25: 0.14624756574630737\n",
      "\tround 26: 0.14640794694423676\n",
      "\tround 27: 0.15209032595157623\n",
      "\tround 28: 0.14953333139419556\n",
      "\tround 29: 0.15027034282684326\n",
      "\tround 30: 0.16273850202560425\n",
      "History (metrics, distributed, evaluate):\n",
      "{'mse': [(1, 1.124166026711464), (2, 0.9609678387641907), (3, 0.8389008790254593), (4, 0.8368934690952301), (5, 0.8208296447992325), (6, 0.8072527498006821), (7, 0.7949479669332504), (8, 0.7843272387981415), (9, 0.7897324115037918), (10, 0.7615163922309875), (11, 0.7619635760784149), (12, 0.7569742202758789), (13, 0.7981389760971069), (14, 0.7707108557224274), (15, 0.7656659930944443), (16, 0.7586006820201874), (17, 0.7751823216676712), (18, 0.7777146995067596), (19, 0.786135271191597), (20, 0.7864654064178467), (21, 0.7696905732154846), (22, 0.7840078324079514), (23, 0.758640319108963), (24, 0.7473047077655792), (25, 0.7312378287315369), (26, 0.7320397347211838), (27, 0.7604516297578812), (28, 0.7476666569709778), (29, 0.7513517141342163), (30, 0.8136925101280212)]}\n",
      "[(1, 0.22483320534229279), (2, 0.19219356775283813), (3, 0.16778017580509186), (4, 0.16737869381904602), (5, 0.1641659289598465), (6, 0.1614505499601364), (7, 0.15898959338665009), (8, 0.1568654477596283), (9, 0.15794648230075836), (10, 0.1523032784461975), (11, 0.15239271521568298), (12, 0.15139484405517578), (13, 0.1596277952194214), (14, 0.15414217114448547), (15, 0.15313319861888885), (16, 0.15172013640403748), (17, 0.15503646433353424), (18, 0.15554293990135193), (19, 0.1572270542383194), (20, 0.15729308128356934), (21, 0.15393811464309692), (22, 0.15680156648159027), (23, 0.1517280638217926), (24, 0.14946094155311584), (25, 0.14624756574630737), (26, 0.14640794694423676), (27, 0.15209032595157623), (28, 0.14953333139419556), (29, 0.15027034282684326), (30, 0.16273850202560425)]\n",
      "0.8307637902894873\n",
      "Fold 2:\n",
      "splitting [0.8, 0.03, 0.03, 0.02, 0.02, 0.02, 0.02, 0.02, 0.02, 0.02]\n",
      "time 0:07:23.627853\n",
      "mse [0.1627385]\n",
      "auc [0.8307637902894873]\n"
     ]
    }
   ],
   "source": [
    "splitting = [0.8, 0.03, 0.03, 0.02, 0.02, 0.02, 0.02, 0.02, 0.02, 0.02]\n",
    "do_fl(splitting, num_rounds)"
   ],
   "metadata": {
    "collapsed": false,
    "ExecuteTime": {
     "end_time": "2023-08-31T23:19:07.247228600Z",
     "start_time": "2023-08-31T23:11:43.475761600Z"
    }
   }
  },
  {
   "cell_type": "code",
   "execution_count": null,
   "outputs": [],
   "source": [],
   "metadata": {
    "collapsed": false
   }
  }
 ],
 "metadata": {
  "kernelspec": {
   "display_name": "Python 3",
   "language": "python",
   "name": "python3"
  },
  "language_info": {
   "codemirror_mode": {
    "name": "ipython",
    "version": 2
   },
   "file_extension": ".py",
   "mimetype": "text/x-python",
   "name": "python",
   "nbconvert_exporter": "python",
   "pygments_lexer": "ipython2",
   "version": "2.7.6"
  }
 },
 "nbformat": 4,
 "nbformat_minor": 0
}
