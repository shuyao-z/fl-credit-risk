{
 "cells": [
  {
   "cell_type": "code",
   "execution_count": 1,
   "metadata": {
    "collapsed": true,
    "ExecuteTime": {
     "end_time": "2023-08-29T11:17:21.120450500Z",
     "start_time": "2023-08-29T11:17:17.171513600Z"
    }
   },
   "outputs": [],
   "source": [
    "import pandas as pd\n",
    "import torch\n",
    "import torch.nn as nn\n",
    "import numpy as np\n",
    "from net_archs import LSTMModel\n",
    "from sklearn.metrics import mean_squared_error,  roc_auc_score, f1_score\n",
    "import datetime\n",
    "import os\n",
    "from sklearn.model_selection import train_test_split"
   ]
  },
  {
   "cell_type": "code",
   "execution_count": 2,
   "outputs": [
    {
     "name": "stdout",
     "output_type": "stream",
     "text": [
      "main1_lstm_federated\n"
     ]
    }
   ],
   "source": [
    "print('main1_lstm_federated')"
   ],
   "metadata": {
    "collapsed": false,
    "ExecuteTime": {
     "end_time": "2023-08-29T11:17:21.135497600Z",
     "start_time": "2023-08-29T11:17:21.123441600Z"
    }
   }
  },
  {
   "cell_type": "code",
   "execution_count": 3,
   "outputs": [],
   "source": [
    "ts = torch.load('./dataset/ts.pt')\n",
    "ts_labels = torch.load('./dataset/ts_labels.pt')"
   ],
   "metadata": {
    "collapsed": false,
    "ExecuteTime": {
     "end_time": "2023-08-29T11:17:21.241076200Z",
     "start_time": "2023-08-29T11:17:21.140483400Z"
    }
   }
  },
  {
   "cell_type": "code",
   "execution_count": 4,
   "outputs": [],
   "source": [
    "def ordinal_criterion(predictions, targets):\n",
    "  # Ordinal regression with encoding as in https://arxiv.org/pdf/0704.1028.pdf\n",
    "\n",
    "  # Create out modified target with [batch_size, num_labels] shape\n",
    "  modified_target = torch.zeros_like(predictions)\n",
    "\n",
    "  # Fill in ordinal target function, i.e. 0 -> [1,0,0,...]\n",
    "  for i, target in enumerate(targets):\n",
    "    modified_target[i, 0:int(target)+1] = 1\n",
    "\n",
    "  return nn.MSELoss(reduction='none')(predictions, modified_target).sum(axis=1)"
   ],
   "metadata": {
    "collapsed": false,
    "ExecuteTime": {
     "end_time": "2023-08-29T11:17:21.313215100Z",
     "start_time": "2023-08-29T11:17:21.155446200Z"
    }
   }
  },
  {
   "cell_type": "code",
   "execution_count": 5,
   "outputs": [],
   "source": [
    "# Define train and test function\n",
    "def train(net, optimizer, x, y, num_epoch=256, batch_size=16, criterion=ordinal_criterion):\n",
    "  print_every = 10\n",
    "\n",
    "  for n in range(num_epoch):\n",
    "    # Mini batch sgd\n",
    "    permutation = torch.randperm(x.size()[0])\n",
    "    for i in range(0, x.size()[0], batch_size):\n",
    "      indices = permutation[i:i+batch_size]\n",
    "      x_mini, y_mini = x[indices], y[indices]\n",
    "      y_pred = net(x_mini)\n",
    "      loss = criterion(y_pred.float(), y_mini.float()) # default criterion = ordinal_criterion\n",
    "      optimizer.zero_grad()\n",
    "      loss.mean().backward()\n",
    "      optimizer.step()\n",
    "\n",
    "    if (n + 1) % print_every == 0:\n",
    "      print(f'Epoch: {n + 1}, Loss: {loss.sum()}')\n",
    "\n",
    "def prediction2label(pred: np.ndarray):\n",
    "  \"\"\"Convert ordinal predictions to class labels, e.g.\n",
    "  [0.9, 0.1, 0.1, 0.1] -> 0\n",
    "  [0.9, 0.9, 0.1, 0.1] -> 1\n",
    "  [0.9, 0.9, 0.9, 0.1] -> 2\n",
    "  etc.\n",
    "  \"\"\"\n",
    "  return (pred > 0.5).cumprod(axis=1).sum(axis=1) - 1\n",
    "\n",
    "def test(net, x_test, y_test):\n",
    "  y_pred = net(x_test)\n",
    "  if y_pred.shape[1] == 21:\n",
    "    y_pred = prediction2label(net(x_test))\n",
    "  else:\n",
    "    y_pred = torch.clip(y_pred.round(), min=0, max=21)\n",
    "\n",
    "  y_default_test = np.where(y_test.detach().numpy() > 9, 1, 0)\n",
    "  y_default_pred = np.where(y_pred.detach().numpy() > 9, 1, 0)\n",
    "  mse = mean_squared_error(y_test.detach().numpy(), y_pred.detach().numpy())\n",
    "  mse_norm = mean_squared_error(y_test.detach().numpy() / 21, y_pred.detach().numpy() / 21)\n",
    "  auc = roc_auc_score(y_default_test, y_default_pred)\n",
    "  f1 = f1_score(y_default_test, y_default_pred)\n",
    "  return mse, mse_norm, auc, f1\n"
   ],
   "metadata": {
    "collapsed": false,
    "ExecuteTime": {
     "end_time": "2023-08-29T11:17:21.317336800Z",
     "start_time": "2023-08-29T11:17:21.221106200Z"
    }
   }
  },
  {
   "cell_type": "code",
   "execution_count": 6,
   "outputs": [
    {
     "name": "stderr",
     "output_type": "stream",
     "text": [
      "D:\\FD\\venv\\lib\\site-packages\\torchvision\\io\\image.py:13: UserWarning: Failed to load image Python extension: '[WinError 127] 找不到指定的程序。'If you don't plan on using image functionality from `torchvision.io`, you can ignore this warning. Otherwise, there might be something wrong with your environment. Did you have `libjpeg` or `libpng` installed before building `torchvision` from source?\n",
      "  warn(\n"
     ]
    }
   ],
   "source": [
    "# Define LSTM FL simulation wrapper\n",
    "from fl_simu import lstm_simulation\n",
    "\n",
    "def run_lstm_simulation(split, X_train, y_train, X_test, y_test, dir='default', num_epoch=256, batch_size=16, num_rounds=15):\n",
    "    return lstm_simulation(split, X_train, y_train, X_test, y_test, dir, num_epoch, batch_size, num_rounds)\n"
   ],
   "metadata": {
    "collapsed": false,
    "ExecuteTime": {
     "end_time": "2023-08-29T11:17:23.485467100Z",
     "start_time": "2023-08-29T11:17:21.254568500Z"
    }
   }
  },
  {
   "cell_type": "code",
   "execution_count": 7,
   "outputs": [],
   "source": [
    "from sklearn.model_selection import KFold\n",
    "\n",
    "num_epochs = 4\n",
    "batch_size = 4\n",
    "\n",
    "splitting = [0.5, 0.5]\n",
    "\n",
    "def do_fl(splitting, X=ts, y=ts_labels, num_rounds=40):\n",
    "    test_name = 'Dataset 1 LSTM'\n",
    "    directory_path = 'lstm_model_checkpoints/' + test_name\n",
    "\n",
    "    if not os.path.exists(directory_path):\n",
    "        os.makedirs(directory_path)\n",
    "\n",
    "    start = datetime.datetime.now()\n",
    "    mses = []\n",
    "    aucs = []\n",
    "\n",
    "    kf = KFold(n_splits=5, shuffle=True, random_state=42)\n",
    "\n",
    "    print(type(X))\n",
    "    print(type(y))\n",
    "    for fold_idx, (train_idx, test_idx) in enumerate(kf.split(X, y)):\n",
    "        print(f\"Fold {fold_idx + 1}:\")\n",
    "\n",
    "        X_train, X_test = X[train_idx], X[test_idx]\n",
    "        y_train, y_test = y[train_idx], y[test_idx]\n",
    "\n",
    "        y_train = torch.reshape(torch.tensor(y_train), (-1, 1))\n",
    "        y_test = torch.reshape(torch.tensor(y_test), (-1, 1))\n",
    "\n",
    "\n",
    "        model_fl = run_lstm_simulation(splitting, X_train, y_train, X_test, y_test, test_name, num_epoch=num_epochs, batch_size=batch_size, num_rounds=num_rounds)\n",
    "\n",
    "        mse, mse_norm, auc, f1 = test(model_fl, X_test, y_test)\n",
    "        mses.append(mse)\n",
    "        aucs.append(auc)\n",
    "\n",
    "    end = datetime.datetime.now()\n",
    "    time = end - start\n",
    "\n",
    "    print('splitting:', splitting)\n",
    "    print('mse:', mses)\n",
    "    print('auc: ', aucs)\n",
    "    print('Training time: ', time)"
   ],
   "metadata": {
    "collapsed": false,
    "ExecuteTime": {
     "end_time": "2023-08-29T11:17:23.524736900Z",
     "start_time": "2023-08-29T11:17:23.495373500Z"
    }
   }
  },
  {
   "cell_type": "code",
   "execution_count": 12,
   "outputs": [],
   "source": [
    "#20/10/5 clients rounds=40"
   ],
   "metadata": {
    "collapsed": false,
    "ExecuteTime": {
     "end_time": "2023-08-29T06:51:40.068096200Z",
     "start_time": "2023-08-29T06:51:40.034000900Z"
    }
   }
  },
  {
   "cell_type": "code",
   "execution_count": 13,
   "outputs": [
    {
     "name": "stderr",
     "output_type": "stream",
     "text": [
      "C:\\Users\\Shuyao\\AppData\\Local\\Temp\\ipykernel_11996\\3107724849.py:36: UserWarning: To copy construct from a tensor, it is recommended to use sourceTensor.clone().detach() or sourceTensor.clone().detach().requires_grad_(True), rather than torch.tensor(sourceTensor).\n",
      "  y_train = torch.reshape(torch.tensor(y_train), (-1, 1))\n",
      "C:\\Users\\Shuyao\\AppData\\Local\\Temp\\ipykernel_11996\\3107724849.py:37: UserWarning: To copy construct from a tensor, it is recommended to use sourceTensor.clone().detach() or sourceTensor.clone().detach().requires_grad_(True), rather than torch.tensor(sourceTensor).\n",
      "  y_test = torch.reshape(torch.tensor(y_test), (-1, 1))\n",
      "INFO flwr 2023-08-29 07:51:41,025 | app.py:145 | Starting Flower simulation, config: ServerConfig(num_rounds=1, round_timeout=None)\n"
     ]
    },
    {
     "name": "stdout",
     "output_type": "stream",
     "text": [
      "<class 'torch.Tensor'>\n",
      "<class 'torch.Tensor'>\n",
      "Fold 1:\n",
      "Client 0 trainset shape torch.Size([370, 3, 23])\n",
      "Client 1 trainset shape torch.Size([350, 3, 23])\n"
     ]
    },
    {
     "name": "stderr",
     "output_type": "stream",
     "text": [
      "2023-08-29 07:51:47,732\tINFO worker.py:1627 -- Started a local Ray instance. View the dashboard at \u001B[1m\u001B[32m127.0.0.1:8265 \u001B[39m\u001B[22m\n"
     ]
    },
    {
     "ename": "KeyboardInterrupt",
     "evalue": "",
     "output_type": "error",
     "traceback": [
      "\u001B[1;31m---------------------------------------------------------------------------\u001B[0m",
      "\u001B[1;31mKeyboardInterrupt\u001B[0m                         Traceback (most recent call last)",
      "Cell \u001B[1;32mIn[13], line 2\u001B[0m\n\u001B[0;32m      1\u001B[0m split \u001B[38;5;241m=\u001B[39m [\u001B[38;5;241m0.5\u001B[39m, \u001B[38;5;241m0.5\u001B[39m]\n\u001B[1;32m----> 2\u001B[0m \u001B[43mdo_fl\u001B[49m\u001B[43m(\u001B[49m\u001B[43msplit\u001B[49m\u001B[43m)\u001B[49m\n",
      "Cell \u001B[1;32mIn[11], line 40\u001B[0m, in \u001B[0;36mdo_fl\u001B[1;34m(splitting, X, y)\u001B[0m\n\u001B[0;32m     36\u001B[0m y_train \u001B[38;5;241m=\u001B[39m torch\u001B[38;5;241m.\u001B[39mreshape(torch\u001B[38;5;241m.\u001B[39mtensor(y_train), (\u001B[38;5;241m-\u001B[39m\u001B[38;5;241m1\u001B[39m, \u001B[38;5;241m1\u001B[39m))\n\u001B[0;32m     37\u001B[0m y_test \u001B[38;5;241m=\u001B[39m torch\u001B[38;5;241m.\u001B[39mreshape(torch\u001B[38;5;241m.\u001B[39mtensor(y_test), (\u001B[38;5;241m-\u001B[39m\u001B[38;5;241m1\u001B[39m, \u001B[38;5;241m1\u001B[39m))\n\u001B[1;32m---> 40\u001B[0m model_fl \u001B[38;5;241m=\u001B[39m \u001B[43mrun_lstm_simulation\u001B[49m\u001B[43m(\u001B[49m\u001B[43msplitting\u001B[49m\u001B[43m,\u001B[49m\u001B[43m \u001B[49m\u001B[43mX_train\u001B[49m\u001B[43m,\u001B[49m\u001B[43m \u001B[49m\u001B[43my_train\u001B[49m\u001B[43m,\u001B[49m\u001B[43m \u001B[49m\u001B[43mX_test\u001B[49m\u001B[43m,\u001B[49m\u001B[43m \u001B[49m\u001B[43my_test\u001B[49m\u001B[43m,\u001B[49m\u001B[43m \u001B[49m\u001B[43mtest_name\u001B[49m\u001B[43m,\u001B[49m\u001B[43m \u001B[49m\u001B[43mnum_epoch\u001B[49m\u001B[38;5;241;43m=\u001B[39;49m\u001B[43mnum_epochs\u001B[49m\u001B[43m,\u001B[49m\u001B[43m \u001B[49m\u001B[43mbatch_size\u001B[49m\u001B[38;5;241;43m=\u001B[39;49m\u001B[43mbatch_size\u001B[49m\u001B[43m,\u001B[49m\u001B[43m \u001B[49m\u001B[43mnum_rounds\u001B[49m\u001B[38;5;241;43m=\u001B[39;49m\u001B[43mnum_rounds\u001B[49m\u001B[43m)\u001B[49m\n\u001B[0;32m     42\u001B[0m mse, mse_norm, auc, f1 \u001B[38;5;241m=\u001B[39m test(model_fl, X_test, y_test)\n\u001B[0;32m     43\u001B[0m mses\u001B[38;5;241m.\u001B[39mappend(mse)\n",
      "Cell \u001B[1;32mIn[7], line 5\u001B[0m, in \u001B[0;36mrun_lstm_simulation\u001B[1;34m(split, X_train, y_train, X_test, y_test, dir, num_epoch, batch_size, num_rounds)\u001B[0m\n\u001B[0;32m      4\u001B[0m \u001B[38;5;28;01mdef\u001B[39;00m \u001B[38;5;21mrun_lstm_simulation\u001B[39m(split, X_train, y_train, X_test, y_test, \u001B[38;5;28mdir\u001B[39m\u001B[38;5;241m=\u001B[39m\u001B[38;5;124m'\u001B[39m\u001B[38;5;124mdefault\u001B[39m\u001B[38;5;124m'\u001B[39m, num_epoch\u001B[38;5;241m=\u001B[39m\u001B[38;5;241m256\u001B[39m, batch_size\u001B[38;5;241m=\u001B[39m\u001B[38;5;241m16\u001B[39m, num_rounds\u001B[38;5;241m=\u001B[39m\u001B[38;5;241m15\u001B[39m):\n\u001B[1;32m----> 5\u001B[0m     \u001B[38;5;28;01mreturn\u001B[39;00m \u001B[43mlstm_simulation\u001B[49m\u001B[43m(\u001B[49m\u001B[43msplit\u001B[49m\u001B[43m,\u001B[49m\u001B[43m \u001B[49m\u001B[43mX_train\u001B[49m\u001B[43m,\u001B[49m\u001B[43m \u001B[49m\u001B[43my_train\u001B[49m\u001B[43m,\u001B[49m\u001B[43m \u001B[49m\u001B[43mX_test\u001B[49m\u001B[43m,\u001B[49m\u001B[43m \u001B[49m\u001B[43my_test\u001B[49m\u001B[43m,\u001B[49m\u001B[43m \u001B[49m\u001B[38;5;28;43mdir\u001B[39;49m\u001B[43m,\u001B[49m\u001B[43m \u001B[49m\u001B[43mnum_epoch\u001B[49m\u001B[43m,\u001B[49m\u001B[43m \u001B[49m\u001B[43mbatch_size\u001B[49m\u001B[43m,\u001B[49m\u001B[43m \u001B[49m\u001B[43mnum_rounds\u001B[49m\u001B[43m)\u001B[49m\n",
      "File \u001B[1;32mD:\\FD\\fl_simu.py:23\u001B[0m, in \u001B[0;36mlstm_simulation\u001B[1;34m(split, x_train, y_train, x_test, y_test, dir, num_epoch, batch_size, num_rounds)\u001B[0m\n\u001B[0;32m     21\u001B[0m \u001B[38;5;28;01mdef\u001B[39;00m \u001B[38;5;21mlstm_simulation\u001B[39m(split, x_train, y_train, x_test, y_test, \u001B[38;5;28mdir\u001B[39m\u001B[38;5;241m=\u001B[39m\u001B[38;5;124m'\u001B[39m\u001B[38;5;124mdefault\u001B[39m\u001B[38;5;124m'\u001B[39m, num_epoch\u001B[38;5;241m=\u001B[39m\u001B[38;5;241m256\u001B[39m, batch_size\u001B[38;5;241m=\u001B[39m\u001B[38;5;241m4\u001B[39m, num_rounds\u001B[38;5;241m=\u001B[39m\u001B[38;5;241m20\u001B[39m):\n\u001B[0;32m     22\u001B[0m   client_fn \u001B[38;5;241m=\u001B[39m fl_split_lstm(split, x_train, y_train, x_test, y_test, LSTMModel(\u001B[38;5;241m23\u001B[39m, \u001B[38;5;241m21\u001B[39m), CRClient, num_epoch, batch_size, \u001B[38;5;241m0.0001\u001B[39m, \u001B[38;5;241m0.00001\u001B[39m)\n\u001B[1;32m---> 23\u001B[0m   \u001B[38;5;28;01mreturn\u001B[39;00m \u001B[43m_run_simulation_lstm\u001B[49m\u001B[43m(\u001B[49m\u001B[43mclient_fn\u001B[49m\u001B[43m,\u001B[49m\u001B[43m \u001B[49m\u001B[38;5;28;43mlen\u001B[39;49m\u001B[43m(\u001B[49m\u001B[43msplit\u001B[49m\u001B[43m)\u001B[49m\u001B[43m,\u001B[49m\u001B[43m \u001B[49m\u001B[43mLSTMModel\u001B[49m\u001B[43m(\u001B[49m\u001B[38;5;241;43m23\u001B[39;49m\u001B[43m,\u001B[49m\u001B[43m \u001B[49m\u001B[38;5;241;43m21\u001B[39;49m\u001B[43m)\u001B[49m\u001B[43m,\u001B[49m\u001B[43m \u001B[49m\u001B[43mupper_dir\u001B[49m\u001B[38;5;241;43m=\u001B[39;49m\u001B[38;5;124;43m'\u001B[39;49m\u001B[38;5;124;43mlstm_model_checkpoints\u001B[39;49m\u001B[38;5;124;43m'\u001B[39;49m\u001B[43m,\u001B[49m\u001B[43m \u001B[49m\u001B[38;5;28;43mdir\u001B[39;49m\u001B[38;5;241;43m=\u001B[39;49m\u001B[38;5;28;43mdir\u001B[39;49m\u001B[43m,\u001B[49m\u001B[43m \u001B[49m\u001B[43mnum_rounds\u001B[49m\u001B[38;5;241;43m=\u001B[39;49m\u001B[43mnum_rounds\u001B[49m\u001B[43m)\u001B[49m\n",
      "File \u001B[1;32mD:\\FD\\fl_simu.py:442\u001B[0m, in \u001B[0;36m_run_simulation_lstm\u001B[1;34m(client_fn, num_clients, net_arch, upper_dir, dir, num_rounds, print_hist, history_dir)\u001B[0m\n\u001B[0;32m    439\u001B[0m \u001B[38;5;66;03m# Specify client resources if you need GPU (defaults to 1 CPU and 0 GPU)\u001B[39;00m\n\u001B[0;32m    440\u001B[0m client_resources \u001B[38;5;241m=\u001B[39m \u001B[38;5;28;01mNone\u001B[39;00m\n\u001B[1;32m--> 442\u001B[0m history \u001B[38;5;241m=\u001B[39m \u001B[43mfl\u001B[49m\u001B[38;5;241;43m.\u001B[39;49m\u001B[43msimulation\u001B[49m\u001B[38;5;241;43m.\u001B[39;49m\u001B[43mstart_simulation\u001B[49m\u001B[43m(\u001B[49m\n\u001B[0;32m    443\u001B[0m \u001B[43m    \u001B[49m\u001B[43mclient_fn\u001B[49m\u001B[38;5;241;43m=\u001B[39;49m\u001B[43mclient_fn\u001B[49m\u001B[43m,\u001B[49m\n\u001B[0;32m    444\u001B[0m \u001B[43m    \u001B[49m\u001B[43mclients_ids\u001B[49m\u001B[38;5;241;43m=\u001B[39;49m\u001B[43m[\u001B[49m\u001B[38;5;28;43mstr\u001B[39;49m\u001B[43m(\u001B[49m\u001B[43mx\u001B[49m\u001B[43m)\u001B[49m\u001B[43m \u001B[49m\u001B[38;5;28;43;01mfor\u001B[39;49;00m\u001B[43m \u001B[49m\u001B[43mx\u001B[49m\u001B[43m \u001B[49m\u001B[38;5;129;43;01min\u001B[39;49;00m\u001B[43m \u001B[49m\u001B[38;5;28;43mrange\u001B[39;49m\u001B[43m(\u001B[49m\u001B[43mnum_clients\u001B[49m\u001B[43m)\u001B[49m\u001B[43m]\u001B[49m\u001B[43m,\u001B[49m\n\u001B[0;32m    445\u001B[0m \u001B[43m    \u001B[49m\u001B[43mnum_clients\u001B[49m\u001B[38;5;241;43m=\u001B[39;49m\u001B[43mnum_clients\u001B[49m\u001B[43m,\u001B[49m\n\u001B[0;32m    446\u001B[0m \u001B[43m    \u001B[49m\u001B[43mconfig\u001B[49m\u001B[38;5;241;43m=\u001B[39;49m\u001B[43mfl\u001B[49m\u001B[38;5;241;43m.\u001B[39;49m\u001B[43mserver\u001B[49m\u001B[38;5;241;43m.\u001B[39;49m\u001B[43mServerConfig\u001B[49m\u001B[43m(\u001B[49m\u001B[43mnum_rounds\u001B[49m\u001B[38;5;241;43m=\u001B[39;49m\u001B[43mnum_rounds\u001B[49m\u001B[43m)\u001B[49m\u001B[43m,\u001B[49m\n\u001B[0;32m    447\u001B[0m \u001B[43m    \u001B[49m\u001B[43mstrategy\u001B[49m\u001B[38;5;241;43m=\u001B[39;49m\u001B[43mstrategy\u001B[49m\u001B[43m,\u001B[49m\n\u001B[0;32m    448\u001B[0m \u001B[43m    \u001B[49m\u001B[43mclient_resources\u001B[49m\u001B[38;5;241;43m=\u001B[39;49m\u001B[43mclient_resources\u001B[49m\u001B[43m,\u001B[49m\n\u001B[0;32m    449\u001B[0m \u001B[43m    \u001B[49m\u001B[43mray_init_args\u001B[49m\u001B[38;5;241;43m=\u001B[39;49m\u001B[43m{\u001B[49m\u001B[38;5;124;43m'\u001B[39;49m\u001B[38;5;124;43mlog_to_driver\u001B[39;49m\u001B[38;5;124;43m'\u001B[39;49m\u001B[43m:\u001B[49m\u001B[43m \u001B[49m\u001B[38;5;28;43;01mFalse\u001B[39;49;00m\u001B[43m}\u001B[49m\n\u001B[0;32m    450\u001B[0m \u001B[43m\u001B[49m\u001B[43m)\u001B[49m\n\u001B[0;32m    452\u001B[0m \u001B[38;5;28;01mif\u001B[39;00m print_hist:\n\u001B[0;32m    453\u001B[0m     \u001B[38;5;28mprint\u001B[39m(history)\n",
      "File \u001B[1;32mD:\\FD\\venv\\lib\\site-packages\\flwr\\simulation\\app.py:178\u001B[0m, in \u001B[0;36mstart_simulation\u001B[1;34m(client_fn, num_clients, clients_ids, client_resources, server, config, strategy, client_manager, ray_init_args, keep_initialised)\u001B[0m\n\u001B[0;32m    175\u001B[0m     ray\u001B[38;5;241m.\u001B[39mshutdown()\n\u001B[0;32m    177\u001B[0m \u001B[38;5;66;03m# Initialize Ray\u001B[39;00m\n\u001B[1;32m--> 178\u001B[0m ray\u001B[38;5;241m.\u001B[39minit(\u001B[38;5;241m*\u001B[39m\u001B[38;5;241m*\u001B[39mray_init_args)\n\u001B[0;32m    179\u001B[0m log(\n\u001B[0;32m    180\u001B[0m     INFO,\n\u001B[0;32m    181\u001B[0m     \u001B[38;5;124m\"\u001B[39m\u001B[38;5;124mFlower VCE: Ray initialized with resources: \u001B[39m\u001B[38;5;132;01m%s\u001B[39;00m\u001B[38;5;124m\"\u001B[39m,\n\u001B[0;32m    182\u001B[0m     ray\u001B[38;5;241m.\u001B[39mcluster_resources(),\n\u001B[0;32m    183\u001B[0m )\n\u001B[0;32m    185\u001B[0m \u001B[38;5;66;03m# Register one RayClientProxy object for each client with the ClientManager\u001B[39;00m\n",
      "File \u001B[1;32mD:\\FD\\venv\\lib\\site-packages\\ray\\_private\\client_mode_hook.py:103\u001B[0m, in \u001B[0;36mclient_mode_hook.<locals>.wrapper\u001B[1;34m(*args, **kwargs)\u001B[0m\n\u001B[0;32m    101\u001B[0m     \u001B[38;5;28;01mif\u001B[39;00m func\u001B[38;5;241m.\u001B[39m\u001B[38;5;18m__name__\u001B[39m \u001B[38;5;241m!=\u001B[39m \u001B[38;5;124m\"\u001B[39m\u001B[38;5;124minit\u001B[39m\u001B[38;5;124m\"\u001B[39m \u001B[38;5;129;01mor\u001B[39;00m is_client_mode_enabled_by_default:\n\u001B[0;32m    102\u001B[0m         \u001B[38;5;28;01mreturn\u001B[39;00m \u001B[38;5;28mgetattr\u001B[39m(ray, func\u001B[38;5;241m.\u001B[39m\u001B[38;5;18m__name__\u001B[39m)(\u001B[38;5;241m*\u001B[39margs, \u001B[38;5;241m*\u001B[39m\u001B[38;5;241m*\u001B[39mkwargs)\n\u001B[1;32m--> 103\u001B[0m \u001B[38;5;28;01mreturn\u001B[39;00m func(\u001B[38;5;241m*\u001B[39margs, \u001B[38;5;241m*\u001B[39m\u001B[38;5;241m*\u001B[39mkwargs)\n",
      "File \u001B[1;32mD:\\FD\\venv\\lib\\site-packages\\ray\\_private\\worker.py:1638\u001B[0m, in \u001B[0;36minit\u001B[1;34m(address, num_cpus, num_gpus, resources, object_store_memory, local_mode, ignore_reinit_error, include_dashboard, dashboard_host, dashboard_port, job_config, configure_logging, logging_level, logging_format, log_to_driver, namespace, runtime_env, storage, **kwargs)\u001B[0m\n\u001B[0;32m   1635\u001B[0m \u001B[38;5;28;01melse\u001B[39;00m:\n\u001B[0;32m   1636\u001B[0m     logger\u001B[38;5;241m.\u001B[39minfo(info_str)\n\u001B[1;32m-> 1638\u001B[0m \u001B[43mconnect\u001B[49m\u001B[43m(\u001B[49m\n\u001B[0;32m   1639\u001B[0m \u001B[43m    \u001B[49m\u001B[43m_global_node\u001B[49m\u001B[43m,\u001B[49m\n\u001B[0;32m   1640\u001B[0m \u001B[43m    \u001B[49m\u001B[43m_global_node\u001B[49m\u001B[38;5;241;43m.\u001B[39;49m\u001B[43msession_name\u001B[49m\u001B[43m,\u001B[49m\n\u001B[0;32m   1641\u001B[0m \u001B[43m    \u001B[49m\u001B[43mmode\u001B[49m\u001B[38;5;241;43m=\u001B[39;49m\u001B[43mdriver_mode\u001B[49m\u001B[43m,\u001B[49m\n\u001B[0;32m   1642\u001B[0m \u001B[43m    \u001B[49m\u001B[43mlog_to_driver\u001B[49m\u001B[38;5;241;43m=\u001B[39;49m\u001B[43mlog_to_driver\u001B[49m\u001B[43m,\u001B[49m\n\u001B[0;32m   1643\u001B[0m \u001B[43m    \u001B[49m\u001B[43mworker\u001B[49m\u001B[38;5;241;43m=\u001B[39;49m\u001B[43mglobal_worker\u001B[49m\u001B[43m,\u001B[49m\n\u001B[0;32m   1644\u001B[0m \u001B[43m    \u001B[49m\u001B[43mdriver_object_store_memory\u001B[49m\u001B[38;5;241;43m=\u001B[39;49m\u001B[43m_driver_object_store_memory\u001B[49m\u001B[43m,\u001B[49m\n\u001B[0;32m   1645\u001B[0m \u001B[43m    \u001B[49m\u001B[43mjob_id\u001B[49m\u001B[38;5;241;43m=\u001B[39;49m\u001B[38;5;28;43;01mNone\u001B[39;49;00m\u001B[43m,\u001B[49m\n\u001B[0;32m   1646\u001B[0m \u001B[43m    \u001B[49m\u001B[43mnamespace\u001B[49m\u001B[38;5;241;43m=\u001B[39;49m\u001B[43mnamespace\u001B[49m\u001B[43m,\u001B[49m\n\u001B[0;32m   1647\u001B[0m \u001B[43m    \u001B[49m\u001B[43mjob_config\u001B[49m\u001B[38;5;241;43m=\u001B[39;49m\u001B[43mjob_config\u001B[49m\u001B[43m,\u001B[49m\n\u001B[0;32m   1648\u001B[0m \u001B[43m    \u001B[49m\u001B[43mentrypoint\u001B[49m\u001B[38;5;241;43m=\u001B[39;49m\u001B[43mray\u001B[49m\u001B[38;5;241;43m.\u001B[39;49m\u001B[43m_private\u001B[49m\u001B[38;5;241;43m.\u001B[39;49m\u001B[43mutils\u001B[49m\u001B[38;5;241;43m.\u001B[39;49m\u001B[43mget_entrypoint_name\u001B[49m\u001B[43m(\u001B[49m\u001B[43m)\u001B[49m\u001B[43m,\u001B[49m\n\u001B[0;32m   1649\u001B[0m \u001B[43m\u001B[49m\u001B[43m)\u001B[49m\n\u001B[0;32m   1650\u001B[0m \u001B[38;5;28;01mif\u001B[39;00m job_config \u001B[38;5;129;01mand\u001B[39;00m job_config\u001B[38;5;241m.\u001B[39mcode_search_path:\n\u001B[0;32m   1651\u001B[0m     global_worker\u001B[38;5;241m.\u001B[39mset_load_code_from_local(\u001B[38;5;28;01mTrue\u001B[39;00m)\n",
      "File \u001B[1;32mD:\\FD\\venv\\lib\\site-packages\\ray\\_private\\worker.py:2253\u001B[0m, in \u001B[0;36mconnect\u001B[1;34m(node, session_name, mode, log_to_driver, worker, driver_object_store_memory, job_id, namespace, job_config, runtime_env_hash, startup_token, ray_debugger_external, entrypoint, worker_launch_time_ms, worker_launched_time_ms)\u001B[0m\n\u001B[0;32m   2251\u001B[0m worker\u001B[38;5;241m.\u001B[39mcore_worker\u001B[38;5;241m.\u001B[39mnotify_raylet()\n\u001B[0;32m   2252\u001B[0m worker_id \u001B[38;5;241m=\u001B[39m worker\u001B[38;5;241m.\u001B[39mworker_id\n\u001B[1;32m-> 2253\u001B[0m worker\u001B[38;5;241m.\u001B[39mgcs_error_subscriber \u001B[38;5;241m=\u001B[39m \u001B[43mGcsErrorSubscriber\u001B[49m\u001B[43m(\u001B[49m\n\u001B[0;32m   2254\u001B[0m \u001B[43m    \u001B[49m\u001B[43mworker_id\u001B[49m\u001B[38;5;241;43m=\u001B[39;49m\u001B[43mworker_id\u001B[49m\u001B[43m,\u001B[49m\u001B[43m \u001B[49m\u001B[43maddress\u001B[49m\u001B[38;5;241;43m=\u001B[39;49m\u001B[43mworker\u001B[49m\u001B[38;5;241;43m.\u001B[39;49m\u001B[43mgcs_client\u001B[49m\u001B[38;5;241;43m.\u001B[39;49m\u001B[43maddress\u001B[49m\n\u001B[0;32m   2255\u001B[0m \u001B[43m\u001B[49m\u001B[43m)\u001B[49m\n\u001B[0;32m   2256\u001B[0m worker\u001B[38;5;241m.\u001B[39mgcs_log_subscriber \u001B[38;5;241m=\u001B[39m GcsLogSubscriber(\n\u001B[0;32m   2257\u001B[0m     worker_id\u001B[38;5;241m=\u001B[39mworker_id, address\u001B[38;5;241m=\u001B[39mworker\u001B[38;5;241m.\u001B[39mgcs_client\u001B[38;5;241m.\u001B[39maddress\n\u001B[0;32m   2258\u001B[0m )\n\u001B[0;32m   2259\u001B[0m worker\u001B[38;5;241m.\u001B[39mgcs_function_key_subscriber \u001B[38;5;241m=\u001B[39m GcsFunctionKeySubscriber(\n\u001B[0;32m   2260\u001B[0m     worker_id\u001B[38;5;241m=\u001B[39mworker_id, address\u001B[38;5;241m=\u001B[39mworker\u001B[38;5;241m.\u001B[39mgcs_client\u001B[38;5;241m.\u001B[39maddress\n\u001B[0;32m   2261\u001B[0m )\n",
      "File \u001B[1;32mD:\\FD\\venv\\lib\\site-packages\\ray\\_private\\gcs_pubsub.py:290\u001B[0m, in \u001B[0;36mGcsErrorSubscriber.__init__\u001B[1;34m(self, worker_id, address, channel)\u001B[0m\n\u001B[0;32m    284\u001B[0m \u001B[38;5;28;01mdef\u001B[39;00m \u001B[38;5;21m__init__\u001B[39m(\n\u001B[0;32m    285\u001B[0m     \u001B[38;5;28mself\u001B[39m,\n\u001B[0;32m    286\u001B[0m     worker_id: \u001B[38;5;28mbytes\u001B[39m \u001B[38;5;241m=\u001B[39m \u001B[38;5;28;01mNone\u001B[39;00m,\n\u001B[0;32m    287\u001B[0m     address: \u001B[38;5;28mstr\u001B[39m \u001B[38;5;241m=\u001B[39m \u001B[38;5;28;01mNone\u001B[39;00m,\n\u001B[0;32m    288\u001B[0m     channel: grpc\u001B[38;5;241m.\u001B[39mChannel \u001B[38;5;241m=\u001B[39m \u001B[38;5;28;01mNone\u001B[39;00m,\n\u001B[0;32m    289\u001B[0m ):\n\u001B[1;32m--> 290\u001B[0m     \u001B[38;5;28;43msuper\u001B[39;49m\u001B[43m(\u001B[49m\u001B[43m)\u001B[49m\u001B[38;5;241;43m.\u001B[39;49m\u001B[38;5;21;43m__init__\u001B[39;49m\u001B[43m(\u001B[49m\u001B[43mpubsub_pb2\u001B[49m\u001B[38;5;241;43m.\u001B[39;49m\u001B[43mRAY_ERROR_INFO_CHANNEL\u001B[49m\u001B[43m,\u001B[49m\u001B[43m \u001B[49m\u001B[43mworker_id\u001B[49m\u001B[43m,\u001B[49m\u001B[43m \u001B[49m\u001B[43maddress\u001B[49m\u001B[43m,\u001B[49m\u001B[43m \u001B[49m\u001B[43mchannel\u001B[49m\u001B[43m)\u001B[49m\n",
      "File \u001B[1;32mD:\\FD\\venv\\lib\\site-packages\\ray\\_private\\gcs_pubsub.py:173\u001B[0m, in \u001B[0;36m_SyncSubscriber.__init__\u001B[1;34m(self, pubsub_channel_type, worker_id, address, channel)\u001B[0m\n\u001B[0;32m    171\u001B[0m \u001B[38;5;28;01mif\u001B[39;00m address:\n\u001B[0;32m    172\u001B[0m     \u001B[38;5;28;01massert\u001B[39;00m channel \u001B[38;5;129;01mis\u001B[39;00m \u001B[38;5;28;01mNone\u001B[39;00m, \u001B[38;5;124m\"\u001B[39m\u001B[38;5;124maddress and channel cannot both be specified\u001B[39m\u001B[38;5;124m\"\u001B[39m\n\u001B[1;32m--> 173\u001B[0m     channel \u001B[38;5;241m=\u001B[39m \u001B[43mgcs_utils\u001B[49m\u001B[38;5;241;43m.\u001B[39;49m\u001B[43mcreate_gcs_channel\u001B[49m\u001B[43m(\u001B[49m\u001B[43maddress\u001B[49m\u001B[43m)\u001B[49m\n\u001B[0;32m    174\u001B[0m \u001B[38;5;28;01melse\u001B[39;00m:\n\u001B[0;32m    175\u001B[0m     \u001B[38;5;28;01massert\u001B[39;00m channel \u001B[38;5;129;01mis\u001B[39;00m \u001B[38;5;129;01mnot\u001B[39;00m \u001B[38;5;28;01mNone\u001B[39;00m, \u001B[38;5;124m\"\u001B[39m\u001B[38;5;124mOne of address and channel must be specified\u001B[39m\u001B[38;5;124m\"\u001B[39m\n",
      "File \u001B[1;32mD:\\FD\\venv\\lib\\site-packages\\ray\\_private\\gcs_utils.py:102\u001B[0m, in \u001B[0;36mcreate_gcs_channel\u001B[1;34m(address, aio)\u001B[0m\n\u001B[0;32m     92\u001B[0m \u001B[38;5;250m\u001B[39m\u001B[38;5;124;03m\"\"\"Returns a GRPC channel to GCS.\u001B[39;00m\n\u001B[0;32m     93\u001B[0m \n\u001B[0;32m     94\u001B[0m \u001B[38;5;124;03mArgs:\u001B[39;00m\n\u001B[1;32m   (...)\u001B[0m\n\u001B[0;32m     98\u001B[0m \u001B[38;5;124;03m    grpc.Channel or grpc.aio.Channel to GCS\u001B[39;00m\n\u001B[0;32m     99\u001B[0m \u001B[38;5;124;03m\"\"\"\u001B[39;00m\n\u001B[0;32m    100\u001B[0m \u001B[38;5;28;01mfrom\u001B[39;00m \u001B[38;5;21;01mray\u001B[39;00m\u001B[38;5;21;01m.\u001B[39;00m\u001B[38;5;21;01m_private\u001B[39;00m\u001B[38;5;21;01m.\u001B[39;00m\u001B[38;5;21;01mutils\u001B[39;00m \u001B[38;5;28;01mimport\u001B[39;00m init_grpc_channel\n\u001B[1;32m--> 102\u001B[0m \u001B[38;5;28;01mreturn\u001B[39;00m \u001B[43minit_grpc_channel\u001B[49m\u001B[43m(\u001B[49m\u001B[43maddress\u001B[49m\u001B[43m,\u001B[49m\u001B[43m \u001B[49m\u001B[43moptions\u001B[49m\u001B[38;5;241;43m=\u001B[39;49m\u001B[43m_GRPC_OPTIONS\u001B[49m\u001B[43m,\u001B[49m\u001B[43m \u001B[49m\u001B[43masynchronous\u001B[49m\u001B[38;5;241;43m=\u001B[39;49m\u001B[43maio\u001B[49m\u001B[43m)\u001B[49m\n",
      "File \u001B[1;32mD:\\FD\\venv\\lib\\site-packages\\ray\\_private\\utils.py:1326\u001B[0m, in \u001B[0;36minit_grpc_channel\u001B[1;34m(address, options, asynchronous)\u001B[0m\n\u001B[0;32m   1324\u001B[0m     channel \u001B[38;5;241m=\u001B[39m grpc_module\u001B[38;5;241m.\u001B[39msecure_channel(address, credentials, options\u001B[38;5;241m=\u001B[39moptions)\n\u001B[0;32m   1325\u001B[0m \u001B[38;5;28;01melse\u001B[39;00m:\n\u001B[1;32m-> 1326\u001B[0m     channel \u001B[38;5;241m=\u001B[39m \u001B[43mgrpc_module\u001B[49m\u001B[38;5;241;43m.\u001B[39;49m\u001B[43minsecure_channel\u001B[49m\u001B[43m(\u001B[49m\u001B[43maddress\u001B[49m\u001B[43m,\u001B[49m\u001B[43m \u001B[49m\u001B[43moptions\u001B[49m\u001B[38;5;241;43m=\u001B[39;49m\u001B[43moptions\u001B[49m\u001B[43m)\u001B[49m\n\u001B[0;32m   1328\u001B[0m \u001B[38;5;28;01mreturn\u001B[39;00m channel\n",
      "File \u001B[1;32mD:\\FD\\venv\\lib\\site-packages\\grpc\\__init__.py:1976\u001B[0m, in \u001B[0;36minsecure_channel\u001B[1;34m(target, options, compression)\u001B[0m\n\u001B[0;32m   1961\u001B[0m \u001B[38;5;28;01mdef\u001B[39;00m \u001B[38;5;21minsecure_channel\u001B[39m(target, options\u001B[38;5;241m=\u001B[39m\u001B[38;5;28;01mNone\u001B[39;00m, compression\u001B[38;5;241m=\u001B[39m\u001B[38;5;28;01mNone\u001B[39;00m):\n\u001B[0;32m   1962\u001B[0m \u001B[38;5;250m    \u001B[39m\u001B[38;5;124;03m\"\"\"Creates an insecure Channel to a server.\u001B[39;00m\n\u001B[0;32m   1963\u001B[0m \n\u001B[0;32m   1964\u001B[0m \u001B[38;5;124;03m    The returned Channel is thread-safe.\u001B[39;00m\n\u001B[1;32m   (...)\u001B[0m\n\u001B[0;32m   1974\u001B[0m \u001B[38;5;124;03m      A Channel.\u001B[39;00m\n\u001B[0;32m   1975\u001B[0m \u001B[38;5;124;03m    \"\"\"\u001B[39;00m\n\u001B[1;32m-> 1976\u001B[0m     \u001B[38;5;28;01mfrom\u001B[39;00m \u001B[38;5;21;01mgrpc\u001B[39;00m \u001B[38;5;28;01mimport\u001B[39;00m _channel  \u001B[38;5;66;03m# pylint: disable=cyclic-import\u001B[39;00m\n\u001B[0;32m   1977\u001B[0m     \u001B[38;5;28;01mreturn\u001B[39;00m _channel\u001B[38;5;241m.\u001B[39mChannel(target, () \u001B[38;5;28;01mif\u001B[39;00m options \u001B[38;5;129;01mis\u001B[39;00m \u001B[38;5;28;01mNone\u001B[39;00m \u001B[38;5;28;01melse\u001B[39;00m options, \u001B[38;5;28;01mNone\u001B[39;00m,\n\u001B[0;32m   1978\u001B[0m                             compression)\n",
      "File \u001B[1;32m<frozen importlib._bootstrap>:1027\u001B[0m, in \u001B[0;36m_find_and_load\u001B[1;34m(name, import_)\u001B[0m\n",
      "File \u001B[1;32m<frozen importlib._bootstrap>:1006\u001B[0m, in \u001B[0;36m_find_and_load_unlocked\u001B[1;34m(name, import_)\u001B[0m\n",
      "File \u001B[1;32m<frozen importlib._bootstrap>:688\u001B[0m, in \u001B[0;36m_load_unlocked\u001B[1;34m(spec)\u001B[0m\n",
      "File \u001B[1;32m<frozen importlib._bootstrap_external>:879\u001B[0m, in \u001B[0;36mexec_module\u001B[1;34m(self, module)\u001B[0m\n",
      "File \u001B[1;32m<frozen importlib._bootstrap_external>:969\u001B[0m, in \u001B[0;36mget_code\u001B[1;34m(self, fullname)\u001B[0m\n",
      "File \u001B[1;32m<frozen importlib._bootstrap_external>:1091\u001B[0m, in \u001B[0;36mpath_stats\u001B[1;34m(self, path)\u001B[0m\n",
      "File \u001B[1;32m<frozen importlib._bootstrap_external>:147\u001B[0m, in \u001B[0;36m_path_stat\u001B[1;34m(path)\u001B[0m\n",
      "\u001B[1;31mKeyboardInterrupt\u001B[0m: "
     ]
    }
   ],
   "source": [
    "split = [0.5, 0.5]\n",
    "do_fl(split, num_rounds=20)"
   ],
   "metadata": {
    "collapsed": false,
    "ExecuteTime": {
     "end_time": "2023-08-29T06:51:54.802243Z",
     "start_time": "2023-08-29T06:51:40.946002700Z"
    }
   }
  },
  {
   "cell_type": "code",
   "execution_count": null,
   "outputs": [],
   "source": [
    "split = [0.6, 0.4]\n",
    "do_fl(split, num_rounds=20)"
   ],
   "metadata": {
    "collapsed": false
   }
  },
  {
   "cell_type": "code",
   "execution_count": null,
   "outputs": [],
   "source": [
    "split = [0.8, 0.2]\n",
    "do_fl(split, num_rounds=20)"
   ],
   "metadata": {
    "collapsed": false
   }
  },
  {
   "cell_type": "code",
   "execution_count": null,
   "outputs": [],
   "source": [
    "split = [0.34, 0.33, 0.33]\n",
    "do_fl(split, num_rounds=30)"
   ],
   "metadata": {
    "collapsed": false
   }
  },
  {
   "cell_type": "code",
   "execution_count": null,
   "outputs": [],
   "source": [
    "split = [0.6, 0.2, 0.2]\n",
    "do_fl(split, num_rounds=30)"
   ],
   "metadata": {
    "collapsed": false
   }
  },
  {
   "cell_type": "code",
   "execution_count": null,
   "outputs": [],
   "source": [
    "split = [0.8, 0.1, 0.1]\n",
    "do_fl(split, num_rounds=30)"
   ],
   "metadata": {
    "collapsed": false
   }
  },
  {
   "cell_type": "code",
   "execution_count": null,
   "outputs": [
    {
     "name": "stderr",
     "output_type": "stream",
     "text": [
      "C:\\Users\\Shuyao\\AppData\\Local\\Temp\\ipykernel_6156\\3421847257.py:35: UserWarning: To copy construct from a tensor, it is recommended to use sourceTensor.clone().detach() or sourceTensor.clone().detach().requires_grad_(True), rather than torch.tensor(sourceTensor).\n",
      "  y_train = torch.reshape(torch.tensor(y_train), (-1, 1))\n",
      "C:\\Users\\Shuyao\\AppData\\Local\\Temp\\ipykernel_6156\\3421847257.py:36: UserWarning: To copy construct from a tensor, it is recommended to use sourceTensor.clone().detach() or sourceTensor.clone().detach().requires_grad_(True), rather than torch.tensor(sourceTensor).\n",
      "  y_test = torch.reshape(torch.tensor(y_test), (-1, 1))\n",
      "INFO flwr 2023-08-29 12:17:36,400 | app.py:145 | Starting Flower simulation, config: ServerConfig(num_rounds=40, round_timeout=None)\n"
     ]
    },
    {
     "name": "stdout",
     "output_type": "stream",
     "text": [
      "<class 'torch.Tensor'>\n",
      "<class 'torch.Tensor'>\n",
      "Fold 1:\n",
      "Client 0 trainset shape torch.Size([150, 3, 23])\n",
      "Client 1 trainset shape torch.Size([150, 3, 23])\n",
      "Client 2 trainset shape torch.Size([140, 3, 23])\n",
      "Client 3 trainset shape torch.Size([140, 3, 23])\n",
      "Client 4 trainset shape torch.Size([140, 3, 23])\n"
     ]
    },
    {
     "name": "stderr",
     "output_type": "stream",
     "text": [
      "2023-08-29 12:17:43,275\tINFO worker.py:1627 -- Started a local Ray instance. View the dashboard at \u001B[1m\u001B[32m127.0.0.1:8266 \u001B[39m\u001B[22m\n",
      "INFO flwr 2023-08-29 12:17:49,594 | app.py:179 | Flower VCE: Ray initialized with resources: {'CPU': 8.0, 'node:127.0.0.1': 1.0, 'memory': 1568140494.0, 'object_store_memory': 784070246.0, 'GPU': 1.0}\n",
      "INFO flwr 2023-08-29 12:17:49,595 | server.py:89 | Initializing global parameters\n",
      "INFO flwr 2023-08-29 12:17:49,596 | server.py:276 | Requesting initial parameters from one random client\n",
      "INFO flwr 2023-08-29 12:17:52,571 | server.py:280 | Received initial parameters from one random client\n",
      "INFO flwr 2023-08-29 12:17:52,572 | server.py:91 | Evaluating initial parameters\n",
      "INFO flwr 2023-08-29 12:17:52,573 | server.py:104 | FL starting\n",
      "DEBUG flwr 2023-08-29 12:17:52,574 | server.py:222 | fit_round 1: strategy sampled 2 clients (out of 5)\n",
      "DEBUG flwr 2023-08-29 12:18:04,143 | server.py:236 | fit_round 1 received 2 results and 0 failures\n",
      "WARNING flwr 2023-08-29 12:18:04,175 | fedavg.py:242 | No fit_metrics_aggregation_fn provided\n",
      "DEBUG flwr 2023-08-29 12:18:04,215 | server.py:173 | evaluate_round 1: strategy sampled 2 clients (out of 5)\n"
     ]
    },
    {
     "name": "stdout",
     "output_type": "stream",
     "text": [
      "agrregate_fit results list length is  2\n",
      "Saving round 1 aggregated_parameters...\n"
     ]
    },
    {
     "name": "stderr",
     "output_type": "stream",
     "text": [
      "DEBUG flwr 2023-08-29 12:18:04,532 | server.py:187 | evaluate_round 1 received 2 results and 0 failures\n",
      "DEBUG flwr 2023-08-29 12:18:04,534 | server.py:222 | fit_round 2: strategy sampled 2 clients (out of 5)\n"
     ]
    },
    {
     "name": "stdout",
     "output_type": "stream",
     "text": [
      "agrregate_evaluate results list length is  2\n",
      "server round is  1\n",
      "loss is  10.276243093922652\n"
     ]
    },
    {
     "name": "stderr",
     "output_type": "stream",
     "text": [
      "DEBUG flwr 2023-08-29 12:18:12,364 | server.py:236 | fit_round 2 received 2 results and 0 failures\n",
      "DEBUG flwr 2023-08-29 12:18:12,443 | server.py:173 | evaluate_round 2: strategy sampled 2 clients (out of 5)\n"
     ]
    },
    {
     "name": "stdout",
     "output_type": "stream",
     "text": [
      "agrregate_fit results list length is  2\n",
      "Saving round 2 aggregated_parameters...\n"
     ]
    },
    {
     "name": "stderr",
     "output_type": "stream",
     "text": [
      "DEBUG flwr 2023-08-29 12:18:12,903 | server.py:187 | evaluate_round 2 received 2 results and 0 failures\n",
      "DEBUG flwr 2023-08-29 12:18:12,906 | server.py:222 | fit_round 3: strategy sampled 2 clients (out of 5)\n"
     ]
    },
    {
     "name": "stdout",
     "output_type": "stream",
     "text": [
      "agrregate_evaluate results list length is  2\n",
      "server round is  2\n",
      "loss is  7.027624309392265\n"
     ]
    },
    {
     "name": "stderr",
     "output_type": "stream",
     "text": [
      "DEBUG flwr 2023-08-29 12:18:22,776 | server.py:236 | fit_round 3 received 2 results and 0 failures\n",
      "DEBUG flwr 2023-08-29 12:18:22,879 | server.py:173 | evaluate_round 3: strategy sampled 2 clients (out of 5)\n"
     ]
    },
    {
     "name": "stdout",
     "output_type": "stream",
     "text": [
      "agrregate_fit results list length is  2\n",
      "Saving round 3 aggregated_parameters...\n"
     ]
    },
    {
     "name": "stderr",
     "output_type": "stream",
     "text": [
      "DEBUG flwr 2023-08-29 12:18:23,185 | server.py:187 | evaluate_round 3 received 2 results and 0 failures\n",
      "DEBUG flwr 2023-08-29 12:18:23,186 | server.py:222 | fit_round 4: strategy sampled 2 clients (out of 5)\n"
     ]
    },
    {
     "name": "stdout",
     "output_type": "stream",
     "text": [
      "agrregate_evaluate results list length is  2\n",
      "server round is  3\n",
      "loss is  2.657458563535912\n"
     ]
    },
    {
     "name": "stderr",
     "output_type": "stream",
     "text": [
      "DEBUG flwr 2023-08-29 12:18:29,945 | server.py:236 | fit_round 4 received 2 results and 0 failures\n",
      "DEBUG flwr 2023-08-29 12:18:30,032 | server.py:173 | evaluate_round 4: strategy sampled 2 clients (out of 5)\n"
     ]
    },
    {
     "name": "stdout",
     "output_type": "stream",
     "text": [
      "agrregate_fit results list length is  2\n",
      "Saving round 4 aggregated_parameters...\n"
     ]
    },
    {
     "name": "stderr",
     "output_type": "stream",
     "text": [
      "DEBUG flwr 2023-08-29 12:18:30,320 | server.py:187 | evaluate_round 4 received 2 results and 0 failures\n",
      "DEBUG flwr 2023-08-29 12:18:30,321 | server.py:222 | fit_round 5: strategy sampled 2 clients (out of 5)\n"
     ]
    },
    {
     "name": "stdout",
     "output_type": "stream",
     "text": [
      "agrregate_evaluate results list length is  2\n",
      "server round is  4\n",
      "loss is  1.3093922651933703\n"
     ]
    },
    {
     "name": "stderr",
     "output_type": "stream",
     "text": [
      "DEBUG flwr 2023-08-29 12:18:38,281 | server.py:236 | fit_round 5 received 2 results and 0 failures\n",
      "DEBUG flwr 2023-08-29 12:18:38,364 | server.py:173 | evaluate_round 5: strategy sampled 2 clients (out of 5)\n"
     ]
    },
    {
     "name": "stdout",
     "output_type": "stream",
     "text": [
      "agrregate_fit results list length is  2\n",
      "Saving round 5 aggregated_parameters...\n"
     ]
    },
    {
     "name": "stderr",
     "output_type": "stream",
     "text": [
      "DEBUG flwr 2023-08-29 12:18:38,669 | server.py:187 | evaluate_round 5 received 2 results and 0 failures\n",
      "DEBUG flwr 2023-08-29 12:18:38,671 | server.py:222 | fit_round 6: strategy sampled 2 clients (out of 5)\n"
     ]
    },
    {
     "name": "stdout",
     "output_type": "stream",
     "text": [
      "agrregate_evaluate results list length is  2\n",
      "server round is  5\n",
      "loss is  1.022099447513812\n"
     ]
    },
    {
     "name": "stderr",
     "output_type": "stream",
     "text": [
      "DEBUG flwr 2023-08-29 12:18:46,785 | server.py:236 | fit_round 6 received 2 results and 0 failures\n",
      "DEBUG flwr 2023-08-29 12:18:46,877 | server.py:173 | evaluate_round 6: strategy sampled 2 clients (out of 5)\n"
     ]
    },
    {
     "name": "stdout",
     "output_type": "stream",
     "text": [
      "agrregate_fit results list length is  2\n",
      "Saving round 6 aggregated_parameters...\n"
     ]
    },
    {
     "name": "stderr",
     "output_type": "stream",
     "text": [
      "DEBUG flwr 2023-08-29 12:18:47,342 | server.py:187 | evaluate_round 6 received 2 results and 0 failures\n",
      "DEBUG flwr 2023-08-29 12:18:47,344 | server.py:222 | fit_round 7: strategy sampled 2 clients (out of 5)\n"
     ]
    },
    {
     "name": "stdout",
     "output_type": "stream",
     "text": [
      "agrregate_evaluate results list length is  2\n",
      "server round is  6\n",
      "loss is  0.9447513812154696\n"
     ]
    },
    {
     "name": "stderr",
     "output_type": "stream",
     "text": [
      "DEBUG flwr 2023-08-29 12:18:55,611 | server.py:236 | fit_round 7 received 2 results and 0 failures\n",
      "DEBUG flwr 2023-08-29 12:18:55,711 | server.py:173 | evaluate_round 7: strategy sampled 2 clients (out of 5)\n"
     ]
    },
    {
     "name": "stdout",
     "output_type": "stream",
     "text": [
      "agrregate_fit results list length is  2\n",
      "Saving round 7 aggregated_parameters...\n"
     ]
    },
    {
     "name": "stderr",
     "output_type": "stream",
     "text": [
      "DEBUG flwr 2023-08-29 12:18:56,017 | server.py:187 | evaluate_round 7 received 2 results and 0 failures\n",
      "DEBUG flwr 2023-08-29 12:18:56,018 | server.py:222 | fit_round 8: strategy sampled 2 clients (out of 5)\n"
     ]
    },
    {
     "name": "stdout",
     "output_type": "stream",
     "text": [
      "agrregate_evaluate results list length is  2\n",
      "server round is  7\n",
      "loss is  0.9613259668508287\n"
     ]
    },
    {
     "name": "stderr",
     "output_type": "stream",
     "text": [
      "DEBUG flwr 2023-08-29 12:19:04,072 | server.py:236 | fit_round 8 received 2 results and 0 failures\n",
      "DEBUG flwr 2023-08-29 12:19:04,177 | server.py:173 | evaluate_round 8: strategy sampled 2 clients (out of 5)\n"
     ]
    },
    {
     "name": "stdout",
     "output_type": "stream",
     "text": [
      "agrregate_fit results list length is  2\n",
      "Saving round 8 aggregated_parameters...\n"
     ]
    },
    {
     "name": "stderr",
     "output_type": "stream",
     "text": [
      "DEBUG flwr 2023-08-29 12:19:04,548 | server.py:187 | evaluate_round 8 received 2 results and 0 failures\n",
      "DEBUG flwr 2023-08-29 12:19:04,550 | server.py:222 | fit_round 9: strategy sampled 2 clients (out of 5)\n"
     ]
    },
    {
     "name": "stdout",
     "output_type": "stream",
     "text": [
      "agrregate_evaluate results list length is  2\n",
      "server round is  8\n",
      "loss is  0.850828729281768\n"
     ]
    },
    {
     "name": "stderr",
     "output_type": "stream",
     "text": [
      "DEBUG flwr 2023-08-29 12:19:11,044 | server.py:236 | fit_round 9 received 2 results and 0 failures\n",
      "DEBUG flwr 2023-08-29 12:19:11,114 | server.py:173 | evaluate_round 9: strategy sampled 2 clients (out of 5)\n"
     ]
    },
    {
     "name": "stdout",
     "output_type": "stream",
     "text": [
      "agrregate_fit results list length is  2\n",
      "Saving round 9 aggregated_parameters...\n"
     ]
    },
    {
     "name": "stderr",
     "output_type": "stream",
     "text": [
      "DEBUG flwr 2023-08-29 12:19:11,411 | server.py:187 | evaluate_round 9 received 2 results and 0 failures\n",
      "DEBUG flwr 2023-08-29 12:19:11,412 | server.py:222 | fit_round 10: strategy sampled 2 clients (out of 5)\n"
     ]
    },
    {
     "name": "stdout",
     "output_type": "stream",
     "text": [
      "agrregate_evaluate results list length is  2\n",
      "server round is  9\n",
      "loss is  0.8121546961325967\n"
     ]
    },
    {
     "name": "stderr",
     "output_type": "stream",
     "text": [
      "DEBUG flwr 2023-08-29 12:19:18,182 | server.py:236 | fit_round 10 received 2 results and 0 failures\n",
      "DEBUG flwr 2023-08-29 12:19:18,277 | server.py:173 | evaluate_round 10: strategy sampled 2 clients (out of 5)\n"
     ]
    },
    {
     "name": "stdout",
     "output_type": "stream",
     "text": [
      "agrregate_fit results list length is  2\n",
      "Saving round 10 aggregated_parameters...\n"
     ]
    },
    {
     "name": "stderr",
     "output_type": "stream",
     "text": [
      "DEBUG flwr 2023-08-29 12:19:18,634 | server.py:187 | evaluate_round 10 received 2 results and 0 failures\n",
      "DEBUG flwr 2023-08-29 12:19:18,636 | server.py:222 | fit_round 11: strategy sampled 2 clients (out of 5)\n"
     ]
    },
    {
     "name": "stdout",
     "output_type": "stream",
     "text": [
      "agrregate_evaluate results list length is  2\n",
      "server round is  10\n",
      "loss is  0.8342541436464088\n"
     ]
    },
    {
     "name": "stderr",
     "output_type": "stream",
     "text": [
      "DEBUG flwr 2023-08-29 12:19:26,536 | server.py:236 | fit_round 11 received 2 results and 0 failures\n",
      "DEBUG flwr 2023-08-29 12:19:26,616 | server.py:173 | evaluate_round 11: strategy sampled 2 clients (out of 5)\n"
     ]
    },
    {
     "name": "stdout",
     "output_type": "stream",
     "text": [
      "agrregate_fit results list length is  2\n",
      "Saving round 11 aggregated_parameters...\n"
     ]
    },
    {
     "name": "stderr",
     "output_type": "stream",
     "text": [
      "DEBUG flwr 2023-08-29 12:19:26,897 | server.py:187 | evaluate_round 11 received 2 results and 0 failures\n",
      "DEBUG flwr 2023-08-29 12:19:26,899 | server.py:222 | fit_round 12: strategy sampled 2 clients (out of 5)\n"
     ]
    },
    {
     "name": "stdout",
     "output_type": "stream",
     "text": [
      "agrregate_evaluate results list length is  2\n",
      "server round is  11\n",
      "loss is  0.7734806629834254\n"
     ]
    },
    {
     "name": "stderr",
     "output_type": "stream",
     "text": [
      "DEBUG flwr 2023-08-29 12:19:34,334 | server.py:236 | fit_round 12 received 2 results and 0 failures\n",
      "DEBUG flwr 2023-08-29 12:19:34,539 | server.py:173 | evaluate_round 12: strategy sampled 2 clients (out of 5)\n"
     ]
    },
    {
     "name": "stdout",
     "output_type": "stream",
     "text": [
      "agrregate_fit results list length is  2\n",
      "Saving round 12 aggregated_parameters...\n"
     ]
    },
    {
     "name": "stderr",
     "output_type": "stream",
     "text": [
      "DEBUG flwr 2023-08-29 12:19:34,882 | server.py:187 | evaluate_round 12 received 2 results and 0 failures\n",
      "DEBUG flwr 2023-08-29 12:19:34,883 | server.py:222 | fit_round 13: strategy sampled 2 clients (out of 5)\n"
     ]
    },
    {
     "name": "stdout",
     "output_type": "stream",
     "text": [
      "agrregate_evaluate results list length is  2\n",
      "server round is  12\n",
      "loss is  0.7403314917127072\n"
     ]
    },
    {
     "name": "stderr",
     "output_type": "stream",
     "text": [
      "DEBUG flwr 2023-08-29 12:19:42,962 | server.py:236 | fit_round 13 received 2 results and 0 failures\n",
      "DEBUG flwr 2023-08-29 12:19:43,054 | server.py:173 | evaluate_round 13: strategy sampled 2 clients (out of 5)\n"
     ]
    },
    {
     "name": "stdout",
     "output_type": "stream",
     "text": [
      "agrregate_fit results list length is  2\n",
      "Saving round 13 aggregated_parameters...\n"
     ]
    },
    {
     "name": "stderr",
     "output_type": "stream",
     "text": [
      "DEBUG flwr 2023-08-29 12:19:43,349 | server.py:187 | evaluate_round 13 received 2 results and 0 failures\n",
      "DEBUG flwr 2023-08-29 12:19:43,351 | server.py:222 | fit_round 14: strategy sampled 2 clients (out of 5)\n"
     ]
    },
    {
     "name": "stdout",
     "output_type": "stream",
     "text": [
      "agrregate_evaluate results list length is  2\n",
      "server round is  13\n",
      "loss is  0.6850828729281768\n"
     ]
    },
    {
     "name": "stderr",
     "output_type": "stream",
     "text": [
      "DEBUG flwr 2023-08-29 12:19:50,118 | server.py:236 | fit_round 14 received 2 results and 0 failures\n",
      "DEBUG flwr 2023-08-29 12:19:50,211 | server.py:173 | evaluate_round 14: strategy sampled 2 clients (out of 5)\n"
     ]
    },
    {
     "name": "stdout",
     "output_type": "stream",
     "text": [
      "agrregate_fit results list length is  2\n",
      "Saving round 14 aggregated_parameters...\n"
     ]
    },
    {
     "name": "stderr",
     "output_type": "stream",
     "text": [
      "DEBUG flwr 2023-08-29 12:19:50,505 | server.py:187 | evaluate_round 14 received 2 results and 0 failures\n",
      "DEBUG flwr 2023-08-29 12:19:50,507 | server.py:222 | fit_round 15: strategy sampled 2 clients (out of 5)\n"
     ]
    },
    {
     "name": "stdout",
     "output_type": "stream",
     "text": [
      "agrregate_evaluate results list length is  2\n",
      "server round is  14\n",
      "loss is  0.712707182320442\n"
     ]
    },
    {
     "name": "stderr",
     "output_type": "stream",
     "text": [
      "DEBUG flwr 2023-08-29 12:19:56,898 | server.py:236 | fit_round 15 received 2 results and 0 failures\n",
      "DEBUG flwr 2023-08-29 12:19:56,989 | server.py:173 | evaluate_round 15: strategy sampled 2 clients (out of 5)\n"
     ]
    },
    {
     "name": "stdout",
     "output_type": "stream",
     "text": [
      "agrregate_fit results list length is  2\n",
      "Saving round 15 aggregated_parameters...\n"
     ]
    },
    {
     "name": "stderr",
     "output_type": "stream",
     "text": [
      "DEBUG flwr 2023-08-29 12:19:57,287 | server.py:187 | evaluate_round 15 received 2 results and 0 failures\n",
      "DEBUG flwr 2023-08-29 12:19:57,289 | server.py:222 | fit_round 16: strategy sampled 2 clients (out of 5)\n"
     ]
    },
    {
     "name": "stdout",
     "output_type": "stream",
     "text": [
      "agrregate_evaluate results list length is  2\n",
      "server round is  15\n",
      "loss is  0.5580110497237569\n"
     ]
    },
    {
     "name": "stderr",
     "output_type": "stream",
     "text": [
      "DEBUG flwr 2023-08-29 12:20:03,915 | server.py:236 | fit_round 16 received 2 results and 0 failures\n",
      "DEBUG flwr 2023-08-29 12:20:03,984 | server.py:173 | evaluate_round 16: strategy sampled 2 clients (out of 5)\n"
     ]
    },
    {
     "name": "stdout",
     "output_type": "stream",
     "text": [
      "agrregate_fit results list length is  2\n",
      "Saving round 16 aggregated_parameters...\n"
     ]
    },
    {
     "name": "stderr",
     "output_type": "stream",
     "text": [
      "DEBUG flwr 2023-08-29 12:20:04,252 | server.py:187 | evaluate_round 16 received 2 results and 0 failures\n",
      "DEBUG flwr 2023-08-29 12:20:04,253 | server.py:222 | fit_round 17: strategy sampled 2 clients (out of 5)\n"
     ]
    },
    {
     "name": "stdout",
     "output_type": "stream",
     "text": [
      "agrregate_evaluate results list length is  2\n",
      "server round is  16\n",
      "loss is  0.5469613259668509\n"
     ]
    },
    {
     "name": "stderr",
     "output_type": "stream",
     "text": [
      "DEBUG flwr 2023-08-29 12:20:10,627 | server.py:236 | fit_round 17 received 2 results and 0 failures\n",
      "DEBUG flwr 2023-08-29 12:20:10,724 | server.py:173 | evaluate_round 17: strategy sampled 2 clients (out of 5)\n"
     ]
    },
    {
     "name": "stdout",
     "output_type": "stream",
     "text": [
      "agrregate_fit results list length is  2\n",
      "Saving round 17 aggregated_parameters...\n"
     ]
    },
    {
     "name": "stderr",
     "output_type": "stream",
     "text": [
      "DEBUG flwr 2023-08-29 12:20:11,064 | server.py:187 | evaluate_round 17 received 2 results and 0 failures\n",
      "DEBUG flwr 2023-08-29 12:20:11,066 | server.py:222 | fit_round 18: strategy sampled 2 clients (out of 5)\n"
     ]
    },
    {
     "name": "stdout",
     "output_type": "stream",
     "text": [
      "agrregate_evaluate results list length is  2\n",
      "server round is  17\n",
      "loss is  0.7569060773480663\n"
     ]
    },
    {
     "name": "stderr",
     "output_type": "stream",
     "text": [
      "DEBUG flwr 2023-08-29 12:20:17,685 | server.py:236 | fit_round 18 received 2 results and 0 failures\n",
      "DEBUG flwr 2023-08-29 12:20:17,830 | server.py:173 | evaluate_round 18: strategy sampled 2 clients (out of 5)\n"
     ]
    },
    {
     "name": "stdout",
     "output_type": "stream",
     "text": [
      "agrregate_fit results list length is  2\n",
      "Saving round 18 aggregated_parameters...\n"
     ]
    },
    {
     "name": "stderr",
     "output_type": "stream",
     "text": [
      "DEBUG flwr 2023-08-29 12:20:18,167 | server.py:187 | evaluate_round 18 received 2 results and 0 failures\n",
      "DEBUG flwr 2023-08-29 12:20:18,169 | server.py:222 | fit_round 19: strategy sampled 2 clients (out of 5)\n"
     ]
    },
    {
     "name": "stdout",
     "output_type": "stream",
     "text": [
      "agrregate_evaluate results list length is  2\n",
      "server round is  18\n",
      "loss is  0.8397790055248618\n"
     ]
    },
    {
     "name": "stderr",
     "output_type": "stream",
     "text": [
      "DEBUG flwr 2023-08-29 12:20:24,963 | server.py:236 | fit_round 19 received 2 results and 0 failures\n",
      "DEBUG flwr 2023-08-29 12:20:25,046 | server.py:173 | evaluate_round 19: strategy sampled 2 clients (out of 5)\n"
     ]
    },
    {
     "name": "stdout",
     "output_type": "stream",
     "text": [
      "agrregate_fit results list length is  2\n",
      "Saving round 19 aggregated_parameters...\n"
     ]
    },
    {
     "name": "stderr",
     "output_type": "stream",
     "text": [
      "DEBUG flwr 2023-08-29 12:20:25,318 | server.py:187 | evaluate_round 19 received 2 results and 0 failures\n",
      "DEBUG flwr 2023-08-29 12:20:25,319 | server.py:222 | fit_round 20: strategy sampled 2 clients (out of 5)\n"
     ]
    },
    {
     "name": "stdout",
     "output_type": "stream",
     "text": [
      "agrregate_evaluate results list length is  2\n",
      "server round is  19\n",
      "loss is  0.6629834254143646\n"
     ]
    },
    {
     "name": "stderr",
     "output_type": "stream",
     "text": [
      "DEBUG flwr 2023-08-29 12:20:32,058 | server.py:236 | fit_round 20 received 2 results and 0 failures\n",
      "DEBUG flwr 2023-08-29 12:20:32,143 | server.py:173 | evaluate_round 20: strategy sampled 2 clients (out of 5)\n"
     ]
    },
    {
     "name": "stdout",
     "output_type": "stream",
     "text": [
      "agrregate_fit results list length is  2\n",
      "Saving round 20 aggregated_parameters...\n"
     ]
    },
    {
     "name": "stderr",
     "output_type": "stream",
     "text": [
      "DEBUG flwr 2023-08-29 12:20:32,438 | server.py:187 | evaluate_round 20 received 2 results and 0 failures\n",
      "DEBUG flwr 2023-08-29 12:20:32,439 | server.py:222 | fit_round 21: strategy sampled 2 clients (out of 5)\n"
     ]
    },
    {
     "name": "stdout",
     "output_type": "stream",
     "text": [
      "agrregate_evaluate results list length is  2\n",
      "server round is  20\n",
      "loss is  0.6795580110497238\n"
     ]
    },
    {
     "name": "stderr",
     "output_type": "stream",
     "text": [
      "DEBUG flwr 2023-08-29 12:20:39,285 | server.py:236 | fit_round 21 received 2 results and 0 failures\n",
      "DEBUG flwr 2023-08-29 12:20:39,363 | server.py:173 | evaluate_round 21: strategy sampled 2 clients (out of 5)\n"
     ]
    },
    {
     "name": "stdout",
     "output_type": "stream",
     "text": [
      "agrregate_fit results list length is  2\n",
      "Saving round 21 aggregated_parameters...\n"
     ]
    },
    {
     "name": "stderr",
     "output_type": "stream",
     "text": [
      "DEBUG flwr 2023-08-29 12:20:39,620 | server.py:187 | evaluate_round 21 received 2 results and 0 failures\n",
      "DEBUG flwr 2023-08-29 12:20:39,621 | server.py:222 | fit_round 22: strategy sampled 2 clients (out of 5)\n"
     ]
    },
    {
     "name": "stdout",
     "output_type": "stream",
     "text": [
      "agrregate_evaluate results list length is  2\n",
      "server round is  21\n",
      "loss is  0.6298342541436464\n"
     ]
    },
    {
     "name": "stderr",
     "output_type": "stream",
     "text": [
      "DEBUG flwr 2023-08-29 12:20:46,413 | server.py:236 | fit_round 22 received 2 results and 0 failures\n",
      "DEBUG flwr 2023-08-29 12:20:46,501 | server.py:173 | evaluate_round 22: strategy sampled 2 clients (out of 5)\n"
     ]
    },
    {
     "name": "stdout",
     "output_type": "stream",
     "text": [
      "agrregate_fit results list length is  2\n",
      "Saving round 22 aggregated_parameters...\n"
     ]
    },
    {
     "name": "stderr",
     "output_type": "stream",
     "text": [
      "DEBUG flwr 2023-08-29 12:20:46,795 | server.py:187 | evaluate_round 22 received 2 results and 0 failures\n",
      "DEBUG flwr 2023-08-29 12:20:46,798 | server.py:222 | fit_round 23: strategy sampled 2 clients (out of 5)\n"
     ]
    },
    {
     "name": "stdout",
     "output_type": "stream",
     "text": [
      "agrregate_evaluate results list length is  2\n",
      "server round is  22\n",
      "loss is  0.5082872928176796\n"
     ]
    },
    {
     "name": "stderr",
     "output_type": "stream",
     "text": [
      "DEBUG flwr 2023-08-29 12:20:55,274 | server.py:236 | fit_round 23 received 2 results and 0 failures\n",
      "DEBUG flwr 2023-08-29 12:20:55,385 | server.py:173 | evaluate_round 23: strategy sampled 2 clients (out of 5)\n"
     ]
    },
    {
     "name": "stdout",
     "output_type": "stream",
     "text": [
      "agrregate_fit results list length is  2\n",
      "Saving round 23 aggregated_parameters...\n"
     ]
    },
    {
     "name": "stderr",
     "output_type": "stream",
     "text": [
      "DEBUG flwr 2023-08-29 12:20:55,690 | server.py:187 | evaluate_round 23 received 2 results and 0 failures\n",
      "DEBUG flwr 2023-08-29 12:20:55,692 | server.py:222 | fit_round 24: strategy sampled 2 clients (out of 5)\n"
     ]
    },
    {
     "name": "stdout",
     "output_type": "stream",
     "text": [
      "agrregate_evaluate results list length is  2\n",
      "server round is  23\n",
      "loss is  0.6906077348066298\n"
     ]
    },
    {
     "name": "stderr",
     "output_type": "stream",
     "text": [
      "DEBUG flwr 2023-08-29 12:21:02,492 | server.py:236 | fit_round 24 received 2 results and 0 failures\n",
      "DEBUG flwr 2023-08-29 12:21:02,568 | server.py:173 | evaluate_round 24: strategy sampled 2 clients (out of 5)\n"
     ]
    },
    {
     "name": "stdout",
     "output_type": "stream",
     "text": [
      "agrregate_fit results list length is  2\n",
      "Saving round 24 aggregated_parameters...\n"
     ]
    },
    {
     "name": "stderr",
     "output_type": "stream",
     "text": [
      "DEBUG flwr 2023-08-29 12:21:02,844 | server.py:187 | evaluate_round 24 received 2 results and 0 failures\n",
      "DEBUG flwr 2023-08-29 12:21:02,846 | server.py:222 | fit_round 25: strategy sampled 2 clients (out of 5)\n"
     ]
    },
    {
     "name": "stdout",
     "output_type": "stream",
     "text": [
      "agrregate_evaluate results list length is  2\n",
      "server round is  24\n",
      "loss is  0.6132596685082873\n"
     ]
    },
    {
     "name": "stderr",
     "output_type": "stream",
     "text": [
      "DEBUG flwr 2023-08-29 12:21:11,086 | server.py:236 | fit_round 25 received 2 results and 0 failures\n",
      "DEBUG flwr 2023-08-29 12:21:11,249 | server.py:173 | evaluate_round 25: strategy sampled 2 clients (out of 5)\n"
     ]
    },
    {
     "name": "stdout",
     "output_type": "stream",
     "text": [
      "agrregate_fit results list length is  2\n",
      "Saving round 25 aggregated_parameters...\n"
     ]
    },
    {
     "name": "stderr",
     "output_type": "stream",
     "text": [
      "DEBUG flwr 2023-08-29 12:21:11,537 | server.py:187 | evaluate_round 25 received 2 results and 0 failures\n",
      "DEBUG flwr 2023-08-29 12:21:11,539 | server.py:222 | fit_round 26: strategy sampled 2 clients (out of 5)\n"
     ]
    },
    {
     "name": "stdout",
     "output_type": "stream",
     "text": [
      "agrregate_evaluate results list length is  2\n",
      "server round is  25\n",
      "loss is  0.6187845303867403\n"
     ]
    },
    {
     "name": "stderr",
     "output_type": "stream",
     "text": [
      "DEBUG flwr 2023-08-29 12:21:20,013 | server.py:236 | fit_round 26 received 2 results and 0 failures\n",
      "DEBUG flwr 2023-08-29 12:21:20,209 | server.py:173 | evaluate_round 26: strategy sampled 2 clients (out of 5)\n"
     ]
    },
    {
     "name": "stdout",
     "output_type": "stream",
     "text": [
      "agrregate_fit results list length is  2\n",
      "Saving round 26 aggregated_parameters...\n"
     ]
    },
    {
     "name": "stderr",
     "output_type": "stream",
     "text": [
      "DEBUG flwr 2023-08-29 12:21:20,523 | server.py:187 | evaluate_round 26 received 2 results and 0 failures\n",
      "DEBUG flwr 2023-08-29 12:21:20,525 | server.py:222 | fit_round 27: strategy sampled 2 clients (out of 5)\n"
     ]
    },
    {
     "name": "stdout",
     "output_type": "stream",
     "text": [
      "agrregate_evaluate results list length is  2\n",
      "server round is  26\n",
      "loss is  0.5248618784530387\n"
     ]
    },
    {
     "name": "stderr",
     "output_type": "stream",
     "text": [
      "DEBUG flwr 2023-08-29 12:21:28,824 | server.py:236 | fit_round 27 received 2 results and 0 failures\n",
      "DEBUG flwr 2023-08-29 12:21:28,910 | server.py:173 | evaluate_round 27: strategy sampled 2 clients (out of 5)\n"
     ]
    },
    {
     "name": "stdout",
     "output_type": "stream",
     "text": [
      "agrregate_fit results list length is  2\n",
      "Saving round 27 aggregated_parameters...\n"
     ]
    },
    {
     "name": "stderr",
     "output_type": "stream",
     "text": [
      "DEBUG flwr 2023-08-29 12:21:29,165 | server.py:187 | evaluate_round 27 received 2 results and 0 failures\n",
      "DEBUG flwr 2023-08-29 12:21:29,167 | server.py:222 | fit_round 28: strategy sampled 2 clients (out of 5)\n"
     ]
    },
    {
     "name": "stdout",
     "output_type": "stream",
     "text": [
      "agrregate_evaluate results list length is  2\n",
      "server round is  27\n",
      "loss is  0.48066298342541436\n"
     ]
    },
    {
     "name": "stderr",
     "output_type": "stream",
     "text": [
      "DEBUG flwr 2023-08-29 12:21:36,604 | server.py:236 | fit_round 28 received 2 results and 0 failures\n",
      "DEBUG flwr 2023-08-29 12:21:36,706 | server.py:173 | evaluate_round 28: strategy sampled 2 clients (out of 5)\n"
     ]
    },
    {
     "name": "stdout",
     "output_type": "stream",
     "text": [
      "agrregate_fit results list length is  2\n",
      "Saving round 28 aggregated_parameters...\n"
     ]
    },
    {
     "name": "stderr",
     "output_type": "stream",
     "text": [
      "DEBUG flwr 2023-08-29 12:21:36,994 | server.py:187 | evaluate_round 28 received 2 results and 0 failures\n",
      "DEBUG flwr 2023-08-29 12:21:36,996 | server.py:222 | fit_round 29: strategy sampled 2 clients (out of 5)\n"
     ]
    },
    {
     "name": "stdout",
     "output_type": "stream",
     "text": [
      "agrregate_evaluate results list length is  2\n",
      "server round is  28\n",
      "loss is  0.5027624309392266\n"
     ]
    },
    {
     "name": "stderr",
     "output_type": "stream",
     "text": [
      "DEBUG flwr 2023-08-29 12:21:44,564 | server.py:236 | fit_round 29 received 2 results and 0 failures\n",
      "DEBUG flwr 2023-08-29 12:21:44,635 | server.py:173 | evaluate_round 29: strategy sampled 2 clients (out of 5)\n"
     ]
    },
    {
     "name": "stdout",
     "output_type": "stream",
     "text": [
      "agrregate_fit results list length is  2\n",
      "Saving round 29 aggregated_parameters...\n"
     ]
    },
    {
     "name": "stderr",
     "output_type": "stream",
     "text": [
      "DEBUG flwr 2023-08-29 12:21:44,891 | server.py:187 | evaluate_round 29 received 2 results and 0 failures\n",
      "DEBUG flwr 2023-08-29 12:21:44,893 | server.py:222 | fit_round 30: strategy sampled 2 clients (out of 5)\n"
     ]
    },
    {
     "name": "stdout",
     "output_type": "stream",
     "text": [
      "agrregate_evaluate results list length is  2\n",
      "server round is  29\n",
      "loss is  0.48066298342541436\n"
     ]
    },
    {
     "name": "stderr",
     "output_type": "stream",
     "text": [
      "DEBUG flwr 2023-08-29 12:21:52,078 | server.py:236 | fit_round 30 received 2 results and 0 failures\n"
     ]
    },
    {
     "name": "stdout",
     "output_type": "stream",
     "text": [
      "agrregate_fit results list length is  2\n",
      "Saving round 30 aggregated_parameters...\n"
     ]
    },
    {
     "name": "stderr",
     "output_type": "stream",
     "text": [
      "DEBUG flwr 2023-08-29 12:21:52,310 | server.py:173 | evaluate_round 30: strategy sampled 2 clients (out of 5)\n",
      "DEBUG flwr 2023-08-29 12:21:52,749 | server.py:187 | evaluate_round 30 received 2 results and 0 failures\n",
      "DEBUG flwr 2023-08-29 12:21:52,752 | server.py:222 | fit_round 31: strategy sampled 2 clients (out of 5)\n"
     ]
    },
    {
     "name": "stdout",
     "output_type": "stream",
     "text": [
      "agrregate_evaluate results list length is  2\n",
      "server round is  30\n",
      "loss is  0.5138121546961326\n"
     ]
    },
    {
     "name": "stderr",
     "output_type": "stream",
     "text": [
      "DEBUG flwr 2023-08-29 12:22:01,114 | server.py:236 | fit_round 31 received 2 results and 0 failures\n",
      "DEBUG flwr 2023-08-29 12:22:01,188 | server.py:173 | evaluate_round 31: strategy sampled 2 clients (out of 5)\n"
     ]
    },
    {
     "name": "stdout",
     "output_type": "stream",
     "text": [
      "agrregate_fit results list length is  2\n",
      "Saving round 31 aggregated_parameters...\n"
     ]
    },
    {
     "name": "stderr",
     "output_type": "stream",
     "text": [
      "DEBUG flwr 2023-08-29 12:22:01,421 | server.py:187 | evaluate_round 31 received 2 results and 0 failures\n",
      "DEBUG flwr 2023-08-29 12:22:01,423 | server.py:222 | fit_round 32: strategy sampled 2 clients (out of 5)\n"
     ]
    },
    {
     "name": "stdout",
     "output_type": "stream",
     "text": [
      "agrregate_evaluate results list length is  2\n",
      "server round is  31\n",
      "loss is  0.5359116022099447\n"
     ]
    },
    {
     "name": "stderr",
     "output_type": "stream",
     "text": [
      "DEBUG flwr 2023-08-29 12:22:08,504 | server.py:236 | fit_round 32 received 2 results and 0 failures\n",
      "DEBUG flwr 2023-08-29 12:22:08,588 | server.py:173 | evaluate_round 32: strategy sampled 2 clients (out of 5)\n"
     ]
    },
    {
     "name": "stdout",
     "output_type": "stream",
     "text": [
      "agrregate_fit results list length is  2\n",
      "Saving round 32 aggregated_parameters...\n"
     ]
    },
    {
     "name": "stderr",
     "output_type": "stream",
     "text": [
      "DEBUG flwr 2023-08-29 12:22:08,842 | server.py:187 | evaluate_round 32 received 2 results and 0 failures\n",
      "DEBUG flwr 2023-08-29 12:22:08,843 | server.py:222 | fit_round 33: strategy sampled 2 clients (out of 5)\n"
     ]
    },
    {
     "name": "stdout",
     "output_type": "stream",
     "text": [
      "agrregate_evaluate results list length is  2\n",
      "server round is  32\n",
      "loss is  0.43646408839779005\n"
     ]
    },
    {
     "name": "stderr",
     "output_type": "stream",
     "text": [
      "DEBUG flwr 2023-08-29 12:22:15,700 | server.py:236 | fit_round 33 received 2 results and 0 failures\n",
      "DEBUG flwr 2023-08-29 12:22:15,769 | server.py:173 | evaluate_round 33: strategy sampled 2 clients (out of 5)\n"
     ]
    },
    {
     "name": "stdout",
     "output_type": "stream",
     "text": [
      "agrregate_fit results list length is  2\n",
      "Saving round 33 aggregated_parameters...\n"
     ]
    },
    {
     "name": "stderr",
     "output_type": "stream",
     "text": [
      "DEBUG flwr 2023-08-29 12:22:16,004 | server.py:187 | evaluate_round 33 received 2 results and 0 failures\n",
      "DEBUG flwr 2023-08-29 12:22:16,005 | server.py:222 | fit_round 34: strategy sampled 2 clients (out of 5)\n"
     ]
    },
    {
     "name": "stdout",
     "output_type": "stream",
     "text": [
      "agrregate_evaluate results list length is  2\n",
      "server round is  33\n",
      "loss is  0.6022099447513812\n"
     ]
    },
    {
     "name": "stderr",
     "output_type": "stream",
     "text": [
      "DEBUG flwr 2023-08-29 12:22:22,603 | server.py:236 | fit_round 34 received 2 results and 0 failures\n",
      "DEBUG flwr 2023-08-29 12:22:22,673 | server.py:173 | evaluate_round 34: strategy sampled 2 clients (out of 5)\n"
     ]
    },
    {
     "name": "stdout",
     "output_type": "stream",
     "text": [
      "agrregate_fit results list length is  2\n",
      "Saving round 34 aggregated_parameters...\n"
     ]
    },
    {
     "name": "stderr",
     "output_type": "stream",
     "text": [
      "DEBUG flwr 2023-08-29 12:22:22,946 | server.py:187 | evaluate_round 34 received 2 results and 0 failures\n",
      "DEBUG flwr 2023-08-29 12:22:22,948 | server.py:222 | fit_round 35: strategy sampled 2 clients (out of 5)\n"
     ]
    },
    {
     "name": "stdout",
     "output_type": "stream",
     "text": [
      "agrregate_evaluate results list length is  2\n",
      "server round is  34\n",
      "loss is  0.5082872928176796\n"
     ]
    },
    {
     "name": "stderr",
     "output_type": "stream",
     "text": [
      "DEBUG flwr 2023-08-29 12:22:29,245 | server.py:236 | fit_round 35 received 2 results and 0 failures\n",
      "DEBUG flwr 2023-08-29 12:22:29,312 | server.py:173 | evaluate_round 35: strategy sampled 2 clients (out of 5)\n"
     ]
    },
    {
     "name": "stdout",
     "output_type": "stream",
     "text": [
      "agrregate_fit results list length is  2\n",
      "Saving round 35 aggregated_parameters...\n"
     ]
    },
    {
     "name": "stderr",
     "output_type": "stream",
     "text": [
      "DEBUG flwr 2023-08-29 12:22:29,577 | server.py:187 | evaluate_round 35 received 2 results and 0 failures\n",
      "DEBUG flwr 2023-08-29 12:22:29,578 | server.py:222 | fit_round 36: strategy sampled 2 clients (out of 5)\n"
     ]
    },
    {
     "name": "stdout",
     "output_type": "stream",
     "text": [
      "agrregate_evaluate results list length is  2\n",
      "server round is  35\n",
      "loss is  0.574585635359116\n"
     ]
    },
    {
     "name": "stderr",
     "output_type": "stream",
     "text": [
      "DEBUG flwr 2023-08-29 12:22:36,698 | server.py:236 | fit_round 36 received 2 results and 0 failures\n",
      "DEBUG flwr 2023-08-29 12:22:36,781 | server.py:173 | evaluate_round 36: strategy sampled 2 clients (out of 5)\n"
     ]
    },
    {
     "name": "stdout",
     "output_type": "stream",
     "text": [
      "agrregate_fit results list length is  2\n",
      "Saving round 36 aggregated_parameters...\n"
     ]
    },
    {
     "name": "stderr",
     "output_type": "stream",
     "text": [
      "DEBUG flwr 2023-08-29 12:22:37,045 | server.py:187 | evaluate_round 36 received 2 results and 0 failures\n",
      "DEBUG flwr 2023-08-29 12:22:37,047 | server.py:222 | fit_round 37: strategy sampled 2 clients (out of 5)\n"
     ]
    },
    {
     "name": "stdout",
     "output_type": "stream",
     "text": [
      "agrregate_evaluate results list length is  2\n",
      "server round is  36\n",
      "loss is  0.46408839779005523\n"
     ]
    },
    {
     "name": "stderr",
     "output_type": "stream",
     "text": [
      "DEBUG flwr 2023-08-29 12:22:43,609 | server.py:236 | fit_round 37 received 2 results and 0 failures\n",
      "DEBUG flwr 2023-08-29 12:22:43,677 | server.py:173 | evaluate_round 37: strategy sampled 2 clients (out of 5)\n"
     ]
    },
    {
     "name": "stdout",
     "output_type": "stream",
     "text": [
      "agrregate_fit results list length is  2\n",
      "Saving round 37 aggregated_parameters...\n"
     ]
    },
    {
     "name": "stderr",
     "output_type": "stream",
     "text": [
      "DEBUG flwr 2023-08-29 12:22:43,950 | server.py:187 | evaluate_round 37 received 2 results and 0 failures\n",
      "DEBUG flwr 2023-08-29 12:22:43,952 | server.py:222 | fit_round 38: strategy sampled 2 clients (out of 5)\n"
     ]
    },
    {
     "name": "stdout",
     "output_type": "stream",
     "text": [
      "agrregate_evaluate results list length is  2\n",
      "server round is  37\n",
      "loss is  0.5966850828729282\n"
     ]
    },
    {
     "name": "stderr",
     "output_type": "stream",
     "text": [
      "DEBUG flwr 2023-08-29 12:22:50,494 | server.py:236 | fit_round 38 received 2 results and 0 failures\n",
      "DEBUG flwr 2023-08-29 12:22:50,582 | server.py:173 | evaluate_round 38: strategy sampled 2 clients (out of 5)\n"
     ]
    },
    {
     "name": "stdout",
     "output_type": "stream",
     "text": [
      "agrregate_fit results list length is  2\n",
      "Saving round 38 aggregated_parameters...\n"
     ]
    },
    {
     "name": "stderr",
     "output_type": "stream",
     "text": [
      "DEBUG flwr 2023-08-29 12:22:50,864 | server.py:187 | evaluate_round 38 received 2 results and 0 failures\n",
      "DEBUG flwr 2023-08-29 12:22:50,866 | server.py:222 | fit_round 39: strategy sampled 2 clients (out of 5)\n"
     ]
    },
    {
     "name": "stdout",
     "output_type": "stream",
     "text": [
      "agrregate_evaluate results list length is  2\n",
      "server round is  38\n",
      "loss is  0.4530386740331492\n"
     ]
    },
    {
     "name": "stderr",
     "output_type": "stream",
     "text": [
      "DEBUG flwr 2023-08-29 12:22:57,528 | server.py:236 | fit_round 39 received 2 results and 0 failures\n",
      "DEBUG flwr 2023-08-29 12:22:57,600 | server.py:173 | evaluate_round 39: strategy sampled 2 clients (out of 5)\n"
     ]
    },
    {
     "name": "stdout",
     "output_type": "stream",
     "text": [
      "agrregate_fit results list length is  2\n",
      "Saving round 39 aggregated_parameters...\n"
     ]
    },
    {
     "name": "stderr",
     "output_type": "stream",
     "text": [
      "DEBUG flwr 2023-08-29 12:22:57,916 | server.py:187 | evaluate_round 39 received 2 results and 0 failures\n",
      "DEBUG flwr 2023-08-29 12:22:57,918 | server.py:222 | fit_round 40: strategy sampled 2 clients (out of 5)\n"
     ]
    },
    {
     "name": "stdout",
     "output_type": "stream",
     "text": [
      "agrregate_evaluate results list length is  2\n",
      "server round is  39\n",
      "loss is  0.580110497237569\n"
     ]
    },
    {
     "name": "stderr",
     "output_type": "stream",
     "text": [
      "DEBUG flwr 2023-08-29 12:23:04,312 | server.py:236 | fit_round 40 received 2 results and 0 failures\n",
      "DEBUG flwr 2023-08-29 12:23:04,380 | server.py:173 | evaluate_round 40: strategy sampled 2 clients (out of 5)\n"
     ]
    },
    {
     "name": "stdout",
     "output_type": "stream",
     "text": [
      "agrregate_fit results list length is  2\n",
      "Saving round 40 aggregated_parameters...\n"
     ]
    },
    {
     "name": "stderr",
     "output_type": "stream",
     "text": [
      "DEBUG flwr 2023-08-29 12:23:04,645 | server.py:187 | evaluate_round 40 received 2 results and 0 failures\n",
      "INFO flwr 2023-08-29 12:23:04,647 | server.py:153 | FL finished in 312.0725392000022\n",
      "INFO flwr 2023-08-29 12:23:04,650 | app.py:225 | app_fit: losses_distributed [(1, 10.276243093922652), (2, 7.027624309392265), (3, 2.657458563535912), (4, 1.3093922651933703), (5, 1.022099447513812), (6, 0.9447513812154696), (7, 0.9613259668508287), (8, 0.850828729281768), (9, 0.8121546961325967), (10, 0.8342541436464088), (11, 0.7734806629834254), (12, 0.7403314917127072), (13, 0.6850828729281768), (14, 0.712707182320442), (15, 0.5580110497237569), (16, 0.5469613259668509), (17, 0.7569060773480663), (18, 0.8397790055248618), (19, 0.6629834254143646), (20, 0.6795580110497238), (21, 0.6298342541436464), (22, 0.5082872928176796), (23, 0.6906077348066298), (24, 0.6132596685082873), (25, 0.6187845303867403), (26, 0.5248618784530387), (27, 0.48066298342541436), (28, 0.5027624309392266), (29, 0.48066298342541436), (30, 0.5138121546961326), (31, 0.5359116022099447), (32, 0.43646408839779005), (33, 0.6022099447513812), (34, 0.5082872928176796), (35, 0.574585635359116), (36, 0.46408839779005523), (37, 0.5966850828729282), (38, 0.4530386740331492), (39, 0.580110497237569), (40, 0.6850828729281768)]\n",
      "INFO flwr 2023-08-29 12:23:04,651 | app.py:226 | app_fit: metrics_distributed_fit {}\n",
      "INFO flwr 2023-08-29 12:23:04,652 | app.py:227 | app_fit: metrics_distributed {'mse': [(1, 20.552486187845304), (2, 14.05524861878453), (3, 5.314917127071824), (4, 2.6187845303867405), (5, 2.044198895027624), (6, 1.8895027624309393), (7, 1.9226519337016574), (8, 1.701657458563536), (9, 1.6243093922651934), (10, 1.6685082872928176), (11, 1.5469613259668509), (12, 1.4806629834254144), (13, 1.3701657458563536), (14, 1.425414364640884), (15, 1.1160220994475138), (16, 1.0939226519337018), (17, 1.5138121546961325), (18, 1.6795580110497237), (19, 1.3259668508287292), (20, 1.3591160220994476), (21, 1.2596685082872927), (22, 1.0165745856353592), (23, 1.3812154696132597), (24, 1.2265193370165746), (25, 1.2375690607734806), (26, 1.0497237569060773), (27, 0.9613259668508287), (28, 1.0055248618784531), (29, 0.9613259668508287), (30, 1.0276243093922652), (31, 1.0718232044198894), (32, 0.8729281767955801), (33, 1.2044198895027625), (34, 1.0165745856353592), (35, 1.149171270718232), (36, 0.9281767955801105), (37, 1.1933701657458564), (38, 0.9060773480662984), (39, 1.160220994475138), (40, 1.3701657458563536)]}\n",
      "INFO flwr 2023-08-29 12:23:04,653 | app.py:228 | app_fit: losses_centralized []\n",
      "INFO flwr 2023-08-29 12:23:04,653 | app.py:229 | app_fit: metrics_centralized {}\n"
     ]
    },
    {
     "name": "stdout",
     "output_type": "stream",
     "text": [
      "agrregate_evaluate results list length is  2\n",
      "server round is  40\n",
      "loss is  0.6850828729281768\n",
      "History (loss, distributed):\n",
      "\tround 1: 10.276243093922652\n",
      "\tround 2: 7.027624309392265\n",
      "\tround 3: 2.657458563535912\n",
      "\tround 4: 1.3093922651933703\n",
      "\tround 5: 1.022099447513812\n",
      "\tround 6: 0.9447513812154696\n",
      "\tround 7: 0.9613259668508287\n",
      "\tround 8: 0.850828729281768\n",
      "\tround 9: 0.8121546961325967\n",
      "\tround 10: 0.8342541436464088\n",
      "\tround 11: 0.7734806629834254\n",
      "\tround 12: 0.7403314917127072\n",
      "\tround 13: 0.6850828729281768\n",
      "\tround 14: 0.712707182320442\n",
      "\tround 15: 0.5580110497237569\n",
      "\tround 16: 0.5469613259668509\n",
      "\tround 17: 0.7569060773480663\n",
      "\tround 18: 0.8397790055248618\n",
      "\tround 19: 0.6629834254143646\n",
      "\tround 20: 0.6795580110497238\n",
      "\tround 21: 0.6298342541436464\n",
      "\tround 22: 0.5082872928176796\n",
      "\tround 23: 0.6906077348066298\n",
      "\tround 24: 0.6132596685082873\n",
      "\tround 25: 0.6187845303867403\n",
      "\tround 26: 0.5248618784530387\n",
      "\tround 27: 0.48066298342541436\n",
      "\tround 28: 0.5027624309392266\n",
      "\tround 29: 0.48066298342541436\n",
      "\tround 30: 0.5138121546961326\n",
      "\tround 31: 0.5359116022099447\n",
      "\tround 32: 0.43646408839779005\n",
      "\tround 33: 0.6022099447513812\n",
      "\tround 34: 0.5082872928176796\n",
      "\tround 35: 0.574585635359116\n",
      "\tround 36: 0.46408839779005523\n",
      "\tround 37: 0.5966850828729282\n",
      "\tround 38: 0.4530386740331492\n",
      "\tround 39: 0.580110497237569\n",
      "\tround 40: 0.6850828729281768\n",
      "History (metrics, distributed, evaluate):\n",
      "{'mse': [(1, 20.552486187845304), (2, 14.05524861878453), (3, 5.314917127071824), (4, 2.6187845303867405), (5, 2.044198895027624), (6, 1.8895027624309393), (7, 1.9226519337016574), (8, 1.701657458563536), (9, 1.6243093922651934), (10, 1.6685082872928176), (11, 1.5469613259668509), (12, 1.4806629834254144), (13, 1.3701657458563536), (14, 1.425414364640884), (15, 1.1160220994475138), (16, 1.0939226519337018), (17, 1.5138121546961325), (18, 1.6795580110497237), (19, 1.3259668508287292), (20, 1.3591160220994476), (21, 1.2596685082872927), (22, 1.0165745856353592), (23, 1.3812154696132597), (24, 1.2265193370165746), (25, 1.2375690607734806), (26, 1.0497237569060773), (27, 0.9613259668508287), (28, 1.0055248618784531), (29, 0.9613259668508287), (30, 1.0276243093922652), (31, 1.0718232044198894), (32, 0.8729281767955801), (33, 1.2044198895027625), (34, 1.0165745856353592), (35, 1.149171270718232), (36, 0.9281767955801105), (37, 1.1933701657458564), (38, 0.9060773480662984), (39, 1.160220994475138), (40, 1.3701657458563536)]}\n",
      "[(1, 10.276243093922652), (2, 7.027624309392265), (3, 2.657458563535912), (4, 1.3093922651933703), (5, 1.022099447513812), (6, 0.9447513812154696), (7, 0.9613259668508287), (8, 0.850828729281768), (9, 0.8121546961325967), (10, 0.8342541436464088), (11, 0.7734806629834254), (12, 0.7403314917127072), (13, 0.6850828729281768), (14, 0.712707182320442), (15, 0.5580110497237569), (16, 0.5469613259668509), (17, 0.7569060773480663), (18, 0.8397790055248618), (19, 0.6629834254143646), (20, 0.6795580110497238), (21, 0.6298342541436464), (22, 0.5082872928176796), (23, 0.6906077348066298), (24, 0.6132596685082873), (25, 0.6187845303867403), (26, 0.5248618784530387), (27, 0.48066298342541436), (28, 0.5027624309392266), (29, 0.48066298342541436), (30, 0.5138121546961326), (31, 0.5359116022099447), (32, 0.43646408839779005), (33, 0.6022099447513812), (34, 0.5082872928176796), (35, 0.574585635359116), (36, 0.46408839779005523), (37, 0.5966850828729282), (38, 0.4530386740331492), (39, 0.580110497237569), (40, 0.6850828729281768)]\n"
     ]
    },
    {
     "name": "stderr",
     "output_type": "stream",
     "text": [
      "C:\\Users\\Shuyao\\AppData\\Local\\Temp\\ipykernel_6156\\3421847257.py:35: UserWarning: To copy construct from a tensor, it is recommended to use sourceTensor.clone().detach() or sourceTensor.clone().detach().requires_grad_(True), rather than torch.tensor(sourceTensor).\n",
      "  y_train = torch.reshape(torch.tensor(y_train), (-1, 1))\n",
      "C:\\Users\\Shuyao\\AppData\\Local\\Temp\\ipykernel_6156\\3421847257.py:36: UserWarning: To copy construct from a tensor, it is recommended to use sourceTensor.clone().detach() or sourceTensor.clone().detach().requires_grad_(True), rather than torch.tensor(sourceTensor).\n",
      "  y_test = torch.reshape(torch.tensor(y_test), (-1, 1))\n",
      "INFO flwr 2023-08-29 12:23:05,060 | app.py:145 | Starting Flower simulation, config: ServerConfig(num_rounds=40, round_timeout=None)\n"
     ]
    },
    {
     "name": "stdout",
     "output_type": "stream",
     "text": [
      "Fold 2:\n",
      "Client 0 trainset shape torch.Size([150, 3, 23])\n",
      "Client 1 trainset shape torch.Size([150, 3, 23])\n",
      "Client 2 trainset shape torch.Size([141, 3, 23])\n",
      "Client 3 trainset shape torch.Size([140, 3, 23])\n",
      "Client 4 trainset shape torch.Size([140, 3, 23])\n"
     ]
    },
    {
     "name": "stderr",
     "output_type": "stream",
     "text": [
      "2023-08-29 12:23:13,526\tINFO worker.py:1627 -- Started a local Ray instance. View the dashboard at \u001B[1m\u001B[32m127.0.0.1:8266 \u001B[39m\u001B[22m\n",
      "INFO flwr 2023-08-29 12:23:18,052 | app.py:179 | Flower VCE: Ray initialized with resources: {'CPU': 8.0, 'node:127.0.0.1': 1.0, 'memory': 1784279040.0, 'object_store_memory': 892139520.0, 'GPU': 1.0}\n",
      "INFO flwr 2023-08-29 12:23:18,054 | server.py:89 | Initializing global parameters\n",
      "INFO flwr 2023-08-29 12:23:18,055 | server.py:276 | Requesting initial parameters from one random client\n",
      "INFO flwr 2023-08-29 12:23:20,873 | server.py:280 | Received initial parameters from one random client\n",
      "INFO flwr 2023-08-29 12:23:20,875 | server.py:91 | Evaluating initial parameters\n",
      "INFO flwr 2023-08-29 12:23:20,877 | server.py:104 | FL starting\n",
      "DEBUG flwr 2023-08-29 12:23:20,878 | server.py:222 | fit_round 1: strategy sampled 2 clients (out of 5)\n",
      "DEBUG flwr 2023-08-29 12:23:29,790 | server.py:236 | fit_round 1 received 2 results and 0 failures\n",
      "WARNING flwr 2023-08-29 12:23:29,825 | fedavg.py:242 | No fit_metrics_aggregation_fn provided\n",
      "DEBUG flwr 2023-08-29 12:23:29,859 | server.py:173 | evaluate_round 1: strategy sampled 2 clients (out of 5)\n"
     ]
    },
    {
     "name": "stdout",
     "output_type": "stream",
     "text": [
      "agrregate_fit results list length is  2\n",
      "Saving round 1 aggregated_parameters...\n"
     ]
    },
    {
     "name": "stderr",
     "output_type": "stream",
     "text": [
      "DEBUG flwr 2023-08-29 12:23:30,101 | server.py:187 | evaluate_round 1 received 2 results and 0 failures\n",
      "DEBUG flwr 2023-08-29 12:23:30,103 | server.py:222 | fit_round 2: strategy sampled 2 clients (out of 5)\n"
     ]
    },
    {
     "name": "stdout",
     "output_type": "stream",
     "text": [
      "agrregate_evaluate results list length is  2\n",
      "server round is  1\n",
      "loss is  12.4\n"
     ]
    },
    {
     "name": "stderr",
     "output_type": "stream",
     "text": [
      "DEBUG flwr 2023-08-29 12:23:37,324 | server.py:236 | fit_round 2 received 2 results and 0 failures\n",
      "DEBUG flwr 2023-08-29 12:23:37,445 | server.py:173 | evaluate_round 2: strategy sampled 2 clients (out of 5)\n"
     ]
    },
    {
     "name": "stdout",
     "output_type": "stream",
     "text": [
      "agrregate_fit results list length is  2\n",
      "Saving round 2 aggregated_parameters...\n"
     ]
    },
    {
     "name": "stderr",
     "output_type": "stream",
     "text": [
      "DEBUG flwr 2023-08-29 12:23:37,851 | server.py:187 | evaluate_round 2 received 2 results and 0 failures\n",
      "DEBUG flwr 2023-08-29 12:23:37,853 | server.py:222 | fit_round 3: strategy sampled 2 clients (out of 5)\n"
     ]
    },
    {
     "name": "stdout",
     "output_type": "stream",
     "text": [
      "agrregate_evaluate results list length is  2\n",
      "server round is  2\n",
      "loss is  7.694444444444445\n"
     ]
    },
    {
     "name": "stderr",
     "output_type": "stream",
     "text": [
      "DEBUG flwr 2023-08-29 12:23:46,135 | server.py:236 | fit_round 3 received 2 results and 0 failures\n",
      "DEBUG flwr 2023-08-29 12:23:46,253 | server.py:173 | evaluate_round 3: strategy sampled 2 clients (out of 5)\n"
     ]
    },
    {
     "name": "stdout",
     "output_type": "stream",
     "text": [
      "agrregate_fit results list length is  2\n",
      "Saving round 3 aggregated_parameters...\n"
     ]
    },
    {
     "name": "stderr",
     "output_type": "stream",
     "text": [
      "DEBUG flwr 2023-08-29 12:23:46,652 | server.py:187 | evaluate_round 3 received 2 results and 0 failures\n",
      "DEBUG flwr 2023-08-29 12:23:46,654 | server.py:222 | fit_round 4: strategy sampled 2 clients (out of 5)\n"
     ]
    },
    {
     "name": "stdout",
     "output_type": "stream",
     "text": [
      "agrregate_evaluate results list length is  2\n",
      "server round is  3\n",
      "loss is  3.3777777777777778\n"
     ]
    },
    {
     "name": "stderr",
     "output_type": "stream",
     "text": [
      "DEBUG flwr 2023-08-29 12:23:59,890 | server.py:236 | fit_round 4 received 2 results and 0 failures\n"
     ]
    },
    {
     "name": "stdout",
     "output_type": "stream",
     "text": [
      "agrregate_fit results list length is  2\n",
      "Saving round 4 aggregated_parameters...\n"
     ]
    },
    {
     "name": "stderr",
     "output_type": "stream",
     "text": [
      "DEBUG flwr 2023-08-29 12:24:00,206 | server.py:173 | evaluate_round 4: strategy sampled 2 clients (out of 5)\n",
      "DEBUG flwr 2023-08-29 12:24:00,779 | server.py:187 | evaluate_round 4 received 2 results and 0 failures\n",
      "DEBUG flwr 2023-08-29 12:24:00,782 | server.py:222 | fit_round 5: strategy sampled 2 clients (out of 5)\n"
     ]
    },
    {
     "name": "stdout",
     "output_type": "stream",
     "text": [
      "agrregate_evaluate results list length is  2\n",
      "server round is  4\n",
      "loss is  1.6166666666666667\n"
     ]
    },
    {
     "name": "stderr",
     "output_type": "stream",
     "text": [
      "DEBUG flwr 2023-08-29 12:24:13,686 | server.py:236 | fit_round 5 received 2 results and 0 failures\n"
     ]
    },
    {
     "name": "stdout",
     "output_type": "stream",
     "text": [
      "agrregate_fit results list length is  2\n",
      "Saving round 5 aggregated_parameters...\n"
     ]
    },
    {
     "name": "stderr",
     "output_type": "stream",
     "text": [
      "DEBUG flwr 2023-08-29 12:24:13,918 | server.py:173 | evaluate_round 5: strategy sampled 2 clients (out of 5)\n",
      "DEBUG flwr 2023-08-29 12:24:14,597 | server.py:187 | evaluate_round 5 received 2 results and 0 failures\n",
      "DEBUG flwr 2023-08-29 12:24:14,603 | server.py:222 | fit_round 6: strategy sampled 2 clients (out of 5)\n"
     ]
    },
    {
     "name": "stdout",
     "output_type": "stream",
     "text": [
      "agrregate_evaluate results list length is  2\n",
      "server round is  5\n",
      "loss is  1.3166666666666667\n"
     ]
    },
    {
     "name": "stderr",
     "output_type": "stream",
     "text": [
      "DEBUG flwr 2023-08-29 12:24:30,233 | server.py:236 | fit_round 6 received 2 results and 0 failures\n",
      "DEBUG flwr 2023-08-29 12:24:30,391 | server.py:173 | evaluate_round 6: strategy sampled 2 clients (out of 5)\n"
     ]
    },
    {
     "name": "stdout",
     "output_type": "stream",
     "text": [
      "agrregate_fit results list length is  2\n",
      "Saving round 6 aggregated_parameters...\n"
     ]
    },
    {
     "name": "stderr",
     "output_type": "stream",
     "text": [
      "DEBUG flwr 2023-08-29 12:24:31,034 | server.py:187 | evaluate_round 6 received 2 results and 0 failures\n",
      "DEBUG flwr 2023-08-29 12:24:31,037 | server.py:222 | fit_round 7: strategy sampled 2 clients (out of 5)\n"
     ]
    },
    {
     "name": "stdout",
     "output_type": "stream",
     "text": [
      "agrregate_evaluate results list length is  2\n",
      "server round is  6\n",
      "loss is  1.0611111111111111\n"
     ]
    },
    {
     "name": "stderr",
     "output_type": "stream",
     "text": [
      "DEBUG flwr 2023-08-29 12:24:45,878 | server.py:236 | fit_round 7 received 2 results and 0 failures\n",
      "DEBUG flwr 2023-08-29 12:24:46,044 | server.py:173 | evaluate_round 7: strategy sampled 2 clients (out of 5)\n"
     ]
    },
    {
     "name": "stdout",
     "output_type": "stream",
     "text": [
      "agrregate_fit results list length is  2\n",
      "Saving round 7 aggregated_parameters...\n"
     ]
    },
    {
     "name": "stderr",
     "output_type": "stream",
     "text": [
      "DEBUG flwr 2023-08-29 12:24:46,536 | server.py:187 | evaluate_round 7 received 2 results and 0 failures\n",
      "DEBUG flwr 2023-08-29 12:24:46,539 | server.py:222 | fit_round 8: strategy sampled 2 clients (out of 5)\n"
     ]
    },
    {
     "name": "stdout",
     "output_type": "stream",
     "text": [
      "agrregate_evaluate results list length is  2\n",
      "server round is  7\n",
      "loss is  1.0055555555555555\n"
     ]
    },
    {
     "name": "stderr",
     "output_type": "stream",
     "text": [
      "DEBUG flwr 2023-08-29 12:25:03,143 | server.py:236 | fit_round 8 received 2 results and 0 failures\n",
      "DEBUG flwr 2023-08-29 12:25:03,263 | server.py:173 | evaluate_round 8: strategy sampled 2 clients (out of 5)\n"
     ]
    },
    {
     "name": "stdout",
     "output_type": "stream",
     "text": [
      "agrregate_fit results list length is  2\n",
      "Saving round 8 aggregated_parameters...\n"
     ]
    },
    {
     "name": "stderr",
     "output_type": "stream",
     "text": [
      "DEBUG flwr 2023-08-29 12:25:03,709 | server.py:187 | evaluate_round 8 received 2 results and 0 failures\n",
      "DEBUG flwr 2023-08-29 12:25:03,711 | server.py:222 | fit_round 9: strategy sampled 2 clients (out of 5)\n"
     ]
    },
    {
     "name": "stdout",
     "output_type": "stream",
     "text": [
      "agrregate_evaluate results list length is  2\n",
      "server round is  8\n",
      "loss is  1.0055555555555555\n"
     ]
    },
    {
     "name": "stderr",
     "output_type": "stream",
     "text": [
      "DEBUG flwr 2023-08-29 12:25:15,819 | server.py:236 | fit_round 9 received 2 results and 0 failures\n",
      "DEBUG flwr 2023-08-29 12:25:15,945 | server.py:173 | evaluate_round 9: strategy sampled 2 clients (out of 5)\n"
     ]
    },
    {
     "name": "stdout",
     "output_type": "stream",
     "text": [
      "agrregate_fit results list length is  2\n",
      "Saving round 9 aggregated_parameters...\n"
     ]
    },
    {
     "name": "stderr",
     "output_type": "stream",
     "text": [
      "DEBUG flwr 2023-08-29 12:25:16,344 | server.py:187 | evaluate_round 9 received 2 results and 0 failures\n",
      "DEBUG flwr 2023-08-29 12:25:16,346 | server.py:222 | fit_round 10: strategy sampled 2 clients (out of 5)\n"
     ]
    },
    {
     "name": "stdout",
     "output_type": "stream",
     "text": [
      "agrregate_evaluate results list length is  2\n",
      "server round is  9\n",
      "loss is  1.0\n"
     ]
    },
    {
     "name": "stderr",
     "output_type": "stream",
     "text": [
      "DEBUG flwr 2023-08-29 12:25:24,639 | server.py:236 | fit_round 10 received 2 results and 0 failures\n",
      "DEBUG flwr 2023-08-29 12:25:24,757 | server.py:173 | evaluate_round 10: strategy sampled 2 clients (out of 5)\n"
     ]
    },
    {
     "name": "stdout",
     "output_type": "stream",
     "text": [
      "agrregate_fit results list length is  2\n",
      "Saving round 10 aggregated_parameters...\n"
     ]
    },
    {
     "name": "stderr",
     "output_type": "stream",
     "text": [
      "DEBUG flwr 2023-08-29 12:25:25,104 | server.py:187 | evaluate_round 10 received 2 results and 0 failures\n",
      "DEBUG flwr 2023-08-29 12:25:25,106 | server.py:222 | fit_round 11: strategy sampled 2 clients (out of 5)\n"
     ]
    },
    {
     "name": "stdout",
     "output_type": "stream",
     "text": [
      "agrregate_evaluate results list length is  2\n",
      "server round is  10\n",
      "loss is  1.0777777777777777\n"
     ]
    },
    {
     "name": "stderr",
     "output_type": "stream",
     "text": [
      "DEBUG flwr 2023-08-29 12:25:33,463 | server.py:236 | fit_round 11 received 2 results and 0 failures\n",
      "DEBUG flwr 2023-08-29 12:25:33,571 | server.py:173 | evaluate_round 11: strategy sampled 2 clients (out of 5)\n"
     ]
    },
    {
     "name": "stdout",
     "output_type": "stream",
     "text": [
      "agrregate_fit results list length is  2\n",
      "Saving round 11 aggregated_parameters...\n"
     ]
    },
    {
     "name": "stderr",
     "output_type": "stream",
     "text": [
      "DEBUG flwr 2023-08-29 12:25:33,946 | server.py:187 | evaluate_round 11 received 2 results and 0 failures\n",
      "DEBUG flwr 2023-08-29 12:25:33,948 | server.py:222 | fit_round 12: strategy sampled 2 clients (out of 5)\n"
     ]
    },
    {
     "name": "stdout",
     "output_type": "stream",
     "text": [
      "agrregate_evaluate results list length is  2\n",
      "server round is  11\n",
      "loss is  0.9722222222222222\n"
     ]
    },
    {
     "name": "stderr",
     "output_type": "stream",
     "text": [
      "DEBUG flwr 2023-08-29 12:25:41,830 | server.py:236 | fit_round 12 received 2 results and 0 failures\n",
      "DEBUG flwr 2023-08-29 12:25:41,939 | server.py:173 | evaluate_round 12: strategy sampled 2 clients (out of 5)\n"
     ]
    },
    {
     "name": "stdout",
     "output_type": "stream",
     "text": [
      "agrregate_fit results list length is  2\n",
      "Saving round 12 aggregated_parameters...\n"
     ]
    },
    {
     "name": "stderr",
     "output_type": "stream",
     "text": [
      "DEBUG flwr 2023-08-29 12:25:42,306 | server.py:187 | evaluate_round 12 received 2 results and 0 failures\n",
      "DEBUG flwr 2023-08-29 12:25:42,308 | server.py:222 | fit_round 13: strategy sampled 2 clients (out of 5)\n"
     ]
    },
    {
     "name": "stdout",
     "output_type": "stream",
     "text": [
      "agrregate_evaluate results list length is  2\n",
      "server round is  12\n",
      "loss is  0.9666666666666667\n"
     ]
    },
    {
     "name": "stderr",
     "output_type": "stream",
     "text": [
      "DEBUG flwr 2023-08-29 12:25:51,346 | server.py:236 | fit_round 13 received 2 results and 0 failures\n",
      "DEBUG flwr 2023-08-29 12:25:51,496 | server.py:173 | evaluate_round 13: strategy sampled 2 clients (out of 5)\n"
     ]
    },
    {
     "name": "stdout",
     "output_type": "stream",
     "text": [
      "agrregate_fit results list length is  2\n",
      "Saving round 13 aggregated_parameters...\n"
     ]
    },
    {
     "name": "stderr",
     "output_type": "stream",
     "text": [
      "DEBUG flwr 2023-08-29 12:25:51,922 | server.py:187 | evaluate_round 13 received 2 results and 0 failures\n",
      "DEBUG flwr 2023-08-29 12:25:51,925 | server.py:222 | fit_round 14: strategy sampled 2 clients (out of 5)\n"
     ]
    },
    {
     "name": "stdout",
     "output_type": "stream",
     "text": [
      "agrregate_evaluate results list length is  2\n",
      "server round is  13\n",
      "loss is  0.8722222222222222\n"
     ]
    },
    {
     "name": "stderr",
     "output_type": "stream",
     "text": [
      "DEBUG flwr 2023-08-29 12:26:00,138 | server.py:236 | fit_round 14 received 2 results and 0 failures\n",
      "DEBUG flwr 2023-08-29 12:26:00,250 | server.py:173 | evaluate_round 14: strategy sampled 2 clients (out of 5)\n"
     ]
    },
    {
     "name": "stdout",
     "output_type": "stream",
     "text": [
      "agrregate_fit results list length is  2\n",
      "Saving round 14 aggregated_parameters...\n"
     ]
    },
    {
     "name": "stderr",
     "output_type": "stream",
     "text": [
      "DEBUG flwr 2023-08-29 12:26:00,635 | server.py:187 | evaluate_round 14 received 2 results and 0 failures\n",
      "DEBUG flwr 2023-08-29 12:26:00,637 | server.py:222 | fit_round 15: strategy sampled 2 clients (out of 5)\n"
     ]
    },
    {
     "name": "stdout",
     "output_type": "stream",
     "text": [
      "agrregate_evaluate results list length is  2\n",
      "server round is  14\n",
      "loss is  0.8333333333333334\n"
     ]
    },
    {
     "name": "stderr",
     "output_type": "stream",
     "text": [
      "DEBUG flwr 2023-08-29 12:26:08,933 | server.py:236 | fit_round 15 received 2 results and 0 failures\n",
      "DEBUG flwr 2023-08-29 12:26:09,036 | server.py:173 | evaluate_round 15: strategy sampled 2 clients (out of 5)\n"
     ]
    },
    {
     "name": "stdout",
     "output_type": "stream",
     "text": [
      "agrregate_fit results list length is  2\n",
      "Saving round 15 aggregated_parameters...\n"
     ]
    },
    {
     "name": "stderr",
     "output_type": "stream",
     "text": [
      "DEBUG flwr 2023-08-29 12:26:09,406 | server.py:187 | evaluate_round 15 received 2 results and 0 failures\n",
      "DEBUG flwr 2023-08-29 12:26:09,408 | server.py:222 | fit_round 16: strategy sampled 2 clients (out of 5)\n"
     ]
    },
    {
     "name": "stdout",
     "output_type": "stream",
     "text": [
      "agrregate_evaluate results list length is  2\n",
      "server round is  15\n",
      "loss is  0.7944444444444444\n"
     ]
    },
    {
     "name": "stderr",
     "output_type": "stream",
     "text": [
      "DEBUG flwr 2023-08-29 12:26:17,948 | server.py:236 | fit_round 16 received 2 results and 0 failures\n",
      "DEBUG flwr 2023-08-29 12:26:18,063 | server.py:173 | evaluate_round 16: strategy sampled 2 clients (out of 5)\n"
     ]
    },
    {
     "name": "stdout",
     "output_type": "stream",
     "text": [
      "agrregate_fit results list length is  2\n",
      "Saving round 16 aggregated_parameters...\n"
     ]
    },
    {
     "name": "stderr",
     "output_type": "stream",
     "text": [
      "DEBUG flwr 2023-08-29 12:26:18,503 | server.py:187 | evaluate_round 16 received 2 results and 0 failures\n",
      "DEBUG flwr 2023-08-29 12:26:18,506 | server.py:222 | fit_round 17: strategy sampled 2 clients (out of 5)\n"
     ]
    },
    {
     "name": "stdout",
     "output_type": "stream",
     "text": [
      "agrregate_evaluate results list length is  2\n",
      "server round is  16\n",
      "loss is  0.8111111111111111\n"
     ]
    },
    {
     "name": "stderr",
     "output_type": "stream",
     "text": [
      "DEBUG flwr 2023-08-29 12:26:26,888 | server.py:236 | fit_round 17 received 2 results and 0 failures\n",
      "DEBUG flwr 2023-08-29 12:26:26,987 | server.py:173 | evaluate_round 17: strategy sampled 2 clients (out of 5)\n"
     ]
    },
    {
     "name": "stdout",
     "output_type": "stream",
     "text": [
      "agrregate_fit results list length is  2\n",
      "Saving round 17 aggregated_parameters...\n"
     ]
    },
    {
     "name": "stderr",
     "output_type": "stream",
     "text": [
      "DEBUG flwr 2023-08-29 12:26:27,361 | server.py:187 | evaluate_round 17 received 2 results and 0 failures\n",
      "DEBUG flwr 2023-08-29 12:26:27,362 | server.py:222 | fit_round 18: strategy sampled 2 clients (out of 5)\n"
     ]
    },
    {
     "name": "stdout",
     "output_type": "stream",
     "text": [
      "agrregate_evaluate results list length is  2\n",
      "server round is  17\n",
      "loss is  0.8166666666666667\n"
     ]
    },
    {
     "name": "stderr",
     "output_type": "stream",
     "text": [
      "DEBUG flwr 2023-08-29 12:26:35,750 | server.py:236 | fit_round 18 received 2 results and 0 failures\n",
      "DEBUG flwr 2023-08-29 12:26:35,853 | server.py:173 | evaluate_round 18: strategy sampled 2 clients (out of 5)\n"
     ]
    },
    {
     "name": "stdout",
     "output_type": "stream",
     "text": [
      "agrregate_fit results list length is  2\n",
      "Saving round 18 aggregated_parameters...\n"
     ]
    },
    {
     "name": "stderr",
     "output_type": "stream",
     "text": [
      "DEBUG flwr 2023-08-29 12:26:36,198 | server.py:187 | evaluate_round 18 received 2 results and 0 failures\n",
      "DEBUG flwr 2023-08-29 12:26:36,200 | server.py:222 | fit_round 19: strategy sampled 2 clients (out of 5)\n"
     ]
    },
    {
     "name": "stdout",
     "output_type": "stream",
     "text": [
      "agrregate_evaluate results list length is  2\n",
      "server round is  18\n",
      "loss is  0.9388888888888889\n"
     ]
    },
    {
     "name": "stderr",
     "output_type": "stream",
     "text": [
      "DEBUG flwr 2023-08-29 12:26:44,244 | server.py:236 | fit_round 19 received 2 results and 0 failures\n"
     ]
    },
    {
     "name": "stdout",
     "output_type": "stream",
     "text": [
      "agrregate_fit results list length is  2\n",
      "Saving round 19 aggregated_parameters...\n"
     ]
    },
    {
     "name": "stderr",
     "output_type": "stream",
     "text": [
      "DEBUG flwr 2023-08-29 12:26:44,487 | server.py:173 | evaluate_round 19: strategy sampled 2 clients (out of 5)\n",
      "DEBUG flwr 2023-08-29 12:26:44,852 | server.py:187 | evaluate_round 19 received 2 results and 0 failures\n",
      "DEBUG flwr 2023-08-29 12:26:44,854 | server.py:222 | fit_round 20: strategy sampled 2 clients (out of 5)\n"
     ]
    },
    {
     "name": "stdout",
     "output_type": "stream",
     "text": [
      "agrregate_evaluate results list length is  2\n",
      "server round is  19\n",
      "loss is  0.7222222222222222\n"
     ]
    },
    {
     "name": "stderr",
     "output_type": "stream",
     "text": [
      "DEBUG flwr 2023-08-29 12:26:53,470 | server.py:236 | fit_round 20 received 2 results and 0 failures\n",
      "DEBUG flwr 2023-08-29 12:26:53,587 | server.py:173 | evaluate_round 20: strategy sampled 2 clients (out of 5)\n"
     ]
    },
    {
     "name": "stdout",
     "output_type": "stream",
     "text": [
      "agrregate_fit results list length is  2\n",
      "Saving round 20 aggregated_parameters...\n"
     ]
    },
    {
     "name": "stderr",
     "output_type": "stream",
     "text": [
      "DEBUG flwr 2023-08-29 12:26:53,952 | server.py:187 | evaluate_round 20 received 2 results and 0 failures\n",
      "DEBUG flwr 2023-08-29 12:26:53,954 | server.py:222 | fit_round 21: strategy sampled 2 clients (out of 5)\n"
     ]
    },
    {
     "name": "stdout",
     "output_type": "stream",
     "text": [
      "agrregate_evaluate results list length is  2\n",
      "server round is  20\n",
      "loss is  0.8277777777777777\n"
     ]
    },
    {
     "name": "stderr",
     "output_type": "stream",
     "text": [
      "DEBUG flwr 2023-08-29 12:27:02,205 | server.py:236 | fit_round 21 received 2 results and 0 failures\n",
      "DEBUG flwr 2023-08-29 12:27:02,313 | server.py:173 | evaluate_round 21: strategy sampled 2 clients (out of 5)\n"
     ]
    },
    {
     "name": "stdout",
     "output_type": "stream",
     "text": [
      "agrregate_fit results list length is  2\n",
      "Saving round 21 aggregated_parameters...\n"
     ]
    },
    {
     "name": "stderr",
     "output_type": "stream",
     "text": [
      "DEBUG flwr 2023-08-29 12:27:02,695 | server.py:187 | evaluate_round 21 received 2 results and 0 failures\n",
      "DEBUG flwr 2023-08-29 12:27:02,697 | server.py:222 | fit_round 22: strategy sampled 2 clients (out of 5)\n"
     ]
    },
    {
     "name": "stdout",
     "output_type": "stream",
     "text": [
      "agrregate_evaluate results list length is  2\n",
      "server round is  21\n",
      "loss is  0.75\n"
     ]
    },
    {
     "name": "stderr",
     "output_type": "stream",
     "text": [
      "DEBUG flwr 2023-08-29 12:27:12,750 | server.py:236 | fit_round 22 received 2 results and 0 failures\n"
     ]
    },
    {
     "name": "stdout",
     "output_type": "stream",
     "text": [
      "agrregate_fit results list length is  2\n",
      "Saving round 22 aggregated_parameters...\n"
     ]
    },
    {
     "name": "stderr",
     "output_type": "stream",
     "text": [
      "DEBUG flwr 2023-08-29 12:27:13,011 | server.py:173 | evaluate_round 22: strategy sampled 2 clients (out of 5)\n",
      "DEBUG flwr 2023-08-29 12:27:13,906 | server.py:187 | evaluate_round 22 received 2 results and 0 failures\n",
      "DEBUG flwr 2023-08-29 12:27:13,913 | server.py:222 | fit_round 23: strategy sampled 2 clients (out of 5)\n"
     ]
    },
    {
     "name": "stdout",
     "output_type": "stream",
     "text": [
      "agrregate_evaluate results list length is  2\n",
      "server round is  22\n",
      "loss is  0.7222222222222222\n"
     ]
    },
    {
     "name": "stderr",
     "output_type": "stream",
     "text": [
      "DEBUG flwr 2023-08-29 12:27:25,804 | server.py:236 | fit_round 23 received 2 results and 0 failures\n",
      "DEBUG flwr 2023-08-29 12:27:25,954 | server.py:173 | evaluate_round 23: strategy sampled 2 clients (out of 5)\n"
     ]
    },
    {
     "name": "stdout",
     "output_type": "stream",
     "text": [
      "agrregate_fit results list length is  2\n",
      "Saving round 23 aggregated_parameters...\n"
     ]
    },
    {
     "name": "stderr",
     "output_type": "stream",
     "text": [
      "DEBUG flwr 2023-08-29 12:27:26,495 | server.py:187 | evaluate_round 23 received 2 results and 0 failures\n",
      "DEBUG flwr 2023-08-29 12:27:26,498 | server.py:222 | fit_round 24: strategy sampled 2 clients (out of 5)\n"
     ]
    },
    {
     "name": "stdout",
     "output_type": "stream",
     "text": [
      "agrregate_evaluate results list length is  2\n",
      "server round is  23\n",
      "loss is  0.7833333333333333\n"
     ]
    },
    {
     "name": "stderr",
     "output_type": "stream",
     "text": [
      "DEBUG flwr 2023-08-29 12:27:38,927 | server.py:236 | fit_round 24 received 2 results and 0 failures\n"
     ]
    },
    {
     "name": "stdout",
     "output_type": "stream",
     "text": [
      "agrregate_fit results list length is  2\n",
      "Saving round 24 aggregated_parameters...\n"
     ]
    },
    {
     "name": "stderr",
     "output_type": "stream",
     "text": [
      "DEBUG flwr 2023-08-29 12:27:39,157 | server.py:173 | evaluate_round 24: strategy sampled 2 clients (out of 5)\n",
      "DEBUG flwr 2023-08-29 12:27:39,926 | server.py:187 | evaluate_round 24 received 2 results and 0 failures\n",
      "DEBUG flwr 2023-08-29 12:27:39,930 | server.py:222 | fit_round 25: strategy sampled 2 clients (out of 5)\n"
     ]
    },
    {
     "name": "stdout",
     "output_type": "stream",
     "text": [
      "agrregate_evaluate results list length is  2\n",
      "server round is  24\n",
      "loss is  0.7388888888888889\n"
     ]
    },
    {
     "name": "stderr",
     "output_type": "stream",
     "text": [
      "DEBUG flwr 2023-08-29 12:27:51,826 | server.py:236 | fit_round 25 received 2 results and 0 failures\n",
      "DEBUG flwr 2023-08-29 12:27:51,956 | server.py:173 | evaluate_round 25: strategy sampled 2 clients (out of 5)\n"
     ]
    },
    {
     "name": "stdout",
     "output_type": "stream",
     "text": [
      "agrregate_fit results list length is  2\n",
      "Saving round 25 aggregated_parameters...\n"
     ]
    },
    {
     "name": "stderr",
     "output_type": "stream",
     "text": [
      "DEBUG flwr 2023-08-29 12:27:52,498 | server.py:187 | evaluate_round 25 received 2 results and 0 failures\n",
      "DEBUG flwr 2023-08-29 12:27:52,502 | server.py:222 | fit_round 26: strategy sampled 2 clients (out of 5)\n"
     ]
    },
    {
     "name": "stdout",
     "output_type": "stream",
     "text": [
      "agrregate_evaluate results list length is  2\n",
      "server round is  25\n",
      "loss is  0.7888888888888889\n"
     ]
    },
    {
     "name": "stderr",
     "output_type": "stream",
     "text": [
      "DEBUG flwr 2023-08-29 12:28:07,161 | server.py:236 | fit_round 26 received 2 results and 0 failures\n",
      "DEBUG flwr 2023-08-29 12:28:07,280 | server.py:173 | evaluate_round 26: strategy sampled 2 clients (out of 5)\n"
     ]
    },
    {
     "name": "stdout",
     "output_type": "stream",
     "text": [
      "agrregate_fit results list length is  2\n",
      "Saving round 26 aggregated_parameters...\n"
     ]
    },
    {
     "name": "stderr",
     "output_type": "stream",
     "text": [
      "DEBUG flwr 2023-08-29 12:28:07,757 | server.py:187 | evaluate_round 26 received 2 results and 0 failures\n",
      "DEBUG flwr 2023-08-29 12:28:07,760 | server.py:222 | fit_round 27: strategy sampled 2 clients (out of 5)\n"
     ]
    },
    {
     "name": "stdout",
     "output_type": "stream",
     "text": [
      "agrregate_evaluate results list length is  2\n",
      "server round is  26\n",
      "loss is  0.7666666666666667\n"
     ]
    },
    {
     "name": "stderr",
     "output_type": "stream",
     "text": [
      "DEBUG flwr 2023-08-29 12:28:19,740 | server.py:236 | fit_round 27 received 2 results and 0 failures\n",
      "DEBUG flwr 2023-08-29 12:28:19,855 | server.py:173 | evaluate_round 27: strategy sampled 2 clients (out of 5)\n"
     ]
    },
    {
     "name": "stdout",
     "output_type": "stream",
     "text": [
      "agrregate_fit results list length is  2\n",
      "Saving round 27 aggregated_parameters...\n"
     ]
    },
    {
     "name": "stderr",
     "output_type": "stream",
     "text": [
      "DEBUG flwr 2023-08-29 12:28:20,231 | server.py:187 | evaluate_round 27 received 2 results and 0 failures\n",
      "DEBUG flwr 2023-08-29 12:28:20,232 | server.py:222 | fit_round 28: strategy sampled 2 clients (out of 5)\n"
     ]
    },
    {
     "name": "stdout",
     "output_type": "stream",
     "text": [
      "agrregate_evaluate results list length is  2\n",
      "server round is  27\n",
      "loss is  0.6777777777777778\n"
     ]
    },
    {
     "name": "stderr",
     "output_type": "stream",
     "text": [
      "DEBUG flwr 2023-08-29 12:28:27,977 | server.py:236 | fit_round 28 received 2 results and 0 failures\n",
      "DEBUG flwr 2023-08-29 12:28:28,062 | server.py:173 | evaluate_round 28: strategy sampled 2 clients (out of 5)\n"
     ]
    },
    {
     "name": "stdout",
     "output_type": "stream",
     "text": [
      "agrregate_fit results list length is  2\n",
      "Saving round 28 aggregated_parameters...\n"
     ]
    },
    {
     "name": "stderr",
     "output_type": "stream",
     "text": [
      "DEBUG flwr 2023-08-29 12:28:28,358 | server.py:187 | evaluate_round 28 received 2 results and 0 failures\n",
      "DEBUG flwr 2023-08-29 12:28:28,359 | server.py:222 | fit_round 29: strategy sampled 2 clients (out of 5)\n"
     ]
    },
    {
     "name": "stdout",
     "output_type": "stream",
     "text": [
      "agrregate_evaluate results list length is  2\n",
      "server round is  28\n",
      "loss is  0.7277777777777777\n"
     ]
    },
    {
     "name": "stderr",
     "output_type": "stream",
     "text": [
      "DEBUG flwr 2023-08-29 12:28:37,166 | server.py:236 | fit_round 29 received 2 results and 0 failures\n",
      "DEBUG flwr 2023-08-29 12:28:37,254 | server.py:173 | evaluate_round 29: strategy sampled 2 clients (out of 5)\n"
     ]
    },
    {
     "name": "stdout",
     "output_type": "stream",
     "text": [
      "agrregate_fit results list length is  2\n",
      "Saving round 29 aggregated_parameters...\n"
     ]
    },
    {
     "name": "stderr",
     "output_type": "stream",
     "text": [
      "DEBUG flwr 2023-08-29 12:28:37,565 | server.py:187 | evaluate_round 29 received 2 results and 0 failures\n",
      "DEBUG flwr 2023-08-29 12:28:37,567 | server.py:222 | fit_round 30: strategy sampled 2 clients (out of 5)\n"
     ]
    },
    {
     "name": "stdout",
     "output_type": "stream",
     "text": [
      "agrregate_evaluate results list length is  2\n",
      "server round is  29\n",
      "loss is  0.7166666666666667\n"
     ]
    },
    {
     "name": "stderr",
     "output_type": "stream",
     "text": [
      "DEBUG flwr 2023-08-29 12:28:47,163 | server.py:236 | fit_round 30 received 2 results and 0 failures\n",
      "DEBUG flwr 2023-08-29 12:28:47,278 | server.py:173 | evaluate_round 30: strategy sampled 2 clients (out of 5)\n"
     ]
    },
    {
     "name": "stdout",
     "output_type": "stream",
     "text": [
      "agrregate_fit results list length is  2\n",
      "Saving round 30 aggregated_parameters...\n"
     ]
    },
    {
     "name": "stderr",
     "output_type": "stream",
     "text": [
      "DEBUG flwr 2023-08-29 12:28:47,698 | server.py:187 | evaluate_round 30 received 2 results and 0 failures\n",
      "DEBUG flwr 2023-08-29 12:28:47,702 | server.py:222 | fit_round 31: strategy sampled 2 clients (out of 5)\n"
     ]
    },
    {
     "name": "stdout",
     "output_type": "stream",
     "text": [
      "agrregate_evaluate results list length is  2\n",
      "server round is  30\n",
      "loss is  0.6888888888888889\n"
     ]
    },
    {
     "name": "stderr",
     "output_type": "stream",
     "text": [
      "DEBUG flwr 2023-08-29 12:28:56,496 | server.py:236 | fit_round 31 received 2 results and 0 failures\n",
      "DEBUG flwr 2023-08-29 12:28:56,608 | server.py:173 | evaluate_round 31: strategy sampled 2 clients (out of 5)\n"
     ]
    },
    {
     "name": "stdout",
     "output_type": "stream",
     "text": [
      "agrregate_fit results list length is  2\n",
      "Saving round 31 aggregated_parameters...\n"
     ]
    },
    {
     "name": "stderr",
     "output_type": "stream",
     "text": [
      "DEBUG flwr 2023-08-29 12:28:56,951 | server.py:187 | evaluate_round 31 received 2 results and 0 failures\n",
      "DEBUG flwr 2023-08-29 12:28:56,952 | server.py:222 | fit_round 32: strategy sampled 2 clients (out of 5)\n"
     ]
    },
    {
     "name": "stdout",
     "output_type": "stream",
     "text": [
      "agrregate_evaluate results list length is  2\n",
      "server round is  31\n",
      "loss is  0.6888888888888889\n"
     ]
    },
    {
     "name": "stderr",
     "output_type": "stream",
     "text": [
      "DEBUG flwr 2023-08-29 12:29:05,478 | server.py:236 | fit_round 32 received 2 results and 0 failures\n",
      "DEBUG flwr 2023-08-29 12:29:05,567 | server.py:173 | evaluate_round 32: strategy sampled 2 clients (out of 5)\n"
     ]
    },
    {
     "name": "stdout",
     "output_type": "stream",
     "text": [
      "agrregate_fit results list length is  2\n",
      "Saving round 32 aggregated_parameters...\n"
     ]
    },
    {
     "name": "stderr",
     "output_type": "stream",
     "text": [
      "DEBUG flwr 2023-08-29 12:29:05,851 | server.py:187 | evaluate_round 32 received 2 results and 0 failures\n",
      "DEBUG flwr 2023-08-29 12:29:05,853 | server.py:222 | fit_round 33: strategy sampled 2 clients (out of 5)\n"
     ]
    },
    {
     "name": "stdout",
     "output_type": "stream",
     "text": [
      "agrregate_evaluate results list length is  2\n",
      "server round is  32\n",
      "loss is  0.7166666666666667\n"
     ]
    },
    {
     "name": "stderr",
     "output_type": "stream",
     "text": [
      "DEBUG flwr 2023-08-29 12:29:12,789 | server.py:236 | fit_round 33 received 2 results and 0 failures\n",
      "DEBUG flwr 2023-08-29 12:29:12,885 | server.py:173 | evaluate_round 33: strategy sampled 2 clients (out of 5)\n"
     ]
    },
    {
     "name": "stdout",
     "output_type": "stream",
     "text": [
      "agrregate_fit results list length is  2\n",
      "Saving round 33 aggregated_parameters...\n"
     ]
    },
    {
     "name": "stderr",
     "output_type": "stream",
     "text": [
      "DEBUG flwr 2023-08-29 12:29:13,208 | server.py:187 | evaluate_round 33 received 2 results and 0 failures\n",
      "DEBUG flwr 2023-08-29 12:29:13,209 | server.py:222 | fit_round 34: strategy sampled 2 clients (out of 5)\n"
     ]
    },
    {
     "name": "stdout",
     "output_type": "stream",
     "text": [
      "agrregate_evaluate results list length is  2\n",
      "server round is  33\n",
      "loss is  0.7222222222222222\n"
     ]
    },
    {
     "name": "stderr",
     "output_type": "stream",
     "text": [
      "DEBUG flwr 2023-08-29 12:29:20,081 | server.py:236 | fit_round 34 received 2 results and 0 failures\n",
      "DEBUG flwr 2023-08-29 12:29:20,160 | server.py:173 | evaluate_round 34: strategy sampled 2 clients (out of 5)\n"
     ]
    },
    {
     "name": "stdout",
     "output_type": "stream",
     "text": [
      "agrregate_fit results list length is  2\n",
      "Saving round 34 aggregated_parameters...\n"
     ]
    },
    {
     "name": "stderr",
     "output_type": "stream",
     "text": [
      "DEBUG flwr 2023-08-29 12:29:20,414 | server.py:187 | evaluate_round 34 received 2 results and 0 failures\n",
      "DEBUG flwr 2023-08-29 12:29:20,416 | server.py:222 | fit_round 35: strategy sampled 2 clients (out of 5)\n"
     ]
    },
    {
     "name": "stdout",
     "output_type": "stream",
     "text": [
      "agrregate_evaluate results list length is  2\n",
      "server round is  34\n",
      "loss is  0.6166666666666667\n"
     ]
    },
    {
     "name": "stderr",
     "output_type": "stream",
     "text": [
      "DEBUG flwr 2023-08-29 12:29:26,967 | server.py:236 | fit_round 35 received 2 results and 0 failures\n",
      "DEBUG flwr 2023-08-29 12:29:27,041 | server.py:173 | evaluate_round 35: strategy sampled 2 clients (out of 5)\n"
     ]
    },
    {
     "name": "stdout",
     "output_type": "stream",
     "text": [
      "agrregate_fit results list length is  2\n",
      "Saving round 35 aggregated_parameters...\n"
     ]
    },
    {
     "name": "stderr",
     "output_type": "stream",
     "text": [
      "DEBUG flwr 2023-08-29 12:29:27,315 | server.py:187 | evaluate_round 35 received 2 results and 0 failures\n",
      "DEBUG flwr 2023-08-29 12:29:27,317 | server.py:222 | fit_round 36: strategy sampled 2 clients (out of 5)\n"
     ]
    },
    {
     "name": "stdout",
     "output_type": "stream",
     "text": [
      "agrregate_evaluate results list length is  2\n",
      "server round is  35\n",
      "loss is  0.7444444444444445\n"
     ]
    },
    {
     "name": "stderr",
     "output_type": "stream",
     "text": [
      "DEBUG flwr 2023-08-29 12:29:33,855 | server.py:236 | fit_round 36 received 2 results and 0 failures\n",
      "DEBUG flwr 2023-08-29 12:29:33,930 | server.py:173 | evaluate_round 36: strategy sampled 2 clients (out of 5)\n"
     ]
    },
    {
     "name": "stdout",
     "output_type": "stream",
     "text": [
      "agrregate_fit results list length is  2\n",
      "Saving round 36 aggregated_parameters...\n"
     ]
    },
    {
     "name": "stderr",
     "output_type": "stream",
     "text": [
      "DEBUG flwr 2023-08-29 12:29:34,210 | server.py:187 | evaluate_round 36 received 2 results and 0 failures\n",
      "DEBUG flwr 2023-08-29 12:29:34,212 | server.py:222 | fit_round 37: strategy sampled 2 clients (out of 5)\n"
     ]
    },
    {
     "name": "stdout",
     "output_type": "stream",
     "text": [
      "agrregate_evaluate results list length is  2\n",
      "server round is  36\n",
      "loss is  0.6833333333333333\n"
     ]
    },
    {
     "name": "stderr",
     "output_type": "stream",
     "text": [
      "DEBUG flwr 2023-08-29 12:29:41,423 | server.py:236 | fit_round 37 received 2 results and 0 failures\n",
      "DEBUG flwr 2023-08-29 12:29:41,514 | server.py:173 | evaluate_round 37: strategy sampled 2 clients (out of 5)\n"
     ]
    },
    {
     "name": "stdout",
     "output_type": "stream",
     "text": [
      "agrregate_fit results list length is  2\n",
      "Saving round 37 aggregated_parameters...\n"
     ]
    },
    {
     "name": "stderr",
     "output_type": "stream",
     "text": [
      "DEBUG flwr 2023-08-29 12:29:41,829 | server.py:187 | evaluate_round 37 received 2 results and 0 failures\n",
      "DEBUG flwr 2023-08-29 12:29:41,830 | server.py:222 | fit_round 38: strategy sampled 2 clients (out of 5)\n"
     ]
    },
    {
     "name": "stdout",
     "output_type": "stream",
     "text": [
      "agrregate_evaluate results list length is  2\n",
      "server round is  37\n",
      "loss is  0.7277777777777777\n"
     ]
    },
    {
     "name": "stderr",
     "output_type": "stream",
     "text": [
      "DEBUG flwr 2023-08-29 12:29:50,263 | server.py:236 | fit_round 38 received 2 results and 0 failures\n",
      "DEBUG flwr 2023-08-29 12:29:50,369 | server.py:173 | evaluate_round 38: strategy sampled 2 clients (out of 5)\n"
     ]
    },
    {
     "name": "stdout",
     "output_type": "stream",
     "text": [
      "agrregate_fit results list length is  2\n",
      "Saving round 38 aggregated_parameters...\n"
     ]
    },
    {
     "name": "stderr",
     "output_type": "stream",
     "text": [
      "DEBUG flwr 2023-08-29 12:29:50,699 | server.py:187 | evaluate_round 38 received 2 results and 0 failures\n",
      "DEBUG flwr 2023-08-29 12:29:50,701 | server.py:222 | fit_round 39: strategy sampled 2 clients (out of 5)\n"
     ]
    },
    {
     "name": "stdout",
     "output_type": "stream",
     "text": [
      "agrregate_evaluate results list length is  2\n",
      "server round is  38\n",
      "loss is  0.7111111111111111\n"
     ]
    },
    {
     "name": "stderr",
     "output_type": "stream",
     "text": [
      "DEBUG flwr 2023-08-29 12:29:58,933 | server.py:236 | fit_round 39 received 2 results and 0 failures\n",
      "DEBUG flwr 2023-08-29 12:29:59,037 | server.py:173 | evaluate_round 39: strategy sampled 2 clients (out of 5)\n"
     ]
    },
    {
     "name": "stdout",
     "output_type": "stream",
     "text": [
      "agrregate_fit results list length is  2\n",
      "Saving round 39 aggregated_parameters...\n"
     ]
    },
    {
     "name": "stderr",
     "output_type": "stream",
     "text": [
      "DEBUG flwr 2023-08-29 12:29:59,387 | server.py:187 | evaluate_round 39 received 2 results and 0 failures\n",
      "DEBUG flwr 2023-08-29 12:29:59,388 | server.py:222 | fit_round 40: strategy sampled 2 clients (out of 5)\n"
     ]
    },
    {
     "name": "stdout",
     "output_type": "stream",
     "text": [
      "agrregate_evaluate results list length is  2\n",
      "server round is  39\n",
      "loss is  0.6388888888888888\n"
     ]
    },
    {
     "name": "stderr",
     "output_type": "stream",
     "text": [
      "DEBUG flwr 2023-08-29 12:30:08,485 | server.py:236 | fit_round 40 received 2 results and 0 failures\n",
      "DEBUG flwr 2023-08-29 12:30:08,590 | server.py:173 | evaluate_round 40: strategy sampled 2 clients (out of 5)\n"
     ]
    },
    {
     "name": "stdout",
     "output_type": "stream",
     "text": [
      "agrregate_fit results list length is  2\n",
      "Saving round 40 aggregated_parameters...\n"
     ]
    },
    {
     "name": "stderr",
     "output_type": "stream",
     "text": [
      "DEBUG flwr 2023-08-29 12:30:08,937 | server.py:187 | evaluate_round 40 received 2 results and 0 failures\n",
      "INFO flwr 2023-08-29 12:30:08,940 | server.py:153 | FL finished in 408.0618723999942\n",
      "INFO flwr 2023-08-29 12:30:08,944 | app.py:225 | app_fit: losses_distributed [(1, 12.4), (2, 7.694444444444445), (3, 3.3777777777777778), (4, 1.6166666666666667), (5, 1.3166666666666667), (6, 1.0611111111111111), (7, 1.0055555555555555), (8, 1.0055555555555555), (9, 1.0), (10, 1.0777777777777777), (11, 0.9722222222222222), (12, 0.9666666666666667), (13, 0.8722222222222222), (14, 0.8333333333333334), (15, 0.7944444444444444), (16, 0.8111111111111111), (17, 0.8166666666666667), (18, 0.9388888888888889), (19, 0.7222222222222222), (20, 0.8277777777777777), (21, 0.75), (22, 0.7222222222222222), (23, 0.7833333333333333), (24, 0.7388888888888889), (25, 0.7888888888888889), (26, 0.7666666666666667), (27, 0.6777777777777778), (28, 0.7277777777777777), (29, 0.7166666666666667), (30, 0.6888888888888889), (31, 0.6888888888888889), (32, 0.7166666666666667), (33, 0.7222222222222222), (34, 0.6166666666666667), (35, 0.7444444444444445), (36, 0.6833333333333333), (37, 0.7277777777777777), (38, 0.7111111111111111), (39, 0.6388888888888888), (40, 0.6444444444444445)]\n",
      "INFO flwr 2023-08-29 12:30:08,946 | app.py:226 | app_fit: metrics_distributed_fit {}\n",
      "INFO flwr 2023-08-29 12:30:08,947 | app.py:227 | app_fit: metrics_distributed {'mse': [(1, 24.8), (2, 15.38888888888889), (3, 6.7555555555555555), (4, 3.2333333333333334), (5, 2.6333333333333333), (6, 2.1222222222222222), (7, 2.011111111111111), (8, 2.011111111111111), (9, 2.0), (10, 2.1555555555555554), (11, 1.9444444444444444), (12, 1.9333333333333333), (13, 1.7444444444444445), (14, 1.6666666666666667), (15, 1.5888888888888888), (16, 1.6222222222222222), (17, 1.6333333333333333), (18, 1.8777777777777778), (19, 1.4444444444444444), (20, 1.6555555555555554), (21, 1.5), (22, 1.4444444444444444), (23, 1.5666666666666667), (24, 1.4777777777777779), (25, 1.5777777777777777), (26, 1.5333333333333334), (27, 1.3555555555555556), (28, 1.4555555555555555), (29, 1.4333333333333333), (30, 1.3777777777777778), (31, 1.3777777777777778), (32, 1.4333333333333333), (33, 1.4444444444444444), (34, 1.2333333333333334), (35, 1.488888888888889), (36, 1.3666666666666667), (37, 1.4555555555555555), (38, 1.4222222222222223), (39, 1.2777777777777777), (40, 1.288888888888889)]}\n",
      "INFO flwr 2023-08-29 12:30:08,948 | app.py:228 | app_fit: losses_centralized []\n",
      "INFO flwr 2023-08-29 12:30:08,950 | app.py:229 | app_fit: metrics_centralized {}\n"
     ]
    },
    {
     "name": "stdout",
     "output_type": "stream",
     "text": [
      "agrregate_evaluate results list length is  2\n",
      "server round is  40\n",
      "loss is  0.6444444444444445\n",
      "History (loss, distributed):\n",
      "\tround 1: 12.4\n",
      "\tround 2: 7.694444444444445\n",
      "\tround 3: 3.3777777777777778\n",
      "\tround 4: 1.6166666666666667\n",
      "\tround 5: 1.3166666666666667\n",
      "\tround 6: 1.0611111111111111\n",
      "\tround 7: 1.0055555555555555\n",
      "\tround 8: 1.0055555555555555\n",
      "\tround 9: 1.0\n",
      "\tround 10: 1.0777777777777777\n",
      "\tround 11: 0.9722222222222222\n",
      "\tround 12: 0.9666666666666667\n",
      "\tround 13: 0.8722222222222222\n",
      "\tround 14: 0.8333333333333334\n",
      "\tround 15: 0.7944444444444444\n",
      "\tround 16: 0.8111111111111111\n",
      "\tround 17: 0.8166666666666667\n",
      "\tround 18: 0.9388888888888889\n",
      "\tround 19: 0.7222222222222222\n",
      "\tround 20: 0.8277777777777777\n",
      "\tround 21: 0.75\n",
      "\tround 22: 0.7222222222222222\n",
      "\tround 23: 0.7833333333333333\n",
      "\tround 24: 0.7388888888888889\n",
      "\tround 25: 0.7888888888888889\n",
      "\tround 26: 0.7666666666666667\n",
      "\tround 27: 0.6777777777777778\n",
      "\tround 28: 0.7277777777777777\n",
      "\tround 29: 0.7166666666666667\n",
      "\tround 30: 0.6888888888888889\n",
      "\tround 31: 0.6888888888888889\n",
      "\tround 32: 0.7166666666666667\n",
      "\tround 33: 0.7222222222222222\n",
      "\tround 34: 0.6166666666666667\n",
      "\tround 35: 0.7444444444444445\n",
      "\tround 36: 0.6833333333333333\n",
      "\tround 37: 0.7277777777777777\n",
      "\tround 38: 0.7111111111111111\n",
      "\tround 39: 0.6388888888888888\n",
      "\tround 40: 0.6444444444444445\n",
      "History (metrics, distributed, evaluate):\n",
      "{'mse': [(1, 24.8), (2, 15.38888888888889), (3, 6.7555555555555555), (4, 3.2333333333333334), (5, 2.6333333333333333), (6, 2.1222222222222222), (7, 2.011111111111111), (8, 2.011111111111111), (9, 2.0), (10, 2.1555555555555554), (11, 1.9444444444444444), (12, 1.9333333333333333), (13, 1.7444444444444445), (14, 1.6666666666666667), (15, 1.5888888888888888), (16, 1.6222222222222222), (17, 1.6333333333333333), (18, 1.8777777777777778), (19, 1.4444444444444444), (20, 1.6555555555555554), (21, 1.5), (22, 1.4444444444444444), (23, 1.5666666666666667), (24, 1.4777777777777779), (25, 1.5777777777777777), (26, 1.5333333333333334), (27, 1.3555555555555556), (28, 1.4555555555555555), (29, 1.4333333333333333), (30, 1.3777777777777778), (31, 1.3777777777777778), (32, 1.4333333333333333), (33, 1.4444444444444444), (34, 1.2333333333333334), (35, 1.488888888888889), (36, 1.3666666666666667), (37, 1.4555555555555555), (38, 1.4222222222222223), (39, 1.2777777777777777), (40, 1.288888888888889)]}\n",
      "[(1, 12.4), (2, 7.694444444444445), (3, 3.3777777777777778), (4, 1.6166666666666667), (5, 1.3166666666666667), (6, 1.0611111111111111), (7, 1.0055555555555555), (8, 1.0055555555555555), (9, 1.0), (10, 1.0777777777777777), (11, 0.9722222222222222), (12, 0.9666666666666667), (13, 0.8722222222222222), (14, 0.8333333333333334), (15, 0.7944444444444444), (16, 0.8111111111111111), (17, 0.8166666666666667), (18, 0.9388888888888889), (19, 0.7222222222222222), (20, 0.8277777777777777), (21, 0.75), (22, 0.7222222222222222), (23, 0.7833333333333333), (24, 0.7388888888888889), (25, 0.7888888888888889), (26, 0.7666666666666667), (27, 0.6777777777777778), (28, 0.7277777777777777), (29, 0.7166666666666667), (30, 0.6888888888888889), (31, 0.6888888888888889), (32, 0.7166666666666667), (33, 0.7222222222222222), (34, 0.6166666666666667), (35, 0.7444444444444445), (36, 0.6833333333333333), (37, 0.7277777777777777), (38, 0.7111111111111111), (39, 0.6388888888888888), (40, 0.6444444444444445)]\n"
     ]
    },
    {
     "name": "stderr",
     "output_type": "stream",
     "text": [
      "C:\\Users\\Shuyao\\AppData\\Local\\Temp\\ipykernel_6156\\3421847257.py:35: UserWarning: To copy construct from a tensor, it is recommended to use sourceTensor.clone().detach() or sourceTensor.clone().detach().requires_grad_(True), rather than torch.tensor(sourceTensor).\n",
      "  y_train = torch.reshape(torch.tensor(y_train), (-1, 1))\n",
      "C:\\Users\\Shuyao\\AppData\\Local\\Temp\\ipykernel_6156\\3421847257.py:36: UserWarning: To copy construct from a tensor, it is recommended to use sourceTensor.clone().detach() or sourceTensor.clone().detach().requires_grad_(True), rather than torch.tensor(sourceTensor).\n",
      "  y_test = torch.reshape(torch.tensor(y_test), (-1, 1))\n",
      "INFO flwr 2023-08-29 12:30:09,336 | app.py:145 | Starting Flower simulation, config: ServerConfig(num_rounds=40, round_timeout=None)\n"
     ]
    },
    {
     "name": "stdout",
     "output_type": "stream",
     "text": [
      "Fold 3:\n",
      "Client 0 trainset shape torch.Size([150, 3, 23])\n",
      "Client 1 trainset shape torch.Size([150, 3, 23])\n",
      "Client 2 trainset shape torch.Size([141, 3, 23])\n",
      "Client 3 trainset shape torch.Size([140, 3, 23])\n",
      "Client 4 trainset shape torch.Size([140, 3, 23])\n"
     ]
    },
    {
     "name": "stderr",
     "output_type": "stream",
     "text": [
      "2023-08-29 12:30:17,962\tINFO worker.py:1627 -- Started a local Ray instance. View the dashboard at \u001B[1m\u001B[32m127.0.0.1:8266 \u001B[39m\u001B[22m\n",
      "INFO flwr 2023-08-29 12:30:25,158 | app.py:179 | Flower VCE: Ray initialized with resources: {'CPU': 8.0, 'node:127.0.0.1': 1.0, 'memory': 1723885979.0, 'object_store_memory': 861942988.0, 'GPU': 1.0}\n",
      "INFO flwr 2023-08-29 12:30:25,160 | server.py:89 | Initializing global parameters\n",
      "INFO flwr 2023-08-29 12:30:25,161 | server.py:276 | Requesting initial parameters from one random client\n",
      "INFO flwr 2023-08-29 12:30:28,747 | server.py:280 | Received initial parameters from one random client\n",
      "INFO flwr 2023-08-29 12:30:28,748 | server.py:91 | Evaluating initial parameters\n",
      "INFO flwr 2023-08-29 12:30:28,748 | server.py:104 | FL starting\n",
      "DEBUG flwr 2023-08-29 12:30:28,749 | server.py:222 | fit_round 1: strategy sampled 2 clients (out of 5)\n",
      "DEBUG flwr 2023-08-29 12:30:42,227 | server.py:236 | fit_round 1 received 2 results and 0 failures\n",
      "WARNING flwr 2023-08-29 12:30:42,263 | fedavg.py:242 | No fit_metrics_aggregation_fn provided\n",
      "DEBUG flwr 2023-08-29 12:30:42,300 | server.py:173 | evaluate_round 1: strategy sampled 2 clients (out of 5)\n"
     ]
    },
    {
     "name": "stdout",
     "output_type": "stream",
     "text": [
      "agrregate_fit results list length is  2\n",
      "Saving round 1 aggregated_parameters...\n"
     ]
    },
    {
     "name": "stderr",
     "output_type": "stream",
     "text": [
      "DEBUG flwr 2023-08-29 12:30:42,563 | server.py:187 | evaluate_round 1 received 2 results and 0 failures\n",
      "DEBUG flwr 2023-08-29 12:30:42,564 | server.py:222 | fit_round 2: strategy sampled 2 clients (out of 5)\n"
     ]
    },
    {
     "name": "stdout",
     "output_type": "stream",
     "text": [
      "agrregate_evaluate results list length is  2\n",
      "server round is  1\n",
      "loss is  13.794444444444444\n"
     ]
    },
    {
     "name": "stderr",
     "output_type": "stream",
     "text": [
      "DEBUG flwr 2023-08-29 12:30:49,517 | server.py:236 | fit_round 2 received 2 results and 0 failures\n",
      "DEBUG flwr 2023-08-29 12:30:49,612 | server.py:173 | evaluate_round 2: strategy sampled 2 clients (out of 5)\n"
     ]
    },
    {
     "name": "stdout",
     "output_type": "stream",
     "text": [
      "agrregate_fit results list length is  2\n",
      "Saving round 2 aggregated_parameters...\n"
     ]
    },
    {
     "name": "stderr",
     "output_type": "stream",
     "text": [
      "DEBUG flwr 2023-08-29 12:30:49,930 | server.py:187 | evaluate_round 2 received 2 results and 0 failures\n",
      "DEBUG flwr 2023-08-29 12:30:49,931 | server.py:222 | fit_round 3: strategy sampled 2 clients (out of 5)\n"
     ]
    },
    {
     "name": "stdout",
     "output_type": "stream",
     "text": [
      "agrregate_evaluate results list length is  2\n",
      "server round is  2\n",
      "loss is  7.3\n"
     ]
    },
    {
     "name": "stderr",
     "output_type": "stream",
     "text": [
      "DEBUG flwr 2023-08-29 12:30:58,248 | server.py:236 | fit_round 3 received 2 results and 0 failures\n",
      "DEBUG flwr 2023-08-29 12:30:58,372 | server.py:173 | evaluate_round 3: strategy sampled 2 clients (out of 5)\n"
     ]
    },
    {
     "name": "stdout",
     "output_type": "stream",
     "text": [
      "agrregate_fit results list length is  2\n",
      "Saving round 3 aggregated_parameters...\n"
     ]
    },
    {
     "name": "stderr",
     "output_type": "stream",
     "text": [
      "DEBUG flwr 2023-08-29 12:30:58,779 | server.py:187 | evaluate_round 3 received 2 results and 0 failures\n",
      "DEBUG flwr 2023-08-29 12:30:58,781 | server.py:222 | fit_round 4: strategy sampled 2 clients (out of 5)\n"
     ]
    },
    {
     "name": "stdout",
     "output_type": "stream",
     "text": [
      "agrregate_evaluate results list length is  2\n",
      "server round is  3\n",
      "loss is  3.838888888888889\n"
     ]
    },
    {
     "name": "stderr",
     "output_type": "stream",
     "text": [
      "DEBUG flwr 2023-08-29 12:31:07,259 | server.py:236 | fit_round 4 received 2 results and 0 failures\n",
      "DEBUG flwr 2023-08-29 12:31:07,364 | server.py:173 | evaluate_round 4: strategy sampled 2 clients (out of 5)\n"
     ]
    },
    {
     "name": "stdout",
     "output_type": "stream",
     "text": [
      "agrregate_fit results list length is  2\n",
      "Saving round 4 aggregated_parameters...\n"
     ]
    },
    {
     "name": "stderr",
     "output_type": "stream",
     "text": [
      "DEBUG flwr 2023-08-29 12:31:07,704 | server.py:187 | evaluate_round 4 received 2 results and 0 failures\n",
      "DEBUG flwr 2023-08-29 12:31:07,705 | server.py:222 | fit_round 5: strategy sampled 2 clients (out of 5)\n"
     ]
    },
    {
     "name": "stdout",
     "output_type": "stream",
     "text": [
      "agrregate_evaluate results list length is  2\n",
      "server round is  4\n",
      "loss is  2.35\n"
     ]
    },
    {
     "name": "stderr",
     "output_type": "stream",
     "text": [
      "DEBUG flwr 2023-08-29 12:31:14,753 | server.py:236 | fit_round 5 received 2 results and 0 failures\n",
      "DEBUG flwr 2023-08-29 12:31:14,839 | server.py:173 | evaluate_round 5: strategy sampled 2 clients (out of 5)\n"
     ]
    },
    {
     "name": "stdout",
     "output_type": "stream",
     "text": [
      "agrregate_fit results list length is  2\n",
      "Saving round 5 aggregated_parameters...\n"
     ]
    },
    {
     "name": "stderr",
     "output_type": "stream",
     "text": [
      "DEBUG flwr 2023-08-29 12:31:15,128 | server.py:187 | evaluate_round 5 received 2 results and 0 failures\n",
      "DEBUG flwr 2023-08-29 12:31:15,129 | server.py:222 | fit_round 6: strategy sampled 2 clients (out of 5)\n"
     ]
    },
    {
     "name": "stdout",
     "output_type": "stream",
     "text": [
      "agrregate_evaluate results list length is  2\n",
      "server round is  5\n",
      "loss is  1.711111111111111\n"
     ]
    },
    {
     "name": "stderr",
     "output_type": "stream",
     "text": [
      "DEBUG flwr 2023-08-29 12:31:21,677 | server.py:236 | fit_round 6 received 2 results and 0 failures\n",
      "DEBUG flwr 2023-08-29 12:31:21,763 | server.py:173 | evaluate_round 6: strategy sampled 2 clients (out of 5)\n"
     ]
    },
    {
     "name": "stdout",
     "output_type": "stream",
     "text": [
      "agrregate_fit results list length is  2\n",
      "Saving round 6 aggregated_parameters...\n"
     ]
    },
    {
     "name": "stderr",
     "output_type": "stream",
     "text": [
      "DEBUG flwr 2023-08-29 12:31:22,025 | server.py:187 | evaluate_round 6 received 2 results and 0 failures\n",
      "DEBUG flwr 2023-08-29 12:31:22,026 | server.py:222 | fit_round 7: strategy sampled 2 clients (out of 5)\n"
     ]
    },
    {
     "name": "stdout",
     "output_type": "stream",
     "text": [
      "agrregate_evaluate results list length is  2\n",
      "server round is  6\n",
      "loss is  1.711111111111111\n"
     ]
    },
    {
     "name": "stderr",
     "output_type": "stream",
     "text": [
      "DEBUG flwr 2023-08-29 12:31:28,920 | server.py:236 | fit_round 7 received 2 results and 0 failures\n",
      "DEBUG flwr 2023-08-29 12:31:29,010 | server.py:173 | evaluate_round 7: strategy sampled 2 clients (out of 5)\n"
     ]
    },
    {
     "name": "stdout",
     "output_type": "stream",
     "text": [
      "agrregate_fit results list length is  2\n",
      "Saving round 7 aggregated_parameters...\n"
     ]
    },
    {
     "name": "stderr",
     "output_type": "stream",
     "text": [
      "DEBUG flwr 2023-08-29 12:31:29,315 | server.py:187 | evaluate_round 7 received 2 results and 0 failures\n",
      "DEBUG flwr 2023-08-29 12:31:29,316 | server.py:222 | fit_round 8: strategy sampled 2 clients (out of 5)\n"
     ]
    },
    {
     "name": "stdout",
     "output_type": "stream",
     "text": [
      "agrregate_evaluate results list length is  2\n",
      "server round is  7\n",
      "loss is  1.3944444444444444\n"
     ]
    },
    {
     "name": "stderr",
     "output_type": "stream",
     "text": [
      "DEBUG flwr 2023-08-29 12:31:38,176 | server.py:236 | fit_round 8 received 2 results and 0 failures\n",
      "DEBUG flwr 2023-08-29 12:31:38,267 | server.py:173 | evaluate_round 8: strategy sampled 2 clients (out of 5)\n"
     ]
    },
    {
     "name": "stdout",
     "output_type": "stream",
     "text": [
      "agrregate_fit results list length is  2\n",
      "Saving round 8 aggregated_parameters...\n"
     ]
    },
    {
     "name": "stderr",
     "output_type": "stream",
     "text": [
      "DEBUG flwr 2023-08-29 12:31:38,564 | server.py:187 | evaluate_round 8 received 2 results and 0 failures\n",
      "DEBUG flwr 2023-08-29 12:31:38,566 | server.py:222 | fit_round 9: strategy sampled 2 clients (out of 5)\n"
     ]
    },
    {
     "name": "stdout",
     "output_type": "stream",
     "text": [
      "agrregate_evaluate results list length is  2\n",
      "server round is  8\n",
      "loss is  1.1055555555555556\n"
     ]
    },
    {
     "name": "stderr",
     "output_type": "stream",
     "text": [
      "DEBUG flwr 2023-08-29 12:31:46,968 | server.py:236 | fit_round 9 received 2 results and 0 failures\n",
      "DEBUG flwr 2023-08-29 12:31:47,083 | server.py:173 | evaluate_round 9: strategy sampled 2 clients (out of 5)\n"
     ]
    },
    {
     "name": "stdout",
     "output_type": "stream",
     "text": [
      "agrregate_fit results list length is  2\n",
      "Saving round 9 aggregated_parameters...\n"
     ]
    },
    {
     "name": "stderr",
     "output_type": "stream",
     "text": [
      "DEBUG flwr 2023-08-29 12:31:47,380 | server.py:187 | evaluate_round 9 received 2 results and 0 failures\n",
      "DEBUG flwr 2023-08-29 12:31:47,381 | server.py:222 | fit_round 10: strategy sampled 2 clients (out of 5)\n"
     ]
    },
    {
     "name": "stdout",
     "output_type": "stream",
     "text": [
      "agrregate_evaluate results list length is  2\n",
      "server round is  9\n",
      "loss is  1.1222222222222222\n"
     ]
    },
    {
     "name": "stderr",
     "output_type": "stream",
     "text": [
      "DEBUG flwr 2023-08-29 12:32:00,370 | server.py:236 | fit_round 10 received 2 results and 0 failures\n"
     ]
    },
    {
     "name": "stdout",
     "output_type": "stream",
     "text": [
      "agrregate_fit results list length is  2\n",
      "Saving round 10 aggregated_parameters...\n"
     ]
    },
    {
     "name": "stderr",
     "output_type": "stream",
     "text": [
      "DEBUG flwr 2023-08-29 12:32:00,613 | server.py:173 | evaluate_round 10: strategy sampled 2 clients (out of 5)\n",
      "DEBUG flwr 2023-08-29 12:32:01,286 | server.py:187 | evaluate_round 10 received 2 results and 0 failures\n",
      "DEBUG flwr 2023-08-29 12:32:01,290 | server.py:222 | fit_round 11: strategy sampled 2 clients (out of 5)\n"
     ]
    },
    {
     "name": "stdout",
     "output_type": "stream",
     "text": [
      "agrregate_evaluate results list length is  2\n",
      "server round is  10\n",
      "loss is  1.0\n"
     ]
    },
    {
     "name": "stderr",
     "output_type": "stream",
     "text": [
      "DEBUG flwr 2023-08-29 12:32:13,359 | server.py:236 | fit_round 11 received 2 results and 0 failures\n"
     ]
    },
    {
     "name": "stdout",
     "output_type": "stream",
     "text": [
      "agrregate_fit results list length is  2\n",
      "Saving round 11 aggregated_parameters...\n"
     ]
    },
    {
     "name": "stderr",
     "output_type": "stream",
     "text": [
      "DEBUG flwr 2023-08-29 12:32:13,581 | server.py:173 | evaluate_round 11: strategy sampled 2 clients (out of 5)\n",
      "DEBUG flwr 2023-08-29 12:32:14,032 | server.py:187 | evaluate_round 11 received 2 results and 0 failures\n",
      "DEBUG flwr 2023-08-29 12:32:14,035 | server.py:222 | fit_round 12: strategy sampled 2 clients (out of 5)\n"
     ]
    },
    {
     "name": "stdout",
     "output_type": "stream",
     "text": [
      "agrregate_evaluate results list length is  2\n",
      "server round is  11\n",
      "loss is  1.0722222222222222\n"
     ]
    },
    {
     "name": "stderr",
     "output_type": "stream",
     "text": [
      "DEBUG flwr 2023-08-29 12:32:23,955 | server.py:236 | fit_round 12 received 2 results and 0 failures\n",
      "DEBUG flwr 2023-08-29 12:32:24,048 | server.py:173 | evaluate_round 12: strategy sampled 2 clients (out of 5)\n"
     ]
    },
    {
     "name": "stdout",
     "output_type": "stream",
     "text": [
      "agrregate_fit results list length is  2\n",
      "Saving round 12 aggregated_parameters...\n"
     ]
    },
    {
     "name": "stderr",
     "output_type": "stream",
     "text": [
      "DEBUG flwr 2023-08-29 12:32:24,344 | server.py:187 | evaluate_round 12 received 2 results and 0 failures\n",
      "DEBUG flwr 2023-08-29 12:32:24,346 | server.py:222 | fit_round 13: strategy sampled 2 clients (out of 5)\n"
     ]
    },
    {
     "name": "stdout",
     "output_type": "stream",
     "text": [
      "agrregate_evaluate results list length is  2\n",
      "server round is  12\n",
      "loss is  1.0333333333333334\n"
     ]
    },
    {
     "name": "stderr",
     "output_type": "stream",
     "text": [
      "DEBUG flwr 2023-08-29 12:32:32,109 | server.py:236 | fit_round 13 received 2 results and 0 failures\n",
      "DEBUG flwr 2023-08-29 12:32:32,193 | server.py:173 | evaluate_round 13: strategy sampled 2 clients (out of 5)\n"
     ]
    },
    {
     "name": "stdout",
     "output_type": "stream",
     "text": [
      "agrregate_fit results list length is  2\n",
      "Saving round 13 aggregated_parameters...\n"
     ]
    },
    {
     "name": "stderr",
     "output_type": "stream",
     "text": [
      "DEBUG flwr 2023-08-29 12:32:32,517 | server.py:187 | evaluate_round 13 received 2 results and 0 failures\n",
      "DEBUG flwr 2023-08-29 12:32:32,519 | server.py:222 | fit_round 14: strategy sampled 2 clients (out of 5)\n"
     ]
    },
    {
     "name": "stdout",
     "output_type": "stream",
     "text": [
      "agrregate_evaluate results list length is  2\n",
      "server round is  13\n",
      "loss is  0.85\n"
     ]
    },
    {
     "name": "stderr",
     "output_type": "stream",
     "text": [
      "DEBUG flwr 2023-08-29 12:32:40,403 | server.py:236 | fit_round 14 received 2 results and 0 failures\n",
      "DEBUG flwr 2023-08-29 12:32:40,500 | server.py:173 | evaluate_round 14: strategy sampled 2 clients (out of 5)\n"
     ]
    },
    {
     "name": "stdout",
     "output_type": "stream",
     "text": [
      "agrregate_fit results list length is  2\n",
      "Saving round 14 aggregated_parameters...\n"
     ]
    },
    {
     "name": "stderr",
     "output_type": "stream",
     "text": [
      "DEBUG flwr 2023-08-29 12:32:40,815 | server.py:187 | evaluate_round 14 received 2 results and 0 failures\n",
      "DEBUG flwr 2023-08-29 12:32:40,817 | server.py:222 | fit_round 15: strategy sampled 2 clients (out of 5)\n"
     ]
    },
    {
     "name": "stdout",
     "output_type": "stream",
     "text": [
      "agrregate_evaluate results list length is  2\n",
      "server round is  14\n",
      "loss is  0.9777777777777777\n"
     ]
    },
    {
     "name": "stderr",
     "output_type": "stream",
     "text": [
      "DEBUG flwr 2023-08-29 12:32:48,749 | server.py:236 | fit_round 15 received 2 results and 0 failures\n",
      "DEBUG flwr 2023-08-29 12:32:48,868 | server.py:173 | evaluate_round 15: strategy sampled 2 clients (out of 5)\n"
     ]
    },
    {
     "name": "stdout",
     "output_type": "stream",
     "text": [
      "agrregate_fit results list length is  2\n",
      "Saving round 15 aggregated_parameters...\n"
     ]
    },
    {
     "name": "stderr",
     "output_type": "stream",
     "text": [
      "DEBUG flwr 2023-08-29 12:32:49,217 | server.py:187 | evaluate_round 15 received 2 results and 0 failures\n",
      "DEBUG flwr 2023-08-29 12:32:49,218 | server.py:222 | fit_round 16: strategy sampled 2 clients (out of 5)\n"
     ]
    },
    {
     "name": "stdout",
     "output_type": "stream",
     "text": [
      "agrregate_evaluate results list length is  2\n",
      "server round is  15\n",
      "loss is  0.9111111111111111\n"
     ]
    },
    {
     "name": "stderr",
     "output_type": "stream",
     "text": [
      "DEBUG flwr 2023-08-29 12:32:58,240 | server.py:236 | fit_round 16 received 2 results and 0 failures\n",
      "DEBUG flwr 2023-08-29 12:32:58,394 | server.py:173 | evaluate_round 16: strategy sampled 2 clients (out of 5)\n"
     ]
    },
    {
     "name": "stdout",
     "output_type": "stream",
     "text": [
      "agrregate_fit results list length is  2\n",
      "Saving round 16 aggregated_parameters...\n"
     ]
    },
    {
     "name": "stderr",
     "output_type": "stream",
     "text": [
      "DEBUG flwr 2023-08-29 12:32:58,774 | server.py:187 | evaluate_round 16 received 2 results and 0 failures\n",
      "DEBUG flwr 2023-08-29 12:32:58,777 | server.py:222 | fit_round 17: strategy sampled 2 clients (out of 5)\n"
     ]
    },
    {
     "name": "stdout",
     "output_type": "stream",
     "text": [
      "agrregate_evaluate results list length is  2\n",
      "server round is  16\n",
      "loss is  0.8166666666666667\n"
     ]
    },
    {
     "name": "stderr",
     "output_type": "stream",
     "text": [
      "DEBUG flwr 2023-08-29 12:33:10,287 | server.py:236 | fit_round 17 received 2 results and 0 failures\n",
      "DEBUG flwr 2023-08-29 12:33:10,414 | server.py:173 | evaluate_round 17: strategy sampled 2 clients (out of 5)\n"
     ]
    },
    {
     "name": "stdout",
     "output_type": "stream",
     "text": [
      "agrregate_fit results list length is  2\n",
      "Saving round 17 aggregated_parameters...\n"
     ]
    },
    {
     "name": "stderr",
     "output_type": "stream",
     "text": [
      "DEBUG flwr 2023-08-29 12:33:10,815 | server.py:187 | evaluate_round 17 received 2 results and 0 failures\n",
      "DEBUG flwr 2023-08-29 12:33:10,815 | server.py:222 | fit_round 18: strategy sampled 2 clients (out of 5)\n"
     ]
    },
    {
     "name": "stdout",
     "output_type": "stream",
     "text": [
      "agrregate_evaluate results list length is  2\n",
      "server round is  17\n",
      "loss is  0.7611111111111111\n"
     ]
    },
    {
     "name": "stderr",
     "output_type": "stream",
     "text": [
      "DEBUG flwr 2023-08-29 12:33:20,888 | server.py:236 | fit_round 18 received 2 results and 0 failures\n",
      "DEBUG flwr 2023-08-29 12:33:20,968 | server.py:173 | evaluate_round 18: strategy sampled 2 clients (out of 5)\n"
     ]
    },
    {
     "name": "stdout",
     "output_type": "stream",
     "text": [
      "agrregate_fit results list length is  2\n",
      "Saving round 18 aggregated_parameters...\n"
     ]
    },
    {
     "name": "stderr",
     "output_type": "stream",
     "text": [
      "DEBUG flwr 2023-08-29 12:33:21,245 | server.py:187 | evaluate_round 18 received 2 results and 0 failures\n",
      "DEBUG flwr 2023-08-29 12:33:21,247 | server.py:222 | fit_round 19: strategy sampled 2 clients (out of 5)\n"
     ]
    },
    {
     "name": "stdout",
     "output_type": "stream",
     "text": [
      "agrregate_evaluate results list length is  2\n",
      "server round is  18\n",
      "loss is  0.7166666666666667\n"
     ]
    },
    {
     "name": "stderr",
     "output_type": "stream",
     "text": [
      "DEBUG flwr 2023-08-29 12:33:28,198 | server.py:236 | fit_round 19 received 2 results and 0 failures\n",
      "DEBUG flwr 2023-08-29 12:33:28,296 | server.py:173 | evaluate_round 19: strategy sampled 2 clients (out of 5)\n"
     ]
    },
    {
     "name": "stdout",
     "output_type": "stream",
     "text": [
      "agrregate_fit results list length is  2\n",
      "Saving round 19 aggregated_parameters...\n"
     ]
    },
    {
     "name": "stderr",
     "output_type": "stream",
     "text": [
      "DEBUG flwr 2023-08-29 12:33:28,624 | server.py:187 | evaluate_round 19 received 2 results and 0 failures\n",
      "DEBUG flwr 2023-08-29 12:33:28,626 | server.py:222 | fit_round 20: strategy sampled 2 clients (out of 5)\n"
     ]
    },
    {
     "name": "stdout",
     "output_type": "stream",
     "text": [
      "agrregate_evaluate results list length is  2\n",
      "server round is  19\n",
      "loss is  0.7444444444444445\n"
     ]
    },
    {
     "name": "stderr",
     "output_type": "stream",
     "text": [
      "DEBUG flwr 2023-08-29 12:33:35,547 | server.py:236 | fit_round 20 received 2 results and 0 failures\n",
      "DEBUG flwr 2023-08-29 12:33:35,627 | server.py:173 | evaluate_round 20: strategy sampled 2 clients (out of 5)\n"
     ]
    },
    {
     "name": "stdout",
     "output_type": "stream",
     "text": [
      "agrregate_fit results list length is  2\n",
      "Saving round 20 aggregated_parameters...\n"
     ]
    },
    {
     "name": "stderr",
     "output_type": "stream",
     "text": [
      "DEBUG flwr 2023-08-29 12:33:35,905 | server.py:187 | evaluate_round 20 received 2 results and 0 failures\n",
      "DEBUG flwr 2023-08-29 12:33:35,907 | server.py:222 | fit_round 21: strategy sampled 2 clients (out of 5)\n"
     ]
    },
    {
     "name": "stdout",
     "output_type": "stream",
     "text": [
      "agrregate_evaluate results list length is  2\n",
      "server round is  20\n",
      "loss is  0.75\n"
     ]
    },
    {
     "name": "stderr",
     "output_type": "stream",
     "text": [
      "DEBUG flwr 2023-08-29 12:33:42,979 | server.py:236 | fit_round 21 received 2 results and 0 failures\n",
      "DEBUG flwr 2023-08-29 12:33:43,076 | server.py:173 | evaluate_round 21: strategy sampled 2 clients (out of 5)\n"
     ]
    },
    {
     "name": "stdout",
     "output_type": "stream",
     "text": [
      "agrregate_fit results list length is  2\n",
      "Saving round 21 aggregated_parameters...\n"
     ]
    },
    {
     "name": "stderr",
     "output_type": "stream",
     "text": [
      "DEBUG flwr 2023-08-29 12:33:43,364 | server.py:187 | evaluate_round 21 received 2 results and 0 failures\n",
      "DEBUG flwr 2023-08-29 12:33:43,366 | server.py:222 | fit_round 22: strategy sampled 2 clients (out of 5)\n"
     ]
    },
    {
     "name": "stdout",
     "output_type": "stream",
     "text": [
      "agrregate_evaluate results list length is  2\n",
      "server round is  21\n",
      "loss is  0.7166666666666667\n"
     ]
    },
    {
     "name": "stderr",
     "output_type": "stream",
     "text": [
      "DEBUG flwr 2023-08-29 12:33:50,133 | server.py:236 | fit_round 22 received 2 results and 0 failures\n",
      "DEBUG flwr 2023-08-29 12:33:50,216 | server.py:173 | evaluate_round 22: strategy sampled 2 clients (out of 5)\n"
     ]
    },
    {
     "name": "stdout",
     "output_type": "stream",
     "text": [
      "agrregate_fit results list length is  2\n",
      "Saving round 22 aggregated_parameters...\n"
     ]
    },
    {
     "name": "stderr",
     "output_type": "stream",
     "text": [
      "DEBUG flwr 2023-08-29 12:33:50,481 | server.py:187 | evaluate_round 22 received 2 results and 0 failures\n",
      "DEBUG flwr 2023-08-29 12:33:50,482 | server.py:222 | fit_round 23: strategy sampled 2 clients (out of 5)\n"
     ]
    },
    {
     "name": "stdout",
     "output_type": "stream",
     "text": [
      "agrregate_evaluate results list length is  2\n",
      "server round is  22\n",
      "loss is  0.75\n"
     ]
    },
    {
     "name": "stderr",
     "output_type": "stream",
     "text": [
      "DEBUG flwr 2023-08-29 12:33:56,828 | server.py:236 | fit_round 23 received 2 results and 0 failures\n",
      "DEBUG flwr 2023-08-29 12:33:56,915 | server.py:173 | evaluate_round 23: strategy sampled 2 clients (out of 5)\n"
     ]
    },
    {
     "name": "stdout",
     "output_type": "stream",
     "text": [
      "agrregate_fit results list length is  2\n",
      "Saving round 23 aggregated_parameters...\n"
     ]
    },
    {
     "name": "stderr",
     "output_type": "stream",
     "text": [
      "DEBUG flwr 2023-08-29 12:33:57,164 | server.py:187 | evaluate_round 23 received 2 results and 0 failures\n",
      "DEBUG flwr 2023-08-29 12:33:57,165 | server.py:222 | fit_round 24: strategy sampled 2 clients (out of 5)\n"
     ]
    },
    {
     "name": "stdout",
     "output_type": "stream",
     "text": [
      "agrregate_evaluate results list length is  2\n",
      "server round is  23\n",
      "loss is  0.7555555555555555\n"
     ]
    },
    {
     "name": "stderr",
     "output_type": "stream",
     "text": [
      "DEBUG flwr 2023-08-29 12:34:03,784 | server.py:236 | fit_round 24 received 2 results and 0 failures\n",
      "DEBUG flwr 2023-08-29 12:34:03,877 | server.py:173 | evaluate_round 24: strategy sampled 2 clients (out of 5)\n"
     ]
    },
    {
     "name": "stdout",
     "output_type": "stream",
     "text": [
      "agrregate_fit results list length is  2\n",
      "Saving round 24 aggregated_parameters...\n"
     ]
    },
    {
     "name": "stderr",
     "output_type": "stream",
     "text": [
      "DEBUG flwr 2023-08-29 12:34:04,133 | server.py:187 | evaluate_round 24 received 2 results and 0 failures\n",
      "DEBUG flwr 2023-08-29 12:34:04,134 | server.py:222 | fit_round 25: strategy sampled 2 clients (out of 5)\n"
     ]
    },
    {
     "name": "stdout",
     "output_type": "stream",
     "text": [
      "agrregate_evaluate results list length is  2\n",
      "server round is  24\n",
      "loss is  0.7111111111111111\n"
     ]
    },
    {
     "name": "stderr",
     "output_type": "stream",
     "text": [
      "DEBUG flwr 2023-08-29 12:34:11,102 | server.py:236 | fit_round 25 received 2 results and 0 failures\n",
      "DEBUG flwr 2023-08-29 12:34:11,191 | server.py:173 | evaluate_round 25: strategy sampled 2 clients (out of 5)\n"
     ]
    },
    {
     "name": "stdout",
     "output_type": "stream",
     "text": [
      "agrregate_fit results list length is  2\n",
      "Saving round 25 aggregated_parameters...\n"
     ]
    },
    {
     "name": "stderr",
     "output_type": "stream",
     "text": [
      "DEBUG flwr 2023-08-29 12:34:11,472 | server.py:187 | evaluate_round 25 received 2 results and 0 failures\n",
      "DEBUG flwr 2023-08-29 12:34:11,474 | server.py:222 | fit_round 26: strategy sampled 2 clients (out of 5)\n"
     ]
    },
    {
     "name": "stdout",
     "output_type": "stream",
     "text": [
      "agrregate_evaluate results list length is  2\n",
      "server round is  25\n",
      "loss is  0.6722222222222223\n"
     ]
    },
    {
     "name": "stderr",
     "output_type": "stream",
     "text": [
      "DEBUG flwr 2023-08-29 12:34:18,039 | server.py:236 | fit_round 26 received 2 results and 0 failures\n",
      "DEBUG flwr 2023-08-29 12:34:18,116 | server.py:173 | evaluate_round 26: strategy sampled 2 clients (out of 5)\n"
     ]
    },
    {
     "name": "stdout",
     "output_type": "stream",
     "text": [
      "agrregate_fit results list length is  2\n",
      "Saving round 26 aggregated_parameters...\n"
     ]
    },
    {
     "name": "stderr",
     "output_type": "stream",
     "text": [
      "DEBUG flwr 2023-08-29 12:34:18,408 | server.py:187 | evaluate_round 26 received 2 results and 0 failures\n",
      "DEBUG flwr 2023-08-29 12:34:18,409 | server.py:222 | fit_round 27: strategy sampled 2 clients (out of 5)\n"
     ]
    },
    {
     "name": "stdout",
     "output_type": "stream",
     "text": [
      "agrregate_evaluate results list length is  2\n",
      "server round is  26\n",
      "loss is  0.7277777777777777\n"
     ]
    },
    {
     "name": "stderr",
     "output_type": "stream",
     "text": [
      "DEBUG flwr 2023-08-29 12:34:24,693 | server.py:236 | fit_round 27 received 2 results and 0 failures\n",
      "DEBUG flwr 2023-08-29 12:34:24,783 | server.py:173 | evaluate_round 27: strategy sampled 2 clients (out of 5)\n"
     ]
    },
    {
     "name": "stdout",
     "output_type": "stream",
     "text": [
      "agrregate_fit results list length is  2\n",
      "Saving round 27 aggregated_parameters...\n"
     ]
    },
    {
     "name": "stderr",
     "output_type": "stream",
     "text": [
      "DEBUG flwr 2023-08-29 12:34:25,037 | server.py:187 | evaluate_round 27 received 2 results and 0 failures\n",
      "DEBUG flwr 2023-08-29 12:34:25,039 | server.py:222 | fit_round 28: strategy sampled 2 clients (out of 5)\n"
     ]
    },
    {
     "name": "stdout",
     "output_type": "stream",
     "text": [
      "agrregate_evaluate results list length is  2\n",
      "server round is  27\n",
      "loss is  0.7222222222222222\n"
     ]
    },
    {
     "name": "stderr",
     "output_type": "stream",
     "text": [
      "DEBUG flwr 2023-08-29 12:34:31,586 | server.py:236 | fit_round 28 received 2 results and 0 failures\n",
      "DEBUG flwr 2023-08-29 12:34:31,680 | server.py:173 | evaluate_round 28: strategy sampled 2 clients (out of 5)\n"
     ]
    },
    {
     "name": "stdout",
     "output_type": "stream",
     "text": [
      "agrregate_fit results list length is  2\n",
      "Saving round 28 aggregated_parameters...\n"
     ]
    },
    {
     "name": "stderr",
     "output_type": "stream",
     "text": [
      "DEBUG flwr 2023-08-29 12:34:31,950 | server.py:187 | evaluate_round 28 received 2 results and 0 failures\n",
      "DEBUG flwr 2023-08-29 12:34:31,951 | server.py:222 | fit_round 29: strategy sampled 2 clients (out of 5)\n"
     ]
    },
    {
     "name": "stdout",
     "output_type": "stream",
     "text": [
      "agrregate_evaluate results list length is  2\n",
      "server round is  28\n",
      "loss is  1.0277777777777777\n"
     ]
    },
    {
     "name": "stderr",
     "output_type": "stream",
     "text": [
      "DEBUG flwr 2023-08-29 12:34:38,885 | server.py:236 | fit_round 29 received 2 results and 0 failures\n",
      "DEBUG flwr 2023-08-29 12:34:38,969 | server.py:173 | evaluate_round 29: strategy sampled 2 clients (out of 5)\n"
     ]
    },
    {
     "name": "stdout",
     "output_type": "stream",
     "text": [
      "agrregate_fit results list length is  2\n",
      "Saving round 29 aggregated_parameters...\n"
     ]
    },
    {
     "name": "stderr",
     "output_type": "stream",
     "text": [
      "DEBUG flwr 2023-08-29 12:34:39,244 | server.py:187 | evaluate_round 29 received 2 results and 0 failures\n",
      "DEBUG flwr 2023-08-29 12:34:39,245 | server.py:222 | fit_round 30: strategy sampled 2 clients (out of 5)\n"
     ]
    },
    {
     "name": "stdout",
     "output_type": "stream",
     "text": [
      "agrregate_evaluate results list length is  2\n",
      "server round is  29\n",
      "loss is  0.6388888888888888\n"
     ]
    },
    {
     "name": "stderr",
     "output_type": "stream",
     "text": [
      "DEBUG flwr 2023-08-29 12:34:46,021 | server.py:236 | fit_round 30 received 2 results and 0 failures\n",
      "DEBUG flwr 2023-08-29 12:34:46,123 | server.py:173 | evaluate_round 30: strategy sampled 2 clients (out of 5)\n"
     ]
    },
    {
     "name": "stdout",
     "output_type": "stream",
     "text": [
      "agrregate_fit results list length is  2\n",
      "Saving round 30 aggregated_parameters...\n"
     ]
    },
    {
     "name": "stderr",
     "output_type": "stream",
     "text": [
      "DEBUG flwr 2023-08-29 12:34:46,463 | server.py:187 | evaluate_round 30 received 2 results and 0 failures\n",
      "DEBUG flwr 2023-08-29 12:34:46,465 | server.py:222 | fit_round 31: strategy sampled 2 clients (out of 5)\n"
     ]
    },
    {
     "name": "stdout",
     "output_type": "stream",
     "text": [
      "agrregate_evaluate results list length is  2\n",
      "server round is  30\n",
      "loss is  0.7277777777777777\n"
     ]
    },
    {
     "name": "stderr",
     "output_type": "stream",
     "text": [
      "DEBUG flwr 2023-08-29 12:34:53,835 | server.py:236 | fit_round 31 received 2 results and 0 failures\n",
      "DEBUG flwr 2023-08-29 12:34:53,922 | server.py:173 | evaluate_round 31: strategy sampled 2 clients (out of 5)\n"
     ]
    },
    {
     "name": "stdout",
     "output_type": "stream",
     "text": [
      "agrregate_fit results list length is  2\n",
      "Saving round 31 aggregated_parameters...\n"
     ]
    },
    {
     "name": "stderr",
     "output_type": "stream",
     "text": [
      "DEBUG flwr 2023-08-29 12:34:54,177 | server.py:187 | evaluate_round 31 received 2 results and 0 failures\n",
      "DEBUG flwr 2023-08-29 12:34:54,179 | server.py:222 | fit_round 32: strategy sampled 2 clients (out of 5)\n"
     ]
    },
    {
     "name": "stdout",
     "output_type": "stream",
     "text": [
      "agrregate_evaluate results list length is  2\n",
      "server round is  31\n",
      "loss is  0.7388888888888889\n"
     ]
    },
    {
     "name": "stderr",
     "output_type": "stream",
     "text": [
      "DEBUG flwr 2023-08-29 12:35:00,546 | server.py:236 | fit_round 32 received 2 results and 0 failures\n",
      "DEBUG flwr 2023-08-29 12:35:00,628 | server.py:173 | evaluate_round 32: strategy sampled 2 clients (out of 5)\n"
     ]
    },
    {
     "name": "stdout",
     "output_type": "stream",
     "text": [
      "agrregate_fit results list length is  2\n",
      "Saving round 32 aggregated_parameters...\n"
     ]
    },
    {
     "name": "stderr",
     "output_type": "stream",
     "text": [
      "DEBUG flwr 2023-08-29 12:35:00,889 | server.py:187 | evaluate_round 32 received 2 results and 0 failures\n",
      "DEBUG flwr 2023-08-29 12:35:00,891 | server.py:222 | fit_round 33: strategy sampled 2 clients (out of 5)\n"
     ]
    },
    {
     "name": "stdout",
     "output_type": "stream",
     "text": [
      "agrregate_evaluate results list length is  2\n",
      "server round is  32\n",
      "loss is  0.8777777777777778\n"
     ]
    },
    {
     "name": "stderr",
     "output_type": "stream",
     "text": [
      "DEBUG flwr 2023-08-29 12:35:08,334 | server.py:236 | fit_round 33 received 2 results and 0 failures\n",
      "DEBUG flwr 2023-08-29 12:35:08,429 | server.py:173 | evaluate_round 33: strategy sampled 2 clients (out of 5)\n"
     ]
    },
    {
     "name": "stdout",
     "output_type": "stream",
     "text": [
      "agrregate_fit results list length is  2\n",
      "Saving round 33 aggregated_parameters...\n"
     ]
    },
    {
     "name": "stderr",
     "output_type": "stream",
     "text": [
      "DEBUG flwr 2023-08-29 12:35:08,740 | server.py:187 | evaluate_round 33 received 2 results and 0 failures\n",
      "DEBUG flwr 2023-08-29 12:35:08,743 | server.py:222 | fit_round 34: strategy sampled 2 clients (out of 5)\n"
     ]
    },
    {
     "name": "stdout",
     "output_type": "stream",
     "text": [
      "agrregate_evaluate results list length is  2\n",
      "server round is  33\n",
      "loss is  0.6888888888888889\n"
     ]
    },
    {
     "name": "stderr",
     "output_type": "stream",
     "text": [
      "DEBUG flwr 2023-08-29 12:35:16,730 | server.py:236 | fit_round 34 received 2 results and 0 failures\n",
      "DEBUG flwr 2023-08-29 12:35:16,825 | server.py:173 | evaluate_round 34: strategy sampled 2 clients (out of 5)\n"
     ]
    },
    {
     "name": "stdout",
     "output_type": "stream",
     "text": [
      "agrregate_fit results list length is  2\n",
      "Saving round 34 aggregated_parameters...\n"
     ]
    },
    {
     "name": "stderr",
     "output_type": "stream",
     "text": [
      "DEBUG flwr 2023-08-29 12:35:17,119 | server.py:187 | evaluate_round 34 received 2 results and 0 failures\n",
      "DEBUG flwr 2023-08-29 12:35:17,120 | server.py:222 | fit_round 35: strategy sampled 2 clients (out of 5)\n"
     ]
    },
    {
     "name": "stdout",
     "output_type": "stream",
     "text": [
      "agrregate_evaluate results list length is  2\n",
      "server round is  34\n",
      "loss is  0.75\n"
     ]
    },
    {
     "name": "stderr",
     "output_type": "stream",
     "text": [
      "DEBUG flwr 2023-08-29 12:35:23,951 | server.py:236 | fit_round 35 received 2 results and 0 failures\n",
      "DEBUG flwr 2023-08-29 12:35:24,065 | server.py:173 | evaluate_round 35: strategy sampled 2 clients (out of 5)\n"
     ]
    },
    {
     "name": "stdout",
     "output_type": "stream",
     "text": [
      "agrregate_fit results list length is  2\n",
      "Saving round 35 aggregated_parameters...\n"
     ]
    },
    {
     "name": "stderr",
     "output_type": "stream",
     "text": [
      "DEBUG flwr 2023-08-29 12:35:24,511 | server.py:187 | evaluate_round 35 received 2 results and 0 failures\n",
      "DEBUG flwr 2023-08-29 12:35:24,513 | server.py:222 | fit_round 36: strategy sampled 2 clients (out of 5)\n"
     ]
    },
    {
     "name": "stdout",
     "output_type": "stream",
     "text": [
      "agrregate_evaluate results list length is  2\n",
      "server round is  35\n",
      "loss is  0.7555555555555555\n"
     ]
    },
    {
     "name": "stderr",
     "output_type": "stream",
     "text": [
      "DEBUG flwr 2023-08-29 12:35:35,524 | server.py:236 | fit_round 36 received 2 results and 0 failures\n",
      "DEBUG flwr 2023-08-29 12:35:35,707 | server.py:173 | evaluate_round 36: strategy sampled 2 clients (out of 5)\n"
     ]
    },
    {
     "name": "stdout",
     "output_type": "stream",
     "text": [
      "agrregate_fit results list length is  2\n",
      "Saving round 36 aggregated_parameters...\n"
     ]
    },
    {
     "name": "stderr",
     "output_type": "stream",
     "text": [
      "DEBUG flwr 2023-08-29 12:35:36,172 | server.py:187 | evaluate_round 36 received 2 results and 0 failures\n",
      "DEBUG flwr 2023-08-29 12:35:36,174 | server.py:222 | fit_round 37: strategy sampled 2 clients (out of 5)\n"
     ]
    },
    {
     "name": "stdout",
     "output_type": "stream",
     "text": [
      "agrregate_evaluate results list length is  2\n",
      "server round is  36\n",
      "loss is  0.6333333333333333\n"
     ]
    },
    {
     "name": "stderr",
     "output_type": "stream",
     "text": [
      "DEBUG flwr 2023-08-29 12:35:47,180 | server.py:236 | fit_round 37 received 2 results and 0 failures\n",
      "DEBUG flwr 2023-08-29 12:35:47,290 | server.py:173 | evaluate_round 37: strategy sampled 2 clients (out of 5)\n"
     ]
    },
    {
     "name": "stdout",
     "output_type": "stream",
     "text": [
      "agrregate_fit results list length is  2\n",
      "Saving round 37 aggregated_parameters...\n"
     ]
    },
    {
     "name": "stderr",
     "output_type": "stream",
     "text": [
      "DEBUG flwr 2023-08-29 12:35:47,761 | server.py:187 | evaluate_round 37 received 2 results and 0 failures\n",
      "DEBUG flwr 2023-08-29 12:35:47,764 | server.py:222 | fit_round 38: strategy sampled 2 clients (out of 5)\n"
     ]
    },
    {
     "name": "stdout",
     "output_type": "stream",
     "text": [
      "agrregate_evaluate results list length is  2\n",
      "server round is  37\n",
      "loss is  0.65\n"
     ]
    },
    {
     "name": "stderr",
     "output_type": "stream",
     "text": [
      "DEBUG flwr 2023-08-29 12:35:55,497 | server.py:236 | fit_round 38 received 2 results and 0 failures\n",
      "DEBUG flwr 2023-08-29 12:35:55,589 | server.py:173 | evaluate_round 38: strategy sampled 2 clients (out of 5)\n"
     ]
    },
    {
     "name": "stdout",
     "output_type": "stream",
     "text": [
      "agrregate_fit results list length is  2\n",
      "Saving round 38 aggregated_parameters...\n"
     ]
    },
    {
     "name": "stderr",
     "output_type": "stream",
     "text": [
      "DEBUG flwr 2023-08-29 12:35:55,838 | server.py:187 | evaluate_round 38 received 2 results and 0 failures\n",
      "DEBUG flwr 2023-08-29 12:35:55,840 | server.py:222 | fit_round 39: strategy sampled 2 clients (out of 5)\n"
     ]
    },
    {
     "name": "stdout",
     "output_type": "stream",
     "text": [
      "agrregate_evaluate results list length is  2\n",
      "server round is  38\n",
      "loss is  0.6833333333333333\n"
     ]
    },
    {
     "name": "stderr",
     "output_type": "stream",
     "text": [
      "DEBUG flwr 2023-08-29 12:36:03,087 | server.py:236 | fit_round 39 received 2 results and 0 failures\n",
      "DEBUG flwr 2023-08-29 12:36:03,175 | server.py:173 | evaluate_round 39: strategy sampled 2 clients (out of 5)\n"
     ]
    },
    {
     "name": "stdout",
     "output_type": "stream",
     "text": [
      "agrregate_fit results list length is  2\n",
      "Saving round 39 aggregated_parameters...\n"
     ]
    },
    {
     "name": "stderr",
     "output_type": "stream",
     "text": [
      "DEBUG flwr 2023-08-29 12:36:03,433 | server.py:187 | evaluate_round 39 received 2 results and 0 failures\n",
      "DEBUG flwr 2023-08-29 12:36:03,436 | server.py:222 | fit_round 40: strategy sampled 2 clients (out of 5)\n"
     ]
    },
    {
     "name": "stdout",
     "output_type": "stream",
     "text": [
      "agrregate_evaluate results list length is  2\n",
      "server round is  39\n",
      "loss is  0.6611111111111111\n"
     ]
    },
    {
     "name": "stderr",
     "output_type": "stream",
     "text": [
      "DEBUG flwr 2023-08-29 12:36:12,114 | server.py:236 | fit_round 40 received 2 results and 0 failures\n",
      "DEBUG flwr 2023-08-29 12:36:12,205 | server.py:173 | evaluate_round 40: strategy sampled 2 clients (out of 5)\n"
     ]
    },
    {
     "name": "stdout",
     "output_type": "stream",
     "text": [
      "agrregate_fit results list length is  2\n",
      "Saving round 40 aggregated_parameters...\n"
     ]
    },
    {
     "name": "stderr",
     "output_type": "stream",
     "text": [
      "DEBUG flwr 2023-08-29 12:36:12,476 | server.py:187 | evaluate_round 40 received 2 results and 0 failures\n",
      "INFO flwr 2023-08-29 12:36:12,478 | server.py:153 | FL finished in 343.72874749999755\n",
      "INFO flwr 2023-08-29 12:36:12,481 | app.py:225 | app_fit: losses_distributed [(1, 13.794444444444444), (2, 7.3), (3, 3.838888888888889), (4, 2.35), (5, 1.711111111111111), (6, 1.711111111111111), (7, 1.3944444444444444), (8, 1.1055555555555556), (9, 1.1222222222222222), (10, 1.0), (11, 1.0722222222222222), (12, 1.0333333333333334), (13, 0.85), (14, 0.9777777777777777), (15, 0.9111111111111111), (16, 0.8166666666666667), (17, 0.7611111111111111), (18, 0.7166666666666667), (19, 0.7444444444444445), (20, 0.75), (21, 0.7166666666666667), (22, 0.75), (23, 0.7555555555555555), (24, 0.7111111111111111), (25, 0.6722222222222223), (26, 0.7277777777777777), (27, 0.7222222222222222), (28, 1.0277777777777777), (29, 0.6388888888888888), (30, 0.7277777777777777), (31, 0.7388888888888889), (32, 0.8777777777777778), (33, 0.6888888888888889), (34, 0.75), (35, 0.7555555555555555), (36, 0.6333333333333333), (37, 0.65), (38, 0.6833333333333333), (39, 0.6611111111111111), (40, 0.6166666666666667)]\n",
      "INFO flwr 2023-08-29 12:36:12,483 | app.py:226 | app_fit: metrics_distributed_fit {}\n",
      "INFO flwr 2023-08-29 12:36:12,484 | app.py:227 | app_fit: metrics_distributed {'mse': [(1, 27.58888888888889), (2, 14.6), (3, 7.677777777777778), (4, 4.7), (5, 3.422222222222222), (6, 3.422222222222222), (7, 2.7888888888888888), (8, 2.2111111111111112), (9, 2.2444444444444445), (10, 2.0), (11, 2.1444444444444444), (12, 2.066666666666667), (13, 1.7), (14, 1.9555555555555555), (15, 1.8222222222222222), (16, 1.6333333333333333), (17, 1.5222222222222221), (18, 1.4333333333333333), (19, 1.488888888888889), (20, 1.5), (21, 1.4333333333333333), (22, 1.5), (23, 1.511111111111111), (24, 1.4222222222222223), (25, 1.3444444444444446), (26, 1.4555555555555555), (27, 1.4444444444444444), (28, 2.0555555555555554), (29, 1.2777777777777777), (30, 1.4555555555555555), (31, 1.4777777777777779), (32, 1.7555555555555555), (33, 1.3777777777777778), (34, 1.5), (35, 1.511111111111111), (36, 1.2666666666666666), (37, 1.3), (38, 1.3666666666666667), (39, 1.3222222222222222), (40, 1.2333333333333334)]}\n",
      "INFO flwr 2023-08-29 12:36:12,484 | app.py:228 | app_fit: losses_centralized []\n",
      "INFO flwr 2023-08-29 12:36:12,485 | app.py:229 | app_fit: metrics_centralized {}\n",
      "C:\\Users\\Shuyao\\AppData\\Local\\Temp\\ipykernel_6156\\3421847257.py:35: UserWarning: To copy construct from a tensor, it is recommended to use sourceTensor.clone().detach() or sourceTensor.clone().detach().requires_grad_(True), rather than torch.tensor(sourceTensor).\n",
      "  y_train = torch.reshape(torch.tensor(y_train), (-1, 1))\n"
     ]
    },
    {
     "name": "stdout",
     "output_type": "stream",
     "text": [
      "agrregate_evaluate results list length is  2\n",
      "server round is  40\n",
      "loss is  0.6166666666666667\n",
      "History (loss, distributed):\n",
      "\tround 1: 13.794444444444444\n",
      "\tround 2: 7.3\n",
      "\tround 3: 3.838888888888889\n",
      "\tround 4: 2.35\n",
      "\tround 5: 1.711111111111111\n",
      "\tround 6: 1.711111111111111\n",
      "\tround 7: 1.3944444444444444\n",
      "\tround 8: 1.1055555555555556\n",
      "\tround 9: 1.1222222222222222\n",
      "\tround 10: 1.0\n",
      "\tround 11: 1.0722222222222222\n",
      "\tround 12: 1.0333333333333334\n",
      "\tround 13: 0.85\n",
      "\tround 14: 0.9777777777777777\n",
      "\tround 15: 0.9111111111111111\n",
      "\tround 16: 0.8166666666666667\n",
      "\tround 17: 0.7611111111111111\n",
      "\tround 18: 0.7166666666666667\n",
      "\tround 19: 0.7444444444444445\n",
      "\tround 20: 0.75\n",
      "\tround 21: 0.7166666666666667\n",
      "\tround 22: 0.75\n",
      "\tround 23: 0.7555555555555555\n",
      "\tround 24: 0.7111111111111111\n",
      "\tround 25: 0.6722222222222223\n",
      "\tround 26: 0.7277777777777777\n",
      "\tround 27: 0.7222222222222222\n",
      "\tround 28: 1.0277777777777777\n",
      "\tround 29: 0.6388888888888888\n",
      "\tround 30: 0.7277777777777777\n",
      "\tround 31: 0.7388888888888889\n",
      "\tround 32: 0.8777777777777778\n",
      "\tround 33: 0.6888888888888889\n",
      "\tround 34: 0.75\n",
      "\tround 35: 0.7555555555555555\n",
      "\tround 36: 0.6333333333333333\n",
      "\tround 37: 0.65\n",
      "\tround 38: 0.6833333333333333\n",
      "\tround 39: 0.6611111111111111\n",
      "\tround 40: 0.6166666666666667\n",
      "History (metrics, distributed, evaluate):\n",
      "{'mse': [(1, 27.58888888888889), (2, 14.6), (3, 7.677777777777778), (4, 4.7), (5, 3.422222222222222), (6, 3.422222222222222), (7, 2.7888888888888888), (8, 2.2111111111111112), (9, 2.2444444444444445), (10, 2.0), (11, 2.1444444444444444), (12, 2.066666666666667), (13, 1.7), (14, 1.9555555555555555), (15, 1.8222222222222222), (16, 1.6333333333333333), (17, 1.5222222222222221), (18, 1.4333333333333333), (19, 1.488888888888889), (20, 1.5), (21, 1.4333333333333333), (22, 1.5), (23, 1.511111111111111), (24, 1.4222222222222223), (25, 1.3444444444444446), (26, 1.4555555555555555), (27, 1.4444444444444444), (28, 2.0555555555555554), (29, 1.2777777777777777), (30, 1.4555555555555555), (31, 1.4777777777777779), (32, 1.7555555555555555), (33, 1.3777777777777778), (34, 1.5), (35, 1.511111111111111), (36, 1.2666666666666666), (37, 1.3), (38, 1.3666666666666667), (39, 1.3222222222222222), (40, 1.2333333333333334)]}\n",
      "[(1, 13.794444444444444), (2, 7.3), (3, 3.838888888888889), (4, 2.35), (5, 1.711111111111111), (6, 1.711111111111111), (7, 1.3944444444444444), (8, 1.1055555555555556), (9, 1.1222222222222222), (10, 1.0), (11, 1.0722222222222222), (12, 1.0333333333333334), (13, 0.85), (14, 0.9777777777777777), (15, 0.9111111111111111), (16, 0.8166666666666667), (17, 0.7611111111111111), (18, 0.7166666666666667), (19, 0.7444444444444445), (20, 0.75), (21, 0.7166666666666667), (22, 0.75), (23, 0.7555555555555555), (24, 0.7111111111111111), (25, 0.6722222222222223), (26, 0.7277777777777777), (27, 0.7222222222222222), (28, 1.0277777777777777), (29, 0.6388888888888888), (30, 0.7277777777777777), (31, 0.7388888888888889), (32, 0.8777777777777778), (33, 0.6888888888888889), (34, 0.75), (35, 0.7555555555555555), (36, 0.6333333333333333), (37, 0.65), (38, 0.6833333333333333), (39, 0.6611111111111111), (40, 0.6166666666666667)]\n",
      "Fold 4:\n"
     ]
    },
    {
     "name": "stderr",
     "output_type": "stream",
     "text": [
      "C:\\Users\\Shuyao\\AppData\\Local\\Temp\\ipykernel_6156\\3421847257.py:36: UserWarning: To copy construct from a tensor, it is recommended to use sourceTensor.clone().detach() or sourceTensor.clone().detach().requires_grad_(True), rather than torch.tensor(sourceTensor).\n",
      "  y_test = torch.reshape(torch.tensor(y_test), (-1, 1))\n",
      "INFO flwr 2023-08-29 12:36:12,800 | app.py:145 | Starting Flower simulation, config: ServerConfig(num_rounds=40, round_timeout=None)\n"
     ]
    },
    {
     "name": "stdout",
     "output_type": "stream",
     "text": [
      "Client 0 trainset shape torch.Size([150, 3, 23])\n",
      "Client 1 trainset shape torch.Size([150, 3, 23])\n",
      "Client 2 trainset shape torch.Size([141, 3, 23])\n",
      "Client 3 trainset shape torch.Size([140, 3, 23])\n",
      "Client 4 trainset shape torch.Size([140, 3, 23])\n"
     ]
    },
    {
     "name": "stderr",
     "output_type": "stream",
     "text": [
      "2023-08-29 12:36:21,593\tINFO worker.py:1627 -- Started a local Ray instance. View the dashboard at \u001B[1m\u001B[32m127.0.0.1:8266 \u001B[39m\u001B[22m\n"
     ]
    }
   ],
   "source": [
    "split = [0.2, 0.2, 0.2, 0.2, 0.2]\n",
    "do_fl(split)"
   ],
   "metadata": {
    "collapsed": false,
    "is_executing": true,
    "ExecuteTime": {
     "start_time": "2023-08-29T11:17:36.319491500Z"
    }
   }
  },
  {
   "cell_type": "code",
   "execution_count": null,
   "outputs": [],
   "source": [
    "split = [0.6, 0.1, 0.1, 0.1, 0.1]\n",
    "do_fl(split)"
   ],
   "metadata": {
    "collapsed": false
   }
  },
  {
   "cell_type": "code",
   "execution_count": null,
   "outputs": [],
   "source": [
    "split = [0.8, 0.05, 0.05, 0.05, 0.05]\n",
    "do_fl(split)"
   ],
   "metadata": {
    "collapsed": false
   }
  },
  {
   "cell_type": "code",
   "execution_count": 15,
   "outputs": [
    {
     "name": "stderr",
     "output_type": "stream",
     "text": [
      "C:\\Users\\Shuyao\\AppData\\Local\\Temp\\ipykernel_11996\\3421847257.py:35: UserWarning: To copy construct from a tensor, it is recommended to use sourceTensor.clone().detach() or sourceTensor.clone().detach().requires_grad_(True), rather than torch.tensor(sourceTensor).\n",
      "  y_train = torch.reshape(torch.tensor(y_train), (-1, 1))\n",
      "C:\\Users\\Shuyao\\AppData\\Local\\Temp\\ipykernel_11996\\3421847257.py:36: UserWarning: To copy construct from a tensor, it is recommended to use sourceTensor.clone().detach() or sourceTensor.clone().detach().requires_grad_(True), rather than torch.tensor(sourceTensor).\n",
      "  y_test = torch.reshape(torch.tensor(y_test), (-1, 1))\n",
      "INFO flwr 2023-08-29 08:00:08,429 | app.py:145 | Starting Flower simulation, config: ServerConfig(num_rounds=40, round_timeout=None)\n"
     ]
    },
    {
     "name": "stdout",
     "output_type": "stream",
     "text": [
      "<class 'torch.Tensor'>\n",
      "<class 'torch.Tensor'>\n",
      "Fold 1:\n",
      "Client 0 trainset shape torch.Size([75, 3, 23])\n",
      "Client 1 trainset shape torch.Size([75, 3, 23])\n",
      "Client 2 trainset shape torch.Size([75, 3, 23])\n",
      "Client 3 trainset shape torch.Size([75, 3, 23])\n",
      "Client 4 trainset shape torch.Size([70, 3, 23])\n",
      "Client 5 trainset shape torch.Size([70, 3, 23])\n",
      "Client 6 trainset shape torch.Size([70, 3, 23])\n",
      "Client 7 trainset shape torch.Size([70, 3, 23])\n",
      "Client 8 trainset shape torch.Size([70, 3, 23])\n",
      "Client 9 trainset shape torch.Size([70, 3, 23])\n"
     ]
    },
    {
     "name": "stderr",
     "output_type": "stream",
     "text": [
      "2023-08-29 08:00:16,969\tINFO worker.py:1627 -- Started a local Ray instance. View the dashboard at \u001B[1m\u001B[32m127.0.0.1:8265 \u001B[39m\u001B[22m\n",
      "INFO flwr 2023-08-29 08:00:21,345 | app.py:179 | Flower VCE: Ray initialized with resources: {'CPU': 8.0, 'object_store_memory': 1672074854.0, 'node:127.0.0.1': 1.0, 'memory': 3344149710.0, 'GPU': 1.0}\n",
      "INFO flwr 2023-08-29 08:00:21,347 | server.py:89 | Initializing global parameters\n",
      "INFO flwr 2023-08-29 08:00:21,348 | server.py:276 | Requesting initial parameters from one random client\n",
      "INFO flwr 2023-08-29 08:00:24,945 | server.py:280 | Received initial parameters from one random client\n",
      "INFO flwr 2023-08-29 08:00:24,947 | server.py:91 | Evaluating initial parameters\n",
      "INFO flwr 2023-08-29 08:00:24,948 | server.py:104 | FL starting\n",
      "DEBUG flwr 2023-08-29 08:00:24,948 | server.py:222 | fit_round 1: strategy sampled 5 clients (out of 10)\n",
      "DEBUG flwr 2023-08-29 08:00:35,559 | server.py:236 | fit_round 1 received 5 results and 0 failures\n",
      "WARNING flwr 2023-08-29 08:00:35,682 | fedavg.py:242 | No fit_metrics_aggregation_fn provided\n",
      "DEBUG flwr 2023-08-29 08:00:35,741 | server.py:173 | evaluate_round 1: strategy sampled 5 clients (out of 10)\n"
     ]
    },
    {
     "name": "stdout",
     "output_type": "stream",
     "text": [
      "agrregate_fit results list length is  5\n",
      "Saving round 1 aggregated_parameters...\n"
     ]
    },
    {
     "name": "stderr",
     "output_type": "stream",
     "text": [
      "DEBUG flwr 2023-08-29 08:00:36,245 | server.py:187 | evaluate_round 1 received 5 results and 0 failures\n",
      "DEBUG flwr 2023-08-29 08:00:36,246 | server.py:222 | fit_round 2: strategy sampled 5 clients (out of 10)\n"
     ]
    },
    {
     "name": "stdout",
     "output_type": "stream",
     "text": [
      "agrregate_evaluate results list length is  5\n",
      "server round is  1\n",
      "loss is  11.287292817679559\n"
     ]
    },
    {
     "name": "stderr",
     "output_type": "stream",
     "text": [
      "DEBUG flwr 2023-08-29 08:00:45,159 | server.py:236 | fit_round 2 received 5 results and 0 failures\n",
      "DEBUG flwr 2023-08-29 08:00:45,319 | server.py:173 | evaluate_round 2: strategy sampled 5 clients (out of 10)\n"
     ]
    },
    {
     "name": "stdout",
     "output_type": "stream",
     "text": [
      "agrregate_fit results list length is  5\n",
      "Saving round 2 aggregated_parameters...\n"
     ]
    },
    {
     "name": "stderr",
     "output_type": "stream",
     "text": [
      "DEBUG flwr 2023-08-29 08:00:45,999 | server.py:187 | evaluate_round 2 received 5 results and 0 failures\n",
      "DEBUG flwr 2023-08-29 08:00:46,002 | server.py:222 | fit_round 3: strategy sampled 5 clients (out of 10)\n"
     ]
    },
    {
     "name": "stdout",
     "output_type": "stream",
     "text": [
      "agrregate_evaluate results list length is  5\n",
      "server round is  2\n",
      "loss is  8.281767955801104\n"
     ]
    },
    {
     "name": "stderr",
     "output_type": "stream",
     "text": [
      "DEBUG flwr 2023-08-29 08:00:53,742 | server.py:236 | fit_round 3 received 5 results and 0 failures\n",
      "DEBUG flwr 2023-08-29 08:00:53,859 | server.py:173 | evaluate_round 3: strategy sampled 5 clients (out of 10)\n"
     ]
    },
    {
     "name": "stdout",
     "output_type": "stream",
     "text": [
      "agrregate_fit results list length is  5\n",
      "Saving round 3 aggregated_parameters...\n"
     ]
    },
    {
     "name": "stderr",
     "output_type": "stream",
     "text": [
      "DEBUG flwr 2023-08-29 08:00:54,335 | server.py:187 | evaluate_round 3 received 5 results and 0 failures\n",
      "DEBUG flwr 2023-08-29 08:00:54,337 | server.py:222 | fit_round 4: strategy sampled 5 clients (out of 10)\n"
     ]
    },
    {
     "name": "stdout",
     "output_type": "stream",
     "text": [
      "agrregate_evaluate results list length is  5\n",
      "server round is  3\n",
      "loss is  7.12707182320442\n"
     ]
    },
    {
     "name": "stderr",
     "output_type": "stream",
     "text": [
      "DEBUG flwr 2023-08-29 08:01:01,406 | server.py:236 | fit_round 4 received 5 results and 0 failures\n",
      "DEBUG flwr 2023-08-29 08:01:01,526 | server.py:173 | evaluate_round 4: strategy sampled 5 clients (out of 10)\n"
     ]
    },
    {
     "name": "stdout",
     "output_type": "stream",
     "text": [
      "agrregate_fit results list length is  5\n",
      "Saving round 4 aggregated_parameters...\n"
     ]
    },
    {
     "name": "stderr",
     "output_type": "stream",
     "text": [
      "DEBUG flwr 2023-08-29 08:01:02,031 | server.py:187 | evaluate_round 4 received 5 results and 0 failures\n",
      "DEBUG flwr 2023-08-29 08:01:02,032 | server.py:222 | fit_round 5: strategy sampled 5 clients (out of 10)\n"
     ]
    },
    {
     "name": "stdout",
     "output_type": "stream",
     "text": [
      "agrregate_evaluate results list length is  5\n",
      "server round is  4\n",
      "loss is  4.850828729281768\n"
     ]
    },
    {
     "name": "stderr",
     "output_type": "stream",
     "text": [
      "DEBUG flwr 2023-08-29 08:01:09,169 | server.py:236 | fit_round 5 received 5 results and 0 failures\n",
      "DEBUG flwr 2023-08-29 08:01:09,312 | server.py:173 | evaluate_round 5: strategy sampled 5 clients (out of 10)\n"
     ]
    },
    {
     "name": "stdout",
     "output_type": "stream",
     "text": [
      "agrregate_fit results list length is  5\n",
      "Saving round 5 aggregated_parameters...\n"
     ]
    },
    {
     "name": "stderr",
     "output_type": "stream",
     "text": [
      "DEBUG flwr 2023-08-29 08:01:09,814 | server.py:187 | evaluate_round 5 received 5 results and 0 failures\n",
      "DEBUG flwr 2023-08-29 08:01:09,815 | server.py:222 | fit_round 6: strategy sampled 5 clients (out of 10)\n"
     ]
    },
    {
     "name": "stdout",
     "output_type": "stream",
     "text": [
      "agrregate_evaluate results list length is  5\n",
      "server round is  5\n",
      "loss is  3.591160220994475\n"
     ]
    },
    {
     "name": "stderr",
     "output_type": "stream",
     "text": [
      "DEBUG flwr 2023-08-29 08:01:16,438 | server.py:236 | fit_round 6 received 5 results and 0 failures\n",
      "DEBUG flwr 2023-08-29 08:01:16,593 | server.py:173 | evaluate_round 6: strategy sampled 5 clients (out of 10)\n"
     ]
    },
    {
     "name": "stdout",
     "output_type": "stream",
     "text": [
      "agrregate_fit results list length is  5\n",
      "Saving round 6 aggregated_parameters...\n"
     ]
    },
    {
     "name": "stderr",
     "output_type": "stream",
     "text": [
      "DEBUG flwr 2023-08-29 08:01:17,086 | server.py:187 | evaluate_round 6 received 5 results and 0 failures\n",
      "DEBUG flwr 2023-08-29 08:01:17,087 | server.py:222 | fit_round 7: strategy sampled 5 clients (out of 10)\n"
     ]
    },
    {
     "name": "stdout",
     "output_type": "stream",
     "text": [
      "agrregate_evaluate results list length is  5\n",
      "server round is  6\n",
      "loss is  2.3535911602209945\n"
     ]
    },
    {
     "name": "stderr",
     "output_type": "stream",
     "text": [
      "DEBUG flwr 2023-08-29 08:01:23,841 | server.py:236 | fit_round 7 received 5 results and 0 failures\n",
      "DEBUG flwr 2023-08-29 08:01:24,002 | server.py:173 | evaluate_round 7: strategy sampled 5 clients (out of 10)\n"
     ]
    },
    {
     "name": "stdout",
     "output_type": "stream",
     "text": [
      "agrregate_fit results list length is  5\n",
      "Saving round 7 aggregated_parameters...\n"
     ]
    },
    {
     "name": "stderr",
     "output_type": "stream",
     "text": [
      "DEBUG flwr 2023-08-29 08:01:24,587 | server.py:187 | evaluate_round 7 received 5 results and 0 failures\n",
      "DEBUG flwr 2023-08-29 08:01:24,589 | server.py:222 | fit_round 8: strategy sampled 5 clients (out of 10)\n"
     ]
    },
    {
     "name": "stdout",
     "output_type": "stream",
     "text": [
      "agrregate_evaluate results list length is  5\n",
      "server round is  7\n",
      "loss is  1.850828729281768\n"
     ]
    },
    {
     "name": "stderr",
     "output_type": "stream",
     "text": [
      "DEBUG flwr 2023-08-29 08:01:32,650 | server.py:236 | fit_round 8 received 5 results and 0 failures\n"
     ]
    },
    {
     "name": "stdout",
     "output_type": "stream",
     "text": [
      "agrregate_fit results list length is  5\n"
     ]
    },
    {
     "name": "stderr",
     "output_type": "stream",
     "text": [
      "DEBUG flwr 2023-08-29 08:01:32,946 | server.py:173 | evaluate_round 8: strategy sampled 5 clients (out of 10)\n"
     ]
    },
    {
     "name": "stdout",
     "output_type": "stream",
     "text": [
      "Saving round 8 aggregated_parameters...\n"
     ]
    },
    {
     "name": "stderr",
     "output_type": "stream",
     "text": [
      "DEBUG flwr 2023-08-29 08:01:33,692 | server.py:187 | evaluate_round 8 received 5 results and 0 failures\n",
      "DEBUG flwr 2023-08-29 08:01:33,693 | server.py:222 | fit_round 9: strategy sampled 5 clients (out of 10)\n"
     ]
    },
    {
     "name": "stdout",
     "output_type": "stream",
     "text": [
      "agrregate_evaluate results list length is  5\n",
      "server round is  8\n",
      "loss is  1.2320441988950277\n"
     ]
    },
    {
     "name": "stderr",
     "output_type": "stream",
     "text": [
      "DEBUG flwr 2023-08-29 08:01:42,965 | server.py:236 | fit_round 9 received 5 results and 0 failures\n",
      "DEBUG flwr 2023-08-29 08:01:43,112 | server.py:173 | evaluate_round 9: strategy sampled 5 clients (out of 10)\n"
     ]
    },
    {
     "name": "stdout",
     "output_type": "stream",
     "text": [
      "agrregate_fit results list length is  5\n",
      "Saving round 9 aggregated_parameters...\n"
     ]
    },
    {
     "name": "stderr",
     "output_type": "stream",
     "text": [
      "DEBUG flwr 2023-08-29 08:01:43,662 | server.py:187 | evaluate_round 9 received 5 results and 0 failures\n",
      "DEBUG flwr 2023-08-29 08:01:43,664 | server.py:222 | fit_round 10: strategy sampled 5 clients (out of 10)\n"
     ]
    },
    {
     "name": "stdout",
     "output_type": "stream",
     "text": [
      "agrregate_evaluate results list length is  5\n",
      "server round is  9\n",
      "loss is  1.160220994475138\n"
     ]
    },
    {
     "name": "stderr",
     "output_type": "stream",
     "text": [
      "DEBUG flwr 2023-08-29 08:01:50,752 | server.py:236 | fit_round 10 received 5 results and 0 failures\n",
      "DEBUG flwr 2023-08-29 08:01:50,874 | server.py:173 | evaluate_round 10: strategy sampled 5 clients (out of 10)\n"
     ]
    },
    {
     "name": "stdout",
     "output_type": "stream",
     "text": [
      "agrregate_fit results list length is  5\n",
      "Saving round 10 aggregated_parameters...\n"
     ]
    },
    {
     "name": "stderr",
     "output_type": "stream",
     "text": [
      "DEBUG flwr 2023-08-29 08:01:51,385 | server.py:187 | evaluate_round 10 received 5 results and 0 failures\n",
      "DEBUG flwr 2023-08-29 08:01:51,386 | server.py:222 | fit_round 11: strategy sampled 5 clients (out of 10)\n"
     ]
    },
    {
     "name": "stdout",
     "output_type": "stream",
     "text": [
      "agrregate_evaluate results list length is  5\n",
      "server round is  10\n",
      "loss is  0.9558011049723757\n"
     ]
    },
    {
     "name": "stderr",
     "output_type": "stream",
     "text": [
      "DEBUG flwr 2023-08-29 08:01:59,032 | server.py:236 | fit_round 11 received 5 results and 0 failures\n",
      "DEBUG flwr 2023-08-29 08:01:59,169 | server.py:173 | evaluate_round 11: strategy sampled 5 clients (out of 10)\n"
     ]
    },
    {
     "name": "stdout",
     "output_type": "stream",
     "text": [
      "agrregate_fit results list length is  5\n",
      "Saving round 11 aggregated_parameters...\n"
     ]
    },
    {
     "name": "stderr",
     "output_type": "stream",
     "text": [
      "DEBUG flwr 2023-08-29 08:01:59,706 | server.py:187 | evaluate_round 11 received 5 results and 0 failures\n",
      "DEBUG flwr 2023-08-29 08:01:59,708 | server.py:222 | fit_round 12: strategy sampled 5 clients (out of 10)\n"
     ]
    },
    {
     "name": "stdout",
     "output_type": "stream",
     "text": [
      "agrregate_evaluate results list length is  5\n",
      "server round is  11\n",
      "loss is  0.8232044198895028\n"
     ]
    },
    {
     "name": "stderr",
     "output_type": "stream",
     "text": [
      "DEBUG flwr 2023-08-29 08:02:06,496 | server.py:236 | fit_round 12 received 5 results and 0 failures\n",
      "DEBUG flwr 2023-08-29 08:02:06,616 | server.py:173 | evaluate_round 12: strategy sampled 5 clients (out of 10)\n"
     ]
    },
    {
     "name": "stdout",
     "output_type": "stream",
     "text": [
      "agrregate_fit results list length is  5\n",
      "Saving round 12 aggregated_parameters...\n"
     ]
    },
    {
     "name": "stderr",
     "output_type": "stream",
     "text": [
      "DEBUG flwr 2023-08-29 08:02:07,103 | server.py:187 | evaluate_round 12 received 5 results and 0 failures\n",
      "DEBUG flwr 2023-08-29 08:02:07,104 | server.py:222 | fit_round 13: strategy sampled 5 clients (out of 10)\n"
     ]
    },
    {
     "name": "stdout",
     "output_type": "stream",
     "text": [
      "agrregate_evaluate results list length is  5\n",
      "server round is  12\n",
      "loss is  0.861878453038674\n"
     ]
    },
    {
     "name": "stderr",
     "output_type": "stream",
     "text": [
      "DEBUG flwr 2023-08-29 08:02:13,336 | server.py:236 | fit_round 13 received 5 results and 0 failures\n",
      "DEBUG flwr 2023-08-29 08:02:13,467 | server.py:173 | evaluate_round 13: strategy sampled 5 clients (out of 10)\n"
     ]
    },
    {
     "name": "stdout",
     "output_type": "stream",
     "text": [
      "agrregate_fit results list length is  5\n",
      "Saving round 13 aggregated_parameters...\n"
     ]
    },
    {
     "name": "stderr",
     "output_type": "stream",
     "text": [
      "DEBUG flwr 2023-08-29 08:02:14,075 | server.py:187 | evaluate_round 13 received 5 results and 0 failures\n",
      "DEBUG flwr 2023-08-29 08:02:14,076 | server.py:222 | fit_round 14: strategy sampled 5 clients (out of 10)\n"
     ]
    },
    {
     "name": "stdout",
     "output_type": "stream",
     "text": [
      "agrregate_evaluate results list length is  5\n",
      "server round is  13\n",
      "loss is  0.9116022099447514\n"
     ]
    },
    {
     "name": "stderr",
     "output_type": "stream",
     "text": [
      "DEBUG flwr 2023-08-29 08:02:21,496 | server.py:236 | fit_round 14 received 5 results and 0 failures\n",
      "DEBUG flwr 2023-08-29 08:02:21,635 | server.py:173 | evaluate_round 14: strategy sampled 5 clients (out of 10)\n"
     ]
    },
    {
     "name": "stdout",
     "output_type": "stream",
     "text": [
      "agrregate_fit results list length is  5\n",
      "Saving round 14 aggregated_parameters...\n"
     ]
    },
    {
     "name": "stderr",
     "output_type": "stream",
     "text": [
      "DEBUG flwr 2023-08-29 08:02:22,165 | server.py:187 | evaluate_round 14 received 5 results and 0 failures\n",
      "DEBUG flwr 2023-08-29 08:02:22,167 | server.py:222 | fit_round 15: strategy sampled 5 clients (out of 10)\n"
     ]
    },
    {
     "name": "stdout",
     "output_type": "stream",
     "text": [
      "agrregate_evaluate results list length is  5\n",
      "server round is  14\n",
      "loss is  0.8397790055248618\n"
     ]
    },
    {
     "name": "stderr",
     "output_type": "stream",
     "text": [
      "DEBUG flwr 2023-08-29 08:02:30,368 | server.py:236 | fit_round 15 received 5 results and 0 failures\n",
      "DEBUG flwr 2023-08-29 08:02:30,512 | server.py:173 | evaluate_round 15: strategy sampled 5 clients (out of 10)\n"
     ]
    },
    {
     "name": "stdout",
     "output_type": "stream",
     "text": [
      "agrregate_fit results list length is  5\n",
      "Saving round 15 aggregated_parameters...\n"
     ]
    },
    {
     "name": "stderr",
     "output_type": "stream",
     "text": [
      "DEBUG flwr 2023-08-29 08:02:31,093 | server.py:187 | evaluate_round 15 received 5 results and 0 failures\n",
      "DEBUG flwr 2023-08-29 08:02:31,094 | server.py:222 | fit_round 16: strategy sampled 5 clients (out of 10)\n"
     ]
    },
    {
     "name": "stdout",
     "output_type": "stream",
     "text": [
      "agrregate_evaluate results list length is  5\n",
      "server round is  15\n",
      "loss is  0.7900552486187845\n"
     ]
    },
    {
     "name": "stderr",
     "output_type": "stream",
     "text": [
      "DEBUG flwr 2023-08-29 08:02:39,408 | server.py:236 | fit_round 16 received 5 results and 0 failures\n",
      "DEBUG flwr 2023-08-29 08:02:39,620 | server.py:173 | evaluate_round 16: strategy sampled 5 clients (out of 10)\n"
     ]
    },
    {
     "name": "stdout",
     "output_type": "stream",
     "text": [
      "agrregate_fit results list length is  5\n",
      "Saving round 16 aggregated_parameters...\n"
     ]
    },
    {
     "name": "stderr",
     "output_type": "stream",
     "text": [
      "DEBUG flwr 2023-08-29 08:02:40,374 | server.py:187 | evaluate_round 16 received 5 results and 0 failures\n",
      "DEBUG flwr 2023-08-29 08:02:40,377 | server.py:222 | fit_round 17: strategy sampled 5 clients (out of 10)\n"
     ]
    },
    {
     "name": "stdout",
     "output_type": "stream",
     "text": [
      "agrregate_evaluate results list length is  5\n",
      "server round is  16\n",
      "loss is  0.9060773480662984\n"
     ]
    },
    {
     "name": "stderr",
     "output_type": "stream",
     "text": [
      "DEBUG flwr 2023-08-29 08:02:47,598 | server.py:236 | fit_round 17 received 5 results and 0 failures\n",
      "DEBUG flwr 2023-08-29 08:02:47,723 | server.py:173 | evaluate_round 17: strategy sampled 5 clients (out of 10)\n"
     ]
    },
    {
     "name": "stdout",
     "output_type": "stream",
     "text": [
      "agrregate_fit results list length is  5\n",
      "Saving round 17 aggregated_parameters...\n"
     ]
    },
    {
     "name": "stderr",
     "output_type": "stream",
     "text": [
      "DEBUG flwr 2023-08-29 08:02:48,215 | server.py:187 | evaluate_round 17 received 5 results and 0 failures\n",
      "DEBUG flwr 2023-08-29 08:02:48,216 | server.py:222 | fit_round 18: strategy sampled 5 clients (out of 10)\n"
     ]
    },
    {
     "name": "stdout",
     "output_type": "stream",
     "text": [
      "agrregate_evaluate results list length is  5\n",
      "server round is  17\n",
      "loss is  0.8729281767955801\n"
     ]
    },
    {
     "name": "stderr",
     "output_type": "stream",
     "text": [
      "DEBUG flwr 2023-08-29 08:02:55,551 | server.py:236 | fit_round 18 received 5 results and 0 failures\n",
      "DEBUG flwr 2023-08-29 08:02:55,678 | server.py:173 | evaluate_round 18: strategy sampled 5 clients (out of 10)\n"
     ]
    },
    {
     "name": "stdout",
     "output_type": "stream",
     "text": [
      "agrregate_fit results list length is  5\n",
      "Saving round 18 aggregated_parameters...\n"
     ]
    },
    {
     "name": "stderr",
     "output_type": "stream",
     "text": [
      "DEBUG flwr 2023-08-29 08:02:56,196 | server.py:187 | evaluate_round 18 received 5 results and 0 failures\n",
      "DEBUG flwr 2023-08-29 08:02:56,197 | server.py:222 | fit_round 19: strategy sampled 5 clients (out of 10)\n"
     ]
    },
    {
     "name": "stdout",
     "output_type": "stream",
     "text": [
      "agrregate_evaluate results list length is  5\n",
      "server round is  18\n",
      "loss is  0.8839779005524862\n"
     ]
    },
    {
     "name": "stderr",
     "output_type": "stream",
     "text": [
      "DEBUG flwr 2023-08-29 08:03:02,343 | server.py:236 | fit_round 19 received 5 results and 0 failures\n",
      "DEBUG flwr 2023-08-29 08:03:02,464 | server.py:173 | evaluate_round 19: strategy sampled 5 clients (out of 10)\n"
     ]
    },
    {
     "name": "stdout",
     "output_type": "stream",
     "text": [
      "agrregate_fit results list length is  5\n",
      "Saving round 19 aggregated_parameters...\n"
     ]
    },
    {
     "name": "stderr",
     "output_type": "stream",
     "text": [
      "DEBUG flwr 2023-08-29 08:03:02,931 | server.py:187 | evaluate_round 19 received 5 results and 0 failures\n",
      "DEBUG flwr 2023-08-29 08:03:02,933 | server.py:222 | fit_round 20: strategy sampled 5 clients (out of 10)\n"
     ]
    },
    {
     "name": "stdout",
     "output_type": "stream",
     "text": [
      "agrregate_evaluate results list length is  5\n",
      "server round is  19\n",
      "loss is  0.7403314917127072\n"
     ]
    },
    {
     "name": "stderr",
     "output_type": "stream",
     "text": [
      "DEBUG flwr 2023-08-29 08:03:09,255 | server.py:236 | fit_round 20 received 5 results and 0 failures\n",
      "DEBUG flwr 2023-08-29 08:03:09,400 | server.py:173 | evaluate_round 20: strategy sampled 5 clients (out of 10)\n"
     ]
    },
    {
     "name": "stdout",
     "output_type": "stream",
     "text": [
      "agrregate_fit results list length is  5\n",
      "Saving round 20 aggregated_parameters...\n"
     ]
    },
    {
     "name": "stderr",
     "output_type": "stream",
     "text": [
      "DEBUG flwr 2023-08-29 08:03:09,882 | server.py:187 | evaluate_round 20 received 5 results and 0 failures\n",
      "DEBUG flwr 2023-08-29 08:03:09,884 | server.py:222 | fit_round 21: strategy sampled 5 clients (out of 10)\n"
     ]
    },
    {
     "name": "stdout",
     "output_type": "stream",
     "text": [
      "agrregate_evaluate results list length is  5\n",
      "server round is  20\n",
      "loss is  0.8674033149171271\n"
     ]
    },
    {
     "name": "stderr",
     "output_type": "stream",
     "text": [
      "DEBUG flwr 2023-08-29 08:03:16,130 | server.py:236 | fit_round 21 received 5 results and 0 failures\n",
      "DEBUG flwr 2023-08-29 08:03:16,241 | server.py:173 | evaluate_round 21: strategy sampled 5 clients (out of 10)\n"
     ]
    },
    {
     "name": "stdout",
     "output_type": "stream",
     "text": [
      "agrregate_fit results list length is  5\n",
      "Saving round 21 aggregated_parameters...\n"
     ]
    },
    {
     "name": "stderr",
     "output_type": "stream",
     "text": [
      "DEBUG flwr 2023-08-29 08:03:16,755 | server.py:187 | evaluate_round 21 received 5 results and 0 failures\n",
      "DEBUG flwr 2023-08-29 08:03:16,756 | server.py:222 | fit_round 22: strategy sampled 5 clients (out of 10)\n"
     ]
    },
    {
     "name": "stdout",
     "output_type": "stream",
     "text": [
      "agrregate_evaluate results list length is  5\n",
      "server round is  21\n",
      "loss is  0.7403314917127072\n"
     ]
    },
    {
     "name": "stderr",
     "output_type": "stream",
     "text": [
      "DEBUG flwr 2023-08-29 08:03:22,961 | server.py:236 | fit_round 22 received 5 results and 0 failures\n",
      "DEBUG flwr 2023-08-29 08:03:23,101 | server.py:173 | evaluate_round 22: strategy sampled 5 clients (out of 10)\n"
     ]
    },
    {
     "name": "stdout",
     "output_type": "stream",
     "text": [
      "agrregate_fit results list length is  5\n",
      "Saving round 22 aggregated_parameters...\n"
     ]
    },
    {
     "name": "stderr",
     "output_type": "stream",
     "text": [
      "DEBUG flwr 2023-08-29 08:03:23,655 | server.py:187 | evaluate_round 22 received 5 results and 0 failures\n",
      "DEBUG flwr 2023-08-29 08:03:23,657 | server.py:222 | fit_round 23: strategy sampled 5 clients (out of 10)\n"
     ]
    },
    {
     "name": "stdout",
     "output_type": "stream",
     "text": [
      "agrregate_evaluate results list length is  5\n",
      "server round is  22\n",
      "loss is  0.7071823204419889\n"
     ]
    },
    {
     "name": "stderr",
     "output_type": "stream",
     "text": [
      "DEBUG flwr 2023-08-29 08:03:29,860 | server.py:236 | fit_round 23 received 5 results and 0 failures\n",
      "DEBUG flwr 2023-08-29 08:03:29,975 | server.py:173 | evaluate_round 23: strategy sampled 5 clients (out of 10)\n"
     ]
    },
    {
     "name": "stdout",
     "output_type": "stream",
     "text": [
      "agrregate_fit results list length is  5\n",
      "Saving round 23 aggregated_parameters...\n"
     ]
    },
    {
     "name": "stderr",
     "output_type": "stream",
     "text": [
      "DEBUG flwr 2023-08-29 08:03:30,476 | server.py:187 | evaluate_round 23 received 5 results and 0 failures\n",
      "DEBUG flwr 2023-08-29 08:03:30,477 | server.py:222 | fit_round 24: strategy sampled 5 clients (out of 10)\n"
     ]
    },
    {
     "name": "stdout",
     "output_type": "stream",
     "text": [
      "agrregate_evaluate results list length is  5\n",
      "server round is  23\n",
      "loss is  0.7679558011049724\n"
     ]
    },
    {
     "name": "stderr",
     "output_type": "stream",
     "text": [
      "DEBUG flwr 2023-08-29 08:03:36,711 | server.py:236 | fit_round 24 received 5 results and 0 failures\n",
      "DEBUG flwr 2023-08-29 08:03:36,827 | server.py:173 | evaluate_round 24: strategy sampled 5 clients (out of 10)\n"
     ]
    },
    {
     "name": "stdout",
     "output_type": "stream",
     "text": [
      "agrregate_fit results list length is  5\n",
      "Saving round 24 aggregated_parameters...\n"
     ]
    },
    {
     "name": "stderr",
     "output_type": "stream",
     "text": [
      "DEBUG flwr 2023-08-29 08:03:37,407 | server.py:187 | evaluate_round 24 received 5 results and 0 failures\n",
      "DEBUG flwr 2023-08-29 08:03:37,409 | server.py:222 | fit_round 25: strategy sampled 5 clients (out of 10)\n"
     ]
    },
    {
     "name": "stdout",
     "output_type": "stream",
     "text": [
      "agrregate_evaluate results list length is  5\n",
      "server round is  24\n",
      "loss is  0.8287292817679558\n"
     ]
    },
    {
     "name": "stderr",
     "output_type": "stream",
     "text": [
      "DEBUG flwr 2023-08-29 08:03:43,844 | server.py:236 | fit_round 25 received 5 results and 0 failures\n",
      "DEBUG flwr 2023-08-29 08:03:43,967 | server.py:173 | evaluate_round 25: strategy sampled 5 clients (out of 10)\n"
     ]
    },
    {
     "name": "stdout",
     "output_type": "stream",
     "text": [
      "agrregate_fit results list length is  5\n",
      "Saving round 25 aggregated_parameters...\n"
     ]
    },
    {
     "name": "stderr",
     "output_type": "stream",
     "text": [
      "DEBUG flwr 2023-08-29 08:03:44,466 | server.py:187 | evaluate_round 25 received 5 results and 0 failures\n",
      "DEBUG flwr 2023-08-29 08:03:44,468 | server.py:222 | fit_round 26: strategy sampled 5 clients (out of 10)\n"
     ]
    },
    {
     "name": "stdout",
     "output_type": "stream",
     "text": [
      "agrregate_evaluate results list length is  5\n",
      "server round is  25\n",
      "loss is  0.7182320441988951\n"
     ]
    },
    {
     "name": "stderr",
     "output_type": "stream",
     "text": [
      "DEBUG flwr 2023-08-29 08:03:50,601 | server.py:236 | fit_round 26 received 5 results and 0 failures\n",
      "DEBUG flwr 2023-08-29 08:03:50,732 | server.py:173 | evaluate_round 26: strategy sampled 5 clients (out of 10)\n"
     ]
    },
    {
     "name": "stdout",
     "output_type": "stream",
     "text": [
      "agrregate_fit results list length is  5\n",
      "Saving round 26 aggregated_parameters...\n"
     ]
    },
    {
     "name": "stderr",
     "output_type": "stream",
     "text": [
      "DEBUG flwr 2023-08-29 08:03:51,254 | server.py:187 | evaluate_round 26 received 5 results and 0 failures\n",
      "DEBUG flwr 2023-08-29 08:03:51,255 | server.py:222 | fit_round 27: strategy sampled 5 clients (out of 10)\n"
     ]
    },
    {
     "name": "stdout",
     "output_type": "stream",
     "text": [
      "agrregate_evaluate results list length is  5\n",
      "server round is  26\n",
      "loss is  0.7734806629834254\n"
     ]
    },
    {
     "name": "stderr",
     "output_type": "stream",
     "text": [
      "DEBUG flwr 2023-08-29 08:03:57,828 | server.py:236 | fit_round 27 received 5 results and 0 failures\n",
      "DEBUG flwr 2023-08-29 08:03:57,976 | server.py:173 | evaluate_round 27: strategy sampled 5 clients (out of 10)\n"
     ]
    },
    {
     "name": "stdout",
     "output_type": "stream",
     "text": [
      "agrregate_fit results list length is  5\n",
      "Saving round 27 aggregated_parameters...\n"
     ]
    },
    {
     "name": "stderr",
     "output_type": "stream",
     "text": [
      "DEBUG flwr 2023-08-29 08:03:58,480 | server.py:187 | evaluate_round 27 received 5 results and 0 failures\n",
      "DEBUG flwr 2023-08-29 08:03:58,482 | server.py:222 | fit_round 28: strategy sampled 5 clients (out of 10)\n"
     ]
    },
    {
     "name": "stdout",
     "output_type": "stream",
     "text": [
      "agrregate_evaluate results list length is  5\n",
      "server round is  27\n",
      "loss is  0.7403314917127072\n"
     ]
    },
    {
     "name": "stderr",
     "output_type": "stream",
     "text": [
      "DEBUG flwr 2023-08-29 08:04:04,683 | server.py:236 | fit_round 28 received 5 results and 0 failures\n",
      "DEBUG flwr 2023-08-29 08:04:04,812 | server.py:173 | evaluate_round 28: strategy sampled 5 clients (out of 10)\n"
     ]
    },
    {
     "name": "stdout",
     "output_type": "stream",
     "text": [
      "agrregate_fit results list length is  5\n",
      "Saving round 28 aggregated_parameters...\n"
     ]
    },
    {
     "name": "stderr",
     "output_type": "stream",
     "text": [
      "DEBUG flwr 2023-08-29 08:04:05,310 | server.py:187 | evaluate_round 28 received 5 results and 0 failures\n",
      "DEBUG flwr 2023-08-29 08:04:05,311 | server.py:222 | fit_round 29: strategy sampled 5 clients (out of 10)\n"
     ]
    },
    {
     "name": "stdout",
     "output_type": "stream",
     "text": [
      "agrregate_evaluate results list length is  5\n",
      "server round is  28\n",
      "loss is  0.7016574585635359\n"
     ]
    },
    {
     "name": "stderr",
     "output_type": "stream",
     "text": [
      "DEBUG flwr 2023-08-29 08:04:11,463 | server.py:236 | fit_round 29 received 5 results and 0 failures\n",
      "DEBUG flwr 2023-08-29 08:04:11,622 | server.py:173 | evaluate_round 29: strategy sampled 5 clients (out of 10)\n"
     ]
    },
    {
     "name": "stdout",
     "output_type": "stream",
     "text": [
      "agrregate_fit results list length is  5\n",
      "Saving round 29 aggregated_parameters...\n"
     ]
    },
    {
     "name": "stderr",
     "output_type": "stream",
     "text": [
      "DEBUG flwr 2023-08-29 08:04:12,130 | server.py:187 | evaluate_round 29 received 5 results and 0 failures\n",
      "DEBUG flwr 2023-08-29 08:04:12,132 | server.py:222 | fit_round 30: strategy sampled 5 clients (out of 10)\n"
     ]
    },
    {
     "name": "stdout",
     "output_type": "stream",
     "text": [
      "agrregate_evaluate results list length is  5\n",
      "server round is  29\n",
      "loss is  0.6298342541436462\n"
     ]
    },
    {
     "name": "stderr",
     "output_type": "stream",
     "text": [
      "DEBUG flwr 2023-08-29 08:04:18,524 | server.py:236 | fit_round 30 received 5 results and 0 failures\n",
      "DEBUG flwr 2023-08-29 08:04:18,658 | server.py:173 | evaluate_round 30: strategy sampled 5 clients (out of 10)\n"
     ]
    },
    {
     "name": "stdout",
     "output_type": "stream",
     "text": [
      "agrregate_fit results list length is  5\n",
      "Saving round 30 aggregated_parameters...\n"
     ]
    },
    {
     "name": "stderr",
     "output_type": "stream",
     "text": [
      "DEBUG flwr 2023-08-29 08:04:19,155 | server.py:187 | evaluate_round 30 received 5 results and 0 failures\n",
      "DEBUG flwr 2023-08-29 08:04:19,157 | server.py:222 | fit_round 31: strategy sampled 5 clients (out of 10)\n"
     ]
    },
    {
     "name": "stdout",
     "output_type": "stream",
     "text": [
      "agrregate_evaluate results list length is  5\n",
      "server round is  30\n",
      "loss is  0.6795580110497239\n"
     ]
    },
    {
     "name": "stderr",
     "output_type": "stream",
     "text": [
      "DEBUG flwr 2023-08-29 08:04:25,453 | server.py:236 | fit_round 31 received 5 results and 0 failures\n",
      "DEBUG flwr 2023-08-29 08:04:25,599 | server.py:173 | evaluate_round 31: strategy sampled 5 clients (out of 10)\n"
     ]
    },
    {
     "name": "stdout",
     "output_type": "stream",
     "text": [
      "agrregate_fit results list length is  5\n",
      "Saving round 31 aggregated_parameters...\n"
     ]
    },
    {
     "name": "stderr",
     "output_type": "stream",
     "text": [
      "DEBUG flwr 2023-08-29 08:04:26,113 | server.py:187 | evaluate_round 31 received 5 results and 0 failures\n",
      "DEBUG flwr 2023-08-29 08:04:26,116 | server.py:222 | fit_round 32: strategy sampled 5 clients (out of 10)\n"
     ]
    },
    {
     "name": "stdout",
     "output_type": "stream",
     "text": [
      "agrregate_evaluate results list length is  5\n",
      "server round is  31\n",
      "loss is  0.6077348066298343\n"
     ]
    },
    {
     "name": "stderr",
     "output_type": "stream",
     "text": [
      "DEBUG flwr 2023-08-29 08:04:32,252 | server.py:236 | fit_round 32 received 5 results and 0 failures\n",
      "DEBUG flwr 2023-08-29 08:04:32,387 | server.py:173 | evaluate_round 32: strategy sampled 5 clients (out of 10)\n"
     ]
    },
    {
     "name": "stdout",
     "output_type": "stream",
     "text": [
      "agrregate_fit results list length is  5\n",
      "Saving round 32 aggregated_parameters...\n"
     ]
    },
    {
     "name": "stderr",
     "output_type": "stream",
     "text": [
      "DEBUG flwr 2023-08-29 08:04:32,907 | server.py:187 | evaluate_round 32 received 5 results and 0 failures\n",
      "DEBUG flwr 2023-08-29 08:04:32,908 | server.py:222 | fit_round 33: strategy sampled 5 clients (out of 10)\n"
     ]
    },
    {
     "name": "stdout",
     "output_type": "stream",
     "text": [
      "agrregate_evaluate results list length is  5\n",
      "server round is  32\n",
      "loss is  0.48066298342541436\n"
     ]
    },
    {
     "name": "stderr",
     "output_type": "stream",
     "text": [
      "DEBUG flwr 2023-08-29 08:04:39,169 | server.py:236 | fit_round 33 received 5 results and 0 failures\n",
      "DEBUG flwr 2023-08-29 08:04:39,301 | server.py:173 | evaluate_round 33: strategy sampled 5 clients (out of 10)\n"
     ]
    },
    {
     "name": "stdout",
     "output_type": "stream",
     "text": [
      "agrregate_fit results list length is  5\n",
      "Saving round 33 aggregated_parameters...\n"
     ]
    },
    {
     "name": "stderr",
     "output_type": "stream",
     "text": [
      "DEBUG flwr 2023-08-29 08:04:39,837 | server.py:187 | evaluate_round 33 received 5 results and 0 failures\n",
      "DEBUG flwr 2023-08-29 08:04:39,838 | server.py:222 | fit_round 34: strategy sampled 5 clients (out of 10)\n"
     ]
    },
    {
     "name": "stdout",
     "output_type": "stream",
     "text": [
      "agrregate_evaluate results list length is  5\n",
      "server round is  33\n",
      "loss is  0.48066298342541436\n"
     ]
    },
    {
     "name": "stderr",
     "output_type": "stream",
     "text": [
      "DEBUG flwr 2023-08-29 08:04:46,182 | server.py:236 | fit_round 34 received 5 results and 0 failures\n",
      "DEBUG flwr 2023-08-29 08:04:46,328 | server.py:173 | evaluate_round 34: strategy sampled 5 clients (out of 10)\n"
     ]
    },
    {
     "name": "stdout",
     "output_type": "stream",
     "text": [
      "agrregate_fit results list length is  5\n",
      "Saving round 34 aggregated_parameters...\n"
     ]
    },
    {
     "name": "stderr",
     "output_type": "stream",
     "text": [
      "DEBUG flwr 2023-08-29 08:04:46,854 | server.py:187 | evaluate_round 34 received 5 results and 0 failures\n",
      "DEBUG flwr 2023-08-29 08:04:46,856 | server.py:222 | fit_round 35: strategy sampled 5 clients (out of 10)\n"
     ]
    },
    {
     "name": "stdout",
     "output_type": "stream",
     "text": [
      "agrregate_evaluate results list length is  5\n",
      "server round is  34\n",
      "loss is  0.49171270718232046\n"
     ]
    },
    {
     "name": "stderr",
     "output_type": "stream",
     "text": [
      "DEBUG flwr 2023-08-29 08:04:53,229 | server.py:236 | fit_round 35 received 5 results and 0 failures\n",
      "DEBUG flwr 2023-08-29 08:04:53,353 | server.py:173 | evaluate_round 35: strategy sampled 5 clients (out of 10)\n"
     ]
    },
    {
     "name": "stdout",
     "output_type": "stream",
     "text": [
      "agrregate_fit results list length is  5\n",
      "Saving round 35 aggregated_parameters...\n"
     ]
    },
    {
     "name": "stderr",
     "output_type": "stream",
     "text": [
      "DEBUG flwr 2023-08-29 08:04:53,885 | server.py:187 | evaluate_round 35 received 5 results and 0 failures\n",
      "DEBUG flwr 2023-08-29 08:04:53,886 | server.py:222 | fit_round 36: strategy sampled 5 clients (out of 10)\n"
     ]
    },
    {
     "name": "stdout",
     "output_type": "stream",
     "text": [
      "agrregate_evaluate results list length is  5\n",
      "server round is  35\n",
      "loss is  0.5911602209944753\n"
     ]
    },
    {
     "name": "stderr",
     "output_type": "stream",
     "text": [
      "DEBUG flwr 2023-08-29 08:05:00,077 | server.py:236 | fit_round 36 received 5 results and 0 failures\n",
      "DEBUG flwr 2023-08-29 08:05:00,259 | server.py:173 | evaluate_round 36: strategy sampled 5 clients (out of 10)\n"
     ]
    },
    {
     "name": "stdout",
     "output_type": "stream",
     "text": [
      "agrregate_fit results list length is  5\n",
      "Saving round 36 aggregated_parameters...\n"
     ]
    },
    {
     "name": "stderr",
     "output_type": "stream",
     "text": [
      "DEBUG flwr 2023-08-29 08:05:00,840 | server.py:187 | evaluate_round 36 received 5 results and 0 failures\n",
      "DEBUG flwr 2023-08-29 08:05:00,841 | server.py:222 | fit_round 37: strategy sampled 5 clients (out of 10)\n"
     ]
    },
    {
     "name": "stdout",
     "output_type": "stream",
     "text": [
      "agrregate_evaluate results list length is  5\n",
      "server round is  36\n",
      "loss is  0.4861878453038674\n"
     ]
    },
    {
     "name": "stderr",
     "output_type": "stream",
     "text": [
      "DEBUG flwr 2023-08-29 08:05:07,280 | server.py:236 | fit_round 37 received 5 results and 0 failures\n",
      "DEBUG flwr 2023-08-29 08:05:07,402 | server.py:173 | evaluate_round 37: strategy sampled 5 clients (out of 10)\n"
     ]
    },
    {
     "name": "stdout",
     "output_type": "stream",
     "text": [
      "agrregate_fit results list length is  5\n",
      "Saving round 37 aggregated_parameters...\n"
     ]
    },
    {
     "name": "stderr",
     "output_type": "stream",
     "text": [
      "DEBUG flwr 2023-08-29 08:05:07,919 | server.py:187 | evaluate_round 37 received 5 results and 0 failures\n",
      "DEBUG flwr 2023-08-29 08:05:07,920 | server.py:222 | fit_round 38: strategy sampled 5 clients (out of 10)\n"
     ]
    },
    {
     "name": "stdout",
     "output_type": "stream",
     "text": [
      "agrregate_evaluate results list length is  5\n",
      "server round is  37\n",
      "loss is  0.5580110497237569\n"
     ]
    },
    {
     "name": "stderr",
     "output_type": "stream",
     "text": [
      "DEBUG flwr 2023-08-29 08:05:14,293 | server.py:236 | fit_round 38 received 5 results and 0 failures\n",
      "DEBUG flwr 2023-08-29 08:05:14,426 | server.py:173 | evaluate_round 38: strategy sampled 5 clients (out of 10)\n"
     ]
    },
    {
     "name": "stdout",
     "output_type": "stream",
     "text": [
      "agrregate_fit results list length is  5\n",
      "Saving round 38 aggregated_parameters...\n"
     ]
    },
    {
     "name": "stderr",
     "output_type": "stream",
     "text": [
      "DEBUG flwr 2023-08-29 08:05:14,980 | server.py:187 | evaluate_round 38 received 5 results and 0 failures\n",
      "DEBUG flwr 2023-08-29 08:05:14,982 | server.py:222 | fit_round 39: strategy sampled 5 clients (out of 10)\n"
     ]
    },
    {
     "name": "stdout",
     "output_type": "stream",
     "text": [
      "agrregate_evaluate results list length is  5\n",
      "server round is  38\n",
      "loss is  0.6243093922651932\n"
     ]
    },
    {
     "name": "stderr",
     "output_type": "stream",
     "text": [
      "DEBUG flwr 2023-08-29 08:05:21,361 | server.py:236 | fit_round 39 received 5 results and 0 failures\n",
      "DEBUG flwr 2023-08-29 08:05:21,479 | server.py:173 | evaluate_round 39: strategy sampled 5 clients (out of 10)\n"
     ]
    },
    {
     "name": "stdout",
     "output_type": "stream",
     "text": [
      "agrregate_fit results list length is  5\n",
      "Saving round 39 aggregated_parameters...\n"
     ]
    },
    {
     "name": "stderr",
     "output_type": "stream",
     "text": [
      "DEBUG flwr 2023-08-29 08:05:21,993 | server.py:187 | evaluate_round 39 received 5 results and 0 failures\n",
      "DEBUG flwr 2023-08-29 08:05:21,994 | server.py:222 | fit_round 40: strategy sampled 5 clients (out of 10)\n"
     ]
    },
    {
     "name": "stdout",
     "output_type": "stream",
     "text": [
      "agrregate_evaluate results list length is  5\n",
      "server round is  39\n",
      "loss is  0.6298342541436462\n"
     ]
    },
    {
     "name": "stderr",
     "output_type": "stream",
     "text": [
      "DEBUG flwr 2023-08-29 08:05:28,188 | server.py:236 | fit_round 40 received 5 results and 0 failures\n",
      "DEBUG flwr 2023-08-29 08:05:28,322 | server.py:173 | evaluate_round 40: strategy sampled 5 clients (out of 10)\n"
     ]
    },
    {
     "name": "stdout",
     "output_type": "stream",
     "text": [
      "agrregate_fit results list length is  5\n",
      "Saving round 40 aggregated_parameters...\n"
     ]
    },
    {
     "name": "stderr",
     "output_type": "stream",
     "text": [
      "DEBUG flwr 2023-08-29 08:05:28,839 | server.py:187 | evaluate_round 40 received 5 results and 0 failures\n",
      "INFO flwr 2023-08-29 08:05:28,840 | server.py:153 | FL finished in 303.8922362000012\n",
      "INFO flwr 2023-08-29 08:05:28,846 | app.py:225 | app_fit: losses_distributed [(1, 11.287292817679559), (2, 8.281767955801104), (3, 7.12707182320442), (4, 4.850828729281768), (5, 3.591160220994475), (6, 2.3535911602209945), (7, 1.850828729281768), (8, 1.2320441988950277), (9, 1.160220994475138), (10, 0.9558011049723757), (11, 0.8232044198895028), (12, 0.861878453038674), (13, 0.9116022099447514), (14, 0.8397790055248618), (15, 0.7900552486187845), (16, 0.9060773480662984), (17, 0.8729281767955801), (18, 0.8839779005524862), (19, 0.7403314917127072), (20, 0.8674033149171271), (21, 0.7403314917127072), (22, 0.7071823204419889), (23, 0.7679558011049724), (24, 0.8287292817679558), (25, 0.7182320441988951), (26, 0.7734806629834254), (27, 0.7403314917127072), (28, 0.7016574585635359), (29, 0.6298342541436462), (30, 0.6795580110497239), (31, 0.6077348066298343), (32, 0.48066298342541436), (33, 0.48066298342541436), (34, 0.49171270718232046), (35, 0.5911602209944753), (36, 0.4861878453038674), (37, 0.5580110497237569), (38, 0.6243093922651932), (39, 0.6298342541436462), (40, 0.6353591160220996)]\n",
      "INFO flwr 2023-08-29 08:05:28,847 | app.py:226 | app_fit: metrics_distributed_fit {}\n",
      "INFO flwr 2023-08-29 08:05:28,848 | app.py:227 | app_fit: metrics_distributed {'mse': [(1, 56.43646408839779), (2, 41.40883977900552), (3, 35.6353591160221), (4, 24.254143646408842), (5, 17.955801104972377), (6, 11.767955801104971), (7, 9.25414364640884), (8, 6.1602209944751385), (9, 5.80110497237569), (10, 4.779005524861878), (11, 4.116022099447514), (12, 4.30939226519337), (13, 4.558011049723757), (14, 4.198895027624309), (15, 3.9502762430939224), (16, 4.530386740331492), (17, 4.3646408839779), (18, 4.41988950276243), (19, 3.701657458563536), (20, 4.337016574585635), (21, 3.701657458563536), (22, 3.5359116022099446), (23, 3.839779005524862), (24, 4.143646408839779), (25, 3.5911602209944755), (26, 3.8674033149171274), (27, 3.701657458563536), (28, 3.5082872928176796), (29, 3.1491712707182318), (30, 3.397790055248619), (31, 3.0386740331491713), (32, 2.403314917127072), (33, 2.403314917127072), (34, 2.4585635359116025), (35, 2.955801104972376), (36, 2.430939226519337), (37, 2.790055248618785), (38, 3.1215469613259668), (39, 3.1491712707182318), (40, 3.1767955801104977)]}\n",
      "INFO flwr 2023-08-29 08:05:28,849 | app.py:228 | app_fit: losses_centralized []\n",
      "INFO flwr 2023-08-29 08:05:28,850 | app.py:229 | app_fit: metrics_centralized {}\n",
      "C:\\Users\\Shuyao\\AppData\\Local\\Temp\\ipykernel_11996\\3421847257.py:35: UserWarning: To copy construct from a tensor, it is recommended to use sourceTensor.clone().detach() or sourceTensor.clone().detach().requires_grad_(True), rather than torch.tensor(sourceTensor).\n",
      "  y_train = torch.reshape(torch.tensor(y_train), (-1, 1))\n"
     ]
    },
    {
     "name": "stdout",
     "output_type": "stream",
     "text": [
      "agrregate_evaluate results list length is  5\n",
      "server round is  40\n",
      "loss is  0.6353591160220996\n",
      "History (loss, distributed):\n",
      "\tround 1: 11.287292817679559\n",
      "\tround 2: 8.281767955801104\n",
      "\tround 3: 7.12707182320442\n",
      "\tround 4: 4.850828729281768\n",
      "\tround 5: 3.591160220994475\n",
      "\tround 6: 2.3535911602209945\n",
      "\tround 7: 1.850828729281768\n",
      "\tround 8: 1.2320441988950277\n",
      "\tround 9: 1.160220994475138\n",
      "\tround 10: 0.9558011049723757\n",
      "\tround 11: 0.8232044198895028\n",
      "\tround 12: 0.861878453038674\n",
      "\tround 13: 0.9116022099447514\n",
      "\tround 14: 0.8397790055248618\n",
      "\tround 15: 0.7900552486187845\n",
      "\tround 16: 0.9060773480662984\n",
      "\tround 17: 0.8729281767955801\n",
      "\tround 18: 0.8839779005524862\n",
      "\tround 19: 0.7403314917127072\n",
      "\tround 20: 0.8674033149171271\n",
      "\tround 21: 0.7403314917127072\n",
      "\tround 22: 0.7071823204419889\n",
      "\tround 23: 0.7679558011049724\n",
      "\tround 24: 0.8287292817679558\n",
      "\tround 25: 0.7182320441988951\n",
      "\tround 26: 0.7734806629834254\n",
      "\tround 27: 0.7403314917127072\n",
      "\tround 28: 0.7016574585635359\n",
      "\tround 29: 0.6298342541436462\n",
      "\tround 30: 0.6795580110497239\n",
      "\tround 31: 0.6077348066298343\n",
      "\tround 32: 0.48066298342541436\n",
      "\tround 33: 0.48066298342541436\n",
      "\tround 34: 0.49171270718232046\n",
      "\tround 35: 0.5911602209944753\n",
      "\tround 36: 0.4861878453038674\n",
      "\tround 37: 0.5580110497237569\n",
      "\tround 38: 0.6243093922651932\n",
      "\tround 39: 0.6298342541436462\n",
      "\tround 40: 0.6353591160220996\n",
      "History (metrics, distributed, evaluate):\n",
      "{'mse': [(1, 56.43646408839779), (2, 41.40883977900552), (3, 35.6353591160221), (4, 24.254143646408842), (5, 17.955801104972377), (6, 11.767955801104971), (7, 9.25414364640884), (8, 6.1602209944751385), (9, 5.80110497237569), (10, 4.779005524861878), (11, 4.116022099447514), (12, 4.30939226519337), (13, 4.558011049723757), (14, 4.198895027624309), (15, 3.9502762430939224), (16, 4.530386740331492), (17, 4.3646408839779), (18, 4.41988950276243), (19, 3.701657458563536), (20, 4.337016574585635), (21, 3.701657458563536), (22, 3.5359116022099446), (23, 3.839779005524862), (24, 4.143646408839779), (25, 3.5911602209944755), (26, 3.8674033149171274), (27, 3.701657458563536), (28, 3.5082872928176796), (29, 3.1491712707182318), (30, 3.397790055248619), (31, 3.0386740331491713), (32, 2.403314917127072), (33, 2.403314917127072), (34, 2.4585635359116025), (35, 2.955801104972376), (36, 2.430939226519337), (37, 2.790055248618785), (38, 3.1215469613259668), (39, 3.1491712707182318), (40, 3.1767955801104977)]}\n",
      "[(1, 11.287292817679559), (2, 8.281767955801104), (3, 7.12707182320442), (4, 4.850828729281768), (5, 3.591160220994475), (6, 2.3535911602209945), (7, 1.850828729281768), (8, 1.2320441988950277), (9, 1.160220994475138), (10, 0.9558011049723757), (11, 0.8232044198895028), (12, 0.861878453038674), (13, 0.9116022099447514), (14, 0.8397790055248618), (15, 0.7900552486187845), (16, 0.9060773480662984), (17, 0.8729281767955801), (18, 0.8839779005524862), (19, 0.7403314917127072), (20, 0.8674033149171271), (21, 0.7403314917127072), (22, 0.7071823204419889), (23, 0.7679558011049724), (24, 0.8287292817679558), (25, 0.7182320441988951), (26, 0.7734806629834254), (27, 0.7403314917127072), (28, 0.7016574585635359), (29, 0.6298342541436462), (30, 0.6795580110497239), (31, 0.6077348066298343), (32, 0.48066298342541436), (33, 0.48066298342541436), (34, 0.49171270718232046), (35, 0.5911602209944753), (36, 0.4861878453038674), (37, 0.5580110497237569), (38, 0.6243093922651932), (39, 0.6298342541436462), (40, 0.6353591160220996)]\n",
      "Fold 2:\n"
     ]
    },
    {
     "name": "stderr",
     "output_type": "stream",
     "text": [
      "C:\\Users\\Shuyao\\AppData\\Local\\Temp\\ipykernel_11996\\3421847257.py:36: UserWarning: To copy construct from a tensor, it is recommended to use sourceTensor.clone().detach() or sourceTensor.clone().detach().requires_grad_(True), rather than torch.tensor(sourceTensor).\n",
      "  y_test = torch.reshape(torch.tensor(y_test), (-1, 1))\n",
      "INFO flwr 2023-08-29 08:05:29,113 | app.py:145 | Starting Flower simulation, config: ServerConfig(num_rounds=40, round_timeout=None)\n"
     ]
    },
    {
     "name": "stdout",
     "output_type": "stream",
     "text": [
      "Client 0 trainset shape torch.Size([75, 3, 23])\n",
      "Client 1 trainset shape torch.Size([75, 3, 23])\n",
      "Client 2 trainset shape torch.Size([75, 3, 23])\n",
      "Client 3 trainset shape torch.Size([75, 3, 23])\n",
      "Client 4 trainset shape torch.Size([71, 3, 23])\n",
      "Client 5 trainset shape torch.Size([70, 3, 23])\n",
      "Client 6 trainset shape torch.Size([70, 3, 23])\n",
      "Client 7 trainset shape torch.Size([70, 3, 23])\n",
      "Client 8 trainset shape torch.Size([70, 3, 23])\n",
      "Client 9 trainset shape torch.Size([70, 3, 23])\n"
     ]
    },
    {
     "name": "stderr",
     "output_type": "stream",
     "text": [
      "2023-08-29 08:05:37,571\tINFO worker.py:1627 -- Started a local Ray instance. View the dashboard at \u001B[1m\u001B[32m127.0.0.1:8265 \u001B[39m\u001B[22m\n",
      "INFO flwr 2023-08-29 08:05:41,776 | app.py:179 | Flower VCE: Ray initialized with resources: {'CPU': 8.0, 'object_store_memory': 1590888038.0, 'node:127.0.0.1': 1.0, 'memory': 3181776078.0, 'GPU': 1.0}\n",
      "INFO flwr 2023-08-29 08:05:41,778 | server.py:89 | Initializing global parameters\n",
      "INFO flwr 2023-08-29 08:05:41,778 | server.py:276 | Requesting initial parameters from one random client\n",
      "INFO flwr 2023-08-29 08:05:44,862 | server.py:280 | Received initial parameters from one random client\n",
      "INFO flwr 2023-08-29 08:05:44,864 | server.py:91 | Evaluating initial parameters\n",
      "INFO flwr 2023-08-29 08:05:44,865 | server.py:104 | FL starting\n",
      "DEBUG flwr 2023-08-29 08:05:44,866 | server.py:222 | fit_round 1: strategy sampled 5 clients (out of 10)\n",
      "DEBUG flwr 2023-08-29 08:05:54,473 | server.py:236 | fit_round 1 received 5 results and 0 failures\n",
      "WARNING flwr 2023-08-29 08:05:54,577 | fedavg.py:242 | No fit_metrics_aggregation_fn provided\n",
      "DEBUG flwr 2023-08-29 08:05:54,613 | server.py:173 | evaluate_round 1: strategy sampled 5 clients (out of 10)\n"
     ]
    },
    {
     "name": "stdout",
     "output_type": "stream",
     "text": [
      "agrregate_fit results list length is  5\n",
      "Saving round 1 aggregated_parameters...\n"
     ]
    },
    {
     "name": "stderr",
     "output_type": "stream",
     "text": [
      "DEBUG flwr 2023-08-29 08:05:55,103 | server.py:187 | evaluate_round 1 received 5 results and 0 failures\n",
      "DEBUG flwr 2023-08-29 08:05:55,105 | server.py:222 | fit_round 2: strategy sampled 5 clients (out of 10)\n"
     ]
    },
    {
     "name": "stdout",
     "output_type": "stream",
     "text": [
      "agrregate_evaluate results list length is  5\n",
      "server round is  1\n",
      "loss is  12.161111111111111\n"
     ]
    },
    {
     "name": "stderr",
     "output_type": "stream",
     "text": [
      "DEBUG flwr 2023-08-29 08:06:01,190 | server.py:236 | fit_round 2 received 5 results and 0 failures\n",
      "DEBUG flwr 2023-08-29 08:06:01,295 | server.py:173 | evaluate_round 2: strategy sampled 5 clients (out of 10)\n"
     ]
    },
    {
     "name": "stdout",
     "output_type": "stream",
     "text": [
      "agrregate_fit results list length is  5\n",
      "Saving round 2 aggregated_parameters...\n"
     ]
    },
    {
     "name": "stderr",
     "output_type": "stream",
     "text": [
      "DEBUG flwr 2023-08-29 08:06:01,744 | server.py:187 | evaluate_round 2 received 5 results and 0 failures\n",
      "DEBUG flwr 2023-08-29 08:06:01,746 | server.py:222 | fit_round 3: strategy sampled 5 clients (out of 10)\n"
     ]
    },
    {
     "name": "stdout",
     "output_type": "stream",
     "text": [
      "agrregate_evaluate results list length is  5\n",
      "server round is  2\n",
      "loss is  10.155555555555555\n"
     ]
    },
    {
     "name": "stderr",
     "output_type": "stream",
     "text": [
      "DEBUG flwr 2023-08-29 08:06:07,800 | server.py:236 | fit_round 3 received 5 results and 0 failures\n",
      "DEBUG flwr 2023-08-29 08:06:07,911 | server.py:173 | evaluate_round 3: strategy sampled 5 clients (out of 10)\n"
     ]
    },
    {
     "name": "stdout",
     "output_type": "stream",
     "text": [
      "agrregate_fit results list length is  5\n",
      "Saving round 3 aggregated_parameters...\n"
     ]
    },
    {
     "name": "stderr",
     "output_type": "stream",
     "text": [
      "DEBUG flwr 2023-08-29 08:06:08,359 | server.py:187 | evaluate_round 3 received 5 results and 0 failures\n",
      "DEBUG flwr 2023-08-29 08:06:08,360 | server.py:222 | fit_round 4: strategy sampled 5 clients (out of 10)\n"
     ]
    },
    {
     "name": "stdout",
     "output_type": "stream",
     "text": [
      "agrregate_evaluate results list length is  5\n",
      "server round is  3\n",
      "loss is  8.53888888888889\n"
     ]
    },
    {
     "name": "stderr",
     "output_type": "stream",
     "text": [
      "DEBUG flwr 2023-08-29 08:06:14,546 | server.py:236 | fit_round 4 received 5 results and 0 failures\n",
      "DEBUG flwr 2023-08-29 08:06:14,661 | server.py:173 | evaluate_round 4: strategy sampled 5 clients (out of 10)\n"
     ]
    },
    {
     "name": "stdout",
     "output_type": "stream",
     "text": [
      "agrregate_fit results list length is  5\n",
      "Saving round 4 aggregated_parameters...\n"
     ]
    },
    {
     "name": "stderr",
     "output_type": "stream",
     "text": [
      "DEBUG flwr 2023-08-29 08:06:15,204 | server.py:187 | evaluate_round 4 received 5 results and 0 failures\n",
      "DEBUG flwr 2023-08-29 08:06:15,205 | server.py:222 | fit_round 5: strategy sampled 5 clients (out of 10)\n"
     ]
    },
    {
     "name": "stdout",
     "output_type": "stream",
     "text": [
      "agrregate_evaluate results list length is  5\n",
      "server round is  4\n",
      "loss is  6.944444444444445\n"
     ]
    },
    {
     "name": "stderr",
     "output_type": "stream",
     "text": [
      "DEBUG flwr 2023-08-29 08:06:21,728 | server.py:236 | fit_round 5 received 5 results and 0 failures\n",
      "DEBUG flwr 2023-08-29 08:06:21,867 | server.py:173 | evaluate_round 5: strategy sampled 5 clients (out of 10)\n"
     ]
    },
    {
     "name": "stdout",
     "output_type": "stream",
     "text": [
      "agrregate_fit results list length is  5\n",
      "Saving round 5 aggregated_parameters...\n"
     ]
    },
    {
     "name": "stderr",
     "output_type": "stream",
     "text": [
      "DEBUG flwr 2023-08-29 08:06:22,373 | server.py:187 | evaluate_round 5 received 5 results and 0 failures\n",
      "DEBUG flwr 2023-08-29 08:06:22,375 | server.py:222 | fit_round 6: strategy sampled 5 clients (out of 10)\n"
     ]
    },
    {
     "name": "stdout",
     "output_type": "stream",
     "text": [
      "agrregate_evaluate results list length is  5\n",
      "server round is  5\n",
      "loss is  4.055555555555555\n"
     ]
    },
    {
     "name": "stderr",
     "output_type": "stream",
     "text": [
      "DEBUG flwr 2023-08-29 08:06:28,622 | server.py:236 | fit_round 6 received 5 results and 0 failures\n",
      "DEBUG flwr 2023-08-29 08:06:28,743 | server.py:173 | evaluate_round 6: strategy sampled 5 clients (out of 10)\n"
     ]
    },
    {
     "name": "stdout",
     "output_type": "stream",
     "text": [
      "agrregate_fit results list length is  5\n",
      "Saving round 6 aggregated_parameters...\n"
     ]
    },
    {
     "name": "stderr",
     "output_type": "stream",
     "text": [
      "DEBUG flwr 2023-08-29 08:06:29,216 | server.py:187 | evaluate_round 6 received 5 results and 0 failures\n",
      "DEBUG flwr 2023-08-29 08:06:29,218 | server.py:222 | fit_round 7: strategy sampled 5 clients (out of 10)\n"
     ]
    },
    {
     "name": "stdout",
     "output_type": "stream",
     "text": [
      "agrregate_evaluate results list length is  5\n",
      "server round is  6\n",
      "loss is  2.6833333333333327\n"
     ]
    },
    {
     "name": "stderr",
     "output_type": "stream",
     "text": [
      "DEBUG flwr 2023-08-29 08:06:35,519 | server.py:236 | fit_round 7 received 5 results and 0 failures\n",
      "DEBUG flwr 2023-08-29 08:06:35,637 | server.py:173 | evaluate_round 7: strategy sampled 5 clients (out of 10)\n"
     ]
    },
    {
     "name": "stdout",
     "output_type": "stream",
     "text": [
      "agrregate_fit results list length is  5\n",
      "Saving round 7 aggregated_parameters...\n"
     ]
    },
    {
     "name": "stderr",
     "output_type": "stream",
     "text": [
      "DEBUG flwr 2023-08-29 08:06:36,156 | server.py:187 | evaluate_round 7 received 5 results and 0 failures\n",
      "DEBUG flwr 2023-08-29 08:06:36,158 | server.py:222 | fit_round 8: strategy sampled 5 clients (out of 10)\n"
     ]
    },
    {
     "name": "stdout",
     "output_type": "stream",
     "text": [
      "agrregate_evaluate results list length is  5\n",
      "server round is  7\n",
      "loss is  2.6333333333333333\n"
     ]
    },
    {
     "name": "stderr",
     "output_type": "stream",
     "text": [
      "DEBUG flwr 2023-08-29 08:06:42,260 | server.py:236 | fit_round 8 received 5 results and 0 failures\n",
      "DEBUG flwr 2023-08-29 08:06:42,372 | server.py:173 | evaluate_round 8: strategy sampled 5 clients (out of 10)\n"
     ]
    },
    {
     "name": "stdout",
     "output_type": "stream",
     "text": [
      "agrregate_fit results list length is  5\n",
      "Saving round 8 aggregated_parameters...\n"
     ]
    },
    {
     "name": "stderr",
     "output_type": "stream",
     "text": [
      "DEBUG flwr 2023-08-29 08:06:42,911 | server.py:187 | evaluate_round 8 received 5 results and 0 failures\n",
      "DEBUG flwr 2023-08-29 08:06:42,912 | server.py:222 | fit_round 9: strategy sampled 5 clients (out of 10)\n"
     ]
    },
    {
     "name": "stdout",
     "output_type": "stream",
     "text": [
      "agrregate_evaluate results list length is  5\n",
      "server round is  8\n",
      "loss is  1.6388888888888888\n"
     ]
    },
    {
     "name": "stderr",
     "output_type": "stream",
     "text": [
      "DEBUG flwr 2023-08-29 08:06:49,394 | server.py:236 | fit_round 9 received 5 results and 0 failures\n",
      "DEBUG flwr 2023-08-29 08:06:49,518 | server.py:173 | evaluate_round 9: strategy sampled 5 clients (out of 10)\n"
     ]
    },
    {
     "name": "stdout",
     "output_type": "stream",
     "text": [
      "agrregate_fit results list length is  5\n",
      "Saving round 9 aggregated_parameters...\n"
     ]
    },
    {
     "name": "stderr",
     "output_type": "stream",
     "text": [
      "DEBUG flwr 2023-08-29 08:06:50,032 | server.py:187 | evaluate_round 9 received 5 results and 0 failures\n",
      "DEBUG flwr 2023-08-29 08:06:50,034 | server.py:222 | fit_round 10: strategy sampled 5 clients (out of 10)\n"
     ]
    },
    {
     "name": "stdout",
     "output_type": "stream",
     "text": [
      "agrregate_evaluate results list length is  5\n",
      "server round is  9\n",
      "loss is  1.5\n"
     ]
    },
    {
     "name": "stderr",
     "output_type": "stream",
     "text": [
      "DEBUG flwr 2023-08-29 08:06:56,920 | server.py:236 | fit_round 10 received 5 results and 0 failures\n",
      "DEBUG flwr 2023-08-29 08:06:57,055 | server.py:173 | evaluate_round 10: strategy sampled 5 clients (out of 10)\n"
     ]
    },
    {
     "name": "stdout",
     "output_type": "stream",
     "text": [
      "agrregate_fit results list length is  5\n",
      "Saving round 10 aggregated_parameters...\n"
     ]
    },
    {
     "name": "stderr",
     "output_type": "stream",
     "text": [
      "DEBUG flwr 2023-08-29 08:06:57,616 | server.py:187 | evaluate_round 10 received 5 results and 0 failures\n",
      "DEBUG flwr 2023-08-29 08:06:57,618 | server.py:222 | fit_round 11: strategy sampled 5 clients (out of 10)\n"
     ]
    },
    {
     "name": "stdout",
     "output_type": "stream",
     "text": [
      "agrregate_evaluate results list length is  5\n",
      "server round is  10\n",
      "loss is  1.4944444444444445\n"
     ]
    },
    {
     "name": "stderr",
     "output_type": "stream",
     "text": [
      "DEBUG flwr 2023-08-29 08:07:04,835 | server.py:236 | fit_round 11 received 5 results and 0 failures\n",
      "DEBUG flwr 2023-08-29 08:07:04,987 | server.py:173 | evaluate_round 11: strategy sampled 5 clients (out of 10)\n"
     ]
    },
    {
     "name": "stdout",
     "output_type": "stream",
     "text": [
      "agrregate_fit results list length is  5\n",
      "Saving round 11 aggregated_parameters...\n"
     ]
    },
    {
     "name": "stderr",
     "output_type": "stream",
     "text": [
      "DEBUG flwr 2023-08-29 08:07:05,548 | server.py:187 | evaluate_round 11 received 5 results and 0 failures\n",
      "DEBUG flwr 2023-08-29 08:07:05,550 | server.py:222 | fit_round 12: strategy sampled 5 clients (out of 10)\n"
     ]
    },
    {
     "name": "stdout",
     "output_type": "stream",
     "text": [
      "agrregate_evaluate results list length is  5\n",
      "server round is  11\n",
      "loss is  1.45\n"
     ]
    },
    {
     "name": "stderr",
     "output_type": "stream",
     "text": [
      "DEBUG flwr 2023-08-29 08:07:12,684 | server.py:236 | fit_round 12 received 5 results and 0 failures\n",
      "DEBUG flwr 2023-08-29 08:07:12,840 | server.py:173 | evaluate_round 12: strategy sampled 5 clients (out of 10)\n"
     ]
    },
    {
     "name": "stdout",
     "output_type": "stream",
     "text": [
      "agrregate_fit results list length is  5\n",
      "Saving round 12 aggregated_parameters...\n"
     ]
    },
    {
     "name": "stderr",
     "output_type": "stream",
     "text": [
      "DEBUG flwr 2023-08-29 08:07:13,433 | server.py:187 | evaluate_round 12 received 5 results and 0 failures\n",
      "DEBUG flwr 2023-08-29 08:07:13,435 | server.py:222 | fit_round 13: strategy sampled 5 clients (out of 10)\n"
     ]
    },
    {
     "name": "stdout",
     "output_type": "stream",
     "text": [
      "agrregate_evaluate results list length is  5\n",
      "server round is  12\n",
      "loss is  1.0833333333333333\n"
     ]
    },
    {
     "name": "stderr",
     "output_type": "stream",
     "text": [
      "DEBUG flwr 2023-08-29 08:07:20,635 | server.py:236 | fit_round 13 received 5 results and 0 failures\n",
      "DEBUG flwr 2023-08-29 08:07:20,844 | server.py:173 | evaluate_round 13: strategy sampled 5 clients (out of 10)\n"
     ]
    },
    {
     "name": "stdout",
     "output_type": "stream",
     "text": [
      "agrregate_fit results list length is  5\n",
      "Saving round 13 aggregated_parameters...\n"
     ]
    },
    {
     "name": "stderr",
     "output_type": "stream",
     "text": [
      "DEBUG flwr 2023-08-29 08:07:21,463 | server.py:187 | evaluate_round 13 received 5 results and 0 failures\n",
      "DEBUG flwr 2023-08-29 08:07:21,465 | server.py:222 | fit_round 14: strategy sampled 5 clients (out of 10)\n"
     ]
    },
    {
     "name": "stdout",
     "output_type": "stream",
     "text": [
      "agrregate_evaluate results list length is  5\n",
      "server round is  13\n",
      "loss is  1.0833333333333333\n"
     ]
    },
    {
     "name": "stderr",
     "output_type": "stream",
     "text": [
      "DEBUG flwr 2023-08-29 08:07:28,623 | server.py:236 | fit_round 14 received 5 results and 0 failures\n",
      "DEBUG flwr 2023-08-29 08:07:28,805 | server.py:173 | evaluate_round 14: strategy sampled 5 clients (out of 10)\n"
     ]
    },
    {
     "name": "stdout",
     "output_type": "stream",
     "text": [
      "agrregate_fit results list length is  5\n",
      "Saving round 14 aggregated_parameters...\n"
     ]
    },
    {
     "name": "stderr",
     "output_type": "stream",
     "text": [
      "DEBUG flwr 2023-08-29 08:07:29,380 | server.py:187 | evaluate_round 14 received 5 results and 0 failures\n",
      "DEBUG flwr 2023-08-29 08:07:29,382 | server.py:222 | fit_round 15: strategy sampled 5 clients (out of 10)\n"
     ]
    },
    {
     "name": "stdout",
     "output_type": "stream",
     "text": [
      "agrregate_evaluate results list length is  5\n",
      "server round is  14\n",
      "loss is  1.1666666666666667\n"
     ]
    },
    {
     "name": "stderr",
     "output_type": "stream",
     "text": [
      "DEBUG flwr 2023-08-29 08:07:36,318 | server.py:236 | fit_round 15 received 5 results and 0 failures\n",
      "DEBUG flwr 2023-08-29 08:07:36,501 | server.py:173 | evaluate_round 15: strategy sampled 5 clients (out of 10)\n"
     ]
    },
    {
     "name": "stdout",
     "output_type": "stream",
     "text": [
      "agrregate_fit results list length is  5\n",
      "Saving round 15 aggregated_parameters...\n"
     ]
    },
    {
     "name": "stderr",
     "output_type": "stream",
     "text": [
      "DEBUG flwr 2023-08-29 08:07:37,176 | server.py:187 | evaluate_round 15 received 5 results and 0 failures\n",
      "DEBUG flwr 2023-08-29 08:07:37,179 | server.py:222 | fit_round 16: strategy sampled 5 clients (out of 10)\n"
     ]
    },
    {
     "name": "stdout",
     "output_type": "stream",
     "text": [
      "agrregate_evaluate results list length is  5\n",
      "server round is  15\n",
      "loss is  1.0722222222222222\n"
     ]
    },
    {
     "name": "stderr",
     "output_type": "stream",
     "text": [
      "DEBUG flwr 2023-08-29 08:07:44,257 | server.py:236 | fit_round 16 received 5 results and 0 failures\n",
      "DEBUG flwr 2023-08-29 08:07:44,447 | server.py:173 | evaluate_round 16: strategy sampled 5 clients (out of 10)\n"
     ]
    },
    {
     "name": "stdout",
     "output_type": "stream",
     "text": [
      "agrregate_fit results list length is  5\n",
      "Saving round 16 aggregated_parameters...\n"
     ]
    },
    {
     "name": "stderr",
     "output_type": "stream",
     "text": [
      "DEBUG flwr 2023-08-29 08:07:45,134 | server.py:187 | evaluate_round 16 received 5 results and 0 failures\n",
      "DEBUG flwr 2023-08-29 08:07:45,135 | server.py:222 | fit_round 17: strategy sampled 5 clients (out of 10)\n"
     ]
    },
    {
     "name": "stdout",
     "output_type": "stream",
     "text": [
      "agrregate_evaluate results list length is  5\n",
      "server round is  16\n",
      "loss is  1.0333333333333334\n"
     ]
    },
    {
     "name": "stderr",
     "output_type": "stream",
     "text": [
      "DEBUG flwr 2023-08-29 08:07:52,179 | server.py:236 | fit_round 17 received 5 results and 0 failures\n",
      "DEBUG flwr 2023-08-29 08:07:52,354 | server.py:173 | evaluate_round 17: strategy sampled 5 clients (out of 10)\n"
     ]
    },
    {
     "name": "stdout",
     "output_type": "stream",
     "text": [
      "agrregate_fit results list length is  5\n",
      "Saving round 17 aggregated_parameters...\n"
     ]
    },
    {
     "name": "stderr",
     "output_type": "stream",
     "text": [
      "DEBUG flwr 2023-08-29 08:07:52,972 | server.py:187 | evaluate_round 17 received 5 results and 0 failures\n",
      "DEBUG flwr 2023-08-29 08:07:52,974 | server.py:222 | fit_round 18: strategy sampled 5 clients (out of 10)\n"
     ]
    },
    {
     "name": "stdout",
     "output_type": "stream",
     "text": [
      "agrregate_evaluate results list length is  5\n",
      "server round is  17\n",
      "loss is  1.1055555555555556\n"
     ]
    },
    {
     "name": "stderr",
     "output_type": "stream",
     "text": [
      "DEBUG flwr 2023-08-29 08:08:00,353 | server.py:236 | fit_round 18 received 5 results and 0 failures\n"
     ]
    },
    {
     "name": "stdout",
     "output_type": "stream",
     "text": [
      "agrregate_fit results list length is  5\n",
      "Saving round 18 aggregated_parameters...\n"
     ]
    },
    {
     "name": "stderr",
     "output_type": "stream",
     "text": [
      "DEBUG flwr 2023-08-29 08:08:00,601 | server.py:173 | evaluate_round 18: strategy sampled 5 clients (out of 10)\n",
      "DEBUG flwr 2023-08-29 08:08:01,408 | server.py:187 | evaluate_round 18 received 5 results and 0 failures\n",
      "DEBUG flwr 2023-08-29 08:08:01,411 | server.py:222 | fit_round 19: strategy sampled 5 clients (out of 10)\n"
     ]
    },
    {
     "name": "stdout",
     "output_type": "stream",
     "text": [
      "agrregate_evaluate results list length is  5\n",
      "server round is  18\n",
      "loss is  0.9833333333333333\n"
     ]
    },
    {
     "name": "stderr",
     "output_type": "stream",
     "text": [
      "DEBUG flwr 2023-08-29 08:08:07,942 | server.py:236 | fit_round 19 received 5 results and 0 failures\n",
      "DEBUG flwr 2023-08-29 08:08:08,119 | server.py:173 | evaluate_round 19: strategy sampled 5 clients (out of 10)\n"
     ]
    },
    {
     "name": "stdout",
     "output_type": "stream",
     "text": [
      "agrregate_fit results list length is  5\n",
      "Saving round 19 aggregated_parameters...\n"
     ]
    },
    {
     "name": "stderr",
     "output_type": "stream",
     "text": [
      "DEBUG flwr 2023-08-29 08:08:08,690 | server.py:187 | evaluate_round 19 received 5 results and 0 failures\n",
      "DEBUG flwr 2023-08-29 08:08:08,692 | server.py:222 | fit_round 20: strategy sampled 5 clients (out of 10)\n"
     ]
    },
    {
     "name": "stdout",
     "output_type": "stream",
     "text": [
      "agrregate_evaluate results list length is  5\n",
      "server round is  19\n",
      "loss is  1.0611111111111111\n"
     ]
    },
    {
     "name": "stderr",
     "output_type": "stream",
     "text": [
      "DEBUG flwr 2023-08-29 08:08:15,049 | server.py:236 | fit_round 20 received 5 results and 0 failures\n",
      "DEBUG flwr 2023-08-29 08:08:15,189 | server.py:173 | evaluate_round 20: strategy sampled 5 clients (out of 10)\n"
     ]
    },
    {
     "name": "stdout",
     "output_type": "stream",
     "text": [
      "agrregate_fit results list length is  5\n",
      "Saving round 20 aggregated_parameters...\n"
     ]
    },
    {
     "name": "stderr",
     "output_type": "stream",
     "text": [
      "DEBUG flwr 2023-08-29 08:08:15,677 | server.py:187 | evaluate_round 20 received 5 results and 0 failures\n",
      "DEBUG flwr 2023-08-29 08:08:15,679 | server.py:222 | fit_round 21: strategy sampled 5 clients (out of 10)\n"
     ]
    },
    {
     "name": "stdout",
     "output_type": "stream",
     "text": [
      "agrregate_evaluate results list length is  5\n",
      "server round is  20\n",
      "loss is  1.0944444444444446\n"
     ]
    },
    {
     "name": "stderr",
     "output_type": "stream",
     "text": [
      "DEBUG flwr 2023-08-29 08:08:21,947 | server.py:236 | fit_round 21 received 5 results and 0 failures\n",
      "DEBUG flwr 2023-08-29 08:08:22,082 | server.py:173 | evaluate_round 21: strategy sampled 5 clients (out of 10)\n"
     ]
    },
    {
     "name": "stdout",
     "output_type": "stream",
     "text": [
      "agrregate_fit results list length is  5\n",
      "Saving round 21 aggregated_parameters...\n"
     ]
    },
    {
     "name": "stderr",
     "output_type": "stream",
     "text": [
      "DEBUG flwr 2023-08-29 08:08:22,630 | server.py:187 | evaluate_round 21 received 5 results and 0 failures\n",
      "DEBUG flwr 2023-08-29 08:08:22,631 | server.py:222 | fit_round 22: strategy sampled 5 clients (out of 10)\n"
     ]
    },
    {
     "name": "stdout",
     "output_type": "stream",
     "text": [
      "agrregate_evaluate results list length is  5\n",
      "server round is  21\n",
      "loss is  1.05\n"
     ]
    },
    {
     "name": "stderr",
     "output_type": "stream",
     "text": [
      "DEBUG flwr 2023-08-29 08:08:28,804 | server.py:236 | fit_round 22 received 5 results and 0 failures\n",
      "DEBUG flwr 2023-08-29 08:08:28,940 | server.py:173 | evaluate_round 22: strategy sampled 5 clients (out of 10)\n"
     ]
    },
    {
     "name": "stdout",
     "output_type": "stream",
     "text": [
      "agrregate_fit results list length is  5\n",
      "Saving round 22 aggregated_parameters...\n"
     ]
    },
    {
     "name": "stderr",
     "output_type": "stream",
     "text": [
      "DEBUG flwr 2023-08-29 08:08:29,508 | server.py:187 | evaluate_round 22 received 5 results and 0 failures\n",
      "DEBUG flwr 2023-08-29 08:08:29,510 | server.py:222 | fit_round 23: strategy sampled 5 clients (out of 10)\n"
     ]
    },
    {
     "name": "stdout",
     "output_type": "stream",
     "text": [
      "agrregate_evaluate results list length is  5\n",
      "server round is  22\n",
      "loss is  1.038888888888889\n"
     ]
    },
    {
     "name": "stderr",
     "output_type": "stream",
     "text": [
      "DEBUG flwr 2023-08-29 08:08:35,845 | server.py:236 | fit_round 23 received 5 results and 0 failures\n",
      "DEBUG flwr 2023-08-29 08:08:35,977 | server.py:173 | evaluate_round 23: strategy sampled 5 clients (out of 10)\n"
     ]
    },
    {
     "name": "stdout",
     "output_type": "stream",
     "text": [
      "agrregate_fit results list length is  5\n",
      "Saving round 23 aggregated_parameters...\n"
     ]
    },
    {
     "name": "stderr",
     "output_type": "stream",
     "text": [
      "DEBUG flwr 2023-08-29 08:08:36,522 | server.py:187 | evaluate_round 23 received 5 results and 0 failures\n",
      "DEBUG flwr 2023-08-29 08:08:36,523 | server.py:222 | fit_round 24: strategy sampled 5 clients (out of 10)\n"
     ]
    },
    {
     "name": "stdout",
     "output_type": "stream",
     "text": [
      "agrregate_evaluate results list length is  5\n",
      "server round is  23\n",
      "loss is  1.0555555555555556\n"
     ]
    },
    {
     "name": "stderr",
     "output_type": "stream",
     "text": [
      "DEBUG flwr 2023-08-29 08:08:42,672 | server.py:236 | fit_round 24 received 5 results and 0 failures\n",
      "DEBUG flwr 2023-08-29 08:08:42,802 | server.py:173 | evaluate_round 24: strategy sampled 5 clients (out of 10)\n"
     ]
    },
    {
     "name": "stdout",
     "output_type": "stream",
     "text": [
      "agrregate_fit results list length is  5\n",
      "Saving round 24 aggregated_parameters...\n"
     ]
    },
    {
     "name": "stderr",
     "output_type": "stream",
     "text": [
      "DEBUG flwr 2023-08-29 08:08:43,350 | server.py:187 | evaluate_round 24 received 5 results and 0 failures\n",
      "DEBUG flwr 2023-08-29 08:08:43,352 | server.py:222 | fit_round 25: strategy sampled 5 clients (out of 10)\n"
     ]
    },
    {
     "name": "stdout",
     "output_type": "stream",
     "text": [
      "agrregate_evaluate results list length is  5\n",
      "server round is  24\n",
      "loss is  1.0777777777777777\n"
     ]
    },
    {
     "name": "stderr",
     "output_type": "stream",
     "text": [
      "DEBUG flwr 2023-08-29 08:08:49,582 | server.py:236 | fit_round 25 received 5 results and 0 failures\n",
      "DEBUG flwr 2023-08-29 08:08:49,738 | server.py:173 | evaluate_round 25: strategy sampled 5 clients (out of 10)\n"
     ]
    },
    {
     "name": "stdout",
     "output_type": "stream",
     "text": [
      "agrregate_fit results list length is  5\n",
      "Saving round 25 aggregated_parameters...\n"
     ]
    },
    {
     "name": "stderr",
     "output_type": "stream",
     "text": [
      "DEBUG flwr 2023-08-29 08:08:50,284 | server.py:187 | evaluate_round 25 received 5 results and 0 failures\n",
      "DEBUG flwr 2023-08-29 08:08:50,285 | server.py:222 | fit_round 26: strategy sampled 5 clients (out of 10)\n"
     ]
    },
    {
     "name": "stdout",
     "output_type": "stream",
     "text": [
      "agrregate_evaluate results list length is  5\n",
      "server round is  25\n",
      "loss is  1.0166666666666666\n"
     ]
    },
    {
     "name": "stderr",
     "output_type": "stream",
     "text": [
      "DEBUG flwr 2023-08-29 08:08:57,194 | server.py:236 | fit_round 26 received 5 results and 0 failures\n",
      "DEBUG flwr 2023-08-29 08:08:57,377 | server.py:173 | evaluate_round 26: strategy sampled 5 clients (out of 10)\n"
     ]
    },
    {
     "name": "stdout",
     "output_type": "stream",
     "text": [
      "agrregate_fit results list length is  5\n",
      "Saving round 26 aggregated_parameters...\n"
     ]
    },
    {
     "name": "stderr",
     "output_type": "stream",
     "text": [
      "DEBUG flwr 2023-08-29 08:08:58,064 | server.py:187 | evaluate_round 26 received 5 results and 0 failures\n",
      "DEBUG flwr 2023-08-29 08:08:58,067 | server.py:222 | fit_round 27: strategy sampled 5 clients (out of 10)\n"
     ]
    },
    {
     "name": "stdout",
     "output_type": "stream",
     "text": [
      "agrregate_evaluate results list length is  5\n",
      "server round is  26\n",
      "loss is  1.0666666666666667\n"
     ]
    },
    {
     "name": "stderr",
     "output_type": "stream",
     "text": [
      "DEBUG flwr 2023-08-29 08:09:05,306 | server.py:236 | fit_round 27 received 5 results and 0 failures\n",
      "DEBUG flwr 2023-08-29 08:09:05,448 | server.py:173 | evaluate_round 27: strategy sampled 5 clients (out of 10)\n"
     ]
    },
    {
     "name": "stdout",
     "output_type": "stream",
     "text": [
      "agrregate_fit results list length is  5\n",
      "Saving round 27 aggregated_parameters...\n"
     ]
    },
    {
     "name": "stderr",
     "output_type": "stream",
     "text": [
      "DEBUG flwr 2023-08-29 08:09:05,935 | server.py:187 | evaluate_round 27 received 5 results and 0 failures\n",
      "DEBUG flwr 2023-08-29 08:09:05,937 | server.py:222 | fit_round 28: strategy sampled 5 clients (out of 10)\n"
     ]
    },
    {
     "name": "stdout",
     "output_type": "stream",
     "text": [
      "agrregate_evaluate results list length is  5\n",
      "server round is  27\n",
      "loss is  1.0\n"
     ]
    },
    {
     "name": "stderr",
     "output_type": "stream",
     "text": [
      "DEBUG flwr 2023-08-29 08:09:12,808 | server.py:236 | fit_round 28 received 5 results and 0 failures\n",
      "DEBUG flwr 2023-08-29 08:09:12,938 | server.py:173 | evaluate_round 28: strategy sampled 5 clients (out of 10)\n"
     ]
    },
    {
     "name": "stdout",
     "output_type": "stream",
     "text": [
      "agrregate_fit results list length is  5\n",
      "Saving round 28 aggregated_parameters...\n"
     ]
    },
    {
     "name": "stderr",
     "output_type": "stream",
     "text": [
      "DEBUG flwr 2023-08-29 08:09:13,458 | server.py:187 | evaluate_round 28 received 5 results and 0 failures\n",
      "DEBUG flwr 2023-08-29 08:09:13,460 | server.py:222 | fit_round 29: strategy sampled 5 clients (out of 10)\n"
     ]
    },
    {
     "name": "stdout",
     "output_type": "stream",
     "text": [
      "agrregate_evaluate results list length is  5\n",
      "server round is  28\n",
      "loss is  0.8055555555555556\n"
     ]
    },
    {
     "name": "stderr",
     "output_type": "stream",
     "text": [
      "DEBUG flwr 2023-08-29 08:09:19,556 | server.py:236 | fit_round 29 received 5 results and 0 failures\n",
      "DEBUG flwr 2023-08-29 08:09:19,687 | server.py:173 | evaluate_round 29: strategy sampled 5 clients (out of 10)\n"
     ]
    },
    {
     "name": "stdout",
     "output_type": "stream",
     "text": [
      "agrregate_fit results list length is  5\n",
      "Saving round 29 aggregated_parameters...\n"
     ]
    },
    {
     "name": "stderr",
     "output_type": "stream",
     "text": [
      "DEBUG flwr 2023-08-29 08:09:20,222 | server.py:187 | evaluate_round 29 received 5 results and 0 failures\n",
      "DEBUG flwr 2023-08-29 08:09:20,224 | server.py:222 | fit_round 30: strategy sampled 5 clients (out of 10)\n"
     ]
    },
    {
     "name": "stdout",
     "output_type": "stream",
     "text": [
      "agrregate_evaluate results list length is  5\n",
      "server round is  29\n",
      "loss is  0.8\n"
     ]
    },
    {
     "name": "stderr",
     "output_type": "stream",
     "text": [
      "DEBUG flwr 2023-08-29 08:09:26,414 | server.py:236 | fit_round 30 received 5 results and 0 failures\n",
      "DEBUG flwr 2023-08-29 08:09:26,539 | server.py:173 | evaluate_round 30: strategy sampled 5 clients (out of 10)\n"
     ]
    },
    {
     "name": "stdout",
     "output_type": "stream",
     "text": [
      "agrregate_fit results list length is  5\n",
      "Saving round 30 aggregated_parameters...\n"
     ]
    },
    {
     "name": "stderr",
     "output_type": "stream",
     "text": [
      "DEBUG flwr 2023-08-29 08:09:27,051 | server.py:187 | evaluate_round 30 received 5 results and 0 failures\n",
      "DEBUG flwr 2023-08-29 08:09:27,053 | server.py:222 | fit_round 31: strategy sampled 5 clients (out of 10)\n"
     ]
    },
    {
     "name": "stdout",
     "output_type": "stream",
     "text": [
      "agrregate_evaluate results list length is  5\n",
      "server round is  30\n",
      "loss is  0.8333333333333334\n"
     ]
    },
    {
     "name": "stderr",
     "output_type": "stream",
     "text": [
      "DEBUG flwr 2023-08-29 08:09:33,215 | server.py:236 | fit_round 31 received 5 results and 0 failures\n",
      "DEBUG flwr 2023-08-29 08:09:33,364 | server.py:173 | evaluate_round 31: strategy sampled 5 clients (out of 10)\n"
     ]
    },
    {
     "name": "stdout",
     "output_type": "stream",
     "text": [
      "agrregate_fit results list length is  5\n",
      "Saving round 31 aggregated_parameters...\n"
     ]
    },
    {
     "name": "stderr",
     "output_type": "stream",
     "text": [
      "DEBUG flwr 2023-08-29 08:09:33,879 | server.py:187 | evaluate_round 31 received 5 results and 0 failures\n",
      "DEBUG flwr 2023-08-29 08:09:33,880 | server.py:222 | fit_round 32: strategy sampled 5 clients (out of 10)\n"
     ]
    },
    {
     "name": "stdout",
     "output_type": "stream",
     "text": [
      "agrregate_evaluate results list length is  5\n",
      "server round is  31\n",
      "loss is  0.8555555555555555\n"
     ]
    },
    {
     "name": "stderr",
     "output_type": "stream",
     "text": [
      "DEBUG flwr 2023-08-29 08:09:40,111 | server.py:236 | fit_round 32 received 5 results and 0 failures\n",
      "DEBUG flwr 2023-08-29 08:09:40,245 | server.py:173 | evaluate_round 32: strategy sampled 5 clients (out of 10)\n"
     ]
    },
    {
     "name": "stdout",
     "output_type": "stream",
     "text": [
      "agrregate_fit results list length is  5\n",
      "Saving round 32 aggregated_parameters...\n"
     ]
    },
    {
     "name": "stderr",
     "output_type": "stream",
     "text": [
      "DEBUG flwr 2023-08-29 08:09:40,754 | server.py:187 | evaluate_round 32 received 5 results and 0 failures\n",
      "DEBUG flwr 2023-08-29 08:09:40,755 | server.py:222 | fit_round 33: strategy sampled 5 clients (out of 10)\n"
     ]
    },
    {
     "name": "stdout",
     "output_type": "stream",
     "text": [
      "agrregate_evaluate results list length is  5\n",
      "server round is  32\n",
      "loss is  0.8111111111111111\n"
     ]
    },
    {
     "name": "stderr",
     "output_type": "stream",
     "text": [
      "DEBUG flwr 2023-08-29 08:09:46,777 | server.py:236 | fit_round 33 received 5 results and 0 failures\n",
      "DEBUG flwr 2023-08-29 08:09:46,919 | server.py:173 | evaluate_round 33: strategy sampled 5 clients (out of 10)\n"
     ]
    },
    {
     "name": "stdout",
     "output_type": "stream",
     "text": [
      "agrregate_fit results list length is  5\n",
      "Saving round 33 aggregated_parameters...\n"
     ]
    },
    {
     "name": "stderr",
     "output_type": "stream",
     "text": [
      "DEBUG flwr 2023-08-29 08:09:47,461 | server.py:187 | evaluate_round 33 received 5 results and 0 failures\n",
      "DEBUG flwr 2023-08-29 08:09:47,463 | server.py:222 | fit_round 34: strategy sampled 5 clients (out of 10)\n"
     ]
    },
    {
     "name": "stdout",
     "output_type": "stream",
     "text": [
      "agrregate_evaluate results list length is  5\n",
      "server round is  33\n",
      "loss is  0.8166666666666667\n"
     ]
    },
    {
     "name": "stderr",
     "output_type": "stream",
     "text": [
      "DEBUG flwr 2023-08-29 08:09:53,627 | server.py:236 | fit_round 34 received 5 results and 0 failures\n",
      "DEBUG flwr 2023-08-29 08:09:53,776 | server.py:173 | evaluate_round 34: strategy sampled 5 clients (out of 10)\n"
     ]
    },
    {
     "name": "stdout",
     "output_type": "stream",
     "text": [
      "agrregate_fit results list length is  5\n",
      "Saving round 34 aggregated_parameters...\n"
     ]
    },
    {
     "name": "stderr",
     "output_type": "stream",
     "text": [
      "DEBUG flwr 2023-08-29 08:09:54,281 | server.py:187 | evaluate_round 34 received 5 results and 0 failures\n",
      "DEBUG flwr 2023-08-29 08:09:54,284 | server.py:222 | fit_round 35: strategy sampled 5 clients (out of 10)\n"
     ]
    },
    {
     "name": "stdout",
     "output_type": "stream",
     "text": [
      "agrregate_evaluate results list length is  5\n",
      "server round is  34\n",
      "loss is  0.8611111111111112\n"
     ]
    },
    {
     "name": "stderr",
     "output_type": "stream",
     "text": [
      "DEBUG flwr 2023-08-29 08:10:00,676 | server.py:236 | fit_round 35 received 5 results and 0 failures\n",
      "DEBUG flwr 2023-08-29 08:10:00,821 | server.py:173 | evaluate_round 35: strategy sampled 5 clients (out of 10)\n"
     ]
    },
    {
     "name": "stdout",
     "output_type": "stream",
     "text": [
      "agrregate_fit results list length is  5\n",
      "Saving round 35 aggregated_parameters...\n"
     ]
    },
    {
     "name": "stderr",
     "output_type": "stream",
     "text": [
      "DEBUG flwr 2023-08-29 08:10:01,372 | server.py:187 | evaluate_round 35 received 5 results and 0 failures\n",
      "DEBUG flwr 2023-08-29 08:10:01,373 | server.py:222 | fit_round 36: strategy sampled 5 clients (out of 10)\n"
     ]
    },
    {
     "name": "stdout",
     "output_type": "stream",
     "text": [
      "agrregate_evaluate results list length is  5\n",
      "server round is  35\n",
      "loss is  0.8611111111111112\n"
     ]
    },
    {
     "name": "stderr",
     "output_type": "stream",
     "text": [
      "DEBUG flwr 2023-08-29 08:10:07,608 | server.py:236 | fit_round 36 received 5 results and 0 failures\n",
      "DEBUG flwr 2023-08-29 08:10:07,739 | server.py:173 | evaluate_round 36: strategy sampled 5 clients (out of 10)\n"
     ]
    },
    {
     "name": "stdout",
     "output_type": "stream",
     "text": [
      "agrregate_fit results list length is  5\n",
      "Saving round 36 aggregated_parameters...\n"
     ]
    },
    {
     "name": "stderr",
     "output_type": "stream",
     "text": [
      "DEBUG flwr 2023-08-29 08:10:08,234 | server.py:187 | evaluate_round 36 received 5 results and 0 failures\n",
      "DEBUG flwr 2023-08-29 08:10:08,235 | server.py:222 | fit_round 37: strategy sampled 5 clients (out of 10)\n"
     ]
    },
    {
     "name": "stdout",
     "output_type": "stream",
     "text": [
      "agrregate_evaluate results list length is  5\n",
      "server round is  36\n",
      "loss is  0.8111111111111111\n"
     ]
    },
    {
     "name": "stderr",
     "output_type": "stream",
     "text": [
      "DEBUG flwr 2023-08-29 08:10:14,401 | server.py:236 | fit_round 37 received 5 results and 0 failures\n",
      "DEBUG flwr 2023-08-29 08:10:14,539 | server.py:173 | evaluate_round 37: strategy sampled 5 clients (out of 10)\n"
     ]
    },
    {
     "name": "stdout",
     "output_type": "stream",
     "text": [
      "agrregate_fit results list length is  5\n",
      "Saving round 37 aggregated_parameters...\n"
     ]
    },
    {
     "name": "stderr",
     "output_type": "stream",
     "text": [
      "DEBUG flwr 2023-08-29 08:10:15,105 | server.py:187 | evaluate_round 37 received 5 results and 0 failures\n",
      "DEBUG flwr 2023-08-29 08:10:15,107 | server.py:222 | fit_round 38: strategy sampled 5 clients (out of 10)\n"
     ]
    },
    {
     "name": "stdout",
     "output_type": "stream",
     "text": [
      "agrregate_evaluate results list length is  5\n",
      "server round is  37\n",
      "loss is  0.8222222222222222\n"
     ]
    },
    {
     "name": "stderr",
     "output_type": "stream",
     "text": [
      "DEBUG flwr 2023-08-29 08:10:21,366 | server.py:236 | fit_round 38 received 5 results and 0 failures\n",
      "DEBUG flwr 2023-08-29 08:10:21,503 | server.py:173 | evaluate_round 38: strategy sampled 5 clients (out of 10)\n"
     ]
    },
    {
     "name": "stdout",
     "output_type": "stream",
     "text": [
      "agrregate_fit results list length is  5\n",
      "Saving round 38 aggregated_parameters...\n"
     ]
    },
    {
     "name": "stderr",
     "output_type": "stream",
     "text": [
      "DEBUG flwr 2023-08-29 08:10:22,044 | server.py:187 | evaluate_round 38 received 5 results and 0 failures\n",
      "DEBUG flwr 2023-08-29 08:10:22,046 | server.py:222 | fit_round 39: strategy sampled 5 clients (out of 10)\n"
     ]
    },
    {
     "name": "stdout",
     "output_type": "stream",
     "text": [
      "agrregate_evaluate results list length is  5\n",
      "server round is  38\n",
      "loss is  0.8555555555555555\n"
     ]
    },
    {
     "name": "stderr",
     "output_type": "stream",
     "text": [
      "DEBUG flwr 2023-08-29 08:10:28,301 | server.py:236 | fit_round 39 received 5 results and 0 failures\n",
      "DEBUG flwr 2023-08-29 08:10:28,439 | server.py:173 | evaluate_round 39: strategy sampled 5 clients (out of 10)\n"
     ]
    },
    {
     "name": "stdout",
     "output_type": "stream",
     "text": [
      "agrregate_fit results list length is  5\n",
      "Saving round 39 aggregated_parameters...\n"
     ]
    },
    {
     "name": "stderr",
     "output_type": "stream",
     "text": [
      "DEBUG flwr 2023-08-29 08:10:28,951 | server.py:187 | evaluate_round 39 received 5 results and 0 failures\n",
      "DEBUG flwr 2023-08-29 08:10:28,953 | server.py:222 | fit_round 40: strategy sampled 5 clients (out of 10)\n"
     ]
    },
    {
     "name": "stdout",
     "output_type": "stream",
     "text": [
      "agrregate_evaluate results list length is  5\n",
      "server round is  39\n",
      "loss is  0.8666666666666667\n"
     ]
    },
    {
     "name": "stderr",
     "output_type": "stream",
     "text": [
      "DEBUG flwr 2023-08-29 08:10:35,398 | server.py:236 | fit_round 40 received 5 results and 0 failures\n",
      "DEBUG flwr 2023-08-29 08:10:35,544 | server.py:173 | evaluate_round 40: strategy sampled 5 clients (out of 10)\n"
     ]
    },
    {
     "name": "stdout",
     "output_type": "stream",
     "text": [
      "agrregate_fit results list length is  5\n",
      "Saving round 40 aggregated_parameters...\n"
     ]
    },
    {
     "name": "stderr",
     "output_type": "stream",
     "text": [
      "DEBUG flwr 2023-08-29 08:10:36,069 | server.py:187 | evaluate_round 40 received 5 results and 0 failures\n",
      "INFO flwr 2023-08-29 08:10:36,070 | server.py:153 | FL finished in 291.2045665000005\n",
      "INFO flwr 2023-08-29 08:10:36,075 | app.py:225 | app_fit: losses_distributed [(1, 12.161111111111111), (2, 10.155555555555555), (3, 8.53888888888889), (4, 6.944444444444445), (5, 4.055555555555555), (6, 2.6833333333333327), (7, 2.6333333333333333), (8, 1.6388888888888888), (9, 1.5), (10, 1.4944444444444445), (11, 1.45), (12, 1.0833333333333333), (13, 1.0833333333333333), (14, 1.1666666666666667), (15, 1.0722222222222222), (16, 1.0333333333333334), (17, 1.1055555555555556), (18, 0.9833333333333333), (19, 1.0611111111111111), (20, 1.0944444444444446), (21, 1.05), (22, 1.038888888888889), (23, 1.0555555555555556), (24, 1.0777777777777777), (25, 1.0166666666666666), (26, 1.0666666666666667), (27, 1.0), (28, 0.8055555555555556), (29, 0.8), (30, 0.8333333333333334), (31, 0.8555555555555555), (32, 0.8111111111111111), (33, 0.8166666666666667), (34, 0.8611111111111112), (35, 0.8611111111111112), (36, 0.8111111111111111), (37, 0.8222222222222222), (38, 0.8555555555555555), (39, 0.8666666666666667), (40, 0.7888888888888889)]\n",
      "INFO flwr 2023-08-29 08:10:36,076 | app.py:226 | app_fit: metrics_distributed_fit {}\n",
      "INFO flwr 2023-08-29 08:10:36,076 | app.py:227 | app_fit: metrics_distributed {'mse': [(1, 60.80555555555556), (2, 50.77777777777777), (3, 42.69444444444445), (4, 34.72222222222222), (5, 20.27777777777778), (6, 13.416666666666666), (7, 13.166666666666666), (8, 8.194444444444445), (9, 7.5), (10, 7.472222222222222), (11, 7.25), (12, 5.416666666666666), (13, 5.416666666666666), (14, 5.833333333333334), (15, 5.361111111111111), (16, 5.166666666666667), (17, 5.527777777777779), (18, 4.916666666666666), (19, 5.305555555555555), (20, 5.472222222222223), (21, 5.25), (22, 5.194444444444445), (23, 5.277777777777778), (24, 5.388888888888888), (25, 5.083333333333333), (26, 5.333333333333333), (27, 5.0), (28, 4.027777777777778), (29, 4.0), (30, 4.166666666666667), (31, 4.277777777777778), (32, 4.055555555555555), (33, 4.083333333333333), (34, 4.305555555555555), (35, 4.305555555555555), (36, 4.055555555555555), (37, 4.111111111111111), (38, 4.277777777777778), (39, 4.333333333333334), (40, 3.944444444444444)]}\n",
      "INFO flwr 2023-08-29 08:10:36,077 | app.py:228 | app_fit: losses_centralized []\n",
      "INFO flwr 2023-08-29 08:10:36,077 | app.py:229 | app_fit: metrics_centralized {}\n",
      "C:\\Users\\Shuyao\\AppData\\Local\\Temp\\ipykernel_11996\\3421847257.py:35: UserWarning: To copy construct from a tensor, it is recommended to use sourceTensor.clone().detach() or sourceTensor.clone().detach().requires_grad_(True), rather than torch.tensor(sourceTensor).\n",
      "  y_train = torch.reshape(torch.tensor(y_train), (-1, 1))\n"
     ]
    },
    {
     "name": "stdout",
     "output_type": "stream",
     "text": [
      "agrregate_evaluate results list length is  5\n",
      "server round is  40\n",
      "loss is  0.7888888888888889\n",
      "History (loss, distributed):\n",
      "\tround 1: 12.161111111111111\n",
      "\tround 2: 10.155555555555555\n",
      "\tround 3: 8.53888888888889\n",
      "\tround 4: 6.944444444444445\n",
      "\tround 5: 4.055555555555555\n",
      "\tround 6: 2.6833333333333327\n",
      "\tround 7: 2.6333333333333333\n",
      "\tround 8: 1.6388888888888888\n",
      "\tround 9: 1.5\n",
      "\tround 10: 1.4944444444444445\n",
      "\tround 11: 1.45\n",
      "\tround 12: 1.0833333333333333\n",
      "\tround 13: 1.0833333333333333\n",
      "\tround 14: 1.1666666666666667\n",
      "\tround 15: 1.0722222222222222\n",
      "\tround 16: 1.0333333333333334\n",
      "\tround 17: 1.1055555555555556\n",
      "\tround 18: 0.9833333333333333\n",
      "\tround 19: 1.0611111111111111\n",
      "\tround 20: 1.0944444444444446\n",
      "\tround 21: 1.05\n",
      "\tround 22: 1.038888888888889\n",
      "\tround 23: 1.0555555555555556\n",
      "\tround 24: 1.0777777777777777\n",
      "\tround 25: 1.0166666666666666\n",
      "\tround 26: 1.0666666666666667\n",
      "\tround 27: 1.0\n",
      "\tround 28: 0.8055555555555556\n",
      "\tround 29: 0.8\n",
      "\tround 30: 0.8333333333333334\n",
      "\tround 31: 0.8555555555555555\n",
      "\tround 32: 0.8111111111111111\n",
      "\tround 33: 0.8166666666666667\n",
      "\tround 34: 0.8611111111111112\n",
      "\tround 35: 0.8611111111111112\n",
      "\tround 36: 0.8111111111111111\n",
      "\tround 37: 0.8222222222222222\n",
      "\tround 38: 0.8555555555555555\n",
      "\tround 39: 0.8666666666666667\n",
      "\tround 40: 0.7888888888888889\n",
      "History (metrics, distributed, evaluate):\n",
      "{'mse': [(1, 60.80555555555556), (2, 50.77777777777777), (3, 42.69444444444445), (4, 34.72222222222222), (5, 20.27777777777778), (6, 13.416666666666666), (7, 13.166666666666666), (8, 8.194444444444445), (9, 7.5), (10, 7.472222222222222), (11, 7.25), (12, 5.416666666666666), (13, 5.416666666666666), (14, 5.833333333333334), (15, 5.361111111111111), (16, 5.166666666666667), (17, 5.527777777777779), (18, 4.916666666666666), (19, 5.305555555555555), (20, 5.472222222222223), (21, 5.25), (22, 5.194444444444445), (23, 5.277777777777778), (24, 5.388888888888888), (25, 5.083333333333333), (26, 5.333333333333333), (27, 5.0), (28, 4.027777777777778), (29, 4.0), (30, 4.166666666666667), (31, 4.277777777777778), (32, 4.055555555555555), (33, 4.083333333333333), (34, 4.305555555555555), (35, 4.305555555555555), (36, 4.055555555555555), (37, 4.111111111111111), (38, 4.277777777777778), (39, 4.333333333333334), (40, 3.944444444444444)]}\n",
      "[(1, 12.161111111111111), (2, 10.155555555555555), (3, 8.53888888888889), (4, 6.944444444444445), (5, 4.055555555555555), (6, 2.6833333333333327), (7, 2.6333333333333333), (8, 1.6388888888888888), (9, 1.5), (10, 1.4944444444444445), (11, 1.45), (12, 1.0833333333333333), (13, 1.0833333333333333), (14, 1.1666666666666667), (15, 1.0722222222222222), (16, 1.0333333333333334), (17, 1.1055555555555556), (18, 0.9833333333333333), (19, 1.0611111111111111), (20, 1.0944444444444446), (21, 1.05), (22, 1.038888888888889), (23, 1.0555555555555556), (24, 1.0777777777777777), (25, 1.0166666666666666), (26, 1.0666666666666667), (27, 1.0), (28, 0.8055555555555556), (29, 0.8), (30, 0.8333333333333334), (31, 0.8555555555555555), (32, 0.8111111111111111), (33, 0.8166666666666667), (34, 0.8611111111111112), (35, 0.8611111111111112), (36, 0.8111111111111111), (37, 0.8222222222222222), (38, 0.8555555555555555), (39, 0.8666666666666667), (40, 0.7888888888888889)]\n",
      "Fold 3:\n"
     ]
    },
    {
     "name": "stderr",
     "output_type": "stream",
     "text": [
      "C:\\Users\\Shuyao\\AppData\\Local\\Temp\\ipykernel_11996\\3421847257.py:36: UserWarning: To copy construct from a tensor, it is recommended to use sourceTensor.clone().detach() or sourceTensor.clone().detach().requires_grad_(True), rather than torch.tensor(sourceTensor).\n",
      "  y_test = torch.reshape(torch.tensor(y_test), (-1, 1))\n",
      "INFO flwr 2023-08-29 08:10:36,360 | app.py:145 | Starting Flower simulation, config: ServerConfig(num_rounds=40, round_timeout=None)\n"
     ]
    },
    {
     "name": "stdout",
     "output_type": "stream",
     "text": [
      "Client 0 trainset shape torch.Size([75, 3, 23])\n",
      "Client 1 trainset shape torch.Size([75, 3, 23])\n",
      "Client 2 trainset shape torch.Size([75, 3, 23])\n",
      "Client 3 trainset shape torch.Size([75, 3, 23])\n",
      "Client 4 trainset shape torch.Size([71, 3, 23])\n",
      "Client 5 trainset shape torch.Size([70, 3, 23])\n",
      "Client 6 trainset shape torch.Size([70, 3, 23])\n",
      "Client 7 trainset shape torch.Size([70, 3, 23])\n",
      "Client 8 trainset shape torch.Size([70, 3, 23])\n",
      "Client 9 trainset shape torch.Size([70, 3, 23])\n"
     ]
    },
    {
     "name": "stderr",
     "output_type": "stream",
     "text": [
      "2023-08-29 08:10:45,140\tINFO worker.py:1627 -- Started a local Ray instance. View the dashboard at \u001B[1m\u001B[32m127.0.0.1:8265 \u001B[39m\u001B[22m\n",
      "INFO flwr 2023-08-29 08:10:49,416 | app.py:179 | Flower VCE: Ray initialized with resources: {'CPU': 8.0, 'object_store_memory': 1498254950.0, 'node:127.0.0.1': 1.0, 'memory': 2996509902.0, 'GPU': 1.0}\n",
      "INFO flwr 2023-08-29 08:10:49,419 | server.py:89 | Initializing global parameters\n",
      "INFO flwr 2023-08-29 08:10:49,420 | server.py:276 | Requesting initial parameters from one random client\n",
      "INFO flwr 2023-08-29 08:10:52,116 | server.py:280 | Received initial parameters from one random client\n",
      "INFO flwr 2023-08-29 08:10:52,117 | server.py:91 | Evaluating initial parameters\n",
      "INFO flwr 2023-08-29 08:10:52,118 | server.py:104 | FL starting\n",
      "DEBUG flwr 2023-08-29 08:10:52,119 | server.py:222 | fit_round 1: strategy sampled 5 clients (out of 10)\n",
      "DEBUG flwr 2023-08-29 08:11:01,733 | server.py:236 | fit_round 1 received 5 results and 0 failures\n",
      "WARNING flwr 2023-08-29 08:11:01,818 | fedavg.py:242 | No fit_metrics_aggregation_fn provided\n",
      "DEBUG flwr 2023-08-29 08:11:01,853 | server.py:173 | evaluate_round 1: strategy sampled 5 clients (out of 10)\n"
     ]
    },
    {
     "name": "stdout",
     "output_type": "stream",
     "text": [
      "agrregate_fit results list length is  5\n",
      "Saving round 1 aggregated_parameters...\n"
     ]
    },
    {
     "name": "stderr",
     "output_type": "stream",
     "text": [
      "DEBUG flwr 2023-08-29 08:11:02,280 | server.py:187 | evaluate_round 1 received 5 results and 0 failures\n",
      "DEBUG flwr 2023-08-29 08:11:02,282 | server.py:222 | fit_round 2: strategy sampled 5 clients (out of 10)\n"
     ]
    },
    {
     "name": "stdout",
     "output_type": "stream",
     "text": [
      "agrregate_evaluate results list length is  5\n",
      "server round is  1\n",
      "loss is  11.544444444444444\n"
     ]
    },
    {
     "name": "stderr",
     "output_type": "stream",
     "text": [
      "DEBUG flwr 2023-08-29 08:11:08,633 | server.py:236 | fit_round 2 received 5 results and 0 failures\n",
      "DEBUG flwr 2023-08-29 08:11:08,745 | server.py:173 | evaluate_round 2: strategy sampled 5 clients (out of 10)\n"
     ]
    },
    {
     "name": "stdout",
     "output_type": "stream",
     "text": [
      "agrregate_fit results list length is  5\n",
      "Saving round 2 aggregated_parameters...\n"
     ]
    },
    {
     "name": "stderr",
     "output_type": "stream",
     "text": [
      "DEBUG flwr 2023-08-29 08:11:09,259 | server.py:187 | evaluate_round 2 received 5 results and 0 failures\n",
      "DEBUG flwr 2023-08-29 08:11:09,261 | server.py:222 | fit_round 3: strategy sampled 5 clients (out of 10)\n"
     ]
    },
    {
     "name": "stdout",
     "output_type": "stream",
     "text": [
      "agrregate_evaluate results list length is  5\n",
      "server round is  2\n",
      "loss is  9.094444444444445\n"
     ]
    },
    {
     "name": "stderr",
     "output_type": "stream",
     "text": [
      "DEBUG flwr 2023-08-29 08:11:15,636 | server.py:236 | fit_round 3 received 5 results and 0 failures\n",
      "DEBUG flwr 2023-08-29 08:11:15,754 | server.py:173 | evaluate_round 3: strategy sampled 5 clients (out of 10)\n"
     ]
    },
    {
     "name": "stdout",
     "output_type": "stream",
     "text": [
      "agrregate_fit results list length is  5\n",
      "Saving round 3 aggregated_parameters...\n"
     ]
    },
    {
     "name": "stderr",
     "output_type": "stream",
     "text": [
      "DEBUG flwr 2023-08-29 08:11:16,270 | server.py:187 | evaluate_round 3 received 5 results and 0 failures\n",
      "DEBUG flwr 2023-08-29 08:11:16,271 | server.py:222 | fit_round 4: strategy sampled 5 clients (out of 10)\n"
     ]
    },
    {
     "name": "stdout",
     "output_type": "stream",
     "text": [
      "agrregate_evaluate results list length is  5\n",
      "server round is  3\n",
      "loss is  8.944444444444445\n"
     ]
    },
    {
     "name": "stderr",
     "output_type": "stream",
     "text": [
      "DEBUG flwr 2023-08-29 08:11:22,547 | server.py:236 | fit_round 4 received 5 results and 0 failures\n",
      "DEBUG flwr 2023-08-29 08:11:22,659 | server.py:173 | evaluate_round 4: strategy sampled 5 clients (out of 10)\n"
     ]
    },
    {
     "name": "stdout",
     "output_type": "stream",
     "text": [
      "agrregate_fit results list length is  5\n",
      "Saving round 4 aggregated_parameters...\n"
     ]
    },
    {
     "name": "stderr",
     "output_type": "stream",
     "text": [
      "DEBUG flwr 2023-08-29 08:11:23,153 | server.py:187 | evaluate_round 4 received 5 results and 0 failures\n",
      "DEBUG flwr 2023-08-29 08:11:23,155 | server.py:222 | fit_round 5: strategy sampled 5 clients (out of 10)\n"
     ]
    },
    {
     "name": "stdout",
     "output_type": "stream",
     "text": [
      "agrregate_evaluate results list length is  5\n",
      "server round is  4\n",
      "loss is  6.188888888888889\n"
     ]
    },
    {
     "name": "stderr",
     "output_type": "stream",
     "text": [
      "DEBUG flwr 2023-08-29 08:11:29,442 | server.py:236 | fit_round 5 received 5 results and 0 failures\n",
      "DEBUG flwr 2023-08-29 08:11:29,564 | server.py:173 | evaluate_round 5: strategy sampled 5 clients (out of 10)\n"
     ]
    },
    {
     "name": "stdout",
     "output_type": "stream",
     "text": [
      "agrregate_fit results list length is  5\n",
      "Saving round 5 aggregated_parameters...\n"
     ]
    },
    {
     "name": "stderr",
     "output_type": "stream",
     "text": [
      "DEBUG flwr 2023-08-29 08:11:30,032 | server.py:187 | evaluate_round 5 received 5 results and 0 failures\n",
      "DEBUG flwr 2023-08-29 08:11:30,033 | server.py:222 | fit_round 6: strategy sampled 5 clients (out of 10)\n"
     ]
    },
    {
     "name": "stdout",
     "output_type": "stream",
     "text": [
      "agrregate_evaluate results list length is  5\n",
      "server round is  5\n",
      "loss is  4.372222222222222\n"
     ]
    },
    {
     "name": "stderr",
     "output_type": "stream",
     "text": [
      "DEBUG flwr 2023-08-29 08:11:36,476 | server.py:236 | fit_round 6 received 5 results and 0 failures\n",
      "DEBUG flwr 2023-08-29 08:11:36,624 | server.py:173 | evaluate_round 6: strategy sampled 5 clients (out of 10)\n"
     ]
    },
    {
     "name": "stdout",
     "output_type": "stream",
     "text": [
      "agrregate_fit results list length is  5\n",
      "Saving round 6 aggregated_parameters...\n"
     ]
    },
    {
     "name": "stderr",
     "output_type": "stream",
     "text": [
      "DEBUG flwr 2023-08-29 08:11:37,147 | server.py:187 | evaluate_round 6 received 5 results and 0 failures\n",
      "DEBUG flwr 2023-08-29 08:11:37,149 | server.py:222 | fit_round 7: strategy sampled 5 clients (out of 10)\n"
     ]
    },
    {
     "name": "stdout",
     "output_type": "stream",
     "text": [
      "agrregate_evaluate results list length is  5\n",
      "server round is  6\n",
      "loss is  2.888888888888889\n"
     ]
    },
    {
     "name": "stderr",
     "output_type": "stream",
     "text": [
      "DEBUG flwr 2023-08-29 08:11:43,512 | server.py:236 | fit_round 7 received 5 results and 0 failures\n",
      "DEBUG flwr 2023-08-29 08:11:43,625 | server.py:173 | evaluate_round 7: strategy sampled 5 clients (out of 10)\n"
     ]
    },
    {
     "name": "stdout",
     "output_type": "stream",
     "text": [
      "agrregate_fit results list length is  5\n",
      "Saving round 7 aggregated_parameters...\n"
     ]
    },
    {
     "name": "stderr",
     "output_type": "stream",
     "text": [
      "DEBUG flwr 2023-08-29 08:11:44,154 | server.py:187 | evaluate_round 7 received 5 results and 0 failures\n",
      "DEBUG flwr 2023-08-29 08:11:44,155 | server.py:222 | fit_round 8: strategy sampled 5 clients (out of 10)\n"
     ]
    },
    {
     "name": "stdout",
     "output_type": "stream",
     "text": [
      "agrregate_evaluate results list length is  5\n",
      "server round is  7\n",
      "loss is  2.6722222222222216\n"
     ]
    },
    {
     "name": "stderr",
     "output_type": "stream",
     "text": [
      "DEBUG flwr 2023-08-29 08:11:50,428 | server.py:236 | fit_round 8 received 5 results and 0 failures\n",
      "DEBUG flwr 2023-08-29 08:11:50,562 | server.py:173 | evaluate_round 8: strategy sampled 5 clients (out of 10)\n"
     ]
    },
    {
     "name": "stdout",
     "output_type": "stream",
     "text": [
      "agrregate_fit results list length is  5\n",
      "Saving round 8 aggregated_parameters...\n"
     ]
    },
    {
     "name": "stderr",
     "output_type": "stream",
     "text": [
      "DEBUG flwr 2023-08-29 08:11:51,115 | server.py:187 | evaluate_round 8 received 5 results and 0 failures\n",
      "DEBUG flwr 2023-08-29 08:11:51,116 | server.py:222 | fit_round 9: strategy sampled 5 clients (out of 10)\n"
     ]
    },
    {
     "name": "stdout",
     "output_type": "stream",
     "text": [
      "agrregate_evaluate results list length is  5\n",
      "server round is  8\n",
      "loss is  1.9\n"
     ]
    },
    {
     "name": "stderr",
     "output_type": "stream",
     "text": [
      "DEBUG flwr 2023-08-29 08:11:57,413 | server.py:236 | fit_round 9 received 5 results and 0 failures\n",
      "DEBUG flwr 2023-08-29 08:11:57,542 | server.py:173 | evaluate_round 9: strategy sampled 5 clients (out of 10)\n"
     ]
    },
    {
     "name": "stdout",
     "output_type": "stream",
     "text": [
      "agrregate_fit results list length is  5\n",
      "Saving round 9 aggregated_parameters...\n"
     ]
    },
    {
     "name": "stderr",
     "output_type": "stream",
     "text": [
      "DEBUG flwr 2023-08-29 08:11:58,023 | server.py:187 | evaluate_round 9 received 5 results and 0 failures\n",
      "DEBUG flwr 2023-08-29 08:11:58,025 | server.py:222 | fit_round 10: strategy sampled 5 clients (out of 10)\n"
     ]
    },
    {
     "name": "stdout",
     "output_type": "stream",
     "text": [
      "agrregate_evaluate results list length is  5\n",
      "server round is  9\n",
      "loss is  1.7222222222222223\n"
     ]
    },
    {
     "name": "stderr",
     "output_type": "stream",
     "text": [
      "DEBUG flwr 2023-08-29 08:12:04,284 | server.py:236 | fit_round 10 received 5 results and 0 failures\n",
      "DEBUG flwr 2023-08-29 08:12:04,411 | server.py:173 | evaluate_round 10: strategy sampled 5 clients (out of 10)\n"
     ]
    },
    {
     "name": "stdout",
     "output_type": "stream",
     "text": [
      "agrregate_fit results list length is  5\n",
      "Saving round 10 aggregated_parameters...\n"
     ]
    },
    {
     "name": "stderr",
     "output_type": "stream",
     "text": [
      "DEBUG flwr 2023-08-29 08:12:04,921 | server.py:187 | evaluate_round 10 received 5 results and 0 failures\n",
      "DEBUG flwr 2023-08-29 08:12:04,923 | server.py:222 | fit_round 11: strategy sampled 5 clients (out of 10)\n"
     ]
    },
    {
     "name": "stdout",
     "output_type": "stream",
     "text": [
      "agrregate_evaluate results list length is  5\n",
      "server round is  10\n",
      "loss is  1.6277777777777778\n"
     ]
    },
    {
     "name": "stderr",
     "output_type": "stream",
     "text": [
      "DEBUG flwr 2023-08-29 08:12:11,202 | server.py:236 | fit_round 11 received 5 results and 0 failures\n",
      "DEBUG flwr 2023-08-29 08:12:11,313 | server.py:173 | evaluate_round 11: strategy sampled 5 clients (out of 10)\n"
     ]
    },
    {
     "name": "stdout",
     "output_type": "stream",
     "text": [
      "agrregate_fit results list length is  5\n",
      "Saving round 11 aggregated_parameters...\n"
     ]
    },
    {
     "name": "stderr",
     "output_type": "stream",
     "text": [
      "DEBUG flwr 2023-08-29 08:12:11,832 | server.py:187 | evaluate_round 11 received 5 results and 0 failures\n",
      "DEBUG flwr 2023-08-29 08:12:11,834 | server.py:222 | fit_round 12: strategy sampled 5 clients (out of 10)\n"
     ]
    },
    {
     "name": "stdout",
     "output_type": "stream",
     "text": [
      "agrregate_evaluate results list length is  5\n",
      "server round is  11\n",
      "loss is  1.5277777777777777\n"
     ]
    },
    {
     "name": "stderr",
     "output_type": "stream",
     "text": [
      "DEBUG flwr 2023-08-29 08:12:18,446 | server.py:236 | fit_round 12 received 5 results and 0 failures\n",
      "DEBUG flwr 2023-08-29 08:12:18,562 | server.py:173 | evaluate_round 12: strategy sampled 5 clients (out of 10)\n"
     ]
    },
    {
     "name": "stdout",
     "output_type": "stream",
     "text": [
      "agrregate_fit results list length is  5\n",
      "Saving round 12 aggregated_parameters...\n"
     ]
    },
    {
     "name": "stderr",
     "output_type": "stream",
     "text": [
      "DEBUG flwr 2023-08-29 08:12:19,083 | server.py:187 | evaluate_round 12 received 5 results and 0 failures\n",
      "DEBUG flwr 2023-08-29 08:12:19,085 | server.py:222 | fit_round 13: strategy sampled 5 clients (out of 10)\n"
     ]
    },
    {
     "name": "stdout",
     "output_type": "stream",
     "text": [
      "agrregate_evaluate results list length is  5\n",
      "server round is  12\n",
      "loss is  1.2277777777777779\n"
     ]
    },
    {
     "name": "stderr",
     "output_type": "stream",
     "text": [
      "DEBUG flwr 2023-08-29 08:12:25,336 | server.py:236 | fit_round 13 received 5 results and 0 failures\n",
      "DEBUG flwr 2023-08-29 08:12:25,472 | server.py:173 | evaluate_round 13: strategy sampled 5 clients (out of 10)\n"
     ]
    },
    {
     "name": "stdout",
     "output_type": "stream",
     "text": [
      "agrregate_fit results list length is  5\n",
      "Saving round 13 aggregated_parameters...\n"
     ]
    },
    {
     "name": "stderr",
     "output_type": "stream",
     "text": [
      "DEBUG flwr 2023-08-29 08:12:25,974 | server.py:187 | evaluate_round 13 received 5 results and 0 failures\n",
      "DEBUG flwr 2023-08-29 08:12:25,976 | server.py:222 | fit_round 14: strategy sampled 5 clients (out of 10)\n"
     ]
    },
    {
     "name": "stdout",
     "output_type": "stream",
     "text": [
      "agrregate_evaluate results list length is  5\n",
      "server round is  13\n",
      "loss is  1.2055555555555555\n"
     ]
    },
    {
     "name": "stderr",
     "output_type": "stream",
     "text": [
      "DEBUG flwr 2023-08-29 08:12:32,173 | server.py:236 | fit_round 14 received 5 results and 0 failures\n",
      "DEBUG flwr 2023-08-29 08:12:32,277 | server.py:173 | evaluate_round 14: strategy sampled 5 clients (out of 10)\n"
     ]
    },
    {
     "name": "stdout",
     "output_type": "stream",
     "text": [
      "agrregate_fit results list length is  5\n",
      "Saving round 14 aggregated_parameters...\n"
     ]
    },
    {
     "name": "stderr",
     "output_type": "stream",
     "text": [
      "DEBUG flwr 2023-08-29 08:12:32,789 | server.py:187 | evaluate_round 14 received 5 results and 0 failures\n",
      "DEBUG flwr 2023-08-29 08:12:32,791 | server.py:222 | fit_round 15: strategy sampled 5 clients (out of 10)\n"
     ]
    },
    {
     "name": "stdout",
     "output_type": "stream",
     "text": [
      "agrregate_evaluate results list length is  5\n",
      "server round is  14\n",
      "loss is  1.1444444444444444\n"
     ]
    },
    {
     "name": "stderr",
     "output_type": "stream",
     "text": [
      "DEBUG flwr 2023-08-29 08:12:39,064 | server.py:236 | fit_round 15 received 5 results and 0 failures\n",
      "DEBUG flwr 2023-08-29 08:12:39,187 | server.py:173 | evaluate_round 15: strategy sampled 5 clients (out of 10)\n"
     ]
    },
    {
     "name": "stdout",
     "output_type": "stream",
     "text": [
      "agrregate_fit results list length is  5\n",
      "Saving round 15 aggregated_parameters...\n"
     ]
    },
    {
     "name": "stderr",
     "output_type": "stream",
     "text": [
      "DEBUG flwr 2023-08-29 08:12:39,666 | server.py:187 | evaluate_round 15 received 5 results and 0 failures\n",
      "DEBUG flwr 2023-08-29 08:12:39,667 | server.py:222 | fit_round 16: strategy sampled 5 clients (out of 10)\n"
     ]
    },
    {
     "name": "stdout",
     "output_type": "stream",
     "text": [
      "agrregate_evaluate results list length is  5\n",
      "server round is  15\n",
      "loss is  1.1\n"
     ]
    },
    {
     "name": "stderr",
     "output_type": "stream",
     "text": [
      "DEBUG flwr 2023-08-29 08:12:46,007 | server.py:236 | fit_round 16 received 5 results and 0 failures\n",
      "DEBUG flwr 2023-08-29 08:12:46,150 | server.py:173 | evaluate_round 16: strategy sampled 5 clients (out of 10)\n"
     ]
    },
    {
     "name": "stdout",
     "output_type": "stream",
     "text": [
      "agrregate_fit results list length is  5\n",
      "Saving round 16 aggregated_parameters...\n"
     ]
    },
    {
     "name": "stderr",
     "output_type": "stream",
     "text": [
      "DEBUG flwr 2023-08-29 08:12:46,661 | server.py:187 | evaluate_round 16 received 5 results and 0 failures\n",
      "DEBUG flwr 2023-08-29 08:12:46,663 | server.py:222 | fit_round 17: strategy sampled 5 clients (out of 10)\n"
     ]
    },
    {
     "name": "stdout",
     "output_type": "stream",
     "text": [
      "agrregate_evaluate results list length is  5\n",
      "server round is  16\n",
      "loss is  1.0555555555555556\n"
     ]
    },
    {
     "name": "stderr",
     "output_type": "stream",
     "text": [
      "DEBUG flwr 2023-08-29 08:12:53,408 | server.py:236 | fit_round 17 received 5 results and 0 failures\n",
      "DEBUG flwr 2023-08-29 08:12:53,545 | server.py:173 | evaluate_round 17: strategy sampled 5 clients (out of 10)\n"
     ]
    },
    {
     "name": "stdout",
     "output_type": "stream",
     "text": [
      "agrregate_fit results list length is  5\n",
      "Saving round 17 aggregated_parameters...\n"
     ]
    },
    {
     "name": "stderr",
     "output_type": "stream",
     "text": [
      "DEBUG flwr 2023-08-29 08:12:54,038 | server.py:187 | evaluate_round 17 received 5 results and 0 failures\n",
      "DEBUG flwr 2023-08-29 08:12:54,039 | server.py:222 | fit_round 18: strategy sampled 5 clients (out of 10)\n"
     ]
    },
    {
     "name": "stdout",
     "output_type": "stream",
     "text": [
      "agrregate_evaluate results list length is  5\n",
      "server round is  17\n",
      "loss is  1.0611111111111111\n"
     ]
    },
    {
     "name": "stderr",
     "output_type": "stream",
     "text": [
      "DEBUG flwr 2023-08-29 08:13:00,503 | server.py:236 | fit_round 18 received 5 results and 0 failures\n",
      "DEBUG flwr 2023-08-29 08:13:00,643 | server.py:173 | evaluate_round 18: strategy sampled 5 clients (out of 10)\n"
     ]
    },
    {
     "name": "stdout",
     "output_type": "stream",
     "text": [
      "agrregate_fit results list length is  5\n",
      "Saving round 18 aggregated_parameters...\n"
     ]
    },
    {
     "name": "stderr",
     "output_type": "stream",
     "text": [
      "DEBUG flwr 2023-08-29 08:13:01,148 | server.py:187 | evaluate_round 18 received 5 results and 0 failures\n",
      "DEBUG flwr 2023-08-29 08:13:01,150 | server.py:222 | fit_round 19: strategy sampled 5 clients (out of 10)\n"
     ]
    },
    {
     "name": "stdout",
     "output_type": "stream",
     "text": [
      "agrregate_evaluate results list length is  5\n",
      "server round is  18\n",
      "loss is  1.0222222222222221\n"
     ]
    },
    {
     "name": "stderr",
     "output_type": "stream",
     "text": [
      "DEBUG flwr 2023-08-29 08:13:07,335 | server.py:236 | fit_round 19 received 5 results and 0 failures\n",
      "DEBUG flwr 2023-08-29 08:13:07,471 | server.py:173 | evaluate_round 19: strategy sampled 5 clients (out of 10)\n"
     ]
    },
    {
     "name": "stdout",
     "output_type": "stream",
     "text": [
      "agrregate_fit results list length is  5\n",
      "Saving round 19 aggregated_parameters...\n"
     ]
    },
    {
     "name": "stderr",
     "output_type": "stream",
     "text": [
      "DEBUG flwr 2023-08-29 08:13:07,979 | server.py:187 | evaluate_round 19 received 5 results and 0 failures\n",
      "DEBUG flwr 2023-08-29 08:13:07,980 | server.py:222 | fit_round 20: strategy sampled 5 clients (out of 10)\n"
     ]
    },
    {
     "name": "stdout",
     "output_type": "stream",
     "text": [
      "agrregate_evaluate results list length is  5\n",
      "server round is  19\n",
      "loss is  1.011111111111111\n"
     ]
    },
    {
     "name": "stderr",
     "output_type": "stream",
     "text": [
      "DEBUG flwr 2023-08-29 08:13:14,255 | server.py:236 | fit_round 20 received 5 results and 0 failures\n",
      "DEBUG flwr 2023-08-29 08:13:14,366 | server.py:173 | evaluate_round 20: strategy sampled 5 clients (out of 10)\n"
     ]
    },
    {
     "name": "stdout",
     "output_type": "stream",
     "text": [
      "agrregate_fit results list length is  5\n",
      "Saving round 20 aggregated_parameters...\n"
     ]
    },
    {
     "name": "stderr",
     "output_type": "stream",
     "text": [
      "DEBUG flwr 2023-08-29 08:13:14,873 | server.py:187 | evaluate_round 20 received 5 results and 0 failures\n",
      "DEBUG flwr 2023-08-29 08:13:14,874 | server.py:222 | fit_round 21: strategy sampled 5 clients (out of 10)\n"
     ]
    },
    {
     "name": "stdout",
     "output_type": "stream",
     "text": [
      "agrregate_evaluate results list length is  5\n",
      "server round is  20\n",
      "loss is  1.0444444444444445\n"
     ]
    },
    {
     "name": "stderr",
     "output_type": "stream",
     "text": [
      "DEBUG flwr 2023-08-29 08:13:21,458 | server.py:236 | fit_round 21 received 5 results and 0 failures\n",
      "DEBUG flwr 2023-08-29 08:13:21,587 | server.py:173 | evaluate_round 21: strategy sampled 5 clients (out of 10)\n"
     ]
    },
    {
     "name": "stdout",
     "output_type": "stream",
     "text": [
      "agrregate_fit results list length is  5\n",
      "Saving round 21 aggregated_parameters...\n"
     ]
    },
    {
     "name": "stderr",
     "output_type": "stream",
     "text": [
      "DEBUG flwr 2023-08-29 08:13:22,120 | server.py:187 | evaluate_round 21 received 5 results and 0 failures\n",
      "DEBUG flwr 2023-08-29 08:13:22,122 | server.py:222 | fit_round 22: strategy sampled 5 clients (out of 10)\n"
     ]
    },
    {
     "name": "stdout",
     "output_type": "stream",
     "text": [
      "agrregate_evaluate results list length is  5\n",
      "server round is  21\n",
      "loss is  0.95\n"
     ]
    },
    {
     "name": "stderr",
     "output_type": "stream",
     "text": [
      "DEBUG flwr 2023-08-29 08:13:28,383 | server.py:236 | fit_round 22 received 5 results and 0 failures\n",
      "DEBUG flwr 2023-08-29 08:13:28,497 | server.py:173 | evaluate_round 22: strategy sampled 5 clients (out of 10)\n"
     ]
    },
    {
     "name": "stdout",
     "output_type": "stream",
     "text": [
      "agrregate_fit results list length is  5\n",
      "Saving round 22 aggregated_parameters...\n"
     ]
    },
    {
     "name": "stderr",
     "output_type": "stream",
     "text": [
      "DEBUG flwr 2023-08-29 08:13:28,987 | server.py:187 | evaluate_round 22 received 5 results and 0 failures\n",
      "DEBUG flwr 2023-08-29 08:13:28,989 | server.py:222 | fit_round 23: strategy sampled 5 clients (out of 10)\n"
     ]
    },
    {
     "name": "stdout",
     "output_type": "stream",
     "text": [
      "agrregate_evaluate results list length is  5\n",
      "server round is  22\n",
      "loss is  0.9611111111111111\n"
     ]
    },
    {
     "name": "stderr",
     "output_type": "stream",
     "text": [
      "DEBUG flwr 2023-08-29 08:13:35,238 | server.py:236 | fit_round 23 received 5 results and 0 failures\n",
      "DEBUG flwr 2023-08-29 08:13:35,355 | server.py:173 | evaluate_round 23: strategy sampled 5 clients (out of 10)\n"
     ]
    },
    {
     "name": "stdout",
     "output_type": "stream",
     "text": [
      "agrregate_fit results list length is  5\n",
      "Saving round 23 aggregated_parameters...\n"
     ]
    },
    {
     "name": "stderr",
     "output_type": "stream",
     "text": [
      "DEBUG flwr 2023-08-29 08:13:35,865 | server.py:187 | evaluate_round 23 received 5 results and 0 failures\n",
      "DEBUG flwr 2023-08-29 08:13:35,867 | server.py:222 | fit_round 24: strategy sampled 5 clients (out of 10)\n"
     ]
    },
    {
     "name": "stdout",
     "output_type": "stream",
     "text": [
      "agrregate_evaluate results list length is  5\n",
      "server round is  23\n",
      "loss is  0.9888888888888889\n"
     ]
    },
    {
     "name": "stderr",
     "output_type": "stream",
     "text": [
      "DEBUG flwr 2023-08-29 08:13:42,499 | server.py:236 | fit_round 24 received 5 results and 0 failures\n",
      "DEBUG flwr 2023-08-29 08:13:42,641 | server.py:173 | evaluate_round 24: strategy sampled 5 clients (out of 10)\n"
     ]
    },
    {
     "name": "stdout",
     "output_type": "stream",
     "text": [
      "agrregate_fit results list length is  5\n",
      "Saving round 24 aggregated_parameters...\n"
     ]
    },
    {
     "name": "stderr",
     "output_type": "stream",
     "text": [
      "DEBUG flwr 2023-08-29 08:13:43,176 | server.py:187 | evaluate_round 24 received 5 results and 0 failures\n",
      "DEBUG flwr 2023-08-29 08:13:43,178 | server.py:222 | fit_round 25: strategy sampled 5 clients (out of 10)\n"
     ]
    },
    {
     "name": "stdout",
     "output_type": "stream",
     "text": [
      "agrregate_evaluate results list length is  5\n",
      "server round is  24\n",
      "loss is  0.8555555555555555\n"
     ]
    },
    {
     "name": "stderr",
     "output_type": "stream",
     "text": [
      "DEBUG flwr 2023-08-29 08:13:49,779 | server.py:236 | fit_round 25 received 5 results and 0 failures\n"
     ]
    },
    {
     "name": "stdout",
     "output_type": "stream",
     "text": [
      "agrregate_fit results list length is  5\n",
      "Saving round 25 aggregated_parameters...\n"
     ]
    },
    {
     "name": "stderr",
     "output_type": "stream",
     "text": [
      "DEBUG flwr 2023-08-29 08:13:50,012 | server.py:173 | evaluate_round 25: strategy sampled 5 clients (out of 10)\n",
      "DEBUG flwr 2023-08-29 08:13:50,619 | server.py:187 | evaluate_round 25 received 5 results and 0 failures\n",
      "DEBUG flwr 2023-08-29 08:13:50,620 | server.py:222 | fit_round 26: strategy sampled 5 clients (out of 10)\n"
     ]
    },
    {
     "name": "stdout",
     "output_type": "stream",
     "text": [
      "agrregate_evaluate results list length is  5\n",
      "server round is  25\n",
      "loss is  0.9111111111111111\n"
     ]
    },
    {
     "name": "stderr",
     "output_type": "stream",
     "text": [
      "DEBUG flwr 2023-08-29 08:13:57,145 | server.py:236 | fit_round 26 received 5 results and 0 failures\n",
      "DEBUG flwr 2023-08-29 08:13:57,270 | server.py:173 | evaluate_round 26: strategy sampled 5 clients (out of 10)\n"
     ]
    },
    {
     "name": "stdout",
     "output_type": "stream",
     "text": [
      "agrregate_fit results list length is  5\n",
      "Saving round 26 aggregated_parameters...\n"
     ]
    },
    {
     "name": "stderr",
     "output_type": "stream",
     "text": [
      "DEBUG flwr 2023-08-29 08:13:57,781 | server.py:187 | evaluate_round 26 received 5 results and 0 failures\n",
      "DEBUG flwr 2023-08-29 08:13:57,783 | server.py:222 | fit_round 27: strategy sampled 5 clients (out of 10)\n"
     ]
    },
    {
     "name": "stdout",
     "output_type": "stream",
     "text": [
      "agrregate_evaluate results list length is  5\n",
      "server round is  26\n",
      "loss is  0.9111111111111111\n"
     ]
    },
    {
     "name": "stderr",
     "output_type": "stream",
     "text": [
      "DEBUG flwr 2023-08-29 08:14:04,035 | server.py:236 | fit_round 27 received 5 results and 0 failures\n",
      "DEBUG flwr 2023-08-29 08:14:04,167 | server.py:173 | evaluate_round 27: strategy sampled 5 clients (out of 10)\n"
     ]
    },
    {
     "name": "stdout",
     "output_type": "stream",
     "text": [
      "agrregate_fit results list length is  5\n",
      "Saving round 27 aggregated_parameters...\n"
     ]
    },
    {
     "name": "stderr",
     "output_type": "stream",
     "text": [
      "DEBUG flwr 2023-08-29 08:14:04,779 | server.py:187 | evaluate_round 27 received 5 results and 0 failures\n",
      "DEBUG flwr 2023-08-29 08:14:04,781 | server.py:222 | fit_round 28: strategy sampled 5 clients (out of 10)\n"
     ]
    },
    {
     "name": "stdout",
     "output_type": "stream",
     "text": [
      "agrregate_evaluate results list length is  5\n",
      "server round is  27\n",
      "loss is  0.8888888888888888\n"
     ]
    },
    {
     "name": "stderr",
     "output_type": "stream",
     "text": [
      "DEBUG flwr 2023-08-29 08:14:11,178 | server.py:236 | fit_round 28 received 5 results and 0 failures\n",
      "DEBUG flwr 2023-08-29 08:14:11,315 | server.py:173 | evaluate_round 28: strategy sampled 5 clients (out of 10)\n"
     ]
    },
    {
     "name": "stdout",
     "output_type": "stream",
     "text": [
      "agrregate_fit results list length is  5\n",
      "Saving round 28 aggregated_parameters...\n"
     ]
    },
    {
     "name": "stderr",
     "output_type": "stream",
     "text": [
      "DEBUG flwr 2023-08-29 08:14:11,813 | server.py:187 | evaluate_round 28 received 5 results and 0 failures\n",
      "DEBUG flwr 2023-08-29 08:14:11,814 | server.py:222 | fit_round 29: strategy sampled 5 clients (out of 10)\n"
     ]
    },
    {
     "name": "stdout",
     "output_type": "stream",
     "text": [
      "agrregate_evaluate results list length is  5\n",
      "server round is  28\n",
      "loss is  0.8888888888888888\n"
     ]
    },
    {
     "name": "stderr",
     "output_type": "stream",
     "text": [
      "DEBUG flwr 2023-08-29 08:14:18,037 | server.py:236 | fit_round 29 received 5 results and 0 failures\n",
      "DEBUG flwr 2023-08-29 08:14:18,167 | server.py:173 | evaluate_round 29: strategy sampled 5 clients (out of 10)\n"
     ]
    },
    {
     "name": "stdout",
     "output_type": "stream",
     "text": [
      "agrregate_fit results list length is  5\n",
      "Saving round 29 aggregated_parameters...\n"
     ]
    },
    {
     "name": "stderr",
     "output_type": "stream",
     "text": [
      "DEBUG flwr 2023-08-29 08:14:18,671 | server.py:187 | evaluate_round 29 received 5 results and 0 failures\n",
      "DEBUG flwr 2023-08-29 08:14:18,673 | server.py:222 | fit_round 30: strategy sampled 5 clients (out of 10)\n"
     ]
    },
    {
     "name": "stdout",
     "output_type": "stream",
     "text": [
      "agrregate_evaluate results list length is  5\n",
      "server round is  29\n",
      "loss is  0.8833333333333333\n"
     ]
    },
    {
     "name": "stderr",
     "output_type": "stream",
     "text": [
      "DEBUG flwr 2023-08-29 08:14:25,060 | server.py:236 | fit_round 30 received 5 results and 0 failures\n",
      "DEBUG flwr 2023-08-29 08:14:25,234 | server.py:173 | evaluate_round 30: strategy sampled 5 clients (out of 10)\n"
     ]
    },
    {
     "name": "stdout",
     "output_type": "stream",
     "text": [
      "agrregate_fit results list length is  5\n",
      "Saving round 30 aggregated_parameters...\n"
     ]
    },
    {
     "name": "stderr",
     "output_type": "stream",
     "text": [
      "DEBUG flwr 2023-08-29 08:14:25,761 | server.py:187 | evaluate_round 30 received 5 results and 0 failures\n",
      "DEBUG flwr 2023-08-29 08:14:25,763 | server.py:222 | fit_round 31: strategy sampled 5 clients (out of 10)\n"
     ]
    },
    {
     "name": "stdout",
     "output_type": "stream",
     "text": [
      "agrregate_evaluate results list length is  5\n",
      "server round is  30\n",
      "loss is  0.8833333333333333\n"
     ]
    },
    {
     "name": "stderr",
     "output_type": "stream",
     "text": [
      "DEBUG flwr 2023-08-29 08:14:31,929 | server.py:236 | fit_round 31 received 5 results and 0 failures\n",
      "DEBUG flwr 2023-08-29 08:14:32,070 | server.py:173 | evaluate_round 31: strategy sampled 5 clients (out of 10)\n"
     ]
    },
    {
     "name": "stdout",
     "output_type": "stream",
     "text": [
      "agrregate_fit results list length is  5\n",
      "Saving round 31 aggregated_parameters...\n"
     ]
    },
    {
     "name": "stderr",
     "output_type": "stream",
     "text": [
      "DEBUG flwr 2023-08-29 08:14:32,584 | server.py:187 | evaluate_round 31 received 5 results and 0 failures\n",
      "DEBUG flwr 2023-08-29 08:14:32,585 | server.py:222 | fit_round 32: strategy sampled 5 clients (out of 10)\n"
     ]
    },
    {
     "name": "stdout",
     "output_type": "stream",
     "text": [
      "agrregate_evaluate results list length is  5\n",
      "server round is  31\n",
      "loss is  0.8277777777777777\n"
     ]
    },
    {
     "name": "stderr",
     "output_type": "stream",
     "text": [
      "DEBUG flwr 2023-08-29 08:14:38,750 | server.py:236 | fit_round 32 received 5 results and 0 failures\n",
      "DEBUG flwr 2023-08-29 08:14:38,890 | server.py:173 | evaluate_round 32: strategy sampled 5 clients (out of 10)\n"
     ]
    },
    {
     "name": "stdout",
     "output_type": "stream",
     "text": [
      "agrregate_fit results list length is  5\n",
      "Saving round 32 aggregated_parameters...\n"
     ]
    },
    {
     "name": "stderr",
     "output_type": "stream",
     "text": [
      "DEBUG flwr 2023-08-29 08:14:39,391 | server.py:187 | evaluate_round 32 received 5 results and 0 failures\n",
      "DEBUG flwr 2023-08-29 08:14:39,392 | server.py:222 | fit_round 33: strategy sampled 5 clients (out of 10)\n"
     ]
    },
    {
     "name": "stdout",
     "output_type": "stream",
     "text": [
      "agrregate_evaluate results list length is  5\n",
      "server round is  32\n",
      "loss is  0.8333333333333334\n"
     ]
    },
    {
     "name": "stderr",
     "output_type": "stream",
     "text": [
      "DEBUG flwr 2023-08-29 08:14:45,496 | server.py:236 | fit_round 33 received 5 results and 0 failures\n",
      "DEBUG flwr 2023-08-29 08:14:45,620 | server.py:173 | evaluate_round 33: strategy sampled 5 clients (out of 10)\n"
     ]
    },
    {
     "name": "stdout",
     "output_type": "stream",
     "text": [
      "agrregate_fit results list length is  5\n",
      "Saving round 33 aggregated_parameters...\n"
     ]
    },
    {
     "name": "stderr",
     "output_type": "stream",
     "text": [
      "DEBUG flwr 2023-08-29 08:14:46,096 | server.py:187 | evaluate_round 33 received 5 results and 0 failures\n",
      "DEBUG flwr 2023-08-29 08:14:46,097 | server.py:222 | fit_round 34: strategy sampled 5 clients (out of 10)\n"
     ]
    },
    {
     "name": "stdout",
     "output_type": "stream",
     "text": [
      "agrregate_evaluate results list length is  5\n",
      "server round is  33\n",
      "loss is  0.8666666666666667\n"
     ]
    },
    {
     "name": "stderr",
     "output_type": "stream",
     "text": [
      "DEBUG flwr 2023-08-29 08:14:52,405 | server.py:236 | fit_round 34 received 5 results and 0 failures\n",
      "DEBUG flwr 2023-08-29 08:14:52,540 | server.py:173 | evaluate_round 34: strategy sampled 5 clients (out of 10)\n"
     ]
    },
    {
     "name": "stdout",
     "output_type": "stream",
     "text": [
      "agrregate_fit results list length is  5\n",
      "Saving round 34 aggregated_parameters...\n"
     ]
    },
    {
     "name": "stderr",
     "output_type": "stream",
     "text": [
      "DEBUG flwr 2023-08-29 08:14:53,046 | server.py:187 | evaluate_round 34 received 5 results and 0 failures\n",
      "DEBUG flwr 2023-08-29 08:14:53,048 | server.py:222 | fit_round 35: strategy sampled 5 clients (out of 10)\n"
     ]
    },
    {
     "name": "stdout",
     "output_type": "stream",
     "text": [
      "agrregate_evaluate results list length is  5\n",
      "server round is  34\n",
      "loss is  0.8222222222222222\n"
     ]
    },
    {
     "name": "stderr",
     "output_type": "stream",
     "text": [
      "DEBUG flwr 2023-08-29 08:14:59,539 | server.py:236 | fit_round 35 received 5 results and 0 failures\n",
      "DEBUG flwr 2023-08-29 08:14:59,686 | server.py:173 | evaluate_round 35: strategy sampled 5 clients (out of 10)\n"
     ]
    },
    {
     "name": "stdout",
     "output_type": "stream",
     "text": [
      "agrregate_fit results list length is  5\n",
      "Saving round 35 aggregated_parameters...\n"
     ]
    },
    {
     "name": "stderr",
     "output_type": "stream",
     "text": [
      "DEBUG flwr 2023-08-29 08:15:00,213 | server.py:187 | evaluate_round 35 received 5 results and 0 failures\n",
      "DEBUG flwr 2023-08-29 08:15:00,215 | server.py:222 | fit_round 36: strategy sampled 5 clients (out of 10)\n"
     ]
    },
    {
     "name": "stdout",
     "output_type": "stream",
     "text": [
      "agrregate_evaluate results list length is  5\n",
      "server round is  35\n",
      "loss is  0.7333333333333333\n"
     ]
    },
    {
     "name": "stderr",
     "output_type": "stream",
     "text": [
      "DEBUG flwr 2023-08-29 08:15:06,564 | server.py:236 | fit_round 36 received 5 results and 0 failures\n",
      "DEBUG flwr 2023-08-29 08:15:06,692 | server.py:173 | evaluate_round 36: strategy sampled 5 clients (out of 10)\n"
     ]
    },
    {
     "name": "stdout",
     "output_type": "stream",
     "text": [
      "agrregate_fit results list length is  5\n",
      "Saving round 36 aggregated_parameters...\n"
     ]
    },
    {
     "name": "stderr",
     "output_type": "stream",
     "text": [
      "DEBUG flwr 2023-08-29 08:15:07,214 | server.py:187 | evaluate_round 36 received 5 results and 0 failures\n",
      "DEBUG flwr 2023-08-29 08:15:07,216 | server.py:222 | fit_round 37: strategy sampled 5 clients (out of 10)\n"
     ]
    },
    {
     "name": "stdout",
     "output_type": "stream",
     "text": [
      "agrregate_evaluate results list length is  5\n",
      "server round is  36\n",
      "loss is  0.7277777777777777\n"
     ]
    },
    {
     "name": "stderr",
     "output_type": "stream",
     "text": [
      "DEBUG flwr 2023-08-29 08:15:13,289 | server.py:236 | fit_round 37 received 5 results and 0 failures\n",
      "DEBUG flwr 2023-08-29 08:15:13,420 | server.py:173 | evaluate_round 37: strategy sampled 5 clients (out of 10)\n"
     ]
    },
    {
     "name": "stdout",
     "output_type": "stream",
     "text": [
      "agrregate_fit results list length is  5\n",
      "Saving round 37 aggregated_parameters...\n"
     ]
    },
    {
     "name": "stderr",
     "output_type": "stream",
     "text": [
      "DEBUG flwr 2023-08-29 08:15:13,921 | server.py:187 | evaluate_round 37 received 5 results and 0 failures\n",
      "DEBUG flwr 2023-08-29 08:15:13,923 | server.py:222 | fit_round 38: strategy sampled 5 clients (out of 10)\n"
     ]
    },
    {
     "name": "stdout",
     "output_type": "stream",
     "text": [
      "agrregate_evaluate results list length is  5\n",
      "server round is  37\n",
      "loss is  0.6999999999999998\n"
     ]
    },
    {
     "name": "stderr",
     "output_type": "stream",
     "text": [
      "DEBUG flwr 2023-08-29 08:15:20,085 | server.py:236 | fit_round 38 received 5 results and 0 failures\n",
      "DEBUG flwr 2023-08-29 08:15:20,221 | server.py:173 | evaluate_round 38: strategy sampled 5 clients (out of 10)\n"
     ]
    },
    {
     "name": "stdout",
     "output_type": "stream",
     "text": [
      "agrregate_fit results list length is  5\n",
      "Saving round 38 aggregated_parameters...\n"
     ]
    },
    {
     "name": "stderr",
     "output_type": "stream",
     "text": [
      "DEBUG flwr 2023-08-29 08:15:20,714 | server.py:187 | evaluate_round 38 received 5 results and 0 failures\n",
      "DEBUG flwr 2023-08-29 08:15:20,716 | server.py:222 | fit_round 39: strategy sampled 5 clients (out of 10)\n"
     ]
    },
    {
     "name": "stdout",
     "output_type": "stream",
     "text": [
      "agrregate_evaluate results list length is  5\n",
      "server round is  38\n",
      "loss is  0.7444444444444445\n"
     ]
    },
    {
     "name": "stderr",
     "output_type": "stream",
     "text": [
      "DEBUG flwr 2023-08-29 08:15:27,057 | server.py:236 | fit_round 39 received 5 results and 0 failures\n",
      "DEBUG flwr 2023-08-29 08:15:27,197 | server.py:173 | evaluate_round 39: strategy sampled 5 clients (out of 10)\n"
     ]
    },
    {
     "name": "stdout",
     "output_type": "stream",
     "text": [
      "agrregate_fit results list length is  5\n",
      "Saving round 39 aggregated_parameters...\n"
     ]
    },
    {
     "name": "stderr",
     "output_type": "stream",
     "text": [
      "DEBUG flwr 2023-08-29 08:15:27,731 | server.py:187 | evaluate_round 39 received 5 results and 0 failures\n",
      "DEBUG flwr 2023-08-29 08:15:27,733 | server.py:222 | fit_round 40: strategy sampled 5 clients (out of 10)\n"
     ]
    },
    {
     "name": "stdout",
     "output_type": "stream",
     "text": [
      "agrregate_evaluate results list length is  5\n",
      "server round is  39\n",
      "loss is  0.75\n"
     ]
    },
    {
     "name": "stderr",
     "output_type": "stream",
     "text": [
      "DEBUG flwr 2023-08-29 08:15:33,879 | server.py:236 | fit_round 40 received 5 results and 0 failures\n",
      "DEBUG flwr 2023-08-29 08:15:34,017 | server.py:173 | evaluate_round 40: strategy sampled 5 clients (out of 10)\n"
     ]
    },
    {
     "name": "stdout",
     "output_type": "stream",
     "text": [
      "agrregate_fit results list length is  5\n",
      "Saving round 40 aggregated_parameters...\n"
     ]
    },
    {
     "name": "stderr",
     "output_type": "stream",
     "text": [
      "DEBUG flwr 2023-08-29 08:15:34,542 | server.py:187 | evaluate_round 40 received 5 results and 0 failures\n",
      "INFO flwr 2023-08-29 08:15:34,543 | server.py:153 | FL finished in 282.42343880000044\n",
      "INFO flwr 2023-08-29 08:15:34,548 | app.py:225 | app_fit: losses_distributed [(1, 11.544444444444444), (2, 9.094444444444445), (3, 8.944444444444445), (4, 6.188888888888889), (5, 4.372222222222222), (6, 2.888888888888889), (7, 2.6722222222222216), (8, 1.9), (9, 1.7222222222222223), (10, 1.6277777777777778), (11, 1.5277777777777777), (12, 1.2277777777777779), (13, 1.2055555555555555), (14, 1.1444444444444444), (15, 1.1), (16, 1.0555555555555556), (17, 1.0611111111111111), (18, 1.0222222222222221), (19, 1.011111111111111), (20, 1.0444444444444445), (21, 0.95), (22, 0.9611111111111111), (23, 0.9888888888888889), (24, 0.8555555555555555), (25, 0.9111111111111111), (26, 0.9111111111111111), (27, 0.8888888888888888), (28, 0.8888888888888888), (29, 0.8833333333333333), (30, 0.8833333333333333), (31, 0.8277777777777777), (32, 0.8333333333333334), (33, 0.8666666666666667), (34, 0.8222222222222222), (35, 0.7333333333333333), (36, 0.7277777777777777), (37, 0.6999999999999998), (38, 0.7444444444444445), (39, 0.75), (40, 0.6944444444444444)]\n",
      "INFO flwr 2023-08-29 08:15:34,549 | app.py:226 | app_fit: metrics_distributed_fit {}\n",
      "INFO flwr 2023-08-29 08:15:34,550 | app.py:227 | app_fit: metrics_distributed {'mse': [(1, 57.72222222222222), (2, 45.47222222222223), (3, 44.72222222222222), (4, 30.944444444444446), (5, 21.861111111111107), (6, 14.444444444444445), (7, 13.36111111111111), (8, 9.5), (9, 8.61111111111111), (10, 8.13888888888889), (11, 7.638888888888888), (12, 6.138888888888889), (13, 6.027777777777778), (14, 5.722222222222221), (15, 5.5), (16, 5.277777777777778), (17, 5.305555555555555), (18, 5.111111111111111), (19, 5.055555555555555), (20, 5.222222222222222), (21, 4.75), (22, 4.805555555555555), (23, 4.944444444444445), (24, 4.277777777777778), (25, 4.555555555555555), (26, 4.555555555555555), (27, 4.444444444444445), (28, 4.444444444444445), (29, 4.416666666666666), (30, 4.416666666666666), (31, 4.138888888888888), (32, 4.166666666666667), (33, 4.333333333333334), (34, 4.111111111111111), (35, 3.6666666666666665), (36, 3.638888888888889), (37, 3.5), (38, 3.7222222222222223), (39, 3.75), (40, 3.4722222222222223)]}\n",
      "INFO flwr 2023-08-29 08:15:34,550 | app.py:228 | app_fit: losses_centralized []\n",
      "INFO flwr 2023-08-29 08:15:34,551 | app.py:229 | app_fit: metrics_centralized {}\n"
     ]
    },
    {
     "name": "stdout",
     "output_type": "stream",
     "text": [
      "agrregate_evaluate results list length is  5\n",
      "server round is  40\n",
      "loss is  0.6944444444444444\n",
      "History (loss, distributed):\n",
      "\tround 1: 11.544444444444444\n",
      "\tround 2: 9.094444444444445\n",
      "\tround 3: 8.944444444444445\n",
      "\tround 4: 6.188888888888889\n",
      "\tround 5: 4.372222222222222\n",
      "\tround 6: 2.888888888888889\n",
      "\tround 7: 2.6722222222222216\n",
      "\tround 8: 1.9\n",
      "\tround 9: 1.7222222222222223\n",
      "\tround 10: 1.6277777777777778\n",
      "\tround 11: 1.5277777777777777\n",
      "\tround 12: 1.2277777777777779\n",
      "\tround 13: 1.2055555555555555\n",
      "\tround 14: 1.1444444444444444\n",
      "\tround 15: 1.1\n",
      "\tround 16: 1.0555555555555556\n",
      "\tround 17: 1.0611111111111111\n",
      "\tround 18: 1.0222222222222221\n",
      "\tround 19: 1.011111111111111\n",
      "\tround 20: 1.0444444444444445\n",
      "\tround 21: 0.95\n",
      "\tround 22: 0.9611111111111111\n",
      "\tround 23: 0.9888888888888889\n",
      "\tround 24: 0.8555555555555555\n",
      "\tround 25: 0.9111111111111111\n",
      "\tround 26: 0.9111111111111111\n",
      "\tround 27: 0.8888888888888888\n",
      "\tround 28: 0.8888888888888888\n",
      "\tround 29: 0.8833333333333333\n",
      "\tround 30: 0.8833333333333333\n",
      "\tround 31: 0.8277777777777777\n",
      "\tround 32: 0.8333333333333334\n",
      "\tround 33: 0.8666666666666667\n",
      "\tround 34: 0.8222222222222222\n",
      "\tround 35: 0.7333333333333333\n",
      "\tround 36: 0.7277777777777777\n",
      "\tround 37: 0.6999999999999998\n",
      "\tround 38: 0.7444444444444445\n",
      "\tround 39: 0.75\n",
      "\tround 40: 0.6944444444444444\n",
      "History (metrics, distributed, evaluate):\n",
      "{'mse': [(1, 57.72222222222222), (2, 45.47222222222223), (3, 44.72222222222222), (4, 30.944444444444446), (5, 21.861111111111107), (6, 14.444444444444445), (7, 13.36111111111111), (8, 9.5), (9, 8.61111111111111), (10, 8.13888888888889), (11, 7.638888888888888), (12, 6.138888888888889), (13, 6.027777777777778), (14, 5.722222222222221), (15, 5.5), (16, 5.277777777777778), (17, 5.305555555555555), (18, 5.111111111111111), (19, 5.055555555555555), (20, 5.222222222222222), (21, 4.75), (22, 4.805555555555555), (23, 4.944444444444445), (24, 4.277777777777778), (25, 4.555555555555555), (26, 4.555555555555555), (27, 4.444444444444445), (28, 4.444444444444445), (29, 4.416666666666666), (30, 4.416666666666666), (31, 4.138888888888888), (32, 4.166666666666667), (33, 4.333333333333334), (34, 4.111111111111111), (35, 3.6666666666666665), (36, 3.638888888888889), (37, 3.5), (38, 3.7222222222222223), (39, 3.75), (40, 3.4722222222222223)]}\n",
      "[(1, 11.544444444444444), (2, 9.094444444444445), (3, 8.944444444444445), (4, 6.188888888888889), (5, 4.372222222222222), (6, 2.888888888888889), (7, 2.6722222222222216), (8, 1.9), (9, 1.7222222222222223), (10, 1.6277777777777778), (11, 1.5277777777777777), (12, 1.2277777777777779), (13, 1.2055555555555555), (14, 1.1444444444444444), (15, 1.1), (16, 1.0555555555555556), (17, 1.0611111111111111), (18, 1.0222222222222221), (19, 1.011111111111111), (20, 1.0444444444444445), (21, 0.95), (22, 0.9611111111111111), (23, 0.9888888888888889), (24, 0.8555555555555555), (25, 0.9111111111111111), (26, 0.9111111111111111), (27, 0.8888888888888888), (28, 0.8888888888888888), (29, 0.8833333333333333), (30, 0.8833333333333333), (31, 0.8277777777777777), (32, 0.8333333333333334), (33, 0.8666666666666667), (34, 0.8222222222222222), (35, 0.7333333333333333), (36, 0.7277777777777777), (37, 0.6999999999999998), (38, 0.7444444444444445), (39, 0.75), (40, 0.6944444444444444)]\n",
      "Fold 4:\n",
      "Client 0 trainset shape torch.Size([75, 3, 23])\n",
      "Client 1 trainset shape torch.Size([75, 3, 23])\n"
     ]
    },
    {
     "name": "stderr",
     "output_type": "stream",
     "text": [
      "C:\\Users\\Shuyao\\AppData\\Local\\Temp\\ipykernel_11996\\3421847257.py:35: UserWarning: To copy construct from a tensor, it is recommended to use sourceTensor.clone().detach() or sourceTensor.clone().detach().requires_grad_(True), rather than torch.tensor(sourceTensor).\n",
      "  y_train = torch.reshape(torch.tensor(y_train), (-1, 1))\n",
      "C:\\Users\\Shuyao\\AppData\\Local\\Temp\\ipykernel_11996\\3421847257.py:36: UserWarning: To copy construct from a tensor, it is recommended to use sourceTensor.clone().detach() or sourceTensor.clone().detach().requires_grad_(True), rather than torch.tensor(sourceTensor).\n",
      "  y_test = torch.reshape(torch.tensor(y_test), (-1, 1))\n",
      "INFO flwr 2023-08-29 08:15:34,793 | app.py:145 | Starting Flower simulation, config: ServerConfig(num_rounds=40, round_timeout=None)\n"
     ]
    },
    {
     "name": "stdout",
     "output_type": "stream",
     "text": [
      "Client 2 trainset shape torch.Size([75, 3, 23])\n",
      "Client 3 trainset shape torch.Size([75, 3, 23])\n",
      "Client 4 trainset shape torch.Size([71, 3, 23])\n",
      "Client 5 trainset shape torch.Size([70, 3, 23])\n",
      "Client 6 trainset shape torch.Size([70, 3, 23])\n",
      "Client 7 trainset shape torch.Size([70, 3, 23])\n",
      "Client 8 trainset shape torch.Size([70, 3, 23])\n",
      "Client 9 trainset shape torch.Size([70, 3, 23])\n"
     ]
    },
    {
     "name": "stderr",
     "output_type": "stream",
     "text": [
      "2023-08-29 08:15:44,023\tINFO worker.py:1627 -- Started a local Ray instance. View the dashboard at \u001B[1m\u001B[32m127.0.0.1:8265 \u001B[39m\u001B[22m\n",
      "INFO flwr 2023-08-29 08:15:48,463 | app.py:179 | Flower VCE: Ray initialized with resources: {'CPU': 8.0, 'object_store_memory': 1218469478.0, 'node:127.0.0.1': 1.0, 'memory': 2436938958.0, 'GPU': 1.0}\n",
      "INFO flwr 2023-08-29 08:15:48,465 | server.py:89 | Initializing global parameters\n",
      "INFO flwr 2023-08-29 08:15:48,466 | server.py:276 | Requesting initial parameters from one random client\n",
      "INFO flwr 2023-08-29 08:15:51,093 | server.py:280 | Received initial parameters from one random client\n",
      "INFO flwr 2023-08-29 08:15:51,094 | server.py:91 | Evaluating initial parameters\n",
      "INFO flwr 2023-08-29 08:15:51,095 | server.py:104 | FL starting\n",
      "DEBUG flwr 2023-08-29 08:15:51,096 | server.py:222 | fit_round 1: strategy sampled 5 clients (out of 10)\n",
      "DEBUG flwr 2023-08-29 08:16:01,234 | server.py:236 | fit_round 1 received 5 results and 0 failures\n",
      "WARNING flwr 2023-08-29 08:16:01,337 | fedavg.py:242 | No fit_metrics_aggregation_fn provided\n",
      "DEBUG flwr 2023-08-29 08:16:01,369 | server.py:173 | evaluate_round 1: strategy sampled 5 clients (out of 10)\n"
     ]
    },
    {
     "name": "stdout",
     "output_type": "stream",
     "text": [
      "agrregate_fit results list length is  5\n",
      "Saving round 1 aggregated_parameters...\n"
     ]
    },
    {
     "name": "stderr",
     "output_type": "stream",
     "text": [
      "DEBUG flwr 2023-08-29 08:16:01,793 | server.py:187 | evaluate_round 1 received 5 results and 0 failures\n",
      "DEBUG flwr 2023-08-29 08:16:01,794 | server.py:222 | fit_round 2: strategy sampled 5 clients (out of 10)\n"
     ]
    },
    {
     "name": "stdout",
     "output_type": "stream",
     "text": [
      "agrregate_evaluate results list length is  5\n",
      "server round is  1\n",
      "loss is  15.777777777777779\n"
     ]
    },
    {
     "name": "stderr",
     "output_type": "stream",
     "text": [
      "DEBUG flwr 2023-08-29 08:16:08,269 | server.py:236 | fit_round 2 received 5 results and 0 failures\n",
      "DEBUG flwr 2023-08-29 08:16:08,386 | server.py:173 | evaluate_round 2: strategy sampled 5 clients (out of 10)\n"
     ]
    },
    {
     "name": "stdout",
     "output_type": "stream",
     "text": [
      "agrregate_fit results list length is  5\n",
      "Saving round 2 aggregated_parameters...\n"
     ]
    },
    {
     "name": "stderr",
     "output_type": "stream",
     "text": [
      "DEBUG flwr 2023-08-29 08:16:08,862 | server.py:187 | evaluate_round 2 received 5 results and 0 failures\n",
      "DEBUG flwr 2023-08-29 08:16:08,863 | server.py:222 | fit_round 3: strategy sampled 5 clients (out of 10)\n"
     ]
    },
    {
     "name": "stdout",
     "output_type": "stream",
     "text": [
      "agrregate_evaluate results list length is  5\n",
      "server round is  2\n",
      "loss is  12.683333333333334\n"
     ]
    },
    {
     "name": "stderr",
     "output_type": "stream",
     "text": [
      "DEBUG flwr 2023-08-29 08:16:14,917 | server.py:236 | fit_round 3 received 5 results and 0 failures\n",
      "DEBUG flwr 2023-08-29 08:16:15,028 | server.py:173 | evaluate_round 3: strategy sampled 5 clients (out of 10)\n"
     ]
    },
    {
     "name": "stdout",
     "output_type": "stream",
     "text": [
      "agrregate_fit results list length is  5\n",
      "Saving round 3 aggregated_parameters...\n"
     ]
    },
    {
     "name": "stderr",
     "output_type": "stream",
     "text": [
      "DEBUG flwr 2023-08-29 08:16:15,587 | server.py:187 | evaluate_round 3 received 5 results and 0 failures\n",
      "DEBUG flwr 2023-08-29 08:16:15,589 | server.py:222 | fit_round 4: strategy sampled 5 clients (out of 10)\n"
     ]
    },
    {
     "name": "stdout",
     "output_type": "stream",
     "text": [
      "agrregate_evaluate results list length is  5\n",
      "server round is  3\n",
      "loss is  10.699999999999998\n"
     ]
    },
    {
     "name": "stderr",
     "output_type": "stream",
     "text": [
      "DEBUG flwr 2023-08-29 08:16:21,987 | server.py:236 | fit_round 4 received 5 results and 0 failures\n",
      "DEBUG flwr 2023-08-29 08:16:22,101 | server.py:173 | evaluate_round 4: strategy sampled 5 clients (out of 10)\n"
     ]
    },
    {
     "name": "stdout",
     "output_type": "stream",
     "text": [
      "agrregate_fit results list length is  5\n",
      "Saving round 4 aggregated_parameters...\n"
     ]
    },
    {
     "name": "stderr",
     "output_type": "stream",
     "text": [
      "DEBUG flwr 2023-08-29 08:16:22,607 | server.py:187 | evaluate_round 4 received 5 results and 0 failures\n",
      "DEBUG flwr 2023-08-29 08:16:22,608 | server.py:222 | fit_round 5: strategy sampled 5 clients (out of 10)\n"
     ]
    },
    {
     "name": "stdout",
     "output_type": "stream",
     "text": [
      "agrregate_evaluate results list length is  5\n",
      "server round is  4\n",
      "loss is  9.133333333333333\n"
     ]
    },
    {
     "name": "stderr",
     "output_type": "stream",
     "text": [
      "DEBUG flwr 2023-08-29 08:16:28,685 | server.py:236 | fit_round 5 received 5 results and 0 failures\n",
      "DEBUG flwr 2023-08-29 08:16:28,812 | server.py:173 | evaluate_round 5: strategy sampled 5 clients (out of 10)\n"
     ]
    },
    {
     "name": "stdout",
     "output_type": "stream",
     "text": [
      "agrregate_fit results list length is  5\n",
      "Saving round 5 aggregated_parameters...\n"
     ]
    },
    {
     "name": "stderr",
     "output_type": "stream",
     "text": [
      "DEBUG flwr 2023-08-29 08:16:29,341 | server.py:187 | evaluate_round 5 received 5 results and 0 failures\n",
      "DEBUG flwr 2023-08-29 08:16:29,343 | server.py:222 | fit_round 6: strategy sampled 5 clients (out of 10)\n"
     ]
    },
    {
     "name": "stdout",
     "output_type": "stream",
     "text": [
      "agrregate_evaluate results list length is  5\n",
      "server round is  5\n",
      "loss is  5.238888888888889\n"
     ]
    },
    {
     "name": "stderr",
     "output_type": "stream",
     "text": [
      "DEBUG flwr 2023-08-29 08:16:35,881 | server.py:236 | fit_round 6 received 5 results and 0 failures\n",
      "DEBUG flwr 2023-08-29 08:16:35,995 | server.py:173 | evaluate_round 6: strategy sampled 5 clients (out of 10)\n"
     ]
    },
    {
     "name": "stdout",
     "output_type": "stream",
     "text": [
      "agrregate_fit results list length is  5\n",
      "Saving round 6 aggregated_parameters...\n"
     ]
    },
    {
     "name": "stderr",
     "output_type": "stream",
     "text": [
      "DEBUG flwr 2023-08-29 08:16:36,516 | server.py:187 | evaluate_round 6 received 5 results and 0 failures\n",
      "DEBUG flwr 2023-08-29 08:16:36,517 | server.py:222 | fit_round 7: strategy sampled 5 clients (out of 10)\n"
     ]
    },
    {
     "name": "stdout",
     "output_type": "stream",
     "text": [
      "agrregate_evaluate results list length is  5\n",
      "server round is  6\n",
      "loss is  3.1555555555555554\n"
     ]
    },
    {
     "name": "stderr",
     "output_type": "stream",
     "text": [
      "DEBUG flwr 2023-08-29 08:16:42,829 | server.py:236 | fit_round 7 received 5 results and 0 failures\n",
      "DEBUG flwr 2023-08-29 08:16:42,958 | server.py:173 | evaluate_round 7: strategy sampled 5 clients (out of 10)\n"
     ]
    },
    {
     "name": "stdout",
     "output_type": "stream",
     "text": [
      "agrregate_fit results list length is  5\n",
      "Saving round 7 aggregated_parameters...\n"
     ]
    },
    {
     "name": "stderr",
     "output_type": "stream",
     "text": [
      "DEBUG flwr 2023-08-29 08:16:43,478 | server.py:187 | evaluate_round 7 received 5 results and 0 failures\n",
      "DEBUG flwr 2023-08-29 08:16:43,480 | server.py:222 | fit_round 8: strategy sampled 5 clients (out of 10)\n"
     ]
    },
    {
     "name": "stdout",
     "output_type": "stream",
     "text": [
      "agrregate_evaluate results list length is  5\n",
      "server round is  7\n",
      "loss is  2.8944444444444444\n"
     ]
    },
    {
     "name": "stderr",
     "output_type": "stream",
     "text": [
      "DEBUG flwr 2023-08-29 08:16:49,925 | server.py:236 | fit_round 8 received 5 results and 0 failures\n",
      "DEBUG flwr 2023-08-29 08:16:50,033 | server.py:173 | evaluate_round 8: strategy sampled 5 clients (out of 10)\n"
     ]
    },
    {
     "name": "stdout",
     "output_type": "stream",
     "text": [
      "agrregate_fit results list length is  5\n",
      "Saving round 8 aggregated_parameters...\n"
     ]
    },
    {
     "name": "stderr",
     "output_type": "stream",
     "text": [
      "DEBUG flwr 2023-08-29 08:16:50,545 | server.py:187 | evaluate_round 8 received 5 results and 0 failures\n",
      "DEBUG flwr 2023-08-29 08:16:50,546 | server.py:222 | fit_round 9: strategy sampled 5 clients (out of 10)\n"
     ]
    },
    {
     "name": "stdout",
     "output_type": "stream",
     "text": [
      "agrregate_evaluate results list length is  5\n",
      "server round is  8\n",
      "loss is  1.8333333333333333\n"
     ]
    },
    {
     "name": "stderr",
     "output_type": "stream",
     "text": [
      "DEBUG flwr 2023-08-29 08:16:57,147 | server.py:236 | fit_round 9 received 5 results and 0 failures\n",
      "DEBUG flwr 2023-08-29 08:16:57,273 | server.py:173 | evaluate_round 9: strategy sampled 5 clients (out of 10)\n"
     ]
    },
    {
     "name": "stdout",
     "output_type": "stream",
     "text": [
      "agrregate_fit results list length is  5\n",
      "Saving round 9 aggregated_parameters...\n"
     ]
    },
    {
     "name": "stderr",
     "output_type": "stream",
     "text": [
      "DEBUG flwr 2023-08-29 08:16:57,800 | server.py:187 | evaluate_round 9 received 5 results and 0 failures\n",
      "DEBUG flwr 2023-08-29 08:16:57,801 | server.py:222 | fit_round 10: strategy sampled 5 clients (out of 10)\n"
     ]
    },
    {
     "name": "stdout",
     "output_type": "stream",
     "text": [
      "agrregate_evaluate results list length is  5\n",
      "server round is  9\n",
      "loss is  1.7222222222222223\n"
     ]
    },
    {
     "name": "stderr",
     "output_type": "stream",
     "text": [
      "DEBUG flwr 2023-08-29 08:17:04,464 | server.py:236 | fit_round 10 received 5 results and 0 failures\n",
      "DEBUG flwr 2023-08-29 08:17:04,634 | server.py:173 | evaluate_round 10: strategy sampled 5 clients (out of 10)\n"
     ]
    },
    {
     "name": "stdout",
     "output_type": "stream",
     "text": [
      "agrregate_fit results list length is  5\n",
      "Saving round 10 aggregated_parameters...\n"
     ]
    },
    {
     "name": "stderr",
     "output_type": "stream",
     "text": [
      "DEBUG flwr 2023-08-29 08:17:05,226 | server.py:187 | evaluate_round 10 received 5 results and 0 failures\n",
      "DEBUG flwr 2023-08-29 08:17:05,227 | server.py:222 | fit_round 11: strategy sampled 5 clients (out of 10)\n"
     ]
    },
    {
     "name": "stdout",
     "output_type": "stream",
     "text": [
      "agrregate_evaluate results list length is  5\n",
      "server round is  10\n",
      "loss is  1.4833333333333334\n"
     ]
    },
    {
     "name": "stderr",
     "output_type": "stream",
     "text": [
      "DEBUG flwr 2023-08-29 08:17:11,685 | server.py:236 | fit_round 11 received 5 results and 0 failures\n",
      "DEBUG flwr 2023-08-29 08:17:11,818 | server.py:173 | evaluate_round 11: strategy sampled 5 clients (out of 10)\n"
     ]
    },
    {
     "name": "stdout",
     "output_type": "stream",
     "text": [
      "agrregate_fit results list length is  5\n",
      "Saving round 11 aggregated_parameters...\n"
     ]
    },
    {
     "name": "stderr",
     "output_type": "stream",
     "text": [
      "DEBUG flwr 2023-08-29 08:17:12,366 | server.py:187 | evaluate_round 11 received 5 results and 0 failures\n",
      "DEBUG flwr 2023-08-29 08:17:12,369 | server.py:222 | fit_round 12: strategy sampled 5 clients (out of 10)\n"
     ]
    },
    {
     "name": "stdout",
     "output_type": "stream",
     "text": [
      "agrregate_evaluate results list length is  5\n",
      "server round is  11\n",
      "loss is  1.25\n"
     ]
    },
    {
     "name": "stderr",
     "output_type": "stream",
     "text": [
      "DEBUG flwr 2023-08-29 08:17:20,470 | server.py:236 | fit_round 12 received 5 results and 0 failures\n",
      "DEBUG flwr 2023-08-29 08:17:20,651 | server.py:173 | evaluate_round 12: strategy sampled 5 clients (out of 10)\n"
     ]
    },
    {
     "name": "stdout",
     "output_type": "stream",
     "text": [
      "agrregate_fit results list length is  5\n",
      "Saving round 12 aggregated_parameters...\n"
     ]
    },
    {
     "name": "stderr",
     "output_type": "stream",
     "text": [
      "DEBUG flwr 2023-08-29 08:17:21,399 | server.py:187 | evaluate_round 12 received 5 results and 0 failures\n",
      "DEBUG flwr 2023-08-29 08:17:21,401 | server.py:222 | fit_round 13: strategy sampled 5 clients (out of 10)\n"
     ]
    },
    {
     "name": "stdout",
     "output_type": "stream",
     "text": [
      "agrregate_evaluate results list length is  5\n",
      "server round is  12\n",
      "loss is  1.3055555555555556\n"
     ]
    },
    {
     "name": "stderr",
     "output_type": "stream",
     "text": [
      "DEBUG flwr 2023-08-29 08:17:29,303 | server.py:236 | fit_round 13 received 5 results and 0 failures\n",
      "DEBUG flwr 2023-08-29 08:17:29,480 | server.py:173 | evaluate_round 13: strategy sampled 5 clients (out of 10)\n"
     ]
    },
    {
     "name": "stdout",
     "output_type": "stream",
     "text": [
      "agrregate_fit results list length is  5\n",
      "Saving round 13 aggregated_parameters...\n"
     ]
    },
    {
     "name": "stderr",
     "output_type": "stream",
     "text": [
      "DEBUG flwr 2023-08-29 08:17:30,134 | server.py:187 | evaluate_round 13 received 5 results and 0 failures\n",
      "DEBUG flwr 2023-08-29 08:17:30,137 | server.py:222 | fit_round 14: strategy sampled 5 clients (out of 10)\n"
     ]
    },
    {
     "name": "stdout",
     "output_type": "stream",
     "text": [
      "agrregate_evaluate results list length is  5\n",
      "server round is  13\n",
      "loss is  1.3555555555555556\n"
     ]
    },
    {
     "name": "stderr",
     "output_type": "stream",
     "text": [
      "DEBUG flwr 2023-08-29 08:17:38,064 | server.py:236 | fit_round 14 received 5 results and 0 failures\n",
      "DEBUG flwr 2023-08-29 08:17:38,230 | server.py:173 | evaluate_round 14: strategy sampled 5 clients (out of 10)\n"
     ]
    },
    {
     "name": "stdout",
     "output_type": "stream",
     "text": [
      "agrregate_fit results list length is  5\n",
      "Saving round 14 aggregated_parameters...\n"
     ]
    },
    {
     "name": "stderr",
     "output_type": "stream",
     "text": [
      "DEBUG flwr 2023-08-29 08:17:38,862 | server.py:187 | evaluate_round 14 received 5 results and 0 failures\n",
      "DEBUG flwr 2023-08-29 08:17:38,863 | server.py:222 | fit_round 15: strategy sampled 5 clients (out of 10)\n"
     ]
    },
    {
     "name": "stdout",
     "output_type": "stream",
     "text": [
      "agrregate_evaluate results list length is  5\n",
      "server round is  14\n",
      "loss is  1.0722222222222222\n"
     ]
    },
    {
     "name": "stderr",
     "output_type": "stream",
     "text": [
      "DEBUG flwr 2023-08-29 08:17:46,123 | server.py:236 | fit_round 15 received 5 results and 0 failures\n",
      "DEBUG flwr 2023-08-29 08:17:46,256 | server.py:173 | evaluate_round 15: strategy sampled 5 clients (out of 10)\n"
     ]
    },
    {
     "name": "stdout",
     "output_type": "stream",
     "text": [
      "agrregate_fit results list length is  5\n",
      "Saving round 15 aggregated_parameters...\n"
     ]
    },
    {
     "name": "stderr",
     "output_type": "stream",
     "text": [
      "DEBUG flwr 2023-08-29 08:17:46,796 | server.py:187 | evaluate_round 15 received 5 results and 0 failures\n",
      "DEBUG flwr 2023-08-29 08:17:46,798 | server.py:222 | fit_round 16: strategy sampled 5 clients (out of 10)\n"
     ]
    },
    {
     "name": "stdout",
     "output_type": "stream",
     "text": [
      "agrregate_evaluate results list length is  5\n",
      "server round is  15\n",
      "loss is  0.9222222222222223\n"
     ]
    },
    {
     "name": "stderr",
     "output_type": "stream",
     "text": [
      "DEBUG flwr 2023-08-29 08:17:54,421 | server.py:236 | fit_round 16 received 5 results and 0 failures\n",
      "DEBUG flwr 2023-08-29 08:17:54,549 | server.py:173 | evaluate_round 16: strategy sampled 5 clients (out of 10)\n"
     ]
    },
    {
     "name": "stdout",
     "output_type": "stream",
     "text": [
      "agrregate_fit results list length is  5\n",
      "Saving round 16 aggregated_parameters...\n"
     ]
    },
    {
     "name": "stderr",
     "output_type": "stream",
     "text": [
      "DEBUG flwr 2023-08-29 08:17:55,102 | server.py:187 | evaluate_round 16 received 5 results and 0 failures\n",
      "DEBUG flwr 2023-08-29 08:17:55,104 | server.py:222 | fit_round 17: strategy sampled 5 clients (out of 10)\n"
     ]
    },
    {
     "name": "stdout",
     "output_type": "stream",
     "text": [
      "agrregate_evaluate results list length is  5\n",
      "server round is  16\n",
      "loss is  0.9222222222222223\n"
     ]
    },
    {
     "name": "stderr",
     "output_type": "stream",
     "text": [
      "DEBUG flwr 2023-08-29 08:18:03,127 | server.py:236 | fit_round 17 received 5 results and 0 failures\n",
      "DEBUG flwr 2023-08-29 08:18:03,281 | server.py:173 | evaluate_round 17: strategy sampled 5 clients (out of 10)\n"
     ]
    },
    {
     "name": "stdout",
     "output_type": "stream",
     "text": [
      "agrregate_fit results list length is  5\n",
      "Saving round 17 aggregated_parameters...\n"
     ]
    },
    {
     "name": "stderr",
     "output_type": "stream",
     "text": [
      "DEBUG flwr 2023-08-29 08:18:03,781 | server.py:187 | evaluate_round 17 received 5 results and 0 failures\n",
      "DEBUG flwr 2023-08-29 08:18:03,783 | server.py:222 | fit_round 18: strategy sampled 5 clients (out of 10)\n"
     ]
    },
    {
     "name": "stdout",
     "output_type": "stream",
     "text": [
      "agrregate_evaluate results list length is  5\n",
      "server round is  17\n",
      "loss is  0.9111111111111111\n"
     ]
    },
    {
     "name": "stderr",
     "output_type": "stream",
     "text": [
      "DEBUG flwr 2023-08-29 08:18:11,119 | server.py:236 | fit_round 18 received 5 results and 0 failures\n",
      "DEBUG flwr 2023-08-29 08:18:11,265 | server.py:173 | evaluate_round 18: strategy sampled 5 clients (out of 10)\n"
     ]
    },
    {
     "name": "stdout",
     "output_type": "stream",
     "text": [
      "agrregate_fit results list length is  5\n",
      "Saving round 18 aggregated_parameters...\n"
     ]
    },
    {
     "name": "stderr",
     "output_type": "stream",
     "text": [
      "DEBUG flwr 2023-08-29 08:18:11,738 | server.py:187 | evaluate_round 18 received 5 results and 0 failures\n",
      "DEBUG flwr 2023-08-29 08:18:11,739 | server.py:222 | fit_round 19: strategy sampled 5 clients (out of 10)\n"
     ]
    },
    {
     "name": "stdout",
     "output_type": "stream",
     "text": [
      "agrregate_evaluate results list length is  5\n",
      "server round is  18\n",
      "loss is  0.8333333333333334\n"
     ]
    },
    {
     "name": "stderr",
     "output_type": "stream",
     "text": [
      "DEBUG flwr 2023-08-29 08:18:18,154 | server.py:236 | fit_round 19 received 5 results and 0 failures\n",
      "DEBUG flwr 2023-08-29 08:18:18,266 | server.py:173 | evaluate_round 19: strategy sampled 5 clients (out of 10)\n"
     ]
    },
    {
     "name": "stdout",
     "output_type": "stream",
     "text": [
      "agrregate_fit results list length is  5\n",
      "Saving round 19 aggregated_parameters...\n"
     ]
    },
    {
     "name": "stderr",
     "output_type": "stream",
     "text": [
      "DEBUG flwr 2023-08-29 08:18:18,792 | server.py:187 | evaluate_round 19 received 5 results and 0 failures\n",
      "DEBUG flwr 2023-08-29 08:18:18,794 | server.py:222 | fit_round 20: strategy sampled 5 clients (out of 10)\n"
     ]
    },
    {
     "name": "stdout",
     "output_type": "stream",
     "text": [
      "agrregate_evaluate results list length is  5\n",
      "server round is  19\n",
      "loss is  0.8166666666666667\n"
     ]
    },
    {
     "name": "stderr",
     "output_type": "stream",
     "text": [
      "DEBUG flwr 2023-08-29 08:18:25,670 | server.py:236 | fit_round 20 received 5 results and 0 failures\n",
      "DEBUG flwr 2023-08-29 08:18:25,816 | server.py:173 | evaluate_round 20: strategy sampled 5 clients (out of 10)\n"
     ]
    },
    {
     "name": "stdout",
     "output_type": "stream",
     "text": [
      "agrregate_fit results list length is  5\n",
      "Saving round 20 aggregated_parameters...\n"
     ]
    },
    {
     "name": "stderr",
     "output_type": "stream",
     "text": [
      "DEBUG flwr 2023-08-29 08:18:26,339 | server.py:187 | evaluate_round 20 received 5 results and 0 failures\n",
      "DEBUG flwr 2023-08-29 08:18:26,340 | server.py:222 | fit_round 21: strategy sampled 5 clients (out of 10)\n"
     ]
    },
    {
     "name": "stdout",
     "output_type": "stream",
     "text": [
      "agrregate_evaluate results list length is  5\n",
      "server round is  20\n",
      "loss is  0.8166666666666667\n"
     ]
    },
    {
     "name": "stderr",
     "output_type": "stream",
     "text": [
      "DEBUG flwr 2023-08-29 08:18:33,568 | server.py:236 | fit_round 21 received 5 results and 0 failures\n",
      "DEBUG flwr 2023-08-29 08:18:33,734 | server.py:173 | evaluate_round 21: strategy sampled 5 clients (out of 10)\n"
     ]
    },
    {
     "name": "stdout",
     "output_type": "stream",
     "text": [
      "agrregate_fit results list length is  5\n",
      "Saving round 21 aggregated_parameters...\n"
     ]
    },
    {
     "name": "stderr",
     "output_type": "stream",
     "text": [
      "DEBUG flwr 2023-08-29 08:18:34,324 | server.py:187 | evaluate_round 21 received 5 results and 0 failures\n",
      "DEBUG flwr 2023-08-29 08:18:34,326 | server.py:222 | fit_round 22: strategy sampled 5 clients (out of 10)\n"
     ]
    },
    {
     "name": "stdout",
     "output_type": "stream",
     "text": [
      "agrregate_evaluate results list length is  5\n",
      "server round is  21\n",
      "loss is  0.8166666666666667\n"
     ]
    },
    {
     "name": "stderr",
     "output_type": "stream",
     "text": [
      "DEBUG flwr 2023-08-29 08:18:41,970 | server.py:236 | fit_round 22 received 5 results and 0 failures\n",
      "DEBUG flwr 2023-08-29 08:18:42,121 | server.py:173 | evaluate_round 22: strategy sampled 5 clients (out of 10)\n"
     ]
    },
    {
     "name": "stdout",
     "output_type": "stream",
     "text": [
      "agrregate_fit results list length is  5\n",
      "Saving round 22 aggregated_parameters...\n"
     ]
    },
    {
     "name": "stderr",
     "output_type": "stream",
     "text": [
      "DEBUG flwr 2023-08-29 08:18:42,658 | server.py:187 | evaluate_round 22 received 5 results and 0 failures\n",
      "DEBUG flwr 2023-08-29 08:18:42,660 | server.py:222 | fit_round 23: strategy sampled 5 clients (out of 10)\n"
     ]
    },
    {
     "name": "stdout",
     "output_type": "stream",
     "text": [
      "agrregate_evaluate results list length is  5\n",
      "server round is  22\n",
      "loss is  0.7888888888888889\n"
     ]
    },
    {
     "name": "stderr",
     "output_type": "stream",
     "text": [
      "DEBUG flwr 2023-08-29 08:18:50,064 | server.py:236 | fit_round 23 received 5 results and 0 failures\n"
     ]
    },
    {
     "name": "stdout",
     "output_type": "stream",
     "text": [
      "agrregate_fit results list length is  5\n",
      "Saving round 23 aggregated_parameters...\n"
     ]
    },
    {
     "name": "stderr",
     "output_type": "stream",
     "text": [
      "DEBUG flwr 2023-08-29 08:18:50,307 | server.py:173 | evaluate_round 23: strategy sampled 5 clients (out of 10)\n",
      "DEBUG flwr 2023-08-29 08:18:50,925 | server.py:187 | evaluate_round 23 received 5 results and 0 failures\n",
      "DEBUG flwr 2023-08-29 08:18:50,928 | server.py:222 | fit_round 24: strategy sampled 5 clients (out of 10)\n"
     ]
    },
    {
     "name": "stdout",
     "output_type": "stream",
     "text": [
      "agrregate_evaluate results list length is  5\n",
      "server round is  23\n",
      "loss is  0.7944444444444444\n"
     ]
    },
    {
     "name": "stderr",
     "output_type": "stream",
     "text": [
      "DEBUG flwr 2023-08-29 08:18:58,117 | server.py:236 | fit_round 24 received 5 results and 0 failures\n",
      "DEBUG flwr 2023-08-29 08:18:58,262 | server.py:173 | evaluate_round 24: strategy sampled 5 clients (out of 10)\n"
     ]
    },
    {
     "name": "stdout",
     "output_type": "stream",
     "text": [
      "agrregate_fit results list length is  5\n",
      "Saving round 24 aggregated_parameters...\n"
     ]
    },
    {
     "name": "stderr",
     "output_type": "stream",
     "text": [
      "DEBUG flwr 2023-08-29 08:18:58,770 | server.py:187 | evaluate_round 24 received 5 results and 0 failures\n",
      "DEBUG flwr 2023-08-29 08:18:58,772 | server.py:222 | fit_round 25: strategy sampled 5 clients (out of 10)\n"
     ]
    },
    {
     "name": "stdout",
     "output_type": "stream",
     "text": [
      "agrregate_evaluate results list length is  5\n",
      "server round is  24\n",
      "loss is  0.8\n"
     ]
    },
    {
     "name": "stderr",
     "output_type": "stream",
     "text": [
      "DEBUG flwr 2023-08-29 08:19:05,700 | server.py:236 | fit_round 25 received 5 results and 0 failures\n",
      "DEBUG flwr 2023-08-29 08:19:05,836 | server.py:173 | evaluate_round 25: strategy sampled 5 clients (out of 10)\n"
     ]
    },
    {
     "name": "stdout",
     "output_type": "stream",
     "text": [
      "agrregate_fit results list length is  5\n",
      "Saving round 25 aggregated_parameters...\n"
     ]
    },
    {
     "name": "stderr",
     "output_type": "stream",
     "text": [
      "DEBUG flwr 2023-08-29 08:19:06,337 | server.py:187 | evaluate_round 25 received 5 results and 0 failures\n",
      "DEBUG flwr 2023-08-29 08:19:06,339 | server.py:222 | fit_round 26: strategy sampled 5 clients (out of 10)\n"
     ]
    },
    {
     "name": "stdout",
     "output_type": "stream",
     "text": [
      "agrregate_evaluate results list length is  5\n",
      "server round is  25\n",
      "loss is  0.7888888888888889\n"
     ]
    },
    {
     "name": "stderr",
     "output_type": "stream",
     "text": [
      "DEBUG flwr 2023-08-29 08:19:13,390 | server.py:236 | fit_round 26 received 5 results and 0 failures\n",
      "DEBUG flwr 2023-08-29 08:19:13,531 | server.py:173 | evaluate_round 26: strategy sampled 5 clients (out of 10)\n"
     ]
    },
    {
     "name": "stdout",
     "output_type": "stream",
     "text": [
      "agrregate_fit results list length is  5\n",
      "Saving round 26 aggregated_parameters...\n"
     ]
    },
    {
     "name": "stderr",
     "output_type": "stream",
     "text": [
      "DEBUG flwr 2023-08-29 08:19:14,157 | server.py:187 | evaluate_round 26 received 5 results and 0 failures\n",
      "DEBUG flwr 2023-08-29 08:19:14,162 | server.py:222 | fit_round 27: strategy sampled 5 clients (out of 10)\n"
     ]
    },
    {
     "name": "stdout",
     "output_type": "stream",
     "text": [
      "agrregate_evaluate results list length is  5\n",
      "server round is  26\n",
      "loss is  0.8111111111111111\n"
     ]
    },
    {
     "name": "stderr",
     "output_type": "stream",
     "text": [
      "DEBUG flwr 2023-08-29 08:19:22,168 | server.py:236 | fit_round 27 received 5 results and 0 failures\n",
      "DEBUG flwr 2023-08-29 08:19:22,335 | server.py:173 | evaluate_round 27: strategy sampled 5 clients (out of 10)\n"
     ]
    },
    {
     "name": "stdout",
     "output_type": "stream",
     "text": [
      "agrregate_fit results list length is  5\n",
      "Saving round 27 aggregated_parameters...\n"
     ]
    },
    {
     "name": "stderr",
     "output_type": "stream",
     "text": [
      "DEBUG flwr 2023-08-29 08:19:22,944 | server.py:187 | evaluate_round 27 received 5 results and 0 failures\n",
      "DEBUG flwr 2023-08-29 08:19:22,945 | server.py:222 | fit_round 28: strategy sampled 5 clients (out of 10)\n"
     ]
    },
    {
     "name": "stdout",
     "output_type": "stream",
     "text": [
      "agrregate_evaluate results list length is  5\n",
      "server round is  27\n",
      "loss is  0.8222222222222222\n"
     ]
    },
    {
     "name": "stderr",
     "output_type": "stream",
     "text": [
      "DEBUG flwr 2023-08-29 08:19:30,362 | server.py:236 | fit_round 28 received 5 results and 0 failures\n",
      "DEBUG flwr 2023-08-29 08:19:30,500 | server.py:173 | evaluate_round 28: strategy sampled 5 clients (out of 10)\n"
     ]
    },
    {
     "name": "stdout",
     "output_type": "stream",
     "text": [
      "agrregate_fit results list length is  5\n",
      "Saving round 28 aggregated_parameters...\n"
     ]
    },
    {
     "name": "stderr",
     "output_type": "stream",
     "text": [
      "DEBUG flwr 2023-08-29 08:19:31,047 | server.py:187 | evaluate_round 28 received 5 results and 0 failures\n",
      "DEBUG flwr 2023-08-29 08:19:31,049 | server.py:222 | fit_round 29: strategy sampled 5 clients (out of 10)\n"
     ]
    },
    {
     "name": "stdout",
     "output_type": "stream",
     "text": [
      "agrregate_evaluate results list length is  5\n",
      "server round is  28\n",
      "loss is  0.7777777777777778\n"
     ]
    },
    {
     "name": "stderr",
     "output_type": "stream",
     "text": [
      "DEBUG flwr 2023-08-29 08:19:37,089 | server.py:236 | fit_round 29 received 5 results and 0 failures\n",
      "DEBUG flwr 2023-08-29 08:19:37,227 | server.py:173 | evaluate_round 29: strategy sampled 5 clients (out of 10)\n"
     ]
    },
    {
     "name": "stdout",
     "output_type": "stream",
     "text": [
      "agrregate_fit results list length is  5\n",
      "Saving round 29 aggregated_parameters...\n"
     ]
    },
    {
     "name": "stderr",
     "output_type": "stream",
     "text": [
      "DEBUG flwr 2023-08-29 08:19:37,758 | server.py:187 | evaluate_round 29 received 5 results and 0 failures\n",
      "DEBUG flwr 2023-08-29 08:19:37,760 | server.py:222 | fit_round 30: strategy sampled 5 clients (out of 10)\n"
     ]
    },
    {
     "name": "stdout",
     "output_type": "stream",
     "text": [
      "agrregate_evaluate results list length is  5\n",
      "server round is  29\n",
      "loss is  0.8\n"
     ]
    },
    {
     "name": "stderr",
     "output_type": "stream",
     "text": [
      "DEBUG flwr 2023-08-29 08:19:44,034 | server.py:236 | fit_round 30 received 5 results and 0 failures\n",
      "DEBUG flwr 2023-08-29 08:19:44,173 | server.py:173 | evaluate_round 30: strategy sampled 5 clients (out of 10)\n"
     ]
    },
    {
     "name": "stdout",
     "output_type": "stream",
     "text": [
      "agrregate_fit results list length is  5\n",
      "Saving round 30 aggregated_parameters...\n"
     ]
    },
    {
     "name": "stderr",
     "output_type": "stream",
     "text": [
      "DEBUG flwr 2023-08-29 08:19:44,683 | server.py:187 | evaluate_round 30 received 5 results and 0 failures\n",
      "DEBUG flwr 2023-08-29 08:19:44,684 | server.py:222 | fit_round 31: strategy sampled 5 clients (out of 10)\n"
     ]
    },
    {
     "name": "stdout",
     "output_type": "stream",
     "text": [
      "agrregate_evaluate results list length is  5\n",
      "server round is  30\n",
      "loss is  0.6666666666666666\n"
     ]
    },
    {
     "name": "stderr",
     "output_type": "stream",
     "text": [
      "DEBUG flwr 2023-08-29 08:19:51,132 | server.py:236 | fit_round 31 received 5 results and 0 failures\n",
      "DEBUG flwr 2023-08-29 08:19:51,323 | server.py:173 | evaluate_round 31: strategy sampled 5 clients (out of 10)\n"
     ]
    },
    {
     "name": "stdout",
     "output_type": "stream",
     "text": [
      "agrregate_fit results list length is  5\n",
      "Saving round 31 aggregated_parameters...\n"
     ]
    },
    {
     "name": "stderr",
     "output_type": "stream",
     "text": [
      "DEBUG flwr 2023-08-29 08:19:52,139 | server.py:187 | evaluate_round 31 received 5 results and 0 failures\n",
      "DEBUG flwr 2023-08-29 08:19:52,142 | server.py:222 | fit_round 32: strategy sampled 5 clients (out of 10)\n"
     ]
    },
    {
     "name": "stdout",
     "output_type": "stream",
     "text": [
      "agrregate_evaluate results list length is  5\n",
      "server round is  31\n",
      "loss is  0.6444444444444446\n"
     ]
    },
    {
     "name": "stderr",
     "output_type": "stream",
     "text": [
      "DEBUG flwr 2023-08-29 08:19:59,412 | server.py:236 | fit_round 32 received 5 results and 0 failures\n",
      "DEBUG flwr 2023-08-29 08:19:59,543 | server.py:173 | evaluate_round 32: strategy sampled 5 clients (out of 10)\n"
     ]
    },
    {
     "name": "stdout",
     "output_type": "stream",
     "text": [
      "agrregate_fit results list length is  5\n",
      "Saving round 32 aggregated_parameters...\n"
     ]
    },
    {
     "name": "stderr",
     "output_type": "stream",
     "text": [
      "DEBUG flwr 2023-08-29 08:20:00,061 | server.py:187 | evaluate_round 32 received 5 results and 0 failures\n",
      "DEBUG flwr 2023-08-29 08:20:00,062 | server.py:222 | fit_round 33: strategy sampled 5 clients (out of 10)\n"
     ]
    },
    {
     "name": "stdout",
     "output_type": "stream",
     "text": [
      "agrregate_evaluate results list length is  5\n",
      "server round is  32\n",
      "loss is  0.6055555555555554\n"
     ]
    },
    {
     "name": "stderr",
     "output_type": "stream",
     "text": [
      "DEBUG flwr 2023-08-29 08:20:06,219 | server.py:236 | fit_round 33 received 5 results and 0 failures\n",
      "DEBUG flwr 2023-08-29 08:20:06,348 | server.py:173 | evaluate_round 33: strategy sampled 5 clients (out of 10)\n"
     ]
    },
    {
     "name": "stdout",
     "output_type": "stream",
     "text": [
      "agrregate_fit results list length is  5\n",
      "Saving round 33 aggregated_parameters...\n"
     ]
    },
    {
     "name": "stderr",
     "output_type": "stream",
     "text": [
      "DEBUG flwr 2023-08-29 08:20:06,849 | server.py:187 | evaluate_round 33 received 5 results and 0 failures\n",
      "DEBUG flwr 2023-08-29 08:20:06,850 | server.py:222 | fit_round 34: strategy sampled 5 clients (out of 10)\n"
     ]
    },
    {
     "name": "stdout",
     "output_type": "stream",
     "text": [
      "agrregate_evaluate results list length is  5\n",
      "server round is  33\n",
      "loss is  0.6388888888888887\n"
     ]
    },
    {
     "name": "stderr",
     "output_type": "stream",
     "text": [
      "DEBUG flwr 2023-08-29 08:20:13,413 | server.py:236 | fit_round 34 received 5 results and 0 failures\n",
      "DEBUG flwr 2023-08-29 08:20:13,557 | server.py:173 | evaluate_round 34: strategy sampled 5 clients (out of 10)\n"
     ]
    },
    {
     "name": "stdout",
     "output_type": "stream",
     "text": [
      "agrregate_fit results list length is  5\n",
      "Saving round 34 aggregated_parameters...\n"
     ]
    },
    {
     "name": "stderr",
     "output_type": "stream",
     "text": [
      "DEBUG flwr 2023-08-29 08:20:14,486 | server.py:187 | evaluate_round 34 received 5 results and 0 failures\n",
      "DEBUG flwr 2023-08-29 08:20:14,488 | server.py:222 | fit_round 35: strategy sampled 5 clients (out of 10)\n"
     ]
    },
    {
     "name": "stdout",
     "output_type": "stream",
     "text": [
      "agrregate_evaluate results list length is  5\n",
      "server round is  34\n",
      "loss is  0.5777777777777776\n"
     ]
    },
    {
     "name": "stderr",
     "output_type": "stream",
     "text": [
      "DEBUG flwr 2023-08-29 08:20:20,945 | server.py:236 | fit_round 35 received 5 results and 0 failures\n",
      "DEBUG flwr 2023-08-29 08:20:21,104 | server.py:173 | evaluate_round 35: strategy sampled 5 clients (out of 10)\n"
     ]
    },
    {
     "name": "stdout",
     "output_type": "stream",
     "text": [
      "agrregate_fit results list length is  5\n",
      "Saving round 35 aggregated_parameters...\n"
     ]
    },
    {
     "name": "stderr",
     "output_type": "stream",
     "text": [
      "DEBUG flwr 2023-08-29 08:20:21,612 | server.py:187 | evaluate_round 35 received 5 results and 0 failures\n",
      "DEBUG flwr 2023-08-29 08:20:21,613 | server.py:222 | fit_round 36: strategy sampled 5 clients (out of 10)\n"
     ]
    },
    {
     "name": "stdout",
     "output_type": "stream",
     "text": [
      "agrregate_evaluate results list length is  5\n",
      "server round is  35\n",
      "loss is  0.6666666666666666\n"
     ]
    },
    {
     "name": "stderr",
     "output_type": "stream",
     "text": [
      "DEBUG flwr 2023-08-29 08:20:27,930 | server.py:236 | fit_round 36 received 5 results and 0 failures\n",
      "DEBUG flwr 2023-08-29 08:20:28,079 | server.py:173 | evaluate_round 36: strategy sampled 5 clients (out of 10)\n"
     ]
    },
    {
     "name": "stdout",
     "output_type": "stream",
     "text": [
      "agrregate_fit results list length is  5\n",
      "Saving round 36 aggregated_parameters...\n"
     ]
    },
    {
     "name": "stderr",
     "output_type": "stream",
     "text": [
      "DEBUG flwr 2023-08-29 08:20:28,561 | server.py:187 | evaluate_round 36 received 5 results and 0 failures\n",
      "DEBUG flwr 2023-08-29 08:20:28,563 | server.py:222 | fit_round 37: strategy sampled 5 clients (out of 10)\n"
     ]
    },
    {
     "name": "stdout",
     "output_type": "stream",
     "text": [
      "agrregate_evaluate results list length is  5\n",
      "server round is  36\n",
      "loss is  0.5388888888888889\n"
     ]
    },
    {
     "name": "stderr",
     "output_type": "stream",
     "text": [
      "DEBUG flwr 2023-08-29 08:20:34,691 | server.py:236 | fit_round 37 received 5 results and 0 failures\n",
      "DEBUG flwr 2023-08-29 08:20:34,827 | server.py:173 | evaluate_round 37: strategy sampled 5 clients (out of 10)\n"
     ]
    },
    {
     "name": "stdout",
     "output_type": "stream",
     "text": [
      "agrregate_fit results list length is  5\n",
      "Saving round 37 aggregated_parameters...\n"
     ]
    },
    {
     "name": "stderr",
     "output_type": "stream",
     "text": [
      "DEBUG flwr 2023-08-29 08:20:35,346 | server.py:187 | evaluate_round 37 received 5 results and 0 failures\n",
      "DEBUG flwr 2023-08-29 08:20:35,347 | server.py:222 | fit_round 38: strategy sampled 5 clients (out of 10)\n"
     ]
    },
    {
     "name": "stdout",
     "output_type": "stream",
     "text": [
      "agrregate_evaluate results list length is  5\n",
      "server round is  37\n",
      "loss is  0.6999999999999998\n"
     ]
    },
    {
     "name": "stderr",
     "output_type": "stream",
     "text": [
      "DEBUG flwr 2023-08-29 08:20:41,574 | server.py:236 | fit_round 38 received 5 results and 0 failures\n",
      "DEBUG flwr 2023-08-29 08:20:41,708 | server.py:173 | evaluate_round 38: strategy sampled 5 clients (out of 10)\n"
     ]
    },
    {
     "name": "stdout",
     "output_type": "stream",
     "text": [
      "agrregate_fit results list length is  5\n",
      "Saving round 38 aggregated_parameters...\n"
     ]
    },
    {
     "name": "stderr",
     "output_type": "stream",
     "text": [
      "DEBUG flwr 2023-08-29 08:20:42,238 | server.py:187 | evaluate_round 38 received 5 results and 0 failures\n",
      "DEBUG flwr 2023-08-29 08:20:42,241 | server.py:222 | fit_round 39: strategy sampled 5 clients (out of 10)\n"
     ]
    },
    {
     "name": "stdout",
     "output_type": "stream",
     "text": [
      "agrregate_evaluate results list length is  5\n",
      "server round is  38\n",
      "loss is  0.5555555555555556\n"
     ]
    },
    {
     "name": "stderr",
     "output_type": "stream",
     "text": [
      "DEBUG flwr 2023-08-29 08:20:48,536 | server.py:236 | fit_round 39 received 5 results and 0 failures\n",
      "DEBUG flwr 2023-08-29 08:20:48,661 | server.py:173 | evaluate_round 39: strategy sampled 5 clients (out of 10)\n"
     ]
    },
    {
     "name": "stdout",
     "output_type": "stream",
     "text": [
      "agrregate_fit results list length is  5\n",
      "Saving round 39 aggregated_parameters...\n"
     ]
    },
    {
     "name": "stderr",
     "output_type": "stream",
     "text": [
      "DEBUG flwr 2023-08-29 08:20:49,177 | server.py:187 | evaluate_round 39 received 5 results and 0 failures\n",
      "DEBUG flwr 2023-08-29 08:20:49,179 | server.py:222 | fit_round 40: strategy sampled 5 clients (out of 10)\n"
     ]
    },
    {
     "name": "stdout",
     "output_type": "stream",
     "text": [
      "agrregate_evaluate results list length is  5\n",
      "server round is  39\n",
      "loss is  0.6055555555555554\n"
     ]
    },
    {
     "name": "stderr",
     "output_type": "stream",
     "text": [
      "DEBUG flwr 2023-08-29 08:20:55,509 | server.py:236 | fit_round 40 received 5 results and 0 failures\n",
      "DEBUG flwr 2023-08-29 08:20:55,638 | server.py:173 | evaluate_round 40: strategy sampled 5 clients (out of 10)\n"
     ]
    },
    {
     "name": "stdout",
     "output_type": "stream",
     "text": [
      "agrregate_fit results list length is  5\n",
      "Saving round 40 aggregated_parameters...\n"
     ]
    },
    {
     "name": "stderr",
     "output_type": "stream",
     "text": [
      "DEBUG flwr 2023-08-29 08:20:56,123 | server.py:187 | evaluate_round 40 received 5 results and 0 failures\n",
      "INFO flwr 2023-08-29 08:20:56,124 | server.py:153 | FL finished in 305.02838820000034\n",
      "INFO flwr 2023-08-29 08:20:56,129 | app.py:225 | app_fit: losses_distributed [(1, 15.777777777777779), (2, 12.683333333333334), (3, 10.699999999999998), (4, 9.133333333333333), (5, 5.238888888888889), (6, 3.1555555555555554), (7, 2.8944444444444444), (8, 1.8333333333333333), (9, 1.7222222222222223), (10, 1.4833333333333334), (11, 1.25), (12, 1.3055555555555556), (13, 1.3555555555555556), (14, 1.0722222222222222), (15, 0.9222222222222223), (16, 0.9222222222222223), (17, 0.9111111111111111), (18, 0.8333333333333334), (19, 0.8166666666666667), (20, 0.8166666666666667), (21, 0.8166666666666667), (22, 0.7888888888888889), (23, 0.7944444444444444), (24, 0.8), (25, 0.7888888888888889), (26, 0.8111111111111111), (27, 0.8222222222222222), (28, 0.7777777777777778), (29, 0.8), (30, 0.6666666666666666), (31, 0.6444444444444446), (32, 0.6055555555555554), (33, 0.6388888888888887), (34, 0.5777777777777776), (35, 0.6666666666666666), (36, 0.5388888888888889), (37, 0.6999999999999998), (38, 0.5555555555555556), (39, 0.6055555555555554), (40, 0.5611111111111111)]\n",
      "INFO flwr 2023-08-29 08:20:56,130 | app.py:226 | app_fit: metrics_distributed_fit {}\n",
      "INFO flwr 2023-08-29 08:20:56,131 | app.py:227 | app_fit: metrics_distributed {'mse': [(1, 78.88888888888889), (2, 63.41666666666667), (3, 53.5), (4, 45.666666666666664), (5, 26.194444444444443), (6, 15.777777777777777), (7, 14.472222222222221), (8, 9.166666666666666), (9, 8.61111111111111), (10, 7.416666666666667), (11, 6.25), (12, 6.527777777777778), (13, 6.777777777777779), (14, 5.361111111111111), (15, 4.611111111111112), (16, 4.611111111111112), (17, 4.555555555555555), (18, 4.166666666666667), (19, 4.083333333333333), (20, 4.083333333333333), (21, 4.083333333333333), (22, 3.944444444444444), (23, 3.972222222222222), (24, 4.0), (25, 3.944444444444444), (26, 4.055555555555555), (27, 4.111111111111111), (28, 3.888888888888889), (29, 4.0), (30, 3.333333333333333), (31, 3.2222222222222223), (32, 3.0277777777777777), (33, 3.194444444444444), (34, 2.8888888888888884), (35, 3.333333333333333), (36, 2.694444444444444), (37, 3.5), (38, 2.7777777777777777), (39, 3.0277777777777777), (40, 2.8055555555555554)]}\n",
      "INFO flwr 2023-08-29 08:20:56,132 | app.py:228 | app_fit: losses_centralized []\n",
      "INFO flwr 2023-08-29 08:20:56,133 | app.py:229 | app_fit: metrics_centralized {}\n",
      "C:\\Users\\Shuyao\\AppData\\Local\\Temp\\ipykernel_11996\\3421847257.py:35: UserWarning: To copy construct from a tensor, it is recommended to use sourceTensor.clone().detach() or sourceTensor.clone().detach().requires_grad_(True), rather than torch.tensor(sourceTensor).\n",
      "  y_train = torch.reshape(torch.tensor(y_train), (-1, 1))\n"
     ]
    },
    {
     "name": "stdout",
     "output_type": "stream",
     "text": [
      "agrregate_evaluate results list length is  5\n",
      "server round is  40\n",
      "loss is  0.5611111111111111\n",
      "History (loss, distributed):\n",
      "\tround 1: 15.777777777777779\n",
      "\tround 2: 12.683333333333334\n",
      "\tround 3: 10.699999999999998\n",
      "\tround 4: 9.133333333333333\n",
      "\tround 5: 5.238888888888889\n",
      "\tround 6: 3.1555555555555554\n",
      "\tround 7: 2.8944444444444444\n",
      "\tround 8: 1.8333333333333333\n",
      "\tround 9: 1.7222222222222223\n",
      "\tround 10: 1.4833333333333334\n",
      "\tround 11: 1.25\n",
      "\tround 12: 1.3055555555555556\n",
      "\tround 13: 1.3555555555555556\n",
      "\tround 14: 1.0722222222222222\n",
      "\tround 15: 0.9222222222222223\n",
      "\tround 16: 0.9222222222222223\n",
      "\tround 17: 0.9111111111111111\n",
      "\tround 18: 0.8333333333333334\n",
      "\tround 19: 0.8166666666666667\n",
      "\tround 20: 0.8166666666666667\n",
      "\tround 21: 0.8166666666666667\n",
      "\tround 22: 0.7888888888888889\n",
      "\tround 23: 0.7944444444444444\n",
      "\tround 24: 0.8\n",
      "\tround 25: 0.7888888888888889\n",
      "\tround 26: 0.8111111111111111\n",
      "\tround 27: 0.8222222222222222\n",
      "\tround 28: 0.7777777777777778\n",
      "\tround 29: 0.8\n",
      "\tround 30: 0.6666666666666666\n",
      "\tround 31: 0.6444444444444446\n",
      "\tround 32: 0.6055555555555554\n",
      "\tround 33: 0.6388888888888887\n",
      "\tround 34: 0.5777777777777776\n",
      "\tround 35: 0.6666666666666666\n",
      "\tround 36: 0.5388888888888889\n",
      "\tround 37: 0.6999999999999998\n",
      "\tround 38: 0.5555555555555556\n",
      "\tround 39: 0.6055555555555554\n",
      "\tround 40: 0.5611111111111111\n",
      "History (metrics, distributed, evaluate):\n",
      "{'mse': [(1, 78.88888888888889), (2, 63.41666666666667), (3, 53.5), (4, 45.666666666666664), (5, 26.194444444444443), (6, 15.777777777777777), (7, 14.472222222222221), (8, 9.166666666666666), (9, 8.61111111111111), (10, 7.416666666666667), (11, 6.25), (12, 6.527777777777778), (13, 6.777777777777779), (14, 5.361111111111111), (15, 4.611111111111112), (16, 4.611111111111112), (17, 4.555555555555555), (18, 4.166666666666667), (19, 4.083333333333333), (20, 4.083333333333333), (21, 4.083333333333333), (22, 3.944444444444444), (23, 3.972222222222222), (24, 4.0), (25, 3.944444444444444), (26, 4.055555555555555), (27, 4.111111111111111), (28, 3.888888888888889), (29, 4.0), (30, 3.333333333333333), (31, 3.2222222222222223), (32, 3.0277777777777777), (33, 3.194444444444444), (34, 2.8888888888888884), (35, 3.333333333333333), (36, 2.694444444444444), (37, 3.5), (38, 2.7777777777777777), (39, 3.0277777777777777), (40, 2.8055555555555554)]}\n",
      "[(1, 15.777777777777779), (2, 12.683333333333334), (3, 10.699999999999998), (4, 9.133333333333333), (5, 5.238888888888889), (6, 3.1555555555555554), (7, 2.8944444444444444), (8, 1.8333333333333333), (9, 1.7222222222222223), (10, 1.4833333333333334), (11, 1.25), (12, 1.3055555555555556), (13, 1.3555555555555556), (14, 1.0722222222222222), (15, 0.9222222222222223), (16, 0.9222222222222223), (17, 0.9111111111111111), (18, 0.8333333333333334), (19, 0.8166666666666667), (20, 0.8166666666666667), (21, 0.8166666666666667), (22, 0.7888888888888889), (23, 0.7944444444444444), (24, 0.8), (25, 0.7888888888888889), (26, 0.8111111111111111), (27, 0.8222222222222222), (28, 0.7777777777777778), (29, 0.8), (30, 0.6666666666666666), (31, 0.6444444444444446), (32, 0.6055555555555554), (33, 0.6388888888888887), (34, 0.5777777777777776), (35, 0.6666666666666666), (36, 0.5388888888888889), (37, 0.6999999999999998), (38, 0.5555555555555556), (39, 0.6055555555555554), (40, 0.5611111111111111)]\n",
      "Fold 5:\n"
     ]
    },
    {
     "name": "stderr",
     "output_type": "stream",
     "text": [
      "C:\\Users\\Shuyao\\AppData\\Local\\Temp\\ipykernel_11996\\3421847257.py:36: UserWarning: To copy construct from a tensor, it is recommended to use sourceTensor.clone().detach() or sourceTensor.clone().detach().requires_grad_(True), rather than torch.tensor(sourceTensor).\n",
      "  y_test = torch.reshape(torch.tensor(y_test), (-1, 1))\n",
      "INFO flwr 2023-08-29 08:20:56,404 | app.py:145 | Starting Flower simulation, config: ServerConfig(num_rounds=40, round_timeout=None)\n"
     ]
    },
    {
     "name": "stdout",
     "output_type": "stream",
     "text": [
      "Client 0 trainset shape torch.Size([75, 3, 23])\n",
      "Client 1 trainset shape torch.Size([75, 3, 23])\n",
      "Client 2 trainset shape torch.Size([75, 3, 23])\n",
      "Client 3 trainset shape torch.Size([75, 3, 23])\n",
      "Client 4 trainset shape torch.Size([71, 3, 23])\n",
      "Client 5 trainset shape torch.Size([70, 3, 23])\n",
      "Client 6 trainset shape torch.Size([70, 3, 23])\n",
      "Client 7 trainset shape torch.Size([70, 3, 23])\n",
      "Client 8 trainset shape torch.Size([70, 3, 23])\n",
      "Client 9 trainset shape torch.Size([70, 3, 23])\n"
     ]
    },
    {
     "name": "stderr",
     "output_type": "stream",
     "text": [
      "2023-08-29 08:21:04,696\tINFO worker.py:1627 -- Started a local Ray instance. View the dashboard at \u001B[1m\u001B[32m127.0.0.1:8265 \u001B[39m\u001B[22m\n",
      "INFO flwr 2023-08-29 08:21:08,923 | app.py:179 | Flower VCE: Ray initialized with resources: {'CPU': 8.0, 'object_store_memory': 1240447795.0, 'node:127.0.0.1': 1.0, 'memory': 2480895591.0, 'GPU': 1.0}\n",
      "INFO flwr 2023-08-29 08:21:08,924 | server.py:89 | Initializing global parameters\n",
      "INFO flwr 2023-08-29 08:21:08,925 | server.py:276 | Requesting initial parameters from one random client\n",
      "INFO flwr 2023-08-29 08:21:11,481 | server.py:280 | Received initial parameters from one random client\n",
      "INFO flwr 2023-08-29 08:21:11,483 | server.py:91 | Evaluating initial parameters\n",
      "INFO flwr 2023-08-29 08:21:11,483 | server.py:104 | FL starting\n",
      "DEBUG flwr 2023-08-29 08:21:11,484 | server.py:222 | fit_round 1: strategy sampled 5 clients (out of 10)\n",
      "DEBUG flwr 2023-08-29 08:21:21,213 | server.py:236 | fit_round 1 received 5 results and 0 failures\n",
      "WARNING flwr 2023-08-29 08:21:21,296 | fedavg.py:242 | No fit_metrics_aggregation_fn provided\n",
      "DEBUG flwr 2023-08-29 08:21:21,341 | server.py:173 | evaluate_round 1: strategy sampled 5 clients (out of 10)\n"
     ]
    },
    {
     "name": "stdout",
     "output_type": "stream",
     "text": [
      "agrregate_fit results list length is  5\n",
      "Saving round 1 aggregated_parameters...\n"
     ]
    },
    {
     "name": "stderr",
     "output_type": "stream",
     "text": [
      "DEBUG flwr 2023-08-29 08:21:21,828 | server.py:187 | evaluate_round 1 received 5 results and 0 failures\n",
      "DEBUG flwr 2023-08-29 08:21:21,830 | server.py:222 | fit_round 2: strategy sampled 5 clients (out of 10)\n"
     ]
    },
    {
     "name": "stdout",
     "output_type": "stream",
     "text": [
      "agrregate_evaluate results list length is  5\n",
      "server round is  1\n",
      "loss is  10.105555555555556\n"
     ]
    },
    {
     "name": "stderr",
     "output_type": "stream",
     "text": [
      "DEBUG flwr 2023-08-29 08:21:28,332 | server.py:236 | fit_round 2 received 5 results and 0 failures\n",
      "DEBUG flwr 2023-08-29 08:21:28,449 | server.py:173 | evaluate_round 2: strategy sampled 5 clients (out of 10)\n"
     ]
    },
    {
     "name": "stdout",
     "output_type": "stream",
     "text": [
      "agrregate_fit results list length is  5\n",
      "Saving round 2 aggregated_parameters...\n"
     ]
    },
    {
     "name": "stderr",
     "output_type": "stream",
     "text": [
      "DEBUG flwr 2023-08-29 08:21:28,970 | server.py:187 | evaluate_round 2 received 5 results and 0 failures\n",
      "DEBUG flwr 2023-08-29 08:21:28,972 | server.py:222 | fit_round 3: strategy sampled 5 clients (out of 10)\n"
     ]
    },
    {
     "name": "stdout",
     "output_type": "stream",
     "text": [
      "agrregate_evaluate results list length is  5\n",
      "server round is  2\n",
      "loss is  8.544444444444444\n"
     ]
    },
    {
     "name": "stderr",
     "output_type": "stream",
     "text": [
      "DEBUG flwr 2023-08-29 08:21:35,345 | server.py:236 | fit_round 3 received 5 results and 0 failures\n",
      "DEBUG flwr 2023-08-29 08:21:35,458 | server.py:173 | evaluate_round 3: strategy sampled 5 clients (out of 10)\n"
     ]
    },
    {
     "name": "stdout",
     "output_type": "stream",
     "text": [
      "agrregate_fit results list length is  5\n",
      "Saving round 3 aggregated_parameters...\n"
     ]
    },
    {
     "name": "stderr",
     "output_type": "stream",
     "text": [
      "DEBUG flwr 2023-08-29 08:21:36,018 | server.py:187 | evaluate_round 3 received 5 results and 0 failures\n",
      "DEBUG flwr 2023-08-29 08:21:36,019 | server.py:222 | fit_round 4: strategy sampled 5 clients (out of 10)\n"
     ]
    },
    {
     "name": "stdout",
     "output_type": "stream",
     "text": [
      "agrregate_evaluate results list length is  5\n",
      "server round is  3\n",
      "loss is  6.8\n"
     ]
    },
    {
     "name": "stderr",
     "output_type": "stream",
     "text": [
      "DEBUG flwr 2023-08-29 08:21:42,558 | server.py:236 | fit_round 4 received 5 results and 0 failures\n",
      "DEBUG flwr 2023-08-29 08:21:42,702 | server.py:173 | evaluate_round 4: strategy sampled 5 clients (out of 10)\n"
     ]
    },
    {
     "name": "stdout",
     "output_type": "stream",
     "text": [
      "agrregate_fit results list length is  5\n",
      "Saving round 4 aggregated_parameters...\n"
     ]
    },
    {
     "name": "stderr",
     "output_type": "stream",
     "text": [
      "DEBUG flwr 2023-08-29 08:21:43,275 | server.py:187 | evaluate_round 4 received 5 results and 0 failures\n",
      "DEBUG flwr 2023-08-29 08:21:43,277 | server.py:222 | fit_round 5: strategy sampled 5 clients (out of 10)\n"
     ]
    },
    {
     "name": "stdout",
     "output_type": "stream",
     "text": [
      "agrregate_evaluate results list length is  5\n",
      "server round is  4\n",
      "loss is  4.427777777777778\n"
     ]
    },
    {
     "name": "stderr",
     "output_type": "stream",
     "text": [
      "DEBUG flwr 2023-08-29 08:21:50,064 | server.py:236 | fit_round 5 received 5 results and 0 failures\n",
      "DEBUG flwr 2023-08-29 08:21:50,206 | server.py:173 | evaluate_round 5: strategy sampled 5 clients (out of 10)\n"
     ]
    },
    {
     "name": "stdout",
     "output_type": "stream",
     "text": [
      "agrregate_fit results list length is  5\n",
      "Saving round 5 aggregated_parameters...\n"
     ]
    },
    {
     "name": "stderr",
     "output_type": "stream",
     "text": [
      "DEBUG flwr 2023-08-29 08:21:50,746 | server.py:187 | evaluate_round 5 received 5 results and 0 failures\n",
      "DEBUG flwr 2023-08-29 08:21:50,747 | server.py:222 | fit_round 6: strategy sampled 5 clients (out of 10)\n"
     ]
    },
    {
     "name": "stdout",
     "output_type": "stream",
     "text": [
      "agrregate_evaluate results list length is  5\n",
      "server round is  5\n",
      "loss is  3.1444444444444444\n"
     ]
    },
    {
     "name": "stderr",
     "output_type": "stream",
     "text": [
      "DEBUG flwr 2023-08-29 08:21:57,624 | server.py:236 | fit_round 6 received 5 results and 0 failures\n",
      "DEBUG flwr 2023-08-29 08:21:57,730 | server.py:173 | evaluate_round 6: strategy sampled 5 clients (out of 10)\n"
     ]
    },
    {
     "name": "stdout",
     "output_type": "stream",
     "text": [
      "agrregate_fit results list length is  5\n",
      "Saving round 6 aggregated_parameters...\n"
     ]
    },
    {
     "name": "stderr",
     "output_type": "stream",
     "text": [
      "DEBUG flwr 2023-08-29 08:21:58,204 | server.py:187 | evaluate_round 6 received 5 results and 0 failures\n",
      "DEBUG flwr 2023-08-29 08:21:58,205 | server.py:222 | fit_round 7: strategy sampled 5 clients (out of 10)\n"
     ]
    },
    {
     "name": "stdout",
     "output_type": "stream",
     "text": [
      "agrregate_evaluate results list length is  5\n",
      "server round is  6\n",
      "loss is  1.788888888888889\n"
     ]
    },
    {
     "name": "stderr",
     "output_type": "stream",
     "text": [
      "DEBUG flwr 2023-08-29 08:22:04,667 | server.py:236 | fit_round 7 received 5 results and 0 failures\n",
      "DEBUG flwr 2023-08-29 08:22:04,821 | server.py:173 | evaluate_round 7: strategy sampled 5 clients (out of 10)\n"
     ]
    },
    {
     "name": "stdout",
     "output_type": "stream",
     "text": [
      "agrregate_fit results list length is  5\n",
      "Saving round 7 aggregated_parameters...\n"
     ]
    },
    {
     "name": "stderr",
     "output_type": "stream",
     "text": [
      "DEBUG flwr 2023-08-29 08:22:05,319 | server.py:187 | evaluate_round 7 received 5 results and 0 failures\n",
      "DEBUG flwr 2023-08-29 08:22:05,321 | server.py:222 | fit_round 8: strategy sampled 5 clients (out of 10)\n"
     ]
    },
    {
     "name": "stdout",
     "output_type": "stream",
     "text": [
      "agrregate_evaluate results list length is  5\n",
      "server round is  7\n",
      "loss is  1.6111111111111112\n"
     ]
    },
    {
     "name": "stderr",
     "output_type": "stream",
     "text": [
      "DEBUG flwr 2023-08-29 08:22:12,225 | server.py:236 | fit_round 8 received 5 results and 0 failures\n",
      "DEBUG flwr 2023-08-29 08:22:12,364 | server.py:173 | evaluate_round 8: strategy sampled 5 clients (out of 10)\n"
     ]
    },
    {
     "name": "stdout",
     "output_type": "stream",
     "text": [
      "agrregate_fit results list length is  5\n",
      "Saving round 8 aggregated_parameters...\n"
     ]
    },
    {
     "name": "stderr",
     "output_type": "stream",
     "text": [
      "DEBUG flwr 2023-08-29 08:22:12,923 | server.py:187 | evaluate_round 8 received 5 results and 0 failures\n",
      "DEBUG flwr 2023-08-29 08:22:12,924 | server.py:222 | fit_round 9: strategy sampled 5 clients (out of 10)\n"
     ]
    },
    {
     "name": "stdout",
     "output_type": "stream",
     "text": [
      "agrregate_evaluate results list length is  5\n",
      "server round is  8\n",
      "loss is  1.2833333333333337\n"
     ]
    },
    {
     "name": "stderr",
     "output_type": "stream",
     "text": [
      "DEBUG flwr 2023-08-29 08:22:19,350 | server.py:236 | fit_round 9 received 5 results and 0 failures\n",
      "DEBUG flwr 2023-08-29 08:22:19,475 | server.py:173 | evaluate_round 9: strategy sampled 5 clients (out of 10)\n"
     ]
    },
    {
     "name": "stdout",
     "output_type": "stream",
     "text": [
      "agrregate_fit results list length is  5\n",
      "Saving round 9 aggregated_parameters...\n"
     ]
    },
    {
     "name": "stderr",
     "output_type": "stream",
     "text": [
      "DEBUG flwr 2023-08-29 08:22:19,996 | server.py:187 | evaluate_round 9 received 5 results and 0 failures\n",
      "DEBUG flwr 2023-08-29 08:22:19,998 | server.py:222 | fit_round 10: strategy sampled 5 clients (out of 10)\n"
     ]
    },
    {
     "name": "stdout",
     "output_type": "stream",
     "text": [
      "agrregate_evaluate results list length is  5\n",
      "server round is  9\n",
      "loss is  1.05\n"
     ]
    },
    {
     "name": "stderr",
     "output_type": "stream",
     "text": [
      "DEBUG flwr 2023-08-29 08:22:26,592 | server.py:236 | fit_round 10 received 5 results and 0 failures\n",
      "DEBUG flwr 2023-08-29 08:22:26,720 | server.py:173 | evaluate_round 10: strategy sampled 5 clients (out of 10)\n"
     ]
    },
    {
     "name": "stdout",
     "output_type": "stream",
     "text": [
      "agrregate_fit results list length is  5\n",
      "Saving round 10 aggregated_parameters...\n"
     ]
    },
    {
     "name": "stderr",
     "output_type": "stream",
     "text": [
      "DEBUG flwr 2023-08-29 08:22:27,303 | server.py:187 | evaluate_round 10 received 5 results and 0 failures\n",
      "DEBUG flwr 2023-08-29 08:22:27,305 | server.py:222 | fit_round 11: strategy sampled 5 clients (out of 10)\n"
     ]
    },
    {
     "name": "stdout",
     "output_type": "stream",
     "text": [
      "agrregate_evaluate results list length is  5\n",
      "server round is  10\n",
      "loss is  1.0277777777777777\n"
     ]
    },
    {
     "name": "stderr",
     "output_type": "stream",
     "text": [
      "DEBUG flwr 2023-08-29 08:22:33,810 | server.py:236 | fit_round 11 received 5 results and 0 failures\n",
      "DEBUG flwr 2023-08-29 08:22:33,964 | server.py:173 | evaluate_round 11: strategy sampled 5 clients (out of 10)\n"
     ]
    },
    {
     "name": "stdout",
     "output_type": "stream",
     "text": [
      "agrregate_fit results list length is  5\n",
      "Saving round 11 aggregated_parameters...\n"
     ]
    },
    {
     "name": "stderr",
     "output_type": "stream",
     "text": [
      "DEBUG flwr 2023-08-29 08:22:34,493 | server.py:187 | evaluate_round 11 received 5 results and 0 failures\n",
      "DEBUG flwr 2023-08-29 08:22:34,494 | server.py:222 | fit_round 12: strategy sampled 5 clients (out of 10)\n"
     ]
    },
    {
     "name": "stdout",
     "output_type": "stream",
     "text": [
      "agrregate_evaluate results list length is  5\n",
      "server round is  11\n",
      "loss is  1.0222222222222221\n"
     ]
    },
    {
     "name": "stderr",
     "output_type": "stream",
     "text": [
      "DEBUG flwr 2023-08-29 08:22:41,129 | server.py:236 | fit_round 12 received 5 results and 0 failures\n",
      "DEBUG flwr 2023-08-29 08:22:41,245 | server.py:173 | evaluate_round 12: strategy sampled 5 clients (out of 10)\n"
     ]
    },
    {
     "name": "stdout",
     "output_type": "stream",
     "text": [
      "agrregate_fit results list length is  5\n",
      "Saving round 12 aggregated_parameters...\n"
     ]
    },
    {
     "name": "stderr",
     "output_type": "stream",
     "text": [
      "DEBUG flwr 2023-08-29 08:22:41,777 | server.py:187 | evaluate_round 12 received 5 results and 0 failures\n",
      "DEBUG flwr 2023-08-29 08:22:41,778 | server.py:222 | fit_round 13: strategy sampled 5 clients (out of 10)\n"
     ]
    },
    {
     "name": "stdout",
     "output_type": "stream",
     "text": [
      "agrregate_evaluate results list length is  5\n",
      "server round is  12\n",
      "loss is  0.8166666666666667\n"
     ]
    },
    {
     "name": "stderr",
     "output_type": "stream",
     "text": [
      "DEBUG flwr 2023-08-29 08:22:48,342 | server.py:236 | fit_round 13 received 5 results and 0 failures\n",
      "DEBUG flwr 2023-08-29 08:22:48,456 | server.py:173 | evaluate_round 13: strategy sampled 5 clients (out of 10)\n"
     ]
    },
    {
     "name": "stdout",
     "output_type": "stream",
     "text": [
      "agrregate_fit results list length is  5\n",
      "Saving round 13 aggregated_parameters...\n"
     ]
    },
    {
     "name": "stderr",
     "output_type": "stream",
     "text": [
      "DEBUG flwr 2023-08-29 08:22:48,985 | server.py:187 | evaluate_round 13 received 5 results and 0 failures\n",
      "DEBUG flwr 2023-08-29 08:22:48,987 | server.py:222 | fit_round 14: strategy sampled 5 clients (out of 10)\n"
     ]
    },
    {
     "name": "stdout",
     "output_type": "stream",
     "text": [
      "agrregate_evaluate results list length is  5\n",
      "server round is  13\n",
      "loss is  0.8\n"
     ]
    },
    {
     "name": "stderr",
     "output_type": "stream",
     "text": [
      "DEBUG flwr 2023-08-29 08:22:55,670 | server.py:236 | fit_round 14 received 5 results and 0 failures\n",
      "DEBUG flwr 2023-08-29 08:22:55,788 | server.py:173 | evaluate_round 14: strategy sampled 5 clients (out of 10)\n"
     ]
    },
    {
     "name": "stdout",
     "output_type": "stream",
     "text": [
      "agrregate_fit results list length is  5\n",
      "Saving round 14 aggregated_parameters...\n"
     ]
    },
    {
     "name": "stderr",
     "output_type": "stream",
     "text": [
      "DEBUG flwr 2023-08-29 08:22:56,433 | server.py:187 | evaluate_round 14 received 5 results and 0 failures\n",
      "DEBUG flwr 2023-08-29 08:22:56,435 | server.py:222 | fit_round 15: strategy sampled 5 clients (out of 10)\n"
     ]
    },
    {
     "name": "stdout",
     "output_type": "stream",
     "text": [
      "agrregate_evaluate results list length is  5\n",
      "server round is  14\n",
      "loss is  0.8388888888888889\n"
     ]
    },
    {
     "name": "stderr",
     "output_type": "stream",
     "text": [
      "DEBUG flwr 2023-08-29 08:23:03,159 | server.py:236 | fit_round 15 received 5 results and 0 failures\n",
      "DEBUG flwr 2023-08-29 08:23:03,271 | server.py:173 | evaluate_round 15: strategy sampled 5 clients (out of 10)\n"
     ]
    },
    {
     "name": "stdout",
     "output_type": "stream",
     "text": [
      "agrregate_fit results list length is  5\n",
      "Saving round 15 aggregated_parameters...\n"
     ]
    },
    {
     "name": "stderr",
     "output_type": "stream",
     "text": [
      "DEBUG flwr 2023-08-29 08:23:03,745 | server.py:187 | evaluate_round 15 received 5 results and 0 failures\n",
      "DEBUG flwr 2023-08-29 08:23:03,746 | server.py:222 | fit_round 16: strategy sampled 5 clients (out of 10)\n"
     ]
    },
    {
     "name": "stdout",
     "output_type": "stream",
     "text": [
      "agrregate_evaluate results list length is  5\n",
      "server round is  15\n",
      "loss is  0.8777777777777778\n"
     ]
    },
    {
     "name": "stderr",
     "output_type": "stream",
     "text": [
      "DEBUG flwr 2023-08-29 08:23:10,004 | server.py:236 | fit_round 16 received 5 results and 0 failures\n",
      "DEBUG flwr 2023-08-29 08:23:10,144 | server.py:173 | evaluate_round 16: strategy sampled 5 clients (out of 10)\n"
     ]
    },
    {
     "name": "stdout",
     "output_type": "stream",
     "text": [
      "agrregate_fit results list length is  5\n",
      "Saving round 16 aggregated_parameters...\n"
     ]
    },
    {
     "name": "stderr",
     "output_type": "stream",
     "text": [
      "DEBUG flwr 2023-08-29 08:23:10,669 | server.py:187 | evaluate_round 16 received 5 results and 0 failures\n",
      "DEBUG flwr 2023-08-29 08:23:10,671 | server.py:222 | fit_round 17: strategy sampled 5 clients (out of 10)\n"
     ]
    },
    {
     "name": "stdout",
     "output_type": "stream",
     "text": [
      "agrregate_evaluate results list length is  5\n",
      "server round is  16\n",
      "loss is  0.8444444444444444\n"
     ]
    },
    {
     "name": "stderr",
     "output_type": "stream",
     "text": [
      "DEBUG flwr 2023-08-29 08:23:17,492 | server.py:236 | fit_round 17 received 5 results and 0 failures\n",
      "DEBUG flwr 2023-08-29 08:23:17,608 | server.py:173 | evaluate_round 17: strategy sampled 5 clients (out of 10)\n"
     ]
    },
    {
     "name": "stdout",
     "output_type": "stream",
     "text": [
      "agrregate_fit results list length is  5\n",
      "Saving round 17 aggregated_parameters...\n"
     ]
    },
    {
     "name": "stderr",
     "output_type": "stream",
     "text": [
      "DEBUG flwr 2023-08-29 08:23:18,122 | server.py:187 | evaluate_round 17 received 5 results and 0 failures\n",
      "DEBUG flwr 2023-08-29 08:23:18,124 | server.py:222 | fit_round 18: strategy sampled 5 clients (out of 10)\n"
     ]
    },
    {
     "name": "stdout",
     "output_type": "stream",
     "text": [
      "agrregate_evaluate results list length is  5\n",
      "server round is  17\n",
      "loss is  0.85\n"
     ]
    },
    {
     "name": "stderr",
     "output_type": "stream",
     "text": [
      "DEBUG flwr 2023-08-29 08:23:24,790 | server.py:236 | fit_round 18 received 5 results and 0 failures\n",
      "DEBUG flwr 2023-08-29 08:23:24,922 | server.py:173 | evaluate_round 18: strategy sampled 5 clients (out of 10)\n"
     ]
    },
    {
     "name": "stdout",
     "output_type": "stream",
     "text": [
      "agrregate_fit results list length is  5\n",
      "Saving round 18 aggregated_parameters...\n"
     ]
    },
    {
     "name": "stderr",
     "output_type": "stream",
     "text": [
      "DEBUG flwr 2023-08-29 08:23:25,447 | server.py:187 | evaluate_round 18 received 5 results and 0 failures\n",
      "DEBUG flwr 2023-08-29 08:23:25,449 | server.py:222 | fit_round 19: strategy sampled 5 clients (out of 10)\n"
     ]
    },
    {
     "name": "stdout",
     "output_type": "stream",
     "text": [
      "agrregate_evaluate results list length is  5\n",
      "server round is  18\n",
      "loss is  0.8166666666666667\n"
     ]
    },
    {
     "name": "stderr",
     "output_type": "stream",
     "text": [
      "DEBUG flwr 2023-08-29 08:23:32,042 | server.py:236 | fit_round 19 received 5 results and 0 failures\n"
     ]
    },
    {
     "name": "stdout",
     "output_type": "stream",
     "text": [
      "agrregate_fit results list length is  5\n",
      "Saving round 19 aggregated_parameters...\n"
     ]
    },
    {
     "name": "stderr",
     "output_type": "stream",
     "text": [
      "DEBUG flwr 2023-08-29 08:23:32,256 | server.py:173 | evaluate_round 19: strategy sampled 5 clients (out of 10)\n",
      "DEBUG flwr 2023-08-29 08:23:32,716 | server.py:187 | evaluate_round 19 received 5 results and 0 failures\n",
      "DEBUG flwr 2023-08-29 08:23:32,718 | server.py:222 | fit_round 20: strategy sampled 5 clients (out of 10)\n"
     ]
    },
    {
     "name": "stdout",
     "output_type": "stream",
     "text": [
      "agrregate_evaluate results list length is  5\n",
      "server round is  19\n",
      "loss is  0.85\n"
     ]
    },
    {
     "name": "stderr",
     "output_type": "stream",
     "text": [
      "DEBUG flwr 2023-08-29 08:23:39,321 | server.py:236 | fit_round 20 received 5 results and 0 failures\n",
      "DEBUG flwr 2023-08-29 08:23:39,440 | server.py:173 | evaluate_round 20: strategy sampled 5 clients (out of 10)\n"
     ]
    },
    {
     "name": "stdout",
     "output_type": "stream",
     "text": [
      "agrregate_fit results list length is  5\n",
      "Saving round 20 aggregated_parameters...\n"
     ]
    },
    {
     "name": "stderr",
     "output_type": "stream",
     "text": [
      "DEBUG flwr 2023-08-29 08:23:39,950 | server.py:187 | evaluate_round 20 received 5 results and 0 failures\n",
      "DEBUG flwr 2023-08-29 08:23:39,952 | server.py:222 | fit_round 21: strategy sampled 5 clients (out of 10)\n"
     ]
    },
    {
     "name": "stdout",
     "output_type": "stream",
     "text": [
      "agrregate_evaluate results list length is  5\n",
      "server round is  20\n",
      "loss is  0.8555555555555555\n"
     ]
    },
    {
     "name": "stderr",
     "output_type": "stream",
     "text": [
      "DEBUG flwr 2023-08-29 08:23:46,957 | server.py:236 | fit_round 21 received 5 results and 0 failures\n",
      "DEBUG flwr 2023-08-29 08:23:47,159 | server.py:173 | evaluate_round 21: strategy sampled 5 clients (out of 10)\n"
     ]
    },
    {
     "name": "stdout",
     "output_type": "stream",
     "text": [
      "agrregate_fit results list length is  5\n",
      "Saving round 21 aggregated_parameters...\n"
     ]
    },
    {
     "name": "stderr",
     "output_type": "stream",
     "text": [
      "DEBUG flwr 2023-08-29 08:23:47,770 | server.py:187 | evaluate_round 21 received 5 results and 0 failures\n",
      "DEBUG flwr 2023-08-29 08:23:47,772 | server.py:222 | fit_round 22: strategy sampled 5 clients (out of 10)\n"
     ]
    },
    {
     "name": "stdout",
     "output_type": "stream",
     "text": [
      "agrregate_evaluate results list length is  5\n",
      "server round is  21\n",
      "loss is  0.7777777777777778\n"
     ]
    },
    {
     "name": "stderr",
     "output_type": "stream",
     "text": [
      "DEBUG flwr 2023-08-29 08:23:55,157 | server.py:236 | fit_round 22 received 5 results and 0 failures\n"
     ]
    },
    {
     "name": "stdout",
     "output_type": "stream",
     "text": [
      "agrregate_fit results list length is  5\n",
      "Saving round 22 aggregated_parameters...\n"
     ]
    },
    {
     "name": "stderr",
     "output_type": "stream",
     "text": [
      "DEBUG flwr 2023-08-29 08:23:55,355 | server.py:173 | evaluate_round 22: strategy sampled 5 clients (out of 10)\n",
      "DEBUG flwr 2023-08-29 08:23:55,890 | server.py:187 | evaluate_round 22 received 5 results and 0 failures\n",
      "DEBUG flwr 2023-08-29 08:23:55,892 | server.py:222 | fit_round 23: strategy sampled 5 clients (out of 10)\n"
     ]
    },
    {
     "name": "stdout",
     "output_type": "stream",
     "text": [
      "agrregate_evaluate results list length is  5\n",
      "server round is  22\n",
      "loss is  0.7888888888888889\n"
     ]
    },
    {
     "name": "stderr",
     "output_type": "stream",
     "text": [
      "DEBUG flwr 2023-08-29 08:24:03,051 | server.py:236 | fit_round 23 received 5 results and 0 failures\n"
     ]
    },
    {
     "name": "stdout",
     "output_type": "stream",
     "text": [
      "agrregate_fit results list length is  5\n",
      "Saving round 23 aggregated_parameters...\n"
     ]
    },
    {
     "name": "stderr",
     "output_type": "stream",
     "text": [
      "DEBUG flwr 2023-08-29 08:24:03,284 | server.py:173 | evaluate_round 23: strategy sampled 5 clients (out of 10)\n",
      "DEBUG flwr 2023-08-29 08:24:03,989 | server.py:187 | evaluate_round 23 received 5 results and 0 failures\n",
      "DEBUG flwr 2023-08-29 08:24:03,992 | server.py:222 | fit_round 24: strategy sampled 5 clients (out of 10)\n"
     ]
    },
    {
     "name": "stdout",
     "output_type": "stream",
     "text": [
      "agrregate_evaluate results list length is  5\n",
      "server round is  23\n",
      "loss is  0.8055555555555556\n"
     ]
    },
    {
     "name": "stderr",
     "output_type": "stream",
     "text": [
      "DEBUG flwr 2023-08-29 08:24:12,775 | server.py:236 | fit_round 24 received 5 results and 0 failures\n",
      "DEBUG flwr 2023-08-29 08:24:12,960 | server.py:173 | evaluate_round 24: strategy sampled 5 clients (out of 10)\n"
     ]
    },
    {
     "name": "stdout",
     "output_type": "stream",
     "text": [
      "agrregate_fit results list length is  5\n",
      "Saving round 24 aggregated_parameters...\n"
     ]
    },
    {
     "name": "stderr",
     "output_type": "stream",
     "text": [
      "DEBUG flwr 2023-08-29 08:24:13,554 | server.py:187 | evaluate_round 24 received 5 results and 0 failures\n",
      "DEBUG flwr 2023-08-29 08:24:13,556 | server.py:222 | fit_round 25: strategy sampled 5 clients (out of 10)\n"
     ]
    },
    {
     "name": "stdout",
     "output_type": "stream",
     "text": [
      "agrregate_evaluate results list length is  5\n",
      "server round is  24\n",
      "loss is  0.7555555555555555\n"
     ]
    },
    {
     "name": "stderr",
     "output_type": "stream",
     "text": [
      "DEBUG flwr 2023-08-29 08:24:21,204 | server.py:236 | fit_round 25 received 5 results and 0 failures\n",
      "DEBUG flwr 2023-08-29 08:24:21,337 | server.py:173 | evaluate_round 25: strategy sampled 5 clients (out of 10)\n"
     ]
    },
    {
     "name": "stdout",
     "output_type": "stream",
     "text": [
      "agrregate_fit results list length is  5\n",
      "Saving round 25 aggregated_parameters...\n"
     ]
    },
    {
     "name": "stderr",
     "output_type": "stream",
     "text": [
      "DEBUG flwr 2023-08-29 08:24:21,878 | server.py:187 | evaluate_round 25 received 5 results and 0 failures\n",
      "DEBUG flwr 2023-08-29 08:24:21,878 | server.py:222 | fit_round 26: strategy sampled 5 clients (out of 10)\n"
     ]
    },
    {
     "name": "stdout",
     "output_type": "stream",
     "text": [
      "agrregate_evaluate results list length is  5\n",
      "server round is  25\n",
      "loss is  0.75\n"
     ]
    },
    {
     "name": "stderr",
     "output_type": "stream",
     "text": [
      "DEBUG flwr 2023-08-29 08:24:30,129 | server.py:236 | fit_round 26 received 5 results and 0 failures\n"
     ]
    },
    {
     "name": "stdout",
     "output_type": "stream",
     "text": [
      "agrregate_fit results list length is  5\n"
     ]
    },
    {
     "name": "stderr",
     "output_type": "stream",
     "text": [
      "DEBUG flwr 2023-08-29 08:24:30,535 | server.py:173 | evaluate_round 26: strategy sampled 5 clients (out of 10)\n"
     ]
    },
    {
     "name": "stdout",
     "output_type": "stream",
     "text": [
      "Saving round 26 aggregated_parameters...\n"
     ]
    },
    {
     "name": "stderr",
     "output_type": "stream",
     "text": [
      "DEBUG flwr 2023-08-29 08:24:31,485 | server.py:187 | evaluate_round 26 received 5 results and 0 failures\n",
      "DEBUG flwr 2023-08-29 08:24:31,489 | server.py:222 | fit_round 27: strategy sampled 5 clients (out of 10)\n"
     ]
    },
    {
     "name": "stdout",
     "output_type": "stream",
     "text": [
      "agrregate_evaluate results list length is  5\n",
      "server round is  26\n",
      "loss is  0.8055555555555556\n"
     ]
    },
    {
     "name": "stderr",
     "output_type": "stream",
     "text": [
      "DEBUG flwr 2023-08-29 08:24:38,791 | server.py:236 | fit_round 27 received 5 results and 0 failures\n",
      "DEBUG flwr 2023-08-29 08:24:38,930 | server.py:173 | evaluate_round 27: strategy sampled 5 clients (out of 10)\n"
     ]
    },
    {
     "name": "stdout",
     "output_type": "stream",
     "text": [
      "agrregate_fit results list length is  5\n",
      "Saving round 27 aggregated_parameters...\n"
     ]
    },
    {
     "name": "stderr",
     "output_type": "stream",
     "text": [
      "DEBUG flwr 2023-08-29 08:24:39,448 | server.py:187 | evaluate_round 27 received 5 results and 0 failures\n",
      "DEBUG flwr 2023-08-29 08:24:39,450 | server.py:222 | fit_round 28: strategy sampled 5 clients (out of 10)\n"
     ]
    },
    {
     "name": "stdout",
     "output_type": "stream",
     "text": [
      "agrregate_evaluate results list length is  5\n",
      "server round is  27\n",
      "loss is  0.7777777777777778\n"
     ]
    },
    {
     "name": "stderr",
     "output_type": "stream",
     "text": [
      "DEBUG flwr 2023-08-29 08:24:46,288 | server.py:236 | fit_round 28 received 5 results and 0 failures\n",
      "DEBUG flwr 2023-08-29 08:24:46,431 | server.py:173 | evaluate_round 28: strategy sampled 5 clients (out of 10)\n"
     ]
    },
    {
     "name": "stdout",
     "output_type": "stream",
     "text": [
      "agrregate_fit results list length is  5\n",
      "Saving round 28 aggregated_parameters...\n"
     ]
    },
    {
     "name": "stderr",
     "output_type": "stream",
     "text": [
      "DEBUG flwr 2023-08-29 08:24:46,959 | server.py:187 | evaluate_round 28 received 5 results and 0 failures\n",
      "DEBUG flwr 2023-08-29 08:24:46,962 | server.py:222 | fit_round 29: strategy sampled 5 clients (out of 10)\n"
     ]
    },
    {
     "name": "stdout",
     "output_type": "stream",
     "text": [
      "agrregate_evaluate results list length is  5\n",
      "server round is  28\n",
      "loss is  0.6888888888888889\n"
     ]
    },
    {
     "name": "stderr",
     "output_type": "stream",
     "text": [
      "DEBUG flwr 2023-08-29 08:24:53,592 | server.py:236 | fit_round 29 received 5 results and 0 failures\n",
      "DEBUG flwr 2023-08-29 08:24:53,733 | server.py:173 | evaluate_round 29: strategy sampled 5 clients (out of 10)\n"
     ]
    },
    {
     "name": "stdout",
     "output_type": "stream",
     "text": [
      "agrregate_fit results list length is  5\n",
      "Saving round 29 aggregated_parameters...\n"
     ]
    },
    {
     "name": "stderr",
     "output_type": "stream",
     "text": [
      "DEBUG flwr 2023-08-29 08:24:54,247 | server.py:187 | evaluate_round 29 received 5 results and 0 failures\n",
      "DEBUG flwr 2023-08-29 08:24:54,249 | server.py:222 | fit_round 30: strategy sampled 5 clients (out of 10)\n"
     ]
    },
    {
     "name": "stdout",
     "output_type": "stream",
     "text": [
      "agrregate_evaluate results list length is  5\n",
      "server round is  29\n",
      "loss is  0.6999999999999998\n"
     ]
    },
    {
     "name": "stderr",
     "output_type": "stream",
     "text": [
      "DEBUG flwr 2023-08-29 08:25:01,083 | server.py:236 | fit_round 30 received 5 results and 0 failures\n"
     ]
    },
    {
     "name": "stdout",
     "output_type": "stream",
     "text": [
      "agrregate_fit results list length is  5\n",
      "Saving round 30 aggregated_parameters...\n"
     ]
    },
    {
     "name": "stderr",
     "output_type": "stream",
     "text": [
      "DEBUG flwr 2023-08-29 08:25:01,306 | server.py:173 | evaluate_round 30: strategy sampled 5 clients (out of 10)\n",
      "DEBUG flwr 2023-08-29 08:25:01,859 | server.py:187 | evaluate_round 30 received 5 results and 0 failures\n",
      "DEBUG flwr 2023-08-29 08:25:01,860 | server.py:222 | fit_round 31: strategy sampled 5 clients (out of 10)\n"
     ]
    },
    {
     "name": "stdout",
     "output_type": "stream",
     "text": [
      "agrregate_evaluate results list length is  5\n",
      "server round is  30\n",
      "loss is  0.6999999999999998\n"
     ]
    },
    {
     "name": "stderr",
     "output_type": "stream",
     "text": [
      "DEBUG flwr 2023-08-29 08:25:09,160 | server.py:236 | fit_round 31 received 5 results and 0 failures\n",
      "DEBUG flwr 2023-08-29 08:25:09,300 | server.py:173 | evaluate_round 31: strategy sampled 5 clients (out of 10)\n"
     ]
    },
    {
     "name": "stdout",
     "output_type": "stream",
     "text": [
      "agrregate_fit results list length is  5\n",
      "Saving round 31 aggregated_parameters...\n"
     ]
    },
    {
     "name": "stderr",
     "output_type": "stream",
     "text": [
      "DEBUG flwr 2023-08-29 08:25:09,864 | server.py:187 | evaluate_round 31 received 5 results and 0 failures\n",
      "DEBUG flwr 2023-08-29 08:25:09,865 | server.py:222 | fit_round 32: strategy sampled 5 clients (out of 10)\n"
     ]
    },
    {
     "name": "stdout",
     "output_type": "stream",
     "text": [
      "agrregate_evaluate results list length is  5\n",
      "server round is  31\n",
      "loss is  0.6777777777777778\n"
     ]
    },
    {
     "name": "stderr",
     "output_type": "stream",
     "text": [
      "DEBUG flwr 2023-08-29 08:25:16,220 | server.py:236 | fit_round 32 received 5 results and 0 failures\n",
      "DEBUG flwr 2023-08-29 08:25:16,352 | server.py:173 | evaluate_round 32: strategy sampled 5 clients (out of 10)\n"
     ]
    },
    {
     "name": "stdout",
     "output_type": "stream",
     "text": [
      "agrregate_fit results list length is  5\n",
      "Saving round 32 aggregated_parameters...\n"
     ]
    },
    {
     "name": "stderr",
     "output_type": "stream",
     "text": [
      "DEBUG flwr 2023-08-29 08:25:16,885 | server.py:187 | evaluate_round 32 received 5 results and 0 failures\n",
      "DEBUG flwr 2023-08-29 08:25:16,886 | server.py:222 | fit_round 33: strategy sampled 5 clients (out of 10)\n"
     ]
    },
    {
     "name": "stdout",
     "output_type": "stream",
     "text": [
      "agrregate_evaluate results list length is  5\n",
      "server round is  32\n",
      "loss is  0.6666666666666666\n"
     ]
    },
    {
     "name": "stderr",
     "output_type": "stream",
     "text": [
      "DEBUG flwr 2023-08-29 08:25:23,637 | server.py:236 | fit_round 33 received 5 results and 0 failures\n",
      "DEBUG flwr 2023-08-29 08:25:23,777 | server.py:173 | evaluate_round 33: strategy sampled 5 clients (out of 10)\n"
     ]
    },
    {
     "name": "stdout",
     "output_type": "stream",
     "text": [
      "agrregate_fit results list length is  5\n",
      "Saving round 33 aggregated_parameters...\n"
     ]
    },
    {
     "name": "stderr",
     "output_type": "stream",
     "text": [
      "DEBUG flwr 2023-08-29 08:25:24,407 | server.py:187 | evaluate_round 33 received 5 results and 0 failures\n",
      "DEBUG flwr 2023-08-29 08:25:24,408 | server.py:222 | fit_round 34: strategy sampled 5 clients (out of 10)\n"
     ]
    },
    {
     "name": "stdout",
     "output_type": "stream",
     "text": [
      "agrregate_evaluate results list length is  5\n",
      "server round is  33\n",
      "loss is  0.7166666666666667\n"
     ]
    },
    {
     "name": "stderr",
     "output_type": "stream",
     "text": [
      "DEBUG flwr 2023-08-29 08:25:31,594 | server.py:236 | fit_round 34 received 5 results and 0 failures\n",
      "DEBUG flwr 2023-08-29 08:25:31,742 | server.py:173 | evaluate_round 34: strategy sampled 5 clients (out of 10)\n"
     ]
    },
    {
     "name": "stdout",
     "output_type": "stream",
     "text": [
      "agrregate_fit results list length is  5\n",
      "Saving round 34 aggregated_parameters...\n"
     ]
    },
    {
     "name": "stderr",
     "output_type": "stream",
     "text": [
      "DEBUG flwr 2023-08-29 08:25:32,310 | server.py:187 | evaluate_round 34 received 5 results and 0 failures\n",
      "DEBUG flwr 2023-08-29 08:25:32,312 | server.py:222 | fit_round 35: strategy sampled 5 clients (out of 10)\n"
     ]
    },
    {
     "name": "stdout",
     "output_type": "stream",
     "text": [
      "agrregate_evaluate results list length is  5\n",
      "server round is  34\n",
      "loss is  0.6833333333333333\n"
     ]
    },
    {
     "name": "stderr",
     "output_type": "stream",
     "text": [
      "DEBUG flwr 2023-08-29 08:25:40,457 | server.py:236 | fit_round 35 received 5 results and 0 failures\n"
     ]
    },
    {
     "name": "stdout",
     "output_type": "stream",
     "text": [
      "agrregate_fit results list length is  5\n",
      "Saving round 35 aggregated_parameters...\n"
     ]
    },
    {
     "name": "stderr",
     "output_type": "stream",
     "text": [
      "DEBUG flwr 2023-08-29 08:25:40,719 | server.py:173 | evaluate_round 35: strategy sampled 5 clients (out of 10)\n",
      "DEBUG flwr 2023-08-29 08:25:41,365 | server.py:187 | evaluate_round 35 received 5 results and 0 failures\n",
      "DEBUG flwr 2023-08-29 08:25:41,367 | server.py:222 | fit_round 36: strategy sampled 5 clients (out of 10)\n"
     ]
    },
    {
     "name": "stdout",
     "output_type": "stream",
     "text": [
      "agrregate_evaluate results list length is  5\n",
      "server round is  35\n",
      "loss is  0.6722222222222224\n"
     ]
    },
    {
     "name": "stderr",
     "output_type": "stream",
     "text": [
      "DEBUG flwr 2023-08-29 08:25:47,678 | server.py:236 | fit_round 36 received 5 results and 0 failures\n",
      "DEBUG flwr 2023-08-29 08:25:47,814 | server.py:173 | evaluate_round 36: strategy sampled 5 clients (out of 10)\n"
     ]
    },
    {
     "name": "stdout",
     "output_type": "stream",
     "text": [
      "agrregate_fit results list length is  5\n",
      "Saving round 36 aggregated_parameters...\n"
     ]
    },
    {
     "name": "stderr",
     "output_type": "stream",
     "text": [
      "DEBUG flwr 2023-08-29 08:25:48,331 | server.py:187 | evaluate_round 36 received 5 results and 0 failures\n",
      "DEBUG flwr 2023-08-29 08:25:48,333 | server.py:222 | fit_round 37: strategy sampled 5 clients (out of 10)\n"
     ]
    },
    {
     "name": "stdout",
     "output_type": "stream",
     "text": [
      "agrregate_evaluate results list length is  5\n",
      "server round is  36\n",
      "loss is  0.6944444444444444\n"
     ]
    },
    {
     "name": "stderr",
     "output_type": "stream",
     "text": [
      "DEBUG flwr 2023-08-29 08:25:55,360 | server.py:236 | fit_round 37 received 5 results and 0 failures\n",
      "DEBUG flwr 2023-08-29 08:25:55,510 | server.py:173 | evaluate_round 37: strategy sampled 5 clients (out of 10)\n"
     ]
    },
    {
     "name": "stdout",
     "output_type": "stream",
     "text": [
      "agrregate_fit results list length is  5\n",
      "Saving round 37 aggregated_parameters...\n"
     ]
    },
    {
     "name": "stderr",
     "output_type": "stream",
     "text": [
      "DEBUG flwr 2023-08-29 08:25:55,990 | server.py:187 | evaluate_round 37 received 5 results and 0 failures\n",
      "DEBUG flwr 2023-08-29 08:25:55,992 | server.py:222 | fit_round 38: strategy sampled 5 clients (out of 10)\n"
     ]
    },
    {
     "name": "stdout",
     "output_type": "stream",
     "text": [
      "agrregate_evaluate results list length is  5\n",
      "server round is  37\n",
      "loss is  0.6777777777777778\n"
     ]
    },
    {
     "name": "stderr",
     "output_type": "stream",
     "text": [
      "DEBUG flwr 2023-08-29 08:26:02,268 | server.py:236 | fit_round 38 received 5 results and 0 failures\n",
      "DEBUG flwr 2023-08-29 08:26:02,408 | server.py:173 | evaluate_round 38: strategy sampled 5 clients (out of 10)\n"
     ]
    },
    {
     "name": "stdout",
     "output_type": "stream",
     "text": [
      "agrregate_fit results list length is  5\n",
      "Saving round 38 aggregated_parameters...\n"
     ]
    },
    {
     "name": "stderr",
     "output_type": "stream",
     "text": [
      "DEBUG flwr 2023-08-29 08:26:02,968 | server.py:187 | evaluate_round 38 received 5 results and 0 failures\n",
      "DEBUG flwr 2023-08-29 08:26:02,970 | server.py:222 | fit_round 39: strategy sampled 5 clients (out of 10)\n"
     ]
    },
    {
     "name": "stdout",
     "output_type": "stream",
     "text": [
      "agrregate_evaluate results list length is  5\n",
      "server round is  38\n",
      "loss is  0.6833333333333333\n"
     ]
    },
    {
     "name": "stderr",
     "output_type": "stream",
     "text": [
      "DEBUG flwr 2023-08-29 08:26:10,343 | server.py:236 | fit_round 39 received 5 results and 0 failures\n"
     ]
    },
    {
     "name": "stdout",
     "output_type": "stream",
     "text": [
      "agrregate_fit results list length is  5\n",
      "Saving round 39 aggregated_parameters...\n"
     ]
    },
    {
     "name": "stderr",
     "output_type": "stream",
     "text": [
      "DEBUG flwr 2023-08-29 08:26:10,560 | server.py:173 | evaluate_round 39: strategy sampled 5 clients (out of 10)\n",
      "DEBUG flwr 2023-08-29 08:26:11,070 | server.py:187 | evaluate_round 39 received 5 results and 0 failures\n",
      "DEBUG flwr 2023-08-29 08:26:11,072 | server.py:222 | fit_round 40: strategy sampled 5 clients (out of 10)\n"
     ]
    },
    {
     "name": "stdout",
     "output_type": "stream",
     "text": [
      "agrregate_evaluate results list length is  5\n",
      "server round is  39\n",
      "loss is  0.6777777777777778\n"
     ]
    },
    {
     "name": "stderr",
     "output_type": "stream",
     "text": [
      "DEBUG flwr 2023-08-29 08:26:17,942 | server.py:236 | fit_round 40 received 5 results and 0 failures\n",
      "DEBUG flwr 2023-08-29 08:26:18,080 | server.py:173 | evaluate_round 40: strategy sampled 5 clients (out of 10)\n"
     ]
    },
    {
     "name": "stdout",
     "output_type": "stream",
     "text": [
      "agrregate_fit results list length is  5\n",
      "Saving round 40 aggregated_parameters...\n"
     ]
    },
    {
     "name": "stderr",
     "output_type": "stream",
     "text": [
      "DEBUG flwr 2023-08-29 08:26:18,630 | server.py:187 | evaluate_round 40 received 5 results and 0 failures\n",
      "INFO flwr 2023-08-29 08:26:18,632 | server.py:153 | FL finished in 307.14734119999775\n",
      "INFO flwr 2023-08-29 08:26:18,636 | app.py:225 | app_fit: losses_distributed [(1, 10.105555555555556), (2, 8.544444444444444), (3, 6.8), (4, 4.427777777777778), (5, 3.1444444444444444), (6, 1.788888888888889), (7, 1.6111111111111112), (8, 1.2833333333333337), (9, 1.05), (10, 1.0277777777777777), (11, 1.0222222222222221), (12, 0.8166666666666667), (13, 0.8), (14, 0.8388888888888889), (15, 0.8777777777777778), (16, 0.8444444444444444), (17, 0.85), (18, 0.8166666666666667), (19, 0.85), (20, 0.8555555555555555), (21, 0.7777777777777778), (22, 0.7888888888888889), (23, 0.8055555555555556), (24, 0.7555555555555555), (25, 0.75), (26, 0.8055555555555556), (27, 0.7777777777777778), (28, 0.6888888888888889), (29, 0.6999999999999998), (30, 0.6999999999999998), (31, 0.6777777777777778), (32, 0.6666666666666666), (33, 0.7166666666666667), (34, 0.6833333333333333), (35, 0.6722222222222224), (36, 0.6944444444444444), (37, 0.6777777777777778), (38, 0.6833333333333333), (39, 0.6777777777777778), (40, 0.6444444444444446)]\n",
      "INFO flwr 2023-08-29 08:26:18,638 | app.py:226 | app_fit: metrics_distributed_fit {}\n",
      "INFO flwr 2023-08-29 08:26:18,639 | app.py:227 | app_fit: metrics_distributed {'mse': [(1, 50.52777777777778), (2, 42.72222222222222), (3, 34.0), (4, 22.13888888888889), (5, 15.722222222222221), (6, 8.944444444444445), (7, 8.055555555555555), (8, 6.416666666666667), (9, 5.25), (10, 5.138888888888888), (11, 5.111111111111111), (12, 4.083333333333333), (13, 4.0), (14, 4.194444444444445), (15, 4.388888888888889), (16, 4.222222222222222), (17, 4.25), (18, 4.083333333333333), (19, 4.25), (20, 4.277777777777778), (21, 3.888888888888889), (22, 3.944444444444444), (23, 4.027777777777778), (24, 3.7777777777777777), (25, 3.75), (26, 4.027777777777778), (27, 3.888888888888889), (28, 3.4444444444444446), (29, 3.5), (30, 3.5), (31, 3.3888888888888893), (32, 3.333333333333333), (33, 3.5833333333333335), (34, 3.416666666666667), (35, 3.3611111111111116), (36, 3.4722222222222223), (37, 3.3888888888888893), (38, 3.416666666666667), (39, 3.3888888888888893), (40, 3.2222222222222223)]}\n",
      "INFO flwr 2023-08-29 08:26:18,640 | app.py:228 | app_fit: losses_centralized []\n",
      "INFO flwr 2023-08-29 08:26:18,640 | app.py:229 | app_fit: metrics_centralized {}\n"
     ]
    },
    {
     "name": "stdout",
     "output_type": "stream",
     "text": [
      "agrregate_evaluate results list length is  5\n",
      "server round is  40\n",
      "loss is  0.6444444444444446\n",
      "History (loss, distributed):\n",
      "\tround 1: 10.105555555555556\n",
      "\tround 2: 8.544444444444444\n",
      "\tround 3: 6.8\n",
      "\tround 4: 4.427777777777778\n",
      "\tround 5: 3.1444444444444444\n",
      "\tround 6: 1.788888888888889\n",
      "\tround 7: 1.6111111111111112\n",
      "\tround 8: 1.2833333333333337\n",
      "\tround 9: 1.05\n",
      "\tround 10: 1.0277777777777777\n",
      "\tround 11: 1.0222222222222221\n",
      "\tround 12: 0.8166666666666667\n",
      "\tround 13: 0.8\n",
      "\tround 14: 0.8388888888888889\n",
      "\tround 15: 0.8777777777777778\n",
      "\tround 16: 0.8444444444444444\n",
      "\tround 17: 0.85\n",
      "\tround 18: 0.8166666666666667\n",
      "\tround 19: 0.85\n",
      "\tround 20: 0.8555555555555555\n",
      "\tround 21: 0.7777777777777778\n",
      "\tround 22: 0.7888888888888889\n",
      "\tround 23: 0.8055555555555556\n",
      "\tround 24: 0.7555555555555555\n",
      "\tround 25: 0.75\n",
      "\tround 26: 0.8055555555555556\n",
      "\tround 27: 0.7777777777777778\n",
      "\tround 28: 0.6888888888888889\n",
      "\tround 29: 0.6999999999999998\n",
      "\tround 30: 0.6999999999999998\n",
      "\tround 31: 0.6777777777777778\n",
      "\tround 32: 0.6666666666666666\n",
      "\tround 33: 0.7166666666666667\n",
      "\tround 34: 0.6833333333333333\n",
      "\tround 35: 0.6722222222222224\n",
      "\tround 36: 0.6944444444444444\n",
      "\tround 37: 0.6777777777777778\n",
      "\tround 38: 0.6833333333333333\n",
      "\tround 39: 0.6777777777777778\n",
      "\tround 40: 0.6444444444444446\n",
      "History (metrics, distributed, evaluate):\n",
      "{'mse': [(1, 50.52777777777778), (2, 42.72222222222222), (3, 34.0), (4, 22.13888888888889), (5, 15.722222222222221), (6, 8.944444444444445), (7, 8.055555555555555), (8, 6.416666666666667), (9, 5.25), (10, 5.138888888888888), (11, 5.111111111111111), (12, 4.083333333333333), (13, 4.0), (14, 4.194444444444445), (15, 4.388888888888889), (16, 4.222222222222222), (17, 4.25), (18, 4.083333333333333), (19, 4.25), (20, 4.277777777777778), (21, 3.888888888888889), (22, 3.944444444444444), (23, 4.027777777777778), (24, 3.7777777777777777), (25, 3.75), (26, 4.027777777777778), (27, 3.888888888888889), (28, 3.4444444444444446), (29, 3.5), (30, 3.5), (31, 3.3888888888888893), (32, 3.333333333333333), (33, 3.5833333333333335), (34, 3.416666666666667), (35, 3.3611111111111116), (36, 3.4722222222222223), (37, 3.3888888888888893), (38, 3.416666666666667), (39, 3.3888888888888893), (40, 3.2222222222222223)]}\n",
      "[(1, 10.105555555555556), (2, 8.544444444444444), (3, 6.8), (4, 4.427777777777778), (5, 3.1444444444444444), (6, 1.788888888888889), (7, 1.6111111111111112), (8, 1.2833333333333337), (9, 1.05), (10, 1.0277777777777777), (11, 1.0222222222222221), (12, 0.8166666666666667), (13, 0.8), (14, 0.8388888888888889), (15, 0.8777777777777778), (16, 0.8444444444444444), (17, 0.85), (18, 0.8166666666666667), (19, 0.85), (20, 0.8555555555555555), (21, 0.7777777777777778), (22, 0.7888888888888889), (23, 0.8055555555555556), (24, 0.7555555555555555), (25, 0.75), (26, 0.8055555555555556), (27, 0.7777777777777778), (28, 0.6888888888888889), (29, 0.6999999999999998), (30, 0.6999999999999998), (31, 0.6777777777777778), (32, 0.6666666666666666), (33, 0.7166666666666667), (34, 0.6833333333333333), (35, 0.6722222222222224), (36, 0.6944444444444444), (37, 0.6777777777777778), (38, 0.6833333333333333), (39, 0.6777777777777778), (40, 0.6444444444444446)]\n",
      "splitting: [0.1, 0.1, 0.1, 0.1, 0.1, 0.1, 0.1, 0.1, 0.1, 0.1]\n",
      "mse: [0.6353591160220995, 0.7888888888888889, 0.6944444444444444, 0.5611111111111111, 0.6444444444444445]\n",
      "auc:  [0.9726456847799361, 0.9690721649484536, 0.9777750339548091, 0.9888544891640867, 0.9767730716681158]\n",
      "Training time:  0:26:10.487494\n"
     ]
    }
   ],
   "source": [
    "split = [0.1, 0.1, 0.1, 0.1, 0.1, 0.1, 0.1, 0.1, 0.1, 0.1]\n",
    "do_fl(split)"
   ],
   "metadata": {
    "collapsed": false,
    "ExecuteTime": {
     "end_time": "2023-08-29T07:26:18.849269300Z",
     "start_time": "2023-08-29T07:00:08.333896300Z"
    }
   }
  },
  {
   "cell_type": "code",
   "execution_count": 16,
   "outputs": [
    {
     "name": "stderr",
     "output_type": "stream",
     "text": [
      "C:\\Users\\Shuyao\\AppData\\Local\\Temp\\ipykernel_11996\\3421847257.py:35: UserWarning: To copy construct from a tensor, it is recommended to use sourceTensor.clone().detach() or sourceTensor.clone().detach().requires_grad_(True), rather than torch.tensor(sourceTensor).\n",
      "  y_train = torch.reshape(torch.tensor(y_train), (-1, 1))\n",
      "C:\\Users\\Shuyao\\AppData\\Local\\Temp\\ipykernel_11996\\3421847257.py:36: UserWarning: To copy construct from a tensor, it is recommended to use sourceTensor.clone().detach() or sourceTensor.clone().detach().requires_grad_(True), rather than torch.tensor(sourceTensor).\n",
      "  y_test = torch.reshape(torch.tensor(y_test), (-1, 1))\n",
      "INFO flwr 2023-08-29 08:26:18,932 | app.py:145 | Starting Flower simulation, config: ServerConfig(num_rounds=40, round_timeout=None)\n"
     ]
    },
    {
     "name": "stdout",
     "output_type": "stream",
     "text": [
      "<class 'torch.Tensor'>\n",
      "<class 'torch.Tensor'>\n",
      "Fold 1:\n",
      "Client 0 trainset shape torch.Size([440, 3, 23])\n",
      "Client 1 trainset shape torch.Size([28, 3, 23])\n",
      "Client 2 trainset shape torch.Size([28, 3, 23])\n",
      "Client 3 trainset shape torch.Size([28, 3, 23])\n",
      "Client 4 trainset shape torch.Size([28, 3, 23])\n",
      "Client 5 trainset shape torch.Size([28, 3, 23])\n",
      "Client 6 trainset shape torch.Size([28, 3, 23])\n",
      "Client 7 trainset shape torch.Size([28, 3, 23])\n",
      "Client 8 trainset shape torch.Size([28, 3, 23])\n",
      "Client 9 trainset shape torch.Size([28, 3, 23])\n"
     ]
    },
    {
     "name": "stderr",
     "output_type": "stream",
     "text": [
      "2023-08-29 08:26:27,400\tINFO worker.py:1627 -- Started a local Ray instance. View the dashboard at \u001B[1m\u001B[32m127.0.0.1:8265 \u001B[39m\u001B[22m\n",
      "INFO flwr 2023-08-29 08:26:31,925 | app.py:179 | Flower VCE: Ray initialized with resources: {'CPU': 8.0, 'object_store_memory': 1043000524.0, 'node:127.0.0.1': 1.0, 'memory': 2086001051.0, 'GPU': 1.0}\n",
      "INFO flwr 2023-08-29 08:26:31,926 | server.py:89 | Initializing global parameters\n",
      "INFO flwr 2023-08-29 08:26:31,927 | server.py:276 | Requesting initial parameters from one random client\n",
      "INFO flwr 2023-08-29 08:26:35,061 | server.py:280 | Received initial parameters from one random client\n",
      "INFO flwr 2023-08-29 08:26:35,062 | server.py:91 | Evaluating initial parameters\n",
      "INFO flwr 2023-08-29 08:26:35,062 | server.py:104 | FL starting\n",
      "DEBUG flwr 2023-08-29 08:26:35,063 | server.py:222 | fit_round 1: strategy sampled 5 clients (out of 10)\n",
      "DEBUG flwr 2023-08-29 08:26:41,943 | server.py:236 | fit_round 1 received 5 results and 0 failures\n",
      "WARNING flwr 2023-08-29 08:26:42,062 | fedavg.py:242 | No fit_metrics_aggregation_fn provided\n",
      "DEBUG flwr 2023-08-29 08:26:42,109 | server.py:173 | evaluate_round 1: strategy sampled 5 clients (out of 10)\n"
     ]
    },
    {
     "name": "stdout",
     "output_type": "stream",
     "text": [
      "agrregate_fit results list length is  5\n",
      "Saving round 1 aggregated_parameters...\n"
     ]
    },
    {
     "name": "stderr",
     "output_type": "stream",
     "text": [
      "DEBUG flwr 2023-08-29 08:26:42,578 | server.py:187 | evaluate_round 1 received 5 results and 0 failures\n",
      "DEBUG flwr 2023-08-29 08:26:42,580 | server.py:222 | fit_round 2: strategy sampled 5 clients (out of 10)\n"
     ]
    },
    {
     "name": "stdout",
     "output_type": "stream",
     "text": [
      "agrregate_evaluate results list length is  5\n",
      "server round is  1\n",
      "loss is  6.071823204419889\n"
     ]
    },
    {
     "name": "stderr",
     "output_type": "stream",
     "text": [
      "DEBUG flwr 2023-08-29 08:27:00,830 | server.py:236 | fit_round 2 received 5 results and 0 failures\n",
      "DEBUG flwr 2023-08-29 08:27:00,965 | server.py:173 | evaluate_round 2: strategy sampled 5 clients (out of 10)\n"
     ]
    },
    {
     "name": "stdout",
     "output_type": "stream",
     "text": [
      "agrregate_fit results list length is  5\n",
      "Saving round 2 aggregated_parameters...\n"
     ]
    },
    {
     "name": "stderr",
     "output_type": "stream",
     "text": [
      "DEBUG flwr 2023-08-29 08:27:01,443 | server.py:187 | evaluate_round 2 received 5 results and 0 failures\n",
      "DEBUG flwr 2023-08-29 08:27:01,445 | server.py:222 | fit_round 3: strategy sampled 5 clients (out of 10)\n"
     ]
    },
    {
     "name": "stdout",
     "output_type": "stream",
     "text": [
      "agrregate_evaluate results list length is  5\n",
      "server round is  2\n",
      "loss is  3.552486187845304\n"
     ]
    },
    {
     "name": "stderr",
     "output_type": "stream",
     "text": [
      "DEBUG flwr 2023-08-29 08:27:05,405 | server.py:236 | fit_round 3 received 5 results and 0 failures\n"
     ]
    },
    {
     "name": "stdout",
     "output_type": "stream",
     "text": [
      "agrregate_fit results list length is  5\n",
      "Saving round 3 aggregated_parameters...\n"
     ]
    },
    {
     "name": "stderr",
     "output_type": "stream",
     "text": [
      "DEBUG flwr 2023-08-29 08:27:05,623 | server.py:173 | evaluate_round 3: strategy sampled 5 clients (out of 10)\n",
      "DEBUG flwr 2023-08-29 08:27:06,388 | server.py:187 | evaluate_round 3 received 5 results and 0 failures\n",
      "DEBUG flwr 2023-08-29 08:27:06,390 | server.py:222 | fit_round 4: strategy sampled 5 clients (out of 10)\n"
     ]
    },
    {
     "name": "stdout",
     "output_type": "stream",
     "text": [
      "agrregate_evaluate results list length is  5\n",
      "server round is  3\n",
      "loss is  3.403314917127072\n"
     ]
    },
    {
     "name": "stderr",
     "output_type": "stream",
     "text": [
      "DEBUG flwr 2023-08-29 08:27:09,970 | server.py:236 | fit_round 4 received 5 results and 0 failures\n",
      "DEBUG flwr 2023-08-29 08:27:10,125 | server.py:173 | evaluate_round 4: strategy sampled 5 clients (out of 10)\n"
     ]
    },
    {
     "name": "stdout",
     "output_type": "stream",
     "text": [
      "agrregate_fit results list length is  5\n",
      "Saving round 4 aggregated_parameters...\n"
     ]
    },
    {
     "name": "stderr",
     "output_type": "stream",
     "text": [
      "DEBUG flwr 2023-08-29 08:27:10,752 | server.py:187 | evaluate_round 4 received 5 results and 0 failures\n",
      "DEBUG flwr 2023-08-29 08:27:10,755 | server.py:222 | fit_round 5: strategy sampled 5 clients (out of 10)\n"
     ]
    },
    {
     "name": "stdout",
     "output_type": "stream",
     "text": [
      "agrregate_evaluate results list length is  5\n",
      "server round is  4\n",
      "loss is  2.1215469613259668\n"
     ]
    },
    {
     "name": "stderr",
     "output_type": "stream",
     "text": [
      "DEBUG flwr 2023-08-29 08:27:26,125 | server.py:236 | fit_round 5 received 5 results and 0 failures\n",
      "DEBUG flwr 2023-08-29 08:27:26,263 | server.py:173 | evaluate_round 5: strategy sampled 5 clients (out of 10)\n"
     ]
    },
    {
     "name": "stdout",
     "output_type": "stream",
     "text": [
      "agrregate_fit results list length is  5\n",
      "Saving round 5 aggregated_parameters...\n"
     ]
    },
    {
     "name": "stderr",
     "output_type": "stream",
     "text": [
      "DEBUG flwr 2023-08-29 08:27:26,809 | server.py:187 | evaluate_round 5 received 5 results and 0 failures\n",
      "DEBUG flwr 2023-08-29 08:27:26,811 | server.py:222 | fit_round 6: strategy sampled 5 clients (out of 10)\n"
     ]
    },
    {
     "name": "stdout",
     "output_type": "stream",
     "text": [
      "agrregate_evaluate results list length is  5\n",
      "server round is  5\n",
      "loss is  1.1546961325966851\n"
     ]
    },
    {
     "name": "stderr",
     "output_type": "stream",
     "text": [
      "DEBUG flwr 2023-08-29 08:27:29,588 | server.py:236 | fit_round 6 received 5 results and 0 failures\n",
      "DEBUG flwr 2023-08-29 08:27:29,792 | server.py:173 | evaluate_round 6: strategy sampled 5 clients (out of 10)\n"
     ]
    },
    {
     "name": "stdout",
     "output_type": "stream",
     "text": [
      "agrregate_fit results list length is  5\n",
      "Saving round 6 aggregated_parameters...\n"
     ]
    },
    {
     "name": "stderr",
     "output_type": "stream",
     "text": [
      "DEBUG flwr 2023-08-29 08:27:30,473 | server.py:187 | evaluate_round 6 received 5 results and 0 failures\n",
      "DEBUG flwr 2023-08-29 08:27:30,475 | server.py:222 | fit_round 7: strategy sampled 5 clients (out of 10)\n"
     ]
    },
    {
     "name": "stdout",
     "output_type": "stream",
     "text": [
      "agrregate_evaluate results list length is  5\n",
      "server round is  6\n",
      "loss is  1.2265193370165746\n"
     ]
    },
    {
     "name": "stderr",
     "output_type": "stream",
     "text": [
      "DEBUG flwr 2023-08-29 08:27:33,344 | server.py:236 | fit_round 7 received 5 results and 0 failures\n",
      "DEBUG flwr 2023-08-29 08:27:33,500 | server.py:173 | evaluate_round 7: strategy sampled 5 clients (out of 10)\n"
     ]
    },
    {
     "name": "stdout",
     "output_type": "stream",
     "text": [
      "agrregate_fit results list length is  5\n",
      "Saving round 7 aggregated_parameters...\n"
     ]
    },
    {
     "name": "stderr",
     "output_type": "stream",
     "text": [
      "DEBUG flwr 2023-08-29 08:27:34,050 | server.py:187 | evaluate_round 7 received 5 results and 0 failures\n",
      "DEBUG flwr 2023-08-29 08:27:34,052 | server.py:222 | fit_round 8: strategy sampled 5 clients (out of 10)\n"
     ]
    },
    {
     "name": "stdout",
     "output_type": "stream",
     "text": [
      "agrregate_evaluate results list length is  5\n",
      "server round is  7\n",
      "loss is  1.1546961325966851\n"
     ]
    },
    {
     "name": "stderr",
     "output_type": "stream",
     "text": [
      "DEBUG flwr 2023-08-29 08:27:49,775 | server.py:236 | fit_round 8 received 5 results and 0 failures\n",
      "DEBUG flwr 2023-08-29 08:27:49,956 | server.py:173 | evaluate_round 8: strategy sampled 5 clients (out of 10)\n"
     ]
    },
    {
     "name": "stdout",
     "output_type": "stream",
     "text": [
      "agrregate_fit results list length is  5\n",
      "Saving round 8 aggregated_parameters...\n"
     ]
    },
    {
     "name": "stderr",
     "output_type": "stream",
     "text": [
      "DEBUG flwr 2023-08-29 08:27:50,456 | server.py:187 | evaluate_round 8 received 5 results and 0 failures\n",
      "DEBUG flwr 2023-08-29 08:27:50,457 | server.py:222 | fit_round 9: strategy sampled 5 clients (out of 10)\n"
     ]
    },
    {
     "name": "stdout",
     "output_type": "stream",
     "text": [
      "agrregate_evaluate results list length is  5\n",
      "server round is  8\n",
      "loss is  0.7955801104972375\n"
     ]
    },
    {
     "name": "stderr",
     "output_type": "stream",
     "text": [
      "DEBUG flwr 2023-08-29 08:27:53,610 | server.py:236 | fit_round 9 received 5 results and 0 failures\n"
     ]
    },
    {
     "name": "stdout",
     "output_type": "stream",
     "text": [
      "agrregate_fit results list length is  5\n",
      "Saving round 9 aggregated_parameters...\n"
     ]
    },
    {
     "name": "stderr",
     "output_type": "stream",
     "text": [
      "DEBUG flwr 2023-08-29 08:27:53,836 | server.py:173 | evaluate_round 9: strategy sampled 5 clients (out of 10)\n",
      "DEBUG flwr 2023-08-29 08:27:54,370 | server.py:187 | evaluate_round 9 received 5 results and 0 failures\n",
      "DEBUG flwr 2023-08-29 08:27:54,372 | server.py:222 | fit_round 10: strategy sampled 5 clients (out of 10)\n"
     ]
    },
    {
     "name": "stdout",
     "output_type": "stream",
     "text": [
      "agrregate_evaluate results list length is  5\n",
      "server round is  9\n",
      "loss is  0.7734806629834254\n"
     ]
    },
    {
     "name": "stderr",
     "output_type": "stream",
     "text": [
      "DEBUG flwr 2023-08-29 08:27:57,895 | server.py:236 | fit_round 10 received 5 results and 0 failures\n",
      "DEBUG flwr 2023-08-29 08:27:58,047 | server.py:173 | evaluate_round 10: strategy sampled 5 clients (out of 10)\n"
     ]
    },
    {
     "name": "stdout",
     "output_type": "stream",
     "text": [
      "agrregate_fit results list length is  5\n",
      "Saving round 10 aggregated_parameters...\n"
     ]
    },
    {
     "name": "stderr",
     "output_type": "stream",
     "text": [
      "DEBUG flwr 2023-08-29 08:27:58,679 | server.py:187 | evaluate_round 10 received 5 results and 0 failures\n",
      "DEBUG flwr 2023-08-29 08:27:58,681 | server.py:222 | fit_round 11: strategy sampled 5 clients (out of 10)\n"
     ]
    },
    {
     "name": "stdout",
     "output_type": "stream",
     "text": [
      "agrregate_evaluate results list length is  5\n",
      "server round is  10\n",
      "loss is  0.7237569060773481\n"
     ]
    },
    {
     "name": "stderr",
     "output_type": "stream",
     "text": [
      "DEBUG flwr 2023-08-29 08:28:16,559 | server.py:236 | fit_round 11 received 5 results and 0 failures\n",
      "DEBUG flwr 2023-08-29 08:28:16,690 | server.py:173 | evaluate_round 11: strategy sampled 5 clients (out of 10)\n"
     ]
    },
    {
     "name": "stdout",
     "output_type": "stream",
     "text": [
      "agrregate_fit results list length is  5\n",
      "Saving round 11 aggregated_parameters...\n"
     ]
    },
    {
     "name": "stderr",
     "output_type": "stream",
     "text": [
      "DEBUG flwr 2023-08-29 08:28:17,155 | server.py:187 | evaluate_round 11 received 5 results and 0 failures\n",
      "DEBUG flwr 2023-08-29 08:28:17,157 | server.py:222 | fit_round 12: strategy sampled 5 clients (out of 10)\n"
     ]
    },
    {
     "name": "stdout",
     "output_type": "stream",
     "text": [
      "agrregate_evaluate results list length is  5\n",
      "server round is  11\n",
      "loss is  0.7734806629834254\n"
     ]
    },
    {
     "name": "stderr",
     "output_type": "stream",
     "text": [
      "DEBUG flwr 2023-08-29 08:28:20,111 | server.py:236 | fit_round 12 received 5 results and 0 failures\n",
      "DEBUG flwr 2023-08-29 08:28:20,264 | server.py:173 | evaluate_round 12: strategy sampled 5 clients (out of 10)\n"
     ]
    },
    {
     "name": "stdout",
     "output_type": "stream",
     "text": [
      "agrregate_fit results list length is  5\n",
      "Saving round 12 aggregated_parameters...\n"
     ]
    },
    {
     "name": "stderr",
     "output_type": "stream",
     "text": [
      "DEBUG flwr 2023-08-29 08:28:20,852 | server.py:187 | evaluate_round 12 received 5 results and 0 failures\n",
      "DEBUG flwr 2023-08-29 08:28:20,854 | server.py:222 | fit_round 13: strategy sampled 5 clients (out of 10)\n"
     ]
    },
    {
     "name": "stdout",
     "output_type": "stream",
     "text": [
      "agrregate_evaluate results list length is  5\n",
      "server round is  12\n",
      "loss is  0.6961325966850829\n"
     ]
    },
    {
     "name": "stderr",
     "output_type": "stream",
     "text": [
      "DEBUG flwr 2023-08-29 08:28:23,912 | server.py:236 | fit_round 13 received 5 results and 0 failures\n",
      "DEBUG flwr 2023-08-29 08:28:24,116 | server.py:173 | evaluate_round 13: strategy sampled 5 clients (out of 10)\n"
     ]
    },
    {
     "name": "stdout",
     "output_type": "stream",
     "text": [
      "agrregate_fit results list length is  5\n",
      "Saving round 13 aggregated_parameters...\n"
     ]
    },
    {
     "name": "stderr",
     "output_type": "stream",
     "text": [
      "DEBUG flwr 2023-08-29 08:28:24,666 | server.py:187 | evaluate_round 13 received 5 results and 0 failures\n",
      "DEBUG flwr 2023-08-29 08:28:24,667 | server.py:222 | fit_round 14: strategy sampled 5 clients (out of 10)\n"
     ]
    },
    {
     "name": "stdout",
     "output_type": "stream",
     "text": [
      "agrregate_evaluate results list length is  5\n",
      "server round is  13\n",
      "loss is  0.6961325966850829\n"
     ]
    },
    {
     "name": "stderr",
     "output_type": "stream",
     "text": [
      "DEBUG flwr 2023-08-29 08:28:40,428 | server.py:236 | fit_round 14 received 5 results and 0 failures\n",
      "DEBUG flwr 2023-08-29 08:28:40,554 | server.py:173 | evaluate_round 14: strategy sampled 5 clients (out of 10)\n"
     ]
    },
    {
     "name": "stdout",
     "output_type": "stream",
     "text": [
      "agrregate_fit results list length is  5\n",
      "Saving round 14 aggregated_parameters...\n"
     ]
    },
    {
     "name": "stderr",
     "output_type": "stream",
     "text": [
      "DEBUG flwr 2023-08-29 08:28:41,074 | server.py:187 | evaluate_round 14 received 5 results and 0 failures\n",
      "DEBUG flwr 2023-08-29 08:28:41,076 | server.py:222 | fit_round 15: strategy sampled 5 clients (out of 10)\n"
     ]
    },
    {
     "name": "stdout",
     "output_type": "stream",
     "text": [
      "agrregate_evaluate results list length is  5\n",
      "server round is  14\n",
      "loss is  0.6961325966850829\n"
     ]
    },
    {
     "name": "stderr",
     "output_type": "stream",
     "text": [
      "DEBUG flwr 2023-08-29 08:28:58,777 | server.py:236 | fit_round 15 received 5 results and 0 failures\n",
      "DEBUG flwr 2023-08-29 08:28:58,893 | server.py:173 | evaluate_round 15: strategy sampled 5 clients (out of 10)\n"
     ]
    },
    {
     "name": "stdout",
     "output_type": "stream",
     "text": [
      "agrregate_fit results list length is  5\n",
      "Saving round 15 aggregated_parameters...\n"
     ]
    },
    {
     "name": "stderr",
     "output_type": "stream",
     "text": [
      "DEBUG flwr 2023-08-29 08:28:59,356 | server.py:187 | evaluate_round 15 received 5 results and 0 failures\n",
      "DEBUG flwr 2023-08-29 08:28:59,358 | server.py:222 | fit_round 16: strategy sampled 5 clients (out of 10)\n"
     ]
    },
    {
     "name": "stdout",
     "output_type": "stream",
     "text": [
      "agrregate_evaluate results list length is  5\n",
      "server round is  15\n",
      "loss is  0.6243093922651932\n"
     ]
    },
    {
     "name": "stderr",
     "output_type": "stream",
     "text": [
      "DEBUG flwr 2023-08-29 08:29:14,278 | server.py:236 | fit_round 16 received 5 results and 0 failures\n",
      "DEBUG flwr 2023-08-29 08:29:14,422 | server.py:173 | evaluate_round 16: strategy sampled 5 clients (out of 10)\n"
     ]
    },
    {
     "name": "stdout",
     "output_type": "stream",
     "text": [
      "agrregate_fit results list length is  5\n",
      "Saving round 16 aggregated_parameters...\n"
     ]
    },
    {
     "name": "stderr",
     "output_type": "stream",
     "text": [
      "DEBUG flwr 2023-08-29 08:29:14,916 | server.py:187 | evaluate_round 16 received 5 results and 0 failures\n",
      "DEBUG flwr 2023-08-29 08:29:14,917 | server.py:222 | fit_round 17: strategy sampled 5 clients (out of 10)\n"
     ]
    },
    {
     "name": "stdout",
     "output_type": "stream",
     "text": [
      "agrregate_evaluate results list length is  5\n",
      "server round is  16\n",
      "loss is  0.6353591160220996\n"
     ]
    },
    {
     "name": "stderr",
     "output_type": "stream",
     "text": [
      "DEBUG flwr 2023-08-29 08:29:29,984 | server.py:236 | fit_round 17 received 5 results and 0 failures\n",
      "DEBUG flwr 2023-08-29 08:29:30,111 | server.py:173 | evaluate_round 17: strategy sampled 5 clients (out of 10)\n"
     ]
    },
    {
     "name": "stdout",
     "output_type": "stream",
     "text": [
      "agrregate_fit results list length is  5\n",
      "Saving round 17 aggregated_parameters...\n"
     ]
    },
    {
     "name": "stderr",
     "output_type": "stream",
     "text": [
      "DEBUG flwr 2023-08-29 08:29:30,556 | server.py:187 | evaluate_round 17 received 5 results and 0 failures\n",
      "DEBUG flwr 2023-08-29 08:29:30,558 | server.py:222 | fit_round 18: strategy sampled 5 clients (out of 10)\n"
     ]
    },
    {
     "name": "stdout",
     "output_type": "stream",
     "text": [
      "agrregate_evaluate results list length is  5\n",
      "server round is  17\n",
      "loss is  0.5027624309392266\n"
     ]
    },
    {
     "name": "stderr",
     "output_type": "stream",
     "text": [
      "DEBUG flwr 2023-08-29 08:29:33,326 | server.py:236 | fit_round 18 received 5 results and 0 failures\n",
      "DEBUG flwr 2023-08-29 08:29:33,483 | server.py:173 | evaluate_round 18: strategy sampled 5 clients (out of 10)\n"
     ]
    },
    {
     "name": "stdout",
     "output_type": "stream",
     "text": [
      "agrregate_fit results list length is  5\n",
      "Saving round 18 aggregated_parameters...\n"
     ]
    },
    {
     "name": "stderr",
     "output_type": "stream",
     "text": [
      "DEBUG flwr 2023-08-29 08:29:34,046 | server.py:187 | evaluate_round 18 received 5 results and 0 failures\n",
      "DEBUG flwr 2023-08-29 08:29:34,049 | server.py:222 | fit_round 19: strategy sampled 5 clients (out of 10)\n"
     ]
    },
    {
     "name": "stdout",
     "output_type": "stream",
     "text": [
      "agrregate_evaluate results list length is  5\n",
      "server round is  18\n",
      "loss is  0.4861878453038674\n"
     ]
    },
    {
     "name": "stderr",
     "output_type": "stream",
     "text": [
      "DEBUG flwr 2023-08-29 08:29:36,868 | server.py:236 | fit_round 19 received 5 results and 0 failures\n",
      "DEBUG flwr 2023-08-29 08:29:37,019 | server.py:173 | evaluate_round 19: strategy sampled 5 clients (out of 10)\n"
     ]
    },
    {
     "name": "stdout",
     "output_type": "stream",
     "text": [
      "agrregate_fit results list length is  5\n",
      "Saving round 19 aggregated_parameters...\n"
     ]
    },
    {
     "name": "stderr",
     "output_type": "stream",
     "text": [
      "DEBUG flwr 2023-08-29 08:29:37,545 | server.py:187 | evaluate_round 19 received 5 results and 0 failures\n",
      "DEBUG flwr 2023-08-29 08:29:37,547 | server.py:222 | fit_round 20: strategy sampled 5 clients (out of 10)\n"
     ]
    },
    {
     "name": "stdout",
     "output_type": "stream",
     "text": [
      "agrregate_evaluate results list length is  5\n",
      "server round is  19\n",
      "loss is  0.47513812154696133\n"
     ]
    },
    {
     "name": "stderr",
     "output_type": "stream",
     "text": [
      "DEBUG flwr 2023-08-29 08:29:54,603 | server.py:236 | fit_round 20 received 5 results and 0 failures\n",
      "DEBUG flwr 2023-08-29 08:29:54,778 | server.py:173 | evaluate_round 20: strategy sampled 5 clients (out of 10)\n"
     ]
    },
    {
     "name": "stdout",
     "output_type": "stream",
     "text": [
      "agrregate_fit results list length is  5\n",
      "Saving round 20 aggregated_parameters...\n"
     ]
    },
    {
     "name": "stderr",
     "output_type": "stream",
     "text": [
      "DEBUG flwr 2023-08-29 08:29:55,387 | server.py:187 | evaluate_round 20 received 5 results and 0 failures\n",
      "DEBUG flwr 2023-08-29 08:29:55,388 | server.py:222 | fit_round 21: strategy sampled 5 clients (out of 10)\n"
     ]
    },
    {
     "name": "stdout",
     "output_type": "stream",
     "text": [
      "agrregate_evaluate results list length is  5\n",
      "server round is  20\n",
      "loss is  0.574585635359116\n"
     ]
    },
    {
     "name": "stderr",
     "output_type": "stream",
     "text": [
      "DEBUG flwr 2023-08-29 08:30:10,379 | server.py:236 | fit_round 21 received 5 results and 0 failures\n",
      "DEBUG flwr 2023-08-29 08:30:10,498 | server.py:173 | evaluate_round 21: strategy sampled 5 clients (out of 10)\n"
     ]
    },
    {
     "name": "stdout",
     "output_type": "stream",
     "text": [
      "agrregate_fit results list length is  5\n",
      "Saving round 21 aggregated_parameters...\n"
     ]
    },
    {
     "name": "stderr",
     "output_type": "stream",
     "text": [
      "DEBUG flwr 2023-08-29 08:30:10,982 | server.py:187 | evaluate_round 21 received 5 results and 0 failures\n",
      "DEBUG flwr 2023-08-29 08:30:10,983 | server.py:222 | fit_round 22: strategy sampled 5 clients (out of 10)\n"
     ]
    },
    {
     "name": "stdout",
     "output_type": "stream",
     "text": [
      "agrregate_evaluate results list length is  5\n",
      "server round is  21\n",
      "loss is  0.5248618784530387\n"
     ]
    },
    {
     "name": "stderr",
     "output_type": "stream",
     "text": [
      "DEBUG flwr 2023-08-29 08:30:13,958 | server.py:236 | fit_round 22 received 5 results and 0 failures\n",
      "DEBUG flwr 2023-08-29 08:30:14,147 | server.py:173 | evaluate_round 22: strategy sampled 5 clients (out of 10)\n"
     ]
    },
    {
     "name": "stdout",
     "output_type": "stream",
     "text": [
      "agrregate_fit results list length is  5\n",
      "Saving round 22 aggregated_parameters...\n"
     ]
    },
    {
     "name": "stderr",
     "output_type": "stream",
     "text": [
      "DEBUG flwr 2023-08-29 08:30:14,685 | server.py:187 | evaluate_round 22 received 5 results and 0 failures\n",
      "DEBUG flwr 2023-08-29 08:30:14,687 | server.py:222 | fit_round 23: strategy sampled 5 clients (out of 10)\n"
     ]
    },
    {
     "name": "stdout",
     "output_type": "stream",
     "text": [
      "agrregate_evaluate results list length is  5\n",
      "server round is  22\n",
      "loss is  0.4696132596685083\n"
     ]
    },
    {
     "name": "stderr",
     "output_type": "stream",
     "text": [
      "DEBUG flwr 2023-08-29 08:30:17,523 | server.py:236 | fit_round 23 received 5 results and 0 failures\n",
      "DEBUG flwr 2023-08-29 08:30:17,679 | server.py:173 | evaluate_round 23: strategy sampled 5 clients (out of 10)\n"
     ]
    },
    {
     "name": "stdout",
     "output_type": "stream",
     "text": [
      "agrregate_fit results list length is  5\n",
      "Saving round 23 aggregated_parameters...\n"
     ]
    },
    {
     "name": "stderr",
     "output_type": "stream",
     "text": [
      "DEBUG flwr 2023-08-29 08:30:18,217 | server.py:187 | evaluate_round 23 received 5 results and 0 failures\n",
      "DEBUG flwr 2023-08-29 08:30:18,219 | server.py:222 | fit_round 24: strategy sampled 5 clients (out of 10)\n"
     ]
    },
    {
     "name": "stdout",
     "output_type": "stream",
     "text": [
      "agrregate_evaluate results list length is  5\n",
      "server round is  23\n",
      "loss is  0.4530386740331492\n"
     ]
    },
    {
     "name": "stderr",
     "output_type": "stream",
     "text": [
      "DEBUG flwr 2023-08-29 08:30:21,204 | server.py:236 | fit_round 24 received 5 results and 0 failures\n",
      "DEBUG flwr 2023-08-29 08:30:21,389 | server.py:173 | evaluate_round 24: strategy sampled 5 clients (out of 10)\n"
     ]
    },
    {
     "name": "stdout",
     "output_type": "stream",
     "text": [
      "agrregate_fit results list length is  5\n",
      "Saving round 24 aggregated_parameters...\n"
     ]
    },
    {
     "name": "stderr",
     "output_type": "stream",
     "text": [
      "DEBUG flwr 2023-08-29 08:30:21,949 | server.py:187 | evaluate_round 24 received 5 results and 0 failures\n",
      "DEBUG flwr 2023-08-29 08:30:21,952 | server.py:222 | fit_round 25: strategy sampled 5 clients (out of 10)\n"
     ]
    },
    {
     "name": "stdout",
     "output_type": "stream",
     "text": [
      "agrregate_evaluate results list length is  5\n",
      "server round is  24\n",
      "loss is  0.425414364640884\n"
     ]
    },
    {
     "name": "stderr",
     "output_type": "stream",
     "text": [
      "DEBUG flwr 2023-08-29 08:30:36,854 | server.py:236 | fit_round 25 received 5 results and 0 failures\n",
      "DEBUG flwr 2023-08-29 08:30:36,972 | server.py:173 | evaluate_round 25: strategy sampled 5 clients (out of 10)\n"
     ]
    },
    {
     "name": "stdout",
     "output_type": "stream",
     "text": [
      "agrregate_fit results list length is  5\n",
      "Saving round 25 aggregated_parameters...\n"
     ]
    },
    {
     "name": "stderr",
     "output_type": "stream",
     "text": [
      "DEBUG flwr 2023-08-29 08:30:37,447 | server.py:187 | evaluate_round 25 received 5 results and 0 failures\n",
      "DEBUG flwr 2023-08-29 08:30:37,447 | server.py:222 | fit_round 26: strategy sampled 5 clients (out of 10)\n"
     ]
    },
    {
     "name": "stdout",
     "output_type": "stream",
     "text": [
      "agrregate_evaluate results list length is  5\n",
      "server round is  25\n",
      "loss is  0.43646408839779005\n"
     ]
    },
    {
     "name": "stderr",
     "output_type": "stream",
     "text": [
      "DEBUG flwr 2023-08-29 08:30:52,138 | server.py:236 | fit_round 26 received 5 results and 0 failures\n",
      "DEBUG flwr 2023-08-29 08:30:52,263 | server.py:173 | evaluate_round 26: strategy sampled 5 clients (out of 10)\n"
     ]
    },
    {
     "name": "stdout",
     "output_type": "stream",
     "text": [
      "agrregate_fit results list length is  5\n",
      "Saving round 26 aggregated_parameters...\n"
     ]
    },
    {
     "name": "stderr",
     "output_type": "stream",
     "text": [
      "DEBUG flwr 2023-08-29 08:30:52,725 | server.py:187 | evaluate_round 26 received 5 results and 0 failures\n",
      "DEBUG flwr 2023-08-29 08:30:52,727 | server.py:222 | fit_round 27: strategy sampled 5 clients (out of 10)\n"
     ]
    },
    {
     "name": "stdout",
     "output_type": "stream",
     "text": [
      "agrregate_evaluate results list length is  5\n",
      "server round is  26\n",
      "loss is  0.4198895027624309\n"
     ]
    },
    {
     "name": "stderr",
     "output_type": "stream",
     "text": [
      "DEBUG flwr 2023-08-29 08:31:08,682 | server.py:236 | fit_round 27 received 5 results and 0 failures\n",
      "DEBUG flwr 2023-08-29 08:31:08,806 | server.py:173 | evaluate_round 27: strategy sampled 5 clients (out of 10)\n"
     ]
    },
    {
     "name": "stdout",
     "output_type": "stream",
     "text": [
      "agrregate_fit results list length is  5\n",
      "Saving round 27 aggregated_parameters...\n"
     ]
    },
    {
     "name": "stderr",
     "output_type": "stream",
     "text": [
      "DEBUG flwr 2023-08-29 08:31:09,264 | server.py:187 | evaluate_round 27 received 5 results and 0 failures\n",
      "DEBUG flwr 2023-08-29 08:31:09,265 | server.py:222 | fit_round 28: strategy sampled 5 clients (out of 10)\n"
     ]
    },
    {
     "name": "stdout",
     "output_type": "stream",
     "text": [
      "agrregate_evaluate results list length is  5\n",
      "server round is  27\n",
      "loss is  0.48066298342541436\n"
     ]
    },
    {
     "name": "stderr",
     "output_type": "stream",
     "text": [
      "DEBUG flwr 2023-08-29 08:31:28,816 | server.py:236 | fit_round 28 received 5 results and 0 failures\n",
      "DEBUG flwr 2023-08-29 08:31:28,941 | server.py:173 | evaluate_round 28: strategy sampled 5 clients (out of 10)\n"
     ]
    },
    {
     "name": "stdout",
     "output_type": "stream",
     "text": [
      "agrregate_fit results list length is  5\n",
      "Saving round 28 aggregated_parameters...\n"
     ]
    },
    {
     "name": "stderr",
     "output_type": "stream",
     "text": [
      "DEBUG flwr 2023-08-29 08:31:29,427 | server.py:187 | evaluate_round 28 received 5 results and 0 failures\n",
      "DEBUG flwr 2023-08-29 08:31:29,430 | server.py:222 | fit_round 29: strategy sampled 5 clients (out of 10)\n"
     ]
    },
    {
     "name": "stdout",
     "output_type": "stream",
     "text": [
      "agrregate_evaluate results list length is  5\n",
      "server round is  28\n",
      "loss is  0.49171270718232046\n"
     ]
    },
    {
     "name": "stderr",
     "output_type": "stream",
     "text": [
      "DEBUG flwr 2023-08-29 08:31:45,759 | server.py:236 | fit_round 29 received 5 results and 0 failures\n",
      "DEBUG flwr 2023-08-29 08:31:45,873 | server.py:173 | evaluate_round 29: strategy sampled 5 clients (out of 10)\n"
     ]
    },
    {
     "name": "stdout",
     "output_type": "stream",
     "text": [
      "agrregate_fit results list length is  5\n",
      "Saving round 29 aggregated_parameters...\n"
     ]
    },
    {
     "name": "stderr",
     "output_type": "stream",
     "text": [
      "DEBUG flwr 2023-08-29 08:31:46,369 | server.py:187 | evaluate_round 29 received 5 results and 0 failures\n",
      "DEBUG flwr 2023-08-29 08:31:46,370 | server.py:222 | fit_round 30: strategy sampled 5 clients (out of 10)\n"
     ]
    },
    {
     "name": "stdout",
     "output_type": "stream",
     "text": [
      "agrregate_evaluate results list length is  5\n",
      "server round is  29\n",
      "loss is  0.4088397790055249\n"
     ]
    },
    {
     "name": "stderr",
     "output_type": "stream",
     "text": [
      "DEBUG flwr 2023-08-29 08:32:02,083 | server.py:236 | fit_round 30 received 5 results and 0 failures\n",
      "DEBUG flwr 2023-08-29 08:32:02,194 | server.py:173 | evaluate_round 30: strategy sampled 5 clients (out of 10)\n"
     ]
    },
    {
     "name": "stdout",
     "output_type": "stream",
     "text": [
      "agrregate_fit results list length is  5\n",
      "Saving round 30 aggregated_parameters...\n"
     ]
    },
    {
     "name": "stderr",
     "output_type": "stream",
     "text": [
      "DEBUG flwr 2023-08-29 08:32:02,665 | server.py:187 | evaluate_round 30 received 5 results and 0 failures\n",
      "DEBUG flwr 2023-08-29 08:32:02,666 | server.py:222 | fit_round 31: strategy sampled 5 clients (out of 10)\n"
     ]
    },
    {
     "name": "stdout",
     "output_type": "stream",
     "text": [
      "agrregate_evaluate results list length is  5\n",
      "server round is  30\n",
      "loss is  0.5469613259668509\n"
     ]
    },
    {
     "name": "stderr",
     "output_type": "stream",
     "text": [
      "DEBUG flwr 2023-08-29 08:32:05,695 | server.py:236 | fit_round 31 received 5 results and 0 failures\n",
      "DEBUG flwr 2023-08-29 08:32:05,906 | server.py:173 | evaluate_round 31: strategy sampled 5 clients (out of 10)\n"
     ]
    },
    {
     "name": "stdout",
     "output_type": "stream",
     "text": [
      "agrregate_fit results list length is  5\n",
      "Saving round 31 aggregated_parameters...\n"
     ]
    },
    {
     "name": "stderr",
     "output_type": "stream",
     "text": [
      "DEBUG flwr 2023-08-29 08:32:06,451 | server.py:187 | evaluate_round 31 received 5 results and 0 failures\n",
      "DEBUG flwr 2023-08-29 08:32:06,453 | server.py:222 | fit_round 32: strategy sampled 5 clients (out of 10)\n"
     ]
    },
    {
     "name": "stdout",
     "output_type": "stream",
     "text": [
      "agrregate_evaluate results list length is  5\n",
      "server round is  31\n",
      "loss is  0.44751381215469616\n"
     ]
    },
    {
     "name": "stderr",
     "output_type": "stream",
     "text": [
      "DEBUG flwr 2023-08-29 08:32:22,334 | server.py:236 | fit_round 32 received 5 results and 0 failures\n",
      "DEBUG flwr 2023-08-29 08:32:22,436 | server.py:173 | evaluate_round 32: strategy sampled 5 clients (out of 10)\n"
     ]
    },
    {
     "name": "stdout",
     "output_type": "stream",
     "text": [
      "agrregate_fit results list length is  5\n",
      "Saving round 32 aggregated_parameters...\n"
     ]
    },
    {
     "name": "stderr",
     "output_type": "stream",
     "text": [
      "DEBUG flwr 2023-08-29 08:32:22,926 | server.py:187 | evaluate_round 32 received 5 results and 0 failures\n",
      "DEBUG flwr 2023-08-29 08:32:22,929 | server.py:222 | fit_round 33: strategy sampled 5 clients (out of 10)\n"
     ]
    },
    {
     "name": "stdout",
     "output_type": "stream",
     "text": [
      "agrregate_evaluate results list length is  5\n",
      "server round is  32\n",
      "loss is  0.43646408839779005\n"
     ]
    },
    {
     "name": "stderr",
     "output_type": "stream",
     "text": [
      "DEBUG flwr 2023-08-29 08:32:25,938 | server.py:236 | fit_round 33 received 5 results and 0 failures\n",
      "DEBUG flwr 2023-08-29 08:32:26,074 | server.py:173 | evaluate_round 33: strategy sampled 5 clients (out of 10)\n"
     ]
    },
    {
     "name": "stdout",
     "output_type": "stream",
     "text": [
      "agrregate_fit results list length is  5\n",
      "Saving round 33 aggregated_parameters...\n"
     ]
    },
    {
     "name": "stderr",
     "output_type": "stream",
     "text": [
      "DEBUG flwr 2023-08-29 08:32:26,639 | server.py:187 | evaluate_round 33 received 5 results and 0 failures\n",
      "DEBUG flwr 2023-08-29 08:32:26,641 | server.py:222 | fit_round 34: strategy sampled 5 clients (out of 10)\n"
     ]
    },
    {
     "name": "stdout",
     "output_type": "stream",
     "text": [
      "agrregate_evaluate results list length is  5\n",
      "server round is  33\n",
      "loss is  0.4419889502762431\n"
     ]
    },
    {
     "name": "stderr",
     "output_type": "stream",
     "text": [
      "DEBUG flwr 2023-08-29 08:32:29,386 | server.py:236 | fit_round 34 received 5 results and 0 failures\n",
      "DEBUG flwr 2023-08-29 08:32:29,551 | server.py:173 | evaluate_round 34: strategy sampled 5 clients (out of 10)\n"
     ]
    },
    {
     "name": "stdout",
     "output_type": "stream",
     "text": [
      "agrregate_fit results list length is  5\n",
      "Saving round 34 aggregated_parameters...\n"
     ]
    },
    {
     "name": "stderr",
     "output_type": "stream",
     "text": [
      "DEBUG flwr 2023-08-29 08:32:30,060 | server.py:187 | evaluate_round 34 received 5 results and 0 failures\n",
      "DEBUG flwr 2023-08-29 08:32:30,061 | server.py:222 | fit_round 35: strategy sampled 5 clients (out of 10)\n"
     ]
    },
    {
     "name": "stdout",
     "output_type": "stream",
     "text": [
      "agrregate_evaluate results list length is  5\n",
      "server round is  34\n",
      "loss is  0.4696132596685083\n"
     ]
    },
    {
     "name": "stderr",
     "output_type": "stream",
     "text": [
      "DEBUG flwr 2023-08-29 08:32:33,105 | server.py:236 | fit_round 35 received 5 results and 0 failures\n",
      "DEBUG flwr 2023-08-29 08:32:33,306 | server.py:173 | evaluate_round 35: strategy sampled 5 clients (out of 10)\n"
     ]
    },
    {
     "name": "stdout",
     "output_type": "stream",
     "text": [
      "agrregate_fit results list length is  5\n",
      "Saving round 35 aggregated_parameters...\n"
     ]
    },
    {
     "name": "stderr",
     "output_type": "stream",
     "text": [
      "DEBUG flwr 2023-08-29 08:32:34,018 | server.py:187 | evaluate_round 35 received 5 results and 0 failures\n",
      "DEBUG flwr 2023-08-29 08:32:34,020 | server.py:222 | fit_round 36: strategy sampled 5 clients (out of 10)\n"
     ]
    },
    {
     "name": "stdout",
     "output_type": "stream",
     "text": [
      "agrregate_evaluate results list length is  5\n",
      "server round is  35\n",
      "loss is  0.4530386740331492\n"
     ]
    },
    {
     "name": "stderr",
     "output_type": "stream",
     "text": [
      "DEBUG flwr 2023-08-29 08:32:36,761 | server.py:236 | fit_round 36 received 5 results and 0 failures\n",
      "DEBUG flwr 2023-08-29 08:32:36,909 | server.py:173 | evaluate_round 36: strategy sampled 5 clients (out of 10)\n"
     ]
    },
    {
     "name": "stdout",
     "output_type": "stream",
     "text": [
      "agrregate_fit results list length is  5\n",
      "Saving round 36 aggregated_parameters...\n"
     ]
    },
    {
     "name": "stderr",
     "output_type": "stream",
     "text": [
      "DEBUG flwr 2023-08-29 08:32:37,461 | server.py:187 | evaluate_round 36 received 5 results and 0 failures\n",
      "DEBUG flwr 2023-08-29 08:32:37,463 | server.py:222 | fit_round 37: strategy sampled 5 clients (out of 10)\n"
     ]
    },
    {
     "name": "stdout",
     "output_type": "stream",
     "text": [
      "agrregate_evaluate results list length is  5\n",
      "server round is  36\n",
      "loss is  0.44751381215469616\n"
     ]
    },
    {
     "name": "stderr",
     "output_type": "stream",
     "text": [
      "DEBUG flwr 2023-08-29 08:32:40,167 | server.py:236 | fit_round 37 received 5 results and 0 failures\n",
      "DEBUG flwr 2023-08-29 08:32:40,309 | server.py:173 | evaluate_round 37: strategy sampled 5 clients (out of 10)\n"
     ]
    },
    {
     "name": "stdout",
     "output_type": "stream",
     "text": [
      "agrregate_fit results list length is  5\n",
      "Saving round 37 aggregated_parameters...\n"
     ]
    },
    {
     "name": "stderr",
     "output_type": "stream",
     "text": [
      "DEBUG flwr 2023-08-29 08:32:40,875 | server.py:187 | evaluate_round 37 received 5 results and 0 failures\n",
      "DEBUG flwr 2023-08-29 08:32:40,877 | server.py:222 | fit_round 38: strategy sampled 5 clients (out of 10)\n"
     ]
    },
    {
     "name": "stdout",
     "output_type": "stream",
     "text": [
      "agrregate_evaluate results list length is  5\n",
      "server round is  37\n",
      "loss is  0.425414364640884\n"
     ]
    },
    {
     "name": "stderr",
     "output_type": "stream",
     "text": [
      "DEBUG flwr 2023-08-29 08:32:56,613 | server.py:236 | fit_round 38 received 5 results and 0 failures\n",
      "DEBUG flwr 2023-08-29 08:32:56,778 | server.py:173 | evaluate_round 38: strategy sampled 5 clients (out of 10)\n"
     ]
    },
    {
     "name": "stdout",
     "output_type": "stream",
     "text": [
      "agrregate_fit results list length is  5\n",
      "Saving round 38 aggregated_parameters...\n"
     ]
    },
    {
     "name": "stderr",
     "output_type": "stream",
     "text": [
      "DEBUG flwr 2023-08-29 08:32:57,353 | server.py:187 | evaluate_round 38 received 5 results and 0 failures\n",
      "DEBUG flwr 2023-08-29 08:32:57,355 | server.py:222 | fit_round 39: strategy sampled 5 clients (out of 10)\n"
     ]
    },
    {
     "name": "stdout",
     "output_type": "stream",
     "text": [
      "agrregate_evaluate results list length is  5\n",
      "server round is  38\n",
      "loss is  0.43646408839779005\n"
     ]
    },
    {
     "name": "stderr",
     "output_type": "stream",
     "text": [
      "DEBUG flwr 2023-08-29 08:33:00,157 | server.py:236 | fit_round 39 received 5 results and 0 failures\n",
      "DEBUG flwr 2023-08-29 08:33:00,312 | server.py:173 | evaluate_round 39: strategy sampled 5 clients (out of 10)\n"
     ]
    },
    {
     "name": "stdout",
     "output_type": "stream",
     "text": [
      "agrregate_fit results list length is  5\n",
      "Saving round 39 aggregated_parameters...\n"
     ]
    },
    {
     "name": "stderr",
     "output_type": "stream",
     "text": [
      "DEBUG flwr 2023-08-29 08:33:00,910 | server.py:187 | evaluate_round 39 received 5 results and 0 failures\n",
      "DEBUG flwr 2023-08-29 08:33:00,912 | server.py:222 | fit_round 40: strategy sampled 5 clients (out of 10)\n"
     ]
    },
    {
     "name": "stdout",
     "output_type": "stream",
     "text": [
      "agrregate_evaluate results list length is  5\n",
      "server round is  39\n",
      "loss is  0.5082872928176796\n"
     ]
    },
    {
     "name": "stderr",
     "output_type": "stream",
     "text": [
      "DEBUG flwr 2023-08-29 08:33:03,766 | server.py:236 | fit_round 40 received 5 results and 0 failures\n",
      "DEBUG flwr 2023-08-29 08:33:03,912 | server.py:173 | evaluate_round 40: strategy sampled 5 clients (out of 10)\n"
     ]
    },
    {
     "name": "stdout",
     "output_type": "stream",
     "text": [
      "agrregate_fit results list length is  5\n",
      "Saving round 40 aggregated_parameters...\n"
     ]
    },
    {
     "name": "stderr",
     "output_type": "stream",
     "text": [
      "DEBUG flwr 2023-08-29 08:33:04,501 | server.py:187 | evaluate_round 40 received 5 results and 0 failures\n",
      "INFO flwr 2023-08-29 08:33:04,502 | server.py:153 | FL finished in 389.44028439999965\n",
      "INFO flwr 2023-08-29 08:33:04,507 | app.py:225 | app_fit: losses_distributed [(1, 6.071823204419889), (2, 3.552486187845304), (3, 3.403314917127072), (4, 2.1215469613259668), (5, 1.1546961325966851), (6, 1.2265193370165746), (7, 1.1546961325966851), (8, 0.7955801104972375), (9, 0.7734806629834254), (10, 0.7237569060773481), (11, 0.7734806629834254), (12, 0.6961325966850829), (13, 0.6961325966850829), (14, 0.6961325966850829), (15, 0.6243093922651932), (16, 0.6353591160220996), (17, 0.5027624309392266), (18, 0.4861878453038674), (19, 0.47513812154696133), (20, 0.574585635359116), (21, 0.5248618784530387), (22, 0.4696132596685083), (23, 0.4530386740331492), (24, 0.425414364640884), (25, 0.43646408839779005), (26, 0.4198895027624309), (27, 0.48066298342541436), (28, 0.49171270718232046), (29, 0.4088397790055249), (30, 0.5469613259668509), (31, 0.44751381215469616), (32, 0.43646408839779005), (33, 0.4419889502762431), (34, 0.4696132596685083), (35, 0.4530386740331492), (36, 0.44751381215469616), (37, 0.425414364640884), (38, 0.43646408839779005), (39, 0.5082872928176796), (40, 0.47513812154696133)]\n",
      "INFO flwr 2023-08-29 08:33:04,508 | app.py:226 | app_fit: metrics_distributed_fit {}\n",
      "INFO flwr 2023-08-29 08:33:04,508 | app.py:227 | app_fit: metrics_distributed {'mse': [(1, 30.359116022099446), (2, 17.76243093922652), (3, 17.01657458563536), (4, 10.607734806629834), (5, 5.773480662983426), (6, 6.132596685082873), (7, 5.773480662983426), (8, 3.9779005524861875), (9, 3.8674033149171274), (10, 3.6187845303867405), (11, 3.8674033149171274), (12, 3.4806629834254146), (13, 3.4806629834254146), (14, 3.4806629834254146), (15, 3.1215469613259668), (16, 3.1767955801104977), (17, 2.513812154696133), (18, 2.430939226519337), (19, 2.3756906077348066), (20, 2.87292817679558), (21, 2.6243093922651934), (22, 2.3480662983425415), (23, 2.265193370165746), (24, 2.12707182320442), (25, 2.18232044198895), (26, 2.0994475138121547), (27, 2.403314917127072), (28, 2.4585635359116025), (29, 2.044198895027624), (30, 2.7348066298342544), (31, 2.2375690607734806), (32, 2.18232044198895), (33, 2.209944751381215), (34, 2.3480662983425415), (35, 2.265193370165746), (36, 2.2375690607734806), (37, 2.12707182320442), (38, 2.18232044198895), (39, 2.541436464088398), (40, 2.3756906077348066)]}\n",
      "INFO flwr 2023-08-29 08:33:04,509 | app.py:228 | app_fit: losses_centralized []\n",
      "INFO flwr 2023-08-29 08:33:04,510 | app.py:229 | app_fit: metrics_centralized {}\n"
     ]
    },
    {
     "name": "stdout",
     "output_type": "stream",
     "text": [
      "agrregate_evaluate results list length is  5\n",
      "server round is  40\n",
      "loss is  0.47513812154696133\n",
      "History (loss, distributed):\n",
      "\tround 1: 6.071823204419889\n",
      "\tround 2: 3.552486187845304\n",
      "\tround 3: 3.403314917127072\n",
      "\tround 4: 2.1215469613259668\n",
      "\tround 5: 1.1546961325966851\n",
      "\tround 6: 1.2265193370165746\n",
      "\tround 7: 1.1546961325966851\n",
      "\tround 8: 0.7955801104972375\n",
      "\tround 9: 0.7734806629834254\n",
      "\tround 10: 0.7237569060773481\n",
      "\tround 11: 0.7734806629834254\n",
      "\tround 12: 0.6961325966850829\n",
      "\tround 13: 0.6961325966850829\n",
      "\tround 14: 0.6961325966850829\n",
      "\tround 15: 0.6243093922651932\n",
      "\tround 16: 0.6353591160220996\n",
      "\tround 17: 0.5027624309392266\n",
      "\tround 18: 0.4861878453038674\n",
      "\tround 19: 0.47513812154696133\n",
      "\tround 20: 0.574585635359116\n",
      "\tround 21: 0.5248618784530387\n",
      "\tround 22: 0.4696132596685083\n",
      "\tround 23: 0.4530386740331492\n",
      "\tround 24: 0.425414364640884\n",
      "\tround 25: 0.43646408839779005\n",
      "\tround 26: 0.4198895027624309\n",
      "\tround 27: 0.48066298342541436\n",
      "\tround 28: 0.49171270718232046\n",
      "\tround 29: 0.4088397790055249\n",
      "\tround 30: 0.5469613259668509\n",
      "\tround 31: 0.44751381215469616\n",
      "\tround 32: 0.43646408839779005\n",
      "\tround 33: 0.4419889502762431\n",
      "\tround 34: 0.4696132596685083\n",
      "\tround 35: 0.4530386740331492\n",
      "\tround 36: 0.44751381215469616\n",
      "\tround 37: 0.425414364640884\n",
      "\tround 38: 0.43646408839779005\n",
      "\tround 39: 0.5082872928176796\n",
      "\tround 40: 0.47513812154696133\n",
      "History (metrics, distributed, evaluate):\n",
      "{'mse': [(1, 30.359116022099446), (2, 17.76243093922652), (3, 17.01657458563536), (4, 10.607734806629834), (5, 5.773480662983426), (6, 6.132596685082873), (7, 5.773480662983426), (8, 3.9779005524861875), (9, 3.8674033149171274), (10, 3.6187845303867405), (11, 3.8674033149171274), (12, 3.4806629834254146), (13, 3.4806629834254146), (14, 3.4806629834254146), (15, 3.1215469613259668), (16, 3.1767955801104977), (17, 2.513812154696133), (18, 2.430939226519337), (19, 2.3756906077348066), (20, 2.87292817679558), (21, 2.6243093922651934), (22, 2.3480662983425415), (23, 2.265193370165746), (24, 2.12707182320442), (25, 2.18232044198895), (26, 2.0994475138121547), (27, 2.403314917127072), (28, 2.4585635359116025), (29, 2.044198895027624), (30, 2.7348066298342544), (31, 2.2375690607734806), (32, 2.18232044198895), (33, 2.209944751381215), (34, 2.3480662983425415), (35, 2.265193370165746), (36, 2.2375690607734806), (37, 2.12707182320442), (38, 2.18232044198895), (39, 2.541436464088398), (40, 2.3756906077348066)]}\n",
      "[(1, 6.071823204419889), (2, 3.552486187845304), (3, 3.403314917127072), (4, 2.1215469613259668), (5, 1.1546961325966851), (6, 1.2265193370165746), (7, 1.1546961325966851), (8, 0.7955801104972375), (9, 0.7734806629834254), (10, 0.7237569060773481), (11, 0.7734806629834254), (12, 0.6961325966850829), (13, 0.6961325966850829), (14, 0.6961325966850829), (15, 0.6243093922651932), (16, 0.6353591160220996), (17, 0.5027624309392266), (18, 0.4861878453038674), (19, 0.47513812154696133), (20, 0.574585635359116), (21, 0.5248618784530387), (22, 0.4696132596685083), (23, 0.4530386740331492), (24, 0.425414364640884), (25, 0.43646408839779005), (26, 0.4198895027624309), (27, 0.48066298342541436), (28, 0.49171270718232046), (29, 0.4088397790055249), (30, 0.5469613259668509), (31, 0.44751381215469616), (32, 0.43646408839779005), (33, 0.4419889502762431), (34, 0.4696132596685083), (35, 0.4530386740331492), (36, 0.44751381215469616), (37, 0.425414364640884), (38, 0.43646408839779005), (39, 0.5082872928176796), (40, 0.47513812154696133)]\n"
     ]
    },
    {
     "name": "stderr",
     "output_type": "stream",
     "text": [
      "C:\\Users\\Shuyao\\AppData\\Local\\Temp\\ipykernel_11996\\3421847257.py:35: UserWarning: To copy construct from a tensor, it is recommended to use sourceTensor.clone().detach() or sourceTensor.clone().detach().requires_grad_(True), rather than torch.tensor(sourceTensor).\n",
      "  y_train = torch.reshape(torch.tensor(y_train), (-1, 1))\n",
      "C:\\Users\\Shuyao\\AppData\\Local\\Temp\\ipykernel_11996\\3421847257.py:36: UserWarning: To copy construct from a tensor, it is recommended to use sourceTensor.clone().detach() or sourceTensor.clone().detach().requires_grad_(True), rather than torch.tensor(sourceTensor).\n",
      "  y_test = torch.reshape(torch.tensor(y_test), (-1, 1))\n",
      "INFO flwr 2023-08-29 08:33:04,806 | app.py:145 | Starting Flower simulation, config: ServerConfig(num_rounds=40, round_timeout=None)\n"
     ]
    },
    {
     "name": "stdout",
     "output_type": "stream",
     "text": [
      "Fold 2:\n",
      "Client 0 trainset shape torch.Size([441, 3, 23])\n",
      "Client 1 trainset shape torch.Size([28, 3, 23])\n",
      "Client 2 trainset shape torch.Size([28, 3, 23])\n",
      "Client 3 trainset shape torch.Size([28, 3, 23])\n",
      "Client 4 trainset shape torch.Size([28, 3, 23])\n",
      "Client 5 trainset shape torch.Size([28, 3, 23])\n",
      "Client 6 trainset shape torch.Size([28, 3, 23])\n",
      "Client 7 trainset shape torch.Size([28, 3, 23])\n",
      "Client 8 trainset shape torch.Size([28, 3, 23])\n",
      "Client 9 trainset shape torch.Size([28, 3, 23])\n"
     ]
    },
    {
     "name": "stderr",
     "output_type": "stream",
     "text": [
      "2023-08-29 08:33:13,577\tINFO worker.py:1627 -- Started a local Ray instance. View the dashboard at \u001B[1m\u001B[32m127.0.0.1:8265 \u001B[39m\u001B[22m\n",
      "INFO flwr 2023-08-29 08:33:18,781 | app.py:179 | Flower VCE: Ray initialized with resources: {'CPU': 8.0, 'node:127.0.0.1': 1.0, 'object_store_memory': 1000380825.0, 'memory': 2000761652.0, 'GPU': 1.0}\n",
      "INFO flwr 2023-08-29 08:33:18,783 | server.py:89 | Initializing global parameters\n",
      "INFO flwr 2023-08-29 08:33:18,784 | server.py:276 | Requesting initial parameters from one random client\n",
      "INFO flwr 2023-08-29 08:33:21,752 | server.py:280 | Received initial parameters from one random client\n",
      "INFO flwr 2023-08-29 08:33:21,754 | server.py:91 | Evaluating initial parameters\n",
      "INFO flwr 2023-08-29 08:33:21,755 | server.py:104 | FL starting\n",
      "DEBUG flwr 2023-08-29 08:33:21,756 | server.py:222 | fit_round 1: strategy sampled 5 clients (out of 10)\n",
      "DEBUG flwr 2023-08-29 08:33:28,972 | server.py:236 | fit_round 1 received 5 results and 0 failures\n",
      "WARNING flwr 2023-08-29 08:33:29,056 | fedavg.py:242 | No fit_metrics_aggregation_fn provided\n",
      "DEBUG flwr 2023-08-29 08:33:29,107 | server.py:173 | evaluate_round 1: strategy sampled 5 clients (out of 10)\n"
     ]
    },
    {
     "name": "stdout",
     "output_type": "stream",
     "text": [
      "agrregate_fit results list length is  5\n",
      "Saving round 1 aggregated_parameters...\n"
     ]
    },
    {
     "name": "stderr",
     "output_type": "stream",
     "text": [
      "DEBUG flwr 2023-08-29 08:33:29,586 | server.py:187 | evaluate_round 1 received 5 results and 0 failures\n",
      "DEBUG flwr 2023-08-29 08:33:29,588 | server.py:222 | fit_round 2: strategy sampled 5 clients (out of 10)\n"
     ]
    },
    {
     "name": "stdout",
     "output_type": "stream",
     "text": [
      "agrregate_evaluate results list length is  5\n",
      "server round is  1\n",
      "loss is  29.044444444444444\n"
     ]
    },
    {
     "name": "stderr",
     "output_type": "stream",
     "text": [
      "DEBUG flwr 2023-08-29 08:33:45,269 | server.py:236 | fit_round 2 received 5 results and 0 failures\n",
      "DEBUG flwr 2023-08-29 08:33:45,405 | server.py:173 | evaluate_round 2: strategy sampled 5 clients (out of 10)\n"
     ]
    },
    {
     "name": "stdout",
     "output_type": "stream",
     "text": [
      "agrregate_fit results list length is  5\n",
      "Saving round 2 aggregated_parameters...\n"
     ]
    },
    {
     "name": "stderr",
     "output_type": "stream",
     "text": [
      "DEBUG flwr 2023-08-29 08:33:46,137 | server.py:187 | evaluate_round 2 received 5 results and 0 failures\n",
      "DEBUG flwr 2023-08-29 08:33:46,139 | server.py:222 | fit_round 3: strategy sampled 5 clients (out of 10)\n"
     ]
    },
    {
     "name": "stdout",
     "output_type": "stream",
     "text": [
      "agrregate_evaluate results list length is  5\n",
      "server round is  2\n",
      "loss is  4.805555555555555\n"
     ]
    },
    {
     "name": "stderr",
     "output_type": "stream",
     "text": [
      "DEBUG flwr 2023-08-29 08:34:01,330 | server.py:236 | fit_round 3 received 5 results and 0 failures\n",
      "DEBUG flwr 2023-08-29 08:34:01,470 | server.py:173 | evaluate_round 3: strategy sampled 5 clients (out of 10)\n"
     ]
    },
    {
     "name": "stdout",
     "output_type": "stream",
     "text": [
      "agrregate_fit results list length is  5\n",
      "Saving round 3 aggregated_parameters...\n"
     ]
    },
    {
     "name": "stderr",
     "output_type": "stream",
     "text": [
      "DEBUG flwr 2023-08-29 08:34:01,967 | server.py:187 | evaluate_round 3 received 5 results and 0 failures\n",
      "DEBUG flwr 2023-08-29 08:34:01,969 | server.py:222 | fit_round 4: strategy sampled 5 clients (out of 10)\n"
     ]
    },
    {
     "name": "stdout",
     "output_type": "stream",
     "text": [
      "agrregate_evaluate results list length is  5\n",
      "server round is  3\n",
      "loss is  1.7166666666666666\n"
     ]
    },
    {
     "name": "stderr",
     "output_type": "stream",
     "text": [
      "DEBUG flwr 2023-08-29 08:34:19,940 | server.py:236 | fit_round 4 received 5 results and 0 failures\n",
      "DEBUG flwr 2023-08-29 08:34:20,030 | server.py:173 | evaluate_round 4: strategy sampled 5 clients (out of 10)\n"
     ]
    },
    {
     "name": "stdout",
     "output_type": "stream",
     "text": [
      "agrregate_fit results list length is  5\n",
      "Saving round 4 aggregated_parameters...\n"
     ]
    },
    {
     "name": "stderr",
     "output_type": "stream",
     "text": [
      "DEBUG flwr 2023-08-29 08:34:20,412 | server.py:187 | evaluate_round 4 received 5 results and 0 failures\n",
      "DEBUG flwr 2023-08-29 08:34:20,413 | server.py:222 | fit_round 5: strategy sampled 5 clients (out of 10)\n"
     ]
    },
    {
     "name": "stdout",
     "output_type": "stream",
     "text": [
      "agrregate_evaluate results list length is  5\n",
      "server round is  4\n",
      "loss is  1.1777777777777778\n"
     ]
    },
    {
     "name": "stderr",
     "output_type": "stream",
     "text": [
      "DEBUG flwr 2023-08-29 08:34:34,377 | server.py:236 | fit_round 5 received 5 results and 0 failures\n",
      "DEBUG flwr 2023-08-29 08:34:34,480 | server.py:173 | evaluate_round 5: strategy sampled 5 clients (out of 10)\n"
     ]
    },
    {
     "name": "stdout",
     "output_type": "stream",
     "text": [
      "agrregate_fit results list length is  5\n",
      "Saving round 5 aggregated_parameters...\n"
     ]
    },
    {
     "name": "stderr",
     "output_type": "stream",
     "text": [
      "DEBUG flwr 2023-08-29 08:34:34,924 | server.py:187 | evaluate_round 5 received 5 results and 0 failures\n",
      "DEBUG flwr 2023-08-29 08:34:34,925 | server.py:222 | fit_round 6: strategy sampled 5 clients (out of 10)\n"
     ]
    },
    {
     "name": "stdout",
     "output_type": "stream",
     "text": [
      "agrregate_evaluate results list length is  5\n",
      "server round is  5\n",
      "loss is  1.0722222222222222\n"
     ]
    },
    {
     "name": "stderr",
     "output_type": "stream",
     "text": [
      "DEBUG flwr 2023-08-29 08:34:37,463 | server.py:236 | fit_round 6 received 5 results and 0 failures\n",
      "DEBUG flwr 2023-08-29 08:34:37,590 | server.py:173 | evaluate_round 6: strategy sampled 5 clients (out of 10)\n"
     ]
    },
    {
     "name": "stdout",
     "output_type": "stream",
     "text": [
      "agrregate_fit results list length is  5\n",
      "Saving round 6 aggregated_parameters...\n"
     ]
    },
    {
     "name": "stderr",
     "output_type": "stream",
     "text": [
      "DEBUG flwr 2023-08-29 08:34:38,052 | server.py:187 | evaluate_round 6 received 5 results and 0 failures\n",
      "DEBUG flwr 2023-08-29 08:34:38,054 | server.py:222 | fit_round 7: strategy sampled 5 clients (out of 10)\n"
     ]
    },
    {
     "name": "stdout",
     "output_type": "stream",
     "text": [
      "agrregate_evaluate results list length is  5\n",
      "server round is  6\n",
      "loss is  0.9722222222222222\n"
     ]
    },
    {
     "name": "stderr",
     "output_type": "stream",
     "text": [
      "DEBUG flwr 2023-08-29 08:34:40,855 | server.py:236 | fit_round 7 received 5 results and 0 failures\n",
      "DEBUG flwr 2023-08-29 08:34:40,982 | server.py:173 | evaluate_round 7: strategy sampled 5 clients (out of 10)\n"
     ]
    },
    {
     "name": "stdout",
     "output_type": "stream",
     "text": [
      "agrregate_fit results list length is  5\n",
      "Saving round 7 aggregated_parameters...\n"
     ]
    },
    {
     "name": "stderr",
     "output_type": "stream",
     "text": [
      "DEBUG flwr 2023-08-29 08:34:41,447 | server.py:187 | evaluate_round 7 received 5 results and 0 failures\n",
      "DEBUG flwr 2023-08-29 08:34:41,448 | server.py:222 | fit_round 8: strategy sampled 5 clients (out of 10)\n"
     ]
    },
    {
     "name": "stdout",
     "output_type": "stream",
     "text": [
      "agrregate_evaluate results list length is  5\n",
      "server round is  7\n",
      "loss is  0.9833333333333333\n"
     ]
    },
    {
     "name": "stderr",
     "output_type": "stream",
     "text": [
      "DEBUG flwr 2023-08-29 08:34:44,054 | server.py:236 | fit_round 8 received 5 results and 0 failures\n"
     ]
    },
    {
     "name": "stdout",
     "output_type": "stream",
     "text": [
      "agrregate_fit results list length is  5\n"
     ]
    },
    {
     "name": "stderr",
     "output_type": "stream",
     "text": [
      "DEBUG flwr 2023-08-29 08:34:44,382 | server.py:173 | evaluate_round 8: strategy sampled 5 clients (out of 10)\n"
     ]
    },
    {
     "name": "stdout",
     "output_type": "stream",
     "text": [
      "Saving round 8 aggregated_parameters...\n"
     ]
    },
    {
     "name": "stderr",
     "output_type": "stream",
     "text": [
      "DEBUG flwr 2023-08-29 08:34:44,918 | server.py:187 | evaluate_round 8 received 5 results and 0 failures\n",
      "DEBUG flwr 2023-08-29 08:34:44,922 | server.py:222 | fit_round 9: strategy sampled 5 clients (out of 10)\n"
     ]
    },
    {
     "name": "stdout",
     "output_type": "stream",
     "text": [
      "agrregate_evaluate results list length is  5\n",
      "server round is  8\n",
      "loss is  1.0055555555555555\n"
     ]
    },
    {
     "name": "stderr",
     "output_type": "stream",
     "text": [
      "DEBUG flwr 2023-08-29 08:34:47,949 | server.py:236 | fit_round 9 received 5 results and 0 failures\n",
      "DEBUG flwr 2023-08-29 08:34:48,079 | server.py:173 | evaluate_round 9: strategy sampled 5 clients (out of 10)\n"
     ]
    },
    {
     "name": "stdout",
     "output_type": "stream",
     "text": [
      "agrregate_fit results list length is  5\n",
      "Saving round 9 aggregated_parameters...\n"
     ]
    },
    {
     "name": "stderr",
     "output_type": "stream",
     "text": [
      "DEBUG flwr 2023-08-29 08:34:48,564 | server.py:187 | evaluate_round 9 received 5 results and 0 failures\n",
      "DEBUG flwr 2023-08-29 08:34:48,565 | server.py:222 | fit_round 10: strategy sampled 5 clients (out of 10)\n"
     ]
    },
    {
     "name": "stdout",
     "output_type": "stream",
     "text": [
      "agrregate_evaluate results list length is  5\n",
      "server round is  9\n",
      "loss is  0.9722222222222222\n"
     ]
    },
    {
     "name": "stderr",
     "output_type": "stream",
     "text": [
      "DEBUG flwr 2023-08-29 08:35:04,607 | server.py:236 | fit_round 10 received 5 results and 0 failures\n",
      "DEBUG flwr 2023-08-29 08:35:04,714 | server.py:173 | evaluate_round 10: strategy sampled 5 clients (out of 10)\n"
     ]
    },
    {
     "name": "stdout",
     "output_type": "stream",
     "text": [
      "agrregate_fit results list length is  5\n",
      "Saving round 10 aggregated_parameters...\n"
     ]
    },
    {
     "name": "stderr",
     "output_type": "stream",
     "text": [
      "DEBUG flwr 2023-08-29 08:35:05,174 | server.py:187 | evaluate_round 10 received 5 results and 0 failures\n",
      "DEBUG flwr 2023-08-29 08:35:05,176 | server.py:222 | fit_round 11: strategy sampled 5 clients (out of 10)\n"
     ]
    },
    {
     "name": "stdout",
     "output_type": "stream",
     "text": [
      "agrregate_evaluate results list length is  5\n",
      "server round is  10\n",
      "loss is  1.0666666666666667\n"
     ]
    },
    {
     "name": "stderr",
     "output_type": "stream",
     "text": [
      "DEBUG flwr 2023-08-29 08:35:19,869 | server.py:236 | fit_round 11 received 5 results and 0 failures\n",
      "DEBUG flwr 2023-08-29 08:35:19,989 | server.py:173 | evaluate_round 11: strategy sampled 5 clients (out of 10)\n"
     ]
    },
    {
     "name": "stdout",
     "output_type": "stream",
     "text": [
      "agrregate_fit results list length is  5\n",
      "Saving round 11 aggregated_parameters...\n"
     ]
    },
    {
     "name": "stderr",
     "output_type": "stream",
     "text": [
      "DEBUG flwr 2023-08-29 08:35:20,435 | server.py:187 | evaluate_round 11 received 5 results and 0 failures\n",
      "DEBUG flwr 2023-08-29 08:35:20,438 | server.py:222 | fit_round 12: strategy sampled 5 clients (out of 10)\n"
     ]
    },
    {
     "name": "stdout",
     "output_type": "stream",
     "text": [
      "agrregate_evaluate results list length is  5\n",
      "server round is  11\n",
      "loss is  0.8166666666666667\n"
     ]
    },
    {
     "name": "stderr",
     "output_type": "stream",
     "text": [
      "DEBUG flwr 2023-08-29 08:35:23,798 | server.py:236 | fit_round 12 received 5 results and 0 failures\n",
      "DEBUG flwr 2023-08-29 08:35:23,935 | server.py:173 | evaluate_round 12: strategy sampled 5 clients (out of 10)\n"
     ]
    },
    {
     "name": "stdout",
     "output_type": "stream",
     "text": [
      "agrregate_fit results list length is  5\n",
      "Saving round 12 aggregated_parameters...\n"
     ]
    },
    {
     "name": "stderr",
     "output_type": "stream",
     "text": [
      "DEBUG flwr 2023-08-29 08:35:24,428 | server.py:187 | evaluate_round 12 received 5 results and 0 failures\n",
      "DEBUG flwr 2023-08-29 08:35:24,430 | server.py:222 | fit_round 13: strategy sampled 5 clients (out of 10)\n"
     ]
    },
    {
     "name": "stdout",
     "output_type": "stream",
     "text": [
      "agrregate_evaluate results list length is  5\n",
      "server round is  12\n",
      "loss is  0.95\n"
     ]
    },
    {
     "name": "stderr",
     "output_type": "stream",
     "text": [
      "DEBUG flwr 2023-08-29 08:35:27,173 | server.py:236 | fit_round 13 received 5 results and 0 failures\n",
      "DEBUG flwr 2023-08-29 08:35:27,303 | server.py:173 | evaluate_round 13: strategy sampled 5 clients (out of 10)\n"
     ]
    },
    {
     "name": "stdout",
     "output_type": "stream",
     "text": [
      "agrregate_fit results list length is  5\n",
      "Saving round 13 aggregated_parameters...\n"
     ]
    },
    {
     "name": "stderr",
     "output_type": "stream",
     "text": [
      "DEBUG flwr 2023-08-29 08:35:27,783 | server.py:187 | evaluate_round 13 received 5 results and 0 failures\n",
      "DEBUG flwr 2023-08-29 08:35:27,785 | server.py:222 | fit_round 14: strategy sampled 5 clients (out of 10)\n"
     ]
    },
    {
     "name": "stdout",
     "output_type": "stream",
     "text": [
      "agrregate_evaluate results list length is  5\n",
      "server round is  13\n",
      "loss is  0.8222222222222222\n"
     ]
    },
    {
     "name": "stderr",
     "output_type": "stream",
     "text": [
      "DEBUG flwr 2023-08-29 08:35:43,245 | server.py:236 | fit_round 14 received 5 results and 0 failures\n",
      "DEBUG flwr 2023-08-29 08:35:43,376 | server.py:173 | evaluate_round 14: strategy sampled 5 clients (out of 10)\n"
     ]
    },
    {
     "name": "stdout",
     "output_type": "stream",
     "text": [
      "agrregate_fit results list length is  5\n",
      "Saving round 14 aggregated_parameters...\n"
     ]
    },
    {
     "name": "stderr",
     "output_type": "stream",
     "text": [
      "DEBUG flwr 2023-08-29 08:35:43,826 | server.py:187 | evaluate_round 14 received 5 results and 0 failures\n",
      "DEBUG flwr 2023-08-29 08:35:43,828 | server.py:222 | fit_round 15: strategy sampled 5 clients (out of 10)\n"
     ]
    },
    {
     "name": "stdout",
     "output_type": "stream",
     "text": [
      "agrregate_evaluate results list length is  5\n",
      "server round is  14\n",
      "loss is  0.9833333333333333\n"
     ]
    },
    {
     "name": "stderr",
     "output_type": "stream",
     "text": [
      "DEBUG flwr 2023-08-29 08:35:46,757 | server.py:236 | fit_round 15 received 5 results and 0 failures\n",
      "DEBUG flwr 2023-08-29 08:35:46,890 | server.py:173 | evaluate_round 15: strategy sampled 5 clients (out of 10)\n"
     ]
    },
    {
     "name": "stdout",
     "output_type": "stream",
     "text": [
      "agrregate_fit results list length is  5\n",
      "Saving round 15 aggregated_parameters...\n"
     ]
    },
    {
     "name": "stderr",
     "output_type": "stream",
     "text": [
      "DEBUG flwr 2023-08-29 08:35:47,382 | server.py:187 | evaluate_round 15 received 5 results and 0 failures\n",
      "DEBUG flwr 2023-08-29 08:35:47,384 | server.py:222 | fit_round 16: strategy sampled 5 clients (out of 10)\n"
     ]
    },
    {
     "name": "stdout",
     "output_type": "stream",
     "text": [
      "agrregate_evaluate results list length is  5\n",
      "server round is  15\n",
      "loss is  0.7666666666666667\n"
     ]
    },
    {
     "name": "stderr",
     "output_type": "stream",
     "text": [
      "DEBUG flwr 2023-08-29 08:35:50,075 | server.py:236 | fit_round 16 received 5 results and 0 failures\n",
      "DEBUG flwr 2023-08-29 08:35:50,201 | server.py:173 | evaluate_round 16: strategy sampled 5 clients (out of 10)\n"
     ]
    },
    {
     "name": "stdout",
     "output_type": "stream",
     "text": [
      "agrregate_fit results list length is  5\n",
      "Saving round 16 aggregated_parameters...\n"
     ]
    },
    {
     "name": "stderr",
     "output_type": "stream",
     "text": [
      "DEBUG flwr 2023-08-29 08:35:50,653 | server.py:187 | evaluate_round 16 received 5 results and 0 failures\n",
      "DEBUG flwr 2023-08-29 08:35:50,655 | server.py:222 | fit_round 17: strategy sampled 5 clients (out of 10)\n"
     ]
    },
    {
     "name": "stdout",
     "output_type": "stream",
     "text": [
      "agrregate_evaluate results list length is  5\n",
      "server round is  16\n",
      "loss is  0.7722222222222223\n"
     ]
    },
    {
     "name": "stderr",
     "output_type": "stream",
     "text": [
      "DEBUG flwr 2023-08-29 08:36:05,709 | server.py:236 | fit_round 17 received 5 results and 0 failures\n",
      "DEBUG flwr 2023-08-29 08:36:05,808 | server.py:173 | evaluate_round 17: strategy sampled 5 clients (out of 10)\n"
     ]
    },
    {
     "name": "stdout",
     "output_type": "stream",
     "text": [
      "agrregate_fit results list length is  5\n",
      "Saving round 17 aggregated_parameters...\n"
     ]
    },
    {
     "name": "stderr",
     "output_type": "stream",
     "text": [
      "DEBUG flwr 2023-08-29 08:36:06,223 | server.py:187 | evaluate_round 17 received 5 results and 0 failures\n",
      "DEBUG flwr 2023-08-29 08:36:06,224 | server.py:222 | fit_round 18: strategy sampled 5 clients (out of 10)\n"
     ]
    },
    {
     "name": "stdout",
     "output_type": "stream",
     "text": [
      "agrregate_evaluate results list length is  5\n",
      "server round is  17\n",
      "loss is  0.7333333333333333\n"
     ]
    },
    {
     "name": "stderr",
     "output_type": "stream",
     "text": [
      "DEBUG flwr 2023-08-29 08:36:09,506 | server.py:236 | fit_round 18 received 5 results and 0 failures\n",
      "DEBUG flwr 2023-08-29 08:36:09,673 | server.py:173 | evaluate_round 18: strategy sampled 5 clients (out of 10)\n"
     ]
    },
    {
     "name": "stdout",
     "output_type": "stream",
     "text": [
      "agrregate_fit results list length is  5\n",
      "Saving round 18 aggregated_parameters...\n"
     ]
    },
    {
     "name": "stderr",
     "output_type": "stream",
     "text": [
      "DEBUG flwr 2023-08-29 08:36:10,202 | server.py:187 | evaluate_round 18 received 5 results and 0 failures\n",
      "DEBUG flwr 2023-08-29 08:36:10,203 | server.py:222 | fit_round 19: strategy sampled 5 clients (out of 10)\n"
     ]
    },
    {
     "name": "stdout",
     "output_type": "stream",
     "text": [
      "agrregate_evaluate results list length is  5\n",
      "server round is  18\n",
      "loss is  0.7444444444444445\n"
     ]
    },
    {
     "name": "stderr",
     "output_type": "stream",
     "text": [
      "DEBUG flwr 2023-08-29 08:36:13,002 | server.py:236 | fit_round 19 received 5 results and 0 failures\n",
      "DEBUG flwr 2023-08-29 08:36:13,172 | server.py:173 | evaluate_round 19: strategy sampled 5 clients (out of 10)\n"
     ]
    },
    {
     "name": "stdout",
     "output_type": "stream",
     "text": [
      "agrregate_fit results list length is  5\n",
      "Saving round 19 aggregated_parameters...\n"
     ]
    },
    {
     "name": "stderr",
     "output_type": "stream",
     "text": [
      "DEBUG flwr 2023-08-29 08:36:13,665 | server.py:187 | evaluate_round 19 received 5 results and 0 failures\n",
      "DEBUG flwr 2023-08-29 08:36:13,667 | server.py:222 | fit_round 20: strategy sampled 5 clients (out of 10)\n"
     ]
    },
    {
     "name": "stdout",
     "output_type": "stream",
     "text": [
      "agrregate_evaluate results list length is  5\n",
      "server round is  19\n",
      "loss is  0.7555555555555555\n"
     ]
    },
    {
     "name": "stderr",
     "output_type": "stream",
     "text": [
      "DEBUG flwr 2023-08-29 08:36:16,754 | server.py:236 | fit_round 20 received 5 results and 0 failures\n",
      "DEBUG flwr 2023-08-29 08:36:16,925 | server.py:173 | evaluate_round 20: strategy sampled 5 clients (out of 10)\n"
     ]
    },
    {
     "name": "stdout",
     "output_type": "stream",
     "text": [
      "agrregate_fit results list length is  5\n",
      "Saving round 20 aggregated_parameters...\n"
     ]
    },
    {
     "name": "stderr",
     "output_type": "stream",
     "text": [
      "DEBUG flwr 2023-08-29 08:36:17,501 | server.py:187 | evaluate_round 20 received 5 results and 0 failures\n",
      "DEBUG flwr 2023-08-29 08:36:17,502 | server.py:222 | fit_round 21: strategy sampled 5 clients (out of 10)\n"
     ]
    },
    {
     "name": "stdout",
     "output_type": "stream",
     "text": [
      "agrregate_evaluate results list length is  5\n",
      "server round is  20\n",
      "loss is  0.7388888888888889\n"
     ]
    },
    {
     "name": "stderr",
     "output_type": "stream",
     "text": [
      "DEBUG flwr 2023-08-29 08:36:33,100 | server.py:236 | fit_round 21 received 5 results and 0 failures\n",
      "DEBUG flwr 2023-08-29 08:36:33,210 | server.py:173 | evaluate_round 21: strategy sampled 5 clients (out of 10)\n"
     ]
    },
    {
     "name": "stdout",
     "output_type": "stream",
     "text": [
      "agrregate_fit results list length is  5\n",
      "Saving round 21 aggregated_parameters...\n"
     ]
    },
    {
     "name": "stderr",
     "output_type": "stream",
     "text": [
      "DEBUG flwr 2023-08-29 08:36:33,670 | server.py:187 | evaluate_round 21 received 5 results and 0 failures\n",
      "DEBUG flwr 2023-08-29 08:36:33,672 | server.py:222 | fit_round 22: strategy sampled 5 clients (out of 10)\n"
     ]
    },
    {
     "name": "stdout",
     "output_type": "stream",
     "text": [
      "agrregate_evaluate results list length is  5\n",
      "server round is  21\n",
      "loss is  0.7333333333333333\n"
     ]
    },
    {
     "name": "stderr",
     "output_type": "stream",
     "text": [
      "DEBUG flwr 2023-08-29 08:36:48,954 | server.py:236 | fit_round 22 received 5 results and 0 failures\n",
      "DEBUG flwr 2023-08-29 08:36:49,059 | server.py:173 | evaluate_round 22: strategy sampled 5 clients (out of 10)\n"
     ]
    },
    {
     "name": "stdout",
     "output_type": "stream",
     "text": [
      "agrregate_fit results list length is  5\n",
      "Saving round 22 aggregated_parameters...\n"
     ]
    },
    {
     "name": "stderr",
     "output_type": "stream",
     "text": [
      "DEBUG flwr 2023-08-29 08:36:49,499 | server.py:187 | evaluate_round 22 received 5 results and 0 failures\n",
      "DEBUG flwr 2023-08-29 08:36:49,501 | server.py:222 | fit_round 23: strategy sampled 5 clients (out of 10)\n"
     ]
    },
    {
     "name": "stdout",
     "output_type": "stream",
     "text": [
      "agrregate_evaluate results list length is  5\n",
      "server round is  22\n",
      "loss is  0.7166666666666667\n"
     ]
    },
    {
     "name": "stderr",
     "output_type": "stream",
     "text": [
      "DEBUG flwr 2023-08-29 08:36:52,517 | server.py:236 | fit_round 23 received 5 results and 0 failures\n",
      "DEBUG flwr 2023-08-29 08:36:52,657 | server.py:173 | evaluate_round 23: strategy sampled 5 clients (out of 10)\n"
     ]
    },
    {
     "name": "stdout",
     "output_type": "stream",
     "text": [
      "agrregate_fit results list length is  5\n",
      "Saving round 23 aggregated_parameters...\n"
     ]
    },
    {
     "name": "stderr",
     "output_type": "stream",
     "text": [
      "DEBUG flwr 2023-08-29 08:36:53,255 | server.py:187 | evaluate_round 23 received 5 results and 0 failures\n",
      "DEBUG flwr 2023-08-29 08:36:53,258 | server.py:222 | fit_round 24: strategy sampled 5 clients (out of 10)\n"
     ]
    },
    {
     "name": "stdout",
     "output_type": "stream",
     "text": [
      "agrregate_evaluate results list length is  5\n",
      "server round is  23\n",
      "loss is  0.7388888888888889\n"
     ]
    },
    {
     "name": "stderr",
     "output_type": "stream",
     "text": [
      "DEBUG flwr 2023-08-29 08:37:09,119 | server.py:236 | fit_round 24 received 5 results and 0 failures\n",
      "DEBUG flwr 2023-08-29 08:37:09,237 | server.py:173 | evaluate_round 24: strategy sampled 5 clients (out of 10)\n"
     ]
    },
    {
     "name": "stdout",
     "output_type": "stream",
     "text": [
      "agrregate_fit results list length is  5\n",
      "Saving round 24 aggregated_parameters...\n"
     ]
    },
    {
     "name": "stderr",
     "output_type": "stream",
     "text": [
      "DEBUG flwr 2023-08-29 08:37:09,735 | server.py:187 | evaluate_round 24 received 5 results and 0 failures\n",
      "DEBUG flwr 2023-08-29 08:37:09,737 | server.py:222 | fit_round 25: strategy sampled 5 clients (out of 10)\n"
     ]
    },
    {
     "name": "stdout",
     "output_type": "stream",
     "text": [
      "agrregate_evaluate results list length is  5\n",
      "server round is  24\n",
      "loss is  0.7388888888888889\n"
     ]
    },
    {
     "name": "stderr",
     "output_type": "stream",
     "text": [
      "DEBUG flwr 2023-08-29 08:37:12,307 | server.py:236 | fit_round 25 received 5 results and 0 failures\n",
      "DEBUG flwr 2023-08-29 08:37:12,456 | server.py:173 | evaluate_round 25: strategy sampled 5 clients (out of 10)\n"
     ]
    },
    {
     "name": "stdout",
     "output_type": "stream",
     "text": [
      "agrregate_fit results list length is  5\n",
      "Saving round 25 aggregated_parameters...\n"
     ]
    },
    {
     "name": "stderr",
     "output_type": "stream",
     "text": [
      "DEBUG flwr 2023-08-29 08:37:12,941 | server.py:187 | evaluate_round 25 received 5 results and 0 failures\n",
      "DEBUG flwr 2023-08-29 08:37:12,943 | server.py:222 | fit_round 26: strategy sampled 5 clients (out of 10)\n"
     ]
    },
    {
     "name": "stdout",
     "output_type": "stream",
     "text": [
      "agrregate_evaluate results list length is  5\n",
      "server round is  25\n",
      "loss is  0.7111111111111111\n"
     ]
    },
    {
     "name": "stderr",
     "output_type": "stream",
     "text": [
      "DEBUG flwr 2023-08-29 08:37:15,593 | server.py:236 | fit_round 26 received 5 results and 0 failures\n",
      "DEBUG flwr 2023-08-29 08:37:15,760 | server.py:173 | evaluate_round 26: strategy sampled 5 clients (out of 10)\n"
     ]
    },
    {
     "name": "stdout",
     "output_type": "stream",
     "text": [
      "agrregate_fit results list length is  5\n",
      "Saving round 26 aggregated_parameters...\n"
     ]
    },
    {
     "name": "stderr",
     "output_type": "stream",
     "text": [
      "DEBUG flwr 2023-08-29 08:37:16,345 | server.py:187 | evaluate_round 26 received 5 results and 0 failures\n",
      "DEBUG flwr 2023-08-29 08:37:16,347 | server.py:222 | fit_round 27: strategy sampled 5 clients (out of 10)\n"
     ]
    },
    {
     "name": "stdout",
     "output_type": "stream",
     "text": [
      "agrregate_evaluate results list length is  5\n",
      "server round is  26\n",
      "loss is  0.7222222222222222\n"
     ]
    },
    {
     "name": "stderr",
     "output_type": "stream",
     "text": [
      "DEBUG flwr 2023-08-29 08:37:32,461 | server.py:236 | fit_round 27 received 5 results and 0 failures\n",
      "DEBUG flwr 2023-08-29 08:37:32,561 | server.py:173 | evaluate_round 27: strategy sampled 5 clients (out of 10)\n"
     ]
    },
    {
     "name": "stdout",
     "output_type": "stream",
     "text": [
      "agrregate_fit results list length is  5\n",
      "Saving round 27 aggregated_parameters...\n"
     ]
    },
    {
     "name": "stderr",
     "output_type": "stream",
     "text": [
      "DEBUG flwr 2023-08-29 08:37:33,047 | server.py:187 | evaluate_round 27 received 5 results and 0 failures\n",
      "DEBUG flwr 2023-08-29 08:37:33,049 | server.py:222 | fit_round 28: strategy sampled 5 clients (out of 10)\n"
     ]
    },
    {
     "name": "stdout",
     "output_type": "stream",
     "text": [
      "agrregate_evaluate results list length is  5\n",
      "server round is  27\n",
      "loss is  0.6666666666666666\n"
     ]
    },
    {
     "name": "stderr",
     "output_type": "stream",
     "text": [
      "DEBUG flwr 2023-08-29 08:37:36,161 | server.py:236 | fit_round 28 received 5 results and 0 failures\n",
      "DEBUG flwr 2023-08-29 08:37:36,296 | server.py:173 | evaluate_round 28: strategy sampled 5 clients (out of 10)\n"
     ]
    },
    {
     "name": "stdout",
     "output_type": "stream",
     "text": [
      "agrregate_fit results list length is  5\n",
      "Saving round 28 aggregated_parameters...\n"
     ]
    },
    {
     "name": "stderr",
     "output_type": "stream",
     "text": [
      "DEBUG flwr 2023-08-29 08:37:36,792 | server.py:187 | evaluate_round 28 received 5 results and 0 failures\n",
      "DEBUG flwr 2023-08-29 08:37:36,793 | server.py:222 | fit_round 29: strategy sampled 5 clients (out of 10)\n"
     ]
    },
    {
     "name": "stdout",
     "output_type": "stream",
     "text": [
      "agrregate_evaluate results list length is  5\n",
      "server round is  28\n",
      "loss is  0.6944444444444444\n"
     ]
    },
    {
     "name": "stderr",
     "output_type": "stream",
     "text": [
      "DEBUG flwr 2023-08-29 08:37:39,790 | server.py:236 | fit_round 29 received 5 results and 0 failures\n",
      "DEBUG flwr 2023-08-29 08:37:39,919 | server.py:173 | evaluate_round 29: strategy sampled 5 clients (out of 10)\n"
     ]
    },
    {
     "name": "stdout",
     "output_type": "stream",
     "text": [
      "agrregate_fit results list length is  5\n",
      "Saving round 29 aggregated_parameters...\n"
     ]
    },
    {
     "name": "stderr",
     "output_type": "stream",
     "text": [
      "DEBUG flwr 2023-08-29 08:37:40,501 | server.py:187 | evaluate_round 29 received 5 results and 0 failures\n",
      "DEBUG flwr 2023-08-29 08:37:40,502 | server.py:222 | fit_round 30: strategy sampled 5 clients (out of 10)\n"
     ]
    },
    {
     "name": "stdout",
     "output_type": "stream",
     "text": [
      "agrregate_evaluate results list length is  5\n",
      "server round is  29\n",
      "loss is  0.6944444444444444\n"
     ]
    },
    {
     "name": "stderr",
     "output_type": "stream",
     "text": [
      "DEBUG flwr 2023-08-29 08:37:43,624 | server.py:236 | fit_round 30 received 5 results and 0 failures\n",
      "DEBUG flwr 2023-08-29 08:37:43,830 | server.py:173 | evaluate_round 30: strategy sampled 5 clients (out of 10)\n"
     ]
    },
    {
     "name": "stdout",
     "output_type": "stream",
     "text": [
      "agrregate_fit results list length is  5\n",
      "Saving round 30 aggregated_parameters...\n"
     ]
    },
    {
     "name": "stderr",
     "output_type": "stream",
     "text": [
      "DEBUG flwr 2023-08-29 08:37:44,488 | server.py:187 | evaluate_round 30 received 5 results and 0 failures\n",
      "DEBUG flwr 2023-08-29 08:37:44,491 | server.py:222 | fit_round 31: strategy sampled 5 clients (out of 10)\n"
     ]
    },
    {
     "name": "stdout",
     "output_type": "stream",
     "text": [
      "agrregate_evaluate results list length is  5\n",
      "server round is  30\n",
      "loss is  0.6833333333333333\n"
     ]
    },
    {
     "name": "stderr",
     "output_type": "stream",
     "text": [
      "DEBUG flwr 2023-08-29 08:37:47,817 | server.py:236 | fit_round 31 received 5 results and 0 failures\n",
      "DEBUG flwr 2023-08-29 08:37:47,996 | server.py:173 | evaluate_round 31: strategy sampled 5 clients (out of 10)\n"
     ]
    },
    {
     "name": "stdout",
     "output_type": "stream",
     "text": [
      "agrregate_fit results list length is  5\n",
      "Saving round 31 aggregated_parameters...\n"
     ]
    },
    {
     "name": "stderr",
     "output_type": "stream",
     "text": [
      "DEBUG flwr 2023-08-29 08:37:48,594 | server.py:187 | evaluate_round 31 received 5 results and 0 failures\n",
      "DEBUG flwr 2023-08-29 08:37:48,596 | server.py:222 | fit_round 32: strategy sampled 5 clients (out of 10)\n"
     ]
    },
    {
     "name": "stdout",
     "output_type": "stream",
     "text": [
      "agrregate_evaluate results list length is  5\n",
      "server round is  31\n",
      "loss is  0.7277777777777777\n"
     ]
    },
    {
     "name": "stderr",
     "output_type": "stream",
     "text": [
      "DEBUG flwr 2023-08-29 08:38:05,482 | server.py:236 | fit_round 32 received 5 results and 0 failures\n",
      "DEBUG flwr 2023-08-29 08:38:05,608 | server.py:173 | evaluate_round 32: strategy sampled 5 clients (out of 10)\n"
     ]
    },
    {
     "name": "stdout",
     "output_type": "stream",
     "text": [
      "agrregate_fit results list length is  5\n",
      "Saving round 32 aggregated_parameters...\n"
     ]
    },
    {
     "name": "stderr",
     "output_type": "stream",
     "text": [
      "DEBUG flwr 2023-08-29 08:38:06,053 | server.py:187 | evaluate_round 32 received 5 results and 0 failures\n",
      "DEBUG flwr 2023-08-29 08:38:06,055 | server.py:222 | fit_round 33: strategy sampled 5 clients (out of 10)\n"
     ]
    },
    {
     "name": "stdout",
     "output_type": "stream",
     "text": [
      "agrregate_evaluate results list length is  5\n",
      "server round is  32\n",
      "loss is  0.6944444444444444\n"
     ]
    },
    {
     "name": "stderr",
     "output_type": "stream",
     "text": [
      "DEBUG flwr 2023-08-29 08:38:08,940 | server.py:236 | fit_round 33 received 5 results and 0 failures\n",
      "DEBUG flwr 2023-08-29 08:38:09,101 | server.py:173 | evaluate_round 33: strategy sampled 5 clients (out of 10)\n"
     ]
    },
    {
     "name": "stdout",
     "output_type": "stream",
     "text": [
      "agrregate_fit results list length is  5\n",
      "Saving round 33 aggregated_parameters...\n"
     ]
    },
    {
     "name": "stderr",
     "output_type": "stream",
     "text": [
      "DEBUG flwr 2023-08-29 08:38:09,612 | server.py:187 | evaluate_round 33 received 5 results and 0 failures\n",
      "DEBUG flwr 2023-08-29 08:38:09,614 | server.py:222 | fit_round 34: strategy sampled 5 clients (out of 10)\n"
     ]
    },
    {
     "name": "stdout",
     "output_type": "stream",
     "text": [
      "agrregate_evaluate results list length is  5\n",
      "server round is  33\n",
      "loss is  0.7222222222222222\n"
     ]
    },
    {
     "name": "stderr",
     "output_type": "stream",
     "text": [
      "DEBUG flwr 2023-08-29 08:38:24,601 | server.py:236 | fit_round 34 received 5 results and 0 failures\n",
      "DEBUG flwr 2023-08-29 08:38:24,734 | server.py:173 | evaluate_round 34: strategy sampled 5 clients (out of 10)\n"
     ]
    },
    {
     "name": "stdout",
     "output_type": "stream",
     "text": [
      "agrregate_fit results list length is  5\n",
      "Saving round 34 aggregated_parameters...\n"
     ]
    },
    {
     "name": "stderr",
     "output_type": "stream",
     "text": [
      "DEBUG flwr 2023-08-29 08:38:25,213 | server.py:187 | evaluate_round 34 received 5 results and 0 failures\n",
      "DEBUG flwr 2023-08-29 08:38:25,214 | server.py:222 | fit_round 35: strategy sampled 5 clients (out of 10)\n"
     ]
    },
    {
     "name": "stdout",
     "output_type": "stream",
     "text": [
      "agrregate_evaluate results list length is  5\n",
      "server round is  34\n",
      "loss is  0.7222222222222222\n"
     ]
    },
    {
     "name": "stderr",
     "output_type": "stream",
     "text": [
      "DEBUG flwr 2023-08-29 08:38:27,591 | server.py:236 | fit_round 35 received 5 results and 0 failures\n",
      "DEBUG flwr 2023-08-29 08:38:27,729 | server.py:173 | evaluate_round 35: strategy sampled 5 clients (out of 10)\n"
     ]
    },
    {
     "name": "stdout",
     "output_type": "stream",
     "text": [
      "agrregate_fit results list length is  5\n",
      "Saving round 35 aggregated_parameters...\n"
     ]
    },
    {
     "name": "stderr",
     "output_type": "stream",
     "text": [
      "DEBUG flwr 2023-08-29 08:38:28,223 | server.py:187 | evaluate_round 35 received 5 results and 0 failures\n",
      "DEBUG flwr 2023-08-29 08:38:28,224 | server.py:222 | fit_round 36: strategy sampled 5 clients (out of 10)\n"
     ]
    },
    {
     "name": "stdout",
     "output_type": "stream",
     "text": [
      "agrregate_evaluate results list length is  5\n",
      "server round is  35\n",
      "loss is  0.7222222222222222\n"
     ]
    },
    {
     "name": "stderr",
     "output_type": "stream",
     "text": [
      "DEBUG flwr 2023-08-29 08:38:30,859 | server.py:236 | fit_round 36 received 5 results and 0 failures\n",
      "DEBUG flwr 2023-08-29 08:38:31,031 | server.py:173 | evaluate_round 36: strategy sampled 5 clients (out of 10)\n"
     ]
    },
    {
     "name": "stdout",
     "output_type": "stream",
     "text": [
      "agrregate_fit results list length is  5\n",
      "Saving round 36 aggregated_parameters...\n"
     ]
    },
    {
     "name": "stderr",
     "output_type": "stream",
     "text": [
      "DEBUG flwr 2023-08-29 08:38:31,501 | server.py:187 | evaluate_round 36 received 5 results and 0 failures\n",
      "DEBUG flwr 2023-08-29 08:38:31,503 | server.py:222 | fit_round 37: strategy sampled 5 clients (out of 10)\n"
     ]
    },
    {
     "name": "stdout",
     "output_type": "stream",
     "text": [
      "agrregate_evaluate results list length is  5\n",
      "server round is  36\n",
      "loss is  0.6999999999999998\n"
     ]
    },
    {
     "name": "stderr",
     "output_type": "stream",
     "text": [
      "DEBUG flwr 2023-08-29 08:38:34,379 | server.py:236 | fit_round 37 received 5 results and 0 failures\n",
      "DEBUG flwr 2023-08-29 08:38:34,592 | server.py:173 | evaluate_round 37: strategy sampled 5 clients (out of 10)\n"
     ]
    },
    {
     "name": "stdout",
     "output_type": "stream",
     "text": [
      "agrregate_fit results list length is  5\n",
      "Saving round 37 aggregated_parameters...\n"
     ]
    },
    {
     "name": "stderr",
     "output_type": "stream",
     "text": [
      "DEBUG flwr 2023-08-29 08:38:35,226 | server.py:187 | evaluate_round 37 received 5 results and 0 failures\n",
      "DEBUG flwr 2023-08-29 08:38:35,228 | server.py:222 | fit_round 38: strategy sampled 5 clients (out of 10)\n"
     ]
    },
    {
     "name": "stdout",
     "output_type": "stream",
     "text": [
      "agrregate_evaluate results list length is  5\n",
      "server round is  37\n",
      "loss is  0.6722222222222224\n"
     ]
    },
    {
     "name": "stderr",
     "output_type": "stream",
     "text": [
      "DEBUG flwr 2023-08-29 08:39:00,239 | server.py:236 | fit_round 38 received 5 results and 0 failures\n",
      "DEBUG flwr 2023-08-29 08:39:00,408 | server.py:173 | evaluate_round 38: strategy sampled 5 clients (out of 10)\n"
     ]
    },
    {
     "name": "stdout",
     "output_type": "stream",
     "text": [
      "agrregate_fit results list length is  5\n",
      "Saving round 38 aggregated_parameters...\n"
     ]
    },
    {
     "name": "stderr",
     "output_type": "stream",
     "text": [
      "DEBUG flwr 2023-08-29 08:39:01,035 | server.py:187 | evaluate_round 38 received 5 results and 0 failures\n",
      "DEBUG flwr 2023-08-29 08:39:01,037 | server.py:222 | fit_round 39: strategy sampled 5 clients (out of 10)\n"
     ]
    },
    {
     "name": "stdout",
     "output_type": "stream",
     "text": [
      "agrregate_evaluate results list length is  5\n",
      "server round is  38\n",
      "loss is  0.6888888888888889\n"
     ]
    },
    {
     "name": "stderr",
     "output_type": "stream",
     "text": [
      "DEBUG flwr 2023-08-29 08:39:22,412 | server.py:236 | fit_round 39 received 5 results and 0 failures\n",
      "DEBUG flwr 2023-08-29 08:39:22,544 | server.py:173 | evaluate_round 39: strategy sampled 5 clients (out of 10)\n"
     ]
    },
    {
     "name": "stdout",
     "output_type": "stream",
     "text": [
      "agrregate_fit results list length is  5\n",
      "Saving round 39 aggregated_parameters...\n"
     ]
    },
    {
     "name": "stderr",
     "output_type": "stream",
     "text": [
      "DEBUG flwr 2023-08-29 08:39:23,134 | server.py:187 | evaluate_round 39 received 5 results and 0 failures\n",
      "DEBUG flwr 2023-08-29 08:39:23,136 | server.py:222 | fit_round 40: strategy sampled 5 clients (out of 10)\n"
     ]
    },
    {
     "name": "stdout",
     "output_type": "stream",
     "text": [
      "agrregate_evaluate results list length is  5\n",
      "server round is  39\n",
      "loss is  0.6777777777777778\n"
     ]
    },
    {
     "name": "stderr",
     "output_type": "stream",
     "text": [
      "DEBUG flwr 2023-08-29 08:39:38,886 | server.py:236 | fit_round 40 received 5 results and 0 failures\n",
      "DEBUG flwr 2023-08-29 08:39:38,996 | server.py:173 | evaluate_round 40: strategy sampled 5 clients (out of 10)\n"
     ]
    },
    {
     "name": "stdout",
     "output_type": "stream",
     "text": [
      "agrregate_fit results list length is  5\n",
      "Saving round 40 aggregated_parameters...\n"
     ]
    },
    {
     "name": "stderr",
     "output_type": "stream",
     "text": [
      "DEBUG flwr 2023-08-29 08:39:39,418 | server.py:187 | evaluate_round 40 received 5 results and 0 failures\n",
      "INFO flwr 2023-08-29 08:39:39,419 | server.py:153 | FL finished in 377.6626211999974\n",
      "INFO flwr 2023-08-29 08:39:39,423 | app.py:225 | app_fit: losses_distributed [(1, 29.044444444444444), (2, 4.805555555555555), (3, 1.7166666666666666), (4, 1.1777777777777778), (5, 1.0722222222222222), (6, 0.9722222222222222), (7, 0.9833333333333333), (8, 1.0055555555555555), (9, 0.9722222222222222), (10, 1.0666666666666667), (11, 0.8166666666666667), (12, 0.95), (13, 0.8222222222222222), (14, 0.9833333333333333), (15, 0.7666666666666667), (16, 0.7722222222222223), (17, 0.7333333333333333), (18, 0.7444444444444445), (19, 0.7555555555555555), (20, 0.7388888888888889), (21, 0.7333333333333333), (22, 0.7166666666666667), (23, 0.7388888888888889), (24, 0.7388888888888889), (25, 0.7111111111111111), (26, 0.7222222222222222), (27, 0.6666666666666666), (28, 0.6944444444444444), (29, 0.6944444444444444), (30, 0.6833333333333333), (31, 0.7277777777777777), (32, 0.6944444444444444), (33, 0.7222222222222222), (34, 0.7222222222222222), (35, 0.7222222222222222), (36, 0.6999999999999998), (37, 0.6722222222222224), (38, 0.6888888888888889), (39, 0.6777777777777778), (40, 1.0666666666666667)]\n",
      "INFO flwr 2023-08-29 08:39:39,423 | app.py:226 | app_fit: metrics_distributed_fit {}\n",
      "INFO flwr 2023-08-29 08:39:39,424 | app.py:227 | app_fit: metrics_distributed {'mse': [(1, 145.22222222222223), (2, 24.02777777777778), (3, 8.583333333333332), (4, 5.888888888888889), (5, 5.361111111111111), (6, 4.861111111111111), (7, 4.916666666666666), (8, 5.027777777777778), (9, 4.861111111111111), (10, 5.333333333333333), (11, 4.083333333333333), (12, 4.75), (13, 4.111111111111111), (14, 4.916666666666666), (15, 3.8333333333333335), (16, 3.861111111111111), (17, 3.6666666666666665), (18, 3.7222222222222223), (19, 3.7777777777777777), (20, 3.6944444444444446), (21, 3.6666666666666665), (22, 3.5833333333333335), (23, 3.6944444444444446), (24, 3.6944444444444446), (25, 3.555555555555556), (26, 3.611111111111111), (27, 3.333333333333333), (28, 3.4722222222222223), (29, 3.4722222222222223), (30, 3.416666666666667), (31, 3.638888888888889), (32, 3.4722222222222223), (33, 3.611111111111111), (34, 3.611111111111111), (35, 3.611111111111111), (36, 3.5), (37, 3.3611111111111116), (38, 3.4444444444444446), (39, 3.3888888888888893), (40, 5.333333333333333)]}\n",
      "INFO flwr 2023-08-29 08:39:39,425 | app.py:228 | app_fit: losses_centralized []\n",
      "INFO flwr 2023-08-29 08:39:39,426 | app.py:229 | app_fit: metrics_centralized {}\n",
      "C:\\Users\\Shuyao\\AppData\\Local\\Temp\\ipykernel_11996\\3421847257.py:35: UserWarning: To copy construct from a tensor, it is recommended to use sourceTensor.clone().detach() or sourceTensor.clone().detach().requires_grad_(True), rather than torch.tensor(sourceTensor).\n",
      "  y_train = torch.reshape(torch.tensor(y_train), (-1, 1))\n",
      "C:\\Users\\Shuyao\\AppData\\Local\\Temp\\ipykernel_11996\\3421847257.py:36: UserWarning: To copy construct from a tensor, it is recommended to use sourceTensor.clone().detach() or sourceTensor.clone().detach().requires_grad_(True), rather than torch.tensor(sourceTensor).\n",
      "  y_test = torch.reshape(torch.tensor(y_test), (-1, 1))\n"
     ]
    },
    {
     "name": "stdout",
     "output_type": "stream",
     "text": [
      "agrregate_evaluate results list length is  5\n",
      "server round is  40\n",
      "loss is  1.0666666666666667\n",
      "History (loss, distributed):\n",
      "\tround 1: 29.044444444444444\n",
      "\tround 2: 4.805555555555555\n",
      "\tround 3: 1.7166666666666666\n",
      "\tround 4: 1.1777777777777778\n",
      "\tround 5: 1.0722222222222222\n",
      "\tround 6: 0.9722222222222222\n",
      "\tround 7: 0.9833333333333333\n",
      "\tround 8: 1.0055555555555555\n",
      "\tround 9: 0.9722222222222222\n",
      "\tround 10: 1.0666666666666667\n",
      "\tround 11: 0.8166666666666667\n",
      "\tround 12: 0.95\n",
      "\tround 13: 0.8222222222222222\n",
      "\tround 14: 0.9833333333333333\n",
      "\tround 15: 0.7666666666666667\n",
      "\tround 16: 0.7722222222222223\n",
      "\tround 17: 0.7333333333333333\n",
      "\tround 18: 0.7444444444444445\n",
      "\tround 19: 0.7555555555555555\n",
      "\tround 20: 0.7388888888888889\n",
      "\tround 21: 0.7333333333333333\n",
      "\tround 22: 0.7166666666666667\n",
      "\tround 23: 0.7388888888888889\n",
      "\tround 24: 0.7388888888888889\n",
      "\tround 25: 0.7111111111111111\n",
      "\tround 26: 0.7222222222222222\n",
      "\tround 27: 0.6666666666666666\n",
      "\tround 28: 0.6944444444444444\n",
      "\tround 29: 0.6944444444444444\n",
      "\tround 30: 0.6833333333333333\n",
      "\tround 31: 0.7277777777777777\n",
      "\tround 32: 0.6944444444444444\n",
      "\tround 33: 0.7222222222222222\n",
      "\tround 34: 0.7222222222222222\n",
      "\tround 35: 0.7222222222222222\n",
      "\tround 36: 0.6999999999999998\n",
      "\tround 37: 0.6722222222222224\n",
      "\tround 38: 0.6888888888888889\n",
      "\tround 39: 0.6777777777777778\n",
      "\tround 40: 1.0666666666666667\n",
      "History (metrics, distributed, evaluate):\n",
      "{'mse': [(1, 145.22222222222223), (2, 24.02777777777778), (3, 8.583333333333332), (4, 5.888888888888889), (5, 5.361111111111111), (6, 4.861111111111111), (7, 4.916666666666666), (8, 5.027777777777778), (9, 4.861111111111111), (10, 5.333333333333333), (11, 4.083333333333333), (12, 4.75), (13, 4.111111111111111), (14, 4.916666666666666), (15, 3.8333333333333335), (16, 3.861111111111111), (17, 3.6666666666666665), (18, 3.7222222222222223), (19, 3.7777777777777777), (20, 3.6944444444444446), (21, 3.6666666666666665), (22, 3.5833333333333335), (23, 3.6944444444444446), (24, 3.6944444444444446), (25, 3.555555555555556), (26, 3.611111111111111), (27, 3.333333333333333), (28, 3.4722222222222223), (29, 3.4722222222222223), (30, 3.416666666666667), (31, 3.638888888888889), (32, 3.4722222222222223), (33, 3.611111111111111), (34, 3.611111111111111), (35, 3.611111111111111), (36, 3.5), (37, 3.3611111111111116), (38, 3.4444444444444446), (39, 3.3888888888888893), (40, 5.333333333333333)]}\n",
      "[(1, 29.044444444444444), (2, 4.805555555555555), (3, 1.7166666666666666), (4, 1.1777777777777778), (5, 1.0722222222222222), (6, 0.9722222222222222), (7, 0.9833333333333333), (8, 1.0055555555555555), (9, 0.9722222222222222), (10, 1.0666666666666667), (11, 0.8166666666666667), (12, 0.95), (13, 0.8222222222222222), (14, 0.9833333333333333), (15, 0.7666666666666667), (16, 0.7722222222222223), (17, 0.7333333333333333), (18, 0.7444444444444445), (19, 0.7555555555555555), (20, 0.7388888888888889), (21, 0.7333333333333333), (22, 0.7166666666666667), (23, 0.7388888888888889), (24, 0.7388888888888889), (25, 0.7111111111111111), (26, 0.7222222222222222), (27, 0.6666666666666666), (28, 0.6944444444444444), (29, 0.6944444444444444), (30, 0.6833333333333333), (31, 0.7277777777777777), (32, 0.6944444444444444), (33, 0.7222222222222222), (34, 0.7222222222222222), (35, 0.7222222222222222), (36, 0.6999999999999998), (37, 0.6722222222222224), (38, 0.6888888888888889), (39, 0.6777777777777778), (40, 1.0666666666666667)]\n",
      "Fold 3:\n",
      "Client 0 trainset shape torch.Size([441, 3, 23])\n",
      "Client 1 trainset shape torch.Size([28, 3, 23])\n",
      "Client 2 trainset shape torch.Size([28, 3, 23])\n",
      "Client 3 trainset shape torch.Size([28, 3, 23])\n"
     ]
    },
    {
     "name": "stderr",
     "output_type": "stream",
     "text": [
      "INFO flwr 2023-08-29 08:39:39,664 | app.py:145 | Starting Flower simulation, config: ServerConfig(num_rounds=40, round_timeout=None)\n"
     ]
    },
    {
     "name": "stdout",
     "output_type": "stream",
     "text": [
      "Client 4 trainset shape torch.Size([28, 3, 23])\n",
      "Client 5 trainset shape torch.Size([28, 3, 23])\n",
      "Client 6 trainset shape torch.Size([28, 3, 23])\n",
      "Client 7 trainset shape torch.Size([28, 3, 23])\n",
      "Client 8 trainset shape torch.Size([28, 3, 23])\n",
      "Client 9 trainset shape torch.Size([28, 3, 23])\n"
     ]
    },
    {
     "name": "stderr",
     "output_type": "stream",
     "text": [
      "2023-08-29 08:39:48,383\tINFO worker.py:1627 -- Started a local Ray instance. View the dashboard at \u001B[1m\u001B[32m127.0.0.1:8265 \u001B[39m\u001B[22m\n",
      "INFO flwr 2023-08-29 08:39:53,572 | app.py:179 | Flower VCE: Ray initialized with resources: {'CPU': 8.0, 'node:127.0.0.1': 1.0, 'object_store_memory': 878754201.0, 'memory': 1757508404.0, 'GPU': 1.0}\n",
      "INFO flwr 2023-08-29 08:39:53,573 | server.py:89 | Initializing global parameters\n",
      "INFO flwr 2023-08-29 08:39:53,575 | server.py:276 | Requesting initial parameters from one random client\n",
      "INFO flwr 2023-08-29 08:39:57,153 | server.py:280 | Received initial parameters from one random client\n",
      "INFO flwr 2023-08-29 08:39:57,154 | server.py:91 | Evaluating initial parameters\n",
      "INFO flwr 2023-08-29 08:39:57,156 | server.py:104 | FL starting\n",
      "DEBUG flwr 2023-08-29 08:39:57,156 | server.py:222 | fit_round 1: strategy sampled 5 clients (out of 10)\n",
      "DEBUG flwr 2023-08-29 08:40:17,381 | server.py:236 | fit_round 1 received 5 results and 0 failures\n",
      "WARNING flwr 2023-08-29 08:40:17,443 | fedavg.py:242 | No fit_metrics_aggregation_fn provided\n",
      "DEBUG flwr 2023-08-29 08:40:17,480 | server.py:173 | evaluate_round 1: strategy sampled 5 clients (out of 10)\n"
     ]
    },
    {
     "name": "stdout",
     "output_type": "stream",
     "text": [
      "agrregate_fit results list length is  5\n",
      "Saving round 1 aggregated_parameters...\n"
     ]
    },
    {
     "name": "stderr",
     "output_type": "stream",
     "text": [
      "DEBUG flwr 2023-08-29 08:40:17,857 | server.py:187 | evaluate_round 1 received 5 results and 0 failures\n",
      "DEBUG flwr 2023-08-29 08:40:17,858 | server.py:222 | fit_round 2: strategy sampled 5 clients (out of 10)\n"
     ]
    },
    {
     "name": "stdout",
     "output_type": "stream",
     "text": [
      "agrregate_evaluate results list length is  5\n",
      "server round is  1\n",
      "loss is  4.794444444444444\n"
     ]
    },
    {
     "name": "stderr",
     "output_type": "stream",
     "text": [
      "DEBUG flwr 2023-08-29 08:40:35,399 | server.py:236 | fit_round 2 received 5 results and 0 failures\n",
      "DEBUG flwr 2023-08-29 08:40:35,531 | server.py:173 | evaluate_round 2: strategy sampled 5 clients (out of 10)\n"
     ]
    },
    {
     "name": "stdout",
     "output_type": "stream",
     "text": [
      "agrregate_fit results list length is  5\n",
      "Saving round 2 aggregated_parameters...\n"
     ]
    },
    {
     "name": "stderr",
     "output_type": "stream",
     "text": [
      "DEBUG flwr 2023-08-29 08:40:36,101 | server.py:187 | evaluate_round 2 received 5 results and 0 failures\n",
      "DEBUG flwr 2023-08-29 08:40:36,103 | server.py:222 | fit_round 3: strategy sampled 5 clients (out of 10)\n"
     ]
    },
    {
     "name": "stdout",
     "output_type": "stream",
     "text": [
      "agrregate_evaluate results list length is  5\n",
      "server round is  2\n",
      "loss is  1.5277777777777777\n"
     ]
    },
    {
     "name": "stderr",
     "output_type": "stream",
     "text": [
      "DEBUG flwr 2023-08-29 08:40:40,012 | server.py:236 | fit_round 3 received 5 results and 0 failures\n",
      "DEBUG flwr 2023-08-29 08:40:40,166 | server.py:173 | evaluate_round 3: strategy sampled 5 clients (out of 10)\n"
     ]
    },
    {
     "name": "stdout",
     "output_type": "stream",
     "text": [
      "agrregate_fit results list length is  5\n",
      "Saving round 3 aggregated_parameters...\n"
     ]
    },
    {
     "name": "stderr",
     "output_type": "stream",
     "text": [
      "DEBUG flwr 2023-08-29 08:40:40,753 | server.py:187 | evaluate_round 3 received 5 results and 0 failures\n",
      "DEBUG flwr 2023-08-29 08:40:40,755 | server.py:222 | fit_round 4: strategy sampled 5 clients (out of 10)\n"
     ]
    },
    {
     "name": "stdout",
     "output_type": "stream",
     "text": [
      "agrregate_evaluate results list length is  5\n",
      "server round is  3\n",
      "loss is  1.538888888888889\n"
     ]
    },
    {
     "name": "stderr",
     "output_type": "stream",
     "text": [
      "DEBUG flwr 2023-08-29 08:40:55,879 | server.py:236 | fit_round 4 received 5 results and 0 failures\n",
      "DEBUG flwr 2023-08-29 08:40:56,001 | server.py:173 | evaluate_round 4: strategy sampled 5 clients (out of 10)\n"
     ]
    },
    {
     "name": "stdout",
     "output_type": "stream",
     "text": [
      "agrregate_fit results list length is  5\n",
      "Saving round 4 aggregated_parameters...\n"
     ]
    },
    {
     "name": "stderr",
     "output_type": "stream",
     "text": [
      "DEBUG flwr 2023-08-29 08:40:56,474 | server.py:187 | evaluate_round 4 received 5 results and 0 failures\n",
      "DEBUG flwr 2023-08-29 08:40:56,475 | server.py:222 | fit_round 5: strategy sampled 5 clients (out of 10)\n"
     ]
    },
    {
     "name": "stdout",
     "output_type": "stream",
     "text": [
      "agrregate_evaluate results list length is  5\n",
      "server round is  4\n",
      "loss is  1.238888888888889\n"
     ]
    },
    {
     "name": "stderr",
     "output_type": "stream",
     "text": [
      "DEBUG flwr 2023-08-29 08:40:59,508 | server.py:236 | fit_round 5 received 5 results and 0 failures\n",
      "DEBUG flwr 2023-08-29 08:40:59,640 | server.py:173 | evaluate_round 5: strategy sampled 5 clients (out of 10)\n"
     ]
    },
    {
     "name": "stdout",
     "output_type": "stream",
     "text": [
      "agrregate_fit results list length is  5\n",
      "Saving round 5 aggregated_parameters...\n"
     ]
    },
    {
     "name": "stderr",
     "output_type": "stream",
     "text": [
      "DEBUG flwr 2023-08-29 08:41:00,237 | server.py:187 | evaluate_round 5 received 5 results and 0 failures\n",
      "DEBUG flwr 2023-08-29 08:41:00,240 | server.py:222 | fit_round 6: strategy sampled 5 clients (out of 10)\n"
     ]
    },
    {
     "name": "stdout",
     "output_type": "stream",
     "text": [
      "agrregate_evaluate results list length is  5\n",
      "server round is  5\n",
      "loss is  1.3666666666666667\n"
     ]
    },
    {
     "name": "stderr",
     "output_type": "stream",
     "text": [
      "DEBUG flwr 2023-08-29 08:41:02,734 | server.py:236 | fit_round 6 received 5 results and 0 failures\n",
      "DEBUG flwr 2023-08-29 08:41:02,859 | server.py:173 | evaluate_round 6: strategy sampled 5 clients (out of 10)\n"
     ]
    },
    {
     "name": "stdout",
     "output_type": "stream",
     "text": [
      "agrregate_fit results list length is  5\n",
      "Saving round 6 aggregated_parameters...\n"
     ]
    },
    {
     "name": "stderr",
     "output_type": "stream",
     "text": [
      "DEBUG flwr 2023-08-29 08:41:03,366 | server.py:187 | evaluate_round 6 received 5 results and 0 failures\n",
      "DEBUG flwr 2023-08-29 08:41:03,367 | server.py:222 | fit_round 7: strategy sampled 5 clients (out of 10)\n"
     ]
    },
    {
     "name": "stdout",
     "output_type": "stream",
     "text": [
      "agrregate_evaluate results list length is  5\n",
      "server round is  6\n",
      "loss is  1.4166666666666667\n"
     ]
    },
    {
     "name": "stderr",
     "output_type": "stream",
     "text": [
      "DEBUG flwr 2023-08-29 08:41:06,976 | server.py:236 | fit_round 7 received 5 results and 0 failures\n"
     ]
    },
    {
     "name": "stdout",
     "output_type": "stream",
     "text": [
      "agrregate_fit results list length is  5\n",
      "Saving round 7 aggregated_parameters...\n"
     ]
    },
    {
     "name": "stderr",
     "output_type": "stream",
     "text": [
      "DEBUG flwr 2023-08-29 08:41:07,373 | server.py:173 | evaluate_round 7: strategy sampled 5 clients (out of 10)\n",
      "DEBUG flwr 2023-08-29 08:41:07,992 | server.py:187 | evaluate_round 7 received 5 results and 0 failures\n",
      "DEBUG flwr 2023-08-29 08:41:07,994 | server.py:222 | fit_round 8: strategy sampled 5 clients (out of 10)\n"
     ]
    },
    {
     "name": "stdout",
     "output_type": "stream",
     "text": [
      "agrregate_evaluate results list length is  5\n",
      "server round is  7\n",
      "loss is  1.3222222222222222\n"
     ]
    },
    {
     "name": "stderr",
     "output_type": "stream",
     "text": [
      "DEBUG flwr 2023-08-29 08:41:11,109 | server.py:236 | fit_round 8 received 5 results and 0 failures\n",
      "DEBUG flwr 2023-08-29 08:41:11,266 | server.py:173 | evaluate_round 8: strategy sampled 5 clients (out of 10)\n"
     ]
    },
    {
     "name": "stdout",
     "output_type": "stream",
     "text": [
      "agrregate_fit results list length is  5\n",
      "Saving round 8 aggregated_parameters...\n"
     ]
    },
    {
     "name": "stderr",
     "output_type": "stream",
     "text": [
      "DEBUG flwr 2023-08-29 08:41:11,861 | server.py:187 | evaluate_round 8 received 5 results and 0 failures\n",
      "DEBUG flwr 2023-08-29 08:41:11,863 | server.py:222 | fit_round 9: strategy sampled 5 clients (out of 10)\n"
     ]
    },
    {
     "name": "stdout",
     "output_type": "stream",
     "text": [
      "agrregate_evaluate results list length is  5\n",
      "server round is  8\n",
      "loss is  1.3999999999999997\n"
     ]
    },
    {
     "name": "stderr",
     "output_type": "stream",
     "text": [
      "DEBUG flwr 2023-08-29 08:41:26,789 | server.py:236 | fit_round 9 received 5 results and 0 failures\n",
      "DEBUG flwr 2023-08-29 08:41:26,909 | server.py:173 | evaluate_round 9: strategy sampled 5 clients (out of 10)\n"
     ]
    },
    {
     "name": "stdout",
     "output_type": "stream",
     "text": [
      "agrregate_fit results list length is  5\n",
      "Saving round 9 aggregated_parameters...\n"
     ]
    },
    {
     "name": "stderr",
     "output_type": "stream",
     "text": [
      "DEBUG flwr 2023-08-29 08:41:27,352 | server.py:187 | evaluate_round 9 received 5 results and 0 failures\n",
      "DEBUG flwr 2023-08-29 08:41:27,353 | server.py:222 | fit_round 10: strategy sampled 5 clients (out of 10)\n"
     ]
    },
    {
     "name": "stdout",
     "output_type": "stream",
     "text": [
      "agrregate_evaluate results list length is  5\n",
      "server round is  9\n",
      "loss is  1.3666666666666667\n"
     ]
    },
    {
     "name": "stderr",
     "output_type": "stream",
     "text": [
      "DEBUG flwr 2023-08-29 08:41:42,620 | server.py:236 | fit_round 10 received 5 results and 0 failures\n",
      "DEBUG flwr 2023-08-29 08:41:42,741 | server.py:173 | evaluate_round 10: strategy sampled 5 clients (out of 10)\n"
     ]
    },
    {
     "name": "stdout",
     "output_type": "stream",
     "text": [
      "agrregate_fit results list length is  5\n",
      "Saving round 10 aggregated_parameters...\n"
     ]
    },
    {
     "name": "stderr",
     "output_type": "stream",
     "text": [
      "DEBUG flwr 2023-08-29 08:41:43,191 | server.py:187 | evaluate_round 10 received 5 results and 0 failures\n",
      "DEBUG flwr 2023-08-29 08:41:43,193 | server.py:222 | fit_round 11: strategy sampled 5 clients (out of 10)\n"
     ]
    },
    {
     "name": "stdout",
     "output_type": "stream",
     "text": [
      "agrregate_evaluate results list length is  5\n",
      "server round is  10\n",
      "loss is  0.9388888888888889\n"
     ]
    },
    {
     "name": "stderr",
     "output_type": "stream",
     "text": [
      "DEBUG flwr 2023-08-29 08:41:45,812 | server.py:236 | fit_round 11 received 5 results and 0 failures\n",
      "DEBUG flwr 2023-08-29 08:41:45,959 | server.py:173 | evaluate_round 11: strategy sampled 5 clients (out of 10)\n"
     ]
    },
    {
     "name": "stdout",
     "output_type": "stream",
     "text": [
      "agrregate_fit results list length is  5\n",
      "Saving round 11 aggregated_parameters...\n"
     ]
    },
    {
     "name": "stderr",
     "output_type": "stream",
     "text": [
      "DEBUG flwr 2023-08-29 08:41:46,475 | server.py:187 | evaluate_round 11 received 5 results and 0 failures\n",
      "DEBUG flwr 2023-08-29 08:41:46,475 | server.py:222 | fit_round 12: strategy sampled 5 clients (out of 10)\n"
     ]
    },
    {
     "name": "stdout",
     "output_type": "stream",
     "text": [
      "agrregate_evaluate results list length is  5\n",
      "server round is  11\n",
      "loss is  0.9444444444444444\n"
     ]
    },
    {
     "name": "stderr",
     "output_type": "stream",
     "text": [
      "DEBUG flwr 2023-08-29 08:42:01,755 | server.py:236 | fit_round 12 received 5 results and 0 failures\n",
      "DEBUG flwr 2023-08-29 08:42:01,871 | server.py:173 | evaluate_round 12: strategy sampled 5 clients (out of 10)\n"
     ]
    },
    {
     "name": "stdout",
     "output_type": "stream",
     "text": [
      "agrregate_fit results list length is  5\n",
      "Saving round 12 aggregated_parameters...\n"
     ]
    },
    {
     "name": "stderr",
     "output_type": "stream",
     "text": [
      "DEBUG flwr 2023-08-29 08:42:02,352 | server.py:187 | evaluate_round 12 received 5 results and 0 failures\n",
      "DEBUG flwr 2023-08-29 08:42:02,354 | server.py:222 | fit_round 13: strategy sampled 5 clients (out of 10)\n"
     ]
    },
    {
     "name": "stdout",
     "output_type": "stream",
     "text": [
      "agrregate_evaluate results list length is  5\n",
      "server round is  12\n",
      "loss is  0.8444444444444444\n"
     ]
    },
    {
     "name": "stderr",
     "output_type": "stream",
     "text": [
      "DEBUG flwr 2023-08-29 08:42:05,362 | server.py:236 | fit_round 13 received 5 results and 0 failures\n",
      "DEBUG flwr 2023-08-29 08:42:05,519 | server.py:173 | evaluate_round 13: strategy sampled 5 clients (out of 10)\n"
     ]
    },
    {
     "name": "stdout",
     "output_type": "stream",
     "text": [
      "agrregate_fit results list length is  5\n",
      "Saving round 13 aggregated_parameters...\n"
     ]
    },
    {
     "name": "stderr",
     "output_type": "stream",
     "text": [
      "DEBUG flwr 2023-08-29 08:42:06,068 | server.py:187 | evaluate_round 13 received 5 results and 0 failures\n",
      "DEBUG flwr 2023-08-29 08:42:06,071 | server.py:222 | fit_round 14: strategy sampled 5 clients (out of 10)\n"
     ]
    },
    {
     "name": "stdout",
     "output_type": "stream",
     "text": [
      "agrregate_evaluate results list length is  5\n",
      "server round is  13\n",
      "loss is  0.8111111111111111\n"
     ]
    },
    {
     "name": "stderr",
     "output_type": "stream",
     "text": [
      "DEBUG flwr 2023-08-29 08:42:08,800 | server.py:236 | fit_round 14 received 5 results and 0 failures\n",
      "DEBUG flwr 2023-08-29 08:42:08,936 | server.py:173 | evaluate_round 14: strategy sampled 5 clients (out of 10)\n"
     ]
    },
    {
     "name": "stdout",
     "output_type": "stream",
     "text": [
      "agrregate_fit results list length is  5\n",
      "Saving round 14 aggregated_parameters...\n"
     ]
    },
    {
     "name": "stderr",
     "output_type": "stream",
     "text": [
      "DEBUG flwr 2023-08-29 08:42:09,469 | server.py:187 | evaluate_round 14 received 5 results and 0 failures\n",
      "DEBUG flwr 2023-08-29 08:42:09,471 | server.py:222 | fit_round 15: strategy sampled 5 clients (out of 10)\n"
     ]
    },
    {
     "name": "stdout",
     "output_type": "stream",
     "text": [
      "agrregate_evaluate results list length is  5\n",
      "server round is  14\n",
      "loss is  0.9\n"
     ]
    },
    {
     "name": "stderr",
     "output_type": "stream",
     "text": [
      "DEBUG flwr 2023-08-29 08:42:25,050 | server.py:236 | fit_round 15 received 5 results and 0 failures\n"
     ]
    },
    {
     "name": "stdout",
     "output_type": "stream",
     "text": [
      "agrregate_fit results list length is  5\n",
      "Saving round 15 aggregated_parameters...\n"
     ]
    },
    {
     "name": "stderr",
     "output_type": "stream",
     "text": [
      "DEBUG flwr 2023-08-29 08:42:25,337 | server.py:173 | evaluate_round 15: strategy sampled 5 clients (out of 10)\n",
      "DEBUG flwr 2023-08-29 08:42:25,964 | server.py:187 | evaluate_round 15 received 5 results and 0 failures\n",
      "DEBUG flwr 2023-08-29 08:42:25,966 | server.py:222 | fit_round 16: strategy sampled 5 clients (out of 10)\n"
     ]
    },
    {
     "name": "stdout",
     "output_type": "stream",
     "text": [
      "agrregate_evaluate results list length is  5\n",
      "server round is  15\n",
      "loss is  0.7722222222222223\n"
     ]
    },
    {
     "name": "stderr",
     "output_type": "stream",
     "text": [
      "DEBUG flwr 2023-08-29 08:42:29,064 | server.py:236 | fit_round 16 received 5 results and 0 failures\n",
      "DEBUG flwr 2023-08-29 08:42:29,219 | server.py:173 | evaluate_round 16: strategy sampled 5 clients (out of 10)\n"
     ]
    },
    {
     "name": "stdout",
     "output_type": "stream",
     "text": [
      "agrregate_fit results list length is  5\n",
      "Saving round 16 aggregated_parameters...\n"
     ]
    },
    {
     "name": "stderr",
     "output_type": "stream",
     "text": [
      "DEBUG flwr 2023-08-29 08:42:29,747 | server.py:187 | evaluate_round 16 received 5 results and 0 failures\n",
      "DEBUG flwr 2023-08-29 08:42:29,749 | server.py:222 | fit_round 17: strategy sampled 5 clients (out of 10)\n"
     ]
    },
    {
     "name": "stdout",
     "output_type": "stream",
     "text": [
      "agrregate_evaluate results list length is  5\n",
      "server round is  16\n",
      "loss is  0.7944444444444444\n"
     ]
    },
    {
     "name": "stderr",
     "output_type": "stream",
     "text": [
      "DEBUG flwr 2023-08-29 08:42:32,668 | server.py:236 | fit_round 17 received 5 results and 0 failures\n",
      "DEBUG flwr 2023-08-29 08:42:32,826 | server.py:173 | evaluate_round 17: strategy sampled 5 clients (out of 10)\n"
     ]
    },
    {
     "name": "stdout",
     "output_type": "stream",
     "text": [
      "agrregate_fit results list length is  5\n",
      "Saving round 17 aggregated_parameters...\n"
     ]
    },
    {
     "name": "stderr",
     "output_type": "stream",
     "text": [
      "DEBUG flwr 2023-08-29 08:42:33,315 | server.py:187 | evaluate_round 17 received 5 results and 0 failures\n",
      "DEBUG flwr 2023-08-29 08:42:33,317 | server.py:222 | fit_round 18: strategy sampled 5 clients (out of 10)\n"
     ]
    },
    {
     "name": "stdout",
     "output_type": "stream",
     "text": [
      "agrregate_evaluate results list length is  5\n",
      "server round is  17\n",
      "loss is  0.8111111111111111\n"
     ]
    },
    {
     "name": "stderr",
     "output_type": "stream",
     "text": [
      "DEBUG flwr 2023-08-29 08:42:50,388 | server.py:236 | fit_round 18 received 5 results and 0 failures\n",
      "DEBUG flwr 2023-08-29 08:42:50,520 | server.py:173 | evaluate_round 18: strategy sampled 5 clients (out of 10)\n"
     ]
    },
    {
     "name": "stdout",
     "output_type": "stream",
     "text": [
      "agrregate_fit results list length is  5\n",
      "Saving round 18 aggregated_parameters...\n"
     ]
    },
    {
     "name": "stderr",
     "output_type": "stream",
     "text": [
      "DEBUG flwr 2023-08-29 08:42:51,007 | server.py:187 | evaluate_round 18 received 5 results and 0 failures\n",
      "DEBUG flwr 2023-08-29 08:42:51,010 | server.py:222 | fit_round 19: strategy sampled 5 clients (out of 10)\n"
     ]
    },
    {
     "name": "stdout",
     "output_type": "stream",
     "text": [
      "agrregate_evaluate results list length is  5\n",
      "server round is  18\n",
      "loss is  0.6999999999999998\n"
     ]
    },
    {
     "name": "stderr",
     "output_type": "stream",
     "text": [
      "DEBUG flwr 2023-08-29 08:42:53,822 | server.py:236 | fit_round 19 received 5 results and 0 failures\n",
      "DEBUG flwr 2023-08-29 08:42:53,975 | server.py:173 | evaluate_round 19: strategy sampled 5 clients (out of 10)\n"
     ]
    },
    {
     "name": "stdout",
     "output_type": "stream",
     "text": [
      "agrregate_fit results list length is  5\n",
      "Saving round 19 aggregated_parameters...\n"
     ]
    },
    {
     "name": "stderr",
     "output_type": "stream",
     "text": [
      "DEBUG flwr 2023-08-29 08:42:54,497 | server.py:187 | evaluate_round 19 received 5 results and 0 failures\n",
      "DEBUG flwr 2023-08-29 08:42:54,499 | server.py:222 | fit_round 20: strategy sampled 5 clients (out of 10)\n"
     ]
    },
    {
     "name": "stdout",
     "output_type": "stream",
     "text": [
      "agrregate_evaluate results list length is  5\n",
      "server round is  19\n",
      "loss is  0.6611111111111111\n"
     ]
    },
    {
     "name": "stderr",
     "output_type": "stream",
     "text": [
      "DEBUG flwr 2023-08-29 08:42:57,145 | server.py:236 | fit_round 20 received 5 results and 0 failures\n",
      "DEBUG flwr 2023-08-29 08:42:57,285 | server.py:173 | evaluate_round 20: strategy sampled 5 clients (out of 10)\n"
     ]
    },
    {
     "name": "stdout",
     "output_type": "stream",
     "text": [
      "agrregate_fit results list length is  5\n",
      "Saving round 20 aggregated_parameters...\n"
     ]
    },
    {
     "name": "stderr",
     "output_type": "stream",
     "text": [
      "DEBUG flwr 2023-08-29 08:42:57,795 | server.py:187 | evaluate_round 20 received 5 results and 0 failures\n",
      "DEBUG flwr 2023-08-29 08:42:57,797 | server.py:222 | fit_round 21: strategy sampled 5 clients (out of 10)\n"
     ]
    },
    {
     "name": "stdout",
     "output_type": "stream",
     "text": [
      "agrregate_evaluate results list length is  5\n",
      "server round is  20\n",
      "loss is  0.7111111111111111\n"
     ]
    },
    {
     "name": "stderr",
     "output_type": "stream",
     "text": [
      "DEBUG flwr 2023-08-29 08:43:00,381 | server.py:236 | fit_round 21 received 5 results and 0 failures\n",
      "DEBUG flwr 2023-08-29 08:43:00,523 | server.py:173 | evaluate_round 21: strategy sampled 5 clients (out of 10)\n"
     ]
    },
    {
     "name": "stdout",
     "output_type": "stream",
     "text": [
      "agrregate_fit results list length is  5\n",
      "Saving round 21 aggregated_parameters...\n"
     ]
    },
    {
     "name": "stderr",
     "output_type": "stream",
     "text": [
      "DEBUG flwr 2023-08-29 08:43:01,045 | server.py:187 | evaluate_round 21 received 5 results and 0 failures\n",
      "DEBUG flwr 2023-08-29 08:43:01,047 | server.py:222 | fit_round 22: strategy sampled 5 clients (out of 10)\n"
     ]
    },
    {
     "name": "stdout",
     "output_type": "stream",
     "text": [
      "agrregate_evaluate results list length is  5\n",
      "server round is  21\n",
      "loss is  0.7055555555555557\n"
     ]
    },
    {
     "name": "stderr",
     "output_type": "stream",
     "text": [
      "DEBUG flwr 2023-08-29 08:43:03,661 | server.py:236 | fit_round 22 received 5 results and 0 failures\n",
      "DEBUG flwr 2023-08-29 08:43:03,845 | server.py:173 | evaluate_round 22: strategy sampled 5 clients (out of 10)\n"
     ]
    },
    {
     "name": "stdout",
     "output_type": "stream",
     "text": [
      "agrregate_fit results list length is  5\n",
      "Saving round 22 aggregated_parameters...\n"
     ]
    },
    {
     "name": "stderr",
     "output_type": "stream",
     "text": [
      "DEBUG flwr 2023-08-29 08:43:04,493 | server.py:187 | evaluate_round 22 received 5 results and 0 failures\n",
      "DEBUG flwr 2023-08-29 08:43:04,494 | server.py:222 | fit_round 23: strategy sampled 5 clients (out of 10)\n"
     ]
    },
    {
     "name": "stdout",
     "output_type": "stream",
     "text": [
      "agrregate_evaluate results list length is  5\n",
      "server round is  22\n",
      "loss is  0.7055555555555557\n"
     ]
    },
    {
     "name": "stderr",
     "output_type": "stream",
     "text": [
      "DEBUG flwr 2023-08-29 08:43:07,270 | server.py:236 | fit_round 23 received 5 results and 0 failures\n",
      "DEBUG flwr 2023-08-29 08:43:07,415 | server.py:173 | evaluate_round 23: strategy sampled 5 clients (out of 10)\n"
     ]
    },
    {
     "name": "stdout",
     "output_type": "stream",
     "text": [
      "agrregate_fit results list length is  5\n",
      "Saving round 23 aggregated_parameters...\n"
     ]
    },
    {
     "name": "stderr",
     "output_type": "stream",
     "text": [
      "DEBUG flwr 2023-08-29 08:43:07,899 | server.py:187 | evaluate_round 23 received 5 results and 0 failures\n",
      "DEBUG flwr 2023-08-29 08:43:07,900 | server.py:222 | fit_round 24: strategy sampled 5 clients (out of 10)\n"
     ]
    },
    {
     "name": "stdout",
     "output_type": "stream",
     "text": [
      "agrregate_evaluate results list length is  5\n",
      "server round is  23\n",
      "loss is  0.7055555555555557\n"
     ]
    },
    {
     "name": "stderr",
     "output_type": "stream",
     "text": [
      "DEBUG flwr 2023-08-29 08:43:22,412 | server.py:236 | fit_round 24 received 5 results and 0 failures\n",
      "DEBUG flwr 2023-08-29 08:43:22,521 | server.py:173 | evaluate_round 24: strategy sampled 5 clients (out of 10)\n"
     ]
    },
    {
     "name": "stdout",
     "output_type": "stream",
     "text": [
      "agrregate_fit results list length is  5\n",
      "Saving round 24 aggregated_parameters...\n"
     ]
    },
    {
     "name": "stderr",
     "output_type": "stream",
     "text": [
      "DEBUG flwr 2023-08-29 08:43:22,990 | server.py:187 | evaluate_round 24 received 5 results and 0 failures\n",
      "DEBUG flwr 2023-08-29 08:43:22,991 | server.py:222 | fit_round 25: strategy sampled 5 clients (out of 10)\n"
     ]
    },
    {
     "name": "stdout",
     "output_type": "stream",
     "text": [
      "agrregate_evaluate results list length is  5\n",
      "server round is  24\n",
      "loss is  0.6555555555555556\n"
     ]
    },
    {
     "name": "stderr",
     "output_type": "stream",
     "text": [
      "DEBUG flwr 2023-08-29 08:43:37,616 | server.py:236 | fit_round 25 received 5 results and 0 failures\n",
      "DEBUG flwr 2023-08-29 08:43:37,725 | server.py:173 | evaluate_round 25: strategy sampled 5 clients (out of 10)\n"
     ]
    },
    {
     "name": "stdout",
     "output_type": "stream",
     "text": [
      "agrregate_fit results list length is  5\n",
      "Saving round 25 aggregated_parameters...\n"
     ]
    },
    {
     "name": "stderr",
     "output_type": "stream",
     "text": [
      "DEBUG flwr 2023-08-29 08:43:38,226 | server.py:187 | evaluate_round 25 received 5 results and 0 failures\n",
      "DEBUG flwr 2023-08-29 08:43:38,227 | server.py:222 | fit_round 26: strategy sampled 5 clients (out of 10)\n"
     ]
    },
    {
     "name": "stdout",
     "output_type": "stream",
     "text": [
      "agrregate_evaluate results list length is  5\n",
      "server round is  25\n",
      "loss is  0.7555555555555555\n"
     ]
    },
    {
     "name": "stderr",
     "output_type": "stream",
     "text": [
      "DEBUG flwr 2023-08-29 08:43:40,850 | server.py:236 | fit_round 26 received 5 results and 0 failures\n",
      "DEBUG flwr 2023-08-29 08:43:40,986 | server.py:173 | evaluate_round 26: strategy sampled 5 clients (out of 10)\n"
     ]
    },
    {
     "name": "stdout",
     "output_type": "stream",
     "text": [
      "agrregate_fit results list length is  5\n",
      "Saving round 26 aggregated_parameters...\n"
     ]
    },
    {
     "name": "stderr",
     "output_type": "stream",
     "text": [
      "DEBUG flwr 2023-08-29 08:43:41,483 | server.py:187 | evaluate_round 26 received 5 results and 0 failures\n",
      "DEBUG flwr 2023-08-29 08:43:41,484 | server.py:222 | fit_round 27: strategy sampled 5 clients (out of 10)\n"
     ]
    },
    {
     "name": "stdout",
     "output_type": "stream",
     "text": [
      "agrregate_evaluate results list length is  5\n",
      "server round is  26\n",
      "loss is  0.6277777777777778\n"
     ]
    },
    {
     "name": "stderr",
     "output_type": "stream",
     "text": [
      "DEBUG flwr 2023-08-29 08:43:44,242 | server.py:236 | fit_round 27 received 5 results and 0 failures\n",
      "DEBUG flwr 2023-08-29 08:43:44,398 | server.py:173 | evaluate_round 27: strategy sampled 5 clients (out of 10)\n"
     ]
    },
    {
     "name": "stdout",
     "output_type": "stream",
     "text": [
      "agrregate_fit results list length is  5\n",
      "Saving round 27 aggregated_parameters...\n"
     ]
    },
    {
     "name": "stderr",
     "output_type": "stream",
     "text": [
      "DEBUG flwr 2023-08-29 08:43:44,950 | server.py:187 | evaluate_round 27 received 5 results and 0 failures\n",
      "DEBUG flwr 2023-08-29 08:43:44,952 | server.py:222 | fit_round 28: strategy sampled 5 clients (out of 10)\n"
     ]
    },
    {
     "name": "stdout",
     "output_type": "stream",
     "text": [
      "agrregate_evaluate results list length is  5\n",
      "server round is  27\n",
      "loss is  0.6666666666666666\n"
     ]
    },
    {
     "name": "stderr",
     "output_type": "stream",
     "text": [
      "DEBUG flwr 2023-08-29 08:44:02,315 | server.py:236 | fit_round 28 received 5 results and 0 failures\n",
      "DEBUG flwr 2023-08-29 08:44:02,420 | server.py:173 | evaluate_round 28: strategy sampled 5 clients (out of 10)\n"
     ]
    },
    {
     "name": "stdout",
     "output_type": "stream",
     "text": [
      "agrregate_fit results list length is  5\n",
      "Saving round 28 aggregated_parameters...\n"
     ]
    },
    {
     "name": "stderr",
     "output_type": "stream",
     "text": [
      "DEBUG flwr 2023-08-29 08:44:02,906 | server.py:187 | evaluate_round 28 received 5 results and 0 failures\n",
      "DEBUG flwr 2023-08-29 08:44:02,907 | server.py:222 | fit_round 29: strategy sampled 5 clients (out of 10)\n"
     ]
    },
    {
     "name": "stdout",
     "output_type": "stream",
     "text": [
      "agrregate_evaluate results list length is  5\n",
      "server round is  28\n",
      "loss is  0.7888888888888889\n"
     ]
    },
    {
     "name": "stderr",
     "output_type": "stream",
     "text": [
      "DEBUG flwr 2023-08-29 08:44:05,589 | server.py:236 | fit_round 29 received 5 results and 0 failures\n",
      "DEBUG flwr 2023-08-29 08:44:05,732 | server.py:173 | evaluate_round 29: strategy sampled 5 clients (out of 10)\n"
     ]
    },
    {
     "name": "stdout",
     "output_type": "stream",
     "text": [
      "agrregate_fit results list length is  5\n",
      "Saving round 29 aggregated_parameters...\n"
     ]
    },
    {
     "name": "stderr",
     "output_type": "stream",
     "text": [
      "DEBUG flwr 2023-08-29 08:44:06,256 | server.py:187 | evaluate_round 29 received 5 results and 0 failures\n",
      "DEBUG flwr 2023-08-29 08:44:06,258 | server.py:222 | fit_round 30: strategy sampled 5 clients (out of 10)\n"
     ]
    },
    {
     "name": "stdout",
     "output_type": "stream",
     "text": [
      "agrregate_evaluate results list length is  5\n",
      "server round is  29\n",
      "loss is  0.6277777777777778\n"
     ]
    },
    {
     "name": "stderr",
     "output_type": "stream",
     "text": [
      "DEBUG flwr 2023-08-29 08:44:09,023 | server.py:236 | fit_round 30 received 5 results and 0 failures\n",
      "DEBUG flwr 2023-08-29 08:44:09,207 | server.py:173 | evaluate_round 30: strategy sampled 5 clients (out of 10)\n"
     ]
    },
    {
     "name": "stdout",
     "output_type": "stream",
     "text": [
      "agrregate_fit results list length is  5\n",
      "Saving round 30 aggregated_parameters...\n"
     ]
    },
    {
     "name": "stderr",
     "output_type": "stream",
     "text": [
      "DEBUG flwr 2023-08-29 08:44:09,805 | server.py:187 | evaluate_round 30 received 5 results and 0 failures\n",
      "DEBUG flwr 2023-08-29 08:44:09,807 | server.py:222 | fit_round 31: strategy sampled 5 clients (out of 10)\n"
     ]
    },
    {
     "name": "stdout",
     "output_type": "stream",
     "text": [
      "agrregate_evaluate results list length is  5\n",
      "server round is  30\n",
      "loss is  0.7111111111111111\n"
     ]
    },
    {
     "name": "stderr",
     "output_type": "stream",
     "text": [
      "DEBUG flwr 2023-08-29 08:44:12,675 | server.py:236 | fit_round 31 received 5 results and 0 failures\n",
      "DEBUG flwr 2023-08-29 08:44:12,847 | server.py:173 | evaluate_round 31: strategy sampled 5 clients (out of 10)\n"
     ]
    },
    {
     "name": "stdout",
     "output_type": "stream",
     "text": [
      "agrregate_fit results list length is  5\n",
      "Saving round 31 aggregated_parameters...\n"
     ]
    },
    {
     "name": "stderr",
     "output_type": "stream",
     "text": [
      "DEBUG flwr 2023-08-29 08:44:13,469 | server.py:187 | evaluate_round 31 received 5 results and 0 failures\n",
      "DEBUG flwr 2023-08-29 08:44:13,471 | server.py:222 | fit_round 32: strategy sampled 5 clients (out of 10)\n"
     ]
    },
    {
     "name": "stdout",
     "output_type": "stream",
     "text": [
      "agrregate_evaluate results list length is  5\n",
      "server round is  31\n",
      "loss is  0.6555555555555556\n"
     ]
    },
    {
     "name": "stderr",
     "output_type": "stream",
     "text": [
      "DEBUG flwr 2023-08-29 08:44:16,319 | server.py:236 | fit_round 32 received 5 results and 0 failures\n",
      "DEBUG flwr 2023-08-29 08:44:16,502 | server.py:173 | evaluate_round 32: strategy sampled 5 clients (out of 10)\n"
     ]
    },
    {
     "name": "stdout",
     "output_type": "stream",
     "text": [
      "agrregate_fit results list length is  5\n",
      "Saving round 32 aggregated_parameters...\n"
     ]
    },
    {
     "name": "stderr",
     "output_type": "stream",
     "text": [
      "DEBUG flwr 2023-08-29 08:44:17,054 | server.py:187 | evaluate_round 32 received 5 results and 0 failures\n",
      "DEBUG flwr 2023-08-29 08:44:17,055 | server.py:222 | fit_round 33: strategy sampled 5 clients (out of 10)\n"
     ]
    },
    {
     "name": "stdout",
     "output_type": "stream",
     "text": [
      "agrregate_evaluate results list length is  5\n",
      "server round is  32\n",
      "loss is  0.6666666666666666\n"
     ]
    },
    {
     "name": "stderr",
     "output_type": "stream",
     "text": [
      "DEBUG flwr 2023-08-29 08:44:32,383 | server.py:236 | fit_round 33 received 5 results and 0 failures\n",
      "DEBUG flwr 2023-08-29 08:44:32,484 | server.py:173 | evaluate_round 33: strategy sampled 5 clients (out of 10)\n"
     ]
    },
    {
     "name": "stdout",
     "output_type": "stream",
     "text": [
      "agrregate_fit results list length is  5\n",
      "Saving round 33 aggregated_parameters...\n"
     ]
    },
    {
     "name": "stderr",
     "output_type": "stream",
     "text": [
      "DEBUG flwr 2023-08-29 08:44:32,947 | server.py:187 | evaluate_round 33 received 5 results and 0 failures\n",
      "DEBUG flwr 2023-08-29 08:44:32,949 | server.py:222 | fit_round 34: strategy sampled 5 clients (out of 10)\n"
     ]
    },
    {
     "name": "stdout",
     "output_type": "stream",
     "text": [
      "agrregate_evaluate results list length is  5\n",
      "server round is  33\n",
      "loss is  0.6388888888888887\n"
     ]
    },
    {
     "name": "stderr",
     "output_type": "stream",
     "text": [
      "DEBUG flwr 2023-08-29 08:44:47,394 | server.py:236 | fit_round 34 received 5 results and 0 failures\n",
      "DEBUG flwr 2023-08-29 08:44:47,497 | server.py:173 | evaluate_round 34: strategy sampled 5 clients (out of 10)\n"
     ]
    },
    {
     "name": "stdout",
     "output_type": "stream",
     "text": [
      "agrregate_fit results list length is  5\n",
      "Saving round 34 aggregated_parameters...\n"
     ]
    },
    {
     "name": "stderr",
     "output_type": "stream",
     "text": [
      "DEBUG flwr 2023-08-29 08:44:47,975 | server.py:187 | evaluate_round 34 received 5 results and 0 failures\n",
      "DEBUG flwr 2023-08-29 08:44:47,977 | server.py:222 | fit_round 35: strategy sampled 5 clients (out of 10)\n"
     ]
    },
    {
     "name": "stdout",
     "output_type": "stream",
     "text": [
      "agrregate_evaluate results list length is  5\n",
      "server round is  34\n",
      "loss is  1.0444444444444445\n"
     ]
    },
    {
     "name": "stderr",
     "output_type": "stream",
     "text": [
      "DEBUG flwr 2023-08-29 08:45:02,468 | server.py:236 | fit_round 35 received 5 results and 0 failures\n",
      "DEBUG flwr 2023-08-29 08:45:02,589 | server.py:173 | evaluate_round 35: strategy sampled 5 clients (out of 10)\n"
     ]
    },
    {
     "name": "stdout",
     "output_type": "stream",
     "text": [
      "agrregate_fit results list length is  5\n",
      "Saving round 35 aggregated_parameters...\n"
     ]
    },
    {
     "name": "stderr",
     "output_type": "stream",
     "text": [
      "DEBUG flwr 2023-08-29 08:45:03,047 | server.py:187 | evaluate_round 35 received 5 results and 0 failures\n",
      "DEBUG flwr 2023-08-29 08:45:03,049 | server.py:222 | fit_round 36: strategy sampled 5 clients (out of 10)\n"
     ]
    },
    {
     "name": "stdout",
     "output_type": "stream",
     "text": [
      "agrregate_evaluate results list length is  5\n",
      "server round is  35\n",
      "loss is  0.6222222222222222\n"
     ]
    },
    {
     "name": "stderr",
     "output_type": "stream",
     "text": [
      "DEBUG flwr 2023-08-29 08:45:17,615 | server.py:236 | fit_round 36 received 5 results and 0 failures\n",
      "DEBUG flwr 2023-08-29 08:45:17,712 | server.py:173 | evaluate_round 36: strategy sampled 5 clients (out of 10)\n"
     ]
    },
    {
     "name": "stdout",
     "output_type": "stream",
     "text": [
      "agrregate_fit results list length is  5\n",
      "Saving round 36 aggregated_parameters...\n"
     ]
    },
    {
     "name": "stderr",
     "output_type": "stream",
     "text": [
      "DEBUG flwr 2023-08-29 08:45:18,186 | server.py:187 | evaluate_round 36 received 5 results and 0 failures\n",
      "DEBUG flwr 2023-08-29 08:45:18,187 | server.py:222 | fit_round 37: strategy sampled 5 clients (out of 10)\n"
     ]
    },
    {
     "name": "stdout",
     "output_type": "stream",
     "text": [
      "agrregate_evaluate results list length is  5\n",
      "server round is  36\n",
      "loss is  0.6888888888888889\n"
     ]
    },
    {
     "name": "stderr",
     "output_type": "stream",
     "text": [
      "DEBUG flwr 2023-08-29 08:45:32,402 | server.py:236 | fit_round 37 received 5 results and 0 failures\n",
      "DEBUG flwr 2023-08-29 08:45:32,515 | server.py:173 | evaluate_round 37: strategy sampled 5 clients (out of 10)\n"
     ]
    },
    {
     "name": "stdout",
     "output_type": "stream",
     "text": [
      "agrregate_fit results list length is  5\n",
      "Saving round 37 aggregated_parameters...\n"
     ]
    },
    {
     "name": "stderr",
     "output_type": "stream",
     "text": [
      "DEBUG flwr 2023-08-29 08:45:32,971 | server.py:187 | evaluate_round 37 received 5 results and 0 failures\n",
      "DEBUG flwr 2023-08-29 08:45:32,974 | server.py:222 | fit_round 38: strategy sampled 5 clients (out of 10)\n"
     ]
    },
    {
     "name": "stdout",
     "output_type": "stream",
     "text": [
      "agrregate_evaluate results list length is  5\n",
      "server round is  37\n",
      "loss is  0.7611111111111111\n"
     ]
    },
    {
     "name": "stderr",
     "output_type": "stream",
     "text": [
      "DEBUG flwr 2023-08-29 08:45:35,706 | server.py:236 | fit_round 38 received 5 results and 0 failures\n",
      "DEBUG flwr 2023-08-29 08:45:35,840 | server.py:173 | evaluate_round 38: strategy sampled 5 clients (out of 10)\n"
     ]
    },
    {
     "name": "stdout",
     "output_type": "stream",
     "text": [
      "agrregate_fit results list length is  5\n",
      "Saving round 38 aggregated_parameters...\n"
     ]
    },
    {
     "name": "stderr",
     "output_type": "stream",
     "text": [
      "DEBUG flwr 2023-08-29 08:45:36,371 | server.py:187 | evaluate_round 38 received 5 results and 0 failures\n",
      "DEBUG flwr 2023-08-29 08:45:36,373 | server.py:222 | fit_round 39: strategy sampled 5 clients (out of 10)\n"
     ]
    },
    {
     "name": "stdout",
     "output_type": "stream",
     "text": [
      "agrregate_evaluate results list length is  5\n",
      "server round is  38\n",
      "loss is  0.5555555555555556\n"
     ]
    },
    {
     "name": "stderr",
     "output_type": "stream",
     "text": [
      "DEBUG flwr 2023-08-29 08:45:39,112 | server.py:236 | fit_round 39 received 5 results and 0 failures\n",
      "DEBUG flwr 2023-08-29 08:45:39,260 | server.py:173 | evaluate_round 39: strategy sampled 5 clients (out of 10)\n"
     ]
    },
    {
     "name": "stdout",
     "output_type": "stream",
     "text": [
      "agrregate_fit results list length is  5\n",
      "Saving round 39 aggregated_parameters...\n"
     ]
    },
    {
     "name": "stderr",
     "output_type": "stream",
     "text": [
      "DEBUG flwr 2023-08-29 08:45:39,773 | server.py:187 | evaluate_round 39 received 5 results and 0 failures\n",
      "DEBUG flwr 2023-08-29 08:45:39,774 | server.py:222 | fit_round 40: strategy sampled 5 clients (out of 10)\n"
     ]
    },
    {
     "name": "stdout",
     "output_type": "stream",
     "text": [
      "agrregate_evaluate results list length is  5\n",
      "server round is  39\n",
      "loss is  0.5222222222222223\n"
     ]
    },
    {
     "name": "stderr",
     "output_type": "stream",
     "text": [
      "DEBUG flwr 2023-08-29 08:45:54,451 | server.py:236 | fit_round 40 received 5 results and 0 failures\n",
      "DEBUG flwr 2023-08-29 08:45:54,563 | server.py:173 | evaluate_round 40: strategy sampled 5 clients (out of 10)\n"
     ]
    },
    {
     "name": "stdout",
     "output_type": "stream",
     "text": [
      "agrregate_fit results list length is  5\n",
      "Saving round 40 aggregated_parameters...\n"
     ]
    },
    {
     "name": "stderr",
     "output_type": "stream",
     "text": [
      "DEBUG flwr 2023-08-29 08:45:55,038 | server.py:187 | evaluate_round 40 received 5 results and 0 failures\n",
      "INFO flwr 2023-08-29 08:45:55,039 | server.py:153 | FL finished in 357.882787999999\n",
      "INFO flwr 2023-08-29 08:45:55,043 | app.py:225 | app_fit: losses_distributed [(1, 4.794444444444444), (2, 1.5277777777777777), (3, 1.538888888888889), (4, 1.238888888888889), (5, 1.3666666666666667), (6, 1.4166666666666667), (7, 1.3222222222222222), (8, 1.3999999999999997), (9, 1.3666666666666667), (10, 0.9388888888888889), (11, 0.9444444444444444), (12, 0.8444444444444444), (13, 0.8111111111111111), (14, 0.9), (15, 0.7722222222222223), (16, 0.7944444444444444), (17, 0.8111111111111111), (18, 0.6999999999999998), (19, 0.6611111111111111), (20, 0.7111111111111111), (21, 0.7055555555555557), (22, 0.7055555555555557), (23, 0.7055555555555557), (24, 0.6555555555555556), (25, 0.7555555555555555), (26, 0.6277777777777778), (27, 0.6666666666666666), (28, 0.7888888888888889), (29, 0.6277777777777778), (30, 0.7111111111111111), (31, 0.6555555555555556), (32, 0.6666666666666666), (33, 0.6388888888888887), (34, 1.0444444444444445), (35, 0.6222222222222222), (36, 0.6888888888888889), (37, 0.7611111111111111), (38, 0.5555555555555556), (39, 0.5222222222222223), (40, 0.55)]\n",
      "INFO flwr 2023-08-29 08:45:55,044 | app.py:226 | app_fit: metrics_distributed_fit {}\n",
      "INFO flwr 2023-08-29 08:45:55,045 | app.py:227 | app_fit: metrics_distributed {'mse': [(1, 23.97222222222222), (2, 7.638888888888888), (3, 7.694444444444445), (4, 6.194444444444445), (5, 6.833333333333334), (6, 7.083333333333334), (7, 6.611111111111111), (8, 7.0), (9, 6.833333333333334), (10, 4.694444444444445), (11, 4.722222222222222), (12, 4.222222222222222), (13, 4.055555555555555), (14, 4.5), (15, 3.861111111111111), (16, 3.972222222222222), (17, 4.055555555555555), (18, 3.5), (19, 3.3055555555555554), (20, 3.555555555555556), (21, 3.527777777777778), (22, 3.527777777777778), (23, 3.527777777777778), (24, 3.2777777777777777), (25, 3.7777777777777777), (26, 3.138888888888889), (27, 3.333333333333333), (28, 3.944444444444444), (29, 3.138888888888889), (30, 3.555555555555556), (31, 3.2777777777777777), (32, 3.333333333333333), (33, 3.194444444444444), (34, 5.222222222222222), (35, 3.111111111111111), (36, 3.4444444444444446), (37, 3.8055555555555554), (38, 2.7777777777777777), (39, 2.611111111111111), (40, 2.75)]}\n",
      "INFO flwr 2023-08-29 08:45:55,047 | app.py:228 | app_fit: losses_centralized []\n",
      "INFO flwr 2023-08-29 08:45:55,049 | app.py:229 | app_fit: metrics_centralized {}\n",
      "C:\\Users\\Shuyao\\AppData\\Local\\Temp\\ipykernel_11996\\3421847257.py:35: UserWarning: To copy construct from a tensor, it is recommended to use sourceTensor.clone().detach() or sourceTensor.clone().detach().requires_grad_(True), rather than torch.tensor(sourceTensor).\n",
      "  y_train = torch.reshape(torch.tensor(y_train), (-1, 1))\n",
      "C:\\Users\\Shuyao\\AppData\\Local\\Temp\\ipykernel_11996\\3421847257.py:36: UserWarning: To copy construct from a tensor, it is recommended to use sourceTensor.clone().detach() or sourceTensor.clone().detach().requires_grad_(True), rather than torch.tensor(sourceTensor).\n",
      "  y_test = torch.reshape(torch.tensor(y_test), (-1, 1))\n"
     ]
    },
    {
     "name": "stdout",
     "output_type": "stream",
     "text": [
      "agrregate_evaluate results list length is  5\n",
      "server round is  40\n",
      "loss is  0.55\n",
      "History (loss, distributed):\n",
      "\tround 1: 4.794444444444444\n",
      "\tround 2: 1.5277777777777777\n",
      "\tround 3: 1.538888888888889\n",
      "\tround 4: 1.238888888888889\n",
      "\tround 5: 1.3666666666666667\n",
      "\tround 6: 1.4166666666666667\n",
      "\tround 7: 1.3222222222222222\n",
      "\tround 8: 1.3999999999999997\n",
      "\tround 9: 1.3666666666666667\n",
      "\tround 10: 0.9388888888888889\n",
      "\tround 11: 0.9444444444444444\n",
      "\tround 12: 0.8444444444444444\n",
      "\tround 13: 0.8111111111111111\n",
      "\tround 14: 0.9\n",
      "\tround 15: 0.7722222222222223\n",
      "\tround 16: 0.7944444444444444\n",
      "\tround 17: 0.8111111111111111\n",
      "\tround 18: 0.6999999999999998\n",
      "\tround 19: 0.6611111111111111\n",
      "\tround 20: 0.7111111111111111\n",
      "\tround 21: 0.7055555555555557\n",
      "\tround 22: 0.7055555555555557\n",
      "\tround 23: 0.7055555555555557\n",
      "\tround 24: 0.6555555555555556\n",
      "\tround 25: 0.7555555555555555\n",
      "\tround 26: 0.6277777777777778\n",
      "\tround 27: 0.6666666666666666\n",
      "\tround 28: 0.7888888888888889\n",
      "\tround 29: 0.6277777777777778\n",
      "\tround 30: 0.7111111111111111\n",
      "\tround 31: 0.6555555555555556\n",
      "\tround 32: 0.6666666666666666\n",
      "\tround 33: 0.6388888888888887\n",
      "\tround 34: 1.0444444444444445\n",
      "\tround 35: 0.6222222222222222\n",
      "\tround 36: 0.6888888888888889\n",
      "\tround 37: 0.7611111111111111\n",
      "\tround 38: 0.5555555555555556\n",
      "\tround 39: 0.5222222222222223\n",
      "\tround 40: 0.55\n",
      "History (metrics, distributed, evaluate):\n",
      "{'mse': [(1, 23.97222222222222), (2, 7.638888888888888), (3, 7.694444444444445), (4, 6.194444444444445), (5, 6.833333333333334), (6, 7.083333333333334), (7, 6.611111111111111), (8, 7.0), (9, 6.833333333333334), (10, 4.694444444444445), (11, 4.722222222222222), (12, 4.222222222222222), (13, 4.055555555555555), (14, 4.5), (15, 3.861111111111111), (16, 3.972222222222222), (17, 4.055555555555555), (18, 3.5), (19, 3.3055555555555554), (20, 3.555555555555556), (21, 3.527777777777778), (22, 3.527777777777778), (23, 3.527777777777778), (24, 3.2777777777777777), (25, 3.7777777777777777), (26, 3.138888888888889), (27, 3.333333333333333), (28, 3.944444444444444), (29, 3.138888888888889), (30, 3.555555555555556), (31, 3.2777777777777777), (32, 3.333333333333333), (33, 3.194444444444444), (34, 5.222222222222222), (35, 3.111111111111111), (36, 3.4444444444444446), (37, 3.8055555555555554), (38, 2.7777777777777777), (39, 2.611111111111111), (40, 2.75)]}\n",
      "[(1, 4.794444444444444), (2, 1.5277777777777777), (3, 1.538888888888889), (4, 1.238888888888889), (5, 1.3666666666666667), (6, 1.4166666666666667), (7, 1.3222222222222222), (8, 1.3999999999999997), (9, 1.3666666666666667), (10, 0.9388888888888889), (11, 0.9444444444444444), (12, 0.8444444444444444), (13, 0.8111111111111111), (14, 0.9), (15, 0.7722222222222223), (16, 0.7944444444444444), (17, 0.8111111111111111), (18, 0.6999999999999998), (19, 0.6611111111111111), (20, 0.7111111111111111), (21, 0.7055555555555557), (22, 0.7055555555555557), (23, 0.7055555555555557), (24, 0.6555555555555556), (25, 0.7555555555555555), (26, 0.6277777777777778), (27, 0.6666666666666666), (28, 0.7888888888888889), (29, 0.6277777777777778), (30, 0.7111111111111111), (31, 0.6555555555555556), (32, 0.6666666666666666), (33, 0.6388888888888887), (34, 1.0444444444444445), (35, 0.6222222222222222), (36, 0.6888888888888889), (37, 0.7611111111111111), (38, 0.5555555555555556), (39, 0.5222222222222223), (40, 0.55)]\n",
      "Fold 4:\n"
     ]
    },
    {
     "name": "stderr",
     "output_type": "stream",
     "text": [
      "INFO flwr 2023-08-29 08:45:55,290 | app.py:145 | Starting Flower simulation, config: ServerConfig(num_rounds=40, round_timeout=None)\n"
     ]
    },
    {
     "name": "stdout",
     "output_type": "stream",
     "text": [
      "Client 0 trainset shape torch.Size([441, 3, 23])\n",
      "Client 1 trainset shape torch.Size([28, 3, 23])\n",
      "Client 2 trainset shape torch.Size([28, 3, 23])\n",
      "Client 3 trainset shape torch.Size([28, 3, 23])\n",
      "Client 4 trainset shape torch.Size([28, 3, 23])\n",
      "Client 5 trainset shape torch.Size([28, 3, 23])\n",
      "Client 6 trainset shape torch.Size([28, 3, 23])\n",
      "Client 7 trainset shape torch.Size([28, 3, 23])\n",
      "Client 8 trainset shape torch.Size([28, 3, 23])\n",
      "Client 9 trainset shape torch.Size([28, 3, 23])\n"
     ]
    },
    {
     "name": "stderr",
     "output_type": "stream",
     "text": [
      "2023-08-29 08:46:03,922\tINFO worker.py:1627 -- Started a local Ray instance. View the dashboard at \u001B[1m\u001B[32m127.0.0.1:8265 \u001B[39m\u001B[22m\n",
      "INFO flwr 2023-08-29 08:46:08,775 | app.py:179 | Flower VCE: Ray initialized with resources: {'CPU': 8.0, 'object_store_memory': 1123265740.0, 'node:127.0.0.1': 1.0, 'memory': 2246531483.0, 'GPU': 1.0}\n",
      "INFO flwr 2023-08-29 08:46:08,776 | server.py:89 | Initializing global parameters\n",
      "INFO flwr 2023-08-29 08:46:08,777 | server.py:276 | Requesting initial parameters from one random client\n",
      "INFO flwr 2023-08-29 08:46:11,486 | server.py:280 | Received initial parameters from one random client\n",
      "INFO flwr 2023-08-29 08:46:11,487 | server.py:91 | Evaluating initial parameters\n",
      "INFO flwr 2023-08-29 08:46:11,488 | server.py:104 | FL starting\n",
      "DEBUG flwr 2023-08-29 08:46:11,489 | server.py:222 | fit_round 1: strategy sampled 5 clients (out of 10)\n",
      "DEBUG flwr 2023-08-29 08:46:29,891 | server.py:236 | fit_round 1 received 5 results and 0 failures\n",
      "WARNING flwr 2023-08-29 08:46:29,958 | fedavg.py:242 | No fit_metrics_aggregation_fn provided\n",
      "DEBUG flwr 2023-08-29 08:46:29,995 | server.py:173 | evaluate_round 1: strategy sampled 5 clients (out of 10)\n"
     ]
    },
    {
     "name": "stdout",
     "output_type": "stream",
     "text": [
      "agrregate_fit results list length is  5\n",
      "Saving round 1 aggregated_parameters...\n"
     ]
    },
    {
     "name": "stderr",
     "output_type": "stream",
     "text": [
      "DEBUG flwr 2023-08-29 08:46:30,435 | server.py:187 | evaluate_round 1 received 5 results and 0 failures\n",
      "DEBUG flwr 2023-08-29 08:46:30,437 | server.py:222 | fit_round 2: strategy sampled 5 clients (out of 10)\n"
     ]
    },
    {
     "name": "stdout",
     "output_type": "stream",
     "text": [
      "agrregate_evaluate results list length is  5\n",
      "server round is  1\n",
      "loss is  8.033333333333333\n"
     ]
    },
    {
     "name": "stderr",
     "output_type": "stream",
     "text": [
      "DEBUG flwr 2023-08-29 08:46:45,039 | server.py:236 | fit_round 2 received 5 results and 0 failures\n",
      "DEBUG flwr 2023-08-29 08:46:45,138 | server.py:173 | evaluate_round 2: strategy sampled 5 clients (out of 10)\n"
     ]
    },
    {
     "name": "stdout",
     "output_type": "stream",
     "text": [
      "agrregate_fit results list length is  5\n",
      "Saving round 2 aggregated_parameters...\n"
     ]
    },
    {
     "name": "stderr",
     "output_type": "stream",
     "text": [
      "DEBUG flwr 2023-08-29 08:46:45,545 | server.py:187 | evaluate_round 2 received 5 results and 0 failures\n",
      "DEBUG flwr 2023-08-29 08:46:45,547 | server.py:222 | fit_round 3: strategy sampled 5 clients (out of 10)\n"
     ]
    },
    {
     "name": "stdout",
     "output_type": "stream",
     "text": [
      "agrregate_evaluate results list length is  5\n",
      "server round is  2\n",
      "loss is  2.7555555555555555\n"
     ]
    },
    {
     "name": "stderr",
     "output_type": "stream",
     "text": [
      "DEBUG flwr 2023-08-29 08:46:48,066 | server.py:236 | fit_round 3 received 5 results and 0 failures\n",
      "DEBUG flwr 2023-08-29 08:46:48,225 | server.py:173 | evaluate_round 3: strategy sampled 5 clients (out of 10)\n"
     ]
    },
    {
     "name": "stdout",
     "output_type": "stream",
     "text": [
      "agrregate_fit results list length is  5\n",
      "Saving round 3 aggregated_parameters...\n"
     ]
    },
    {
     "name": "stderr",
     "output_type": "stream",
     "text": [
      "DEBUG flwr 2023-08-29 08:46:48,775 | server.py:187 | evaluate_round 3 received 5 results and 0 failures\n",
      "DEBUG flwr 2023-08-29 08:46:48,778 | server.py:222 | fit_round 4: strategy sampled 5 clients (out of 10)\n"
     ]
    },
    {
     "name": "stdout",
     "output_type": "stream",
     "text": [
      "agrregate_evaluate results list length is  5\n",
      "server round is  3\n",
      "loss is  1.8444444444444446\n"
     ]
    },
    {
     "name": "stderr",
     "output_type": "stream",
     "text": [
      "DEBUG flwr 2023-08-29 08:47:03,669 | server.py:236 | fit_round 4 received 5 results and 0 failures\n",
      "DEBUG flwr 2023-08-29 08:47:03,776 | server.py:173 | evaluate_round 4: strategy sampled 5 clients (out of 10)\n"
     ]
    },
    {
     "name": "stdout",
     "output_type": "stream",
     "text": [
      "agrregate_fit results list length is  5\n",
      "Saving round 4 aggregated_parameters...\n"
     ]
    },
    {
     "name": "stderr",
     "output_type": "stream",
     "text": [
      "DEBUG flwr 2023-08-29 08:47:04,249 | server.py:187 | evaluate_round 4 received 5 results and 0 failures\n",
      "DEBUG flwr 2023-08-29 08:47:04,251 | server.py:222 | fit_round 5: strategy sampled 5 clients (out of 10)\n"
     ]
    },
    {
     "name": "stdout",
     "output_type": "stream",
     "text": [
      "agrregate_evaluate results list length is  5\n",
      "server round is  4\n",
      "loss is  1.3666666666666667\n"
     ]
    },
    {
     "name": "stderr",
     "output_type": "stream",
     "text": [
      "DEBUG flwr 2023-08-29 08:47:19,492 | server.py:236 | fit_round 5 received 5 results and 0 failures\n",
      "DEBUG flwr 2023-08-29 08:47:19,624 | server.py:173 | evaluate_round 5: strategy sampled 5 clients (out of 10)\n"
     ]
    },
    {
     "name": "stdout",
     "output_type": "stream",
     "text": [
      "agrregate_fit results list length is  5\n",
      "Saving round 5 aggregated_parameters...\n"
     ]
    },
    {
     "name": "stderr",
     "output_type": "stream",
     "text": [
      "DEBUG flwr 2023-08-29 08:47:20,122 | server.py:187 | evaluate_round 5 received 5 results and 0 failures\n",
      "DEBUG flwr 2023-08-29 08:47:20,124 | server.py:222 | fit_round 6: strategy sampled 5 clients (out of 10)\n"
     ]
    },
    {
     "name": "stdout",
     "output_type": "stream",
     "text": [
      "agrregate_evaluate results list length is  5\n",
      "server round is  5\n",
      "loss is  1.0\n"
     ]
    },
    {
     "name": "stderr",
     "output_type": "stream",
     "text": [
      "DEBUG flwr 2023-08-29 08:47:22,936 | server.py:236 | fit_round 6 received 5 results and 0 failures\n",
      "DEBUG flwr 2023-08-29 08:47:23,063 | server.py:173 | evaluate_round 6: strategy sampled 5 clients (out of 10)\n"
     ]
    },
    {
     "name": "stdout",
     "output_type": "stream",
     "text": [
      "agrregate_fit results list length is  5\n",
      "Saving round 6 aggregated_parameters...\n"
     ]
    },
    {
     "name": "stderr",
     "output_type": "stream",
     "text": [
      "DEBUG flwr 2023-08-29 08:47:23,565 | server.py:187 | evaluate_round 6 received 5 results and 0 failures\n",
      "DEBUG flwr 2023-08-29 08:47:23,567 | server.py:222 | fit_round 7: strategy sampled 5 clients (out of 10)\n"
     ]
    },
    {
     "name": "stdout",
     "output_type": "stream",
     "text": [
      "agrregate_evaluate results list length is  5\n",
      "server round is  6\n",
      "loss is  1.0\n"
     ]
    },
    {
     "name": "stderr",
     "output_type": "stream",
     "text": [
      "DEBUG flwr 2023-08-29 08:47:37,893 | server.py:236 | fit_round 7 received 5 results and 0 failures\n",
      "DEBUG flwr 2023-08-29 08:47:38,003 | server.py:173 | evaluate_round 7: strategy sampled 5 clients (out of 10)\n"
     ]
    },
    {
     "name": "stdout",
     "output_type": "stream",
     "text": [
      "agrregate_fit results list length is  5\n",
      "Saving round 7 aggregated_parameters...\n"
     ]
    },
    {
     "name": "stderr",
     "output_type": "stream",
     "text": [
      "DEBUG flwr 2023-08-29 08:47:38,444 | server.py:187 | evaluate_round 7 received 5 results and 0 failures\n",
      "DEBUG flwr 2023-08-29 08:47:38,445 | server.py:222 | fit_round 8: strategy sampled 5 clients (out of 10)\n"
     ]
    },
    {
     "name": "stdout",
     "output_type": "stream",
     "text": [
      "agrregate_evaluate results list length is  5\n",
      "server round is  7\n",
      "loss is  0.7333333333333333\n"
     ]
    },
    {
     "name": "stderr",
     "output_type": "stream",
     "text": [
      "DEBUG flwr 2023-08-29 08:47:41,073 | server.py:236 | fit_round 8 received 5 results and 0 failures\n",
      "DEBUG flwr 2023-08-29 08:47:41,202 | server.py:173 | evaluate_round 8: strategy sampled 5 clients (out of 10)\n"
     ]
    },
    {
     "name": "stdout",
     "output_type": "stream",
     "text": [
      "agrregate_fit results list length is  5\n",
      "Saving round 8 aggregated_parameters...\n"
     ]
    },
    {
     "name": "stderr",
     "output_type": "stream",
     "text": [
      "DEBUG flwr 2023-08-29 08:47:41,732 | server.py:187 | evaluate_round 8 received 5 results and 0 failures\n",
      "DEBUG flwr 2023-08-29 08:47:41,733 | server.py:222 | fit_round 9: strategy sampled 5 clients (out of 10)\n"
     ]
    },
    {
     "name": "stdout",
     "output_type": "stream",
     "text": [
      "agrregate_evaluate results list length is  5\n",
      "server round is  8\n",
      "loss is  0.7555555555555555\n"
     ]
    },
    {
     "name": "stderr",
     "output_type": "stream",
     "text": [
      "DEBUG flwr 2023-08-29 08:47:56,484 | server.py:236 | fit_round 9 received 5 results and 0 failures\n",
      "DEBUG flwr 2023-08-29 08:47:56,591 | server.py:173 | evaluate_round 9: strategy sampled 5 clients (out of 10)\n"
     ]
    },
    {
     "name": "stdout",
     "output_type": "stream",
     "text": [
      "agrregate_fit results list length is  5\n",
      "Saving round 9 aggregated_parameters...\n"
     ]
    },
    {
     "name": "stderr",
     "output_type": "stream",
     "text": [
      "DEBUG flwr 2023-08-29 08:47:57,006 | server.py:187 | evaluate_round 9 received 5 results and 0 failures\n",
      "DEBUG flwr 2023-08-29 08:47:57,008 | server.py:222 | fit_round 10: strategy sampled 5 clients (out of 10)\n"
     ]
    },
    {
     "name": "stdout",
     "output_type": "stream",
     "text": [
      "agrregate_evaluate results list length is  5\n",
      "server round is  9\n",
      "loss is  0.7944444444444444\n"
     ]
    },
    {
     "name": "stderr",
     "output_type": "stream",
     "text": [
      "DEBUG flwr 2023-08-29 08:47:59,804 | server.py:236 | fit_round 10 received 5 results and 0 failures\n",
      "DEBUG flwr 2023-08-29 08:47:59,955 | server.py:173 | evaluate_round 10: strategy sampled 5 clients (out of 10)\n"
     ]
    },
    {
     "name": "stdout",
     "output_type": "stream",
     "text": [
      "agrregate_fit results list length is  5\n",
      "Saving round 10 aggregated_parameters...\n"
     ]
    },
    {
     "name": "stderr",
     "output_type": "stream",
     "text": [
      "DEBUG flwr 2023-08-29 08:48:00,509 | server.py:187 | evaluate_round 10 received 5 results and 0 failures\n",
      "DEBUG flwr 2023-08-29 08:48:00,510 | server.py:222 | fit_round 11: strategy sampled 5 clients (out of 10)\n"
     ]
    },
    {
     "name": "stdout",
     "output_type": "stream",
     "text": [
      "agrregate_evaluate results list length is  5\n",
      "server round is  10\n",
      "loss is  0.65\n"
     ]
    },
    {
     "name": "stderr",
     "output_type": "stream",
     "text": [
      "DEBUG flwr 2023-08-29 08:48:17,475 | server.py:236 | fit_round 11 received 5 results and 0 failures\n",
      "DEBUG flwr 2023-08-29 08:48:17,582 | server.py:173 | evaluate_round 11: strategy sampled 5 clients (out of 10)\n"
     ]
    },
    {
     "name": "stdout",
     "output_type": "stream",
     "text": [
      "agrregate_fit results list length is  5\n",
      "Saving round 11 aggregated_parameters...\n"
     ]
    },
    {
     "name": "stderr",
     "output_type": "stream",
     "text": [
      "DEBUG flwr 2023-08-29 08:48:18,030 | server.py:187 | evaluate_round 11 received 5 results and 0 failures\n",
      "DEBUG flwr 2023-08-29 08:48:18,031 | server.py:222 | fit_round 12: strategy sampled 5 clients (out of 10)\n"
     ]
    },
    {
     "name": "stdout",
     "output_type": "stream",
     "text": [
      "agrregate_evaluate results list length is  5\n",
      "server round is  11\n",
      "loss is  0.5111111111111111\n"
     ]
    },
    {
     "name": "stderr",
     "output_type": "stream",
     "text": [
      "DEBUG flwr 2023-08-29 08:48:32,326 | server.py:236 | fit_round 12 received 5 results and 0 failures\n",
      "DEBUG flwr 2023-08-29 08:48:32,447 | server.py:173 | evaluate_round 12: strategy sampled 5 clients (out of 10)\n"
     ]
    },
    {
     "name": "stdout",
     "output_type": "stream",
     "text": [
      "agrregate_fit results list length is  5\n",
      "Saving round 12 aggregated_parameters...\n"
     ]
    },
    {
     "name": "stderr",
     "output_type": "stream",
     "text": [
      "DEBUG flwr 2023-08-29 08:48:32,913 | server.py:187 | evaluate_round 12 received 5 results and 0 failures\n",
      "DEBUG flwr 2023-08-29 08:48:32,914 | server.py:222 | fit_round 13: strategy sampled 5 clients (out of 10)\n"
     ]
    },
    {
     "name": "stdout",
     "output_type": "stream",
     "text": [
      "agrregate_evaluate results list length is  5\n",
      "server round is  12\n",
      "loss is  0.7333333333333333\n"
     ]
    },
    {
     "name": "stderr",
     "output_type": "stream",
     "text": [
      "DEBUG flwr 2023-08-29 08:48:35,840 | server.py:236 | fit_round 13 received 5 results and 0 failures\n",
      "DEBUG flwr 2023-08-29 08:48:36,030 | server.py:173 | evaluate_round 13: strategy sampled 5 clients (out of 10)\n"
     ]
    },
    {
     "name": "stdout",
     "output_type": "stream",
     "text": [
      "agrregate_fit results list length is  5\n",
      "Saving round 13 aggregated_parameters...\n"
     ]
    },
    {
     "name": "stderr",
     "output_type": "stream",
     "text": [
      "DEBUG flwr 2023-08-29 08:48:36,518 | server.py:187 | evaluate_round 13 received 5 results and 0 failures\n",
      "DEBUG flwr 2023-08-29 08:48:36,519 | server.py:222 | fit_round 14: strategy sampled 5 clients (out of 10)\n"
     ]
    },
    {
     "name": "stdout",
     "output_type": "stream",
     "text": [
      "agrregate_evaluate results list length is  5\n",
      "server round is  13\n",
      "loss is  0.7055555555555557\n"
     ]
    },
    {
     "name": "stderr",
     "output_type": "stream",
     "text": [
      "DEBUG flwr 2023-08-29 08:48:39,132 | server.py:236 | fit_round 14 received 5 results and 0 failures\n",
      "DEBUG flwr 2023-08-29 08:48:39,259 | server.py:173 | evaluate_round 14: strategy sampled 5 clients (out of 10)\n"
     ]
    },
    {
     "name": "stdout",
     "output_type": "stream",
     "text": [
      "agrregate_fit results list length is  5\n",
      "Saving round 14 aggregated_parameters...\n"
     ]
    },
    {
     "name": "stderr",
     "output_type": "stream",
     "text": [
      "DEBUG flwr 2023-08-29 08:48:39,744 | server.py:187 | evaluate_round 14 received 5 results and 0 failures\n",
      "DEBUG flwr 2023-08-29 08:48:39,745 | server.py:222 | fit_round 15: strategy sampled 5 clients (out of 10)\n"
     ]
    },
    {
     "name": "stdout",
     "output_type": "stream",
     "text": [
      "agrregate_evaluate results list length is  5\n",
      "server round is  14\n",
      "loss is  0.5833333333333334\n"
     ]
    },
    {
     "name": "stderr",
     "output_type": "stream",
     "text": [
      "DEBUG flwr 2023-08-29 08:48:42,322 | server.py:236 | fit_round 15 received 5 results and 0 failures\n",
      "DEBUG flwr 2023-08-29 08:48:42,467 | server.py:173 | evaluate_round 15: strategy sampled 5 clients (out of 10)\n"
     ]
    },
    {
     "name": "stdout",
     "output_type": "stream",
     "text": [
      "agrregate_fit results list length is  5\n",
      "Saving round 15 aggregated_parameters...\n"
     ]
    },
    {
     "name": "stderr",
     "output_type": "stream",
     "text": [
      "DEBUG flwr 2023-08-29 08:48:42,960 | server.py:187 | evaluate_round 15 received 5 results and 0 failures\n",
      "DEBUG flwr 2023-08-29 08:48:42,961 | server.py:222 | fit_round 16: strategy sampled 5 clients (out of 10)\n"
     ]
    },
    {
     "name": "stdout",
     "output_type": "stream",
     "text": [
      "agrregate_evaluate results list length is  5\n",
      "server round is  15\n",
      "loss is  0.6\n"
     ]
    },
    {
     "name": "stderr",
     "output_type": "stream",
     "text": [
      "DEBUG flwr 2023-08-29 08:48:45,576 | server.py:236 | fit_round 16 received 5 results and 0 failures\n",
      "DEBUG flwr 2023-08-29 08:48:45,710 | server.py:173 | evaluate_round 16: strategy sampled 5 clients (out of 10)\n"
     ]
    },
    {
     "name": "stdout",
     "output_type": "stream",
     "text": [
      "agrregate_fit results list length is  5\n",
      "Saving round 16 aggregated_parameters...\n"
     ]
    },
    {
     "name": "stderr",
     "output_type": "stream",
     "text": [
      "DEBUG flwr 2023-08-29 08:48:46,219 | server.py:187 | evaluate_round 16 received 5 results and 0 failures\n",
      "DEBUG flwr 2023-08-29 08:48:46,220 | server.py:222 | fit_round 17: strategy sampled 5 clients (out of 10)\n"
     ]
    },
    {
     "name": "stdout",
     "output_type": "stream",
     "text": [
      "agrregate_evaluate results list length is  5\n",
      "server round is  16\n",
      "loss is  0.5944444444444444\n"
     ]
    },
    {
     "name": "stderr",
     "output_type": "stream",
     "text": [
      "DEBUG flwr 2023-08-29 08:48:48,843 | server.py:236 | fit_round 17 received 5 results and 0 failures\n",
      "DEBUG flwr 2023-08-29 08:48:48,983 | server.py:173 | evaluate_round 17: strategy sampled 5 clients (out of 10)\n"
     ]
    },
    {
     "name": "stdout",
     "output_type": "stream",
     "text": [
      "agrregate_fit results list length is  5\n",
      "Saving round 17 aggregated_parameters...\n"
     ]
    },
    {
     "name": "stderr",
     "output_type": "stream",
     "text": [
      "DEBUG flwr 2023-08-29 08:48:49,480 | server.py:187 | evaluate_round 17 received 5 results and 0 failures\n",
      "DEBUG flwr 2023-08-29 08:48:49,484 | server.py:222 | fit_round 18: strategy sampled 5 clients (out of 10)\n"
     ]
    },
    {
     "name": "stdout",
     "output_type": "stream",
     "text": [
      "agrregate_evaluate results list length is  5\n",
      "server round is  17\n",
      "loss is  0.5777777777777776\n"
     ]
    },
    {
     "name": "stderr",
     "output_type": "stream",
     "text": [
      "DEBUG flwr 2023-08-29 08:49:04,274 | server.py:236 | fit_round 18 received 5 results and 0 failures\n",
      "DEBUG flwr 2023-08-29 08:49:04,393 | server.py:173 | evaluate_round 18: strategy sampled 5 clients (out of 10)\n"
     ]
    },
    {
     "name": "stdout",
     "output_type": "stream",
     "text": [
      "agrregate_fit results list length is  5\n",
      "Saving round 18 aggregated_parameters...\n"
     ]
    },
    {
     "name": "stderr",
     "output_type": "stream",
     "text": [
      "DEBUG flwr 2023-08-29 08:49:04,832 | server.py:187 | evaluate_round 18 received 5 results and 0 failures\n",
      "DEBUG flwr 2023-08-29 08:49:04,834 | server.py:222 | fit_round 19: strategy sampled 5 clients (out of 10)\n"
     ]
    },
    {
     "name": "stdout",
     "output_type": "stream",
     "text": [
      "agrregate_evaluate results list length is  5\n",
      "server round is  18\n",
      "loss is  0.5388888888888889\n"
     ]
    },
    {
     "name": "stderr",
     "output_type": "stream",
     "text": [
      "DEBUG flwr 2023-08-29 08:49:20,565 | server.py:236 | fit_round 19 received 5 results and 0 failures\n",
      "DEBUG flwr 2023-08-29 08:49:20,667 | server.py:173 | evaluate_round 19: strategy sampled 5 clients (out of 10)\n"
     ]
    },
    {
     "name": "stdout",
     "output_type": "stream",
     "text": [
      "agrregate_fit results list length is  5\n",
      "Saving round 19 aggregated_parameters...\n"
     ]
    },
    {
     "name": "stderr",
     "output_type": "stream",
     "text": [
      "DEBUG flwr 2023-08-29 08:49:21,100 | server.py:187 | evaluate_round 19 received 5 results and 0 failures\n",
      "DEBUG flwr 2023-08-29 08:49:21,101 | server.py:222 | fit_round 20: strategy sampled 5 clients (out of 10)\n"
     ]
    },
    {
     "name": "stdout",
     "output_type": "stream",
     "text": [
      "agrregate_evaluate results list length is  5\n",
      "server round is  19\n",
      "loss is  0.5388888888888889\n"
     ]
    },
    {
     "name": "stderr",
     "output_type": "stream",
     "text": [
      "DEBUG flwr 2023-08-29 08:49:23,692 | server.py:236 | fit_round 20 received 5 results and 0 failures\n",
      "DEBUG flwr 2023-08-29 08:49:23,842 | server.py:173 | evaluate_round 20: strategy sampled 5 clients (out of 10)\n"
     ]
    },
    {
     "name": "stdout",
     "output_type": "stream",
     "text": [
      "agrregate_fit results list length is  5\n",
      "Saving round 20 aggregated_parameters...\n"
     ]
    },
    {
     "name": "stderr",
     "output_type": "stream",
     "text": [
      "DEBUG flwr 2023-08-29 08:49:24,408 | server.py:187 | evaluate_round 20 received 5 results and 0 failures\n",
      "DEBUG flwr 2023-08-29 08:49:24,409 | server.py:222 | fit_round 21: strategy sampled 5 clients (out of 10)\n"
     ]
    },
    {
     "name": "stdout",
     "output_type": "stream",
     "text": [
      "agrregate_evaluate results list length is  5\n",
      "server round is  20\n",
      "loss is  0.5388888888888889\n"
     ]
    },
    {
     "name": "stderr",
     "output_type": "stream",
     "text": [
      "DEBUG flwr 2023-08-29 08:49:27,222 | server.py:236 | fit_round 21 received 5 results and 0 failures\n",
      "DEBUG flwr 2023-08-29 08:49:27,355 | server.py:173 | evaluate_round 21: strategy sampled 5 clients (out of 10)\n"
     ]
    },
    {
     "name": "stdout",
     "output_type": "stream",
     "text": [
      "agrregate_fit results list length is  5\n",
      "Saving round 21 aggregated_parameters...\n"
     ]
    },
    {
     "name": "stderr",
     "output_type": "stream",
     "text": [
      "DEBUG flwr 2023-08-29 08:49:27,852 | server.py:187 | evaluate_round 21 received 5 results and 0 failures\n",
      "DEBUG flwr 2023-08-29 08:49:27,854 | server.py:222 | fit_round 22: strategy sampled 5 clients (out of 10)\n"
     ]
    },
    {
     "name": "stdout",
     "output_type": "stream",
     "text": [
      "agrregate_evaluate results list length is  5\n",
      "server round is  21\n",
      "loss is  0.5944444444444444\n"
     ]
    },
    {
     "name": "stderr",
     "output_type": "stream",
     "text": [
      "DEBUG flwr 2023-08-29 08:49:42,751 | server.py:236 | fit_round 22 received 5 results and 0 failures\n",
      "DEBUG flwr 2023-08-29 08:49:42,850 | server.py:173 | evaluate_round 22: strategy sampled 5 clients (out of 10)\n"
     ]
    },
    {
     "name": "stdout",
     "output_type": "stream",
     "text": [
      "agrregate_fit results list length is  5\n",
      "Saving round 22 aggregated_parameters...\n"
     ]
    },
    {
     "name": "stderr",
     "output_type": "stream",
     "text": [
      "DEBUG flwr 2023-08-29 08:49:43,309 | server.py:187 | evaluate_round 22 received 5 results and 0 failures\n",
      "DEBUG flwr 2023-08-29 08:49:43,311 | server.py:222 | fit_round 23: strategy sampled 5 clients (out of 10)\n"
     ]
    },
    {
     "name": "stdout",
     "output_type": "stream",
     "text": [
      "agrregate_evaluate results list length is  5\n",
      "server round is  22\n",
      "loss is  0.5333333333333333\n"
     ]
    },
    {
     "name": "stderr",
     "output_type": "stream",
     "text": [
      "DEBUG flwr 2023-08-29 08:49:45,888 | server.py:236 | fit_round 23 received 5 results and 0 failures\n",
      "DEBUG flwr 2023-08-29 08:49:46,025 | server.py:173 | evaluate_round 23: strategy sampled 5 clients (out of 10)\n"
     ]
    },
    {
     "name": "stdout",
     "output_type": "stream",
     "text": [
      "agrregate_fit results list length is  5\n",
      "Saving round 23 aggregated_parameters...\n"
     ]
    },
    {
     "name": "stderr",
     "output_type": "stream",
     "text": [
      "DEBUG flwr 2023-08-29 08:49:46,526 | server.py:187 | evaluate_round 23 received 5 results and 0 failures\n",
      "DEBUG flwr 2023-08-29 08:49:46,527 | server.py:222 | fit_round 24: strategy sampled 5 clients (out of 10)\n"
     ]
    },
    {
     "name": "stdout",
     "output_type": "stream",
     "text": [
      "agrregate_evaluate results list length is  5\n",
      "server round is  23\n",
      "loss is  0.4444444444444444\n"
     ]
    },
    {
     "name": "stderr",
     "output_type": "stream",
     "text": [
      "DEBUG flwr 2023-08-29 08:50:01,046 | server.py:236 | fit_round 24 received 5 results and 0 failures\n",
      "DEBUG flwr 2023-08-29 08:50:01,154 | server.py:173 | evaluate_round 24: strategy sampled 5 clients (out of 10)\n"
     ]
    },
    {
     "name": "stdout",
     "output_type": "stream",
     "text": [
      "agrregate_fit results list length is  5\n",
      "Saving round 24 aggregated_parameters...\n"
     ]
    },
    {
     "name": "stderr",
     "output_type": "stream",
     "text": [
      "DEBUG flwr 2023-08-29 08:50:01,611 | server.py:187 | evaluate_round 24 received 5 results and 0 failures\n",
      "DEBUG flwr 2023-08-29 08:50:01,614 | server.py:222 | fit_round 25: strategy sampled 5 clients (out of 10)\n"
     ]
    },
    {
     "name": "stdout",
     "output_type": "stream",
     "text": [
      "agrregate_evaluate results list length is  5\n",
      "server round is  24\n",
      "loss is  0.45555555555555555\n"
     ]
    },
    {
     "name": "stderr",
     "output_type": "stream",
     "text": [
      "DEBUG flwr 2023-08-29 08:50:16,241 | server.py:236 | fit_round 25 received 5 results and 0 failures\n",
      "DEBUG flwr 2023-08-29 08:50:16,345 | server.py:173 | evaluate_round 25: strategy sampled 5 clients (out of 10)\n"
     ]
    },
    {
     "name": "stdout",
     "output_type": "stream",
     "text": [
      "agrregate_fit results list length is  5\n",
      "Saving round 25 aggregated_parameters...\n"
     ]
    },
    {
     "name": "stderr",
     "output_type": "stream",
     "text": [
      "DEBUG flwr 2023-08-29 08:50:16,805 | server.py:187 | evaluate_round 25 received 5 results and 0 failures\n",
      "DEBUG flwr 2023-08-29 08:50:16,806 | server.py:222 | fit_round 26: strategy sampled 5 clients (out of 10)\n"
     ]
    },
    {
     "name": "stdout",
     "output_type": "stream",
     "text": [
      "agrregate_evaluate results list length is  5\n",
      "server round is  25\n",
      "loss is  0.5833333333333334\n"
     ]
    },
    {
     "name": "stderr",
     "output_type": "stream",
     "text": [
      "DEBUG flwr 2023-08-29 08:50:19,390 | server.py:236 | fit_round 26 received 5 results and 0 failures\n",
      "DEBUG flwr 2023-08-29 08:50:19,525 | server.py:173 | evaluate_round 26: strategy sampled 5 clients (out of 10)\n"
     ]
    },
    {
     "name": "stdout",
     "output_type": "stream",
     "text": [
      "agrregate_fit results list length is  5\n",
      "Saving round 26 aggregated_parameters...\n"
     ]
    },
    {
     "name": "stderr",
     "output_type": "stream",
     "text": [
      "DEBUG flwr 2023-08-29 08:50:20,016 | server.py:187 | evaluate_round 26 received 5 results and 0 failures\n",
      "DEBUG flwr 2023-08-29 08:50:20,017 | server.py:222 | fit_round 27: strategy sampled 5 clients (out of 10)\n"
     ]
    },
    {
     "name": "stdout",
     "output_type": "stream",
     "text": [
      "agrregate_evaluate results list length is  5\n",
      "server round is  26\n",
      "loss is  0.5\n"
     ]
    },
    {
     "name": "stderr",
     "output_type": "stream",
     "text": [
      "DEBUG flwr 2023-08-29 08:50:34,278 | server.py:236 | fit_round 27 received 5 results and 0 failures\n",
      "DEBUG flwr 2023-08-29 08:50:34,393 | server.py:173 | evaluate_round 27: strategy sampled 5 clients (out of 10)\n"
     ]
    },
    {
     "name": "stdout",
     "output_type": "stream",
     "text": [
      "agrregate_fit results list length is  5\n",
      "Saving round 27 aggregated_parameters...\n"
     ]
    },
    {
     "name": "stderr",
     "output_type": "stream",
     "text": [
      "DEBUG flwr 2023-08-29 08:50:34,865 | server.py:187 | evaluate_round 27 received 5 results and 0 failures\n",
      "DEBUG flwr 2023-08-29 08:50:34,868 | server.py:222 | fit_round 28: strategy sampled 5 clients (out of 10)\n"
     ]
    },
    {
     "name": "stdout",
     "output_type": "stream",
     "text": [
      "agrregate_evaluate results list length is  5\n",
      "server round is  27\n",
      "loss is  0.5555555555555556\n"
     ]
    },
    {
     "name": "stderr",
     "output_type": "stream",
     "text": [
      "DEBUG flwr 2023-08-29 08:50:49,243 | server.py:236 | fit_round 28 received 5 results and 0 failures\n",
      "DEBUG flwr 2023-08-29 08:50:49,344 | server.py:173 | evaluate_round 28: strategy sampled 5 clients (out of 10)\n"
     ]
    },
    {
     "name": "stdout",
     "output_type": "stream",
     "text": [
      "agrregate_fit results list length is  5\n",
      "Saving round 28 aggregated_parameters...\n"
     ]
    },
    {
     "name": "stderr",
     "output_type": "stream",
     "text": [
      "DEBUG flwr 2023-08-29 08:50:49,798 | server.py:187 | evaluate_round 28 received 5 results and 0 failures\n",
      "DEBUG flwr 2023-08-29 08:50:49,800 | server.py:222 | fit_round 29: strategy sampled 5 clients (out of 10)\n"
     ]
    },
    {
     "name": "stdout",
     "output_type": "stream",
     "text": [
      "agrregate_evaluate results list length is  5\n",
      "server round is  28\n",
      "loss is  0.5444444444444444\n"
     ]
    },
    {
     "name": "stderr",
     "output_type": "stream",
     "text": [
      "DEBUG flwr 2023-08-29 08:51:04,242 | server.py:236 | fit_round 29 received 5 results and 0 failures\n",
      "DEBUG flwr 2023-08-29 08:51:04,348 | server.py:173 | evaluate_round 29: strategy sampled 5 clients (out of 10)\n"
     ]
    },
    {
     "name": "stdout",
     "output_type": "stream",
     "text": [
      "agrregate_fit results list length is  5\n",
      "Saving round 29 aggregated_parameters...\n"
     ]
    },
    {
     "name": "stderr",
     "output_type": "stream",
     "text": [
      "DEBUG flwr 2023-08-29 08:51:04,823 | server.py:187 | evaluate_round 29 received 5 results and 0 failures\n",
      "DEBUG flwr 2023-08-29 08:51:04,824 | server.py:222 | fit_round 30: strategy sampled 5 clients (out of 10)\n"
     ]
    },
    {
     "name": "stdout",
     "output_type": "stream",
     "text": [
      "agrregate_evaluate results list length is  5\n",
      "server round is  29\n",
      "loss is  0.48333333333333334\n"
     ]
    },
    {
     "name": "stderr",
     "output_type": "stream",
     "text": [
      "DEBUG flwr 2023-08-29 08:51:07,517 | server.py:236 | fit_round 30 received 5 results and 0 failures\n",
      "DEBUG flwr 2023-08-29 08:51:07,656 | server.py:173 | evaluate_round 30: strategy sampled 5 clients (out of 10)\n"
     ]
    },
    {
     "name": "stdout",
     "output_type": "stream",
     "text": [
      "agrregate_fit results list length is  5\n",
      "Saving round 30 aggregated_parameters...\n"
     ]
    },
    {
     "name": "stderr",
     "output_type": "stream",
     "text": [
      "DEBUG flwr 2023-08-29 08:51:08,154 | server.py:187 | evaluate_round 30 received 5 results and 0 failures\n",
      "DEBUG flwr 2023-08-29 08:51:08,155 | server.py:222 | fit_round 31: strategy sampled 5 clients (out of 10)\n"
     ]
    },
    {
     "name": "stdout",
     "output_type": "stream",
     "text": [
      "agrregate_evaluate results list length is  5\n",
      "server round is  30\n",
      "loss is  0.5166666666666667\n"
     ]
    },
    {
     "name": "stderr",
     "output_type": "stream",
     "text": [
      "DEBUG flwr 2023-08-29 08:51:22,487 | server.py:236 | fit_round 31 received 5 results and 0 failures\n",
      "DEBUG flwr 2023-08-29 08:51:22,585 | server.py:173 | evaluate_round 31: strategy sampled 5 clients (out of 10)\n"
     ]
    },
    {
     "name": "stdout",
     "output_type": "stream",
     "text": [
      "agrregate_fit results list length is  5\n",
      "Saving round 31 aggregated_parameters...\n"
     ]
    },
    {
     "name": "stderr",
     "output_type": "stream",
     "text": [
      "DEBUG flwr 2023-08-29 08:51:23,047 | server.py:187 | evaluate_round 31 received 5 results and 0 failures\n",
      "DEBUG flwr 2023-08-29 08:51:23,049 | server.py:222 | fit_round 32: strategy sampled 5 clients (out of 10)\n"
     ]
    },
    {
     "name": "stdout",
     "output_type": "stream",
     "text": [
      "agrregate_evaluate results list length is  5\n",
      "server round is  31\n",
      "loss is  0.7666666666666667\n"
     ]
    },
    {
     "name": "stderr",
     "output_type": "stream",
     "text": [
      "DEBUG flwr 2023-08-29 08:51:37,217 | server.py:236 | fit_round 32 received 5 results and 0 failures\n"
     ]
    },
    {
     "name": "stdout",
     "output_type": "stream",
     "text": [
      "agrregate_fit results list length is  5\n"
     ]
    },
    {
     "name": "stderr",
     "output_type": "stream",
     "text": [
      "DEBUG flwr 2023-08-29 08:51:38,009 | server.py:173 | evaluate_round 32: strategy sampled 5 clients (out of 10)\n"
     ]
    },
    {
     "name": "stdout",
     "output_type": "stream",
     "text": [
      "Saving round 32 aggregated_parameters...\n"
     ]
    },
    {
     "name": "stderr",
     "output_type": "stream",
     "text": [
      "DEBUG flwr 2023-08-29 08:51:38,530 | server.py:187 | evaluate_round 32 received 5 results and 0 failures\n",
      "DEBUG flwr 2023-08-29 08:51:38,531 | server.py:222 | fit_round 33: strategy sampled 5 clients (out of 10)\n"
     ]
    },
    {
     "name": "stdout",
     "output_type": "stream",
     "text": [
      "agrregate_evaluate results list length is  5\n",
      "server round is  32\n",
      "loss is  0.6333333333333333\n"
     ]
    },
    {
     "name": "stderr",
     "output_type": "stream",
     "text": [
      "DEBUG flwr 2023-08-29 08:51:52,841 | server.py:236 | fit_round 33 received 5 results and 0 failures\n",
      "DEBUG flwr 2023-08-29 08:51:52,962 | server.py:173 | evaluate_round 33: strategy sampled 5 clients (out of 10)\n"
     ]
    },
    {
     "name": "stdout",
     "output_type": "stream",
     "text": [
      "agrregate_fit results list length is  5\n",
      "Saving round 33 aggregated_parameters...\n"
     ]
    },
    {
     "name": "stderr",
     "output_type": "stream",
     "text": [
      "DEBUG flwr 2023-08-29 08:51:53,363 | server.py:187 | evaluate_round 33 received 5 results and 0 failures\n",
      "DEBUG flwr 2023-08-29 08:51:53,365 | server.py:222 | fit_round 34: strategy sampled 5 clients (out of 10)\n"
     ]
    },
    {
     "name": "stdout",
     "output_type": "stream",
     "text": [
      "agrregate_evaluate results list length is  5\n",
      "server round is  33\n",
      "loss is  0.5111111111111111\n"
     ]
    },
    {
     "name": "stderr",
     "output_type": "stream",
     "text": [
      "DEBUG flwr 2023-08-29 08:52:07,428 | server.py:236 | fit_round 34 received 5 results and 0 failures\n",
      "DEBUG flwr 2023-08-29 08:52:07,530 | server.py:173 | evaluate_round 34: strategy sampled 5 clients (out of 10)\n"
     ]
    },
    {
     "name": "stdout",
     "output_type": "stream",
     "text": [
      "agrregate_fit results list length is  5\n",
      "Saving round 34 aggregated_parameters...\n"
     ]
    },
    {
     "name": "stderr",
     "output_type": "stream",
     "text": [
      "DEBUG flwr 2023-08-29 08:52:07,999 | server.py:187 | evaluate_round 34 received 5 results and 0 failures\n",
      "DEBUG flwr 2023-08-29 08:52:08,000 | server.py:222 | fit_round 35: strategy sampled 5 clients (out of 10)\n"
     ]
    },
    {
     "name": "stdout",
     "output_type": "stream",
     "text": [
      "agrregate_evaluate results list length is  5\n",
      "server round is  34\n",
      "loss is  0.5\n"
     ]
    },
    {
     "name": "stderr",
     "output_type": "stream",
     "text": [
      "DEBUG flwr 2023-08-29 08:52:23,158 | server.py:236 | fit_round 35 received 5 results and 0 failures\n",
      "DEBUG flwr 2023-08-29 08:52:23,261 | server.py:173 | evaluate_round 35: strategy sampled 5 clients (out of 10)\n"
     ]
    },
    {
     "name": "stdout",
     "output_type": "stream",
     "text": [
      "agrregate_fit results list length is  5\n",
      "Saving round 35 aggregated_parameters...\n"
     ]
    },
    {
     "name": "stderr",
     "output_type": "stream",
     "text": [
      "DEBUG flwr 2023-08-29 08:52:23,741 | server.py:187 | evaluate_round 35 received 5 results and 0 failures\n",
      "DEBUG flwr 2023-08-29 08:52:23,743 | server.py:222 | fit_round 36: strategy sampled 5 clients (out of 10)\n"
     ]
    },
    {
     "name": "stdout",
     "output_type": "stream",
     "text": [
      "agrregate_evaluate results list length is  5\n",
      "server round is  35\n",
      "loss is  0.5055555555555555\n"
     ]
    },
    {
     "name": "stderr",
     "output_type": "stream",
     "text": [
      "DEBUG flwr 2023-08-29 08:52:37,938 | server.py:236 | fit_round 36 received 5 results and 0 failures\n",
      "DEBUG flwr 2023-08-29 08:52:38,049 | server.py:173 | evaluate_round 36: strategy sampled 5 clients (out of 10)\n"
     ]
    },
    {
     "name": "stdout",
     "output_type": "stream",
     "text": [
      "agrregate_fit results list length is  5\n",
      "Saving round 36 aggregated_parameters...\n"
     ]
    },
    {
     "name": "stderr",
     "output_type": "stream",
     "text": [
      "DEBUG flwr 2023-08-29 08:52:38,539 | server.py:187 | evaluate_round 36 received 5 results and 0 failures\n",
      "DEBUG flwr 2023-08-29 08:52:38,540 | server.py:222 | fit_round 37: strategy sampled 5 clients (out of 10)\n"
     ]
    },
    {
     "name": "stdout",
     "output_type": "stream",
     "text": [
      "agrregate_evaluate results list length is  5\n",
      "server round is  36\n",
      "loss is  0.5111111111111111\n"
     ]
    },
    {
     "name": "stderr",
     "output_type": "stream",
     "text": [
      "DEBUG flwr 2023-08-29 08:52:41,136 | server.py:236 | fit_round 37 received 5 results and 0 failures\n",
      "DEBUG flwr 2023-08-29 08:52:41,298 | server.py:173 | evaluate_round 37: strategy sampled 5 clients (out of 10)\n"
     ]
    },
    {
     "name": "stdout",
     "output_type": "stream",
     "text": [
      "agrregate_fit results list length is  5\n",
      "Saving round 37 aggregated_parameters...\n"
     ]
    },
    {
     "name": "stderr",
     "output_type": "stream",
     "text": [
      "DEBUG flwr 2023-08-29 08:52:41,833 | server.py:187 | evaluate_round 37 received 5 results and 0 failures\n",
      "DEBUG flwr 2023-08-29 08:52:41,835 | server.py:222 | fit_round 38: strategy sampled 5 clients (out of 10)\n"
     ]
    },
    {
     "name": "stdout",
     "output_type": "stream",
     "text": [
      "agrregate_evaluate results list length is  5\n",
      "server round is  37\n",
      "loss is  0.5222222222222223\n"
     ]
    },
    {
     "name": "stderr",
     "output_type": "stream",
     "text": [
      "DEBUG flwr 2023-08-29 08:52:56,345 | server.py:236 | fit_round 38 received 5 results and 0 failures\n",
      "DEBUG flwr 2023-08-29 08:52:56,462 | server.py:173 | evaluate_round 38: strategy sampled 5 clients (out of 10)\n"
     ]
    },
    {
     "name": "stdout",
     "output_type": "stream",
     "text": [
      "agrregate_fit results list length is  5\n",
      "Saving round 38 aggregated_parameters...\n"
     ]
    },
    {
     "name": "stderr",
     "output_type": "stream",
     "text": [
      "DEBUG flwr 2023-08-29 08:52:56,852 | server.py:187 | evaluate_round 38 received 5 results and 0 failures\n",
      "DEBUG flwr 2023-08-29 08:52:56,853 | server.py:222 | fit_round 39: strategy sampled 5 clients (out of 10)\n"
     ]
    },
    {
     "name": "stdout",
     "output_type": "stream",
     "text": [
      "agrregate_evaluate results list length is  5\n",
      "server round is  38\n",
      "loss is  0.4777777777777778\n"
     ]
    },
    {
     "name": "stderr",
     "output_type": "stream",
     "text": [
      "DEBUG flwr 2023-08-29 08:53:10,970 | server.py:236 | fit_round 39 received 5 results and 0 failures\n",
      "DEBUG flwr 2023-08-29 08:53:11,076 | server.py:173 | evaluate_round 39: strategy sampled 5 clients (out of 10)\n"
     ]
    },
    {
     "name": "stdout",
     "output_type": "stream",
     "text": [
      "agrregate_fit results list length is  5\n",
      "Saving round 39 aggregated_parameters...\n"
     ]
    },
    {
     "name": "stderr",
     "output_type": "stream",
     "text": [
      "DEBUG flwr 2023-08-29 08:53:11,543 | server.py:187 | evaluate_round 39 received 5 results and 0 failures\n",
      "DEBUG flwr 2023-08-29 08:53:11,545 | server.py:222 | fit_round 40: strategy sampled 5 clients (out of 10)\n"
     ]
    },
    {
     "name": "stdout",
     "output_type": "stream",
     "text": [
      "agrregate_evaluate results list length is  5\n",
      "server round is  39\n",
      "loss is  0.5111111111111111\n"
     ]
    },
    {
     "name": "stderr",
     "output_type": "stream",
     "text": [
      "DEBUG flwr 2023-08-29 08:53:14,161 | server.py:236 | fit_round 40 received 5 results and 0 failures\n",
      "DEBUG flwr 2023-08-29 08:53:14,307 | server.py:173 | evaluate_round 40: strategy sampled 5 clients (out of 10)\n"
     ]
    },
    {
     "name": "stdout",
     "output_type": "stream",
     "text": [
      "agrregate_fit results list length is  5\n",
      "Saving round 40 aggregated_parameters...\n"
     ]
    },
    {
     "name": "stderr",
     "output_type": "stream",
     "text": [
      "DEBUG flwr 2023-08-29 08:53:14,826 | server.py:187 | evaluate_round 40 received 5 results and 0 failures\n",
      "INFO flwr 2023-08-29 08:53:14,827 | server.py:153 | FL finished in 423.3381922999979\n",
      "INFO flwr 2023-08-29 08:53:14,831 | app.py:225 | app_fit: losses_distributed [(1, 8.033333333333333), (2, 2.7555555555555555), (3, 1.8444444444444446), (4, 1.3666666666666667), (5, 1.0), (6, 1.0), (7, 0.7333333333333333), (8, 0.7555555555555555), (9, 0.7944444444444444), (10, 0.65), (11, 0.5111111111111111), (12, 0.7333333333333333), (13, 0.7055555555555557), (14, 0.5833333333333334), (15, 0.6), (16, 0.5944444444444444), (17, 0.5777777777777776), (18, 0.5388888888888889), (19, 0.5388888888888889), (20, 0.5388888888888889), (21, 0.5944444444444444), (22, 0.5333333333333333), (23, 0.4444444444444444), (24, 0.45555555555555555), (25, 0.5833333333333334), (26, 0.5), (27, 0.5555555555555556), (28, 0.5444444444444444), (29, 0.48333333333333334), (30, 0.5166666666666667), (31, 0.7666666666666667), (32, 0.6333333333333333), (33, 0.5111111111111111), (34, 0.5), (35, 0.5055555555555555), (36, 0.5111111111111111), (37, 0.5222222222222223), (38, 0.4777777777777778), (39, 0.5111111111111111), (40, 0.4722222222222222)]\n",
      "INFO flwr 2023-08-29 08:53:14,832 | app.py:226 | app_fit: metrics_distributed_fit {}\n",
      "INFO flwr 2023-08-29 08:53:14,833 | app.py:227 | app_fit: metrics_distributed {'mse': [(1, 40.166666666666664), (2, 13.777777777777779), (3, 9.222222222222223), (4, 6.833333333333334), (5, 5.0), (6, 5.0), (7, 3.6666666666666665), (8, 3.7777777777777777), (9, 3.972222222222222), (10, 3.25), (11, 2.5555555555555554), (12, 3.6666666666666665), (13, 3.527777777777778), (14, 2.916666666666667), (15, 3.0), (16, 2.9722222222222223), (17, 2.8888888888888884), (18, 2.694444444444444), (19, 2.694444444444444), (20, 2.694444444444444), (21, 2.9722222222222223), (22, 2.6666666666666665), (23, 2.2222222222222223), (24, 2.2777777777777777), (25, 2.916666666666667), (26, 2.5), (27, 2.7777777777777777), (28, 2.722222222222222), (29, 2.4166666666666665), (30, 2.5833333333333335), (31, 3.8333333333333335), (32, 3.1666666666666665), (33, 2.5555555555555554), (34, 2.5), (35, 2.5277777777777777), (36, 2.5555555555555554), (37, 2.611111111111111), (38, 2.388888888888889), (39, 2.5555555555555554), (40, 2.361111111111111)]}\n",
      "INFO flwr 2023-08-29 08:53:14,834 | app.py:228 | app_fit: losses_centralized []\n",
      "INFO flwr 2023-08-29 08:53:14,835 | app.py:229 | app_fit: metrics_centralized {}\n",
      "C:\\Users\\Shuyao\\AppData\\Local\\Temp\\ipykernel_11996\\3421847257.py:35: UserWarning: To copy construct from a tensor, it is recommended to use sourceTensor.clone().detach() or sourceTensor.clone().detach().requires_grad_(True), rather than torch.tensor(sourceTensor).\n",
      "  y_train = torch.reshape(torch.tensor(y_train), (-1, 1))\n"
     ]
    },
    {
     "name": "stdout",
     "output_type": "stream",
     "text": [
      "agrregate_evaluate results list length is  5\n",
      "server round is  40\n",
      "loss is  0.4722222222222222\n",
      "History (loss, distributed):\n",
      "\tround 1: 8.033333333333333\n",
      "\tround 2: 2.7555555555555555\n",
      "\tround 3: 1.8444444444444446\n",
      "\tround 4: 1.3666666666666667\n",
      "\tround 5: 1.0\n",
      "\tround 6: 1.0\n",
      "\tround 7: 0.7333333333333333\n",
      "\tround 8: 0.7555555555555555\n",
      "\tround 9: 0.7944444444444444\n",
      "\tround 10: 0.65\n",
      "\tround 11: 0.5111111111111111\n",
      "\tround 12: 0.7333333333333333\n",
      "\tround 13: 0.7055555555555557\n",
      "\tround 14: 0.5833333333333334\n",
      "\tround 15: 0.6\n",
      "\tround 16: 0.5944444444444444\n",
      "\tround 17: 0.5777777777777776\n",
      "\tround 18: 0.5388888888888889\n",
      "\tround 19: 0.5388888888888889\n",
      "\tround 20: 0.5388888888888889\n",
      "\tround 21: 0.5944444444444444\n",
      "\tround 22: 0.5333333333333333\n",
      "\tround 23: 0.4444444444444444\n",
      "\tround 24: 0.45555555555555555\n",
      "\tround 25: 0.5833333333333334\n",
      "\tround 26: 0.5\n",
      "\tround 27: 0.5555555555555556\n",
      "\tround 28: 0.5444444444444444\n",
      "\tround 29: 0.48333333333333334\n",
      "\tround 30: 0.5166666666666667\n",
      "\tround 31: 0.7666666666666667\n",
      "\tround 32: 0.6333333333333333\n",
      "\tround 33: 0.5111111111111111\n",
      "\tround 34: 0.5\n",
      "\tround 35: 0.5055555555555555\n",
      "\tround 36: 0.5111111111111111\n",
      "\tround 37: 0.5222222222222223\n",
      "\tround 38: 0.4777777777777778\n",
      "\tround 39: 0.5111111111111111\n",
      "\tround 40: 0.4722222222222222\n",
      "History (metrics, distributed, evaluate):\n",
      "{'mse': [(1, 40.166666666666664), (2, 13.777777777777779), (3, 9.222222222222223), (4, 6.833333333333334), (5, 5.0), (6, 5.0), (7, 3.6666666666666665), (8, 3.7777777777777777), (9, 3.972222222222222), (10, 3.25), (11, 2.5555555555555554), (12, 3.6666666666666665), (13, 3.527777777777778), (14, 2.916666666666667), (15, 3.0), (16, 2.9722222222222223), (17, 2.8888888888888884), (18, 2.694444444444444), (19, 2.694444444444444), (20, 2.694444444444444), (21, 2.9722222222222223), (22, 2.6666666666666665), (23, 2.2222222222222223), (24, 2.2777777777777777), (25, 2.916666666666667), (26, 2.5), (27, 2.7777777777777777), (28, 2.722222222222222), (29, 2.4166666666666665), (30, 2.5833333333333335), (31, 3.8333333333333335), (32, 3.1666666666666665), (33, 2.5555555555555554), (34, 2.5), (35, 2.5277777777777777), (36, 2.5555555555555554), (37, 2.611111111111111), (38, 2.388888888888889), (39, 2.5555555555555554), (40, 2.361111111111111)]}\n",
      "[(1, 8.033333333333333), (2, 2.7555555555555555), (3, 1.8444444444444446), (4, 1.3666666666666667), (5, 1.0), (6, 1.0), (7, 0.7333333333333333), (8, 0.7555555555555555), (9, 0.7944444444444444), (10, 0.65), (11, 0.5111111111111111), (12, 0.7333333333333333), (13, 0.7055555555555557), (14, 0.5833333333333334), (15, 0.6), (16, 0.5944444444444444), (17, 0.5777777777777776), (18, 0.5388888888888889), (19, 0.5388888888888889), (20, 0.5388888888888889), (21, 0.5944444444444444), (22, 0.5333333333333333), (23, 0.4444444444444444), (24, 0.45555555555555555), (25, 0.5833333333333334), (26, 0.5), (27, 0.5555555555555556), (28, 0.5444444444444444), (29, 0.48333333333333334), (30, 0.5166666666666667), (31, 0.7666666666666667), (32, 0.6333333333333333), (33, 0.5111111111111111), (34, 0.5), (35, 0.5055555555555555), (36, 0.5111111111111111), (37, 0.5222222222222223), (38, 0.4777777777777778), (39, 0.5111111111111111), (40, 0.4722222222222222)]\n",
      "Fold 5:\n"
     ]
    },
    {
     "name": "stderr",
     "output_type": "stream",
     "text": [
      "C:\\Users\\Shuyao\\AppData\\Local\\Temp\\ipykernel_11996\\3421847257.py:36: UserWarning: To copy construct from a tensor, it is recommended to use sourceTensor.clone().detach() or sourceTensor.clone().detach().requires_grad_(True), rather than torch.tensor(sourceTensor).\n",
      "  y_test = torch.reshape(torch.tensor(y_test), (-1, 1))\n",
      "INFO flwr 2023-08-29 08:53:15,108 | app.py:145 | Starting Flower simulation, config: ServerConfig(num_rounds=40, round_timeout=None)\n"
     ]
    },
    {
     "name": "stdout",
     "output_type": "stream",
     "text": [
      "Client 0 trainset shape torch.Size([441, 3, 23])\n",
      "Client 1 trainset shape torch.Size([28, 3, 23])\n",
      "Client 2 trainset shape torch.Size([28, 3, 23])\n",
      "Client 3 trainset shape torch.Size([28, 3, 23])\n",
      "Client 4 trainset shape torch.Size([28, 3, 23])\n",
      "Client 5 trainset shape torch.Size([28, 3, 23])\n",
      "Client 6 trainset shape torch.Size([28, 3, 23])\n",
      "Client 7 trainset shape torch.Size([28, 3, 23])\n",
      "Client 8 trainset shape torch.Size([28, 3, 23])\n",
      "Client 9 trainset shape torch.Size([28, 3, 23])\n"
     ]
    },
    {
     "name": "stderr",
     "output_type": "stream",
     "text": [
      "2023-08-29 08:53:24,168\tINFO worker.py:1627 -- Started a local Ray instance. View the dashboard at \u001B[1m\u001B[32m127.0.0.1:8265 \u001B[39m\u001B[22m\n",
      "INFO flwr 2023-08-29 08:53:28,987 | app.py:179 | Flower VCE: Ray initialized with resources: {'CPU': 8.0, 'object_store_memory': 1513751347.0, 'node:127.0.0.1': 1.0, 'memory': 3027502695.0, 'GPU': 1.0}\n",
      "INFO flwr 2023-08-29 08:53:28,989 | server.py:89 | Initializing global parameters\n",
      "INFO flwr 2023-08-29 08:53:28,990 | server.py:276 | Requesting initial parameters from one random client\n",
      "INFO flwr 2023-08-29 08:53:31,967 | server.py:280 | Received initial parameters from one random client\n",
      "INFO flwr 2023-08-29 08:53:31,968 | server.py:91 | Evaluating initial parameters\n",
      "INFO flwr 2023-08-29 08:53:31,969 | server.py:104 | FL starting\n",
      "DEBUG flwr 2023-08-29 08:53:31,970 | server.py:222 | fit_round 1: strategy sampled 5 clients (out of 10)\n",
      "DEBUG flwr 2023-08-29 08:53:51,101 | server.py:236 | fit_round 1 received 5 results and 0 failures\n",
      "WARNING flwr 2023-08-29 08:53:51,169 | fedavg.py:242 | No fit_metrics_aggregation_fn provided\n",
      "DEBUG flwr 2023-08-29 08:53:51,198 | server.py:173 | evaluate_round 1: strategy sampled 5 clients (out of 10)\n"
     ]
    },
    {
     "name": "stdout",
     "output_type": "stream",
     "text": [
      "agrregate_fit results list length is  5\n",
      "Saving round 1 aggregated_parameters...\n"
     ]
    },
    {
     "name": "stderr",
     "output_type": "stream",
     "text": [
      "DEBUG flwr 2023-08-29 08:53:51,598 | server.py:187 | evaluate_round 1 received 5 results and 0 failures\n",
      "DEBUG flwr 2023-08-29 08:53:51,599 | server.py:222 | fit_round 2: strategy sampled 5 clients (out of 10)\n"
     ]
    },
    {
     "name": "stdout",
     "output_type": "stream",
     "text": [
      "agrregate_evaluate results list length is  5\n",
      "server round is  1\n",
      "loss is  3.7444444444444445\n"
     ]
    },
    {
     "name": "stderr",
     "output_type": "stream",
     "text": [
      "DEBUG flwr 2023-08-29 08:54:05,918 | server.py:236 | fit_round 2 received 5 results and 0 failures\n",
      "DEBUG flwr 2023-08-29 08:54:06,016 | server.py:173 | evaluate_round 2: strategy sampled 5 clients (out of 10)\n"
     ]
    },
    {
     "name": "stdout",
     "output_type": "stream",
     "text": [
      "agrregate_fit results list length is  5\n",
      "Saving round 2 aggregated_parameters...\n"
     ]
    },
    {
     "name": "stderr",
     "output_type": "stream",
     "text": [
      "DEBUG flwr 2023-08-29 08:54:06,384 | server.py:187 | evaluate_round 2 received 5 results and 0 failures\n",
      "DEBUG flwr 2023-08-29 08:54:06,387 | server.py:222 | fit_round 3: strategy sampled 5 clients (out of 10)\n"
     ]
    },
    {
     "name": "stdout",
     "output_type": "stream",
     "text": [
      "agrregate_evaluate results list length is  5\n",
      "server round is  2\n",
      "loss is  1.25\n"
     ]
    },
    {
     "name": "stderr",
     "output_type": "stream",
     "text": [
      "DEBUG flwr 2023-08-29 08:54:20,528 | server.py:236 | fit_round 3 received 5 results and 0 failures\n",
      "DEBUG flwr 2023-08-29 08:54:20,647 | server.py:173 | evaluate_round 3: strategy sampled 5 clients (out of 10)\n"
     ]
    },
    {
     "name": "stdout",
     "output_type": "stream",
     "text": [
      "agrregate_fit results list length is  5\n",
      "Saving round 3 aggregated_parameters...\n"
     ]
    },
    {
     "name": "stderr",
     "output_type": "stream",
     "text": [
      "DEBUG flwr 2023-08-29 08:54:21,110 | server.py:187 | evaluate_round 3 received 5 results and 0 failures\n",
      "DEBUG flwr 2023-08-29 08:54:21,111 | server.py:222 | fit_round 4: strategy sampled 5 clients (out of 10)\n"
     ]
    },
    {
     "name": "stdout",
     "output_type": "stream",
     "text": [
      "agrregate_evaluate results list length is  5\n",
      "server round is  3\n",
      "loss is  0.8055555555555556\n"
     ]
    },
    {
     "name": "stderr",
     "output_type": "stream",
     "text": [
      "DEBUG flwr 2023-08-29 08:54:35,597 | server.py:236 | fit_round 4 received 5 results and 0 failures\n",
      "DEBUG flwr 2023-08-29 08:54:35,698 | server.py:173 | evaluate_round 4: strategy sampled 5 clients (out of 10)\n"
     ]
    },
    {
     "name": "stdout",
     "output_type": "stream",
     "text": [
      "agrregate_fit results list length is  5\n",
      "Saving round 4 aggregated_parameters...\n"
     ]
    },
    {
     "name": "stderr",
     "output_type": "stream",
     "text": [
      "DEBUG flwr 2023-08-29 08:54:36,180 | server.py:187 | evaluate_round 4 received 5 results and 0 failures\n",
      "DEBUG flwr 2023-08-29 08:54:36,182 | server.py:222 | fit_round 5: strategy sampled 5 clients (out of 10)\n"
     ]
    },
    {
     "name": "stdout",
     "output_type": "stream",
     "text": [
      "agrregate_evaluate results list length is  5\n",
      "server round is  4\n",
      "loss is  1.0055555555555555\n"
     ]
    },
    {
     "name": "stderr",
     "output_type": "stream",
     "text": [
      "DEBUG flwr 2023-08-29 08:54:50,425 | server.py:236 | fit_round 5 received 5 results and 0 failures\n",
      "DEBUG flwr 2023-08-29 08:54:50,525 | server.py:173 | evaluate_round 5: strategy sampled 5 clients (out of 10)\n"
     ]
    },
    {
     "name": "stdout",
     "output_type": "stream",
     "text": [
      "agrregate_fit results list length is  5\n",
      "Saving round 5 aggregated_parameters...\n"
     ]
    },
    {
     "name": "stderr",
     "output_type": "stream",
     "text": [
      "DEBUG flwr 2023-08-29 08:54:51,009 | server.py:187 | evaluate_round 5 received 5 results and 0 failures\n",
      "DEBUG flwr 2023-08-29 08:54:51,011 | server.py:222 | fit_round 6: strategy sampled 5 clients (out of 10)\n"
     ]
    },
    {
     "name": "stdout",
     "output_type": "stream",
     "text": [
      "agrregate_evaluate results list length is  5\n",
      "server round is  5\n",
      "loss is  0.8333333333333334\n"
     ]
    },
    {
     "name": "stderr",
     "output_type": "stream",
     "text": [
      "DEBUG flwr 2023-08-29 08:55:05,418 | server.py:236 | fit_round 6 received 5 results and 0 failures\n",
      "DEBUG flwr 2023-08-29 08:55:05,534 | server.py:173 | evaluate_round 6: strategy sampled 5 clients (out of 10)\n"
     ]
    },
    {
     "name": "stdout",
     "output_type": "stream",
     "text": [
      "agrregate_fit results list length is  5\n",
      "Saving round 6 aggregated_parameters...\n"
     ]
    },
    {
     "name": "stderr",
     "output_type": "stream",
     "text": [
      "DEBUG flwr 2023-08-29 08:55:05,996 | server.py:187 | evaluate_round 6 received 5 results and 0 failures\n",
      "DEBUG flwr 2023-08-29 08:55:05,998 | server.py:222 | fit_round 7: strategy sampled 5 clients (out of 10)\n"
     ]
    },
    {
     "name": "stdout",
     "output_type": "stream",
     "text": [
      "agrregate_evaluate results list length is  5\n",
      "server round is  6\n",
      "loss is  0.7611111111111111\n"
     ]
    },
    {
     "name": "stderr",
     "output_type": "stream",
     "text": [
      "DEBUG flwr 2023-08-29 08:55:08,648 | server.py:236 | fit_round 7 received 5 results and 0 failures\n",
      "DEBUG flwr 2023-08-29 08:55:08,774 | server.py:173 | evaluate_round 7: strategy sampled 5 clients (out of 10)\n"
     ]
    },
    {
     "name": "stdout",
     "output_type": "stream",
     "text": [
      "agrregate_fit results list length is  5\n",
      "Saving round 7 aggregated_parameters...\n"
     ]
    },
    {
     "name": "stderr",
     "output_type": "stream",
     "text": [
      "DEBUG flwr 2023-08-29 08:55:09,269 | server.py:187 | evaluate_round 7 received 5 results and 0 failures\n",
      "DEBUG flwr 2023-08-29 08:55:09,270 | server.py:222 | fit_round 8: strategy sampled 5 clients (out of 10)\n"
     ]
    },
    {
     "name": "stdout",
     "output_type": "stream",
     "text": [
      "agrregate_evaluate results list length is  5\n",
      "server round is  7\n",
      "loss is  0.7111111111111111\n"
     ]
    },
    {
     "name": "stderr",
     "output_type": "stream",
     "text": [
      "DEBUG flwr 2023-08-29 08:55:23,317 | server.py:236 | fit_round 8 received 5 results and 0 failures\n",
      "DEBUG flwr 2023-08-29 08:55:23,433 | server.py:173 | evaluate_round 8: strategy sampled 5 clients (out of 10)\n"
     ]
    },
    {
     "name": "stdout",
     "output_type": "stream",
     "text": [
      "agrregate_fit results list length is  5\n",
      "Saving round 8 aggregated_parameters...\n"
     ]
    },
    {
     "name": "stderr",
     "output_type": "stream",
     "text": [
      "DEBUG flwr 2023-08-29 08:55:23,886 | server.py:187 | evaluate_round 8 received 5 results and 0 failures\n",
      "DEBUG flwr 2023-08-29 08:55:23,888 | server.py:222 | fit_round 9: strategy sampled 5 clients (out of 10)\n"
     ]
    },
    {
     "name": "stdout",
     "output_type": "stream",
     "text": [
      "agrregate_evaluate results list length is  5\n",
      "server round is  8\n",
      "loss is  0.7055555555555557\n"
     ]
    },
    {
     "name": "stderr",
     "output_type": "stream",
     "text": [
      "DEBUG flwr 2023-08-29 08:55:38,355 | server.py:236 | fit_round 9 received 5 results and 0 failures\n",
      "DEBUG flwr 2023-08-29 08:55:38,462 | server.py:173 | evaluate_round 9: strategy sampled 5 clients (out of 10)\n"
     ]
    },
    {
     "name": "stdout",
     "output_type": "stream",
     "text": [
      "agrregate_fit results list length is  5\n",
      "Saving round 9 aggregated_parameters...\n"
     ]
    },
    {
     "name": "stderr",
     "output_type": "stream",
     "text": [
      "DEBUG flwr 2023-08-29 08:55:38,943 | server.py:187 | evaluate_round 9 received 5 results and 0 failures\n",
      "DEBUG flwr 2023-08-29 08:55:38,945 | server.py:222 | fit_round 10: strategy sampled 5 clients (out of 10)\n"
     ]
    },
    {
     "name": "stdout",
     "output_type": "stream",
     "text": [
      "agrregate_evaluate results list length is  5\n",
      "server round is  9\n",
      "loss is  0.65\n"
     ]
    },
    {
     "name": "stderr",
     "output_type": "stream",
     "text": [
      "DEBUG flwr 2023-08-29 08:55:41,588 | server.py:236 | fit_round 10 received 5 results and 0 failures\n",
      "DEBUG flwr 2023-08-29 08:55:41,719 | server.py:173 | evaluate_round 10: strategy sampled 5 clients (out of 10)\n"
     ]
    },
    {
     "name": "stdout",
     "output_type": "stream",
     "text": [
      "agrregate_fit results list length is  5\n",
      "Saving round 10 aggregated_parameters...\n"
     ]
    },
    {
     "name": "stderr",
     "output_type": "stream",
     "text": [
      "DEBUG flwr 2023-08-29 08:55:42,229 | server.py:187 | evaluate_round 10 received 5 results and 0 failures\n",
      "DEBUG flwr 2023-08-29 08:55:42,231 | server.py:222 | fit_round 11: strategy sampled 5 clients (out of 10)\n"
     ]
    },
    {
     "name": "stdout",
     "output_type": "stream",
     "text": [
      "agrregate_evaluate results list length is  5\n",
      "server round is  10\n",
      "loss is  0.6333333333333333\n"
     ]
    },
    {
     "name": "stderr",
     "output_type": "stream",
     "text": [
      "DEBUG flwr 2023-08-29 08:55:56,512 | server.py:236 | fit_round 11 received 5 results and 0 failures\n",
      "DEBUG flwr 2023-08-29 08:55:56,627 | server.py:173 | evaluate_round 11: strategy sampled 5 clients (out of 10)\n"
     ]
    },
    {
     "name": "stdout",
     "output_type": "stream",
     "text": [
      "agrregate_fit results list length is  5\n",
      "Saving round 11 aggregated_parameters...\n"
     ]
    },
    {
     "name": "stderr",
     "output_type": "stream",
     "text": [
      "DEBUG flwr 2023-08-29 08:55:57,119 | server.py:187 | evaluate_round 11 received 5 results and 0 failures\n",
      "DEBUG flwr 2023-08-29 08:55:57,121 | server.py:222 | fit_round 12: strategy sampled 5 clients (out of 10)\n"
     ]
    },
    {
     "name": "stdout",
     "output_type": "stream",
     "text": [
      "agrregate_evaluate results list length is  5\n",
      "server round is  11\n",
      "loss is  0.6388888888888887\n"
     ]
    },
    {
     "name": "stderr",
     "output_type": "stream",
     "text": [
      "DEBUG flwr 2023-08-29 08:55:59,788 | server.py:236 | fit_round 12 received 5 results and 0 failures\n",
      "DEBUG flwr 2023-08-29 08:55:59,927 | server.py:173 | evaluate_round 12: strategy sampled 5 clients (out of 10)\n"
     ]
    },
    {
     "name": "stdout",
     "output_type": "stream",
     "text": [
      "agrregate_fit results list length is  5\n",
      "Saving round 12 aggregated_parameters...\n"
     ]
    },
    {
     "name": "stderr",
     "output_type": "stream",
     "text": [
      "DEBUG flwr 2023-08-29 08:56:00,565 | server.py:187 | evaluate_round 12 received 5 results and 0 failures\n",
      "DEBUG flwr 2023-08-29 08:56:00,567 | server.py:222 | fit_round 13: strategy sampled 5 clients (out of 10)\n"
     ]
    },
    {
     "name": "stdout",
     "output_type": "stream",
     "text": [
      "agrregate_evaluate results list length is  5\n",
      "server round is  12\n",
      "loss is  0.7277777777777777\n"
     ]
    },
    {
     "name": "stderr",
     "output_type": "stream",
     "text": [
      "DEBUG flwr 2023-08-29 08:56:15,624 | server.py:236 | fit_round 13 received 5 results and 0 failures\n",
      "DEBUG flwr 2023-08-29 08:56:15,727 | server.py:173 | evaluate_round 13: strategy sampled 5 clients (out of 10)\n"
     ]
    },
    {
     "name": "stdout",
     "output_type": "stream",
     "text": [
      "agrregate_fit results list length is  5\n",
      "Saving round 13 aggregated_parameters...\n"
     ]
    },
    {
     "name": "stderr",
     "output_type": "stream",
     "text": [
      "DEBUG flwr 2023-08-29 08:56:16,177 | server.py:187 | evaluate_round 13 received 5 results and 0 failures\n",
      "DEBUG flwr 2023-08-29 08:56:16,179 | server.py:222 | fit_round 14: strategy sampled 5 clients (out of 10)\n"
     ]
    },
    {
     "name": "stdout",
     "output_type": "stream",
     "text": [
      "agrregate_evaluate results list length is  5\n",
      "server round is  13\n",
      "loss is  0.65\n"
     ]
    },
    {
     "name": "stderr",
     "output_type": "stream",
     "text": [
      "DEBUG flwr 2023-08-29 08:56:30,452 | server.py:236 | fit_round 14 received 5 results and 0 failures\n",
      "DEBUG flwr 2023-08-29 08:56:30,558 | server.py:173 | evaluate_round 14: strategy sampled 5 clients (out of 10)\n"
     ]
    },
    {
     "name": "stdout",
     "output_type": "stream",
     "text": [
      "agrregate_fit results list length is  5\n",
      "Saving round 14 aggregated_parameters...\n"
     ]
    },
    {
     "name": "stderr",
     "output_type": "stream",
     "text": [
      "DEBUG flwr 2023-08-29 08:56:31,027 | server.py:187 | evaluate_round 14 received 5 results and 0 failures\n",
      "DEBUG flwr 2023-08-29 08:56:31,029 | server.py:222 | fit_round 15: strategy sampled 5 clients (out of 10)\n"
     ]
    },
    {
     "name": "stdout",
     "output_type": "stream",
     "text": [
      "agrregate_evaluate results list length is  5\n",
      "server round is  14\n",
      "loss is  0.6999999999999998\n"
     ]
    },
    {
     "name": "stderr",
     "output_type": "stream",
     "text": [
      "DEBUG flwr 2023-08-29 08:56:33,783 | server.py:236 | fit_round 15 received 5 results and 0 failures\n",
      "DEBUG flwr 2023-08-29 08:56:33,925 | server.py:173 | evaluate_round 15: strategy sampled 5 clients (out of 10)\n"
     ]
    },
    {
     "name": "stdout",
     "output_type": "stream",
     "text": [
      "agrregate_fit results list length is  5\n",
      "Saving round 15 aggregated_parameters...\n"
     ]
    },
    {
     "name": "stderr",
     "output_type": "stream",
     "text": [
      "DEBUG flwr 2023-08-29 08:56:34,455 | server.py:187 | evaluate_round 15 received 5 results and 0 failures\n",
      "DEBUG flwr 2023-08-29 08:56:34,457 | server.py:222 | fit_round 16: strategy sampled 5 clients (out of 10)\n"
     ]
    },
    {
     "name": "stdout",
     "output_type": "stream",
     "text": [
      "agrregate_evaluate results list length is  5\n",
      "server round is  15\n",
      "loss is  0.6666666666666666\n"
     ]
    },
    {
     "name": "stderr",
     "output_type": "stream",
     "text": [
      "DEBUG flwr 2023-08-29 08:56:48,659 | server.py:236 | fit_round 16 received 5 results and 0 failures\n",
      "DEBUG flwr 2023-08-29 08:56:48,771 | server.py:173 | evaluate_round 16: strategy sampled 5 clients (out of 10)\n"
     ]
    },
    {
     "name": "stdout",
     "output_type": "stream",
     "text": [
      "agrregate_fit results list length is  5\n",
      "Saving round 16 aggregated_parameters...\n"
     ]
    },
    {
     "name": "stderr",
     "output_type": "stream",
     "text": [
      "DEBUG flwr 2023-08-29 08:56:49,243 | server.py:187 | evaluate_round 16 received 5 results and 0 failures\n",
      "DEBUG flwr 2023-08-29 08:56:49,244 | server.py:222 | fit_round 17: strategy sampled 5 clients (out of 10)\n"
     ]
    },
    {
     "name": "stdout",
     "output_type": "stream",
     "text": [
      "agrregate_evaluate results list length is  5\n",
      "server round is  16\n",
      "loss is  0.7833333333333333\n"
     ]
    },
    {
     "name": "stderr",
     "output_type": "stream",
     "text": [
      "DEBUG flwr 2023-08-29 08:56:51,862 | server.py:236 | fit_round 17 received 5 results and 0 failures\n",
      "DEBUG flwr 2023-08-29 08:56:51,988 | server.py:173 | evaluate_round 17: strategy sampled 5 clients (out of 10)\n"
     ]
    },
    {
     "name": "stdout",
     "output_type": "stream",
     "text": [
      "agrregate_fit results list length is  5\n",
      "Saving round 17 aggregated_parameters...\n"
     ]
    },
    {
     "name": "stderr",
     "output_type": "stream",
     "text": [
      "DEBUG flwr 2023-08-29 08:56:52,488 | server.py:187 | evaluate_round 17 received 5 results and 0 failures\n",
      "DEBUG flwr 2023-08-29 08:56:52,489 | server.py:222 | fit_round 18: strategy sampled 5 clients (out of 10)\n"
     ]
    },
    {
     "name": "stdout",
     "output_type": "stream",
     "text": [
      "agrregate_evaluate results list length is  5\n",
      "server round is  17\n",
      "loss is  0.6555555555555556\n"
     ]
    },
    {
     "name": "stderr",
     "output_type": "stream",
     "text": [
      "DEBUG flwr 2023-08-29 08:57:07,096 | server.py:236 | fit_round 18 received 5 results and 0 failures\n",
      "DEBUG flwr 2023-08-29 08:57:07,202 | server.py:173 | evaluate_round 18: strategy sampled 5 clients (out of 10)\n"
     ]
    },
    {
     "name": "stdout",
     "output_type": "stream",
     "text": [
      "agrregate_fit results list length is  5\n",
      "Saving round 18 aggregated_parameters...\n"
     ]
    },
    {
     "name": "stderr",
     "output_type": "stream",
     "text": [
      "DEBUG flwr 2023-08-29 08:57:07,661 | server.py:187 | evaluate_round 18 received 5 results and 0 failures\n",
      "DEBUG flwr 2023-08-29 08:57:07,662 | server.py:222 | fit_round 19: strategy sampled 5 clients (out of 10)\n"
     ]
    },
    {
     "name": "stdout",
     "output_type": "stream",
     "text": [
      "agrregate_evaluate results list length is  5\n",
      "server round is  18\n",
      "loss is  0.6944444444444444\n"
     ]
    },
    {
     "name": "stderr",
     "output_type": "stream",
     "text": [
      "DEBUG flwr 2023-08-29 08:57:22,188 | server.py:236 | fit_round 19 received 5 results and 0 failures\n",
      "DEBUG flwr 2023-08-29 08:57:22,284 | server.py:173 | evaluate_round 19: strategy sampled 5 clients (out of 10)\n"
     ]
    },
    {
     "name": "stdout",
     "output_type": "stream",
     "text": [
      "agrregate_fit results list length is  5\n",
      "Saving round 19 aggregated_parameters...\n"
     ]
    },
    {
     "name": "stderr",
     "output_type": "stream",
     "text": [
      "DEBUG flwr 2023-08-29 08:57:22,770 | server.py:187 | evaluate_round 19 received 5 results and 0 failures\n",
      "DEBUG flwr 2023-08-29 08:57:22,771 | server.py:222 | fit_round 20: strategy sampled 5 clients (out of 10)\n"
     ]
    },
    {
     "name": "stdout",
     "output_type": "stream",
     "text": [
      "agrregate_evaluate results list length is  5\n",
      "server round is  19\n",
      "loss is  0.65\n"
     ]
    },
    {
     "name": "stderr",
     "output_type": "stream",
     "text": [
      "DEBUG flwr 2023-08-29 08:57:25,365 | server.py:236 | fit_round 20 received 5 results and 0 failures\n",
      "DEBUG flwr 2023-08-29 08:57:25,501 | server.py:173 | evaluate_round 20: strategy sampled 5 clients (out of 10)\n"
     ]
    },
    {
     "name": "stdout",
     "output_type": "stream",
     "text": [
      "agrregate_fit results list length is  5\n",
      "Saving round 20 aggregated_parameters...\n"
     ]
    },
    {
     "name": "stderr",
     "output_type": "stream",
     "text": [
      "DEBUG flwr 2023-08-29 08:57:26,022 | server.py:187 | evaluate_round 20 received 5 results and 0 failures\n",
      "DEBUG flwr 2023-08-29 08:57:26,024 | server.py:222 | fit_round 21: strategy sampled 5 clients (out of 10)\n"
     ]
    },
    {
     "name": "stdout",
     "output_type": "stream",
     "text": [
      "agrregate_evaluate results list length is  5\n",
      "server round is  20\n",
      "loss is  0.6388888888888887\n"
     ]
    },
    {
     "name": "stderr",
     "output_type": "stream",
     "text": [
      "DEBUG flwr 2023-08-29 08:57:28,663 | server.py:236 | fit_round 21 received 5 results and 0 failures\n",
      "DEBUG flwr 2023-08-29 08:57:28,799 | server.py:173 | evaluate_round 21: strategy sampled 5 clients (out of 10)\n"
     ]
    },
    {
     "name": "stdout",
     "output_type": "stream",
     "text": [
      "agrregate_fit results list length is  5\n",
      "Saving round 21 aggregated_parameters...\n"
     ]
    },
    {
     "name": "stderr",
     "output_type": "stream",
     "text": [
      "DEBUG flwr 2023-08-29 08:57:29,328 | server.py:187 | evaluate_round 21 received 5 results and 0 failures\n",
      "DEBUG flwr 2023-08-29 08:57:29,329 | server.py:222 | fit_round 22: strategy sampled 5 clients (out of 10)\n"
     ]
    },
    {
     "name": "stdout",
     "output_type": "stream",
     "text": [
      "agrregate_evaluate results list length is  5\n",
      "server round is  21\n",
      "loss is  0.6166666666666667\n"
     ]
    },
    {
     "name": "stderr",
     "output_type": "stream",
     "text": [
      "DEBUG flwr 2023-08-29 08:57:31,970 | server.py:236 | fit_round 22 received 5 results and 0 failures\n",
      "DEBUG flwr 2023-08-29 08:57:32,105 | server.py:173 | evaluate_round 22: strategy sampled 5 clients (out of 10)\n"
     ]
    },
    {
     "name": "stdout",
     "output_type": "stream",
     "text": [
      "agrregate_fit results list length is  5\n",
      "Saving round 22 aggregated_parameters...\n"
     ]
    },
    {
     "name": "stderr",
     "output_type": "stream",
     "text": [
      "DEBUG flwr 2023-08-29 08:57:32,601 | server.py:187 | evaluate_round 22 received 5 results and 0 failures\n",
      "DEBUG flwr 2023-08-29 08:57:32,603 | server.py:222 | fit_round 23: strategy sampled 5 clients (out of 10)\n"
     ]
    },
    {
     "name": "stdout",
     "output_type": "stream",
     "text": [
      "agrregate_evaluate results list length is  5\n",
      "server round is  22\n",
      "loss is  0.5722222222222222\n"
     ]
    },
    {
     "name": "stderr",
     "output_type": "stream",
     "text": [
      "DEBUG flwr 2023-08-29 08:57:35,304 | server.py:236 | fit_round 23 received 5 results and 0 failures\n",
      "DEBUG flwr 2023-08-29 08:57:35,441 | server.py:173 | evaluate_round 23: strategy sampled 5 clients (out of 10)\n"
     ]
    },
    {
     "name": "stdout",
     "output_type": "stream",
     "text": [
      "agrregate_fit results list length is  5\n",
      "Saving round 23 aggregated_parameters...\n"
     ]
    },
    {
     "name": "stderr",
     "output_type": "stream",
     "text": [
      "DEBUG flwr 2023-08-29 08:57:35,967 | server.py:187 | evaluate_round 23 received 5 results and 0 failures\n",
      "DEBUG flwr 2023-08-29 08:57:35,969 | server.py:222 | fit_round 24: strategy sampled 5 clients (out of 10)\n"
     ]
    },
    {
     "name": "stdout",
     "output_type": "stream",
     "text": [
      "agrregate_evaluate results list length is  5\n",
      "server round is  23\n",
      "loss is  0.6388888888888887\n"
     ]
    },
    {
     "name": "stderr",
     "output_type": "stream",
     "text": [
      "DEBUG flwr 2023-08-29 08:57:38,637 | server.py:236 | fit_round 24 received 5 results and 0 failures\n",
      "DEBUG flwr 2023-08-29 08:57:38,768 | server.py:173 | evaluate_round 24: strategy sampled 5 clients (out of 10)\n"
     ]
    },
    {
     "name": "stdout",
     "output_type": "stream",
     "text": [
      "agrregate_fit results list length is  5\n",
      "Saving round 24 aggregated_parameters...\n"
     ]
    },
    {
     "name": "stderr",
     "output_type": "stream",
     "text": [
      "DEBUG flwr 2023-08-29 08:57:39,271 | server.py:187 | evaluate_round 24 received 5 results and 0 failures\n",
      "DEBUG flwr 2023-08-29 08:57:39,273 | server.py:222 | fit_round 25: strategy sampled 5 clients (out of 10)\n"
     ]
    },
    {
     "name": "stdout",
     "output_type": "stream",
     "text": [
      "agrregate_evaluate results list length is  5\n",
      "server round is  24\n",
      "loss is  0.6333333333333333\n"
     ]
    },
    {
     "name": "stderr",
     "output_type": "stream",
     "text": [
      "DEBUG flwr 2023-08-29 08:57:53,527 | server.py:236 | fit_round 25 received 5 results and 0 failures\n",
      "DEBUG flwr 2023-08-29 08:57:53,643 | server.py:173 | evaluate_round 25: strategy sampled 5 clients (out of 10)\n"
     ]
    },
    {
     "name": "stdout",
     "output_type": "stream",
     "text": [
      "agrregate_fit results list length is  5\n",
      "Saving round 25 aggregated_parameters...\n"
     ]
    },
    {
     "name": "stderr",
     "output_type": "stream",
     "text": [
      "DEBUG flwr 2023-08-29 08:57:54,079 | server.py:187 | evaluate_round 25 received 5 results and 0 failures\n",
      "DEBUG flwr 2023-08-29 08:57:54,081 | server.py:222 | fit_round 26: strategy sampled 5 clients (out of 10)\n"
     ]
    },
    {
     "name": "stdout",
     "output_type": "stream",
     "text": [
      "agrregate_evaluate results list length is  5\n",
      "server round is  25\n",
      "loss is  0.6055555555555554\n"
     ]
    },
    {
     "name": "stderr",
     "output_type": "stream",
     "text": [
      "DEBUG flwr 2023-08-29 08:57:56,663 | server.py:236 | fit_round 26 received 5 results and 0 failures\n",
      "DEBUG flwr 2023-08-29 08:57:56,795 | server.py:173 | evaluate_round 26: strategy sampled 5 clients (out of 10)\n"
     ]
    },
    {
     "name": "stdout",
     "output_type": "stream",
     "text": [
      "agrregate_fit results list length is  5\n",
      "Saving round 26 aggregated_parameters...\n"
     ]
    },
    {
     "name": "stderr",
     "output_type": "stream",
     "text": [
      "DEBUG flwr 2023-08-29 08:57:57,321 | server.py:187 | evaluate_round 26 received 5 results and 0 failures\n",
      "DEBUG flwr 2023-08-29 08:57:57,322 | server.py:222 | fit_round 27: strategy sampled 5 clients (out of 10)\n"
     ]
    },
    {
     "name": "stdout",
     "output_type": "stream",
     "text": [
      "agrregate_evaluate results list length is  5\n",
      "server round is  26\n",
      "loss is  0.5888888888888889\n"
     ]
    },
    {
     "name": "stderr",
     "output_type": "stream",
     "text": [
      "DEBUG flwr 2023-08-29 08:58:11,970 | server.py:236 | fit_round 27 received 5 results and 0 failures\n",
      "DEBUG flwr 2023-08-29 08:58:12,072 | server.py:173 | evaluate_round 27: strategy sampled 5 clients (out of 10)\n"
     ]
    },
    {
     "name": "stdout",
     "output_type": "stream",
     "text": [
      "agrregate_fit results list length is  5\n",
      "Saving round 27 aggregated_parameters...\n"
     ]
    },
    {
     "name": "stderr",
     "output_type": "stream",
     "text": [
      "DEBUG flwr 2023-08-29 08:58:12,535 | server.py:187 | evaluate_round 27 received 5 results and 0 failures\n",
      "DEBUG flwr 2023-08-29 08:58:12,537 | server.py:222 | fit_round 28: strategy sampled 5 clients (out of 10)\n"
     ]
    },
    {
     "name": "stdout",
     "output_type": "stream",
     "text": [
      "agrregate_evaluate results list length is  5\n",
      "server round is  27\n",
      "loss is  0.6999999999999998\n"
     ]
    },
    {
     "name": "stderr",
     "output_type": "stream",
     "text": [
      "DEBUG flwr 2023-08-29 08:58:27,282 | server.py:236 | fit_round 28 received 5 results and 0 failures\n",
      "DEBUG flwr 2023-08-29 08:58:27,388 | server.py:173 | evaluate_round 28: strategy sampled 5 clients (out of 10)\n"
     ]
    },
    {
     "name": "stdout",
     "output_type": "stream",
     "text": [
      "agrregate_fit results list length is  5\n",
      "Saving round 28 aggregated_parameters...\n"
     ]
    },
    {
     "name": "stderr",
     "output_type": "stream",
     "text": [
      "DEBUG flwr 2023-08-29 08:58:27,864 | server.py:187 | evaluate_round 28 received 5 results and 0 failures\n",
      "DEBUG flwr 2023-08-29 08:58:27,865 | server.py:222 | fit_round 29: strategy sampled 5 clients (out of 10)\n"
     ]
    },
    {
     "name": "stdout",
     "output_type": "stream",
     "text": [
      "agrregate_evaluate results list length is  5\n",
      "server round is  28\n",
      "loss is  0.5666666666666667\n"
     ]
    },
    {
     "name": "stderr",
     "output_type": "stream",
     "text": [
      "DEBUG flwr 2023-08-29 08:58:42,398 | server.py:236 | fit_round 29 received 5 results and 0 failures\n",
      "DEBUG flwr 2023-08-29 08:58:42,509 | server.py:173 | evaluate_round 29: strategy sampled 5 clients (out of 10)\n"
     ]
    },
    {
     "name": "stdout",
     "output_type": "stream",
     "text": [
      "agrregate_fit results list length is  5\n",
      "Saving round 29 aggregated_parameters...\n"
     ]
    },
    {
     "name": "stderr",
     "output_type": "stream",
     "text": [
      "DEBUG flwr 2023-08-29 08:58:42,962 | server.py:187 | evaluate_round 29 received 5 results and 0 failures\n",
      "DEBUG flwr 2023-08-29 08:58:42,963 | server.py:222 | fit_round 30: strategy sampled 5 clients (out of 10)\n"
     ]
    },
    {
     "name": "stdout",
     "output_type": "stream",
     "text": [
      "agrregate_evaluate results list length is  5\n",
      "server round is  29\n",
      "loss is  0.7666666666666667\n"
     ]
    },
    {
     "name": "stderr",
     "output_type": "stream",
     "text": [
      "DEBUG flwr 2023-08-29 08:58:57,293 | server.py:236 | fit_round 30 received 5 results and 0 failures\n",
      "DEBUG flwr 2023-08-29 08:58:57,404 | server.py:173 | evaluate_round 30: strategy sampled 5 clients (out of 10)\n"
     ]
    },
    {
     "name": "stdout",
     "output_type": "stream",
     "text": [
      "agrregate_fit results list length is  5\n",
      "Saving round 30 aggregated_parameters...\n"
     ]
    },
    {
     "name": "stderr",
     "output_type": "stream",
     "text": [
      "DEBUG flwr 2023-08-29 08:58:57,833 | server.py:187 | evaluate_round 30 received 5 results and 0 failures\n",
      "DEBUG flwr 2023-08-29 08:58:57,835 | server.py:222 | fit_round 31: strategy sampled 5 clients (out of 10)\n"
     ]
    },
    {
     "name": "stdout",
     "output_type": "stream",
     "text": [
      "agrregate_evaluate results list length is  5\n",
      "server round is  30\n",
      "loss is  0.5833333333333334\n"
     ]
    },
    {
     "name": "stderr",
     "output_type": "stream",
     "text": [
      "DEBUG flwr 2023-08-29 08:59:12,355 | server.py:236 | fit_round 31 received 5 results and 0 failures\n",
      "DEBUG flwr 2023-08-29 08:59:12,466 | server.py:173 | evaluate_round 31: strategy sampled 5 clients (out of 10)\n"
     ]
    },
    {
     "name": "stdout",
     "output_type": "stream",
     "text": [
      "agrregate_fit results list length is  5\n",
      "Saving round 31 aggregated_parameters...\n"
     ]
    },
    {
     "name": "stderr",
     "output_type": "stream",
     "text": [
      "DEBUG flwr 2023-08-29 08:59:12,951 | server.py:187 | evaluate_round 31 received 5 results and 0 failures\n",
      "DEBUG flwr 2023-08-29 08:59:12,952 | server.py:222 | fit_round 32: strategy sampled 5 clients (out of 10)\n"
     ]
    },
    {
     "name": "stdout",
     "output_type": "stream",
     "text": [
      "agrregate_evaluate results list length is  5\n",
      "server round is  31\n",
      "loss is  0.5611111111111111\n"
     ]
    },
    {
     "name": "stderr",
     "output_type": "stream",
     "text": [
      "DEBUG flwr 2023-08-29 08:59:15,653 | server.py:236 | fit_round 32 received 5 results and 0 failures\n",
      "DEBUG flwr 2023-08-29 08:59:15,797 | server.py:173 | evaluate_round 32: strategy sampled 5 clients (out of 10)\n"
     ]
    },
    {
     "name": "stdout",
     "output_type": "stream",
     "text": [
      "agrregate_fit results list length is  5\n",
      "Saving round 32 aggregated_parameters...\n"
     ]
    },
    {
     "name": "stderr",
     "output_type": "stream",
     "text": [
      "DEBUG flwr 2023-08-29 08:59:16,341 | server.py:187 | evaluate_round 32 received 5 results and 0 failures\n",
      "DEBUG flwr 2023-08-29 08:59:16,343 | server.py:222 | fit_round 33: strategy sampled 5 clients (out of 10)\n"
     ]
    },
    {
     "name": "stdout",
     "output_type": "stream",
     "text": [
      "agrregate_evaluate results list length is  5\n",
      "server round is  32\n",
      "loss is  0.5444444444444444\n"
     ]
    },
    {
     "name": "stderr",
     "output_type": "stream",
     "text": [
      "DEBUG flwr 2023-08-29 08:59:30,717 | server.py:236 | fit_round 33 received 5 results and 0 failures\n",
      "DEBUG flwr 2023-08-29 08:59:30,831 | server.py:173 | evaluate_round 33: strategy sampled 5 clients (out of 10)\n"
     ]
    },
    {
     "name": "stdout",
     "output_type": "stream",
     "text": [
      "agrregate_fit results list length is  5\n",
      "Saving round 33 aggregated_parameters...\n"
     ]
    },
    {
     "name": "stderr",
     "output_type": "stream",
     "text": [
      "DEBUG flwr 2023-08-29 08:59:31,312 | server.py:187 | evaluate_round 33 received 5 results and 0 failures\n",
      "DEBUG flwr 2023-08-29 08:59:31,314 | server.py:222 | fit_round 34: strategy sampled 5 clients (out of 10)\n"
     ]
    },
    {
     "name": "stdout",
     "output_type": "stream",
     "text": [
      "agrregate_evaluate results list length is  5\n",
      "server round is  33\n",
      "loss is  0.5388888888888889\n"
     ]
    },
    {
     "name": "stderr",
     "output_type": "stream",
     "text": [
      "DEBUG flwr 2023-08-29 08:59:46,089 | server.py:236 | fit_round 34 received 5 results and 0 failures\n",
      "DEBUG flwr 2023-08-29 08:59:46,203 | server.py:173 | evaluate_round 34: strategy sampled 5 clients (out of 10)\n"
     ]
    },
    {
     "name": "stdout",
     "output_type": "stream",
     "text": [
      "agrregate_fit results list length is  5\n",
      "Saving round 34 aggregated_parameters...\n"
     ]
    },
    {
     "name": "stderr",
     "output_type": "stream",
     "text": [
      "DEBUG flwr 2023-08-29 08:59:46,656 | server.py:187 | evaluate_round 34 received 5 results and 0 failures\n",
      "DEBUG flwr 2023-08-29 08:59:46,657 | server.py:222 | fit_round 35: strategy sampled 5 clients (out of 10)\n"
     ]
    },
    {
     "name": "stdout",
     "output_type": "stream",
     "text": [
      "agrregate_evaluate results list length is  5\n",
      "server round is  34\n",
      "loss is  0.6277777777777778\n"
     ]
    },
    {
     "name": "stderr",
     "output_type": "stream",
     "text": [
      "DEBUG flwr 2023-08-29 09:00:01,013 | server.py:236 | fit_round 35 received 5 results and 0 failures\n",
      "DEBUG flwr 2023-08-29 09:00:01,126 | server.py:173 | evaluate_round 35: strategy sampled 5 clients (out of 10)\n"
     ]
    },
    {
     "name": "stdout",
     "output_type": "stream",
     "text": [
      "agrregate_fit results list length is  5\n",
      "Saving round 35 aggregated_parameters...\n"
     ]
    },
    {
     "name": "stderr",
     "output_type": "stream",
     "text": [
      "DEBUG flwr 2023-08-29 09:00:01,613 | server.py:187 | evaluate_round 35 received 5 results and 0 failures\n",
      "DEBUG flwr 2023-08-29 09:00:01,614 | server.py:222 | fit_round 36: strategy sampled 5 clients (out of 10)\n"
     ]
    },
    {
     "name": "stdout",
     "output_type": "stream",
     "text": [
      "agrregate_evaluate results list length is  5\n",
      "server round is  35\n",
      "loss is  0.5222222222222223\n"
     ]
    },
    {
     "name": "stderr",
     "output_type": "stream",
     "text": [
      "DEBUG flwr 2023-08-29 09:00:15,965 | server.py:236 | fit_round 36 received 5 results and 0 failures\n",
      "DEBUG flwr 2023-08-29 09:00:16,074 | server.py:173 | evaluate_round 36: strategy sampled 5 clients (out of 10)\n"
     ]
    },
    {
     "name": "stdout",
     "output_type": "stream",
     "text": [
      "agrregate_fit results list length is  5\n",
      "Saving round 36 aggregated_parameters...\n"
     ]
    },
    {
     "name": "stderr",
     "output_type": "stream",
     "text": [
      "DEBUG flwr 2023-08-29 09:00:16,611 | server.py:187 | evaluate_round 36 received 5 results and 0 failures\n",
      "DEBUG flwr 2023-08-29 09:00:16,612 | server.py:222 | fit_round 37: strategy sampled 5 clients (out of 10)\n"
     ]
    },
    {
     "name": "stdout",
     "output_type": "stream",
     "text": [
      "agrregate_evaluate results list length is  5\n",
      "server round is  36\n",
      "loss is  0.5111111111111111\n"
     ]
    },
    {
     "name": "stderr",
     "output_type": "stream",
     "text": [
      "DEBUG flwr 2023-08-29 09:00:19,220 | server.py:236 | fit_round 37 received 5 results and 0 failures\n",
      "DEBUG flwr 2023-08-29 09:00:19,353 | server.py:173 | evaluate_round 37: strategy sampled 5 clients (out of 10)\n"
     ]
    },
    {
     "name": "stdout",
     "output_type": "stream",
     "text": [
      "agrregate_fit results list length is  5\n",
      "Saving round 37 aggregated_parameters...\n"
     ]
    },
    {
     "name": "stderr",
     "output_type": "stream",
     "text": [
      "DEBUG flwr 2023-08-29 09:00:19,873 | server.py:187 | evaluate_round 37 received 5 results and 0 failures\n",
      "DEBUG flwr 2023-08-29 09:00:19,875 | server.py:222 | fit_round 38: strategy sampled 5 clients (out of 10)\n"
     ]
    },
    {
     "name": "stdout",
     "output_type": "stream",
     "text": [
      "agrregate_evaluate results list length is  5\n",
      "server round is  37\n",
      "loss is  0.5388888888888889\n"
     ]
    },
    {
     "name": "stderr",
     "output_type": "stream",
     "text": [
      "DEBUG flwr 2023-08-29 09:00:34,055 | server.py:236 | fit_round 38 received 5 results and 0 failures\n",
      "DEBUG flwr 2023-08-29 09:00:34,174 | server.py:173 | evaluate_round 38: strategy sampled 5 clients (out of 10)\n"
     ]
    },
    {
     "name": "stdout",
     "output_type": "stream",
     "text": [
      "agrregate_fit results list length is  5\n",
      "Saving round 38 aggregated_parameters...\n"
     ]
    },
    {
     "name": "stderr",
     "output_type": "stream",
     "text": [
      "DEBUG flwr 2023-08-29 09:00:34,665 | server.py:187 | evaluate_round 38 received 5 results and 0 failures\n",
      "DEBUG flwr 2023-08-29 09:00:34,667 | server.py:222 | fit_round 39: strategy sampled 5 clients (out of 10)\n"
     ]
    },
    {
     "name": "stdout",
     "output_type": "stream",
     "text": [
      "agrregate_evaluate results list length is  5\n",
      "server round is  38\n",
      "loss is  0.5055555555555555\n"
     ]
    },
    {
     "name": "stderr",
     "output_type": "stream",
     "text": [
      "DEBUG flwr 2023-08-29 09:00:49,215 | server.py:236 | fit_round 39 received 5 results and 0 failures\n",
      "DEBUG flwr 2023-08-29 09:00:49,329 | server.py:173 | evaluate_round 39: strategy sampled 5 clients (out of 10)\n"
     ]
    },
    {
     "name": "stdout",
     "output_type": "stream",
     "text": [
      "agrregate_fit results list length is  5\n",
      "Saving round 39 aggregated_parameters...\n"
     ]
    },
    {
     "name": "stderr",
     "output_type": "stream",
     "text": [
      "DEBUG flwr 2023-08-29 09:00:49,748 | server.py:187 | evaluate_round 39 received 5 results and 0 failures\n",
      "DEBUG flwr 2023-08-29 09:00:49,749 | server.py:222 | fit_round 40: strategy sampled 5 clients (out of 10)\n"
     ]
    },
    {
     "name": "stdout",
     "output_type": "stream",
     "text": [
      "agrregate_evaluate results list length is  5\n",
      "server round is  39\n",
      "loss is  0.5277777777777778\n"
     ]
    },
    {
     "name": "stderr",
     "output_type": "stream",
     "text": [
      "DEBUG flwr 2023-08-29 09:00:52,282 | server.py:236 | fit_round 40 received 5 results and 0 failures\n",
      "DEBUG flwr 2023-08-29 09:00:52,411 | server.py:173 | evaluate_round 40: strategy sampled 5 clients (out of 10)\n"
     ]
    },
    {
     "name": "stdout",
     "output_type": "stream",
     "text": [
      "agrregate_fit results list length is  5\n",
      "Saving round 40 aggregated_parameters...\n"
     ]
    },
    {
     "name": "stderr",
     "output_type": "stream",
     "text": [
      "DEBUG flwr 2023-08-29 09:00:52,938 | server.py:187 | evaluate_round 40 received 5 results and 0 failures\n",
      "INFO flwr 2023-08-29 09:00:52,940 | server.py:153 | FL finished in 440.97048070000164\n",
      "INFO flwr 2023-08-29 09:00:52,944 | app.py:225 | app_fit: losses_distributed [(1, 3.7444444444444445), (2, 1.25), (3, 0.8055555555555556), (4, 1.0055555555555555), (5, 0.8333333333333334), (6, 0.7611111111111111), (7, 0.7111111111111111), (8, 0.7055555555555557), (9, 0.65), (10, 0.6333333333333333), (11, 0.6388888888888887), (12, 0.7277777777777777), (13, 0.65), (14, 0.6999999999999998), (15, 0.6666666666666666), (16, 0.7833333333333333), (17, 0.6555555555555556), (18, 0.6944444444444444), (19, 0.65), (20, 0.6388888888888887), (21, 0.6166666666666667), (22, 0.5722222222222222), (23, 0.6388888888888887), (24, 0.6333333333333333), (25, 0.6055555555555554), (26, 0.5888888888888889), (27, 0.6999999999999998), (28, 0.5666666666666667), (29, 0.7666666666666667), (30, 0.5833333333333334), (31, 0.5611111111111111), (32, 0.5444444444444444), (33, 0.5388888888888889), (34, 0.6277777777777778), (35, 0.5222222222222223), (36, 0.5111111111111111), (37, 0.5388888888888889), (38, 0.5055555555555555), (39, 0.5277777777777778), (40, 0.5055555555555555)]\n",
      "INFO flwr 2023-08-29 09:00:52,945 | app.py:226 | app_fit: metrics_distributed_fit {}\n",
      "INFO flwr 2023-08-29 09:00:52,945 | app.py:227 | app_fit: metrics_distributed {'mse': [(1, 18.72222222222222), (2, 6.25), (3, 4.027777777777778), (4, 5.027777777777778), (5, 4.166666666666667), (6, 3.8055555555555554), (7, 3.555555555555556), (8, 3.527777777777778), (9, 3.25), (10, 3.1666666666666665), (11, 3.194444444444444), (12, 3.638888888888889), (13, 3.25), (14, 3.5), (15, 3.333333333333333), (16, 3.9166666666666665), (17, 3.2777777777777777), (18, 3.4722222222222223), (19, 3.25), (20, 3.194444444444444), (21, 3.0833333333333335), (22, 2.8611111111111107), (23, 3.194444444444444), (24, 3.1666666666666665), (25, 3.0277777777777777), (26, 2.9444444444444446), (27, 3.5), (28, 2.833333333333333), (29, 3.8333333333333335), (30, 2.916666666666667), (31, 2.8055555555555554), (32, 2.722222222222222), (33, 2.694444444444444), (34, 3.138888888888889), (35, 2.611111111111111), (36, 2.5555555555555554), (37, 2.694444444444444), (38, 2.5277777777777777), (39, 2.638888888888889), (40, 2.5277777777777777)]}\n",
      "INFO flwr 2023-08-29 09:00:52,946 | app.py:228 | app_fit: losses_centralized []\n",
      "INFO flwr 2023-08-29 09:00:52,946 | app.py:229 | app_fit: metrics_centralized {}\n"
     ]
    },
    {
     "name": "stdout",
     "output_type": "stream",
     "text": [
      "agrregate_evaluate results list length is  5\n",
      "server round is  40\n",
      "loss is  0.5055555555555555\n",
      "History (loss, distributed):\n",
      "\tround 1: 3.7444444444444445\n",
      "\tround 2: 1.25\n",
      "\tround 3: 0.8055555555555556\n",
      "\tround 4: 1.0055555555555555\n",
      "\tround 5: 0.8333333333333334\n",
      "\tround 6: 0.7611111111111111\n",
      "\tround 7: 0.7111111111111111\n",
      "\tround 8: 0.7055555555555557\n",
      "\tround 9: 0.65\n",
      "\tround 10: 0.6333333333333333\n",
      "\tround 11: 0.6388888888888887\n",
      "\tround 12: 0.7277777777777777\n",
      "\tround 13: 0.65\n",
      "\tround 14: 0.6999999999999998\n",
      "\tround 15: 0.6666666666666666\n",
      "\tround 16: 0.7833333333333333\n",
      "\tround 17: 0.6555555555555556\n",
      "\tround 18: 0.6944444444444444\n",
      "\tround 19: 0.65\n",
      "\tround 20: 0.6388888888888887\n",
      "\tround 21: 0.6166666666666667\n",
      "\tround 22: 0.5722222222222222\n",
      "\tround 23: 0.6388888888888887\n",
      "\tround 24: 0.6333333333333333\n",
      "\tround 25: 0.6055555555555554\n",
      "\tround 26: 0.5888888888888889\n",
      "\tround 27: 0.6999999999999998\n",
      "\tround 28: 0.5666666666666667\n",
      "\tround 29: 0.7666666666666667\n",
      "\tround 30: 0.5833333333333334\n",
      "\tround 31: 0.5611111111111111\n",
      "\tround 32: 0.5444444444444444\n",
      "\tround 33: 0.5388888888888889\n",
      "\tround 34: 0.6277777777777778\n",
      "\tround 35: 0.5222222222222223\n",
      "\tround 36: 0.5111111111111111\n",
      "\tround 37: 0.5388888888888889\n",
      "\tround 38: 0.5055555555555555\n",
      "\tround 39: 0.5277777777777778\n",
      "\tround 40: 0.5055555555555555\n",
      "History (metrics, distributed, evaluate):\n",
      "{'mse': [(1, 18.72222222222222), (2, 6.25), (3, 4.027777777777778), (4, 5.027777777777778), (5, 4.166666666666667), (6, 3.8055555555555554), (7, 3.555555555555556), (8, 3.527777777777778), (9, 3.25), (10, 3.1666666666666665), (11, 3.194444444444444), (12, 3.638888888888889), (13, 3.25), (14, 3.5), (15, 3.333333333333333), (16, 3.9166666666666665), (17, 3.2777777777777777), (18, 3.4722222222222223), (19, 3.25), (20, 3.194444444444444), (21, 3.0833333333333335), (22, 2.8611111111111107), (23, 3.194444444444444), (24, 3.1666666666666665), (25, 3.0277777777777777), (26, 2.9444444444444446), (27, 3.5), (28, 2.833333333333333), (29, 3.8333333333333335), (30, 2.916666666666667), (31, 2.8055555555555554), (32, 2.722222222222222), (33, 2.694444444444444), (34, 3.138888888888889), (35, 2.611111111111111), (36, 2.5555555555555554), (37, 2.694444444444444), (38, 2.5277777777777777), (39, 2.638888888888889), (40, 2.5277777777777777)]}\n",
      "[(1, 3.7444444444444445), (2, 1.25), (3, 0.8055555555555556), (4, 1.0055555555555555), (5, 0.8333333333333334), (6, 0.7611111111111111), (7, 0.7111111111111111), (8, 0.7055555555555557), (9, 0.65), (10, 0.6333333333333333), (11, 0.6388888888888887), (12, 0.7277777777777777), (13, 0.65), (14, 0.6999999999999998), (15, 0.6666666666666666), (16, 0.7833333333333333), (17, 0.6555555555555556), (18, 0.6944444444444444), (19, 0.65), (20, 0.6388888888888887), (21, 0.6166666666666667), (22, 0.5722222222222222), (23, 0.6388888888888887), (24, 0.6333333333333333), (25, 0.6055555555555554), (26, 0.5888888888888889), (27, 0.6999999999999998), (28, 0.5666666666666667), (29, 0.7666666666666667), (30, 0.5833333333333334), (31, 0.5611111111111111), (32, 0.5444444444444444), (33, 0.5388888888888889), (34, 0.6277777777777778), (35, 0.5222222222222223), (36, 0.5111111111111111), (37, 0.5388888888888889), (38, 0.5055555555555555), (39, 0.5277777777777778), (40, 0.5055555555555555)]\n",
      "splitting: [0.6, 0.05, 0.05, 0.05, 0.05, 0.04, 0.04, 0.04, 0.04, 0.04]\n",
      "mse: [0.47513812154696133, 1.0666666666666667, 0.55, 0.4722222222222222, 0.5055555555555555]\n",
      "auc:  [0.9726456847799361, 0.9587628865979381, 0.9777750339548091, 0.9941176470588236, 0.9767730716681158]\n",
      "Training time:  0:34:34.271930\n"
     ]
    }
   ],
   "source": [
    "split = [0.6, 0.05, 0.05, 0.05, 0.05, 0.04, 0.04, 0.04, 0.04, 0.04]\n",
    "do_fl(split)"
   ],
   "metadata": {
    "collapsed": false,
    "ExecuteTime": {
     "end_time": "2023-08-29T08:00:53.435292200Z",
     "start_time": "2023-08-29T07:26:18.842028700Z"
    }
   }
  },
  {
   "cell_type": "code",
   "execution_count": 17,
   "outputs": [
    {
     "name": "stderr",
     "output_type": "stream",
     "text": [
      "C:\\Users\\Shuyao\\AppData\\Local\\Temp\\ipykernel_11996\\3421847257.py:35: UserWarning: To copy construct from a tensor, it is recommended to use sourceTensor.clone().detach() or sourceTensor.clone().detach().requires_grad_(True), rather than torch.tensor(sourceTensor).\n",
      "  y_train = torch.reshape(torch.tensor(y_train), (-1, 1))\n",
      "C:\\Users\\Shuyao\\AppData\\Local\\Temp\\ipykernel_11996\\3421847257.py:36: UserWarning: To copy construct from a tensor, it is recommended to use sourceTensor.clone().detach() or sourceTensor.clone().detach().requires_grad_(True), rather than torch.tensor(sourceTensor).\n",
      "  y_test = torch.reshape(torch.tensor(y_test), (-1, 1))\n",
      "INFO flwr 2023-08-29 09:00:53,219 | app.py:145 | Starting Flower simulation, config: ServerConfig(num_rounds=40, round_timeout=None)\n"
     ]
    },
    {
     "name": "stdout",
     "output_type": "stream",
     "text": [
      "<class 'torch.Tensor'>\n",
      "<class 'torch.Tensor'>\n",
      "Fold 1:\n",
      "Client 0 trainset shape torch.Size([580, 3, 23])\n",
      "Client 1 trainset shape torch.Size([14, 3, 23])\n",
      "Client 2 trainset shape torch.Size([14, 3, 23])\n",
      "Client 3 trainset shape torch.Size([14, 3, 23])\n",
      "Client 4 trainset shape torch.Size([14, 3, 23])\n",
      "Client 5 trainset shape torch.Size([14, 3, 23])\n",
      "Client 6 trainset shape torch.Size([14, 3, 23])\n",
      "Client 7 trainset shape torch.Size([14, 3, 23])\n",
      "Client 8 trainset shape torch.Size([14, 3, 23])\n",
      "Client 9 trainset shape torch.Size([14, 3, 23])\n"
     ]
    },
    {
     "name": "stderr",
     "output_type": "stream",
     "text": [
      "2023-08-29 09:01:01,309\tINFO worker.py:1627 -- Started a local Ray instance. View the dashboard at \u001B[1m\u001B[32m127.0.0.1:8265 \u001B[39m\u001B[22m\n",
      "INFO flwr 2023-08-29 09:01:05,895 | app.py:179 | Flower VCE: Ray initialized with resources: {'CPU': 8.0, 'node:127.0.0.1': 1.0, 'object_store_memory': 1509739315.0, 'memory': 3019478631.0, 'GPU': 1.0}\n",
      "INFO flwr 2023-08-29 09:01:05,896 | server.py:89 | Initializing global parameters\n",
      "INFO flwr 2023-08-29 09:01:05,897 | server.py:276 | Requesting initial parameters from one random client\n",
      "INFO flwr 2023-08-29 09:01:08,873 | server.py:280 | Received initial parameters from one random client\n",
      "INFO flwr 2023-08-29 09:01:08,874 | server.py:91 | Evaluating initial parameters\n",
      "INFO flwr 2023-08-29 09:01:08,874 | server.py:104 | FL starting\n",
      "DEBUG flwr 2023-08-29 09:01:08,875 | server.py:222 | fit_round 1: strategy sampled 5 clients (out of 10)\n",
      "DEBUG flwr 2023-08-29 09:01:30,884 | server.py:236 | fit_round 1 received 5 results and 0 failures\n",
      "WARNING flwr 2023-08-29 09:01:30,961 | fedavg.py:242 | No fit_metrics_aggregation_fn provided\n",
      "DEBUG flwr 2023-08-29 09:01:30,994 | server.py:173 | evaluate_round 1: strategy sampled 5 clients (out of 10)\n"
     ]
    },
    {
     "name": "stdout",
     "output_type": "stream",
     "text": [
      "agrregate_fit results list length is  5\n",
      "Saving round 1 aggregated_parameters...\n"
     ]
    },
    {
     "name": "stderr",
     "output_type": "stream",
     "text": [
      "DEBUG flwr 2023-08-29 09:01:31,367 | server.py:187 | evaluate_round 1 received 5 results and 0 failures\n",
      "DEBUG flwr 2023-08-29 09:01:31,368 | server.py:222 | fit_round 2: strategy sampled 5 clients (out of 10)\n"
     ]
    },
    {
     "name": "stdout",
     "output_type": "stream",
     "text": [
      "agrregate_evaluate results list length is  5\n",
      "server round is  1\n",
      "loss is  1.7513812154696133\n"
     ]
    },
    {
     "name": "stderr",
     "output_type": "stream",
     "text": [
      "DEBUG flwr 2023-08-29 09:01:49,101 | server.py:236 | fit_round 2 received 5 results and 0 failures\n",
      "DEBUG flwr 2023-08-29 09:01:49,221 | server.py:173 | evaluate_round 2: strategy sampled 5 clients (out of 10)\n"
     ]
    },
    {
     "name": "stdout",
     "output_type": "stream",
     "text": [
      "agrregate_fit results list length is  5\n",
      "Saving round 2 aggregated_parameters...\n"
     ]
    },
    {
     "name": "stderr",
     "output_type": "stream",
     "text": [
      "DEBUG flwr 2023-08-29 09:01:49,703 | server.py:187 | evaluate_round 2 received 5 results and 0 failures\n",
      "DEBUG flwr 2023-08-29 09:01:49,704 | server.py:222 | fit_round 3: strategy sampled 5 clients (out of 10)\n"
     ]
    },
    {
     "name": "stdout",
     "output_type": "stream",
     "text": [
      "agrregate_evaluate results list length is  5\n",
      "server round is  2\n",
      "loss is  0.7790055248618785\n"
     ]
    },
    {
     "name": "stderr",
     "output_type": "stream",
     "text": [
      "DEBUG flwr 2023-08-29 09:01:51,430 | server.py:236 | fit_round 3 received 5 results and 0 failures\n",
      "DEBUG flwr 2023-08-29 09:01:51,572 | server.py:173 | evaluate_round 3: strategy sampled 5 clients (out of 10)\n"
     ]
    },
    {
     "name": "stdout",
     "output_type": "stream",
     "text": [
      "agrregate_fit results list length is  5\n",
      "Saving round 3 aggregated_parameters...\n"
     ]
    },
    {
     "name": "stderr",
     "output_type": "stream",
     "text": [
      "DEBUG flwr 2023-08-29 09:01:52,118 | server.py:187 | evaluate_round 3 received 5 results and 0 failures\n",
      "DEBUG flwr 2023-08-29 09:01:52,119 | server.py:222 | fit_round 4: strategy sampled 5 clients (out of 10)\n"
     ]
    },
    {
     "name": "stdout",
     "output_type": "stream",
     "text": [
      "agrregate_evaluate results list length is  5\n",
      "server round is  3\n",
      "loss is  0.9116022099447514\n"
     ]
    },
    {
     "name": "stderr",
     "output_type": "stream",
     "text": [
      "DEBUG flwr 2023-08-29 09:01:53,891 | server.py:236 | fit_round 4 received 5 results and 0 failures\n",
      "DEBUG flwr 2023-08-29 09:01:54,022 | server.py:173 | evaluate_round 4: strategy sampled 5 clients (out of 10)\n"
     ]
    },
    {
     "name": "stdout",
     "output_type": "stream",
     "text": [
      "agrregate_fit results list length is  5\n",
      "Saving round 4 aggregated_parameters...\n"
     ]
    },
    {
     "name": "stderr",
     "output_type": "stream",
     "text": [
      "DEBUG flwr 2023-08-29 09:01:54,546 | server.py:187 | evaluate_round 4 received 5 results and 0 failures\n",
      "DEBUG flwr 2023-08-29 09:01:54,547 | server.py:222 | fit_round 5: strategy sampled 5 clients (out of 10)\n"
     ]
    },
    {
     "name": "stdout",
     "output_type": "stream",
     "text": [
      "agrregate_evaluate results list length is  5\n",
      "server round is  4\n",
      "loss is  0.7900552486187845\n"
     ]
    },
    {
     "name": "stderr",
     "output_type": "stream",
     "text": [
      "DEBUG flwr 2023-08-29 09:01:56,211 | server.py:236 | fit_round 5 received 5 results and 0 failures\n",
      "DEBUG flwr 2023-08-29 09:01:56,342 | server.py:173 | evaluate_round 5: strategy sampled 5 clients (out of 10)\n"
     ]
    },
    {
     "name": "stdout",
     "output_type": "stream",
     "text": [
      "agrregate_fit results list length is  5\n",
      "Saving round 5 aggregated_parameters...\n"
     ]
    },
    {
     "name": "stderr",
     "output_type": "stream",
     "text": [
      "DEBUG flwr 2023-08-29 09:01:56,759 | server.py:187 | evaluate_round 5 received 5 results and 0 failures\n",
      "DEBUG flwr 2023-08-29 09:01:56,761 | server.py:222 | fit_round 6: strategy sampled 5 clients (out of 10)\n"
     ]
    },
    {
     "name": "stdout",
     "output_type": "stream",
     "text": [
      "agrregate_evaluate results list length is  5\n",
      "server round is  5\n",
      "loss is  0.8950276243093923\n"
     ]
    },
    {
     "name": "stderr",
     "output_type": "stream",
     "text": [
      "DEBUG flwr 2023-08-29 09:01:58,390 | server.py:236 | fit_round 6 received 5 results and 0 failures\n",
      "DEBUG flwr 2023-08-29 09:01:58,537 | server.py:173 | evaluate_round 6: strategy sampled 5 clients (out of 10)\n"
     ]
    },
    {
     "name": "stdout",
     "output_type": "stream",
     "text": [
      "agrregate_fit results list length is  5\n",
      "Saving round 6 aggregated_parameters...\n"
     ]
    },
    {
     "name": "stderr",
     "output_type": "stream",
     "text": [
      "DEBUG flwr 2023-08-29 09:01:59,066 | server.py:187 | evaluate_round 6 received 5 results and 0 failures\n",
      "DEBUG flwr 2023-08-29 09:01:59,068 | server.py:222 | fit_round 7: strategy sampled 5 clients (out of 10)\n"
     ]
    },
    {
     "name": "stdout",
     "output_type": "stream",
     "text": [
      "agrregate_evaluate results list length is  5\n",
      "server round is  6\n",
      "loss is  1.0\n"
     ]
    },
    {
     "name": "stderr",
     "output_type": "stream",
     "text": [
      "DEBUG flwr 2023-08-29 09:02:00,739 | server.py:236 | fit_round 7 received 5 results and 0 failures\n",
      "DEBUG flwr 2023-08-29 09:02:00,874 | server.py:173 | evaluate_round 7: strategy sampled 5 clients (out of 10)\n"
     ]
    },
    {
     "name": "stdout",
     "output_type": "stream",
     "text": [
      "agrregate_fit results list length is  5\n",
      "Saving round 7 aggregated_parameters...\n"
     ]
    },
    {
     "name": "stderr",
     "output_type": "stream",
     "text": [
      "DEBUG flwr 2023-08-29 09:02:01,327 | server.py:187 | evaluate_round 7 received 5 results and 0 failures\n",
      "DEBUG flwr 2023-08-29 09:02:01,328 | server.py:222 | fit_round 8: strategy sampled 5 clients (out of 10)\n"
     ]
    },
    {
     "name": "stdout",
     "output_type": "stream",
     "text": [
      "agrregate_evaluate results list length is  5\n",
      "server round is  7\n",
      "loss is  0.9337016574585635\n"
     ]
    },
    {
     "name": "stderr",
     "output_type": "stream",
     "text": [
      "DEBUG flwr 2023-08-29 09:02:02,926 | server.py:236 | fit_round 8 received 5 results and 0 failures\n",
      "DEBUG flwr 2023-08-29 09:02:03,081 | server.py:173 | evaluate_round 8: strategy sampled 5 clients (out of 10)\n"
     ]
    },
    {
     "name": "stdout",
     "output_type": "stream",
     "text": [
      "agrregate_fit results list length is  5\n",
      "Saving round 8 aggregated_parameters...\n"
     ]
    },
    {
     "name": "stderr",
     "output_type": "stream",
     "text": [
      "DEBUG flwr 2023-08-29 09:02:03,605 | server.py:187 | evaluate_round 8 received 5 results and 0 failures\n",
      "DEBUG flwr 2023-08-29 09:02:03,607 | server.py:222 | fit_round 9: strategy sampled 5 clients (out of 10)\n"
     ]
    },
    {
     "name": "stdout",
     "output_type": "stream",
     "text": [
      "agrregate_evaluate results list length is  5\n",
      "server round is  8\n",
      "loss is  0.9337016574585635\n"
     ]
    },
    {
     "name": "stderr",
     "output_type": "stream",
     "text": [
      "DEBUG flwr 2023-08-29 09:02:05,265 | server.py:236 | fit_round 9 received 5 results and 0 failures\n",
      "DEBUG flwr 2023-08-29 09:02:05,387 | server.py:173 | evaluate_round 9: strategy sampled 5 clients (out of 10)\n"
     ]
    },
    {
     "name": "stdout",
     "output_type": "stream",
     "text": [
      "agrregate_fit results list length is  5\n",
      "Saving round 9 aggregated_parameters...\n"
     ]
    },
    {
     "name": "stderr",
     "output_type": "stream",
     "text": [
      "DEBUG flwr 2023-08-29 09:02:05,879 | server.py:187 | evaluate_round 9 received 5 results and 0 failures\n",
      "DEBUG flwr 2023-08-29 09:02:05,880 | server.py:222 | fit_round 10: strategy sampled 5 clients (out of 10)\n"
     ]
    },
    {
     "name": "stdout",
     "output_type": "stream",
     "text": [
      "agrregate_evaluate results list length is  5\n",
      "server round is  9\n",
      "loss is  0.8397790055248618\n"
     ]
    },
    {
     "name": "stderr",
     "output_type": "stream",
     "text": [
      "DEBUG flwr 2023-08-29 09:02:24,491 | server.py:236 | fit_round 10 received 5 results and 0 failures\n",
      "DEBUG flwr 2023-08-29 09:02:24,602 | server.py:173 | evaluate_round 10: strategy sampled 5 clients (out of 10)\n"
     ]
    },
    {
     "name": "stdout",
     "output_type": "stream",
     "text": [
      "agrregate_fit results list length is  5\n",
      "Saving round 10 aggregated_parameters...\n"
     ]
    },
    {
     "name": "stderr",
     "output_type": "stream",
     "text": [
      "DEBUG flwr 2023-08-29 09:02:25,018 | server.py:187 | evaluate_round 10 received 5 results and 0 failures\n",
      "DEBUG flwr 2023-08-29 09:02:25,019 | server.py:222 | fit_round 11: strategy sampled 5 clients (out of 10)\n"
     ]
    },
    {
     "name": "stdout",
     "output_type": "stream",
     "text": [
      "agrregate_evaluate results list length is  5\n",
      "server round is  10\n",
      "loss is  0.7403314917127072\n"
     ]
    },
    {
     "name": "stderr",
     "output_type": "stream",
     "text": [
      "DEBUG flwr 2023-08-29 09:02:26,617 | server.py:236 | fit_round 11 received 5 results and 0 failures\n",
      "DEBUG flwr 2023-08-29 09:02:26,736 | server.py:173 | evaluate_round 11: strategy sampled 5 clients (out of 10)\n"
     ]
    },
    {
     "name": "stdout",
     "output_type": "stream",
     "text": [
      "agrregate_fit results list length is  5\n",
      "Saving round 11 aggregated_parameters...\n"
     ]
    },
    {
     "name": "stderr",
     "output_type": "stream",
     "text": [
      "DEBUG flwr 2023-08-29 09:02:27,189 | server.py:187 | evaluate_round 11 received 5 results and 0 failures\n",
      "DEBUG flwr 2023-08-29 09:02:27,192 | server.py:222 | fit_round 12: strategy sampled 5 clients (out of 10)\n"
     ]
    },
    {
     "name": "stdout",
     "output_type": "stream",
     "text": [
      "agrregate_evaluate results list length is  5\n",
      "server round is  11\n",
      "loss is  0.7237569060773481\n"
     ]
    },
    {
     "name": "stderr",
     "output_type": "stream",
     "text": [
      "DEBUG flwr 2023-08-29 09:02:28,846 | server.py:236 | fit_round 12 received 5 results and 0 failures\n",
      "DEBUG flwr 2023-08-29 09:02:28,970 | server.py:173 | evaluate_round 12: strategy sampled 5 clients (out of 10)\n"
     ]
    },
    {
     "name": "stdout",
     "output_type": "stream",
     "text": [
      "agrregate_fit results list length is  5\n",
      "Saving round 12 aggregated_parameters...\n"
     ]
    },
    {
     "name": "stderr",
     "output_type": "stream",
     "text": [
      "DEBUG flwr 2023-08-29 09:02:29,410 | server.py:187 | evaluate_round 12 received 5 results and 0 failures\n",
      "DEBUG flwr 2023-08-29 09:02:29,412 | server.py:222 | fit_round 13: strategy sampled 5 clients (out of 10)\n"
     ]
    },
    {
     "name": "stdout",
     "output_type": "stream",
     "text": [
      "agrregate_evaluate results list length is  5\n",
      "server round is  12\n",
      "loss is  0.7900552486187845\n"
     ]
    },
    {
     "name": "stderr",
     "output_type": "stream",
     "text": [
      "DEBUG flwr 2023-08-29 09:02:47,143 | server.py:236 | fit_round 13 received 5 results and 0 failures\n",
      "DEBUG flwr 2023-08-29 09:02:47,253 | server.py:173 | evaluate_round 13: strategy sampled 5 clients (out of 10)\n"
     ]
    },
    {
     "name": "stdout",
     "output_type": "stream",
     "text": [
      "agrregate_fit results list length is  5\n",
      "Saving round 13 aggregated_parameters...\n"
     ]
    },
    {
     "name": "stderr",
     "output_type": "stream",
     "text": [
      "DEBUG flwr 2023-08-29 09:02:47,723 | server.py:187 | evaluate_round 13 received 5 results and 0 failures\n",
      "DEBUG flwr 2023-08-29 09:02:47,724 | server.py:222 | fit_round 14: strategy sampled 5 clients (out of 10)\n"
     ]
    },
    {
     "name": "stdout",
     "output_type": "stream",
     "text": [
      "agrregate_evaluate results list length is  5\n",
      "server round is  13\n",
      "loss is  0.4861878453038674\n"
     ]
    },
    {
     "name": "stderr",
     "output_type": "stream",
     "text": [
      "DEBUG flwr 2023-08-29 09:03:05,689 | server.py:236 | fit_round 14 received 5 results and 0 failures\n",
      "DEBUG flwr 2023-08-29 09:03:05,792 | server.py:173 | evaluate_round 14: strategy sampled 5 clients (out of 10)\n"
     ]
    },
    {
     "name": "stdout",
     "output_type": "stream",
     "text": [
      "agrregate_fit results list length is  5\n",
      "Saving round 14 aggregated_parameters...\n"
     ]
    },
    {
     "name": "stderr",
     "output_type": "stream",
     "text": [
      "DEBUG flwr 2023-08-29 09:03:06,249 | server.py:187 | evaluate_round 14 received 5 results and 0 failures\n",
      "DEBUG flwr 2023-08-29 09:03:06,251 | server.py:222 | fit_round 15: strategy sampled 5 clients (out of 10)\n"
     ]
    },
    {
     "name": "stdout",
     "output_type": "stream",
     "text": [
      "agrregate_evaluate results list length is  5\n",
      "server round is  14\n",
      "loss is  0.6574585635359116\n"
     ]
    },
    {
     "name": "stderr",
     "output_type": "stream",
     "text": [
      "DEBUG flwr 2023-08-29 09:03:07,892 | server.py:236 | fit_round 15 received 5 results and 0 failures\n",
      "DEBUG flwr 2023-08-29 09:03:08,025 | server.py:173 | evaluate_round 15: strategy sampled 5 clients (out of 10)\n"
     ]
    },
    {
     "name": "stdout",
     "output_type": "stream",
     "text": [
      "agrregate_fit results list length is  5\n",
      "Saving round 15 aggregated_parameters...\n"
     ]
    },
    {
     "name": "stderr",
     "output_type": "stream",
     "text": [
      "DEBUG flwr 2023-08-29 09:03:08,498 | server.py:187 | evaluate_round 15 received 5 results and 0 failures\n",
      "DEBUG flwr 2023-08-29 09:03:08,500 | server.py:222 | fit_round 16: strategy sampled 5 clients (out of 10)\n"
     ]
    },
    {
     "name": "stdout",
     "output_type": "stream",
     "text": [
      "agrregate_evaluate results list length is  5\n",
      "server round is  15\n",
      "loss is  0.5966850828729282\n"
     ]
    },
    {
     "name": "stderr",
     "output_type": "stream",
     "text": [
      "DEBUG flwr 2023-08-29 09:03:10,117 | server.py:236 | fit_round 16 received 5 results and 0 failures\n",
      "DEBUG flwr 2023-08-29 09:03:10,243 | server.py:173 | evaluate_round 16: strategy sampled 5 clients (out of 10)\n"
     ]
    },
    {
     "name": "stdout",
     "output_type": "stream",
     "text": [
      "agrregate_fit results list length is  5\n",
      "Saving round 16 aggregated_parameters...\n"
     ]
    },
    {
     "name": "stderr",
     "output_type": "stream",
     "text": [
      "DEBUG flwr 2023-08-29 09:03:10,718 | server.py:187 | evaluate_round 16 received 5 results and 0 failures\n",
      "DEBUG flwr 2023-08-29 09:03:10,719 | server.py:222 | fit_round 17: strategy sampled 5 clients (out of 10)\n"
     ]
    },
    {
     "name": "stdout",
     "output_type": "stream",
     "text": [
      "agrregate_evaluate results list length is  5\n",
      "server round is  16\n",
      "loss is  0.5138121546961326\n"
     ]
    },
    {
     "name": "stderr",
     "output_type": "stream",
     "text": [
      "DEBUG flwr 2023-08-29 09:03:12,397 | server.py:236 | fit_round 17 received 5 results and 0 failures\n",
      "DEBUG flwr 2023-08-29 09:03:12,524 | server.py:173 | evaluate_round 17: strategy sampled 5 clients (out of 10)\n"
     ]
    },
    {
     "name": "stdout",
     "output_type": "stream",
     "text": [
      "agrregate_fit results list length is  5\n",
      "Saving round 17 aggregated_parameters...\n"
     ]
    },
    {
     "name": "stderr",
     "output_type": "stream",
     "text": [
      "DEBUG flwr 2023-08-29 09:03:12,981 | server.py:187 | evaluate_round 17 received 5 results and 0 failures\n",
      "DEBUG flwr 2023-08-29 09:03:12,983 | server.py:222 | fit_round 18: strategy sampled 5 clients (out of 10)\n"
     ]
    },
    {
     "name": "stdout",
     "output_type": "stream",
     "text": [
      "agrregate_evaluate results list length is  5\n",
      "server round is  17\n",
      "loss is  0.5248618784530387\n"
     ]
    },
    {
     "name": "stderr",
     "output_type": "stream",
     "text": [
      "DEBUG flwr 2023-08-29 09:03:30,726 | server.py:236 | fit_round 18 received 5 results and 0 failures\n",
      "DEBUG flwr 2023-08-29 09:03:30,831 | server.py:173 | evaluate_round 18: strategy sampled 5 clients (out of 10)\n"
     ]
    },
    {
     "name": "stdout",
     "output_type": "stream",
     "text": [
      "agrregate_fit results list length is  5\n",
      "Saving round 18 aggregated_parameters...\n"
     ]
    },
    {
     "name": "stderr",
     "output_type": "stream",
     "text": [
      "DEBUG flwr 2023-08-29 09:03:31,324 | server.py:187 | evaluate_round 18 received 5 results and 0 failures\n",
      "DEBUG flwr 2023-08-29 09:03:31,326 | server.py:222 | fit_round 19: strategy sampled 5 clients (out of 10)\n"
     ]
    },
    {
     "name": "stdout",
     "output_type": "stream",
     "text": [
      "agrregate_evaluate results list length is  5\n",
      "server round is  18\n",
      "loss is  0.4861878453038674\n"
     ]
    },
    {
     "name": "stderr",
     "output_type": "stream",
     "text": [
      "DEBUG flwr 2023-08-29 09:03:33,014 | server.py:236 | fit_round 19 received 5 results and 0 failures\n",
      "DEBUG flwr 2023-08-29 09:03:33,135 | server.py:173 | evaluate_round 19: strategy sampled 5 clients (out of 10)\n"
     ]
    },
    {
     "name": "stdout",
     "output_type": "stream",
     "text": [
      "agrregate_fit results list length is  5\n",
      "Saving round 19 aggregated_parameters...\n"
     ]
    },
    {
     "name": "stderr",
     "output_type": "stream",
     "text": [
      "DEBUG flwr 2023-08-29 09:03:33,558 | server.py:187 | evaluate_round 19 received 5 results and 0 failures\n",
      "DEBUG flwr 2023-08-29 09:03:33,560 | server.py:222 | fit_round 20: strategy sampled 5 clients (out of 10)\n"
     ]
    },
    {
     "name": "stdout",
     "output_type": "stream",
     "text": [
      "agrregate_evaluate results list length is  5\n",
      "server round is  19\n",
      "loss is  0.4585635359116022\n"
     ]
    },
    {
     "name": "stderr",
     "output_type": "stream",
     "text": [
      "DEBUG flwr 2023-08-29 09:03:35,234 | server.py:236 | fit_round 20 received 5 results and 0 failures\n",
      "DEBUG flwr 2023-08-29 09:03:35,362 | server.py:173 | evaluate_round 20: strategy sampled 5 clients (out of 10)\n"
     ]
    },
    {
     "name": "stdout",
     "output_type": "stream",
     "text": [
      "agrregate_fit results list length is  5\n",
      "Saving round 20 aggregated_parameters...\n"
     ]
    },
    {
     "name": "stderr",
     "output_type": "stream",
     "text": [
      "DEBUG flwr 2023-08-29 09:03:35,828 | server.py:187 | evaluate_round 20 received 5 results and 0 failures\n",
      "DEBUG flwr 2023-08-29 09:03:35,831 | server.py:222 | fit_round 21: strategy sampled 5 clients (out of 10)\n"
     ]
    },
    {
     "name": "stdout",
     "output_type": "stream",
     "text": [
      "agrregate_evaluate results list length is  5\n",
      "server round is  20\n",
      "loss is  0.48066298342541436\n"
     ]
    },
    {
     "name": "stderr",
     "output_type": "stream",
     "text": [
      "DEBUG flwr 2023-08-29 09:03:37,478 | server.py:236 | fit_round 21 received 5 results and 0 failures\n",
      "DEBUG flwr 2023-08-29 09:03:37,606 | server.py:173 | evaluate_round 21: strategy sampled 5 clients (out of 10)\n"
     ]
    },
    {
     "name": "stdout",
     "output_type": "stream",
     "text": [
      "agrregate_fit results list length is  5\n",
      "Saving round 21 aggregated_parameters...\n"
     ]
    },
    {
     "name": "stderr",
     "output_type": "stream",
     "text": [
      "DEBUG flwr 2023-08-29 09:03:38,082 | server.py:187 | evaluate_round 21 received 5 results and 0 failures\n",
      "DEBUG flwr 2023-08-29 09:03:38,083 | server.py:222 | fit_round 22: strategy sampled 5 clients (out of 10)\n"
     ]
    },
    {
     "name": "stdout",
     "output_type": "stream",
     "text": [
      "agrregate_evaluate results list length is  5\n",
      "server round is  21\n",
      "loss is  0.5138121546961326\n"
     ]
    },
    {
     "name": "stderr",
     "output_type": "stream",
     "text": [
      "DEBUG flwr 2023-08-29 09:03:39,695 | server.py:236 | fit_round 22 received 5 results and 0 failures\n",
      "DEBUG flwr 2023-08-29 09:03:39,824 | server.py:173 | evaluate_round 22: strategy sampled 5 clients (out of 10)\n"
     ]
    },
    {
     "name": "stdout",
     "output_type": "stream",
     "text": [
      "agrregate_fit results list length is  5\n",
      "Saving round 22 aggregated_parameters...\n"
     ]
    },
    {
     "name": "stderr",
     "output_type": "stream",
     "text": [
      "DEBUG flwr 2023-08-29 09:03:40,311 | server.py:187 | evaluate_round 22 received 5 results and 0 failures\n",
      "DEBUG flwr 2023-08-29 09:03:40,312 | server.py:222 | fit_round 23: strategy sampled 5 clients (out of 10)\n"
     ]
    },
    {
     "name": "stdout",
     "output_type": "stream",
     "text": [
      "agrregate_evaluate results list length is  5\n",
      "server round is  22\n",
      "loss is  0.5138121546961326\n"
     ]
    },
    {
     "name": "stderr",
     "output_type": "stream",
     "text": [
      "DEBUG flwr 2023-08-29 09:03:58,150 | server.py:236 | fit_round 23 received 5 results and 0 failures\n",
      "DEBUG flwr 2023-08-29 09:03:58,259 | server.py:173 | evaluate_round 23: strategy sampled 5 clients (out of 10)\n"
     ]
    },
    {
     "name": "stdout",
     "output_type": "stream",
     "text": [
      "agrregate_fit results list length is  5\n",
      "Saving round 23 aggregated_parameters...\n"
     ]
    },
    {
     "name": "stderr",
     "output_type": "stream",
     "text": [
      "DEBUG flwr 2023-08-29 09:03:58,705 | server.py:187 | evaluate_round 23 received 5 results and 0 failures\n",
      "DEBUG flwr 2023-08-29 09:03:58,706 | server.py:222 | fit_round 24: strategy sampled 5 clients (out of 10)\n"
     ]
    },
    {
     "name": "stdout",
     "output_type": "stream",
     "text": [
      "agrregate_evaluate results list length is  5\n",
      "server round is  23\n",
      "loss is  0.4861878453038674\n"
     ]
    },
    {
     "name": "stderr",
     "output_type": "stream",
     "text": [
      "DEBUG flwr 2023-08-29 09:04:16,586 | server.py:236 | fit_round 24 received 5 results and 0 failures\n",
      "DEBUG flwr 2023-08-29 09:04:16,687 | server.py:173 | evaluate_round 24: strategy sampled 5 clients (out of 10)\n"
     ]
    },
    {
     "name": "stdout",
     "output_type": "stream",
     "text": [
      "agrregate_fit results list length is  5\n",
      "Saving round 24 aggregated_parameters...\n"
     ]
    },
    {
     "name": "stderr",
     "output_type": "stream",
     "text": [
      "DEBUG flwr 2023-08-29 09:04:17,076 | server.py:187 | evaluate_round 24 received 5 results and 0 failures\n",
      "DEBUG flwr 2023-08-29 09:04:17,079 | server.py:222 | fit_round 25: strategy sampled 5 clients (out of 10)\n"
     ]
    },
    {
     "name": "stdout",
     "output_type": "stream",
     "text": [
      "agrregate_evaluate results list length is  5\n",
      "server round is  24\n",
      "loss is  0.5856353591160219\n"
     ]
    },
    {
     "name": "stderr",
     "output_type": "stream",
     "text": [
      "DEBUG flwr 2023-08-29 09:04:18,698 | server.py:236 | fit_round 25 received 5 results and 0 failures\n",
      "DEBUG flwr 2023-08-29 09:04:18,826 | server.py:173 | evaluate_round 25: strategy sampled 5 clients (out of 10)\n"
     ]
    },
    {
     "name": "stdout",
     "output_type": "stream",
     "text": [
      "agrregate_fit results list length is  5\n",
      "Saving round 25 aggregated_parameters...\n"
     ]
    },
    {
     "name": "stderr",
     "output_type": "stream",
     "text": [
      "DEBUG flwr 2023-08-29 09:04:19,296 | server.py:187 | evaluate_round 25 received 5 results and 0 failures\n",
      "DEBUG flwr 2023-08-29 09:04:19,297 | server.py:222 | fit_round 26: strategy sampled 5 clients (out of 10)\n"
     ]
    },
    {
     "name": "stdout",
     "output_type": "stream",
     "text": [
      "agrregate_evaluate results list length is  5\n",
      "server round is  25\n",
      "loss is  0.4696132596685083\n"
     ]
    },
    {
     "name": "stderr",
     "output_type": "stream",
     "text": [
      "DEBUG flwr 2023-08-29 09:04:20,931 | server.py:236 | fit_round 26 received 5 results and 0 failures\n",
      "DEBUG flwr 2023-08-29 09:04:21,071 | server.py:173 | evaluate_round 26: strategy sampled 5 clients (out of 10)\n"
     ]
    },
    {
     "name": "stdout",
     "output_type": "stream",
     "text": [
      "agrregate_fit results list length is  5\n",
      "Saving round 26 aggregated_parameters...\n"
     ]
    },
    {
     "name": "stderr",
     "output_type": "stream",
     "text": [
      "DEBUG flwr 2023-08-29 09:04:21,532 | server.py:187 | evaluate_round 26 received 5 results and 0 failures\n",
      "DEBUG flwr 2023-08-29 09:04:21,533 | server.py:222 | fit_round 27: strategy sampled 5 clients (out of 10)\n"
     ]
    },
    {
     "name": "stdout",
     "output_type": "stream",
     "text": [
      "agrregate_evaluate results list length is  5\n",
      "server round is  26\n",
      "loss is  0.49171270718232046\n"
     ]
    },
    {
     "name": "stderr",
     "output_type": "stream",
     "text": [
      "DEBUG flwr 2023-08-29 09:04:39,688 | server.py:236 | fit_round 27 received 5 results and 0 failures\n",
      "DEBUG flwr 2023-08-29 09:04:39,784 | server.py:173 | evaluate_round 27: strategy sampled 5 clients (out of 10)\n"
     ]
    },
    {
     "name": "stdout",
     "output_type": "stream",
     "text": [
      "agrregate_fit results list length is  5\n",
      "Saving round 27 aggregated_parameters...\n"
     ]
    },
    {
     "name": "stderr",
     "output_type": "stream",
     "text": [
      "DEBUG flwr 2023-08-29 09:04:40,497 | server.py:187 | evaluate_round 27 received 5 results and 0 failures\n",
      "DEBUG flwr 2023-08-29 09:04:40,499 | server.py:222 | fit_round 28: strategy sampled 5 clients (out of 10)\n"
     ]
    },
    {
     "name": "stdout",
     "output_type": "stream",
     "text": [
      "agrregate_evaluate results list length is  5\n",
      "server round is  27\n",
      "loss is  0.5027624309392266\n"
     ]
    },
    {
     "name": "stderr",
     "output_type": "stream",
     "text": [
      "DEBUG flwr 2023-08-29 09:04:42,110 | server.py:236 | fit_round 28 received 5 results and 0 failures\n",
      "DEBUG flwr 2023-08-29 09:04:42,244 | server.py:173 | evaluate_round 28: strategy sampled 5 clients (out of 10)\n"
     ]
    },
    {
     "name": "stdout",
     "output_type": "stream",
     "text": [
      "agrregate_fit results list length is  5\n",
      "Saving round 28 aggregated_parameters...\n"
     ]
    },
    {
     "name": "stderr",
     "output_type": "stream",
     "text": [
      "DEBUG flwr 2023-08-29 09:04:42,698 | server.py:187 | evaluate_round 28 received 5 results and 0 failures\n",
      "DEBUG flwr 2023-08-29 09:04:42,701 | server.py:222 | fit_round 29: strategy sampled 5 clients (out of 10)\n"
     ]
    },
    {
     "name": "stdout",
     "output_type": "stream",
     "text": [
      "agrregate_evaluate results list length is  5\n",
      "server round is  28\n",
      "loss is  0.4530386740331492\n"
     ]
    },
    {
     "name": "stderr",
     "output_type": "stream",
     "text": [
      "DEBUG flwr 2023-08-29 09:05:00,440 | server.py:236 | fit_round 29 received 5 results and 0 failures\n",
      "DEBUG flwr 2023-08-29 09:05:00,548 | server.py:173 | evaluate_round 29: strategy sampled 5 clients (out of 10)\n"
     ]
    },
    {
     "name": "stdout",
     "output_type": "stream",
     "text": [
      "agrregate_fit results list length is  5\n",
      "Saving round 29 aggregated_parameters...\n"
     ]
    },
    {
     "name": "stderr",
     "output_type": "stream",
     "text": [
      "DEBUG flwr 2023-08-29 09:05:00,993 | server.py:187 | evaluate_round 29 received 5 results and 0 failures\n",
      "DEBUG flwr 2023-08-29 09:05:00,994 | server.py:222 | fit_round 30: strategy sampled 5 clients (out of 10)\n"
     ]
    },
    {
     "name": "stdout",
     "output_type": "stream",
     "text": [
      "agrregate_evaluate results list length is  5\n",
      "server round is  29\n",
      "loss is  0.4696132596685083\n"
     ]
    },
    {
     "name": "stderr",
     "output_type": "stream",
     "text": [
      "DEBUG flwr 2023-08-29 09:05:02,762 | server.py:236 | fit_round 30 received 5 results and 0 failures\n",
      "DEBUG flwr 2023-08-29 09:05:02,890 | server.py:173 | evaluate_round 30: strategy sampled 5 clients (out of 10)\n"
     ]
    },
    {
     "name": "stdout",
     "output_type": "stream",
     "text": [
      "agrregate_fit results list length is  5\n",
      "Saving round 30 aggregated_parameters...\n"
     ]
    },
    {
     "name": "stderr",
     "output_type": "stream",
     "text": [
      "DEBUG flwr 2023-08-29 09:05:03,394 | server.py:187 | evaluate_round 30 received 5 results and 0 failures\n",
      "DEBUG flwr 2023-08-29 09:05:03,396 | server.py:222 | fit_round 31: strategy sampled 5 clients (out of 10)\n"
     ]
    },
    {
     "name": "stdout",
     "output_type": "stream",
     "text": [
      "agrregate_evaluate results list length is  5\n",
      "server round is  30\n",
      "loss is  0.4696132596685083\n"
     ]
    },
    {
     "name": "stderr",
     "output_type": "stream",
     "text": [
      "DEBUG flwr 2023-08-29 09:05:21,179 | server.py:236 | fit_round 31 received 5 results and 0 failures\n",
      "DEBUG flwr 2023-08-29 09:05:21,279 | server.py:173 | evaluate_round 31: strategy sampled 5 clients (out of 10)\n"
     ]
    },
    {
     "name": "stdout",
     "output_type": "stream",
     "text": [
      "agrregate_fit results list length is  5\n",
      "Saving round 31 aggregated_parameters...\n"
     ]
    },
    {
     "name": "stderr",
     "output_type": "stream",
     "text": [
      "DEBUG flwr 2023-08-29 09:05:21,693 | server.py:187 | evaluate_round 31 received 5 results and 0 failures\n",
      "DEBUG flwr 2023-08-29 09:05:21,695 | server.py:222 | fit_round 32: strategy sampled 5 clients (out of 10)\n"
     ]
    },
    {
     "name": "stdout",
     "output_type": "stream",
     "text": [
      "agrregate_evaluate results list length is  5\n",
      "server round is  31\n",
      "loss is  0.425414364640884\n"
     ]
    },
    {
     "name": "stderr",
     "output_type": "stream",
     "text": [
      "DEBUG flwr 2023-08-29 09:05:39,850 | server.py:236 | fit_round 32 received 5 results and 0 failures\n",
      "DEBUG flwr 2023-08-29 09:05:39,959 | server.py:173 | evaluate_round 32: strategy sampled 5 clients (out of 10)\n"
     ]
    },
    {
     "name": "stdout",
     "output_type": "stream",
     "text": [
      "agrregate_fit results list length is  5\n",
      "Saving round 32 aggregated_parameters...\n"
     ]
    },
    {
     "name": "stderr",
     "output_type": "stream",
     "text": [
      "DEBUG flwr 2023-08-29 09:05:40,443 | server.py:187 | evaluate_round 32 received 5 results and 0 failures\n",
      "DEBUG flwr 2023-08-29 09:05:40,446 | server.py:222 | fit_round 33: strategy sampled 5 clients (out of 10)\n"
     ]
    },
    {
     "name": "stdout",
     "output_type": "stream",
     "text": [
      "agrregate_evaluate results list length is  5\n",
      "server round is  32\n",
      "loss is  0.5359116022099447\n"
     ]
    },
    {
     "name": "stderr",
     "output_type": "stream",
     "text": [
      "DEBUG flwr 2023-08-29 09:05:58,566 | server.py:236 | fit_round 33 received 5 results and 0 failures\n",
      "DEBUG flwr 2023-08-29 09:05:58,671 | server.py:173 | evaluate_round 33: strategy sampled 5 clients (out of 10)\n"
     ]
    },
    {
     "name": "stdout",
     "output_type": "stream",
     "text": [
      "agrregate_fit results list length is  5\n",
      "Saving round 33 aggregated_parameters...\n"
     ]
    },
    {
     "name": "stderr",
     "output_type": "stream",
     "text": [
      "DEBUG flwr 2023-08-29 09:05:59,114 | server.py:187 | evaluate_round 33 received 5 results and 0 failures\n",
      "DEBUG flwr 2023-08-29 09:05:59,115 | server.py:222 | fit_round 34: strategy sampled 5 clients (out of 10)\n"
     ]
    },
    {
     "name": "stdout",
     "output_type": "stream",
     "text": [
      "agrregate_evaluate results list length is  5\n",
      "server round is  33\n",
      "loss is  0.4530386740331492\n"
     ]
    },
    {
     "name": "stderr",
     "output_type": "stream",
     "text": [
      "DEBUG flwr 2023-08-29 09:06:17,072 | server.py:236 | fit_round 34 received 5 results and 0 failures\n",
      "DEBUG flwr 2023-08-29 09:06:17,176 | server.py:173 | evaluate_round 34: strategy sampled 5 clients (out of 10)\n"
     ]
    },
    {
     "name": "stdout",
     "output_type": "stream",
     "text": [
      "agrregate_fit results list length is  5\n",
      "Saving round 34 aggregated_parameters...\n"
     ]
    },
    {
     "name": "stderr",
     "output_type": "stream",
     "text": [
      "DEBUG flwr 2023-08-29 09:06:17,575 | server.py:187 | evaluate_round 34 received 5 results and 0 failures\n",
      "DEBUG flwr 2023-08-29 09:06:17,576 | server.py:222 | fit_round 35: strategy sampled 5 clients (out of 10)\n"
     ]
    },
    {
     "name": "stdout",
     "output_type": "stream",
     "text": [
      "agrregate_evaluate results list length is  5\n",
      "server round is  34\n",
      "loss is  0.46408839779005523\n"
     ]
    },
    {
     "name": "stderr",
     "output_type": "stream",
     "text": [
      "DEBUG flwr 2023-08-29 09:06:19,146 | server.py:236 | fit_round 35 received 5 results and 0 failures\n",
      "DEBUG flwr 2023-08-29 09:06:19,289 | server.py:173 | evaluate_round 35: strategy sampled 5 clients (out of 10)\n"
     ]
    },
    {
     "name": "stdout",
     "output_type": "stream",
     "text": [
      "agrregate_fit results list length is  5\n",
      "Saving round 35 aggregated_parameters...\n"
     ]
    },
    {
     "name": "stderr",
     "output_type": "stream",
     "text": [
      "DEBUG flwr 2023-08-29 09:06:19,778 | server.py:187 | evaluate_round 35 received 5 results and 0 failures\n",
      "DEBUG flwr 2023-08-29 09:06:19,779 | server.py:222 | fit_round 36: strategy sampled 5 clients (out of 10)\n"
     ]
    },
    {
     "name": "stdout",
     "output_type": "stream",
     "text": [
      "agrregate_evaluate results list length is  5\n",
      "server round is  35\n",
      "loss is  0.5303867403314917\n"
     ]
    },
    {
     "name": "stderr",
     "output_type": "stream",
     "text": [
      "DEBUG flwr 2023-08-29 09:06:38,367 | server.py:236 | fit_round 36 received 5 results and 0 failures\n",
      "DEBUG flwr 2023-08-29 09:06:38,473 | server.py:173 | evaluate_round 36: strategy sampled 5 clients (out of 10)\n"
     ]
    },
    {
     "name": "stdout",
     "output_type": "stream",
     "text": [
      "agrregate_fit results list length is  5\n",
      "Saving round 36 aggregated_parameters...\n"
     ]
    },
    {
     "name": "stderr",
     "output_type": "stream",
     "text": [
      "DEBUG flwr 2023-08-29 09:06:38,881 | server.py:187 | evaluate_round 36 received 5 results and 0 failures\n",
      "DEBUG flwr 2023-08-29 09:06:38,883 | server.py:222 | fit_round 37: strategy sampled 5 clients (out of 10)\n"
     ]
    },
    {
     "name": "stdout",
     "output_type": "stream",
     "text": [
      "agrregate_evaluate results list length is  5\n",
      "server round is  36\n",
      "loss is  0.48066298342541436\n"
     ]
    },
    {
     "name": "stderr",
     "output_type": "stream",
     "text": [
      "DEBUG flwr 2023-08-29 09:06:57,306 | server.py:236 | fit_round 37 received 5 results and 0 failures\n",
      "DEBUG flwr 2023-08-29 09:06:57,407 | server.py:173 | evaluate_round 37: strategy sampled 5 clients (out of 10)\n"
     ]
    },
    {
     "name": "stdout",
     "output_type": "stream",
     "text": [
      "agrregate_fit results list length is  5\n",
      "Saving round 37 aggregated_parameters...\n"
     ]
    },
    {
     "name": "stderr",
     "output_type": "stream",
     "text": [
      "DEBUG flwr 2023-08-29 09:06:57,801 | server.py:187 | evaluate_round 37 received 5 results and 0 failures\n",
      "DEBUG flwr 2023-08-29 09:06:57,802 | server.py:222 | fit_round 38: strategy sampled 5 clients (out of 10)\n"
     ]
    },
    {
     "name": "stdout",
     "output_type": "stream",
     "text": [
      "agrregate_evaluate results list length is  5\n",
      "server round is  37\n",
      "loss is  0.5580110497237569\n"
     ]
    },
    {
     "name": "stderr",
     "output_type": "stream",
     "text": [
      "DEBUG flwr 2023-08-29 09:06:59,432 | server.py:236 | fit_round 38 received 5 results and 0 failures\n",
      "DEBUG flwr 2023-08-29 09:06:59,560 | server.py:173 | evaluate_round 38: strategy sampled 5 clients (out of 10)\n"
     ]
    },
    {
     "name": "stdout",
     "output_type": "stream",
     "text": [
      "agrregate_fit results list length is  5\n",
      "Saving round 38 aggregated_parameters...\n"
     ]
    },
    {
     "name": "stderr",
     "output_type": "stream",
     "text": [
      "DEBUG flwr 2023-08-29 09:07:00,075 | server.py:187 | evaluate_round 38 received 5 results and 0 failures\n",
      "DEBUG flwr 2023-08-29 09:07:00,077 | server.py:222 | fit_round 39: strategy sampled 5 clients (out of 10)\n"
     ]
    },
    {
     "name": "stdout",
     "output_type": "stream",
     "text": [
      "agrregate_evaluate results list length is  5\n",
      "server round is  38\n",
      "loss is  0.4861878453038674\n"
     ]
    },
    {
     "name": "stderr",
     "output_type": "stream",
     "text": [
      "DEBUG flwr 2023-08-29 09:07:18,073 | server.py:236 | fit_round 39 received 5 results and 0 failures\n",
      "DEBUG flwr 2023-08-29 09:07:18,184 | server.py:173 | evaluate_round 39: strategy sampled 5 clients (out of 10)\n"
     ]
    },
    {
     "name": "stdout",
     "output_type": "stream",
     "text": [
      "agrregate_fit results list length is  5\n",
      "Saving round 39 aggregated_parameters...\n"
     ]
    },
    {
     "name": "stderr",
     "output_type": "stream",
     "text": [
      "DEBUG flwr 2023-08-29 09:07:18,624 | server.py:187 | evaluate_round 39 received 5 results and 0 failures\n",
      "DEBUG flwr 2023-08-29 09:07:18,625 | server.py:222 | fit_round 40: strategy sampled 5 clients (out of 10)\n"
     ]
    },
    {
     "name": "stdout",
     "output_type": "stream",
     "text": [
      "agrregate_evaluate results list length is  5\n",
      "server round is  39\n",
      "loss is  0.5082872928176796\n"
     ]
    },
    {
     "name": "stderr",
     "output_type": "stream",
     "text": [
      "DEBUG flwr 2023-08-29 09:07:36,522 | server.py:236 | fit_round 40 received 5 results and 0 failures\n",
      "DEBUG flwr 2023-08-29 09:07:36,641 | server.py:173 | evaluate_round 40: strategy sampled 5 clients (out of 10)\n"
     ]
    },
    {
     "name": "stdout",
     "output_type": "stream",
     "text": [
      "agrregate_fit results list length is  5\n",
      "Saving round 40 aggregated_parameters...\n"
     ]
    },
    {
     "name": "stderr",
     "output_type": "stream",
     "text": [
      "DEBUG flwr 2023-08-29 09:07:37,039 | server.py:187 | evaluate_round 40 received 5 results and 0 failures\n",
      "INFO flwr 2023-08-29 09:07:37,041 | server.py:153 | FL finished in 388.16618129999915\n",
      "INFO flwr 2023-08-29 09:07:37,045 | app.py:225 | app_fit: losses_distributed [(1, 1.7513812154696133), (2, 0.7790055248618785), (3, 0.9116022099447514), (4, 0.7900552486187845), (5, 0.8950276243093923), (6, 1.0), (7, 0.9337016574585635), (8, 0.9337016574585635), (9, 0.8397790055248618), (10, 0.7403314917127072), (11, 0.7237569060773481), (12, 0.7900552486187845), (13, 0.4861878453038674), (14, 0.6574585635359116), (15, 0.5966850828729282), (16, 0.5138121546961326), (17, 0.5248618784530387), (18, 0.4861878453038674), (19, 0.4585635359116022), (20, 0.48066298342541436), (21, 0.5138121546961326), (22, 0.5138121546961326), (23, 0.4861878453038674), (24, 0.5856353591160219), (25, 0.4696132596685083), (26, 0.49171270718232046), (27, 0.5027624309392266), (28, 0.4530386740331492), (29, 0.4696132596685083), (30, 0.4696132596685083), (31, 0.425414364640884), (32, 0.5359116022099447), (33, 0.4530386740331492), (34, 0.46408839779005523), (35, 0.5303867403314917), (36, 0.48066298342541436), (37, 0.5580110497237569), (38, 0.4861878453038674), (39, 0.5082872928176796), (40, 0.5027624309392266)]\n",
      "INFO flwr 2023-08-29 09:07:37,046 | app.py:226 | app_fit: metrics_distributed_fit {}\n",
      "INFO flwr 2023-08-29 09:07:37,047 | app.py:227 | app_fit: metrics_distributed {'mse': [(1, 8.756906077348066), (2, 3.8950276243093924), (3, 4.558011049723757), (4, 3.9502762430939224), (5, 4.475138121546961), (6, 5.0), (7, 4.668508287292817), (8, 4.668508287292817), (9, 4.198895027624309), (10, 3.701657458563536), (11, 3.6187845303867405), (12, 3.9502762430939224), (13, 2.430939226519337), (14, 3.2872928176795577), (15, 2.983425414364641), (16, 2.569060773480663), (17, 2.6243093922651934), (18, 2.430939226519337), (19, 2.292817679558011), (20, 2.403314917127072), (21, 2.569060773480663), (22, 2.569060773480663), (23, 2.430939226519337), (24, 2.9281767955801103), (25, 2.3480662983425415), (26, 2.4585635359116025), (27, 2.513812154696133), (28, 2.265193370165746), (29, 2.3480662983425415), (30, 2.3480662983425415), (31, 2.12707182320442), (32, 2.6795580110497235), (33, 2.265193370165746), (34, 2.320441988950276), (35, 2.6519337016574585), (36, 2.403314917127072), (37, 2.790055248618785), (38, 2.430939226519337), (39, 2.541436464088398), (40, 2.513812154696133)]}\n",
      "INFO flwr 2023-08-29 09:07:37,048 | app.py:228 | app_fit: losses_centralized []\n",
      "INFO flwr 2023-08-29 09:07:37,048 | app.py:229 | app_fit: metrics_centralized {}\n",
      "C:\\Users\\Shuyao\\AppData\\Local\\Temp\\ipykernel_11996\\3421847257.py:35: UserWarning: To copy construct from a tensor, it is recommended to use sourceTensor.clone().detach() or sourceTensor.clone().detach().requires_grad_(True), rather than torch.tensor(sourceTensor).\n",
      "  y_train = torch.reshape(torch.tensor(y_train), (-1, 1))\n",
      "C:\\Users\\Shuyao\\AppData\\Local\\Temp\\ipykernel_11996\\3421847257.py:36: UserWarning: To copy construct from a tensor, it is recommended to use sourceTensor.clone().detach() or sourceTensor.clone().detach().requires_grad_(True), rather than torch.tensor(sourceTensor).\n",
      "  y_test = torch.reshape(torch.tensor(y_test), (-1, 1))\n"
     ]
    },
    {
     "name": "stdout",
     "output_type": "stream",
     "text": [
      "agrregate_evaluate results list length is  5\n",
      "server round is  40\n",
      "loss is  0.5027624309392266\n",
      "History (loss, distributed):\n",
      "\tround 1: 1.7513812154696133\n",
      "\tround 2: 0.7790055248618785\n",
      "\tround 3: 0.9116022099447514\n",
      "\tround 4: 0.7900552486187845\n",
      "\tround 5: 0.8950276243093923\n",
      "\tround 6: 1.0\n",
      "\tround 7: 0.9337016574585635\n",
      "\tround 8: 0.9337016574585635\n",
      "\tround 9: 0.8397790055248618\n",
      "\tround 10: 0.7403314917127072\n",
      "\tround 11: 0.7237569060773481\n",
      "\tround 12: 0.7900552486187845\n",
      "\tround 13: 0.4861878453038674\n",
      "\tround 14: 0.6574585635359116\n",
      "\tround 15: 0.5966850828729282\n",
      "\tround 16: 0.5138121546961326\n",
      "\tround 17: 0.5248618784530387\n",
      "\tround 18: 0.4861878453038674\n",
      "\tround 19: 0.4585635359116022\n",
      "\tround 20: 0.48066298342541436\n",
      "\tround 21: 0.5138121546961326\n",
      "\tround 22: 0.5138121546961326\n",
      "\tround 23: 0.4861878453038674\n",
      "\tround 24: 0.5856353591160219\n",
      "\tround 25: 0.4696132596685083\n",
      "\tround 26: 0.49171270718232046\n",
      "\tround 27: 0.5027624309392266\n",
      "\tround 28: 0.4530386740331492\n",
      "\tround 29: 0.4696132596685083\n",
      "\tround 30: 0.4696132596685083\n",
      "\tround 31: 0.425414364640884\n",
      "\tround 32: 0.5359116022099447\n",
      "\tround 33: 0.4530386740331492\n",
      "\tround 34: 0.46408839779005523\n",
      "\tround 35: 0.5303867403314917\n",
      "\tround 36: 0.48066298342541436\n",
      "\tround 37: 0.5580110497237569\n",
      "\tround 38: 0.4861878453038674\n",
      "\tround 39: 0.5082872928176796\n",
      "\tround 40: 0.5027624309392266\n",
      "History (metrics, distributed, evaluate):\n",
      "{'mse': [(1, 8.756906077348066), (2, 3.8950276243093924), (3, 4.558011049723757), (4, 3.9502762430939224), (5, 4.475138121546961), (6, 5.0), (7, 4.668508287292817), (8, 4.668508287292817), (9, 4.198895027624309), (10, 3.701657458563536), (11, 3.6187845303867405), (12, 3.9502762430939224), (13, 2.430939226519337), (14, 3.2872928176795577), (15, 2.983425414364641), (16, 2.569060773480663), (17, 2.6243093922651934), (18, 2.430939226519337), (19, 2.292817679558011), (20, 2.403314917127072), (21, 2.569060773480663), (22, 2.569060773480663), (23, 2.430939226519337), (24, 2.9281767955801103), (25, 2.3480662983425415), (26, 2.4585635359116025), (27, 2.513812154696133), (28, 2.265193370165746), (29, 2.3480662983425415), (30, 2.3480662983425415), (31, 2.12707182320442), (32, 2.6795580110497235), (33, 2.265193370165746), (34, 2.320441988950276), (35, 2.6519337016574585), (36, 2.403314917127072), (37, 2.790055248618785), (38, 2.430939226519337), (39, 2.541436464088398), (40, 2.513812154696133)]}\n",
      "[(1, 1.7513812154696133), (2, 0.7790055248618785), (3, 0.9116022099447514), (4, 0.7900552486187845), (5, 0.8950276243093923), (6, 1.0), (7, 0.9337016574585635), (8, 0.9337016574585635), (9, 0.8397790055248618), (10, 0.7403314917127072), (11, 0.7237569060773481), (12, 0.7900552486187845), (13, 0.4861878453038674), (14, 0.6574585635359116), (15, 0.5966850828729282), (16, 0.5138121546961326), (17, 0.5248618784530387), (18, 0.4861878453038674), (19, 0.4585635359116022), (20, 0.48066298342541436), (21, 0.5138121546961326), (22, 0.5138121546961326), (23, 0.4861878453038674), (24, 0.5856353591160219), (25, 0.4696132596685083), (26, 0.49171270718232046), (27, 0.5027624309392266), (28, 0.4530386740331492), (29, 0.4696132596685083), (30, 0.4696132596685083), (31, 0.425414364640884), (32, 0.5359116022099447), (33, 0.4530386740331492), (34, 0.46408839779005523), (35, 0.5303867403314917), (36, 0.48066298342541436), (37, 0.5580110497237569), (38, 0.4861878453038674), (39, 0.5082872928176796), (40, 0.5027624309392266)]\n",
      "Fold 2:\n",
      "Client 0 trainset shape torch.Size([581, 3, 23])\n"
     ]
    },
    {
     "name": "stderr",
     "output_type": "stream",
     "text": [
      "INFO flwr 2023-08-29 09:07:37,287 | app.py:145 | Starting Flower simulation, config: ServerConfig(num_rounds=40, round_timeout=None)\n"
     ]
    },
    {
     "name": "stdout",
     "output_type": "stream",
     "text": [
      "Client 1 trainset shape torch.Size([14, 3, 23])\n",
      "Client 2 trainset shape torch.Size([14, 3, 23])\n",
      "Client 3 trainset shape torch.Size([14, 3, 23])\n",
      "Client 4 trainset shape torch.Size([14, 3, 23])\n",
      "Client 5 trainset shape torch.Size([14, 3, 23])\n",
      "Client 6 trainset shape torch.Size([14, 3, 23])\n",
      "Client 7 trainset shape torch.Size([14, 3, 23])\n",
      "Client 8 trainset shape torch.Size([14, 3, 23])\n",
      "Client 9 trainset shape torch.Size([14, 3, 23])\n"
     ]
    },
    {
     "name": "stderr",
     "output_type": "stream",
     "text": [
      "2023-08-29 09:07:45,062\tINFO worker.py:1627 -- Started a local Ray instance. View the dashboard at \u001B[1m\u001B[32m127.0.0.1:8265 \u001B[39m\u001B[22m\n",
      "INFO flwr 2023-08-29 09:07:49,955 | app.py:179 | Flower VCE: Ray initialized with resources: {'CPU': 8.0, 'node:127.0.0.1': 1.0, 'object_store_memory': 1503313920.0, 'memory': 3006627840.0, 'GPU': 1.0}\n",
      "INFO flwr 2023-08-29 09:07:49,957 | server.py:89 | Initializing global parameters\n",
      "INFO flwr 2023-08-29 09:07:49,958 | server.py:276 | Requesting initial parameters from one random client\n",
      "INFO flwr 2023-08-29 09:07:52,950 | server.py:280 | Received initial parameters from one random client\n",
      "INFO flwr 2023-08-29 09:07:52,951 | server.py:91 | Evaluating initial parameters\n",
      "INFO flwr 2023-08-29 09:07:52,952 | server.py:104 | FL starting\n",
      "DEBUG flwr 2023-08-29 09:07:52,952 | server.py:222 | fit_round 1: strategy sampled 5 clients (out of 10)\n",
      "DEBUG flwr 2023-08-29 09:08:14,919 | server.py:236 | fit_round 1 received 5 results and 0 failures\n",
      "WARNING flwr 2023-08-29 09:08:14,990 | fedavg.py:242 | No fit_metrics_aggregation_fn provided\n",
      "DEBUG flwr 2023-08-29 09:08:15,024 | server.py:173 | evaluate_round 1: strategy sampled 5 clients (out of 10)\n"
     ]
    },
    {
     "name": "stdout",
     "output_type": "stream",
     "text": [
      "agrregate_fit results list length is  5\n",
      "Saving round 1 aggregated_parameters...\n"
     ]
    },
    {
     "name": "stderr",
     "output_type": "stream",
     "text": [
      "DEBUG flwr 2023-08-29 09:08:15,419 | server.py:187 | evaluate_round 1 received 5 results and 0 failures\n",
      "DEBUG flwr 2023-08-29 09:08:15,420 | server.py:222 | fit_round 2: strategy sampled 5 clients (out of 10)\n"
     ]
    },
    {
     "name": "stdout",
     "output_type": "stream",
     "text": [
      "agrregate_evaluate results list length is  5\n",
      "server round is  1\n",
      "loss is  2.677777777777777\n"
     ]
    },
    {
     "name": "stderr",
     "output_type": "stream",
     "text": [
      "DEBUG flwr 2023-08-29 09:08:17,109 | server.py:236 | fit_round 2 received 5 results and 0 failures\n",
      "DEBUG flwr 2023-08-29 09:08:17,263 | server.py:173 | evaluate_round 2: strategy sampled 5 clients (out of 10)\n"
     ]
    },
    {
     "name": "stdout",
     "output_type": "stream",
     "text": [
      "agrregate_fit results list length is  5\n",
      "Saving round 2 aggregated_parameters...\n"
     ]
    },
    {
     "name": "stderr",
     "output_type": "stream",
     "text": [
      "DEBUG flwr 2023-08-29 09:08:17,705 | server.py:187 | evaluate_round 2 received 5 results and 0 failures\n",
      "DEBUG flwr 2023-08-29 09:08:17,707 | server.py:222 | fit_round 3: strategy sampled 5 clients (out of 10)\n"
     ]
    },
    {
     "name": "stdout",
     "output_type": "stream",
     "text": [
      "agrregate_evaluate results list length is  5\n",
      "server round is  2\n",
      "loss is  2.3777777777777778\n"
     ]
    },
    {
     "name": "stderr",
     "output_type": "stream",
     "text": [
      "DEBUG flwr 2023-08-29 09:08:35,524 | server.py:236 | fit_round 3 received 5 results and 0 failures\n",
      "DEBUG flwr 2023-08-29 09:08:35,628 | server.py:173 | evaluate_round 3: strategy sampled 5 clients (out of 10)\n"
     ]
    },
    {
     "name": "stdout",
     "output_type": "stream",
     "text": [
      "agrregate_fit results list length is  5\n",
      "Saving round 3 aggregated_parameters...\n"
     ]
    },
    {
     "name": "stderr",
     "output_type": "stream",
     "text": [
      "DEBUG flwr 2023-08-29 09:08:36,106 | server.py:187 | evaluate_round 3 received 5 results and 0 failures\n",
      "DEBUG flwr 2023-08-29 09:08:36,107 | server.py:222 | fit_round 4: strategy sampled 5 clients (out of 10)\n"
     ]
    },
    {
     "name": "stdout",
     "output_type": "stream",
     "text": [
      "agrregate_evaluate results list length is  5\n",
      "server round is  3\n",
      "loss is  1.1333333333333333\n"
     ]
    },
    {
     "name": "stderr",
     "output_type": "stream",
     "text": [
      "DEBUG flwr 2023-08-29 09:08:54,276 | server.py:236 | fit_round 4 received 5 results and 0 failures\n",
      "DEBUG flwr 2023-08-29 09:08:54,381 | server.py:173 | evaluate_round 4: strategy sampled 5 clients (out of 10)\n"
     ]
    },
    {
     "name": "stdout",
     "output_type": "stream",
     "text": [
      "agrregate_fit results list length is  5\n",
      "Saving round 4 aggregated_parameters...\n"
     ]
    },
    {
     "name": "stderr",
     "output_type": "stream",
     "text": [
      "DEBUG flwr 2023-08-29 09:08:54,852 | server.py:187 | evaluate_round 4 received 5 results and 0 failures\n",
      "DEBUG flwr 2023-08-29 09:08:54,855 | server.py:222 | fit_round 5: strategy sampled 5 clients (out of 10)\n"
     ]
    },
    {
     "name": "stdout",
     "output_type": "stream",
     "text": [
      "agrregate_evaluate results list length is  5\n",
      "server round is  4\n",
      "loss is  1.0777777777777777\n"
     ]
    },
    {
     "name": "stderr",
     "output_type": "stream",
     "text": [
      "DEBUG flwr 2023-08-29 09:08:56,516 | server.py:236 | fit_round 5 received 5 results and 0 failures\n",
      "DEBUG flwr 2023-08-29 09:08:56,647 | server.py:173 | evaluate_round 5: strategy sampled 5 clients (out of 10)\n"
     ]
    },
    {
     "name": "stdout",
     "output_type": "stream",
     "text": [
      "agrregate_fit results list length is  5\n",
      "Saving round 5 aggregated_parameters...\n"
     ]
    },
    {
     "name": "stderr",
     "output_type": "stream",
     "text": [
      "DEBUG flwr 2023-08-29 09:08:57,144 | server.py:187 | evaluate_round 5 received 5 results and 0 failures\n",
      "DEBUG flwr 2023-08-29 09:08:57,146 | server.py:222 | fit_round 6: strategy sampled 5 clients (out of 10)\n"
     ]
    },
    {
     "name": "stdout",
     "output_type": "stream",
     "text": [
      "agrregate_evaluate results list length is  5\n",
      "server round is  5\n",
      "loss is  1.1\n"
     ]
    },
    {
     "name": "stderr",
     "output_type": "stream",
     "text": [
      "DEBUG flwr 2023-08-29 09:09:15,275 | server.py:236 | fit_round 6 received 5 results and 0 failures\n",
      "DEBUG flwr 2023-08-29 09:09:15,383 | server.py:173 | evaluate_round 6: strategy sampled 5 clients (out of 10)\n"
     ]
    },
    {
     "name": "stdout",
     "output_type": "stream",
     "text": [
      "agrregate_fit results list length is  5\n",
      "Saving round 6 aggregated_parameters...\n"
     ]
    },
    {
     "name": "stderr",
     "output_type": "stream",
     "text": [
      "DEBUG flwr 2023-08-29 09:09:15,833 | server.py:187 | evaluate_round 6 received 5 results and 0 failures\n",
      "DEBUG flwr 2023-08-29 09:09:15,835 | server.py:222 | fit_round 7: strategy sampled 5 clients (out of 10)\n"
     ]
    },
    {
     "name": "stdout",
     "output_type": "stream",
     "text": [
      "agrregate_evaluate results list length is  5\n",
      "server round is  6\n",
      "loss is  0.9277777777777778\n"
     ]
    },
    {
     "name": "stderr",
     "output_type": "stream",
     "text": [
      "DEBUG flwr 2023-08-29 09:09:17,524 | server.py:236 | fit_round 7 received 5 results and 0 failures\n",
      "DEBUG flwr 2023-08-29 09:09:17,654 | server.py:173 | evaluate_round 7: strategy sampled 5 clients (out of 10)\n"
     ]
    },
    {
     "name": "stdout",
     "output_type": "stream",
     "text": [
      "agrregate_fit results list length is  5\n",
      "Saving round 7 aggregated_parameters...\n"
     ]
    },
    {
     "name": "stderr",
     "output_type": "stream",
     "text": [
      "DEBUG flwr 2023-08-29 09:09:18,222 | server.py:187 | evaluate_round 7 received 5 results and 0 failures\n",
      "DEBUG flwr 2023-08-29 09:09:18,223 | server.py:222 | fit_round 8: strategy sampled 5 clients (out of 10)\n"
     ]
    },
    {
     "name": "stdout",
     "output_type": "stream",
     "text": [
      "agrregate_evaluate results list length is  5\n",
      "server round is  7\n",
      "loss is  0.8333333333333334\n"
     ]
    },
    {
     "name": "stderr",
     "output_type": "stream",
     "text": [
      "DEBUG flwr 2023-08-29 09:09:19,910 | server.py:236 | fit_round 8 received 5 results and 0 failures\n",
      "DEBUG flwr 2023-08-29 09:09:20,078 | server.py:173 | evaluate_round 8: strategy sampled 5 clients (out of 10)\n"
     ]
    },
    {
     "name": "stdout",
     "output_type": "stream",
     "text": [
      "agrregate_fit results list length is  5\n",
      "Saving round 8 aggregated_parameters...\n"
     ]
    },
    {
     "name": "stderr",
     "output_type": "stream",
     "text": [
      "DEBUG flwr 2023-08-29 09:09:20,659 | server.py:187 | evaluate_round 8 received 5 results and 0 failures\n",
      "DEBUG flwr 2023-08-29 09:09:20,661 | server.py:222 | fit_round 9: strategy sampled 5 clients (out of 10)\n"
     ]
    },
    {
     "name": "stdout",
     "output_type": "stream",
     "text": [
      "agrregate_evaluate results list length is  5\n",
      "server round is  8\n",
      "loss is  0.9833333333333333\n"
     ]
    },
    {
     "name": "stderr",
     "output_type": "stream",
     "text": [
      "DEBUG flwr 2023-08-29 09:09:38,584 | server.py:236 | fit_round 9 received 5 results and 0 failures\n",
      "DEBUG flwr 2023-08-29 09:09:38,693 | server.py:173 | evaluate_round 9: strategy sampled 5 clients (out of 10)\n"
     ]
    },
    {
     "name": "stdout",
     "output_type": "stream",
     "text": [
      "agrregate_fit results list length is  5\n",
      "Saving round 9 aggregated_parameters...\n"
     ]
    },
    {
     "name": "stderr",
     "output_type": "stream",
     "text": [
      "DEBUG flwr 2023-08-29 09:09:39,143 | server.py:187 | evaluate_round 9 received 5 results and 0 failures\n",
      "DEBUG flwr 2023-08-29 09:09:39,145 | server.py:222 | fit_round 10: strategy sampled 5 clients (out of 10)\n"
     ]
    },
    {
     "name": "stdout",
     "output_type": "stream",
     "text": [
      "agrregate_evaluate results list length is  5\n",
      "server round is  9\n",
      "loss is  0.7333333333333333\n"
     ]
    },
    {
     "name": "stderr",
     "output_type": "stream",
     "text": [
      "DEBUG flwr 2023-08-29 09:09:57,375 | server.py:236 | fit_round 10 received 5 results and 0 failures\n",
      "DEBUG flwr 2023-08-29 09:09:57,489 | server.py:173 | evaluate_round 10: strategy sampled 5 clients (out of 10)\n"
     ]
    },
    {
     "name": "stdout",
     "output_type": "stream",
     "text": [
      "agrregate_fit results list length is  5\n",
      "Saving round 10 aggregated_parameters...\n"
     ]
    },
    {
     "name": "stderr",
     "output_type": "stream",
     "text": [
      "DEBUG flwr 2023-08-29 09:09:57,947 | server.py:187 | evaluate_round 10 received 5 results and 0 failures\n",
      "DEBUG flwr 2023-08-29 09:09:57,949 | server.py:222 | fit_round 11: strategy sampled 5 clients (out of 10)\n"
     ]
    },
    {
     "name": "stdout",
     "output_type": "stream",
     "text": [
      "agrregate_evaluate results list length is  5\n",
      "server round is  10\n",
      "loss is  0.6944444444444444\n"
     ]
    },
    {
     "name": "stderr",
     "output_type": "stream",
     "text": [
      "DEBUG flwr 2023-08-29 09:09:59,646 | server.py:236 | fit_round 11 received 5 results and 0 failures\n",
      "DEBUG flwr 2023-08-29 09:09:59,793 | server.py:173 | evaluate_round 11: strategy sampled 5 clients (out of 10)\n"
     ]
    },
    {
     "name": "stdout",
     "output_type": "stream",
     "text": [
      "agrregate_fit results list length is  5\n",
      "Saving round 11 aggregated_parameters...\n"
     ]
    },
    {
     "name": "stderr",
     "output_type": "stream",
     "text": [
      "DEBUG flwr 2023-08-29 09:10:00,316 | server.py:187 | evaluate_round 11 received 5 results and 0 failures\n",
      "DEBUG flwr 2023-08-29 09:10:00,318 | server.py:222 | fit_round 12: strategy sampled 5 clients (out of 10)\n"
     ]
    },
    {
     "name": "stdout",
     "output_type": "stream",
     "text": [
      "agrregate_evaluate results list length is  5\n",
      "server round is  11\n",
      "loss is  0.7555555555555555\n"
     ]
    },
    {
     "name": "stderr",
     "output_type": "stream",
     "text": [
      "DEBUG flwr 2023-08-29 09:10:18,112 | server.py:236 | fit_round 12 received 5 results and 0 failures\n",
      "DEBUG flwr 2023-08-29 09:10:18,218 | server.py:173 | evaluate_round 12: strategy sampled 5 clients (out of 10)\n"
     ]
    },
    {
     "name": "stdout",
     "output_type": "stream",
     "text": [
      "agrregate_fit results list length is  5\n",
      "Saving round 12 aggregated_parameters...\n"
     ]
    },
    {
     "name": "stderr",
     "output_type": "stream",
     "text": [
      "DEBUG flwr 2023-08-29 09:10:18,693 | server.py:187 | evaluate_round 12 received 5 results and 0 failures\n",
      "DEBUG flwr 2023-08-29 09:10:18,694 | server.py:222 | fit_round 13: strategy sampled 5 clients (out of 10)\n"
     ]
    },
    {
     "name": "stdout",
     "output_type": "stream",
     "text": [
      "agrregate_evaluate results list length is  5\n",
      "server round is  12\n",
      "loss is  1.0444444444444445\n"
     ]
    },
    {
     "name": "stderr",
     "output_type": "stream",
     "text": [
      "DEBUG flwr 2023-08-29 09:10:36,736 | server.py:236 | fit_round 13 received 5 results and 0 failures\n",
      "DEBUG flwr 2023-08-29 09:10:36,848 | server.py:173 | evaluate_round 13: strategy sampled 5 clients (out of 10)\n"
     ]
    },
    {
     "name": "stdout",
     "output_type": "stream",
     "text": [
      "agrregate_fit results list length is  5\n",
      "Saving round 13 aggregated_parameters...\n"
     ]
    },
    {
     "name": "stderr",
     "output_type": "stream",
     "text": [
      "DEBUG flwr 2023-08-29 09:10:37,318 | server.py:187 | evaluate_round 13 received 5 results and 0 failures\n",
      "DEBUG flwr 2023-08-29 09:10:37,319 | server.py:222 | fit_round 14: strategy sampled 5 clients (out of 10)\n"
     ]
    },
    {
     "name": "stdout",
     "output_type": "stream",
     "text": [
      "agrregate_evaluate results list length is  5\n",
      "server round is  13\n",
      "loss is  0.6888888888888889\n"
     ]
    },
    {
     "name": "stderr",
     "output_type": "stream",
     "text": [
      "DEBUG flwr 2023-08-29 09:10:57,748 | server.py:236 | fit_round 14 received 5 results and 0 failures\n",
      "DEBUG flwr 2023-08-29 09:10:57,852 | server.py:173 | evaluate_round 14: strategy sampled 5 clients (out of 10)\n"
     ]
    },
    {
     "name": "stdout",
     "output_type": "stream",
     "text": [
      "agrregate_fit results list length is  5\n",
      "Saving round 14 aggregated_parameters...\n"
     ]
    },
    {
     "name": "stderr",
     "output_type": "stream",
     "text": [
      "DEBUG flwr 2023-08-29 09:10:58,317 | server.py:187 | evaluate_round 14 received 5 results and 0 failures\n",
      "DEBUG flwr 2023-08-29 09:10:58,318 | server.py:222 | fit_round 15: strategy sampled 5 clients (out of 10)\n"
     ]
    },
    {
     "name": "stdout",
     "output_type": "stream",
     "text": [
      "agrregate_evaluate results list length is  5\n",
      "server round is  14\n",
      "loss is  0.6944444444444444\n"
     ]
    },
    {
     "name": "stderr",
     "output_type": "stream",
     "text": [
      "DEBUG flwr 2023-08-29 09:11:17,743 | server.py:236 | fit_round 15 received 5 results and 0 failures\n",
      "DEBUG flwr 2023-08-29 09:11:17,869 | server.py:173 | evaluate_round 15: strategy sampled 5 clients (out of 10)\n"
     ]
    },
    {
     "name": "stdout",
     "output_type": "stream",
     "text": [
      "agrregate_fit results list length is  5\n",
      "Saving round 15 aggregated_parameters...\n"
     ]
    },
    {
     "name": "stderr",
     "output_type": "stream",
     "text": [
      "DEBUG flwr 2023-08-29 09:11:18,419 | server.py:187 | evaluate_round 15 received 5 results and 0 failures\n",
      "DEBUG flwr 2023-08-29 09:11:18,420 | server.py:222 | fit_round 16: strategy sampled 5 clients (out of 10)\n"
     ]
    },
    {
     "name": "stdout",
     "output_type": "stream",
     "text": [
      "agrregate_evaluate results list length is  5\n",
      "server round is  15\n",
      "loss is  0.6999999999999998\n"
     ]
    },
    {
     "name": "stderr",
     "output_type": "stream",
     "text": [
      "DEBUG flwr 2023-08-29 09:11:20,209 | server.py:236 | fit_round 16 received 5 results and 0 failures\n",
      "DEBUG flwr 2023-08-29 09:11:20,349 | server.py:173 | evaluate_round 16: strategy sampled 5 clients (out of 10)\n"
     ]
    },
    {
     "name": "stdout",
     "output_type": "stream",
     "text": [
      "agrregate_fit results list length is  5\n",
      "Saving round 16 aggregated_parameters...\n"
     ]
    },
    {
     "name": "stderr",
     "output_type": "stream",
     "text": [
      "DEBUG flwr 2023-08-29 09:11:20,792 | server.py:187 | evaluate_round 16 received 5 results and 0 failures\n",
      "DEBUG flwr 2023-08-29 09:11:20,793 | server.py:222 | fit_round 17: strategy sampled 5 clients (out of 10)\n"
     ]
    },
    {
     "name": "stdout",
     "output_type": "stream",
     "text": [
      "agrregate_evaluate results list length is  5\n",
      "server round is  16\n",
      "loss is  0.6833333333333333\n"
     ]
    },
    {
     "name": "stderr",
     "output_type": "stream",
     "text": [
      "DEBUG flwr 2023-08-29 09:11:22,488 | server.py:236 | fit_round 17 received 5 results and 0 failures\n",
      "DEBUG flwr 2023-08-29 09:11:22,631 | server.py:173 | evaluate_round 17: strategy sampled 5 clients (out of 10)\n"
     ]
    },
    {
     "name": "stdout",
     "output_type": "stream",
     "text": [
      "agrregate_fit results list length is  5\n",
      "Saving round 17 aggregated_parameters...\n"
     ]
    },
    {
     "name": "stderr",
     "output_type": "stream",
     "text": [
      "DEBUG flwr 2023-08-29 09:11:23,163 | server.py:187 | evaluate_round 17 received 5 results and 0 failures\n",
      "DEBUG flwr 2023-08-29 09:11:23,165 | server.py:222 | fit_round 18: strategy sampled 5 clients (out of 10)\n"
     ]
    },
    {
     "name": "stdout",
     "output_type": "stream",
     "text": [
      "agrregate_evaluate results list length is  5\n",
      "server round is  17\n",
      "loss is  0.75\n"
     ]
    },
    {
     "name": "stderr",
     "output_type": "stream",
     "text": [
      "DEBUG flwr 2023-08-29 09:11:42,555 | server.py:236 | fit_round 18 received 5 results and 0 failures\n",
      "DEBUG flwr 2023-08-29 09:11:42,673 | server.py:173 | evaluate_round 18: strategy sampled 5 clients (out of 10)\n"
     ]
    },
    {
     "name": "stdout",
     "output_type": "stream",
     "text": [
      "agrregate_fit results list length is  5\n",
      "Saving round 18 aggregated_parameters...\n"
     ]
    },
    {
     "name": "stderr",
     "output_type": "stream",
     "text": [
      "DEBUG flwr 2023-08-29 09:11:43,164 | server.py:187 | evaluate_round 18 received 5 results and 0 failures\n",
      "DEBUG flwr 2023-08-29 09:11:43,166 | server.py:222 | fit_round 19: strategy sampled 5 clients (out of 10)\n"
     ]
    },
    {
     "name": "stdout",
     "output_type": "stream",
     "text": [
      "agrregate_evaluate results list length is  5\n",
      "server round is  18\n",
      "loss is  0.6833333333333333\n"
     ]
    },
    {
     "name": "stderr",
     "output_type": "stream",
     "text": [
      "DEBUG flwr 2023-08-29 09:11:44,864 | server.py:236 | fit_round 19 received 5 results and 0 failures\n",
      "DEBUG flwr 2023-08-29 09:11:45,007 | server.py:173 | evaluate_round 19: strategy sampled 5 clients (out of 10)\n"
     ]
    },
    {
     "name": "stdout",
     "output_type": "stream",
     "text": [
      "agrregate_fit results list length is  5\n",
      "Saving round 19 aggregated_parameters...\n"
     ]
    },
    {
     "name": "stderr",
     "output_type": "stream",
     "text": [
      "DEBUG flwr 2023-08-29 09:11:45,504 | server.py:187 | evaluate_round 19 received 5 results and 0 failures\n",
      "DEBUG flwr 2023-08-29 09:11:45,506 | server.py:222 | fit_round 20: strategy sampled 5 clients (out of 10)\n"
     ]
    },
    {
     "name": "stdout",
     "output_type": "stream",
     "text": [
      "agrregate_evaluate results list length is  5\n",
      "server round is  19\n",
      "loss is  0.6888888888888889\n"
     ]
    },
    {
     "name": "stderr",
     "output_type": "stream",
     "text": [
      "DEBUG flwr 2023-08-29 09:12:03,666 | server.py:236 | fit_round 20 received 5 results and 0 failures\n",
      "DEBUG flwr 2023-08-29 09:12:03,771 | server.py:173 | evaluate_round 20: strategy sampled 5 clients (out of 10)\n"
     ]
    },
    {
     "name": "stdout",
     "output_type": "stream",
     "text": [
      "agrregate_fit results list length is  5\n",
      "Saving round 20 aggregated_parameters...\n"
     ]
    },
    {
     "name": "stderr",
     "output_type": "stream",
     "text": [
      "DEBUG flwr 2023-08-29 09:12:04,204 | server.py:187 | evaluate_round 20 received 5 results and 0 failures\n",
      "DEBUG flwr 2023-08-29 09:12:04,205 | server.py:222 | fit_round 21: strategy sampled 5 clients (out of 10)\n"
     ]
    },
    {
     "name": "stdout",
     "output_type": "stream",
     "text": [
      "agrregate_evaluate results list length is  5\n",
      "server round is  20\n",
      "loss is  0.6833333333333333\n"
     ]
    },
    {
     "name": "stderr",
     "output_type": "stream",
     "text": [
      "DEBUG flwr 2023-08-29 09:12:22,118 | server.py:236 | fit_round 21 received 5 results and 0 failures\n",
      "DEBUG flwr 2023-08-29 09:12:22,267 | server.py:173 | evaluate_round 21: strategy sampled 5 clients (out of 10)\n"
     ]
    },
    {
     "name": "stdout",
     "output_type": "stream",
     "text": [
      "agrregate_fit results list length is  5\n",
      "Saving round 21 aggregated_parameters...\n"
     ]
    },
    {
     "name": "stderr",
     "output_type": "stream",
     "text": [
      "DEBUG flwr 2023-08-29 09:12:22,800 | server.py:187 | evaluate_round 21 received 5 results and 0 failures\n",
      "DEBUG flwr 2023-08-29 09:12:22,802 | server.py:222 | fit_round 22: strategy sampled 5 clients (out of 10)\n"
     ]
    },
    {
     "name": "stdout",
     "output_type": "stream",
     "text": [
      "agrregate_evaluate results list length is  5\n",
      "server round is  21\n",
      "loss is  0.6222222222222222\n"
     ]
    },
    {
     "name": "stderr",
     "output_type": "stream",
     "text": [
      "DEBUG flwr 2023-08-29 09:12:42,426 | server.py:236 | fit_round 22 received 5 results and 0 failures\n",
      "DEBUG flwr 2023-08-29 09:12:42,537 | server.py:173 | evaluate_round 22: strategy sampled 5 clients (out of 10)\n"
     ]
    },
    {
     "name": "stdout",
     "output_type": "stream",
     "text": [
      "agrregate_fit results list length is  5\n",
      "Saving round 22 aggregated_parameters...\n"
     ]
    },
    {
     "name": "stderr",
     "output_type": "stream",
     "text": [
      "DEBUG flwr 2023-08-29 09:12:42,998 | server.py:187 | evaluate_round 22 received 5 results and 0 failures\n",
      "DEBUG flwr 2023-08-29 09:12:42,999 | server.py:222 | fit_round 23: strategy sampled 5 clients (out of 10)\n"
     ]
    },
    {
     "name": "stdout",
     "output_type": "stream",
     "text": [
      "agrregate_evaluate results list length is  5\n",
      "server round is  22\n",
      "loss is  0.6111111111111113\n"
     ]
    },
    {
     "name": "stderr",
     "output_type": "stream",
     "text": [
      "DEBUG flwr 2023-08-29 09:12:44,707 | server.py:236 | fit_round 23 received 5 results and 0 failures\n",
      "DEBUG flwr 2023-08-29 09:12:44,832 | server.py:173 | evaluate_round 23: strategy sampled 5 clients (out of 10)\n"
     ]
    },
    {
     "name": "stdout",
     "output_type": "stream",
     "text": [
      "agrregate_fit results list length is  5\n",
      "Saving round 23 aggregated_parameters...\n"
     ]
    },
    {
     "name": "stderr",
     "output_type": "stream",
     "text": [
      "DEBUG flwr 2023-08-29 09:12:45,338 | server.py:187 | evaluate_round 23 received 5 results and 0 failures\n",
      "DEBUG flwr 2023-08-29 09:12:45,340 | server.py:222 | fit_round 24: strategy sampled 5 clients (out of 10)\n"
     ]
    },
    {
     "name": "stdout",
     "output_type": "stream",
     "text": [
      "agrregate_evaluate results list length is  5\n",
      "server round is  23\n",
      "loss is  0.6\n"
     ]
    },
    {
     "name": "stderr",
     "output_type": "stream",
     "text": [
      "DEBUG flwr 2023-08-29 09:12:47,022 | server.py:236 | fit_round 24 received 5 results and 0 failures\n",
      "DEBUG flwr 2023-08-29 09:12:47,162 | server.py:173 | evaluate_round 24: strategy sampled 5 clients (out of 10)\n"
     ]
    },
    {
     "name": "stdout",
     "output_type": "stream",
     "text": [
      "agrregate_fit results list length is  5\n",
      "Saving round 24 aggregated_parameters...\n"
     ]
    },
    {
     "name": "stderr",
     "output_type": "stream",
     "text": [
      "DEBUG flwr 2023-08-29 09:12:47,661 | server.py:187 | evaluate_round 24 received 5 results and 0 failures\n",
      "DEBUG flwr 2023-08-29 09:12:47,663 | server.py:222 | fit_round 25: strategy sampled 5 clients (out of 10)\n"
     ]
    },
    {
     "name": "stdout",
     "output_type": "stream",
     "text": [
      "agrregate_evaluate results list length is  5\n",
      "server round is  24\n",
      "loss is  0.65\n"
     ]
    },
    {
     "name": "stderr",
     "output_type": "stream",
     "text": [
      "DEBUG flwr 2023-08-29 09:13:05,732 | server.py:236 | fit_round 25 received 5 results and 0 failures\n",
      "DEBUG flwr 2023-08-29 09:13:05,838 | server.py:173 | evaluate_round 25: strategy sampled 5 clients (out of 10)\n"
     ]
    },
    {
     "name": "stdout",
     "output_type": "stream",
     "text": [
      "agrregate_fit results list length is  5\n",
      "Saving round 25 aggregated_parameters...\n"
     ]
    },
    {
     "name": "stderr",
     "output_type": "stream",
     "text": [
      "DEBUG flwr 2023-08-29 09:13:06,313 | server.py:187 | evaluate_round 25 received 5 results and 0 failures\n",
      "DEBUG flwr 2023-08-29 09:13:06,314 | server.py:222 | fit_round 26: strategy sampled 5 clients (out of 10)\n"
     ]
    },
    {
     "name": "stdout",
     "output_type": "stream",
     "text": [
      "agrregate_evaluate results list length is  5\n",
      "server round is  25\n",
      "loss is  0.6111111111111113\n"
     ]
    },
    {
     "name": "stderr",
     "output_type": "stream",
     "text": [
      "DEBUG flwr 2023-08-29 09:13:24,253 | server.py:236 | fit_round 26 received 5 results and 0 failures\n",
      "DEBUG flwr 2023-08-29 09:13:24,365 | server.py:173 | evaluate_round 26: strategy sampled 5 clients (out of 10)\n"
     ]
    },
    {
     "name": "stdout",
     "output_type": "stream",
     "text": [
      "agrregate_fit results list length is  5\n",
      "Saving round 26 aggregated_parameters...\n"
     ]
    },
    {
     "name": "stderr",
     "output_type": "stream",
     "text": [
      "DEBUG flwr 2023-08-29 09:13:24,813 | server.py:187 | evaluate_round 26 received 5 results and 0 failures\n",
      "DEBUG flwr 2023-08-29 09:13:24,814 | server.py:222 | fit_round 27: strategy sampled 5 clients (out of 10)\n"
     ]
    },
    {
     "name": "stdout",
     "output_type": "stream",
     "text": [
      "agrregate_evaluate results list length is  5\n",
      "server round is  26\n",
      "loss is  0.6388888888888887\n"
     ]
    },
    {
     "name": "stderr",
     "output_type": "stream",
     "text": [
      "DEBUG flwr 2023-08-29 09:13:26,481 | server.py:236 | fit_round 27 received 5 results and 0 failures\n",
      "DEBUG flwr 2023-08-29 09:13:26,612 | server.py:173 | evaluate_round 27: strategy sampled 5 clients (out of 10)\n"
     ]
    },
    {
     "name": "stdout",
     "output_type": "stream",
     "text": [
      "agrregate_fit results list length is  5\n",
      "Saving round 27 aggregated_parameters...\n"
     ]
    },
    {
     "name": "stderr",
     "output_type": "stream",
     "text": [
      "DEBUG flwr 2023-08-29 09:13:27,129 | server.py:187 | evaluate_round 27 received 5 results and 0 failures\n",
      "DEBUG flwr 2023-08-29 09:13:27,131 | server.py:222 | fit_round 28: strategy sampled 5 clients (out of 10)\n"
     ]
    },
    {
     "name": "stdout",
     "output_type": "stream",
     "text": [
      "agrregate_evaluate results list length is  5\n",
      "server round is  27\n",
      "loss is  0.5888888888888889\n"
     ]
    },
    {
     "name": "stderr",
     "output_type": "stream",
     "text": [
      "DEBUG flwr 2023-08-29 09:13:45,933 | server.py:236 | fit_round 28 received 5 results and 0 failures\n",
      "DEBUG flwr 2023-08-29 09:13:46,043 | server.py:173 | evaluate_round 28: strategy sampled 5 clients (out of 10)\n"
     ]
    },
    {
     "name": "stdout",
     "output_type": "stream",
     "text": [
      "agrregate_fit results list length is  5\n",
      "Saving round 28 aggregated_parameters...\n"
     ]
    },
    {
     "name": "stderr",
     "output_type": "stream",
     "text": [
      "DEBUG flwr 2023-08-29 09:13:46,499 | server.py:187 | evaluate_round 28 received 5 results and 0 failures\n",
      "DEBUG flwr 2023-08-29 09:13:46,501 | server.py:222 | fit_round 29: strategy sampled 5 clients (out of 10)\n"
     ]
    },
    {
     "name": "stdout",
     "output_type": "stream",
     "text": [
      "agrregate_evaluate results list length is  5\n",
      "server round is  28\n",
      "loss is  0.6777777777777778\n"
     ]
    },
    {
     "name": "stderr",
     "output_type": "stream",
     "text": [
      "DEBUG flwr 2023-08-29 09:13:48,179 | server.py:236 | fit_round 29 received 5 results and 0 failures\n",
      "DEBUG flwr 2023-08-29 09:13:48,316 | server.py:173 | evaluate_round 29: strategy sampled 5 clients (out of 10)\n"
     ]
    },
    {
     "name": "stdout",
     "output_type": "stream",
     "text": [
      "agrregate_fit results list length is  5\n",
      "Saving round 29 aggregated_parameters...\n"
     ]
    },
    {
     "name": "stderr",
     "output_type": "stream",
     "text": [
      "DEBUG flwr 2023-08-29 09:13:48,817 | server.py:187 | evaluate_round 29 received 5 results and 0 failures\n",
      "DEBUG flwr 2023-08-29 09:13:48,818 | server.py:222 | fit_round 30: strategy sampled 5 clients (out of 10)\n"
     ]
    },
    {
     "name": "stdout",
     "output_type": "stream",
     "text": [
      "agrregate_evaluate results list length is  5\n",
      "server round is  29\n",
      "loss is  0.6222222222222222\n"
     ]
    },
    {
     "name": "stderr",
     "output_type": "stream",
     "text": [
      "DEBUG flwr 2023-08-29 09:14:09,574 | server.py:236 | fit_round 30 received 5 results and 0 failures\n",
      "DEBUG flwr 2023-08-29 09:14:09,735 | server.py:173 | evaluate_round 30: strategy sampled 5 clients (out of 10)\n"
     ]
    },
    {
     "name": "stdout",
     "output_type": "stream",
     "text": [
      "agrregate_fit results list length is  5\n",
      "Saving round 30 aggregated_parameters...\n"
     ]
    },
    {
     "name": "stderr",
     "output_type": "stream",
     "text": [
      "DEBUG flwr 2023-08-29 09:14:10,317 | server.py:187 | evaluate_round 30 received 5 results and 0 failures\n",
      "DEBUG flwr 2023-08-29 09:14:10,320 | server.py:222 | fit_round 31: strategy sampled 5 clients (out of 10)\n"
     ]
    },
    {
     "name": "stdout",
     "output_type": "stream",
     "text": [
      "agrregate_evaluate results list length is  5\n",
      "server round is  30\n",
      "loss is  0.7611111111111111\n"
     ]
    },
    {
     "name": "stderr",
     "output_type": "stream",
     "text": [
      "DEBUG flwr 2023-08-29 09:14:32,003 | server.py:236 | fit_round 31 received 5 results and 0 failures\n",
      "DEBUG flwr 2023-08-29 09:14:32,134 | server.py:173 | evaluate_round 31: strategy sampled 5 clients (out of 10)\n"
     ]
    },
    {
     "name": "stdout",
     "output_type": "stream",
     "text": [
      "agrregate_fit results list length is  5\n",
      "Saving round 31 aggregated_parameters...\n"
     ]
    },
    {
     "name": "stderr",
     "output_type": "stream",
     "text": [
      "DEBUG flwr 2023-08-29 09:14:32,650 | server.py:187 | evaluate_round 31 received 5 results and 0 failures\n",
      "DEBUG flwr 2023-08-29 09:14:32,651 | server.py:222 | fit_round 32: strategy sampled 5 clients (out of 10)\n"
     ]
    },
    {
     "name": "stdout",
     "output_type": "stream",
     "text": [
      "agrregate_evaluate results list length is  5\n",
      "server round is  31\n",
      "loss is  0.6666666666666666\n"
     ]
    },
    {
     "name": "stderr",
     "output_type": "stream",
     "text": [
      "DEBUG flwr 2023-08-29 09:14:34,453 | server.py:236 | fit_round 32 received 5 results and 0 failures\n",
      "DEBUG flwr 2023-08-29 09:14:34,611 | server.py:173 | evaluate_round 32: strategy sampled 5 clients (out of 10)\n"
     ]
    },
    {
     "name": "stdout",
     "output_type": "stream",
     "text": [
      "agrregate_fit results list length is  5\n",
      "Saving round 32 aggregated_parameters...\n"
     ]
    },
    {
     "name": "stderr",
     "output_type": "stream",
     "text": [
      "DEBUG flwr 2023-08-29 09:14:35,195 | server.py:187 | evaluate_round 32 received 5 results and 0 failures\n",
      "DEBUG flwr 2023-08-29 09:14:35,196 | server.py:222 | fit_round 33: strategy sampled 5 clients (out of 10)\n"
     ]
    },
    {
     "name": "stdout",
     "output_type": "stream",
     "text": [
      "agrregate_evaluate results list length is  5\n",
      "server round is  32\n",
      "loss is  0.6611111111111111\n"
     ]
    },
    {
     "name": "stderr",
     "output_type": "stream",
     "text": [
      "DEBUG flwr 2023-08-29 09:14:53,388 | server.py:236 | fit_round 33 received 5 results and 0 failures\n",
      "DEBUG flwr 2023-08-29 09:14:53,493 | server.py:173 | evaluate_round 33: strategy sampled 5 clients (out of 10)\n"
     ]
    },
    {
     "name": "stdout",
     "output_type": "stream",
     "text": [
      "agrregate_fit results list length is  5\n",
      "Saving round 33 aggregated_parameters...\n"
     ]
    },
    {
     "name": "stderr",
     "output_type": "stream",
     "text": [
      "DEBUG flwr 2023-08-29 09:14:53,968 | server.py:187 | evaluate_round 33 received 5 results and 0 failures\n",
      "DEBUG flwr 2023-08-29 09:14:53,970 | server.py:222 | fit_round 34: strategy sampled 5 clients (out of 10)\n"
     ]
    },
    {
     "name": "stdout",
     "output_type": "stream",
     "text": [
      "agrregate_evaluate results list length is  5\n",
      "server round is  33\n",
      "loss is  0.5833333333333334\n"
     ]
    },
    {
     "name": "stderr",
     "output_type": "stream",
     "text": [
      "DEBUG flwr 2023-08-29 09:14:55,675 | server.py:236 | fit_round 34 received 5 results and 0 failures\n",
      "DEBUG flwr 2023-08-29 09:14:55,813 | server.py:173 | evaluate_round 34: strategy sampled 5 clients (out of 10)\n"
     ]
    },
    {
     "name": "stdout",
     "output_type": "stream",
     "text": [
      "agrregate_fit results list length is  5\n",
      "Saving round 34 aggregated_parameters...\n"
     ]
    },
    {
     "name": "stderr",
     "output_type": "stream",
     "text": [
      "DEBUG flwr 2023-08-29 09:14:56,322 | server.py:187 | evaluate_round 34 received 5 results and 0 failures\n",
      "DEBUG flwr 2023-08-29 09:14:56,324 | server.py:222 | fit_round 35: strategy sampled 5 clients (out of 10)\n"
     ]
    },
    {
     "name": "stdout",
     "output_type": "stream",
     "text": [
      "agrregate_evaluate results list length is  5\n",
      "server round is  34\n",
      "loss is  0.6111111111111113\n"
     ]
    },
    {
     "name": "stderr",
     "output_type": "stream",
     "text": [
      "DEBUG flwr 2023-08-29 09:14:57,979 | server.py:236 | fit_round 35 received 5 results and 0 failures\n",
      "DEBUG flwr 2023-08-29 09:14:58,116 | server.py:173 | evaluate_round 35: strategy sampled 5 clients (out of 10)\n"
     ]
    },
    {
     "name": "stdout",
     "output_type": "stream",
     "text": [
      "agrregate_fit results list length is  5\n",
      "Saving round 35 aggregated_parameters...\n"
     ]
    },
    {
     "name": "stderr",
     "output_type": "stream",
     "text": [
      "DEBUG flwr 2023-08-29 09:14:58,591 | server.py:187 | evaluate_round 35 received 5 results and 0 failures\n",
      "DEBUG flwr 2023-08-29 09:14:58,593 | server.py:222 | fit_round 36: strategy sampled 5 clients (out of 10)\n"
     ]
    },
    {
     "name": "stdout",
     "output_type": "stream",
     "text": [
      "agrregate_evaluate results list length is  5\n",
      "server round is  35\n",
      "loss is  0.5888888888888889\n"
     ]
    },
    {
     "name": "stderr",
     "output_type": "stream",
     "text": [
      "DEBUG flwr 2023-08-29 09:15:16,807 | server.py:236 | fit_round 36 received 5 results and 0 failures\n",
      "DEBUG flwr 2023-08-29 09:15:16,920 | server.py:173 | evaluate_round 36: strategy sampled 5 clients (out of 10)\n"
     ]
    },
    {
     "name": "stdout",
     "output_type": "stream",
     "text": [
      "agrregate_fit results list length is  5\n",
      "Saving round 36 aggregated_parameters...\n"
     ]
    },
    {
     "name": "stderr",
     "output_type": "stream",
     "text": [
      "DEBUG flwr 2023-08-29 09:15:17,394 | server.py:187 | evaluate_round 36 received 5 results and 0 failures\n",
      "DEBUG flwr 2023-08-29 09:15:17,395 | server.py:222 | fit_round 37: strategy sampled 5 clients (out of 10)\n"
     ]
    },
    {
     "name": "stdout",
     "output_type": "stream",
     "text": [
      "agrregate_evaluate results list length is  5\n",
      "server round is  36\n",
      "loss is  0.6388888888888887\n"
     ]
    },
    {
     "name": "stderr",
     "output_type": "stream",
     "text": [
      "DEBUG flwr 2023-08-29 09:15:19,154 | server.py:236 | fit_round 37 received 5 results and 0 failures\n",
      "DEBUG flwr 2023-08-29 09:15:19,301 | server.py:173 | evaluate_round 37: strategy sampled 5 clients (out of 10)\n"
     ]
    },
    {
     "name": "stdout",
     "output_type": "stream",
     "text": [
      "agrregate_fit results list length is  5\n",
      "Saving round 37 aggregated_parameters...\n"
     ]
    },
    {
     "name": "stderr",
     "output_type": "stream",
     "text": [
      "DEBUG flwr 2023-08-29 09:15:19,797 | server.py:187 | evaluate_round 37 received 5 results and 0 failures\n",
      "DEBUG flwr 2023-08-29 09:15:19,798 | server.py:222 | fit_round 38: strategy sampled 5 clients (out of 10)\n"
     ]
    },
    {
     "name": "stdout",
     "output_type": "stream",
     "text": [
      "agrregate_evaluate results list length is  5\n",
      "server round is  37\n",
      "loss is  0.6\n"
     ]
    },
    {
     "name": "stderr",
     "output_type": "stream",
     "text": [
      "DEBUG flwr 2023-08-29 09:15:37,737 | server.py:236 | fit_round 38 received 5 results and 0 failures\n",
      "DEBUG flwr 2023-08-29 09:15:37,840 | server.py:173 | evaluate_round 38: strategy sampled 5 clients (out of 10)\n"
     ]
    },
    {
     "name": "stdout",
     "output_type": "stream",
     "text": [
      "agrregate_fit results list length is  5\n",
      "Saving round 38 aggregated_parameters...\n"
     ]
    },
    {
     "name": "stderr",
     "output_type": "stream",
     "text": [
      "DEBUG flwr 2023-08-29 09:15:38,320 | server.py:187 | evaluate_round 38 received 5 results and 0 failures\n",
      "DEBUG flwr 2023-08-29 09:15:38,321 | server.py:222 | fit_round 39: strategy sampled 5 clients (out of 10)\n"
     ]
    },
    {
     "name": "stdout",
     "output_type": "stream",
     "text": [
      "agrregate_evaluate results list length is  5\n",
      "server round is  38\n",
      "loss is  0.6444444444444446\n"
     ]
    },
    {
     "name": "stderr",
     "output_type": "stream",
     "text": [
      "DEBUG flwr 2023-08-29 09:15:56,453 | server.py:236 | fit_round 39 received 5 results and 0 failures\n",
      "DEBUG flwr 2023-08-29 09:15:56,561 | server.py:173 | evaluate_round 39: strategy sampled 5 clients (out of 10)\n"
     ]
    },
    {
     "name": "stdout",
     "output_type": "stream",
     "text": [
      "agrregate_fit results list length is  5\n",
      "Saving round 39 aggregated_parameters...\n"
     ]
    },
    {
     "name": "stderr",
     "output_type": "stream",
     "text": [
      "DEBUG flwr 2023-08-29 09:15:57,011 | server.py:187 | evaluate_round 39 received 5 results and 0 failures\n",
      "DEBUG flwr 2023-08-29 09:15:57,012 | server.py:222 | fit_round 40: strategy sampled 5 clients (out of 10)\n"
     ]
    },
    {
     "name": "stdout",
     "output_type": "stream",
     "text": [
      "agrregate_evaluate results list length is  5\n",
      "server round is  39\n",
      "loss is  0.6\n"
     ]
    },
    {
     "name": "stderr",
     "output_type": "stream",
     "text": [
      "DEBUG flwr 2023-08-29 09:15:58,694 | server.py:236 | fit_round 40 received 5 results and 0 failures\n",
      "DEBUG flwr 2023-08-29 09:15:58,826 | server.py:173 | evaluate_round 40: strategy sampled 5 clients (out of 10)\n"
     ]
    },
    {
     "name": "stdout",
     "output_type": "stream",
     "text": [
      "agrregate_fit results list length is  5\n",
      "Saving round 40 aggregated_parameters...\n"
     ]
    },
    {
     "name": "stderr",
     "output_type": "stream",
     "text": [
      "DEBUG flwr 2023-08-29 09:15:59,321 | server.py:187 | evaluate_round 40 received 5 results and 0 failures\n",
      "INFO flwr 2023-08-29 09:15:59,322 | server.py:153 | FL finished in 486.3702482000008\n",
      "INFO flwr 2023-08-29 09:15:59,326 | app.py:225 | app_fit: losses_distributed [(1, 2.677777777777777), (2, 2.3777777777777778), (3, 1.1333333333333333), (4, 1.0777777777777777), (5, 1.1), (6, 0.9277777777777778), (7, 0.8333333333333334), (8, 0.9833333333333333), (9, 0.7333333333333333), (10, 0.6944444444444444), (11, 0.7555555555555555), (12, 1.0444444444444445), (13, 0.6888888888888889), (14, 0.6944444444444444), (15, 0.6999999999999998), (16, 0.6833333333333333), (17, 0.75), (18, 0.6833333333333333), (19, 0.6888888888888889), (20, 0.6833333333333333), (21, 0.6222222222222222), (22, 0.6111111111111113), (23, 0.6), (24, 0.65), (25, 0.6111111111111113), (26, 0.6388888888888887), (27, 0.5888888888888889), (28, 0.6777777777777778), (29, 0.6222222222222222), (30, 0.7611111111111111), (31, 0.6666666666666666), (32, 0.6611111111111111), (33, 0.5833333333333334), (34, 0.6111111111111113), (35, 0.5888888888888889), (36, 0.6388888888888887), (37, 0.6), (38, 0.6444444444444446), (39, 0.6), (40, 0.5833333333333334)]\n",
      "INFO flwr 2023-08-29 09:15:59,327 | app.py:226 | app_fit: metrics_distributed_fit {}\n",
      "INFO flwr 2023-08-29 09:15:59,328 | app.py:227 | app_fit: metrics_distributed {'mse': [(1, 13.388888888888888), (2, 11.88888888888889), (3, 5.666666666666666), (4, 5.388888888888888), (5, 5.5), (6, 4.638888888888889), (7, 4.166666666666667), (8, 4.916666666666666), (9, 3.6666666666666665), (10, 3.4722222222222223), (11, 3.7777777777777777), (12, 5.222222222222222), (13, 3.4444444444444446), (14, 3.4722222222222223), (15, 3.5), (16, 3.416666666666667), (17, 3.75), (18, 3.416666666666667), (19, 3.4444444444444446), (20, 3.416666666666667), (21, 3.111111111111111), (22, 3.055555555555556), (23, 3.0), (24, 3.25), (25, 3.055555555555556), (26, 3.194444444444444), (27, 2.9444444444444446), (28, 3.3888888888888893), (29, 3.111111111111111), (30, 3.8055555555555554), (31, 3.333333333333333), (32, 3.3055555555555554), (33, 2.916666666666667), (34, 3.055555555555556), (35, 2.9444444444444446), (36, 3.194444444444444), (37, 3.0), (38, 3.2222222222222223), (39, 3.0), (40, 2.916666666666667)]}\n",
      "INFO flwr 2023-08-29 09:15:59,329 | app.py:228 | app_fit: losses_centralized []\n",
      "INFO flwr 2023-08-29 09:15:59,330 | app.py:229 | app_fit: metrics_centralized {}\n",
      "C:\\Users\\Shuyao\\AppData\\Local\\Temp\\ipykernel_11996\\3421847257.py:35: UserWarning: To copy construct from a tensor, it is recommended to use sourceTensor.clone().detach() or sourceTensor.clone().detach().requires_grad_(True), rather than torch.tensor(sourceTensor).\n",
      "  y_train = torch.reshape(torch.tensor(y_train), (-1, 1))\n",
      "C:\\Users\\Shuyao\\AppData\\Local\\Temp\\ipykernel_11996\\3421847257.py:36: UserWarning: To copy construct from a tensor, it is recommended to use sourceTensor.clone().detach() or sourceTensor.clone().detach().requires_grad_(True), rather than torch.tensor(sourceTensor).\n",
      "  y_test = torch.reshape(torch.tensor(y_test), (-1, 1))\n"
     ]
    },
    {
     "name": "stdout",
     "output_type": "stream",
     "text": [
      "agrregate_evaluate results list length is  5\n",
      "server round is  40\n",
      "loss is  0.5833333333333334\n",
      "History (loss, distributed):\n",
      "\tround 1: 2.677777777777777\n",
      "\tround 2: 2.3777777777777778\n",
      "\tround 3: 1.1333333333333333\n",
      "\tround 4: 1.0777777777777777\n",
      "\tround 5: 1.1\n",
      "\tround 6: 0.9277777777777778\n",
      "\tround 7: 0.8333333333333334\n",
      "\tround 8: 0.9833333333333333\n",
      "\tround 9: 0.7333333333333333\n",
      "\tround 10: 0.6944444444444444\n",
      "\tround 11: 0.7555555555555555\n",
      "\tround 12: 1.0444444444444445\n",
      "\tround 13: 0.6888888888888889\n",
      "\tround 14: 0.6944444444444444\n",
      "\tround 15: 0.6999999999999998\n",
      "\tround 16: 0.6833333333333333\n",
      "\tround 17: 0.75\n",
      "\tround 18: 0.6833333333333333\n",
      "\tround 19: 0.6888888888888889\n",
      "\tround 20: 0.6833333333333333\n",
      "\tround 21: 0.6222222222222222\n",
      "\tround 22: 0.6111111111111113\n",
      "\tround 23: 0.6\n",
      "\tround 24: 0.65\n",
      "\tround 25: 0.6111111111111113\n",
      "\tround 26: 0.6388888888888887\n",
      "\tround 27: 0.5888888888888889\n",
      "\tround 28: 0.6777777777777778\n",
      "\tround 29: 0.6222222222222222\n",
      "\tround 30: 0.7611111111111111\n",
      "\tround 31: 0.6666666666666666\n",
      "\tround 32: 0.6611111111111111\n",
      "\tround 33: 0.5833333333333334\n",
      "\tround 34: 0.6111111111111113\n",
      "\tround 35: 0.5888888888888889\n",
      "\tround 36: 0.6388888888888887\n",
      "\tround 37: 0.6\n",
      "\tround 38: 0.6444444444444446\n",
      "\tround 39: 0.6\n",
      "\tround 40: 0.5833333333333334\n",
      "History (metrics, distributed, evaluate):\n",
      "{'mse': [(1, 13.388888888888888), (2, 11.88888888888889), (3, 5.666666666666666), (4, 5.388888888888888), (5, 5.5), (6, 4.638888888888889), (7, 4.166666666666667), (8, 4.916666666666666), (9, 3.6666666666666665), (10, 3.4722222222222223), (11, 3.7777777777777777), (12, 5.222222222222222), (13, 3.4444444444444446), (14, 3.4722222222222223), (15, 3.5), (16, 3.416666666666667), (17, 3.75), (18, 3.416666666666667), (19, 3.4444444444444446), (20, 3.416666666666667), (21, 3.111111111111111), (22, 3.055555555555556), (23, 3.0), (24, 3.25), (25, 3.055555555555556), (26, 3.194444444444444), (27, 2.9444444444444446), (28, 3.3888888888888893), (29, 3.111111111111111), (30, 3.8055555555555554), (31, 3.333333333333333), (32, 3.3055555555555554), (33, 2.916666666666667), (34, 3.055555555555556), (35, 2.9444444444444446), (36, 3.194444444444444), (37, 3.0), (38, 3.2222222222222223), (39, 3.0), (40, 2.916666666666667)]}\n",
      "[(1, 2.677777777777777), (2, 2.3777777777777778), (3, 1.1333333333333333), (4, 1.0777777777777777), (5, 1.1), (6, 0.9277777777777778), (7, 0.8333333333333334), (8, 0.9833333333333333), (9, 0.7333333333333333), (10, 0.6944444444444444), (11, 0.7555555555555555), (12, 1.0444444444444445), (13, 0.6888888888888889), (14, 0.6944444444444444), (15, 0.6999999999999998), (16, 0.6833333333333333), (17, 0.75), (18, 0.6833333333333333), (19, 0.6888888888888889), (20, 0.6833333333333333), (21, 0.6222222222222222), (22, 0.6111111111111113), (23, 0.6), (24, 0.65), (25, 0.6111111111111113), (26, 0.6388888888888887), (27, 0.5888888888888889), (28, 0.6777777777777778), (29, 0.6222222222222222), (30, 0.7611111111111111), (31, 0.6666666666666666), (32, 0.6611111111111111), (33, 0.5833333333333334), (34, 0.6111111111111113), (35, 0.5888888888888889), (36, 0.6388888888888887), (37, 0.6), (38, 0.6444444444444446), (39, 0.6), (40, 0.5833333333333334)]\n",
      "Fold 3:\n"
     ]
    },
    {
     "name": "stderr",
     "output_type": "stream",
     "text": [
      "INFO flwr 2023-08-29 09:15:59,572 | app.py:145 | Starting Flower simulation, config: ServerConfig(num_rounds=40, round_timeout=None)\n"
     ]
    },
    {
     "name": "stdout",
     "output_type": "stream",
     "text": [
      "Client 0 trainset shape torch.Size([581, 3, 23])\n",
      "Client 1 trainset shape torch.Size([14, 3, 23])\n",
      "Client 2 trainset shape torch.Size([14, 3, 23])\n",
      "Client 3 trainset shape torch.Size([14, 3, 23])\n",
      "Client 4 trainset shape torch.Size([14, 3, 23])\n",
      "Client 5 trainset shape torch.Size([14, 3, 23])\n",
      "Client 6 trainset shape torch.Size([14, 3, 23])\n",
      "Client 7 trainset shape torch.Size([14, 3, 23])\n",
      "Client 8 trainset shape torch.Size([14, 3, 23])\n",
      "Client 9 trainset shape torch.Size([14, 3, 23])\n"
     ]
    },
    {
     "name": "stderr",
     "output_type": "stream",
     "text": [
      "2023-08-29 09:16:09,677\tINFO worker.py:1627 -- Started a local Ray instance. View the dashboard at \u001B[1m\u001B[32m127.0.0.1:8265 \u001B[39m\u001B[22m\n",
      "INFO flwr 2023-08-29 09:16:14,181 | app.py:179 | Flower VCE: Ray initialized with resources: {'CPU': 8.0, 'object_store_memory': 1441511424.0, 'node:127.0.0.1': 1.0, 'memory': 2883022848.0, 'GPU': 1.0}\n",
      "INFO flwr 2023-08-29 09:16:14,183 | server.py:89 | Initializing global parameters\n",
      "INFO flwr 2023-08-29 09:16:14,184 | server.py:276 | Requesting initial parameters from one random client\n",
      "INFO flwr 2023-08-29 09:16:17,987 | server.py:280 | Received initial parameters from one random client\n",
      "INFO flwr 2023-08-29 09:16:17,988 | server.py:91 | Evaluating initial parameters\n",
      "INFO flwr 2023-08-29 09:16:17,989 | server.py:104 | FL starting\n",
      "DEBUG flwr 2023-08-29 09:16:17,990 | server.py:222 | fit_round 1: strategy sampled 5 clients (out of 10)\n",
      "DEBUG flwr 2023-08-29 09:16:39,996 | server.py:236 | fit_round 1 received 5 results and 0 failures\n",
      "WARNING flwr 2023-08-29 09:16:40,064 | fedavg.py:242 | No fit_metrics_aggregation_fn provided\n",
      "DEBUG flwr 2023-08-29 09:16:40,099 | server.py:173 | evaluate_round 1: strategy sampled 5 clients (out of 10)\n"
     ]
    },
    {
     "name": "stdout",
     "output_type": "stream",
     "text": [
      "agrregate_fit results list length is  5\n",
      "Saving round 1 aggregated_parameters...\n"
     ]
    },
    {
     "name": "stderr",
     "output_type": "stream",
     "text": [
      "DEBUG flwr 2023-08-29 09:16:40,519 | server.py:187 | evaluate_round 1 received 5 results and 0 failures\n",
      "DEBUG flwr 2023-08-29 09:16:40,520 | server.py:222 | fit_round 2: strategy sampled 5 clients (out of 10)\n"
     ]
    },
    {
     "name": "stdout",
     "output_type": "stream",
     "text": [
      "agrregate_evaluate results list length is  5\n",
      "server round is  1\n",
      "loss is  2.911111111111111\n"
     ]
    },
    {
     "name": "stderr",
     "output_type": "stream",
     "text": [
      "DEBUG flwr 2023-08-29 09:16:42,178 | server.py:236 | fit_round 2 received 5 results and 0 failures\n",
      "DEBUG flwr 2023-08-29 09:16:42,314 | server.py:173 | evaluate_round 2: strategy sampled 5 clients (out of 10)\n"
     ]
    },
    {
     "name": "stdout",
     "output_type": "stream",
     "text": [
      "agrregate_fit results list length is  5\n",
      "Saving round 2 aggregated_parameters...\n"
     ]
    },
    {
     "name": "stderr",
     "output_type": "stream",
     "text": [
      "DEBUG flwr 2023-08-29 09:16:42,800 | server.py:187 | evaluate_round 2 received 5 results and 0 failures\n",
      "DEBUG flwr 2023-08-29 09:16:42,802 | server.py:222 | fit_round 3: strategy sampled 5 clients (out of 10)\n"
     ]
    },
    {
     "name": "stdout",
     "output_type": "stream",
     "text": [
      "agrregate_evaluate results list length is  5\n",
      "server round is  2\n",
      "loss is  2.6888888888888896\n"
     ]
    },
    {
     "name": "stderr",
     "output_type": "stream",
     "text": [
      "DEBUG flwr 2023-08-29 09:16:44,533 | server.py:236 | fit_round 3 received 5 results and 0 failures\n",
      "DEBUG flwr 2023-08-29 09:16:44,669 | server.py:173 | evaluate_round 3: strategy sampled 5 clients (out of 10)\n"
     ]
    },
    {
     "name": "stdout",
     "output_type": "stream",
     "text": [
      "agrregate_fit results list length is  5\n",
      "Saving round 3 aggregated_parameters...\n"
     ]
    },
    {
     "name": "stderr",
     "output_type": "stream",
     "text": [
      "DEBUG flwr 2023-08-29 09:16:45,220 | server.py:187 | evaluate_round 3 received 5 results and 0 failures\n",
      "DEBUG flwr 2023-08-29 09:16:45,223 | server.py:222 | fit_round 4: strategy sampled 5 clients (out of 10)\n"
     ]
    },
    {
     "name": "stdout",
     "output_type": "stream",
     "text": [
      "agrregate_evaluate results list length is  5\n",
      "server round is  3\n",
      "loss is  2.066666666666667\n"
     ]
    },
    {
     "name": "stderr",
     "output_type": "stream",
     "text": [
      "DEBUG flwr 2023-08-29 09:16:46,976 | server.py:236 | fit_round 4 received 5 results and 0 failures\n",
      "DEBUG flwr 2023-08-29 09:16:47,112 | server.py:173 | evaluate_round 4: strategy sampled 5 clients (out of 10)\n"
     ]
    },
    {
     "name": "stdout",
     "output_type": "stream",
     "text": [
      "agrregate_fit results list length is  5\n",
      "Saving round 4 aggregated_parameters...\n"
     ]
    },
    {
     "name": "stderr",
     "output_type": "stream",
     "text": [
      "DEBUG flwr 2023-08-29 09:16:47,646 | server.py:187 | evaluate_round 4 received 5 results and 0 failures\n",
      "DEBUG flwr 2023-08-29 09:16:47,647 | server.py:222 | fit_round 5: strategy sampled 5 clients (out of 10)\n"
     ]
    },
    {
     "name": "stdout",
     "output_type": "stream",
     "text": [
      "agrregate_evaluate results list length is  5\n",
      "server round is  4\n",
      "loss is  1.9055555555555554\n"
     ]
    },
    {
     "name": "stderr",
     "output_type": "stream",
     "text": [
      "DEBUG flwr 2023-08-29 09:16:49,447 | server.py:236 | fit_round 5 received 5 results and 0 failures\n",
      "DEBUG flwr 2023-08-29 09:16:49,595 | server.py:173 | evaluate_round 5: strategy sampled 5 clients (out of 10)\n"
     ]
    },
    {
     "name": "stdout",
     "output_type": "stream",
     "text": [
      "agrregate_fit results list length is  5\n",
      "Saving round 5 aggregated_parameters...\n"
     ]
    },
    {
     "name": "stderr",
     "output_type": "stream",
     "text": [
      "DEBUG flwr 2023-08-29 09:16:50,109 | server.py:187 | evaluate_round 5 received 5 results and 0 failures\n",
      "DEBUG flwr 2023-08-29 09:16:50,110 | server.py:222 | fit_round 6: strategy sampled 5 clients (out of 10)\n"
     ]
    },
    {
     "name": "stdout",
     "output_type": "stream",
     "text": [
      "agrregate_evaluate results list length is  5\n",
      "server round is  5\n",
      "loss is  2.0833333333333335\n"
     ]
    },
    {
     "name": "stderr",
     "output_type": "stream",
     "text": [
      "DEBUG flwr 2023-08-29 09:16:51,786 | server.py:236 | fit_round 6 received 5 results and 0 failures\n",
      "DEBUG flwr 2023-08-29 09:16:51,918 | server.py:173 | evaluate_round 6: strategy sampled 5 clients (out of 10)\n"
     ]
    },
    {
     "name": "stdout",
     "output_type": "stream",
     "text": [
      "agrregate_fit results list length is  5\n",
      "Saving round 6 aggregated_parameters...\n"
     ]
    },
    {
     "name": "stderr",
     "output_type": "stream",
     "text": [
      "DEBUG flwr 2023-08-29 09:16:52,374 | server.py:187 | evaluate_round 6 received 5 results and 0 failures\n",
      "DEBUG flwr 2023-08-29 09:16:52,376 | server.py:222 | fit_round 7: strategy sampled 5 clients (out of 10)\n"
     ]
    },
    {
     "name": "stdout",
     "output_type": "stream",
     "text": [
      "agrregate_evaluate results list length is  5\n",
      "server round is  6\n",
      "loss is  1.9055555555555554\n"
     ]
    },
    {
     "name": "stderr",
     "output_type": "stream",
     "text": [
      "DEBUG flwr 2023-08-29 09:16:53,981 | server.py:236 | fit_round 7 received 5 results and 0 failures\n",
      "DEBUG flwr 2023-08-29 09:16:54,124 | server.py:173 | evaluate_round 7: strategy sampled 5 clients (out of 10)\n"
     ]
    },
    {
     "name": "stdout",
     "output_type": "stream",
     "text": [
      "agrregate_fit results list length is  5\n",
      "Saving round 7 aggregated_parameters...\n"
     ]
    },
    {
     "name": "stderr",
     "output_type": "stream",
     "text": [
      "DEBUG flwr 2023-08-29 09:16:54,673 | server.py:187 | evaluate_round 7 received 5 results and 0 failures\n",
      "DEBUG flwr 2023-08-29 09:16:54,675 | server.py:222 | fit_round 8: strategy sampled 5 clients (out of 10)\n"
     ]
    },
    {
     "name": "stdout",
     "output_type": "stream",
     "text": [
      "agrregate_evaluate results list length is  5\n",
      "server round is  7\n",
      "loss is  2.022222222222222\n"
     ]
    },
    {
     "name": "stderr",
     "output_type": "stream",
     "text": [
      "DEBUG flwr 2023-08-29 09:16:56,322 | server.py:236 | fit_round 8 received 5 results and 0 failures\n",
      "DEBUG flwr 2023-08-29 09:16:56,457 | server.py:173 | evaluate_round 8: strategy sampled 5 clients (out of 10)\n"
     ]
    },
    {
     "name": "stdout",
     "output_type": "stream",
     "text": [
      "agrregate_fit results list length is  5\n",
      "Saving round 8 aggregated_parameters...\n"
     ]
    },
    {
     "name": "stderr",
     "output_type": "stream",
     "text": [
      "DEBUG flwr 2023-08-29 09:16:56,896 | server.py:187 | evaluate_round 8 received 5 results and 0 failures\n",
      "DEBUG flwr 2023-08-29 09:16:56,897 | server.py:222 | fit_round 9: strategy sampled 5 clients (out of 10)\n"
     ]
    },
    {
     "name": "stdout",
     "output_type": "stream",
     "text": [
      "agrregate_evaluate results list length is  5\n",
      "server round is  8\n",
      "loss is  1.8333333333333333\n"
     ]
    },
    {
     "name": "stderr",
     "output_type": "stream",
     "text": [
      "DEBUG flwr 2023-08-29 09:16:58,509 | server.py:236 | fit_round 9 received 5 results and 0 failures\n",
      "DEBUG flwr 2023-08-29 09:16:58,645 | server.py:173 | evaluate_round 9: strategy sampled 5 clients (out of 10)\n"
     ]
    },
    {
     "name": "stdout",
     "output_type": "stream",
     "text": [
      "agrregate_fit results list length is  5\n",
      "Saving round 9 aggregated_parameters...\n"
     ]
    },
    {
     "name": "stderr",
     "output_type": "stream",
     "text": [
      "DEBUG flwr 2023-08-29 09:16:59,161 | server.py:187 | evaluate_round 9 received 5 results and 0 failures\n",
      "DEBUG flwr 2023-08-29 09:16:59,162 | server.py:222 | fit_round 10: strategy sampled 5 clients (out of 10)\n"
     ]
    },
    {
     "name": "stdout",
     "output_type": "stream",
     "text": [
      "agrregate_evaluate results list length is  5\n",
      "server round is  9\n",
      "loss is  1.9055555555555554\n"
     ]
    },
    {
     "name": "stderr",
     "output_type": "stream",
     "text": [
      "DEBUG flwr 2023-08-29 09:17:00,875 | server.py:236 | fit_round 10 received 5 results and 0 failures\n",
      "DEBUG flwr 2023-08-29 09:17:01,012 | server.py:173 | evaluate_round 10: strategy sampled 5 clients (out of 10)\n"
     ]
    },
    {
     "name": "stdout",
     "output_type": "stream",
     "text": [
      "agrregate_fit results list length is  5\n",
      "Saving round 10 aggregated_parameters...\n"
     ]
    },
    {
     "name": "stderr",
     "output_type": "stream",
     "text": [
      "DEBUG flwr 2023-08-29 09:17:01,529 | server.py:187 | evaluate_round 10 received 5 results and 0 failures\n",
      "DEBUG flwr 2023-08-29 09:17:01,530 | server.py:222 | fit_round 11: strategy sampled 5 clients (out of 10)\n"
     ]
    },
    {
     "name": "stdout",
     "output_type": "stream",
     "text": [
      "agrregate_evaluate results list length is  5\n",
      "server round is  10\n",
      "loss is  2.0277777777777777\n"
     ]
    },
    {
     "name": "stderr",
     "output_type": "stream",
     "text": [
      "DEBUG flwr 2023-08-29 09:17:19,687 | server.py:236 | fit_round 11 received 5 results and 0 failures\n",
      "DEBUG flwr 2023-08-29 09:17:19,811 | server.py:173 | evaluate_round 11: strategy sampled 5 clients (out of 10)\n"
     ]
    },
    {
     "name": "stdout",
     "output_type": "stream",
     "text": [
      "agrregate_fit results list length is  5\n",
      "Saving round 11 aggregated_parameters...\n"
     ]
    },
    {
     "name": "stderr",
     "output_type": "stream",
     "text": [
      "DEBUG flwr 2023-08-29 09:17:20,310 | server.py:187 | evaluate_round 11 received 5 results and 0 failures\n",
      "DEBUG flwr 2023-08-29 09:17:20,311 | server.py:222 | fit_round 12: strategy sampled 5 clients (out of 10)\n"
     ]
    },
    {
     "name": "stdout",
     "output_type": "stream",
     "text": [
      "agrregate_evaluate results list length is  5\n",
      "server round is  11\n",
      "loss is  1.0833333333333333\n"
     ]
    },
    {
     "name": "stderr",
     "output_type": "stream",
     "text": [
      "DEBUG flwr 2023-08-29 09:17:38,918 | server.py:236 | fit_round 12 received 5 results and 0 failures\n",
      "DEBUG flwr 2023-08-29 09:17:39,030 | server.py:173 | evaluate_round 12: strategy sampled 5 clients (out of 10)\n"
     ]
    },
    {
     "name": "stdout",
     "output_type": "stream",
     "text": [
      "agrregate_fit results list length is  5\n",
      "Saving round 12 aggregated_parameters...\n"
     ]
    },
    {
     "name": "stderr",
     "output_type": "stream",
     "text": [
      "DEBUG flwr 2023-08-29 09:17:39,395 | server.py:187 | evaluate_round 12 received 5 results and 0 failures\n",
      "DEBUG flwr 2023-08-29 09:17:39,396 | server.py:222 | fit_round 13: strategy sampled 5 clients (out of 10)\n"
     ]
    },
    {
     "name": "stdout",
     "output_type": "stream",
     "text": [
      "agrregate_evaluate results list length is  5\n",
      "server round is  12\n",
      "loss is  0.9\n"
     ]
    },
    {
     "name": "stderr",
     "output_type": "stream",
     "text": [
      "DEBUG flwr 2023-08-29 09:17:57,495 | server.py:236 | fit_round 13 received 5 results and 0 failures\n",
      "DEBUG flwr 2023-08-29 09:17:57,596 | server.py:173 | evaluate_round 13: strategy sampled 5 clients (out of 10)\n"
     ]
    },
    {
     "name": "stdout",
     "output_type": "stream",
     "text": [
      "agrregate_fit results list length is  5\n",
      "Saving round 13 aggregated_parameters...\n"
     ]
    },
    {
     "name": "stderr",
     "output_type": "stream",
     "text": [
      "DEBUG flwr 2023-08-29 09:17:57,982 | server.py:187 | evaluate_round 13 received 5 results and 0 failures\n",
      "DEBUG flwr 2023-08-29 09:17:57,983 | server.py:222 | fit_round 14: strategy sampled 5 clients (out of 10)\n"
     ]
    },
    {
     "name": "stdout",
     "output_type": "stream",
     "text": [
      "agrregate_evaluate results list length is  5\n",
      "server round is  13\n",
      "loss is  0.7888888888888889\n"
     ]
    },
    {
     "name": "stderr",
     "output_type": "stream",
     "text": [
      "DEBUG flwr 2023-08-29 09:18:15,728 | server.py:236 | fit_round 14 received 5 results and 0 failures\n",
      "DEBUG flwr 2023-08-29 09:18:15,831 | server.py:173 | evaluate_round 14: strategy sampled 5 clients (out of 10)\n"
     ]
    },
    {
     "name": "stdout",
     "output_type": "stream",
     "text": [
      "agrregate_fit results list length is  5\n",
      "Saving round 14 aggregated_parameters...\n"
     ]
    },
    {
     "name": "stderr",
     "output_type": "stream",
     "text": [
      "DEBUG flwr 2023-08-29 09:18:16,218 | server.py:187 | evaluate_round 14 received 5 results and 0 failures\n",
      "DEBUG flwr 2023-08-29 09:18:16,220 | server.py:222 | fit_round 15: strategy sampled 5 clients (out of 10)\n"
     ]
    },
    {
     "name": "stdout",
     "output_type": "stream",
     "text": [
      "agrregate_evaluate results list length is  5\n",
      "server round is  14\n",
      "loss is  0.7555555555555555\n"
     ]
    },
    {
     "name": "stderr",
     "output_type": "stream",
     "text": [
      "DEBUG flwr 2023-08-29 09:18:17,800 | server.py:236 | fit_round 15 received 5 results and 0 failures\n",
      "DEBUG flwr 2023-08-29 09:18:17,925 | server.py:173 | evaluate_round 15: strategy sampled 5 clients (out of 10)\n"
     ]
    },
    {
     "name": "stdout",
     "output_type": "stream",
     "text": [
      "agrregate_fit results list length is  5\n",
      "Saving round 15 aggregated_parameters...\n"
     ]
    },
    {
     "name": "stderr",
     "output_type": "stream",
     "text": [
      "DEBUG flwr 2023-08-29 09:18:18,384 | server.py:187 | evaluate_round 15 received 5 results and 0 failures\n",
      "DEBUG flwr 2023-08-29 09:18:18,385 | server.py:222 | fit_round 16: strategy sampled 5 clients (out of 10)\n"
     ]
    },
    {
     "name": "stdout",
     "output_type": "stream",
     "text": [
      "agrregate_evaluate results list length is  5\n",
      "server round is  15\n",
      "loss is  0.7055555555555557\n"
     ]
    },
    {
     "name": "stderr",
     "output_type": "stream",
     "text": [
      "DEBUG flwr 2023-08-29 09:18:20,007 | server.py:236 | fit_round 16 received 5 results and 0 failures\n",
      "DEBUG flwr 2023-08-29 09:18:20,153 | server.py:173 | evaluate_round 16: strategy sampled 5 clients (out of 10)\n"
     ]
    },
    {
     "name": "stdout",
     "output_type": "stream",
     "text": [
      "agrregate_fit results list length is  5\n",
      "Saving round 16 aggregated_parameters...\n"
     ]
    },
    {
     "name": "stderr",
     "output_type": "stream",
     "text": [
      "DEBUG flwr 2023-08-29 09:18:20,656 | server.py:187 | evaluate_round 16 received 5 results and 0 failures\n",
      "DEBUG flwr 2023-08-29 09:18:20,657 | server.py:222 | fit_round 17: strategy sampled 5 clients (out of 10)\n"
     ]
    },
    {
     "name": "stdout",
     "output_type": "stream",
     "text": [
      "agrregate_evaluate results list length is  5\n",
      "server round is  16\n",
      "loss is  0.7444444444444445\n"
     ]
    },
    {
     "name": "stderr",
     "output_type": "stream",
     "text": [
      "DEBUG flwr 2023-08-29 09:18:22,247 | server.py:236 | fit_round 17 received 5 results and 0 failures\n",
      "DEBUG flwr 2023-08-29 09:18:22,377 | server.py:173 | evaluate_round 17: strategy sampled 5 clients (out of 10)\n"
     ]
    },
    {
     "name": "stdout",
     "output_type": "stream",
     "text": [
      "agrregate_fit results list length is  5\n",
      "Saving round 17 aggregated_parameters...\n"
     ]
    },
    {
     "name": "stderr",
     "output_type": "stream",
     "text": [
      "DEBUG flwr 2023-08-29 09:18:22,845 | server.py:187 | evaluate_round 17 received 5 results and 0 failures\n",
      "DEBUG flwr 2023-08-29 09:18:22,847 | server.py:222 | fit_round 18: strategy sampled 5 clients (out of 10)\n"
     ]
    },
    {
     "name": "stdout",
     "output_type": "stream",
     "text": [
      "agrregate_evaluate results list length is  5\n",
      "server round is  17\n",
      "loss is  0.7333333333333333\n"
     ]
    },
    {
     "name": "stderr",
     "output_type": "stream",
     "text": [
      "DEBUG flwr 2023-08-29 09:18:41,047 | server.py:236 | fit_round 18 received 5 results and 0 failures\n",
      "DEBUG flwr 2023-08-29 09:18:41,149 | server.py:173 | evaluate_round 18: strategy sampled 5 clients (out of 10)\n"
     ]
    },
    {
     "name": "stdout",
     "output_type": "stream",
     "text": [
      "agrregate_fit results list length is  5\n",
      "Saving round 18 aggregated_parameters...\n"
     ]
    },
    {
     "name": "stderr",
     "output_type": "stream",
     "text": [
      "DEBUG flwr 2023-08-29 09:18:41,526 | server.py:187 | evaluate_round 18 received 5 results and 0 failures\n",
      "DEBUG flwr 2023-08-29 09:18:41,527 | server.py:222 | fit_round 19: strategy sampled 5 clients (out of 10)\n"
     ]
    },
    {
     "name": "stdout",
     "output_type": "stream",
     "text": [
      "agrregate_evaluate results list length is  5\n",
      "server round is  18\n",
      "loss is  0.6888888888888889\n"
     ]
    },
    {
     "name": "stderr",
     "output_type": "stream",
     "text": [
      "DEBUG flwr 2023-08-29 09:18:43,163 | server.py:236 | fit_round 19 received 5 results and 0 failures\n",
      "DEBUG flwr 2023-08-29 09:18:43,298 | server.py:173 | evaluate_round 19: strategy sampled 5 clients (out of 10)\n"
     ]
    },
    {
     "name": "stdout",
     "output_type": "stream",
     "text": [
      "agrregate_fit results list length is  5\n",
      "Saving round 19 aggregated_parameters...\n"
     ]
    },
    {
     "name": "stderr",
     "output_type": "stream",
     "text": [
      "DEBUG flwr 2023-08-29 09:18:43,795 | server.py:187 | evaluate_round 19 received 5 results and 0 failures\n",
      "DEBUG flwr 2023-08-29 09:18:43,796 | server.py:222 | fit_round 20: strategy sampled 5 clients (out of 10)\n"
     ]
    },
    {
     "name": "stdout",
     "output_type": "stream",
     "text": [
      "agrregate_evaluate results list length is  5\n",
      "server round is  19\n",
      "loss is  0.7166666666666667\n"
     ]
    },
    {
     "name": "stderr",
     "output_type": "stream",
     "text": [
      "DEBUG flwr 2023-08-29 09:18:45,506 | server.py:236 | fit_round 20 received 5 results and 0 failures\n",
      "DEBUG flwr 2023-08-29 09:18:45,665 | server.py:173 | evaluate_round 20: strategy sampled 5 clients (out of 10)\n"
     ]
    },
    {
     "name": "stdout",
     "output_type": "stream",
     "text": [
      "agrregate_fit results list length is  5\n",
      "Saving round 20 aggregated_parameters...\n"
     ]
    },
    {
     "name": "stderr",
     "output_type": "stream",
     "text": [
      "DEBUG flwr 2023-08-29 09:18:46,189 | server.py:187 | evaluate_round 20 received 5 results and 0 failures\n",
      "DEBUG flwr 2023-08-29 09:18:46,192 | server.py:222 | fit_round 21: strategy sampled 5 clients (out of 10)\n"
     ]
    },
    {
     "name": "stdout",
     "output_type": "stream",
     "text": [
      "agrregate_evaluate results list length is  5\n",
      "server round is  20\n",
      "loss is  0.6833333333333333\n"
     ]
    },
    {
     "name": "stderr",
     "output_type": "stream",
     "text": [
      "DEBUG flwr 2023-08-29 09:19:04,404 | server.py:236 | fit_round 21 received 5 results and 0 failures\n",
      "DEBUG flwr 2023-08-29 09:19:04,524 | server.py:173 | evaluate_round 21: strategy sampled 5 clients (out of 10)\n"
     ]
    },
    {
     "name": "stdout",
     "output_type": "stream",
     "text": [
      "agrregate_fit results list length is  5\n",
      "Saving round 21 aggregated_parameters...\n"
     ]
    },
    {
     "name": "stderr",
     "output_type": "stream",
     "text": [
      "DEBUG flwr 2023-08-29 09:19:04,970 | server.py:187 | evaluate_round 21 received 5 results and 0 failures\n",
      "DEBUG flwr 2023-08-29 09:19:04,972 | server.py:222 | fit_round 22: strategy sampled 5 clients (out of 10)\n"
     ]
    },
    {
     "name": "stdout",
     "output_type": "stream",
     "text": [
      "agrregate_evaluate results list length is  5\n",
      "server round is  21\n",
      "loss is  0.7722222222222223\n"
     ]
    },
    {
     "name": "stderr",
     "output_type": "stream",
     "text": [
      "DEBUG flwr 2023-08-29 09:19:06,561 | server.py:236 | fit_round 22 received 5 results and 0 failures\n",
      "DEBUG flwr 2023-08-29 09:19:06,689 | server.py:173 | evaluate_round 22: strategy sampled 5 clients (out of 10)\n"
     ]
    },
    {
     "name": "stdout",
     "output_type": "stream",
     "text": [
      "agrregate_fit results list length is  5\n",
      "Saving round 22 aggregated_parameters...\n"
     ]
    },
    {
     "name": "stderr",
     "output_type": "stream",
     "text": [
      "DEBUG flwr 2023-08-29 09:19:07,186 | server.py:187 | evaluate_round 22 received 5 results and 0 failures\n",
      "DEBUG flwr 2023-08-29 09:19:07,188 | server.py:222 | fit_round 23: strategy sampled 5 clients (out of 10)\n"
     ]
    },
    {
     "name": "stdout",
     "output_type": "stream",
     "text": [
      "agrregate_evaluate results list length is  5\n",
      "server round is  22\n",
      "loss is  0.65\n"
     ]
    },
    {
     "name": "stderr",
     "output_type": "stream",
     "text": [
      "DEBUG flwr 2023-08-29 09:19:25,124 | server.py:236 | fit_round 23 received 5 results and 0 failures\n",
      "DEBUG flwr 2023-08-29 09:19:25,224 | server.py:173 | evaluate_round 23: strategy sampled 5 clients (out of 10)\n"
     ]
    },
    {
     "name": "stdout",
     "output_type": "stream",
     "text": [
      "agrregate_fit results list length is  5\n",
      "Saving round 23 aggregated_parameters...\n"
     ]
    },
    {
     "name": "stderr",
     "output_type": "stream",
     "text": [
      "DEBUG flwr 2023-08-29 09:19:25,618 | server.py:187 | evaluate_round 23 received 5 results and 0 failures\n",
      "DEBUG flwr 2023-08-29 09:19:25,620 | server.py:222 | fit_round 24: strategy sampled 5 clients (out of 10)\n"
     ]
    },
    {
     "name": "stdout",
     "output_type": "stream",
     "text": [
      "agrregate_evaluate results list length is  5\n",
      "server round is  23\n",
      "loss is  0.6333333333333333\n"
     ]
    },
    {
     "name": "stderr",
     "output_type": "stream",
     "text": [
      "DEBUG flwr 2023-08-29 09:19:27,238 | server.py:236 | fit_round 24 received 5 results and 0 failures\n",
      "DEBUG flwr 2023-08-29 09:19:27,373 | server.py:173 | evaluate_round 24: strategy sampled 5 clients (out of 10)\n"
     ]
    },
    {
     "name": "stdout",
     "output_type": "stream",
     "text": [
      "agrregate_fit results list length is  5\n",
      "Saving round 24 aggregated_parameters...\n"
     ]
    },
    {
     "name": "stderr",
     "output_type": "stream",
     "text": [
      "DEBUG flwr 2023-08-29 09:19:27,886 | server.py:187 | evaluate_round 24 received 5 results and 0 failures\n",
      "DEBUG flwr 2023-08-29 09:19:27,888 | server.py:222 | fit_round 25: strategy sampled 5 clients (out of 10)\n"
     ]
    },
    {
     "name": "stdout",
     "output_type": "stream",
     "text": [
      "agrregate_evaluate results list length is  5\n",
      "server round is  24\n",
      "loss is  0.6111111111111113\n"
     ]
    },
    {
     "name": "stderr",
     "output_type": "stream",
     "text": [
      "DEBUG flwr 2023-08-29 09:19:29,688 | server.py:236 | fit_round 25 received 5 results and 0 failures\n",
      "DEBUG flwr 2023-08-29 09:19:29,835 | server.py:173 | evaluate_round 25: strategy sampled 5 clients (out of 10)\n"
     ]
    },
    {
     "name": "stdout",
     "output_type": "stream",
     "text": [
      "agrregate_fit results list length is  5\n",
      "Saving round 25 aggregated_parameters...\n"
     ]
    },
    {
     "name": "stderr",
     "output_type": "stream",
     "text": [
      "DEBUG flwr 2023-08-29 09:19:30,309 | server.py:187 | evaluate_round 25 received 5 results and 0 failures\n",
      "DEBUG flwr 2023-08-29 09:19:30,311 | server.py:222 | fit_round 26: strategy sampled 5 clients (out of 10)\n"
     ]
    },
    {
     "name": "stdout",
     "output_type": "stream",
     "text": [
      "agrregate_evaluate results list length is  5\n",
      "server round is  25\n",
      "loss is  0.6777777777777778\n"
     ]
    },
    {
     "name": "stderr",
     "output_type": "stream",
     "text": [
      "DEBUG flwr 2023-08-29 09:19:32,041 | server.py:236 | fit_round 26 received 5 results and 0 failures\n",
      "DEBUG flwr 2023-08-29 09:19:32,202 | server.py:173 | evaluate_round 26: strategy sampled 5 clients (out of 10)\n"
     ]
    },
    {
     "name": "stdout",
     "output_type": "stream",
     "text": [
      "agrregate_fit results list length is  5\n",
      "Saving round 26 aggregated_parameters...\n"
     ]
    },
    {
     "name": "stderr",
     "output_type": "stream",
     "text": [
      "DEBUG flwr 2023-08-29 09:19:32,764 | server.py:187 | evaluate_round 26 received 5 results and 0 failures\n",
      "DEBUG flwr 2023-08-29 09:19:32,765 | server.py:222 | fit_round 27: strategy sampled 5 clients (out of 10)\n"
     ]
    },
    {
     "name": "stdout",
     "output_type": "stream",
     "text": [
      "agrregate_evaluate results list length is  5\n",
      "server round is  26\n",
      "loss is  0.6555555555555556\n"
     ]
    },
    {
     "name": "stderr",
     "output_type": "stream",
     "text": [
      "DEBUG flwr 2023-08-29 09:19:50,611 | server.py:236 | fit_round 27 received 5 results and 0 failures\n",
      "DEBUG flwr 2023-08-29 09:19:50,716 | server.py:173 | evaluate_round 27: strategy sampled 5 clients (out of 10)\n"
     ]
    },
    {
     "name": "stdout",
     "output_type": "stream",
     "text": [
      "agrregate_fit results list length is  5\n",
      "Saving round 27 aggregated_parameters...\n"
     ]
    },
    {
     "name": "stderr",
     "output_type": "stream",
     "text": [
      "DEBUG flwr 2023-08-29 09:19:51,152 | server.py:187 | evaluate_round 27 received 5 results and 0 failures\n",
      "DEBUG flwr 2023-08-29 09:19:51,154 | server.py:222 | fit_round 28: strategy sampled 5 clients (out of 10)\n"
     ]
    },
    {
     "name": "stdout",
     "output_type": "stream",
     "text": [
      "agrregate_evaluate results list length is  5\n",
      "server round is  27\n",
      "loss is  0.65\n"
     ]
    },
    {
     "name": "stderr",
     "output_type": "stream",
     "text": [
      "DEBUG flwr 2023-08-29 09:19:52,797 | server.py:236 | fit_round 28 received 5 results and 0 failures\n",
      "DEBUG flwr 2023-08-29 09:19:52,930 | server.py:173 | evaluate_round 28: strategy sampled 5 clients (out of 10)\n"
     ]
    },
    {
     "name": "stdout",
     "output_type": "stream",
     "text": [
      "agrregate_fit results list length is  5\n",
      "Saving round 28 aggregated_parameters...\n"
     ]
    },
    {
     "name": "stderr",
     "output_type": "stream",
     "text": [
      "DEBUG flwr 2023-08-29 09:19:53,445 | server.py:187 | evaluate_round 28 received 5 results and 0 failures\n",
      "DEBUG flwr 2023-08-29 09:19:53,448 | server.py:222 | fit_round 29: strategy sampled 5 clients (out of 10)\n"
     ]
    },
    {
     "name": "stdout",
     "output_type": "stream",
     "text": [
      "agrregate_evaluate results list length is  5\n",
      "server round is  28\n",
      "loss is  0.6277777777777778\n"
     ]
    },
    {
     "name": "stderr",
     "output_type": "stream",
     "text": [
      "DEBUG flwr 2023-08-29 09:19:55,110 | server.py:236 | fit_round 29 received 5 results and 0 failures\n",
      "DEBUG flwr 2023-08-29 09:19:55,251 | server.py:173 | evaluate_round 29: strategy sampled 5 clients (out of 10)\n"
     ]
    },
    {
     "name": "stdout",
     "output_type": "stream",
     "text": [
      "agrregate_fit results list length is  5\n",
      "Saving round 29 aggregated_parameters...\n"
     ]
    },
    {
     "name": "stderr",
     "output_type": "stream",
     "text": [
      "DEBUG flwr 2023-08-29 09:19:55,805 | server.py:187 | evaluate_round 29 received 5 results and 0 failures\n",
      "DEBUG flwr 2023-08-29 09:19:55,806 | server.py:222 | fit_round 30: strategy sampled 5 clients (out of 10)\n"
     ]
    },
    {
     "name": "stdout",
     "output_type": "stream",
     "text": [
      "agrregate_evaluate results list length is  5\n",
      "server round is  29\n",
      "loss is  0.6333333333333333\n"
     ]
    },
    {
     "name": "stderr",
     "output_type": "stream",
     "text": [
      "DEBUG flwr 2023-08-29 09:19:57,509 | server.py:236 | fit_round 30 received 5 results and 0 failures\n",
      "DEBUG flwr 2023-08-29 09:19:57,639 | server.py:173 | evaluate_round 30: strategy sampled 5 clients (out of 10)\n"
     ]
    },
    {
     "name": "stdout",
     "output_type": "stream",
     "text": [
      "agrregate_fit results list length is  5\n",
      "Saving round 30 aggregated_parameters...\n"
     ]
    },
    {
     "name": "stderr",
     "output_type": "stream",
     "text": [
      "DEBUG flwr 2023-08-29 09:19:58,135 | server.py:187 | evaluate_round 30 received 5 results and 0 failures\n",
      "DEBUG flwr 2023-08-29 09:19:58,137 | server.py:222 | fit_round 31: strategy sampled 5 clients (out of 10)\n"
     ]
    },
    {
     "name": "stdout",
     "output_type": "stream",
     "text": [
      "agrregate_evaluate results list length is  5\n",
      "server round is  30\n",
      "loss is  0.6833333333333333\n"
     ]
    },
    {
     "name": "stderr",
     "output_type": "stream",
     "text": [
      "DEBUG flwr 2023-08-29 09:19:59,874 | server.py:236 | fit_round 31 received 5 results and 0 failures\n",
      "DEBUG flwr 2023-08-29 09:20:00,016 | server.py:173 | evaluate_round 31: strategy sampled 5 clients (out of 10)\n"
     ]
    },
    {
     "name": "stdout",
     "output_type": "stream",
     "text": [
      "agrregate_fit results list length is  5\n",
      "Saving round 31 aggregated_parameters...\n"
     ]
    },
    {
     "name": "stderr",
     "output_type": "stream",
     "text": [
      "DEBUG flwr 2023-08-29 09:20:00,562 | server.py:187 | evaluate_round 31 received 5 results and 0 failures\n",
      "DEBUG flwr 2023-08-29 09:20:00,563 | server.py:222 | fit_round 32: strategy sampled 5 clients (out of 10)\n"
     ]
    },
    {
     "name": "stdout",
     "output_type": "stream",
     "text": [
      "agrregate_evaluate results list length is  5\n",
      "server round is  31\n",
      "loss is  0.6944444444444444\n"
     ]
    },
    {
     "name": "stderr",
     "output_type": "stream",
     "text": [
      "DEBUG flwr 2023-08-29 09:20:18,179 | server.py:236 | fit_round 32 received 5 results and 0 failures\n",
      "DEBUG flwr 2023-08-29 09:20:18,281 | server.py:173 | evaluate_round 32: strategy sampled 5 clients (out of 10)\n"
     ]
    },
    {
     "name": "stdout",
     "output_type": "stream",
     "text": [
      "agrregate_fit results list length is  5\n",
      "Saving round 32 aggregated_parameters...\n"
     ]
    },
    {
     "name": "stderr",
     "output_type": "stream",
     "text": [
      "DEBUG flwr 2023-08-29 09:20:18,742 | server.py:187 | evaluate_round 32 received 5 results and 0 failures\n",
      "DEBUG flwr 2023-08-29 09:20:18,744 | server.py:222 | fit_round 33: strategy sampled 5 clients (out of 10)\n"
     ]
    },
    {
     "name": "stdout",
     "output_type": "stream",
     "text": [
      "agrregate_evaluate results list length is  5\n",
      "server round is  32\n",
      "loss is  0.6722222222222224\n"
     ]
    },
    {
     "name": "stderr",
     "output_type": "stream",
     "text": [
      "DEBUG flwr 2023-08-29 09:20:20,411 | server.py:236 | fit_round 33 received 5 results and 0 failures\n",
      "DEBUG flwr 2023-08-29 09:20:20,550 | server.py:173 | evaluate_round 33: strategy sampled 5 clients (out of 10)\n"
     ]
    },
    {
     "name": "stdout",
     "output_type": "stream",
     "text": [
      "agrregate_fit results list length is  5\n",
      "Saving round 33 aggregated_parameters...\n"
     ]
    },
    {
     "name": "stderr",
     "output_type": "stream",
     "text": [
      "DEBUG flwr 2023-08-29 09:20:21,053 | server.py:187 | evaluate_round 33 received 5 results and 0 failures\n",
      "DEBUG flwr 2023-08-29 09:20:21,055 | server.py:222 | fit_round 34: strategy sampled 5 clients (out of 10)\n"
     ]
    },
    {
     "name": "stdout",
     "output_type": "stream",
     "text": [
      "agrregate_evaluate results list length is  5\n",
      "server round is  33\n",
      "loss is  0.6055555555555554\n"
     ]
    },
    {
     "name": "stderr",
     "output_type": "stream",
     "text": [
      "DEBUG flwr 2023-08-29 09:20:39,304 | server.py:236 | fit_round 34 received 5 results and 0 failures\n",
      "DEBUG flwr 2023-08-29 09:20:39,412 | server.py:173 | evaluate_round 34: strategy sampled 5 clients (out of 10)\n"
     ]
    },
    {
     "name": "stdout",
     "output_type": "stream",
     "text": [
      "agrregate_fit results list length is  5\n",
      "Saving round 34 aggregated_parameters...\n"
     ]
    },
    {
     "name": "stderr",
     "output_type": "stream",
     "text": [
      "DEBUG flwr 2023-08-29 09:20:39,857 | server.py:187 | evaluate_round 34 received 5 results and 0 failures\n",
      "DEBUG flwr 2023-08-29 09:20:39,858 | server.py:222 | fit_round 35: strategy sampled 5 clients (out of 10)\n"
     ]
    },
    {
     "name": "stdout",
     "output_type": "stream",
     "text": [
      "agrregate_evaluate results list length is  5\n",
      "server round is  34\n",
      "loss is  0.5722222222222222\n"
     ]
    },
    {
     "name": "stderr",
     "output_type": "stream",
     "text": [
      "DEBUG flwr 2023-08-29 09:20:57,763 | server.py:236 | fit_round 35 received 5 results and 0 failures\n",
      "DEBUG flwr 2023-08-29 09:20:57,887 | server.py:173 | evaluate_round 35: strategy sampled 5 clients (out of 10)\n"
     ]
    },
    {
     "name": "stdout",
     "output_type": "stream",
     "text": [
      "agrregate_fit results list length is  5\n",
      "Saving round 35 aggregated_parameters...\n"
     ]
    },
    {
     "name": "stderr",
     "output_type": "stream",
     "text": [
      "DEBUG flwr 2023-08-29 09:20:58,317 | server.py:187 | evaluate_round 35 received 5 results and 0 failures\n",
      "DEBUG flwr 2023-08-29 09:20:58,318 | server.py:222 | fit_round 36: strategy sampled 5 clients (out of 10)\n"
     ]
    },
    {
     "name": "stdout",
     "output_type": "stream",
     "text": [
      "agrregate_evaluate results list length is  5\n",
      "server round is  35\n",
      "loss is  0.5888888888888889\n"
     ]
    },
    {
     "name": "stderr",
     "output_type": "stream",
     "text": [
      "DEBUG flwr 2023-08-29 09:21:16,198 | server.py:236 | fit_round 36 received 5 results and 0 failures\n",
      "DEBUG flwr 2023-08-29 09:21:16,315 | server.py:173 | evaluate_round 36: strategy sampled 5 clients (out of 10)\n"
     ]
    },
    {
     "name": "stdout",
     "output_type": "stream",
     "text": [
      "agrregate_fit results list length is  5\n",
      "Saving round 36 aggregated_parameters...\n"
     ]
    },
    {
     "name": "stderr",
     "output_type": "stream",
     "text": [
      "DEBUG flwr 2023-08-29 09:21:16,786 | server.py:187 | evaluate_round 36 received 5 results and 0 failures\n",
      "DEBUG flwr 2023-08-29 09:21:16,788 | server.py:222 | fit_round 37: strategy sampled 5 clients (out of 10)\n"
     ]
    },
    {
     "name": "stdout",
     "output_type": "stream",
     "text": [
      "agrregate_evaluate results list length is  5\n",
      "server round is  36\n",
      "loss is  0.5388888888888889\n"
     ]
    },
    {
     "name": "stderr",
     "output_type": "stream",
     "text": [
      "DEBUG flwr 2023-08-29 09:21:18,472 | server.py:236 | fit_round 37 received 5 results and 0 failures\n",
      "DEBUG flwr 2023-08-29 09:21:18,605 | server.py:173 | evaluate_round 37: strategy sampled 5 clients (out of 10)\n"
     ]
    },
    {
     "name": "stdout",
     "output_type": "stream",
     "text": [
      "agrregate_fit results list length is  5\n",
      "Saving round 37 aggregated_parameters...\n"
     ]
    },
    {
     "name": "stderr",
     "output_type": "stream",
     "text": [
      "DEBUG flwr 2023-08-29 09:21:19,047 | server.py:187 | evaluate_round 37 received 5 results and 0 failures\n",
      "DEBUG flwr 2023-08-29 09:21:19,048 | server.py:222 | fit_round 38: strategy sampled 5 clients (out of 10)\n"
     ]
    },
    {
     "name": "stdout",
     "output_type": "stream",
     "text": [
      "agrregate_evaluate results list length is  5\n",
      "server round is  37\n",
      "loss is  0.5722222222222222\n"
     ]
    },
    {
     "name": "stderr",
     "output_type": "stream",
     "text": [
      "DEBUG flwr 2023-08-29 09:21:20,652 | server.py:236 | fit_round 38 received 5 results and 0 failures\n",
      "DEBUG flwr 2023-08-29 09:21:20,774 | server.py:173 | evaluate_round 38: strategy sampled 5 clients (out of 10)\n"
     ]
    },
    {
     "name": "stdout",
     "output_type": "stream",
     "text": [
      "agrregate_fit results list length is  5\n",
      "Saving round 38 aggregated_parameters...\n"
     ]
    },
    {
     "name": "stderr",
     "output_type": "stream",
     "text": [
      "DEBUG flwr 2023-08-29 09:21:21,273 | server.py:187 | evaluate_round 38 received 5 results and 0 failures\n",
      "DEBUG flwr 2023-08-29 09:21:21,275 | server.py:222 | fit_round 39: strategy sampled 5 clients (out of 10)\n"
     ]
    },
    {
     "name": "stdout",
     "output_type": "stream",
     "text": [
      "agrregate_evaluate results list length is  5\n",
      "server round is  38\n",
      "loss is  0.6666666666666666\n"
     ]
    },
    {
     "name": "stderr",
     "output_type": "stream",
     "text": [
      "DEBUG flwr 2023-08-29 09:21:39,196 | server.py:236 | fit_round 39 received 5 results and 0 failures\n",
      "DEBUG flwr 2023-08-29 09:21:39,306 | server.py:173 | evaluate_round 39: strategy sampled 5 clients (out of 10)\n"
     ]
    },
    {
     "name": "stdout",
     "output_type": "stream",
     "text": [
      "agrregate_fit results list length is  5\n",
      "Saving round 39 aggregated_parameters...\n"
     ]
    },
    {
     "name": "stderr",
     "output_type": "stream",
     "text": [
      "DEBUG flwr 2023-08-29 09:21:39,741 | server.py:187 | evaluate_round 39 received 5 results and 0 failures\n",
      "DEBUG flwr 2023-08-29 09:21:39,743 | server.py:222 | fit_round 40: strategy sampled 5 clients (out of 10)\n"
     ]
    },
    {
     "name": "stdout",
     "output_type": "stream",
     "text": [
      "agrregate_evaluate results list length is  5\n",
      "server round is  39\n",
      "loss is  0.6888888888888889\n"
     ]
    },
    {
     "name": "stderr",
     "output_type": "stream",
     "text": [
      "DEBUG flwr 2023-08-29 09:21:41,350 | server.py:236 | fit_round 40 received 5 results and 0 failures\n",
      "DEBUG flwr 2023-08-29 09:21:41,472 | server.py:173 | evaluate_round 40: strategy sampled 5 clients (out of 10)\n"
     ]
    },
    {
     "name": "stdout",
     "output_type": "stream",
     "text": [
      "agrregate_fit results list length is  5\n",
      "Saving round 40 aggregated_parameters...\n"
     ]
    },
    {
     "name": "stderr",
     "output_type": "stream",
     "text": [
      "DEBUG flwr 2023-08-29 09:21:41,911 | server.py:187 | evaluate_round 40 received 5 results and 0 failures\n",
      "INFO flwr 2023-08-29 09:21:41,913 | server.py:153 | FL finished in 323.9239736999989\n",
      "INFO flwr 2023-08-29 09:21:41,918 | app.py:225 | app_fit: losses_distributed [(1, 2.911111111111111), (2, 2.6888888888888896), (3, 2.066666666666667), (4, 1.9055555555555554), (5, 2.0833333333333335), (6, 1.9055555555555554), (7, 2.022222222222222), (8, 1.8333333333333333), (9, 1.9055555555555554), (10, 2.0277777777777777), (11, 1.0833333333333333), (12, 0.9), (13, 0.7888888888888889), (14, 0.7555555555555555), (15, 0.7055555555555557), (16, 0.7444444444444445), (17, 0.7333333333333333), (18, 0.6888888888888889), (19, 0.7166666666666667), (20, 0.6833333333333333), (21, 0.7722222222222223), (22, 0.65), (23, 0.6333333333333333), (24, 0.6111111111111113), (25, 0.6777777777777778), (26, 0.6555555555555556), (27, 0.65), (28, 0.6277777777777778), (29, 0.6333333333333333), (30, 0.6833333333333333), (31, 0.6944444444444444), (32, 0.6722222222222224), (33, 0.6055555555555554), (34, 0.5722222222222222), (35, 0.5888888888888889), (36, 0.5388888888888889), (37, 0.5722222222222222), (38, 0.6666666666666666), (39, 0.6888888888888889), (40, 0.5444444444444444)]\n",
      "INFO flwr 2023-08-29 09:21:41,919 | app.py:226 | app_fit: metrics_distributed_fit {}\n",
      "INFO flwr 2023-08-29 09:21:41,920 | app.py:227 | app_fit: metrics_distributed {'mse': [(1, 14.555555555555555), (2, 13.444444444444446), (3, 10.333333333333334), (4, 9.527777777777777), (5, 10.416666666666668), (6, 9.527777777777777), (7, 10.11111111111111), (8, 9.166666666666666), (9, 9.527777777777777), (10, 10.13888888888889), (11, 5.416666666666666), (12, 4.5), (13, 3.944444444444444), (14, 3.7777777777777777), (15, 3.527777777777778), (16, 3.7222222222222223), (17, 3.6666666666666665), (18, 3.4444444444444446), (19, 3.5833333333333335), (20, 3.416666666666667), (21, 3.861111111111111), (22, 3.25), (23, 3.1666666666666665), (24, 3.055555555555556), (25, 3.3888888888888893), (26, 3.2777777777777777), (27, 3.25), (28, 3.138888888888889), (29, 3.1666666666666665), (30, 3.416666666666667), (31, 3.4722222222222223), (32, 3.3611111111111116), (33, 3.0277777777777777), (34, 2.8611111111111107), (35, 2.9444444444444446), (36, 2.694444444444444), (37, 2.8611111111111107), (38, 3.333333333333333), (39, 3.4444444444444446), (40, 2.722222222222222)]}\n",
      "INFO flwr 2023-08-29 09:21:41,922 | app.py:228 | app_fit: losses_centralized []\n",
      "INFO flwr 2023-08-29 09:21:41,923 | app.py:229 | app_fit: metrics_centralized {}\n",
      "C:\\Users\\Shuyao\\AppData\\Local\\Temp\\ipykernel_11996\\3421847257.py:35: UserWarning: To copy construct from a tensor, it is recommended to use sourceTensor.clone().detach() or sourceTensor.clone().detach().requires_grad_(True), rather than torch.tensor(sourceTensor).\n",
      "  y_train = torch.reshape(torch.tensor(y_train), (-1, 1))\n",
      "C:\\Users\\Shuyao\\AppData\\Local\\Temp\\ipykernel_11996\\3421847257.py:36: UserWarning: To copy construct from a tensor, it is recommended to use sourceTensor.clone().detach() or sourceTensor.clone().detach().requires_grad_(True), rather than torch.tensor(sourceTensor).\n",
      "  y_test = torch.reshape(torch.tensor(y_test), (-1, 1))\n"
     ]
    },
    {
     "name": "stdout",
     "output_type": "stream",
     "text": [
      "agrregate_evaluate results list length is  5\n",
      "server round is  40\n",
      "loss is  0.5444444444444444\n",
      "History (loss, distributed):\n",
      "\tround 1: 2.911111111111111\n",
      "\tround 2: 2.6888888888888896\n",
      "\tround 3: 2.066666666666667\n",
      "\tround 4: 1.9055555555555554\n",
      "\tround 5: 2.0833333333333335\n",
      "\tround 6: 1.9055555555555554\n",
      "\tround 7: 2.022222222222222\n",
      "\tround 8: 1.8333333333333333\n",
      "\tround 9: 1.9055555555555554\n",
      "\tround 10: 2.0277777777777777\n",
      "\tround 11: 1.0833333333333333\n",
      "\tround 12: 0.9\n",
      "\tround 13: 0.7888888888888889\n",
      "\tround 14: 0.7555555555555555\n",
      "\tround 15: 0.7055555555555557\n",
      "\tround 16: 0.7444444444444445\n",
      "\tround 17: 0.7333333333333333\n",
      "\tround 18: 0.6888888888888889\n",
      "\tround 19: 0.7166666666666667\n",
      "\tround 20: 0.6833333333333333\n",
      "\tround 21: 0.7722222222222223\n",
      "\tround 22: 0.65\n",
      "\tround 23: 0.6333333333333333\n",
      "\tround 24: 0.6111111111111113\n",
      "\tround 25: 0.6777777777777778\n",
      "\tround 26: 0.6555555555555556\n",
      "\tround 27: 0.65\n",
      "\tround 28: 0.6277777777777778\n",
      "\tround 29: 0.6333333333333333\n",
      "\tround 30: 0.6833333333333333\n",
      "\tround 31: 0.6944444444444444\n",
      "\tround 32: 0.6722222222222224\n",
      "\tround 33: 0.6055555555555554\n",
      "\tround 34: 0.5722222222222222\n",
      "\tround 35: 0.5888888888888889\n",
      "\tround 36: 0.5388888888888889\n",
      "\tround 37: 0.5722222222222222\n",
      "\tround 38: 0.6666666666666666\n",
      "\tround 39: 0.6888888888888889\n",
      "\tround 40: 0.5444444444444444\n",
      "History (metrics, distributed, evaluate):\n",
      "{'mse': [(1, 14.555555555555555), (2, 13.444444444444446), (3, 10.333333333333334), (4, 9.527777777777777), (5, 10.416666666666668), (6, 9.527777777777777), (7, 10.11111111111111), (8, 9.166666666666666), (9, 9.527777777777777), (10, 10.13888888888889), (11, 5.416666666666666), (12, 4.5), (13, 3.944444444444444), (14, 3.7777777777777777), (15, 3.527777777777778), (16, 3.7222222222222223), (17, 3.6666666666666665), (18, 3.4444444444444446), (19, 3.5833333333333335), (20, 3.416666666666667), (21, 3.861111111111111), (22, 3.25), (23, 3.1666666666666665), (24, 3.055555555555556), (25, 3.3888888888888893), (26, 3.2777777777777777), (27, 3.25), (28, 3.138888888888889), (29, 3.1666666666666665), (30, 3.416666666666667), (31, 3.4722222222222223), (32, 3.3611111111111116), (33, 3.0277777777777777), (34, 2.8611111111111107), (35, 2.9444444444444446), (36, 2.694444444444444), (37, 2.8611111111111107), (38, 3.333333333333333), (39, 3.4444444444444446), (40, 2.722222222222222)]}\n",
      "[(1, 2.911111111111111), (2, 2.6888888888888896), (3, 2.066666666666667), (4, 1.9055555555555554), (5, 2.0833333333333335), (6, 1.9055555555555554), (7, 2.022222222222222), (8, 1.8333333333333333), (9, 1.9055555555555554), (10, 2.0277777777777777), (11, 1.0833333333333333), (12, 0.9), (13, 0.7888888888888889), (14, 0.7555555555555555), (15, 0.7055555555555557), (16, 0.7444444444444445), (17, 0.7333333333333333), (18, 0.6888888888888889), (19, 0.7166666666666667), (20, 0.6833333333333333), (21, 0.7722222222222223), (22, 0.65), (23, 0.6333333333333333), (24, 0.6111111111111113), (25, 0.6777777777777778), (26, 0.6555555555555556), (27, 0.65), (28, 0.6277777777777778), (29, 0.6333333333333333), (30, 0.6833333333333333), (31, 0.6944444444444444), (32, 0.6722222222222224), (33, 0.6055555555555554), (34, 0.5722222222222222), (35, 0.5888888888888889), (36, 0.5388888888888889), (37, 0.5722222222222222), (38, 0.6666666666666666), (39, 0.6888888888888889), (40, 0.5444444444444444)]\n",
      "Fold 4:\n",
      "Client 0 trainset shape torch.Size([581, 3, 23])\n",
      "Client 1 trainset shape torch.Size([14, 3, 23])\n",
      "Client 2 trainset shape torch.Size([14, 3, 23])\n",
      "Client 3 trainset shape torch.Size([14, 3, 23])\n"
     ]
    },
    {
     "name": "stderr",
     "output_type": "stream",
     "text": [
      "INFO flwr 2023-08-29 09:21:42,163 | app.py:145 | Starting Flower simulation, config: ServerConfig(num_rounds=40, round_timeout=None)\n"
     ]
    },
    {
     "name": "stdout",
     "output_type": "stream",
     "text": [
      "Client 4 trainset shape torch.Size([14, 3, 23])\n",
      "Client 5 trainset shape torch.Size([14, 3, 23])\n",
      "Client 6 trainset shape torch.Size([14, 3, 23])\n",
      "Client 7 trainset shape torch.Size([14, 3, 23])\n",
      "Client 8 trainset shape torch.Size([14, 3, 23])\n",
      "Client 9 trainset shape torch.Size([14, 3, 23])\n"
     ]
    },
    {
     "name": "stderr",
     "output_type": "stream",
     "text": [
      "2023-08-29 09:21:50,437\tINFO worker.py:1627 -- Started a local Ray instance. View the dashboard at \u001B[1m\u001B[32m127.0.0.1:8265 \u001B[39m\u001B[22m\n",
      "INFO flwr 2023-08-29 09:21:55,486 | app.py:179 | Flower VCE: Ray initialized with resources: {'CPU': 8.0, 'node:127.0.0.1': 1.0, 'object_store_memory': 1482489446.0, 'memory': 2964978894.0, 'GPU': 1.0}\n",
      "INFO flwr 2023-08-29 09:21:55,488 | server.py:89 | Initializing global parameters\n",
      "INFO flwr 2023-08-29 09:21:55,490 | server.py:276 | Requesting initial parameters from one random client\n",
      "INFO flwr 2023-08-29 09:21:58,451 | server.py:280 | Received initial parameters from one random client\n",
      "INFO flwr 2023-08-29 09:21:58,452 | server.py:91 | Evaluating initial parameters\n",
      "INFO flwr 2023-08-29 09:21:58,453 | server.py:104 | FL starting\n",
      "DEBUG flwr 2023-08-29 09:21:58,453 | server.py:222 | fit_round 1: strategy sampled 5 clients (out of 10)\n",
      "DEBUG flwr 2023-08-29 09:22:04,164 | server.py:236 | fit_round 1 received 5 results and 0 failures\n",
      "WARNING flwr 2023-08-29 09:22:04,246 | fedavg.py:242 | No fit_metrics_aggregation_fn provided\n",
      "DEBUG flwr 2023-08-29 09:22:04,296 | server.py:173 | evaluate_round 1: strategy sampled 5 clients (out of 10)\n"
     ]
    },
    {
     "name": "stdout",
     "output_type": "stream",
     "text": [
      "agrregate_fit results list length is  5\n",
      "Saving round 1 aggregated_parameters...\n"
     ]
    },
    {
     "name": "stderr",
     "output_type": "stream",
     "text": [
      "DEBUG flwr 2023-08-29 09:22:04,796 | server.py:187 | evaluate_round 1 received 5 results and 0 failures\n",
      "DEBUG flwr 2023-08-29 09:22:04,796 | server.py:222 | fit_round 2: strategy sampled 5 clients (out of 10)\n"
     ]
    },
    {
     "name": "stdout",
     "output_type": "stream",
     "text": [
      "agrregate_evaluate results list length is  5\n",
      "server round is  1\n",
      "loss is  47.77777777777778\n"
     ]
    },
    {
     "name": "stderr",
     "output_type": "stream",
     "text": [
      "DEBUG flwr 2023-08-29 09:22:06,406 | server.py:236 | fit_round 2 received 5 results and 0 failures\n",
      "DEBUG flwr 2023-08-29 09:22:06,541 | server.py:173 | evaluate_round 2: strategy sampled 5 clients (out of 10)\n"
     ]
    },
    {
     "name": "stdout",
     "output_type": "stream",
     "text": [
      "agrregate_fit results list length is  5\n",
      "Saving round 2 aggregated_parameters...\n"
     ]
    },
    {
     "name": "stderr",
     "output_type": "stream",
     "text": [
      "DEBUG flwr 2023-08-29 09:22:07,025 | server.py:187 | evaluate_round 2 received 5 results and 0 failures\n",
      "DEBUG flwr 2023-08-29 09:22:07,027 | server.py:222 | fit_round 3: strategy sampled 5 clients (out of 10)\n"
     ]
    },
    {
     "name": "stdout",
     "output_type": "stream",
     "text": [
      "agrregate_evaluate results list length is  5\n",
      "server round is  2\n",
      "loss is  10.827777777777778\n"
     ]
    },
    {
     "name": "stderr",
     "output_type": "stream",
     "text": [
      "DEBUG flwr 2023-08-29 09:22:08,683 | server.py:236 | fit_round 3 received 5 results and 0 failures\n",
      "DEBUG flwr 2023-08-29 09:22:08,812 | server.py:173 | evaluate_round 3: strategy sampled 5 clients (out of 10)\n"
     ]
    },
    {
     "name": "stdout",
     "output_type": "stream",
     "text": [
      "agrregate_fit results list length is  5\n",
      "Saving round 3 aggregated_parameters...\n"
     ]
    },
    {
     "name": "stderr",
     "output_type": "stream",
     "text": [
      "DEBUG flwr 2023-08-29 09:22:09,342 | server.py:187 | evaluate_round 3 received 5 results and 0 failures\n",
      "DEBUG flwr 2023-08-29 09:22:09,344 | server.py:222 | fit_round 4: strategy sampled 5 clients (out of 10)\n"
     ]
    },
    {
     "name": "stdout",
     "output_type": "stream",
     "text": [
      "agrregate_evaluate results list length is  5\n",
      "server round is  3\n",
      "loss is  12.777777777777779\n"
     ]
    },
    {
     "name": "stderr",
     "output_type": "stream",
     "text": [
      "DEBUG flwr 2023-08-29 09:22:11,173 | server.py:236 | fit_round 4 received 5 results and 0 failures\n",
      "DEBUG flwr 2023-08-29 09:22:11,308 | server.py:173 | evaluate_round 4: strategy sampled 5 clients (out of 10)\n"
     ]
    },
    {
     "name": "stdout",
     "output_type": "stream",
     "text": [
      "agrregate_fit results list length is  5\n",
      "Saving round 4 aggregated_parameters...\n"
     ]
    },
    {
     "name": "stderr",
     "output_type": "stream",
     "text": [
      "DEBUG flwr 2023-08-29 09:22:11,812 | server.py:187 | evaluate_round 4 received 5 results and 0 failures\n",
      "DEBUG flwr 2023-08-29 09:22:11,813 | server.py:222 | fit_round 5: strategy sampled 5 clients (out of 10)\n"
     ]
    },
    {
     "name": "stdout",
     "output_type": "stream",
     "text": [
      "agrregate_evaluate results list length is  5\n",
      "server round is  4\n",
      "loss is  6.861111111111111\n"
     ]
    },
    {
     "name": "stderr",
     "output_type": "stream",
     "text": [
      "DEBUG flwr 2023-08-29 09:22:13,519 | server.py:236 | fit_round 5 received 5 results and 0 failures\n",
      "DEBUG flwr 2023-08-29 09:22:13,668 | server.py:173 | evaluate_round 5: strategy sampled 5 clients (out of 10)\n"
     ]
    },
    {
     "name": "stdout",
     "output_type": "stream",
     "text": [
      "agrregate_fit results list length is  5\n",
      "Saving round 5 aggregated_parameters...\n"
     ]
    },
    {
     "name": "stderr",
     "output_type": "stream",
     "text": [
      "DEBUG flwr 2023-08-29 09:22:14,177 | server.py:187 | evaluate_round 5 received 5 results and 0 failures\n",
      "DEBUG flwr 2023-08-29 09:22:14,178 | server.py:222 | fit_round 6: strategy sampled 5 clients (out of 10)\n"
     ]
    },
    {
     "name": "stdout",
     "output_type": "stream",
     "text": [
      "agrregate_evaluate results list length is  5\n",
      "server round is  5\n",
      "loss is  14.4\n"
     ]
    },
    {
     "name": "stderr",
     "output_type": "stream",
     "text": [
      "DEBUG flwr 2023-08-29 09:22:31,904 | server.py:236 | fit_round 6 received 5 results and 0 failures\n",
      "DEBUG flwr 2023-08-29 09:22:32,012 | server.py:173 | evaluate_round 6: strategy sampled 5 clients (out of 10)\n"
     ]
    },
    {
     "name": "stdout",
     "output_type": "stream",
     "text": [
      "agrregate_fit results list length is  5\n",
      "Saving round 6 aggregated_parameters...\n"
     ]
    },
    {
     "name": "stderr",
     "output_type": "stream",
     "text": [
      "DEBUG flwr 2023-08-29 09:22:32,472 | server.py:187 | evaluate_round 6 received 5 results and 0 failures\n",
      "DEBUG flwr 2023-08-29 09:22:32,474 | server.py:222 | fit_round 7: strategy sampled 5 clients (out of 10)\n"
     ]
    },
    {
     "name": "stdout",
     "output_type": "stream",
     "text": [
      "agrregate_evaluate results list length is  5\n",
      "server round is  6\n",
      "loss is  3.3777777777777778\n"
     ]
    },
    {
     "name": "stderr",
     "output_type": "stream",
     "text": [
      "DEBUG flwr 2023-08-29 09:22:34,136 | server.py:236 | fit_round 7 received 5 results and 0 failures\n",
      "DEBUG flwr 2023-08-29 09:22:34,274 | server.py:173 | evaluate_round 7: strategy sampled 5 clients (out of 10)\n"
     ]
    },
    {
     "name": "stdout",
     "output_type": "stream",
     "text": [
      "agrregate_fit results list length is  5\n",
      "Saving round 7 aggregated_parameters...\n"
     ]
    },
    {
     "name": "stderr",
     "output_type": "stream",
     "text": [
      "DEBUG flwr 2023-08-29 09:22:34,807 | server.py:187 | evaluate_round 7 received 5 results and 0 failures\n",
      "DEBUG flwr 2023-08-29 09:22:34,808 | server.py:222 | fit_round 8: strategy sampled 5 clients (out of 10)\n"
     ]
    },
    {
     "name": "stdout",
     "output_type": "stream",
     "text": [
      "agrregate_evaluate results list length is  5\n",
      "server round is  7\n",
      "loss is  1.8222222222222222\n"
     ]
    },
    {
     "name": "stderr",
     "output_type": "stream",
     "text": [
      "DEBUG flwr 2023-08-29 09:22:53,036 | server.py:236 | fit_round 8 received 5 results and 0 failures\n",
      "DEBUG flwr 2023-08-29 09:22:53,147 | server.py:173 | evaluate_round 8: strategy sampled 5 clients (out of 10)\n"
     ]
    },
    {
     "name": "stdout",
     "output_type": "stream",
     "text": [
      "agrregate_fit results list length is  5\n",
      "Saving round 8 aggregated_parameters...\n"
     ]
    },
    {
     "name": "stderr",
     "output_type": "stream",
     "text": [
      "DEBUG flwr 2023-08-29 09:22:53,615 | server.py:187 | evaluate_round 8 received 5 results and 0 failures\n",
      "DEBUG flwr 2023-08-29 09:22:53,617 | server.py:222 | fit_round 9: strategy sampled 5 clients (out of 10)\n"
     ]
    },
    {
     "name": "stdout",
     "output_type": "stream",
     "text": [
      "agrregate_evaluate results list length is  5\n",
      "server round is  8\n",
      "loss is  1.0555555555555556\n"
     ]
    },
    {
     "name": "stderr",
     "output_type": "stream",
     "text": [
      "DEBUG flwr 2023-08-29 09:22:55,299 | server.py:236 | fit_round 9 received 5 results and 0 failures\n",
      "DEBUG flwr 2023-08-29 09:22:55,431 | server.py:173 | evaluate_round 9: strategy sampled 5 clients (out of 10)\n"
     ]
    },
    {
     "name": "stdout",
     "output_type": "stream",
     "text": [
      "agrregate_fit results list length is  5\n",
      "Saving round 9 aggregated_parameters...\n"
     ]
    },
    {
     "name": "stderr",
     "output_type": "stream",
     "text": [
      "DEBUG flwr 2023-08-29 09:22:55,920 | server.py:187 | evaluate_round 9 received 5 results and 0 failures\n",
      "DEBUG flwr 2023-08-29 09:22:55,921 | server.py:222 | fit_round 10: strategy sampled 5 clients (out of 10)\n"
     ]
    },
    {
     "name": "stdout",
     "output_type": "stream",
     "text": [
      "agrregate_evaluate results list length is  5\n",
      "server round is  9\n",
      "loss is  1.0611111111111111\n"
     ]
    },
    {
     "name": "stderr",
     "output_type": "stream",
     "text": [
      "DEBUG flwr 2023-08-29 09:22:57,554 | server.py:236 | fit_round 10 received 5 results and 0 failures\n",
      "DEBUG flwr 2023-08-29 09:22:57,692 | server.py:173 | evaluate_round 10: strategy sampled 5 clients (out of 10)\n"
     ]
    },
    {
     "name": "stdout",
     "output_type": "stream",
     "text": [
      "agrregate_fit results list length is  5\n",
      "Saving round 10 aggregated_parameters...\n"
     ]
    },
    {
     "name": "stderr",
     "output_type": "stream",
     "text": [
      "DEBUG flwr 2023-08-29 09:22:58,216 | server.py:187 | evaluate_round 10 received 5 results and 0 failures\n",
      "DEBUG flwr 2023-08-29 09:22:58,217 | server.py:222 | fit_round 11: strategy sampled 5 clients (out of 10)\n"
     ]
    },
    {
     "name": "stdout",
     "output_type": "stream",
     "text": [
      "agrregate_evaluate results list length is  5\n",
      "server round is  10\n",
      "loss is  0.9777777777777777\n"
     ]
    },
    {
     "name": "stderr",
     "output_type": "stream",
     "text": [
      "DEBUG flwr 2023-08-29 09:22:59,904 | server.py:236 | fit_round 11 received 5 results and 0 failures\n",
      "DEBUG flwr 2023-08-29 09:23:00,042 | server.py:173 | evaluate_round 11: strategy sampled 5 clients (out of 10)\n"
     ]
    },
    {
     "name": "stdout",
     "output_type": "stream",
     "text": [
      "agrregate_fit results list length is  5\n",
      "Saving round 11 aggregated_parameters...\n"
     ]
    },
    {
     "name": "stderr",
     "output_type": "stream",
     "text": [
      "DEBUG flwr 2023-08-29 09:23:00,549 | server.py:187 | evaluate_round 11 received 5 results and 0 failures\n",
      "DEBUG flwr 2023-08-29 09:23:00,550 | server.py:222 | fit_round 12: strategy sampled 5 clients (out of 10)\n"
     ]
    },
    {
     "name": "stdout",
     "output_type": "stream",
     "text": [
      "agrregate_evaluate results list length is  5\n",
      "server round is  11\n",
      "loss is  0.9222222222222223\n"
     ]
    },
    {
     "name": "stderr",
     "output_type": "stream",
     "text": [
      "DEBUG flwr 2023-08-29 09:23:18,372 | server.py:236 | fit_round 12 received 5 results and 0 failures\n",
      "DEBUG flwr 2023-08-29 09:23:18,480 | server.py:173 | evaluate_round 12: strategy sampled 5 clients (out of 10)\n"
     ]
    },
    {
     "name": "stdout",
     "output_type": "stream",
     "text": [
      "agrregate_fit results list length is  5\n",
      "Saving round 12 aggregated_parameters...\n"
     ]
    },
    {
     "name": "stderr",
     "output_type": "stream",
     "text": [
      "DEBUG flwr 2023-08-29 09:23:18,932 | server.py:187 | evaluate_round 12 received 5 results and 0 failures\n",
      "DEBUG flwr 2023-08-29 09:23:18,933 | server.py:222 | fit_round 13: strategy sampled 5 clients (out of 10)\n"
     ]
    },
    {
     "name": "stdout",
     "output_type": "stream",
     "text": [
      "agrregate_evaluate results list length is  5\n",
      "server round is  12\n",
      "loss is  0.6611111111111111\n"
     ]
    },
    {
     "name": "stderr",
     "output_type": "stream",
     "text": [
      "DEBUG flwr 2023-08-29 09:23:36,759 | server.py:236 | fit_round 13 received 5 results and 0 failures\n",
      "DEBUG flwr 2023-08-29 09:23:36,887 | server.py:173 | evaluate_round 13: strategy sampled 5 clients (out of 10)\n"
     ]
    },
    {
     "name": "stdout",
     "output_type": "stream",
     "text": [
      "agrregate_fit results list length is  5\n",
      "Saving round 13 aggregated_parameters...\n"
     ]
    },
    {
     "name": "stderr",
     "output_type": "stream",
     "text": [
      "DEBUG flwr 2023-08-29 09:23:37,333 | server.py:187 | evaluate_round 13 received 5 results and 0 failures\n",
      "DEBUG flwr 2023-08-29 09:23:37,334 | server.py:222 | fit_round 14: strategy sampled 5 clients (out of 10)\n"
     ]
    },
    {
     "name": "stdout",
     "output_type": "stream",
     "text": [
      "agrregate_evaluate results list length is  5\n",
      "server round is  13\n",
      "loss is  0.65\n"
     ]
    },
    {
     "name": "stderr",
     "output_type": "stream",
     "text": [
      "DEBUG flwr 2023-08-29 09:23:55,279 | server.py:236 | fit_round 14 received 5 results and 0 failures\n",
      "DEBUG flwr 2023-08-29 09:23:55,390 | server.py:173 | evaluate_round 14: strategy sampled 5 clients (out of 10)\n"
     ]
    },
    {
     "name": "stdout",
     "output_type": "stream",
     "text": [
      "agrregate_fit results list length is  5\n",
      "Saving round 14 aggregated_parameters...\n"
     ]
    },
    {
     "name": "stderr",
     "output_type": "stream",
     "text": [
      "DEBUG flwr 2023-08-29 09:23:55,862 | server.py:187 | evaluate_round 14 received 5 results and 0 failures\n",
      "DEBUG flwr 2023-08-29 09:23:55,864 | server.py:222 | fit_round 15: strategy sampled 5 clients (out of 10)\n"
     ]
    },
    {
     "name": "stdout",
     "output_type": "stream",
     "text": [
      "agrregate_evaluate results list length is  5\n",
      "server round is  14\n",
      "loss is  0.65\n"
     ]
    },
    {
     "name": "stderr",
     "output_type": "stream",
     "text": [
      "DEBUG flwr 2023-08-29 09:24:13,757 | server.py:236 | fit_round 15 received 5 results and 0 failures\n",
      "DEBUG flwr 2023-08-29 09:24:13,858 | server.py:173 | evaluate_round 15: strategy sampled 5 clients (out of 10)\n"
     ]
    },
    {
     "name": "stdout",
     "output_type": "stream",
     "text": [
      "agrregate_fit results list length is  5\n",
      "Saving round 15 aggregated_parameters...\n"
     ]
    },
    {
     "name": "stderr",
     "output_type": "stream",
     "text": [
      "DEBUG flwr 2023-08-29 09:24:14,337 | server.py:187 | evaluate_round 15 received 5 results and 0 failures\n",
      "DEBUG flwr 2023-08-29 09:24:14,339 | server.py:222 | fit_round 16: strategy sampled 5 clients (out of 10)\n"
     ]
    },
    {
     "name": "stdout",
     "output_type": "stream",
     "text": [
      "agrregate_evaluate results list length is  5\n",
      "server round is  15\n",
      "loss is  0.5444444444444444\n"
     ]
    },
    {
     "name": "stderr",
     "output_type": "stream",
     "text": [
      "DEBUG flwr 2023-08-29 09:24:32,166 | server.py:236 | fit_round 16 received 5 results and 0 failures\n",
      "DEBUG flwr 2023-08-29 09:24:32,268 | server.py:173 | evaluate_round 16: strategy sampled 5 clients (out of 10)\n"
     ]
    },
    {
     "name": "stdout",
     "output_type": "stream",
     "text": [
      "agrregate_fit results list length is  5\n",
      "Saving round 16 aggregated_parameters...\n"
     ]
    },
    {
     "name": "stderr",
     "output_type": "stream",
     "text": [
      "DEBUG flwr 2023-08-29 09:24:32,722 | server.py:187 | evaluate_round 16 received 5 results and 0 failures\n",
      "DEBUG flwr 2023-08-29 09:24:32,723 | server.py:222 | fit_round 17: strategy sampled 5 clients (out of 10)\n"
     ]
    },
    {
     "name": "stdout",
     "output_type": "stream",
     "text": [
      "agrregate_evaluate results list length is  5\n",
      "server round is  16\n",
      "loss is  0.5611111111111111\n"
     ]
    },
    {
     "name": "stderr",
     "output_type": "stream",
     "text": [
      "DEBUG flwr 2023-08-29 09:24:50,738 | server.py:236 | fit_round 17 received 5 results and 0 failures\n",
      "DEBUG flwr 2023-08-29 09:24:50,850 | server.py:173 | evaluate_round 17: strategy sampled 5 clients (out of 10)\n"
     ]
    },
    {
     "name": "stdout",
     "output_type": "stream",
     "text": [
      "agrregate_fit results list length is  5\n",
      "Saving round 17 aggregated_parameters...\n"
     ]
    },
    {
     "name": "stderr",
     "output_type": "stream",
     "text": [
      "DEBUG flwr 2023-08-29 09:24:51,381 | server.py:187 | evaluate_round 17 received 5 results and 0 failures\n",
      "DEBUG flwr 2023-08-29 09:24:51,383 | server.py:222 | fit_round 18: strategy sampled 5 clients (out of 10)\n"
     ]
    },
    {
     "name": "stdout",
     "output_type": "stream",
     "text": [
      "agrregate_evaluate results list length is  5\n",
      "server round is  17\n",
      "loss is  0.8166666666666667\n"
     ]
    },
    {
     "name": "stderr",
     "output_type": "stream",
     "text": [
      "DEBUG flwr 2023-08-29 09:25:09,815 | server.py:236 | fit_round 18 received 5 results and 0 failures\n",
      "DEBUG flwr 2023-08-29 09:25:09,921 | server.py:173 | evaluate_round 18: strategy sampled 5 clients (out of 10)\n"
     ]
    },
    {
     "name": "stdout",
     "output_type": "stream",
     "text": [
      "agrregate_fit results list length is  5\n",
      "Saving round 18 aggregated_parameters...\n"
     ]
    },
    {
     "name": "stderr",
     "output_type": "stream",
     "text": [
      "DEBUG flwr 2023-08-29 09:25:10,378 | server.py:187 | evaluate_round 18 received 5 results and 0 failures\n",
      "DEBUG flwr 2023-08-29 09:25:10,380 | server.py:222 | fit_round 19: strategy sampled 5 clients (out of 10)\n"
     ]
    },
    {
     "name": "stdout",
     "output_type": "stream",
     "text": [
      "agrregate_evaluate results list length is  5\n",
      "server round is  18\n",
      "loss is  0.5333333333333333\n"
     ]
    },
    {
     "name": "stderr",
     "output_type": "stream",
     "text": [
      "DEBUG flwr 2023-08-29 09:25:28,236 | server.py:236 | fit_round 19 received 5 results and 0 failures\n",
      "DEBUG flwr 2023-08-29 09:25:28,349 | server.py:173 | evaluate_round 19: strategy sampled 5 clients (out of 10)\n"
     ]
    },
    {
     "name": "stdout",
     "output_type": "stream",
     "text": [
      "agrregate_fit results list length is  5\n",
      "Saving round 19 aggregated_parameters...\n"
     ]
    },
    {
     "name": "stderr",
     "output_type": "stream",
     "text": [
      "DEBUG flwr 2023-08-29 09:25:28,802 | server.py:187 | evaluate_round 19 received 5 results and 0 failures\n",
      "DEBUG flwr 2023-08-29 09:25:28,804 | server.py:222 | fit_round 20: strategy sampled 5 clients (out of 10)\n"
     ]
    },
    {
     "name": "stdout",
     "output_type": "stream",
     "text": [
      "agrregate_evaluate results list length is  5\n",
      "server round is  19\n",
      "loss is  0.5611111111111111\n"
     ]
    },
    {
     "name": "stderr",
     "output_type": "stream",
     "text": [
      "DEBUG flwr 2023-08-29 09:25:46,677 | server.py:236 | fit_round 20 received 5 results and 0 failures\n",
      "DEBUG flwr 2023-08-29 09:25:46,779 | server.py:173 | evaluate_round 20: strategy sampled 5 clients (out of 10)\n"
     ]
    },
    {
     "name": "stdout",
     "output_type": "stream",
     "text": [
      "agrregate_fit results list length is  5\n",
      "Saving round 20 aggregated_parameters...\n"
     ]
    },
    {
     "name": "stderr",
     "output_type": "stream",
     "text": [
      "DEBUG flwr 2023-08-29 09:25:47,255 | server.py:187 | evaluate_round 20 received 5 results and 0 failures\n",
      "DEBUG flwr 2023-08-29 09:25:47,257 | server.py:222 | fit_round 21: strategy sampled 5 clients (out of 10)\n"
     ]
    },
    {
     "name": "stdout",
     "output_type": "stream",
     "text": [
      "agrregate_evaluate results list length is  5\n",
      "server round is  20\n",
      "loss is  0.5166666666666667\n"
     ]
    },
    {
     "name": "stderr",
     "output_type": "stream",
     "text": [
      "DEBUG flwr 2023-08-29 09:26:05,202 | server.py:236 | fit_round 21 received 5 results and 0 failures\n",
      "DEBUG flwr 2023-08-29 09:26:05,309 | server.py:173 | evaluate_round 21: strategy sampled 5 clients (out of 10)\n"
     ]
    },
    {
     "name": "stdout",
     "output_type": "stream",
     "text": [
      "agrregate_fit results list length is  5\n",
      "Saving round 21 aggregated_parameters...\n"
     ]
    },
    {
     "name": "stderr",
     "output_type": "stream",
     "text": [
      "DEBUG flwr 2023-08-29 09:26:05,758 | server.py:187 | evaluate_round 21 received 5 results and 0 failures\n",
      "DEBUG flwr 2023-08-29 09:26:05,760 | server.py:222 | fit_round 22: strategy sampled 5 clients (out of 10)\n"
     ]
    },
    {
     "name": "stdout",
     "output_type": "stream",
     "text": [
      "agrregate_evaluate results list length is  5\n",
      "server round is  21\n",
      "loss is  0.6944444444444444\n"
     ]
    },
    {
     "name": "stderr",
     "output_type": "stream",
     "text": [
      "DEBUG flwr 2023-08-29 09:26:23,609 | server.py:236 | fit_round 22 received 5 results and 0 failures\n",
      "DEBUG flwr 2023-08-29 09:26:23,737 | server.py:173 | evaluate_round 22: strategy sampled 5 clients (out of 10)\n"
     ]
    },
    {
     "name": "stdout",
     "output_type": "stream",
     "text": [
      "agrregate_fit results list length is  5\n",
      "Saving round 22 aggregated_parameters...\n"
     ]
    },
    {
     "name": "stderr",
     "output_type": "stream",
     "text": [
      "DEBUG flwr 2023-08-29 09:26:24,244 | server.py:187 | evaluate_round 22 received 5 results and 0 failures\n",
      "DEBUG flwr 2023-08-29 09:26:24,247 | server.py:222 | fit_round 23: strategy sampled 5 clients (out of 10)\n"
     ]
    },
    {
     "name": "stdout",
     "output_type": "stream",
     "text": [
      "agrregate_evaluate results list length is  5\n",
      "server round is  22\n",
      "loss is  0.6444444444444446\n"
     ]
    },
    {
     "name": "stderr",
     "output_type": "stream",
     "text": [
      "DEBUG flwr 2023-08-29 09:26:42,216 | server.py:236 | fit_round 23 received 5 results and 0 failures\n",
      "DEBUG flwr 2023-08-29 09:26:42,329 | server.py:173 | evaluate_round 23: strategy sampled 5 clients (out of 10)\n"
     ]
    },
    {
     "name": "stdout",
     "output_type": "stream",
     "text": [
      "agrregate_fit results list length is  5\n",
      "Saving round 23 aggregated_parameters...\n"
     ]
    },
    {
     "name": "stderr",
     "output_type": "stream",
     "text": [
      "DEBUG flwr 2023-08-29 09:26:42,771 | server.py:187 | evaluate_round 23 received 5 results and 0 failures\n",
      "DEBUG flwr 2023-08-29 09:26:42,773 | server.py:222 | fit_round 24: strategy sampled 5 clients (out of 10)\n"
     ]
    },
    {
     "name": "stdout",
     "output_type": "stream",
     "text": [
      "agrregate_evaluate results list length is  5\n",
      "server round is  23\n",
      "loss is  0.5111111111111111\n"
     ]
    },
    {
     "name": "stderr",
     "output_type": "stream",
     "text": [
      "DEBUG flwr 2023-08-29 09:26:44,470 | server.py:236 | fit_round 24 received 5 results and 0 failures\n",
      "DEBUG flwr 2023-08-29 09:26:44,611 | server.py:173 | evaluate_round 24: strategy sampled 5 clients (out of 10)\n"
     ]
    },
    {
     "name": "stdout",
     "output_type": "stream",
     "text": [
      "agrregate_fit results list length is  5\n",
      "Saving round 24 aggregated_parameters...\n"
     ]
    },
    {
     "name": "stderr",
     "output_type": "stream",
     "text": [
      "DEBUG flwr 2023-08-29 09:26:45,075 | server.py:187 | evaluate_round 24 received 5 results and 0 failures\n",
      "DEBUG flwr 2023-08-29 09:26:45,076 | server.py:222 | fit_round 25: strategy sampled 5 clients (out of 10)\n"
     ]
    },
    {
     "name": "stdout",
     "output_type": "stream",
     "text": [
      "agrregate_evaluate results list length is  5\n",
      "server round is  24\n",
      "loss is  0.5277777777777778\n"
     ]
    },
    {
     "name": "stderr",
     "output_type": "stream",
     "text": [
      "DEBUG flwr 2023-08-29 09:27:03,213 | server.py:236 | fit_round 25 received 5 results and 0 failures\n",
      "DEBUG flwr 2023-08-29 09:27:03,317 | server.py:173 | evaluate_round 25: strategy sampled 5 clients (out of 10)\n"
     ]
    },
    {
     "name": "stdout",
     "output_type": "stream",
     "text": [
      "agrregate_fit results list length is  5\n",
      "Saving round 25 aggregated_parameters...\n"
     ]
    },
    {
     "name": "stderr",
     "output_type": "stream",
     "text": [
      "DEBUG flwr 2023-08-29 09:27:03,791 | server.py:187 | evaluate_round 25 received 5 results and 0 failures\n",
      "DEBUG flwr 2023-08-29 09:27:03,792 | server.py:222 | fit_round 26: strategy sampled 5 clients (out of 10)\n"
     ]
    },
    {
     "name": "stdout",
     "output_type": "stream",
     "text": [
      "agrregate_evaluate results list length is  5\n",
      "server round is  25\n",
      "loss is  0.4888888888888889\n"
     ]
    },
    {
     "name": "stderr",
     "output_type": "stream",
     "text": [
      "DEBUG flwr 2023-08-29 09:27:21,558 | server.py:236 | fit_round 26 received 5 results and 0 failures\n",
      "DEBUG flwr 2023-08-29 09:27:21,664 | server.py:173 | evaluate_round 26: strategy sampled 5 clients (out of 10)\n"
     ]
    },
    {
     "name": "stdout",
     "output_type": "stream",
     "text": [
      "agrregate_fit results list length is  5\n",
      "Saving round 26 aggregated_parameters...\n"
     ]
    },
    {
     "name": "stderr",
     "output_type": "stream",
     "text": [
      "DEBUG flwr 2023-08-29 09:27:22,138 | server.py:187 | evaluate_round 26 received 5 results and 0 failures\n",
      "DEBUG flwr 2023-08-29 09:27:22,140 | server.py:222 | fit_round 27: strategy sampled 5 clients (out of 10)\n"
     ]
    },
    {
     "name": "stdout",
     "output_type": "stream",
     "text": [
      "agrregate_evaluate results list length is  5\n",
      "server round is  26\n",
      "loss is  0.4666666666666667\n"
     ]
    },
    {
     "name": "stderr",
     "output_type": "stream",
     "text": [
      "DEBUG flwr 2023-08-29 09:27:40,371 | server.py:236 | fit_round 27 received 5 results and 0 failures\n",
      "DEBUG flwr 2023-08-29 09:27:40,480 | server.py:173 | evaluate_round 27: strategy sampled 5 clients (out of 10)\n"
     ]
    },
    {
     "name": "stdout",
     "output_type": "stream",
     "text": [
      "agrregate_fit results list length is  5\n",
      "Saving round 27 aggregated_parameters...\n"
     ]
    },
    {
     "name": "stderr",
     "output_type": "stream",
     "text": [
      "DEBUG flwr 2023-08-29 09:27:40,942 | server.py:187 | evaluate_round 27 received 5 results and 0 failures\n",
      "DEBUG flwr 2023-08-29 09:27:40,944 | server.py:222 | fit_round 28: strategy sampled 5 clients (out of 10)\n"
     ]
    },
    {
     "name": "stdout",
     "output_type": "stream",
     "text": [
      "agrregate_evaluate results list length is  5\n",
      "server round is  27\n",
      "loss is  0.48333333333333334\n"
     ]
    },
    {
     "name": "stderr",
     "output_type": "stream",
     "text": [
      "DEBUG flwr 2023-08-29 09:27:58,797 | server.py:236 | fit_round 28 received 5 results and 0 failures\n",
      "DEBUG flwr 2023-08-29 09:27:58,909 | server.py:173 | evaluate_round 28: strategy sampled 5 clients (out of 10)\n"
     ]
    },
    {
     "name": "stdout",
     "output_type": "stream",
     "text": [
      "agrregate_fit results list length is  5\n",
      "Saving round 28 aggregated_parameters...\n"
     ]
    },
    {
     "name": "stderr",
     "output_type": "stream",
     "text": [
      "DEBUG flwr 2023-08-29 09:27:59,406 | server.py:187 | evaluate_round 28 received 5 results and 0 failures\n",
      "DEBUG flwr 2023-08-29 09:27:59,408 | server.py:222 | fit_round 29: strategy sampled 5 clients (out of 10)\n"
     ]
    },
    {
     "name": "stdout",
     "output_type": "stream",
     "text": [
      "agrregate_evaluate results list length is  5\n",
      "server round is  28\n",
      "loss is  0.5444444444444444\n"
     ]
    },
    {
     "name": "stderr",
     "output_type": "stream",
     "text": [
      "DEBUG flwr 2023-08-29 09:28:17,171 | server.py:236 | fit_round 29 received 5 results and 0 failures\n",
      "DEBUG flwr 2023-08-29 09:28:17,283 | server.py:173 | evaluate_round 29: strategy sampled 5 clients (out of 10)\n"
     ]
    },
    {
     "name": "stdout",
     "output_type": "stream",
     "text": [
      "agrregate_fit results list length is  5\n",
      "Saving round 29 aggregated_parameters...\n"
     ]
    },
    {
     "name": "stderr",
     "output_type": "stream",
     "text": [
      "DEBUG flwr 2023-08-29 09:28:17,754 | server.py:187 | evaluate_round 29 received 5 results and 0 failures\n",
      "DEBUG flwr 2023-08-29 09:28:17,755 | server.py:222 | fit_round 30: strategy sampled 5 clients (out of 10)\n"
     ]
    },
    {
     "name": "stdout",
     "output_type": "stream",
     "text": [
      "agrregate_evaluate results list length is  5\n",
      "server round is  29\n",
      "loss is  0.55\n"
     ]
    },
    {
     "name": "stderr",
     "output_type": "stream",
     "text": [
      "DEBUG flwr 2023-08-29 09:28:35,807 | server.py:236 | fit_round 30 received 5 results and 0 failures\n",
      "DEBUG flwr 2023-08-29 09:28:35,924 | server.py:173 | evaluate_round 30: strategy sampled 5 clients (out of 10)\n"
     ]
    },
    {
     "name": "stdout",
     "output_type": "stream",
     "text": [
      "agrregate_fit results list length is  5\n",
      "Saving round 30 aggregated_parameters...\n"
     ]
    },
    {
     "name": "stderr",
     "output_type": "stream",
     "text": [
      "DEBUG flwr 2023-08-29 09:28:36,378 | server.py:187 | evaluate_round 30 received 5 results and 0 failures\n",
      "DEBUG flwr 2023-08-29 09:28:36,380 | server.py:222 | fit_round 31: strategy sampled 5 clients (out of 10)\n"
     ]
    },
    {
     "name": "stdout",
     "output_type": "stream",
     "text": [
      "agrregate_evaluate results list length is  5\n",
      "server round is  30\n",
      "loss is  0.45555555555555555\n"
     ]
    },
    {
     "name": "stderr",
     "output_type": "stream",
     "text": [
      "DEBUG flwr 2023-08-29 09:28:38,015 | server.py:236 | fit_round 31 received 5 results and 0 failures\n",
      "DEBUG flwr 2023-08-29 09:28:38,153 | server.py:173 | evaluate_round 31: strategy sampled 5 clients (out of 10)\n"
     ]
    },
    {
     "name": "stdout",
     "output_type": "stream",
     "text": [
      "agrregate_fit results list length is  5\n",
      "Saving round 31 aggregated_parameters...\n"
     ]
    },
    {
     "name": "stderr",
     "output_type": "stream",
     "text": [
      "DEBUG flwr 2023-08-29 09:28:38,694 | server.py:187 | evaluate_round 31 received 5 results and 0 failures\n",
      "DEBUG flwr 2023-08-29 09:28:38,695 | server.py:222 | fit_round 32: strategy sampled 5 clients (out of 10)\n"
     ]
    },
    {
     "name": "stdout",
     "output_type": "stream",
     "text": [
      "agrregate_evaluate results list length is  5\n",
      "server round is  31\n",
      "loss is  0.5\n"
     ]
    },
    {
     "name": "stderr",
     "output_type": "stream",
     "text": [
      "DEBUG flwr 2023-08-29 09:28:40,335 | server.py:236 | fit_round 32 received 5 results and 0 failures\n",
      "DEBUG flwr 2023-08-29 09:28:40,467 | server.py:173 | evaluate_round 32: strategy sampled 5 clients (out of 10)\n"
     ]
    },
    {
     "name": "stdout",
     "output_type": "stream",
     "text": [
      "agrregate_fit results list length is  5\n",
      "Saving round 32 aggregated_parameters...\n"
     ]
    },
    {
     "name": "stderr",
     "output_type": "stream",
     "text": [
      "DEBUG flwr 2023-08-29 09:28:40,952 | server.py:187 | evaluate_round 32 received 5 results and 0 failures\n",
      "DEBUG flwr 2023-08-29 09:28:40,954 | server.py:222 | fit_round 33: strategy sampled 5 clients (out of 10)\n"
     ]
    },
    {
     "name": "stdout",
     "output_type": "stream",
     "text": [
      "agrregate_evaluate results list length is  5\n",
      "server round is  32\n",
      "loss is  0.5277777777777778\n"
     ]
    },
    {
     "name": "stderr",
     "output_type": "stream",
     "text": [
      "DEBUG flwr 2023-08-29 09:28:58,710 | server.py:236 | fit_round 33 received 5 results and 0 failures\n",
      "DEBUG flwr 2023-08-29 09:28:58,814 | server.py:173 | evaluate_round 33: strategy sampled 5 clients (out of 10)\n"
     ]
    },
    {
     "name": "stdout",
     "output_type": "stream",
     "text": [
      "agrregate_fit results list length is  5\n",
      "Saving round 33 aggregated_parameters...\n"
     ]
    },
    {
     "name": "stderr",
     "output_type": "stream",
     "text": [
      "DEBUG flwr 2023-08-29 09:28:59,257 | server.py:187 | evaluate_round 33 received 5 results and 0 failures\n",
      "DEBUG flwr 2023-08-29 09:28:59,259 | server.py:222 | fit_round 34: strategy sampled 5 clients (out of 10)\n"
     ]
    },
    {
     "name": "stdout",
     "output_type": "stream",
     "text": [
      "agrregate_evaluate results list length is  5\n",
      "server round is  33\n",
      "loss is  0.4888888888888889\n"
     ]
    },
    {
     "name": "stderr",
     "output_type": "stream",
     "text": [
      "DEBUG flwr 2023-08-29 09:29:00,989 | server.py:236 | fit_round 34 received 5 results and 0 failures\n",
      "DEBUG flwr 2023-08-29 09:29:01,128 | server.py:173 | evaluate_round 34: strategy sampled 5 clients (out of 10)\n"
     ]
    },
    {
     "name": "stdout",
     "output_type": "stream",
     "text": [
      "agrregate_fit results list length is  5\n",
      "Saving round 34 aggregated_parameters...\n"
     ]
    },
    {
     "name": "stderr",
     "output_type": "stream",
     "text": [
      "DEBUG flwr 2023-08-29 09:29:01,631 | server.py:187 | evaluate_round 34 received 5 results and 0 failures\n",
      "DEBUG flwr 2023-08-29 09:29:01,634 | server.py:222 | fit_round 35: strategy sampled 5 clients (out of 10)\n"
     ]
    },
    {
     "name": "stdout",
     "output_type": "stream",
     "text": [
      "agrregate_evaluate results list length is  5\n",
      "server round is  34\n",
      "loss is  0.5055555555555555\n"
     ]
    },
    {
     "name": "stderr",
     "output_type": "stream",
     "text": [
      "DEBUG flwr 2023-08-29 09:29:19,664 | server.py:236 | fit_round 35 received 5 results and 0 failures\n",
      "DEBUG flwr 2023-08-29 09:29:19,779 | server.py:173 | evaluate_round 35: strategy sampled 5 clients (out of 10)\n"
     ]
    },
    {
     "name": "stdout",
     "output_type": "stream",
     "text": [
      "agrregate_fit results list length is  5\n",
      "Saving round 35 aggregated_parameters...\n"
     ]
    },
    {
     "name": "stderr",
     "output_type": "stream",
     "text": [
      "DEBUG flwr 2023-08-29 09:29:20,242 | server.py:187 | evaluate_round 35 received 5 results and 0 failures\n",
      "DEBUG flwr 2023-08-29 09:29:20,244 | server.py:222 | fit_round 36: strategy sampled 5 clients (out of 10)\n"
     ]
    },
    {
     "name": "stdout",
     "output_type": "stream",
     "text": [
      "agrregate_evaluate results list length is  5\n",
      "server round is  35\n",
      "loss is  0.6555555555555556\n"
     ]
    },
    {
     "name": "stderr",
     "output_type": "stream",
     "text": [
      "DEBUG flwr 2023-08-29 09:29:38,428 | server.py:236 | fit_round 36 received 5 results and 0 failures\n",
      "DEBUG flwr 2023-08-29 09:29:38,539 | server.py:173 | evaluate_round 36: strategy sampled 5 clients (out of 10)\n"
     ]
    },
    {
     "name": "stdout",
     "output_type": "stream",
     "text": [
      "agrregate_fit results list length is  5\n",
      "Saving round 36 aggregated_parameters...\n"
     ]
    },
    {
     "name": "stderr",
     "output_type": "stream",
     "text": [
      "DEBUG flwr 2023-08-29 09:29:38,997 | server.py:187 | evaluate_round 36 received 5 results and 0 failures\n",
      "DEBUG flwr 2023-08-29 09:29:38,999 | server.py:222 | fit_round 37: strategy sampled 5 clients (out of 10)\n"
     ]
    },
    {
     "name": "stdout",
     "output_type": "stream",
     "text": [
      "agrregate_evaluate results list length is  5\n",
      "server round is  36\n",
      "loss is  0.7111111111111111\n"
     ]
    },
    {
     "name": "stderr",
     "output_type": "stream",
     "text": [
      "DEBUG flwr 2023-08-29 09:29:56,986 | server.py:236 | fit_round 37 received 5 results and 0 failures\n",
      "DEBUG flwr 2023-08-29 09:29:57,091 | server.py:173 | evaluate_round 37: strategy sampled 5 clients (out of 10)\n"
     ]
    },
    {
     "name": "stdout",
     "output_type": "stream",
     "text": [
      "agrregate_fit results list length is  5\n",
      "Saving round 37 aggregated_parameters...\n"
     ]
    },
    {
     "name": "stderr",
     "output_type": "stream",
     "text": [
      "DEBUG flwr 2023-08-29 09:29:57,527 | server.py:187 | evaluate_round 37 received 5 results and 0 failures\n",
      "DEBUG flwr 2023-08-29 09:29:57,528 | server.py:222 | fit_round 38: strategy sampled 5 clients (out of 10)\n"
     ]
    },
    {
     "name": "stdout",
     "output_type": "stream",
     "text": [
      "agrregate_evaluate results list length is  5\n",
      "server round is  37\n",
      "loss is  0.6166666666666667\n"
     ]
    },
    {
     "name": "stderr",
     "output_type": "stream",
     "text": [
      "DEBUG flwr 2023-08-29 09:30:15,475 | server.py:236 | fit_round 38 received 5 results and 0 failures\n",
      "DEBUG flwr 2023-08-29 09:30:15,590 | server.py:173 | evaluate_round 38: strategy sampled 5 clients (out of 10)\n"
     ]
    },
    {
     "name": "stdout",
     "output_type": "stream",
     "text": [
      "agrregate_fit results list length is  5\n",
      "Saving round 38 aggregated_parameters...\n"
     ]
    },
    {
     "name": "stderr",
     "output_type": "stream",
     "text": [
      "DEBUG flwr 2023-08-29 09:30:16,033 | server.py:187 | evaluate_round 38 received 5 results and 0 failures\n",
      "DEBUG flwr 2023-08-29 09:30:16,035 | server.py:222 | fit_round 39: strategy sampled 5 clients (out of 10)\n"
     ]
    },
    {
     "name": "stdout",
     "output_type": "stream",
     "text": [
      "agrregate_evaluate results list length is  5\n",
      "server round is  38\n",
      "loss is  0.45555555555555555\n"
     ]
    },
    {
     "name": "stderr",
     "output_type": "stream",
     "text": [
      "DEBUG flwr 2023-08-29 09:30:33,742 | server.py:236 | fit_round 39 received 5 results and 0 failures\n",
      "DEBUG flwr 2023-08-29 09:30:33,868 | server.py:173 | evaluate_round 39: strategy sampled 5 clients (out of 10)\n"
     ]
    },
    {
     "name": "stdout",
     "output_type": "stream",
     "text": [
      "agrregate_fit results list length is  5\n",
      "Saving round 39 aggregated_parameters...\n"
     ]
    },
    {
     "name": "stderr",
     "output_type": "stream",
     "text": [
      "DEBUG flwr 2023-08-29 09:30:34,379 | server.py:187 | evaluate_round 39 received 5 results and 0 failures\n",
      "DEBUG flwr 2023-08-29 09:30:34,381 | server.py:222 | fit_round 40: strategy sampled 5 clients (out of 10)\n"
     ]
    },
    {
     "name": "stdout",
     "output_type": "stream",
     "text": [
      "agrregate_evaluate results list length is  5\n",
      "server round is  39\n",
      "loss is  0.5111111111111111\n"
     ]
    },
    {
     "name": "stderr",
     "output_type": "stream",
     "text": [
      "DEBUG flwr 2023-08-29 09:30:52,278 | server.py:236 | fit_round 40 received 5 results and 0 failures\n",
      "DEBUG flwr 2023-08-29 09:30:52,387 | server.py:173 | evaluate_round 40: strategy sampled 5 clients (out of 10)\n"
     ]
    },
    {
     "name": "stdout",
     "output_type": "stream",
     "text": [
      "agrregate_fit results list length is  5\n",
      "Saving round 40 aggregated_parameters...\n"
     ]
    },
    {
     "name": "stderr",
     "output_type": "stream",
     "text": [
      "DEBUG flwr 2023-08-29 09:30:52,837 | server.py:187 | evaluate_round 40 received 5 results and 0 failures\n",
      "INFO flwr 2023-08-29 09:30:52,838 | server.py:153 | FL finished in 534.384457600001\n",
      "INFO flwr 2023-08-29 09:30:52,842 | app.py:225 | app_fit: losses_distributed [(1, 47.77777777777778), (2, 10.827777777777778), (3, 12.777777777777779), (4, 6.861111111111111), (5, 14.4), (6, 3.3777777777777778), (7, 1.8222222222222222), (8, 1.0555555555555556), (9, 1.0611111111111111), (10, 0.9777777777777777), (11, 0.9222222222222223), (12, 0.6611111111111111), (13, 0.65), (14, 0.65), (15, 0.5444444444444444), (16, 0.5611111111111111), (17, 0.8166666666666667), (18, 0.5333333333333333), (19, 0.5611111111111111), (20, 0.5166666666666667), (21, 0.6944444444444444), (22, 0.6444444444444446), (23, 0.5111111111111111), (24, 0.5277777777777778), (25, 0.4888888888888889), (26, 0.4666666666666667), (27, 0.48333333333333334), (28, 0.5444444444444444), (29, 0.55), (30, 0.45555555555555555), (31, 0.5), (32, 0.5277777777777778), (33, 0.4888888888888889), (34, 0.5055555555555555), (35, 0.6555555555555556), (36, 0.7111111111111111), (37, 0.6166666666666667), (38, 0.45555555555555555), (39, 0.5111111111111111), (40, 0.5444444444444444)]\n",
      "INFO flwr 2023-08-29 09:30:52,843 | app.py:226 | app_fit: metrics_distributed_fit {}\n",
      "INFO flwr 2023-08-29 09:30:52,844 | app.py:227 | app_fit: metrics_distributed {'mse': [(1, 238.88888888888889), (2, 54.138888888888886), (3, 63.88888888888889), (4, 34.30555555555556), (5, 72.0), (6, 16.88888888888889), (7, 9.11111111111111), (8, 5.277777777777778), (9, 5.305555555555555), (10, 4.888888888888888), (11, 4.611111111111112), (12, 3.3055555555555554), (13, 3.25), (14, 3.25), (15, 2.722222222222222), (16, 2.8055555555555554), (17, 4.083333333333333), (18, 2.6666666666666665), (19, 2.8055555555555554), (20, 2.5833333333333335), (21, 3.4722222222222223), (22, 3.2222222222222223), (23, 2.5555555555555554), (24, 2.638888888888889), (25, 2.444444444444444), (26, 2.3333333333333335), (27, 2.4166666666666665), (28, 2.722222222222222), (29, 2.75), (30, 2.2777777777777777), (31, 2.5), (32, 2.638888888888889), (33, 2.444444444444444), (34, 2.5277777777777777), (35, 3.2777777777777777), (36, 3.555555555555556), (37, 3.0833333333333335), (38, 2.2777777777777777), (39, 2.5555555555555554), (40, 2.722222222222222)]}\n",
      "INFO flwr 2023-08-29 09:30:52,845 | app.py:228 | app_fit: losses_centralized []\n",
      "INFO flwr 2023-08-29 09:30:52,846 | app.py:229 | app_fit: metrics_centralized {}\n",
      "C:\\Users\\Shuyao\\AppData\\Local\\Temp\\ipykernel_11996\\3421847257.py:35: UserWarning: To copy construct from a tensor, it is recommended to use sourceTensor.clone().detach() or sourceTensor.clone().detach().requires_grad_(True), rather than torch.tensor(sourceTensor).\n",
      "  y_train = torch.reshape(torch.tensor(y_train), (-1, 1))\n",
      "C:\\Users\\Shuyao\\AppData\\Local\\Temp\\ipykernel_11996\\3421847257.py:36: UserWarning: To copy construct from a tensor, it is recommended to use sourceTensor.clone().detach() or sourceTensor.clone().detach().requires_grad_(True), rather than torch.tensor(sourceTensor).\n",
      "  y_test = torch.reshape(torch.tensor(y_test), (-1, 1))\n"
     ]
    },
    {
     "name": "stdout",
     "output_type": "stream",
     "text": [
      "agrregate_evaluate results list length is  5\n",
      "server round is  40\n",
      "loss is  0.5444444444444444\n",
      "History (loss, distributed):\n",
      "\tround 1: 47.77777777777778\n",
      "\tround 2: 10.827777777777778\n",
      "\tround 3: 12.777777777777779\n",
      "\tround 4: 6.861111111111111\n",
      "\tround 5: 14.4\n",
      "\tround 6: 3.3777777777777778\n",
      "\tround 7: 1.8222222222222222\n",
      "\tround 8: 1.0555555555555556\n",
      "\tround 9: 1.0611111111111111\n",
      "\tround 10: 0.9777777777777777\n",
      "\tround 11: 0.9222222222222223\n",
      "\tround 12: 0.6611111111111111\n",
      "\tround 13: 0.65\n",
      "\tround 14: 0.65\n",
      "\tround 15: 0.5444444444444444\n",
      "\tround 16: 0.5611111111111111\n",
      "\tround 17: 0.8166666666666667\n",
      "\tround 18: 0.5333333333333333\n",
      "\tround 19: 0.5611111111111111\n",
      "\tround 20: 0.5166666666666667\n",
      "\tround 21: 0.6944444444444444\n",
      "\tround 22: 0.6444444444444446\n",
      "\tround 23: 0.5111111111111111\n",
      "\tround 24: 0.5277777777777778\n",
      "\tround 25: 0.4888888888888889\n",
      "\tround 26: 0.4666666666666667\n",
      "\tround 27: 0.48333333333333334\n",
      "\tround 28: 0.5444444444444444\n",
      "\tround 29: 0.55\n",
      "\tround 30: 0.45555555555555555\n",
      "\tround 31: 0.5\n",
      "\tround 32: 0.5277777777777778\n",
      "\tround 33: 0.4888888888888889\n",
      "\tround 34: 0.5055555555555555\n",
      "\tround 35: 0.6555555555555556\n",
      "\tround 36: 0.7111111111111111\n",
      "\tround 37: 0.6166666666666667\n",
      "\tround 38: 0.45555555555555555\n",
      "\tround 39: 0.5111111111111111\n",
      "\tround 40: 0.5444444444444444\n",
      "History (metrics, distributed, evaluate):\n",
      "{'mse': [(1, 238.88888888888889), (2, 54.138888888888886), (3, 63.88888888888889), (4, 34.30555555555556), (5, 72.0), (6, 16.88888888888889), (7, 9.11111111111111), (8, 5.277777777777778), (9, 5.305555555555555), (10, 4.888888888888888), (11, 4.611111111111112), (12, 3.3055555555555554), (13, 3.25), (14, 3.25), (15, 2.722222222222222), (16, 2.8055555555555554), (17, 4.083333333333333), (18, 2.6666666666666665), (19, 2.8055555555555554), (20, 2.5833333333333335), (21, 3.4722222222222223), (22, 3.2222222222222223), (23, 2.5555555555555554), (24, 2.638888888888889), (25, 2.444444444444444), (26, 2.3333333333333335), (27, 2.4166666666666665), (28, 2.722222222222222), (29, 2.75), (30, 2.2777777777777777), (31, 2.5), (32, 2.638888888888889), (33, 2.444444444444444), (34, 2.5277777777777777), (35, 3.2777777777777777), (36, 3.555555555555556), (37, 3.0833333333333335), (38, 2.2777777777777777), (39, 2.5555555555555554), (40, 2.722222222222222)]}\n",
      "[(1, 47.77777777777778), (2, 10.827777777777778), (3, 12.777777777777779), (4, 6.861111111111111), (5, 14.4), (6, 3.3777777777777778), (7, 1.8222222222222222), (8, 1.0555555555555556), (9, 1.0611111111111111), (10, 0.9777777777777777), (11, 0.9222222222222223), (12, 0.6611111111111111), (13, 0.65), (14, 0.65), (15, 0.5444444444444444), (16, 0.5611111111111111), (17, 0.8166666666666667), (18, 0.5333333333333333), (19, 0.5611111111111111), (20, 0.5166666666666667), (21, 0.6944444444444444), (22, 0.6444444444444446), (23, 0.5111111111111111), (24, 0.5277777777777778), (25, 0.4888888888888889), (26, 0.4666666666666667), (27, 0.48333333333333334), (28, 0.5444444444444444), (29, 0.55), (30, 0.45555555555555555), (31, 0.5), (32, 0.5277777777777778), (33, 0.4888888888888889), (34, 0.5055555555555555), (35, 0.6555555555555556), (36, 0.7111111111111111), (37, 0.6166666666666667), (38, 0.45555555555555555), (39, 0.5111111111111111), (40, 0.5444444444444444)]\n",
      "Fold 5:\n",
      "Client 0 trainset shape torch.Size([581, 3, 23])\n",
      "Client 1 trainset shape torch.Size([14, 3, 23])\n",
      "Client 2 trainset shape torch.Size([14, 3, 23])\n",
      "Client 3 trainset shape torch.Size([14, 3, 23])\n",
      "Client 4 trainset shape torch.Size([14, 3, 23])\n",
      "Client 5 trainset shape torch.Size([14, 3, 23])\n"
     ]
    },
    {
     "name": "stderr",
     "output_type": "stream",
     "text": [
      "INFO flwr 2023-08-29 09:30:53,092 | app.py:145 | Starting Flower simulation, config: ServerConfig(num_rounds=40, round_timeout=None)\n"
     ]
    },
    {
     "name": "stdout",
     "output_type": "stream",
     "text": [
      "Client 6 trainset shape torch.Size([14, 3, 23])\n",
      "Client 7 trainset shape torch.Size([14, 3, 23])\n",
      "Client 8 trainset shape torch.Size([14, 3, 23])\n",
      "Client 9 trainset shape torch.Size([14, 3, 23])\n"
     ]
    },
    {
     "name": "stderr",
     "output_type": "stream",
     "text": [
      "2023-08-29 09:31:01,199\tINFO worker.py:1627 -- Started a local Ray instance. View the dashboard at \u001B[1m\u001B[32m127.0.0.1:8265 \u001B[39m\u001B[22m\n",
      "INFO flwr 2023-08-29 09:31:06,090 | app.py:179 | Flower VCE: Ray initialized with resources: {'CPU': 8.0, 'node:127.0.0.1': 1.0, 'object_store_memory': 1453896499.0, 'memory': 2907792999.0, 'GPU': 1.0}\n",
      "INFO flwr 2023-08-29 09:31:06,091 | server.py:89 | Initializing global parameters\n",
      "INFO flwr 2023-08-29 09:31:06,093 | server.py:276 | Requesting initial parameters from one random client\n",
      "INFO flwr 2023-08-29 09:31:08,990 | server.py:280 | Received initial parameters from one random client\n",
      "INFO flwr 2023-08-29 09:31:08,990 | server.py:91 | Evaluating initial parameters\n",
      "INFO flwr 2023-08-29 09:31:08,991 | server.py:104 | FL starting\n",
      "DEBUG flwr 2023-08-29 09:31:08,992 | server.py:222 | fit_round 1: strategy sampled 5 clients (out of 10)\n",
      "DEBUG flwr 2023-08-29 09:31:14,843 | server.py:236 | fit_round 1 received 5 results and 0 failures\n",
      "WARNING flwr 2023-08-29 09:31:14,926 | fedavg.py:242 | No fit_metrics_aggregation_fn provided\n",
      "DEBUG flwr 2023-08-29 09:31:14,967 | server.py:173 | evaluate_round 1: strategy sampled 5 clients (out of 10)\n"
     ]
    },
    {
     "name": "stdout",
     "output_type": "stream",
     "text": [
      "agrregate_fit results list length is  5\n",
      "Saving round 1 aggregated_parameters...\n"
     ]
    },
    {
     "name": "stderr",
     "output_type": "stream",
     "text": [
      "DEBUG flwr 2023-08-29 09:31:15,482 | server.py:187 | evaluate_round 1 received 5 results and 0 failures\n",
      "DEBUG flwr 2023-08-29 09:31:15,484 | server.py:222 | fit_round 2: strategy sampled 5 clients (out of 10)\n"
     ]
    },
    {
     "name": "stdout",
     "output_type": "stream",
     "text": [
      "agrregate_evaluate results list length is  5\n",
      "server round is  1\n",
      "loss is  101.45\n"
     ]
    },
    {
     "name": "stderr",
     "output_type": "stream",
     "text": [
      "DEBUG flwr 2023-08-29 09:31:17,138 | server.py:236 | fit_round 2 received 5 results and 0 failures\n",
      "DEBUG flwr 2023-08-29 09:31:17,270 | server.py:173 | evaluate_round 2: strategy sampled 5 clients (out of 10)\n"
     ]
    },
    {
     "name": "stdout",
     "output_type": "stream",
     "text": [
      "agrregate_fit results list length is  5\n",
      "Saving round 2 aggregated_parameters...\n"
     ]
    },
    {
     "name": "stderr",
     "output_type": "stream",
     "text": [
      "DEBUG flwr 2023-08-29 09:31:17,757 | server.py:187 | evaluate_round 2 received 5 results and 0 failures\n",
      "DEBUG flwr 2023-08-29 09:31:17,758 | server.py:222 | fit_round 3: strategy sampled 5 clients (out of 10)\n"
     ]
    },
    {
     "name": "stdout",
     "output_type": "stream",
     "text": [
      "agrregate_evaluate results list length is  5\n",
      "server round is  2\n",
      "loss is  8.716666666666667\n"
     ]
    },
    {
     "name": "stderr",
     "output_type": "stream",
     "text": [
      "DEBUG flwr 2023-08-29 09:31:35,498 | server.py:236 | fit_round 3 received 5 results and 0 failures\n",
      "DEBUG flwr 2023-08-29 09:31:35,601 | server.py:173 | evaluate_round 3: strategy sampled 5 clients (out of 10)\n"
     ]
    },
    {
     "name": "stdout",
     "output_type": "stream",
     "text": [
      "agrregate_fit results list length is  5\n",
      "Saving round 3 aggregated_parameters...\n"
     ]
    },
    {
     "name": "stderr",
     "output_type": "stream",
     "text": [
      "DEBUG flwr 2023-08-29 09:31:36,060 | server.py:187 | evaluate_round 3 received 5 results and 0 failures\n",
      "DEBUG flwr 2023-08-29 09:31:36,062 | server.py:222 | fit_round 4: strategy sampled 5 clients (out of 10)\n"
     ]
    },
    {
     "name": "stdout",
     "output_type": "stream",
     "text": [
      "agrregate_evaluate results list length is  5\n",
      "server round is  3\n",
      "loss is  1.8277777777777777\n"
     ]
    },
    {
     "name": "stderr",
     "output_type": "stream",
     "text": [
      "DEBUG flwr 2023-08-29 09:31:55,743 | server.py:236 | fit_round 4 received 5 results and 0 failures\n",
      "DEBUG flwr 2023-08-29 09:31:55,846 | server.py:173 | evaluate_round 4: strategy sampled 5 clients (out of 10)\n"
     ]
    },
    {
     "name": "stdout",
     "output_type": "stream",
     "text": [
      "agrregate_fit results list length is  5\n",
      "Saving round 4 aggregated_parameters...\n"
     ]
    },
    {
     "name": "stderr",
     "output_type": "stream",
     "text": [
      "DEBUG flwr 2023-08-29 09:31:56,294 | server.py:187 | evaluate_round 4 received 5 results and 0 failures\n",
      "DEBUG flwr 2023-08-29 09:31:56,295 | server.py:222 | fit_round 5: strategy sampled 5 clients (out of 10)\n"
     ]
    },
    {
     "name": "stdout",
     "output_type": "stream",
     "text": [
      "agrregate_evaluate results list length is  5\n",
      "server round is  4\n",
      "loss is  0.8833333333333333\n"
     ]
    },
    {
     "name": "stderr",
     "output_type": "stream",
     "text": [
      "DEBUG flwr 2023-08-29 09:31:57,978 | server.py:236 | fit_round 5 received 5 results and 0 failures\n",
      "DEBUG flwr 2023-08-29 09:31:58,112 | server.py:173 | evaluate_round 5: strategy sampled 5 clients (out of 10)\n"
     ]
    },
    {
     "name": "stdout",
     "output_type": "stream",
     "text": [
      "agrregate_fit results list length is  5\n",
      "Saving round 5 aggregated_parameters...\n"
     ]
    },
    {
     "name": "stderr",
     "output_type": "stream",
     "text": [
      "DEBUG flwr 2023-08-29 09:31:58,609 | server.py:187 | evaluate_round 5 received 5 results and 0 failures\n",
      "DEBUG flwr 2023-08-29 09:31:58,611 | server.py:222 | fit_round 6: strategy sampled 5 clients (out of 10)\n"
     ]
    },
    {
     "name": "stdout",
     "output_type": "stream",
     "text": [
      "agrregate_evaluate results list length is  5\n",
      "server round is  5\n",
      "loss is  0.8277777777777777\n"
     ]
    },
    {
     "name": "stderr",
     "output_type": "stream",
     "text": [
      "DEBUG flwr 2023-08-29 09:32:16,510 | server.py:236 | fit_round 6 received 5 results and 0 failures\n",
      "DEBUG flwr 2023-08-29 09:32:16,626 | server.py:173 | evaluate_round 6: strategy sampled 5 clients (out of 10)\n"
     ]
    },
    {
     "name": "stdout",
     "output_type": "stream",
     "text": [
      "agrregate_fit results list length is  5\n",
      "Saving round 6 aggregated_parameters...\n"
     ]
    },
    {
     "name": "stderr",
     "output_type": "stream",
     "text": [
      "DEBUG flwr 2023-08-29 09:32:17,099 | server.py:187 | evaluate_round 6 received 5 results and 0 failures\n",
      "DEBUG flwr 2023-08-29 09:32:17,100 | server.py:222 | fit_round 7: strategy sampled 5 clients (out of 10)\n"
     ]
    },
    {
     "name": "stdout",
     "output_type": "stream",
     "text": [
      "agrregate_evaluate results list length is  5\n",
      "server round is  6\n",
      "loss is  0.7777777777777778\n"
     ]
    },
    {
     "name": "stderr",
     "output_type": "stream",
     "text": [
      "DEBUG flwr 2023-08-29 09:32:18,792 | server.py:236 | fit_round 7 received 5 results and 0 failures\n",
      "DEBUG flwr 2023-08-29 09:32:18,917 | server.py:173 | evaluate_round 7: strategy sampled 5 clients (out of 10)\n"
     ]
    },
    {
     "name": "stdout",
     "output_type": "stream",
     "text": [
      "agrregate_fit results list length is  5\n",
      "Saving round 7 aggregated_parameters...\n"
     ]
    },
    {
     "name": "stderr",
     "output_type": "stream",
     "text": [
      "DEBUG flwr 2023-08-29 09:32:19,507 | server.py:187 | evaluate_round 7 received 5 results and 0 failures\n",
      "DEBUG flwr 2023-08-29 09:32:19,510 | server.py:222 | fit_round 8: strategy sampled 5 clients (out of 10)\n"
     ]
    },
    {
     "name": "stdout",
     "output_type": "stream",
     "text": [
      "agrregate_evaluate results list length is  5\n",
      "server round is  7\n",
      "loss is  0.7944444444444444\n"
     ]
    },
    {
     "name": "stderr",
     "output_type": "stream",
     "text": [
      "DEBUG flwr 2023-08-29 09:32:37,741 | server.py:236 | fit_round 8 received 5 results and 0 failures\n",
      "DEBUG flwr 2023-08-29 09:32:37,847 | server.py:173 | evaluate_round 8: strategy sampled 5 clients (out of 10)\n"
     ]
    },
    {
     "name": "stdout",
     "output_type": "stream",
     "text": [
      "agrregate_fit results list length is  5\n",
      "Saving round 8 aggregated_parameters...\n"
     ]
    },
    {
     "name": "stderr",
     "output_type": "stream",
     "text": [
      "DEBUG flwr 2023-08-29 09:32:38,299 | server.py:187 | evaluate_round 8 received 5 results and 0 failures\n",
      "DEBUG flwr 2023-08-29 09:32:38,301 | server.py:222 | fit_round 9: strategy sampled 5 clients (out of 10)\n"
     ]
    },
    {
     "name": "stdout",
     "output_type": "stream",
     "text": [
      "agrregate_evaluate results list length is  5\n",
      "server round is  8\n",
      "loss is  0.7388888888888889\n"
     ]
    },
    {
     "name": "stderr",
     "output_type": "stream",
     "text": [
      "DEBUG flwr 2023-08-29 09:32:56,282 | server.py:236 | fit_round 9 received 5 results and 0 failures\n",
      "DEBUG flwr 2023-08-29 09:32:56,386 | server.py:173 | evaluate_round 9: strategy sampled 5 clients (out of 10)\n"
     ]
    },
    {
     "name": "stdout",
     "output_type": "stream",
     "text": [
      "agrregate_fit results list length is  5\n",
      "Saving round 9 aggregated_parameters...\n"
     ]
    },
    {
     "name": "stderr",
     "output_type": "stream",
     "text": [
      "DEBUG flwr 2023-08-29 09:32:56,839 | server.py:187 | evaluate_round 9 received 5 results and 0 failures\n",
      "DEBUG flwr 2023-08-29 09:32:56,840 | server.py:222 | fit_round 10: strategy sampled 5 clients (out of 10)\n"
     ]
    },
    {
     "name": "stdout",
     "output_type": "stream",
     "text": [
      "agrregate_evaluate results list length is  5\n",
      "server round is  9\n",
      "loss is  1.1444444444444444\n"
     ]
    },
    {
     "name": "stderr",
     "output_type": "stream",
     "text": [
      "DEBUG flwr 2023-08-29 09:33:14,582 | server.py:236 | fit_round 10 received 5 results and 0 failures\n",
      "DEBUG flwr 2023-08-29 09:33:14,691 | server.py:173 | evaluate_round 10: strategy sampled 5 clients (out of 10)\n"
     ]
    },
    {
     "name": "stdout",
     "output_type": "stream",
     "text": [
      "agrregate_fit results list length is  5\n",
      "Saving round 10 aggregated_parameters...\n"
     ]
    },
    {
     "name": "stderr",
     "output_type": "stream",
     "text": [
      "DEBUG flwr 2023-08-29 09:33:15,121 | server.py:187 | evaluate_round 10 received 5 results and 0 failures\n",
      "DEBUG flwr 2023-08-29 09:33:15,122 | server.py:222 | fit_round 11: strategy sampled 5 clients (out of 10)\n"
     ]
    },
    {
     "name": "stdout",
     "output_type": "stream",
     "text": [
      "agrregate_evaluate results list length is  5\n",
      "server round is  10\n",
      "loss is  0.7777777777777778\n"
     ]
    },
    {
     "name": "stderr",
     "output_type": "stream",
     "text": [
      "DEBUG flwr 2023-08-29 09:33:16,812 | server.py:236 | fit_round 11 received 5 results and 0 failures\n",
      "DEBUG flwr 2023-08-29 09:33:16,957 | server.py:173 | evaluate_round 11: strategy sampled 5 clients (out of 10)\n"
     ]
    },
    {
     "name": "stdout",
     "output_type": "stream",
     "text": [
      "agrregate_fit results list length is  5\n",
      "Saving round 11 aggregated_parameters...\n"
     ]
    },
    {
     "name": "stderr",
     "output_type": "stream",
     "text": [
      "DEBUG flwr 2023-08-29 09:33:17,479 | server.py:187 | evaluate_round 11 received 5 results and 0 failures\n",
      "DEBUG flwr 2023-08-29 09:33:17,481 | server.py:222 | fit_round 12: strategy sampled 5 clients (out of 10)\n"
     ]
    },
    {
     "name": "stdout",
     "output_type": "stream",
     "text": [
      "agrregate_evaluate results list length is  5\n",
      "server round is  11\n",
      "loss is  0.6388888888888887\n"
     ]
    },
    {
     "name": "stderr",
     "output_type": "stream",
     "text": [
      "DEBUG flwr 2023-08-29 09:33:35,627 | server.py:236 | fit_round 12 received 5 results and 0 failures\n",
      "DEBUG flwr 2023-08-29 09:33:35,732 | server.py:173 | evaluate_round 12: strategy sampled 5 clients (out of 10)\n"
     ]
    },
    {
     "name": "stdout",
     "output_type": "stream",
     "text": [
      "agrregate_fit results list length is  5\n",
      "Saving round 12 aggregated_parameters...\n"
     ]
    },
    {
     "name": "stderr",
     "output_type": "stream",
     "text": [
      "DEBUG flwr 2023-08-29 09:33:36,194 | server.py:187 | evaluate_round 12 received 5 results and 0 failures\n",
      "DEBUG flwr 2023-08-29 09:33:36,196 | server.py:222 | fit_round 13: strategy sampled 5 clients (out of 10)\n"
     ]
    },
    {
     "name": "stdout",
     "output_type": "stream",
     "text": [
      "agrregate_evaluate results list length is  5\n",
      "server round is  12\n",
      "loss is  0.6833333333333333\n"
     ]
    },
    {
     "name": "stderr",
     "output_type": "stream",
     "text": [
      "DEBUG flwr 2023-08-29 09:33:37,894 | server.py:236 | fit_round 13 received 5 results and 0 failures\n",
      "DEBUG flwr 2023-08-29 09:33:38,025 | server.py:173 | evaluate_round 13: strategy sampled 5 clients (out of 10)\n"
     ]
    },
    {
     "name": "stdout",
     "output_type": "stream",
     "text": [
      "agrregate_fit results list length is  5\n",
      "Saving round 13 aggregated_parameters...\n"
     ]
    },
    {
     "name": "stderr",
     "output_type": "stream",
     "text": [
      "DEBUG flwr 2023-08-29 09:33:38,509 | server.py:187 | evaluate_round 13 received 5 results and 0 failures\n",
      "DEBUG flwr 2023-08-29 09:33:38,511 | server.py:222 | fit_round 14: strategy sampled 5 clients (out of 10)\n"
     ]
    },
    {
     "name": "stdout",
     "output_type": "stream",
     "text": [
      "agrregate_evaluate results list length is  5\n",
      "server round is  13\n",
      "loss is  0.6555555555555556\n"
     ]
    },
    {
     "name": "stderr",
     "output_type": "stream",
     "text": [
      "DEBUG flwr 2023-08-29 09:33:56,467 | server.py:236 | fit_round 14 received 5 results and 0 failures\n",
      "DEBUG flwr 2023-08-29 09:33:56,575 | server.py:173 | evaluate_round 14: strategy sampled 5 clients (out of 10)\n"
     ]
    },
    {
     "name": "stdout",
     "output_type": "stream",
     "text": [
      "agrregate_fit results list length is  5\n",
      "Saving round 14 aggregated_parameters...\n"
     ]
    },
    {
     "name": "stderr",
     "output_type": "stream",
     "text": [
      "DEBUG flwr 2023-08-29 09:33:57,019 | server.py:187 | evaluate_round 14 received 5 results and 0 failures\n",
      "DEBUG flwr 2023-08-29 09:33:57,021 | server.py:222 | fit_round 15: strategy sampled 5 clients (out of 10)\n"
     ]
    },
    {
     "name": "stdout",
     "output_type": "stream",
     "text": [
      "agrregate_evaluate results list length is  5\n",
      "server round is  14\n",
      "loss is  0.6444444444444446\n"
     ]
    },
    {
     "name": "stderr",
     "output_type": "stream",
     "text": [
      "DEBUG flwr 2023-08-29 09:33:58,671 | server.py:236 | fit_round 15 received 5 results and 0 failures\n",
      "DEBUG flwr 2023-08-29 09:33:58,804 | server.py:173 | evaluate_round 15: strategy sampled 5 clients (out of 10)\n"
     ]
    },
    {
     "name": "stdout",
     "output_type": "stream",
     "text": [
      "agrregate_fit results list length is  5\n",
      "Saving round 15 aggregated_parameters...\n"
     ]
    },
    {
     "name": "stderr",
     "output_type": "stream",
     "text": [
      "DEBUG flwr 2023-08-29 09:33:59,582 | server.py:187 | evaluate_round 15 received 5 results and 0 failures\n",
      "DEBUG flwr 2023-08-29 09:33:59,583 | server.py:222 | fit_round 16: strategy sampled 5 clients (out of 10)\n"
     ]
    },
    {
     "name": "stdout",
     "output_type": "stream",
     "text": [
      "agrregate_evaluate results list length is  5\n",
      "server round is  15\n",
      "loss is  0.5944444444444444\n"
     ]
    },
    {
     "name": "stderr",
     "output_type": "stream",
     "text": [
      "DEBUG flwr 2023-08-29 09:34:17,246 | server.py:236 | fit_round 16 received 5 results and 0 failures\n",
      "DEBUG flwr 2023-08-29 09:34:17,361 | server.py:173 | evaluate_round 16: strategy sampled 5 clients (out of 10)\n"
     ]
    },
    {
     "name": "stdout",
     "output_type": "stream",
     "text": [
      "agrregate_fit results list length is  5\n",
      "Saving round 16 aggregated_parameters...\n"
     ]
    },
    {
     "name": "stderr",
     "output_type": "stream",
     "text": [
      "DEBUG flwr 2023-08-29 09:34:17,840 | server.py:187 | evaluate_round 16 received 5 results and 0 failures\n",
      "DEBUG flwr 2023-08-29 09:34:17,843 | server.py:222 | fit_round 17: strategy sampled 5 clients (out of 10)\n"
     ]
    },
    {
     "name": "stdout",
     "output_type": "stream",
     "text": [
      "agrregate_evaluate results list length is  5\n",
      "server round is  16\n",
      "loss is  0.6722222222222224\n"
     ]
    },
    {
     "name": "stderr",
     "output_type": "stream",
     "text": [
      "DEBUG flwr 2023-08-29 09:34:19,482 | server.py:236 | fit_round 17 received 5 results and 0 failures\n",
      "DEBUG flwr 2023-08-29 09:34:19,621 | server.py:173 | evaluate_round 17: strategy sampled 5 clients (out of 10)\n"
     ]
    },
    {
     "name": "stdout",
     "output_type": "stream",
     "text": [
      "agrregate_fit results list length is  5\n",
      "Saving round 17 aggregated_parameters...\n"
     ]
    },
    {
     "name": "stderr",
     "output_type": "stream",
     "text": [
      "DEBUG flwr 2023-08-29 09:34:20,126 | server.py:187 | evaluate_round 17 received 5 results and 0 failures\n",
      "DEBUG flwr 2023-08-29 09:34:20,128 | server.py:222 | fit_round 18: strategy sampled 5 clients (out of 10)\n"
     ]
    },
    {
     "name": "stdout",
     "output_type": "stream",
     "text": [
      "agrregate_evaluate results list length is  5\n",
      "server round is  17\n",
      "loss is  0.6333333333333333\n"
     ]
    },
    {
     "name": "stderr",
     "output_type": "stream",
     "text": [
      "DEBUG flwr 2023-08-29 09:34:37,976 | server.py:236 | fit_round 18 received 5 results and 0 failures\n",
      "DEBUG flwr 2023-08-29 09:34:38,080 | server.py:173 | evaluate_round 18: strategy sampled 5 clients (out of 10)\n"
     ]
    },
    {
     "name": "stdout",
     "output_type": "stream",
     "text": [
      "agrregate_fit results list length is  5\n",
      "Saving round 18 aggregated_parameters...\n"
     ]
    },
    {
     "name": "stderr",
     "output_type": "stream",
     "text": [
      "DEBUG flwr 2023-08-29 09:34:38,537 | server.py:187 | evaluate_round 18 received 5 results and 0 failures\n",
      "DEBUG flwr 2023-08-29 09:34:38,538 | server.py:222 | fit_round 19: strategy sampled 5 clients (out of 10)\n"
     ]
    },
    {
     "name": "stdout",
     "output_type": "stream",
     "text": [
      "agrregate_evaluate results list length is  5\n",
      "server round is  18\n",
      "loss is  0.6277777777777778\n"
     ]
    },
    {
     "name": "stderr",
     "output_type": "stream",
     "text": [
      "DEBUG flwr 2023-08-29 09:34:40,186 | server.py:236 | fit_round 19 received 5 results and 0 failures\n",
      "DEBUG flwr 2023-08-29 09:34:40,320 | server.py:173 | evaluate_round 19: strategy sampled 5 clients (out of 10)\n"
     ]
    },
    {
     "name": "stdout",
     "output_type": "stream",
     "text": [
      "agrregate_fit results list length is  5\n",
      "Saving round 19 aggregated_parameters...\n"
     ]
    },
    {
     "name": "stderr",
     "output_type": "stream",
     "text": [
      "DEBUG flwr 2023-08-29 09:34:40,817 | server.py:187 | evaluate_round 19 received 5 results and 0 failures\n",
      "DEBUG flwr 2023-08-29 09:34:40,818 | server.py:222 | fit_round 20: strategy sampled 5 clients (out of 10)\n"
     ]
    },
    {
     "name": "stdout",
     "output_type": "stream",
     "text": [
      "agrregate_evaluate results list length is  5\n",
      "server round is  19\n",
      "loss is  0.5666666666666667\n"
     ]
    },
    {
     "name": "stderr",
     "output_type": "stream",
     "text": [
      "DEBUG flwr 2023-08-29 09:34:58,574 | server.py:236 | fit_round 20 received 5 results and 0 failures\n",
      "DEBUG flwr 2023-08-29 09:34:58,691 | server.py:173 | evaluate_round 20: strategy sampled 5 clients (out of 10)\n"
     ]
    },
    {
     "name": "stdout",
     "output_type": "stream",
     "text": [
      "agrregate_fit results list length is  5\n",
      "Saving round 20 aggregated_parameters...\n"
     ]
    },
    {
     "name": "stderr",
     "output_type": "stream",
     "text": [
      "DEBUG flwr 2023-08-29 09:34:59,155 | server.py:187 | evaluate_round 20 received 5 results and 0 failures\n",
      "DEBUG flwr 2023-08-29 09:34:59,157 | server.py:222 | fit_round 21: strategy sampled 5 clients (out of 10)\n"
     ]
    },
    {
     "name": "stdout",
     "output_type": "stream",
     "text": [
      "agrregate_evaluate results list length is  5\n",
      "server round is  20\n",
      "loss is  0.8888888888888888\n"
     ]
    },
    {
     "name": "stderr",
     "output_type": "stream",
     "text": [
      "DEBUG flwr 2023-08-29 09:35:16,831 | server.py:236 | fit_round 21 received 5 results and 0 failures\n",
      "DEBUG flwr 2023-08-29 09:35:16,939 | server.py:173 | evaluate_round 21: strategy sampled 5 clients (out of 10)\n"
     ]
    },
    {
     "name": "stdout",
     "output_type": "stream",
     "text": [
      "agrregate_fit results list length is  5\n",
      "Saving round 21 aggregated_parameters...\n"
     ]
    },
    {
     "name": "stderr",
     "output_type": "stream",
     "text": [
      "DEBUG flwr 2023-08-29 09:35:17,384 | server.py:187 | evaluate_round 21 received 5 results and 0 failures\n",
      "DEBUG flwr 2023-08-29 09:35:17,385 | server.py:222 | fit_round 22: strategy sampled 5 clients (out of 10)\n"
     ]
    },
    {
     "name": "stdout",
     "output_type": "stream",
     "text": [
      "agrregate_evaluate results list length is  5\n",
      "server round is  21\n",
      "loss is  0.6999999999999998\n"
     ]
    },
    {
     "name": "stderr",
     "output_type": "stream",
     "text": [
      "DEBUG flwr 2023-08-29 09:35:19,040 | server.py:236 | fit_round 22 received 5 results and 0 failures\n",
      "DEBUG flwr 2023-08-29 09:35:19,173 | server.py:173 | evaluate_round 22: strategy sampled 5 clients (out of 10)\n"
     ]
    },
    {
     "name": "stdout",
     "output_type": "stream",
     "text": [
      "agrregate_fit results list length is  5\n",
      "Saving round 22 aggregated_parameters...\n"
     ]
    },
    {
     "name": "stderr",
     "output_type": "stream",
     "text": [
      "DEBUG flwr 2023-08-29 09:35:19,663 | server.py:187 | evaluate_round 22 received 5 results and 0 failures\n",
      "DEBUG flwr 2023-08-29 09:35:19,665 | server.py:222 | fit_round 23: strategy sampled 5 clients (out of 10)\n"
     ]
    },
    {
     "name": "stdout",
     "output_type": "stream",
     "text": [
      "agrregate_evaluate results list length is  5\n",
      "server round is  22\n",
      "loss is  0.5666666666666667\n"
     ]
    },
    {
     "name": "stderr",
     "output_type": "stream",
     "text": [
      "DEBUG flwr 2023-08-29 09:35:21,333 | server.py:236 | fit_round 23 received 5 results and 0 failures\n",
      "DEBUG flwr 2023-08-29 09:35:21,462 | server.py:173 | evaluate_round 23: strategy sampled 5 clients (out of 10)\n"
     ]
    },
    {
     "name": "stdout",
     "output_type": "stream",
     "text": [
      "agrregate_fit results list length is  5\n",
      "Saving round 23 aggregated_parameters...\n"
     ]
    },
    {
     "name": "stderr",
     "output_type": "stream",
     "text": [
      "DEBUG flwr 2023-08-29 09:35:21,992 | server.py:187 | evaluate_round 23 received 5 results and 0 failures\n",
      "DEBUG flwr 2023-08-29 09:35:21,994 | server.py:222 | fit_round 24: strategy sampled 5 clients (out of 10)\n"
     ]
    },
    {
     "name": "stdout",
     "output_type": "stream",
     "text": [
      "agrregate_evaluate results list length is  5\n",
      "server round is  23\n",
      "loss is  0.48333333333333334\n"
     ]
    },
    {
     "name": "stderr",
     "output_type": "stream",
     "text": [
      "DEBUG flwr 2023-08-29 09:35:40,092 | server.py:236 | fit_round 24 received 5 results and 0 failures\n",
      "DEBUG flwr 2023-08-29 09:35:40,198 | server.py:173 | evaluate_round 24: strategy sampled 5 clients (out of 10)\n"
     ]
    },
    {
     "name": "stdout",
     "output_type": "stream",
     "text": [
      "agrregate_fit results list length is  5\n",
      "Saving round 24 aggregated_parameters...\n"
     ]
    },
    {
     "name": "stderr",
     "output_type": "stream",
     "text": [
      "DEBUG flwr 2023-08-29 09:35:40,686 | server.py:187 | evaluate_round 24 received 5 results and 0 failures\n",
      "DEBUG flwr 2023-08-29 09:35:40,688 | server.py:222 | fit_round 25: strategy sampled 5 clients (out of 10)\n"
     ]
    },
    {
     "name": "stdout",
     "output_type": "stream",
     "text": [
      "agrregate_evaluate results list length is  5\n",
      "server round is  24\n",
      "loss is  0.5277777777777778\n"
     ]
    },
    {
     "name": "stderr",
     "output_type": "stream",
     "text": [
      "DEBUG flwr 2023-08-29 09:35:42,300 | server.py:236 | fit_round 25 received 5 results and 0 failures\n",
      "DEBUG flwr 2023-08-29 09:35:42,427 | server.py:173 | evaluate_round 25: strategy sampled 5 clients (out of 10)\n"
     ]
    },
    {
     "name": "stdout",
     "output_type": "stream",
     "text": [
      "agrregate_fit results list length is  5\n",
      "Saving round 25 aggregated_parameters...\n"
     ]
    },
    {
     "name": "stderr",
     "output_type": "stream",
     "text": [
      "DEBUG flwr 2023-08-29 09:35:42,941 | server.py:187 | evaluate_round 25 received 5 results and 0 failures\n",
      "DEBUG flwr 2023-08-29 09:35:42,943 | server.py:222 | fit_round 26: strategy sampled 5 clients (out of 10)\n"
     ]
    },
    {
     "name": "stdout",
     "output_type": "stream",
     "text": [
      "agrregate_evaluate results list length is  5\n",
      "server round is  25\n",
      "loss is  0.5444444444444444\n"
     ]
    },
    {
     "name": "stderr",
     "output_type": "stream",
     "text": [
      "DEBUG flwr 2023-08-29 09:35:44,618 | server.py:236 | fit_round 26 received 5 results and 0 failures\n",
      "DEBUG flwr 2023-08-29 09:35:44,750 | server.py:173 | evaluate_round 26: strategy sampled 5 clients (out of 10)\n"
     ]
    },
    {
     "name": "stdout",
     "output_type": "stream",
     "text": [
      "agrregate_fit results list length is  5\n",
      "Saving round 26 aggregated_parameters...\n"
     ]
    },
    {
     "name": "stderr",
     "output_type": "stream",
     "text": [
      "DEBUG flwr 2023-08-29 09:35:45,234 | server.py:187 | evaluate_round 26 received 5 results and 0 failures\n",
      "DEBUG flwr 2023-08-29 09:35:45,236 | server.py:222 | fit_round 27: strategy sampled 5 clients (out of 10)\n"
     ]
    },
    {
     "name": "stdout",
     "output_type": "stream",
     "text": [
      "agrregate_evaluate results list length is  5\n",
      "server round is  26\n",
      "loss is  0.5555555555555556\n"
     ]
    },
    {
     "name": "stderr",
     "output_type": "stream",
     "text": [
      "DEBUG flwr 2023-08-29 09:35:46,880 | server.py:236 | fit_round 27 received 5 results and 0 failures\n",
      "DEBUG flwr 2023-08-29 09:35:47,011 | server.py:173 | evaluate_round 27: strategy sampled 5 clients (out of 10)\n"
     ]
    },
    {
     "name": "stdout",
     "output_type": "stream",
     "text": [
      "agrregate_fit results list length is  5\n",
      "Saving round 27 aggregated_parameters...\n"
     ]
    },
    {
     "name": "stderr",
     "output_type": "stream",
     "text": [
      "DEBUG flwr 2023-08-29 09:35:47,486 | server.py:187 | evaluate_round 27 received 5 results and 0 failures\n",
      "DEBUG flwr 2023-08-29 09:35:47,487 | server.py:222 | fit_round 28: strategy sampled 5 clients (out of 10)\n"
     ]
    },
    {
     "name": "stdout",
     "output_type": "stream",
     "text": [
      "agrregate_evaluate results list length is  5\n",
      "server round is  27\n",
      "loss is  0.5555555555555556\n"
     ]
    },
    {
     "name": "stderr",
     "output_type": "stream",
     "text": [
      "DEBUG flwr 2023-08-29 09:35:49,199 | server.py:236 | fit_round 28 received 5 results and 0 failures\n",
      "DEBUG flwr 2023-08-29 09:35:49,340 | server.py:173 | evaluate_round 28: strategy sampled 5 clients (out of 10)\n"
     ]
    },
    {
     "name": "stdout",
     "output_type": "stream",
     "text": [
      "agrregate_fit results list length is  5\n",
      "Saving round 28 aggregated_parameters...\n"
     ]
    },
    {
     "name": "stderr",
     "output_type": "stream",
     "text": [
      "DEBUG flwr 2023-08-29 09:35:49,847 | server.py:187 | evaluate_round 28 received 5 results and 0 failures\n",
      "DEBUG flwr 2023-08-29 09:35:49,849 | server.py:222 | fit_round 29: strategy sampled 5 clients (out of 10)\n"
     ]
    },
    {
     "name": "stdout",
     "output_type": "stream",
     "text": [
      "agrregate_evaluate results list length is  5\n",
      "server round is  28\n",
      "loss is  0.55\n"
     ]
    },
    {
     "name": "stderr",
     "output_type": "stream",
     "text": [
      "DEBUG flwr 2023-08-29 09:35:51,463 | server.py:236 | fit_round 29 received 5 results and 0 failures\n",
      "DEBUG flwr 2023-08-29 09:35:51,600 | server.py:173 | evaluate_round 29: strategy sampled 5 clients (out of 10)\n"
     ]
    },
    {
     "name": "stdout",
     "output_type": "stream",
     "text": [
      "agrregate_fit results list length is  5\n",
      "Saving round 29 aggregated_parameters...\n"
     ]
    },
    {
     "name": "stderr",
     "output_type": "stream",
     "text": [
      "DEBUG flwr 2023-08-29 09:35:52,112 | server.py:187 | evaluate_round 29 received 5 results and 0 failures\n",
      "DEBUG flwr 2023-08-29 09:35:52,113 | server.py:222 | fit_round 30: strategy sampled 5 clients (out of 10)\n"
     ]
    },
    {
     "name": "stdout",
     "output_type": "stream",
     "text": [
      "agrregate_evaluate results list length is  5\n",
      "server round is  29\n",
      "loss is  0.5777777777777776\n"
     ]
    },
    {
     "name": "stderr",
     "output_type": "stream",
     "text": [
      "DEBUG flwr 2023-08-29 09:35:53,832 | server.py:236 | fit_round 30 received 5 results and 0 failures\n",
      "DEBUG flwr 2023-08-29 09:35:53,975 | server.py:173 | evaluate_round 30: strategy sampled 5 clients (out of 10)\n"
     ]
    },
    {
     "name": "stdout",
     "output_type": "stream",
     "text": [
      "agrregate_fit results list length is  5\n",
      "Saving round 30 aggregated_parameters...\n"
     ]
    },
    {
     "name": "stderr",
     "output_type": "stream",
     "text": [
      "DEBUG flwr 2023-08-29 09:35:54,490 | server.py:187 | evaluate_round 30 received 5 results and 0 failures\n",
      "DEBUG flwr 2023-08-29 09:35:54,491 | server.py:222 | fit_round 31: strategy sampled 5 clients (out of 10)\n"
     ]
    },
    {
     "name": "stdout",
     "output_type": "stream",
     "text": [
      "agrregate_evaluate results list length is  5\n",
      "server round is  30\n",
      "loss is  0.5666666666666667\n"
     ]
    },
    {
     "name": "stderr",
     "output_type": "stream",
     "text": [
      "DEBUG flwr 2023-08-29 09:35:56,150 | server.py:236 | fit_round 31 received 5 results and 0 failures\n",
      "DEBUG flwr 2023-08-29 09:35:56,274 | server.py:173 | evaluate_round 31: strategy sampled 5 clients (out of 10)\n"
     ]
    },
    {
     "name": "stdout",
     "output_type": "stream",
     "text": [
      "agrregate_fit results list length is  5\n",
      "Saving round 31 aggregated_parameters...\n"
     ]
    },
    {
     "name": "stderr",
     "output_type": "stream",
     "text": [
      "DEBUG flwr 2023-08-29 09:35:56,773 | server.py:187 | evaluate_round 31 received 5 results and 0 failures\n",
      "DEBUG flwr 2023-08-29 09:35:56,774 | server.py:222 | fit_round 32: strategy sampled 5 clients (out of 10)\n"
     ]
    },
    {
     "name": "stdout",
     "output_type": "stream",
     "text": [
      "agrregate_evaluate results list length is  5\n",
      "server round is  31\n",
      "loss is  0.55\n"
     ]
    },
    {
     "name": "stderr",
     "output_type": "stream",
     "text": [
      "DEBUG flwr 2023-08-29 09:35:58,474 | server.py:236 | fit_round 32 received 5 results and 0 failures\n",
      "DEBUG flwr 2023-08-29 09:35:58,620 | server.py:173 | evaluate_round 32: strategy sampled 5 clients (out of 10)\n"
     ]
    },
    {
     "name": "stdout",
     "output_type": "stream",
     "text": [
      "agrregate_fit results list length is  5\n",
      "Saving round 32 aggregated_parameters...\n"
     ]
    },
    {
     "name": "stderr",
     "output_type": "stream",
     "text": [
      "DEBUG flwr 2023-08-29 09:35:59,092 | server.py:187 | evaluate_round 32 received 5 results and 0 failures\n",
      "DEBUG flwr 2023-08-29 09:35:59,094 | server.py:222 | fit_round 33: strategy sampled 5 clients (out of 10)\n"
     ]
    },
    {
     "name": "stdout",
     "output_type": "stream",
     "text": [
      "agrregate_evaluate results list length is  5\n",
      "server round is  32\n",
      "loss is  0.55\n"
     ]
    },
    {
     "name": "stderr",
     "output_type": "stream",
     "text": [
      "DEBUG flwr 2023-08-29 09:36:16,804 | server.py:236 | fit_round 33 received 5 results and 0 failures\n",
      "DEBUG flwr 2023-08-29 09:36:16,903 | server.py:173 | evaluate_round 33: strategy sampled 5 clients (out of 10)\n"
     ]
    },
    {
     "name": "stdout",
     "output_type": "stream",
     "text": [
      "agrregate_fit results list length is  5\n",
      "Saving round 33 aggregated_parameters...\n"
     ]
    },
    {
     "name": "stderr",
     "output_type": "stream",
     "text": [
      "DEBUG flwr 2023-08-29 09:36:17,389 | server.py:187 | evaluate_round 33 received 5 results and 0 failures\n",
      "DEBUG flwr 2023-08-29 09:36:17,391 | server.py:222 | fit_round 34: strategy sampled 5 clients (out of 10)\n"
     ]
    },
    {
     "name": "stdout",
     "output_type": "stream",
     "text": [
      "agrregate_evaluate results list length is  5\n",
      "server round is  33\n",
      "loss is  0.5833333333333334\n"
     ]
    },
    {
     "name": "stderr",
     "output_type": "stream",
     "text": [
      "DEBUG flwr 2023-08-29 09:36:35,079 | server.py:236 | fit_round 34 received 5 results and 0 failures\n",
      "DEBUG flwr 2023-08-29 09:36:35,231 | server.py:173 | evaluate_round 34: strategy sampled 5 clients (out of 10)\n"
     ]
    },
    {
     "name": "stdout",
     "output_type": "stream",
     "text": [
      "agrregate_fit results list length is  5\n",
      "Saving round 34 aggregated_parameters...\n"
     ]
    },
    {
     "name": "stderr",
     "output_type": "stream",
     "text": [
      "DEBUG flwr 2023-08-29 09:36:35,755 | server.py:187 | evaluate_round 34 received 5 results and 0 failures\n",
      "DEBUG flwr 2023-08-29 09:36:35,756 | server.py:222 | fit_round 35: strategy sampled 5 clients (out of 10)\n"
     ]
    },
    {
     "name": "stdout",
     "output_type": "stream",
     "text": [
      "agrregate_evaluate results list length is  5\n",
      "server round is  34\n",
      "loss is  0.5611111111111111\n"
     ]
    },
    {
     "name": "stderr",
     "output_type": "stream",
     "text": [
      "DEBUG flwr 2023-08-29 09:36:37,409 | server.py:236 | fit_round 35 received 5 results and 0 failures\n",
      "DEBUG flwr 2023-08-29 09:36:37,536 | server.py:173 | evaluate_round 35: strategy sampled 5 clients (out of 10)\n"
     ]
    },
    {
     "name": "stdout",
     "output_type": "stream",
     "text": [
      "agrregate_fit results list length is  5\n",
      "Saving round 35 aggregated_parameters...\n"
     ]
    },
    {
     "name": "stderr",
     "output_type": "stream",
     "text": [
      "DEBUG flwr 2023-08-29 09:36:38,018 | server.py:187 | evaluate_round 35 received 5 results and 0 failures\n",
      "DEBUG flwr 2023-08-29 09:36:38,019 | server.py:222 | fit_round 36: strategy sampled 5 clients (out of 10)\n"
     ]
    },
    {
     "name": "stdout",
     "output_type": "stream",
     "text": [
      "agrregate_evaluate results list length is  5\n",
      "server round is  35\n",
      "loss is  0.5333333333333333\n"
     ]
    },
    {
     "name": "stderr",
     "output_type": "stream",
     "text": [
      "DEBUG flwr 2023-08-29 09:36:55,754 | server.py:236 | fit_round 36 received 5 results and 0 failures\n",
      "DEBUG flwr 2023-08-29 09:36:55,868 | server.py:173 | evaluate_round 36: strategy sampled 5 clients (out of 10)\n"
     ]
    },
    {
     "name": "stdout",
     "output_type": "stream",
     "text": [
      "agrregate_fit results list length is  5\n",
      "Saving round 36 aggregated_parameters...\n"
     ]
    },
    {
     "name": "stderr",
     "output_type": "stream",
     "text": [
      "DEBUG flwr 2023-08-29 09:36:56,306 | server.py:187 | evaluate_round 36 received 5 results and 0 failures\n",
      "DEBUG flwr 2023-08-29 09:36:56,307 | server.py:222 | fit_round 37: strategy sampled 5 clients (out of 10)\n"
     ]
    },
    {
     "name": "stdout",
     "output_type": "stream",
     "text": [
      "agrregate_evaluate results list length is  5\n",
      "server round is  36\n",
      "loss is  0.6999999999999998\n"
     ]
    },
    {
     "name": "stderr",
     "output_type": "stream",
     "text": [
      "DEBUG flwr 2023-08-29 09:37:14,086 | server.py:236 | fit_round 37 received 5 results and 0 failures\n",
      "DEBUG flwr 2023-08-29 09:37:14,195 | server.py:173 | evaluate_round 37: strategy sampled 5 clients (out of 10)\n"
     ]
    },
    {
     "name": "stdout",
     "output_type": "stream",
     "text": [
      "agrregate_fit results list length is  5\n",
      "Saving round 37 aggregated_parameters...\n"
     ]
    },
    {
     "name": "stderr",
     "output_type": "stream",
     "text": [
      "DEBUG flwr 2023-08-29 09:37:14,640 | server.py:187 | evaluate_round 37 received 5 results and 0 failures\n",
      "DEBUG flwr 2023-08-29 09:37:14,641 | server.py:222 | fit_round 38: strategy sampled 5 clients (out of 10)\n"
     ]
    },
    {
     "name": "stdout",
     "output_type": "stream",
     "text": [
      "agrregate_evaluate results list length is  5\n",
      "server round is  37\n",
      "loss is  0.6166666666666667\n"
     ]
    },
    {
     "name": "stderr",
     "output_type": "stream",
     "text": [
      "DEBUG flwr 2023-08-29 09:37:16,283 | server.py:236 | fit_round 38 received 5 results and 0 failures\n",
      "DEBUG flwr 2023-08-29 09:37:16,413 | server.py:173 | evaluate_round 38: strategy sampled 5 clients (out of 10)\n"
     ]
    },
    {
     "name": "stdout",
     "output_type": "stream",
     "text": [
      "agrregate_fit results list length is  5\n",
      "Saving round 38 aggregated_parameters...\n"
     ]
    },
    {
     "name": "stderr",
     "output_type": "stream",
     "text": [
      "DEBUG flwr 2023-08-29 09:37:16,903 | server.py:187 | evaluate_round 38 received 5 results and 0 failures\n",
      "DEBUG flwr 2023-08-29 09:37:16,905 | server.py:222 | fit_round 39: strategy sampled 5 clients (out of 10)\n"
     ]
    },
    {
     "name": "stdout",
     "output_type": "stream",
     "text": [
      "agrregate_evaluate results list length is  5\n",
      "server round is  38\n",
      "loss is  0.5944444444444444\n"
     ]
    },
    {
     "name": "stderr",
     "output_type": "stream",
     "text": [
      "DEBUG flwr 2023-08-29 09:37:18,558 | server.py:236 | fit_round 39 received 5 results and 0 failures\n",
      "DEBUG flwr 2023-08-29 09:37:18,688 | server.py:173 | evaluate_round 39: strategy sampled 5 clients (out of 10)\n"
     ]
    },
    {
     "name": "stdout",
     "output_type": "stream",
     "text": [
      "agrregate_fit results list length is  5\n",
      "Saving round 39 aggregated_parameters...\n"
     ]
    },
    {
     "name": "stderr",
     "output_type": "stream",
     "text": [
      "DEBUG flwr 2023-08-29 09:37:19,180 | server.py:187 | evaluate_round 39 received 5 results and 0 failures\n",
      "DEBUG flwr 2023-08-29 09:37:19,182 | server.py:222 | fit_round 40: strategy sampled 5 clients (out of 10)\n"
     ]
    },
    {
     "name": "stdout",
     "output_type": "stream",
     "text": [
      "agrregate_evaluate results list length is  5\n",
      "server round is  39\n",
      "loss is  0.5833333333333334\n"
     ]
    },
    {
     "name": "stderr",
     "output_type": "stream",
     "text": [
      "DEBUG flwr 2023-08-29 09:37:20,840 | server.py:236 | fit_round 40 received 5 results and 0 failures\n",
      "DEBUG flwr 2023-08-29 09:37:20,977 | server.py:173 | evaluate_round 40: strategy sampled 5 clients (out of 10)\n"
     ]
    },
    {
     "name": "stdout",
     "output_type": "stream",
     "text": [
      "agrregate_fit results list length is  5\n",
      "Saving round 40 aggregated_parameters...\n"
     ]
    },
    {
     "name": "stderr",
     "output_type": "stream",
     "text": [
      "DEBUG flwr 2023-08-29 09:37:21,453 | server.py:187 | evaluate_round 40 received 5 results and 0 failures\n",
      "INFO flwr 2023-08-29 09:37:21,454 | server.py:153 | FL finished in 372.4624048000005\n",
      "INFO flwr 2023-08-29 09:37:21,458 | app.py:225 | app_fit: losses_distributed [(1, 101.45), (2, 8.716666666666667), (3, 1.8277777777777777), (4, 0.8833333333333333), (5, 0.8277777777777777), (6, 0.7777777777777778), (7, 0.7944444444444444), (8, 0.7388888888888889), (9, 1.1444444444444444), (10, 0.7777777777777778), (11, 0.6388888888888887), (12, 0.6833333333333333), (13, 0.6555555555555556), (14, 0.6444444444444446), (15, 0.5944444444444444), (16, 0.6722222222222224), (17, 0.6333333333333333), (18, 0.6277777777777778), (19, 0.5666666666666667), (20, 0.8888888888888888), (21, 0.6999999999999998), (22, 0.5666666666666667), (23, 0.48333333333333334), (24, 0.5277777777777778), (25, 0.5444444444444444), (26, 0.5555555555555556), (27, 0.5555555555555556), (28, 0.55), (29, 0.5777777777777776), (30, 0.5666666666666667), (31, 0.55), (32, 0.55), (33, 0.5833333333333334), (34, 0.5611111111111111), (35, 0.5333333333333333), (36, 0.6999999999999998), (37, 0.6166666666666667), (38, 0.5944444444444444), (39, 0.5833333333333334), (40, 0.5722222222222222)]\n",
      "INFO flwr 2023-08-29 09:37:21,459 | app.py:226 | app_fit: metrics_distributed_fit {}\n",
      "INFO flwr 2023-08-29 09:37:21,460 | app.py:227 | app_fit: metrics_distributed {'mse': [(1, 507.25), (2, 43.583333333333336), (3, 9.13888888888889), (4, 4.416666666666666), (5, 4.138888888888888), (6, 3.888888888888889), (7, 3.972222222222222), (8, 3.6944444444444446), (9, 5.722222222222221), (10, 3.888888888888889), (11, 3.194444444444444), (12, 3.416666666666667), (13, 3.2777777777777777), (14, 3.2222222222222223), (15, 2.9722222222222223), (16, 3.3611111111111116), (17, 3.1666666666666665), (18, 3.138888888888889), (19, 2.833333333333333), (20, 4.444444444444445), (21, 3.5), (22, 2.833333333333333), (23, 2.4166666666666665), (24, 2.638888888888889), (25, 2.722222222222222), (26, 2.7777777777777777), (27, 2.7777777777777777), (28, 2.75), (29, 2.8888888888888884), (30, 2.833333333333333), (31, 2.75), (32, 2.75), (33, 2.916666666666667), (34, 2.8055555555555554), (35, 2.6666666666666665), (36, 3.5), (37, 3.0833333333333335), (38, 2.9722222222222223), (39, 2.916666666666667), (40, 2.8611111111111107)]}\n",
      "INFO flwr 2023-08-29 09:37:21,461 | app.py:228 | app_fit: losses_centralized []\n",
      "INFO flwr 2023-08-29 09:37:21,462 | app.py:229 | app_fit: metrics_centralized {}\n"
     ]
    },
    {
     "name": "stdout",
     "output_type": "stream",
     "text": [
      "agrregate_evaluate results list length is  5\n",
      "server round is  40\n",
      "loss is  0.5722222222222222\n",
      "History (loss, distributed):\n",
      "\tround 1: 101.45\n",
      "\tround 2: 8.716666666666667\n",
      "\tround 3: 1.8277777777777777\n",
      "\tround 4: 0.8833333333333333\n",
      "\tround 5: 0.8277777777777777\n",
      "\tround 6: 0.7777777777777778\n",
      "\tround 7: 0.7944444444444444\n",
      "\tround 8: 0.7388888888888889\n",
      "\tround 9: 1.1444444444444444\n",
      "\tround 10: 0.7777777777777778\n",
      "\tround 11: 0.6388888888888887\n",
      "\tround 12: 0.6833333333333333\n",
      "\tround 13: 0.6555555555555556\n",
      "\tround 14: 0.6444444444444446\n",
      "\tround 15: 0.5944444444444444\n",
      "\tround 16: 0.6722222222222224\n",
      "\tround 17: 0.6333333333333333\n",
      "\tround 18: 0.6277777777777778\n",
      "\tround 19: 0.5666666666666667\n",
      "\tround 20: 0.8888888888888888\n",
      "\tround 21: 0.6999999999999998\n",
      "\tround 22: 0.5666666666666667\n",
      "\tround 23: 0.48333333333333334\n",
      "\tround 24: 0.5277777777777778\n",
      "\tround 25: 0.5444444444444444\n",
      "\tround 26: 0.5555555555555556\n",
      "\tround 27: 0.5555555555555556\n",
      "\tround 28: 0.55\n",
      "\tround 29: 0.5777777777777776\n",
      "\tround 30: 0.5666666666666667\n",
      "\tround 31: 0.55\n",
      "\tround 32: 0.55\n",
      "\tround 33: 0.5833333333333334\n",
      "\tround 34: 0.5611111111111111\n",
      "\tround 35: 0.5333333333333333\n",
      "\tround 36: 0.6999999999999998\n",
      "\tround 37: 0.6166666666666667\n",
      "\tround 38: 0.5944444444444444\n",
      "\tround 39: 0.5833333333333334\n",
      "\tround 40: 0.5722222222222222\n",
      "History (metrics, distributed, evaluate):\n",
      "{'mse': [(1, 507.25), (2, 43.583333333333336), (3, 9.13888888888889), (4, 4.416666666666666), (5, 4.138888888888888), (6, 3.888888888888889), (7, 3.972222222222222), (8, 3.6944444444444446), (9, 5.722222222222221), (10, 3.888888888888889), (11, 3.194444444444444), (12, 3.416666666666667), (13, 3.2777777777777777), (14, 3.2222222222222223), (15, 2.9722222222222223), (16, 3.3611111111111116), (17, 3.1666666666666665), (18, 3.138888888888889), (19, 2.833333333333333), (20, 4.444444444444445), (21, 3.5), (22, 2.833333333333333), (23, 2.4166666666666665), (24, 2.638888888888889), (25, 2.722222222222222), (26, 2.7777777777777777), (27, 2.7777777777777777), (28, 2.75), (29, 2.8888888888888884), (30, 2.833333333333333), (31, 2.75), (32, 2.75), (33, 2.916666666666667), (34, 2.8055555555555554), (35, 2.6666666666666665), (36, 3.5), (37, 3.0833333333333335), (38, 2.9722222222222223), (39, 2.916666666666667), (40, 2.8611111111111107)]}\n",
      "[(1, 101.45), (2, 8.716666666666667), (3, 1.8277777777777777), (4, 0.8833333333333333), (5, 0.8277777777777777), (6, 0.7777777777777778), (7, 0.7944444444444444), (8, 0.7388888888888889), (9, 1.1444444444444444), (10, 0.7777777777777778), (11, 0.6388888888888887), (12, 0.6833333333333333), (13, 0.6555555555555556), (14, 0.6444444444444446), (15, 0.5944444444444444), (16, 0.6722222222222224), (17, 0.6333333333333333), (18, 0.6277777777777778), (19, 0.5666666666666667), (20, 0.8888888888888888), (21, 0.6999999999999998), (22, 0.5666666666666667), (23, 0.48333333333333334), (24, 0.5277777777777778), (25, 0.5444444444444444), (26, 0.5555555555555556), (27, 0.5555555555555556), (28, 0.55), (29, 0.5777777777777776), (30, 0.5666666666666667), (31, 0.55), (32, 0.55), (33, 0.5833333333333334), (34, 0.5611111111111111), (35, 0.5333333333333333), (36, 0.6999999999999998), (37, 0.6166666666666667), (38, 0.5944444444444444), (39, 0.5833333333333334), (40, 0.5722222222222222)]\n",
      "splitting: [0.8, 0.03, 0.03, 0.02, 0.02, 0.02, 0.02, 0.02, 0.02, 0.02]\n",
      "mse: [0.5027624309392266, 0.5833333333333334, 0.5444444444444444, 0.5444444444444444, 0.5722222222222222]\n",
      "auc:  [0.9726456847799361, 0.9742268041237113, 0.9832695394493147, 0.988235294117647, 0.9767730716681158]\n",
      "Training time:  0:36:28.501071\n"
     ]
    }
   ],
   "source": [
    "split = [0.8, 0.03, 0.03, 0.02, 0.02, 0.02, 0.02, 0.02, 0.02, 0.02]\n",
    "do_fl(split)"
   ],
   "metadata": {
    "collapsed": false,
    "ExecuteTime": {
     "end_time": "2023-08-29T08:37:21.921871Z",
     "start_time": "2023-08-29T08:00:53.131307800Z"
    }
   }
  },
  {
   "cell_type": "code",
   "execution_count": null,
   "outputs": [],
   "source": [],
   "metadata": {
    "collapsed": false
   }
  }
 ],
 "metadata": {
  "kernelspec": {
   "display_name": "Python 3",
   "language": "python",
   "name": "python3"
  },
  "language_info": {
   "codemirror_mode": {
    "name": "ipython",
    "version": 2
   },
   "file_extension": ".py",
   "mimetype": "text/x-python",
   "name": "python",
   "nbconvert_exporter": "python",
   "pygments_lexer": "ipython2",
   "version": "2.7.6"
  }
 },
 "nbformat": 4,
 "nbformat_minor": 0
}
