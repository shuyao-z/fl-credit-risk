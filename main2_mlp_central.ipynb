{
 "cells": [
  {
   "cell_type": "code",
   "execution_count": 1,
   "outputs": [],
   "source": [
    "import torch\n",
    "import torch.nn as nn\n",
    "import numpy as np\n",
    "from sklearn.metrics import mean_squared_error, roc_auc_score\n",
    "import datetime\n",
    "from net_archs import MLP"
   ],
   "metadata": {
    "collapsed": false,
    "ExecuteTime": {
     "end_time": "2023-08-30T17:26:03.482971100Z",
     "start_time": "2023-08-30T17:25:53.865802600Z"
    }
   }
  },
  {
   "cell_type": "code",
   "execution_count": 2,
   "outputs": [],
   "source": [
    "# Define train and test function\n",
    "def train(net, optimizer, x, y, x_test, y_test, num_epoch=64, batch_size=128):\n",
    "  test_loss = []\n",
    "\n",
    "  for n in range(num_epoch):\n",
    "    # Mini batch sgd\n",
    "    permutation = torch.randperm(x.size()[0])\n",
    "    for i in range(0, x.size()[0], batch_size):\n",
    "      indices = permutation[i:i+batch_size]\n",
    "      x_mini, y_mini = x[indices], y[indices]\n",
    "      y_pred = net(x_mini)\n",
    "      loss = nn.MSELoss()(y_pred, y_mini)\n",
    "      optimizer.zero_grad()\n",
    "      loss.mean().backward()\n",
    "      optimizer.step()\n",
    "  return test_loss\n",
    "\n",
    "def test(net, x_test, y_test):\n",
    "  with torch.no_grad():\n",
    "    y_pred = net(x_test)\n",
    "    y_pred = y_pred.detach().numpy()\n",
    "    y_test = y_test.detach().numpy()\n",
    "\n",
    "    mse = mean_squared_error(y_test, y_pred)\n",
    "    auc = roc_auc_score(y_test, y_pred)\n",
    "    return mse, auc\n"
   ],
   "metadata": {
    "collapsed": false,
    "ExecuteTime": {
     "end_time": "2023-08-30T17:26:03.630576300Z",
     "start_time": "2023-08-30T17:26:03.371272700Z"
    }
   }
  },
  {
   "cell_type": "code",
   "execution_count": 3,
   "outputs": [],
   "source": [
    "# Local models\n",
    "X = torch.load('./dataset2/X_mlp.pt')\n",
    "y = torch.load('./dataset2/y_mlp.pt')"
   ],
   "metadata": {
    "collapsed": false,
    "ExecuteTime": {
     "end_time": "2023-08-30T17:26:14.700580100Z",
     "start_time": "2023-08-30T17:26:09.638061100Z"
    }
   }
  },
  {
   "cell_type": "code",
   "execution_count": 4,
   "outputs": [],
   "source": [
    "from sklearn.model_selection import StratifiedKFold\n",
    "\n",
    "random_state = np.random.randint(1000)\n",
    "\n",
    "def fl_split(split, x_train, y_train):\n",
    "\n",
    "    x_eq = []\n",
    "    y_eq = []\n",
    "\n",
    "    n_splits = 50\n",
    "    skf = StratifiedKFold(n_splits=n_splits, shuffle=True, random_state=random_state)\n",
    "    skf.get_n_splits(x_train, y_train)\n",
    "\n",
    "    for i, (_, test_index) in enumerate(skf.split(x_train, y_train)):\n",
    "        x_eq.append(x_train[test_index])\n",
    "        y_eq.append(y_train[test_index])\n",
    "\n",
    "    x_split = []\n",
    "    y_split = []\n",
    "\n",
    "    acc = 0\n",
    "    for s in split:\n",
    "        x_split.append(torch.cat(x_eq[acc:acc+int(s*n_splits)], 0))\n",
    "        y_split.append(torch.cat(y_eq[acc:acc+int(s*n_splits)], 0))\n",
    "        acc += int(s*n_splits)\n",
    "\n",
    "    return x_split, y_split"
   ],
   "metadata": {
    "collapsed": false,
    "ExecuteTime": {
     "end_time": "2023-08-30T17:26:23.804967800Z",
     "start_time": "2023-08-30T17:26:23.618741400Z"
    }
   }
  },
  {
   "cell_type": "code",
   "execution_count": 11,
   "outputs": [],
   "source": [
    "from imblearn.over_sampling import RandomOverSampler\n",
    "\n",
    "def run_local(split, X=X, y=y):\n",
    "    mses = []\n",
    "    aucs = []\n",
    "\n",
    "    kf = StratifiedKFold(n_splits=5, shuffle=True, random_state=42)\n",
    "    X= X.to_numpy()\n",
    "    y= y.to_numpy()\n",
    "\n",
    "\n",
    "    start = datetime.datetime.now()\n",
    "    for fold_idx, (train_idx, test_idx) in enumerate(kf.split(X, y)):\n",
    "        print(f\"Fold {fold_idx + 1}:\")\n",
    "        X_train, X_test = X[train_idx], X[test_idx]\n",
    "        y_train, y_test = y[train_idx], y[test_idx]\n",
    "\n",
    "        X_train = torch.tensor(X_train)\n",
    "        X_test = torch.tensor(X_test)\n",
    "        y_train = torch.reshape(torch.tensor(y_train), (-1, 1))\n",
    "        y_test = torch.reshape(torch.tensor(y_test), (-1, 1))\n",
    "\n",
    "        x_split, y_split = fl_split(split, X_train, y_train)\n",
    "\n",
    "        for X_train, y_train in zip(x_split, y_split):\n",
    "            ros = RandomOverSampler(random_state=random_state)\n",
    "            X_train, y_train = ros.fit_resample(X_train, y_train)\n",
    "\n",
    "            X_train = torch.from_numpy(X_train)\n",
    "            y_train = torch.reshape(torch.from_numpy(y_train), (-1, 1))\n",
    "            y_test = torch.reshape(y_test, (-1, 1))\n",
    "\n",
    "\n",
    "            model = MLP(120, 1, layer_size=64, num_of_layers=2, dropout=False)\n",
    "\n",
    "            optimizer = torch.optim.Adam(model.parameters(), lr=0.000005, weight_decay=0.00001)\n",
    "            train(model, optimizer, X_train, y_train, X_test, y_test,num_epoch=10, batch_size=32)\n",
    "\n",
    "            # Test local MLP\n",
    "            mse, auc = test(model, X_test, y_test)\n",
    "            mses.append(mse)\n",
    "            aucs.append(auc)\n",
    "\n",
    "\n",
    "    end = datetime.datetime.now()\n",
    "    time = end - start\n",
    "\n",
    "    print('split',split)\n",
    "    print('Training time: ', time)\n",
    "    print('mse',mses)\n",
    "    print('auc',aucs)"
   ],
   "metadata": {
    "collapsed": false,
    "ExecuteTime": {
     "end_time": "2023-08-30T17:29:48.437593Z",
     "start_time": "2023-08-30T17:29:48.267691500Z"
    }
   }
  },
  {
   "cell_type": "code",
   "execution_count": 12,
   "outputs": [
    {
     "name": "stdout",
     "output_type": "stream",
     "text": [
      "Fold 1:\n"
     ]
    },
    {
     "ename": "KeyboardInterrupt",
     "evalue": "",
     "output_type": "error",
     "traceback": [
      "\u001B[1;31m---------------------------------------------------------------------------\u001B[0m",
      "\u001B[1;31mKeyboardInterrupt\u001B[0m                         Traceback (most recent call last)",
      "Cell \u001B[1;32mIn[12], line 2\u001B[0m\n\u001B[0;32m      1\u001B[0m split \u001B[38;5;241m=\u001B[39m [\u001B[38;5;241m1\u001B[39m]\n\u001B[1;32m----> 2\u001B[0m \u001B[43mrun_local\u001B[49m\u001B[43m(\u001B[49m\u001B[43msplit\u001B[49m\u001B[43m)\u001B[49m\n",
      "Cell \u001B[1;32mIn[11], line 37\u001B[0m, in \u001B[0;36mrun_local\u001B[1;34m(split, X, y)\u001B[0m\n\u001B[0;32m     34\u001B[0m model \u001B[38;5;241m=\u001B[39m MLP(\u001B[38;5;241m120\u001B[39m, \u001B[38;5;241m1\u001B[39m, layer_size\u001B[38;5;241m=\u001B[39m\u001B[38;5;241m64\u001B[39m, num_of_layers\u001B[38;5;241m=\u001B[39m\u001B[38;5;241m2\u001B[39m, dropout\u001B[38;5;241m=\u001B[39m\u001B[38;5;28;01mFalse\u001B[39;00m)\n\u001B[0;32m     36\u001B[0m optimizer \u001B[38;5;241m=\u001B[39m torch\u001B[38;5;241m.\u001B[39moptim\u001B[38;5;241m.\u001B[39mAdam(model\u001B[38;5;241m.\u001B[39mparameters(), lr\u001B[38;5;241m=\u001B[39m\u001B[38;5;241m0.000005\u001B[39m, weight_decay\u001B[38;5;241m=\u001B[39m\u001B[38;5;241m0.00001\u001B[39m)\n\u001B[1;32m---> 37\u001B[0m \u001B[43mtrain\u001B[49m\u001B[43m(\u001B[49m\u001B[43mmodel\u001B[49m\u001B[43m,\u001B[49m\u001B[43m \u001B[49m\u001B[43moptimizer\u001B[49m\u001B[43m,\u001B[49m\u001B[43m \u001B[49m\u001B[43mX_train\u001B[49m\u001B[43m,\u001B[49m\u001B[43m \u001B[49m\u001B[43my_train\u001B[49m\u001B[43m,\u001B[49m\u001B[43m \u001B[49m\u001B[43mX_test\u001B[49m\u001B[43m,\u001B[49m\u001B[43m \u001B[49m\u001B[43my_test\u001B[49m\u001B[43m,\u001B[49m\u001B[43mnum_epoch\u001B[49m\u001B[38;5;241;43m=\u001B[39;49m\u001B[38;5;241;43m10\u001B[39;49m\u001B[43m,\u001B[49m\u001B[43m \u001B[49m\u001B[43mbatch_size\u001B[49m\u001B[38;5;241;43m=\u001B[39;49m\u001B[38;5;241;43m32\u001B[39;49m\u001B[43m)\u001B[49m\n\u001B[0;32m     39\u001B[0m \u001B[38;5;66;03m# Test local MLP\u001B[39;00m\n\u001B[0;32m     40\u001B[0m mse, auc \u001B[38;5;241m=\u001B[39m test(model, X_test, y_test)\n",
      "Cell \u001B[1;32mIn[2], line 17\u001B[0m, in \u001B[0;36mtrain\u001B[1;34m(net, optimizer, x, y, x_test, y_test, num_epoch, batch_size)\u001B[0m\n\u001B[0;32m     15\u001B[0m     loss \u001B[38;5;241m=\u001B[39m nn\u001B[38;5;241m.\u001B[39mMSELoss()(y_pred, y_mini)\n\u001B[0;32m     16\u001B[0m     optimizer\u001B[38;5;241m.\u001B[39mzero_grad()\n\u001B[1;32m---> 17\u001B[0m     \u001B[43mloss\u001B[49m\u001B[38;5;241;43m.\u001B[39;49m\u001B[43mmean\u001B[49m\u001B[43m(\u001B[49m\u001B[43m)\u001B[49m\u001B[38;5;241;43m.\u001B[39;49m\u001B[43mbackward\u001B[49m\u001B[43m(\u001B[49m\u001B[43m)\u001B[49m\n\u001B[0;32m     18\u001B[0m     optimizer\u001B[38;5;241m.\u001B[39mstep()\n\u001B[0;32m     19\u001B[0m \u001B[38;5;28;01mreturn\u001B[39;00m test_loss\n",
      "File \u001B[1;32mD:\\FD\\venv\\lib\\site-packages\\torch\\_tensor.py:488\u001B[0m, in \u001B[0;36mTensor.backward\u001B[1;34m(self, gradient, retain_graph, create_graph, inputs)\u001B[0m\n\u001B[0;32m    478\u001B[0m \u001B[38;5;28;01mif\u001B[39;00m has_torch_function_unary(\u001B[38;5;28mself\u001B[39m):\n\u001B[0;32m    479\u001B[0m     \u001B[38;5;28;01mreturn\u001B[39;00m handle_torch_function(\n\u001B[0;32m    480\u001B[0m         Tensor\u001B[38;5;241m.\u001B[39mbackward,\n\u001B[0;32m    481\u001B[0m         (\u001B[38;5;28mself\u001B[39m,),\n\u001B[1;32m   (...)\u001B[0m\n\u001B[0;32m    486\u001B[0m         inputs\u001B[38;5;241m=\u001B[39minputs,\n\u001B[0;32m    487\u001B[0m     )\n\u001B[1;32m--> 488\u001B[0m \u001B[43mtorch\u001B[49m\u001B[38;5;241;43m.\u001B[39;49m\u001B[43mautograd\u001B[49m\u001B[38;5;241;43m.\u001B[39;49m\u001B[43mbackward\u001B[49m\u001B[43m(\u001B[49m\n\u001B[0;32m    489\u001B[0m \u001B[43m    \u001B[49m\u001B[38;5;28;43mself\u001B[39;49m\u001B[43m,\u001B[49m\u001B[43m \u001B[49m\u001B[43mgradient\u001B[49m\u001B[43m,\u001B[49m\u001B[43m \u001B[49m\u001B[43mretain_graph\u001B[49m\u001B[43m,\u001B[49m\u001B[43m \u001B[49m\u001B[43mcreate_graph\u001B[49m\u001B[43m,\u001B[49m\u001B[43m \u001B[49m\u001B[43minputs\u001B[49m\u001B[38;5;241;43m=\u001B[39;49m\u001B[43minputs\u001B[49m\n\u001B[0;32m    490\u001B[0m \u001B[43m\u001B[49m\u001B[43m)\u001B[49m\n",
      "File \u001B[1;32mD:\\FD\\venv\\lib\\site-packages\\torch\\autograd\\__init__.py:197\u001B[0m, in \u001B[0;36mbackward\u001B[1;34m(tensors, grad_tensors, retain_graph, create_graph, grad_variables, inputs)\u001B[0m\n\u001B[0;32m    192\u001B[0m     retain_graph \u001B[38;5;241m=\u001B[39m create_graph\n\u001B[0;32m    194\u001B[0m \u001B[38;5;66;03m# The reason we repeat same the comment below is that\u001B[39;00m\n\u001B[0;32m    195\u001B[0m \u001B[38;5;66;03m# some Python versions print out the first line of a multi-line function\u001B[39;00m\n\u001B[0;32m    196\u001B[0m \u001B[38;5;66;03m# calls in the traceback and some print out the last line\u001B[39;00m\n\u001B[1;32m--> 197\u001B[0m \u001B[43mVariable\u001B[49m\u001B[38;5;241;43m.\u001B[39;49m\u001B[43m_execution_engine\u001B[49m\u001B[38;5;241;43m.\u001B[39;49m\u001B[43mrun_backward\u001B[49m\u001B[43m(\u001B[49m\u001B[43m  \u001B[49m\u001B[38;5;66;43;03m# Calls into the C++ engine to run the backward pass\u001B[39;49;00m\n\u001B[0;32m    198\u001B[0m \u001B[43m    \u001B[49m\u001B[43mtensors\u001B[49m\u001B[43m,\u001B[49m\u001B[43m \u001B[49m\u001B[43mgrad_tensors_\u001B[49m\u001B[43m,\u001B[49m\u001B[43m \u001B[49m\u001B[43mretain_graph\u001B[49m\u001B[43m,\u001B[49m\u001B[43m \u001B[49m\u001B[43mcreate_graph\u001B[49m\u001B[43m,\u001B[49m\u001B[43m \u001B[49m\u001B[43minputs\u001B[49m\u001B[43m,\u001B[49m\n\u001B[0;32m    199\u001B[0m \u001B[43m    \u001B[49m\u001B[43mallow_unreachable\u001B[49m\u001B[38;5;241;43m=\u001B[39;49m\u001B[38;5;28;43;01mTrue\u001B[39;49;00m\u001B[43m,\u001B[49m\u001B[43m \u001B[49m\u001B[43maccumulate_grad\u001B[49m\u001B[38;5;241;43m=\u001B[39;49m\u001B[38;5;28;43;01mTrue\u001B[39;49;00m\u001B[43m)\u001B[49m\n",
      "\u001B[1;31mKeyboardInterrupt\u001B[0m: "
     ]
    }
   ],
   "source": [
    "split = [1]\n",
    "run_local(split)"
   ],
   "metadata": {
    "collapsed": false,
    "ExecuteTime": {
     "end_time": "2023-08-30T17:34:02.739309400Z",
     "start_time": "2023-08-30T17:29:49.476765Z"
    }
   }
  },
  {
   "cell_type": "code",
   "execution_count": null,
   "outputs": [],
   "source": [
    "split = [0.5, 0.5]\n",
    "run_local(split)"
   ],
   "metadata": {
    "collapsed": false
   }
  },
  {
   "cell_type": "code",
   "execution_count": null,
   "outputs": [],
   "source": [
    "split = [0.9, 0.1]\n",
    "run_local(split)"
   ],
   "metadata": {
    "collapsed": false
   }
  },
  {
   "cell_type": "code",
   "execution_count": 22,
   "outputs": [
    {
     "name": "stdout",
     "output_type": "stream",
     "text": [
      "num of clients 3\n",
      "round 1\n",
      "split [0.34, 0.33, 0.33]\n",
      "mse [0.1991727, 0.19995187, 0.20034055]\n",
      "auc [0.7564582860706495, 0.7551584450042247, 0.7475259886511583]\n"
     ]
    }
   ],
   "source": [
    "split = [0.34, 0.33, 0.33]\n",
    "run_local(split)"
   ],
   "metadata": {
    "collapsed": false,
    "ExecuteTime": {
     "end_time": "2023-08-27T21:42:41.723502500Z",
     "start_time": "2023-08-27T21:33:54.398838400Z"
    }
   }
  },
  {
   "cell_type": "code",
   "execution_count": 23,
   "outputs": [
    {
     "name": "stdout",
     "output_type": "stream",
     "text": [
      "num of clients 3\n",
      "round 1\n",
      "split [0.6, 0.2, 0.2]\n",
      "mse [0.19718456, 0.20393908, 0.2028204]\n",
      "auc [0.7551701922248331, 0.7423441297625434, 0.7384318178252336]\n"
     ]
    }
   ],
   "source": [
    "split = [0.6, 0.2, 0.2]\n",
    "run_local(split)"
   ],
   "metadata": {
    "collapsed": false,
    "ExecuteTime": {
     "end_time": "2023-08-27T21:51:45.073478600Z",
     "start_time": "2023-08-27T21:42:41.726495100Z"
    }
   }
  },
  {
   "cell_type": "code",
   "execution_count": 24,
   "outputs": [
    {
     "name": "stdout",
     "output_type": "stream",
     "text": [
      "num of clients 3\n",
      "round 1\n",
      "split [0.8, 0.1, 0.1]\n",
      "mse [0.20017248, 0.22496118, 0.21737762]\n",
      "auc [0.7551153516392626, 0.7305401114825929, 0.7225911287469904]\n"
     ]
    }
   ],
   "source": [
    "split = [0.8, 0.1, 0.1]\n",
    "run_local(split)"
   ],
   "metadata": {
    "collapsed": false,
    "ExecuteTime": {
     "end_time": "2023-08-27T22:00:53.180768300Z",
     "start_time": "2023-08-27T21:51:45.071173500Z"
    }
   }
  },
  {
   "cell_type": "code",
   "execution_count": null,
   "outputs": [],
   "source": [
    "split = [0.2, 0.2, 0.2, 0.2, 0.2]\n",
    "run_local(split)"
   ],
   "metadata": {
    "collapsed": false
   }
  },
  {
   "cell_type": "code",
   "execution_count": 30,
   "outputs": [
    {
     "name": "stdout",
     "output_type": "stream",
     "text": [
      "num of clients 5\n",
      "round 1\n",
      "split [0.4, 0.15, 0.15, 0.15, 0.15]\n",
      "mse [0.19620517, 0.20827086, 0.20444717, 0.20475082, 0.2095296]\n",
      "auc [0.7574899763382419, 0.7303446238587146, 0.7428862202987274, 0.736773950689735, 0.7343271497699912]\n"
     ]
    }
   ],
   "source": [
    "split = [0.4, 0.15, 0.15, 0.15, 0.15]\n",
    "run_local(split)"
   ],
   "metadata": {
    "collapsed": false,
    "ExecuteTime": {
     "end_time": "2023-08-28T02:25:51.855437500Z",
     "start_time": "2023-08-28T02:17:34.955388600Z"
    }
   }
  },
  {
   "cell_type": "code",
   "execution_count": null,
   "outputs": [],
   "source": [
    "split = [0.6, 0.1, 0.1, 0.1, 0.1]\n",
    "run_local(split)"
   ],
   "metadata": {
    "collapsed": false
   }
  },
  {
   "cell_type": "code",
   "execution_count": 26,
   "outputs": [
    {
     "name": "stdout",
     "output_type": "stream",
     "text": [
      "num of clients 5\n",
      "round 1\n",
      "split [0.8, 0.05, 0.05, 0.05, 0.05]\n",
      "mse [0.19705181, 0.23927695, 0.2413147, 0.2523718, 0.24482094]\n",
      "auc [0.7539705386997876, 0.6783518205931999, 0.707302914199466, 0.6705114808563084, 0.685694254659772]\n"
     ]
    }
   ],
   "source": [
    "split = [0.8, 0.05, 0.05, 0.05, 0.05]\n",
    "run_local(split)"
   ],
   "metadata": {
    "collapsed": false,
    "ExecuteTime": {
     "end_time": "2023-08-27T22:23:09.898413700Z",
     "start_time": "2023-08-27T22:13:50.140273300Z"
    }
   }
  },
  {
   "cell_type": "code",
   "execution_count": null,
   "outputs": [],
   "source": [
    "split = [0.1, 0.1, 0.1, 0.1, 0.1,\n",
    "        0.1, 0.1, 0.1, 0.1, 0.1]\n",
    "run_local(split)"
   ],
   "metadata": {
    "collapsed": false
   }
  },
  {
   "cell_type": "code",
   "execution_count": 27,
   "outputs": [
    {
     "name": "stdout",
     "output_type": "stream",
     "text": [
      "num of clients 10\n",
      "round 1\n",
      "split [0.4, 0.07, 0.07, 0.07, 0.07, 0.07, 0.07, 0.06, 0.06, 0.06]\n",
      "mse [0.19559278, 0.22652367, 0.21584006, 0.24114326, 0.23175684, 0.22410439, 0.22891557, 0.2314748, 0.2125626, 0.22369927]\n",
      "auc [0.7563601929952476, 0.6996476114347221, 0.695546964036976, 0.7245670824363681, 0.7076945754716981, 0.7029320865518551, 0.7201231480308978, 0.7172596199506142, 0.7429255176016208, 0.7247965999746738]\n"
     ]
    }
   ],
   "source": [
    "split = [0.4, 0.07, 0.07, 0.07, 0.07, 0.07, 0.07, 0.06, 0.06, 0.06]\n",
    "run_local(split)"
   ],
   "metadata": {
    "collapsed": false,
    "ExecuteTime": {
     "end_time": "2023-08-27T22:30:45.748641600Z",
     "start_time": "2023-08-27T22:23:09.902422900Z"
    }
   }
  },
  {
   "cell_type": "code",
   "execution_count": 29,
   "outputs": [
    {
     "name": "stdout",
     "output_type": "stream",
     "text": [
      "num of clients 10\n",
      "round 1\n",
      "split [0.6, 0.05, 0.05, 0.05, 0.05, 0.04, 0.04, 0.04, 0.04, 0.04]\n",
      "mse [0.19848773, 0.2318051, 0.24397711, 0.25491175, 0.24122839, 0.2358786, 0.26125994, 0.24775077, 0.24984026, 0.23055176]\n",
      "auc [0.756138908248991, 0.6908653287963632, 0.7077673284569836, 0.7001848725986656, 0.7277884950298743, 0.7217444113995838, 0.6683914744259573, 0.6938728576659611, 0.6898293277603622, 0.6920866489832007]\n"
     ]
    }
   ],
   "source": [
    "split = [0.6, 0.05, 0.05, 0.05, 0.05, 0.04, 0.04, 0.04, 0.04, 0.04]\n",
    "run_local(split)"
   ],
   "metadata": {
    "collapsed": false,
    "ExecuteTime": {
     "end_time": "2023-08-27T22:48:37.338905100Z",
     "start_time": "2023-08-27T22:40:13.718513500Z"
    }
   }
  },
  {
   "cell_type": "code",
   "execution_count": 28,
   "outputs": [
    {
     "name": "stdout",
     "output_type": "stream",
     "text": [
      "num of clients 10\n",
      "round 1\n",
      "split [0.8, 0.03, 0.03, 0.02, 0.02, 0.02, 0.02, 0.02, 0.02, 0.02]\n",
      "mse [0.19804782, 0.26459602, 0.26391208, 0.24043137, 0.23864369, 0.24354953, 0.24618284, 0.24132615, 0.2361172, 0.26350534]\n",
      "auc [0.754269641993694, 0.6838232010645804, 0.6571863640829158, 0.7130723682447822, 0.6581017960328306, 0.627990783163197, 0.6650054925916994, 0.5856844305120168, 0.6514928239066169, 0.6774107118934705]\n"
     ]
    }
   ],
   "source": [
    "split = [0.8, 0.03, 0.03, 0.02, 0.02, 0.02, 0.02, 0.02, 0.02, 0.02]\n",
    "run_local(split)"
   ],
   "metadata": {
    "collapsed": false,
    "ExecuteTime": {
     "end_time": "2023-08-27T22:40:13.715522100Z",
     "start_time": "2023-08-27T22:30:45.753982800Z"
    }
   }
  },
  {
   "cell_type": "code",
   "execution_count": null,
   "outputs": [],
   "source": [],
   "metadata": {
    "collapsed": false
   }
  }
 ],
 "metadata": {
  "kernelspec": {
   "display_name": "Python 3",
   "language": "python",
   "name": "python3"
  },
  "language_info": {
   "codemirror_mode": {
    "name": "ipython",
    "version": 2
   },
   "file_extension": ".py",
   "mimetype": "text/x-python",
   "name": "python",
   "nbconvert_exporter": "python",
   "pygments_lexer": "ipython2",
   "version": "2.7.6"
  }
 },
 "nbformat": 4,
 "nbformat_minor": 0
}
