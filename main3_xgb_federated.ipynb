{
 "cells": [
  {
   "cell_type": "code",
   "execution_count": 1,
   "metadata": {
    "colab": {
     "base_uri": "https://localhost:8080/"
    },
    "executionInfo": {
     "elapsed": 7,
     "status": "ok",
     "timestamp": 1670356049977,
     "user": {
      "displayName": "Chenyang Ma",
      "userId": "17975430055716133031"
     },
     "user_tz": 0
    },
    "outputId": "5289e33e-e18e-491b-d536-6b1052598994",
    "ExecuteTime": {
     "end_time": "2023-09-03T14:07:44.152444Z",
     "start_time": "2023-09-03T14:07:36.767917400Z"
    }
   },
   "outputs": [
    {
     "name": "stderr",
     "output_type": "stream",
     "text": [
      "D:\\FD\\venv\\lib\\site-packages\\torchvision\\io\\image.py:13: UserWarning: Failed to load image Python extension: '[WinError 127] 找不到指定的程序。'If you don't plan on using image functionality from `torchvision.io`, you can ignore this warning. Otherwise, there might be something wrong with your environment. Did you have `libjpeg` or `libpng` installed before building `torchvision` from source?\n",
      "  warn(\n"
     ]
    }
   ],
   "source": [
    "import numpy as np\n",
    "import torch\n",
    "import datetime\n",
    "from fl_simu import start_experiment\n",
    "from trees import TreeDataset"
   ]
  },
  {
   "cell_type": "code",
   "execution_count": 2,
   "outputs": [],
   "source": [
    "X = torch.load('./dataset3/X.pt')\n",
    "y = torch.load('./dataset3/y.pt')"
   ],
   "metadata": {
    "collapsed": false,
    "ExecuteTime": {
     "end_time": "2023-09-03T14:07:44.185137300Z",
     "start_time": "2023-09-03T14:07:44.156433200Z"
    }
   }
  },
  {
   "cell_type": "code",
   "execution_count": 3,
   "outputs": [],
   "source": [
    "from sklearn.model_selection import StratifiedKFold\n",
    "\n",
    "def do_fl (split, X=X, y=y):\n",
    "    start = datetime.datetime.now()\n",
    "\n",
    "    kf = StratifiedKFold(n_splits=5, shuffle=True, random_state=42)\n",
    "    flag = 1\n",
    "\n",
    "    for fold_idx, (train_idx, test_idx) in enumerate(kf.split(X, y)):\n",
    "        print(f\"Fold {fold_idx + 1}:\")\n",
    "        if flag == 2:\n",
    "            break\n",
    "        X_train, X_test = X[train_idx], X[test_idx]\n",
    "        y_train, y_test = y[train_idx], y[test_idx]\n",
    "\n",
    "\n",
    "        X_train = torch.tensor(X_train)\n",
    "        X_test = torch.tensor(X_test)\n",
    "        y_train = torch.reshape(torch.tensor(y_train), (-1, 1))\n",
    "        y_test = torch.reshape(torch.tensor(y_test), (-1, 1))\n",
    "        print('here')\n",
    "        print(y_test.size())\n",
    "        print(X_test.size())\n",
    "        print(y_train.size())\n",
    "        print(X_train.size())\n",
    "\n",
    "        y_train = y_train.numpy().flatten().copy()\n",
    "        y_test = y_test.numpy().flatten().copy()\n",
    "\n",
    "        trainset = TreeDataset(np.array(X_train, copy=True), np.array(y_train, copy=True))\n",
    "        testset = TreeDataset(np.array(X_test, copy=True), np.array(y_test, copy=True))\n",
    "\n",
    "        start_experiment(\n",
    "            split = split,\n",
    "            trainset=trainset,\n",
    "            testset=testset,\n",
    "            num_rounds=20, #10\n",
    "            client_tree_num=80, #80\n",
    "            client_pool_size=len(split), #client_num\n",
    "            num_iterations=2, #2\n",
    "            batch_size=64,\n",
    "            fraction_fit=0.5,\n",
    "            min_fit_clients=2,\n",
    "            val_ratio=0.0,\n",
    "            client_num=len(split),\n",
    "            max_depth=5,\n",
    "            min_child_weight=3,\n",
    "            subsample=0.8,\n",
    "            lr=0.005,\n",
    "            task_type='binary'\n",
    "        )\n",
    "        flag += 1\n",
    "\n",
    "    end = datetime.datetime.now()\n",
    "    time = end - start\n",
    "    print(split)\n",
    "    print('Training time', time)"
   ],
   "metadata": {
    "collapsed": false,
    "ExecuteTime": {
     "end_time": "2023-09-03T14:07:44.201095500Z",
     "start_time": "2023-09-03T14:07:44.193113Z"
    }
   }
  },
  {
   "cell_type": "code",
   "execution_count": null,
   "outputs": [],
   "source": [
    "split = [0.5, 0.5]\n",
    "do_fl(split)"
   ],
   "metadata": {
    "collapsed": false
   }
  },
  {
   "cell_type": "code",
   "execution_count": null,
   "outputs": [],
   "source": [
    "split = [0.6, 0.4]\n",
    "do_fl(split)"
   ],
   "metadata": {
    "collapsed": false
   }
  },
  {
   "cell_type": "code",
   "execution_count": 4,
   "outputs": [
    {
     "name": "stderr",
     "output_type": "stream",
     "text": [
      "C:\\Users\\Shuyao\\AppData\\Local\\Temp\\ipykernel_596\\1879151568.py:17: UserWarning: To copy construct from a tensor, it is recommended to use sourceTensor.clone().detach() or sourceTensor.clone().detach().requires_grad_(True), rather than torch.tensor(sourceTensor).\n",
      "  X_train = torch.tensor(X_train)\n",
      "C:\\Users\\Shuyao\\AppData\\Local\\Temp\\ipykernel_596\\1879151568.py:18: UserWarning: To copy construct from a tensor, it is recommended to use sourceTensor.clone().detach() or sourceTensor.clone().detach().requires_grad_(True), rather than torch.tensor(sourceTensor).\n",
      "  X_test = torch.tensor(X_test)\n",
      "C:\\Users\\Shuyao\\AppData\\Local\\Temp\\ipykernel_596\\1879151568.py:19: UserWarning: To copy construct from a tensor, it is recommended to use sourceTensor.clone().detach() or sourceTensor.clone().detach().requires_grad_(True), rather than torch.tensor(sourceTensor).\n",
      "  y_train = torch.reshape(torch.tensor(y_train), (-1, 1))\n",
      "C:\\Users\\Shuyao\\AppData\\Local\\Temp\\ipykernel_596\\1879151568.py:20: UserWarning: To copy construct from a tensor, it is recommended to use sourceTensor.clone().detach() or sourceTensor.clone().detach().requires_grad_(True), rather than torch.tensor(sourceTensor).\n",
      "  y_test = torch.reshape(torch.tensor(y_test), (-1, 1))\n",
      "WARNING flwr 2023-09-03 15:07:44,280 | app.py:210 | Both server and strategy were provided, ignoring strategy\n",
      "INFO flwr 2023-09-03 15:07:44,281 | app.py:145 | Starting Flower simulation, config: ServerConfig(num_rounds=20, round_timeout=None)\n"
     ]
    },
    {
     "name": "stdout",
     "output_type": "stream",
     "text": [
      "Fold 1:\n",
      "here\n",
      "torch.Size([30000, 1])\n",
      "torch.Size([30000, 10])\n",
      "torch.Size([120000, 1])\n",
      "torch.Size([120000, 10])\n",
      "torch.Size([96000, 10])\n",
      "torch.Size([24000, 10])\n",
      "Data partitioned across 2 clients and 0.0 of local dataset reserved for validation.\n",
      "FL experiment configured for 20 rounds with 2 client in the pool.\n",
      "FL round will proceed with 50.0% of clients sampled, at least 2.\n"
     ]
    },
    {
     "name": "stderr",
     "output_type": "stream",
     "text": [
      "2023-09-03 15:07:50,221\tINFO worker.py:1636 -- Started a local Ray instance.\n",
      "INFO flwr 2023-09-03 15:07:58,368 | app.py:179 | Flower VCE: Ray initialized with resources: {'CPU': 8.0, 'GPU': 1.0, 'node:127.0.0.1': 1.0, 'object_store_memory': 915963494.0, 'memory': 1831926990.0}\n",
      "INFO flwr 2023-09-03 15:07:58,372 | fl_server.py:78 | fit num_rounds 20\n",
      "INFO flwr 2023-09-03 15:07:58,376 | fl_server.py:81 | Initializing global parameters\n",
      "INFO flwr 2023-09-03 15:07:58,378 | fl_server.py:287 | Requesting initial parameters from one random client\n",
      "\u001B[2m\u001B[33m(raylet)\u001B[0m --- Logging error ---\n",
      "\u001B[2m\u001B[33m(raylet)\u001B[0m Traceback (most recent call last):\n",
      "\u001B[2m\u001B[33m(raylet)\u001B[0m   File \"D:\\FD\\venv\\lib\\site-packages\\ray\\dashboard\\agent.py\", line 299, in run\n",
      "\u001B[2m\u001B[33m(raylet)\u001B[0m     self.http_server = await self._configure_http_server(modules)\n",
      "\u001B[2m\u001B[33m(raylet)\u001B[0m   File \"D:\\FD\\venv\\lib\\site-packages\\ray\\dashboard\\agent.py\", line 162, in _configure_http_server\n",
      "\u001B[2m\u001B[33m(raylet)\u001B[0m     await http_server.start(modules)\n",
      "\u001B[2m\u001B[33m(raylet)\u001B[0m   File \"D:\\FD\\venv\\lib\\site-packages\\ray\\dashboard\\http_server_agent.py\", line 69, in start\n",
      "\u001B[2m\u001B[33m(raylet)\u001B[0m     raise e\n",
      "\u001B[2m\u001B[33m(raylet)\u001B[0m   File \"D:\\FD\\venv\\lib\\site-packages\\ray\\dashboard\\http_server_agent.py\", line 62, in start\n",
      "\u001B[2m\u001B[33m(raylet)\u001B[0m     await site.start()\n",
      "\u001B[2m\u001B[33m(raylet)\u001B[0m   File \"D:\\FD\\venv\\lib\\site-packages\\aiohttp\\web_runner.py\", line 121, in start\n",
      "\u001B[2m\u001B[33m(raylet)\u001B[0m     self._server = await loop.create_server(\n",
      "\u001B[2m\u001B[33m(raylet)\u001B[0m   File \"C:\\Program Files\\WindowsApps\\PythonSoftwareFoundation.Python.3.10_3.10.3056.0_x64__qbz5n2kfra8p0\\lib\\asyncio\\base_events.py\", line 1519, in create_server\n",
      "\u001B[2m\u001B[33m(raylet)\u001B[0m     raise OSError(err.errno, 'error while attempting '\n",
      "\u001B[2m\u001B[33m(raylet)\u001B[0m OSError: [Errno 10048] error while attempting to bind on address ('127.0.0.1', 52365): \\u901a\\u5e38\\u6bcf\\u4e2a\\u5957\\u63a5\\u5b57\\u5730\\u5740(\\u534f\\u8bae/\\u7f51\\u7edc\\u5730\\u5740/\\u7aef\\u53e3)\\u53ea\\u5141\\u8bb8\\u4f7f\\u7528\\u4e00\\u6b21\\u3002\n",
      "\u001B[2m\u001B[33m(raylet)\u001B[0m \n",
      "\u001B[2m\u001B[33m(raylet)\u001B[0m During handling of the above exception, another exception occurred:\n",
      "\u001B[2m\u001B[33m(raylet)\u001B[0m \n",
      "\u001B[2m\u001B[33m(raylet)\u001B[0m Traceback (most recent call last):\n",
      "\u001B[2m\u001B[33m(raylet)\u001B[0m   File \"C:\\Program Files\\WindowsApps\\PythonSoftwareFoundation.Python.3.10_3.10.3056.0_x64__qbz5n2kfra8p0\\lib\\logging\\__init__.py\", line 1103, in emit\n",
      "\u001B[2m\u001B[33m(raylet)\u001B[0m     stream.write(msg + self.terminator)\n",
      "\u001B[2m\u001B[33m(raylet)\u001B[0m   File \"C:\\Program Files\\WindowsApps\\PythonSoftwareFoundation.Python.3.10_3.10.3056.0_x64__qbz5n2kfra8p0\\lib\\encodings\\cp1252.py\", line 19, in encode\n",
      "\u001B[2m\u001B[33m(raylet)\u001B[0m     return codecs.charmap_encode(input,self.errors,encoding_table)[0]\n",
      "\u001B[2m\u001B[33m(raylet)\u001B[0m UnicodeEncodeError: 'charmap' codec can't encode characters in position 1104-1112: character maps to <undefined>\n",
      "\u001B[2m\u001B[33m(raylet)\u001B[0m Call stack:\n",
      "\u001B[2m\u001B[33m(raylet)\u001B[0m   File \"D:\\FD\\venv\\lib\\site-packages\\ray\\dashboard\\agent.py\", line 544, in <module>\n",
      "\u001B[2m\u001B[33m(raylet)\u001B[0m     loop.run_until_complete(agent.run())\n",
      "\u001B[2m\u001B[33m(raylet)\u001B[0m   File \"C:\\Program Files\\WindowsApps\\PythonSoftwareFoundation.Python.3.10_3.10.3056.0_x64__qbz5n2kfra8p0\\lib\\asyncio\\base_events.py\", line 636, in run_until_complete\n",
      "\u001B[2m\u001B[33m(raylet)\u001B[0m     self.run_forever()\n",
      "\u001B[2m\u001B[33m(raylet)\u001B[0m   File \"C:\\Program Files\\WindowsApps\\PythonSoftwareFoundation.Python.3.10_3.10.3056.0_x64__qbz5n2kfra8p0\\lib\\asyncio\\windows_events.py\", line 321, in run_forever\n",
      "\u001B[2m\u001B[33m(raylet)\u001B[0m     super().run_forever()\n",
      "\u001B[2m\u001B[33m(raylet)\u001B[0m   File \"C:\\Program Files\\WindowsApps\\PythonSoftwareFoundation.Python.3.10_3.10.3056.0_x64__qbz5n2kfra8p0\\lib\\asyncio\\base_events.py\", line 603, in run_forever\n",
      "\u001B[2m\u001B[33m(raylet)\u001B[0m     self._run_once()\n",
      "\u001B[2m\u001B[33m(raylet)\u001B[0m   File \"C:\\Program Files\\WindowsApps\\PythonSoftwareFoundation.Python.3.10_3.10.3056.0_x64__qbz5n2kfra8p0\\lib\\asyncio\\base_events.py\", line 1909, in _run_once\n",
      "\u001B[2m\u001B[33m(raylet)\u001B[0m     handle._run()\n",
      "\u001B[2m\u001B[33m(raylet)\u001B[0m   File \"C:\\Program Files\\WindowsApps\\PythonSoftwareFoundation.Python.3.10_3.10.3056.0_x64__qbz5n2kfra8p0\\lib\\asyncio\\events.py\", line 80, in _run\n",
      "\u001B[2m\u001B[33m(raylet)\u001B[0m     self._context.run(self._callback, *self._args)\n",
      "\u001B[2m\u001B[33m(raylet)\u001B[0m   File \"D:\\FD\\venv\\lib\\site-packages\\ray\\dashboard\\agent.py\", line 304, in run\n",
      "\u001B[2m\u001B[33m(raylet)\u001B[0m     logger.exception(\n",
      "\u001B[2m\u001B[33m(raylet)\u001B[0m Message: 'Failed to start http server. Agent will stay alive but disable the http service.'\n",
      "\u001B[2m\u001B[33m(raylet)\u001B[0m Arguments: ()\n",
      "\u001B[2m\u001B[36m(launch_and_get_parameters pid=15192)\u001B[0m Windows fatal exception: code 0xc0000139\n",
      "\u001B[2m\u001B[36m(launch_and_get_parameters pid=15192)\u001B[0m \n",
      "\u001B[2m\u001B[36m(launch_and_get_parameters pid=15192)\u001B[0m Stack (most recent call first):\n",
      "\u001B[2m\u001B[36m(launch_and_get_parameters pid=15192)\u001B[0m   File \"C:\\Program Files\\WindowsApps\\PythonSoftwareFoundation.Python.3.10_3.10.3056.0_x64__qbz5n2kfra8p0\\lib\\ctypes\\__init__.py\", line 374 in __init__\n",
      "\u001B[2m\u001B[36m(launch_and_get_parameters pid=15192)\u001B[0m   File \"D:\\FD\\venv\\lib\\site-packages\\torch\\_ops.py\", line 573 in load_library\n",
      "\u001B[2m\u001B[36m(launch_and_get_parameters pid=15192)\u001B[0m   File \"D:\\FD\\venv\\lib\\site-packages\\torchvision\\extension.py\", line 36 in <module>\n",
      "\u001B[2m\u001B[36m(launch_and_get_parameters pid=15192)\u001B[0m   File \"<frozen importlib._bootstrap>\", line 241 in _call_with_frames_removed\n",
      "\u001B[2m\u001B[36m(launch_and_get_parameters pid=15192)\u001B[0m   File \"<frozen importlib._bootstrap_external>\", line 883 in exec_module\n",
      "\u001B[2m\u001B[36m(launch_and_get_parameters pid=15192)\u001B[0m   File \"<frozen importlib._bootstrap>\", line 688 in _load_unlocked\n",
      "\u001B[2m\u001B[36m(launch_and_get_parameters pid=15192)\u001B[0m   File \"<frozen importlib._bootstrap>\", line 1006 in _find_and_load_unlocked\n",
      "\u001B[2m\u001B[36m(launch_and_get_parameters pid=15192)\u001B[0m   File \"<frozen importlib._bootstrap>\", line 1027 in _find_and_load\n",
      "\u001B[2m\u001B[36m(launch_and_get_parameters pid=15192)\u001B[0m   File \"D:\\FD\\venv\\lib\\site-packages\\torchvision\\io\\_load_gpu_decoder.py\", line 1 in <module>\n",
      "\u001B[2m\u001B[36m(launch_and_get_parameters pid=15192)\u001B[0m   File \"<frozen importlib._bootstrap>\", line 241 in _call_with_frames_removed\n",
      "\u001B[2m\u001B[36m(launch_and_get_parameters pid=15192)\u001B[0m   File \"<frozen importlib._bootstrap_external>\", line 883 in exec_module\n",
      "\u001B[2m\u001B[36m(launch_and_get_parameters pid=15192)\u001B[0m   File \"<frozen importlib._bootstrap>\", line 688 in _load_unlocked\n",
      "\u001B[2m\u001B[36m(launch_and_get_parameters pid=15192)\u001B[0m   File \"<frozen importlib._bootstrap>\", line 1006 in _find_and_load_unlocked\n",
      "\u001B[2m\u001B[36m(launch_and_get_parameters pid=15192)\u001B[0m   File \"<frozen importlib._bootstrap>\", line 1027 in _find_and_load\n",
      "\u001B[2m\u001B[36m(launch_and_get_parameters pid=15192)\u001B[0m   File \"D:\\FD\\venv\\lib\\site-packages\\torchvision\\io\\__init__.py\", line 8 in <module>\n",
      "\u001B[2m\u001B[36m(launch_and_get_parameters pid=15192)\u001B[0m   File \"<frozen importlib._bootstrap>\", line 241 in _call_with_frames_removed\n",
      "\u001B[2m\u001B[36m(launch_and_get_parameters pid=15192)\u001B[0m   File \"<frozen importlib._bootstrap_external>\", line 883 in exec_module\n",
      "\u001B[2m\u001B[36m(launch_and_get_parameters pid=15192)\u001B[0m   File \"<frozen importlib._bootstrap>\", line 688 in _load_unlocked\n",
      "\u001B[2m\u001B[36m(launch_and_get_parameters pid=15192)\u001B[0m   File \"<frozen importlib._bootstrap>\", line 1006 in _find_and_load_unlocked\n",
      "\u001B[2m\u001B[36m(launch_and_get_parameters pid=15192)\u001B[0m   File \"<frozen importlib._bootstrap>\", line 1027 in _find_and_load\n",
      "\u001B[2m\u001B[36m(launch_and_get_parameters pid=15192)\u001B[0m   File \"<frozen importlib._bootstrap>\", line 241 in _call_with_frames_removed\n",
      "\u001B[2m\u001B[36m(launch_and_get_parameters pid=15192)\u001B[0m   File \"<frozen importlib._bootstrap>\", line 992 in _find_and_load_unlocked\n",
      "\u001B[2m\u001B[36m(launch_and_get_parameters pid=15192)\u001B[0m   File \"<frozen importlib._bootstrap>\", line 1027 in _find_and_load\n",
      "\u001B[2m\u001B[36m(launch_and_get_parameters pid=15192)\u001B[0m   File \"D:\\FD\\venv\\lib\\site-packages\\torchvision\\datasets\\_optical_flow.py\", line 12 in <module>\n",
      "\u001B[2m\u001B[36m(launch_and_get_parameters pid=15192)\u001B[0m   File \"<frozen importlib._bootstrap>\", line 241 in _call_with_frames_removed\n",
      "\u001B[2m\u001B[36m(launch_and_get_parameters pid=15192)\u001B[0m   File \"<frozen importlib._bootstrap_external>\", line 883 in exec_module\n",
      "\u001B[2m\u001B[36m(launch_and_get_parameters pid=15192)\u001B[0m   File \"<frozen importlib._bootstrap>\", line 688 in _load_unlocked\n",
      "\u001B[2m\u001B[36m(launch_and_get_parameters pid=15192)\u001B[0m   File \"<frozen importlib._bootstrap>\", line 1006 in _find_and_load_unlocked\n",
      "\u001B[2m\u001B[36m(launch_and_get_parameters pid=15192)\u001B[0m   File \"<frozen importlib._bootstrap>\", line 1027 in _find_and_load\n",
      "\u001B[2m\u001B[36m(launch_and_get_parameters pid=15192)\u001B[0m   File \"D:\\FD\\venv\\lib\\site-packages\\torchvision\\datasets\\__init__.py\", line 1 in <module>\n",
      "\u001B[2m\u001B[36m(launch_and_get_parameters pid=15192)\u001B[0m   File \"<frozen importlib._bootstrap>\", line 241 in _call_with_frames_removed\n",
      "\u001B[2m\u001B[36m(launch_and_get_parameters pid=15192)\u001B[0m   File \"<frozen importlib._bootstrap_external>\", line 883 in exec_module\n",
      "\u001B[2m\u001B[36m(launch_and_get_parameters pid=15192)\u001B[0m   File \"<frozen importlib._bootstrap>\", line 688 in _load_unlocked\n",
      "\u001B[2m\u001B[36m(launch_and_get_parameters pid=15192)\u001B[0m   File \"<frozen importlib._bootstrap>\", line 1006 in _find_and_load_unlocked\n",
      "\u001B[2m\u001B[36m(launch_and_get_parameters pid=15192)\u001B[0m   File \"<frozen importlib._bootstrap>\", line 1027 in _find_and_load\n",
      "\u001B[2m\u001B[36m(launch_and_get_parameters pid=15192)\u001B[0m   File \"<frozen importlib._bootstrap>\", line 241 in _call_with_frames_removed\n",
      "\u001B[2m\u001B[36m(launch_and_get_parameters pid=15192)\u001B[0m   File \"<frozen importlib._bootstrap>\", line 1078 in _handle_fromlist\n",
      "\u001B[2m\u001B[36m(launch_and_get_parameters pid=15192)\u001B[0m   File \"D:\\FD\\venv\\lib\\site-packages\\torchvision\\__init__.py\", line 6 in <module>\n",
      "\u001B[2m\u001B[36m(launch_and_get_parameters pid=15192)\u001B[0m   File \"<frozen importlib._bootstrap>\", line 241 in _call_with_frames_removed\n",
      "\u001B[2m\u001B[36m(launch_and_get_parameters pid=15192)\u001B[0m   File \"<frozen importlib._bootstrap_external>\", line 883 in exec_module\n",
      "\u001B[2m\u001B[36m(launch_and_get_parameters pid=15192)\u001B[0m   File \"<frozen importlib._bootstrap>\", line 688 in _load_unlocked\n",
      "\u001B[2m\u001B[36m(launch_and_get_parameters pid=15192)\u001B[0m   File \"<frozen importlib._bootstrap>\", line 1006 in _find_and_load_unlocked\n",
      "\u001B[2m\u001B[36m(launch_and_get_parameters pid=15192)\u001B[0m   File \"<frozen importlib._bootstrap>\", line 1027 in _find_and_load\n",
      "\u001B[2m\u001B[36m(launch_and_get_parameters pid=15192)\u001B[0m   File \"<frozen importlib._bootstrap>\", line 1050 in _gcd_import\n",
      "\u001B[2m\u001B[36m(launch_and_get_parameters pid=15192)\u001B[0m   File \"C:\\Program Files\\WindowsApps\\PythonSoftwareFoundation.Python.3.10_3.10.3056.0_x64__qbz5n2kfra8p0\\lib\\importlib\\__init__.py\", line 126 in import_module\n",
      "\u001B[2m\u001B[36m(launch_and_get_parameters pid=15192)\u001B[0m   File \"D:\\FD\\venv\\lib\\site-packages\\lightning_utilities\\core\\imports.py\", line 73 in compare_version\n",
      "\u001B[2m\u001B[36m(launch_and_get_parameters pid=15192)\u001B[0m   File \"D:\\FD\\venv\\lib\\site-packages\\torchmetrics\\utilities\\imports.py\", line 41 in <module>\n",
      "\u001B[2m\u001B[36m(launch_and_get_parameters pid=15192)\u001B[0m   File \"<frozen importlib._bootstrap>\", line 241 in _call_with_frames_removed\n",
      "\u001B[2m\u001B[36m(launch_and_get_parameters pid=15192)\u001B[0m   File \"<frozen importlib._bootstrap_external>\", line 883 in exec_module\n",
      "\u001B[2m\u001B[36m(launch_and_get_parameters pid=15192)\u001B[0m   File \"<frozen importlib._bootstrap>\", line 688 in _load_unlocked\n",
      "\u001B[2m\u001B[36m(launch_and_get_parameters pid=15192)\u001B[0m   File \"<frozen importlib._bootstrap>\", line 1006 in _find_and_load_unlocked\n",
      "\u001B[2m\u001B[36m(launch_and_get_parameters pid=15192)\u001B[0m   File \"<frozen importlib._bootstrap>\", line 1027 in _find_and_load\n",
      "\u001B[2m\u001B[36m(launch_and_get_parameters pid=15192)\u001B[0m   File \"D:\\FD\\venv\\lib\\site-packages\\torchmetrics\\utilities\\data.py\", line 22 in <module>\n",
      "\u001B[2m\u001B[36m(launch_and_get_parameters pid=15192)\u001B[0m   File \"<frozen importlib._bootstrap>\", line 241 in _call_with_frames_removed\n",
      "\u001B[2m\u001B[36m(launch_and_get_parameters pid=15192)\u001B[0m   File \"<frozen importlib._bootstrap_external>\", line 883 in exec_module\n",
      "\u001B[2m\u001B[36m(launch_and_get_parameters pid=15192)\u001B[0m   File \"<frozen importlib._bootstrap>\", line 688 in _load_unlocked\n",
      "\u001B[2m\u001B[36m(launch_and_get_parameters pid=15192)\u001B[0m   File \"<frozen importlib._bootstrap>\", line 1006 in _find_and_load_unlocked\n",
      "\u001B[2m\u001B[36m(launch_and_get_parameters pid=15192)\u001B[0m   File \"<frozen importlib._bootstrap>\", line 1027 in _find_and_load\n",
      "\u001B[2m\u001B[36m(launch_and_get_parameters pid=15192)\u001B[0m   File \"D:\\FD\\venv\\lib\\site-packages\\torchmetrics\\metric.py\", line 30 in <module>\n",
      "\u001B[2m\u001B[36m(launch_and_get_parameters pid=15192)\u001B[0m   File \"<frozen importlib._bootstrap>\", line 241 in _call_with_frames_removed\n",
      "\u001B[2m\u001B[36m(launch_and_get_parameters pid=15192)\u001B[0m   File \"<frozen importlib._bootstrap_external>\", line 883 in exec_module\n",
      "\u001B[2m\u001B[36m(launch_and_get_parameters pid=15192)\u001B[0m   File \"<frozen importlib._bootstrap>\", line 688 in _load_unlocked\n",
      "\u001B[2m\u001B[36m(launch_and_get_parameters pid=15192)\u001B[0m   File \"<frozen importlib._bootstrap>\", line 1006 in _find_and_load_unlocked\n",
      "\u001B[2m\u001B[36m(launch_and_get_parameters pid=15192)\u001B[0m   File \"<frozen importlib._bootstrap>\", line 1027 in _find_and_load\n",
      "\u001B[2m\u001B[36m(launch_and_get_parameters pid=15192)\u001B[0m   File \"D:\\FD\\venv\\lib\\site-packages\\torchmetrics\\utilities\\checks.py\", line 25 in <module>\n",
      "\u001B[2m\u001B[36m(launch_and_get_parameters pid=15192)\u001B[0m   File \"<frozen importlib._bootstrap>\", line 241 in _call_with_frames_removed\n",
      "\u001B[2m\u001B[36m(launch_and_get_parameters pid=15192)\u001B[0m   File \"<frozen importlib._bootstrap_external>\", line 883 in exec_module\n",
      "\u001B[2m\u001B[36m(launch_and_get_parameters pid=15192)\u001B[0m   File \"<frozen importlib._bootstrap>\", line 688 in _load_unlocked\n",
      "\u001B[2m\u001B[36m(launch_and_get_parameters pid=15192)\u001B[0m   File \"<frozen importlib._bootstrap>\", line 1006 in _find_and_load_unlocked\n",
      "\u001B[2m\u001B[36m(launch_and_get_parameters pid=15192)\u001B[0m   File \"<frozen importlib._bootstrap>\", line 1027 in _find_and_load\n",
      "\u001B[2m\u001B[36m(launch_and_get_parameters pid=15192)\u001B[0m   File \"D:\\FD\\venv\\lib\\site-packages\\torchmetrics\\utilities\\__init__.py\", line 14 in <module>\n",
      "\u001B[2m\u001B[36m(launch_and_get_parameters pid=15192)\u001B[0m   File \"<frozen importlib._bootstrap>\", line 241 in _call_with_frames_removed\n",
      "\u001B[2m\u001B[36m(launch_and_get_parameters pid=15192)\u001B[0m   File \"<frozen importlib._bootstrap_external>\", line 883 in exec_module\n",
      "\u001B[2m\u001B[36m(launch_and_get_parameters pid=15192)\u001B[0m   File \"<frozen importlib._bootstrap>\", line 688 in _load_unlocked\n",
      "\u001B[2m\u001B[36m(launch_and_get_parameters pid=15192)\u001B[0m   File \"<frozen importlib._bootstrap>\", line 1006 in _find_and_load_unlocked\n",
      "\u001B[2m\u001B[36m(launch_and_get_parameters pid=15192)\u001B[0m   File \"<frozen importlib._bootstrap>\", line 1027 in _find_and_load\n",
      "\u001B[2m\u001B[36m(launch_and_get_parameters pid=15192)\u001B[0m   File \"D:\\FD\\venv\\lib\\site-packages\\torchmetrics\\functional\\audio\\pit.py\", line 23 in <module>\n",
      "\u001B[2m\u001B[36m(launch_and_get_parameters pid=15192)\u001B[0m   File \"<frozen importlib._bootstrap>\", line 241 in _call_with_frames_removed\n",
      "\u001B[2m\u001B[36m(launch_and_get_parameters pid=15192)\u001B[0m   File \"<frozen importlib._bootstrap_external>\", line 883 in exec_module\n",
      "\u001B[2m\u001B[36m(launch_and_get_parameters pid=15192)\u001B[0m   File \"<frozen importlib._bootstrap>\", line 688 in _load_unlocked\n",
      "\u001B[2m\u001B[36m(launch_and_get_parameters pid=15192)\u001B[0m   File \"<frozen importlib._bootstrap>\", line 1006 in _find_and_load_unlocked\n",
      "\u001B[2m\u001B[36m(launch_and_get_parameters pid=15192)\u001B[0m   File \"<frozen importlib._bootstrap>\", line 1027 in _find_and_load\n",
      "\u001B[2m\u001B[36m(launch_and_get_parameters pid=15192)\u001B[0m   File \"D:\\FD\\venv\\lib\\site-packages\\torchmetrics\\functional\\audio\\__init__.py\", line 14 in <module>\n",
      "\u001B[2m\u001B[36m(launch_and_get_parameters pid=15192)\u001B[0m   File \"<frozen importlib._bootstrap>\", line 241 in _call_with_frames_removed\n",
      "\u001B[2m\u001B[36m(launch_and_get_parameters pid=15192)\u001B[0m   File \"<frozen importlib._bootstrap_external>\", line 883 in exec_module\n",
      "\u001B[2m\u001B[36m(launch_and_get_parameters pid=15192)\u001B[0m   File \"<frozen importlib._bootstrap>\", line 688 in _load_unlocked\n",
      "\u001B[2m\u001B[36m(launch_and_get_parameters pid=15192)\u001B[0m   File \"<frozen importlib._bootstrap>\", line 1006 in _find_and_load_unlocked\n",
      "\u001B[2m\u001B[36m(launch_and_get_parameters pid=15192)\u001B[0m   File \"<frozen importlib._bootstrap>\", line 1027 in _find_and_load\n",
      "\u001B[2m\u001B[36m(launch_and_get_parameters pid=15192)\u001B[0m   File \"<frozen importlib._bootstrap>\", line 241 in _call_with_frames_removed\n",
      "\u001B[2m\u001B[36m(launch_and_get_parameters pid=15192)\u001B[0m   File \"<frozen importlib._bootstrap>\", line 992 in _find_and_load_unlocked\n",
      "\u001B[2m\u001B[36m(launch_and_get_parameters pid=15192)\u001B[0m   File \"<frozen importlib._bootstrap>\", line 1027 in _find_and_load\n",
      "\u001B[2m\u001B[36m(launch_and_get_parameters pid=15192)\u001B[0m   File \"D:\\FD\\venv\\lib\\site-packages\\torchmetrics\\functional\\__init__.py\", line 14 in <module>\n",
      "\u001B[2m\u001B[36m(launch_and_get_parameters pid=15192)\u001B[0m   File \"<frozen importlib._bootstrap>\", line 241 in _call_with_frames_removed\n",
      "\u001B[2m\u001B[36m(launch_and_get_parameters pid=15192)\u001B[0m   File \"<frozen importlib._bootstrap_external>\", line 883 in exec_module\n",
      "\u001B[2m\u001B[36m(launch_and_get_parameters pid=15192)\u001B[0m   File \"<frozen importlib._bootstrap>\", line 688 in _load_unlocked\n",
      "\u001B[2m\u001B[36m(launch_and_get_parameters pid=15192)\u001B[0m   File \"<frozen importlib._bootstrap>\", line 1006 in _find_and_load_unlocked\n",
      "\u001B[2m\u001B[36m(launch_and_get_parameters pid=15192)\u001B[0m   File \"<frozen importlib._bootstrap>\", line 1027 in _find_and_load\n",
      "\u001B[2m\u001B[36m(launch_and_get_parameters pid=15192)\u001B[0m   File \"<frozen importlib._bootstrap>\", line 241 in _call_with_frames_removed\n",
      "\u001B[2m\u001B[36m(launch_and_get_parameters pid=15192)\u001B[0m   File \"<frozen importlib._bootstrap>\", line 1078 in _handle_fromlist\n",
      "\u001B[2m\u001B[36m(launch_and_get_parameters pid=15192)\u001B[0m   File \"D:\\FD\\venv\\lib\\site-packages\\torchmetrics\\__init__.py\", line 14 in <module>\n",
      "\u001B[2m\u001B[36m(launch_and_get_parameters pid=15192)\u001B[0m   ...\n",
      "\u001B[2m\u001B[36m(launch_and_get_parameters pid=15192)\u001B[0m Windows fatal exception: code 0xc0000139\n",
      "\u001B[2m\u001B[36m(launch_and_get_parameters pid=15192)\u001B[0m \n",
      "\u001B[2m\u001B[36m(launch_and_get_parameters pid=15192)\u001B[0m D:\\FD\\venv\\lib\\site-packages\\torchvision\\io\\image.py:13: UserWarning: Failed to load image Python extension: '[WinError 127] 找不到指定的程序。'If you don't plan on using image functionality from `torchvision.io`, you can ignore this warning. Otherwise, there might be something wrong with your environment. Did you have `libjpeg` or `libpng` installed before building `torchvision` from source?\n",
      "\u001B[2m\u001B[36m(launch_and_get_parameters pid=15192)\u001B[0m   warn(\n"
     ]
    },
    {
     "name": "stdout",
     "output_type": "stream",
     "text": [
      "\u001B[2m\u001B[36m(launch_and_get_parameters pid=15192)\u001B[0m binary client\n"
     ]
    },
    {
     "name": "stderr",
     "output_type": "stream",
     "text": [
      "INFO flwr 2023-09-03 15:08:31,178 | fl_server.py:292 | Received initial parameters from one random client\n",
      "INFO flwr 2023-09-03 15:08:31,180 | fl_server.py:84 | Evaluating initial parameters\n"
     ]
    },
    {
     "name": "stdout",
     "output_type": "stream",
     "text": [
      "serverside task_type binary\n"
     ]
    },
    {
     "name": "stderr",
     "output_type": "stream",
     "text": [
      "INFO flwr 2023-09-03 15:09:03,721 | fl_server.py:87 | initial parameters (loss, other metrics): 0.22916526, {'auc': 0.7424210276222842}\n",
      "INFO flwr 2023-09-03 15:09:03,724 | fl_server.py:97 | FL starting\n",
      "DEBUG flwr 2023-09-03 15:09:03,725 | fl_server.py:226 | fit_round 1: strategy sampled 2 clients (out of 2)\n"
     ]
    },
    {
     "name": "stdout",
     "output_type": "stream",
     "text": [
      "testset mse 0.22916525602340698 and auc 0.7424210276222842\n",
      "Evaluation on the server: test_mse=0.2292, test_auc=0.7424\n",
      "Configuring round 1\n",
      "\u001B[2m\u001B[36m(launch_and_fit pid=15192)\u001B[0m binary client\n"
     ]
    },
    {
     "name": "stderr",
     "output_type": "stream",
     "text": [
      "\u001B[2m\u001B[36m(launch_and_fit pid=21960)\u001B[0m   ...\n",
      "\u001B[2m\u001B[36m(launch_and_fit pid=21960)\u001B[0m   ...\n",
      "\u001B[2m\u001B[36m(launch_and_fit pid=21960)\u001B[0m   ...\n",
      "\u001B[2m\u001B[36m(launch_and_fit pid=21960)\u001B[0m   ...\n",
      "\u001B[2m\u001B[36m(launch_and_fit pid=21960)\u001B[0m   ...\n",
      "\u001B[2m\u001B[36m(launch_and_fit pid=21960)\u001B[0m   ...\n",
      "\u001B[2m\u001B[36m(launch_and_fit pid=21960)\u001B[0m   File \"<frozen importlib._bootstrap>\", line 241 in _call_with_frames_removed\u001B[32m [repeated 18x across cluster] (Ray deduplicates logs by default. Set RAY_DEDUP_LOGS=0 to disable log deduplication, or see https://docs.ray.io/en/master/ray-observability/ray-logging.html#log-deduplication for more options.)\u001B[0m\n",
      "\u001B[2m\u001B[36m(launch_and_fit pid=21960)\u001B[0m   File \"<frozen importlib._bootstrap_external>\", line 883 in exec_module\u001B[32m [repeated 14x across cluster]\u001B[0m\n",
      "\u001B[2m\u001B[36m(launch_and_fit pid=21960)\u001B[0m   File \"<frozen importlib._bootstrap>\", line 688 in _load_unlocked\u001B[32m [repeated 14x across cluster]\u001B[0m\n",
      "\u001B[2m\u001B[36m(launch_and_fit pid=21960)\u001B[0m   File \"<frozen importlib._bootstrap>\", line 1006 in _find_and_load_unlocked\u001B[32m [repeated 16x across cluster]\u001B[0m\n",
      "\u001B[2m\u001B[36m(launch_and_fit pid=21960)\u001B[0m   File \"<frozen importlib._bootstrap>\", line 1027 in _find_and_load\u001B[32m [repeated 16x across cluster]\u001B[0m\n",
      "\u001B[2m\u001B[36m(launch_and_fit pid=21960)\u001B[0m   ...\n",
      "\u001B[2m\u001B[36m(launch_and_fit pid=21960)\u001B[0m   ...\n",
      "\u001B[2m\u001B[36m(launch_and_fit pid=21960)\u001B[0m   ...\n",
      "\u001B[2m\u001B[36m(launch_and_fit pid=21960)\u001B[0m   ...\n",
      "\u001B[2m\u001B[36m(launch_and_fit pid=21960)\u001B[0m   File \"<frozen importlib._bootstrap>\", line 1078 in _handle_fromlist\u001B[32m [repeated 2x across cluster]\u001B[0m\n",
      "\u001B[2m\u001B[36m(launch_and_fit pid=21960)\u001B[0m   ...\n",
      "\u001B[2m\u001B[36m(launch_and_fit pid=21960)\u001B[0m   ...\n",
      "\u001B[2m\u001B[36m(launch_and_fit pid=21960)\u001B[0m   ...\n",
      "\u001B[2m\u001B[36m(launch_and_fit pid=21960)\u001B[0m   ...\n",
      "\u001B[2m\u001B[36m(launch_and_fit pid=21960)\u001B[0m   ...\n",
      "\u001B[2m\u001B[36m(launch_and_fit pid=21960)\u001B[0m   ...\n",
      "\u001B[2m\u001B[36m(launch_and_fit pid=21960)\u001B[0m   ...\n",
      "\u001B[2m\u001B[36m(launch_and_fit pid=21960)\u001B[0m   ...\n",
      "\u001B[2m\u001B[36m(launch_and_fit pid=21960)\u001B[0m   ...\n",
      "\u001B[2m\u001B[36m(launch_and_fit pid=21960)\u001B[0m   ...\n",
      "\u001B[2m\u001B[36m(launch_and_fit pid=21960)\u001B[0m   ...\n",
      "\u001B[2m\u001B[36m(launch_and_fit pid=21960)\u001B[0m   ...\n",
      "\u001B[2m\u001B[36m(launch_and_fit pid=21960)\u001B[0m   ...\n",
      "\u001B[2m\u001B[36m(launch_and_fit pid=21960)\u001B[0m   ...\n",
      "\u001B[2m\u001B[36m(launch_and_fit pid=21960)\u001B[0m Windows fatal exception: code 0xc0000139\n",
      "\u001B[2m\u001B[36m(launch_and_fit pid=21960)\u001B[0m \n",
      "\u001B[2m\u001B[36m(launch_and_fit pid=21960)\u001B[0m D:\\FD\\venv\\lib\\site-packages\\torchvision\\io\\image.py:13: UserWarning: Failed to load image Python extension: '[WinError 127] 找不到指定的程序。'If you don't plan on using image functionality from `torchvision.io`, you can ignore this warning. Otherwise, there might be something wrong with your environment. Did you have `libjpeg` or `libpng` installed before building `torchvision` from source?\n",
      "\u001B[2m\u001B[36m(launch_and_fit pid=21960)\u001B[0m   warn(\n"
     ]
    },
    {
     "name": "stdout",
     "output_type": "stream",
     "text": [
      "\u001B[2m\u001B[36m(launch_and_fit pid=21960)\u001B[0m binary client\n",
      "\u001B[2m\u001B[36m(launch_and_fit pid=21960)\u001B[0m Client 1 aggregated_trees length 2\n",
      "\u001B[2m\u001B[36m(launch_and_fit pid=21960)\u001B[0m Client 1: only had its own tree\n",
      "\u001B[2m\u001B[36m(launch_and_fit pid=15192)\u001B[0m Client 0: only had its own tree\n",
      "\u001B[2m\u001B[36m(launch_and_fit pid=15192)\u001B[0m Client 0: only had its own tree\n"
     ]
    },
    {
     "name": "stderr",
     "output_type": "stream",
     "text": [
      "\u001B[2m\u001B[36m(launch_and_fit pid=21960)\u001B[0m D:\\FD\\clients\\xgb_client.py:238: UserWarning: To copy construct from a tensor, it is recommended to use sourceTensor.clone().detach() or sourceTensor.clone().detach().requires_grad_(True), rather than torch.tensor(sourceTensor).\n",
      "\u001B[2m\u001B[36m(launch_and_fit pid=21960)\u001B[0m   y_test = torch.cat((torch.tensor(y_test), torch.tensor(labels)), dim=0)\n",
      "\u001B[2m\u001B[36m(launch_and_fit pid=21960)\u001B[0m D:\\FD\\clients\\xgb_client.py:239: UserWarning: To copy construct from a tensor, it is recommended to use sourceTensor.clone().detach() or sourceTensor.clone().detach().requires_grad_(True), rather than torch.tensor(sourceTensor).\n",
      "\u001B[2m\u001B[36m(launch_and_fit pid=21960)\u001B[0m   y_pred = torch.cat((torch.tensor(y_pred), torch.tensor(outputs)), dim=0)\n"
     ]
    },
    {
     "name": "stdout",
     "output_type": "stream",
     "text": [
      "\u001B[2m\u001B[36m(launch_and_fit pid=21960)\u001B[0m Client 1: training for 2 iterations/updates\n"
     ]
    },
    {
     "name": "stderr",
     "output_type": "stream",
     "text": [
      "DEBUG flwr 2023-09-03 15:10:08,091 | fl_server.py:241 | fit_round 1 received 2 results and 0 failures\n",
      "WARNING flwr 2023-09-03 15:10:08,096 | fedxgb_nn_avg.py:88 | No fit_metrics_aggregation_fn provided\n",
      "\u001B[2m\u001B[36m(launch_and_fit pid=15192)\u001B[0m D:\\FD\\clients\\xgb_client.py:239: UserWarning: To copy construct from a tensor, it is recommended to use sourceTensor.clone().detach() or sourceTensor.clone().detach().requires_grad_(True), rather than torch.tensor(sourceTensor).\u001B[32m [repeated 2x across cluster]\u001B[0m\n",
      "\u001B[2m\u001B[36m(launch_and_fit pid=15192)\u001B[0m   y_pred = torch.cat((torch.tensor(y_pred), torch.tensor(outputs)), dim=0)\n",
      "\u001B[2m\u001B[36m(launch_and_fit pid=15192)\u001B[0m   y_pred = torch.cat((torch.tensor(y_pred), torch.tensor(outputs)), dim=0)\n"
     ]
    },
    {
     "name": "stdout",
     "output_type": "stream",
     "text": [
      "Server side aggregated 2 trees.\n",
      "serverside task_type binary\n",
      "\u001B[2m\u001B[36m(launch_and_fit pid=15192)\u001B[0m Client 0: training for 2 iterations/updates\n"
     ]
    },
    {
     "name": "stderr",
     "output_type": "stream",
     "text": [
      "INFO flwr 2023-09-03 15:10:34,162 | fl_server.py:112 | fit progress: (1, 0.16734834, {'auc': 0.8584273168207032}, 90.43611419999797)\n",
      "INFO flwr 2023-09-03 15:10:34,165 | fl_server.py:159 | evaluate_round 1: no clients selected, cancel\n",
      "DEBUG flwr 2023-09-03 15:10:34,167 | fl_server.py:226 | fit_round 2: strategy sampled 2 clients (out of 2)\n"
     ]
    },
    {
     "name": "stdout",
     "output_type": "stream",
     "text": [
      "testset mse 0.16734834015369415 and auc 0.8584273168207032\n",
      "Evaluation on the server: test_mse=0.1673, test_auc=0.8584\n",
      "Configuring round 2\n",
      "\u001B[2m\u001B[36m(launch_and_fit pid=15192)\u001B[0m binary client\n",
      "\u001B[2m\u001B[36m(launch_and_fit pid=15192)\u001B[0m Client 1 aggregated_trees length 2\n",
      "\u001B[2m\u001B[36m(launch_and_fit pid=15192)\u001B[0m Client 1: recieved 2 trees\n",
      "\u001B[2m\u001B[36m(launch_and_fit pid=21960)\u001B[0m Client 1: recieved 2 trees\n",
      "\u001B[2m\u001B[36m(launch_and_fit pid=21960)\u001B[0m Client 0: recieved 2 trees\n",
      "\u001B[2m\u001B[36m(launch_and_fit pid=21960)\u001B[0m Client 0: recieved 2 trees\n",
      "\u001B[2m\u001B[36m(launch_and_fit pid=15192)\u001B[0m Client 1: training for 2 iterations/updates\n"
     ]
    },
    {
     "name": "stderr",
     "output_type": "stream",
     "text": [
      "DEBUG flwr 2023-09-03 15:11:36,997 | fl_server.py:241 | fit_round 2 received 2 results and 0 failures\n"
     ]
    },
    {
     "name": "stdout",
     "output_type": "stream",
     "text": [
      "\u001B[2m\u001B[36m(launch_and_fit pid=21960)\u001B[0m Client 0: training for 2 iterations/updates\n",
      "Server side aggregated 2 trees.\n",
      "serverside task_type binary\n"
     ]
    },
    {
     "name": "stderr",
     "output_type": "stream",
     "text": [
      "INFO flwr 2023-09-03 15:12:06,778 | fl_server.py:112 | fit progress: (2, 0.12520741, {'auc': 0.8608258599211296}, 183.05272459999833)\n",
      "INFO flwr 2023-09-03 15:12:06,780 | fl_server.py:159 | evaluate_round 2: no clients selected, cancel\n",
      "DEBUG flwr 2023-09-03 15:12:06,782 | fl_server.py:226 | fit_round 3: strategy sampled 2 clients (out of 2)\n"
     ]
    },
    {
     "name": "stdout",
     "output_type": "stream",
     "text": [
      "testset mse 0.12520740926265717 and auc 0.8608258599211296\n",
      "Evaluation on the server: test_mse=0.1252, test_auc=0.8608\n",
      "Configuring round 3\n",
      "\u001B[2m\u001B[36m(launch_and_fit pid=15192)\u001B[0m binary client\n",
      "\u001B[2m\u001B[36m(launch_and_fit pid=15192)\u001B[0m Client 1 aggregated_trees length 2\n",
      "\u001B[2m\u001B[36m(launch_and_fit pid=15192)\u001B[0m Client 1: recieved 2 trees\n",
      "\u001B[2m\u001B[36m(launch_and_fit pid=21960)\u001B[0m Client 1: recieved 2 trees\n",
      "\u001B[2m\u001B[36m(launch_and_fit pid=21960)\u001B[0m Client 0: recieved 2 trees\n",
      "\u001B[2m\u001B[36m(launch_and_fit pid=21960)\u001B[0m Client 0: recieved 2 trees\n",
      "\u001B[2m\u001B[36m(launch_and_fit pid=15192)\u001B[0m Client 1: training for 2 iterations/updates\n"
     ]
    },
    {
     "name": "stderr",
     "output_type": "stream",
     "text": [
      "DEBUG flwr 2023-09-03 15:13:03,169 | fl_server.py:241 | fit_round 3 received 2 results and 0 failures\n"
     ]
    },
    {
     "name": "stdout",
     "output_type": "stream",
     "text": [
      "Server side aggregated 2 trees.\n",
      "serverside task_type binary\n",
      "\u001B[2m\u001B[36m(launch_and_fit pid=21960)\u001B[0m Client 0: training for 2 iterations/updates\n"
     ]
    },
    {
     "name": "stderr",
     "output_type": "stream",
     "text": [
      "INFO flwr 2023-09-03 15:13:25,225 | fl_server.py:112 | fit progress: (3, 0.09361309, {'auc': 0.8608663542842929}, 261.4995711000083)\n",
      "INFO flwr 2023-09-03 15:13:25,226 | fl_server.py:159 | evaluate_round 3: no clients selected, cancel\n",
      "DEBUG flwr 2023-09-03 15:13:25,228 | fl_server.py:226 | fit_round 4: strategy sampled 2 clients (out of 2)\n"
     ]
    },
    {
     "name": "stdout",
     "output_type": "stream",
     "text": [
      "testset mse 0.09361308813095093 and auc 0.8608663542842929\n",
      "Evaluation on the server: test_mse=0.0936, test_auc=0.8609\n",
      "Configuring round 4\n",
      "\u001B[2m\u001B[36m(launch_and_fit pid=15192)\u001B[0m binary client\n",
      "\u001B[2m\u001B[36m(launch_and_fit pid=15192)\u001B[0m Client 1 aggregated_trees length 2\n",
      "\u001B[2m\u001B[36m(launch_and_fit pid=15192)\u001B[0m Client 1: recieved 2 trees\n",
      "\u001B[2m\u001B[36m(launch_and_fit pid=21960)\u001B[0m Client 0: recieved 2 trees\n",
      "\u001B[2m\u001B[36m(launch_and_fit pid=21960)\u001B[0m Client 0: recieved 2 trees\n",
      "\u001B[2m\u001B[36m(launch_and_fit pid=21960)\u001B[0m Client 0: recieved 2 trees\n",
      "\u001B[2m\u001B[36m(launch_and_fit pid=15192)\u001B[0m Client 1: training for 2 iterations/updates\n"
     ]
    },
    {
     "name": "stderr",
     "output_type": "stream",
     "text": [
      "DEBUG flwr 2023-09-03 15:14:34,749 | fl_server.py:241 | fit_round 4 received 2 results and 0 failures\n"
     ]
    },
    {
     "name": "stdout",
     "output_type": "stream",
     "text": [
      "\u001B[2m\u001B[36m(launch_and_fit pid=21960)\u001B[0m Client 0: training for 2 iterations/updates\n",
      "Server side aggregated 2 trees.\n",
      "serverside task_type binary\n"
     ]
    },
    {
     "name": "stderr",
     "output_type": "stream",
     "text": [
      "INFO flwr 2023-09-03 15:15:08,555 | fl_server.py:112 | fit progress: (4, 0.07159837, {'auc': 0.861999368401903}, 364.82960040000034)\n",
      "INFO flwr 2023-09-03 15:15:08,557 | fl_server.py:159 | evaluate_round 4: no clients selected, cancel\n",
      "DEBUG flwr 2023-09-03 15:15:08,558 | fl_server.py:226 | fit_round 5: strategy sampled 2 clients (out of 2)\n"
     ]
    },
    {
     "name": "stdout",
     "output_type": "stream",
     "text": [
      "testset mse 0.07159837335348129 and auc 0.861999368401903\n",
      "Evaluation on the server: test_mse=0.0716, test_auc=0.8620\n",
      "Configuring round 5\n",
      "\u001B[2m\u001B[36m(launch_and_fit pid=15192)\u001B[0m binary client\n",
      "\u001B[2m\u001B[36m(launch_and_fit pid=15192)\u001B[0m Client 1 aggregated_trees length 2\n",
      "\u001B[2m\u001B[36m(launch_and_fit pid=15192)\u001B[0m Client 1: recieved 2 trees\n",
      "\u001B[2m\u001B[36m(launch_and_fit pid=21960)\u001B[0m Client 1: recieved 2 trees\n",
      "\u001B[2m\u001B[36m(launch_and_fit pid=21960)\u001B[0m Client 0: recieved 2 trees\n",
      "\u001B[2m\u001B[36m(launch_and_fit pid=21960)\u001B[0m Client 0: recieved 2 trees\n",
      "\u001B[2m\u001B[36m(launch_and_fit pid=15192)\u001B[0m Client 1: training for 2 iterations/updates\n"
     ]
    },
    {
     "name": "stderr",
     "output_type": "stream",
     "text": [
      "DEBUG flwr 2023-09-03 15:16:15,888 | fl_server.py:241 | fit_round 5 received 2 results and 0 failures\n"
     ]
    },
    {
     "name": "stdout",
     "output_type": "stream",
     "text": [
      "\u001B[2m\u001B[36m(launch_and_fit pid=21960)\u001B[0m Client 0: training for 2 iterations/updates\n",
      "Server side aggregated 2 trees.\n",
      "serverside task_type binary\n"
     ]
    },
    {
     "name": "stderr",
     "output_type": "stream",
     "text": [
      "INFO flwr 2023-09-03 15:16:52,835 | fl_server.py:112 | fit progress: (5, 0.059149347, {'auc': 0.8614422236612304}, 469.10945250000805)\n",
      "INFO flwr 2023-09-03 15:16:52,839 | fl_server.py:159 | evaluate_round 5: no clients selected, cancel\n",
      "DEBUG flwr 2023-09-03 15:16:52,841 | fl_server.py:226 | fit_round 6: strategy sampled 2 clients (out of 2)\n"
     ]
    },
    {
     "name": "stdout",
     "output_type": "stream",
     "text": [
      "testset mse 0.05914934724569321 and auc 0.8614422236612304\n",
      "Evaluation on the server: test_mse=0.0591, test_auc=0.8614\n",
      "Configuring round 6\n",
      "\u001B[2m\u001B[36m(launch_and_fit pid=15192)\u001B[0m binary client\n",
      "\u001B[2m\u001B[36m(launch_and_fit pid=21960)\u001B[0m Client 1 aggregated_trees length 2\n",
      "\u001B[2m\u001B[36m(launch_and_fit pid=21960)\u001B[0m Client 1: recieved 2 trees\n",
      "\u001B[2m\u001B[36m(launch_and_fit pid=21960)\u001B[0m Client 1: recieved 2 trees\n",
      "\u001B[2m\u001B[36m(launch_and_fit pid=15192)\u001B[0m Client 0: recieved 2 trees\n",
      "\u001B[2m\u001B[36m(launch_and_fit pid=15192)\u001B[0m Client 0: recieved 2 trees\n",
      "\u001B[2m\u001B[36m(launch_and_fit pid=21960)\u001B[0m Client 1: training for 2 iterations/updates\n"
     ]
    },
    {
     "name": "stderr",
     "output_type": "stream",
     "text": [
      "DEBUG flwr 2023-09-03 15:18:39,790 | fl_server.py:241 | fit_round 6 received 2 results and 0 failures\n"
     ]
    },
    {
     "name": "stdout",
     "output_type": "stream",
     "text": [
      "\u001B[2m\u001B[36m(launch_and_fit pid=15192)\u001B[0m Client 0: training for 2 iterations/updates\n",
      "Server side aggregated 2 trees.\n",
      "serverside task_type binary\n"
     ]
    },
    {
     "name": "stderr",
     "output_type": "stream",
     "text": [
      "INFO flwr 2023-09-03 15:19:11,066 | fl_server.py:112 | fit progress: (6, 0.053660814, {'auc': 0.862865794628688}, 607.3412667000084)\n",
      "INFO flwr 2023-09-03 15:19:11,068 | fl_server.py:159 | evaluate_round 6: no clients selected, cancel\n",
      "DEBUG flwr 2023-09-03 15:19:11,071 | fl_server.py:226 | fit_round 7: strategy sampled 2 clients (out of 2)\n"
     ]
    },
    {
     "name": "stdout",
     "output_type": "stream",
     "text": [
      "testset mse 0.053660813719034195 and auc 0.862865794628688\n",
      "Evaluation on the server: test_mse=0.0537, test_auc=0.8629\n",
      "Configuring round 7\n",
      "\u001B[2m\u001B[36m(launch_and_fit pid=15192)\u001B[0m binary client\n",
      "\u001B[2m\u001B[36m(launch_and_fit pid=15192)\u001B[0m Client 1 aggregated_trees length 2\n",
      "\u001B[2m\u001B[36m(launch_and_fit pid=15192)\u001B[0m Client 1: recieved 2 trees\n",
      "\u001B[2m\u001B[36m(launch_and_fit pid=21960)\u001B[0m Client 1: recieved 2 trees\n",
      "\u001B[2m\u001B[36m(launch_and_fit pid=21960)\u001B[0m Client 0: recieved 2 trees\n",
      "\u001B[2m\u001B[36m(launch_and_fit pid=21960)\u001B[0m Client 0: recieved 2 trees\n",
      "\u001B[2m\u001B[36m(launch_and_fit pid=15192)\u001B[0m Client 1: training for 2 iterations/updates\n"
     ]
    },
    {
     "name": "stderr",
     "output_type": "stream",
     "text": [
      "DEBUG flwr 2023-09-03 15:20:32,356 | fl_server.py:241 | fit_round 7 received 2 results and 0 failures\n"
     ]
    },
    {
     "name": "stdout",
     "output_type": "stream",
     "text": [
      "Server side aggregated 2 trees.\n",
      "serverside task_type binary\n",
      "\u001B[2m\u001B[36m(launch_and_fit pid=21960)\u001B[0m Client 0: training for 2 iterations/updates\n"
     ]
    },
    {
     "name": "stderr",
     "output_type": "stream",
     "text": [
      "INFO flwr 2023-09-03 15:20:54,827 | fl_server.py:112 | fit progress: (7, 0.052319996, {'auc': 0.8619309607079313}, 711.1017452000087)\n",
      "INFO flwr 2023-09-03 15:20:54,830 | fl_server.py:159 | evaluate_round 7: no clients selected, cancel\n",
      "DEBUG flwr 2023-09-03 15:20:54,834 | fl_server.py:226 | fit_round 8: strategy sampled 2 clients (out of 2)\n"
     ]
    },
    {
     "name": "stdout",
     "output_type": "stream",
     "text": [
      "testset mse 0.05231999605894089 and auc 0.8619309607079313\n",
      "Evaluation on the server: test_mse=0.0523, test_auc=0.8619\n",
      "Configuring round 8\n",
      "\u001B[2m\u001B[36m(launch_and_fit pid=15192)\u001B[0m binary client\n",
      "\u001B[2m\u001B[36m(launch_and_fit pid=21960)\u001B[0m Client 1 aggregated_trees length 2\n",
      "\u001B[2m\u001B[36m(launch_and_fit pid=21960)\u001B[0m Client 1: recieved 2 trees\n",
      "\u001B[2m\u001B[36m(launch_and_fit pid=21960)\u001B[0m Client 0: recieved 2 trees\n",
      "\u001B[2m\u001B[36m(launch_and_fit pid=15192)\u001B[0m Client 0: recieved 2 trees\n",
      "\u001B[2m\u001B[36m(launch_and_fit pid=15192)\u001B[0m Client 0: recieved 2 trees\n",
      "\u001B[2m\u001B[36m(launch_and_fit pid=21960)\u001B[0m Client 1: training for 2 iterations/updates\n"
     ]
    },
    {
     "name": "stderr",
     "output_type": "stream",
     "text": [
      "DEBUG flwr 2023-09-03 15:21:59,981 | fl_server.py:241 | fit_round 8 received 2 results and 0 failures\n"
     ]
    },
    {
     "name": "stdout",
     "output_type": "stream",
     "text": [
      "Server side aggregated 2 trees.\n",
      "serverside task_type binary\n",
      "\u001B[2m\u001B[36m(launch_and_fit pid=15192)\u001B[0m Client 0: training for 2 iterations/updates\n"
     ]
    },
    {
     "name": "stderr",
     "output_type": "stream",
     "text": [
      "INFO flwr 2023-09-03 15:22:28,941 | fl_server.py:112 | fit progress: (8, 0.051879425, {'auc': 0.862207422883881}, 805.2159013000055)\n",
      "INFO flwr 2023-09-03 15:22:28,945 | fl_server.py:159 | evaluate_round 8: no clients selected, cancel\n",
      "DEBUG flwr 2023-09-03 15:22:28,948 | fl_server.py:226 | fit_round 9: strategy sampled 2 clients (out of 2)\n"
     ]
    },
    {
     "name": "stdout",
     "output_type": "stream",
     "text": [
      "testset mse 0.05187942460179329 and auc 0.862207422883881\n",
      "Evaluation on the server: test_mse=0.0519, test_auc=0.8622\n",
      "Configuring round 9\n",
      "\u001B[2m\u001B[36m(launch_and_fit pid=15192)\u001B[0m binary client\n",
      "\u001B[2m\u001B[36m(launch_and_fit pid=15192)\u001B[0m Client 1 aggregated_trees length 2\n",
      "\u001B[2m\u001B[36m(launch_and_fit pid=15192)\u001B[0m Client 1: recieved 2 trees\n",
      "\u001B[2m\u001B[36m(launch_and_fit pid=21960)\u001B[0m Client 1: recieved 2 trees\n",
      "\u001B[2m\u001B[36m(launch_and_fit pid=21960)\u001B[0m Client 0: recieved 2 trees\n",
      "\u001B[2m\u001B[36m(launch_and_fit pid=21960)\u001B[0m Client 0: recieved 2 trees\n",
      "\u001B[2m\u001B[36m(launch_and_fit pid=15192)\u001B[0m Client 1: training for 2 iterations/updates\n"
     ]
    },
    {
     "name": "stderr",
     "output_type": "stream",
     "text": [
      "DEBUG flwr 2023-09-03 15:23:34,008 | fl_server.py:241 | fit_round 9 received 2 results and 0 failures\n"
     ]
    },
    {
     "name": "stdout",
     "output_type": "stream",
     "text": [
      "Server side aggregated 2 trees.\n",
      "serverside task_type binary\n",
      "\u001B[2m\u001B[36m(launch_and_fit pid=21960)\u001B[0m Client 0: training for 2 iterations/updates\n"
     ]
    },
    {
     "name": "stderr",
     "output_type": "stream",
     "text": [
      "INFO flwr 2023-09-03 15:24:00,951 | fl_server.py:112 | fit progress: (9, 0.05162071, {'auc': 0.8622742368023458}, 897.2252987000102)\n",
      "INFO flwr 2023-09-03 15:24:00,954 | fl_server.py:159 | evaluate_round 9: no clients selected, cancel\n",
      "DEBUG flwr 2023-09-03 15:24:00,955 | fl_server.py:226 | fit_round 10: strategy sampled 2 clients (out of 2)\n"
     ]
    },
    {
     "name": "stdout",
     "output_type": "stream",
     "text": [
      "testset mse 0.051620710641145706 and auc 0.8622742368023458\n",
      "Evaluation on the server: test_mse=0.0516, test_auc=0.8623\n",
      "Configuring round 10\n",
      "\u001B[2m\u001B[36m(launch_and_fit pid=15192)\u001B[0m binary client\n",
      "\u001B[2m\u001B[36m(launch_and_fit pid=15192)\u001B[0m Client 1 aggregated_trees length 2\n",
      "\u001B[2m\u001B[36m(launch_and_fit pid=15192)\u001B[0m Client 1: recieved 2 trees\n",
      "\u001B[2m\u001B[36m(launch_and_fit pid=21960)\u001B[0m Client 1: recieved 2 trees\n",
      "\u001B[2m\u001B[36m(launch_and_fit pid=21960)\u001B[0m Client 0: recieved 2 trees\n",
      "\u001B[2m\u001B[36m(launch_and_fit pid=21960)\u001B[0m Client 0: recieved 2 trees\n",
      "\u001B[2m\u001B[36m(launch_and_fit pid=15192)\u001B[0m Client 1: training for 2 iterations/updates\n"
     ]
    },
    {
     "name": "stderr",
     "output_type": "stream",
     "text": [
      "DEBUG flwr 2023-09-03 15:25:00,907 | fl_server.py:241 | fit_round 10 received 2 results and 0 failures\n"
     ]
    },
    {
     "name": "stdout",
     "output_type": "stream",
     "text": [
      "\u001B[2m\u001B[36m(launch_and_fit pid=21960)\u001B[0m Client 0: training for 2 iterations/updates\n",
      "Server side aggregated 2 trees.\n",
      "serverside task_type binary\n"
     ]
    },
    {
     "name": "stderr",
     "output_type": "stream",
     "text": [
      "INFO flwr 2023-09-03 15:25:29,835 | fl_server.py:112 | fit progress: (10, 0.051756226, {'auc': 0.8617388706923452}, 986.1104295999976)\n",
      "INFO flwr 2023-09-03 15:25:29,837 | fl_server.py:159 | evaluate_round 10: no clients selected, cancel\n",
      "DEBUG flwr 2023-09-03 15:25:29,839 | fl_server.py:226 | fit_round 11: strategy sampled 2 clients (out of 2)\n"
     ]
    },
    {
     "name": "stdout",
     "output_type": "stream",
     "text": [
      "testset mse 0.051756225526332855 and auc 0.8617388706923452\n",
      "Evaluation on the server: test_mse=0.0518, test_auc=0.8617\n",
      "Configuring round 11\n",
      "\u001B[2m\u001B[36m(launch_and_fit pid=15192)\u001B[0m binary client\n",
      "\u001B[2m\u001B[36m(launch_and_fit pid=21960)\u001B[0m Client 1 aggregated_trees length 2\n",
      "\u001B[2m\u001B[36m(launch_and_fit pid=21960)\u001B[0m Client 1: recieved 2 trees\n",
      "\u001B[2m\u001B[36m(launch_and_fit pid=21960)\u001B[0m Client 1: recieved 2 trees\n",
      "\u001B[2m\u001B[36m(launch_and_fit pid=15192)\u001B[0m Client 0: recieved 2 trees\n",
      "\u001B[2m\u001B[36m(launch_and_fit pid=15192)\u001B[0m Client 0: recieved 2 trees\n",
      "\u001B[2m\u001B[36m(launch_and_fit pid=21960)\u001B[0m Client 1: training for 2 iterations/updates\n"
     ]
    },
    {
     "name": "stderr",
     "output_type": "stream",
     "text": [
      "DEBUG flwr 2023-09-03 15:26:27,031 | fl_server.py:241 | fit_round 11 received 2 results and 0 failures\n"
     ]
    },
    {
     "name": "stdout",
     "output_type": "stream",
     "text": [
      "Server side aggregated 2 trees.\n",
      "serverside task_type binary\n",
      "\u001B[2m\u001B[36m(launch_and_fit pid=15192)\u001B[0m Client 0: training for 2 iterations/updates\n"
     ]
    },
    {
     "name": "stderr",
     "output_type": "stream",
     "text": [
      "INFO flwr 2023-09-03 15:26:45,781 | fl_server.py:112 | fit progress: (11, 0.05128925, {'auc': 0.8623253889827268}, 1062.0559914000041)\n",
      "INFO flwr 2023-09-03 15:26:45,783 | fl_server.py:159 | evaluate_round 11: no clients selected, cancel\n",
      "DEBUG flwr 2023-09-03 15:26:45,784 | fl_server.py:226 | fit_round 12: strategy sampled 2 clients (out of 2)\n"
     ]
    },
    {
     "name": "stdout",
     "output_type": "stream",
     "text": [
      "testset mse 0.05128924921154976 and auc 0.8623253889827268\n",
      "Evaluation on the server: test_mse=0.0513, test_auc=0.8623\n",
      "Configuring round 12\n",
      "\u001B[2m\u001B[36m(launch_and_fit pid=15192)\u001B[0m binary client\n",
      "\u001B[2m\u001B[36m(launch_and_fit pid=21960)\u001B[0m Client 1 aggregated_trees length 2\n",
      "\u001B[2m\u001B[36m(launch_and_fit pid=21960)\u001B[0m Client 1: recieved 2 trees\n",
      "\u001B[2m\u001B[36m(launch_and_fit pid=21960)\u001B[0m Client 0: recieved 2 trees\n",
      "\u001B[2m\u001B[36m(launch_and_fit pid=15192)\u001B[0m Client 0: recieved 2 trees\n",
      "\u001B[2m\u001B[36m(launch_and_fit pid=15192)\u001B[0m Client 0: recieved 2 trees\n",
      "\u001B[2m\u001B[36m(launch_and_fit pid=21960)\u001B[0m Client 1: training for 2 iterations/updates\n"
     ]
    },
    {
     "name": "stderr",
     "output_type": "stream",
     "text": [
      "DEBUG flwr 2023-09-03 15:27:42,721 | fl_server.py:241 | fit_round 12 received 2 results and 0 failures\n"
     ]
    },
    {
     "name": "stdout",
     "output_type": "stream",
     "text": [
      "Server side aggregated 2 trees.\n",
      "serverside task_type binary\n",
      "\u001B[2m\u001B[36m(launch_and_fit pid=15192)\u001B[0m Client 0: training for 2 iterations/updates\n"
     ]
    },
    {
     "name": "stderr",
     "output_type": "stream",
     "text": [
      "INFO flwr 2023-09-03 15:28:03,664 | fl_server.py:112 | fit progress: (12, 0.05112849, {'auc': 0.8621530119222955}, 1139.9378041000018)\n",
      "INFO flwr 2023-09-03 15:28:03,668 | fl_server.py:159 | evaluate_round 12: no clients selected, cancel\n",
      "DEBUG flwr 2023-09-03 15:28:03,671 | fl_server.py:226 | fit_round 13: strategy sampled 2 clients (out of 2)\n"
     ]
    },
    {
     "name": "stdout",
     "output_type": "stream",
     "text": [
      "testset mse 0.05112849175930023 and auc 0.8621530119222955\n",
      "Evaluation on the server: test_mse=0.0511, test_auc=0.8622\n",
      "Configuring round 13\n",
      "\u001B[2m\u001B[36m(launch_and_fit pid=15192)\u001B[0m binary client\n",
      "\u001B[2m\u001B[36m(launch_and_fit pid=21960)\u001B[0m Client 1 aggregated_trees length 2\n",
      "\u001B[2m\u001B[36m(launch_and_fit pid=21960)\u001B[0m Client 1: recieved 2 trees\n",
      "\u001B[2m\u001B[36m(launch_and_fit pid=21960)\u001B[0m Client 1: recieved 2 trees\n",
      "\u001B[2m\u001B[36m(launch_and_fit pid=15192)\u001B[0m Client 0: recieved 2 trees\n",
      "\u001B[2m\u001B[36m(launch_and_fit pid=15192)\u001B[0m Client 0: recieved 2 trees\n",
      "\u001B[2m\u001B[36m(launch_and_fit pid=21960)\u001B[0m Client 1: training for 2 iterations/updates\n"
     ]
    },
    {
     "name": "stderr",
     "output_type": "stream",
     "text": [
      "DEBUG flwr 2023-09-03 15:29:02,668 | fl_server.py:241 | fit_round 13 received 2 results and 0 failures\n"
     ]
    },
    {
     "name": "stdout",
     "output_type": "stream",
     "text": [
      "Server side aggregated 2 trees.\n",
      "serverside task_type binary\n",
      "\u001B[2m\u001B[36m(launch_and_fit pid=15192)\u001B[0m Client 0: training for 2 iterations/updates\n"
     ]
    },
    {
     "name": "stderr",
     "output_type": "stream",
     "text": [
      "INFO flwr 2023-09-03 15:29:31,096 | fl_server.py:112 | fit progress: (13, 0.051076327, {'auc': 0.862331559297958}, 1227.3707374000078)\n",
      "INFO flwr 2023-09-03 15:29:31,098 | fl_server.py:159 | evaluate_round 13: no clients selected, cancel\n",
      "DEBUG flwr 2023-09-03 15:29:31,099 | fl_server.py:226 | fit_round 14: strategy sampled 2 clients (out of 2)\n"
     ]
    },
    {
     "name": "stdout",
     "output_type": "stream",
     "text": [
      "testset mse 0.05107632651925087 and auc 0.862331559297958\n",
      "Evaluation on the server: test_mse=0.0511, test_auc=0.8623\n",
      "Configuring round 14\n",
      "\u001B[2m\u001B[36m(launch_and_fit pid=15192)\u001B[0m binary client\n",
      "\u001B[2m\u001B[36m(launch_and_fit pid=21960)\u001B[0m Client 1 aggregated_trees length 2\n",
      "\u001B[2m\u001B[36m(launch_and_fit pid=21960)\u001B[0m Client 1: recieved 2 trees\n",
      "\u001B[2m\u001B[36m(launch_and_fit pid=21960)\u001B[0m Client 1: recieved 2 trees\n",
      "\u001B[2m\u001B[36m(launch_and_fit pid=15192)\u001B[0m Client 0: recieved 2 trees\n",
      "\u001B[2m\u001B[36m(launch_and_fit pid=15192)\u001B[0m Client 0: recieved 2 trees\n",
      "\u001B[2m\u001B[36m(launch_and_fit pid=21960)\u001B[0m Client 1: training for 2 iterations/updates\n"
     ]
    },
    {
     "name": "stderr",
     "output_type": "stream",
     "text": [
      "DEBUG flwr 2023-09-03 15:30:40,739 | fl_server.py:241 | fit_round 14 received 2 results and 0 failures\n"
     ]
    },
    {
     "name": "stdout",
     "output_type": "stream",
     "text": [
      "Server side aggregated 2 trees.\n",
      "serverside task_type binary\n",
      "\u001B[2m\u001B[36m(launch_and_fit pid=15192)\u001B[0m Client 0: training for 2 iterations/updates\n"
     ]
    },
    {
     "name": "stderr",
     "output_type": "stream",
     "text": [
      "INFO flwr 2023-09-03 15:31:06,725 | fl_server.py:112 | fit progress: (14, 0.051114667, {'auc': 0.8624408887362347}, 1322.9993758000055)\n",
      "INFO flwr 2023-09-03 15:31:06,727 | fl_server.py:159 | evaluate_round 14: no clients selected, cancel\n",
      "DEBUG flwr 2023-09-03 15:31:06,729 | fl_server.py:226 | fit_round 15: strategy sampled 2 clients (out of 2)\n"
     ]
    },
    {
     "name": "stdout",
     "output_type": "stream",
     "text": [
      "testset mse 0.05111466720700264 and auc 0.8624408887362347\n",
      "Evaluation on the server: test_mse=0.0511, test_auc=0.8624\n",
      "Configuring round 15\n",
      "\u001B[2m\u001B[36m(launch_and_fit pid=15192)\u001B[0m binary client\n",
      "\u001B[2m\u001B[36m(launch_and_fit pid=21960)\u001B[0m Client 1 aggregated_trees length 2\n",
      "\u001B[2m\u001B[36m(launch_and_fit pid=21960)\u001B[0m Client 1: recieved 2 trees\n",
      "\u001B[2m\u001B[36m(launch_and_fit pid=21960)\u001B[0m Client 1: recieved 2 trees\n",
      "\u001B[2m\u001B[36m(launch_and_fit pid=15192)\u001B[0m Client 0: recieved 2 trees\n",
      "\u001B[2m\u001B[36m(launch_and_fit pid=15192)\u001B[0m Client 0: recieved 2 trees\n",
      "\u001B[2m\u001B[36m(launch_and_fit pid=21960)\u001B[0m Client 1: training for 2 iterations/updates\n"
     ]
    },
    {
     "name": "stderr",
     "output_type": "stream",
     "text": [
      "DEBUG flwr 2023-09-03 15:32:21,479 | fl_server.py:241 | fit_round 15 received 2 results and 0 failures\n"
     ]
    },
    {
     "name": "stdout",
     "output_type": "stream",
     "text": [
      "Server side aggregated 2 trees.\n",
      "serverside task_type binary\n",
      "\u001B[2m\u001B[36m(launch_and_fit pid=15192)\u001B[0m Client 0: training for 2 iterations/updates\n"
     ]
    },
    {
     "name": "stderr",
     "output_type": "stream",
     "text": [
      "INFO flwr 2023-09-03 15:32:52,289 | fl_server.py:112 | fit progress: (15, 0.05069439, {'auc': 0.8623938411955674}, 1428.562971300009)\n",
      "INFO flwr 2023-09-03 15:32:52,292 | fl_server.py:159 | evaluate_round 15: no clients selected, cancel\n",
      "DEBUG flwr 2023-09-03 15:32:52,294 | fl_server.py:226 | fit_round 16: strategy sampled 2 clients (out of 2)\n"
     ]
    },
    {
     "name": "stdout",
     "output_type": "stream",
     "text": [
      "testset mse 0.05069439113140106 and auc 0.8623938411955674\n",
      "Evaluation on the server: test_mse=0.0507, test_auc=0.8624\n",
      "Configuring round 16\n",
      "\u001B[2m\u001B[36m(launch_and_fit pid=15192)\u001B[0m binary client\n",
      "\u001B[2m\u001B[36m(launch_and_fit pid=21960)\u001B[0m Client 1 aggregated_trees length 2\n",
      "\u001B[2m\u001B[36m(launch_and_fit pid=21960)\u001B[0m Client 1: recieved 2 trees\n",
      "\u001B[2m\u001B[36m(launch_and_fit pid=21960)\u001B[0m Client 1: recieved 2 trees\n",
      "\u001B[2m\u001B[36m(launch_and_fit pid=15192)\u001B[0m Client 0: recieved 2 trees\n",
      "\u001B[2m\u001B[36m(launch_and_fit pid=15192)\u001B[0m Client 0: recieved 2 trees\n",
      "\u001B[2m\u001B[36m(launch_and_fit pid=21960)\u001B[0m Client 1: training for 2 iterations/updates\n"
     ]
    },
    {
     "name": "stderr",
     "output_type": "stream",
     "text": [
      "DEBUG flwr 2023-09-03 15:33:59,006 | fl_server.py:241 | fit_round 16 received 2 results and 0 failures\n"
     ]
    },
    {
     "name": "stdout",
     "output_type": "stream",
     "text": [
      "\u001B[2m\u001B[36m(launch_and_fit pid=15192)\u001B[0m Client 0: training for 2 iterations/updates\n",
      "Server side aggregated 2 trees.\n",
      "serverside task_type binary\n"
     ]
    },
    {
     "name": "stderr",
     "output_type": "stream",
     "text": [
      "INFO flwr 2023-09-03 15:34:22,456 | fl_server.py:112 | fit progress: (16, 0.05060782, {'auc': 0.8623686435157626}, 1518.7309442999976)\n",
      "INFO flwr 2023-09-03 15:34:22,458 | fl_server.py:159 | evaluate_round 16: no clients selected, cancel\n",
      "DEBUG flwr 2023-09-03 15:34:22,460 | fl_server.py:226 | fit_round 17: strategy sampled 2 clients (out of 2)\n"
     ]
    },
    {
     "name": "stdout",
     "output_type": "stream",
     "text": [
      "testset mse 0.050607819110155106 and auc 0.8623686435157626\n",
      "Evaluation on the server: test_mse=0.0506, test_auc=0.8624\n",
      "Configuring round 17\n",
      "\u001B[2m\u001B[36m(launch_and_fit pid=15192)\u001B[0m binary client\n",
      "\u001B[2m\u001B[36m(launch_and_fit pid=21960)\u001B[0m Client 1 aggregated_trees length 2\n",
      "\u001B[2m\u001B[36m(launch_and_fit pid=21960)\u001B[0m Client 1: recieved 2 trees\n",
      "\u001B[2m\u001B[36m(launch_and_fit pid=21960)\u001B[0m Client 1: recieved 2 trees\n",
      "\u001B[2m\u001B[36m(launch_and_fit pid=15192)\u001B[0m Client 0: recieved 2 trees\n",
      "\u001B[2m\u001B[36m(launch_and_fit pid=15192)\u001B[0m Client 0: recieved 2 trees\n",
      "\u001B[2m\u001B[36m(launch_and_fit pid=21960)\u001B[0m Client 1: training for 2 iterations/updates\n"
     ]
    },
    {
     "name": "stderr",
     "output_type": "stream",
     "text": [
      "DEBUG flwr 2023-09-03 15:35:21,152 | fl_server.py:241 | fit_round 17 received 2 results and 0 failures\n"
     ]
    },
    {
     "name": "stdout",
     "output_type": "stream",
     "text": [
      "\u001B[2m\u001B[36m(launch_and_fit pid=15192)\u001B[0m Client 0: training for 2 iterations/updates\n",
      "Server side aggregated 2 trees.\n",
      "serverside task_type binary\n"
     ]
    },
    {
     "name": "stderr",
     "output_type": "stream",
     "text": [
      "INFO flwr 2023-09-03 15:35:51,981 | fl_server.py:112 | fit progress: (17, 0.05037962, {'auc': 0.862110603247769}, 1608.2556695000094)\n",
      "INFO flwr 2023-09-03 15:35:51,983 | fl_server.py:159 | evaluate_round 17: no clients selected, cancel\n",
      "DEBUG flwr 2023-09-03 15:35:51,984 | fl_server.py:226 | fit_round 18: strategy sampled 2 clients (out of 2)\n"
     ]
    },
    {
     "name": "stdout",
     "output_type": "stream",
     "text": [
      "testset mse 0.050379619002342224 and auc 0.862110603247769\n",
      "Evaluation on the server: test_mse=0.0504, test_auc=0.8621\n",
      "Configuring round 18\n",
      "\u001B[2m\u001B[36m(launch_and_fit pid=15192)\u001B[0m binary client\n",
      "\u001B[2m\u001B[36m(launch_and_fit pid=21960)\u001B[0m Client 1 aggregated_trees length 2\n",
      "\u001B[2m\u001B[36m(launch_and_fit pid=21960)\u001B[0m Client 1: recieved 2 trees\n",
      "\u001B[2m\u001B[36m(launch_and_fit pid=21960)\u001B[0m Client 1: recieved 2 trees\n",
      "\u001B[2m\u001B[36m(launch_and_fit pid=15192)\u001B[0m Client 0: recieved 2 trees\n",
      "\u001B[2m\u001B[36m(launch_and_fit pid=15192)\u001B[0m Client 0: recieved 2 trees\n",
      "\u001B[2m\u001B[36m(launch_and_fit pid=21960)\u001B[0m Client 1: training for 2 iterations/updates\n"
     ]
    },
    {
     "name": "stderr",
     "output_type": "stream",
     "text": [
      "DEBUG flwr 2023-09-03 15:36:56,301 | fl_server.py:241 | fit_round 18 received 2 results and 0 failures\n"
     ]
    },
    {
     "name": "stdout",
     "output_type": "stream",
     "text": [
      "Server side aggregated 2 trees.\n",
      "serverside task_type binary\n",
      "\u001B[2m\u001B[36m(launch_and_fit pid=15192)\u001B[0m Client 0: training for 2 iterations/updates\n"
     ]
    },
    {
     "name": "stderr",
     "output_type": "stream",
     "text": [
      "INFO flwr 2023-09-03 15:37:18,192 | fl_server.py:112 | fit progress: (18, 0.050447814, {'auc': 0.8620206395174695}, 1694.4668305000087)\n",
      "INFO flwr 2023-09-03 15:37:18,194 | fl_server.py:159 | evaluate_round 18: no clients selected, cancel\n",
      "DEBUG flwr 2023-09-03 15:37:18,195 | fl_server.py:226 | fit_round 19: strategy sampled 2 clients (out of 2)\n"
     ]
    },
    {
     "name": "stdout",
     "output_type": "stream",
     "text": [
      "testset mse 0.05044781416654587 and auc 0.8620206395174695\n",
      "Evaluation on the server: test_mse=0.0504, test_auc=0.8620\n",
      "Configuring round 19\n",
      "\u001B[2m\u001B[36m(launch_and_fit pid=15192)\u001B[0m binary client\n",
      "\u001B[2m\u001B[36m(launch_and_fit pid=15192)\u001B[0m Client 1 aggregated_trees length 2\n",
      "\u001B[2m\u001B[36m(launch_and_fit pid=15192)\u001B[0m Client 1: recieved 2 trees\n",
      "\u001B[2m\u001B[36m(launch_and_fit pid=21960)\u001B[0m Client 0: recieved 2 trees\n",
      "\u001B[2m\u001B[36m(launch_and_fit pid=21960)\u001B[0m Client 0: recieved 2 trees\n",
      "\u001B[2m\u001B[36m(launch_and_fit pid=21960)\u001B[0m Client 0: recieved 2 trees\n",
      "\u001B[2m\u001B[36m(launch_and_fit pid=15192)\u001B[0m Client 1: training for 2 iterations/updates\n"
     ]
    },
    {
     "name": "stderr",
     "output_type": "stream",
     "text": [
      "DEBUG flwr 2023-09-03 15:38:05,355 | fl_server.py:241 | fit_round 19 received 2 results and 0 failures\n"
     ]
    },
    {
     "name": "stdout",
     "output_type": "stream",
     "text": [
      "\u001B[2m\u001B[36m(launch_and_fit pid=21960)\u001B[0m Client 0: training for 2 iterations/updates\n",
      "Server side aggregated 2 trees.\n",
      "serverside task_type binary\n"
     ]
    },
    {
     "name": "stderr",
     "output_type": "stream",
     "text": [
      "INFO flwr 2023-09-03 15:38:28,892 | fl_server.py:112 | fit progress: (19, 0.05033099, {'auc': 0.8620471104369252}, 1765.1663614999998)\n",
      "INFO flwr 2023-09-03 15:38:28,894 | fl_server.py:159 | evaluate_round 19: no clients selected, cancel\n",
      "DEBUG flwr 2023-09-03 15:38:28,896 | fl_server.py:226 | fit_round 20: strategy sampled 2 clients (out of 2)\n"
     ]
    },
    {
     "name": "stdout",
     "output_type": "stream",
     "text": [
      "testset mse 0.0503309890627861 and auc 0.8620471104369252\n",
      "Evaluation on the server: test_mse=0.0503, test_auc=0.8620\n",
      "Configuring round 20\n",
      "\u001B[2m\u001B[36m(launch_and_fit pid=15192)\u001B[0m binary client\n",
      "\u001B[2m\u001B[36m(launch_and_fit pid=15192)\u001B[0m Client 1 aggregated_trees length 2\n",
      "\u001B[2m\u001B[36m(launch_and_fit pid=15192)\u001B[0m Client 1: recieved 2 trees\n",
      "\u001B[2m\u001B[36m(launch_and_fit pid=21960)\u001B[0m Client 0: recieved 2 trees\n",
      "\u001B[2m\u001B[36m(launch_and_fit pid=21960)\u001B[0m Client 0: recieved 2 trees\n",
      "\u001B[2m\u001B[36m(launch_and_fit pid=21960)\u001B[0m Client 0: recieved 2 trees\n",
      "\u001B[2m\u001B[36m(launch_and_fit pid=15192)\u001B[0m Client 1: training for 2 iterations/updates\n"
     ]
    },
    {
     "name": "stderr",
     "output_type": "stream",
     "text": [
      "DEBUG flwr 2023-09-03 15:39:18,842 | fl_server.py:241 | fit_round 20 received 2 results and 0 failures\n"
     ]
    },
    {
     "name": "stdout",
     "output_type": "stream",
     "text": [
      "Server side aggregated 2 trees.\n",
      "serverside task_type binary\n",
      "\u001B[2m\u001B[36m(launch_and_fit pid=21960)\u001B[0m Client 0: training for 2 iterations/updates\n"
     ]
    },
    {
     "name": "stderr",
     "output_type": "stream",
     "text": [
      "INFO flwr 2023-09-03 15:39:37,196 | fl_server.py:112 | fit progress: (20, 0.05060996, {'auc': 0.8619743220862525}, 1833.4699895000085)\n",
      "INFO flwr 2023-09-03 15:39:37,198 | fl_server.py:159 | evaluate_round 20: no clients selected, cancel\n",
      "INFO flwr 2023-09-03 15:39:37,199 | fl_server.py:140 | FL finished in 1833.4731150000007\n",
      "INFO flwr 2023-09-03 15:39:37,201 | app.py:225 | app_fit: losses_distributed []\n",
      "INFO flwr 2023-09-03 15:39:37,203 | app.py:226 | app_fit: metrics_distributed_fit {}\n",
      "INFO flwr 2023-09-03 15:39:37,205 | app.py:227 | app_fit: metrics_distributed {}\n",
      "INFO flwr 2023-09-03 15:39:37,206 | app.py:228 | app_fit: losses_centralized [(0, 0.22916526), (1, 0.16734834), (2, 0.12520741), (3, 0.09361309), (4, 0.07159837), (5, 0.059149347), (6, 0.053660814), (7, 0.052319996), (8, 0.051879425), (9, 0.05162071), (10, 0.051756226), (11, 0.05128925), (12, 0.05112849), (13, 0.051076327), (14, 0.051114667), (15, 0.05069439), (16, 0.05060782), (17, 0.05037962), (18, 0.050447814), (19, 0.05033099), (20, 0.05060996)]\n",
      "INFO flwr 2023-09-03 15:39:37,208 | app.py:229 | app_fit: metrics_centralized {'auc': [(0, 0.7424210276222842), (1, 0.8584273168207032), (2, 0.8608258599211296), (3, 0.8608663542842929), (4, 0.861999368401903), (5, 0.8614422236612304), (6, 0.862865794628688), (7, 0.8619309607079313), (8, 0.862207422883881), (9, 0.8622742368023458), (10, 0.8617388706923452), (11, 0.8623253889827268), (12, 0.8621530119222955), (13, 0.862331559297958), (14, 0.8624408887362347), (15, 0.8623938411955674), (16, 0.8623686435157626), (17, 0.862110603247769), (18, 0.8620206395174695), (19, 0.8620471104369252), (20, 0.8619743220862525)]}\n"
     ]
    },
    {
     "name": "stdout",
     "output_type": "stream",
     "text": [
      "testset mse 0.05060996115207672 and auc 0.8619743220862525\n",
      "Evaluation on the server: test_mse=0.0506, test_auc=0.8620\n",
      "History (loss, centralized):\n",
      "\tround 0: 0.22916525602340698\n",
      "\tround 1: 0.16734834015369415\n",
      "\tround 2: 0.12520740926265717\n",
      "\tround 3: 0.09361308813095093\n",
      "\tround 4: 0.07159837335348129\n",
      "\tround 5: 0.05914934724569321\n",
      "\tround 6: 0.053660813719034195\n",
      "\tround 7: 0.05231999605894089\n",
      "\tround 8: 0.05187942460179329\n",
      "\tround 9: 0.051620710641145706\n",
      "\tround 10: 0.051756225526332855\n",
      "\tround 11: 0.05128924921154976\n",
      "\tround 12: 0.05112849175930023\n",
      "\tround 13: 0.05107632651925087\n",
      "\tround 14: 0.05111466720700264\n",
      "\tround 15: 0.05069439113140106\n",
      "\tround 16: 0.050607819110155106\n",
      "\tround 17: 0.050379619002342224\n",
      "\tround 18: 0.05044781416654587\n",
      "\tround 19: 0.0503309890627861\n",
      "\tround 20: 0.05060996115207672\n",
      "History (metrics, centralized):\n",
      "{'auc': [(0, 0.7424210276222842), (1, 0.8584273168207032), (2, 0.8608258599211296), (3, 0.8608663542842929), (4, 0.861999368401903), (5, 0.8614422236612304), (6, 0.862865794628688), (7, 0.8619309607079313), (8, 0.862207422883881), (9, 0.8622742368023458), (10, 0.8617388706923452), (11, 0.8623253889827268), (12, 0.8621530119222955), (13, 0.862331559297958), (14, 0.8624408887362347), (15, 0.8623938411955674), (16, 0.8623686435157626), (17, 0.862110603247769), (18, 0.8620206395174695), (19, 0.8620471104369252), (20, 0.8619743220862525)]}\n",
      "[(0, 0.22916526), (1, 0.16734834), (2, 0.12520741), (3, 0.09361309), (4, 0.07159837), (5, 0.059149347), (6, 0.053660814), (7, 0.052319996), (8, 0.051879425), (9, 0.05162071), (10, 0.051756226), (11, 0.05128925), (12, 0.05112849), (13, 0.051076327), (14, 0.051114667), (15, 0.05069439), (16, 0.05060782), (17, 0.05037962), (18, 0.050447814), (19, 0.05033099), (20, 0.05060996)]\n",
      "Fold 2:\n",
      "[0.8, 0.2]\n",
      "Training time 0:31:53.101721\n"
     ]
    }
   ],
   "source": [
    "split = [0.8, 0.2]\n",
    "do_fl(split)"
   ],
   "metadata": {
    "collapsed": false,
    "ExecuteTime": {
     "end_time": "2023-09-03T14:39:37.335725300Z",
     "start_time": "2023-09-03T14:07:44.204086700Z"
    }
   }
  },
  {
   "cell_type": "code",
   "execution_count": 8,
   "outputs": [
    {
     "name": "stderr",
     "output_type": "stream",
     "text": [
      "C:\\Users\\Shuyao\\AppData\\Local\\Temp\\ipykernel_14868\\1879151568.py:17: UserWarning: To copy construct from a tensor, it is recommended to use sourceTensor.clone().detach() or sourceTensor.clone().detach().requires_grad_(True), rather than torch.tensor(sourceTensor).\n",
      "  X_train = torch.tensor(X_train)\n",
      "C:\\Users\\Shuyao\\AppData\\Local\\Temp\\ipykernel_14868\\1879151568.py:18: UserWarning: To copy construct from a tensor, it is recommended to use sourceTensor.clone().detach() or sourceTensor.clone().detach().requires_grad_(True), rather than torch.tensor(sourceTensor).\n",
      "  X_test = torch.tensor(X_test)\n",
      "C:\\Users\\Shuyao\\AppData\\Local\\Temp\\ipykernel_14868\\1879151568.py:19: UserWarning: To copy construct from a tensor, it is recommended to use sourceTensor.clone().detach() or sourceTensor.clone().detach().requires_grad_(True), rather than torch.tensor(sourceTensor).\n",
      "  y_train = torch.reshape(torch.tensor(y_train), (-1, 1))\n",
      "C:\\Users\\Shuyao\\AppData\\Local\\Temp\\ipykernel_14868\\1879151568.py:20: UserWarning: To copy construct from a tensor, it is recommended to use sourceTensor.clone().detach() or sourceTensor.clone().detach().requires_grad_(True), rather than torch.tensor(sourceTensor).\n",
      "  y_test = torch.reshape(torch.tensor(y_test), (-1, 1))\n",
      "WARNING flwr 2023-09-03 12:45:05,154 | app.py:210 | Both server and strategy were provided, ignoring strategy\n",
      "INFO flwr 2023-09-03 12:45:05,156 | app.py:145 | Starting Flower simulation, config: ServerConfig(num_rounds=20, round_timeout=None)\n"
     ]
    },
    {
     "name": "stdout",
     "output_type": "stream",
     "text": [
      "Fold 1:\n",
      "here\n",
      "torch.Size([30000, 1])\n",
      "torch.Size([30000, 10])\n",
      "torch.Size([120000, 1])\n",
      "torch.Size([120000, 10])\n",
      "torch.Size([40800, 10])\n",
      "torch.Size([38400, 10])\n",
      "torch.Size([38400, 10])\n",
      "Data partitioned across 3 clients and 0.0 of local dataset reserved for validation.\n",
      "FL experiment configured for 20 rounds with 3 client in the pool.\n",
      "FL round will proceed with 50.0% of clients sampled, at least 2.\n",
      "\u001B[2m\u001B[36m(launch_and_fit pid=27084)\u001B[0m Client 1: training for 2 iterations/updates\n"
     ]
    },
    {
     "name": "stderr",
     "output_type": "stream",
     "text": [
      "2023-09-03 12:45:13,424\tINFO worker.py:1636 -- Started a local Ray instance.\n",
      "INFO flwr 2023-09-03 12:45:17,830 | app.py:179 | Flower VCE: Ray initialized with resources: {'CPU': 8.0, 'node:127.0.0.1': 1.0, 'object_store_memory': 1110126182.0, 'memory': 2220252366.0, 'GPU': 1.0}\n",
      "INFO flwr 2023-09-03 12:45:17,832 | fl_server.py:78 | fit num_rounds 20\n",
      "INFO flwr 2023-09-03 12:45:17,833 | fl_server.py:81 | Initializing global parameters\n",
      "INFO flwr 2023-09-03 12:45:17,834 | fl_server.py:287 | Requesting initial parameters from one random client\n",
      "\u001B[2m\u001B[33m(raylet)\u001B[0m --- Logging error ---\n",
      "\u001B[2m\u001B[33m(raylet)\u001B[0m Traceback (most recent call last):\n",
      "\u001B[2m\u001B[33m(raylet)\u001B[0m   File \"D:\\FD\\venv\\lib\\site-packages\\ray\\dashboard\\agent.py\", line 299, in run\n",
      "\u001B[2m\u001B[33m(raylet)\u001B[0m     self.http_server = await self._configure_http_server(modules)\n",
      "\u001B[2m\u001B[33m(raylet)\u001B[0m   File \"D:\\FD\\venv\\lib\\site-packages\\ray\\dashboard\\agent.py\", line 162, in _configure_http_server\n",
      "\u001B[2m\u001B[33m(raylet)\u001B[0m     await http_server.start(modules)\n",
      "\u001B[2m\u001B[33m(raylet)\u001B[0m   File \"D:\\FD\\venv\\lib\\site-packages\\ray\\dashboard\\http_server_agent.py\", line 69, in start\n",
      "\u001B[2m\u001B[33m(raylet)\u001B[0m     raise e\n",
      "\u001B[2m\u001B[33m(raylet)\u001B[0m   File \"D:\\FD\\venv\\lib\\site-packages\\ray\\dashboard\\http_server_agent.py\", line 62, in start\n",
      "\u001B[2m\u001B[33m(raylet)\u001B[0m     await site.start()\n",
      "\u001B[2m\u001B[33m(raylet)\u001B[0m   File \"D:\\FD\\venv\\lib\\site-packages\\aiohttp\\web_runner.py\", line 121, in start\n",
      "\u001B[2m\u001B[33m(raylet)\u001B[0m     self._server = await loop.create_server(\n",
      "\u001B[2m\u001B[33m(raylet)\u001B[0m   File \"C:\\Program Files\\WindowsApps\\PythonSoftwareFoundation.Python.3.10_3.10.3056.0_x64__qbz5n2kfra8p0\\lib\\asyncio\\base_events.py\", line 1519, in create_server\n",
      "\u001B[2m\u001B[33m(raylet)\u001B[0m     raise OSError(err.errno, 'error while attempting '\n",
      "\u001B[2m\u001B[33m(raylet)\u001B[0m OSError: [Errno 10048] error while attempting to bind on address ('127.0.0.1', 52365): \\u901a\\u5e38\\u6bcf\\u4e2a\\u5957\\u63a5\\u5b57\\u5730\\u5740(\\u534f\\u8bae/\\u7f51\\u7edc\\u5730\\u5740/\\u7aef\\u53e3)\\u53ea\\u5141\\u8bb8\\u4f7f\\u7528\\u4e00\\u6b21\\u3002\n",
      "\u001B[2m\u001B[33m(raylet)\u001B[0m \n",
      "\u001B[2m\u001B[33m(raylet)\u001B[0m During handling of the above exception, another exception occurred:\n",
      "\u001B[2m\u001B[33m(raylet)\u001B[0m \n",
      "\u001B[2m\u001B[33m(raylet)\u001B[0m Traceback (most recent call last):\n",
      "\u001B[2m\u001B[33m(raylet)\u001B[0m   File \"C:\\Program Files\\WindowsApps\\PythonSoftwareFoundation.Python.3.10_3.10.3056.0_x64__qbz5n2kfra8p0\\lib\\logging\\__init__.py\", line 1103, in emit\n",
      "\u001B[2m\u001B[33m(raylet)\u001B[0m     stream.write(msg + self.terminator)\n",
      "\u001B[2m\u001B[33m(raylet)\u001B[0m   File \"C:\\Program Files\\WindowsApps\\PythonSoftwareFoundation.Python.3.10_3.10.3056.0_x64__qbz5n2kfra8p0\\lib\\encodings\\cp1252.py\", line 19, in encode\n",
      "\u001B[2m\u001B[33m(raylet)\u001B[0m     return codecs.charmap_encode(input,self.errors,encoding_table)[0]\n",
      "\u001B[2m\u001B[33m(raylet)\u001B[0m UnicodeEncodeError: 'charmap' codec can't encode characters in position 1104-1112: character maps to <undefined>\n",
      "\u001B[2m\u001B[33m(raylet)\u001B[0m Call stack:\n",
      "\u001B[2m\u001B[33m(raylet)\u001B[0m   File \"D:\\FD\\venv\\lib\\site-packages\\ray\\dashboard\\agent.py\", line 544, in <module>\n",
      "\u001B[2m\u001B[33m(raylet)\u001B[0m     loop.run_until_complete(agent.run())\n",
      "\u001B[2m\u001B[33m(raylet)\u001B[0m   File \"C:\\Program Files\\WindowsApps\\PythonSoftwareFoundation.Python.3.10_3.10.3056.0_x64__qbz5n2kfra8p0\\lib\\asyncio\\base_events.py\", line 636, in run_until_complete\n",
      "\u001B[2m\u001B[33m(raylet)\u001B[0m     self.run_forever()\n",
      "\u001B[2m\u001B[33m(raylet)\u001B[0m   File \"C:\\Program Files\\WindowsApps\\PythonSoftwareFoundation.Python.3.10_3.10.3056.0_x64__qbz5n2kfra8p0\\lib\\asyncio\\windows_events.py\", line 321, in run_forever\n",
      "\u001B[2m\u001B[33m(raylet)\u001B[0m     super().run_forever()\n",
      "\u001B[2m\u001B[33m(raylet)\u001B[0m   File \"C:\\Program Files\\WindowsApps\\PythonSoftwareFoundation.Python.3.10_3.10.3056.0_x64__qbz5n2kfra8p0\\lib\\asyncio\\base_events.py\", line 603, in run_forever\n",
      "\u001B[2m\u001B[33m(raylet)\u001B[0m     self._run_once()\n",
      "\u001B[2m\u001B[33m(raylet)\u001B[0m   File \"C:\\Program Files\\WindowsApps\\PythonSoftwareFoundation.Python.3.10_3.10.3056.0_x64__qbz5n2kfra8p0\\lib\\asyncio\\base_events.py\", line 1909, in _run_once\n",
      "\u001B[2m\u001B[33m(raylet)\u001B[0m     handle._run()\n",
      "\u001B[2m\u001B[33m(raylet)\u001B[0m   File \"C:\\Program Files\\WindowsApps\\PythonSoftwareFoundation.Python.3.10_3.10.3056.0_x64__qbz5n2kfra8p0\\lib\\asyncio\\events.py\", line 80, in _run\n",
      "\u001B[2m\u001B[33m(raylet)\u001B[0m     self._context.run(self._callback, *self._args)\n",
      "\u001B[2m\u001B[33m(raylet)\u001B[0m   File \"D:\\FD\\venv\\lib\\site-packages\\ray\\dashboard\\agent.py\", line 304, in run\n",
      "\u001B[2m\u001B[33m(raylet)\u001B[0m     logger.exception(\n",
      "\u001B[2m\u001B[33m(raylet)\u001B[0m Message: 'Failed to start http server. Agent will stay alive but disable the http service.'\n",
      "\u001B[2m\u001B[33m(raylet)\u001B[0m Arguments: ()\n",
      "\u001B[2m\u001B[36m(launch_and_get_parameters pid=21624)\u001B[0m Windows fatal exception: code 0xc0000139\n",
      "\u001B[2m\u001B[36m(launch_and_get_parameters pid=21624)\u001B[0m \n",
      "\u001B[2m\u001B[36m(launch_and_get_parameters pid=21624)\u001B[0m Stack (most recent call first):\n",
      "\u001B[2m\u001B[36m(launch_and_get_parameters pid=21624)\u001B[0m   File \"C:\\Program Files\\WindowsApps\\PythonSoftwareFoundation.Python.3.10_3.10.3056.0_x64__qbz5n2kfra8p0\\lib\\ctypes\\__init__.py\", line 374 in __init__\n",
      "\u001B[2m\u001B[36m(launch_and_get_parameters pid=21624)\u001B[0m   File \"D:\\FD\\venv\\lib\\site-packages\\torch\\_ops.py\", line 573 in load_library\n",
      "\u001B[2m\u001B[36m(launch_and_get_parameters pid=21624)\u001B[0m   File \"D:\\FD\\venv\\lib\\site-packages\\torchvision\\extension.py\", line 36 in <module>\n",
      "\u001B[2m\u001B[36m(launch_and_get_parameters pid=21624)\u001B[0m   File \"<frozen importlib._bootstrap>\", line 241 in _call_with_frames_removed\n",
      "\u001B[2m\u001B[36m(launch_and_get_parameters pid=21624)\u001B[0m   File \"<frozen importlib._bootstrap_external>\", line 883 in exec_module\n",
      "\u001B[2m\u001B[36m(launch_and_get_parameters pid=21624)\u001B[0m   File \"<frozen importlib._bootstrap>\", line 688 in _load_unlocked\n",
      "\u001B[2m\u001B[36m(launch_and_get_parameters pid=21624)\u001B[0m   File \"<frozen importlib._bootstrap>\", line 1006 in _find_and_load_unlocked\n",
      "\u001B[2m\u001B[36m(launch_and_get_parameters pid=21624)\u001B[0m   File \"<frozen importlib._bootstrap>\", line 1027 in _find_and_load\n",
      "\u001B[2m\u001B[36m(launch_and_get_parameters pid=21624)\u001B[0m   File \"D:\\FD\\venv\\lib\\site-packages\\torchvision\\io\\_load_gpu_decoder.py\", line 1 in <module>\n",
      "\u001B[2m\u001B[36m(launch_and_get_parameters pid=21624)\u001B[0m   File \"<frozen importlib._bootstrap>\", line 241 in _call_with_frames_removed\n",
      "\u001B[2m\u001B[36m(launch_and_get_parameters pid=21624)\u001B[0m   File \"<frozen importlib._bootstrap_external>\", line 883 in exec_module\n",
      "\u001B[2m\u001B[36m(launch_and_get_parameters pid=21624)\u001B[0m   File \"<frozen importlib._bootstrap>\", line 688 in _load_unlocked\n",
      "\u001B[2m\u001B[36m(launch_and_get_parameters pid=21624)\u001B[0m   File \"<frozen importlib._bootstrap>\", line 1006 in _find_and_load_unlocked\n",
      "\u001B[2m\u001B[36m(launch_and_get_parameters pid=21624)\u001B[0m   File \"<frozen importlib._bootstrap>\", line 1027 in _find_and_load\n",
      "\u001B[2m\u001B[36m(launch_and_get_parameters pid=21624)\u001B[0m   File \"D:\\FD\\venv\\lib\\site-packages\\torchvision\\io\\__init__.py\", line 8 in <module>\n",
      "\u001B[2m\u001B[36m(launch_and_get_parameters pid=21624)\u001B[0m   File \"<frozen importlib._bootstrap>\", line 241 in _call_with_frames_removed\n",
      "\u001B[2m\u001B[36m(launch_and_get_parameters pid=21624)\u001B[0m   File \"<frozen importlib._bootstrap_external>\", line 883 in exec_module\n",
      "\u001B[2m\u001B[36m(launch_and_get_parameters pid=21624)\u001B[0m   File \"<frozen importlib._bootstrap>\", line 688 in _load_unlocked\n",
      "\u001B[2m\u001B[36m(launch_and_get_parameters pid=21624)\u001B[0m   File \"<frozen importlib._bootstrap>\", line 1006 in _find_and_load_unlocked\n",
      "\u001B[2m\u001B[36m(launch_and_get_parameters pid=21624)\u001B[0m   File \"<frozen importlib._bootstrap>\", line 1027 in _find_and_load\n",
      "\u001B[2m\u001B[36m(launch_and_get_parameters pid=21624)\u001B[0m   File \"<frozen importlib._bootstrap>\", line 241 in _call_with_frames_removed\n",
      "\u001B[2m\u001B[36m(launch_and_get_parameters pid=21624)\u001B[0m   File \"<frozen importlib._bootstrap>\", line 992 in _find_and_load_unlocked\n",
      "\u001B[2m\u001B[36m(launch_and_get_parameters pid=21624)\u001B[0m   File \"<frozen importlib._bootstrap>\", line 1027 in _find_and_load\n",
      "\u001B[2m\u001B[36m(launch_and_get_parameters pid=21624)\u001B[0m   File \"D:\\FD\\venv\\lib\\site-packages\\torchvision\\datasets\\_optical_flow.py\", line 12 in <module>\n",
      "\u001B[2m\u001B[36m(launch_and_get_parameters pid=21624)\u001B[0m   File \"<frozen importlib._bootstrap>\", line 241 in _call_with_frames_removed\n",
      "\u001B[2m\u001B[36m(launch_and_get_parameters pid=21624)\u001B[0m   File \"<frozen importlib._bootstrap_external>\", line 883 in exec_module\n",
      "\u001B[2m\u001B[36m(launch_and_get_parameters pid=21624)\u001B[0m   File \"<frozen importlib._bootstrap>\", line 688 in _load_unlocked\n",
      "\u001B[2m\u001B[36m(launch_and_get_parameters pid=21624)\u001B[0m   File \"<frozen importlib._bootstrap>\", line 1006 in _find_and_load_unlocked\n",
      "\u001B[2m\u001B[36m(launch_and_get_parameters pid=21624)\u001B[0m   File \"<frozen importlib._bootstrap>\", line 1027 in _find_and_load\n",
      "\u001B[2m\u001B[36m(launch_and_get_parameters pid=21624)\u001B[0m   File \"D:\\FD\\venv\\lib\\site-packages\\torchvision\\datasets\\__init__.py\", line 1 in <module>\n",
      "\u001B[2m\u001B[36m(launch_and_get_parameters pid=21624)\u001B[0m   File \"<frozen importlib._bootstrap>\", line 241 in _call_with_frames_removed\n",
      "\u001B[2m\u001B[36m(launch_and_get_parameters pid=21624)\u001B[0m   File \"<frozen importlib._bootstrap_external>\", line 883 in exec_module\n",
      "\u001B[2m\u001B[36m(launch_and_get_parameters pid=21624)\u001B[0m   File \"<frozen importlib._bootstrap>\", line 688 in _load_unlocked\n",
      "\u001B[2m\u001B[36m(launch_and_get_parameters pid=21624)\u001B[0m   File \"<frozen importlib._bootstrap>\", line 1006 in _find_and_load_unlocked\n",
      "\u001B[2m\u001B[36m(launch_and_get_parameters pid=21624)\u001B[0m   File \"<frozen importlib._bootstrap>\", line 1027 in _find_and_load\n",
      "\u001B[2m\u001B[36m(launch_and_get_parameters pid=21624)\u001B[0m   File \"<frozen importlib._bootstrap>\", line 241 in _call_with_frames_removed\n",
      "\u001B[2m\u001B[36m(launch_and_get_parameters pid=21624)\u001B[0m   File \"<frozen importlib._bootstrap>\", line 1078 in _handle_fromlist\n",
      "\u001B[2m\u001B[36m(launch_and_get_parameters pid=21624)\u001B[0m   File \"D:\\FD\\venv\\lib\\site-packages\\torchvision\\__init__.py\", line 6 in <module>\n",
      "\u001B[2m\u001B[36m(launch_and_get_parameters pid=21624)\u001B[0m   File \"<frozen importlib._bootstrap>\", line 241 in _call_with_frames_removed\n",
      "\u001B[2m\u001B[36m(launch_and_get_parameters pid=21624)\u001B[0m   File \"<frozen importlib._bootstrap_external>\", line 883 in exec_module\n",
      "\u001B[2m\u001B[36m(launch_and_get_parameters pid=21624)\u001B[0m   File \"<frozen importlib._bootstrap>\", line 688 in _load_unlocked\n",
      "\u001B[2m\u001B[36m(launch_and_get_parameters pid=21624)\u001B[0m   File \"<frozen importlib._bootstrap>\", line 1006 in _find_and_load_unlocked\n",
      "\u001B[2m\u001B[36m(launch_and_get_parameters pid=21624)\u001B[0m   File \"<frozen importlib._bootstrap>\", line 1027 in _find_and_load\n",
      "\u001B[2m\u001B[36m(launch_and_get_parameters pid=21624)\u001B[0m   File \"<frozen importlib._bootstrap>\", line 1050 in _gcd_import\n",
      "\u001B[2m\u001B[36m(launch_and_get_parameters pid=21624)\u001B[0m   File \"C:\\Program Files\\WindowsApps\\PythonSoftwareFoundation.Python.3.10_3.10.3056.0_x64__qbz5n2kfra8p0\\lib\\importlib\\__init__.py\", line 126 in import_module\n",
      "\u001B[2m\u001B[36m(launch_and_get_parameters pid=21624)\u001B[0m   File \"D:\\FD\\venv\\lib\\site-packages\\lightning_utilities\\core\\imports.py\", line 73 in compare_version\n",
      "\u001B[2m\u001B[36m(launch_and_get_parameters pid=21624)\u001B[0m   File \"D:\\FD\\venv\\lib\\site-packages\\torchmetrics\\utilities\\imports.py\", line 41 in <module>\n",
      "\u001B[2m\u001B[36m(launch_and_get_parameters pid=21624)\u001B[0m   File \"<frozen importlib._bootstrap>\", line 241 in _call_with_frames_removed\n",
      "\u001B[2m\u001B[36m(launch_and_get_parameters pid=21624)\u001B[0m   File \"<frozen importlib._bootstrap_external>\", line 883 in exec_module\n",
      "\u001B[2m\u001B[36m(launch_and_get_parameters pid=21624)\u001B[0m   File \"<frozen importlib._bootstrap>\", line 688 in _load_unlocked\n",
      "\u001B[2m\u001B[36m(launch_and_get_parameters pid=21624)\u001B[0m   File \"<frozen importlib._bootstrap>\", line 1006 in _find_and_load_unlocked\n",
      "\u001B[2m\u001B[36m(launch_and_get_parameters pid=21624)\u001B[0m   File \"<frozen importlib._bootstrap>\", line 1027 in _find_and_load\n",
      "\u001B[2m\u001B[36m(launch_and_get_parameters pid=21624)\u001B[0m   File \"D:\\FD\\venv\\lib\\site-packages\\torchmetrics\\utilities\\data.py\", line 22 in <module>\n",
      "\u001B[2m\u001B[36m(launch_and_get_parameters pid=21624)\u001B[0m   File \"<frozen importlib._bootstrap>\", line 241 in _call_with_frames_removed\n",
      "\u001B[2m\u001B[36m(launch_and_get_parameters pid=21624)\u001B[0m   File \"<frozen importlib._bootstrap_external>\", line 883 in exec_module\n",
      "\u001B[2m\u001B[36m(launch_and_get_parameters pid=21624)\u001B[0m   File \"<frozen importlib._bootstrap>\", line 688 in _load_unlocked\n",
      "\u001B[2m\u001B[36m(launch_and_get_parameters pid=21624)\u001B[0m   File \"<frozen importlib._bootstrap>\", line 1006 in _find_and_load_unlocked\n",
      "\u001B[2m\u001B[36m(launch_and_get_parameters pid=21624)\u001B[0m   File \"<frozen importlib._bootstrap>\", line 1027 in _find_and_load\n",
      "\u001B[2m\u001B[36m(launch_and_get_parameters pid=21624)\u001B[0m   File \"D:\\FD\\venv\\lib\\site-packages\\torchmetrics\\metric.py\", line 30 in <module>\n",
      "\u001B[2m\u001B[36m(launch_and_get_parameters pid=21624)\u001B[0m   File \"<frozen importlib._bootstrap>\", line 241 in _call_with_frames_removed\n",
      "\u001B[2m\u001B[36m(launch_and_get_parameters pid=21624)\u001B[0m   File \"<frozen importlib._bootstrap_external>\", line 883 in exec_module\n",
      "\u001B[2m\u001B[36m(launch_and_get_parameters pid=21624)\u001B[0m   File \"<frozen importlib._bootstrap>\", line 688 in _load_unlocked\n",
      "\u001B[2m\u001B[36m(launch_and_get_parameters pid=21624)\u001B[0m   File \"<frozen importlib._bootstrap>\", line 1006 in _find_and_load_unlocked\n",
      "\u001B[2m\u001B[36m(launch_and_get_parameters pid=21624)\u001B[0m   File \"<frozen importlib._bootstrap>\", line 1027 in _find_and_load\n",
      "\u001B[2m\u001B[36m(launch_and_get_parameters pid=21624)\u001B[0m   File \"D:\\FD\\venv\\lib\\site-packages\\torchmetrics\\utilities\\checks.py\", line 25 in <module>\n",
      "\u001B[2m\u001B[36m(launch_and_get_parameters pid=21624)\u001B[0m   File \"<frozen importlib._bootstrap>\", line 241 in _call_with_frames_removed\n",
      "\u001B[2m\u001B[36m(launch_and_get_parameters pid=21624)\u001B[0m   File \"<frozen importlib._bootstrap_external>\", line 883 in exec_module\n",
      "\u001B[2m\u001B[36m(launch_and_get_parameters pid=21624)\u001B[0m   File \"<frozen importlib._bootstrap>\", line 688 in _load_unlocked\n",
      "\u001B[2m\u001B[36m(launch_and_get_parameters pid=21624)\u001B[0m   File \"<frozen importlib._bootstrap>\", line 1006 in _find_and_load_unlocked\n",
      "\u001B[2m\u001B[36m(launch_and_get_parameters pid=21624)\u001B[0m   File \"<frozen importlib._bootstrap>\", line 1027 in _find_and_load\n",
      "\u001B[2m\u001B[36m(launch_and_get_parameters pid=21624)\u001B[0m   File \"D:\\FD\\venv\\lib\\site-packages\\torchmetrics\\utilities\\__init__.py\", line 14 in <module>\n",
      "\u001B[2m\u001B[36m(launch_and_get_parameters pid=21624)\u001B[0m   File \"<frozen importlib._bootstrap>\", line 241 in _call_with_frames_removed\n",
      "\u001B[2m\u001B[36m(launch_and_get_parameters pid=21624)\u001B[0m   File \"<frozen importlib._bootstrap_external>\", line 883 in exec_module\n",
      "\u001B[2m\u001B[36m(launch_and_get_parameters pid=21624)\u001B[0m   File \"<frozen importlib._bootstrap>\", line 688 in _load_unlocked\n",
      "\u001B[2m\u001B[36m(launch_and_get_parameters pid=21624)\u001B[0m   File \"<frozen importlib._bootstrap>\", line 1006 in _find_and_load_unlocked\n",
      "\u001B[2m\u001B[36m(launch_and_get_parameters pid=21624)\u001B[0m   File \"<frozen importlib._bootstrap>\", line 1027 in _find_and_load\n",
      "\u001B[2m\u001B[36m(launch_and_get_parameters pid=21624)\u001B[0m   File \"D:\\FD\\venv\\lib\\site-packages\\torchmetrics\\functional\\audio\\pit.py\", line 23 in <module>\n",
      "\u001B[2m\u001B[36m(launch_and_get_parameters pid=21624)\u001B[0m   File \"<frozen importlib._bootstrap>\", line 241 in _call_with_frames_removed\n",
      "\u001B[2m\u001B[36m(launch_and_get_parameters pid=21624)\u001B[0m   File \"<frozen importlib._bootstrap_external>\", line 883 in exec_module\n",
      "\u001B[2m\u001B[36m(launch_and_get_parameters pid=21624)\u001B[0m   File \"<frozen importlib._bootstrap>\", line 688 in _load_unlocked\n",
      "\u001B[2m\u001B[36m(launch_and_get_parameters pid=21624)\u001B[0m   File \"<frozen importlib._bootstrap>\", line 1006 in _find_and_load_unlocked\n",
      "\u001B[2m\u001B[36m(launch_and_get_parameters pid=21624)\u001B[0m   File \"<frozen importlib._bootstrap>\", line 1027 in _find_and_load\n",
      "\u001B[2m\u001B[36m(launch_and_get_parameters pid=21624)\u001B[0m   File \"D:\\FD\\venv\\lib\\site-packages\\torchmetrics\\functional\\audio\\__init__.py\", line 14 in <module>\n",
      "\u001B[2m\u001B[36m(launch_and_get_parameters pid=21624)\u001B[0m   File \"<frozen importlib._bootstrap>\", line 241 in _call_with_frames_removed\n",
      "\u001B[2m\u001B[36m(launch_and_get_parameters pid=21624)\u001B[0m   File \"<frozen importlib._bootstrap_external>\", line 883 in exec_module\n",
      "\u001B[2m\u001B[36m(launch_and_get_parameters pid=21624)\u001B[0m   File \"<frozen importlib._bootstrap>\", line 688 in _load_unlocked\n",
      "\u001B[2m\u001B[36m(launch_and_get_parameters pid=21624)\u001B[0m   File \"<frozen importlib._bootstrap>\", line 1006 in _find_and_load_unlocked\n",
      "\u001B[2m\u001B[36m(launch_and_get_parameters pid=21624)\u001B[0m   File \"<frozen importlib._bootstrap>\", line 1027 in _find_and_load\n",
      "\u001B[2m\u001B[36m(launch_and_get_parameters pid=21624)\u001B[0m   File \"<frozen importlib._bootstrap>\", line 241 in _call_with_frames_removed\n",
      "\u001B[2m\u001B[36m(launch_and_get_parameters pid=21624)\u001B[0m   File \"<frozen importlib._bootstrap>\", line 992 in _find_and_load_unlocked\n",
      "\u001B[2m\u001B[36m(launch_and_get_parameters pid=21624)\u001B[0m   File \"<frozen importlib._bootstrap>\", line 1027 in _find_and_load\n",
      "\u001B[2m\u001B[36m(launch_and_get_parameters pid=21624)\u001B[0m   File \"D:\\FD\\venv\\lib\\site-packages\\torchmetrics\\functional\\__init__.py\", line 14 in <module>\n",
      "\u001B[2m\u001B[36m(launch_and_get_parameters pid=21624)\u001B[0m   File \"<frozen importlib._bootstrap>\", line 241 in _call_with_frames_removed\n",
      "\u001B[2m\u001B[36m(launch_and_get_parameters pid=21624)\u001B[0m   File \"<frozen importlib._bootstrap_external>\", line 883 in exec_module\n",
      "\u001B[2m\u001B[36m(launch_and_get_parameters pid=21624)\u001B[0m   File \"<frozen importlib._bootstrap>\", line 688 in _load_unlocked\n",
      "\u001B[2m\u001B[36m(launch_and_get_parameters pid=21624)\u001B[0m   File \"<frozen importlib._bootstrap>\", line 1006 in _find_and_load_unlocked\n",
      "\u001B[2m\u001B[36m(launch_and_get_parameters pid=21624)\u001B[0m   File \"<frozen importlib._bootstrap>\", line 1027 in _find_and_load\n",
      "\u001B[2m\u001B[36m(launch_and_get_parameters pid=21624)\u001B[0m   File \"<frozen importlib._bootstrap>\", line 241 in _call_with_frames_removed\n",
      "\u001B[2m\u001B[36m(launch_and_get_parameters pid=21624)\u001B[0m   File \"<frozen importlib._bootstrap>\", line 1078 in _handle_fromlist\n",
      "\u001B[2m\u001B[36m(launch_and_get_parameters pid=21624)\u001B[0m   File \"D:\\FD\\venv\\lib\\site-packages\\torchmetrics\\__init__.py\", line 14 in <module>\n",
      "\u001B[2m\u001B[36m(launch_and_get_parameters pid=21624)\u001B[0m   ...\n",
      "\u001B[2m\u001B[36m(launch_and_get_parameters pid=21624)\u001B[0m Windows fatal exception: code 0xc0000139\n",
      "\u001B[2m\u001B[36m(launch_and_get_parameters pid=21624)\u001B[0m \n",
      "\u001B[2m\u001B[36m(launch_and_get_parameters pid=21624)\u001B[0m D:\\FD\\venv\\lib\\site-packages\\torchvision\\io\\image.py:13: UserWarning: Failed to load image Python extension: '[WinError 127] 找不到指定的程序。'If you don't plan on using image functionality from `torchvision.io`, you can ignore this warning. Otherwise, there might be something wrong with your environment. Did you have `libjpeg` or `libpng` installed before building `torchvision` from source?\n",
      "\u001B[2m\u001B[36m(launch_and_get_parameters pid=21624)\u001B[0m   warn(\n"
     ]
    },
    {
     "name": "stdout",
     "output_type": "stream",
     "text": [
      "\u001B[2m\u001B[36m(launch_and_get_parameters pid=21624)\u001B[0m binary client\n"
     ]
    },
    {
     "name": "stderr",
     "output_type": "stream",
     "text": [
      "INFO flwr 2023-09-03 12:45:25,669 | fl_server.py:292 | Received initial parameters from one random client\n",
      "INFO flwr 2023-09-03 12:45:25,670 | fl_server.py:84 | Evaluating initial parameters\n"
     ]
    },
    {
     "name": "stdout",
     "output_type": "stream",
     "text": [
      "serverside task_type binary\n"
     ]
    },
    {
     "name": "stderr",
     "output_type": "stream",
     "text": [
      "INFO flwr 2023-09-03 12:45:43,982 | fl_server.py:87 | initial parameters (loss, other metrics): 0.23493896, {'auc': 0.75662566312636}\n",
      "INFO flwr 2023-09-03 12:45:43,983 | fl_server.py:97 | FL starting\n",
      "DEBUG flwr 2023-09-03 12:45:43,984 | fl_server.py:226 | fit_round 1: strategy sampled 2 clients (out of 3)\n"
     ]
    },
    {
     "name": "stdout",
     "output_type": "stream",
     "text": [
      "testset mse 0.23493896424770355 and auc 0.75662566312636\n",
      "Evaluation on the server: test_mse=0.2349, test_auc=0.7566\n",
      "Configuring round 1\n",
      "\u001B[2m\u001B[36m(launch_and_fit pid=21624)\u001B[0m binary client\n"
     ]
    },
    {
     "name": "stderr",
     "output_type": "stream",
     "text": [
      "\u001B[2m\u001B[36m(launch_and_fit pid=18052)\u001B[0m Windows fatal exception: code 0xc0000139\u001B[32m [repeated 2x across cluster]\u001B[0m\n",
      "\u001B[2m\u001B[36m(launch_and_fit pid=18052)\u001B[0m \u001B[32m [repeated 2x across cluster]\u001B[0m\n",
      "\u001B[2m\u001B[36m(launch_and_fit pid=18052)\u001B[0m   warn(\n",
      "\u001B[2m\u001B[36m(launch_and_fit pid=18052)\u001B[0m   warn(\n",
      "\u001B[2m\u001B[36m(launch_and_fit pid=18052)\u001B[0m   warn(\n",
      "\u001B[2m\u001B[36m(launch_and_fit pid=18052)\u001B[0m   warn(\n",
      "\u001B[2m\u001B[36m(launch_and_fit pid=18052)\u001B[0m   File \"<frozen importlib._bootstrap>\", line 241 in _call_with_frames_removed\u001B[32m [repeated 18x across cluster]\u001B[0m\n",
      "\u001B[2m\u001B[36m(launch_and_fit pid=18052)\u001B[0m   File \"<frozen importlib._bootstrap_external>\", line 883 in exec_module\u001B[32m [repeated 14x across cluster]\u001B[0m\n",
      "\u001B[2m\u001B[36m(launch_and_fit pid=18052)\u001B[0m   File \"<frozen importlib._bootstrap>\", line 688 in _load_unlocked\u001B[32m [repeated 14x across cluster]\u001B[0m\n",
      "\u001B[2m\u001B[36m(launch_and_fit pid=18052)\u001B[0m   File \"<frozen importlib._bootstrap>\", line 1006 in _find_and_load_unlocked\u001B[32m [repeated 16x across cluster]\u001B[0m\n",
      "\u001B[2m\u001B[36m(launch_and_fit pid=18052)\u001B[0m   File \"<frozen importlib._bootstrap>\", line 1027 in _find_and_load\u001B[32m [repeated 16x across cluster]\u001B[0m\n",
      "\u001B[2m\u001B[36m(launch_and_fit pid=18052)\u001B[0m   warn(\n",
      "\u001B[2m\u001B[36m(launch_and_fit pid=18052)\u001B[0m   warn(\n",
      "\u001B[2m\u001B[36m(launch_and_fit pid=18052)\u001B[0m   warn(\n",
      "\u001B[2m\u001B[36m(launch_and_fit pid=18052)\u001B[0m   warn(\n",
      "\u001B[2m\u001B[36m(launch_and_fit pid=18052)\u001B[0m   File \"<frozen importlib._bootstrap>\", line 1078 in _handle_fromlist\u001B[32m [repeated 2x across cluster]\u001B[0m\n",
      "\u001B[2m\u001B[36m(launch_and_fit pid=18052)\u001B[0m   warn(\n",
      "\u001B[2m\u001B[36m(launch_and_fit pid=18052)\u001B[0m   warn(\n",
      "\u001B[2m\u001B[36m(launch_and_fit pid=18052)\u001B[0m   warn(\n",
      "\u001B[2m\u001B[36m(launch_and_fit pid=18052)\u001B[0m   warn(\n",
      "\u001B[2m\u001B[36m(launch_and_fit pid=18052)\u001B[0m   warn(\n",
      "\u001B[2m\u001B[36m(launch_and_fit pid=18052)\u001B[0m   warn(\n",
      "\u001B[2m\u001B[36m(launch_and_fit pid=18052)\u001B[0m   warn(\n",
      "\u001B[2m\u001B[36m(launch_and_fit pid=18052)\u001B[0m   warn(\n",
      "\u001B[2m\u001B[36m(launch_and_fit pid=18052)\u001B[0m   warn(\n",
      "\u001B[2m\u001B[36m(launch_and_fit pid=18052)\u001B[0m   warn(\n",
      "\u001B[2m\u001B[36m(launch_and_fit pid=18052)\u001B[0m   warn(\n",
      "\u001B[2m\u001B[36m(launch_and_fit pid=18052)\u001B[0m   warn(\n",
      "\u001B[2m\u001B[36m(launch_and_fit pid=18052)\u001B[0m   warn(\n",
      "\u001B[2m\u001B[36m(launch_and_fit pid=18052)\u001B[0m   warn(\n",
      "\u001B[2m\u001B[36m(launch_and_fit pid=18052)\u001B[0m   warn(\n",
      "\u001B[2m\u001B[36m(launch_and_fit pid=18052)\u001B[0m   warn(\n"
     ]
    },
    {
     "name": "stdout",
     "output_type": "stream",
     "text": [
      "\u001B[2m\u001B[36m(launch_and_fit pid=21624)\u001B[0m Client 2 aggregated_trees length 2\n",
      "\u001B[2m\u001B[36m(launch_and_fit pid=21624)\u001B[0m Client 2: only had its own tree\n",
      "\u001B[2m\u001B[36m(launch_and_fit pid=18052)\u001B[0m binary client\n"
     ]
    },
    {
     "name": "stderr",
     "output_type": "stream",
     "text": [
      "\u001B[2m\u001B[36m(launch_and_fit pid=21624)\u001B[0m D:\\FD\\clients\\xgb_client.py:238: UserWarning: To copy construct from a tensor, it is recommended to use sourceTensor.clone().detach() or sourceTensor.clone().detach().requires_grad_(True), rather than torch.tensor(sourceTensor).\n",
      "\u001B[2m\u001B[36m(launch_and_fit pid=21624)\u001B[0m   y_test = torch.cat((torch.tensor(y_test), torch.tensor(labels)), dim=0)\n",
      "\u001B[2m\u001B[36m(launch_and_fit pid=21624)\u001B[0m D:\\FD\\clients\\xgb_client.py:239: UserWarning: To copy construct from a tensor, it is recommended to use sourceTensor.clone().detach() or sourceTensor.clone().detach().requires_grad_(True), rather than torch.tensor(sourceTensor).\n",
      "\u001B[2m\u001B[36m(launch_and_fit pid=21624)\u001B[0m   y_pred = torch.cat((torch.tensor(y_pred), torch.tensor(outputs)), dim=0)\n"
     ]
    },
    {
     "name": "stdout",
     "output_type": "stream",
     "text": [
      "\u001B[2m\u001B[36m(launch_and_fit pid=21624)\u001B[0m Client 2: training for 2 iterations/updates\n",
      "\u001B[2m\u001B[36m(launch_and_fit pid=18052)\u001B[0m Client 2: training for 2 iterations/updates\n",
      "\u001B[2m\u001B[36m(launch_and_fit pid=18052)\u001B[0m Client 2: training for 2 iterations/updates\n"
     ]
    },
    {
     "name": "stderr",
     "output_type": "stream",
     "text": [
      "DEBUG flwr 2023-09-03 12:46:20,184 | fl_server.py:241 | fit_round 1 received 2 results and 0 failures\n",
      "WARNING flwr 2023-09-03 12:46:20,188 | fedxgb_nn_avg.py:88 | No fit_metrics_aggregation_fn provided\n"
     ]
    },
    {
     "name": "stdout",
     "output_type": "stream",
     "text": [
      "Server side aggregated 2 trees.\n",
      "serverside task_type binary\n"
     ]
    },
    {
     "name": "stderr",
     "output_type": "stream",
     "text": [
      "INFO flwr 2023-09-03 12:46:37,925 | fl_server.py:112 | fit progress: (1, 0.17962377, {'auc': 0.8563512416953611}, 53.94110189999628)\n",
      "INFO flwr 2023-09-03 12:46:37,926 | fl_server.py:159 | evaluate_round 1: no clients selected, cancel\n",
      "DEBUG flwr 2023-09-03 12:46:37,927 | fl_server.py:226 | fit_round 2: strategy sampled 2 clients (out of 3)\n"
     ]
    },
    {
     "name": "stdout",
     "output_type": "stream",
     "text": [
      "testset mse 0.1796237677335739 and auc 0.8563512416953611\n",
      "Evaluation on the server: test_mse=0.1796, test_auc=0.8564\n",
      "Configuring round 2\n",
      "\u001B[2m\u001B[36m(launch_and_fit pid=21624)\u001B[0m binary client\n",
      "\u001B[2m\u001B[36m(launch_and_fit pid=18052)\u001B[0m binary client\n",
      "\u001B[2m\u001B[36m(launch_and_fit pid=18052)\u001B[0m Client 1 aggregated_trees length 2\n",
      "\u001B[2m\u001B[36m(launch_and_fit pid=18052)\u001B[0m Client 1: recieved 2 trees\n",
      "\u001B[2m\u001B[36m(launch_and_fit pid=18052)\u001B[0m Client 1: training for 2 iterations/updates\n",
      "\u001B[2m\u001B[36m(launch_and_fit pid=18052)\u001B[0m Client 1: training for 2 iterations/updates\n",
      "\u001B[2m\u001B[36m(launch_and_fit pid=21624)\u001B[0m Client 1: training for 2 iterations/updates\n",
      "\u001B[2m\u001B[36m(launch_and_fit pid=21624)\u001B[0m Client 1: training for 2 iterations/updates\n"
     ]
    },
    {
     "name": "stderr",
     "output_type": "stream",
     "text": [
      "DEBUG flwr 2023-09-03 12:47:11,377 | fl_server.py:241 | fit_round 2 received 2 results and 0 failures\n"
     ]
    },
    {
     "name": "stdout",
     "output_type": "stream",
     "text": [
      "Server side aggregated 2 trees.\n",
      "serverside task_type binary\n"
     ]
    },
    {
     "name": "stderr",
     "output_type": "stream",
     "text": [
      "INFO flwr 2023-09-03 12:47:29,360 | fl_server.py:112 | fit progress: (2, 0.13599643, {'auc': 0.8588570307509992}, 105.3757678999973)\n",
      "INFO flwr 2023-09-03 12:47:29,361 | fl_server.py:159 | evaluate_round 2: no clients selected, cancel\n",
      "DEBUG flwr 2023-09-03 12:47:29,362 | fl_server.py:226 | fit_round 3: strategy sampled 2 clients (out of 3)\n"
     ]
    },
    {
     "name": "stdout",
     "output_type": "stream",
     "text": [
      "testset mse 0.13599643111228943 and auc 0.8588570307509992\n",
      "Evaluation on the server: test_mse=0.1360, test_auc=0.8589\n",
      "Configuring round 3\n",
      "\u001B[2m\u001B[36m(launch_and_fit pid=21624)\u001B[0m binary client\n",
      "\u001B[2m\u001B[36m(launch_and_fit pid=21624)\u001B[0m binary client\n",
      "\u001B[2m\u001B[36m(launch_and_fit pid=21624)\u001B[0m Client 2 aggregated_trees length 2\n",
      "\u001B[2m\u001B[36m(launch_and_fit pid=21624)\u001B[0m Client 2: recieved 2 trees\n",
      "\u001B[2m\u001B[36m(launch_and_fit pid=21624)\u001B[0m Client 2: training for 2 iterations/updates\n",
      "\u001B[2m\u001B[36m(launch_and_fit pid=18052)\u001B[0m Client 2: training for 2 iterations/updates\n",
      "\u001B[2m\u001B[36m(launch_and_fit pid=18052)\u001B[0m Client 2: training for 2 iterations/updates\n",
      "\u001B[2m\u001B[36m(launch_and_fit pid=18052)\u001B[0m Client 2: training for 2 iterations/updates\n"
     ]
    },
    {
     "name": "stderr",
     "output_type": "stream",
     "text": [
      "DEBUG flwr 2023-09-03 12:48:02,813 | fl_server.py:241 | fit_round 3 received 2 results and 0 failures\n"
     ]
    },
    {
     "name": "stdout",
     "output_type": "stream",
     "text": [
      "Server side aggregated 2 trees.\n",
      "serverside task_type binary\n"
     ]
    },
    {
     "name": "stderr",
     "output_type": "stream",
     "text": [
      "INFO flwr 2023-09-03 12:48:20,657 | fl_server.py:112 | fit progress: (3, 0.10063647, {'auc': 0.8604305056538608}, 156.67359959999158)\n",
      "INFO flwr 2023-09-03 12:48:20,658 | fl_server.py:159 | evaluate_round 3: no clients selected, cancel\n",
      "DEBUG flwr 2023-09-03 12:48:20,659 | fl_server.py:226 | fit_round 4: strategy sampled 2 clients (out of 3)\n"
     ]
    },
    {
     "name": "stdout",
     "output_type": "stream",
     "text": [
      "testset mse 0.10063646733760834 and auc 0.8604305056538608\n",
      "Evaluation on the server: test_mse=0.1006, test_auc=0.8604\n",
      "Configuring round 4\n",
      "\u001B[2m\u001B[36m(launch_and_fit pid=21624)\u001B[0m binary client\n",
      "\u001B[2m\u001B[36m(launch_and_fit pid=18052)\u001B[0m binary client\n",
      "\u001B[2m\u001B[36m(launch_and_fit pid=18052)\u001B[0m Client 2 aggregated_trees length 2\n",
      "\u001B[2m\u001B[36m(launch_and_fit pid=18052)\u001B[0m Client 2: recieved 2 trees\n",
      "\u001B[2m\u001B[36m(launch_and_fit pid=18052)\u001B[0m Client 0: recieved 2 trees\n",
      "\u001B[2m\u001B[36m(launch_and_fit pid=18052)\u001B[0m Client 2: training for 2 iterations/updates\n",
      "\u001B[2m\u001B[36m(launch_and_fit pid=21624)\u001B[0m Client 2: training for 2 iterations/updates\n",
      "\u001B[2m\u001B[36m(launch_and_fit pid=21624)\u001B[0m Client 2: training for 2 iterations/updates\n"
     ]
    },
    {
     "name": "stderr",
     "output_type": "stream",
     "text": [
      "DEBUG flwr 2023-09-03 12:48:54,197 | fl_server.py:241 | fit_round 4 received 2 results and 0 failures\n"
     ]
    },
    {
     "name": "stdout",
     "output_type": "stream",
     "text": [
      "Server side aggregated 2 trees.\n",
      "serverside task_type binary\n"
     ]
    },
    {
     "name": "stderr",
     "output_type": "stream",
     "text": [
      "INFO flwr 2023-09-03 12:49:12,145 | fl_server.py:112 | fit progress: (4, 0.0751986, {'auc': 0.8594067764556583}, 208.16096870000183)\n",
      "INFO flwr 2023-09-03 12:49:12,146 | fl_server.py:159 | evaluate_round 4: no clients selected, cancel\n",
      "DEBUG flwr 2023-09-03 12:49:12,147 | fl_server.py:226 | fit_round 5: strategy sampled 2 clients (out of 3)\n"
     ]
    },
    {
     "name": "stdout",
     "output_type": "stream",
     "text": [
      "testset mse 0.07519859820604324 and auc 0.8594067764556583\n",
      "Evaluation on the server: test_mse=0.0752, test_auc=0.8594\n",
      "Configuring round 5\n",
      "\u001B[2m\u001B[36m(launch_and_fit pid=21624)\u001B[0m binary client\n",
      "\u001B[2m\u001B[36m(launch_and_fit pid=21624)\u001B[0m binary client\n",
      "\u001B[2m\u001B[36m(launch_and_fit pid=18052)\u001B[0m Client 1 aggregated_trees length 2\n",
      "\u001B[2m\u001B[36m(launch_and_fit pid=18052)\u001B[0m Client 1: recieved 2 trees\n",
      "\u001B[2m\u001B[36m(launch_and_fit pid=18052)\u001B[0m Client 1: training for 2 iterations/updates\n",
      "\u001B[2m\u001B[36m(launch_and_fit pid=18052)\u001B[0m Client 1: training for 2 iterations/updates\n",
      "\u001B[2m\u001B[36m(launch_and_fit pid=21624)\u001B[0m Client 1: training for 2 iterations/updates\n",
      "\u001B[2m\u001B[36m(launch_and_fit pid=21624)\u001B[0m Client 1: training for 2 iterations/updates\n"
     ]
    },
    {
     "name": "stderr",
     "output_type": "stream",
     "text": [
      "DEBUG flwr 2023-09-03 12:49:45,093 | fl_server.py:241 | fit_round 5 received 2 results and 0 failures\n"
     ]
    },
    {
     "name": "stdout",
     "output_type": "stream",
     "text": [
      "Server side aggregated 2 trees.\n",
      "serverside task_type binary\n"
     ]
    },
    {
     "name": "stderr",
     "output_type": "stream",
     "text": [
      "INFO flwr 2023-09-03 12:50:03,134 | fl_server.py:112 | fit progress: (5, 0.060090844, {'auc': 0.8587757571039114}, 259.1508948999981)\n",
      "INFO flwr 2023-09-03 12:50:03,135 | fl_server.py:159 | evaluate_round 5: no clients selected, cancel\n",
      "DEBUG flwr 2023-09-03 12:50:03,136 | fl_server.py:226 | fit_round 6: strategy sampled 2 clients (out of 3)\n"
     ]
    },
    {
     "name": "stdout",
     "output_type": "stream",
     "text": [
      "testset mse 0.060090843588113785 and auc 0.8587757571039114\n",
      "Evaluation on the server: test_mse=0.0601, test_auc=0.8588\n",
      "Configuring round 6\n",
      "\u001B[2m\u001B[36m(launch_and_fit pid=21624)\u001B[0m binary client\n",
      "\u001B[2m\u001B[36m(launch_and_fit pid=21624)\u001B[0m binary client\n",
      "\u001B[2m\u001B[36m(launch_and_fit pid=18052)\u001B[0m Client 1 aggregated_trees length 2\n",
      "\u001B[2m\u001B[36m(launch_and_fit pid=18052)\u001B[0m Client 1: recieved 2 trees\n",
      "\u001B[2m\u001B[36m(launch_and_fit pid=18052)\u001B[0m Client 0: recieved 2 trees\n",
      "\u001B[2m\u001B[36m(launch_and_fit pid=18052)\u001B[0m Client 1: training for 2 iterations/updates\n",
      "\u001B[2m\u001B[36m(launch_and_fit pid=21624)\u001B[0m Client 1: training for 2 iterations/updates\n",
      "\u001B[2m\u001B[36m(launch_and_fit pid=21624)\u001B[0m Client 1: training for 2 iterations/updates\n"
     ]
    },
    {
     "name": "stderr",
     "output_type": "stream",
     "text": [
      "DEBUG flwr 2023-09-03 12:50:36,844 | fl_server.py:241 | fit_round 6 received 2 results and 0 failures\n"
     ]
    },
    {
     "name": "stdout",
     "output_type": "stream",
     "text": [
      "Server side aggregated 2 trees.\n",
      "serverside task_type binary\n"
     ]
    },
    {
     "name": "stderr",
     "output_type": "stream",
     "text": [
      "INFO flwr 2023-09-03 12:50:54,679 | fl_server.py:112 | fit progress: (6, 0.05347, {'auc': 0.8609848189944704}, 310.6957010000042)\n",
      "INFO flwr 2023-09-03 12:50:54,680 | fl_server.py:159 | evaluate_round 6: no clients selected, cancel\n",
      "DEBUG flwr 2023-09-03 12:50:54,681 | fl_server.py:226 | fit_round 7: strategy sampled 2 clients (out of 3)\n"
     ]
    },
    {
     "name": "stdout",
     "output_type": "stream",
     "text": [
      "testset mse 0.05347000062465668 and auc 0.8609848189944704\n",
      "Evaluation on the server: test_mse=0.0535, test_auc=0.8610\n",
      "Configuring round 7\n",
      "\u001B[2m\u001B[36m(launch_and_fit pid=21624)\u001B[0m binary client\n",
      "\u001B[2m\u001B[36m(launch_and_fit pid=21624)\u001B[0m binary client\n",
      "\u001B[2m\u001B[36m(launch_and_fit pid=21624)\u001B[0m Client 2 aggregated_trees length 2\n",
      "\u001B[2m\u001B[36m(launch_and_fit pid=21624)\u001B[0m Client 2: recieved 2 trees\n"
     ]
    },
    {
     "name": "stderr",
     "output_type": "stream",
     "text": [
      "DEBUG flwr 2023-09-03 12:51:27,029 | fl_server.py:241 | fit_round 7 received 2 results and 0 failures\n"
     ]
    },
    {
     "name": "stdout",
     "output_type": "stream",
     "text": [
      "\u001B[2m\u001B[36m(launch_and_fit pid=21624)\u001B[0m Client 2: training for 2 iterations/updates\n",
      "\u001B[2m\u001B[36m(launch_and_fit pid=18052)\u001B[0m Client 2: training for 2 iterations/updates\n",
      "\u001B[2m\u001B[36m(launch_and_fit pid=18052)\u001B[0m Client 2: training for 2 iterations/updates\n",
      "\u001B[2m\u001B[36m(launch_and_fit pid=18052)\u001B[0m Client 2: training for 2 iterations/updates\n",
      "Server side aggregated 2 trees.\n",
      "serverside task_type binary\n"
     ]
    },
    {
     "name": "stderr",
     "output_type": "stream",
     "text": [
      "INFO flwr 2023-09-03 12:51:45,020 | fl_server.py:112 | fit progress: (7, 0.051637452, {'auc': 0.8607541578308584}, 361.0364355999918)\n",
      "INFO flwr 2023-09-03 12:51:45,021 | fl_server.py:159 | evaluate_round 7: no clients selected, cancel\n",
      "DEBUG flwr 2023-09-03 12:51:45,021 | fl_server.py:226 | fit_round 8: strategy sampled 2 clients (out of 3)\n"
     ]
    },
    {
     "name": "stdout",
     "output_type": "stream",
     "text": [
      "testset mse 0.051637452095746994 and auc 0.8607541578308584\n",
      "Evaluation on the server: test_mse=0.0516, test_auc=0.8608\n",
      "Configuring round 8\n",
      "\u001B[2m\u001B[36m(launch_and_fit pid=21624)\u001B[0m binary client\n",
      "\u001B[2m\u001B[36m(launch_and_fit pid=18052)\u001B[0m binary client\n",
      "\u001B[2m\u001B[36m(launch_and_fit pid=21624)\u001B[0m Client 2 aggregated_trees length 2\n",
      "\u001B[2m\u001B[36m(launch_and_fit pid=21624)\u001B[0m Client 2: recieved 2 trees\n"
     ]
    },
    {
     "name": "stderr",
     "output_type": "stream",
     "text": [
      "DEBUG flwr 2023-09-03 12:52:17,001 | fl_server.py:241 | fit_round 8 received 2 results and 0 failures\n"
     ]
    },
    {
     "name": "stdout",
     "output_type": "stream",
     "text": [
      "\u001B[2m\u001B[36m(launch_and_fit pid=18052)\u001B[0m Client 1: training for 2 iterations/updates\n",
      "\u001B[2m\u001B[36m(launch_and_fit pid=18052)\u001B[0m Client 1: training for 2 iterations/updates\n",
      "\u001B[2m\u001B[36m(launch_and_fit pid=18052)\u001B[0m Client 1: training for 2 iterations/updates\n",
      "\u001B[2m\u001B[36m(launch_and_fit pid=18052)\u001B[0m Client 1: training for 2 iterations/updates\n",
      "Server side aggregated 2 trees.\n",
      "serverside task_type binary\n"
     ]
    },
    {
     "name": "stderr",
     "output_type": "stream",
     "text": [
      "INFO flwr 2023-09-03 12:52:34,715 | fl_server.py:112 | fit progress: (8, 0.051715244, {'auc': 0.8590767135615373}, 410.73222520000127)\n",
      "INFO flwr 2023-09-03 12:52:34,717 | fl_server.py:159 | evaluate_round 8: no clients selected, cancel\n",
      "DEBUG flwr 2023-09-03 12:52:34,717 | fl_server.py:226 | fit_round 9: strategy sampled 2 clients (out of 3)\n"
     ]
    },
    {
     "name": "stdout",
     "output_type": "stream",
     "text": [
      "testset mse 0.051715243607759476 and auc 0.8590767135615373\n",
      "Evaluation on the server: test_mse=0.0517, test_auc=0.8591\n",
      "Configuring round 9\n",
      "\u001B[2m\u001B[36m(launch_and_fit pid=21624)\u001B[0m binary client\n",
      "\u001B[2m\u001B[36m(launch_and_fit pid=21624)\u001B[0m binary client\n",
      "\u001B[2m\u001B[36m(launch_and_fit pid=18052)\u001B[0m Client 2 aggregated_trees length 2\n",
      "\u001B[2m\u001B[36m(launch_and_fit pid=18052)\u001B[0m Client 2: recieved 2 trees\n",
      "\u001B[2m\u001B[36m(launch_and_fit pid=18052)\u001B[0m Client 2: training for 2 iterations/updates\n",
      "\u001B[2m\u001B[36m(launch_and_fit pid=18052)\u001B[0m Client 2: training for 2 iterations/updates\n",
      "\u001B[2m\u001B[36m(launch_and_fit pid=21624)\u001B[0m Client 2: training for 2 iterations/updates\n",
      "\u001B[2m\u001B[36m(launch_and_fit pid=21624)\u001B[0m Client 2: training for 2 iterations/updates\n"
     ]
    },
    {
     "name": "stderr",
     "output_type": "stream",
     "text": [
      "DEBUG flwr 2023-09-03 12:53:07,744 | fl_server.py:241 | fit_round 9 received 2 results and 0 failures\n"
     ]
    },
    {
     "name": "stdout",
     "output_type": "stream",
     "text": [
      "Server side aggregated 2 trees.\n",
      "serverside task_type binary\n"
     ]
    },
    {
     "name": "stderr",
     "output_type": "stream",
     "text": [
      "INFO flwr 2023-09-03 12:53:25,943 | fl_server.py:112 | fit progress: (9, 0.051337853, {'auc': 0.8604722910642224}, 461.9602196999913)\n",
      "INFO flwr 2023-09-03 12:53:25,945 | fl_server.py:159 | evaluate_round 9: no clients selected, cancel\n",
      "DEBUG flwr 2023-09-03 12:53:25,945 | fl_server.py:226 | fit_round 10: strategy sampled 2 clients (out of 3)\n"
     ]
    },
    {
     "name": "stdout",
     "output_type": "stream",
     "text": [
      "testset mse 0.05133785307407379 and auc 0.8604722910642224\n",
      "Evaluation on the server: test_mse=0.0513, test_auc=0.8605\n",
      "Configuring round 10\n",
      "\u001B[2m\u001B[36m(launch_and_fit pid=21624)\u001B[0m binary client\n",
      "\u001B[2m\u001B[36m(launch_and_fit pid=21624)\u001B[0m binary client\n",
      "\u001B[2m\u001B[36m(launch_and_fit pid=21624)\u001B[0m Client 1 aggregated_trees length 2\n",
      "\u001B[2m\u001B[36m(launch_and_fit pid=21624)\u001B[0m Client 1: recieved 2 trees\n"
     ]
    },
    {
     "name": "stderr",
     "output_type": "stream",
     "text": [
      "DEBUG flwr 2023-09-03 12:53:58,809 | fl_server.py:241 | fit_round 10 received 2 results and 0 failures\n"
     ]
    },
    {
     "name": "stdout",
     "output_type": "stream",
     "text": [
      "Server side aggregated 2 trees.\n",
      "serverside task_type binary\n",
      "\u001B[2m\u001B[36m(launch_and_fit pid=21624)\u001B[0m Client 1: training for 2 iterations/updates\n",
      "\u001B[2m\u001B[36m(launch_and_fit pid=18052)\u001B[0m Client 1: training for 2 iterations/updates\n",
      "\u001B[2m\u001B[36m(launch_and_fit pid=18052)\u001B[0m Client 1: training for 2 iterations/updates\n",
      "\u001B[2m\u001B[36m(launch_and_fit pid=18052)\u001B[0m Client 1: training for 2 iterations/updates\n"
     ]
    },
    {
     "name": "stderr",
     "output_type": "stream",
     "text": [
      "INFO flwr 2023-09-03 12:54:17,715 | fl_server.py:112 | fit progress: (10, 0.050953977, {'auc': 0.8599587926226322}, 513.7314302000013)\n",
      "INFO flwr 2023-09-03 12:54:17,717 | fl_server.py:159 | evaluate_round 10: no clients selected, cancel\n",
      "DEBUG flwr 2023-09-03 12:54:17,717 | fl_server.py:226 | fit_round 11: strategy sampled 2 clients (out of 3)\n"
     ]
    },
    {
     "name": "stdout",
     "output_type": "stream",
     "text": [
      "testset mse 0.050953976809978485 and auc 0.8599587926226322\n",
      "Evaluation on the server: test_mse=0.0510, test_auc=0.8600\n",
      "Configuring round 11\n",
      "\u001B[2m\u001B[36m(launch_and_fit pid=21624)\u001B[0m binary client\n",
      "\u001B[2m\u001B[36m(launch_and_fit pid=18052)\u001B[0m binary client\n",
      "\u001B[2m\u001B[36m(launch_and_fit pid=21624)\u001B[0m Client 2 aggregated_trees length 2\n",
      "\u001B[2m\u001B[36m(launch_and_fit pid=21624)\u001B[0m Client 2: recieved 2 trees\n"
     ]
    },
    {
     "name": "stderr",
     "output_type": "stream",
     "text": [
      "DEBUG flwr 2023-09-03 12:54:50,243 | fl_server.py:241 | fit_round 11 received 2 results and 0 failures\n"
     ]
    },
    {
     "name": "stdout",
     "output_type": "stream",
     "text": [
      "\u001B[2m\u001B[36m(launch_and_fit pid=21624)\u001B[0m Client 2: training for 2 iterations/updatesServer side aggregated 2 trees.\n",
      "\n",
      "\u001B[2m\u001B[36m(launch_and_fit pid=18052)\u001B[0m Client 2: training for 2 iterations/updates\n",
      "\u001B[2m\u001B[36m(launch_and_fit pid=18052)\u001B[0m Client 2: training for 2 iterations/updates\n",
      "\u001B[2m\u001B[36m(launch_and_fit pid=18052)\u001B[0m Client 2: training for 2 iterations/updates\n",
      "serverside task_type binary\n"
     ]
    },
    {
     "name": "stderr",
     "output_type": "stream",
     "text": [
      "INFO flwr 2023-09-03 12:55:08,154 | fl_server.py:112 | fit progress: (11, 0.05098461, {'auc': 0.8595368338793008}, 564.1711101999972)\n",
      "INFO flwr 2023-09-03 12:55:08,156 | fl_server.py:159 | evaluate_round 11: no clients selected, cancel\n",
      "DEBUG flwr 2023-09-03 12:55:08,157 | fl_server.py:226 | fit_round 12: strategy sampled 2 clients (out of 3)\n"
     ]
    },
    {
     "name": "stdout",
     "output_type": "stream",
     "text": [
      "testset mse 0.05098460987210274 and auc 0.8595368338793008\n",
      "Evaluation on the server: test_mse=0.0510, test_auc=0.8595\n",
      "Configuring round 12\n",
      "\u001B[2m\u001B[36m(launch_and_fit pid=21624)\u001B[0m binary client\n",
      "\u001B[2m\u001B[36m(launch_and_fit pid=18052)\u001B[0m binary client\n",
      "\u001B[2m\u001B[36m(launch_and_fit pid=18052)\u001B[0m Client 2 aggregated_trees length 2\n",
      "\u001B[2m\u001B[36m(launch_and_fit pid=18052)\u001B[0m Client 2: recieved 2 trees\n"
     ]
    },
    {
     "name": "stderr",
     "output_type": "stream",
     "text": [
      "DEBUG flwr 2023-09-03 12:55:40,878 | fl_server.py:241 | fit_round 12 received 2 results and 0 failures\n"
     ]
    },
    {
     "name": "stdout",
     "output_type": "stream",
     "text": [
      "\u001B[2m\u001B[36m(launch_and_fit pid=18052)\u001B[0m Client 2: training for 2 iterations/updates\n",
      "\u001B[2m\u001B[36m(launch_and_fit pid=18052)\u001B[0m Client 2: training for 2 iterations/updates\n",
      "\u001B[2m\u001B[36m(launch_and_fit pid=21624)\u001B[0m Client 2: training for 2 iterations/updates\n",
      "\u001B[2m\u001B[36m(launch_and_fit pid=21624)\u001B[0m Client 2: training for 2 iterations/updates\n",
      "Server side aggregated 2 trees.\n",
      "serverside task_type binary\n"
     ]
    },
    {
     "name": "stderr",
     "output_type": "stream",
     "text": [
      "INFO flwr 2023-09-03 12:55:58,851 | fl_server.py:112 | fit progress: (12, 0.050819326, {'auc': 0.8602102886168956}, 614.8666856999916)\n",
      "INFO flwr 2023-09-03 12:55:58,851 | fl_server.py:159 | evaluate_round 12: no clients selected, cancel\n",
      "DEBUG flwr 2023-09-03 12:55:58,852 | fl_server.py:226 | fit_round 13: strategy sampled 2 clients (out of 3)\n"
     ]
    },
    {
     "name": "stdout",
     "output_type": "stream",
     "text": [
      "testset mse 0.05081932619214058 and auc 0.8602102886168956\n",
      "Evaluation on the server: test_mse=0.0508, test_auc=0.8602\n",
      "Configuring round 13\n",
      "\u001B[2m\u001B[36m(launch_and_fit pid=21624)\u001B[0m binary client\n",
      "\u001B[2m\u001B[36m(launch_and_fit pid=21624)\u001B[0m binary client\n",
      "\u001B[2m\u001B[36m(launch_and_fit pid=18052)\u001B[0m Client 2 aggregated_trees length 2\n",
      "\u001B[2m\u001B[36m(launch_and_fit pid=18052)\u001B[0m Client 2: recieved 2 trees\n",
      "\u001B[2m\u001B[36m(launch_and_fit pid=18052)\u001B[0m Client 2: training for 2 iterations/updates\n",
      "\u001B[2m\u001B[36m(launch_and_fit pid=18052)\u001B[0m Client 2: training for 2 iterations/updates\n",
      "\u001B[2m\u001B[36m(launch_and_fit pid=21624)\u001B[0m Client 2: training for 2 iterations/updates\n",
      "\u001B[2m\u001B[36m(launch_and_fit pid=21624)\u001B[0m Client 2: training for 2 iterations/updates\n"
     ]
    },
    {
     "name": "stderr",
     "output_type": "stream",
     "text": [
      "DEBUG flwr 2023-09-03 12:56:32,394 | fl_server.py:241 | fit_round 13 received 2 results and 0 failures\n"
     ]
    },
    {
     "name": "stdout",
     "output_type": "stream",
     "text": [
      "Server side aggregated 2 trees.\n",
      "serverside task_type binary\n"
     ]
    },
    {
     "name": "stderr",
     "output_type": "stream",
     "text": [
      "INFO flwr 2023-09-03 12:56:50,176 | fl_server.py:112 | fit progress: (13, 0.05147589, {'auc': 0.8601235836678007}, 666.1926935999945)\n",
      "INFO flwr 2023-09-03 12:56:50,177 | fl_server.py:159 | evaluate_round 13: no clients selected, cancel\n",
      "DEBUG flwr 2023-09-03 12:56:50,178 | fl_server.py:226 | fit_round 14: strategy sampled 2 clients (out of 3)\n"
     ]
    },
    {
     "name": "stdout",
     "output_type": "stream",
     "text": [
      "testset mse 0.051475889980793 and auc 0.8601235836678007\n",
      "Evaluation on the server: test_mse=0.0515, test_auc=0.8601\n",
      "Configuring round 14\n",
      "\u001B[2m\u001B[36m(launch_and_fit pid=21624)\u001B[0m binary client\n",
      "\u001B[2m\u001B[36m(launch_and_fit pid=21624)\u001B[0m binary client\n",
      "\u001B[2m\u001B[36m(launch_and_fit pid=21624)\u001B[0m Client 2 aggregated_trees length 2\n",
      "\u001B[2m\u001B[36m(launch_and_fit pid=21624)\u001B[0m Client 2: recieved 2 trees\n",
      "\u001B[2m\u001B[36m(launch_and_fit pid=21624)\u001B[0m Client 2: training for 2 iterations/updates\n",
      "\u001B[2m\u001B[36m(launch_and_fit pid=18052)\u001B[0m Client 2: training for 2 iterations/updates\n",
      "\u001B[2m\u001B[36m(launch_and_fit pid=18052)\u001B[0m Client 2: training for 2 iterations/updates\n",
      "\u001B[2m\u001B[36m(launch_and_fit pid=18052)\u001B[0m Client 2: training for 2 iterations/updates\n"
     ]
    },
    {
     "name": "stderr",
     "output_type": "stream",
     "text": [
      "DEBUG flwr 2023-09-03 12:57:23,068 | fl_server.py:241 | fit_round 14 received 2 results and 0 failures\n"
     ]
    },
    {
     "name": "stdout",
     "output_type": "stream",
     "text": [
      "Server side aggregated 2 trees.\n",
      "serverside task_type binary\n"
     ]
    },
    {
     "name": "stderr",
     "output_type": "stream",
     "text": [
      "INFO flwr 2023-09-03 12:57:40,960 | fl_server.py:112 | fit progress: (14, 0.05069664, {'auc': 0.8605642848549443}, 716.9761033999966)\n",
      "INFO flwr 2023-09-03 12:57:40,960 | fl_server.py:159 | evaluate_round 14: no clients selected, cancel\n",
      "DEBUG flwr 2023-09-03 12:57:40,961 | fl_server.py:226 | fit_round 15: strategy sampled 2 clients (out of 3)\n"
     ]
    },
    {
     "name": "stdout",
     "output_type": "stream",
     "text": [
      "testset mse 0.05069664120674133 and auc 0.8605642848549443\n",
      "Evaluation on the server: test_mse=0.0507, test_auc=0.8606\n",
      "Configuring round 15\n",
      "\u001B[2m\u001B[36m(launch_and_fit pid=21624)\u001B[0m binary client\n",
      "\u001B[2m\u001B[36m(launch_and_fit pid=18052)\u001B[0m binary client\n",
      "\u001B[2m\u001B[36m(launch_and_fit pid=21624)\u001B[0m Client 1 aggregated_trees length 2\n",
      "\u001B[2m\u001B[36m(launch_and_fit pid=21624)\u001B[0m Client 1: recieved 2 trees\n"
     ]
    },
    {
     "name": "stderr",
     "output_type": "stream",
     "text": [
      "DEBUG flwr 2023-09-03 12:58:13,170 | fl_server.py:241 | fit_round 15 received 2 results and 0 failures\n"
     ]
    },
    {
     "name": "stdout",
     "output_type": "stream",
     "text": [
      "Server side aggregated 2 trees.\n",
      "serverside task_type binary\n",
      "\u001B[2m\u001B[36m(launch_and_fit pid=21624)\u001B[0m Client 1: training for 2 iterations/updates\n",
      "\u001B[2m\u001B[36m(launch_and_fit pid=18052)\u001B[0m Client 1: training for 2 iterations/updates\n",
      "\u001B[2m\u001B[36m(launch_and_fit pid=18052)\u001B[0m Client 1: training for 2 iterations/updates\n",
      "\u001B[2m\u001B[36m(launch_and_fit pid=18052)\u001B[0m Client 1: training for 2 iterations/updates\n"
     ]
    },
    {
     "name": "stderr",
     "output_type": "stream",
     "text": [
      "INFO flwr 2023-09-03 12:58:31,187 | fl_server.py:112 | fit progress: (15, 0.050240852, {'auc': 0.8586183383834352}, 767.2030885999993)\n",
      "INFO flwr 2023-09-03 12:58:31,188 | fl_server.py:159 | evaluate_round 15: no clients selected, cancel\n",
      "DEBUG flwr 2023-09-03 12:58:31,188 | fl_server.py:226 | fit_round 16: strategy sampled 2 clients (out of 3)\n"
     ]
    },
    {
     "name": "stdout",
     "output_type": "stream",
     "text": [
      "testset mse 0.05024085193872452 and auc 0.8586183383834352\n",
      "Evaluation on the server: test_mse=0.0502, test_auc=0.8586\n",
      "Configuring round 16\n",
      "\u001B[2m\u001B[36m(launch_and_fit pid=21624)\u001B[0m binary client\n",
      "\u001B[2m\u001B[36m(launch_and_fit pid=18052)\u001B[0m binary client\n",
      "\u001B[2m\u001B[36m(launch_and_fit pid=18052)\u001B[0m Client 2 aggregated_trees length 2\n",
      "\u001B[2m\u001B[36m(launch_and_fit pid=18052)\u001B[0m Client 2: recieved 2 trees\n",
      "\u001B[2m\u001B[36m(launch_and_fit pid=18052)\u001B[0m Client 2: training for 2 iterations/updates\n",
      "\u001B[2m\u001B[36m(launch_and_fit pid=18052)\u001B[0m Client 2: training for 2 iterations/updates\n",
      "\u001B[2m\u001B[36m(launch_and_fit pid=21624)\u001B[0m Client 2: training for 2 iterations/updates\n",
      "\u001B[2m\u001B[36m(launch_and_fit pid=21624)\u001B[0m Client 2: training for 2 iterations/updates\n"
     ]
    },
    {
     "name": "stderr",
     "output_type": "stream",
     "text": [
      "DEBUG flwr 2023-09-03 12:59:04,550 | fl_server.py:241 | fit_round 16 received 2 results and 0 failures\n"
     ]
    },
    {
     "name": "stdout",
     "output_type": "stream",
     "text": [
      "Server side aggregated 2 trees.\n",
      "serverside task_type binary\n"
     ]
    },
    {
     "name": "stderr",
     "output_type": "stream",
     "text": [
      "INFO flwr 2023-09-03 12:59:22,669 | fl_server.py:112 | fit progress: (16, 0.050272427, {'auc': 0.8616105227932691}, 818.6852689999942)\n",
      "INFO flwr 2023-09-03 12:59:22,670 | fl_server.py:159 | evaluate_round 16: no clients selected, cancel\n",
      "DEBUG flwr 2023-09-03 12:59:22,671 | fl_server.py:226 | fit_round 17: strategy sampled 2 clients (out of 3)\n"
     ]
    },
    {
     "name": "stdout",
     "output_type": "stream",
     "text": [
      "testset mse 0.05027242749929428 and auc 0.8616105227932691\n",
      "Evaluation on the server: test_mse=0.0503, test_auc=0.8616\n",
      "Configuring round 17\n",
      "\u001B[2m\u001B[36m(launch_and_fit pid=21624)\u001B[0m binary client\n",
      "\u001B[2m\u001B[36m(launch_and_fit pid=21624)\u001B[0m binary client\n",
      "\u001B[2m\u001B[36m(launch_and_fit pid=21624)\u001B[0m Client 1 aggregated_trees length 2\n",
      "\u001B[2m\u001B[36m(launch_and_fit pid=21624)\u001B[0m Client 1: recieved 2 trees\n"
     ]
    },
    {
     "name": "stderr",
     "output_type": "stream",
     "text": [
      "DEBUG flwr 2023-09-03 12:59:55,223 | fl_server.py:241 | fit_round 17 received 2 results and 0 failures\n"
     ]
    },
    {
     "name": "stdout",
     "output_type": "stream",
     "text": [
      "\u001B[2m\u001B[36m(launch_and_fit pid=21624)\u001B[0m Client 1: training for 2 iterations/updates\n",
      "\u001B[2m\u001B[36m(launch_and_fit pid=18052)\u001B[0m Client 1: training for 2 iterations/updates\n",
      "\u001B[2m\u001B[36m(launch_and_fit pid=18052)\u001B[0m Client 1: training for 2 iterations/updates\n",
      "\u001B[2m\u001B[36m(launch_and_fit pid=18052)\u001B[0m Client 1: training for 2 iterations/updates\n",
      "Server side aggregated 2 trees.\n",
      "serverside task_type binary\n"
     ]
    },
    {
     "name": "stderr",
     "output_type": "stream",
     "text": [
      "INFO flwr 2023-09-03 13:00:13,061 | fl_server.py:112 | fit progress: (17, 0.049920708, {'auc': 0.8606445790869159}, 869.0774770999997)\n",
      "INFO flwr 2023-09-03 13:00:13,062 | fl_server.py:159 | evaluate_round 17: no clients selected, cancel\n",
      "DEBUG flwr 2023-09-03 13:00:13,063 | fl_server.py:226 | fit_round 18: strategy sampled 2 clients (out of 3)\n"
     ]
    },
    {
     "name": "stdout",
     "output_type": "stream",
     "text": [
      "testset mse 0.0499207079410553 and auc 0.8606445790869159\n",
      "Evaluation on the server: test_mse=0.0499, test_auc=0.8606\n",
      "Configuring round 18\n",
      "\u001B[2m\u001B[36m(launch_and_fit pid=21624)\u001B[0m binary client\n",
      "\u001B[2m\u001B[36m(launch_and_fit pid=18052)\u001B[0m binary client\n",
      "\u001B[2m\u001B[36m(launch_and_fit pid=21624)\u001B[0m Client 1 aggregated_trees length 2\n",
      "\u001B[2m\u001B[36m(launch_and_fit pid=21624)\u001B[0m Client 1: recieved 2 trees\n",
      "\u001B[2m\u001B[36m(launch_and_fit pid=21624)\u001B[0m Client 1: training for 2 iterations/updates\n",
      "\u001B[2m\u001B[36m(launch_and_fit pid=18052)\u001B[0m Client 1: training for 2 iterations/updates\n",
      "\u001B[2m\u001B[36m(launch_and_fit pid=18052)\u001B[0m Client 1: training for 2 iterations/updates\n",
      "\u001B[2m\u001B[36m(launch_and_fit pid=18052)\u001B[0m Client 1: training for 2 iterations/updates\n"
     ]
    },
    {
     "name": "stderr",
     "output_type": "stream",
     "text": [
      "DEBUG flwr 2023-09-03 13:00:45,972 | fl_server.py:241 | fit_round 18 received 2 results and 0 failures\n"
     ]
    },
    {
     "name": "stdout",
     "output_type": "stream",
     "text": [
      "Server side aggregated 2 trees.\n",
      "serverside task_type binary\n"
     ]
    },
    {
     "name": "stderr",
     "output_type": "stream",
     "text": [
      "INFO flwr 2023-09-03 13:01:04,460 | fl_server.py:112 | fit progress: (18, 0.05071095, {'auc': 0.8576416834372214}, 920.4763691999979)\n",
      "INFO flwr 2023-09-03 13:01:04,460 | fl_server.py:159 | evaluate_round 18: no clients selected, cancel\n",
      "DEBUG flwr 2023-09-03 13:01:04,461 | fl_server.py:226 | fit_round 19: strategy sampled 2 clients (out of 3)\n"
     ]
    },
    {
     "name": "stdout",
     "output_type": "stream",
     "text": [
      "testset mse 0.050710950046777725 and auc 0.8576416834372214\n",
      "Evaluation on the server: test_mse=0.0507, test_auc=0.8576\n",
      "Configuring round 19\n",
      "\u001B[2m\u001B[36m(launch_and_fit pid=21624)\u001B[0m binary client\n",
      "\u001B[2m\u001B[36m(launch_and_fit pid=18052)\u001B[0m binary client\n",
      "\u001B[2m\u001B[36m(launch_and_fit pid=18052)\u001B[0m Client 2 aggregated_trees length 2\n",
      "\u001B[2m\u001B[36m(launch_and_fit pid=18052)\u001B[0m Client 2: recieved 2 trees\n",
      "\u001B[2m\u001B[36m(launch_and_fit pid=18052)\u001B[0m Client 2: training for 2 iterations/updates\n",
      "\u001B[2m\u001B[36m(launch_and_fit pid=18052)\u001B[0m Client 2: training for 2 iterations/updates\n",
      "\u001B[2m\u001B[36m(launch_and_fit pid=21624)\u001B[0m Client 2: training for 2 iterations/updates\n",
      "\u001B[2m\u001B[36m(launch_and_fit pid=21624)\u001B[0m Client 2: training for 2 iterations/updates\n"
     ]
    },
    {
     "name": "stderr",
     "output_type": "stream",
     "text": [
      "DEBUG flwr 2023-09-03 13:01:37,716 | fl_server.py:241 | fit_round 19 received 2 results and 0 failures\n"
     ]
    },
    {
     "name": "stdout",
     "output_type": "stream",
     "text": [
      "Server side aggregated 2 trees.\n",
      "serverside task_type binary\n"
     ]
    },
    {
     "name": "stderr",
     "output_type": "stream",
     "text": [
      "INFO flwr 2023-09-03 13:01:55,884 | fl_server.py:112 | fit progress: (19, 0.04982586, {'auc': 0.8606445701831421}, 971.9007754000049)\n",
      "INFO flwr 2023-09-03 13:01:55,884 | fl_server.py:159 | evaluate_round 19: no clients selected, cancel\n",
      "DEBUG flwr 2023-09-03 13:01:55,885 | fl_server.py:226 | fit_round 20: strategy sampled 2 clients (out of 3)\n"
     ]
    },
    {
     "name": "stdout",
     "output_type": "stream",
     "text": [
      "testset mse 0.04982585832476616 and auc 0.8606445701831421\n",
      "Evaluation on the server: test_mse=0.0498, test_auc=0.8606\n",
      "Configuring round 20\n",
      "\u001B[2m\u001B[36m(launch_and_fit pid=21624)\u001B[0m binary client\n",
      "\u001B[2m\u001B[36m(launch_and_fit pid=21624)\u001B[0m binary client\n",
      "\u001B[2m\u001B[36m(launch_and_fit pid=21624)\u001B[0m Client 2 aggregated_trees length 2\n",
      "\u001B[2m\u001B[36m(launch_and_fit pid=21624)\u001B[0m Client 2: recieved 2 trees\n"
     ]
    },
    {
     "name": "stderr",
     "output_type": "stream",
     "text": [
      "DEBUG flwr 2023-09-03 13:02:28,178 | fl_server.py:241 | fit_round 20 received 2 results and 0 failures\n"
     ]
    },
    {
     "name": "stdout",
     "output_type": "stream",
     "text": [
      "\u001B[2m\u001B[36m(launch_and_fit pid=21624)\u001B[0m Client 2: training for 2 iterations/updates\n",
      "\u001B[2m\u001B[36m(launch_and_fit pid=18052)\u001B[0m Client 2: training for 2 iterations/updates\n",
      "\u001B[2m\u001B[36m(launch_and_fit pid=18052)\u001B[0m Client 2: training for 2 iterations/updates\n",
      "\u001B[2m\u001B[36m(launch_and_fit pid=18052)\u001B[0m Client 2: training for 2 iterations/updates\n",
      "Server side aggregated 2 trees.\n",
      "serverside task_type binary\n"
     ]
    },
    {
     "name": "stderr",
     "output_type": "stream",
     "text": [
      "INFO flwr 2023-09-03 13:02:46,057 | fl_server.py:112 | fit progress: (20, 0.050254762, {'auc': 0.859230063257395}, 1022.0734228999936)\n",
      "INFO flwr 2023-09-03 13:02:46,058 | fl_server.py:159 | evaluate_round 20: no clients selected, cancel\n",
      "INFO flwr 2023-09-03 13:02:46,059 | fl_server.py:140 | FL finished in 1022.0753374999913\n",
      "INFO flwr 2023-09-03 13:02:46,060 | app.py:225 | app_fit: losses_distributed []\n",
      "INFO flwr 2023-09-03 13:02:46,060 | app.py:226 | app_fit: metrics_distributed_fit {}\n",
      "INFO flwr 2023-09-03 13:02:46,061 | app.py:227 | app_fit: metrics_distributed {}\n",
      "INFO flwr 2023-09-03 13:02:46,062 | app.py:228 | app_fit: losses_centralized [(0, 0.23493896), (1, 0.17962377), (2, 0.13599643), (3, 0.10063647), (4, 0.0751986), (5, 0.060090844), (6, 0.05347), (7, 0.051637452), (8, 0.051715244), (9, 0.051337853), (10, 0.050953977), (11, 0.05098461), (12, 0.050819326), (13, 0.05147589), (14, 0.05069664), (15, 0.050240852), (16, 0.050272427), (17, 0.049920708), (18, 0.05071095), (19, 0.04982586), (20, 0.050254762)]\n",
      "INFO flwr 2023-09-03 13:02:46,063 | app.py:229 | app_fit: metrics_centralized {'auc': [(0, 0.75662566312636), (1, 0.8563512416953611), (2, 0.8588570307509992), (3, 0.8604305056538608), (4, 0.8594067764556583), (5, 0.8587757571039114), (6, 0.8609848189944704), (7, 0.8607541578308584), (8, 0.8590767135615373), (9, 0.8604722910642224), (10, 0.8599587926226322), (11, 0.8595368338793008), (12, 0.8602102886168956), (13, 0.8601235836678007), (14, 0.8605642848549443), (15, 0.8586183383834352), (16, 0.8616105227932691), (17, 0.8606445790869159), (18, 0.8576416834372214), (19, 0.8606445701831421), (20, 0.859230063257395)]}\n"
     ]
    },
    {
     "name": "stdout",
     "output_type": "stream",
     "text": [
      "testset mse 0.050254762172698975 and auc 0.859230063257395\n",
      "Evaluation on the server: test_mse=0.0503, test_auc=0.8592\n",
      "History (loss, centralized):\n",
      "\tround 0: 0.23493896424770355\n",
      "\tround 1: 0.1796237677335739\n",
      "\tround 2: 0.13599643111228943\n",
      "\tround 3: 0.10063646733760834\n",
      "\tround 4: 0.07519859820604324\n",
      "\tround 5: 0.060090843588113785\n",
      "\tround 6: 0.05347000062465668\n",
      "\tround 7: 0.051637452095746994\n",
      "\tround 8: 0.051715243607759476\n",
      "\tround 9: 0.05133785307407379\n",
      "\tround 10: 0.050953976809978485\n",
      "\tround 11: 0.05098460987210274\n",
      "\tround 12: 0.05081932619214058\n",
      "\tround 13: 0.051475889980793\n",
      "\tround 14: 0.05069664120674133\n",
      "\tround 15: 0.05024085193872452\n",
      "\tround 16: 0.05027242749929428\n",
      "\tround 17: 0.0499207079410553\n",
      "\tround 18: 0.050710950046777725\n",
      "\tround 19: 0.04982585832476616\n",
      "\tround 20: 0.050254762172698975\n",
      "History (metrics, centralized):\n",
      "{'auc': [(0, 0.75662566312636), (1, 0.8563512416953611), (2, 0.8588570307509992), (3, 0.8604305056538608), (4, 0.8594067764556583), (5, 0.8587757571039114), (6, 0.8609848189944704), (7, 0.8607541578308584), (8, 0.8590767135615373), (9, 0.8604722910642224), (10, 0.8599587926226322), (11, 0.8595368338793008), (12, 0.8602102886168956), (13, 0.8601235836678007), (14, 0.8605642848549443), (15, 0.8586183383834352), (16, 0.8616105227932691), (17, 0.8606445790869159), (18, 0.8576416834372214), (19, 0.8606445701831421), (20, 0.859230063257395)]}\n",
      "[(0, 0.23493896), (1, 0.17962377), (2, 0.13599643), (3, 0.10063647), (4, 0.0751986), (5, 0.060090844), (6, 0.05347), (7, 0.051637452), (8, 0.051715244), (9, 0.051337853), (10, 0.050953977), (11, 0.05098461), (12, 0.050819326), (13, 0.05147589), (14, 0.05069664), (15, 0.050240852), (16, 0.050272427), (17, 0.049920708), (18, 0.05071095), (19, 0.04982586), (20, 0.050254762)]\n",
      "Fold 2:\n",
      "[0.34, 0.33, 0.33]\n",
      "Training time 0:17:41.037721\n"
     ]
    }
   ],
   "source": [
    "split = [0.34, 0.33, 0.33]\n",
    "do_fl(split)"
   ],
   "metadata": {
    "collapsed": false,
    "ExecuteTime": {
     "end_time": "2023-09-03T12:02:46.122249100Z",
     "start_time": "2023-09-03T11:45:05.068570Z"
    }
   }
  },
  {
   "cell_type": "code",
   "execution_count": 7,
   "outputs": [
    {
     "name": "stderr",
     "output_type": "stream",
     "text": [
      "C:\\Users\\Shuyao\\AppData\\Local\\Temp\\ipykernel_14868\\1879151568.py:17: UserWarning: To copy construct from a tensor, it is recommended to use sourceTensor.clone().detach() or sourceTensor.clone().detach().requires_grad_(True), rather than torch.tensor(sourceTensor).\n",
      "  X_train = torch.tensor(X_train)\n",
      "C:\\Users\\Shuyao\\AppData\\Local\\Temp\\ipykernel_14868\\1879151568.py:18: UserWarning: To copy construct from a tensor, it is recommended to use sourceTensor.clone().detach() or sourceTensor.clone().detach().requires_grad_(True), rather than torch.tensor(sourceTensor).\n",
      "  X_test = torch.tensor(X_test)\n",
      "C:\\Users\\Shuyao\\AppData\\Local\\Temp\\ipykernel_14868\\1879151568.py:19: UserWarning: To copy construct from a tensor, it is recommended to use sourceTensor.clone().detach() or sourceTensor.clone().detach().requires_grad_(True), rather than torch.tensor(sourceTensor).\n",
      "  y_train = torch.reshape(torch.tensor(y_train), (-1, 1))\n",
      "C:\\Users\\Shuyao\\AppData\\Local\\Temp\\ipykernel_14868\\1879151568.py:20: UserWarning: To copy construct from a tensor, it is recommended to use sourceTensor.clone().detach() or sourceTensor.clone().detach().requires_grad_(True), rather than torch.tensor(sourceTensor).\n",
      "  y_test = torch.reshape(torch.tensor(y_test), (-1, 1))\n",
      "WARNING flwr 2023-09-03 12:25:27,607 | app.py:210 | Both server and strategy were provided, ignoring strategy\n",
      "INFO flwr 2023-09-03 12:25:27,649 | app.py:145 | Starting Flower simulation, config: ServerConfig(num_rounds=20, round_timeout=None)\n"
     ]
    },
    {
     "name": "stdout",
     "output_type": "stream",
     "text": [
      "Fold 1:\n",
      "here\n",
      "torch.Size([30000, 1])\n",
      "torch.Size([30000, 10])\n",
      "torch.Size([120000, 1])\n",
      "torch.Size([120000, 10])\n",
      "torch.Size([72000, 10])\n",
      "torch.Size([24000, 10])\n",
      "torch.Size([24000, 10])\n",
      "Data partitioned across 3 clients and 0.0 of local dataset reserved for validation.\n",
      "FL experiment configured for 20 rounds with 3 client in the pool.\n",
      "FL round will proceed with 50.0% of clients sampled, at least 2.\n"
     ]
    },
    {
     "name": "stderr",
     "output_type": "stream",
     "text": [
      "2023-09-03 12:25:36,731\tINFO worker.py:1636 -- Started a local Ray instance.\n",
      "INFO flwr 2023-09-03 12:25:41,927 | app.py:179 | Flower VCE: Ray initialized with resources: {'CPU': 8.0, 'node:127.0.0.1': 1.0, 'object_store_memory': 923648409.0, 'memory': 1847296820.0, 'GPU': 1.0}\n",
      "INFO flwr 2023-09-03 12:25:41,929 | fl_server.py:78 | fit num_rounds 20\n",
      "INFO flwr 2023-09-03 12:25:41,930 | fl_server.py:81 | Initializing global parameters\n",
      "INFO flwr 2023-09-03 12:25:41,931 | fl_server.py:287 | Requesting initial parameters from one random client\n",
      "\u001B[2m\u001B[33m(raylet)\u001B[0m --- Logging error ---\n",
      "\u001B[2m\u001B[33m(raylet)\u001B[0m Traceback (most recent call last):\n",
      "\u001B[2m\u001B[33m(raylet)\u001B[0m   File \"D:\\FD\\venv\\lib\\site-packages\\ray\\dashboard\\agent.py\", line 299, in run\n",
      "\u001B[2m\u001B[33m(raylet)\u001B[0m     self.http_server = await self._configure_http_server(modules)\n",
      "\u001B[2m\u001B[33m(raylet)\u001B[0m   File \"D:\\FD\\venv\\lib\\site-packages\\ray\\dashboard\\agent.py\", line 162, in _configure_http_server\n",
      "\u001B[2m\u001B[33m(raylet)\u001B[0m     await http_server.start(modules)\n",
      "\u001B[2m\u001B[33m(raylet)\u001B[0m   File \"D:\\FD\\venv\\lib\\site-packages\\ray\\dashboard\\http_server_agent.py\", line 69, in start\n",
      "\u001B[2m\u001B[33m(raylet)\u001B[0m     raise e\n",
      "\u001B[2m\u001B[33m(raylet)\u001B[0m   File \"D:\\FD\\venv\\lib\\site-packages\\ray\\dashboard\\http_server_agent.py\", line 62, in start\n",
      "\u001B[2m\u001B[33m(raylet)\u001B[0m     await site.start()\n",
      "\u001B[2m\u001B[33m(raylet)\u001B[0m   File \"D:\\FD\\venv\\lib\\site-packages\\aiohttp\\web_runner.py\", line 121, in start\n",
      "\u001B[2m\u001B[33m(raylet)\u001B[0m     self._server = await loop.create_server(\n",
      "\u001B[2m\u001B[33m(raylet)\u001B[0m   File \"C:\\Program Files\\WindowsApps\\PythonSoftwareFoundation.Python.3.10_3.10.3056.0_x64__qbz5n2kfra8p0\\lib\\asyncio\\base_events.py\", line 1519, in create_server\n",
      "\u001B[2m\u001B[33m(raylet)\u001B[0m     raise OSError(err.errno, 'error while attempting '\n",
      "\u001B[2m\u001B[33m(raylet)\u001B[0m OSError: [Errno 10048] error while attempting to bind on address ('127.0.0.1', 52365): \\u901a\\u5e38\\u6bcf\\u4e2a\\u5957\\u63a5\\u5b57\\u5730\\u5740(\\u534f\\u8bae/\\u7f51\\u7edc\\u5730\\u5740/\\u7aef\\u53e3)\\u53ea\\u5141\\u8bb8\\u4f7f\\u7528\\u4e00\\u6b21\\u3002\n",
      "\u001B[2m\u001B[33m(raylet)\u001B[0m \n",
      "\u001B[2m\u001B[33m(raylet)\u001B[0m During handling of the above exception, another exception occurred:\n",
      "\u001B[2m\u001B[33m(raylet)\u001B[0m \n",
      "\u001B[2m\u001B[33m(raylet)\u001B[0m Traceback (most recent call last):\n",
      "\u001B[2m\u001B[33m(raylet)\u001B[0m   File \"C:\\Program Files\\WindowsApps\\PythonSoftwareFoundation.Python.3.10_3.10.3056.0_x64__qbz5n2kfra8p0\\lib\\logging\\__init__.py\", line 1103, in emit\n",
      "\u001B[2m\u001B[33m(raylet)\u001B[0m     stream.write(msg + self.terminator)\n",
      "\u001B[2m\u001B[33m(raylet)\u001B[0m   File \"C:\\Program Files\\WindowsApps\\PythonSoftwareFoundation.Python.3.10_3.10.3056.0_x64__qbz5n2kfra8p0\\lib\\encodings\\cp1252.py\", line 19, in encode\n",
      "\u001B[2m\u001B[33m(raylet)\u001B[0m     return codecs.charmap_encode(input,self.errors,encoding_table)[0]\n",
      "\u001B[2m\u001B[33m(raylet)\u001B[0m UnicodeEncodeError: 'charmap' codec can't encode characters in position 1104-1112: character maps to <undefined>\n",
      "\u001B[2m\u001B[33m(raylet)\u001B[0m Call stack:\n",
      "\u001B[2m\u001B[33m(raylet)\u001B[0m   File \"D:\\FD\\venv\\lib\\site-packages\\ray\\dashboard\\agent.py\", line 544, in <module>\n",
      "\u001B[2m\u001B[33m(raylet)\u001B[0m     loop.run_until_complete(agent.run())\n",
      "\u001B[2m\u001B[33m(raylet)\u001B[0m   File \"C:\\Program Files\\WindowsApps\\PythonSoftwareFoundation.Python.3.10_3.10.3056.0_x64__qbz5n2kfra8p0\\lib\\asyncio\\base_events.py\", line 636, in run_until_complete\n",
      "\u001B[2m\u001B[33m(raylet)\u001B[0m     self.run_forever()\n",
      "\u001B[2m\u001B[33m(raylet)\u001B[0m   File \"C:\\Program Files\\WindowsApps\\PythonSoftwareFoundation.Python.3.10_3.10.3056.0_x64__qbz5n2kfra8p0\\lib\\asyncio\\windows_events.py\", line 321, in run_forever\n",
      "\u001B[2m\u001B[33m(raylet)\u001B[0m     super().run_forever()\n",
      "\u001B[2m\u001B[33m(raylet)\u001B[0m   File \"C:\\Program Files\\WindowsApps\\PythonSoftwareFoundation.Python.3.10_3.10.3056.0_x64__qbz5n2kfra8p0\\lib\\asyncio\\base_events.py\", line 603, in run_forever\n",
      "\u001B[2m\u001B[33m(raylet)\u001B[0m     self._run_once()\n",
      "\u001B[2m\u001B[33m(raylet)\u001B[0m   File \"C:\\Program Files\\WindowsApps\\PythonSoftwareFoundation.Python.3.10_3.10.3056.0_x64__qbz5n2kfra8p0\\lib\\asyncio\\base_events.py\", line 1909, in _run_once\n",
      "\u001B[2m\u001B[33m(raylet)\u001B[0m     handle._run()\n",
      "\u001B[2m\u001B[33m(raylet)\u001B[0m   File \"C:\\Program Files\\WindowsApps\\PythonSoftwareFoundation.Python.3.10_3.10.3056.0_x64__qbz5n2kfra8p0\\lib\\asyncio\\events.py\", line 80, in _run\n",
      "\u001B[2m\u001B[33m(raylet)\u001B[0m     self._context.run(self._callback, *self._args)\n",
      "\u001B[2m\u001B[33m(raylet)\u001B[0m   File \"D:\\FD\\venv\\lib\\site-packages\\ray\\dashboard\\agent.py\", line 304, in run\n",
      "\u001B[2m\u001B[33m(raylet)\u001B[0m     logger.exception(\n",
      "\u001B[2m\u001B[33m(raylet)\u001B[0m Message: 'Failed to start http server. Agent will stay alive but disable the http service.'\n",
      "\u001B[2m\u001B[33m(raylet)\u001B[0m Arguments: ()\n",
      "\u001B[2m\u001B[36m(launch_and_get_parameters pid=24616)\u001B[0m Windows fatal exception: code 0xc0000139\n",
      "\u001B[2m\u001B[36m(launch_and_get_parameters pid=24616)\u001B[0m \n",
      "\u001B[2m\u001B[36m(launch_and_get_parameters pid=24616)\u001B[0m Stack (most recent call first):\n",
      "\u001B[2m\u001B[36m(launch_and_get_parameters pid=24616)\u001B[0m   File \"C:\\Program Files\\WindowsApps\\PythonSoftwareFoundation.Python.3.10_3.10.3056.0_x64__qbz5n2kfra8p0\\lib\\ctypes\\__init__.py\", line 374 in __init__\n",
      "\u001B[2m\u001B[36m(launch_and_get_parameters pid=24616)\u001B[0m   File \"D:\\FD\\venv\\lib\\site-packages\\torch\\_ops.py\", line 573 in load_library\n",
      "\u001B[2m\u001B[36m(launch_and_get_parameters pid=24616)\u001B[0m   File \"D:\\FD\\venv\\lib\\site-packages\\torchvision\\extension.py\", line 36 in <module>\n",
      "\u001B[2m\u001B[36m(launch_and_get_parameters pid=24616)\u001B[0m   File \"<frozen importlib._bootstrap>\", line 241 in _call_with_frames_removed\n",
      "\u001B[2m\u001B[36m(launch_and_get_parameters pid=24616)\u001B[0m   File \"<frozen importlib._bootstrap_external>\", line 883 in exec_module\n",
      "\u001B[2m\u001B[36m(launch_and_get_parameters pid=24616)\u001B[0m   File \"<frozen importlib._bootstrap>\", line 688 in _load_unlocked\n",
      "\u001B[2m\u001B[36m(launch_and_get_parameters pid=24616)\u001B[0m   File \"<frozen importlib._bootstrap>\", line 1006 in _find_and_load_unlocked\n",
      "\u001B[2m\u001B[36m(launch_and_get_parameters pid=24616)\u001B[0m   File \"<frozen importlib._bootstrap>\", line 1027 in _find_and_load\n",
      "\u001B[2m\u001B[36m(launch_and_get_parameters pid=24616)\u001B[0m   File \"D:\\FD\\venv\\lib\\site-packages\\torchvision\\io\\_load_gpu_decoder.py\", line 1 in <module>\n",
      "\u001B[2m\u001B[36m(launch_and_get_parameters pid=24616)\u001B[0m   File \"<frozen importlib._bootstrap>\", line 241 in _call_with_frames_removed\n",
      "\u001B[2m\u001B[36m(launch_and_get_parameters pid=24616)\u001B[0m   File \"<frozen importlib._bootstrap_external>\", line 883 in exec_module\n",
      "\u001B[2m\u001B[36m(launch_and_get_parameters pid=24616)\u001B[0m   File \"<frozen importlib._bootstrap>\", line 688 in _load_unlocked\n",
      "\u001B[2m\u001B[36m(launch_and_get_parameters pid=24616)\u001B[0m   File \"<frozen importlib._bootstrap>\", line 1006 in _find_and_load_unlocked\n",
      "\u001B[2m\u001B[36m(launch_and_get_parameters pid=24616)\u001B[0m   File \"<frozen importlib._bootstrap>\", line 1027 in _find_and_load\n",
      "\u001B[2m\u001B[36m(launch_and_get_parameters pid=24616)\u001B[0m   File \"D:\\FD\\venv\\lib\\site-packages\\torchvision\\io\\__init__.py\", line 8 in <module>\n",
      "\u001B[2m\u001B[36m(launch_and_get_parameters pid=24616)\u001B[0m   File \"<frozen importlib._bootstrap>\", line 241 in _call_with_frames_removed\n",
      "\u001B[2m\u001B[36m(launch_and_get_parameters pid=24616)\u001B[0m   File \"<frozen importlib._bootstrap_external>\", line 883 in exec_module\n",
      "\u001B[2m\u001B[36m(launch_and_get_parameters pid=24616)\u001B[0m   File \"<frozen importlib._bootstrap>\", line 688 in _load_unlocked\n",
      "\u001B[2m\u001B[36m(launch_and_get_parameters pid=24616)\u001B[0m   File \"<frozen importlib._bootstrap>\", line 1006 in _find_and_load_unlocked\n",
      "\u001B[2m\u001B[36m(launch_and_get_parameters pid=24616)\u001B[0m   File \"<frozen importlib._bootstrap>\", line 1027 in _find_and_load\n",
      "\u001B[2m\u001B[36m(launch_and_get_parameters pid=24616)\u001B[0m   File \"<frozen importlib._bootstrap>\", line 241 in _call_with_frames_removed\n",
      "\u001B[2m\u001B[36m(launch_and_get_parameters pid=24616)\u001B[0m   File \"<frozen importlib._bootstrap>\", line 992 in _find_and_load_unlocked\n",
      "\u001B[2m\u001B[36m(launch_and_get_parameters pid=24616)\u001B[0m   File \"<frozen importlib._bootstrap>\", line 1027 in _find_and_load\n",
      "\u001B[2m\u001B[36m(launch_and_get_parameters pid=24616)\u001B[0m   File \"D:\\FD\\venv\\lib\\site-packages\\torchvision\\datasets\\_optical_flow.py\", line 12 in <module>\n",
      "\u001B[2m\u001B[36m(launch_and_get_parameters pid=24616)\u001B[0m   File \"<frozen importlib._bootstrap>\", line 241 in _call_with_frames_removed\n",
      "\u001B[2m\u001B[36m(launch_and_get_parameters pid=24616)\u001B[0m   File \"<frozen importlib._bootstrap_external>\", line 883 in exec_module\n",
      "\u001B[2m\u001B[36m(launch_and_get_parameters pid=24616)\u001B[0m   File \"<frozen importlib._bootstrap>\", line 688 in _load_unlocked\n",
      "\u001B[2m\u001B[36m(launch_and_get_parameters pid=24616)\u001B[0m   File \"<frozen importlib._bootstrap>\", line 1006 in _find_and_load_unlocked\n",
      "\u001B[2m\u001B[36m(launch_and_get_parameters pid=24616)\u001B[0m   File \"<frozen importlib._bootstrap>\", line 1027 in _find_and_load\n",
      "\u001B[2m\u001B[36m(launch_and_get_parameters pid=24616)\u001B[0m   File \"D:\\FD\\venv\\lib\\site-packages\\torchvision\\datasets\\__init__.py\", line 1 in <module>\n",
      "\u001B[2m\u001B[36m(launch_and_get_parameters pid=24616)\u001B[0m   File \"<frozen importlib._bootstrap>\", line 241 in _call_with_frames_removed\n",
      "\u001B[2m\u001B[36m(launch_and_get_parameters pid=24616)\u001B[0m   File \"<frozen importlib._bootstrap_external>\", line 883 in exec_module\n",
      "\u001B[2m\u001B[36m(launch_and_get_parameters pid=24616)\u001B[0m   File \"<frozen importlib._bootstrap>\", line 688 in _load_unlocked\n",
      "\u001B[2m\u001B[36m(launch_and_get_parameters pid=24616)\u001B[0m   File \"<frozen importlib._bootstrap>\", line 1006 in _find_and_load_unlocked\n",
      "\u001B[2m\u001B[36m(launch_and_get_parameters pid=24616)\u001B[0m   File \"<frozen importlib._bootstrap>\", line 1027 in _find_and_load\n",
      "\u001B[2m\u001B[36m(launch_and_get_parameters pid=24616)\u001B[0m   File \"<frozen importlib._bootstrap>\", line 241 in _call_with_frames_removed\n",
      "\u001B[2m\u001B[36m(launch_and_get_parameters pid=24616)\u001B[0m   File \"<frozen importlib._bootstrap>\", line 1078 in _handle_fromlist\n",
      "\u001B[2m\u001B[36m(launch_and_get_parameters pid=24616)\u001B[0m   File \"D:\\FD\\venv\\lib\\site-packages\\torchvision\\__init__.py\", line 6 in <module>\n",
      "\u001B[2m\u001B[36m(launch_and_get_parameters pid=24616)\u001B[0m   File \"<frozen importlib._bootstrap>\", line 241 in _call_with_frames_removed\n",
      "\u001B[2m\u001B[36m(launch_and_get_parameters pid=24616)\u001B[0m   File \"<frozen importlib._bootstrap_external>\", line 883 in exec_module\n",
      "\u001B[2m\u001B[36m(launch_and_get_parameters pid=24616)\u001B[0m   File \"<frozen importlib._bootstrap>\", line 688 in _load_unlocked\n",
      "\u001B[2m\u001B[36m(launch_and_get_parameters pid=24616)\u001B[0m   File \"<frozen importlib._bootstrap>\", line 1006 in _find_and_load_unlocked\n",
      "\u001B[2m\u001B[36m(launch_and_get_parameters pid=24616)\u001B[0m   File \"<frozen importlib._bootstrap>\", line 1027 in _find_and_load\n",
      "\u001B[2m\u001B[36m(launch_and_get_parameters pid=24616)\u001B[0m   File \"<frozen importlib._bootstrap>\", line 1050 in _gcd_import\n",
      "\u001B[2m\u001B[36m(launch_and_get_parameters pid=24616)\u001B[0m   File \"C:\\Program Files\\WindowsApps\\PythonSoftwareFoundation.Python.3.10_3.10.3056.0_x64__qbz5n2kfra8p0\\lib\\importlib\\__init__.py\", line 126 in import_module\n",
      "\u001B[2m\u001B[36m(launch_and_get_parameters pid=24616)\u001B[0m   File \"D:\\FD\\venv\\lib\\site-packages\\lightning_utilities\\core\\imports.py\", line 73 in compare_version\n",
      "\u001B[2m\u001B[36m(launch_and_get_parameters pid=24616)\u001B[0m   File \"D:\\FD\\venv\\lib\\site-packages\\torchmetrics\\utilities\\imports.py\", line 41 in <module>\n",
      "\u001B[2m\u001B[36m(launch_and_get_parameters pid=24616)\u001B[0m   File \"<frozen importlib._bootstrap>\", line 241 in _call_with_frames_removed\n",
      "\u001B[2m\u001B[36m(launch_and_get_parameters pid=24616)\u001B[0m   File \"<frozen importlib._bootstrap_external>\", line 883 in exec_module\n",
      "\u001B[2m\u001B[36m(launch_and_get_parameters pid=24616)\u001B[0m   File \"<frozen importlib._bootstrap>\", line 688 in _load_unlocked\n",
      "\u001B[2m\u001B[36m(launch_and_get_parameters pid=24616)\u001B[0m   File \"<frozen importlib._bootstrap>\", line 1006 in _find_and_load_unlocked\n",
      "\u001B[2m\u001B[36m(launch_and_get_parameters pid=24616)\u001B[0m   File \"<frozen importlib._bootstrap>\", line 1027 in _find_and_load\n",
      "\u001B[2m\u001B[36m(launch_and_get_parameters pid=24616)\u001B[0m   File \"D:\\FD\\venv\\lib\\site-packages\\torchmetrics\\utilities\\data.py\", line 22 in <module>\n",
      "\u001B[2m\u001B[36m(launch_and_get_parameters pid=24616)\u001B[0m   File \"<frozen importlib._bootstrap>\", line 241 in _call_with_frames_removed\n",
      "\u001B[2m\u001B[36m(launch_and_get_parameters pid=24616)\u001B[0m   File \"<frozen importlib._bootstrap_external>\", line 883 in exec_module\n",
      "\u001B[2m\u001B[36m(launch_and_get_parameters pid=24616)\u001B[0m   File \"<frozen importlib._bootstrap>\", line 688 in _load_unlocked\n",
      "\u001B[2m\u001B[36m(launch_and_get_parameters pid=24616)\u001B[0m   File \"<frozen importlib._bootstrap>\", line 1006 in _find_and_load_unlocked\n",
      "\u001B[2m\u001B[36m(launch_and_get_parameters pid=24616)\u001B[0m   File \"<frozen importlib._bootstrap>\", line 1027 in _find_and_load\n",
      "\u001B[2m\u001B[36m(launch_and_get_parameters pid=24616)\u001B[0m   File \"D:\\FD\\venv\\lib\\site-packages\\torchmetrics\\metric.py\", line 30 in <module>\n",
      "\u001B[2m\u001B[36m(launch_and_get_parameters pid=24616)\u001B[0m   File \"<frozen importlib._bootstrap>\", line 241 in _call_with_frames_removed\n",
      "\u001B[2m\u001B[36m(launch_and_get_parameters pid=24616)\u001B[0m   File \"<frozen importlib._bootstrap_external>\", line 883 in exec_module\n",
      "\u001B[2m\u001B[36m(launch_and_get_parameters pid=24616)\u001B[0m   File \"<frozen importlib._bootstrap>\", line 688 in _load_unlocked\n",
      "\u001B[2m\u001B[36m(launch_and_get_parameters pid=24616)\u001B[0m   File \"<frozen importlib._bootstrap>\", line 1006 in _find_and_load_unlocked\n",
      "\u001B[2m\u001B[36m(launch_and_get_parameters pid=24616)\u001B[0m   File \"<frozen importlib._bootstrap>\", line 1027 in _find_and_load\n",
      "\u001B[2m\u001B[36m(launch_and_get_parameters pid=24616)\u001B[0m   File \"D:\\FD\\venv\\lib\\site-packages\\torchmetrics\\utilities\\checks.py\", line 25 in <module>\n",
      "\u001B[2m\u001B[36m(launch_and_get_parameters pid=24616)\u001B[0m   File \"<frozen importlib._bootstrap>\", line 241 in _call_with_frames_removed\n",
      "\u001B[2m\u001B[36m(launch_and_get_parameters pid=24616)\u001B[0m   File \"<frozen importlib._bootstrap_external>\", line 883 in exec_module\n",
      "\u001B[2m\u001B[36m(launch_and_get_parameters pid=24616)\u001B[0m   File \"<frozen importlib._bootstrap>\", line 688 in _load_unlocked\n",
      "\u001B[2m\u001B[36m(launch_and_get_parameters pid=24616)\u001B[0m   File \"<frozen importlib._bootstrap>\", line 1006 in _find_and_load_unlocked\n",
      "\u001B[2m\u001B[36m(launch_and_get_parameters pid=24616)\u001B[0m   File \"<frozen importlib._bootstrap>\", line 1027 in _find_and_load\n",
      "\u001B[2m\u001B[36m(launch_and_get_parameters pid=24616)\u001B[0m   File \"D:\\FD\\venv\\lib\\site-packages\\torchmetrics\\utilities\\__init__.py\", line 14 in <module>\n",
      "\u001B[2m\u001B[36m(launch_and_get_parameters pid=24616)\u001B[0m   File \"<frozen importlib._bootstrap>\", line 241 in _call_with_frames_removed\n",
      "\u001B[2m\u001B[36m(launch_and_get_parameters pid=24616)\u001B[0m   File \"<frozen importlib._bootstrap_external>\", line 883 in exec_module\n",
      "\u001B[2m\u001B[36m(launch_and_get_parameters pid=24616)\u001B[0m   File \"<frozen importlib._bootstrap>\", line 688 in _load_unlocked\n",
      "\u001B[2m\u001B[36m(launch_and_get_parameters pid=24616)\u001B[0m   File \"<frozen importlib._bootstrap>\", line 1006 in _find_and_load_unlocked\n",
      "\u001B[2m\u001B[36m(launch_and_get_parameters pid=24616)\u001B[0m   File \"<frozen importlib._bootstrap>\", line 1027 in _find_and_load\n",
      "\u001B[2m\u001B[36m(launch_and_get_parameters pid=24616)\u001B[0m   File \"D:\\FD\\venv\\lib\\site-packages\\torchmetrics\\functional\\audio\\pit.py\", line 23 in <module>\n",
      "\u001B[2m\u001B[36m(launch_and_get_parameters pid=24616)\u001B[0m   File \"<frozen importlib._bootstrap>\", line 241 in _call_with_frames_removed\n",
      "\u001B[2m\u001B[36m(launch_and_get_parameters pid=24616)\u001B[0m   File \"<frozen importlib._bootstrap_external>\", line 883 in exec_module\n",
      "\u001B[2m\u001B[36m(launch_and_get_parameters pid=24616)\u001B[0m   File \"<frozen importlib._bootstrap>\", line 688 in _load_unlocked\n",
      "\u001B[2m\u001B[36m(launch_and_get_parameters pid=24616)\u001B[0m   File \"<frozen importlib._bootstrap>\", line 1006 in _find_and_load_unlocked\n",
      "\u001B[2m\u001B[36m(launch_and_get_parameters pid=24616)\u001B[0m   File \"<frozen importlib._bootstrap>\", line 1027 in _find_and_load\n",
      "\u001B[2m\u001B[36m(launch_and_get_parameters pid=24616)\u001B[0m   File \"D:\\FD\\venv\\lib\\site-packages\\torchmetrics\\functional\\audio\\__init__.py\", line 14 in <module>\n",
      "\u001B[2m\u001B[36m(launch_and_get_parameters pid=24616)\u001B[0m   File \"<frozen importlib._bootstrap>\", line 241 in _call_with_frames_removed\n",
      "\u001B[2m\u001B[36m(launch_and_get_parameters pid=24616)\u001B[0m   File \"<frozen importlib._bootstrap_external>\", line 883 in exec_module\n",
      "\u001B[2m\u001B[36m(launch_and_get_parameters pid=24616)\u001B[0m   File \"<frozen importlib._bootstrap>\", line 688 in _load_unlocked\n",
      "\u001B[2m\u001B[36m(launch_and_get_parameters pid=24616)\u001B[0m   File \"<frozen importlib._bootstrap>\", line 1006 in _find_and_load_unlocked\n",
      "\u001B[2m\u001B[36m(launch_and_get_parameters pid=24616)\u001B[0m   File \"<frozen importlib._bootstrap>\", line 1027 in _find_and_load\n",
      "\u001B[2m\u001B[36m(launch_and_get_parameters pid=24616)\u001B[0m   File \"<frozen importlib._bootstrap>\", line 241 in _call_with_frames_removed\n",
      "\u001B[2m\u001B[36m(launch_and_get_parameters pid=24616)\u001B[0m   File \"<frozen importlib._bootstrap>\", line 992 in _find_and_load_unlocked\n",
      "\u001B[2m\u001B[36m(launch_and_get_parameters pid=24616)\u001B[0m   File \"<frozen importlib._bootstrap>\", line 1027 in _find_and_load\n",
      "\u001B[2m\u001B[36m(launch_and_get_parameters pid=24616)\u001B[0m   File \"D:\\FD\\venv\\lib\\site-packages\\torchmetrics\\functional\\__init__.py\", line 14 in <module>\n",
      "\u001B[2m\u001B[36m(launch_and_get_parameters pid=24616)\u001B[0m   File \"<frozen importlib._bootstrap>\", line 241 in _call_with_frames_removed\n",
      "\u001B[2m\u001B[36m(launch_and_get_parameters pid=24616)\u001B[0m   File \"<frozen importlib._bootstrap_external>\", line 883 in exec_module\n",
      "\u001B[2m\u001B[36m(launch_and_get_parameters pid=24616)\u001B[0m   File \"<frozen importlib._bootstrap>\", line 688 in _load_unlocked\n",
      "\u001B[2m\u001B[36m(launch_and_get_parameters pid=24616)\u001B[0m   File \"<frozen importlib._bootstrap>\", line 1006 in _find_and_load_unlocked\n",
      "\u001B[2m\u001B[36m(launch_and_get_parameters pid=24616)\u001B[0m   File \"<frozen importlib._bootstrap>\", line 1027 in _find_and_load\n",
      "\u001B[2m\u001B[36m(launch_and_get_parameters pid=24616)\u001B[0m   File \"<frozen importlib._bootstrap>\", line 241 in _call_with_frames_removed\n",
      "\u001B[2m\u001B[36m(launch_and_get_parameters pid=24616)\u001B[0m   File \"<frozen importlib._bootstrap>\", line 1078 in _handle_fromlist\n",
      "\u001B[2m\u001B[36m(launch_and_get_parameters pid=24616)\u001B[0m   File \"D:\\FD\\venv\\lib\\site-packages\\torchmetrics\\__init__.py\", line 14 in <module>\n",
      "\u001B[2m\u001B[36m(launch_and_get_parameters pid=24616)\u001B[0m   ...\n",
      "\u001B[2m\u001B[36m(launch_and_get_parameters pid=24616)\u001B[0m Windows fatal exception: code 0xc0000139\n",
      "\u001B[2m\u001B[36m(launch_and_get_parameters pid=24616)\u001B[0m \n",
      "\u001B[2m\u001B[36m(launch_and_get_parameters pid=24616)\u001B[0m D:\\FD\\venv\\lib\\site-packages\\torchvision\\io\\image.py:13: UserWarning: Failed to load image Python extension: '[WinError 127] 找不到指定的程序。'If you don't plan on using image functionality from `torchvision.io`, you can ignore this warning. Otherwise, there might be something wrong with your environment. Did you have `libjpeg` or `libpng` installed before building `torchvision` from source?\n",
      "\u001B[2m\u001B[36m(launch_and_get_parameters pid=24616)\u001B[0m   warn(\n"
     ]
    },
    {
     "name": "stdout",
     "output_type": "stream",
     "text": [
      "\u001B[2m\u001B[36m(launch_and_get_parameters pid=24616)\u001B[0m binary client\n"
     ]
    },
    {
     "name": "stderr",
     "output_type": "stream",
     "text": [
      "INFO flwr 2023-09-03 12:25:54,607 | fl_server.py:292 | Received initial parameters from one random client\n",
      "INFO flwr 2023-09-03 12:25:54,608 | fl_server.py:84 | Evaluating initial parameters\n"
     ]
    },
    {
     "name": "stdout",
     "output_type": "stream",
     "text": [
      "serverside task_type binary\n"
     ]
    },
    {
     "name": "stderr",
     "output_type": "stream",
     "text": [
      "INFO flwr 2023-09-03 12:26:13,170 | fl_server.py:87 | initial parameters (loss, other metrics): 0.22328693, {'auc': 0.6999901381801584}\n",
      "INFO flwr 2023-09-03 12:26:13,171 | fl_server.py:97 | FL starting\n",
      "DEBUG flwr 2023-09-03 12:26:13,172 | fl_server.py:226 | fit_round 1: strategy sampled 2 clients (out of 3)\n"
     ]
    },
    {
     "name": "stdout",
     "output_type": "stream",
     "text": [
      "testset mse 0.2232869267463684 and auc 0.6999901381801584\n",
      "Evaluation on the server: test_mse=0.2233, test_auc=0.7000\n",
      "Configuring round 1\n",
      "\u001B[2m\u001B[36m(launch_and_fit pid=24616)\u001B[0m binary client\n",
      "\u001B[2m\u001B[36m(launch_and_fit pid=24616)\u001B[0m Client 2 aggregated_trees length 2\n",
      "\u001B[2m\u001B[36m(launch_and_fit pid=24616)\u001B[0m Client 2: only had its own tree\n"
     ]
    },
    {
     "name": "stderr",
     "output_type": "stream",
     "text": [
      "\u001B[2m\u001B[36m(launch_and_fit pid=27084)\u001B[0m Windows fatal exception: code 0xc0000139\u001B[32m [repeated 2x across cluster]\u001B[0m\n",
      "\u001B[2m\u001B[36m(launch_and_fit pid=27084)\u001B[0m \u001B[32m [repeated 2x across cluster]\u001B[0m\n",
      "\u001B[2m\u001B[36m(launch_and_fit pid=27084)\u001B[0m   warn(\n",
      "\u001B[2m\u001B[36m(launch_and_fit pid=27084)\u001B[0m   warn(\n",
      "\u001B[2m\u001B[36m(launch_and_fit pid=27084)\u001B[0m   warn(\n",
      "\u001B[2m\u001B[36m(launch_and_fit pid=27084)\u001B[0m   warn(\n",
      "\u001B[2m\u001B[36m(launch_and_fit pid=27084)\u001B[0m   File \"<frozen importlib._bootstrap>\", line 241 in _call_with_frames_removed\u001B[32m [repeated 18x across cluster]\u001B[0m\n",
      "\u001B[2m\u001B[36m(launch_and_fit pid=27084)\u001B[0m   File \"<frozen importlib._bootstrap_external>\", line 883 in exec_module\u001B[32m [repeated 14x across cluster]\u001B[0m\n",
      "\u001B[2m\u001B[36m(launch_and_fit pid=27084)\u001B[0m   File \"<frozen importlib._bootstrap>\", line 688 in _load_unlocked\u001B[32m [repeated 14x across cluster]\u001B[0m\n",
      "\u001B[2m\u001B[36m(launch_and_fit pid=27084)\u001B[0m   File \"<frozen importlib._bootstrap>\", line 1006 in _find_and_load_unlocked\u001B[32m [repeated 16x across cluster]\u001B[0m\n",
      "\u001B[2m\u001B[36m(launch_and_fit pid=27084)\u001B[0m   File \"<frozen importlib._bootstrap>\", line 1027 in _find_and_load\u001B[32m [repeated 16x across cluster]\u001B[0m\n",
      "\u001B[2m\u001B[36m(launch_and_fit pid=27084)\u001B[0m   warn(\n",
      "\u001B[2m\u001B[36m(launch_and_fit pid=27084)\u001B[0m   warn(\n",
      "\u001B[2m\u001B[36m(launch_and_fit pid=27084)\u001B[0m   warn(\n",
      "\u001B[2m\u001B[36m(launch_and_fit pid=27084)\u001B[0m   warn(\n",
      "\u001B[2m\u001B[36m(launch_and_fit pid=27084)\u001B[0m   File \"<frozen importlib._bootstrap>\", line 1078 in _handle_fromlist\u001B[32m [repeated 2x across cluster]\u001B[0m\n",
      "\u001B[2m\u001B[36m(launch_and_fit pid=27084)\u001B[0m   warn(\n",
      "\u001B[2m\u001B[36m(launch_and_fit pid=27084)\u001B[0m   warn(\n",
      "\u001B[2m\u001B[36m(launch_and_fit pid=27084)\u001B[0m   warn(\n",
      "\u001B[2m\u001B[36m(launch_and_fit pid=27084)\u001B[0m   warn(\n",
      "\u001B[2m\u001B[36m(launch_and_fit pid=27084)\u001B[0m   warn(\n",
      "\u001B[2m\u001B[36m(launch_and_fit pid=27084)\u001B[0m   warn(\n",
      "\u001B[2m\u001B[36m(launch_and_fit pid=27084)\u001B[0m   warn(\n",
      "\u001B[2m\u001B[36m(launch_and_fit pid=27084)\u001B[0m   warn(\n",
      "\u001B[2m\u001B[36m(launch_and_fit pid=27084)\u001B[0m   warn(\n",
      "\u001B[2m\u001B[36m(launch_and_fit pid=27084)\u001B[0m   warn(\n",
      "\u001B[2m\u001B[36m(launch_and_fit pid=27084)\u001B[0m   warn(\n",
      "\u001B[2m\u001B[36m(launch_and_fit pid=27084)\u001B[0m   warn(\n",
      "\u001B[2m\u001B[36m(launch_and_fit pid=27084)\u001B[0m   warn(\n",
      "\u001B[2m\u001B[36m(launch_and_fit pid=27084)\u001B[0m   warn(\n",
      "\u001B[2m\u001B[36m(launch_and_fit pid=27084)\u001B[0m   warn(\n",
      "\u001B[2m\u001B[36m(launch_and_fit pid=27084)\u001B[0m   warn(\n"
     ]
    },
    {
     "name": "stdout",
     "output_type": "stream",
     "text": [
      "\u001B[2m\u001B[36m(launch_and_fit pid=27084)\u001B[0m binary client\n",
      "\u001B[2m\u001B[36m(launch_and_fit pid=27084)\u001B[0m Client 0: only had its own tree\n",
      "\u001B[2m\u001B[36m(launch_and_fit pid=27084)\u001B[0m Client 0: only had its own tree\n"
     ]
    },
    {
     "name": "stderr",
     "output_type": "stream",
     "text": [
      "\u001B[2m\u001B[36m(launch_and_fit pid=24616)\u001B[0m D:\\FD\\clients\\xgb_client.py:238: UserWarning: To copy construct from a tensor, it is recommended to use sourceTensor.clone().detach() or sourceTensor.clone().detach().requires_grad_(True), rather than torch.tensor(sourceTensor).\n",
      "\u001B[2m\u001B[36m(launch_and_fit pid=24616)\u001B[0m   y_test = torch.cat((torch.tensor(y_test), torch.tensor(labels)), dim=0)\n",
      "\u001B[2m\u001B[36m(launch_and_fit pid=24616)\u001B[0m D:\\FD\\clients\\xgb_client.py:239: UserWarning: To copy construct from a tensor, it is recommended to use sourceTensor.clone().detach() or sourceTensor.clone().detach().requires_grad_(True), rather than torch.tensor(sourceTensor).\n",
      "\u001B[2m\u001B[36m(launch_and_fit pid=24616)\u001B[0m   y_pred = torch.cat((torch.tensor(y_pred), torch.tensor(outputs)), dim=0)\n"
     ]
    },
    {
     "name": "stdout",
     "output_type": "stream",
     "text": [
      "\u001B[2m\u001B[36m(launch_and_fit pid=24616)\u001B[0m Client 2: training for 2 iterations/updates\n"
     ]
    },
    {
     "name": "stderr",
     "output_type": "stream",
     "text": [
      "DEBUG flwr 2023-09-03 12:27:02,135 | fl_server.py:241 | fit_round 1 received 2 results and 0 failures\n",
      "WARNING flwr 2023-09-03 12:27:02,139 | fedxgb_nn_avg.py:88 | No fit_metrics_aggregation_fn provided\n",
      "\u001B[2m\u001B[36m(launch_and_fit pid=27084)\u001B[0m D:\\FD\\clients\\xgb_client.py:239: UserWarning: To copy construct from a tensor, it is recommended to use sourceTensor.clone().detach() or sourceTensor.clone().detach().requires_grad_(True), rather than torch.tensor(sourceTensor).\u001B[32m [repeated 2x across cluster]\u001B[0m\n",
      "\u001B[2m\u001B[36m(launch_and_fit pid=27084)\u001B[0m   y_pred = torch.cat((torch.tensor(y_pred), torch.tensor(outputs)), dim=0)\n",
      "\u001B[2m\u001B[36m(launch_and_fit pid=27084)\u001B[0m   y_pred = torch.cat((torch.tensor(y_pred), torch.tensor(outputs)), dim=0)\n"
     ]
    },
    {
     "name": "stdout",
     "output_type": "stream",
     "text": [
      "Server side aggregated 2 trees.\n",
      "serverside task_type binary\n",
      "\u001B[2m\u001B[36m(launch_and_fit pid=27084)\u001B[0m Client 0: training for 2 iterations/updates\n"
     ]
    },
    {
     "name": "stderr",
     "output_type": "stream",
     "text": [
      "INFO flwr 2023-09-03 12:27:19,774 | fl_server.py:112 | fit progress: (1, 0.16690068, {'auc': 0.8548993211121796}, 66.60170100000687)\n",
      "INFO flwr 2023-09-03 12:27:19,775 | fl_server.py:159 | evaluate_round 1: no clients selected, cancel\n",
      "DEBUG flwr 2023-09-03 12:27:19,775 | fl_server.py:226 | fit_round 2: strategy sampled 2 clients (out of 3)\n"
     ]
    },
    {
     "name": "stdout",
     "output_type": "stream",
     "text": [
      "testset mse 0.16690067946910858 and auc 0.8548993211121796\n",
      "Evaluation on the server: test_mse=0.1669, test_auc=0.8549\n",
      "Configuring round 2\n",
      "\u001B[2m\u001B[36m(launch_and_fit pid=24616)\u001B[0m binary client\n",
      "\u001B[2m\u001B[36m(launch_and_fit pid=24616)\u001B[0m Client 1 aggregated_trees length 2\n",
      "\u001B[2m\u001B[36m(launch_and_fit pid=24616)\u001B[0m Client 1: recieved 2 trees\n"
     ]
    },
    {
     "name": "stderr",
     "output_type": "stream",
     "text": [
      "DEBUG flwr 2023-09-03 12:27:45,525 | fl_server.py:241 | fit_round 2 received 2 results and 0 failures\n"
     ]
    },
    {
     "name": "stdout",
     "output_type": "stream",
     "text": [
      "\u001B[2m\u001B[36m(launch_and_fit pid=24616)\u001B[0m Client 1: training for 2 iterations/updates\n",
      "\u001B[2m\u001B[36m(launch_and_fit pid=27084)\u001B[0m Client 1: training for 2 iterations/updates\n",
      "\u001B[2m\u001B[36m(launch_and_fit pid=27084)\u001B[0m Client 1: training for 2 iterations/updates\n",
      "\u001B[2m\u001B[36m(launch_and_fit pid=27084)\u001B[0m Client 1: training for 2 iterations/updates\n",
      "Server side aggregated 2 trees.\n",
      "serverside task_type binary\n"
     ]
    },
    {
     "name": "stderr",
     "output_type": "stream",
     "text": [
      "INFO flwr 2023-09-03 12:28:02,735 | fl_server.py:112 | fit progress: (2, 0.12675773, {'auc': 0.8567779372463449}, 109.56338510000205)\n",
      "INFO flwr 2023-09-03 12:28:02,737 | fl_server.py:159 | evaluate_round 2: no clients selected, cancel\n",
      "DEBUG flwr 2023-09-03 12:28:02,737 | fl_server.py:226 | fit_round 3: strategy sampled 2 clients (out of 3)\n"
     ]
    },
    {
     "name": "stdout",
     "output_type": "stream",
     "text": [
      "testset mse 0.12675772607326508 and auc 0.8567779372463449\n",
      "Evaluation on the server: test_mse=0.1268, test_auc=0.8568\n",
      "Configuring round 3\n",
      "\u001B[2m\u001B[36m(launch_and_fit pid=24616)\u001B[0m binary client\n",
      "\u001B[2m\u001B[36m(launch_and_fit pid=27084)\u001B[0m binary client\n",
      "\u001B[2m\u001B[36m(launch_and_fit pid=27084)\u001B[0m Client 1 aggregated_trees length 2\n",
      "\u001B[2m\u001B[36m(launch_and_fit pid=27084)\u001B[0m Client 1: recieved 2 trees\n",
      "\u001B[2m\u001B[36m(launch_and_fit pid=27084)\u001B[0m Client 0: recieved 2 trees\n",
      "\u001B[2m\u001B[36m(launch_and_fit pid=24616)\u001B[0m Client 0: recieved 2 trees\n",
      "\u001B[2m\u001B[36m(launch_and_fit pid=24616)\u001B[0m Client 0: recieved 2 trees\n",
      "\u001B[2m\u001B[36m(launch_and_fit pid=27084)\u001B[0m Client 1: training for 2 iterations/updates\n"
     ]
    },
    {
     "name": "stderr",
     "output_type": "stream",
     "text": [
      "DEBUG flwr 2023-09-03 12:28:45,404 | fl_server.py:241 | fit_round 3 received 2 results and 0 failures\n"
     ]
    },
    {
     "name": "stdout",
     "output_type": "stream",
     "text": [
      "\u001B[2m\u001B[36m(launch_and_fit pid=24616)\u001B[0m Client 0: training for 2 iterations/updates\n",
      "Server side aggregated 2 trees.\n",
      "serverside task_type binary\n"
     ]
    },
    {
     "name": "stderr",
     "output_type": "stream",
     "text": [
      "INFO flwr 2023-09-03 12:29:02,892 | fl_server.py:112 | fit progress: (3, 0.09689903, {'auc': 0.8590142001658096}, 169.72081919999619)\n",
      "INFO flwr 2023-09-03 12:29:02,893 | fl_server.py:159 | evaluate_round 3: no clients selected, cancel\n",
      "DEBUG flwr 2023-09-03 12:29:02,894 | fl_server.py:226 | fit_round 4: strategy sampled 2 clients (out of 3)\n"
     ]
    },
    {
     "name": "stdout",
     "output_type": "stream",
     "text": [
      "testset mse 0.09689903259277344 and auc 0.8590142001658096\n",
      "Evaluation on the server: test_mse=0.0969, test_auc=0.8590\n",
      "Configuring round 4\n",
      "\u001B[2m\u001B[36m(launch_and_fit pid=24616)\u001B[0m binary client\n",
      "\u001B[2m\u001B[36m(launch_and_fit pid=24616)\u001B[0m Client 1 aggregated_trees length 2\n",
      "\u001B[2m\u001B[36m(launch_and_fit pid=24616)\u001B[0m Client 1: recieved 2 trees\n",
      "\u001B[2m\u001B[36m(launch_and_fit pid=27084)\u001B[0m Client 0: recieved 2 trees\n",
      "\u001B[2m\u001B[36m(launch_and_fit pid=27084)\u001B[0m Client 0: recieved 2 trees\n",
      "\u001B[2m\u001B[36m(launch_and_fit pid=27084)\u001B[0m Client 0: recieved 2 trees\n",
      "\u001B[2m\u001B[36m(launch_and_fit pid=24616)\u001B[0m Client 1: training for 2 iterations/updates\n"
     ]
    },
    {
     "name": "stderr",
     "output_type": "stream",
     "text": [
      "DEBUG flwr 2023-09-03 12:29:45,868 | fl_server.py:241 | fit_round 4 received 2 results and 0 failures\n"
     ]
    },
    {
     "name": "stdout",
     "output_type": "stream",
     "text": [
      "\u001B[2m\u001B[36m(launch_and_fit pid=27084)\u001B[0m Client 0: training for 2 iterations/updates\n",
      "Server side aggregated 2 trees.\n",
      "serverside task_type binary\n"
     ]
    },
    {
     "name": "stderr",
     "output_type": "stream",
     "text": [
      "INFO flwr 2023-09-03 12:30:03,563 | fl_server.py:112 | fit progress: (4, 0.07467059, {'auc': 0.8589980932390369}, 230.39124140000786)\n",
      "INFO flwr 2023-09-03 12:30:03,564 | fl_server.py:159 | evaluate_round 4: no clients selected, cancel\n",
      "DEBUG flwr 2023-09-03 12:30:03,565 | fl_server.py:226 | fit_round 5: strategy sampled 2 clients (out of 3)\n"
     ]
    },
    {
     "name": "stdout",
     "output_type": "stream",
     "text": [
      "testset mse 0.07467059046030045 and auc 0.8589980932390369\n",
      "Evaluation on the server: test_mse=0.0747, test_auc=0.8590\n",
      "Configuring round 5\n",
      "\u001B[2m\u001B[36m(launch_and_fit pid=24616)\u001B[0m binary client\n",
      "\u001B[2m\u001B[36m(launch_and_fit pid=24616)\u001B[0m Client 2 aggregated_trees length 2\n",
      "\u001B[2m\u001B[36m(launch_and_fit pid=24616)\u001B[0m Client 2: recieved 2 trees\n",
      "\u001B[2m\u001B[36m(launch_and_fit pid=24616)\u001B[0m Client 2: training for 2 iterations/updates\n",
      "\u001B[2m\u001B[36m(launch_and_fit pid=27084)\u001B[0m Client 2: training for 2 iterations/updates\n",
      "\u001B[2m\u001B[36m(launch_and_fit pid=27084)\u001B[0m Client 2: training for 2 iterations/updates\n",
      "\u001B[2m\u001B[36m(launch_and_fit pid=27084)\u001B[0m Client 2: training for 2 iterations/updates\n"
     ]
    },
    {
     "name": "stderr",
     "output_type": "stream",
     "text": [
      "DEBUG flwr 2023-09-03 12:30:29,206 | fl_server.py:241 | fit_round 5 received 2 results and 0 failures\n"
     ]
    },
    {
     "name": "stdout",
     "output_type": "stream",
     "text": [
      "Server side aggregated 2 trees.\n",
      "serverside task_type binary\n"
     ]
    },
    {
     "name": "stderr",
     "output_type": "stream",
     "text": [
      "INFO flwr 2023-09-03 12:30:47,530 | fl_server.py:112 | fit progress: (5, 0.060320858, {'auc': 0.8571673170814056}, 274.35828780000156)\n",
      "INFO flwr 2023-09-03 12:30:47,531 | fl_server.py:159 | evaluate_round 5: no clients selected, cancel\n",
      "DEBUG flwr 2023-09-03 12:30:47,532 | fl_server.py:226 | fit_round 6: strategy sampled 2 clients (out of 3)\n"
     ]
    },
    {
     "name": "stdout",
     "output_type": "stream",
     "text": [
      "testset mse 0.06032085791230202 and auc 0.8571673170814056\n",
      "Evaluation on the server: test_mse=0.0603, test_auc=0.8572\n",
      "Configuring round 6\n",
      "\u001B[2m\u001B[36m(launch_and_fit pid=24616)\u001B[0m binary client\n",
      "\u001B[2m\u001B[36m(launch_and_fit pid=27084)\u001B[0m binary client\n",
      "\u001B[2m\u001B[36m(launch_and_fit pid=24616)\u001B[0m Client 2 aggregated_trees length 2\n",
      "\u001B[2m\u001B[36m(launch_and_fit pid=24616)\u001B[0m Client 2: recieved 2 trees\n",
      "\u001B[2m\u001B[36m(launch_and_fit pid=27084)\u001B[0m Client 0: recieved 2 trees\n",
      "\u001B[2m\u001B[36m(launch_and_fit pid=27084)\u001B[0m Client 0: recieved 2 trees\n",
      "\u001B[2m\u001B[36m(launch_and_fit pid=27084)\u001B[0m Client 0: recieved 2 trees\n",
      "\u001B[2m\u001B[36m(launch_and_fit pid=24616)\u001B[0m Client 2: training for 2 iterations/updates\n"
     ]
    },
    {
     "name": "stderr",
     "output_type": "stream",
     "text": [
      "DEBUG flwr 2023-09-03 12:31:30,710 | fl_server.py:241 | fit_round 6 received 2 results and 0 failures\n"
     ]
    },
    {
     "name": "stdout",
     "output_type": "stream",
     "text": [
      "Server side aggregated 2 trees.\n",
      "serverside task_type binary\n",
      "\u001B[2m\u001B[36m(launch_and_fit pid=27084)\u001B[0m Client 0: training for 2 iterations/updates\n"
     ]
    },
    {
     "name": "stderr",
     "output_type": "stream",
     "text": [
      "INFO flwr 2023-09-03 12:31:49,069 | fl_server.py:112 | fit progress: (6, 0.054523684, {'auc': 0.8618898341768295}, 335.89773630000127)\n",
      "INFO flwr 2023-09-03 12:31:49,070 | fl_server.py:159 | evaluate_round 6: no clients selected, cancel\n",
      "DEBUG flwr 2023-09-03 12:31:49,071 | fl_server.py:226 | fit_round 7: strategy sampled 2 clients (out of 3)\n"
     ]
    },
    {
     "name": "stdout",
     "output_type": "stream",
     "text": [
      "testset mse 0.054523684084415436 and auc 0.8618898341768295\n",
      "Evaluation on the server: test_mse=0.0545, test_auc=0.8619\n",
      "Configuring round 7\n",
      "\u001B[2m\u001B[36m(launch_and_fit pid=24616)\u001B[0m binary client\n",
      "\u001B[2m\u001B[36m(launch_and_fit pid=24616)\u001B[0m Client 2 aggregated_trees length 2\n",
      "\u001B[2m\u001B[36m(launch_and_fit pid=24616)\u001B[0m Client 2: recieved 2 trees\n",
      "\u001B[2m\u001B[36m(launch_and_fit pid=27084)\u001B[0m Client 0: recieved 2 trees\n",
      "\u001B[2m\u001B[36m(launch_and_fit pid=27084)\u001B[0m Client 0: recieved 2 trees\n",
      "\u001B[2m\u001B[36m(launch_and_fit pid=27084)\u001B[0m Client 0: recieved 2 trees\n",
      "\u001B[2m\u001B[36m(launch_and_fit pid=24616)\u001B[0m Client 2: training for 2 iterations/updates\n"
     ]
    },
    {
     "name": "stderr",
     "output_type": "stream",
     "text": [
      "DEBUG flwr 2023-09-03 12:32:34,976 | fl_server.py:241 | fit_round 7 received 2 results and 0 failures\n"
     ]
    },
    {
     "name": "stdout",
     "output_type": "stream",
     "text": [
      "Server side aggregated 2 trees.\n",
      "serverside task_type binary\n",
      "\u001B[2m\u001B[36m(launch_and_fit pid=27084)\u001B[0m Client 0: training for 2 iterations/updates\n"
     ]
    },
    {
     "name": "stderr",
     "output_type": "stream",
     "text": [
      "INFO flwr 2023-09-03 12:32:52,669 | fl_server.py:112 | fit progress: (7, 0.052288257, {'auc': 0.8587254151669448}, 399.4971846999979)\n",
      "INFO flwr 2023-09-03 12:32:52,670 | fl_server.py:159 | evaluate_round 7: no clients selected, cancel\n",
      "DEBUG flwr 2023-09-03 12:32:52,671 | fl_server.py:226 | fit_round 8: strategy sampled 2 clients (out of 3)\n"
     ]
    },
    {
     "name": "stdout",
     "output_type": "stream",
     "text": [
      "testset mse 0.05228825658559799 and auc 0.8587254151669448\n",
      "Evaluation on the server: test_mse=0.0523, test_auc=0.8587\n",
      "Configuring round 8\n",
      "\u001B[2m\u001B[36m(launch_and_fit pid=24616)\u001B[0m binary client\n",
      "\u001B[2m\u001B[36m(launch_and_fit pid=24616)\u001B[0m Client 2 aggregated_trees length 2\n",
      "\u001B[2m\u001B[36m(launch_and_fit pid=24616)\u001B[0m Client 2: recieved 2 trees\n",
      "\u001B[2m\u001B[36m(launch_and_fit pid=27084)\u001B[0m Client 0: recieved 2 trees\n",
      "\u001B[2m\u001B[36m(launch_and_fit pid=27084)\u001B[0m Client 0: recieved 2 trees\n",
      "\u001B[2m\u001B[36m(launch_and_fit pid=27084)\u001B[0m Client 0: recieved 2 trees\n",
      "\u001B[2m\u001B[36m(launch_and_fit pid=24616)\u001B[0m Client 2: training for 2 iterations/updates\n"
     ]
    },
    {
     "name": "stderr",
     "output_type": "stream",
     "text": [
      "DEBUG flwr 2023-09-03 12:33:35,741 | fl_server.py:241 | fit_round 8 received 2 results and 0 failures\n"
     ]
    },
    {
     "name": "stdout",
     "output_type": "stream",
     "text": [
      "Server side aggregated 2 trees.\n",
      "serverside task_type binary\n",
      "\u001B[2m\u001B[36m(launch_and_fit pid=27084)\u001B[0m Client 0: training for 2 iterations/updates\n"
     ]
    },
    {
     "name": "stderr",
     "output_type": "stream",
     "text": [
      "INFO flwr 2023-09-03 12:33:53,709 | fl_server.py:112 | fit progress: (8, 0.051960465, {'auc': 0.8576741287888852}, 460.5372792999988)\n",
      "INFO flwr 2023-09-03 12:33:53,711 | fl_server.py:159 | evaluate_round 8: no clients selected, cancel\n",
      "DEBUG flwr 2023-09-03 12:33:53,712 | fl_server.py:226 | fit_round 9: strategy sampled 2 clients (out of 3)\n"
     ]
    },
    {
     "name": "stdout",
     "output_type": "stream",
     "text": [
      "testset mse 0.05196046456694603 and auc 0.8576741287888852\n",
      "Evaluation on the server: test_mse=0.0520, test_auc=0.8577\n",
      "Configuring round 9\n",
      "\u001B[2m\u001B[36m(launch_and_fit pid=24616)\u001B[0m binary client\n",
      "\u001B[2m\u001B[36m(launch_and_fit pid=24616)\u001B[0m Client 1 aggregated_trees length 2\n",
      "\u001B[2m\u001B[36m(launch_and_fit pid=24616)\u001B[0m Client 1: recieved 2 trees\n",
      "\u001B[2m\u001B[36m(launch_and_fit pid=27084)\u001B[0m Client 0: recieved 2 trees\n",
      "\u001B[2m\u001B[36m(launch_and_fit pid=27084)\u001B[0m Client 0: recieved 2 trees\n",
      "\u001B[2m\u001B[36m(launch_and_fit pid=27084)\u001B[0m Client 0: recieved 2 trees\n",
      "\u001B[2m\u001B[36m(launch_and_fit pid=24616)\u001B[0m Client 1: training for 2 iterations/updates\n"
     ]
    },
    {
     "name": "stderr",
     "output_type": "stream",
     "text": [
      "DEBUG flwr 2023-09-03 12:34:36,302 | fl_server.py:241 | fit_round 9 received 2 results and 0 failures\n"
     ]
    },
    {
     "name": "stdout",
     "output_type": "stream",
     "text": [
      "Server side aggregated 2 trees.\n",
      "serverside task_type binary\n",
      "\u001B[2m\u001B[36m(launch_and_fit pid=27084)\u001B[0m Client 0: training for 2 iterations/updates\n"
     ]
    },
    {
     "name": "stderr",
     "output_type": "stream",
     "text": [
      "INFO flwr 2023-09-03 12:34:53,783 | fl_server.py:112 | fit progress: (9, 0.05176122, {'auc': 0.8607508278194637}, 520.6114687000081)\n",
      "INFO flwr 2023-09-03 12:34:53,784 | fl_server.py:159 | evaluate_round 9: no clients selected, cancel\n",
      "DEBUG flwr 2023-09-03 12:34:53,785 | fl_server.py:226 | fit_round 10: strategy sampled 2 clients (out of 3)\n"
     ]
    },
    {
     "name": "stdout",
     "output_type": "stream",
     "text": [
      "testset mse 0.05176122114062309 and auc 0.8607508278194637\n",
      "Evaluation on the server: test_mse=0.0518, test_auc=0.8608\n",
      "Configuring round 10\n",
      "\u001B[2m\u001B[36m(launch_and_fit pid=24616)\u001B[0m binary client\n",
      "\u001B[2m\u001B[36m(launch_and_fit pid=24616)\u001B[0m Client 1 aggregated_trees length 2\n",
      "\u001B[2m\u001B[36m(launch_and_fit pid=24616)\u001B[0m Client 1: recieved 2 trees\n",
      "\u001B[2m\u001B[36m(launch_and_fit pid=27084)\u001B[0m Client 0: recieved 2 trees\n",
      "\u001B[2m\u001B[36m(launch_and_fit pid=27084)\u001B[0m Client 0: recieved 2 trees\n",
      "\u001B[2m\u001B[36m(launch_and_fit pid=27084)\u001B[0m Client 0: recieved 2 trees\n",
      "\u001B[2m\u001B[36m(launch_and_fit pid=24616)\u001B[0m Client 1: training for 2 iterations/updates\n"
     ]
    },
    {
     "name": "stderr",
     "output_type": "stream",
     "text": [
      "DEBUG flwr 2023-09-03 12:35:36,616 | fl_server.py:241 | fit_round 10 received 2 results and 0 failures\n"
     ]
    },
    {
     "name": "stdout",
     "output_type": "stream",
     "text": [
      "Server side aggregated 2 trees.\n",
      "serverside task_type binary\n",
      "\u001B[2m\u001B[36m(launch_and_fit pid=27084)\u001B[0m Client 0: training for 2 iterations/updates\n"
     ]
    },
    {
     "name": "stderr",
     "output_type": "stream",
     "text": [
      "INFO flwr 2023-09-03 12:35:54,637 | fl_server.py:112 | fit progress: (10, 0.05143641, {'auc': 0.8585190345944377}, 581.4654625999974)\n",
      "INFO flwr 2023-09-03 12:35:54,639 | fl_server.py:159 | evaluate_round 10: no clients selected, cancel\n",
      "DEBUG flwr 2023-09-03 12:35:54,640 | fl_server.py:226 | fit_round 11: strategy sampled 2 clients (out of 3)\n"
     ]
    },
    {
     "name": "stdout",
     "output_type": "stream",
     "text": [
      "testset mse 0.0514364093542099 and auc 0.8585190345944377\n",
      "Evaluation on the server: test_mse=0.0514, test_auc=0.8585\n",
      "Configuring round 11\n",
      "\u001B[2m\u001B[36m(launch_and_fit pid=24616)\u001B[0m binary client\n",
      "\u001B[2m\u001B[36m(launch_and_fit pid=24616)\u001B[0m Client 2 aggregated_trees length 2\n",
      "\u001B[2m\u001B[36m(launch_and_fit pid=24616)\u001B[0m Client 2: recieved 2 trees\n"
     ]
    },
    {
     "name": "stderr",
     "output_type": "stream",
     "text": [
      "DEBUG flwr 2023-09-03 12:36:20,177 | fl_server.py:241 | fit_round 11 received 2 results and 0 failures\n"
     ]
    },
    {
     "name": "stdout",
     "output_type": "stream",
     "text": [
      "\u001B[2m\u001B[36m(launch_and_fit pid=24616)\u001B[0m Client 2: training for 2 iterations/updates\n",
      "\u001B[2m\u001B[36m(launch_and_fit pid=27084)\u001B[0m Client 2: training for 2 iterations/updates\n",
      "\u001B[2m\u001B[36m(launch_and_fit pid=27084)\u001B[0m Client 2: training for 2 iterations/updates\n",
      "\u001B[2m\u001B[36m(launch_and_fit pid=27084)\u001B[0m Client 2: training for 2 iterations/updates\n",
      "Server side aggregated 2 trees.\n",
      "serverside task_type binary\n"
     ]
    },
    {
     "name": "stderr",
     "output_type": "stream",
     "text": [
      "INFO flwr 2023-09-03 12:36:38,319 | fl_server.py:112 | fit progress: (11, 0.051571667, {'auc': 0.8580850468527259}, 625.1473727999983)\n",
      "INFO flwr 2023-09-03 12:36:38,320 | fl_server.py:159 | evaluate_round 11: no clients selected, cancel\n",
      "DEBUG flwr 2023-09-03 12:36:38,321 | fl_server.py:226 | fit_round 12: strategy sampled 2 clients (out of 3)\n"
     ]
    },
    {
     "name": "stdout",
     "output_type": "stream",
     "text": [
      "testset mse 0.051571667194366455 and auc 0.8580850468527259\n",
      "Evaluation on the server: test_mse=0.0516, test_auc=0.8581\n",
      "Configuring round 12\n",
      "\u001B[2m\u001B[36m(launch_and_fit pid=24616)\u001B[0m binary client\n",
      "\u001B[2m\u001B[36m(launch_and_fit pid=27084)\u001B[0m binary client\n",
      "\u001B[2m\u001B[36m(launch_and_fit pid=24616)\u001B[0m Client 2 aggregated_trees length 2\n",
      "\u001B[2m\u001B[36m(launch_and_fit pid=24616)\u001B[0m Client 2: recieved 2 trees\n",
      "\u001B[2m\u001B[36m(launch_and_fit pid=27084)\u001B[0m Client 0: recieved 2 trees\n",
      "\u001B[2m\u001B[36m(launch_and_fit pid=27084)\u001B[0m Client 0: recieved 2 trees\n",
      "\u001B[2m\u001B[36m(launch_and_fit pid=27084)\u001B[0m Client 0: recieved 2 trees\n",
      "\u001B[2m\u001B[36m(launch_and_fit pid=24616)\u001B[0m Client 2: training for 2 iterations/updates\n"
     ]
    },
    {
     "name": "stderr",
     "output_type": "stream",
     "text": [
      "DEBUG flwr 2023-09-03 12:37:20,982 | fl_server.py:241 | fit_round 12 received 2 results and 0 failures\n"
     ]
    },
    {
     "name": "stdout",
     "output_type": "stream",
     "text": [
      "\u001B[2m\u001B[36m(launch_and_fit pid=27084)\u001B[0m Client 0: training for 2 iterations/updates\n",
      "Server side aggregated 2 trees.\n",
      "serverside task_type binary\n"
     ]
    },
    {
     "name": "stderr",
     "output_type": "stream",
     "text": [
      "INFO flwr 2023-09-03 12:37:38,748 | fl_server.py:112 | fit progress: (12, 0.050991606, {'auc': 0.8574861701243345}, 685.5767946999986)\n",
      "INFO flwr 2023-09-03 12:37:38,749 | fl_server.py:159 | evaluate_round 12: no clients selected, cancel\n",
      "DEBUG flwr 2023-09-03 12:37:38,750 | fl_server.py:226 | fit_round 13: strategy sampled 2 clients (out of 3)\n"
     ]
    },
    {
     "name": "stdout",
     "output_type": "stream",
     "text": [
      "testset mse 0.05099160596728325 and auc 0.8574861701243345\n",
      "Evaluation on the server: test_mse=0.0510, test_auc=0.8575\n",
      "Configuring round 13\n",
      "\u001B[2m\u001B[36m(launch_and_fit pid=24616)\u001B[0m binary client\n",
      "\u001B[2m\u001B[36m(launch_and_fit pid=27084)\u001B[0m Client 1 aggregated_trees length 2\n",
      "\u001B[2m\u001B[36m(launch_and_fit pid=27084)\u001B[0m Client 1: recieved 2 trees\n",
      "\u001B[2m\u001B[36m(launch_and_fit pid=27084)\u001B[0m Client 0: recieved 2 trees\n",
      "\u001B[2m\u001B[36m(launch_and_fit pid=24616)\u001B[0m Client 0: recieved 2 trees\n",
      "\u001B[2m\u001B[36m(launch_and_fit pid=24616)\u001B[0m Client 0: recieved 2 trees\n",
      "\u001B[2m\u001B[36m(launch_and_fit pid=27084)\u001B[0m Client 1: training for 2 iterations/updates\n"
     ]
    },
    {
     "name": "stderr",
     "output_type": "stream",
     "text": [
      "DEBUG flwr 2023-09-03 12:38:26,478 | fl_server.py:241 | fit_round 13 received 2 results and 0 failures\n"
     ]
    },
    {
     "name": "stdout",
     "output_type": "stream",
     "text": [
      "Server side aggregated 2 trees.\n",
      "serverside task_type binary\n",
      "\u001B[2m\u001B[36m(launch_and_fit pid=24616)\u001B[0m Client 0: training for 2 iterations/updates\n"
     ]
    },
    {
     "name": "stderr",
     "output_type": "stream",
     "text": [
      "INFO flwr 2023-09-03 12:38:44,828 | fl_server.py:112 | fit progress: (13, 0.05066227, {'auc': 0.8622866308554511}, 751.6558405999967)\n",
      "INFO flwr 2023-09-03 12:38:44,829 | fl_server.py:159 | evaluate_round 13: no clients selected, cancel\n",
      "DEBUG flwr 2023-09-03 12:38:44,830 | fl_server.py:226 | fit_round 14: strategy sampled 2 clients (out of 3)\n"
     ]
    },
    {
     "name": "stdout",
     "output_type": "stream",
     "text": [
      "testset mse 0.05066227167844772 and auc 0.8622866308554511\n",
      "Evaluation on the server: test_mse=0.0507, test_auc=0.8623\n",
      "Configuring round 14\n",
      "\u001B[2m\u001B[36m(launch_and_fit pid=24616)\u001B[0m binary client\n",
      "\u001B[2m\u001B[36m(launch_and_fit pid=27084)\u001B[0m Client 2 aggregated_trees length 2\n",
      "\u001B[2m\u001B[36m(launch_and_fit pid=27084)\u001B[0m Client 2: recieved 2 trees\n",
      "\u001B[2m\u001B[36m(launch_and_fit pid=27084)\u001B[0m Client 0: recieved 2 trees\n",
      "\u001B[2m\u001B[36m(launch_and_fit pid=24616)\u001B[0m Client 0: recieved 2 trees\n",
      "\u001B[2m\u001B[36m(launch_and_fit pid=24616)\u001B[0m Client 0: recieved 2 trees\n",
      "\u001B[2m\u001B[36m(launch_and_fit pid=27084)\u001B[0m Client 2: training for 2 iterations/updates\n"
     ]
    },
    {
     "name": "stderr",
     "output_type": "stream",
     "text": [
      "DEBUG flwr 2023-09-03 12:39:28,853 | fl_server.py:241 | fit_round 14 received 2 results and 0 failures\n"
     ]
    },
    {
     "name": "stdout",
     "output_type": "stream",
     "text": [
      "Server side aggregated 2 trees.\n",
      "serverside task_type binary\n",
      "\u001B[2m\u001B[36m(launch_and_fit pid=24616)\u001B[0m Client 0: training for 2 iterations/updates\n"
     ]
    },
    {
     "name": "stderr",
     "output_type": "stream",
     "text": [
      "INFO flwr 2023-09-03 12:39:47,232 | fl_server.py:112 | fit progress: (14, 0.05073137, {'auc': 0.8618474700211718}, 814.0607539000048)\n",
      "INFO flwr 2023-09-03 12:39:47,234 | fl_server.py:159 | evaluate_round 14: no clients selected, cancel\n",
      "DEBUG flwr 2023-09-03 12:39:47,234 | fl_server.py:226 | fit_round 15: strategy sampled 2 clients (out of 3)\n"
     ]
    },
    {
     "name": "stdout",
     "output_type": "stream",
     "text": [
      "testset mse 0.050731368362903595 and auc 0.8618474700211718\n",
      "Evaluation on the server: test_mse=0.0507, test_auc=0.8618\n",
      "Configuring round 15\n",
      "\u001B[2m\u001B[36m(launch_and_fit pid=24616)\u001B[0m binary client\n",
      "\u001B[2m\u001B[36m(launch_and_fit pid=24616)\u001B[0m Client 2 aggregated_trees length 2\n",
      "\u001B[2m\u001B[36m(launch_and_fit pid=24616)\u001B[0m Client 2: recieved 2 trees\n",
      "\u001B[2m\u001B[36m(launch_and_fit pid=24616)\u001B[0m Client 2: training for 2 iterations/updates\n",
      "\u001B[2m\u001B[36m(launch_and_fit pid=27084)\u001B[0m Client 2: training for 2 iterations/updates\n",
      "\u001B[2m\u001B[36m(launch_and_fit pid=27084)\u001B[0m Client 2: training for 2 iterations/updates\n",
      "\u001B[2m\u001B[36m(launch_and_fit pid=27084)\u001B[0m Client 2: training for 2 iterations/updates\n"
     ]
    },
    {
     "name": "stderr",
     "output_type": "stream",
     "text": [
      "DEBUG flwr 2023-09-03 12:40:14,304 | fl_server.py:241 | fit_round 15 received 2 results and 0 failures\n"
     ]
    },
    {
     "name": "stdout",
     "output_type": "stream",
     "text": [
      "Server side aggregated 2 trees.\n",
      "serverside task_type binary\n"
     ]
    },
    {
     "name": "stderr",
     "output_type": "stream",
     "text": [
      "INFO flwr 2023-09-03 12:40:31,934 | fl_server.py:112 | fit progress: (15, 0.050607577, {'auc': 0.8598462756333414}, 858.7621546000009)\n",
      "INFO flwr 2023-09-03 12:40:31,935 | fl_server.py:159 | evaluate_round 15: no clients selected, cancel\n",
      "DEBUG flwr 2023-09-03 12:40:31,936 | fl_server.py:226 | fit_round 16: strategy sampled 2 clients (out of 3)\n"
     ]
    },
    {
     "name": "stdout",
     "output_type": "stream",
     "text": [
      "testset mse 0.050607576966285706 and auc 0.8598462756333414\n",
      "Evaluation on the server: test_mse=0.0506, test_auc=0.8598\n",
      "Configuring round 16\n",
      "\u001B[2m\u001B[36m(launch_and_fit pid=24616)\u001B[0m binary client\n",
      "\u001B[2m\u001B[36m(launch_and_fit pid=27084)\u001B[0m binary client\n",
      "\u001B[2m\u001B[36m(launch_and_fit pid=24616)\u001B[0m Client 1 aggregated_trees length 2\n",
      "\u001B[2m\u001B[36m(launch_and_fit pid=24616)\u001B[0m Client 1: recieved 2 trees\n",
      "\u001B[2m\u001B[36m(launch_and_fit pid=24616)\u001B[0m Client 1: training for 2 iterations/updates\n",
      "\u001B[2m\u001B[36m(launch_and_fit pid=27084)\u001B[0m Client 1: training for 2 iterations/updates\n",
      "\u001B[2m\u001B[36m(launch_and_fit pid=27084)\u001B[0m Client 1: training for 2 iterations/updates\n",
      "\u001B[2m\u001B[36m(launch_and_fit pid=27084)\u001B[0m Client 1: training for 2 iterations/updates\n"
     ]
    },
    {
     "name": "stderr",
     "output_type": "stream",
     "text": [
      "DEBUG flwr 2023-09-03 12:40:57,426 | fl_server.py:241 | fit_round 16 received 2 results and 0 failures\n"
     ]
    },
    {
     "name": "stdout",
     "output_type": "stream",
     "text": [
      "Server side aggregated 2 trees.\n",
      "serverside task_type binary\n"
     ]
    },
    {
     "name": "stderr",
     "output_type": "stream",
     "text": [
      "INFO flwr 2023-09-03 12:41:14,883 | fl_server.py:112 | fit progress: (16, 0.05056317, {'auc': 0.8570942972326145}, 901.7117265999987)\n",
      "INFO flwr 2023-09-03 12:41:14,884 | fl_server.py:159 | evaluate_round 16: no clients selected, cancel\n",
      "DEBUG flwr 2023-09-03 12:41:14,885 | fl_server.py:226 | fit_round 17: strategy sampled 2 clients (out of 3)\n"
     ]
    },
    {
     "name": "stdout",
     "output_type": "stream",
     "text": [
      "testset mse 0.05056317150592804 and auc 0.8570942972326145\n",
      "Evaluation on the server: test_mse=0.0506, test_auc=0.8571\n",
      "Configuring round 17\n",
      "\u001B[2m\u001B[36m(launch_and_fit pid=24616)\u001B[0m binary client\n",
      "\u001B[2m\u001B[36m(launch_and_fit pid=27084)\u001B[0m binary client\n",
      "\u001B[2m\u001B[36m(launch_and_fit pid=24616)\u001B[0m Client 2 aggregated_trees length 2\n",
      "\u001B[2m\u001B[36m(launch_and_fit pid=24616)\u001B[0m Client 2: recieved 2 trees\n",
      "\u001B[2m\u001B[36m(launch_and_fit pid=27084)\u001B[0m Client 0: recieved 2 trees\n",
      "\u001B[2m\u001B[36m(launch_and_fit pid=27084)\u001B[0m Client 0: recieved 2 trees\n",
      "\u001B[2m\u001B[36m(launch_and_fit pid=27084)\u001B[0m Client 0: recieved 2 trees\n",
      "\u001B[2m\u001B[36m(launch_and_fit pid=24616)\u001B[0m Client 2: training for 2 iterations/updates\n"
     ]
    },
    {
     "name": "stderr",
     "output_type": "stream",
     "text": [
      "DEBUG flwr 2023-09-03 12:41:57,400 | fl_server.py:241 | fit_round 17 received 2 results and 0 failures\n"
     ]
    },
    {
     "name": "stdout",
     "output_type": "stream",
     "text": [
      "Server side aggregated 2 trees.\n",
      "serverside task_type binary\n",
      "\u001B[2m\u001B[36m(launch_and_fit pid=27084)\u001B[0m Client 0: training for 2 iterations/updates\n"
     ]
    },
    {
     "name": "stderr",
     "output_type": "stream",
     "text": [
      "INFO flwr 2023-09-03 12:42:14,971 | fl_server.py:112 | fit progress: (17, 0.050183147, {'auc': 0.8582151220839161}, 961.7995097999956)\n",
      "INFO flwr 2023-09-03 12:42:14,972 | fl_server.py:159 | evaluate_round 17: no clients selected, cancel\n",
      "DEBUG flwr 2023-09-03 12:42:14,973 | fl_server.py:226 | fit_round 18: strategy sampled 2 clients (out of 3)\n"
     ]
    },
    {
     "name": "stdout",
     "output_type": "stream",
     "text": [
      "testset mse 0.05018314719200134 and auc 0.8582151220839161\n",
      "Evaluation on the server: test_mse=0.0502, test_auc=0.8582\n",
      "Configuring round 18\n",
      "\u001B[2m\u001B[36m(launch_and_fit pid=24616)\u001B[0m binary client\n",
      "\u001B[2m\u001B[36m(launch_and_fit pid=24616)\u001B[0m Client 2 aggregated_trees length 2\n",
      "\u001B[2m\u001B[36m(launch_and_fit pid=24616)\u001B[0m Client 2: recieved 2 trees\n",
      "\u001B[2m\u001B[36m(launch_and_fit pid=27084)\u001B[0m Client 0: recieved 2 trees\n",
      "\u001B[2m\u001B[36m(launch_and_fit pid=27084)\u001B[0m Client 0: recieved 2 trees\n",
      "\u001B[2m\u001B[36m(launch_and_fit pid=27084)\u001B[0m Client 0: recieved 2 trees\n",
      "\u001B[2m\u001B[36m(launch_and_fit pid=24616)\u001B[0m Client 2: training for 2 iterations/updates\n"
     ]
    },
    {
     "name": "stderr",
     "output_type": "stream",
     "text": [
      "DEBUG flwr 2023-09-03 12:42:57,617 | fl_server.py:241 | fit_round 18 received 2 results and 0 failures\n"
     ]
    },
    {
     "name": "stdout",
     "output_type": "stream",
     "text": [
      "Server side aggregated 2 trees.\n",
      "serverside task_type binary\n",
      "\u001B[2m\u001B[36m(launch_and_fit pid=27084)\u001B[0m Client 0: training for 2 iterations/updates\n"
     ]
    },
    {
     "name": "stderr",
     "output_type": "stream",
     "text": [
      "INFO flwr 2023-09-03 12:43:17,213 | fl_server.py:112 | fit progress: (18, 0.050131544, {'auc': 0.860925039057294}, 1024.041451099998)\n",
      "INFO flwr 2023-09-03 12:43:17,214 | fl_server.py:159 | evaluate_round 18: no clients selected, cancel\n",
      "DEBUG flwr 2023-09-03 12:43:17,215 | fl_server.py:226 | fit_round 19: strategy sampled 2 clients (out of 3)\n"
     ]
    },
    {
     "name": "stdout",
     "output_type": "stream",
     "text": [
      "testset mse 0.05013154447078705 and auc 0.860925039057294\n",
      "Evaluation on the server: test_mse=0.0501, test_auc=0.8609\n",
      "Configuring round 19\n",
      "\u001B[2m\u001B[36m(launch_and_fit pid=24616)\u001B[0m binary client\n",
      "\u001B[2m\u001B[36m(launch_and_fit pid=24616)\u001B[0m Client 1 aggregated_trees length 2\n",
      "\u001B[2m\u001B[36m(launch_and_fit pid=24616)\u001B[0m Client 1: recieved 2 trees\n",
      "\u001B[2m\u001B[36m(launch_and_fit pid=27084)\u001B[0m Client 0: recieved 2 trees\n",
      "\u001B[2m\u001B[36m(launch_and_fit pid=27084)\u001B[0m Client 0: recieved 2 trees\n",
      "\u001B[2m\u001B[36m(launch_and_fit pid=27084)\u001B[0m Client 0: recieved 2 trees\n",
      "\u001B[2m\u001B[36m(launch_and_fit pid=24616)\u001B[0m Client 1: training for 2 iterations/updates\n"
     ]
    },
    {
     "name": "stderr",
     "output_type": "stream",
     "text": [
      "DEBUG flwr 2023-09-03 12:44:02,062 | fl_server.py:241 | fit_round 19 received 2 results and 0 failures\n"
     ]
    },
    {
     "name": "stdout",
     "output_type": "stream",
     "text": [
      "Server side aggregated 2 trees.\n",
      "serverside task_type binary\n",
      "\u001B[2m\u001B[36m(launch_and_fit pid=27084)\u001B[0m Client 0: training for 2 iterations/updates\n"
     ]
    },
    {
     "name": "stderr",
     "output_type": "stream",
     "text": [
      "INFO flwr 2023-09-03 12:44:20,227 | fl_server.py:112 | fit progress: (19, 0.050010584, {'auc': 0.8623678421761222}, 1087.054705500006)\n",
      "INFO flwr 2023-09-03 12:44:20,228 | fl_server.py:159 | evaluate_round 19: no clients selected, cancel\n",
      "DEBUG flwr 2023-09-03 12:44:20,229 | fl_server.py:226 | fit_round 20: strategy sampled 2 clients (out of 3)\n"
     ]
    },
    {
     "name": "stdout",
     "output_type": "stream",
     "text": [
      "testset mse 0.05001058429479599 and auc 0.8623678421761222\n",
      "Evaluation on the server: test_mse=0.0500, test_auc=0.8624\n",
      "Configuring round 20\n",
      "\u001B[2m\u001B[36m(launch_and_fit pid=24616)\u001B[0m binary client\n",
      "\u001B[2m\u001B[36m(launch_and_fit pid=27084)\u001B[0m Client 1 aggregated_trees length 2\n",
      "\u001B[2m\u001B[36m(launch_and_fit pid=27084)\u001B[0m Client 1: recieved 2 trees\n",
      "\u001B[2m\u001B[36m(launch_and_fit pid=24616)\u001B[0m Client 2: training for 2 iterations/updates\n",
      "\u001B[2m\u001B[36m(launch_and_fit pid=27084)\u001B[0m Client 2: training for 2 iterations/updates\n",
      "\u001B[2m\u001B[36m(launch_and_fit pid=24616)\u001B[0m Client 2: training for 2 iterations/updates\n",
      "\u001B[2m\u001B[36m(launch_and_fit pid=24616)\u001B[0m Client 2: training for 2 iterations/updates\n"
     ]
    },
    {
     "name": "stderr",
     "output_type": "stream",
     "text": [
      "DEBUG flwr 2023-09-03 12:44:47,223 | fl_server.py:241 | fit_round 20 received 2 results and 0 failures\n"
     ]
    },
    {
     "name": "stdout",
     "output_type": "stream",
     "text": [
      "Server side aggregated 2 trees.\n",
      "serverside task_type binary\n"
     ]
    },
    {
     "name": "stderr",
     "output_type": "stream",
     "text": [
      "INFO flwr 2023-09-03 12:45:05,008 | fl_server.py:112 | fit progress: (20, 0.050201274, {'auc': 0.8588142659255213}, 1131.8360507000034)\n",
      "INFO flwr 2023-09-03 12:45:05,009 | fl_server.py:159 | evaluate_round 20: no clients selected, cancel\n",
      "INFO flwr 2023-09-03 12:45:05,009 | fl_server.py:140 | FL finished in 1131.8375497000088\n",
      "INFO flwr 2023-09-03 12:45:05,010 | app.py:225 | app_fit: losses_distributed []\n",
      "INFO flwr 2023-09-03 12:45:05,011 | app.py:226 | app_fit: metrics_distributed_fit {}\n",
      "INFO flwr 2023-09-03 12:45:05,011 | app.py:227 | app_fit: metrics_distributed {}\n",
      "INFO flwr 2023-09-03 12:45:05,012 | app.py:228 | app_fit: losses_centralized [(0, 0.22328693), (1, 0.16690068), (2, 0.12675773), (3, 0.09689903), (4, 0.07467059), (5, 0.060320858), (6, 0.054523684), (7, 0.052288257), (8, 0.051960465), (9, 0.05176122), (10, 0.05143641), (11, 0.051571667), (12, 0.050991606), (13, 0.05066227), (14, 0.05073137), (15, 0.050607577), (16, 0.05056317), (17, 0.050183147), (18, 0.050131544), (19, 0.050010584), (20, 0.050201274)]\n",
      "INFO flwr 2023-09-03 12:45:05,013 | app.py:229 | app_fit: metrics_centralized {'auc': [(0, 0.6999901381801584), (1, 0.8548993211121796), (2, 0.8567779372463449), (3, 0.8590142001658096), (4, 0.8589980932390369), (5, 0.8571673170814056), (6, 0.8618898341768295), (7, 0.8587254151669448), (8, 0.8576741287888852), (9, 0.8607508278194637), (10, 0.8585190345944377), (11, 0.8580850468527259), (12, 0.8574861701243345), (13, 0.8622866308554511), (14, 0.8618474700211718), (15, 0.8598462756333414), (16, 0.8570942972326145), (17, 0.8582151220839161), (18, 0.860925039057294), (19, 0.8623678421761222), (20, 0.8588142659255213)]}\n"
     ]
    },
    {
     "name": "stdout",
     "output_type": "stream",
     "text": [
      "testset mse 0.05020127445459366 and auc 0.8588142659255213\n",
      "Evaluation on the server: test_mse=0.0502, test_auc=0.8588\n",
      "History (loss, centralized):\n",
      "\tround 0: 0.2232869267463684\n",
      "\tround 1: 0.16690067946910858\n",
      "\tround 2: 0.12675772607326508\n",
      "\tround 3: 0.09689903259277344\n",
      "\tround 4: 0.07467059046030045\n",
      "\tround 5: 0.06032085791230202\n",
      "\tround 6: 0.054523684084415436\n",
      "\tround 7: 0.05228825658559799\n",
      "\tround 8: 0.05196046456694603\n",
      "\tround 9: 0.05176122114062309\n",
      "\tround 10: 0.0514364093542099\n",
      "\tround 11: 0.051571667194366455\n",
      "\tround 12: 0.05099160596728325\n",
      "\tround 13: 0.05066227167844772\n",
      "\tround 14: 0.050731368362903595\n",
      "\tround 15: 0.050607576966285706\n",
      "\tround 16: 0.05056317150592804\n",
      "\tround 17: 0.05018314719200134\n",
      "\tround 18: 0.05013154447078705\n",
      "\tround 19: 0.05001058429479599\n",
      "\tround 20: 0.05020127445459366\n",
      "History (metrics, centralized):\n",
      "{'auc': [(0, 0.6999901381801584), (1, 0.8548993211121796), (2, 0.8567779372463449), (3, 0.8590142001658096), (4, 0.8589980932390369), (5, 0.8571673170814056), (6, 0.8618898341768295), (7, 0.8587254151669448), (8, 0.8576741287888852), (9, 0.8607508278194637), (10, 0.8585190345944377), (11, 0.8580850468527259), (12, 0.8574861701243345), (13, 0.8622866308554511), (14, 0.8618474700211718), (15, 0.8598462756333414), (16, 0.8570942972326145), (17, 0.8582151220839161), (18, 0.860925039057294), (19, 0.8623678421761222), (20, 0.8588142659255213)]}\n",
      "[(0, 0.22328693), (1, 0.16690068), (2, 0.12675773), (3, 0.09689903), (4, 0.07467059), (5, 0.060320858), (6, 0.054523684), (7, 0.052288257), (8, 0.051960465), (9, 0.05176122), (10, 0.05143641), (11, 0.051571667), (12, 0.050991606), (13, 0.05066227), (14, 0.05073137), (15, 0.050607577), (16, 0.05056317), (17, 0.050183147), (18, 0.050131544), (19, 0.050010584), (20, 0.050201274)]\n",
      "Fold 2:\n",
      "[0.6, 0.2, 0.2]\n",
      "Training time 0:19:37.530997\n"
     ]
    }
   ],
   "source": [
    "split = [0.6, 0.2, 0.2]\n",
    "do_fl(split)"
   ],
   "metadata": {
    "collapsed": false,
    "ExecuteTime": {
     "end_time": "2023-09-03T11:45:05.076548900Z",
     "start_time": "2023-09-03T11:25:27.525636100Z"
    }
   }
  },
  {
   "cell_type": "code",
   "execution_count": 6,
   "outputs": [
    {
     "name": "stderr",
     "output_type": "stream",
     "text": [
      "C:\\Users\\Shuyao\\AppData\\Local\\Temp\\ipykernel_14868\\1879151568.py:17: UserWarning: To copy construct from a tensor, it is recommended to use sourceTensor.clone().detach() or sourceTensor.clone().detach().requires_grad_(True), rather than torch.tensor(sourceTensor).\n",
      "  X_train = torch.tensor(X_train)\n",
      "C:\\Users\\Shuyao\\AppData\\Local\\Temp\\ipykernel_14868\\1879151568.py:18: UserWarning: To copy construct from a tensor, it is recommended to use sourceTensor.clone().detach() or sourceTensor.clone().detach().requires_grad_(True), rather than torch.tensor(sourceTensor).\n",
      "  X_test = torch.tensor(X_test)\n",
      "C:\\Users\\Shuyao\\AppData\\Local\\Temp\\ipykernel_14868\\1879151568.py:19: UserWarning: To copy construct from a tensor, it is recommended to use sourceTensor.clone().detach() or sourceTensor.clone().detach().requires_grad_(True), rather than torch.tensor(sourceTensor).\n",
      "  y_train = torch.reshape(torch.tensor(y_train), (-1, 1))\n",
      "C:\\Users\\Shuyao\\AppData\\Local\\Temp\\ipykernel_14868\\1879151568.py:20: UserWarning: To copy construct from a tensor, it is recommended to use sourceTensor.clone().detach() or sourceTensor.clone().detach().requires_grad_(True), rather than torch.tensor(sourceTensor).\n",
      "  y_test = torch.reshape(torch.tensor(y_test), (-1, 1))\n",
      "WARNING flwr 2023-09-03 11:47:57,320 | app.py:210 | Both server and strategy were provided, ignoring strategy\n",
      "INFO flwr 2023-09-03 11:47:57,322 | app.py:145 | Starting Flower simulation, config: ServerConfig(num_rounds=20, round_timeout=None)\n"
     ]
    },
    {
     "name": "stdout",
     "output_type": "stream",
     "text": [
      "Fold 1:\n",
      "here\n",
      "torch.Size([30000, 1])\n",
      "torch.Size([30000, 10])\n",
      "torch.Size([120000, 1])\n",
      "torch.Size([120000, 10])\n",
      "torch.Size([96000, 10])\n",
      "torch.Size([12000, 10])\n",
      "torch.Size([12000, 10])\n",
      "Data partitioned across 3 clients and 0.0 of local dataset reserved for validation.\n",
      "FL experiment configured for 20 rounds with 3 client in the pool.\n",
      "FL round will proceed with 50.0% of clients sampled, at least 2.\n"
     ]
    },
    {
     "name": "stderr",
     "output_type": "stream",
     "text": [
      "2023-09-03 11:48:05,636\tINFO worker.py:1636 -- Started a local Ray instance.\n",
      "INFO flwr 2023-09-03 11:48:10,467 | app.py:179 | Flower VCE: Ray initialized with resources: {'CPU': 8.0, 'node:127.0.0.1': 1.0, 'object_store_memory': 830657740.0, 'memory': 1661315483.0, 'GPU': 1.0}\n",
      "INFO flwr 2023-09-03 11:48:10,468 | fl_server.py:78 | fit num_rounds 20\n",
      "INFO flwr 2023-09-03 11:48:10,470 | fl_server.py:81 | Initializing global parameters\n",
      "INFO flwr 2023-09-03 11:48:10,470 | fl_server.py:287 | Requesting initial parameters from one random client\n",
      "\u001B[2m\u001B[33m(raylet)\u001B[0m --- Logging error ---\n",
      "\u001B[2m\u001B[33m(raylet)\u001B[0m Traceback (most recent call last):\n",
      "\u001B[2m\u001B[33m(raylet)\u001B[0m   File \"D:\\FD\\venv\\lib\\site-packages\\ray\\dashboard\\agent.py\", line 299, in run\n",
      "\u001B[2m\u001B[33m(raylet)\u001B[0m     self.http_server = await self._configure_http_server(modules)\n",
      "\u001B[2m\u001B[33m(raylet)\u001B[0m   File \"D:\\FD\\venv\\lib\\site-packages\\ray\\dashboard\\agent.py\", line 162, in _configure_http_server\n",
      "\u001B[2m\u001B[33m(raylet)\u001B[0m     await http_server.start(modules)\n",
      "\u001B[2m\u001B[33m(raylet)\u001B[0m   File \"D:\\FD\\venv\\lib\\site-packages\\ray\\dashboard\\http_server_agent.py\", line 69, in start\n",
      "\u001B[2m\u001B[33m(raylet)\u001B[0m     raise e\n",
      "\u001B[2m\u001B[33m(raylet)\u001B[0m   File \"D:\\FD\\venv\\lib\\site-packages\\ray\\dashboard\\http_server_agent.py\", line 62, in start\n",
      "\u001B[2m\u001B[33m(raylet)\u001B[0m     await site.start()\n",
      "\u001B[2m\u001B[33m(raylet)\u001B[0m   File \"D:\\FD\\venv\\lib\\site-packages\\aiohttp\\web_runner.py\", line 121, in start\n",
      "\u001B[2m\u001B[33m(raylet)\u001B[0m     self._server = await loop.create_server(\n",
      "\u001B[2m\u001B[33m(raylet)\u001B[0m   File \"C:\\Program Files\\WindowsApps\\PythonSoftwareFoundation.Python.3.10_3.10.3056.0_x64__qbz5n2kfra8p0\\lib\\asyncio\\base_events.py\", line 1519, in create_server\n",
      "\u001B[2m\u001B[33m(raylet)\u001B[0m     raise OSError(err.errno, 'error while attempting '\n",
      "\u001B[2m\u001B[33m(raylet)\u001B[0m OSError: [Errno 10048] error while attempting to bind on address ('127.0.0.1', 52365): \\u901a\\u5e38\\u6bcf\\u4e2a\\u5957\\u63a5\\u5b57\\u5730\\u5740(\\u534f\\u8bae/\\u7f51\\u7edc\\u5730\\u5740/\\u7aef\\u53e3)\\u53ea\\u5141\\u8bb8\\u4f7f\\u7528\\u4e00\\u6b21\\u3002\n",
      "\u001B[2m\u001B[33m(raylet)\u001B[0m \n",
      "\u001B[2m\u001B[33m(raylet)\u001B[0m During handling of the above exception, another exception occurred:\n",
      "\u001B[2m\u001B[33m(raylet)\u001B[0m \n",
      "\u001B[2m\u001B[33m(raylet)\u001B[0m Traceback (most recent call last):\n",
      "\u001B[2m\u001B[33m(raylet)\u001B[0m   File \"C:\\Program Files\\WindowsApps\\PythonSoftwareFoundation.Python.3.10_3.10.3056.0_x64__qbz5n2kfra8p0\\lib\\logging\\__init__.py\", line 1103, in emit\n",
      "\u001B[2m\u001B[33m(raylet)\u001B[0m     stream.write(msg + self.terminator)\n",
      "\u001B[2m\u001B[33m(raylet)\u001B[0m   File \"C:\\Program Files\\WindowsApps\\PythonSoftwareFoundation.Python.3.10_3.10.3056.0_x64__qbz5n2kfra8p0\\lib\\encodings\\cp1252.py\", line 19, in encode\n",
      "\u001B[2m\u001B[33m(raylet)\u001B[0m     return codecs.charmap_encode(input,self.errors,encoding_table)[0]\n",
      "\u001B[2m\u001B[33m(raylet)\u001B[0m UnicodeEncodeError: 'charmap' codec can't encode characters in position 1104-1112: character maps to <undefined>\n",
      "\u001B[2m\u001B[33m(raylet)\u001B[0m Call stack:\n",
      "\u001B[2m\u001B[33m(raylet)\u001B[0m   File \"D:\\FD\\venv\\lib\\site-packages\\ray\\dashboard\\agent.py\", line 544, in <module>\n",
      "\u001B[2m\u001B[33m(raylet)\u001B[0m     loop.run_until_complete(agent.run())\n",
      "\u001B[2m\u001B[33m(raylet)\u001B[0m   File \"C:\\Program Files\\WindowsApps\\PythonSoftwareFoundation.Python.3.10_3.10.3056.0_x64__qbz5n2kfra8p0\\lib\\asyncio\\base_events.py\", line 636, in run_until_complete\n",
      "\u001B[2m\u001B[33m(raylet)\u001B[0m     self.run_forever()\n",
      "\u001B[2m\u001B[33m(raylet)\u001B[0m   File \"C:\\Program Files\\WindowsApps\\PythonSoftwareFoundation.Python.3.10_3.10.3056.0_x64__qbz5n2kfra8p0\\lib\\asyncio\\windows_events.py\", line 321, in run_forever\n",
      "\u001B[2m\u001B[33m(raylet)\u001B[0m     super().run_forever()\n",
      "\u001B[2m\u001B[33m(raylet)\u001B[0m   File \"C:\\Program Files\\WindowsApps\\PythonSoftwareFoundation.Python.3.10_3.10.3056.0_x64__qbz5n2kfra8p0\\lib\\asyncio\\base_events.py\", line 603, in run_forever\n",
      "\u001B[2m\u001B[33m(raylet)\u001B[0m     self._run_once()\n",
      "\u001B[2m\u001B[33m(raylet)\u001B[0m   File \"C:\\Program Files\\WindowsApps\\PythonSoftwareFoundation.Python.3.10_3.10.3056.0_x64__qbz5n2kfra8p0\\lib\\asyncio\\base_events.py\", line 1909, in _run_once\n",
      "\u001B[2m\u001B[33m(raylet)\u001B[0m     handle._run()\n",
      "\u001B[2m\u001B[33m(raylet)\u001B[0m   File \"C:\\Program Files\\WindowsApps\\PythonSoftwareFoundation.Python.3.10_3.10.3056.0_x64__qbz5n2kfra8p0\\lib\\asyncio\\events.py\", line 80, in _run\n",
      "\u001B[2m\u001B[33m(raylet)\u001B[0m     self._context.run(self._callback, *self._args)\n",
      "\u001B[2m\u001B[33m(raylet)\u001B[0m   File \"D:\\FD\\venv\\lib\\site-packages\\ray\\dashboard\\agent.py\", line 304, in run\n",
      "\u001B[2m\u001B[33m(raylet)\u001B[0m     logger.exception(\n",
      "\u001B[2m\u001B[33m(raylet)\u001B[0m Message: 'Failed to start http server. Agent will stay alive but disable the http service.'\n",
      "\u001B[2m\u001B[33m(raylet)\u001B[0m Arguments: ()\n",
      "\u001B[2m\u001B[36m(launch_and_get_parameters pid=16220)\u001B[0m Windows fatal exception: code 0xc0000139\n",
      "\u001B[2m\u001B[36m(launch_and_get_parameters pid=16220)\u001B[0m \n",
      "\u001B[2m\u001B[36m(launch_and_get_parameters pid=16220)\u001B[0m Stack (most recent call first):\n",
      "\u001B[2m\u001B[36m(launch_and_get_parameters pid=16220)\u001B[0m   File \"C:\\Program Files\\WindowsApps\\PythonSoftwareFoundation.Python.3.10_3.10.3056.0_x64__qbz5n2kfra8p0\\lib\\ctypes\\__init__.py\", line 374 in __init__\n",
      "\u001B[2m\u001B[36m(launch_and_get_parameters pid=16220)\u001B[0m   File \"D:\\FD\\venv\\lib\\site-packages\\torch\\_ops.py\", line 573 in load_library\n",
      "\u001B[2m\u001B[36m(launch_and_get_parameters pid=16220)\u001B[0m   File \"D:\\FD\\venv\\lib\\site-packages\\torchvision\\extension.py\", line 36 in <module>\n",
      "\u001B[2m\u001B[36m(launch_and_get_parameters pid=16220)\u001B[0m   File \"<frozen importlib._bootstrap>\", line 241 in _call_with_frames_removed\n",
      "\u001B[2m\u001B[36m(launch_and_get_parameters pid=16220)\u001B[0m   File \"<frozen importlib._bootstrap_external>\", line 883 in exec_module\n",
      "\u001B[2m\u001B[36m(launch_and_get_parameters pid=16220)\u001B[0m   File \"<frozen importlib._bootstrap>\", line 688 in _load_unlocked\n",
      "\u001B[2m\u001B[36m(launch_and_get_parameters pid=16220)\u001B[0m   File \"<frozen importlib._bootstrap>\", line 1006 in _find_and_load_unlocked\n",
      "\u001B[2m\u001B[36m(launch_and_get_parameters pid=16220)\u001B[0m   File \"<frozen importlib._bootstrap>\", line 1027 in _find_and_load\n",
      "\u001B[2m\u001B[36m(launch_and_get_parameters pid=16220)\u001B[0m   File \"D:\\FD\\venv\\lib\\site-packages\\torchvision\\io\\_load_gpu_decoder.py\", line 1 in <module>\n",
      "\u001B[2m\u001B[36m(launch_and_get_parameters pid=16220)\u001B[0m   File \"<frozen importlib._bootstrap>\", line 241 in _call_with_frames_removed\n",
      "\u001B[2m\u001B[36m(launch_and_get_parameters pid=16220)\u001B[0m   File \"<frozen importlib._bootstrap_external>\", line 883 in exec_module\n",
      "\u001B[2m\u001B[36m(launch_and_get_parameters pid=16220)\u001B[0m   File \"<frozen importlib._bootstrap>\", line 688 in _load_unlocked\n",
      "\u001B[2m\u001B[36m(launch_and_get_parameters pid=16220)\u001B[0m   File \"<frozen importlib._bootstrap>\", line 1006 in _find_and_load_unlocked\n",
      "\u001B[2m\u001B[36m(launch_and_get_parameters pid=16220)\u001B[0m   File \"<frozen importlib._bootstrap>\", line 1027 in _find_and_load\n",
      "\u001B[2m\u001B[36m(launch_and_get_parameters pid=16220)\u001B[0m   File \"D:\\FD\\venv\\lib\\site-packages\\torchvision\\io\\__init__.py\", line 8 in <module>\n",
      "\u001B[2m\u001B[36m(launch_and_get_parameters pid=16220)\u001B[0m   File \"<frozen importlib._bootstrap>\", line 241 in _call_with_frames_removed\n",
      "\u001B[2m\u001B[36m(launch_and_get_parameters pid=16220)\u001B[0m   File \"<frozen importlib._bootstrap_external>\", line 883 in exec_module\n",
      "\u001B[2m\u001B[36m(launch_and_get_parameters pid=16220)\u001B[0m   File \"<frozen importlib._bootstrap>\", line 688 in _load_unlocked\n",
      "\u001B[2m\u001B[36m(launch_and_get_parameters pid=16220)\u001B[0m   File \"<frozen importlib._bootstrap>\", line 1006 in _find_and_load_unlocked\n",
      "\u001B[2m\u001B[36m(launch_and_get_parameters pid=16220)\u001B[0m   File \"<frozen importlib._bootstrap>\", line 1027 in _find_and_load\n",
      "\u001B[2m\u001B[36m(launch_and_get_parameters pid=16220)\u001B[0m   File \"<frozen importlib._bootstrap>\", line 241 in _call_with_frames_removed\n",
      "\u001B[2m\u001B[36m(launch_and_get_parameters pid=16220)\u001B[0m   File \"<frozen importlib._bootstrap>\", line 992 in _find_and_load_unlocked\n",
      "\u001B[2m\u001B[36m(launch_and_get_parameters pid=16220)\u001B[0m   File \"<frozen importlib._bootstrap>\", line 1027 in _find_and_load\n",
      "\u001B[2m\u001B[36m(launch_and_get_parameters pid=16220)\u001B[0m   File \"D:\\FD\\venv\\lib\\site-packages\\torchvision\\datasets\\_optical_flow.py\", line 12 in <module>\n",
      "\u001B[2m\u001B[36m(launch_and_get_parameters pid=16220)\u001B[0m   File \"<frozen importlib._bootstrap>\", line 241 in _call_with_frames_removed\n",
      "\u001B[2m\u001B[36m(launch_and_get_parameters pid=16220)\u001B[0m   File \"<frozen importlib._bootstrap_external>\", line 883 in exec_module\n",
      "\u001B[2m\u001B[36m(launch_and_get_parameters pid=16220)\u001B[0m   File \"<frozen importlib._bootstrap>\", line 688 in _load_unlocked\n",
      "\u001B[2m\u001B[36m(launch_and_get_parameters pid=16220)\u001B[0m   File \"<frozen importlib._bootstrap>\", line 1006 in _find_and_load_unlocked\n",
      "\u001B[2m\u001B[36m(launch_and_get_parameters pid=16220)\u001B[0m   File \"<frozen importlib._bootstrap>\", line 1027 in _find_and_load\n",
      "\u001B[2m\u001B[36m(launch_and_get_parameters pid=16220)\u001B[0m   File \"D:\\FD\\venv\\lib\\site-packages\\torchvision\\datasets\\__init__.py\", line 1 in <module>\n",
      "\u001B[2m\u001B[36m(launch_and_get_parameters pid=16220)\u001B[0m   File \"<frozen importlib._bootstrap>\", line 241 in _call_with_frames_removed\n",
      "\u001B[2m\u001B[36m(launch_and_get_parameters pid=16220)\u001B[0m   File \"<frozen importlib._bootstrap_external>\", line 883 in exec_module\n",
      "\u001B[2m\u001B[36m(launch_and_get_parameters pid=16220)\u001B[0m   File \"<frozen importlib._bootstrap>\", line 688 in _load_unlocked\n",
      "\u001B[2m\u001B[36m(launch_and_get_parameters pid=16220)\u001B[0m   File \"<frozen importlib._bootstrap>\", line 1006 in _find_and_load_unlocked\n",
      "\u001B[2m\u001B[36m(launch_and_get_parameters pid=16220)\u001B[0m   File \"<frozen importlib._bootstrap>\", line 1027 in _find_and_load\n",
      "\u001B[2m\u001B[36m(launch_and_get_parameters pid=16220)\u001B[0m   File \"<frozen importlib._bootstrap>\", line 241 in _call_with_frames_removed\n",
      "\u001B[2m\u001B[36m(launch_and_get_parameters pid=16220)\u001B[0m   File \"<frozen importlib._bootstrap>\", line 1078 in _handle_fromlist\n",
      "\u001B[2m\u001B[36m(launch_and_get_parameters pid=16220)\u001B[0m   File \"D:\\FD\\venv\\lib\\site-packages\\torchvision\\__init__.py\", line 6 in <module>\n",
      "\u001B[2m\u001B[36m(launch_and_get_parameters pid=16220)\u001B[0m   File \"<frozen importlib._bootstrap>\", line 241 in _call_with_frames_removed\n",
      "\u001B[2m\u001B[36m(launch_and_get_parameters pid=16220)\u001B[0m   File \"<frozen importlib._bootstrap_external>\", line 883 in exec_module\n",
      "\u001B[2m\u001B[36m(launch_and_get_parameters pid=16220)\u001B[0m   File \"<frozen importlib._bootstrap>\", line 688 in _load_unlocked\n",
      "\u001B[2m\u001B[36m(launch_and_get_parameters pid=16220)\u001B[0m   File \"<frozen importlib._bootstrap>\", line 1006 in _find_and_load_unlocked\n",
      "\u001B[2m\u001B[36m(launch_and_get_parameters pid=16220)\u001B[0m   File \"<frozen importlib._bootstrap>\", line 1027 in _find_and_load\n",
      "\u001B[2m\u001B[36m(launch_and_get_parameters pid=16220)\u001B[0m   File \"<frozen importlib._bootstrap>\", line 1050 in _gcd_import\n",
      "\u001B[2m\u001B[36m(launch_and_get_parameters pid=16220)\u001B[0m   File \"C:\\Program Files\\WindowsApps\\PythonSoftwareFoundation.Python.3.10_3.10.3056.0_x64__qbz5n2kfra8p0\\lib\\importlib\\__init__.py\", line 126 in import_module\n",
      "\u001B[2m\u001B[36m(launch_and_get_parameters pid=16220)\u001B[0m   File \"D:\\FD\\venv\\lib\\site-packages\\lightning_utilities\\core\\imports.py\", line 73 in compare_version\n",
      "\u001B[2m\u001B[36m(launch_and_get_parameters pid=16220)\u001B[0m   File \"D:\\FD\\venv\\lib\\site-packages\\torchmetrics\\utilities\\imports.py\", line 41 in <module>\n",
      "\u001B[2m\u001B[36m(launch_and_get_parameters pid=16220)\u001B[0m   File \"<frozen importlib._bootstrap>\", line 241 in _call_with_frames_removed\n",
      "\u001B[2m\u001B[36m(launch_and_get_parameters pid=16220)\u001B[0m   File \"<frozen importlib._bootstrap_external>\", line 883 in exec_module\n",
      "\u001B[2m\u001B[36m(launch_and_get_parameters pid=16220)\u001B[0m   File \"<frozen importlib._bootstrap>\", line 688 in _load_unlocked\n",
      "\u001B[2m\u001B[36m(launch_and_get_parameters pid=16220)\u001B[0m   File \"<frozen importlib._bootstrap>\", line 1006 in _find_and_load_unlocked\n",
      "\u001B[2m\u001B[36m(launch_and_get_parameters pid=16220)\u001B[0m   File \"<frozen importlib._bootstrap>\", line 1027 in _find_and_load\n",
      "\u001B[2m\u001B[36m(launch_and_get_parameters pid=16220)\u001B[0m   File \"D:\\FD\\venv\\lib\\site-packages\\torchmetrics\\utilities\\data.py\", line 22 in <module>\n",
      "\u001B[2m\u001B[36m(launch_and_get_parameters pid=16220)\u001B[0m   File \"<frozen importlib._bootstrap>\", line 241 in _call_with_frames_removed\n",
      "\u001B[2m\u001B[36m(launch_and_get_parameters pid=16220)\u001B[0m   File \"<frozen importlib._bootstrap_external>\", line 883 in exec_module\n",
      "\u001B[2m\u001B[36m(launch_and_get_parameters pid=16220)\u001B[0m   File \"<frozen importlib._bootstrap>\", line 688 in _load_unlocked\n",
      "\u001B[2m\u001B[36m(launch_and_get_parameters pid=16220)\u001B[0m   File \"<frozen importlib._bootstrap>\", line 1006 in _find_and_load_unlocked\n",
      "\u001B[2m\u001B[36m(launch_and_get_parameters pid=16220)\u001B[0m   File \"<frozen importlib._bootstrap>\", line 1027 in _find_and_load\n",
      "\u001B[2m\u001B[36m(launch_and_get_parameters pid=16220)\u001B[0m   File \"D:\\FD\\venv\\lib\\site-packages\\torchmetrics\\metric.py\", line 30 in <module>\n",
      "\u001B[2m\u001B[36m(launch_and_get_parameters pid=16220)\u001B[0m   File \"<frozen importlib._bootstrap>\", line 241 in _call_with_frames_removed\n",
      "\u001B[2m\u001B[36m(launch_and_get_parameters pid=16220)\u001B[0m   File \"<frozen importlib._bootstrap_external>\", line 883 in exec_module\n",
      "\u001B[2m\u001B[36m(launch_and_get_parameters pid=16220)\u001B[0m   File \"<frozen importlib._bootstrap>\", line 688 in _load_unlocked\n",
      "\u001B[2m\u001B[36m(launch_and_get_parameters pid=16220)\u001B[0m   File \"<frozen importlib._bootstrap>\", line 1006 in _find_and_load_unlocked\n",
      "\u001B[2m\u001B[36m(launch_and_get_parameters pid=16220)\u001B[0m   File \"<frozen importlib._bootstrap>\", line 1027 in _find_and_load\n",
      "\u001B[2m\u001B[36m(launch_and_get_parameters pid=16220)\u001B[0m   File \"D:\\FD\\venv\\lib\\site-packages\\torchmetrics\\utilities\\checks.py\", line 25 in <module>\n",
      "\u001B[2m\u001B[36m(launch_and_get_parameters pid=16220)\u001B[0m   File \"<frozen importlib._bootstrap>\", line 241 in _call_with_frames_removed\n",
      "\u001B[2m\u001B[36m(launch_and_get_parameters pid=16220)\u001B[0m   File \"<frozen importlib._bootstrap_external>\", line 883 in exec_module\n",
      "\u001B[2m\u001B[36m(launch_and_get_parameters pid=16220)\u001B[0m   File \"<frozen importlib._bootstrap>\", line 688 in _load_unlocked\n",
      "\u001B[2m\u001B[36m(launch_and_get_parameters pid=16220)\u001B[0m   File \"<frozen importlib._bootstrap>\", line 1006 in _find_and_load_unlocked\n",
      "\u001B[2m\u001B[36m(launch_and_get_parameters pid=16220)\u001B[0m   File \"<frozen importlib._bootstrap>\", line 1027 in _find_and_load\n",
      "\u001B[2m\u001B[36m(launch_and_get_parameters pid=16220)\u001B[0m   File \"D:\\FD\\venv\\lib\\site-packages\\torchmetrics\\utilities\\__init__.py\", line 14 in <module>\n",
      "\u001B[2m\u001B[36m(launch_and_get_parameters pid=16220)\u001B[0m   File \"<frozen importlib._bootstrap>\", line 241 in _call_with_frames_removed\n",
      "\u001B[2m\u001B[36m(launch_and_get_parameters pid=16220)\u001B[0m   File \"<frozen importlib._bootstrap_external>\", line 883 in exec_module\n",
      "\u001B[2m\u001B[36m(launch_and_get_parameters pid=16220)\u001B[0m   File \"<frozen importlib._bootstrap>\", line 688 in _load_unlocked\n",
      "\u001B[2m\u001B[36m(launch_and_get_parameters pid=16220)\u001B[0m   File \"<frozen importlib._bootstrap>\", line 1006 in _find_and_load_unlocked\n",
      "\u001B[2m\u001B[36m(launch_and_get_parameters pid=16220)\u001B[0m   File \"<frozen importlib._bootstrap>\", line 1027 in _find_and_load\n",
      "\u001B[2m\u001B[36m(launch_and_get_parameters pid=16220)\u001B[0m   File \"D:\\FD\\venv\\lib\\site-packages\\torchmetrics\\functional\\audio\\pit.py\", line 23 in <module>\n",
      "\u001B[2m\u001B[36m(launch_and_get_parameters pid=16220)\u001B[0m   File \"<frozen importlib._bootstrap>\", line 241 in _call_with_frames_removed\n",
      "\u001B[2m\u001B[36m(launch_and_get_parameters pid=16220)\u001B[0m   File \"<frozen importlib._bootstrap_external>\", line 883 in exec_module\n",
      "\u001B[2m\u001B[36m(launch_and_get_parameters pid=16220)\u001B[0m   File \"<frozen importlib._bootstrap>\", line 688 in _load_unlocked\n",
      "\u001B[2m\u001B[36m(launch_and_get_parameters pid=16220)\u001B[0m   File \"<frozen importlib._bootstrap>\", line 1006 in _find_and_load_unlocked\n",
      "\u001B[2m\u001B[36m(launch_and_get_parameters pid=16220)\u001B[0m   File \"<frozen importlib._bootstrap>\", line 1027 in _find_and_load\n",
      "\u001B[2m\u001B[36m(launch_and_get_parameters pid=16220)\u001B[0m   File \"D:\\FD\\venv\\lib\\site-packages\\torchmetrics\\functional\\audio\\__init__.py\", line 14 in <module>\n",
      "\u001B[2m\u001B[36m(launch_and_get_parameters pid=16220)\u001B[0m   File \"<frozen importlib._bootstrap>\", line 241 in _call_with_frames_removed\n",
      "\u001B[2m\u001B[36m(launch_and_get_parameters pid=16220)\u001B[0m   File \"<frozen importlib._bootstrap_external>\", line 883 in exec_module\n",
      "\u001B[2m\u001B[36m(launch_and_get_parameters pid=16220)\u001B[0m   File \"<frozen importlib._bootstrap>\", line 688 in _load_unlocked\n",
      "\u001B[2m\u001B[36m(launch_and_get_parameters pid=16220)\u001B[0m   File \"<frozen importlib._bootstrap>\", line 1006 in _find_and_load_unlocked\n",
      "\u001B[2m\u001B[36m(launch_and_get_parameters pid=16220)\u001B[0m   File \"<frozen importlib._bootstrap>\", line 1027 in _find_and_load\n",
      "\u001B[2m\u001B[36m(launch_and_get_parameters pid=16220)\u001B[0m   File \"<frozen importlib._bootstrap>\", line 241 in _call_with_frames_removed\n",
      "\u001B[2m\u001B[36m(launch_and_get_parameters pid=16220)\u001B[0m   File \"<frozen importlib._bootstrap>\", line 992 in _find_and_load_unlocked\n",
      "\u001B[2m\u001B[36m(launch_and_get_parameters pid=16220)\u001B[0m   File \"<frozen importlib._bootstrap>\", line 1027 in _find_and_load\n",
      "\u001B[2m\u001B[36m(launch_and_get_parameters pid=16220)\u001B[0m   File \"D:\\FD\\venv\\lib\\site-packages\\torchmetrics\\functional\\__init__.py\", line 14 in <module>\n",
      "\u001B[2m\u001B[36m(launch_and_get_parameters pid=16220)\u001B[0m   File \"<frozen importlib._bootstrap>\", line 241 in _call_with_frames_removed\n",
      "\u001B[2m\u001B[36m(launch_and_get_parameters pid=16220)\u001B[0m   File \"<frozen importlib._bootstrap_external>\", line 883 in exec_module\n",
      "\u001B[2m\u001B[36m(launch_and_get_parameters pid=16220)\u001B[0m   File \"<frozen importlib._bootstrap>\", line 688 in _load_unlocked\n",
      "\u001B[2m\u001B[36m(launch_and_get_parameters pid=16220)\u001B[0m   File \"<frozen importlib._bootstrap>\", line 1006 in _find_and_load_unlocked\n",
      "\u001B[2m\u001B[36m(launch_and_get_parameters pid=16220)\u001B[0m   File \"<frozen importlib._bootstrap>\", line 1027 in _find_and_load\n",
      "\u001B[2m\u001B[36m(launch_and_get_parameters pid=16220)\u001B[0m   File \"<frozen importlib._bootstrap>\", line 241 in _call_with_frames_removed\n",
      "\u001B[2m\u001B[36m(launch_and_get_parameters pid=16220)\u001B[0m   File \"<frozen importlib._bootstrap>\", line 1078 in _handle_fromlist\n",
      "\u001B[2m\u001B[36m(launch_and_get_parameters pid=16220)\u001B[0m   File \"D:\\FD\\venv\\lib\\site-packages\\torchmetrics\\__init__.py\", line 14 in <module>\n",
      "\u001B[2m\u001B[36m(launch_and_get_parameters pid=16220)\u001B[0m   ...\n",
      "\u001B[2m\u001B[36m(launch_and_get_parameters pid=16220)\u001B[0m Windows fatal exception: code 0xc0000139\n",
      "\u001B[2m\u001B[36m(launch_and_get_parameters pid=16220)\u001B[0m \n",
      "\u001B[2m\u001B[36m(launch_and_get_parameters pid=16220)\u001B[0m D:\\FD\\venv\\lib\\site-packages\\torchvision\\io\\image.py:13: UserWarning: Failed to load image Python extension: '[WinError 127] 找不到指定的程序。'If you don't plan on using image functionality from `torchvision.io`, you can ignore this warning. Otherwise, there might be something wrong with your environment. Did you have `libjpeg` or `libpng` installed before building `torchvision` from source?\n",
      "\u001B[2m\u001B[36m(launch_and_get_parameters pid=16220)\u001B[0m   warn(\n"
     ]
    },
    {
     "name": "stdout",
     "output_type": "stream",
     "text": [
      "\u001B[2m\u001B[36m(launch_and_get_parameters pid=16220)\u001B[0m binary client\n"
     ]
    },
    {
     "name": "stderr",
     "output_type": "stream",
     "text": [
      "INFO flwr 2023-09-03 11:48:23,675 | fl_server.py:292 | Received initial parameters from one random client\n",
      "INFO flwr 2023-09-03 11:48:23,676 | fl_server.py:84 | Evaluating initial parameters\n"
     ]
    },
    {
     "name": "stdout",
     "output_type": "stream",
     "text": [
      "serverside task_type binary\n"
     ]
    },
    {
     "name": "stderr",
     "output_type": "stream",
     "text": [
      "INFO flwr 2023-09-03 11:48:39,653 | fl_server.py:87 | initial parameters (loss, other metrics): 0.24386197, {'auc': 0.7794937417510989}\n",
      "INFO flwr 2023-09-03 11:48:39,654 | fl_server.py:97 | FL starting\n",
      "DEBUG flwr 2023-09-03 11:48:39,654 | fl_server.py:226 | fit_round 1: strategy sampled 2 clients (out of 3)\n"
     ]
    },
    {
     "name": "stdout",
     "output_type": "stream",
     "text": [
      "testset mse 0.24386197328567505 and auc 0.7794937417510989\n",
      "Evaluation on the server: test_mse=0.2439, test_auc=0.7795\n",
      "Configuring round 1\n",
      "\u001B[2m\u001B[36m(launch_and_fit pid=16220)\u001B[0m binary client\n"
     ]
    },
    {
     "name": "stderr",
     "output_type": "stream",
     "text": [
      "\u001B[2m\u001B[36m(launch_and_fit pid=22016)\u001B[0m Windows fatal exception: code 0xc0000139\u001B[32m [repeated 2x across cluster] (Ray deduplicates logs by default. Set RAY_DEDUP_LOGS=0 to disable log deduplication, or see https://docs.ray.io/en/master/ray-observability/ray-logging.html#log-deduplication for more options.)\u001B[0m\n",
      "\u001B[2m\u001B[36m(launch_and_fit pid=22016)\u001B[0m \u001B[32m [repeated 2x across cluster]\u001B[0m\n",
      "\u001B[2m\u001B[36m(launch_and_fit pid=22016)\u001B[0m   warn(\n",
      "\u001B[2m\u001B[36m(launch_and_fit pid=22016)\u001B[0m   warn(\n",
      "\u001B[2m\u001B[36m(launch_and_fit pid=22016)\u001B[0m   warn(\n",
      "\u001B[2m\u001B[36m(launch_and_fit pid=22016)\u001B[0m   warn(\n",
      "\u001B[2m\u001B[36m(launch_and_fit pid=22016)\u001B[0m   File \"<frozen importlib._bootstrap>\", line 241 in _call_with_frames_removed\u001B[32m [repeated 18x across cluster]\u001B[0m\n",
      "\u001B[2m\u001B[36m(launch_and_fit pid=22016)\u001B[0m   File \"<frozen importlib._bootstrap_external>\", line 883 in exec_module\u001B[32m [repeated 14x across cluster]\u001B[0m\n",
      "\u001B[2m\u001B[36m(launch_and_fit pid=22016)\u001B[0m   File \"<frozen importlib._bootstrap>\", line 688 in _load_unlocked\u001B[32m [repeated 14x across cluster]\u001B[0m\n",
      "\u001B[2m\u001B[36m(launch_and_fit pid=22016)\u001B[0m   File \"<frozen importlib._bootstrap>\", line 1006 in _find_and_load_unlocked\u001B[32m [repeated 16x across cluster]\u001B[0m\n",
      "\u001B[2m\u001B[36m(launch_and_fit pid=22016)\u001B[0m   File \"<frozen importlib._bootstrap>\", line 1027 in _find_and_load\u001B[32m [repeated 16x across cluster]\u001B[0m\n",
      "\u001B[2m\u001B[36m(launch_and_fit pid=22016)\u001B[0m   warn(\n",
      "\u001B[2m\u001B[36m(launch_and_fit pid=22016)\u001B[0m   warn(\n",
      "\u001B[2m\u001B[36m(launch_and_fit pid=22016)\u001B[0m   warn(\n",
      "\u001B[2m\u001B[36m(launch_and_fit pid=22016)\u001B[0m   warn(\n",
      "\u001B[2m\u001B[36m(launch_and_fit pid=22016)\u001B[0m   File \"<frozen importlib._bootstrap>\", line 1078 in _handle_fromlist\u001B[32m [repeated 2x across cluster]\u001B[0m\n",
      "\u001B[2m\u001B[36m(launch_and_fit pid=22016)\u001B[0m   warn(\n",
      "\u001B[2m\u001B[36m(launch_and_fit pid=22016)\u001B[0m   warn(\n",
      "\u001B[2m\u001B[36m(launch_and_fit pid=22016)\u001B[0m   warn(\n",
      "\u001B[2m\u001B[36m(launch_and_fit pid=22016)\u001B[0m   warn(\n",
      "\u001B[2m\u001B[36m(launch_and_fit pid=22016)\u001B[0m   warn(\n",
      "\u001B[2m\u001B[36m(launch_and_fit pid=22016)\u001B[0m   warn(\n",
      "\u001B[2m\u001B[36m(launch_and_fit pid=22016)\u001B[0m   warn(\n",
      "\u001B[2m\u001B[36m(launch_and_fit pid=22016)\u001B[0m   warn(\n",
      "\u001B[2m\u001B[36m(launch_and_fit pid=22016)\u001B[0m   warn(\n",
      "\u001B[2m\u001B[36m(launch_and_fit pid=22016)\u001B[0m   warn(\n",
      "\u001B[2m\u001B[36m(launch_and_fit pid=22016)\u001B[0m   warn(\n",
      "\u001B[2m\u001B[36m(launch_and_fit pid=22016)\u001B[0m   warn(\n",
      "\u001B[2m\u001B[36m(launch_and_fit pid=22016)\u001B[0m   warn(\n",
      "\u001B[2m\u001B[36m(launch_and_fit pid=22016)\u001B[0m   warn(\n",
      "\u001B[2m\u001B[36m(launch_and_fit pid=22016)\u001B[0m   warn(\n",
      "\u001B[2m\u001B[36m(launch_and_fit pid=22016)\u001B[0m   warn(\n"
     ]
    },
    {
     "name": "stdout",
     "output_type": "stream",
     "text": [
      "\u001B[2m\u001B[36m(launch_and_fit pid=22016)\u001B[0m binary client\n",
      "\u001B[2m\u001B[36m(launch_and_fit pid=22016)\u001B[0m Client 1 aggregated_trees length 2\n",
      "\u001B[2m\u001B[36m(launch_and_fit pid=22016)\u001B[0m Client 1: only had its own tree\n",
      "\u001B[2m\u001B[36m(launch_and_fit pid=16220)\u001B[0m Client 0: only had its own tree\n",
      "\u001B[2m\u001B[36m(launch_and_fit pid=16220)\u001B[0m Client 0: only had its own tree\n",
      "\u001B[2m\u001B[36m(launch_and_fit pid=22016)\u001B[0m Client 1: training for 2 iterations/updates\n"
     ]
    },
    {
     "name": "stderr",
     "output_type": "stream",
     "text": [
      "\u001B[2m\u001B[36m(launch_and_fit pid=22016)\u001B[0m D:\\FD\\clients\\xgb_client.py:238: UserWarning: To copy construct from a tensor, it is recommended to use sourceTensor.clone().detach() or sourceTensor.clone().detach().requires_grad_(True), rather than torch.tensor(sourceTensor).\n",
      "\u001B[2m\u001B[36m(launch_and_fit pid=22016)\u001B[0m   y_test = torch.cat((torch.tensor(y_test), torch.tensor(labels)), dim=0)\n",
      "\u001B[2m\u001B[36m(launch_and_fit pid=22016)\u001B[0m D:\\FD\\clients\\xgb_client.py:239: UserWarning: To copy construct from a tensor, it is recommended to use sourceTensor.clone().detach() or sourceTensor.clone().detach().requires_grad_(True), rather than torch.tensor(sourceTensor).\n",
      "\u001B[2m\u001B[36m(launch_and_fit pid=22016)\u001B[0m   y_pred = torch.cat((torch.tensor(y_pred), torch.tensor(outputs)), dim=0)\n",
      "\u001B[2m\u001B[36m(launch_and_fit pid=16220)\u001B[0m D:\\FD\\clients\\xgb_client.py:239: UserWarning: To copy construct from a tensor, it is recommended to use sourceTensor.clone().detach() or sourceTensor.clone().detach().requires_grad_(True), rather than torch.tensor(sourceTensor).\u001B[32m [repeated 2x across cluster]\u001B[0m\n",
      "\u001B[2m\u001B[36m(launch_and_fit pid=16220)\u001B[0m   y_pred = torch.cat((torch.tensor(y_pred), torch.tensor(outputs)), dim=0)\n",
      "\u001B[2m\u001B[36m(launch_and_fit pid=16220)\u001B[0m   y_pred = torch.cat((torch.tensor(y_pred), torch.tensor(outputs)), dim=0)\n",
      "DEBUG flwr 2023-09-03 11:49:46,358 | fl_server.py:241 | fit_round 1 received 2 results and 0 failures\n",
      "WARNING flwr 2023-09-03 11:49:46,363 | fedxgb_nn_avg.py:88 | No fit_metrics_aggregation_fn provided\n"
     ]
    },
    {
     "name": "stdout",
     "output_type": "stream",
     "text": [
      "\u001B[2m\u001B[36m(launch_and_fit pid=16220)\u001B[0m Client 0: training for 2 iterations/updates\n",
      "Server side aggregated 2 trees.\n",
      "serverside task_type binary\n"
     ]
    },
    {
     "name": "stderr",
     "output_type": "stream",
     "text": [
      "INFO flwr 2023-09-03 11:49:59,765 | fl_server.py:112 | fit progress: (1, 0.18235922, {'auc': 0.8529411230479456}, 80.1111791000003)\n",
      "INFO flwr 2023-09-03 11:49:59,767 | fl_server.py:159 | evaluate_round 1: no clients selected, cancel\n",
      "DEBUG flwr 2023-09-03 11:49:59,768 | fl_server.py:226 | fit_round 2: strategy sampled 2 clients (out of 3)\n"
     ]
    },
    {
     "name": "stdout",
     "output_type": "stream",
     "text": [
      "testset mse 0.1823592185974121 and auc 0.8529411230479456\n",
      "Evaluation on the server: test_mse=0.1824, test_auc=0.8529\n",
      "Configuring round 2\n",
      "\u001B[2m\u001B[36m(launch_and_fit pid=16220)\u001B[0m binary client\n",
      "\u001B[2m\u001B[36m(launch_and_fit pid=22016)\u001B[0m Client 2 aggregated_trees length 2\n",
      "\u001B[2m\u001B[36m(launch_and_fit pid=22016)\u001B[0m Client 2: recieved 2 trees\n",
      "\u001B[2m\u001B[36m(launch_and_fit pid=22016)\u001B[0m Client 0: recieved 2 trees\n",
      "\u001B[2m\u001B[36m(launch_and_fit pid=16220)\u001B[0m Client 0: recieved 2 trees\n",
      "\u001B[2m\u001B[36m(launch_and_fit pid=16220)\u001B[0m Client 0: recieved 2 trees\n",
      "\u001B[2m\u001B[36m(launch_and_fit pid=22016)\u001B[0m Client 2: training for 2 iterations/updates\n"
     ]
    },
    {
     "name": "stderr",
     "output_type": "stream",
     "text": [
      "DEBUG flwr 2023-09-03 11:51:09,314 | fl_server.py:241 | fit_round 2 received 2 results and 0 failures\n"
     ]
    },
    {
     "name": "stdout",
     "output_type": "stream",
     "text": [
      "\u001B[2m\u001B[36m(launch_and_fit pid=16220)\u001B[0m Client 0: training for 2 iterations/updates\n",
      "Server side aggregated 2 trees.\n",
      "serverside task_type binary\n"
     ]
    },
    {
     "name": "stderr",
     "output_type": "stream",
     "text": [
      "INFO flwr 2023-09-03 11:51:23,987 | fl_server.py:112 | fit progress: (2, 0.12871544, {'auc': 0.856210686722429}, 164.33194190000359)\n",
      "INFO flwr 2023-09-03 11:51:23,987 | fl_server.py:159 | evaluate_round 2: no clients selected, cancel\n",
      "DEBUG flwr 2023-09-03 11:51:23,988 | fl_server.py:226 | fit_round 3: strategy sampled 2 clients (out of 3)\n"
     ]
    },
    {
     "name": "stdout",
     "output_type": "stream",
     "text": [
      "testset mse 0.12871544063091278 and auc 0.856210686722429\n",
      "Evaluation on the server: test_mse=0.1287, test_auc=0.8562\n",
      "Configuring round 3\n",
      "\u001B[2m\u001B[36m(launch_and_fit pid=16220)\u001B[0m binary client\n",
      "\u001B[2m\u001B[36m(launch_and_fit pid=16220)\u001B[0m Client 2 aggregated_trees length 2\n",
      "\u001B[2m\u001B[36m(launch_and_fit pid=16220)\u001B[0m Client 2: recieved 2 trees\n"
     ]
    },
    {
     "name": "stderr",
     "output_type": "stream",
     "text": [
      "DEBUG flwr 2023-09-03 11:51:47,581 | fl_server.py:241 | fit_round 3 received 2 results and 0 failures\n"
     ]
    },
    {
     "name": "stdout",
     "output_type": "stream",
     "text": [
      "\u001B[2m\u001B[36m(launch_and_fit pid=16220)\u001B[0m Client 2: training for 2 iterations/updates\n",
      "\u001B[2m\u001B[36m(launch_and_fit pid=22016)\u001B[0m Client 2: training for 2 iterations/updates\n",
      "\u001B[2m\u001B[36m(launch_and_fit pid=22016)\u001B[0m Client 2: training for 2 iterations/updates\n",
      "\u001B[2m\u001B[36m(launch_and_fit pid=22016)\u001B[0m Client 2: training for 2 iterations/updates\n",
      "Server side aggregated 2 trees.\n",
      "serverside task_type binary\n"
     ]
    },
    {
     "name": "stderr",
     "output_type": "stream",
     "text": [
      "INFO flwr 2023-09-03 11:52:01,919 | fl_server.py:112 | fit progress: (3, 0.08814612, {'auc': 0.8527935251899512}, 202.26501160000043)\n",
      "INFO flwr 2023-09-03 11:52:01,920 | fl_server.py:159 | evaluate_round 3: no clients selected, cancel\n",
      "DEBUG flwr 2023-09-03 11:52:01,922 | fl_server.py:226 | fit_round 4: strategy sampled 2 clients (out of 3)\n"
     ]
    },
    {
     "name": "stdout",
     "output_type": "stream",
     "text": [
      "testset mse 0.08814612030982971 and auc 0.8527935251899512\n",
      "Evaluation on the server: test_mse=0.0881, test_auc=0.8528\n",
      "Configuring round 4\n",
      "\u001B[2m\u001B[36m(launch_and_fit pid=16220)\u001B[0m binary client\n",
      "\u001B[2m\u001B[36m(launch_and_fit pid=22016)\u001B[0m binary client\n",
      "\u001B[2m\u001B[36m(launch_and_fit pid=16220)\u001B[0m Client 1 aggregated_trees length 2\n",
      "\u001B[2m\u001B[36m(launch_and_fit pid=16220)\u001B[0m Client 1: recieved 2 trees\n"
     ]
    },
    {
     "name": "stderr",
     "output_type": "stream",
     "text": [
      "DEBUG flwr 2023-09-03 11:52:25,390 | fl_server.py:241 | fit_round 4 received 2 results and 0 failures\n"
     ]
    },
    {
     "name": "stdout",
     "output_type": "stream",
     "text": [
      "\u001B[2m\u001B[36m(launch_and_fit pid=16220)\u001B[0m Client 1: training for 2 iterations/updates\n",
      "\u001B[2m\u001B[36m(launch_and_fit pid=22016)\u001B[0m Client 1: training for 2 iterations/updates\n",
      "\u001B[2m\u001B[36m(launch_and_fit pid=22016)\u001B[0m Client 1: training for 2 iterations/updates\n",
      "\u001B[2m\u001B[36m(launch_and_fit pid=22016)\u001B[0m Client 1: training for 2 iterations/updates\n",
      "Server side aggregated 2 trees.\n",
      "serverside task_type binary\n"
     ]
    },
    {
     "name": "stderr",
     "output_type": "stream",
     "text": [
      "INFO flwr 2023-09-03 11:52:39,136 | fl_server.py:112 | fit progress: (4, 0.063491106, {'auc': 0.8529044038848661}, 239.4816964000056)\n",
      "INFO flwr 2023-09-03 11:52:39,138 | fl_server.py:159 | evaluate_round 4: no clients selected, cancel\n",
      "DEBUG flwr 2023-09-03 11:52:39,139 | fl_server.py:226 | fit_round 5: strategy sampled 2 clients (out of 3)\n"
     ]
    },
    {
     "name": "stdout",
     "output_type": "stream",
     "text": [
      "testset mse 0.0634911060333252 and auc 0.8529044038848661\n",
      "Evaluation on the server: test_mse=0.0635, test_auc=0.8529\n",
      "Configuring round 5\n",
      "\u001B[2m\u001B[36m(launch_and_fit pid=16220)\u001B[0m binary client\n",
      "\u001B[2m\u001B[36m(launch_and_fit pid=22016)\u001B[0m binary client\n",
      "\u001B[2m\u001B[36m(launch_and_fit pid=16220)\u001B[0m Client 2 aggregated_trees length 2\n",
      "\u001B[2m\u001B[36m(launch_and_fit pid=16220)\u001B[0m Client 2: recieved 2 trees\n"
     ]
    },
    {
     "name": "stderr",
     "output_type": "stream",
     "text": [
      "DEBUG flwr 2023-09-03 11:52:59,996 | fl_server.py:241 | fit_round 5 received 2 results and 0 failures\n"
     ]
    },
    {
     "name": "stdout",
     "output_type": "stream",
     "text": [
      "\u001B[2m\u001B[36m(launch_and_fit pid=16220)\u001B[0m Client 2: training for 2 iterations/updates\n",
      "\u001B[2m\u001B[36m(launch_and_fit pid=22016)\u001B[0m Client 2: training for 2 iterations/updates\n",
      "\u001B[2m\u001B[36m(launch_and_fit pid=22016)\u001B[0m Client 2: training for 2 iterations/updates\n",
      "\u001B[2m\u001B[36m(launch_and_fit pid=22016)\u001B[0m Client 2: training for 2 iterations/updates\n",
      "Server side aggregated 2 trees.\n",
      "serverside task_type binary\n"
     ]
    },
    {
     "name": "stderr",
     "output_type": "stream",
     "text": [
      "INFO flwr 2023-09-03 11:53:14,874 | fl_server.py:112 | fit progress: (5, 0.054221094, {'auc': 0.8552356433592699}, 275.2187105000048)\n",
      "INFO flwr 2023-09-03 11:53:14,875 | fl_server.py:159 | evaluate_round 5: no clients selected, cancel\n",
      "DEBUG flwr 2023-09-03 11:53:14,875 | fl_server.py:226 | fit_round 6: strategy sampled 2 clients (out of 3)\n"
     ]
    },
    {
     "name": "stdout",
     "output_type": "stream",
     "text": [
      "testset mse 0.05422109365463257 and auc 0.8552356433592699\n",
      "Evaluation on the server: test_mse=0.0542, test_auc=0.8552\n",
      "Configuring round 6\n",
      "\u001B[2m\u001B[36m(launch_and_fit pid=16220)\u001B[0m binary client\n",
      "\u001B[2m\u001B[36m(launch_and_fit pid=22016)\u001B[0m binary client\n",
      "\u001B[2m\u001B[36m(launch_and_fit pid=22016)\u001B[0m Client 2 aggregated_trees length 2\n",
      "\u001B[2m\u001B[36m(launch_and_fit pid=22016)\u001B[0m Client 2: recieved 2 trees\n"
     ]
    },
    {
     "name": "stderr",
     "output_type": "stream",
     "text": [
      "DEBUG flwr 2023-09-03 11:53:35,837 | fl_server.py:241 | fit_round 6 received 2 results and 0 failures\n"
     ]
    },
    {
     "name": "stdout",
     "output_type": "stream",
     "text": [
      "\u001B[2m\u001B[36m(launch_and_fit pid=22016)\u001B[0m Client 2: training for 2 iterations/updates\n",
      "\u001B[2m\u001B[36m(launch_and_fit pid=22016)\u001B[0m Client 2: training for 2 iterations/updates\n",
      "\u001B[2m\u001B[36m(launch_and_fit pid=16220)\u001B[0m Client 2: training for 2 iterations/updates\n",
      "\u001B[2m\u001B[36m(launch_and_fit pid=16220)\u001B[0m Client 2: training for 2 iterations/updates\n",
      "Server side aggregated 2 trees.\n",
      "serverside task_type binary\n"
     ]
    },
    {
     "name": "stderr",
     "output_type": "stream",
     "text": [
      "INFO flwr 2023-09-03 11:53:51,032 | fl_server.py:112 | fit progress: (6, 0.05220344, {'auc': 0.8566496872887802}, 311.3781585999968)\n",
      "INFO flwr 2023-09-03 11:53:51,033 | fl_server.py:159 | evaluate_round 6: no clients selected, cancel\n",
      "DEBUG flwr 2023-09-03 11:53:51,035 | fl_server.py:226 | fit_round 7: strategy sampled 2 clients (out of 3)\n"
     ]
    },
    {
     "name": "stdout",
     "output_type": "stream",
     "text": [
      "testset mse 0.05220343917608261 and auc 0.8566496872887802\n",
      "Evaluation on the server: test_mse=0.0522, test_auc=0.8566\n",
      "Configuring round 7\n",
      "\u001B[2m\u001B[36m(launch_and_fit pid=16220)\u001B[0m binary client\n",
      "\u001B[2m\u001B[36m(launch_and_fit pid=16220)\u001B[0m binary client\n",
      "\u001B[2m\u001B[36m(launch_and_fit pid=16220)\u001B[0m Client 2 aggregated_trees length 2\n",
      "\u001B[2m\u001B[36m(launch_and_fit pid=16220)\u001B[0m Client 2: recieved 2 trees\n",
      "\u001B[2m\u001B[36m(launch_and_fit pid=22016)\u001B[0m Client 0: recieved 2 trees\n",
      "\u001B[2m\u001B[36m(launch_and_fit pid=22016)\u001B[0m Client 0: recieved 2 trees\n",
      "\u001B[2m\u001B[36m(launch_and_fit pid=22016)\u001B[0m Client 0: recieved 2 trees\n",
      "\u001B[2m\u001B[36m(launch_and_fit pid=16220)\u001B[0m Client 2: training for 2 iterations/updates\n"
     ]
    },
    {
     "name": "stderr",
     "output_type": "stream",
     "text": [
      "DEBUG flwr 2023-09-03 11:54:51,423 | fl_server.py:241 | fit_round 7 received 2 results and 0 failures\n"
     ]
    },
    {
     "name": "stdout",
     "output_type": "stream",
     "text": [
      "Server side aggregated 2 trees.\n",
      "serverside task_type binary\n",
      "\u001B[2m\u001B[36m(launch_and_fit pid=22016)\u001B[0m Client 0: training for 2 iterations/updates\n"
     ]
    },
    {
     "name": "stderr",
     "output_type": "stream",
     "text": [
      "INFO flwr 2023-09-03 11:55:04,804 | fl_server.py:112 | fit progress: (7, 0.05170432, {'auc': 0.862813743167155}, 385.14953379999497)\n",
      "INFO flwr 2023-09-03 11:55:04,805 | fl_server.py:159 | evaluate_round 7: no clients selected, cancel\n",
      "DEBUG flwr 2023-09-03 11:55:04,806 | fl_server.py:226 | fit_round 8: strategy sampled 2 clients (out of 3)\n"
     ]
    },
    {
     "name": "stdout",
     "output_type": "stream",
     "text": [
      "testset mse 0.051704321056604385 and auc 0.862813743167155\n",
      "Evaluation on the server: test_mse=0.0517, test_auc=0.8628\n",
      "Configuring round 8\n",
      "\u001B[2m\u001B[36m(launch_and_fit pid=22016)\u001B[0m binary client\n",
      "\u001B[2m\u001B[36m(launch_and_fit pid=22016)\u001B[0m Client 2 aggregated_trees length 2\n",
      "\u001B[2m\u001B[36m(launch_and_fit pid=22016)\u001B[0m Client 2: recieved 2 trees\n",
      "\u001B[2m\u001B[36m(launch_and_fit pid=16220)\u001B[0m Client 0: recieved 2 trees\n",
      "\u001B[2m\u001B[36m(launch_and_fit pid=16220)\u001B[0m Client 0: recieved 2 trees\n",
      "\u001B[2m\u001B[36m(launch_and_fit pid=16220)\u001B[0m Client 0: recieved 2 trees\n",
      "\u001B[2m\u001B[36m(launch_and_fit pid=22016)\u001B[0m Client 2: training for 2 iterations/updates\n"
     ]
    },
    {
     "name": "stderr",
     "output_type": "stream",
     "text": [
      "DEBUG flwr 2023-09-03 11:56:05,900 | fl_server.py:241 | fit_round 8 received 2 results and 0 failures\n"
     ]
    },
    {
     "name": "stdout",
     "output_type": "stream",
     "text": [
      "Server side aggregated 2 trees.\n",
      "serverside task_type binary\n",
      "\u001B[2m\u001B[36m(launch_and_fit pid=16220)\u001B[0m Client 0: training for 2 iterations/updates\n"
     ]
    },
    {
     "name": "stderr",
     "output_type": "stream",
     "text": [
      "INFO flwr 2023-09-03 11:56:18,386 | fl_server.py:112 | fit progress: (8, 0.0511967, {'auc': 0.8549474014906058}, 458.7312731999991)\n",
      "INFO flwr 2023-09-03 11:56:18,387 | fl_server.py:159 | evaluate_round 8: no clients selected, cancel\n",
      "DEBUG flwr 2023-09-03 11:56:18,387 | fl_server.py:226 | fit_round 9: strategy sampled 2 clients (out of 3)\n"
     ]
    },
    {
     "name": "stdout",
     "output_type": "stream",
     "text": [
      "testset mse 0.05119670182466507 and auc 0.8549474014906058\n",
      "Evaluation on the server: test_mse=0.0512, test_auc=0.8549\n",
      "Configuring round 9\n",
      "\u001B[2m\u001B[36m(launch_and_fit pid=16220)\u001B[0m binary client\n",
      "\u001B[2m\u001B[36m(launch_and_fit pid=22016)\u001B[0m Client 1 aggregated_trees length 2\n",
      "\u001B[2m\u001B[36m(launch_and_fit pid=22016)\u001B[0m Client 1: recieved 2 trees\n",
      "\u001B[2m\u001B[36m(launch_and_fit pid=22016)\u001B[0m Client 0: recieved 2 trees\n",
      "\u001B[2m\u001B[36m(launch_and_fit pid=16220)\u001B[0m Client 0: recieved 2 trees\n",
      "\u001B[2m\u001B[36m(launch_and_fit pid=16220)\u001B[0m Client 0: recieved 2 trees\n",
      "\u001B[2m\u001B[36m(launch_and_fit pid=22016)\u001B[0m Client 1: training for 2 iterations/updates\n"
     ]
    },
    {
     "name": "stderr",
     "output_type": "stream",
     "text": [
      "DEBUG flwr 2023-09-03 11:57:17,392 | fl_server.py:241 | fit_round 9 received 2 results and 0 failures\n"
     ]
    },
    {
     "name": "stdout",
     "output_type": "stream",
     "text": [
      "Server side aggregated 2 trees.\n",
      "serverside task_type binary\n",
      "\u001B[2m\u001B[36m(launch_and_fit pid=16220)\u001B[0m Client 0: training for 2 iterations/updates\n"
     ]
    },
    {
     "name": "stderr",
     "output_type": "stream",
     "text": [
      "INFO flwr 2023-09-03 11:57:31,764 | fl_server.py:112 | fit progress: (9, 0.050993785, {'auc': 0.8619562296179262}, 532.1097508999956)\n",
      "INFO flwr 2023-09-03 11:57:31,765 | fl_server.py:159 | evaluate_round 9: no clients selected, cancel\n",
      "DEBUG flwr 2023-09-03 11:57:31,766 | fl_server.py:226 | fit_round 10: strategy sampled 2 clients (out of 3)\n"
     ]
    },
    {
     "name": "stdout",
     "output_type": "stream",
     "text": [
      "testset mse 0.05099378526210785 and auc 0.8619562296179262\n",
      "Evaluation on the server: test_mse=0.0510, test_auc=0.8620\n",
      "Configuring round 10\n",
      "\u001B[2m\u001B[36m(launch_and_fit pid=16220)\u001B[0m binary client\n",
      "\u001B[2m\u001B[36m(launch_and_fit pid=16220)\u001B[0m Client 2 aggregated_trees length 2\n",
      "\u001B[2m\u001B[36m(launch_and_fit pid=16220)\u001B[0m Client 2: recieved 2 trees\n",
      "\u001B[2m\u001B[36m(launch_and_fit pid=22016)\u001B[0m Client 0: recieved 2 trees\n",
      "\u001B[2m\u001B[36m(launch_and_fit pid=22016)\u001B[0m Client 0: recieved 2 trees\n",
      "\u001B[2m\u001B[36m(launch_and_fit pid=22016)\u001B[0m Client 0: recieved 2 trees\n",
      "\u001B[2m\u001B[36m(launch_and_fit pid=16220)\u001B[0m Client 2: training for 2 iterations/updates\n"
     ]
    },
    {
     "name": "stderr",
     "output_type": "stream",
     "text": [
      "DEBUG flwr 2023-09-03 11:58:32,527 | fl_server.py:241 | fit_round 10 received 2 results and 0 failures\n"
     ]
    },
    {
     "name": "stdout",
     "output_type": "stream",
     "text": [
      "Server side aggregated 2 trees.\n",
      "serverside task_type binary\n",
      "\u001B[2m\u001B[36m(launch_and_fit pid=22016)\u001B[0m Client 0: training for 2 iterations/updates\n"
     ]
    },
    {
     "name": "stderr",
     "output_type": "stream",
     "text": [
      "INFO flwr 2023-09-03 11:58:48,148 | fl_server.py:112 | fit progress: (10, 0.05084899, {'auc': 0.8544948849956525}, 608.4933770000061)\n",
      "INFO flwr 2023-09-03 11:58:48,150 | fl_server.py:159 | evaluate_round 10: no clients selected, cancel\n",
      "DEBUG flwr 2023-09-03 11:58:48,151 | fl_server.py:226 | fit_round 11: strategy sampled 2 clients (out of 3)\n"
     ]
    },
    {
     "name": "stdout",
     "output_type": "stream",
     "text": [
      "testset mse 0.05084899067878723 and auc 0.8544948849956525\n",
      "Evaluation on the server: test_mse=0.0508, test_auc=0.8545\n",
      "Configuring round 11\n",
      "\u001B[2m\u001B[36m(launch_and_fit pid=16220)\u001B[0m binary client\n",
      "\u001B[2m\u001B[36m(launch_and_fit pid=16220)\u001B[0m Client 2 aggregated_trees length 2\n",
      "\u001B[2m\u001B[36m(launch_and_fit pid=16220)\u001B[0m Client 2: recieved 2 trees\n",
      "\u001B[2m\u001B[36m(launch_and_fit pid=22016)\u001B[0m Client 0: recieved 2 trees\n",
      "\u001B[2m\u001B[36m(launch_and_fit pid=22016)\u001B[0m Client 0: recieved 2 trees\n",
      "\u001B[2m\u001B[36m(launch_and_fit pid=22016)\u001B[0m Client 0: recieved 2 trees\n",
      "\u001B[2m\u001B[36m(launch_and_fit pid=16220)\u001B[0m Client 2: training for 2 iterations/updates\n"
     ]
    },
    {
     "name": "stderr",
     "output_type": "stream",
     "text": [
      "DEBUG flwr 2023-09-03 11:59:55,025 | fl_server.py:241 | fit_round 11 received 2 results and 0 failures\n"
     ]
    },
    {
     "name": "stdout",
     "output_type": "stream",
     "text": [
      "Server side aggregated 2 trees.\n",
      "serverside task_type binary\n",
      "\u001B[2m\u001B[36m(launch_and_fit pid=22016)\u001B[0m Client 0: training for 2 iterations/updates\n"
     ]
    },
    {
     "name": "stderr",
     "output_type": "stream",
     "text": [
      "INFO flwr 2023-09-03 12:00:31,213 | fl_server.py:112 | fit progress: (11, 0.05089658, {'auc': 0.8528414720117706}, 711.558555399999)\n",
      "INFO flwr 2023-09-03 12:00:31,214 | fl_server.py:159 | evaluate_round 11: no clients selected, cancel\n",
      "DEBUG flwr 2023-09-03 12:00:31,216 | fl_server.py:226 | fit_round 12: strategy sampled 2 clients (out of 3)\n"
     ]
    },
    {
     "name": "stdout",
     "output_type": "stream",
     "text": [
      "testset mse 0.05089658126235008 and auc 0.8528414720117706\n",
      "Evaluation on the server: test_mse=0.0509, test_auc=0.8528\n",
      "Configuring round 12\n",
      "\u001B[2m\u001B[36m(launch_and_fit pid=16220)\u001B[0m binary client\n",
      "\u001B[2m\u001B[36m(launch_and_fit pid=22016)\u001B[0m Client 1 aggregated_trees length 2\n",
      "\u001B[2m\u001B[36m(launch_and_fit pid=22016)\u001B[0m Client 1: recieved 2 trees\n",
      "\u001B[2m\u001B[36m(launch_and_fit pid=22016)\u001B[0m Client 0: recieved 2 trees\n",
      "\u001B[2m\u001B[36m(launch_and_fit pid=16220)\u001B[0m Client 0: recieved 2 trees\n",
      "\u001B[2m\u001B[36m(launch_and_fit pid=16220)\u001B[0m Client 0: recieved 2 trees\n",
      "\u001B[2m\u001B[36m(launch_and_fit pid=22016)\u001B[0m Client 1: training for 2 iterations/updates\n"
     ]
    },
    {
     "name": "stderr",
     "output_type": "stream",
     "text": [
      "DEBUG flwr 2023-09-03 12:01:48,107 | fl_server.py:241 | fit_round 12 received 2 results and 0 failures\n"
     ]
    },
    {
     "name": "stdout",
     "output_type": "stream",
     "text": [
      "Server side aggregated 2 trees.\n",
      "serverside task_type binary\n",
      "\u001B[2m\u001B[36m(launch_and_fit pid=16220)\u001B[0m Client 0: training for 2 iterations/updates\n"
     ]
    },
    {
     "name": "stderr",
     "output_type": "stream",
     "text": [
      "INFO flwr 2023-09-03 12:02:20,506 | fl_server.py:112 | fit progress: (12, 0.05014523, {'auc': 0.8616478028940968}, 820.8517443000019)\n",
      "INFO flwr 2023-09-03 12:02:20,507 | fl_server.py:159 | evaluate_round 12: no clients selected, cancel\n",
      "DEBUG flwr 2023-09-03 12:02:20,508 | fl_server.py:226 | fit_round 13: strategy sampled 2 clients (out of 3)\n"
     ]
    },
    {
     "name": "stdout",
     "output_type": "stream",
     "text": [
      "testset mse 0.0501452311873436 and auc 0.8616478028940968\n",
      "Evaluation on the server: test_mse=0.0501, test_auc=0.8616\n",
      "Configuring round 13\n",
      "\u001B[2m\u001B[36m(launch_and_fit pid=16220)\u001B[0m binary client\n",
      "\u001B[2m\u001B[36m(launch_and_fit pid=22016)\u001B[0m Client 2 aggregated_trees length 2\n",
      "\u001B[2m\u001B[36m(launch_and_fit pid=22016)\u001B[0m Client 2: recieved 2 trees\n",
      "\u001B[2m\u001B[36m(launch_and_fit pid=22016)\u001B[0m Client 0: recieved 2 trees\n",
      "\u001B[2m\u001B[36m(launch_and_fit pid=16220)\u001B[0m Client 0: recieved 2 trees\n",
      "\u001B[2m\u001B[36m(launch_and_fit pid=16220)\u001B[0m Client 0: recieved 2 trees\n",
      "\u001B[2m\u001B[36m(launch_and_fit pid=22016)\u001B[0m Client 2: training for 2 iterations/updates\n"
     ]
    },
    {
     "name": "stderr",
     "output_type": "stream",
     "text": [
      "DEBUG flwr 2023-09-03 12:03:33,029 | fl_server.py:241 | fit_round 13 received 2 results and 0 failures\n"
     ]
    },
    {
     "name": "stdout",
     "output_type": "stream",
     "text": [
      "Server side aggregated 2 trees.\n",
      "serverside task_type binary\n",
      "\u001B[2m\u001B[36m(launch_and_fit pid=16220)\u001B[0m Client 0: training for 2 iterations/updates\n"
     ]
    },
    {
     "name": "stderr",
     "output_type": "stream",
     "text": [
      "INFO flwr 2023-09-03 12:04:03,440 | fl_server.py:112 | fit progress: (13, 0.05054567, {'auc': 0.8622013861252564}, 923.7864128999936)\n",
      "INFO flwr 2023-09-03 12:04:03,443 | fl_server.py:159 | evaluate_round 13: no clients selected, cancel\n",
      "DEBUG flwr 2023-09-03 12:04:03,444 | fl_server.py:226 | fit_round 14: strategy sampled 2 clients (out of 3)\n"
     ]
    },
    {
     "name": "stdout",
     "output_type": "stream",
     "text": [
      "testset mse 0.050545670092105865 and auc 0.8622013861252564\n",
      "Evaluation on the server: test_mse=0.0505, test_auc=0.8622\n",
      "Configuring round 14\n",
      "\u001B[2m\u001B[36m(launch_and_fit pid=16220)\u001B[0m binary client\n",
      "\u001B[2m\u001B[36m(launch_and_fit pid=22016)\u001B[0m Client 1 aggregated_trees length 2\n",
      "\u001B[2m\u001B[36m(launch_and_fit pid=22016)\u001B[0m Client 1: recieved 2 trees\n",
      "\u001B[2m\u001B[36m(launch_and_fit pid=22016)\u001B[0m Client 0: recieved 2 trees\n",
      "\u001B[2m\u001B[36m(launch_and_fit pid=16220)\u001B[0m Client 0: recieved 2 trees\n",
      "\u001B[2m\u001B[36m(launch_and_fit pid=16220)\u001B[0m Client 0: recieved 2 trees\n",
      "\u001B[2m\u001B[36m(launch_and_fit pid=22016)\u001B[0m Client 1: training for 2 iterations/updates\n"
     ]
    },
    {
     "name": "stderr",
     "output_type": "stream",
     "text": [
      "DEBUG flwr 2023-09-03 12:05:16,408 | fl_server.py:241 | fit_round 14 received 2 results and 0 failures\n"
     ]
    },
    {
     "name": "stdout",
     "output_type": "stream",
     "text": [
      "\u001B[2m\u001B[36m(launch_and_fit pid=16220)\u001B[0m Client 0: training for 2 iterations/updates\n",
      "Server side aggregated 2 trees.\n",
      "serverside task_type binary\n"
     ]
    },
    {
     "name": "stderr",
     "output_type": "stream",
     "text": [
      "INFO flwr 2023-09-03 12:05:29,822 | fl_server.py:112 | fit progress: (14, 0.050894815, {'auc': 0.855971540262402}, 1010.1668752999976)\n",
      "INFO flwr 2023-09-03 12:05:29,822 | fl_server.py:159 | evaluate_round 14: no clients selected, cancel\n",
      "DEBUG flwr 2023-09-03 12:05:29,823 | fl_server.py:226 | fit_round 15: strategy sampled 2 clients (out of 3)\n"
     ]
    },
    {
     "name": "stdout",
     "output_type": "stream",
     "text": [
      "testset mse 0.05089481547474861 and auc 0.855971540262402\n",
      "Evaluation on the server: test_mse=0.0509, test_auc=0.8560\n",
      "Configuring round 15\n",
      "\u001B[2m\u001B[36m(launch_and_fit pid=16220)\u001B[0m binary client\n",
      "\u001B[2m\u001B[36m(launch_and_fit pid=16220)\u001B[0m Client 1 aggregated_trees length 2\n",
      "\u001B[2m\u001B[36m(launch_and_fit pid=16220)\u001B[0m Client 1: recieved 2 trees\n",
      "\u001B[2m\u001B[36m(launch_and_fit pid=22016)\u001B[0m Client 0: recieved 2 trees\n",
      "\u001B[2m\u001B[36m(launch_and_fit pid=22016)\u001B[0m Client 0: recieved 2 trees\n",
      "\u001B[2m\u001B[36m(launch_and_fit pid=22016)\u001B[0m Client 0: recieved 2 trees\n",
      "\u001B[2m\u001B[36m(launch_and_fit pid=16220)\u001B[0m Client 1: training for 2 iterations/updates\n"
     ]
    },
    {
     "name": "stderr",
     "output_type": "stream",
     "text": [
      "DEBUG flwr 2023-09-03 12:06:27,235 | fl_server.py:241 | fit_round 15 received 2 results and 0 failures\n"
     ]
    },
    {
     "name": "stdout",
     "output_type": "stream",
     "text": [
      "Server side aggregated 2 trees.\n",
      "serverside task_type binary\n",
      "\u001B[2m\u001B[36m(launch_and_fit pid=22016)\u001B[0m Client 0: training for 2 iterations/updates\n"
     ]
    },
    {
     "name": "stderr",
     "output_type": "stream",
     "text": [
      "INFO flwr 2023-09-03 12:06:57,834 | fl_server.py:112 | fit progress: (15, 0.049806397, {'auc': 0.8629675469554757}, 1098.1795136)\n",
      "INFO flwr 2023-09-03 12:06:57,836 | fl_server.py:159 | evaluate_round 15: no clients selected, cancel\n",
      "DEBUG flwr 2023-09-03 12:06:57,837 | fl_server.py:226 | fit_round 16: strategy sampled 2 clients (out of 3)\n"
     ]
    },
    {
     "name": "stdout",
     "output_type": "stream",
     "text": [
      "testset mse 0.049806397408246994 and auc 0.8629675469554757\n",
      "Evaluation on the server: test_mse=0.0498, test_auc=0.8630\n",
      "Configuring round 16\n",
      "\u001B[2m\u001B[36m(launch_and_fit pid=16220)\u001B[0m binary client\n",
      "\u001B[2m\u001B[36m(launch_and_fit pid=22016)\u001B[0m Client 2 aggregated_trees length 2\n",
      "\u001B[2m\u001B[36m(launch_and_fit pid=22016)\u001B[0m Client 2: recieved 2 trees\n",
      "\u001B[2m\u001B[36m(launch_and_fit pid=22016)\u001B[0m Client 0: recieved 2 trees\n",
      "\u001B[2m\u001B[36m(launch_and_fit pid=16220)\u001B[0m Client 0: recieved 2 trees\n",
      "\u001B[2m\u001B[36m(launch_and_fit pid=16220)\u001B[0m Client 0: recieved 2 trees\n",
      "\u001B[2m\u001B[36m(launch_and_fit pid=22016)\u001B[0m Client 2: training for 2 iterations/updates\n"
     ]
    },
    {
     "name": "stderr",
     "output_type": "stream",
     "text": [
      "DEBUG flwr 2023-09-03 12:08:02,158 | fl_server.py:241 | fit_round 16 received 2 results and 0 failures\n"
     ]
    },
    {
     "name": "stdout",
     "output_type": "stream",
     "text": [
      "Server side aggregated 2 trees.\n",
      "serverside task_type binary\n",
      "\u001B[2m\u001B[36m(launch_and_fit pid=16220)\u001B[0m Client 0: training for 2 iterations/updates\n"
     ]
    },
    {
     "name": "stderr",
     "output_type": "stream",
     "text": [
      "INFO flwr 2023-09-03 12:08:17,426 | fl_server.py:112 | fit progress: (16, 0.050576758, {'auc': 0.8543326226222381}, 1177.7721707000019)\n",
      "INFO flwr 2023-09-03 12:08:17,427 | fl_server.py:159 | evaluate_round 16: no clients selected, cancel\n",
      "DEBUG flwr 2023-09-03 12:08:17,428 | fl_server.py:226 | fit_round 17: strategy sampled 2 clients (out of 3)\n"
     ]
    },
    {
     "name": "stdout",
     "output_type": "stream",
     "text": [
      "testset mse 0.05057675763964653 and auc 0.8543326226222381\n",
      "Evaluation on the server: test_mse=0.0506, test_auc=0.8543\n",
      "Configuring round 17\n",
      "\u001B[2m\u001B[36m(launch_and_fit pid=16220)\u001B[0m binary client\n",
      "\u001B[2m\u001B[36m(launch_and_fit pid=16220)\u001B[0m Client 1 aggregated_trees length 2\n",
      "\u001B[2m\u001B[36m(launch_and_fit pid=16220)\u001B[0m Client 1: recieved 2 trees\n",
      "\u001B[2m\u001B[36m(launch_and_fit pid=22016)\u001B[0m Client 0: recieved 2 trees\n",
      "\u001B[2m\u001B[36m(launch_and_fit pid=22016)\u001B[0m Client 0: recieved 2 trees\n",
      "\u001B[2m\u001B[36m(launch_and_fit pid=22016)\u001B[0m Client 0: recieved 2 trees\n",
      "\u001B[2m\u001B[36m(launch_and_fit pid=16220)\u001B[0m Client 1: training for 2 iterations/updates\n"
     ]
    },
    {
     "name": "stderr",
     "output_type": "stream",
     "text": [
      "DEBUG flwr 2023-09-03 12:09:06,043 | fl_server.py:241 | fit_round 17 received 2 results and 0 failures\n"
     ]
    },
    {
     "name": "stdout",
     "output_type": "stream",
     "text": [
      "Server side aggregated 2 trees.\n",
      "serverside task_type binary\n",
      "\u001B[2m\u001B[36m(launch_and_fit pid=22016)\u001B[0m Client 0: training for 2 iterations/updates\n"
     ]
    },
    {
     "name": "stderr",
     "output_type": "stream",
     "text": [
      "INFO flwr 2023-09-03 12:09:22,125 | fl_server.py:112 | fit progress: (17, 0.050782822, {'auc': 0.8560013768083476}, 1242.4710678999982)\n",
      "INFO flwr 2023-09-03 12:09:22,126 | fl_server.py:159 | evaluate_round 17: no clients selected, cancel\n",
      "DEBUG flwr 2023-09-03 12:09:22,127 | fl_server.py:226 | fit_round 18: strategy sampled 2 clients (out of 3)\n"
     ]
    },
    {
     "name": "stdout",
     "output_type": "stream",
     "text": [
      "testset mse 0.05078282207250595 and auc 0.8560013768083476\n",
      "Evaluation on the server: test_mse=0.0508, test_auc=0.8560\n",
      "Configuring round 18\n",
      "\u001B[2m\u001B[36m(launch_and_fit pid=22016)\u001B[0m binary client\n",
      "\u001B[2m\u001B[36m(launch_and_fit pid=22016)\u001B[0m Client 2 aggregated_trees length 2\n",
      "\u001B[2m\u001B[36m(launch_and_fit pid=22016)\u001B[0m Client 2: recieved 2 trees\n",
      "\u001B[2m\u001B[36m(launch_and_fit pid=16220)\u001B[0m Client 0: recieved 2 trees\n",
      "\u001B[2m\u001B[36m(launch_and_fit pid=16220)\u001B[0m Client 0: recieved 2 trees\n",
      "\u001B[2m\u001B[36m(launch_and_fit pid=16220)\u001B[0m Client 0: recieved 2 trees\n",
      "\u001B[2m\u001B[36m(launch_and_fit pid=22016)\u001B[0m Client 2: training for 2 iterations/updates\n"
     ]
    },
    {
     "name": "stderr",
     "output_type": "stream",
     "text": [
      "DEBUG flwr 2023-09-03 12:10:11,571 | fl_server.py:241 | fit_round 18 received 2 results and 0 failures\n"
     ]
    },
    {
     "name": "stdout",
     "output_type": "stream",
     "text": [
      "Server side aggregated 2 trees.\n",
      "serverside task_type binary\n",
      "\u001B[2m\u001B[36m(launch_and_fit pid=16220)\u001B[0m Client 0: training for 2 iterations/updates\n"
     ]
    },
    {
     "name": "stderr",
     "output_type": "stream",
     "text": [
      "INFO flwr 2023-09-03 12:10:28,377 | fl_server.py:112 | fit progress: (18, 0.050773013, {'auc': 0.8534774329579667}, 1308.7226678000006)\n",
      "INFO flwr 2023-09-03 12:10:28,378 | fl_server.py:159 | evaluate_round 18: no clients selected, cancel\n",
      "DEBUG flwr 2023-09-03 12:10:28,378 | fl_server.py:226 | fit_round 19: strategy sampled 2 clients (out of 3)\n"
     ]
    },
    {
     "name": "stdout",
     "output_type": "stream",
     "text": [
      "testset mse 0.0507730133831501 and auc 0.8534774329579667\n",
      "Evaluation on the server: test_mse=0.0508, test_auc=0.8535\n",
      "Configuring round 19\n",
      "\u001B[2m\u001B[36m(launch_and_fit pid=16220)\u001B[0m binary client\n",
      "\u001B[2m\u001B[36m(launch_and_fit pid=16220)\u001B[0m Client 2 aggregated_trees length 2\n",
      "\u001B[2m\u001B[36m(launch_and_fit pid=16220)\u001B[0m Client 2: recieved 2 trees\n",
      "\u001B[2m\u001B[36m(launch_and_fit pid=16220)\u001B[0m Client 2: training for 2 iterations/updates\n",
      "\u001B[2m\u001B[36m(launch_and_fit pid=22016)\u001B[0m Client 2: training for 2 iterations/updates\n",
      "\u001B[2m\u001B[36m(launch_and_fit pid=22016)\u001B[0m Client 2: training for 2 iterations/updates\n",
      "\u001B[2m\u001B[36m(launch_and_fit pid=22016)\u001B[0m Client 2: training for 2 iterations/updates\n"
     ]
    },
    {
     "name": "stderr",
     "output_type": "stream",
     "text": [
      "DEBUG flwr 2023-09-03 12:10:47,935 | fl_server.py:241 | fit_round 19 received 2 results and 0 failures\n"
     ]
    },
    {
     "name": "stdout",
     "output_type": "stream",
     "text": [
      "Server side aggregated 2 trees.\n",
      "serverside task_type binary\n"
     ]
    },
    {
     "name": "stderr",
     "output_type": "stream",
     "text": [
      "INFO flwr 2023-09-03 12:11:04,308 | fl_server.py:112 | fit progress: (19, 0.050880596, {'auc': 0.8561535868211612}, 1344.6543678000016)\n",
      "INFO flwr 2023-09-03 12:11:04,310 | fl_server.py:159 | evaluate_round 19: no clients selected, cancel\n",
      "DEBUG flwr 2023-09-03 12:11:04,311 | fl_server.py:226 | fit_round 20: strategy sampled 2 clients (out of 3)\n"
     ]
    },
    {
     "name": "stdout",
     "output_type": "stream",
     "text": [
      "testset mse 0.05088059604167938 and auc 0.8561535868211612\n",
      "Evaluation on the server: test_mse=0.0509, test_auc=0.8562\n",
      "Configuring round 20\n",
      "\u001B[2m\u001B[36m(launch_and_fit pid=16220)\u001B[0m binary client\n",
      "\u001B[2m\u001B[36m(launch_and_fit pid=22016)\u001B[0m binary client\n",
      "\u001B[2m\u001B[36m(launch_and_fit pid=22016)\u001B[0m Client 1 aggregated_trees length 2\n",
      "\u001B[2m\u001B[36m(launch_and_fit pid=22016)\u001B[0m Client 1: recieved 2 trees\n",
      "\u001B[2m\u001B[36m(launch_and_fit pid=22016)\u001B[0m Client 0: recieved 2 trees\n",
      "\u001B[2m\u001B[36m(launch_and_fit pid=16220)\u001B[0m Client 0: recieved 2 trees\n",
      "\u001B[2m\u001B[36m(launch_and_fit pid=16220)\u001B[0m Client 0: recieved 2 trees\n",
      "\u001B[2m\u001B[36m(launch_and_fit pid=22016)\u001B[0m Client 1: training for 2 iterations/updates\n"
     ]
    },
    {
     "name": "stderr",
     "output_type": "stream",
     "text": [
      "DEBUG flwr 2023-09-03 12:11:52,572 | fl_server.py:241 | fit_round 20 received 2 results and 0 failures\n"
     ]
    },
    {
     "name": "stdout",
     "output_type": "stream",
     "text": [
      "Server side aggregated 2 trees.\n",
      "serverside task_type binary\n",
      "\u001B[2m\u001B[36m(launch_and_fit pid=16220)\u001B[0m Client 0: training for 2 iterations/updates\n"
     ]
    },
    {
     "name": "stderr",
     "output_type": "stream",
     "text": [
      "INFO flwr 2023-09-03 12:12:09,039 | fl_server.py:112 | fit progress: (20, 0.05118059, {'auc': 0.8561702813970036}, 1409.3847740000056)\n",
      "INFO flwr 2023-09-03 12:12:09,040 | fl_server.py:159 | evaluate_round 20: no clients selected, cancel\n",
      "INFO flwr 2023-09-03 12:12:09,041 | fl_server.py:140 | FL finished in 1409.3865583000006\n",
      "INFO flwr 2023-09-03 12:12:09,042 | app.py:225 | app_fit: losses_distributed []\n",
      "INFO flwr 2023-09-03 12:12:09,042 | app.py:226 | app_fit: metrics_distributed_fit {}\n",
      "INFO flwr 2023-09-03 12:12:09,043 | app.py:227 | app_fit: metrics_distributed {}\n",
      "INFO flwr 2023-09-03 12:12:09,044 | app.py:228 | app_fit: losses_centralized [(0, 0.24386197), (1, 0.18235922), (2, 0.12871544), (3, 0.08814612), (4, 0.063491106), (5, 0.054221094), (6, 0.05220344), (7, 0.05170432), (8, 0.0511967), (9, 0.050993785), (10, 0.05084899), (11, 0.05089658), (12, 0.05014523), (13, 0.05054567), (14, 0.050894815), (15, 0.049806397), (16, 0.050576758), (17, 0.050782822), (18, 0.050773013), (19, 0.050880596), (20, 0.05118059)]\n",
      "INFO flwr 2023-09-03 12:12:09,044 | app.py:229 | app_fit: metrics_centralized {'auc': [(0, 0.7794937417510989), (1, 0.8529411230479456), (2, 0.856210686722429), (3, 0.8527935251899512), (4, 0.8529044038848661), (5, 0.8552356433592699), (6, 0.8566496872887802), (7, 0.862813743167155), (8, 0.8549474014906058), (9, 0.8619562296179262), (10, 0.8544948849956525), (11, 0.8528414720117706), (12, 0.8616478028940968), (13, 0.8622013861252564), (14, 0.855971540262402), (15, 0.8629675469554757), (16, 0.8543326226222381), (17, 0.8560013768083476), (18, 0.8534774329579667), (19, 0.8561535868211612), (20, 0.8561702813970036)]}\n"
     ]
    },
    {
     "name": "stdout",
     "output_type": "stream",
     "text": [
      "testset mse 0.05118058994412422 and auc 0.8561702813970036\n",
      "Evaluation on the server: test_mse=0.0512, test_auc=0.8562\n",
      "History (loss, centralized):\n",
      "\tround 0: 0.24386197328567505\n",
      "\tround 1: 0.1823592185974121\n",
      "\tround 2: 0.12871544063091278\n",
      "\tround 3: 0.08814612030982971\n",
      "\tround 4: 0.0634911060333252\n",
      "\tround 5: 0.05422109365463257\n",
      "\tround 6: 0.05220343917608261\n",
      "\tround 7: 0.051704321056604385\n",
      "\tround 8: 0.05119670182466507\n",
      "\tround 9: 0.05099378526210785\n",
      "\tround 10: 0.05084899067878723\n",
      "\tround 11: 0.05089658126235008\n",
      "\tround 12: 0.0501452311873436\n",
      "\tround 13: 0.050545670092105865\n",
      "\tround 14: 0.05089481547474861\n",
      "\tround 15: 0.049806397408246994\n",
      "\tround 16: 0.05057675763964653\n",
      "\tround 17: 0.05078282207250595\n",
      "\tround 18: 0.0507730133831501\n",
      "\tround 19: 0.05088059604167938\n",
      "\tround 20: 0.05118058994412422\n",
      "History (metrics, centralized):\n",
      "{'auc': [(0, 0.7794937417510989), (1, 0.8529411230479456), (2, 0.856210686722429), (3, 0.8527935251899512), (4, 0.8529044038848661), (5, 0.8552356433592699), (6, 0.8566496872887802), (7, 0.862813743167155), (8, 0.8549474014906058), (9, 0.8619562296179262), (10, 0.8544948849956525), (11, 0.8528414720117706), (12, 0.8616478028940968), (13, 0.8622013861252564), (14, 0.855971540262402), (15, 0.8629675469554757), (16, 0.8543326226222381), (17, 0.8560013768083476), (18, 0.8534774329579667), (19, 0.8561535868211612), (20, 0.8561702813970036)]}\n",
      "[(0, 0.24386197), (1, 0.18235922), (2, 0.12871544), (3, 0.08814612), (4, 0.063491106), (5, 0.054221094), (6, 0.05220344), (7, 0.05170432), (8, 0.0511967), (9, 0.050993785), (10, 0.05084899), (11, 0.05089658), (12, 0.05014523), (13, 0.05054567), (14, 0.050894815), (15, 0.049806397), (16, 0.050576758), (17, 0.050782822), (18, 0.050773013), (19, 0.050880596), (20, 0.05118059)]\n",
      "Fold 2:\n",
      "[0.8, 0.1, 0.1]\n",
      "Training time 0:24:11.898103\n"
     ]
    }
   ],
   "source": [
    "split = [0.8, 0.1, 0.1]\n",
    "do_fl(split)"
   ],
   "metadata": {
    "collapsed": false,
    "ExecuteTime": {
     "end_time": "2023-09-03T11:12:09.103765600Z",
     "start_time": "2023-09-03T10:47:57.163181700Z"
    }
   }
  },
  {
   "cell_type": "code",
   "execution_count": null,
   "outputs": [],
   "source": [
    "# split = [0.2, 0.2, 0.2, 0.2, 0.2]\n",
    "# do_fl(split)\n",
    "#\n",
    "# split = [0.6, 0.1, 0.1, 0.1, 0.1]\n",
    "# do_fl(split)\n",
    "#\n",
    "# split = [0.8, 0.05, 0.05, 0.05, 0.05]\n",
    "# do_fl(split)"
   ],
   "metadata": {
    "collapsed": false
   }
  },
  {
   "cell_type": "code",
   "execution_count": 5,
   "outputs": [
    {
     "name": "stderr",
     "output_type": "stream",
     "text": [
      "C:\\Users\\Shuyao\\AppData\\Local\\Temp\\ipykernel_596\\1879151568.py:17: UserWarning: To copy construct from a tensor, it is recommended to use sourceTensor.clone().detach() or sourceTensor.clone().detach().requires_grad_(True), rather than torch.tensor(sourceTensor).\n",
      "  X_train = torch.tensor(X_train)\n",
      "C:\\Users\\Shuyao\\AppData\\Local\\Temp\\ipykernel_596\\1879151568.py:18: UserWarning: To copy construct from a tensor, it is recommended to use sourceTensor.clone().detach() or sourceTensor.clone().detach().requires_grad_(True), rather than torch.tensor(sourceTensor).\n",
      "  X_test = torch.tensor(X_test)\n",
      "C:\\Users\\Shuyao\\AppData\\Local\\Temp\\ipykernel_596\\1879151568.py:19: UserWarning: To copy construct from a tensor, it is recommended to use sourceTensor.clone().detach() or sourceTensor.clone().detach().requires_grad_(True), rather than torch.tensor(sourceTensor).\n",
      "  y_train = torch.reshape(torch.tensor(y_train), (-1, 1))\n",
      "C:\\Users\\Shuyao\\AppData\\Local\\Temp\\ipykernel_596\\1879151568.py:20: UserWarning: To copy construct from a tensor, it is recommended to use sourceTensor.clone().detach() or sourceTensor.clone().detach().requires_grad_(True), rather than torch.tensor(sourceTensor).\n",
      "  y_test = torch.reshape(torch.tensor(y_test), (-1, 1))\n",
      "WARNING flwr 2023-09-03 15:40:39,809 | app.py:210 | Both server and strategy were provided, ignoring strategy\n",
      "INFO flwr 2023-09-03 15:40:39,849 | app.py:145 | Starting Flower simulation, config: ServerConfig(num_rounds=20, round_timeout=None)\n"
     ]
    },
    {
     "name": "stdout",
     "output_type": "stream",
     "text": [
      "Fold 1:\n",
      "here\n",
      "torch.Size([30000, 1])\n",
      "torch.Size([30000, 10])\n",
      "torch.Size([120000, 1])\n",
      "torch.Size([120000, 10])\n",
      "torch.Size([12000, 10])\n",
      "torch.Size([12000, 10])\n",
      "torch.Size([12000, 10])\n",
      "torch.Size([12000, 10])\n",
      "torch.Size([12000, 10])\n",
      "torch.Size([12000, 10])\n",
      "torch.Size([12000, 10])\n",
      "torch.Size([12000, 10])\n",
      "torch.Size([12000, 10])\n",
      "torch.Size([12000, 10])\n",
      "Data partitioned across 10 clients and 0.0 of local dataset reserved for validation.\n",
      "FL experiment configured for 20 rounds with 10 client in the pool.\n",
      "FL round will proceed with 50.0% of clients sampled, at least 2.\n"
     ]
    },
    {
     "name": "stderr",
     "output_type": "stream",
     "text": [
      "2023-09-03 15:40:54,523\tINFO worker.py:1636 -- Started a local Ray instance.\n",
      "INFO flwr 2023-09-03 15:41:04,256 | app.py:179 | Flower VCE: Ray initialized with resources: {'CPU': 8.0, 'GPU': 1.0, 'node:127.0.0.1': 1.0, 'object_store_memory': 1032110899.0, 'memory': 2064221799.0}\n",
      "INFO flwr 2023-09-03 15:41:04,259 | fl_server.py:78 | fit num_rounds 20\n",
      "INFO flwr 2023-09-03 15:41:04,262 | fl_server.py:81 | Initializing global parameters\n",
      "INFO flwr 2023-09-03 15:41:04,263 | fl_server.py:287 | Requesting initial parameters from one random client\n",
      "\u001B[2m\u001B[33m(raylet)\u001B[0m --- Logging error ---\n",
      "\u001B[2m\u001B[33m(raylet)\u001B[0m Traceback (most recent call last):\n",
      "\u001B[2m\u001B[33m(raylet)\u001B[0m   File \"D:\\FD\\venv\\lib\\site-packages\\ray\\dashboard\\agent.py\", line 299, in run\n",
      "\u001B[2m\u001B[33m(raylet)\u001B[0m     self.http_server = await self._configure_http_server(modules)\n",
      "\u001B[2m\u001B[33m(raylet)\u001B[0m   File \"D:\\FD\\venv\\lib\\site-packages\\ray\\dashboard\\agent.py\", line 162, in _configure_http_server\n",
      "\u001B[2m\u001B[33m(raylet)\u001B[0m     await http_server.start(modules)\n",
      "\u001B[2m\u001B[33m(raylet)\u001B[0m   File \"D:\\FD\\venv\\lib\\site-packages\\ray\\dashboard\\http_server_agent.py\", line 69, in start\n",
      "\u001B[2m\u001B[33m(raylet)\u001B[0m     raise e\n",
      "\u001B[2m\u001B[33m(raylet)\u001B[0m   File \"D:\\FD\\venv\\lib\\site-packages\\ray\\dashboard\\http_server_agent.py\", line 62, in start\n",
      "\u001B[2m\u001B[33m(raylet)\u001B[0m     await site.start()\n",
      "\u001B[2m\u001B[33m(raylet)\u001B[0m   File \"D:\\FD\\venv\\lib\\site-packages\\aiohttp\\web_runner.py\", line 121, in start\n",
      "\u001B[2m\u001B[33m(raylet)\u001B[0m     self._server = await loop.create_server(\n",
      "\u001B[2m\u001B[33m(raylet)\u001B[0m   File \"C:\\Program Files\\WindowsApps\\PythonSoftwareFoundation.Python.3.10_3.10.3056.0_x64__qbz5n2kfra8p0\\lib\\asyncio\\base_events.py\", line 1519, in create_server\n",
      "\u001B[2m\u001B[33m(raylet)\u001B[0m     raise OSError(err.errno, 'error while attempting '\n",
      "\u001B[2m\u001B[33m(raylet)\u001B[0m OSError: [Errno 10048] error while attempting to bind on address ('127.0.0.1', 52365): \\u901a\\u5e38\\u6bcf\\u4e2a\\u5957\\u63a5\\u5b57\\u5730\\u5740(\\u534f\\u8bae/\\u7f51\\u7edc\\u5730\\u5740/\\u7aef\\u53e3)\\u53ea\\u5141\\u8bb8\\u4f7f\\u7528\\u4e00\\u6b21\\u3002\n",
      "\u001B[2m\u001B[33m(raylet)\u001B[0m \n",
      "\u001B[2m\u001B[33m(raylet)\u001B[0m During handling of the above exception, another exception occurred:\n",
      "\u001B[2m\u001B[33m(raylet)\u001B[0m \n",
      "\u001B[2m\u001B[33m(raylet)\u001B[0m Traceback (most recent call last):\n",
      "\u001B[2m\u001B[33m(raylet)\u001B[0m   File \"C:\\Program Files\\WindowsApps\\PythonSoftwareFoundation.Python.3.10_3.10.3056.0_x64__qbz5n2kfra8p0\\lib\\logging\\__init__.py\", line 1103, in emit\n",
      "\u001B[2m\u001B[33m(raylet)\u001B[0m     stream.write(msg + self.terminator)\n",
      "\u001B[2m\u001B[33m(raylet)\u001B[0m   File \"C:\\Program Files\\WindowsApps\\PythonSoftwareFoundation.Python.3.10_3.10.3056.0_x64__qbz5n2kfra8p0\\lib\\encodings\\cp1252.py\", line 19, in encode\n",
      "\u001B[2m\u001B[33m(raylet)\u001B[0m     return codecs.charmap_encode(input,self.errors,encoding_table)[0]\n",
      "\u001B[2m\u001B[33m(raylet)\u001B[0m UnicodeEncodeError: 'charmap' codec can't encode characters in position 1104-1112: character maps to <undefined>\n",
      "\u001B[2m\u001B[33m(raylet)\u001B[0m Call stack:\n",
      "\u001B[2m\u001B[33m(raylet)\u001B[0m   File \"D:\\FD\\venv\\lib\\site-packages\\ray\\dashboard\\agent.py\", line 544, in <module>\n",
      "\u001B[2m\u001B[33m(raylet)\u001B[0m     loop.run_until_complete(agent.run())\n",
      "\u001B[2m\u001B[33m(raylet)\u001B[0m   File \"C:\\Program Files\\WindowsApps\\PythonSoftwareFoundation.Python.3.10_3.10.3056.0_x64__qbz5n2kfra8p0\\lib\\asyncio\\base_events.py\", line 636, in run_until_complete\n",
      "\u001B[2m\u001B[33m(raylet)\u001B[0m     self.run_forever()\n",
      "\u001B[2m\u001B[33m(raylet)\u001B[0m   File \"C:\\Program Files\\WindowsApps\\PythonSoftwareFoundation.Python.3.10_3.10.3056.0_x64__qbz5n2kfra8p0\\lib\\asyncio\\windows_events.py\", line 321, in run_forever\n",
      "\u001B[2m\u001B[33m(raylet)\u001B[0m     super().run_forever()\n",
      "\u001B[2m\u001B[33m(raylet)\u001B[0m   File \"C:\\Program Files\\WindowsApps\\PythonSoftwareFoundation.Python.3.10_3.10.3056.0_x64__qbz5n2kfra8p0\\lib\\asyncio\\base_events.py\", line 603, in run_forever\n",
      "\u001B[2m\u001B[33m(raylet)\u001B[0m     self._run_once()\n",
      "\u001B[2m\u001B[33m(raylet)\u001B[0m   File \"C:\\Program Files\\WindowsApps\\PythonSoftwareFoundation.Python.3.10_3.10.3056.0_x64__qbz5n2kfra8p0\\lib\\asyncio\\base_events.py\", line 1909, in _run_once\n",
      "\u001B[2m\u001B[33m(raylet)\u001B[0m     handle._run()\n",
      "\u001B[2m\u001B[33m(raylet)\u001B[0m   File \"C:\\Program Files\\WindowsApps\\PythonSoftwareFoundation.Python.3.10_3.10.3056.0_x64__qbz5n2kfra8p0\\lib\\asyncio\\events.py\", line 80, in _run\n",
      "\u001B[2m\u001B[33m(raylet)\u001B[0m     self._context.run(self._callback, *self._args)\n",
      "\u001B[2m\u001B[33m(raylet)\u001B[0m   File \"D:\\FD\\venv\\lib\\site-packages\\ray\\dashboard\\agent.py\", line 304, in run\n",
      "\u001B[2m\u001B[33m(raylet)\u001B[0m     logger.exception(\n",
      "\u001B[2m\u001B[33m(raylet)\u001B[0m Message: 'Failed to start http server. Agent will stay alive but disable the http service.'\n",
      "\u001B[2m\u001B[33m(raylet)\u001B[0m Arguments: ()\n",
      "\u001B[2m\u001B[36m(launch_and_get_parameters pid=25880)\u001B[0m Windows fatal exception: code 0xc0000139\n",
      "\u001B[2m\u001B[36m(launch_and_get_parameters pid=25880)\u001B[0m \n",
      "\u001B[2m\u001B[36m(launch_and_get_parameters pid=25880)\u001B[0m Stack (most recent call first):\n",
      "\u001B[2m\u001B[36m(launch_and_get_parameters pid=25880)\u001B[0m   File \"C:\\Program Files\\WindowsApps\\PythonSoftwareFoundation.Python.3.10_3.10.3056.0_x64__qbz5n2kfra8p0\\lib\\ctypes\\__init__.py\", line 374 in __init__\n",
      "\u001B[2m\u001B[36m(launch_and_get_parameters pid=25880)\u001B[0m   File \"D:\\FD\\venv\\lib\\site-packages\\torch\\_ops.py\", line 573 in load_library\n",
      "\u001B[2m\u001B[36m(launch_and_get_parameters pid=25880)\u001B[0m   File \"D:\\FD\\venv\\lib\\site-packages\\torchvision\\extension.py\", line 36 in <module>\n",
      "\u001B[2m\u001B[36m(launch_and_get_parameters pid=25880)\u001B[0m   File \"<frozen importlib._bootstrap>\", line 241 in _call_with_frames_removed\n",
      "\u001B[2m\u001B[36m(launch_and_get_parameters pid=25880)\u001B[0m   File \"<frozen importlib._bootstrap_external>\", line 883 in exec_module\n",
      "\u001B[2m\u001B[36m(launch_and_get_parameters pid=25880)\u001B[0m   File \"<frozen importlib._bootstrap>\", line 688 in _load_unlocked\n",
      "\u001B[2m\u001B[36m(launch_and_get_parameters pid=25880)\u001B[0m   File \"<frozen importlib._bootstrap>\", line 1006 in _find_and_load_unlocked\n",
      "\u001B[2m\u001B[36m(launch_and_get_parameters pid=25880)\u001B[0m   File \"<frozen importlib._bootstrap>\", line 1027 in _find_and_load\n",
      "\u001B[2m\u001B[36m(launch_and_get_parameters pid=25880)\u001B[0m   File \"D:\\FD\\venv\\lib\\site-packages\\torchvision\\io\\_load_gpu_decoder.py\", line 1 in <module>\n",
      "\u001B[2m\u001B[36m(launch_and_get_parameters pid=25880)\u001B[0m   File \"<frozen importlib._bootstrap>\", line 241 in _call_with_frames_removed\n",
      "\u001B[2m\u001B[36m(launch_and_get_parameters pid=25880)\u001B[0m   File \"<frozen importlib._bootstrap_external>\", line 883 in exec_module\n",
      "\u001B[2m\u001B[36m(launch_and_get_parameters pid=25880)\u001B[0m   File \"<frozen importlib._bootstrap>\", line 688 in _load_unlocked\n",
      "\u001B[2m\u001B[36m(launch_and_get_parameters pid=25880)\u001B[0m   File \"<frozen importlib._bootstrap>\", line 1006 in _find_and_load_unlocked\n",
      "\u001B[2m\u001B[36m(launch_and_get_parameters pid=25880)\u001B[0m   File \"<frozen importlib._bootstrap>\", line 1027 in _find_and_load\n",
      "\u001B[2m\u001B[36m(launch_and_get_parameters pid=25880)\u001B[0m   File \"D:\\FD\\venv\\lib\\site-packages\\torchvision\\io\\__init__.py\", line 8 in <module>\n",
      "\u001B[2m\u001B[36m(launch_and_get_parameters pid=25880)\u001B[0m   File \"<frozen importlib._bootstrap>\", line 241 in _call_with_frames_removed\n",
      "\u001B[2m\u001B[36m(launch_and_get_parameters pid=25880)\u001B[0m   File \"<frozen importlib._bootstrap_external>\", line 883 in exec_module\n",
      "\u001B[2m\u001B[36m(launch_and_get_parameters pid=25880)\u001B[0m   File \"<frozen importlib._bootstrap>\", line 688 in _load_unlocked\n",
      "\u001B[2m\u001B[36m(launch_and_get_parameters pid=25880)\u001B[0m   File \"<frozen importlib._bootstrap>\", line 1006 in _find_and_load_unlocked\n",
      "\u001B[2m\u001B[36m(launch_and_get_parameters pid=25880)\u001B[0m   File \"<frozen importlib._bootstrap>\", line 1027 in _find_and_load\n",
      "\u001B[2m\u001B[36m(launch_and_get_parameters pid=25880)\u001B[0m   File \"<frozen importlib._bootstrap>\", line 241 in _call_with_frames_removed\n",
      "\u001B[2m\u001B[36m(launch_and_get_parameters pid=25880)\u001B[0m   File \"<frozen importlib._bootstrap>\", line 992 in _find_and_load_unlocked\n",
      "\u001B[2m\u001B[36m(launch_and_get_parameters pid=25880)\u001B[0m   File \"<frozen importlib._bootstrap>\", line 1027 in _find_and_load\n",
      "\u001B[2m\u001B[36m(launch_and_get_parameters pid=25880)\u001B[0m   File \"D:\\FD\\venv\\lib\\site-packages\\torchvision\\datasets\\_optical_flow.py\", line 12 in <module>\n",
      "\u001B[2m\u001B[36m(launch_and_get_parameters pid=25880)\u001B[0m   File \"<frozen importlib._bootstrap>\", line 241 in _call_with_frames_removed\n",
      "\u001B[2m\u001B[36m(launch_and_get_parameters pid=25880)\u001B[0m   File \"<frozen importlib._bootstrap_external>\", line 883 in exec_module\n",
      "\u001B[2m\u001B[36m(launch_and_get_parameters pid=25880)\u001B[0m   File \"<frozen importlib._bootstrap>\", line 688 in _load_unlocked\n",
      "\u001B[2m\u001B[36m(launch_and_get_parameters pid=25880)\u001B[0m   File \"<frozen importlib._bootstrap>\", line 1006 in _find_and_load_unlocked\n",
      "\u001B[2m\u001B[36m(launch_and_get_parameters pid=25880)\u001B[0m   File \"<frozen importlib._bootstrap>\", line 1027 in _find_and_load\n",
      "\u001B[2m\u001B[36m(launch_and_get_parameters pid=25880)\u001B[0m   File \"D:\\FD\\venv\\lib\\site-packages\\torchvision\\datasets\\__init__.py\", line 1 in <module>\n",
      "\u001B[2m\u001B[36m(launch_and_get_parameters pid=25880)\u001B[0m   File \"<frozen importlib._bootstrap>\", line 241 in _call_with_frames_removed\n",
      "\u001B[2m\u001B[36m(launch_and_get_parameters pid=25880)\u001B[0m   File \"<frozen importlib._bootstrap_external>\", line 883 in exec_module\n",
      "\u001B[2m\u001B[36m(launch_and_get_parameters pid=25880)\u001B[0m   File \"<frozen importlib._bootstrap>\", line 688 in _load_unlocked\n",
      "\u001B[2m\u001B[36m(launch_and_get_parameters pid=25880)\u001B[0m   File \"<frozen importlib._bootstrap>\", line 1006 in _find_and_load_unlocked\n",
      "\u001B[2m\u001B[36m(launch_and_get_parameters pid=25880)\u001B[0m   File \"<frozen importlib._bootstrap>\", line 1027 in _find_and_load\n",
      "\u001B[2m\u001B[36m(launch_and_get_parameters pid=25880)\u001B[0m   File \"<frozen importlib._bootstrap>\", line 241 in _call_with_frames_removed\n",
      "\u001B[2m\u001B[36m(launch_and_get_parameters pid=25880)\u001B[0m   File \"<frozen importlib._bootstrap>\", line 1078 in _handle_fromlist\n",
      "\u001B[2m\u001B[36m(launch_and_get_parameters pid=25880)\u001B[0m   File \"D:\\FD\\venv\\lib\\site-packages\\torchvision\\__init__.py\", line 6 in <module>\n",
      "\u001B[2m\u001B[36m(launch_and_get_parameters pid=25880)\u001B[0m   File \"<frozen importlib._bootstrap>\", line 241 in _call_with_frames_removed\n",
      "\u001B[2m\u001B[36m(launch_and_get_parameters pid=25880)\u001B[0m   File \"<frozen importlib._bootstrap_external>\", line 883 in exec_module\n",
      "\u001B[2m\u001B[36m(launch_and_get_parameters pid=25880)\u001B[0m   File \"<frozen importlib._bootstrap>\", line 688 in _load_unlocked\n",
      "\u001B[2m\u001B[36m(launch_and_get_parameters pid=25880)\u001B[0m   File \"<frozen importlib._bootstrap>\", line 1006 in _find_and_load_unlocked\n",
      "\u001B[2m\u001B[36m(launch_and_get_parameters pid=25880)\u001B[0m   File \"<frozen importlib._bootstrap>\", line 1027 in _find_and_load\n",
      "\u001B[2m\u001B[36m(launch_and_get_parameters pid=25880)\u001B[0m   File \"<frozen importlib._bootstrap>\", line 1050 in _gcd_import\n",
      "\u001B[2m\u001B[36m(launch_and_get_parameters pid=25880)\u001B[0m   File \"C:\\Program Files\\WindowsApps\\PythonSoftwareFoundation.Python.3.10_3.10.3056.0_x64__qbz5n2kfra8p0\\lib\\importlib\\__init__.py\", line 126 in import_module\n",
      "\u001B[2m\u001B[36m(launch_and_get_parameters pid=25880)\u001B[0m   File \"D:\\FD\\venv\\lib\\site-packages\\lightning_utilities\\core\\imports.py\", line 73 in compare_version\n",
      "\u001B[2m\u001B[36m(launch_and_get_parameters pid=25880)\u001B[0m   File \"D:\\FD\\venv\\lib\\site-packages\\torchmetrics\\utilities\\imports.py\", line 41 in <module>\n",
      "\u001B[2m\u001B[36m(launch_and_get_parameters pid=25880)\u001B[0m   File \"<frozen importlib._bootstrap>\", line 241 in _call_with_frames_removed\n",
      "\u001B[2m\u001B[36m(launch_and_get_parameters pid=25880)\u001B[0m   File \"<frozen importlib._bootstrap_external>\", line 883 in exec_module\n",
      "\u001B[2m\u001B[36m(launch_and_get_parameters pid=25880)\u001B[0m   File \"<frozen importlib._bootstrap>\", line 688 in _load_unlocked\n",
      "\u001B[2m\u001B[36m(launch_and_get_parameters pid=25880)\u001B[0m   File \"<frozen importlib._bootstrap>\", line 1006 in _find_and_load_unlocked\n",
      "\u001B[2m\u001B[36m(launch_and_get_parameters pid=25880)\u001B[0m   File \"<frozen importlib._bootstrap>\", line 1027 in _find_and_load\n",
      "\u001B[2m\u001B[36m(launch_and_get_parameters pid=25880)\u001B[0m   File \"D:\\FD\\venv\\lib\\site-packages\\torchmetrics\\utilities\\data.py\", line 22 in <module>\n",
      "\u001B[2m\u001B[36m(launch_and_get_parameters pid=25880)\u001B[0m   File \"<frozen importlib._bootstrap>\", line 241 in _call_with_frames_removed\n",
      "\u001B[2m\u001B[36m(launch_and_get_parameters pid=25880)\u001B[0m   File \"<frozen importlib._bootstrap_external>\", line 883 in exec_module\n",
      "\u001B[2m\u001B[36m(launch_and_get_parameters pid=25880)\u001B[0m   File \"<frozen importlib._bootstrap>\", line 688 in _load_unlocked\n",
      "\u001B[2m\u001B[36m(launch_and_get_parameters pid=25880)\u001B[0m   File \"<frozen importlib._bootstrap>\", line 1006 in _find_and_load_unlocked\n",
      "\u001B[2m\u001B[36m(launch_and_get_parameters pid=25880)\u001B[0m   File \"<frozen importlib._bootstrap>\", line 1027 in _find_and_load\n",
      "\u001B[2m\u001B[36m(launch_and_get_parameters pid=25880)\u001B[0m   File \"D:\\FD\\venv\\lib\\site-packages\\torchmetrics\\metric.py\", line 30 in <module>\n",
      "\u001B[2m\u001B[36m(launch_and_get_parameters pid=25880)\u001B[0m   File \"<frozen importlib._bootstrap>\", line 241 in _call_with_frames_removed\n",
      "\u001B[2m\u001B[36m(launch_and_get_parameters pid=25880)\u001B[0m   File \"<frozen importlib._bootstrap_external>\", line 883 in exec_module\n",
      "\u001B[2m\u001B[36m(launch_and_get_parameters pid=25880)\u001B[0m   File \"<frozen importlib._bootstrap>\", line 688 in _load_unlocked\n",
      "\u001B[2m\u001B[36m(launch_and_get_parameters pid=25880)\u001B[0m   File \"<frozen importlib._bootstrap>\", line 1006 in _find_and_load_unlocked\n",
      "\u001B[2m\u001B[36m(launch_and_get_parameters pid=25880)\u001B[0m   File \"<frozen importlib._bootstrap>\", line 1027 in _find_and_load\n",
      "\u001B[2m\u001B[36m(launch_and_get_parameters pid=25880)\u001B[0m   File \"D:\\FD\\venv\\lib\\site-packages\\torchmetrics\\utilities\\checks.py\", line 25 in <module>\n",
      "\u001B[2m\u001B[36m(launch_and_get_parameters pid=25880)\u001B[0m   File \"<frozen importlib._bootstrap>\", line 241 in _call_with_frames_removed\n",
      "\u001B[2m\u001B[36m(launch_and_get_parameters pid=25880)\u001B[0m   File \"<frozen importlib._bootstrap_external>\", line 883 in exec_module\n",
      "\u001B[2m\u001B[36m(launch_and_get_parameters pid=25880)\u001B[0m   File \"<frozen importlib._bootstrap>\", line 688 in _load_unlocked\n",
      "\u001B[2m\u001B[36m(launch_and_get_parameters pid=25880)\u001B[0m   File \"<frozen importlib._bootstrap>\", line 1006 in _find_and_load_unlocked\n",
      "\u001B[2m\u001B[36m(launch_and_get_parameters pid=25880)\u001B[0m   File \"<frozen importlib._bootstrap>\", line 1027 in _find_and_load\n",
      "\u001B[2m\u001B[36m(launch_and_get_parameters pid=25880)\u001B[0m   File \"D:\\FD\\venv\\lib\\site-packages\\torchmetrics\\utilities\\__init__.py\", line 14 in <module>\n",
      "\u001B[2m\u001B[36m(launch_and_get_parameters pid=25880)\u001B[0m   File \"<frozen importlib._bootstrap>\", line 241 in _call_with_frames_removed\n",
      "\u001B[2m\u001B[36m(launch_and_get_parameters pid=25880)\u001B[0m   File \"<frozen importlib._bootstrap_external>\", line 883 in exec_module\n",
      "\u001B[2m\u001B[36m(launch_and_get_parameters pid=25880)\u001B[0m   File \"<frozen importlib._bootstrap>\", line 688 in _load_unlocked\n",
      "\u001B[2m\u001B[36m(launch_and_get_parameters pid=25880)\u001B[0m   File \"<frozen importlib._bootstrap>\", line 1006 in _find_and_load_unlocked\n",
      "\u001B[2m\u001B[36m(launch_and_get_parameters pid=25880)\u001B[0m   File \"<frozen importlib._bootstrap>\", line 1027 in _find_and_load\n",
      "\u001B[2m\u001B[36m(launch_and_get_parameters pid=25880)\u001B[0m   File \"D:\\FD\\venv\\lib\\site-packages\\torchmetrics\\functional\\audio\\pit.py\", line 23 in <module>\n",
      "\u001B[2m\u001B[36m(launch_and_get_parameters pid=25880)\u001B[0m   File \"<frozen importlib._bootstrap>\", line 241 in _call_with_frames_removed\n",
      "\u001B[2m\u001B[36m(launch_and_get_parameters pid=25880)\u001B[0m   File \"<frozen importlib._bootstrap_external>\", line 883 in exec_module\n",
      "\u001B[2m\u001B[36m(launch_and_get_parameters pid=25880)\u001B[0m   File \"<frozen importlib._bootstrap>\", line 688 in _load_unlocked\n",
      "\u001B[2m\u001B[36m(launch_and_get_parameters pid=25880)\u001B[0m   File \"<frozen importlib._bootstrap>\", line 1006 in _find_and_load_unlocked\n",
      "\u001B[2m\u001B[36m(launch_and_get_parameters pid=25880)\u001B[0m   File \"<frozen importlib._bootstrap>\", line 1027 in _find_and_load\n",
      "\u001B[2m\u001B[36m(launch_and_get_parameters pid=25880)\u001B[0m   File \"D:\\FD\\venv\\lib\\site-packages\\torchmetrics\\functional\\audio\\__init__.py\", line 14 in <module>\n",
      "\u001B[2m\u001B[36m(launch_and_get_parameters pid=25880)\u001B[0m   File \"<frozen importlib._bootstrap>\", line 241 in _call_with_frames_removed\n",
      "\u001B[2m\u001B[36m(launch_and_get_parameters pid=25880)\u001B[0m   File \"<frozen importlib._bootstrap_external>\", line 883 in exec_module\n",
      "\u001B[2m\u001B[36m(launch_and_get_parameters pid=25880)\u001B[0m   File \"<frozen importlib._bootstrap>\", line 688 in _load_unlocked\n",
      "\u001B[2m\u001B[36m(launch_and_get_parameters pid=25880)\u001B[0m   File \"<frozen importlib._bootstrap>\", line 1006 in _find_and_load_unlocked\n",
      "\u001B[2m\u001B[36m(launch_and_get_parameters pid=25880)\u001B[0m   File \"<frozen importlib._bootstrap>\", line 1027 in _find_and_load\n",
      "\u001B[2m\u001B[36m(launch_and_get_parameters pid=25880)\u001B[0m   File \"<frozen importlib._bootstrap>\", line 241 in _call_with_frames_removed\n",
      "\u001B[2m\u001B[36m(launch_and_get_parameters pid=25880)\u001B[0m   File \"<frozen importlib._bootstrap>\", line 992 in _find_and_load_unlocked\n",
      "\u001B[2m\u001B[36m(launch_and_get_parameters pid=25880)\u001B[0m   File \"<frozen importlib._bootstrap>\", line 1027 in _find_and_load\n",
      "\u001B[2m\u001B[36m(launch_and_get_parameters pid=25880)\u001B[0m   File \"D:\\FD\\venv\\lib\\site-packages\\torchmetrics\\functional\\__init__.py\", line 14 in <module>\n",
      "\u001B[2m\u001B[36m(launch_and_get_parameters pid=25880)\u001B[0m   File \"<frozen importlib._bootstrap>\", line 241 in _call_with_frames_removed\n",
      "\u001B[2m\u001B[36m(launch_and_get_parameters pid=25880)\u001B[0m   File \"<frozen importlib._bootstrap_external>\", line 883 in exec_module\n",
      "\u001B[2m\u001B[36m(launch_and_get_parameters pid=25880)\u001B[0m   File \"<frozen importlib._bootstrap>\", line 688 in _load_unlocked\n",
      "\u001B[2m\u001B[36m(launch_and_get_parameters pid=25880)\u001B[0m   File \"<frozen importlib._bootstrap>\", line 1006 in _find_and_load_unlocked\n",
      "\u001B[2m\u001B[36m(launch_and_get_parameters pid=25880)\u001B[0m   File \"<frozen importlib._bootstrap>\", line 1027 in _find_and_load\n",
      "\u001B[2m\u001B[36m(launch_and_get_parameters pid=25880)\u001B[0m   File \"<frozen importlib._bootstrap>\", line 241 in _call_with_frames_removed\n",
      "\u001B[2m\u001B[36m(launch_and_get_parameters pid=25880)\u001B[0m   File \"<frozen importlib._bootstrap>\", line 1078 in _handle_fromlist\n",
      "\u001B[2m\u001B[36m(launch_and_get_parameters pid=25880)\u001B[0m   File \"D:\\FD\\venv\\lib\\site-packages\\torchmetrics\\__init__.py\", line 14 in <module>\n",
      "\u001B[2m\u001B[36m(launch_and_get_parameters pid=25880)\u001B[0m   ...\n",
      "\u001B[2m\u001B[36m(launch_and_get_parameters pid=25880)\u001B[0m Windows fatal exception: code 0xc0000139\n",
      "\u001B[2m\u001B[36m(launch_and_get_parameters pid=25880)\u001B[0m \n",
      "\u001B[2m\u001B[36m(launch_and_get_parameters pid=25880)\u001B[0m D:\\FD\\venv\\lib\\site-packages\\torchvision\\io\\image.py:13: UserWarning: Failed to load image Python extension: '[WinError 127] 找不到指定的程序。'If you don't plan on using image functionality from `torchvision.io`, you can ignore this warning. Otherwise, there might be something wrong with your environment. Did you have `libjpeg` or `libpng` installed before building `torchvision` from source?\n",
      "\u001B[2m\u001B[36m(launch_and_get_parameters pid=25880)\u001B[0m   warn(\n"
     ]
    },
    {
     "name": "stdout",
     "output_type": "stream",
     "text": [
      "\u001B[2m\u001B[36m(launch_and_get_parameters pid=25880)\u001B[0m binary client\n"
     ]
    },
    {
     "name": "stderr",
     "output_type": "stream",
     "text": [
      "INFO flwr 2023-09-03 15:41:12,212 | fl_server.py:292 | Received initial parameters from one random client\n",
      "INFO flwr 2023-09-03 15:41:12,213 | fl_server.py:84 | Evaluating initial parameters\n"
     ]
    },
    {
     "name": "stdout",
     "output_type": "stream",
     "text": [
      "serverside task_type binary\n"
     ]
    },
    {
     "name": "stderr",
     "output_type": "stream",
     "text": [
      "INFO flwr 2023-09-03 15:42:36,420 | fl_server.py:87 | initial parameters (loss, other metrics): 0.24516228, {'auc': 0.31926567051720456}\n",
      "INFO flwr 2023-09-03 15:42:36,422 | fl_server.py:97 | FL starting\n",
      "DEBUG flwr 2023-09-03 15:42:36,423 | fl_server.py:226 | fit_round 1: strategy sampled 5 clients (out of 10)\n"
     ]
    },
    {
     "name": "stdout",
     "output_type": "stream",
     "text": [
      "testset mse 0.24516227841377258 and auc 0.31926567051720456\n",
      "Evaluation on the server: test_mse=0.2452, test_auc=0.3193\n",
      "Configuring round 1\n",
      "\u001B[2m\u001B[36m(launch_and_fit pid=25880)\u001B[0m binary client\n",
      "\u001B[2m\u001B[36m(launch_and_fit pid=25880)\u001B[0m Client 6 aggregated_trees length 2\n",
      "\u001B[2m\u001B[36m(launch_and_fit pid=25880)\u001B[0m Client 6: only had its own tree\n"
     ]
    },
    {
     "name": "stderr",
     "output_type": "stream",
     "text": [
      "\u001B[2m\u001B[36m(launch_and_fit pid=3124)\u001B[0m Windows fatal exception: code 0xc0000139\u001B[32m [repeated 2x across cluster]\u001B[0m\n",
      "\u001B[2m\u001B[36m(launch_and_fit pid=3124)\u001B[0m \u001B[32m [repeated 2x across cluster]\u001B[0m\n",
      "\u001B[2m\u001B[36m(launch_and_fit pid=3124)\u001B[0m   warn(\n",
      "\u001B[2m\u001B[36m(launch_and_fit pid=3124)\u001B[0m   warn(\n",
      "\u001B[2m\u001B[36m(launch_and_fit pid=3124)\u001B[0m   warn(\n",
      "\u001B[2m\u001B[36m(launch_and_fit pid=3124)\u001B[0m   warn(\n",
      "\u001B[2m\u001B[36m(launch_and_fit pid=3124)\u001B[0m   File \"<frozen importlib._bootstrap>\", line 241 in _call_with_frames_removed\u001B[32m [repeated 18x across cluster]\u001B[0m\n",
      "\u001B[2m\u001B[36m(launch_and_fit pid=3124)\u001B[0m   File \"<frozen importlib._bootstrap_external>\", line 883 in exec_module\u001B[32m [repeated 14x across cluster]\u001B[0m\n",
      "\u001B[2m\u001B[36m(launch_and_fit pid=3124)\u001B[0m   File \"<frozen importlib._bootstrap>\", line 688 in _load_unlocked\u001B[32m [repeated 14x across cluster]\u001B[0m\n",
      "\u001B[2m\u001B[36m(launch_and_fit pid=3124)\u001B[0m   File \"<frozen importlib._bootstrap>\", line 1006 in _find_and_load_unlocked\u001B[32m [repeated 16x across cluster]\u001B[0m\n",
      "\u001B[2m\u001B[36m(launch_and_fit pid=3124)\u001B[0m   File \"<frozen importlib._bootstrap>\", line 1027 in _find_and_load\u001B[32m [repeated 16x across cluster]\u001B[0m\n",
      "\u001B[2m\u001B[36m(launch_and_fit pid=3124)\u001B[0m   warn(\n",
      "\u001B[2m\u001B[36m(launch_and_fit pid=3124)\u001B[0m   warn(\n",
      "\u001B[2m\u001B[36m(launch_and_fit pid=3124)\u001B[0m   warn(\n",
      "\u001B[2m\u001B[36m(launch_and_fit pid=3124)\u001B[0m   warn(\n",
      "\u001B[2m\u001B[36m(launch_and_fit pid=3124)\u001B[0m   File \"<frozen importlib._bootstrap>\", line 1078 in _handle_fromlist\u001B[32m [repeated 2x across cluster]\u001B[0m\n",
      "\u001B[2m\u001B[36m(launch_and_fit pid=3124)\u001B[0m   warn(\n",
      "\u001B[2m\u001B[36m(launch_and_fit pid=3124)\u001B[0m   warn(\n",
      "\u001B[2m\u001B[36m(launch_and_fit pid=3124)\u001B[0m   warn(\n",
      "\u001B[2m\u001B[36m(launch_and_fit pid=3124)\u001B[0m   warn(\n",
      "\u001B[2m\u001B[36m(launch_and_fit pid=3124)\u001B[0m   warn(\n",
      "\u001B[2m\u001B[36m(launch_and_fit pid=3124)\u001B[0m   warn(\n",
      "\u001B[2m\u001B[36m(launch_and_fit pid=3124)\u001B[0m   warn(\n",
      "\u001B[2m\u001B[36m(launch_and_fit pid=3124)\u001B[0m   warn(\n",
      "\u001B[2m\u001B[36m(launch_and_fit pid=3124)\u001B[0m   warn(\n",
      "\u001B[2m\u001B[36m(launch_and_fit pid=3124)\u001B[0m   warn(\n",
      "\u001B[2m\u001B[36m(launch_and_fit pid=3124)\u001B[0m   warn(\n",
      "\u001B[2m\u001B[36m(launch_and_fit pid=3124)\u001B[0m   warn(\n",
      "\u001B[2m\u001B[36m(launch_and_fit pid=3124)\u001B[0m   warn(\n",
      "\u001B[2m\u001B[36m(launch_and_fit pid=3124)\u001B[0m   warn(\n",
      "\u001B[2m\u001B[36m(launch_and_fit pid=3124)\u001B[0m   warn(\n",
      "\u001B[2m\u001B[36m(launch_and_fit pid=3124)\u001B[0m   warn(\n",
      "\u001B[2m\u001B[36m(launch_and_fit pid=22232)\u001B[0m Stack (most recent call first):\n",
      "\u001B[2m\u001B[36m(launch_and_fit pid=22232)\u001B[0m   File \"C:\\Program Files\\WindowsApps\\PythonSoftwareFoundation.Python.3.10_3.10.3056.0_x64__qbz5n2kfra8p0\\lib\\ctypes\\__init__.py\", line 374 in __init__\n",
      "\u001B[2m\u001B[36m(launch_and_fit pid=22232)\u001B[0m   File \"D:\\FD\\venv\\lib\\site-packages\\torch\\_ops.py\", line 573 in load_library\n",
      "\u001B[2m\u001B[36m(launch_and_fit pid=22232)\u001B[0m   File \"D:\\FD\\venv\\lib\\site-packages\\torchvision\\extension.py\", line 36 in <module>\n",
      "\u001B[2m\u001B[36m(launch_and_fit pid=22232)\u001B[0m   File \"D:\\FD\\venv\\lib\\site-packages\\torchvision\\io\\_load_gpu_decoder.py\", line 1 in <module>\n",
      "\u001B[2m\u001B[36m(launch_and_fit pid=22232)\u001B[0m   File \"D:\\FD\\venv\\lib\\site-packages\\torchvision\\io\\__init__.py\", line 8 in <module>\n",
      "\u001B[2m\u001B[36m(launch_and_fit pid=22232)\u001B[0m   File \"D:\\FD\\venv\\lib\\site-packages\\torchvision\\datasets\\_optical_flow.py\", line 12 in <module>\n",
      "\u001B[2m\u001B[36m(launch_and_fit pid=22232)\u001B[0m   File \"D:\\FD\\venv\\lib\\site-packages\\torchvision\\datasets\\__init__.py\", line 1 in <module>\n",
      "\u001B[2m\u001B[36m(launch_and_fit pid=22232)\u001B[0m   File \"D:\\FD\\venv\\lib\\site-packages\\torchvision\\__init__.py\", line 6 in <module>\n",
      "\u001B[2m\u001B[36m(launch_and_fit pid=22232)\u001B[0m   File \"<frozen importlib._bootstrap>\", line 1050 in _gcd_import\n",
      "\u001B[2m\u001B[36m(launch_and_fit pid=22232)\u001B[0m   File \"C:\\Program Files\\WindowsApps\\PythonSoftwareFoundation.Python.3.10_3.10.3056.0_x64__qbz5n2kfra8p0\\lib\\importlib\\__init__.py\", line 126 in import_module\n",
      "\u001B[2m\u001B[36m(launch_and_fit pid=22232)\u001B[0m   File \"D:\\FD\\venv\\lib\\site-packages\\lightning_utilities\\core\\imports.py\", line 73 in compare_version\n",
      "\u001B[2m\u001B[36m(launch_and_fit pid=22232)\u001B[0m   File \"D:\\FD\\venv\\lib\\site-packages\\torchmetrics\\utilities\\imports.py\", line 41 in <module>\n",
      "\u001B[2m\u001B[36m(launch_and_fit pid=22232)\u001B[0m   File \"D:\\FD\\venv\\lib\\site-packages\\torchmetrics\\utilities\\data.py\", line 22 in <module>\n",
      "\u001B[2m\u001B[36m(launch_and_fit pid=22232)\u001B[0m   File \"D:\\FD\\venv\\lib\\site-packages\\torchmetrics\\metric.py\", line 30 in <module>\n",
      "\u001B[2m\u001B[36m(launch_and_fit pid=22232)\u001B[0m   File \"D:\\FD\\venv\\lib\\site-packages\\torchmetrics\\utilities\\checks.py\", line 25 in <module>\n",
      "\u001B[2m\u001B[36m(launch_and_fit pid=22232)\u001B[0m   File \"D:\\FD\\venv\\lib\\site-packages\\torchmetrics\\utilities\\__init__.py\", line 14 in <module>\n",
      "\u001B[2m\u001B[36m(launch_and_fit pid=22232)\u001B[0m   File \"D:\\FD\\venv\\lib\\site-packages\\torchmetrics\\functional\\audio\\pit.py\", line 23 in <module>\n",
      "\u001B[2m\u001B[36m(launch_and_fit pid=22232)\u001B[0m   File \"D:\\FD\\venv\\lib\\site-packages\\torchmetrics\\functional\\audio\\__init__.py\", line 14 in <module>\n",
      "\u001B[2m\u001B[36m(launch_and_fit pid=22232)\u001B[0m   File \"D:\\FD\\venv\\lib\\site-packages\\torchmetrics\\functional\\__init__.py\", line 14 in <module>\n",
      "\u001B[2m\u001B[36m(launch_and_fit pid=22232)\u001B[0m   File \"D:\\FD\\venv\\lib\\site-packages\\torchmetrics\\__init__.py\", line 14 in <module>\n",
      "\u001B[2m\u001B[36m(launch_and_fit pid=22232)\u001B[0m   ...\n",
      "\u001B[2m\u001B[36m(launch_and_fit pid=22232)\u001B[0m D:\\FD\\venv\\lib\\site-packages\\torchvision\\io\\image.py:13: UserWarning: Failed to load image Python extension: '[WinError 127] 找不到指定的程序。'If you don't plan on using image functionality from `torchvision.io`, you can ignore this warning. Otherwise, there might be something wrong with your environment. Did you have `libjpeg` or `libpng` installed before building `torchvision` from source?\n",
      "\u001B[2m\u001B[36m(launch_and_fit pid=22232)\u001B[0m   warn(\n"
     ]
    },
    {
     "name": "stdout",
     "output_type": "stream",
     "text": [
      "\u001B[2m\u001B[36m(launch_and_fit pid=3124)\u001B[0m binary client\n",
      "\u001B[2m\u001B[36m(launch_and_fit pid=3124)\u001B[0m Client 4 aggregated_trees length 2\n",
      "\u001B[2m\u001B[36m(launch_and_fit pid=3124)\u001B[0m Client 4: only had its own tree\n"
     ]
    },
    {
     "name": "stderr",
     "output_type": "stream",
     "text": [
      "\u001B[2m\u001B[36m(launch_and_fit pid=25880)\u001B[0m D:\\FD\\clients\\xgb_client.py:238: UserWarning: To copy construct from a tensor, it is recommended to use sourceTensor.clone().detach() or sourceTensor.clone().detach().requires_grad_(True), rather than torch.tensor(sourceTensor).\n",
      "\u001B[2m\u001B[36m(launch_and_fit pid=25880)\u001B[0m   y_test = torch.cat((torch.tensor(y_test), torch.tensor(labels)), dim=0)\n",
      "\u001B[2m\u001B[36m(launch_and_fit pid=25880)\u001B[0m D:\\FD\\clients\\xgb_client.py:239: UserWarning: To copy construct from a tensor, it is recommended to use sourceTensor.clone().detach() or sourceTensor.clone().detach().requires_grad_(True), rather than torch.tensor(sourceTensor).\n",
      "\u001B[2m\u001B[36m(launch_and_fit pid=25880)\u001B[0m   y_pred = torch.cat((torch.tensor(y_pred), torch.tensor(outputs)), dim=0)\n",
      "\u001B[2m\u001B[36m(launch_and_fit pid=2508)\u001B[0m Windows fatal exception: code 0xc0000139\u001B[32m [repeated 6x across cluster]\u001B[0m\n",
      "\u001B[2m\u001B[36m(launch_and_fit pid=2508)\u001B[0m \u001B[32m [repeated 6x across cluster]\u001B[0m\n",
      "\u001B[2m\u001B[36m(launch_and_fit pid=2508)\u001B[0m   File \"<frozen importlib._bootstrap>\", line 241 in _call_with_frames_removed\u001B[32m [repeated 54x across cluster]\u001B[0m\n",
      "\u001B[2m\u001B[36m(launch_and_fit pid=2508)\u001B[0m   File \"<frozen importlib._bootstrap_external>\", line 883 in exec_module\u001B[32m [repeated 42x across cluster]\u001B[0m\n",
      "\u001B[2m\u001B[36m(launch_and_fit pid=2508)\u001B[0m   File \"<frozen importlib._bootstrap>\", line 688 in _load_unlocked\u001B[32m [repeated 42x across cluster]\u001B[0m\n",
      "\u001B[2m\u001B[36m(launch_and_fit pid=2508)\u001B[0m   File \"<frozen importlib._bootstrap>\", line 1006 in _find_and_load_unlocked\u001B[32m [repeated 48x across cluster]\u001B[0m\n",
      "\u001B[2m\u001B[36m(launch_and_fit pid=2508)\u001B[0m   File \"<frozen importlib._bootstrap>\", line 1027 in _find_and_load\u001B[32m [repeated 48x across cluster]\u001B[0m\n",
      "\u001B[2m\u001B[36m(launch_and_fit pid=2508)\u001B[0m   File \"<frozen importlib._bootstrap>\", line 1078 in _handle_fromlist\u001B[32m [repeated 6x across cluster]\u001B[0m\n",
      "\u001B[2m\u001B[36m(launch_and_fit pid=2508)\u001B[0m Stack (most recent call first):\u001B[32m [repeated 2x across cluster]\u001B[0m\n",
      "\u001B[2m\u001B[36m(launch_and_fit pid=2508)\u001B[0m   File \"C:\\Program Files\\WindowsApps\\PythonSoftwareFoundation.Python.3.10_3.10.3056.0_x64__qbz5n2kfra8p0\\lib\\ctypes\\__init__.py\", line 374 in __init__\u001B[32m [repeated 2x across cluster]\u001B[0m\n",
      "\u001B[2m\u001B[36m(launch_and_fit pid=2508)\u001B[0m   File \"D:\\FD\\venv\\lib\\site-packages\\torch\\_ops.py\", line 573 in load_library\u001B[32m [repeated 2x across cluster]\u001B[0m\n",
      "\u001B[2m\u001B[36m(launch_and_fit pid=2508)\u001B[0m   File \"D:\\FD\\venv\\lib\\site-packages\\torchvision\\extension.py\", line 36 in <module>\u001B[32m [repeated 2x across cluster]\u001B[0m\n",
      "\u001B[2m\u001B[36m(launch_and_fit pid=2508)\u001B[0m   File \"D:\\FD\\venv\\lib\\site-packages\\torchvision\\io\\_load_gpu_decoder.py\", line 1 in <module>\u001B[32m [repeated 2x across cluster]\u001B[0m\n",
      "\u001B[2m\u001B[36m(launch_and_fit pid=2508)\u001B[0m   File \"D:\\FD\\venv\\lib\\site-packages\\torchvision\\io\\__init__.py\", line 8 in <module>\u001B[32m [repeated 2x across cluster]\u001B[0m\n",
      "\u001B[2m\u001B[36m(launch_and_fit pid=2508)\u001B[0m   File \"D:\\FD\\venv\\lib\\site-packages\\torchvision\\datasets\\_optical_flow.py\", line 12 in <module>\u001B[32m [repeated 2x across cluster]\u001B[0m\n",
      "\u001B[2m\u001B[36m(launch_and_fit pid=2508)\u001B[0m   File \"D:\\FD\\venv\\lib\\site-packages\\torchvision\\datasets\\__init__.py\", line 1 in <module>\u001B[32m [repeated 2x across cluster]\u001B[0m\n",
      "\u001B[2m\u001B[36m(launch_and_fit pid=2508)\u001B[0m   File \"D:\\FD\\venv\\lib\\site-packages\\torchvision\\__init__.py\", line 6 in <module>\u001B[32m [repeated 2x across cluster]\u001B[0m\n",
      "\u001B[2m\u001B[36m(launch_and_fit pid=2508)\u001B[0m   File \"<frozen importlib._bootstrap>\", line 1050 in _gcd_import\u001B[32m [repeated 2x across cluster]\u001B[0m\n",
      "\u001B[2m\u001B[36m(launch_and_fit pid=2508)\u001B[0m   File \"C:\\Program Files\\WindowsApps\\PythonSoftwareFoundation.Python.3.10_3.10.3056.0_x64__qbz5n2kfra8p0\\lib\\importlib\\__init__.py\", line 126 in import_module\u001B[32m [repeated 2x across cluster]\u001B[0m\n",
      "\u001B[2m\u001B[36m(launch_and_fit pid=2508)\u001B[0m   File \"D:\\FD\\venv\\lib\\site-packages\\lightning_utilities\\core\\imports.py\", line 73 in compare_version\u001B[32m [repeated 2x across cluster]\u001B[0m\n",
      "\u001B[2m\u001B[36m(launch_and_fit pid=2508)\u001B[0m   File \"D:\\FD\\venv\\lib\\site-packages\\torchmetrics\\utilities\\imports.py\", line 41 in <module>\u001B[32m [repeated 2x across cluster]\u001B[0m\n",
      "\u001B[2m\u001B[36m(launch_and_fit pid=2508)\u001B[0m   File \"D:\\FD\\venv\\lib\\site-packages\\torchmetrics\\utilities\\data.py\", line 22 in <module>\u001B[32m [repeated 2x across cluster]\u001B[0m\n",
      "\u001B[2m\u001B[36m(launch_and_fit pid=2508)\u001B[0m   File \"D:\\FD\\venv\\lib\\site-packages\\torchmetrics\\metric.py\", line 30 in <module>\u001B[32m [repeated 2x across cluster]\u001B[0m\n",
      "\u001B[2m\u001B[36m(launch_and_fit pid=2508)\u001B[0m   File \"D:\\FD\\venv\\lib\\site-packages\\torchmetrics\\utilities\\checks.py\", line 25 in <module>\u001B[32m [repeated 2x across cluster]\u001B[0m\n",
      "\u001B[2m\u001B[36m(launch_and_fit pid=2508)\u001B[0m   File \"D:\\FD\\venv\\lib\\site-packages\\torchmetrics\\utilities\\__init__.py\", line 14 in <module>\u001B[32m [repeated 2x across cluster]\u001B[0m\n",
      "\u001B[2m\u001B[36m(launch_and_fit pid=2508)\u001B[0m   File \"D:\\FD\\venv\\lib\\site-packages\\torchmetrics\\functional\\audio\\pit.py\", line 23 in <module>\u001B[32m [repeated 2x across cluster]\u001B[0m\n",
      "\u001B[2m\u001B[36m(launch_and_fit pid=2508)\u001B[0m   File \"D:\\FD\\venv\\lib\\site-packages\\torchmetrics\\functional\\audio\\__init__.py\", line 14 in <module>\u001B[32m [repeated 2x across cluster]\u001B[0m\n",
      "\u001B[2m\u001B[36m(launch_and_fit pid=2508)\u001B[0m   File \"D:\\FD\\venv\\lib\\site-packages\\torchmetrics\\functional\\__init__.py\", line 14 in <module>\u001B[32m [repeated 2x across cluster]\u001B[0m\n",
      "\u001B[2m\u001B[36m(launch_and_fit pid=2508)\u001B[0m   File \"D:\\FD\\venv\\lib\\site-packages\\torchmetrics\\__init__.py\", line 14 in <module>\u001B[32m [repeated 2x across cluster]\u001B[0m\n",
      "\u001B[2m\u001B[36m(launch_and_fit pid=2508)\u001B[0m   ...\u001B[32m [repeated 2x across cluster]\u001B[0m\n",
      "\u001B[2m\u001B[36m(launch_and_fit pid=2508)\u001B[0m D:\\FD\\venv\\lib\\site-packages\\torchvision\\io\\image.py:13: UserWarning: Failed to load image Python extension: '[WinError 127] 找不到指定的程序。'If you don't plan on using image functionality from `torchvision.io`, you can ignore this warning. Otherwise, there might be something wrong with your environment. Did you have `libjpeg` or `libpng` installed before building `torchvision` from source?\u001B[32m [repeated 2x across cluster]\u001B[0m\n",
      "\u001B[2m\u001B[36m(launch_and_fit pid=2508)\u001B[0m   warn(\u001B[32m [repeated 2x across cluster]\u001B[0m\n"
     ]
    },
    {
     "name": "stdout",
     "output_type": "stream",
     "text": [
      "\u001B[2m\u001B[36m(launch_and_fit pid=25880)\u001B[0m Client 6: training for 2 iterations/updates\n",
      "\u001B[2m\u001B[36m(launch_and_fit pid=4192)\u001B[0m binary client\u001B[32m [repeated 3x across cluster]\u001B[0m\n",
      "\u001B[2m\u001B[36m(launch_and_fit pid=4192)\u001B[0m Client 2 aggregated_trees length 2\u001B[32m [repeated 3x across cluster]\u001B[0m\n",
      "\u001B[2m\u001B[36m(launch_and_fit pid=4192)\u001B[0m Client 2: only had its own tree\u001B[32m [repeated 3x across cluster]\u001B[0m\n",
      "\u001B[2m\u001B[36m(launch_and_fit pid=2508)\u001B[0m Client 1: training for 2 iterations/updates\n",
      "\u001B[2m\u001B[36m(launch_and_fit pid=3124)\u001B[0m Client 4: training for 2 iterations/updates\n"
     ]
    },
    {
     "name": "stderr",
     "output_type": "stream",
     "text": [
      "\u001B[2m\u001B[36m(launch_and_fit pid=2508)\u001B[0m D:\\FD\\clients\\xgb_client.py:239: UserWarning: To copy construct from a tensor, it is recommended to use sourceTensor.clone().detach() or sourceTensor.clone().detach().requires_grad_(True), rather than torch.tensor(sourceTensor).\u001B[32m [repeated 2x across cluster]\u001B[0m\n",
      "\u001B[2m\u001B[36m(launch_and_fit pid=2508)\u001B[0m   y_pred = torch.cat((torch.tensor(y_pred), torch.tensor(outputs)), dim=0)\n",
      "\u001B[2m\u001B[36m(launch_and_fit pid=2508)\u001B[0m   y_pred = torch.cat((torch.tensor(y_pred), torch.tensor(outputs)), dim=0)\n",
      "\u001B[2m\u001B[36m(launch_and_fit pid=3124)\u001B[0m   y_test = torch.cat((torch.tensor(y_test), torch.tensor(labels)), dim=0)\n",
      "\u001B[2m\u001B[36m(launch_and_fit pid=3124)\u001B[0m   y_pred = torch.cat((torch.tensor(y_pred), torch.tensor(outputs)), dim=0)\n",
      "DEBUG flwr 2023-09-03 15:46:15,747 | fl_server.py:241 | fit_round 1 received 5 results and 0 failures\n",
      "WARNING flwr 2023-09-03 15:46:15,771 | fedxgb_nn_avg.py:88 | No fit_metrics_aggregation_fn provided\n"
     ]
    },
    {
     "name": "stdout",
     "output_type": "stream",
     "text": [
      "Server side aggregated 5 trees.\n",
      "serverside task_type binary\n"
     ]
    },
    {
     "name": "stderr",
     "output_type": "stream",
     "text": [
      "INFO flwr 2023-09-03 15:48:14,461 | fl_server.py:112 | fit progress: (1, 0.16396207, {'auc': 0.8453929132086486}, 338.0372969000018)\n",
      "INFO flwr 2023-09-03 15:48:14,462 | fl_server.py:159 | evaluate_round 1: no clients selected, cancel\n",
      "DEBUG flwr 2023-09-03 15:48:14,463 | fl_server.py:226 | fit_round 2: strategy sampled 5 clients (out of 10)\n"
     ]
    },
    {
     "name": "stdout",
     "output_type": "stream",
     "text": [
      "testset mse 0.16396206617355347 and auc 0.8453929132086486\n",
      "Evaluation on the server: test_mse=0.1640, test_auc=0.8454\n",
      "Configuring round 2\n",
      "\u001B[2m\u001B[36m(launch_and_fit pid=25880)\u001B[0m binary client\n",
      "\u001B[2m\u001B[36m(launch_and_fit pid=22232)\u001B[0m Client 3: training for 2 iterations/updates\u001B[32m [repeated 2x across cluster]\u001B[0m\n",
      "\u001B[2m\u001B[36m(launch_and_fit pid=2508)\u001B[0m Client 2 aggregated_trees length 5\n",
      "\u001B[2m\u001B[36m(launch_and_fit pid=2508)\u001B[0m Client 2: recieved 5 trees\n",
      "\u001B[2m\u001B[36m(launch_and_fit pid=4192)\u001B[0m binary client\u001B[32m [repeated 4x across cluster]\u001B[0m\n",
      "\u001B[2m\u001B[36m(launch_and_fit pid=2508)\u001B[0m Client 2: training for 2 iterations/updates\n",
      "\u001B[2m\u001B[36m(launch_and_fit pid=25880)\u001B[0m Client 6 aggregated_trees length 5\u001B[32m [repeated 4x across cluster]\u001B[0m\n",
      "\u001B[2m\u001B[36m(launch_and_fit pid=25880)\u001B[0m Client 6: recieved 5 trees\u001B[32m [repeated 4x across cluster]\u001B[0m\n",
      "\u001B[2m\u001B[36m(launch_and_fit pid=4192)\u001B[0m Client 7: training for 2 iterations/updates\n"
     ]
    },
    {
     "name": "stderr",
     "output_type": "stream",
     "text": [
      "DEBUG flwr 2023-09-03 15:53:47,326 | fl_server.py:241 | fit_round 2 received 5 results and 0 failures\n"
     ]
    },
    {
     "name": "stdout",
     "output_type": "stream",
     "text": [
      "Server side aggregated 5 trees.\n",
      "serverside task_type binary\n"
     ]
    },
    {
     "name": "stderr",
     "output_type": "stream",
     "text": [
      "INFO flwr 2023-09-03 15:55:30,574 | fl_server.py:112 | fit progress: (2, 0.091928296, {'auc': 0.8524928269417653}, 774.150984500011)\n",
      "INFO flwr 2023-09-03 15:55:30,576 | fl_server.py:159 | evaluate_round 2: no clients selected, cancel\n",
      "DEBUG flwr 2023-09-03 15:55:30,578 | fl_server.py:226 | fit_round 3: strategy sampled 5 clients (out of 10)\n"
     ]
    },
    {
     "name": "stdout",
     "output_type": "stream",
     "text": [
      "testset mse 0.09192829579114914 and auc 0.8524928269417653\n",
      "Evaluation on the server: test_mse=0.0919, test_auc=0.8525\n",
      "Configuring round 3\n",
      "\u001B[2m\u001B[36m(launch_and_fit pid=25880)\u001B[0m binary client\n",
      "\u001B[2m\u001B[36m(launch_and_fit pid=25880)\u001B[0m Client 6: training for 2 iterations/updates\u001B[32m [repeated 3x across cluster]\u001B[0m\n",
      "\u001B[2m\u001B[36m(launch_and_fit pid=3124)\u001B[0m binary client\n",
      "\u001B[2m\u001B[36m(launch_and_fit pid=25880)\u001B[0m Client 1 aggregated_trees length 5\n",
      "\u001B[2m\u001B[36m(launch_and_fit pid=25880)\u001B[0m Client 1: recieved 5 trees\n",
      "\u001B[2m\u001B[36m(launch_and_fit pid=4192)\u001B[0m Client 8: training for 2 iterations/updates\n",
      "\u001B[2m\u001B[36m(launch_and_fit pid=4192)\u001B[0m binary client\u001B[32m [repeated 3x across cluster]\u001B[0m\n",
      "\u001B[2m\u001B[36m(launch_and_fit pid=2508)\u001B[0m Client 2 aggregated_trees length 5\u001B[32m [repeated 4x across cluster]\u001B[0m\n",
      "\u001B[2m\u001B[36m(launch_and_fit pid=2508)\u001B[0m Client 2: recieved 5 trees\u001B[32m [repeated 4x across cluster]\u001B[0m\n",
      "\u001B[2m\u001B[36m(launch_and_fit pid=2508)\u001B[0m Client 2: training for 2 iterations/updates\n"
     ]
    },
    {
     "name": "stderr",
     "output_type": "stream",
     "text": [
      "DEBUG flwr 2023-09-03 15:59:12,935 | fl_server.py:241 | fit_round 3 received 5 results and 0 failures\n"
     ]
    },
    {
     "name": "stdout",
     "output_type": "stream",
     "text": [
      "Server side aggregated 5 trees.\n",
      "serverside task_type binary\n"
     ]
    },
    {
     "name": "stderr",
     "output_type": "stream",
     "text": [
      "INFO flwr 2023-09-03 16:00:55,479 | fl_server.py:112 | fit progress: (3, 0.05842937, {'auc': 0.8555294857016433}, 1099.0554723000096)\n",
      "INFO flwr 2023-09-03 16:00:55,480 | fl_server.py:159 | evaluate_round 3: no clients selected, cancel\n",
      "DEBUG flwr 2023-09-03 16:00:55,481 | fl_server.py:226 | fit_round 4: strategy sampled 5 clients (out of 10)\n"
     ]
    },
    {
     "name": "stdout",
     "output_type": "stream",
     "text": [
      "testset mse 0.05842937156558037 and auc 0.8555294857016433\n",
      "Evaluation on the server: test_mse=0.0584, test_auc=0.8555\n",
      "Configuring round 4\n",
      "\u001B[2m\u001B[36m(launch_and_fit pid=25880)\u001B[0m binary client\n",
      "\u001B[2m\u001B[36m(launch_and_fit pid=25880)\u001B[0m Client 1: training for 2 iterations/updates\u001B[32m [repeated 3x across cluster]\u001B[0m\n",
      "\u001B[2m\u001B[36m(launch_and_fit pid=22232)\u001B[0m binary client\n",
      "\u001B[2m\u001B[36m(launch_and_fit pid=25880)\u001B[0m Client 5 aggregated_trees length 5\n",
      "\u001B[2m\u001B[36m(launch_and_fit pid=25880)\u001B[0m Client 5: recieved 5 trees\n",
      "\u001B[2m\u001B[36m(launch_and_fit pid=4192)\u001B[0m binary client\u001B[32m [repeated 3x across cluster]\u001B[0m\n",
      "\u001B[2m\u001B[36m(launch_and_fit pid=3124)\u001B[0m Client 0: training for 2 iterations/updates\n",
      "\u001B[2m\u001B[36m(launch_and_fit pid=2508)\u001B[0m Client 6 aggregated_trees length 5\u001B[32m [repeated 4x across cluster]\u001B[0m\n",
      "\u001B[2m\u001B[36m(launch_and_fit pid=2508)\u001B[0m Client 6: recieved 5 trees\u001B[32m [repeated 4x across cluster]\u001B[0m\n"
     ]
    },
    {
     "name": "stderr",
     "output_type": "stream",
     "text": [
      "DEBUG flwr 2023-09-03 16:04:16,374 | fl_server.py:241 | fit_round 4 received 5 results and 0 failures\n"
     ]
    },
    {
     "name": "stdout",
     "output_type": "stream",
     "text": [
      "Server side aggregated 5 trees.\n",
      "serverside task_type binary\n"
     ]
    },
    {
     "name": "stderr",
     "output_type": "stream",
     "text": [
      "INFO flwr 2023-09-03 16:05:45,498 | fl_server.py:112 | fit progress: (4, 0.05275563, {'auc': 0.8525955141648}, 1389.0744432000065)\n",
      "INFO flwr 2023-09-03 16:05:45,499 | fl_server.py:159 | evaluate_round 4: no clients selected, cancel\n",
      "DEBUG flwr 2023-09-03 16:05:45,500 | fl_server.py:226 | fit_round 5: strategy sampled 5 clients (out of 10)\n"
     ]
    },
    {
     "name": "stdout",
     "output_type": "stream",
     "text": [
      "testset mse 0.052755631506443024 and auc 0.8525955141648\n",
      "Evaluation on the server: test_mse=0.0528, test_auc=0.8526\n",
      "Configuring round 5\n",
      "\u001B[2m\u001B[36m(launch_and_fit pid=25880)\u001B[0m binary client\n",
      "\u001B[2m\u001B[36m(launch_and_fit pid=22232)\u001B[0m Client 7: training for 2 iterations/updates\u001B[32m [repeated 4x across cluster]\u001B[0m\n",
      "\u001B[2m\u001B[36m(launch_and_fit pid=2508)\u001B[0m Client 4 aggregated_trees length 5\n",
      "\u001B[2m\u001B[36m(launch_and_fit pid=2508)\u001B[0m Client 4: recieved 5 trees\n",
      "\u001B[2m\u001B[36m(launch_and_fit pid=4192)\u001B[0m binary client\u001B[32m [repeated 4x across cluster]\u001B[0m\n",
      "\u001B[2m\u001B[36m(launch_and_fit pid=2508)\u001B[0m Client 4: training for 2 iterations/updates\n",
      "\u001B[2m\u001B[36m(launch_and_fit pid=22232)\u001B[0m Client 2 aggregated_trees length 5\u001B[32m [repeated 4x across cluster]\u001B[0m\n",
      "\u001B[2m\u001B[36m(launch_and_fit pid=22232)\u001B[0m Client 2: recieved 5 trees\u001B[32m [repeated 4x across cluster]\u001B[0m\n",
      "\u001B[2m\u001B[36m(launch_and_fit pid=22232)\u001B[0m Client 2: training for 2 iterations/updates\n"
     ]
    },
    {
     "name": "stderr",
     "output_type": "stream",
     "text": [
      "DEBUG flwr 2023-09-03 16:08:36,914 | fl_server.py:241 | fit_round 5 received 5 results and 0 failures\n"
     ]
    },
    {
     "name": "stdout",
     "output_type": "stream",
     "text": [
      "Server side aggregated 5 trees.\n",
      "serverside task_type binary\n"
     ]
    },
    {
     "name": "stderr",
     "output_type": "stream",
     "text": [
      "INFO flwr 2023-09-03 16:10:02,386 | fl_server.py:112 | fit progress: (5, 0.05230871, {'auc': 0.8513223368403043}, 1645.9630873999995)\n",
      "INFO flwr 2023-09-03 16:10:02,398 | fl_server.py:159 | evaluate_round 5: no clients selected, cancel\n",
      "DEBUG flwr 2023-09-03 16:10:02,399 | fl_server.py:226 | fit_round 6: strategy sampled 5 clients (out of 10)\n"
     ]
    },
    {
     "name": "stdout",
     "output_type": "stream",
     "text": [
      "testset mse 0.05230870842933655 and auc 0.8513223368403043\n",
      "Evaluation on the server: test_mse=0.0523, test_auc=0.8513\n",
      "Configuring round 6\n",
      "\u001B[2m\u001B[36m(launch_and_fit pid=25880)\u001B[0m binary client\n",
      "\u001B[2m\u001B[36m(launch_and_fit pid=25880)\u001B[0m Client 0: training for 2 iterations/updates\u001B[32m [repeated 3x across cluster]\u001B[0m\n",
      "\u001B[2m\u001B[36m(launch_and_fit pid=3124)\u001B[0m binary client\n",
      "\u001B[2m\u001B[36m(launch_and_fit pid=25880)\u001B[0m Client 8 aggregated_trees length 5\n",
      "\u001B[2m\u001B[36m(launch_and_fit pid=25880)\u001B[0m Client 8: recieved 5 trees\n",
      "\u001B[2m\u001B[36m(launch_and_fit pid=2508)\u001B[0m Client 5: training for 2 iterations/updates\n",
      "\u001B[2m\u001B[36m(launch_and_fit pid=2508)\u001B[0m binary client\u001B[32m [repeated 3x across cluster]\u001B[0m\n",
      "\u001B[2m\u001B[36m(launch_and_fit pid=22232)\u001B[0m Client 9 aggregated_trees length 5\u001B[32m [repeated 4x across cluster]\u001B[0m\n",
      "\u001B[2m\u001B[36m(launch_and_fit pid=22232)\u001B[0m Client 9: recieved 5 trees\u001B[32m [repeated 4x across cluster]\u001B[0m\n",
      "\u001B[2m\u001B[36m(launch_and_fit pid=3124)\u001B[0m Client 3: training for 2 iterations/updates\n"
     ]
    },
    {
     "name": "stderr",
     "output_type": "stream",
     "text": [
      "DEBUG flwr 2023-09-03 16:12:37,171 | fl_server.py:241 | fit_round 6 received 5 results and 0 failures\n"
     ]
    },
    {
     "name": "stdout",
     "output_type": "stream",
     "text": [
      "Server side aggregated 5 trees.\n",
      "serverside task_type binary\n"
     ]
    },
    {
     "name": "stderr",
     "output_type": "stream",
     "text": [
      "INFO flwr 2023-09-03 16:14:08,850 | fl_server.py:112 | fit progress: (6, 0.052557, {'auc': 0.8513426463483024}, 1892.4261532000091)\n",
      "INFO flwr 2023-09-03 16:14:08,851 | fl_server.py:159 | evaluate_round 6: no clients selected, cancel\n",
      "DEBUG flwr 2023-09-03 16:14:08,853 | fl_server.py:226 | fit_round 7: strategy sampled 5 clients (out of 10)\n"
     ]
    },
    {
     "name": "stdout",
     "output_type": "stream",
     "text": [
      "testset mse 0.052556999027729034 and auc 0.8513426463483024\n",
      "Evaluation on the server: test_mse=0.0526, test_auc=0.8513\n",
      "Configuring round 7\n",
      "\u001B[2m\u001B[36m(launch_and_fit pid=25880)\u001B[0m binary client\n",
      "\u001B[2m\u001B[36m(launch_and_fit pid=25880)\u001B[0m Client 8: training for 2 iterations/updates\u001B[32m [repeated 3x across cluster]\u001B[0m\n",
      "\u001B[2m\u001B[36m(launch_and_fit pid=22232)\u001B[0m binary client\n",
      "\u001B[2m\u001B[36m(launch_and_fit pid=25880)\u001B[0m Client 0 aggregated_trees length 5\n",
      "\u001B[2m\u001B[36m(launch_and_fit pid=25880)\u001B[0m Client 0: recieved 5 trees\n",
      "\u001B[2m\u001B[36m(launch_and_fit pid=2508)\u001B[0m Client 4: training for 2 iterations/updates\n",
      "\u001B[2m\u001B[36m(launch_and_fit pid=2508)\u001B[0m binary client\u001B[32m [repeated 3x across cluster]\u001B[0m\n",
      "\u001B[2m\u001B[36m(launch_and_fit pid=2508)\u001B[0m Client 4 aggregated_trees length 5\u001B[32m [repeated 4x across cluster]\u001B[0m\n",
      "\u001B[2m\u001B[36m(launch_and_fit pid=2508)\u001B[0m Client 4: recieved 5 trees\u001B[32m [repeated 4x across cluster]\u001B[0m\n",
      "\u001B[2m\u001B[36m(launch_and_fit pid=22232)\u001B[0m Client 7: training for 2 iterations/updates\n"
     ]
    },
    {
     "name": "stderr",
     "output_type": "stream",
     "text": [
      "DEBUG flwr 2023-09-03 16:17:35,617 | fl_server.py:241 | fit_round 7 received 5 results and 0 failures\n"
     ]
    },
    {
     "name": "stdout",
     "output_type": "stream",
     "text": [
      "Server side aggregated 5 trees.\n",
      "serverside task_type binary\n"
     ]
    },
    {
     "name": "stderr",
     "output_type": "stream",
     "text": [
      "INFO flwr 2023-09-03 16:19:14,140 | fl_server.py:112 | fit progress: (7, 0.05145835, {'auc': 0.8570335734954171}, 2197.7172286999994)\n",
      "INFO flwr 2023-09-03 16:19:14,142 | fl_server.py:159 | evaluate_round 7: no clients selected, cancel\n",
      "DEBUG flwr 2023-09-03 16:19:14,143 | fl_server.py:226 | fit_round 8: strategy sampled 5 clients (out of 10)\n"
     ]
    },
    {
     "name": "stdout",
     "output_type": "stream",
     "text": [
      "testset mse 0.05145835131406784 and auc 0.8570335734954171\n",
      "Evaluation on the server: test_mse=0.0515, test_auc=0.8570\n",
      "Configuring round 8\n",
      "\u001B[2m\u001B[36m(launch_and_fit pid=25880)\u001B[0m binary client\n",
      "\u001B[2m\u001B[36m(launch_and_fit pid=25880)\u001B[0m Client 0: training for 2 iterations/updates\u001B[32m [repeated 3x across cluster]\u001B[0m\n",
      "\u001B[2m\u001B[36m(launch_and_fit pid=25880)\u001B[0m Client 1 aggregated_trees length 5\n",
      "\u001B[2m\u001B[36m(launch_and_fit pid=25880)\u001B[0m Client 1: recieved 5 trees\n",
      "\u001B[2m\u001B[36m(launch_and_fit pid=22232)\u001B[0m binary client\u001B[32m [repeated 4x across cluster]\u001B[0m\n",
      "\u001B[2m\u001B[36m(launch_and_fit pid=2508)\u001B[0m Client 7: training for 2 iterations/updates\n",
      "\u001B[2m\u001B[36m(launch_and_fit pid=2508)\u001B[0m Client 7 aggregated_trees length 5\u001B[32m [repeated 4x across cluster]\u001B[0m\n",
      "\u001B[2m\u001B[36m(launch_and_fit pid=2508)\u001B[0m Client 7: recieved 5 trees\u001B[32m [repeated 4x across cluster]\u001B[0m\n",
      "\u001B[2m\u001B[36m(launch_and_fit pid=3124)\u001B[0m Client 5: training for 2 iterations/updates\n"
     ]
    },
    {
     "name": "stderr",
     "output_type": "stream",
     "text": [
      "DEBUG flwr 2023-09-03 16:22:42,889 | fl_server.py:241 | fit_round 8 received 5 results and 0 failures\n"
     ]
    },
    {
     "name": "stdout",
     "output_type": "stream",
     "text": [
      "Server side aggregated 5 trees.\n",
      "serverside task_type binary\n"
     ]
    },
    {
     "name": "stderr",
     "output_type": "stream",
     "text": [
      "INFO flwr 2023-09-03 16:24:24,178 | fl_server.py:112 | fit progress: (8, 0.052416407, {'auc': 0.8510062350634742}, 2507.7550991000026)\n",
      "INFO flwr 2023-09-03 16:24:24,181 | fl_server.py:159 | evaluate_round 8: no clients selected, cancel\n",
      "DEBUG flwr 2023-09-03 16:24:24,182 | fl_server.py:226 | fit_round 9: strategy sampled 5 clients (out of 10)\n"
     ]
    },
    {
     "name": "stdout",
     "output_type": "stream",
     "text": [
      "testset mse 0.05241640657186508 and auc 0.8510062350634742\n",
      "Evaluation on the server: test_mse=0.0524, test_auc=0.8510\n",
      "Configuring round 9\n",
      "\u001B[2m\u001B[36m(launch_and_fit pid=25880)\u001B[0m binary client\n",
      "\u001B[2m\u001B[36m(launch_and_fit pid=25880)\u001B[0m Client 1: training for 2 iterations/updates\u001B[32m [repeated 3x across cluster]\u001B[0m\n",
      "\u001B[2m\u001B[36m(launch_and_fit pid=3124)\u001B[0m binary client\n",
      "\u001B[2m\u001B[36m(launch_and_fit pid=25880)\u001B[0m Client 0 aggregated_trees length 5\n",
      "\u001B[2m\u001B[36m(launch_and_fit pid=25880)\u001B[0m Client 0: recieved 5 trees\n",
      "\u001B[2m\u001B[36m(launch_and_fit pid=2508)\u001B[0m Client 7: training for 2 iterations/updates\n",
      "\u001B[2m\u001B[36m(launch_and_fit pid=2508)\u001B[0m binary client\u001B[32m [repeated 3x across cluster]\u001B[0m\n",
      "\u001B[2m\u001B[36m(launch_and_fit pid=4192)\u001B[0m Client 2 aggregated_trees length 5\u001B[32m [repeated 4x across cluster]\u001B[0m\n",
      "\u001B[2m\u001B[36m(launch_and_fit pid=4192)\u001B[0m Client 2: recieved 5 trees\u001B[32m [repeated 4x across cluster]\u001B[0m\n",
      "\u001B[2m\u001B[36m(launch_and_fit pid=4192)\u001B[0m Client 2: training for 2 iterations/updates\n"
     ]
    },
    {
     "name": "stderr",
     "output_type": "stream",
     "text": [
      "DEBUG flwr 2023-09-03 16:27:50,978 | fl_server.py:241 | fit_round 9 received 5 results and 0 failures\n"
     ]
    },
    {
     "name": "stdout",
     "output_type": "stream",
     "text": [
      "Server side aggregated 5 trees.\n",
      "serverside task_type binary\n"
     ]
    },
    {
     "name": "stderr",
     "output_type": "stream",
     "text": [
      "INFO flwr 2023-09-03 16:29:41,711 | fl_server.py:112 | fit progress: (9, 0.05090902, {'auc': 0.8570790272605773}, 2825.2874440000014)\n",
      "INFO flwr 2023-09-03 16:29:41,713 | fl_server.py:159 | evaluate_round 9: no clients selected, cancel\n",
      "DEBUG flwr 2023-09-03 16:29:41,714 | fl_server.py:226 | fit_round 10: strategy sampled 5 clients (out of 10)\n"
     ]
    },
    {
     "name": "stdout",
     "output_type": "stream",
     "text": [
      "testset mse 0.05090902000665665 and auc 0.8570790272605773\n",
      "Evaluation on the server: test_mse=0.0509, test_auc=0.8571\n",
      "Configuring round 10\n",
      "\u001B[2m\u001B[36m(launch_and_fit pid=25880)\u001B[0m binary client\n",
      "\u001B[2m\u001B[36m(launch_and_fit pid=25880)\u001B[0m Client 0: training for 2 iterations/updates\u001B[32m [repeated 3x across cluster]\u001B[0m\n",
      "\u001B[2m\u001B[36m(launch_and_fit pid=22232)\u001B[0m binary client\n",
      "\u001B[2m\u001B[36m(launch_and_fit pid=25880)\u001B[0m Client 0 aggregated_trees length 5\n",
      "\u001B[2m\u001B[36m(launch_and_fit pid=25880)\u001B[0m Client 0: recieved 5 trees\n",
      "\u001B[2m\u001B[36m(launch_and_fit pid=4192)\u001B[0m binary client\u001B[32m [repeated 3x across cluster]\u001B[0m\n",
      "\u001B[2m\u001B[36m(launch_and_fit pid=4192)\u001B[0m Client 2: training for 2 iterations/updates\n",
      "\u001B[2m\u001B[36m(launch_and_fit pid=2508)\u001B[0m Client 3 aggregated_trees length 5\u001B[32m [repeated 4x across cluster]\u001B[0m\n",
      "\u001B[2m\u001B[36m(launch_and_fit pid=2508)\u001B[0m Client 3: recieved 5 trees\u001B[32m [repeated 4x across cluster]\u001B[0m\n"
     ]
    },
    {
     "name": "stderr",
     "output_type": "stream",
     "text": [
      "DEBUG flwr 2023-09-03 16:32:29,918 | fl_server.py:241 | fit_round 10 received 5 results and 0 failures\n"
     ]
    },
    {
     "name": "stdout",
     "output_type": "stream",
     "text": [
      "Server side aggregated 5 trees.\n",
      "serverside task_type binary\n"
     ]
    },
    {
     "name": "stderr",
     "output_type": "stream",
     "text": [
      "INFO flwr 2023-09-03 16:34:23,313 | fl_server.py:112 | fit progress: (10, 0.05106741, {'auc': 0.851611415663704}, 3106.889499900004)\n",
      "INFO flwr 2023-09-03 16:34:23,315 | fl_server.py:159 | evaluate_round 10: no clients selected, cancel\n",
      "DEBUG flwr 2023-09-03 16:34:23,316 | fl_server.py:226 | fit_round 11: strategy sampled 5 clients (out of 10)\n"
     ]
    },
    {
     "name": "stdout",
     "output_type": "stream",
     "text": [
      "testset mse 0.05106740817427635 and auc 0.851611415663704\n",
      "Evaluation on the server: test_mse=0.0511, test_auc=0.8516\n",
      "Configuring round 11\n",
      "\u001B[2m\u001B[36m(launch_and_fit pid=25880)\u001B[0m binary client\n",
      "\u001B[2m\u001B[36m(launch_and_fit pid=22232)\u001B[0m Client 9: training for 2 iterations/updates\u001B[32m [repeated 4x across cluster]\u001B[0m\n",
      "\u001B[2m\u001B[36m(launch_and_fit pid=3124)\u001B[0m Client 4 aggregated_trees length 5\n",
      "\u001B[2m\u001B[36m(launch_and_fit pid=3124)\u001B[0m Client 4: recieved 5 trees\n",
      "\u001B[2m\u001B[36m(launch_and_fit pid=4192)\u001B[0m binary client\u001B[32m [repeated 4x across cluster]\u001B[0m\n",
      "\u001B[2m\u001B[36m(launch_and_fit pid=4192)\u001B[0m Client 6: training for 2 iterations/updates\n",
      "\u001B[2m\u001B[36m(launch_and_fit pid=4192)\u001B[0m Client 6 aggregated_trees length 5\u001B[32m [repeated 4x across cluster]\u001B[0m\n",
      "\u001B[2m\u001B[36m(launch_and_fit pid=4192)\u001B[0m Client 6: recieved 5 trees\u001B[32m [repeated 4x across cluster]\u001B[0m\n",
      "\u001B[2m\u001B[36m(launch_and_fit pid=2508)\u001B[0m Client 3: training for 2 iterations/updates\n"
     ]
    },
    {
     "name": "stderr",
     "output_type": "stream",
     "text": [
      "DEBUG flwr 2023-09-03 16:37:22,936 | fl_server.py:241 | fit_round 11 received 5 results and 0 failures\n"
     ]
    },
    {
     "name": "stdout",
     "output_type": "stream",
     "text": [
      "Server side aggregated 5 trees.\n",
      "serverside task_type binary\n"
     ]
    },
    {
     "name": "stderr",
     "output_type": "stream",
     "text": [
      "INFO flwr 2023-09-03 16:39:21,819 | fl_server.py:112 | fit progress: (11, 0.05055122, {'auc': 0.8551172053604137}, 3405.395669400008)\n",
      "INFO flwr 2023-09-03 16:39:21,821 | fl_server.py:159 | evaluate_round 11: no clients selected, cancel\n",
      "DEBUG flwr 2023-09-03 16:39:21,823 | fl_server.py:226 | fit_round 12: strategy sampled 5 clients (out of 10)\n"
     ]
    },
    {
     "name": "stdout",
     "output_type": "stream",
     "text": [
      "testset mse 0.050551220774650574 and auc 0.8551172053604137\n",
      "Evaluation on the server: test_mse=0.0506, test_auc=0.8551\n",
      "Configuring round 12\n",
      "\u001B[2m\u001B[36m(launch_and_fit pid=25880)\u001B[0m binary client\n",
      "\u001B[2m\u001B[36m(launch_and_fit pid=22232)\u001B[0m Client 2: training for 2 iterations/updates\u001B[32m [repeated 3x across cluster]\u001B[0m\n",
      "\u001B[2m\u001B[36m(launch_and_fit pid=3124)\u001B[0m binary client\n",
      "\u001B[2m\u001B[36m(launch_and_fit pid=25880)\u001B[0m Client 6 aggregated_trees length 5\n",
      "\u001B[2m\u001B[36m(launch_and_fit pid=25880)\u001B[0m Client 6: recieved 5 trees\n",
      "\u001B[2m\u001B[36m(launch_and_fit pid=4192)\u001B[0m Client 5: training for 2 iterations/updates\n",
      "\u001B[2m\u001B[36m(launch_and_fit pid=4192)\u001B[0m binary client\u001B[32m [repeated 3x across cluster]\u001B[0m\n",
      "\u001B[2m\u001B[36m(launch_and_fit pid=22232)\u001B[0m Client 8 aggregated_trees length 5\u001B[32m [repeated 4x across cluster]\u001B[0m\n",
      "\u001B[2m\u001B[36m(launch_and_fit pid=22232)\u001B[0m Client 8: recieved 5 trees\u001B[32m [repeated 4x across cluster]\u001B[0m\n",
      "\u001B[2m\u001B[36m(launch_and_fit pid=3124)\u001B[0m Client 0: training for 2 iterations/updates\n"
     ]
    },
    {
     "name": "stderr",
     "output_type": "stream",
     "text": [
      "DEBUG flwr 2023-09-03 16:42:34,083 | fl_server.py:241 | fit_round 12 received 5 results and 0 failures\n"
     ]
    },
    {
     "name": "stdout",
     "output_type": "stream",
     "text": [
      "Server side aggregated 5 trees.\n",
      "serverside task_type binary\n"
     ]
    },
    {
     "name": "stderr",
     "output_type": "stream",
     "text": [
      "INFO flwr 2023-09-03 16:44:02,029 | fl_server.py:112 | fit progress: (12, 0.050932366, {'auc': 0.8553997666214046}, 3685.606164500001)\n",
      "INFO flwr 2023-09-03 16:44:02,032 | fl_server.py:159 | evaluate_round 12: no clients selected, cancel\n",
      "DEBUG flwr 2023-09-03 16:44:02,033 | fl_server.py:226 | fit_round 13: strategy sampled 5 clients (out of 10)\n"
     ]
    },
    {
     "name": "stdout",
     "output_type": "stream",
     "text": [
      "testset mse 0.05093236640095711 and auc 0.8553997666214046\n",
      "Evaluation on the server: test_mse=0.0509, test_auc=0.8554\n",
      "Configuring round 13\n",
      "\u001B[2m\u001B[36m(launch_and_fit pid=25880)\u001B[0m binary client\n",
      "\u001B[2m\u001B[36m(launch_and_fit pid=22232)\u001B[0m Client 8: training for 2 iterations/updates\u001B[32m [repeated 3x across cluster]\u001B[0m\n",
      "\u001B[2m\u001B[36m(launch_and_fit pid=3124)\u001B[0m binary client\n",
      "\u001B[2m\u001B[36m(launch_and_fit pid=4192)\u001B[0m Client 7 aggregated_trees length 5\n",
      "\u001B[2m\u001B[36m(launch_and_fit pid=4192)\u001B[0m Client 7: recieved 5 trees\n",
      "\u001B[2m\u001B[36m(launch_and_fit pid=4192)\u001B[0m Client 7: training for 2 iterations/updates\n",
      "\u001B[2m\u001B[36m(launch_and_fit pid=4192)\u001B[0m binary client\u001B[32m [repeated 3x across cluster]\u001B[0m\n",
      "\u001B[2m\u001B[36m(launch_and_fit pid=2508)\u001B[0m Client 3 aggregated_trees length 5\u001B[32m [repeated 4x across cluster]\u001B[0m\n",
      "\u001B[2m\u001B[36m(launch_and_fit pid=2508)\u001B[0m Client 3: recieved 5 trees\u001B[32m [repeated 4x across cluster]\u001B[0m\n",
      "\u001B[2m\u001B[36m(launch_and_fit pid=3124)\u001B[0m Client 8: training for 2 iterations/updates\n"
     ]
    },
    {
     "name": "stderr",
     "output_type": "stream",
     "text": [
      "DEBUG flwr 2023-09-03 16:46:51,312 | fl_server.py:241 | fit_round 13 received 5 results and 0 failures\n"
     ]
    },
    {
     "name": "stdout",
     "output_type": "stream",
     "text": [
      "Server side aggregated 5 trees.\n",
      "serverside task_type binary\n"
     ]
    },
    {
     "name": "stderr",
     "output_type": "stream",
     "text": [
      "INFO flwr 2023-09-03 16:48:31,062 | fl_server.py:112 | fit progress: (13, 0.05054811, {'auc': 0.8513487454333435}, 3954.6387048000033)\n",
      "INFO flwr 2023-09-03 16:48:31,064 | fl_server.py:159 | evaluate_round 13: no clients selected, cancel\n",
      "DEBUG flwr 2023-09-03 16:48:31,065 | fl_server.py:226 | fit_round 14: strategy sampled 5 clients (out of 10)\n"
     ]
    },
    {
     "name": "stdout",
     "output_type": "stream",
     "text": [
      "testset mse 0.05054811015725136 and auc 0.8513487454333435\n",
      "Evaluation on the server: test_mse=0.0505, test_auc=0.8513\n",
      "Configuring round 14\n",
      "\u001B[2m\u001B[36m(launch_and_fit pid=25880)\u001B[0m binary client\n",
      "\u001B[2m\u001B[36m(launch_and_fit pid=25880)\u001B[0m Client 4: training for 2 iterations/updates\u001B[32m [repeated 3x across cluster]\u001B[0m\n",
      "\u001B[2m\u001B[36m(launch_and_fit pid=3124)\u001B[0m binary client\n",
      "\u001B[2m\u001B[36m(launch_and_fit pid=22232)\u001B[0m Client 8 aggregated_trees length 5\n",
      "\u001B[2m\u001B[36m(launch_and_fit pid=22232)\u001B[0m Client 8: recieved 5 trees\n",
      "\u001B[2m\u001B[36m(launch_and_fit pid=4192)\u001B[0m Client 9: training for 2 iterations/updates\n",
      "\u001B[2m\u001B[36m(launch_and_fit pid=4192)\u001B[0m binary client\u001B[32m [repeated 3x across cluster]\u001B[0m\n",
      "\u001B[2m\u001B[36m(launch_and_fit pid=4192)\u001B[0m Client 9 aggregated_trees length 5\u001B[32m [repeated 4x across cluster]\u001B[0m\n",
      "\u001B[2m\u001B[36m(launch_and_fit pid=4192)\u001B[0m Client 9: recieved 5 trees\u001B[32m [repeated 4x across cluster]\u001B[0m\n",
      "\u001B[2m\u001B[36m(launch_and_fit pid=3124)\u001B[0m Client 0: training for 2 iterations/updates\n"
     ]
    },
    {
     "name": "stderr",
     "output_type": "stream",
     "text": [
      "DEBUG flwr 2023-09-03 16:51:28,716 | fl_server.py:241 | fit_round 14 received 5 results and 0 failures\n"
     ]
    },
    {
     "name": "stdout",
     "output_type": "stream",
     "text": [
      "Server side aggregated 5 trees.\n",
      "serverside task_type binary\n"
     ]
    },
    {
     "name": "stderr",
     "output_type": "stream",
     "text": [
      "INFO flwr 2023-09-03 16:52:52,755 | fl_server.py:112 | fit progress: (14, 0.050609745, {'auc': 0.850274033226462}, 4216.332112100004)\n",
      "INFO flwr 2023-09-03 16:52:52,758 | fl_server.py:159 | evaluate_round 14: no clients selected, cancel\n",
      "DEBUG flwr 2023-09-03 16:52:52,759 | fl_server.py:226 | fit_round 15: strategy sampled 5 clients (out of 10)\n"
     ]
    },
    {
     "name": "stdout",
     "output_type": "stream",
     "text": [
      "testset mse 0.05060974508523941 and auc 0.850274033226462\n",
      "Evaluation on the server: test_mse=0.0506, test_auc=0.8503\n",
      "Configuring round 15\n",
      "\u001B[2m\u001B[36m(launch_and_fit pid=25880)\u001B[0m binary client\n",
      "\u001B[2m\u001B[36m(launch_and_fit pid=22232)\u001B[0m Client 8: training for 2 iterations/updates\u001B[32m [repeated 3x across cluster]\u001B[0m\n",
      "\u001B[2m\u001B[36m(launch_and_fit pid=22232)\u001B[0m binary client\n",
      "\u001B[2m\u001B[36m(launch_and_fit pid=3124)\u001B[0m Client 4 aggregated_trees length 5\n",
      "\u001B[2m\u001B[36m(launch_and_fit pid=3124)\u001B[0m Client 4: recieved 5 trees\n",
      "\u001B[2m\u001B[36m(launch_and_fit pid=4192)\u001B[0m binary client\u001B[32m [repeated 3x across cluster]\u001B[0m\n",
      "\u001B[2m\u001B[36m(launch_and_fit pid=4192)\u001B[0m Client 0: training for 2 iterations/updates\n",
      "\u001B[2m\u001B[36m(launch_and_fit pid=22232)\u001B[0m Client 2 aggregated_trees length 5\u001B[32m [repeated 4x across cluster]\u001B[0m\n",
      "\u001B[2m\u001B[36m(launch_and_fit pid=22232)\u001B[0m Client 2: recieved 5 trees\u001B[32m [repeated 4x across cluster]\u001B[0m\n"
     ]
    },
    {
     "name": "stderr",
     "output_type": "stream",
     "text": [
      "DEBUG flwr 2023-09-03 16:55:46,715 | fl_server.py:241 | fit_round 15 received 5 results and 0 failures\n"
     ]
    },
    {
     "name": "stdout",
     "output_type": "stream",
     "text": [
      "Server side aggregated 5 trees.\n",
      "serverside task_type binary\n"
     ]
    },
    {
     "name": "stderr",
     "output_type": "stream",
     "text": [
      "INFO flwr 2023-09-03 16:57:06,683 | fl_server.py:112 | fit progress: (15, 0.05052751, {'auc': 0.8508731859718408}, 4470.260267799997)\n",
      "INFO flwr 2023-09-03 16:57:06,685 | fl_server.py:159 | evaluate_round 15: no clients selected, cancel\n",
      "DEBUG flwr 2023-09-03 16:57:06,686 | fl_server.py:226 | fit_round 16: strategy sampled 5 clients (out of 10)\n"
     ]
    },
    {
     "name": "stdout",
     "output_type": "stream",
     "text": [
      "testset mse 0.050527509301900864 and auc 0.8508731859718408\n",
      "Evaluation on the server: test_mse=0.0505, test_auc=0.8509\n",
      "Configuring round 16\n",
      "\u001B[2m\u001B[36m(launch_and_fit pid=25880)\u001B[0m binary client\n",
      "\u001B[2m\u001B[36m(launch_and_fit pid=22232)\u001B[0m Client 2: training for 2 iterations/updates\u001B[32m [repeated 4x across cluster]\u001B[0m\n",
      "\u001B[2m\u001B[36m(launch_and_fit pid=22232)\u001B[0m Client 3 aggregated_trees length 5\n",
      "\u001B[2m\u001B[36m(launch_and_fit pid=22232)\u001B[0m Client 3: recieved 5 trees\n",
      "\u001B[2m\u001B[36m(launch_and_fit pid=4192)\u001B[0m binary client\u001B[32m [repeated 4x across cluster]\u001B[0m\n",
      "\u001B[2m\u001B[36m(launch_and_fit pid=4192)\u001B[0m Client 9: training for 2 iterations/updates\n",
      "\u001B[2m\u001B[36m(launch_and_fit pid=4192)\u001B[0m Client 9 aggregated_trees length 5\u001B[32m [repeated 4x across cluster]\u001B[0m\n",
      "\u001B[2m\u001B[36m(launch_and_fit pid=4192)\u001B[0m Client 9: recieved 5 trees\u001B[32m [repeated 4x across cluster]\u001B[0m\n",
      "\u001B[2m\u001B[36m(launch_and_fit pid=2508)\u001B[0m Client 8: training for 2 iterations/updates\n"
     ]
    },
    {
     "name": "stderr",
     "output_type": "stream",
     "text": [
      "DEBUG flwr 2023-09-03 17:00:11,264 | fl_server.py:241 | fit_round 16 received 5 results and 0 failures\n"
     ]
    },
    {
     "name": "stdout",
     "output_type": "stream",
     "text": [
      "Server side aggregated 5 trees.\n",
      "serverside task_type binary\n"
     ]
    },
    {
     "name": "stderr",
     "output_type": "stream",
     "text": [
      "INFO flwr 2023-09-03 17:02:11,701 | fl_server.py:112 | fit progress: (16, 0.050967738, {'auc': 0.8573980850903032}, 4775.277406599998)\n",
      "INFO flwr 2023-09-03 17:02:11,702 | fl_server.py:159 | evaluate_round 16: no clients selected, cancel\n",
      "DEBUG flwr 2023-09-03 17:02:11,704 | fl_server.py:226 | fit_round 17: strategy sampled 5 clients (out of 10)\n"
     ]
    },
    {
     "name": "stdout",
     "output_type": "stream",
     "text": [
      "testset mse 0.050967738032341 and auc 0.8573980850903032\n",
      "Evaluation on the server: test_mse=0.0510, test_auc=0.8574\n",
      "Configuring round 17\n",
      "\u001B[2m\u001B[36m(launch_and_fit pid=25880)\u001B[0m binary client\n",
      "\u001B[2m\u001B[36m(launch_and_fit pid=22232)\u001B[0m Client 3: training for 2 iterations/updates\u001B[32m [repeated 3x across cluster]\u001B[0m\n",
      "\u001B[2m\u001B[36m(launch_and_fit pid=3124)\u001B[0m binary client\n",
      "\u001B[2m\u001B[36m(launch_and_fit pid=25880)\u001B[0m Client 5 aggregated_trees length 5\n",
      "\u001B[2m\u001B[36m(launch_and_fit pid=25880)\u001B[0m Client 5: recieved 5 trees\n",
      "\u001B[2m\u001B[36m(launch_and_fit pid=2508)\u001B[0m Client 2: training for 2 iterations/updates\n",
      "\u001B[2m\u001B[36m(launch_and_fit pid=4192)\u001B[0m binary client\u001B[32m [repeated 3x across cluster]\u001B[0m\n",
      "\u001B[2m\u001B[36m(launch_and_fit pid=4192)\u001B[0m Client 7 aggregated_trees length 5\u001B[32m [repeated 4x across cluster]\u001B[0m\n",
      "\u001B[2m\u001B[36m(launch_and_fit pid=4192)\u001B[0m Client 7: recieved 5 trees\u001B[32m [repeated 4x across cluster]\u001B[0m\n",
      "\u001B[2m\u001B[36m(launch_and_fit pid=4192)\u001B[0m Client 7: training for 2 iterations/updates\n"
     ]
    },
    {
     "name": "stderr",
     "output_type": "stream",
     "text": [
      "DEBUG flwr 2023-09-03 17:04:48,261 | fl_server.py:241 | fit_round 17 received 5 results and 0 failures\n"
     ]
    },
    {
     "name": "stdout",
     "output_type": "stream",
     "text": [
      "Server side aggregated 5 trees.\n",
      "serverside task_type binary\n"
     ]
    },
    {
     "name": "stderr",
     "output_type": "stream",
     "text": [
      "INFO flwr 2023-09-03 17:06:08,837 | fl_server.py:112 | fit progress: (17, 0.05063299, {'auc': 0.8546310860232049}, 5012.413007900002)\n",
      "INFO flwr 2023-09-03 17:06:08,839 | fl_server.py:159 | evaluate_round 17: no clients selected, cancel\n",
      "DEBUG flwr 2023-09-03 17:06:08,840 | fl_server.py:226 | fit_round 18: strategy sampled 5 clients (out of 10)\n"
     ]
    },
    {
     "name": "stdout",
     "output_type": "stream",
     "text": [
      "testset mse 0.05063299089670181 and auc 0.8546310860232049\n",
      "Evaluation on the server: test_mse=0.0506, test_auc=0.8546\n",
      "Configuring round 18\n",
      "\u001B[2m\u001B[36m(launch_and_fit pid=25880)\u001B[0m binary client\n",
      "\u001B[2m\u001B[36m(launch_and_fit pid=22232)\u001B[0m Client 8: training for 2 iterations/updates\u001B[32m [repeated 3x across cluster]\u001B[0m\n",
      "\u001B[2m\u001B[36m(launch_and_fit pid=3124)\u001B[0m binary client\n",
      "\u001B[2m\u001B[36m(launch_and_fit pid=25880)\u001B[0m Client 3 aggregated_trees length 5\n",
      "\u001B[2m\u001B[36m(launch_and_fit pid=25880)\u001B[0m Client 3: recieved 5 trees\n",
      "\u001B[2m\u001B[36m(launch_and_fit pid=2508)\u001B[0m Client 2: training for 2 iterations/updates\n",
      "\u001B[2m\u001B[36m(launch_and_fit pid=2508)\u001B[0m binary client\u001B[32m [repeated 3x across cluster]\u001B[0m\n",
      "\u001B[2m\u001B[36m(launch_and_fit pid=3124)\u001B[0m Client 1 aggregated_trees length 5\u001B[32m [repeated 4x across cluster]\u001B[0m\n",
      "\u001B[2m\u001B[36m(launch_and_fit pid=3124)\u001B[0m Client 1: recieved 5 trees\u001B[32m [repeated 4x across cluster]\u001B[0m\n",
      "\u001B[2m\u001B[36m(launch_and_fit pid=3124)\u001B[0m Client 1: training for 2 iterations/updates\n"
     ]
    },
    {
     "name": "stderr",
     "output_type": "stream",
     "text": [
      "DEBUG flwr 2023-09-03 17:08:42,089 | fl_server.py:241 | fit_round 18 received 5 results and 0 failures\n"
     ]
    },
    {
     "name": "stdout",
     "output_type": "stream",
     "text": [
      "Server side aggregated 5 trees.\n",
      "serverside task_type binary\n"
     ]
    },
    {
     "name": "stderr",
     "output_type": "stream",
     "text": [
      "INFO flwr 2023-09-03 17:10:03,655 | fl_server.py:112 | fit progress: (18, 0.05125332, {'auc': 0.850746298291665}, 5247.232027700011)\n",
      "INFO flwr 2023-09-03 17:10:03,657 | fl_server.py:159 | evaluate_round 18: no clients selected, cancel\n",
      "DEBUG flwr 2023-09-03 17:10:03,658 | fl_server.py:226 | fit_round 19: strategy sampled 5 clients (out of 10)\n"
     ]
    },
    {
     "name": "stdout",
     "output_type": "stream",
     "text": [
      "testset mse 0.051253318786621094 and auc 0.850746298291665\n",
      "Evaluation on the server: test_mse=0.0513, test_auc=0.8507\n",
      "Configuring round 19\n",
      "\u001B[2m\u001B[36m(launch_and_fit pid=25880)\u001B[0m binary client\n",
      "\u001B[2m\u001B[36m(launch_and_fit pid=25880)\u001B[0m Client 3: training for 2 iterations/updates\u001B[32m [repeated 3x across cluster]\u001B[0m\n",
      "\u001B[2m\u001B[36m(launch_and_fit pid=22232)\u001B[0m binary client\n",
      "\u001B[2m\u001B[36m(launch_and_fit pid=22232)\u001B[0m Client 8 aggregated_trees length 5\n",
      "\u001B[2m\u001B[36m(launch_and_fit pid=22232)\u001B[0m Client 8: recieved 5 trees\n",
      "\u001B[2m\u001B[36m(launch_and_fit pid=2508)\u001B[0m Client 4: training for 2 iterations/updates\n",
      "\u001B[2m\u001B[36m(launch_and_fit pid=2508)\u001B[0m binary client\u001B[32m [repeated 3x across cluster]\u001B[0m\n",
      "\u001B[2m\u001B[36m(launch_and_fit pid=2508)\u001B[0m Client 4 aggregated_trees length 5\u001B[32m [repeated 4x across cluster]\u001B[0m\n",
      "\u001B[2m\u001B[36m(launch_and_fit pid=2508)\u001B[0m Client 4: recieved 5 trees\u001B[32m [repeated 4x across cluster]\u001B[0m\n",
      "\u001B[2m\u001B[36m(launch_and_fit pid=4192)\u001B[0m Client 9: training for 2 iterations/updates\n"
     ]
    },
    {
     "name": "stderr",
     "output_type": "stream",
     "text": [
      "DEBUG flwr 2023-09-03 17:12:23,497 | fl_server.py:241 | fit_round 19 received 5 results and 0 failures\n"
     ]
    },
    {
     "name": "stdout",
     "output_type": "stream",
     "text": [
      "Server side aggregated 5 trees.\n",
      "serverside task_type binary\n"
     ]
    },
    {
     "name": "stderr",
     "output_type": "stream",
     "text": [
      "INFO flwr 2023-09-03 17:13:40,950 | fl_server.py:112 | fit progress: (19, 0.050212122, {'auc': 0.8577290294580288}, 5464.5266042)\n",
      "INFO flwr 2023-09-03 17:13:40,951 | fl_server.py:159 | evaluate_round 19: no clients selected, cancel\n",
      "DEBUG flwr 2023-09-03 17:13:40,952 | fl_server.py:226 | fit_round 20: strategy sampled 5 clients (out of 10)\n"
     ]
    },
    {
     "name": "stdout",
     "output_type": "stream",
     "text": [
      "testset mse 0.05021212249994278 and auc 0.8577290294580288\n",
      "Evaluation on the server: test_mse=0.0502, test_auc=0.8577\n",
      "Configuring round 20\n",
      "\u001B[2m\u001B[36m(launch_and_fit pid=25880)\u001B[0m binary client\n",
      "\u001B[2m\u001B[36m(launch_and_fit pid=25880)\u001B[0m Client 5: training for 2 iterations/updates\u001B[32m [repeated 3x across cluster]\u001B[0m\n",
      "\u001B[2m\u001B[36m(launch_and_fit pid=22232)\u001B[0m binary client\n",
      "\u001B[2m\u001B[36m(launch_and_fit pid=3124)\u001B[0m Client 8 aggregated_trees length 5\n",
      "\u001B[2m\u001B[36m(launch_and_fit pid=3124)\u001B[0m Client 8: recieved 5 trees\n",
      "\u001B[2m\u001B[36m(launch_and_fit pid=2508)\u001B[0m Client 7: training for 2 iterations/updates\n",
      "\u001B[2m\u001B[36m(launch_and_fit pid=2508)\u001B[0m binary client\u001B[32m [repeated 3x across cluster]\u001B[0m\n",
      "\u001B[2m\u001B[36m(launch_and_fit pid=2508)\u001B[0m Client 7 aggregated_trees length 5\u001B[32m [repeated 4x across cluster]\u001B[0m\n",
      "\u001B[2m\u001B[36m(launch_and_fit pid=2508)\u001B[0m Client 7: recieved 5 trees\u001B[32m [repeated 4x across cluster]\u001B[0m\n",
      "\u001B[2m\u001B[36m(launch_and_fit pid=4192)\u001B[0m Client 3: training for 2 iterations/updates\n"
     ]
    },
    {
     "name": "stderr",
     "output_type": "stream",
     "text": [
      "DEBUG flwr 2023-09-03 17:16:01,408 | fl_server.py:241 | fit_round 20 received 5 results and 0 failures\n"
     ]
    },
    {
     "name": "stdout",
     "output_type": "stream",
     "text": [
      "Server side aggregated 5 trees.\n",
      "serverside task_type binary\n"
     ]
    },
    {
     "name": "stderr",
     "output_type": "stream",
     "text": [
      "INFO flwr 2023-09-03 17:17:15,037 | fl_server.py:112 | fit progress: (20, 0.050535355, {'auc': 0.8518942707492297}, 5678.612837499997)\n",
      "INFO flwr 2023-09-03 17:17:15,037 | fl_server.py:159 | evaluate_round 20: no clients selected, cancel\n",
      "INFO flwr 2023-09-03 17:17:15,038 | fl_server.py:140 | FL finished in 5678.615726200005\n",
      "INFO flwr 2023-09-03 17:17:15,040 | app.py:225 | app_fit: losses_distributed []\n",
      "INFO flwr 2023-09-03 17:17:15,041 | app.py:226 | app_fit: metrics_distributed_fit {}\n",
      "INFO flwr 2023-09-03 17:17:15,042 | app.py:227 | app_fit: metrics_distributed {}\n",
      "INFO flwr 2023-09-03 17:17:15,044 | app.py:228 | app_fit: losses_centralized [(0, 0.24516228), (1, 0.16396207), (2, 0.091928296), (3, 0.05842937), (4, 0.05275563), (5, 0.05230871), (6, 0.052557), (7, 0.05145835), (8, 0.052416407), (9, 0.05090902), (10, 0.05106741), (11, 0.05055122), (12, 0.050932366), (13, 0.05054811), (14, 0.050609745), (15, 0.05052751), (16, 0.050967738), (17, 0.05063299), (18, 0.05125332), (19, 0.050212122), (20, 0.050535355)]\n",
      "INFO flwr 2023-09-03 17:17:15,045 | app.py:229 | app_fit: metrics_centralized {'auc': [(0, 0.31926567051720456), (1, 0.8453929132086486), (2, 0.8524928269417653), (3, 0.8555294857016433), (4, 0.8525955141648), (5, 0.8513223368403043), (6, 0.8513426463483024), (7, 0.8570335734954171), (8, 0.8510062350634742), (9, 0.8570790272605773), (10, 0.851611415663704), (11, 0.8551172053604137), (12, 0.8553997666214046), (13, 0.8513487454333435), (14, 0.850274033226462), (15, 0.8508731859718408), (16, 0.8573980850903032), (17, 0.8546310860232049), (18, 0.850746298291665), (19, 0.8577290294580288), (20, 0.8518942707492297)]}\n"
     ]
    },
    {
     "name": "stdout",
     "output_type": "stream",
     "text": [
      "testset mse 0.050535354763269424 and auc 0.8518942707492297\n",
      "Evaluation on the server: test_mse=0.0505, test_auc=0.8519\n",
      "History (loss, centralized):\n",
      "\tround 0: 0.24516227841377258\n",
      "\tround 1: 0.16396206617355347\n",
      "\tround 2: 0.09192829579114914\n",
      "\tround 3: 0.05842937156558037\n",
      "\tround 4: 0.052755631506443024\n",
      "\tround 5: 0.05230870842933655\n",
      "\tround 6: 0.052556999027729034\n",
      "\tround 7: 0.05145835131406784\n",
      "\tround 8: 0.05241640657186508\n",
      "\tround 9: 0.05090902000665665\n",
      "\tround 10: 0.05106740817427635\n",
      "\tround 11: 0.050551220774650574\n",
      "\tround 12: 0.05093236640095711\n",
      "\tround 13: 0.05054811015725136\n",
      "\tround 14: 0.05060974508523941\n",
      "\tround 15: 0.050527509301900864\n",
      "\tround 16: 0.050967738032341\n",
      "\tround 17: 0.05063299089670181\n",
      "\tround 18: 0.051253318786621094\n",
      "\tround 19: 0.05021212249994278\n",
      "\tround 20: 0.050535354763269424\n",
      "History (metrics, centralized):\n",
      "{'auc': [(0, 0.31926567051720456), (1, 0.8453929132086486), (2, 0.8524928269417653), (3, 0.8555294857016433), (4, 0.8525955141648), (5, 0.8513223368403043), (6, 0.8513426463483024), (7, 0.8570335734954171), (8, 0.8510062350634742), (9, 0.8570790272605773), (10, 0.851611415663704), (11, 0.8551172053604137), (12, 0.8553997666214046), (13, 0.8513487454333435), (14, 0.850274033226462), (15, 0.8508731859718408), (16, 0.8573980850903032), (17, 0.8546310860232049), (18, 0.850746298291665), (19, 0.8577290294580288), (20, 0.8518942707492297)]}\n",
      "[(0, 0.24516228), (1, 0.16396207), (2, 0.091928296), (3, 0.05842937), (4, 0.05275563), (5, 0.05230871), (6, 0.052557), (7, 0.05145835), (8, 0.052416407), (9, 0.05090902), (10, 0.05106741), (11, 0.05055122), (12, 0.050932366), (13, 0.05054811), (14, 0.050609745), (15, 0.05052751), (16, 0.050967738), (17, 0.05063299), (18, 0.05125332), (19, 0.050212122), (20, 0.050535355)]\n",
      "Fold 2:\n",
      "[0.1, 0.1, 0.1, 0.1, 0.1, 0.1, 0.1, 0.1, 0.1, 0.1]\n",
      "Training time 1:36:35.378961\n"
     ]
    }
   ],
   "source": [
    "split = [0.1, 0.1, 0.1, 0.1, 0.1, 0.1, 0.1, 0.1, 0.1, 0.1]\n",
    "do_fl(split)"
   ],
   "metadata": {
    "collapsed": false,
    "ExecuteTime": {
     "end_time": "2023-09-03T16:17:15.147702400Z",
     "start_time": "2023-09-03T14:40:39.730841300Z"
    }
   }
  },
  {
   "cell_type": "code",
   "execution_count": 9,
   "outputs": [
    {
     "name": "stderr",
     "output_type": "stream",
     "text": [
      "C:\\Users\\Shuyao\\AppData\\Local\\Temp\\ipykernel_14868\\1879151568.py:17: UserWarning: To copy construct from a tensor, it is recommended to use sourceTensor.clone().detach() or sourceTensor.clone().detach().requires_grad_(True), rather than torch.tensor(sourceTensor).\n",
      "  X_train = torch.tensor(X_train)\n",
      "C:\\Users\\Shuyao\\AppData\\Local\\Temp\\ipykernel_14868\\1879151568.py:18: UserWarning: To copy construct from a tensor, it is recommended to use sourceTensor.clone().detach() or sourceTensor.clone().detach().requires_grad_(True), rather than torch.tensor(sourceTensor).\n",
      "  X_test = torch.tensor(X_test)\n",
      "C:\\Users\\Shuyao\\AppData\\Local\\Temp\\ipykernel_14868\\1879151568.py:19: UserWarning: To copy construct from a tensor, it is recommended to use sourceTensor.clone().detach() or sourceTensor.clone().detach().requires_grad_(True), rather than torch.tensor(sourceTensor).\n",
      "  y_train = torch.reshape(torch.tensor(y_train), (-1, 1))\n",
      "C:\\Users\\Shuyao\\AppData\\Local\\Temp\\ipykernel_14868\\1879151568.py:20: UserWarning: To copy construct from a tensor, it is recommended to use sourceTensor.clone().detach() or sourceTensor.clone().detach().requires_grad_(True), rather than torch.tensor(sourceTensor).\n",
      "  y_test = torch.reshape(torch.tensor(y_test), (-1, 1))\n",
      "WARNING flwr 2023-09-03 13:05:19,624 | app.py:210 | Both server and strategy were provided, ignoring strategy\n",
      "INFO flwr 2023-09-03 13:05:19,639 | app.py:145 | Starting Flower simulation, config: ServerConfig(num_rounds=20, round_timeout=None)\n"
     ]
    },
    {
     "name": "stdout",
     "output_type": "stream",
     "text": [
      "Fold 1:\n",
      "here\n",
      "torch.Size([30000, 1])\n",
      "torch.Size([30000, 10])\n",
      "torch.Size([120000, 1])\n",
      "torch.Size([120000, 10])\n",
      "torch.Size([72000, 10])\n",
      "torch.Size([4800, 10])\n",
      "torch.Size([4800, 10])\n",
      "torch.Size([4800, 10])\n",
      "torch.Size([4800, 10])\n",
      "torch.Size([4800, 10])\n",
      "torch.Size([4800, 10])\n",
      "torch.Size([4800, 10])\n",
      "torch.Size([4800, 10])\n",
      "torch.Size([4800, 10])\n",
      "Data partitioned across 10 clients and 0.0 of local dataset reserved for validation.\n",
      "FL experiment configured for 20 rounds with 10 client in the pool.\n",
      "FL round will proceed with 50.0% of clients sampled, at least 2.\n",
      "\u001B[2m\u001B[36m(launch_and_fit pid=18052)\u001B[0m Client 1: training for 2 iterations/updates\n"
     ]
    },
    {
     "name": "stderr",
     "output_type": "stream",
     "text": [
      "\u001B[2m\u001B[36m(launch_and_fit pid=18052)\u001B[0m D:\\FD\\clients\\xgb_client.py:239: UserWarning: To copy construct from a tensor, it is recommended to use sourceTensor.clone().detach() or sourceTensor.clone().detach().requires_grad_(True), rather than torch.tensor(sourceTensor).\u001B[32m [repeated 2x across cluster]\u001B[0m\n",
      "\u001B[2m\u001B[36m(launch_and_fit pid=18052)\u001B[0m   y_test = torch.cat((torch.tensor(y_test), torch.tensor(labels)), dim=0)\n",
      "\u001B[2m\u001B[36m(launch_and_fit pid=18052)\u001B[0m   y_pred = torch.cat((torch.tensor(y_pred), torch.tensor(outputs)), dim=0)\n",
      "2023-09-03 13:05:29,182\tINFO worker.py:1636 -- Started a local Ray instance.\n",
      "INFO flwr 2023-09-03 13:05:34,074 | app.py:179 | Flower VCE: Ray initialized with resources: {'CPU': 8.0, 'node:127.0.0.1': 1.0, 'object_store_memory': 906663936.0, 'memory': 1813327872.0, 'GPU': 1.0}\n",
      "INFO flwr 2023-09-03 13:05:34,076 | fl_server.py:78 | fit num_rounds 20\n",
      "INFO flwr 2023-09-03 13:05:34,077 | fl_server.py:81 | Initializing global parameters\n",
      "INFO flwr 2023-09-03 13:05:34,079 | fl_server.py:287 | Requesting initial parameters from one random client\n",
      "\u001B[2m\u001B[33m(raylet)\u001B[0m --- Logging error ---\n",
      "\u001B[2m\u001B[33m(raylet)\u001B[0m Traceback (most recent call last):\n",
      "\u001B[2m\u001B[33m(raylet)\u001B[0m   File \"D:\\FD\\venv\\lib\\site-packages\\ray\\dashboard\\agent.py\", line 299, in run\n",
      "\u001B[2m\u001B[33m(raylet)\u001B[0m     self.http_server = await self._configure_http_server(modules)\n",
      "\u001B[2m\u001B[33m(raylet)\u001B[0m   File \"D:\\FD\\venv\\lib\\site-packages\\ray\\dashboard\\agent.py\", line 162, in _configure_http_server\n",
      "\u001B[2m\u001B[33m(raylet)\u001B[0m     await http_server.start(modules)\n",
      "\u001B[2m\u001B[33m(raylet)\u001B[0m   File \"D:\\FD\\venv\\lib\\site-packages\\ray\\dashboard\\http_server_agent.py\", line 69, in start\n",
      "\u001B[2m\u001B[33m(raylet)\u001B[0m     raise e\n",
      "\u001B[2m\u001B[33m(raylet)\u001B[0m   File \"D:\\FD\\venv\\lib\\site-packages\\ray\\dashboard\\http_server_agent.py\", line 62, in start\n",
      "\u001B[2m\u001B[33m(raylet)\u001B[0m     await site.start()\n",
      "\u001B[2m\u001B[33m(raylet)\u001B[0m   File \"D:\\FD\\venv\\lib\\site-packages\\aiohttp\\web_runner.py\", line 121, in start\n",
      "\u001B[2m\u001B[33m(raylet)\u001B[0m     self._server = await loop.create_server(\n",
      "\u001B[2m\u001B[33m(raylet)\u001B[0m   File \"C:\\Program Files\\WindowsApps\\PythonSoftwareFoundation.Python.3.10_3.10.3056.0_x64__qbz5n2kfra8p0\\lib\\asyncio\\base_events.py\", line 1519, in create_server\n",
      "\u001B[2m\u001B[33m(raylet)\u001B[0m     raise OSError(err.errno, 'error while attempting '\n",
      "\u001B[2m\u001B[33m(raylet)\u001B[0m OSError: [Errno 10048] error while attempting to bind on address ('127.0.0.1', 52365): \\u901a\\u5e38\\u6bcf\\u4e2a\\u5957\\u63a5\\u5b57\\u5730\\u5740(\\u534f\\u8bae/\\u7f51\\u7edc\\u5730\\u5740/\\u7aef\\u53e3)\\u53ea\\u5141\\u8bb8\\u4f7f\\u7528\\u4e00\\u6b21\\u3002\n",
      "\u001B[2m\u001B[33m(raylet)\u001B[0m \n",
      "\u001B[2m\u001B[33m(raylet)\u001B[0m During handling of the above exception, another exception occurred:\n",
      "\u001B[2m\u001B[33m(raylet)\u001B[0m \n",
      "\u001B[2m\u001B[33m(raylet)\u001B[0m Traceback (most recent call last):\n",
      "\u001B[2m\u001B[33m(raylet)\u001B[0m   File \"C:\\Program Files\\WindowsApps\\PythonSoftwareFoundation.Python.3.10_3.10.3056.0_x64__qbz5n2kfra8p0\\lib\\logging\\__init__.py\", line 1103, in emit\n",
      "\u001B[2m\u001B[33m(raylet)\u001B[0m     stream.write(msg + self.terminator)\n",
      "\u001B[2m\u001B[33m(raylet)\u001B[0m   File \"C:\\Program Files\\WindowsApps\\PythonSoftwareFoundation.Python.3.10_3.10.3056.0_x64__qbz5n2kfra8p0\\lib\\encodings\\cp1252.py\", line 19, in encode\n",
      "\u001B[2m\u001B[33m(raylet)\u001B[0m     return codecs.charmap_encode(input,self.errors,encoding_table)[0]\n",
      "\u001B[2m\u001B[33m(raylet)\u001B[0m UnicodeEncodeError: 'charmap' codec can't encode characters in position 1104-1112: character maps to <undefined>\n",
      "\u001B[2m\u001B[33m(raylet)\u001B[0m Call stack:\n",
      "\u001B[2m\u001B[33m(raylet)\u001B[0m   File \"D:\\FD\\venv\\lib\\site-packages\\ray\\dashboard\\agent.py\", line 544, in <module>\n",
      "\u001B[2m\u001B[33m(raylet)\u001B[0m     loop.run_until_complete(agent.run())\n",
      "\u001B[2m\u001B[33m(raylet)\u001B[0m   File \"C:\\Program Files\\WindowsApps\\PythonSoftwareFoundation.Python.3.10_3.10.3056.0_x64__qbz5n2kfra8p0\\lib\\asyncio\\base_events.py\", line 636, in run_until_complete\n",
      "\u001B[2m\u001B[33m(raylet)\u001B[0m     self.run_forever()\n",
      "\u001B[2m\u001B[33m(raylet)\u001B[0m   File \"C:\\Program Files\\WindowsApps\\PythonSoftwareFoundation.Python.3.10_3.10.3056.0_x64__qbz5n2kfra8p0\\lib\\asyncio\\windows_events.py\", line 321, in run_forever\n",
      "\u001B[2m\u001B[33m(raylet)\u001B[0m     super().run_forever()\n",
      "\u001B[2m\u001B[33m(raylet)\u001B[0m   File \"C:\\Program Files\\WindowsApps\\PythonSoftwareFoundation.Python.3.10_3.10.3056.0_x64__qbz5n2kfra8p0\\lib\\asyncio\\base_events.py\", line 603, in run_forever\n",
      "\u001B[2m\u001B[33m(raylet)\u001B[0m     self._run_once()\n",
      "\u001B[2m\u001B[33m(raylet)\u001B[0m   File \"C:\\Program Files\\WindowsApps\\PythonSoftwareFoundation.Python.3.10_3.10.3056.0_x64__qbz5n2kfra8p0\\lib\\asyncio\\base_events.py\", line 1909, in _run_once\n",
      "\u001B[2m\u001B[33m(raylet)\u001B[0m     handle._run()\n",
      "\u001B[2m\u001B[33m(raylet)\u001B[0m   File \"C:\\Program Files\\WindowsApps\\PythonSoftwareFoundation.Python.3.10_3.10.3056.0_x64__qbz5n2kfra8p0\\lib\\asyncio\\events.py\", line 80, in _run\n",
      "\u001B[2m\u001B[33m(raylet)\u001B[0m     self._context.run(self._callback, *self._args)\n",
      "\u001B[2m\u001B[33m(raylet)\u001B[0m   File \"D:\\FD\\venv\\lib\\site-packages\\ray\\dashboard\\agent.py\", line 304, in run\n",
      "\u001B[2m\u001B[33m(raylet)\u001B[0m     logger.exception(\n",
      "\u001B[2m\u001B[33m(raylet)\u001B[0m Message: 'Failed to start http server. Agent will stay alive but disable the http service.'\n",
      "\u001B[2m\u001B[33m(raylet)\u001B[0m Arguments: ()\n",
      "\u001B[2m\u001B[36m(launch_and_get_parameters pid=24176)\u001B[0m Windows fatal exception: code 0xc0000139\n",
      "\u001B[2m\u001B[36m(launch_and_get_parameters pid=24176)\u001B[0m \n",
      "\u001B[2m\u001B[36m(launch_and_get_parameters pid=24176)\u001B[0m Stack (most recent call first):\n",
      "\u001B[2m\u001B[36m(launch_and_get_parameters pid=24176)\u001B[0m   File \"C:\\Program Files\\WindowsApps\\PythonSoftwareFoundation.Python.3.10_3.10.3056.0_x64__qbz5n2kfra8p0\\lib\\ctypes\\__init__.py\", line 374 in __init__\n",
      "\u001B[2m\u001B[36m(launch_and_get_parameters pid=24176)\u001B[0m   File \"D:\\FD\\venv\\lib\\site-packages\\torch\\_ops.py\", line 573 in load_library\n",
      "\u001B[2m\u001B[36m(launch_and_get_parameters pid=24176)\u001B[0m   File \"D:\\FD\\venv\\lib\\site-packages\\torchvision\\extension.py\", line 36 in <module>\n",
      "\u001B[2m\u001B[36m(launch_and_get_parameters pid=24176)\u001B[0m   File \"<frozen importlib._bootstrap>\", line 241 in _call_with_frames_removed\n",
      "\u001B[2m\u001B[36m(launch_and_get_parameters pid=24176)\u001B[0m   File \"<frozen importlib._bootstrap_external>\", line 883 in exec_module\n",
      "\u001B[2m\u001B[36m(launch_and_get_parameters pid=24176)\u001B[0m   File \"<frozen importlib._bootstrap>\", line 688 in _load_unlocked\n",
      "\u001B[2m\u001B[36m(launch_and_get_parameters pid=24176)\u001B[0m   File \"<frozen importlib._bootstrap>\", line 1006 in _find_and_load_unlocked\n",
      "\u001B[2m\u001B[36m(launch_and_get_parameters pid=24176)\u001B[0m   File \"<frozen importlib._bootstrap>\", line 1027 in _find_and_load\n",
      "\u001B[2m\u001B[36m(launch_and_get_parameters pid=24176)\u001B[0m   File \"D:\\FD\\venv\\lib\\site-packages\\torchvision\\io\\_load_gpu_decoder.py\", line 1 in <module>\n",
      "\u001B[2m\u001B[36m(launch_and_get_parameters pid=24176)\u001B[0m   File \"<frozen importlib._bootstrap>\", line 241 in _call_with_frames_removed\n",
      "\u001B[2m\u001B[36m(launch_and_get_parameters pid=24176)\u001B[0m   File \"<frozen importlib._bootstrap_external>\", line 883 in exec_module\n",
      "\u001B[2m\u001B[36m(launch_and_get_parameters pid=24176)\u001B[0m   File \"<frozen importlib._bootstrap>\", line 688 in _load_unlocked\n",
      "\u001B[2m\u001B[36m(launch_and_get_parameters pid=24176)\u001B[0m   File \"<frozen importlib._bootstrap>\", line 1006 in _find_and_load_unlocked\n",
      "\u001B[2m\u001B[36m(launch_and_get_parameters pid=24176)\u001B[0m   File \"<frozen importlib._bootstrap>\", line 1027 in _find_and_load\n",
      "\u001B[2m\u001B[36m(launch_and_get_parameters pid=24176)\u001B[0m   File \"D:\\FD\\venv\\lib\\site-packages\\torchvision\\io\\__init__.py\", line 8 in <module>\n",
      "\u001B[2m\u001B[36m(launch_and_get_parameters pid=24176)\u001B[0m   File \"<frozen importlib._bootstrap>\", line 241 in _call_with_frames_removed\n",
      "\u001B[2m\u001B[36m(launch_and_get_parameters pid=24176)\u001B[0m   File \"<frozen importlib._bootstrap_external>\", line 883 in exec_module\n",
      "\u001B[2m\u001B[36m(launch_and_get_parameters pid=24176)\u001B[0m   File \"<frozen importlib._bootstrap>\", line 688 in _load_unlocked\n",
      "\u001B[2m\u001B[36m(launch_and_get_parameters pid=24176)\u001B[0m   File \"<frozen importlib._bootstrap>\", line 1006 in _find_and_load_unlocked\n",
      "\u001B[2m\u001B[36m(launch_and_get_parameters pid=24176)\u001B[0m   File \"<frozen importlib._bootstrap>\", line 1027 in _find_and_load\n",
      "\u001B[2m\u001B[36m(launch_and_get_parameters pid=24176)\u001B[0m   File \"<frozen importlib._bootstrap>\", line 241 in _call_with_frames_removed\n",
      "\u001B[2m\u001B[36m(launch_and_get_parameters pid=24176)\u001B[0m   File \"<frozen importlib._bootstrap>\", line 992 in _find_and_load_unlocked\n",
      "\u001B[2m\u001B[36m(launch_and_get_parameters pid=24176)\u001B[0m   File \"<frozen importlib._bootstrap>\", line 1027 in _find_and_load\n",
      "\u001B[2m\u001B[36m(launch_and_get_parameters pid=24176)\u001B[0m   File \"D:\\FD\\venv\\lib\\site-packages\\torchvision\\datasets\\_optical_flow.py\", line 12 in <module>\n",
      "\u001B[2m\u001B[36m(launch_and_get_parameters pid=24176)\u001B[0m   File \"<frozen importlib._bootstrap>\", line 241 in _call_with_frames_removed\n",
      "\u001B[2m\u001B[36m(launch_and_get_parameters pid=24176)\u001B[0m   File \"<frozen importlib._bootstrap_external>\", line 883 in exec_module\n",
      "\u001B[2m\u001B[36m(launch_and_get_parameters pid=24176)\u001B[0m   File \"<frozen importlib._bootstrap>\", line 688 in _load_unlocked\n",
      "\u001B[2m\u001B[36m(launch_and_get_parameters pid=24176)\u001B[0m   File \"<frozen importlib._bootstrap>\", line 1006 in _find_and_load_unlocked\n",
      "\u001B[2m\u001B[36m(launch_and_get_parameters pid=24176)\u001B[0m   File \"<frozen importlib._bootstrap>\", line 1027 in _find_and_load\n",
      "\u001B[2m\u001B[36m(launch_and_get_parameters pid=24176)\u001B[0m   File \"D:\\FD\\venv\\lib\\site-packages\\torchvision\\datasets\\__init__.py\", line 1 in <module>\n",
      "\u001B[2m\u001B[36m(launch_and_get_parameters pid=24176)\u001B[0m   File \"<frozen importlib._bootstrap>\", line 241 in _call_with_frames_removed\n",
      "\u001B[2m\u001B[36m(launch_and_get_parameters pid=24176)\u001B[0m   File \"<frozen importlib._bootstrap_external>\", line 883 in exec_module\n",
      "\u001B[2m\u001B[36m(launch_and_get_parameters pid=24176)\u001B[0m   File \"<frozen importlib._bootstrap>\", line 688 in _load_unlocked\n",
      "\u001B[2m\u001B[36m(launch_and_get_parameters pid=24176)\u001B[0m   File \"<frozen importlib._bootstrap>\", line 1006 in _find_and_load_unlocked\n",
      "\u001B[2m\u001B[36m(launch_and_get_parameters pid=24176)\u001B[0m   File \"<frozen importlib._bootstrap>\", line 1027 in _find_and_load\n",
      "\u001B[2m\u001B[36m(launch_and_get_parameters pid=24176)\u001B[0m   File \"<frozen importlib._bootstrap>\", line 241 in _call_with_frames_removed\n",
      "\u001B[2m\u001B[36m(launch_and_get_parameters pid=24176)\u001B[0m   File \"<frozen importlib._bootstrap>\", line 1078 in _handle_fromlist\n",
      "\u001B[2m\u001B[36m(launch_and_get_parameters pid=24176)\u001B[0m   File \"D:\\FD\\venv\\lib\\site-packages\\torchvision\\__init__.py\", line 6 in <module>\n",
      "\u001B[2m\u001B[36m(launch_and_get_parameters pid=24176)\u001B[0m   File \"<frozen importlib._bootstrap>\", line 241 in _call_with_frames_removed\n",
      "\u001B[2m\u001B[36m(launch_and_get_parameters pid=24176)\u001B[0m   File \"<frozen importlib._bootstrap_external>\", line 883 in exec_module\n",
      "\u001B[2m\u001B[36m(launch_and_get_parameters pid=24176)\u001B[0m   File \"<frozen importlib._bootstrap>\", line 688 in _load_unlocked\n",
      "\u001B[2m\u001B[36m(launch_and_get_parameters pid=24176)\u001B[0m   File \"<frozen importlib._bootstrap>\", line 1006 in _find_and_load_unlocked\n",
      "\u001B[2m\u001B[36m(launch_and_get_parameters pid=24176)\u001B[0m   File \"<frozen importlib._bootstrap>\", line 1027 in _find_and_load\n",
      "\u001B[2m\u001B[36m(launch_and_get_parameters pid=24176)\u001B[0m   File \"<frozen importlib._bootstrap>\", line 1050 in _gcd_import\n",
      "\u001B[2m\u001B[36m(launch_and_get_parameters pid=24176)\u001B[0m   File \"C:\\Program Files\\WindowsApps\\PythonSoftwareFoundation.Python.3.10_3.10.3056.0_x64__qbz5n2kfra8p0\\lib\\importlib\\__init__.py\", line 126 in import_module\n",
      "\u001B[2m\u001B[36m(launch_and_get_parameters pid=24176)\u001B[0m   File \"D:\\FD\\venv\\lib\\site-packages\\lightning_utilities\\core\\imports.py\", line 73 in compare_version\n",
      "\u001B[2m\u001B[36m(launch_and_get_parameters pid=24176)\u001B[0m   File \"D:\\FD\\venv\\lib\\site-packages\\torchmetrics\\utilities\\imports.py\", line 41 in <module>\n",
      "\u001B[2m\u001B[36m(launch_and_get_parameters pid=24176)\u001B[0m   File \"<frozen importlib._bootstrap>\", line 241 in _call_with_frames_removed\n",
      "\u001B[2m\u001B[36m(launch_and_get_parameters pid=24176)\u001B[0m   File \"<frozen importlib._bootstrap_external>\", line 883 in exec_module\n",
      "\u001B[2m\u001B[36m(launch_and_get_parameters pid=24176)\u001B[0m   File \"<frozen importlib._bootstrap>\", line 688 in _load_unlocked\n",
      "\u001B[2m\u001B[36m(launch_and_get_parameters pid=24176)\u001B[0m   File \"<frozen importlib._bootstrap>\", line 1006 in _find_and_load_unlocked\n",
      "\u001B[2m\u001B[36m(launch_and_get_parameters pid=24176)\u001B[0m   File \"<frozen importlib._bootstrap>\", line 1027 in _find_and_load\n",
      "\u001B[2m\u001B[36m(launch_and_get_parameters pid=24176)\u001B[0m   File \"D:\\FD\\venv\\lib\\site-packages\\torchmetrics\\utilities\\data.py\", line 22 in <module>\n",
      "\u001B[2m\u001B[36m(launch_and_get_parameters pid=24176)\u001B[0m   File \"<frozen importlib._bootstrap>\", line 241 in _call_with_frames_removed\n",
      "\u001B[2m\u001B[36m(launch_and_get_parameters pid=24176)\u001B[0m   File \"<frozen importlib._bootstrap_external>\", line 883 in exec_module\n",
      "\u001B[2m\u001B[36m(launch_and_get_parameters pid=24176)\u001B[0m   File \"<frozen importlib._bootstrap>\", line 688 in _load_unlocked\n",
      "\u001B[2m\u001B[36m(launch_and_get_parameters pid=24176)\u001B[0m   File \"<frozen importlib._bootstrap>\", line 1006 in _find_and_load_unlocked\n",
      "\u001B[2m\u001B[36m(launch_and_get_parameters pid=24176)\u001B[0m   File \"<frozen importlib._bootstrap>\", line 1027 in _find_and_load\n",
      "\u001B[2m\u001B[36m(launch_and_get_parameters pid=24176)\u001B[0m   File \"D:\\FD\\venv\\lib\\site-packages\\torchmetrics\\metric.py\", line 30 in <module>\n",
      "\u001B[2m\u001B[36m(launch_and_get_parameters pid=24176)\u001B[0m   File \"<frozen importlib._bootstrap>\", line 241 in _call_with_frames_removed\n",
      "\u001B[2m\u001B[36m(launch_and_get_parameters pid=24176)\u001B[0m   File \"<frozen importlib._bootstrap_external>\", line 883 in exec_module\n",
      "\u001B[2m\u001B[36m(launch_and_get_parameters pid=24176)\u001B[0m   File \"<frozen importlib._bootstrap>\", line 688 in _load_unlocked\n",
      "\u001B[2m\u001B[36m(launch_and_get_parameters pid=24176)\u001B[0m   File \"<frozen importlib._bootstrap>\", line 1006 in _find_and_load_unlocked\n",
      "\u001B[2m\u001B[36m(launch_and_get_parameters pid=24176)\u001B[0m   File \"<frozen importlib._bootstrap>\", line 1027 in _find_and_load\n",
      "\u001B[2m\u001B[36m(launch_and_get_parameters pid=24176)\u001B[0m   File \"D:\\FD\\venv\\lib\\site-packages\\torchmetrics\\utilities\\checks.py\", line 25 in <module>\n",
      "\u001B[2m\u001B[36m(launch_and_get_parameters pid=24176)\u001B[0m   File \"<frozen importlib._bootstrap>\", line 241 in _call_with_frames_removed\n",
      "\u001B[2m\u001B[36m(launch_and_get_parameters pid=24176)\u001B[0m   File \"<frozen importlib._bootstrap_external>\", line 883 in exec_module\n",
      "\u001B[2m\u001B[36m(launch_and_get_parameters pid=24176)\u001B[0m   File \"<frozen importlib._bootstrap>\", line 688 in _load_unlocked\n",
      "\u001B[2m\u001B[36m(launch_and_get_parameters pid=24176)\u001B[0m   File \"<frozen importlib._bootstrap>\", line 1006 in _find_and_load_unlocked\n",
      "\u001B[2m\u001B[36m(launch_and_get_parameters pid=24176)\u001B[0m   File \"<frozen importlib._bootstrap>\", line 1027 in _find_and_load\n",
      "\u001B[2m\u001B[36m(launch_and_get_parameters pid=24176)\u001B[0m   File \"D:\\FD\\venv\\lib\\site-packages\\torchmetrics\\utilities\\__init__.py\", line 14 in <module>\n",
      "\u001B[2m\u001B[36m(launch_and_get_parameters pid=24176)\u001B[0m   File \"<frozen importlib._bootstrap>\", line 241 in _call_with_frames_removed\n",
      "\u001B[2m\u001B[36m(launch_and_get_parameters pid=24176)\u001B[0m   File \"<frozen importlib._bootstrap_external>\", line 883 in exec_module\n",
      "\u001B[2m\u001B[36m(launch_and_get_parameters pid=24176)\u001B[0m   File \"<frozen importlib._bootstrap>\", line 688 in _load_unlocked\n",
      "\u001B[2m\u001B[36m(launch_and_get_parameters pid=24176)\u001B[0m   File \"<frozen importlib._bootstrap>\", line 1006 in _find_and_load_unlocked\n",
      "\u001B[2m\u001B[36m(launch_and_get_parameters pid=24176)\u001B[0m   File \"<frozen importlib._bootstrap>\", line 1027 in _find_and_load\n",
      "\u001B[2m\u001B[36m(launch_and_get_parameters pid=24176)\u001B[0m   File \"D:\\FD\\venv\\lib\\site-packages\\torchmetrics\\functional\\audio\\pit.py\", line 23 in <module>\n",
      "\u001B[2m\u001B[36m(launch_and_get_parameters pid=24176)\u001B[0m   File \"<frozen importlib._bootstrap>\", line 241 in _call_with_frames_removed\n",
      "\u001B[2m\u001B[36m(launch_and_get_parameters pid=24176)\u001B[0m   File \"<frozen importlib._bootstrap_external>\", line 883 in exec_module\n",
      "\u001B[2m\u001B[36m(launch_and_get_parameters pid=24176)\u001B[0m   File \"<frozen importlib._bootstrap>\", line 688 in _load_unlocked\n",
      "\u001B[2m\u001B[36m(launch_and_get_parameters pid=24176)\u001B[0m   File \"<frozen importlib._bootstrap>\", line 1006 in _find_and_load_unlocked\n",
      "\u001B[2m\u001B[36m(launch_and_get_parameters pid=24176)\u001B[0m   File \"<frozen importlib._bootstrap>\", line 1027 in _find_and_load\n",
      "\u001B[2m\u001B[36m(launch_and_get_parameters pid=24176)\u001B[0m   File \"D:\\FD\\venv\\lib\\site-packages\\torchmetrics\\functional\\audio\\__init__.py\", line 14 in <module>\n",
      "\u001B[2m\u001B[36m(launch_and_get_parameters pid=24176)\u001B[0m   File \"<frozen importlib._bootstrap>\", line 241 in _call_with_frames_removed\n",
      "\u001B[2m\u001B[36m(launch_and_get_parameters pid=24176)\u001B[0m   File \"<frozen importlib._bootstrap_external>\", line 883 in exec_module\n",
      "\u001B[2m\u001B[36m(launch_and_get_parameters pid=24176)\u001B[0m   File \"<frozen importlib._bootstrap>\", line 688 in _load_unlocked\n",
      "\u001B[2m\u001B[36m(launch_and_get_parameters pid=24176)\u001B[0m   File \"<frozen importlib._bootstrap>\", line 1006 in _find_and_load_unlocked\n",
      "\u001B[2m\u001B[36m(launch_and_get_parameters pid=24176)\u001B[0m   File \"<frozen importlib._bootstrap>\", line 1027 in _find_and_load\n",
      "\u001B[2m\u001B[36m(launch_and_get_parameters pid=24176)\u001B[0m   File \"<frozen importlib._bootstrap>\", line 241 in _call_with_frames_removed\n",
      "\u001B[2m\u001B[36m(launch_and_get_parameters pid=24176)\u001B[0m   File \"<frozen importlib._bootstrap>\", line 992 in _find_and_load_unlocked\n",
      "\u001B[2m\u001B[36m(launch_and_get_parameters pid=24176)\u001B[0m   File \"<frozen importlib._bootstrap>\", line 1027 in _find_and_load\n",
      "\u001B[2m\u001B[36m(launch_and_get_parameters pid=24176)\u001B[0m   File \"D:\\FD\\venv\\lib\\site-packages\\torchmetrics\\functional\\__init__.py\", line 14 in <module>\n",
      "\u001B[2m\u001B[36m(launch_and_get_parameters pid=24176)\u001B[0m   File \"<frozen importlib._bootstrap>\", line 241 in _call_with_frames_removed\n",
      "\u001B[2m\u001B[36m(launch_and_get_parameters pid=24176)\u001B[0m   File \"<frozen importlib._bootstrap_external>\", line 883 in exec_module\n",
      "\u001B[2m\u001B[36m(launch_and_get_parameters pid=24176)\u001B[0m   File \"<frozen importlib._bootstrap>\", line 688 in _load_unlocked\n",
      "\u001B[2m\u001B[36m(launch_and_get_parameters pid=24176)\u001B[0m   File \"<frozen importlib._bootstrap>\", line 1006 in _find_and_load_unlocked\n",
      "\u001B[2m\u001B[36m(launch_and_get_parameters pid=24176)\u001B[0m   File \"<frozen importlib._bootstrap>\", line 1027 in _find_and_load\n",
      "\u001B[2m\u001B[36m(launch_and_get_parameters pid=24176)\u001B[0m   File \"<frozen importlib._bootstrap>\", line 241 in _call_with_frames_removed\n",
      "\u001B[2m\u001B[36m(launch_and_get_parameters pid=24176)\u001B[0m   File \"<frozen importlib._bootstrap>\", line 1078 in _handle_fromlist\n",
      "\u001B[2m\u001B[36m(launch_and_get_parameters pid=24176)\u001B[0m   File \"D:\\FD\\venv\\lib\\site-packages\\torchmetrics\\__init__.py\", line 14 in <module>\n",
      "\u001B[2m\u001B[36m(launch_and_get_parameters pid=24176)\u001B[0m   ...\n",
      "\u001B[2m\u001B[36m(launch_and_get_parameters pid=24176)\u001B[0m Windows fatal exception: code 0xc0000139\n",
      "\u001B[2m\u001B[36m(launch_and_get_parameters pid=24176)\u001B[0m \n",
      "\u001B[2m\u001B[36m(launch_and_get_parameters pid=24176)\u001B[0m D:\\FD\\venv\\lib\\site-packages\\torchvision\\io\\image.py:13: UserWarning: Failed to load image Python extension: '[WinError 127] 找不到指定的程序。'If you don't plan on using image functionality from `torchvision.io`, you can ignore this warning. Otherwise, there might be something wrong with your environment. Did you have `libjpeg` or `libpng` installed before building `torchvision` from source?\n",
      "\u001B[2m\u001B[36m(launch_and_get_parameters pid=24176)\u001B[0m   warn(\n"
     ]
    },
    {
     "name": "stdout",
     "output_type": "stream",
     "text": [
      "\u001B[2m\u001B[36m(launch_and_get_parameters pid=24176)\u001B[0m binary client\n"
     ]
    },
    {
     "name": "stderr",
     "output_type": "stream",
     "text": [
      "INFO flwr 2023-09-03 13:05:39,294 | fl_server.py:292 | Received initial parameters from one random client\n",
      "INFO flwr 2023-09-03 13:05:39,295 | fl_server.py:84 | Evaluating initial parameters\n"
     ]
    },
    {
     "name": "stdout",
     "output_type": "stream",
     "text": [
      "serverside task_type binary\n"
     ]
    },
    {
     "name": "stderr",
     "output_type": "stream",
     "text": [
      "INFO flwr 2023-09-03 13:06:31,593 | fl_server.py:87 | initial parameters (loss, other metrics): 0.24590686, {'auc': 0.6414151219984399}\n",
      "INFO flwr 2023-09-03 13:06:31,594 | fl_server.py:97 | FL starting\n",
      "DEBUG flwr 2023-09-03 13:06:31,595 | fl_server.py:226 | fit_round 1: strategy sampled 5 clients (out of 10)\n"
     ]
    },
    {
     "name": "stdout",
     "output_type": "stream",
     "text": [
      "testset mse 0.24590685963630676 and auc 0.6414151219984399\n",
      "Evaluation on the server: test_mse=0.2459, test_auc=0.6414\n",
      "Configuring round 1\n",
      "\u001B[2m\u001B[36m(launch_and_fit pid=24176)\u001B[0m binary client\n",
      "\u001B[2m\u001B[36m(launch_and_fit pid=24176)\u001B[0m Client 3 aggregated_trees length 2\n",
      "\u001B[2m\u001B[36m(launch_and_fit pid=24176)\u001B[0m Client 3: only had its own tree\n"
     ]
    },
    {
     "name": "stderr",
     "output_type": "stream",
     "text": [
      "\u001B[2m\u001B[36m(launch_and_fit pid=24636)\u001B[0m Windows fatal exception: code 0xc0000139\u001B[32m [repeated 2x across cluster]\u001B[0m\n",
      "\u001B[2m\u001B[36m(launch_and_fit pid=24636)\u001B[0m \u001B[32m [repeated 2x across cluster]\u001B[0m\n",
      "\u001B[2m\u001B[36m(launch_and_fit pid=24636)\u001B[0m   warn(\n",
      "\u001B[2m\u001B[36m(launch_and_fit pid=24636)\u001B[0m   warn(\n",
      "\u001B[2m\u001B[36m(launch_and_fit pid=24636)\u001B[0m   warn(\n",
      "\u001B[2m\u001B[36m(launch_and_fit pid=24636)\u001B[0m   warn(\n",
      "\u001B[2m\u001B[36m(launch_and_fit pid=24636)\u001B[0m   File \"<frozen importlib._bootstrap>\", line 241 in _call_with_frames_removed\u001B[32m [repeated 18x across cluster]\u001B[0m\n",
      "\u001B[2m\u001B[36m(launch_and_fit pid=24636)\u001B[0m   File \"<frozen importlib._bootstrap_external>\", line 883 in exec_module\u001B[32m [repeated 14x across cluster]\u001B[0m\n",
      "\u001B[2m\u001B[36m(launch_and_fit pid=24636)\u001B[0m   File \"<frozen importlib._bootstrap>\", line 688 in _load_unlocked\u001B[32m [repeated 14x across cluster]\u001B[0m\n",
      "\u001B[2m\u001B[36m(launch_and_fit pid=24636)\u001B[0m   File \"<frozen importlib._bootstrap>\", line 1006 in _find_and_load_unlocked\u001B[32m [repeated 16x across cluster]\u001B[0m\n",
      "\u001B[2m\u001B[36m(launch_and_fit pid=24636)\u001B[0m   File \"<frozen importlib._bootstrap>\", line 1027 in _find_and_load\u001B[32m [repeated 16x across cluster]\u001B[0m\n",
      "\u001B[2m\u001B[36m(launch_and_fit pid=24636)\u001B[0m   warn(\n",
      "\u001B[2m\u001B[36m(launch_and_fit pid=24636)\u001B[0m   warn(\n",
      "\u001B[2m\u001B[36m(launch_and_fit pid=24636)\u001B[0m   warn(\n",
      "\u001B[2m\u001B[36m(launch_and_fit pid=24636)\u001B[0m   warn(\n",
      "\u001B[2m\u001B[36m(launch_and_fit pid=24636)\u001B[0m   File \"<frozen importlib._bootstrap>\", line 1078 in _handle_fromlist\u001B[32m [repeated 2x across cluster]\u001B[0m\n",
      "\u001B[2m\u001B[36m(launch_and_fit pid=24636)\u001B[0m   warn(\n",
      "\u001B[2m\u001B[36m(launch_and_fit pid=24636)\u001B[0m   warn(\n",
      "\u001B[2m\u001B[36m(launch_and_fit pid=24636)\u001B[0m   warn(\n",
      "\u001B[2m\u001B[36m(launch_and_fit pid=24636)\u001B[0m   warn(\n",
      "\u001B[2m\u001B[36m(launch_and_fit pid=24636)\u001B[0m   warn(\n",
      "\u001B[2m\u001B[36m(launch_and_fit pid=24636)\u001B[0m   warn(\n",
      "\u001B[2m\u001B[36m(launch_and_fit pid=24636)\u001B[0m   warn(\n",
      "\u001B[2m\u001B[36m(launch_and_fit pid=24636)\u001B[0m   warn(\n",
      "\u001B[2m\u001B[36m(launch_and_fit pid=24636)\u001B[0m   warn(\n",
      "\u001B[2m\u001B[36m(launch_and_fit pid=24636)\u001B[0m   warn(\n",
      "\u001B[2m\u001B[36m(launch_and_fit pid=24636)\u001B[0m   warn(\n",
      "\u001B[2m\u001B[36m(launch_and_fit pid=24636)\u001B[0m   warn(\n",
      "\u001B[2m\u001B[36m(launch_and_fit pid=24636)\u001B[0m   warn(\n",
      "\u001B[2m\u001B[36m(launch_and_fit pid=24636)\u001B[0m   warn(\n",
      "\u001B[2m\u001B[36m(launch_and_fit pid=24636)\u001B[0m   warn(\n",
      "\u001B[2m\u001B[36m(launch_and_fit pid=24636)\u001B[0m   warn(\n",
      "\u001B[2m\u001B[36m(launch_and_fit pid=16340)\u001B[0m Stack (most recent call first):\n",
      "\u001B[2m\u001B[36m(launch_and_fit pid=16340)\u001B[0m   File \"C:\\Program Files\\WindowsApps\\PythonSoftwareFoundation.Python.3.10_3.10.3056.0_x64__qbz5n2kfra8p0\\lib\\ctypes\\__init__.py\", line 374 in __init__\n",
      "\u001B[2m\u001B[36m(launch_and_fit pid=16340)\u001B[0m   File \"D:\\FD\\venv\\lib\\site-packages\\torch\\_ops.py\", line 573 in load_library\n",
      "\u001B[2m\u001B[36m(launch_and_fit pid=16340)\u001B[0m   File \"D:\\FD\\venv\\lib\\site-packages\\torchvision\\extension.py\", line 36 in <module>\n",
      "\u001B[2m\u001B[36m(launch_and_fit pid=16340)\u001B[0m   File \"D:\\FD\\venv\\lib\\site-packages\\torchvision\\io\\_load_gpu_decoder.py\", line 1 in <module>\n",
      "\u001B[2m\u001B[36m(launch_and_fit pid=16340)\u001B[0m   File \"D:\\FD\\venv\\lib\\site-packages\\torchvision\\io\\__init__.py\", line 8 in <module>\n",
      "\u001B[2m\u001B[36m(launch_and_fit pid=16340)\u001B[0m   File \"D:\\FD\\venv\\lib\\site-packages\\torchvision\\datasets\\_optical_flow.py\", line 12 in <module>\n",
      "\u001B[2m\u001B[36m(launch_and_fit pid=16340)\u001B[0m   File \"D:\\FD\\venv\\lib\\site-packages\\torchvision\\datasets\\__init__.py\", line 1 in <module>\n",
      "\u001B[2m\u001B[36m(launch_and_fit pid=16340)\u001B[0m   File \"D:\\FD\\venv\\lib\\site-packages\\torchvision\\__init__.py\", line 6 in <module>\n",
      "\u001B[2m\u001B[36m(launch_and_fit pid=16340)\u001B[0m   File \"<frozen importlib._bootstrap>\", line 1050 in _gcd_import\n",
      "\u001B[2m\u001B[36m(launch_and_fit pid=16340)\u001B[0m   File \"C:\\Program Files\\WindowsApps\\PythonSoftwareFoundation.Python.3.10_3.10.3056.0_x64__qbz5n2kfra8p0\\lib\\importlib\\__init__.py\", line 126 in import_module\n",
      "\u001B[2m\u001B[36m(launch_and_fit pid=16340)\u001B[0m   File \"D:\\FD\\venv\\lib\\site-packages\\lightning_utilities\\core\\imports.py\", line 73 in compare_version\n",
      "\u001B[2m\u001B[36m(launch_and_fit pid=16340)\u001B[0m   File \"D:\\FD\\venv\\lib\\site-packages\\torchmetrics\\utilities\\imports.py\", line 41 in <module>\n",
      "\u001B[2m\u001B[36m(launch_and_fit pid=16340)\u001B[0m   File \"D:\\FD\\venv\\lib\\site-packages\\torchmetrics\\utilities\\data.py\", line 22 in <module>\n",
      "\u001B[2m\u001B[36m(launch_and_fit pid=16340)\u001B[0m   File \"D:\\FD\\venv\\lib\\site-packages\\torchmetrics\\metric.py\", line 30 in <module>\n",
      "\u001B[2m\u001B[36m(launch_and_fit pid=16340)\u001B[0m   File \"D:\\FD\\venv\\lib\\site-packages\\torchmetrics\\utilities\\checks.py\", line 25 in <module>\n",
      "\u001B[2m\u001B[36m(launch_and_fit pid=16340)\u001B[0m   File \"D:\\FD\\venv\\lib\\site-packages\\torchmetrics\\utilities\\__init__.py\", line 14 in <module>\n",
      "\u001B[2m\u001B[36m(launch_and_fit pid=16340)\u001B[0m   File \"D:\\FD\\venv\\lib\\site-packages\\torchmetrics\\functional\\audio\\pit.py\", line 23 in <module>\n",
      "\u001B[2m\u001B[36m(launch_and_fit pid=16340)\u001B[0m   File \"D:\\FD\\venv\\lib\\site-packages\\torchmetrics\\functional\\audio\\__init__.py\", line 14 in <module>\n",
      "\u001B[2m\u001B[36m(launch_and_fit pid=16340)\u001B[0m   File \"D:\\FD\\venv\\lib\\site-packages\\torchmetrics\\functional\\__init__.py\", line 14 in <module>\n",
      "\u001B[2m\u001B[36m(launch_and_fit pid=16340)\u001B[0m   File \"D:\\FD\\venv\\lib\\site-packages\\torchmetrics\\__init__.py\", line 14 in <module>\n",
      "\u001B[2m\u001B[36m(launch_and_fit pid=16340)\u001B[0m   ...\n",
      "\u001B[2m\u001B[36m(launch_and_fit pid=16340)\u001B[0m D:\\FD\\venv\\lib\\site-packages\\torchvision\\io\\image.py:13: UserWarning: Failed to load image Python extension: '[WinError 127] 找不到指定的程序。'If you don't plan on using image functionality from `torchvision.io`, you can ignore this warning. Otherwise, there might be something wrong with your environment. Did you have `libjpeg` or `libpng` installed before building `torchvision` from source?\n",
      "\u001B[2m\u001B[36m(launch_and_fit pid=16340)\u001B[0m   warn(\n",
      "\u001B[2m\u001B[36m(launch_and_fit pid=22816)\u001B[0m   File \"D:\\FD\\venv\\lib\\site-packages\\torchvision\\extension.py\", line 104 in _load_library\n",
      "\u001B[2m\u001B[36m(launch_and_fit pid=22816)\u001B[0m   File \"D:\\FD\\venv\\lib\\site-packages\\torchvision\\io\\image.py\", line 11 in <module>\n"
     ]
    },
    {
     "name": "stdout",
     "output_type": "stream",
     "text": [
      "\u001B[2m\u001B[36m(launch_and_fit pid=16340)\u001B[0m binary client\n",
      "\u001B[2m\u001B[36m(launch_and_fit pid=16340)\u001B[0m Client 5 aggregated_trees length 2\n",
      "\u001B[2m\u001B[36m(launch_and_fit pid=16340)\u001B[0m Client 5: only had its own tree\n",
      "\u001B[2m\u001B[36m(launch_and_fit pid=24176)\u001B[0m Client 3: training for 2 iterations/updates\n",
      "\u001B[2m\u001B[36m(launch_and_fit pid=22816)\u001B[0m binary client\u001B[32m [repeated 3x across cluster]\u001B[0m\n",
      "\u001B[2m\u001B[36m(launch_and_fit pid=22816)\u001B[0m Client 2 aggregated_trees length 2\u001B[32m [repeated 3x across cluster]\u001B[0m\n",
      "\u001B[2m\u001B[36m(launch_and_fit pid=22816)\u001B[0m Client 2: only had its own tree\u001B[32m [repeated 3x across cluster]\u001B[0m\n"
     ]
    },
    {
     "name": "stderr",
     "output_type": "stream",
     "text": [
      "\u001B[2m\u001B[36m(launch_and_fit pid=24176)\u001B[0m D:\\FD\\clients\\xgb_client.py:238: UserWarning: To copy construct from a tensor, it is recommended to use sourceTensor.clone().detach() or sourceTensor.clone().detach().requires_grad_(True), rather than torch.tensor(sourceTensor).\n",
      "\u001B[2m\u001B[36m(launch_and_fit pid=24176)\u001B[0m   y_test = torch.cat((torch.tensor(y_test), torch.tensor(labels)), dim=0)\n",
      "\u001B[2m\u001B[36m(launch_and_fit pid=24176)\u001B[0m D:\\FD\\clients\\xgb_client.py:239: UserWarning: To copy construct from a tensor, it is recommended to use sourceTensor.clone().detach() or sourceTensor.clone().detach().requires_grad_(True), rather than torch.tensor(sourceTensor).\n",
      "\u001B[2m\u001B[36m(launch_and_fit pid=24176)\u001B[0m   y_pred = torch.cat((torch.tensor(y_pred), torch.tensor(outputs)), dim=0)\n",
      "\u001B[2m\u001B[36m(launch_and_fit pid=22816)\u001B[0m Windows fatal exception: code 0xc0000139\u001B[32m [repeated 6x across cluster]\u001B[0m\n",
      "\u001B[2m\u001B[36m(launch_and_fit pid=22816)\u001B[0m \u001B[32m [repeated 6x across cluster]\u001B[0m\n",
      "\u001B[2m\u001B[36m(launch_and_fit pid=22816)\u001B[0m   File \"<frozen importlib._bootstrap>\", line 241 in _call_with_frames_removed\u001B[32m [repeated 72x across cluster]\u001B[0m\n",
      "\u001B[2m\u001B[36m(launch_and_fit pid=22816)\u001B[0m   File \"<frozen importlib._bootstrap_external>\", line 883 in exec_module\u001B[32m [repeated 56x across cluster]\u001B[0m\n",
      "\u001B[2m\u001B[36m(launch_and_fit pid=22816)\u001B[0m   File \"<frozen importlib._bootstrap>\", line 688 in _load_unlocked\u001B[32m [repeated 56x across cluster]\u001B[0m\n",
      "\u001B[2m\u001B[36m(launch_and_fit pid=22816)\u001B[0m   File \"<frozen importlib._bootstrap>\", line 1006 in _find_and_load_unlocked\u001B[32m [repeated 64x across cluster]\u001B[0m\n",
      "\u001B[2m\u001B[36m(launch_and_fit pid=22816)\u001B[0m   File \"<frozen importlib._bootstrap>\", line 1027 in _find_and_load\u001B[32m [repeated 64x across cluster]\u001B[0m\n",
      "\u001B[2m\u001B[36m(launch_and_fit pid=22816)\u001B[0m   File \"<frozen importlib._bootstrap>\", line 1078 in _handle_fromlist\u001B[32m [repeated 8x across cluster]\u001B[0m\n",
      "\u001B[2m\u001B[36m(launch_and_fit pid=22816)\u001B[0m Stack (most recent call first):\u001B[32m [repeated 3x across cluster]\u001B[0m\n",
      "\u001B[2m\u001B[36m(launch_and_fit pid=22816)\u001B[0m   File \"C:\\Program Files\\WindowsApps\\PythonSoftwareFoundation.Python.3.10_3.10.3056.0_x64__qbz5n2kfra8p0\\lib\\ctypes\\__init__.py\", line 374 in __init__\u001B[32m [repeated 3x across cluster]\u001B[0m\n",
      "\u001B[2m\u001B[36m(launch_and_fit pid=22816)\u001B[0m   File \"D:\\FD\\venv\\lib\\site-packages\\torch\\_ops.py\", line 573 in load_library\u001B[32m [repeated 3x across cluster]\u001B[0m\n",
      "\u001B[2m\u001B[36m(launch_and_fit pid=22816)\u001B[0m   File \"D:\\FD\\venv\\lib\\site-packages\\torchvision\\extension.py\", line 36 in <module>\u001B[32m [repeated 2x across cluster]\u001B[0m\n",
      "\u001B[2m\u001B[36m(launch_and_fit pid=22816)\u001B[0m   File \"D:\\FD\\venv\\lib\\site-packages\\torchvision\\io\\_load_gpu_decoder.py\", line 1 in <module>\u001B[32m [repeated 2x across cluster]\u001B[0m\n",
      "\u001B[2m\u001B[36m(launch_and_fit pid=22816)\u001B[0m   File \"D:\\FD\\venv\\lib\\site-packages\\torchvision\\io\\__init__.py\", line 23 in <module>\u001B[32m [repeated 3x across cluster]\u001B[0m\n",
      "\u001B[2m\u001B[36m(launch_and_fit pid=22816)\u001B[0m   File \"D:\\FD\\venv\\lib\\site-packages\\torchvision\\datasets\\_optical_flow.py\", line 12 in <module>\u001B[32m [repeated 3x across cluster]\u001B[0m\n",
      "\u001B[2m\u001B[36m(launch_and_fit pid=22816)\u001B[0m   File \"D:\\FD\\venv\\lib\\site-packages\\torchvision\\datasets\\__init__.py\", line 1 in <module>\u001B[32m [repeated 3x across cluster]\u001B[0m\n",
      "\u001B[2m\u001B[36m(launch_and_fit pid=22816)\u001B[0m   File \"D:\\FD\\venv\\lib\\site-packages\\torchvision\\__init__.py\", line 6 in <module>\u001B[32m [repeated 3x across cluster]\u001B[0m\n",
      "\u001B[2m\u001B[36m(launch_and_fit pid=22816)\u001B[0m   File \"<frozen importlib._bootstrap>\", line 1050 in _gcd_import\u001B[32m [repeated 3x across cluster]\u001B[0m\n",
      "\u001B[2m\u001B[36m(launch_and_fit pid=22816)\u001B[0m   File \"C:\\Program Files\\WindowsApps\\PythonSoftwareFoundation.Python.3.10_3.10.3056.0_x64__qbz5n2kfra8p0\\lib\\importlib\\__init__.py\", line 126 in import_module\u001B[32m [repeated 3x across cluster]\u001B[0m\n",
      "\u001B[2m\u001B[36m(launch_and_fit pid=22816)\u001B[0m   File \"D:\\FD\\venv\\lib\\site-packages\\lightning_utilities\\core\\imports.py\", line 73 in compare_version\u001B[32m [repeated 3x across cluster]\u001B[0m\n",
      "\u001B[2m\u001B[36m(launch_and_fit pid=22816)\u001B[0m   File \"D:\\FD\\venv\\lib\\site-packages\\torchmetrics\\utilities\\imports.py\", line 41 in <module>\u001B[32m [repeated 3x across cluster]\u001B[0m\n",
      "\u001B[2m\u001B[36m(launch_and_fit pid=22816)\u001B[0m   File \"D:\\FD\\venv\\lib\\site-packages\\torchmetrics\\utilities\\data.py\", line 22 in <module>\u001B[32m [repeated 3x across cluster]\u001B[0m\n",
      "\u001B[2m\u001B[36m(launch_and_fit pid=22816)\u001B[0m   File \"D:\\FD\\venv\\lib\\site-packages\\torchmetrics\\metric.py\", line 30 in <module>\u001B[32m [repeated 3x across cluster]\u001B[0m\n",
      "\u001B[2m\u001B[36m(launch_and_fit pid=22816)\u001B[0m   File \"D:\\FD\\venv\\lib\\site-packages\\torchmetrics\\utilities\\checks.py\", line 25 in <module>\u001B[32m [repeated 3x across cluster]\u001B[0m\n",
      "\u001B[2m\u001B[36m(launch_and_fit pid=22816)\u001B[0m   File \"D:\\FD\\venv\\lib\\site-packages\\torchmetrics\\utilities\\__init__.py\", line 14 in <module>\u001B[32m [repeated 3x across cluster]\u001B[0m\n",
      "\u001B[2m\u001B[36m(launch_and_fit pid=22816)\u001B[0m   File \"D:\\FD\\venv\\lib\\site-packages\\torchmetrics\\functional\\audio\\pit.py\", line 23 in <module>\u001B[32m [repeated 3x across cluster]\u001B[0m\n",
      "\u001B[2m\u001B[36m(launch_and_fit pid=22816)\u001B[0m   File \"D:\\FD\\venv\\lib\\site-packages\\torchmetrics\\functional\\audio\\__init__.py\", line 14 in <module>\u001B[32m [repeated 3x across cluster]\u001B[0m\n",
      "\u001B[2m\u001B[36m(launch_and_fit pid=22816)\u001B[0m   File \"D:\\FD\\venv\\lib\\site-packages\\torchmetrics\\functional\\__init__.py\", line 14 in <module>\u001B[32m [repeated 3x across cluster]\u001B[0m\n",
      "\u001B[2m\u001B[36m(launch_and_fit pid=22816)\u001B[0m   File \"D:\\FD\\venv\\lib\\site-packages\\torchmetrics\\__init__.py\", line 14 in <module>\u001B[32m [repeated 3x across cluster]\u001B[0m\n",
      "\u001B[2m\u001B[36m(launch_and_fit pid=22816)\u001B[0m   ...\u001B[32m [repeated 3x across cluster]\u001B[0m\n",
      "\u001B[2m\u001B[36m(launch_and_fit pid=22816)\u001B[0m D:\\FD\\venv\\lib\\site-packages\\torchvision\\io\\image.py:13: UserWarning: Failed to load image Python extension: '[WinError 127] 找不到指定的程序。'If you don't plan on using image functionality from `torchvision.io`, you can ignore this warning. Otherwise, there might be something wrong with your environment. Did you have `libjpeg` or `libpng` installed before building `torchvision` from source?\u001B[32m [repeated 2x across cluster]\u001B[0m\n",
      "\u001B[2m\u001B[36m(launch_and_fit pid=22816)\u001B[0m   warn(\u001B[32m [repeated 2x across cluster]\u001B[0m\n",
      "\u001B[2m\u001B[36m(launch_and_fit pid=16340)\u001B[0m D:\\FD\\clients\\xgb_client.py:239: UserWarning: To copy construct from a tensor, it is recommended to use sourceTensor.clone().detach() or sourceTensor.clone().detach().requires_grad_(True), rather than torch.tensor(sourceTensor).\u001B[32m [repeated 2x across cluster]\u001B[0m\n",
      "\u001B[2m\u001B[36m(launch_and_fit pid=16340)\u001B[0m   y_pred = torch.cat((torch.tensor(y_pred), torch.tensor(outputs)), dim=0)\n",
      "\u001B[2m\u001B[36m(launch_and_fit pid=16340)\u001B[0m   y_pred = torch.cat((torch.tensor(y_pred), torch.tensor(outputs)), dim=0)\n"
     ]
    },
    {
     "name": "stdout",
     "output_type": "stream",
     "text": [
      "\u001B[2m\u001B[36m(launch_and_fit pid=16340)\u001B[0m Client 5: training for 2 iterations/updates\n",
      "\u001B[2m\u001B[36m(launch_and_fit pid=24636)\u001B[0m Client 8: training for 2 iterations/updates\n"
     ]
    },
    {
     "name": "stderr",
     "output_type": "stream",
     "text": [
      "\u001B[2m\u001B[36m(launch_and_fit pid=24636)\u001B[0m   y_test = torch.cat((torch.tensor(y_test), torch.tensor(labels)), dim=0)\n",
      "\u001B[2m\u001B[36m(launch_and_fit pid=24636)\u001B[0m   y_pred = torch.cat((torch.tensor(y_pred), torch.tensor(outputs)), dim=0)\n",
      "DEBUG flwr 2023-09-03 13:07:53,829 | fl_server.py:241 | fit_round 1 received 5 results and 0 failures\n",
      "WARNING flwr 2023-09-03 13:07:53,840 | fedxgb_nn_avg.py:88 | No fit_metrics_aggregation_fn provided\n"
     ]
    },
    {
     "name": "stdout",
     "output_type": "stream",
     "text": [
      "Server side aggregated 5 trees.\n",
      "serverside task_type binary\n"
     ]
    },
    {
     "name": "stderr",
     "output_type": "stream",
     "text": [
      "INFO flwr 2023-09-03 13:08:47,274 | fl_server.py:112 | fit progress: (1, 0.15924262, {'auc': 0.8326340279725231}, 135.67936049999844)\n",
      "INFO flwr 2023-09-03 13:08:47,276 | fl_server.py:159 | evaluate_round 1: no clients selected, cancel\n",
      "DEBUG flwr 2023-09-03 13:08:47,277 | fl_server.py:226 | fit_round 2: strategy sampled 5 clients (out of 10)\n"
     ]
    },
    {
     "name": "stdout",
     "output_type": "stream",
     "text": [
      "testset mse 0.15924261510372162 and auc 0.8326340279725231\n",
      "Evaluation on the server: test_mse=0.1592, test_auc=0.8326\n",
      "Configuring round 2\n",
      "\u001B[2m\u001B[36m(launch_and_fit pid=24636)\u001B[0m binary client\n",
      "\u001B[2m\u001B[36m(launch_and_fit pid=22816)\u001B[0m Client 2: training for 2 iterations/updates\u001B[32m [repeated 2x across cluster]\u001B[0m\n",
      "\u001B[2m\u001B[36m(launch_and_fit pid=24636)\u001B[0m Client 5 aggregated_trees length 5\n",
      "\u001B[2m\u001B[36m(launch_and_fit pid=24636)\u001B[0m Client 5: recieved 5 trees\n",
      "\u001B[2m\u001B[36m(launch_and_fit pid=24176)\u001B[0m binary client\u001B[32m [repeated 4x across cluster]\u001B[0m\n",
      "\u001B[2m\u001B[36m(launch_and_fit pid=16340)\u001B[0m Client 0 aggregated_trees length 5\u001B[32m [repeated 4x across cluster]\u001B[0m\n",
      "\u001B[2m\u001B[36m(launch_and_fit pid=16340)\u001B[0m Client 0: recieved 5 trees\u001B[32m [repeated 4x across cluster]\u001B[0m\n",
      "\u001B[2m\u001B[36m(launch_and_fit pid=24176)\u001B[0m Client 6: training for 2 iterations/updates\n"
     ]
    },
    {
     "name": "stderr",
     "output_type": "stream",
     "text": [
      "DEBUG flwr 2023-09-03 13:11:05,036 | fl_server.py:241 | fit_round 2 received 5 results and 0 failures\n"
     ]
    },
    {
     "name": "stdout",
     "output_type": "stream",
     "text": [
      "Server side aggregated 5 trees.\n",
      "serverside task_type binary\n",
      "\u001B[2m\u001B[36m(launch_and_fit pid=16340)\u001B[0m Client 0: training for 2 iterations/updates\u001B[32m [repeated 4x across cluster]\u001B[0m\n"
     ]
    },
    {
     "name": "stderr",
     "output_type": "stream",
     "text": [
      "INFO flwr 2023-09-03 13:11:58,584 | fl_server.py:112 | fit progress: (2, 0.091171585, {'auc': 0.8430501077321012}, 326.9892134999973)\n",
      "INFO flwr 2023-09-03 13:11:58,585 | fl_server.py:159 | evaluate_round 2: no clients selected, cancel\n",
      "DEBUG flwr 2023-09-03 13:11:58,585 | fl_server.py:226 | fit_round 3: strategy sampled 5 clients (out of 10)\n"
     ]
    },
    {
     "name": "stdout",
     "output_type": "stream",
     "text": [
      "testset mse 0.09117158502340317 and auc 0.8430501077321012\n",
      "Evaluation on the server: test_mse=0.0912, test_auc=0.8431\n",
      "Configuring round 3\n",
      "\u001B[2m\u001B[36m(launch_and_fit pid=16340)\u001B[0m binary client\n",
      "\u001B[2m\u001B[36m(launch_and_fit pid=16340)\u001B[0m Client 4 aggregated_trees length 5\n",
      "\u001B[2m\u001B[36m(launch_and_fit pid=16340)\u001B[0m Client 4: recieved 5 trees\n",
      "\u001B[2m\u001B[36m(launch_and_fit pid=24636)\u001B[0m binary client\u001B[32m [repeated 4x across cluster]\u001B[0m\n",
      "\u001B[2m\u001B[36m(launch_and_fit pid=28212)\u001B[0m Client 0 aggregated_trees length 5\u001B[32m [repeated 4x across cluster]\u001B[0m\n",
      "\u001B[2m\u001B[36m(launch_and_fit pid=28212)\u001B[0m Client 0: recieved 5 trees\u001B[32m [repeated 4x across cluster]\u001B[0m\n",
      "\u001B[2m\u001B[36m(launch_and_fit pid=16340)\u001B[0m Client 4: training for 2 iterations/updates\n"
     ]
    },
    {
     "name": "stderr",
     "output_type": "stream",
     "text": [
      "DEBUG flwr 2023-09-03 13:14:18,580 | fl_server.py:241 | fit_round 3 received 5 results and 0 failures\n"
     ]
    },
    {
     "name": "stdout",
     "output_type": "stream",
     "text": [
      "Server side aggregated 5 trees.\n",
      "serverside task_type binary\n",
      "\u001B[2m\u001B[36m(launch_and_fit pid=28212)\u001B[0m Client 0: training for 2 iterations/updates\u001B[32m [repeated 4x across cluster]\u001B[0m\n"
     ]
    },
    {
     "name": "stderr",
     "output_type": "stream",
     "text": [
      "INFO flwr 2023-09-03 13:15:12,172 | fl_server.py:112 | fit progress: (3, 0.057507984, {'auc': 0.8432373719022969}, 520.5764839999902)\n",
      "INFO flwr 2023-09-03 13:15:12,173 | fl_server.py:159 | evaluate_round 3: no clients selected, cancel\n",
      "DEBUG flwr 2023-09-03 13:15:12,174 | fl_server.py:226 | fit_round 4: strategy sampled 5 clients (out of 10)\n"
     ]
    },
    {
     "name": "stdout",
     "output_type": "stream",
     "text": [
      "testset mse 0.05750798434019089 and auc 0.8432373719022969\n",
      "Evaluation on the server: test_mse=0.0575, test_auc=0.8432\n",
      "Configuring round 4\n",
      "\u001B[2m\u001B[36m(launch_and_fit pid=24176)\u001B[0m binary client\n",
      "\u001B[2m\u001B[36m(launch_and_fit pid=24636)\u001B[0m Client 7 aggregated_trees length 5\n",
      "\u001B[2m\u001B[36m(launch_and_fit pid=24636)\u001B[0m Client 7: recieved 5 trees\n",
      "\u001B[2m\u001B[36m(launch_and_fit pid=22816)\u001B[0m binary client\u001B[32m [repeated 4x across cluster]\u001B[0m\n",
      "\u001B[2m\u001B[36m(launch_and_fit pid=24176)\u001B[0m Client 0 aggregated_trees length 5\u001B[32m [repeated 4x across cluster]\u001B[0m\n",
      "\u001B[2m\u001B[36m(launch_and_fit pid=24176)\u001B[0m Client 0: recieved 5 trees\u001B[32m [repeated 4x across cluster]\u001B[0m\n",
      "\u001B[2m\u001B[36m(launch_and_fit pid=16340)\u001B[0m Client 6: training for 2 iterations/updates\n"
     ]
    },
    {
     "name": "stderr",
     "output_type": "stream",
     "text": [
      "DEBUG flwr 2023-09-03 13:17:35,605 | fl_server.py:241 | fit_round 4 received 5 results and 0 failures\n"
     ]
    },
    {
     "name": "stdout",
     "output_type": "stream",
     "text": [
      "Server side aggregated 5 trees.\n",
      "serverside task_type binary\n",
      "\u001B[2m\u001B[36m(launch_and_fit pid=24176)\u001B[0m Client 0: training for 2 iterations/updates\u001B[32m [repeated 4x across cluster]\u001B[0m\n"
     ]
    },
    {
     "name": "stderr",
     "output_type": "stream",
     "text": [
      "INFO flwr 2023-09-03 13:18:28,250 | fl_server.py:112 | fit progress: (4, 0.052750356, {'auc': 0.8433882196377219}, 716.6550075999985)\n",
      "INFO flwr 2023-09-03 13:18:28,252 | fl_server.py:159 | evaluate_round 4: no clients selected, cancel\n",
      "DEBUG flwr 2023-09-03 13:18:28,253 | fl_server.py:226 | fit_round 5: strategy sampled 5 clients (out of 10)\n"
     ]
    },
    {
     "name": "stdout",
     "output_type": "stream",
     "text": [
      "testset mse 0.0527503564953804 and auc 0.8433882196377219\n",
      "Evaluation on the server: test_mse=0.0528, test_auc=0.8434\n",
      "Configuring round 5\n",
      "\u001B[2m\u001B[36m(launch_and_fit pid=24176)\u001B[0m binary client\n",
      "\u001B[2m\u001B[36m(launch_and_fit pid=24176)\u001B[0m Client 5 aggregated_trees length 5\n",
      "\u001B[2m\u001B[36m(launch_and_fit pid=24176)\u001B[0m Client 5: recieved 5 trees\n",
      "\u001B[2m\u001B[36m(launch_and_fit pid=24636)\u001B[0m Client 8: training for 2 iterations/updates\n",
      "\u001B[2m\u001B[36m(launch_and_fit pid=16340)\u001B[0m binary client\u001B[32m [repeated 4x across cluster]\u001B[0m\n",
      "\u001B[2m\u001B[36m(launch_and_fit pid=22816)\u001B[0m Client 4 aggregated_trees length 5\u001B[32m [repeated 4x across cluster]\u001B[0m\n",
      "\u001B[2m\u001B[36m(launch_and_fit pid=22816)\u001B[0m Client 4: recieved 5 trees\u001B[32m [repeated 4x across cluster]\u001B[0m\n"
     ]
    },
    {
     "name": "stderr",
     "output_type": "stream",
     "text": [
      "DEBUG flwr 2023-09-03 13:19:46,487 | fl_server.py:241 | fit_round 5 received 5 results and 0 failures\n"
     ]
    },
    {
     "name": "stdout",
     "output_type": "stream",
     "text": [
      "Server side aggregated 5 trees.\n",
      "serverside task_type binary\n"
     ]
    },
    {
     "name": "stderr",
     "output_type": "stream",
     "text": [
      "INFO flwr 2023-09-03 13:20:39,628 | fl_server.py:112 | fit progress: (5, 0.052145496, {'auc': 0.8510876956898112}, 848.0329765999923)\n",
      "INFO flwr 2023-09-03 13:20:39,629 | fl_server.py:159 | evaluate_round 5: no clients selected, cancel\n",
      "DEBUG flwr 2023-09-03 13:20:39,629 | fl_server.py:226 | fit_round 6: strategy sampled 5 clients (out of 10)\n"
     ]
    },
    {
     "name": "stdout",
     "output_type": "stream",
     "text": [
      "testset mse 0.052145496010780334 and auc 0.8510876956898112\n",
      "Evaluation on the server: test_mse=0.0521, test_auc=0.8511\n",
      "Configuring round 6\n",
      "\u001B[2m\u001B[36m(launch_and_fit pid=28212)\u001B[0m Client 9: training for 2 iterations/updates\u001B[32m [repeated 4x across cluster]\u001B[0m\n",
      "\u001B[2m\u001B[36m(launch_and_fit pid=24176)\u001B[0m binary client\n",
      "\u001B[2m\u001B[36m(launch_and_fit pid=24636)\u001B[0m binary client\n",
      "\u001B[2m\u001B[36m(launch_and_fit pid=24176)\u001B[0m Client 8 aggregated_trees length 5\n",
      "\u001B[2m\u001B[36m(launch_and_fit pid=24176)\u001B[0m Client 8: recieved 5 trees\n",
      "\u001B[2m\u001B[36m(launch_and_fit pid=22816)\u001B[0m Client 4: training for 2 iterations/updates\n",
      "\u001B[2m\u001B[36m(launch_and_fit pid=22816)\u001B[0m binary client\u001B[32m [repeated 3x across cluster]\u001B[0m\n",
      "\u001B[2m\u001B[36m(launch_and_fit pid=16340)\u001B[0m Client 2 aggregated_trees length 5\u001B[32m [repeated 4x across cluster]\u001B[0m\n",
      "\u001B[2m\u001B[36m(launch_and_fit pid=16340)\u001B[0m Client 2: recieved 5 trees\u001B[32m [repeated 4x across cluster]\u001B[0m\n",
      "\u001B[2m\u001B[36m(launch_and_fit pid=24636)\u001B[0m Client 9: training for 2 iterations/updates\n"
     ]
    },
    {
     "name": "stderr",
     "output_type": "stream",
     "text": [
      "DEBUG flwr 2023-09-03 13:21:57,275 | fl_server.py:241 | fit_round 6 received 5 results and 0 failures\n"
     ]
    },
    {
     "name": "stdout",
     "output_type": "stream",
     "text": [
      "Server side aggregated 5 trees.\n",
      "serverside task_type binary\n"
     ]
    },
    {
     "name": "stderr",
     "output_type": "stream",
     "text": [
      "INFO flwr 2023-09-03 13:22:50,392 | fl_server.py:112 | fit progress: (6, 0.05219193, {'auc': 0.8454763504727654}, 978.797004299995)\n",
      "INFO flwr 2023-09-03 13:22:50,394 | fl_server.py:159 | evaluate_round 6: no clients selected, cancel\n",
      "DEBUG flwr 2023-09-03 13:22:50,394 | fl_server.py:226 | fit_round 7: strategy sampled 5 clients (out of 10)\n"
     ]
    },
    {
     "name": "stdout",
     "output_type": "stream",
     "text": [
      "testset mse 0.05219193175435066 and auc 0.8454763504727654\n",
      "Evaluation on the server: test_mse=0.0522, test_auc=0.8455\n",
      "Configuring round 7\n",
      "\u001B[2m\u001B[36m(launch_and_fit pid=24176)\u001B[0m binary client\n",
      "\u001B[2m\u001B[36m(launch_and_fit pid=24176)\u001B[0m Client 8: training for 2 iterations/updates\u001B[32m [repeated 3x across cluster]\u001B[0m\n",
      "\u001B[2m\u001B[36m(launch_and_fit pid=24636)\u001B[0m binary client\n",
      "\u001B[2m\u001B[36m(launch_and_fit pid=24176)\u001B[0m Client 6 aggregated_trees length 5\n",
      "\u001B[2m\u001B[36m(launch_and_fit pid=24176)\u001B[0m Client 6: recieved 5 trees\n",
      "\u001B[2m\u001B[36m(launch_and_fit pid=24636)\u001B[0m Client 3: training for 2 iterations/updates\n",
      "\u001B[2m\u001B[36m(launch_and_fit pid=22816)\u001B[0m binary client\u001B[32m [repeated 3x across cluster]\u001B[0m\n",
      "\u001B[2m\u001B[36m(launch_and_fit pid=22816)\u001B[0m Client 5 aggregated_trees length 5\u001B[32m [repeated 4x across cluster]\u001B[0m\n",
      "\u001B[2m\u001B[36m(launch_and_fit pid=22816)\u001B[0m Client 5: recieved 5 trees\u001B[32m [repeated 4x across cluster]\u001B[0m\n",
      "\u001B[2m\u001B[36m(launch_and_fit pid=16340)\u001B[0m Client 4: training for 2 iterations/updates\n"
     ]
    },
    {
     "name": "stderr",
     "output_type": "stream",
     "text": [
      "DEBUG flwr 2023-09-03 13:24:10,249 | fl_server.py:241 | fit_round 7 received 5 results and 0 failures\n"
     ]
    },
    {
     "name": "stdout",
     "output_type": "stream",
     "text": [
      "Server side aggregated 5 trees.\n",
      "serverside task_type binary\n"
     ]
    },
    {
     "name": "stderr",
     "output_type": "stream",
     "text": [
      "INFO flwr 2023-09-03 13:25:03,559 | fl_server.py:112 | fit progress: (7, 0.051683325, {'auc': 0.8426788648842356}, 1111.964103499995)\n",
      "INFO flwr 2023-09-03 13:25:03,560 | fl_server.py:159 | evaluate_round 7: no clients selected, cancel\n",
      "DEBUG flwr 2023-09-03 13:25:03,561 | fl_server.py:226 | fit_round 8: strategy sampled 5 clients (out of 10)\n"
     ]
    },
    {
     "name": "stdout",
     "output_type": "stream",
     "text": [
      "testset mse 0.051683325320482254 and auc 0.8426788648842356\n",
      "Evaluation on the server: test_mse=0.0517, test_auc=0.8427\n",
      "Configuring round 8\n",
      "\u001B[2m\u001B[36m(launch_and_fit pid=24176)\u001B[0m binary client\n",
      "\u001B[2m\u001B[36m(launch_and_fit pid=24176)\u001B[0m Client 6: training for 2 iterations/updates\u001B[32m [repeated 3x across cluster]\u001B[0m\n",
      "\u001B[2m\u001B[36m(launch_and_fit pid=28212)\u001B[0m binary client\n",
      "\u001B[2m\u001B[36m(launch_and_fit pid=24176)\u001B[0m Client 5 aggregated_trees length 5\n",
      "\u001B[2m\u001B[36m(launch_and_fit pid=24176)\u001B[0m Client 5: recieved 5 trees\n",
      "\u001B[2m\u001B[36m(launch_and_fit pid=24636)\u001B[0m Client 1: training for 2 iterations/updates\n",
      "\u001B[2m\u001B[36m(launch_and_fit pid=16340)\u001B[0m binary client\u001B[32m [repeated 3x across cluster]\u001B[0m\n",
      "\u001B[2m\u001B[36m(launch_and_fit pid=22816)\u001B[0m Client 3 aggregated_trees length 5\u001B[32m [repeated 4x across cluster]\u001B[0m\n",
      "\u001B[2m\u001B[36m(launch_and_fit pid=22816)\u001B[0m Client 3: recieved 5 trees\u001B[32m [repeated 4x across cluster]\u001B[0m\n",
      "\u001B[2m\u001B[36m(launch_and_fit pid=16340)\u001B[0m Client 7: training for 2 iterations/updates\n"
     ]
    },
    {
     "name": "stderr",
     "output_type": "stream",
     "text": [
      "DEBUG flwr 2023-09-03 13:26:19,693 | fl_server.py:241 | fit_round 8 received 5 results and 0 failures\n"
     ]
    },
    {
     "name": "stdout",
     "output_type": "stream",
     "text": [
      "Server side aggregated 5 trees.\n",
      "serverside task_type binary\n"
     ]
    },
    {
     "name": "stderr",
     "output_type": "stream",
     "text": [
      "INFO flwr 2023-09-03 13:27:13,889 | fl_server.py:112 | fit progress: (8, 0.05189841, {'auc': 0.8479348872009392}, 1242.2942987999995)\n",
      "INFO flwr 2023-09-03 13:27:13,890 | fl_server.py:159 | evaluate_round 8: no clients selected, cancel\n",
      "DEBUG flwr 2023-09-03 13:27:13,891 | fl_server.py:226 | fit_round 9: strategy sampled 5 clients (out of 10)\n"
     ]
    },
    {
     "name": "stdout",
     "output_type": "stream",
     "text": [
      "testset mse 0.05189840868115425 and auc 0.8479348872009392\n",
      "Evaluation on the server: test_mse=0.0519, test_auc=0.8479\n",
      "Configuring round 9\n",
      "\u001B[2m\u001B[36m(launch_and_fit pid=24176)\u001B[0m binary client\n",
      "\u001B[2m\u001B[36m(launch_and_fit pid=24176)\u001B[0m Client 5: training for 2 iterations/updates\u001B[32m [repeated 3x across cluster]\u001B[0m\n",
      "\u001B[2m\u001B[36m(launch_and_fit pid=28212)\u001B[0m binary client\n",
      "\u001B[2m\u001B[36m(launch_and_fit pid=16340)\u001B[0m Client 6 aggregated_trees length 5\n",
      "\u001B[2m\u001B[36m(launch_and_fit pid=16340)\u001B[0m Client 6: recieved 5 trees\n",
      "\u001B[2m\u001B[36m(launch_and_fit pid=24636)\u001B[0m Client 1: training for 2 iterations/updates\n",
      "\u001B[2m\u001B[36m(launch_and_fit pid=24636)\u001B[0m binary client\u001B[32m [repeated 3x across cluster]\u001B[0m\n",
      "\u001B[2m\u001B[36m(launch_and_fit pid=22816)\u001B[0m Client 4 aggregated_trees length 5\u001B[32m [repeated 4x across cluster]\u001B[0m\n",
      "\u001B[2m\u001B[36m(launch_and_fit pid=22816)\u001B[0m Client 4: recieved 5 trees\u001B[32m [repeated 4x across cluster]\u001B[0m\n",
      "\u001B[2m\u001B[36m(launch_and_fit pid=16340)\u001B[0m Client 6: training for 2 iterations/updates\n"
     ]
    },
    {
     "name": "stderr",
     "output_type": "stream",
     "text": [
      "DEBUG flwr 2023-09-03 13:28:32,885 | fl_server.py:241 | fit_round 9 received 5 results and 0 failures\n"
     ]
    },
    {
     "name": "stdout",
     "output_type": "stream",
     "text": [
      "Server side aggregated 5 trees.\n",
      "serverside task_type binary\n"
     ]
    },
    {
     "name": "stderr",
     "output_type": "stream",
     "text": [
      "INFO flwr 2023-09-03 13:29:59,824 | fl_server.py:112 | fit progress: (9, 0.05199794, {'auc': 0.8502853944418085}, 1408.2286813999963)\n",
      "INFO flwr 2023-09-03 13:29:59,826 | fl_server.py:159 | evaluate_round 9: no clients selected, cancel\n",
      "DEBUG flwr 2023-09-03 13:29:59,827 | fl_server.py:226 | fit_round 10: strategy sampled 5 clients (out of 10)\n"
     ]
    },
    {
     "name": "stdout",
     "output_type": "stream",
     "text": [
      "testset mse 0.051997940987348557 and auc 0.8502853944418085\n",
      "Evaluation on the server: test_mse=0.0520, test_auc=0.8503\n",
      "Configuring round 10\n",
      "\u001B[2m\u001B[36m(launch_and_fit pid=22816)\u001B[0m binary client\n",
      "\u001B[2m\u001B[36m(launch_and_fit pid=24176)\u001B[0m Client 5: training for 2 iterations/updates\u001B[32m [repeated 3x across cluster]\u001B[0m\n",
      "\u001B[2m\u001B[36m(launch_and_fit pid=24176)\u001B[0m binary client\n",
      "\u001B[2m\u001B[36m(launch_and_fit pid=24176)\u001B[0m Client 3 aggregated_trees length 5\n",
      "\u001B[2m\u001B[36m(launch_and_fit pid=24176)\u001B[0m Client 3: recieved 5 trees\n",
      "\u001B[2m\u001B[36m(launch_and_fit pid=22816)\u001B[0m Client 7: training for 2 iterations/updates\n",
      "\u001B[2m\u001B[36m(launch_and_fit pid=24636)\u001B[0m binary client\u001B[32m [repeated 3x across cluster]\u001B[0m\n",
      "\u001B[2m\u001B[36m(launch_and_fit pid=24636)\u001B[0m Client 8 aggregated_trees length 5\u001B[32m [repeated 4x across cluster]\u001B[0m\n",
      "\u001B[2m\u001B[36m(launch_and_fit pid=24636)\u001B[0m Client 8: recieved 5 trees\u001B[32m [repeated 4x across cluster]\u001B[0m\n",
      "\u001B[2m\u001B[36m(launch_and_fit pid=24636)\u001B[0m Client 8: training for 2 iterations/updates\n"
     ]
    },
    {
     "name": "stderr",
     "output_type": "stream",
     "text": [
      "DEBUG flwr 2023-09-03 13:32:55,021 | fl_server.py:241 | fit_round 10 received 5 results and 0 failures\n"
     ]
    },
    {
     "name": "stdout",
     "output_type": "stream",
     "text": [
      "Server side aggregated 5 trees.\n",
      "serverside task_type binary\n"
     ]
    },
    {
     "name": "stderr",
     "output_type": "stream",
     "text": [
      "INFO flwr 2023-09-03 13:34:09,976 | fl_server.py:112 | fit progress: (10, 0.051752023, {'auc': 0.8492633480568511}, 1658.3816449000005)\n",
      "INFO flwr 2023-09-03 13:34:09,978 | fl_server.py:159 | evaluate_round 10: no clients selected, cancel\n",
      "DEBUG flwr 2023-09-03 13:34:09,979 | fl_server.py:226 | fit_round 11: strategy sampled 5 clients (out of 10)\n"
     ]
    },
    {
     "name": "stdout",
     "output_type": "stream",
     "text": [
      "testset mse 0.05175202339887619 and auc 0.8492633480568511\n",
      "Evaluation on the server: test_mse=0.0518, test_auc=0.8493\n",
      "Configuring round 11\n",
      "\u001B[2m\u001B[36m(launch_and_fit pid=24176)\u001B[0m binary client\n",
      "\u001B[2m\u001B[36m(launch_and_fit pid=28212)\u001B[0m Client 6: training for 2 iterations/updates\u001B[32m [repeated 3x across cluster]\u001B[0m\n",
      "\u001B[2m\u001B[36m(launch_and_fit pid=24636)\u001B[0m binary client\n",
      "\u001B[2m\u001B[36m(launch_and_fit pid=24176)\u001B[0m Client 3 aggregated_trees length 5\n",
      "\u001B[2m\u001B[36m(launch_and_fit pid=24176)\u001B[0m Client 3: recieved 5 trees\n",
      "\u001B[2m\u001B[36m(launch_and_fit pid=24636)\u001B[0m Client 6: training for 2 iterations/updates\n",
      "\u001B[2m\u001B[36m(launch_and_fit pid=22816)\u001B[0m binary client\u001B[32m [repeated 3x across cluster]\u001B[0m\n",
      "\u001B[2m\u001B[36m(launch_and_fit pid=24636)\u001B[0m Client 6 aggregated_trees length 5\u001B[32m [repeated 4x across cluster]\u001B[0m\n",
      "\u001B[2m\u001B[36m(launch_and_fit pid=24636)\u001B[0m Client 6: recieved 5 trees\u001B[32m [repeated 4x across cluster]\u001B[0m\n",
      "\u001B[2m\u001B[36m(launch_and_fit pid=22816)\u001B[0m Client 1: training for 2 iterations/updates\n"
     ]
    },
    {
     "name": "stderr",
     "output_type": "stream",
     "text": [
      "DEBUG flwr 2023-09-03 13:36:18,070 | fl_server.py:241 | fit_round 11 received 5 results and 0 failures\n"
     ]
    },
    {
     "name": "stdout",
     "output_type": "stream",
     "text": [
      "Server side aggregated 5 trees.\n",
      "serverside task_type binary\n"
     ]
    },
    {
     "name": "stderr",
     "output_type": "stream",
     "text": [
      "INFO flwr 2023-09-03 13:37:32,417 | fl_server.py:112 | fit progress: (11, 0.051482633, {'auc': 0.8513373218915804}, 1860.8221347999934)\n",
      "INFO flwr 2023-09-03 13:37:32,418 | fl_server.py:159 | evaluate_round 11: no clients selected, cancel\n",
      "DEBUG flwr 2023-09-03 13:37:32,419 | fl_server.py:226 | fit_round 12: strategy sampled 5 clients (out of 10)\n"
     ]
    },
    {
     "name": "stdout",
     "output_type": "stream",
     "text": [
      "testset mse 0.051482632756233215 and auc 0.8513373218915804\n",
      "Evaluation on the server: test_mse=0.0515, test_auc=0.8513\n",
      "Configuring round 12\n",
      "\u001B[2m\u001B[36m(launch_and_fit pid=24176)\u001B[0m binary client\n",
      "\u001B[2m\u001B[36m(launch_and_fit pid=28212)\u001B[0m Client 7: training for 2 iterations/updates\u001B[32m [repeated 3x across cluster]\u001B[0m\n",
      "\u001B[2m\u001B[36m(launch_and_fit pid=28212)\u001B[0m binary client\n",
      "\u001B[2m\u001B[36m(launch_and_fit pid=28212)\u001B[0m Client 6 aggregated_trees length 5\n",
      "\u001B[2m\u001B[36m(launch_and_fit pid=28212)\u001B[0m Client 6: recieved 5 trees\n",
      "\u001B[2m\u001B[36m(launch_and_fit pid=24636)\u001B[0m Client 8: training for 2 iterations/updates\n",
      "\u001B[2m\u001B[36m(launch_and_fit pid=22816)\u001B[0m binary client\u001B[32m [repeated 3x across cluster]\u001B[0m\n",
      "\u001B[2m\u001B[36m(launch_and_fit pid=22816)\u001B[0m Client 3 aggregated_trees length 5\u001B[32m [repeated 4x across cluster]\u001B[0m\n",
      "\u001B[2m\u001B[36m(launch_and_fit pid=22816)\u001B[0m Client 3: recieved 5 trees\u001B[32m [repeated 4x across cluster]\u001B[0m\n",
      "\u001B[2m\u001B[36m(launch_and_fit pid=22816)\u001B[0m Client 3: training for 2 iterations/updates\n"
     ]
    },
    {
     "name": "stderr",
     "output_type": "stream",
     "text": [
      "DEBUG flwr 2023-09-03 13:40:03,019 | fl_server.py:241 | fit_round 12 received 5 results and 0 failures\n"
     ]
    },
    {
     "name": "stdout",
     "output_type": "stream",
     "text": [
      "Server side aggregated 5 trees.\n",
      "serverside task_type binary\n"
     ]
    },
    {
     "name": "stderr",
     "output_type": "stream",
     "text": [
      "INFO flwr 2023-09-03 13:41:20,336 | fl_server.py:112 | fit progress: (12, 0.051171836, {'auc': 0.8478121753906672}, 2088.740963199991)\n",
      "INFO flwr 2023-09-03 13:41:20,337 | fl_server.py:159 | evaluate_round 12: no clients selected, cancel\n",
      "DEBUG flwr 2023-09-03 13:41:20,338 | fl_server.py:226 | fit_round 13: strategy sampled 5 clients (out of 10)\n"
     ]
    },
    {
     "name": "stdout",
     "output_type": "stream",
     "text": [
      "testset mse 0.051171835511922836 and auc 0.8478121753906672\n",
      "Evaluation on the server: test_mse=0.0512, test_auc=0.8478\n",
      "Configuring round 13\n",
      "\u001B[2m\u001B[36m(launch_and_fit pid=24176)\u001B[0m binary client\n",
      "\u001B[2m\u001B[36m(launch_and_fit pid=24176)\u001B[0m Client 4: training for 2 iterations/updates\u001B[32m [repeated 3x across cluster]\u001B[0m\n",
      "\u001B[2m\u001B[36m(launch_and_fit pid=28212)\u001B[0m binary client\n",
      "\u001B[2m\u001B[36m(launch_and_fit pid=28212)\u001B[0m Client 1 aggregated_trees length 5\n",
      "\u001B[2m\u001B[36m(launch_and_fit pid=28212)\u001B[0m Client 1: recieved 5 trees\n",
      "\u001B[2m\u001B[36m(launch_and_fit pid=24636)\u001B[0m binary client\u001B[32m [repeated 3x across cluster]\u001B[0m\n",
      "\u001B[2m\u001B[36m(launch_and_fit pid=24176)\u001B[0m Client 0 aggregated_trees length 5\u001B[32m [repeated 4x across cluster]\u001B[0m\n",
      "\u001B[2m\u001B[36m(launch_and_fit pid=24176)\u001B[0m Client 0: recieved 5 trees\u001B[32m [repeated 4x across cluster]\u001B[0m\n",
      "\u001B[2m\u001B[36m(launch_and_fit pid=24636)\u001B[0m Client 2: training for 2 iterations/updates\n"
     ]
    },
    {
     "name": "stderr",
     "output_type": "stream",
     "text": [
      "DEBUG flwr 2023-09-03 13:44:35,233 | fl_server.py:241 | fit_round 13 received 5 results and 0 failures\n"
     ]
    },
    {
     "name": "stdout",
     "output_type": "stream",
     "text": [
      "Server side aggregated 5 trees.\n",
      "serverside task_type binary\n",
      "\u001B[2m\u001B[36m(launch_and_fit pid=24176)\u001B[0m Client 0: training for 2 iterations/updates\u001B[32m [repeated 4x across cluster]\u001B[0m\n"
     ]
    },
    {
     "name": "stderr",
     "output_type": "stream",
     "text": [
      "INFO flwr 2023-09-03 13:45:48,848 | fl_server.py:112 | fit progress: (13, 0.051210348, {'auc': 0.8400083471098457}, 2357.253331499989)\n",
      "INFO flwr 2023-09-03 13:45:48,850 | fl_server.py:159 | evaluate_round 13: no clients selected, cancel\n",
      "DEBUG flwr 2023-09-03 13:45:48,850 | fl_server.py:226 | fit_round 14: strategy sampled 5 clients (out of 10)\n"
     ]
    },
    {
     "name": "stdout",
     "output_type": "stream",
     "text": [
      "testset mse 0.051210347563028336 and auc 0.8400083471098457\n",
      "Evaluation on the server: test_mse=0.0512, test_auc=0.8400\n",
      "Configuring round 14\n",
      "\u001B[2m\u001B[36m(launch_and_fit pid=24176)\u001B[0m binary client\n",
      "\u001B[2m\u001B[36m(launch_and_fit pid=24176)\u001B[0m Client 1 aggregated_trees length 5\n",
      "\u001B[2m\u001B[36m(launch_and_fit pid=24176)\u001B[0m Client 1: recieved 5 trees\n",
      "\u001B[2m\u001B[36m(launch_and_fit pid=24636)\u001B[0m Client 3: training for 2 iterations/updates\n",
      "\u001B[2m\u001B[36m(launch_and_fit pid=22816)\u001B[0m binary client\u001B[32m [repeated 4x across cluster]\u001B[0m\n",
      "\u001B[2m\u001B[36m(launch_and_fit pid=22816)\u001B[0m Client 7 aggregated_trees length 5\u001B[32m [repeated 4x across cluster]\u001B[0m\n",
      "\u001B[2m\u001B[36m(launch_and_fit pid=22816)\u001B[0m Client 7: recieved 5 trees\u001B[32m [repeated 4x across cluster]\u001B[0m\n"
     ]
    },
    {
     "name": "stderr",
     "output_type": "stream",
     "text": [
      "DEBUG flwr 2023-09-03 13:47:41,309 | fl_server.py:241 | fit_round 14 received 5 results and 0 failures\n"
     ]
    },
    {
     "name": "stdout",
     "output_type": "stream",
     "text": [
      "Server side aggregated 5 trees.\n",
      "serverside task_type binary\n"
     ]
    },
    {
     "name": "stderr",
     "output_type": "stream",
     "text": [
      "INFO flwr 2023-09-03 13:48:55,736 | fl_server.py:112 | fit progress: (14, 0.05177536, {'auc': 0.8438423655232773}, 2544.140776100001)\n",
      "INFO flwr 2023-09-03 13:48:55,738 | fl_server.py:159 | evaluate_round 14: no clients selected, cancel\n",
      "DEBUG flwr 2023-09-03 13:48:55,740 | fl_server.py:226 | fit_round 15: strategy sampled 5 clients (out of 10)\n"
     ]
    },
    {
     "name": "stdout",
     "output_type": "stream",
     "text": [
      "testset mse 0.051775358617305756 and auc 0.8438423655232773\n",
      "Evaluation on the server: test_mse=0.0518, test_auc=0.8438\n",
      "Configuring round 15\n",
      "\u001B[2m\u001B[36m(launch_and_fit pid=28212)\u001B[0m Client 6: training for 2 iterations/updates\u001B[32m [repeated 4x across cluster]\u001B[0m\n",
      "\u001B[2m\u001B[36m(launch_and_fit pid=16340)\u001B[0m binary client\n",
      "\u001B[2m\u001B[36m(launch_and_fit pid=28212)\u001B[0m binary client\n",
      "\u001B[2m\u001B[36m(launch_and_fit pid=28212)\u001B[0m Client 7 aggregated_trees length 5\n",
      "\u001B[2m\u001B[36m(launch_and_fit pid=28212)\u001B[0m Client 7: recieved 5 trees\n",
      "\u001B[2m\u001B[36m(launch_and_fit pid=24636)\u001B[0m Client 6: training for 2 iterations/updates\n",
      "\u001B[2m\u001B[36m(launch_and_fit pid=24636)\u001B[0m binary client\u001B[32m [repeated 3x across cluster]\u001B[0m\n",
      "\u001B[2m\u001B[36m(launch_and_fit pid=24636)\u001B[0m Client 6 aggregated_trees length 5\u001B[32m [repeated 4x across cluster]\u001B[0m\n",
      "\u001B[2m\u001B[36m(launch_and_fit pid=24636)\u001B[0m Client 6: recieved 5 trees\u001B[32m [repeated 4x across cluster]\u001B[0m\n",
      "\u001B[2m\u001B[36m(launch_and_fit pid=22816)\u001B[0m Client 3: training for 2 iterations/updates\n"
     ]
    },
    {
     "name": "stderr",
     "output_type": "stream",
     "text": [
      "DEBUG flwr 2023-09-03 13:50:53,201 | fl_server.py:241 | fit_round 15 received 5 results and 0 failures\n"
     ]
    },
    {
     "name": "stdout",
     "output_type": "stream",
     "text": [
      "Server side aggregated 5 trees.\n",
      "serverside task_type binary\n"
     ]
    },
    {
     "name": "stderr",
     "output_type": "stream",
     "text": [
      "INFO flwr 2023-09-03 13:52:12,983 | fl_server.py:112 | fit progress: (15, 0.051685855, {'auc': 0.8499219869148716}, 2741.388334499992)\n",
      "INFO flwr 2023-09-03 13:52:12,985 | fl_server.py:159 | evaluate_round 15: no clients selected, cancel\n",
      "DEBUG flwr 2023-09-03 13:52:12,986 | fl_server.py:226 | fit_round 16: strategy sampled 5 clients (out of 10)\n"
     ]
    },
    {
     "name": "stdout",
     "output_type": "stream",
     "text": [
      "testset mse 0.05168585479259491 and auc 0.8499219869148716\n",
      "Evaluation on the server: test_mse=0.0517, test_auc=0.8499\n",
      "Configuring round 16\n",
      "\u001B[2m\u001B[36m(launch_and_fit pid=24176)\u001B[0m binary client\n",
      "\u001B[2m\u001B[36m(launch_and_fit pid=28212)\u001B[0m Client 7: training for 2 iterations/updates\u001B[32m [repeated 3x across cluster]\u001B[0m\n",
      "\u001B[2m\u001B[36m(launch_and_fit pid=28212)\u001B[0m binary client\n",
      "\u001B[2m\u001B[36m(launch_and_fit pid=24176)\u001B[0m Client 2 aggregated_trees length 5\n",
      "\u001B[2m\u001B[36m(launch_and_fit pid=24176)\u001B[0m Client 2: recieved 5 trees\n",
      "\u001B[2m\u001B[36m(launch_and_fit pid=24176)\u001B[0m Client 2: training for 2 iterations/updates\n",
      "\u001B[2m\u001B[36m(launch_and_fit pid=24636)\u001B[0m binary client\u001B[32m [repeated 3x across cluster]\u001B[0m\n",
      "\u001B[2m\u001B[36m(launch_and_fit pid=22816)\u001B[0m Client 1 aggregated_trees length 5\u001B[32m [repeated 4x across cluster]\u001B[0m\n",
      "\u001B[2m\u001B[36m(launch_and_fit pid=22816)\u001B[0m Client 1: recieved 5 trees\u001B[32m [repeated 4x across cluster]\u001B[0m\n",
      "\u001B[2m\u001B[36m(launch_and_fit pid=24636)\u001B[0m Client 4: training for 2 iterations/updates\n"
     ]
    },
    {
     "name": "stderr",
     "output_type": "stream",
     "text": [
      "DEBUG flwr 2023-09-03 13:54:24,145 | fl_server.py:241 | fit_round 16 received 5 results and 0 failures\n"
     ]
    },
    {
     "name": "stdout",
     "output_type": "stream",
     "text": [
      "Server side aggregated 5 trees.\n",
      "serverside task_type binary\n"
     ]
    },
    {
     "name": "stderr",
     "output_type": "stream",
     "text": [
      "INFO flwr 2023-09-03 13:55:38,889 | fl_server.py:112 | fit progress: (16, 0.05127251, {'auc': 0.8481488092698399}, 2947.2943499999965)\n",
      "INFO flwr 2023-09-03 13:55:38,891 | fl_server.py:159 | evaluate_round 16: no clients selected, cancel\n",
      "DEBUG flwr 2023-09-03 13:55:38,892 | fl_server.py:226 | fit_round 17: strategy sampled 5 clients (out of 10)\n"
     ]
    },
    {
     "name": "stdout",
     "output_type": "stream",
     "text": [
      "testset mse 0.05127251148223877 and auc 0.8481488092698399\n",
      "Evaluation on the server: test_mse=0.0513, test_auc=0.8481\n",
      "Configuring round 17\n",
      "\u001B[2m\u001B[36m(launch_and_fit pid=28212)\u001B[0m binary client\n",
      "\u001B[2m\u001B[36m(launch_and_fit pid=28212)\u001B[0m Client 6: training for 2 iterations/updates\u001B[32m [repeated 3x across cluster]\u001B[0m\n",
      "\u001B[2m\u001B[36m(launch_and_fit pid=16340)\u001B[0m binary client\n",
      "\u001B[2m\u001B[36m(launch_and_fit pid=22816)\u001B[0m Client 4 aggregated_trees length 5\n",
      "\u001B[2m\u001B[36m(launch_and_fit pid=22816)\u001B[0m Client 4: recieved 5 trees\n",
      "\u001B[2m\u001B[36m(launch_and_fit pid=24636)\u001B[0m binary client\u001B[32m [repeated 3x across cluster]\u001B[0m\n",
      "\u001B[2m\u001B[36m(launch_and_fit pid=28212)\u001B[0m Client 0 aggregated_trees length 5\u001B[32m [repeated 4x across cluster]\u001B[0m\n",
      "\u001B[2m\u001B[36m(launch_and_fit pid=28212)\u001B[0m Client 0: recieved 5 trees\u001B[32m [repeated 4x across cluster]\u001B[0m\n",
      "\u001B[2m\u001B[36m(launch_and_fit pid=22816)\u001B[0m Client 4: training for 2 iterations/updates\n"
     ]
    },
    {
     "name": "stderr",
     "output_type": "stream",
     "text": [
      "DEBUG flwr 2023-09-03 13:58:49,222 | fl_server.py:241 | fit_round 17 received 5 results and 0 failures\n"
     ]
    },
    {
     "name": "stdout",
     "output_type": "stream",
     "text": [
      "Server side aggregated 5 trees.\n",
      "serverside task_type binary\n",
      "\u001B[2m\u001B[36m(launch_and_fit pid=28212)\u001B[0m Client 0: training for 2 iterations/updates\u001B[32m [repeated 4x across cluster]\u001B[0m\n"
     ]
    },
    {
     "name": "stderr",
     "output_type": "stream",
     "text": [
      "INFO flwr 2023-09-03 13:59:59,429 | fl_server.py:112 | fit progress: (17, 0.050903156, {'auc': 0.853297104827548}, 3207.833932999987)\n",
      "INFO flwr 2023-09-03 13:59:59,430 | fl_server.py:159 | evaluate_round 17: no clients selected, cancel\n",
      "DEBUG flwr 2023-09-03 13:59:59,431 | fl_server.py:226 | fit_round 18: strategy sampled 5 clients (out of 10)\n"
     ]
    },
    {
     "name": "stdout",
     "output_type": "stream",
     "text": [
      "testset mse 0.05090315639972687 and auc 0.853297104827548\n",
      "Evaluation on the server: test_mse=0.0509, test_auc=0.8533\n",
      "Configuring round 18\n",
      "\u001B[2m\u001B[36m(launch_and_fit pid=24176)\u001B[0m binary client\n",
      "\u001B[2m\u001B[36m(launch_and_fit pid=24176)\u001B[0m Client 2 aggregated_trees length 5\n",
      "\u001B[2m\u001B[36m(launch_and_fit pid=24176)\u001B[0m Client 2: recieved 5 trees\n",
      "\u001B[2m\u001B[36m(launch_and_fit pid=22816)\u001B[0m binary client\u001B[32m [repeated 4x across cluster]\u001B[0m\n",
      "\u001B[2m\u001B[36m(launch_and_fit pid=22816)\u001B[0m Client 0 aggregated_trees length 5\u001B[32m [repeated 4x across cluster]\u001B[0m\n",
      "\u001B[2m\u001B[36m(launch_and_fit pid=22816)\u001B[0m Client 0: recieved 5 trees\u001B[32m [repeated 4x across cluster]\u001B[0m\n",
      "\u001B[2m\u001B[36m(launch_and_fit pid=24636)\u001B[0m Client 9: training for 2 iterations/updates\n"
     ]
    },
    {
     "name": "stderr",
     "output_type": "stream",
     "text": [
      "DEBUG flwr 2023-09-03 14:02:53,505 | fl_server.py:241 | fit_round 18 received 5 results and 0 failures\n"
     ]
    },
    {
     "name": "stdout",
     "output_type": "stream",
     "text": [
      "Server side aggregated 5 trees.\n",
      "serverside task_type binary\n",
      "\u001B[2m\u001B[36m(launch_and_fit pid=22816)\u001B[0m Client 0: training for 2 iterations/updates\u001B[32m [repeated 4x across cluster]\u001B[0m\n"
     ]
    },
    {
     "name": "stderr",
     "output_type": "stream",
     "text": [
      "INFO flwr 2023-09-03 14:04:00,802 | fl_server.py:112 | fit progress: (18, 0.051757876, {'auc': 0.8490579558032341}, 3449.2069945999974)\n",
      "INFO flwr 2023-09-03 14:04:00,803 | fl_server.py:159 | evaluate_round 18: no clients selected, cancel\n",
      "DEBUG flwr 2023-09-03 14:04:00,804 | fl_server.py:226 | fit_round 19: strategy sampled 5 clients (out of 10)\n"
     ]
    },
    {
     "name": "stdout",
     "output_type": "stream",
     "text": [
      "testset mse 0.051757875829935074 and auc 0.8490579558032341\n",
      "Evaluation on the server: test_mse=0.0518, test_auc=0.8491\n",
      "Configuring round 19\n",
      "\u001B[2m\u001B[36m(launch_and_fit pid=24176)\u001B[0m binary client\n",
      "\u001B[2m\u001B[36m(launch_and_fit pid=28212)\u001B[0m Client 2 aggregated_trees length 5\n",
      "\u001B[2m\u001B[36m(launch_and_fit pid=28212)\u001B[0m Client 2: recieved 5 trees\n",
      "\u001B[2m\u001B[36m(launch_and_fit pid=28212)\u001B[0m \n",
      "\u001B[2m\u001B[36m(launch_and_fit pid=22816)\u001B[0m binary client\u001B[32m [repeated 4x across cluster]\u001B[0m\n",
      "\u001B[2m\u001B[36m(launch_and_fit pid=24636)\u001B[0m Client 0 aggregated_trees length 5\u001B[32m [repeated 4x across cluster]\u001B[0m\n",
      "\u001B[2m\u001B[36m(launch_and_fit pid=24636)\u001B[0m Client 0: recieved 5 trees\u001B[32m [repeated 4x across cluster]\u001B[0m\n",
      "\u001B[2m\u001B[36m(launch_and_fit pid=24176)\u001B[0m Client 1: training for 2 iterations/updates\n"
     ]
    },
    {
     "name": "stderr",
     "output_type": "stream",
     "text": [
      "DEBUG flwr 2023-09-03 14:06:46,268 | fl_server.py:241 | fit_round 19 received 5 results and 0 failures\n"
     ]
    },
    {
     "name": "stdout",
     "output_type": "stream",
     "text": [
      "\u001B[2m\u001B[36m(launch_and_fit pid=24636)\u001B[0m Client 0: training for 2 iterations/updates\u001B[32m [repeated 4x across cluster]\u001B[0m\n",
      "Server side aggregated 5 trees.\n",
      "serverside task_type binary\n"
     ]
    },
    {
     "name": "stderr",
     "output_type": "stream",
     "text": [
      "INFO flwr 2023-09-03 14:07:53,272 | fl_server.py:112 | fit progress: (19, 0.050904248, {'auc': 0.8507909774285061}, 3681.6765629)\n",
      "INFO flwr 2023-09-03 14:07:53,273 | fl_server.py:159 | evaluate_round 19: no clients selected, cancel\n",
      "DEBUG flwr 2023-09-03 14:07:53,275 | fl_server.py:226 | fit_round 20: strategy sampled 5 clients (out of 10)\n"
     ]
    },
    {
     "name": "stdout",
     "output_type": "stream",
     "text": [
      "testset mse 0.05090424790978432 and auc 0.8507909774285061\n",
      "Evaluation on the server: test_mse=0.0509, test_auc=0.8508\n",
      "Configuring round 20\n",
      "\u001B[2m\u001B[36m(launch_and_fit pid=24176)\u001B[0m binary client\n",
      "\u001B[2m\u001B[36m(launch_and_fit pid=22816)\u001B[0m Client 4 aggregated_trees length 5\n",
      "\u001B[2m\u001B[36m(launch_and_fit pid=22816)\u001B[0m Client 4: recieved 5 trees\n",
      "\u001B[2m\u001B[36m(launch_and_fit pid=22816)\u001B[0m binary client\u001B[32m [repeated 4x across cluster]\u001B[0m\n",
      "\u001B[2m\u001B[36m(launch_and_fit pid=28212)\u001B[0m Client 0 aggregated_trees length 5\u001B[32m [repeated 4x across cluster]\u001B[0m\n",
      "\u001B[2m\u001B[36m(launch_and_fit pid=28212)\u001B[0m Client 0: recieved 5 trees\u001B[32m [repeated 4x across cluster]\u001B[0m\n",
      "\u001B[2m\u001B[36m(launch_and_fit pid=22816)\u001B[0m Client 4: training for 2 iterations/updates\n"
     ]
    },
    {
     "name": "stderr",
     "output_type": "stream",
     "text": [
      "DEBUG flwr 2023-09-03 14:10:40,217 | fl_server.py:241 | fit_round 20 received 5 results and 0 failures\n"
     ]
    },
    {
     "name": "stdout",
     "output_type": "stream",
     "text": [
      "\u001B[2m\u001B[36m(launch_and_fit pid=28212)\u001B[0m Client 0: training for 2 iterations/updates\u001B[32m [repeated 4x across cluster]\u001B[0m\n",
      "Server side aggregated 5 trees.\n",
      "serverside task_type binary\n"
     ]
    },
    {
     "name": "stderr",
     "output_type": "stream",
     "text": [
      "INFO flwr 2023-09-03 14:11:48,755 | fl_server.py:112 | fit progress: (20, 0.051040392, {'auc': 0.8521400238094033}, 3917.1601148999907)\n",
      "INFO flwr 2023-09-03 14:11:48,757 | fl_server.py:159 | evaluate_round 20: no clients selected, cancel\n",
      "INFO flwr 2023-09-03 14:11:48,758 | fl_server.py:140 | FL finished in 3917.1628285999905\n",
      "INFO flwr 2023-09-03 14:11:48,759 | app.py:225 | app_fit: losses_distributed []\n",
      "INFO flwr 2023-09-03 14:11:48,760 | app.py:226 | app_fit: metrics_distributed_fit {}\n",
      "INFO flwr 2023-09-03 14:11:48,761 | app.py:227 | app_fit: metrics_distributed {}\n",
      "INFO flwr 2023-09-03 14:11:48,762 | app.py:228 | app_fit: losses_centralized [(0, 0.24590686), (1, 0.15924262), (2, 0.091171585), (3, 0.057507984), (4, 0.052750356), (5, 0.052145496), (6, 0.05219193), (7, 0.051683325), (8, 0.05189841), (9, 0.05199794), (10, 0.051752023), (11, 0.051482633), (12, 0.051171836), (13, 0.051210348), (14, 0.05177536), (15, 0.051685855), (16, 0.05127251), (17, 0.050903156), (18, 0.051757876), (19, 0.050904248), (20, 0.051040392)]\n",
      "INFO flwr 2023-09-03 14:11:48,763 | app.py:229 | app_fit: metrics_centralized {'auc': [(0, 0.6414151219984399), (1, 0.8326340279725231), (2, 0.8430501077321012), (3, 0.8432373719022969), (4, 0.8433882196377219), (5, 0.8510876956898112), (6, 0.8454763504727654), (7, 0.8426788648842356), (8, 0.8479348872009392), (9, 0.8502853944418085), (10, 0.8492633480568511), (11, 0.8513373218915804), (12, 0.8478121753906672), (13, 0.8400083471098457), (14, 0.8438423655232773), (15, 0.8499219869148716), (16, 0.8481488092698399), (17, 0.853297104827548), (18, 0.8490579558032341), (19, 0.8507909774285061), (20, 0.8521400238094033)]}\n"
     ]
    },
    {
     "name": "stdout",
     "output_type": "stream",
     "text": [
      "testset mse 0.051040392369031906 and auc 0.8521400238094033\n",
      "Evaluation on the server: test_mse=0.0510, test_auc=0.8521\n",
      "History (loss, centralized):\n",
      "\tround 0: 0.24590685963630676\n",
      "\tround 1: 0.15924261510372162\n",
      "\tround 2: 0.09117158502340317\n",
      "\tround 3: 0.05750798434019089\n",
      "\tround 4: 0.0527503564953804\n",
      "\tround 5: 0.052145496010780334\n",
      "\tround 6: 0.05219193175435066\n",
      "\tround 7: 0.051683325320482254\n",
      "\tround 8: 0.05189840868115425\n",
      "\tround 9: 0.051997940987348557\n",
      "\tround 10: 0.05175202339887619\n",
      "\tround 11: 0.051482632756233215\n",
      "\tround 12: 0.051171835511922836\n",
      "\tround 13: 0.051210347563028336\n",
      "\tround 14: 0.051775358617305756\n",
      "\tround 15: 0.05168585479259491\n",
      "\tround 16: 0.05127251148223877\n",
      "\tround 17: 0.05090315639972687\n",
      "\tround 18: 0.051757875829935074\n",
      "\tround 19: 0.05090424790978432\n",
      "\tround 20: 0.051040392369031906\n",
      "History (metrics, centralized):\n",
      "{'auc': [(0, 0.6414151219984399), (1, 0.8326340279725231), (2, 0.8430501077321012), (3, 0.8432373719022969), (4, 0.8433882196377219), (5, 0.8510876956898112), (6, 0.8454763504727654), (7, 0.8426788648842356), (8, 0.8479348872009392), (9, 0.8502853944418085), (10, 0.8492633480568511), (11, 0.8513373218915804), (12, 0.8478121753906672), (13, 0.8400083471098457), (14, 0.8438423655232773), (15, 0.8499219869148716), (16, 0.8481488092698399), (17, 0.853297104827548), (18, 0.8490579558032341), (19, 0.8507909774285061), (20, 0.8521400238094033)]}\n",
      "[(0, 0.24590686), (1, 0.15924262), (2, 0.091171585), (3, 0.057507984), (4, 0.052750356), (5, 0.052145496), (6, 0.05219193), (7, 0.051683325), (8, 0.05189841), (9, 0.05199794), (10, 0.051752023), (11, 0.051482633), (12, 0.051171836), (13, 0.051210348), (14, 0.05177536), (15, 0.051685855), (16, 0.05127251), (17, 0.050903156), (18, 0.051757876), (19, 0.050904248), (20, 0.051040392)]\n",
      "Fold 2:\n",
      "[0.6, 0.05, 0.05, 0.05, 0.05, 0.04, 0.04, 0.04, 0.04, 0.04]\n",
      "Training time 1:06:29.239042\n"
     ]
    }
   ],
   "source": [
    "split = [0.6, 0.05, 0.05, 0.05, 0.05, 0.04, 0.04, 0.04, 0.04, 0.04]\n",
    "do_fl(split)"
   ],
   "metadata": {
    "collapsed": false,
    "ExecuteTime": {
     "end_time": "2023-09-03T13:11:48.848368500Z",
     "start_time": "2023-09-03T12:05:19.529770700Z"
    }
   }
  },
  {
   "cell_type": "code",
   "execution_count": 6,
   "outputs": [
    {
     "name": "stderr",
     "output_type": "stream",
     "text": [
      "C:\\Users\\Shuyao\\AppData\\Local\\Temp\\ipykernel_596\\1879151568.py:17: UserWarning: To copy construct from a tensor, it is recommended to use sourceTensor.clone().detach() or sourceTensor.clone().detach().requires_grad_(True), rather than torch.tensor(sourceTensor).\n",
      "  X_train = torch.tensor(X_train)\n",
      "C:\\Users\\Shuyao\\AppData\\Local\\Temp\\ipykernel_596\\1879151568.py:18: UserWarning: To copy construct from a tensor, it is recommended to use sourceTensor.clone().detach() or sourceTensor.clone().detach().requires_grad_(True), rather than torch.tensor(sourceTensor).\n",
      "  X_test = torch.tensor(X_test)\n",
      "C:\\Users\\Shuyao\\AppData\\Local\\Temp\\ipykernel_596\\1879151568.py:19: UserWarning: To copy construct from a tensor, it is recommended to use sourceTensor.clone().detach() or sourceTensor.clone().detach().requires_grad_(True), rather than torch.tensor(sourceTensor).\n",
      "  y_train = torch.reshape(torch.tensor(y_train), (-1, 1))\n",
      "C:\\Users\\Shuyao\\AppData\\Local\\Temp\\ipykernel_596\\1879151568.py:20: UserWarning: To copy construct from a tensor, it is recommended to use sourceTensor.clone().detach() or sourceTensor.clone().detach().requires_grad_(True), rather than torch.tensor(sourceTensor).\n",
      "  y_test = torch.reshape(torch.tensor(y_test), (-1, 1))\n",
      "WARNING flwr 2023-09-03 19:40:03,514 | app.py:210 | Both server and strategy were provided, ignoring strategy\n",
      "INFO flwr 2023-09-03 19:40:03,560 | app.py:145 | Starting Flower simulation, config: ServerConfig(num_rounds=20, round_timeout=None)\n"
     ]
    },
    {
     "name": "stdout",
     "output_type": "stream",
     "text": [
      "Fold 1:\n",
      "here\n",
      "torch.Size([30000, 1])\n",
      "torch.Size([30000, 10])\n",
      "torch.Size([120000, 1])\n",
      "torch.Size([120000, 10])\n",
      "torch.Size([96000, 10])\n",
      "torch.Size([2400, 10])\n",
      "torch.Size([2400, 10])\n",
      "torch.Size([2400, 10])\n",
      "torch.Size([2400, 10])\n",
      "torch.Size([2400, 10])\n",
      "torch.Size([2400, 10])\n",
      "torch.Size([2400, 10])\n",
      "torch.Size([2400, 10])\n",
      "torch.Size([2400, 10])\n",
      "Data partitioned across 10 clients and 0.0 of local dataset reserved for validation.\n",
      "FL experiment configured for 20 rounds with 10 client in the pool.\n",
      "FL round will proceed with 50.0% of clients sampled, at least 2.\n"
     ]
    },
    {
     "name": "stderr",
     "output_type": "stream",
     "text": [
      "\u001B[2m\u001B[36m(launch_and_fit pid=22232)\u001B[0m D:\\FD\\clients\\xgb_client.py:239: UserWarning: To copy construct from a tensor, it is recommended to use sourceTensor.clone().detach() or sourceTensor.clone().detach().requires_grad_(True), rather than torch.tensor(sourceTensor).\u001B[32m [repeated 6x across cluster]\u001B[0m\n",
      "\u001B[2m\u001B[36m(launch_and_fit pid=22232)\u001B[0m   y_test = torch.cat((torch.tensor(y_test), torch.tensor(labels)), dim=0)\u001B[32m [repeated 2x across cluster]\u001B[0m\n",
      "\u001B[2m\u001B[36m(launch_and_fit pid=22232)\u001B[0m   y_pred = torch.cat((torch.tensor(y_pred), torch.tensor(outputs)), dim=0)\u001B[32m [repeated 2x across cluster]\u001B[0m\n"
     ]
    },
    {
     "name": "stdout",
     "output_type": "stream",
     "text": [
      "\u001B[2m\u001B[36m(launch_and_fit pid=22232)\u001B[0m Client 1: training for 2 iterations/updates\u001B[32m [repeated 3x across cluster]\u001B[0m\n"
     ]
    },
    {
     "name": "stderr",
     "output_type": "stream",
     "text": [
      "2023-09-03 19:40:15,699\tINFO worker.py:1636 -- Started a local Ray instance.\n",
      "INFO flwr 2023-09-03 19:40:20,867 | app.py:179 | Flower VCE: Ray initialized with resources: {'CPU': 8.0, 'GPU': 1.0, 'node:127.0.0.1': 1.0, 'object_store_memory': 1060283596.0, 'memory': 2120567195.0}\n",
      "INFO flwr 2023-09-03 19:40:20,869 | fl_server.py:78 | fit num_rounds 20\n",
      "INFO flwr 2023-09-03 19:40:20,871 | fl_server.py:81 | Initializing global parameters\n",
      "INFO flwr 2023-09-03 19:40:20,873 | fl_server.py:287 | Requesting initial parameters from one random client\n",
      "\u001B[2m\u001B[33m(raylet)\u001B[0m --- Logging error ---\n",
      "\u001B[2m\u001B[33m(raylet)\u001B[0m Traceback (most recent call last):\n",
      "\u001B[2m\u001B[33m(raylet)\u001B[0m   File \"D:\\FD\\venv\\lib\\site-packages\\ray\\dashboard\\agent.py\", line 299, in run\n",
      "\u001B[2m\u001B[33m(raylet)\u001B[0m     self.http_server = await self._configure_http_server(modules)\n",
      "\u001B[2m\u001B[33m(raylet)\u001B[0m   File \"D:\\FD\\venv\\lib\\site-packages\\ray\\dashboard\\agent.py\", line 162, in _configure_http_server\n",
      "\u001B[2m\u001B[33m(raylet)\u001B[0m     await http_server.start(modules)\n",
      "\u001B[2m\u001B[33m(raylet)\u001B[0m   File \"D:\\FD\\venv\\lib\\site-packages\\ray\\dashboard\\http_server_agent.py\", line 69, in start\n",
      "\u001B[2m\u001B[33m(raylet)\u001B[0m     raise e\n",
      "\u001B[2m\u001B[33m(raylet)\u001B[0m   File \"D:\\FD\\venv\\lib\\site-packages\\ray\\dashboard\\http_server_agent.py\", line 62, in start\n",
      "\u001B[2m\u001B[33m(raylet)\u001B[0m     await site.start()\n",
      "\u001B[2m\u001B[33m(raylet)\u001B[0m   File \"D:\\FD\\venv\\lib\\site-packages\\aiohttp\\web_runner.py\", line 121, in start\n",
      "\u001B[2m\u001B[33m(raylet)\u001B[0m     self._server = await loop.create_server(\n",
      "\u001B[2m\u001B[33m(raylet)\u001B[0m   File \"C:\\Program Files\\WindowsApps\\PythonSoftwareFoundation.Python.3.10_3.10.3056.0_x64__qbz5n2kfra8p0\\lib\\asyncio\\base_events.py\", line 1519, in create_server\n",
      "\u001B[2m\u001B[33m(raylet)\u001B[0m     raise OSError(err.errno, 'error while attempting '\n",
      "\u001B[2m\u001B[33m(raylet)\u001B[0m OSError: [Errno 10048] error while attempting to bind on address ('127.0.0.1', 52365): \\u901a\\u5e38\\u6bcf\\u4e2a\\u5957\\u63a5\\u5b57\\u5730\\u5740(\\u534f\\u8bae/\\u7f51\\u7edc\\u5730\\u5740/\\u7aef\\u53e3)\\u53ea\\u5141\\u8bb8\\u4f7f\\u7528\\u4e00\\u6b21\\u3002\n",
      "\u001B[2m\u001B[33m(raylet)\u001B[0m \n",
      "\u001B[2m\u001B[33m(raylet)\u001B[0m During handling of the above exception, another exception occurred:\n",
      "\u001B[2m\u001B[33m(raylet)\u001B[0m \n",
      "\u001B[2m\u001B[33m(raylet)\u001B[0m Traceback (most recent call last):\n",
      "\u001B[2m\u001B[33m(raylet)\u001B[0m   File \"C:\\Program Files\\WindowsApps\\PythonSoftwareFoundation.Python.3.10_3.10.3056.0_x64__qbz5n2kfra8p0\\lib\\logging\\__init__.py\", line 1103, in emit\n",
      "\u001B[2m\u001B[33m(raylet)\u001B[0m     stream.write(msg + self.terminator)\n",
      "\u001B[2m\u001B[33m(raylet)\u001B[0m   File \"C:\\Program Files\\WindowsApps\\PythonSoftwareFoundation.Python.3.10_3.10.3056.0_x64__qbz5n2kfra8p0\\lib\\encodings\\cp1252.py\", line 19, in encode\n",
      "\u001B[2m\u001B[33m(raylet)\u001B[0m     return codecs.charmap_encode(input,self.errors,encoding_table)[0]\n",
      "\u001B[2m\u001B[33m(raylet)\u001B[0m UnicodeEncodeError: 'charmap' codec can't encode characters in position 1104-1112: character maps to <undefined>\n",
      "\u001B[2m\u001B[33m(raylet)\u001B[0m Call stack:\n",
      "\u001B[2m\u001B[33m(raylet)\u001B[0m   File \"D:\\FD\\venv\\lib\\site-packages\\ray\\dashboard\\agent.py\", line 544, in <module>\n",
      "\u001B[2m\u001B[33m(raylet)\u001B[0m     loop.run_until_complete(agent.run())\n",
      "\u001B[2m\u001B[33m(raylet)\u001B[0m   File \"C:\\Program Files\\WindowsApps\\PythonSoftwareFoundation.Python.3.10_3.10.3056.0_x64__qbz5n2kfra8p0\\lib\\asyncio\\base_events.py\", line 636, in run_until_complete\n",
      "\u001B[2m\u001B[33m(raylet)\u001B[0m     self.run_forever()\n",
      "\u001B[2m\u001B[33m(raylet)\u001B[0m   File \"C:\\Program Files\\WindowsApps\\PythonSoftwareFoundation.Python.3.10_3.10.3056.0_x64__qbz5n2kfra8p0\\lib\\asyncio\\windows_events.py\", line 321, in run_forever\n",
      "\u001B[2m\u001B[33m(raylet)\u001B[0m     super().run_forever()\n",
      "\u001B[2m\u001B[33m(raylet)\u001B[0m   File \"C:\\Program Files\\WindowsApps\\PythonSoftwareFoundation.Python.3.10_3.10.3056.0_x64__qbz5n2kfra8p0\\lib\\asyncio\\base_events.py\", line 603, in run_forever\n",
      "\u001B[2m\u001B[33m(raylet)\u001B[0m     self._run_once()\n",
      "\u001B[2m\u001B[33m(raylet)\u001B[0m   File \"C:\\Program Files\\WindowsApps\\PythonSoftwareFoundation.Python.3.10_3.10.3056.0_x64__qbz5n2kfra8p0\\lib\\asyncio\\base_events.py\", line 1909, in _run_once\n",
      "\u001B[2m\u001B[33m(raylet)\u001B[0m     handle._run()\n",
      "\u001B[2m\u001B[33m(raylet)\u001B[0m   File \"C:\\Program Files\\WindowsApps\\PythonSoftwareFoundation.Python.3.10_3.10.3056.0_x64__qbz5n2kfra8p0\\lib\\asyncio\\events.py\", line 80, in _run\n",
      "\u001B[2m\u001B[33m(raylet)\u001B[0m     self._context.run(self._callback, *self._args)\n",
      "\u001B[2m\u001B[33m(raylet)\u001B[0m   File \"D:\\FD\\venv\\lib\\site-packages\\ray\\dashboard\\agent.py\", line 304, in run\n",
      "\u001B[2m\u001B[33m(raylet)\u001B[0m     logger.exception(\n",
      "\u001B[2m\u001B[33m(raylet)\u001B[0m Message: 'Failed to start http server. Agent will stay alive but disable the http service.'\n",
      "\u001B[2m\u001B[33m(raylet)\u001B[0m Arguments: ()\n",
      "\u001B[2m\u001B[36m(launch_and_get_parameters pid=27052)\u001B[0m Windows fatal exception: code 0xc0000139\n",
      "\u001B[2m\u001B[36m(launch_and_get_parameters pid=27052)\u001B[0m \n",
      "\u001B[2m\u001B[36m(launch_and_get_parameters pid=27052)\u001B[0m Stack (most recent call first):\n",
      "\u001B[2m\u001B[36m(launch_and_get_parameters pid=27052)\u001B[0m   File \"C:\\Program Files\\WindowsApps\\PythonSoftwareFoundation.Python.3.10_3.10.3056.0_x64__qbz5n2kfra8p0\\lib\\ctypes\\__init__.py\", line 374 in __init__\n",
      "\u001B[2m\u001B[36m(launch_and_get_parameters pid=27052)\u001B[0m   File \"D:\\FD\\venv\\lib\\site-packages\\torch\\_ops.py\", line 573 in load_library\n",
      "\u001B[2m\u001B[36m(launch_and_get_parameters pid=27052)\u001B[0m   File \"D:\\FD\\venv\\lib\\site-packages\\torchvision\\extension.py\", line 36 in <module>\n",
      "\u001B[2m\u001B[36m(launch_and_get_parameters pid=27052)\u001B[0m   File \"<frozen importlib._bootstrap>\", line 241 in _call_with_frames_removed\n",
      "\u001B[2m\u001B[36m(launch_and_get_parameters pid=27052)\u001B[0m   File \"<frozen importlib._bootstrap_external>\", line 883 in exec_module\n",
      "\u001B[2m\u001B[36m(launch_and_get_parameters pid=27052)\u001B[0m   File \"<frozen importlib._bootstrap>\", line 688 in _load_unlocked\n",
      "\u001B[2m\u001B[36m(launch_and_get_parameters pid=27052)\u001B[0m   File \"<frozen importlib._bootstrap>\", line 1006 in _find_and_load_unlocked\n",
      "\u001B[2m\u001B[36m(launch_and_get_parameters pid=27052)\u001B[0m   File \"<frozen importlib._bootstrap>\", line 1027 in _find_and_load\n",
      "\u001B[2m\u001B[36m(launch_and_get_parameters pid=27052)\u001B[0m   File \"D:\\FD\\venv\\lib\\site-packages\\torchvision\\io\\_load_gpu_decoder.py\", line 1 in <module>\n",
      "\u001B[2m\u001B[36m(launch_and_get_parameters pid=27052)\u001B[0m   File \"<frozen importlib._bootstrap>\", line 241 in _call_with_frames_removed\n",
      "\u001B[2m\u001B[36m(launch_and_get_parameters pid=27052)\u001B[0m   File \"<frozen importlib._bootstrap_external>\", line 883 in exec_module\n",
      "\u001B[2m\u001B[36m(launch_and_get_parameters pid=27052)\u001B[0m   File \"<frozen importlib._bootstrap>\", line 688 in _load_unlocked\n",
      "\u001B[2m\u001B[36m(launch_and_get_parameters pid=27052)\u001B[0m   File \"<frozen importlib._bootstrap>\", line 1006 in _find_and_load_unlocked\n",
      "\u001B[2m\u001B[36m(launch_and_get_parameters pid=27052)\u001B[0m   File \"<frozen importlib._bootstrap>\", line 1027 in _find_and_load\n",
      "\u001B[2m\u001B[36m(launch_and_get_parameters pid=27052)\u001B[0m   File \"D:\\FD\\venv\\lib\\site-packages\\torchvision\\io\\__init__.py\", line 8 in <module>\n",
      "\u001B[2m\u001B[36m(launch_and_get_parameters pid=27052)\u001B[0m   File \"<frozen importlib._bootstrap>\", line 241 in _call_with_frames_removed\n",
      "\u001B[2m\u001B[36m(launch_and_get_parameters pid=27052)\u001B[0m   File \"<frozen importlib._bootstrap_external>\", line 883 in exec_module\n",
      "\u001B[2m\u001B[36m(launch_and_get_parameters pid=27052)\u001B[0m   File \"<frozen importlib._bootstrap>\", line 688 in _load_unlocked\n",
      "\u001B[2m\u001B[36m(launch_and_get_parameters pid=27052)\u001B[0m   File \"<frozen importlib._bootstrap>\", line 1006 in _find_and_load_unlocked\n",
      "\u001B[2m\u001B[36m(launch_and_get_parameters pid=27052)\u001B[0m   File \"<frozen importlib._bootstrap>\", line 1027 in _find_and_load\n",
      "\u001B[2m\u001B[36m(launch_and_get_parameters pid=27052)\u001B[0m   File \"<frozen importlib._bootstrap>\", line 241 in _call_with_frames_removed\n",
      "\u001B[2m\u001B[36m(launch_and_get_parameters pid=27052)\u001B[0m   File \"<frozen importlib._bootstrap>\", line 992 in _find_and_load_unlocked\n",
      "\u001B[2m\u001B[36m(launch_and_get_parameters pid=27052)\u001B[0m   File \"<frozen importlib._bootstrap>\", line 1027 in _find_and_load\n",
      "\u001B[2m\u001B[36m(launch_and_get_parameters pid=27052)\u001B[0m   File \"D:\\FD\\venv\\lib\\site-packages\\torchvision\\datasets\\_optical_flow.py\", line 12 in <module>\n",
      "\u001B[2m\u001B[36m(launch_and_get_parameters pid=27052)\u001B[0m   File \"<frozen importlib._bootstrap>\", line 241 in _call_with_frames_removed\n",
      "\u001B[2m\u001B[36m(launch_and_get_parameters pid=27052)\u001B[0m   File \"<frozen importlib._bootstrap_external>\", line 883 in exec_module\n",
      "\u001B[2m\u001B[36m(launch_and_get_parameters pid=27052)\u001B[0m   File \"<frozen importlib._bootstrap>\", line 688 in _load_unlocked\n",
      "\u001B[2m\u001B[36m(launch_and_get_parameters pid=27052)\u001B[0m   File \"<frozen importlib._bootstrap>\", line 1006 in _find_and_load_unlocked\n",
      "\u001B[2m\u001B[36m(launch_and_get_parameters pid=27052)\u001B[0m   File \"<frozen importlib._bootstrap>\", line 1027 in _find_and_load\n",
      "\u001B[2m\u001B[36m(launch_and_get_parameters pid=27052)\u001B[0m   File \"D:\\FD\\venv\\lib\\site-packages\\torchvision\\datasets\\__init__.py\", line 1 in <module>\n",
      "\u001B[2m\u001B[36m(launch_and_get_parameters pid=27052)\u001B[0m   File \"<frozen importlib._bootstrap>\", line 241 in _call_with_frames_removed\n",
      "\u001B[2m\u001B[36m(launch_and_get_parameters pid=27052)\u001B[0m   File \"<frozen importlib._bootstrap_external>\", line 883 in exec_module\n",
      "\u001B[2m\u001B[36m(launch_and_get_parameters pid=27052)\u001B[0m   File \"<frozen importlib._bootstrap>\", line 688 in _load_unlocked\n",
      "\u001B[2m\u001B[36m(launch_and_get_parameters pid=27052)\u001B[0m   File \"<frozen importlib._bootstrap>\", line 1006 in _find_and_load_unlocked\n",
      "\u001B[2m\u001B[36m(launch_and_get_parameters pid=27052)\u001B[0m   File \"<frozen importlib._bootstrap>\", line 1027 in _find_and_load\n",
      "\u001B[2m\u001B[36m(launch_and_get_parameters pid=27052)\u001B[0m   File \"<frozen importlib._bootstrap>\", line 241 in _call_with_frames_removed\n",
      "\u001B[2m\u001B[36m(launch_and_get_parameters pid=27052)\u001B[0m   File \"<frozen importlib._bootstrap>\", line 1078 in _handle_fromlist\n",
      "\u001B[2m\u001B[36m(launch_and_get_parameters pid=27052)\u001B[0m   File \"D:\\FD\\venv\\lib\\site-packages\\torchvision\\__init__.py\", line 6 in <module>\n",
      "\u001B[2m\u001B[36m(launch_and_get_parameters pid=27052)\u001B[0m   File \"<frozen importlib._bootstrap>\", line 241 in _call_with_frames_removed\n",
      "\u001B[2m\u001B[36m(launch_and_get_parameters pid=27052)\u001B[0m   File \"<frozen importlib._bootstrap_external>\", line 883 in exec_module\n",
      "\u001B[2m\u001B[36m(launch_and_get_parameters pid=27052)\u001B[0m   File \"<frozen importlib._bootstrap>\", line 688 in _load_unlocked\n",
      "\u001B[2m\u001B[36m(launch_and_get_parameters pid=27052)\u001B[0m   File \"<frozen importlib._bootstrap>\", line 1006 in _find_and_load_unlocked\n",
      "\u001B[2m\u001B[36m(launch_and_get_parameters pid=27052)\u001B[0m   File \"<frozen importlib._bootstrap>\", line 1027 in _find_and_load\n",
      "\u001B[2m\u001B[36m(launch_and_get_parameters pid=27052)\u001B[0m   File \"<frozen importlib._bootstrap>\", line 1050 in _gcd_import\n",
      "\u001B[2m\u001B[36m(launch_and_get_parameters pid=27052)\u001B[0m   File \"C:\\Program Files\\WindowsApps\\PythonSoftwareFoundation.Python.3.10_3.10.3056.0_x64__qbz5n2kfra8p0\\lib\\importlib\\__init__.py\", line 126 in import_module\n",
      "\u001B[2m\u001B[36m(launch_and_get_parameters pid=27052)\u001B[0m   File \"D:\\FD\\venv\\lib\\site-packages\\lightning_utilities\\core\\imports.py\", line 73 in compare_version\n",
      "\u001B[2m\u001B[36m(launch_and_get_parameters pid=27052)\u001B[0m   File \"D:\\FD\\venv\\lib\\site-packages\\torchmetrics\\utilities\\imports.py\", line 41 in <module>\n",
      "\u001B[2m\u001B[36m(launch_and_get_parameters pid=27052)\u001B[0m   File \"<frozen importlib._bootstrap>\", line 241 in _call_with_frames_removed\n",
      "\u001B[2m\u001B[36m(launch_and_get_parameters pid=27052)\u001B[0m   File \"<frozen importlib._bootstrap_external>\", line 883 in exec_module\n",
      "\u001B[2m\u001B[36m(launch_and_get_parameters pid=27052)\u001B[0m   File \"<frozen importlib._bootstrap>\", line 688 in _load_unlocked\n",
      "\u001B[2m\u001B[36m(launch_and_get_parameters pid=27052)\u001B[0m   File \"<frozen importlib._bootstrap>\", line 1006 in _find_and_load_unlocked\n",
      "\u001B[2m\u001B[36m(launch_and_get_parameters pid=27052)\u001B[0m   File \"<frozen importlib._bootstrap>\", line 1027 in _find_and_load\n",
      "\u001B[2m\u001B[36m(launch_and_get_parameters pid=27052)\u001B[0m   File \"D:\\FD\\venv\\lib\\site-packages\\torchmetrics\\utilities\\data.py\", line 22 in <module>\n",
      "\u001B[2m\u001B[36m(launch_and_get_parameters pid=27052)\u001B[0m   File \"<frozen importlib._bootstrap>\", line 241 in _call_with_frames_removed\n",
      "\u001B[2m\u001B[36m(launch_and_get_parameters pid=27052)\u001B[0m   File \"<frozen importlib._bootstrap_external>\", line 883 in exec_module\n",
      "\u001B[2m\u001B[36m(launch_and_get_parameters pid=27052)\u001B[0m   File \"<frozen importlib._bootstrap>\", line 688 in _load_unlocked\n",
      "\u001B[2m\u001B[36m(launch_and_get_parameters pid=27052)\u001B[0m   File \"<frozen importlib._bootstrap>\", line 1006 in _find_and_load_unlocked\n",
      "\u001B[2m\u001B[36m(launch_and_get_parameters pid=27052)\u001B[0m   File \"<frozen importlib._bootstrap>\", line 1027 in _find_and_load\n",
      "\u001B[2m\u001B[36m(launch_and_get_parameters pid=27052)\u001B[0m   File \"D:\\FD\\venv\\lib\\site-packages\\torchmetrics\\metric.py\", line 30 in <module>\n",
      "\u001B[2m\u001B[36m(launch_and_get_parameters pid=27052)\u001B[0m   File \"<frozen importlib._bootstrap>\", line 241 in _call_with_frames_removed\n",
      "\u001B[2m\u001B[36m(launch_and_get_parameters pid=27052)\u001B[0m   File \"<frozen importlib._bootstrap_external>\", line 883 in exec_module\n",
      "\u001B[2m\u001B[36m(launch_and_get_parameters pid=27052)\u001B[0m   File \"<frozen importlib._bootstrap>\", line 688 in _load_unlocked\n",
      "\u001B[2m\u001B[36m(launch_and_get_parameters pid=27052)\u001B[0m   File \"<frozen importlib._bootstrap>\", line 1006 in _find_and_load_unlocked\n",
      "\u001B[2m\u001B[36m(launch_and_get_parameters pid=27052)\u001B[0m   File \"<frozen importlib._bootstrap>\", line 1027 in _find_and_load\n",
      "\u001B[2m\u001B[36m(launch_and_get_parameters pid=27052)\u001B[0m   File \"D:\\FD\\venv\\lib\\site-packages\\torchmetrics\\utilities\\checks.py\", line 25 in <module>\n",
      "\u001B[2m\u001B[36m(launch_and_get_parameters pid=27052)\u001B[0m   File \"<frozen importlib._bootstrap>\", line 241 in _call_with_frames_removed\n",
      "\u001B[2m\u001B[36m(launch_and_get_parameters pid=27052)\u001B[0m   File \"<frozen importlib._bootstrap_external>\", line 883 in exec_module\n",
      "\u001B[2m\u001B[36m(launch_and_get_parameters pid=27052)\u001B[0m   File \"<frozen importlib._bootstrap>\", line 688 in _load_unlocked\n",
      "\u001B[2m\u001B[36m(launch_and_get_parameters pid=27052)\u001B[0m   File \"<frozen importlib._bootstrap>\", line 1006 in _find_and_load_unlocked\n",
      "\u001B[2m\u001B[36m(launch_and_get_parameters pid=27052)\u001B[0m   File \"<frozen importlib._bootstrap>\", line 1027 in _find_and_load\n",
      "\u001B[2m\u001B[36m(launch_and_get_parameters pid=27052)\u001B[0m   File \"D:\\FD\\venv\\lib\\site-packages\\torchmetrics\\utilities\\__init__.py\", line 14 in <module>\n",
      "\u001B[2m\u001B[36m(launch_and_get_parameters pid=27052)\u001B[0m   File \"<frozen importlib._bootstrap>\", line 241 in _call_with_frames_removed\n",
      "\u001B[2m\u001B[36m(launch_and_get_parameters pid=27052)\u001B[0m   File \"<frozen importlib._bootstrap_external>\", line 883 in exec_module\n",
      "\u001B[2m\u001B[36m(launch_and_get_parameters pid=27052)\u001B[0m   File \"<frozen importlib._bootstrap>\", line 688 in _load_unlocked\n",
      "\u001B[2m\u001B[36m(launch_and_get_parameters pid=27052)\u001B[0m   File \"<frozen importlib._bootstrap>\", line 1006 in _find_and_load_unlocked\n",
      "\u001B[2m\u001B[36m(launch_and_get_parameters pid=27052)\u001B[0m   File \"<frozen importlib._bootstrap>\", line 1027 in _find_and_load\n",
      "\u001B[2m\u001B[36m(launch_and_get_parameters pid=27052)\u001B[0m   File \"D:\\FD\\venv\\lib\\site-packages\\torchmetrics\\functional\\audio\\pit.py\", line 23 in <module>\n",
      "\u001B[2m\u001B[36m(launch_and_get_parameters pid=27052)\u001B[0m   File \"<frozen importlib._bootstrap>\", line 241 in _call_with_frames_removed\n",
      "\u001B[2m\u001B[36m(launch_and_get_parameters pid=27052)\u001B[0m   File \"<frozen importlib._bootstrap_external>\", line 883 in exec_module\n",
      "\u001B[2m\u001B[36m(launch_and_get_parameters pid=27052)\u001B[0m   File \"<frozen importlib._bootstrap>\", line 688 in _load_unlocked\n",
      "\u001B[2m\u001B[36m(launch_and_get_parameters pid=27052)\u001B[0m   File \"<frozen importlib._bootstrap>\", line 1006 in _find_and_load_unlocked\n",
      "\u001B[2m\u001B[36m(launch_and_get_parameters pid=27052)\u001B[0m   File \"<frozen importlib._bootstrap>\", line 1027 in _find_and_load\n",
      "\u001B[2m\u001B[36m(launch_and_get_parameters pid=27052)\u001B[0m   File \"D:\\FD\\venv\\lib\\site-packages\\torchmetrics\\functional\\audio\\__init__.py\", line 14 in <module>\n",
      "\u001B[2m\u001B[36m(launch_and_get_parameters pid=27052)\u001B[0m   File \"<frozen importlib._bootstrap>\", line 241 in _call_with_frames_removed\n",
      "\u001B[2m\u001B[36m(launch_and_get_parameters pid=27052)\u001B[0m   File \"<frozen importlib._bootstrap_external>\", line 883 in exec_module\n",
      "\u001B[2m\u001B[36m(launch_and_get_parameters pid=27052)\u001B[0m   File \"<frozen importlib._bootstrap>\", line 688 in _load_unlocked\n",
      "\u001B[2m\u001B[36m(launch_and_get_parameters pid=27052)\u001B[0m   File \"<frozen importlib._bootstrap>\", line 1006 in _find_and_load_unlocked\n",
      "\u001B[2m\u001B[36m(launch_and_get_parameters pid=27052)\u001B[0m   File \"<frozen importlib._bootstrap>\", line 1027 in _find_and_load\n",
      "\u001B[2m\u001B[36m(launch_and_get_parameters pid=27052)\u001B[0m   File \"<frozen importlib._bootstrap>\", line 241 in _call_with_frames_removed\n",
      "\u001B[2m\u001B[36m(launch_and_get_parameters pid=27052)\u001B[0m   File \"<frozen importlib._bootstrap>\", line 992 in _find_and_load_unlocked\n",
      "\u001B[2m\u001B[36m(launch_and_get_parameters pid=27052)\u001B[0m   File \"<frozen importlib._bootstrap>\", line 1027 in _find_and_load\n",
      "\u001B[2m\u001B[36m(launch_and_get_parameters pid=27052)\u001B[0m   File \"D:\\FD\\venv\\lib\\site-packages\\torchmetrics\\functional\\__init__.py\", line 14 in <module>\n",
      "\u001B[2m\u001B[36m(launch_and_get_parameters pid=27052)\u001B[0m   File \"<frozen importlib._bootstrap>\", line 241 in _call_with_frames_removed\n",
      "\u001B[2m\u001B[36m(launch_and_get_parameters pid=27052)\u001B[0m   File \"<frozen importlib._bootstrap_external>\", line 883 in exec_module\n",
      "\u001B[2m\u001B[36m(launch_and_get_parameters pid=27052)\u001B[0m   File \"<frozen importlib._bootstrap>\", line 688 in _load_unlocked\n",
      "\u001B[2m\u001B[36m(launch_and_get_parameters pid=27052)\u001B[0m   File \"<frozen importlib._bootstrap>\", line 1006 in _find_and_load_unlocked\n",
      "\u001B[2m\u001B[36m(launch_and_get_parameters pid=27052)\u001B[0m   File \"<frozen importlib._bootstrap>\", line 1027 in _find_and_load\n",
      "\u001B[2m\u001B[36m(launch_and_get_parameters pid=27052)\u001B[0m   File \"<frozen importlib._bootstrap>\", line 241 in _call_with_frames_removed\n",
      "\u001B[2m\u001B[36m(launch_and_get_parameters pid=27052)\u001B[0m   File \"<frozen importlib._bootstrap>\", line 1078 in _handle_fromlist\n",
      "\u001B[2m\u001B[36m(launch_and_get_parameters pid=27052)\u001B[0m   File \"D:\\FD\\venv\\lib\\site-packages\\torchmetrics\\__init__.py\", line 14 in <module>\n",
      "\u001B[2m\u001B[36m(launch_and_get_parameters pid=27052)\u001B[0m   ...\n",
      "\u001B[2m\u001B[36m(launch_and_get_parameters pid=27052)\u001B[0m Windows fatal exception: code 0xc0000139\n",
      "\u001B[2m\u001B[36m(launch_and_get_parameters pid=27052)\u001B[0m \n",
      "\u001B[2m\u001B[36m(launch_and_get_parameters pid=27052)\u001B[0m D:\\FD\\venv\\lib\\site-packages\\torchvision\\io\\image.py:13: UserWarning: Failed to load image Python extension: '[WinError 127] 找不到指定的程序。'If you don't plan on using image functionality from `torchvision.io`, you can ignore this warning. Otherwise, there might be something wrong with your environment. Did you have `libjpeg` or `libpng` installed before building `torchvision` from source?\n",
      "\u001B[2m\u001B[36m(launch_and_get_parameters pid=27052)\u001B[0m   warn(\n"
     ]
    },
    {
     "name": "stdout",
     "output_type": "stream",
     "text": [
      "\u001B[2m\u001B[36m(launch_and_get_parameters pid=27052)\u001B[0m binary client\n"
     ]
    },
    {
     "name": "stderr",
     "output_type": "stream",
     "text": [
      "INFO flwr 2023-09-03 19:40:34,056 | fl_server.py:292 | Received initial parameters from one random client\n",
      "INFO flwr 2023-09-03 19:40:34,057 | fl_server.py:84 | Evaluating initial parameters\n"
     ]
    },
    {
     "name": "stdout",
     "output_type": "stream",
     "text": [
      "serverside task_type binary\n"
     ]
    },
    {
     "name": "stderr",
     "output_type": "stream",
     "text": [
      "INFO flwr 2023-09-03 19:41:22,124 | fl_server.py:87 | initial parameters (loss, other metrics): 0.22171843, {'auc': 0.7326713864265602}\n",
      "INFO flwr 2023-09-03 19:41:22,125 | fl_server.py:97 | FL starting\n",
      "DEBUG flwr 2023-09-03 19:41:22,126 | fl_server.py:226 | fit_round 1: strategy sampled 5 clients (out of 10)\n"
     ]
    },
    {
     "name": "stdout",
     "output_type": "stream",
     "text": [
      "testset mse 0.221718430519104 and auc 0.7326713864265602\n",
      "Evaluation on the server: test_mse=0.2217, test_auc=0.7327\n",
      "Configuring round 1\n",
      "\u001B[2m\u001B[36m(launch_and_fit pid=27052)\u001B[0m binary client\n",
      "\u001B[2m\u001B[36m(launch_and_fit pid=27052)\u001B[0m Client 1 aggregated_trees length 2\n",
      "\u001B[2m\u001B[36m(launch_and_fit pid=27052)\u001B[0m Client 1: only had its own tree\n"
     ]
    },
    {
     "name": "stderr",
     "output_type": "stream",
     "text": [
      "\u001B[2m\u001B[36m(launch_and_fit pid=5360)\u001B[0m Windows fatal exception: code 0xc0000139\u001B[32m [repeated 2x across cluster]\u001B[0m\n",
      "\u001B[2m\u001B[36m(launch_and_fit pid=5360)\u001B[0m \u001B[32m [repeated 2x across cluster]\u001B[0m\n",
      "\u001B[2m\u001B[36m(launch_and_fit pid=5360)\u001B[0m   warn(\n",
      "\u001B[2m\u001B[36m(launch_and_fit pid=5360)\u001B[0m   warn(\n",
      "\u001B[2m\u001B[36m(launch_and_fit pid=5360)\u001B[0m   warn(\n",
      "\u001B[2m\u001B[36m(launch_and_fit pid=5360)\u001B[0m   warn(\n",
      "\u001B[2m\u001B[36m(launch_and_fit pid=5360)\u001B[0m   File \"<frozen importlib._bootstrap>\", line 241 in _call_with_frames_removed\u001B[32m [repeated 18x across cluster]\u001B[0m\n",
      "\u001B[2m\u001B[36m(launch_and_fit pid=5360)\u001B[0m   File \"<frozen importlib._bootstrap_external>\", line 883 in exec_module\u001B[32m [repeated 14x across cluster]\u001B[0m\n",
      "\u001B[2m\u001B[36m(launch_and_fit pid=5360)\u001B[0m   File \"<frozen importlib._bootstrap>\", line 688 in _load_unlocked\u001B[32m [repeated 14x across cluster]\u001B[0m\n",
      "\u001B[2m\u001B[36m(launch_and_fit pid=5360)\u001B[0m   File \"<frozen importlib._bootstrap>\", line 1006 in _find_and_load_unlocked\u001B[32m [repeated 16x across cluster]\u001B[0m\n",
      "\u001B[2m\u001B[36m(launch_and_fit pid=5360)\u001B[0m   File \"<frozen importlib._bootstrap>\", line 1027 in _find_and_load\u001B[32m [repeated 16x across cluster]\u001B[0m\n",
      "\u001B[2m\u001B[36m(launch_and_fit pid=5360)\u001B[0m   warn(\n",
      "\u001B[2m\u001B[36m(launch_and_fit pid=5360)\u001B[0m   warn(\n",
      "\u001B[2m\u001B[36m(launch_and_fit pid=5360)\u001B[0m   warn(\n",
      "\u001B[2m\u001B[36m(launch_and_fit pid=5360)\u001B[0m   warn(\n",
      "\u001B[2m\u001B[36m(launch_and_fit pid=5360)\u001B[0m   File \"<frozen importlib._bootstrap>\", line 1078 in _handle_fromlist\u001B[32m [repeated 2x across cluster]\u001B[0m\n",
      "\u001B[2m\u001B[36m(launch_and_fit pid=5360)\u001B[0m   warn(\n",
      "\u001B[2m\u001B[36m(launch_and_fit pid=5360)\u001B[0m   warn(\n",
      "\u001B[2m\u001B[36m(launch_and_fit pid=5360)\u001B[0m   warn(\n",
      "\u001B[2m\u001B[36m(launch_and_fit pid=5360)\u001B[0m   warn(\n",
      "\u001B[2m\u001B[36m(launch_and_fit pid=5360)\u001B[0m   warn(\n",
      "\u001B[2m\u001B[36m(launch_and_fit pid=5360)\u001B[0m   warn(\n",
      "\u001B[2m\u001B[36m(launch_and_fit pid=5360)\u001B[0m   warn(\n",
      "\u001B[2m\u001B[36m(launch_and_fit pid=5360)\u001B[0m   warn(\n",
      "\u001B[2m\u001B[36m(launch_and_fit pid=5360)\u001B[0m   warn(\n",
      "\u001B[2m\u001B[36m(launch_and_fit pid=5360)\u001B[0m   warn(\n",
      "\u001B[2m\u001B[36m(launch_and_fit pid=5360)\u001B[0m   warn(\n",
      "\u001B[2m\u001B[36m(launch_and_fit pid=5360)\u001B[0m   warn(\n",
      "\u001B[2m\u001B[36m(launch_and_fit pid=5360)\u001B[0m   warn(\n",
      "\u001B[2m\u001B[36m(launch_and_fit pid=5360)\u001B[0m   warn(\n",
      "\u001B[2m\u001B[36m(launch_and_fit pid=5360)\u001B[0m   warn(\n",
      "\u001B[2m\u001B[36m(launch_and_fit pid=5360)\u001B[0m   warn(\n",
      "\u001B[2m\u001B[36m(launch_and_fit pid=15232)\u001B[0m Stack (most recent call first):\n",
      "\u001B[2m\u001B[36m(launch_and_fit pid=15232)\u001B[0m   File \"C:\\Program Files\\WindowsApps\\PythonSoftwareFoundation.Python.3.10_3.10.3056.0_x64__qbz5n2kfra8p0\\lib\\ctypes\\__init__.py\", line 374 in __init__\n",
      "\u001B[2m\u001B[36m(launch_and_fit pid=15232)\u001B[0m   File \"D:\\FD\\venv\\lib\\site-packages\\torch\\_ops.py\", line 573 in load_library\n",
      "\u001B[2m\u001B[36m(launch_and_fit pid=15232)\u001B[0m   File \"D:\\FD\\venv\\lib\\site-packages\\torchvision\\extension.py\", line 36 in <module>\n",
      "\u001B[2m\u001B[36m(launch_and_fit pid=15232)\u001B[0m   File \"D:\\FD\\venv\\lib\\site-packages\\torchvision\\io\\_load_gpu_decoder.py\", line 1 in <module>\n",
      "\u001B[2m\u001B[36m(launch_and_fit pid=15232)\u001B[0m   File \"D:\\FD\\venv\\lib\\site-packages\\torchvision\\io\\__init__.py\", line 8 in <module>\n",
      "\u001B[2m\u001B[36m(launch_and_fit pid=15232)\u001B[0m   File \"D:\\FD\\venv\\lib\\site-packages\\torchvision\\datasets\\_optical_flow.py\", line 12 in <module>\n",
      "\u001B[2m\u001B[36m(launch_and_fit pid=15232)\u001B[0m   File \"D:\\FD\\venv\\lib\\site-packages\\torchvision\\datasets\\__init__.py\", line 1 in <module>\n",
      "\u001B[2m\u001B[36m(launch_and_fit pid=15232)\u001B[0m   File \"D:\\FD\\venv\\lib\\site-packages\\torchvision\\__init__.py\", line 6 in <module>\n",
      "\u001B[2m\u001B[36m(launch_and_fit pid=15232)\u001B[0m   File \"<frozen importlib._bootstrap>\", line 1050 in _gcd_import\n",
      "\u001B[2m\u001B[36m(launch_and_fit pid=15232)\u001B[0m   File \"C:\\Program Files\\WindowsApps\\PythonSoftwareFoundation.Python.3.10_3.10.3056.0_x64__qbz5n2kfra8p0\\lib\\importlib\\__init__.py\", line 126 in import_module\n",
      "\u001B[2m\u001B[36m(launch_and_fit pid=15232)\u001B[0m   File \"D:\\FD\\venv\\lib\\site-packages\\lightning_utilities\\core\\imports.py\", line 73 in compare_version\n",
      "\u001B[2m\u001B[36m(launch_and_fit pid=15232)\u001B[0m   File \"D:\\FD\\venv\\lib\\site-packages\\torchmetrics\\utilities\\imports.py\", line 41 in <module>\n",
      "\u001B[2m\u001B[36m(launch_and_fit pid=15232)\u001B[0m   File \"D:\\FD\\venv\\lib\\site-packages\\torchmetrics\\utilities\\data.py\", line 22 in <module>\n",
      "\u001B[2m\u001B[36m(launch_and_fit pid=15232)\u001B[0m   File \"D:\\FD\\venv\\lib\\site-packages\\torchmetrics\\metric.py\", line 30 in <module>\n",
      "\u001B[2m\u001B[36m(launch_and_fit pid=15232)\u001B[0m   File \"D:\\FD\\venv\\lib\\site-packages\\torchmetrics\\utilities\\checks.py\", line 25 in <module>\n",
      "\u001B[2m\u001B[36m(launch_and_fit pid=15232)\u001B[0m   File \"D:\\FD\\venv\\lib\\site-packages\\torchmetrics\\utilities\\__init__.py\", line 14 in <module>\n",
      "\u001B[2m\u001B[36m(launch_and_fit pid=15232)\u001B[0m   File \"D:\\FD\\venv\\lib\\site-packages\\torchmetrics\\functional\\audio\\pit.py\", line 23 in <module>\n",
      "\u001B[2m\u001B[36m(launch_and_fit pid=15232)\u001B[0m   File \"D:\\FD\\venv\\lib\\site-packages\\torchmetrics\\functional\\audio\\__init__.py\", line 14 in <module>\n",
      "\u001B[2m\u001B[36m(launch_and_fit pid=15232)\u001B[0m   File \"D:\\FD\\venv\\lib\\site-packages\\torchmetrics\\functional\\__init__.py\", line 14 in <module>\n",
      "\u001B[2m\u001B[36m(launch_and_fit pid=15232)\u001B[0m   File \"D:\\FD\\venv\\lib\\site-packages\\torchmetrics\\__init__.py\", line 14 in <module>\n",
      "\u001B[2m\u001B[36m(launch_and_fit pid=15232)\u001B[0m   ...\n",
      "\u001B[2m\u001B[36m(launch_and_fit pid=15232)\u001B[0m D:\\FD\\venv\\lib\\site-packages\\torchvision\\io\\image.py:13: UserWarning: Failed to load image Python extension: '[WinError 127] 找不到指定的程序。'If you don't plan on using image functionality from `torchvision.io`, you can ignore this warning. Otherwise, there might be something wrong with your environment. Did you have `libjpeg` or `libpng` installed before building `torchvision` from source?\n",
      "\u001B[2m\u001B[36m(launch_and_fit pid=15232)\u001B[0m   warn(\n"
     ]
    },
    {
     "name": "stdout",
     "output_type": "stream",
     "text": [
      "\u001B[2m\u001B[36m(launch_and_fit pid=5360)\u001B[0m binary client\n",
      "\u001B[2m\u001B[36m(launch_and_fit pid=10172)\u001B[0m Client 5 aggregated_trees length 2\n",
      "\u001B[2m\u001B[36m(launch_and_fit pid=10172)\u001B[0m Client 5: only had its own tree\n",
      "\u001B[2m\u001B[36m(launch_and_fit pid=27052)\u001B[0m Client 1: training for 2 iterations/updates\n",
      "\u001B[2m\u001B[36m(launch_and_fit pid=2904)\u001B[0m binary client\u001B[32m [repeated 3x across cluster]\u001B[0m\n",
      "\u001B[2m\u001B[36m(launch_and_fit pid=2904)\u001B[0m Client 6 aggregated_trees length 2\u001B[32m [repeated 3x across cluster]\u001B[0m\n",
      "\u001B[2m\u001B[36m(launch_and_fit pid=2904)\u001B[0m Client 6: only had its own tree\u001B[32m [repeated 3x across cluster]\u001B[0m\n"
     ]
    },
    {
     "name": "stderr",
     "output_type": "stream",
     "text": [
      "\u001B[2m\u001B[36m(launch_and_fit pid=27052)\u001B[0m D:\\FD\\clients\\xgb_client.py:238: UserWarning: To copy construct from a tensor, it is recommended to use sourceTensor.clone().detach() or sourceTensor.clone().detach().requires_grad_(True), rather than torch.tensor(sourceTensor).\n",
      "\u001B[2m\u001B[36m(launch_and_fit pid=27052)\u001B[0m   y_test = torch.cat((torch.tensor(y_test), torch.tensor(labels)), dim=0)\n",
      "\u001B[2m\u001B[36m(launch_and_fit pid=27052)\u001B[0m D:\\FD\\clients\\xgb_client.py:239: UserWarning: To copy construct from a tensor, it is recommended to use sourceTensor.clone().detach() or sourceTensor.clone().detach().requires_grad_(True), rather than torch.tensor(sourceTensor).\n",
      "\u001B[2m\u001B[36m(launch_and_fit pid=27052)\u001B[0m   y_pred = torch.cat((torch.tensor(y_pred), torch.tensor(outputs)), dim=0)\n",
      "\u001B[2m\u001B[36m(launch_and_fit pid=2904)\u001B[0m Windows fatal exception: code 0xc0000139\u001B[32m [repeated 6x across cluster]\u001B[0m\n",
      "\u001B[2m\u001B[36m(launch_and_fit pid=2904)\u001B[0m \u001B[32m [repeated 6x across cluster]\u001B[0m\n",
      "\u001B[2m\u001B[36m(launch_and_fit pid=2904)\u001B[0m   File \"<frozen importlib._bootstrap>\", line 241 in _call_with_frames_removed\u001B[32m [repeated 54x across cluster]\u001B[0m\n",
      "\u001B[2m\u001B[36m(launch_and_fit pid=2904)\u001B[0m   File \"<frozen importlib._bootstrap_external>\", line 883 in exec_module\u001B[32m [repeated 42x across cluster]\u001B[0m\n",
      "\u001B[2m\u001B[36m(launch_and_fit pid=2904)\u001B[0m   File \"<frozen importlib._bootstrap>\", line 688 in _load_unlocked\u001B[32m [repeated 42x across cluster]\u001B[0m\n",
      "\u001B[2m\u001B[36m(launch_and_fit pid=2904)\u001B[0m   File \"<frozen importlib._bootstrap>\", line 1006 in _find_and_load_unlocked\u001B[32m [repeated 48x across cluster]\u001B[0m\n",
      "\u001B[2m\u001B[36m(launch_and_fit pid=2904)\u001B[0m   File \"<frozen importlib._bootstrap>\", line 1027 in _find_and_load\u001B[32m [repeated 48x across cluster]\u001B[0m\n",
      "\u001B[2m\u001B[36m(launch_and_fit pid=2904)\u001B[0m   File \"<frozen importlib._bootstrap>\", line 1078 in _handle_fromlist\u001B[32m [repeated 6x across cluster]\u001B[0m\n",
      "\u001B[2m\u001B[36m(launch_and_fit pid=2904)\u001B[0m Stack (most recent call first):\u001B[32m [repeated 2x across cluster]\u001B[0m\n",
      "\u001B[2m\u001B[36m(launch_and_fit pid=2904)\u001B[0m   File \"C:\\Program Files\\WindowsApps\\PythonSoftwareFoundation.Python.3.10_3.10.3056.0_x64__qbz5n2kfra8p0\\lib\\ctypes\\__init__.py\", line 374 in __init__\u001B[32m [repeated 2x across cluster]\u001B[0m\n",
      "\u001B[2m\u001B[36m(launch_and_fit pid=2904)\u001B[0m   File \"D:\\FD\\venv\\lib\\site-packages\\torch\\_ops.py\", line 573 in load_library\u001B[32m [repeated 2x across cluster]\u001B[0m\n",
      "\u001B[2m\u001B[36m(launch_and_fit pid=2904)\u001B[0m   File \"D:\\FD\\venv\\lib\\site-packages\\torchvision\\extension.py\", line 36 in <module>\u001B[32m [repeated 2x across cluster]\u001B[0m\n",
      "\u001B[2m\u001B[36m(launch_and_fit pid=2904)\u001B[0m   File \"D:\\FD\\venv\\lib\\site-packages\\torchvision\\io\\_load_gpu_decoder.py\", line 1 in <module>\u001B[32m [repeated 2x across cluster]\u001B[0m\n",
      "\u001B[2m\u001B[36m(launch_and_fit pid=2904)\u001B[0m   File \"D:\\FD\\venv\\lib\\site-packages\\torchvision\\io\\__init__.py\", line 8 in <module>\u001B[32m [repeated 2x across cluster]\u001B[0m\n",
      "\u001B[2m\u001B[36m(launch_and_fit pid=2904)\u001B[0m   File \"D:\\FD\\venv\\lib\\site-packages\\torchvision\\datasets\\_optical_flow.py\", line 12 in <module>\u001B[32m [repeated 2x across cluster]\u001B[0m\n",
      "\u001B[2m\u001B[36m(launch_and_fit pid=2904)\u001B[0m   File \"D:\\FD\\venv\\lib\\site-packages\\torchvision\\datasets\\__init__.py\", line 1 in <module>\u001B[32m [repeated 2x across cluster]\u001B[0m\n",
      "\u001B[2m\u001B[36m(launch_and_fit pid=2904)\u001B[0m   File \"D:\\FD\\venv\\lib\\site-packages\\torchvision\\__init__.py\", line 6 in <module>\u001B[32m [repeated 2x across cluster]\u001B[0m\n",
      "\u001B[2m\u001B[36m(launch_and_fit pid=2904)\u001B[0m   File \"<frozen importlib._bootstrap>\", line 1050 in _gcd_import\u001B[32m [repeated 2x across cluster]\u001B[0m\n",
      "\u001B[2m\u001B[36m(launch_and_fit pid=2904)\u001B[0m   File \"C:\\Program Files\\WindowsApps\\PythonSoftwareFoundation.Python.3.10_3.10.3056.0_x64__qbz5n2kfra8p0\\lib\\importlib\\__init__.py\", line 126 in import_module\u001B[32m [repeated 2x across cluster]\u001B[0m\n",
      "\u001B[2m\u001B[36m(launch_and_fit pid=2904)\u001B[0m   File \"D:\\FD\\venv\\lib\\site-packages\\lightning_utilities\\core\\imports.py\", line 73 in compare_version\u001B[32m [repeated 2x across cluster]\u001B[0m\n",
      "\u001B[2m\u001B[36m(launch_and_fit pid=2904)\u001B[0m   File \"D:\\FD\\venv\\lib\\site-packages\\torchmetrics\\utilities\\imports.py\", line 41 in <module>\u001B[32m [repeated 2x across cluster]\u001B[0m\n",
      "\u001B[2m\u001B[36m(launch_and_fit pid=2904)\u001B[0m   File \"D:\\FD\\venv\\lib\\site-packages\\torchmetrics\\utilities\\data.py\", line 22 in <module>\u001B[32m [repeated 2x across cluster]\u001B[0m\n",
      "\u001B[2m\u001B[36m(launch_and_fit pid=2904)\u001B[0m   File \"D:\\FD\\venv\\lib\\site-packages\\torchmetrics\\metric.py\", line 30 in <module>\u001B[32m [repeated 2x across cluster]\u001B[0m\n",
      "\u001B[2m\u001B[36m(launch_and_fit pid=2904)\u001B[0m   File \"D:\\FD\\venv\\lib\\site-packages\\torchmetrics\\utilities\\checks.py\", line 25 in <module>\u001B[32m [repeated 2x across cluster]\u001B[0m\n",
      "\u001B[2m\u001B[36m(launch_and_fit pid=2904)\u001B[0m   File \"D:\\FD\\venv\\lib\\site-packages\\torchmetrics\\utilities\\__init__.py\", line 14 in <module>\u001B[32m [repeated 2x across cluster]\u001B[0m\n",
      "\u001B[2m\u001B[36m(launch_and_fit pid=2904)\u001B[0m   File \"D:\\FD\\venv\\lib\\site-packages\\torchmetrics\\functional\\audio\\pit.py\", line 23 in <module>\u001B[32m [repeated 2x across cluster]\u001B[0m\n",
      "\u001B[2m\u001B[36m(launch_and_fit pid=2904)\u001B[0m   File \"D:\\FD\\venv\\lib\\site-packages\\torchmetrics\\functional\\audio\\__init__.py\", line 14 in <module>\u001B[32m [repeated 2x across cluster]\u001B[0m\n",
      "\u001B[2m\u001B[36m(launch_and_fit pid=2904)\u001B[0m   File \"D:\\FD\\venv\\lib\\site-packages\\torchmetrics\\functional\\__init__.py\", line 14 in <module>\u001B[32m [repeated 2x across cluster]\u001B[0m\n",
      "\u001B[2m\u001B[36m(launch_and_fit pid=2904)\u001B[0m   File \"D:\\FD\\venv\\lib\\site-packages\\torchmetrics\\__init__.py\", line 14 in <module>\u001B[32m [repeated 2x across cluster]\u001B[0m\n",
      "\u001B[2m\u001B[36m(launch_and_fit pid=2904)\u001B[0m   ...\u001B[32m [repeated 2x across cluster]\u001B[0m\n",
      "\u001B[2m\u001B[36m(launch_and_fit pid=2904)\u001B[0m D:\\FD\\venv\\lib\\site-packages\\torchvision\\io\\image.py:13: UserWarning: Failed to load image Python extension: '[WinError 127] 找不到指定的程序。'If you don't plan on using image functionality from `torchvision.io`, you can ignore this warning. Otherwise, there might be something wrong with your environment. Did you have `libjpeg` or `libpng` installed before building `torchvision` from source?\u001B[32m [repeated 2x across cluster]\u001B[0m\n",
      "\u001B[2m\u001B[36m(launch_and_fit pid=2904)\u001B[0m   warn(\u001B[32m [repeated 2x across cluster]\u001B[0m\n",
      "\u001B[2m\u001B[36m(launch_and_fit pid=5360)\u001B[0m D:\\FD\\clients\\xgb_client.py:239: UserWarning: To copy construct from a tensor, it is recommended to use sourceTensor.clone().detach() or sourceTensor.clone().detach().requires_grad_(True), rather than torch.tensor(sourceTensor).\u001B[32m [repeated 2x across cluster]\u001B[0m\n",
      "\u001B[2m\u001B[36m(launch_and_fit pid=5360)\u001B[0m   y_pred = torch.cat((torch.tensor(y_pred), torch.tensor(outputs)), dim=0)\n",
      "\u001B[2m\u001B[36m(launch_and_fit pid=5360)\u001B[0m   y_pred = torch.cat((torch.tensor(y_pred), torch.tensor(outputs)), dim=0)\n",
      "\u001B[2m\u001B[36m(launch_and_fit pid=2904)\u001B[0m   y_test = torch.cat((torch.tensor(y_test), torch.tensor(labels)), dim=0)\n",
      "\u001B[2m\u001B[36m(launch_and_fit pid=2904)\u001B[0m   y_pred = torch.cat((torch.tensor(y_pred), torch.tensor(outputs)), dim=0)\n"
     ]
    },
    {
     "name": "stdout",
     "output_type": "stream",
     "text": [
      "\u001B[2m\u001B[36m(launch_and_fit pid=5360)\u001B[0m Client 4: training for 2 iterations/updates\n",
      "\u001B[2m\u001B[36m(launch_and_fit pid=2904)\u001B[0m Client 6: training for 2 iterations/updates\n"
     ]
    },
    {
     "name": "stderr",
     "output_type": "stream",
     "text": [
      "DEBUG flwr 2023-09-03 19:42:48,881 | fl_server.py:241 | fit_round 1 received 5 results and 0 failures\n",
      "WARNING flwr 2023-09-03 19:42:48,889 | fedxgb_nn_avg.py:88 | No fit_metrics_aggregation_fn provided\n"
     ]
    },
    {
     "name": "stdout",
     "output_type": "stream",
     "text": [
      "Server side aggregated 5 trees.\n",
      "serverside task_type binary\n"
     ]
    },
    {
     "name": "stderr",
     "output_type": "stream",
     "text": [
      "INFO flwr 2023-09-03 19:43:47,249 | fl_server.py:112 | fit progress: (1, 0.15321699, {'auc': 0.8313777054917978}, 145.12356879998697)\n",
      "INFO flwr 2023-09-03 19:43:47,252 | fl_server.py:159 | evaluate_round 1: no clients selected, cancel\n",
      "DEBUG flwr 2023-09-03 19:43:47,255 | fl_server.py:226 | fit_round 2: strategy sampled 5 clients (out of 10)\n"
     ]
    },
    {
     "name": "stdout",
     "output_type": "stream",
     "text": [
      "testset mse 0.15321698784828186 and auc 0.8313777054917978\n",
      "Evaluation on the server: test_mse=0.1532, test_auc=0.8314\n",
      "Configuring round 2\n",
      "\u001B[2m\u001B[36m(launch_and_fit pid=5360)\u001B[0m binary client\n",
      "\u001B[2m\u001B[36m(launch_and_fit pid=15232)\u001B[0m Client 9: training for 2 iterations/updates\u001B[32m [repeated 2x across cluster]\u001B[0m\n",
      "\u001B[2m\u001B[36m(launch_and_fit pid=5360)\u001B[0m Client 5 aggregated_trees length 5\n",
      "\u001B[2m\u001B[36m(launch_and_fit pid=5360)\u001B[0m Client 5: recieved 5 trees\n",
      "\u001B[2m\u001B[36m(launch_and_fit pid=27052)\u001B[0m binary client\u001B[32m [repeated 4x across cluster]\u001B[0m\n",
      "\u001B[2m\u001B[36m(launch_and_fit pid=5360)\u001B[0m Client 5: training for 2 iterations/updates\n",
      "\u001B[2m\u001B[36m(launch_and_fit pid=27052)\u001B[0m Client 8 aggregated_trees length 5\u001B[32m [repeated 4x across cluster]\u001B[0m\n",
      "\u001B[2m\u001B[36m(launch_and_fit pid=27052)\u001B[0m Client 8: recieved 5 trees\u001B[32m [repeated 4x across cluster]\u001B[0m\n",
      "\u001B[2m\u001B[36m(launch_and_fit pid=10172)\u001B[0m Client 9: training for 2 iterations/updates\n"
     ]
    },
    {
     "name": "stderr",
     "output_type": "stream",
     "text": [
      "DEBUG flwr 2023-09-03 19:45:02,015 | fl_server.py:241 | fit_round 2 received 5 results and 0 failures\n"
     ]
    },
    {
     "name": "stdout",
     "output_type": "stream",
     "text": [
      "Server side aggregated 5 trees.\n",
      "serverside task_type binary\n"
     ]
    },
    {
     "name": "stderr",
     "output_type": "stream",
     "text": [
      "INFO flwr 2023-09-03 19:45:52,318 | fl_server.py:112 | fit progress: (2, 0.08902228, {'auc': 0.8403233270111791}, 270.1916752999823)\n",
      "INFO flwr 2023-09-03 19:45:52,319 | fl_server.py:159 | evaluate_round 2: no clients selected, cancel\n",
      "DEBUG flwr 2023-09-03 19:45:52,319 | fl_server.py:226 | fit_round 3: strategy sampled 5 clients (out of 10)\n"
     ]
    },
    {
     "name": "stdout",
     "output_type": "stream",
     "text": [
      "testset mse 0.08902227878570557 and auc 0.8403233270111791\n",
      "Evaluation on the server: test_mse=0.0890, test_auc=0.8403\n",
      "Configuring round 3\n",
      "\u001B[2m\u001B[36m(launch_and_fit pid=27052)\u001B[0m binary client\n",
      "\u001B[2m\u001B[36m(launch_and_fit pid=27052)\u001B[0m Client 8: training for 2 iterations/updates\u001B[32m [repeated 3x across cluster]\u001B[0m\n",
      "\u001B[2m\u001B[36m(launch_and_fit pid=15232)\u001B[0m binary client\n",
      "\u001B[2m\u001B[36m(launch_and_fit pid=27052)\u001B[0m Client 8 aggregated_trees length 5\n",
      "\u001B[2m\u001B[36m(launch_and_fit pid=27052)\u001B[0m Client 8: recieved 5 trees\n",
      "\u001B[2m\u001B[36m(launch_and_fit pid=5360)\u001B[0m Client 1: training for 2 iterations/updates\n",
      "\u001B[2m\u001B[36m(launch_and_fit pid=5360)\u001B[0m binary client\u001B[32m [repeated 3x across cluster]\u001B[0m\n",
      "\u001B[2m\u001B[36m(launch_and_fit pid=2904)\u001B[0m Client 5 aggregated_trees length 5\u001B[32m [repeated 4x across cluster]\u001B[0m\n",
      "\u001B[2m\u001B[36m(launch_and_fit pid=2904)\u001B[0m Client 5: recieved 5 trees\u001B[32m [repeated 4x across cluster]\u001B[0m\n",
      "\u001B[2m\u001B[36m(launch_and_fit pid=2904)\u001B[0m Client 5: training for 2 iterations/updates\n"
     ]
    },
    {
     "name": "stderr",
     "output_type": "stream",
     "text": [
      "DEBUG flwr 2023-09-03 19:46:57,239 | fl_server.py:241 | fit_round 3 received 5 results and 0 failures\n"
     ]
    },
    {
     "name": "stdout",
     "output_type": "stream",
     "text": [
      "Server side aggregated 5 trees.\n",
      "serverside task_type binary\n"
     ]
    },
    {
     "name": "stderr",
     "output_type": "stream",
     "text": [
      "INFO flwr 2023-09-03 19:47:50,286 | fl_server.py:112 | fit progress: (3, 0.059161145, {'auc': 0.8384307942785916}, 388.1606144999969)\n",
      "INFO flwr 2023-09-03 19:47:50,288 | fl_server.py:159 | evaluate_round 3: no clients selected, cancel\n",
      "DEBUG flwr 2023-09-03 19:47:50,289 | fl_server.py:226 | fit_round 4: strategy sampled 5 clients (out of 10)\n"
     ]
    },
    {
     "name": "stdout",
     "output_type": "stream",
     "text": [
      "testset mse 0.059161145240068436 and auc 0.8384307942785916\n",
      "Evaluation on the server: test_mse=0.0592, test_auc=0.8384\n",
      "Configuring round 4\n",
      "\u001B[2m\u001B[36m(launch_and_fit pid=27052)\u001B[0m binary client\n",
      "\u001B[2m\u001B[36m(launch_and_fit pid=27052)\u001B[0m Client 8: training for 2 iterations/updates\u001B[32m [repeated 3x across cluster]\u001B[0m\n",
      "\u001B[2m\u001B[36m(launch_and_fit pid=15232)\u001B[0m binary client\n",
      "\u001B[2m\u001B[36m(launch_and_fit pid=27052)\u001B[0m Client 6 aggregated_trees length 5\n",
      "\u001B[2m\u001B[36m(launch_and_fit pid=27052)\u001B[0m Client 6: recieved 5 trees\n",
      "\u001B[2m\u001B[36m(launch_and_fit pid=5360)\u001B[0m binary client\u001B[32m [repeated 3x across cluster]\u001B[0m\n",
      "\u001B[2m\u001B[36m(launch_and_fit pid=2904)\u001B[0m Client 0 aggregated_trees length 5\u001B[32m [repeated 4x across cluster]\u001B[0m\n",
      "\u001B[2m\u001B[36m(launch_and_fit pid=2904)\u001B[0m Client 0: recieved 5 trees\u001B[32m [repeated 4x across cluster]\u001B[0m\n",
      "\u001B[2m\u001B[36m(launch_and_fit pid=5360)\u001B[0m Client 8: training for 2 iterations/updates\n"
     ]
    },
    {
     "name": "stderr",
     "output_type": "stream",
     "text": [
      "DEBUG flwr 2023-09-03 19:50:09,761 | fl_server.py:241 | fit_round 4 received 5 results and 0 failures\n"
     ]
    },
    {
     "name": "stdout",
     "output_type": "stream",
     "text": [
      "Server side aggregated 5 trees.\n",
      "serverside task_type binary\n",
      "\u001B[2m\u001B[36m(launch_and_fit pid=2904)\u001B[0m Client 0: training for 2 iterations/updates\u001B[32m [repeated 4x across cluster]\u001B[0m\n"
     ]
    },
    {
     "name": "stderr",
     "output_type": "stream",
     "text": [
      "INFO flwr 2023-09-03 19:50:56,465 | fl_server.py:112 | fit progress: (4, 0.053995516, {'auc': 0.836179127830483}, 574.3393984999857)\n",
      "INFO flwr 2023-09-03 19:50:56,466 | fl_server.py:159 | evaluate_round 4: no clients selected, cancel\n",
      "DEBUG flwr 2023-09-03 19:50:56,466 | fl_server.py:226 | fit_round 5: strategy sampled 5 clients (out of 10)\n"
     ]
    },
    {
     "name": "stdout",
     "output_type": "stream",
     "text": [
      "testset mse 0.053995516151189804 and auc 0.836179127830483\n",
      "Evaluation on the server: test_mse=0.0540, test_auc=0.8362\n",
      "Configuring round 5\n",
      "\u001B[2m\u001B[36m(launch_and_fit pid=27052)\u001B[0m binary client\n",
      "\u001B[2m\u001B[36m(launch_and_fit pid=2904)\u001B[0m Client 8 aggregated_trees length 5\n",
      "\u001B[2m\u001B[36m(launch_and_fit pid=2904)\u001B[0m Client 8: recieved 5 trees\n",
      "\u001B[2m\u001B[36m(launch_and_fit pid=2904)\u001B[0m Client 8: training for 2 iterations/updates\n",
      "\u001B[2m\u001B[36m(launch_and_fit pid=2904)\u001B[0m binary client\u001B[32m [repeated 4x across cluster]\u001B[0m\n",
      "\u001B[2m\u001B[36m(launch_and_fit pid=5360)\u001B[0m Client 2 aggregated_trees length 5\u001B[32m [repeated 4x across cluster]\u001B[0m\n",
      "\u001B[2m\u001B[36m(launch_and_fit pid=5360)\u001B[0m Client 2: recieved 5 trees\u001B[32m [repeated 4x across cluster]\u001B[0m\n"
     ]
    },
    {
     "name": "stderr",
     "output_type": "stream",
     "text": [
      "DEBUG flwr 2023-09-03 19:51:57,142 | fl_server.py:241 | fit_round 5 received 5 results and 0 failures\n"
     ]
    },
    {
     "name": "stdout",
     "output_type": "stream",
     "text": [
      "Server side aggregated 5 trees.\n",
      "serverside task_type binary\n"
     ]
    },
    {
     "name": "stderr",
     "output_type": "stream",
     "text": [
      "INFO flwr 2023-09-03 19:52:44,019 | fl_server.py:112 | fit progress: (5, 0.05542136, {'auc': 0.8415302780662798}, 681.8929196999816)\n",
      "INFO flwr 2023-09-03 19:52:44,020 | fl_server.py:159 | evaluate_round 5: no clients selected, cancel\n",
      "DEBUG flwr 2023-09-03 19:52:44,021 | fl_server.py:226 | fit_round 6: strategy sampled 5 clients (out of 10)\n"
     ]
    },
    {
     "name": "stdout",
     "output_type": "stream",
     "text": [
      "testset mse 0.055421359837055206 and auc 0.8415302780662798\n",
      "Evaluation on the server: test_mse=0.0554, test_auc=0.8415\n",
      "Configuring round 6\n",
      "\u001B[2m\u001B[36m(launch_and_fit pid=27052)\u001B[0m Client 1: training for 2 iterations/updates\u001B[32m [repeated 4x across cluster]\u001B[0m\n",
      "\u001B[2m\u001B[36m(launch_and_fit pid=27052)\u001B[0m binary client\n",
      "\u001B[2m\u001B[36m(launch_and_fit pid=5360)\u001B[0m binary client\n",
      "\u001B[2m\u001B[36m(launch_and_fit pid=5360)\u001B[0m Client 7 aggregated_trees length 5\n",
      "\u001B[2m\u001B[36m(launch_and_fit pid=5360)\u001B[0m Client 7: recieved 5 trees\n",
      "\u001B[2m\u001B[36m(launch_and_fit pid=2904)\u001B[0m binary client\u001B[32m [repeated 3x across cluster]\u001B[0m\n",
      "\u001B[2m\u001B[36m(launch_and_fit pid=27052)\u001B[0m Client 0 aggregated_trees length 5\u001B[32m [repeated 4x across cluster]\u001B[0m\n",
      "\u001B[2m\u001B[36m(launch_and_fit pid=27052)\u001B[0m Client 0: recieved 5 trees\u001B[32m [repeated 4x across cluster]\u001B[0m\n",
      "\u001B[2m\u001B[36m(launch_and_fit pid=5360)\u001B[0m Client 7: training for 2 iterations/updates\n"
     ]
    },
    {
     "name": "stderr",
     "output_type": "stream",
     "text": [
      "DEBUG flwr 2023-09-03 19:55:03,425 | fl_server.py:241 | fit_round 6 received 5 results and 0 failures\n"
     ]
    },
    {
     "name": "stdout",
     "output_type": "stream",
     "text": [
      "Server side aggregated 5 trees.\n",
      "serverside task_type binary\n",
      "\u001B[2m\u001B[36m(launch_and_fit pid=27052)\u001B[0m Client 0: training for 2 iterations/updates\u001B[32m [repeated 4x across cluster]\u001B[0m\n"
     ]
    },
    {
     "name": "stderr",
     "output_type": "stream",
     "text": [
      "INFO flwr 2023-09-03 19:55:49,093 | fl_server.py:112 | fit progress: (6, 0.054033875, {'auc': 0.8373014663233277}, 866.9676356999844)\n",
      "INFO flwr 2023-09-03 19:55:49,094 | fl_server.py:159 | evaluate_round 6: no clients selected, cancel\n",
      "DEBUG flwr 2023-09-03 19:55:49,095 | fl_server.py:226 | fit_round 7: strategy sampled 5 clients (out of 10)\n"
     ]
    },
    {
     "name": "stdout",
     "output_type": "stream",
     "text": [
      "testset mse 0.054033875465393066 and auc 0.8373014663233277\n",
      "Evaluation on the server: test_mse=0.0540, test_auc=0.8373\n",
      "Configuring round 7\n",
      "\u001B[2m\u001B[36m(launch_and_fit pid=27052)\u001B[0m binary client\n",
      "\u001B[2m\u001B[36m(launch_and_fit pid=27052)\u001B[0m Client 4 aggregated_trees length 5\n",
      "\u001B[2m\u001B[36m(launch_and_fit pid=27052)\u001B[0m Client 4: recieved 5 trees\n",
      "\u001B[2m\u001B[36m(launch_and_fit pid=5360)\u001B[0m binary client\u001B[32m [repeated 4x across cluster]\u001B[0m\n",
      "\u001B[2m\u001B[36m(launch_and_fit pid=5360)\u001B[0m Client 0 aggregated_trees length 5\u001B[32m [repeated 4x across cluster]\u001B[0m\n",
      "\u001B[2m\u001B[36m(launch_and_fit pid=5360)\u001B[0m Client 0: recieved 5 trees\u001B[32m [repeated 4x across cluster]\u001B[0m\n",
      "\u001B[2m\u001B[36m(launch_and_fit pid=2904)\u001B[0m Client 7: training for 2 iterations/updates\n"
     ]
    },
    {
     "name": "stderr",
     "output_type": "stream",
     "text": [
      "DEBUG flwr 2023-09-03 19:58:05,747 | fl_server.py:241 | fit_round 7 received 5 results and 0 failures\n"
     ]
    },
    {
     "name": "stdout",
     "output_type": "stream",
     "text": [
      "\u001B[2m\u001B[36m(launch_and_fit pid=5360)\u001B[0m Client 0: training for 2 iterations/updates\u001B[32m [repeated 4x across cluster]\u001B[0m\n",
      "Server side aggregated 5 trees.\n",
      "serverside task_type binary\n"
     ]
    },
    {
     "name": "stderr",
     "output_type": "stream",
     "text": [
      "INFO flwr 2023-09-03 19:58:52,059 | fl_server.py:112 | fit progress: (7, 0.052959252, {'auc': 0.8422772690715451}, 1049.9331967000035)\n",
      "INFO flwr 2023-09-03 19:58:52,060 | fl_server.py:159 | evaluate_round 7: no clients selected, cancel\n",
      "DEBUG flwr 2023-09-03 19:58:52,061 | fl_server.py:226 | fit_round 8: strategy sampled 5 clients (out of 10)\n"
     ]
    },
    {
     "name": "stdout",
     "output_type": "stream",
     "text": [
      "testset mse 0.05295925214886665 and auc 0.8422772690715451\n",
      "Evaluation on the server: test_mse=0.0530, test_auc=0.8423\n",
      "Configuring round 8\n",
      "\u001B[2m\u001B[36m(launch_and_fit pid=27052)\u001B[0m binary client\n",
      "\u001B[2m\u001B[36m(launch_and_fit pid=27052)\u001B[0m Client 4 aggregated_trees length 5\n",
      "\u001B[2m\u001B[36m(launch_and_fit pid=27052)\u001B[0m Client 4: recieved 5 trees\n",
      "\u001B[2m\u001B[36m(launch_and_fit pid=2904)\u001B[0m binary client\u001B[32m [repeated 4x across cluster]\u001B[0m\n",
      "\u001B[2m\u001B[36m(launch_and_fit pid=5360)\u001B[0m Client 0 aggregated_trees length 5\u001B[32m [repeated 4x across cluster]\u001B[0m\n",
      "\u001B[2m\u001B[36m(launch_and_fit pid=5360)\u001B[0m Client 0: recieved 5 trees\u001B[32m [repeated 4x across cluster]\u001B[0m\n",
      "\u001B[2m\u001B[36m(launch_and_fit pid=2904)\u001B[0m Client 3: training for 2 iterations/updates\n"
     ]
    },
    {
     "name": "stderr",
     "output_type": "stream",
     "text": [
      "DEBUG flwr 2023-09-03 20:01:11,805 | fl_server.py:241 | fit_round 8 received 5 results and 0 failures\n"
     ]
    },
    {
     "name": "stdout",
     "output_type": "stream",
     "text": [
      "Server side aggregated 5 trees.\n",
      "serverside task_type binary\n",
      "\u001B[2m\u001B[36m(launch_and_fit pid=5360)\u001B[0m Client 0: training for 2 iterations/updates\u001B[32m [repeated 4x across cluster]\u001B[0m\n"
     ]
    },
    {
     "name": "stderr",
     "output_type": "stream",
     "text": [
      "INFO flwr 2023-09-03 20:02:06,908 | fl_server.py:112 | fit progress: (8, 0.05230207, {'auc': 0.8633604615887281}, 1244.7829445999814)\n",
      "INFO flwr 2023-09-03 20:02:06,910 | fl_server.py:159 | evaluate_round 8: no clients selected, cancel\n",
      "DEBUG flwr 2023-09-03 20:02:06,912 | fl_server.py:226 | fit_round 9: strategy sampled 5 clients (out of 10)\n"
     ]
    },
    {
     "name": "stdout",
     "output_type": "stream",
     "text": [
      "testset mse 0.05230206996202469 and auc 0.8633604615887281\n",
      "Evaluation on the server: test_mse=0.0523, test_auc=0.8634\n",
      "Configuring round 9\n",
      "\u001B[2m\u001B[36m(launch_and_fit pid=27052)\u001B[0m binary client\n",
      "\u001B[2m\u001B[36m(launch_and_fit pid=5360)\u001B[0m Client 7 aggregated_trees length 5\n",
      "\u001B[2m\u001B[36m(launch_and_fit pid=5360)\u001B[0m Client 7: recieved 5 trees\n",
      "\u001B[2m\u001B[36m(launch_and_fit pid=5360)\u001B[0m Client 7: training for 2 iterations/updates\n",
      "\u001B[2m\u001B[36m(launch_and_fit pid=2904)\u001B[0m binary client\u001B[32m [repeated 4x across cluster]\u001B[0m\n",
      "\u001B[2m\u001B[36m(launch_and_fit pid=2904)\u001B[0m Client 6 aggregated_trees length 5\u001B[32m [repeated 4x across cluster]\u001B[0m\n",
      "\u001B[2m\u001B[36m(launch_and_fit pid=2904)\u001B[0m Client 6: recieved 5 trees\u001B[32m [repeated 4x across cluster]\u001B[0m\n"
     ]
    },
    {
     "name": "stderr",
     "output_type": "stream",
     "text": [
      "DEBUG flwr 2023-09-03 20:03:40,062 | fl_server.py:241 | fit_round 9 received 5 results and 0 failures\n"
     ]
    },
    {
     "name": "stdout",
     "output_type": "stream",
     "text": [
      "Server side aggregated 5 trees.\n",
      "serverside task_type binary\n"
     ]
    },
    {
     "name": "stderr",
     "output_type": "stream",
     "text": [
      "INFO flwr 2023-09-03 20:04:25,810 | fl_server.py:112 | fit progress: (9, 0.05335706, {'auc': 0.8414555130778273}, 1383.6839792999963)\n",
      "INFO flwr 2023-09-03 20:04:25,811 | fl_server.py:159 | evaluate_round 9: no clients selected, cancel\n",
      "DEBUG flwr 2023-09-03 20:04:25,812 | fl_server.py:226 | fit_round 10: strategy sampled 5 clients (out of 10)\n"
     ]
    },
    {
     "name": "stdout",
     "output_type": "stream",
     "text": [
      "testset mse 0.05335706099867821 and auc 0.8414555130778273\n",
      "Evaluation on the server: test_mse=0.0534, test_auc=0.8415\n",
      "Configuring round 10\n",
      "\u001B[2m\u001B[36m(launch_and_fit pid=27052)\u001B[0m Client 2: training for 2 iterations/updates\u001B[32m [repeated 4x across cluster]\u001B[0m\n",
      "\u001B[2m\u001B[36m(launch_and_fit pid=27052)\u001B[0m binary client\n",
      "\u001B[2m\u001B[36m(launch_and_fit pid=5360)\u001B[0m binary client\n",
      "\u001B[2m\u001B[36m(launch_and_fit pid=27052)\u001B[0m Client 5 aggregated_trees length 5\n",
      "\u001B[2m\u001B[36m(launch_and_fit pid=27052)\u001B[0m Client 5: recieved 5 trees\n",
      "\u001B[2m\u001B[36m(launch_and_fit pid=2904)\u001B[0m binary client\u001B[32m [repeated 3x across cluster]\u001B[0m\n",
      "\u001B[2m\u001B[36m(launch_and_fit pid=5360)\u001B[0m Client 0 aggregated_trees length 5\u001B[32m [repeated 4x across cluster]\u001B[0m\n",
      "\u001B[2m\u001B[36m(launch_and_fit pid=5360)\u001B[0m Client 0: recieved 5 trees\u001B[32m [repeated 4x across cluster]\u001B[0m\n",
      "\u001B[2m\u001B[36m(launch_and_fit pid=2904)\u001B[0m Client 6: training for 2 iterations/updates\n"
     ]
    },
    {
     "name": "stderr",
     "output_type": "stream",
     "text": [
      "DEBUG flwr 2023-09-03 20:06:43,847 | fl_server.py:241 | fit_round 10 received 5 results and 0 failures\n"
     ]
    },
    {
     "name": "stdout",
     "output_type": "stream",
     "text": [
      "Server side aggregated 5 trees.\n",
      "serverside task_type binary\n",
      "\u001B[2m\u001B[36m(launch_and_fit pid=5360)\u001B[0m Client 0: training for 2 iterations/updates\u001B[32m [repeated 4x across cluster]\u001B[0m\n"
     ]
    },
    {
     "name": "stderr",
     "output_type": "stream",
     "text": [
      "INFO flwr 2023-09-03 20:07:30,282 | fl_server.py:112 | fit progress: (10, 0.052797854, {'auc': 0.8375925306882809}, 1568.1562675999885)\n",
      "INFO flwr 2023-09-03 20:07:30,283 | fl_server.py:159 | evaluate_round 10: no clients selected, cancel\n",
      "DEBUG flwr 2023-09-03 20:07:30,284 | fl_server.py:226 | fit_round 11: strategy sampled 5 clients (out of 10)\n"
     ]
    },
    {
     "name": "stdout",
     "output_type": "stream",
     "text": [
      "testset mse 0.05279785394668579 and auc 0.8375925306882809\n",
      "Evaluation on the server: test_mse=0.0528, test_auc=0.8376\n",
      "Configuring round 11\n",
      "\u001B[2m\u001B[36m(launch_and_fit pid=27052)\u001B[0m binary client\n",
      "\u001B[2m\u001B[36m(launch_and_fit pid=27052)\u001B[0m Client 1 aggregated_trees length 5\n",
      "\u001B[2m\u001B[36m(launch_and_fit pid=27052)\u001B[0m Client 1: recieved 5 trees\n",
      "\u001B[2m\u001B[36m(launch_and_fit pid=2904)\u001B[0m Client 9: training for 2 iterations/updates\n",
      "\u001B[2m\u001B[36m(launch_and_fit pid=2904)\u001B[0m binary client\u001B[32m [repeated 4x across cluster]\u001B[0m\n",
      "\u001B[2m\u001B[36m(launch_and_fit pid=2904)\u001B[0m Client 9 aggregated_trees length 5\u001B[32m [repeated 4x across cluster]\u001B[0m\n",
      "\u001B[2m\u001B[36m(launch_and_fit pid=2904)\u001B[0m Client 9: recieved 5 trees\u001B[32m [repeated 4x across cluster]\u001B[0m\n"
     ]
    },
    {
     "name": "stderr",
     "output_type": "stream",
     "text": [
      "DEBUG flwr 2023-09-03 20:08:28,160 | fl_server.py:241 | fit_round 11 received 5 results and 0 failures\n"
     ]
    },
    {
     "name": "stdout",
     "output_type": "stream",
     "text": [
      "Server side aggregated 5 trees.\n",
      "serverside task_type binary\n"
     ]
    },
    {
     "name": "stderr",
     "output_type": "stream",
     "text": [
      "INFO flwr 2023-09-03 20:09:13,431 | fl_server.py:112 | fit progress: (11, 0.053144783, {'auc': 0.8381852371014412}, 1671.305638699996)\n",
      "INFO flwr 2023-09-03 20:09:13,433 | fl_server.py:159 | evaluate_round 11: no clients selected, cancel\n",
      "DEBUG flwr 2023-09-03 20:09:13,433 | fl_server.py:226 | fit_round 12: strategy sampled 5 clients (out of 10)\n"
     ]
    },
    {
     "name": "stdout",
     "output_type": "stream",
     "text": [
      "testset mse 0.05314478278160095 and auc 0.8381852371014412\n",
      "Evaluation on the server: test_mse=0.0531, test_auc=0.8382\n",
      "Configuring round 12\n",
      "\u001B[2m\u001B[36m(launch_and_fit pid=27052)\u001B[0m Client 1: training for 2 iterations/updates\u001B[32m [repeated 4x across cluster]\u001B[0m\n",
      "\u001B[2m\u001B[36m(launch_and_fit pid=27052)\u001B[0m binary client\n",
      "\u001B[2m\u001B[36m(launch_and_fit pid=15232)\u001B[0m binary client\n",
      "\u001B[2m\u001B[36m(launch_and_fit pid=27052)\u001B[0m Client 9 aggregated_trees length 5\n",
      "\u001B[2m\u001B[36m(launch_and_fit pid=27052)\u001B[0m Client 9: recieved 5 trees\n",
      "\u001B[2m\u001B[36m(launch_and_fit pid=2904)\u001B[0m binary client\u001B[32m [repeated 3x across cluster]\u001B[0m\n",
      "\u001B[2m\u001B[36m(launch_and_fit pid=15232)\u001B[0m Client 0 aggregated_trees length 5\u001B[32m [repeated 4x across cluster]\u001B[0m\n",
      "\u001B[2m\u001B[36m(launch_and_fit pid=15232)\u001B[0m Client 0: recieved 5 trees\u001B[32m [repeated 4x across cluster]\u001B[0m\n",
      "\u001B[2m\u001B[36m(launch_and_fit pid=5360)\u001B[0m Client 3: training for 2 iterations/updates\n"
     ]
    },
    {
     "name": "stderr",
     "output_type": "stream",
     "text": [
      "DEBUG flwr 2023-09-03 20:11:29,078 | fl_server.py:241 | fit_round 12 received 5 results and 0 failures\n"
     ]
    },
    {
     "name": "stdout",
     "output_type": "stream",
     "text": [
      "Server side aggregated 5 trees.\n",
      "serverside task_type binary\n",
      "\u001B[2m\u001B[36m(launch_and_fit pid=15232)\u001B[0m Client 0: training for 2 iterations/updates\u001B[32m [repeated 4x across cluster]\u001B[0m\n"
     ]
    },
    {
     "name": "stderr",
     "output_type": "stream",
     "text": [
      "INFO flwr 2023-09-03 20:12:15,370 | fl_server.py:112 | fit progress: (12, 0.05238154, {'auc': 0.839884522327851}, 1853.2449345999921)\n",
      "INFO flwr 2023-09-03 20:12:15,371 | fl_server.py:159 | evaluate_round 12: no clients selected, cancel\n",
      "DEBUG flwr 2023-09-03 20:12:15,372 | fl_server.py:226 | fit_round 13: strategy sampled 5 clients (out of 10)\n"
     ]
    },
    {
     "name": "stdout",
     "output_type": "stream",
     "text": [
      "testset mse 0.05238154157996178 and auc 0.839884522327851\n",
      "Evaluation on the server: test_mse=0.0524, test_auc=0.8399\n",
      "Configuring round 13\n",
      "\u001B[2m\u001B[36m(launch_and_fit pid=27052)\u001B[0m binary client\n",
      "\u001B[2m\u001B[36m(launch_and_fit pid=27052)\u001B[0m Client 2 aggregated_trees length 5\n",
      "\u001B[2m\u001B[36m(launch_and_fit pid=27052)\u001B[0m Client 2: recieved 5 trees\n",
      "\u001B[2m\u001B[36m(launch_and_fit pid=5360)\u001B[0m Client 4: training for 2 iterations/updates\n",
      "\u001B[2m\u001B[36m(launch_and_fit pid=2904)\u001B[0m binary client\u001B[32m [repeated 4x across cluster]\u001B[0m\n",
      "\u001B[2m\u001B[36m(launch_and_fit pid=2904)\u001B[0m Client 3 aggregated_trees length 5\u001B[32m [repeated 4x across cluster]\u001B[0m\n",
      "\u001B[2m\u001B[36m(launch_and_fit pid=2904)\u001B[0m Client 3: recieved 5 trees\u001B[32m [repeated 4x across cluster]\u001B[0m\n"
     ]
    },
    {
     "name": "stderr",
     "output_type": "stream",
     "text": [
      "DEBUG flwr 2023-09-03 20:13:14,761 | fl_server.py:241 | fit_round 13 received 5 results and 0 failures\n"
     ]
    },
    {
     "name": "stdout",
     "output_type": "stream",
     "text": [
      "Server side aggregated 5 trees.\n",
      "serverside task_type binary\n"
     ]
    },
    {
     "name": "stderr",
     "output_type": "stream",
     "text": [
      "INFO flwr 2023-09-03 20:14:01,328 | fl_server.py:112 | fit progress: (13, 0.05310229, {'auc': 0.8427362318987169}, 1959.2017497000052)\n",
      "INFO flwr 2023-09-03 20:14:01,329 | fl_server.py:159 | evaluate_round 13: no clients selected, cancel\n",
      "DEBUG flwr 2023-09-03 20:14:01,329 | fl_server.py:226 | fit_round 14: strategy sampled 5 clients (out of 10)\n"
     ]
    },
    {
     "name": "stdout",
     "output_type": "stream",
     "text": [
      "testset mse 0.0531022883951664 and auc 0.8427362318987169\n",
      "Evaluation on the server: test_mse=0.0531, test_auc=0.8427\n",
      "Configuring round 14\n",
      "\u001B[2m\u001B[36m(launch_and_fit pid=27052)\u001B[0m Client 2: training for 2 iterations/updates\u001B[32m [repeated 4x across cluster]\u001B[0m\n",
      "\u001B[2m\u001B[36m(launch_and_fit pid=27052)\u001B[0m binary client\n",
      "\u001B[2m\u001B[36m(launch_and_fit pid=5360)\u001B[0m binary client\n",
      "\u001B[2m\u001B[36m(launch_and_fit pid=27052)\u001B[0m Client 4 aggregated_trees length 5\n",
      "\u001B[2m\u001B[36m(launch_and_fit pid=27052)\u001B[0m Client 4: recieved 5 trees\n",
      "\u001B[2m\u001B[36m(launch_and_fit pid=5360)\u001B[0m Client 6: training for 2 iterations/updates\n",
      "\u001B[2m\u001B[36m(launch_and_fit pid=2904)\u001B[0m binary client\u001B[32m [repeated 3x across cluster]\u001B[0m\n",
      "\u001B[2m\u001B[36m(launch_and_fit pid=2904)\u001B[0m Client 9 aggregated_trees length 5\u001B[32m [repeated 4x across cluster]\u001B[0m\n",
      "\u001B[2m\u001B[36m(launch_and_fit pid=2904)\u001B[0m Client 9: recieved 5 trees\u001B[32m [repeated 4x across cluster]\u001B[0m\n",
      "\u001B[2m\u001B[36m(launch_and_fit pid=2904)\u001B[0m Client 9: training for 2 iterations/updates\n"
     ]
    },
    {
     "name": "stderr",
     "output_type": "stream",
     "text": [
      "DEBUG flwr 2023-09-03 20:14:59,706 | fl_server.py:241 | fit_round 14 received 5 results and 0 failures\n"
     ]
    },
    {
     "name": "stdout",
     "output_type": "stream",
     "text": [
      "Server side aggregated 5 trees.\n",
      "serverside task_type binary\n"
     ]
    },
    {
     "name": "stderr",
     "output_type": "stream",
     "text": [
      "INFO flwr 2023-09-03 20:15:45,408 | fl_server.py:112 | fit progress: (14, 0.05222114, {'auc': 0.8319693256445566}, 2063.2827481999993)\n",
      "INFO flwr 2023-09-03 20:15:45,409 | fl_server.py:159 | evaluate_round 14: no clients selected, cancel\n",
      "DEBUG flwr 2023-09-03 20:15:45,409 | fl_server.py:226 | fit_round 15: strategy sampled 5 clients (out of 10)\n"
     ]
    },
    {
     "name": "stdout",
     "output_type": "stream",
     "text": [
      "testset mse 0.0522211417555809 and auc 0.8319693256445566\n",
      "Evaluation on the server: test_mse=0.0522, test_auc=0.8320\n",
      "Configuring round 15\n",
      "\u001B[2m\u001B[36m(launch_and_fit pid=27052)\u001B[0m binary client\n",
      "\u001B[2m\u001B[36m(launch_and_fit pid=27052)\u001B[0m Client 4: training for 2 iterations/updates\u001B[32m [repeated 3x across cluster]\u001B[0m\n",
      "\u001B[2m\u001B[36m(launch_and_fit pid=15232)\u001B[0m binary client\n",
      "\u001B[2m\u001B[36m(launch_and_fit pid=15232)\u001B[0m Client 1 aggregated_trees length 5\n",
      "\u001B[2m\u001B[36m(launch_and_fit pid=15232)\u001B[0m Client 1: recieved 5 trees\n",
      "\u001B[2m\u001B[36m(launch_and_fit pid=5360)\u001B[0m binary client\u001B[32m [repeated 3x across cluster]\u001B[0m\n",
      "\u001B[2m\u001B[36m(launch_and_fit pid=2904)\u001B[0m Client 0 aggregated_trees length 5\u001B[32m [repeated 4x across cluster]\u001B[0m\n",
      "\u001B[2m\u001B[36m(launch_and_fit pid=2904)\u001B[0m Client 0: recieved 5 trees\u001B[32m [repeated 4x across cluster]\u001B[0m\n",
      "\u001B[2m\u001B[36m(launch_and_fit pid=5360)\u001B[0m Client 6: training for 2 iterations/updates\n"
     ]
    },
    {
     "name": "stderr",
     "output_type": "stream",
     "text": [
      "DEBUG flwr 2023-09-03 20:18:03,044 | fl_server.py:241 | fit_round 15 received 5 results and 0 failures\n"
     ]
    },
    {
     "name": "stdout",
     "output_type": "stream",
     "text": [
      "Server side aggregated 5 trees.\n",
      "serverside task_type binary\n",
      "\u001B[2m\u001B[36m(launch_and_fit pid=2904)\u001B[0m Client 0: training for 2 iterations/updates\u001B[32m [repeated 4x across cluster]\u001B[0m\n"
     ]
    },
    {
     "name": "stderr",
     "output_type": "stream",
     "text": [
      "INFO flwr 2023-09-03 20:18:57,815 | fl_server.py:112 | fit progress: (15, 0.050524943, {'auc': 0.8622438660299732}, 2255.6888206999865)\n",
      "INFO flwr 2023-09-03 20:18:57,816 | fl_server.py:159 | evaluate_round 15: no clients selected, cancel\n",
      "DEBUG flwr 2023-09-03 20:18:57,816 | fl_server.py:226 | fit_round 16: strategy sampled 5 clients (out of 10)\n"
     ]
    },
    {
     "name": "stdout",
     "output_type": "stream",
     "text": [
      "testset mse 0.05052494257688522 and auc 0.8622438660299732\n",
      "Evaluation on the server: test_mse=0.0505, test_auc=0.8622\n",
      "Configuring round 16\n",
      "\u001B[2m\u001B[36m(launch_and_fit pid=27052)\u001B[0m binary client\n",
      "\u001B[2m\u001B[36m(launch_and_fit pid=27052)\u001B[0m Client 6 aggregated_trees length 5\n",
      "\u001B[2m\u001B[36m(launch_and_fit pid=27052)\u001B[0m Client 6: recieved 5 trees\n",
      "\u001B[2m\u001B[36m(launch_and_fit pid=5360)\u001B[0m binary client\u001B[32m [repeated 4x across cluster]\u001B[0m\n",
      "\u001B[2m\u001B[36m(launch_and_fit pid=15232)\u001B[0m Client 0 aggregated_trees length 5\u001B[32m [repeated 4x across cluster]\u001B[0m\n",
      "\u001B[2m\u001B[36m(launch_and_fit pid=15232)\u001B[0m Client 0: recieved 5 trees\u001B[32m [repeated 4x across cluster]\u001B[0m\n",
      "\u001B[2m\u001B[36m(launch_and_fit pid=5360)\u001B[0m Client 4: training for 2 iterations/updates\n"
     ]
    },
    {
     "name": "stderr",
     "output_type": "stream",
     "text": [
      "DEBUG flwr 2023-09-03 20:21:50,007 | fl_server.py:241 | fit_round 16 received 5 results and 0 failures\n"
     ]
    },
    {
     "name": "stdout",
     "output_type": "stream",
     "text": [
      "Server side aggregated 5 trees.\n",
      "serverside task_type binary\n",
      "\u001B[2m\u001B[36m(launch_and_fit pid=15232)\u001B[0m Client 0: training for 2 iterations/updates\u001B[32m [repeated 4x across cluster]\u001B[0m\n"
     ]
    },
    {
     "name": "stderr",
     "output_type": "stream",
     "text": [
      "INFO flwr 2023-09-03 20:22:36,804 | fl_server.py:112 | fit progress: (16, 0.052041993, {'auc': 0.836869446315622}, 2474.6788329999836)\n",
      "INFO flwr 2023-09-03 20:22:36,806 | fl_server.py:159 | evaluate_round 16: no clients selected, cancel\n",
      "DEBUG flwr 2023-09-03 20:22:36,807 | fl_server.py:226 | fit_round 17: strategy sampled 5 clients (out of 10)\n"
     ]
    },
    {
     "name": "stdout",
     "output_type": "stream",
     "text": [
      "testset mse 0.05204199254512787 and auc 0.836869446315622\n",
      "Evaluation on the server: test_mse=0.0520, test_auc=0.8369\n",
      "Configuring round 17\n",
      "\u001B[2m\u001B[36m(launch_and_fit pid=27052)\u001B[0m binary client\n",
      "\u001B[2m\u001B[36m(launch_and_fit pid=15232)\u001B[0m Client 3 aggregated_trees length 5\n",
      "\u001B[2m\u001B[36m(launch_and_fit pid=15232)\u001B[0m Client 3: recieved 5 trees\n",
      "\u001B[2m\u001B[36m(launch_and_fit pid=5360)\u001B[0m binary client\u001B[32m [repeated 4x across cluster]\u001B[0m\n",
      "\u001B[2m\u001B[36m(launch_and_fit pid=27052)\u001B[0m Client 0 aggregated_trees length 5\u001B[32m [repeated 4x across cluster]\u001B[0m\n",
      "\u001B[2m\u001B[36m(launch_and_fit pid=27052)\u001B[0m Client 0: recieved 5 trees\u001B[32m [repeated 4x across cluster]\u001B[0m\n",
      "\u001B[2m\u001B[36m(launch_and_fit pid=5360)\u001B[0m Client 6: training for 2 iterations/updates\n"
     ]
    },
    {
     "name": "stderr",
     "output_type": "stream",
     "text": [
      "DEBUG flwr 2023-09-03 20:24:55,921 | fl_server.py:241 | fit_round 17 received 5 results and 0 failures\n"
     ]
    },
    {
     "name": "stdout",
     "output_type": "stream",
     "text": [
      "\u001B[2m\u001B[36m(launch_and_fit pid=27052)\u001B[0m Client 0: training for 2 iterations/updates\u001B[32m [repeated 4x across cluster]\u001B[0m\n",
      "Server side aggregated 5 trees.\n",
      "serverside task_type binary\n"
     ]
    },
    {
     "name": "stderr",
     "output_type": "stream",
     "text": [
      "INFO flwr 2023-09-03 20:25:50,524 | fl_server.py:112 | fit progress: (17, 0.05063753, {'auc': 0.8621424431428156}, 2668.398109300004)\n",
      "INFO flwr 2023-09-03 20:25:50,525 | fl_server.py:159 | evaluate_round 17: no clients selected, cancel\n",
      "DEBUG flwr 2023-09-03 20:25:50,525 | fl_server.py:226 | fit_round 18: strategy sampled 5 clients (out of 10)\n"
     ]
    },
    {
     "name": "stdout",
     "output_type": "stream",
     "text": [
      "testset mse 0.05063752830028534 and auc 0.8621424431428156\n",
      "Evaluation on the server: test_mse=0.0506, test_auc=0.8621\n",
      "Configuring round 18\n",
      "\u001B[2m\u001B[36m(launch_and_fit pid=27052)\u001B[0m binary client\n",
      "\u001B[2m\u001B[36m(launch_and_fit pid=27052)\u001B[0m Client 4 aggregated_trees length 5\n",
      "\u001B[2m\u001B[36m(launch_and_fit pid=27052)\u001B[0m Client 4: recieved 5 trees\n",
      "\u001B[2m\u001B[36m(launch_and_fit pid=2904)\u001B[0m binary client\u001B[32m [repeated 4x across cluster]\u001B[0m\n",
      "\u001B[2m\u001B[36m(launch_and_fit pid=2904)\u001B[0m Client 0 aggregated_trees length 5\u001B[32m [repeated 4x across cluster]\u001B[0m\n",
      "\u001B[2m\u001B[36m(launch_and_fit pid=2904)\u001B[0m Client 0: recieved 5 trees\u001B[32m [repeated 4x across cluster]\u001B[0m\n",
      "\u001B[2m\u001B[36m(launch_and_fit pid=5360)\u001B[0m Client 5: training for 2 iterations/updates\n"
     ]
    },
    {
     "name": "stderr",
     "output_type": "stream",
     "text": [
      "DEBUG flwr 2023-09-03 20:28:39,558 | fl_server.py:241 | fit_round 18 received 5 results and 0 failures\n"
     ]
    },
    {
     "name": "stdout",
     "output_type": "stream",
     "text": [
      "Server side aggregated 5 trees.\n",
      "serverside task_type binary\n",
      "\u001B[2m\u001B[36m(launch_and_fit pid=2904)\u001B[0m Client 0: training for 2 iterations/updates\u001B[32m [repeated 4x across cluster]\u001B[0m\n"
     ]
    },
    {
     "name": "stderr",
     "output_type": "stream",
     "text": [
      "INFO flwr 2023-09-03 20:29:25,348 | fl_server.py:112 | fit progress: (18, 0.051823933, {'auc': 0.8337172165720457}, 2883.22311359999)\n",
      "INFO flwr 2023-09-03 20:29:25,349 | fl_server.py:159 | evaluate_round 18: no clients selected, cancel\n",
      "DEBUG flwr 2023-09-03 20:29:25,350 | fl_server.py:226 | fit_round 19: strategy sampled 5 clients (out of 10)\n"
     ]
    },
    {
     "name": "stdout",
     "output_type": "stream",
     "text": [
      "testset mse 0.0518239326775074 and auc 0.8337172165720457\n",
      "Evaluation on the server: test_mse=0.0518, test_auc=0.8337\n",
      "Configuring round 19\n",
      "\u001B[2m\u001B[36m(launch_and_fit pid=27052)\u001B[0m binary client\n",
      "\u001B[2m\u001B[36m(launch_and_fit pid=5360)\u001B[0m Client 8 aggregated_trees length 5\n",
      "\u001B[2m\u001B[36m(launch_and_fit pid=5360)\u001B[0m Client 8: recieved 5 trees\n",
      "\u001B[2m\u001B[36m(launch_and_fit pid=2904)\u001B[0m binary client\u001B[32m [repeated 4x across cluster]\u001B[0m\n",
      "\u001B[2m\u001B[36m(launch_and_fit pid=27052)\u001B[0m Client 0 aggregated_trees length 5\u001B[32m [repeated 4x across cluster]\u001B[0m\n",
      "\u001B[2m\u001B[36m(launch_and_fit pid=27052)\u001B[0m Client 0: recieved 5 trees\u001B[32m [repeated 4x across cluster]\u001B[0m\n",
      "\u001B[2m\u001B[36m(launch_and_fit pid=2904)\u001B[0m Client 4: training for 2 iterations/updates\n"
     ]
    },
    {
     "name": "stderr",
     "output_type": "stream",
     "text": [
      "DEBUG flwr 2023-09-03 20:31:43,649 | fl_server.py:241 | fit_round 19 received 5 results and 0 failures\n"
     ]
    },
    {
     "name": "stdout",
     "output_type": "stream",
     "text": [
      "\u001B[2m\u001B[36m(launch_and_fit pid=27052)\u001B[0m Client 0: training for 2 iterations/updates\u001B[32m [repeated 4x across cluster]\u001B[0m\n",
      "Server side aggregated 5 trees.\n",
      "serverside task_type binary\n"
     ]
    },
    {
     "name": "stderr",
     "output_type": "stream",
     "text": [
      "INFO flwr 2023-09-03 20:32:39,163 | fl_server.py:112 | fit progress: (19, 0.04972549, {'auc': 0.8626380182877814}, 3077.0374143999943)\n",
      "INFO flwr 2023-09-03 20:32:39,164 | fl_server.py:159 | evaluate_round 19: no clients selected, cancel\n",
      "DEBUG flwr 2023-09-03 20:32:39,164 | fl_server.py:226 | fit_round 20: strategy sampled 5 clients (out of 10)\n"
     ]
    },
    {
     "name": "stdout",
     "output_type": "stream",
     "text": [
      "testset mse 0.049725491553545 and auc 0.8626380182877814\n",
      "Evaluation on the server: test_mse=0.0497, test_auc=0.8626\n",
      "Configuring round 20\n",
      "\u001B[2m\u001B[36m(launch_and_fit pid=27052)\u001B[0m binary client\n",
      "\u001B[2m\u001B[36m(launch_and_fit pid=27052)\u001B[0m Client 4 aggregated_trees length 5\n",
      "\u001B[2m\u001B[36m(launch_and_fit pid=27052)\u001B[0m Client 4: recieved 5 trees\n",
      "\u001B[2m\u001B[36m(launch_and_fit pid=5360)\u001B[0m Client 8: training for 2 iterations/updates\n",
      "\u001B[2m\u001B[36m(launch_and_fit pid=2904)\u001B[0m binary client\u001B[32m [repeated 4x across cluster]\u001B[0m\n",
      "\u001B[2m\u001B[36m(launch_and_fit pid=2904)\u001B[0m Client 5 aggregated_trees length 5\u001B[32m [repeated 4x across cluster]\u001B[0m\n",
      "\u001B[2m\u001B[36m(launch_and_fit pid=2904)\u001B[0m Client 5: recieved 5 trees\u001B[32m [repeated 4x across cluster]\u001B[0m\n"
     ]
    },
    {
     "name": "stderr",
     "output_type": "stream",
     "text": [
      "DEBUG flwr 2023-09-03 20:34:13,746 | fl_server.py:241 | fit_round 20 received 5 results and 0 failures\n"
     ]
    },
    {
     "name": "stdout",
     "output_type": "stream",
     "text": [
      "Server side aggregated 5 trees.\n",
      "serverside task_type binary\n"
     ]
    },
    {
     "name": "stderr",
     "output_type": "stream",
     "text": [
      "INFO flwr 2023-09-03 20:35:04,954 | fl_server.py:112 | fit progress: (20, 0.05192524, {'auc': 0.8340939619521088}, 3222.8282445999794)\n",
      "INFO flwr 2023-09-03 20:35:04,955 | fl_server.py:159 | evaluate_round 20: no clients selected, cancel\n",
      "INFO flwr 2023-09-03 20:35:04,956 | fl_server.py:140 | FL finished in 3222.830100799998\n",
      "INFO flwr 2023-09-03 20:35:04,956 | app.py:225 | app_fit: losses_distributed []\n",
      "INFO flwr 2023-09-03 20:35:04,957 | app.py:226 | app_fit: metrics_distributed_fit {}\n",
      "INFO flwr 2023-09-03 20:35:04,958 | app.py:227 | app_fit: metrics_distributed {}\n",
      "INFO flwr 2023-09-03 20:35:04,958 | app.py:228 | app_fit: losses_centralized [(0, 0.22171843), (1, 0.15321699), (2, 0.08902228), (3, 0.059161145), (4, 0.053995516), (5, 0.05542136), (6, 0.054033875), (7, 0.052959252), (8, 0.05230207), (9, 0.05335706), (10, 0.052797854), (11, 0.053144783), (12, 0.05238154), (13, 0.05310229), (14, 0.05222114), (15, 0.050524943), (16, 0.052041993), (17, 0.05063753), (18, 0.051823933), (19, 0.04972549), (20, 0.05192524)]\n",
      "INFO flwr 2023-09-03 20:35:04,959 | app.py:229 | app_fit: metrics_centralized {'auc': [(0, 0.7326713864265602), (1, 0.8313777054917978), (2, 0.8403233270111791), (3, 0.8384307942785916), (4, 0.836179127830483), (5, 0.8415302780662798), (6, 0.8373014663233277), (7, 0.8422772690715451), (8, 0.8633604615887281), (9, 0.8414555130778273), (10, 0.8375925306882809), (11, 0.8381852371014412), (12, 0.839884522327851), (13, 0.8427362318987169), (14, 0.8319693256445566), (15, 0.8622438660299732), (16, 0.836869446315622), (17, 0.8621424431428156), (18, 0.8337172165720457), (19, 0.8626380182877814), (20, 0.8340939619521088)]}\n"
     ]
    },
    {
     "name": "stdout",
     "output_type": "stream",
     "text": [
      "testset mse 0.051925238221883774 and auc 0.8340939619521088\n",
      "Evaluation on the server: test_mse=0.0519, test_auc=0.8341\n",
      "History (loss, centralized):\n",
      "\tround 0: 0.221718430519104\n",
      "\tround 1: 0.15321698784828186\n",
      "\tround 2: 0.08902227878570557\n",
      "\tround 3: 0.059161145240068436\n",
      "\tround 4: 0.053995516151189804\n",
      "\tround 5: 0.055421359837055206\n",
      "\tround 6: 0.054033875465393066\n",
      "\tround 7: 0.05295925214886665\n",
      "\tround 8: 0.05230206996202469\n",
      "\tround 9: 0.05335706099867821\n",
      "\tround 10: 0.05279785394668579\n",
      "\tround 11: 0.05314478278160095\n",
      "\tround 12: 0.05238154157996178\n",
      "\tround 13: 0.0531022883951664\n",
      "\tround 14: 0.0522211417555809\n",
      "\tround 15: 0.05052494257688522\n",
      "\tround 16: 0.05204199254512787\n",
      "\tround 17: 0.05063752830028534\n",
      "\tround 18: 0.0518239326775074\n",
      "\tround 19: 0.049725491553545\n",
      "\tround 20: 0.051925238221883774\n",
      "History (metrics, centralized):\n",
      "{'auc': [(0, 0.7326713864265602), (1, 0.8313777054917978), (2, 0.8403233270111791), (3, 0.8384307942785916), (4, 0.836179127830483), (5, 0.8415302780662798), (6, 0.8373014663233277), (7, 0.8422772690715451), (8, 0.8633604615887281), (9, 0.8414555130778273), (10, 0.8375925306882809), (11, 0.8381852371014412), (12, 0.839884522327851), (13, 0.8427362318987169), (14, 0.8319693256445566), (15, 0.8622438660299732), (16, 0.836869446315622), (17, 0.8621424431428156), (18, 0.8337172165720457), (19, 0.8626380182877814), (20, 0.8340939619521088)]}\n",
      "[(0, 0.22171843), (1, 0.15321699), (2, 0.08902228), (3, 0.059161145), (4, 0.053995516), (5, 0.05542136), (6, 0.054033875), (7, 0.052959252), (8, 0.05230207), (9, 0.05335706), (10, 0.052797854), (11, 0.053144783), (12, 0.05238154), (13, 0.05310229), (14, 0.05222114), (15, 0.050524943), (16, 0.052041993), (17, 0.05063753), (18, 0.051823933), (19, 0.04972549), (20, 0.05192524)]\n",
      "Fold 2:\n",
      "[0.8, 0.03, 0.03, 0.02, 0.02, 0.02, 0.02, 0.02, 0.02, 0.02]\n",
      "Training time 0:55:01.605883\n"
     ]
    }
   ],
   "source": [
    "split = [0.8, 0.03, 0.03, 0.02, 0.02, 0.02, 0.02, 0.02, 0.02, 0.02]\n",
    "do_fl(split)"
   ],
   "metadata": {
    "collapsed": false,
    "ExecuteTime": {
     "end_time": "2023-09-03T19:35:05.029407700Z",
     "start_time": "2023-09-03T18:40:03.406342400Z"
    }
   }
  },
  {
   "cell_type": "code",
   "execution_count": null,
   "outputs": [],
   "source": [],
   "metadata": {
    "collapsed": false
   }
  }
 ],
 "metadata": {
  "colab": {
   "provenance": []
  },
  "gpuClass": "premium",
  "kernelspec": {
   "display_name": "FedXGBoost",
   "language": "python",
   "name": "python3"
  }
 },
 "nbformat": 4,
 "nbformat_minor": 0
}
