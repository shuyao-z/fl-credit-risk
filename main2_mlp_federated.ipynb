{
 "cells": [
  {
   "cell_type": "code",
   "execution_count": 1,
   "metadata": {
    "collapsed": true,
    "ExecuteTime": {
     "end_time": "2023-08-31T16:47:18.142314700Z",
     "start_time": "2023-08-31T16:47:14.506019500Z"
    }
   },
   "outputs": [],
   "source": [
    "import pandas as pd\n",
    "import numpy as np\n",
    "import torch\n",
    "import datetime\n",
    "import itertools\n",
    "import os\n",
    "from sklearn.metrics import mean_squared_error, roc_auc_score\n",
    "from sklearn.model_selection import StratifiedKFold"
   ]
  },
  {
   "cell_type": "code",
   "execution_count": 2,
   "outputs": [
    {
     "name": "stdout",
     "output_type": "stream",
     "text": [
      "Training on cpu using PyTorch 1.13.1+cpu\n",
      "main2_mlp_federated\n"
     ]
    }
   ],
   "source": [
    "if torch.cuda.is_available():\n",
    "    DEVICE = torch.device(\"cuda\")\n",
    "else:\n",
    "    DEVICE = torch.device(\"cpu\")\n",
    "\n",
    "print(f\"Training on {DEVICE} using PyTorch {torch.__version__}\")\n",
    "print('main2_mlp_federated')"
   ],
   "metadata": {
    "collapsed": false,
    "ExecuteTime": {
     "end_time": "2023-08-31T16:47:18.460402200Z",
     "start_time": "2023-08-31T16:47:18.440378300Z"
    }
   }
  },
  {
   "cell_type": "code",
   "execution_count": 3,
   "outputs": [],
   "source": [
    "# Load data\n",
    "X = torch.load('./dataset2/X_mlp.pt')\n",
    "y = torch.load('./dataset2/y_mlp.pt')"
   ],
   "metadata": {
    "collapsed": false,
    "ExecuteTime": {
     "end_time": "2023-08-31T16:47:20.956561600Z",
     "start_time": "2023-08-31T16:47:19.246048300Z"
    }
   }
  },
  {
   "cell_type": "code",
   "execution_count": 4,
   "outputs": [],
   "source": [
    "def test(net, x_test, y_test):\n",
    "  with torch.no_grad():\n",
    "    y_pred = net(x_test)\n",
    "    y_pred = y_pred.detach().numpy()\n",
    "    y_test = y_test.detach().numpy()\n",
    "\n",
    "    mse = mean_squared_error(y_test, y_pred)\n",
    "    auc = roc_auc_score(y_test, y_pred)\n",
    "    return mse, auc"
   ],
   "metadata": {
    "collapsed": false,
    "ExecuteTime": {
     "end_time": "2023-08-31T16:47:20.969524300Z",
     "start_time": "2023-08-31T16:47:20.956561600Z"
    }
   }
  },
  {
   "cell_type": "code",
   "execution_count": 5,
   "outputs": [],
   "source": [
    "#from sklearn.model_selection import train_test_split\n",
    "#X_train, X_test, y_train, y_test = train_test_split(X, y, test_size=0.2, stratify=y, random_state=4)\n",
    "#print(type(X_train))"
   ],
   "metadata": {
    "collapsed": false,
    "ExecuteTime": {
     "end_time": "2023-08-31T16:47:22.033547200Z",
     "start_time": "2023-08-31T16:47:22.006634500Z"
    }
   }
  },
  {
   "cell_type": "code",
   "execution_count": 6,
   "outputs": [
    {
     "name": "stderr",
     "output_type": "stream",
     "text": [
      "D:\\FD\\venv\\lib\\site-packages\\torchvision\\io\\image.py:13: UserWarning: Failed to load image Python extension: '[WinError 127] 找不到指定的程序。'If you don't plan on using image functionality from `torchvision.io`, you can ignore this warning. Otherwise, there might be something wrong with your environment. Did you have `libjpeg` or `libpng` installed before building `torchvision` from source?\n",
      "  warn(\n"
     ]
    }
   ],
   "source": [
    "# Define MLP FL simulation wrapper\n",
    "from fl_simu import mlp_simulation2\n",
    "\n",
    "def run_simulation(split, X_train, y_train, X_test, y_test,dir='default', num_epoch=1, batch_size=32, num_rounds=1, dropout=False, history_dir='./history/example.txt'):\n",
    "    return mlp_simulation2(split, X_train, y_train, X_test, y_test, dir, num_epoch=num_epoch, batch_size=batch_size, num_rounds=num_rounds, dropout=dropout, history_dir=history_dir)"
   ],
   "metadata": {
    "collapsed": false,
    "ExecuteTime": {
     "end_time": "2023-08-31T16:47:25.964108700Z",
     "start_time": "2023-08-31T16:47:22.484228700Z"
    }
   }
  },
  {
   "cell_type": "code",
   "execution_count": 7,
   "outputs": [],
   "source": [
    "num_epochs_list = [2]\n",
    "batch_size_list = [32]\n",
    "num_rounds_list = [25] # 15\n",
    "dropout_list = [0]"
   ],
   "metadata": {
    "collapsed": false,
    "ExecuteTime": {
     "end_time": "2023-08-31T16:47:26.036914Z",
     "start_time": "2023-08-31T16:47:25.969096Z"
    }
   }
  },
  {
   "cell_type": "code",
   "execution_count": 8,
   "outputs": [],
   "source": [
    "\n",
    "test_name = 'dataset 2 MLP federated'\n",
    "\n",
    "directory_path = 'model_checkpoints2/' + test_name\n",
    "\n",
    "# # Check if the directory exists, and if not, create it\n",
    "if not os.path.exists(directory_path):\n",
    "    os.makedirs(directory_path)\n",
    "\n",
    "def do_fl(splitting, X=X, y=y):\n",
    "\n",
    "    start = datetime.datetime.now()\n",
    "    mses = []\n",
    "    aucs = []\n",
    "\n",
    "    kf = StratifiedKFold(n_splits=5, shuffle=True, random_state=42)\n",
    "\n",
    "    X = X.to_numpy()\n",
    "    y = y.to_numpy()\n",
    "\n",
    "    flag = 1\n",
    "\n",
    "    for fold_idx, (train_idx, test_idx) in enumerate(kf.split(X, y)):\n",
    "        print(f\"Fold {fold_idx + 1}:\")\n",
    "\n",
    "        if flag == 2:\n",
    "            break\n",
    "\n",
    "        X_train, X_test = X[train_idx], X[test_idx]\n",
    "        y_train, y_test = y[train_idx], y[test_idx]\n",
    "\n",
    "        X_train = torch.tensor(X_train)\n",
    "        X_test = torch.tensor(X_test)\n",
    "        y_train = torch.reshape(torch.tensor(y_train), (-1, 1))\n",
    "        y_test = torch.reshape(torch.tensor(y_test), (-1, 1))\n",
    "\n",
    "        X_test = X_test.to(DEVICE)\n",
    "        y_test = y_test.to(DEVICE)\n",
    "\n",
    "        print(f'x_test: {X_test.device}')\n",
    "        print(f'y_test: {y_test.device}')\n",
    "\n",
    "        for batch_size, num_epoch, num_rounds, dropout in itertools.product(\n",
    "                batch_size_list,\n",
    "                num_epochs_list,\n",
    "                num_rounds_list,\n",
    "                dropout_list):\n",
    "\n",
    "\n",
    "            filename = 'mlp_batch_'+ str(batch_size) + '_epochs_' + str(num_epoch) + '_rounds_' + str(num_rounds) + '_loss.csv'\n",
    "\n",
    "            history_dir = './history/dataset2/' + filename\n",
    "\n",
    "\n",
    "            model_fl = run_simulation(splitting, X_train, y_train, X_test, y_test,test_name, batch_size=batch_size, num_epoch=num_epoch, num_rounds=num_rounds, history_dir=history_dir, dropout=dropout, )\n",
    "\n",
    "            model_fl.cpu()\n",
    "\n",
    "            X_test = X_test.cpu()\n",
    "            y_test = y_test.cpu()\n",
    "\n",
    "            mse, auc= test(model_fl, X_test, y_test)\n",
    "            mses.append(mse)\n",
    "            aucs.append(auc)\n",
    "\n",
    "            flag += 1\n",
    "\n",
    "    end = datetime.datetime.now()\n",
    "    time = end - start\n",
    "\n",
    "    print('splitting', splitting)\n",
    "    print('time', time)\n",
    "    print('mse', mses)\n",
    "    print('auc', aucs)\n",
    "\n"
   ],
   "metadata": {
    "collapsed": false,
    "ExecuteTime": {
     "end_time": "2023-08-31T16:47:26.052869700Z",
     "start_time": "2023-08-31T16:47:25.997020800Z"
    }
   }
  },
  {
   "cell_type": "code",
   "execution_count": 9,
   "outputs": [
    {
     "name": "stdout",
     "output_type": "stream",
     "text": [
      "Fold 1:\n",
      "x_test: cpu\n",
      "y_test: cpu\n"
     ]
    },
    {
     "name": "stderr",
     "output_type": "stream",
     "text": [
      "INFO flwr 2023-08-31 17:47:30,148 | app.py:145 | Starting Flower simulation, config: ServerConfig(num_rounds=25, round_timeout=None)\n"
     ]
    },
    {
     "name": "stdout",
     "output_type": "stream",
     "text": [
      "Client 0 trainset shape torch.Size([226178, 120])\n",
      "Client 1 trainset shape torch.Size([226118, 120])\n",
      "FL started training on cpu\n",
      "Number of available GPUs: 0\n"
     ]
    },
    {
     "name": "stderr",
     "output_type": "stream",
     "text": [
      "2023-08-31 17:47:38,221\tINFO worker.py:1627 -- Started a local Ray instance. View the dashboard at \u001B[1m\u001B[32m127.0.0.1:8268 \u001B[39m\u001B[22m\n",
      "INFO flwr 2023-08-31 17:47:48,710 | app.py:179 | Flower VCE: Ray initialized with resources: {'memory': 1233194190.0, 'object_store_memory': 616597094.0, 'node:127.0.0.1': 1.0, 'CPU': 8.0, 'GPU': 1.0}\n",
      "INFO flwr 2023-08-31 17:47:48,713 | server.py:89 | Initializing global parameters\n",
      "INFO flwr 2023-08-31 17:47:48,714 | server.py:276 | Requesting initial parameters from one random client\n",
      "INFO flwr 2023-08-31 17:47:57,083 | server.py:280 | Received initial parameters from one random client\n",
      "INFO flwr 2023-08-31 17:47:57,087 | server.py:91 | Evaluating initial parameters\n",
      "INFO flwr 2023-08-31 17:47:57,090 | server.py:104 | FL starting\n",
      "DEBUG flwr 2023-08-31 17:47:57,093 | server.py:222 | fit_round 1: strategy sampled 2 clients (out of 2)\n",
      "DEBUG flwr 2023-08-31 17:49:04,657 | server.py:236 | fit_round 1 received 2 results and 0 failures\n",
      "WARNING flwr 2023-08-31 17:49:04,667 | fedavg.py:242 | No fit_metrics_aggregation_fn provided\n",
      "DEBUG flwr 2023-08-31 17:49:04,682 | server.py:173 | evaluate_round 1: strategy sampled 2 clients (out of 2)\n"
     ]
    },
    {
     "name": "stdout",
     "output_type": "stream",
     "text": [
      "agrregate_fit results list length is  2\n",
      "Saving round 1 aggregated_parameters...\n"
     ]
    },
    {
     "name": "stderr",
     "output_type": "stream",
     "text": [
      "DEBUG flwr 2023-08-31 17:49:07,793 | server.py:187 | evaluate_round 1 received 2 results and 0 failures\n",
      "DEBUG flwr 2023-08-31 17:49:07,795 | server.py:222 | fit_round 2: strategy sampled 2 clients (out of 2)\n"
     ]
    },
    {
     "name": "stdout",
     "output_type": "stream",
     "text": [
      "agrregate_evaluate results list length is  2\n",
      "server round is  1\n",
      "loss is  0.21264789998531342\n"
     ]
    },
    {
     "name": "stderr",
     "output_type": "stream",
     "text": [
      "DEBUG flwr 2023-08-31 17:50:11,793 | server.py:236 | fit_round 2 received 2 results and 0 failures\n",
      "DEBUG flwr 2023-08-31 17:50:11,807 | server.py:173 | evaluate_round 2: strategy sampled 2 clients (out of 2)\n"
     ]
    },
    {
     "name": "stdout",
     "output_type": "stream",
     "text": [
      "agrregate_fit results list length is  2\n",
      "Saving round 2 aggregated_parameters...\n"
     ]
    },
    {
     "name": "stderr",
     "output_type": "stream",
     "text": [
      "DEBUG flwr 2023-08-31 17:50:14,103 | server.py:187 | evaluate_round 2 received 2 results and 0 failures\n",
      "DEBUG flwr 2023-08-31 17:50:14,105 | server.py:222 | fit_round 3: strategy sampled 2 clients (out of 2)\n"
     ]
    },
    {
     "name": "stdout",
     "output_type": "stream",
     "text": [
      "agrregate_evaluate results list length is  2\n",
      "server round is  2\n",
      "loss is  0.20469626784324646\n"
     ]
    },
    {
     "name": "stderr",
     "output_type": "stream",
     "text": [
      "DEBUG flwr 2023-08-31 17:51:18,126 | server.py:236 | fit_round 3 received 2 results and 0 failures\n",
      "DEBUG flwr 2023-08-31 17:51:18,139 | server.py:173 | evaluate_round 3: strategy sampled 2 clients (out of 2)\n"
     ]
    },
    {
     "name": "stdout",
     "output_type": "stream",
     "text": [
      "agrregate_fit results list length is  2\n",
      "Saving round 3 aggregated_parameters...\n"
     ]
    },
    {
     "name": "stderr",
     "output_type": "stream",
     "text": [
      "DEBUG flwr 2023-08-31 17:51:20,484 | server.py:187 | evaluate_round 3 received 2 results and 0 failures\n",
      "DEBUG flwr 2023-08-31 17:51:20,485 | server.py:222 | fit_round 4: strategy sampled 2 clients (out of 2)\n"
     ]
    },
    {
     "name": "stdout",
     "output_type": "stream",
     "text": [
      "agrregate_evaluate results list length is  2\n",
      "server round is  3\n",
      "loss is  0.20167231559753418\n"
     ]
    },
    {
     "name": "stderr",
     "output_type": "stream",
     "text": [
      "DEBUG flwr 2023-08-31 17:52:20,714 | server.py:236 | fit_round 4 received 2 results and 0 failures\n",
      "DEBUG flwr 2023-08-31 17:52:20,743 | server.py:173 | evaluate_round 4: strategy sampled 2 clients (out of 2)\n"
     ]
    },
    {
     "name": "stdout",
     "output_type": "stream",
     "text": [
      "agrregate_fit results list length is  2\n",
      "Saving round 4 aggregated_parameters...\n"
     ]
    },
    {
     "name": "stderr",
     "output_type": "stream",
     "text": [
      "DEBUG flwr 2023-08-31 17:52:22,826 | server.py:187 | evaluate_round 4 received 2 results and 0 failures\n",
      "DEBUG flwr 2023-08-31 17:52:22,827 | server.py:222 | fit_round 5: strategy sampled 2 clients (out of 2)\n"
     ]
    },
    {
     "name": "stdout",
     "output_type": "stream",
     "text": [
      "agrregate_evaluate results list length is  2\n",
      "server round is  4\n",
      "loss is  0.19934159517288208\n"
     ]
    },
    {
     "name": "stderr",
     "output_type": "stream",
     "text": [
      "DEBUG flwr 2023-08-31 17:53:24,771 | server.py:236 | fit_round 5 received 2 results and 0 failures\n",
      "DEBUG flwr 2023-08-31 17:53:24,785 | server.py:173 | evaluate_round 5: strategy sampled 2 clients (out of 2)\n"
     ]
    },
    {
     "name": "stdout",
     "output_type": "stream",
     "text": [
      "agrregate_fit results list length is  2\n",
      "Saving round 5 aggregated_parameters...\n"
     ]
    },
    {
     "name": "stderr",
     "output_type": "stream",
     "text": [
      "DEBUG flwr 2023-08-31 17:53:27,006 | server.py:187 | evaluate_round 5 received 2 results and 0 failures\n",
      "DEBUG flwr 2023-08-31 17:53:27,017 | server.py:222 | fit_round 6: strategy sampled 2 clients (out of 2)\n"
     ]
    },
    {
     "name": "stdout",
     "output_type": "stream",
     "text": [
      "agrregate_evaluate results list length is  2\n",
      "server round is  5\n",
      "loss is  0.20020543038845062\n"
     ]
    },
    {
     "name": "stderr",
     "output_type": "stream",
     "text": [
      "DEBUG flwr 2023-08-31 17:54:33,693 | server.py:236 | fit_round 6 received 2 results and 0 failures\n",
      "DEBUG flwr 2023-08-31 17:54:33,708 | server.py:173 | evaluate_round 6: strategy sampled 2 clients (out of 2)\n"
     ]
    },
    {
     "name": "stdout",
     "output_type": "stream",
     "text": [
      "agrregate_fit results list length is  2\n",
      "Saving round 6 aggregated_parameters...\n"
     ]
    },
    {
     "name": "stderr",
     "output_type": "stream",
     "text": [
      "DEBUG flwr 2023-08-31 17:54:35,794 | server.py:187 | evaluate_round 6 received 2 results and 0 failures\n",
      "DEBUG flwr 2023-08-31 17:54:35,795 | server.py:222 | fit_round 7: strategy sampled 2 clients (out of 2)\n"
     ]
    },
    {
     "name": "stdout",
     "output_type": "stream",
     "text": [
      "agrregate_evaluate results list length is  2\n",
      "server round is  6\n",
      "loss is  0.1985892653465271\n"
     ]
    },
    {
     "name": "stderr",
     "output_type": "stream",
     "text": [
      "DEBUG flwr 2023-08-31 17:55:40,109 | server.py:236 | fit_round 7 received 2 results and 0 failures\n",
      "DEBUG flwr 2023-08-31 17:55:40,135 | server.py:173 | evaluate_round 7: strategy sampled 2 clients (out of 2)\n"
     ]
    },
    {
     "name": "stdout",
     "output_type": "stream",
     "text": [
      "agrregate_fit results list length is  2\n",
      "Saving round 7 aggregated_parameters...\n"
     ]
    },
    {
     "name": "stderr",
     "output_type": "stream",
     "text": [
      "DEBUG flwr 2023-08-31 17:55:42,792 | server.py:187 | evaluate_round 7 received 2 results and 0 failures\n",
      "DEBUG flwr 2023-08-31 17:55:42,793 | server.py:222 | fit_round 8: strategy sampled 2 clients (out of 2)\n"
     ]
    },
    {
     "name": "stdout",
     "output_type": "stream",
     "text": [
      "agrregate_evaluate results list length is  2\n",
      "server round is  7\n",
      "loss is  0.19811365008354187\n"
     ]
    },
    {
     "name": "stderr",
     "output_type": "stream",
     "text": [
      "DEBUG flwr 2023-08-31 17:56:45,056 | server.py:236 | fit_round 8 received 2 results and 0 failures\n",
      "DEBUG flwr 2023-08-31 17:56:45,072 | server.py:173 | evaluate_round 8: strategy sampled 2 clients (out of 2)\n"
     ]
    },
    {
     "name": "stdout",
     "output_type": "stream",
     "text": [
      "agrregate_fit results list length is  2\n",
      "Saving round 8 aggregated_parameters...\n"
     ]
    },
    {
     "name": "stderr",
     "output_type": "stream",
     "text": [
      "DEBUG flwr 2023-08-31 17:56:47,372 | server.py:187 | evaluate_round 8 received 2 results and 0 failures\n",
      "DEBUG flwr 2023-08-31 17:56:47,373 | server.py:222 | fit_round 9: strategy sampled 2 clients (out of 2)\n"
     ]
    },
    {
     "name": "stdout",
     "output_type": "stream",
     "text": [
      "agrregate_evaluate results list length is  2\n",
      "server round is  8\n",
      "loss is  0.19738562405109406\n"
     ]
    },
    {
     "name": "stderr",
     "output_type": "stream",
     "text": [
      "DEBUG flwr 2023-08-31 17:57:54,527 | server.py:236 | fit_round 9 received 2 results and 0 failures\n",
      "DEBUG flwr 2023-08-31 17:57:54,552 | server.py:173 | evaluate_round 9: strategy sampled 2 clients (out of 2)\n"
     ]
    },
    {
     "name": "stdout",
     "output_type": "stream",
     "text": [
      "agrregate_fit results list length is  2\n",
      "Saving round 9 aggregated_parameters...\n"
     ]
    },
    {
     "name": "stderr",
     "output_type": "stream",
     "text": [
      "DEBUG flwr 2023-08-31 17:57:56,790 | server.py:187 | evaluate_round 9 received 2 results and 0 failures\n",
      "DEBUG flwr 2023-08-31 17:57:56,791 | server.py:222 | fit_round 10: strategy sampled 2 clients (out of 2)\n"
     ]
    },
    {
     "name": "stdout",
     "output_type": "stream",
     "text": [
      "agrregate_evaluate results list length is  2\n",
      "server round is  9\n",
      "loss is  0.1976688951253891\n"
     ]
    },
    {
     "name": "stderr",
     "output_type": "stream",
     "text": [
      "DEBUG flwr 2023-08-31 17:58:59,970 | server.py:236 | fit_round 10 received 2 results and 0 failures\n",
      "DEBUG flwr 2023-08-31 17:58:59,995 | server.py:173 | evaluate_round 10: strategy sampled 2 clients (out of 2)\n"
     ]
    },
    {
     "name": "stdout",
     "output_type": "stream",
     "text": [
      "agrregate_fit results list length is  2\n",
      "Saving round 10 aggregated_parameters...\n"
     ]
    },
    {
     "name": "stderr",
     "output_type": "stream",
     "text": [
      "DEBUG flwr 2023-08-31 17:59:02,094 | server.py:187 | evaluate_round 10 received 2 results and 0 failures\n",
      "DEBUG flwr 2023-08-31 17:59:02,096 | server.py:222 | fit_round 11: strategy sampled 2 clients (out of 2)\n"
     ]
    },
    {
     "name": "stdout",
     "output_type": "stream",
     "text": [
      "agrregate_evaluate results list length is  2\n",
      "server round is  10\n",
      "loss is  0.19732984900474548\n"
     ]
    },
    {
     "name": "stderr",
     "output_type": "stream",
     "text": [
      "DEBUG flwr 2023-08-31 18:00:04,236 | server.py:236 | fit_round 11 received 2 results and 0 failures\n",
      "DEBUG flwr 2023-08-31 18:00:04,249 | server.py:173 | evaluate_round 11: strategy sampled 2 clients (out of 2)\n"
     ]
    },
    {
     "name": "stdout",
     "output_type": "stream",
     "text": [
      "agrregate_fit results list length is  2\n",
      "Saving round 11 aggregated_parameters...\n"
     ]
    },
    {
     "name": "stderr",
     "output_type": "stream",
     "text": [
      "DEBUG flwr 2023-08-31 18:00:06,266 | server.py:187 | evaluate_round 11 received 2 results and 0 failures\n",
      "DEBUG flwr 2023-08-31 18:00:06,267 | server.py:222 | fit_round 12: strategy sampled 2 clients (out of 2)\n"
     ]
    },
    {
     "name": "stdout",
     "output_type": "stream",
     "text": [
      "agrregate_evaluate results list length is  2\n",
      "server round is  11\n",
      "loss is  0.19633086025714874\n"
     ]
    },
    {
     "name": "stderr",
     "output_type": "stream",
     "text": [
      "DEBUG flwr 2023-08-31 18:01:06,914 | server.py:236 | fit_round 12 received 2 results and 0 failures\n",
      "DEBUG flwr 2023-08-31 18:01:06,928 | server.py:173 | evaluate_round 12: strategy sampled 2 clients (out of 2)\n"
     ]
    },
    {
     "name": "stdout",
     "output_type": "stream",
     "text": [
      "agrregate_fit results list length is  2\n",
      "Saving round 12 aggregated_parameters...\n"
     ]
    },
    {
     "name": "stderr",
     "output_type": "stream",
     "text": [
      "DEBUG flwr 2023-08-31 18:01:09,066 | server.py:187 | evaluate_round 12 received 2 results and 0 failures\n",
      "DEBUG flwr 2023-08-31 18:01:09,067 | server.py:222 | fit_round 13: strategy sampled 2 clients (out of 2)\n"
     ]
    },
    {
     "name": "stdout",
     "output_type": "stream",
     "text": [
      "agrregate_evaluate results list length is  2\n",
      "server round is  12\n",
      "loss is  0.19616657495498657\n"
     ]
    },
    {
     "name": "stderr",
     "output_type": "stream",
     "text": [
      "DEBUG flwr 2023-08-31 18:02:05,925 | server.py:236 | fit_round 13 received 2 results and 0 failures\n",
      "DEBUG flwr 2023-08-31 18:02:05,938 | server.py:173 | evaluate_round 13: strategy sampled 2 clients (out of 2)\n"
     ]
    },
    {
     "name": "stdout",
     "output_type": "stream",
     "text": [
      "agrregate_fit results list length is  2\n",
      "Saving round 13 aggregated_parameters...\n"
     ]
    },
    {
     "name": "stderr",
     "output_type": "stream",
     "text": [
      "DEBUG flwr 2023-08-31 18:02:08,044 | server.py:187 | evaluate_round 13 received 2 results and 0 failures\n",
      "DEBUG flwr 2023-08-31 18:02:08,045 | server.py:222 | fit_round 14: strategy sampled 2 clients (out of 2)\n"
     ]
    },
    {
     "name": "stdout",
     "output_type": "stream",
     "text": [
      "agrregate_evaluate results list length is  2\n",
      "server round is  13\n",
      "loss is  0.1968826949596405\n"
     ]
    },
    {
     "name": "stderr",
     "output_type": "stream",
     "text": [
      "DEBUG flwr 2023-08-31 18:03:05,512 | server.py:236 | fit_round 14 received 2 results and 0 failures\n",
      "DEBUG flwr 2023-08-31 18:03:05,534 | server.py:173 | evaluate_round 14: strategy sampled 2 clients (out of 2)\n"
     ]
    },
    {
     "name": "stdout",
     "output_type": "stream",
     "text": [
      "agrregate_fit results list length is  2\n",
      "Saving round 14 aggregated_parameters...\n"
     ]
    },
    {
     "name": "stderr",
     "output_type": "stream",
     "text": [
      "DEBUG flwr 2023-08-31 18:03:07,551 | server.py:187 | evaluate_round 14 received 2 results and 0 failures\n",
      "DEBUG flwr 2023-08-31 18:03:07,552 | server.py:222 | fit_round 15: strategy sampled 2 clients (out of 2)\n"
     ]
    },
    {
     "name": "stdout",
     "output_type": "stream",
     "text": [
      "agrregate_evaluate results list length is  2\n",
      "server round is  14\n",
      "loss is  0.19637349247932434\n"
     ]
    },
    {
     "name": "stderr",
     "output_type": "stream",
     "text": [
      "DEBUG flwr 2023-08-31 18:04:04,623 | server.py:236 | fit_round 15 received 2 results and 0 failures\n",
      "DEBUG flwr 2023-08-31 18:04:04,636 | server.py:173 | evaluate_round 15: strategy sampled 2 clients (out of 2)\n"
     ]
    },
    {
     "name": "stdout",
     "output_type": "stream",
     "text": [
      "agrregate_fit results list length is  2\n",
      "Saving round 15 aggregated_parameters...\n"
     ]
    },
    {
     "name": "stderr",
     "output_type": "stream",
     "text": [
      "DEBUG flwr 2023-08-31 18:04:06,709 | server.py:187 | evaluate_round 15 received 2 results and 0 failures\n",
      "DEBUG flwr 2023-08-31 18:04:06,710 | server.py:222 | fit_round 16: strategy sampled 2 clients (out of 2)\n"
     ]
    },
    {
     "name": "stdout",
     "output_type": "stream",
     "text": [
      "agrregate_evaluate results list length is  2\n",
      "server round is  15\n",
      "loss is  0.19760634005069733\n"
     ]
    },
    {
     "name": "stderr",
     "output_type": "stream",
     "text": [
      "DEBUG flwr 2023-08-31 18:05:03,886 | server.py:236 | fit_round 16 received 2 results and 0 failures\n",
      "DEBUG flwr 2023-08-31 18:05:03,901 | server.py:173 | evaluate_round 16: strategy sampled 2 clients (out of 2)\n"
     ]
    },
    {
     "name": "stdout",
     "output_type": "stream",
     "text": [
      "agrregate_fit results list length is  2\n",
      "Saving round 16 aggregated_parameters...\n"
     ]
    },
    {
     "name": "stderr",
     "output_type": "stream",
     "text": [
      "DEBUG flwr 2023-08-31 18:05:05,950 | server.py:187 | evaluate_round 16 received 2 results and 0 failures\n",
      "DEBUG flwr 2023-08-31 18:05:05,952 | server.py:222 | fit_round 17: strategy sampled 2 clients (out of 2)\n"
     ]
    },
    {
     "name": "stdout",
     "output_type": "stream",
     "text": [
      "agrregate_evaluate results list length is  2\n",
      "server round is  16\n",
      "loss is  0.19632773101329803\n"
     ]
    },
    {
     "name": "stderr",
     "output_type": "stream",
     "text": [
      "DEBUG flwr 2023-08-31 18:06:03,377 | server.py:236 | fit_round 17 received 2 results and 0 failures\n",
      "DEBUG flwr 2023-08-31 18:06:03,389 | server.py:173 | evaluate_round 17: strategy sampled 2 clients (out of 2)\n"
     ]
    },
    {
     "name": "stdout",
     "output_type": "stream",
     "text": [
      "agrregate_fit results list length is  2\n",
      "Saving round 17 aggregated_parameters...\n"
     ]
    },
    {
     "name": "stderr",
     "output_type": "stream",
     "text": [
      "DEBUG flwr 2023-08-31 18:06:05,472 | server.py:187 | evaluate_round 17 received 2 results and 0 failures\n",
      "DEBUG flwr 2023-08-31 18:06:05,473 | server.py:222 | fit_round 18: strategy sampled 2 clients (out of 2)\n"
     ]
    },
    {
     "name": "stdout",
     "output_type": "stream",
     "text": [
      "agrregate_evaluate results list length is  2\n",
      "server round is  17\n",
      "loss is  0.19700972735881805\n"
     ]
    },
    {
     "name": "stderr",
     "output_type": "stream",
     "text": [
      "DEBUG flwr 2023-08-31 18:07:04,985 | server.py:236 | fit_round 18 received 2 results and 0 failures\n",
      "DEBUG flwr 2023-08-31 18:07:04,999 | server.py:173 | evaluate_round 18: strategy sampled 2 clients (out of 2)\n"
     ]
    },
    {
     "name": "stdout",
     "output_type": "stream",
     "text": [
      "agrregate_fit results list length is  2\n",
      "Saving round 18 aggregated_parameters...\n"
     ]
    },
    {
     "name": "stderr",
     "output_type": "stream",
     "text": [
      "DEBUG flwr 2023-08-31 18:07:07,118 | server.py:187 | evaluate_round 18 received 2 results and 0 failures\n",
      "DEBUG flwr 2023-08-31 18:07:07,119 | server.py:222 | fit_round 19: strategy sampled 2 clients (out of 2)\n"
     ]
    },
    {
     "name": "stdout",
     "output_type": "stream",
     "text": [
      "agrregate_evaluate results list length is  2\n",
      "server round is  18\n",
      "loss is  0.19847777485847473\n"
     ]
    },
    {
     "name": "stderr",
     "output_type": "stream",
     "text": [
      "DEBUG flwr 2023-08-31 18:08:02,950 | server.py:236 | fit_round 19 received 2 results and 0 failures\n",
      "DEBUG flwr 2023-08-31 18:08:02,966 | server.py:173 | evaluate_round 19: strategy sampled 2 clients (out of 2)\n"
     ]
    },
    {
     "name": "stdout",
     "output_type": "stream",
     "text": [
      "agrregate_fit results list length is  2\n",
      "Saving round 19 aggregated_parameters...\n"
     ]
    },
    {
     "name": "stderr",
     "output_type": "stream",
     "text": [
      "DEBUG flwr 2023-08-31 18:08:05,050 | server.py:187 | evaluate_round 19 received 2 results and 0 failures\n",
      "DEBUG flwr 2023-08-31 18:08:05,051 | server.py:222 | fit_round 20: strategy sampled 2 clients (out of 2)\n"
     ]
    },
    {
     "name": "stdout",
     "output_type": "stream",
     "text": [
      "agrregate_evaluate results list length is  2\n",
      "server round is  19\n",
      "loss is  0.1949663907289505\n"
     ]
    },
    {
     "name": "stderr",
     "output_type": "stream",
     "text": [
      "DEBUG flwr 2023-08-31 18:09:01,558 | server.py:236 | fit_round 20 received 2 results and 0 failures\n",
      "DEBUG flwr 2023-08-31 18:09:01,580 | server.py:173 | evaluate_round 20: strategy sampled 2 clients (out of 2)\n"
     ]
    },
    {
     "name": "stdout",
     "output_type": "stream",
     "text": [
      "agrregate_fit results list length is  2\n",
      "Saving round 20 aggregated_parameters...\n"
     ]
    },
    {
     "name": "stderr",
     "output_type": "stream",
     "text": [
      "DEBUG flwr 2023-08-31 18:09:03,528 | server.py:187 | evaluate_round 20 received 2 results and 0 failures\n",
      "DEBUG flwr 2023-08-31 18:09:03,529 | server.py:222 | fit_round 21: strategy sampled 2 clients (out of 2)\n"
     ]
    },
    {
     "name": "stdout",
     "output_type": "stream",
     "text": [
      "agrregate_evaluate results list length is  2\n",
      "server round is  20\n",
      "loss is  0.1956903338432312\n"
     ]
    },
    {
     "name": "stderr",
     "output_type": "stream",
     "text": [
      "DEBUG flwr 2023-08-31 18:10:01,123 | server.py:236 | fit_round 21 received 2 results and 0 failures\n",
      "DEBUG flwr 2023-08-31 18:10:01,137 | server.py:173 | evaluate_round 21: strategy sampled 2 clients (out of 2)\n"
     ]
    },
    {
     "name": "stdout",
     "output_type": "stream",
     "text": [
      "agrregate_fit results list length is  2\n",
      "Saving round 21 aggregated_parameters...\n"
     ]
    },
    {
     "name": "stderr",
     "output_type": "stream",
     "text": [
      "DEBUG flwr 2023-08-31 18:10:03,234 | server.py:187 | evaluate_round 21 received 2 results and 0 failures\n",
      "DEBUG flwr 2023-08-31 18:10:03,235 | server.py:222 | fit_round 22: strategy sampled 2 clients (out of 2)\n"
     ]
    },
    {
     "name": "stdout",
     "output_type": "stream",
     "text": [
      "agrregate_evaluate results list length is  2\n",
      "server round is  21\n",
      "loss is  0.1952711045742035\n"
     ]
    },
    {
     "name": "stderr",
     "output_type": "stream",
     "text": [
      "DEBUG flwr 2023-08-31 18:11:02,383 | server.py:236 | fit_round 22 received 2 results and 0 failures\n",
      "DEBUG flwr 2023-08-31 18:11:02,401 | server.py:173 | evaluate_round 22: strategy sampled 2 clients (out of 2)\n"
     ]
    },
    {
     "name": "stdout",
     "output_type": "stream",
     "text": [
      "agrregate_fit results list length is  2\n",
      "Saving round 22 aggregated_parameters...\n"
     ]
    },
    {
     "name": "stderr",
     "output_type": "stream",
     "text": [
      "DEBUG flwr 2023-08-31 18:11:04,513 | server.py:187 | evaluate_round 22 received 2 results and 0 failures\n",
      "DEBUG flwr 2023-08-31 18:11:04,514 | server.py:222 | fit_round 23: strategy sampled 2 clients (out of 2)\n"
     ]
    },
    {
     "name": "stdout",
     "output_type": "stream",
     "text": [
      "agrregate_evaluate results list length is  2\n",
      "server round is  22\n",
      "loss is  0.19428500533103943\n"
     ]
    },
    {
     "name": "stderr",
     "output_type": "stream",
     "text": [
      "DEBUG flwr 2023-08-31 18:12:01,275 | server.py:236 | fit_round 23 received 2 results and 0 failures\n",
      "DEBUG flwr 2023-08-31 18:12:01,290 | server.py:173 | evaluate_round 23: strategy sampled 2 clients (out of 2)\n"
     ]
    },
    {
     "name": "stdout",
     "output_type": "stream",
     "text": [
      "agrregate_fit results list length is  2\n",
      "Saving round 23 aggregated_parameters...\n"
     ]
    },
    {
     "name": "stderr",
     "output_type": "stream",
     "text": [
      "DEBUG flwr 2023-08-31 18:12:03,353 | server.py:187 | evaluate_round 23 received 2 results and 0 failures\n",
      "DEBUG flwr 2023-08-31 18:12:03,355 | server.py:222 | fit_round 24: strategy sampled 2 clients (out of 2)\n"
     ]
    },
    {
     "name": "stdout",
     "output_type": "stream",
     "text": [
      "agrregate_evaluate results list length is  2\n",
      "server round is  23\n",
      "loss is  0.1960931122303009\n"
     ]
    },
    {
     "name": "stderr",
     "output_type": "stream",
     "text": [
      "DEBUG flwr 2023-08-31 18:13:02,556 | server.py:236 | fit_round 24 received 2 results and 0 failures\n",
      "DEBUG flwr 2023-08-31 18:13:02,569 | server.py:173 | evaluate_round 24: strategy sampled 2 clients (out of 2)\n"
     ]
    },
    {
     "name": "stdout",
     "output_type": "stream",
     "text": [
      "agrregate_fit results list length is  2\n",
      "Saving round 24 aggregated_parameters...\n"
     ]
    },
    {
     "name": "stderr",
     "output_type": "stream",
     "text": [
      "DEBUG flwr 2023-08-31 18:13:04,523 | server.py:187 | evaluate_round 24 received 2 results and 0 failures\n",
      "DEBUG flwr 2023-08-31 18:13:04,525 | server.py:222 | fit_round 25: strategy sampled 2 clients (out of 2)\n"
     ]
    },
    {
     "name": "stdout",
     "output_type": "stream",
     "text": [
      "agrregate_evaluate results list length is  2\n",
      "server round is  24\n",
      "loss is  0.19561509788036346\n"
     ]
    },
    {
     "name": "stderr",
     "output_type": "stream",
     "text": [
      "DEBUG flwr 2023-08-31 18:14:01,972 | server.py:236 | fit_round 25 received 2 results and 0 failures\n",
      "DEBUG flwr 2023-08-31 18:14:01,989 | server.py:173 | evaluate_round 25: strategy sampled 2 clients (out of 2)\n"
     ]
    },
    {
     "name": "stdout",
     "output_type": "stream",
     "text": [
      "agrregate_fit results list length is  2\n",
      "Saving round 25 aggregated_parameters...\n"
     ]
    },
    {
     "name": "stderr",
     "output_type": "stream",
     "text": [
      "DEBUG flwr 2023-08-31 18:14:04,081 | server.py:187 | evaluate_round 25 received 2 results and 0 failures\n",
      "INFO flwr 2023-08-31 18:14:04,083 | server.py:153 | FL finished in 1566.9904870000028\n",
      "INFO flwr 2023-08-31 18:14:04,085 | app.py:225 | app_fit: losses_distributed [(1, 0.21264789998531342), (2, 0.20469626784324646), (3, 0.20167231559753418), (4, 0.19934159517288208), (5, 0.20020543038845062), (6, 0.1985892653465271), (7, 0.19811365008354187), (8, 0.19738562405109406), (9, 0.1976688951253891), (10, 0.19732984900474548), (11, 0.19633086025714874), (12, 0.19616657495498657), (13, 0.1968826949596405), (14, 0.19637349247932434), (15, 0.19760634005069733), (16, 0.19632773101329803), (17, 0.19700972735881805), (18, 0.19847777485847473), (19, 0.1949663907289505), (20, 0.1956903338432312), (21, 0.1952711045742035), (22, 0.19428500533103943), (23, 0.1960931122303009), (24, 0.19561509788036346), (25, 0.19590094685554504)]\n",
      "INFO flwr 2023-08-31 18:14:04,086 | app.py:226 | app_fit: metrics_distributed_fit {}\n",
      "INFO flwr 2023-08-31 18:14:04,087 | app.py:227 | app_fit: metrics_distributed {'mse': [(1, 0.42529579997062683), (2, 0.4093925356864929), (3, 0.40334463119506836), (4, 0.39868319034576416), (5, 0.40041086077690125), (6, 0.3971785306930542), (7, 0.39622730016708374), (8, 0.3947712481021881), (9, 0.3953377902507782), (10, 0.39465969800949097), (11, 0.3926617205142975), (12, 0.39233314990997314), (13, 0.393765389919281), (14, 0.3927469849586487), (15, 0.39521268010139465), (16, 0.39265546202659607), (17, 0.3940194547176361), (18, 0.39695554971694946), (19, 0.389932781457901), (20, 0.3913806676864624), (21, 0.390542209148407), (22, 0.38857001066207886), (23, 0.3921862244606018), (24, 0.39123019576072693), (25, 0.3918018937110901)]}\n",
      "INFO flwr 2023-08-31 18:14:04,088 | app.py:228 | app_fit: losses_centralized []\n",
      "INFO flwr 2023-08-31 18:14:04,089 | app.py:229 | app_fit: metrics_centralized {}\n"
     ]
    },
    {
     "name": "stdout",
     "output_type": "stream",
     "text": [
      "agrregate_evaluate results list length is  2\n",
      "server round is  25\n",
      "loss is  0.19590094685554504\n",
      "History (loss, distributed):\n",
      "\tround 1: 0.21264789998531342\n",
      "\tround 2: 0.20469626784324646\n",
      "\tround 3: 0.20167231559753418\n",
      "\tround 4: 0.19934159517288208\n",
      "\tround 5: 0.20020543038845062\n",
      "\tround 6: 0.1985892653465271\n",
      "\tround 7: 0.19811365008354187\n",
      "\tround 8: 0.19738562405109406\n",
      "\tround 9: 0.1976688951253891\n",
      "\tround 10: 0.19732984900474548\n",
      "\tround 11: 0.19633086025714874\n",
      "\tround 12: 0.19616657495498657\n",
      "\tround 13: 0.1968826949596405\n",
      "\tround 14: 0.19637349247932434\n",
      "\tround 15: 0.19760634005069733\n",
      "\tround 16: 0.19632773101329803\n",
      "\tround 17: 0.19700972735881805\n",
      "\tround 18: 0.19847777485847473\n",
      "\tround 19: 0.1949663907289505\n",
      "\tround 20: 0.1956903338432312\n",
      "\tround 21: 0.1952711045742035\n",
      "\tround 22: 0.19428500533103943\n",
      "\tround 23: 0.1960931122303009\n",
      "\tround 24: 0.19561509788036346\n",
      "\tround 25: 0.19590094685554504\n",
      "History (metrics, distributed, evaluate):\n",
      "{'mse': [(1, 0.42529579997062683), (2, 0.4093925356864929), (3, 0.40334463119506836), (4, 0.39868319034576416), (5, 0.40041086077690125), (6, 0.3971785306930542), (7, 0.39622730016708374), (8, 0.3947712481021881), (9, 0.3953377902507782), (10, 0.39465969800949097), (11, 0.3926617205142975), (12, 0.39233314990997314), (13, 0.393765389919281), (14, 0.3927469849586487), (15, 0.39521268010139465), (16, 0.39265546202659607), (17, 0.3940194547176361), (18, 0.39695554971694946), (19, 0.389932781457901), (20, 0.3913806676864624), (21, 0.390542209148407), (22, 0.38857001066207886), (23, 0.3921862244606018), (24, 0.39123019576072693), (25, 0.3918018937110901)]}\n",
      "[(1, 0.21264789998531342), (2, 0.20469626784324646), (3, 0.20167231559753418), (4, 0.19934159517288208), (5, 0.20020543038845062), (6, 0.1985892653465271), (7, 0.19811365008354187), (8, 0.19738562405109406), (9, 0.1976688951253891), (10, 0.19732984900474548), (11, 0.19633086025714874), (12, 0.19616657495498657), (13, 0.1968826949596405), (14, 0.19637349247932434), (15, 0.19760634005069733), (16, 0.19632773101329803), (17, 0.19700972735881805), (18, 0.19847777485847473), (19, 0.1949663907289505), (20, 0.1956903338432312), (21, 0.1952711045742035), (22, 0.19428500533103943), (23, 0.1960931122303009), (24, 0.19561509788036346), (25, 0.19590094685554504)]\n",
      "Fold 2:\n",
      "splitting [0.5, 0.5]\n",
      "time 0:26:35.254838\n",
      "mse [0.19590095]\n",
      "auc [0.7511309168780138]\n"
     ]
    }
   ],
   "source": [
    "splitting = [0.5, 0.5]\n",
    "do_fl(splitting)"
   ],
   "metadata": {
    "collapsed": false,
    "ExecuteTime": {
     "end_time": "2023-08-31T17:14:04.314346300Z",
     "start_time": "2023-08-31T16:47:29.031583200Z"
    }
   }
  },
  {
   "cell_type": "code",
   "execution_count": 10,
   "outputs": [
    {
     "name": "stdout",
     "output_type": "stream",
     "text": [
      "Fold 1:\n",
      "x_test: cpu\n",
      "y_test: cpu\n"
     ]
    },
    {
     "name": "stderr",
     "output_type": "stream",
     "text": [
      "INFO flwr 2023-08-31 18:25:08,527 | app.py:145 | Starting Flower simulation, config: ServerConfig(num_rounds=25, round_timeout=None)\n"
     ]
    },
    {
     "name": "stdout",
     "output_type": "stream",
     "text": [
      "Client 0 trainset shape torch.Size([271374, 120])\n",
      "Client 1 trainset shape torch.Size([180922, 120])\n",
      "FL started training on cpu\n",
      "Number of available GPUs: 0\n"
     ]
    },
    {
     "name": "stderr",
     "output_type": "stream",
     "text": [
      "2023-08-31 18:25:18,957\tINFO worker.py:1627 -- Started a local Ray instance. View the dashboard at \u001B[1m\u001B[32m127.0.0.1:8268 \u001B[39m\u001B[22m\n",
      "INFO flwr 2023-08-31 18:25:24,343 | app.py:179 | Flower VCE: Ray initialized with resources: {'memory': 1467428046.0, 'object_store_memory': 733714022.0, 'node:127.0.0.1': 1.0, 'CPU': 8.0, 'GPU': 1.0}\n",
      "INFO flwr 2023-08-31 18:25:24,344 | server.py:89 | Initializing global parameters\n",
      "INFO flwr 2023-08-31 18:25:24,345 | server.py:276 | Requesting initial parameters from one random client\n",
      "INFO flwr 2023-08-31 18:25:29,657 | server.py:280 | Received initial parameters from one random client\n",
      "INFO flwr 2023-08-31 18:25:29,658 | server.py:91 | Evaluating initial parameters\n",
      "INFO flwr 2023-08-31 18:25:29,659 | server.py:104 | FL starting\n",
      "DEBUG flwr 2023-08-31 18:25:29,660 | server.py:222 | fit_round 1: strategy sampled 2 clients (out of 2)\n",
      "DEBUG flwr 2023-08-31 18:26:26,258 | server.py:236 | fit_round 1 received 2 results and 0 failures\n",
      "WARNING flwr 2023-08-31 18:26:26,289 | fedavg.py:242 | No fit_metrics_aggregation_fn provided\n",
      "DEBUG flwr 2023-08-31 18:26:26,307 | server.py:173 | evaluate_round 1: strategy sampled 2 clients (out of 2)\n"
     ]
    },
    {
     "name": "stdout",
     "output_type": "stream",
     "text": [
      "agrregate_fit results list length is  2\n",
      "Saving round 1 aggregated_parameters...\n"
     ]
    },
    {
     "name": "stderr",
     "output_type": "stream",
     "text": [
      "DEBUG flwr 2023-08-31 18:26:28,881 | server.py:187 | evaluate_round 1 received 2 results and 0 failures\n",
      "DEBUG flwr 2023-08-31 18:26:28,883 | server.py:222 | fit_round 2: strategy sampled 2 clients (out of 2)\n"
     ]
    },
    {
     "name": "stdout",
     "output_type": "stream",
     "text": [
      "agrregate_evaluate results list length is  2\n",
      "server round is  1\n",
      "loss is  0.21843409538269043\n"
     ]
    },
    {
     "name": "stderr",
     "output_type": "stream",
     "text": [
      "DEBUG flwr 2023-08-31 18:27:23,398 | server.py:236 | fit_round 2 received 2 results and 0 failures\n",
      "DEBUG flwr 2023-08-31 18:27:23,420 | server.py:173 | evaluate_round 2: strategy sampled 2 clients (out of 2)\n"
     ]
    },
    {
     "name": "stdout",
     "output_type": "stream",
     "text": [
      "agrregate_fit results list length is  2\n",
      "Saving round 2 aggregated_parameters...\n"
     ]
    },
    {
     "name": "stderr",
     "output_type": "stream",
     "text": [
      "DEBUG flwr 2023-08-31 18:27:25,620 | server.py:187 | evaluate_round 2 received 2 results and 0 failures\n",
      "DEBUG flwr 2023-08-31 18:27:25,625 | server.py:222 | fit_round 3: strategy sampled 2 clients (out of 2)\n"
     ]
    },
    {
     "name": "stdout",
     "output_type": "stream",
     "text": [
      "agrregate_evaluate results list length is  2\n",
      "server round is  2\n",
      "loss is  0.20503613352775574\n"
     ]
    },
    {
     "name": "stderr",
     "output_type": "stream",
     "text": [
      "DEBUG flwr 2023-08-31 18:28:13,392 | server.py:236 | fit_round 3 received 2 results and 0 failures\n",
      "DEBUG flwr 2023-08-31 18:28:13,416 | server.py:173 | evaluate_round 3: strategy sampled 2 clients (out of 2)\n"
     ]
    },
    {
     "name": "stdout",
     "output_type": "stream",
     "text": [
      "agrregate_fit results list length is  2\n",
      "Saving round 3 aggregated_parameters...\n"
     ]
    },
    {
     "name": "stderr",
     "output_type": "stream",
     "text": [
      "DEBUG flwr 2023-08-31 18:28:15,311 | server.py:187 | evaluate_round 3 received 2 results and 0 failures\n",
      "DEBUG flwr 2023-08-31 18:28:15,312 | server.py:222 | fit_round 4: strategy sampled 2 clients (out of 2)\n"
     ]
    },
    {
     "name": "stdout",
     "output_type": "stream",
     "text": [
      "agrregate_evaluate results list length is  2\n",
      "server round is  3\n",
      "loss is  0.20014217495918274\n"
     ]
    },
    {
     "name": "stderr",
     "output_type": "stream",
     "text": [
      "DEBUG flwr 2023-08-31 18:29:01,146 | server.py:236 | fit_round 4 received 2 results and 0 failures\n",
      "DEBUG flwr 2023-08-31 18:29:01,187 | server.py:173 | evaluate_round 4: strategy sampled 2 clients (out of 2)\n"
     ]
    },
    {
     "name": "stdout",
     "output_type": "stream",
     "text": [
      "agrregate_fit results list length is  2\n",
      "Saving round 4 aggregated_parameters...\n"
     ]
    },
    {
     "name": "stderr",
     "output_type": "stream",
     "text": [
      "DEBUG flwr 2023-08-31 18:29:04,483 | server.py:187 | evaluate_round 4 received 2 results and 0 failures\n",
      "DEBUG flwr 2023-08-31 18:29:04,486 | server.py:222 | fit_round 5: strategy sampled 2 clients (out of 2)\n"
     ]
    },
    {
     "name": "stdout",
     "output_type": "stream",
     "text": [
      "agrregate_evaluate results list length is  2\n",
      "server round is  4\n",
      "loss is  0.20163114368915558\n"
     ]
    },
    {
     "name": "stderr",
     "output_type": "stream",
     "text": [
      "DEBUG flwr 2023-08-31 18:30:04,314 | server.py:236 | fit_round 5 received 2 results and 0 failures\n",
      "DEBUG flwr 2023-08-31 18:30:04,330 | server.py:173 | evaluate_round 5: strategy sampled 2 clients (out of 2)\n"
     ]
    },
    {
     "name": "stdout",
     "output_type": "stream",
     "text": [
      "agrregate_fit results list length is  2\n",
      "Saving round 5 aggregated_parameters...\n"
     ]
    },
    {
     "name": "stderr",
     "output_type": "stream",
     "text": [
      "DEBUG flwr 2023-08-31 18:30:06,322 | server.py:187 | evaluate_round 5 received 2 results and 0 failures\n",
      "DEBUG flwr 2023-08-31 18:30:06,324 | server.py:222 | fit_round 6: strategy sampled 2 clients (out of 2)\n"
     ]
    },
    {
     "name": "stdout",
     "output_type": "stream",
     "text": [
      "agrregate_evaluate results list length is  2\n",
      "server round is  5\n",
      "loss is  0.19951100647449493\n"
     ]
    },
    {
     "name": "stderr",
     "output_type": "stream",
     "text": [
      "DEBUG flwr 2023-08-31 18:30:57,642 | server.py:236 | fit_round 6 received 2 results and 0 failures\n",
      "DEBUG flwr 2023-08-31 18:30:57,664 | server.py:173 | evaluate_round 6: strategy sampled 2 clients (out of 2)\n"
     ]
    },
    {
     "name": "stdout",
     "output_type": "stream",
     "text": [
      "agrregate_fit results list length is  2\n",
      "Saving round 6 aggregated_parameters...\n"
     ]
    },
    {
     "name": "stderr",
     "output_type": "stream",
     "text": [
      "DEBUG flwr 2023-08-31 18:30:59,563 | server.py:187 | evaluate_round 6 received 2 results and 0 failures\n",
      "DEBUG flwr 2023-08-31 18:30:59,574 | server.py:222 | fit_round 7: strategy sampled 2 clients (out of 2)\n"
     ]
    },
    {
     "name": "stdout",
     "output_type": "stream",
     "text": [
      "agrregate_evaluate results list length is  2\n",
      "server round is  6\n",
      "loss is  0.19998368620872498\n"
     ]
    },
    {
     "name": "stderr",
     "output_type": "stream",
     "text": [
      "DEBUG flwr 2023-08-31 18:31:49,208 | server.py:236 | fit_round 7 received 2 results and 0 failures\n",
      "DEBUG flwr 2023-08-31 18:31:49,226 | server.py:173 | evaluate_round 7: strategy sampled 2 clients (out of 2)\n"
     ]
    },
    {
     "name": "stdout",
     "output_type": "stream",
     "text": [
      "agrregate_fit results list length is  2\n",
      "Saving round 7 aggregated_parameters...\n"
     ]
    },
    {
     "name": "stderr",
     "output_type": "stream",
     "text": [
      "DEBUG flwr 2023-08-31 18:31:51,377 | server.py:187 | evaluate_round 7 received 2 results and 0 failures\n",
      "DEBUG flwr 2023-08-31 18:31:51,378 | server.py:222 | fit_round 8: strategy sampled 2 clients (out of 2)\n"
     ]
    },
    {
     "name": "stdout",
     "output_type": "stream",
     "text": [
      "agrregate_evaluate results list length is  2\n",
      "server round is  7\n",
      "loss is  0.1987105906009674\n"
     ]
    },
    {
     "name": "stderr",
     "output_type": "stream",
     "text": [
      "DEBUG flwr 2023-08-31 18:32:40,664 | server.py:236 | fit_round 8 received 2 results and 0 failures\n",
      "DEBUG flwr 2023-08-31 18:32:40,680 | server.py:173 | evaluate_round 8: strategy sampled 2 clients (out of 2)\n"
     ]
    },
    {
     "name": "stdout",
     "output_type": "stream",
     "text": [
      "agrregate_fit results list length is  2\n",
      "Saving round 8 aggregated_parameters...\n"
     ]
    },
    {
     "name": "stderr",
     "output_type": "stream",
     "text": [
      "DEBUG flwr 2023-08-31 18:32:42,690 | server.py:187 | evaluate_round 8 received 2 results and 0 failures\n",
      "DEBUG flwr 2023-08-31 18:32:42,693 | server.py:222 | fit_round 9: strategy sampled 2 clients (out of 2)\n"
     ]
    },
    {
     "name": "stdout",
     "output_type": "stream",
     "text": [
      "agrregate_evaluate results list length is  2\n",
      "server round is  8\n",
      "loss is  0.19962665438652039\n"
     ]
    },
    {
     "name": "stderr",
     "output_type": "stream",
     "text": [
      "DEBUG flwr 2023-08-31 18:33:29,151 | server.py:236 | fit_round 9 received 2 results and 0 failures\n",
      "DEBUG flwr 2023-08-31 18:33:29,181 | server.py:173 | evaluate_round 9: strategy sampled 2 clients (out of 2)\n"
     ]
    },
    {
     "name": "stdout",
     "output_type": "stream",
     "text": [
      "agrregate_fit results list length is  2\n",
      "Saving round 9 aggregated_parameters...\n"
     ]
    },
    {
     "name": "stderr",
     "output_type": "stream",
     "text": [
      "DEBUG flwr 2023-08-31 18:33:30,953 | server.py:187 | evaluate_round 9 received 2 results and 0 failures\n",
      "DEBUG flwr 2023-08-31 18:33:30,954 | server.py:222 | fit_round 10: strategy sampled 2 clients (out of 2)\n"
     ]
    },
    {
     "name": "stdout",
     "output_type": "stream",
     "text": [
      "agrregate_evaluate results list length is  2\n",
      "server round is  9\n",
      "loss is  0.19818896055221558\n"
     ]
    },
    {
     "name": "stderr",
     "output_type": "stream",
     "text": [
      "DEBUG flwr 2023-08-31 18:34:21,220 | server.py:236 | fit_round 10 received 2 results and 0 failures\n",
      "DEBUG flwr 2023-08-31 18:34:21,249 | server.py:173 | evaluate_round 10: strategy sampled 2 clients (out of 2)\n"
     ]
    },
    {
     "name": "stdout",
     "output_type": "stream",
     "text": [
      "agrregate_fit results list length is  2\n",
      "Saving round 10 aggregated_parameters...\n"
     ]
    },
    {
     "name": "stderr",
     "output_type": "stream",
     "text": [
      "DEBUG flwr 2023-08-31 18:34:23,125 | server.py:187 | evaluate_round 10 received 2 results and 0 failures\n",
      "DEBUG flwr 2023-08-31 18:34:23,126 | server.py:222 | fit_round 11: strategy sampled 2 clients (out of 2)\n"
     ]
    },
    {
     "name": "stdout",
     "output_type": "stream",
     "text": [
      "agrregate_evaluate results list length is  2\n",
      "server round is  10\n",
      "loss is  0.19789375364780426\n"
     ]
    },
    {
     "name": "stderr",
     "output_type": "stream",
     "text": [
      "DEBUG flwr 2023-08-31 18:35:10,122 | server.py:236 | fit_round 11 received 2 results and 0 failures\n",
      "DEBUG flwr 2023-08-31 18:35:10,141 | server.py:173 | evaluate_round 11: strategy sampled 2 clients (out of 2)\n"
     ]
    },
    {
     "name": "stdout",
     "output_type": "stream",
     "text": [
      "agrregate_fit results list length is  2\n",
      "Saving round 11 aggregated_parameters...\n"
     ]
    },
    {
     "name": "stderr",
     "output_type": "stream",
     "text": [
      "DEBUG flwr 2023-08-31 18:35:12,128 | server.py:187 | evaluate_round 11 received 2 results and 0 failures\n",
      "DEBUG flwr 2023-08-31 18:35:12,130 | server.py:222 | fit_round 12: strategy sampled 2 clients (out of 2)\n"
     ]
    },
    {
     "name": "stdout",
     "output_type": "stream",
     "text": [
      "agrregate_evaluate results list length is  2\n",
      "server round is  11\n",
      "loss is  0.19671043753623962\n"
     ]
    },
    {
     "name": "stderr",
     "output_type": "stream",
     "text": [
      "DEBUG flwr 2023-08-31 18:36:03,590 | server.py:236 | fit_round 12 received 2 results and 0 failures\n",
      "DEBUG flwr 2023-08-31 18:36:03,609 | server.py:173 | evaluate_round 12: strategy sampled 2 clients (out of 2)\n"
     ]
    },
    {
     "name": "stdout",
     "output_type": "stream",
     "text": [
      "agrregate_fit results list length is  2\n",
      "Saving round 12 aggregated_parameters...\n"
     ]
    },
    {
     "name": "stderr",
     "output_type": "stream",
     "text": [
      "DEBUG flwr 2023-08-31 18:36:05,454 | server.py:187 | evaluate_round 12 received 2 results and 0 failures\n",
      "DEBUG flwr 2023-08-31 18:36:05,455 | server.py:222 | fit_round 13: strategy sampled 2 clients (out of 2)\n"
     ]
    },
    {
     "name": "stdout",
     "output_type": "stream",
     "text": [
      "agrregate_evaluate results list length is  2\n",
      "server round is  12\n",
      "loss is  0.19485190510749817\n"
     ]
    },
    {
     "name": "stderr",
     "output_type": "stream",
     "text": [
      "DEBUG flwr 2023-08-31 18:37:00,500 | server.py:236 | fit_round 13 received 2 results and 0 failures\n",
      "DEBUG flwr 2023-08-31 18:37:00,525 | server.py:173 | evaluate_round 13: strategy sampled 2 clients (out of 2)\n"
     ]
    },
    {
     "name": "stdout",
     "output_type": "stream",
     "text": [
      "agrregate_fit results list length is  2\n",
      "Saving round 13 aggregated_parameters...\n"
     ]
    },
    {
     "name": "stderr",
     "output_type": "stream",
     "text": [
      "DEBUG flwr 2023-08-31 18:37:02,486 | server.py:187 | evaluate_round 13 received 2 results and 0 failures\n",
      "DEBUG flwr 2023-08-31 18:37:02,488 | server.py:222 | fit_round 14: strategy sampled 2 clients (out of 2)\n"
     ]
    },
    {
     "name": "stdout",
     "output_type": "stream",
     "text": [
      "agrregate_evaluate results list length is  2\n",
      "server round is  13\n",
      "loss is  0.1938886195421219\n"
     ]
    },
    {
     "name": "stderr",
     "output_type": "stream",
     "text": [
      "DEBUG flwr 2023-08-31 18:37:51,882 | server.py:236 | fit_round 14 received 2 results and 0 failures\n",
      "DEBUG flwr 2023-08-31 18:37:51,906 | server.py:173 | evaluate_round 14: strategy sampled 2 clients (out of 2)\n"
     ]
    },
    {
     "name": "stdout",
     "output_type": "stream",
     "text": [
      "agrregate_fit results list length is  2\n",
      "Saving round 14 aggregated_parameters...\n"
     ]
    },
    {
     "name": "stderr",
     "output_type": "stream",
     "text": [
      "DEBUG flwr 2023-08-31 18:37:53,684 | server.py:187 | evaluate_round 14 received 2 results and 0 failures\n",
      "DEBUG flwr 2023-08-31 18:37:53,685 | server.py:222 | fit_round 15: strategy sampled 2 clients (out of 2)\n"
     ]
    },
    {
     "name": "stdout",
     "output_type": "stream",
     "text": [
      "agrregate_evaluate results list length is  2\n",
      "server round is  14\n",
      "loss is  0.1964036077260971\n"
     ]
    },
    {
     "name": "stderr",
     "output_type": "stream",
     "text": [
      "DEBUG flwr 2023-08-31 18:38:48,925 | server.py:236 | fit_round 15 received 2 results and 0 failures\n",
      "DEBUG flwr 2023-08-31 18:38:48,954 | server.py:173 | evaluate_round 15: strategy sampled 2 clients (out of 2)\n"
     ]
    },
    {
     "name": "stdout",
     "output_type": "stream",
     "text": [
      "agrregate_fit results list length is  2\n",
      "Saving round 15 aggregated_parameters...\n"
     ]
    },
    {
     "name": "stderr",
     "output_type": "stream",
     "text": [
      "DEBUG flwr 2023-08-31 18:38:50,638 | server.py:187 | evaluate_round 15 received 2 results and 0 failures\n",
      "DEBUG flwr 2023-08-31 18:38:50,639 | server.py:222 | fit_round 16: strategy sampled 2 clients (out of 2)\n"
     ]
    },
    {
     "name": "stdout",
     "output_type": "stream",
     "text": [
      "agrregate_evaluate results list length is  2\n",
      "server round is  15\n",
      "loss is  0.19531501829624176\n"
     ]
    },
    {
     "name": "stderr",
     "output_type": "stream",
     "text": [
      "DEBUG flwr 2023-08-31 18:39:32,797 | server.py:236 | fit_round 16 received 2 results and 0 failures\n",
      "DEBUG flwr 2023-08-31 18:39:32,812 | server.py:173 | evaluate_round 16: strategy sampled 2 clients (out of 2)\n"
     ]
    },
    {
     "name": "stdout",
     "output_type": "stream",
     "text": [
      "agrregate_fit results list length is  2\n",
      "Saving round 16 aggregated_parameters...\n"
     ]
    },
    {
     "name": "stderr",
     "output_type": "stream",
     "text": [
      "DEBUG flwr 2023-08-31 18:39:34,437 | server.py:187 | evaluate_round 16 received 2 results and 0 failures\n",
      "DEBUG flwr 2023-08-31 18:39:34,439 | server.py:222 | fit_round 17: strategy sampled 2 clients (out of 2)\n"
     ]
    },
    {
     "name": "stdout",
     "output_type": "stream",
     "text": [
      "agrregate_evaluate results list length is  2\n",
      "server round is  16\n",
      "loss is  0.19647499918937683\n"
     ]
    },
    {
     "name": "stderr",
     "output_type": "stream",
     "text": [
      "DEBUG flwr 2023-08-31 18:40:21,411 | server.py:236 | fit_round 17 received 2 results and 0 failures\n",
      "DEBUG flwr 2023-08-31 18:40:21,429 | server.py:173 | evaluate_round 17: strategy sampled 2 clients (out of 2)\n"
     ]
    },
    {
     "name": "stdout",
     "output_type": "stream",
     "text": [
      "agrregate_fit results list length is  2\n",
      "Saving round 17 aggregated_parameters...\n"
     ]
    },
    {
     "name": "stderr",
     "output_type": "stream",
     "text": [
      "DEBUG flwr 2023-08-31 18:40:23,527 | server.py:187 | evaluate_round 17 received 2 results and 0 failures\n",
      "DEBUG flwr 2023-08-31 18:40:23,529 | server.py:222 | fit_round 18: strategy sampled 2 clients (out of 2)\n"
     ]
    },
    {
     "name": "stdout",
     "output_type": "stream",
     "text": [
      "agrregate_evaluate results list length is  2\n",
      "server round is  17\n",
      "loss is  0.1960705667734146\n"
     ]
    },
    {
     "name": "stderr",
     "output_type": "stream",
     "text": [
      "DEBUG flwr 2023-08-31 18:41:11,427 | server.py:236 | fit_round 18 received 2 results and 0 failures\n",
      "DEBUG flwr 2023-08-31 18:41:11,440 | server.py:173 | evaluate_round 18: strategy sampled 2 clients (out of 2)\n"
     ]
    },
    {
     "name": "stdout",
     "output_type": "stream",
     "text": [
      "agrregate_fit results list length is  2\n",
      "Saving round 18 aggregated_parameters...\n"
     ]
    },
    {
     "name": "stderr",
     "output_type": "stream",
     "text": [
      "DEBUG flwr 2023-08-31 18:41:13,278 | server.py:187 | evaluate_round 18 received 2 results and 0 failures\n",
      "DEBUG flwr 2023-08-31 18:41:13,280 | server.py:222 | fit_round 19: strategy sampled 2 clients (out of 2)\n"
     ]
    },
    {
     "name": "stdout",
     "output_type": "stream",
     "text": [
      "agrregate_evaluate results list length is  2\n",
      "server round is  18\n",
      "loss is  0.1948298066854477\n"
     ]
    },
    {
     "name": "stderr",
     "output_type": "stream",
     "text": [
      "DEBUG flwr 2023-08-31 18:42:06,453 | server.py:236 | fit_round 19 received 2 results and 0 failures\n",
      "DEBUG flwr 2023-08-31 18:42:06,466 | server.py:173 | evaluate_round 19: strategy sampled 2 clients (out of 2)\n"
     ]
    },
    {
     "name": "stdout",
     "output_type": "stream",
     "text": [
      "agrregate_fit results list length is  2\n",
      "Saving round 19 aggregated_parameters...\n"
     ]
    },
    {
     "name": "stderr",
     "output_type": "stream",
     "text": [
      "DEBUG flwr 2023-08-31 18:42:09,316 | server.py:187 | evaluate_round 19 received 2 results and 0 failures\n",
      "DEBUG flwr 2023-08-31 18:42:09,320 | server.py:222 | fit_round 20: strategy sampled 2 clients (out of 2)\n"
     ]
    },
    {
     "name": "stdout",
     "output_type": "stream",
     "text": [
      "agrregate_evaluate results list length is  2\n",
      "server round is  19\n",
      "loss is  0.19435693323612213\n"
     ]
    },
    {
     "name": "stderr",
     "output_type": "stream",
     "text": [
      "DEBUG flwr 2023-08-31 18:43:05,166 | server.py:236 | fit_round 20 received 2 results and 0 failures\n",
      "DEBUG flwr 2023-08-31 18:43:05,196 | server.py:173 | evaluate_round 20: strategy sampled 2 clients (out of 2)\n"
     ]
    },
    {
     "name": "stdout",
     "output_type": "stream",
     "text": [
      "agrregate_fit results list length is  2\n",
      "Saving round 20 aggregated_parameters...\n"
     ]
    },
    {
     "name": "stderr",
     "output_type": "stream",
     "text": [
      "DEBUG flwr 2023-08-31 18:43:09,373 | server.py:187 | evaluate_round 20 received 2 results and 0 failures\n",
      "DEBUG flwr 2023-08-31 18:43:09,377 | server.py:222 | fit_round 21: strategy sampled 2 clients (out of 2)\n"
     ]
    },
    {
     "name": "stdout",
     "output_type": "stream",
     "text": [
      "agrregate_evaluate results list length is  2\n",
      "server round is  20\n",
      "loss is  0.19351127743721008\n"
     ]
    },
    {
     "name": "stderr",
     "output_type": "stream",
     "text": [
      "DEBUG flwr 2023-08-31 18:44:08,533 | server.py:236 | fit_round 21 received 2 results and 0 failures\n",
      "DEBUG flwr 2023-08-31 18:44:08,552 | server.py:173 | evaluate_round 21: strategy sampled 2 clients (out of 2)\n"
     ]
    },
    {
     "name": "stdout",
     "output_type": "stream",
     "text": [
      "agrregate_fit results list length is  2\n",
      "Saving round 21 aggregated_parameters...\n"
     ]
    },
    {
     "name": "stderr",
     "output_type": "stream",
     "text": [
      "DEBUG flwr 2023-08-31 18:44:10,804 | server.py:187 | evaluate_round 21 received 2 results and 0 failures\n",
      "DEBUG flwr 2023-08-31 18:44:10,807 | server.py:222 | fit_round 22: strategy sampled 2 clients (out of 2)\n"
     ]
    },
    {
     "name": "stdout",
     "output_type": "stream",
     "text": [
      "agrregate_evaluate results list length is  2\n",
      "server round is  21\n",
      "loss is  0.19499942660331726\n"
     ]
    },
    {
     "name": "stderr",
     "output_type": "stream",
     "text": [
      "DEBUG flwr 2023-08-31 18:45:03,127 | server.py:236 | fit_round 22 received 2 results and 0 failures\n",
      "DEBUG flwr 2023-08-31 18:45:03,155 | server.py:173 | evaluate_round 22: strategy sampled 2 clients (out of 2)\n"
     ]
    },
    {
     "name": "stdout",
     "output_type": "stream",
     "text": [
      "agrregate_fit results list length is  2\n",
      "Saving round 22 aggregated_parameters...\n"
     ]
    },
    {
     "name": "stderr",
     "output_type": "stream",
     "text": [
      "DEBUG flwr 2023-08-31 18:45:06,373 | server.py:187 | evaluate_round 22 received 2 results and 0 failures\n",
      "DEBUG flwr 2023-08-31 18:45:06,375 | server.py:222 | fit_round 23: strategy sampled 2 clients (out of 2)\n"
     ]
    },
    {
     "name": "stdout",
     "output_type": "stream",
     "text": [
      "agrregate_evaluate results list length is  2\n",
      "server round is  22\n",
      "loss is  0.1946839690208435\n"
     ]
    },
    {
     "name": "stderr",
     "output_type": "stream",
     "text": [
      "DEBUG flwr 2023-08-31 18:45:58,163 | server.py:236 | fit_round 23 received 2 results and 0 failures\n",
      "DEBUG flwr 2023-08-31 18:45:58,179 | server.py:173 | evaluate_round 23: strategy sampled 2 clients (out of 2)\n"
     ]
    },
    {
     "name": "stdout",
     "output_type": "stream",
     "text": [
      "agrregate_fit results list length is  2\n",
      "Saving round 23 aggregated_parameters...\n"
     ]
    },
    {
     "name": "stderr",
     "output_type": "stream",
     "text": [
      "DEBUG flwr 2023-08-31 18:46:00,218 | server.py:187 | evaluate_round 23 received 2 results and 0 failures\n",
      "DEBUG flwr 2023-08-31 18:46:00,220 | server.py:222 | fit_round 24: strategy sampled 2 clients (out of 2)\n"
     ]
    },
    {
     "name": "stdout",
     "output_type": "stream",
     "text": [
      "agrregate_evaluate results list length is  2\n",
      "server round is  23\n",
      "loss is  0.19535532593727112\n"
     ]
    },
    {
     "name": "stderr",
     "output_type": "stream",
     "text": [
      "DEBUG flwr 2023-08-31 18:46:50,144 | server.py:236 | fit_round 24 received 2 results and 0 failures\n",
      "DEBUG flwr 2023-08-31 18:46:50,159 | server.py:173 | evaluate_round 24: strategy sampled 2 clients (out of 2)\n"
     ]
    },
    {
     "name": "stdout",
     "output_type": "stream",
     "text": [
      "agrregate_fit results list length is  2\n",
      "Saving round 24 aggregated_parameters...\n"
     ]
    },
    {
     "name": "stderr",
     "output_type": "stream",
     "text": [
      "DEBUG flwr 2023-08-31 18:46:52,476 | server.py:187 | evaluate_round 24 received 2 results and 0 failures\n",
      "DEBUG flwr 2023-08-31 18:46:52,477 | server.py:222 | fit_round 25: strategy sampled 2 clients (out of 2)\n"
     ]
    },
    {
     "name": "stdout",
     "output_type": "stream",
     "text": [
      "agrregate_evaluate results list length is  2\n",
      "server round is  24\n",
      "loss is  0.19393500685691833\n"
     ]
    },
    {
     "name": "stderr",
     "output_type": "stream",
     "text": [
      "DEBUG flwr 2023-08-31 18:47:42,606 | server.py:236 | fit_round 25 received 2 results and 0 failures\n",
      "DEBUG flwr 2023-08-31 18:47:42,632 | server.py:173 | evaluate_round 25: strategy sampled 2 clients (out of 2)\n"
     ]
    },
    {
     "name": "stdout",
     "output_type": "stream",
     "text": [
      "agrregate_fit results list length is  2\n",
      "Saving round 25 aggregated_parameters...\n"
     ]
    },
    {
     "name": "stderr",
     "output_type": "stream",
     "text": [
      "DEBUG flwr 2023-08-31 18:47:44,607 | server.py:187 | evaluate_round 25 received 2 results and 0 failures\n",
      "INFO flwr 2023-08-31 18:47:44,610 | server.py:153 | FL finished in 1334.9507319999975\n",
      "INFO flwr 2023-08-31 18:47:44,612 | app.py:225 | app_fit: losses_distributed [(1, 0.21843409538269043), (2, 0.20503613352775574), (3, 0.20014217495918274), (4, 0.20163114368915558), (5, 0.19951100647449493), (6, 0.19998368620872498), (7, 0.1987105906009674), (8, 0.19962665438652039), (9, 0.19818896055221558), (10, 0.19789375364780426), (11, 0.19671043753623962), (12, 0.19485190510749817), (13, 0.1938886195421219), (14, 0.1964036077260971), (15, 0.19531501829624176), (16, 0.19647499918937683), (17, 0.1960705667734146), (18, 0.1948298066854477), (19, 0.19435693323612213), (20, 0.19351127743721008), (21, 0.19499942660331726), (22, 0.1946839690208435), (23, 0.19535532593727112), (24, 0.19393500685691833), (25, 0.19464674592018127)]\n",
      "INFO flwr 2023-08-31 18:47:44,613 | app.py:226 | app_fit: metrics_distributed_fit {}\n",
      "INFO flwr 2023-08-31 18:47:44,616 | app.py:227 | app_fit: metrics_distributed {'mse': [(1, 0.43686819076538086), (2, 0.4100722670555115), (3, 0.4002843499183655), (4, 0.40326228737831116), (5, 0.39902201294898987), (6, 0.39996737241744995), (7, 0.3974211812019348), (8, 0.39925330877304077), (9, 0.39637792110443115), (10, 0.3957875072956085), (11, 0.39342087507247925), (12, 0.38970381021499634), (13, 0.3877772390842438), (14, 0.3928072154521942), (15, 0.3906300365924835), (16, 0.39294999837875366), (17, 0.3921411335468292), (18, 0.3896596133708954), (19, 0.38871386647224426), (20, 0.38702255487442017), (21, 0.3899988532066345), (22, 0.389367938041687), (23, 0.39071065187454224), (24, 0.38787001371383667), (25, 0.38929349184036255)]}\n",
      "INFO flwr 2023-08-31 18:47:44,619 | app.py:228 | app_fit: losses_centralized []\n",
      "INFO flwr 2023-08-31 18:47:44,620 | app.py:229 | app_fit: metrics_centralized {}\n"
     ]
    },
    {
     "name": "stdout",
     "output_type": "stream",
     "text": [
      "agrregate_evaluate results list length is  2\n",
      "server round is  25\n",
      "loss is  0.19464674592018127\n",
      "History (loss, distributed):\n",
      "\tround 1: 0.21843409538269043\n",
      "\tround 2: 0.20503613352775574\n",
      "\tround 3: 0.20014217495918274\n",
      "\tround 4: 0.20163114368915558\n",
      "\tround 5: 0.19951100647449493\n",
      "\tround 6: 0.19998368620872498\n",
      "\tround 7: 0.1987105906009674\n",
      "\tround 8: 0.19962665438652039\n",
      "\tround 9: 0.19818896055221558\n",
      "\tround 10: 0.19789375364780426\n",
      "\tround 11: 0.19671043753623962\n",
      "\tround 12: 0.19485190510749817\n",
      "\tround 13: 0.1938886195421219\n",
      "\tround 14: 0.1964036077260971\n",
      "\tround 15: 0.19531501829624176\n",
      "\tround 16: 0.19647499918937683\n",
      "\tround 17: 0.1960705667734146\n",
      "\tround 18: 0.1948298066854477\n",
      "\tround 19: 0.19435693323612213\n",
      "\tround 20: 0.19351127743721008\n",
      "\tround 21: 0.19499942660331726\n",
      "\tround 22: 0.1946839690208435\n",
      "\tround 23: 0.19535532593727112\n",
      "\tround 24: 0.19393500685691833\n",
      "\tround 25: 0.19464674592018127\n",
      "History (metrics, distributed, evaluate):\n",
      "{'mse': [(1, 0.43686819076538086), (2, 0.4100722670555115), (3, 0.4002843499183655), (4, 0.40326228737831116), (5, 0.39902201294898987), (6, 0.39996737241744995), (7, 0.3974211812019348), (8, 0.39925330877304077), (9, 0.39637792110443115), (10, 0.3957875072956085), (11, 0.39342087507247925), (12, 0.38970381021499634), (13, 0.3877772390842438), (14, 0.3928072154521942), (15, 0.3906300365924835), (16, 0.39294999837875366), (17, 0.3921411335468292), (18, 0.3896596133708954), (19, 0.38871386647224426), (20, 0.38702255487442017), (21, 0.3899988532066345), (22, 0.389367938041687), (23, 0.39071065187454224), (24, 0.38787001371383667), (25, 0.38929349184036255)]}\n",
      "[(1, 0.21843409538269043), (2, 0.20503613352775574), (3, 0.20014217495918274), (4, 0.20163114368915558), (5, 0.19951100647449493), (6, 0.19998368620872498), (7, 0.1987105906009674), (8, 0.19962665438652039), (9, 0.19818896055221558), (10, 0.19789375364780426), (11, 0.19671043753623962), (12, 0.19485190510749817), (13, 0.1938886195421219), (14, 0.1964036077260971), (15, 0.19531501829624176), (16, 0.19647499918937683), (17, 0.1960705667734146), (18, 0.1948298066854477), (19, 0.19435693323612213), (20, 0.19351127743721008), (21, 0.19499942660331726), (22, 0.1946839690208435), (23, 0.19535532593727112), (24, 0.19393500685691833), (25, 0.19464674592018127)]\n",
      "Fold 2:\n",
      "splitting [0.6, 0.4]\n",
      "time 0:22:37.679501\n",
      "mse [0.19464675]\n",
      "auc [0.7516307420185666]\n"
     ]
    }
   ],
   "source": [
    "splitting = [0.6, 0.4]\n",
    "do_fl(splitting)"
   ],
   "metadata": {
    "collapsed": false,
    "ExecuteTime": {
     "end_time": "2023-08-31T17:47:44.937014300Z",
     "start_time": "2023-08-31T17:25:07.216623700Z"
    }
   }
  },
  {
   "cell_type": "code",
   "execution_count": 11,
   "outputs": [
    {
     "name": "stdout",
     "output_type": "stream",
     "text": [
      "Fold 1:\n",
      "x_test: cpu\n",
      "y_test: cpu\n"
     ]
    },
    {
     "name": "stderr",
     "output_type": "stream",
     "text": [
      "INFO flwr 2023-08-31 18:59:37,841 | app.py:145 | Starting Flower simulation, config: ServerConfig(num_rounds=25, round_timeout=None)\n"
     ]
    },
    {
     "name": "stdout",
     "output_type": "stream",
     "text": [
      "Client 0 trainset shape torch.Size([361836, 120])\n",
      "Client 1 trainset shape torch.Size([90460, 120])\n",
      "FL started training on cpu\n",
      "Number of available GPUs: 0\n"
     ]
    },
    {
     "name": "stderr",
     "output_type": "stream",
     "text": [
      "2023-08-31 18:59:50,687\tINFO worker.py:1627 -- Started a local Ray instance. View the dashboard at \u001B[1m\u001B[32m127.0.0.1:8268 \u001B[39m\u001B[22m\n",
      "INFO flwr 2023-08-31 18:59:59,332 | app.py:179 | Flower VCE: Ray initialized with resources: {'memory': 1406580327.0, 'object_store_memory': 703290163.0, 'node:127.0.0.1': 1.0, 'CPU': 8.0, 'GPU': 1.0}\n",
      "INFO flwr 2023-08-31 18:59:59,335 | server.py:89 | Initializing global parameters\n",
      "INFO flwr 2023-08-31 18:59:59,336 | server.py:276 | Requesting initial parameters from one random client\n",
      "INFO flwr 2023-08-31 19:00:06,396 | server.py:280 | Received initial parameters from one random client\n",
      "INFO flwr 2023-08-31 19:00:06,397 | server.py:91 | Evaluating initial parameters\n",
      "INFO flwr 2023-08-31 19:00:06,398 | server.py:104 | FL starting\n",
      "DEBUG flwr 2023-08-31 19:00:06,399 | server.py:222 | fit_round 1: strategy sampled 2 clients (out of 2)\n",
      "DEBUG flwr 2023-08-31 19:01:30,653 | server.py:236 | fit_round 1 received 2 results and 0 failures\n",
      "WARNING flwr 2023-08-31 19:01:30,666 | fedavg.py:242 | No fit_metrics_aggregation_fn provided\n",
      "DEBUG flwr 2023-08-31 19:01:30,679 | server.py:173 | evaluate_round 1: strategy sampled 2 clients (out of 2)\n"
     ]
    },
    {
     "name": "stdout",
     "output_type": "stream",
     "text": [
      "agrregate_fit results list length is  2\n",
      "Saving round 1 aggregated_parameters...\n"
     ]
    },
    {
     "name": "stderr",
     "output_type": "stream",
     "text": [
      "DEBUG flwr 2023-08-31 19:01:37,003 | server.py:187 | evaluate_round 1 received 2 results and 0 failures\n",
      "DEBUG flwr 2023-08-31 19:01:37,031 | server.py:222 | fit_round 2: strategy sampled 2 clients (out of 2)\n"
     ]
    },
    {
     "name": "stdout",
     "output_type": "stream",
     "text": [
      "agrregate_evaluate results list length is  2\n",
      "server round is  1\n",
      "loss is  0.2152034342288971\n"
     ]
    },
    {
     "name": "stderr",
     "output_type": "stream",
     "text": [
      "DEBUG flwr 2023-08-31 19:02:54,603 | server.py:236 | fit_round 2 received 2 results and 0 failures\n",
      "DEBUG flwr 2023-08-31 19:02:54,625 | server.py:173 | evaluate_round 2: strategy sampled 2 clients (out of 2)\n"
     ]
    },
    {
     "name": "stdout",
     "output_type": "stream",
     "text": [
      "agrregate_fit results list length is  2\n",
      "Saving round 2 aggregated_parameters...\n"
     ]
    },
    {
     "name": "stderr",
     "output_type": "stream",
     "text": [
      "DEBUG flwr 2023-08-31 19:02:56,674 | server.py:187 | evaluate_round 2 received 2 results and 0 failures\n",
      "DEBUG flwr 2023-08-31 19:02:56,688 | server.py:222 | fit_round 3: strategy sampled 2 clients (out of 2)\n"
     ]
    },
    {
     "name": "stdout",
     "output_type": "stream",
     "text": [
      "agrregate_evaluate results list length is  2\n",
      "server round is  2\n",
      "loss is  0.20097215473651886\n"
     ]
    },
    {
     "name": "stderr",
     "output_type": "stream",
     "text": [
      "DEBUG flwr 2023-08-31 19:04:14,582 | server.py:236 | fit_round 3 received 2 results and 0 failures\n",
      "DEBUG flwr 2023-08-31 19:04:14,598 | server.py:173 | evaluate_round 3: strategy sampled 2 clients (out of 2)\n"
     ]
    },
    {
     "name": "stdout",
     "output_type": "stream",
     "text": [
      "agrregate_fit results list length is  2\n",
      "Saving round 3 aggregated_parameters...\n"
     ]
    },
    {
     "name": "stderr",
     "output_type": "stream",
     "text": [
      "DEBUG flwr 2023-08-31 19:04:16,874 | server.py:187 | evaluate_round 3 received 2 results and 0 failures\n",
      "DEBUG flwr 2023-08-31 19:04:16,875 | server.py:222 | fit_round 4: strategy sampled 2 clients (out of 2)\n"
     ]
    },
    {
     "name": "stdout",
     "output_type": "stream",
     "text": [
      "agrregate_evaluate results list length is  2\n",
      "server round is  3\n",
      "loss is  0.19922375679016113\n"
     ]
    },
    {
     "name": "stderr",
     "output_type": "stream",
     "text": [
      "DEBUG flwr 2023-08-31 19:05:27,276 | server.py:236 | fit_round 4 received 2 results and 0 failures\n",
      "DEBUG flwr 2023-08-31 19:05:27,290 | server.py:173 | evaluate_round 4: strategy sampled 2 clients (out of 2)\n"
     ]
    },
    {
     "name": "stdout",
     "output_type": "stream",
     "text": [
      "agrregate_fit results list length is  2\n",
      "Saving round 4 aggregated_parameters...\n"
     ]
    },
    {
     "name": "stderr",
     "output_type": "stream",
     "text": [
      "DEBUG flwr 2023-08-31 19:05:29,440 | server.py:187 | evaluate_round 4 received 2 results and 0 failures\n",
      "DEBUG flwr 2023-08-31 19:05:29,442 | server.py:222 | fit_round 5: strategy sampled 2 clients (out of 2)\n"
     ]
    },
    {
     "name": "stdout",
     "output_type": "stream",
     "text": [
      "agrregate_evaluate results list length is  2\n",
      "server round is  4\n",
      "loss is  0.20068593323230743\n"
     ]
    },
    {
     "name": "stderr",
     "output_type": "stream",
     "text": [
      "DEBUG flwr 2023-08-31 19:06:46,679 | server.py:236 | fit_round 5 received 2 results and 0 failures\n",
      "DEBUG flwr 2023-08-31 19:06:46,704 | server.py:173 | evaluate_round 5: strategy sampled 2 clients (out of 2)\n"
     ]
    },
    {
     "name": "stdout",
     "output_type": "stream",
     "text": [
      "agrregate_fit results list length is  2\n",
      "Saving round 5 aggregated_parameters...\n"
     ]
    },
    {
     "name": "stderr",
     "output_type": "stream",
     "text": [
      "DEBUG flwr 2023-08-31 19:06:48,718 | server.py:187 | evaluate_round 5 received 2 results and 0 failures\n",
      "DEBUG flwr 2023-08-31 19:06:48,720 | server.py:222 | fit_round 6: strategy sampled 2 clients (out of 2)\n"
     ]
    },
    {
     "name": "stdout",
     "output_type": "stream",
     "text": [
      "agrregate_evaluate results list length is  2\n",
      "server round is  5\n",
      "loss is  0.2004062533378601\n"
     ]
    },
    {
     "name": "stderr",
     "output_type": "stream",
     "text": [
      "DEBUG flwr 2023-08-31 19:07:54,491 | server.py:236 | fit_round 6 received 2 results and 0 failures\n",
      "DEBUG flwr 2023-08-31 19:07:54,506 | server.py:173 | evaluate_round 6: strategy sampled 2 clients (out of 2)\n"
     ]
    },
    {
     "name": "stdout",
     "output_type": "stream",
     "text": [
      "agrregate_fit results list length is  2\n",
      "Saving round 6 aggregated_parameters...\n"
     ]
    },
    {
     "name": "stderr",
     "output_type": "stream",
     "text": [
      "DEBUG flwr 2023-08-31 19:07:56,491 | server.py:187 | evaluate_round 6 received 2 results and 0 failures\n",
      "DEBUG flwr 2023-08-31 19:07:56,493 | server.py:222 | fit_round 7: strategy sampled 2 clients (out of 2)\n"
     ]
    },
    {
     "name": "stdout",
     "output_type": "stream",
     "text": [
      "agrregate_evaluate results list length is  2\n",
      "server round is  6\n",
      "loss is  0.1971716582775116\n"
     ]
    },
    {
     "name": "stderr",
     "output_type": "stream",
     "text": [
      "DEBUG flwr 2023-08-31 19:09:06,451 | server.py:236 | fit_round 7 received 2 results and 0 failures\n",
      "DEBUG flwr 2023-08-31 19:09:06,475 | server.py:173 | evaluate_round 7: strategy sampled 2 clients (out of 2)\n"
     ]
    },
    {
     "name": "stdout",
     "output_type": "stream",
     "text": [
      "agrregate_fit results list length is  2\n",
      "Saving round 7 aggregated_parameters...\n"
     ]
    },
    {
     "name": "stderr",
     "output_type": "stream",
     "text": [
      "DEBUG flwr 2023-08-31 19:09:08,485 | server.py:187 | evaluate_round 7 received 2 results and 0 failures\n",
      "DEBUG flwr 2023-08-31 19:09:08,486 | server.py:222 | fit_round 8: strategy sampled 2 clients (out of 2)\n"
     ]
    },
    {
     "name": "stdout",
     "output_type": "stream",
     "text": [
      "agrregate_evaluate results list length is  2\n",
      "server round is  7\n",
      "loss is  0.19922059774398804\n"
     ]
    },
    {
     "name": "stderr",
     "output_type": "stream",
     "text": [
      "DEBUG flwr 2023-08-31 19:10:26,599 | server.py:236 | fit_round 8 received 2 results and 0 failures\n",
      "DEBUG flwr 2023-08-31 19:10:26,613 | server.py:173 | evaluate_round 8: strategy sampled 2 clients (out of 2)\n"
     ]
    },
    {
     "name": "stdout",
     "output_type": "stream",
     "text": [
      "agrregate_fit results list length is  2\n",
      "Saving round 8 aggregated_parameters...\n"
     ]
    },
    {
     "name": "stderr",
     "output_type": "stream",
     "text": [
      "DEBUG flwr 2023-08-31 19:10:28,645 | server.py:187 | evaluate_round 8 received 2 results and 0 failures\n",
      "DEBUG flwr 2023-08-31 19:10:28,646 | server.py:222 | fit_round 9: strategy sampled 2 clients (out of 2)\n"
     ]
    },
    {
     "name": "stdout",
     "output_type": "stream",
     "text": [
      "agrregate_evaluate results list length is  2\n",
      "server round is  8\n",
      "loss is  0.19562487304210663\n"
     ]
    },
    {
     "name": "stderr",
     "output_type": "stream",
     "text": [
      "DEBUG flwr 2023-08-31 19:11:39,010 | server.py:236 | fit_round 9 received 2 results and 0 failures\n",
      "DEBUG flwr 2023-08-31 19:11:39,021 | server.py:173 | evaluate_round 9: strategy sampled 2 clients (out of 2)\n"
     ]
    },
    {
     "name": "stdout",
     "output_type": "stream",
     "text": [
      "agrregate_fit results list length is  2\n",
      "Saving round 9 aggregated_parameters...\n"
     ]
    },
    {
     "name": "stderr",
     "output_type": "stream",
     "text": [
      "DEBUG flwr 2023-08-31 19:11:41,192 | server.py:187 | evaluate_round 9 received 2 results and 0 failures\n",
      "DEBUG flwr 2023-08-31 19:11:41,194 | server.py:222 | fit_round 10: strategy sampled 2 clients (out of 2)\n"
     ]
    },
    {
     "name": "stdout",
     "output_type": "stream",
     "text": [
      "agrregate_evaluate results list length is  2\n",
      "server round is  9\n",
      "loss is  0.19445224106311798\n"
     ]
    },
    {
     "name": "stderr",
     "output_type": "stream",
     "text": [
      "DEBUG flwr 2023-08-31 19:12:50,627 | server.py:236 | fit_round 10 received 2 results and 0 failures\n",
      "DEBUG flwr 2023-08-31 19:12:50,644 | server.py:173 | evaluate_round 10: strategy sampled 2 clients (out of 2)\n"
     ]
    },
    {
     "name": "stdout",
     "output_type": "stream",
     "text": [
      "agrregate_fit results list length is  2\n",
      "Saving round 10 aggregated_parameters...\n"
     ]
    },
    {
     "name": "stderr",
     "output_type": "stream",
     "text": [
      "DEBUG flwr 2023-08-31 19:12:53,011 | server.py:187 | evaluate_round 10 received 2 results and 0 failures\n",
      "DEBUG flwr 2023-08-31 19:12:53,013 | server.py:222 | fit_round 11: strategy sampled 2 clients (out of 2)\n"
     ]
    },
    {
     "name": "stdout",
     "output_type": "stream",
     "text": [
      "agrregate_evaluate results list length is  2\n",
      "server round is  10\n",
      "loss is  0.19693316519260406\n"
     ]
    },
    {
     "name": "stderr",
     "output_type": "stream",
     "text": [
      "DEBUG flwr 2023-08-31 19:14:06,186 | server.py:236 | fit_round 11 received 2 results and 0 failures\n",
      "DEBUG flwr 2023-08-31 19:14:06,203 | server.py:173 | evaluate_round 11: strategy sampled 2 clients (out of 2)\n"
     ]
    },
    {
     "name": "stdout",
     "output_type": "stream",
     "text": [
      "agrregate_fit results list length is  2\n",
      "Saving round 11 aggregated_parameters...\n"
     ]
    },
    {
     "name": "stderr",
     "output_type": "stream",
     "text": [
      "DEBUG flwr 2023-08-31 19:14:08,409 | server.py:187 | evaluate_round 11 received 2 results and 0 failures\n",
      "DEBUG flwr 2023-08-31 19:14:08,410 | server.py:222 | fit_round 12: strategy sampled 2 clients (out of 2)\n"
     ]
    },
    {
     "name": "stdout",
     "output_type": "stream",
     "text": [
      "agrregate_evaluate results list length is  2\n",
      "server round is  11\n",
      "loss is  0.19798694550991058\n"
     ]
    },
    {
     "name": "stderr",
     "output_type": "stream",
     "text": [
      "DEBUG flwr 2023-08-31 19:15:18,100 | server.py:236 | fit_round 12 received 2 results and 0 failures\n",
      "DEBUG flwr 2023-08-31 19:15:18,126 | server.py:173 | evaluate_round 12: strategy sampled 2 clients (out of 2)\n"
     ]
    },
    {
     "name": "stdout",
     "output_type": "stream",
     "text": [
      "agrregate_fit results list length is  2\n",
      "Saving round 12 aggregated_parameters...\n"
     ]
    },
    {
     "name": "stderr",
     "output_type": "stream",
     "text": [
      "DEBUG flwr 2023-08-31 19:15:20,194 | server.py:187 | evaluate_round 12 received 2 results and 0 failures\n",
      "DEBUG flwr 2023-08-31 19:15:20,195 | server.py:222 | fit_round 13: strategy sampled 2 clients (out of 2)\n"
     ]
    },
    {
     "name": "stdout",
     "output_type": "stream",
     "text": [
      "agrregate_evaluate results list length is  2\n",
      "server round is  12\n",
      "loss is  0.19433780014514923\n"
     ]
    },
    {
     "name": "stderr",
     "output_type": "stream",
     "text": [
      "DEBUG flwr 2023-08-31 19:16:34,509 | server.py:236 | fit_round 13 received 2 results and 0 failures\n",
      "DEBUG flwr 2023-08-31 19:16:34,534 | server.py:173 | evaluate_round 13: strategy sampled 2 clients (out of 2)\n"
     ]
    },
    {
     "name": "stdout",
     "output_type": "stream",
     "text": [
      "agrregate_fit results list length is  2\n",
      "Saving round 13 aggregated_parameters...\n"
     ]
    },
    {
     "name": "stderr",
     "output_type": "stream",
     "text": [
      "DEBUG flwr 2023-08-31 19:16:37,720 | server.py:187 | evaluate_round 13 received 2 results and 0 failures\n",
      "DEBUG flwr 2023-08-31 19:16:37,721 | server.py:222 | fit_round 14: strategy sampled 2 clients (out of 2)\n"
     ]
    },
    {
     "name": "stdout",
     "output_type": "stream",
     "text": [
      "agrregate_evaluate results list length is  2\n",
      "server round is  13\n",
      "loss is  0.19673453271389008\n"
     ]
    },
    {
     "name": "stderr",
     "output_type": "stream",
     "text": [
      "DEBUG flwr 2023-08-31 19:17:53,934 | server.py:236 | fit_round 14 received 2 results and 0 failures\n",
      "DEBUG flwr 2023-08-31 19:17:53,964 | server.py:173 | evaluate_round 14: strategy sampled 2 clients (out of 2)\n"
     ]
    },
    {
     "name": "stdout",
     "output_type": "stream",
     "text": [
      "agrregate_fit results list length is  2\n",
      "Saving round 14 aggregated_parameters...\n"
     ]
    },
    {
     "name": "stderr",
     "output_type": "stream",
     "text": [
      "DEBUG flwr 2023-08-31 19:17:56,738 | server.py:187 | evaluate_round 14 received 2 results and 0 failures\n",
      "DEBUG flwr 2023-08-31 19:17:56,740 | server.py:222 | fit_round 15: strategy sampled 2 clients (out of 2)\n"
     ]
    },
    {
     "name": "stdout",
     "output_type": "stream",
     "text": [
      "agrregate_evaluate results list length is  2\n",
      "server round is  14\n",
      "loss is  0.19619691371917725\n"
     ]
    },
    {
     "name": "stderr",
     "output_type": "stream",
     "text": [
      "DEBUG flwr 2023-08-31 19:19:13,279 | server.py:236 | fit_round 15 received 2 results and 0 failures\n",
      "DEBUG flwr 2023-08-31 19:19:13,297 | server.py:173 | evaluate_round 15: strategy sampled 2 clients (out of 2)\n"
     ]
    },
    {
     "name": "stdout",
     "output_type": "stream",
     "text": [
      "agrregate_fit results list length is  2\n",
      "Saving round 15 aggregated_parameters...\n"
     ]
    },
    {
     "name": "stderr",
     "output_type": "stream",
     "text": [
      "DEBUG flwr 2023-08-31 19:19:15,437 | server.py:187 | evaluate_round 15 received 2 results and 0 failures\n",
      "DEBUG flwr 2023-08-31 19:19:15,438 | server.py:222 | fit_round 16: strategy sampled 2 clients (out of 2)\n"
     ]
    },
    {
     "name": "stdout",
     "output_type": "stream",
     "text": [
      "agrregate_evaluate results list length is  2\n",
      "server round is  15\n",
      "loss is  0.1942235827445984\n"
     ]
    },
    {
     "name": "stderr",
     "output_type": "stream",
     "text": [
      "DEBUG flwr 2023-08-31 19:20:32,636 | server.py:236 | fit_round 16 received 2 results and 0 failures\n",
      "DEBUG flwr 2023-08-31 19:20:32,650 | server.py:173 | evaluate_round 16: strategy sampled 2 clients (out of 2)\n"
     ]
    },
    {
     "name": "stdout",
     "output_type": "stream",
     "text": [
      "agrregate_fit results list length is  2\n",
      "Saving round 16 aggregated_parameters...\n"
     ]
    },
    {
     "name": "stderr",
     "output_type": "stream",
     "text": [
      "DEBUG flwr 2023-08-31 19:20:35,803 | server.py:187 | evaluate_round 16 received 2 results and 0 failures\n",
      "DEBUG flwr 2023-08-31 19:20:35,804 | server.py:222 | fit_round 17: strategy sampled 2 clients (out of 2)\n"
     ]
    },
    {
     "name": "stdout",
     "output_type": "stream",
     "text": [
      "agrregate_evaluate results list length is  2\n",
      "server round is  16\n",
      "loss is  0.1948210597038269\n"
     ]
    },
    {
     "name": "stderr",
     "output_type": "stream",
     "text": [
      "DEBUG flwr 2023-08-31 19:21:55,076 | server.py:236 | fit_round 17 received 2 results and 0 failures\n",
      "DEBUG flwr 2023-08-31 19:21:55,089 | server.py:173 | evaluate_round 17: strategy sampled 2 clients (out of 2)\n"
     ]
    },
    {
     "name": "stdout",
     "output_type": "stream",
     "text": [
      "agrregate_fit results list length is  2\n",
      "Saving round 17 aggregated_parameters...\n"
     ]
    },
    {
     "name": "stderr",
     "output_type": "stream",
     "text": [
      "DEBUG flwr 2023-08-31 19:21:57,079 | server.py:187 | evaluate_round 17 received 2 results and 0 failures\n",
      "DEBUG flwr 2023-08-31 19:21:57,080 | server.py:222 | fit_round 18: strategy sampled 2 clients (out of 2)\n"
     ]
    },
    {
     "name": "stdout",
     "output_type": "stream",
     "text": [
      "agrregate_evaluate results list length is  2\n",
      "server round is  17\n",
      "loss is  0.19463738799095154\n"
     ]
    },
    {
     "name": "stderr",
     "output_type": "stream",
     "text": [
      "DEBUG flwr 2023-08-31 19:23:11,117 | server.py:236 | fit_round 18 received 2 results and 0 failures\n",
      "DEBUG flwr 2023-08-31 19:23:11,135 | server.py:173 | evaluate_round 18: strategy sampled 2 clients (out of 2)\n"
     ]
    },
    {
     "name": "stdout",
     "output_type": "stream",
     "text": [
      "agrregate_fit results list length is  2\n",
      "Saving round 18 aggregated_parameters...\n"
     ]
    },
    {
     "name": "stderr",
     "output_type": "stream",
     "text": [
      "DEBUG flwr 2023-08-31 19:23:13,248 | server.py:187 | evaluate_round 18 received 2 results and 0 failures\n",
      "DEBUG flwr 2023-08-31 19:23:13,250 | server.py:222 | fit_round 19: strategy sampled 2 clients (out of 2)\n"
     ]
    },
    {
     "name": "stdout",
     "output_type": "stream",
     "text": [
      "agrregate_evaluate results list length is  2\n",
      "server round is  18\n",
      "loss is  0.19601672887802124\n"
     ]
    },
    {
     "name": "stderr",
     "output_type": "stream",
     "text": [
      "DEBUG flwr 2023-08-31 19:24:35,969 | server.py:236 | fit_round 19 received 2 results and 0 failures\n",
      "DEBUG flwr 2023-08-31 19:24:35,985 | server.py:173 | evaluate_round 19: strategy sampled 2 clients (out of 2)\n"
     ]
    },
    {
     "name": "stdout",
     "output_type": "stream",
     "text": [
      "agrregate_fit results list length is  2\n",
      "Saving round 19 aggregated_parameters...\n"
     ]
    },
    {
     "name": "stderr",
     "output_type": "stream",
     "text": [
      "DEBUG flwr 2023-08-31 19:24:38,149 | server.py:187 | evaluate_round 19 received 2 results and 0 failures\n",
      "DEBUG flwr 2023-08-31 19:24:38,151 | server.py:222 | fit_round 20: strategy sampled 2 clients (out of 2)\n"
     ]
    },
    {
     "name": "stdout",
     "output_type": "stream",
     "text": [
      "agrregate_evaluate results list length is  2\n",
      "server round is  19\n",
      "loss is  0.1953795701265335\n"
     ]
    },
    {
     "name": "stderr",
     "output_type": "stream",
     "text": [
      "DEBUG flwr 2023-08-31 19:25:59,699 | server.py:236 | fit_round 20 received 2 results and 0 failures\n",
      "DEBUG flwr 2023-08-31 19:25:59,711 | server.py:173 | evaluate_round 20: strategy sampled 2 clients (out of 2)\n"
     ]
    },
    {
     "name": "stdout",
     "output_type": "stream",
     "text": [
      "agrregate_fit results list length is  2\n",
      "Saving round 20 aggregated_parameters...\n"
     ]
    },
    {
     "name": "stderr",
     "output_type": "stream",
     "text": [
      "DEBUG flwr 2023-08-31 19:26:01,827 | server.py:187 | evaluate_round 20 received 2 results and 0 failures\n",
      "DEBUG flwr 2023-08-31 19:26:01,829 | server.py:222 | fit_round 21: strategy sampled 2 clients (out of 2)\n"
     ]
    },
    {
     "name": "stdout",
     "output_type": "stream",
     "text": [
      "agrregate_evaluate results list length is  2\n",
      "server round is  20\n",
      "loss is  0.1936863362789154\n"
     ]
    },
    {
     "name": "stderr",
     "output_type": "stream",
     "text": [
      "DEBUG flwr 2023-08-31 19:27:18,419 | server.py:236 | fit_round 21 received 2 results and 0 failures\n",
      "DEBUG flwr 2023-08-31 19:27:18,434 | server.py:173 | evaluate_round 21: strategy sampled 2 clients (out of 2)\n"
     ]
    },
    {
     "name": "stdout",
     "output_type": "stream",
     "text": [
      "agrregate_fit results list length is  2\n",
      "Saving round 21 aggregated_parameters...\n"
     ]
    },
    {
     "name": "stderr",
     "output_type": "stream",
     "text": [
      "DEBUG flwr 2023-08-31 19:27:22,110 | server.py:187 | evaluate_round 21 received 2 results and 0 failures\n",
      "DEBUG flwr 2023-08-31 19:27:22,112 | server.py:222 | fit_round 22: strategy sampled 2 clients (out of 2)\n"
     ]
    },
    {
     "name": "stdout",
     "output_type": "stream",
     "text": [
      "agrregate_evaluate results list length is  2\n",
      "server round is  21\n",
      "loss is  0.19397175312042236\n"
     ]
    },
    {
     "name": "stderr",
     "output_type": "stream",
     "text": [
      "DEBUG flwr 2023-08-31 19:28:39,796 | server.py:236 | fit_round 22 received 2 results and 0 failures\n",
      "DEBUG flwr 2023-08-31 19:28:39,824 | server.py:173 | evaluate_round 22: strategy sampled 2 clients (out of 2)\n"
     ]
    },
    {
     "name": "stdout",
     "output_type": "stream",
     "text": [
      "agrregate_fit results list length is  2\n",
      "Saving round 22 aggregated_parameters...\n"
     ]
    },
    {
     "name": "stderr",
     "output_type": "stream",
     "text": [
      "DEBUG flwr 2023-08-31 19:28:41,835 | server.py:187 | evaluate_round 22 received 2 results and 0 failures\n",
      "DEBUG flwr 2023-08-31 19:28:41,836 | server.py:222 | fit_round 23: strategy sampled 2 clients (out of 2)\n"
     ]
    },
    {
     "name": "stdout",
     "output_type": "stream",
     "text": [
      "agrregate_evaluate results list length is  2\n",
      "server round is  22\n",
      "loss is  0.1909964680671692\n"
     ]
    },
    {
     "name": "stderr",
     "output_type": "stream",
     "text": [
      "DEBUG flwr 2023-08-31 19:29:53,885 | server.py:236 | fit_round 23 received 2 results and 0 failures\n",
      "DEBUG flwr 2023-08-31 19:29:53,900 | server.py:173 | evaluate_round 23: strategy sampled 2 clients (out of 2)\n"
     ]
    },
    {
     "name": "stdout",
     "output_type": "stream",
     "text": [
      "agrregate_fit results list length is  2\n",
      "Saving round 23 aggregated_parameters...\n"
     ]
    },
    {
     "name": "stderr",
     "output_type": "stream",
     "text": [
      "DEBUG flwr 2023-08-31 19:29:56,273 | server.py:187 | evaluate_round 23 received 2 results and 0 failures\n",
      "DEBUG flwr 2023-08-31 19:29:56,274 | server.py:222 | fit_round 24: strategy sampled 2 clients (out of 2)\n"
     ]
    },
    {
     "name": "stdout",
     "output_type": "stream",
     "text": [
      "agrregate_evaluate results list length is  2\n",
      "server round is  23\n",
      "loss is  0.19573906064033508\n"
     ]
    },
    {
     "name": "stderr",
     "output_type": "stream",
     "text": [
      "DEBUG flwr 2023-08-31 19:31:18,567 | server.py:236 | fit_round 24 received 2 results and 0 failures\n",
      "DEBUG flwr 2023-08-31 19:31:18,584 | server.py:173 | evaluate_round 24: strategy sampled 2 clients (out of 2)\n"
     ]
    },
    {
     "name": "stdout",
     "output_type": "stream",
     "text": [
      "agrregate_fit results list length is  2\n",
      "Saving round 24 aggregated_parameters...\n"
     ]
    },
    {
     "name": "stderr",
     "output_type": "stream",
     "text": [
      "DEBUG flwr 2023-08-31 19:31:22,033 | server.py:187 | evaluate_round 24 received 2 results and 0 failures\n",
      "DEBUG flwr 2023-08-31 19:31:22,035 | server.py:222 | fit_round 25: strategy sampled 2 clients (out of 2)\n"
     ]
    },
    {
     "name": "stdout",
     "output_type": "stream",
     "text": [
      "agrregate_evaluate results list length is  2\n",
      "server round is  24\n",
      "loss is  0.19415810704231262\n"
     ]
    },
    {
     "name": "stderr",
     "output_type": "stream",
     "text": [
      "DEBUG flwr 2023-08-31 19:32:45,153 | server.py:236 | fit_round 25 received 2 results and 0 failures\n",
      "DEBUG flwr 2023-08-31 19:32:45,166 | server.py:173 | evaluate_round 25: strategy sampled 2 clients (out of 2)\n"
     ]
    },
    {
     "name": "stdout",
     "output_type": "stream",
     "text": [
      "agrregate_fit results list length is  2\n",
      "Saving round 25 aggregated_parameters...\n"
     ]
    },
    {
     "name": "stderr",
     "output_type": "stream",
     "text": [
      "DEBUG flwr 2023-08-31 19:32:47,771 | server.py:187 | evaluate_round 25 received 2 results and 0 failures\n",
      "INFO flwr 2023-08-31 19:32:47,773 | server.py:153 | FL finished in 1961.3744161000068\n",
      "INFO flwr 2023-08-31 19:32:47,776 | app.py:225 | app_fit: losses_distributed [(1, 0.2152034342288971), (2, 0.20097215473651886), (3, 0.19922375679016113), (4, 0.20068593323230743), (5, 0.2004062533378601), (6, 0.1971716582775116), (7, 0.19922059774398804), (8, 0.19562487304210663), (9, 0.19445224106311798), (10, 0.19693316519260406), (11, 0.19798694550991058), (12, 0.19433780014514923), (13, 0.19673453271389008), (14, 0.19619691371917725), (15, 0.1942235827445984), (16, 0.1948210597038269), (17, 0.19463738799095154), (18, 0.19601672887802124), (19, 0.1953795701265335), (20, 0.1936863362789154), (21, 0.19397175312042236), (22, 0.1909964680671692), (23, 0.19573906064033508), (24, 0.19415810704231262), (25, 0.19438911974430084)]\n",
      "INFO flwr 2023-08-31 19:32:47,777 | app.py:226 | app_fit: metrics_distributed_fit {}\n",
      "INFO flwr 2023-08-31 19:32:47,778 | app.py:227 | app_fit: metrics_distributed {'mse': [(1, 0.4304068684577942), (2, 0.4019443094730377), (3, 0.39844751358032227), (4, 0.40137186646461487), (5, 0.4008125066757202), (6, 0.3943433165550232), (7, 0.3984411954879761), (8, 0.39124974608421326), (9, 0.38890448212623596), (10, 0.39386633038520813), (11, 0.39597389101982117), (12, 0.38867560029029846), (13, 0.39346906542778015), (14, 0.3923938274383545), (15, 0.3884471654891968), (16, 0.3896421194076538), (17, 0.3892747759819031), (18, 0.3920334577560425), (19, 0.390759140253067), (20, 0.3873726725578308), (21, 0.3879435062408447), (22, 0.3819929361343384), (23, 0.39147812128067017), (24, 0.38831621408462524), (25, 0.3887782394886017)]}\n",
      "INFO flwr 2023-08-31 19:32:47,780 | app.py:228 | app_fit: losses_centralized []\n",
      "INFO flwr 2023-08-31 19:32:47,781 | app.py:229 | app_fit: metrics_centralized {}\n"
     ]
    },
    {
     "name": "stdout",
     "output_type": "stream",
     "text": [
      "agrregate_evaluate results list length is  2\n",
      "server round is  25\n",
      "loss is  0.19438911974430084\n",
      "History (loss, distributed):\n",
      "\tround 1: 0.2152034342288971\n",
      "\tround 2: 0.20097215473651886\n",
      "\tround 3: 0.19922375679016113\n",
      "\tround 4: 0.20068593323230743\n",
      "\tround 5: 0.2004062533378601\n",
      "\tround 6: 0.1971716582775116\n",
      "\tround 7: 0.19922059774398804\n",
      "\tround 8: 0.19562487304210663\n",
      "\tround 9: 0.19445224106311798\n",
      "\tround 10: 0.19693316519260406\n",
      "\tround 11: 0.19798694550991058\n",
      "\tround 12: 0.19433780014514923\n",
      "\tround 13: 0.19673453271389008\n",
      "\tround 14: 0.19619691371917725\n",
      "\tround 15: 0.1942235827445984\n",
      "\tround 16: 0.1948210597038269\n",
      "\tround 17: 0.19463738799095154\n",
      "\tround 18: 0.19601672887802124\n",
      "\tround 19: 0.1953795701265335\n",
      "\tround 20: 0.1936863362789154\n",
      "\tround 21: 0.19397175312042236\n",
      "\tround 22: 0.1909964680671692\n",
      "\tround 23: 0.19573906064033508\n",
      "\tround 24: 0.19415810704231262\n",
      "\tround 25: 0.19438911974430084\n",
      "History (metrics, distributed, evaluate):\n",
      "{'mse': [(1, 0.4304068684577942), (2, 0.4019443094730377), (3, 0.39844751358032227), (4, 0.40137186646461487), (5, 0.4008125066757202), (6, 0.3943433165550232), (7, 0.3984411954879761), (8, 0.39124974608421326), (9, 0.38890448212623596), (10, 0.39386633038520813), (11, 0.39597389101982117), (12, 0.38867560029029846), (13, 0.39346906542778015), (14, 0.3923938274383545), (15, 0.3884471654891968), (16, 0.3896421194076538), (17, 0.3892747759819031), (18, 0.3920334577560425), (19, 0.390759140253067), (20, 0.3873726725578308), (21, 0.3879435062408447), (22, 0.3819929361343384), (23, 0.39147812128067017), (24, 0.38831621408462524), (25, 0.3887782394886017)]}\n",
      "[(1, 0.2152034342288971), (2, 0.20097215473651886), (3, 0.19922375679016113), (4, 0.20068593323230743), (5, 0.2004062533378601), (6, 0.1971716582775116), (7, 0.19922059774398804), (8, 0.19562487304210663), (9, 0.19445224106311798), (10, 0.19693316519260406), (11, 0.19798694550991058), (12, 0.19433780014514923), (13, 0.19673453271389008), (14, 0.19619691371917725), (15, 0.1942235827445984), (16, 0.1948210597038269), (17, 0.19463738799095154), (18, 0.19601672887802124), (19, 0.1953795701265335), (20, 0.1936863362789154), (21, 0.19397175312042236), (22, 0.1909964680671692), (23, 0.19573906064033508), (24, 0.19415810704231262), (25, 0.19438911974430084)]\n",
      "Fold 2:\n",
      "splitting [0.8, 0.2]\n",
      "time 0:33:11.896665\n",
      "mse [0.19438912]\n",
      "auc [0.7486339535402171]\n"
     ]
    }
   ],
   "source": [
    "splitting = [0.8, 0.2]\n",
    "do_fl(splitting)"
   ],
   "metadata": {
    "collapsed": false,
    "ExecuteTime": {
     "end_time": "2023-08-31T18:32:48.352022200Z",
     "start_time": "2023-08-31T17:59:36.400508100Z"
    }
   }
  },
  {
   "cell_type": "code",
   "execution_count": 12,
   "outputs": [
    {
     "name": "stdout",
     "output_type": "stream",
     "text": [
      "Fold 1:\n",
      "x_test: cpu\n",
      "y_test: cpu\n",
      "Client 0 trainset shape torch.Size([154112, 120])\n",
      "Client 1 trainset shape torch.Size([144606, 120])\n"
     ]
    },
    {
     "name": "stderr",
     "output_type": "stream",
     "text": [
      "INFO flwr 2023-08-31 19:32:49,859 | app.py:145 | Starting Flower simulation, config: ServerConfig(num_rounds=25, round_timeout=None)\n"
     ]
    },
    {
     "name": "stdout",
     "output_type": "stream",
     "text": [
      "Client 2 trainset shape torch.Size([144586, 120])\n",
      "FL started training on cpu\n",
      "Number of available GPUs: 0\n"
     ]
    },
    {
     "name": "stderr",
     "output_type": "stream",
     "text": [
      "2023-08-31 19:32:59,741\tINFO worker.py:1627 -- Started a local Ray instance. View the dashboard at \u001B[1m\u001B[32m127.0.0.1:8268 \u001B[39m\u001B[22m\n",
      "INFO flwr 2023-08-31 19:33:07,488 | app.py:179 | Flower VCE: Ray initialized with resources: {'memory': 1716569703.0, 'object_store_memory': 858284851.0, 'node:127.0.0.1': 1.0, 'CPU': 8.0, 'GPU': 1.0}\n",
      "INFO flwr 2023-08-31 19:33:07,491 | server.py:89 | Initializing global parameters\n",
      "INFO flwr 2023-08-31 19:33:07,493 | server.py:276 | Requesting initial parameters from one random client\n",
      "INFO flwr 2023-08-31 19:33:12,775 | server.py:280 | Received initial parameters from one random client\n",
      "INFO flwr 2023-08-31 19:33:12,777 | server.py:91 | Evaluating initial parameters\n",
      "INFO flwr 2023-08-31 19:33:12,779 | server.py:104 | FL starting\n",
      "DEBUG flwr 2023-08-31 19:33:12,779 | server.py:222 | fit_round 1: strategy sampled 2 clients (out of 3)\n",
      "DEBUG flwr 2023-08-31 19:33:47,812 | server.py:236 | fit_round 1 received 2 results and 0 failures\n",
      "WARNING flwr 2023-08-31 19:33:47,831 | fedavg.py:242 | No fit_metrics_aggregation_fn provided\n",
      "DEBUG flwr 2023-08-31 19:33:47,841 | server.py:173 | evaluate_round 1: strategy sampled 2 clients (out of 3)\n"
     ]
    },
    {
     "name": "stdout",
     "output_type": "stream",
     "text": [
      "agrregate_fit results list length is  2\n",
      "Saving round 1 aggregated_parameters...\n"
     ]
    },
    {
     "name": "stderr",
     "output_type": "stream",
     "text": [
      "DEBUG flwr 2023-08-31 19:33:50,258 | server.py:187 | evaluate_round 1 received 2 results and 0 failures\n",
      "DEBUG flwr 2023-08-31 19:33:50,259 | server.py:222 | fit_round 2: strategy sampled 2 clients (out of 3)\n"
     ]
    },
    {
     "name": "stdout",
     "output_type": "stream",
     "text": [
      "agrregate_evaluate results list length is  2\n",
      "server round is  1\n",
      "loss is  0.22898419201374054\n"
     ]
    },
    {
     "name": "stderr",
     "output_type": "stream",
     "text": [
      "DEBUG flwr 2023-08-31 19:34:22,942 | server.py:236 | fit_round 2 received 2 results and 0 failures\n",
      "DEBUG flwr 2023-08-31 19:34:22,957 | server.py:173 | evaluate_round 2: strategy sampled 2 clients (out of 3)\n"
     ]
    },
    {
     "name": "stdout",
     "output_type": "stream",
     "text": [
      "agrregate_fit results list length is  2\n",
      "Saving round 2 aggregated_parameters...\n"
     ]
    },
    {
     "name": "stderr",
     "output_type": "stream",
     "text": [
      "DEBUG flwr 2023-08-31 19:34:25,051 | server.py:187 | evaluate_round 2 received 2 results and 0 failures\n",
      "DEBUG flwr 2023-08-31 19:34:25,052 | server.py:222 | fit_round 3: strategy sampled 2 clients (out of 3)\n"
     ]
    },
    {
     "name": "stdout",
     "output_type": "stream",
     "text": [
      "agrregate_evaluate results list length is  2\n",
      "server round is  2\n",
      "loss is  0.2063377946615219\n"
     ]
    },
    {
     "name": "stderr",
     "output_type": "stream",
     "text": [
      "DEBUG flwr 2023-08-31 19:34:53,907 | server.py:236 | fit_round 3 received 2 results and 0 failures\n",
      "DEBUG flwr 2023-08-31 19:34:53,923 | server.py:173 | evaluate_round 3: strategy sampled 2 clients (out of 3)\n"
     ]
    },
    {
     "name": "stdout",
     "output_type": "stream",
     "text": [
      "agrregate_fit results list length is  2\n",
      "Saving round 3 aggregated_parameters...\n"
     ]
    },
    {
     "name": "stderr",
     "output_type": "stream",
     "text": [
      "DEBUG flwr 2023-08-31 19:34:56,129 | server.py:187 | evaluate_round 3 received 2 results and 0 failures\n",
      "DEBUG flwr 2023-08-31 19:34:56,132 | server.py:222 | fit_round 4: strategy sampled 2 clients (out of 3)\n"
     ]
    },
    {
     "name": "stdout",
     "output_type": "stream",
     "text": [
      "agrregate_evaluate results list length is  2\n",
      "server round is  3\n",
      "loss is  0.20339186489582062\n"
     ]
    },
    {
     "name": "stderr",
     "output_type": "stream",
     "text": [
      "DEBUG flwr 2023-08-31 19:35:27,194 | server.py:236 | fit_round 4 received 2 results and 0 failures\n",
      "DEBUG flwr 2023-08-31 19:35:27,213 | server.py:173 | evaluate_round 4: strategy sampled 2 clients (out of 3)\n"
     ]
    },
    {
     "name": "stdout",
     "output_type": "stream",
     "text": [
      "agrregate_fit results list length is  2\n",
      "Saving round 4 aggregated_parameters...\n"
     ]
    },
    {
     "name": "stderr",
     "output_type": "stream",
     "text": [
      "DEBUG flwr 2023-08-31 19:35:30,033 | server.py:187 | evaluate_round 4 received 2 results and 0 failures\n",
      "DEBUG flwr 2023-08-31 19:35:30,036 | server.py:222 | fit_round 5: strategy sampled 2 clients (out of 3)\n"
     ]
    },
    {
     "name": "stdout",
     "output_type": "stream",
     "text": [
      "agrregate_evaluate results list length is  2\n",
      "server round is  4\n",
      "loss is  0.20107656717300415\n"
     ]
    },
    {
     "name": "stderr",
     "output_type": "stream",
     "text": [
      "DEBUG flwr 2023-08-31 19:35:58,471 | server.py:236 | fit_round 5 received 2 results and 0 failures\n",
      "DEBUG flwr 2023-08-31 19:35:58,486 | server.py:173 | evaluate_round 5: strategy sampled 2 clients (out of 3)\n"
     ]
    },
    {
     "name": "stdout",
     "output_type": "stream",
     "text": [
      "agrregate_fit results list length is  2\n",
      "Saving round 5 aggregated_parameters...\n"
     ]
    },
    {
     "name": "stderr",
     "output_type": "stream",
     "text": [
      "DEBUG flwr 2023-08-31 19:36:00,623 | server.py:187 | evaluate_round 5 received 2 results and 0 failures\n",
      "DEBUG flwr 2023-08-31 19:36:00,625 | server.py:222 | fit_round 6: strategy sampled 2 clients (out of 3)\n"
     ]
    },
    {
     "name": "stdout",
     "output_type": "stream",
     "text": [
      "agrregate_evaluate results list length is  2\n",
      "server round is  5\n",
      "loss is  0.1994834989309311\n"
     ]
    },
    {
     "name": "stderr",
     "output_type": "stream",
     "text": [
      "DEBUG flwr 2023-08-31 19:36:30,274 | server.py:236 | fit_round 6 received 2 results and 0 failures\n",
      "DEBUG flwr 2023-08-31 19:36:30,292 | server.py:173 | evaluate_round 6: strategy sampled 2 clients (out of 3)\n"
     ]
    },
    {
     "name": "stdout",
     "output_type": "stream",
     "text": [
      "agrregate_fit results list length is  2\n",
      "Saving round 6 aggregated_parameters...\n"
     ]
    },
    {
     "name": "stderr",
     "output_type": "stream",
     "text": [
      "DEBUG flwr 2023-08-31 19:36:32,229 | server.py:187 | evaluate_round 6 received 2 results and 0 failures\n",
      "DEBUG flwr 2023-08-31 19:36:32,230 | server.py:222 | fit_round 7: strategy sampled 2 clients (out of 3)\n"
     ]
    },
    {
     "name": "stdout",
     "output_type": "stream",
     "text": [
      "agrregate_evaluate results list length is  2\n",
      "server round is  6\n",
      "loss is  0.20168977975845337\n"
     ]
    },
    {
     "name": "stderr",
     "output_type": "stream",
     "text": [
      "DEBUG flwr 2023-08-31 19:37:00,567 | server.py:236 | fit_round 7 received 2 results and 0 failures\n",
      "DEBUG flwr 2023-08-31 19:37:00,581 | server.py:173 | evaluate_round 7: strategy sampled 2 clients (out of 3)\n"
     ]
    },
    {
     "name": "stdout",
     "output_type": "stream",
     "text": [
      "agrregate_fit results list length is  2\n",
      "Saving round 7 aggregated_parameters...\n"
     ]
    },
    {
     "name": "stderr",
     "output_type": "stream",
     "text": [
      "DEBUG flwr 2023-08-31 19:37:02,701 | server.py:187 | evaluate_round 7 received 2 results and 0 failures\n",
      "DEBUG flwr 2023-08-31 19:37:02,704 | server.py:222 | fit_round 8: strategy sampled 2 clients (out of 3)\n"
     ]
    },
    {
     "name": "stdout",
     "output_type": "stream",
     "text": [
      "agrregate_evaluate results list length is  2\n",
      "server round is  7\n",
      "loss is  0.2000056952238083\n"
     ]
    },
    {
     "name": "stderr",
     "output_type": "stream",
     "text": [
      "DEBUG flwr 2023-08-31 19:37:30,431 | server.py:236 | fit_round 8 received 2 results and 0 failures\n",
      "DEBUG flwr 2023-08-31 19:37:30,444 | server.py:173 | evaluate_round 8: strategy sampled 2 clients (out of 3)\n"
     ]
    },
    {
     "name": "stdout",
     "output_type": "stream",
     "text": [
      "agrregate_fit results list length is  2\n",
      "Saving round 8 aggregated_parameters...\n"
     ]
    },
    {
     "name": "stderr",
     "output_type": "stream",
     "text": [
      "DEBUG flwr 2023-08-31 19:37:32,468 | server.py:187 | evaluate_round 8 received 2 results and 0 failures\n",
      "DEBUG flwr 2023-08-31 19:37:32,470 | server.py:222 | fit_round 9: strategy sampled 2 clients (out of 3)\n"
     ]
    },
    {
     "name": "stdout",
     "output_type": "stream",
     "text": [
      "agrregate_evaluate results list length is  2\n",
      "server round is  8\n",
      "loss is  0.1991523951292038\n"
     ]
    },
    {
     "name": "stderr",
     "output_type": "stream",
     "text": [
      "DEBUG flwr 2023-08-31 19:38:00,937 | server.py:236 | fit_round 9 received 2 results and 0 failures\n",
      "DEBUG flwr 2023-08-31 19:38:00,951 | server.py:173 | evaluate_round 9: strategy sampled 2 clients (out of 3)\n"
     ]
    },
    {
     "name": "stdout",
     "output_type": "stream",
     "text": [
      "agrregate_fit results list length is  2\n",
      "Saving round 9 aggregated_parameters...\n"
     ]
    },
    {
     "name": "stderr",
     "output_type": "stream",
     "text": [
      "DEBUG flwr 2023-08-31 19:38:03,693 | server.py:187 | evaluate_round 9 received 2 results and 0 failures\n",
      "DEBUG flwr 2023-08-31 19:38:03,695 | server.py:222 | fit_round 10: strategy sampled 2 clients (out of 3)\n"
     ]
    },
    {
     "name": "stdout",
     "output_type": "stream",
     "text": [
      "agrregate_evaluate results list length is  2\n",
      "server round is  9\n",
      "loss is  0.19908280670642853\n"
     ]
    },
    {
     "name": "stderr",
     "output_type": "stream",
     "text": [
      "DEBUG flwr 2023-08-31 19:38:38,486 | server.py:236 | fit_round 10 received 2 results and 0 failures\n",
      "DEBUG flwr 2023-08-31 19:38:38,503 | server.py:173 | evaluate_round 10: strategy sampled 2 clients (out of 3)\n"
     ]
    },
    {
     "name": "stdout",
     "output_type": "stream",
     "text": [
      "agrregate_fit results list length is  2\n",
      "Saving round 10 aggregated_parameters...\n"
     ]
    },
    {
     "name": "stderr",
     "output_type": "stream",
     "text": [
      "DEBUG flwr 2023-08-31 19:38:40,933 | server.py:187 | evaluate_round 10 received 2 results and 0 failures\n",
      "DEBUG flwr 2023-08-31 19:38:40,935 | server.py:222 | fit_round 11: strategy sampled 2 clients (out of 3)\n"
     ]
    },
    {
     "name": "stdout",
     "output_type": "stream",
     "text": [
      "agrregate_evaluate results list length is  2\n",
      "server round is  10\n",
      "loss is  0.1975030153989792\n"
     ]
    },
    {
     "name": "stderr",
     "output_type": "stream",
     "text": [
      "DEBUG flwr 2023-08-31 19:39:13,400 | server.py:236 | fit_round 11 received 2 results and 0 failures\n",
      "DEBUG flwr 2023-08-31 19:39:13,414 | server.py:173 | evaluate_round 11: strategy sampled 2 clients (out of 3)\n"
     ]
    },
    {
     "name": "stdout",
     "output_type": "stream",
     "text": [
      "agrregate_fit results list length is  2\n",
      "Saving round 11 aggregated_parameters...\n"
     ]
    },
    {
     "name": "stderr",
     "output_type": "stream",
     "text": [
      "DEBUG flwr 2023-08-31 19:39:15,211 | server.py:187 | evaluate_round 11 received 2 results and 0 failures\n",
      "DEBUG flwr 2023-08-31 19:39:15,212 | server.py:222 | fit_round 12: strategy sampled 2 clients (out of 3)\n"
     ]
    },
    {
     "name": "stdout",
     "output_type": "stream",
     "text": [
      "agrregate_evaluate results list length is  2\n",
      "server round is  11\n",
      "loss is  0.19822725653648376\n"
     ]
    },
    {
     "name": "stderr",
     "output_type": "stream",
     "text": [
      "DEBUG flwr 2023-08-31 19:39:40,959 | server.py:236 | fit_round 12 received 2 results and 0 failures\n",
      "DEBUG flwr 2023-08-31 19:39:40,975 | server.py:173 | evaluate_round 12: strategy sampled 2 clients (out of 3)\n"
     ]
    },
    {
     "name": "stdout",
     "output_type": "stream",
     "text": [
      "agrregate_fit results list length is  2\n",
      "Saving round 12 aggregated_parameters...\n"
     ]
    },
    {
     "name": "stderr",
     "output_type": "stream",
     "text": [
      "DEBUG flwr 2023-08-31 19:39:42,797 | server.py:187 | evaluate_round 12 received 2 results and 0 failures\n",
      "DEBUG flwr 2023-08-31 19:39:42,799 | server.py:222 | fit_round 13: strategy sampled 2 clients (out of 3)\n"
     ]
    },
    {
     "name": "stdout",
     "output_type": "stream",
     "text": [
      "agrregate_evaluate results list length is  2\n",
      "server round is  12\n",
      "loss is  0.19798968732357025\n"
     ]
    },
    {
     "name": "stderr",
     "output_type": "stream",
     "text": [
      "DEBUG flwr 2023-08-31 19:40:06,274 | server.py:236 | fit_round 13 received 2 results and 0 failures\n",
      "DEBUG flwr 2023-08-31 19:40:06,287 | server.py:173 | evaluate_round 13: strategy sampled 2 clients (out of 3)\n"
     ]
    },
    {
     "name": "stdout",
     "output_type": "stream",
     "text": [
      "agrregate_fit results list length is  2\n",
      "Saving round 13 aggregated_parameters...\n"
     ]
    },
    {
     "name": "stderr",
     "output_type": "stream",
     "text": [
      "DEBUG flwr 2023-08-31 19:40:07,990 | server.py:187 | evaluate_round 13 received 2 results and 0 failures\n",
      "DEBUG flwr 2023-08-31 19:40:07,992 | server.py:222 | fit_round 14: strategy sampled 2 clients (out of 3)\n"
     ]
    },
    {
     "name": "stdout",
     "output_type": "stream",
     "text": [
      "agrregate_evaluate results list length is  2\n",
      "server round is  13\n",
      "loss is  0.1995028704404831\n"
     ]
    },
    {
     "name": "stderr",
     "output_type": "stream",
     "text": [
      "DEBUG flwr 2023-08-31 19:40:31,263 | server.py:236 | fit_round 14 received 2 results and 0 failures\n",
      "DEBUG flwr 2023-08-31 19:40:31,277 | server.py:173 | evaluate_round 14: strategy sampled 2 clients (out of 3)\n"
     ]
    },
    {
     "name": "stdout",
     "output_type": "stream",
     "text": [
      "agrregate_fit results list length is  2\n",
      "Saving round 14 aggregated_parameters...\n"
     ]
    },
    {
     "name": "stderr",
     "output_type": "stream",
     "text": [
      "DEBUG flwr 2023-08-31 19:40:33,000 | server.py:187 | evaluate_round 14 received 2 results and 0 failures\n",
      "DEBUG flwr 2023-08-31 19:40:33,001 | server.py:222 | fit_round 15: strategy sampled 2 clients (out of 3)\n"
     ]
    },
    {
     "name": "stdout",
     "output_type": "stream",
     "text": [
      "agrregate_evaluate results list length is  2\n",
      "server round is  14\n",
      "loss is  0.19613322615623474\n"
     ]
    },
    {
     "name": "stderr",
     "output_type": "stream",
     "text": [
      "DEBUG flwr 2023-08-31 19:40:56,284 | server.py:236 | fit_round 15 received 2 results and 0 failures\n",
      "DEBUG flwr 2023-08-31 19:40:56,298 | server.py:173 | evaluate_round 15: strategy sampled 2 clients (out of 3)\n"
     ]
    },
    {
     "name": "stdout",
     "output_type": "stream",
     "text": [
      "agrregate_fit results list length is  2\n",
      "Saving round 15 aggregated_parameters...\n"
     ]
    },
    {
     "name": "stderr",
     "output_type": "stream",
     "text": [
      "DEBUG flwr 2023-08-31 19:40:57,938 | server.py:187 | evaluate_round 15 received 2 results and 0 failures\n",
      "DEBUG flwr 2023-08-31 19:40:57,939 | server.py:222 | fit_round 16: strategy sampled 2 clients (out of 3)\n"
     ]
    },
    {
     "name": "stdout",
     "output_type": "stream",
     "text": [
      "agrregate_evaluate results list length is  2\n",
      "server round is  15\n",
      "loss is  0.1980186551809311\n"
     ]
    },
    {
     "name": "stderr",
     "output_type": "stream",
     "text": [
      "DEBUG flwr 2023-08-31 19:41:20,241 | server.py:236 | fit_round 16 received 2 results and 0 failures\n",
      "DEBUG flwr 2023-08-31 19:41:20,257 | server.py:173 | evaluate_round 16: strategy sampled 2 clients (out of 3)\n"
     ]
    },
    {
     "name": "stdout",
     "output_type": "stream",
     "text": [
      "agrregate_fit results list length is  2\n",
      "Saving round 16 aggregated_parameters...\n"
     ]
    },
    {
     "name": "stderr",
     "output_type": "stream",
     "text": [
      "DEBUG flwr 2023-08-31 19:41:21,956 | server.py:187 | evaluate_round 16 received 2 results and 0 failures\n",
      "DEBUG flwr 2023-08-31 19:41:21,957 | server.py:222 | fit_round 17: strategy sampled 2 clients (out of 3)\n"
     ]
    },
    {
     "name": "stdout",
     "output_type": "stream",
     "text": [
      "agrregate_evaluate results list length is  2\n",
      "server round is  16\n",
      "loss is  0.19841057062149048\n"
     ]
    },
    {
     "name": "stderr",
     "output_type": "stream",
     "text": [
      "DEBUG flwr 2023-08-31 19:41:43,574 | server.py:236 | fit_round 17 received 2 results and 0 failures\n",
      "DEBUG flwr 2023-08-31 19:41:43,587 | server.py:173 | evaluate_round 17: strategy sampled 2 clients (out of 3)\n"
     ]
    },
    {
     "name": "stdout",
     "output_type": "stream",
     "text": [
      "agrregate_fit results list length is  2\n",
      "Saving round 17 aggregated_parameters...\n"
     ]
    },
    {
     "name": "stderr",
     "output_type": "stream",
     "text": [
      "DEBUG flwr 2023-08-31 19:41:45,494 | server.py:187 | evaluate_round 17 received 2 results and 0 failures\n",
      "DEBUG flwr 2023-08-31 19:41:45,496 | server.py:222 | fit_round 18: strategy sampled 2 clients (out of 3)\n"
     ]
    },
    {
     "name": "stdout",
     "output_type": "stream",
     "text": [
      "agrregate_evaluate results list length is  2\n",
      "server round is  17\n",
      "loss is  0.1964835226535797\n"
     ]
    },
    {
     "name": "stderr",
     "output_type": "stream",
     "text": [
      "DEBUG flwr 2023-08-31 19:42:08,229 | server.py:236 | fit_round 18 received 2 results and 0 failures\n",
      "DEBUG flwr 2023-08-31 19:42:08,244 | server.py:173 | evaluate_round 18: strategy sampled 2 clients (out of 3)\n"
     ]
    },
    {
     "name": "stdout",
     "output_type": "stream",
     "text": [
      "agrregate_fit results list length is  2\n",
      "Saving round 18 aggregated_parameters...\n"
     ]
    },
    {
     "name": "stderr",
     "output_type": "stream",
     "text": [
      "DEBUG flwr 2023-08-31 19:42:09,926 | server.py:187 | evaluate_round 18 received 2 results and 0 failures\n",
      "DEBUG flwr 2023-08-31 19:42:09,928 | server.py:222 | fit_round 19: strategy sampled 2 clients (out of 3)\n"
     ]
    },
    {
     "name": "stdout",
     "output_type": "stream",
     "text": [
      "agrregate_evaluate results list length is  2\n",
      "server round is  18\n",
      "loss is  0.19770242273807526\n"
     ]
    },
    {
     "name": "stderr",
     "output_type": "stream",
     "text": [
      "DEBUG flwr 2023-08-31 19:42:36,104 | server.py:236 | fit_round 19 received 2 results and 0 failures\n",
      "DEBUG flwr 2023-08-31 19:42:36,122 | server.py:173 | evaluate_round 19: strategy sampled 2 clients (out of 3)\n"
     ]
    },
    {
     "name": "stdout",
     "output_type": "stream",
     "text": [
      "agrregate_fit results list length is  2\n",
      "Saving round 19 aggregated_parameters...\n"
     ]
    },
    {
     "name": "stderr",
     "output_type": "stream",
     "text": [
      "DEBUG flwr 2023-08-31 19:42:38,900 | server.py:187 | evaluate_round 19 received 2 results and 0 failures\n",
      "DEBUG flwr 2023-08-31 19:42:38,901 | server.py:222 | fit_round 20: strategy sampled 2 clients (out of 3)\n"
     ]
    },
    {
     "name": "stdout",
     "output_type": "stream",
     "text": [
      "agrregate_evaluate results list length is  2\n",
      "server round is  19\n",
      "loss is  0.19467474520206451\n"
     ]
    },
    {
     "name": "stderr",
     "output_type": "stream",
     "text": [
      "DEBUG flwr 2023-08-31 19:43:19,912 | server.py:236 | fit_round 20 received 2 results and 0 failures\n",
      "DEBUG flwr 2023-08-31 19:43:19,931 | server.py:173 | evaluate_round 20: strategy sampled 2 clients (out of 3)\n"
     ]
    },
    {
     "name": "stdout",
     "output_type": "stream",
     "text": [
      "agrregate_fit results list length is  2\n",
      "Saving round 20 aggregated_parameters...\n"
     ]
    },
    {
     "name": "stderr",
     "output_type": "stream",
     "text": [
      "DEBUG flwr 2023-08-31 19:43:22,473 | server.py:187 | evaluate_round 20 received 2 results and 0 failures\n",
      "DEBUG flwr 2023-08-31 19:43:22,474 | server.py:222 | fit_round 21: strategy sampled 2 clients (out of 3)\n"
     ]
    },
    {
     "name": "stdout",
     "output_type": "stream",
     "text": [
      "agrregate_evaluate results list length is  2\n",
      "server round is  20\n",
      "loss is  0.19641055166721344\n"
     ]
    },
    {
     "name": "stderr",
     "output_type": "stream",
     "text": [
      "DEBUG flwr 2023-08-31 19:43:51,882 | server.py:236 | fit_round 21 received 2 results and 0 failures\n",
      "DEBUG flwr 2023-08-31 19:43:51,893 | server.py:173 | evaluate_round 21: strategy sampled 2 clients (out of 3)\n"
     ]
    },
    {
     "name": "stdout",
     "output_type": "stream",
     "text": [
      "agrregate_fit results list length is  2\n",
      "Saving round 21 aggregated_parameters...\n"
     ]
    },
    {
     "name": "stderr",
     "output_type": "stream",
     "text": [
      "DEBUG flwr 2023-08-31 19:43:53,735 | server.py:187 | evaluate_round 21 received 2 results and 0 failures\n",
      "DEBUG flwr 2023-08-31 19:43:53,736 | server.py:222 | fit_round 22: strategy sampled 2 clients (out of 3)\n"
     ]
    },
    {
     "name": "stdout",
     "output_type": "stream",
     "text": [
      "agrregate_evaluate results list length is  2\n",
      "server round is  21\n",
      "loss is  0.196528360247612\n"
     ]
    },
    {
     "name": "stderr",
     "output_type": "stream",
     "text": [
      "DEBUG flwr 2023-08-31 19:44:21,937 | server.py:236 | fit_round 22 received 2 results and 0 failures\n",
      "DEBUG flwr 2023-08-31 19:44:21,951 | server.py:173 | evaluate_round 22: strategy sampled 2 clients (out of 3)\n"
     ]
    },
    {
     "name": "stdout",
     "output_type": "stream",
     "text": [
      "agrregate_fit results list length is  2\n",
      "Saving round 22 aggregated_parameters...\n"
     ]
    },
    {
     "name": "stderr",
     "output_type": "stream",
     "text": [
      "DEBUG flwr 2023-08-31 19:44:23,811 | server.py:187 | evaluate_round 22 received 2 results and 0 failures\n",
      "DEBUG flwr 2023-08-31 19:44:23,812 | server.py:222 | fit_round 23: strategy sampled 2 clients (out of 3)\n"
     ]
    },
    {
     "name": "stdout",
     "output_type": "stream",
     "text": [
      "agrregate_evaluate results list length is  2\n",
      "server round is  22\n",
      "loss is  0.19599954783916473\n"
     ]
    },
    {
     "name": "stderr",
     "output_type": "stream",
     "text": [
      "DEBUG flwr 2023-08-31 19:44:56,909 | server.py:236 | fit_round 23 received 2 results and 0 failures\n",
      "DEBUG flwr 2023-08-31 19:44:56,922 | server.py:173 | evaluate_round 23: strategy sampled 2 clients (out of 3)\n"
     ]
    },
    {
     "name": "stdout",
     "output_type": "stream",
     "text": [
      "agrregate_fit results list length is  2\n",
      "Saving round 23 aggregated_parameters...\n"
     ]
    },
    {
     "name": "stderr",
     "output_type": "stream",
     "text": [
      "DEBUG flwr 2023-08-31 19:44:58,805 | server.py:187 | evaluate_round 23 received 2 results and 0 failures\n",
      "DEBUG flwr 2023-08-31 19:44:58,805 | server.py:222 | fit_round 24: strategy sampled 2 clients (out of 3)\n"
     ]
    },
    {
     "name": "stdout",
     "output_type": "stream",
     "text": [
      "agrregate_evaluate results list length is  2\n",
      "server round is  23\n",
      "loss is  0.19872373342514038\n"
     ]
    },
    {
     "name": "stderr",
     "output_type": "stream",
     "text": [
      "DEBUG flwr 2023-08-31 19:45:33,521 | server.py:236 | fit_round 24 received 2 results and 0 failures\n",
      "DEBUG flwr 2023-08-31 19:45:33,548 | server.py:173 | evaluate_round 24: strategy sampled 2 clients (out of 3)\n"
     ]
    },
    {
     "name": "stdout",
     "output_type": "stream",
     "text": [
      "agrregate_fit results list length is  2\n",
      "Saving round 24 aggregated_parameters...\n"
     ]
    },
    {
     "name": "stderr",
     "output_type": "stream",
     "text": [
      "DEBUG flwr 2023-08-31 19:45:35,883 | server.py:187 | evaluate_round 24 received 2 results and 0 failures\n",
      "DEBUG flwr 2023-08-31 19:45:35,886 | server.py:222 | fit_round 25: strategy sampled 2 clients (out of 3)\n"
     ]
    },
    {
     "name": "stdout",
     "output_type": "stream",
     "text": [
      "agrregate_evaluate results list length is  2\n",
      "server round is  24\n",
      "loss is  0.19686603546142578\n"
     ]
    },
    {
     "name": "stderr",
     "output_type": "stream",
     "text": [
      "DEBUG flwr 2023-08-31 19:46:05,517 | server.py:236 | fit_round 25 received 2 results and 0 failures\n",
      "DEBUG flwr 2023-08-31 19:46:05,534 | server.py:173 | evaluate_round 25: strategy sampled 2 clients (out of 3)\n"
     ]
    },
    {
     "name": "stdout",
     "output_type": "stream",
     "text": [
      "agrregate_fit results list length is  2\n",
      "Saving round 25 aggregated_parameters...\n"
     ]
    },
    {
     "name": "stderr",
     "output_type": "stream",
     "text": [
      "DEBUG flwr 2023-08-31 19:46:07,847 | server.py:187 | evaluate_round 25 received 2 results and 0 failures\n",
      "INFO flwr 2023-08-31 19:46:07,848 | server.py:153 | FL finished in 775.0683407000033\n",
      "INFO flwr 2023-08-31 19:46:07,848 | app.py:225 | app_fit: losses_distributed [(1, 0.22898419201374054), (2, 0.2063377946615219), (3, 0.20339186489582062), (4, 0.20107656717300415), (5, 0.1994834989309311), (6, 0.20168977975845337), (7, 0.2000056952238083), (8, 0.1991523951292038), (9, 0.19908280670642853), (10, 0.1975030153989792), (11, 0.19822725653648376), (12, 0.19798968732357025), (13, 0.1995028704404831), (14, 0.19613322615623474), (15, 0.1980186551809311), (16, 0.19841057062149048), (17, 0.1964835226535797), (18, 0.19770242273807526), (19, 0.19467474520206451), (20, 0.19641055166721344), (21, 0.196528360247612), (22, 0.19599954783916473), (23, 0.19872373342514038), (24, 0.19686603546142578), (25, 0.19683164358139038)]\n",
      "INFO flwr 2023-08-31 19:46:07,849 | app.py:226 | app_fit: metrics_distributed_fit {}\n",
      "INFO flwr 2023-08-31 19:46:07,849 | app.py:227 | app_fit: metrics_distributed {'mse': [(1, 0.4579683840274811), (2, 0.4126755893230438), (3, 0.40678372979164124), (4, 0.4021531343460083), (5, 0.3989669978618622), (6, 0.40337955951690674), (7, 0.4000113904476166), (8, 0.3983047902584076), (9, 0.39816561341285706), (10, 0.3950060307979584), (11, 0.39645451307296753), (12, 0.3959793746471405), (13, 0.3990057408809662), (14, 0.3922664523124695), (15, 0.3960373103618622), (16, 0.39682114124298096), (17, 0.3929670453071594), (18, 0.3954048454761505), (19, 0.38934949040412903), (20, 0.3928211033344269), (21, 0.393056720495224), (22, 0.39199909567832947), (23, 0.39744746685028076), (24, 0.39373207092285156), (25, 0.39366328716278076)]}\n",
      "INFO flwr 2023-08-31 19:46:07,850 | app.py:228 | app_fit: losses_centralized []\n",
      "INFO flwr 2023-08-31 19:46:07,851 | app.py:229 | app_fit: metrics_centralized {}\n"
     ]
    },
    {
     "name": "stdout",
     "output_type": "stream",
     "text": [
      "agrregate_evaluate results list length is  2\n",
      "server round is  25\n",
      "loss is  0.19683164358139038\n",
      "History (loss, distributed):\n",
      "\tround 1: 0.22898419201374054\n",
      "\tround 2: 0.2063377946615219\n",
      "\tround 3: 0.20339186489582062\n",
      "\tround 4: 0.20107656717300415\n",
      "\tround 5: 0.1994834989309311\n",
      "\tround 6: 0.20168977975845337\n",
      "\tround 7: 0.2000056952238083\n",
      "\tround 8: 0.1991523951292038\n",
      "\tround 9: 0.19908280670642853\n",
      "\tround 10: 0.1975030153989792\n",
      "\tround 11: 0.19822725653648376\n",
      "\tround 12: 0.19798968732357025\n",
      "\tround 13: 0.1995028704404831\n",
      "\tround 14: 0.19613322615623474\n",
      "\tround 15: 0.1980186551809311\n",
      "\tround 16: 0.19841057062149048\n",
      "\tround 17: 0.1964835226535797\n",
      "\tround 18: 0.19770242273807526\n",
      "\tround 19: 0.19467474520206451\n",
      "\tround 20: 0.19641055166721344\n",
      "\tround 21: 0.196528360247612\n",
      "\tround 22: 0.19599954783916473\n",
      "\tround 23: 0.19872373342514038\n",
      "\tround 24: 0.19686603546142578\n",
      "\tround 25: 0.19683164358139038\n",
      "History (metrics, distributed, evaluate):\n",
      "{'mse': [(1, 0.4579683840274811), (2, 0.4126755893230438), (3, 0.40678372979164124), (4, 0.4021531343460083), (5, 0.3989669978618622), (6, 0.40337955951690674), (7, 0.4000113904476166), (8, 0.3983047902584076), (9, 0.39816561341285706), (10, 0.3950060307979584), (11, 0.39645451307296753), (12, 0.3959793746471405), (13, 0.3990057408809662), (14, 0.3922664523124695), (15, 0.3960373103618622), (16, 0.39682114124298096), (17, 0.3929670453071594), (18, 0.3954048454761505), (19, 0.38934949040412903), (20, 0.3928211033344269), (21, 0.393056720495224), (22, 0.39199909567832947), (23, 0.39744746685028076), (24, 0.39373207092285156), (25, 0.39366328716278076)]}\n",
      "[(1, 0.22898419201374054), (2, 0.2063377946615219), (3, 0.20339186489582062), (4, 0.20107656717300415), (5, 0.1994834989309311), (6, 0.20168977975845337), (7, 0.2000056952238083), (8, 0.1991523951292038), (9, 0.19908280670642853), (10, 0.1975030153989792), (11, 0.19822725653648376), (12, 0.19798968732357025), (13, 0.1995028704404831), (14, 0.19613322615623474), (15, 0.1980186551809311), (16, 0.19841057062149048), (17, 0.1964835226535797), (18, 0.19770242273807526), (19, 0.19467474520206451), (20, 0.19641055166721344), (21, 0.196528360247612), (22, 0.19599954783916473), (23, 0.19872373342514038), (24, 0.19686603546142578), (25, 0.19683164358139038)]\n",
      "Fold 2:\n",
      "splitting [0.34, 0.33, 0.33]\n",
      "time 0:13:19.733061\n",
      "mse [0.19683164]\n",
      "auc [0.7542135765384754]\n"
     ]
    }
   ],
   "source": [
    "splitting = [0.34, 0.33, 0.33]\n",
    "do_fl(splitting)"
   ],
   "metadata": {
    "collapsed": false,
    "ExecuteTime": {
     "end_time": "2023-08-31T18:46:08.109020500Z",
     "start_time": "2023-08-31T18:32:48.337063700Z"
    }
   }
  },
  {
   "cell_type": "code",
   "execution_count": 13,
   "outputs": [
    {
     "name": "stdout",
     "output_type": "stream",
     "text": [
      "Fold 1:\n",
      "x_test: cpu\n",
      "y_test: cpu\n"
     ]
    },
    {
     "name": "stderr",
     "output_type": "stream",
     "text": [
      "INFO flwr 2023-08-31 19:49:31,398 | app.py:145 | Starting Flower simulation, config: ServerConfig(num_rounds=25, round_timeout=None)\n"
     ]
    },
    {
     "name": "stdout",
     "output_type": "stream",
     "text": [
      "Client 0 trainset shape torch.Size([271428, 120])\n",
      "Client 1 trainset shape torch.Size([90346, 120])\n",
      "Client 2 trainset shape torch.Size([90522, 120])\n",
      "FL started training on cpu\n",
      "Number of available GPUs: 0\n"
     ]
    },
    {
     "name": "stderr",
     "output_type": "stream",
     "text": [
      "2023-08-31 19:49:42,676\tINFO worker.py:1627 -- Started a local Ray instance. View the dashboard at \u001B[1m\u001B[32m127.0.0.1:8268 \u001B[39m\u001B[22m\n",
      "INFO flwr 2023-08-31 19:49:48,587 | app.py:179 | Flower VCE: Ray initialized with resources: {'memory': 1950547968.0, 'object_store_memory': 975273984.0, 'node:127.0.0.1': 1.0, 'CPU': 8.0, 'GPU': 1.0}\n",
      "INFO flwr 2023-08-31 19:49:48,589 | server.py:89 | Initializing global parameters\n",
      "INFO flwr 2023-08-31 19:49:48,590 | server.py:276 | Requesting initial parameters from one random client\n",
      "INFO flwr 2023-08-31 19:49:54,691 | server.py:280 | Received initial parameters from one random client\n",
      "INFO flwr 2023-08-31 19:49:54,692 | server.py:91 | Evaluating initial parameters\n",
      "INFO flwr 2023-08-31 19:49:54,694 | server.py:104 | FL starting\n",
      "DEBUG flwr 2023-08-31 19:49:54,695 | server.py:222 | fit_round 1: strategy sampled 2 clients (out of 3)\n",
      "DEBUG flwr 2023-08-31 19:50:22,936 | server.py:236 | fit_round 1 received 2 results and 0 failures\n",
      "WARNING flwr 2023-08-31 19:50:22,944 | fedavg.py:242 | No fit_metrics_aggregation_fn provided\n",
      "DEBUG flwr 2023-08-31 19:50:22,964 | server.py:173 | evaluate_round 1: strategy sampled 2 clients (out of 3)\n"
     ]
    },
    {
     "name": "stdout",
     "output_type": "stream",
     "text": [
      "agrregate_fit results list length is  2\n",
      "Saving round 1 aggregated_parameters...\n"
     ]
    },
    {
     "name": "stderr",
     "output_type": "stream",
     "text": [
      "DEBUG flwr 2023-08-31 19:50:25,097 | server.py:187 | evaluate_round 1 received 2 results and 0 failures\n",
      "DEBUG flwr 2023-08-31 19:50:25,098 | server.py:222 | fit_round 2: strategy sampled 2 clients (out of 3)\n"
     ]
    },
    {
     "name": "stdout",
     "output_type": "stream",
     "text": [
      "agrregate_evaluate results list length is  2\n",
      "server round is  1\n",
      "loss is  0.24486897885799408\n"
     ]
    },
    {
     "name": "stderr",
     "output_type": "stream",
     "text": [
      "DEBUG flwr 2023-08-31 19:51:05,248 | server.py:236 | fit_round 2 received 2 results and 0 failures\n",
      "DEBUG flwr 2023-08-31 19:51:05,264 | server.py:173 | evaluate_round 2: strategy sampled 2 clients (out of 3)\n"
     ]
    },
    {
     "name": "stdout",
     "output_type": "stream",
     "text": [
      "agrregate_fit results list length is  2\n",
      "Saving round 2 aggregated_parameters...\n"
     ]
    },
    {
     "name": "stderr",
     "output_type": "stream",
     "text": [
      "DEBUG flwr 2023-08-31 19:51:07,177 | server.py:187 | evaluate_round 2 received 2 results and 0 failures\n",
      "DEBUG flwr 2023-08-31 19:51:07,179 | server.py:222 | fit_round 3: strategy sampled 2 clients (out of 3)\n"
     ]
    },
    {
     "name": "stdout",
     "output_type": "stream",
     "text": [
      "agrregate_evaluate results list length is  2\n",
      "server round is  2\n",
      "loss is  0.20963382720947266\n"
     ]
    },
    {
     "name": "stderr",
     "output_type": "stream",
     "text": [
      "DEBUG flwr 2023-08-31 19:51:46,626 | server.py:236 | fit_round 3 received 2 results and 0 failures\n",
      "DEBUG flwr 2023-08-31 19:51:46,640 | server.py:173 | evaluate_round 3: strategy sampled 2 clients (out of 3)\n"
     ]
    },
    {
     "name": "stdout",
     "output_type": "stream",
     "text": [
      "agrregate_fit results list length is  2\n",
      "Saving round 3 aggregated_parameters...\n"
     ]
    },
    {
     "name": "stderr",
     "output_type": "stream",
     "text": [
      "DEBUG flwr 2023-08-31 19:51:48,545 | server.py:187 | evaluate_round 3 received 2 results and 0 failures\n",
      "DEBUG flwr 2023-08-31 19:51:48,546 | server.py:222 | fit_round 4: strategy sampled 2 clients (out of 3)\n"
     ]
    },
    {
     "name": "stdout",
     "output_type": "stream",
     "text": [
      "agrregate_evaluate results list length is  2\n",
      "server round is  3\n",
      "loss is  0.20363111793994904\n"
     ]
    },
    {
     "name": "stderr",
     "output_type": "stream",
     "text": [
      "DEBUG flwr 2023-08-31 19:52:27,424 | server.py:236 | fit_round 4 received 2 results and 0 failures\n",
      "DEBUG flwr 2023-08-31 19:52:27,437 | server.py:173 | evaluate_round 4: strategy sampled 2 clients (out of 3)\n"
     ]
    },
    {
     "name": "stdout",
     "output_type": "stream",
     "text": [
      "agrregate_fit results list length is  2\n",
      "Saving round 4 aggregated_parameters...\n"
     ]
    },
    {
     "name": "stderr",
     "output_type": "stream",
     "text": [
      "DEBUG flwr 2023-08-31 19:52:29,318 | server.py:187 | evaluate_round 4 received 2 results and 0 failures\n",
      "DEBUG flwr 2023-08-31 19:52:29,319 | server.py:222 | fit_round 5: strategy sampled 2 clients (out of 3)\n"
     ]
    },
    {
     "name": "stdout",
     "output_type": "stream",
     "text": [
      "agrregate_evaluate results list length is  2\n",
      "server round is  4\n",
      "loss is  0.20036455988883972\n"
     ]
    },
    {
     "name": "stderr",
     "output_type": "stream",
     "text": [
      "DEBUG flwr 2023-08-31 19:53:08,996 | server.py:236 | fit_round 5 received 2 results and 0 failures\n",
      "DEBUG flwr 2023-08-31 19:53:09,019 | server.py:173 | evaluate_round 5: strategy sampled 2 clients (out of 3)\n"
     ]
    },
    {
     "name": "stdout",
     "output_type": "stream",
     "text": [
      "agrregate_fit results list length is  2\n",
      "Saving round 5 aggregated_parameters...\n"
     ]
    },
    {
     "name": "stderr",
     "output_type": "stream",
     "text": [
      "DEBUG flwr 2023-08-31 19:53:10,825 | server.py:187 | evaluate_round 5 received 2 results and 0 failures\n",
      "DEBUG flwr 2023-08-31 19:53:10,826 | server.py:222 | fit_round 6: strategy sampled 2 clients (out of 3)\n"
     ]
    },
    {
     "name": "stdout",
     "output_type": "stream",
     "text": [
      "agrregate_evaluate results list length is  2\n",
      "server round is  5\n",
      "loss is  0.20021001994609833\n"
     ]
    },
    {
     "name": "stderr",
     "output_type": "stream",
     "text": [
      "DEBUG flwr 2023-08-31 19:53:50,036 | server.py:236 | fit_round 6 received 2 results and 0 failures\n",
      "DEBUG flwr 2023-08-31 19:53:50,051 | server.py:173 | evaluate_round 6: strategy sampled 2 clients (out of 3)\n"
     ]
    },
    {
     "name": "stdout",
     "output_type": "stream",
     "text": [
      "agrregate_fit results list length is  2\n",
      "Saving round 6 aggregated_parameters...\n"
     ]
    },
    {
     "name": "stderr",
     "output_type": "stream",
     "text": [
      "DEBUG flwr 2023-08-31 19:53:51,822 | server.py:187 | evaluate_round 6 received 2 results and 0 failures\n",
      "DEBUG flwr 2023-08-31 19:53:51,822 | server.py:222 | fit_round 7: strategy sampled 2 clients (out of 3)\n"
     ]
    },
    {
     "name": "stdout",
     "output_type": "stream",
     "text": [
      "agrregate_evaluate results list length is  2\n",
      "server round is  6\n",
      "loss is  0.19975994527339935\n"
     ]
    },
    {
     "name": "stderr",
     "output_type": "stream",
     "text": [
      "DEBUG flwr 2023-08-31 19:54:33,032 | server.py:236 | fit_round 7 received 2 results and 0 failures\n",
      "DEBUG flwr 2023-08-31 19:54:33,044 | server.py:173 | evaluate_round 7: strategy sampled 2 clients (out of 3)\n"
     ]
    },
    {
     "name": "stdout",
     "output_type": "stream",
     "text": [
      "agrregate_fit results list length is  2\n",
      "Saving round 7 aggregated_parameters...\n"
     ]
    },
    {
     "name": "stderr",
     "output_type": "stream",
     "text": [
      "DEBUG flwr 2023-08-31 19:54:35,266 | server.py:187 | evaluate_round 7 received 2 results and 0 failures\n",
      "DEBUG flwr 2023-08-31 19:54:35,268 | server.py:222 | fit_round 8: strategy sampled 2 clients (out of 3)\n"
     ]
    },
    {
     "name": "stdout",
     "output_type": "stream",
     "text": [
      "agrregate_evaluate results list length is  2\n",
      "server round is  7\n",
      "loss is  0.1997867375612259\n"
     ]
    },
    {
     "name": "stderr",
     "output_type": "stream",
     "text": [
      "DEBUG flwr 2023-08-31 19:55:13,772 | server.py:236 | fit_round 8 received 2 results and 0 failures\n",
      "DEBUG flwr 2023-08-31 19:55:13,785 | server.py:173 | evaluate_round 8: strategy sampled 2 clients (out of 3)\n"
     ]
    },
    {
     "name": "stdout",
     "output_type": "stream",
     "text": [
      "agrregate_fit results list length is  2\n",
      "Saving round 8 aggregated_parameters...\n"
     ]
    },
    {
     "name": "stderr",
     "output_type": "stream",
     "text": [
      "DEBUG flwr 2023-08-31 19:55:15,597 | server.py:187 | evaluate_round 8 received 2 results and 0 failures\n",
      "DEBUG flwr 2023-08-31 19:55:15,598 | server.py:222 | fit_round 9: strategy sampled 2 clients (out of 3)\n"
     ]
    },
    {
     "name": "stdout",
     "output_type": "stream",
     "text": [
      "agrregate_evaluate results list length is  2\n",
      "server round is  8\n",
      "loss is  0.19716010987758636\n"
     ]
    },
    {
     "name": "stderr",
     "output_type": "stream",
     "text": [
      "DEBUG flwr 2023-08-31 19:55:33,031 | server.py:236 | fit_round 9 received 2 results and 0 failures\n",
      "DEBUG flwr 2023-08-31 19:55:33,045 | server.py:173 | evaluate_round 9: strategy sampled 2 clients (out of 3)\n"
     ]
    },
    {
     "name": "stdout",
     "output_type": "stream",
     "text": [
      "agrregate_fit results list length is  2\n",
      "Saving round 9 aggregated_parameters...\n"
     ]
    },
    {
     "name": "stderr",
     "output_type": "stream",
     "text": [
      "DEBUG flwr 2023-08-31 19:55:34,896 | server.py:187 | evaluate_round 9 received 2 results and 0 failures\n",
      "DEBUG flwr 2023-08-31 19:55:34,897 | server.py:222 | fit_round 10: strategy sampled 2 clients (out of 3)\n"
     ]
    },
    {
     "name": "stdout",
     "output_type": "stream",
     "text": [
      "agrregate_evaluate results list length is  2\n",
      "server round is  9\n",
      "loss is  0.19782836735248566\n"
     ]
    },
    {
     "name": "stderr",
     "output_type": "stream",
     "text": [
      "DEBUG flwr 2023-08-31 19:56:13,780 | server.py:236 | fit_round 10 received 2 results and 0 failures\n",
      "DEBUG flwr 2023-08-31 19:56:13,800 | server.py:173 | evaluate_round 10: strategy sampled 2 clients (out of 3)\n"
     ]
    },
    {
     "name": "stdout",
     "output_type": "stream",
     "text": [
      "agrregate_fit results list length is  2\n",
      "Saving round 10 aggregated_parameters...\n"
     ]
    },
    {
     "name": "stderr",
     "output_type": "stream",
     "text": [
      "DEBUG flwr 2023-08-31 19:56:15,626 | server.py:187 | evaluate_round 10 received 2 results and 0 failures\n",
      "DEBUG flwr 2023-08-31 19:56:15,628 | server.py:222 | fit_round 11: strategy sampled 2 clients (out of 3)\n"
     ]
    },
    {
     "name": "stdout",
     "output_type": "stream",
     "text": [
      "agrregate_evaluate results list length is  2\n",
      "server round is  10\n",
      "loss is  0.19857272505760193\n"
     ]
    },
    {
     "name": "stderr",
     "output_type": "stream",
     "text": [
      "DEBUG flwr 2023-08-31 19:56:53,711 | server.py:236 | fit_round 11 received 2 results and 0 failures\n",
      "DEBUG flwr 2023-08-31 19:56:53,723 | server.py:173 | evaluate_round 11: strategy sampled 2 clients (out of 3)\n"
     ]
    },
    {
     "name": "stdout",
     "output_type": "stream",
     "text": [
      "agrregate_fit results list length is  2\n",
      "Saving round 11 aggregated_parameters...\n"
     ]
    },
    {
     "name": "stderr",
     "output_type": "stream",
     "text": [
      "DEBUG flwr 2023-08-31 19:56:55,531 | server.py:187 | evaluate_round 11 received 2 results and 0 failures\n",
      "DEBUG flwr 2023-08-31 19:56:55,532 | server.py:222 | fit_round 12: strategy sampled 2 clients (out of 3)\n"
     ]
    },
    {
     "name": "stdout",
     "output_type": "stream",
     "text": [
      "agrregate_evaluate results list length is  2\n",
      "server round is  11\n",
      "loss is  0.19970281422138214\n"
     ]
    },
    {
     "name": "stderr",
     "output_type": "stream",
     "text": [
      "DEBUG flwr 2023-08-31 19:57:35,078 | server.py:236 | fit_round 12 received 2 results and 0 failures\n",
      "DEBUG flwr 2023-08-31 19:57:35,092 | server.py:173 | evaluate_round 12: strategy sampled 2 clients (out of 3)\n"
     ]
    },
    {
     "name": "stdout",
     "output_type": "stream",
     "text": [
      "agrregate_fit results list length is  2\n",
      "Saving round 12 aggregated_parameters...\n"
     ]
    },
    {
     "name": "stderr",
     "output_type": "stream",
     "text": [
      "DEBUG flwr 2023-08-31 19:57:36,982 | server.py:187 | evaluate_round 12 received 2 results and 0 failures\n",
      "DEBUG flwr 2023-08-31 19:57:36,984 | server.py:222 | fit_round 13: strategy sampled 2 clients (out of 3)\n"
     ]
    },
    {
     "name": "stdout",
     "output_type": "stream",
     "text": [
      "agrregate_evaluate results list length is  2\n",
      "server round is  12\n",
      "loss is  0.19690851867198944\n"
     ]
    },
    {
     "name": "stderr",
     "output_type": "stream",
     "text": [
      "DEBUG flwr 2023-08-31 19:58:15,874 | server.py:236 | fit_round 13 received 2 results and 0 failures\n",
      "DEBUG flwr 2023-08-31 19:58:15,890 | server.py:173 | evaluate_round 13: strategy sampled 2 clients (out of 3)\n"
     ]
    },
    {
     "name": "stdout",
     "output_type": "stream",
     "text": [
      "agrregate_fit results list length is  2\n",
      "Saving round 13 aggregated_parameters...\n"
     ]
    },
    {
     "name": "stderr",
     "output_type": "stream",
     "text": [
      "DEBUG flwr 2023-08-31 19:58:17,625 | server.py:187 | evaluate_round 13 received 2 results and 0 failures\n",
      "DEBUG flwr 2023-08-31 19:58:17,626 | server.py:222 | fit_round 14: strategy sampled 2 clients (out of 3)\n"
     ]
    },
    {
     "name": "stdout",
     "output_type": "stream",
     "text": [
      "agrregate_evaluate results list length is  2\n",
      "server round is  13\n",
      "loss is  0.1961868703365326\n"
     ]
    },
    {
     "name": "stderr",
     "output_type": "stream",
     "text": [
      "DEBUG flwr 2023-08-31 19:58:33,326 | server.py:236 | fit_round 14 received 2 results and 0 failures\n",
      "DEBUG flwr 2023-08-31 19:58:33,338 | server.py:173 | evaluate_round 14: strategy sampled 2 clients (out of 3)\n"
     ]
    },
    {
     "name": "stdout",
     "output_type": "stream",
     "text": [
      "agrregate_fit results list length is  2\n",
      "Saving round 14 aggregated_parameters...\n"
     ]
    },
    {
     "name": "stderr",
     "output_type": "stream",
     "text": [
      "DEBUG flwr 2023-08-31 19:58:35,530 | server.py:187 | evaluate_round 14 received 2 results and 0 failures\n",
      "DEBUG flwr 2023-08-31 19:58:35,532 | server.py:222 | fit_round 15: strategy sampled 2 clients (out of 3)\n"
     ]
    },
    {
     "name": "stdout",
     "output_type": "stream",
     "text": [
      "agrregate_evaluate results list length is  2\n",
      "server round is  14\n",
      "loss is  0.19796521961688995\n"
     ]
    },
    {
     "name": "stderr",
     "output_type": "stream",
     "text": [
      "DEBUG flwr 2023-08-31 19:59:15,950 | server.py:236 | fit_round 15 received 2 results and 0 failures\n",
      "DEBUG flwr 2023-08-31 19:59:15,967 | server.py:173 | evaluate_round 15: strategy sampled 2 clients (out of 3)\n"
     ]
    },
    {
     "name": "stdout",
     "output_type": "stream",
     "text": [
      "agrregate_fit results list length is  2\n",
      "Saving round 15 aggregated_parameters...\n"
     ]
    },
    {
     "name": "stderr",
     "output_type": "stream",
     "text": [
      "DEBUG flwr 2023-08-31 19:59:17,880 | server.py:187 | evaluate_round 15 received 2 results and 0 failures\n",
      "DEBUG flwr 2023-08-31 19:59:17,881 | server.py:222 | fit_round 16: strategy sampled 2 clients (out of 3)\n"
     ]
    },
    {
     "name": "stdout",
     "output_type": "stream",
     "text": [
      "agrregate_evaluate results list length is  2\n",
      "server round is  15\n",
      "loss is  0.19679273664951324\n"
     ]
    },
    {
     "name": "stderr",
     "output_type": "stream",
     "text": [
      "DEBUG flwr 2023-08-31 19:59:56,682 | server.py:236 | fit_round 16 received 2 results and 0 failures\n",
      "DEBUG flwr 2023-08-31 19:59:56,695 | server.py:173 | evaluate_round 16: strategy sampled 2 clients (out of 3)\n"
     ]
    },
    {
     "name": "stdout",
     "output_type": "stream",
     "text": [
      "agrregate_fit results list length is  2\n",
      "Saving round 16 aggregated_parameters...\n"
     ]
    },
    {
     "name": "stderr",
     "output_type": "stream",
     "text": [
      "DEBUG flwr 2023-08-31 19:59:58,578 | server.py:187 | evaluate_round 16 received 2 results and 0 failures\n",
      "DEBUG flwr 2023-08-31 19:59:58,579 | server.py:222 | fit_round 17: strategy sampled 2 clients (out of 3)\n"
     ]
    },
    {
     "name": "stdout",
     "output_type": "stream",
     "text": [
      "agrregate_evaluate results list length is  2\n",
      "server round is  16\n",
      "loss is  0.1972835212945938\n"
     ]
    },
    {
     "name": "stderr",
     "output_type": "stream",
     "text": [
      "DEBUG flwr 2023-08-31 20:00:38,133 | server.py:236 | fit_round 17 received 2 results and 0 failures\n",
      "DEBUG flwr 2023-08-31 20:00:38,145 | server.py:173 | evaluate_round 17: strategy sampled 2 clients (out of 3)\n"
     ]
    },
    {
     "name": "stdout",
     "output_type": "stream",
     "text": [
      "agrregate_fit results list length is  2\n",
      "Saving round 17 aggregated_parameters...\n"
     ]
    },
    {
     "name": "stderr",
     "output_type": "stream",
     "text": [
      "DEBUG flwr 2023-08-31 20:00:39,983 | server.py:187 | evaluate_round 17 received 2 results and 0 failures\n",
      "DEBUG flwr 2023-08-31 20:00:39,984 | server.py:222 | fit_round 18: strategy sampled 2 clients (out of 3)\n"
     ]
    },
    {
     "name": "stdout",
     "output_type": "stream",
     "text": [
      "agrregate_evaluate results list length is  2\n",
      "server round is  17\n",
      "loss is  0.1969752162694931\n"
     ]
    },
    {
     "name": "stderr",
     "output_type": "stream",
     "text": [
      "DEBUG flwr 2023-08-31 20:01:20,194 | server.py:236 | fit_round 18 received 2 results and 0 failures\n",
      "DEBUG flwr 2023-08-31 20:01:20,205 | server.py:173 | evaluate_round 18: strategy sampled 2 clients (out of 3)\n"
     ]
    },
    {
     "name": "stdout",
     "output_type": "stream",
     "text": [
      "agrregate_fit results list length is  2\n",
      "Saving round 18 aggregated_parameters...\n"
     ]
    },
    {
     "name": "stderr",
     "output_type": "stream",
     "text": [
      "DEBUG flwr 2023-08-31 20:01:22,022 | server.py:187 | evaluate_round 18 received 2 results and 0 failures\n",
      "DEBUG flwr 2023-08-31 20:01:22,023 | server.py:222 | fit_round 19: strategy sampled 2 clients (out of 3)\n"
     ]
    },
    {
     "name": "stdout",
     "output_type": "stream",
     "text": [
      "agrregate_evaluate results list length is  2\n",
      "server round is  18\n",
      "loss is  0.19905903935432434\n"
     ]
    },
    {
     "name": "stderr",
     "output_type": "stream",
     "text": [
      "DEBUG flwr 2023-08-31 20:02:00,980 | server.py:236 | fit_round 19 received 2 results and 0 failures\n",
      "DEBUG flwr 2023-08-31 20:02:00,993 | server.py:173 | evaluate_round 19: strategy sampled 2 clients (out of 3)\n"
     ]
    },
    {
     "name": "stdout",
     "output_type": "stream",
     "text": [
      "agrregate_fit results list length is  2\n",
      "Saving round 19 aggregated_parameters...\n"
     ]
    },
    {
     "name": "stderr",
     "output_type": "stream",
     "text": [
      "DEBUG flwr 2023-08-31 20:02:02,815 | server.py:187 | evaluate_round 19 received 2 results and 0 failures\n",
      "DEBUG flwr 2023-08-31 20:02:02,816 | server.py:222 | fit_round 20: strategy sampled 2 clients (out of 3)\n"
     ]
    },
    {
     "name": "stdout",
     "output_type": "stream",
     "text": [
      "agrregate_evaluate results list length is  2\n",
      "server round is  19\n",
      "loss is  0.1948961615562439\n"
     ]
    },
    {
     "name": "stderr",
     "output_type": "stream",
     "text": [
      "DEBUG flwr 2023-08-31 20:02:18,280 | server.py:236 | fit_round 20 received 2 results and 0 failures\n",
      "DEBUG flwr 2023-08-31 20:02:18,292 | server.py:173 | evaluate_round 20: strategy sampled 2 clients (out of 3)\n"
     ]
    },
    {
     "name": "stdout",
     "output_type": "stream",
     "text": [
      "agrregate_fit results list length is  2\n",
      "Saving round 20 aggregated_parameters...\n"
     ]
    },
    {
     "name": "stderr",
     "output_type": "stream",
     "text": [
      "DEBUG flwr 2023-08-31 20:02:20,150 | server.py:187 | evaluate_round 20 received 2 results and 0 failures\n",
      "DEBUG flwr 2023-08-31 20:02:20,151 | server.py:222 | fit_round 21: strategy sampled 2 clients (out of 3)\n"
     ]
    },
    {
     "name": "stdout",
     "output_type": "stream",
     "text": [
      "agrregate_evaluate results list length is  2\n",
      "server round is  20\n",
      "loss is  0.19876042008399963\n"
     ]
    },
    {
     "name": "stderr",
     "output_type": "stream",
     "text": [
      "DEBUG flwr 2023-08-31 20:02:58,680 | server.py:236 | fit_round 21 received 2 results and 0 failures\n",
      "DEBUG flwr 2023-08-31 20:02:58,697 | server.py:173 | evaluate_round 21: strategy sampled 2 clients (out of 3)\n"
     ]
    },
    {
     "name": "stdout",
     "output_type": "stream",
     "text": [
      "agrregate_fit results list length is  2\n",
      "Saving round 21 aggregated_parameters...\n"
     ]
    },
    {
     "name": "stderr",
     "output_type": "stream",
     "text": [
      "DEBUG flwr 2023-08-31 20:03:00,527 | server.py:187 | evaluate_round 21 received 2 results and 0 failures\n",
      "DEBUG flwr 2023-08-31 20:03:00,528 | server.py:222 | fit_round 22: strategy sampled 2 clients (out of 3)\n"
     ]
    },
    {
     "name": "stdout",
     "output_type": "stream",
     "text": [
      "agrregate_evaluate results list length is  2\n",
      "server round is  21\n",
      "loss is  0.19465726613998413\n"
     ]
    },
    {
     "name": "stderr",
     "output_type": "stream",
     "text": [
      "DEBUG flwr 2023-08-31 20:03:39,033 | server.py:236 | fit_round 22 received 2 results and 0 failures\n",
      "DEBUG flwr 2023-08-31 20:03:39,045 | server.py:173 | evaluate_round 22: strategy sampled 2 clients (out of 3)\n"
     ]
    },
    {
     "name": "stdout",
     "output_type": "stream",
     "text": [
      "agrregate_fit results list length is  2\n",
      "Saving round 22 aggregated_parameters...\n"
     ]
    },
    {
     "name": "stderr",
     "output_type": "stream",
     "text": [
      "DEBUG flwr 2023-08-31 20:03:40,868 | server.py:187 | evaluate_round 22 received 2 results and 0 failures\n",
      "DEBUG flwr 2023-08-31 20:03:40,870 | server.py:222 | fit_round 23: strategy sampled 2 clients (out of 3)\n"
     ]
    },
    {
     "name": "stdout",
     "output_type": "stream",
     "text": [
      "agrregate_evaluate results list length is  2\n",
      "server round is  22\n",
      "loss is  0.19502077996730804\n"
     ]
    },
    {
     "name": "stderr",
     "output_type": "stream",
     "text": [
      "DEBUG flwr 2023-08-31 20:04:19,390 | server.py:236 | fit_round 23 received 2 results and 0 failures\n",
      "DEBUG flwr 2023-08-31 20:04:19,403 | server.py:173 | evaluate_round 23: strategy sampled 2 clients (out of 3)\n"
     ]
    },
    {
     "name": "stdout",
     "output_type": "stream",
     "text": [
      "agrregate_fit results list length is  2\n",
      "Saving round 23 aggregated_parameters...\n"
     ]
    },
    {
     "name": "stderr",
     "output_type": "stream",
     "text": [
      "DEBUG flwr 2023-08-31 20:04:21,169 | server.py:187 | evaluate_round 23 received 2 results and 0 failures\n",
      "DEBUG flwr 2023-08-31 20:04:21,170 | server.py:222 | fit_round 24: strategy sampled 2 clients (out of 3)\n"
     ]
    },
    {
     "name": "stdout",
     "output_type": "stream",
     "text": [
      "agrregate_evaluate results list length is  2\n",
      "server round is  23\n",
      "loss is  0.1949978768825531\n"
     ]
    },
    {
     "name": "stderr",
     "output_type": "stream",
     "text": [
      "DEBUG flwr 2023-08-31 20:04:59,423 | server.py:236 | fit_round 24 received 2 results and 0 failures\n",
      "DEBUG flwr 2023-08-31 20:04:59,437 | server.py:173 | evaluate_round 24: strategy sampled 2 clients (out of 3)\n"
     ]
    },
    {
     "name": "stdout",
     "output_type": "stream",
     "text": [
      "agrregate_fit results list length is  2\n",
      "Saving round 24 aggregated_parameters...\n"
     ]
    },
    {
     "name": "stderr",
     "output_type": "stream",
     "text": [
      "DEBUG flwr 2023-08-31 20:05:01,258 | server.py:187 | evaluate_round 24 received 2 results and 0 failures\n",
      "DEBUG flwr 2023-08-31 20:05:01,260 | server.py:222 | fit_round 25: strategy sampled 2 clients (out of 3)\n"
     ]
    },
    {
     "name": "stdout",
     "output_type": "stream",
     "text": [
      "agrregate_evaluate results list length is  2\n",
      "server round is  24\n",
      "loss is  0.1940138190984726\n"
     ]
    },
    {
     "name": "stderr",
     "output_type": "stream",
     "text": [
      "DEBUG flwr 2023-08-31 20:05:16,689 | server.py:236 | fit_round 25 received 2 results and 0 failures\n",
      "DEBUG flwr 2023-08-31 20:05:16,699 | server.py:173 | evaluate_round 25: strategy sampled 2 clients (out of 3)\n"
     ]
    },
    {
     "name": "stdout",
     "output_type": "stream",
     "text": [
      "agrregate_fit results list length is  2\n",
      "Saving round 25 aggregated_parameters...\n"
     ]
    },
    {
     "name": "stderr",
     "output_type": "stream",
     "text": [
      "DEBUG flwr 2023-08-31 20:05:18,597 | server.py:187 | evaluate_round 25 received 2 results and 0 failures\n",
      "INFO flwr 2023-08-31 20:05:18,599 | server.py:153 | FL finished in 923.9044963000051\n",
      "INFO flwr 2023-08-31 20:05:18,600 | app.py:225 | app_fit: losses_distributed [(1, 0.24486897885799408), (2, 0.20963382720947266), (3, 0.20363111793994904), (4, 0.20036455988883972), (5, 0.20021001994609833), (6, 0.19975994527339935), (7, 0.1997867375612259), (8, 0.19716010987758636), (9, 0.19782836735248566), (10, 0.19857272505760193), (11, 0.19970281422138214), (12, 0.19690851867198944), (13, 0.1961868703365326), (14, 0.19796521961688995), (15, 0.19679273664951324), (16, 0.1972835212945938), (17, 0.1969752162694931), (18, 0.19905903935432434), (19, 0.1948961615562439), (20, 0.19876042008399963), (21, 0.19465726613998413), (22, 0.19502077996730804), (23, 0.1949978768825531), (24, 0.1940138190984726), (25, 0.20003025233745575)]\n",
      "INFO flwr 2023-08-31 20:05:18,601 | app.py:226 | app_fit: metrics_distributed_fit {}\n",
      "INFO flwr 2023-08-31 20:05:18,603 | app.py:227 | app_fit: metrics_distributed {'mse': [(1, 0.48973795771598816), (2, 0.4192676544189453), (3, 0.40726223587989807), (4, 0.40072911977767944), (5, 0.40042003989219666), (6, 0.3995198905467987), (7, 0.3995734751224518), (8, 0.39432021975517273), (9, 0.3956567347049713), (10, 0.39714545011520386), (11, 0.3994056284427643), (12, 0.3938170373439789), (13, 0.3923737406730652), (14, 0.3959304392337799), (15, 0.3935854732990265), (16, 0.3945670425891876), (17, 0.3939504325389862), (18, 0.3981180787086487), (19, 0.3897923231124878), (20, 0.39752084016799927), (21, 0.38931453227996826), (22, 0.3900415599346161), (23, 0.3899957537651062), (24, 0.3880276381969452), (25, 0.4000605046749115)]}\n",
      "INFO flwr 2023-08-31 20:05:18,603 | app.py:228 | app_fit: losses_centralized []\n",
      "INFO flwr 2023-08-31 20:05:18,604 | app.py:229 | app_fit: metrics_centralized {}\n"
     ]
    },
    {
     "name": "stdout",
     "output_type": "stream",
     "text": [
      "agrregate_evaluate results list length is  2\n",
      "server round is  25\n",
      "loss is  0.20003025233745575\n",
      "History (loss, distributed):\n",
      "\tround 1: 0.24486897885799408\n",
      "\tround 2: 0.20963382720947266\n",
      "\tround 3: 0.20363111793994904\n",
      "\tround 4: 0.20036455988883972\n",
      "\tround 5: 0.20021001994609833\n",
      "\tround 6: 0.19975994527339935\n",
      "\tround 7: 0.1997867375612259\n",
      "\tround 8: 0.19716010987758636\n",
      "\tround 9: 0.19782836735248566\n",
      "\tround 10: 0.19857272505760193\n",
      "\tround 11: 0.19970281422138214\n",
      "\tround 12: 0.19690851867198944\n",
      "\tround 13: 0.1961868703365326\n",
      "\tround 14: 0.19796521961688995\n",
      "\tround 15: 0.19679273664951324\n",
      "\tround 16: 0.1972835212945938\n",
      "\tround 17: 0.1969752162694931\n",
      "\tround 18: 0.19905903935432434\n",
      "\tround 19: 0.1948961615562439\n",
      "\tround 20: 0.19876042008399963\n",
      "\tround 21: 0.19465726613998413\n",
      "\tround 22: 0.19502077996730804\n",
      "\tround 23: 0.1949978768825531\n",
      "\tround 24: 0.1940138190984726\n",
      "\tround 25: 0.20003025233745575\n",
      "History (metrics, distributed, evaluate):\n",
      "{'mse': [(1, 0.48973795771598816), (2, 0.4192676544189453), (3, 0.40726223587989807), (4, 0.40072911977767944), (5, 0.40042003989219666), (6, 0.3995198905467987), (7, 0.3995734751224518), (8, 0.39432021975517273), (9, 0.3956567347049713), (10, 0.39714545011520386), (11, 0.3994056284427643), (12, 0.3938170373439789), (13, 0.3923737406730652), (14, 0.3959304392337799), (15, 0.3935854732990265), (16, 0.3945670425891876), (17, 0.3939504325389862), (18, 0.3981180787086487), (19, 0.3897923231124878), (20, 0.39752084016799927), (21, 0.38931453227996826), (22, 0.3900415599346161), (23, 0.3899957537651062), (24, 0.3880276381969452), (25, 0.4000605046749115)]}\n",
      "[(1, 0.24486897885799408), (2, 0.20963382720947266), (3, 0.20363111793994904), (4, 0.20036455988883972), (5, 0.20021001994609833), (6, 0.19975994527339935), (7, 0.1997867375612259), (8, 0.19716010987758636), (9, 0.19782836735248566), (10, 0.19857272505760193), (11, 0.19970281422138214), (12, 0.19690851867198944), (13, 0.1961868703365326), (14, 0.19796521961688995), (15, 0.19679273664951324), (16, 0.1972835212945938), (17, 0.1969752162694931), (18, 0.19905903935432434), (19, 0.1948961615562439), (20, 0.19876042008399963), (21, 0.19465726613998413), (22, 0.19502077996730804), (23, 0.1949978768825531), (24, 0.1940138190984726), (25, 0.20003025233745575)]\n",
      "Fold 2:\n",
      "splitting [0.6, 0.2, 0.2]\n",
      "time 0:15:48.850242\n",
      "mse [0.20003025]\n",
      "auc [0.7513687983987243]\n"
     ]
    }
   ],
   "source": [
    "splitting = [0.6, 0.2, 0.2]\n",
    "do_fl(splitting)"
   ],
   "metadata": {
    "collapsed": false,
    "ExecuteTime": {
     "end_time": "2023-08-31T19:05:18.902693900Z",
     "start_time": "2023-08-31T18:49:29.949726300Z"
    }
   }
  },
  {
   "cell_type": "code",
   "execution_count": 14,
   "outputs": [
    {
     "name": "stdout",
     "output_type": "stream",
     "text": [
      "Fold 1:\n",
      "x_test: cpu\n",
      "y_test: cpu\n"
     ]
    },
    {
     "name": "stderr",
     "output_type": "stream",
     "text": [
      "INFO flwr 2023-08-31 20:05:19,897 | app.py:145 | Starting Flower simulation, config: ServerConfig(num_rounds=25, round_timeout=None)\n"
     ]
    },
    {
     "name": "stdout",
     "output_type": "stream",
     "text": [
      "Client 0 trainset shape torch.Size([361942, 120])\n",
      "Client 1 trainset shape torch.Size([45238, 120])\n",
      "Client 2 trainset shape torch.Size([45116, 120])\n",
      "FL started training on cpu\n",
      "Number of available GPUs: 0\n"
     ]
    },
    {
     "name": "stderr",
     "output_type": "stream",
     "text": [
      "2023-08-31 20:05:29,574\tINFO worker.py:1627 -- Started a local Ray instance. View the dashboard at \u001B[1m\u001B[32m127.0.0.1:8268 \u001B[39m\u001B[22m\n",
      "INFO flwr 2023-08-31 20:05:35,671 | app.py:179 | Flower VCE: Ray initialized with resources: {'memory': 2565075764.0, 'object_store_memory': 1282537881.0, 'node:127.0.0.1': 1.0, 'CPU': 8.0, 'GPU': 1.0}\n",
      "INFO flwr 2023-08-31 20:05:35,673 | server.py:89 | Initializing global parameters\n",
      "INFO flwr 2023-08-31 20:05:35,675 | server.py:276 | Requesting initial parameters from one random client\n",
      "INFO flwr 2023-08-31 20:05:39,623 | server.py:280 | Received initial parameters from one random client\n",
      "INFO flwr 2023-08-31 20:05:39,624 | server.py:91 | Evaluating initial parameters\n",
      "INFO flwr 2023-08-31 20:05:39,625 | server.py:104 | FL starting\n",
      "DEBUG flwr 2023-08-31 20:05:39,626 | server.py:222 | fit_round 1: strategy sampled 2 clients (out of 3)\n",
      "DEBUG flwr 2023-08-31 20:05:50,926 | server.py:236 | fit_round 1 received 2 results and 0 failures\n",
      "WARNING flwr 2023-08-31 20:05:50,934 | fedavg.py:242 | No fit_metrics_aggregation_fn provided\n",
      "DEBUG flwr 2023-08-31 20:05:50,943 | server.py:173 | evaluate_round 1: strategy sampled 2 clients (out of 3)\n"
     ]
    },
    {
     "name": "stdout",
     "output_type": "stream",
     "text": [
      "agrregate_fit results list length is  2\n",
      "Saving round 1 aggregated_parameters...\n"
     ]
    },
    {
     "name": "stderr",
     "output_type": "stream",
     "text": [
      "DEBUG flwr 2023-08-31 20:05:52,638 | server.py:187 | evaluate_round 1 received 2 results and 0 failures\n",
      "DEBUG flwr 2023-08-31 20:05:52,639 | server.py:222 | fit_round 2: strategy sampled 2 clients (out of 3)\n"
     ]
    },
    {
     "name": "stdout",
     "output_type": "stream",
     "text": [
      "agrregate_evaluate results list length is  2\n",
      "server round is  1\n",
      "loss is  0.26130449771881104\n"
     ]
    },
    {
     "name": "stderr",
     "output_type": "stream",
     "text": [
      "DEBUG flwr 2023-08-31 20:06:41,353 | server.py:236 | fit_round 2 received 2 results and 0 failures\n",
      "DEBUG flwr 2023-08-31 20:06:41,366 | server.py:173 | evaluate_round 2: strategy sampled 2 clients (out of 3)\n"
     ]
    },
    {
     "name": "stdout",
     "output_type": "stream",
     "text": [
      "agrregate_fit results list length is  2\n",
      "Saving round 2 aggregated_parameters...\n"
     ]
    },
    {
     "name": "stderr",
     "output_type": "stream",
     "text": [
      "DEBUG flwr 2023-08-31 20:06:42,950 | server.py:187 | evaluate_round 2 received 2 results and 0 failures\n",
      "DEBUG flwr 2023-08-31 20:06:42,952 | server.py:222 | fit_round 3: strategy sampled 2 clients (out of 3)\n"
     ]
    },
    {
     "name": "stdout",
     "output_type": "stream",
     "text": [
      "agrregate_evaluate results list length is  2\n",
      "server round is  2\n",
      "loss is  0.2115923911333084\n"
     ]
    },
    {
     "name": "stderr",
     "output_type": "stream",
     "text": [
      "DEBUG flwr 2023-08-31 20:06:51,555 | server.py:236 | fit_round 3 received 2 results and 0 failures\n",
      "DEBUG flwr 2023-08-31 20:06:51,574 | server.py:173 | evaluate_round 3: strategy sampled 2 clients (out of 3)\n"
     ]
    },
    {
     "name": "stdout",
     "output_type": "stream",
     "text": [
      "agrregate_fit results list length is  2\n",
      "Saving round 3 aggregated_parameters...\n"
     ]
    },
    {
     "name": "stderr",
     "output_type": "stream",
     "text": [
      "DEBUG flwr 2023-08-31 20:06:53,424 | server.py:187 | evaluate_round 3 received 2 results and 0 failures\n",
      "DEBUG flwr 2023-08-31 20:06:53,425 | server.py:222 | fit_round 4: strategy sampled 2 clients (out of 3)\n"
     ]
    },
    {
     "name": "stdout",
     "output_type": "stream",
     "text": [
      "agrregate_evaluate results list length is  2\n",
      "server round is  3\n",
      "loss is  0.20602862536907196\n"
     ]
    },
    {
     "name": "stderr",
     "output_type": "stream",
     "text": [
      "DEBUG flwr 2023-08-31 20:07:42,219 | server.py:236 | fit_round 4 received 2 results and 0 failures\n",
      "DEBUG flwr 2023-08-31 20:07:42,231 | server.py:173 | evaluate_round 4: strategy sampled 2 clients (out of 3)\n"
     ]
    },
    {
     "name": "stdout",
     "output_type": "stream",
     "text": [
      "agrregate_fit results list length is  2\n",
      "Saving round 4 aggregated_parameters...\n"
     ]
    },
    {
     "name": "stderr",
     "output_type": "stream",
     "text": [
      "DEBUG flwr 2023-08-31 20:07:43,785 | server.py:187 | evaluate_round 4 received 2 results and 0 failures\n",
      "DEBUG flwr 2023-08-31 20:07:43,786 | server.py:222 | fit_round 5: strategy sampled 2 clients (out of 3)\n"
     ]
    },
    {
     "name": "stdout",
     "output_type": "stream",
     "text": [
      "agrregate_evaluate results list length is  2\n",
      "server round is  4\n",
      "loss is  0.20028504729270935\n"
     ]
    },
    {
     "name": "stderr",
     "output_type": "stream",
     "text": [
      "DEBUG flwr 2023-08-31 20:07:52,301 | server.py:236 | fit_round 5 received 2 results and 0 failures\n",
      "DEBUG flwr 2023-08-31 20:07:52,316 | server.py:173 | evaluate_round 5: strategy sampled 2 clients (out of 3)\n"
     ]
    },
    {
     "name": "stdout",
     "output_type": "stream",
     "text": [
      "agrregate_fit results list length is  2\n",
      "Saving round 5 aggregated_parameters...\n"
     ]
    },
    {
     "name": "stderr",
     "output_type": "stream",
     "text": [
      "DEBUG flwr 2023-08-31 20:07:53,907 | server.py:187 | evaluate_round 5 received 2 results and 0 failures\n",
      "DEBUG flwr 2023-08-31 20:07:53,909 | server.py:222 | fit_round 6: strategy sampled 2 clients (out of 3)\n"
     ]
    },
    {
     "name": "stdout",
     "output_type": "stream",
     "text": [
      "agrregate_evaluate results list length is  2\n",
      "server round is  5\n",
      "loss is  0.20060117542743683\n"
     ]
    },
    {
     "name": "stderr",
     "output_type": "stream",
     "text": [
      "DEBUG flwr 2023-08-31 20:08:43,130 | server.py:236 | fit_round 6 received 2 results and 0 failures\n",
      "DEBUG flwr 2023-08-31 20:08:43,142 | server.py:173 | evaluate_round 6: strategy sampled 2 clients (out of 3)\n"
     ]
    },
    {
     "name": "stdout",
     "output_type": "stream",
     "text": [
      "agrregate_fit results list length is  2\n",
      "Saving round 6 aggregated_parameters...\n"
     ]
    },
    {
     "name": "stderr",
     "output_type": "stream",
     "text": [
      "DEBUG flwr 2023-08-31 20:08:44,718 | server.py:187 | evaluate_round 6 received 2 results and 0 failures\n",
      "DEBUG flwr 2023-08-31 20:08:44,719 | server.py:222 | fit_round 7: strategy sampled 2 clients (out of 3)\n"
     ]
    },
    {
     "name": "stdout",
     "output_type": "stream",
     "text": [
      "agrregate_evaluate results list length is  2\n",
      "server round is  6\n",
      "loss is  0.20168235898017883\n"
     ]
    },
    {
     "name": "stderr",
     "output_type": "stream",
     "text": [
      "DEBUG flwr 2023-08-31 20:08:53,297 | server.py:236 | fit_round 7 received 2 results and 0 failures\n",
      "DEBUG flwr 2023-08-31 20:08:53,310 | server.py:173 | evaluate_round 7: strategy sampled 2 clients (out of 3)\n"
     ]
    },
    {
     "name": "stdout",
     "output_type": "stream",
     "text": [
      "agrregate_fit results list length is  2\n",
      "Saving round 7 aggregated_parameters...\n"
     ]
    },
    {
     "name": "stderr",
     "output_type": "stream",
     "text": [
      "DEBUG flwr 2023-08-31 20:08:54,890 | server.py:187 | evaluate_round 7 received 2 results and 0 failures\n",
      "DEBUG flwr 2023-08-31 20:08:54,898 | server.py:222 | fit_round 8: strategy sampled 2 clients (out of 3)\n"
     ]
    },
    {
     "name": "stdout",
     "output_type": "stream",
     "text": [
      "agrregate_evaluate results list length is  2\n",
      "server round is  7\n",
      "loss is  0.1991509348154068\n"
     ]
    },
    {
     "name": "stderr",
     "output_type": "stream",
     "text": [
      "DEBUG flwr 2023-08-31 20:09:44,842 | server.py:236 | fit_round 8 received 2 results and 0 failures\n",
      "DEBUG flwr 2023-08-31 20:09:44,853 | server.py:173 | evaluate_round 8: strategy sampled 2 clients (out of 3)\n"
     ]
    },
    {
     "name": "stdout",
     "output_type": "stream",
     "text": [
      "agrregate_fit results list length is  2\n",
      "Saving round 8 aggregated_parameters...\n"
     ]
    },
    {
     "name": "stderr",
     "output_type": "stream",
     "text": [
      "DEBUG flwr 2023-08-31 20:09:46,359 | server.py:187 | evaluate_round 8 received 2 results and 0 failures\n",
      "DEBUG flwr 2023-08-31 20:09:46,360 | server.py:222 | fit_round 9: strategy sampled 2 clients (out of 3)\n"
     ]
    },
    {
     "name": "stdout",
     "output_type": "stream",
     "text": [
      "agrregate_evaluate results list length is  2\n",
      "server round is  8\n",
      "loss is  0.19787004590034485\n"
     ]
    },
    {
     "name": "stderr",
     "output_type": "stream",
     "text": [
      "DEBUG flwr 2023-08-31 20:10:35,714 | server.py:236 | fit_round 9 received 2 results and 0 failures\n",
      "DEBUG flwr 2023-08-31 20:10:35,725 | server.py:173 | evaluate_round 9: strategy sampled 2 clients (out of 3)\n"
     ]
    },
    {
     "name": "stdout",
     "output_type": "stream",
     "text": [
      "agrregate_fit results list length is  2\n",
      "Saving round 9 aggregated_parameters...\n"
     ]
    },
    {
     "name": "stderr",
     "output_type": "stream",
     "text": [
      "DEBUG flwr 2023-08-31 20:10:37,288 | server.py:187 | evaluate_round 9 received 2 results and 0 failures\n",
      "DEBUG flwr 2023-08-31 20:10:37,289 | server.py:222 | fit_round 10: strategy sampled 2 clients (out of 3)\n"
     ]
    },
    {
     "name": "stdout",
     "output_type": "stream",
     "text": [
      "agrregate_evaluate results list length is  2\n",
      "server round is  9\n",
      "loss is  0.1976289302110672\n"
     ]
    },
    {
     "name": "stderr",
     "output_type": "stream",
     "text": [
      "DEBUG flwr 2023-08-31 20:11:26,781 | server.py:236 | fit_round 10 received 2 results and 0 failures\n",
      "DEBUG flwr 2023-08-31 20:11:26,794 | server.py:173 | evaluate_round 10: strategy sampled 2 clients (out of 3)\n"
     ]
    },
    {
     "name": "stdout",
     "output_type": "stream",
     "text": [
      "agrregate_fit results list length is  2\n",
      "Saving round 10 aggregated_parameters...\n"
     ]
    },
    {
     "name": "stderr",
     "output_type": "stream",
     "text": [
      "DEBUG flwr 2023-08-31 20:11:28,370 | server.py:187 | evaluate_round 10 received 2 results and 0 failures\n",
      "DEBUG flwr 2023-08-31 20:11:28,372 | server.py:222 | fit_round 11: strategy sampled 2 clients (out of 3)\n"
     ]
    },
    {
     "name": "stdout",
     "output_type": "stream",
     "text": [
      "agrregate_evaluate results list length is  2\n",
      "server round is  10\n",
      "loss is  0.19670423865318298\n"
     ]
    },
    {
     "name": "stderr",
     "output_type": "stream",
     "text": [
      "DEBUG flwr 2023-08-31 20:11:36,925 | server.py:236 | fit_round 11 received 2 results and 0 failures\n",
      "DEBUG flwr 2023-08-31 20:11:36,937 | server.py:173 | evaluate_round 11: strategy sampled 2 clients (out of 3)\n"
     ]
    },
    {
     "name": "stdout",
     "output_type": "stream",
     "text": [
      "agrregate_fit results list length is  2\n",
      "Saving round 11 aggregated_parameters...\n"
     ]
    },
    {
     "name": "stderr",
     "output_type": "stream",
     "text": [
      "DEBUG flwr 2023-08-31 20:11:38,647 | server.py:187 | evaluate_round 11 received 2 results and 0 failures\n",
      "DEBUG flwr 2023-08-31 20:11:38,648 | server.py:222 | fit_round 12: strategy sampled 2 clients (out of 3)\n"
     ]
    },
    {
     "name": "stdout",
     "output_type": "stream",
     "text": [
      "agrregate_evaluate results list length is  2\n",
      "server round is  11\n",
      "loss is  0.19941560924053192\n"
     ]
    },
    {
     "name": "stderr",
     "output_type": "stream",
     "text": [
      "DEBUG flwr 2023-08-31 20:12:28,589 | server.py:236 | fit_round 12 received 2 results and 0 failures\n",
      "DEBUG flwr 2023-08-31 20:12:28,601 | server.py:173 | evaluate_round 12: strategy sampled 2 clients (out of 3)\n"
     ]
    },
    {
     "name": "stdout",
     "output_type": "stream",
     "text": [
      "agrregate_fit results list length is  2\n",
      "Saving round 12 aggregated_parameters...\n"
     ]
    },
    {
     "name": "stderr",
     "output_type": "stream",
     "text": [
      "DEBUG flwr 2023-08-31 20:12:30,205 | server.py:187 | evaluate_round 12 received 2 results and 0 failures\n",
      "DEBUG flwr 2023-08-31 20:12:30,206 | server.py:222 | fit_round 13: strategy sampled 2 clients (out of 3)\n"
     ]
    },
    {
     "name": "stdout",
     "output_type": "stream",
     "text": [
      "agrregate_evaluate results list length is  2\n",
      "server round is  12\n",
      "loss is  0.1969105452299118\n"
     ]
    },
    {
     "name": "stderr",
     "output_type": "stream",
     "text": [
      "DEBUG flwr 2023-08-31 20:13:21,405 | server.py:236 | fit_round 13 received 2 results and 0 failures\n",
      "DEBUG flwr 2023-08-31 20:13:21,417 | server.py:173 | evaluate_round 13: strategy sampled 2 clients (out of 3)\n"
     ]
    },
    {
     "name": "stdout",
     "output_type": "stream",
     "text": [
      "agrregate_fit results list length is  2\n",
      "Saving round 13 aggregated_parameters...\n"
     ]
    },
    {
     "name": "stderr",
     "output_type": "stream",
     "text": [
      "DEBUG flwr 2023-08-31 20:13:23,101 | server.py:187 | evaluate_round 13 received 2 results and 0 failures\n",
      "DEBUG flwr 2023-08-31 20:13:23,103 | server.py:222 | fit_round 14: strategy sampled 2 clients (out of 3)\n"
     ]
    },
    {
     "name": "stdout",
     "output_type": "stream",
     "text": [
      "agrregate_evaluate results list length is  2\n",
      "server round is  13\n",
      "loss is  0.19624049961566925\n"
     ]
    },
    {
     "name": "stderr",
     "output_type": "stream",
     "text": [
      "DEBUG flwr 2023-08-31 20:13:31,585 | server.py:236 | fit_round 14 received 2 results and 0 failures\n",
      "DEBUG flwr 2023-08-31 20:13:31,602 | server.py:173 | evaluate_round 14: strategy sampled 2 clients (out of 3)\n"
     ]
    },
    {
     "name": "stdout",
     "output_type": "stream",
     "text": [
      "agrregate_fit results list length is  2\n",
      "Saving round 14 aggregated_parameters...\n"
     ]
    },
    {
     "name": "stderr",
     "output_type": "stream",
     "text": [
      "DEBUG flwr 2023-08-31 20:13:33,605 | server.py:187 | evaluate_round 14 received 2 results and 0 failures\n",
      "DEBUG flwr 2023-08-31 20:13:33,606 | server.py:222 | fit_round 15: strategy sampled 2 clients (out of 3)\n"
     ]
    },
    {
     "name": "stdout",
     "output_type": "stream",
     "text": [
      "agrregate_evaluate results list length is  2\n",
      "server round is  14\n",
      "loss is  0.1993173509836197\n"
     ]
    },
    {
     "name": "stderr",
     "output_type": "stream",
     "text": [
      "DEBUG flwr 2023-08-31 20:13:42,309 | server.py:236 | fit_round 15 received 2 results and 0 failures\n",
      "DEBUG flwr 2023-08-31 20:13:42,323 | server.py:173 | evaluate_round 15: strategy sampled 2 clients (out of 3)\n"
     ]
    },
    {
     "name": "stdout",
     "output_type": "stream",
     "text": [
      "agrregate_fit results list length is  2\n",
      "Saving round 15 aggregated_parameters...\n"
     ]
    },
    {
     "name": "stderr",
     "output_type": "stream",
     "text": [
      "DEBUG flwr 2023-08-31 20:13:43,951 | server.py:187 | evaluate_round 15 received 2 results and 0 failures\n",
      "DEBUG flwr 2023-08-31 20:13:43,953 | server.py:222 | fit_round 16: strategy sampled 2 clients (out of 3)\n"
     ]
    },
    {
     "name": "stdout",
     "output_type": "stream",
     "text": [
      "agrregate_evaluate results list length is  2\n",
      "server round is  15\n",
      "loss is  0.197487935423851\n"
     ]
    },
    {
     "name": "stderr",
     "output_type": "stream",
     "text": [
      "DEBUG flwr 2023-08-31 20:14:32,318 | server.py:236 | fit_round 16 received 2 results and 0 failures\n",
      "DEBUG flwr 2023-08-31 20:14:32,334 | server.py:173 | evaluate_round 16: strategy sampled 2 clients (out of 3)\n"
     ]
    },
    {
     "name": "stdout",
     "output_type": "stream",
     "text": [
      "agrregate_fit results list length is  2\n",
      "Saving round 16 aggregated_parameters...\n"
     ]
    },
    {
     "name": "stderr",
     "output_type": "stream",
     "text": [
      "DEBUG flwr 2023-08-31 20:14:33,837 | server.py:187 | evaluate_round 16 received 2 results and 0 failures\n",
      "DEBUG flwr 2023-08-31 20:14:33,838 | server.py:222 | fit_round 17: strategy sampled 2 clients (out of 3)\n"
     ]
    },
    {
     "name": "stdout",
     "output_type": "stream",
     "text": [
      "agrregate_evaluate results list length is  2\n",
      "server round is  16\n",
      "loss is  0.19462528824806213\n"
     ]
    },
    {
     "name": "stderr",
     "output_type": "stream",
     "text": [
      "DEBUG flwr 2023-08-31 20:15:22,639 | server.py:236 | fit_round 17 received 2 results and 0 failures\n",
      "DEBUG flwr 2023-08-31 20:15:22,649 | server.py:173 | evaluate_round 17: strategy sampled 2 clients (out of 3)\n"
     ]
    },
    {
     "name": "stdout",
     "output_type": "stream",
     "text": [
      "agrregate_fit results list length is  2\n",
      "Saving round 17 aggregated_parameters...\n"
     ]
    },
    {
     "name": "stderr",
     "output_type": "stream",
     "text": [
      "DEBUG flwr 2023-08-31 20:15:24,420 | server.py:187 | evaluate_round 17 received 2 results and 0 failures\n",
      "DEBUG flwr 2023-08-31 20:15:24,421 | server.py:222 | fit_round 18: strategy sampled 2 clients (out of 3)\n"
     ]
    },
    {
     "name": "stdout",
     "output_type": "stream",
     "text": [
      "agrregate_evaluate results list length is  2\n",
      "server round is  17\n",
      "loss is  0.1979759931564331\n"
     ]
    },
    {
     "name": "stderr",
     "output_type": "stream",
     "text": [
      "DEBUG flwr 2023-08-31 20:16:13,208 | server.py:236 | fit_round 18 received 2 results and 0 failures\n",
      "DEBUG flwr 2023-08-31 20:16:13,220 | server.py:173 | evaluate_round 18: strategy sampled 2 clients (out of 3)\n"
     ]
    },
    {
     "name": "stdout",
     "output_type": "stream",
     "text": [
      "agrregate_fit results list length is  2\n",
      "Saving round 18 aggregated_parameters...\n"
     ]
    },
    {
     "name": "stderr",
     "output_type": "stream",
     "text": [
      "DEBUG flwr 2023-08-31 20:16:14,837 | server.py:187 | evaluate_round 18 received 2 results and 0 failures\n",
      "DEBUG flwr 2023-08-31 20:16:14,838 | server.py:222 | fit_round 19: strategy sampled 2 clients (out of 3)\n"
     ]
    },
    {
     "name": "stdout",
     "output_type": "stream",
     "text": [
      "agrregate_evaluate results list length is  2\n",
      "server round is  18\n",
      "loss is  0.1974828839302063\n"
     ]
    },
    {
     "name": "stderr",
     "output_type": "stream",
     "text": [
      "DEBUG flwr 2023-08-31 20:17:05,262 | server.py:236 | fit_round 19 received 2 results and 0 failures\n",
      "DEBUG flwr 2023-08-31 20:17:05,273 | server.py:173 | evaluate_round 19: strategy sampled 2 clients (out of 3)\n"
     ]
    },
    {
     "name": "stdout",
     "output_type": "stream",
     "text": [
      "agrregate_fit results list length is  2\n",
      "Saving round 19 aggregated_parameters...\n"
     ]
    },
    {
     "name": "stderr",
     "output_type": "stream",
     "text": [
      "DEBUG flwr 2023-08-31 20:17:06,974 | server.py:187 | evaluate_round 19 received 2 results and 0 failures\n",
      "DEBUG flwr 2023-08-31 20:17:06,975 | server.py:222 | fit_round 20: strategy sampled 2 clients (out of 3)\n"
     ]
    },
    {
     "name": "stdout",
     "output_type": "stream",
     "text": [
      "agrregate_evaluate results list length is  2\n",
      "server round is  19\n",
      "loss is  0.1952129602432251\n"
     ]
    },
    {
     "name": "stderr",
     "output_type": "stream",
     "text": [
      "DEBUG flwr 2023-08-31 20:17:56,434 | server.py:236 | fit_round 20 received 2 results and 0 failures\n",
      "DEBUG flwr 2023-08-31 20:17:56,444 | server.py:173 | evaluate_round 20: strategy sampled 2 clients (out of 3)\n"
     ]
    },
    {
     "name": "stdout",
     "output_type": "stream",
     "text": [
      "agrregate_fit results list length is  2\n",
      "Saving round 20 aggregated_parameters...\n"
     ]
    },
    {
     "name": "stderr",
     "output_type": "stream",
     "text": [
      "DEBUG flwr 2023-08-31 20:17:57,967 | server.py:187 | evaluate_round 20 received 2 results and 0 failures\n",
      "DEBUG flwr 2023-08-31 20:17:57,969 | server.py:222 | fit_round 21: strategy sampled 2 clients (out of 3)\n"
     ]
    },
    {
     "name": "stdout",
     "output_type": "stream",
     "text": [
      "agrregate_evaluate results list length is  2\n",
      "server round is  20\n",
      "loss is  0.19280678033828735\n"
     ]
    },
    {
     "name": "stderr",
     "output_type": "stream",
     "text": [
      "DEBUG flwr 2023-08-31 20:18:46,594 | server.py:236 | fit_round 21 received 2 results and 0 failures\n",
      "DEBUG flwr 2023-08-31 20:18:46,608 | server.py:173 | evaluate_round 21: strategy sampled 2 clients (out of 3)\n"
     ]
    },
    {
     "name": "stdout",
     "output_type": "stream",
     "text": [
      "agrregate_fit results list length is  2\n",
      "Saving round 21 aggregated_parameters...\n"
     ]
    },
    {
     "name": "stderr",
     "output_type": "stream",
     "text": [
      "DEBUG flwr 2023-08-31 20:18:48,135 | server.py:187 | evaluate_round 21 received 2 results and 0 failures\n",
      "DEBUG flwr 2023-08-31 20:18:48,136 | server.py:222 | fit_round 22: strategy sampled 2 clients (out of 3)\n"
     ]
    },
    {
     "name": "stdout",
     "output_type": "stream",
     "text": [
      "agrregate_evaluate results list length is  2\n",
      "server round is  21\n",
      "loss is  0.19593212008476257\n"
     ]
    },
    {
     "name": "stderr",
     "output_type": "stream",
     "text": [
      "DEBUG flwr 2023-08-31 20:18:56,653 | server.py:236 | fit_round 22 received 2 results and 0 failures\n",
      "DEBUG flwr 2023-08-31 20:18:56,667 | server.py:173 | evaluate_round 22: strategy sampled 2 clients (out of 3)\n"
     ]
    },
    {
     "name": "stdout",
     "output_type": "stream",
     "text": [
      "agrregate_fit results list length is  2\n",
      "Saving round 22 aggregated_parameters...\n"
     ]
    },
    {
     "name": "stderr",
     "output_type": "stream",
     "text": [
      "DEBUG flwr 2023-08-31 20:18:58,241 | server.py:187 | evaluate_round 22 received 2 results and 0 failures\n",
      "DEBUG flwr 2023-08-31 20:18:58,242 | server.py:222 | fit_round 23: strategy sampled 2 clients (out of 3)\n"
     ]
    },
    {
     "name": "stdout",
     "output_type": "stream",
     "text": [
      "agrregate_evaluate results list length is  2\n",
      "server round is  22\n",
      "loss is  0.19608920812606812\n"
     ]
    },
    {
     "name": "stderr",
     "output_type": "stream",
     "text": [
      "DEBUG flwr 2023-08-31 20:19:46,827 | server.py:236 | fit_round 23 received 2 results and 0 failures\n",
      "DEBUG flwr 2023-08-31 20:19:46,840 | server.py:173 | evaluate_round 23: strategy sampled 2 clients (out of 3)\n"
     ]
    },
    {
     "name": "stdout",
     "output_type": "stream",
     "text": [
      "agrregate_fit results list length is  2\n",
      "Saving round 23 aggregated_parameters...\n"
     ]
    },
    {
     "name": "stderr",
     "output_type": "stream",
     "text": [
      "DEBUG flwr 2023-08-31 20:19:48,356 | server.py:187 | evaluate_round 23 received 2 results and 0 failures\n",
      "DEBUG flwr 2023-08-31 20:19:48,357 | server.py:222 | fit_round 24: strategy sampled 2 clients (out of 3)\n"
     ]
    },
    {
     "name": "stdout",
     "output_type": "stream",
     "text": [
      "agrregate_evaluate results list length is  2\n",
      "server round is  23\n",
      "loss is  0.1926567107439041\n"
     ]
    },
    {
     "name": "stderr",
     "output_type": "stream",
     "text": [
      "DEBUG flwr 2023-08-31 20:19:56,803 | server.py:236 | fit_round 24 received 2 results and 0 failures\n",
      "DEBUG flwr 2023-08-31 20:19:56,816 | server.py:173 | evaluate_round 24: strategy sampled 2 clients (out of 3)\n"
     ]
    },
    {
     "name": "stdout",
     "output_type": "stream",
     "text": [
      "agrregate_fit results list length is  2\n",
      "Saving round 24 aggregated_parameters...\n"
     ]
    },
    {
     "name": "stderr",
     "output_type": "stream",
     "text": [
      "DEBUG flwr 2023-08-31 20:19:58,423 | server.py:187 | evaluate_round 24 received 2 results and 0 failures\n",
      "DEBUG flwr 2023-08-31 20:19:58,424 | server.py:222 | fit_round 25: strategy sampled 2 clients (out of 3)\n"
     ]
    },
    {
     "name": "stdout",
     "output_type": "stream",
     "text": [
      "agrregate_evaluate results list length is  2\n",
      "server round is  24\n",
      "loss is  0.19586987793445587\n"
     ]
    },
    {
     "name": "stderr",
     "output_type": "stream",
     "text": [
      "DEBUG flwr 2023-08-31 20:20:46,719 | server.py:236 | fit_round 25 received 2 results and 0 failures\n",
      "DEBUG flwr 2023-08-31 20:20:46,732 | server.py:173 | evaluate_round 25: strategy sampled 2 clients (out of 3)\n"
     ]
    },
    {
     "name": "stdout",
     "output_type": "stream",
     "text": [
      "agrregate_fit results list length is  2\n",
      "Saving round 25 aggregated_parameters...\n"
     ]
    },
    {
     "name": "stderr",
     "output_type": "stream",
     "text": [
      "DEBUG flwr 2023-08-31 20:20:48,290 | server.py:187 | evaluate_round 25 received 2 results and 0 failures\n",
      "INFO flwr 2023-08-31 20:20:48,291 | server.py:153 | FL finished in 908.6644930999901\n",
      "INFO flwr 2023-08-31 20:20:48,291 | app.py:225 | app_fit: losses_distributed [(1, 0.26130449771881104), (2, 0.2115923911333084), (3, 0.20602862536907196), (4, 0.20028504729270935), (5, 0.20060117542743683), (6, 0.20168235898017883), (7, 0.1991509348154068), (8, 0.19787004590034485), (9, 0.1976289302110672), (10, 0.19670423865318298), (11, 0.19941560924053192), (12, 0.1969105452299118), (13, 0.19624049961566925), (14, 0.1993173509836197), (15, 0.197487935423851), (16, 0.19462528824806213), (17, 0.1979759931564331), (18, 0.1974828839302063), (19, 0.1952129602432251), (20, 0.19280678033828735), (21, 0.19593212008476257), (22, 0.19608920812606812), (23, 0.1926567107439041), (24, 0.19586987793445587), (25, 0.19488553702831268)]\n",
      "INFO flwr 2023-08-31 20:20:48,292 | app.py:226 | app_fit: metrics_distributed_fit {}\n",
      "INFO flwr 2023-08-31 20:20:48,293 | app.py:227 | app_fit: metrics_distributed {'mse': [(1, 0.5226089954376221), (2, 0.4231847822666168), (3, 0.4120572507381439), (4, 0.4005700945854187), (5, 0.40120235085487366), (6, 0.40336471796035767), (7, 0.3983018696308136), (8, 0.3957400918006897), (9, 0.3952578604221344), (10, 0.39340847730636597), (11, 0.39883121848106384), (12, 0.3938210904598236), (13, 0.3924809992313385), (14, 0.3986347019672394), (15, 0.394975870847702), (16, 0.38925057649612427), (17, 0.3959519863128662), (18, 0.3949657678604126), (19, 0.3904259204864502), (20, 0.3856135606765747), (21, 0.39186424016952515), (22, 0.39217841625213623), (23, 0.3853134214878082), (24, 0.39173975586891174), (25, 0.38977107405662537)]}\n",
      "INFO flwr 2023-08-31 20:20:48,294 | app.py:228 | app_fit: losses_centralized []\n",
      "INFO flwr 2023-08-31 20:20:48,294 | app.py:229 | app_fit: metrics_centralized {}\n"
     ]
    },
    {
     "name": "stdout",
     "output_type": "stream",
     "text": [
      "agrregate_evaluate results list length is  2\n",
      "server round is  25\n",
      "loss is  0.19488553702831268\n",
      "History (loss, distributed):\n",
      "\tround 1: 0.26130449771881104\n",
      "\tround 2: 0.2115923911333084\n",
      "\tround 3: 0.20602862536907196\n",
      "\tround 4: 0.20028504729270935\n",
      "\tround 5: 0.20060117542743683\n",
      "\tround 6: 0.20168235898017883\n",
      "\tround 7: 0.1991509348154068\n",
      "\tround 8: 0.19787004590034485\n",
      "\tround 9: 0.1976289302110672\n",
      "\tround 10: 0.19670423865318298\n",
      "\tround 11: 0.19941560924053192\n",
      "\tround 12: 0.1969105452299118\n",
      "\tround 13: 0.19624049961566925\n",
      "\tround 14: 0.1993173509836197\n",
      "\tround 15: 0.197487935423851\n",
      "\tround 16: 0.19462528824806213\n",
      "\tround 17: 0.1979759931564331\n",
      "\tround 18: 0.1974828839302063\n",
      "\tround 19: 0.1952129602432251\n",
      "\tround 20: 0.19280678033828735\n",
      "\tround 21: 0.19593212008476257\n",
      "\tround 22: 0.19608920812606812\n",
      "\tround 23: 0.1926567107439041\n",
      "\tround 24: 0.19586987793445587\n",
      "\tround 25: 0.19488553702831268\n",
      "History (metrics, distributed, evaluate):\n",
      "{'mse': [(1, 0.5226089954376221), (2, 0.4231847822666168), (3, 0.4120572507381439), (4, 0.4005700945854187), (5, 0.40120235085487366), (6, 0.40336471796035767), (7, 0.3983018696308136), (8, 0.3957400918006897), (9, 0.3952578604221344), (10, 0.39340847730636597), (11, 0.39883121848106384), (12, 0.3938210904598236), (13, 0.3924809992313385), (14, 0.3986347019672394), (15, 0.394975870847702), (16, 0.38925057649612427), (17, 0.3959519863128662), (18, 0.3949657678604126), (19, 0.3904259204864502), (20, 0.3856135606765747), (21, 0.39186424016952515), (22, 0.39217841625213623), (23, 0.3853134214878082), (24, 0.39173975586891174), (25, 0.38977107405662537)]}\n",
      "[(1, 0.26130449771881104), (2, 0.2115923911333084), (3, 0.20602862536907196), (4, 0.20028504729270935), (5, 0.20060117542743683), (6, 0.20168235898017883), (7, 0.1991509348154068), (8, 0.19787004590034485), (9, 0.1976289302110672), (10, 0.19670423865318298), (11, 0.19941560924053192), (12, 0.1969105452299118), (13, 0.19624049961566925), (14, 0.1993173509836197), (15, 0.197487935423851), (16, 0.19462528824806213), (17, 0.1979759931564331), (18, 0.1974828839302063), (19, 0.1952129602432251), (20, 0.19280678033828735), (21, 0.19593212008476257), (22, 0.19608920812606812), (23, 0.1926567107439041), (24, 0.19586987793445587), (25, 0.19488553702831268)]\n",
      "Fold 2:\n",
      "splitting [0.8, 0.1, 0.1]\n",
      "time 0:15:29.610746\n",
      "mse [0.19488554]\n",
      "auc [0.7517534909636835]\n"
     ]
    }
   ],
   "source": [
    "splitting = [0.8, 0.1, 0.1]\n",
    "do_fl(splitting)"
   ],
   "metadata": {
    "collapsed": false,
    "ExecuteTime": {
     "end_time": "2023-08-31T19:20:48.622150800Z",
     "start_time": "2023-08-31T19:05:18.840859900Z"
    }
   }
  },
  {
   "cell_type": "code",
   "execution_count": 15,
   "outputs": [
    {
     "name": "stdout",
     "output_type": "stream",
     "text": [
      "Fold 1:\n",
      "x_test: cpu\n",
      "y_test: cpu\n",
      "Client 0 trainset shape torch.Size([90398, 120])\n",
      "Client 1 trainset shape torch.Size([90618, 120])\n",
      "Client 2 trainset shape torch.Size([90500, 120])\n"
     ]
    },
    {
     "name": "stderr",
     "output_type": "stream",
     "text": [
      "INFO flwr 2023-08-31 20:20:49,366 | app.py:145 | Starting Flower simulation, config: ServerConfig(num_rounds=25, round_timeout=None)\n"
     ]
    },
    {
     "name": "stdout",
     "output_type": "stream",
     "text": [
      "Client 3 trainset shape torch.Size([90396, 120])\n",
      "Client 4 trainset shape torch.Size([90384, 120])\n",
      "FL started training on cpu\n",
      "Number of available GPUs: 0\n"
     ]
    },
    {
     "name": "stderr",
     "output_type": "stream",
     "text": [
      "2023-08-31 20:20:59,111\tINFO worker.py:1627 -- Started a local Ray instance. View the dashboard at \u001B[1m\u001B[32m127.0.0.1:8268 \u001B[39m\u001B[22m\n",
      "INFO flwr 2023-08-31 20:21:04,800 | app.py:179 | Flower VCE: Ray initialized with resources: {'memory': 2250330932.0, 'object_store_memory': 1125165465.0, 'node:127.0.0.1': 1.0, 'CPU': 8.0, 'GPU': 1.0}\n",
      "INFO flwr 2023-08-31 20:21:04,802 | server.py:89 | Initializing global parameters\n",
      "INFO flwr 2023-08-31 20:21:04,804 | server.py:276 | Requesting initial parameters from one random client\n",
      "INFO flwr 2023-08-31 20:21:08,988 | server.py:280 | Received initial parameters from one random client\n",
      "INFO flwr 2023-08-31 20:21:08,989 | server.py:91 | Evaluating initial parameters\n",
      "INFO flwr 2023-08-31 20:21:08,990 | server.py:104 | FL starting\n",
      "DEBUG flwr 2023-08-31 20:21:08,990 | server.py:222 | fit_round 1: strategy sampled 2 clients (out of 5)\n",
      "DEBUG flwr 2023-08-31 20:21:28,207 | server.py:236 | fit_round 1 received 2 results and 0 failures\n",
      "WARNING flwr 2023-08-31 20:21:28,213 | fedavg.py:242 | No fit_metrics_aggregation_fn provided\n",
      "DEBUG flwr 2023-08-31 20:21:28,221 | server.py:173 | evaluate_round 1: strategy sampled 2 clients (out of 5)\n"
     ]
    },
    {
     "name": "stdout",
     "output_type": "stream",
     "text": [
      "agrregate_fit results list length is  2\n",
      "Saving round 1 aggregated_parameters...\n"
     ]
    },
    {
     "name": "stderr",
     "output_type": "stream",
     "text": [
      "DEBUG flwr 2023-08-31 20:21:30,347 | server.py:187 | evaluate_round 1 received 2 results and 0 failures\n",
      "DEBUG flwr 2023-08-31 20:21:30,348 | server.py:222 | fit_round 2: strategy sampled 2 clients (out of 5)\n"
     ]
    },
    {
     "name": "stdout",
     "output_type": "stream",
     "text": [
      "agrregate_evaluate results list length is  2\n",
      "server round is  1\n",
      "loss is  0.2515186071395874\n"
     ]
    },
    {
     "name": "stderr",
     "output_type": "stream",
     "text": [
      "DEBUG flwr 2023-08-31 20:21:46,585 | server.py:236 | fit_round 2 received 2 results and 0 failures\n",
      "DEBUG flwr 2023-08-31 20:21:46,599 | server.py:173 | evaluate_round 2: strategy sampled 2 clients (out of 5)\n"
     ]
    },
    {
     "name": "stdout",
     "output_type": "stream",
     "text": [
      "agrregate_fit results list length is  2\n",
      "Saving round 2 aggregated_parameters...\n"
     ]
    },
    {
     "name": "stderr",
     "output_type": "stream",
     "text": [
      "DEBUG flwr 2023-08-31 20:21:48,730 | server.py:187 | evaluate_round 2 received 2 results and 0 failures\n",
      "DEBUG flwr 2023-08-31 20:21:48,732 | server.py:222 | fit_round 3: strategy sampled 2 clients (out of 5)\n"
     ]
    },
    {
     "name": "stdout",
     "output_type": "stream",
     "text": [
      "agrregate_evaluate results list length is  2\n",
      "server round is  2\n",
      "loss is  0.22890549898147583\n"
     ]
    },
    {
     "name": "stderr",
     "output_type": "stream",
     "text": [
      "DEBUG flwr 2023-08-31 20:22:05,729 | server.py:236 | fit_round 3 received 2 results and 0 failures\n",
      "DEBUG flwr 2023-08-31 20:22:05,739 | server.py:173 | evaluate_round 3: strategy sampled 2 clients (out of 5)\n"
     ]
    },
    {
     "name": "stdout",
     "output_type": "stream",
     "text": [
      "agrregate_fit results list length is  2\n",
      "Saving round 3 aggregated_parameters...\n"
     ]
    },
    {
     "name": "stderr",
     "output_type": "stream",
     "text": [
      "DEBUG flwr 2023-08-31 20:22:07,967 | server.py:187 | evaluate_round 3 received 2 results and 0 failures\n",
      "DEBUG flwr 2023-08-31 20:22:07,968 | server.py:222 | fit_round 4: strategy sampled 2 clients (out of 5)\n"
     ]
    },
    {
     "name": "stdout",
     "output_type": "stream",
     "text": [
      "agrregate_evaluate results list length is  2\n",
      "server round is  3\n",
      "loss is  0.2104272097349167\n"
     ]
    },
    {
     "name": "stderr",
     "output_type": "stream",
     "text": [
      "DEBUG flwr 2023-08-31 20:22:24,449 | server.py:236 | fit_round 4 received 2 results and 0 failures\n",
      "DEBUG flwr 2023-08-31 20:22:24,467 | server.py:173 | evaluate_round 4: strategy sampled 2 clients (out of 5)\n"
     ]
    },
    {
     "name": "stdout",
     "output_type": "stream",
     "text": [
      "agrregate_fit results list length is  2\n",
      "Saving round 4 aggregated_parameters...\n"
     ]
    },
    {
     "name": "stderr",
     "output_type": "stream",
     "text": [
      "DEBUG flwr 2023-08-31 20:22:26,603 | server.py:187 | evaluate_round 4 received 2 results and 0 failures\n",
      "DEBUG flwr 2023-08-31 20:22:26,604 | server.py:222 | fit_round 5: strategy sampled 2 clients (out of 5)\n"
     ]
    },
    {
     "name": "stdout",
     "output_type": "stream",
     "text": [
      "agrregate_evaluate results list length is  2\n",
      "server round is  4\n",
      "loss is  0.2048853486776352\n"
     ]
    },
    {
     "name": "stderr",
     "output_type": "stream",
     "text": [
      "DEBUG flwr 2023-08-31 20:22:42,891 | server.py:236 | fit_round 5 received 2 results and 0 failures\n",
      "DEBUG flwr 2023-08-31 20:22:42,902 | server.py:173 | evaluate_round 5: strategy sampled 2 clients (out of 5)\n"
     ]
    },
    {
     "name": "stdout",
     "output_type": "stream",
     "text": [
      "agrregate_fit results list length is  2\n",
      "Saving round 5 aggregated_parameters...\n"
     ]
    },
    {
     "name": "stderr",
     "output_type": "stream",
     "text": [
      "DEBUG flwr 2023-08-31 20:22:45,057 | server.py:187 | evaluate_round 5 received 2 results and 0 failures\n",
      "DEBUG flwr 2023-08-31 20:22:45,058 | server.py:222 | fit_round 6: strategy sampled 2 clients (out of 5)\n"
     ]
    },
    {
     "name": "stdout",
     "output_type": "stream",
     "text": [
      "agrregate_evaluate results list length is  2\n",
      "server round is  5\n",
      "loss is  0.20349368453025818\n"
     ]
    },
    {
     "name": "stderr",
     "output_type": "stream",
     "text": [
      "DEBUG flwr 2023-08-31 20:23:01,321 | server.py:236 | fit_round 6 received 2 results and 0 failures\n",
      "DEBUG flwr 2023-08-31 20:23:01,333 | server.py:173 | evaluate_round 6: strategy sampled 2 clients (out of 5)\n"
     ]
    },
    {
     "name": "stdout",
     "output_type": "stream",
     "text": [
      "agrregate_fit results list length is  2\n",
      "Saving round 6 aggregated_parameters...\n"
     ]
    },
    {
     "name": "stderr",
     "output_type": "stream",
     "text": [
      "DEBUG flwr 2023-08-31 20:23:03,453 | server.py:187 | evaluate_round 6 received 2 results and 0 failures\n",
      "DEBUG flwr 2023-08-31 20:23:03,454 | server.py:222 | fit_round 7: strategy sampled 2 clients (out of 5)\n"
     ]
    },
    {
     "name": "stdout",
     "output_type": "stream",
     "text": [
      "agrregate_evaluate results list length is  2\n",
      "server round is  6\n",
      "loss is  0.20247916877269745\n"
     ]
    },
    {
     "name": "stderr",
     "output_type": "stream",
     "text": [
      "DEBUG flwr 2023-08-31 20:23:20,458 | server.py:236 | fit_round 7 received 2 results and 0 failures\n",
      "DEBUG flwr 2023-08-31 20:23:20,469 | server.py:173 | evaluate_round 7: strategy sampled 2 clients (out of 5)\n"
     ]
    },
    {
     "name": "stdout",
     "output_type": "stream",
     "text": [
      "agrregate_fit results list length is  2\n",
      "Saving round 7 aggregated_parameters...\n"
     ]
    },
    {
     "name": "stderr",
     "output_type": "stream",
     "text": [
      "DEBUG flwr 2023-08-31 20:23:22,638 | server.py:187 | evaluate_round 7 received 2 results and 0 failures\n",
      "DEBUG flwr 2023-08-31 20:23:22,639 | server.py:222 | fit_round 8: strategy sampled 2 clients (out of 5)\n"
     ]
    },
    {
     "name": "stdout",
     "output_type": "stream",
     "text": [
      "agrregate_evaluate results list length is  2\n",
      "server round is  7\n",
      "loss is  0.19894751906394958\n"
     ]
    },
    {
     "name": "stderr",
     "output_type": "stream",
     "text": [
      "DEBUG flwr 2023-08-31 20:23:38,987 | server.py:236 | fit_round 8 received 2 results and 0 failures\n",
      "DEBUG flwr 2023-08-31 20:23:39,006 | server.py:173 | evaluate_round 8: strategy sampled 2 clients (out of 5)\n"
     ]
    },
    {
     "name": "stdout",
     "output_type": "stream",
     "text": [
      "agrregate_fit results list length is  2\n",
      "Saving round 8 aggregated_parameters...\n"
     ]
    },
    {
     "name": "stderr",
     "output_type": "stream",
     "text": [
      "DEBUG flwr 2023-08-31 20:23:41,151 | server.py:187 | evaluate_round 8 received 2 results and 0 failures\n",
      "DEBUG flwr 2023-08-31 20:23:41,152 | server.py:222 | fit_round 9: strategy sampled 2 clients (out of 5)\n"
     ]
    },
    {
     "name": "stdout",
     "output_type": "stream",
     "text": [
      "agrregate_evaluate results list length is  2\n",
      "server round is  8\n",
      "loss is  0.1986970156431198\n"
     ]
    },
    {
     "name": "stderr",
     "output_type": "stream",
     "text": [
      "DEBUG flwr 2023-08-31 20:23:57,419 | server.py:236 | fit_round 9 received 2 results and 0 failures\n",
      "DEBUG flwr 2023-08-31 20:23:57,430 | server.py:173 | evaluate_round 9: strategy sampled 2 clients (out of 5)\n"
     ]
    },
    {
     "name": "stdout",
     "output_type": "stream",
     "text": [
      "agrregate_fit results list length is  2\n",
      "Saving round 9 aggregated_parameters...\n"
     ]
    },
    {
     "name": "stderr",
     "output_type": "stream",
     "text": [
      "DEBUG flwr 2023-08-31 20:23:59,553 | server.py:187 | evaluate_round 9 received 2 results and 0 failures\n",
      "DEBUG flwr 2023-08-31 20:23:59,553 | server.py:222 | fit_round 10: strategy sampled 2 clients (out of 5)\n"
     ]
    },
    {
     "name": "stdout",
     "output_type": "stream",
     "text": [
      "agrregate_evaluate results list length is  2\n",
      "server round is  9\n",
      "loss is  0.19881372153759003\n"
     ]
    },
    {
     "name": "stderr",
     "output_type": "stream",
     "text": [
      "DEBUG flwr 2023-08-31 20:24:16,004 | server.py:236 | fit_round 10 received 2 results and 0 failures\n",
      "DEBUG flwr 2023-08-31 20:24:16,018 | server.py:173 | evaluate_round 10: strategy sampled 2 clients (out of 5)\n"
     ]
    },
    {
     "name": "stdout",
     "output_type": "stream",
     "text": [
      "agrregate_fit results list length is  2\n",
      "Saving round 10 aggregated_parameters...\n"
     ]
    },
    {
     "name": "stderr",
     "output_type": "stream",
     "text": [
      "DEBUG flwr 2023-08-31 20:24:18,489 | server.py:187 | evaluate_round 10 received 2 results and 0 failures\n",
      "DEBUG flwr 2023-08-31 20:24:18,491 | server.py:222 | fit_round 11: strategy sampled 2 clients (out of 5)\n"
     ]
    },
    {
     "name": "stdout",
     "output_type": "stream",
     "text": [
      "agrregate_evaluate results list length is  2\n",
      "server round is  10\n",
      "loss is  0.19707250595092773\n"
     ]
    },
    {
     "name": "stderr",
     "output_type": "stream",
     "text": [
      "DEBUG flwr 2023-08-31 20:24:34,979 | server.py:236 | fit_round 11 received 2 results and 0 failures\n",
      "DEBUG flwr 2023-08-31 20:24:34,992 | server.py:173 | evaluate_round 11: strategy sampled 2 clients (out of 5)\n"
     ]
    },
    {
     "name": "stdout",
     "output_type": "stream",
     "text": [
      "agrregate_fit results list length is  2\n",
      "Saving round 11 aggregated_parameters...\n"
     ]
    },
    {
     "name": "stderr",
     "output_type": "stream",
     "text": [
      "DEBUG flwr 2023-08-31 20:24:37,131 | server.py:187 | evaluate_round 11 received 2 results and 0 failures\n",
      "DEBUG flwr 2023-08-31 20:24:37,133 | server.py:222 | fit_round 12: strategy sampled 2 clients (out of 5)\n"
     ]
    },
    {
     "name": "stdout",
     "output_type": "stream",
     "text": [
      "agrregate_evaluate results list length is  2\n",
      "server round is  11\n",
      "loss is  0.2014366239309311\n"
     ]
    },
    {
     "name": "stderr",
     "output_type": "stream",
     "text": [
      "DEBUG flwr 2023-08-31 20:24:54,602 | server.py:236 | fit_round 12 received 2 results and 0 failures\n",
      "DEBUG flwr 2023-08-31 20:24:54,614 | server.py:173 | evaluate_round 12: strategy sampled 2 clients (out of 5)\n"
     ]
    },
    {
     "name": "stdout",
     "output_type": "stream",
     "text": [
      "agrregate_fit results list length is  2\n",
      "Saving round 12 aggregated_parameters...\n"
     ]
    },
    {
     "name": "stderr",
     "output_type": "stream",
     "text": [
      "DEBUG flwr 2023-08-31 20:24:56,749 | server.py:187 | evaluate_round 12 received 2 results and 0 failures\n",
      "DEBUG flwr 2023-08-31 20:24:56,750 | server.py:222 | fit_round 13: strategy sampled 2 clients (out of 5)\n"
     ]
    },
    {
     "name": "stdout",
     "output_type": "stream",
     "text": [
      "agrregate_evaluate results list length is  2\n",
      "server round is  12\n",
      "loss is  0.20076324045658112\n"
     ]
    },
    {
     "name": "stderr",
     "output_type": "stream",
     "text": [
      "DEBUG flwr 2023-08-31 20:25:13,087 | server.py:236 | fit_round 13 received 2 results and 0 failures\n",
      "DEBUG flwr 2023-08-31 20:25:13,098 | server.py:173 | evaluate_round 13: strategy sampled 2 clients (out of 5)\n"
     ]
    },
    {
     "name": "stdout",
     "output_type": "stream",
     "text": [
      "agrregate_fit results list length is  2\n",
      "Saving round 13 aggregated_parameters...\n"
     ]
    },
    {
     "name": "stderr",
     "output_type": "stream",
     "text": [
      "DEBUG flwr 2023-08-31 20:25:15,300 | server.py:187 | evaluate_round 13 received 2 results and 0 failures\n",
      "DEBUG flwr 2023-08-31 20:25:15,302 | server.py:222 | fit_round 14: strategy sampled 2 clients (out of 5)\n"
     ]
    },
    {
     "name": "stdout",
     "output_type": "stream",
     "text": [
      "agrregate_evaluate results list length is  2\n",
      "server round is  13\n",
      "loss is  0.20053981244564056\n"
     ]
    },
    {
     "name": "stderr",
     "output_type": "stream",
     "text": [
      "DEBUG flwr 2023-08-31 20:25:32,449 | server.py:236 | fit_round 14 received 2 results and 0 failures\n",
      "DEBUG flwr 2023-08-31 20:25:32,462 | server.py:173 | evaluate_round 14: strategy sampled 2 clients (out of 5)\n"
     ]
    },
    {
     "name": "stdout",
     "output_type": "stream",
     "text": [
      "agrregate_fit results list length is  2\n",
      "Saving round 14 aggregated_parameters...\n"
     ]
    },
    {
     "name": "stderr",
     "output_type": "stream",
     "text": [
      "DEBUG flwr 2023-08-31 20:25:34,594 | server.py:187 | evaluate_round 14 received 2 results and 0 failures\n",
      "DEBUG flwr 2023-08-31 20:25:34,595 | server.py:222 | fit_round 15: strategy sampled 2 clients (out of 5)\n"
     ]
    },
    {
     "name": "stdout",
     "output_type": "stream",
     "text": [
      "agrregate_evaluate results list length is  2\n",
      "server round is  14\n",
      "loss is  0.19596511125564575\n"
     ]
    },
    {
     "name": "stderr",
     "output_type": "stream",
     "text": [
      "DEBUG flwr 2023-08-31 20:25:50,758 | server.py:236 | fit_round 15 received 2 results and 0 failures\n",
      "DEBUG flwr 2023-08-31 20:25:50,769 | server.py:173 | evaluate_round 15: strategy sampled 2 clients (out of 5)\n"
     ]
    },
    {
     "name": "stdout",
     "output_type": "stream",
     "text": [
      "agrregate_fit results list length is  2\n",
      "Saving round 15 aggregated_parameters...\n"
     ]
    },
    {
     "name": "stderr",
     "output_type": "stream",
     "text": [
      "DEBUG flwr 2023-08-31 20:25:52,942 | server.py:187 | evaluate_round 15 received 2 results and 0 failures\n",
      "DEBUG flwr 2023-08-31 20:25:52,944 | server.py:222 | fit_round 16: strategy sampled 2 clients (out of 5)\n"
     ]
    },
    {
     "name": "stdout",
     "output_type": "stream",
     "text": [
      "agrregate_evaluate results list length is  2\n",
      "server round is  15\n",
      "loss is  0.19598814845085144\n"
     ]
    },
    {
     "name": "stderr",
     "output_type": "stream",
     "text": [
      "DEBUG flwr 2023-08-31 20:26:09,161 | server.py:236 | fit_round 16 received 2 results and 0 failures\n",
      "DEBUG flwr 2023-08-31 20:26:09,173 | server.py:173 | evaluate_round 16: strategy sampled 2 clients (out of 5)\n"
     ]
    },
    {
     "name": "stdout",
     "output_type": "stream",
     "text": [
      "agrregate_fit results list length is  2\n",
      "Saving round 16 aggregated_parameters...\n"
     ]
    },
    {
     "name": "stderr",
     "output_type": "stream",
     "text": [
      "DEBUG flwr 2023-08-31 20:26:11,497 | server.py:187 | evaluate_round 16 received 2 results and 0 failures\n",
      "DEBUG flwr 2023-08-31 20:26:11,498 | server.py:222 | fit_round 17: strategy sampled 2 clients (out of 5)\n"
     ]
    },
    {
     "name": "stdout",
     "output_type": "stream",
     "text": [
      "agrregate_evaluate results list length is  2\n",
      "server round is  16\n",
      "loss is  0.19715359807014465\n"
     ]
    },
    {
     "name": "stderr",
     "output_type": "stream",
     "text": [
      "DEBUG flwr 2023-08-31 20:26:28,327 | server.py:236 | fit_round 17 received 2 results and 0 failures\n",
      "DEBUG flwr 2023-08-31 20:26:28,340 | server.py:173 | evaluate_round 17: strategy sampled 2 clients (out of 5)\n"
     ]
    },
    {
     "name": "stdout",
     "output_type": "stream",
     "text": [
      "agrregate_fit results list length is  2\n",
      "Saving round 17 aggregated_parameters...\n"
     ]
    },
    {
     "name": "stderr",
     "output_type": "stream",
     "text": [
      "DEBUG flwr 2023-08-31 20:26:30,461 | server.py:187 | evaluate_round 17 received 2 results and 0 failures\n",
      "DEBUG flwr 2023-08-31 20:26:30,462 | server.py:222 | fit_round 18: strategy sampled 2 clients (out of 5)\n"
     ]
    },
    {
     "name": "stdout",
     "output_type": "stream",
     "text": [
      "agrregate_evaluate results list length is  2\n",
      "server round is  17\n",
      "loss is  0.19939061999320984\n"
     ]
    },
    {
     "name": "stderr",
     "output_type": "stream",
     "text": [
      "DEBUG flwr 2023-08-31 20:26:46,830 | server.py:236 | fit_round 18 received 2 results and 0 failures\n",
      "DEBUG flwr 2023-08-31 20:26:46,842 | server.py:173 | evaluate_round 18: strategy sampled 2 clients (out of 5)\n"
     ]
    },
    {
     "name": "stdout",
     "output_type": "stream",
     "text": [
      "agrregate_fit results list length is  2\n",
      "Saving round 18 aggregated_parameters...\n"
     ]
    },
    {
     "name": "stderr",
     "output_type": "stream",
     "text": [
      "DEBUG flwr 2023-08-31 20:26:48,986 | server.py:187 | evaluate_round 18 received 2 results and 0 failures\n",
      "DEBUG flwr 2023-08-31 20:26:48,987 | server.py:222 | fit_round 19: strategy sampled 2 clients (out of 5)\n"
     ]
    },
    {
     "name": "stdout",
     "output_type": "stream",
     "text": [
      "agrregate_evaluate results list length is  2\n",
      "server round is  18\n",
      "loss is  0.1958588808774948\n"
     ]
    },
    {
     "name": "stderr",
     "output_type": "stream",
     "text": [
      "DEBUG flwr 2023-08-31 20:27:05,354 | server.py:236 | fit_round 19 received 2 results and 0 failures\n",
      "DEBUG flwr 2023-08-31 20:27:05,369 | server.py:173 | evaluate_round 19: strategy sampled 2 clients (out of 5)\n"
     ]
    },
    {
     "name": "stdout",
     "output_type": "stream",
     "text": [
      "agrregate_fit results list length is  2\n",
      "Saving round 19 aggregated_parameters...\n"
     ]
    },
    {
     "name": "stderr",
     "output_type": "stream",
     "text": [
      "DEBUG flwr 2023-08-31 20:27:07,469 | server.py:187 | evaluate_round 19 received 2 results and 0 failures\n",
      "DEBUG flwr 2023-08-31 20:27:07,470 | server.py:222 | fit_round 20: strategy sampled 2 clients (out of 5)\n"
     ]
    },
    {
     "name": "stdout",
     "output_type": "stream",
     "text": [
      "agrregate_evaluate results list length is  2\n",
      "server round is  19\n",
      "loss is  0.2007148712873459\n"
     ]
    },
    {
     "name": "stderr",
     "output_type": "stream",
     "text": [
      "DEBUG flwr 2023-08-31 20:27:23,557 | server.py:236 | fit_round 20 received 2 results and 0 failures\n",
      "DEBUG flwr 2023-08-31 20:27:23,569 | server.py:173 | evaluate_round 20: strategy sampled 2 clients (out of 5)\n"
     ]
    },
    {
     "name": "stdout",
     "output_type": "stream",
     "text": [
      "agrregate_fit results list length is  2\n",
      "Saving round 20 aggregated_parameters...\n"
     ]
    },
    {
     "name": "stderr",
     "output_type": "stream",
     "text": [
      "DEBUG flwr 2023-08-31 20:27:26,326 | server.py:187 | evaluate_round 20 received 2 results and 0 failures\n",
      "DEBUG flwr 2023-08-31 20:27:26,327 | server.py:222 | fit_round 21: strategy sampled 2 clients (out of 5)\n"
     ]
    },
    {
     "name": "stdout",
     "output_type": "stream",
     "text": [
      "agrregate_evaluate results list length is  2\n",
      "server round is  20\n",
      "loss is  0.19952644407749176\n"
     ]
    },
    {
     "name": "stderr",
     "output_type": "stream",
     "text": [
      "DEBUG flwr 2023-08-31 20:27:43,809 | server.py:236 | fit_round 21 received 2 results and 0 failures\n",
      "DEBUG flwr 2023-08-31 20:27:43,826 | server.py:173 | evaluate_round 21: strategy sampled 2 clients (out of 5)\n"
     ]
    },
    {
     "name": "stdout",
     "output_type": "stream",
     "text": [
      "agrregate_fit results list length is  2\n",
      "Saving round 21 aggregated_parameters...\n"
     ]
    },
    {
     "name": "stderr",
     "output_type": "stream",
     "text": [
      "DEBUG flwr 2023-08-31 20:27:45,976 | server.py:187 | evaluate_round 21 received 2 results and 0 failures\n",
      "DEBUG flwr 2023-08-31 20:27:45,977 | server.py:222 | fit_round 22: strategy sampled 2 clients (out of 5)\n"
     ]
    },
    {
     "name": "stdout",
     "output_type": "stream",
     "text": [
      "agrregate_evaluate results list length is  2\n",
      "server round is  21\n",
      "loss is  0.19650450348854065\n"
     ]
    },
    {
     "name": "stderr",
     "output_type": "stream",
     "text": [
      "DEBUG flwr 2023-08-31 20:28:03,316 | server.py:236 | fit_round 22 received 2 results and 0 failures\n",
      "DEBUG flwr 2023-08-31 20:28:03,326 | server.py:173 | evaluate_round 22: strategy sampled 2 clients (out of 5)\n"
     ]
    },
    {
     "name": "stdout",
     "output_type": "stream",
     "text": [
      "agrregate_fit results list length is  2\n",
      "Saving round 22 aggregated_parameters...\n"
     ]
    },
    {
     "name": "stderr",
     "output_type": "stream",
     "text": [
      "DEBUG flwr 2023-08-31 20:28:05,493 | server.py:187 | evaluate_round 22 received 2 results and 0 failures\n",
      "DEBUG flwr 2023-08-31 20:28:05,494 | server.py:222 | fit_round 23: strategy sampled 2 clients (out of 5)\n"
     ]
    },
    {
     "name": "stdout",
     "output_type": "stream",
     "text": [
      "agrregate_evaluate results list length is  2\n",
      "server round is  22\n",
      "loss is  0.19786588847637177\n"
     ]
    },
    {
     "name": "stderr",
     "output_type": "stream",
     "text": [
      "DEBUG flwr 2023-08-31 20:28:21,593 | server.py:236 | fit_round 23 received 2 results and 0 failures\n",
      "DEBUG flwr 2023-08-31 20:28:21,607 | server.py:173 | evaluate_round 23: strategy sampled 2 clients (out of 5)\n"
     ]
    },
    {
     "name": "stdout",
     "output_type": "stream",
     "text": [
      "agrregate_fit results list length is  2\n",
      "Saving round 23 aggregated_parameters...\n"
     ]
    },
    {
     "name": "stderr",
     "output_type": "stream",
     "text": [
      "DEBUG flwr 2023-08-31 20:28:23,745 | server.py:187 | evaluate_round 23 received 2 results and 0 failures\n",
      "DEBUG flwr 2023-08-31 20:28:23,747 | server.py:222 | fit_round 24: strategy sampled 2 clients (out of 5)\n"
     ]
    },
    {
     "name": "stdout",
     "output_type": "stream",
     "text": [
      "agrregate_evaluate results list length is  2\n",
      "server round is  23\n",
      "loss is  0.1941422075033188\n"
     ]
    },
    {
     "name": "stderr",
     "output_type": "stream",
     "text": [
      "DEBUG flwr 2023-08-31 20:28:40,664 | server.py:236 | fit_round 24 received 2 results and 0 failures\n",
      "DEBUG flwr 2023-08-31 20:28:40,675 | server.py:173 | evaluate_round 24: strategy sampled 2 clients (out of 5)\n"
     ]
    },
    {
     "name": "stdout",
     "output_type": "stream",
     "text": [
      "agrregate_fit results list length is  2\n",
      "Saving round 24 aggregated_parameters...\n"
     ]
    },
    {
     "name": "stderr",
     "output_type": "stream",
     "text": [
      "DEBUG flwr 2023-08-31 20:28:42,813 | server.py:187 | evaluate_round 24 received 2 results and 0 failures\n",
      "DEBUG flwr 2023-08-31 20:28:42,814 | server.py:222 | fit_round 25: strategy sampled 2 clients (out of 5)\n"
     ]
    },
    {
     "name": "stdout",
     "output_type": "stream",
     "text": [
      "agrregate_evaluate results list length is  2\n",
      "server round is  24\n",
      "loss is  0.19867227971553802\n"
     ]
    },
    {
     "name": "stderr",
     "output_type": "stream",
     "text": [
      "DEBUG flwr 2023-08-31 20:28:58,980 | server.py:236 | fit_round 25 received 2 results and 0 failures\n",
      "DEBUG flwr 2023-08-31 20:28:58,992 | server.py:173 | evaluate_round 25: strategy sampled 2 clients (out of 5)\n"
     ]
    },
    {
     "name": "stdout",
     "output_type": "stream",
     "text": [
      "agrregate_fit results list length is  2\n",
      "Saving round 25 aggregated_parameters...\n"
     ]
    },
    {
     "name": "stderr",
     "output_type": "stream",
     "text": [
      "DEBUG flwr 2023-08-31 20:29:01,153 | server.py:187 | evaluate_round 25 received 2 results and 0 failures\n",
      "INFO flwr 2023-08-31 20:29:01,155 | server.py:153 | FL finished in 472.16397160000633\n",
      "INFO flwr 2023-08-31 20:29:01,155 | app.py:225 | app_fit: losses_distributed [(1, 0.2515186071395874), (2, 0.22890549898147583), (3, 0.2104272097349167), (4, 0.2048853486776352), (5, 0.20349368453025818), (6, 0.20247916877269745), (7, 0.19894751906394958), (8, 0.1986970156431198), (9, 0.19881372153759003), (10, 0.19707250595092773), (11, 0.2014366239309311), (12, 0.20076324045658112), (13, 0.20053981244564056), (14, 0.19596511125564575), (15, 0.19598814845085144), (16, 0.19715359807014465), (17, 0.19939061999320984), (18, 0.1958588808774948), (19, 0.2007148712873459), (20, 0.19952644407749176), (21, 0.19650450348854065), (22, 0.19786588847637177), (23, 0.1941422075033188), (24, 0.19867227971553802), (25, 0.19890561699867249)]\n",
      "INFO flwr 2023-08-31 20:29:01,156 | app.py:226 | app_fit: metrics_distributed_fit {}\n",
      "INFO flwr 2023-08-31 20:29:01,156 | app.py:227 | app_fit: metrics_distributed {'mse': [(1, 0.5030372142791748), (2, 0.45781099796295166), (3, 0.4208544194698334), (4, 0.4097706973552704), (5, 0.40698736906051636), (6, 0.4049583375453949), (7, 0.39789503812789917), (8, 0.3973940312862396), (9, 0.39762744307518005), (10, 0.39414501190185547), (11, 0.4028732478618622), (12, 0.40152648091316223), (13, 0.40107962489128113), (14, 0.3919302225112915), (15, 0.3919762969017029), (16, 0.3943071961402893), (17, 0.3987812399864197), (18, 0.3917177617549896), (19, 0.4014297425746918), (20, 0.3990528881549835), (21, 0.3930090069770813), (22, 0.39573177695274353), (23, 0.3882844150066376), (24, 0.39734455943107605), (25, 0.39781123399734497)]}\n",
      "INFO flwr 2023-08-31 20:29:01,157 | app.py:228 | app_fit: losses_centralized []\n",
      "INFO flwr 2023-08-31 20:29:01,157 | app.py:229 | app_fit: metrics_centralized {}\n"
     ]
    },
    {
     "name": "stdout",
     "output_type": "stream",
     "text": [
      "agrregate_evaluate results list length is  2\n",
      "server round is  25\n",
      "loss is  0.19890561699867249\n",
      "History (loss, distributed):\n",
      "\tround 1: 0.2515186071395874\n",
      "\tround 2: 0.22890549898147583\n",
      "\tround 3: 0.2104272097349167\n",
      "\tround 4: 0.2048853486776352\n",
      "\tround 5: 0.20349368453025818\n",
      "\tround 6: 0.20247916877269745\n",
      "\tround 7: 0.19894751906394958\n",
      "\tround 8: 0.1986970156431198\n",
      "\tround 9: 0.19881372153759003\n",
      "\tround 10: 0.19707250595092773\n",
      "\tround 11: 0.2014366239309311\n",
      "\tround 12: 0.20076324045658112\n",
      "\tround 13: 0.20053981244564056\n",
      "\tround 14: 0.19596511125564575\n",
      "\tround 15: 0.19598814845085144\n",
      "\tround 16: 0.19715359807014465\n",
      "\tround 17: 0.19939061999320984\n",
      "\tround 18: 0.1958588808774948\n",
      "\tround 19: 0.2007148712873459\n",
      "\tround 20: 0.19952644407749176\n",
      "\tround 21: 0.19650450348854065\n",
      "\tround 22: 0.19786588847637177\n",
      "\tround 23: 0.1941422075033188\n",
      "\tround 24: 0.19867227971553802\n",
      "\tround 25: 0.19890561699867249\n",
      "History (metrics, distributed, evaluate):\n",
      "{'mse': [(1, 0.5030372142791748), (2, 0.45781099796295166), (3, 0.4208544194698334), (4, 0.4097706973552704), (5, 0.40698736906051636), (6, 0.4049583375453949), (7, 0.39789503812789917), (8, 0.3973940312862396), (9, 0.39762744307518005), (10, 0.39414501190185547), (11, 0.4028732478618622), (12, 0.40152648091316223), (13, 0.40107962489128113), (14, 0.3919302225112915), (15, 0.3919762969017029), (16, 0.3943071961402893), (17, 0.3987812399864197), (18, 0.3917177617549896), (19, 0.4014297425746918), (20, 0.3990528881549835), (21, 0.3930090069770813), (22, 0.39573177695274353), (23, 0.3882844150066376), (24, 0.39734455943107605), (25, 0.39781123399734497)]}\n",
      "[(1, 0.2515186071395874), (2, 0.22890549898147583), (3, 0.2104272097349167), (4, 0.2048853486776352), (5, 0.20349368453025818), (6, 0.20247916877269745), (7, 0.19894751906394958), (8, 0.1986970156431198), (9, 0.19881372153759003), (10, 0.19707250595092773), (11, 0.2014366239309311), (12, 0.20076324045658112), (13, 0.20053981244564056), (14, 0.19596511125564575), (15, 0.19598814845085144), (16, 0.19715359807014465), (17, 0.19939061999320984), (18, 0.1958588808774948), (19, 0.2007148712873459), (20, 0.19952644407749176), (21, 0.19650450348854065), (22, 0.19786588847637177), (23, 0.1941422075033188), (24, 0.19867227971553802), (25, 0.19890561699867249)]\n",
      "Fold 2:\n",
      "splitting [0.2, 0.2, 0.2, 0.2, 0.2]\n",
      "time 0:08:12.831169\n",
      "mse [0.19890562]\n",
      "auc [0.7552079420280996]\n"
     ]
    }
   ],
   "source": [
    "splitting = [0.2, 0.2, 0.2, 0.2, 0.2]\n",
    "do_fl(splitting)"
   ],
   "metadata": {
    "collapsed": false,
    "ExecuteTime": {
     "end_time": "2023-08-31T19:29:01.356579700Z",
     "start_time": "2023-08-31T19:20:48.483523Z"
    }
   }
  },
  {
   "cell_type": "code",
   "execution_count": 16,
   "outputs": [
    {
     "name": "stdout",
     "output_type": "stream",
     "text": [
      "Fold 1:\n",
      "x_test: cpu\n",
      "y_test: cpu\n",
      "Client 0 trainset shape torch.Size([271450, 120])\n",
      "Client 1 trainset shape torch.Size([45114, 120])\n",
      "Client 2 trainset shape torch.Size([45226, 120])\n",
      "Client 3 trainset shape torch.Size([45260, 120])\n",
      "Client 4 trainset shape torch.Size([45246, 120])\n",
      "FL started training on cpu\n",
      "Number of available GPUs: 0\n"
     ]
    },
    {
     "name": "stderr",
     "output_type": "stream",
     "text": [
      "INFO flwr 2023-08-31 20:29:02,246 | app.py:145 | Starting Flower simulation, config: ServerConfig(num_rounds=25, round_timeout=None)\n",
      "2023-08-31 20:29:11,319\tINFO worker.py:1627 -- Started a local Ray instance. View the dashboard at \u001B[1m\u001B[32m127.0.0.1:8268 \u001B[39m\u001B[22m\n",
      "INFO flwr 2023-08-31 20:29:16,977 | app.py:179 | Flower VCE: Ray initialized with resources: {'memory': 2302284596.0, 'object_store_memory': 1151142297.0, 'node:127.0.0.1': 1.0, 'CPU': 8.0, 'GPU': 1.0}\n",
      "INFO flwr 2023-08-31 20:29:16,979 | server.py:89 | Initializing global parameters\n",
      "INFO flwr 2023-08-31 20:29:16,981 | server.py:276 | Requesting initial parameters from one random client\n",
      "INFO flwr 2023-08-31 20:29:21,108 | server.py:280 | Received initial parameters from one random client\n",
      "INFO flwr 2023-08-31 20:29:21,109 | server.py:91 | Evaluating initial parameters\n",
      "INFO flwr 2023-08-31 20:29:21,109 | server.py:104 | FL starting\n",
      "DEBUG flwr 2023-08-31 20:29:21,110 | server.py:222 | fit_round 1: strategy sampled 2 clients (out of 5)\n",
      "DEBUG flwr 2023-08-31 20:30:00,788 | server.py:236 | fit_round 1 received 2 results and 0 failures\n",
      "WARNING flwr 2023-08-31 20:30:00,794 | fedavg.py:242 | No fit_metrics_aggregation_fn provided\n",
      "DEBUG flwr 2023-08-31 20:30:00,801 | server.py:173 | evaluate_round 1: strategy sampled 2 clients (out of 5)\n"
     ]
    },
    {
     "name": "stdout",
     "output_type": "stream",
     "text": [
      "agrregate_fit results list length is  2\n",
      "Saving round 1 aggregated_parameters...\n"
     ]
    },
    {
     "name": "stderr",
     "output_type": "stream",
     "text": [
      "DEBUG flwr 2023-08-31 20:30:02,737 | server.py:187 | evaluate_round 1 received 2 results and 0 failures\n",
      "DEBUG flwr 2023-08-31 20:30:02,738 | server.py:222 | fit_round 2: strategy sampled 2 clients (out of 5)\n"
     ]
    },
    {
     "name": "stdout",
     "output_type": "stream",
     "text": [
      "agrregate_evaluate results list length is  2\n",
      "server round is  1\n",
      "loss is  0.20976552367210388\n"
     ]
    },
    {
     "name": "stderr",
     "output_type": "stream",
     "text": [
      "DEBUG flwr 2023-08-31 20:30:41,771 | server.py:236 | fit_round 2 received 2 results and 0 failures\n",
      "DEBUG flwr 2023-08-31 20:30:41,785 | server.py:173 | evaluate_round 2: strategy sampled 2 clients (out of 5)\n"
     ]
    },
    {
     "name": "stdout",
     "output_type": "stream",
     "text": [
      "agrregate_fit results list length is  2\n",
      "Saving round 2 aggregated_parameters...\n"
     ]
    },
    {
     "name": "stderr",
     "output_type": "stream",
     "text": [
      "DEBUG flwr 2023-08-31 20:30:43,595 | server.py:187 | evaluate_round 2 received 2 results and 0 failures\n",
      "DEBUG flwr 2023-08-31 20:30:43,597 | server.py:222 | fit_round 3: strategy sampled 2 clients (out of 5)\n"
     ]
    },
    {
     "name": "stdout",
     "output_type": "stream",
     "text": [
      "agrregate_evaluate results list length is  2\n",
      "server round is  2\n",
      "loss is  0.20281700789928436\n"
     ]
    },
    {
     "name": "stderr",
     "output_type": "stream",
     "text": [
      "DEBUG flwr 2023-08-31 20:31:21,547 | server.py:236 | fit_round 3 received 2 results and 0 failures\n",
      "DEBUG flwr 2023-08-31 20:31:21,559 | server.py:173 | evaluate_round 3: strategy sampled 2 clients (out of 5)\n"
     ]
    },
    {
     "name": "stdout",
     "output_type": "stream",
     "text": [
      "agrregate_fit results list length is  2\n",
      "Saving round 3 aggregated_parameters...\n"
     ]
    },
    {
     "name": "stderr",
     "output_type": "stream",
     "text": [
      "DEBUG flwr 2023-08-31 20:31:23,373 | server.py:187 | evaluate_round 3 received 2 results and 0 failures\n",
      "DEBUG flwr 2023-08-31 20:31:23,374 | server.py:222 | fit_round 4: strategy sampled 2 clients (out of 5)\n"
     ]
    },
    {
     "name": "stdout",
     "output_type": "stream",
     "text": [
      "agrregate_evaluate results list length is  2\n",
      "server round is  3\n",
      "loss is  0.20005740225315094\n"
     ]
    },
    {
     "name": "stderr",
     "output_type": "stream",
     "text": [
      "DEBUG flwr 2023-08-31 20:32:00,973 | server.py:236 | fit_round 4 received 2 results and 0 failures\n",
      "DEBUG flwr 2023-08-31 20:32:00,986 | server.py:173 | evaluate_round 4: strategy sampled 2 clients (out of 5)\n"
     ]
    },
    {
     "name": "stdout",
     "output_type": "stream",
     "text": [
      "agrregate_fit results list length is  2\n",
      "Saving round 4 aggregated_parameters...\n"
     ]
    },
    {
     "name": "stderr",
     "output_type": "stream",
     "text": [
      "DEBUG flwr 2023-08-31 20:32:02,765 | server.py:187 | evaluate_round 4 received 2 results and 0 failures\n",
      "DEBUG flwr 2023-08-31 20:32:02,766 | server.py:222 | fit_round 5: strategy sampled 2 clients (out of 5)\n"
     ]
    },
    {
     "name": "stdout",
     "output_type": "stream",
     "text": [
      "agrregate_evaluate results list length is  2\n",
      "server round is  4\n",
      "loss is  0.19868142902851105\n"
     ]
    },
    {
     "name": "stderr",
     "output_type": "stream",
     "text": [
      "DEBUG flwr 2023-08-31 20:32:41,148 | server.py:236 | fit_round 5 received 2 results and 0 failures\n",
      "DEBUG flwr 2023-08-31 20:32:41,159 | server.py:173 | evaluate_round 5: strategy sampled 2 clients (out of 5)\n"
     ]
    },
    {
     "name": "stdout",
     "output_type": "stream",
     "text": [
      "agrregate_fit results list length is  2\n",
      "Saving round 5 aggregated_parameters...\n"
     ]
    },
    {
     "name": "stderr",
     "output_type": "stream",
     "text": [
      "DEBUG flwr 2023-08-31 20:32:42,880 | server.py:187 | evaluate_round 5 received 2 results and 0 failures\n",
      "DEBUG flwr 2023-08-31 20:32:42,880 | server.py:222 | fit_round 6: strategy sampled 2 clients (out of 5)\n"
     ]
    },
    {
     "name": "stdout",
     "output_type": "stream",
     "text": [
      "agrregate_evaluate results list length is  2\n",
      "server round is  5\n",
      "loss is  0.1992044299840927\n"
     ]
    },
    {
     "name": "stderr",
     "output_type": "stream",
     "text": [
      "DEBUG flwr 2023-08-31 20:32:51,669 | server.py:236 | fit_round 6 received 2 results and 0 failures\n",
      "DEBUG flwr 2023-08-31 20:32:51,680 | server.py:173 | evaluate_round 6: strategy sampled 2 clients (out of 5)\n"
     ]
    },
    {
     "name": "stdout",
     "output_type": "stream",
     "text": [
      "agrregate_fit results list length is  2\n",
      "Saving round 6 aggregated_parameters...\n"
     ]
    },
    {
     "name": "stderr",
     "output_type": "stream",
     "text": [
      "DEBUG flwr 2023-08-31 20:32:53,517 | server.py:187 | evaluate_round 6 received 2 results and 0 failures\n",
      "DEBUG flwr 2023-08-31 20:32:53,519 | server.py:222 | fit_round 7: strategy sampled 2 clients (out of 5)\n"
     ]
    },
    {
     "name": "stdout",
     "output_type": "stream",
     "text": [
      "agrregate_evaluate results list length is  2\n",
      "server round is  6\n",
      "loss is  0.20088426768779755\n"
     ]
    },
    {
     "name": "stderr",
     "output_type": "stream",
     "text": [
      "DEBUG flwr 2023-08-31 20:33:02,437 | server.py:236 | fit_round 7 received 2 results and 0 failures\n",
      "DEBUG flwr 2023-08-31 20:33:02,449 | server.py:173 | evaluate_round 7: strategy sampled 2 clients (out of 5)\n"
     ]
    },
    {
     "name": "stdout",
     "output_type": "stream",
     "text": [
      "agrregate_fit results list length is  2\n",
      "Saving round 7 aggregated_parameters...\n"
     ]
    },
    {
     "name": "stderr",
     "output_type": "stream",
     "text": [
      "DEBUG flwr 2023-08-31 20:33:04,307 | server.py:187 | evaluate_round 7 received 2 results and 0 failures\n",
      "DEBUG flwr 2023-08-31 20:33:04,308 | server.py:222 | fit_round 8: strategy sampled 2 clients (out of 5)\n"
     ]
    },
    {
     "name": "stdout",
     "output_type": "stream",
     "text": [
      "agrregate_evaluate results list length is  2\n",
      "server round is  7\n",
      "loss is  0.2005656361579895\n"
     ]
    },
    {
     "name": "stderr",
     "output_type": "stream",
     "text": [
      "DEBUG flwr 2023-08-31 20:33:19,059 | server.py:236 | fit_round 8 received 2 results and 0 failures\n",
      "DEBUG flwr 2023-08-31 20:33:19,071 | server.py:173 | evaluate_round 8: strategy sampled 2 clients (out of 5)\n"
     ]
    },
    {
     "name": "stdout",
     "output_type": "stream",
     "text": [
      "agrregate_fit results list length is  2\n",
      "Saving round 8 aggregated_parameters...\n"
     ]
    },
    {
     "name": "stderr",
     "output_type": "stream",
     "text": [
      "DEBUG flwr 2023-08-31 20:33:21,756 | server.py:187 | evaluate_round 8 received 2 results and 0 failures\n",
      "DEBUG flwr 2023-08-31 20:33:21,757 | server.py:222 | fit_round 9: strategy sampled 2 clients (out of 5)\n"
     ]
    },
    {
     "name": "stdout",
     "output_type": "stream",
     "text": [
      "agrregate_evaluate results list length is  2\n",
      "server round is  8\n",
      "loss is  0.20206958055496216\n"
     ]
    },
    {
     "name": "stderr",
     "output_type": "stream",
     "text": [
      "DEBUG flwr 2023-08-31 20:33:30,243 | server.py:236 | fit_round 9 received 2 results and 0 failures\n",
      "DEBUG flwr 2023-08-31 20:33:30,254 | server.py:173 | evaluate_round 9: strategy sampled 2 clients (out of 5)\n"
     ]
    },
    {
     "name": "stdout",
     "output_type": "stream",
     "text": [
      "agrregate_fit results list length is  2\n",
      "Saving round 9 aggregated_parameters...\n"
     ]
    },
    {
     "name": "stderr",
     "output_type": "stream",
     "text": [
      "DEBUG flwr 2023-08-31 20:33:32,077 | server.py:187 | evaluate_round 9 received 2 results and 0 failures\n",
      "DEBUG flwr 2023-08-31 20:33:32,079 | server.py:222 | fit_round 10: strategy sampled 2 clients (out of 5)\n"
     ]
    },
    {
     "name": "stdout",
     "output_type": "stream",
     "text": [
      "agrregate_evaluate results list length is  2\n",
      "server round is  9\n",
      "loss is  0.2004166543483734\n"
     ]
    },
    {
     "name": "stderr",
     "output_type": "stream",
     "text": [
      "DEBUG flwr 2023-08-31 20:34:19,859 | server.py:236 | fit_round 10 received 2 results and 0 failures\n",
      "DEBUG flwr 2023-08-31 20:34:19,871 | server.py:173 | evaluate_round 10: strategy sampled 2 clients (out of 5)\n"
     ]
    },
    {
     "name": "stdout",
     "output_type": "stream",
     "text": [
      "agrregate_fit results list length is  2\n",
      "Saving round 10 aggregated_parameters...\n"
     ]
    },
    {
     "name": "stderr",
     "output_type": "stream",
     "text": [
      "DEBUG flwr 2023-08-31 20:34:23,073 | server.py:187 | evaluate_round 10 received 2 results and 0 failures\n",
      "DEBUG flwr 2023-08-31 20:34:23,076 | server.py:222 | fit_round 11: strategy sampled 2 clients (out of 5)\n"
     ]
    },
    {
     "name": "stdout",
     "output_type": "stream",
     "text": [
      "agrregate_evaluate results list length is  2\n",
      "server round is  10\n",
      "loss is  0.1989145278930664\n"
     ]
    },
    {
     "name": "stderr",
     "output_type": "stream",
     "text": [
      "DEBUG flwr 2023-08-31 20:34:34,101 | server.py:236 | fit_round 11 received 2 results and 0 failures\n",
      "DEBUG flwr 2023-08-31 20:34:34,120 | server.py:173 | evaluate_round 11: strategy sampled 2 clients (out of 5)\n"
     ]
    },
    {
     "name": "stdout",
     "output_type": "stream",
     "text": [
      "agrregate_fit results list length is  2\n",
      "Saving round 11 aggregated_parameters...\n"
     ]
    },
    {
     "name": "stderr",
     "output_type": "stream",
     "text": [
      "DEBUG flwr 2023-08-31 20:34:36,148 | server.py:187 | evaluate_round 11 received 2 results and 0 failures\n",
      "DEBUG flwr 2023-08-31 20:34:36,150 | server.py:222 | fit_round 12: strategy sampled 2 clients (out of 5)\n"
     ]
    },
    {
     "name": "stdout",
     "output_type": "stream",
     "text": [
      "agrregate_evaluate results list length is  2\n",
      "server round is  11\n",
      "loss is  0.20119903981685638\n"
     ]
    },
    {
     "name": "stderr",
     "output_type": "stream",
     "text": [
      "DEBUG flwr 2023-08-31 20:35:29,711 | server.py:236 | fit_round 12 received 2 results and 0 failures\n",
      "DEBUG flwr 2023-08-31 20:35:29,723 | server.py:173 | evaluate_round 12: strategy sampled 2 clients (out of 5)\n"
     ]
    },
    {
     "name": "stdout",
     "output_type": "stream",
     "text": [
      "agrregate_fit results list length is  2\n",
      "Saving round 12 aggregated_parameters...\n"
     ]
    },
    {
     "name": "stderr",
     "output_type": "stream",
     "text": [
      "DEBUG flwr 2023-08-31 20:35:31,446 | server.py:187 | evaluate_round 12 received 2 results and 0 failures\n",
      "DEBUG flwr 2023-08-31 20:35:31,448 | server.py:222 | fit_round 13: strategy sampled 2 clients (out of 5)\n"
     ]
    },
    {
     "name": "stdout",
     "output_type": "stream",
     "text": [
      "agrregate_evaluate results list length is  2\n",
      "server round is  12\n",
      "loss is  0.1968914121389389\n"
     ]
    },
    {
     "name": "stderr",
     "output_type": "stream",
     "text": [
      "DEBUG flwr 2023-08-31 20:35:39,181 | server.py:236 | fit_round 13 received 2 results and 0 failures\n",
      "DEBUG flwr 2023-08-31 20:35:39,196 | server.py:173 | evaluate_round 13: strategy sampled 2 clients (out of 5)\n"
     ]
    },
    {
     "name": "stdout",
     "output_type": "stream",
     "text": [
      "agrregate_fit results list length is  2\n",
      "Saving round 13 aggregated_parameters...\n"
     ]
    },
    {
     "name": "stderr",
     "output_type": "stream",
     "text": [
      "DEBUG flwr 2023-08-31 20:35:40,926 | server.py:187 | evaluate_round 13 received 2 results and 0 failures\n",
      "DEBUG flwr 2023-08-31 20:35:40,928 | server.py:222 | fit_round 14: strategy sampled 2 clients (out of 5)\n"
     ]
    },
    {
     "name": "stdout",
     "output_type": "stream",
     "text": [
      "agrregate_evaluate results list length is  2\n",
      "server round is  13\n",
      "loss is  0.2001321017742157\n"
     ]
    },
    {
     "name": "stderr",
     "output_type": "stream",
     "text": [
      "DEBUG flwr 2023-08-31 20:35:48,966 | server.py:236 | fit_round 14 received 2 results and 0 failures\n",
      "DEBUG flwr 2023-08-31 20:35:48,991 | server.py:173 | evaluate_round 14: strategy sampled 2 clients (out of 5)\n"
     ]
    },
    {
     "name": "stdout",
     "output_type": "stream",
     "text": [
      "agrregate_fit results list length is  2\n",
      "Saving round 14 aggregated_parameters...\n"
     ]
    },
    {
     "name": "stderr",
     "output_type": "stream",
     "text": [
      "DEBUG flwr 2023-08-31 20:35:50,766 | server.py:187 | evaluate_round 14 received 2 results and 0 failures\n",
      "DEBUG flwr 2023-08-31 20:35:50,777 | server.py:222 | fit_round 15: strategy sampled 2 clients (out of 5)\n"
     ]
    },
    {
     "name": "stdout",
     "output_type": "stream",
     "text": [
      "agrregate_evaluate results list length is  2\n",
      "server round is  14\n",
      "loss is  0.19921350479125977\n"
     ]
    },
    {
     "name": "stderr",
     "output_type": "stream",
     "text": [
      "DEBUG flwr 2023-08-31 20:36:24,520 | server.py:236 | fit_round 15 received 2 results and 0 failures\n",
      "DEBUG flwr 2023-08-31 20:36:24,542 | server.py:173 | evaluate_round 15: strategy sampled 2 clients (out of 5)\n"
     ]
    },
    {
     "name": "stdout",
     "output_type": "stream",
     "text": [
      "agrregate_fit results list length is  2\n",
      "Saving round 15 aggregated_parameters...\n"
     ]
    },
    {
     "name": "stderr",
     "output_type": "stream",
     "text": [
      "DEBUG flwr 2023-08-31 20:36:26,258 | server.py:187 | evaluate_round 15 received 2 results and 0 failures\n",
      "DEBUG flwr 2023-08-31 20:36:26,259 | server.py:222 | fit_round 16: strategy sampled 2 clients (out of 5)\n"
     ]
    },
    {
     "name": "stdout",
     "output_type": "stream",
     "text": [
      "agrregate_evaluate results list length is  2\n",
      "server round is  15\n",
      "loss is  0.1945384442806244\n"
     ]
    },
    {
     "name": "stderr",
     "output_type": "stream",
     "text": [
      "DEBUG flwr 2023-08-31 20:37:00,189 | server.py:236 | fit_round 16 received 2 results and 0 failures\n",
      "DEBUG flwr 2023-08-31 20:37:00,204 | server.py:173 | evaluate_round 16: strategy sampled 2 clients (out of 5)\n"
     ]
    },
    {
     "name": "stdout",
     "output_type": "stream",
     "text": [
      "agrregate_fit results list length is  2\n",
      "Saving round 16 aggregated_parameters...\n"
     ]
    },
    {
     "name": "stderr",
     "output_type": "stream",
     "text": [
      "DEBUG flwr 2023-08-31 20:37:01,988 | server.py:187 | evaluate_round 16 received 2 results and 0 failures\n",
      "DEBUG flwr 2023-08-31 20:37:01,990 | server.py:222 | fit_round 17: strategy sampled 2 clients (out of 5)\n"
     ]
    },
    {
     "name": "stdout",
     "output_type": "stream",
     "text": [
      "agrregate_evaluate results list length is  2\n",
      "server round is  16\n",
      "loss is  0.19557063281536102\n"
     ]
    },
    {
     "name": "stderr",
     "output_type": "stream",
     "text": [
      "DEBUG flwr 2023-08-31 20:37:09,924 | server.py:236 | fit_round 17 received 2 results and 0 failures\n",
      "DEBUG flwr 2023-08-31 20:37:09,944 | server.py:173 | evaluate_round 17: strategy sampled 2 clients (out of 5)\n"
     ]
    },
    {
     "name": "stdout",
     "output_type": "stream",
     "text": [
      "agrregate_fit results list length is  2\n",
      "Saving round 17 aggregated_parameters...\n"
     ]
    },
    {
     "name": "stderr",
     "output_type": "stream",
     "text": [
      "DEBUG flwr 2023-08-31 20:37:11,574 | server.py:187 | evaluate_round 17 received 2 results and 0 failures\n",
      "DEBUG flwr 2023-08-31 20:37:11,575 | server.py:222 | fit_round 18: strategy sampled 2 clients (out of 5)\n"
     ]
    },
    {
     "name": "stdout",
     "output_type": "stream",
     "text": [
      "agrregate_evaluate results list length is  2\n",
      "server round is  17\n",
      "loss is  0.19895200431346893\n"
     ]
    },
    {
     "name": "stderr",
     "output_type": "stream",
     "text": [
      "DEBUG flwr 2023-08-31 20:37:19,297 | server.py:236 | fit_round 18 received 2 results and 0 failures\n",
      "DEBUG flwr 2023-08-31 20:37:19,319 | server.py:173 | evaluate_round 18: strategy sampled 2 clients (out of 5)\n"
     ]
    },
    {
     "name": "stdout",
     "output_type": "stream",
     "text": [
      "agrregate_fit results list length is  2\n",
      "Saving round 18 aggregated_parameters...\n"
     ]
    },
    {
     "name": "stderr",
     "output_type": "stream",
     "text": [
      "DEBUG flwr 2023-08-31 20:37:21,006 | server.py:187 | evaluate_round 18 received 2 results and 0 failures\n",
      "DEBUG flwr 2023-08-31 20:37:21,008 | server.py:222 | fit_round 19: strategy sampled 2 clients (out of 5)\n"
     ]
    },
    {
     "name": "stdout",
     "output_type": "stream",
     "text": [
      "agrregate_evaluate results list length is  2\n",
      "server round is  18\n",
      "loss is  0.19821661710739136\n"
     ]
    },
    {
     "name": "stderr",
     "output_type": "stream",
     "text": [
      "DEBUG flwr 2023-08-31 20:37:59,954 | server.py:236 | fit_round 19 received 2 results and 0 failures\n",
      "DEBUG flwr 2023-08-31 20:37:59,969 | server.py:173 | evaluate_round 19: strategy sampled 2 clients (out of 5)\n"
     ]
    },
    {
     "name": "stdout",
     "output_type": "stream",
     "text": [
      "agrregate_fit results list length is  2\n",
      "Saving round 19 aggregated_parameters...\n"
     ]
    },
    {
     "name": "stderr",
     "output_type": "stream",
     "text": [
      "DEBUG flwr 2023-08-31 20:38:02,326 | server.py:187 | evaluate_round 19 received 2 results and 0 failures\n",
      "DEBUG flwr 2023-08-31 20:38:02,328 | server.py:222 | fit_round 20: strategy sampled 2 clients (out of 5)\n"
     ]
    },
    {
     "name": "stdout",
     "output_type": "stream",
     "text": [
      "agrregate_evaluate results list length is  2\n",
      "server round is  19\n",
      "loss is  0.19526979327201843\n"
     ]
    },
    {
     "name": "stderr",
     "output_type": "stream",
     "text": [
      "DEBUG flwr 2023-08-31 20:38:12,461 | server.py:236 | fit_round 20 received 2 results and 0 failures\n",
      "DEBUG flwr 2023-08-31 20:38:12,480 | server.py:173 | evaluate_round 20: strategy sampled 2 clients (out of 5)\n"
     ]
    },
    {
     "name": "stdout",
     "output_type": "stream",
     "text": [
      "agrregate_fit results list length is  2\n",
      "Saving round 20 aggregated_parameters...\n"
     ]
    },
    {
     "name": "stderr",
     "output_type": "stream",
     "text": [
      "DEBUG flwr 2023-08-31 20:38:15,499 | server.py:187 | evaluate_round 20 received 2 results and 0 failures\n",
      "DEBUG flwr 2023-08-31 20:38:15,501 | server.py:222 | fit_round 21: strategy sampled 2 clients (out of 5)\n"
     ]
    },
    {
     "name": "stdout",
     "output_type": "stream",
     "text": [
      "agrregate_evaluate results list length is  2\n",
      "server round is  20\n",
      "loss is  0.19850149750709534\n"
     ]
    },
    {
     "name": "stderr",
     "output_type": "stream",
     "text": [
      "DEBUG flwr 2023-08-31 20:38:26,229 | server.py:236 | fit_round 21 received 2 results and 0 failures\n",
      "DEBUG flwr 2023-08-31 20:38:26,244 | server.py:173 | evaluate_round 21: strategy sampled 2 clients (out of 5)\n"
     ]
    },
    {
     "name": "stdout",
     "output_type": "stream",
     "text": [
      "agrregate_fit results list length is  2\n",
      "Saving round 21 aggregated_parameters...\n"
     ]
    },
    {
     "name": "stderr",
     "output_type": "stream",
     "text": [
      "DEBUG flwr 2023-08-31 20:38:28,104 | server.py:187 | evaluate_round 21 received 2 results and 0 failures\n",
      "DEBUG flwr 2023-08-31 20:38:28,107 | server.py:222 | fit_round 22: strategy sampled 2 clients (out of 5)\n"
     ]
    },
    {
     "name": "stdout",
     "output_type": "stream",
     "text": [
      "agrregate_evaluate results list length is  2\n",
      "server round is  21\n",
      "loss is  0.1992805153131485\n"
     ]
    },
    {
     "name": "stderr",
     "output_type": "stream",
     "text": [
      "DEBUG flwr 2023-08-31 20:39:20,452 | server.py:236 | fit_round 22 received 2 results and 0 failures\n",
      "DEBUG flwr 2023-08-31 20:39:20,468 | server.py:173 | evaluate_round 22: strategy sampled 2 clients (out of 5)\n"
     ]
    },
    {
     "name": "stdout",
     "output_type": "stream",
     "text": [
      "agrregate_fit results list length is  2\n",
      "Saving round 22 aggregated_parameters...\n"
     ]
    },
    {
     "name": "stderr",
     "output_type": "stream",
     "text": [
      "DEBUG flwr 2023-08-31 20:39:22,310 | server.py:187 | evaluate_round 22 received 2 results and 0 failures\n",
      "DEBUG flwr 2023-08-31 20:39:22,311 | server.py:222 | fit_round 23: strategy sampled 2 clients (out of 5)\n"
     ]
    },
    {
     "name": "stdout",
     "output_type": "stream",
     "text": [
      "agrregate_evaluate results list length is  2\n",
      "server round is  22\n",
      "loss is  0.19497613608837128\n"
     ]
    },
    {
     "name": "stderr",
     "output_type": "stream",
     "text": [
      "DEBUG flwr 2023-08-31 20:39:58,668 | server.py:236 | fit_round 23 received 2 results and 0 failures\n",
      "DEBUG flwr 2023-08-31 20:39:58,692 | server.py:173 | evaluate_round 23: strategy sampled 2 clients (out of 5)\n"
     ]
    },
    {
     "name": "stdout",
     "output_type": "stream",
     "text": [
      "agrregate_fit results list length is  2\n",
      "Saving round 23 aggregated_parameters...\n"
     ]
    },
    {
     "name": "stderr",
     "output_type": "stream",
     "text": [
      "DEBUG flwr 2023-08-31 20:40:00,484 | server.py:187 | evaluate_round 23 received 2 results and 0 failures\n",
      "DEBUG flwr 2023-08-31 20:40:00,485 | server.py:222 | fit_round 24: strategy sampled 2 clients (out of 5)\n"
     ]
    },
    {
     "name": "stdout",
     "output_type": "stream",
     "text": [
      "agrregate_evaluate results list length is  2\n",
      "server round is  23\n",
      "loss is  0.19635678827762604\n"
     ]
    },
    {
     "name": "stderr",
     "output_type": "stream",
     "text": [
      "DEBUG flwr 2023-08-31 20:40:35,492 | server.py:236 | fit_round 24 received 2 results and 0 failures\n",
      "DEBUG flwr 2023-08-31 20:40:35,508 | server.py:173 | evaluate_round 24: strategy sampled 2 clients (out of 5)\n"
     ]
    },
    {
     "name": "stdout",
     "output_type": "stream",
     "text": [
      "agrregate_fit results list length is  2\n",
      "Saving round 24 aggregated_parameters...\n"
     ]
    },
    {
     "name": "stderr",
     "output_type": "stream",
     "text": [
      "DEBUG flwr 2023-08-31 20:40:37,286 | server.py:187 | evaluate_round 24 received 2 results and 0 failures\n",
      "DEBUG flwr 2023-08-31 20:40:37,288 | server.py:222 | fit_round 25: strategy sampled 2 clients (out of 5)\n"
     ]
    },
    {
     "name": "stdout",
     "output_type": "stream",
     "text": [
      "agrregate_evaluate results list length is  2\n",
      "server round is  24\n",
      "loss is  0.19526755809783936\n"
     ]
    },
    {
     "name": "stderr",
     "output_type": "stream",
     "text": [
      "DEBUG flwr 2023-08-31 20:41:11,859 | server.py:236 | fit_round 25 received 2 results and 0 failures\n",
      "DEBUG flwr 2023-08-31 20:41:11,879 | server.py:173 | evaluate_round 25: strategy sampled 2 clients (out of 5)\n"
     ]
    },
    {
     "name": "stdout",
     "output_type": "stream",
     "text": [
      "agrregate_fit results list length is  2\n",
      "Saving round 25 aggregated_parameters...\n"
     ]
    },
    {
     "name": "stderr",
     "output_type": "stream",
     "text": [
      "DEBUG flwr 2023-08-31 20:41:13,651 | server.py:187 | evaluate_round 25 received 2 results and 0 failures\n",
      "INFO flwr 2023-08-31 20:41:13,652 | server.py:153 | FL finished in 712.541729300021\n",
      "INFO flwr 2023-08-31 20:41:13,662 | app.py:225 | app_fit: losses_distributed [(1, 0.20976552367210388), (2, 0.20281700789928436), (3, 0.20005740225315094), (4, 0.19868142902851105), (5, 0.1992044299840927), (6, 0.20088426768779755), (7, 0.2005656361579895), (8, 0.20206958055496216), (9, 0.2004166543483734), (10, 0.1989145278930664), (11, 0.20119903981685638), (12, 0.1968914121389389), (13, 0.2001321017742157), (14, 0.19921350479125977), (15, 0.1945384442806244), (16, 0.19557063281536102), (17, 0.19895200431346893), (18, 0.19821661710739136), (19, 0.19526979327201843), (20, 0.19850149750709534), (21, 0.1992805153131485), (22, 0.19497613608837128), (23, 0.19635678827762604), (24, 0.19526755809783936), (25, 0.19338931143283844)]\n",
      "INFO flwr 2023-08-31 20:41:13,663 | app.py:226 | app_fit: metrics_distributed_fit {}\n",
      "INFO flwr 2023-08-31 20:41:13,664 | app.py:227 | app_fit: metrics_distributed {'mse': [(1, 0.41953104734420776), (2, 0.4056340157985687), (3, 0.4001148045063019), (4, 0.3973628580570221), (5, 0.3984088599681854), (6, 0.4017685353755951), (7, 0.401131272315979), (8, 0.4041391611099243), (9, 0.4008333086967468), (10, 0.3978290557861328), (11, 0.40239807963371277), (12, 0.3937828242778778), (13, 0.4002642035484314), (14, 0.39842700958251953), (15, 0.3890768885612488), (16, 0.39114126563072205), (17, 0.39790400862693787), (18, 0.3964332342147827), (19, 0.39053958654403687), (20, 0.3970029950141907), (21, 0.398561030626297), (22, 0.38995227217674255), (23, 0.3927135765552521), (24, 0.3905351161956787), (25, 0.3867786228656769)]}\n",
      "INFO flwr 2023-08-31 20:41:13,665 | app.py:228 | app_fit: losses_centralized []\n",
      "INFO flwr 2023-08-31 20:41:13,665 | app.py:229 | app_fit: metrics_centralized {}\n"
     ]
    },
    {
     "name": "stdout",
     "output_type": "stream",
     "text": [
      "agrregate_evaluate results list length is  2\n",
      "server round is  25\n",
      "loss is  0.19338931143283844\n",
      "History (loss, distributed):\n",
      "\tround 1: 0.20976552367210388\n",
      "\tround 2: 0.20281700789928436\n",
      "\tround 3: 0.20005740225315094\n",
      "\tround 4: 0.19868142902851105\n",
      "\tround 5: 0.1992044299840927\n",
      "\tround 6: 0.20088426768779755\n",
      "\tround 7: 0.2005656361579895\n",
      "\tround 8: 0.20206958055496216\n",
      "\tround 9: 0.2004166543483734\n",
      "\tround 10: 0.1989145278930664\n",
      "\tround 11: 0.20119903981685638\n",
      "\tround 12: 0.1968914121389389\n",
      "\tround 13: 0.2001321017742157\n",
      "\tround 14: 0.19921350479125977\n",
      "\tround 15: 0.1945384442806244\n",
      "\tround 16: 0.19557063281536102\n",
      "\tround 17: 0.19895200431346893\n",
      "\tround 18: 0.19821661710739136\n",
      "\tround 19: 0.19526979327201843\n",
      "\tround 20: 0.19850149750709534\n",
      "\tround 21: 0.1992805153131485\n",
      "\tround 22: 0.19497613608837128\n",
      "\tround 23: 0.19635678827762604\n",
      "\tround 24: 0.19526755809783936\n",
      "\tround 25: 0.19338931143283844\n",
      "History (metrics, distributed, evaluate):\n",
      "{'mse': [(1, 0.41953104734420776), (2, 0.4056340157985687), (3, 0.4001148045063019), (4, 0.3973628580570221), (5, 0.3984088599681854), (6, 0.4017685353755951), (7, 0.401131272315979), (8, 0.4041391611099243), (9, 0.4008333086967468), (10, 0.3978290557861328), (11, 0.40239807963371277), (12, 0.3937828242778778), (13, 0.4002642035484314), (14, 0.39842700958251953), (15, 0.3890768885612488), (16, 0.39114126563072205), (17, 0.39790400862693787), (18, 0.3964332342147827), (19, 0.39053958654403687), (20, 0.3970029950141907), (21, 0.398561030626297), (22, 0.38995227217674255), (23, 0.3927135765552521), (24, 0.3905351161956787), (25, 0.3867786228656769)]}\n",
      "[(1, 0.20976552367210388), (2, 0.20281700789928436), (3, 0.20005740225315094), (4, 0.19868142902851105), (5, 0.1992044299840927), (6, 0.20088426768779755), (7, 0.2005656361579895), (8, 0.20206958055496216), (9, 0.2004166543483734), (10, 0.1989145278930664), (11, 0.20119903981685638), (12, 0.1968914121389389), (13, 0.2001321017742157), (14, 0.19921350479125977), (15, 0.1945384442806244), (16, 0.19557063281536102), (17, 0.19895200431346893), (18, 0.19821661710739136), (19, 0.19526979327201843), (20, 0.19850149750709534), (21, 0.1992805153131485), (22, 0.19497613608837128), (23, 0.19635678827762604), (24, 0.19526755809783936), (25, 0.19338931143283844)]\n",
      "Fold 2:\n",
      "splitting [0.6, 0.1, 0.1, 0.1, 0.1]\n",
      "time 0:12:12.502133\n",
      "mse [0.19338931]\n",
      "auc [0.7537068581916424]\n"
     ]
    }
   ],
   "source": [
    "splitting = [0.6, 0.1, 0.1, 0.1, 0.1]\n",
    "do_fl(splitting)"
   ],
   "metadata": {
    "collapsed": false,
    "ExecuteTime": {
     "end_time": "2023-08-31T19:41:13.883644900Z",
     "start_time": "2023-08-31T19:29:01.362563300Z"
    }
   }
  },
  {
   "cell_type": "code",
   "execution_count": 17,
   "outputs": [
    {
     "name": "stdout",
     "output_type": "stream",
     "text": [
      "Fold 1:\n",
      "x_test: cpu\n",
      "y_test: cpu\n"
     ]
    },
    {
     "name": "stderr",
     "output_type": "stream",
     "text": [
      "INFO flwr 2023-08-31 20:41:15,373 | app.py:145 | Starting Flower simulation, config: ServerConfig(num_rounds=25, round_timeout=None)\n"
     ]
    },
    {
     "name": "stdout",
     "output_type": "stream",
     "text": [
      "Client 0 trainset shape torch.Size([361840, 120])\n",
      "Client 1 trainset shape torch.Size([18124, 120])\n",
      "Client 2 trainset shape torch.Size([18132, 120])\n",
      "Client 3 trainset shape torch.Size([18090, 120])\n",
      "Client 4 trainset shape torch.Size([18044, 120])\n",
      "FL started training on cpu\n",
      "Number of available GPUs: 0\n"
     ]
    },
    {
     "name": "stderr",
     "output_type": "stream",
     "text": [
      "2023-08-31 20:41:24,542\tINFO worker.py:1627 -- Started a local Ray instance. View the dashboard at \u001B[1m\u001B[32m127.0.0.1:8268 \u001B[39m\u001B[22m\n",
      "INFO flwr 2023-08-31 20:41:29,377 | app.py:179 | Flower VCE: Ray initialized with resources: {'memory': 2187573659.0, 'object_store_memory': 1093786828.0, 'node:127.0.0.1': 1.0, 'CPU': 8.0, 'GPU': 1.0}\n",
      "INFO flwr 2023-08-31 20:41:29,379 | server.py:89 | Initializing global parameters\n",
      "INFO flwr 2023-08-31 20:41:29,379 | server.py:276 | Requesting initial parameters from one random client\n",
      "INFO flwr 2023-08-31 20:41:33,275 | server.py:280 | Received initial parameters from one random client\n",
      "INFO flwr 2023-08-31 20:41:33,276 | server.py:91 | Evaluating initial parameters\n",
      "INFO flwr 2023-08-31 20:41:33,278 | server.py:104 | FL starting\n",
      "DEBUG flwr 2023-08-31 20:41:33,279 | server.py:222 | fit_round 1: strategy sampled 2 clients (out of 5)\n",
      "DEBUG flwr 2023-08-31 20:41:40,038 | server.py:236 | fit_round 1 received 2 results and 0 failures\n",
      "WARNING flwr 2023-08-31 20:41:40,044 | fedavg.py:242 | No fit_metrics_aggregation_fn provided\n",
      "DEBUG flwr 2023-08-31 20:41:40,053 | server.py:173 | evaluate_round 1: strategy sampled 2 clients (out of 5)\n"
     ]
    },
    {
     "name": "stdout",
     "output_type": "stream",
     "text": [
      "agrregate_fit results list length is  2\n",
      "Saving round 1 aggregated_parameters...\n"
     ]
    },
    {
     "name": "stderr",
     "output_type": "stream",
     "text": [
      "DEBUG flwr 2023-08-31 20:41:41,916 | server.py:187 | evaluate_round 1 received 2 results and 0 failures\n",
      "DEBUG flwr 2023-08-31 20:41:41,918 | server.py:222 | fit_round 2: strategy sampled 2 clients (out of 5)\n"
     ]
    },
    {
     "name": "stdout",
     "output_type": "stream",
     "text": [
      "agrregate_evaluate results list length is  2\n",
      "server round is  1\n",
      "loss is  0.26766642928123474\n"
     ]
    },
    {
     "name": "stderr",
     "output_type": "stream",
     "text": [
      "DEBUG flwr 2023-08-31 20:41:46,117 | server.py:236 | fit_round 2 received 2 results and 0 failures\n",
      "DEBUG flwr 2023-08-31 20:41:46,129 | server.py:173 | evaluate_round 2: strategy sampled 2 clients (out of 5)\n"
     ]
    },
    {
     "name": "stdout",
     "output_type": "stream",
     "text": [
      "agrregate_fit results list length is  2\n",
      "Saving round 2 aggregated_parameters...\n"
     ]
    },
    {
     "name": "stderr",
     "output_type": "stream",
     "text": [
      "DEBUG flwr 2023-08-31 20:41:47,625 | server.py:187 | evaluate_round 2 received 2 results and 0 failures\n",
      "DEBUG flwr 2023-08-31 20:41:47,626 | server.py:222 | fit_round 3: strategy sampled 2 clients (out of 5)\n"
     ]
    },
    {
     "name": "stdout",
     "output_type": "stream",
     "text": [
      "agrregate_evaluate results list length is  2\n",
      "server round is  2\n",
      "loss is  0.26124218106269836\n"
     ]
    },
    {
     "name": "stderr",
     "output_type": "stream",
     "text": [
      "DEBUG flwr 2023-08-31 20:41:51,601 | server.py:236 | fit_round 3 received 2 results and 0 failures\n",
      "DEBUG flwr 2023-08-31 20:41:51,613 | server.py:173 | evaluate_round 3: strategy sampled 2 clients (out of 5)\n"
     ]
    },
    {
     "name": "stdout",
     "output_type": "stream",
     "text": [
      "agrregate_fit results list length is  2\n",
      "Saving round 3 aggregated_parameters...\n"
     ]
    },
    {
     "name": "stderr",
     "output_type": "stream",
     "text": [
      "DEBUG flwr 2023-08-31 20:41:53,075 | server.py:187 | evaluate_round 3 received 2 results and 0 failures\n",
      "DEBUG flwr 2023-08-31 20:41:53,076 | server.py:222 | fit_round 4: strategy sampled 2 clients (out of 5)\n"
     ]
    },
    {
     "name": "stdout",
     "output_type": "stream",
     "text": [
      "agrregate_evaluate results list length is  2\n",
      "server round is  3\n",
      "loss is  0.2556231915950775\n"
     ]
    },
    {
     "name": "stderr",
     "output_type": "stream",
     "text": [
      "DEBUG flwr 2023-08-31 20:41:57,096 | server.py:236 | fit_round 4 received 2 results and 0 failures\n",
      "DEBUG flwr 2023-08-31 20:41:57,107 | server.py:173 | evaluate_round 4: strategy sampled 2 clients (out of 5)\n"
     ]
    },
    {
     "name": "stdout",
     "output_type": "stream",
     "text": [
      "agrregate_fit results list length is  2\n",
      "Saving round 4 aggregated_parameters...\n"
     ]
    },
    {
     "name": "stderr",
     "output_type": "stream",
     "text": [
      "DEBUG flwr 2023-08-31 20:41:58,548 | server.py:187 | evaluate_round 4 received 2 results and 0 failures\n",
      "DEBUG flwr 2023-08-31 20:41:58,549 | server.py:222 | fit_round 5: strategy sampled 2 clients (out of 5)\n"
     ]
    },
    {
     "name": "stdout",
     "output_type": "stream",
     "text": [
      "agrregate_evaluate results list length is  2\n",
      "server round is  4\n",
      "loss is  0.24825914204120636\n"
     ]
    },
    {
     "name": "stderr",
     "output_type": "stream",
     "text": [
      "DEBUG flwr 2023-08-31 20:42:02,577 | server.py:236 | fit_round 5 received 2 results and 0 failures\n",
      "DEBUG flwr 2023-08-31 20:42:02,588 | server.py:173 | evaluate_round 5: strategy sampled 2 clients (out of 5)\n"
     ]
    },
    {
     "name": "stdout",
     "output_type": "stream",
     "text": [
      "agrregate_fit results list length is  2\n",
      "Saving round 5 aggregated_parameters...\n"
     ]
    },
    {
     "name": "stderr",
     "output_type": "stream",
     "text": [
      "DEBUG flwr 2023-08-31 20:42:04,036 | server.py:187 | evaluate_round 5 received 2 results and 0 failures\n",
      "DEBUG flwr 2023-08-31 20:42:04,037 | server.py:222 | fit_round 6: strategy sampled 2 clients (out of 5)\n"
     ]
    },
    {
     "name": "stdout",
     "output_type": "stream",
     "text": [
      "agrregate_evaluate results list length is  2\n",
      "server round is  5\n",
      "loss is  0.24034053087234497\n"
     ]
    },
    {
     "name": "stderr",
     "output_type": "stream",
     "text": [
      "DEBUG flwr 2023-08-31 20:42:48,313 | server.py:236 | fit_round 6 received 2 results and 0 failures\n",
      "DEBUG flwr 2023-08-31 20:42:48,326 | server.py:173 | evaluate_round 6: strategy sampled 2 clients (out of 5)\n"
     ]
    },
    {
     "name": "stdout",
     "output_type": "stream",
     "text": [
      "agrregate_fit results list length is  2\n",
      "Saving round 6 aggregated_parameters...\n"
     ]
    },
    {
     "name": "stderr",
     "output_type": "stream",
     "text": [
      "DEBUG flwr 2023-08-31 20:42:49,837 | server.py:187 | evaluate_round 6 received 2 results and 0 failures\n",
      "DEBUG flwr 2023-08-31 20:42:49,838 | server.py:222 | fit_round 7: strategy sampled 2 clients (out of 5)\n"
     ]
    },
    {
     "name": "stdout",
     "output_type": "stream",
     "text": [
      "agrregate_evaluate results list length is  2\n",
      "server round is  6\n",
      "loss is  0.20377640426158905\n"
     ]
    },
    {
     "name": "stderr",
     "output_type": "stream",
     "text": [
      "DEBUG flwr 2023-08-31 20:43:34,626 | server.py:236 | fit_round 7 received 2 results and 0 failures\n",
      "DEBUG flwr 2023-08-31 20:43:34,638 | server.py:173 | evaluate_round 7: strategy sampled 2 clients (out of 5)\n"
     ]
    },
    {
     "name": "stdout",
     "output_type": "stream",
     "text": [
      "agrregate_fit results list length is  2\n",
      "Saving round 7 aggregated_parameters...\n"
     ]
    },
    {
     "name": "stderr",
     "output_type": "stream",
     "text": [
      "DEBUG flwr 2023-08-31 20:43:36,171 | server.py:187 | evaluate_round 7 received 2 results and 0 failures\n",
      "DEBUG flwr 2023-08-31 20:43:36,172 | server.py:222 | fit_round 8: strategy sampled 2 clients (out of 5)\n"
     ]
    },
    {
     "name": "stdout",
     "output_type": "stream",
     "text": [
      "agrregate_evaluate results list length is  2\n",
      "server round is  7\n",
      "loss is  0.20263846218585968\n"
     ]
    },
    {
     "name": "stderr",
     "output_type": "stream",
     "text": [
      "DEBUG flwr 2023-08-31 20:43:40,092 | server.py:236 | fit_round 8 received 2 results and 0 failures\n",
      "DEBUG flwr 2023-08-31 20:43:40,102 | server.py:173 | evaluate_round 8: strategy sampled 2 clients (out of 5)\n"
     ]
    },
    {
     "name": "stdout",
     "output_type": "stream",
     "text": [
      "agrregate_fit results list length is  2\n",
      "Saving round 8 aggregated_parameters...\n"
     ]
    },
    {
     "name": "stderr",
     "output_type": "stream",
     "text": [
      "DEBUG flwr 2023-08-31 20:43:41,652 | server.py:187 | evaluate_round 8 received 2 results and 0 failures\n",
      "DEBUG flwr 2023-08-31 20:43:41,653 | server.py:222 | fit_round 9: strategy sampled 2 clients (out of 5)\n"
     ]
    },
    {
     "name": "stdout",
     "output_type": "stream",
     "text": [
      "agrregate_evaluate results list length is  2\n",
      "server round is  8\n",
      "loss is  0.2006395012140274\n"
     ]
    },
    {
     "name": "stderr",
     "output_type": "stream",
     "text": [
      "DEBUG flwr 2023-08-31 20:44:29,129 | server.py:236 | fit_round 9 received 2 results and 0 failures\n",
      "DEBUG flwr 2023-08-31 20:44:29,142 | server.py:173 | evaluate_round 9: strategy sampled 2 clients (out of 5)\n"
     ]
    },
    {
     "name": "stdout",
     "output_type": "stream",
     "text": [
      "agrregate_fit results list length is  2\n",
      "Saving round 9 aggregated_parameters...\n"
     ]
    },
    {
     "name": "stderr",
     "output_type": "stream",
     "text": [
      "DEBUG flwr 2023-08-31 20:44:30,630 | server.py:187 | evaluate_round 9 received 2 results and 0 failures\n",
      "DEBUG flwr 2023-08-31 20:44:30,632 | server.py:222 | fit_round 10: strategy sampled 2 clients (out of 5)\n"
     ]
    },
    {
     "name": "stdout",
     "output_type": "stream",
     "text": [
      "agrregate_evaluate results list length is  2\n",
      "server round is  9\n",
      "loss is  0.2009199559688568\n"
     ]
    },
    {
     "name": "stderr",
     "output_type": "stream",
     "text": [
      "DEBUG flwr 2023-08-31 20:44:34,552 | server.py:236 | fit_round 10 received 2 results and 0 failures\n",
      "DEBUG flwr 2023-08-31 20:44:34,563 | server.py:173 | evaluate_round 10: strategy sampled 2 clients (out of 5)\n"
     ]
    },
    {
     "name": "stdout",
     "output_type": "stream",
     "text": [
      "agrregate_fit results list length is  2\n",
      "Saving round 10 aggregated_parameters...\n"
     ]
    },
    {
     "name": "stderr",
     "output_type": "stream",
     "text": [
      "DEBUG flwr 2023-08-31 20:44:36,118 | server.py:187 | evaluate_round 10 received 2 results and 0 failures\n",
      "DEBUG flwr 2023-08-31 20:44:36,122 | server.py:222 | fit_round 11: strategy sampled 2 clients (out of 5)\n"
     ]
    },
    {
     "name": "stdout",
     "output_type": "stream",
     "text": [
      "agrregate_evaluate results list length is  2\n",
      "server round is  10\n",
      "loss is  0.19958831369876862\n"
     ]
    },
    {
     "name": "stderr",
     "output_type": "stream",
     "text": [
      "DEBUG flwr 2023-08-31 20:45:20,473 | server.py:236 | fit_round 11 received 2 results and 0 failures\n",
      "DEBUG flwr 2023-08-31 20:45:20,483 | server.py:173 | evaluate_round 11: strategy sampled 2 clients (out of 5)\n"
     ]
    },
    {
     "name": "stdout",
     "output_type": "stream",
     "text": [
      "agrregate_fit results list length is  2\n",
      "Saving round 11 aggregated_parameters...\n"
     ]
    },
    {
     "name": "stderr",
     "output_type": "stream",
     "text": [
      "DEBUG flwr 2023-08-31 20:45:21,922 | server.py:187 | evaluate_round 11 received 2 results and 0 failures\n",
      "DEBUG flwr 2023-08-31 20:45:21,923 | server.py:222 | fit_round 12: strategy sampled 2 clients (out of 5)\n"
     ]
    },
    {
     "name": "stdout",
     "output_type": "stream",
     "text": [
      "agrregate_evaluate results list length is  2\n",
      "server round is  11\n",
      "loss is  0.20278628170490265\n"
     ]
    },
    {
     "name": "stderr",
     "output_type": "stream",
     "text": [
      "DEBUG flwr 2023-08-31 20:46:07,169 | server.py:236 | fit_round 12 received 2 results and 0 failures\n",
      "DEBUG flwr 2023-08-31 20:46:07,181 | server.py:173 | evaluate_round 12: strategy sampled 2 clients (out of 5)\n"
     ]
    },
    {
     "name": "stdout",
     "output_type": "stream",
     "text": [
      "agrregate_fit results list length is  2\n",
      "Saving round 12 aggregated_parameters...\n"
     ]
    },
    {
     "name": "stderr",
     "output_type": "stream",
     "text": [
      "DEBUG flwr 2023-08-31 20:46:08,644 | server.py:187 | evaluate_round 12 received 2 results and 0 failures\n",
      "DEBUG flwr 2023-08-31 20:46:08,646 | server.py:222 | fit_round 13: strategy sampled 2 clients (out of 5)\n"
     ]
    },
    {
     "name": "stdout",
     "output_type": "stream",
     "text": [
      "agrregate_evaluate results list length is  2\n",
      "server round is  12\n",
      "loss is  0.19871513545513153\n"
     ]
    },
    {
     "name": "stderr",
     "output_type": "stream",
     "text": [
      "DEBUG flwr 2023-08-31 20:46:52,265 | server.py:236 | fit_round 13 received 2 results and 0 failures\n",
      "DEBUG flwr 2023-08-31 20:46:52,277 | server.py:173 | evaluate_round 13: strategy sampled 2 clients (out of 5)\n"
     ]
    },
    {
     "name": "stdout",
     "output_type": "stream",
     "text": [
      "agrregate_fit results list length is  2\n",
      "Saving round 13 aggregated_parameters...\n"
     ]
    },
    {
     "name": "stderr",
     "output_type": "stream",
     "text": [
      "DEBUG flwr 2023-08-31 20:46:53,823 | server.py:187 | evaluate_round 13 received 2 results and 0 failures\n",
      "DEBUG flwr 2023-08-31 20:46:53,824 | server.py:222 | fit_round 14: strategy sampled 2 clients (out of 5)\n"
     ]
    },
    {
     "name": "stdout",
     "output_type": "stream",
     "text": [
      "agrregate_evaluate results list length is  2\n",
      "server round is  13\n",
      "loss is  0.19599415361881256\n"
     ]
    },
    {
     "name": "stderr",
     "output_type": "stream",
     "text": [
      "DEBUG flwr 2023-08-31 20:47:38,270 | server.py:236 | fit_round 14 received 2 results and 0 failures\n",
      "DEBUG flwr 2023-08-31 20:47:38,286 | server.py:173 | evaluate_round 14: strategy sampled 2 clients (out of 5)\n"
     ]
    },
    {
     "name": "stdout",
     "output_type": "stream",
     "text": [
      "agrregate_fit results list length is  2\n",
      "Saving round 14 aggregated_parameters...\n"
     ]
    },
    {
     "name": "stderr",
     "output_type": "stream",
     "text": [
      "DEBUG flwr 2023-08-31 20:47:39,775 | server.py:187 | evaluate_round 14 received 2 results and 0 failures\n",
      "DEBUG flwr 2023-08-31 20:47:39,776 | server.py:222 | fit_round 15: strategy sampled 2 clients (out of 5)\n"
     ]
    },
    {
     "name": "stdout",
     "output_type": "stream",
     "text": [
      "agrregate_evaluate results list length is  2\n",
      "server round is  14\n",
      "loss is  0.19767457246780396\n"
     ]
    },
    {
     "name": "stderr",
     "output_type": "stream",
     "text": [
      "DEBUG flwr 2023-08-31 20:47:43,766 | server.py:236 | fit_round 15 received 2 results and 0 failures\n",
      "DEBUG flwr 2023-08-31 20:47:43,777 | server.py:173 | evaluate_round 15: strategy sampled 2 clients (out of 5)\n"
     ]
    },
    {
     "name": "stdout",
     "output_type": "stream",
     "text": [
      "agrregate_fit results list length is  2\n",
      "Saving round 15 aggregated_parameters...\n"
     ]
    },
    {
     "name": "stderr",
     "output_type": "stream",
     "text": [
      "DEBUG flwr 2023-08-31 20:47:45,316 | server.py:187 | evaluate_round 15 received 2 results and 0 failures\n",
      "DEBUG flwr 2023-08-31 20:47:45,317 | server.py:222 | fit_round 16: strategy sampled 2 clients (out of 5)\n"
     ]
    },
    {
     "name": "stdout",
     "output_type": "stream",
     "text": [
      "agrregate_evaluate results list length is  2\n",
      "server round is  15\n",
      "loss is  0.19689708948135376\n"
     ]
    },
    {
     "name": "stderr",
     "output_type": "stream",
     "text": [
      "DEBUG flwr 2023-08-31 20:48:29,662 | server.py:236 | fit_round 16 received 2 results and 0 failures\n",
      "DEBUG flwr 2023-08-31 20:48:29,677 | server.py:173 | evaluate_round 16: strategy sampled 2 clients (out of 5)\n"
     ]
    },
    {
     "name": "stdout",
     "output_type": "stream",
     "text": [
      "agrregate_fit results list length is  2\n",
      "Saving round 16 aggregated_parameters...\n"
     ]
    },
    {
     "name": "stderr",
     "output_type": "stream",
     "text": [
      "DEBUG flwr 2023-08-31 20:48:31,224 | server.py:187 | evaluate_round 16 received 2 results and 0 failures\n",
      "DEBUG flwr 2023-08-31 20:48:31,225 | server.py:222 | fit_round 17: strategy sampled 2 clients (out of 5)\n"
     ]
    },
    {
     "name": "stdout",
     "output_type": "stream",
     "text": [
      "agrregate_evaluate results list length is  2\n",
      "server round is  16\n",
      "loss is  0.19816115498542786\n"
     ]
    },
    {
     "name": "stderr",
     "output_type": "stream",
     "text": [
      "DEBUG flwr 2023-08-31 20:49:15,850 | server.py:236 | fit_round 17 received 2 results and 0 failures\n",
      "DEBUG flwr 2023-08-31 20:49:15,866 | server.py:173 | evaluate_round 17: strategy sampled 2 clients (out of 5)\n"
     ]
    },
    {
     "name": "stdout",
     "output_type": "stream",
     "text": [
      "agrregate_fit results list length is  2\n",
      "Saving round 17 aggregated_parameters...\n"
     ]
    },
    {
     "name": "stderr",
     "output_type": "stream",
     "text": [
      "DEBUG flwr 2023-08-31 20:49:17,606 | server.py:187 | evaluate_round 17 received 2 results and 0 failures\n",
      "DEBUG flwr 2023-08-31 20:49:17,607 | server.py:222 | fit_round 18: strategy sampled 2 clients (out of 5)\n"
     ]
    },
    {
     "name": "stdout",
     "output_type": "stream",
     "text": [
      "agrregate_evaluate results list length is  2\n",
      "server round is  17\n",
      "loss is  0.19603005051612854\n"
     ]
    },
    {
     "name": "stderr",
     "output_type": "stream",
     "text": [
      "DEBUG flwr 2023-08-31 20:49:22,270 | server.py:236 | fit_round 18 received 2 results and 0 failures\n",
      "DEBUG flwr 2023-08-31 20:49:22,282 | server.py:173 | evaluate_round 18: strategy sampled 2 clients (out of 5)\n"
     ]
    },
    {
     "name": "stdout",
     "output_type": "stream",
     "text": [
      "agrregate_fit results list length is  2\n",
      "Saving round 18 aggregated_parameters...\n"
     ]
    },
    {
     "name": "stderr",
     "output_type": "stream",
     "text": [
      "DEBUG flwr 2023-08-31 20:49:23,758 | server.py:187 | evaluate_round 18 received 2 results and 0 failures\n",
      "DEBUG flwr 2023-08-31 20:49:23,759 | server.py:222 | fit_round 19: strategy sampled 2 clients (out of 5)\n"
     ]
    },
    {
     "name": "stdout",
     "output_type": "stream",
     "text": [
      "agrregate_evaluate results list length is  2\n",
      "server round is  18\n",
      "loss is  0.1982855349779129\n"
     ]
    },
    {
     "name": "stderr",
     "output_type": "stream",
     "text": [
      "DEBUG flwr 2023-08-31 20:49:27,736 | server.py:236 | fit_round 19 received 2 results and 0 failures\n",
      "DEBUG flwr 2023-08-31 20:49:27,749 | server.py:173 | evaluate_round 19: strategy sampled 2 clients (out of 5)\n"
     ]
    },
    {
     "name": "stdout",
     "output_type": "stream",
     "text": [
      "agrregate_fit results list length is  2\n",
      "Saving round 19 aggregated_parameters...\n"
     ]
    },
    {
     "name": "stderr",
     "output_type": "stream",
     "text": [
      "DEBUG flwr 2023-08-31 20:49:29,227 | server.py:187 | evaluate_round 19 received 2 results and 0 failures\n",
      "DEBUG flwr 2023-08-31 20:49:29,229 | server.py:222 | fit_round 20: strategy sampled 2 clients (out of 5)\n"
     ]
    },
    {
     "name": "stdout",
     "output_type": "stream",
     "text": [
      "agrregate_evaluate results list length is  2\n",
      "server round is  19\n",
      "loss is  0.19718149304389954\n"
     ]
    },
    {
     "name": "stderr",
     "output_type": "stream",
     "text": [
      "DEBUG flwr 2023-08-31 20:49:33,130 | server.py:236 | fit_round 20 received 2 results and 0 failures\n",
      "DEBUG flwr 2023-08-31 20:49:33,142 | server.py:173 | evaluate_round 20: strategy sampled 2 clients (out of 5)\n"
     ]
    },
    {
     "name": "stdout",
     "output_type": "stream",
     "text": [
      "agrregate_fit results list length is  2\n",
      "Saving round 20 aggregated_parameters...\n"
     ]
    },
    {
     "name": "stderr",
     "output_type": "stream",
     "text": [
      "DEBUG flwr 2023-08-31 20:49:34,600 | server.py:187 | evaluate_round 20 received 2 results and 0 failures\n",
      "DEBUG flwr 2023-08-31 20:49:34,600 | server.py:222 | fit_round 21: strategy sampled 2 clients (out of 5)\n"
     ]
    },
    {
     "name": "stdout",
     "output_type": "stream",
     "text": [
      "agrregate_evaluate results list length is  2\n",
      "server round is  20\n",
      "loss is  0.19609124958515167\n"
     ]
    },
    {
     "name": "stderr",
     "output_type": "stream",
     "text": [
      "DEBUG flwr 2023-08-31 20:49:38,604 | server.py:236 | fit_round 21 received 2 results and 0 failures\n",
      "DEBUG flwr 2023-08-31 20:49:38,615 | server.py:173 | evaluate_round 21: strategy sampled 2 clients (out of 5)\n"
     ]
    },
    {
     "name": "stdout",
     "output_type": "stream",
     "text": [
      "agrregate_fit results list length is  2\n",
      "Saving round 21 aggregated_parameters...\n"
     ]
    },
    {
     "name": "stderr",
     "output_type": "stream",
     "text": [
      "DEBUG flwr 2023-08-31 20:49:40,176 | server.py:187 | evaluate_round 21 received 2 results and 0 failures\n",
      "DEBUG flwr 2023-08-31 20:49:40,177 | server.py:222 | fit_round 22: strategy sampled 2 clients (out of 5)\n"
     ]
    },
    {
     "name": "stdout",
     "output_type": "stream",
     "text": [
      "agrregate_evaluate results list length is  2\n",
      "server round is  21\n",
      "loss is  0.19882932305335999\n"
     ]
    },
    {
     "name": "stderr",
     "output_type": "stream",
     "text": [
      "DEBUG flwr 2023-08-31 20:50:24,204 | server.py:236 | fit_round 22 received 2 results and 0 failures\n",
      "DEBUG flwr 2023-08-31 20:50:24,221 | server.py:173 | evaluate_round 22: strategy sampled 2 clients (out of 5)\n"
     ]
    },
    {
     "name": "stdout",
     "output_type": "stream",
     "text": [
      "agrregate_fit results list length is  2\n",
      "Saving round 22 aggregated_parameters...\n"
     ]
    },
    {
     "name": "stderr",
     "output_type": "stream",
     "text": [
      "DEBUG flwr 2023-08-31 20:50:25,726 | server.py:187 | evaluate_round 22 received 2 results and 0 failures\n",
      "DEBUG flwr 2023-08-31 20:50:25,728 | server.py:222 | fit_round 23: strategy sampled 2 clients (out of 5)\n"
     ]
    },
    {
     "name": "stdout",
     "output_type": "stream",
     "text": [
      "agrregate_evaluate results list length is  2\n",
      "server round is  22\n",
      "loss is  0.19677536189556122\n"
     ]
    },
    {
     "name": "stderr",
     "output_type": "stream",
     "text": [
      "DEBUG flwr 2023-08-31 20:51:09,962 | server.py:236 | fit_round 23 received 2 results and 0 failures\n",
      "DEBUG flwr 2023-08-31 20:51:09,974 | server.py:173 | evaluate_round 23: strategy sampled 2 clients (out of 5)\n"
     ]
    },
    {
     "name": "stdout",
     "output_type": "stream",
     "text": [
      "agrregate_fit results list length is  2\n",
      "Saving round 23 aggregated_parameters...\n"
     ]
    },
    {
     "name": "stderr",
     "output_type": "stream",
     "text": [
      "DEBUG flwr 2023-08-31 20:51:11,423 | server.py:187 | evaluate_round 23 received 2 results and 0 failures\n",
      "DEBUG flwr 2023-08-31 20:51:11,425 | server.py:222 | fit_round 24: strategy sampled 2 clients (out of 5)\n"
     ]
    },
    {
     "name": "stdout",
     "output_type": "stream",
     "text": [
      "agrregate_evaluate results list length is  2\n",
      "server round is  23\n",
      "loss is  0.1948392540216446\n"
     ]
    },
    {
     "name": "stderr",
     "output_type": "stream",
     "text": [
      "DEBUG flwr 2023-08-31 20:51:16,263 | server.py:236 | fit_round 24 received 2 results and 0 failures\n",
      "DEBUG flwr 2023-08-31 20:51:16,275 | server.py:173 | evaluate_round 24: strategy sampled 2 clients (out of 5)\n"
     ]
    },
    {
     "name": "stdout",
     "output_type": "stream",
     "text": [
      "agrregate_fit results list length is  2\n",
      "Saving round 24 aggregated_parameters...\n"
     ]
    },
    {
     "name": "stderr",
     "output_type": "stream",
     "text": [
      "DEBUG flwr 2023-08-31 20:51:17,807 | server.py:187 | evaluate_round 24 received 2 results and 0 failures\n",
      "DEBUG flwr 2023-08-31 20:51:17,808 | server.py:222 | fit_round 25: strategy sampled 2 clients (out of 5)\n"
     ]
    },
    {
     "name": "stdout",
     "output_type": "stream",
     "text": [
      "agrregate_evaluate results list length is  2\n",
      "server round is  24\n",
      "loss is  0.2000502049922943\n"
     ]
    },
    {
     "name": "stderr",
     "output_type": "stream",
     "text": [
      "DEBUG flwr 2023-08-31 20:51:21,916 | server.py:236 | fit_round 25 received 2 results and 0 failures\n",
      "DEBUG flwr 2023-08-31 20:51:21,926 | server.py:173 | evaluate_round 25: strategy sampled 2 clients (out of 5)\n"
     ]
    },
    {
     "name": "stdout",
     "output_type": "stream",
     "text": [
      "agrregate_fit results list length is  2\n",
      "Saving round 25 aggregated_parameters...\n"
     ]
    },
    {
     "name": "stderr",
     "output_type": "stream",
     "text": [
      "DEBUG flwr 2023-08-31 20:51:23,408 | server.py:187 | evaluate_round 25 received 2 results and 0 failures\n",
      "INFO flwr 2023-08-31 20:51:23,410 | server.py:153 | FL finished in 590.1315968999988\n",
      "INFO flwr 2023-08-31 20:51:23,411 | app.py:225 | app_fit: losses_distributed [(1, 0.26766642928123474), (2, 0.26124218106269836), (3, 0.2556231915950775), (4, 0.24825914204120636), (5, 0.24034053087234497), (6, 0.20377640426158905), (7, 0.20263846218585968), (8, 0.2006395012140274), (9, 0.2009199559688568), (10, 0.19958831369876862), (11, 0.20278628170490265), (12, 0.19871513545513153), (13, 0.19599415361881256), (14, 0.19767457246780396), (15, 0.19689708948135376), (16, 0.19816115498542786), (17, 0.19603005051612854), (18, 0.1982855349779129), (19, 0.19718149304389954), (20, 0.19609124958515167), (21, 0.19882932305335999), (22, 0.19677536189556122), (23, 0.1948392540216446), (24, 0.2000502049922943), (25, 0.1980738639831543)]\n",
      "INFO flwr 2023-08-31 20:51:23,414 | app.py:226 | app_fit: metrics_distributed_fit {}\n",
      "INFO flwr 2023-08-31 20:51:23,415 | app.py:227 | app_fit: metrics_distributed {'mse': [(1, 0.5353328585624695), (2, 0.5224843621253967), (3, 0.511246383190155), (4, 0.4965182840824127), (5, 0.48068106174468994), (6, 0.4075528085231781), (7, 0.40527692437171936), (8, 0.4012790024280548), (9, 0.4018399119377136), (10, 0.39917662739753723), (11, 0.4055725634098053), (12, 0.39743027091026306), (13, 0.3919883072376251), (14, 0.3953491449356079), (15, 0.3937941789627075), (16, 0.3963223099708557), (17, 0.3920601010322571), (18, 0.3965710699558258), (19, 0.3943629860877991), (20, 0.39218249917030334), (21, 0.39765864610671997), (22, 0.39355072379112244), (23, 0.3896785080432892), (24, 0.4001004099845886), (25, 0.3961477279663086)]}\n",
      "INFO flwr 2023-08-31 20:51:23,417 | app.py:228 | app_fit: losses_centralized []\n",
      "INFO flwr 2023-08-31 20:51:23,418 | app.py:229 | app_fit: metrics_centralized {}\n"
     ]
    },
    {
     "name": "stdout",
     "output_type": "stream",
     "text": [
      "agrregate_evaluate results list length is  2\n",
      "server round is  25\n",
      "loss is  0.1980738639831543\n",
      "History (loss, distributed):\n",
      "\tround 1: 0.26766642928123474\n",
      "\tround 2: 0.26124218106269836\n",
      "\tround 3: 0.2556231915950775\n",
      "\tround 4: 0.24825914204120636\n",
      "\tround 5: 0.24034053087234497\n",
      "\tround 6: 0.20377640426158905\n",
      "\tround 7: 0.20263846218585968\n",
      "\tround 8: 0.2006395012140274\n",
      "\tround 9: 0.2009199559688568\n",
      "\tround 10: 0.19958831369876862\n",
      "\tround 11: 0.20278628170490265\n",
      "\tround 12: 0.19871513545513153\n",
      "\tround 13: 0.19599415361881256\n",
      "\tround 14: 0.19767457246780396\n",
      "\tround 15: 0.19689708948135376\n",
      "\tround 16: 0.19816115498542786\n",
      "\tround 17: 0.19603005051612854\n",
      "\tround 18: 0.1982855349779129\n",
      "\tround 19: 0.19718149304389954\n",
      "\tround 20: 0.19609124958515167\n",
      "\tround 21: 0.19882932305335999\n",
      "\tround 22: 0.19677536189556122\n",
      "\tround 23: 0.1948392540216446\n",
      "\tround 24: 0.2000502049922943\n",
      "\tround 25: 0.1980738639831543\n",
      "History (metrics, distributed, evaluate):\n",
      "{'mse': [(1, 0.5353328585624695), (2, 0.5224843621253967), (3, 0.511246383190155), (4, 0.4965182840824127), (5, 0.48068106174468994), (6, 0.4075528085231781), (7, 0.40527692437171936), (8, 0.4012790024280548), (9, 0.4018399119377136), (10, 0.39917662739753723), (11, 0.4055725634098053), (12, 0.39743027091026306), (13, 0.3919883072376251), (14, 0.3953491449356079), (15, 0.3937941789627075), (16, 0.3963223099708557), (17, 0.3920601010322571), (18, 0.3965710699558258), (19, 0.3943629860877991), (20, 0.39218249917030334), (21, 0.39765864610671997), (22, 0.39355072379112244), (23, 0.3896785080432892), (24, 0.4001004099845886), (25, 0.3961477279663086)]}\n",
      "[(1, 0.26766642928123474), (2, 0.26124218106269836), (3, 0.2556231915950775), (4, 0.24825914204120636), (5, 0.24034053087234497), (6, 0.20377640426158905), (7, 0.20263846218585968), (8, 0.2006395012140274), (9, 0.2009199559688568), (10, 0.19958831369876862), (11, 0.20278628170490265), (12, 0.19871513545513153), (13, 0.19599415361881256), (14, 0.19767457246780396), (15, 0.19689708948135376), (16, 0.19816115498542786), (17, 0.19603005051612854), (18, 0.1982855349779129), (19, 0.19718149304389954), (20, 0.19609124958515167), (21, 0.19882932305335999), (22, 0.19677536189556122), (23, 0.1948392540216446), (24, 0.2000502049922943), (25, 0.1980738639831543)]\n",
      "Fold 2:\n",
      "splitting [0.8, 0.05, 0.05, 0.05, 0.05]\n",
      "time 0:10:09.710269\n",
      "mse [0.19807386]\n",
      "auc [0.7535996430067247]\n"
     ]
    }
   ],
   "source": [
    "splitting = [0.8, 0.05, 0.05, 0.05, 0.05]\n",
    "do_fl(splitting)"
   ],
   "metadata": {
    "collapsed": false,
    "ExecuteTime": {
     "end_time": "2023-08-31T19:51:23.625828500Z",
     "start_time": "2023-08-31T19:41:13.890626400Z"
    }
   }
  },
  {
   "cell_type": "code",
   "execution_count": 18,
   "outputs": [
    {
     "name": "stdout",
     "output_type": "stream",
     "text": [
      "Fold 1:\n",
      "x_test: cpu\n",
      "y_test: cpu\n",
      "Client 0 trainset shape torch.Size([45160, 120])\n",
      "Client 1 trainset shape torch.Size([45402, 120])\n",
      "Client 2 trainset shape torch.Size([45254, 120])\n",
      "Client 3 trainset shape torch.Size([45252, 120])\n",
      "Client 4 trainset shape torch.Size([45214, 120])\n",
      "Client 5 trainset shape torch.Size([45086, 120])\n",
      "Client 6 trainset shape torch.Size([45288, 120])\n"
     ]
    },
    {
     "name": "stderr",
     "output_type": "stream",
     "text": [
      "INFO flwr 2023-08-31 20:51:24,518 | app.py:145 | Starting Flower simulation, config: ServerConfig(num_rounds=25, round_timeout=None)\n"
     ]
    },
    {
     "name": "stdout",
     "output_type": "stream",
     "text": [
      "Client 7 trainset shape torch.Size([45222, 120])\n",
      "Client 8 trainset shape torch.Size([45302, 120])\n",
      "Client 9 trainset shape torch.Size([45116, 120])\n",
      "FL started training on cpu\n",
      "Number of available GPUs: 0\n"
     ]
    },
    {
     "name": "stderr",
     "output_type": "stream",
     "text": [
      "2023-08-31 20:51:33,546\tINFO worker.py:1627 -- Started a local Ray instance. View the dashboard at \u001B[1m\u001B[32m127.0.0.1:8268 \u001B[39m\u001B[22m\n",
      "INFO flwr 2023-08-31 20:51:38,425 | app.py:179 | Flower VCE: Ray initialized with resources: {'memory': 2619902363.0, 'object_store_memory': 1309951180.0, 'node:127.0.0.1': 1.0, 'CPU': 8.0, 'GPU': 1.0}\n",
      "INFO flwr 2023-08-31 20:51:38,427 | server.py:89 | Initializing global parameters\n",
      "INFO flwr 2023-08-31 20:51:38,429 | server.py:276 | Requesting initial parameters from one random client\n",
      "INFO flwr 2023-08-31 20:51:42,433 | server.py:280 | Received initial parameters from one random client\n",
      "INFO flwr 2023-08-31 20:51:42,434 | server.py:91 | Evaluating initial parameters\n",
      "INFO flwr 2023-08-31 20:51:42,435 | server.py:104 | FL starting\n",
      "DEBUG flwr 2023-08-31 20:51:42,436 | server.py:222 | fit_round 1: strategy sampled 5 clients (out of 10)\n",
      "DEBUG flwr 2023-08-31 20:52:06,054 | server.py:236 | fit_round 1 received 5 results and 0 failures\n",
      "WARNING flwr 2023-08-31 20:52:06,066 | fedavg.py:242 | No fit_metrics_aggregation_fn provided\n",
      "DEBUG flwr 2023-08-31 20:52:06,075 | server.py:173 | evaluate_round 1: strategy sampled 5 clients (out of 10)\n"
     ]
    },
    {
     "name": "stdout",
     "output_type": "stream",
     "text": [
      "agrregate_fit results list length is  5\n",
      "Saving round 1 aggregated_parameters...\n"
     ]
    },
    {
     "name": "stderr",
     "output_type": "stream",
     "text": [
      "DEBUG flwr 2023-08-31 20:52:12,135 | server.py:187 | evaluate_round 1 received 5 results and 0 failures\n",
      "DEBUG flwr 2023-08-31 20:52:12,136 | server.py:222 | fit_round 2: strategy sampled 5 clients (out of 10)\n"
     ]
    },
    {
     "name": "stdout",
     "output_type": "stream",
     "text": [
      "agrregate_evaluate results list length is  5\n",
      "server round is  1\n",
      "loss is  0.24608145654201508\n"
     ]
    },
    {
     "name": "stderr",
     "output_type": "stream",
     "text": [
      "DEBUG flwr 2023-08-31 20:52:34,158 | server.py:236 | fit_round 2 received 5 results and 0 failures\n",
      "DEBUG flwr 2023-08-31 20:52:34,179 | server.py:173 | evaluate_round 2: strategy sampled 5 clients (out of 10)\n"
     ]
    },
    {
     "name": "stdout",
     "output_type": "stream",
     "text": [
      "agrregate_fit results list length is  5\n",
      "Saving round 2 aggregated_parameters...\n"
     ]
    },
    {
     "name": "stderr",
     "output_type": "stream",
     "text": [
      "DEBUG flwr 2023-08-31 20:52:40,441 | server.py:187 | evaluate_round 2 received 5 results and 0 failures\n",
      "DEBUG flwr 2023-08-31 20:52:40,442 | server.py:222 | fit_round 3: strategy sampled 5 clients (out of 10)\n"
     ]
    },
    {
     "name": "stdout",
     "output_type": "stream",
     "text": [
      "agrregate_evaluate results list length is  5\n",
      "server round is  2\n",
      "loss is  0.24272729456424713\n"
     ]
    },
    {
     "name": "stderr",
     "output_type": "stream",
     "text": [
      "DEBUG flwr 2023-08-31 20:53:02,512 | server.py:236 | fit_round 3 received 5 results and 0 failures\n",
      "DEBUG flwr 2023-08-31 20:53:02,531 | server.py:173 | evaluate_round 3: strategy sampled 5 clients (out of 10)\n"
     ]
    },
    {
     "name": "stdout",
     "output_type": "stream",
     "text": [
      "agrregate_fit results list length is  5\n",
      "Saving round 3 aggregated_parameters...\n"
     ]
    },
    {
     "name": "stderr",
     "output_type": "stream",
     "text": [
      "DEBUG flwr 2023-08-31 20:53:07,719 | server.py:187 | evaluate_round 3 received 5 results and 0 failures\n",
      "DEBUG flwr 2023-08-31 20:53:07,721 | server.py:222 | fit_round 4: strategy sampled 5 clients (out of 10)\n"
     ]
    },
    {
     "name": "stdout",
     "output_type": "stream",
     "text": [
      "agrregate_evaluate results list length is  5\n",
      "server round is  3\n",
      "loss is  0.23020319640636444\n"
     ]
    },
    {
     "name": "stderr",
     "output_type": "stream",
     "text": [
      "DEBUG flwr 2023-08-31 20:53:27,129 | server.py:236 | fit_round 4 received 5 results and 0 failures\n",
      "DEBUG flwr 2023-08-31 20:53:27,148 | server.py:173 | evaluate_round 4: strategy sampled 5 clients (out of 10)\n"
     ]
    },
    {
     "name": "stdout",
     "output_type": "stream",
     "text": [
      "agrregate_fit results list length is  5\n",
      "Saving round 4 aggregated_parameters...\n"
     ]
    },
    {
     "name": "stderr",
     "output_type": "stream",
     "text": [
      "DEBUG flwr 2023-08-31 20:53:32,502 | server.py:187 | evaluate_round 4 received 5 results and 0 failures\n",
      "DEBUG flwr 2023-08-31 20:53:32,505 | server.py:222 | fit_round 5: strategy sampled 5 clients (out of 10)\n"
     ]
    },
    {
     "name": "stdout",
     "output_type": "stream",
     "text": [
      "agrregate_evaluate results list length is  5\n",
      "server round is  4\n",
      "loss is  0.21925793588161469\n"
     ]
    },
    {
     "name": "stderr",
     "output_type": "stream",
     "text": [
      "DEBUG flwr 2023-08-31 20:53:51,362 | server.py:236 | fit_round 5 received 5 results and 0 failures\n",
      "DEBUG flwr 2023-08-31 20:53:51,388 | server.py:173 | evaluate_round 5: strategy sampled 5 clients (out of 10)\n"
     ]
    },
    {
     "name": "stdout",
     "output_type": "stream",
     "text": [
      "agrregate_fit results list length is  5\n",
      "Saving round 5 aggregated_parameters...\n"
     ]
    },
    {
     "name": "stderr",
     "output_type": "stream",
     "text": [
      "DEBUG flwr 2023-08-31 20:53:56,880 | server.py:187 | evaluate_round 5 received 5 results and 0 failures\n",
      "DEBUG flwr 2023-08-31 20:53:56,881 | server.py:222 | fit_round 6: strategy sampled 5 clients (out of 10)\n"
     ]
    },
    {
     "name": "stdout",
     "output_type": "stream",
     "text": [
      "agrregate_evaluate results list length is  5\n",
      "server round is  5\n",
      "loss is  0.2124049812555313\n"
     ]
    },
    {
     "name": "stderr",
     "output_type": "stream",
     "text": [
      "DEBUG flwr 2023-08-31 20:54:15,819 | server.py:236 | fit_round 6 received 5 results and 0 failures\n",
      "DEBUG flwr 2023-08-31 20:54:15,835 | server.py:173 | evaluate_round 6: strategy sampled 5 clients (out of 10)\n"
     ]
    },
    {
     "name": "stdout",
     "output_type": "stream",
     "text": [
      "agrregate_fit results list length is  5\n",
      "Saving round 6 aggregated_parameters...\n"
     ]
    },
    {
     "name": "stderr",
     "output_type": "stream",
     "text": [
      "DEBUG flwr 2023-08-31 20:54:20,755 | server.py:187 | evaluate_round 6 received 5 results and 0 failures\n",
      "DEBUG flwr 2023-08-31 20:54:20,756 | server.py:222 | fit_round 7: strategy sampled 5 clients (out of 10)\n"
     ]
    },
    {
     "name": "stdout",
     "output_type": "stream",
     "text": [
      "agrregate_evaluate results list length is  5\n",
      "server round is  6\n",
      "loss is  0.20910555124282837\n"
     ]
    },
    {
     "name": "stderr",
     "output_type": "stream",
     "text": [
      "DEBUG flwr 2023-08-31 20:54:41,198 | server.py:236 | fit_round 7 received 5 results and 0 failures\n",
      "DEBUG flwr 2023-08-31 20:54:41,214 | server.py:173 | evaluate_round 7: strategy sampled 5 clients (out of 10)\n"
     ]
    },
    {
     "name": "stdout",
     "output_type": "stream",
     "text": [
      "agrregate_fit results list length is  5\n",
      "Saving round 7 aggregated_parameters...\n"
     ]
    },
    {
     "name": "stderr",
     "output_type": "stream",
     "text": [
      "DEBUG flwr 2023-08-31 20:54:46,155 | server.py:187 | evaluate_round 7 received 5 results and 0 failures\n",
      "DEBUG flwr 2023-08-31 20:54:46,156 | server.py:222 | fit_round 8: strategy sampled 5 clients (out of 10)\n"
     ]
    },
    {
     "name": "stdout",
     "output_type": "stream",
     "text": [
      "agrregate_evaluate results list length is  5\n",
      "server round is  7\n",
      "loss is  0.20631642639636993\n"
     ]
    },
    {
     "name": "stderr",
     "output_type": "stream",
     "text": [
      "DEBUG flwr 2023-08-31 20:55:05,068 | server.py:236 | fit_round 8 received 5 results and 0 failures\n",
      "DEBUG flwr 2023-08-31 20:55:05,085 | server.py:173 | evaluate_round 8: strategy sampled 5 clients (out of 10)\n"
     ]
    },
    {
     "name": "stdout",
     "output_type": "stream",
     "text": [
      "agrregate_fit results list length is  5\n",
      "Saving round 8 aggregated_parameters...\n"
     ]
    },
    {
     "name": "stderr",
     "output_type": "stream",
     "text": [
      "DEBUG flwr 2023-08-31 20:55:10,292 | server.py:187 | evaluate_round 8 received 5 results and 0 failures\n",
      "DEBUG flwr 2023-08-31 20:55:10,294 | server.py:222 | fit_round 9: strategy sampled 5 clients (out of 10)\n"
     ]
    },
    {
     "name": "stdout",
     "output_type": "stream",
     "text": [
      "agrregate_evaluate results list length is  5\n",
      "server round is  8\n",
      "loss is  0.20396791398525238\n"
     ]
    },
    {
     "name": "stderr",
     "output_type": "stream",
     "text": [
      "DEBUG flwr 2023-08-31 20:55:30,010 | server.py:236 | fit_round 9 received 5 results and 0 failures\n",
      "DEBUG flwr 2023-08-31 20:55:30,026 | server.py:173 | evaluate_round 9: strategy sampled 5 clients (out of 10)\n"
     ]
    },
    {
     "name": "stdout",
     "output_type": "stream",
     "text": [
      "agrregate_fit results list length is  5\n",
      "Saving round 9 aggregated_parameters...\n"
     ]
    },
    {
     "name": "stderr",
     "output_type": "stream",
     "text": [
      "DEBUG flwr 2023-08-31 20:55:35,042 | server.py:187 | evaluate_round 9 received 5 results and 0 failures\n",
      "DEBUG flwr 2023-08-31 20:55:35,045 | server.py:222 | fit_round 10: strategy sampled 5 clients (out of 10)\n"
     ]
    },
    {
     "name": "stdout",
     "output_type": "stream",
     "text": [
      "agrregate_evaluate results list length is  5\n",
      "server round is  9\n",
      "loss is  0.20480281114578247\n"
     ]
    },
    {
     "name": "stderr",
     "output_type": "stream",
     "text": [
      "DEBUG flwr 2023-08-31 20:55:55,968 | server.py:236 | fit_round 10 received 5 results and 0 failures\n",
      "DEBUG flwr 2023-08-31 20:55:55,984 | server.py:173 | evaluate_round 10: strategy sampled 5 clients (out of 10)\n"
     ]
    },
    {
     "name": "stdout",
     "output_type": "stream",
     "text": [
      "agrregate_fit results list length is  5\n",
      "Saving round 10 aggregated_parameters...\n"
     ]
    },
    {
     "name": "stderr",
     "output_type": "stream",
     "text": [
      "DEBUG flwr 2023-08-31 20:56:01,245 | server.py:187 | evaluate_round 10 received 5 results and 0 failures\n",
      "DEBUG flwr 2023-08-31 20:56:01,246 | server.py:222 | fit_round 11: strategy sampled 5 clients (out of 10)\n"
     ]
    },
    {
     "name": "stdout",
     "output_type": "stream",
     "text": [
      "agrregate_evaluate results list length is  5\n",
      "server round is  10\n",
      "loss is  0.20337146520614624\n"
     ]
    },
    {
     "name": "stderr",
     "output_type": "stream",
     "text": [
      "DEBUG flwr 2023-08-31 20:56:21,841 | server.py:236 | fit_round 11 received 5 results and 0 failures\n",
      "DEBUG flwr 2023-08-31 20:56:21,858 | server.py:173 | evaluate_round 11: strategy sampled 5 clients (out of 10)\n"
     ]
    },
    {
     "name": "stdout",
     "output_type": "stream",
     "text": [
      "agrregate_fit results list length is  5\n",
      "Saving round 11 aggregated_parameters...\n"
     ]
    },
    {
     "name": "stderr",
     "output_type": "stream",
     "text": [
      "DEBUG flwr 2023-08-31 20:56:27,073 | server.py:187 | evaluate_round 11 received 5 results and 0 failures\n",
      "DEBUG flwr 2023-08-31 20:56:27,074 | server.py:222 | fit_round 12: strategy sampled 5 clients (out of 10)\n"
     ]
    },
    {
     "name": "stdout",
     "output_type": "stream",
     "text": [
      "agrregate_evaluate results list length is  5\n",
      "server round is  11\n",
      "loss is  0.20283839106559753\n"
     ]
    },
    {
     "name": "stderr",
     "output_type": "stream",
     "text": [
      "DEBUG flwr 2023-08-31 20:56:46,258 | server.py:236 | fit_round 12 received 5 results and 0 failures\n",
      "DEBUG flwr 2023-08-31 20:56:46,275 | server.py:173 | evaluate_round 12: strategy sampled 5 clients (out of 10)\n"
     ]
    },
    {
     "name": "stdout",
     "output_type": "stream",
     "text": [
      "agrregate_fit results list length is  5\n",
      "Saving round 12 aggregated_parameters...\n"
     ]
    },
    {
     "name": "stderr",
     "output_type": "stream",
     "text": [
      "DEBUG flwr 2023-08-31 20:56:51,438 | server.py:187 | evaluate_round 12 received 5 results and 0 failures\n",
      "DEBUG flwr 2023-08-31 20:56:51,440 | server.py:222 | fit_round 13: strategy sampled 5 clients (out of 10)\n"
     ]
    },
    {
     "name": "stdout",
     "output_type": "stream",
     "text": [
      "agrregate_evaluate results list length is  5\n",
      "server round is  12\n",
      "loss is  0.20183557271957397\n"
     ]
    },
    {
     "name": "stderr",
     "output_type": "stream",
     "text": [
      "DEBUG flwr 2023-08-31 20:57:10,726 | server.py:236 | fit_round 13 received 5 results and 0 failures\n",
      "DEBUG flwr 2023-08-31 20:57:10,743 | server.py:173 | evaluate_round 13: strategy sampled 5 clients (out of 10)\n"
     ]
    },
    {
     "name": "stdout",
     "output_type": "stream",
     "text": [
      "agrregate_fit results list length is  5\n",
      "Saving round 13 aggregated_parameters...\n"
     ]
    },
    {
     "name": "stderr",
     "output_type": "stream",
     "text": [
      "DEBUG flwr 2023-08-31 20:57:16,150 | server.py:187 | evaluate_round 13 received 5 results and 0 failures\n",
      "DEBUG flwr 2023-08-31 20:57:16,152 | server.py:222 | fit_round 14: strategy sampled 5 clients (out of 10)\n"
     ]
    },
    {
     "name": "stdout",
     "output_type": "stream",
     "text": [
      "agrregate_evaluate results list length is  5\n",
      "server round is  13\n",
      "loss is  0.2011600285768509\n"
     ]
    },
    {
     "name": "stderr",
     "output_type": "stream",
     "text": [
      "DEBUG flwr 2023-08-31 20:57:36,889 | server.py:236 | fit_round 14 received 5 results and 0 failures\n",
      "DEBUG flwr 2023-08-31 20:57:36,905 | server.py:173 | evaluate_round 14: strategy sampled 5 clients (out of 10)\n"
     ]
    },
    {
     "name": "stdout",
     "output_type": "stream",
     "text": [
      "agrregate_fit results list length is  5\n",
      "Saving round 14 aggregated_parameters...\n"
     ]
    },
    {
     "name": "stderr",
     "output_type": "stream",
     "text": [
      "DEBUG flwr 2023-08-31 20:57:42,374 | server.py:187 | evaluate_round 14 received 5 results and 0 failures\n",
      "DEBUG flwr 2023-08-31 20:57:42,375 | server.py:222 | fit_round 15: strategy sampled 5 clients (out of 10)\n"
     ]
    },
    {
     "name": "stdout",
     "output_type": "stream",
     "text": [
      "agrregate_evaluate results list length is  5\n",
      "server round is  14\n",
      "loss is  0.20228014886379242\n"
     ]
    },
    {
     "name": "stderr",
     "output_type": "stream",
     "text": [
      "DEBUG flwr 2023-08-31 20:58:02,563 | server.py:236 | fit_round 15 received 5 results and 0 failures\n",
      "DEBUG flwr 2023-08-31 20:58:02,581 | server.py:173 | evaluate_round 15: strategy sampled 5 clients (out of 10)\n"
     ]
    },
    {
     "name": "stdout",
     "output_type": "stream",
     "text": [
      "agrregate_fit results list length is  5\n",
      "Saving round 15 aggregated_parameters...\n"
     ]
    },
    {
     "name": "stderr",
     "output_type": "stream",
     "text": [
      "DEBUG flwr 2023-08-31 20:58:07,825 | server.py:187 | evaluate_round 15 received 5 results and 0 failures\n",
      "DEBUG flwr 2023-08-31 20:58:07,826 | server.py:222 | fit_round 16: strategy sampled 5 clients (out of 10)\n"
     ]
    },
    {
     "name": "stdout",
     "output_type": "stream",
     "text": [
      "agrregate_evaluate results list length is  5\n",
      "server round is  15\n",
      "loss is  0.2008834332227707\n"
     ]
    },
    {
     "name": "stderr",
     "output_type": "stream",
     "text": [
      "DEBUG flwr 2023-08-31 20:58:26,893 | server.py:236 | fit_round 16 received 5 results and 0 failures\n",
      "DEBUG flwr 2023-08-31 20:58:26,908 | server.py:173 | evaluate_round 16: strategy sampled 5 clients (out of 10)\n"
     ]
    },
    {
     "name": "stdout",
     "output_type": "stream",
     "text": [
      "agrregate_fit results list length is  5\n",
      "Saving round 16 aggregated_parameters...\n"
     ]
    },
    {
     "name": "stderr",
     "output_type": "stream",
     "text": [
      "DEBUG flwr 2023-08-31 20:58:32,555 | server.py:187 | evaluate_round 16 received 5 results and 0 failures\n",
      "DEBUG flwr 2023-08-31 20:58:32,556 | server.py:222 | fit_round 17: strategy sampled 5 clients (out of 10)\n"
     ]
    },
    {
     "name": "stdout",
     "output_type": "stream",
     "text": [
      "agrregate_evaluate results list length is  5\n",
      "server round is  16\n",
      "loss is  0.2013113796710968\n"
     ]
    },
    {
     "name": "stderr",
     "output_type": "stream",
     "text": [
      "DEBUG flwr 2023-08-31 20:58:52,741 | server.py:236 | fit_round 17 received 5 results and 0 failures\n",
      "DEBUG flwr 2023-08-31 20:58:52,765 | server.py:173 | evaluate_round 17: strategy sampled 5 clients (out of 10)\n"
     ]
    },
    {
     "name": "stdout",
     "output_type": "stream",
     "text": [
      "agrregate_fit results list length is  5\n",
      "Saving round 17 aggregated_parameters...\n"
     ]
    },
    {
     "name": "stderr",
     "output_type": "stream",
     "text": [
      "DEBUG flwr 2023-08-31 20:58:57,906 | server.py:187 | evaluate_round 17 received 5 results and 0 failures\n",
      "DEBUG flwr 2023-08-31 20:58:57,907 | server.py:222 | fit_round 18: strategy sampled 5 clients (out of 10)\n"
     ]
    },
    {
     "name": "stdout",
     "output_type": "stream",
     "text": [
      "agrregate_evaluate results list length is  5\n",
      "server round is  17\n",
      "loss is  0.20090308785438538\n"
     ]
    },
    {
     "name": "stderr",
     "output_type": "stream",
     "text": [
      "DEBUG flwr 2023-08-31 20:59:18,238 | server.py:236 | fit_round 18 received 5 results and 0 failures\n",
      "DEBUG flwr 2023-08-31 20:59:18,260 | server.py:173 | evaluate_round 18: strategy sampled 5 clients (out of 10)\n"
     ]
    },
    {
     "name": "stdout",
     "output_type": "stream",
     "text": [
      "agrregate_fit results list length is  5\n",
      "Saving round 18 aggregated_parameters...\n"
     ]
    },
    {
     "name": "stderr",
     "output_type": "stream",
     "text": [
      "DEBUG flwr 2023-08-31 20:59:23,174 | server.py:187 | evaluate_round 18 received 5 results and 0 failures\n",
      "DEBUG flwr 2023-08-31 20:59:23,176 | server.py:222 | fit_round 19: strategy sampled 5 clients (out of 10)\n"
     ]
    },
    {
     "name": "stdout",
     "output_type": "stream",
     "text": [
      "agrregate_evaluate results list length is  5\n",
      "server round is  18\n",
      "loss is  0.20129132270812988\n"
     ]
    },
    {
     "name": "stderr",
     "output_type": "stream",
     "text": [
      "DEBUG flwr 2023-08-31 20:59:42,635 | server.py:236 | fit_round 19 received 5 results and 0 failures\n",
      "DEBUG flwr 2023-08-31 20:59:42,652 | server.py:173 | evaluate_round 19: strategy sampled 5 clients (out of 10)\n"
     ]
    },
    {
     "name": "stdout",
     "output_type": "stream",
     "text": [
      "agrregate_fit results list length is  5\n",
      "Saving round 19 aggregated_parameters...\n"
     ]
    },
    {
     "name": "stderr",
     "output_type": "stream",
     "text": [
      "DEBUG flwr 2023-08-31 20:59:47,583 | server.py:187 | evaluate_round 19 received 5 results and 0 failures\n",
      "DEBUG flwr 2023-08-31 20:59:47,584 | server.py:222 | fit_round 20: strategy sampled 5 clients (out of 10)\n"
     ]
    },
    {
     "name": "stdout",
     "output_type": "stream",
     "text": [
      "agrregate_evaluate results list length is  5\n",
      "server round is  19\n",
      "loss is  0.20034687221050262\n"
     ]
    },
    {
     "name": "stderr",
     "output_type": "stream",
     "text": [
      "DEBUG flwr 2023-08-31 21:00:06,796 | server.py:236 | fit_round 20 received 5 results and 0 failures\n",
      "DEBUG flwr 2023-08-31 21:00:06,814 | server.py:173 | evaluate_round 20: strategy sampled 5 clients (out of 10)\n"
     ]
    },
    {
     "name": "stdout",
     "output_type": "stream",
     "text": [
      "agrregate_fit results list length is  5\n",
      "Saving round 20 aggregated_parameters...\n"
     ]
    },
    {
     "name": "stderr",
     "output_type": "stream",
     "text": [
      "DEBUG flwr 2023-08-31 21:00:12,696 | server.py:187 | evaluate_round 20 received 5 results and 0 failures\n",
      "DEBUG flwr 2023-08-31 21:00:12,697 | server.py:222 | fit_round 21: strategy sampled 5 clients (out of 10)\n"
     ]
    },
    {
     "name": "stdout",
     "output_type": "stream",
     "text": [
      "agrregate_evaluate results list length is  5\n",
      "server round is  20\n",
      "loss is  0.199854776263237\n"
     ]
    },
    {
     "name": "stderr",
     "output_type": "stream",
     "text": [
      "DEBUG flwr 2023-08-31 21:00:32,499 | server.py:236 | fit_round 21 received 5 results and 0 failures\n",
      "DEBUG flwr 2023-08-31 21:00:32,517 | server.py:173 | evaluate_round 21: strategy sampled 5 clients (out of 10)\n"
     ]
    },
    {
     "name": "stdout",
     "output_type": "stream",
     "text": [
      "agrregate_fit results list length is  5\n",
      "Saving round 21 aggregated_parameters...\n"
     ]
    },
    {
     "name": "stderr",
     "output_type": "stream",
     "text": [
      "DEBUG flwr 2023-08-31 21:00:37,915 | server.py:187 | evaluate_round 21 received 5 results and 0 failures\n",
      "DEBUG flwr 2023-08-31 21:00:37,917 | server.py:222 | fit_round 22: strategy sampled 5 clients (out of 10)\n"
     ]
    },
    {
     "name": "stdout",
     "output_type": "stream",
     "text": [
      "agrregate_evaluate results list length is  5\n",
      "server round is  21\n",
      "loss is  0.20022404193878174\n"
     ]
    },
    {
     "name": "stderr",
     "output_type": "stream",
     "text": [
      "DEBUG flwr 2023-08-31 21:00:57,493 | server.py:236 | fit_round 22 received 5 results and 0 failures\n",
      "DEBUG flwr 2023-08-31 21:00:57,510 | server.py:173 | evaluate_round 22: strategy sampled 5 clients (out of 10)\n"
     ]
    },
    {
     "name": "stdout",
     "output_type": "stream",
     "text": [
      "agrregate_fit results list length is  5\n",
      "Saving round 22 aggregated_parameters...\n"
     ]
    },
    {
     "name": "stderr",
     "output_type": "stream",
     "text": [
      "DEBUG flwr 2023-08-31 21:01:02,519 | server.py:187 | evaluate_round 22 received 5 results and 0 failures\n",
      "DEBUG flwr 2023-08-31 21:01:02,520 | server.py:222 | fit_round 23: strategy sampled 5 clients (out of 10)\n"
     ]
    },
    {
     "name": "stdout",
     "output_type": "stream",
     "text": [
      "agrregate_evaluate results list length is  5\n",
      "server round is  22\n",
      "loss is  0.20032906532287598\n"
     ]
    },
    {
     "name": "stderr",
     "output_type": "stream",
     "text": [
      "DEBUG flwr 2023-08-31 21:01:23,571 | server.py:236 | fit_round 23 received 5 results and 0 failures\n",
      "DEBUG flwr 2023-08-31 21:01:23,595 | server.py:173 | evaluate_round 23: strategy sampled 5 clients (out of 10)\n"
     ]
    },
    {
     "name": "stdout",
     "output_type": "stream",
     "text": [
      "agrregate_fit results list length is  5\n",
      "Saving round 23 aggregated_parameters...\n"
     ]
    },
    {
     "name": "stderr",
     "output_type": "stream",
     "text": [
      "DEBUG flwr 2023-08-31 21:01:28,814 | server.py:187 | evaluate_round 23 received 5 results and 0 failures\n",
      "DEBUG flwr 2023-08-31 21:01:28,815 | server.py:222 | fit_round 24: strategy sampled 5 clients (out of 10)\n"
     ]
    },
    {
     "name": "stdout",
     "output_type": "stream",
     "text": [
      "agrregate_evaluate results list length is  5\n",
      "server round is  23\n",
      "loss is  0.19949375092983246\n"
     ]
    },
    {
     "name": "stderr",
     "output_type": "stream",
     "text": [
      "DEBUG flwr 2023-08-31 21:01:48,435 | server.py:236 | fit_round 24 received 5 results and 0 failures\n",
      "DEBUG flwr 2023-08-31 21:01:48,453 | server.py:173 | evaluate_round 24: strategy sampled 5 clients (out of 10)\n"
     ]
    },
    {
     "name": "stdout",
     "output_type": "stream",
     "text": [
      "agrregate_fit results list length is  5\n",
      "Saving round 24 aggregated_parameters...\n"
     ]
    },
    {
     "name": "stderr",
     "output_type": "stream",
     "text": [
      "DEBUG flwr 2023-08-31 21:01:53,389 | server.py:187 | evaluate_round 24 received 5 results and 0 failures\n",
      "DEBUG flwr 2023-08-31 21:01:53,390 | server.py:222 | fit_round 25: strategy sampled 5 clients (out of 10)\n"
     ]
    },
    {
     "name": "stdout",
     "output_type": "stream",
     "text": [
      "agrregate_evaluate results list length is  5\n",
      "server round is  24\n",
      "loss is  0.1993088722229004\n"
     ]
    },
    {
     "name": "stderr",
     "output_type": "stream",
     "text": [
      "DEBUG flwr 2023-08-31 21:02:13,407 | server.py:236 | fit_round 25 received 5 results and 0 failures\n",
      "DEBUG flwr 2023-08-31 21:02:13,433 | server.py:173 | evaluate_round 25: strategy sampled 5 clients (out of 10)\n"
     ]
    },
    {
     "name": "stdout",
     "output_type": "stream",
     "text": [
      "agrregate_fit results list length is  5\n",
      "Saving round 25 aggregated_parameters...\n"
     ]
    },
    {
     "name": "stderr",
     "output_type": "stream",
     "text": [
      "DEBUG flwr 2023-08-31 21:02:18,512 | server.py:187 | evaluate_round 25 received 5 results and 0 failures\n",
      "INFO flwr 2023-08-31 21:02:18,514 | server.py:153 | FL finished in 636.0787664999953\n",
      "INFO flwr 2023-08-31 21:02:18,515 | app.py:225 | app_fit: losses_distributed [(1, 0.24608145654201508), (2, 0.24272729456424713), (3, 0.23020319640636444), (4, 0.21925793588161469), (5, 0.2124049812555313), (6, 0.20910555124282837), (7, 0.20631642639636993), (8, 0.20396791398525238), (9, 0.20480281114578247), (10, 0.20337146520614624), (11, 0.20283839106559753), (12, 0.20183557271957397), (13, 0.2011600285768509), (14, 0.20228014886379242), (15, 0.2008834332227707), (16, 0.2013113796710968), (17, 0.20090308785438538), (18, 0.20129132270812988), (19, 0.20034687221050262), (20, 0.199854776263237), (21, 0.20022404193878174), (22, 0.20032906532287598), (23, 0.19949375092983246), (24, 0.1993088722229004), (25, 0.19864104688167572)]\n",
      "INFO flwr 2023-08-31 21:02:18,516 | app.py:226 | app_fit: metrics_distributed_fit {}\n",
      "INFO flwr 2023-08-31 21:02:18,517 | app.py:227 | app_fit: metrics_distributed {'mse': [(1, 1.2304072827100754), (2, 1.2136364728212357), (3, 1.1510159820318222), (4, 1.0962896794080734), (5, 1.0620249062776566), (6, 1.0455277562141418), (7, 1.0315821319818497), (8, 1.019839569926262), (9, 1.0240140557289124), (10, 1.0168573260307312), (11, 1.0141919553279877), (12, 1.0091778635978699), (13, 1.0058001428842545), (14, 1.011400744318962), (15, 1.0044171661138535), (16, 1.006556898355484), (17, 1.0045154392719269), (18, 1.0064566135406494), (19, 1.0017343610525131), (20, 0.999273881316185), (21, 1.0011202096939087), (22, 1.0016453266143799), (23, 0.9974687546491623), (24, 0.996544361114502), (25, 0.9932052344083786)]}\n",
      "INFO flwr 2023-08-31 21:02:18,517 | app.py:228 | app_fit: losses_centralized []\n",
      "INFO flwr 2023-08-31 21:02:18,518 | app.py:229 | app_fit: metrics_centralized {}\n"
     ]
    },
    {
     "name": "stdout",
     "output_type": "stream",
     "text": [
      "agrregate_evaluate results list length is  5\n",
      "server round is  25\n",
      "loss is  0.19864104688167572\n",
      "History (loss, distributed):\n",
      "\tround 1: 0.24608145654201508\n",
      "\tround 2: 0.24272729456424713\n",
      "\tround 3: 0.23020319640636444\n",
      "\tround 4: 0.21925793588161469\n",
      "\tround 5: 0.2124049812555313\n",
      "\tround 6: 0.20910555124282837\n",
      "\tround 7: 0.20631642639636993\n",
      "\tround 8: 0.20396791398525238\n",
      "\tround 9: 0.20480281114578247\n",
      "\tround 10: 0.20337146520614624\n",
      "\tround 11: 0.20283839106559753\n",
      "\tround 12: 0.20183557271957397\n",
      "\tround 13: 0.2011600285768509\n",
      "\tround 14: 0.20228014886379242\n",
      "\tround 15: 0.2008834332227707\n",
      "\tround 16: 0.2013113796710968\n",
      "\tround 17: 0.20090308785438538\n",
      "\tround 18: 0.20129132270812988\n",
      "\tround 19: 0.20034687221050262\n",
      "\tround 20: 0.199854776263237\n",
      "\tround 21: 0.20022404193878174\n",
      "\tround 22: 0.20032906532287598\n",
      "\tround 23: 0.19949375092983246\n",
      "\tround 24: 0.1993088722229004\n",
      "\tround 25: 0.19864104688167572\n",
      "History (metrics, distributed, evaluate):\n",
      "{'mse': [(1, 1.2304072827100754), (2, 1.2136364728212357), (3, 1.1510159820318222), (4, 1.0962896794080734), (5, 1.0620249062776566), (6, 1.0455277562141418), (7, 1.0315821319818497), (8, 1.019839569926262), (9, 1.0240140557289124), (10, 1.0168573260307312), (11, 1.0141919553279877), (12, 1.0091778635978699), (13, 1.0058001428842545), (14, 1.011400744318962), (15, 1.0044171661138535), (16, 1.006556898355484), (17, 1.0045154392719269), (18, 1.0064566135406494), (19, 1.0017343610525131), (20, 0.999273881316185), (21, 1.0011202096939087), (22, 1.0016453266143799), (23, 0.9974687546491623), (24, 0.996544361114502), (25, 0.9932052344083786)]}\n",
      "[(1, 0.24608145654201508), (2, 0.24272729456424713), (3, 0.23020319640636444), (4, 0.21925793588161469), (5, 0.2124049812555313), (6, 0.20910555124282837), (7, 0.20631642639636993), (8, 0.20396791398525238), (9, 0.20480281114578247), (10, 0.20337146520614624), (11, 0.20283839106559753), (12, 0.20183557271957397), (13, 0.2011600285768509), (14, 0.20228014886379242), (15, 0.2008834332227707), (16, 0.2013113796710968), (17, 0.20090308785438538), (18, 0.20129132270812988), (19, 0.20034687221050262), (20, 0.199854776263237), (21, 0.20022404193878174), (22, 0.20032906532287598), (23, 0.19949375092983246), (24, 0.1993088722229004), (25, 0.19864104688167572)]\n",
      "Fold 2:\n",
      "splitting [0.1, 0.1, 0.1, 0.1, 0.1, 0.1, 0.1, 0.1, 0.1, 0.1]\n",
      "time 0:10:55.168549\n",
      "mse [0.19864105]\n",
      "auc [0.7514093471948409]\n"
     ]
    }
   ],
   "source": [
    "splitting = [0.1, 0.1, 0.1, 0.1, 0.1, 0.1, 0.1, 0.1, 0.1, 0.1]\n",
    "do_fl(splitting)"
   ],
   "metadata": {
    "collapsed": false,
    "ExecuteTime": {
     "end_time": "2023-08-31T20:02:18.866187100Z",
     "start_time": "2023-08-31T19:51:23.627823800Z"
    }
   }
  },
  {
   "cell_type": "code",
   "execution_count": 19,
   "outputs": [
    {
     "name": "stdout",
     "output_type": "stream",
     "text": [
      "Fold 1:\n",
      "x_test: cpu\n",
      "y_test: cpu\n"
     ]
    },
    {
     "name": "stderr",
     "output_type": "stream",
     "text": [
      "INFO flwr 2023-08-31 21:02:20,184 | app.py:145 | Starting Flower simulation, config: ServerConfig(num_rounds=25, round_timeout=None)\n"
     ]
    },
    {
     "name": "stdout",
     "output_type": "stream",
     "text": [
      "Client 0 trainset shape torch.Size([271302, 120])\n",
      "Client 1 trainset shape torch.Size([18080, 120])\n",
      "Client 2 trainset shape torch.Size([18058, 120])\n",
      "Client 3 trainset shape torch.Size([18058, 120])\n",
      "Client 4 trainset shape torch.Size([18162, 120])\n",
      "Client 5 trainset shape torch.Size([18130, 120])\n",
      "Client 6 trainset shape torch.Size([18170, 120])\n",
      "Client 7 trainset shape torch.Size([18052, 120])\n",
      "Client 8 trainset shape torch.Size([18026, 120])\n",
      "Client 9 trainset shape torch.Size([18110, 120])\n",
      "FL started training on cpu\n",
      "Number of available GPUs: 0\n"
     ]
    },
    {
     "name": "stderr",
     "output_type": "stream",
     "text": [
      "2023-08-31 21:02:30,122\tINFO worker.py:1627 -- Started a local Ray instance. View the dashboard at \u001B[1m\u001B[32m127.0.0.1:8268 \u001B[39m\u001B[22m\n",
      "INFO flwr 2023-08-31 21:02:35,710 | app.py:179 | Flower VCE: Ray initialized with resources: {'memory': 2931906971.0, 'object_store_memory': 1465953484.0, 'node:127.0.0.1': 1.0, 'CPU': 8.0, 'GPU': 1.0}\n",
      "INFO flwr 2023-08-31 21:02:35,712 | server.py:89 | Initializing global parameters\n",
      "INFO flwr 2023-08-31 21:02:35,713 | server.py:276 | Requesting initial parameters from one random client\n",
      "INFO flwr 2023-08-31 21:02:40,199 | server.py:280 | Received initial parameters from one random client\n",
      "INFO flwr 2023-08-31 21:02:40,200 | server.py:91 | Evaluating initial parameters\n",
      "INFO flwr 2023-08-31 21:02:40,201 | server.py:104 | FL starting\n",
      "DEBUG flwr 2023-08-31 21:02:40,202 | server.py:222 | fit_round 1: strategy sampled 5 clients (out of 10)\n",
      "DEBUG flwr 2023-08-31 21:02:53,113 | server.py:236 | fit_round 1 received 5 results and 0 failures\n",
      "WARNING flwr 2023-08-31 21:02:53,128 | fedavg.py:242 | No fit_metrics_aggregation_fn provided\n",
      "DEBUG flwr 2023-08-31 21:02:53,135 | server.py:173 | evaluate_round 1: strategy sampled 5 clients (out of 10)\n"
     ]
    },
    {
     "name": "stdout",
     "output_type": "stream",
     "text": [
      "agrregate_fit results list length is  5\n",
      "Saving round 1 aggregated_parameters...\n"
     ]
    },
    {
     "name": "stderr",
     "output_type": "stream",
     "text": [
      "DEBUG flwr 2023-08-31 21:02:59,301 | server.py:187 | evaluate_round 1 received 5 results and 0 failures\n",
      "DEBUG flwr 2023-08-31 21:02:59,306 | server.py:222 | fit_round 2: strategy sampled 5 clients (out of 10)\n"
     ]
    },
    {
     "name": "stdout",
     "output_type": "stream",
     "text": [
      "agrregate_evaluate results list length is  5\n",
      "server round is  1\n",
      "loss is  0.27223438024520874\n"
     ]
    },
    {
     "name": "stderr",
     "output_type": "stream",
     "text": [
      "DEBUG flwr 2023-08-31 21:03:41,194 | server.py:236 | fit_round 2 received 5 results and 0 failures\n",
      "DEBUG flwr 2023-08-31 21:03:41,225 | server.py:173 | evaluate_round 2: strategy sampled 5 clients (out of 10)\n"
     ]
    },
    {
     "name": "stdout",
     "output_type": "stream",
     "text": [
      "agrregate_fit results list length is  5\n",
      "Saving round 2 aggregated_parameters...\n"
     ]
    },
    {
     "name": "stderr",
     "output_type": "stream",
     "text": [
      "DEBUG flwr 2023-08-31 21:03:45,058 | server.py:187 | evaluate_round 2 received 5 results and 0 failures\n",
      "DEBUG flwr 2023-08-31 21:03:45,059 | server.py:222 | fit_round 3: strategy sampled 5 clients (out of 10)\n"
     ]
    },
    {
     "name": "stdout",
     "output_type": "stream",
     "text": [
      "agrregate_evaluate results list length is  5\n",
      "server round is  2\n",
      "loss is  0.22088676691055298\n"
     ]
    },
    {
     "name": "stderr",
     "output_type": "stream",
     "text": [
      "DEBUG flwr 2023-08-31 21:04:24,426 | server.py:236 | fit_round 3 received 5 results and 0 failures\n",
      "DEBUG flwr 2023-08-31 21:04:24,460 | server.py:173 | evaluate_round 3: strategy sampled 5 clients (out of 10)\n"
     ]
    },
    {
     "name": "stdout",
     "output_type": "stream",
     "text": [
      "agrregate_fit results list length is  5\n",
      "Saving round 3 aggregated_parameters...\n"
     ]
    },
    {
     "name": "stderr",
     "output_type": "stream",
     "text": [
      "DEBUG flwr 2023-08-31 21:04:29,098 | server.py:187 | evaluate_round 3 received 5 results and 0 failures\n",
      "DEBUG flwr 2023-08-31 21:04:29,099 | server.py:222 | fit_round 4: strategy sampled 5 clients (out of 10)\n"
     ]
    },
    {
     "name": "stdout",
     "output_type": "stream",
     "text": [
      "agrregate_evaluate results list length is  5\n",
      "server round is  3\n",
      "loss is  0.20534662902355194\n"
     ]
    },
    {
     "name": "stderr",
     "output_type": "stream",
     "text": [
      "DEBUG flwr 2023-08-31 21:04:40,011 | server.py:236 | fit_round 4 received 5 results and 0 failures\n",
      "DEBUG flwr 2023-08-31 21:04:40,034 | server.py:173 | evaluate_round 4: strategy sampled 5 clients (out of 10)\n"
     ]
    },
    {
     "name": "stdout",
     "output_type": "stream",
     "text": [
      "agrregate_fit results list length is  5\n",
      "Saving round 4 aggregated_parameters...\n"
     ]
    },
    {
     "name": "stderr",
     "output_type": "stream",
     "text": [
      "DEBUG flwr 2023-08-31 21:04:44,393 | server.py:187 | evaluate_round 4 received 5 results and 0 failures\n",
      "DEBUG flwr 2023-08-31 21:04:44,394 | server.py:222 | fit_round 5: strategy sampled 5 clients (out of 10)\n"
     ]
    },
    {
     "name": "stdout",
     "output_type": "stream",
     "text": [
      "agrregate_evaluate results list length is  5\n",
      "server round is  4\n",
      "loss is  0.2049075812101364\n"
     ]
    },
    {
     "name": "stderr",
     "output_type": "stream",
     "text": [
      "DEBUG flwr 2023-08-31 21:05:24,727 | server.py:236 | fit_round 5 received 5 results and 0 failures\n",
      "DEBUG flwr 2023-08-31 21:05:24,751 | server.py:173 | evaluate_round 5: strategy sampled 5 clients (out of 10)\n"
     ]
    },
    {
     "name": "stdout",
     "output_type": "stream",
     "text": [
      "agrregate_fit results list length is  5\n",
      "Saving round 5 aggregated_parameters...\n"
     ]
    },
    {
     "name": "stderr",
     "output_type": "stream",
     "text": [
      "DEBUG flwr 2023-08-31 21:05:28,571 | server.py:187 | evaluate_round 5 received 5 results and 0 failures\n",
      "DEBUG flwr 2023-08-31 21:05:28,572 | server.py:222 | fit_round 6: strategy sampled 5 clients (out of 10)\n"
     ]
    },
    {
     "name": "stdout",
     "output_type": "stream",
     "text": [
      "agrregate_evaluate results list length is  5\n",
      "server round is  5\n",
      "loss is  0.20225346088409424\n"
     ]
    },
    {
     "name": "stderr",
     "output_type": "stream",
     "text": [
      "DEBUG flwr 2023-08-31 21:06:08,101 | server.py:236 | fit_round 6 received 5 results and 0 failures\n",
      "DEBUG flwr 2023-08-31 21:06:08,120 | server.py:173 | evaluate_round 6: strategy sampled 5 clients (out of 10)\n"
     ]
    },
    {
     "name": "stdout",
     "output_type": "stream",
     "text": [
      "agrregate_fit results list length is  5\n",
      "Saving round 6 aggregated_parameters...\n"
     ]
    },
    {
     "name": "stderr",
     "output_type": "stream",
     "text": [
      "DEBUG flwr 2023-08-31 21:06:11,863 | server.py:187 | evaluate_round 6 received 5 results and 0 failures\n",
      "DEBUG flwr 2023-08-31 21:06:11,864 | server.py:222 | fit_round 7: strategy sampled 5 clients (out of 10)\n"
     ]
    },
    {
     "name": "stdout",
     "output_type": "stream",
     "text": [
      "agrregate_evaluate results list length is  5\n",
      "server round is  6\n",
      "loss is  0.20058108866214752\n"
     ]
    },
    {
     "name": "stderr",
     "output_type": "stream",
     "text": [
      "DEBUG flwr 2023-08-31 21:06:51,277 | server.py:236 | fit_round 7 received 5 results and 0 failures\n",
      "DEBUG flwr 2023-08-31 21:06:51,297 | server.py:173 | evaluate_round 7: strategy sampled 5 clients (out of 10)\n"
     ]
    },
    {
     "name": "stdout",
     "output_type": "stream",
     "text": [
      "agrregate_fit results list length is  5\n",
      "Saving round 7 aggregated_parameters...\n"
     ]
    },
    {
     "name": "stderr",
     "output_type": "stream",
     "text": [
      "DEBUG flwr 2023-08-31 21:06:56,054 | server.py:187 | evaluate_round 7 received 5 results and 0 failures\n",
      "DEBUG flwr 2023-08-31 21:06:56,062 | server.py:222 | fit_round 8: strategy sampled 5 clients (out of 10)\n"
     ]
    },
    {
     "name": "stdout",
     "output_type": "stream",
     "text": [
      "agrregate_evaluate results list length is  5\n",
      "server round is  7\n",
      "loss is  0.19882579147815704\n"
     ]
    },
    {
     "name": "stderr",
     "output_type": "stream",
     "text": [
      "DEBUG flwr 2023-08-31 21:07:07,118 | server.py:236 | fit_round 8 received 5 results and 0 failures\n",
      "DEBUG flwr 2023-08-31 21:07:07,147 | server.py:173 | evaluate_round 8: strategy sampled 5 clients (out of 10)\n"
     ]
    },
    {
     "name": "stdout",
     "output_type": "stream",
     "text": [
      "agrregate_fit results list length is  5\n",
      "Saving round 8 aggregated_parameters...\n"
     ]
    },
    {
     "name": "stderr",
     "output_type": "stream",
     "text": [
      "DEBUG flwr 2023-08-31 21:07:11,360 | server.py:187 | evaluate_round 8 received 5 results and 0 failures\n",
      "DEBUG flwr 2023-08-31 21:07:11,362 | server.py:222 | fit_round 9: strategy sampled 5 clients (out of 10)\n"
     ]
    },
    {
     "name": "stdout",
     "output_type": "stream",
     "text": [
      "agrregate_evaluate results list length is  5\n",
      "server round is  8\n",
      "loss is  0.19986529648303986\n"
     ]
    },
    {
     "name": "stderr",
     "output_type": "stream",
     "text": [
      "DEBUG flwr 2023-08-31 21:07:21,550 | server.py:236 | fit_round 9 received 5 results and 0 failures\n",
      "DEBUG flwr 2023-08-31 21:07:21,579 | server.py:173 | evaluate_round 9: strategy sampled 5 clients (out of 10)\n"
     ]
    },
    {
     "name": "stdout",
     "output_type": "stream",
     "text": [
      "agrregate_fit results list length is  5\n",
      "Saving round 9 aggregated_parameters...\n"
     ]
    },
    {
     "name": "stderr",
     "output_type": "stream",
     "text": [
      "DEBUG flwr 2023-08-31 21:07:25,682 | server.py:187 | evaluate_round 9 received 5 results and 0 failures\n",
      "DEBUG flwr 2023-08-31 21:07:25,683 | server.py:222 | fit_round 10: strategy sampled 5 clients (out of 10)\n"
     ]
    },
    {
     "name": "stdout",
     "output_type": "stream",
     "text": [
      "agrregate_evaluate results list length is  5\n",
      "server round is  9\n",
      "loss is  0.19957146048545837\n"
     ]
    },
    {
     "name": "stderr",
     "output_type": "stream",
     "text": [
      "DEBUG flwr 2023-08-31 21:08:05,628 | server.py:236 | fit_round 10 received 5 results and 0 failures\n",
      "DEBUG flwr 2023-08-31 21:08:05,655 | server.py:173 | evaluate_round 10: strategy sampled 5 clients (out of 10)\n"
     ]
    },
    {
     "name": "stdout",
     "output_type": "stream",
     "text": [
      "agrregate_fit results list length is  5\n",
      "Saving round 10 aggregated_parameters...\n"
     ]
    },
    {
     "name": "stderr",
     "output_type": "stream",
     "text": [
      "DEBUG flwr 2023-08-31 21:08:09,807 | server.py:187 | evaluate_round 10 received 5 results and 0 failures\n",
      "DEBUG flwr 2023-08-31 21:08:09,808 | server.py:222 | fit_round 11: strategy sampled 5 clients (out of 10)\n"
     ]
    },
    {
     "name": "stdout",
     "output_type": "stream",
     "text": [
      "agrregate_evaluate results list length is  5\n",
      "server round is  10\n",
      "loss is  0.19781704246997833\n"
     ]
    },
    {
     "name": "stderr",
     "output_type": "stream",
     "text": [
      "DEBUG flwr 2023-08-31 21:08:19,858 | server.py:236 | fit_round 11 received 5 results and 0 failures\n",
      "DEBUG flwr 2023-08-31 21:08:19,876 | server.py:173 | evaluate_round 11: strategy sampled 5 clients (out of 10)\n"
     ]
    },
    {
     "name": "stdout",
     "output_type": "stream",
     "text": [
      "agrregate_fit results list length is  5\n",
      "Saving round 11 aggregated_parameters...\n"
     ]
    },
    {
     "name": "stderr",
     "output_type": "stream",
     "text": [
      "DEBUG flwr 2023-08-31 21:08:23,783 | server.py:187 | evaluate_round 11 received 5 results and 0 failures\n",
      "DEBUG flwr 2023-08-31 21:08:23,785 | server.py:222 | fit_round 12: strategy sampled 5 clients (out of 10)\n"
     ]
    },
    {
     "name": "stdout",
     "output_type": "stream",
     "text": [
      "agrregate_evaluate results list length is  5\n",
      "server round is  11\n",
      "loss is  0.20004689693450928\n"
     ]
    },
    {
     "name": "stderr",
     "output_type": "stream",
     "text": [
      "DEBUG flwr 2023-08-31 21:09:02,550 | server.py:236 | fit_round 12 received 5 results and 0 failures\n",
      "DEBUG flwr 2023-08-31 21:09:02,565 | server.py:173 | evaluate_round 12: strategy sampled 5 clients (out of 10)\n"
     ]
    },
    {
     "name": "stdout",
     "output_type": "stream",
     "text": [
      "agrregate_fit results list length is  5\n",
      "Saving round 12 aggregated_parameters...\n"
     ]
    },
    {
     "name": "stderr",
     "output_type": "stream",
     "text": [
      "DEBUG flwr 2023-08-31 21:09:06,920 | server.py:187 | evaluate_round 12 received 5 results and 0 failures\n",
      "DEBUG flwr 2023-08-31 21:09:06,921 | server.py:222 | fit_round 13: strategy sampled 5 clients (out of 10)\n"
     ]
    },
    {
     "name": "stdout",
     "output_type": "stream",
     "text": [
      "agrregate_evaluate results list length is  5\n",
      "server round is  12\n",
      "loss is  0.19951999187469482\n"
     ]
    },
    {
     "name": "stderr",
     "output_type": "stream",
     "text": [
      "DEBUG flwr 2023-08-31 21:09:46,158 | server.py:236 | fit_round 13 received 5 results and 0 failures\n",
      "DEBUG flwr 2023-08-31 21:09:46,179 | server.py:173 | evaluate_round 13: strategy sampled 5 clients (out of 10)\n"
     ]
    },
    {
     "name": "stdout",
     "output_type": "stream",
     "text": [
      "agrregate_fit results list length is  5\n",
      "Saving round 13 aggregated_parameters...\n"
     ]
    },
    {
     "name": "stderr",
     "output_type": "stream",
     "text": [
      "DEBUG flwr 2023-08-31 21:09:49,904 | server.py:187 | evaluate_round 13 received 5 results and 0 failures\n",
      "DEBUG flwr 2023-08-31 21:09:49,905 | server.py:222 | fit_round 14: strategy sampled 5 clients (out of 10)\n"
     ]
    },
    {
     "name": "stdout",
     "output_type": "stream",
     "text": [
      "agrregate_evaluate results list length is  5\n",
      "server round is  13\n",
      "loss is  0.19682270288467407\n"
     ]
    },
    {
     "name": "stderr",
     "output_type": "stream",
     "text": [
      "DEBUG flwr 2023-08-31 21:10:28,591 | server.py:236 | fit_round 14 received 5 results and 0 failures\n",
      "DEBUG flwr 2023-08-31 21:10:28,607 | server.py:173 | evaluate_round 14: strategy sampled 5 clients (out of 10)\n"
     ]
    },
    {
     "name": "stdout",
     "output_type": "stream",
     "text": [
      "agrregate_fit results list length is  5\n",
      "Saving round 14 aggregated_parameters...\n"
     ]
    },
    {
     "name": "stderr",
     "output_type": "stream",
     "text": [
      "DEBUG flwr 2023-08-31 21:10:33,127 | server.py:187 | evaluate_round 14 received 5 results and 0 failures\n",
      "DEBUG flwr 2023-08-31 21:10:33,128 | server.py:222 | fit_round 15: strategy sampled 5 clients (out of 10)\n"
     ]
    },
    {
     "name": "stdout",
     "output_type": "stream",
     "text": [
      "agrregate_evaluate results list length is  5\n",
      "server round is  14\n",
      "loss is  0.1983983963727951\n"
     ]
    },
    {
     "name": "stderr",
     "output_type": "stream",
     "text": [
      "DEBUG flwr 2023-08-31 21:10:44,607 | server.py:236 | fit_round 15 received 5 results and 0 failures\n",
      "DEBUG flwr 2023-08-31 21:10:44,627 | server.py:173 | evaluate_round 15: strategy sampled 5 clients (out of 10)\n"
     ]
    },
    {
     "name": "stdout",
     "output_type": "stream",
     "text": [
      "agrregate_fit results list length is  5\n",
      "Saving round 15 aggregated_parameters...\n"
     ]
    },
    {
     "name": "stderr",
     "output_type": "stream",
     "text": [
      "DEBUG flwr 2023-08-31 21:10:48,729 | server.py:187 | evaluate_round 15 received 5 results and 0 failures\n",
      "DEBUG flwr 2023-08-31 21:10:48,730 | server.py:222 | fit_round 16: strategy sampled 5 clients (out of 10)\n"
     ]
    },
    {
     "name": "stdout",
     "output_type": "stream",
     "text": [
      "agrregate_evaluate results list length is  5\n",
      "server round is  15\n",
      "loss is  0.19799776375293732\n"
     ]
    },
    {
     "name": "stderr",
     "output_type": "stream",
     "text": [
      "DEBUG flwr 2023-08-31 21:10:58,092 | server.py:236 | fit_round 16 received 5 results and 0 failures\n",
      "DEBUG flwr 2023-08-31 21:10:58,116 | server.py:173 | evaluate_round 16: strategy sampled 5 clients (out of 10)\n"
     ]
    },
    {
     "name": "stdout",
     "output_type": "stream",
     "text": [
      "agrregate_fit results list length is  5\n",
      "Saving round 16 aggregated_parameters...\n"
     ]
    },
    {
     "name": "stderr",
     "output_type": "stream",
     "text": [
      "DEBUG flwr 2023-08-31 21:11:01,887 | server.py:187 | evaluate_round 16 received 5 results and 0 failures\n",
      "DEBUG flwr 2023-08-31 21:11:01,889 | server.py:222 | fit_round 17: strategy sampled 5 clients (out of 10)\n"
     ]
    },
    {
     "name": "stdout",
     "output_type": "stream",
     "text": [
      "agrregate_evaluate results list length is  5\n",
      "server round is  16\n",
      "loss is  0.19781434535980225\n"
     ]
    },
    {
     "name": "stderr",
     "output_type": "stream",
     "text": [
      "DEBUG flwr 2023-08-31 21:11:41,085 | server.py:236 | fit_round 17 received 5 results and 0 failures\n",
      "DEBUG flwr 2023-08-31 21:11:41,099 | server.py:173 | evaluate_round 17: strategy sampled 5 clients (out of 10)\n"
     ]
    },
    {
     "name": "stdout",
     "output_type": "stream",
     "text": [
      "agrregate_fit results list length is  5\n",
      "Saving round 17 aggregated_parameters...\n"
     ]
    },
    {
     "name": "stderr",
     "output_type": "stream",
     "text": [
      "DEBUG flwr 2023-08-31 21:11:44,798 | server.py:187 | evaluate_round 17 received 5 results and 0 failures\n",
      "DEBUG flwr 2023-08-31 21:11:44,799 | server.py:222 | fit_round 18: strategy sampled 5 clients (out of 10)\n"
     ]
    },
    {
     "name": "stdout",
     "output_type": "stream",
     "text": [
      "agrregate_evaluate results list length is  5\n",
      "server round is  17\n",
      "loss is  0.19675888121128082\n"
     ]
    },
    {
     "name": "stderr",
     "output_type": "stream",
     "text": [
      "DEBUG flwr 2023-08-31 21:11:54,657 | server.py:236 | fit_round 18 received 5 results and 0 failures\n",
      "DEBUG flwr 2023-08-31 21:11:54,673 | server.py:173 | evaluate_round 18: strategy sampled 5 clients (out of 10)\n"
     ]
    },
    {
     "name": "stdout",
     "output_type": "stream",
     "text": [
      "agrregate_fit results list length is  5\n",
      "Saving round 18 aggregated_parameters...\n"
     ]
    },
    {
     "name": "stderr",
     "output_type": "stream",
     "text": [
      "DEBUG flwr 2023-08-31 21:11:58,419 | server.py:187 | evaluate_round 18 received 5 results and 0 failures\n",
      "DEBUG flwr 2023-08-31 21:11:58,420 | server.py:222 | fit_round 19: strategy sampled 5 clients (out of 10)\n"
     ]
    },
    {
     "name": "stdout",
     "output_type": "stream",
     "text": [
      "agrregate_evaluate results list length is  5\n",
      "server round is  18\n",
      "loss is  0.1977062225341797\n"
     ]
    },
    {
     "name": "stderr",
     "output_type": "stream",
     "text": [
      "DEBUG flwr 2023-08-31 21:12:07,914 | server.py:236 | fit_round 19 received 5 results and 0 failures\n",
      "DEBUG flwr 2023-08-31 21:12:07,929 | server.py:173 | evaluate_round 19: strategy sampled 5 clients (out of 10)\n"
     ]
    },
    {
     "name": "stdout",
     "output_type": "stream",
     "text": [
      "agrregate_fit results list length is  5\n",
      "Saving round 19 aggregated_parameters...\n"
     ]
    },
    {
     "name": "stderr",
     "output_type": "stream",
     "text": [
      "DEBUG flwr 2023-08-31 21:12:11,683 | server.py:187 | evaluate_round 19 received 5 results and 0 failures\n",
      "DEBUG flwr 2023-08-31 21:12:11,685 | server.py:222 | fit_round 20: strategy sampled 5 clients (out of 10)\n"
     ]
    },
    {
     "name": "stdout",
     "output_type": "stream",
     "text": [
      "agrregate_evaluate results list length is  5\n",
      "server round is  19\n",
      "loss is  0.19657933712005615\n"
     ]
    },
    {
     "name": "stderr",
     "output_type": "stream",
     "text": [
      "DEBUG flwr 2023-08-31 21:12:51,140 | server.py:236 | fit_round 20 received 5 results and 0 failures\n",
      "DEBUG flwr 2023-08-31 21:12:51,162 | server.py:173 | evaluate_round 20: strategy sampled 5 clients (out of 10)\n"
     ]
    },
    {
     "name": "stdout",
     "output_type": "stream",
     "text": [
      "agrregate_fit results list length is  5\n",
      "Saving round 20 aggregated_parameters...\n"
     ]
    },
    {
     "name": "stderr",
     "output_type": "stream",
     "text": [
      "DEBUG flwr 2023-08-31 21:12:55,352 | server.py:187 | evaluate_round 20 received 5 results and 0 failures\n",
      "DEBUG flwr 2023-08-31 21:12:55,355 | server.py:222 | fit_round 21: strategy sampled 5 clients (out of 10)\n"
     ]
    },
    {
     "name": "stdout",
     "output_type": "stream",
     "text": [
      "agrregate_evaluate results list length is  5\n",
      "server round is  20\n",
      "loss is  0.19749577343463898\n"
     ]
    },
    {
     "name": "stderr",
     "output_type": "stream",
     "text": [
      "DEBUG flwr 2023-08-31 21:13:35,559 | server.py:236 | fit_round 21 received 5 results and 0 failures\n",
      "DEBUG flwr 2023-08-31 21:13:35,577 | server.py:173 | evaluate_round 21: strategy sampled 5 clients (out of 10)\n"
     ]
    },
    {
     "name": "stdout",
     "output_type": "stream",
     "text": [
      "agrregate_fit results list length is  5\n",
      "Saving round 21 aggregated_parameters...\n"
     ]
    },
    {
     "name": "stderr",
     "output_type": "stream",
     "text": [
      "DEBUG flwr 2023-08-31 21:13:39,813 | server.py:187 | evaluate_round 21 received 5 results and 0 failures\n",
      "DEBUG flwr 2023-08-31 21:13:39,815 | server.py:222 | fit_round 22: strategy sampled 5 clients (out of 10)\n"
     ]
    },
    {
     "name": "stdout",
     "output_type": "stream",
     "text": [
      "agrregate_evaluate results list length is  5\n",
      "server round is  21\n",
      "loss is  0.1981920450925827\n"
     ]
    },
    {
     "name": "stderr",
     "output_type": "stream",
     "text": [
      "DEBUG flwr 2023-08-31 21:14:22,720 | server.py:236 | fit_round 22 received 5 results and 0 failures\n",
      "DEBUG flwr 2023-08-31 21:14:22,738 | server.py:173 | evaluate_round 22: strategy sampled 5 clients (out of 10)\n"
     ]
    },
    {
     "name": "stdout",
     "output_type": "stream",
     "text": [
      "agrregate_fit results list length is  5\n",
      "Saving round 22 aggregated_parameters...\n"
     ]
    },
    {
     "name": "stderr",
     "output_type": "stream",
     "text": [
      "DEBUG flwr 2023-08-31 21:14:26,693 | server.py:187 | evaluate_round 22 received 5 results and 0 failures\n",
      "DEBUG flwr 2023-08-31 21:14:26,694 | server.py:222 | fit_round 23: strategy sampled 5 clients (out of 10)\n"
     ]
    },
    {
     "name": "stdout",
     "output_type": "stream",
     "text": [
      "agrregate_evaluate results list length is  5\n",
      "server round is  22\n",
      "loss is  0.19772869348526\n"
     ]
    },
    {
     "name": "stderr",
     "output_type": "stream",
     "text": [
      "DEBUG flwr 2023-08-31 21:14:37,139 | server.py:236 | fit_round 23 received 5 results and 0 failures\n",
      "DEBUG flwr 2023-08-31 21:14:37,166 | server.py:173 | evaluate_round 23: strategy sampled 5 clients (out of 10)\n"
     ]
    },
    {
     "name": "stdout",
     "output_type": "stream",
     "text": [
      "agrregate_fit results list length is  5\n",
      "Saving round 23 aggregated_parameters...\n"
     ]
    },
    {
     "name": "stderr",
     "output_type": "stream",
     "text": [
      "DEBUG flwr 2023-08-31 21:14:41,073 | server.py:187 | evaluate_round 23 received 5 results and 0 failures\n",
      "DEBUG flwr 2023-08-31 21:14:41,074 | server.py:222 | fit_round 24: strategy sampled 5 clients (out of 10)\n"
     ]
    },
    {
     "name": "stdout",
     "output_type": "stream",
     "text": [
      "agrregate_evaluate results list length is  5\n",
      "server round is  23\n",
      "loss is  0.19865518808364868\n"
     ]
    },
    {
     "name": "stderr",
     "output_type": "stream",
     "text": [
      "DEBUG flwr 2023-08-31 21:15:20,088 | server.py:236 | fit_round 24 received 5 results and 0 failures\n",
      "DEBUG flwr 2023-08-31 21:15:20,116 | server.py:173 | evaluate_round 24: strategy sampled 5 clients (out of 10)\n"
     ]
    },
    {
     "name": "stdout",
     "output_type": "stream",
     "text": [
      "agrregate_fit results list length is  5\n",
      "Saving round 24 aggregated_parameters...\n"
     ]
    },
    {
     "name": "stderr",
     "output_type": "stream",
     "text": [
      "DEBUG flwr 2023-08-31 21:15:24,207 | server.py:187 | evaluate_round 24 received 5 results and 0 failures\n",
      "DEBUG flwr 2023-08-31 21:15:24,209 | server.py:222 | fit_round 25: strategy sampled 5 clients (out of 10)\n"
     ]
    },
    {
     "name": "stdout",
     "output_type": "stream",
     "text": [
      "agrregate_evaluate results list length is  5\n",
      "server round is  24\n",
      "loss is  0.1955297440290451\n"
     ]
    },
    {
     "name": "stderr",
     "output_type": "stream",
     "text": [
      "DEBUG flwr 2023-08-31 21:16:03,579 | server.py:236 | fit_round 25 received 5 results and 0 failures\n",
      "DEBUG flwr 2023-08-31 21:16:03,597 | server.py:173 | evaluate_round 25: strategy sampled 5 clients (out of 10)\n"
     ]
    },
    {
     "name": "stdout",
     "output_type": "stream",
     "text": [
      "agrregate_fit results list length is  5\n",
      "Saving round 25 aggregated_parameters...\n"
     ]
    },
    {
     "name": "stderr",
     "output_type": "stream",
     "text": [
      "DEBUG flwr 2023-08-31 21:16:07,382 | server.py:187 | evaluate_round 25 received 5 results and 0 failures\n",
      "INFO flwr 2023-08-31 21:16:07,384 | server.py:153 | FL finished in 807.1818660999998\n",
      "INFO flwr 2023-08-31 21:16:07,386 | app.py:225 | app_fit: losses_distributed [(1, 0.27223438024520874), (2, 0.22088676691055298), (3, 0.20534662902355194), (4, 0.2049075812101364), (5, 0.20225346088409424), (6, 0.20058108866214752), (7, 0.19882579147815704), (8, 0.19986529648303986), (9, 0.19957146048545837), (10, 0.19781704246997833), (11, 0.20004689693450928), (12, 0.19951999187469482), (13, 0.19682270288467407), (14, 0.1983983963727951), (15, 0.19799776375293732), (16, 0.19781434535980225), (17, 0.19675888121128082), (18, 0.1977062225341797), (19, 0.19657933712005615), (20, 0.19749577343463898), (21, 0.1981920450925827), (22, 0.19772869348526), (23, 0.19865518808364868), (24, 0.1955297440290451), (25, 0.19481030106544495)]\n",
      "INFO flwr 2023-08-31 21:16:07,387 | app.py:226 | app_fit: metrics_distributed_fit {}\n",
      "INFO flwr 2023-08-31 21:16:07,388 | app.py:227 | app_fit: metrics_distributed {'mse': [(1, 1.3611719012260437), (2, 1.104433834552765), (3, 1.0267331451177597), (4, 1.024537906050682), (5, 1.0112673044204712), (6, 1.0029054433107376), (7, 0.9941289573907852), (8, 0.9993264824151993), (9, 0.9978573024272919), (10, 0.9890852123498917), (11, 1.0002344846725464), (12, 0.9975999593734741), (13, 0.9841135144233704), (14, 0.9919919818639755), (15, 0.9899888187646866), (16, 0.9890717267990112), (17, 0.9837944060564041), (18, 0.9885311126708984), (19, 0.9828966856002808), (20, 0.9874788671731949), (21, 0.9909602254629135), (22, 0.9886434674263), (23, 0.9932759404182434), (24, 0.9776487201452255), (25, 0.9740515053272247)]}\n",
      "INFO flwr 2023-08-31 21:16:07,389 | app.py:228 | app_fit: losses_centralized []\n",
      "INFO flwr 2023-08-31 21:16:07,389 | app.py:229 | app_fit: metrics_centralized {}\n"
     ]
    },
    {
     "name": "stdout",
     "output_type": "stream",
     "text": [
      "agrregate_evaluate results list length is  5\n",
      "server round is  25\n",
      "loss is  0.19481030106544495\n",
      "History (loss, distributed):\n",
      "\tround 1: 0.27223438024520874\n",
      "\tround 2: 0.22088676691055298\n",
      "\tround 3: 0.20534662902355194\n",
      "\tround 4: 0.2049075812101364\n",
      "\tround 5: 0.20225346088409424\n",
      "\tround 6: 0.20058108866214752\n",
      "\tround 7: 0.19882579147815704\n",
      "\tround 8: 0.19986529648303986\n",
      "\tround 9: 0.19957146048545837\n",
      "\tround 10: 0.19781704246997833\n",
      "\tround 11: 0.20004689693450928\n",
      "\tround 12: 0.19951999187469482\n",
      "\tround 13: 0.19682270288467407\n",
      "\tround 14: 0.1983983963727951\n",
      "\tround 15: 0.19799776375293732\n",
      "\tround 16: 0.19781434535980225\n",
      "\tround 17: 0.19675888121128082\n",
      "\tround 18: 0.1977062225341797\n",
      "\tround 19: 0.19657933712005615\n",
      "\tround 20: 0.19749577343463898\n",
      "\tround 21: 0.1981920450925827\n",
      "\tround 22: 0.19772869348526\n",
      "\tround 23: 0.19865518808364868\n",
      "\tround 24: 0.1955297440290451\n",
      "\tround 25: 0.19481030106544495\n",
      "History (metrics, distributed, evaluate):\n",
      "{'mse': [(1, 1.3611719012260437), (2, 1.104433834552765), (3, 1.0267331451177597), (4, 1.024537906050682), (5, 1.0112673044204712), (6, 1.0029054433107376), (7, 0.9941289573907852), (8, 0.9993264824151993), (9, 0.9978573024272919), (10, 0.9890852123498917), (11, 1.0002344846725464), (12, 0.9975999593734741), (13, 0.9841135144233704), (14, 0.9919919818639755), (15, 0.9899888187646866), (16, 0.9890717267990112), (17, 0.9837944060564041), (18, 0.9885311126708984), (19, 0.9828966856002808), (20, 0.9874788671731949), (21, 0.9909602254629135), (22, 0.9886434674263), (23, 0.9932759404182434), (24, 0.9776487201452255), (25, 0.9740515053272247)]}\n",
      "[(1, 0.27223438024520874), (2, 0.22088676691055298), (3, 0.20534662902355194), (4, 0.2049075812101364), (5, 0.20225346088409424), (6, 0.20058108866214752), (7, 0.19882579147815704), (8, 0.19986529648303986), (9, 0.19957146048545837), (10, 0.19781704246997833), (11, 0.20004689693450928), (12, 0.19951999187469482), (13, 0.19682270288467407), (14, 0.1983983963727951), (15, 0.19799776375293732), (16, 0.19781434535980225), (17, 0.19675888121128082), (18, 0.1977062225341797), (19, 0.19657933712005615), (20, 0.19749577343463898), (21, 0.1981920450925827), (22, 0.19772869348526), (23, 0.19865518808364868), (24, 0.1955297440290451), (25, 0.19481030106544495)]\n",
      "Fold 2:\n",
      "splitting [0.6, 0.05, 0.05, 0.05, 0.05, 0.04, 0.04, 0.04, 0.04, 0.04]\n",
      "time 0:13:48.801925\n",
      "mse [0.1948103]\n",
      "auc [0.7526553645870238]\n"
     ]
    }
   ],
   "source": [
    "splitting = [0.6, 0.05, 0.05, 0.05, 0.05, 0.04, 0.04, 0.04, 0.04, 0.04]\n",
    "do_fl(splitting)"
   ],
   "metadata": {
    "collapsed": false,
    "ExecuteTime": {
     "end_time": "2023-08-31T20:16:07.757873600Z",
     "start_time": "2023-08-31T20:02:18.835270400Z"
    }
   }
  },
  {
   "cell_type": "code",
   "execution_count": 20,
   "outputs": [
    {
     "name": "stdout",
     "output_type": "stream",
     "text": [
      "Fold 1:\n",
      "x_test: cpu\n",
      "y_test: cpu\n"
     ]
    },
    {
     "name": "stderr",
     "output_type": "stream",
     "text": [
      "INFO flwr 2023-08-31 21:16:09,163 | app.py:145 | Starting Flower simulation, config: ServerConfig(num_rounds=25, round_timeout=None)\n"
     ]
    },
    {
     "name": "stdout",
     "output_type": "stream",
     "text": [
      "Client 0 trainset shape torch.Size([361890, 120])\n",
      "Client 1 trainset shape torch.Size([8972, 120])\n",
      "Client 2 trainset shape torch.Size([9020, 120])\n",
      "Client 3 trainset shape torch.Size([9010, 120])\n",
      "Client 4 trainset shape torch.Size([9074, 120])\n",
      "Client 5 trainset shape torch.Size([9090, 120])\n",
      "Client 6 trainset shape torch.Size([9078, 120])\n",
      "Client 7 trainset shape torch.Size([9022, 120])\n",
      "Client 8 trainset shape torch.Size([9044, 120])\n",
      "Client 9 trainset shape torch.Size([9062, 120])\n",
      "FL started training on cpu\n",
      "Number of available GPUs: 0\n"
     ]
    },
    {
     "name": "stderr",
     "output_type": "stream",
     "text": [
      "2023-08-31 21:16:17,971\tINFO worker.py:1627 -- Started a local Ray instance. View the dashboard at \u001B[1m\u001B[32m127.0.0.1:8268 \u001B[39m\u001B[22m\n",
      "INFO flwr 2023-08-31 21:16:22,968 | app.py:179 | Flower VCE: Ray initialized with resources: {'memory': 3027092276.0, 'object_store_memory': 1513546137.0, 'node:127.0.0.1': 1.0, 'CPU': 8.0, 'GPU': 1.0}\n",
      "INFO flwr 2023-08-31 21:16:22,969 | server.py:89 | Initializing global parameters\n",
      "INFO flwr 2023-08-31 21:16:22,970 | server.py:276 | Requesting initial parameters from one random client\n",
      "INFO flwr 2023-08-31 21:16:27,612 | server.py:280 | Received initial parameters from one random client\n",
      "INFO flwr 2023-08-31 21:16:27,613 | server.py:91 | Evaluating initial parameters\n",
      "INFO flwr 2023-08-31 21:16:27,614 | server.py:104 | FL starting\n",
      "DEBUG flwr 2023-08-31 21:16:27,615 | server.py:222 | fit_round 1: strategy sampled 5 clients (out of 10)\n",
      "DEBUG flwr 2023-08-31 21:17:19,387 | server.py:236 | fit_round 1 received 5 results and 0 failures\n",
      "WARNING flwr 2023-08-31 21:17:19,402 | fedavg.py:242 | No fit_metrics_aggregation_fn provided\n",
      "DEBUG flwr 2023-08-31 21:17:19,408 | server.py:173 | evaluate_round 1: strategy sampled 5 clients (out of 10)\n"
     ]
    },
    {
     "name": "stdout",
     "output_type": "stream",
     "text": [
      "agrregate_fit results list length is  5\n",
      "Saving round 1 aggregated_parameters...\n"
     ]
    },
    {
     "name": "stderr",
     "output_type": "stream",
     "text": [
      "DEBUG flwr 2023-08-31 21:17:23,078 | server.py:187 | evaluate_round 1 received 5 results and 0 failures\n",
      "DEBUG flwr 2023-08-31 21:17:23,080 | server.py:222 | fit_round 2: strategy sampled 5 clients (out of 10)\n"
     ]
    },
    {
     "name": "stdout",
     "output_type": "stream",
     "text": [
      "agrregate_evaluate results list length is  5\n",
      "server round is  1\n",
      "loss is  0.21046647429466248\n"
     ]
    },
    {
     "name": "stderr",
     "output_type": "stream",
     "text": [
      "DEBUG flwr 2023-08-31 21:18:13,774 | server.py:236 | fit_round 2 received 5 results and 0 failures\n",
      "DEBUG flwr 2023-08-31 21:18:13,795 | server.py:173 | evaluate_round 2: strategy sampled 5 clients (out of 10)\n"
     ]
    },
    {
     "name": "stdout",
     "output_type": "stream",
     "text": [
      "agrregate_fit results list length is  5\n",
      "Saving round 2 aggregated_parameters...\n"
     ]
    },
    {
     "name": "stderr",
     "output_type": "stream",
     "text": [
      "DEBUG flwr 2023-08-31 21:18:17,510 | server.py:187 | evaluate_round 2 received 5 results and 0 failures\n",
      "DEBUG flwr 2023-08-31 21:18:17,511 | server.py:222 | fit_round 3: strategy sampled 5 clients (out of 10)\n"
     ]
    },
    {
     "name": "stdout",
     "output_type": "stream",
     "text": [
      "agrregate_evaluate results list length is  5\n",
      "server round is  2\n",
      "loss is  0.20405693352222443\n"
     ]
    },
    {
     "name": "stderr",
     "output_type": "stream",
     "text": [
      "DEBUG flwr 2023-08-31 21:19:06,708 | server.py:236 | fit_round 3 received 5 results and 0 failures\n",
      "DEBUG flwr 2023-08-31 21:19:06,724 | server.py:173 | evaluate_round 3: strategy sampled 5 clients (out of 10)\n"
     ]
    },
    {
     "name": "stdout",
     "output_type": "stream",
     "text": [
      "agrregate_fit results list length is  5\n",
      "Saving round 3 aggregated_parameters...\n"
     ]
    },
    {
     "name": "stderr",
     "output_type": "stream",
     "text": [
      "DEBUG flwr 2023-08-31 21:19:10,916 | server.py:187 | evaluate_round 3 received 5 results and 0 failures\n",
      "DEBUG flwr 2023-08-31 21:19:10,917 | server.py:222 | fit_round 4: strategy sampled 5 clients (out of 10)\n"
     ]
    },
    {
     "name": "stdout",
     "output_type": "stream",
     "text": [
      "agrregate_evaluate results list length is  5\n",
      "server round is  3\n",
      "loss is  0.19925129413604736\n"
     ]
    },
    {
     "name": "stderr",
     "output_type": "stream",
     "text": [
      "DEBUG flwr 2023-08-31 21:19:17,740 | server.py:236 | fit_round 4 received 5 results and 0 failures\n",
      "DEBUG flwr 2023-08-31 21:19:17,761 | server.py:173 | evaluate_round 4: strategy sampled 5 clients (out of 10)\n"
     ]
    },
    {
     "name": "stdout",
     "output_type": "stream",
     "text": [
      "agrregate_fit results list length is  5\n",
      "Saving round 4 aggregated_parameters...\n"
     ]
    },
    {
     "name": "stderr",
     "output_type": "stream",
     "text": [
      "DEBUG flwr 2023-08-31 21:19:21,391 | server.py:187 | evaluate_round 4 received 5 results and 0 failures\n",
      "DEBUG flwr 2023-08-31 21:19:21,393 | server.py:222 | fit_round 5: strategy sampled 5 clients (out of 10)\n"
     ]
    },
    {
     "name": "stdout",
     "output_type": "stream",
     "text": [
      "agrregate_evaluate results list length is  5\n",
      "server round is  4\n",
      "loss is  0.20008715987205505\n"
     ]
    },
    {
     "name": "stderr",
     "output_type": "stream",
     "text": [
      "DEBUG flwr 2023-08-31 21:19:27,626 | server.py:236 | fit_round 5 received 5 results and 0 failures\n",
      "DEBUG flwr 2023-08-31 21:19:27,654 | server.py:173 | evaluate_round 5: strategy sampled 5 clients (out of 10)\n"
     ]
    },
    {
     "name": "stdout",
     "output_type": "stream",
     "text": [
      "agrregate_fit results list length is  5\n",
      "Saving round 5 aggregated_parameters...\n"
     ]
    },
    {
     "name": "stderr",
     "output_type": "stream",
     "text": [
      "DEBUG flwr 2023-08-31 21:19:30,867 | server.py:187 | evaluate_round 5 received 5 results and 0 failures\n",
      "DEBUG flwr 2023-08-31 21:19:30,868 | server.py:222 | fit_round 6: strategy sampled 5 clients (out of 10)\n"
     ]
    },
    {
     "name": "stdout",
     "output_type": "stream",
     "text": [
      "agrregate_evaluate results list length is  5\n",
      "server round is  5\n",
      "loss is  0.20019109547138214\n"
     ]
    },
    {
     "name": "stderr",
     "output_type": "stream",
     "text": [
      "DEBUG flwr 2023-08-31 21:20:18,477 | server.py:236 | fit_round 6 received 5 results and 0 failures\n",
      "DEBUG flwr 2023-08-31 21:20:18,494 | server.py:173 | evaluate_round 6: strategy sampled 5 clients (out of 10)\n"
     ]
    },
    {
     "name": "stdout",
     "output_type": "stream",
     "text": [
      "agrregate_fit results list length is  5\n",
      "Saving round 6 aggregated_parameters...\n"
     ]
    },
    {
     "name": "stderr",
     "output_type": "stream",
     "text": [
      "DEBUG flwr 2023-08-31 21:20:22,892 | server.py:187 | evaluate_round 6 received 5 results and 0 failures\n",
      "DEBUG flwr 2023-08-31 21:20:22,894 | server.py:222 | fit_round 7: strategy sampled 5 clients (out of 10)\n"
     ]
    },
    {
     "name": "stdout",
     "output_type": "stream",
     "text": [
      "agrregate_evaluate results list length is  5\n",
      "server round is  6\n",
      "loss is  0.20039187371730804\n"
     ]
    },
    {
     "name": "stderr",
     "output_type": "stream",
     "text": [
      "DEBUG flwr 2023-08-31 21:21:12,393 | server.py:236 | fit_round 7 received 5 results and 0 failures\n",
      "DEBUG flwr 2023-08-31 21:21:12,416 | server.py:173 | evaluate_round 7: strategy sampled 5 clients (out of 10)\n"
     ]
    },
    {
     "name": "stdout",
     "output_type": "stream",
     "text": [
      "agrregate_fit results list length is  5\n",
      "Saving round 7 aggregated_parameters...\n"
     ]
    },
    {
     "name": "stderr",
     "output_type": "stream",
     "text": [
      "DEBUG flwr 2023-08-31 21:21:16,551 | server.py:187 | evaluate_round 7 received 5 results and 0 failures\n",
      "DEBUG flwr 2023-08-31 21:21:16,552 | server.py:222 | fit_round 8: strategy sampled 5 clients (out of 10)\n"
     ]
    },
    {
     "name": "stdout",
     "output_type": "stream",
     "text": [
      "agrregate_evaluate results list length is  5\n",
      "server round is  7\n",
      "loss is  0.19767464697360992\n"
     ]
    },
    {
     "name": "stderr",
     "output_type": "stream",
     "text": [
      "DEBUG flwr 2023-08-31 21:22:05,603 | server.py:236 | fit_round 8 received 5 results and 0 failures\n",
      "DEBUG flwr 2023-08-31 21:22:05,622 | server.py:173 | evaluate_round 8: strategy sampled 5 clients (out of 10)\n"
     ]
    },
    {
     "name": "stdout",
     "output_type": "stream",
     "text": [
      "agrregate_fit results list length is  5\n",
      "Saving round 8 aggregated_parameters...\n"
     ]
    },
    {
     "name": "stderr",
     "output_type": "stream",
     "text": [
      "DEBUG flwr 2023-08-31 21:22:09,113 | server.py:187 | evaluate_round 8 received 5 results and 0 failures\n",
      "DEBUG flwr 2023-08-31 21:22:09,116 | server.py:222 | fit_round 9: strategy sampled 5 clients (out of 10)\n"
     ]
    },
    {
     "name": "stdout",
     "output_type": "stream",
     "text": [
      "agrregate_evaluate results list length is  5\n",
      "server round is  8\n",
      "loss is  0.196367084980011\n"
     ]
    },
    {
     "name": "stderr",
     "output_type": "stream",
     "text": [
      "DEBUG flwr 2023-08-31 21:23:02,552 | server.py:236 | fit_round 9 received 5 results and 0 failures\n",
      "DEBUG flwr 2023-08-31 21:23:02,576 | server.py:173 | evaluate_round 9: strategy sampled 5 clients (out of 10)\n"
     ]
    },
    {
     "name": "stdout",
     "output_type": "stream",
     "text": [
      "agrregate_fit results list length is  5\n",
      "Saving round 9 aggregated_parameters...\n"
     ]
    },
    {
     "name": "stderr",
     "output_type": "stream",
     "text": [
      "DEBUG flwr 2023-08-31 21:23:06,714 | server.py:187 | evaluate_round 9 received 5 results and 0 failures\n",
      "DEBUG flwr 2023-08-31 21:23:06,716 | server.py:222 | fit_round 10: strategy sampled 5 clients (out of 10)\n"
     ]
    },
    {
     "name": "stdout",
     "output_type": "stream",
     "text": [
      "agrregate_evaluate results list length is  5\n",
      "server round is  9\n",
      "loss is  0.2012336105108261\n"
     ]
    },
    {
     "name": "stderr",
     "output_type": "stream",
     "text": [
      "DEBUG flwr 2023-08-31 21:23:14,355 | server.py:236 | fit_round 10 received 5 results and 0 failures\n",
      "DEBUG flwr 2023-08-31 21:23:14,378 | server.py:173 | evaluate_round 10: strategy sampled 5 clients (out of 10)\n"
     ]
    },
    {
     "name": "stdout",
     "output_type": "stream",
     "text": [
      "agrregate_fit results list length is  5\n",
      "Saving round 10 aggregated_parameters...\n"
     ]
    },
    {
     "name": "stderr",
     "output_type": "stream",
     "text": [
      "DEBUG flwr 2023-08-31 21:23:18,201 | server.py:187 | evaluate_round 10 received 5 results and 0 failures\n",
      "DEBUG flwr 2023-08-31 21:23:18,202 | server.py:222 | fit_round 11: strategy sampled 5 clients (out of 10)\n"
     ]
    },
    {
     "name": "stdout",
     "output_type": "stream",
     "text": [
      "agrregate_evaluate results list length is  5\n",
      "server round is  10\n",
      "loss is  0.19961166381835938\n"
     ]
    },
    {
     "name": "stderr",
     "output_type": "stream",
     "text": [
      "DEBUG flwr 2023-08-31 21:24:30,352 | server.py:236 | fit_round 11 received 5 results and 0 failures\n",
      "DEBUG flwr 2023-08-31 21:24:30,373 | server.py:173 | evaluate_round 11: strategy sampled 5 clients (out of 10)\n"
     ]
    },
    {
     "name": "stdout",
     "output_type": "stream",
     "text": [
      "agrregate_fit results list length is  5\n",
      "Saving round 11 aggregated_parameters...\n"
     ]
    },
    {
     "name": "stderr",
     "output_type": "stream",
     "text": [
      "DEBUG flwr 2023-08-31 21:24:35,571 | server.py:187 | evaluate_round 11 received 5 results and 0 failures\n",
      "DEBUG flwr 2023-08-31 21:24:35,573 | server.py:222 | fit_round 12: strategy sampled 5 clients (out of 10)\n"
     ]
    },
    {
     "name": "stdout",
     "output_type": "stream",
     "text": [
      "agrregate_evaluate results list length is  5\n",
      "server round is  11\n",
      "loss is  0.19827638566493988\n"
     ]
    },
    {
     "name": "stderr",
     "output_type": "stream",
     "text": [
      "DEBUG flwr 2023-08-31 21:25:47,967 | server.py:236 | fit_round 12 received 5 results and 0 failures\n",
      "DEBUG flwr 2023-08-31 21:25:47,992 | server.py:173 | evaluate_round 12: strategy sampled 5 clients (out of 10)\n"
     ]
    },
    {
     "name": "stdout",
     "output_type": "stream",
     "text": [
      "agrregate_fit results list length is  5\n",
      "Saving round 12 aggregated_parameters...\n"
     ]
    },
    {
     "name": "stderr",
     "output_type": "stream",
     "text": [
      "DEBUG flwr 2023-08-31 21:25:58,842 | server.py:187 | evaluate_round 12 received 5 results and 0 failures\n",
      "DEBUG flwr 2023-08-31 21:25:58,844 | server.py:222 | fit_round 13: strategy sampled 5 clients (out of 10)\n"
     ]
    },
    {
     "name": "stdout",
     "output_type": "stream",
     "text": [
      "agrregate_evaluate results list length is  5\n",
      "server round is  12\n",
      "loss is  0.19694314897060394\n"
     ]
    },
    {
     "name": "stderr",
     "output_type": "stream",
     "text": [
      "DEBUG flwr 2023-08-31 21:27:03,535 | server.py:236 | fit_round 13 received 5 results and 0 failures\n",
      "DEBUG flwr 2023-08-31 21:27:03,568 | server.py:173 | evaluate_round 13: strategy sampled 5 clients (out of 10)\n"
     ]
    },
    {
     "name": "stdout",
     "output_type": "stream",
     "text": [
      "agrregate_fit results list length is  5\n",
      "Saving round 13 aggregated_parameters...\n"
     ]
    },
    {
     "name": "stderr",
     "output_type": "stream",
     "text": [
      "DEBUG flwr 2023-08-31 21:27:13,633 | server.py:187 | evaluate_round 13 received 5 results and 0 failures\n",
      "DEBUG flwr 2023-08-31 21:27:13,637 | server.py:222 | fit_round 14: strategy sampled 5 clients (out of 10)\n"
     ]
    },
    {
     "name": "stdout",
     "output_type": "stream",
     "text": [
      "agrregate_evaluate results list length is  5\n",
      "server round is  13\n",
      "loss is  0.1946459412574768\n"
     ]
    },
    {
     "name": "stderr",
     "output_type": "stream",
     "text": [
      "DEBUG flwr 2023-08-31 21:27:32,366 | server.py:236 | fit_round 14 received 5 results and 0 failures\n",
      "DEBUG flwr 2023-08-31 21:27:32,409 | server.py:173 | evaluate_round 14: strategy sampled 5 clients (out of 10)\n"
     ]
    },
    {
     "name": "stdout",
     "output_type": "stream",
     "text": [
      "agrregate_fit results list length is  5\n",
      "Saving round 14 aggregated_parameters...\n"
     ]
    },
    {
     "name": "stderr",
     "output_type": "stream",
     "text": [
      "DEBUG flwr 2023-08-31 21:27:39,138 | server.py:187 | evaluate_round 14 received 5 results and 0 failures\n",
      "DEBUG flwr 2023-08-31 21:27:39,143 | server.py:222 | fit_round 15: strategy sampled 5 clients (out of 10)\n"
     ]
    },
    {
     "name": "stdout",
     "output_type": "stream",
     "text": [
      "agrregate_evaluate results list length is  5\n",
      "server round is  14\n",
      "loss is  0.19735732674598694\n"
     ]
    },
    {
     "name": "stderr",
     "output_type": "stream",
     "text": [
      "DEBUG flwr 2023-08-31 21:27:49,082 | server.py:236 | fit_round 15 received 5 results and 0 failures\n",
      "DEBUG flwr 2023-08-31 21:27:49,123 | server.py:173 | evaluate_round 15: strategy sampled 5 clients (out of 10)\n"
     ]
    },
    {
     "name": "stdout",
     "output_type": "stream",
     "text": [
      "agrregate_fit results list length is  5\n",
      "Saving round 15 aggregated_parameters...\n"
     ]
    },
    {
     "name": "stderr",
     "output_type": "stream",
     "text": [
      "DEBUG flwr 2023-08-31 21:27:54,615 | server.py:187 | evaluate_round 15 received 5 results and 0 failures\n",
      "DEBUG flwr 2023-08-31 21:27:54,618 | server.py:222 | fit_round 16: strategy sampled 5 clients (out of 10)\n"
     ]
    },
    {
     "name": "stdout",
     "output_type": "stream",
     "text": [
      "agrregate_evaluate results list length is  5\n",
      "server round is  15\n",
      "loss is  0.19792796671390533\n"
     ]
    },
    {
     "name": "stderr",
     "output_type": "stream",
     "text": [
      "DEBUG flwr 2023-08-31 21:28:55,788 | server.py:236 | fit_round 16 received 5 results and 0 failures\n",
      "DEBUG flwr 2023-08-31 21:28:55,809 | server.py:173 | evaluate_round 16: strategy sampled 5 clients (out of 10)\n"
     ]
    },
    {
     "name": "stdout",
     "output_type": "stream",
     "text": [
      "agrregate_fit results list length is  5\n",
      "Saving round 16 aggregated_parameters...\n"
     ]
    },
    {
     "name": "stderr",
     "output_type": "stream",
     "text": [
      "DEBUG flwr 2023-08-31 21:29:01,867 | server.py:187 | evaluate_round 16 received 5 results and 0 failures\n",
      "DEBUG flwr 2023-08-31 21:29:01,869 | server.py:222 | fit_round 17: strategy sampled 5 clients (out of 10)\n"
     ]
    },
    {
     "name": "stdout",
     "output_type": "stream",
     "text": [
      "agrregate_evaluate results list length is  5\n",
      "server round is  16\n",
      "loss is  0.1970977485179901\n"
     ]
    },
    {
     "name": "stderr",
     "output_type": "stream",
     "text": [
      "DEBUG flwr 2023-08-31 21:29:08,582 | server.py:236 | fit_round 17 received 5 results and 0 failures\n",
      "DEBUG flwr 2023-08-31 21:29:08,600 | server.py:173 | evaluate_round 17: strategy sampled 5 clients (out of 10)\n"
     ]
    },
    {
     "name": "stdout",
     "output_type": "stream",
     "text": [
      "agrregate_fit results list length is  5\n",
      "Saving round 17 aggregated_parameters...\n"
     ]
    },
    {
     "name": "stderr",
     "output_type": "stream",
     "text": [
      "DEBUG flwr 2023-08-31 21:29:13,603 | server.py:187 | evaluate_round 17 received 5 results and 0 failures\n",
      "DEBUG flwr 2023-08-31 21:29:13,606 | server.py:222 | fit_round 18: strategy sampled 5 clients (out of 10)\n"
     ]
    },
    {
     "name": "stdout",
     "output_type": "stream",
     "text": [
      "agrregate_evaluate results list length is  5\n",
      "server round is  17\n",
      "loss is  0.19826658070087433\n"
     ]
    },
    {
     "name": "stderr",
     "output_type": "stream",
     "text": [
      "DEBUG flwr 2023-08-31 21:30:16,103 | server.py:236 | fit_round 18 received 5 results and 0 failures\n",
      "DEBUG flwr 2023-08-31 21:30:16,128 | server.py:173 | evaluate_round 18: strategy sampled 5 clients (out of 10)\n"
     ]
    },
    {
     "name": "stdout",
     "output_type": "stream",
     "text": [
      "agrregate_fit results list length is  5\n",
      "Saving round 18 aggregated_parameters...\n"
     ]
    },
    {
     "name": "stderr",
     "output_type": "stream",
     "text": [
      "DEBUG flwr 2023-08-31 21:30:19,965 | server.py:187 | evaluate_round 18 received 5 results and 0 failures\n",
      "DEBUG flwr 2023-08-31 21:30:19,967 | server.py:222 | fit_round 19: strategy sampled 5 clients (out of 10)\n"
     ]
    },
    {
     "name": "stdout",
     "output_type": "stream",
     "text": [
      "agrregate_evaluate results list length is  5\n",
      "server round is  18\n",
      "loss is  0.1944005787372589\n"
     ]
    },
    {
     "name": "stderr",
     "output_type": "stream",
     "text": [
      "DEBUG flwr 2023-08-31 21:31:21,479 | server.py:236 | fit_round 19 received 5 results and 0 failures\n",
      "DEBUG flwr 2023-08-31 21:31:21,496 | server.py:173 | evaluate_round 19: strategy sampled 5 clients (out of 10)\n"
     ]
    },
    {
     "name": "stdout",
     "output_type": "stream",
     "text": [
      "agrregate_fit results list length is  5\n",
      "Saving round 19 aggregated_parameters...\n"
     ]
    },
    {
     "name": "stderr",
     "output_type": "stream",
     "text": [
      "DEBUG flwr 2023-08-31 21:31:25,868 | server.py:187 | evaluate_round 19 received 5 results and 0 failures\n",
      "DEBUG flwr 2023-08-31 21:31:25,872 | server.py:222 | fit_round 20: strategy sampled 5 clients (out of 10)\n"
     ]
    },
    {
     "name": "stdout",
     "output_type": "stream",
     "text": [
      "agrregate_evaluate results list length is  5\n",
      "server round is  19\n",
      "loss is  0.19332990050315857\n"
     ]
    },
    {
     "name": "stderr",
     "output_type": "stream",
     "text": [
      "DEBUG flwr 2023-08-31 21:32:29,585 | server.py:236 | fit_round 20 received 5 results and 0 failures\n",
      "DEBUG flwr 2023-08-31 21:32:29,603 | server.py:173 | evaluate_round 20: strategy sampled 5 clients (out of 10)\n"
     ]
    },
    {
     "name": "stdout",
     "output_type": "stream",
     "text": [
      "agrregate_fit results list length is  5\n",
      "Saving round 20 aggregated_parameters...\n"
     ]
    },
    {
     "name": "stderr",
     "output_type": "stream",
     "text": [
      "DEBUG flwr 2023-08-31 21:32:34,360 | server.py:187 | evaluate_round 20 received 5 results and 0 failures\n",
      "DEBUG flwr 2023-08-31 21:32:34,363 | server.py:222 | fit_round 21: strategy sampled 5 clients (out of 10)\n"
     ]
    },
    {
     "name": "stdout",
     "output_type": "stream",
     "text": [
      "agrregate_evaluate results list length is  5\n",
      "server round is  20\n",
      "loss is  0.1965285688638687\n"
     ]
    },
    {
     "name": "stderr",
     "output_type": "stream",
     "text": [
      "DEBUG flwr 2023-08-31 21:33:47,800 | server.py:236 | fit_round 21 received 5 results and 0 failures\n",
      "DEBUG flwr 2023-08-31 21:33:47,819 | server.py:173 | evaluate_round 21: strategy sampled 5 clients (out of 10)\n"
     ]
    },
    {
     "name": "stdout",
     "output_type": "stream",
     "text": [
      "agrregate_fit results list length is  5\n",
      "Saving round 21 aggregated_parameters...\n"
     ]
    },
    {
     "name": "stderr",
     "output_type": "stream",
     "text": [
      "DEBUG flwr 2023-08-31 21:33:51,235 | server.py:187 | evaluate_round 21 received 5 results and 0 failures\n",
      "DEBUG flwr 2023-08-31 21:33:51,236 | server.py:222 | fit_round 22: strategy sampled 5 clients (out of 10)\n"
     ]
    },
    {
     "name": "stdout",
     "output_type": "stream",
     "text": [
      "agrregate_evaluate results list length is  5\n",
      "server round is  21\n",
      "loss is  0.1971183717250824\n"
     ]
    },
    {
     "name": "stderr",
     "output_type": "stream",
     "text": [
      "DEBUG flwr 2023-08-31 21:34:51,537 | server.py:236 | fit_round 22 received 5 results and 0 failures\n",
      "DEBUG flwr 2023-08-31 21:34:51,554 | server.py:173 | evaluate_round 22: strategy sampled 5 clients (out of 10)\n"
     ]
    },
    {
     "name": "stdout",
     "output_type": "stream",
     "text": [
      "agrregate_fit results list length is  5\n",
      "Saving round 22 aggregated_parameters...\n"
     ]
    },
    {
     "name": "stderr",
     "output_type": "stream",
     "text": [
      "DEBUG flwr 2023-08-31 21:34:54,981 | server.py:187 | evaluate_round 22 received 5 results and 0 failures\n",
      "DEBUG flwr 2023-08-31 21:34:54,984 | server.py:222 | fit_round 23: strategy sampled 5 clients (out of 10)\n"
     ]
    },
    {
     "name": "stdout",
     "output_type": "stream",
     "text": [
      "agrregate_evaluate results list length is  5\n",
      "server round is  22\n",
      "loss is  0.19417281448841095\n"
     ]
    },
    {
     "name": "stderr",
     "output_type": "stream",
     "text": [
      "DEBUG flwr 2023-08-31 21:35:02,148 | server.py:236 | fit_round 23 received 5 results and 0 failures\n",
      "DEBUG flwr 2023-08-31 21:35:02,166 | server.py:173 | evaluate_round 23: strategy sampled 5 clients (out of 10)\n"
     ]
    },
    {
     "name": "stdout",
     "output_type": "stream",
     "text": [
      "agrregate_fit results list length is  5\n",
      "Saving round 23 aggregated_parameters...\n"
     ]
    },
    {
     "name": "stderr",
     "output_type": "stream",
     "text": [
      "DEBUG flwr 2023-08-31 21:35:05,697 | server.py:187 | evaluate_round 23 received 5 results and 0 failures\n",
      "DEBUG flwr 2023-08-31 21:35:05,699 | server.py:222 | fit_round 24: strategy sampled 5 clients (out of 10)\n"
     ]
    },
    {
     "name": "stdout",
     "output_type": "stream",
     "text": [
      "agrregate_evaluate results list length is  5\n",
      "server round is  23\n",
      "loss is  0.19778898358345032\n"
     ]
    },
    {
     "name": "stderr",
     "output_type": "stream",
     "text": [
      "DEBUG flwr 2023-08-31 21:36:15,575 | server.py:236 | fit_round 24 received 5 results and 0 failures\n",
      "DEBUG flwr 2023-08-31 21:36:15,602 | server.py:173 | evaluate_round 24: strategy sampled 5 clients (out of 10)\n"
     ]
    },
    {
     "name": "stdout",
     "output_type": "stream",
     "text": [
      "agrregate_fit results list length is  5\n",
      "Saving round 24 aggregated_parameters...\n"
     ]
    },
    {
     "name": "stderr",
     "output_type": "stream",
     "text": [
      "DEBUG flwr 2023-08-31 21:36:19,638 | server.py:187 | evaluate_round 24 received 5 results and 0 failures\n",
      "DEBUG flwr 2023-08-31 21:36:19,640 | server.py:222 | fit_round 25: strategy sampled 5 clients (out of 10)\n"
     ]
    },
    {
     "name": "stdout",
     "output_type": "stream",
     "text": [
      "agrregate_evaluate results list length is  5\n",
      "server round is  24\n",
      "loss is  0.19690564274787903\n"
     ]
    },
    {
     "name": "stderr",
     "output_type": "stream",
     "text": [
      "DEBUG flwr 2023-08-31 21:37:15,514 | server.py:236 | fit_round 25 received 5 results and 0 failures\n",
      "DEBUG flwr 2023-08-31 21:37:15,530 | server.py:173 | evaluate_round 25: strategy sampled 5 clients (out of 10)\n"
     ]
    },
    {
     "name": "stdout",
     "output_type": "stream",
     "text": [
      "agrregate_fit results list length is  5\n",
      "Saving round 25 aggregated_parameters...\n"
     ]
    },
    {
     "name": "stderr",
     "output_type": "stream",
     "text": [
      "DEBUG flwr 2023-08-31 21:37:19,045 | server.py:187 | evaluate_round 25 received 5 results and 0 failures\n",
      "INFO flwr 2023-08-31 21:37:19,047 | server.py:153 | FL finished in 1251.4323288000014\n",
      "INFO flwr 2023-08-31 21:37:19,049 | app.py:225 | app_fit: losses_distributed [(1, 0.21046647429466248), (2, 0.20405693352222443), (3, 0.19925129413604736), (4, 0.20008715987205505), (5, 0.20019109547138214), (6, 0.20039187371730804), (7, 0.19767464697360992), (8, 0.196367084980011), (9, 0.2012336105108261), (10, 0.19961166381835938), (11, 0.19827638566493988), (12, 0.19694314897060394), (13, 0.1946459412574768), (14, 0.19735732674598694), (15, 0.19792796671390533), (16, 0.1970977485179901), (17, 0.19826658070087433), (18, 0.1944005787372589), (19, 0.19332990050315857), (20, 0.1965285688638687), (21, 0.1971183717250824), (22, 0.19417281448841095), (23, 0.19778898358345032), (24, 0.19690564274787903), (25, 0.1920037716627121)]\n",
      "INFO flwr 2023-08-31 21:37:19,050 | app.py:226 | app_fit: metrics_distributed_fit {}\n",
      "INFO flwr 2023-08-31 21:37:19,051 | app.py:227 | app_fit: metrics_distributed {'mse': [(1, 1.0523323714733124), (2, 1.0202846676111221), (3, 0.9962564706802368), (4, 1.0004357993602753), (5, 1.0009554773569107), (6, 1.0019593685865402), (7, 0.9883732348680496), (8, 0.9818354249000549), (9, 1.0061680525541306), (10, 0.9980583190917969), (11, 0.9913819283246994), (12, 0.9847157448530197), (13, 0.973229706287384), (14, 0.9867866337299347), (15, 0.9896398335695267), (16, 0.9854887425899506), (17, 0.9913329035043716), (18, 0.9720028936862946), (19, 0.9666495025157928), (20, 0.9826428443193436), (21, 0.985591858625412), (22, 0.9708640724420547), (23, 0.9889449179172516), (24, 0.9845282137393951), (25, 0.9600188583135605)]}\n",
      "INFO flwr 2023-08-31 21:37:19,052 | app.py:228 | app_fit: losses_centralized []\n",
      "INFO flwr 2023-08-31 21:37:19,055 | app.py:229 | app_fit: metrics_centralized {}\n"
     ]
    },
    {
     "name": "stdout",
     "output_type": "stream",
     "text": [
      "agrregate_evaluate results list length is  5\n",
      "server round is  25\n",
      "loss is  0.1920037716627121\n",
      "History (loss, distributed):\n",
      "\tround 1: 0.21046647429466248\n",
      "\tround 2: 0.20405693352222443\n",
      "\tround 3: 0.19925129413604736\n",
      "\tround 4: 0.20008715987205505\n",
      "\tround 5: 0.20019109547138214\n",
      "\tround 6: 0.20039187371730804\n",
      "\tround 7: 0.19767464697360992\n",
      "\tround 8: 0.196367084980011\n",
      "\tround 9: 0.2012336105108261\n",
      "\tround 10: 0.19961166381835938\n",
      "\tround 11: 0.19827638566493988\n",
      "\tround 12: 0.19694314897060394\n",
      "\tround 13: 0.1946459412574768\n",
      "\tround 14: 0.19735732674598694\n",
      "\tround 15: 0.19792796671390533\n",
      "\tround 16: 0.1970977485179901\n",
      "\tround 17: 0.19826658070087433\n",
      "\tround 18: 0.1944005787372589\n",
      "\tround 19: 0.19332990050315857\n",
      "\tround 20: 0.1965285688638687\n",
      "\tround 21: 0.1971183717250824\n",
      "\tround 22: 0.19417281448841095\n",
      "\tround 23: 0.19778898358345032\n",
      "\tround 24: 0.19690564274787903\n",
      "\tround 25: 0.1920037716627121\n",
      "History (metrics, distributed, evaluate):\n",
      "{'mse': [(1, 1.0523323714733124), (2, 1.0202846676111221), (3, 0.9962564706802368), (4, 1.0004357993602753), (5, 1.0009554773569107), (6, 1.0019593685865402), (7, 0.9883732348680496), (8, 0.9818354249000549), (9, 1.0061680525541306), (10, 0.9980583190917969), (11, 0.9913819283246994), (12, 0.9847157448530197), (13, 0.973229706287384), (14, 0.9867866337299347), (15, 0.9896398335695267), (16, 0.9854887425899506), (17, 0.9913329035043716), (18, 0.9720028936862946), (19, 0.9666495025157928), (20, 0.9826428443193436), (21, 0.985591858625412), (22, 0.9708640724420547), (23, 0.9889449179172516), (24, 0.9845282137393951), (25, 0.9600188583135605)]}\n",
      "[(1, 0.21046647429466248), (2, 0.20405693352222443), (3, 0.19925129413604736), (4, 0.20008715987205505), (5, 0.20019109547138214), (6, 0.20039187371730804), (7, 0.19767464697360992), (8, 0.196367084980011), (9, 0.2012336105108261), (10, 0.19961166381835938), (11, 0.19827638566493988), (12, 0.19694314897060394), (13, 0.1946459412574768), (14, 0.19735732674598694), (15, 0.19792796671390533), (16, 0.1970977485179901), (17, 0.19826658070087433), (18, 0.1944005787372589), (19, 0.19332990050315857), (20, 0.1965285688638687), (21, 0.1971183717250824), (22, 0.19417281448841095), (23, 0.19778898358345032), (24, 0.19690564274787903), (25, 0.1920037716627121)]\n",
      "Fold 2:\n",
      "splitting [0.8, 0.03, 0.03, 0.02, 0.02, 0.02, 0.02, 0.02, 0.02, 0.02]\n",
      "time 0:21:11.698634\n",
      "mse [0.19200377]\n",
      "auc [0.7482950001597727]\n"
     ]
    }
   ],
   "source": [
    "splitting = [0.8, 0.03, 0.03, 0.02, 0.02, 0.02, 0.02, 0.02, 0.02, 0.02]\n",
    "do_fl(splitting)"
   ],
   "metadata": {
    "collapsed": false,
    "ExecuteTime": {
     "end_time": "2023-08-31T20:37:19.419606800Z",
     "start_time": "2023-08-31T20:16:07.681082200Z"
    }
   }
  },
  {
   "cell_type": "code",
   "execution_count": null,
   "outputs": [],
   "source": [],
   "metadata": {
    "collapsed": false
   }
  }
 ],
 "metadata": {
  "kernelspec": {
   "display_name": "Python 3",
   "language": "python",
   "name": "python3"
  },
  "language_info": {
   "codemirror_mode": {
    "name": "ipython",
    "version": 2
   },
   "file_extension": ".py",
   "mimetype": "text/x-python",
   "name": "python",
   "nbconvert_exporter": "python",
   "pygments_lexer": "ipython2",
   "version": "2.7.6"
  }
 },
 "nbformat": 4,
 "nbformat_minor": 0
}
